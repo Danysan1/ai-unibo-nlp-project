{
  "cells": [
    {
      "cell_type": "markdown",
      "metadata": {
        "id": "JuFRCbwFV0i8"
      },
      "source": [
        "[![Open In Colab](https://colab.research.google.com/assets/colab-badge.svg)](https://colab.research.google.com/github/Danysan1/ai-unibo-nlp-project/blob/main/final/final.ipynb)\n",
        "[![Open in Kaggle](https://kaggle.com/static/images/open-in-kaggle.svg)](https://kaggle.com/kernels/welcome?src=https://github.com/Danysan1/ai-unibo-nlp-project/blob/main/final/final.ipynb)\n",
        "[![Open in SageMaker Studio Lab](https://studiolab.sagemaker.aws/studiolab.svg)](https://studiolab.sagemaker.aws/import/github/Danysan1/ai-unibo-nlp-project/tree/main/final/final.ipynb)"
      ]
    },
    {
      "cell_type": "markdown",
      "metadata": {
        "id": "dQ6HixirV0jA"
      },
      "source": [
        "# Final project"
      ]
    },
    {
      "cell_type": "markdown",
      "metadata": {
        "id": "ovb076-iV0jB"
      },
      "source": [
        "## Imports and Initial Settings"
      ]
    },
    {
      "cell_type": "code",
      "execution_count": 1,
      "metadata": {
        "colab": {
          "base_uri": "https://localhost:8080/"
        },
        "execution": {
          "iopub.execute_input": "2023-04-05T12:47:54.743227Z",
          "iopub.status.busy": "2023-04-05T12:47:54.742834Z",
          "iopub.status.idle": "2023-04-05T12:48:05.182985Z",
          "shell.execute_reply": "2023-04-05T12:48:05.181600Z",
          "shell.execute_reply.started": "2023-04-05T12:47:54.743192Z"
        },
        "id": "_PlPqLFZBcDd",
        "outputId": "6eb4a97d-9510-4f82-d05c-a5a0989d0f89",
        "trusted": true
      },
      "outputs": [
        {
          "output_type": "stream",
          "name": "stdout",
          "text": [
            "Looking in indexes: https://pypi.org/simple, https://us-python.pkg.dev/colab-wheels/public/simple/\n",
            "Requirement already satisfied: pandas in /usr/local/lib/python3.10/dist-packages (1.5.3)\n",
            "Requirement already satisfied: numpy in /usr/local/lib/python3.10/dist-packages (1.22.4)\n",
            "Requirement already satisfied: matplotlib in /usr/local/lib/python3.10/dist-packages (3.7.1)\n",
            "Collecting transformers==4.25.1\n",
            "  Downloading transformers-4.25.1-py3-none-any.whl (5.8 MB)\n",
            "\u001b[2K     \u001b[90m━━━━━━━━━━━━━━━━━━━━━━━━━━━━━━━━━━━━━━━━\u001b[0m \u001b[32m5.8/5.8 MB\u001b[0m \u001b[31m49.1 MB/s\u001b[0m eta \u001b[36m0:00:00\u001b[0m\n",
            "\u001b[?25hCollecting dataset\n",
            "  Downloading dataset-1.6.0-py2.py3-none-any.whl (18 kB)\n",
            "Requirement already satisfied: regex!=2019.12.17 in /usr/local/lib/python3.10/dist-packages (from transformers==4.25.1) (2022.10.31)\n",
            "Collecting huggingface-hub<1.0,>=0.10.0\n",
            "  Downloading huggingface_hub-0.14.1-py3-none-any.whl (224 kB)\n",
            "\u001b[2K     \u001b[90m━━━━━━━━━━━━━━━━━━━━━━━━━━━━━━━━━━━━━━\u001b[0m \u001b[32m224.5/224.5 kB\u001b[0m \u001b[31m14.1 MB/s\u001b[0m eta \u001b[36m0:00:00\u001b[0m\n",
            "\u001b[?25hRequirement already satisfied: pyyaml>=5.1 in /usr/local/lib/python3.10/dist-packages (from transformers==4.25.1) (6.0)\n",
            "Collecting tokenizers!=0.11.3,<0.14,>=0.11.1\n",
            "  Downloading tokenizers-0.13.3-cp310-cp310-manylinux_2_17_x86_64.manylinux2014_x86_64.whl (7.8 MB)\n",
            "\u001b[2K     \u001b[90m━━━━━━━━━━━━━━━━━━━━━━━━━━━━━━━━━━━━━━━━\u001b[0m \u001b[32m7.8/7.8 MB\u001b[0m \u001b[31m67.8 MB/s\u001b[0m eta \u001b[36m0:00:00\u001b[0m\n",
            "\u001b[?25hRequirement already satisfied: filelock in /usr/local/lib/python3.10/dist-packages (from transformers==4.25.1) (3.12.0)\n",
            "Requirement already satisfied: packaging>=20.0 in /usr/local/lib/python3.10/dist-packages (from transformers==4.25.1) (23.1)\n",
            "Requirement already satisfied: requests in /usr/local/lib/python3.10/dist-packages (from transformers==4.25.1) (2.27.1)\n",
            "Requirement already satisfied: tqdm>=4.27 in /usr/local/lib/python3.10/dist-packages (from transformers==4.25.1) (4.65.0)\n",
            "Requirement already satisfied: python-dateutil>=2.8.1 in /usr/local/lib/python3.10/dist-packages (from pandas) (2.8.2)\n",
            "Requirement already satisfied: pytz>=2020.1 in /usr/local/lib/python3.10/dist-packages (from pandas) (2022.7.1)\n",
            "Requirement already satisfied: pillow>=6.2.0 in /usr/local/lib/python3.10/dist-packages (from matplotlib) (8.4.0)\n",
            "Requirement already satisfied: kiwisolver>=1.0.1 in /usr/local/lib/python3.10/dist-packages (from matplotlib) (1.4.4)\n",
            "Requirement already satisfied: cycler>=0.10 in /usr/local/lib/python3.10/dist-packages (from matplotlib) (0.11.0)\n",
            "Requirement already satisfied: pyparsing>=2.3.1 in /usr/local/lib/python3.10/dist-packages (from matplotlib) (3.0.9)\n",
            "Requirement already satisfied: contourpy>=1.0.1 in /usr/local/lib/python3.10/dist-packages (from matplotlib) (1.0.7)\n",
            "Requirement already satisfied: fonttools>=4.22.0 in /usr/local/lib/python3.10/dist-packages (from matplotlib) (4.39.3)\n",
            "Collecting sqlalchemy<2.0.0,>=1.3.2\n",
            "  Downloading SQLAlchemy-1.4.48-cp310-cp310-manylinux_2_5_x86_64.manylinux1_x86_64.manylinux_2_17_x86_64.manylinux2014_x86_64.whl (1.6 MB)\n",
            "\u001b[2K     \u001b[90m━━━━━━━━━━━━━━━━━━━━━━━━━━━━━━━━━━━━━━━━\u001b[0m \u001b[32m1.6/1.6 MB\u001b[0m \u001b[31m42.0 MB/s\u001b[0m eta \u001b[36m0:00:00\u001b[0m\n",
            "\u001b[?25hCollecting banal>=1.0.1\n",
            "  Downloading banal-1.0.6-py2.py3-none-any.whl (6.1 kB)\n",
            "Collecting alembic>=0.6.2\n",
            "  Downloading alembic-1.10.4-py3-none-any.whl (212 kB)\n",
            "\u001b[2K     \u001b[90m━━━━━━━━━━━━━━━━━━━━━━━━━━━━━━━━━━━━━━\u001b[0m \u001b[32m212.9/212.9 kB\u001b[0m \u001b[31m17.3 MB/s\u001b[0m eta \u001b[36m0:00:00\u001b[0m\n",
            "\u001b[?25hCollecting Mako\n",
            "  Downloading Mako-1.2.4-py3-none-any.whl (78 kB)\n",
            "\u001b[2K     \u001b[90m━━━━━━━━━━━━━━━━━━━━━━━━━━━━━━━━━━━━━━━━\u001b[0m \u001b[32m78.7/78.7 kB\u001b[0m \u001b[31m6.2 MB/s\u001b[0m eta \u001b[36m0:00:00\u001b[0m\n",
            "\u001b[?25hRequirement already satisfied: typing-extensions>=4 in /usr/local/lib/python3.10/dist-packages (from alembic>=0.6.2->dataset) (4.5.0)\n",
            "Requirement already satisfied: fsspec in /usr/local/lib/python3.10/dist-packages (from huggingface-hub<1.0,>=0.10.0->transformers==4.25.1) (2023.4.0)\n",
            "Requirement already satisfied: six>=1.5 in /usr/local/lib/python3.10/dist-packages (from python-dateutil>=2.8.1->pandas) (1.16.0)\n",
            "Requirement already satisfied: greenlet!=0.4.17 in /usr/local/lib/python3.10/dist-packages (from sqlalchemy<2.0.0,>=1.3.2->dataset) (2.0.2)\n",
            "Requirement already satisfied: idna<4,>=2.5 in /usr/local/lib/python3.10/dist-packages (from requests->transformers==4.25.1) (3.4)\n",
            "Requirement already satisfied: certifi>=2017.4.17 in /usr/local/lib/python3.10/dist-packages (from requests->transformers==4.25.1) (2022.12.7)\n",
            "Requirement already satisfied: charset-normalizer~=2.0.0 in /usr/local/lib/python3.10/dist-packages (from requests->transformers==4.25.1) (2.0.12)\n",
            "Requirement already satisfied: urllib3<1.27,>=1.21.1 in /usr/local/lib/python3.10/dist-packages (from requests->transformers==4.25.1) (1.26.15)\n",
            "Requirement already satisfied: MarkupSafe>=0.9.2 in /usr/local/lib/python3.10/dist-packages (from Mako->alembic>=0.6.2->dataset) (2.1.2)\n",
            "Installing collected packages: tokenizers, banal, sqlalchemy, Mako, huggingface-hub, alembic, transformers, dataset\n",
            "  Attempting uninstall: sqlalchemy\n",
            "    Found existing installation: SQLAlchemy 2.0.10\n",
            "    Uninstalling SQLAlchemy-2.0.10:\n",
            "      Successfully uninstalled SQLAlchemy-2.0.10\n",
            "Successfully installed Mako-1.2.4 alembic-1.10.4 banal-1.0.6 dataset-1.6.0 huggingface-hub-0.14.1 sqlalchemy-1.4.48 tokenizers-0.13.3 transformers-4.25.1\n"
          ]
        }
      ],
      "source": [
        "%pip install pandas numpy matplotlib transformers==4.25.1  dataset"
      ]
    },
    {
      "cell_type": "code",
      "execution_count": 2,
      "metadata": {
        "execution": {
          "iopub.execute_input": "2023-04-05T12:48:05.186343Z",
          "iopub.status.busy": "2023-04-05T12:48:05.185842Z",
          "iopub.status.idle": "2023-04-05T12:48:05.193500Z",
          "shell.execute_reply": "2023-04-05T12:48:05.192383Z",
          "shell.execute_reply.started": "2023-04-05T12:48:05.186289Z"
        },
        "id": "A6z0BD01Bhf4",
        "trusted": true
      },
      "outputs": [],
      "source": [
        "import numpy as np\n",
        "import pandas as pd\n",
        "import seaborn as sns\n",
        "import json\n",
        "from os import path\n",
        "from matplotlib import pyplot as plt\n",
        "import random\n",
        "import gc\n",
        "import torch\n",
        "import transformers\n",
        "from tqdm import tqdm\n",
        "from typing import Callable, Dict, List, Tuple\n",
        "from timeit import default_timer as timer\n",
        "from transformers import EncoderDecoderModel, AutoTokenizer, PreTrainedTokenizer, BatchEncoding\n",
        "from torch.utils.data import Dataset, DataLoader, SubsetRandomSampler"
      ]
    },
    {
      "cell_type": "code",
      "execution_count": 3,
      "metadata": {
        "execution": {
          "iopub.execute_input": "2023-04-05T12:48:05.196005Z",
          "iopub.status.busy": "2023-04-05T12:48:05.194645Z",
          "iopub.status.idle": "2023-04-05T12:48:05.207060Z",
          "shell.execute_reply": "2023-04-05T12:48:05.205872Z",
          "shell.execute_reply.started": "2023-04-05T12:48:05.195961Z"
        },
        "id": "VMl-V2OfV0jB",
        "trusted": true
      },
      "outputs": [],
      "source": [
        "# Fix the random state to 42\n",
        "SEED = 42\n",
        "\n",
        "# Define the labels for the target\n",
        "labels = ['Self-direction: thought', 'Self-direction: action', 'Stimulation',\n",
        "       'Hedonism', 'Achievement', 'Power: dominance', 'Power: resources',\n",
        "       'Face', 'Security: personal', 'Security: societal', 'Tradition',\n",
        "       'Conformity: rules', 'Conformity: interpersonal', 'Humility',\n",
        "       'Benevolence: caring', 'Benevolence: dependability',\n",
        "       'Universalism: concern', 'Universalism: nature',\n",
        "       'Universalism: tolerance', 'Universalism: objectivity']\n",
        "\n",
        "# if a different set of labels is needed, decomment the next lines and select a different subset of labels,\n",
        "# but always use the variable 'labels' since all the code will use that. If you want to select\n",
        "# the full set of labels, just comment the next two lines\n",
        "\n",
        "#suggested_labels = ['Self-direction: action', 'Achievement', 'Security: personal', 'Security: societal', 'Benevolence: caring', 'Universalism: concern']\n",
        "#labels = suggested_labels"
      ]
    },
    {
      "cell_type": "code",
      "execution_count": 4,
      "metadata": {
        "execution": {
          "iopub.execute_input": "2023-04-05T12:48:05.210880Z",
          "iopub.status.busy": "2023-04-05T12:48:05.210276Z",
          "iopub.status.idle": "2023-04-05T12:48:05.220301Z",
          "shell.execute_reply": "2023-04-05T12:48:05.219315Z",
          "shell.execute_reply.started": "2023-04-05T12:48:05.210842Z"
        },
        "id": "-WcnwSedV0jD",
        "trusted": true
      },
      "outputs": [],
      "source": [
        "def fix_seed(seed: int) -> None:\n",
        "    \"\"\"Fix all the possible sources of randomness.\n",
        "\n",
        "    Args:\n",
        "        seed: the seed to use. \n",
        "    \"\"\"\n",
        "    np.random.seed(seed)\n",
        "    random.seed(seed)\n",
        "    torch.manual_seed(seed)\n",
        "    torch.cuda.manual_seed(seed)\n",
        "    \n",
        "    torch.backends.cudnn.benchmark = False\n",
        "    torch.backends.cudnn.deterministic = True\n",
        "\n",
        "fix_seed(SEED)"
      ]
    },
    {
      "cell_type": "markdown",
      "metadata": {
        "id": "i8gHOumMV0jE"
      },
      "source": [
        "## Dataset Download"
      ]
    },
    {
      "cell_type": "code",
      "execution_count": 5,
      "metadata": {
        "execution": {
          "iopub.execute_input": "2023-04-05T12:48:05.223977Z",
          "iopub.status.busy": "2023-04-05T12:48:05.223055Z",
          "iopub.status.idle": "2023-04-05T12:48:05.234000Z",
          "shell.execute_reply": "2023-04-05T12:48:05.233045Z",
          "shell.execute_reply.started": "2023-04-05T12:48:05.223940Z"
        },
        "id": "h49X-g3eV0jE",
        "trusted": true
      },
      "outputs": [],
      "source": [
        "import os\n",
        "import urllib.request\n",
        "from tqdm import tqdm\n",
        "\n",
        "class DownloadProgressBar(tqdm):\n",
        "    def update_to(self, b=1, bsize=1, tsize=None):\n",
        "        if tsize is not None:\n",
        "            self.total = tsize\n",
        "        self.update(b * bsize - self.n)\n",
        "        \n",
        "def download_url(url, output_path):\n",
        "    with DownloadProgressBar(unit='B', unit_scale=True,\n",
        "                             miniters=1, desc=url.split('/')[-1]) as t:\n",
        "        urllib.request.urlretrieve(url, filename=output_path, reporthook=t.update_to)\n",
        "\n",
        "def download_data(data_path, url_path, suffix):    \n",
        "    if not os.path.exists(data_path):\n",
        "        os.makedirs(data_path)\n",
        "        \n",
        "    data_path = os.path.join(data_path, f'{suffix}.tsv')\n",
        "    if not os.path.exists(data_path):\n",
        "        print(f\"Downloading Touché23-ValueEval {suffix} data... (it may take a while)\")\n",
        "        download_url(url=url_path, output_path=data_path)\n",
        "        print(\"Download completed!\")"
      ]
    },
    {
      "cell_type": "code",
      "execution_count": 6,
      "metadata": {
        "execution": {
          "iopub.execute_input": "2023-04-05T12:48:05.237025Z",
          "iopub.status.busy": "2023-04-05T12:48:05.236006Z",
          "iopub.status.idle": "2023-04-05T12:48:05.245826Z",
          "shell.execute_reply": "2023-04-05T12:48:05.244644Z",
          "shell.execute_reply.started": "2023-04-05T12:48:05.236896Z"
        },
        "id": "izIZxG3CV0jF",
        "trusted": true
      },
      "outputs": [],
      "source": [
        "data_folder = 'Dataset'"
      ]
    },
    {
      "cell_type": "code",
      "execution_count": 7,
      "metadata": {
        "execution": {
          "iopub.execute_input": "2023-04-05T12:48:05.249666Z",
          "iopub.status.busy": "2023-04-05T12:48:05.249411Z",
          "iopub.status.idle": "2023-04-05T12:48:05.258470Z",
          "shell.execute_reply": "2023-04-05T12:48:05.257380Z",
          "shell.execute_reply.started": "2023-04-05T12:48:05.249641Z"
        },
        "id": "ohVXXdwMV0jG",
        "trusted": true
      },
      "outputs": [],
      "source": [
        "# Training data\n",
        "training = {'suffix': 'arguments-training', 'url': \"https://zenodo.org/record/7550385/files/arguments-training.tsv?download=1\"}\n",
        "labels_training = {'suffix': 'labels-training', 'url': \"https://zenodo.org/record/7550385/files/labels-training.tsv?download=1\"}\n",
        "level1_labels_training = {'suffix': 'level1-labels-training', 'url': \"https://zenodo.org/record/7550385/files/level1-labels-training.tsv?download=1\"}\n",
        "\n",
        "# Validation data\n",
        "validation = {'suffix': 'arguments-validation', 'url': \"https://zenodo.org/record/7550385/files/arguments-validation.tsv?download=1\"}\n",
        "labels_validation = {'suffix': 'labels-validation', 'url': \"https://zenodo.org/record/7550385/files/labels-validation.tsv?download=1\"}\n",
        "level1_labels_validation = {'suffix': 'level1-labels-validation', 'url': \"https://zenodo.org/record/7550385/files/level1-labels-validation.tsv?download=1\"}\n",
        "\n",
        "# Test data\n",
        "test = {'suffix': 'arguments-test', 'url': \"https://zenodo.org/record/7550385/files/arguments-test.tsv?download=1\"}\n",
        "\n",
        "to_download = [training, \n",
        "                labels_training,\n",
        "                validation,\n",
        "                labels_validation]"
      ]
    },
    {
      "cell_type": "code",
      "execution_count": 8,
      "metadata": {
        "execution": {
          "iopub.execute_input": "2023-04-05T12:48:05.262292Z",
          "iopub.status.busy": "2023-04-05T12:48:05.260960Z",
          "iopub.status.idle": "2023-04-05T12:48:05.271484Z",
          "shell.execute_reply": "2023-04-05T12:48:05.270320Z",
          "shell.execute_reply.started": "2023-04-05T12:48:05.262256Z"
        },
        "id": "4z5Tl-DLV0jG",
        "trusted": true,
        "outputId": "6b39270a-9eaf-4d2a-b54e-d16cab96ea31",
        "colab": {
          "base_uri": "https://localhost:8080/"
        }
      },
      "outputs": [
        {
          "output_type": "stream",
          "name": "stdout",
          "text": [
            "Downloading Touché23-ValueEval arguments-training data... (it may take a while)\n"
          ]
        },
        {
          "output_type": "stream",
          "name": "stderr",
          "text": [
            "arguments-training.tsv?download=1: 1.02MB [00:04, 254kB/s]                           \n"
          ]
        },
        {
          "output_type": "stream",
          "name": "stdout",
          "text": [
            "Download completed!\n",
            "Downloading Touché23-ValueEval labels-training data... (it may take a while)\n"
          ]
        },
        {
          "output_type": "stream",
          "name": "stderr",
          "text": [
            "labels-training.tsv?download=1: 254kB [00:01, 138kB/s]                           \n"
          ]
        },
        {
          "output_type": "stream",
          "name": "stdout",
          "text": [
            "Download completed!\n",
            "Downloading Touché23-ValueEval arguments-validation data... (it may take a while)\n"
          ]
        },
        {
          "output_type": "stream",
          "name": "stderr",
          "text": [
            "arguments-validation.tsv?download=1: 369kB [00:02, 146kB/s]                           \n"
          ]
        },
        {
          "output_type": "stream",
          "name": "stdout",
          "text": [
            "Download completed!\n",
            "Downloading Touché23-ValueEval labels-validation data... (it may take a while)\n"
          ]
        },
        {
          "output_type": "stream",
          "name": "stderr",
          "text": [
            "labels-validation.tsv?download=1: 90.1kB [00:01, 61.0kB/s]                            "
          ]
        },
        {
          "output_type": "stream",
          "name": "stdout",
          "text": [
            "Download completed!\n"
          ]
        },
        {
          "output_type": "stream",
          "name": "stderr",
          "text": [
            "\n"
          ]
        }
      ],
      "source": [
        "for data in to_download:\n",
        "    download_data(data_path=data_folder, url_path=data['url'], suffix=data['suffix'])"
      ]
    },
    {
      "cell_type": "markdown",
      "metadata": {
        "id": "Ge3i4MzcV0jH"
      },
      "source": [
        "## Dataset Loading"
      ]
    },
    {
      "cell_type": "code",
      "execution_count": 9,
      "metadata": {
        "execution": {
          "iopub.execute_input": "2023-04-05T12:48:05.272954Z",
          "iopub.status.busy": "2023-04-05T12:48:05.272666Z",
          "iopub.status.idle": "2023-04-05T12:48:05.282516Z",
          "shell.execute_reply": "2023-04-05T12:48:05.281543Z",
          "shell.execute_reply.started": "2023-04-05T12:48:05.272928Z"
        },
        "id": "MeRcgnfHV0jH",
        "trusted": true
      },
      "outputs": [],
      "source": [
        "def load_touche_dataset(filename:str) -> pd.DataFrame:\n",
        "    with open(path.join(data_folder, filename)) as file_obj:\n",
        "        data = pd.read_csv(path.join(data_folder, filename), sep='\\t', header=0, index_col='Argument ID')\n",
        "        return data"
      ]
    },
    {
      "cell_type": "code",
      "execution_count": 10,
      "metadata": {
        "execution": {
          "iopub.execute_input": "2023-04-05T12:48:05.288013Z",
          "iopub.status.busy": "2023-04-05T12:48:05.287701Z",
          "iopub.status.idle": "2023-04-05T12:48:05.296123Z",
          "shell.execute_reply": "2023-04-05T12:48:05.294950Z",
          "shell.execute_reply.started": "2023-04-05T12:48:05.287966Z"
        },
        "id": "TTsYMJI5V0jH",
        "trusted": true
      },
      "outputs": [],
      "source": [
        "def filter_labels(labels_df:pd.DataFrame, subset:pd.Series) -> pd.DataFrame:\n",
        "    \"\"\"\n",
        "        Given a DataFrame of labels (e.g. from labels-training.tsv), this method drops all the columns not contained in the subset list \n",
        "    \"\"\"\n",
        "    m = labels_df[subset].mask(labels_df[subset] == 0).dropna(how='all').replace(np.NaN, 0)\n",
        "    return pd.DataFrame(m, dtype=int)\n",
        "\n",
        "def filter_indexes(data_df:pd.DataFrame, subset:pd.Series) -> pd.DataFrame:\n",
        "    \"\"\"\n",
        "        Given a DataFrame of arguments (e.g. from arguments-training.tsv), this method drops all the rows with indexes not contained in the subset list.\n",
        "        This method is useful after a labels DataFrame has been filtered, because it removes rows that couldn't be classificated\n",
        "    \"\"\"\n",
        "    return data_df.filter(subset, axis='index')"
      ]
    },
    {
      "cell_type": "code",
      "execution_count": 11,
      "metadata": {
        "colab": {
          "base_uri": "https://localhost:8080/",
          "height": 238
        },
        "execution": {
          "iopub.execute_input": "2023-04-05T12:48:05.298437Z",
          "iopub.status.busy": "2023-04-05T12:48:05.297886Z",
          "iopub.status.idle": "2023-04-05T12:48:05.391629Z",
          "shell.execute_reply": "2023-04-05T12:48:05.390228Z",
          "shell.execute_reply.started": "2023-04-05T12:48:05.298401Z"
        },
        "id": "P-7F96TaV0jH",
        "outputId": "23ab74f1-dd98-4345-bb73-6f37e6b9ebaf",
        "trusted": true
      },
      "outputs": [
        {
          "output_type": "execute_result",
          "data": {
            "text/plain": [
              "                                              Conclusion       Stance  \\\n",
              "Argument ID                                                             \n",
              "A01002                       We should ban human cloning  in favor of   \n",
              "A01005                           We should ban fast food  in favor of   \n",
              "A01006       We should end the use of economic sanctions      against   \n",
              "A01007              We should abolish capital punishment      against   \n",
              "A01008                     We should ban factory farming      against   \n",
              "\n",
              "                                                       Premise  \n",
              "Argument ID                                                     \n",
              "A01002       we should ban human cloning as it will only ca...  \n",
              "A01005       fast food should be banned because it is reall...  \n",
              "A01006       sometimes economic sanctions are the only thin...  \n",
              "A01007       capital punishment is sometimes the only optio...  \n",
              "A01008       factory farming allows for the production of c...  "
            ],
            "text/html": [
              "\n",
              "  <div id=\"df-2ff5c516-4412-43d3-a7f1-62cc11baf8bc\">\n",
              "    <div class=\"colab-df-container\">\n",
              "      <div>\n",
              "<style scoped>\n",
              "    .dataframe tbody tr th:only-of-type {\n",
              "        vertical-align: middle;\n",
              "    }\n",
              "\n",
              "    .dataframe tbody tr th {\n",
              "        vertical-align: top;\n",
              "    }\n",
              "\n",
              "    .dataframe thead th {\n",
              "        text-align: right;\n",
              "    }\n",
              "</style>\n",
              "<table border=\"1\" class=\"dataframe\">\n",
              "  <thead>\n",
              "    <tr style=\"text-align: right;\">\n",
              "      <th></th>\n",
              "      <th>Conclusion</th>\n",
              "      <th>Stance</th>\n",
              "      <th>Premise</th>\n",
              "    </tr>\n",
              "    <tr>\n",
              "      <th>Argument ID</th>\n",
              "      <th></th>\n",
              "      <th></th>\n",
              "      <th></th>\n",
              "    </tr>\n",
              "  </thead>\n",
              "  <tbody>\n",
              "    <tr>\n",
              "      <th>A01002</th>\n",
              "      <td>We should ban human cloning</td>\n",
              "      <td>in favor of</td>\n",
              "      <td>we should ban human cloning as it will only ca...</td>\n",
              "    </tr>\n",
              "    <tr>\n",
              "      <th>A01005</th>\n",
              "      <td>We should ban fast food</td>\n",
              "      <td>in favor of</td>\n",
              "      <td>fast food should be banned because it is reall...</td>\n",
              "    </tr>\n",
              "    <tr>\n",
              "      <th>A01006</th>\n",
              "      <td>We should end the use of economic sanctions</td>\n",
              "      <td>against</td>\n",
              "      <td>sometimes economic sanctions are the only thin...</td>\n",
              "    </tr>\n",
              "    <tr>\n",
              "      <th>A01007</th>\n",
              "      <td>We should abolish capital punishment</td>\n",
              "      <td>against</td>\n",
              "      <td>capital punishment is sometimes the only optio...</td>\n",
              "    </tr>\n",
              "    <tr>\n",
              "      <th>A01008</th>\n",
              "      <td>We should ban factory farming</td>\n",
              "      <td>against</td>\n",
              "      <td>factory farming allows for the production of c...</td>\n",
              "    </tr>\n",
              "  </tbody>\n",
              "</table>\n",
              "</div>\n",
              "      <button class=\"colab-df-convert\" onclick=\"convertToInteractive('df-2ff5c516-4412-43d3-a7f1-62cc11baf8bc')\"\n",
              "              title=\"Convert this dataframe to an interactive table.\"\n",
              "              style=\"display:none;\">\n",
              "        \n",
              "  <svg xmlns=\"http://www.w3.org/2000/svg\" height=\"24px\"viewBox=\"0 0 24 24\"\n",
              "       width=\"24px\">\n",
              "    <path d=\"M0 0h24v24H0V0z\" fill=\"none\"/>\n",
              "    <path d=\"M18.56 5.44l.94 2.06.94-2.06 2.06-.94-2.06-.94-.94-2.06-.94 2.06-2.06.94zm-11 1L8.5 8.5l.94-2.06 2.06-.94-2.06-.94L8.5 2.5l-.94 2.06-2.06.94zm10 10l.94 2.06.94-2.06 2.06-.94-2.06-.94-.94-2.06-.94 2.06-2.06.94z\"/><path d=\"M17.41 7.96l-1.37-1.37c-.4-.4-.92-.59-1.43-.59-.52 0-1.04.2-1.43.59L10.3 9.45l-7.72 7.72c-.78.78-.78 2.05 0 2.83L4 21.41c.39.39.9.59 1.41.59.51 0 1.02-.2 1.41-.59l7.78-7.78 2.81-2.81c.8-.78.8-2.07 0-2.86zM5.41 20L4 18.59l7.72-7.72 1.47 1.35L5.41 20z\"/>\n",
              "  </svg>\n",
              "      </button>\n",
              "      \n",
              "  <style>\n",
              "    .colab-df-container {\n",
              "      display:flex;\n",
              "      flex-wrap:wrap;\n",
              "      gap: 12px;\n",
              "    }\n",
              "\n",
              "    .colab-df-convert {\n",
              "      background-color: #E8F0FE;\n",
              "      border: none;\n",
              "      border-radius: 50%;\n",
              "      cursor: pointer;\n",
              "      display: none;\n",
              "      fill: #1967D2;\n",
              "      height: 32px;\n",
              "      padding: 0 0 0 0;\n",
              "      width: 32px;\n",
              "    }\n",
              "\n",
              "    .colab-df-convert:hover {\n",
              "      background-color: #E2EBFA;\n",
              "      box-shadow: 0px 1px 2px rgba(60, 64, 67, 0.3), 0px 1px 3px 1px rgba(60, 64, 67, 0.15);\n",
              "      fill: #174EA6;\n",
              "    }\n",
              "\n",
              "    [theme=dark] .colab-df-convert {\n",
              "      background-color: #3B4455;\n",
              "      fill: #D2E3FC;\n",
              "    }\n",
              "\n",
              "    [theme=dark] .colab-df-convert:hover {\n",
              "      background-color: #434B5C;\n",
              "      box-shadow: 0px 1px 3px 1px rgba(0, 0, 0, 0.15);\n",
              "      filter: drop-shadow(0px 1px 2px rgba(0, 0, 0, 0.3));\n",
              "      fill: #FFFFFF;\n",
              "    }\n",
              "  </style>\n",
              "\n",
              "      <script>\n",
              "        const buttonEl =\n",
              "          document.querySelector('#df-2ff5c516-4412-43d3-a7f1-62cc11baf8bc button.colab-df-convert');\n",
              "        buttonEl.style.display =\n",
              "          google.colab.kernel.accessAllowed ? 'block' : 'none';\n",
              "\n",
              "        async function convertToInteractive(key) {\n",
              "          const element = document.querySelector('#df-2ff5c516-4412-43d3-a7f1-62cc11baf8bc');\n",
              "          const dataTable =\n",
              "            await google.colab.kernel.invokeFunction('convertToInteractive',\n",
              "                                                     [key], {});\n",
              "          if (!dataTable) return;\n",
              "\n",
              "          const docLinkHtml = 'Like what you see? Visit the ' +\n",
              "            '<a target=\"_blank\" href=https://colab.research.google.com/notebooks/data_table.ipynb>data table notebook</a>'\n",
              "            + ' to learn more about interactive tables.';\n",
              "          element.innerHTML = '';\n",
              "          dataTable['output_type'] = 'display_data';\n",
              "          await google.colab.output.renderOutput(dataTable, element);\n",
              "          const docLink = document.createElement('div');\n",
              "          docLink.innerHTML = docLinkHtml;\n",
              "          element.appendChild(docLink);\n",
              "        }\n",
              "      </script>\n",
              "    </div>\n",
              "  </div>\n",
              "  "
            ]
          },
          "metadata": {},
          "execution_count": 11
        }
      ],
      "source": [
        "train_labels_df = filter_labels(load_touche_dataset(\"labels-training.tsv\"), subset=labels)\n",
        "train_df = filter_indexes(load_touche_dataset(\"arguments-training.tsv\"), subset=train_labels_df.index) \n",
        "val_labels_df = filter_labels(load_touche_dataset(\"labels-validation.tsv\"), subset=labels)\n",
        "val_df = filter_indexes(load_touche_dataset(\"arguments-validation.tsv\"), subset=val_labels_df.index)\n",
        "train_df.head() "
      ]
    },
    {
      "cell_type": "code",
      "execution_count": 12,
      "metadata": {
        "colab": {
          "base_uri": "https://localhost:8080/",
          "height": 238
        },
        "execution": {
          "iopub.execute_input": "2023-04-05T12:48:05.393661Z",
          "iopub.status.busy": "2023-04-05T12:48:05.393285Z",
          "iopub.status.idle": "2023-04-05T12:48:05.405096Z",
          "shell.execute_reply": "2023-04-05T12:48:05.403804Z",
          "shell.execute_reply.started": "2023-04-05T12:48:05.393622Z"
        },
        "id": "EFGvZ6o2Puzt",
        "outputId": "6587ff0f-8ac7-4b22-fc09-54350714a5fc",
        "trusted": true
      },
      "outputs": [
        {
          "output_type": "execute_result",
          "data": {
            "text/plain": [
              "                                                  Conclusion       Stance  \\\n",
              "Argument ID                                                                 \n",
              "A01001                        Entrapment should be legalized  in favor of   \n",
              "A01012       The use of public defenders should be mandatory  in favor of   \n",
              "A02001                         Payday loans should be banned  in favor of   \n",
              "A02002                            Surrogacy should be banned      against   \n",
              "A02009                        Entrapment should be legalized      against   \n",
              "\n",
              "                                                       Premise  \n",
              "Argument ID                                                     \n",
              "A01001       if entrapment can serve to more easily capture...  \n",
              "A01012       the use of public defenders should be mandator...  \n",
              "A02001       payday loans create a more impoverished societ...  \n",
              "A02002       Surrogacy should not be banned as it is the wo...  \n",
              "A02009       entrapment is gravely immoral and against huma...  "
            ],
            "text/html": [
              "\n",
              "  <div id=\"df-bf4809b9-0a41-4082-a821-308465eb41f1\">\n",
              "    <div class=\"colab-df-container\">\n",
              "      <div>\n",
              "<style scoped>\n",
              "    .dataframe tbody tr th:only-of-type {\n",
              "        vertical-align: middle;\n",
              "    }\n",
              "\n",
              "    .dataframe tbody tr th {\n",
              "        vertical-align: top;\n",
              "    }\n",
              "\n",
              "    .dataframe thead th {\n",
              "        text-align: right;\n",
              "    }\n",
              "</style>\n",
              "<table border=\"1\" class=\"dataframe\">\n",
              "  <thead>\n",
              "    <tr style=\"text-align: right;\">\n",
              "      <th></th>\n",
              "      <th>Conclusion</th>\n",
              "      <th>Stance</th>\n",
              "      <th>Premise</th>\n",
              "    </tr>\n",
              "    <tr>\n",
              "      <th>Argument ID</th>\n",
              "      <th></th>\n",
              "      <th></th>\n",
              "      <th></th>\n",
              "    </tr>\n",
              "  </thead>\n",
              "  <tbody>\n",
              "    <tr>\n",
              "      <th>A01001</th>\n",
              "      <td>Entrapment should be legalized</td>\n",
              "      <td>in favor of</td>\n",
              "      <td>if entrapment can serve to more easily capture...</td>\n",
              "    </tr>\n",
              "    <tr>\n",
              "      <th>A01012</th>\n",
              "      <td>The use of public defenders should be mandatory</td>\n",
              "      <td>in favor of</td>\n",
              "      <td>the use of public defenders should be mandator...</td>\n",
              "    </tr>\n",
              "    <tr>\n",
              "      <th>A02001</th>\n",
              "      <td>Payday loans should be banned</td>\n",
              "      <td>in favor of</td>\n",
              "      <td>payday loans create a more impoverished societ...</td>\n",
              "    </tr>\n",
              "    <tr>\n",
              "      <th>A02002</th>\n",
              "      <td>Surrogacy should be banned</td>\n",
              "      <td>against</td>\n",
              "      <td>Surrogacy should not be banned as it is the wo...</td>\n",
              "    </tr>\n",
              "    <tr>\n",
              "      <th>A02009</th>\n",
              "      <td>Entrapment should be legalized</td>\n",
              "      <td>against</td>\n",
              "      <td>entrapment is gravely immoral and against huma...</td>\n",
              "    </tr>\n",
              "  </tbody>\n",
              "</table>\n",
              "</div>\n",
              "      <button class=\"colab-df-convert\" onclick=\"convertToInteractive('df-bf4809b9-0a41-4082-a821-308465eb41f1')\"\n",
              "              title=\"Convert this dataframe to an interactive table.\"\n",
              "              style=\"display:none;\">\n",
              "        \n",
              "  <svg xmlns=\"http://www.w3.org/2000/svg\" height=\"24px\"viewBox=\"0 0 24 24\"\n",
              "       width=\"24px\">\n",
              "    <path d=\"M0 0h24v24H0V0z\" fill=\"none\"/>\n",
              "    <path d=\"M18.56 5.44l.94 2.06.94-2.06 2.06-.94-2.06-.94-.94-2.06-.94 2.06-2.06.94zm-11 1L8.5 8.5l.94-2.06 2.06-.94-2.06-.94L8.5 2.5l-.94 2.06-2.06.94zm10 10l.94 2.06.94-2.06 2.06-.94-2.06-.94-.94-2.06-.94 2.06-2.06.94z\"/><path d=\"M17.41 7.96l-1.37-1.37c-.4-.4-.92-.59-1.43-.59-.52 0-1.04.2-1.43.59L10.3 9.45l-7.72 7.72c-.78.78-.78 2.05 0 2.83L4 21.41c.39.39.9.59 1.41.59.51 0 1.02-.2 1.41-.59l7.78-7.78 2.81-2.81c.8-.78.8-2.07 0-2.86zM5.41 20L4 18.59l7.72-7.72 1.47 1.35L5.41 20z\"/>\n",
              "  </svg>\n",
              "      </button>\n",
              "      \n",
              "  <style>\n",
              "    .colab-df-container {\n",
              "      display:flex;\n",
              "      flex-wrap:wrap;\n",
              "      gap: 12px;\n",
              "    }\n",
              "\n",
              "    .colab-df-convert {\n",
              "      background-color: #E8F0FE;\n",
              "      border: none;\n",
              "      border-radius: 50%;\n",
              "      cursor: pointer;\n",
              "      display: none;\n",
              "      fill: #1967D2;\n",
              "      height: 32px;\n",
              "      padding: 0 0 0 0;\n",
              "      width: 32px;\n",
              "    }\n",
              "\n",
              "    .colab-df-convert:hover {\n",
              "      background-color: #E2EBFA;\n",
              "      box-shadow: 0px 1px 2px rgba(60, 64, 67, 0.3), 0px 1px 3px 1px rgba(60, 64, 67, 0.15);\n",
              "      fill: #174EA6;\n",
              "    }\n",
              "\n",
              "    [theme=dark] .colab-df-convert {\n",
              "      background-color: #3B4455;\n",
              "      fill: #D2E3FC;\n",
              "    }\n",
              "\n",
              "    [theme=dark] .colab-df-convert:hover {\n",
              "      background-color: #434B5C;\n",
              "      box-shadow: 0px 1px 3px 1px rgba(0, 0, 0, 0.15);\n",
              "      filter: drop-shadow(0px 1px 2px rgba(0, 0, 0, 0.3));\n",
              "      fill: #FFFFFF;\n",
              "    }\n",
              "  </style>\n",
              "\n",
              "      <script>\n",
              "        const buttonEl =\n",
              "          document.querySelector('#df-bf4809b9-0a41-4082-a821-308465eb41f1 button.colab-df-convert');\n",
              "        buttonEl.style.display =\n",
              "          google.colab.kernel.accessAllowed ? 'block' : 'none';\n",
              "\n",
              "        async function convertToInteractive(key) {\n",
              "          const element = document.querySelector('#df-bf4809b9-0a41-4082-a821-308465eb41f1');\n",
              "          const dataTable =\n",
              "            await google.colab.kernel.invokeFunction('convertToInteractive',\n",
              "                                                     [key], {});\n",
              "          if (!dataTable) return;\n",
              "\n",
              "          const docLinkHtml = 'Like what you see? Visit the ' +\n",
              "            '<a target=\"_blank\" href=https://colab.research.google.com/notebooks/data_table.ipynb>data table notebook</a>'\n",
              "            + ' to learn more about interactive tables.';\n",
              "          element.innerHTML = '';\n",
              "          dataTable['output_type'] = 'display_data';\n",
              "          await google.colab.output.renderOutput(dataTable, element);\n",
              "          const docLink = document.createElement('div');\n",
              "          docLink.innerHTML = docLinkHtml;\n",
              "          element.appendChild(docLink);\n",
              "        }\n",
              "      </script>\n",
              "    </div>\n",
              "  </div>\n",
              "  "
            ]
          },
          "metadata": {},
          "execution_count": 12
        }
      ],
      "source": [
        "val_df.head()"
      ]
    },
    {
      "cell_type": "code",
      "execution_count": 13,
      "metadata": {
        "colab": {
          "base_uri": "https://localhost:8080/",
          "height": 354
        },
        "execution": {
          "iopub.execute_input": "2023-04-05T12:48:05.407820Z",
          "iopub.status.busy": "2023-04-05T12:48:05.407292Z",
          "iopub.status.idle": "2023-04-05T12:48:05.427650Z",
          "shell.execute_reply": "2023-04-05T12:48:05.426573Z",
          "shell.execute_reply.started": "2023-04-05T12:48:05.407784Z"
        },
        "id": "ydONY9PQV0jI",
        "outputId": "ce2f4999-3bb3-4a87-99ac-085ca5d3dcd6",
        "trusted": true
      },
      "outputs": [
        {
          "output_type": "execute_result",
          "data": {
            "text/plain": [
              "             Self-direction: thought  Self-direction: action  Stimulation  \\\n",
              "Argument ID                                                                 \n",
              "A01002                             0                       0            0   \n",
              "A01005                             0                       0            0   \n",
              "A01006                             0                       0            0   \n",
              "A01007                             0                       0            0   \n",
              "A01008                             0                       0            0   \n",
              "\n",
              "             Hedonism  Achievement  Power: dominance  Power: resources  Face  \\\n",
              "Argument ID                                                                    \n",
              "A01002              0            0                 0                 0     0   \n",
              "A01005              0            0                 0                 0     0   \n",
              "A01006              0            0                 1                 0     0   \n",
              "A01007              0            0                 0                 0     0   \n",
              "A01008              0            0                 0                 0     0   \n",
              "\n",
              "             Security: personal  Security: societal  Tradition  \\\n",
              "Argument ID                                                      \n",
              "A01002                        0                   1          0   \n",
              "A01005                        1                   0          0   \n",
              "A01006                        0                   1          0   \n",
              "A01007                        0                   1          0   \n",
              "A01008                        1                   0          0   \n",
              "\n",
              "             Conformity: rules  Conformity: interpersonal  Humility  \\\n",
              "Argument ID                                                           \n",
              "A01002                       0                          0         0   \n",
              "A01005                       0                          0         0   \n",
              "A01006                       0                          0         0   \n",
              "A01007                       1                          0         0   \n",
              "A01008                       0                          0         0   \n",
              "\n",
              "             Benevolence: caring  Benevolence: dependability  \\\n",
              "Argument ID                                                    \n",
              "A01002                         0                           0   \n",
              "A01005                         0                           0   \n",
              "A01006                         0                           0   \n",
              "A01007                         0                           0   \n",
              "A01008                         1                           0   \n",
              "\n",
              "             Universalism: concern  Universalism: nature  \\\n",
              "Argument ID                                                \n",
              "A01002                           0                     0   \n",
              "A01005                           0                     0   \n",
              "A01006                           0                     0   \n",
              "A01007                           1                     0   \n",
              "A01008                           1                     0   \n",
              "\n",
              "             Universalism: tolerance  Universalism: objectivity  \n",
              "Argument ID                                                      \n",
              "A01002                             0                          0  \n",
              "A01005                             0                          0  \n",
              "A01006                             0                          0  \n",
              "A01007                             0                          0  \n",
              "A01008                             0                          0  "
            ],
            "text/html": [
              "\n",
              "  <div id=\"df-61bb2a68-ca00-4b54-8db3-b7eaeccfa5b3\">\n",
              "    <div class=\"colab-df-container\">\n",
              "      <div>\n",
              "<style scoped>\n",
              "    .dataframe tbody tr th:only-of-type {\n",
              "        vertical-align: middle;\n",
              "    }\n",
              "\n",
              "    .dataframe tbody tr th {\n",
              "        vertical-align: top;\n",
              "    }\n",
              "\n",
              "    .dataframe thead th {\n",
              "        text-align: right;\n",
              "    }\n",
              "</style>\n",
              "<table border=\"1\" class=\"dataframe\">\n",
              "  <thead>\n",
              "    <tr style=\"text-align: right;\">\n",
              "      <th></th>\n",
              "      <th>Self-direction: thought</th>\n",
              "      <th>Self-direction: action</th>\n",
              "      <th>Stimulation</th>\n",
              "      <th>Hedonism</th>\n",
              "      <th>Achievement</th>\n",
              "      <th>Power: dominance</th>\n",
              "      <th>Power: resources</th>\n",
              "      <th>Face</th>\n",
              "      <th>Security: personal</th>\n",
              "      <th>Security: societal</th>\n",
              "      <th>Tradition</th>\n",
              "      <th>Conformity: rules</th>\n",
              "      <th>Conformity: interpersonal</th>\n",
              "      <th>Humility</th>\n",
              "      <th>Benevolence: caring</th>\n",
              "      <th>Benevolence: dependability</th>\n",
              "      <th>Universalism: concern</th>\n",
              "      <th>Universalism: nature</th>\n",
              "      <th>Universalism: tolerance</th>\n",
              "      <th>Universalism: objectivity</th>\n",
              "    </tr>\n",
              "    <tr>\n",
              "      <th>Argument ID</th>\n",
              "      <th></th>\n",
              "      <th></th>\n",
              "      <th></th>\n",
              "      <th></th>\n",
              "      <th></th>\n",
              "      <th></th>\n",
              "      <th></th>\n",
              "      <th></th>\n",
              "      <th></th>\n",
              "      <th></th>\n",
              "      <th></th>\n",
              "      <th></th>\n",
              "      <th></th>\n",
              "      <th></th>\n",
              "      <th></th>\n",
              "      <th></th>\n",
              "      <th></th>\n",
              "      <th></th>\n",
              "      <th></th>\n",
              "      <th></th>\n",
              "    </tr>\n",
              "  </thead>\n",
              "  <tbody>\n",
              "    <tr>\n",
              "      <th>A01002</th>\n",
              "      <td>0</td>\n",
              "      <td>0</td>\n",
              "      <td>0</td>\n",
              "      <td>0</td>\n",
              "      <td>0</td>\n",
              "      <td>0</td>\n",
              "      <td>0</td>\n",
              "      <td>0</td>\n",
              "      <td>0</td>\n",
              "      <td>1</td>\n",
              "      <td>0</td>\n",
              "      <td>0</td>\n",
              "      <td>0</td>\n",
              "      <td>0</td>\n",
              "      <td>0</td>\n",
              "      <td>0</td>\n",
              "      <td>0</td>\n",
              "      <td>0</td>\n",
              "      <td>0</td>\n",
              "      <td>0</td>\n",
              "    </tr>\n",
              "    <tr>\n",
              "      <th>A01005</th>\n",
              "      <td>0</td>\n",
              "      <td>0</td>\n",
              "      <td>0</td>\n",
              "      <td>0</td>\n",
              "      <td>0</td>\n",
              "      <td>0</td>\n",
              "      <td>0</td>\n",
              "      <td>0</td>\n",
              "      <td>1</td>\n",
              "      <td>0</td>\n",
              "      <td>0</td>\n",
              "      <td>0</td>\n",
              "      <td>0</td>\n",
              "      <td>0</td>\n",
              "      <td>0</td>\n",
              "      <td>0</td>\n",
              "      <td>0</td>\n",
              "      <td>0</td>\n",
              "      <td>0</td>\n",
              "      <td>0</td>\n",
              "    </tr>\n",
              "    <tr>\n",
              "      <th>A01006</th>\n",
              "      <td>0</td>\n",
              "      <td>0</td>\n",
              "      <td>0</td>\n",
              "      <td>0</td>\n",
              "      <td>0</td>\n",
              "      <td>1</td>\n",
              "      <td>0</td>\n",
              "      <td>0</td>\n",
              "      <td>0</td>\n",
              "      <td>1</td>\n",
              "      <td>0</td>\n",
              "      <td>0</td>\n",
              "      <td>0</td>\n",
              "      <td>0</td>\n",
              "      <td>0</td>\n",
              "      <td>0</td>\n",
              "      <td>0</td>\n",
              "      <td>0</td>\n",
              "      <td>0</td>\n",
              "      <td>0</td>\n",
              "    </tr>\n",
              "    <tr>\n",
              "      <th>A01007</th>\n",
              "      <td>0</td>\n",
              "      <td>0</td>\n",
              "      <td>0</td>\n",
              "      <td>0</td>\n",
              "      <td>0</td>\n",
              "      <td>0</td>\n",
              "      <td>0</td>\n",
              "      <td>0</td>\n",
              "      <td>0</td>\n",
              "      <td>1</td>\n",
              "      <td>0</td>\n",
              "      <td>1</td>\n",
              "      <td>0</td>\n",
              "      <td>0</td>\n",
              "      <td>0</td>\n",
              "      <td>0</td>\n",
              "      <td>1</td>\n",
              "      <td>0</td>\n",
              "      <td>0</td>\n",
              "      <td>0</td>\n",
              "    </tr>\n",
              "    <tr>\n",
              "      <th>A01008</th>\n",
              "      <td>0</td>\n",
              "      <td>0</td>\n",
              "      <td>0</td>\n",
              "      <td>0</td>\n",
              "      <td>0</td>\n",
              "      <td>0</td>\n",
              "      <td>0</td>\n",
              "      <td>0</td>\n",
              "      <td>1</td>\n",
              "      <td>0</td>\n",
              "      <td>0</td>\n",
              "      <td>0</td>\n",
              "      <td>0</td>\n",
              "      <td>0</td>\n",
              "      <td>1</td>\n",
              "      <td>0</td>\n",
              "      <td>1</td>\n",
              "      <td>0</td>\n",
              "      <td>0</td>\n",
              "      <td>0</td>\n",
              "    </tr>\n",
              "  </tbody>\n",
              "</table>\n",
              "</div>\n",
              "      <button class=\"colab-df-convert\" onclick=\"convertToInteractive('df-61bb2a68-ca00-4b54-8db3-b7eaeccfa5b3')\"\n",
              "              title=\"Convert this dataframe to an interactive table.\"\n",
              "              style=\"display:none;\">\n",
              "        \n",
              "  <svg xmlns=\"http://www.w3.org/2000/svg\" height=\"24px\"viewBox=\"0 0 24 24\"\n",
              "       width=\"24px\">\n",
              "    <path d=\"M0 0h24v24H0V0z\" fill=\"none\"/>\n",
              "    <path d=\"M18.56 5.44l.94 2.06.94-2.06 2.06-.94-2.06-.94-.94-2.06-.94 2.06-2.06.94zm-11 1L8.5 8.5l.94-2.06 2.06-.94-2.06-.94L8.5 2.5l-.94 2.06-2.06.94zm10 10l.94 2.06.94-2.06 2.06-.94-2.06-.94-.94-2.06-.94 2.06-2.06.94z\"/><path d=\"M17.41 7.96l-1.37-1.37c-.4-.4-.92-.59-1.43-.59-.52 0-1.04.2-1.43.59L10.3 9.45l-7.72 7.72c-.78.78-.78 2.05 0 2.83L4 21.41c.39.39.9.59 1.41.59.51 0 1.02-.2 1.41-.59l7.78-7.78 2.81-2.81c.8-.78.8-2.07 0-2.86zM5.41 20L4 18.59l7.72-7.72 1.47 1.35L5.41 20z\"/>\n",
              "  </svg>\n",
              "      </button>\n",
              "      \n",
              "  <style>\n",
              "    .colab-df-container {\n",
              "      display:flex;\n",
              "      flex-wrap:wrap;\n",
              "      gap: 12px;\n",
              "    }\n",
              "\n",
              "    .colab-df-convert {\n",
              "      background-color: #E8F0FE;\n",
              "      border: none;\n",
              "      border-radius: 50%;\n",
              "      cursor: pointer;\n",
              "      display: none;\n",
              "      fill: #1967D2;\n",
              "      height: 32px;\n",
              "      padding: 0 0 0 0;\n",
              "      width: 32px;\n",
              "    }\n",
              "\n",
              "    .colab-df-convert:hover {\n",
              "      background-color: #E2EBFA;\n",
              "      box-shadow: 0px 1px 2px rgba(60, 64, 67, 0.3), 0px 1px 3px 1px rgba(60, 64, 67, 0.15);\n",
              "      fill: #174EA6;\n",
              "    }\n",
              "\n",
              "    [theme=dark] .colab-df-convert {\n",
              "      background-color: #3B4455;\n",
              "      fill: #D2E3FC;\n",
              "    }\n",
              "\n",
              "    [theme=dark] .colab-df-convert:hover {\n",
              "      background-color: #434B5C;\n",
              "      box-shadow: 0px 1px 3px 1px rgba(0, 0, 0, 0.15);\n",
              "      filter: drop-shadow(0px 1px 2px rgba(0, 0, 0, 0.3));\n",
              "      fill: #FFFFFF;\n",
              "    }\n",
              "  </style>\n",
              "\n",
              "      <script>\n",
              "        const buttonEl =\n",
              "          document.querySelector('#df-61bb2a68-ca00-4b54-8db3-b7eaeccfa5b3 button.colab-df-convert');\n",
              "        buttonEl.style.display =\n",
              "          google.colab.kernel.accessAllowed ? 'block' : 'none';\n",
              "\n",
              "        async function convertToInteractive(key) {\n",
              "          const element = document.querySelector('#df-61bb2a68-ca00-4b54-8db3-b7eaeccfa5b3');\n",
              "          const dataTable =\n",
              "            await google.colab.kernel.invokeFunction('convertToInteractive',\n",
              "                                                     [key], {});\n",
              "          if (!dataTable) return;\n",
              "\n",
              "          const docLinkHtml = 'Like what you see? Visit the ' +\n",
              "            '<a target=\"_blank\" href=https://colab.research.google.com/notebooks/data_table.ipynb>data table notebook</a>'\n",
              "            + ' to learn more about interactive tables.';\n",
              "          element.innerHTML = '';\n",
              "          dataTable['output_type'] = 'display_data';\n",
              "          await google.colab.output.renderOutput(dataTable, element);\n",
              "          const docLink = document.createElement('div');\n",
              "          docLink.innerHTML = docLinkHtml;\n",
              "          element.appendChild(docLink);\n",
              "        }\n",
              "      </script>\n",
              "    </div>\n",
              "  </div>\n",
              "  "
            ]
          },
          "metadata": {},
          "execution_count": 13
        }
      ],
      "source": [
        "train_labels_df.head()"
      ]
    },
    {
      "cell_type": "code",
      "source": [
        "from sklearn.model_selection import train_test_split\n",
        "# TODO train_test_split"
      ],
      "metadata": {
        "id": "idSQBbg9VYZT"
      },
      "execution_count": null,
      "outputs": []
    },
    {
      "cell_type": "code",
      "execution_count": 14,
      "metadata": {
        "colab": {
          "base_uri": "https://localhost:8080/",
          "height": 143
        },
        "execution": {
          "iopub.execute_input": "2023-04-05T12:48:05.429567Z",
          "iopub.status.busy": "2023-04-05T12:48:05.429225Z",
          "iopub.status.idle": "2023-04-05T12:48:05.453539Z",
          "shell.execute_reply": "2023-04-05T12:48:05.452623Z",
          "shell.execute_reply.started": "2023-04-05T12:48:05.429531Z"
        },
        "id": "1E2xyRdZV0jJ",
        "outputId": "fc3b27f7-be74-4cbc-9b4b-c7b2bdc57034",
        "trusted": true
      },
      "outputs": [
        {
          "output_type": "execute_result",
          "data": {
            "text/plain": [
              "       Conclusion Stance Premise\n",
              "count        5392   5392    5392\n",
              "unique        332      2    5312\n",
              "freq          114   2898       2"
            ],
            "text/html": [
              "\n",
              "  <div id=\"df-bfb2f067-a3c9-40b6-a646-0e1f7f7a52df\">\n",
              "    <div class=\"colab-df-container\">\n",
              "      <div>\n",
              "<style scoped>\n",
              "    .dataframe tbody tr th:only-of-type {\n",
              "        vertical-align: middle;\n",
              "    }\n",
              "\n",
              "    .dataframe tbody tr th {\n",
              "        vertical-align: top;\n",
              "    }\n",
              "\n",
              "    .dataframe thead th {\n",
              "        text-align: right;\n",
              "    }\n",
              "</style>\n",
              "<table border=\"1\" class=\"dataframe\">\n",
              "  <thead>\n",
              "    <tr style=\"text-align: right;\">\n",
              "      <th></th>\n",
              "      <th>Conclusion</th>\n",
              "      <th>Stance</th>\n",
              "      <th>Premise</th>\n",
              "    </tr>\n",
              "  </thead>\n",
              "  <tbody>\n",
              "    <tr>\n",
              "      <th>count</th>\n",
              "      <td>5392</td>\n",
              "      <td>5392</td>\n",
              "      <td>5392</td>\n",
              "    </tr>\n",
              "    <tr>\n",
              "      <th>unique</th>\n",
              "      <td>332</td>\n",
              "      <td>2</td>\n",
              "      <td>5312</td>\n",
              "    </tr>\n",
              "    <tr>\n",
              "      <th>freq</th>\n",
              "      <td>114</td>\n",
              "      <td>2898</td>\n",
              "      <td>2</td>\n",
              "    </tr>\n",
              "  </tbody>\n",
              "</table>\n",
              "</div>\n",
              "      <button class=\"colab-df-convert\" onclick=\"convertToInteractive('df-bfb2f067-a3c9-40b6-a646-0e1f7f7a52df')\"\n",
              "              title=\"Convert this dataframe to an interactive table.\"\n",
              "              style=\"display:none;\">\n",
              "        \n",
              "  <svg xmlns=\"http://www.w3.org/2000/svg\" height=\"24px\"viewBox=\"0 0 24 24\"\n",
              "       width=\"24px\">\n",
              "    <path d=\"M0 0h24v24H0V0z\" fill=\"none\"/>\n",
              "    <path d=\"M18.56 5.44l.94 2.06.94-2.06 2.06-.94-2.06-.94-.94-2.06-.94 2.06-2.06.94zm-11 1L8.5 8.5l.94-2.06 2.06-.94-2.06-.94L8.5 2.5l-.94 2.06-2.06.94zm10 10l.94 2.06.94-2.06 2.06-.94-2.06-.94-.94-2.06-.94 2.06-2.06.94z\"/><path d=\"M17.41 7.96l-1.37-1.37c-.4-.4-.92-.59-1.43-.59-.52 0-1.04.2-1.43.59L10.3 9.45l-7.72 7.72c-.78.78-.78 2.05 0 2.83L4 21.41c.39.39.9.59 1.41.59.51 0 1.02-.2 1.41-.59l7.78-7.78 2.81-2.81c.8-.78.8-2.07 0-2.86zM5.41 20L4 18.59l7.72-7.72 1.47 1.35L5.41 20z\"/>\n",
              "  </svg>\n",
              "      </button>\n",
              "      \n",
              "  <style>\n",
              "    .colab-df-container {\n",
              "      display:flex;\n",
              "      flex-wrap:wrap;\n",
              "      gap: 12px;\n",
              "    }\n",
              "\n",
              "    .colab-df-convert {\n",
              "      background-color: #E8F0FE;\n",
              "      border: none;\n",
              "      border-radius: 50%;\n",
              "      cursor: pointer;\n",
              "      display: none;\n",
              "      fill: #1967D2;\n",
              "      height: 32px;\n",
              "      padding: 0 0 0 0;\n",
              "      width: 32px;\n",
              "    }\n",
              "\n",
              "    .colab-df-convert:hover {\n",
              "      background-color: #E2EBFA;\n",
              "      box-shadow: 0px 1px 2px rgba(60, 64, 67, 0.3), 0px 1px 3px 1px rgba(60, 64, 67, 0.15);\n",
              "      fill: #174EA6;\n",
              "    }\n",
              "\n",
              "    [theme=dark] .colab-df-convert {\n",
              "      background-color: #3B4455;\n",
              "      fill: #D2E3FC;\n",
              "    }\n",
              "\n",
              "    [theme=dark] .colab-df-convert:hover {\n",
              "      background-color: #434B5C;\n",
              "      box-shadow: 0px 1px 3px 1px rgba(0, 0, 0, 0.15);\n",
              "      filter: drop-shadow(0px 1px 2px rgba(0, 0, 0, 0.3));\n",
              "      fill: #FFFFFF;\n",
              "    }\n",
              "  </style>\n",
              "\n",
              "      <script>\n",
              "        const buttonEl =\n",
              "          document.querySelector('#df-bfb2f067-a3c9-40b6-a646-0e1f7f7a52df button.colab-df-convert');\n",
              "        buttonEl.style.display =\n",
              "          google.colab.kernel.accessAllowed ? 'block' : 'none';\n",
              "\n",
              "        async function convertToInteractive(key) {\n",
              "          const element = document.querySelector('#df-bfb2f067-a3c9-40b6-a646-0e1f7f7a52df');\n",
              "          const dataTable =\n",
              "            await google.colab.kernel.invokeFunction('convertToInteractive',\n",
              "                                                     [key], {});\n",
              "          if (!dataTable) return;\n",
              "\n",
              "          const docLinkHtml = 'Like what you see? Visit the ' +\n",
              "            '<a target=\"_blank\" href=https://colab.research.google.com/notebooks/data_table.ipynb>data table notebook</a>'\n",
              "            + ' to learn more about interactive tables.';\n",
              "          element.innerHTML = '';\n",
              "          dataTable['output_type'] = 'display_data';\n",
              "          await google.colab.output.renderOutput(dataTable, element);\n",
              "          const docLink = document.createElement('div');\n",
              "          docLink.innerHTML = docLinkHtml;\n",
              "          element.appendChild(docLink);\n",
              "        }\n",
              "      </script>\n",
              "    </div>\n",
              "  </div>\n",
              "  "
            ]
          },
          "metadata": {},
          "execution_count": 14
        }
      ],
      "source": [
        "train_df.describe().drop(index=['top'], axis=1)"
      ]
    },
    {
      "cell_type": "markdown",
      "metadata": {
        "id": "V5zG952JV0jJ"
      },
      "source": [
        "A barplot to describe the representation in the dataset of each argument's category"
      ]
    },
    {
      "cell_type": "code",
      "execution_count": 15,
      "metadata": {
        "colab": {
          "base_uri": "https://localhost:8080/",
          "height": 672
        },
        "execution": {
          "iopub.execute_input": "2023-04-05T12:48:05.456848Z",
          "iopub.status.busy": "2023-04-05T12:48:05.455780Z",
          "iopub.status.idle": "2023-04-05T12:48:05.850818Z",
          "shell.execute_reply": "2023-04-05T12:48:05.847713Z",
          "shell.execute_reply.started": "2023-04-05T12:48:05.456811Z"
        },
        "id": "ibkcEWedV0jJ",
        "outputId": "39af7dfb-bac9-4241-9964-04f9d35a5053",
        "trusted": true
      },
      "outputs": [
        {
          "output_type": "execute_result",
          "data": {
            "text/plain": [
              "<BarContainer object of 20 artists>"
            ]
          },
          "metadata": {},
          "execution_count": 15
        },
        {
          "output_type": "display_data",
          "data": {
            "text/plain": [
              "<Figure size 1900x600 with 1 Axes>"
            ],
            "image/png": "[encoded data removed]"
          },
          "metadata": {}
        }
      ],
      "source": [
        "values = train_labels_df.sum().sort_values(ascending=False)\n",
        "y = np.array(values)\n",
        "x = np.array(values.index)\n",
        "\n",
        "plt.figure(figsize=(19,6))\n",
        "plt.xticks(rotation=45, ha=\"right\")\n",
        "plt.bar(x, height=y)"
      ]
    },
    {
      "cell_type": "code",
      "execution_count": 16,
      "metadata": {
        "colab": {
          "base_uri": "https://localhost:8080/"
        },
        "execution": {
          "iopub.execute_input": "2023-04-05T12:48:05.853987Z",
          "iopub.status.busy": "2023-04-05T12:48:05.853005Z",
          "iopub.status.idle": "2023-04-05T12:48:05.861929Z",
          "shell.execute_reply": "2023-04-05T12:48:05.860505Z",
          "shell.execute_reply.started": "2023-04-05T12:48:05.853946Z"
        },
        "id": "fNyvQbLj_XwU",
        "outputId": "94bd27a3-651b-4702-b8d5-87c641fcfcfe",
        "trusted": true
      },
      "outputs": [
        {
          "output_type": "execute_result",
          "data": {
            "text/plain": [
              "['Self-direction: thought',\n",
              " 'Self-direction: action',\n",
              " 'Stimulation',\n",
              " 'Hedonism',\n",
              " 'Achievement',\n",
              " 'Power: dominance',\n",
              " 'Power: resources',\n",
              " 'Face',\n",
              " 'Security: personal',\n",
              " 'Security: societal',\n",
              " 'Tradition',\n",
              " 'Conformity: rules',\n",
              " 'Conformity: interpersonal',\n",
              " 'Humility',\n",
              " 'Benevolence: caring',\n",
              " 'Benevolence: dependability',\n",
              " 'Universalism: concern',\n",
              " 'Universalism: nature',\n",
              " 'Universalism: tolerance',\n",
              " 'Universalism: objectivity']"
            ]
          },
          "metadata": {},
          "execution_count": 16
        }
      ],
      "source": [
        "labels_names = train_labels_df.columns.tolist()\n",
        "labels_names"
      ]
    },
    {
      "cell_type": "code",
      "execution_count": 17,
      "metadata": {
        "colab": {
          "base_uri": "https://localhost:8080/"
        },
        "execution": {
          "iopub.execute_input": "2023-04-05T12:48:05.864155Z",
          "iopub.status.busy": "2023-04-05T12:48:05.863678Z",
          "iopub.status.idle": "2023-04-05T12:48:05.874618Z",
          "shell.execute_reply": "2023-04-05T12:48:05.873536Z",
          "shell.execute_reply.started": "2023-04-05T12:48:05.864113Z"
        },
        "id": "a1pg4qchLW1d",
        "outputId": "e4ed146d-fc30-4ddd-8ed5-004549c71007",
        "trusted": true
      },
      "outputs": [
        {
          "output_type": "execute_result",
          "data": {
            "text/plain": [
              "array([[0, 0, 0, ..., 0, 0, 0],\n",
              "       [0, 0, 0, ..., 0, 0, 0],\n",
              "       [0, 0, 0, ..., 0, 0, 0],\n",
              "       ...,\n",
              "       [0, 0, 0, ..., 1, 0, 0],\n",
              "       [0, 0, 0, ..., 0, 0, 1],\n",
              "       [0, 1, 0, ..., 0, 0, 0]])"
            ]
          },
          "metadata": {},
          "execution_count": 17
        }
      ],
      "source": [
        "train_labels_df.values"
      ]
    },
    {
      "cell_type": "markdown",
      "metadata": {
        "id": "wbJQ-F2tQrfx"
      },
      "source": [
        "## Baseline model"
      ]
    },
    {
      "cell_type": "code",
      "execution_count": 18,
      "metadata": {
        "colab": {
          "base_uri": "https://localhost:8080/"
        },
        "execution": {
          "iopub.execute_input": "2023-04-05T12:48:05.877058Z",
          "iopub.status.busy": "2023-04-05T12:48:05.876797Z",
          "iopub.status.idle": "2023-04-05T12:48:05.932785Z",
          "shell.execute_reply": "2023-04-05T12:48:05.931557Z",
          "shell.execute_reply.started": "2023-04-05T12:48:05.877032Z"
        },
        "id": "LUpdRB5ruFQ9",
        "outputId": "fb161ba0-fa96-47e4-b62d-f57534402389",
        "trusted": true
      },
      "outputs": [
        {
          "output_type": "stream",
          "name": "stdout",
          "text": [
            "                            precision    recall  f1-score   support\n",
            "\n",
            "   Self-direction: thought       0.13      1.00      0.23       251\n",
            "    Self-direction: action       0.26      1.00      0.41       496\n",
            "               Stimulation       0.07      1.00      0.14       138\n",
            "                  Hedonism       0.05      1.00      0.10       103\n",
            "               Achievement       0.30      1.00      0.47       575\n",
            "          Power: dominance       0.09      1.00      0.16       164\n",
            "          Power: resources       0.07      1.00      0.13       132\n",
            "                      Face       0.07      1.00      0.13       130\n",
            "        Security: personal       0.40      1.00      0.57       759\n",
            "        Security: societal       0.26      1.00      0.41       488\n",
            "                 Tradition       0.09      1.00      0.17       172\n",
            "         Conformity: rules       0.24      1.00      0.39       455\n",
            " Conformity: interpersonal       0.03      1.00      0.06        60\n",
            "                  Humility       0.07      1.00      0.13       127\n",
            "       Benevolence: caring       0.33      1.00      0.50       633\n",
            "Benevolence: dependability       0.14      1.00      0.25       268\n",
            "     Universalism: concern       0.36      1.00      0.53       687\n",
            "      Universalism: nature       0.07      1.00      0.13       127\n",
            "   Universalism: tolerance       0.12      1.00      0.21       223\n",
            " Universalism: objectivity       0.20      1.00      0.33       371\n",
            "\n",
            "                 micro avg       0.17      1.00      0.29      6359\n",
            "                 macro avg       0.17      1.00      0.27      6359\n",
            "              weighted avg       0.24      1.00      0.38      6359\n",
            "               samples avg       0.17      1.00      0.28      6359\n",
            "\n"
          ]
        }
      ],
      "source": [
        "from sklearn.metrics import accuracy_score, classification_report\n",
        "dummy_predictions = np.ones(val_labels_df.shape)\n",
        "print(classification_report(val_labels_df.values, dummy_predictions, target_names = labels_names, zero_division = 0))"
      ]
    },
    {
      "cell_type": "markdown",
      "metadata": {
        "id": "Wr9lF2r5LJfQ"
      },
      "source": [
        "## Pytorch Dataset"
      ]
    },
    {
      "cell_type": "code",
      "execution_count": 19,
      "metadata": {
        "execution": {
          "iopub.execute_input": "2023-04-05T12:48:05.934842Z",
          "iopub.status.busy": "2023-04-05T12:48:05.934481Z",
          "iopub.status.idle": "2023-04-05T12:48:05.941417Z",
          "shell.execute_reply": "2023-04-05T12:48:05.940063Z",
          "shell.execute_reply.started": "2023-04-05T12:48:05.934805Z"
        },
        "id": "YmIVbhWPkD31",
        "trusted": true
      },
      "outputs": [],
      "source": [
        "class CreateDataset(Dataset):\n",
        "    def __init__(self, encodings):\n",
        "        self.encodings = encodings\n",
        "\n",
        "    def __getitem__(self, idx):\n",
        "        return {key: torch.tensor(val[idx]) for key, val in self.encodings.items()}\n",
        "\n",
        "    def __len__(self):\n",
        "        return len(self.encodings.input_ids)"
      ]
    },
    {
      "cell_type": "markdown",
      "metadata": {
        "id": "5s4vTh2eFDhp"
      },
      "source": [
        "# Model"
      ]
    },
    {
      "cell_type": "code",
      "execution_count": 20,
      "metadata": {
        "execution": {
          "iopub.execute_input": "2023-04-05T12:48:05.943998Z",
          "iopub.status.busy": "2023-04-05T12:48:05.943201Z",
          "iopub.status.idle": "2023-04-05T12:48:05.954163Z",
          "shell.execute_reply": "2023-04-05T12:48:05.953075Z",
          "shell.execute_reply.started": "2023-04-05T12:48:05.943959Z"
        },
        "id": "kf1Ki5WThvOH",
        "trusted": true
      },
      "outputs": [],
      "source": [
        "def getModel(model_checkpoint, num_labels):\n",
        "\n",
        "  model = CustomBERTModel(model_checkpoint, num_labels)\n",
        "  #binary cross entropy\n",
        "  #criterion = nn.BCELoss()\n",
        "  #optimizer = torch.optim.AdamW(model.parameters(), lr=lr)\n",
        "  \n",
        "  tokenizer = AutoTokenizer.from_pretrained(model_checkpoint)\n",
        "\n",
        "  return model, tokenizer"
      ]
    },
    {
      "cell_type": "code",
      "execution_count": 21,
      "metadata": {
        "execution": {
          "iopub.execute_input": "2023-04-05T12:48:05.957958Z",
          "iopub.status.busy": "2023-04-05T12:48:05.957669Z",
          "iopub.status.idle": "2023-04-05T12:48:05.971453Z",
          "shell.execute_reply": "2023-04-05T12:48:05.970197Z",
          "shell.execute_reply.started": "2023-04-05T12:48:05.957927Z"
        },
        "id": "5uz5yoMDetxV",
        "trusted": true
      },
      "outputs": [],
      "source": [
        "# Train one epoch\n",
        "def train(model: torch.nn.Module,\n",
        "          train_loader:torch.utils.data.DataLoader,\n",
        "          device: torch.device,          \n",
        "          optimizer: torch.optim, \n",
        "          criterion: torch.nn.Module,\n",
        "          epoch: int) -> float:\n",
        "    \"\"\"Trains a neural network for one epoch.\n",
        "\n",
        "    Args:\n",
        "        model: the model to train.\n",
        "        train_loader: the data loader containing the training data.\n",
        "        device: the device to use to train the model.        \n",
        "        optimizer: the optimizer to use to train the model.\n",
        "        epoch: the number of the current epoch.\n",
        "\n",
        "    Returns:\n",
        "        the cross entropy Loss value on the training data.\n",
        "    \"\"\"    \n",
        "    size_ds_train = len(train_loader.dataset)\n",
        "    num_batches = len(train_loader)\n",
        "    loss_score = []\n",
        "    loop = tqdm(train_loader)\n",
        "    #set training mode\n",
        "    model.train()\n",
        "    for idx_batch, batch in enumerate(loop):\n",
        "        optimizer.zero_grad()\n",
        "        input_ids = batch['input_ids'].to(device)\n",
        "        attention_mask = batch['attention_mask'].to(device)\n",
        "        labels = batch['labels'].to(device)\n",
        "        logits = model(input_ids,\n",
        "                              attention_mask=attention_mask,\n",
        "                        )\n",
        "        loss = criterion(logits, labels)\n",
        "        loss_score.append(loss.item())\n",
        "        loss.backward()\n",
        "        optimizer.step() \n",
        "        loop.set_description(f'Epoch {epoch}')\n",
        "        loop.set_postfix(loss=loss.item())\n",
        "\n",
        "    loss_train = np.mean(loss_score)\n",
        "    return loss_train\n",
        "\n",
        "# Validate one epoch\n",
        "def validate(model: torch.nn.Module, \n",
        "             criterion: torch.nn.Module,\n",
        "             data_loader: torch.utils.data.DataLoader,\n",
        "             device: torch.device) -> float:\n",
        "    \"\"\"Evaluates the model.\n",
        "\n",
        "    Args:\n",
        "        model: the model to evalaute.\n",
        "        data_loader: the data loader containing the validation data.\n",
        "        device: the device to use to evaluate the model.\n",
        "\n",
        "    Returns:\n",
        "        the loss value on the validation data.\n",
        "    \"\"\"\n",
        "    loss_score = []\n",
        "    #set evaluation mode\n",
        "    model = model.eval()\n",
        "    with torch.no_grad():\n",
        "        for idx_batch, batch in enumerate(data_loader):\n",
        "            input_ids = batch['input_ids'].to(device)\n",
        "            attention_mask = batch['attention_mask'].to(device)\n",
        "            labels = batch['labels'].to(device)\n",
        "            logits = model(input_ids,\n",
        "                                  attention_mask=attention_mask,\n",
        "                            )\n",
        "            loss = criterion(logits, labels)\n",
        "            loss_score.append(loss.item())\n",
        "    loss_val = np.mean(loss_score)\n",
        "    return loss_val"
      ]
    },
    {
      "cell_type": "code",
      "execution_count": 22,
      "metadata": {
        "execution": {
          "iopub.execute_input": "2023-04-05T12:48:05.973677Z",
          "iopub.status.busy": "2023-04-05T12:48:05.973096Z",
          "iopub.status.idle": "2023-04-05T12:48:05.985527Z",
          "shell.execute_reply": "2023-04-05T12:48:05.984434Z",
          "shell.execute_reply.started": "2023-04-05T12:48:05.973640Z"
        },
        "id": "jDG6_Kjee5Nl",
        "trusted": true
      },
      "outputs": [],
      "source": [
        "def training_loop(num_epochs: int,\n",
        "                  optimizer: torch.optim, \n",
        "                  criterion: torch.nn.Module,\n",
        "                  model: torch.nn.Module, \n",
        "                  loader_train: torch.utils.data.DataLoader, \n",
        "                  loader_val: torch.utils.data.DataLoader, \n",
        "                  verbose: bool=True) -> Dict:\n",
        "    \"\"\"Executes the training loop.\n",
        "    \n",
        "        Args:\n",
        "            num_epochs: the number of epochs.\n",
        "            optimizer: the optimizer to use.\n",
        "            model: the mode to train.\n",
        "            loader_train: the data loader containing the training data.\n",
        "            loader_val: the data loader containing the validation data.\n",
        "            verbose: if true print the value of loss.\n",
        "\n",
        "        Returns:  \n",
        "            A dictionary with the statistics computed during the train:\n",
        "            the values for the train loss for each epoch.\n",
        "            the values for the validation loss for each epoch.\n",
        "            the time of execution in seconds for the entire loop.\n",
        "    \"\"\"\n",
        "    device = torch.device('cuda') if torch.cuda.is_available() else torch.device('cpu')\n",
        "    model.to(device)\n",
        "    loop_start = timer()\n",
        "    train_losses_values = []\n",
        "    val_losses_values = []\n",
        "    for epoch in range(1, num_epochs + 1):\n",
        "        time_start = timer()\n",
        "        loss_train = train(model, loader_train, device, \n",
        "                                           optimizer, criterion, epoch)\n",
        "        loss_val = validate(model, criterion, loader_val, device)\n",
        "        time_end = timer()\n",
        "        train_losses_values.append(loss_train)\n",
        "        val_losses_values.append(loss_val)\n",
        "        if verbose:            \n",
        "            print(f'Epoch: {epoch} '\n",
        "                  f' Lr: {lr:.8f} '\n",
        "                  f' Loss: Train = [{loss_train:.4f}] - Val = [{loss_val:.4f}] '\n",
        "                  f' Time one epoch (s): {(time_end - time_start):.4f} ')\n",
        "    loop_end = timer()\n",
        "    time_loop = loop_end - loop_start\n",
        "    if verbose:\n",
        "        print(f'Time for {num_epochs} epochs (s): {(time_loop):.3f}') \n",
        "        \n",
        "    return {'train_loss_values': train_losses_values,\n",
        "            'val_loss_values' : val_losses_values,\n",
        "            'time': time_loop}"
      ]
    },
    {
      "cell_type": "code",
      "execution_count": 23,
      "metadata": {
        "execution": {
          "iopub.execute_input": "2023-04-05T12:48:05.989443Z",
          "iopub.status.busy": "2023-04-05T12:48:05.989047Z",
          "iopub.status.idle": "2023-04-05T12:48:06.002188Z",
          "shell.execute_reply": "2023-04-05T12:48:06.001084Z",
          "shell.execute_reply.started": "2023-04-05T12:48:05.989414Z"
        },
        "id": "-NskXNZBhI5A",
        "trusted": true
      },
      "outputs": [],
      "source": [
        "def execute(lr: float, \n",
        "            num_epochs: int, \n",
        "            batch_size: int,\n",
        "            criterion: torch.nn.Module,\n",
        "            num_labels: int,\n",
        "            train_df: pd.DataFrame,\n",
        "            train_labels_df: pd.DataFrame,\n",
        "            val_df: pd.DataFrame,\n",
        "            val_labels_df: pd.DataFrame,\n",
        "            model_name=\"\",\n",
        "            model=None,\n",
        "            tokenizer=None\n",
        "            ) ->Tuple[torch.nn.Module, any]:\n",
        "    \"\"\"Gets the model, does the encodings of the training and validation data using the \n",
        "        tokenizer, and then executes the training loop.\n",
        "\n",
        "    Args:\n",
        "        model: the network to train.\n",
        "        lr: the learning rate.\n",
        "        num_epochs: the number of epochs.\n",
        "        batch_size: the batch size.\n",
        "        train_df: training dataframe.\n",
        "        val_df: validation dataframe.\n",
        "        history: questions-answers history flag.\n",
        "    \"\"\"\n",
        "    #get the model and the tokenizer\n",
        "    if not model_name == \"\":\n",
        "        model, tokenizer = getModel(model_name, num_labels)\n",
        "    #Start encodings\n",
        "    print(f'STARTING ENCODING:')\n",
        "    print(f'Train set:')\n",
        "    train_encodings = encode(tokenizer, train_df, train_labels_df)\n",
        "    print(f'Validation set:')\n",
        "    val_encodings = encode(tokenizer, val_df, val_labels_df)\n",
        "    print(f'ENCODING COMPLETE.')\n",
        "\n",
        "    #create training dataset\n",
        "    train_dataset = CreateDataset(train_encodings)\n",
        "    #create training dataloader\n",
        "    data_loader_train = torch.utils.data.DataLoader(train_dataset,\n",
        "                                        batch_size=batch_size,\n",
        "                                        shuffle = True\n",
        "                                        )\n",
        "    #create validation dataset\n",
        "    val_dataset = CreateDataset(val_encodings)\n",
        "    #create validation dataloader\n",
        "    data_loader_val = torch.utils.data.DataLoader(val_dataset,\n",
        "                                        batch_size=batch_size,\n",
        "                                        shuffle = False\n",
        "                                        )\n",
        "\n",
        "    #Optimizer\n",
        "    optimizer = torch.optim.AdamW(model.parameters(), lr=lr, weight_decay=1.5e-2)\n",
        "    print(f'STARTING TRAINING:')\n",
        "    statistics = training_loop(num_epochs, optimizer, criterion, model,\n",
        "                               data_loader_train, data_loader_val)\n",
        "    print(f'TRAINING COMPLETE.')\n",
        "    return model, tokenizer, statistics"
      ]
    },
    {
      "cell_type": "code",
      "execution_count": 24,
      "metadata": {
        "execution": {
          "iopub.execute_input": "2023-04-05T12:48:06.004716Z",
          "iopub.status.busy": "2023-04-05T12:48:06.004024Z",
          "iopub.status.idle": "2023-04-05T12:48:06.014804Z",
          "shell.execute_reply": "2023-04-05T12:48:06.013861Z",
          "shell.execute_reply.started": "2023-04-05T12:48:06.004680Z"
        },
        "id": "zJHqzQPD8K6Q",
        "trusted": true
      },
      "outputs": [],
      "source": [
        "def evaluate(model, criterion, data_loader, device):\n",
        "  average_loss = []\n",
        "  predictions = []\n",
        "  model.eval()\n",
        "  model.to(device)\n",
        "  first = True\n",
        "  loop = tqdm(data_loader_val)\n",
        "  with torch.no_grad():\n",
        "    for batch in loop:\n",
        "      target = batch['labels'].to(device)\n",
        "      prediction = model(batch['input_ids'].to(device), attention_mask = batch[\"attention_mask\"].to(device))\n",
        "      predictions.append(prediction)\n",
        "      loss = criterion(prediction,target)\n",
        "      average_loss.append(loss.item())\n",
        "    \n",
        "  loss = np.mean(average_loss)\n",
        "  print(f\"\\naverage loss on val set: {loss}\")\n",
        "\n",
        "  return predictions"
      ]
    },
    {
      "cell_type": "code",
      "execution_count": 25,
      "metadata": {
        "execution": {
          "iopub.execute_input": "2023-04-05T12:48:06.018683Z",
          "iopub.status.busy": "2023-04-05T12:48:06.018401Z",
          "iopub.status.idle": "2023-04-05T12:48:06.027677Z",
          "shell.execute_reply": "2023-04-05T12:48:06.026647Z",
          "shell.execute_reply.started": "2023-04-05T12:48:06.018657Z"
        },
        "id": "CKi5YO3ZqDlH",
        "trusted": true
      },
      "outputs": [],
      "source": [
        "def encode(tokenizer, df, labels):\n",
        "    #premise , stance, conclusion  --> premise, stance + conclusion\n",
        "    #append the stance to the conclusion by putting a separator between them\n",
        "  sequence_sc = df[\"Stance\"].str.cat(df[\"Conclusion\"], sep = '[SEP]') # If needed a separator can be passed, for example with sep='[SEP] '\n",
        "  encodings = tokenizer(list(df['Premise']), list(sequence_sc), \n",
        "                          padding=True,\n",
        "                          truncation=True,\n",
        "                          max_length = 250\n",
        "                          )\n",
        "  input_ids, input_attention_mask = encodings['input_ids'], encodings['attention_mask']\n",
        "  encodings.update({'labels' : torch.FloatTensor(labels.values)})\n",
        "  encodings.pop('token_type_ids')\n",
        "  return encodings"
      ]
    },
    {
      "cell_type": "markdown",
      "metadata": {
        "id": "GU1w98I_7SK4"
      },
      "source": [
        "An example of encoded row is:\n",
        "'[CLS]', 'we', 'should', 'ban', 'human', 'cl', '##oning', 'as',\n",
        "       'it', 'will', 'only', 'cause', 'huge', 'issues', 'when', 'you',\n",
        "       'have', 'a', 'bunch', 'of', 'the', 'same', 'humans', 'running',\n",
        "       'around', 'all', 'acting', 'the', 'same', '.', '[SEP]', 'in',\n",
        "       'favor', 'of', '[SEP]', 'we', 'should', 'ban', 'human', 'cl',\n",
        "       '##oning', '[SEP]', '[PAD]'"
      ]
    },
    {
      "cell_type": "code",
      "source": [
        "from sklearn.metrics import f1_score \n",
        "def find_threshold(y_p, y_true,labels):\n",
        "  '''\n",
        "    Finds the optimal threshold for the F1-score for each label. \n",
        "    -------------\n",
        "    Returns a list\n",
        "  '''\n",
        "  result = {}\n",
        "  max_thresh = 0.6\n",
        "  min_thresh = 0.05\n",
        "  step = 0.05\n",
        "  thresh_v = np.arange(min_thresh, max_thresh, step)\n",
        "  for lbl in range(len(labels)):\n",
        "    _pred = [item[lbl] for item in y_p]\n",
        "    _true = [item[lbl] for item in y_true]\n",
        "    scores = []\n",
        "    for threshold in thresh_v:\n",
        "      _y_pred=[]\n",
        "      _y_pred.append([1 if sample>=threshold else 0 for sample in _pred])\n",
        "      _y_pred = np.array(_y_pred).reshape(-1)\n",
        "      scores.append(np.round(f1_score(_true, _y_pred, average=\"macro\"),2))\n",
        "    result[labels[lbl]] = scores\n",
        "  print(result)\n",
        "  \n",
        "  best_thresholds = []\n",
        "  for lbl in result:\n",
        "    best_thresholds.append(thresh_v[np.argmax(result[lbl])])\n",
        "  return best_thresholds"
      ],
      "metadata": {
        "id": "7JWTKMY-_rA0"
      },
      "execution_count": 54,
      "outputs": []
    },
    {
      "cell_type": "code",
      "execution_count": 27,
      "metadata": {
        "execution": {
          "iopub.execute_input": "2023-04-05T12:48:06.030949Z",
          "iopub.status.busy": "2023-04-05T12:48:06.030367Z",
          "iopub.status.idle": "2023-04-05T12:48:06.038524Z",
          "shell.execute_reply": "2023-04-05T12:48:06.037334Z",
          "shell.execute_reply.started": "2023-04-05T12:48:06.030800Z"
        },
        "id": "QZMiATWyJK88",
        "trusted": true
      },
      "outputs": [],
      "source": [
        "#premise = train_df['Premise']\n",
        "#stance = train_df['Stance']\n",
        "#conclusion = train_df['Conclusion'] \n",
        "num_labels = train_labels_df.shape[1]"
      ]
    },
    {
      "cell_type": "code",
      "execution_count": 28,
      "metadata": {
        "execution": {
          "iopub.execute_input": "2023-04-05T12:48:06.042452Z",
          "iopub.status.busy": "2023-04-05T12:48:06.040966Z",
          "iopub.status.idle": "2023-04-05T12:48:06.047264Z",
          "shell.execute_reply": "2023-04-05T12:48:06.046074Z",
          "shell.execute_reply.started": "2023-04-05T12:48:06.042416Z"
        },
        "id": "PFalynGpbzpJ",
        "trusted": true
      },
      "outputs": [],
      "source": [
        "#model_checkpoint= 'prajjwal1/bert-tiny'\n",
        "#model_checkpoint = \"distilbert-base-uncased\"\n",
        "model_checkpoint = 'bert-base-uncased'\n",
        "#tokenizer = AutoTokenizer.from_pretrained(model_checkpoint)\n",
        "#device = torch.device('cuda') if torch.cuda.is_available() else torch.device('cpu') \n",
        "\n",
        "#eos_token  = tokenizer.cls_token_id\n",
        "#sep_token  = tokenizer.sep_token_id\n",
        "\n",
        "    "
      ]
    },
    {
      "cell_type": "code",
      "execution_count": 29,
      "metadata": {
        "colab": {
          "base_uri": "https://localhost:8080/",
          "height": 87
        },
        "execution": {
          "iopub.execute_input": "2023-04-05T12:48:06.055191Z",
          "iopub.status.busy": "2023-04-05T12:48:06.054908Z",
          "iopub.status.idle": "2023-04-05T12:48:06.062029Z",
          "shell.execute_reply": "2023-04-05T12:48:06.060797Z",
          "shell.execute_reply.started": "2023-04-05T12:48:06.055145Z"
        },
        "id": "JOFSynuWHeps",
        "outputId": "f628a065-70fc-49b8-e090-22a39a65f40b",
        "trusted": true
      },
      "outputs": [
        {
          "output_type": "execute_result",
          "data": {
            "text/plain": [
              "\"\\nencodings = tokenizer(list(train_df['Premise']), list(sequence_sc), \\n                          padding=True,\\n                          truncation=True,\\n                          max_length = 250\\n                          )\\ninput_ids, input_attention_mask = encodings['input_ids'], encodings['attention_mask']\\n#label_values = tokenizer(answers,padding=True,truncation=True,max_length = 60)\\n#labels, labels_mask = label_values['input_ids'], label_values['attention_mask']\\n\\n\\n#max_length = len(labels[0])\\n\\n#masked_labels = [[-100 if token == tokenizer.pad_token_id else token for token in labels] for labels in labels]\\nprint(f'length of input_ids: {np.shape(input_ids)}')\\n\\n#add targets to the encodings dictionary\\nencodings.update({'labels' : torch.FloatTensor(train_labels_df.values)})\\n\""
            ],
            "application/vnd.google.colaboratory.intrinsic+json": {
              "type": "string"
            }
          },
          "metadata": {},
          "execution_count": 29
        }
      ],
      "source": [
        "'''\n",
        "encodings = tokenizer(list(train_df['Premise']), list(sequence_sc), \n",
        "                          padding=True,\n",
        "                          truncation=True,\n",
        "                          max_length = 250\n",
        "                          )\n",
        "input_ids, input_attention_mask = encodings['input_ids'], encodings['attention_mask']\n",
        "#label_values = tokenizer(answers,padding=True,truncation=True,max_length = 60)\n",
        "#labels, labels_mask = label_values['input_ids'], label_values['attention_mask']\n",
        "\n",
        "\n",
        "#max_length = len(labels[0])\n",
        "\n",
        "#masked_labels = [[-100 if token == tokenizer.pad_token_id else token for token in labels] for labels in labels]\n",
        "print(f'length of input_ids: {np.shape(input_ids)}')\n",
        "\n",
        "#add targets to the encodings dictionary\n",
        "encodings.update({'labels' : torch.FloatTensor(train_labels_df.values)})\n",
        "'''"
      ]
    },
    {
      "cell_type": "code",
      "execution_count": 30,
      "metadata": {
        "execution": {
          "iopub.execute_input": "2023-04-05T12:48:06.064746Z",
          "iopub.status.busy": "2023-04-05T12:48:06.063566Z",
          "iopub.status.idle": "2023-04-05T12:48:06.071788Z",
          "shell.execute_reply": "2023-04-05T12:48:06.070484Z",
          "shell.execute_reply.started": "2023-04-05T12:48:06.064709Z"
        },
        "id": "pQwa2kJ0KQiV",
        "trusted": true
      },
      "outputs": [],
      "source": [
        "#len(encodings.items())"
      ]
    },
    {
      "cell_type": "code",
      "execution_count": 31,
      "metadata": {
        "execution": {
          "iopub.execute_input": "2023-04-05T12:48:06.074071Z",
          "iopub.status.busy": "2023-04-05T12:48:06.073408Z",
          "iopub.status.idle": "2023-04-05T12:48:06.079684Z",
          "shell.execute_reply": "2023-04-05T12:48:06.078573Z",
          "shell.execute_reply.started": "2023-04-05T12:48:06.074034Z"
        },
        "id": "SaX0HJCaOOO-",
        "trusted": true
      },
      "outputs": [],
      "source": [
        "#encodings['labels'][:3]"
      ]
    },
    {
      "cell_type": "code",
      "execution_count": 32,
      "metadata": {
        "execution": {
          "iopub.execute_input": "2023-04-05T12:48:06.082282Z",
          "iopub.status.busy": "2023-04-05T12:48:06.081508Z",
          "iopub.status.idle": "2023-04-05T12:48:06.087920Z",
          "shell.execute_reply": "2023-04-05T12:48:06.086947Z",
          "shell.execute_reply.started": "2023-04-05T12:48:06.082242Z"
        },
        "id": "W2wkwVlgPrQX",
        "trusted": true
      },
      "outputs": [],
      "source": [
        "#np.array(tokenizer.batch_decode(input_ids[0])).squeeze()"
      ]
    },
    {
      "cell_type": "code",
      "execution_count": 33,
      "metadata": {
        "execution": {
          "iopub.execute_input": "2023-04-05T12:48:06.093243Z",
          "iopub.status.busy": "2023-04-05T12:48:06.092721Z",
          "iopub.status.idle": "2023-04-05T12:48:06.101965Z",
          "shell.execute_reply": "2023-04-05T12:48:06.100616Z",
          "shell.execute_reply.started": "2023-04-05T12:48:06.093208Z"
        },
        "id": "mbmP9h2lCEC_",
        "trusted": true
      },
      "outputs": [],
      "source": [
        "lr = 5e-5\n",
        "batch_size = 32\n",
        "epochs = 3\n",
        "criterion = torch.nn.BCELoss()"
      ]
    },
    {
      "cell_type": "code",
      "execution_count": 34,
      "metadata": {
        "execution": {
          "iopub.execute_input": "2023-04-05T12:48:06.107672Z",
          "iopub.status.busy": "2023-04-05T12:48:06.107164Z",
          "iopub.status.idle": "2023-04-05T12:48:06.122635Z",
          "shell.execute_reply": "2023-04-05T12:48:06.121235Z",
          "shell.execute_reply.started": "2023-04-05T12:48:06.107636Z"
        },
        "id": "G3TfYpMd-vP8",
        "trusted": true
      },
      "outputs": [],
      "source": [
        "from torch.nn.modules import dropout\n",
        "from transformers import DistilBertModel, BertModel\n",
        "import torch.nn as nn\n",
        "class CustomBERTModel(nn.Module):\n",
        "    def __init__(self,checkpoint,num_labels):\n",
        "          super(CustomBERTModel, self).__init__()\n",
        "          self.num_labels = num_labels\n",
        "          #self.model = model = DistilBertModel.from_pretrained(checkpoint)\n",
        "          self.model = model = BertModel.from_pretrained(checkpoint)\n",
        "          ### New layers:\n",
        "          #self.l1 = dropout(0.1)\n",
        "          self.l2 = nn.Linear(self.model.config.hidden_size, 256)\n",
        "          self.classifier = nn.Linear(256, num_labels) ## num_labels are the number of classes \n",
        "          #self.classifier = nn.Linear(self.model.config.hidden_size, num_labels) ## num_labels are the number of classes \n",
        "\n",
        "    def forward(self, input_ids, attention_mask):\n",
        "          output = self.model(\n",
        "               input_ids, \n",
        "               attention_mask=attention_mask)\n",
        "          sequence_output = output[0]\n",
        "          #the pooler output contains the information \n",
        "          pooler_output = output.pooler_output\n",
        "          # sequence_output has the following shape: (batch_size, sequence_length, 768)\n",
        "          #x = self.linear1(sequence_output[:,0,:].view(-1,768)) ## extract the 1st token's embeddings CLS\n",
        "         # x = self.l1(pooler_output)\n",
        "          x = self.l2(pooler_output)\n",
        "          x = self.classifier(x)\n",
        "          #x = self.classifier(pooler_output)\n",
        "          output = torch.sigmoid(x)\n",
        "          return output"
      ]
    },
    {
      "cell_type": "markdown",
      "metadata": {
        "id": "tcMGWu6cjSdu"
      },
      "source": [
        "The Bert model is trained only for 3 epochs as suggested by its authors."
      ]
    },
    {
      "cell_type": "code",
      "execution_count": 35,
      "metadata": {
        "colab": {
          "base_uri": "https://localhost:8080/",
          "height": 509,
          "referenced_widgets": [
            "85b8377ab8bd4857aa90548cbbd8f394",
            "60e278cc3dc24df69ebc1b80a50d8b0d",
            "0c5c572a07a04ea082e80c7b5db1d2b4",
            "9084957d905044698a8e37e1064dbdff",
            "ae189fd0b74943809fcbf26b2d5e6249",
            "a808e0d3480340efbe2113a86317b896",
            "655f005cef9c421e80cf9eaa7809c37b",
            "dd21f66171b04fe88e2558b1f2365e9f",
            "3637d4402c3544fea683f3284c9e093e",
            "046f09c2f9024fef9c86ae37e10263ce",
            "94a5706f8bf749a2b79c3f6b6100194b",
            "33ba7747dfcf4899ada014dbb4a08e54",
            "6492faefb1a84ae585e225b99404f83c",
            "d8be46e4f6fc4d76b6595ff94dcc4aee",
            "256c35d48cd04dbcaffe8aff43218469",
            "d3d8d751bcfd47d887633a5a13869346",
            "4736ac31ca5e4d63960a0af65769ca24",
            "3a42d383b6b04b60b5738f1b16d03523",
            "68ff9dcf67814b88a1ff75c3b404213e",
            "b781cb8bc1274e6ca97737c4cc08aa96",
            "ee30c98aa9434202928ddc2c97b94e16",
            "030cc2733b2342b4b5ac08717ad8f899",
            "5711f0a8a0af4bf6ac70192f3f6f6ed2",
            "7eb86c64b8c349bf9846e6e23c4caa98",
            "1eb3cd984b9b4b7cbad0adb24a890bcc",
            "03a50e47070e49a1b933855c571f2df9",
            "a62f6dd9e2ef43e9983ad06d686891ae",
            "255174e7f2b24b0b9bfc66cbba82534f",
            "0bc29dc3b19c4c40816260e1849e1fc0",
            "5794d3c3b0fb4925a82af670ff37f09c",
            "24c0a09e36a741cbb63d8342ad9f06b1",
            "a47dc12fdba041d1b6afbc7dca49507d",
            "bc589ca95613481c809e654d5dfb7d5a",
            "9473c5cf37c74372adec63c2b91afa80",
            "4f18d19e31714e9aac80db36dc04383f",
            "bebba5b601a249c0ac66244920adc564",
            "9963653facc94ce4978262c8f53198c8",
            "cfd12ed62ed74705a20fdaa8c60fa275",
            "0670a49f1a14463bb6c9eee562230efe",
            "110525c777e242bca38cf9eca8e2ad03",
            "47e1a36f942244f489a20f18b06ba7e1",
            "8091da3fe86d4630bb58354d66198c2d",
            "796fb81c9cf44496a830f5f97c61c5b2",
            "db7e9c1083c24fc196252888a0195bc6",
            "04c93baa1c144703a2f03f5b8ab403cd",
            "da6f0203543a48b0b91522e1b888bc02",
            "b9111510ee9f4aff9d0ea963befb1e04",
            "535a78e734844f5ba7c19bc699fa00b1",
            "fc7dd815f7d045b7b1d37e9b26fab490",
            "9c11f0a2adfc46a8b3f7f4aaca8b9beb",
            "a972995c684a423989cb47da50fc0ba5",
            "3118a586105946c4a13b8d1836e6b680",
            "635a9dc619dc422f9cd8d34aac6dbfc1",
            "c481b4454a2c49dba16e823675da29e8",
            "18d654214c6844a894c88f58f16468db"
          ]
        },
        "execution": {
          "iopub.execute_input": "2023-04-05T12:48:43.963580Z",
          "iopub.status.busy": "2023-04-05T12:48:43.962878Z",
          "iopub.status.idle": "2023-04-05T12:53:32.791018Z",
          "shell.execute_reply": "2023-04-05T12:53:32.789794Z",
          "shell.execute_reply.started": "2023-04-05T12:48:43.963540Z"
        },
        "id": "xBV8UxfqrIzl",
        "outputId": "0f230ee0-34d4-41ca-f521-ec56443d1bbb",
        "trusted": true
      },
      "outputs": [
        {
          "output_type": "display_data",
          "data": {
            "text/plain": [
              "Downloading (…)lve/main/config.json:   0%|          | 0.00/570 [00:00<?, ?B/s]"
            ],
            "application/vnd.jupyter.widget-view+json": {
              "version_major": 2,
              "version_minor": 0,
              "model_id": "85b8377ab8bd4857aa90548cbbd8f394"
            }
          },
          "metadata": {}
        },
        {
          "output_type": "display_data",
          "data": {
            "text/plain": [
              "Downloading pytorch_model.bin:   0%|          | 0.00/440M [00:00<?, ?B/s]"
            ],
            "application/vnd.jupyter.widget-view+json": {
              "version_major": 2,
              "version_minor": 0,
              "model_id": "33ba7747dfcf4899ada014dbb4a08e54"
            }
          },
          "metadata": {}
        },
        {
          "output_type": "stream",
          "name": "stderr",
          "text": [
            "Some weights of the model checkpoint at bert-base-uncased were not used when initializing BertModel: ['cls.predictions.bias', 'cls.seq_relationship.bias', 'cls.predictions.transform.LayerNorm.weight', 'cls.predictions.transform.dense.weight', 'cls.predictions.decoder.weight', 'cls.predictions.transform.LayerNorm.bias', 'cls.seq_relationship.weight', 'cls.predictions.transform.dense.bias']\n",
            "- This IS expected if you are initializing BertModel from the checkpoint of a model trained on another task or with another architecture (e.g. initializing a BertForSequenceClassification model from a BertForPreTraining model).\n",
            "- This IS NOT expected if you are initializing BertModel from the checkpoint of a model that you expect to be exactly identical (initializing a BertForSequenceClassification model from a BertForSequenceClassification model).\n"
          ]
        },
        {
          "output_type": "display_data",
          "data": {
            "text/plain": [
              "Downloading (…)okenizer_config.json:   0%|          | 0.00/28.0 [00:00<?, ?B/s]"
            ],
            "application/vnd.jupyter.widget-view+json": {
              "version_major": 2,
              "version_minor": 0,
              "model_id": "5711f0a8a0af4bf6ac70192f3f6f6ed2"
            }
          },
          "metadata": {}
        },
        {
          "output_type": "display_data",
          "data": {
            "text/plain": [
              "Downloading (…)solve/main/vocab.txt:   0%|          | 0.00/232k [00:00<?, ?B/s]"
            ],
            "application/vnd.jupyter.widget-view+json": {
              "version_major": 2,
              "version_minor": 0,
              "model_id": "9473c5cf37c74372adec63c2b91afa80"
            }
          },
          "metadata": {}
        },
        {
          "output_type": "display_data",
          "data": {
            "text/plain": [
              "Downloading (…)/main/tokenizer.json:   0%|          | 0.00/466k [00:00<?, ?B/s]"
            ],
            "application/vnd.jupyter.widget-view+json": {
              "version_major": 2,
              "version_minor": 0,
              "model_id": "04c93baa1c144703a2f03f5b8ab403cd"
            }
          },
          "metadata": {}
        },
        {
          "output_type": "stream",
          "name": "stdout",
          "text": [
            "STARTING ENCODING:\n",
            "Train set:\n",
            "Validation set:\n",
            "ENCODING COMPLETE.\n",
            "STARTING TRAINING:\n"
          ]
        },
        {
          "output_type": "stream",
          "name": "stderr",
          "text": [
            "\r  0%|          | 0/169 [00:00<?, ?it/s]<ipython-input-19-4004cf27e00a>:6: UserWarning: To copy construct from a tensor, it is recommended to use sourceTensor.clone().detach() or sourceTensor.clone().detach().requires_grad_(True), rather than torch.tensor(sourceTensor).\n",
            "  return {key: torch.tensor(val[idx]) for key, val in self.encodings.items()}\n",
            "Epoch 1: 100%|██████████| 169/169 [02:30<00:00,  1.12it/s, loss=0.366]\n"
          ]
        },
        {
          "output_type": "stream",
          "name": "stdout",
          "text": [
            "Epoch: 1  Lr: 0.00005000  Loss: Train = [0.4149] - Val = [0.3705]  Time one epoch (s): 170.3258 \n"
          ]
        },
        {
          "output_type": "stream",
          "name": "stderr",
          "text": [
            "Epoch 2: 100%|██████████| 169/169 [02:28<00:00,  1.14it/s, loss=0.324]\n"
          ]
        },
        {
          "output_type": "stream",
          "name": "stdout",
          "text": [
            "Epoch: 2  Lr: 0.00005000  Loss: Train = [0.3421] - Val = [0.3428]  Time one epoch (s): 168.0337 \n"
          ]
        },
        {
          "output_type": "stream",
          "name": "stderr",
          "text": [
            "Epoch 3: 100%|██████████| 169/169 [02:28<00:00,  1.14it/s, loss=0.325]\n"
          ]
        },
        {
          "output_type": "stream",
          "name": "stdout",
          "text": [
            "Epoch: 3  Lr: 0.00005000  Loss: Train = [0.2981] - Val = [0.3412]  Time one epoch (s): 167.6846 \n",
            "Time for 3 epochs (s): 506.045\n",
            "TRAINING COMPLETE.\n"
          ]
        }
      ],
      "source": [
        "#execute\n",
        "model, tokenizer, statistics = execute(lr, epochs, batch_size, criterion, num_labels, train_df, train_labels_df, val_df, val_labels_df, model_name=model_checkpoint)"
      ]
    },
    {
      "cell_type": "code",
      "execution_count": 36,
      "metadata": {
        "execution": {
          "iopub.execute_input": "2023-04-05T12:53:32.794819Z",
          "iopub.status.busy": "2023-04-05T12:53:32.794441Z",
          "iopub.status.idle": "2023-04-05T12:53:32.985356Z",
          "shell.execute_reply": "2023-04-05T12:53:32.984457Z",
          "shell.execute_reply.started": "2023-04-05T12:53:32.794782Z"
        },
        "id": "-_o2L5ofyyFz",
        "trusted": true,
        "colab": {
          "base_uri": "https://localhost:8080/",
          "height": 487
        },
        "outputId": "d6a7caa4-ba0b-432f-971f-4d510f59bd4d"
      },
      "outputs": [
        {
          "output_type": "display_data",
          "data": {
            "text/plain": [
              "<Figure size 1000x500 with 1 Axes>"
            ],
            "image/png": "[encoded data removed]"
          },
          "metadata": {}
        }
      ],
      "source": [
        "plt.figure(figsize=(10,5))\n",
        "plt.title(\"Loss\")\n",
        "plt.plot(statistics['train_loss_values'],label=\"train loss\")\n",
        "plt.plot(statistics['val_loss_values'],label=\"validation loss\")\n",
        "plt.xlabel(\"Iterations\")\n",
        "plt.xticks(np.arange(epochs), np.arange(1, epochs+1, 1))\n",
        "plt.ylabel(\"Loss\")\n",
        "plt.show()"
      ]
    },
    {
      "cell_type": "code",
      "execution_count": 37,
      "metadata": {
        "execution": {
          "iopub.execute_input": "2023-04-05T12:53:32.987501Z",
          "iopub.status.busy": "2023-04-05T12:53:32.987197Z",
          "iopub.status.idle": "2023-04-05T12:53:33.284628Z",
          "shell.execute_reply": "2023-04-05T12:53:33.283553Z",
          "shell.execute_reply.started": "2023-04-05T12:53:32.987473Z"
        },
        "id": "FetDMqw-TAqP",
        "trusted": true
      },
      "outputs": [],
      "source": [
        "test_encodings = encode(tokenizer,val_df, val_labels_df)\n",
        "val_dataset = CreateDataset(test_encodings)\n",
        "#create training dataloader\n",
        "eval_batch_size = 8\n",
        "data_loader_val = torch.utils.data.DataLoader(val_dataset,\n",
        "                                        batch_size=eval_batch_size,\n",
        "                                        shuffle = False\n",
        "                                        )"
      ]
    },
    {
      "cell_type": "code",
      "execution_count": 38,
      "metadata": {
        "execution": {
          "iopub.execute_input": "2023-04-05T12:53:33.291619Z",
          "iopub.status.busy": "2023-04-05T12:53:33.291293Z",
          "iopub.status.idle": "2023-04-05T12:53:33.884330Z",
          "shell.execute_reply": "2023-04-05T12:53:33.883242Z",
          "shell.execute_reply.started": "2023-04-05T12:53:33.291586Z"
        },
        "id": "Hhq164JvI5Qp",
        "trusted": true,
        "colab": {
          "base_uri": "https://localhost:8080/"
        },
        "outputId": "7458b42a-8d36-4db7-88bb-f6630af0dd40"
      },
      "outputs": [
        {
          "output_type": "execute_result",
          "data": {
            "text/plain": [
              "0"
            ]
          },
          "metadata": {},
          "execution_count": 38
        }
      ],
      "source": [
        "torch.cuda.empty_cache()\n",
        "torch.cuda.reset_accumulated_memory_stats()\n",
        "gc.collect()"
      ]
    },
    {
      "cell_type": "code",
      "execution_count": 39,
      "metadata": {
        "execution": {
          "iopub.execute_input": "2023-04-05T12:53:33.887124Z",
          "iopub.status.busy": "2023-04-05T12:53:33.885697Z",
          "iopub.status.idle": "2023-04-05T12:53:34.982322Z",
          "shell.execute_reply": "2023-04-05T12:53:34.980952Z",
          "shell.execute_reply.started": "2023-04-05T12:53:33.887084Z"
        },
        "id": "W60PC1DqW6TV",
        "trusted": true,
        "colab": {
          "base_uri": "https://localhost:8080/"
        },
        "outputId": "fdf82d35-3484-4668-c4d4-22066b9e7701"
      },
      "outputs": [
        {
          "output_type": "stream",
          "name": "stdout",
          "text": [
            "Sat May  6 18:38:09 2023       \n",
            "+-----------------------------------------------------------------------------+\n",
            "| NVIDIA-SMI 525.85.12    Driver Version: 525.85.12    CUDA Version: 12.0     |\n",
            "|-------------------------------+----------------------+----------------------+\n",
            "| GPU  Name        Persistence-M| Bus-Id        Disp.A | Volatile Uncorr. ECC |\n",
            "| Fan  Temp  Perf  Pwr:Usage/Cap|         Memory-Usage | GPU-Util  Compute M. |\n",
            "|                               |                      |               MIG M. |\n",
            "|===============================+======================+======================|\n",
            "|   0  Tesla T4            Off  | 00000000:00:04.0 Off |                    0 |\n",
            "| N/A   75C    P0    42W /  70W |   2999MiB / 15360MiB |      0%      Default |\n",
            "|                               |                      |                  N/A |\n",
            "+-------------------------------+----------------------+----------------------+\n",
            "                                                                               \n",
            "+-----------------------------------------------------------------------------+\n",
            "| Processes:                                                                  |\n",
            "|  GPU   GI   CI        PID   Type   Process name                  GPU Memory |\n",
            "|        ID   ID                                                   Usage      |\n",
            "|=============================================================================|\n",
            "+-----------------------------------------------------------------------------+\n"
          ]
        }
      ],
      "source": [
        "!nvidia-smi"
      ]
    },
    {
      "cell_type": "code",
      "execution_count": 40,
      "metadata": {
        "execution": {
          "iopub.execute_input": "2023-04-05T12:53:34.984930Z",
          "iopub.status.busy": "2023-04-05T12:53:34.984521Z",
          "iopub.status.idle": "2023-04-05T12:53:34.992701Z",
          "shell.execute_reply": "2023-04-05T12:53:34.991429Z",
          "shell.execute_reply.started": "2023-04-05T12:53:34.984882Z"
        },
        "id": "ONXx1HJy1ovJ",
        "trusted": true,
        "colab": {
          "base_uri": "https://localhost:8080/"
        },
        "outputId": "e30a3200-6400-46aa-9eca-943299474d5f"
      },
      "outputs": [
        {
          "output_type": "execute_result",
          "data": {
            "text/plain": [
              "dict_keys(['input_ids', 'attention_mask', 'labels'])"
            ]
          },
          "metadata": {},
          "execution_count": 40
        }
      ],
      "source": [
        "len(test_encodings)\n",
        "test_encodings.keys()"
      ]
    },
    {
      "cell_type": "code",
      "execution_count": 41,
      "metadata": {
        "execution": {
          "iopub.execute_input": "2023-04-05T12:53:34.995266Z",
          "iopub.status.busy": "2023-04-05T12:53:34.994504Z",
          "iopub.status.idle": "2023-04-05T12:53:45.329200Z",
          "shell.execute_reply": "2023-04-05T12:53:45.327998Z",
          "shell.execute_reply.started": "2023-04-05T12:53:34.995228Z"
        },
        "id": "JqYmyJXh3CIS",
        "trusted": true,
        "colab": {
          "base_uri": "https://localhost:8080/"
        },
        "outputId": "1ac67700-c9ea-47cb-d636-3d94e966d3eb"
      },
      "outputs": [
        {
          "output_type": "stream",
          "name": "stderr",
          "text": [
            "  0%|          | 0/237 [00:00<?, ?it/s]<ipython-input-19-4004cf27e00a>:6: UserWarning: To copy construct from a tensor, it is recommended to use sourceTensor.clone().detach() or sourceTensor.clone().detach().requires_grad_(True), rather than torch.tensor(sourceTensor).\n",
            "  return {key: torch.tensor(val[idx]) for key, val in self.encodings.items()}\n",
            "100%|██████████| 237/237 [00:19<00:00, 12.32it/s]"
          ]
        },
        {
          "output_type": "stream",
          "name": "stdout",
          "text": [
            "\n",
            "average loss on val set: 0.33963129157003974\n"
          ]
        },
        {
          "output_type": "stream",
          "name": "stderr",
          "text": [
            "\n"
          ]
        }
      ],
      "source": [
        "device = torch.device('cuda') if torch.cuda.is_available() else torch.device('cpu')\n",
        "model.to(device)\n",
        "\n",
        "predictions = evaluate(model, criterion, data_loader_val, device)"
      ]
    },
    {
      "cell_type": "code",
      "execution_count": 42,
      "metadata": {
        "execution": {
          "iopub.execute_input": "2023-04-05T12:53:45.331902Z",
          "iopub.status.busy": "2023-04-05T12:53:45.330885Z",
          "iopub.status.idle": "2023-04-05T12:53:45.341734Z",
          "shell.execute_reply": "2023-04-05T12:53:45.340540Z",
          "shell.execute_reply.started": "2023-04-05T12:53:45.331860Z"
        },
        "id": "Nj5N_qQRZUQ0",
        "trusted": true,
        "colab": {
          "base_uri": "https://localhost:8080/"
        },
        "outputId": "bff02092-cae8-4fae-b169-fc1ad7578309"
      },
      "outputs": [
        {
          "output_type": "execute_result",
          "data": {
            "text/plain": [
              "torch.Size([237, 8, 20])"
            ]
          },
          "metadata": {},
          "execution_count": 42
        }
      ],
      "source": [
        "predictions = torch.stack(predictions).detach().cpu()\n",
        "len(predictions)\n",
        "np.shape(predictions)"
      ]
    },
    {
      "cell_type": "code",
      "execution_count": 43,
      "metadata": {
        "execution": {
          "iopub.execute_input": "2023-04-05T12:53:45.344313Z",
          "iopub.status.busy": "2023-04-05T12:53:45.343867Z",
          "iopub.status.idle": "2023-04-05T12:53:45.365641Z",
          "shell.execute_reply": "2023-04-05T12:53:45.364735Z",
          "shell.execute_reply.started": "2023-04-05T12:53:45.344273Z"
        },
        "id": "Mn8IGGyEde1A",
        "trusted": true
      },
      "outputs": [],
      "source": [
        "#reshape\n",
        "y_p = []\n",
        "for idx in range(len(predictions)):\n",
        "  for b in range(eval_batch_size):\n",
        "    y_p.append(predictions[idx][b])"
      ]
    },
    {
      "cell_type": "code",
      "execution_count": 44,
      "metadata": {
        "execution": {
          "iopub.execute_input": "2023-04-05T12:53:45.370049Z",
          "iopub.status.busy": "2023-04-05T12:53:45.369780Z",
          "iopub.status.idle": "2023-04-05T12:53:45.379283Z",
          "shell.execute_reply": "2023-04-05T12:53:45.378225Z",
          "shell.execute_reply.started": "2023-04-05T12:53:45.370022Z"
        },
        "id": "DKIzeqEcp5ww",
        "trusted": true,
        "colab": {
          "base_uri": "https://localhost:8080/"
        },
        "outputId": "c42429e6-abfc-43f7-c8dd-a14861898b69"
      },
      "outputs": [
        {
          "output_type": "execute_result",
          "data": {
            "text/plain": [
              "torch.Size([1896, 20])"
            ]
          },
          "metadata": {},
          "execution_count": 44
        }
      ],
      "source": [
        "np.shape(torch.stack(y_p).detach().cpu())"
      ]
    },
    {
      "cell_type": "code",
      "execution_count": 45,
      "metadata": {
        "execution": {
          "iopub.execute_input": "2023-04-05T12:53:45.381414Z",
          "iopub.status.busy": "2023-04-05T12:53:45.381017Z",
          "iopub.status.idle": "2023-04-05T12:53:45.655924Z",
          "shell.execute_reply": "2023-04-05T12:53:45.654777Z",
          "shell.execute_reply.started": "2023-04-05T12:53:45.381376Z"
        },
        "id": "JPqjOuLzqRWu",
        "trusted": true,
        "colab": {
          "base_uri": "https://localhost:8080/"
        },
        "outputId": "542ea7c1-0a4d-47f2-a4ac-600220718185"
      },
      "outputs": [
        {
          "output_type": "execute_result",
          "data": {
            "text/plain": [
              "(1896, 20)"
            ]
          },
          "metadata": {},
          "execution_count": 45
        }
      ],
      "source": [
        "threshold = 0.35\n",
        "y_pred=[]\n",
        "for sample in y_p:\n",
        "  y_pred.append([1 if i>=threshold else 0 for i in sample])\n",
        "y_pred = np.array(y_pred)\n",
        "y_pred.shape"
      ]
    },
    {
      "cell_type": "code",
      "execution_count": 46,
      "metadata": {
        "execution": {
          "iopub.execute_input": "2023-04-05T12:53:45.658201Z",
          "iopub.status.busy": "2023-04-05T12:53:45.657732Z",
          "iopub.status.idle": "2023-04-05T12:53:45.665373Z",
          "shell.execute_reply": "2023-04-05T12:53:45.664012Z",
          "shell.execute_reply.started": "2023-04-05T12:53:45.658122Z"
        },
        "id": "KX42h_1UBJgb",
        "trusted": true,
        "colab": {
          "base_uri": "https://localhost:8080/",
          "height": 35
        },
        "outputId": "8749681d-3b2e-4844-9f26-863f88b0260a"
      },
      "outputs": [
        {
          "output_type": "execute_result",
          "data": {
            "text/plain": [
              "'\\nthreshold = 0.5\\ny_pred=[]\\nfor sample in predictions:\\n  y_pred.append([1 if i>=threshold else 0 for i in sample.squeeze(dim=0)])\\ny_pred = np.array(y_pred)\\ny_pred.shape\\n'"
            ],
            "application/vnd.google.colaboratory.intrinsic+json": {
              "type": "string"
            }
          },
          "metadata": {},
          "execution_count": 46
        }
      ],
      "source": [
        "\"\"\"\n",
        "threshold = 0.5\n",
        "y_pred=[]\n",
        "for sample in predictions:\n",
        "  y_pred.append([1 if i>=threshold else 0 for i in sample.squeeze(dim=0)])\n",
        "y_pred = np.array(y_pred)\n",
        "y_pred.shape\n",
        "\"\"\""
      ]
    },
    {
      "cell_type": "code",
      "execution_count": 47,
      "metadata": {
        "execution": {
          "iopub.execute_input": "2023-04-05T12:53:45.668097Z",
          "iopub.status.busy": "2023-04-05T12:53:45.667147Z",
          "iopub.status.idle": "2023-04-05T12:53:45.677579Z",
          "shell.execute_reply": "2023-04-05T12:53:45.676375Z",
          "shell.execute_reply.started": "2023-04-05T12:53:45.668054Z"
        },
        "id": "bnJl4SKnhSa0",
        "trusted": true,
        "colab": {
          "base_uri": "https://localhost:8080/"
        },
        "outputId": "0abeefe3-b289-433d-c838-89bf4e7cba94"
      },
      "outputs": [
        {
          "output_type": "execute_result",
          "data": {
            "text/plain": [
              "array([[0, 0, 0, 0, 0, 0, 0, 0, 0, 1, 0, 0, 0, 0, 0, 0, 0, 0, 0, 0],\n",
              "       [0, 0, 0, 0, 0, 0, 0, 0, 0, 0, 0, 0, 0, 0, 0, 0, 1, 0, 0, 0],\n",
              "       [0, 0, 0, 0, 0, 0, 0, 0, 1, 0, 0, 0, 0, 0, 0, 0, 1, 0, 0, 0],\n",
              "       [0, 1, 0, 0, 0, 0, 0, 0, 0, 0, 0, 0, 0, 0, 0, 0, 0, 0, 0, 0],\n",
              "       [0, 0, 0, 0, 0, 0, 0, 0, 0, 0, 0, 1, 0, 0, 0, 0, 1, 0, 0, 1]])"
            ]
          },
          "metadata": {},
          "execution_count": 47
        }
      ],
      "source": [
        "y_true = np.array(val_labels_df)\n",
        "y_true[:5]"
      ]
    },
    {
      "cell_type": "code",
      "execution_count": 48,
      "metadata": {
        "execution": {
          "iopub.execute_input": "2023-04-05T12:53:45.679665Z",
          "iopub.status.busy": "2023-04-05T12:53:45.679204Z",
          "iopub.status.idle": "2023-04-05T12:53:45.692983Z",
          "shell.execute_reply": "2023-04-05T12:53:45.691762Z",
          "shell.execute_reply.started": "2023-04-05T12:53:45.679628Z"
        },
        "id": "COdbJz8rgYZG",
        "trusted": true,
        "colab": {
          "base_uri": "https://localhost:8080/"
        },
        "outputId": "abc923a2-1c8d-4765-8715-856ecfc88b5e"
      },
      "outputs": [
        {
          "output_type": "execute_result",
          "data": {
            "text/plain": [
              "0.051160337552742616"
            ]
          },
          "metadata": {},
          "execution_count": 48
        }
      ],
      "source": [
        "accuracy_score(y_true, y_pred)"
      ]
    },
    {
      "cell_type": "code",
      "execution_count": 49,
      "metadata": {
        "execution": {
          "iopub.execute_input": "2023-04-05T12:53:45.694945Z",
          "iopub.status.busy": "2023-04-05T12:53:45.694436Z",
          "iopub.status.idle": "2023-04-05T12:53:45.715791Z",
          "shell.execute_reply": "2023-04-05T12:53:45.714852Z",
          "shell.execute_reply.started": "2023-04-05T12:53:45.694909Z"
        },
        "id": "lWJ4AkYGie-T",
        "trusted": true,
        "colab": {
          "base_uri": "https://localhost:8080/"
        },
        "outputId": "78147e4d-b936-41a7-8dfb-9db464083430"
      },
      "outputs": [
        {
          "output_type": "stream",
          "name": "stdout",
          "text": [
            "                            precision    recall  f1-score   support\n",
            "\n",
            "   Self-direction: thought       0.42      0.64      0.51       251\n",
            "    Self-direction: action       0.50      0.61      0.55       496\n",
            "               Stimulation       0.54      0.05      0.09       138\n",
            "                  Hedonism       0.62      0.05      0.09       103\n",
            "               Achievement       0.70      0.55      0.61       575\n",
            "          Power: dominance       0.43      0.16      0.24       164\n",
            "          Power: resources       0.41      0.52      0.46       132\n",
            "                      Face       0.00      0.00      0.00       130\n",
            "        Security: personal       0.70      0.77      0.73       759\n",
            "        Security: societal       0.59      0.66      0.62       488\n",
            "                 Tradition       0.59      0.37      0.45       172\n",
            "         Conformity: rules       0.49      0.56      0.52       455\n",
            " Conformity: interpersonal       0.00      0.00      0.00        60\n",
            "                  Humility       0.31      0.03      0.06       127\n",
            "       Benevolence: caring       0.49      0.58      0.53       633\n",
            "Benevolence: dependability       0.22      0.12      0.16       268\n",
            "     Universalism: concern       0.63      0.71      0.67       687\n",
            "      Universalism: nature       0.70      0.54      0.61       127\n",
            "   Universalism: tolerance       0.26      0.04      0.08       223\n",
            " Universalism: objectivity       0.44      0.33      0.38       371\n",
            "\n",
            "                 micro avg       0.55      0.50      0.53      6359\n",
            "                 macro avg       0.45      0.36      0.37      6359\n",
            "              weighted avg       0.52      0.50      0.49      6359\n",
            "               samples avg       0.58      0.55      0.53      6359\n",
            "\n"
          ]
        }
      ],
      "source": [
        "print(classification_report(y_true, y_pred,target_names = labels_names, zero_division = 0))"
      ]
    },
    {
      "cell_type": "markdown",
      "source": [
        "## Single function (fixed threshold)"
      ],
      "metadata": {
        "id": "n95gh9gxUcAh"
      }
    },
    {
      "cell_type": "code",
      "source": [
        "def test_run(lr: float, \n",
        "            num_epochs: int, \n",
        "            batch_size: int,\n",
        "            criterion: torch.nn.Module,\n",
        "            num_labels: int,\n",
        "            train_df: pd.DataFrame,\n",
        "            train_labels_df: pd.DataFrame,\n",
        "            val_df: pd.DataFrame,\n",
        "            val_labels_df: pd.DataFrame,\n",
        "            test_df: pd.DataFrame,\n",
        "            test_labels_df: pd.DataFrame,\n",
        "            model_name=\"\",\n",
        "            model=None,\n",
        "            tokenizer=None):\n",
        "  # Training\n",
        "  actual_model, actual_tokenizer, statistics = execute(lr, num_epochs, batch_size, criterion, num_labels, train_df, train_labels_df, val_df, val_labels_df, model_name, model, tokenizer)\n",
        "  # Plot training loss\n",
        "  plt.figure(figsize=(10,5))\n",
        "  plt.title(\"Loss\")\n",
        "  plt.plot(statistics['train_loss_values'],label=\"train loss\")\n",
        "  plt.plot(statistics['val_loss_values'],label=\"validation loss\")\n",
        "  plt.xlabel(\"Iterations\")\n",
        "  plt.xticks(np.arange(num_epochs), np.arange(1, num_epochs+1, 1))\n",
        "  plt.ylabel(\"Loss\")\n",
        "  plt.show()\n",
        "  # Testing\n",
        "  test_encodings = encode(tokenizer,test_df, test_labels_df)\n",
        "  test_dataset = CreateDataset(test_encodings)\n",
        "  eval_batch_size = 8\n",
        "  data_loader_test = torch.utils.data.DataLoader(test_dataset,batch_size=eval_batch_size,shuffle = False)\n",
        "  predictions = evaluate(model, criterion, data_loader_test, device)\n",
        "  predictions = torch.stack(predictions).detach().cpu()\n",
        "  y_p = []\n",
        "  for idx in range(len(predictions)):\n",
        "    for b in range(eval_batch_size):\n",
        "      y_p.append(predictions[idx][b])\n",
        "  threshold = 0.35\n",
        "  y_pred=[]\n",
        "  for sample in y_p:\n",
        "    y_pred.append([1 if i>=threshold else 0 for i in sample])\n",
        "  y_pred = np.array(y_pred)\n",
        "  y_pred.shape\n",
        "  y_true = np.array(test_labels_df)\n",
        "  print(classification_report(y_true, y_pred,target_names = labels_names, zero_division = 0))"
      ],
      "metadata": {
        "id": "QlDNRSp1IulC"
      },
      "execution_count": 52,
      "outputs": []
    },
    {
      "cell_type": "code",
      "source": [
        "test_run(lr, epochs, batch_size, criterion, num_labels, train_df, train_labels_df, val_df, val_labels_df, val_df, val_labels_df, model_name=model_checkpoint)"
      ],
      "metadata": {
        "id": "QwQiTrrLU3cp",
        "outputId": "4290d9bb-bc5e-4c30-9247-7837c4a97311",
        "colab": {
          "base_uri": "https://localhost:8080/",
          "height": 1000
        }
      },
      "execution_count": 53,
      "outputs": [
        {
          "output_type": "stream",
          "name": "stderr",
          "text": [
            "Some weights of the model checkpoint at bert-base-uncased were not used when initializing BertModel: ['cls.predictions.bias', 'cls.seq_relationship.bias', 'cls.predictions.transform.LayerNorm.weight', 'cls.predictions.transform.dense.weight', 'cls.predictions.decoder.weight', 'cls.predictions.transform.LayerNorm.bias', 'cls.seq_relationship.weight', 'cls.predictions.transform.dense.bias']\n",
            "- This IS expected if you are initializing BertModel from the checkpoint of a model trained on another task or with another architecture (e.g. initializing a BertForSequenceClassification model from a BertForPreTraining model).\n",
            "- This IS NOT expected if you are initializing BertModel from the checkpoint of a model that you expect to be exactly identical (initializing a BertForSequenceClassification model from a BertForSequenceClassification model).\n"
          ]
        },
        {
          "output_type": "stream",
          "name": "stdout",
          "text": [
            "STARTING ENCODING:\n",
            "Train set:\n",
            "Validation set:\n",
            "ENCODING COMPLETE.\n",
            "STARTING TRAINING:\n"
          ]
        },
        {
          "output_type": "stream",
          "name": "stderr",
          "text": [
            "\r  0%|          | 0/169 [00:00<?, ?it/s]<ipython-input-19-4004cf27e00a>:6: UserWarning: To copy construct from a tensor, it is recommended to use sourceTensor.clone().detach() or sourceTensor.clone().detach().requires_grad_(True), rather than torch.tensor(sourceTensor).\n",
            "  return {key: torch.tensor(val[idx]) for key, val in self.encodings.items()}\n",
            "Epoch 1: 100%|██████████| 169/169 [02:29<00:00,  1.13it/s, loss=0.298]\n"
          ]
        },
        {
          "output_type": "stream",
          "name": "stdout",
          "text": [
            "Epoch: 1  Lr: 0.00005000  Loss: Train = [0.4102] - Val = [0.3749]  Time one epoch (s): 168.2986 \n"
          ]
        },
        {
          "output_type": "stream",
          "name": "stderr",
          "text": [
            "Epoch 2: 100%|██████████| 169/169 [02:28<00:00,  1.14it/s, loss=0.313]\n"
          ]
        },
        {
          "output_type": "stream",
          "name": "stdout",
          "text": [
            "Epoch: 2  Lr: 0.00005000  Loss: Train = [0.3383] - Val = [0.3529]  Time one epoch (s): 167.9981 \n"
          ]
        },
        {
          "output_type": "stream",
          "name": "stderr",
          "text": [
            "Epoch 3: 100%|██████████| 169/169 [02:28<00:00,  1.14it/s, loss=0.31]\n"
          ]
        },
        {
          "output_type": "stream",
          "name": "stdout",
          "text": [
            "Epoch: 3  Lr: 0.00005000  Loss: Train = [0.2975] - Val = [0.3463]  Time one epoch (s): 167.7900 \n",
            "Time for 3 epochs (s): 504.087\n",
            "TRAINING COMPLETE.\n"
          ]
        },
        {
          "output_type": "display_data",
          "data": {
            "text/plain": [
              "<Figure size 1000x500 with 1 Axes>"
            ],
            "image/png": "[encoded data removed]"
          },
          "metadata": {}
        },
        {
          "output_type": "error",
          "ename": "TypeError",
          "evalue": "ignored",
          "traceback": [
            "\u001b[0;31m---------------------------------------------------------------------------\u001b[0m",
            "\u001b[0;31mTypeError\u001b[0m                                 Traceback (most recent call last)",
            "\u001b[0;32m<ipython-input-53-3329dc3f6b21>\u001b[0m in \u001b[0;36m<cell line: 1>\u001b[0;34m()\u001b[0m\n\u001b[0;32m----> 1\u001b[0;31m \u001b[0mtest_run\u001b[0m\u001b[0;34m(\u001b[0m\u001b[0mlr\u001b[0m\u001b[0;34m,\u001b[0m \u001b[0mepochs\u001b[0m\u001b[0;34m,\u001b[0m \u001b[0mbatch_size\u001b[0m\u001b[0;34m,\u001b[0m \u001b[0mcriterion\u001b[0m\u001b[0;34m,\u001b[0m \u001b[0mnum_labels\u001b[0m\u001b[0;34m,\u001b[0m \u001b[0mtrain_df\u001b[0m\u001b[0;34m,\u001b[0m \u001b[0mtrain_labels_df\u001b[0m\u001b[0;34m,\u001b[0m \u001b[0mval_df\u001b[0m\u001b[0;34m,\u001b[0m \u001b[0mval_labels_df\u001b[0m\u001b[0;34m,\u001b[0m \u001b[0mval_df\u001b[0m\u001b[0;34m,\u001b[0m \u001b[0mval_labels_df\u001b[0m\u001b[0;34m,\u001b[0m \u001b[0mmodel_name\u001b[0m\u001b[0;34m=\u001b[0m\u001b[0mmodel_checkpoint\u001b[0m\u001b[0;34m)\u001b[0m\u001b[0;34m\u001b[0m\u001b[0;34m\u001b[0m\u001b[0m\n\u001b[0m",
            "\u001b[0;32m<ipython-input-52-47f89bb1ac70>\u001b[0m in \u001b[0;36mtest_run\u001b[0;34m(lr, num_epochs, batch_size, criterion, num_labels, train_df, train_labels_df, val_df, val_labels_df, test_df, test_labels_df, model_name, model, tokenizer)\u001b[0m\n\u001b[1;32m     25\u001b[0m   \u001b[0mplt\u001b[0m\u001b[0;34m.\u001b[0m\u001b[0mshow\u001b[0m\u001b[0;34m(\u001b[0m\u001b[0;34m)\u001b[0m\u001b[0;34m\u001b[0m\u001b[0;34m\u001b[0m\u001b[0m\n\u001b[1;32m     26\u001b[0m   \u001b[0;31m# Testing\u001b[0m\u001b[0;34m\u001b[0m\u001b[0;34m\u001b[0m\u001b[0m\n\u001b[0;32m---> 27\u001b[0;31m   \u001b[0mtest_encodings\u001b[0m \u001b[0;34m=\u001b[0m \u001b[0mencode\u001b[0m\u001b[0;34m(\u001b[0m\u001b[0mtokenizer\u001b[0m\u001b[0;34m,\u001b[0m\u001b[0mtest_df\u001b[0m\u001b[0;34m,\u001b[0m \u001b[0mtest_labels_df\u001b[0m\u001b[0;34m)\u001b[0m\u001b[0;34m\u001b[0m\u001b[0;34m\u001b[0m\u001b[0m\n\u001b[0m\u001b[1;32m     28\u001b[0m   \u001b[0mtest_dataset\u001b[0m \u001b[0;34m=\u001b[0m \u001b[0mCreateDataset\u001b[0m\u001b[0;34m(\u001b[0m\u001b[0mtest_encodings\u001b[0m\u001b[0;34m)\u001b[0m\u001b[0;34m\u001b[0m\u001b[0;34m\u001b[0m\u001b[0m\n\u001b[1;32m     29\u001b[0m   \u001b[0meval_batch_size\u001b[0m \u001b[0;34m=\u001b[0m \u001b[0;36m8\u001b[0m\u001b[0;34m\u001b[0m\u001b[0;34m\u001b[0m\u001b[0m\n",
            "\u001b[0;32m<ipython-input-25-c72fdf281485>\u001b[0m in \u001b[0;36mencode\u001b[0;34m(tokenizer, df, labels)\u001b[0m\n\u001b[1;32m      3\u001b[0m     \u001b[0;31m#append the stance to the conclusion by putting a separator between them\u001b[0m\u001b[0;34m\u001b[0m\u001b[0;34m\u001b[0m\u001b[0m\n\u001b[1;32m      4\u001b[0m   \u001b[0msequence_sc\u001b[0m \u001b[0;34m=\u001b[0m \u001b[0mdf\u001b[0m\u001b[0;34m[\u001b[0m\u001b[0;34m\"Stance\"\u001b[0m\u001b[0;34m]\u001b[0m\u001b[0;34m.\u001b[0m\u001b[0mstr\u001b[0m\u001b[0;34m.\u001b[0m\u001b[0mcat\u001b[0m\u001b[0;34m(\u001b[0m\u001b[0mdf\u001b[0m\u001b[0;34m[\u001b[0m\u001b[0;34m\"Conclusion\"\u001b[0m\u001b[0;34m]\u001b[0m\u001b[0;34m,\u001b[0m \u001b[0msep\u001b[0m \u001b[0;34m=\u001b[0m \u001b[0;34m'[SEP]'\u001b[0m\u001b[0;34m)\u001b[0m \u001b[0;31m# If needed a separator can be passed, for example with sep='[SEP] '\u001b[0m\u001b[0;34m\u001b[0m\u001b[0;34m\u001b[0m\u001b[0m\n\u001b[0;32m----> 5\u001b[0;31m   encodings = tokenizer(list(df['Premise']), list(sequence_sc), \n\u001b[0m\u001b[1;32m      6\u001b[0m                           \u001b[0mpadding\u001b[0m\u001b[0;34m=\u001b[0m\u001b[0;32mTrue\u001b[0m\u001b[0;34m,\u001b[0m\u001b[0;34m\u001b[0m\u001b[0;34m\u001b[0m\u001b[0m\n\u001b[1;32m      7\u001b[0m                           \u001b[0mtruncation\u001b[0m\u001b[0;34m=\u001b[0m\u001b[0;32mTrue\u001b[0m\u001b[0;34m,\u001b[0m\u001b[0;34m\u001b[0m\u001b[0;34m\u001b[0m\u001b[0m\n",
            "\u001b[0;31mTypeError\u001b[0m: 'NoneType' object is not callable"
          ]
        }
      ]
    },
    {
      "cell_type": "markdown",
      "source": [
        "### Using best threshold for every label"
      ],
      "metadata": {
        "id": "Q0i6YISd9IEK"
      }
    },
    {
      "cell_type": "code",
      "source": [
        "best_thresholds = find_threshold(y_p, y_true, labels)"
      ],
      "metadata": {
        "colab": {
          "base_uri": "https://localhost:8080/"
        },
        "id": "7qjnWz765wgl",
        "outputId": "ef2d50b5-8985-41ac-a85e-49684c39388d"
      },
      "execution_count": 55,
      "outputs": [
        {
          "output_type": "stream",
          "name": "stdout",
          "text": [
            "{'Self-direction: thought': [0.49, 0.58, 0.63, 0.65, 0.68, 0.69, 0.7, 0.7, 0.72, 0.72, 0.72], 'Self-direction: action': [0.32, 0.46, 0.54, 0.6, 0.64, 0.67, 0.68, 0.68, 0.68, 0.68, 0.67], 'Stimulation': [0.51, 0.61, 0.63, 0.62, 0.59, 0.54, 0.53, 0.51, 0.5, 0.5, 0.48], 'Hedonism': [0.61, 0.65, 0.62, 0.59, 0.56, 0.55, 0.53, 0.52, 0.51, 0.51, 0.5], 'Achievement': [0.51, 0.65, 0.71, 0.73, 0.74, 0.74, 0.74, 0.73, 0.72, 0.72, 0.71], 'Power: dominance': [0.46, 0.58, 0.61, 0.61, 0.61, 0.6, 0.59, 0.59, 0.56, 0.55, 0.53], 'Power: resources': [0.59, 0.68, 0.7, 0.7, 0.71, 0.71, 0.71, 0.7, 0.71, 0.68, 0.64], 'Face': [0.47, 0.54, 0.54, 0.5, 0.49, 0.49, 0.48, 0.48, 0.48, 0.48, 0.48], 'Security: personal': [0.43, 0.61, 0.68, 0.72, 0.75, 0.76, 0.77, 0.77, 0.77, 0.77, 0.76], 'Security: societal': [0.51, 0.64, 0.68, 0.71, 0.72, 0.74, 0.74, 0.74, 0.75, 0.74, 0.73], 'Tradition': [0.52, 0.64, 0.68, 0.69, 0.69, 0.69, 0.7, 0.69, 0.68, 0.66, 0.65], 'Conformity: rules': [0.31, 0.49, 0.57, 0.63, 0.65, 0.68, 0.68, 0.67, 0.67, 0.66, 0.65], 'Conformity: interpersonal': [0.44, 0.54, 0.52, 0.52, 0.49, 0.49, 0.49, 0.49, 0.49, 0.49, 0.49], 'Humility': [0.35, 0.47, 0.52, 0.51, 0.52, 0.53, 0.51, 0.5, 0.5, 0.48, 0.48], 'Benevolence: caring': [0.25, 0.31, 0.39, 0.48, 0.57, 0.6, 0.63, 0.64, 0.62, 0.61, 0.58], 'Benevolence: dependability': [0.18, 0.37, 0.48, 0.53, 0.55, 0.55, 0.53, 0.5, 0.49, 0.47, 0.46], 'Universalism: concern': [0.33, 0.46, 0.56, 0.64, 0.68, 0.72, 0.73, 0.74, 0.72, 0.71, 0.69], 'Universalism: nature': [0.72, 0.79, 0.8, 0.81, 0.81, 0.8, 0.79, 0.79, 0.78, 0.78, 0.77], 'Universalism: tolerance': [0.47, 0.57, 0.58, 0.57, 0.55, 0.53, 0.5, 0.5, 0.48, 0.47, 0.47], 'Universalism: objectivity': [0.17, 0.38, 0.55, 0.61, 0.62, 0.63, 0.62, 0.62, 0.6, 0.59, 0.56]}\n"
          ]
        }
      ]
    },
    {
      "cell_type": "code",
      "source": [
        "y_pred=[]\n",
        "for sample in y_p:\n",
        "  res = []\n",
        "  for value,lbl in zip(sample,range(len(labels))):\n",
        "    res.append(1 if value>=best_thresholds[lbl] else 0)\n",
        "  y_pred.append(res)\n",
        "y_pred = np.array(y_pred)"
      ],
      "metadata": {
        "id": "tvvjUQC87ckj"
      },
      "execution_count": null,
      "outputs": []
    },
    {
      "cell_type": "code",
      "source": [
        "print(classification_report(y_true, y_pred,target_names = labels_names, zero_division = 0))"
      ],
      "metadata": {
        "id": "DCO-EPvL8xlj"
      },
      "execution_count": null,
      "outputs": []
    },
    {
      "cell_type": "code",
      "execution_count": null,
      "metadata": {
        "execution": {
          "iopub.execute_input": "2023-04-05T12:53:45.717778Z",
          "iopub.status.busy": "2023-04-05T12:53:45.717288Z",
          "iopub.status.idle": "2023-04-05T12:53:45.727127Z",
          "shell.execute_reply": "2023-04-05T12:53:45.725955Z",
          "shell.execute_reply.started": "2023-04-05T12:53:45.717733Z"
        },
        "id": "Cn1ubZ4HTwum",
        "trusted": true
      },
      "outputs": [],
      "source": [
        "\"\"\"\n",
        "x = val_df[:1]\n",
        "target = val_labels_df[:1]\n",
        "threshold = 0.5\n",
        "print('Predictions:')\n",
        "for label, pred in zip(labels_names, prediction[0]):\n",
        "  if pred < threshold:\n",
        "    continue\n",
        "  print(f\"{label}: {pred}\")\n",
        "\n",
        "\n",
        "threshold = 1.\n",
        "print('True values:')\n",
        "for label, pred in zip(labels_names, target.values[0]):\n",
        "  if pred < threshold:\n",
        "    continue\n",
        "  print(f\"{label}: {pred}\")\n",
        "\"\"\""
      ]
    },
    {
      "cell_type": "markdown",
      "metadata": {
        "id": "P0YiDbiZjSdw"
      },
      "source": [
        "## Some fine-tuning of the last (non-BERT) layers of the model."
      ]
    },
    {
      "cell_type": "code",
      "execution_count": null,
      "metadata": {
        "execution": {
          "iopub.execute_input": "2023-04-05T12:53:45.729686Z",
          "iopub.status.busy": "2023-04-05T12:53:45.729111Z",
          "iopub.status.idle": "2023-04-05T12:53:45.738456Z",
          "shell.execute_reply": "2023-04-05T12:53:45.737377Z",
          "shell.execute_reply.started": "2023-04-05T12:53:45.729641Z"
        },
        "id": "lkJ5FFiJUTup",
        "trusted": true
      },
      "outputs": [],
      "source": [
        "# Freezing Bert's layers\n",
        "for param in model.model.parameters():\n",
        "    param.requires_grad = False"
      ]
    },
    {
      "cell_type": "code",
      "execution_count": null,
      "metadata": {
        "execution": {
          "iopub.execute_input": "2023-04-05T12:53:45.740386Z",
          "iopub.status.busy": "2023-04-05T12:53:45.739895Z",
          "iopub.status.idle": "2023-04-05T12:56:37.045648Z",
          "shell.execute_reply": "2023-04-05T12:56:37.044482Z",
          "shell.execute_reply.started": "2023-04-05T12:53:45.740348Z"
        },
        "id": "oRwoW4pkVVnM",
        "trusted": true
      },
      "outputs": [],
      "source": [
        "#execute\n",
        "model, tokenizer, statistics = execute(lr, 4, batch_size, criterion, num_labels, train_df, train_labels_df, val_df, val_labels_df,model=model, tokenizer=tokenizer)"
      ]
    },
    {
      "cell_type": "code",
      "execution_count": null,
      "metadata": {
        "execution": {
          "iopub.execute_input": "2023-04-05T12:56:37.049387Z",
          "iopub.status.busy": "2023-04-05T12:56:37.048950Z",
          "iopub.status.idle": "2023-04-05T12:56:47.888415Z",
          "shell.execute_reply": "2023-04-05T12:56:47.887416Z",
          "shell.execute_reply.started": "2023-04-05T12:56:37.049353Z"
        },
        "trusted": true,
        "id": "ZbwuR5u2jSdw"
      },
      "outputs": [],
      "source": [
        "device = torch.device('cuda') if torch.cuda.is_available() else torch.device('cpu')\n",
        "model.to(device)\n",
        "\n",
        "predictions = evaluate(model, criterion, data_loader_val, device)\n",
        "\n",
        "predictions = torch.stack(predictions).detach().cpu()\n",
        "len(predictions)\n",
        "np.shape(predictions)\n",
        "\n",
        "#reshape\n",
        "y_p = []\n",
        "for idx in range(len(predictions)):\n",
        "  for b in range(eval_batch_size):\n",
        "    y_p.append(predictions[idx][b])\n",
        "    \n",
        "np.shape(torch.stack(y_p).detach().cpu())\n",
        "\n",
        "threshold = 0.35\n",
        "y_pred=[]\n",
        "for sample in y_p:\n",
        "  y_pred.append([1 if i>=threshold else 0 for i in sample])\n",
        "y_pred = np.array(y_pred)\n",
        "y_pred.shape\n",
        "\n",
        "accuracy_score(y_true, y_pred)\n",
        "\n",
        "print(classification_report(y_true, y_pred,target_names = labels_names, zero_division = 0))"
      ]
    },
    {
      "cell_type": "markdown",
      "source": [
        "## Using best thresholds vector"
      ],
      "metadata": {
        "id": "Nkt9lpFH9fUQ"
      }
    },
    {
      "cell_type": "code",
      "source": [
        "best_thresholds = find_threshold(y_p, y_true, labels)"
      ],
      "metadata": {
        "id": "Bt888B3W9VFS"
      },
      "execution_count": null,
      "outputs": []
    },
    {
      "cell_type": "code",
      "source": [
        "y_pred=[]\n",
        "for sample in y_p:\n",
        "  res = []\n",
        "  for value,lbl in zip(sample,range(len(labels))):\n",
        "    res.append(1 if value>=best_thresholds[lbl] else 0)\n",
        "  y_pred.append(res)\n",
        "y_pred = np.array(y_pred)"
      ],
      "metadata": {
        "id": "0wVf2iyj9Yo7"
      },
      "execution_count": null,
      "outputs": []
    },
    {
      "cell_type": "code",
      "source": [
        "print(classification_report(y_true, y_pred,target_names = labels_names, zero_division = 0))\n"
      ],
      "metadata": {
        "id": "EwjK_OHO9cOo"
      },
      "execution_count": null,
      "outputs": []
    }
  ],
  "metadata": {
    "accelerator": "GPU",
    "colab": {
      "provenance": []
    },
    "gpuClass": "standard",
    "kernelspec": {
      "display_name": "nlp",
      "language": "python",
      "name": "python3"
    },
    "language_info": {
      "codemirror_mode": {
        "name": "ipython",
        "version": 3
      },
      "file_extension": ".py",
      "mimetype": "text/x-python",
      "name": "python",
      "nbconvert_exporter": "python",
      "pygments_lexer": "ipython3",
      "version": "3.7.13"
    },
    "widgets": {
      "application/vnd.jupyter.widget-state+json": {
        "85b8377ab8bd4857aa90548cbbd8f394": {
          "model_module": "@jupyter-widgets/controls",
          "model_name": "HBoxModel",
          "model_module_version": "1.5.0",
          "state": {
            "_dom_classes": [],
            "_model_module": "@jupyter-widgets/controls",
            "_model_module_version": "1.5.0",
            "_model_name": "HBoxModel",
            "_view_count": null,
            "_view_module": "@jupyter-widgets/controls",
            "_view_module_version": "1.5.0",
            "_view_name": "HBoxView",
            "box_style": "",
            "children": [
              "IPY_MODEL_60e278cc3dc24df69ebc1b80a50d8b0d",
              "IPY_MODEL_0c5c572a07a04ea082e80c7b5db1d2b4",
              "IPY_MODEL_9084957d905044698a8e37e1064dbdff"
            ],
            "layout": "IPY_MODEL_ae189fd0b74943809fcbf26b2d5e6249"
          }
        },
        "60e278cc3dc24df69ebc1b80a50d8b0d": {
          "model_module": "@jupyter-widgets/controls",
          "model_name": "HTMLModel",
          "model_module_version": "1.5.0",
          "state": {
            "_dom_classes": [],
            "_model_module": "@jupyter-widgets/controls",
            "_model_module_version": "1.5.0",
            "_model_name": "HTMLModel",
            "_view_count": null,
            "_view_module": "@jupyter-widgets/controls",
            "_view_module_version": "1.5.0",
            "_view_name": "HTMLView",
            "description": "",
            "description_tooltip": null,
            "layout": "IPY_MODEL_a808e0d3480340efbe2113a86317b896",
            "placeholder": "​",
            "style": "IPY_MODEL_655f005cef9c421e80cf9eaa7809c37b",
            "value": "Downloading (…)lve/main/config.json: 100%"
          }
        },
        "0c5c572a07a04ea082e80c7b5db1d2b4": {
          "model_module": "@jupyter-widgets/controls",
          "model_name": "FloatProgressModel",
          "model_module_version": "1.5.0",
          "state": {
            "_dom_classes": [],
            "_model_module": "@jupyter-widgets/controls",
            "_model_module_version": "1.5.0",
            "_model_name": "FloatProgressModel",
            "_view_count": null,
            "_view_module": "@jupyter-widgets/controls",
            "_view_module_version": "1.5.0",
            "_view_name": "ProgressView",
            "bar_style": "success",
            "description": "",
            "description_tooltip": null,
            "layout": "IPY_MODEL_dd21f66171b04fe88e2558b1f2365e9f",
            "max": 570,
            "min": 0,
            "orientation": "horizontal",
            "style": "IPY_MODEL_3637d4402c3544fea683f3284c9e093e",
            "value": 570
          }
        },
        "9084957d905044698a8e37e1064dbdff": {
          "model_module": "@jupyter-widgets/controls",
          "model_name": "HTMLModel",
          "model_module_version": "1.5.0",
          "state": {
            "_dom_classes": [],
            "_model_module": "@jupyter-widgets/controls",
            "_model_module_version": "1.5.0",
            "_model_name": "HTMLModel",
            "_view_count": null,
            "_view_module": "@jupyter-widgets/controls",
            "_view_module_version": "1.5.0",
            "_view_name": "HTMLView",
            "description": "",
            "description_tooltip": null,
            "layout": "IPY_MODEL_046f09c2f9024fef9c86ae37e10263ce",
            "placeholder": "​",
            "style": "IPY_MODEL_94a5706f8bf749a2b79c3f6b6100194b",
            "value": " 570/570 [00:00&lt;00:00, 13.3kB/s]"
          }
        },
        "ae189fd0b74943809fcbf26b2d5e6249": {
          "model_module": "@jupyter-widgets/base",
          "model_name": "LayoutModel",
          "model_module_version": "1.2.0",
          "state": {
            "_model_module": "@jupyter-widgets/base",
            "_model_module_version": "1.2.0",
            "_model_name": "LayoutModel",
            "_view_count": null,
            "_view_module": "@jupyter-widgets/base",
            "_view_module_version": "1.2.0",
            "_view_name": "LayoutView",
            "align_content": null,
            "align_items": null,
            "align_self": null,
            "border": null,
            "bottom": null,
            "display": null,
            "flex": null,
            "flex_flow": null,
            "grid_area": null,
            "grid_auto_columns": null,
            "grid_auto_flow": null,
            "grid_auto_rows": null,
            "grid_column": null,
            "grid_gap": null,
            "grid_row": null,
            "grid_template_areas": null,
            "grid_template_columns": null,
            "grid_template_rows": null,
            "height": null,
            "justify_content": null,
            "justify_items": null,
            "left": null,
            "margin": null,
            "max_height": null,
            "max_width": null,
            "min_height": null,
            "min_width": null,
            "object_fit": null,
            "object_position": null,
            "order": null,
            "overflow": null,
            "overflow_x": null,
            "overflow_y": null,
            "padding": null,
            "right": null,
            "top": null,
            "visibility": null,
            "width": null
          }
        },
        "a808e0d3480340efbe2113a86317b896": {
          "model_module": "@jupyter-widgets/base",
          "model_name": "LayoutModel",
          "model_module_version": "1.2.0",
          "state": {
            "_model_module": "@jupyter-widgets/base",
            "_model_module_version": "1.2.0",
            "_model_name": "LayoutModel",
            "_view_count": null,
            "_view_module": "@jupyter-widgets/base",
            "_view_module_version": "1.2.0",
            "_view_name": "LayoutView",
            "align_content": null,
            "align_items": null,
            "align_self": null,
            "border": null,
            "bottom": null,
            "display": null,
            "flex": null,
            "flex_flow": null,
            "grid_area": null,
            "grid_auto_columns": null,
            "grid_auto_flow": null,
            "grid_auto_rows": null,
            "grid_column": null,
            "grid_gap": null,
            "grid_row": null,
            "grid_template_areas": null,
            "grid_template_columns": null,
            "grid_template_rows": null,
            "height": null,
            "justify_content": null,
            "justify_items": null,
            "left": null,
            "margin": null,
            "max_height": null,
            "max_width": null,
            "min_height": null,
            "min_width": null,
            "object_fit": null,
            "object_position": null,
            "order": null,
            "overflow": null,
            "overflow_x": null,
            "overflow_y": null,
            "padding": null,
            "right": null,
            "top": null,
            "visibility": null,
            "width": null
          }
        },
        "655f005cef9c421e80cf9eaa7809c37b": {
          "model_module": "@jupyter-widgets/controls",
          "model_name": "DescriptionStyleModel",
          "model_module_version": "1.5.0",
          "state": {
            "_model_module": "@jupyter-widgets/controls",
            "_model_module_version": "1.5.0",
            "_model_name": "DescriptionStyleModel",
            "_view_count": null,
            "_view_module": "@jupyter-widgets/base",
            "_view_module_version": "1.2.0",
            "_view_name": "StyleView",
            "description_width": ""
          }
        },
        "dd21f66171b04fe88e2558b1f2365e9f": {
          "model_module": "@jupyter-widgets/base",
          "model_name": "LayoutModel",
          "model_module_version": "1.2.0",
          "state": {
            "_model_module": "@jupyter-widgets/base",
            "_model_module_version": "1.2.0",
            "_model_name": "LayoutModel",
            "_view_count": null,
            "_view_module": "@jupyter-widgets/base",
            "_view_module_version": "1.2.0",
            "_view_name": "LayoutView",
            "align_content": null,
            "align_items": null,
            "align_self": null,
            "border": null,
            "bottom": null,
            "display": null,
            "flex": null,
            "flex_flow": null,
            "grid_area": null,
            "grid_auto_columns": null,
            "grid_auto_flow": null,
            "grid_auto_rows": null,
            "grid_column": null,
            "grid_gap": null,
            "grid_row": null,
            "grid_template_areas": null,
            "grid_template_columns": null,
            "grid_template_rows": null,
            "height": null,
            "justify_content": null,
            "justify_items": null,
            "left": null,
            "margin": null,
            "max_height": null,
            "max_width": null,
            "min_height": null,
            "min_width": null,
            "object_fit": null,
            "object_position": null,
            "order": null,
            "overflow": null,
            "overflow_x": null,
            "overflow_y": null,
            "padding": null,
            "right": null,
            "top": null,
            "visibility": null,
            "width": null
          }
        },
        "3637d4402c3544fea683f3284c9e093e": {
          "model_module": "@jupyter-widgets/controls",
          "model_name": "ProgressStyleModel",
          "model_module_version": "1.5.0",
          "state": {
            "_model_module": "@jupyter-widgets/controls",
            "_model_module_version": "1.5.0",
            "_model_name": "ProgressStyleModel",
            "_view_count": null,
            "_view_module": "@jupyter-widgets/base",
            "_view_module_version": "1.2.0",
            "_view_name": "StyleView",
            "bar_color": null,
            "description_width": ""
          }
        },
        "046f09c2f9024fef9c86ae37e10263ce": {
          "model_module": "@jupyter-widgets/base",
          "model_name": "LayoutModel",
          "model_module_version": "1.2.0",
          "state": {
            "_model_module": "@jupyter-widgets/base",
            "_model_module_version": "1.2.0",
            "_model_name": "LayoutModel",
            "_view_count": null,
            "_view_module": "@jupyter-widgets/base",
            "_view_module_version": "1.2.0",
            "_view_name": "LayoutView",
            "align_content": null,
            "align_items": null,
            "align_self": null,
            "border": null,
            "bottom": null,
            "display": null,
            "flex": null,
            "flex_flow": null,
            "grid_area": null,
            "grid_auto_columns": null,
            "grid_auto_flow": null,
            "grid_auto_rows": null,
            "grid_column": null,
            "grid_gap": null,
            "grid_row": null,
            "grid_template_areas": null,
            "grid_template_columns": null,
            "grid_template_rows": null,
            "height": null,
            "justify_content": null,
            "justify_items": null,
            "left": null,
            "margin": null,
            "max_height": null,
            "max_width": null,
            "min_height": null,
            "min_width": null,
            "object_fit": null,
            "object_position": null,
            "order": null,
            "overflow": null,
            "overflow_x": null,
            "overflow_y": null,
            "padding": null,
            "right": null,
            "top": null,
            "visibility": null,
            "width": null
          }
        },
        "94a5706f8bf749a2b79c3f6b6100194b": {
          "model_module": "@jupyter-widgets/controls",
          "model_name": "DescriptionStyleModel",
          "model_module_version": "1.5.0",
          "state": {
            "_model_module": "@jupyter-widgets/controls",
            "_model_module_version": "1.5.0",
            "_model_name": "DescriptionStyleModel",
            "_view_count": null,
            "_view_module": "@jupyter-widgets/base",
            "_view_module_version": "1.2.0",
            "_view_name": "StyleView",
            "description_width": ""
          }
        },
        "33ba7747dfcf4899ada014dbb4a08e54": {
          "model_module": "@jupyter-widgets/controls",
          "model_name": "HBoxModel",
          "model_module_version": "1.5.0",
          "state": {
            "_dom_classes": [],
            "_model_module": "@jupyter-widgets/controls",
            "_model_module_version": "1.5.0",
            "_model_name": "HBoxModel",
            "_view_count": null,
            "_view_module": "@jupyter-widgets/controls",
            "_view_module_version": "1.5.0",
            "_view_name": "HBoxView",
            "box_style": "",
            "children": [
              "IPY_MODEL_6492faefb1a84ae585e225b99404f83c",
              "IPY_MODEL_d8be46e4f6fc4d76b6595ff94dcc4aee",
              "IPY_MODEL_256c35d48cd04dbcaffe8aff43218469"
            ],
            "layout": "IPY_MODEL_d3d8d751bcfd47d887633a5a13869346"
          }
        },
        "6492faefb1a84ae585e225b99404f83c": {
          "model_module": "@jupyter-widgets/controls",
          "model_name": "HTMLModel",
          "model_module_version": "1.5.0",
          "state": {
            "_dom_classes": [],
            "_model_module": "@jupyter-widgets/controls",
            "_model_module_version": "1.5.0",
            "_model_name": "HTMLModel",
            "_view_count": null,
            "_view_module": "@jupyter-widgets/controls",
            "_view_module_version": "1.5.0",
            "_view_name": "HTMLView",
            "description": "",
            "description_tooltip": null,
            "layout": "IPY_MODEL_4736ac31ca5e4d63960a0af65769ca24",
            "placeholder": "​",
            "style": "IPY_MODEL_3a42d383b6b04b60b5738f1b16d03523",
            "value": "Downloading pytorch_model.bin: 100%"
          }
        },
        "d8be46e4f6fc4d76b6595ff94dcc4aee": {
          "model_module": "@jupyter-widgets/controls",
          "model_name": "FloatProgressModel",
          "model_module_version": "1.5.0",
          "state": {
            "_dom_classes": [],
            "_model_module": "@jupyter-widgets/controls",
            "_model_module_version": "1.5.0",
            "_model_name": "FloatProgressModel",
            "_view_count": null,
            "_view_module": "@jupyter-widgets/controls",
            "_view_module_version": "1.5.0",
            "_view_name": "ProgressView",
            "bar_style": "success",
            "description": "",
            "description_tooltip": null,
            "layout": "IPY_MODEL_68ff9dcf67814b88a1ff75c3b404213e",
            "max": 440473133,
            "min": 0,
            "orientation": "horizontal",
            "style": "IPY_MODEL_b781cb8bc1274e6ca97737c4cc08aa96",
            "value": 440473133
          }
        },
        "256c35d48cd04dbcaffe8aff43218469": {
          "model_module": "@jupyter-widgets/controls",
          "model_name": "HTMLModel",
          "model_module_version": "1.5.0",
          "state": {
            "_dom_classes": [],
            "_model_module": "@jupyter-widgets/controls",
            "_model_module_version": "1.5.0",
            "_model_name": "HTMLModel",
            "_view_count": null,
            "_view_module": "@jupyter-widgets/controls",
            "_view_module_version": "1.5.0",
            "_view_name": "HTMLView",
            "description": "",
            "description_tooltip": null,
            "layout": "IPY_MODEL_ee30c98aa9434202928ddc2c97b94e16",
            "placeholder": "​",
            "style": "IPY_MODEL_030cc2733b2342b4b5ac08717ad8f899",
            "value": " 440M/440M [00:04&lt;00:00, 86.1MB/s]"
          }
        },
        "d3d8d751bcfd47d887633a5a13869346": {
          "model_module": "@jupyter-widgets/base",
          "model_name": "LayoutModel",
          "model_module_version": "1.2.0",
          "state": {
            "_model_module": "@jupyter-widgets/base",
            "_model_module_version": "1.2.0",
            "_model_name": "LayoutModel",
            "_view_count": null,
            "_view_module": "@jupyter-widgets/base",
            "_view_module_version": "1.2.0",
            "_view_name": "LayoutView",
            "align_content": null,
            "align_items": null,
            "align_self": null,
            "border": null,
            "bottom": null,
            "display": null,
            "flex": null,
            "flex_flow": null,
            "grid_area": null,
            "grid_auto_columns": null,
            "grid_auto_flow": null,
            "grid_auto_rows": null,
            "grid_column": null,
            "grid_gap": null,
            "grid_row": null,
            "grid_template_areas": null,
            "grid_template_columns": null,
            "grid_template_rows": null,
            "height": null,
            "justify_content": null,
            "justify_items": null,
            "left": null,
            "margin": null,
            "max_height": null,
            "max_width": null,
            "min_height": null,
            "min_width": null,
            "object_fit": null,
            "object_position": null,
            "order": null,
            "overflow": null,
            "overflow_x": null,
            "overflow_y": null,
            "padding": null,
            "right": null,
            "top": null,
            "visibility": null,
            "width": null
          }
        },
        "4736ac31ca5e4d63960a0af65769ca24": {
          "model_module": "@jupyter-widgets/base",
          "model_name": "LayoutModel",
          "model_module_version": "1.2.0",
          "state": {
            "_model_module": "@jupyter-widgets/base",
            "_model_module_version": "1.2.0",
            "_model_name": "LayoutModel",
            "_view_count": null,
            "_view_module": "@jupyter-widgets/base",
            "_view_module_version": "1.2.0",
            "_view_name": "LayoutView",
            "align_content": null,
            "align_items": null,
            "align_self": null,
            "border": null,
            "bottom": null,
            "display": null,
            "flex": null,
            "flex_flow": null,
            "grid_area": null,
            "grid_auto_columns": null,
            "grid_auto_flow": null,
            "grid_auto_rows": null,
            "grid_column": null,
            "grid_gap": null,
            "grid_row": null,
            "grid_template_areas": null,
            "grid_template_columns": null,
            "grid_template_rows": null,
            "height": null,
            "justify_content": null,
            "justify_items": null,
            "left": null,
            "margin": null,
            "max_height": null,
            "max_width": null,
            "min_height": null,
            "min_width": null,
            "object_fit": null,
            "object_position": null,
            "order": null,
            "overflow": null,
            "overflow_x": null,
            "overflow_y": null,
            "padding": null,
            "right": null,
            "top": null,
            "visibility": null,
            "width": null
          }
        },
        "3a42d383b6b04b60b5738f1b16d03523": {
          "model_module": "@jupyter-widgets/controls",
          "model_name": "DescriptionStyleModel",
          "model_module_version": "1.5.0",
          "state": {
            "_model_module": "@jupyter-widgets/controls",
            "_model_module_version": "1.5.0",
            "_model_name": "DescriptionStyleModel",
            "_view_count": null,
            "_view_module": "@jupyter-widgets/base",
            "_view_module_version": "1.2.0",
            "_view_name": "StyleView",
            "description_width": ""
          }
        },
        "68ff9dcf67814b88a1ff75c3b404213e": {
          "model_module": "@jupyter-widgets/base",
          "model_name": "LayoutModel",
          "model_module_version": "1.2.0",
          "state": {
            "_model_module": "@jupyter-widgets/base",
            "_model_module_version": "1.2.0",
            "_model_name": "LayoutModel",
            "_view_count": null,
            "_view_module": "@jupyter-widgets/base",
            "_view_module_version": "1.2.0",
            "_view_name": "LayoutView",
            "align_content": null,
            "align_items": null,
            "align_self": null,
            "border": null,
            "bottom": null,
            "display": null,
            "flex": null,
            "flex_flow": null,
            "grid_area": null,
            "grid_auto_columns": null,
            "grid_auto_flow": null,
            "grid_auto_rows": null,
            "grid_column": null,
            "grid_gap": null,
            "grid_row": null,
            "grid_template_areas": null,
            "grid_template_columns": null,
            "grid_template_rows": null,
            "height": null,
            "justify_content": null,
            "justify_items": null,
            "left": null,
            "margin": null,
            "max_height": null,
            "max_width": null,
            "min_height": null,
            "min_width": null,
            "object_fit": null,
            "object_position": null,
            "order": null,
            "overflow": null,
            "overflow_x": null,
            "overflow_y": null,
            "padding": null,
            "right": null,
            "top": null,
            "visibility": null,
            "width": null
          }
        },
        "b781cb8bc1274e6ca97737c4cc08aa96": {
          "model_module": "@jupyter-widgets/controls",
          "model_name": "ProgressStyleModel",
          "model_module_version": "1.5.0",
          "state": {
            "_model_module": "@jupyter-widgets/controls",
            "_model_module_version": "1.5.0",
            "_model_name": "ProgressStyleModel",
            "_view_count": null,
            "_view_module": "@jupyter-widgets/base",
            "_view_module_version": "1.2.0",
            "_view_name": "StyleView",
            "bar_color": null,
            "description_width": ""
          }
        },
        "ee30c98aa9434202928ddc2c97b94e16": {
          "model_module": "@jupyter-widgets/base",
          "model_name": "LayoutModel",
          "model_module_version": "1.2.0",
          "state": {
            "_model_module": "@jupyter-widgets/base",
            "_model_module_version": "1.2.0",
            "_model_name": "LayoutModel",
            "_view_count": null,
            "_view_module": "@jupyter-widgets/base",
            "_view_module_version": "1.2.0",
            "_view_name": "LayoutView",
            "align_content": null,
            "align_items": null,
            "align_self": null,
            "border": null,
            "bottom": null,
            "display": null,
            "flex": null,
            "flex_flow": null,
            "grid_area": null,
            "grid_auto_columns": null,
            "grid_auto_flow": null,
            "grid_auto_rows": null,
            "grid_column": null,
            "grid_gap": null,
            "grid_row": null,
            "grid_template_areas": null,
            "grid_template_columns": null,
            "grid_template_rows": null,
            "height": null,
            "justify_content": null,
            "justify_items": null,
            "left": null,
            "margin": null,
            "max_height": null,
            "max_width": null,
            "min_height": null,
            "min_width": null,
            "object_fit": null,
            "object_position": null,
            "order": null,
            "overflow": null,
            "overflow_x": null,
            "overflow_y": null,
            "padding": null,
            "right": null,
            "top": null,
            "visibility": null,
            "width": null
          }
        },
        "030cc2733b2342b4b5ac08717ad8f899": {
          "model_module": "@jupyter-widgets/controls",
          "model_name": "DescriptionStyleModel",
          "model_module_version": "1.5.0",
          "state": {
            "_model_module": "@jupyter-widgets/controls",
            "_model_module_version": "1.5.0",
            "_model_name": "DescriptionStyleModel",
            "_view_count": null,
            "_view_module": "@jupyter-widgets/base",
            "_view_module_version": "1.2.0",
            "_view_name": "StyleView",
            "description_width": ""
          }
        },
        "5711f0a8a0af4bf6ac70192f3f6f6ed2": {
          "model_module": "@jupyter-widgets/controls",
          "model_name": "HBoxModel",
          "model_module_version": "1.5.0",
          "state": {
            "_dom_classes": [],
            "_model_module": "@jupyter-widgets/controls",
            "_model_module_version": "1.5.0",
            "_model_name": "HBoxModel",
            "_view_count": null,
            "_view_module": "@jupyter-widgets/controls",
            "_view_module_version": "1.5.0",
            "_view_name": "HBoxView",
            "box_style": "",
            "children": [
              "IPY_MODEL_7eb86c64b8c349bf9846e6e23c4caa98",
              "IPY_MODEL_1eb3cd984b9b4b7cbad0adb24a890bcc",
              "IPY_MODEL_03a50e47070e49a1b933855c571f2df9"
            ],
            "layout": "IPY_MODEL_a62f6dd9e2ef43e9983ad06d686891ae"
          }
        },
        "7eb86c64b8c349bf9846e6e23c4caa98": {
          "model_module": "@jupyter-widgets/controls",
          "model_name": "HTMLModel",
          "model_module_version": "1.5.0",
          "state": {
            "_dom_classes": [],
            "_model_module": "@jupyter-widgets/controls",
            "_model_module_version": "1.5.0",
            "_model_name": "HTMLModel",
            "_view_count": null,
            "_view_module": "@jupyter-widgets/controls",
            "_view_module_version": "1.5.0",
            "_view_name": "HTMLView",
            "description": "",
            "description_tooltip": null,
            "layout": "IPY_MODEL_255174e7f2b24b0b9bfc66cbba82534f",
            "placeholder": "​",
            "style": "IPY_MODEL_0bc29dc3b19c4c40816260e1849e1fc0",
            "value": "Downloading (…)okenizer_config.json: 100%"
          }
        },
        "1eb3cd984b9b4b7cbad0adb24a890bcc": {
          "model_module": "@jupyter-widgets/controls",
          "model_name": "FloatProgressModel",
          "model_module_version": "1.5.0",
          "state": {
            "_dom_classes": [],
            "_model_module": "@jupyter-widgets/controls",
            "_model_module_version": "1.5.0",
            "_model_name": "FloatProgressModel",
            "_view_count": null,
            "_view_module": "@jupyter-widgets/controls",
            "_view_module_version": "1.5.0",
            "_view_name": "ProgressView",
            "bar_style": "success",
            "description": "",
            "description_tooltip": null,
            "layout": "IPY_MODEL_5794d3c3b0fb4925a82af670ff37f09c",
            "max": 28,
            "min": 0,
            "orientation": "horizontal",
            "style": "IPY_MODEL_24c0a09e36a741cbb63d8342ad9f06b1",
            "value": 28
          }
        },
        "03a50e47070e49a1b933855c571f2df9": {
          "model_module": "@jupyter-widgets/controls",
          "model_name": "HTMLModel",
          "model_module_version": "1.5.0",
          "state": {
            "_dom_classes": [],
            "_model_module": "@jupyter-widgets/controls",
            "_model_module_version": "1.5.0",
            "_model_name": "HTMLModel",
            "_view_count": null,
            "_view_module": "@jupyter-widgets/controls",
            "_view_module_version": "1.5.0",
            "_view_name": "HTMLView",
            "description": "",
            "description_tooltip": null,
            "layout": "IPY_MODEL_a47dc12fdba041d1b6afbc7dca49507d",
            "placeholder": "​",
            "style": "IPY_MODEL_bc589ca95613481c809e654d5dfb7d5a",
            "value": " 28.0/28.0 [00:00&lt;00:00, 513B/s]"
          }
        },
        "a62f6dd9e2ef43e9983ad06d686891ae": {
          "model_module": "@jupyter-widgets/base",
          "model_name": "LayoutModel",
          "model_module_version": "1.2.0",
          "state": {
            "_model_module": "@jupyter-widgets/base",
            "_model_module_version": "1.2.0",
            "_model_name": "LayoutModel",
            "_view_count": null,
            "_view_module": "@jupyter-widgets/base",
            "_view_module_version": "1.2.0",
            "_view_name": "LayoutView",
            "align_content": null,
            "align_items": null,
            "align_self": null,
            "border": null,
            "bottom": null,
            "display": null,
            "flex": null,
            "flex_flow": null,
            "grid_area": null,
            "grid_auto_columns": null,
            "grid_auto_flow": null,
            "grid_auto_rows": null,
            "grid_column": null,
            "grid_gap": null,
            "grid_row": null,
            "grid_template_areas": null,
            "grid_template_columns": null,
            "grid_template_rows": null,
            "height": null,
            "justify_content": null,
            "justify_items": null,
            "left": null,
            "margin": null,
            "max_height": null,
            "max_width": null,
            "min_height": null,
            "min_width": null,
            "object_fit": null,
            "object_position": null,
            "order": null,
            "overflow": null,
            "overflow_x": null,
            "overflow_y": null,
            "padding": null,
            "right": null,
            "top": null,
            "visibility": null,
            "width": null
          }
        },
        "255174e7f2b24b0b9bfc66cbba82534f": {
          "model_module": "@jupyter-widgets/base",
          "model_name": "LayoutModel",
          "model_module_version": "1.2.0",
          "state": {
            "_model_module": "@jupyter-widgets/base",
            "_model_module_version": "1.2.0",
            "_model_name": "LayoutModel",
            "_view_count": null,
            "_view_module": "@jupyter-widgets/base",
            "_view_module_version": "1.2.0",
            "_view_name": "LayoutView",
            "align_content": null,
            "align_items": null,
            "align_self": null,
            "border": null,
            "bottom": null,
            "display": null,
            "flex": null,
            "flex_flow": null,
            "grid_area": null,
            "grid_auto_columns": null,
            "grid_auto_flow": null,
            "grid_auto_rows": null,
            "grid_column": null,
            "grid_gap": null,
            "grid_row": null,
            "grid_template_areas": null,
            "grid_template_columns": null,
            "grid_template_rows": null,
            "height": null,
            "justify_content": null,
            "justify_items": null,
            "left": null,
            "margin": null,
            "max_height": null,
            "max_width": null,
            "min_height": null,
            "min_width": null,
            "object_fit": null,
            "object_position": null,
            "order": null,
            "overflow": null,
            "overflow_x": null,
            "overflow_y": null,
            "padding": null,
            "right": null,
            "top": null,
            "visibility": null,
            "width": null
          }
        },
        "0bc29dc3b19c4c40816260e1849e1fc0": {
          "model_module": "@jupyter-widgets/controls",
          "model_name": "DescriptionStyleModel",
          "model_module_version": "1.5.0",
          "state": {
            "_model_module": "@jupyter-widgets/controls",
            "_model_module_version": "1.5.0",
            "_model_name": "DescriptionStyleModel",
            "_view_count": null,
            "_view_module": "@jupyter-widgets/base",
            "_view_module_version": "1.2.0",
            "_view_name": "StyleView",
            "description_width": ""
          }
        },
        "5794d3c3b0fb4925a82af670ff37f09c": {
          "model_module": "@jupyter-widgets/base",
          "model_name": "LayoutModel",
          "model_module_version": "1.2.0",
          "state": {
            "_model_module": "@jupyter-widgets/base",
            "_model_module_version": "1.2.0",
            "_model_name": "LayoutModel",
            "_view_count": null,
            "_view_module": "@jupyter-widgets/base",
            "_view_module_version": "1.2.0",
            "_view_name": "LayoutView",
            "align_content": null,
            "align_items": null,
            "align_self": null,
            "border": null,
            "bottom": null,
            "display": null,
            "flex": null,
            "flex_flow": null,
            "grid_area": null,
            "grid_auto_columns": null,
            "grid_auto_flow": null,
            "grid_auto_rows": null,
            "grid_column": null,
            "grid_gap": null,
            "grid_row": null,
            "grid_template_areas": null,
            "grid_template_columns": null,
            "grid_template_rows": null,
            "height": null,
            "justify_content": null,
            "justify_items": null,
            "left": null,
            "margin": null,
            "max_height": null,
            "max_width": null,
            "min_height": null,
            "min_width": null,
            "object_fit": null,
            "object_position": null,
            "order": null,
            "overflow": null,
            "overflow_x": null,
            "overflow_y": null,
            "padding": null,
            "right": null,
            "top": null,
            "visibility": null,
            "width": null
          }
        },
        "24c0a09e36a741cbb63d8342ad9f06b1": {
          "model_module": "@jupyter-widgets/controls",
          "model_name": "ProgressStyleModel",
          "model_module_version": "1.5.0",
          "state": {
            "_model_module": "@jupyter-widgets/controls",
            "_model_module_version": "1.5.0",
            "_model_name": "ProgressStyleModel",
            "_view_count": null,
            "_view_module": "@jupyter-widgets/base",
            "_view_module_version": "1.2.0",
            "_view_name": "StyleView",
            "bar_color": null,
            "description_width": ""
          }
        },
        "a47dc12fdba041d1b6afbc7dca49507d": {
          "model_module": "@jupyter-widgets/base",
          "model_name": "LayoutModel",
          "model_module_version": "1.2.0",
          "state": {
            "_model_module": "@jupyter-widgets/base",
            "_model_module_version": "1.2.0",
            "_model_name": "LayoutModel",
            "_view_count": null,
            "_view_module": "@jupyter-widgets/base",
            "_view_module_version": "1.2.0",
            "_view_name": "LayoutView",
            "align_content": null,
            "align_items": null,
            "align_self": null,
            "border": null,
            "bottom": null,
            "display": null,
            "flex": null,
            "flex_flow": null,
            "grid_area": null,
            "grid_auto_columns": null,
            "grid_auto_flow": null,
            "grid_auto_rows": null,
            "grid_column": null,
            "grid_gap": null,
            "grid_row": null,
            "grid_template_areas": null,
            "grid_template_columns": null,
            "grid_template_rows": null,
            "height": null,
            "justify_content": null,
            "justify_items": null,
            "left": null,
            "margin": null,
            "max_height": null,
            "max_width": null,
            "min_height": null,
            "min_width": null,
            "object_fit": null,
            "object_position": null,
            "order": null,
            "overflow": null,
            "overflow_x": null,
            "overflow_y": null,
            "padding": null,
            "right": null,
            "top": null,
            "visibility": null,
            "width": null
          }
        },
        "bc589ca95613481c809e654d5dfb7d5a": {
          "model_module": "@jupyter-widgets/controls",
          "model_name": "DescriptionStyleModel",
          "model_module_version": "1.5.0",
          "state": {
            "_model_module": "@jupyter-widgets/controls",
            "_model_module_version": "1.5.0",
            "_model_name": "DescriptionStyleModel",
            "_view_count": null,
            "_view_module": "@jupyter-widgets/base",
            "_view_module_version": "1.2.0",
            "_view_name": "StyleView",
            "description_width": ""
          }
        },
        "9473c5cf37c74372adec63c2b91afa80": {
          "model_module": "@jupyter-widgets/controls",
          "model_name": "HBoxModel",
          "model_module_version": "1.5.0",
          "state": {
            "_dom_classes": [],
            "_model_module": "@jupyter-widgets/controls",
            "_model_module_version": "1.5.0",
            "_model_name": "HBoxModel",
            "_view_count": null,
            "_view_module": "@jupyter-widgets/controls",
            "_view_module_version": "1.5.0",
            "_view_name": "HBoxView",
            "box_style": "",
            "children": [
              "IPY_MODEL_4f18d19e31714e9aac80db36dc04383f",
              "IPY_MODEL_bebba5b601a249c0ac66244920adc564",
              "IPY_MODEL_9963653facc94ce4978262c8f53198c8"
            ],
            "layout": "IPY_MODEL_cfd12ed62ed74705a20fdaa8c60fa275"
          }
        },
        "4f18d19e31714e9aac80db36dc04383f": {
          "model_module": "@jupyter-widgets/controls",
          "model_name": "HTMLModel",
          "model_module_version": "1.5.0",
          "state": {
            "_dom_classes": [],
            "_model_module": "@jupyter-widgets/controls",
            "_model_module_version": "1.5.0",
            "_model_name": "HTMLModel",
            "_view_count": null,
            "_view_module": "@jupyter-widgets/controls",
            "_view_module_version": "1.5.0",
            "_view_name": "HTMLView",
            "description": "",
            "description_tooltip": null,
            "layout": "IPY_MODEL_0670a49f1a14463bb6c9eee562230efe",
            "placeholder": "​",
            "style": "IPY_MODEL_110525c777e242bca38cf9eca8e2ad03",
            "value": "Downloading (…)solve/main/vocab.txt: 100%"
          }
        },
        "bebba5b601a249c0ac66244920adc564": {
          "model_module": "@jupyter-widgets/controls",
          "model_name": "FloatProgressModel",
          "model_module_version": "1.5.0",
          "state": {
            "_dom_classes": [],
            "_model_module": "@jupyter-widgets/controls",
            "_model_module_version": "1.5.0",
            "_model_name": "FloatProgressModel",
            "_view_count": null,
            "_view_module": "@jupyter-widgets/controls",
            "_view_module_version": "1.5.0",
            "_view_name": "ProgressView",
            "bar_style": "success",
            "description": "",
            "description_tooltip": null,
            "layout": "IPY_MODEL_47e1a36f942244f489a20f18b06ba7e1",
            "max": 231508,
            "min": 0,
            "orientation": "horizontal",
            "style": "IPY_MODEL_8091da3fe86d4630bb58354d66198c2d",
            "value": 231508
          }
        },
        "9963653facc94ce4978262c8f53198c8": {
          "model_module": "@jupyter-widgets/controls",
          "model_name": "HTMLModel",
          "model_module_version": "1.5.0",
          "state": {
            "_dom_classes": [],
            "_model_module": "@jupyter-widgets/controls",
            "_model_module_version": "1.5.0",
            "_model_name": "HTMLModel",
            "_view_count": null,
            "_view_module": "@jupyter-widgets/controls",
            "_view_module_version": "1.5.0",
            "_view_name": "HTMLView",
            "description": "",
            "description_tooltip": null,
            "layout": "IPY_MODEL_796fb81c9cf44496a830f5f97c61c5b2",
            "placeholder": "​",
            "style": "IPY_MODEL_db7e9c1083c24fc196252888a0195bc6",
            "value": " 232k/232k [00:00&lt;00:00, 1.83MB/s]"
          }
        },
        "cfd12ed62ed74705a20fdaa8c60fa275": {
          "model_module": "@jupyter-widgets/base",
          "model_name": "LayoutModel",
          "model_module_version": "1.2.0",
          "state": {
            "_model_module": "@jupyter-widgets/base",
            "_model_module_version": "1.2.0",
            "_model_name": "LayoutModel",
            "_view_count": null,
            "_view_module": "@jupyter-widgets/base",
            "_view_module_version": "1.2.0",
            "_view_name": "LayoutView",
            "align_content": null,
            "align_items": null,
            "align_self": null,
            "border": null,
            "bottom": null,
            "display": null,
            "flex": null,
            "flex_flow": null,
            "grid_area": null,
            "grid_auto_columns": null,
            "grid_auto_flow": null,
            "grid_auto_rows": null,
            "grid_column": null,
            "grid_gap": null,
            "grid_row": null,
            "grid_template_areas": null,
            "grid_template_columns": null,
            "grid_template_rows": null,
            "height": null,
            "justify_content": null,
            "justify_items": null,
            "left": null,
            "margin": null,
            "max_height": null,
            "max_width": null,
            "min_height": null,
            "min_width": null,
            "object_fit": null,
            "object_position": null,
            "order": null,
            "overflow": null,
            "overflow_x": null,
            "overflow_y": null,
            "padding": null,
            "right": null,
            "top": null,
            "visibility": null,
            "width": null
          }
        },
        "0670a49f1a14463bb6c9eee562230efe": {
          "model_module": "@jupyter-widgets/base",
          "model_name": "LayoutModel",
          "model_module_version": "1.2.0",
          "state": {
            "_model_module": "@jupyter-widgets/base",
            "_model_module_version": "1.2.0",
            "_model_name": "LayoutModel",
            "_view_count": null,
            "_view_module": "@jupyter-widgets/base",
            "_view_module_version": "1.2.0",
            "_view_name": "LayoutView",
            "align_content": null,
            "align_items": null,
            "align_self": null,
            "border": null,
            "bottom": null,
            "display": null,
            "flex": null,
            "flex_flow": null,
            "grid_area": null,
            "grid_auto_columns": null,
            "grid_auto_flow": null,
            "grid_auto_rows": null,
            "grid_column": null,
            "grid_gap": null,
            "grid_row": null,
            "grid_template_areas": null,
            "grid_template_columns": null,
            "grid_template_rows": null,
            "height": null,
            "justify_content": null,
            "justify_items": null,
            "left": null,
            "margin": null,
            "max_height": null,
            "max_width": null,
            "min_height": null,
            "min_width": null,
            "object_fit": null,
            "object_position": null,
            "order": null,
            "overflow": null,
            "overflow_x": null,
            "overflow_y": null,
            "padding": null,
            "right": null,
            "top": null,
            "visibility": null,
            "width": null
          }
        },
        "110525c777e242bca38cf9eca8e2ad03": {
          "model_module": "@jupyter-widgets/controls",
          "model_name": "DescriptionStyleModel",
          "model_module_version": "1.5.0",
          "state": {
            "_model_module": "@jupyter-widgets/controls",
            "_model_module_version": "1.5.0",
            "_model_name": "DescriptionStyleModel",
            "_view_count": null,
            "_view_module": "@jupyter-widgets/base",
            "_view_module_version": "1.2.0",
            "_view_name": "StyleView",
            "description_width": ""
          }
        },
        "47e1a36f942244f489a20f18b06ba7e1": {
          "model_module": "@jupyter-widgets/base",
          "model_name": "LayoutModel",
          "model_module_version": "1.2.0",
          "state": {
            "_model_module": "@jupyter-widgets/base",
            "_model_module_version": "1.2.0",
            "_model_name": "LayoutModel",
            "_view_count": null,
            "_view_module": "@jupyter-widgets/base",
            "_view_module_version": "1.2.0",
            "_view_name": "LayoutView",
            "align_content": null,
            "align_items": null,
            "align_self": null,
            "border": null,
            "bottom": null,
            "display": null,
            "flex": null,
            "flex_flow": null,
            "grid_area": null,
            "grid_auto_columns": null,
            "grid_auto_flow": null,
            "grid_auto_rows": null,
            "grid_column": null,
            "grid_gap": null,
            "grid_row": null,
            "grid_template_areas": null,
            "grid_template_columns": null,
            "grid_template_rows": null,
            "height": null,
            "justify_content": null,
            "justify_items": null,
            "left": null,
            "margin": null,
            "max_height": null,
            "max_width": null,
            "min_height": null,
            "min_width": null,
            "object_fit": null,
            "object_position": null,
            "order": null,
            "overflow": null,
            "overflow_x": null,
            "overflow_y": null,
            "padding": null,
            "right": null,
            "top": null,
            "visibility": null,
            "width": null
          }
        },
        "8091da3fe86d4630bb58354d66198c2d": {
          "model_module": "@jupyter-widgets/controls",
          "model_name": "ProgressStyleModel",
          "model_module_version": "1.5.0",
          "state": {
            "_model_module": "@jupyter-widgets/controls",
            "_model_module_version": "1.5.0",
            "_model_name": "ProgressStyleModel",
            "_view_count": null,
            "_view_module": "@jupyter-widgets/base",
            "_view_module_version": "1.2.0",
            "_view_name": "StyleView",
            "bar_color": null,
            "description_width": ""
          }
        },
        "796fb81c9cf44496a830f5f97c61c5b2": {
          "model_module": "@jupyter-widgets/base",
          "model_name": "LayoutModel",
          "model_module_version": "1.2.0",
          "state": {
            "_model_module": "@jupyter-widgets/base",
            "_model_module_version": "1.2.0",
            "_model_name": "LayoutModel",
            "_view_count": null,
            "_view_module": "@jupyter-widgets/base",
            "_view_module_version": "1.2.0",
            "_view_name": "LayoutView",
            "align_content": null,
            "align_items": null,
            "align_self": null,
            "border": null,
            "bottom": null,
            "display": null,
            "flex": null,
            "flex_flow": null,
            "grid_area": null,
            "grid_auto_columns": null,
            "grid_auto_flow": null,
            "grid_auto_rows": null,
            "grid_column": null,
            "grid_gap": null,
            "grid_row": null,
            "grid_template_areas": null,
            "grid_template_columns": null,
            "grid_template_rows": null,
            "height": null,
            "justify_content": null,
            "justify_items": null,
            "left": null,
            "margin": null,
            "max_height": null,
            "max_width": null,
            "min_height": null,
            "min_width": null,
            "object_fit": null,
            "object_position": null,
            "order": null,
            "overflow": null,
            "overflow_x": null,
            "overflow_y": null,
            "padding": null,
            "right": null,
            "top": null,
            "visibility": null,
            "width": null
          }
        },
        "db7e9c1083c24fc196252888a0195bc6": {
          "model_module": "@jupyter-widgets/controls",
          "model_name": "DescriptionStyleModel",
          "model_module_version": "1.5.0",
          "state": {
            "_model_module": "@jupyter-widgets/controls",
            "_model_module_version": "1.5.0",
            "_model_name": "DescriptionStyleModel",
            "_view_count": null,
            "_view_module": "@jupyter-widgets/base",
            "_view_module_version": "1.2.0",
            "_view_name": "StyleView",
            "description_width": ""
          }
        },
        "04c93baa1c144703a2f03f5b8ab403cd": {
          "model_module": "@jupyter-widgets/controls",
          "model_name": "HBoxModel",
          "model_module_version": "1.5.0",
          "state": {
            "_dom_classes": [],
            "_model_module": "@jupyter-widgets/controls",
            "_model_module_version": "1.5.0",
            "_model_name": "HBoxModel",
            "_view_count": null,
            "_view_module": "@jupyter-widgets/controls",
            "_view_module_version": "1.5.0",
            "_view_name": "HBoxView",
            "box_style": "",
            "children": [
              "IPY_MODEL_da6f0203543a48b0b91522e1b888bc02",
              "IPY_MODEL_b9111510ee9f4aff9d0ea963befb1e04",
              "IPY_MODEL_535a78e734844f5ba7c19bc699fa00b1"
            ],
            "layout": "IPY_MODEL_fc7dd815f7d045b7b1d37e9b26fab490"
          }
        },
        "da6f0203543a48b0b91522e1b888bc02": {
          "model_module": "@jupyter-widgets/controls",
          "model_name": "HTMLModel",
          "model_module_version": "1.5.0",
          "state": {
            "_dom_classes": [],
            "_model_module": "@jupyter-widgets/controls",
            "_model_module_version": "1.5.0",
            "_model_name": "HTMLModel",
            "_view_count": null,
            "_view_module": "@jupyter-widgets/controls",
            "_view_module_version": "1.5.0",
            "_view_name": "HTMLView",
            "description": "",
            "description_tooltip": null,
            "layout": "IPY_MODEL_9c11f0a2adfc46a8b3f7f4aaca8b9beb",
            "placeholder": "​",
            "style": "IPY_MODEL_a972995c684a423989cb47da50fc0ba5",
            "value": "Downloading (…)/main/tokenizer.json: 100%"
          }
        },
        "b9111510ee9f4aff9d0ea963befb1e04": {
          "model_module": "@jupyter-widgets/controls",
          "model_name": "FloatProgressModel",
          "model_module_version": "1.5.0",
          "state": {
            "_dom_classes": [],
            "_model_module": "@jupyter-widgets/controls",
            "_model_module_version": "1.5.0",
            "_model_name": "FloatProgressModel",
            "_view_count": null,
            "_view_module": "@jupyter-widgets/controls",
            "_view_module_version": "1.5.0",
            "_view_name": "ProgressView",
            "bar_style": "success",
            "description": "",
            "description_tooltip": null,
            "layout": "IPY_MODEL_3118a586105946c4a13b8d1836e6b680",
            "max": 466062,
            "min": 0,
            "orientation": "horizontal",
            "style": "IPY_MODEL_635a9dc619dc422f9cd8d34aac6dbfc1",
            "value": 466062
          }
        },
        "535a78e734844f5ba7c19bc699fa00b1": {
          "model_module": "@jupyter-widgets/controls",
          "model_name": "HTMLModel",
          "model_module_version": "1.5.0",
          "state": {
            "_dom_classes": [],
            "_model_module": "@jupyter-widgets/controls",
            "_model_module_version": "1.5.0",
            "_model_name": "HTMLModel",
            "_view_count": null,
            "_view_module": "@jupyter-widgets/controls",
            "_view_module_version": "1.5.0",
            "_view_name": "HTMLView",
            "description": "",
            "description_tooltip": null,
            "layout": "IPY_MODEL_c481b4454a2c49dba16e823675da29e8",
            "placeholder": "​",
            "style": "IPY_MODEL_18d654214c6844a894c88f58f16468db",
            "value": " 466k/466k [00:00&lt;00:00, 2.62MB/s]"
          }
        },
        "fc7dd815f7d045b7b1d37e9b26fab490": {
          "model_module": "@jupyter-widgets/base",
          "model_name": "LayoutModel",
          "model_module_version": "1.2.0",
          "state": {
            "_model_module": "@jupyter-widgets/base",
            "_model_module_version": "1.2.0",
            "_model_name": "LayoutModel",
            "_view_count": null,
            "_view_module": "@jupyter-widgets/base",
            "_view_module_version": "1.2.0",
            "_view_name": "LayoutView",
            "align_content": null,
            "align_items": null,
            "align_self": null,
            "border": null,
            "bottom": null,
            "display": null,
            "flex": null,
            "flex_flow": null,
            "grid_area": null,
            "grid_auto_columns": null,
            "grid_auto_flow": null,
            "grid_auto_rows": null,
            "grid_column": null,
            "grid_gap": null,
            "grid_row": null,
            "grid_template_areas": null,
            "grid_template_columns": null,
            "grid_template_rows": null,
            "height": null,
            "justify_content": null,
            "justify_items": null,
            "left": null,
            "margin": null,
            "max_height": null,
            "max_width": null,
            "min_height": null,
            "min_width": null,
            "object_fit": null,
            "object_position": null,
            "order": null,
            "overflow": null,
            "overflow_x": null,
            "overflow_y": null,
            "padding": null,
            "right": null,
            "top": null,
            "visibility": null,
            "width": null
          }
        },
        "9c11f0a2adfc46a8b3f7f4aaca8b9beb": {
          "model_module": "@jupyter-widgets/base",
          "model_name": "LayoutModel",
          "model_module_version": "1.2.0",
          "state": {
            "_model_module": "@jupyter-widgets/base",
            "_model_module_version": "1.2.0",
            "_model_name": "LayoutModel",
            "_view_count": null,
            "_view_module": "@jupyter-widgets/base",
            "_view_module_version": "1.2.0",
            "_view_name": "LayoutView",
            "align_content": null,
            "align_items": null,
            "align_self": null,
            "border": null,
            "bottom": null,
            "display": null,
            "flex": null,
            "flex_flow": null,
            "grid_area": null,
            "grid_auto_columns": null,
            "grid_auto_flow": null,
            "grid_auto_rows": null,
            "grid_column": null,
            "grid_gap": null,
            "grid_row": null,
            "grid_template_areas": null,
            "grid_template_columns": null,
            "grid_template_rows": null,
            "height": null,
            "justify_content": null,
            "justify_items": null,
            "left": null,
            "margin": null,
            "max_height": null,
            "max_width": null,
            "min_height": null,
            "min_width": null,
            "object_fit": null,
            "object_position": null,
            "order": null,
            "overflow": null,
            "overflow_x": null,
            "overflow_y": null,
            "padding": null,
            "right": null,
            "top": null,
            "visibility": null,
            "width": null
          }
        },
        "a972995c684a423989cb47da50fc0ba5": {
          "model_module": "@jupyter-widgets/controls",
          "model_name": "DescriptionStyleModel",
          "model_module_version": "1.5.0",
          "state": {
            "_model_module": "@jupyter-widgets/controls",
            "_model_module_version": "1.5.0",
            "_model_name": "DescriptionStyleModel",
            "_view_count": null,
            "_view_module": "@jupyter-widgets/base",
            "_view_module_version": "1.2.0",
            "_view_name": "StyleView",
            "description_width": ""
          }
        },
        "3118a586105946c4a13b8d1836e6b680": {
          "model_module": "@jupyter-widgets/base",
          "model_name": "LayoutModel",
          "model_module_version": "1.2.0",
          "state": {
            "_model_module": "@jupyter-widgets/base",
            "_model_module_version": "1.2.0",
            "_model_name": "LayoutModel",
            "_view_count": null,
            "_view_module": "@jupyter-widgets/base",
            "_view_module_version": "1.2.0",
            "_view_name": "LayoutView",
            "align_content": null,
            "align_items": null,
            "align_self": null,
            "border": null,
            "bottom": null,
            "display": null,
            "flex": null,
            "flex_flow": null,
            "grid_area": null,
            "grid_auto_columns": null,
            "grid_auto_flow": null,
            "grid_auto_rows": null,
            "grid_column": null,
            "grid_gap": null,
            "grid_row": null,
            "grid_template_areas": null,
            "grid_template_columns": null,
            "grid_template_rows": null,
            "height": null,
            "justify_content": null,
            "justify_items": null,
            "left": null,
            "margin": null,
            "max_height": null,
            "max_width": null,
            "min_height": null,
            "min_width": null,
            "object_fit": null,
            "object_position": null,
            "order": null,
            "overflow": null,
            "overflow_x": null,
            "overflow_y": null,
            "padding": null,
            "right": null,
            "top": null,
            "visibility": null,
            "width": null
          }
        },
        "635a9dc619dc422f9cd8d34aac6dbfc1": {
          "model_module": "@jupyter-widgets/controls",
          "model_name": "ProgressStyleModel",
          "model_module_version": "1.5.0",
          "state": {
            "_model_module": "@jupyter-widgets/controls",
            "_model_module_version": "1.5.0",
            "_model_name": "ProgressStyleModel",
            "_view_count": null,
            "_view_module": "@jupyter-widgets/base",
            "_view_module_version": "1.2.0",
            "_view_name": "StyleView",
            "bar_color": null,
            "description_width": ""
          }
        },
        "c481b4454a2c49dba16e823675da29e8": {
          "model_module": "@jupyter-widgets/base",
          "model_name": "LayoutModel",
          "model_module_version": "1.2.0",
          "state": {
            "_model_module": "@jupyter-widgets/base",
            "_model_module_version": "1.2.0",
            "_model_name": "LayoutModel",
            "_view_count": null,
            "_view_module": "@jupyter-widgets/base",
            "_view_module_version": "1.2.0",
            "_view_name": "LayoutView",
            "align_content": null,
            "align_items": null,
            "align_self": null,
            "border": null,
            "bottom": null,
            "display": null,
            "flex": null,
            "flex_flow": null,
            "grid_area": null,
            "grid_auto_columns": null,
            "grid_auto_flow": null,
            "grid_auto_rows": null,
            "grid_column": null,
            "grid_gap": null,
            "grid_row": null,
            "grid_template_areas": null,
            "grid_template_columns": null,
            "grid_template_rows": null,
            "height": null,
            "justify_content": null,
            "justify_items": null,
            "left": null,
            "margin": null,
            "max_height": null,
            "max_width": null,
            "min_height": null,
            "min_width": null,
            "object_fit": null,
            "object_position": null,
            "order": null,
            "overflow": null,
            "overflow_x": null,
            "overflow_y": null,
            "padding": null,
            "right": null,
            "top": null,
            "visibility": null,
            "width": null
          }
        },
        "18d654214c6844a894c88f58f16468db": {
          "model_module": "@jupyter-widgets/controls",
          "model_name": "DescriptionStyleModel",
          "model_module_version": "1.5.0",
          "state": {
            "_model_module": "@jupyter-widgets/controls",
            "_model_module_version": "1.5.0",
            "_model_name": "DescriptionStyleModel",
            "_view_count": null,
            "_view_module": "@jupyter-widgets/base",
            "_view_module_version": "1.2.0",
            "_view_name": "StyleView",
            "description_width": ""
          }
        }
      }
    }
  },
  "nbformat": 4,
  "nbformat_minor": 0
}