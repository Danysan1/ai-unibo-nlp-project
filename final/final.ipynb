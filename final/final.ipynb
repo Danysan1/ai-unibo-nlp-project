{
  "cells": [
    {
      "cell_type": "markdown",
      "metadata": {
        "id": "JuFRCbwFV0i8"
      },
      "source": [
        "[![Open In Colab](https://colab.research.google.com/assets/colab-badge.svg)](https://colab.research.google.com/github/Danysan1/ai-unibo-nlp-project/blob/main/final/final.ipynb)\n",
        "[![Open in Kaggle](https://kaggle.com/static/images/open-in-kaggle.svg)](https://kaggle.com/kernels/welcome?src=https://github.com/Danysan1/ai-unibo-nlp-project/blob/main/final/final.ipynb)\n",
        "[![Open in SageMaker Studio Lab](https://studiolab.sagemaker.aws/studiolab.svg)](https://studiolab.sagemaker.aws/import/github/Danysan1/ai-unibo-nlp-project/tree/main/final/final.ipynb)"
      ]
    },
    {
      "cell_type": "markdown",
      "metadata": {
        "id": "dQ6HixirV0jA"
      },
      "source": [
        "# Final project"
      ]
    },
    {
      "cell_type": "markdown",
      "metadata": {
        "id": "ovb076-iV0jB"
      },
      "source": [
        "## Imports and Initial Settings"
      ]
    },
    {
      "cell_type": "code",
      "source": [
        "%pip install pandas numpy matplotlib transformers==4.25.1  dataset"
      ],
      "metadata": {
        "id": "_PlPqLFZBcDd",
        "outputId": "53eb3558-c38d-4713-e7dc-ab7fa288d494",
        "colab": {
          "base_uri": "https://localhost:8080/"
        }
      },
      "execution_count": 1,
      "outputs": [
        {
          "output_type": "stream",
          "name": "stdout",
          "text": [
            "Looking in indexes: https://pypi.org/simple, https://us-python.pkg.dev/colab-wheels/public/simple/\n",
            "Requirement already satisfied: pandas in /usr/local/lib/python3.9/dist-packages (1.4.4)\n",
            "Requirement already satisfied: numpy in /usr/local/lib/python3.9/dist-packages (1.22.4)\n",
            "Requirement already satisfied: matplotlib in /usr/local/lib/python3.9/dist-packages (3.7.1)\n",
            "Requirement already satisfied: transformers==4.25.1 in /usr/local/lib/python3.9/dist-packages (4.25.1)\n",
            "Requirement already satisfied: dataset in /usr/local/lib/python3.9/dist-packages (1.6.0)\n",
            "Requirement already satisfied: tokenizers!=0.11.3,<0.14,>=0.11.1 in /usr/local/lib/python3.9/dist-packages (from transformers==4.25.1) (0.13.2)\n",
            "Requirement already satisfied: huggingface-hub<1.0,>=0.10.0 in /usr/local/lib/python3.9/dist-packages (from transformers==4.25.1) (0.13.3)\n",
            "Requirement already satisfied: regex!=2019.12.17 in /usr/local/lib/python3.9/dist-packages (from transformers==4.25.1) (2022.10.31)\n",
            "Requirement already satisfied: filelock in /usr/local/lib/python3.9/dist-packages (from transformers==4.25.1) (3.10.7)\n",
            "Requirement already satisfied: tqdm>=4.27 in /usr/local/lib/python3.9/dist-packages (from transformers==4.25.1) (4.65.0)\n",
            "Requirement already satisfied: packaging>=20.0 in /usr/local/lib/python3.9/dist-packages (from transformers==4.25.1) (23.0)\n",
            "Requirement already satisfied: requests in /usr/local/lib/python3.9/dist-packages (from transformers==4.25.1) (2.27.1)\n",
            "Requirement already satisfied: pyyaml>=5.1 in /usr/local/lib/python3.9/dist-packages (from transformers==4.25.1) (6.0)\n",
            "Requirement already satisfied: pytz>=2020.1 in /usr/local/lib/python3.9/dist-packages (from pandas) (2022.7.1)\n",
            "Requirement already satisfied: python-dateutil>=2.8.1 in /usr/local/lib/python3.9/dist-packages (from pandas) (2.8.2)\n",
            "Requirement already satisfied: contourpy>=1.0.1 in /usr/local/lib/python3.9/dist-packages (from matplotlib) (1.0.7)\n",
            "Requirement already satisfied: cycler>=0.10 in /usr/local/lib/python3.9/dist-packages (from matplotlib) (0.11.0)\n",
            "Requirement already satisfied: kiwisolver>=1.0.1 in /usr/local/lib/python3.9/dist-packages (from matplotlib) (1.4.4)\n",
            "Requirement already satisfied: pillow>=6.2.0 in /usr/local/lib/python3.9/dist-packages (from matplotlib) (8.4.0)\n",
            "Requirement already satisfied: importlib-resources>=3.2.0 in /usr/local/lib/python3.9/dist-packages (from matplotlib) (5.12.0)\n",
            "Requirement already satisfied: fonttools>=4.22.0 in /usr/local/lib/python3.9/dist-packages (from matplotlib) (4.39.3)\n",
            "Requirement already satisfied: pyparsing>=2.3.1 in /usr/local/lib/python3.9/dist-packages (from matplotlib) (3.0.9)\n",
            "Requirement already satisfied: alembic>=0.6.2 in /usr/local/lib/python3.9/dist-packages (from dataset) (1.10.2)\n",
            "Requirement already satisfied: banal>=1.0.1 in /usr/local/lib/python3.9/dist-packages (from dataset) (1.0.6)\n",
            "Requirement already satisfied: sqlalchemy<2.0.0,>=1.3.2 in /usr/local/lib/python3.9/dist-packages (from dataset) (1.4.47)\n",
            "Requirement already satisfied: Mako in /usr/local/lib/python3.9/dist-packages (from alembic>=0.6.2->dataset) (1.2.4)\n",
            "Requirement already satisfied: typing-extensions>=4 in /usr/local/lib/python3.9/dist-packages (from alembic>=0.6.2->dataset) (4.5.0)\n",
            "Requirement already satisfied: zipp>=3.1.0 in /usr/local/lib/python3.9/dist-packages (from importlib-resources>=3.2.0->matplotlib) (3.15.0)\n",
            "Requirement already satisfied: six>=1.5 in /usr/local/lib/python3.9/dist-packages (from python-dateutil>=2.8.1->pandas) (1.16.0)\n",
            "Requirement already satisfied: greenlet!=0.4.17 in /usr/local/lib/python3.9/dist-packages (from sqlalchemy<2.0.0,>=1.3.2->dataset) (2.0.2)\n",
            "Requirement already satisfied: charset-normalizer~=2.0.0 in /usr/local/lib/python3.9/dist-packages (from requests->transformers==4.25.1) (2.0.12)\n",
            "Requirement already satisfied: idna<4,>=2.5 in /usr/local/lib/python3.9/dist-packages (from requests->transformers==4.25.1) (3.4)\n",
            "Requirement already satisfied: certifi>=2017.4.17 in /usr/local/lib/python3.9/dist-packages (from requests->transformers==4.25.1) (2022.12.7)\n",
            "Requirement already satisfied: urllib3<1.27,>=1.21.1 in /usr/local/lib/python3.9/dist-packages (from requests->transformers==4.25.1) (1.26.15)\n",
            "Requirement already satisfied: MarkupSafe>=0.9.2 in /usr/local/lib/python3.9/dist-packages (from Mako->alembic>=0.6.2->dataset) (2.1.2)\n"
          ]
        }
      ]
    },
    {
      "cell_type": "code",
      "source": [
        "import numpy as np\n",
        "import pandas as pd\n",
        "import seaborn as sns\n",
        "import json\n",
        "from os import path\n",
        "from matplotlib import pyplot as plt\n",
        "import random\n",
        "import gc\n",
        "import torch\n",
        "import transformers\n",
        "from tqdm import tqdm\n",
        "from typing import Callable, Dict, List, Tuple\n",
        "from timeit import default_timer as timer\n",
        "from transformers import EncoderDecoderModel, AutoTokenizer, PreTrainedTokenizer, BatchEncoding\n",
        "from torch.utils.data import Dataset, DataLoader"
      ],
      "metadata": {
        "id": "A6z0BD01Bhf4"
      },
      "execution_count": 2,
      "outputs": []
    },
    {
      "cell_type": "code",
      "execution_count": 3,
      "metadata": {
        "id": "VMl-V2OfV0jB"
      },
      "outputs": [],
      "source": [
        "# Fix the random state to 42\n",
        "SEED = 42\n",
        "labels = ['Self-direction: thought', 'Self-direction: action', 'Stimulation',\n",
        "       'Hedonism', 'Achievement', 'Power: dominance', 'Power: resources',\n",
        "       'Face', 'Security: personal', 'Security: societal', 'Tradition',\n",
        "       'Conformity: rules', 'Conformity: interpersonal', 'Humility',\n",
        "       'Benevolence: caring', 'Benevolence: dependability',\n",
        "       'Universalism: concern', 'Universalism: nature',\n",
        "       'Universalism: tolerance', 'Universalism: objectivity']\n",
        "\n",
        "# if a different set of labels is needed, decomment the next lines and select a different subset of labels,\n",
        "# but always use the variable 'labels' since all the code will use that. If you want to select\n",
        "# the full set of labels, just comment the next two lines\n",
        "\n",
        "#suggested_labels = ['Self-direction: action', 'Achievement', 'Security: personal', 'Security: societal', 'Benevolence: caring', 'Universalism: concern']\n",
        "#labels = suggested_labels"
      ]
    },
    {
      "cell_type": "code",
      "execution_count": 4,
      "metadata": {
        "id": "-WcnwSedV0jD"
      },
      "outputs": [],
      "source": [
        "def fix_seed(seed: int) -> None:\n",
        "    \"\"\"Fix all the possible sources of randomness.\n",
        "\n",
        "    Args:\n",
        "        seed: the seed to use. \n",
        "    \"\"\"\n",
        "    np.random.seed(seed)\n",
        "    random.seed(seed)\n",
        "    torch.manual_seed(seed)\n",
        "    torch.cuda.manual_seed(seed)\n",
        "    \n",
        "    torch.backends.cudnn.benchmark = False\n",
        "    torch.backends.cudnn.deterministic = True\n",
        "\n",
        "fix_seed(SEED)"
      ]
    },
    {
      "cell_type": "markdown",
      "metadata": {
        "id": "i8gHOumMV0jE"
      },
      "source": [
        "## Dataset Download"
      ]
    },
    {
      "cell_type": "code",
      "execution_count": 5,
      "metadata": {
        "id": "h49X-g3eV0jE"
      },
      "outputs": [],
      "source": [
        "import os\n",
        "import urllib.request\n",
        "from tqdm import tqdm\n",
        "\n",
        "class DownloadProgressBar(tqdm):\n",
        "    def update_to(self, b=1, bsize=1, tsize=None):\n",
        "        if tsize is not None:\n",
        "            self.total = tsize\n",
        "        self.update(b * bsize - self.n)\n",
        "        \n",
        "def download_url(url, output_path):\n",
        "    with DownloadProgressBar(unit='B', unit_scale=True,\n",
        "                             miniters=1, desc=url.split('/')[-1]) as t:\n",
        "        urllib.request.urlretrieve(url, filename=output_path, reporthook=t.update_to)\n",
        "\n",
        "def download_data(data_path, url_path, suffix):    \n",
        "    if not os.path.exists(data_path):\n",
        "        os.makedirs(data_path)\n",
        "        \n",
        "    data_path = os.path.join(data_path, f'{suffix}.tsv')\n",
        "    if not os.path.exists(data_path):\n",
        "        print(f\"Downloading Touché23-ValueEval {suffix} data... (it may take a while)\")\n",
        "        download_url(url=url_path, output_path=data_path)\n",
        "        print(\"Download completed!\")"
      ]
    },
    {
      "cell_type": "code",
      "execution_count": 6,
      "metadata": {
        "id": "izIZxG3CV0jF"
      },
      "outputs": [],
      "source": [
        "data_folder = 'Dataset'"
      ]
    },
    {
      "cell_type": "code",
      "execution_count": 7,
      "metadata": {
        "id": "ohVXXdwMV0jG"
      },
      "outputs": [],
      "source": [
        "# Training data\n",
        "training = {'suffix': 'arguments-training', 'url': \"https://zenodo.org/record/7550385/files/arguments-training.tsv?download=1\"}\n",
        "labels_training = {'suffix': 'labels-training', 'url': \"https://zenodo.org/record/7550385/files/labels-training.tsv?download=1\"}\n",
        "level1_labels_training = {'suffix': 'level1-labels-training', 'url': \"https://zenodo.org/record/7550385/files/level1-labels-training.tsv?download=1\"}\n",
        "\n",
        "# Validation data\n",
        "validation = {'suffix': 'arguments-validation', 'url': \"https://zenodo.org/record/7550385/files/arguments-validation.tsv?download=1\"}\n",
        "labels_validation = {'suffix': 'labels-validation', 'url': \"https://zenodo.org/record/7550385/files/labels-validation.tsv?download=1\"}\n",
        "level1_labels_validation = {'suffix': 'level1-labels-validation', 'url': \"https://zenodo.org/record/7550385/files/level1-labels-validation.tsv?download=1\"}\n",
        "\n",
        "# Test data\n",
        "test = {'suffix': 'arguments-test', 'url': \"https://zenodo.org/record/7550385/files/arguments-test.tsv?download=1\"}\n",
        "\n",
        "to_download = [training, \n",
        "                labels_training,\n",
        "                validation,\n",
        "                labels_validation]"
      ]
    },
    {
      "cell_type": "code",
      "execution_count": 8,
      "metadata": {
        "id": "4z5Tl-DLV0jG"
      },
      "outputs": [],
      "source": [
        "for data in to_download:\n",
        "    download_data(data_path=data_folder, url_path=data['url'], suffix=data['suffix'])"
      ]
    },
    {
      "cell_type": "markdown",
      "metadata": {
        "id": "Ge3i4MzcV0jH"
      },
      "source": [
        "## Dataset Loading"
      ]
    },
    {
      "cell_type": "code",
      "execution_count": 9,
      "metadata": {
        "id": "MeRcgnfHV0jH"
      },
      "outputs": [],
      "source": [
        "def load_touche_dataset(filename:str) -> pd.DataFrame:\n",
        "    with open(path.join(data_folder, filename)) as file_obj:\n",
        "        data = pd.read_csv(path.join(data_folder, filename), sep='\\t', header=0, index_col='Argument ID')\n",
        "        return data"
      ]
    },
    {
      "cell_type": "code",
      "execution_count": 10,
      "metadata": {
        "id": "TTsYMJI5V0jH"
      },
      "outputs": [],
      "source": [
        "def filter_labels(labels_df:pd.DataFrame, subset:pd.Series) -> pd.DataFrame:\n",
        "    \"\"\"\n",
        "        Given a DataFrame of labels (e.g. from labels-training.tsv), this method drops all the columns not contained in the subset list \n",
        "    \"\"\"\n",
        "    m = labels_df[subset].mask(labels_df[subset] == 0).dropna(how='all').replace(np.NaN, 0)\n",
        "    return pd.DataFrame(m, dtype=int)\n",
        "\n",
        "def filter_indexes(data_df:pd.DataFrame, subset:pd.Series) -> pd.DataFrame:\n",
        "    \"\"\"\n",
        "        Given a DataFrame of arguments (e.g. from arguments-training.tsv), this method drops all the rows with indexes not contained in the subset list.\n",
        "        This method is useful after a labels DataFrame has been filtered, because it removes rows that couldn't be classificated\n",
        "    \"\"\"\n",
        "    return data_df.filter(subset, axis='index')"
      ]
    },
    {
      "cell_type": "code",
      "execution_count": 11,
      "metadata": {
        "id": "P-7F96TaV0jH",
        "outputId": "86e44cc5-e3d1-483d-f267-54567e7a223f",
        "colab": {
          "base_uri": "https://localhost:8080/",
          "height": 237
        }
      },
      "outputs": [
        {
          "output_type": "execute_result",
          "data": {
            "text/plain": [
              "                                              Conclusion       Stance  \\\n",
              "Argument ID                                                             \n",
              "A01002                       We should ban human cloning  in favor of   \n",
              "A01005                           We should ban fast food  in favor of   \n",
              "A01006       We should end the use of economic sanctions      against   \n",
              "A01007              We should abolish capital punishment      against   \n",
              "A01008                     We should ban factory farming      against   \n",
              "\n",
              "                                                       Premise  \n",
              "Argument ID                                                     \n",
              "A01002       we should ban human cloning as it will only ca...  \n",
              "A01005       fast food should be banned because it is reall...  \n",
              "A01006       sometimes economic sanctions are the only thin...  \n",
              "A01007       capital punishment is sometimes the only optio...  \n",
              "A01008       factory farming allows for the production of c...  "
            ],
            "text/html": [
              "\n",
              "  <div id=\"df-cdae13e0-6428-447c-ab5b-f2ce0dd86d46\">\n",
              "    <div class=\"colab-df-container\">\n",
              "      <div>\n",
              "<style scoped>\n",
              "    .dataframe tbody tr th:only-of-type {\n",
              "        vertical-align: middle;\n",
              "    }\n",
              "\n",
              "    .dataframe tbody tr th {\n",
              "        vertical-align: top;\n",
              "    }\n",
              "\n",
              "    .dataframe thead th {\n",
              "        text-align: right;\n",
              "    }\n",
              "</style>\n",
              "<table border=\"1\" class=\"dataframe\">\n",
              "  <thead>\n",
              "    <tr style=\"text-align: right;\">\n",
              "      <th></th>\n",
              "      <th>Conclusion</th>\n",
              "      <th>Stance</th>\n",
              "      <th>Premise</th>\n",
              "    </tr>\n",
              "    <tr>\n",
              "      <th>Argument ID</th>\n",
              "      <th></th>\n",
              "      <th></th>\n",
              "      <th></th>\n",
              "    </tr>\n",
              "  </thead>\n",
              "  <tbody>\n",
              "    <tr>\n",
              "      <th>A01002</th>\n",
              "      <td>We should ban human cloning</td>\n",
              "      <td>in favor of</td>\n",
              "      <td>we should ban human cloning as it will only ca...</td>\n",
              "    </tr>\n",
              "    <tr>\n",
              "      <th>A01005</th>\n",
              "      <td>We should ban fast food</td>\n",
              "      <td>in favor of</td>\n",
              "      <td>fast food should be banned because it is reall...</td>\n",
              "    </tr>\n",
              "    <tr>\n",
              "      <th>A01006</th>\n",
              "      <td>We should end the use of economic sanctions</td>\n",
              "      <td>against</td>\n",
              "      <td>sometimes economic sanctions are the only thin...</td>\n",
              "    </tr>\n",
              "    <tr>\n",
              "      <th>A01007</th>\n",
              "      <td>We should abolish capital punishment</td>\n",
              "      <td>against</td>\n",
              "      <td>capital punishment is sometimes the only optio...</td>\n",
              "    </tr>\n",
              "    <tr>\n",
              "      <th>A01008</th>\n",
              "      <td>We should ban factory farming</td>\n",
              "      <td>against</td>\n",
              "      <td>factory farming allows for the production of c...</td>\n",
              "    </tr>\n",
              "  </tbody>\n",
              "</table>\n",
              "</div>\n",
              "      <button class=\"colab-df-convert\" onclick=\"convertToInteractive('df-cdae13e0-6428-447c-ab5b-f2ce0dd86d46')\"\n",
              "              title=\"Convert this dataframe to an interactive table.\"\n",
              "              style=\"display:none;\">\n",
              "        \n",
              "  <svg xmlns=\"http://www.w3.org/2000/svg\" height=\"24px\"viewBox=\"0 0 24 24\"\n",
              "       width=\"24px\">\n",
              "    <path d=\"M0 0h24v24H0V0z\" fill=\"none\"/>\n",
              "    <path d=\"M18.56 5.44l.94 2.06.94-2.06 2.06-.94-2.06-.94-.94-2.06-.94 2.06-2.06.94zm-11 1L8.5 8.5l.94-2.06 2.06-.94-2.06-.94L8.5 2.5l-.94 2.06-2.06.94zm10 10l.94 2.06.94-2.06 2.06-.94-2.06-.94-.94-2.06-.94 2.06-2.06.94z\"/><path d=\"M17.41 7.96l-1.37-1.37c-.4-.4-.92-.59-1.43-.59-.52 0-1.04.2-1.43.59L10.3 9.45l-7.72 7.72c-.78.78-.78 2.05 0 2.83L4 21.41c.39.39.9.59 1.41.59.51 0 1.02-.2 1.41-.59l7.78-7.78 2.81-2.81c.8-.78.8-2.07 0-2.86zM5.41 20L4 18.59l7.72-7.72 1.47 1.35L5.41 20z\"/>\n",
              "  </svg>\n",
              "      </button>\n",
              "      \n",
              "  <style>\n",
              "    .colab-df-container {\n",
              "      display:flex;\n",
              "      flex-wrap:wrap;\n",
              "      gap: 12px;\n",
              "    }\n",
              "\n",
              "    .colab-df-convert {\n",
              "      background-color: #E8F0FE;\n",
              "      border: none;\n",
              "      border-radius: 50%;\n",
              "      cursor: pointer;\n",
              "      display: none;\n",
              "      fill: #1967D2;\n",
              "      height: 32px;\n",
              "      padding: 0 0 0 0;\n",
              "      width: 32px;\n",
              "    }\n",
              "\n",
              "    .colab-df-convert:hover {\n",
              "      background-color: #E2EBFA;\n",
              "      box-shadow: 0px 1px 2px rgba(60, 64, 67, 0.3), 0px 1px 3px 1px rgba(60, 64, 67, 0.15);\n",
              "      fill: #174EA6;\n",
              "    }\n",
              "\n",
              "    [theme=dark] .colab-df-convert {\n",
              "      background-color: #3B4455;\n",
              "      fill: #D2E3FC;\n",
              "    }\n",
              "\n",
              "    [theme=dark] .colab-df-convert:hover {\n",
              "      background-color: #434B5C;\n",
              "      box-shadow: 0px 1px 3px 1px rgba(0, 0, 0, 0.15);\n",
              "      filter: drop-shadow(0px 1px 2px rgba(0, 0, 0, 0.3));\n",
              "      fill: #FFFFFF;\n",
              "    }\n",
              "  </style>\n",
              "\n",
              "      <script>\n",
              "        const buttonEl =\n",
              "          document.querySelector('#df-cdae13e0-6428-447c-ab5b-f2ce0dd86d46 button.colab-df-convert');\n",
              "        buttonEl.style.display =\n",
              "          google.colab.kernel.accessAllowed ? 'block' : 'none';\n",
              "\n",
              "        async function convertToInteractive(key) {\n",
              "          const element = document.querySelector('#df-cdae13e0-6428-447c-ab5b-f2ce0dd86d46');\n",
              "          const dataTable =\n",
              "            await google.colab.kernel.invokeFunction('convertToInteractive',\n",
              "                                                     [key], {});\n",
              "          if (!dataTable) return;\n",
              "\n",
              "          const docLinkHtml = 'Like what you see? Visit the ' +\n",
              "            '<a target=\"_blank\" href=https://colab.research.google.com/notebooks/data_table.ipynb>data table notebook</a>'\n",
              "            + ' to learn more about interactive tables.';\n",
              "          element.innerHTML = '';\n",
              "          dataTable['output_type'] = 'display_data';\n",
              "          await google.colab.output.renderOutput(dataTable, element);\n",
              "          const docLink = document.createElement('div');\n",
              "          docLink.innerHTML = docLinkHtml;\n",
              "          element.appendChild(docLink);\n",
              "        }\n",
              "      </script>\n",
              "    </div>\n",
              "  </div>\n",
              "  "
            ]
          },
          "metadata": {},
          "execution_count": 11
        }
      ],
      "source": [
        "train_labels_df = filter_labels(load_touche_dataset(\"labels-training.tsv\"), subset=labels)\n",
        "train_df = filter_indexes(load_touche_dataset(\"arguments-training.tsv\"), subset=train_labels_df.index) \n",
        "val_labels_df = filter_labels(load_touche_dataset(\"labels-validation.tsv\"), subset=labels)\n",
        "val_df = filter_indexes(load_touche_dataset(\"arguments-validation.tsv\"), subset=val_labels_df.index)\n",
        "train_df.head() "
      ]
    },
    {
      "cell_type": "code",
      "source": [
        "val_df.head()"
      ],
      "metadata": {
        "id": "EFGvZ6o2Puzt",
        "outputId": "e3264101-fba7-482f-db17-99214b225a73",
        "colab": {
          "base_uri": "https://localhost:8080/",
          "height": 237
        }
      },
      "execution_count": 12,
      "outputs": [
        {
          "output_type": "execute_result",
          "data": {
            "text/plain": [
              "                                                  Conclusion       Stance  \\\n",
              "Argument ID                                                                 \n",
              "A01001                        Entrapment should be legalized  in favor of   \n",
              "A01012       The use of public defenders should be mandatory  in favor of   \n",
              "A02001                         Payday loans should be banned  in favor of   \n",
              "A02002                            Surrogacy should be banned      against   \n",
              "A02009                        Entrapment should be legalized      against   \n",
              "\n",
              "                                                       Premise  \n",
              "Argument ID                                                     \n",
              "A01001       if entrapment can serve to more easily capture...  \n",
              "A01012       the use of public defenders should be mandator...  \n",
              "A02001       payday loans create a more impoverished societ...  \n",
              "A02002       Surrogacy should not be banned as it is the wo...  \n",
              "A02009       entrapment is gravely immoral and against huma...  "
            ],
            "text/html": [
              "\n",
              "  <div id=\"df-aaf141f9-0c40-4b66-9dd2-8dfa074406a2\">\n",
              "    <div class=\"colab-df-container\">\n",
              "      <div>\n",
              "<style scoped>\n",
              "    .dataframe tbody tr th:only-of-type {\n",
              "        vertical-align: middle;\n",
              "    }\n",
              "\n",
              "    .dataframe tbody tr th {\n",
              "        vertical-align: top;\n",
              "    }\n",
              "\n",
              "    .dataframe thead th {\n",
              "        text-align: right;\n",
              "    }\n",
              "</style>\n",
              "<table border=\"1\" class=\"dataframe\">\n",
              "  <thead>\n",
              "    <tr style=\"text-align: right;\">\n",
              "      <th></th>\n",
              "      <th>Conclusion</th>\n",
              "      <th>Stance</th>\n",
              "      <th>Premise</th>\n",
              "    </tr>\n",
              "    <tr>\n",
              "      <th>Argument ID</th>\n",
              "      <th></th>\n",
              "      <th></th>\n",
              "      <th></th>\n",
              "    </tr>\n",
              "  </thead>\n",
              "  <tbody>\n",
              "    <tr>\n",
              "      <th>A01001</th>\n",
              "      <td>Entrapment should be legalized</td>\n",
              "      <td>in favor of</td>\n",
              "      <td>if entrapment can serve to more easily capture...</td>\n",
              "    </tr>\n",
              "    <tr>\n",
              "      <th>A01012</th>\n",
              "      <td>The use of public defenders should be mandatory</td>\n",
              "      <td>in favor of</td>\n",
              "      <td>the use of public defenders should be mandator...</td>\n",
              "    </tr>\n",
              "    <tr>\n",
              "      <th>A02001</th>\n",
              "      <td>Payday loans should be banned</td>\n",
              "      <td>in favor of</td>\n",
              "      <td>payday loans create a more impoverished societ...</td>\n",
              "    </tr>\n",
              "    <tr>\n",
              "      <th>A02002</th>\n",
              "      <td>Surrogacy should be banned</td>\n",
              "      <td>against</td>\n",
              "      <td>Surrogacy should not be banned as it is the wo...</td>\n",
              "    </tr>\n",
              "    <tr>\n",
              "      <th>A02009</th>\n",
              "      <td>Entrapment should be legalized</td>\n",
              "      <td>against</td>\n",
              "      <td>entrapment is gravely immoral and against huma...</td>\n",
              "    </tr>\n",
              "  </tbody>\n",
              "</table>\n",
              "</div>\n",
              "      <button class=\"colab-df-convert\" onclick=\"convertToInteractive('df-aaf141f9-0c40-4b66-9dd2-8dfa074406a2')\"\n",
              "              title=\"Convert this dataframe to an interactive table.\"\n",
              "              style=\"display:none;\">\n",
              "        \n",
              "  <svg xmlns=\"http://www.w3.org/2000/svg\" height=\"24px\"viewBox=\"0 0 24 24\"\n",
              "       width=\"24px\">\n",
              "    <path d=\"M0 0h24v24H0V0z\" fill=\"none\"/>\n",
              "    <path d=\"M18.56 5.44l.94 2.06.94-2.06 2.06-.94-2.06-.94-.94-2.06-.94 2.06-2.06.94zm-11 1L8.5 8.5l.94-2.06 2.06-.94-2.06-.94L8.5 2.5l-.94 2.06-2.06.94zm10 10l.94 2.06.94-2.06 2.06-.94-2.06-.94-.94-2.06-.94 2.06-2.06.94z\"/><path d=\"M17.41 7.96l-1.37-1.37c-.4-.4-.92-.59-1.43-.59-.52 0-1.04.2-1.43.59L10.3 9.45l-7.72 7.72c-.78.78-.78 2.05 0 2.83L4 21.41c.39.39.9.59 1.41.59.51 0 1.02-.2 1.41-.59l7.78-7.78 2.81-2.81c.8-.78.8-2.07 0-2.86zM5.41 20L4 18.59l7.72-7.72 1.47 1.35L5.41 20z\"/>\n",
              "  </svg>\n",
              "      </button>\n",
              "      \n",
              "  <style>\n",
              "    .colab-df-container {\n",
              "      display:flex;\n",
              "      flex-wrap:wrap;\n",
              "      gap: 12px;\n",
              "    }\n",
              "\n",
              "    .colab-df-convert {\n",
              "      background-color: #E8F0FE;\n",
              "      border: none;\n",
              "      border-radius: 50%;\n",
              "      cursor: pointer;\n",
              "      display: none;\n",
              "      fill: #1967D2;\n",
              "      height: 32px;\n",
              "      padding: 0 0 0 0;\n",
              "      width: 32px;\n",
              "    }\n",
              "\n",
              "    .colab-df-convert:hover {\n",
              "      background-color: #E2EBFA;\n",
              "      box-shadow: 0px 1px 2px rgba(60, 64, 67, 0.3), 0px 1px 3px 1px rgba(60, 64, 67, 0.15);\n",
              "      fill: #174EA6;\n",
              "    }\n",
              "\n",
              "    [theme=dark] .colab-df-convert {\n",
              "      background-color: #3B4455;\n",
              "      fill: #D2E3FC;\n",
              "    }\n",
              "\n",
              "    [theme=dark] .colab-df-convert:hover {\n",
              "      background-color: #434B5C;\n",
              "      box-shadow: 0px 1px 3px 1px rgba(0, 0, 0, 0.15);\n",
              "      filter: drop-shadow(0px 1px 2px rgba(0, 0, 0, 0.3));\n",
              "      fill: #FFFFFF;\n",
              "    }\n",
              "  </style>\n",
              "\n",
              "      <script>\n",
              "        const buttonEl =\n",
              "          document.querySelector('#df-aaf141f9-0c40-4b66-9dd2-8dfa074406a2 button.colab-df-convert');\n",
              "        buttonEl.style.display =\n",
              "          google.colab.kernel.accessAllowed ? 'block' : 'none';\n",
              "\n",
              "        async function convertToInteractive(key) {\n",
              "          const element = document.querySelector('#df-aaf141f9-0c40-4b66-9dd2-8dfa074406a2');\n",
              "          const dataTable =\n",
              "            await google.colab.kernel.invokeFunction('convertToInteractive',\n",
              "                                                     [key], {});\n",
              "          if (!dataTable) return;\n",
              "\n",
              "          const docLinkHtml = 'Like what you see? Visit the ' +\n",
              "            '<a target=\"_blank\" href=https://colab.research.google.com/notebooks/data_table.ipynb>data table notebook</a>'\n",
              "            + ' to learn more about interactive tables.';\n",
              "          element.innerHTML = '';\n",
              "          dataTable['output_type'] = 'display_data';\n",
              "          await google.colab.output.renderOutput(dataTable, element);\n",
              "          const docLink = document.createElement('div');\n",
              "          docLink.innerHTML = docLinkHtml;\n",
              "          element.appendChild(docLink);\n",
              "        }\n",
              "      </script>\n",
              "    </div>\n",
              "  </div>\n",
              "  "
            ]
          },
          "metadata": {},
          "execution_count": 12
        }
      ]
    },
    {
      "cell_type": "code",
      "execution_count": 13,
      "metadata": {
        "id": "ydONY9PQV0jI",
        "outputId": "b2d26861-8021-4141-fdd0-a786a74dd06d",
        "colab": {
          "base_uri": "https://localhost:8080/",
          "height": 353
        }
      },
      "outputs": [
        {
          "output_type": "execute_result",
          "data": {
            "text/plain": [
              "             Self-direction: thought  Self-direction: action  Stimulation  \\\n",
              "Argument ID                                                                 \n",
              "A01002                             0                       0            0   \n",
              "A01005                             0                       0            0   \n",
              "A01006                             0                       0            0   \n",
              "A01007                             0                       0            0   \n",
              "A01008                             0                       0            0   \n",
              "\n",
              "             Hedonism  Achievement  Power: dominance  Power: resources  Face  \\\n",
              "Argument ID                                                                    \n",
              "A01002              0            0                 0                 0     0   \n",
              "A01005              0            0                 0                 0     0   \n",
              "A01006              0            0                 1                 0     0   \n",
              "A01007              0            0                 0                 0     0   \n",
              "A01008              0            0                 0                 0     0   \n",
              "\n",
              "             Security: personal  Security: societal  Tradition  \\\n",
              "Argument ID                                                      \n",
              "A01002                        0                   1          0   \n",
              "A01005                        1                   0          0   \n",
              "A01006                        0                   1          0   \n",
              "A01007                        0                   1          0   \n",
              "A01008                        1                   0          0   \n",
              "\n",
              "             Conformity: rules  Conformity: interpersonal  Humility  \\\n",
              "Argument ID                                                           \n",
              "A01002                       0                          0         0   \n",
              "A01005                       0                          0         0   \n",
              "A01006                       0                          0         0   \n",
              "A01007                       1                          0         0   \n",
              "A01008                       0                          0         0   \n",
              "\n",
              "             Benevolence: caring  Benevolence: dependability  \\\n",
              "Argument ID                                                    \n",
              "A01002                         0                           0   \n",
              "A01005                         0                           0   \n",
              "A01006                         0                           0   \n",
              "A01007                         0                           0   \n",
              "A01008                         1                           0   \n",
              "\n",
              "             Universalism: concern  Universalism: nature  \\\n",
              "Argument ID                                                \n",
              "A01002                           0                     0   \n",
              "A01005                           0                     0   \n",
              "A01006                           0                     0   \n",
              "A01007                           1                     0   \n",
              "A01008                           1                     0   \n",
              "\n",
              "             Universalism: tolerance  Universalism: objectivity  \n",
              "Argument ID                                                      \n",
              "A01002                             0                          0  \n",
              "A01005                             0                          0  \n",
              "A01006                             0                          0  \n",
              "A01007                             0                          0  \n",
              "A01008                             0                          0  "
            ],
            "text/html": [
              "\n",
              "  <div id=\"df-c2d5b4e7-075d-4021-8d15-ce166dffef59\">\n",
              "    <div class=\"colab-df-container\">\n",
              "      <div>\n",
              "<style scoped>\n",
              "    .dataframe tbody tr th:only-of-type {\n",
              "        vertical-align: middle;\n",
              "    }\n",
              "\n",
              "    .dataframe tbody tr th {\n",
              "        vertical-align: top;\n",
              "    }\n",
              "\n",
              "    .dataframe thead th {\n",
              "        text-align: right;\n",
              "    }\n",
              "</style>\n",
              "<table border=\"1\" class=\"dataframe\">\n",
              "  <thead>\n",
              "    <tr style=\"text-align: right;\">\n",
              "      <th></th>\n",
              "      <th>Self-direction: thought</th>\n",
              "      <th>Self-direction: action</th>\n",
              "      <th>Stimulation</th>\n",
              "      <th>Hedonism</th>\n",
              "      <th>Achievement</th>\n",
              "      <th>Power: dominance</th>\n",
              "      <th>Power: resources</th>\n",
              "      <th>Face</th>\n",
              "      <th>Security: personal</th>\n",
              "      <th>Security: societal</th>\n",
              "      <th>Tradition</th>\n",
              "      <th>Conformity: rules</th>\n",
              "      <th>Conformity: interpersonal</th>\n",
              "      <th>Humility</th>\n",
              "      <th>Benevolence: caring</th>\n",
              "      <th>Benevolence: dependability</th>\n",
              "      <th>Universalism: concern</th>\n",
              "      <th>Universalism: nature</th>\n",
              "      <th>Universalism: tolerance</th>\n",
              "      <th>Universalism: objectivity</th>\n",
              "    </tr>\n",
              "    <tr>\n",
              "      <th>Argument ID</th>\n",
              "      <th></th>\n",
              "      <th></th>\n",
              "      <th></th>\n",
              "      <th></th>\n",
              "      <th></th>\n",
              "      <th></th>\n",
              "      <th></th>\n",
              "      <th></th>\n",
              "      <th></th>\n",
              "      <th></th>\n",
              "      <th></th>\n",
              "      <th></th>\n",
              "      <th></th>\n",
              "      <th></th>\n",
              "      <th></th>\n",
              "      <th></th>\n",
              "      <th></th>\n",
              "      <th></th>\n",
              "      <th></th>\n",
              "      <th></th>\n",
              "    </tr>\n",
              "  </thead>\n",
              "  <tbody>\n",
              "    <tr>\n",
              "      <th>A01002</th>\n",
              "      <td>0</td>\n",
              "      <td>0</td>\n",
              "      <td>0</td>\n",
              "      <td>0</td>\n",
              "      <td>0</td>\n",
              "      <td>0</td>\n",
              "      <td>0</td>\n",
              "      <td>0</td>\n",
              "      <td>0</td>\n",
              "      <td>1</td>\n",
              "      <td>0</td>\n",
              "      <td>0</td>\n",
              "      <td>0</td>\n",
              "      <td>0</td>\n",
              "      <td>0</td>\n",
              "      <td>0</td>\n",
              "      <td>0</td>\n",
              "      <td>0</td>\n",
              "      <td>0</td>\n",
              "      <td>0</td>\n",
              "    </tr>\n",
              "    <tr>\n",
              "      <th>A01005</th>\n",
              "      <td>0</td>\n",
              "      <td>0</td>\n",
              "      <td>0</td>\n",
              "      <td>0</td>\n",
              "      <td>0</td>\n",
              "      <td>0</td>\n",
              "      <td>0</td>\n",
              "      <td>0</td>\n",
              "      <td>1</td>\n",
              "      <td>0</td>\n",
              "      <td>0</td>\n",
              "      <td>0</td>\n",
              "      <td>0</td>\n",
              "      <td>0</td>\n",
              "      <td>0</td>\n",
              "      <td>0</td>\n",
              "      <td>0</td>\n",
              "      <td>0</td>\n",
              "      <td>0</td>\n",
              "      <td>0</td>\n",
              "    </tr>\n",
              "    <tr>\n",
              "      <th>A01006</th>\n",
              "      <td>0</td>\n",
              "      <td>0</td>\n",
              "      <td>0</td>\n",
              "      <td>0</td>\n",
              "      <td>0</td>\n",
              "      <td>1</td>\n",
              "      <td>0</td>\n",
              "      <td>0</td>\n",
              "      <td>0</td>\n",
              "      <td>1</td>\n",
              "      <td>0</td>\n",
              "      <td>0</td>\n",
              "      <td>0</td>\n",
              "      <td>0</td>\n",
              "      <td>0</td>\n",
              "      <td>0</td>\n",
              "      <td>0</td>\n",
              "      <td>0</td>\n",
              "      <td>0</td>\n",
              "      <td>0</td>\n",
              "    </tr>\n",
              "    <tr>\n",
              "      <th>A01007</th>\n",
              "      <td>0</td>\n",
              "      <td>0</td>\n",
              "      <td>0</td>\n",
              "      <td>0</td>\n",
              "      <td>0</td>\n",
              "      <td>0</td>\n",
              "      <td>0</td>\n",
              "      <td>0</td>\n",
              "      <td>0</td>\n",
              "      <td>1</td>\n",
              "      <td>0</td>\n",
              "      <td>1</td>\n",
              "      <td>0</td>\n",
              "      <td>0</td>\n",
              "      <td>0</td>\n",
              "      <td>0</td>\n",
              "      <td>1</td>\n",
              "      <td>0</td>\n",
              "      <td>0</td>\n",
              "      <td>0</td>\n",
              "    </tr>\n",
              "    <tr>\n",
              "      <th>A01008</th>\n",
              "      <td>0</td>\n",
              "      <td>0</td>\n",
              "      <td>0</td>\n",
              "      <td>0</td>\n",
              "      <td>0</td>\n",
              "      <td>0</td>\n",
              "      <td>0</td>\n",
              "      <td>0</td>\n",
              "      <td>1</td>\n",
              "      <td>0</td>\n",
              "      <td>0</td>\n",
              "      <td>0</td>\n",
              "      <td>0</td>\n",
              "      <td>0</td>\n",
              "      <td>1</td>\n",
              "      <td>0</td>\n",
              "      <td>1</td>\n",
              "      <td>0</td>\n",
              "      <td>0</td>\n",
              "      <td>0</td>\n",
              "    </tr>\n",
              "  </tbody>\n",
              "</table>\n",
              "</div>\n",
              "      <button class=\"colab-df-convert\" onclick=\"convertToInteractive('df-c2d5b4e7-075d-4021-8d15-ce166dffef59')\"\n",
              "              title=\"Convert this dataframe to an interactive table.\"\n",
              "              style=\"display:none;\">\n",
              "        \n",
              "  <svg xmlns=\"http://www.w3.org/2000/svg\" height=\"24px\"viewBox=\"0 0 24 24\"\n",
              "       width=\"24px\">\n",
              "    <path d=\"M0 0h24v24H0V0z\" fill=\"none\"/>\n",
              "    <path d=\"M18.56 5.44l.94 2.06.94-2.06 2.06-.94-2.06-.94-.94-2.06-.94 2.06-2.06.94zm-11 1L8.5 8.5l.94-2.06 2.06-.94-2.06-.94L8.5 2.5l-.94 2.06-2.06.94zm10 10l.94 2.06.94-2.06 2.06-.94-2.06-.94-.94-2.06-.94 2.06-2.06.94z\"/><path d=\"M17.41 7.96l-1.37-1.37c-.4-.4-.92-.59-1.43-.59-.52 0-1.04.2-1.43.59L10.3 9.45l-7.72 7.72c-.78.78-.78 2.05 0 2.83L4 21.41c.39.39.9.59 1.41.59.51 0 1.02-.2 1.41-.59l7.78-7.78 2.81-2.81c.8-.78.8-2.07 0-2.86zM5.41 20L4 18.59l7.72-7.72 1.47 1.35L5.41 20z\"/>\n",
              "  </svg>\n",
              "      </button>\n",
              "      \n",
              "  <style>\n",
              "    .colab-df-container {\n",
              "      display:flex;\n",
              "      flex-wrap:wrap;\n",
              "      gap: 12px;\n",
              "    }\n",
              "\n",
              "    .colab-df-convert {\n",
              "      background-color: #E8F0FE;\n",
              "      border: none;\n",
              "      border-radius: 50%;\n",
              "      cursor: pointer;\n",
              "      display: none;\n",
              "      fill: #1967D2;\n",
              "      height: 32px;\n",
              "      padding: 0 0 0 0;\n",
              "      width: 32px;\n",
              "    }\n",
              "\n",
              "    .colab-df-convert:hover {\n",
              "      background-color: #E2EBFA;\n",
              "      box-shadow: 0px 1px 2px rgba(60, 64, 67, 0.3), 0px 1px 3px 1px rgba(60, 64, 67, 0.15);\n",
              "      fill: #174EA6;\n",
              "    }\n",
              "\n",
              "    [theme=dark] .colab-df-convert {\n",
              "      background-color: #3B4455;\n",
              "      fill: #D2E3FC;\n",
              "    }\n",
              "\n",
              "    [theme=dark] .colab-df-convert:hover {\n",
              "      background-color: #434B5C;\n",
              "      box-shadow: 0px 1px 3px 1px rgba(0, 0, 0, 0.15);\n",
              "      filter: drop-shadow(0px 1px 2px rgba(0, 0, 0, 0.3));\n",
              "      fill: #FFFFFF;\n",
              "    }\n",
              "  </style>\n",
              "\n",
              "      <script>\n",
              "        const buttonEl =\n",
              "          document.querySelector('#df-c2d5b4e7-075d-4021-8d15-ce166dffef59 button.colab-df-convert');\n",
              "        buttonEl.style.display =\n",
              "          google.colab.kernel.accessAllowed ? 'block' : 'none';\n",
              "\n",
              "        async function convertToInteractive(key) {\n",
              "          const element = document.querySelector('#df-c2d5b4e7-075d-4021-8d15-ce166dffef59');\n",
              "          const dataTable =\n",
              "            await google.colab.kernel.invokeFunction('convertToInteractive',\n",
              "                                                     [key], {});\n",
              "          if (!dataTable) return;\n",
              "\n",
              "          const docLinkHtml = 'Like what you see? Visit the ' +\n",
              "            '<a target=\"_blank\" href=https://colab.research.google.com/notebooks/data_table.ipynb>data table notebook</a>'\n",
              "            + ' to learn more about interactive tables.';\n",
              "          element.innerHTML = '';\n",
              "          dataTable['output_type'] = 'display_data';\n",
              "          await google.colab.output.renderOutput(dataTable, element);\n",
              "          const docLink = document.createElement('div');\n",
              "          docLink.innerHTML = docLinkHtml;\n",
              "          element.appendChild(docLink);\n",
              "        }\n",
              "      </script>\n",
              "    </div>\n",
              "  </div>\n",
              "  "
            ]
          },
          "metadata": {},
          "execution_count": 13
        }
      ],
      "source": [
        "train_labels_df.head()"
      ]
    },
    {
      "cell_type": "code",
      "execution_count": 14,
      "metadata": {
        "id": "1E2xyRdZV0jJ",
        "outputId": "fb620a74-e57a-4dcd-ac71-1ff69b3731d8",
        "colab": {
          "base_uri": "https://localhost:8080/",
          "height": 143
        }
      },
      "outputs": [
        {
          "output_type": "execute_result",
          "data": {
            "text/plain": [
              "       Conclusion Stance Premise\n",
              "count        5392   5392    5392\n",
              "unique        332      2    5312\n",
              "freq          114   2898       2"
            ],
            "text/html": [
              "\n",
              "  <div id=\"df-f4357dba-f131-4a63-82ef-086b6486919a\">\n",
              "    <div class=\"colab-df-container\">\n",
              "      <div>\n",
              "<style scoped>\n",
              "    .dataframe tbody tr th:only-of-type {\n",
              "        vertical-align: middle;\n",
              "    }\n",
              "\n",
              "    .dataframe tbody tr th {\n",
              "        vertical-align: top;\n",
              "    }\n",
              "\n",
              "    .dataframe thead th {\n",
              "        text-align: right;\n",
              "    }\n",
              "</style>\n",
              "<table border=\"1\" class=\"dataframe\">\n",
              "  <thead>\n",
              "    <tr style=\"text-align: right;\">\n",
              "      <th></th>\n",
              "      <th>Conclusion</th>\n",
              "      <th>Stance</th>\n",
              "      <th>Premise</th>\n",
              "    </tr>\n",
              "  </thead>\n",
              "  <tbody>\n",
              "    <tr>\n",
              "      <th>count</th>\n",
              "      <td>5392</td>\n",
              "      <td>5392</td>\n",
              "      <td>5392</td>\n",
              "    </tr>\n",
              "    <tr>\n",
              "      <th>unique</th>\n",
              "      <td>332</td>\n",
              "      <td>2</td>\n",
              "      <td>5312</td>\n",
              "    </tr>\n",
              "    <tr>\n",
              "      <th>freq</th>\n",
              "      <td>114</td>\n",
              "      <td>2898</td>\n",
              "      <td>2</td>\n",
              "    </tr>\n",
              "  </tbody>\n",
              "</table>\n",
              "</div>\n",
              "      <button class=\"colab-df-convert\" onclick=\"convertToInteractive('df-f4357dba-f131-4a63-82ef-086b6486919a')\"\n",
              "              title=\"Convert this dataframe to an interactive table.\"\n",
              "              style=\"display:none;\">\n",
              "        \n",
              "  <svg xmlns=\"http://www.w3.org/2000/svg\" height=\"24px\"viewBox=\"0 0 24 24\"\n",
              "       width=\"24px\">\n",
              "    <path d=\"M0 0h24v24H0V0z\" fill=\"none\"/>\n",
              "    <path d=\"M18.56 5.44l.94 2.06.94-2.06 2.06-.94-2.06-.94-.94-2.06-.94 2.06-2.06.94zm-11 1L8.5 8.5l.94-2.06 2.06-.94-2.06-.94L8.5 2.5l-.94 2.06-2.06.94zm10 10l.94 2.06.94-2.06 2.06-.94-2.06-.94-.94-2.06-.94 2.06-2.06.94z\"/><path d=\"M17.41 7.96l-1.37-1.37c-.4-.4-.92-.59-1.43-.59-.52 0-1.04.2-1.43.59L10.3 9.45l-7.72 7.72c-.78.78-.78 2.05 0 2.83L4 21.41c.39.39.9.59 1.41.59.51 0 1.02-.2 1.41-.59l7.78-7.78 2.81-2.81c.8-.78.8-2.07 0-2.86zM5.41 20L4 18.59l7.72-7.72 1.47 1.35L5.41 20z\"/>\n",
              "  </svg>\n",
              "      </button>\n",
              "      \n",
              "  <style>\n",
              "    .colab-df-container {\n",
              "      display:flex;\n",
              "      flex-wrap:wrap;\n",
              "      gap: 12px;\n",
              "    }\n",
              "\n",
              "    .colab-df-convert {\n",
              "      background-color: #E8F0FE;\n",
              "      border: none;\n",
              "      border-radius: 50%;\n",
              "      cursor: pointer;\n",
              "      display: none;\n",
              "      fill: #1967D2;\n",
              "      height: 32px;\n",
              "      padding: 0 0 0 0;\n",
              "      width: 32px;\n",
              "    }\n",
              "\n",
              "    .colab-df-convert:hover {\n",
              "      background-color: #E2EBFA;\n",
              "      box-shadow: 0px 1px 2px rgba(60, 64, 67, 0.3), 0px 1px 3px 1px rgba(60, 64, 67, 0.15);\n",
              "      fill: #174EA6;\n",
              "    }\n",
              "\n",
              "    [theme=dark] .colab-df-convert {\n",
              "      background-color: #3B4455;\n",
              "      fill: #D2E3FC;\n",
              "    }\n",
              "\n",
              "    [theme=dark] .colab-df-convert:hover {\n",
              "      background-color: #434B5C;\n",
              "      box-shadow: 0px 1px 3px 1px rgba(0, 0, 0, 0.15);\n",
              "      filter: drop-shadow(0px 1px 2px rgba(0, 0, 0, 0.3));\n",
              "      fill: #FFFFFF;\n",
              "    }\n",
              "  </style>\n",
              "\n",
              "      <script>\n",
              "        const buttonEl =\n",
              "          document.querySelector('#df-f4357dba-f131-4a63-82ef-086b6486919a button.colab-df-convert');\n",
              "        buttonEl.style.display =\n",
              "          google.colab.kernel.accessAllowed ? 'block' : 'none';\n",
              "\n",
              "        async function convertToInteractive(key) {\n",
              "          const element = document.querySelector('#df-f4357dba-f131-4a63-82ef-086b6486919a');\n",
              "          const dataTable =\n",
              "            await google.colab.kernel.invokeFunction('convertToInteractive',\n",
              "                                                     [key], {});\n",
              "          if (!dataTable) return;\n",
              "\n",
              "          const docLinkHtml = 'Like what you see? Visit the ' +\n",
              "            '<a target=\"_blank\" href=https://colab.research.google.com/notebooks/data_table.ipynb>data table notebook</a>'\n",
              "            + ' to learn more about interactive tables.';\n",
              "          element.innerHTML = '';\n",
              "          dataTable['output_type'] = 'display_data';\n",
              "          await google.colab.output.renderOutput(dataTable, element);\n",
              "          const docLink = document.createElement('div');\n",
              "          docLink.innerHTML = docLinkHtml;\n",
              "          element.appendChild(docLink);\n",
              "        }\n",
              "      </script>\n",
              "    </div>\n",
              "  </div>\n",
              "  "
            ]
          },
          "metadata": {},
          "execution_count": 14
        }
      ],
      "source": [
        "train_df.describe().drop(index=['top'], axis=1)"
      ]
    },
    {
      "cell_type": "markdown",
      "metadata": {
        "id": "V5zG952JV0jJ"
      },
      "source": [
        "A barplot to describe the representation in the dataset of each argument's category"
      ]
    },
    {
      "cell_type": "code",
      "execution_count": 15,
      "metadata": {
        "id": "ibkcEWedV0jJ",
        "outputId": "89bc7cd8-53af-47f3-be8a-08ca2fea4290",
        "colab": {
          "base_uri": "https://localhost:8080/",
          "height": 621
        }
      },
      "outputs": [
        {
          "output_type": "execute_result",
          "data": {
            "text/plain": [
              "<BarContainer object of 20 artists>"
            ]
          },
          "metadata": {},
          "execution_count": 15
        },
        {
          "output_type": "display_data",
          "data": {
            "text/plain": [
              "<Figure size 1900x600 with 1 Axes>"
            ],
            "image/png": "[encoded data removed]"
          },
          "metadata": {}
        }
      ],
      "source": [
        "values = train_labels_df.sum().sort_values(ascending=False)\n",
        "y = np.array(values)\n",
        "x = np.array(values.index)\n",
        "\n",
        "plt.figure(figsize=(19,6))\n",
        "plt.xticks(rotation=45, ha=\"right\")\n",
        "plt.bar(x, height=y)"
      ]
    },
    {
      "cell_type": "code",
      "source": [
        "labels_names = train_labels_df.columns.tolist()\n",
        "labels_names"
      ],
      "metadata": {
        "id": "fNyvQbLj_XwU",
        "colab": {
          "base_uri": "https://localhost:8080/"
        },
        "outputId": "9a42e665-500b-45f1-eeaf-f28824c51e86"
      },
      "execution_count": 16,
      "outputs": [
        {
          "output_type": "execute_result",
          "data": {
            "text/plain": [
              "['Self-direction: thought',\n",
              " 'Self-direction: action',\n",
              " 'Stimulation',\n",
              " 'Hedonism',\n",
              " 'Achievement',\n",
              " 'Power: dominance',\n",
              " 'Power: resources',\n",
              " 'Face',\n",
              " 'Security: personal',\n",
              " 'Security: societal',\n",
              " 'Tradition',\n",
              " 'Conformity: rules',\n",
              " 'Conformity: interpersonal',\n",
              " 'Humility',\n",
              " 'Benevolence: caring',\n",
              " 'Benevolence: dependability',\n",
              " 'Universalism: concern',\n",
              " 'Universalism: nature',\n",
              " 'Universalism: tolerance',\n",
              " 'Universalism: objectivity']"
            ]
          },
          "metadata": {},
          "execution_count": 16
        }
      ]
    },
    {
      "cell_type": "code",
      "source": [
        "train_labels_df.values"
      ],
      "metadata": {
        "id": "a1pg4qchLW1d",
        "outputId": "c9897463-d4d0-47f8-a18b-4227682ee056",
        "colab": {
          "base_uri": "https://localhost:8080/"
        }
      },
      "execution_count": 17,
      "outputs": [
        {
          "output_type": "execute_result",
          "data": {
            "text/plain": [
              "array([[0, 0, 0, ..., 0, 0, 0],\n",
              "       [0, 0, 0, ..., 0, 0, 0],\n",
              "       [0, 0, 0, ..., 0, 0, 0],\n",
              "       ...,\n",
              "       [0, 0, 0, ..., 1, 0, 0],\n",
              "       [0, 0, 0, ..., 0, 0, 1],\n",
              "       [0, 1, 0, ..., 0, 0, 0]])"
            ]
          },
          "metadata": {},
          "execution_count": 17
        }
      ]
    },
    {
      "cell_type": "markdown",
      "source": [
        "## Baseline model"
      ],
      "metadata": {
        "id": "wbJQ-F2tQrfx"
      }
    },
    {
      "cell_type": "code",
      "source": [
        "from sklearn.metrics import f1_score\n",
        "dummy_predictions = np.ones(val_labels_df.shape)\n",
        "micro = f1_score(val_labels_df.values, dummy_predictions, average='micro')\n",
        "macro = f1_score(val_labels_df.values, dummy_predictions, average='macro')\n",
        "print(\"Baseline F1 score: micro=\", micro, \" macro=\", macro)"
      ],
      "metadata": {
        "id": "1I2i1TYgQrMb",
        "outputId": "5dcc81be-2865-41a4-9d15-89e9bcc1ac98",
        "colab": {
          "base_uri": "https://localhost:8080/"
        }
      },
      "execution_count": 18,
      "outputs": [
        {
          "output_type": "stream",
          "name": "stdout",
          "text": [
            "Baseline F1 score: micro= 0.28722419205492444  macro= 0.27177163823134165\n"
          ]
        }
      ]
    },
    {
      "cell_type": "markdown",
      "metadata": {
        "id": "Wr9lF2r5LJfQ"
      },
      "source": [
        "## Pytorch Dataset"
      ]
    },
    {
      "cell_type": "code",
      "execution_count": 19,
      "metadata": {
        "execution": {
          "iopub.execute_input": "2023-01-19T17:59:25.418280Z",
          "iopub.status.busy": "2023-01-19T17:59:25.417849Z",
          "iopub.status.idle": "2023-01-19T17:59:25.431110Z",
          "shell.execute_reply": "2023-01-19T17:59:25.430153Z",
          "shell.execute_reply.started": "2023-01-19T17:59:25.418244Z"
        },
        "id": "YmIVbhWPkD31",
        "trusted": true
      },
      "outputs": [],
      "source": [
        "class CreateDataset(Dataset):\n",
        "    def __init__(self, encodings):\n",
        "        self.encodings = encodings\n",
        "\n",
        "    def __getitem__(self, idx):\n",
        "        return {key: torch.tensor(val[idx]) for key, val in self.encodings.items()}\n",
        "\n",
        "    def __len__(self):\n",
        "        return len(self.encodings.input_ids)"
      ]
    },
    {
      "cell_type": "markdown",
      "source": [
        "#Model"
      ],
      "metadata": {
        "id": "5s4vTh2eFDhp"
      }
    },
    {
      "cell_type": "code",
      "source": [
        "#premise = train_df['Premise']\n",
        "#stance = train_df['Stance']\n",
        "#conclusion = train_df['Conclusion'] \n",
        "num_labels = train_labels_df.shape[1]"
      ],
      "metadata": {
        "id": "QZMiATWyJK88"
      },
      "execution_count": 20,
      "outputs": []
    },
    {
      "cell_type": "code",
      "source": [
        "#model_checkpoint= 'prajjwal1/bert-tiny'\n",
        "#model_checkpoint = \"distilbert-base-uncased\"\n",
        "model_checkpoint = 'bert-base-uncased'\n",
        "tokenizer = AutoTokenizer.from_pretrained(model_checkpoint)\n",
        "device = torch.device('cuda') if torch.cuda.is_available() else torch.device('cpu') \n",
        "\n",
        "eos_token  = tokenizer.cls_token_id\n",
        "sep_token  = tokenizer.sep_token_id\n",
        "\n",
        "    "
      ],
      "metadata": {
        "id": "PFalynGpbzpJ"
      },
      "execution_count": 21,
      "outputs": []
    },
    {
      "cell_type": "code",
      "source": [
        "#premise , stance, conclusion  --> premise, stance + conclusion\n",
        "#append the stance to the conclusion by putting a separator between them\n",
        "sequence_sc = train_df[\"Stance\"].str.cat(train_df[\"Conclusion\"], sep = '[SEP]') # If needed a separator can be passed, for example with sep='[SEP] '\n",
        "len(sequence_sc)"
      ],
      "metadata": {
        "id": "TqMqMBsjM3Ht",
        "outputId": "49120df6-3aad-483b-af51-a4a4c4d4ce7f",
        "colab": {
          "base_uri": "https://localhost:8080/"
        }
      },
      "execution_count": 22,
      "outputs": [
        {
          "output_type": "execute_result",
          "data": {
            "text/plain": [
              "5392"
            ]
          },
          "metadata": {},
          "execution_count": 22
        }
      ]
    },
    {
      "cell_type": "code",
      "source": [
        "encodings = tokenizer(list(train_df['Premise']), list(sequence_sc), \n",
        "                          padding=True,\n",
        "                          truncation=True,\n",
        "                          max_length = 250\n",
        "                          )\n",
        "input_ids, input_attention_mask = encodings['input_ids'], encodings['attention_mask']\n",
        "#label_values = tokenizer(answers,padding=True,truncation=True,max_length = 60)\n",
        "#labels, labels_mask = label_values['input_ids'], label_values['attention_mask']\n",
        "\n",
        "\n",
        "#max_length = len(labels[0])\n",
        "\n",
        "#masked_labels = [[-100 if token == tokenizer.pad_token_id else token for token in labels] for labels in labels]\n",
        "print(f'length of input_ids: {np.shape(input_ids)}')\n",
        "\n",
        "#add targets to the encodings dictionary\n",
        "encodings.update({'labels' : torch.FloatTensor(train_labels_df.values)})"
      ],
      "metadata": {
        "id": "JOFSynuWHeps",
        "outputId": "70f57842-7671-4e86-93aa-63ff4da8d260",
        "colab": {
          "base_uri": "https://localhost:8080/"
        }
      },
      "execution_count": 23,
      "outputs": [
        {
          "output_type": "stream",
          "name": "stdout",
          "text": [
            "length of input_ids: (5392, 173)\n"
          ]
        }
      ]
    },
    {
      "cell_type": "code",
      "source": [
        "len(encodings.items())"
      ],
      "metadata": {
        "id": "pQwa2kJ0KQiV",
        "outputId": "81de6c2e-6df9-4111-9793-cf8ffb31e211",
        "colab": {
          "base_uri": "https://localhost:8080/"
        }
      },
      "execution_count": 24,
      "outputs": [
        {
          "output_type": "execute_result",
          "data": {
            "text/plain": [
              "4"
            ]
          },
          "metadata": {},
          "execution_count": 24
        }
      ]
    },
    {
      "cell_type": "code",
      "source": [
        "encodings['labels'][:3]"
      ],
      "metadata": {
        "id": "SaX0HJCaOOO-",
        "outputId": "bd1e77c9-5f45-4433-9684-dc8d541d6a64",
        "colab": {
          "base_uri": "https://localhost:8080/"
        }
      },
      "execution_count": 25,
      "outputs": [
        {
          "output_type": "execute_result",
          "data": {
            "text/plain": [
              "tensor([[0., 0., 0., 0., 0., 0., 0., 0., 0., 1., 0., 0., 0., 0., 0., 0., 0., 0.,\n",
              "         0., 0.],\n",
              "        [0., 0., 0., 0., 0., 0., 0., 0., 1., 0., 0., 0., 0., 0., 0., 0., 0., 0.,\n",
              "         0., 0.],\n",
              "        [0., 0., 0., 0., 0., 1., 0., 0., 0., 1., 0., 0., 0., 0., 0., 0., 0., 0.,\n",
              "         0., 0.]])"
            ]
          },
          "metadata": {},
          "execution_count": 25
        }
      ]
    },
    {
      "cell_type": "code",
      "source": [
        "np.array(tokenizer.batch_decode(input_ids[0])).squeeze()"
      ],
      "metadata": {
        "id": "W2wkwVlgPrQX",
        "outputId": "6e5a96c1-a5a8-4a07-b631-94079366ef75",
        "colab": {
          "base_uri": "https://localhost:8080/"
        }
      },
      "execution_count": 26,
      "outputs": [
        {
          "output_type": "execute_result",
          "data": {
            "text/plain": [
              "array(['[CLS]', 'we', 'should', 'ban', 'human', 'cl', '##oning', 'as',\n",
              "       'it', 'will', 'only', 'cause', 'huge', 'issues', 'when', 'you',\n",
              "       'have', 'a', 'bunch', 'of', 'the', 'same', 'humans', 'running',\n",
              "       'around', 'all', 'acting', 'the', 'same', '.', '[SEP]', 'in',\n",
              "       'favor', 'of', '[SEP]', 'we', 'should', 'ban', 'human', 'cl',\n",
              "       '##oning', '[SEP]', '[PAD]', '[PAD]', '[PAD]', '[PAD]', '[PAD]',\n",
              "       '[PAD]', '[PAD]', '[PAD]', '[PAD]', '[PAD]', '[PAD]', '[PAD]',\n",
              "       '[PAD]', '[PAD]', '[PAD]', '[PAD]', '[PAD]', '[PAD]', '[PAD]',\n",
              "       '[PAD]', '[PAD]', '[PAD]', '[PAD]', '[PAD]', '[PAD]', '[PAD]',\n",
              "       '[PAD]', '[PAD]', '[PAD]', '[PAD]', '[PAD]', '[PAD]', '[PAD]',\n",
              "       '[PAD]', '[PAD]', '[PAD]', '[PAD]', '[PAD]', '[PAD]', '[PAD]',\n",
              "       '[PAD]', '[PAD]', '[PAD]', '[PAD]', '[PAD]', '[PAD]', '[PAD]',\n",
              "       '[PAD]', '[PAD]', '[PAD]', '[PAD]', '[PAD]', '[PAD]', '[PAD]',\n",
              "       '[PAD]', '[PAD]', '[PAD]', '[PAD]', '[PAD]', '[PAD]', '[PAD]',\n",
              "       '[PAD]', '[PAD]', '[PAD]', '[PAD]', '[PAD]', '[PAD]', '[PAD]',\n",
              "       '[PAD]', '[PAD]', '[PAD]', '[PAD]', '[PAD]', '[PAD]', '[PAD]',\n",
              "       '[PAD]', '[PAD]', '[PAD]', '[PAD]', '[PAD]', '[PAD]', '[PAD]',\n",
              "       '[PAD]', '[PAD]', '[PAD]', '[PAD]', '[PAD]', '[PAD]', '[PAD]',\n",
              "       '[PAD]', '[PAD]', '[PAD]', '[PAD]', '[PAD]', '[PAD]', '[PAD]',\n",
              "       '[PAD]', '[PAD]', '[PAD]', '[PAD]', '[PAD]', '[PAD]', '[PAD]',\n",
              "       '[PAD]', '[PAD]', '[PAD]', '[PAD]', '[PAD]', '[PAD]', '[PAD]',\n",
              "       '[PAD]', '[PAD]', '[PAD]', '[PAD]', '[PAD]', '[PAD]', '[PAD]',\n",
              "       '[PAD]', '[PAD]', '[PAD]', '[PAD]', '[PAD]', '[PAD]', '[PAD]',\n",
              "       '[PAD]', '[PAD]', '[PAD]', '[PAD]', '[PAD]', '[PAD]', '[PAD]'],\n",
              "      dtype='<U7')"
            ]
          },
          "metadata": {},
          "execution_count": 26
        }
      ]
    },
    {
      "cell_type": "code",
      "source": [
        "lr = 5e-5\n",
        "batch_size = 4\n",
        "epochs = 10"
      ],
      "metadata": {
        "id": "mbmP9h2lCEC_"
      },
      "execution_count": 27,
      "outputs": []
    },
    {
      "cell_type": "code",
      "source": [
        "train_dataset = CreateDataset(encodings)\n",
        "#create training dataloader\n",
        "data_loader_train = torch.utils.data.DataLoader(train_dataset,\n",
        "                                        batch_size=batch_size,\n",
        "                                        shuffle = True\n",
        "                                        )"
      ],
      "metadata": {
        "id": "xHifTzw0QRlS"
      },
      "execution_count": 28,
      "outputs": []
    },
    {
      "cell_type": "code",
      "source": [
        "from torch.nn.modules import dropout\n",
        "from transformers import DistilBertModel, BertModel\n",
        "import torch.nn as nn\n",
        "class CustomBERTModel(nn.Module):\n",
        "    def __init__(self,checkpoint,num_labels):\n",
        "          super(CustomBERTModel, self).__init__()\n",
        "          self.num_labels = num_labels\n",
        "          #self.model = model = DistilBertModel.from_pretrained(checkpoint)\n",
        "          self.model = model = BertModel.from_pretrained(checkpoint)\n",
        "          ### New layers:\n",
        "          #self.l1 = dropout(0.1)\n",
        "          self.l2 = nn.Linear(self.model.config.hidden_size, 256)\n",
        "          self.classifier = nn.Linear(256, num_labels) ## num_labels are the number of classes \n",
        "\n",
        "    def forward(self, input_ids, attention_mask):\n",
        "          output = self.model(\n",
        "               input_ids, \n",
        "               attention_mask=attention_mask)\n",
        "          sequence_output = output[0]\n",
        "          #the pooler output contains the information \n",
        "          pooler_output = output.pooler_output\n",
        "          # sequence_output has the following shape: (batch_size, sequence_length, 768)\n",
        "          #x = self.linear1(sequence_output[:,0,:].view(-1,768)) ## extract the 1st token's embeddings CLS\n",
        "         # x = self.l1(pooler_output)\n",
        "          x = self.l2(pooler_output)\n",
        "          x = self.classifier(x)\n",
        "          output = torch.sigmoid(x)\n",
        "          return output"
      ],
      "metadata": {
        "id": "G3TfYpMd-vP8"
      },
      "execution_count": 29,
      "outputs": []
    },
    {
      "cell_type": "code",
      "source": [
        "model = CustomBERTModel(model_checkpoint, num_labels) \n",
        "model.to(device)\n",
        "#binary cross entropy\n",
        "criterion = nn.BCELoss()\n",
        "#Optimizer\n",
        "optimizer = torch.optim.AdamW(model.parameters(), lr=lr)\n"
      ],
      "metadata": {
        "id": "RMB1gbtJ3zTb",
        "outputId": "f71a4eca-ccfd-4a60-914b-80419c71b6c8",
        "colab": {
          "base_uri": "https://localhost:8080/"
        }
      },
      "execution_count": 30,
      "outputs": [
        {
          "output_type": "stream",
          "name": "stderr",
          "text": [
            "Some weights of the model checkpoint at bert-base-uncased were not used when initializing BertModel: ['cls.seq_relationship.weight', 'cls.predictions.decoder.weight', 'cls.predictions.transform.LayerNorm.bias', 'cls.seq_relationship.bias', 'cls.predictions.bias', 'cls.predictions.transform.dense.weight', 'cls.predictions.transform.dense.bias', 'cls.predictions.transform.LayerNorm.weight']\n",
            "- This IS expected if you are initializing BertModel from the checkpoint of a model trained on another task or with another architecture (e.g. initializing a BertForSequenceClassification model from a BertForPreTraining model).\n",
            "- This IS NOT expected if you are initializing BertModel from the checkpoint of a model that you expect to be exactly identical (initializing a BertForSequenceClassification model from a BertForSequenceClassification model).\n"
          ]
        }
      ]
    },
    {
      "cell_type": "code",
      "source": [
        "model.train()\n",
        "avg_losses = []\n",
        "for epoch in range(epochs):\n",
        "    loss_score = []\n",
        "    loop = tqdm(data_loader_train)\n",
        "    for batch in loop:\n",
        "        optimizer.zero_grad()\n",
        "\n",
        "        input_ids = batch['input_ids'].to(device)\n",
        "        attention_mask = batch['attention_mask'].to(device)\n",
        "        targets = batch['labels'].to(device)\n",
        "        logits = model(input_ids,\n",
        "                              attention_mask=attention_mask)                \n",
        "        \n",
        "        #loss = outputs[0]\n",
        "        loss = criterion(logits, targets)\n",
        "        loss_score.append(loss.item())\n",
        "        loss.backward()\n",
        "        optimizer.step()\n",
        "\n",
        "        loop.set_description(f'Epoch {epoch}')\n",
        "        loop.set_postfix(loss=loss.item())\n",
        "    avg_loss = np.mean(loss_score)\n",
        "    avg_losses.append(avg_loss)\n",
        "    print(f\"\\naverage_loss per epoch {epoch+1}: {avg_loss}\")"
      ],
      "metadata": {
        "id": "DWsikzh7Ryz3",
        "outputId": "7d781fb8-7127-45e6-882e-67621a10434c",
        "colab": {
          "base_uri": "https://localhost:8080/"
        }
      },
      "execution_count": 31,
      "outputs": [
        {
          "output_type": "stream",
          "name": "stderr",
          "text": [
            "\r  0%|          | 0/1348 [00:00<?, ?it/s]<ipython-input-19-4004cf27e00a>:6: UserWarning: To copy construct from a tensor, it is recommended to use sourceTensor.clone().detach() or sourceTensor.clone().detach().requires_grad_(True), rather than torch.tensor(sourceTensor).\n",
            "  return {key: torch.tensor(val[idx]) for key, val in self.encodings.items()}\n",
            "Epoch 0: 100%|██████████| 1348/1348 [03:42<00:00,  6.07it/s, loss=0.247]\n"
          ]
        },
        {
          "output_type": "stream",
          "name": "stdout",
          "text": [
            "\n",
            "average_loss per epoch 1: 0.3774249490671059\n"
          ]
        },
        {
          "output_type": "stream",
          "name": "stderr",
          "text": [
            "Epoch 1: 100%|██████████| 1348/1348 [03:36<00:00,  6.23it/s, loss=0.448]\n"
          ]
        },
        {
          "output_type": "stream",
          "name": "stdout",
          "text": [
            "\n",
            "average_loss per epoch 2: 0.3231924443066297\n"
          ]
        },
        {
          "output_type": "stream",
          "name": "stderr",
          "text": [
            "Epoch 2: 100%|██████████| 1348/1348 [03:35<00:00,  6.27it/s, loss=0.344]\n"
          ]
        },
        {
          "output_type": "stream",
          "name": "stdout",
          "text": [
            "\n",
            "average_loss per epoch 3: 0.2805718992137591\n"
          ]
        },
        {
          "output_type": "stream",
          "name": "stderr",
          "text": [
            "Epoch 3: 100%|██████████| 1348/1348 [03:34<00:00,  6.28it/s, loss=0.288]\n"
          ]
        },
        {
          "output_type": "stream",
          "name": "stdout",
          "text": [
            "\n",
            "average_loss per epoch 4: 0.23899954052238506\n"
          ]
        },
        {
          "output_type": "stream",
          "name": "stderr",
          "text": [
            "Epoch 4: 100%|██████████| 1348/1348 [03:34<00:00,  6.28it/s, loss=0.237]\n"
          ]
        },
        {
          "output_type": "stream",
          "name": "stdout",
          "text": [
            "\n",
            "average_loss per epoch 5: 0.19908415538311358\n"
          ]
        },
        {
          "output_type": "stream",
          "name": "stderr",
          "text": [
            "Epoch 5: 100%|██████████| 1348/1348 [03:34<00:00,  6.28it/s, loss=0.254]\n"
          ]
        },
        {
          "output_type": "stream",
          "name": "stdout",
          "text": [
            "\n",
            "average_loss per epoch 6: 0.16163863390628858\n"
          ]
        },
        {
          "output_type": "stream",
          "name": "stderr",
          "text": [
            "Epoch 6: 100%|██████████| 1348/1348 [03:34<00:00,  6.29it/s, loss=0.0867]\n"
          ]
        },
        {
          "output_type": "stream",
          "name": "stdout",
          "text": [
            "\n",
            "average_loss per epoch 7: 0.12734074647972243\n"
          ]
        },
        {
          "output_type": "stream",
          "name": "stderr",
          "text": [
            "Epoch 7: 100%|██████████| 1348/1348 [03:34<00:00,  6.28it/s, loss=0.116]\n"
          ]
        },
        {
          "output_type": "stream",
          "name": "stdout",
          "text": [
            "\n",
            "average_loss per epoch 8: 0.1022849137057448\n"
          ]
        },
        {
          "output_type": "stream",
          "name": "stderr",
          "text": [
            "Epoch 8: 100%|██████████| 1348/1348 [03:34<00:00,  6.29it/s, loss=0.068]\n"
          ]
        },
        {
          "output_type": "stream",
          "name": "stdout",
          "text": [
            "\n",
            "average_loss per epoch 9: 0.08196833569802432\n"
          ]
        },
        {
          "output_type": "stream",
          "name": "stderr",
          "text": [
            "Epoch 9: 100%|██████████| 1348/1348 [03:34<00:00,  6.29it/s, loss=0.0931]"
          ]
        },
        {
          "output_type": "stream",
          "name": "stdout",
          "text": [
            "\n",
            "average_loss per epoch 10: 0.06676477134484765\n"
          ]
        },
        {
          "output_type": "stream",
          "name": "stderr",
          "text": [
            "\n"
          ]
        }
      ]
    },
    {
      "cell_type": "code",
      "source": [
        "plt.figure(figsize=(10,5))\n",
        "plt.title(\"Loss\")\n",
        "plt.plot(avg_losses,label=\"loss\")\n",
        "plt.xlabel(\"iterations\")\n",
        "plt.ylabel(\"Loss\")\n",
        "plt.show()"
      ],
      "metadata": {
        "colab": {
          "base_uri": "https://localhost:8080/",
          "height": 487
        },
        "id": "-_o2L5ofyyFz",
        "outputId": "6c2170f7-d3be-4b1b-df0e-96e67dcccd3c"
      },
      "execution_count": 32,
      "outputs": [
        {
          "output_type": "display_data",
          "data": {
            "text/plain": [
              "<Figure size 1000x500 with 1 Axes>"
            ],
            "image/png": "[encoded data removed]"
          },
          "metadata": {}
        }
      ]
    },
    {
      "cell_type": "code",
      "source": [
        "def encode(tokenizer, df, labels):\n",
        "  sequence_sc = df[\"Stance\"].str.cat(df[\"Conclusion\"], sep = '[SEP]') # If needed a separator can be passed, for example with sep='[SEP] '\n",
        "  encodings = tokenizer(list(df['Premise']), list(sequence_sc), \n",
        "                          padding=True,\n",
        "                          truncation=True,\n",
        "                          max_length = 300\n",
        "                          )\n",
        "  input_ids, input_attention_mask = encodings['input_ids'], encodings['attention_mask']\n",
        "  encodings.update({'labels' : torch.FloatTensor(labels.values)})\n",
        "  encodings.pop('token_type_ids')\n",
        "  return encodings\n",
        "\n",
        "test_encodings = encode(tokenizer,val_df, val_labels_df)\n"
      ],
      "metadata": {
        "id": "xsa-BTBePqGL"
      },
      "execution_count": 33,
      "outputs": []
    },
    {
      "cell_type": "code",
      "source": [
        "val_dataset = CreateDataset(test_encodings)\n",
        "#create training dataloader\n",
        "batch_size = 4\n",
        "data_loader_val = torch.utils.data.DataLoader(val_dataset,\n",
        "                                        batch_size=batch_size,\n",
        "                                        shuffle = False\n",
        "                                        )"
      ],
      "metadata": {
        "id": "FetDMqw-TAqP"
      },
      "execution_count": 34,
      "outputs": []
    },
    {
      "cell_type": "code",
      "source": [
        "torch.cuda.empty_cache()\n",
        "torch.cuda.reset_accumulated_memory_stats()\n",
        "gc.collect()"
      ],
      "metadata": {
        "id": "Hhq164JvI5Qp",
        "colab": {
          "base_uri": "https://localhost:8080/"
        },
        "outputId": "fcff28c3-cd27-4fbd-e915-769f4c283849"
      },
      "execution_count": 35,
      "outputs": [
        {
          "output_type": "execute_result",
          "data": {
            "text/plain": [
              "10"
            ]
          },
          "metadata": {},
          "execution_count": 35
        }
      ]
    },
    {
      "cell_type": "code",
      "source": [
        "!nvidia-smi"
      ],
      "metadata": {
        "colab": {
          "base_uri": "https://localhost:8080/"
        },
        "id": "W60PC1DqW6TV",
        "outputId": "5722a007-e93e-4bcd-f5d1-e6bb152dbd6c"
      },
      "execution_count": 36,
      "outputs": [
        {
          "output_type": "stream",
          "name": "stdout",
          "text": [
            "Sat Apr  1 20:37:27 2023       \n",
            "+-----------------------------------------------------------------------------+\n",
            "| NVIDIA-SMI 525.85.12    Driver Version: 525.85.12    CUDA Version: 12.0     |\n",
            "|-------------------------------+----------------------+----------------------+\n",
            "| GPU  Name        Persistence-M| Bus-Id        Disp.A | Volatile Uncorr. ECC |\n",
            "| Fan  Temp  Perf  Pwr:Usage/Cap|         Memory-Usage | GPU-Util  Compute M. |\n",
            "|                               |                      |               MIG M. |\n",
            "|===============================+======================+======================|\n",
            "|   0  Tesla T4            Off  | 00000000:00:04.0 Off |                    0 |\n",
            "| N/A   75C    P0    42W /  70W |   2917MiB / 15360MiB |      0%      Default |\n",
            "|                               |                      |                  N/A |\n",
            "+-------------------------------+----------------------+----------------------+\n",
            "                                                                               \n",
            "+-----------------------------------------------------------------------------+\n",
            "| Processes:                                                                  |\n",
            "|  GPU   GI   CI        PID   Type   Process name                  GPU Memory |\n",
            "|        ID   ID                                                   Usage      |\n",
            "|=============================================================================|\n",
            "+-----------------------------------------------------------------------------+\n"
          ]
        }
      ]
    },
    {
      "cell_type": "code",
      "source": [
        "len(test_encodings)\n",
        "test_encodings.keys()"
      ],
      "metadata": {
        "colab": {
          "base_uri": "https://localhost:8080/"
        },
        "id": "ONXx1HJy1ovJ",
        "outputId": "127a9ca2-3a74-4362-a19f-3009db1c497a"
      },
      "execution_count": 37,
      "outputs": [
        {
          "output_type": "execute_result",
          "data": {
            "text/plain": [
              "dict_keys(['input_ids', 'attention_mask', 'labels'])"
            ]
          },
          "metadata": {},
          "execution_count": 37
        }
      ]
    },
    {
      "cell_type": "code",
      "source": [
        "average_loss = []\n",
        "predictions = []\n",
        "model.eval()\n",
        "model.to(device)\n",
        "first = True\n",
        "loop = tqdm(data_loader_val)\n",
        "with torch.no_grad():\n",
        "  for batch in loop:\n",
        "    target = batch['labels'].to(device)\n",
        "    prediction = model(batch['input_ids'].to(device), attention_mask = batch[\"attention_mask\"].to(device))\n",
        "    predictions.append(prediction)\n",
        "    loss = criterion(prediction,target)\n",
        "    average_loss.append(loss.item())\n",
        "  \n",
        "loss = np.mean(average_loss)\n",
        "print(f\"\\naverage loss on val set: {loss}\")"
      ],
      "metadata": {
        "id": "1ziLSKOoR_D-",
        "outputId": "8b3d30ce-dad7-4670-d9fc-17bb8bc18342",
        "colab": {
          "base_uri": "https://localhost:8080/"
        }
      },
      "execution_count": 38,
      "outputs": [
        {
          "output_type": "stream",
          "name": "stderr",
          "text": [
            "  0%|          | 0/474 [00:00<?, ?it/s]<ipython-input-19-4004cf27e00a>:6: UserWarning: To copy construct from a tensor, it is recommended to use sourceTensor.clone().detach() or sourceTensor.clone().detach().requires_grad_(True), rather than torch.tensor(sourceTensor).\n",
            "  return {key: torch.tensor(val[idx]) for key, val in self.encodings.items()}\n",
            "100%|██████████| 474/474 [00:20<00:00, 23.47it/s]"
          ]
        },
        {
          "output_type": "stream",
          "name": "stdout",
          "text": [
            "\n",
            "average loss on val set: 0.6130888321543042\n"
          ]
        },
        {
          "output_type": "stream",
          "name": "stderr",
          "text": [
            "\n"
          ]
        }
      ]
    },
    {
      "cell_type": "code",
      "source": [
        "predicitons = torch.stack(predictions).detach().cpu()\n",
        "len(predictions)\n",
        "np.shape(predicitons)"
      ],
      "metadata": {
        "colab": {
          "base_uri": "https://localhost:8080/"
        },
        "id": "Nj5N_qQRZUQ0",
        "outputId": "e1c23e03-2f76-4839-f3ef-53cbf91e115e"
      },
      "execution_count": 39,
      "outputs": [
        {
          "output_type": "execute_result",
          "data": {
            "text/plain": [
              "torch.Size([474, 4, 20])"
            ]
          },
          "metadata": {},
          "execution_count": 39
        }
      ]
    },
    {
      "cell_type": "code",
      "source": [
        "#reshape\n",
        "y_p = []\n",
        "for idx in range(len(predictions)):\n",
        "  for b in range(batch_size):\n",
        "    y_p.append(predictions[idx][b])"
      ],
      "metadata": {
        "id": "Mn8IGGyEde1A"
      },
      "execution_count": 40,
      "outputs": []
    },
    {
      "cell_type": "code",
      "source": [
        "np.shape(torch.stack(y_p).detach().cpu())"
      ],
      "metadata": {
        "colab": {
          "base_uri": "https://localhost:8080/"
        },
        "id": "DKIzeqEcp5ww",
        "outputId": "a0939032-4bad-42a2-cd3a-ae77498eee1e"
      },
      "execution_count": 41,
      "outputs": [
        {
          "output_type": "execute_result",
          "data": {
            "text/plain": [
              "torch.Size([1896, 20])"
            ]
          },
          "metadata": {},
          "execution_count": 41
        }
      ]
    },
    {
      "cell_type": "code",
      "source": [
        "threshold = 0.5\n",
        "y_pred=[]\n",
        "for sample in y_p:\n",
        "  y_pred.append([1 if i>=threshold else 0 for i in sample])\n",
        "y_pred = np.array(y_pred)\n",
        "y_pred.shape"
      ],
      "metadata": {
        "colab": {
          "base_uri": "https://localhost:8080/"
        },
        "id": "JPqjOuLzqRWu",
        "outputId": "fb68f69f-debb-46a6-c6b8-e61697320f94"
      },
      "execution_count": 42,
      "outputs": [
        {
          "output_type": "execute_result",
          "data": {
            "text/plain": [
              "(1896, 20)"
            ]
          },
          "metadata": {},
          "execution_count": 42
        }
      ]
    },
    {
      "cell_type": "code",
      "source": [
        "\"\"\"\n",
        "threshold = 0.5\n",
        "y_pred=[]\n",
        "for sample in predictions:\n",
        "  y_pred.append([1 if i>=threshold else 0 for i in sample.squeeze(dim=0)])\n",
        "y_pred = np.array(y_pred)\n",
        "y_pred.shape\n",
        "\"\"\""
      ],
      "metadata": {
        "id": "KX42h_1UBJgb",
        "colab": {
          "base_uri": "https://localhost:8080/",
          "height": 36
        },
        "outputId": "48e184c5-26d9-4e8f-b22b-acbfddbd649e"
      },
      "execution_count": 43,
      "outputs": [
        {
          "output_type": "execute_result",
          "data": {
            "text/plain": [
              "'\\nthreshold = 0.5\\ny_pred=[]\\nfor sample in predictions:\\n  y_pred.append([1 if i>=threshold else 0 for i in sample.squeeze(dim=0)])\\ny_pred = np.array(y_pred)\\ny_pred.shape\\n'"
            ],
            "application/vnd.google.colaboratory.intrinsic+json": {
              "type": "string"
            }
          },
          "metadata": {},
          "execution_count": 43
        }
      ]
    },
    {
      "cell_type": "code",
      "source": [
        "y_true = np.array(val_labels_df)\n",
        "y_true[:5]"
      ],
      "metadata": {
        "colab": {
          "base_uri": "https://localhost:8080/"
        },
        "id": "bnJl4SKnhSa0",
        "outputId": "d72a9f1a-9ca5-4e40-c378-9e43585bc583"
      },
      "execution_count": 44,
      "outputs": [
        {
          "output_type": "execute_result",
          "data": {
            "text/plain": [
              "array([[0, 0, 0, 0, 0, 0, 0, 0, 0, 1, 0, 0, 0, 0, 0, 0, 0, 0, 0, 0],\n",
              "       [0, 0, 0, 0, 0, 0, 0, 0, 0, 0, 0, 0, 0, 0, 0, 0, 1, 0, 0, 0],\n",
              "       [0, 0, 0, 0, 0, 0, 0, 0, 1, 0, 0, 0, 0, 0, 0, 0, 1, 0, 0, 0],\n",
              "       [0, 1, 0, 0, 0, 0, 0, 0, 0, 0, 0, 0, 0, 0, 0, 0, 0, 0, 0, 0],\n",
              "       [0, 0, 0, 0, 0, 0, 0, 0, 0, 0, 0, 1, 0, 0, 0, 0, 1, 0, 0, 1]])"
            ]
          },
          "metadata": {},
          "execution_count": 44
        }
      ]
    },
    {
      "cell_type": "code",
      "source": [
        "from sklearn.metrics import accuracy_score, classification_report\n",
        "accuracy_score(y_true, y_pred)"
      ],
      "metadata": {
        "colab": {
          "base_uri": "https://localhost:8080/"
        },
        "id": "COdbJz8rgYZG",
        "outputId": "82c16de1-17ae-451a-fc12-a79f542371c8"
      },
      "execution_count": 45,
      "outputs": [
        {
          "output_type": "execute_result",
          "data": {
            "text/plain": [
              "0.047995780590717296"
            ]
          },
          "metadata": {},
          "execution_count": 45
        }
      ]
    },
    {
      "cell_type": "code",
      "source": [
        "print(classification_report(y_true, y_pred,target_names = labels_names, zero_division = 0))"
      ],
      "metadata": {
        "colab": {
          "base_uri": "https://localhost:8080/"
        },
        "id": "lWJ4AkYGie-T",
        "outputId": "cf8b2c54-12d4-45ff-f046-9b6f08c66881"
      },
      "execution_count": 46,
      "outputs": [
        {
          "output_type": "stream",
          "name": "stdout",
          "text": [
            "                            precision    recall  f1-score   support\n",
            "\n",
            "   Self-direction: thought       0.50      0.38      0.43       251\n",
            "    Self-direction: action       0.48      0.51      0.50       496\n",
            "               Stimulation       0.37      0.20      0.26       138\n",
            "                  Hedonism       0.65      0.23      0.34       103\n",
            "               Achievement       0.71      0.58      0.64       575\n",
            "          Power: dominance       0.41      0.17      0.24       164\n",
            "          Power: resources       0.41      0.47      0.44       132\n",
            "                      Face       0.28      0.28      0.28       130\n",
            "        Security: personal       0.73      0.76      0.74       759\n",
            "        Security: societal       0.51      0.67      0.58       488\n",
            "                 Tradition       0.65      0.36      0.46       172\n",
            "         Conformity: rules       0.51      0.38      0.44       455\n",
            " Conformity: interpersonal       0.23      0.10      0.14        60\n",
            "                  Humility       0.06      0.01      0.01       127\n",
            "       Benevolence: caring       0.50      0.69      0.58       633\n",
            "Benevolence: dependability       0.25      0.29      0.27       268\n",
            "     Universalism: concern       0.64      0.57      0.60       687\n",
            "      Universalism: nature       0.72      0.57      0.64       127\n",
            "   Universalism: tolerance       0.42      0.09      0.14       223\n",
            " Universalism: objectivity       0.44      0.41      0.43       371\n",
            "\n",
            "                 micro avg       0.54      0.50      0.52      6359\n",
            "                 macro avg       0.47      0.39      0.41      6359\n",
            "              weighted avg       0.53      0.50      0.50      6359\n",
            "               samples avg       0.57      0.55      0.52      6359\n",
            "\n"
          ]
        }
      ]
    },
    {
      "cell_type": "code",
      "source": [
        "\"\"\"\n",
        "x = val_df[:1]\n",
        "target = val_labels_df[:1]\n",
        "threshold = 0.5\n",
        "print('Predictions:')\n",
        "for label, pred in zip(labels_names, prediction[0]):\n",
        "  if pred < threshold:\n",
        "    continue\n",
        "  print(f\"{label}: {pred}\")\n",
        "\n",
        "\n",
        "threshold = 1.\n",
        "print('True values:')\n",
        "for label, pred in zip(labels_names, target.values[0]):\n",
        "  if pred < threshold:\n",
        "    continue\n",
        "  print(f\"{label}: {pred}\")\n",
        "\"\"\""
      ],
      "metadata": {
        "id": "Cn1ubZ4HTwum",
        "outputId": "8681c2f2-c152-49db-a2ae-f26348701aec",
        "colab": {
          "base_uri": "https://localhost:8080/",
          "height": 70
        }
      },
      "execution_count": 47,
      "outputs": [
        {
          "output_type": "execute_result",
          "data": {
            "text/plain": [
              "'\\nx = val_df[:1]\\ntarget = val_labels_df[:1]\\nthreshold = 0.5\\nprint(\\'Predictions:\\')\\nfor label, pred in zip(labels_names, prediction[0]):\\n  if pred < threshold:\\n    continue\\n  print(f\"{label}: {pred}\")\\n\\n\\nthreshold = 1.\\nprint(\\'True values:\\')\\nfor label, pred in zip(labels_names, target.values[0]):\\n  if pred < threshold:\\n    continue\\n  print(f\"{label}: {pred}\")\\n'"
            ],
            "application/vnd.google.colaboratory.intrinsic+json": {
              "type": "string"
            }
          },
          "metadata": {},
          "execution_count": 47
        }
      ]
    },
    {
      "cell_type": "code",
      "source": [],
      "metadata": {
        "id": "lkJ5FFiJUTup"
      },
      "execution_count": 47,
      "outputs": []
    },
    {
      "cell_type": "code",
      "source": [],
      "metadata": {
        "id": "oRwoW4pkVVnM"
      },
      "execution_count": 47,
      "outputs": []
    }
  ],
  "metadata": {
    "kernelspec": {
      "display_name": "nlp",
      "language": "python",
      "name": "python3"
    },
    "language_info": {
      "codemirror_mode": {
        "name": "ipython",
        "version": 3
      },
      "file_extension": ".py",
      "mimetype": "text/x-python",
      "name": "python",
      "nbconvert_exporter": "python",
      "pygments_lexer": "ipython3",
      "version": "3.7.13"
    },
    "orig_nbformat": 4,
    "colab": {
      "provenance": []
    },
    "accelerator": "GPU",
    "gpuClass": "standard"
  },
  "nbformat": 4,
  "nbformat_minor": 0
}