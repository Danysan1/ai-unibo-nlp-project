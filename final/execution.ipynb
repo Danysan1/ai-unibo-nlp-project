{
  "cells": [
    {
      "cell_type": "markdown",
      "metadata": {
        "id": "Y-JyBx6myd0h"
      },
      "source": [
        "[![Open In Colab](https://colab.research.google.com/assets/colab-badge.svg)](https://colab.research.google.com/github/Danysan1/ai-unibo-nlp-project/blob/main/final/execution.ipynb)\n",
        "[![Open in Kaggle](https://kaggle.com/static/images/open-in-kaggle.svg)](https://kaggle.com/kernels/welcome?src=https://github.com/Danysan1/ai-unibo-nlp-project/blob/main/final/execution.ipynb)\n",
        "[![Open in SageMaker Studio Lab](https://studiolab.sagemaker.aws/studiolab.svg)](https://studiolab.sagemaker.aws/import/github/Danysan1/ai-unibo-nlp-project/tree/main/final/execution.ipynb)"
      ]
    },
    {
      "cell_type": "markdown",
      "metadata": {
        "id": "dlJhpqc_0Jmk"
      },
      "source": [
        "# Final project"
      ]
    },
    {
      "cell_type": "markdown",
      "metadata": {
        "id": "g6HWqCPE0Jmo"
      },
      "source": [
        "## Imports and Initial Settings"
      ]
    },
    {
      "cell_type": "code",
      "execution_count": 1,
      "metadata": {
        "colab": {
          "base_uri": "https://localhost:8080/"
        },
        "id": "jFpxvvaX0Jmp",
        "outputId": "8c8aa37d-a07b-42a5-d2a3-76770c8f2957"
      },
      "outputs": [
        {
          "output_type": "stream",
          "name": "stdout",
          "text": [
            "Requirement already satisfied: pandas in /usr/local/lib/python3.10/dist-packages (1.5.3)\n",
            "Requirement already satisfied: numpy in /usr/local/lib/python3.10/dist-packages (1.23.5)\n",
            "Requirement already satisfied: matplotlib in /usr/local/lib/python3.10/dist-packages (3.7.1)\n",
            "Requirement already satisfied: transformers in /usr/local/lib/python3.10/dist-packages (4.35.2)\n",
            "Collecting dataset\n",
            "  Downloading dataset-1.6.2-py2.py3-none-any.whl (18 kB)\n",
            "Requirement already satisfied: nltk in /usr/local/lib/python3.10/dist-packages (3.8.1)\n",
            "Collecting onnx\n",
            "  Downloading onnx-1.15.0-cp310-cp310-manylinux_2_17_x86_64.manylinux2014_x86_64.whl (15.7 MB)\n",
            "\u001b[2K     \u001b[90m━━━━━━━━━━━━━━━━━━━━━━━━━━━━━━━━━━━━━━━━\u001b[0m \u001b[32m15.7/15.7 MB\u001b[0m \u001b[31m56.7 MB/s\u001b[0m eta \u001b[36m0:00:00\u001b[0m\n",
            "\u001b[?25hRequirement already satisfied: python-dateutil>=2.8.1 in /usr/local/lib/python3.10/dist-packages (from pandas) (2.8.2)\n",
            "Requirement already satisfied: pytz>=2020.1 in /usr/local/lib/python3.10/dist-packages (from pandas) (2023.3.post1)\n",
            "Requirement already satisfied: contourpy>=1.0.1 in /usr/local/lib/python3.10/dist-packages (from matplotlib) (1.2.0)\n",
            "Requirement already satisfied: cycler>=0.10 in /usr/local/lib/python3.10/dist-packages (from matplotlib) (0.12.1)\n",
            "Requirement already satisfied: fonttools>=4.22.0 in /usr/local/lib/python3.10/dist-packages (from matplotlib) (4.47.0)\n",
            "Requirement already satisfied: kiwisolver>=1.0.1 in /usr/local/lib/python3.10/dist-packages (from matplotlib) (1.4.5)\n",
            "Requirement already satisfied: packaging>=20.0 in /usr/local/lib/python3.10/dist-packages (from matplotlib) (23.2)\n",
            "Requirement already satisfied: pillow>=6.2.0 in /usr/local/lib/python3.10/dist-packages (from matplotlib) (9.4.0)\n",
            "Requirement already satisfied: pyparsing>=2.3.1 in /usr/local/lib/python3.10/dist-packages (from matplotlib) (3.1.1)\n",
            "Requirement already satisfied: filelock in /usr/local/lib/python3.10/dist-packages (from transformers) (3.13.1)\n",
            "Requirement already satisfied: huggingface-hub<1.0,>=0.16.4 in /usr/local/lib/python3.10/dist-packages (from transformers) (0.20.1)\n",
            "Requirement already satisfied: pyyaml>=5.1 in /usr/local/lib/python3.10/dist-packages (from transformers) (6.0.1)\n",
            "Requirement already satisfied: regex!=2019.12.17 in /usr/local/lib/python3.10/dist-packages (from transformers) (2023.6.3)\n",
            "Requirement already satisfied: requests in /usr/local/lib/python3.10/dist-packages (from transformers) (2.31.0)\n",
            "Requirement already satisfied: tokenizers<0.19,>=0.14 in /usr/local/lib/python3.10/dist-packages (from transformers) (0.15.0)\n",
            "Requirement already satisfied: safetensors>=0.3.1 in /usr/local/lib/python3.10/dist-packages (from transformers) (0.4.1)\n",
            "Requirement already satisfied: tqdm>=4.27 in /usr/local/lib/python3.10/dist-packages (from transformers) (4.66.1)\n",
            "Collecting sqlalchemy<2.0.0,>=1.3.2 (from dataset)\n",
            "  Downloading SQLAlchemy-1.4.51-cp310-cp310-manylinux_2_5_x86_64.manylinux1_x86_64.manylinux_2_17_x86_64.manylinux2014_x86_64.whl (1.6 MB)\n",
            "\u001b[2K     \u001b[90m━━━━━━━━━━━━━━━━━━━━━━━━━━━━━━━━━━━━━━━━\u001b[0m \u001b[32m1.6/1.6 MB\u001b[0m \u001b[31m83.4 MB/s\u001b[0m eta \u001b[36m0:00:00\u001b[0m\n",
            "\u001b[?25hCollecting alembic>=0.6.2 (from dataset)\n",
            "  Downloading alembic-1.13.1-py3-none-any.whl (233 kB)\n",
            "\u001b[2K     \u001b[90m━━━━━━━━━━━━━━━━━━━━━━━━━━━━━━━━━━━━━━━━\u001b[0m \u001b[32m233.4/233.4 kB\u001b[0m \u001b[31m30.4 MB/s\u001b[0m eta \u001b[36m0:00:00\u001b[0m\n",
            "\u001b[?25hCollecting banal>=1.0.1 (from dataset)\n",
            "  Downloading banal-1.0.6-py2.py3-none-any.whl (6.1 kB)\n",
            "Requirement already satisfied: click in /usr/local/lib/python3.10/dist-packages (from nltk) (8.1.7)\n",
            "Requirement already satisfied: joblib in /usr/local/lib/python3.10/dist-packages (from nltk) (1.3.2)\n",
            "Requirement already satisfied: protobuf>=3.20.2 in /usr/local/lib/python3.10/dist-packages (from onnx) (3.20.3)\n",
            "Collecting Mako (from alembic>=0.6.2->dataset)\n",
            "  Downloading Mako-1.3.0-py3-none-any.whl (78 kB)\n",
            "\u001b[2K     \u001b[90m━━━━━━━━━━━━━━━━━━━━━━━━━━━━━━━━━━━━━━━━\u001b[0m \u001b[32m78.6/78.6 kB\u001b[0m \u001b[31m11.7 MB/s\u001b[0m eta \u001b[36m0:00:00\u001b[0m\n",
            "\u001b[?25hRequirement already satisfied: typing-extensions>=4 in /usr/local/lib/python3.10/dist-packages (from alembic>=0.6.2->dataset) (4.5.0)\n",
            "Requirement already satisfied: fsspec>=2023.5.0 in /usr/local/lib/python3.10/dist-packages (from huggingface-hub<1.0,>=0.16.4->transformers) (2023.6.0)\n",
            "Requirement already satisfied: six>=1.5 in /usr/local/lib/python3.10/dist-packages (from python-dateutil>=2.8.1->pandas) (1.16.0)\n",
            "Requirement already satisfied: greenlet!=0.4.17 in /usr/local/lib/python3.10/dist-packages (from sqlalchemy<2.0.0,>=1.3.2->dataset) (3.0.2)\n",
            "Requirement already satisfied: charset-normalizer<4,>=2 in /usr/local/lib/python3.10/dist-packages (from requests->transformers) (3.3.2)\n",
            "Requirement already satisfied: idna<4,>=2.5 in /usr/local/lib/python3.10/dist-packages (from requests->transformers) (3.6)\n",
            "Requirement already satisfied: urllib3<3,>=1.21.1 in /usr/local/lib/python3.10/dist-packages (from requests->transformers) (2.0.7)\n",
            "Requirement already satisfied: certifi>=2017.4.17 in /usr/local/lib/python3.10/dist-packages (from requests->transformers) (2023.11.17)\n",
            "Requirement already satisfied: MarkupSafe>=0.9.2 in /usr/local/lib/python3.10/dist-packages (from Mako->alembic>=0.6.2->dataset) (2.1.3)\n",
            "Installing collected packages: banal, sqlalchemy, onnx, Mako, alembic, dataset\n",
            "  Attempting uninstall: sqlalchemy\n",
            "    Found existing installation: SQLAlchemy 2.0.23\n",
            "    Uninstalling SQLAlchemy-2.0.23:\n",
            "      Successfully uninstalled SQLAlchemy-2.0.23\n",
            "\u001b[31mERROR: pip's dependency resolver does not currently take into account all the packages that are installed. This behaviour is the source of the following dependency conflicts.\n",
            "ipython-sql 0.5.0 requires sqlalchemy>=2.0, but you have sqlalchemy 1.4.51 which is incompatible.\u001b[0m\u001b[31m\n",
            "\u001b[0mSuccessfully installed Mako-1.3.0 alembic-1.13.1 banal-1.0.6 dataset-1.6.2 onnx-1.15.0 sqlalchemy-1.4.51\n"
          ]
        }
      ],
      "source": [
        "%pip install pandas numpy matplotlib transformers dataset nltk onnx"
      ]
    },
    {
      "cell_type": "code",
      "execution_count": 2,
      "metadata": {
        "id": "TsB9AQ1l0Jmr"
      },
      "outputs": [],
      "source": [
        "import numpy as np\n",
        "import random\n",
        "import torch\n",
        "import pandas as pd\n",
        "from os import path\n",
        "from sklearn.model_selection import train_test_split\n",
        "import random\n",
        "import gc\n",
        "import torch\n",
        "import transformers\n",
        "from tqdm import tqdm\n",
        "from typing import Callable, Dict, List, Tuple\n",
        "from timeit import default_timer as timer\n",
        "from transformers import EncoderDecoderModel, AutoTokenizer, PreTrainedTokenizer, BatchEncoding\n",
        "from torch.utils.data import Dataset, DataLoader, SubsetRandomSampler\n",
        "import nltk\n",
        "import os\n",
        "import json\n",
        "#from eda import eda\n",
        "models_folder = 'models'"
      ]
    },
    {
      "cell_type": "code",
      "execution_count": 3,
      "metadata": {
        "id": "vXIZjw9y0Jms"
      },
      "outputs": [],
      "source": [
        "# Fix the random state for reproducibility\n",
        "SEED = 11\n",
        "\n",
        "def fix_seed(seed: int) -> None:\n",
        "    \"\"\"Fix all the possible sources of randomness.\n",
        "\n",
        "    Args:\n",
        "        seed: the seed to use.\n",
        "    \"\"\"\n",
        "    np.random.seed(seed)\n",
        "    random.seed(seed)\n",
        "    torch.manual_seed(seed)\n",
        "    torch.cuda.manual_seed(seed)\n",
        "\n",
        "    torch.backends.cudnn.benchmark = False\n",
        "    torch.backends.cudnn.deterministic = True\n",
        "\n",
        "fix_seed(SEED)"
      ]
    },
    {
      "cell_type": "markdown",
      "metadata": {
        "id": "l4QiHmU60Jms"
      },
      "source": [
        "## Dataset Loading"
      ]
    },
    {
      "cell_type": "code",
      "execution_count": 4,
      "metadata": {
        "id": "aqJX5H4D0Jms"
      },
      "outputs": [],
      "source": [
        "data_folder = 'Dataset'\n",
        "\n",
        "def load__dataset(filename:str) -> pd.DataFrame:\n",
        "    with open(path.join(data_folder, filename)) as file_obj:\n",
        "        data = pd.read_json(file_obj, dtype={'episode':str,'speakers':np.array})\n",
        "        return data"
      ]
    },
    {
      "cell_type": "code",
      "execution_count": 5,
      "metadata": {
        "colab": {
          "base_uri": "https://localhost:8080/",
          "height": 379
        },
        "id": "q4MOSXg70Jmt",
        "outputId": "1c036ef7-4dbc-4c70-d56b-502e4a7c3d50"
      },
      "outputs": [
        {
          "output_type": "execute_result",
          "data": {
            "text/plain": [
              "       episode                                           speakers  \\\n",
              "0  utterance_0  [Chandler, The Interviewer, Chandler, The Inte...   \n",
              "1  utterance_1  [Chandler, The Interviewer, Chandler, The Inte...   \n",
              "2  utterance_2  [Chandler, The Interviewer, Chandler, The Inte...   \n",
              "3  utterance_3  [Chandler, The Interviewer, Chandler, The Inte...   \n",
              "4  utterance_4                       [Joey, Rachel, Joey, Rachel]   \n",
              "\n",
              "                                            emotions  \\\n",
              "0     [neutral, neutral, neutral, neutral, surprise]   \n",
              "1  [neutral, neutral, neutral, neutral, surprise,...   \n",
              "2  [neutral, neutral, neutral, neutral, surprise,...   \n",
              "3  [neutral, neutral, neutral, neutral, surprise,...   \n",
              "4                [surprise, sadness, surprise, fear]   \n",
              "\n",
              "                                          utterances  \\\n",
              "0  [also I was the point person on my company's t...   \n",
              "1  [also I was the point person on my company's t...   \n",
              "2  [also I was the point person on my company's t...   \n",
              "3  [also I was the point person on my company's t...   \n",
              "4  [But then who? The waitress I went out with la...   \n",
              "\n",
              "                                            triggers  \n",
              "0                          [0.0, 0.0, 0.0, 1.0, 0.0]  \n",
              "1                [0.0, 0.0, 0.0, 0.0, 0.0, 1.0, 0.0]  \n",
              "2  [0.0, 0.0, 0.0, 0.0, 0.0, 0.0, 0.0, 1.0, 0.0, ...  \n",
              "3  [0.0, 0.0, 0.0, 0.0, 0.0, 0.0, 0.0, 0.0, 0.0, ...  \n",
              "4                               [0.0, 0.0, 1.0, 0.0]  "
            ],
            "text/html": [
              "\n",
              "  <div id=\"df-c686099c-9d4c-4d90-86e4-8bf22d2989b8\" class=\"colab-df-container\">\n",
              "    <div>\n",
              "<style scoped>\n",
              "    .dataframe tbody tr th:only-of-type {\n",
              "        vertical-align: middle;\n",
              "    }\n",
              "\n",
              "    .dataframe tbody tr th {\n",
              "        vertical-align: top;\n",
              "    }\n",
              "\n",
              "    .dataframe thead th {\n",
              "        text-align: right;\n",
              "    }\n",
              "</style>\n",
              "<table border=\"1\" class=\"dataframe\">\n",
              "  <thead>\n",
              "    <tr style=\"text-align: right;\">\n",
              "      <th></th>\n",
              "      <th>episode</th>\n",
              "      <th>speakers</th>\n",
              "      <th>emotions</th>\n",
              "      <th>utterances</th>\n",
              "      <th>triggers</th>\n",
              "    </tr>\n",
              "  </thead>\n",
              "  <tbody>\n",
              "    <tr>\n",
              "      <th>0</th>\n",
              "      <td>utterance_0</td>\n",
              "      <td>[Chandler, The Interviewer, Chandler, The Inte...</td>\n",
              "      <td>[neutral, neutral, neutral, neutral, surprise]</td>\n",
              "      <td>[also I was the point person on my company's t...</td>\n",
              "      <td>[0.0, 0.0, 0.0, 1.0, 0.0]</td>\n",
              "    </tr>\n",
              "    <tr>\n",
              "      <th>1</th>\n",
              "      <td>utterance_1</td>\n",
              "      <td>[Chandler, The Interviewer, Chandler, The Inte...</td>\n",
              "      <td>[neutral, neutral, neutral, neutral, surprise,...</td>\n",
              "      <td>[also I was the point person on my company's t...</td>\n",
              "      <td>[0.0, 0.0, 0.0, 0.0, 0.0, 1.0, 0.0]</td>\n",
              "    </tr>\n",
              "    <tr>\n",
              "      <th>2</th>\n",
              "      <td>utterance_2</td>\n",
              "      <td>[Chandler, The Interviewer, Chandler, The Inte...</td>\n",
              "      <td>[neutral, neutral, neutral, neutral, surprise,...</td>\n",
              "      <td>[also I was the point person on my company's t...</td>\n",
              "      <td>[0.0, 0.0, 0.0, 0.0, 0.0, 0.0, 0.0, 1.0, 0.0, ...</td>\n",
              "    </tr>\n",
              "    <tr>\n",
              "      <th>3</th>\n",
              "      <td>utterance_3</td>\n",
              "      <td>[Chandler, The Interviewer, Chandler, The Inte...</td>\n",
              "      <td>[neutral, neutral, neutral, neutral, surprise,...</td>\n",
              "      <td>[also I was the point person on my company's t...</td>\n",
              "      <td>[0.0, 0.0, 0.0, 0.0, 0.0, 0.0, 0.0, 0.0, 0.0, ...</td>\n",
              "    </tr>\n",
              "    <tr>\n",
              "      <th>4</th>\n",
              "      <td>utterance_4</td>\n",
              "      <td>[Joey, Rachel, Joey, Rachel]</td>\n",
              "      <td>[surprise, sadness, surprise, fear]</td>\n",
              "      <td>[But then who? The waitress I went out with la...</td>\n",
              "      <td>[0.0, 0.0, 1.0, 0.0]</td>\n",
              "    </tr>\n",
              "  </tbody>\n",
              "</table>\n",
              "</div>\n",
              "    <div class=\"colab-df-buttons\">\n",
              "\n",
              "  <div class=\"colab-df-container\">\n",
              "    <button class=\"colab-df-convert\" onclick=\"convertToInteractive('df-c686099c-9d4c-4d90-86e4-8bf22d2989b8')\"\n",
              "            title=\"Convert this dataframe to an interactive table.\"\n",
              "            style=\"display:none;\">\n",
              "\n",
              "  <svg xmlns=\"http://www.w3.org/2000/svg\" height=\"24px\" viewBox=\"0 -960 960 960\">\n",
              "    <path d=\"M120-120v-720h720v720H120Zm60-500h600v-160H180v160Zm220 220h160v-160H400v160Zm0 220h160v-160H400v160ZM180-400h160v-160H180v160Zm440 0h160v-160H620v160ZM180-180h160v-160H180v160Zm440 0h160v-160H620v160Z\"/>\n",
              "  </svg>\n",
              "    </button>\n",
              "\n",
              "  <style>\n",
              "    .colab-df-container {\n",
              "      display:flex;\n",
              "      gap: 12px;\n",
              "    }\n",
              "\n",
              "    .colab-df-convert {\n",
              "      background-color: #E8F0FE;\n",
              "      border: none;\n",
              "      border-radius: 50%;\n",
              "      cursor: pointer;\n",
              "      display: none;\n",
              "      fill: #1967D2;\n",
              "      height: 32px;\n",
              "      padding: 0 0 0 0;\n",
              "      width: 32px;\n",
              "    }\n",
              "\n",
              "    .colab-df-convert:hover {\n",
              "      background-color: #E2EBFA;\n",
              "      box-shadow: 0px 1px 2px rgba(60, 64, 67, 0.3), 0px 1px 3px 1px rgba(60, 64, 67, 0.15);\n",
              "      fill: #174EA6;\n",
              "    }\n",
              "\n",
              "    .colab-df-buttons div {\n",
              "      margin-bottom: 4px;\n",
              "    }\n",
              "\n",
              "    [theme=dark] .colab-df-convert {\n",
              "      background-color: #3B4455;\n",
              "      fill: #D2E3FC;\n",
              "    }\n",
              "\n",
              "    [theme=dark] .colab-df-convert:hover {\n",
              "      background-color: #434B5C;\n",
              "      box-shadow: 0px 1px 3px 1px rgba(0, 0, 0, 0.15);\n",
              "      filter: drop-shadow(0px 1px 2px rgba(0, 0, 0, 0.3));\n",
              "      fill: #FFFFFF;\n",
              "    }\n",
              "  </style>\n",
              "\n",
              "    <script>\n",
              "      const buttonEl =\n",
              "        document.querySelector('#df-c686099c-9d4c-4d90-86e4-8bf22d2989b8 button.colab-df-convert');\n",
              "      buttonEl.style.display =\n",
              "        google.colab.kernel.accessAllowed ? 'block' : 'none';\n",
              "\n",
              "      async function convertToInteractive(key) {\n",
              "        const element = document.querySelector('#df-c686099c-9d4c-4d90-86e4-8bf22d2989b8');\n",
              "        const dataTable =\n",
              "          await google.colab.kernel.invokeFunction('convertToInteractive',\n",
              "                                                    [key], {});\n",
              "        if (!dataTable) return;\n",
              "\n",
              "        const docLinkHtml = 'Like what you see? Visit the ' +\n",
              "          '<a target=\"_blank\" href=https://colab.research.google.com/notebooks/data_table.ipynb>data table notebook</a>'\n",
              "          + ' to learn more about interactive tables.';\n",
              "        element.innerHTML = '';\n",
              "        dataTable['output_type'] = 'display_data';\n",
              "        await google.colab.output.renderOutput(dataTable, element);\n",
              "        const docLink = document.createElement('div');\n",
              "        docLink.innerHTML = docLinkHtml;\n",
              "        element.appendChild(docLink);\n",
              "      }\n",
              "    </script>\n",
              "  </div>\n",
              "\n",
              "\n",
              "<div id=\"df-d044c52e-55d8-4d04-aee9-de29a6e906b3\">\n",
              "  <button class=\"colab-df-quickchart\" onclick=\"quickchart('df-d044c52e-55d8-4d04-aee9-de29a6e906b3')\"\n",
              "            title=\"Suggest charts\"\n",
              "            style=\"display:none;\">\n",
              "\n",
              "<svg xmlns=\"http://www.w3.org/2000/svg\" height=\"24px\"viewBox=\"0 0 24 24\"\n",
              "     width=\"24px\">\n",
              "    <g>\n",
              "        <path d=\"M19 3H5c-1.1 0-2 .9-2 2v14c0 1.1.9 2 2 2h14c1.1 0 2-.9 2-2V5c0-1.1-.9-2-2-2zM9 17H7v-7h2v7zm4 0h-2V7h2v10zm4 0h-2v-4h2v4z\"/>\n",
              "    </g>\n",
              "</svg>\n",
              "  </button>\n",
              "\n",
              "<style>\n",
              "  .colab-df-quickchart {\n",
              "      --bg-color: #E8F0FE;\n",
              "      --fill-color: #1967D2;\n",
              "      --hover-bg-color: #E2EBFA;\n",
              "      --hover-fill-color: #174EA6;\n",
              "      --disabled-fill-color: #AAA;\n",
              "      --disabled-bg-color: #DDD;\n",
              "  }\n",
              "\n",
              "  [theme=dark] .colab-df-quickchart {\n",
              "      --bg-color: #3B4455;\n",
              "      --fill-color: #D2E3FC;\n",
              "      --hover-bg-color: #434B5C;\n",
              "      --hover-fill-color: #FFFFFF;\n",
              "      --disabled-bg-color: #3B4455;\n",
              "      --disabled-fill-color: #666;\n",
              "  }\n",
              "\n",
              "  .colab-df-quickchart {\n",
              "    background-color: var(--bg-color);\n",
              "    border: none;\n",
              "    border-radius: 50%;\n",
              "    cursor: pointer;\n",
              "    display: none;\n",
              "    fill: var(--fill-color);\n",
              "    height: 32px;\n",
              "    padding: 0;\n",
              "    width: 32px;\n",
              "  }\n",
              "\n",
              "  .colab-df-quickchart:hover {\n",
              "    background-color: var(--hover-bg-color);\n",
              "    box-shadow: 0 1px 2px rgba(60, 64, 67, 0.3), 0 1px 3px 1px rgba(60, 64, 67, 0.15);\n",
              "    fill: var(--button-hover-fill-color);\n",
              "  }\n",
              "\n",
              "  .colab-df-quickchart-complete:disabled,\n",
              "  .colab-df-quickchart-complete:disabled:hover {\n",
              "    background-color: var(--disabled-bg-color);\n",
              "    fill: var(--disabled-fill-color);\n",
              "    box-shadow: none;\n",
              "  }\n",
              "\n",
              "  .colab-df-spinner {\n",
              "    border: 2px solid var(--fill-color);\n",
              "    border-color: transparent;\n",
              "    border-bottom-color: var(--fill-color);\n",
              "    animation:\n",
              "      spin 1s steps(1) infinite;\n",
              "  }\n",
              "\n",
              "  @keyframes spin {\n",
              "    0% {\n",
              "      border-color: transparent;\n",
              "      border-bottom-color: var(--fill-color);\n",
              "      border-left-color: var(--fill-color);\n",
              "    }\n",
              "    20% {\n",
              "      border-color: transparent;\n",
              "      border-left-color: var(--fill-color);\n",
              "      border-top-color: var(--fill-color);\n",
              "    }\n",
              "    30% {\n",
              "      border-color: transparent;\n",
              "      border-left-color: var(--fill-color);\n",
              "      border-top-color: var(--fill-color);\n",
              "      border-right-color: var(--fill-color);\n",
              "    }\n",
              "    40% {\n",
              "      border-color: transparent;\n",
              "      border-right-color: var(--fill-color);\n",
              "      border-top-color: var(--fill-color);\n",
              "    }\n",
              "    60% {\n",
              "      border-color: transparent;\n",
              "      border-right-color: var(--fill-color);\n",
              "    }\n",
              "    80% {\n",
              "      border-color: transparent;\n",
              "      border-right-color: var(--fill-color);\n",
              "      border-bottom-color: var(--fill-color);\n",
              "    }\n",
              "    90% {\n",
              "      border-color: transparent;\n",
              "      border-bottom-color: var(--fill-color);\n",
              "    }\n",
              "  }\n",
              "</style>\n",
              "\n",
              "  <script>\n",
              "    async function quickchart(key) {\n",
              "      const quickchartButtonEl =\n",
              "        document.querySelector('#' + key + ' button');\n",
              "      quickchartButtonEl.disabled = true;  // To prevent multiple clicks.\n",
              "      quickchartButtonEl.classList.add('colab-df-spinner');\n",
              "      try {\n",
              "        const charts = await google.colab.kernel.invokeFunction(\n",
              "            'suggestCharts', [key], {});\n",
              "      } catch (error) {\n",
              "        console.error('Error during call to suggestCharts:', error);\n",
              "      }\n",
              "      quickchartButtonEl.classList.remove('colab-df-spinner');\n",
              "      quickchartButtonEl.classList.add('colab-df-quickchart-complete');\n",
              "    }\n",
              "    (() => {\n",
              "      let quickchartButtonEl =\n",
              "        document.querySelector('#df-d044c52e-55d8-4d04-aee9-de29a6e906b3 button');\n",
              "      quickchartButtonEl.style.display =\n",
              "        google.colab.kernel.accessAllowed ? 'block' : 'none';\n",
              "    })();\n",
              "  </script>\n",
              "</div>\n",
              "    </div>\n",
              "  </div>\n"
            ]
          },
          "metadata": {},
          "execution_count": 5
        }
      ],
      "source": [
        "training_set_fn = 'MELD_train_efr.json'\n",
        "\n",
        "dataset = load__dataset(training_set_fn)\n",
        "dataset.head()"
      ]
    },
    {
      "cell_type": "code",
      "execution_count": 6,
      "metadata": {
        "id": "6DK5u2OJ0Jmt"
      },
      "outputs": [],
      "source": [
        "def get_index_none_triggers(df:pd.DataFrame, column:str) -> list:\n",
        "    has_none = []\n",
        "    for i in df[column].index:\n",
        "        is_none = np.where(np.array(df[column][i]) == None, 1, 0).any()\n",
        "        if is_none:\n",
        "            has_none.append(i)\n",
        "    return has_none\n",
        "\n",
        "def clean_none(df:pd.DataFrame, column:str, indexes:list) -> pd.DataFrame:\n",
        "    for i in indexes:\n",
        "        df[column][i] = [el if el is not None else 0.0 for el in df[column][i]]\n",
        "    return df"
      ]
    },
    {
      "cell_type": "markdown",
      "metadata": {
        "id": "wI-4EU1z0Jmu"
      },
      "source": [
        "Check how many triggers do have a None value."
      ]
    },
    {
      "cell_type": "code",
      "execution_count": 7,
      "metadata": {
        "colab": {
          "base_uri": "https://localhost:8080/"
        },
        "id": "Xj71vdjp0Jmu",
        "outputId": "611a2063-e4c0-4265-e722-2568b1ad308c"
      },
      "outputs": [
        {
          "output_type": "stream",
          "name": "stdout",
          "text": [
            "9 trigger rows have None values.\n",
            "\n",
            "2671                                [0.0, 0.0, 1.0, None]\n",
            "2693                      [0.0, 0.0, 0.0, 0.0, 1.0, None]\n",
            "3105    [0.0, 0.0, 0.0, None, 0.0, 0.0, 0.0, 1.0, 1.0,...\n",
            "3157    [0.0, 0.0, None, 0.0, 0.0, 0.0, 1.0, 0.0, 0.0,...\n",
            "3171    [0.0, 0.0, 0.0, 0.0, 0.0, None, 0.0, 0.0, 1.0,...\n",
            "3204    [None, 0.0, 0.0, 0.0, 0.0, 0.0, 0.0, 0.0, 0.0,...\n",
            "3266    [0.0, 0.0, 0.0, 0.0, 0.0, 0.0, None, 0.0, 1.0,...\n",
            "3351    [0.0, 0.0, 0.0, None, 0.0, 0.0, 0.0, 0.0, 0.0,...\n",
            "3359    [0.0, None, 0.0, 0.0, 0.0, 0.0, 0.0, 0.0, 0.0,...\n",
            "Name: triggers, dtype: object\n"
          ]
        }
      ],
      "source": [
        "indexes_none = get_index_none_triggers(dataset, column='triggers')\n",
        "print(\"{} trigger rows have None values.\\n\".format(len(indexes_none)))\n",
        "if len(indexes_none) > 0:\n",
        "    print(dataset['triggers'][indexes_none])"
      ]
    },
    {
      "cell_type": "markdown",
      "metadata": {
        "id": "B231vfKs0Jmu"
      },
      "source": [
        "Now we clean the dataset and then check the previous lists."
      ]
    },
    {
      "cell_type": "code",
      "execution_count": 8,
      "metadata": {
        "colab": {
          "base_uri": "https://localhost:8080/"
        },
        "id": "X2AN_kyP0Jmu",
        "outputId": "c19430dc-425c-413a-a0f5-a044b0c477dc"
      },
      "outputs": [
        {
          "output_type": "stream",
          "name": "stdout",
          "text": [
            "\n",
            "After cleaning, 0 trigger rows have None values.\n",
            "\n",
            "2671                                 [0.0, 0.0, 1.0, 0.0]\n",
            "2693                       [0.0, 0.0, 0.0, 0.0, 1.0, 0.0]\n",
            "3105    [0.0, 0.0, 0.0, 0.0, 0.0, 0.0, 0.0, 1.0, 1.0, ...\n",
            "3157    [0.0, 0.0, 0.0, 0.0, 0.0, 0.0, 1.0, 0.0, 0.0, ...\n",
            "3171    [0.0, 0.0, 0.0, 0.0, 0.0, 0.0, 0.0, 0.0, 1.0, ...\n",
            "3204    [0.0, 0.0, 0.0, 0.0, 0.0, 0.0, 0.0, 0.0, 0.0, ...\n",
            "3266    [0.0, 0.0, 0.0, 0.0, 0.0, 0.0, 0.0, 0.0, 1.0, ...\n",
            "3351    [0.0, 0.0, 0.0, 0.0, 0.0, 0.0, 0.0, 0.0, 0.0, ...\n",
            "3359    [0.0, 0.0, 0.0, 0.0, 0.0, 0.0, 0.0, 0.0, 0.0, ...\n",
            "Name: triggers, dtype: object\n"
          ]
        }
      ],
      "source": [
        "dataset = clean_none(dataset, column='triggers', indexes=indexes_none)\n",
        "indexes_none_clean = get_index_none_triggers(dataset, column='triggers')\n",
        "print(\"\\nAfter cleaning, {} trigger rows have None values.\\n\".format(len(indexes_none_clean)))\n",
        "if len(indexes_none) > 0:\n",
        "    print(dataset['triggers'][indexes_none])"
      ]
    },
    {
      "cell_type": "markdown",
      "metadata": {
        "id": "MmF7DFMn0Jmv"
      },
      "source": [
        "##Data Elaboration"
      ]
    },
    {
      "cell_type": "markdown",
      "metadata": {
        "id": "v38ZAFx3F9jO"
      },
      "source": [
        "###Preprocessing"
      ]
    },
    {
      "cell_type": "code",
      "execution_count": 9,
      "metadata": {
        "id": "NjVvvknrjwyS"
      },
      "outputs": [],
      "source": [
        "def input_preprocessing(dataset,his_num=2):\n",
        "  tot = len(dataset)\n",
        "  data = []\n",
        "  for r in range(tot):\n",
        "    text = dataset['utterances'][r]\n",
        "    em = dataset['emotions'][r]\n",
        "    trig = dataset['triggers'][r]\n",
        "    for i in range(0,len(text)):\n",
        "      t = []\n",
        "      history = []\n",
        "      sentence = text[i]\n",
        "      if (i-his_num < 0):\n",
        "        for q in range(i):\n",
        "          history.append(text[q])\n",
        "      else:\n",
        "        for q in range(i-his_num,i):\n",
        "          history.append(text[q])\n",
        "      if(i+1 < len(text)):\n",
        "        future = text[i+1]\n",
        "      else:\n",
        "        future = \"\"\n",
        "      #convert the list t into a string\n",
        "      string = \" \".join(map(str,history))\n",
        "      data.append({\n",
        "          'episode': dataset['episode'][r],\n",
        "          'utterance': sentence,\n",
        "          'history' : string,\n",
        "          'future' : future,\n",
        "          'emotion': em[i],\n",
        "          'trigger': bool(trig[i])\n",
        "        })\n",
        "  data = pd.DataFrame(data)\n",
        "  return data"
      ]
    },
    {
      "cell_type": "code",
      "execution_count": 10,
      "metadata": {
        "id": "aQchB9C8sbBW"
      },
      "outputs": [],
      "source": [
        "his_num = 2\n",
        "data = input_preprocessing(dataset,his_num)"
      ]
    },
    {
      "cell_type": "code",
      "execution_count": 11,
      "metadata": {
        "colab": {
          "base_uri": "https://localhost:8080/"
        },
        "id": "h6vUutUOqa19",
        "outputId": "15cc67fd-2c61-465c-c8d0-9b7093032634"
      },
      "outputs": [
        {
          "output_type": "execute_result",
          "data": {
            "text/plain": [
              "[\"also I was the point person on my company's transition from the KL-5 to GR-6 system.\",\n",
              " \"You must've had your hands full.\",\n",
              " 'That I did. That I did.',\n",
              " \"So let's talk a little bit about your duties.\",\n",
              " 'My duties?  All right.']"
            ]
          },
          "metadata": {},
          "execution_count": 11
        }
      ],
      "source": [
        "dataset['utterances'][0]"
      ]
    },
    {
      "cell_type": "code",
      "execution_count": 12,
      "metadata": {
        "colab": {
          "base_uri": "https://localhost:8080/"
        },
        "id": "V6W0slbspwDJ",
        "outputId": "d703bc5c-f8bd-4a91-d4f0-72c0ab8fa9a6"
      },
      "outputs": [
        {
          "output_type": "execute_result",
          "data": {
            "text/plain": [
              "['',\n",
              " \"also I was the point person on my company's transition from the KL-5 to GR-6 system.\",\n",
              " \"also I was the point person on my company's transition from the KL-5 to GR-6 system. You must've had your hands full.\",\n",
              " \"You must've had your hands full. That I did. That I did.\",\n",
              " \"That I did. That I did. So let's talk a little bit about your duties.\",\n",
              " '',\n",
              " \"also I was the point person on my company's transition from the KL-5 to GR-6 system.\",\n",
              " \"also I was the point person on my company's transition from the KL-5 to GR-6 system. You must've had your hands full.\",\n",
              " \"You must've had your hands full. That I did. That I did.\",\n",
              " \"That I did. That I did. So let's talk a little bit about your duties.\"]"
            ]
          },
          "metadata": {},
          "execution_count": 12
        }
      ],
      "source": [
        "list(data['history'][:10])"
      ]
    },
    {
      "cell_type": "code",
      "execution_count": 13,
      "metadata": {
        "colab": {
          "base_uri": "https://localhost:8080/"
        },
        "id": "CjdG1T_CFHcx",
        "outputId": "60f1739d-213a-498a-e500-26fdf304a302"
      },
      "outputs": [
        {
          "output_type": "execute_result",
          "data": {
            "text/plain": [
              "35000"
            ]
          },
          "metadata": {},
          "execution_count": 13
        }
      ],
      "source": [
        "len(data)"
      ]
    },
    {
      "cell_type": "code",
      "execution_count": 14,
      "metadata": {
        "colab": {
          "base_uri": "https://localhost:8080/",
          "height": 452
        },
        "id": "AVdMBcMyDlq7",
        "outputId": "4bc4d13d-64c7-4688-8a43-7d00558da9dc"
      },
      "outputs": [
        {
          "output_type": "execute_result",
          "data": {
            "text/plain": [
              "<Axes: >"
            ]
          },
          "metadata": {},
          "execution_count": 14
        },
        {
          "output_type": "display_data",
          "data": {
            "text/plain": [
              "<Figure size 640x480 with 1 Axes>"
            ],
            "image/png": "[encoded data removed]"
          },
          "metadata": {}
        }
      ],
      "source": [
        "data['emotion'].hist()"
      ]
    },
    {
      "cell_type": "markdown",
      "metadata": {
        "id": "3SNnfFWuFKr3"
      },
      "source": [
        "This shows that the data is imbalanced."
      ]
    },
    {
      "cell_type": "code",
      "execution_count": 15,
      "metadata": {
        "colab": {
          "base_uri": "https://localhost:8080/"
        },
        "id": "FEln12COiVeW",
        "outputId": "041bd440-29c4-4cc8-d048-c03a9fa09d8f"
      },
      "outputs": [
        {
          "output_type": "execute_result",
          "data": {
            "text/plain": [
              "35000"
            ]
          },
          "metadata": {},
          "execution_count": 15
        }
      ],
      "source": [
        "len(data)"
      ]
    },
    {
      "cell_type": "code",
      "execution_count": 16,
      "metadata": {
        "id": "rrkX3Ta1-0IO"
      },
      "outputs": [],
      "source": [
        "episodes = data['episode'].unique()"
      ]
    },
    {
      "cell_type": "markdown",
      "metadata": {
        "id": "FIyPfT4yF1Ye"
      },
      "source": [
        "###Label Encoder"
      ]
    },
    {
      "cell_type": "code",
      "execution_count": 17,
      "metadata": {
        "id": "c0pQnBrbFyfI"
      },
      "outputs": [],
      "source": [
        "#label encoder\n",
        "from sklearn.preprocessing import LabelEncoder\n",
        "le_emo = LabelEncoder()\n",
        "data['labemo'] = le_emo.fit_transform(data['emotion'])\n",
        "#le_tri = LabelEncoder()\n",
        "#data['labtri'] = le_tri.fit_transform(data['trigger'])"
      ]
    },
    {
      "cell_type": "code",
      "execution_count": 18,
      "metadata": {
        "colab": {
          "base_uri": "https://localhost:8080/"
        },
        "id": "cnZFfDHHGL4H",
        "outputId": "86423053-cd23-4552-ca3c-a427029e46d4"
      },
      "outputs": [
        {
          "output_type": "execute_result",
          "data": {
            "text/plain": [
              "array(['neutral', 'surprise', 'fear', 'sadness', 'joy', 'disgust',\n",
              "       'anger'], dtype=object)"
            ]
          },
          "metadata": {},
          "execution_count": 18
        }
      ],
      "source": [
        "data['emotion'].unique()"
      ]
    },
    {
      "cell_type": "code",
      "execution_count": 19,
      "metadata": {
        "colab": {
          "base_uri": "https://localhost:8080/"
        },
        "id": "-xQb79QXGXHC",
        "outputId": "4bfa40a2-4829-4bf4-ea59-42a646766a54"
      },
      "outputs": [
        {
          "output_type": "execute_result",
          "data": {
            "text/plain": [
              "array([4, 6, 2, 5, 3, 1, 0])"
            ]
          },
          "metadata": {},
          "execution_count": 19
        }
      ],
      "source": [
        "data['labemo'].unique()"
      ]
    },
    {
      "cell_type": "markdown",
      "metadata": {
        "id": "xDHZf6C4GMqA"
      },
      "source": [
        "### Train-Val-Test splitting"
      ]
    },
    {
      "cell_type": "code",
      "execution_count": 20,
      "metadata": {
        "colab": {
          "base_uri": "https://localhost:8080/"
        },
        "id": "hm8PMxsgBAO7",
        "outputId": "346e15f9-3762-4a45-d304-c6b364edfe41"
      },
      "outputs": [
        {
          "output_type": "stream",
          "name": "stdout",
          "text": [
            "Number of training samples: 27964\n",
            "Number of test samples: 3517\n",
            "Number of validation examples: 3519\n"
          ]
        }
      ],
      "source": [
        "idx_train, idx_test = train_test_split(episodes,\n",
        "                                     random_state=SEED,\n",
        "                                     test_size=0.1)\n",
        "idx_train, idx_val = train_test_split(idx_train,\n",
        "                                     random_state=SEED,\n",
        "                                     test_size=idx_test.shape[0])\n",
        "df_train = data[data['episode'].isin(idx_train)]\n",
        "df_test = data[data['episode'].isin(idx_test)]\n",
        "df_val = data[data['episode'].isin(idx_val)]\n",
        "print('Number of training samples: {}'.format(df_train.shape[0]))\n",
        "print('Number of test samples: {}'.format(df_test.shape[0]))\n",
        "print('Number of validation examples: {}'.format(df_val.shape[0]))"
      ]
    },
    {
      "cell_type": "code",
      "execution_count": 21,
      "metadata": {
        "colab": {
          "base_uri": "https://localhost:8080/",
          "height": 362
        },
        "id": "q9ziL6sQBrJj",
        "outputId": "7a2c3b2e-6b25-47c1-a158-89afc2e146f4"
      },
      "outputs": [
        {
          "output_type": "execute_result",
          "data": {
            "text/plain": [
              "       episode                                          utterance  \\\n",
              "0  utterance_0  also I was the point person on my company's tr...   \n",
              "1  utterance_0                   You must've had your hands full.   \n",
              "2  utterance_0                            That I did. That I did.   \n",
              "3  utterance_0      So let's talk a little bit about your duties.   \n",
              "4  utterance_0                             My duties?  All right.   \n",
              "\n",
              "                                             history  \\\n",
              "0                                                      \n",
              "1  also I was the point person on my company's tr...   \n",
              "2  also I was the point person on my company's tr...   \n",
              "3  You must've had your hands full. That I did. T...   \n",
              "4  That I did. That I did. So let's talk a little...   \n",
              "\n",
              "                                          future   emotion  trigger  labemo  \n",
              "0               You must've had your hands full.   neutral    False       4  \n",
              "1                        That I did. That I did.   neutral    False       4  \n",
              "2  So let's talk a little bit about your duties.   neutral    False       4  \n",
              "3                         My duties?  All right.   neutral     True       4  \n",
              "4                                                 surprise    False       6  "
            ],
            "text/html": [
              "\n",
              "  <div id=\"df-b18c6403-4142-45aa-a4d9-b1fd549f1fb5\" class=\"colab-df-container\">\n",
              "    <div>\n",
              "<style scoped>\n",
              "    .dataframe tbody tr th:only-of-type {\n",
              "        vertical-align: middle;\n",
              "    }\n",
              "\n",
              "    .dataframe tbody tr th {\n",
              "        vertical-align: top;\n",
              "    }\n",
              "\n",
              "    .dataframe thead th {\n",
              "        text-align: right;\n",
              "    }\n",
              "</style>\n",
              "<table border=\"1\" class=\"dataframe\">\n",
              "  <thead>\n",
              "    <tr style=\"text-align: right;\">\n",
              "      <th></th>\n",
              "      <th>episode</th>\n",
              "      <th>utterance</th>\n",
              "      <th>history</th>\n",
              "      <th>future</th>\n",
              "      <th>emotion</th>\n",
              "      <th>trigger</th>\n",
              "      <th>labemo</th>\n",
              "    </tr>\n",
              "  </thead>\n",
              "  <tbody>\n",
              "    <tr>\n",
              "      <th>0</th>\n",
              "      <td>utterance_0</td>\n",
              "      <td>also I was the point person on my company's tr...</td>\n",
              "      <td></td>\n",
              "      <td>You must've had your hands full.</td>\n",
              "      <td>neutral</td>\n",
              "      <td>False</td>\n",
              "      <td>4</td>\n",
              "    </tr>\n",
              "    <tr>\n",
              "      <th>1</th>\n",
              "      <td>utterance_0</td>\n",
              "      <td>You must've had your hands full.</td>\n",
              "      <td>also I was the point person on my company's tr...</td>\n",
              "      <td>That I did. That I did.</td>\n",
              "      <td>neutral</td>\n",
              "      <td>False</td>\n",
              "      <td>4</td>\n",
              "    </tr>\n",
              "    <tr>\n",
              "      <th>2</th>\n",
              "      <td>utterance_0</td>\n",
              "      <td>That I did. That I did.</td>\n",
              "      <td>also I was the point person on my company's tr...</td>\n",
              "      <td>So let's talk a little bit about your duties.</td>\n",
              "      <td>neutral</td>\n",
              "      <td>False</td>\n",
              "      <td>4</td>\n",
              "    </tr>\n",
              "    <tr>\n",
              "      <th>3</th>\n",
              "      <td>utterance_0</td>\n",
              "      <td>So let's talk a little bit about your duties.</td>\n",
              "      <td>You must've had your hands full. That I did. T...</td>\n",
              "      <td>My duties?  All right.</td>\n",
              "      <td>neutral</td>\n",
              "      <td>True</td>\n",
              "      <td>4</td>\n",
              "    </tr>\n",
              "    <tr>\n",
              "      <th>4</th>\n",
              "      <td>utterance_0</td>\n",
              "      <td>My duties?  All right.</td>\n",
              "      <td>That I did. That I did. So let's talk a little...</td>\n",
              "      <td></td>\n",
              "      <td>surprise</td>\n",
              "      <td>False</td>\n",
              "      <td>6</td>\n",
              "    </tr>\n",
              "  </tbody>\n",
              "</table>\n",
              "</div>\n",
              "    <div class=\"colab-df-buttons\">\n",
              "\n",
              "  <div class=\"colab-df-container\">\n",
              "    <button class=\"colab-df-convert\" onclick=\"convertToInteractive('df-b18c6403-4142-45aa-a4d9-b1fd549f1fb5')\"\n",
              "            title=\"Convert this dataframe to an interactive table.\"\n",
              "            style=\"display:none;\">\n",
              "\n",
              "  <svg xmlns=\"http://www.w3.org/2000/svg\" height=\"24px\" viewBox=\"0 -960 960 960\">\n",
              "    <path d=\"M120-120v-720h720v720H120Zm60-500h600v-160H180v160Zm220 220h160v-160H400v160Zm0 220h160v-160H400v160ZM180-400h160v-160H180v160Zm440 0h160v-160H620v160ZM180-180h160v-160H180v160Zm440 0h160v-160H620v160Z\"/>\n",
              "  </svg>\n",
              "    </button>\n",
              "\n",
              "  <style>\n",
              "    .colab-df-container {\n",
              "      display:flex;\n",
              "      gap: 12px;\n",
              "    }\n",
              "\n",
              "    .colab-df-convert {\n",
              "      background-color: #E8F0FE;\n",
              "      border: none;\n",
              "      border-radius: 50%;\n",
              "      cursor: pointer;\n",
              "      display: none;\n",
              "      fill: #1967D2;\n",
              "      height: 32px;\n",
              "      padding: 0 0 0 0;\n",
              "      width: 32px;\n",
              "    }\n",
              "\n",
              "    .colab-df-convert:hover {\n",
              "      background-color: #E2EBFA;\n",
              "      box-shadow: 0px 1px 2px rgba(60, 64, 67, 0.3), 0px 1px 3px 1px rgba(60, 64, 67, 0.15);\n",
              "      fill: #174EA6;\n",
              "    }\n",
              "\n",
              "    .colab-df-buttons div {\n",
              "      margin-bottom: 4px;\n",
              "    }\n",
              "\n",
              "    [theme=dark] .colab-df-convert {\n",
              "      background-color: #3B4455;\n",
              "      fill: #D2E3FC;\n",
              "    }\n",
              "\n",
              "    [theme=dark] .colab-df-convert:hover {\n",
              "      background-color: #434B5C;\n",
              "      box-shadow: 0px 1px 3px 1px rgba(0, 0, 0, 0.15);\n",
              "      filter: drop-shadow(0px 1px 2px rgba(0, 0, 0, 0.3));\n",
              "      fill: #FFFFFF;\n",
              "    }\n",
              "  </style>\n",
              "\n",
              "    <script>\n",
              "      const buttonEl =\n",
              "        document.querySelector('#df-b18c6403-4142-45aa-a4d9-b1fd549f1fb5 button.colab-df-convert');\n",
              "      buttonEl.style.display =\n",
              "        google.colab.kernel.accessAllowed ? 'block' : 'none';\n",
              "\n",
              "      async function convertToInteractive(key) {\n",
              "        const element = document.querySelector('#df-b18c6403-4142-45aa-a4d9-b1fd549f1fb5');\n",
              "        const dataTable =\n",
              "          await google.colab.kernel.invokeFunction('convertToInteractive',\n",
              "                                                    [key], {});\n",
              "        if (!dataTable) return;\n",
              "\n",
              "        const docLinkHtml = 'Like what you see? Visit the ' +\n",
              "          '<a target=\"_blank\" href=https://colab.research.google.com/notebooks/data_table.ipynb>data table notebook</a>'\n",
              "          + ' to learn more about interactive tables.';\n",
              "        element.innerHTML = '';\n",
              "        dataTable['output_type'] = 'display_data';\n",
              "        await google.colab.output.renderOutput(dataTable, element);\n",
              "        const docLink = document.createElement('div');\n",
              "        docLink.innerHTML = docLinkHtml;\n",
              "        element.appendChild(docLink);\n",
              "      }\n",
              "    </script>\n",
              "  </div>\n",
              "\n",
              "\n",
              "<div id=\"df-ac0bb0bf-9946-4d25-9092-37875405328f\">\n",
              "  <button class=\"colab-df-quickchart\" onclick=\"quickchart('df-ac0bb0bf-9946-4d25-9092-37875405328f')\"\n",
              "            title=\"Suggest charts\"\n",
              "            style=\"display:none;\">\n",
              "\n",
              "<svg xmlns=\"http://www.w3.org/2000/svg\" height=\"24px\"viewBox=\"0 0 24 24\"\n",
              "     width=\"24px\">\n",
              "    <g>\n",
              "        <path d=\"M19 3H5c-1.1 0-2 .9-2 2v14c0 1.1.9 2 2 2h14c1.1 0 2-.9 2-2V5c0-1.1-.9-2-2-2zM9 17H7v-7h2v7zm4 0h-2V7h2v10zm4 0h-2v-4h2v4z\"/>\n",
              "    </g>\n",
              "</svg>\n",
              "  </button>\n",
              "\n",
              "<style>\n",
              "  .colab-df-quickchart {\n",
              "      --bg-color: #E8F0FE;\n",
              "      --fill-color: #1967D2;\n",
              "      --hover-bg-color: #E2EBFA;\n",
              "      --hover-fill-color: #174EA6;\n",
              "      --disabled-fill-color: #AAA;\n",
              "      --disabled-bg-color: #DDD;\n",
              "  }\n",
              "\n",
              "  [theme=dark] .colab-df-quickchart {\n",
              "      --bg-color: #3B4455;\n",
              "      --fill-color: #D2E3FC;\n",
              "      --hover-bg-color: #434B5C;\n",
              "      --hover-fill-color: #FFFFFF;\n",
              "      --disabled-bg-color: #3B4455;\n",
              "      --disabled-fill-color: #666;\n",
              "  }\n",
              "\n",
              "  .colab-df-quickchart {\n",
              "    background-color: var(--bg-color);\n",
              "    border: none;\n",
              "    border-radius: 50%;\n",
              "    cursor: pointer;\n",
              "    display: none;\n",
              "    fill: var(--fill-color);\n",
              "    height: 32px;\n",
              "    padding: 0;\n",
              "    width: 32px;\n",
              "  }\n",
              "\n",
              "  .colab-df-quickchart:hover {\n",
              "    background-color: var(--hover-bg-color);\n",
              "    box-shadow: 0 1px 2px rgba(60, 64, 67, 0.3), 0 1px 3px 1px rgba(60, 64, 67, 0.15);\n",
              "    fill: var(--button-hover-fill-color);\n",
              "  }\n",
              "\n",
              "  .colab-df-quickchart-complete:disabled,\n",
              "  .colab-df-quickchart-complete:disabled:hover {\n",
              "    background-color: var(--disabled-bg-color);\n",
              "    fill: var(--disabled-fill-color);\n",
              "    box-shadow: none;\n",
              "  }\n",
              "\n",
              "  .colab-df-spinner {\n",
              "    border: 2px solid var(--fill-color);\n",
              "    border-color: transparent;\n",
              "    border-bottom-color: var(--fill-color);\n",
              "    animation:\n",
              "      spin 1s steps(1) infinite;\n",
              "  }\n",
              "\n",
              "  @keyframes spin {\n",
              "    0% {\n",
              "      border-color: transparent;\n",
              "      border-bottom-color: var(--fill-color);\n",
              "      border-left-color: var(--fill-color);\n",
              "    }\n",
              "    20% {\n",
              "      border-color: transparent;\n",
              "      border-left-color: var(--fill-color);\n",
              "      border-top-color: var(--fill-color);\n",
              "    }\n",
              "    30% {\n",
              "      border-color: transparent;\n",
              "      border-left-color: var(--fill-color);\n",
              "      border-top-color: var(--fill-color);\n",
              "      border-right-color: var(--fill-color);\n",
              "    }\n",
              "    40% {\n",
              "      border-color: transparent;\n",
              "      border-right-color: var(--fill-color);\n",
              "      border-top-color: var(--fill-color);\n",
              "    }\n",
              "    60% {\n",
              "      border-color: transparent;\n",
              "      border-right-color: var(--fill-color);\n",
              "    }\n",
              "    80% {\n",
              "      border-color: transparent;\n",
              "      border-right-color: var(--fill-color);\n",
              "      border-bottom-color: var(--fill-color);\n",
              "    }\n",
              "    90% {\n",
              "      border-color: transparent;\n",
              "      border-bottom-color: var(--fill-color);\n",
              "    }\n",
              "  }\n",
              "</style>\n",
              "\n",
              "  <script>\n",
              "    async function quickchart(key) {\n",
              "      const quickchartButtonEl =\n",
              "        document.querySelector('#' + key + ' button');\n",
              "      quickchartButtonEl.disabled = true;  // To prevent multiple clicks.\n",
              "      quickchartButtonEl.classList.add('colab-df-spinner');\n",
              "      try {\n",
              "        const charts = await google.colab.kernel.invokeFunction(\n",
              "            'suggestCharts', [key], {});\n",
              "      } catch (error) {\n",
              "        console.error('Error during call to suggestCharts:', error);\n",
              "      }\n",
              "      quickchartButtonEl.classList.remove('colab-df-spinner');\n",
              "      quickchartButtonEl.classList.add('colab-df-quickchart-complete');\n",
              "    }\n",
              "    (() => {\n",
              "      let quickchartButtonEl =\n",
              "        document.querySelector('#df-ac0bb0bf-9946-4d25-9092-37875405328f button');\n",
              "      quickchartButtonEl.style.display =\n",
              "        google.colab.kernel.accessAllowed ? 'block' : 'none';\n",
              "    })();\n",
              "  </script>\n",
              "</div>\n",
              "    </div>\n",
              "  </div>\n"
            ]
          },
          "metadata": {},
          "execution_count": 21
        }
      ],
      "source": [
        "df_train.head()"
      ]
    },
    {
      "cell_type": "code",
      "execution_count": 22,
      "metadata": {
        "colab": {
          "base_uri": "https://localhost:8080/",
          "height": 449
        },
        "id": "EkDrRjKi0Jmv",
        "outputId": "6e694448-5cd3-4110-f9c5-6a3c5efb0f0f"
      },
      "outputs": [
        {
          "output_type": "execute_result",
          "data": {
            "text/plain": [
              "         episode                                          utterance  \\\n",
              "77  utterance_12                                          Hey, Mon.   \n",
              "78  utterance_12  Hey-hey-hey. You wanna hear something that sucks.   \n",
              "79  utterance_12                                         Do I ever.   \n",
              "80  utterance_12           Chris says they're closing down the bar.   \n",
              "81  utterance_12                                            No way!   \n",
              "\n",
              "                                              history  \\\n",
              "77                                                      \n",
              "78                                          Hey, Mon.   \n",
              "79  Hey, Mon. Hey-hey-hey. You wanna hear somethin...   \n",
              "80  Hey-hey-hey. You wanna hear something that suc...   \n",
              "81  Do I ever. Chris says they're closing down the...   \n",
              "\n",
              "                                               future   emotion  trigger  \\\n",
              "77  Hey-hey-hey. You wanna hear something that sucks.   neutral    False   \n",
              "78                                         Do I ever.   neutral    False   \n",
              "79           Chris says they're closing down the bar.       joy    False   \n",
              "80                                            No way!   sadness     True   \n",
              "81  Yeah, apparently they're turning it into some ...  surprise    False   \n",
              "\n",
              "    labemo  \n",
              "77       4  \n",
              "78       4  \n",
              "79       3  \n",
              "80       5  \n",
              "81       6  "
            ],
            "text/html": [
              "\n",
              "  <div id=\"df-dd8da7d5-4878-4e15-9d31-482adb56578a\" class=\"colab-df-container\">\n",
              "    <div>\n",
              "<style scoped>\n",
              "    .dataframe tbody tr th:only-of-type {\n",
              "        vertical-align: middle;\n",
              "    }\n",
              "\n",
              "    .dataframe tbody tr th {\n",
              "        vertical-align: top;\n",
              "    }\n",
              "\n",
              "    .dataframe thead th {\n",
              "        text-align: right;\n",
              "    }\n",
              "</style>\n",
              "<table border=\"1\" class=\"dataframe\">\n",
              "  <thead>\n",
              "    <tr style=\"text-align: right;\">\n",
              "      <th></th>\n",
              "      <th>episode</th>\n",
              "      <th>utterance</th>\n",
              "      <th>history</th>\n",
              "      <th>future</th>\n",
              "      <th>emotion</th>\n",
              "      <th>trigger</th>\n",
              "      <th>labemo</th>\n",
              "    </tr>\n",
              "  </thead>\n",
              "  <tbody>\n",
              "    <tr>\n",
              "      <th>77</th>\n",
              "      <td>utterance_12</td>\n",
              "      <td>Hey, Mon.</td>\n",
              "      <td></td>\n",
              "      <td>Hey-hey-hey. You wanna hear something that sucks.</td>\n",
              "      <td>neutral</td>\n",
              "      <td>False</td>\n",
              "      <td>4</td>\n",
              "    </tr>\n",
              "    <tr>\n",
              "      <th>78</th>\n",
              "      <td>utterance_12</td>\n",
              "      <td>Hey-hey-hey. You wanna hear something that sucks.</td>\n",
              "      <td>Hey, Mon.</td>\n",
              "      <td>Do I ever.</td>\n",
              "      <td>neutral</td>\n",
              "      <td>False</td>\n",
              "      <td>4</td>\n",
              "    </tr>\n",
              "    <tr>\n",
              "      <th>79</th>\n",
              "      <td>utterance_12</td>\n",
              "      <td>Do I ever.</td>\n",
              "      <td>Hey, Mon. Hey-hey-hey. You wanna hear somethin...</td>\n",
              "      <td>Chris says they're closing down the bar.</td>\n",
              "      <td>joy</td>\n",
              "      <td>False</td>\n",
              "      <td>3</td>\n",
              "    </tr>\n",
              "    <tr>\n",
              "      <th>80</th>\n",
              "      <td>utterance_12</td>\n",
              "      <td>Chris says they're closing down the bar.</td>\n",
              "      <td>Hey-hey-hey. You wanna hear something that suc...</td>\n",
              "      <td>No way!</td>\n",
              "      <td>sadness</td>\n",
              "      <td>True</td>\n",
              "      <td>5</td>\n",
              "    </tr>\n",
              "    <tr>\n",
              "      <th>81</th>\n",
              "      <td>utterance_12</td>\n",
              "      <td>No way!</td>\n",
              "      <td>Do I ever. Chris says they're closing down the...</td>\n",
              "      <td>Yeah, apparently they're turning it into some ...</td>\n",
              "      <td>surprise</td>\n",
              "      <td>False</td>\n",
              "      <td>6</td>\n",
              "    </tr>\n",
              "  </tbody>\n",
              "</table>\n",
              "</div>\n",
              "    <div class=\"colab-df-buttons\">\n",
              "\n",
              "  <div class=\"colab-df-container\">\n",
              "    <button class=\"colab-df-convert\" onclick=\"convertToInteractive('df-dd8da7d5-4878-4e15-9d31-482adb56578a')\"\n",
              "            title=\"Convert this dataframe to an interactive table.\"\n",
              "            style=\"display:none;\">\n",
              "\n",
              "  <svg xmlns=\"http://www.w3.org/2000/svg\" height=\"24px\" viewBox=\"0 -960 960 960\">\n",
              "    <path d=\"M120-120v-720h720v720H120Zm60-500h600v-160H180v160Zm220 220h160v-160H400v160Zm0 220h160v-160H400v160ZM180-400h160v-160H180v160Zm440 0h160v-160H620v160ZM180-180h160v-160H180v160Zm440 0h160v-160H620v160Z\"/>\n",
              "  </svg>\n",
              "    </button>\n",
              "\n",
              "  <style>\n",
              "    .colab-df-container {\n",
              "      display:flex;\n",
              "      gap: 12px;\n",
              "    }\n",
              "\n",
              "    .colab-df-convert {\n",
              "      background-color: #E8F0FE;\n",
              "      border: none;\n",
              "      border-radius: 50%;\n",
              "      cursor: pointer;\n",
              "      display: none;\n",
              "      fill: #1967D2;\n",
              "      height: 32px;\n",
              "      padding: 0 0 0 0;\n",
              "      width: 32px;\n",
              "    }\n",
              "\n",
              "    .colab-df-convert:hover {\n",
              "      background-color: #E2EBFA;\n",
              "      box-shadow: 0px 1px 2px rgba(60, 64, 67, 0.3), 0px 1px 3px 1px rgba(60, 64, 67, 0.15);\n",
              "      fill: #174EA6;\n",
              "    }\n",
              "\n",
              "    .colab-df-buttons div {\n",
              "      margin-bottom: 4px;\n",
              "    }\n",
              "\n",
              "    [theme=dark] .colab-df-convert {\n",
              "      background-color: #3B4455;\n",
              "      fill: #D2E3FC;\n",
              "    }\n",
              "\n",
              "    [theme=dark] .colab-df-convert:hover {\n",
              "      background-color: #434B5C;\n",
              "      box-shadow: 0px 1px 3px 1px rgba(0, 0, 0, 0.15);\n",
              "      filter: drop-shadow(0px 1px 2px rgba(0, 0, 0, 0.3));\n",
              "      fill: #FFFFFF;\n",
              "    }\n",
              "  </style>\n",
              "\n",
              "    <script>\n",
              "      const buttonEl =\n",
              "        document.querySelector('#df-dd8da7d5-4878-4e15-9d31-482adb56578a button.colab-df-convert');\n",
              "      buttonEl.style.display =\n",
              "        google.colab.kernel.accessAllowed ? 'block' : 'none';\n",
              "\n",
              "      async function convertToInteractive(key) {\n",
              "        const element = document.querySelector('#df-dd8da7d5-4878-4e15-9d31-482adb56578a');\n",
              "        const dataTable =\n",
              "          await google.colab.kernel.invokeFunction('convertToInteractive',\n",
              "                                                    [key], {});\n",
              "        if (!dataTable) return;\n",
              "\n",
              "        const docLinkHtml = 'Like what you see? Visit the ' +\n",
              "          '<a target=\"_blank\" href=https://colab.research.google.com/notebooks/data_table.ipynb>data table notebook</a>'\n",
              "          + ' to learn more about interactive tables.';\n",
              "        element.innerHTML = '';\n",
              "        dataTable['output_type'] = 'display_data';\n",
              "        await google.colab.output.renderOutput(dataTable, element);\n",
              "        const docLink = document.createElement('div');\n",
              "        docLink.innerHTML = docLinkHtml;\n",
              "        element.appendChild(docLink);\n",
              "      }\n",
              "    </script>\n",
              "  </div>\n",
              "\n",
              "\n",
              "<div id=\"df-1671606b-3e61-4317-83cf-ef2facc9f760\">\n",
              "  <button class=\"colab-df-quickchart\" onclick=\"quickchart('df-1671606b-3e61-4317-83cf-ef2facc9f760')\"\n",
              "            title=\"Suggest charts\"\n",
              "            style=\"display:none;\">\n",
              "\n",
              "<svg xmlns=\"http://www.w3.org/2000/svg\" height=\"24px\"viewBox=\"0 0 24 24\"\n",
              "     width=\"24px\">\n",
              "    <g>\n",
              "        <path d=\"M19 3H5c-1.1 0-2 .9-2 2v14c0 1.1.9 2 2 2h14c1.1 0 2-.9 2-2V5c0-1.1-.9-2-2-2zM9 17H7v-7h2v7zm4 0h-2V7h2v10zm4 0h-2v-4h2v4z\"/>\n",
              "    </g>\n",
              "</svg>\n",
              "  </button>\n",
              "\n",
              "<style>\n",
              "  .colab-df-quickchart {\n",
              "      --bg-color: #E8F0FE;\n",
              "      --fill-color: #1967D2;\n",
              "      --hover-bg-color: #E2EBFA;\n",
              "      --hover-fill-color: #174EA6;\n",
              "      --disabled-fill-color: #AAA;\n",
              "      --disabled-bg-color: #DDD;\n",
              "  }\n",
              "\n",
              "  [theme=dark] .colab-df-quickchart {\n",
              "      --bg-color: #3B4455;\n",
              "      --fill-color: #D2E3FC;\n",
              "      --hover-bg-color: #434B5C;\n",
              "      --hover-fill-color: #FFFFFF;\n",
              "      --disabled-bg-color: #3B4455;\n",
              "      --disabled-fill-color: #666;\n",
              "  }\n",
              "\n",
              "  .colab-df-quickchart {\n",
              "    background-color: var(--bg-color);\n",
              "    border: none;\n",
              "    border-radius: 50%;\n",
              "    cursor: pointer;\n",
              "    display: none;\n",
              "    fill: var(--fill-color);\n",
              "    height: 32px;\n",
              "    padding: 0;\n",
              "    width: 32px;\n",
              "  }\n",
              "\n",
              "  .colab-df-quickchart:hover {\n",
              "    background-color: var(--hover-bg-color);\n",
              "    box-shadow: 0 1px 2px rgba(60, 64, 67, 0.3), 0 1px 3px 1px rgba(60, 64, 67, 0.15);\n",
              "    fill: var(--button-hover-fill-color);\n",
              "  }\n",
              "\n",
              "  .colab-df-quickchart-complete:disabled,\n",
              "  .colab-df-quickchart-complete:disabled:hover {\n",
              "    background-color: var(--disabled-bg-color);\n",
              "    fill: var(--disabled-fill-color);\n",
              "    box-shadow: none;\n",
              "  }\n",
              "\n",
              "  .colab-df-spinner {\n",
              "    border: 2px solid var(--fill-color);\n",
              "    border-color: transparent;\n",
              "    border-bottom-color: var(--fill-color);\n",
              "    animation:\n",
              "      spin 1s steps(1) infinite;\n",
              "  }\n",
              "\n",
              "  @keyframes spin {\n",
              "    0% {\n",
              "      border-color: transparent;\n",
              "      border-bottom-color: var(--fill-color);\n",
              "      border-left-color: var(--fill-color);\n",
              "    }\n",
              "    20% {\n",
              "      border-color: transparent;\n",
              "      border-left-color: var(--fill-color);\n",
              "      border-top-color: var(--fill-color);\n",
              "    }\n",
              "    30% {\n",
              "      border-color: transparent;\n",
              "      border-left-color: var(--fill-color);\n",
              "      border-top-color: var(--fill-color);\n",
              "      border-right-color: var(--fill-color);\n",
              "    }\n",
              "    40% {\n",
              "      border-color: transparent;\n",
              "      border-right-color: var(--fill-color);\n",
              "      border-top-color: var(--fill-color);\n",
              "    }\n",
              "    60% {\n",
              "      border-color: transparent;\n",
              "      border-right-color: var(--fill-color);\n",
              "    }\n",
              "    80% {\n",
              "      border-color: transparent;\n",
              "      border-right-color: var(--fill-color);\n",
              "      border-bottom-color: var(--fill-color);\n",
              "    }\n",
              "    90% {\n",
              "      border-color: transparent;\n",
              "      border-bottom-color: var(--fill-color);\n",
              "    }\n",
              "  }\n",
              "</style>\n",
              "\n",
              "  <script>\n",
              "    async function quickchart(key) {\n",
              "      const quickchartButtonEl =\n",
              "        document.querySelector('#' + key + ' button');\n",
              "      quickchartButtonEl.disabled = true;  // To prevent multiple clicks.\n",
              "      quickchartButtonEl.classList.add('colab-df-spinner');\n",
              "      try {\n",
              "        const charts = await google.colab.kernel.invokeFunction(\n",
              "            'suggestCharts', [key], {});\n",
              "      } catch (error) {\n",
              "        console.error('Error during call to suggestCharts:', error);\n",
              "      }\n",
              "      quickchartButtonEl.classList.remove('colab-df-spinner');\n",
              "      quickchartButtonEl.classList.add('colab-df-quickchart-complete');\n",
              "    }\n",
              "    (() => {\n",
              "      let quickchartButtonEl =\n",
              "        document.querySelector('#df-1671606b-3e61-4317-83cf-ef2facc9f760 button');\n",
              "      quickchartButtonEl.style.display =\n",
              "        google.colab.kernel.accessAllowed ? 'block' : 'none';\n",
              "    })();\n",
              "  </script>\n",
              "</div>\n",
              "    </div>\n",
              "  </div>\n"
            ]
          },
          "metadata": {},
          "execution_count": 22
        }
      ],
      "source": [
        "df_test.head()"
      ]
    },
    {
      "cell_type": "markdown",
      "metadata": {
        "id": "W3d5aHmELKIq"
      },
      "source": [
        "### Easy Data Augmentation\n",
        "[paper](https://arxiv.org/abs/1901.11196)"
      ]
    },
    {
      "cell_type": "code",
      "execution_count": 23,
      "metadata": {
        "id": "IW0UMU7pLKIq"
      },
      "outputs": [],
      "source": [
        "AUGMENT = False\n",
        "\n",
        "if AUGMENT:\n",
        "  nltk.download('wordnet')\n",
        "  aug_test = eda(\"ok, i am not doing this\", 0.2, 0.2, 0.2, 0.2, num_aug=2)\n",
        "  print(\"Augmentation test for a single sentence: \\n{}\".format(aug_test))\n",
        "\n",
        "  df = df_train[df_train['trigger']]\n",
        "\n",
        "  ignore = ['utterance_1101', 'utterance_1753', 'utterance_2822']\n",
        "\n",
        "  for i in ignore:\n",
        "    df = df[df['episode'] != i]\n",
        "\n",
        "  new_rows = []\n",
        "  for i in range(len(df)):\n",
        "      r = df.iloc[i].copy()\n",
        "      #print(r['episode'])\n",
        "      aug_utts = eda(r['utterance'],0.2,0.2,0.2,0.2, num_aug=4)\n",
        "      aug_hist = eda(r['history'],0.2,0.2,0.2,0.2, num_aug=4) if r['history'] != \"\" else \"\"\n",
        "\n",
        "      i = 0\n",
        "      for ut in aug_utts:\n",
        "          r['utterance'] = ut\n",
        "          r['history'] = aug_hist[i] if r['history'] != \"\" else \"\"\n",
        "          new_rows.append(r)\n",
        "\n",
        "          r = r.copy()\n",
        "          i += 1\n",
        "\n",
        "  new_df = pd.DataFrame(new_rows)\n",
        "  df_train = pd.concat([df_train,new_df]).reset_index(drop=True)\n",
        "  df_train"
      ]
    },
    {
      "cell_type": "markdown",
      "metadata": {
        "id": "9ybmu8XVbu0_"
      },
      "source": [
        "## Utils"
      ]
    },
    {
      "cell_type": "markdown",
      "metadata": {
        "id": "7BxS7InoAuFG"
      },
      "source": [
        "Create a folder for models checkpoints."
      ]
    },
    {
      "cell_type": "code",
      "execution_count": 24,
      "metadata": {
        "id": "X8wlLzAlAyKU"
      },
      "outputs": [],
      "source": [
        "models_dir = \"models_{}\".format(SEED)\n",
        "bertfull_folder = os.path.join(models_dir, \"full\")\n",
        "bertfreezed_folder = os.path.join(models_dir, \"freezed\")\n",
        "if not os.path.exists(bertfull_folder):\n",
        "    os.makedirs(bertfull_folder)\n",
        "if not os.path.exists(bertfreezed_folder):\n",
        "    os.makedirs(bertfreezed_folder)"
      ]
    },
    {
      "cell_type": "markdown",
      "metadata": {
        "id": "_Ax1wIOh4_M2"
      },
      "source": [
        "#### Save and load results"
      ]
    },
    {
      "cell_type": "code",
      "execution_count": 25,
      "metadata": {
        "execution": {
          "iopub.execute_input": "2023-01-19T17:59:25.394235Z",
          "iopub.status.busy": "2023-01-19T17:59:25.393525Z",
          "iopub.status.idle": "2023-01-19T17:59:25.404877Z",
          "shell.execute_reply": "2023-01-19T17:59:25.403762Z",
          "shell.execute_reply.started": "2023-01-19T17:59:25.394201Z"
        },
        "id": "LLIimUyScd66",
        "trusted": true
      },
      "outputs": [],
      "source": [
        "results_folder = \"results\"\n",
        "if not os.path.exists(results_folder):\n",
        "    os.makedirs(results_folder)\n",
        "\n",
        "def results_to_csv(df_results,\n",
        "                    seed):\n",
        "    '''\n",
        "    Args:\n",
        "        df_results: DataFrame with the all the scores\n",
        "        seed: the used seed\n",
        "    '''\n",
        "\n",
        "\n",
        "    csv_path = f\"{results_folder}/{seed}.csv\"\n",
        "    df_results.to_csv(path_or_buf=csv_path)"
      ]
    },
    {
      "cell_type": "code",
      "execution_count": 26,
      "metadata": {
        "execution": {
          "iopub.execute_input": "2023-01-19T17:59:25.407010Z",
          "iopub.status.busy": "2023-01-19T17:59:25.406558Z",
          "iopub.status.idle": "2023-01-19T17:59:25.416405Z",
          "shell.execute_reply": "2023-01-19T17:59:25.415413Z",
          "shell.execute_reply.started": "2023-01-19T17:59:25.406975Z"
        },
        "id": "1sFeuAYqcd67",
        "trusted": true
      },
      "outputs": [],
      "source": [
        "def results_from_csv(seed,\n",
        "                    ):\n",
        "    '''\n",
        "    Args:\n",
        "        seed: the wanted seed\n",
        "    '''\n",
        "    file_path = f\"results/{seed}.csv\"\n",
        "    df_results = pd.read_csv(file_path)\n",
        "\n",
        "    return df_results"
      ]
    },
    {
      "cell_type": "markdown",
      "metadata": {
        "id": "Wr9lF2r5LJfQ"
      },
      "source": [
        "### Pytorch Dataset"
      ]
    },
    {
      "cell_type": "code",
      "execution_count": 27,
      "metadata": {
        "id": "YmIVbhWPkD31"
      },
      "outputs": [],
      "source": [
        "class CreateDataset(Dataset):\n",
        "    def __init__(self, encodings):\n",
        "        self.encodings = encodings\n",
        "\n",
        "    def __getitem__(self, idx):\n",
        "        return {key: torch.tensor(val[idx]) for key, val in self.encodings.items()}\n",
        "\n",
        "    def __len__(self):\n",
        "        return len(self.encodings.input_ids)"
      ]
    },
    {
      "cell_type": "markdown",
      "metadata": {
        "id": "DnGwClzSyblO"
      },
      "source": [
        "### Model"
      ]
    },
    {
      "cell_type": "code",
      "execution_count": 28,
      "metadata": {
        "id": "mpikBPRtRG4A"
      },
      "outputs": [],
      "source": [
        "from transformers import DistilBertModel, BertModel\n",
        "import torch.nn as nn\n",
        "\n",
        "class CustomBERTModel(nn.Module):\n",
        "\n",
        "      def __init__(self,checkpoint, num_labels_emo, num_labels_tri):\n",
        "            super(CustomBERTModel, self).__init__()\n",
        "            self.num_labels_emo = num_labels_emo\n",
        "            self.num_labels_tri = num_labels_tri\n",
        "            self.bert = BertModel.from_pretrained(checkpoint)\n",
        "            ### New layers:\n",
        "            self.dropout = nn.Dropout(0.3)\n",
        "            self.cl1 = nn.Linear(self.bert.config.hidden_size, self.bert.config.hidden_size)\n",
        "            self.relu = nn.ReLU()\n",
        "            self.tanh = nn.Tanh()\n",
        "            self.cls_emo = nn.Linear(self.bert.config.hidden_size, num_labels_emo)\n",
        "            self.cls_tri = nn.Linear(self.bert.config.hidden_size, 1)\n",
        "\n",
        "      def forward(self, input_ids, attention_mask):\n",
        "            output = self.bert(\n",
        "                  input_ids,\n",
        "                  attention_mask=attention_mask,output_hidden_states=True )\n",
        "            #sequence_output = output[0]\n",
        "            #print(sequence_output.shape)\n",
        "            #the pooler output (CLS token+dense+tanh) contains the information\n",
        "            pooler_output = output.pooler_output\n",
        "            #take the output of the last 4 hidden states of Bert\n",
        "            output = torch.stack(output['hidden_states'][-4:])\n",
        "            #compute the mean of the CLS token of the last 4 layers\n",
        "            mean_pooler_output = torch.mean(torch.stack([output[layer_i,:,0,:] for layer_i in range(4)]),0)\n",
        "            #print(mean_pooler_output.size())\n",
        "            x = self.cl1(mean_pooler_output)\n",
        "            x_emo = self.tanh(x)\n",
        "            x_tri = self.relu(x)\n",
        "            x_emo = self.dropout(x_emo)\n",
        "            x_tri = self.dropout(x_tri)\n",
        "            x_emo = self.cls_emo(x_emo)\n",
        "            x_tri = self.cls_tri(x_tri)\n",
        "            x_tri = torch.nn.functional.sigmoid(x_tri)\n",
        "            return x_emo, x_tri"
      ]
    },
    {
      "cell_type": "code",
      "execution_count": 29,
      "metadata": {
        "id": "kf1Ki5WThvOH"
      },
      "outputs": [],
      "source": [
        "def getModel(model_checkpoint, num_labels_emo, num_labels_tri):\n",
        "\n",
        "  model = CustomBERTModel(model_checkpoint, num_labels_emo, num_labels_tri)\n",
        "  tokenizer = AutoTokenizer.from_pretrained(model_checkpoint, use_fast=False)\n",
        "\n",
        "  return model, tokenizer"
      ]
    },
    {
      "cell_type": "markdown",
      "metadata": {
        "id": "tNCU1n2ByYCz"
      },
      "source": [
        "### Training"
      ]
    },
    {
      "cell_type": "code",
      "execution_count": 30,
      "metadata": {
        "id": "5uz5yoMDetxV"
      },
      "outputs": [],
      "source": [
        "# Train one epoch\n",
        "def train(model: torch.nn.Module,\n",
        "          train_loader:torch.utils.data.DataLoader,\n",
        "          device: torch.device,\n",
        "          optimizer: torch.optim,\n",
        "          criterion: list,\n",
        "          epoch: int) -> float:\n",
        "    \"\"\"Trains a neural network for one epoch.\n",
        "\n",
        "    Args:\n",
        "        model: the model to train.\n",
        "        train_loader: the data loader containing the training data.\n",
        "        device: the device to use to train the model.\n",
        "        optimizer: the optimizer to use to train the model.\n",
        "        epoch: the number of the current epoch.\n",
        "\n",
        "    Returns:\n",
        "        the cross entropy Loss value on the training data.\n",
        "    \"\"\"\n",
        "    l_tri_weight = 1.0\n",
        "\n",
        "    size_ds_train = len(train_loader.dataset)\n",
        "    num_batches = len(train_loader)\n",
        "    loss_score = []\n",
        "    loop = tqdm(train_loader)\n",
        "    #set training mode\n",
        "    model.train()\n",
        "    for idx_batch, batch in enumerate(loop):\n",
        "        optimizer.zero_grad()\n",
        "        input_ids = batch['input_ids'].to(device)\n",
        "        attention_mask = batch['attention_mask'].to(device)\n",
        "        labels_emo = batch['labels_emo'].to(device)\n",
        "        labels_tri = batch['labels_tri'].to(device)\n",
        "        #print(f\"target-size: {labels.shape}\")\n",
        "        logits_emo, logits_tri = model(input_ids,\n",
        "                                        attention_mask=attention_mask,\n",
        "                                    )\n",
        "        #print(f\"logits-size: {logits.shape}\")\n",
        "        loss_emo = criterion[0](logits_emo, labels_emo)\n",
        "        loss_tri = criterion[1](logits_tri, labels_tri)\n",
        "        loss = loss_emo + l_tri_weight*loss_tri\n",
        "        loss_score.append(loss.item())\n",
        "        loss.backward()\n",
        "        optimizer.step()\n",
        "        loop.set_description(f'Epoch {epoch}')\n",
        "        loop.set_postfix(loss=loss.item())\n",
        "\n",
        "    loss_train = np.mean(loss_score)\n",
        "    return loss_train\n",
        "\n",
        "# Validate one epoch\n",
        "def validate(model: torch.nn.Module,\n",
        "             criterion: torch.nn.Module,\n",
        "             data_loader: torch.utils.data.DataLoader,\n",
        "             device: torch.device) -> float:\n",
        "    \"\"\"Evaluates the model.\n",
        "\n",
        "    Args:\n",
        "        model: the model to evalaute.\n",
        "        data_loader: the data loader containing the validation data.\n",
        "        device: the device to use to evaluate the model.\n",
        "\n",
        "    Returns:\n",
        "        the loss value on the validation data.\n",
        "    \"\"\"\n",
        "    loss_score = []\n",
        "    #set evaluation mode\n",
        "    model = model.eval()\n",
        "    with torch.no_grad():\n",
        "        for idx_batch, batch in enumerate(data_loader):\n",
        "            input_ids = batch['input_ids'].to(device)\n",
        "            attention_mask = batch['attention_mask'].to(device)\n",
        "            labels_emo = batch['labels_emo'].to(device)\n",
        "            labels_tri = batch['labels_tri'].to(device)\n",
        "            logits_emo, logits_tri = model(input_ids,\n",
        "                                            attention_mask=attention_mask,\n",
        "                                        )\n",
        "            loss_emo = criterion[0](logits_emo, labels_emo)\n",
        "            loss_tri = criterion[1](logits_tri, labels_tri)\n",
        "            loss = loss_emo + loss_tri\n",
        "            loss_score.append(loss.item())\n",
        "    loss_val = np.mean(loss_score)\n",
        "    return loss_val"
      ]
    },
    {
      "cell_type": "code",
      "execution_count": 31,
      "metadata": {
        "id": "nxblkDN_Yf1F"
      },
      "outputs": [],
      "source": [
        "def training_loop(num_epochs: int,\n",
        "                  optimizer: torch.optim,\n",
        "                  criterion: torch.nn.Module,\n",
        "                  model: torch.nn.Module,\n",
        "                  loader_train: torch.utils.data.DataLoader,\n",
        "                  loader_val : torch.utils.data.DataLoader = None,\n",
        "                  model_dir = \"models\",\n",
        "                  verbose: bool=True) -> Dict:\n",
        "    \"\"\"Executes the training loop.\n",
        "\n",
        "        Args:\n",
        "            num_epochs: the number of epochs.\n",
        "            optimizer: the optimizer to use.\n",
        "            model: the mode to train.\n",
        "            loader_train: the data loader containing the training data.\n",
        "            loader_val: the data loader containing the validation data.\n",
        "            verbose: if true print the value of loss.\n",
        "\n",
        "        Returns:\n",
        "            A dictionary with the statistics computed during the train:\n",
        "            the values for the train loss for each epoch.\n",
        "            the values for the validation loss for each epoch.\n",
        "            the time of execution in seconds for the entire loop.\n",
        "    \"\"\"\n",
        "    device = torch.device('cuda') if torch.cuda.is_available() else torch.device('cpu')\n",
        "    model.to(device)\n",
        "    loop_start = timer()\n",
        "    train_losses_values = []\n",
        "    val_losses_values = []\n",
        "\n",
        "    best_epoch = 1\n",
        "\n",
        "    for epoch in range(1, num_epochs + 1):\n",
        "        time_start = timer()\n",
        "        loss_train = train(model, loader_train, device,\n",
        "                                           optimizer, criterion, epoch)\n",
        "        if(loader_val != None):\n",
        "          loss_val = validate(model, criterion, loader_val, device)\n",
        "        else:\n",
        "          loss_val = 0\n",
        "        time_end = timer()\n",
        "        train_losses_values.append(loss_train)\n",
        "        val_losses_values.append(loss_val)\n",
        "\n",
        "        torch.save(model.state_dict(), os.path.join(model_dir, 'epoch-{}.pt'.format(epoch)))\n",
        "        best_epoch = np.argmin(val_losses_values)+1\n",
        "\n",
        "        if verbose:\n",
        "            print(f'Epoch: {epoch} '\n",
        "                  f' Lr: {lr:.8f} '\n",
        "                  f' Loss: Train = [{loss_train:.4f}] - Val = [{loss_val:.4f}] '\n",
        "                  f' Time one epoch (s): {(time_end - time_start):.4f} ')\n",
        "\n",
        "        if epoch >= 2:\n",
        "          if loss_val > val_losses_values[-2]:\n",
        "            if verbose:\n",
        "              print(\"Early Stopping. Best epoch: {}\".format(best_epoch))\n",
        "            break\n",
        "\n",
        "    loop_end = timer()\n",
        "    time_loop = loop_end - loop_start\n",
        "    if verbose:\n",
        "        print(f'Time for {num_epochs} epochs (s): {(time_loop):.3f}')\n",
        "\n",
        "    model.load_state_dict(torch.load(os.path.join(model_dir, 'epoch-{}.pt'.format(best_epoch))))\n",
        "\n",
        "    return {'train_loss_values': train_losses_values,\n",
        "            'val_loss_values' : val_losses_values,\n",
        "            'time': time_loop}"
      ]
    },
    {
      "cell_type": "markdown",
      "metadata": {
        "id": "VDNIeZNByTcM"
      },
      "source": [
        "### Execution"
      ]
    },
    {
      "cell_type": "code",
      "execution_count": 32,
      "metadata": {
        "id": "-NskXNZBhI5A"
      },
      "outputs": [],
      "source": [
        "from torch.utils.data import WeightedRandomSampler\n",
        "\n",
        "def execute(lr: float,\n",
        "            num_epochs: int,\n",
        "            batch_size: int,\n",
        "            criterion: torch.nn.Module,\n",
        "            num_labels_emo: int,\n",
        "            num_labels_tri: int,\n",
        "            data: pd.DataFrame,\n",
        "            data_labels_emo: pd.DataFrame,\n",
        "            data_labels_tri: pd.DataFrame,\n",
        "            val_df: pd.DataFrame,\n",
        "            val_labels_emo: pd.DataFrame,\n",
        "            val_labels_tri: pd.DataFrame,\n",
        "            model_name=\"\",\n",
        "            model=None,\n",
        "            tokenizer=None,\n",
        "            freeze_embeddings=False,\n",
        "            weighted_sampling=False\n",
        "            ) ->Tuple[torch.nn.Module, any]:\n",
        "    \"\"\"Gets the model, does the encodings of the training and validation data using the\n",
        "        tokenizer, and then executes the training loop.\n",
        "\n",
        "    Args:\n",
        "        lr: the learning rate.\n",
        "        num_epochs: the number of epochs.\n",
        "        batch_size: the batch size.\n",
        "        data: training-val dataframe.\n",
        "        data_labels: training-val labels dataframe.\n",
        "        val_df: validation dataframe.\n",
        "        model: the network to train.\n",
        "        history: questions-answers history flag.\n",
        "    \"\"\"\n",
        "\n",
        "    #train on full data\n",
        "    #get the model and the tokenizer, freeze the embedding layers of Bert if requested\n",
        "    if not model_name == \"\":\n",
        "      model, tokenizer = getModel(model_name, num_labels_emo, num_labels_tri)\n",
        "\n",
        "      if freeze_embeddings:\n",
        "         for param in model.bert.embeddings.parameters():\n",
        "            param.requires_grad = False\n",
        "    #Start encodings\n",
        "    #print(f'Train set:')\n",
        "    train_encodings = encode(tokenizer, data, data_labels_emo, data_labels_tri)\n",
        "    #print(f'Validation set:')\n",
        "    val_encodings = encode(tokenizer, val_df, val_labels_emo, val_labels_tri)\n",
        "    print(f'ENCODING COMPLETE.')\n",
        "    #create training dataset\n",
        "    train_dataset = CreateDataset(train_encodings)\n",
        "\n",
        "    # create weighted sampler to balance the dataset based on the trigger column\n",
        "    if weighted_sampling:\n",
        "        class_counts = data_labels_tri.value_counts()\n",
        "        class_weights = 1/class_counts\n",
        "        sample_weights = [1/class_counts[i] for i in data_labels_tri.values]\n",
        "        sampler = WeightedRandomSampler(weights=sample_weights, num_samples=len(data_labels_tri), replacement=True)\n",
        "        #create training dataloader\n",
        "        data_loader_train = torch.utils.data.DataLoader(train_dataset,\n",
        "                                            batch_size=batch_size,\n",
        "                                            sampler = sampler\n",
        "                                            )\n",
        "    # otherwise, create the standard dataloader\n",
        "    else:\n",
        "        data_loader_train = torch.utils.data.DataLoader(train_dataset,\n",
        "                                            batch_size=batch_size,\n",
        "                                            shuffle = True\n",
        "                                            )\n",
        "\n",
        "    #create validation dataset\n",
        "    val_dataset = CreateDataset(val_encodings)\n",
        "    #create validation dataloader\n",
        "    data_loader_val = torch.utils.data.DataLoader(val_dataset,\n",
        "                                          batch_size=batch_size,\n",
        "                                          shuffle = False\n",
        "                                          )\n",
        "    #Optimizer\n",
        "    optimizer = torch.optim.AdamW(model.parameters(), lr=lr, weight_decay=1.5e-2)\n",
        "    print(f'STARTING TRAINING with complete data:')\n",
        "    model_dir = bertfreezed_folder if freeze_embeddings else bertfull_folder\n",
        "    statistics = training_loop(num_epochs, optimizer, criterion, model,\n",
        "                              data_loader_train, data_loader_val, model_dir=model_dir)\n",
        "    print(f'TRAINING COMPLETE.')\n",
        "\n",
        "    return model, tokenizer, statistics"
      ]
    },
    {
      "cell_type": "markdown",
      "metadata": {
        "id": "u1HNY8CB5oId"
      },
      "source": [
        "### Evaluation"
      ]
    },
    {
      "cell_type": "code",
      "execution_count": 33,
      "metadata": {
        "id": "zJHqzQPD8K6Q"
      },
      "outputs": [],
      "source": [
        "def evaluate(model, data_loader, trigger_th=0.5, calculate_original=False):\n",
        "    device = torch.device('cuda') if torch.cuda.is_available() else torch.device('cpu')\n",
        "    model.eval()\n",
        "    model.to(device)\n",
        "    pred_emo = []\n",
        "    pred_tri = []\n",
        "    pred_tri_orig = []\n",
        "    with torch.no_grad():\n",
        "        for step_num, batch in tqdm(enumerate(data_loader)):\n",
        "            input_ids = batch['input_ids'].to(device)\n",
        "            attention_mask = batch['attention_mask'].to(device)\n",
        "            labels_emo = batch['labels_emo'].to(device)\n",
        "            labels_tri = batch['labels_tri'].to(device)\n",
        "            output = model(input_ids, attention_mask=attention_mask, )\n",
        "            p_emo, p_tri = output\n",
        "            p_emo = p_emo.cpu().detach().numpy()\n",
        "            p_tri = p_tri.cpu().detach().numpy().reshape(-1)\n",
        "            p_tri_filt = np.where(p_tri > trigger_th, 1, 0).astype(float)\n",
        "            pred_emo.append(np.argmax(p_emo,axis=-1))\n",
        "            pred_tri.append(p_tri_filt)\n",
        "            pred_tri_orig.append(p_tri)\n",
        "    pred_emo = np.concatenate(pred_emo)\n",
        "    pred_tri = np.concatenate(pred_tri)\n",
        "    pred_tri_orig = np.concatenate(pred_tri_orig)\n",
        "\n",
        "    return pred_emo, pred_tri, pred_tri_orig"
      ]
    },
    {
      "cell_type": "markdown",
      "metadata": {
        "id": "nqifN2aAygA0"
      },
      "source": [
        "### Encoding"
      ]
    },
    {
      "cell_type": "code",
      "execution_count": 67,
      "metadata": {
        "id": "CKi5YO3ZqDlH"
      },
      "outputs": [],
      "source": [
        "def encode(tokenizer, df, labels_emo, labels_tri):\n",
        "    #premise , stance, conclusion  --> premise, stance + conclusion\n",
        "    #append the stance to the conclusion by putting a separator between them\n",
        "  his_cur = df[\"history\"].str.cat(df[\"utterance\"])\n",
        "  encodings = tokenizer(list(df['history']),\n",
        "                        list(df['utterance']),\n",
        "                          padding=True,\n",
        "                          truncation=True,\n",
        "                          max_length = 512,\n",
        "                          )\n",
        "  encodings = tokenizer(list(his_cur),\n",
        "                        list(df['future']),\n",
        "                          padding=True,\n",
        "                          truncation=True,\n",
        "                          max_length = 512,\n",
        "                          )\n",
        "\n",
        "  input_ids, input_attention_mask = encodings['input_ids'], encodings['attention_mask']\n",
        "  print(f\"input shape: {np.shape(input_ids)}\")\n",
        "  encodings.update({'labels_emo' : torch.LongTensor(labels_emo.values)})\n",
        "  labels_tri = np.expand_dims(labels_tri.values, axis=1)\n",
        "  encodings.update({'labels_tri' : torch.FloatTensor(labels_tri)})\n",
        "  encodings.pop('token_type_ids')\n",
        "  return encodings"
      ]
    },
    {
      "cell_type": "code",
      "execution_count": 35,
      "metadata": {
        "id": "PFalynGpbzpJ"
      },
      "outputs": [],
      "source": [
        "model_checkpoint = 'bert-base-uncased'\n",
        "#device = torch.device('cuda') if torch.cuda.is_available() else torch.device('cpu')\n",
        "\n",
        "#eos_token  = tokenizer.cls_token_id\n",
        "#sep_token  = tokenizer.sep_token_id"
      ]
    },
    {
      "cell_type": "markdown",
      "metadata": {
        "id": "nRcHZEv1xX_c"
      },
      "source": [
        "## Model training"
      ]
    },
    {
      "cell_type": "code",
      "execution_count": 36,
      "metadata": {
        "id": "mbmP9h2lCEC_"
      },
      "outputs": [],
      "source": [
        "#parameters\n",
        "lr = 5e-5\n",
        "batch_size = 32\n",
        "epochs = 8\n",
        "criterion = [torch.nn.CrossEntropyLoss(), torch.nn.BCELoss()]"
      ]
    },
    {
      "cell_type": "markdown",
      "metadata": {
        "id": "uqEbJB4RJore"
      },
      "source": [
        "if you want to pass to the model the whole training set, change the code below"
      ]
    },
    {
      "cell_type": "code",
      "execution_count": 37,
      "metadata": {
        "id": "zVNJ1xmREcDw"
      },
      "outputs": [],
      "source": [
        "FAST_AND_SMALL = False\n",
        "\n",
        "num_labels_emo = len(df_train['labemo'].unique())\n",
        "num_labels_tri = len(df_train['trigger'].unique())\n",
        "\n",
        "if FAST_AND_SMALL:\n",
        "    df_train = df_train[:2000]\n",
        "    df_val = df_val[:1000]\n",
        "\n",
        "df_train_labels_emo = df_train['labemo']\n",
        "df_train_labels_tri = df_train['trigger']\n",
        "df_val_labels_emo = df_val['labemo']\n",
        "df_val_labels_tri = df_val['trigger']"
      ]
    },
    {
      "cell_type": "markdown",
      "metadata": {
        "id": "dNQaaj-3iGtS"
      },
      "source": [
        "## Execution - Fully fine-tuned Bert model"
      ]
    },
    {
      "cell_type": "code",
      "execution_count": null,
      "metadata": {
        "colab": {
          "base_uri": "https://localhost:8080/",
          "height": 596,
          "referenced_widgets": [
            "15e03794d31a42e8985d410ec1603782",
            "056c41f4fc27473aba94ad864863bcb6",
            "1daf443e316748028a5b3499896a415e",
            "adc724a3dcc744f4a27073860313b327",
            "6aaa1ceb7d2b49ffa41114cc0b6540f7",
            "d581841621b04851b0929f5c0959ff13",
            "4e10b1895b484ca289a880c35ccc3092",
            "c96a2a06ba1e44ecb5229bae674ff0b0",
            "7add3e14868949cc889ff2dac7b5f93e",
            "8311064f3f984e439f4e3ca223413739",
            "6731a003d37b4fce8660b5ac5b780eab",
            "54877d64664d477ba36642d6f0dc3ce5",
            "6a566e86b66944a5be44f5a61dd1e10b",
            "6980ab64a1894b1297174f8dba3f00f3",
            "eb9c0b28ea6d42dc983ac3b570b83863",
            "fd07dfd2e74543a5a1f75562f472235b",
            "f2522679a2b14db4b354b0d3474b9e84",
            "f77738879a844246920eb19edf9cb0ee",
            "746a8e1cc687499c93ab1798cd4639c3",
            "8654e2a8f73447b5b67d5ef8d9d63bd0",
            "4ffbeb21e4b94fed93a2540e69d1d63e",
            "92fb4737510143cbb0f1761297ef7132",
            "bb9173c0396e4e5188ddd5b2fe17ef27",
            "e40729472c074e5480d3801a4c72f893",
            "c723011611e04d9ca89f37f6c468442d",
            "9253f607d52a4a809ae7f4e8858b2dac",
            "417f2230a8d647e99d9cf87acd52acad",
            "f474fc9778d9417ab927de8a4876133b",
            "0bcede756890400291e859c3748b63d6",
            "7dca822b02114a5a89152c8ea884e087",
            "663491e20f2c487f95f64e47370b26c3",
            "f912438514484b08864034c2aa0cc6ae",
            "8c3569711c104898ad2fd3442108709c",
            "8224efe0c5cc44d1b0fcbd1b324e11ee",
            "9dbf4f0a49ed45bfb322bab5a4dacb53",
            "b2636bdae70a4413a77ccee2e6c07ccf",
            "5ad58c2744004a06b3136c9619768765",
            "0a3f6bffa6d24d7fbb81fa062cd28ea1",
            "de2c03593dbd4450a6370395b2876fb3",
            "e56f2768da334fd68ded86cb5b5c52ed",
            "8b14841f0b394696bd801d2afa6878fc",
            "4079e46c3e454496a27d30f5ea0afc52",
            "7a9b31c7edb24d5b98e5b7ad4f20457f",
            "b834b94f08f4451e8cd93153d09b4e09",
            "6bbab41db13840208c6253a0e7bce4ff",
            "ae19f7e41a1144dbbba7a8a4cadcf79a",
            "801e49b5ef9143ab8c7876bed23518c5",
            "3d06fc34e2314459b57a96ea103e66eb",
            "a6c974b9456d49c99448946d7c5beea7",
            "6418608c26824975981233668041746a",
            "abdd733960044064b6e09904d142237f",
            "ad7f76e378474e8999628f9fb90ea275",
            "a98df4292d21400fb71983e5a82f1b35",
            "daccb6497957413ba5537392dc1742ad",
            "fa6f75bc668f4b4e912b9fb4fc69d6d0"
          ]
        },
        "outputId": "dcf7e1d7-f49d-408e-9761-2dfb6de06f40",
        "id": "GiVT8f8vkoY5"
      },
      "outputs": [
        {
          "output_type": "stream",
          "name": "stderr",
          "text": [
            "/usr/local/lib/python3.10/dist-packages/huggingface_hub/utils/_token.py:72: UserWarning: \n",
            "The secret `HF_TOKEN` does not exist in your Colab secrets.\n",
            "To authenticate with the Hugging Face Hub, create a token in your settings tab (https://huggingface.co/settings/tokens), set it as secret in your Google Colab and restart your session.\n",
            "You will be able to reuse this secret in all of your notebooks.\n",
            "Please note that authentication is recommended but still optional to access public models or datasets.\n",
            "  warnings.warn(\n"
          ]
        },
        {
          "output_type": "display_data",
          "data": {
            "text/plain": [
              "config.json:   0%|          | 0.00/570 [00:00<?, ?B/s]"
            ],
            "application/vnd.jupyter.widget-view+json": {
              "version_major": 2,
              "version_minor": 0,
              "model_id": "15e03794d31a42e8985d410ec1603782"
            }
          },
          "metadata": {}
        },
        {
          "output_type": "display_data",
          "data": {
            "text/plain": [
              "model.safetensors:   0%|          | 0.00/440M [00:00<?, ?B/s]"
            ],
            "application/vnd.jupyter.widget-view+json": {
              "version_major": 2,
              "version_minor": 0,
              "model_id": "54877d64664d477ba36642d6f0dc3ce5"
            }
          },
          "metadata": {}
        },
        {
          "output_type": "display_data",
          "data": {
            "text/plain": [
              "tokenizer_config.json:   0%|          | 0.00/28.0 [00:00<?, ?B/s]"
            ],
            "application/vnd.jupyter.widget-view+json": {
              "version_major": 2,
              "version_minor": 0,
              "model_id": "bb9173c0396e4e5188ddd5b2fe17ef27"
            }
          },
          "metadata": {}
        },
        {
          "output_type": "display_data",
          "data": {
            "text/plain": [
              "vocab.txt:   0%|          | 0.00/232k [00:00<?, ?B/s]"
            ],
            "application/vnd.jupyter.widget-view+json": {
              "version_major": 2,
              "version_minor": 0,
              "model_id": "8224efe0c5cc44d1b0fcbd1b324e11ee"
            }
          },
          "metadata": {}
        },
        {
          "output_type": "display_data",
          "data": {
            "text/plain": [
              "tokenizer.json:   0%|          | 0.00/466k [00:00<?, ?B/s]"
            ],
            "application/vnd.jupyter.widget-view+json": {
              "version_major": 2,
              "version_minor": 0,
              "model_id": "6bbab41db13840208c6253a0e7bce4ff"
            }
          },
          "metadata": {}
        },
        {
          "output_type": "stream",
          "name": "stdout",
          "text": [
            "input shape: (27964, 151)\n",
            "input shape: (3519, 151)\n",
            "ENCODING COMPLETE.\n",
            "STARTING TRAINING with complete data:\n"
          ]
        },
        {
          "output_type": "stream",
          "name": "stderr",
          "text": [
            "\r  0%|          | 0/874 [00:00<?, ?it/s]<ipython-input-27-4004cf27e00a>:6: UserWarning: To copy construct from a tensor, it is recommended to use sourceTensor.clone().detach() or sourceTensor.clone().detach().requires_grad_(True), rather than torch.tensor(sourceTensor).\n",
            "  return {key: torch.tensor(val[idx]) for key, val in self.encodings.items()}\n",
            "Epoch 1: 100%|██████████| 874/874 [11:14<00:00,  1.30it/s, loss=0.854]\n"
          ]
        },
        {
          "output_type": "stream",
          "name": "stdout",
          "text": [
            "Epoch: 1  Lr: 0.00005000  Loss: Train = [1.3675] - Val = [0.8941]  Time one epoch (s): 705.3091 \n"
          ]
        },
        {
          "output_type": "stream",
          "name": "stderr",
          "text": [
            "Epoch 2: 100%|██████████| 874/874 [11:12<00:00,  1.30it/s, loss=0.573]\n"
          ]
        },
        {
          "output_type": "stream",
          "name": "stdout",
          "text": [
            "Epoch: 2  Lr: 0.00005000  Loss: Train = [0.6862] - Val = [0.6624]  Time one epoch (s): 703.5657 \n"
          ]
        },
        {
          "output_type": "stream",
          "name": "stderr",
          "text": [
            "Epoch 3: 100%|██████████| 874/874 [11:13<00:00,  1.30it/s, loss=0.487]\n"
          ]
        },
        {
          "output_type": "stream",
          "name": "stdout",
          "text": [
            "Epoch: 3  Lr: 0.00005000  Loss: Train = [0.5172] - Val = [0.6328]  Time one epoch (s): 704.1989 \n"
          ]
        },
        {
          "output_type": "stream",
          "name": "stderr",
          "text": [
            "Epoch 4: 100%|██████████| 874/874 [11:13<00:00,  1.30it/s, loss=0.478]\n"
          ]
        },
        {
          "output_type": "stream",
          "name": "stdout",
          "text": [
            "Epoch: 4  Lr: 0.00005000  Loss: Train = [0.4513] - Val = [0.6527]  Time one epoch (s): 704.0243 \n",
            "Early Stopping. Best epoch: 3\n",
            "Time for 8 epochs (s): 2841.327\n",
            "TRAINING COMPLETE.\n"
          ]
        }
      ],
      "source": [
        "#execute\n",
        "model_full, tokenizer_full, statistics_full = execute(lr, epochs, batch_size, criterion, num_labels_emo, num_labels_tri, df_train, df_train_labels_emo, df_train_labels_tri, df_val, df_val_labels_emo, df_val_labels_tri, model_name=model_checkpoint)"
      ]
    },
    {
      "cell_type": "markdown",
      "metadata": {
        "id": "d22-n6vcEIN7"
      },
      "source": [
        "### Evaluation"
      ]
    },
    {
      "cell_type": "code",
      "execution_count": 69,
      "metadata": {
        "id": "VbckJJkjEUZp"
      },
      "outputs": [],
      "source": [
        "#df_test_small = df_test\n",
        "df_test_labels_emo = df_test['labemo']\n",
        "df_test_labels_tri = df_test['trigger']"
      ]
    },
    {
      "cell_type": "code",
      "execution_count": 70,
      "metadata": {
        "colab": {
          "base_uri": "https://localhost:8080/"
        },
        "id": "HuLUh8TDEMg-",
        "outputId": "4e15d7e0-7e51-493b-f613-1d12bd530635"
      },
      "outputs": [
        {
          "output_type": "stream",
          "name": "stdout",
          "text": [
            "input shape: (3517, 124)\n"
          ]
        }
      ],
      "source": [
        "test_encodings = encode(tokenizer_full, df_test, df_test_labels_emo, df_test_labels_tri)\n",
        "#create training dataset\n",
        "test_dataset = CreateDataset(test_encodings)\n",
        "#create training dataloader\n",
        "test_dataloader = torch.utils.data.DataLoader(test_dataset,\n",
        "                                        batch_size=batch_size,\n",
        "                                        shuffle = False\n",
        "                                        )"
      ]
    },
    {
      "cell_type": "code",
      "execution_count": 71,
      "metadata": {
        "colab": {
          "base_uri": "https://localhost:8080/"
        },
        "id": "nsr2-99SKHor",
        "outputId": "6a3c6f96-6457-4112-e7c7-1845b74f8e9a"
      },
      "outputs": [
        {
          "output_type": "stream",
          "name": "stderr",
          "text": [
            "\r0it [00:00, ?it/s]<ipython-input-27-4004cf27e00a>:6: UserWarning: To copy construct from a tensor, it is recommended to use sourceTensor.clone().detach() or sourceTensor.clone().detach().requires_grad_(True), rather than torch.tensor(sourceTensor).\n",
            "  return {key: torch.tensor(val[idx]) for key, val in self.encodings.items()}\n",
            "110it [00:24,  4.49it/s]\n"
          ]
        }
      ],
      "source": [
        "test_pred_emo_full, test_pred_tri_full, test_pred_tri_full_original = evaluate(model_full, test_dataloader, trigger_th=0.5)"
      ]
    },
    {
      "cell_type": "code",
      "execution_count": 72,
      "metadata": {
        "id": "JJJ2OoX3spoV"
      },
      "outputs": [],
      "source": [
        "export_onnx = False\n",
        "\n",
        "# export ONNX file for Model Visualization in Netron.\n",
        "if export_onnx:\n",
        "  batch = next(iter(test_dataloader))\n",
        "  input_ids = batch['input_ids'].to(device)\n",
        "  attention_mask = batch['attention_mask'].to(device)\n",
        "  input = dict({'input_ids':input_ids, 'attention_mask':attention_mask})\n",
        "  torch.onnx.export(model_full, (input_ids, attention_mask), 'model_full.onnx', input_names=['input_ids','attention_mask'], output_names=['emotion_logits','trigger_logits'])"
      ]
    },
    {
      "cell_type": "code",
      "execution_count": 73,
      "metadata": {
        "colab": {
          "base_uri": "https://localhost:8080/",
          "height": 466
        },
        "id": "P5u88L2mmHp0",
        "outputId": "d21af845-b507-426a-a90a-61d47556f3c4"
      },
      "outputs": [
        {
          "output_type": "execute_result",
          "data": {
            "text/plain": [
              "<sklearn.metrics._plot.roc_curve.RocCurveDisplay at 0x7879e3a2af20>"
            ]
          },
          "metadata": {},
          "execution_count": 73
        },
        {
          "output_type": "display_data",
          "data": {
            "text/plain": [
              "<Figure size 640x480 with 1 Axes>"
            ],
            "image/png": "[encoded data removed]"
          },
          "metadata": {}
        }
      ],
      "source": [
        "from sklearn.metrics import roc_curve, auc, RocCurveDisplay\n",
        "\n",
        "fpr, tpr, thresholds  = roc_curve(df_test['trigger'].astype(int), test_pred_tri_full_original)\n",
        "roc_auc = auc(fpr, tpr)\n",
        "display = RocCurveDisplay(fpr=fpr, tpr=tpr, roc_auc=roc_auc,\n",
        "                                   estimator_name='example estimator')\n",
        "display.plot()"
      ]
    },
    {
      "cell_type": "code",
      "execution_count": 74,
      "metadata": {
        "colab": {
          "base_uri": "https://localhost:8080/"
        },
        "id": "vqRpj5nssqfZ",
        "outputId": "faf081e6-658a-433f-dab0-e780952f4247"
      },
      "outputs": [
        {
          "output_type": "stream",
          "name": "stdout",
          "text": [
            "The optimal threshold: 0.10908781737089157\n"
          ]
        }
      ],
      "source": [
        "optimal_idx = np.argmax(tpr - fpr)\n",
        "optimal_threshold = thresholds[optimal_idx]\n",
        "print(f'The optimal threshold: {optimal_threshold}')"
      ]
    },
    {
      "cell_type": "code",
      "execution_count": 75,
      "metadata": {
        "colab": {
          "base_uri": "https://localhost:8080/"
        },
        "id": "GNqaWoIftKMU",
        "outputId": "053ccf0f-e810-48c2-8db1-f2f791c66aeb"
      },
      "outputs": [
        {
          "output_type": "stream",
          "name": "stdout",
          "text": [
            "[4 4 3 5 6 4 1 5 4 4 3 5 6 4 1 5 4 4 3 6 3 4 4 0 0 4 4 5 6 0 4 4 5 6 5 0 5\n",
            " 4 5 4 4 4 4 4 3 0 0 0 4 4 4 4 3 4 3 2 4 5 6 4 3 3 3 3 3 3 3 4 4 4 4 3 4 3\n",
            " 3 3 3 3 3 3 4 4 4 4 3 3 3 6 4 6 4 3 3 3 3 3 4 4 6 4]\n",
            "[0. 0. 0. 0. 0. 0. 0. 0. 0. 0. 0. 0. 0. 0. 0. 0. 0. 0. 0. 0. 0. 0. 0. 0.\n",
            " 0. 0. 0. 0. 0. 0. 0. 0. 0. 0. 0. 0. 0. 0. 0. 0. 0. 0. 0. 0. 0. 0. 0. 0.\n",
            " 0. 0. 0. 0. 0. 0. 0. 0. 0. 0. 0. 0. 0. 0. 0. 0. 0. 0. 0. 0. 0. 0. 0. 0.\n",
            " 0. 0. 0. 0. 0. 0. 0. 0. 0. 0. 0. 0. 0. 0. 0. 0. 0. 0. 0. 0. 0. 0. 0. 0.\n",
            " 0. 0. 0. 0.]\n"
          ]
        }
      ],
      "source": [
        "print(test_pred_emo_full[:100])\n",
        "print(test_pred_tri_full[:100])"
      ]
    },
    {
      "cell_type": "code",
      "execution_count": 76,
      "metadata": {
        "id": "QCXJmhgYsmCs"
      },
      "outputs": [],
      "source": [
        "# free memory by deleting the model's reference\n",
        "del model_full\n",
        "gc.collect()\n",
        "torch.cuda.empty_cache()"
      ]
    },
    {
      "cell_type": "markdown",
      "metadata": {
        "id": "pi0bXaDmiGtS"
      },
      "source": [
        "## Execution - Freezed Bert's Embedding Layers"
      ]
    },
    {
      "cell_type": "code",
      "execution_count": null,
      "metadata": {
        "colab": {
          "base_uri": "https://localhost:8080/"
        },
        "id": "AAfEX-yXiGtT",
        "outputId": "193fcdcd-63a8-47b4-9632-bc062bbe8500"
      },
      "outputs": [
        {
          "name": "stderr",
          "output_type": "stream",
          "text": [
            "/usr/local/lib/python3.10/dist-packages/huggingface_hub/utils/_token.py:72: UserWarning: \n",
            "The secret `HF_TOKEN` does not exist in your Colab secrets.\n",
            "To authenticate with the Hugging Face Hub, create a token in your settings tab (https://huggingface.co/settings/tokens), set it as secret in your Google Colab and restart your session.\n",
            "You will be able to reuse this secret in all of your notebooks.\n",
            "Please note that authentication is recommended but still optional to access public models or datasets.\n",
            "  warnings.warn(\n"
          ]
        },
        {
          "name": "stdout",
          "output_type": "stream",
          "text": [
            "input shape: (27964, 128)\n",
            "input shape: (3519, 128)\n",
            "ENCODING COMPLETE.\n",
            "STARTING TRAINING with complete data:\n"
          ]
        },
        {
          "name": "stderr",
          "output_type": "stream",
          "text": [
            "\r  0%|          | 0/874 [00:00<?, ?it/s]<ipython-input-27-4004cf27e00a>:6: UserWarning: To copy construct from a tensor, it is recommended to use sourceTensor.clone().detach() or sourceTensor.clone().detach().requires_grad_(True), rather than torch.tensor(sourceTensor).\n",
            "  return {key: torch.tensor(val[idx]) for key, val in self.encodings.items()}\n",
            "Epoch 1: 100%|██████████| 874/874 [09:05<00:00,  1.60it/s, loss=0.562]\n"
          ]
        },
        {
          "name": "stdout",
          "output_type": "stream",
          "text": [
            "Epoch: 1  Lr: 0.00005000  Loss: Train = [1.2356] - Val = [0.7671]  Time one epoch (s): 570.2741 \n"
          ]
        },
        {
          "name": "stderr",
          "output_type": "stream",
          "text": [
            "Epoch 2: 100%|██████████| 874/874 [09:19<00:00,  1.56it/s, loss=0.764]\n"
          ]
        },
        {
          "name": "stdout",
          "output_type": "stream",
          "text": [
            "Epoch: 2  Lr: 0.00005000  Loss: Train = [0.6364] - Val = [0.6319]  Time one epoch (s): 584.1728 \n"
          ]
        },
        {
          "name": "stderr",
          "output_type": "stream",
          "text": [
            "Epoch 3: 100%|██████████| 874/874 [09:19<00:00,  1.56it/s, loss=0.474]\n"
          ]
        },
        {
          "name": "stdout",
          "output_type": "stream",
          "text": [
            "Epoch: 3  Lr: 0.00005000  Loss: Train = [0.4993] - Val = [0.6391]  Time one epoch (s): 584.3991 \n",
            "Early Stopping. Best epoch: 2\n",
            "Time for 8 epochs (s): 1757.295\n",
            "TRAINING COMPLETE.\n"
          ]
        }
      ],
      "source": [
        "#execute\n",
        "model_freezed, tokenizer_freezed, statistics_freezed = execute(lr, epochs, batch_size, criterion, num_labels_emo, num_labels_tri, df_train, df_train_labels_emo, df_train_labels_tri, df_val, df_val_labels_emo, df_val_labels_tri, model_name=model_checkpoint, freeze_embeddings=True)"
      ]
    },
    {
      "cell_type": "markdown",
      "metadata": {
        "id": "H2gphwhziGtT"
      },
      "source": [
        "### Evaluation"
      ]
    },
    {
      "cell_type": "code",
      "execution_count": null,
      "metadata": {
        "colab": {
          "base_uri": "https://localhost:8080/"
        },
        "id": "t85HeyyaiGtT",
        "outputId": "a106f810-db94-4c8a-c698-1998f0ff3b1c"
      },
      "outputs": [
        {
          "name": "stderr",
          "output_type": "stream",
          "text": [
            "\r0it [00:00, ?it/s]<ipython-input-27-4004cf27e00a>:6: UserWarning: To copy construct from a tensor, it is recommended to use sourceTensor.clone().detach() or sourceTensor.clone().detach().requires_grad_(True), rather than torch.tensor(sourceTensor).\n",
            "  return {key: torch.tensor(val[idx]) for key, val in self.encodings.items()}\n",
            "110it [00:23,  4.63it/s]\n"
          ]
        }
      ],
      "source": [
        "test_pred_emo_freezed, test_pred_tri_freezed, _ = evaluate(model_freezed, test_dataloader, trigger_th=0.5)"
      ]
    },
    {
      "cell_type": "code",
      "execution_count": null,
      "metadata": {
        "id": "3XbassmDspwI"
      },
      "outputs": [],
      "source": [
        "# free memory by deleting the model's reference\n",
        "del model_freezed\n",
        "gc.collect()\n",
        "torch.cuda.empty_cache()"
      ]
    },
    {
      "cell_type": "markdown",
      "metadata": {
        "id": "uPVCeY7HQa_T"
      },
      "source": [
        "## Reports\n",
        "Evaluate the models by using the Sequence F1 and the Unrolled Sequence F1 scores."
      ]
    },
    {
      "cell_type": "code",
      "execution_count": 51,
      "metadata": {
        "id": "0qRi-CTVyhGD"
      },
      "outputs": [],
      "source": [
        "from sklearn.metrics import f1_score\n",
        "\n",
        "def sequence_f1(data: pd.DataFrame):\n",
        "  '''input data has columns: episode, utterance, emotion, trigger, labemo, labtri, predicted_emo, predicted_tri\n",
        "      ground truth:   labemo, labtri\n",
        "      predicted:      predicted_emo, predicted_tri\n",
        "\n",
        "      we calculate the F1 scores dialog-wise, and then return the average'''\n",
        "\n",
        "  scores_emo = []\n",
        "  scores_tri = []\n",
        "\n",
        "  for ep in data['episode'].unique():\n",
        "    ep_data = data[data['episode'] == ep]\n",
        "\n",
        "    y_true = ep_data['labemo']\n",
        "    y_pred = ep_data['predicted_emo']\n",
        "    # TODO: I don't like -> data['labemo'].unique() => we should change it\n",
        "    scores_emo.append(f1_score(y_true, y_pred, labels=data['labemo'].unique(), average='micro'))\n",
        "\n",
        "    y_true = ep_data['trigger']\n",
        "    y_pred = ep_data['predicted_tri']\n",
        "    # TODO: I don't like -> data['labemo'].unique() => we should change it\n",
        "    scores_tri.append(f1_score(y_true, y_pred, labels=data['trigger'].unique(), average='micro'))\n",
        "  return np.mean(scores_emo), np.mean(scores_tri)\n",
        "\n",
        "def unrolled_f1(data: pd.DataFrame):\n",
        "  '''input data has columns: episode, utterance, emotion, trigger, labemo, labtri, predicted_emo, predicted_tri\n",
        "      ground truth:   labemo, labtri\n",
        "      predicted:      predicted_emo, predicted_tri\n",
        "\n",
        "      we calculate the F1 scores on the whole dataset'''\n",
        "  y_true = data['labemo']\n",
        "  y_pred = data['predicted_emo']\n",
        "  # TODO: I don't like -> data['labemo'].unique() => we should change it\n",
        "  # TODO: Is it ok if we do 'macro' average?\n",
        "  f1_emotion = f1_score(y_true, y_pred, labels=data['labemo'].unique(), average='macro')\n",
        "\n",
        "  y_true = data['trigger']\n",
        "  y_pred = data['predicted_tri']\n",
        "  # TODO: I don't like -> data['labemo'].unique() => we should change it\n",
        "  # TODO: Is it ok if we do 'macro' average?\n",
        "  f1_trigger = f1_score(y_true, y_pred, labels=data['trigger'].unique(), average='macro')\n",
        "  return f1_emotion, f1_trigger\n",
        "\n",
        "def unrolled_f1micro(data: pd.DataFrame):\n",
        "  '''input data has columns: episode, utterance, emotion, trigger, labemo, labtri, predicted_emo, predicted_tri\n",
        "      ground truth:   labemo, labtri\n",
        "      predicted:      predicted_emo, predicted_tri\n",
        "\n",
        "      we calculate the F1 scores on the whole dataset'''\n",
        "  y_true = data['labemo']\n",
        "  y_pred = data['predicted_emo']\n",
        "  # TODO: I don't like -> data['labemo'].unique() => we should change it\n",
        "  # TODO: Is it ok if we do 'macro' average?\n",
        "  f1_emotion = f1_score(y_true, y_pred, labels=data['labemo'].unique(), average='micro')\n",
        "\n",
        "  y_true = data['trigger']\n",
        "  y_pred = data['predicted_tri']\n",
        "  # TODO: I don't like -> data['labemo'].unique() => we should change it\n",
        "  # TODO: Is it ok if we do 'macro' average?\n",
        "  f1_trigger = f1_score(y_true, y_pred, labels=data['trigger'].unique(), average='micro')\n",
        "  return f1_emotion, f1_trigger\n",
        "\n",
        "def complete_f1_report(data: pd.DataFrame, model_str: str):\n",
        "  print(\"F1 score report - {}\".format(model_str))\n",
        "  print()\n",
        "  print(\"Average Sequence F1 score micro\")\n",
        "  s_e, s_t = sequence_f1(data)\n",
        "  print(\"- - Emotion average F1 Score:\\t{}\".format(s_e))\n",
        "  print(\"- - Triggers average F1 Score:\\t{}\".format(s_t))\n",
        "  print()\n",
        "  print(\"Unrolled Sequence F1 score micro\")\n",
        "  um_e, um_t = unrolled_f1micro(data)\n",
        "  print(\"- - Emotion average F1 Score:\\t{}\".format(um_e))\n",
        "  print(\"- - Triggers average F1 Score:\\t{}\".format(um_t))\n",
        "  print()\n",
        "  print(\"Unrolled Sequence F1 score macro\")\n",
        "  us_e, us_t = unrolled_f1(data)\n",
        "  print(\"- - Emotion average F1 Score:\\t{}\".format(us_e))\n",
        "  print(\"- - Triggers average F1 Score:\\t{}\".format(us_t))\n",
        "  scores = {'s_e' : s_e,\n",
        "            's_t' : s_t,\n",
        "            'us_e' : us_e,\n",
        "            'us_t' : us_t,\n",
        "            'um_e': um_e,\n",
        "            'um_t': um_t}\n",
        "  return scores"
      ]
    },
    {
      "cell_type": "code",
      "execution_count": 47,
      "metadata": {
        "colab": {
          "base_uri": "https://localhost:8080/"
        },
        "id": "Pq-ki00p9MhJ",
        "outputId": "90f518c2-886f-4340-ec4c-13d2fe47ed59"
      },
      "outputs": [
        {
          "output_type": "execute_result",
          "data": {
            "text/plain": [
              "{'neutral': 12148,\n",
              " 'surprise': 3702,\n",
              " 'fear': 893,\n",
              " 'sadness': 2121,\n",
              " 'joy': 5063,\n",
              " 'disgust': 862,\n",
              " 'anger': 3175}"
            ]
          },
          "metadata": {},
          "execution_count": 47
        }
      ],
      "source": [
        "def update_count_dictionary(key:str, d_em:dict):\n",
        "    ''' Given in input a dictionary and a string key, it counts the times\n",
        "        that key has been added.'''\n",
        "    if key in d_em.keys():\n",
        "        d_em[key] += 1\n",
        "    else:\n",
        "        d_em[key] = 1\n",
        "\n",
        "raw_emotions_dict = dict()\n",
        "[update_count_dictionary(emotion, raw_emotions_dict) for emotion in df_train['emotion']]\n",
        "raw_emotions_dict"
      ]
    },
    {
      "cell_type": "code",
      "execution_count": 48,
      "metadata": {
        "colab": {
          "base_uri": "https://localhost:8080/"
        },
        "id": "vPMhLf3BzJ7c",
        "outputId": "c82ec2f5-03a2-4b6f-d6d3-ae4bcc38ba70"
      },
      "outputs": [
        {
          "output_type": "execute_result",
          "data": {
            "text/plain": [
              "{4: 12148, 6: 3702, 2: 893, 5: 2121, 3: 5063, 1: 862, 0: 3175}"
            ]
          },
          "metadata": {},
          "execution_count": 48
        }
      ],
      "source": [
        "emotions_dict = dict()\n",
        "[update_count_dictionary(emotion, emotions_dict) for emotion in df_train['labemo']]\n",
        "emotions_dict"
      ]
    },
    {
      "cell_type": "markdown",
      "metadata": {
        "id": "AVJIVHCHRET5"
      },
      "source": [
        "### Baseline: Random Classifier"
      ]
    },
    {
      "cell_type": "code",
      "execution_count": null,
      "metadata": {
        "colab": {
          "base_uri": "https://localhost:8080/"
        },
        "id": "hSXtmUZQRF15",
        "outputId": "31160182-3406-4b83-fe95-934d453d7c15"
      },
      "outputs": [
        {
          "name": "stdout",
          "output_type": "stream",
          "text": [
            "A test for the dumb random classifier:\n",
            "\t\tinput: Oh God! I'm dumb..\n",
            "\t\toutput: emotion:[6], trigger:[True]\n"
          ]
        }
      ],
      "source": [
        "class Random_Classifier():\n",
        "    '''It is trained on a dataset using the emotion and trigger columns.\n",
        "        It's output on the forward method will be always a random emotion\n",
        "        and trigger.'''\n",
        "\n",
        "    def __init__(self):\n",
        "        self.emotions = []\n",
        "        self.triggers = []\n",
        "\n",
        "    def train(self, dataset:pd.DataFrame):\n",
        "        '''Input a dataset with the emotion and trigger columns.'''\n",
        "\n",
        "        emotions = dict()\n",
        "        triggers = dict()\n",
        "\n",
        "        for em, tr in dataset[['labemo','trigger']].values:\n",
        "            update_count_dictionary(em, emotions)\n",
        "            update_count_dictionary(tr, triggers)\n",
        "\n",
        "        self.emotions = [d for d in emotions.keys()]\n",
        "        self.triggers = [d for d in triggers.keys()]\n",
        "        self.n_em = len(self.emotions)\n",
        "        self.n_tr = len(self.triggers)\n",
        "\n",
        "\n",
        "    def forward(self, dataset: pd.DataFrame):\n",
        "        '''The input is ignored. This method can be modified. It is intended to\n",
        "            mimic the forward method of an ML model such that it usable in the same way.'''\n",
        "        return [np.random.choice(self.emotions) for row in range(dataset.shape[0])], [np.random.choice(self.triggers) for row in range(dataset.shape[0])]\n",
        "\n",
        "\n",
        "dumb_random = Random_Classifier()\n",
        "dumb_random.train(df_train)\n",
        "\n",
        "print(\"A test for the dumb random classifier:\")\n",
        "print(\"\\t\\tinput: Oh God! I'm dumb..\")\n",
        "\n",
        "e, t = dumb_random.forward(pd.DataFrame([\"Oh God! I'm dumb..\"]))\n",
        "print(\"\\t\\toutput: emotion:{}, trigger:{}\".format(e,t))"
      ]
    },
    {
      "cell_type": "code",
      "execution_count": null,
      "metadata": {
        "colab": {
          "base_uri": "https://localhost:8080/",
          "height": 414
        },
        "id": "ZMluMXC5568B",
        "outputId": "8ef2ffd3-f46d-4ada-ac35-d9717fb15e57"
      },
      "outputs": [
        {
          "name": "stderr",
          "output_type": "stream",
          "text": [
            "<ipython-input-55-ee1b1f393093>:4: SettingWithCopyWarning: \n",
            "A value is trying to be set on a copy of a slice from a DataFrame.\n",
            "Try using .loc[row_indexer,col_indexer] = value instead\n",
            "\n",
            "See the caveats in the documentation: https://pandas.pydata.org/pandas-docs/stable/user_guide/indexing.html#returning-a-view-versus-a-copy\n",
            "  df_test.loc[:,('predicted_emo')] = e\n",
            "<ipython-input-55-ee1b1f393093>:5: SettingWithCopyWarning: \n",
            "A value is trying to be set on a copy of a slice from a DataFrame.\n",
            "Try using .loc[row_indexer,col_indexer] = value instead\n",
            "\n",
            "See the caveats in the documentation: https://pandas.pydata.org/pandas-docs/stable/user_guide/indexing.html#returning-a-view-versus-a-copy\n",
            "  df_test.loc[:,('predicted_tri')] = t\n"
          ]
        },
        {
          "data": {
            "text/html": [
              "\n",
              "  <div id=\"df-5f0515eb-9ca1-4c8f-9f73-593360148935\" class=\"colab-df-container\">\n",
              "    <div>\n",
              "<style scoped>\n",
              "    .dataframe tbody tr th:only-of-type {\n",
              "        vertical-align: middle;\n",
              "    }\n",
              "\n",
              "    .dataframe tbody tr th {\n",
              "        vertical-align: top;\n",
              "    }\n",
              "\n",
              "    .dataframe thead th {\n",
              "        text-align: right;\n",
              "    }\n",
              "</style>\n",
              "<table border=\"1\" class=\"dataframe\">\n",
              "  <thead>\n",
              "    <tr style=\"text-align: right;\">\n",
              "      <th></th>\n",
              "      <th>episode</th>\n",
              "      <th>utterance</th>\n",
              "      <th>history</th>\n",
              "      <th>emotion</th>\n",
              "      <th>trigger</th>\n",
              "      <th>labemo</th>\n",
              "      <th>predicted_emo</th>\n",
              "      <th>predicted_tri</th>\n",
              "    </tr>\n",
              "  </thead>\n",
              "  <tbody>\n",
              "    <tr>\n",
              "      <th>77</th>\n",
              "      <td>utterance_12</td>\n",
              "      <td>Hey, Mon.</td>\n",
              "      <td></td>\n",
              "      <td>neutral</td>\n",
              "      <td>False</td>\n",
              "      <td>4</td>\n",
              "      <td>4</td>\n",
              "      <td>True</td>\n",
              "    </tr>\n",
              "    <tr>\n",
              "      <th>78</th>\n",
              "      <td>utterance_12</td>\n",
              "      <td>Hey-hey-hey. You wanna hear something that sucks.</td>\n",
              "      <td>Hey, Mon.</td>\n",
              "      <td>neutral</td>\n",
              "      <td>False</td>\n",
              "      <td>4</td>\n",
              "      <td>5</td>\n",
              "      <td>False</td>\n",
              "    </tr>\n",
              "    <tr>\n",
              "      <th>79</th>\n",
              "      <td>utterance_12</td>\n",
              "      <td>Do I ever.</td>\n",
              "      <td>Hey, Mon. Hey-hey-hey. You wanna hear somethin...</td>\n",
              "      <td>joy</td>\n",
              "      <td>False</td>\n",
              "      <td>3</td>\n",
              "      <td>6</td>\n",
              "      <td>True</td>\n",
              "    </tr>\n",
              "    <tr>\n",
              "      <th>80</th>\n",
              "      <td>utterance_12</td>\n",
              "      <td>Chris says they're closing down the bar.</td>\n",
              "      <td>Hey-hey-hey. You wanna hear something that suc...</td>\n",
              "      <td>sadness</td>\n",
              "      <td>True</td>\n",
              "      <td>5</td>\n",
              "      <td>1</td>\n",
              "      <td>True</td>\n",
              "    </tr>\n",
              "    <tr>\n",
              "      <th>81</th>\n",
              "      <td>utterance_12</td>\n",
              "      <td>No way!</td>\n",
              "      <td>Do I ever. Chris says they're closing down the...</td>\n",
              "      <td>surprise</td>\n",
              "      <td>False</td>\n",
              "      <td>6</td>\n",
              "      <td>3</td>\n",
              "      <td>False</td>\n",
              "    </tr>\n",
              "  </tbody>\n",
              "</table>\n",
              "</div>\n",
              "    <div class=\"colab-df-buttons\">\n",
              "\n",
              "  <div class=\"colab-df-container\">\n",
              "    <button class=\"colab-df-convert\" onclick=\"convertToInteractive('df-5f0515eb-9ca1-4c8f-9f73-593360148935')\"\n",
              "            title=\"Convert this dataframe to an interactive table.\"\n",
              "            style=\"display:none;\">\n",
              "\n",
              "  <svg xmlns=\"http://www.w3.org/2000/svg\" height=\"24px\" viewBox=\"0 -960 960 960\">\n",
              "    <path d=\"M120-120v-720h720v720H120Zm60-500h600v-160H180v160Zm220 220h160v-160H400v160Zm0 220h160v-160H400v160ZM180-400h160v-160H180v160Zm440 0h160v-160H620v160ZM180-180h160v-160H180v160Zm440 0h160v-160H620v160Z\"/>\n",
              "  </svg>\n",
              "    </button>\n",
              "\n",
              "  <style>\n",
              "    .colab-df-container {\n",
              "      display:flex;\n",
              "      gap: 12px;\n",
              "    }\n",
              "\n",
              "    .colab-df-convert {\n",
              "      background-color: #E8F0FE;\n",
              "      border: none;\n",
              "      border-radius: 50%;\n",
              "      cursor: pointer;\n",
              "      display: none;\n",
              "      fill: #1967D2;\n",
              "      height: 32px;\n",
              "      padding: 0 0 0 0;\n",
              "      width: 32px;\n",
              "    }\n",
              "\n",
              "    .colab-df-convert:hover {\n",
              "      background-color: #E2EBFA;\n",
              "      box-shadow: 0px 1px 2px rgba(60, 64, 67, 0.3), 0px 1px 3px 1px rgba(60, 64, 67, 0.15);\n",
              "      fill: #174EA6;\n",
              "    }\n",
              "\n",
              "    .colab-df-buttons div {\n",
              "      margin-bottom: 4px;\n",
              "    }\n",
              "\n",
              "    [theme=dark] .colab-df-convert {\n",
              "      background-color: #3B4455;\n",
              "      fill: #D2E3FC;\n",
              "    }\n",
              "\n",
              "    [theme=dark] .colab-df-convert:hover {\n",
              "      background-color: #434B5C;\n",
              "      box-shadow: 0px 1px 3px 1px rgba(0, 0, 0, 0.15);\n",
              "      filter: drop-shadow(0px 1px 2px rgba(0, 0, 0, 0.3));\n",
              "      fill: #FFFFFF;\n",
              "    }\n",
              "  </style>\n",
              "\n",
              "    <script>\n",
              "      const buttonEl =\n",
              "        document.querySelector('#df-5f0515eb-9ca1-4c8f-9f73-593360148935 button.colab-df-convert');\n",
              "      buttonEl.style.display =\n",
              "        google.colab.kernel.accessAllowed ? 'block' : 'none';\n",
              "\n",
              "      async function convertToInteractive(key) {\n",
              "        const element = document.querySelector('#df-5f0515eb-9ca1-4c8f-9f73-593360148935');\n",
              "        const dataTable =\n",
              "          await google.colab.kernel.invokeFunction('convertToInteractive',\n",
              "                                                    [key], {});\n",
              "        if (!dataTable) return;\n",
              "\n",
              "        const docLinkHtml = 'Like what you see? Visit the ' +\n",
              "          '<a target=\"_blank\" href=https://colab.research.google.com/notebooks/data_table.ipynb>data table notebook</a>'\n",
              "          + ' to learn more about interactive tables.';\n",
              "        element.innerHTML = '';\n",
              "        dataTable['output_type'] = 'display_data';\n",
              "        await google.colab.output.renderOutput(dataTable, element);\n",
              "        const docLink = document.createElement('div');\n",
              "        docLink.innerHTML = docLinkHtml;\n",
              "        element.appendChild(docLink);\n",
              "      }\n",
              "    </script>\n",
              "  </div>\n",
              "\n",
              "\n",
              "<div id=\"df-2e10cb91-5c8f-4600-bcb6-aa35ab8263e1\">\n",
              "  <button class=\"colab-df-quickchart\" onclick=\"quickchart('df-2e10cb91-5c8f-4600-bcb6-aa35ab8263e1')\"\n",
              "            title=\"Suggest charts\"\n",
              "            style=\"display:none;\">\n",
              "\n",
              "<svg xmlns=\"http://www.w3.org/2000/svg\" height=\"24px\"viewBox=\"0 0 24 24\"\n",
              "     width=\"24px\">\n",
              "    <g>\n",
              "        <path d=\"M19 3H5c-1.1 0-2 .9-2 2v14c0 1.1.9 2 2 2h14c1.1 0 2-.9 2-2V5c0-1.1-.9-2-2-2zM9 17H7v-7h2v7zm4 0h-2V7h2v10zm4 0h-2v-4h2v4z\"/>\n",
              "    </g>\n",
              "</svg>\n",
              "  </button>\n",
              "\n",
              "<style>\n",
              "  .colab-df-quickchart {\n",
              "      --bg-color: #E8F0FE;\n",
              "      --fill-color: #1967D2;\n",
              "      --hover-bg-color: #E2EBFA;\n",
              "      --hover-fill-color: #174EA6;\n",
              "      --disabled-fill-color: #AAA;\n",
              "      --disabled-bg-color: #DDD;\n",
              "  }\n",
              "\n",
              "  [theme=dark] .colab-df-quickchart {\n",
              "      --bg-color: #3B4455;\n",
              "      --fill-color: #D2E3FC;\n",
              "      --hover-bg-color: #434B5C;\n",
              "      --hover-fill-color: #FFFFFF;\n",
              "      --disabled-bg-color: #3B4455;\n",
              "      --disabled-fill-color: #666;\n",
              "  }\n",
              "\n",
              "  .colab-df-quickchart {\n",
              "    background-color: var(--bg-color);\n",
              "    border: none;\n",
              "    border-radius: 50%;\n",
              "    cursor: pointer;\n",
              "    display: none;\n",
              "    fill: var(--fill-color);\n",
              "    height: 32px;\n",
              "    padding: 0;\n",
              "    width: 32px;\n",
              "  }\n",
              "\n",
              "  .colab-df-quickchart:hover {\n",
              "    background-color: var(--hover-bg-color);\n",
              "    box-shadow: 0 1px 2px rgba(60, 64, 67, 0.3), 0 1px 3px 1px rgba(60, 64, 67, 0.15);\n",
              "    fill: var(--button-hover-fill-color);\n",
              "  }\n",
              "\n",
              "  .colab-df-quickchart-complete:disabled,\n",
              "  .colab-df-quickchart-complete:disabled:hover {\n",
              "    background-color: var(--disabled-bg-color);\n",
              "    fill: var(--disabled-fill-color);\n",
              "    box-shadow: none;\n",
              "  }\n",
              "\n",
              "  .colab-df-spinner {\n",
              "    border: 2px solid var(--fill-color);\n",
              "    border-color: transparent;\n",
              "    border-bottom-color: var(--fill-color);\n",
              "    animation:\n",
              "      spin 1s steps(1) infinite;\n",
              "  }\n",
              "\n",
              "  @keyframes spin {\n",
              "    0% {\n",
              "      border-color: transparent;\n",
              "      border-bottom-color: var(--fill-color);\n",
              "      border-left-color: var(--fill-color);\n",
              "    }\n",
              "    20% {\n",
              "      border-color: transparent;\n",
              "      border-left-color: var(--fill-color);\n",
              "      border-top-color: var(--fill-color);\n",
              "    }\n",
              "    30% {\n",
              "      border-color: transparent;\n",
              "      border-left-color: var(--fill-color);\n",
              "      border-top-color: var(--fill-color);\n",
              "      border-right-color: var(--fill-color);\n",
              "    }\n",
              "    40% {\n",
              "      border-color: transparent;\n",
              "      border-right-color: var(--fill-color);\n",
              "      border-top-color: var(--fill-color);\n",
              "    }\n",
              "    60% {\n",
              "      border-color: transparent;\n",
              "      border-right-color: var(--fill-color);\n",
              "    }\n",
              "    80% {\n",
              "      border-color: transparent;\n",
              "      border-right-color: var(--fill-color);\n",
              "      border-bottom-color: var(--fill-color);\n",
              "    }\n",
              "    90% {\n",
              "      border-color: transparent;\n",
              "      border-bottom-color: var(--fill-color);\n",
              "    }\n",
              "  }\n",
              "</style>\n",
              "\n",
              "  <script>\n",
              "    async function quickchart(key) {\n",
              "      const quickchartButtonEl =\n",
              "        document.querySelector('#' + key + ' button');\n",
              "      quickchartButtonEl.disabled = true;  // To prevent multiple clicks.\n",
              "      quickchartButtonEl.classList.add('colab-df-spinner');\n",
              "      try {\n",
              "        const charts = await google.colab.kernel.invokeFunction(\n",
              "            'suggestCharts', [key], {});\n",
              "      } catch (error) {\n",
              "        console.error('Error during call to suggestCharts:', error);\n",
              "      }\n",
              "      quickchartButtonEl.classList.remove('colab-df-spinner');\n",
              "      quickchartButtonEl.classList.add('colab-df-quickchart-complete');\n",
              "    }\n",
              "    (() => {\n",
              "      let quickchartButtonEl =\n",
              "        document.querySelector('#df-2e10cb91-5c8f-4600-bcb6-aa35ab8263e1 button');\n",
              "      quickchartButtonEl.style.display =\n",
              "        google.colab.kernel.accessAllowed ? 'block' : 'none';\n",
              "    })();\n",
              "  </script>\n",
              "</div>\n",
              "    </div>\n",
              "  </div>\n"
            ],
            "text/plain": [
              "         episode                                          utterance  \\\n",
              "77  utterance_12                                          Hey, Mon.   \n",
              "78  utterance_12  Hey-hey-hey. You wanna hear something that sucks.   \n",
              "79  utterance_12                                         Do I ever.   \n",
              "80  utterance_12           Chris says they're closing down the bar.   \n",
              "81  utterance_12                                            No way!   \n",
              "\n",
              "                                              history   emotion  trigger  \\\n",
              "77                                                      neutral    False   \n",
              "78                                          Hey, Mon.   neutral    False   \n",
              "79  Hey, Mon. Hey-hey-hey. You wanna hear somethin...       joy    False   \n",
              "80  Hey-hey-hey. You wanna hear something that suc...   sadness     True   \n",
              "81  Do I ever. Chris says they're closing down the...  surprise    False   \n",
              "\n",
              "    labemo  predicted_emo  predicted_tri  \n",
              "77       4              4           True  \n",
              "78       4              5          False  \n",
              "79       3              6           True  \n",
              "80       5              1           True  \n",
              "81       6              3          False  "
            ]
          },
          "execution_count": 55,
          "metadata": {},
          "output_type": "execute_result"
        }
      ],
      "source": [
        "random_pred_emo = []\n",
        "random_pred_tri = []\n",
        "e, t = dumb_random.forward(df_test)\n",
        "df_test.loc[:,('predicted_emo')] = e\n",
        "df_test.loc[:,('predicted_tri')] = t\n",
        "df_test.head(5)"
      ]
    },
    {
      "cell_type": "code",
      "execution_count": null,
      "metadata": {
        "colab": {
          "base_uri": "https://localhost:8080/"
        },
        "id": "B0PrE5M35-XY",
        "outputId": "d0e832eb-32e7-4bd8-f52c-ab8b2916a38f"
      },
      "outputs": [
        {
          "name": "stdout",
          "output_type": "stream",
          "text": [
            "F1 score report - Random classifier\n",
            "\n",
            "Average Sequence F1 score\n",
            "- - Emotion average F1 Score:\t0.1492116793800567\n",
            "- - Triggers average F1 Score:\t0.5126785772295935\n",
            "\n",
            "Unrolled Sequence F1 score\n",
            "- - Emotion average F1 Score:\t0.12613540583669144\n",
            "- - Triggers average F1 Score:\t0.44270237745774565\n",
            "\n",
            "Unrolled Sequence F1 score MICRO\n",
            "- - Emotion average F1 Score:\t0.14899061700312766\n",
            "- - Triggers average F1 Score:\t0.5063974978675007\n"
          ]
        }
      ],
      "source": [
        "rand_scores = complete_f1_report(df_test, \"Random classifier\")"
      ]
    },
    {
      "cell_type": "markdown",
      "metadata": {
        "id": "UNRxqX4M9MhJ"
      },
      "source": [
        "### Baseline: Majority Classifier"
      ]
    },
    {
      "cell_type": "code",
      "execution_count": null,
      "metadata": {
        "colab": {
          "base_uri": "https://localhost:8080/"
        },
        "id": "AyDhFI2H9MhJ",
        "outputId": "17bba091-6285-4efd-b058-e8e7664003ce"
      },
      "outputs": [
        {
          "name": "stdout",
          "output_type": "stream",
          "text": [
            "The majority emotion is: 4\n",
            "The majority trigger is: False\n",
            "\n",
            "A test for the dumb majority classifier:\n",
            "\t\tinput: Oh God! I'm dumb..\n",
            "\t\toutput: emotion:[4], trigger:[False]\n"
          ]
        }
      ],
      "source": [
        "class Majority_Classifier():\n",
        "    '''It is trained on a dataset using the emotion and trigger columns.\n",
        "        It's output on the forward method will be always the majority class\n",
        "        for emotion and trigger, calculated in the training set.'''\n",
        "\n",
        "    def __init__(self):\n",
        "        self.emotion = None\n",
        "        self.trigger = None\n",
        "\n",
        "    def train(self, dataset:pd.DataFrame):\n",
        "        '''Input a dataset with the emotion and trigger columns.'''\n",
        "\n",
        "        emotions_count = dict()\n",
        "        triggers_count = dict()\n",
        "\n",
        "        for em, tr in dataset[['labemo','trigger']].values:\n",
        "            update_count_dictionary(em, emotions_count)\n",
        "            update_count_dictionary(tr, triggers_count)\n",
        "\n",
        "        # get the majority class for the emotion column\n",
        "        max_count = -1\n",
        "        for emotion, value in emotions_count.items():\n",
        "            if value > max_count:\n",
        "                max_count = value\n",
        "                self.emotion = emotion\n",
        "\n",
        "        # get the majority class for the trigger column\n",
        "        max_count = -1\n",
        "        for trigger, value in triggers_count.items():\n",
        "            if value > max_count:\n",
        "                max_count = value\n",
        "                self.trigger = trigger\n",
        "\n",
        "    def forward(self, utterance):\n",
        "        '''The input is ignored. This method can be modified. It is intended to\n",
        "            mimic the forward method of an ML model such that it usable in the same way.'''\n",
        "        return self.emotion, self.trigger\n",
        "\n",
        "    def forward(self, dataset: pd.DataFrame):\n",
        "        '''The input is ignored. This method can be modified. It is intended to\n",
        "            mimic the forward method of an ML model such that it usable in the same way.'''\n",
        "\n",
        "        return [self.emotion for row in range(dataset.shape[0])], [self.trigger for row in range(dataset.shape[0])]\n",
        "\n",
        "\n",
        "dumb_majority = Majority_Classifier()\n",
        "dumb_majority.train(df_train)\n",
        "\n",
        "print(\"The majority emotion is: {}\".format(dumb_majority.emotion))\n",
        "print(\"The majority trigger is: {}\".format(dumb_majority.trigger))\n",
        "print()\n",
        "print(\"A test for the dumb majority classifier:\")\n",
        "print(\"\\t\\tinput: Oh God! I'm dumb..\")\n",
        "\n",
        "e, t = dumb_majority.forward(pd.DataFrame([\"Oh God! I'm dumb..\"]))\n",
        "print(\"\\t\\toutput: emotion:{}, trigger:{}\".format(e,t))"
      ]
    },
    {
      "cell_type": "code",
      "execution_count": null,
      "metadata": {
        "colab": {
          "base_uri": "https://localhost:8080/",
          "height": 414
        },
        "id": "rtE8NxXj5yxt",
        "outputId": "3ee09489-ccc8-40cf-a0cb-8c2cc5124bf0"
      },
      "outputs": [
        {
          "name": "stderr",
          "output_type": "stream",
          "text": [
            "<ipython-input-58-ad285f55e64d>:4: SettingWithCopyWarning: \n",
            "A value is trying to be set on a copy of a slice from a DataFrame.\n",
            "Try using .loc[row_indexer,col_indexer] = value instead\n",
            "\n",
            "See the caveats in the documentation: https://pandas.pydata.org/pandas-docs/stable/user_guide/indexing.html#returning-a-view-versus-a-copy\n",
            "  df_test.loc[:,('predicted_emo')] = e\n",
            "<ipython-input-58-ad285f55e64d>:5: SettingWithCopyWarning: \n",
            "A value is trying to be set on a copy of a slice from a DataFrame.\n",
            "Try using .loc[row_indexer,col_indexer] = value instead\n",
            "\n",
            "See the caveats in the documentation: https://pandas.pydata.org/pandas-docs/stable/user_guide/indexing.html#returning-a-view-versus-a-copy\n",
            "  df_test.loc[:,('predicted_tri')] = t\n"
          ]
        },
        {
          "data": {
            "text/html": [
              "\n",
              "  <div id=\"df-cf62e07c-fcb5-492c-acea-037e74a0f927\" class=\"colab-df-container\">\n",
              "    <div>\n",
              "<style scoped>\n",
              "    .dataframe tbody tr th:only-of-type {\n",
              "        vertical-align: middle;\n",
              "    }\n",
              "\n",
              "    .dataframe tbody tr th {\n",
              "        vertical-align: top;\n",
              "    }\n",
              "\n",
              "    .dataframe thead th {\n",
              "        text-align: right;\n",
              "    }\n",
              "</style>\n",
              "<table border=\"1\" class=\"dataframe\">\n",
              "  <thead>\n",
              "    <tr style=\"text-align: right;\">\n",
              "      <th></th>\n",
              "      <th>episode</th>\n",
              "      <th>utterance</th>\n",
              "      <th>history</th>\n",
              "      <th>emotion</th>\n",
              "      <th>trigger</th>\n",
              "      <th>labemo</th>\n",
              "      <th>predicted_emo</th>\n",
              "      <th>predicted_tri</th>\n",
              "    </tr>\n",
              "  </thead>\n",
              "  <tbody>\n",
              "    <tr>\n",
              "      <th>77</th>\n",
              "      <td>utterance_12</td>\n",
              "      <td>Hey, Mon.</td>\n",
              "      <td></td>\n",
              "      <td>neutral</td>\n",
              "      <td>False</td>\n",
              "      <td>4</td>\n",
              "      <td>4</td>\n",
              "      <td>False</td>\n",
              "    </tr>\n",
              "    <tr>\n",
              "      <th>78</th>\n",
              "      <td>utterance_12</td>\n",
              "      <td>Hey-hey-hey. You wanna hear something that sucks.</td>\n",
              "      <td>Hey, Mon.</td>\n",
              "      <td>neutral</td>\n",
              "      <td>False</td>\n",
              "      <td>4</td>\n",
              "      <td>4</td>\n",
              "      <td>False</td>\n",
              "    </tr>\n",
              "    <tr>\n",
              "      <th>79</th>\n",
              "      <td>utterance_12</td>\n",
              "      <td>Do I ever.</td>\n",
              "      <td>Hey, Mon. Hey-hey-hey. You wanna hear somethin...</td>\n",
              "      <td>joy</td>\n",
              "      <td>False</td>\n",
              "      <td>3</td>\n",
              "      <td>4</td>\n",
              "      <td>False</td>\n",
              "    </tr>\n",
              "    <tr>\n",
              "      <th>80</th>\n",
              "      <td>utterance_12</td>\n",
              "      <td>Chris says they're closing down the bar.</td>\n",
              "      <td>Hey-hey-hey. You wanna hear something that suc...</td>\n",
              "      <td>sadness</td>\n",
              "      <td>True</td>\n",
              "      <td>5</td>\n",
              "      <td>4</td>\n",
              "      <td>False</td>\n",
              "    </tr>\n",
              "    <tr>\n",
              "      <th>81</th>\n",
              "      <td>utterance_12</td>\n",
              "      <td>No way!</td>\n",
              "      <td>Do I ever. Chris says they're closing down the...</td>\n",
              "      <td>surprise</td>\n",
              "      <td>False</td>\n",
              "      <td>6</td>\n",
              "      <td>4</td>\n",
              "      <td>False</td>\n",
              "    </tr>\n",
              "  </tbody>\n",
              "</table>\n",
              "</div>\n",
              "    <div class=\"colab-df-buttons\">\n",
              "\n",
              "  <div class=\"colab-df-container\">\n",
              "    <button class=\"colab-df-convert\" onclick=\"convertToInteractive('df-cf62e07c-fcb5-492c-acea-037e74a0f927')\"\n",
              "            title=\"Convert this dataframe to an interactive table.\"\n",
              "            style=\"display:none;\">\n",
              "\n",
              "  <svg xmlns=\"http://www.w3.org/2000/svg\" height=\"24px\" viewBox=\"0 -960 960 960\">\n",
              "    <path d=\"M120-120v-720h720v720H120Zm60-500h600v-160H180v160Zm220 220h160v-160H400v160Zm0 220h160v-160H400v160ZM180-400h160v-160H180v160Zm440 0h160v-160H620v160ZM180-180h160v-160H180v160Zm440 0h160v-160H620v160Z\"/>\n",
              "  </svg>\n",
              "    </button>\n",
              "\n",
              "  <style>\n",
              "    .colab-df-container {\n",
              "      display:flex;\n",
              "      gap: 12px;\n",
              "    }\n",
              "\n",
              "    .colab-df-convert {\n",
              "      background-color: #E8F0FE;\n",
              "      border: none;\n",
              "      border-radius: 50%;\n",
              "      cursor: pointer;\n",
              "      display: none;\n",
              "      fill: #1967D2;\n",
              "      height: 32px;\n",
              "      padding: 0 0 0 0;\n",
              "      width: 32px;\n",
              "    }\n",
              "\n",
              "    .colab-df-convert:hover {\n",
              "      background-color: #E2EBFA;\n",
              "      box-shadow: 0px 1px 2px rgba(60, 64, 67, 0.3), 0px 1px 3px 1px rgba(60, 64, 67, 0.15);\n",
              "      fill: #174EA6;\n",
              "    }\n",
              "\n",
              "    .colab-df-buttons div {\n",
              "      margin-bottom: 4px;\n",
              "    }\n",
              "\n",
              "    [theme=dark] .colab-df-convert {\n",
              "      background-color: #3B4455;\n",
              "      fill: #D2E3FC;\n",
              "    }\n",
              "\n",
              "    [theme=dark] .colab-df-convert:hover {\n",
              "      background-color: #434B5C;\n",
              "      box-shadow: 0px 1px 3px 1px rgba(0, 0, 0, 0.15);\n",
              "      filter: drop-shadow(0px 1px 2px rgba(0, 0, 0, 0.3));\n",
              "      fill: #FFFFFF;\n",
              "    }\n",
              "  </style>\n",
              "\n",
              "    <script>\n",
              "      const buttonEl =\n",
              "        document.querySelector('#df-cf62e07c-fcb5-492c-acea-037e74a0f927 button.colab-df-convert');\n",
              "      buttonEl.style.display =\n",
              "        google.colab.kernel.accessAllowed ? 'block' : 'none';\n",
              "\n",
              "      async function convertToInteractive(key) {\n",
              "        const element = document.querySelector('#df-cf62e07c-fcb5-492c-acea-037e74a0f927');\n",
              "        const dataTable =\n",
              "          await google.colab.kernel.invokeFunction('convertToInteractive',\n",
              "                                                    [key], {});\n",
              "        if (!dataTable) return;\n",
              "\n",
              "        const docLinkHtml = 'Like what you see? Visit the ' +\n",
              "          '<a target=\"_blank\" href=https://colab.research.google.com/notebooks/data_table.ipynb>data table notebook</a>'\n",
              "          + ' to learn more about interactive tables.';\n",
              "        element.innerHTML = '';\n",
              "        dataTable['output_type'] = 'display_data';\n",
              "        await google.colab.output.renderOutput(dataTable, element);\n",
              "        const docLink = document.createElement('div');\n",
              "        docLink.innerHTML = docLinkHtml;\n",
              "        element.appendChild(docLink);\n",
              "      }\n",
              "    </script>\n",
              "  </div>\n",
              "\n",
              "\n",
              "<div id=\"df-12f130a6-676f-43a1-94bb-d2c52417a6ea\">\n",
              "  <button class=\"colab-df-quickchart\" onclick=\"quickchart('df-12f130a6-676f-43a1-94bb-d2c52417a6ea')\"\n",
              "            title=\"Suggest charts\"\n",
              "            style=\"display:none;\">\n",
              "\n",
              "<svg xmlns=\"http://www.w3.org/2000/svg\" height=\"24px\"viewBox=\"0 0 24 24\"\n",
              "     width=\"24px\">\n",
              "    <g>\n",
              "        <path d=\"M19 3H5c-1.1 0-2 .9-2 2v14c0 1.1.9 2 2 2h14c1.1 0 2-.9 2-2V5c0-1.1-.9-2-2-2zM9 17H7v-7h2v7zm4 0h-2V7h2v10zm4 0h-2v-4h2v4z\"/>\n",
              "    </g>\n",
              "</svg>\n",
              "  </button>\n",
              "\n",
              "<style>\n",
              "  .colab-df-quickchart {\n",
              "      --bg-color: #E8F0FE;\n",
              "      --fill-color: #1967D2;\n",
              "      --hover-bg-color: #E2EBFA;\n",
              "      --hover-fill-color: #174EA6;\n",
              "      --disabled-fill-color: #AAA;\n",
              "      --disabled-bg-color: #DDD;\n",
              "  }\n",
              "\n",
              "  [theme=dark] .colab-df-quickchart {\n",
              "      --bg-color: #3B4455;\n",
              "      --fill-color: #D2E3FC;\n",
              "      --hover-bg-color: #434B5C;\n",
              "      --hover-fill-color: #FFFFFF;\n",
              "      --disabled-bg-color: #3B4455;\n",
              "      --disabled-fill-color: #666;\n",
              "  }\n",
              "\n",
              "  .colab-df-quickchart {\n",
              "    background-color: var(--bg-color);\n",
              "    border: none;\n",
              "    border-radius: 50%;\n",
              "    cursor: pointer;\n",
              "    display: none;\n",
              "    fill: var(--fill-color);\n",
              "    height: 32px;\n",
              "    padding: 0;\n",
              "    width: 32px;\n",
              "  }\n",
              "\n",
              "  .colab-df-quickchart:hover {\n",
              "    background-color: var(--hover-bg-color);\n",
              "    box-shadow: 0 1px 2px rgba(60, 64, 67, 0.3), 0 1px 3px 1px rgba(60, 64, 67, 0.15);\n",
              "    fill: var(--button-hover-fill-color);\n",
              "  }\n",
              "\n",
              "  .colab-df-quickchart-complete:disabled,\n",
              "  .colab-df-quickchart-complete:disabled:hover {\n",
              "    background-color: var(--disabled-bg-color);\n",
              "    fill: var(--disabled-fill-color);\n",
              "    box-shadow: none;\n",
              "  }\n",
              "\n",
              "  .colab-df-spinner {\n",
              "    border: 2px solid var(--fill-color);\n",
              "    border-color: transparent;\n",
              "    border-bottom-color: var(--fill-color);\n",
              "    animation:\n",
              "      spin 1s steps(1) infinite;\n",
              "  }\n",
              "\n",
              "  @keyframes spin {\n",
              "    0% {\n",
              "      border-color: transparent;\n",
              "      border-bottom-color: var(--fill-color);\n",
              "      border-left-color: var(--fill-color);\n",
              "    }\n",
              "    20% {\n",
              "      border-color: transparent;\n",
              "      border-left-color: var(--fill-color);\n",
              "      border-top-color: var(--fill-color);\n",
              "    }\n",
              "    30% {\n",
              "      border-color: transparent;\n",
              "      border-left-color: var(--fill-color);\n",
              "      border-top-color: var(--fill-color);\n",
              "      border-right-color: var(--fill-color);\n",
              "    }\n",
              "    40% {\n",
              "      border-color: transparent;\n",
              "      border-right-color: var(--fill-color);\n",
              "      border-top-color: var(--fill-color);\n",
              "    }\n",
              "    60% {\n",
              "      border-color: transparent;\n",
              "      border-right-color: var(--fill-color);\n",
              "    }\n",
              "    80% {\n",
              "      border-color: transparent;\n",
              "      border-right-color: var(--fill-color);\n",
              "      border-bottom-color: var(--fill-color);\n",
              "    }\n",
              "    90% {\n",
              "      border-color: transparent;\n",
              "      border-bottom-color: var(--fill-color);\n",
              "    }\n",
              "  }\n",
              "</style>\n",
              "\n",
              "  <script>\n",
              "    async function quickchart(key) {\n",
              "      const quickchartButtonEl =\n",
              "        document.querySelector('#' + key + ' button');\n",
              "      quickchartButtonEl.disabled = true;  // To prevent multiple clicks.\n",
              "      quickchartButtonEl.classList.add('colab-df-spinner');\n",
              "      try {\n",
              "        const charts = await google.colab.kernel.invokeFunction(\n",
              "            'suggestCharts', [key], {});\n",
              "      } catch (error) {\n",
              "        console.error('Error during call to suggestCharts:', error);\n",
              "      }\n",
              "      quickchartButtonEl.classList.remove('colab-df-spinner');\n",
              "      quickchartButtonEl.classList.add('colab-df-quickchart-complete');\n",
              "    }\n",
              "    (() => {\n",
              "      let quickchartButtonEl =\n",
              "        document.querySelector('#df-12f130a6-676f-43a1-94bb-d2c52417a6ea button');\n",
              "      quickchartButtonEl.style.display =\n",
              "        google.colab.kernel.accessAllowed ? 'block' : 'none';\n",
              "    })();\n",
              "  </script>\n",
              "</div>\n",
              "    </div>\n",
              "  </div>\n"
            ],
            "text/plain": [
              "         episode                                          utterance  \\\n",
              "77  utterance_12                                          Hey, Mon.   \n",
              "78  utterance_12  Hey-hey-hey. You wanna hear something that sucks.   \n",
              "79  utterance_12                                         Do I ever.   \n",
              "80  utterance_12           Chris says they're closing down the bar.   \n",
              "81  utterance_12                                            No way!   \n",
              "\n",
              "                                              history   emotion  trigger  \\\n",
              "77                                                      neutral    False   \n",
              "78                                          Hey, Mon.   neutral    False   \n",
              "79  Hey, Mon. Hey-hey-hey. You wanna hear somethin...       joy    False   \n",
              "80  Hey-hey-hey. You wanna hear something that suc...   sadness     True   \n",
              "81  Do I ever. Chris says they're closing down the...  surprise    False   \n",
              "\n",
              "    labemo  predicted_emo  predicted_tri  \n",
              "77       4              4          False  \n",
              "78       4              4          False  \n",
              "79       3              4          False  \n",
              "80       5              4          False  \n",
              "81       6              4          False  "
            ]
          },
          "execution_count": 58,
          "metadata": {},
          "output_type": "execute_result"
        }
      ],
      "source": [
        "majority_pred_emo = []\n",
        "majority_pred_tri = []\n",
        "e, t = dumb_majority.forward(df_test)\n",
        "df_test.loc[:,('predicted_emo')] = e\n",
        "df_test.loc[:,('predicted_tri')] = t\n",
        "df_test.head(5)"
      ]
    },
    {
      "cell_type": "code",
      "execution_count": null,
      "metadata": {
        "colab": {
          "base_uri": "https://localhost:8080/"
        },
        "id": "KWd4P2cL51Vq",
        "outputId": "5cfb3152-9207-457f-8b7e-2bba3abbe1cc"
      },
      "outputs": [
        {
          "name": "stdout",
          "output_type": "stream",
          "text": [
            "F1 score report - Majority classifier\n",
            "\n",
            "Average Sequence F1 score\n",
            "- - Emotion average F1 Score:\t0.424671419276346\n",
            "- - Triggers average F1 Score:\t0.7882678378697737\n",
            "\n",
            "Unrolled Sequence F1 score\n",
            "- - Emotion average F1 Score:\t0.08613987799687899\n",
            "- - Triggers average F1 Score:\t0.4539667753454433\n",
            "\n",
            "Unrolled Sequence F1 score MICRO\n",
            "- - Emotion average F1 Score:\t0.43161785612738135\n",
            "- - Triggers average F1 Score:\t0.8313903895365368\n"
          ]
        }
      ],
      "source": [
        "maj_scores = complete_f1_report(df_test, \"Majority classifier\")"
      ]
    },
    {
      "cell_type": "markdown",
      "metadata": {
        "id": "2U1wZUU338lF"
      },
      "source": [
        "### Actual model - Fully finetuned"
      ]
    },
    {
      "cell_type": "code",
      "execution_count": 77,
      "metadata": {
        "id": "IyLTExU9Rsnp"
      },
      "outputs": [],
      "source": [
        "df_test_full = df_test.copy()\n",
        "df_test_full.loc[:,('predicted_emo')] = test_pred_emo_full\n",
        "df_test_full.loc[:,('predicted_tri')] = test_pred_tri_full.astype(bool)\n",
        "df_test_full.head(5)\n",
        "\n",
        "sdir = os.path.join(results_folder, f\"{SEED}_full_pred.csv\")\n",
        "df_test_full.to_csv(sdir, index=False, header=True)"
      ]
    },
    {
      "cell_type": "code",
      "execution_count": null,
      "metadata": {
        "colab": {
          "base_uri": "https://localhost:8080/"
        },
        "outputId": "b3e9155e-d8b0-4d1f-b06e-cde313bca573",
        "id": "S_y4m7V5kbot"
      },
      "outputs": [
        {
          "output_type": "stream",
          "name": "stdout",
          "text": [
            "F1 score report - Bert Fully finetuned\n",
            "\n",
            "Average Sequence F1 score micro\n",
            "- - Emotion average F1 Score:\t0.9356558389151268\n",
            "- - Triggers average F1 Score:\t0.7916645515040066\n",
            "\n",
            "Unrolled Sequence F1 score micro\n",
            "- - Emotion average F1 Score:\t0.944839351720216\n",
            "- - Triggers average F1 Score:\t0.8299687233437589\n",
            "\n",
            "Unrolled Sequence F1 score macro\n",
            "- - Emotion average F1 Score:\t0.9299032955467194\n",
            "- - Triggers average F1 Score:\t0.5327610200157111\n"
          ]
        }
      ],
      "source": [
        "bert_full_scores = complete_f1_report(df_test_full, \"Bert Fully finetuned\")"
      ]
    },
    {
      "cell_type": "markdown",
      "metadata": {
        "id": "bj5-iGH2iGtV"
      },
      "source": [
        "### Actual model - Freezed Embedding Layers"
      ]
    },
    {
      "cell_type": "code",
      "execution_count": null,
      "metadata": {
        "id": "X_hvHQZYiGtV"
      },
      "outputs": [],
      "source": [
        "df_test_freezed = df_test.copy()\n",
        "df_test_freezed.loc[:,('predicted_emo')] = test_pred_emo_freezed\n",
        "df_test_freezed.loc[:,('predicted_tri')] = test_pred_tri_freezed.astype(bool)\n",
        "df_test_freezed.head(5)\n",
        "\n",
        "sdir = os.path.join(results_folder, f\"{SEED}_freezed_pred.csv\")\n",
        "df_test_freezed.to_csv(sdir, index=False, header=True)"
      ]
    },
    {
      "cell_type": "code",
      "execution_count": null,
      "metadata": {
        "colab": {
          "base_uri": "https://localhost:8080/"
        },
        "id": "jvPAT7TXiGtV",
        "outputId": "0feebf3a-5c11-4d13-c334-0da67a2595d6"
      },
      "outputs": [
        {
          "name": "stdout",
          "output_type": "stream",
          "text": [
            "F1 score report - Bert with Freezed Embedding layer\n",
            "\n",
            "Average Sequence F1 score\n",
            "- - Emotion average F1 Score:\t0.9287408934160095\n",
            "- - Triggers average F1 Score:\t0.7879900600919959\n",
            "\n",
            "Unrolled Sequence F1 score\n",
            "- - Emotion average F1 Score:\t0.9195819573293493\n",
            "- - Triggers average F1 Score:\t0.45388198757763976\n",
            "\n",
            "Unrolled Sequence F1 score MICRO\n",
            "- - Emotion average F1 Score:\t0.9391526869491044\n",
            "- - Triggers average F1 Score:\t0.8311060562979813\n"
          ]
        }
      ],
      "source": [
        "bert_freezed_scores = complete_f1_report(df_test_freezed, \"Bert with Freezed Embedding layer\")"
      ]
    },
    {
      "cell_type": "markdown",
      "source": [
        "###Summary"
      ],
      "metadata": {
        "id": "34qKLBde6hAu"
      }
    },
    {
      "cell_type": "code",
      "execution_count": null,
      "metadata": {
        "id": "0CUTWrEu22mK"
      },
      "outputs": [],
      "source": [
        "s_e = [rand_scores['s_e'],maj_scores['s_e'],bert_full_scores['s_e'],bert_freezed_scores['s_e']]\n",
        "s_t = [rand_scores['s_t'],maj_scores['s_t'],bert_full_scores['s_t'],bert_freezed_scores['s_t']]\n",
        "us_e =[rand_scores['us_e'],maj_scores['us_e'],bert_full_scores['us_e'],bert_freezed_scores['us_e']]\n",
        "us_t =[rand_scores['us_t'],maj_scores['us_t'],bert_full_scores['us_t'],bert_freezed_scores['us_t']]\n",
        "um_e =[rand_scores['um_e'],maj_scores['um_e'],bert_full_scores['um_e'],bert_freezed_scores['um_e']]\n",
        "um_t =[rand_scores['um_t'],maj_scores['um_t'],bert_full_scores['um_t'],bert_freezed_scores['um_t']]\n",
        "\n",
        "final_result = {'Sequence F1 emotions micro' : s_e,\n",
        "                'Sequence F1 triggers micro': s_t,\n",
        "                'Unrolled Sequence F1 emotions micro':um_e,\n",
        "                'Unrolled Sequence F1 triggers micro':um_t,\n",
        "                'Unrolled Sequence F1 emotions macro':us_e,\n",
        "                'Unrolled Sequence F1 triggers macro':us_t,\n",
        "                }"
      ]
    },
    {
      "cell_type": "code",
      "execution_count": null,
      "metadata": {
        "colab": {
          "base_uri": "https://localhost:8080/",
          "height": 175
        },
        "id": "w6FuNmvK6aHV",
        "outputId": "3ef2a477-8f24-4c34-a9b0-71d3b04602de"
      },
      "outputs": [
        {
          "data": {
            "text/html": [
              "\n",
              "  <div id=\"df-26ec2117-7abb-499d-85ab-5ca7a9cdc114\" class=\"colab-df-container\">\n",
              "    <div>\n",
              "<style scoped>\n",
              "    .dataframe tbody tr th:only-of-type {\n",
              "        vertical-align: middle;\n",
              "    }\n",
              "\n",
              "    .dataframe tbody tr th {\n",
              "        vertical-align: top;\n",
              "    }\n",
              "\n",
              "    .dataframe thead th {\n",
              "        text-align: right;\n",
              "    }\n",
              "</style>\n",
              "<table border=\"1\" class=\"dataframe\">\n",
              "  <thead>\n",
              "    <tr style=\"text-align: right;\">\n",
              "      <th></th>\n",
              "      <th>Random Classifier</th>\n",
              "      <th>Majority Classifier</th>\n",
              "      <th>Bert Full</th>\n",
              "      <th>Bert Freezed</th>\n",
              "    </tr>\n",
              "  </thead>\n",
              "  <tbody>\n",
              "    <tr>\n",
              "      <th>Sequence F1 emotions</th>\n",
              "      <td>0.149212</td>\n",
              "      <td>0.424671</td>\n",
              "      <td>0.939755</td>\n",
              "      <td>0.928741</td>\n",
              "    </tr>\n",
              "    <tr>\n",
              "      <th>Sequence F1 triggers</th>\n",
              "      <td>0.512679</td>\n",
              "      <td>0.788268</td>\n",
              "      <td>0.784900</td>\n",
              "      <td>0.787990</td>\n",
              "    </tr>\n",
              "    <tr>\n",
              "      <th>Unrolled Sequence F1 emotions</th>\n",
              "      <td>0.126135</td>\n",
              "      <td>0.086140</td>\n",
              "      <td>0.931220</td>\n",
              "      <td>0.919582</td>\n",
              "    </tr>\n",
              "    <tr>\n",
              "      <th>Unrolled Sequence F1 triggers</th>\n",
              "      <td>0.442702</td>\n",
              "      <td>0.453967</td>\n",
              "      <td>0.473477</td>\n",
              "      <td>0.453882</td>\n",
              "    </tr>\n",
              "  </tbody>\n",
              "</table>\n",
              "</div>\n",
              "    <div class=\"colab-df-buttons\">\n",
              "\n",
              "  <div class=\"colab-df-container\">\n",
              "    <button class=\"colab-df-convert\" onclick=\"convertToInteractive('df-26ec2117-7abb-499d-85ab-5ca7a9cdc114')\"\n",
              "            title=\"Convert this dataframe to an interactive table.\"\n",
              "            style=\"display:none;\">\n",
              "\n",
              "  <svg xmlns=\"http://www.w3.org/2000/svg\" height=\"24px\" viewBox=\"0 -960 960 960\">\n",
              "    <path d=\"M120-120v-720h720v720H120Zm60-500h600v-160H180v160Zm220 220h160v-160H400v160Zm0 220h160v-160H400v160ZM180-400h160v-160H180v160Zm440 0h160v-160H620v160ZM180-180h160v-160H180v160Zm440 0h160v-160H620v160Z\"/>\n",
              "  </svg>\n",
              "    </button>\n",
              "\n",
              "  <style>\n",
              "    .colab-df-container {\n",
              "      display:flex;\n",
              "      gap: 12px;\n",
              "    }\n",
              "\n",
              "    .colab-df-convert {\n",
              "      background-color: #E8F0FE;\n",
              "      border: none;\n",
              "      border-radius: 50%;\n",
              "      cursor: pointer;\n",
              "      display: none;\n",
              "      fill: #1967D2;\n",
              "      height: 32px;\n",
              "      padding: 0 0 0 0;\n",
              "      width: 32px;\n",
              "    }\n",
              "\n",
              "    .colab-df-convert:hover {\n",
              "      background-color: #E2EBFA;\n",
              "      box-shadow: 0px 1px 2px rgba(60, 64, 67, 0.3), 0px 1px 3px 1px rgba(60, 64, 67, 0.15);\n",
              "      fill: #174EA6;\n",
              "    }\n",
              "\n",
              "    .colab-df-buttons div {\n",
              "      margin-bottom: 4px;\n",
              "    }\n",
              "\n",
              "    [theme=dark] .colab-df-convert {\n",
              "      background-color: #3B4455;\n",
              "      fill: #D2E3FC;\n",
              "    }\n",
              "\n",
              "    [theme=dark] .colab-df-convert:hover {\n",
              "      background-color: #434B5C;\n",
              "      box-shadow: 0px 1px 3px 1px rgba(0, 0, 0, 0.15);\n",
              "      filter: drop-shadow(0px 1px 2px rgba(0, 0, 0, 0.3));\n",
              "      fill: #FFFFFF;\n",
              "    }\n",
              "  </style>\n",
              "\n",
              "    <script>\n",
              "      const buttonEl =\n",
              "        document.querySelector('#df-26ec2117-7abb-499d-85ab-5ca7a9cdc114 button.colab-df-convert');\n",
              "      buttonEl.style.display =\n",
              "        google.colab.kernel.accessAllowed ? 'block' : 'none';\n",
              "\n",
              "      async function convertToInteractive(key) {\n",
              "        const element = document.querySelector('#df-26ec2117-7abb-499d-85ab-5ca7a9cdc114');\n",
              "        const dataTable =\n",
              "          await google.colab.kernel.invokeFunction('convertToInteractive',\n",
              "                                                    [key], {});\n",
              "        if (!dataTable) return;\n",
              "\n",
              "        const docLinkHtml = 'Like what you see? Visit the ' +\n",
              "          '<a target=\"_blank\" href=https://colab.research.google.com/notebooks/data_table.ipynb>data table notebook</a>'\n",
              "          + ' to learn more about interactive tables.';\n",
              "        element.innerHTML = '';\n",
              "        dataTable['output_type'] = 'display_data';\n",
              "        await google.colab.output.renderOutput(dataTable, element);\n",
              "        const docLink = document.createElement('div');\n",
              "        docLink.innerHTML = docLinkHtml;\n",
              "        element.appendChild(docLink);\n",
              "      }\n",
              "    </script>\n",
              "  </div>\n",
              "\n",
              "\n",
              "<div id=\"df-7eeb1700-5d6f-4ddb-a0dc-507441555ab3\">\n",
              "  <button class=\"colab-df-quickchart\" onclick=\"quickchart('df-7eeb1700-5d6f-4ddb-a0dc-507441555ab3')\"\n",
              "            title=\"Suggest charts\"\n",
              "            style=\"display:none;\">\n",
              "\n",
              "<svg xmlns=\"http://www.w3.org/2000/svg\" height=\"24px\"viewBox=\"0 0 24 24\"\n",
              "     width=\"24px\">\n",
              "    <g>\n",
              "        <path d=\"M19 3H5c-1.1 0-2 .9-2 2v14c0 1.1.9 2 2 2h14c1.1 0 2-.9 2-2V5c0-1.1-.9-2-2-2zM9 17H7v-7h2v7zm4 0h-2V7h2v10zm4 0h-2v-4h2v4z\"/>\n",
              "    </g>\n",
              "</svg>\n",
              "  </button>\n",
              "\n",
              "<style>\n",
              "  .colab-df-quickchart {\n",
              "      --bg-color: #E8F0FE;\n",
              "      --fill-color: #1967D2;\n",
              "      --hover-bg-color: #E2EBFA;\n",
              "      --hover-fill-color: #174EA6;\n",
              "      --disabled-fill-color: #AAA;\n",
              "      --disabled-bg-color: #DDD;\n",
              "  }\n",
              "\n",
              "  [theme=dark] .colab-df-quickchart {\n",
              "      --bg-color: #3B4455;\n",
              "      --fill-color: #D2E3FC;\n",
              "      --hover-bg-color: #434B5C;\n",
              "      --hover-fill-color: #FFFFFF;\n",
              "      --disabled-bg-color: #3B4455;\n",
              "      --disabled-fill-color: #666;\n",
              "  }\n",
              "\n",
              "  .colab-df-quickchart {\n",
              "    background-color: var(--bg-color);\n",
              "    border: none;\n",
              "    border-radius: 50%;\n",
              "    cursor: pointer;\n",
              "    display: none;\n",
              "    fill: var(--fill-color);\n",
              "    height: 32px;\n",
              "    padding: 0;\n",
              "    width: 32px;\n",
              "  }\n",
              "\n",
              "  .colab-df-quickchart:hover {\n",
              "    background-color: var(--hover-bg-color);\n",
              "    box-shadow: 0 1px 2px rgba(60, 64, 67, 0.3), 0 1px 3px 1px rgba(60, 64, 67, 0.15);\n",
              "    fill: var(--button-hover-fill-color);\n",
              "  }\n",
              "\n",
              "  .colab-df-quickchart-complete:disabled,\n",
              "  .colab-df-quickchart-complete:disabled:hover {\n",
              "    background-color: var(--disabled-bg-color);\n",
              "    fill: var(--disabled-fill-color);\n",
              "    box-shadow: none;\n",
              "  }\n",
              "\n",
              "  .colab-df-spinner {\n",
              "    border: 2px solid var(--fill-color);\n",
              "    border-color: transparent;\n",
              "    border-bottom-color: var(--fill-color);\n",
              "    animation:\n",
              "      spin 1s steps(1) infinite;\n",
              "  }\n",
              "\n",
              "  @keyframes spin {\n",
              "    0% {\n",
              "      border-color: transparent;\n",
              "      border-bottom-color: var(--fill-color);\n",
              "      border-left-color: var(--fill-color);\n",
              "    }\n",
              "    20% {\n",
              "      border-color: transparent;\n",
              "      border-left-color: var(--fill-color);\n",
              "      border-top-color: var(--fill-color);\n",
              "    }\n",
              "    30% {\n",
              "      border-color: transparent;\n",
              "      border-left-color: var(--fill-color);\n",
              "      border-top-color: var(--fill-color);\n",
              "      border-right-color: var(--fill-color);\n",
              "    }\n",
              "    40% {\n",
              "      border-color: transparent;\n",
              "      border-right-color: var(--fill-color);\n",
              "      border-top-color: var(--fill-color);\n",
              "    }\n",
              "    60% {\n",
              "      border-color: transparent;\n",
              "      border-right-color: var(--fill-color);\n",
              "    }\n",
              "    80% {\n",
              "      border-color: transparent;\n",
              "      border-right-color: var(--fill-color);\n",
              "      border-bottom-color: var(--fill-color);\n",
              "    }\n",
              "    90% {\n",
              "      border-color: transparent;\n",
              "      border-bottom-color: var(--fill-color);\n",
              "    }\n",
              "  }\n",
              "</style>\n",
              "\n",
              "  <script>\n",
              "    async function quickchart(key) {\n",
              "      const quickchartButtonEl =\n",
              "        document.querySelector('#' + key + ' button');\n",
              "      quickchartButtonEl.disabled = true;  // To prevent multiple clicks.\n",
              "      quickchartButtonEl.classList.add('colab-df-spinner');\n",
              "      try {\n",
              "        const charts = await google.colab.kernel.invokeFunction(\n",
              "            'suggestCharts', [key], {});\n",
              "      } catch (error) {\n",
              "        console.error('Error during call to suggestCharts:', error);\n",
              "      }\n",
              "      quickchartButtonEl.classList.remove('colab-df-spinner');\n",
              "      quickchartButtonEl.classList.add('colab-df-quickchart-complete');\n",
              "    }\n",
              "    (() => {\n",
              "      let quickchartButtonEl =\n",
              "        document.querySelector('#df-7eeb1700-5d6f-4ddb-a0dc-507441555ab3 button');\n",
              "      quickchartButtonEl.style.display =\n",
              "        google.colab.kernel.accessAllowed ? 'block' : 'none';\n",
              "    })();\n",
              "  </script>\n",
              "</div>\n",
              "    </div>\n",
              "  </div>\n"
            ],
            "text/plain": [
              "                               Random Classifier  Majority Classifier  \\\n",
              "Sequence F1 emotions                    0.149212             0.424671   \n",
              "Sequence F1 triggers                    0.512679             0.788268   \n",
              "Unrolled Sequence F1 emotions           0.126135             0.086140   \n",
              "Unrolled Sequence F1 triggers           0.442702             0.453967   \n",
              "\n",
              "                               Bert Full  Bert Freezed  \n",
              "Sequence F1 emotions            0.939755      0.928741  \n",
              "Sequence F1 triggers            0.784900      0.787990  \n",
              "Unrolled Sequence F1 emotions   0.931220      0.919582  \n",
              "Unrolled Sequence F1 triggers   0.473477      0.453882  "
            ]
          },
          "execution_count": 65,
          "metadata": {},
          "output_type": "execute_result"
        }
      ],
      "source": [
        "df_results = pd.DataFrame.from_dict(final_result,orient = 'index', columns = ['Random Classifier', 'Majority Classifier','Bert Full','Bert Freezed'])\n",
        "df_results"
      ]
    },
    {
      "cell_type": "code",
      "execution_count": null,
      "metadata": {
        "colab": {
          "base_uri": "https://localhost:8080/",
          "height": 175
        },
        "id": "IuxitabI8IUW",
        "outputId": "5fbb0bc0-8260-49b6-9d10-baabab6019cc"
      },
      "outputs": [
        {
          "data": {
            "text/html": [
              "\n",
              "  <div id=\"df-0aa6ac53-0630-49c3-85b5-e7153051e5cc\" class=\"colab-df-container\">\n",
              "    <div>\n",
              "<style scoped>\n",
              "    .dataframe tbody tr th:only-of-type {\n",
              "        vertical-align: middle;\n",
              "    }\n",
              "\n",
              "    .dataframe tbody tr th {\n",
              "        vertical-align: top;\n",
              "    }\n",
              "\n",
              "    .dataframe thead th {\n",
              "        text-align: right;\n",
              "    }\n",
              "</style>\n",
              "<table border=\"1\" class=\"dataframe\">\n",
              "  <thead>\n",
              "    <tr style=\"text-align: right;\">\n",
              "      <th></th>\n",
              "      <th>Unnamed: 0</th>\n",
              "      <th>Random Classifier</th>\n",
              "      <th>Majority Classifier</th>\n",
              "      <th>Bert Full</th>\n",
              "      <th>Bert Freezed</th>\n",
              "    </tr>\n",
              "  </thead>\n",
              "  <tbody>\n",
              "    <tr>\n",
              "      <th>0</th>\n",
              "      <td>Sequence F1 emotions</td>\n",
              "      <td>0.149212</td>\n",
              "      <td>0.424671</td>\n",
              "      <td>0.939755</td>\n",
              "      <td>0.928741</td>\n",
              "    </tr>\n",
              "    <tr>\n",
              "      <th>1</th>\n",
              "      <td>Sequence F1 triggers</td>\n",
              "      <td>0.512679</td>\n",
              "      <td>0.788268</td>\n",
              "      <td>0.784900</td>\n",
              "      <td>0.787990</td>\n",
              "    </tr>\n",
              "    <tr>\n",
              "      <th>2</th>\n",
              "      <td>Unrolled Sequence F1 emotions</td>\n",
              "      <td>0.126135</td>\n",
              "      <td>0.086140</td>\n",
              "      <td>0.931220</td>\n",
              "      <td>0.919582</td>\n",
              "    </tr>\n",
              "    <tr>\n",
              "      <th>3</th>\n",
              "      <td>Unrolled Sequence F1 triggers</td>\n",
              "      <td>0.442702</td>\n",
              "      <td>0.453967</td>\n",
              "      <td>0.473477</td>\n",
              "      <td>0.453882</td>\n",
              "    </tr>\n",
              "  </tbody>\n",
              "</table>\n",
              "</div>\n",
              "    <div class=\"colab-df-buttons\">\n",
              "\n",
              "  <div class=\"colab-df-container\">\n",
              "    <button class=\"colab-df-convert\" onclick=\"convertToInteractive('df-0aa6ac53-0630-49c3-85b5-e7153051e5cc')\"\n",
              "            title=\"Convert this dataframe to an interactive table.\"\n",
              "            style=\"display:none;\">\n",
              "\n",
              "  <svg xmlns=\"http://www.w3.org/2000/svg\" height=\"24px\" viewBox=\"0 -960 960 960\">\n",
              "    <path d=\"M120-120v-720h720v720H120Zm60-500h600v-160H180v160Zm220 220h160v-160H400v160Zm0 220h160v-160H400v160ZM180-400h160v-160H180v160Zm440 0h160v-160H620v160ZM180-180h160v-160H180v160Zm440 0h160v-160H620v160Z\"/>\n",
              "  </svg>\n",
              "    </button>\n",
              "\n",
              "  <style>\n",
              "    .colab-df-container {\n",
              "      display:flex;\n",
              "      gap: 12px;\n",
              "    }\n",
              "\n",
              "    .colab-df-convert {\n",
              "      background-color: #E8F0FE;\n",
              "      border: none;\n",
              "      border-radius: 50%;\n",
              "      cursor: pointer;\n",
              "      display: none;\n",
              "      fill: #1967D2;\n",
              "      height: 32px;\n",
              "      padding: 0 0 0 0;\n",
              "      width: 32px;\n",
              "    }\n",
              "\n",
              "    .colab-df-convert:hover {\n",
              "      background-color: #E2EBFA;\n",
              "      box-shadow: 0px 1px 2px rgba(60, 64, 67, 0.3), 0px 1px 3px 1px rgba(60, 64, 67, 0.15);\n",
              "      fill: #174EA6;\n",
              "    }\n",
              "\n",
              "    .colab-df-buttons div {\n",
              "      margin-bottom: 4px;\n",
              "    }\n",
              "\n",
              "    [theme=dark] .colab-df-convert {\n",
              "      background-color: #3B4455;\n",
              "      fill: #D2E3FC;\n",
              "    }\n",
              "\n",
              "    [theme=dark] .colab-df-convert:hover {\n",
              "      background-color: #434B5C;\n",
              "      box-shadow: 0px 1px 3px 1px rgba(0, 0, 0, 0.15);\n",
              "      filter: drop-shadow(0px 1px 2px rgba(0, 0, 0, 0.3));\n",
              "      fill: #FFFFFF;\n",
              "    }\n",
              "  </style>\n",
              "\n",
              "    <script>\n",
              "      const buttonEl =\n",
              "        document.querySelector('#df-0aa6ac53-0630-49c3-85b5-e7153051e5cc button.colab-df-convert');\n",
              "      buttonEl.style.display =\n",
              "        google.colab.kernel.accessAllowed ? 'block' : 'none';\n",
              "\n",
              "      async function convertToInteractive(key) {\n",
              "        const element = document.querySelector('#df-0aa6ac53-0630-49c3-85b5-e7153051e5cc');\n",
              "        const dataTable =\n",
              "          await google.colab.kernel.invokeFunction('convertToInteractive',\n",
              "                                                    [key], {});\n",
              "        if (!dataTable) return;\n",
              "\n",
              "        const docLinkHtml = 'Like what you see? Visit the ' +\n",
              "          '<a target=\"_blank\" href=https://colab.research.google.com/notebooks/data_table.ipynb>data table notebook</a>'\n",
              "          + ' to learn more about interactive tables.';\n",
              "        element.innerHTML = '';\n",
              "        dataTable['output_type'] = 'display_data';\n",
              "        await google.colab.output.renderOutput(dataTable, element);\n",
              "        const docLink = document.createElement('div');\n",
              "        docLink.innerHTML = docLinkHtml;\n",
              "        element.appendChild(docLink);\n",
              "      }\n",
              "    </script>\n",
              "  </div>\n",
              "\n",
              "\n",
              "<div id=\"df-6f358004-85a1-4fd3-8646-557dab5a1f4f\">\n",
              "  <button class=\"colab-df-quickchart\" onclick=\"quickchart('df-6f358004-85a1-4fd3-8646-557dab5a1f4f')\"\n",
              "            title=\"Suggest charts\"\n",
              "            style=\"display:none;\">\n",
              "\n",
              "<svg xmlns=\"http://www.w3.org/2000/svg\" height=\"24px\"viewBox=\"0 0 24 24\"\n",
              "     width=\"24px\">\n",
              "    <g>\n",
              "        <path d=\"M19 3H5c-1.1 0-2 .9-2 2v14c0 1.1.9 2 2 2h14c1.1 0 2-.9 2-2V5c0-1.1-.9-2-2-2zM9 17H7v-7h2v7zm4 0h-2V7h2v10zm4 0h-2v-4h2v4z\"/>\n",
              "    </g>\n",
              "</svg>\n",
              "  </button>\n",
              "\n",
              "<style>\n",
              "  .colab-df-quickchart {\n",
              "      --bg-color: #E8F0FE;\n",
              "      --fill-color: #1967D2;\n",
              "      --hover-bg-color: #E2EBFA;\n",
              "      --hover-fill-color: #174EA6;\n",
              "      --disabled-fill-color: #AAA;\n",
              "      --disabled-bg-color: #DDD;\n",
              "  }\n",
              "\n",
              "  [theme=dark] .colab-df-quickchart {\n",
              "      --bg-color: #3B4455;\n",
              "      --fill-color: #D2E3FC;\n",
              "      --hover-bg-color: #434B5C;\n",
              "      --hover-fill-color: #FFFFFF;\n",
              "      --disabled-bg-color: #3B4455;\n",
              "      --disabled-fill-color: #666;\n",
              "  }\n",
              "\n",
              "  .colab-df-quickchart {\n",
              "    background-color: var(--bg-color);\n",
              "    border: none;\n",
              "    border-radius: 50%;\n",
              "    cursor: pointer;\n",
              "    display: none;\n",
              "    fill: var(--fill-color);\n",
              "    height: 32px;\n",
              "    padding: 0;\n",
              "    width: 32px;\n",
              "  }\n",
              "\n",
              "  .colab-df-quickchart:hover {\n",
              "    background-color: var(--hover-bg-color);\n",
              "    box-shadow: 0 1px 2px rgba(60, 64, 67, 0.3), 0 1px 3px 1px rgba(60, 64, 67, 0.15);\n",
              "    fill: var(--button-hover-fill-color);\n",
              "  }\n",
              "\n",
              "  .colab-df-quickchart-complete:disabled,\n",
              "  .colab-df-quickchart-complete:disabled:hover {\n",
              "    background-color: var(--disabled-bg-color);\n",
              "    fill: var(--disabled-fill-color);\n",
              "    box-shadow: none;\n",
              "  }\n",
              "\n",
              "  .colab-df-spinner {\n",
              "    border: 2px solid var(--fill-color);\n",
              "    border-color: transparent;\n",
              "    border-bottom-color: var(--fill-color);\n",
              "    animation:\n",
              "      spin 1s steps(1) infinite;\n",
              "  }\n",
              "\n",
              "  @keyframes spin {\n",
              "    0% {\n",
              "      border-color: transparent;\n",
              "      border-bottom-color: var(--fill-color);\n",
              "      border-left-color: var(--fill-color);\n",
              "    }\n",
              "    20% {\n",
              "      border-color: transparent;\n",
              "      border-left-color: var(--fill-color);\n",
              "      border-top-color: var(--fill-color);\n",
              "    }\n",
              "    30% {\n",
              "      border-color: transparent;\n",
              "      border-left-color: var(--fill-color);\n",
              "      border-top-color: var(--fill-color);\n",
              "      border-right-color: var(--fill-color);\n",
              "    }\n",
              "    40% {\n",
              "      border-color: transparent;\n",
              "      border-right-color: var(--fill-color);\n",
              "      border-top-color: var(--fill-color);\n",
              "    }\n",
              "    60% {\n",
              "      border-color: transparent;\n",
              "      border-right-color: var(--fill-color);\n",
              "    }\n",
              "    80% {\n",
              "      border-color: transparent;\n",
              "      border-right-color: var(--fill-color);\n",
              "      border-bottom-color: var(--fill-color);\n",
              "    }\n",
              "    90% {\n",
              "      border-color: transparent;\n",
              "      border-bottom-color: var(--fill-color);\n",
              "    }\n",
              "  }\n",
              "</style>\n",
              "\n",
              "  <script>\n",
              "    async function quickchart(key) {\n",
              "      const quickchartButtonEl =\n",
              "        document.querySelector('#' + key + ' button');\n",
              "      quickchartButtonEl.disabled = true;  // To prevent multiple clicks.\n",
              "      quickchartButtonEl.classList.add('colab-df-spinner');\n",
              "      try {\n",
              "        const charts = await google.colab.kernel.invokeFunction(\n",
              "            'suggestCharts', [key], {});\n",
              "      } catch (error) {\n",
              "        console.error('Error during call to suggestCharts:', error);\n",
              "      }\n",
              "      quickchartButtonEl.classList.remove('colab-df-spinner');\n",
              "      quickchartButtonEl.classList.add('colab-df-quickchart-complete');\n",
              "    }\n",
              "    (() => {\n",
              "      let quickchartButtonEl =\n",
              "        document.querySelector('#df-6f358004-85a1-4fd3-8646-557dab5a1f4f button');\n",
              "      quickchartButtonEl.style.display =\n",
              "        google.colab.kernel.accessAllowed ? 'block' : 'none';\n",
              "    })();\n",
              "  </script>\n",
              "</div>\n",
              "    </div>\n",
              "  </div>\n"
            ],
            "text/plain": [
              "                      Unnamed: 0  Random Classifier  Majority Classifier  \\\n",
              "0           Sequence F1 emotions           0.149212             0.424671   \n",
              "1           Sequence F1 triggers           0.512679             0.788268   \n",
              "2  Unrolled Sequence F1 emotions           0.126135             0.086140   \n",
              "3  Unrolled Sequence F1 triggers           0.442702             0.453967   \n",
              "\n",
              "   Bert Full  Bert Freezed  \n",
              "0   0.939755      0.928741  \n",
              "1   0.784900      0.787990  \n",
              "2   0.931220      0.919582  \n",
              "3   0.473477      0.453882  "
            ]
          },
          "execution_count": 66,
          "metadata": {},
          "output_type": "execute_result"
        }
      ],
      "source": [
        "results_to_csv(df_results,SEED)\n",
        "r = results_from_csv(SEED)\n",
        "r"
      ]
    },
    {
      "cell_type": "markdown",
      "metadata": {
        "id": "rRDwSGX-zVX3"
      },
      "source": [
        "## Error analysis"
      ]
    },
    {
      "cell_type": "code",
      "execution_count": null,
      "metadata": {
        "id": "oSAg91jB0D0u"
      },
      "outputs": [],
      "source": [
        "from sklearn.metrics import f1_score, classification_report, ConfusionMatrixDisplay, confusion_matrix\n",
        "\n",
        "def get_report(data: pd.DataFrame, label: str):\n",
        "  '''input data has columns: lab{label}, predicted_{label}\n",
        "      label: selected label\n",
        "\n",
        "      Calculates the confusion matrix and a report dataframe is returned\n",
        "      '''\n",
        "\n",
        "  y_true = data[\"trigger\"] if label==\"tri\" else le_emo.inverse_transform(data[\"labemo\"])\n",
        "  y_pred = data[\"predicted_tri\"] if label==\"tri\" else le_emo.inverse_transform(data[f'predicted_emo'])\n",
        "  labels = data[\"trigger\"].unique() if label==\"tri\" else le_emo.inverse_transform(data[\"labemo\"].unique())\n",
        "\n",
        "  report = classification_report(y_true, y_pred, labels=labels, output_dict=True, zero_division=0)\n",
        "\n",
        "  df_report = pd.DataFrame.from_records(report).transpose()\n",
        "\n",
        "  df_report.drop([\"precision\", \"recall\"], axis=1, inplace=True)\n",
        "  df_report.drop([\"accuracy\", \"weighted avg\", \"macro avg\"], axis=0, inplace=True)\n",
        "  df_report[\"encoded_label\"] = df_report.index if label==\"tri\" else le_emo.transform(df_report.index)\n",
        "  df_report[\"label\"] = df_report.index\n",
        "  df_report = df_report.reset_index(drop=True)\n",
        "  cm = confusion_matrix(y_true, y_pred, labels=labels, normalize=\"true\")\n",
        "  cm_disp = ConfusionMatrixDisplay(cm, display_labels=labels)\n",
        "\n",
        "  return df_report, cm_disp"
      ]
    },
    {
      "cell_type": "code",
      "execution_count": null,
      "metadata": {
        "id": "tMv03G572g6S"
      },
      "outputs": [],
      "source": [
        "df_rep_emotion_full, cm_disp_full = get_report(df_test_full, 'emo')\n",
        "df_rep_emotion_freezed, cm_disp_freezed = get_report(df_test_freezed, 'emo')"
      ]
    },
    {
      "cell_type": "code",
      "execution_count": null,
      "metadata": {
        "colab": {
          "base_uri": "https://localhost:8080/",
          "height": 269
        },
        "id": "dfYq2zL4-Zg4",
        "outputId": "ea95671f-c65a-4fb4-f36f-348dac20efd1"
      },
      "outputs": [
        {
          "data": {
            "text/html": [
              "\n",
              "  <div id=\"df-28b81574-1459-4c2e-b916-32e107dbb072\" class=\"colab-df-container\">\n",
              "    <div>\n",
              "<style scoped>\n",
              "    .dataframe tbody tr th:only-of-type {\n",
              "        vertical-align: middle;\n",
              "    }\n",
              "\n",
              "    .dataframe tbody tr th {\n",
              "        vertical-align: top;\n",
              "    }\n",
              "\n",
              "    .dataframe thead th {\n",
              "        text-align: right;\n",
              "    }\n",
              "</style>\n",
              "<table border=\"1\" class=\"dataframe\">\n",
              "  <thead>\n",
              "    <tr style=\"text-align: right;\">\n",
              "      <th></th>\n",
              "      <th>f1-score</th>\n",
              "      <th>support</th>\n",
              "      <th>encoded_label</th>\n",
              "      <th>label</th>\n",
              "    </tr>\n",
              "  </thead>\n",
              "  <tbody>\n",
              "    <tr>\n",
              "      <th>0</th>\n",
              "      <td>0.949471</td>\n",
              "      <td>429.0</td>\n",
              "      <td>0</td>\n",
              "      <td>anger</td>\n",
              "    </tr>\n",
              "    <tr>\n",
              "      <th>1</th>\n",
              "      <td>0.913043</td>\n",
              "      <td>96.0</td>\n",
              "      <td>1</td>\n",
              "      <td>disgust</td>\n",
              "    </tr>\n",
              "    <tr>\n",
              "      <th>2</th>\n",
              "      <td>0.913793</td>\n",
              "      <td>114.0</td>\n",
              "      <td>2</td>\n",
              "      <td>fear</td>\n",
              "    </tr>\n",
              "    <tr>\n",
              "      <th>3</th>\n",
              "      <td>0.936371</td>\n",
              "      <td>622.0</td>\n",
              "      <td>3</td>\n",
              "      <td>joy</td>\n",
              "    </tr>\n",
              "    <tr>\n",
              "      <th>4</th>\n",
              "      <td>0.965151</td>\n",
              "      <td>1518.0</td>\n",
              "      <td>4</td>\n",
              "      <td>neutral</td>\n",
              "    </tr>\n",
              "    <tr>\n",
              "      <th>5</th>\n",
              "      <td>0.894340</td>\n",
              "      <td>269.0</td>\n",
              "      <td>5</td>\n",
              "      <td>sadness</td>\n",
              "    </tr>\n",
              "    <tr>\n",
              "      <th>6</th>\n",
              "      <td>0.946372</td>\n",
              "      <td>469.0</td>\n",
              "      <td>6</td>\n",
              "      <td>surprise</td>\n",
              "    </tr>\n",
              "  </tbody>\n",
              "</table>\n",
              "</div>\n",
              "    <div class=\"colab-df-buttons\">\n",
              "\n",
              "  <div class=\"colab-df-container\">\n",
              "    <button class=\"colab-df-convert\" onclick=\"convertToInteractive('df-28b81574-1459-4c2e-b916-32e107dbb072')\"\n",
              "            title=\"Convert this dataframe to an interactive table.\"\n",
              "            style=\"display:none;\">\n",
              "\n",
              "  <svg xmlns=\"http://www.w3.org/2000/svg\" height=\"24px\" viewBox=\"0 -960 960 960\">\n",
              "    <path d=\"M120-120v-720h720v720H120Zm60-500h600v-160H180v160Zm220 220h160v-160H400v160Zm0 220h160v-160H400v160ZM180-400h160v-160H180v160Zm440 0h160v-160H620v160ZM180-180h160v-160H180v160Zm440 0h160v-160H620v160Z\"/>\n",
              "  </svg>\n",
              "    </button>\n",
              "\n",
              "  <style>\n",
              "    .colab-df-container {\n",
              "      display:flex;\n",
              "      gap: 12px;\n",
              "    }\n",
              "\n",
              "    .colab-df-convert {\n",
              "      background-color: #E8F0FE;\n",
              "      border: none;\n",
              "      border-radius: 50%;\n",
              "      cursor: pointer;\n",
              "      display: none;\n",
              "      fill: #1967D2;\n",
              "      height: 32px;\n",
              "      padding: 0 0 0 0;\n",
              "      width: 32px;\n",
              "    }\n",
              "\n",
              "    .colab-df-convert:hover {\n",
              "      background-color: #E2EBFA;\n",
              "      box-shadow: 0px 1px 2px rgba(60, 64, 67, 0.3), 0px 1px 3px 1px rgba(60, 64, 67, 0.15);\n",
              "      fill: #174EA6;\n",
              "    }\n",
              "\n",
              "    .colab-df-buttons div {\n",
              "      margin-bottom: 4px;\n",
              "    }\n",
              "\n",
              "    [theme=dark] .colab-df-convert {\n",
              "      background-color: #3B4455;\n",
              "      fill: #D2E3FC;\n",
              "    }\n",
              "\n",
              "    [theme=dark] .colab-df-convert:hover {\n",
              "      background-color: #434B5C;\n",
              "      box-shadow: 0px 1px 3px 1px rgba(0, 0, 0, 0.15);\n",
              "      filter: drop-shadow(0px 1px 2px rgba(0, 0, 0, 0.3));\n",
              "      fill: #FFFFFF;\n",
              "    }\n",
              "  </style>\n",
              "\n",
              "    <script>\n",
              "      const buttonEl =\n",
              "        document.querySelector('#df-28b81574-1459-4c2e-b916-32e107dbb072 button.colab-df-convert');\n",
              "      buttonEl.style.display =\n",
              "        google.colab.kernel.accessAllowed ? 'block' : 'none';\n",
              "\n",
              "      async function convertToInteractive(key) {\n",
              "        const element = document.querySelector('#df-28b81574-1459-4c2e-b916-32e107dbb072');\n",
              "        const dataTable =\n",
              "          await google.colab.kernel.invokeFunction('convertToInteractive',\n",
              "                                                    [key], {});\n",
              "        if (!dataTable) return;\n",
              "\n",
              "        const docLinkHtml = 'Like what you see? Visit the ' +\n",
              "          '<a target=\"_blank\" href=https://colab.research.google.com/notebooks/data_table.ipynb>data table notebook</a>'\n",
              "          + ' to learn more about interactive tables.';\n",
              "        element.innerHTML = '';\n",
              "        dataTable['output_type'] = 'display_data';\n",
              "        await google.colab.output.renderOutput(dataTable, element);\n",
              "        const docLink = document.createElement('div');\n",
              "        docLink.innerHTML = docLinkHtml;\n",
              "        element.appendChild(docLink);\n",
              "      }\n",
              "    </script>\n",
              "  </div>\n",
              "\n",
              "\n",
              "<div id=\"df-0156e628-8e1d-4289-8d3b-9a787c67e5f3\">\n",
              "  <button class=\"colab-df-quickchart\" onclick=\"quickchart('df-0156e628-8e1d-4289-8d3b-9a787c67e5f3')\"\n",
              "            title=\"Suggest charts\"\n",
              "            style=\"display:none;\">\n",
              "\n",
              "<svg xmlns=\"http://www.w3.org/2000/svg\" height=\"24px\"viewBox=\"0 0 24 24\"\n",
              "     width=\"24px\">\n",
              "    <g>\n",
              "        <path d=\"M19 3H5c-1.1 0-2 .9-2 2v14c0 1.1.9 2 2 2h14c1.1 0 2-.9 2-2V5c0-1.1-.9-2-2-2zM9 17H7v-7h2v7zm4 0h-2V7h2v10zm4 0h-2v-4h2v4z\"/>\n",
              "    </g>\n",
              "</svg>\n",
              "  </button>\n",
              "\n",
              "<style>\n",
              "  .colab-df-quickchart {\n",
              "      --bg-color: #E8F0FE;\n",
              "      --fill-color: #1967D2;\n",
              "      --hover-bg-color: #E2EBFA;\n",
              "      --hover-fill-color: #174EA6;\n",
              "      --disabled-fill-color: #AAA;\n",
              "      --disabled-bg-color: #DDD;\n",
              "  }\n",
              "\n",
              "  [theme=dark] .colab-df-quickchart {\n",
              "      --bg-color: #3B4455;\n",
              "      --fill-color: #D2E3FC;\n",
              "      --hover-bg-color: #434B5C;\n",
              "      --hover-fill-color: #FFFFFF;\n",
              "      --disabled-bg-color: #3B4455;\n",
              "      --disabled-fill-color: #666;\n",
              "  }\n",
              "\n",
              "  .colab-df-quickchart {\n",
              "    background-color: var(--bg-color);\n",
              "    border: none;\n",
              "    border-radius: 50%;\n",
              "    cursor: pointer;\n",
              "    display: none;\n",
              "    fill: var(--fill-color);\n",
              "    height: 32px;\n",
              "    padding: 0;\n",
              "    width: 32px;\n",
              "  }\n",
              "\n",
              "  .colab-df-quickchart:hover {\n",
              "    background-color: var(--hover-bg-color);\n",
              "    box-shadow: 0 1px 2px rgba(60, 64, 67, 0.3), 0 1px 3px 1px rgba(60, 64, 67, 0.15);\n",
              "    fill: var(--button-hover-fill-color);\n",
              "  }\n",
              "\n",
              "  .colab-df-quickchart-complete:disabled,\n",
              "  .colab-df-quickchart-complete:disabled:hover {\n",
              "    background-color: var(--disabled-bg-color);\n",
              "    fill: var(--disabled-fill-color);\n",
              "    box-shadow: none;\n",
              "  }\n",
              "\n",
              "  .colab-df-spinner {\n",
              "    border: 2px solid var(--fill-color);\n",
              "    border-color: transparent;\n",
              "    border-bottom-color: var(--fill-color);\n",
              "    animation:\n",
              "      spin 1s steps(1) infinite;\n",
              "  }\n",
              "\n",
              "  @keyframes spin {\n",
              "    0% {\n",
              "      border-color: transparent;\n",
              "      border-bottom-color: var(--fill-color);\n",
              "      border-left-color: var(--fill-color);\n",
              "    }\n",
              "    20% {\n",
              "      border-color: transparent;\n",
              "      border-left-color: var(--fill-color);\n",
              "      border-top-color: var(--fill-color);\n",
              "    }\n",
              "    30% {\n",
              "      border-color: transparent;\n",
              "      border-left-color: var(--fill-color);\n",
              "      border-top-color: var(--fill-color);\n",
              "      border-right-color: var(--fill-color);\n",
              "    }\n",
              "    40% {\n",
              "      border-color: transparent;\n",
              "      border-right-color: var(--fill-color);\n",
              "      border-top-color: var(--fill-color);\n",
              "    }\n",
              "    60% {\n",
              "      border-color: transparent;\n",
              "      border-right-color: var(--fill-color);\n",
              "    }\n",
              "    80% {\n",
              "      border-color: transparent;\n",
              "      border-right-color: var(--fill-color);\n",
              "      border-bottom-color: var(--fill-color);\n",
              "    }\n",
              "    90% {\n",
              "      border-color: transparent;\n",
              "      border-bottom-color: var(--fill-color);\n",
              "    }\n",
              "  }\n",
              "</style>\n",
              "\n",
              "  <script>\n",
              "    async function quickchart(key) {\n",
              "      const quickchartButtonEl =\n",
              "        document.querySelector('#' + key + ' button');\n",
              "      quickchartButtonEl.disabled = true;  // To prevent multiple clicks.\n",
              "      quickchartButtonEl.classList.add('colab-df-spinner');\n",
              "      try {\n",
              "        const charts = await google.colab.kernel.invokeFunction(\n",
              "            'suggestCharts', [key], {});\n",
              "      } catch (error) {\n",
              "        console.error('Error during call to suggestCharts:', error);\n",
              "      }\n",
              "      quickchartButtonEl.classList.remove('colab-df-spinner');\n",
              "      quickchartButtonEl.classList.add('colab-df-quickchart-complete');\n",
              "    }\n",
              "    (() => {\n",
              "      let quickchartButtonEl =\n",
              "        document.querySelector('#df-0156e628-8e1d-4289-8d3b-9a787c67e5f3 button');\n",
              "      quickchartButtonEl.style.display =\n",
              "        google.colab.kernel.accessAllowed ? 'block' : 'none';\n",
              "    })();\n",
              "  </script>\n",
              "</div>\n",
              "    </div>\n",
              "  </div>\n"
            ],
            "text/plain": [
              "   f1-score  support  encoded_label     label\n",
              "0  0.949471    429.0              0     anger\n",
              "1  0.913043     96.0              1   disgust\n",
              "2  0.913793    114.0              2      fear\n",
              "3  0.936371    622.0              3       joy\n",
              "4  0.965151   1518.0              4   neutral\n",
              "5  0.894340    269.0              5   sadness\n",
              "6  0.946372    469.0              6  surprise"
            ]
          },
          "execution_count": 69,
          "metadata": {},
          "output_type": "execute_result"
        }
      ],
      "source": [
        "df_rep_emotion_full"
      ]
    },
    {
      "cell_type": "markdown",
      "metadata": {
        "id": "jiOBb5muznRV"
      },
      "source": [
        "### Support and F1 score - Fully finetuned"
      ]
    },
    {
      "cell_type": "code",
      "execution_count": null,
      "metadata": {
        "colab": {
          "base_uri": "https://localhost:8080/",
          "height": 445
        },
        "id": "r7Tnbh3XCu3z",
        "outputId": "e1e3482a-ce04-4382-af7a-b1cf526f99ef"
      },
      "outputs": [
        {
          "data": {
            "image/png": "[encoded data removed]",
            "text/plain": [
              "<Figure size 1500x500 with 1 Axes>"
            ]
          },
          "metadata": {},
          "output_type": "display_data"
        }
      ],
      "source": [
        "import matplotlib.pyplot as plt\n",
        "\n",
        "plt.figure(figsize=(15,5))\n",
        "plt.hist([df_train.emotion, df_val.emotion, df_test_full.emotion],\n",
        "                density=True,\n",
        "                label=[\"Train\", \"Val\", \"Test\"],\n",
        "                histtype=\"bar\",\n",
        "                )\n",
        "plt.legend()\n",
        "plt.show()"
      ]
    },
    {
      "cell_type": "code",
      "execution_count": null,
      "metadata": {
        "colab": {
          "base_uri": "https://localhost:8080/",
          "height": 976
        },
        "id": "MDjrH4ZN-eA8",
        "outputId": "fee8af1a-e357-4320-a43e-e6401da9ae82"
      },
      "outputs": [
        {
          "name": "stderr",
          "output_type": "stream",
          "text": [
            "<ipython-input-71-baa0bff2c4b4>:4: FutureWarning: `sort_columns` is deprecated and will be removed in a future version.\n",
            "  df_rep_emotion_full.plot(x=\"label\", y=\"f1-score\", kind=\"bar\", sort_columns=True)\n"
          ]
        },
        {
          "data": {
            "text/plain": [
              "<Figure size 1500x200 with 0 Axes>"
            ]
          },
          "metadata": {},
          "output_type": "display_data"
        },
        {
          "data": {
            "image/png": "[encoded data removed]",
            "text/plain": [
              "<Figure size 640x480 with 1 Axes>"
            ]
          },
          "metadata": {},
          "output_type": "display_data"
        },
        {
          "data": {
            "image/png": "[encoded data removed]",
            "text/plain": [
              "<Figure size 640x480 with 1 Axes>"
            ]
          },
          "metadata": {},
          "output_type": "display_data"
        }
      ],
      "source": [
        "plt.figure(figsize=(15,2))\n",
        "df_rep_emotion_full.plot.scatter(x=\"support\", y=\"f1-score\")\n",
        "df_rep_emotion_full.sort_values(\"f1-score\", inplace= True)\n",
        "df_rep_emotion_full.plot(x=\"label\", y=\"f1-score\", kind=\"bar\", sort_columns=True)\n",
        "plt.show()"
      ]
    },
    {
      "cell_type": "markdown",
      "metadata": {
        "id": "GeaquEGziGtW"
      },
      "source": [
        "### Confusion Matrix - Fully finetuned"
      ]
    },
    {
      "cell_type": "code",
      "execution_count": null,
      "metadata": {
        "colab": {
          "base_uri": "https://localhost:8080/",
          "height": 832
        },
        "id": "lruzOimJiGtW",
        "outputId": "b11794f3-6813-4b65-885c-7f4ce3f336c9"
      },
      "outputs": [
        {
          "data": {
            "text/plain": [
              "<sklearn.metrics._plot.confusion_matrix.ConfusionMatrixDisplay at 0x7c661433af50>"
            ]
          },
          "execution_count": 72,
          "metadata": {},
          "output_type": "execute_result"
        },
        {
          "data": {
            "image/png": "[encoded data removed]",
            "text/plain": [
              "<Figure size 1000x1000 with 2 Axes>"
            ]
          },
          "metadata": {},
          "output_type": "display_data"
        }
      ],
      "source": [
        "fig, ax = plt.subplots(figsize=(10,10))\n",
        "cm_disp_full.plot(ax=ax)"
      ]
    },
    {
      "cell_type": "markdown",
      "metadata": {
        "id": "bf9vEHpviGtW"
      },
      "source": [
        "### Support and F1 score - Freezed finetuned"
      ]
    },
    {
      "cell_type": "code",
      "execution_count": null,
      "metadata": {
        "colab": {
          "base_uri": "https://localhost:8080/",
          "height": 445
        },
        "id": "J0300ITuiGtW",
        "outputId": "84758980-951a-45c3-c411-d0abbe9403c0"
      },
      "outputs": [
        {
          "data": {
            "image/png": "[encoded data removed]",
            "text/plain": [
              "<Figure size 1500x500 with 1 Axes>"
            ]
          },
          "metadata": {},
          "output_type": "display_data"
        }
      ],
      "source": [
        "import matplotlib.pyplot as plt\n",
        "\n",
        "plt.figure(figsize=(15,5))\n",
        "plt.hist([df_train.emotion, df_val.emotion, df_test_freezed.emotion],\n",
        "                density=True,\n",
        "                label=[\"Train\", \"Val\", \"Test\"],\n",
        "                histtype=\"bar\",\n",
        "                )\n",
        "plt.legend()\n",
        "plt.show()"
      ]
    },
    {
      "cell_type": "code",
      "execution_count": null,
      "metadata": {
        "colab": {
          "base_uri": "https://localhost:8080/",
          "height": 978
        },
        "id": "h53kuohFiGtW",
        "outputId": "a6ca341a-3576-4f25-eb65-177b40e690fa"
      },
      "outputs": [
        {
          "name": "stderr",
          "output_type": "stream",
          "text": [
            "<ipython-input-74-2a1ce6c817aa>:4: FutureWarning: `sort_columns` is deprecated and will be removed in a future version.\n",
            "  df_rep_emotion_freezed.plot(x=\"label\", y=\"f1-score\", kind=\"bar\", sort_columns=True)\n"
          ]
        },
        {
          "data": {
            "text/plain": [
              "<Figure size 1500x200 with 0 Axes>"
            ]
          },
          "metadata": {},
          "output_type": "display_data"
        },
        {
          "data": {
            "image/png": "[encoded data removed]",
            "text/plain": [
              "<Figure size 640x480 with 1 Axes>"
            ]
          },
          "metadata": {},
          "output_type": "display_data"
        },
        {
          "data": {
            "image/png": "[encoded data removed]",
            "text/plain": [
              "<Figure size 640x480 with 1 Axes>"
            ]
          },
          "metadata": {},
          "output_type": "display_data"
        }
      ],
      "source": [
        "plt.figure(figsize=(15,2))\n",
        "df_rep_emotion_freezed.plot.scatter(x=\"support\", y=\"f1-score\")\n",
        "df_rep_emotion_freezed.sort_values(\"f1-score\", inplace= True)\n",
        "df_rep_emotion_freezed.plot(x=\"label\", y=\"f1-score\", kind=\"bar\", sort_columns=True)\n",
        "plt.show()"
      ]
    },
    {
      "cell_type": "markdown",
      "metadata": {
        "id": "1MkVf6XizxCJ"
      },
      "source": [
        "### Confusion Matrix - Freezed finetuned"
      ]
    },
    {
      "cell_type": "code",
      "execution_count": null,
      "metadata": {
        "colab": {
          "base_uri": "https://localhost:8080/",
          "height": 832
        },
        "id": "4yZqLAklz5zg",
        "outputId": "b0b324c0-0e8d-4c73-eca4-fcc6f2c2618f"
      },
      "outputs": [
        {
          "data": {
            "text/plain": [
              "<sklearn.metrics._plot.confusion_matrix.ConfusionMatrixDisplay at 0x7c66f63f9960>"
            ]
          },
          "execution_count": 75,
          "metadata": {},
          "output_type": "execute_result"
        },
        {
          "data": {
            "image/png": "[encoded data removed]",
            "text/plain": [
              "<Figure size 1000x1000 with 2 Axes>"
            ]
          },
          "metadata": {},
          "output_type": "display_data"
        }
      ],
      "source": [
        "fig, ax = plt.subplots(figsize=(10,10))\n",
        "cm_disp_freezed.plot(ax=ax)"
      ]
    },
    {
      "cell_type": "markdown",
      "metadata": {
        "id": "jk6CuLBkz6hz"
      },
      "source": [
        "### Triggers error"
      ]
    },
    {
      "cell_type": "code",
      "execution_count": null,
      "metadata": {
        "id": "uZjJfLok0Bwa"
      },
      "outputs": [],
      "source": [
        "df_report_tri_full, cm_disp_full = get_report(df_test_full, 'tri')\n",
        "df_report_tri_freezed, cm_disp_freezed = get_report(df_test_freezed, 'tri')"
      ]
    },
    {
      "cell_type": "markdown",
      "metadata": {
        "id": "H_GscEm1iGtX"
      },
      "source": [
        "#### Fully Finetuned"
      ]
    },
    {
      "cell_type": "code",
      "execution_count": null,
      "metadata": {
        "colab": {
          "base_uri": "https://localhost:8080/",
          "height": 112
        },
        "id": "-DIGCd30KW_z",
        "outputId": "af506a1f-60e1-486a-8dc1-0182560da645"
      },
      "outputs": [
        {
          "data": {
            "text/html": [
              "\n",
              "  <div id=\"df-f4ddfed0-0613-429e-b5d9-77a88a0ec650\" class=\"colab-df-container\">\n",
              "    <div>\n",
              "<style scoped>\n",
              "    .dataframe tbody tr th:only-of-type {\n",
              "        vertical-align: middle;\n",
              "    }\n",
              "\n",
              "    .dataframe tbody tr th {\n",
              "        vertical-align: top;\n",
              "    }\n",
              "\n",
              "    .dataframe thead th {\n",
              "        text-align: right;\n",
              "    }\n",
              "</style>\n",
              "<table border=\"1\" class=\"dataframe\">\n",
              "  <thead>\n",
              "    <tr style=\"text-align: right;\">\n",
              "      <th></th>\n",
              "      <th>f1-score</th>\n",
              "      <th>support</th>\n",
              "      <th>encoded_label</th>\n",
              "      <th>label</th>\n",
              "    </tr>\n",
              "  </thead>\n",
              "  <tbody>\n",
              "    <tr>\n",
              "      <th>0</th>\n",
              "      <td>0.905684</td>\n",
              "      <td>2924.0</td>\n",
              "      <td>False</td>\n",
              "      <td>False</td>\n",
              "    </tr>\n",
              "    <tr>\n",
              "      <th>1</th>\n",
              "      <td>0.041270</td>\n",
              "      <td>593.0</td>\n",
              "      <td>True</td>\n",
              "      <td>True</td>\n",
              "    </tr>\n",
              "  </tbody>\n",
              "</table>\n",
              "</div>\n",
              "    <div class=\"colab-df-buttons\">\n",
              "\n",
              "  <div class=\"colab-df-container\">\n",
              "    <button class=\"colab-df-convert\" onclick=\"convertToInteractive('df-f4ddfed0-0613-429e-b5d9-77a88a0ec650')\"\n",
              "            title=\"Convert this dataframe to an interactive table.\"\n",
              "            style=\"display:none;\">\n",
              "\n",
              "  <svg xmlns=\"http://www.w3.org/2000/svg\" height=\"24px\" viewBox=\"0 -960 960 960\">\n",
              "    <path d=\"M120-120v-720h720v720H120Zm60-500h600v-160H180v160Zm220 220h160v-160H400v160Zm0 220h160v-160H400v160ZM180-400h160v-160H180v160Zm440 0h160v-160H620v160ZM180-180h160v-160H180v160Zm440 0h160v-160H620v160Z\"/>\n",
              "  </svg>\n",
              "    </button>\n",
              "\n",
              "  <style>\n",
              "    .colab-df-container {\n",
              "      display:flex;\n",
              "      gap: 12px;\n",
              "    }\n",
              "\n",
              "    .colab-df-convert {\n",
              "      background-color: #E8F0FE;\n",
              "      border: none;\n",
              "      border-radius: 50%;\n",
              "      cursor: pointer;\n",
              "      display: none;\n",
              "      fill: #1967D2;\n",
              "      height: 32px;\n",
              "      padding: 0 0 0 0;\n",
              "      width: 32px;\n",
              "    }\n",
              "\n",
              "    .colab-df-convert:hover {\n",
              "      background-color: #E2EBFA;\n",
              "      box-shadow: 0px 1px 2px rgba(60, 64, 67, 0.3), 0px 1px 3px 1px rgba(60, 64, 67, 0.15);\n",
              "      fill: #174EA6;\n",
              "    }\n",
              "\n",
              "    .colab-df-buttons div {\n",
              "      margin-bottom: 4px;\n",
              "    }\n",
              "\n",
              "    [theme=dark] .colab-df-convert {\n",
              "      background-color: #3B4455;\n",
              "      fill: #D2E3FC;\n",
              "    }\n",
              "\n",
              "    [theme=dark] .colab-df-convert:hover {\n",
              "      background-color: #434B5C;\n",
              "      box-shadow: 0px 1px 3px 1px rgba(0, 0, 0, 0.15);\n",
              "      filter: drop-shadow(0px 1px 2px rgba(0, 0, 0, 0.3));\n",
              "      fill: #FFFFFF;\n",
              "    }\n",
              "  </style>\n",
              "\n",
              "    <script>\n",
              "      const buttonEl =\n",
              "        document.querySelector('#df-f4ddfed0-0613-429e-b5d9-77a88a0ec650 button.colab-df-convert');\n",
              "      buttonEl.style.display =\n",
              "        google.colab.kernel.accessAllowed ? 'block' : 'none';\n",
              "\n",
              "      async function convertToInteractive(key) {\n",
              "        const element = document.querySelector('#df-f4ddfed0-0613-429e-b5d9-77a88a0ec650');\n",
              "        const dataTable =\n",
              "          await google.colab.kernel.invokeFunction('convertToInteractive',\n",
              "                                                    [key], {});\n",
              "        if (!dataTable) return;\n",
              "\n",
              "        const docLinkHtml = 'Like what you see? Visit the ' +\n",
              "          '<a target=\"_blank\" href=https://colab.research.google.com/notebooks/data_table.ipynb>data table notebook</a>'\n",
              "          + ' to learn more about interactive tables.';\n",
              "        element.innerHTML = '';\n",
              "        dataTable['output_type'] = 'display_data';\n",
              "        await google.colab.output.renderOutput(dataTable, element);\n",
              "        const docLink = document.createElement('div');\n",
              "        docLink.innerHTML = docLinkHtml;\n",
              "        element.appendChild(docLink);\n",
              "      }\n",
              "    </script>\n",
              "  </div>\n",
              "\n",
              "\n",
              "<div id=\"df-20220896-7601-4814-b09e-ac23bfb8b969\">\n",
              "  <button class=\"colab-df-quickchart\" onclick=\"quickchart('df-20220896-7601-4814-b09e-ac23bfb8b969')\"\n",
              "            title=\"Suggest charts\"\n",
              "            style=\"display:none;\">\n",
              "\n",
              "<svg xmlns=\"http://www.w3.org/2000/svg\" height=\"24px\"viewBox=\"0 0 24 24\"\n",
              "     width=\"24px\">\n",
              "    <g>\n",
              "        <path d=\"M19 3H5c-1.1 0-2 .9-2 2v14c0 1.1.9 2 2 2h14c1.1 0 2-.9 2-2V5c0-1.1-.9-2-2-2zM9 17H7v-7h2v7zm4 0h-2V7h2v10zm4 0h-2v-4h2v4z\"/>\n",
              "    </g>\n",
              "</svg>\n",
              "  </button>\n",
              "\n",
              "<style>\n",
              "  .colab-df-quickchart {\n",
              "      --bg-color: #E8F0FE;\n",
              "      --fill-color: #1967D2;\n",
              "      --hover-bg-color: #E2EBFA;\n",
              "      --hover-fill-color: #174EA6;\n",
              "      --disabled-fill-color: #AAA;\n",
              "      --disabled-bg-color: #DDD;\n",
              "  }\n",
              "\n",
              "  [theme=dark] .colab-df-quickchart {\n",
              "      --bg-color: #3B4455;\n",
              "      --fill-color: #D2E3FC;\n",
              "      --hover-bg-color: #434B5C;\n",
              "      --hover-fill-color: #FFFFFF;\n",
              "      --disabled-bg-color: #3B4455;\n",
              "      --disabled-fill-color: #666;\n",
              "  }\n",
              "\n",
              "  .colab-df-quickchart {\n",
              "    background-color: var(--bg-color);\n",
              "    border: none;\n",
              "    border-radius: 50%;\n",
              "    cursor: pointer;\n",
              "    display: none;\n",
              "    fill: var(--fill-color);\n",
              "    height: 32px;\n",
              "    padding: 0;\n",
              "    width: 32px;\n",
              "  }\n",
              "\n",
              "  .colab-df-quickchart:hover {\n",
              "    background-color: var(--hover-bg-color);\n",
              "    box-shadow: 0 1px 2px rgba(60, 64, 67, 0.3), 0 1px 3px 1px rgba(60, 64, 67, 0.15);\n",
              "    fill: var(--button-hover-fill-color);\n",
              "  }\n",
              "\n",
              "  .colab-df-quickchart-complete:disabled,\n",
              "  .colab-df-quickchart-complete:disabled:hover {\n",
              "    background-color: var(--disabled-bg-color);\n",
              "    fill: var(--disabled-fill-color);\n",
              "    box-shadow: none;\n",
              "  }\n",
              "\n",
              "  .colab-df-spinner {\n",
              "    border: 2px solid var(--fill-color);\n",
              "    border-color: transparent;\n",
              "    border-bottom-color: var(--fill-color);\n",
              "    animation:\n",
              "      spin 1s steps(1) infinite;\n",
              "  }\n",
              "\n",
              "  @keyframes spin {\n",
              "    0% {\n",
              "      border-color: transparent;\n",
              "      border-bottom-color: var(--fill-color);\n",
              "      border-left-color: var(--fill-color);\n",
              "    }\n",
              "    20% {\n",
              "      border-color: transparent;\n",
              "      border-left-color: var(--fill-color);\n",
              "      border-top-color: var(--fill-color);\n",
              "    }\n",
              "    30% {\n",
              "      border-color: transparent;\n",
              "      border-left-color: var(--fill-color);\n",
              "      border-top-color: var(--fill-color);\n",
              "      border-right-color: var(--fill-color);\n",
              "    }\n",
              "    40% {\n",
              "      border-color: transparent;\n",
              "      border-right-color: var(--fill-color);\n",
              "      border-top-color: var(--fill-color);\n",
              "    }\n",
              "    60% {\n",
              "      border-color: transparent;\n",
              "      border-right-color: var(--fill-color);\n",
              "    }\n",
              "    80% {\n",
              "      border-color: transparent;\n",
              "      border-right-color: var(--fill-color);\n",
              "      border-bottom-color: var(--fill-color);\n",
              "    }\n",
              "    90% {\n",
              "      border-color: transparent;\n",
              "      border-bottom-color: var(--fill-color);\n",
              "    }\n",
              "  }\n",
              "</style>\n",
              "\n",
              "  <script>\n",
              "    async function quickchart(key) {\n",
              "      const quickchartButtonEl =\n",
              "        document.querySelector('#' + key + ' button');\n",
              "      quickchartButtonEl.disabled = true;  // To prevent multiple clicks.\n",
              "      quickchartButtonEl.classList.add('colab-df-spinner');\n",
              "      try {\n",
              "        const charts = await google.colab.kernel.invokeFunction(\n",
              "            'suggestCharts', [key], {});\n",
              "      } catch (error) {\n",
              "        console.error('Error during call to suggestCharts:', error);\n",
              "      }\n",
              "      quickchartButtonEl.classList.remove('colab-df-spinner');\n",
              "      quickchartButtonEl.classList.add('colab-df-quickchart-complete');\n",
              "    }\n",
              "    (() => {\n",
              "      let quickchartButtonEl =\n",
              "        document.querySelector('#df-20220896-7601-4814-b09e-ac23bfb8b969 button');\n",
              "      quickchartButtonEl.style.display =\n",
              "        google.colab.kernel.accessAllowed ? 'block' : 'none';\n",
              "    })();\n",
              "  </script>\n",
              "</div>\n",
              "    </div>\n",
              "  </div>\n"
            ],
            "text/plain": [
              "   f1-score  support encoded_label  label\n",
              "0  0.905684   2924.0         False  False\n",
              "1  0.041270    593.0          True   True"
            ]
          },
          "execution_count": 77,
          "metadata": {},
          "output_type": "execute_result"
        }
      ],
      "source": [
        "df_report_tri_full"
      ]
    },
    {
      "cell_type": "markdown",
      "metadata": {
        "id": "5lWZgGjwiGtX"
      },
      "source": [
        "#### Freezed Finetuned"
      ]
    },
    {
      "cell_type": "code",
      "execution_count": null,
      "metadata": {
        "colab": {
          "base_uri": "https://localhost:8080/",
          "height": 112
        },
        "id": "bU73qZSgiGtX",
        "outputId": "377b54fe-f1a8-4dfa-b432-17333c35dbc6"
      },
      "outputs": [
        {
          "data": {
            "text/html": [
              "\n",
              "  <div id=\"df-7f93d258-159b-4409-9c29-b85c6f64bb96\" class=\"colab-df-container\">\n",
              "    <div>\n",
              "<style scoped>\n",
              "    .dataframe tbody tr th:only-of-type {\n",
              "        vertical-align: middle;\n",
              "    }\n",
              "\n",
              "    .dataframe tbody tr th {\n",
              "        vertical-align: top;\n",
              "    }\n",
              "\n",
              "    .dataframe thead th {\n",
              "        text-align: right;\n",
              "    }\n",
              "</style>\n",
              "<table border=\"1\" class=\"dataframe\">\n",
              "  <thead>\n",
              "    <tr style=\"text-align: right;\">\n",
              "      <th></th>\n",
              "      <th>f1-score</th>\n",
              "      <th>support</th>\n",
              "      <th>encoded_label</th>\n",
              "      <th>label</th>\n",
              "    </tr>\n",
              "  </thead>\n",
              "  <tbody>\n",
              "    <tr>\n",
              "      <th>0</th>\n",
              "      <td>0.907764</td>\n",
              "      <td>2924.0</td>\n",
              "      <td>False</td>\n",
              "      <td>False</td>\n",
              "    </tr>\n",
              "    <tr>\n",
              "      <th>1</th>\n",
              "      <td>0.000000</td>\n",
              "      <td>593.0</td>\n",
              "      <td>True</td>\n",
              "      <td>True</td>\n",
              "    </tr>\n",
              "  </tbody>\n",
              "</table>\n",
              "</div>\n",
              "    <div class=\"colab-df-buttons\">\n",
              "\n",
              "  <div class=\"colab-df-container\">\n",
              "    <button class=\"colab-df-convert\" onclick=\"convertToInteractive('df-7f93d258-159b-4409-9c29-b85c6f64bb96')\"\n",
              "            title=\"Convert this dataframe to an interactive table.\"\n",
              "            style=\"display:none;\">\n",
              "\n",
              "  <svg xmlns=\"http://www.w3.org/2000/svg\" height=\"24px\" viewBox=\"0 -960 960 960\">\n",
              "    <path d=\"M120-120v-720h720v720H120Zm60-500h600v-160H180v160Zm220 220h160v-160H400v160Zm0 220h160v-160H400v160ZM180-400h160v-160H180v160Zm440 0h160v-160H620v160ZM180-180h160v-160H180v160Zm440 0h160v-160H620v160Z\"/>\n",
              "  </svg>\n",
              "    </button>\n",
              "\n",
              "  <style>\n",
              "    .colab-df-container {\n",
              "      display:flex;\n",
              "      gap: 12px;\n",
              "    }\n",
              "\n",
              "    .colab-df-convert {\n",
              "      background-color: #E8F0FE;\n",
              "      border: none;\n",
              "      border-radius: 50%;\n",
              "      cursor: pointer;\n",
              "      display: none;\n",
              "      fill: #1967D2;\n",
              "      height: 32px;\n",
              "      padding: 0 0 0 0;\n",
              "      width: 32px;\n",
              "    }\n",
              "\n",
              "    .colab-df-convert:hover {\n",
              "      background-color: #E2EBFA;\n",
              "      box-shadow: 0px 1px 2px rgba(60, 64, 67, 0.3), 0px 1px 3px 1px rgba(60, 64, 67, 0.15);\n",
              "      fill: #174EA6;\n",
              "    }\n",
              "\n",
              "    .colab-df-buttons div {\n",
              "      margin-bottom: 4px;\n",
              "    }\n",
              "\n",
              "    [theme=dark] .colab-df-convert {\n",
              "      background-color: #3B4455;\n",
              "      fill: #D2E3FC;\n",
              "    }\n",
              "\n",
              "    [theme=dark] .colab-df-convert:hover {\n",
              "      background-color: #434B5C;\n",
              "      box-shadow: 0px 1px 3px 1px rgba(0, 0, 0, 0.15);\n",
              "      filter: drop-shadow(0px 1px 2px rgba(0, 0, 0, 0.3));\n",
              "      fill: #FFFFFF;\n",
              "    }\n",
              "  </style>\n",
              "\n",
              "    <script>\n",
              "      const buttonEl =\n",
              "        document.querySelector('#df-7f93d258-159b-4409-9c29-b85c6f64bb96 button.colab-df-convert');\n",
              "      buttonEl.style.display =\n",
              "        google.colab.kernel.accessAllowed ? 'block' : 'none';\n",
              "\n",
              "      async function convertToInteractive(key) {\n",
              "        const element = document.querySelector('#df-7f93d258-159b-4409-9c29-b85c6f64bb96');\n",
              "        const dataTable =\n",
              "          await google.colab.kernel.invokeFunction('convertToInteractive',\n",
              "                                                    [key], {});\n",
              "        if (!dataTable) return;\n",
              "\n",
              "        const docLinkHtml = 'Like what you see? Visit the ' +\n",
              "          '<a target=\"_blank\" href=https://colab.research.google.com/notebooks/data_table.ipynb>data table notebook</a>'\n",
              "          + ' to learn more about interactive tables.';\n",
              "        element.innerHTML = '';\n",
              "        dataTable['output_type'] = 'display_data';\n",
              "        await google.colab.output.renderOutput(dataTable, element);\n",
              "        const docLink = document.createElement('div');\n",
              "        docLink.innerHTML = docLinkHtml;\n",
              "        element.appendChild(docLink);\n",
              "      }\n",
              "    </script>\n",
              "  </div>\n",
              "\n",
              "\n",
              "<div id=\"df-dcd44b19-126e-4f89-9305-56bdb59aa487\">\n",
              "  <button class=\"colab-df-quickchart\" onclick=\"quickchart('df-dcd44b19-126e-4f89-9305-56bdb59aa487')\"\n",
              "            title=\"Suggest charts\"\n",
              "            style=\"display:none;\">\n",
              "\n",
              "<svg xmlns=\"http://www.w3.org/2000/svg\" height=\"24px\"viewBox=\"0 0 24 24\"\n",
              "     width=\"24px\">\n",
              "    <g>\n",
              "        <path d=\"M19 3H5c-1.1 0-2 .9-2 2v14c0 1.1.9 2 2 2h14c1.1 0 2-.9 2-2V5c0-1.1-.9-2-2-2zM9 17H7v-7h2v7zm4 0h-2V7h2v10zm4 0h-2v-4h2v4z\"/>\n",
              "    </g>\n",
              "</svg>\n",
              "  </button>\n",
              "\n",
              "<style>\n",
              "  .colab-df-quickchart {\n",
              "      --bg-color: #E8F0FE;\n",
              "      --fill-color: #1967D2;\n",
              "      --hover-bg-color: #E2EBFA;\n",
              "      --hover-fill-color: #174EA6;\n",
              "      --disabled-fill-color: #AAA;\n",
              "      --disabled-bg-color: #DDD;\n",
              "  }\n",
              "\n",
              "  [theme=dark] .colab-df-quickchart {\n",
              "      --bg-color: #3B4455;\n",
              "      --fill-color: #D2E3FC;\n",
              "      --hover-bg-color: #434B5C;\n",
              "      --hover-fill-color: #FFFFFF;\n",
              "      --disabled-bg-color: #3B4455;\n",
              "      --disabled-fill-color: #666;\n",
              "  }\n",
              "\n",
              "  .colab-df-quickchart {\n",
              "    background-color: var(--bg-color);\n",
              "    border: none;\n",
              "    border-radius: 50%;\n",
              "    cursor: pointer;\n",
              "    display: none;\n",
              "    fill: var(--fill-color);\n",
              "    height: 32px;\n",
              "    padding: 0;\n",
              "    width: 32px;\n",
              "  }\n",
              "\n",
              "  .colab-df-quickchart:hover {\n",
              "    background-color: var(--hover-bg-color);\n",
              "    box-shadow: 0 1px 2px rgba(60, 64, 67, 0.3), 0 1px 3px 1px rgba(60, 64, 67, 0.15);\n",
              "    fill: var(--button-hover-fill-color);\n",
              "  }\n",
              "\n",
              "  .colab-df-quickchart-complete:disabled,\n",
              "  .colab-df-quickchart-complete:disabled:hover {\n",
              "    background-color: var(--disabled-bg-color);\n",
              "    fill: var(--disabled-fill-color);\n",
              "    box-shadow: none;\n",
              "  }\n",
              "\n",
              "  .colab-df-spinner {\n",
              "    border: 2px solid var(--fill-color);\n",
              "    border-color: transparent;\n",
              "    border-bottom-color: var(--fill-color);\n",
              "    animation:\n",
              "      spin 1s steps(1) infinite;\n",
              "  }\n",
              "\n",
              "  @keyframes spin {\n",
              "    0% {\n",
              "      border-color: transparent;\n",
              "      border-bottom-color: var(--fill-color);\n",
              "      border-left-color: var(--fill-color);\n",
              "    }\n",
              "    20% {\n",
              "      border-color: transparent;\n",
              "      border-left-color: var(--fill-color);\n",
              "      border-top-color: var(--fill-color);\n",
              "    }\n",
              "    30% {\n",
              "      border-color: transparent;\n",
              "      border-left-color: var(--fill-color);\n",
              "      border-top-color: var(--fill-color);\n",
              "      border-right-color: var(--fill-color);\n",
              "    }\n",
              "    40% {\n",
              "      border-color: transparent;\n",
              "      border-right-color: var(--fill-color);\n",
              "      border-top-color: var(--fill-color);\n",
              "    }\n",
              "    60% {\n",
              "      border-color: transparent;\n",
              "      border-right-color: var(--fill-color);\n",
              "    }\n",
              "    80% {\n",
              "      border-color: transparent;\n",
              "      border-right-color: var(--fill-color);\n",
              "      border-bottom-color: var(--fill-color);\n",
              "    }\n",
              "    90% {\n",
              "      border-color: transparent;\n",
              "      border-bottom-color: var(--fill-color);\n",
              "    }\n",
              "  }\n",
              "</style>\n",
              "\n",
              "  <script>\n",
              "    async function quickchart(key) {\n",
              "      const quickchartButtonEl =\n",
              "        document.querySelector('#' + key + ' button');\n",
              "      quickchartButtonEl.disabled = true;  // To prevent multiple clicks.\n",
              "      quickchartButtonEl.classList.add('colab-df-spinner');\n",
              "      try {\n",
              "        const charts = await google.colab.kernel.invokeFunction(\n",
              "            'suggestCharts', [key], {});\n",
              "      } catch (error) {\n",
              "        console.error('Error during call to suggestCharts:', error);\n",
              "      }\n",
              "      quickchartButtonEl.classList.remove('colab-df-spinner');\n",
              "      quickchartButtonEl.classList.add('colab-df-quickchart-complete');\n",
              "    }\n",
              "    (() => {\n",
              "      let quickchartButtonEl =\n",
              "        document.querySelector('#df-dcd44b19-126e-4f89-9305-56bdb59aa487 button');\n",
              "      quickchartButtonEl.style.display =\n",
              "        google.colab.kernel.accessAllowed ? 'block' : 'none';\n",
              "    })();\n",
              "  </script>\n",
              "</div>\n",
              "    </div>\n",
              "  </div>\n"
            ],
            "text/plain": [
              "   f1-score  support encoded_label  label\n",
              "0  0.907764   2924.0         False  False\n",
              "1  0.000000    593.0          True   True"
            ]
          },
          "execution_count": 78,
          "metadata": {},
          "output_type": "execute_result"
        }
      ],
      "source": [
        "df_report_tri_freezed"
      ]
    },
    {
      "cell_type": "markdown",
      "metadata": {
        "id": "GAaHH3IKXQOQ"
      },
      "source": [
        "The trigger for its nature is quite rare in the dataset and it requires a deeply understanding of the meaning of the sentence. So it doesn't surprise to see that's it's more difficult for the model to be identified."
      ]
    },
    {
      "cell_type": "markdown",
      "metadata": {
        "id": "ec_-BPZ2iGtX"
      },
      "source": [
        "#### Fully finetuned CM"
      ]
    },
    {
      "cell_type": "code",
      "execution_count": null,
      "metadata": {
        "colab": {
          "base_uri": "https://localhost:8080/",
          "height": 824
        },
        "id": "A2y-vHzWUMLu",
        "outputId": "68f0c5a0-a4eb-421d-ad68-a946291cf3ef"
      },
      "outputs": [
        {
          "data": {
            "text/plain": [
              "<sklearn.metrics._plot.confusion_matrix.ConfusionMatrixDisplay at 0x7c660b118ac0>"
            ]
          },
          "execution_count": 79,
          "metadata": {},
          "output_type": "execute_result"
        },
        {
          "data": {
            "image/png": "[encoded data removed]",
            "text/plain": [
              "<Figure size 1000x1000 with 2 Axes>"
            ]
          },
          "metadata": {},
          "output_type": "display_data"
        }
      ],
      "source": [
        "fig, ax = plt.subplots(figsize=(10,10))\n",
        "cm_disp_full.plot(ax=ax)"
      ]
    },
    {
      "cell_type": "markdown",
      "metadata": {
        "id": "TZTT3nn_iGtX"
      },
      "source": [
        "#### Freezed finetuned CM"
      ]
    },
    {
      "cell_type": "code",
      "execution_count": null,
      "metadata": {
        "colab": {
          "base_uri": "https://localhost:8080/",
          "height": 838
        },
        "id": "nWSdc3NstH9h",
        "outputId": "11bf77a7-132f-49da-fb2e-7508d3ddfe0d"
      },
      "outputs": [
        {
          "data": {
            "text/plain": [
              "<sklearn.metrics._plot.confusion_matrix.ConfusionMatrixDisplay at 0x7c660b118bb0>"
            ]
          },
          "execution_count": 80,
          "metadata": {},
          "output_type": "execute_result"
        },
        {
          "data": {
            "image/png": "[encoded data removed]",
            "text/plain": [
              "<Figure size 1000x1000 with 2 Axes>"
            ]
          },
          "metadata": {},
          "output_type": "display_data"
        }
      ],
      "source": [
        "fig, ax = plt.subplots(figsize=(10,10))\n",
        "cm_disp_freezed.plot(ax=ax)"
      ]
    },
    {
      "cell_type": "markdown",
      "metadata": {
        "id": "UdZQgiLMO2YS"
      },
      "source": [
        "For the triggers analysis, it could be usefull to observe if there are emotion for which an error is more frequent"
      ]
    },
    {
      "cell_type": "markdown",
      "metadata": {
        "id": "DHYxe_J4PQZT"
      },
      "source": [
        "First of all, let's show the frequence of triggers related to the emotion"
      ]
    },
    {
      "cell_type": "code",
      "execution_count": null,
      "metadata": {
        "colab": {
          "base_uri": "https://localhost:8080/",
          "height": 445
        },
        "id": "9UGUNpmTKYFh",
        "outputId": "3c44e3a7-2375-44c2-99a5-e8bb1faee479"
      },
      "outputs": [
        {
          "data": {
            "image/png": "[encoded data removed]",
            "text/plain": [
              "<Figure size 1000x500 with 1 Axes>"
            ]
          },
          "metadata": {},
          "output_type": "display_data"
        }
      ],
      "source": [
        "df_report_tri = df_test[df_test[\"trigger\"] == 1]\n",
        "plt.figure(figsize=(10,5))\n",
        "plt.hist([df_report_tri.emotion, df_test.emotion],\n",
        "                density=True,\n",
        "                label=[\"Triggers\", \"Distribution\"],\n",
        "                histtype=\"bar\",\n",
        "                )\n",
        "\n",
        "plt.legend()\n",
        "plt.show()"
      ]
    },
    {
      "cell_type": "markdown",
      "metadata": {
        "id": "5dY5kIm1TVMh"
      },
      "source": [
        "The triggers are well distributed among the emotions."
      ]
    },
    {
      "cell_type": "markdown",
      "metadata": {
        "id": "OtSvpsHFiGtY"
      },
      "source": [
        "#### Fully finetuned"
      ]
    },
    {
      "cell_type": "code",
      "execution_count": null,
      "metadata": {
        "colab": {
          "base_uri": "https://localhost:8080/",
          "height": 445
        },
        "id": "8WUgzNDyPu_k",
        "outputId": "20e8e5b8-9cc9-4896-b50d-eeef79f602d2"
      },
      "outputs": [
        {
          "data": {
            "image/png": "[encoded data removed]",
            "text/plain": [
              "<Figure size 1000x500 with 1 Axes>"
            ]
          },
          "metadata": {},
          "output_type": "display_data"
        }
      ],
      "source": [
        "df_report_tri_full = df_test_full[df_test_full[\"trigger\"] != df_test_full[\"predicted_tri\"]]\n",
        "plt.figure(figsize=(10,5))\n",
        "plt.hist(df_report_tri_full.emotion,\n",
        "                density=True,\n",
        "                label=\"Wrong prediction\",\n",
        "                histtype=\"bar\",\n",
        "                rwidth=0.7\n",
        "                )\n",
        "plt.legend()\n",
        "plt.show()"
      ]
    },
    {
      "cell_type": "markdown",
      "metadata": {
        "id": "0opccuqZiGtY"
      },
      "source": [
        "#### Freezed finetuned"
      ]
    },
    {
      "cell_type": "code",
      "execution_count": null,
      "metadata": {
        "colab": {
          "base_uri": "https://localhost:8080/",
          "height": 445
        },
        "id": "bRKIAqvDiGtY",
        "outputId": "03f3546f-b75c-4b6e-be64-d073d0505e9d"
      },
      "outputs": [
        {
          "data": {
            "image/png": "[encoded data removed]",
            "text/plain": [
              "<Figure size 1000x500 with 1 Axes>"
            ]
          },
          "metadata": {},
          "output_type": "display_data"
        }
      ],
      "source": [
        "df_report_tri_freezed = df_test_freezed[df_test_freezed[\"trigger\"] != df_test_freezed[\"predicted_tri\"]]\n",
        "plt.figure(figsize=(10,5))\n",
        "plt.hist(df_report_tri_freezed.emotion,\n",
        "                density=True,\n",
        "                label=\"Wrong prediction\",\n",
        "                histtype=\"bar\",\n",
        "                rwidth=0.7\n",
        "                )\n",
        "plt.legend()\n",
        "plt.show()"
      ]
    },
    {
      "cell_type": "markdown",
      "metadata": {
        "id": "tQs5raC1X26d"
      },
      "source": [
        "From the showed graph, is possible to see that the model fails the most to undestand the trigger when it's caused by a neutral sentence."
      ]
    },
    {
      "cell_type": "code",
      "execution_count": null,
      "metadata": {
        "id": "HdL9DD306pj-"
      },
      "outputs": [],
      "source": []
    }
  ],
  "metadata": {
    "accelerator": "GPU",
    "colab": {
      "gpuType": "T4",
      "provenance": [],
      "toc_visible": true
    },
    "kernelspec": {
      "display_name": "Python 3",
      "name": "python3"
    },
    "language_info": {
      "codemirror_mode": {
        "name": "ipython",
        "version": 3
      },
      "file_extension": ".py",
      "mimetype": "text/x-python",
      "name": "python",
      "nbconvert_exporter": "python",
      "pygments_lexer": "ipython3",
      "version": "3.10.12"
    },
    "widgets": {
      "application/vnd.jupyter.widget-state+json": {
        "15e03794d31a42e8985d410ec1603782": {
          "model_module": "@jupyter-widgets/controls",
          "model_name": "HBoxModel",
          "model_module_version": "1.5.0",
          "state": {
            "_dom_classes": [],
            "_model_module": "@jupyter-widgets/controls",
            "_model_module_version": "1.5.0",
            "_model_name": "HBoxModel",
            "_view_count": null,
            "_view_module": "@jupyter-widgets/controls",
            "_view_module_version": "1.5.0",
            "_view_name": "HBoxView",
            "box_style": "",
            "children": [
              "IPY_MODEL_056c41f4fc27473aba94ad864863bcb6",
              "IPY_MODEL_1daf443e316748028a5b3499896a415e",
              "IPY_MODEL_adc724a3dcc744f4a27073860313b327"
            ],
            "layout": "IPY_MODEL_6aaa1ceb7d2b49ffa41114cc0b6540f7"
          }
        },
        "056c41f4fc27473aba94ad864863bcb6": {
          "model_module": "@jupyter-widgets/controls",
          "model_name": "HTMLModel",
          "model_module_version": "1.5.0",
          "state": {
            "_dom_classes": [],
            "_model_module": "@jupyter-widgets/controls",
            "_model_module_version": "1.5.0",
            "_model_name": "HTMLModel",
            "_view_count": null,
            "_view_module": "@jupyter-widgets/controls",
            "_view_module_version": "1.5.0",
            "_view_name": "HTMLView",
            "description": "",
            "description_tooltip": null,
            "layout": "IPY_MODEL_d581841621b04851b0929f5c0959ff13",
            "placeholder": "​",
            "style": "IPY_MODEL_4e10b1895b484ca289a880c35ccc3092",
            "value": "config.json: 100%"
          }
        },
        "1daf443e316748028a5b3499896a415e": {
          "model_module": "@jupyter-widgets/controls",
          "model_name": "FloatProgressModel",
          "model_module_version": "1.5.0",
          "state": {
            "_dom_classes": [],
            "_model_module": "@jupyter-widgets/controls",
            "_model_module_version": "1.5.0",
            "_model_name": "FloatProgressModel",
            "_view_count": null,
            "_view_module": "@jupyter-widgets/controls",
            "_view_module_version": "1.5.0",
            "_view_name": "ProgressView",
            "bar_style": "success",
            "description": "",
            "description_tooltip": null,
            "layout": "IPY_MODEL_c96a2a06ba1e44ecb5229bae674ff0b0",
            "max": 570,
            "min": 0,
            "orientation": "horizontal",
            "style": "IPY_MODEL_7add3e14868949cc889ff2dac7b5f93e",
            "value": 570
          }
        },
        "adc724a3dcc744f4a27073860313b327": {
          "model_module": "@jupyter-widgets/controls",
          "model_name": "HTMLModel",
          "model_module_version": "1.5.0",
          "state": {
            "_dom_classes": [],
            "_model_module": "@jupyter-widgets/controls",
            "_model_module_version": "1.5.0",
            "_model_name": "HTMLModel",
            "_view_count": null,
            "_view_module": "@jupyter-widgets/controls",
            "_view_module_version": "1.5.0",
            "_view_name": "HTMLView",
            "description": "",
            "description_tooltip": null,
            "layout": "IPY_MODEL_8311064f3f984e439f4e3ca223413739",
            "placeholder": "​",
            "style": "IPY_MODEL_6731a003d37b4fce8660b5ac5b780eab",
            "value": " 570/570 [00:00&lt;00:00, 9.52kB/s]"
          }
        },
        "6aaa1ceb7d2b49ffa41114cc0b6540f7": {
          "model_module": "@jupyter-widgets/base",
          "model_name": "LayoutModel",
          "model_module_version": "1.2.0",
          "state": {
            "_model_module": "@jupyter-widgets/base",
            "_model_module_version": "1.2.0",
            "_model_name": "LayoutModel",
            "_view_count": null,
            "_view_module": "@jupyter-widgets/base",
            "_view_module_version": "1.2.0",
            "_view_name": "LayoutView",
            "align_content": null,
            "align_items": null,
            "align_self": null,
            "border": null,
            "bottom": null,
            "display": null,
            "flex": null,
            "flex_flow": null,
            "grid_area": null,
            "grid_auto_columns": null,
            "grid_auto_flow": null,
            "grid_auto_rows": null,
            "grid_column": null,
            "grid_gap": null,
            "grid_row": null,
            "grid_template_areas": null,
            "grid_template_columns": null,
            "grid_template_rows": null,
            "height": null,
            "justify_content": null,
            "justify_items": null,
            "left": null,
            "margin": null,
            "max_height": null,
            "max_width": null,
            "min_height": null,
            "min_width": null,
            "object_fit": null,
            "object_position": null,
            "order": null,
            "overflow": null,
            "overflow_x": null,
            "overflow_y": null,
            "padding": null,
            "right": null,
            "top": null,
            "visibility": null,
            "width": null
          }
        },
        "d581841621b04851b0929f5c0959ff13": {
          "model_module": "@jupyter-widgets/base",
          "model_name": "LayoutModel",
          "model_module_version": "1.2.0",
          "state": {
            "_model_module": "@jupyter-widgets/base",
            "_model_module_version": "1.2.0",
            "_model_name": "LayoutModel",
            "_view_count": null,
            "_view_module": "@jupyter-widgets/base",
            "_view_module_version": "1.2.0",
            "_view_name": "LayoutView",
            "align_content": null,
            "align_items": null,
            "align_self": null,
            "border": null,
            "bottom": null,
            "display": null,
            "flex": null,
            "flex_flow": null,
            "grid_area": null,
            "grid_auto_columns": null,
            "grid_auto_flow": null,
            "grid_auto_rows": null,
            "grid_column": null,
            "grid_gap": null,
            "grid_row": null,
            "grid_template_areas": null,
            "grid_template_columns": null,
            "grid_template_rows": null,
            "height": null,
            "justify_content": null,
            "justify_items": null,
            "left": null,
            "margin": null,
            "max_height": null,
            "max_width": null,
            "min_height": null,
            "min_width": null,
            "object_fit": null,
            "object_position": null,
            "order": null,
            "overflow": null,
            "overflow_x": null,
            "overflow_y": null,
            "padding": null,
            "right": null,
            "top": null,
            "visibility": null,
            "width": null
          }
        },
        "4e10b1895b484ca289a880c35ccc3092": {
          "model_module": "@jupyter-widgets/controls",
          "model_name": "DescriptionStyleModel",
          "model_module_version": "1.5.0",
          "state": {
            "_model_module": "@jupyter-widgets/controls",
            "_model_module_version": "1.5.0",
            "_model_name": "DescriptionStyleModel",
            "_view_count": null,
            "_view_module": "@jupyter-widgets/base",
            "_view_module_version": "1.2.0",
            "_view_name": "StyleView",
            "description_width": ""
          }
        },
        "c96a2a06ba1e44ecb5229bae674ff0b0": {
          "model_module": "@jupyter-widgets/base",
          "model_name": "LayoutModel",
          "model_module_version": "1.2.0",
          "state": {
            "_model_module": "@jupyter-widgets/base",
            "_model_module_version": "1.2.0",
            "_model_name": "LayoutModel",
            "_view_count": null,
            "_view_module": "@jupyter-widgets/base",
            "_view_module_version": "1.2.0",
            "_view_name": "LayoutView",
            "align_content": null,
            "align_items": null,
            "align_self": null,
            "border": null,
            "bottom": null,
            "display": null,
            "flex": null,
            "flex_flow": null,
            "grid_area": null,
            "grid_auto_columns": null,
            "grid_auto_flow": null,
            "grid_auto_rows": null,
            "grid_column": null,
            "grid_gap": null,
            "grid_row": null,
            "grid_template_areas": null,
            "grid_template_columns": null,
            "grid_template_rows": null,
            "height": null,
            "justify_content": null,
            "justify_items": null,
            "left": null,
            "margin": null,
            "max_height": null,
            "max_width": null,
            "min_height": null,
            "min_width": null,
            "object_fit": null,
            "object_position": null,
            "order": null,
            "overflow": null,
            "overflow_x": null,
            "overflow_y": null,
            "padding": null,
            "right": null,
            "top": null,
            "visibility": null,
            "width": null
          }
        },
        "7add3e14868949cc889ff2dac7b5f93e": {
          "model_module": "@jupyter-widgets/controls",
          "model_name": "ProgressStyleModel",
          "model_module_version": "1.5.0",
          "state": {
            "_model_module": "@jupyter-widgets/controls",
            "_model_module_version": "1.5.0",
            "_model_name": "ProgressStyleModel",
            "_view_count": null,
            "_view_module": "@jupyter-widgets/base",
            "_view_module_version": "1.2.0",
            "_view_name": "StyleView",
            "bar_color": null,
            "description_width": ""
          }
        },
        "8311064f3f984e439f4e3ca223413739": {
          "model_module": "@jupyter-widgets/base",
          "model_name": "LayoutModel",
          "model_module_version": "1.2.0",
          "state": {
            "_model_module": "@jupyter-widgets/base",
            "_model_module_version": "1.2.0",
            "_model_name": "LayoutModel",
            "_view_count": null,
            "_view_module": "@jupyter-widgets/base",
            "_view_module_version": "1.2.0",
            "_view_name": "LayoutView",
            "align_content": null,
            "align_items": null,
            "align_self": null,
            "border": null,
            "bottom": null,
            "display": null,
            "flex": null,
            "flex_flow": null,
            "grid_area": null,
            "grid_auto_columns": null,
            "grid_auto_flow": null,
            "grid_auto_rows": null,
            "grid_column": null,
            "grid_gap": null,
            "grid_row": null,
            "grid_template_areas": null,
            "grid_template_columns": null,
            "grid_template_rows": null,
            "height": null,
            "justify_content": null,
            "justify_items": null,
            "left": null,
            "margin": null,
            "max_height": null,
            "max_width": null,
            "min_height": null,
            "min_width": null,
            "object_fit": null,
            "object_position": null,
            "order": null,
            "overflow": null,
            "overflow_x": null,
            "overflow_y": null,
            "padding": null,
            "right": null,
            "top": null,
            "visibility": null,
            "width": null
          }
        },
        "6731a003d37b4fce8660b5ac5b780eab": {
          "model_module": "@jupyter-widgets/controls",
          "model_name": "DescriptionStyleModel",
          "model_module_version": "1.5.0",
          "state": {
            "_model_module": "@jupyter-widgets/controls",
            "_model_module_version": "1.5.0",
            "_model_name": "DescriptionStyleModel",
            "_view_count": null,
            "_view_module": "@jupyter-widgets/base",
            "_view_module_version": "1.2.0",
            "_view_name": "StyleView",
            "description_width": ""
          }
        },
        "54877d64664d477ba36642d6f0dc3ce5": {
          "model_module": "@jupyter-widgets/controls",
          "model_name": "HBoxModel",
          "model_module_version": "1.5.0",
          "state": {
            "_dom_classes": [],
            "_model_module": "@jupyter-widgets/controls",
            "_model_module_version": "1.5.0",
            "_model_name": "HBoxModel",
            "_view_count": null,
            "_view_module": "@jupyter-widgets/controls",
            "_view_module_version": "1.5.0",
            "_view_name": "HBoxView",
            "box_style": "",
            "children": [
              "IPY_MODEL_6a566e86b66944a5be44f5a61dd1e10b",
              "IPY_MODEL_6980ab64a1894b1297174f8dba3f00f3",
              "IPY_MODEL_eb9c0b28ea6d42dc983ac3b570b83863"
            ],
            "layout": "IPY_MODEL_fd07dfd2e74543a5a1f75562f472235b"
          }
        },
        "6a566e86b66944a5be44f5a61dd1e10b": {
          "model_module": "@jupyter-widgets/controls",
          "model_name": "HTMLModel",
          "model_module_version": "1.5.0",
          "state": {
            "_dom_classes": [],
            "_model_module": "@jupyter-widgets/controls",
            "_model_module_version": "1.5.0",
            "_model_name": "HTMLModel",
            "_view_count": null,
            "_view_module": "@jupyter-widgets/controls",
            "_view_module_version": "1.5.0",
            "_view_name": "HTMLView",
            "description": "",
            "description_tooltip": null,
            "layout": "IPY_MODEL_f2522679a2b14db4b354b0d3474b9e84",
            "placeholder": "​",
            "style": "IPY_MODEL_f77738879a844246920eb19edf9cb0ee",
            "value": "model.safetensors: 100%"
          }
        },
        "6980ab64a1894b1297174f8dba3f00f3": {
          "model_module": "@jupyter-widgets/controls",
          "model_name": "FloatProgressModel",
          "model_module_version": "1.5.0",
          "state": {
            "_dom_classes": [],
            "_model_module": "@jupyter-widgets/controls",
            "_model_module_version": "1.5.0",
            "_model_name": "FloatProgressModel",
            "_view_count": null,
            "_view_module": "@jupyter-widgets/controls",
            "_view_module_version": "1.5.0",
            "_view_name": "ProgressView",
            "bar_style": "success",
            "description": "",
            "description_tooltip": null,
            "layout": "IPY_MODEL_746a8e1cc687499c93ab1798cd4639c3",
            "max": 440449768,
            "min": 0,
            "orientation": "horizontal",
            "style": "IPY_MODEL_8654e2a8f73447b5b67d5ef8d9d63bd0",
            "value": 440449768
          }
        },
        "eb9c0b28ea6d42dc983ac3b570b83863": {
          "model_module": "@jupyter-widgets/controls",
          "model_name": "HTMLModel",
          "model_module_version": "1.5.0",
          "state": {
            "_dom_classes": [],
            "_model_module": "@jupyter-widgets/controls",
            "_model_module_version": "1.5.0",
            "_model_name": "HTMLModel",
            "_view_count": null,
            "_view_module": "@jupyter-widgets/controls",
            "_view_module_version": "1.5.0",
            "_view_name": "HTMLView",
            "description": "",
            "description_tooltip": null,
            "layout": "IPY_MODEL_4ffbeb21e4b94fed93a2540e69d1d63e",
            "placeholder": "​",
            "style": "IPY_MODEL_92fb4737510143cbb0f1761297ef7132",
            "value": " 440M/440M [00:06&lt;00:00, 56.4MB/s]"
          }
        },
        "fd07dfd2e74543a5a1f75562f472235b": {
          "model_module": "@jupyter-widgets/base",
          "model_name": "LayoutModel",
          "model_module_version": "1.2.0",
          "state": {
            "_model_module": "@jupyter-widgets/base",
            "_model_module_version": "1.2.0",
            "_model_name": "LayoutModel",
            "_view_count": null,
            "_view_module": "@jupyter-widgets/base",
            "_view_module_version": "1.2.0",
            "_view_name": "LayoutView",
            "align_content": null,
            "align_items": null,
            "align_self": null,
            "border": null,
            "bottom": null,
            "display": null,
            "flex": null,
            "flex_flow": null,
            "grid_area": null,
            "grid_auto_columns": null,
            "grid_auto_flow": null,
            "grid_auto_rows": null,
            "grid_column": null,
            "grid_gap": null,
            "grid_row": null,
            "grid_template_areas": null,
            "grid_template_columns": null,
            "grid_template_rows": null,
            "height": null,
            "justify_content": null,
            "justify_items": null,
            "left": null,
            "margin": null,
            "max_height": null,
            "max_width": null,
            "min_height": null,
            "min_width": null,
            "object_fit": null,
            "object_position": null,
            "order": null,
            "overflow": null,
            "overflow_x": null,
            "overflow_y": null,
            "padding": null,
            "right": null,
            "top": null,
            "visibility": null,
            "width": null
          }
        },
        "f2522679a2b14db4b354b0d3474b9e84": {
          "model_module": "@jupyter-widgets/base",
          "model_name": "LayoutModel",
          "model_module_version": "1.2.0",
          "state": {
            "_model_module": "@jupyter-widgets/base",
            "_model_module_version": "1.2.0",
            "_model_name": "LayoutModel",
            "_view_count": null,
            "_view_module": "@jupyter-widgets/base",
            "_view_module_version": "1.2.0",
            "_view_name": "LayoutView",
            "align_content": null,
            "align_items": null,
            "align_self": null,
            "border": null,
            "bottom": null,
            "display": null,
            "flex": null,
            "flex_flow": null,
            "grid_area": null,
            "grid_auto_columns": null,
            "grid_auto_flow": null,
            "grid_auto_rows": null,
            "grid_column": null,
            "grid_gap": null,
            "grid_row": null,
            "grid_template_areas": null,
            "grid_template_columns": null,
            "grid_template_rows": null,
            "height": null,
            "justify_content": null,
            "justify_items": null,
            "left": null,
            "margin": null,
            "max_height": null,
            "max_width": null,
            "min_height": null,
            "min_width": null,
            "object_fit": null,
            "object_position": null,
            "order": null,
            "overflow": null,
            "overflow_x": null,
            "overflow_y": null,
            "padding": null,
            "right": null,
            "top": null,
            "visibility": null,
            "width": null
          }
        },
        "f77738879a844246920eb19edf9cb0ee": {
          "model_module": "@jupyter-widgets/controls",
          "model_name": "DescriptionStyleModel",
          "model_module_version": "1.5.0",
          "state": {
            "_model_module": "@jupyter-widgets/controls",
            "_model_module_version": "1.5.0",
            "_model_name": "DescriptionStyleModel",
            "_view_count": null,
            "_view_module": "@jupyter-widgets/base",
            "_view_module_version": "1.2.0",
            "_view_name": "StyleView",
            "description_width": ""
          }
        },
        "746a8e1cc687499c93ab1798cd4639c3": {
          "model_module": "@jupyter-widgets/base",
          "model_name": "LayoutModel",
          "model_module_version": "1.2.0",
          "state": {
            "_model_module": "@jupyter-widgets/base",
            "_model_module_version": "1.2.0",
            "_model_name": "LayoutModel",
            "_view_count": null,
            "_view_module": "@jupyter-widgets/base",
            "_view_module_version": "1.2.0",
            "_view_name": "LayoutView",
            "align_content": null,
            "align_items": null,
            "align_self": null,
            "border": null,
            "bottom": null,
            "display": null,
            "flex": null,
            "flex_flow": null,
            "grid_area": null,
            "grid_auto_columns": null,
            "grid_auto_flow": null,
            "grid_auto_rows": null,
            "grid_column": null,
            "grid_gap": null,
            "grid_row": null,
            "grid_template_areas": null,
            "grid_template_columns": null,
            "grid_template_rows": null,
            "height": null,
            "justify_content": null,
            "justify_items": null,
            "left": null,
            "margin": null,
            "max_height": null,
            "max_width": null,
            "min_height": null,
            "min_width": null,
            "object_fit": null,
            "object_position": null,
            "order": null,
            "overflow": null,
            "overflow_x": null,
            "overflow_y": null,
            "padding": null,
            "right": null,
            "top": null,
            "visibility": null,
            "width": null
          }
        },
        "8654e2a8f73447b5b67d5ef8d9d63bd0": {
          "model_module": "@jupyter-widgets/controls",
          "model_name": "ProgressStyleModel",
          "model_module_version": "1.5.0",
          "state": {
            "_model_module": "@jupyter-widgets/controls",
            "_model_module_version": "1.5.0",
            "_model_name": "ProgressStyleModel",
            "_view_count": null,
            "_view_module": "@jupyter-widgets/base",
            "_view_module_version": "1.2.0",
            "_view_name": "StyleView",
            "bar_color": null,
            "description_width": ""
          }
        },
        "4ffbeb21e4b94fed93a2540e69d1d63e": {
          "model_module": "@jupyter-widgets/base",
          "model_name": "LayoutModel",
          "model_module_version": "1.2.0",
          "state": {
            "_model_module": "@jupyter-widgets/base",
            "_model_module_version": "1.2.0",
            "_model_name": "LayoutModel",
            "_view_count": null,
            "_view_module": "@jupyter-widgets/base",
            "_view_module_version": "1.2.0",
            "_view_name": "LayoutView",
            "align_content": null,
            "align_items": null,
            "align_self": null,
            "border": null,
            "bottom": null,
            "display": null,
            "flex": null,
            "flex_flow": null,
            "grid_area": null,
            "grid_auto_columns": null,
            "grid_auto_flow": null,
            "grid_auto_rows": null,
            "grid_column": null,
            "grid_gap": null,
            "grid_row": null,
            "grid_template_areas": null,
            "grid_template_columns": null,
            "grid_template_rows": null,
            "height": null,
            "justify_content": null,
            "justify_items": null,
            "left": null,
            "margin": null,
            "max_height": null,
            "max_width": null,
            "min_height": null,
            "min_width": null,
            "object_fit": null,
            "object_position": null,
            "order": null,
            "overflow": null,
            "overflow_x": null,
            "overflow_y": null,
            "padding": null,
            "right": null,
            "top": null,
            "visibility": null,
            "width": null
          }
        },
        "92fb4737510143cbb0f1761297ef7132": {
          "model_module": "@jupyter-widgets/controls",
          "model_name": "DescriptionStyleModel",
          "model_module_version": "1.5.0",
          "state": {
            "_model_module": "@jupyter-widgets/controls",
            "_model_module_version": "1.5.0",
            "_model_name": "DescriptionStyleModel",
            "_view_count": null,
            "_view_module": "@jupyter-widgets/base",
            "_view_module_version": "1.2.0",
            "_view_name": "StyleView",
            "description_width": ""
          }
        },
        "bb9173c0396e4e5188ddd5b2fe17ef27": {
          "model_module": "@jupyter-widgets/controls",
          "model_name": "HBoxModel",
          "model_module_version": "1.5.0",
          "state": {
            "_dom_classes": [],
            "_model_module": "@jupyter-widgets/controls",
            "_model_module_version": "1.5.0",
            "_model_name": "HBoxModel",
            "_view_count": null,
            "_view_module": "@jupyter-widgets/controls",
            "_view_module_version": "1.5.0",
            "_view_name": "HBoxView",
            "box_style": "",
            "children": [
              "IPY_MODEL_e40729472c074e5480d3801a4c72f893",
              "IPY_MODEL_c723011611e04d9ca89f37f6c468442d",
              "IPY_MODEL_9253f607d52a4a809ae7f4e8858b2dac"
            ],
            "layout": "IPY_MODEL_417f2230a8d647e99d9cf87acd52acad"
          }
        },
        "e40729472c074e5480d3801a4c72f893": {
          "model_module": "@jupyter-widgets/controls",
          "model_name": "HTMLModel",
          "model_module_version": "1.5.0",
          "state": {
            "_dom_classes": [],
            "_model_module": "@jupyter-widgets/controls",
            "_model_module_version": "1.5.0",
            "_model_name": "HTMLModel",
            "_view_count": null,
            "_view_module": "@jupyter-widgets/controls",
            "_view_module_version": "1.5.0",
            "_view_name": "HTMLView",
            "description": "",
            "description_tooltip": null,
            "layout": "IPY_MODEL_f474fc9778d9417ab927de8a4876133b",
            "placeholder": "​",
            "style": "IPY_MODEL_0bcede756890400291e859c3748b63d6",
            "value": "tokenizer_config.json: 100%"
          }
        },
        "c723011611e04d9ca89f37f6c468442d": {
          "model_module": "@jupyter-widgets/controls",
          "model_name": "FloatProgressModel",
          "model_module_version": "1.5.0",
          "state": {
            "_dom_classes": [],
            "_model_module": "@jupyter-widgets/controls",
            "_model_module_version": "1.5.0",
            "_model_name": "FloatProgressModel",
            "_view_count": null,
            "_view_module": "@jupyter-widgets/controls",
            "_view_module_version": "1.5.0",
            "_view_name": "ProgressView",
            "bar_style": "success",
            "description": "",
            "description_tooltip": null,
            "layout": "IPY_MODEL_7dca822b02114a5a89152c8ea884e087",
            "max": 28,
            "min": 0,
            "orientation": "horizontal",
            "style": "IPY_MODEL_663491e20f2c487f95f64e47370b26c3",
            "value": 28
          }
        },
        "9253f607d52a4a809ae7f4e8858b2dac": {
          "model_module": "@jupyter-widgets/controls",
          "model_name": "HTMLModel",
          "model_module_version": "1.5.0",
          "state": {
            "_dom_classes": [],
            "_model_module": "@jupyter-widgets/controls",
            "_model_module_version": "1.5.0",
            "_model_name": "HTMLModel",
            "_view_count": null,
            "_view_module": "@jupyter-widgets/controls",
            "_view_module_version": "1.5.0",
            "_view_name": "HTMLView",
            "description": "",
            "description_tooltip": null,
            "layout": "IPY_MODEL_f912438514484b08864034c2aa0cc6ae",
            "placeholder": "​",
            "style": "IPY_MODEL_8c3569711c104898ad2fd3442108709c",
            "value": " 28.0/28.0 [00:00&lt;00:00, 231B/s]"
          }
        },
        "417f2230a8d647e99d9cf87acd52acad": {
          "model_module": "@jupyter-widgets/base",
          "model_name": "LayoutModel",
          "model_module_version": "1.2.0",
          "state": {
            "_model_module": "@jupyter-widgets/base",
            "_model_module_version": "1.2.0",
            "_model_name": "LayoutModel",
            "_view_count": null,
            "_view_module": "@jupyter-widgets/base",
            "_view_module_version": "1.2.0",
            "_view_name": "LayoutView",
            "align_content": null,
            "align_items": null,
            "align_self": null,
            "border": null,
            "bottom": null,
            "display": null,
            "flex": null,
            "flex_flow": null,
            "grid_area": null,
            "grid_auto_columns": null,
            "grid_auto_flow": null,
            "grid_auto_rows": null,
            "grid_column": null,
            "grid_gap": null,
            "grid_row": null,
            "grid_template_areas": null,
            "grid_template_columns": null,
            "grid_template_rows": null,
            "height": null,
            "justify_content": null,
            "justify_items": null,
            "left": null,
            "margin": null,
            "max_height": null,
            "max_width": null,
            "min_height": null,
            "min_width": null,
            "object_fit": null,
            "object_position": null,
            "order": null,
            "overflow": null,
            "overflow_x": null,
            "overflow_y": null,
            "padding": null,
            "right": null,
            "top": null,
            "visibility": null,
            "width": null
          }
        },
        "f474fc9778d9417ab927de8a4876133b": {
          "model_module": "@jupyter-widgets/base",
          "model_name": "LayoutModel",
          "model_module_version": "1.2.0",
          "state": {
            "_model_module": "@jupyter-widgets/base",
            "_model_module_version": "1.2.0",
            "_model_name": "LayoutModel",
            "_view_count": null,
            "_view_module": "@jupyter-widgets/base",
            "_view_module_version": "1.2.0",
            "_view_name": "LayoutView",
            "align_content": null,
            "align_items": null,
            "align_self": null,
            "border": null,
            "bottom": null,
            "display": null,
            "flex": null,
            "flex_flow": null,
            "grid_area": null,
            "grid_auto_columns": null,
            "grid_auto_flow": null,
            "grid_auto_rows": null,
            "grid_column": null,
            "grid_gap": null,
            "grid_row": null,
            "grid_template_areas": null,
            "grid_template_columns": null,
            "grid_template_rows": null,
            "height": null,
            "justify_content": null,
            "justify_items": null,
            "left": null,
            "margin": null,
            "max_height": null,
            "max_width": null,
            "min_height": null,
            "min_width": null,
            "object_fit": null,
            "object_position": null,
            "order": null,
            "overflow": null,
            "overflow_x": null,
            "overflow_y": null,
            "padding": null,
            "right": null,
            "top": null,
            "visibility": null,
            "width": null
          }
        },
        "0bcede756890400291e859c3748b63d6": {
          "model_module": "@jupyter-widgets/controls",
          "model_name": "DescriptionStyleModel",
          "model_module_version": "1.5.0",
          "state": {
            "_model_module": "@jupyter-widgets/controls",
            "_model_module_version": "1.5.0",
            "_model_name": "DescriptionStyleModel",
            "_view_count": null,
            "_view_module": "@jupyter-widgets/base",
            "_view_module_version": "1.2.0",
            "_view_name": "StyleView",
            "description_width": ""
          }
        },
        "7dca822b02114a5a89152c8ea884e087": {
          "model_module": "@jupyter-widgets/base",
          "model_name": "LayoutModel",
          "model_module_version": "1.2.0",
          "state": {
            "_model_module": "@jupyter-widgets/base",
            "_model_module_version": "1.2.0",
            "_model_name": "LayoutModel",
            "_view_count": null,
            "_view_module": "@jupyter-widgets/base",
            "_view_module_version": "1.2.0",
            "_view_name": "LayoutView",
            "align_content": null,
            "align_items": null,
            "align_self": null,
            "border": null,
            "bottom": null,
            "display": null,
            "flex": null,
            "flex_flow": null,
            "grid_area": null,
            "grid_auto_columns": null,
            "grid_auto_flow": null,
            "grid_auto_rows": null,
            "grid_column": null,
            "grid_gap": null,
            "grid_row": null,
            "grid_template_areas": null,
            "grid_template_columns": null,
            "grid_template_rows": null,
            "height": null,
            "justify_content": null,
            "justify_items": null,
            "left": null,
            "margin": null,
            "max_height": null,
            "max_width": null,
            "min_height": null,
            "min_width": null,
            "object_fit": null,
            "object_position": null,
            "order": null,
            "overflow": null,
            "overflow_x": null,
            "overflow_y": null,
            "padding": null,
            "right": null,
            "top": null,
            "visibility": null,
            "width": null
          }
        },
        "663491e20f2c487f95f64e47370b26c3": {
          "model_module": "@jupyter-widgets/controls",
          "model_name": "ProgressStyleModel",
          "model_module_version": "1.5.0",
          "state": {
            "_model_module": "@jupyter-widgets/controls",
            "_model_module_version": "1.5.0",
            "_model_name": "ProgressStyleModel",
            "_view_count": null,
            "_view_module": "@jupyter-widgets/base",
            "_view_module_version": "1.2.0",
            "_view_name": "StyleView",
            "bar_color": null,
            "description_width": ""
          }
        },
        "f912438514484b08864034c2aa0cc6ae": {
          "model_module": "@jupyter-widgets/base",
          "model_name": "LayoutModel",
          "model_module_version": "1.2.0",
          "state": {
            "_model_module": "@jupyter-widgets/base",
            "_model_module_version": "1.2.0",
            "_model_name": "LayoutModel",
            "_view_count": null,
            "_view_module": "@jupyter-widgets/base",
            "_view_module_version": "1.2.0",
            "_view_name": "LayoutView",
            "align_content": null,
            "align_items": null,
            "align_self": null,
            "border": null,
            "bottom": null,
            "display": null,
            "flex": null,
            "flex_flow": null,
            "grid_area": null,
            "grid_auto_columns": null,
            "grid_auto_flow": null,
            "grid_auto_rows": null,
            "grid_column": null,
            "grid_gap": null,
            "grid_row": null,
            "grid_template_areas": null,
            "grid_template_columns": null,
            "grid_template_rows": null,
            "height": null,
            "justify_content": null,
            "justify_items": null,
            "left": null,
            "margin": null,
            "max_height": null,
            "max_width": null,
            "min_height": null,
            "min_width": null,
            "object_fit": null,
            "object_position": null,
            "order": null,
            "overflow": null,
            "overflow_x": null,
            "overflow_y": null,
            "padding": null,
            "right": null,
            "top": null,
            "visibility": null,
            "width": null
          }
        },
        "8c3569711c104898ad2fd3442108709c": {
          "model_module": "@jupyter-widgets/controls",
          "model_name": "DescriptionStyleModel",
          "model_module_version": "1.5.0",
          "state": {
            "_model_module": "@jupyter-widgets/controls",
            "_model_module_version": "1.5.0",
            "_model_name": "DescriptionStyleModel",
            "_view_count": null,
            "_view_module": "@jupyter-widgets/base",
            "_view_module_version": "1.2.0",
            "_view_name": "StyleView",
            "description_width": ""
          }
        },
        "8224efe0c5cc44d1b0fcbd1b324e11ee": {
          "model_module": "@jupyter-widgets/controls",
          "model_name": "HBoxModel",
          "model_module_version": "1.5.0",
          "state": {
            "_dom_classes": [],
            "_model_module": "@jupyter-widgets/controls",
            "_model_module_version": "1.5.0",
            "_model_name": "HBoxModel",
            "_view_count": null,
            "_view_module": "@jupyter-widgets/controls",
            "_view_module_version": "1.5.0",
            "_view_name": "HBoxView",
            "box_style": "",
            "children": [
              "IPY_MODEL_9dbf4f0a49ed45bfb322bab5a4dacb53",
              "IPY_MODEL_b2636bdae70a4413a77ccee2e6c07ccf",
              "IPY_MODEL_5ad58c2744004a06b3136c9619768765"
            ],
            "layout": "IPY_MODEL_0a3f6bffa6d24d7fbb81fa062cd28ea1"
          }
        },
        "9dbf4f0a49ed45bfb322bab5a4dacb53": {
          "model_module": "@jupyter-widgets/controls",
          "model_name": "HTMLModel",
          "model_module_version": "1.5.0",
          "state": {
            "_dom_classes": [],
            "_model_module": "@jupyter-widgets/controls",
            "_model_module_version": "1.5.0",
            "_model_name": "HTMLModel",
            "_view_count": null,
            "_view_module": "@jupyter-widgets/controls",
            "_view_module_version": "1.5.0",
            "_view_name": "HTMLView",
            "description": "",
            "description_tooltip": null,
            "layout": "IPY_MODEL_de2c03593dbd4450a6370395b2876fb3",
            "placeholder": "​",
            "style": "IPY_MODEL_e56f2768da334fd68ded86cb5b5c52ed",
            "value": "vocab.txt: 100%"
          }
        },
        "b2636bdae70a4413a77ccee2e6c07ccf": {
          "model_module": "@jupyter-widgets/controls",
          "model_name": "FloatProgressModel",
          "model_module_version": "1.5.0",
          "state": {
            "_dom_classes": [],
            "_model_module": "@jupyter-widgets/controls",
            "_model_module_version": "1.5.0",
            "_model_name": "FloatProgressModel",
            "_view_count": null,
            "_view_module": "@jupyter-widgets/controls",
            "_view_module_version": "1.5.0",
            "_view_name": "ProgressView",
            "bar_style": "success",
            "description": "",
            "description_tooltip": null,
            "layout": "IPY_MODEL_8b14841f0b394696bd801d2afa6878fc",
            "max": 231508,
            "min": 0,
            "orientation": "horizontal",
            "style": "IPY_MODEL_4079e46c3e454496a27d30f5ea0afc52",
            "value": 231508
          }
        },
        "5ad58c2744004a06b3136c9619768765": {
          "model_module": "@jupyter-widgets/controls",
          "model_name": "HTMLModel",
          "model_module_version": "1.5.0",
          "state": {
            "_dom_classes": [],
            "_model_module": "@jupyter-widgets/controls",
            "_model_module_version": "1.5.0",
            "_model_name": "HTMLModel",
            "_view_count": null,
            "_view_module": "@jupyter-widgets/controls",
            "_view_module_version": "1.5.0",
            "_view_name": "HTMLView",
            "description": "",
            "description_tooltip": null,
            "layout": "IPY_MODEL_7a9b31c7edb24d5b98e5b7ad4f20457f",
            "placeholder": "​",
            "style": "IPY_MODEL_b834b94f08f4451e8cd93153d09b4e09",
            "value": " 232k/232k [00:00&lt;00:00, 1.42MB/s]"
          }
        },
        "0a3f6bffa6d24d7fbb81fa062cd28ea1": {
          "model_module": "@jupyter-widgets/base",
          "model_name": "LayoutModel",
          "model_module_version": "1.2.0",
          "state": {
            "_model_module": "@jupyter-widgets/base",
            "_model_module_version": "1.2.0",
            "_model_name": "LayoutModel",
            "_view_count": null,
            "_view_module": "@jupyter-widgets/base",
            "_view_module_version": "1.2.0",
            "_view_name": "LayoutView",
            "align_content": null,
            "align_items": null,
            "align_self": null,
            "border": null,
            "bottom": null,
            "display": null,
            "flex": null,
            "flex_flow": null,
            "grid_area": null,
            "grid_auto_columns": null,
            "grid_auto_flow": null,
            "grid_auto_rows": null,
            "grid_column": null,
            "grid_gap": null,
            "grid_row": null,
            "grid_template_areas": null,
            "grid_template_columns": null,
            "grid_template_rows": null,
            "height": null,
            "justify_content": null,
            "justify_items": null,
            "left": null,
            "margin": null,
            "max_height": null,
            "max_width": null,
            "min_height": null,
            "min_width": null,
            "object_fit": null,
            "object_position": null,
            "order": null,
            "overflow": null,
            "overflow_x": null,
            "overflow_y": null,
            "padding": null,
            "right": null,
            "top": null,
            "visibility": null,
            "width": null
          }
        },
        "de2c03593dbd4450a6370395b2876fb3": {
          "model_module": "@jupyter-widgets/base",
          "model_name": "LayoutModel",
          "model_module_version": "1.2.0",
          "state": {
            "_model_module": "@jupyter-widgets/base",
            "_model_module_version": "1.2.0",
            "_model_name": "LayoutModel",
            "_view_count": null,
            "_view_module": "@jupyter-widgets/base",
            "_view_module_version": "1.2.0",
            "_view_name": "LayoutView",
            "align_content": null,
            "align_items": null,
            "align_self": null,
            "border": null,
            "bottom": null,
            "display": null,
            "flex": null,
            "flex_flow": null,
            "grid_area": null,
            "grid_auto_columns": null,
            "grid_auto_flow": null,
            "grid_auto_rows": null,
            "grid_column": null,
            "grid_gap": null,
            "grid_row": null,
            "grid_template_areas": null,
            "grid_template_columns": null,
            "grid_template_rows": null,
            "height": null,
            "justify_content": null,
            "justify_items": null,
            "left": null,
            "margin": null,
            "max_height": null,
            "max_width": null,
            "min_height": null,
            "min_width": null,
            "object_fit": null,
            "object_position": null,
            "order": null,
            "overflow": null,
            "overflow_x": null,
            "overflow_y": null,
            "padding": null,
            "right": null,
            "top": null,
            "visibility": null,
            "width": null
          }
        },
        "e56f2768da334fd68ded86cb5b5c52ed": {
          "model_module": "@jupyter-widgets/controls",
          "model_name": "DescriptionStyleModel",
          "model_module_version": "1.5.0",
          "state": {
            "_model_module": "@jupyter-widgets/controls",
            "_model_module_version": "1.5.0",
            "_model_name": "DescriptionStyleModel",
            "_view_count": null,
            "_view_module": "@jupyter-widgets/base",
            "_view_module_version": "1.2.0",
            "_view_name": "StyleView",
            "description_width": ""
          }
        },
        "8b14841f0b394696bd801d2afa6878fc": {
          "model_module": "@jupyter-widgets/base",
          "model_name": "LayoutModel",
          "model_module_version": "1.2.0",
          "state": {
            "_model_module": "@jupyter-widgets/base",
            "_model_module_version": "1.2.0",
            "_model_name": "LayoutModel",
            "_view_count": null,
            "_view_module": "@jupyter-widgets/base",
            "_view_module_version": "1.2.0",
            "_view_name": "LayoutView",
            "align_content": null,
            "align_items": null,
            "align_self": null,
            "border": null,
            "bottom": null,
            "display": null,
            "flex": null,
            "flex_flow": null,
            "grid_area": null,
            "grid_auto_columns": null,
            "grid_auto_flow": null,
            "grid_auto_rows": null,
            "grid_column": null,
            "grid_gap": null,
            "grid_row": null,
            "grid_template_areas": null,
            "grid_template_columns": null,
            "grid_template_rows": null,
            "height": null,
            "justify_content": null,
            "justify_items": null,
            "left": null,
            "margin": null,
            "max_height": null,
            "max_width": null,
            "min_height": null,
            "min_width": null,
            "object_fit": null,
            "object_position": null,
            "order": null,
            "overflow": null,
            "overflow_x": null,
            "overflow_y": null,
            "padding": null,
            "right": null,
            "top": null,
            "visibility": null,
            "width": null
          }
        },
        "4079e46c3e454496a27d30f5ea0afc52": {
          "model_module": "@jupyter-widgets/controls",
          "model_name": "ProgressStyleModel",
          "model_module_version": "1.5.0",
          "state": {
            "_model_module": "@jupyter-widgets/controls",
            "_model_module_version": "1.5.0",
            "_model_name": "ProgressStyleModel",
            "_view_count": null,
            "_view_module": "@jupyter-widgets/base",
            "_view_module_version": "1.2.0",
            "_view_name": "StyleView",
            "bar_color": null,
            "description_width": ""
          }
        },
        "7a9b31c7edb24d5b98e5b7ad4f20457f": {
          "model_module": "@jupyter-widgets/base",
          "model_name": "LayoutModel",
          "model_module_version": "1.2.0",
          "state": {
            "_model_module": "@jupyter-widgets/base",
            "_model_module_version": "1.2.0",
            "_model_name": "LayoutModel",
            "_view_count": null,
            "_view_module": "@jupyter-widgets/base",
            "_view_module_version": "1.2.0",
            "_view_name": "LayoutView",
            "align_content": null,
            "align_items": null,
            "align_self": null,
            "border": null,
            "bottom": null,
            "display": null,
            "flex": null,
            "flex_flow": null,
            "grid_area": null,
            "grid_auto_columns": null,
            "grid_auto_flow": null,
            "grid_auto_rows": null,
            "grid_column": null,
            "grid_gap": null,
            "grid_row": null,
            "grid_template_areas": null,
            "grid_template_columns": null,
            "grid_template_rows": null,
            "height": null,
            "justify_content": null,
            "justify_items": null,
            "left": null,
            "margin": null,
            "max_height": null,
            "max_width": null,
            "min_height": null,
            "min_width": null,
            "object_fit": null,
            "object_position": null,
            "order": null,
            "overflow": null,
            "overflow_x": null,
            "overflow_y": null,
            "padding": null,
            "right": null,
            "top": null,
            "visibility": null,
            "width": null
          }
        },
        "b834b94f08f4451e8cd93153d09b4e09": {
          "model_module": "@jupyter-widgets/controls",
          "model_name": "DescriptionStyleModel",
          "model_module_version": "1.5.0",
          "state": {
            "_model_module": "@jupyter-widgets/controls",
            "_model_module_version": "1.5.0",
            "_model_name": "DescriptionStyleModel",
            "_view_count": null,
            "_view_module": "@jupyter-widgets/base",
            "_view_module_version": "1.2.0",
            "_view_name": "StyleView",
            "description_width": ""
          }
        },
        "6bbab41db13840208c6253a0e7bce4ff": {
          "model_module": "@jupyter-widgets/controls",
          "model_name": "HBoxModel",
          "model_module_version": "1.5.0",
          "state": {
            "_dom_classes": [],
            "_model_module": "@jupyter-widgets/controls",
            "_model_module_version": "1.5.0",
            "_model_name": "HBoxModel",
            "_view_count": null,
            "_view_module": "@jupyter-widgets/controls",
            "_view_module_version": "1.5.0",
            "_view_name": "HBoxView",
            "box_style": "",
            "children": [
              "IPY_MODEL_ae19f7e41a1144dbbba7a8a4cadcf79a",
              "IPY_MODEL_801e49b5ef9143ab8c7876bed23518c5",
              "IPY_MODEL_3d06fc34e2314459b57a96ea103e66eb"
            ],
            "layout": "IPY_MODEL_a6c974b9456d49c99448946d7c5beea7"
          }
        },
        "ae19f7e41a1144dbbba7a8a4cadcf79a": {
          "model_module": "@jupyter-widgets/controls",
          "model_name": "HTMLModel",
          "model_module_version": "1.5.0",
          "state": {
            "_dom_classes": [],
            "_model_module": "@jupyter-widgets/controls",
            "_model_module_version": "1.5.0",
            "_model_name": "HTMLModel",
            "_view_count": null,
            "_view_module": "@jupyter-widgets/controls",
            "_view_module_version": "1.5.0",
            "_view_name": "HTMLView",
            "description": "",
            "description_tooltip": null,
            "layout": "IPY_MODEL_6418608c26824975981233668041746a",
            "placeholder": "​",
            "style": "IPY_MODEL_abdd733960044064b6e09904d142237f",
            "value": "tokenizer.json: 100%"
          }
        },
        "801e49b5ef9143ab8c7876bed23518c5": {
          "model_module": "@jupyter-widgets/controls",
          "model_name": "FloatProgressModel",
          "model_module_version": "1.5.0",
          "state": {
            "_dom_classes": [],
            "_model_module": "@jupyter-widgets/controls",
            "_model_module_version": "1.5.0",
            "_model_name": "FloatProgressModel",
            "_view_count": null,
            "_view_module": "@jupyter-widgets/controls",
            "_view_module_version": "1.5.0",
            "_view_name": "ProgressView",
            "bar_style": "success",
            "description": "",
            "description_tooltip": null,
            "layout": "IPY_MODEL_ad7f76e378474e8999628f9fb90ea275",
            "max": 466062,
            "min": 0,
            "orientation": "horizontal",
            "style": "IPY_MODEL_a98df4292d21400fb71983e5a82f1b35",
            "value": 466062
          }
        },
        "3d06fc34e2314459b57a96ea103e66eb": {
          "model_module": "@jupyter-widgets/controls",
          "model_name": "HTMLModel",
          "model_module_version": "1.5.0",
          "state": {
            "_dom_classes": [],
            "_model_module": "@jupyter-widgets/controls",
            "_model_module_version": "1.5.0",
            "_model_name": "HTMLModel",
            "_view_count": null,
            "_view_module": "@jupyter-widgets/controls",
            "_view_module_version": "1.5.0",
            "_view_name": "HTMLView",
            "description": "",
            "description_tooltip": null,
            "layout": "IPY_MODEL_daccb6497957413ba5537392dc1742ad",
            "placeholder": "​",
            "style": "IPY_MODEL_fa6f75bc668f4b4e912b9fb4fc69d6d0",
            "value": " 466k/466k [00:00&lt;00:00, 1.88MB/s]"
          }
        },
        "a6c974b9456d49c99448946d7c5beea7": {
          "model_module": "@jupyter-widgets/base",
          "model_name": "LayoutModel",
          "model_module_version": "1.2.0",
          "state": {
            "_model_module": "@jupyter-widgets/base",
            "_model_module_version": "1.2.0",
            "_model_name": "LayoutModel",
            "_view_count": null,
            "_view_module": "@jupyter-widgets/base",
            "_view_module_version": "1.2.0",
            "_view_name": "LayoutView",
            "align_content": null,
            "align_items": null,
            "align_self": null,
            "border": null,
            "bottom": null,
            "display": null,
            "flex": null,
            "flex_flow": null,
            "grid_area": null,
            "grid_auto_columns": null,
            "grid_auto_flow": null,
            "grid_auto_rows": null,
            "grid_column": null,
            "grid_gap": null,
            "grid_row": null,
            "grid_template_areas": null,
            "grid_template_columns": null,
            "grid_template_rows": null,
            "height": null,
            "justify_content": null,
            "justify_items": null,
            "left": null,
            "margin": null,
            "max_height": null,
            "max_width": null,
            "min_height": null,
            "min_width": null,
            "object_fit": null,
            "object_position": null,
            "order": null,
            "overflow": null,
            "overflow_x": null,
            "overflow_y": null,
            "padding": null,
            "right": null,
            "top": null,
            "visibility": null,
            "width": null
          }
        },
        "6418608c26824975981233668041746a": {
          "model_module": "@jupyter-widgets/base",
          "model_name": "LayoutModel",
          "model_module_version": "1.2.0",
          "state": {
            "_model_module": "@jupyter-widgets/base",
            "_model_module_version": "1.2.0",
            "_model_name": "LayoutModel",
            "_view_count": null,
            "_view_module": "@jupyter-widgets/base",
            "_view_module_version": "1.2.0",
            "_view_name": "LayoutView",
            "align_content": null,
            "align_items": null,
            "align_self": null,
            "border": null,
            "bottom": null,
            "display": null,
            "flex": null,
            "flex_flow": null,
            "grid_area": null,
            "grid_auto_columns": null,
            "grid_auto_flow": null,
            "grid_auto_rows": null,
            "grid_column": null,
            "grid_gap": null,
            "grid_row": null,
            "grid_template_areas": null,
            "grid_template_columns": null,
            "grid_template_rows": null,
            "height": null,
            "justify_content": null,
            "justify_items": null,
            "left": null,
            "margin": null,
            "max_height": null,
            "max_width": null,
            "min_height": null,
            "min_width": null,
            "object_fit": null,
            "object_position": null,
            "order": null,
            "overflow": null,
            "overflow_x": null,
            "overflow_y": null,
            "padding": null,
            "right": null,
            "top": null,
            "visibility": null,
            "width": null
          }
        },
        "abdd733960044064b6e09904d142237f": {
          "model_module": "@jupyter-widgets/controls",
          "model_name": "DescriptionStyleModel",
          "model_module_version": "1.5.0",
          "state": {
            "_model_module": "@jupyter-widgets/controls",
            "_model_module_version": "1.5.0",
            "_model_name": "DescriptionStyleModel",
            "_view_count": null,
            "_view_module": "@jupyter-widgets/base",
            "_view_module_version": "1.2.0",
            "_view_name": "StyleView",
            "description_width": ""
          }
        },
        "ad7f76e378474e8999628f9fb90ea275": {
          "model_module": "@jupyter-widgets/base",
          "model_name": "LayoutModel",
          "model_module_version": "1.2.0",
          "state": {
            "_model_module": "@jupyter-widgets/base",
            "_model_module_version": "1.2.0",
            "_model_name": "LayoutModel",
            "_view_count": null,
            "_view_module": "@jupyter-widgets/base",
            "_view_module_version": "1.2.0",
            "_view_name": "LayoutView",
            "align_content": null,
            "align_items": null,
            "align_self": null,
            "border": null,
            "bottom": null,
            "display": null,
            "flex": null,
            "flex_flow": null,
            "grid_area": null,
            "grid_auto_columns": null,
            "grid_auto_flow": null,
            "grid_auto_rows": null,
            "grid_column": null,
            "grid_gap": null,
            "grid_row": null,
            "grid_template_areas": null,
            "grid_template_columns": null,
            "grid_template_rows": null,
            "height": null,
            "justify_content": null,
            "justify_items": null,
            "left": null,
            "margin": null,
            "max_height": null,
            "max_width": null,
            "min_height": null,
            "min_width": null,
            "object_fit": null,
            "object_position": null,
            "order": null,
            "overflow": null,
            "overflow_x": null,
            "overflow_y": null,
            "padding": null,
            "right": null,
            "top": null,
            "visibility": null,
            "width": null
          }
        },
        "a98df4292d21400fb71983e5a82f1b35": {
          "model_module": "@jupyter-widgets/controls",
          "model_name": "ProgressStyleModel",
          "model_module_version": "1.5.0",
          "state": {
            "_model_module": "@jupyter-widgets/controls",
            "_model_module_version": "1.5.0",
            "_model_name": "ProgressStyleModel",
            "_view_count": null,
            "_view_module": "@jupyter-widgets/base",
            "_view_module_version": "1.2.0",
            "_view_name": "StyleView",
            "bar_color": null,
            "description_width": ""
          }
        },
        "daccb6497957413ba5537392dc1742ad": {
          "model_module": "@jupyter-widgets/base",
          "model_name": "LayoutModel",
          "model_module_version": "1.2.0",
          "state": {
            "_model_module": "@jupyter-widgets/base",
            "_model_module_version": "1.2.0",
            "_model_name": "LayoutModel",
            "_view_count": null,
            "_view_module": "@jupyter-widgets/base",
            "_view_module_version": "1.2.0",
            "_view_name": "LayoutView",
            "align_content": null,
            "align_items": null,
            "align_self": null,
            "border": null,
            "bottom": null,
            "display": null,
            "flex": null,
            "flex_flow": null,
            "grid_area": null,
            "grid_auto_columns": null,
            "grid_auto_flow": null,
            "grid_auto_rows": null,
            "grid_column": null,
            "grid_gap": null,
            "grid_row": null,
            "grid_template_areas": null,
            "grid_template_columns": null,
            "grid_template_rows": null,
            "height": null,
            "justify_content": null,
            "justify_items": null,
            "left": null,
            "margin": null,
            "max_height": null,
            "max_width": null,
            "min_height": null,
            "min_width": null,
            "object_fit": null,
            "object_position": null,
            "order": null,
            "overflow": null,
            "overflow_x": null,
            "overflow_y": null,
            "padding": null,
            "right": null,
            "top": null,
            "visibility": null,
            "width": null
          }
        },
        "fa6f75bc668f4b4e912b9fb4fc69d6d0": {
          "model_module": "@jupyter-widgets/controls",
          "model_name": "DescriptionStyleModel",
          "model_module_version": "1.5.0",
          "state": {
            "_model_module": "@jupyter-widgets/controls",
            "_model_module_version": "1.5.0",
            "_model_name": "DescriptionStyleModel",
            "_view_count": null,
            "_view_module": "@jupyter-widgets/base",
            "_view_module_version": "1.2.0",
            "_view_name": "StyleView",
            "description_width": ""
          }
        }
      }
    }
  },
  "nbformat": 4,
  "nbformat_minor": 0
}