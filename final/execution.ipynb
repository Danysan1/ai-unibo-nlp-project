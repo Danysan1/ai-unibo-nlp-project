{
  "cells": [
    {
      "cell_type": "markdown",
      "metadata": {
        "id": "Y-JyBx6myd0h"
      },
      "source": [
        "[![Open In Colab](https://colab.research.google.com/assets/colab-badge.svg)](https://colab.research.google.com/github/Danysan1/ai-unibo-nlp-project/blob/main/final/execution.ipynb)\n",
        "[![Open in Kaggle](https://kaggle.com/static/images/open-in-kaggle.svg)](https://kaggle.com/kernels/welcome?src=https://github.com/Danysan1/ai-unibo-nlp-project/blob/main/final/execution.ipynb)\n",
        "[![Open in SageMaker Studio Lab](https://studiolab.sagemaker.aws/studiolab.svg)](https://studiolab.sagemaker.aws/import/github/Danysan1/ai-unibo-nlp-project/tree/main/final/execution.ipynb)"
      ]
    },
    {
      "cell_type": "markdown",
      "metadata": {
        "id": "dlJhpqc_0Jmk"
      },
      "source": [
        "# Final project"
      ]
    },
    {
      "cell_type": "markdown",
      "metadata": {
        "id": "g6HWqCPE0Jmo"
      },
      "source": [
        "## Imports and Initial Settings"
      ]
    },
    {
      "cell_type": "code",
      "execution_count": 1,
      "metadata": {
        "colab": {
          "base_uri": "https://localhost:8080/"
        },
        "id": "jFpxvvaX0Jmp",
        "outputId": "6419c921-7936-4bf4-adf5-9ab08aef86bd"
      },
      "outputs": [
        {
          "output_type": "stream",
          "name": "stdout",
          "text": [
            "Requirement already satisfied: pandas in /usr/local/lib/python3.10/dist-packages (1.5.3)\n",
            "Requirement already satisfied: numpy in /usr/local/lib/python3.10/dist-packages (1.23.5)\n",
            "Requirement already satisfied: matplotlib in /usr/local/lib/python3.10/dist-packages (3.7.1)\n",
            "Requirement already satisfied: transformers in /usr/local/lib/python3.10/dist-packages (4.35.2)\n",
            "Requirement already satisfied: dataset in /usr/local/lib/python3.10/dist-packages (1.6.2)\n",
            "Requirement already satisfied: nltk in /usr/local/lib/python3.10/dist-packages (3.8.1)\n",
            "Requirement already satisfied: onnx in /usr/local/lib/python3.10/dist-packages (1.15.0)\n",
            "Requirement already satisfied: python-dateutil>=2.8.1 in /usr/local/lib/python3.10/dist-packages (from pandas) (2.8.2)\n",
            "Requirement already satisfied: pytz>=2020.1 in /usr/local/lib/python3.10/dist-packages (from pandas) (2023.3.post1)\n",
            "Requirement already satisfied: contourpy>=1.0.1 in /usr/local/lib/python3.10/dist-packages (from matplotlib) (1.2.0)\n",
            "Requirement already satisfied: cycler>=0.10 in /usr/local/lib/python3.10/dist-packages (from matplotlib) (0.12.1)\n",
            "Requirement already satisfied: fonttools>=4.22.0 in /usr/local/lib/python3.10/dist-packages (from matplotlib) (4.47.0)\n",
            "Requirement already satisfied: kiwisolver>=1.0.1 in /usr/local/lib/python3.10/dist-packages (from matplotlib) (1.4.5)\n",
            "Requirement already satisfied: packaging>=20.0 in /usr/local/lib/python3.10/dist-packages (from matplotlib) (23.2)\n",
            "Requirement already satisfied: pillow>=6.2.0 in /usr/local/lib/python3.10/dist-packages (from matplotlib) (9.4.0)\n",
            "Requirement already satisfied: pyparsing>=2.3.1 in /usr/local/lib/python3.10/dist-packages (from matplotlib) (3.1.1)\n",
            "Requirement already satisfied: filelock in /usr/local/lib/python3.10/dist-packages (from transformers) (3.13.1)\n",
            "Requirement already satisfied: huggingface-hub<1.0,>=0.16.4 in /usr/local/lib/python3.10/dist-packages (from transformers) (0.20.1)\n",
            "Requirement already satisfied: pyyaml>=5.1 in /usr/local/lib/python3.10/dist-packages (from transformers) (6.0.1)\n",
            "Requirement already satisfied: regex!=2019.12.17 in /usr/local/lib/python3.10/dist-packages (from transformers) (2023.6.3)\n",
            "Requirement already satisfied: requests in /usr/local/lib/python3.10/dist-packages (from transformers) (2.31.0)\n",
            "Requirement already satisfied: tokenizers<0.19,>=0.14 in /usr/local/lib/python3.10/dist-packages (from transformers) (0.15.0)\n",
            "Requirement already satisfied: safetensors>=0.3.1 in /usr/local/lib/python3.10/dist-packages (from transformers) (0.4.1)\n",
            "Requirement already satisfied: tqdm>=4.27 in /usr/local/lib/python3.10/dist-packages (from transformers) (4.66.1)\n",
            "Requirement already satisfied: sqlalchemy<2.0.0,>=1.3.2 in /usr/local/lib/python3.10/dist-packages (from dataset) (1.4.51)\n",
            "Requirement already satisfied: alembic>=0.6.2 in /usr/local/lib/python3.10/dist-packages (from dataset) (1.13.1)\n",
            "Requirement already satisfied: banal>=1.0.1 in /usr/local/lib/python3.10/dist-packages (from dataset) (1.0.6)\n",
            "Requirement already satisfied: click in /usr/local/lib/python3.10/dist-packages (from nltk) (8.1.7)\n",
            "Requirement already satisfied: joblib in /usr/local/lib/python3.10/dist-packages (from nltk) (1.3.2)\n",
            "Requirement already satisfied: protobuf>=3.20.2 in /usr/local/lib/python3.10/dist-packages (from onnx) (3.20.3)\n",
            "Requirement already satisfied: Mako in /usr/local/lib/python3.10/dist-packages (from alembic>=0.6.2->dataset) (1.3.0)\n",
            "Requirement already satisfied: typing-extensions>=4 in /usr/local/lib/python3.10/dist-packages (from alembic>=0.6.2->dataset) (4.5.0)\n",
            "Requirement already satisfied: fsspec>=2023.5.0 in /usr/local/lib/python3.10/dist-packages (from huggingface-hub<1.0,>=0.16.4->transformers) (2023.6.0)\n",
            "Requirement already satisfied: six>=1.5 in /usr/local/lib/python3.10/dist-packages (from python-dateutil>=2.8.1->pandas) (1.16.0)\n",
            "Requirement already satisfied: greenlet!=0.4.17 in /usr/local/lib/python3.10/dist-packages (from sqlalchemy<2.0.0,>=1.3.2->dataset) (3.0.2)\n",
            "Requirement already satisfied: charset-normalizer<4,>=2 in /usr/local/lib/python3.10/dist-packages (from requests->transformers) (3.3.2)\n",
            "Requirement already satisfied: idna<4,>=2.5 in /usr/local/lib/python3.10/dist-packages (from requests->transformers) (3.6)\n",
            "Requirement already satisfied: urllib3<3,>=1.21.1 in /usr/local/lib/python3.10/dist-packages (from requests->transformers) (2.0.7)\n",
            "Requirement already satisfied: certifi>=2017.4.17 in /usr/local/lib/python3.10/dist-packages (from requests->transformers) (2023.11.17)\n",
            "Requirement already satisfied: MarkupSafe>=0.9.2 in /usr/local/lib/python3.10/dist-packages (from Mako->alembic>=0.6.2->dataset) (2.1.3)\n"
          ]
        }
      ],
      "source": [
        "%pip install pandas numpy matplotlib transformers dataset nltk onnx"
      ]
    },
    {
      "cell_type": "code",
      "execution_count": 2,
      "metadata": {
        "id": "TsB9AQ1l0Jmr"
      },
      "outputs": [],
      "source": [
        "import numpy as np\n",
        "import random\n",
        "import torch\n",
        "import pandas as pd\n",
        "from os import path\n",
        "from sklearn.model_selection import train_test_split\n",
        "import random\n",
        "import gc\n",
        "import torch\n",
        "import transformers\n",
        "from tqdm import tqdm\n",
        "from typing import Callable, Dict, List, Tuple\n",
        "from timeit import default_timer as timer\n",
        "from transformers import EncoderDecoderModel, AutoTokenizer, PreTrainedTokenizer, BatchEncoding\n",
        "from torch.utils.data import Dataset, DataLoader, SubsetRandomSampler\n",
        "import nltk\n",
        "import os\n",
        "import json\n",
        "#from eda import eda\n",
        "models_folder = 'models'"
      ]
    },
    {
      "cell_type": "code",
      "execution_count": 3,
      "metadata": {
        "id": "vXIZjw9y0Jms"
      },
      "outputs": [],
      "source": [
        "# Fix the random state for reproducibility\n",
        "SEED = 42\n",
        "\n",
        "def fix_seed(seed: int) -> None:\n",
        "    \"\"\"Fix all the possible sources of randomness.\n",
        "\n",
        "    Args:\n",
        "        seed: the seed to use.\n",
        "    \"\"\"\n",
        "    np.random.seed(seed)\n",
        "    random.seed(seed)\n",
        "    torch.manual_seed(seed)\n",
        "    torch.cuda.manual_seed(seed)\n",
        "\n",
        "    torch.backends.cudnn.benchmark = False\n",
        "    torch.backends.cudnn.deterministic = True\n",
        "\n",
        "fix_seed(SEED)"
      ]
    },
    {
      "cell_type": "markdown",
      "metadata": {
        "id": "l4QiHmU60Jms"
      },
      "source": [
        "## Dataset Loading"
      ]
    },
    {
      "cell_type": "code",
      "execution_count": 4,
      "metadata": {
        "id": "aqJX5H4D0Jms"
      },
      "outputs": [],
      "source": [
        "data_folder = 'Dataset'\n",
        "\n",
        "def load__dataset(filename:str) -> pd.DataFrame:\n",
        "    with open(path.join(data_folder, filename)) as file_obj:\n",
        "        data = pd.read_json(file_obj, dtype={'episode':str,'speakers':np.array})\n",
        "        return data"
      ]
    },
    {
      "cell_type": "code",
      "execution_count": 5,
      "metadata": {
        "colab": {
          "base_uri": "https://localhost:8080/",
          "height": 206
        },
        "id": "q4MOSXg70Jmt",
        "outputId": "71136973-768d-49b6-e4ce-1a2c30d852ce"
      },
      "outputs": [
        {
          "output_type": "execute_result",
          "data": {
            "text/plain": [
              "       episode                                           speakers  \\\n",
              "0  utterance_0  [Chandler, The Interviewer, Chandler, The Inte...   \n",
              "1  utterance_1  [Chandler, The Interviewer, Chandler, The Inte...   \n",
              "2  utterance_2  [Chandler, The Interviewer, Chandler, The Inte...   \n",
              "3  utterance_3  [Chandler, The Interviewer, Chandler, The Inte...   \n",
              "4  utterance_4                       [Joey, Rachel, Joey, Rachel]   \n",
              "\n",
              "                                            emotions  \\\n",
              "0     [neutral, neutral, neutral, neutral, surprise]   \n",
              "1  [neutral, neutral, neutral, neutral, surprise,...   \n",
              "2  [neutral, neutral, neutral, neutral, surprise,...   \n",
              "3  [neutral, neutral, neutral, neutral, surprise,...   \n",
              "4                [surprise, sadness, surprise, fear]   \n",
              "\n",
              "                                          utterances  \\\n",
              "0  [also I was the point person on my company's t...   \n",
              "1  [also I was the point person on my company's t...   \n",
              "2  [also I was the point person on my company's t...   \n",
              "3  [also I was the point person on my company's t...   \n",
              "4  [But then who? The waitress I went out with la...   \n",
              "\n",
              "                                            triggers  \n",
              "0                          [0.0, 0.0, 0.0, 1.0, 0.0]  \n",
              "1                [0.0, 0.0, 0.0, 0.0, 0.0, 1.0, 0.0]  \n",
              "2  [0.0, 0.0, 0.0, 0.0, 0.0, 0.0, 0.0, 1.0, 0.0, ...  \n",
              "3  [0.0, 0.0, 0.0, 0.0, 0.0, 0.0, 0.0, 0.0, 0.0, ...  \n",
              "4                               [0.0, 0.0, 1.0, 0.0]  "
            ],
            "text/html": [
              "\n",
              "  <div id=\"df-319994d8-c753-4f9a-9697-0b4be9bdf601\" class=\"colab-df-container\">\n",
              "    <div>\n",
              "<style scoped>\n",
              "    .dataframe tbody tr th:only-of-type {\n",
              "        vertical-align: middle;\n",
              "    }\n",
              "\n",
              "    .dataframe tbody tr th {\n",
              "        vertical-align: top;\n",
              "    }\n",
              "\n",
              "    .dataframe thead th {\n",
              "        text-align: right;\n",
              "    }\n",
              "</style>\n",
              "<table border=\"1\" class=\"dataframe\">\n",
              "  <thead>\n",
              "    <tr style=\"text-align: right;\">\n",
              "      <th></th>\n",
              "      <th>episode</th>\n",
              "      <th>speakers</th>\n",
              "      <th>emotions</th>\n",
              "      <th>utterances</th>\n",
              "      <th>triggers</th>\n",
              "    </tr>\n",
              "  </thead>\n",
              "  <tbody>\n",
              "    <tr>\n",
              "      <th>0</th>\n",
              "      <td>utterance_0</td>\n",
              "      <td>[Chandler, The Interviewer, Chandler, The Inte...</td>\n",
              "      <td>[neutral, neutral, neutral, neutral, surprise]</td>\n",
              "      <td>[also I was the point person on my company's t...</td>\n",
              "      <td>[0.0, 0.0, 0.0, 1.0, 0.0]</td>\n",
              "    </tr>\n",
              "    <tr>\n",
              "      <th>1</th>\n",
              "      <td>utterance_1</td>\n",
              "      <td>[Chandler, The Interviewer, Chandler, The Inte...</td>\n",
              "      <td>[neutral, neutral, neutral, neutral, surprise,...</td>\n",
              "      <td>[also I was the point person on my company's t...</td>\n",
              "      <td>[0.0, 0.0, 0.0, 0.0, 0.0, 1.0, 0.0]</td>\n",
              "    </tr>\n",
              "    <tr>\n",
              "      <th>2</th>\n",
              "      <td>utterance_2</td>\n",
              "      <td>[Chandler, The Interviewer, Chandler, The Inte...</td>\n",
              "      <td>[neutral, neutral, neutral, neutral, surprise,...</td>\n",
              "      <td>[also I was the point person on my company's t...</td>\n",
              "      <td>[0.0, 0.0, 0.0, 0.0, 0.0, 0.0, 0.0, 1.0, 0.0, ...</td>\n",
              "    </tr>\n",
              "    <tr>\n",
              "      <th>3</th>\n",
              "      <td>utterance_3</td>\n",
              "      <td>[Chandler, The Interviewer, Chandler, The Inte...</td>\n",
              "      <td>[neutral, neutral, neutral, neutral, surprise,...</td>\n",
              "      <td>[also I was the point person on my company's t...</td>\n",
              "      <td>[0.0, 0.0, 0.0, 0.0, 0.0, 0.0, 0.0, 0.0, 0.0, ...</td>\n",
              "    </tr>\n",
              "    <tr>\n",
              "      <th>4</th>\n",
              "      <td>utterance_4</td>\n",
              "      <td>[Joey, Rachel, Joey, Rachel]</td>\n",
              "      <td>[surprise, sadness, surprise, fear]</td>\n",
              "      <td>[But then who? The waitress I went out with la...</td>\n",
              "      <td>[0.0, 0.0, 1.0, 0.0]</td>\n",
              "    </tr>\n",
              "  </tbody>\n",
              "</table>\n",
              "</div>\n",
              "    <div class=\"colab-df-buttons\">\n",
              "\n",
              "  <div class=\"colab-df-container\">\n",
              "    <button class=\"colab-df-convert\" onclick=\"convertToInteractive('df-319994d8-c753-4f9a-9697-0b4be9bdf601')\"\n",
              "            title=\"Convert this dataframe to an interactive table.\"\n",
              "            style=\"display:none;\">\n",
              "\n",
              "  <svg xmlns=\"http://www.w3.org/2000/svg\" height=\"24px\" viewBox=\"0 -960 960 960\">\n",
              "    <path d=\"M120-120v-720h720v720H120Zm60-500h600v-160H180v160Zm220 220h160v-160H400v160Zm0 220h160v-160H400v160ZM180-400h160v-160H180v160Zm440 0h160v-160H620v160ZM180-180h160v-160H180v160Zm440 0h160v-160H620v160Z\"/>\n",
              "  </svg>\n",
              "    </button>\n",
              "\n",
              "  <style>\n",
              "    .colab-df-container {\n",
              "      display:flex;\n",
              "      gap: 12px;\n",
              "    }\n",
              "\n",
              "    .colab-df-convert {\n",
              "      background-color: #E8F0FE;\n",
              "      border: none;\n",
              "      border-radius: 50%;\n",
              "      cursor: pointer;\n",
              "      display: none;\n",
              "      fill: #1967D2;\n",
              "      height: 32px;\n",
              "      padding: 0 0 0 0;\n",
              "      width: 32px;\n",
              "    }\n",
              "\n",
              "    .colab-df-convert:hover {\n",
              "      background-color: #E2EBFA;\n",
              "      box-shadow: 0px 1px 2px rgba(60, 64, 67, 0.3), 0px 1px 3px 1px rgba(60, 64, 67, 0.15);\n",
              "      fill: #174EA6;\n",
              "    }\n",
              "\n",
              "    .colab-df-buttons div {\n",
              "      margin-bottom: 4px;\n",
              "    }\n",
              "\n",
              "    [theme=dark] .colab-df-convert {\n",
              "      background-color: #3B4455;\n",
              "      fill: #D2E3FC;\n",
              "    }\n",
              "\n",
              "    [theme=dark] .colab-df-convert:hover {\n",
              "      background-color: #434B5C;\n",
              "      box-shadow: 0px 1px 3px 1px rgba(0, 0, 0, 0.15);\n",
              "      filter: drop-shadow(0px 1px 2px rgba(0, 0, 0, 0.3));\n",
              "      fill: #FFFFFF;\n",
              "    }\n",
              "  </style>\n",
              "\n",
              "    <script>\n",
              "      const buttonEl =\n",
              "        document.querySelector('#df-319994d8-c753-4f9a-9697-0b4be9bdf601 button.colab-df-convert');\n",
              "      buttonEl.style.display =\n",
              "        google.colab.kernel.accessAllowed ? 'block' : 'none';\n",
              "\n",
              "      async function convertToInteractive(key) {\n",
              "        const element = document.querySelector('#df-319994d8-c753-4f9a-9697-0b4be9bdf601');\n",
              "        const dataTable =\n",
              "          await google.colab.kernel.invokeFunction('convertToInteractive',\n",
              "                                                    [key], {});\n",
              "        if (!dataTable) return;\n",
              "\n",
              "        const docLinkHtml = 'Like what you see? Visit the ' +\n",
              "          '<a target=\"_blank\" href=https://colab.research.google.com/notebooks/data_table.ipynb>data table notebook</a>'\n",
              "          + ' to learn more about interactive tables.';\n",
              "        element.innerHTML = '';\n",
              "        dataTable['output_type'] = 'display_data';\n",
              "        await google.colab.output.renderOutput(dataTable, element);\n",
              "        const docLink = document.createElement('div');\n",
              "        docLink.innerHTML = docLinkHtml;\n",
              "        element.appendChild(docLink);\n",
              "      }\n",
              "    </script>\n",
              "  </div>\n",
              "\n",
              "\n",
              "<div id=\"df-51bab6b6-6b3f-49f3-8637-96987fb4b8f4\">\n",
              "  <button class=\"colab-df-quickchart\" onclick=\"quickchart('df-51bab6b6-6b3f-49f3-8637-96987fb4b8f4')\"\n",
              "            title=\"Suggest charts\"\n",
              "            style=\"display:none;\">\n",
              "\n",
              "<svg xmlns=\"http://www.w3.org/2000/svg\" height=\"24px\"viewBox=\"0 0 24 24\"\n",
              "     width=\"24px\">\n",
              "    <g>\n",
              "        <path d=\"M19 3H5c-1.1 0-2 .9-2 2v14c0 1.1.9 2 2 2h14c1.1 0 2-.9 2-2V5c0-1.1-.9-2-2-2zM9 17H7v-7h2v7zm4 0h-2V7h2v10zm4 0h-2v-4h2v4z\"/>\n",
              "    </g>\n",
              "</svg>\n",
              "  </button>\n",
              "\n",
              "<style>\n",
              "  .colab-df-quickchart {\n",
              "      --bg-color: #E8F0FE;\n",
              "      --fill-color: #1967D2;\n",
              "      --hover-bg-color: #E2EBFA;\n",
              "      --hover-fill-color: #174EA6;\n",
              "      --disabled-fill-color: #AAA;\n",
              "      --disabled-bg-color: #DDD;\n",
              "  }\n",
              "\n",
              "  [theme=dark] .colab-df-quickchart {\n",
              "      --bg-color: #3B4455;\n",
              "      --fill-color: #D2E3FC;\n",
              "      --hover-bg-color: #434B5C;\n",
              "      --hover-fill-color: #FFFFFF;\n",
              "      --disabled-bg-color: #3B4455;\n",
              "      --disabled-fill-color: #666;\n",
              "  }\n",
              "\n",
              "  .colab-df-quickchart {\n",
              "    background-color: var(--bg-color);\n",
              "    border: none;\n",
              "    border-radius: 50%;\n",
              "    cursor: pointer;\n",
              "    display: none;\n",
              "    fill: var(--fill-color);\n",
              "    height: 32px;\n",
              "    padding: 0;\n",
              "    width: 32px;\n",
              "  }\n",
              "\n",
              "  .colab-df-quickchart:hover {\n",
              "    background-color: var(--hover-bg-color);\n",
              "    box-shadow: 0 1px 2px rgba(60, 64, 67, 0.3), 0 1px 3px 1px rgba(60, 64, 67, 0.15);\n",
              "    fill: var(--button-hover-fill-color);\n",
              "  }\n",
              "\n",
              "  .colab-df-quickchart-complete:disabled,\n",
              "  .colab-df-quickchart-complete:disabled:hover {\n",
              "    background-color: var(--disabled-bg-color);\n",
              "    fill: var(--disabled-fill-color);\n",
              "    box-shadow: none;\n",
              "  }\n",
              "\n",
              "  .colab-df-spinner {\n",
              "    border: 2px solid var(--fill-color);\n",
              "    border-color: transparent;\n",
              "    border-bottom-color: var(--fill-color);\n",
              "    animation:\n",
              "      spin 1s steps(1) infinite;\n",
              "  }\n",
              "\n",
              "  @keyframes spin {\n",
              "    0% {\n",
              "      border-color: transparent;\n",
              "      border-bottom-color: var(--fill-color);\n",
              "      border-left-color: var(--fill-color);\n",
              "    }\n",
              "    20% {\n",
              "      border-color: transparent;\n",
              "      border-left-color: var(--fill-color);\n",
              "      border-top-color: var(--fill-color);\n",
              "    }\n",
              "    30% {\n",
              "      border-color: transparent;\n",
              "      border-left-color: var(--fill-color);\n",
              "      border-top-color: var(--fill-color);\n",
              "      border-right-color: var(--fill-color);\n",
              "    }\n",
              "    40% {\n",
              "      border-color: transparent;\n",
              "      border-right-color: var(--fill-color);\n",
              "      border-top-color: var(--fill-color);\n",
              "    }\n",
              "    60% {\n",
              "      border-color: transparent;\n",
              "      border-right-color: var(--fill-color);\n",
              "    }\n",
              "    80% {\n",
              "      border-color: transparent;\n",
              "      border-right-color: var(--fill-color);\n",
              "      border-bottom-color: var(--fill-color);\n",
              "    }\n",
              "    90% {\n",
              "      border-color: transparent;\n",
              "      border-bottom-color: var(--fill-color);\n",
              "    }\n",
              "  }\n",
              "</style>\n",
              "\n",
              "  <script>\n",
              "    async function quickchart(key) {\n",
              "      const quickchartButtonEl =\n",
              "        document.querySelector('#' + key + ' button');\n",
              "      quickchartButtonEl.disabled = true;  // To prevent multiple clicks.\n",
              "      quickchartButtonEl.classList.add('colab-df-spinner');\n",
              "      try {\n",
              "        const charts = await google.colab.kernel.invokeFunction(\n",
              "            'suggestCharts', [key], {});\n",
              "      } catch (error) {\n",
              "        console.error('Error during call to suggestCharts:', error);\n",
              "      }\n",
              "      quickchartButtonEl.classList.remove('colab-df-spinner');\n",
              "      quickchartButtonEl.classList.add('colab-df-quickchart-complete');\n",
              "    }\n",
              "    (() => {\n",
              "      let quickchartButtonEl =\n",
              "        document.querySelector('#df-51bab6b6-6b3f-49f3-8637-96987fb4b8f4 button');\n",
              "      quickchartButtonEl.style.display =\n",
              "        google.colab.kernel.accessAllowed ? 'block' : 'none';\n",
              "    })();\n",
              "  </script>\n",
              "</div>\n",
              "    </div>\n",
              "  </div>\n"
            ]
          },
          "metadata": {},
          "execution_count": 5
        }
      ],
      "source": [
        "training_set_fn = 'MELD_train_efr.json'\n",
        "\n",
        "dataset = load__dataset(training_set_fn)\n",
        "dataset.head()"
      ]
    },
    {
      "cell_type": "code",
      "execution_count": 6,
      "metadata": {
        "id": "6DK5u2OJ0Jmt"
      },
      "outputs": [],
      "source": [
        "def get_index_none_triggers(df:pd.DataFrame, column:str) -> list:\n",
        "    has_none = []\n",
        "    for i in df[column].index:\n",
        "        is_none = np.where(np.array(df[column][i]) == None, 1, 0).any()\n",
        "        if is_none:\n",
        "            has_none.append(i)\n",
        "    return has_none\n",
        "\n",
        "def clean_none(df:pd.DataFrame, column:str, indexes:list) -> pd.DataFrame:\n",
        "    for i in indexes:\n",
        "        df[column][i] = [el if el is not None else 0.0 for el in df[column][i]]\n",
        "    return df"
      ]
    },
    {
      "cell_type": "markdown",
      "metadata": {
        "id": "wI-4EU1z0Jmu"
      },
      "source": [
        "Check how many triggers do have a None value."
      ]
    },
    {
      "cell_type": "code",
      "execution_count": 7,
      "metadata": {
        "colab": {
          "base_uri": "https://localhost:8080/"
        },
        "id": "Xj71vdjp0Jmu",
        "outputId": "2cf6b53b-177b-42c9-8635-2bc7f1b40b6c"
      },
      "outputs": [
        {
          "output_type": "stream",
          "name": "stdout",
          "text": [
            "9 trigger rows have None values.\n",
            "\n",
            "2671                                [0.0, 0.0, 1.0, None]\n",
            "2693                      [0.0, 0.0, 0.0, 0.0, 1.0, None]\n",
            "3105    [0.0, 0.0, 0.0, None, 0.0, 0.0, 0.0, 1.0, 1.0,...\n",
            "3157    [0.0, 0.0, None, 0.0, 0.0, 0.0, 1.0, 0.0, 0.0,...\n",
            "3171    [0.0, 0.0, 0.0, 0.0, 0.0, None, 0.0, 0.0, 1.0,...\n",
            "3204    [None, 0.0, 0.0, 0.0, 0.0, 0.0, 0.0, 0.0, 0.0,...\n",
            "3266    [0.0, 0.0, 0.0, 0.0, 0.0, 0.0, None, 0.0, 1.0,...\n",
            "3351    [0.0, 0.0, 0.0, None, 0.0, 0.0, 0.0, 0.0, 0.0,...\n",
            "3359    [0.0, None, 0.0, 0.0, 0.0, 0.0, 0.0, 0.0, 0.0,...\n",
            "Name: triggers, dtype: object\n"
          ]
        }
      ],
      "source": [
        "indexes_none = get_index_none_triggers(dataset, column='triggers')\n",
        "print(\"{} trigger rows have None values.\\n\".format(len(indexes_none)))\n",
        "if len(indexes_none) > 0:\n",
        "    print(dataset['triggers'][indexes_none])"
      ]
    },
    {
      "cell_type": "markdown",
      "metadata": {
        "id": "B231vfKs0Jmu"
      },
      "source": [
        "Now we clean the dataset and then check the previous lists."
      ]
    },
    {
      "cell_type": "code",
      "execution_count": 8,
      "metadata": {
        "colab": {
          "base_uri": "https://localhost:8080/"
        },
        "id": "X2AN_kyP0Jmu",
        "outputId": "486c2624-a9b1-4c65-8072-1ee2a021e699"
      },
      "outputs": [
        {
          "output_type": "stream",
          "name": "stdout",
          "text": [
            "\n",
            "After cleaning, 0 trigger rows have None values.\n",
            "\n",
            "2671                                 [0.0, 0.0, 1.0, 0.0]\n",
            "2693                       [0.0, 0.0, 0.0, 0.0, 1.0, 0.0]\n",
            "3105    [0.0, 0.0, 0.0, 0.0, 0.0, 0.0, 0.0, 1.0, 1.0, ...\n",
            "3157    [0.0, 0.0, 0.0, 0.0, 0.0, 0.0, 1.0, 0.0, 0.0, ...\n",
            "3171    [0.0, 0.0, 0.0, 0.0, 0.0, 0.0, 0.0, 0.0, 1.0, ...\n",
            "3204    [0.0, 0.0, 0.0, 0.0, 0.0, 0.0, 0.0, 0.0, 0.0, ...\n",
            "3266    [0.0, 0.0, 0.0, 0.0, 0.0, 0.0, 0.0, 0.0, 1.0, ...\n",
            "3351    [0.0, 0.0, 0.0, 0.0, 0.0, 0.0, 0.0, 0.0, 0.0, ...\n",
            "3359    [0.0, 0.0, 0.0, 0.0, 0.0, 0.0, 0.0, 0.0, 0.0, ...\n",
            "Name: triggers, dtype: object\n"
          ]
        }
      ],
      "source": [
        "dataset = clean_none(dataset, column='triggers', indexes=indexes_none)\n",
        "indexes_none_clean = get_index_none_triggers(dataset, column='triggers')\n",
        "print(\"\\nAfter cleaning, {} trigger rows have None values.\\n\".format(len(indexes_none_clean)))\n",
        "if len(indexes_none) > 0:\n",
        "    print(dataset['triggers'][indexes_none])"
      ]
    },
    {
      "cell_type": "markdown",
      "metadata": {
        "id": "MmF7DFMn0Jmv"
      },
      "source": [
        "##Data Elaboration"
      ]
    },
    {
      "cell_type": "markdown",
      "metadata": {
        "id": "v38ZAFx3F9jO"
      },
      "source": [
        "###Preprocessing"
      ]
    },
    {
      "cell_type": "code",
      "execution_count": 9,
      "metadata": {
        "id": "NjVvvknrjwyS"
      },
      "outputs": [],
      "source": [
        "def input_preprocessing(dataset,his_num=2):\n",
        "  tot = len(dataset)\n",
        "  data = []\n",
        "  for r in range(tot):\n",
        "    text = dataset['utterances'][r]\n",
        "    em = dataset['emotions'][r]\n",
        "    trig = dataset['triggers'][r]\n",
        "    for i in range(0,len(text)):\n",
        "      t = []\n",
        "      history = []\n",
        "      sentence = text[i]\n",
        "      if (i-his_num < 0):\n",
        "        for q in range(i):\n",
        "          history.append(text[q])\n",
        "      else:\n",
        "        for q in range(i-his_num,i):\n",
        "          history.append(text[q])\n",
        "\n",
        "      #convert the list t into a string\n",
        "      string = \" \".join(map(str,history))\n",
        "      data.append({\n",
        "          'episode': dataset['episode'][r],\n",
        "          'utterance': sentence,\n",
        "          'history' : string,\n",
        "          'emotion': em[i],\n",
        "          'trigger': bool(trig[i])\n",
        "        })\n",
        "  data = pd.DataFrame(data)\n",
        "  return data"
      ]
    },
    {
      "cell_type": "code",
      "execution_count": 10,
      "metadata": {
        "id": "aQchB9C8sbBW"
      },
      "outputs": [],
      "source": [
        "his_num = 2\n",
        "data = input_preprocessing(dataset,his_num)"
      ]
    },
    {
      "cell_type": "code",
      "execution_count": 11,
      "metadata": {
        "colab": {
          "base_uri": "https://localhost:8080/"
        },
        "id": "h6vUutUOqa19",
        "outputId": "a94080dd-9d52-49ff-e897-3e4ad0fdb2d3"
      },
      "outputs": [
        {
          "output_type": "execute_result",
          "data": {
            "text/plain": [
              "[\"also I was the point person on my company's transition from the KL-5 to GR-6 system.\",\n",
              " \"You must've had your hands full.\",\n",
              " 'That I did. That I did.',\n",
              " \"So let's talk a little bit about your duties.\",\n",
              " 'My duties?  All right.']"
            ]
          },
          "metadata": {},
          "execution_count": 11
        }
      ],
      "source": [
        "dataset['utterances'][0]"
      ]
    },
    {
      "cell_type": "code",
      "execution_count": 12,
      "metadata": {
        "colab": {
          "base_uri": "https://localhost:8080/"
        },
        "id": "V6W0slbspwDJ",
        "outputId": "c75e899f-21c2-4ec6-919e-5ed396c8d6eb"
      },
      "outputs": [
        {
          "output_type": "execute_result",
          "data": {
            "text/plain": [
              "['',\n",
              " \"also I was the point person on my company's transition from the KL-5 to GR-6 system.\",\n",
              " \"also I was the point person on my company's transition from the KL-5 to GR-6 system. You must've had your hands full.\",\n",
              " \"You must've had your hands full. That I did. That I did.\",\n",
              " \"That I did. That I did. So let's talk a little bit about your duties.\",\n",
              " '',\n",
              " \"also I was the point person on my company's transition from the KL-5 to GR-6 system.\",\n",
              " \"also I was the point person on my company's transition from the KL-5 to GR-6 system. You must've had your hands full.\",\n",
              " \"You must've had your hands full. That I did. That I did.\",\n",
              " \"That I did. That I did. So let's talk a little bit about your duties.\"]"
            ]
          },
          "metadata": {},
          "execution_count": 12
        }
      ],
      "source": [
        "list(data['history'][:10])"
      ]
    },
    {
      "cell_type": "code",
      "execution_count": 13,
      "metadata": {
        "colab": {
          "base_uri": "https://localhost:8080/"
        },
        "id": "CjdG1T_CFHcx",
        "outputId": "3852a4c7-529e-4790-9ada-384f9c20f78d"
      },
      "outputs": [
        {
          "output_type": "execute_result",
          "data": {
            "text/plain": [
              "35000"
            ]
          },
          "metadata": {},
          "execution_count": 13
        }
      ],
      "source": [
        "len(data)"
      ]
    },
    {
      "cell_type": "code",
      "execution_count": 14,
      "metadata": {
        "colab": {
          "base_uri": "https://localhost:8080/",
          "height": 452
        },
        "id": "AVdMBcMyDlq7",
        "outputId": "3e3cecb2-2f79-4ecc-a079-2bfb78a9cff5"
      },
      "outputs": [
        {
          "output_type": "execute_result",
          "data": {
            "text/plain": [
              "<Axes: >"
            ]
          },
          "metadata": {},
          "execution_count": 14
        },
        {
          "output_type": "display_data",
          "data": {
            "text/plain": [
              "<Figure size 640x480 with 1 Axes>"
            ],
            "image/png": "[encoded data removed]"
          },
          "metadata": {}
        }
      ],
      "source": [
        "data['emotion'].hist()"
      ]
    },
    {
      "cell_type": "markdown",
      "metadata": {
        "id": "3SNnfFWuFKr3"
      },
      "source": [
        "This shows that the data is imbalanced."
      ]
    },
    {
      "cell_type": "code",
      "execution_count": 15,
      "metadata": {
        "colab": {
          "base_uri": "https://localhost:8080/"
        },
        "id": "FEln12COiVeW",
        "outputId": "2a1428db-2b82-4617-bb67-06657c999736"
      },
      "outputs": [
        {
          "output_type": "execute_result",
          "data": {
            "text/plain": [
              "35000"
            ]
          },
          "metadata": {},
          "execution_count": 15
        }
      ],
      "source": [
        "len(data)"
      ]
    },
    {
      "cell_type": "code",
      "execution_count": 16,
      "metadata": {
        "id": "rrkX3Ta1-0IO"
      },
      "outputs": [],
      "source": [
        "episodes = data['episode'].unique()"
      ]
    },
    {
      "cell_type": "markdown",
      "metadata": {
        "id": "FIyPfT4yF1Ye"
      },
      "source": [
        "###Label Encoder"
      ]
    },
    {
      "cell_type": "code",
      "execution_count": 17,
      "metadata": {
        "id": "c0pQnBrbFyfI"
      },
      "outputs": [],
      "source": [
        "#label encoder\n",
        "from sklearn.preprocessing import LabelEncoder\n",
        "le_emo = LabelEncoder()\n",
        "data['labemo'] = le_emo.fit_transform(data['emotion'])\n",
        "#le_tri = LabelEncoder()\n",
        "#data['labtri'] = le_tri.fit_transform(data['trigger'])"
      ]
    },
    {
      "cell_type": "code",
      "execution_count": 18,
      "metadata": {
        "colab": {
          "base_uri": "https://localhost:8080/"
        },
        "id": "cnZFfDHHGL4H",
        "outputId": "5242dcd9-7dc8-4788-8f7b-fe4002e2abc7"
      },
      "outputs": [
        {
          "output_type": "execute_result",
          "data": {
            "text/plain": [
              "array(['neutral', 'surprise', 'fear', 'sadness', 'joy', 'disgust',\n",
              "       'anger'], dtype=object)"
            ]
          },
          "metadata": {},
          "execution_count": 18
        }
      ],
      "source": [
        "data['emotion'].unique()"
      ]
    },
    {
      "cell_type": "code",
      "execution_count": 19,
      "metadata": {
        "colab": {
          "base_uri": "https://localhost:8080/"
        },
        "id": "-xQb79QXGXHC",
        "outputId": "e29ad78d-9a24-49a8-e361-d33ce52182ff"
      },
      "outputs": [
        {
          "output_type": "execute_result",
          "data": {
            "text/plain": [
              "array([4, 6, 2, 5, 3, 1, 0])"
            ]
          },
          "metadata": {},
          "execution_count": 19
        }
      ],
      "source": [
        "data['labemo'].unique()"
      ]
    },
    {
      "cell_type": "markdown",
      "metadata": {
        "id": "xDHZf6C4GMqA"
      },
      "source": [
        "### Train-Val-Test splitting"
      ]
    },
    {
      "cell_type": "code",
      "execution_count": 20,
      "metadata": {
        "colab": {
          "base_uri": "https://localhost:8080/"
        },
        "id": "hm8PMxsgBAO7",
        "outputId": "55aa23ef-d09b-41f4-ffcd-8973baaa0796"
      },
      "outputs": [
        {
          "output_type": "stream",
          "name": "stdout",
          "text": [
            "Number of training samples: 27850\n",
            "Number of test samples: 3612\n",
            "Number of validation examples: 3538\n"
          ]
        }
      ],
      "source": [
        "idx_train, idx_test = train_test_split(episodes,\n",
        "                                     random_state=SEED,\n",
        "                                     test_size=0.1)\n",
        "idx_train, idx_val = train_test_split(idx_train,\n",
        "                                     random_state=SEED,\n",
        "                                     test_size=idx_test.shape[0])\n",
        "df_train = data[data['episode'].isin(idx_train)]\n",
        "df_test = data[data['episode'].isin(idx_test)]\n",
        "df_val = data[data['episode'].isin(idx_val)]\n",
        "print('Number of training samples: {}'.format(df_train.shape[0]))\n",
        "print('Number of test samples: {}'.format(df_test.shape[0]))\n",
        "print('Number of validation examples: {}'.format(df_val.shape[0]))"
      ]
    },
    {
      "cell_type": "code",
      "execution_count": 21,
      "metadata": {
        "colab": {
          "base_uri": "https://localhost:8080/",
          "height": 206
        },
        "id": "q9ziL6sQBrJj",
        "outputId": "c26d62bd-e633-45e3-81f4-c863946ae2b7"
      },
      "outputs": [
        {
          "output_type": "execute_result",
          "data": {
            "text/plain": [
              "       episode                                          utterance  \\\n",
              "0  utterance_0  also I was the point person on my company's tr...   \n",
              "1  utterance_0                   You must've had your hands full.   \n",
              "2  utterance_0                            That I did. That I did.   \n",
              "3  utterance_0      So let's talk a little bit about your duties.   \n",
              "4  utterance_0                             My duties?  All right.   \n",
              "\n",
              "                                             history   emotion  trigger  \\\n",
              "0                                                      neutral    False   \n",
              "1  also I was the point person on my company's tr...   neutral    False   \n",
              "2  also I was the point person on my company's tr...   neutral    False   \n",
              "3  You must've had your hands full. That I did. T...   neutral     True   \n",
              "4  That I did. That I did. So let's talk a little...  surprise    False   \n",
              "\n",
              "   labemo  \n",
              "0       4  \n",
              "1       4  \n",
              "2       4  \n",
              "3       4  \n",
              "4       6  "
            ],
            "text/html": [
              "\n",
              "  <div id=\"df-418e8e7d-dc9a-4148-8115-8b5a541ae448\" class=\"colab-df-container\">\n",
              "    <div>\n",
              "<style scoped>\n",
              "    .dataframe tbody tr th:only-of-type {\n",
              "        vertical-align: middle;\n",
              "    }\n",
              "\n",
              "    .dataframe tbody tr th {\n",
              "        vertical-align: top;\n",
              "    }\n",
              "\n",
              "    .dataframe thead th {\n",
              "        text-align: right;\n",
              "    }\n",
              "</style>\n",
              "<table border=\"1\" class=\"dataframe\">\n",
              "  <thead>\n",
              "    <tr style=\"text-align: right;\">\n",
              "      <th></th>\n",
              "      <th>episode</th>\n",
              "      <th>utterance</th>\n",
              "      <th>history</th>\n",
              "      <th>emotion</th>\n",
              "      <th>trigger</th>\n",
              "      <th>labemo</th>\n",
              "    </tr>\n",
              "  </thead>\n",
              "  <tbody>\n",
              "    <tr>\n",
              "      <th>0</th>\n",
              "      <td>utterance_0</td>\n",
              "      <td>also I was the point person on my company's tr...</td>\n",
              "      <td></td>\n",
              "      <td>neutral</td>\n",
              "      <td>False</td>\n",
              "      <td>4</td>\n",
              "    </tr>\n",
              "    <tr>\n",
              "      <th>1</th>\n",
              "      <td>utterance_0</td>\n",
              "      <td>You must've had your hands full.</td>\n",
              "      <td>also I was the point person on my company's tr...</td>\n",
              "      <td>neutral</td>\n",
              "      <td>False</td>\n",
              "      <td>4</td>\n",
              "    </tr>\n",
              "    <tr>\n",
              "      <th>2</th>\n",
              "      <td>utterance_0</td>\n",
              "      <td>That I did. That I did.</td>\n",
              "      <td>also I was the point person on my company's tr...</td>\n",
              "      <td>neutral</td>\n",
              "      <td>False</td>\n",
              "      <td>4</td>\n",
              "    </tr>\n",
              "    <tr>\n",
              "      <th>3</th>\n",
              "      <td>utterance_0</td>\n",
              "      <td>So let's talk a little bit about your duties.</td>\n",
              "      <td>You must've had your hands full. That I did. T...</td>\n",
              "      <td>neutral</td>\n",
              "      <td>True</td>\n",
              "      <td>4</td>\n",
              "    </tr>\n",
              "    <tr>\n",
              "      <th>4</th>\n",
              "      <td>utterance_0</td>\n",
              "      <td>My duties?  All right.</td>\n",
              "      <td>That I did. That I did. So let's talk a little...</td>\n",
              "      <td>surprise</td>\n",
              "      <td>False</td>\n",
              "      <td>6</td>\n",
              "    </tr>\n",
              "  </tbody>\n",
              "</table>\n",
              "</div>\n",
              "    <div class=\"colab-df-buttons\">\n",
              "\n",
              "  <div class=\"colab-df-container\">\n",
              "    <button class=\"colab-df-convert\" onclick=\"convertToInteractive('df-418e8e7d-dc9a-4148-8115-8b5a541ae448')\"\n",
              "            title=\"Convert this dataframe to an interactive table.\"\n",
              "            style=\"display:none;\">\n",
              "\n",
              "  <svg xmlns=\"http://www.w3.org/2000/svg\" height=\"24px\" viewBox=\"0 -960 960 960\">\n",
              "    <path d=\"M120-120v-720h720v720H120Zm60-500h600v-160H180v160Zm220 220h160v-160H400v160Zm0 220h160v-160H400v160ZM180-400h160v-160H180v160Zm440 0h160v-160H620v160ZM180-180h160v-160H180v160Zm440 0h160v-160H620v160Z\"/>\n",
              "  </svg>\n",
              "    </button>\n",
              "\n",
              "  <style>\n",
              "    .colab-df-container {\n",
              "      display:flex;\n",
              "      gap: 12px;\n",
              "    }\n",
              "\n",
              "    .colab-df-convert {\n",
              "      background-color: #E8F0FE;\n",
              "      border: none;\n",
              "      border-radius: 50%;\n",
              "      cursor: pointer;\n",
              "      display: none;\n",
              "      fill: #1967D2;\n",
              "      height: 32px;\n",
              "      padding: 0 0 0 0;\n",
              "      width: 32px;\n",
              "    }\n",
              "\n",
              "    .colab-df-convert:hover {\n",
              "      background-color: #E2EBFA;\n",
              "      box-shadow: 0px 1px 2px rgba(60, 64, 67, 0.3), 0px 1px 3px 1px rgba(60, 64, 67, 0.15);\n",
              "      fill: #174EA6;\n",
              "    }\n",
              "\n",
              "    .colab-df-buttons div {\n",
              "      margin-bottom: 4px;\n",
              "    }\n",
              "\n",
              "    [theme=dark] .colab-df-convert {\n",
              "      background-color: #3B4455;\n",
              "      fill: #D2E3FC;\n",
              "    }\n",
              "\n",
              "    [theme=dark] .colab-df-convert:hover {\n",
              "      background-color: #434B5C;\n",
              "      box-shadow: 0px 1px 3px 1px rgba(0, 0, 0, 0.15);\n",
              "      filter: drop-shadow(0px 1px 2px rgba(0, 0, 0, 0.3));\n",
              "      fill: #FFFFFF;\n",
              "    }\n",
              "  </style>\n",
              "\n",
              "    <script>\n",
              "      const buttonEl =\n",
              "        document.querySelector('#df-418e8e7d-dc9a-4148-8115-8b5a541ae448 button.colab-df-convert');\n",
              "      buttonEl.style.display =\n",
              "        google.colab.kernel.accessAllowed ? 'block' : 'none';\n",
              "\n",
              "      async function convertToInteractive(key) {\n",
              "        const element = document.querySelector('#df-418e8e7d-dc9a-4148-8115-8b5a541ae448');\n",
              "        const dataTable =\n",
              "          await google.colab.kernel.invokeFunction('convertToInteractive',\n",
              "                                                    [key], {});\n",
              "        if (!dataTable) return;\n",
              "\n",
              "        const docLinkHtml = 'Like what you see? Visit the ' +\n",
              "          '<a target=\"_blank\" href=https://colab.research.google.com/notebooks/data_table.ipynb>data table notebook</a>'\n",
              "          + ' to learn more about interactive tables.';\n",
              "        element.innerHTML = '';\n",
              "        dataTable['output_type'] = 'display_data';\n",
              "        await google.colab.output.renderOutput(dataTable, element);\n",
              "        const docLink = document.createElement('div');\n",
              "        docLink.innerHTML = docLinkHtml;\n",
              "        element.appendChild(docLink);\n",
              "      }\n",
              "    </script>\n",
              "  </div>\n",
              "\n",
              "\n",
              "<div id=\"df-c7bee45b-c781-4e69-9415-9a0e131f7e29\">\n",
              "  <button class=\"colab-df-quickchart\" onclick=\"quickchart('df-c7bee45b-c781-4e69-9415-9a0e131f7e29')\"\n",
              "            title=\"Suggest charts\"\n",
              "            style=\"display:none;\">\n",
              "\n",
              "<svg xmlns=\"http://www.w3.org/2000/svg\" height=\"24px\"viewBox=\"0 0 24 24\"\n",
              "     width=\"24px\">\n",
              "    <g>\n",
              "        <path d=\"M19 3H5c-1.1 0-2 .9-2 2v14c0 1.1.9 2 2 2h14c1.1 0 2-.9 2-2V5c0-1.1-.9-2-2-2zM9 17H7v-7h2v7zm4 0h-2V7h2v10zm4 0h-2v-4h2v4z\"/>\n",
              "    </g>\n",
              "</svg>\n",
              "  </button>\n",
              "\n",
              "<style>\n",
              "  .colab-df-quickchart {\n",
              "      --bg-color: #E8F0FE;\n",
              "      --fill-color: #1967D2;\n",
              "      --hover-bg-color: #E2EBFA;\n",
              "      --hover-fill-color: #174EA6;\n",
              "      --disabled-fill-color: #AAA;\n",
              "      --disabled-bg-color: #DDD;\n",
              "  }\n",
              "\n",
              "  [theme=dark] .colab-df-quickchart {\n",
              "      --bg-color: #3B4455;\n",
              "      --fill-color: #D2E3FC;\n",
              "      --hover-bg-color: #434B5C;\n",
              "      --hover-fill-color: #FFFFFF;\n",
              "      --disabled-bg-color: #3B4455;\n",
              "      --disabled-fill-color: #666;\n",
              "  }\n",
              "\n",
              "  .colab-df-quickchart {\n",
              "    background-color: var(--bg-color);\n",
              "    border: none;\n",
              "    border-radius: 50%;\n",
              "    cursor: pointer;\n",
              "    display: none;\n",
              "    fill: var(--fill-color);\n",
              "    height: 32px;\n",
              "    padding: 0;\n",
              "    width: 32px;\n",
              "  }\n",
              "\n",
              "  .colab-df-quickchart:hover {\n",
              "    background-color: var(--hover-bg-color);\n",
              "    box-shadow: 0 1px 2px rgba(60, 64, 67, 0.3), 0 1px 3px 1px rgba(60, 64, 67, 0.15);\n",
              "    fill: var(--button-hover-fill-color);\n",
              "  }\n",
              "\n",
              "  .colab-df-quickchart-complete:disabled,\n",
              "  .colab-df-quickchart-complete:disabled:hover {\n",
              "    background-color: var(--disabled-bg-color);\n",
              "    fill: var(--disabled-fill-color);\n",
              "    box-shadow: none;\n",
              "  }\n",
              "\n",
              "  .colab-df-spinner {\n",
              "    border: 2px solid var(--fill-color);\n",
              "    border-color: transparent;\n",
              "    border-bottom-color: var(--fill-color);\n",
              "    animation:\n",
              "      spin 1s steps(1) infinite;\n",
              "  }\n",
              "\n",
              "  @keyframes spin {\n",
              "    0% {\n",
              "      border-color: transparent;\n",
              "      border-bottom-color: var(--fill-color);\n",
              "      border-left-color: var(--fill-color);\n",
              "    }\n",
              "    20% {\n",
              "      border-color: transparent;\n",
              "      border-left-color: var(--fill-color);\n",
              "      border-top-color: var(--fill-color);\n",
              "    }\n",
              "    30% {\n",
              "      border-color: transparent;\n",
              "      border-left-color: var(--fill-color);\n",
              "      border-top-color: var(--fill-color);\n",
              "      border-right-color: var(--fill-color);\n",
              "    }\n",
              "    40% {\n",
              "      border-color: transparent;\n",
              "      border-right-color: var(--fill-color);\n",
              "      border-top-color: var(--fill-color);\n",
              "    }\n",
              "    60% {\n",
              "      border-color: transparent;\n",
              "      border-right-color: var(--fill-color);\n",
              "    }\n",
              "    80% {\n",
              "      border-color: transparent;\n",
              "      border-right-color: var(--fill-color);\n",
              "      border-bottom-color: var(--fill-color);\n",
              "    }\n",
              "    90% {\n",
              "      border-color: transparent;\n",
              "      border-bottom-color: var(--fill-color);\n",
              "    }\n",
              "  }\n",
              "</style>\n",
              "\n",
              "  <script>\n",
              "    async function quickchart(key) {\n",
              "      const quickchartButtonEl =\n",
              "        document.querySelector('#' + key + ' button');\n",
              "      quickchartButtonEl.disabled = true;  // To prevent multiple clicks.\n",
              "      quickchartButtonEl.classList.add('colab-df-spinner');\n",
              "      try {\n",
              "        const charts = await google.colab.kernel.invokeFunction(\n",
              "            'suggestCharts', [key], {});\n",
              "      } catch (error) {\n",
              "        console.error('Error during call to suggestCharts:', error);\n",
              "      }\n",
              "      quickchartButtonEl.classList.remove('colab-df-spinner');\n",
              "      quickchartButtonEl.classList.add('colab-df-quickchart-complete');\n",
              "    }\n",
              "    (() => {\n",
              "      let quickchartButtonEl =\n",
              "        document.querySelector('#df-c7bee45b-c781-4e69-9415-9a0e131f7e29 button');\n",
              "      quickchartButtonEl.style.display =\n",
              "        google.colab.kernel.accessAllowed ? 'block' : 'none';\n",
              "    })();\n",
              "  </script>\n",
              "</div>\n",
              "    </div>\n",
              "  </div>\n"
            ]
          },
          "metadata": {},
          "execution_count": 21
        }
      ],
      "source": [
        "df_train.head()"
      ]
    },
    {
      "cell_type": "code",
      "execution_count": 22,
      "metadata": {
        "colab": {
          "base_uri": "https://localhost:8080/",
          "height": 206
        },
        "id": "EkDrRjKi0Jmv",
        "outputId": "f038f17b-94e0-41ba-ac84-bb69ad3537ef"
      },
      "outputs": [
        {
          "output_type": "execute_result",
          "data": {
            "text/plain": [
              "         episode                                          utterance  \\\n",
              "55   utterance_8                                          Hey, Mon.   \n",
              "56   utterance_8  Hey-hey-hey. You wanna hear something that sucks.   \n",
              "57   utterance_8                                         Do I ever.   \n",
              "58   utterance_8           Chris says they're closing down the bar.   \n",
              "77  utterance_12                                          Hey, Mon.   \n",
              "\n",
              "                                              history  emotion  trigger  \\\n",
              "55                                                     neutral    False   \n",
              "56                                          Hey, Mon.  neutral    False   \n",
              "57  Hey, Mon. Hey-hey-hey. You wanna hear somethin...      joy    False   \n",
              "58  Hey-hey-hey. You wanna hear something that suc...  sadness     True   \n",
              "77                                                     neutral    False   \n",
              "\n",
              "    labemo  \n",
              "55       4  \n",
              "56       4  \n",
              "57       3  \n",
              "58       5  \n",
              "77       4  "
            ],
            "text/html": [
              "\n",
              "  <div id=\"df-52bc5f18-19e5-47e4-a4f7-81690e01245a\" class=\"colab-df-container\">\n",
              "    <div>\n",
              "<style scoped>\n",
              "    .dataframe tbody tr th:only-of-type {\n",
              "        vertical-align: middle;\n",
              "    }\n",
              "\n",
              "    .dataframe tbody tr th {\n",
              "        vertical-align: top;\n",
              "    }\n",
              "\n",
              "    .dataframe thead th {\n",
              "        text-align: right;\n",
              "    }\n",
              "</style>\n",
              "<table border=\"1\" class=\"dataframe\">\n",
              "  <thead>\n",
              "    <tr style=\"text-align: right;\">\n",
              "      <th></th>\n",
              "      <th>episode</th>\n",
              "      <th>utterance</th>\n",
              "      <th>history</th>\n",
              "      <th>emotion</th>\n",
              "      <th>trigger</th>\n",
              "      <th>labemo</th>\n",
              "    </tr>\n",
              "  </thead>\n",
              "  <tbody>\n",
              "    <tr>\n",
              "      <th>55</th>\n",
              "      <td>utterance_8</td>\n",
              "      <td>Hey, Mon.</td>\n",
              "      <td></td>\n",
              "      <td>neutral</td>\n",
              "      <td>False</td>\n",
              "      <td>4</td>\n",
              "    </tr>\n",
              "    <tr>\n",
              "      <th>56</th>\n",
              "      <td>utterance_8</td>\n",
              "      <td>Hey-hey-hey. You wanna hear something that sucks.</td>\n",
              "      <td>Hey, Mon.</td>\n",
              "      <td>neutral</td>\n",
              "      <td>False</td>\n",
              "      <td>4</td>\n",
              "    </tr>\n",
              "    <tr>\n",
              "      <th>57</th>\n",
              "      <td>utterance_8</td>\n",
              "      <td>Do I ever.</td>\n",
              "      <td>Hey, Mon. Hey-hey-hey. You wanna hear somethin...</td>\n",
              "      <td>joy</td>\n",
              "      <td>False</td>\n",
              "      <td>3</td>\n",
              "    </tr>\n",
              "    <tr>\n",
              "      <th>58</th>\n",
              "      <td>utterance_8</td>\n",
              "      <td>Chris says they're closing down the bar.</td>\n",
              "      <td>Hey-hey-hey. You wanna hear something that suc...</td>\n",
              "      <td>sadness</td>\n",
              "      <td>True</td>\n",
              "      <td>5</td>\n",
              "    </tr>\n",
              "    <tr>\n",
              "      <th>77</th>\n",
              "      <td>utterance_12</td>\n",
              "      <td>Hey, Mon.</td>\n",
              "      <td></td>\n",
              "      <td>neutral</td>\n",
              "      <td>False</td>\n",
              "      <td>4</td>\n",
              "    </tr>\n",
              "  </tbody>\n",
              "</table>\n",
              "</div>\n",
              "    <div class=\"colab-df-buttons\">\n",
              "\n",
              "  <div class=\"colab-df-container\">\n",
              "    <button class=\"colab-df-convert\" onclick=\"convertToInteractive('df-52bc5f18-19e5-47e4-a4f7-81690e01245a')\"\n",
              "            title=\"Convert this dataframe to an interactive table.\"\n",
              "            style=\"display:none;\">\n",
              "\n",
              "  <svg xmlns=\"http://www.w3.org/2000/svg\" height=\"24px\" viewBox=\"0 -960 960 960\">\n",
              "    <path d=\"M120-120v-720h720v720H120Zm60-500h600v-160H180v160Zm220 220h160v-160H400v160Zm0 220h160v-160H400v160ZM180-400h160v-160H180v160Zm440 0h160v-160H620v160ZM180-180h160v-160H180v160Zm440 0h160v-160H620v160Z\"/>\n",
              "  </svg>\n",
              "    </button>\n",
              "\n",
              "  <style>\n",
              "    .colab-df-container {\n",
              "      display:flex;\n",
              "      gap: 12px;\n",
              "    }\n",
              "\n",
              "    .colab-df-convert {\n",
              "      background-color: #E8F0FE;\n",
              "      border: none;\n",
              "      border-radius: 50%;\n",
              "      cursor: pointer;\n",
              "      display: none;\n",
              "      fill: #1967D2;\n",
              "      height: 32px;\n",
              "      padding: 0 0 0 0;\n",
              "      width: 32px;\n",
              "    }\n",
              "\n",
              "    .colab-df-convert:hover {\n",
              "      background-color: #E2EBFA;\n",
              "      box-shadow: 0px 1px 2px rgba(60, 64, 67, 0.3), 0px 1px 3px 1px rgba(60, 64, 67, 0.15);\n",
              "      fill: #174EA6;\n",
              "    }\n",
              "\n",
              "    .colab-df-buttons div {\n",
              "      margin-bottom: 4px;\n",
              "    }\n",
              "\n",
              "    [theme=dark] .colab-df-convert {\n",
              "      background-color: #3B4455;\n",
              "      fill: #D2E3FC;\n",
              "    }\n",
              "\n",
              "    [theme=dark] .colab-df-convert:hover {\n",
              "      background-color: #434B5C;\n",
              "      box-shadow: 0px 1px 3px 1px rgba(0, 0, 0, 0.15);\n",
              "      filter: drop-shadow(0px 1px 2px rgba(0, 0, 0, 0.3));\n",
              "      fill: #FFFFFF;\n",
              "    }\n",
              "  </style>\n",
              "\n",
              "    <script>\n",
              "      const buttonEl =\n",
              "        document.querySelector('#df-52bc5f18-19e5-47e4-a4f7-81690e01245a button.colab-df-convert');\n",
              "      buttonEl.style.display =\n",
              "        google.colab.kernel.accessAllowed ? 'block' : 'none';\n",
              "\n",
              "      async function convertToInteractive(key) {\n",
              "        const element = document.querySelector('#df-52bc5f18-19e5-47e4-a4f7-81690e01245a');\n",
              "        const dataTable =\n",
              "          await google.colab.kernel.invokeFunction('convertToInteractive',\n",
              "                                                    [key], {});\n",
              "        if (!dataTable) return;\n",
              "\n",
              "        const docLinkHtml = 'Like what you see? Visit the ' +\n",
              "          '<a target=\"_blank\" href=https://colab.research.google.com/notebooks/data_table.ipynb>data table notebook</a>'\n",
              "          + ' to learn more about interactive tables.';\n",
              "        element.innerHTML = '';\n",
              "        dataTable['output_type'] = 'display_data';\n",
              "        await google.colab.output.renderOutput(dataTable, element);\n",
              "        const docLink = document.createElement('div');\n",
              "        docLink.innerHTML = docLinkHtml;\n",
              "        element.appendChild(docLink);\n",
              "      }\n",
              "    </script>\n",
              "  </div>\n",
              "\n",
              "\n",
              "<div id=\"df-bcd6f2c1-e018-471e-9bb7-d8b93fd44543\">\n",
              "  <button class=\"colab-df-quickchart\" onclick=\"quickchart('df-bcd6f2c1-e018-471e-9bb7-d8b93fd44543')\"\n",
              "            title=\"Suggest charts\"\n",
              "            style=\"display:none;\">\n",
              "\n",
              "<svg xmlns=\"http://www.w3.org/2000/svg\" height=\"24px\"viewBox=\"0 0 24 24\"\n",
              "     width=\"24px\">\n",
              "    <g>\n",
              "        <path d=\"M19 3H5c-1.1 0-2 .9-2 2v14c0 1.1.9 2 2 2h14c1.1 0 2-.9 2-2V5c0-1.1-.9-2-2-2zM9 17H7v-7h2v7zm4 0h-2V7h2v10zm4 0h-2v-4h2v4z\"/>\n",
              "    </g>\n",
              "</svg>\n",
              "  </button>\n",
              "\n",
              "<style>\n",
              "  .colab-df-quickchart {\n",
              "      --bg-color: #E8F0FE;\n",
              "      --fill-color: #1967D2;\n",
              "      --hover-bg-color: #E2EBFA;\n",
              "      --hover-fill-color: #174EA6;\n",
              "      --disabled-fill-color: #AAA;\n",
              "      --disabled-bg-color: #DDD;\n",
              "  }\n",
              "\n",
              "  [theme=dark] .colab-df-quickchart {\n",
              "      --bg-color: #3B4455;\n",
              "      --fill-color: #D2E3FC;\n",
              "      --hover-bg-color: #434B5C;\n",
              "      --hover-fill-color: #FFFFFF;\n",
              "      --disabled-bg-color: #3B4455;\n",
              "      --disabled-fill-color: #666;\n",
              "  }\n",
              "\n",
              "  .colab-df-quickchart {\n",
              "    background-color: var(--bg-color);\n",
              "    border: none;\n",
              "    border-radius: 50%;\n",
              "    cursor: pointer;\n",
              "    display: none;\n",
              "    fill: var(--fill-color);\n",
              "    height: 32px;\n",
              "    padding: 0;\n",
              "    width: 32px;\n",
              "  }\n",
              "\n",
              "  .colab-df-quickchart:hover {\n",
              "    background-color: var(--hover-bg-color);\n",
              "    box-shadow: 0 1px 2px rgba(60, 64, 67, 0.3), 0 1px 3px 1px rgba(60, 64, 67, 0.15);\n",
              "    fill: var(--button-hover-fill-color);\n",
              "  }\n",
              "\n",
              "  .colab-df-quickchart-complete:disabled,\n",
              "  .colab-df-quickchart-complete:disabled:hover {\n",
              "    background-color: var(--disabled-bg-color);\n",
              "    fill: var(--disabled-fill-color);\n",
              "    box-shadow: none;\n",
              "  }\n",
              "\n",
              "  .colab-df-spinner {\n",
              "    border: 2px solid var(--fill-color);\n",
              "    border-color: transparent;\n",
              "    border-bottom-color: var(--fill-color);\n",
              "    animation:\n",
              "      spin 1s steps(1) infinite;\n",
              "  }\n",
              "\n",
              "  @keyframes spin {\n",
              "    0% {\n",
              "      border-color: transparent;\n",
              "      border-bottom-color: var(--fill-color);\n",
              "      border-left-color: var(--fill-color);\n",
              "    }\n",
              "    20% {\n",
              "      border-color: transparent;\n",
              "      border-left-color: var(--fill-color);\n",
              "      border-top-color: var(--fill-color);\n",
              "    }\n",
              "    30% {\n",
              "      border-color: transparent;\n",
              "      border-left-color: var(--fill-color);\n",
              "      border-top-color: var(--fill-color);\n",
              "      border-right-color: var(--fill-color);\n",
              "    }\n",
              "    40% {\n",
              "      border-color: transparent;\n",
              "      border-right-color: var(--fill-color);\n",
              "      border-top-color: var(--fill-color);\n",
              "    }\n",
              "    60% {\n",
              "      border-color: transparent;\n",
              "      border-right-color: var(--fill-color);\n",
              "    }\n",
              "    80% {\n",
              "      border-color: transparent;\n",
              "      border-right-color: var(--fill-color);\n",
              "      border-bottom-color: var(--fill-color);\n",
              "    }\n",
              "    90% {\n",
              "      border-color: transparent;\n",
              "      border-bottom-color: var(--fill-color);\n",
              "    }\n",
              "  }\n",
              "</style>\n",
              "\n",
              "  <script>\n",
              "    async function quickchart(key) {\n",
              "      const quickchartButtonEl =\n",
              "        document.querySelector('#' + key + ' button');\n",
              "      quickchartButtonEl.disabled = true;  // To prevent multiple clicks.\n",
              "      quickchartButtonEl.classList.add('colab-df-spinner');\n",
              "      try {\n",
              "        const charts = await google.colab.kernel.invokeFunction(\n",
              "            'suggestCharts', [key], {});\n",
              "      } catch (error) {\n",
              "        console.error('Error during call to suggestCharts:', error);\n",
              "      }\n",
              "      quickchartButtonEl.classList.remove('colab-df-spinner');\n",
              "      quickchartButtonEl.classList.add('colab-df-quickchart-complete');\n",
              "    }\n",
              "    (() => {\n",
              "      let quickchartButtonEl =\n",
              "        document.querySelector('#df-bcd6f2c1-e018-471e-9bb7-d8b93fd44543 button');\n",
              "      quickchartButtonEl.style.display =\n",
              "        google.colab.kernel.accessAllowed ? 'block' : 'none';\n",
              "    })();\n",
              "  </script>\n",
              "</div>\n",
              "    </div>\n",
              "  </div>\n"
            ]
          },
          "metadata": {},
          "execution_count": 22
        }
      ],
      "source": [
        "df_test.head()"
      ]
    },
    {
      "cell_type": "markdown",
      "metadata": {
        "id": "W3d5aHmELKIq"
      },
      "source": [
        "### Easy Data Augmentation\n",
        "[paper](https://arxiv.org/abs/1901.11196)"
      ]
    },
    {
      "cell_type": "code",
      "execution_count": 23,
      "metadata": {
        "id": "IW0UMU7pLKIq"
      },
      "outputs": [],
      "source": [
        "AUGMENT = False\n",
        "\n",
        "if AUGMENT:\n",
        "  nltk.download('wordnet')\n",
        "  aug_test = eda(\"ok, i am not doing this\", 0.2, 0.2, 0.2, 0.2, num_aug=2)\n",
        "  print(\"Augmentation test for a single sentence: \\n{}\".format(aug_test))\n",
        "\n",
        "  df = df_train[df_train['trigger']]\n",
        "\n",
        "  ignore = ['utterance_1101', 'utterance_1753', 'utterance_2822']\n",
        "\n",
        "  for i in ignore:\n",
        "    df = df[df['episode'] != i]\n",
        "\n",
        "  new_rows = []\n",
        "  for i in range(len(df)):\n",
        "      r = df.iloc[i].copy()\n",
        "      #print(r['episode'])\n",
        "      aug_utts = eda(r['utterance'],0.2,0.2,0.2,0.2, num_aug=4)\n",
        "      aug_hist = eda(r['history'],0.2,0.2,0.2,0.2, num_aug=4) if r['history'] != \"\" else \"\"\n",
        "\n",
        "      i = 0\n",
        "      for ut in aug_utts:\n",
        "          r['utterance'] = ut\n",
        "          r['history'] = aug_hist[i] if r['history'] != \"\" else \"\"\n",
        "          new_rows.append(r)\n",
        "\n",
        "          r = r.copy()\n",
        "          i += 1\n",
        "\n",
        "  new_df = pd.DataFrame(new_rows)\n",
        "  df_train = pd.concat([df_train,new_df]).reset_index(drop=True)\n",
        "  df_train"
      ]
    },
    {
      "cell_type": "markdown",
      "metadata": {
        "id": "9ybmu8XVbu0_"
      },
      "source": [
        "## Utils"
      ]
    },
    {
      "cell_type": "markdown",
      "source": [
        "Create a folder for models checkpoints."
      ],
      "metadata": {
        "id": "7BxS7InoAuFG"
      }
    },
    {
      "cell_type": "code",
      "source": [
        "models_dir = \"models_{}\".format(SEED)\n",
        "bertfull_folder = os.path.join(models_dir, \"full\")\n",
        "bertfreezed_folder = os.path.join(models_dir, \"freezed\")\n",
        "if not os.path.exists(bertfull_folder):\n",
        "    os.makedirs(bertfull_folder)\n",
        "if not os.path.exists(bertfreezed_folder):\n",
        "    os.makedirs(bertfreezed_folder)"
      ],
      "metadata": {
        "id": "X8wlLzAlAyKU"
      },
      "execution_count": 24,
      "outputs": []
    },
    {
      "cell_type": "markdown",
      "metadata": {
        "id": "_Ax1wIOh4_M2"
      },
      "source": [
        "#### Save and load results"
      ]
    },
    {
      "cell_type": "code",
      "execution_count": 25,
      "metadata": {
        "execution": {
          "iopub.execute_input": "2023-01-19T17:59:25.394235Z",
          "iopub.status.busy": "2023-01-19T17:59:25.393525Z",
          "iopub.status.idle": "2023-01-19T17:59:25.404877Z",
          "shell.execute_reply": "2023-01-19T17:59:25.403762Z",
          "shell.execute_reply.started": "2023-01-19T17:59:25.394201Z"
        },
        "id": "LLIimUyScd66",
        "trusted": true
      },
      "outputs": [],
      "source": [
        "results_folder = \"results\"\n",
        "if not os.path.exists(results_folder):\n",
        "    os.makedirs(results_folder)\n",
        "\n",
        "def results_to_csv(df_results,\n",
        "                    seed):\n",
        "    '''\n",
        "    Args:\n",
        "        df_results: DataFrame with the all the scores\n",
        "        seed: the used seed\n",
        "    '''\n",
        "\n",
        "\n",
        "    csv_path = f\"{results_folder}/{seed}.csv\"\n",
        "    df_results.to_csv(path_or_buf=csv_path)"
      ]
    },
    {
      "cell_type": "code",
      "execution_count": 26,
      "metadata": {
        "execution": {
          "iopub.execute_input": "2023-01-19T17:59:25.407010Z",
          "iopub.status.busy": "2023-01-19T17:59:25.406558Z",
          "iopub.status.idle": "2023-01-19T17:59:25.416405Z",
          "shell.execute_reply": "2023-01-19T17:59:25.415413Z",
          "shell.execute_reply.started": "2023-01-19T17:59:25.406975Z"
        },
        "id": "1sFeuAYqcd67",
        "trusted": true
      },
      "outputs": [],
      "source": [
        "def results_from_csv(seed,\n",
        "                    ):\n",
        "    '''\n",
        "    Args:\n",
        "        seed: the wanted seed\n",
        "    '''\n",
        "    file_path = f\"results/{seed}.csv\"\n",
        "    df_results = pd.read_csv(file_path)\n",
        "\n",
        "    return df_results"
      ]
    },
    {
      "cell_type": "markdown",
      "metadata": {
        "id": "Wr9lF2r5LJfQ"
      },
      "source": [
        "### Pytorch Dataset"
      ]
    },
    {
      "cell_type": "code",
      "execution_count": 27,
      "metadata": {
        "id": "YmIVbhWPkD31"
      },
      "outputs": [],
      "source": [
        "class CreateDataset(Dataset):\n",
        "    def __init__(self, encodings):\n",
        "        self.encodings = encodings\n",
        "\n",
        "    def __getitem__(self, idx):\n",
        "        return {key: torch.tensor(val[idx]) for key, val in self.encodings.items()}\n",
        "\n",
        "    def __len__(self):\n",
        "        return len(self.encodings.input_ids)"
      ]
    },
    {
      "cell_type": "markdown",
      "metadata": {
        "id": "DnGwClzSyblO"
      },
      "source": [
        "###Model"
      ]
    },
    {
      "cell_type": "code",
      "execution_count": 28,
      "metadata": {
        "id": "G3TfYpMd-vP8"
      },
      "outputs": [],
      "source": [
        "from transformers import DistilBertModel, BertModel\n",
        "import torch.nn as nn\n",
        "\n",
        "class CustomBERTModel(nn.Module):\n",
        "\n",
        "      def __init__(self,checkpoint, num_labels_emo, num_labels_tri):\n",
        "            super(CustomBERTModel, self).__init__()\n",
        "            self.num_labels_emo = num_labels_emo\n",
        "            self.num_labels_tri = num_labels_tri\n",
        "            self.bert = BertModel.from_pretrained(checkpoint)\n",
        "            ### New layers:\n",
        "            self.dropout = nn.Dropout(0.3)\n",
        "            #self.cl1 = nn.Linear(self.bert.config.hidden_size, 400)\n",
        "            self.relu = nn.ReLU()\n",
        "            self.cls_emo = nn.Linear(4*self.bert.config.hidden_size, num_labels_emo)\n",
        "            #self.cls_emo = nn.Linear(400, num_labels_emo)\n",
        "            #self.cls_tri = nn.Linear(400, 1)\n",
        "            self.cls_tri = nn.Linear(4*self.bert.config.hidden_size, 1)\n",
        "\n",
        "      def forward(self, input_ids, attention_mask):\n",
        "            output = self.bert(\n",
        "                  input_ids,\n",
        "                  attention_mask=attention_mask,output_hidden_states=True )\n",
        "            #sequence_output = output[0]\n",
        "            #print(sequence_output.shape)\n",
        "            #the pooler output contains the information\n",
        "            pooler_output = output.pooler_output\n",
        "            #concatenate the last 4 hidden states of Bert output\n",
        "            output = output['hidden_states'][-4:]\n",
        "            #print(len(output))\n",
        "            output = torch.cat(output,-1)\n",
        "            output = output[:,0,:]\n",
        "            #print(np.shape(output))\n",
        "            x = self.dropout(output)\n",
        "            #x = self.cl1(x)\n",
        "            #x = self.relu(x)\n",
        "            x_emo = self.cls_emo(x)\n",
        "            x_tri = self.cls_tri(x)\n",
        "            x_tri = torch.nn.functional.sigmoid(x_tri)\n",
        "            return x_emo, x_tri"
      ]
    },
    {
      "cell_type": "code",
      "execution_count": 29,
      "metadata": {
        "id": "kf1Ki5WThvOH"
      },
      "outputs": [],
      "source": [
        "def getModel(model_checkpoint, num_labels_emo, num_labels_tri):\n",
        "\n",
        "  model = CustomBERTModel(model_checkpoint, num_labels_emo, num_labels_tri)\n",
        "  tokenizer = AutoTokenizer.from_pretrained(model_checkpoint, use_fast=False)\n",
        "\n",
        "  return model, tokenizer"
      ]
    },
    {
      "cell_type": "markdown",
      "metadata": {
        "id": "tNCU1n2ByYCz"
      },
      "source": [
        "###Training"
      ]
    },
    {
      "cell_type": "code",
      "execution_count": 30,
      "metadata": {
        "id": "5uz5yoMDetxV"
      },
      "outputs": [],
      "source": [
        "# Train one epoch\n",
        "def train(model: torch.nn.Module,\n",
        "          train_loader:torch.utils.data.DataLoader,\n",
        "          device: torch.device,\n",
        "          optimizer: torch.optim,\n",
        "          criterion: list,\n",
        "          epoch: int) -> float:\n",
        "    \"\"\"Trains a neural network for one epoch.\n",
        "\n",
        "    Args:\n",
        "        model: the model to train.\n",
        "        train_loader: the data loader containing the training data.\n",
        "        device: the device to use to train the model.\n",
        "        optimizer: the optimizer to use to train the model.\n",
        "        epoch: the number of the current epoch.\n",
        "\n",
        "    Returns:\n",
        "        the cross entropy Loss value on the training data.\n",
        "    \"\"\"\n",
        "    l_tri_weight = 1.0\n",
        "\n",
        "    size_ds_train = len(train_loader.dataset)\n",
        "    num_batches = len(train_loader)\n",
        "    loss_score = []\n",
        "    loop = tqdm(train_loader)\n",
        "    #set training mode\n",
        "    model.train()\n",
        "    for idx_batch, batch in enumerate(loop):\n",
        "        optimizer.zero_grad()\n",
        "        input_ids = batch['input_ids'].to(device)\n",
        "        attention_mask = batch['attention_mask'].to(device)\n",
        "        labels_emo = batch['labels_emo'].to(device)\n",
        "        labels_tri = batch['labels_tri'].to(device)\n",
        "        #print(f\"target-size: {labels.shape}\")\n",
        "        logits_emo, logits_tri = model(input_ids,\n",
        "                                        attention_mask=attention_mask,\n",
        "                                    )\n",
        "        #print(f\"logits-size: {logits.shape}\")\n",
        "        loss_emo = criterion[0](logits_emo, labels_emo)\n",
        "        loss_tri = criterion[1](logits_tri, labels_tri)\n",
        "        loss = loss_emo + l_tri_weight*loss_tri\n",
        "        loss_score.append(loss.item())\n",
        "        loss.backward()\n",
        "        optimizer.step()\n",
        "        loop.set_description(f'Epoch {epoch}')\n",
        "        loop.set_postfix(loss=loss.item())\n",
        "\n",
        "    loss_train = np.mean(loss_score)\n",
        "    return loss_train\n",
        "\n",
        "# Validate one epoch\n",
        "def validate(model: torch.nn.Module,\n",
        "             criterion: torch.nn.Module,\n",
        "             data_loader: torch.utils.data.DataLoader,\n",
        "             device: torch.device) -> float:\n",
        "    \"\"\"Evaluates the model.\n",
        "\n",
        "    Args:\n",
        "        model: the model to evalaute.\n",
        "        data_loader: the data loader containing the validation data.\n",
        "        device: the device to use to evaluate the model.\n",
        "\n",
        "    Returns:\n",
        "        the loss value on the validation data.\n",
        "    \"\"\"\n",
        "    loss_score = []\n",
        "    #set evaluation mode\n",
        "    model = model.eval()\n",
        "    with torch.no_grad():\n",
        "        for idx_batch, batch in enumerate(data_loader):\n",
        "            input_ids = batch['input_ids'].to(device)\n",
        "            attention_mask = batch['attention_mask'].to(device)\n",
        "            labels_emo = batch['labels_emo'].to(device)\n",
        "            labels_tri = batch['labels_tri'].to(device)\n",
        "            logits_emo, logits_tri = model(input_ids,\n",
        "                                            attention_mask=attention_mask,\n",
        "                                        )\n",
        "            loss_emo = criterion[0](logits_emo, labels_emo)\n",
        "            loss_tri = criterion[1](logits_tri, labels_tri)\n",
        "            loss = loss_emo + loss_tri\n",
        "            loss_score.append(loss.item())\n",
        "    loss_val = np.mean(loss_score)\n",
        "    return loss_val"
      ]
    },
    {
      "cell_type": "code",
      "execution_count": 31,
      "metadata": {
        "id": "nxblkDN_Yf1F"
      },
      "outputs": [],
      "source": [
        "def training_loop(num_epochs: int,\n",
        "                  optimizer: torch.optim,\n",
        "                  criterion: torch.nn.Module,\n",
        "                  model: torch.nn.Module,\n",
        "                  loader_train: torch.utils.data.DataLoader,\n",
        "                  loader_val : torch.utils.data.DataLoader = None,\n",
        "                  model_dir = \"models\",\n",
        "                  verbose: bool=True) -> Dict:\n",
        "    \"\"\"Executes the training loop.\n",
        "\n",
        "        Args:\n",
        "            num_epochs: the number of epochs.\n",
        "            optimizer: the optimizer to use.\n",
        "            model: the mode to train.\n",
        "            loader_train: the data loader containing the training data.\n",
        "            loader_val: the data loader containing the validation data.\n",
        "            verbose: if true print the value of loss.\n",
        "\n",
        "        Returns:\n",
        "            A dictionary with the statistics computed during the train:\n",
        "            the values for the train loss for each epoch.\n",
        "            the values for the validation loss for each epoch.\n",
        "            the time of execution in seconds for the entire loop.\n",
        "    \"\"\"\n",
        "    device = torch.device('cuda') if torch.cuda.is_available() else torch.device('cpu')\n",
        "    model.to(device)\n",
        "    loop_start = timer()\n",
        "    train_losses_values = []\n",
        "    val_losses_values = []\n",
        "\n",
        "    best_epoch = 1\n",
        "\n",
        "    for epoch in range(1, num_epochs + 1):\n",
        "        time_start = timer()\n",
        "        loss_train = train(model, loader_train, device,\n",
        "                                           optimizer, criterion, epoch)\n",
        "        if(loader_val != None):\n",
        "          loss_val = validate(model, criterion, loader_val, device)\n",
        "        else:\n",
        "          loss_val = 0\n",
        "        time_end = timer()\n",
        "        train_losses_values.append(loss_train)\n",
        "        val_losses_values.append(loss_val)\n",
        "\n",
        "        torch.save(model.state_dict(), os.path.join(model_dir, 'epoch-{}.pt'.format(epoch)))\n",
        "        best_epoch = np.argmin(val_losses_values)+1\n",
        "\n",
        "        if verbose:\n",
        "            print(f'Epoch: {epoch} '\n",
        "                  f' Lr: {lr:.8f} '\n",
        "                  f' Loss: Train = [{loss_train:.4f}] - Val = [{loss_val:.4f}] '\n",
        "                  f' Time one epoch (s): {(time_end - time_start):.4f} ')\n",
        "\n",
        "        if epoch >= 3:\n",
        "          if loss_val > val_losses_values[-2] and loss_val > val_losses_values[-3]:\n",
        "            if verbose:\n",
        "              print(\"Early Stopping. Best epoch: {}\".format(best_epoch))\n",
        "            break\n",
        "\n",
        "    loop_end = timer()\n",
        "    time_loop = loop_end - loop_start\n",
        "    if verbose:\n",
        "        print(f'Time for {num_epochs} epochs (s): {(time_loop):.3f}')\n",
        "\n",
        "    model.load_state_dict(torch.load(os.path.join(model_dir, 'epoch-{}.pt'.format(best_epoch))))\n",
        "\n",
        "    return {'train_loss_values': train_losses_values,\n",
        "            'val_loss_values' : val_losses_values,\n",
        "            'time': time_loop}"
      ]
    },
    {
      "cell_type": "markdown",
      "metadata": {
        "id": "VDNIeZNByTcM"
      },
      "source": [
        "###Execution"
      ]
    },
    {
      "cell_type": "code",
      "execution_count": 32,
      "metadata": {
        "id": "-NskXNZBhI5A"
      },
      "outputs": [],
      "source": [
        "from torch.utils.data import WeightedRandomSampler\n",
        "\n",
        "def execute(lr: float,\n",
        "            num_epochs: int,\n",
        "            batch_size: int,\n",
        "            criterion: torch.nn.Module,\n",
        "            num_labels_emo: int,\n",
        "            num_labels_tri: int,\n",
        "            data: pd.DataFrame,\n",
        "            data_labels_emo: pd.DataFrame,\n",
        "            data_labels_tri: pd.DataFrame,\n",
        "            val_df: pd.DataFrame,\n",
        "            val_labels_emo: pd.DataFrame,\n",
        "            val_labels_tri: pd.DataFrame,\n",
        "            model_name=\"\",\n",
        "            model=None,\n",
        "            tokenizer=None,\n",
        "            freeze_embeddings=False,\n",
        "            weighted_sampling=False\n",
        "            ) ->Tuple[torch.nn.Module, any]:\n",
        "    \"\"\"Gets the model, does the encodings of the training and validation data using the\n",
        "        tokenizer, and then executes the training loop.\n",
        "\n",
        "    Args:\n",
        "        lr: the learning rate.\n",
        "        num_epochs: the number of epochs.\n",
        "        batch_size: the batch size.\n",
        "        data: training-val dataframe.\n",
        "        data_labels: training-val labels dataframe.\n",
        "        val_df: validation dataframe.\n",
        "        model: the network to train.\n",
        "        history: questions-answers history flag.\n",
        "    \"\"\"\n",
        "\n",
        "    #train on full data\n",
        "    #get the model and the tokenizer, freeze the embedding layers of Bert if requested\n",
        "    if not model_name == \"\":\n",
        "      model, tokenizer = getModel(model_name, num_labels_emo, num_labels_tri)\n",
        "\n",
        "      if freeze_embeddings:\n",
        "         for param in model.bert.embeddings.parameters():\n",
        "            param.requires_grad = False\n",
        "    #Start encodings\n",
        "    #print(f'Train set:')\n",
        "    train_encodings = encode(tokenizer, data, data_labels_emo, data_labels_tri)\n",
        "    #print(f'Validation set:')\n",
        "    val_encodings = encode(tokenizer, val_df, val_labels_emo, val_labels_tri)\n",
        "    print(f'ENCODING COMPLETE.')\n",
        "    #create training dataset\n",
        "    train_dataset = CreateDataset(train_encodings)\n",
        "\n",
        "    # create weighted sampler to balance the dataset based on the trigger column\n",
        "    if weighted_sampling:\n",
        "        class_counts = data_labels_tri.value_counts()\n",
        "        class_weights = 1/class_counts\n",
        "        sample_weights = [1/class_counts[i] for i in data_labels_tri.values]\n",
        "        sampler = WeightedRandomSampler(weights=sample_weights, num_samples=len(data_labels_tri), replacement=True)\n",
        "        #create training dataloader\n",
        "        data_loader_train = torch.utils.data.DataLoader(train_dataset,\n",
        "                                            batch_size=batch_size,\n",
        "                                            sampler = sampler\n",
        "                                            )\n",
        "    # otherwise, create the standard dataloader\n",
        "    else:\n",
        "        data_loader_train = torch.utils.data.DataLoader(train_dataset,\n",
        "                                            batch_size=batch_size,\n",
        "                                            shuffle = True\n",
        "                                            )\n",
        "\n",
        "    #create validation dataset\n",
        "    val_dataset = CreateDataset(val_encodings)\n",
        "    #create validation dataloader\n",
        "    data_loader_val = torch.utils.data.DataLoader(val_dataset,\n",
        "                                          batch_size=batch_size,\n",
        "                                          shuffle = False\n",
        "                                          )\n",
        "    #Optimizer\n",
        "    optimizer = torch.optim.AdamW(model.parameters(), lr=lr, weight_decay=1.5e-2)\n",
        "    print(f'STARTING TRAINING with complete data:')\n",
        "    model_dir = bertfreezed_folder if freeze_embeddings else bertfull_folder\n",
        "    statistics = training_loop(num_epochs, optimizer, criterion, model,\n",
        "                              data_loader_train, data_loader_val, model_dir=model_dir)\n",
        "    print(f'TRAINING COMPLETE.')\n",
        "\n",
        "    return model, tokenizer, statistics"
      ]
    },
    {
      "cell_type": "code",
      "execution_count": 33,
      "metadata": {
        "id": "zJHqzQPD8K6Q"
      },
      "outputs": [],
      "source": [
        "def evaluate(model, criterion, data_loader):\n",
        "  device = torch.device('cuda') if torch.cuda.is_available() else torch.device('cpu')\n",
        "  model.eval()\n",
        "  model.to(device)\n",
        "  average_loss = []\n",
        "  predictions = []\n",
        "  first = True\n",
        "  loop = tqdm(data_loader)\n",
        "  with torch.no_grad():\n",
        "    for batch in loop:\n",
        "      target_emo = batch['labels_emo'].to(device)\n",
        "      target_tri = batch['labels_tri'].to(device)\n",
        "      prediction_emo, prediction_tri = model(batch['input_ids'].to(device), attention_mask = batch[\"attention_mask\"].to(device))\n",
        "      predictions.append((prediction_emo, prediction_tri))\n",
        "      loss_emo = criterion(prediction_emo,target_emo)\n",
        "      loss_tri = criterion(prediction_tri,target_tri)\n",
        "      loss = loss_emo + loss_tri\n",
        "      average_loss.append(loss.item())\n",
        "\n",
        "  loss = np.mean(average_loss)\n",
        "  print(f\"\\naverage loss on val set: {loss}\")\n",
        "\n",
        "  return predictions"
      ]
    },
    {
      "cell_type": "markdown",
      "metadata": {
        "id": "nqifN2aAygA0"
      },
      "source": [
        "###Encoding"
      ]
    },
    {
      "cell_type": "code",
      "execution_count": 34,
      "metadata": {
        "id": "CKi5YO3ZqDlH"
      },
      "outputs": [],
      "source": [
        "def encode(tokenizer, df, labels_emo, labels_tri):\n",
        "    #premise , stance, conclusion  --> premise, stance + conclusion\n",
        "    #append the stance to the conclusion by putting a separator between them\n",
        "  encodings = tokenizer(list(df['utterance']),\n",
        "                        list(df['history']),\n",
        "                          padding=True,\n",
        "                          truncation=True,\n",
        "                          max_length = 300,\n",
        "                          )\n",
        "  input_ids, input_attention_mask = encodings['input_ids'], encodings['attention_mask']\n",
        "  print(f\"input shape: {np.shape(input_ids)}\")\n",
        "  encodings.update({'labels_emo' : torch.LongTensor(labels_emo.values)})\n",
        "  labels_tri = np.expand_dims(labels_tri.values, axis=1)\n",
        "  encodings.update({'labels_tri' : torch.FloatTensor(labels_tri)})\n",
        "  encodings.pop('token_type_ids')\n",
        "  return encodings"
      ]
    },
    {
      "cell_type": "code",
      "execution_count": 35,
      "metadata": {
        "id": "PFalynGpbzpJ"
      },
      "outputs": [],
      "source": [
        "#model_checkpoint= 'prajjwal1/bert-tiny'\n",
        "#model_checkpoint = \"distilbert-base-uncased\"\n",
        "model_checkpoint = 'bert-base-uncased'\n",
        "#device = torch.device('cuda') if torch.cuda.is_available() else torch.device('cpu')\n",
        "\n",
        "#eos_token  = tokenizer.cls_token_id\n",
        "#sep_token  = tokenizer.sep_token_id"
      ]
    },
    {
      "cell_type": "markdown",
      "metadata": {
        "id": "nRcHZEv1xX_c"
      },
      "source": [
        "##Model training"
      ]
    },
    {
      "cell_type": "code",
      "execution_count": 36,
      "metadata": {
        "id": "mbmP9h2lCEC_"
      },
      "outputs": [],
      "source": [
        "#parameters\n",
        "lr = 5e-5\n",
        "batch_size = 16\n",
        "epochs = 8\n",
        "criterion = [torch.nn.CrossEntropyLoss(), torch.nn.BCELoss()]"
      ]
    },
    {
      "cell_type": "markdown",
      "metadata": {
        "id": "uqEbJB4RJore"
      },
      "source": [
        "if you want to pass to the model the whole training set, change the code below"
      ]
    },
    {
      "cell_type": "code",
      "execution_count": 37,
      "metadata": {
        "id": "zVNJ1xmREcDw"
      },
      "outputs": [],
      "source": [
        "FAST_AND_SMALL = False\n",
        "\n",
        "num_labels_emo = len(df_train['labemo'].unique())\n",
        "num_labels_tri = len(df_train['trigger'].unique())\n",
        "\n",
        "if FAST_AND_SMALL:\n",
        "    df_train = df_train[:2000]\n",
        "    df_val = df_val[:1000]\n",
        "\n",
        "df_train_labels_emo = df_train['labemo']\n",
        "df_train_labels_tri = df_train['trigger']\n",
        "df_val_labels_emo = df_val['labemo']\n",
        "df_val_labels_tri = df_val['trigger']"
      ]
    },
    {
      "cell_type": "markdown",
      "metadata": {
        "id": "dNQaaj-3iGtS"
      },
      "source": [
        "## Execution - Fully fine-tuned Bert model"
      ]
    },
    {
      "cell_type": "code",
      "execution_count": 38,
      "metadata": {
        "colab": {
          "base_uri": "https://localhost:8080/"
        },
        "id": "xBV8UxfqrIzl",
        "outputId": "7d720120-a833-4370-ce2c-d7c8bee035e6"
      },
      "outputs": [
        {
          "output_type": "stream",
          "name": "stderr",
          "text": [
            "/usr/local/lib/python3.10/dist-packages/huggingface_hub/utils/_token.py:72: UserWarning: \n",
            "The secret `HF_TOKEN` does not exist in your Colab secrets.\n",
            "To authenticate with the Hugging Face Hub, create a token in your settings tab (https://huggingface.co/settings/tokens), set it as secret in your Google Colab and restart your session.\n",
            "You will be able to reuse this secret in all of your notebooks.\n",
            "Please note that authentication is recommended but still optional to access public models or datasets.\n",
            "  warnings.warn(\n"
          ]
        },
        {
          "output_type": "stream",
          "name": "stdout",
          "text": [
            "input shape: (2000, 86)\n",
            "input shape: (1000, 86)\n",
            "ENCODING COMPLETE.\n",
            "STARTING TRAINING with complete data:\n"
          ]
        },
        {
          "output_type": "stream",
          "name": "stderr",
          "text": [
            "\r  0%|          | 0/125 [00:00<?, ?it/s]<ipython-input-27-4004cf27e00a>:6: UserWarning: To copy construct from a tensor, it is recommended to use sourceTensor.clone().detach() or sourceTensor.clone().detach().requires_grad_(True), rather than torch.tensor(sourceTensor).\n",
            "  return {key: torch.tensor(val[idx]) for key, val in self.encodings.items()}\n",
            "Epoch 1: 100%|██████████| 125/125 [00:32<00:00,  3.89it/s, loss=0.704]\n"
          ]
        },
        {
          "output_type": "stream",
          "name": "stdout",
          "text": [
            "Epoch: 1  Lr: 0.00005000  Loss: Train = [1.4673] - Val = [1.7609]  Time one epoch (s): 36.9234 \n"
          ]
        },
        {
          "output_type": "stream",
          "name": "stderr",
          "text": [
            "Epoch 2: 100%|██████████| 125/125 [00:30<00:00,  4.10it/s, loss=0.459]\n"
          ]
        },
        {
          "output_type": "stream",
          "name": "stdout",
          "text": [
            "Epoch: 2  Lr: 0.00005000  Loss: Train = [0.6097] - Val = [1.8304]  Time one epoch (s): 35.4860 \n"
          ]
        },
        {
          "output_type": "stream",
          "name": "stderr",
          "text": [
            "Epoch 3: 100%|██████████| 125/125 [00:31<00:00,  3.98it/s, loss=0.247]\n"
          ]
        },
        {
          "output_type": "stream",
          "name": "stdout",
          "text": [
            "Epoch: 3  Lr: 0.00005000  Loss: Train = [0.4463] - Val = [1.9998]  Time one epoch (s): 36.4545 \n",
            "Early Stopping. Best epoch: 1\n",
            "Time for 8 epochs (s): 117.360\n",
            "TRAINING COMPLETE.\n"
          ]
        }
      ],
      "source": [
        "#execute\n",
        "model_full, tokenizer_full, statistics_full = execute(lr, epochs, batch_size, criterion, num_labels_emo, num_labels_tri, df_train, df_train_labels_emo, df_train_labels_tri, df_val, df_val_labels_emo, df_val_labels_tri, model_name=model_checkpoint)"
      ]
    },
    {
      "cell_type": "markdown",
      "metadata": {
        "id": "d22-n6vcEIN7"
      },
      "source": [
        "### Evaluation"
      ]
    },
    {
      "cell_type": "code",
      "execution_count": 39,
      "metadata": {
        "id": "VbckJJkjEUZp"
      },
      "outputs": [],
      "source": [
        "#df_test_small = df_test\n",
        "df_test_labels_emo = df_test['labemo']\n",
        "df_test_labels_tri = df_test['trigger']"
      ]
    },
    {
      "cell_type": "code",
      "execution_count": 40,
      "metadata": {
        "colab": {
          "base_uri": "https://localhost:8080/"
        },
        "id": "HuLUh8TDEMg-",
        "outputId": "87f3f4d5-fd55-4213-ff0b-0aca228f69a9"
      },
      "outputs": [
        {
          "output_type": "stream",
          "name": "stdout",
          "text": [
            "input shape: (3612, 101)\n"
          ]
        }
      ],
      "source": [
        "test_encodings = encode(tokenizer_full, df_test, df_test_labels_emo, df_test_labels_tri)\n",
        "#create training dataset\n",
        "test_dataset = CreateDataset(test_encodings)\n",
        "#create training dataloader\n",
        "test_dataloader = torch.utils.data.DataLoader(test_dataset,\n",
        "                                        batch_size=batch_size,\n",
        "                                        shuffle = False\n",
        "                                        )"
      ]
    },
    {
      "cell_type": "code",
      "execution_count": 41,
      "metadata": {
        "colab": {
          "base_uri": "https://localhost:8080/"
        },
        "id": "nsr2-99SKHor",
        "outputId": "c3323552-3c49-43a9-fc1d-8dccc525810f"
      },
      "outputs": [
        {
          "output_type": "stream",
          "name": "stderr",
          "text": [
            "0it [00:00, ?it/s]<ipython-input-27-4004cf27e00a>:6: UserWarning: To copy construct from a tensor, it is recommended to use sourceTensor.clone().detach() or sourceTensor.clone().detach().requires_grad_(True), rather than torch.tensor(sourceTensor).\n",
            "  return {key: torch.tensor(val[idx]) for key, val in self.encodings.items()}\n",
            "226it [00:19, 11.84it/s]\n"
          ]
        }
      ],
      "source": [
        "model_full.eval()\n",
        "device = torch.device('cuda') if torch.cuda.is_available() else torch.device('cpu')\n",
        "model_full.to(device)\n",
        "test_pred_emo_full = []\n",
        "test_pred_tri_full = []\n",
        "test_pred_tri_full_original = []\n",
        "trigger_th = 0.3\n",
        "with torch.no_grad():\n",
        "    for step_num, batch in tqdm(enumerate(test_dataloader)):\n",
        "        input_ids = batch['input_ids'].to(device)\n",
        "        attention_mask = batch['attention_mask'].to(device)\n",
        "        labels_emo = batch['labels_emo'].to(device)\n",
        "        labels_tri = batch['labels_tri'].to(device)\n",
        "        output = model_full(input_ids, attention_mask=attention_mask,\n",
        "                        )\n",
        "        p_emo, p_tri = output\n",
        "        p_emo = p_emo.cpu().detach().numpy()\n",
        "        p_tri = p_tri.cpu().detach().numpy().reshape(-1)\n",
        "        p_tri_filtered = np.where(p_tri > trigger_th, 1, 0)\n",
        "        test_pred_emo_full.append(np.argmax(p_emo,axis=-1))\n",
        "        test_pred_tri_full.append(p_tri_filtered)\n",
        "        test_pred_tri_full_original.append(p_tri)\n",
        "test_pred_emo_full = np.concatenate(test_pred_emo_full)\n",
        "test_pred_tri_full = np.concatenate(test_pred_tri_full)\n",
        "test_pred_tri_full_original = np.concatenate(test_pred_tri_full_original)\n",
        "test_pred_tri_full = test_pred_tri_full.astype(float)"
      ]
    },
    {
      "cell_type": "code",
      "source": [
        "export_onnx = False\n",
        "\n",
        "# export ONNX file for Model Visualization in Netron.\n",
        "if export_onnx:\n",
        "  batch = next(iter(test_dataloader))\n",
        "  input_ids = batch['input_ids'].to(device)\n",
        "  attention_mask = batch['attention_mask'].to(device)\n",
        "  input = dict({'input_ids':input_ids, 'attention_mask':attention_mask})\n",
        "  torch.onnx.export(model_full, (input_ids, attention_mask), 'model_full.onnx', input_names=['input_ids','attention_mask'], output_names=['emotion_logits','trigger_logits'])"
      ],
      "metadata": {
        "id": "JJJ2OoX3spoV"
      },
      "execution_count": 42,
      "outputs": []
    },
    {
      "cell_type": "code",
      "execution_count": 43,
      "metadata": {
        "colab": {
          "base_uri": "https://localhost:8080/",
          "height": 466
        },
        "id": "P5u88L2mmHp0",
        "outputId": "4cb023a2-2fde-4137-a874-98637ec7e052"
      },
      "outputs": [
        {
          "output_type": "execute_result",
          "data": {
            "text/plain": [
              "<sklearn.metrics._plot.roc_curve.RocCurveDisplay at 0x7fca66b01ae0>"
            ]
          },
          "metadata": {},
          "execution_count": 43
        },
        {
          "output_type": "display_data",
          "data": {
            "text/plain": [
              "<Figure size 640x480 with 1 Axes>"
            ],
            "image/png": "[encoded data removed]"
          },
          "metadata": {}
        }
      ],
      "source": [
        "from sklearn.metrics import roc_curve, auc, RocCurveDisplay\n",
        "\n",
        "fpr, tpr, thresholds  = roc_curve(df_test['trigger'].astype(int), test_pred_tri_full_original)\n",
        "roc_auc = auc(fpr, tpr)\n",
        "display = RocCurveDisplay(fpr=fpr, tpr=tpr, roc_auc=roc_auc,\n",
        "                                   estimator_name='example estimator')\n",
        "display.plot()"
      ]
    },
    {
      "cell_type": "code",
      "execution_count": 44,
      "metadata": {
        "colab": {
          "base_uri": "https://localhost:8080/"
        },
        "id": "vqRpj5nssqfZ",
        "outputId": "f1632477-c04c-47ad-fb36-8a7240b025a0"
      },
      "outputs": [
        {
          "output_type": "stream",
          "name": "stdout",
          "text": [
            "The optimal threshold: 0.08396438509225845\n"
          ]
        }
      ],
      "source": [
        "optimal_idx = np.argmax(tpr - fpr)\n",
        "optimal_threshold = thresholds[optimal_idx]\n",
        "print(f'The optimal threshold: {optimal_threshold}')"
      ]
    },
    {
      "cell_type": "code",
      "execution_count": 45,
      "metadata": {
        "colab": {
          "base_uri": "https://localhost:8080/"
        },
        "id": "GNqaWoIftKMU",
        "outputId": "e439e83a-95dd-48b2-da0d-fa62a268df9e"
      },
      "outputs": [
        {
          "output_type": "stream",
          "name": "stdout",
          "text": [
            "[4 4 3 5 4 4 3 5 6 4 4 4 4 4 3 5 6 4 4 4 4 4 6 6 6 4 4 4 6 6 3 6 4 4 4 4 4\n",
            " 3 3 3 5 3 6 3 4 3 6 3 4 4 0 3 4 6 0 3 6 3 4 4 0 3 4 6 0 0 0 4 4 4 4 4 4 4\n",
            " 3 6 3 1 6 1 4 2 4 6 6 3 1 6 1 4 2 4 6 2 4 4 4 6 4 4]\n",
            "[0. 0. 0. 0. 0. 0. 0. 0. 0. 0. 0. 0. 0. 0. 0. 0. 0. 0. 0. 0. 0. 0. 0. 0.\n",
            " 0. 0. 0. 0. 1. 0. 0. 0. 0. 0. 0. 0. 0. 0. 0. 0. 0. 0. 0. 0. 0. 0. 0. 0.\n",
            " 0. 0. 0. 0. 0. 0. 0. 0. 0. 0. 0. 0. 0. 0. 0. 0. 0. 0. 0. 0. 0. 0. 0. 0.\n",
            " 0. 0. 0. 0. 0. 0. 0. 0. 0. 1. 0. 0. 0. 0. 0. 0. 0. 0. 1. 0. 0. 0. 0. 0.\n",
            " 0. 0. 0. 0.]\n"
          ]
        }
      ],
      "source": [
        "print(test_pred_emo_full[:100])\n",
        "print(test_pred_tri_full[:100])"
      ]
    },
    {
      "cell_type": "code",
      "execution_count": 46,
      "metadata": {
        "id": "QCXJmhgYsmCs"
      },
      "outputs": [],
      "source": [
        "# free memory by deleting the model's reference\n",
        "del model_full\n",
        "gc.collect()\n",
        "torch.cuda.empty_cache()"
      ]
    },
    {
      "cell_type": "markdown",
      "metadata": {
        "id": "pi0bXaDmiGtS"
      },
      "source": [
        "## Execution - Freezed Bert's Embedding Layers"
      ]
    },
    {
      "cell_type": "code",
      "execution_count": 47,
      "metadata": {
        "colab": {
          "base_uri": "https://localhost:8080/"
        },
        "id": "AAfEX-yXiGtT",
        "outputId": "656120ef-7d63-4df0-a9c1-0c4f538f18da"
      },
      "outputs": [
        {
          "output_type": "stream",
          "name": "stderr",
          "text": [
            "/usr/local/lib/python3.10/dist-packages/huggingface_hub/utils/_token.py:72: UserWarning: \n",
            "The secret `HF_TOKEN` does not exist in your Colab secrets.\n",
            "To authenticate with the Hugging Face Hub, create a token in your settings tab (https://huggingface.co/settings/tokens), set it as secret in your Google Colab and restart your session.\n",
            "You will be able to reuse this secret in all of your notebooks.\n",
            "Please note that authentication is recommended but still optional to access public models or datasets.\n",
            "  warnings.warn(\n"
          ]
        },
        {
          "output_type": "stream",
          "name": "stdout",
          "text": [
            "input shape: (2000, 86)\n",
            "input shape: (1000, 86)\n",
            "ENCODING COMPLETE.\n",
            "STARTING TRAINING with complete data:\n"
          ]
        },
        {
          "output_type": "stream",
          "name": "stderr",
          "text": [
            "  0%|          | 0/125 [00:00<?, ?it/s]<ipython-input-27-4004cf27e00a>:6: UserWarning: To copy construct from a tensor, it is recommended to use sourceTensor.clone().detach() or sourceTensor.clone().detach().requires_grad_(True), rather than torch.tensor(sourceTensor).\n",
            "  return {key: torch.tensor(val[idx]) for key, val in self.encodings.items()}\n",
            "Epoch 1: 100%|██████████| 125/125 [00:29<00:00,  4.17it/s, loss=1.5]\n"
          ]
        },
        {
          "output_type": "stream",
          "name": "stdout",
          "text": [
            "Epoch: 1  Lr: 0.00005000  Loss: Train = [1.5456] - Val = [1.7079]  Time one epoch (s): 35.1048 \n"
          ]
        },
        {
          "output_type": "stream",
          "name": "stderr",
          "text": [
            "Epoch 2: 100%|██████████| 125/125 [00:30<00:00,  4.09it/s, loss=0.457]\n"
          ]
        },
        {
          "output_type": "stream",
          "name": "stdout",
          "text": [
            "Epoch: 2  Lr: 0.00005000  Loss: Train = [0.6794] - Val = [1.9102]  Time one epoch (s): 35.5611 \n"
          ]
        },
        {
          "output_type": "stream",
          "name": "stderr",
          "text": [
            "Epoch 3: 100%|██████████| 125/125 [00:29<00:00,  4.22it/s, loss=0.51]\n"
          ]
        },
        {
          "output_type": "stream",
          "name": "stdout",
          "text": [
            "Epoch: 3  Lr: 0.00005000  Loss: Train = [0.4658] - Val = [2.0683]  Time one epoch (s): 34.6748 \n",
            "Early Stopping. Best epoch: 1\n",
            "Time for 8 epochs (s): 109.208\n",
            "TRAINING COMPLETE.\n"
          ]
        }
      ],
      "source": [
        "#execute\n",
        "model_freezed, tokenizer_freezed, statistics_freezed = execute(lr, epochs, batch_size, criterion, num_labels_emo, num_labels_tri, df_train, df_train_labels_emo, df_train_labels_tri, df_val, df_val_labels_emo, df_val_labels_tri, model_name=model_checkpoint, freeze_embeddings=True)"
      ]
    },
    {
      "cell_type": "markdown",
      "metadata": {
        "id": "H2gphwhziGtT"
      },
      "source": [
        "### Evaluation"
      ]
    },
    {
      "cell_type": "code",
      "execution_count": 48,
      "metadata": {
        "id": "t85HeyyaiGtT",
        "outputId": "217f645e-20d3-4688-d59e-06b858c02eb4",
        "colab": {
          "base_uri": "https://localhost:8080/"
        }
      },
      "outputs": [
        {
          "output_type": "stream",
          "name": "stderr",
          "text": [
            "0it [00:00, ?it/s]<ipython-input-27-4004cf27e00a>:6: UserWarning: To copy construct from a tensor, it is recommended to use sourceTensor.clone().detach() or sourceTensor.clone().detach().requires_grad_(True), rather than torch.tensor(sourceTensor).\n",
            "  return {key: torch.tensor(val[idx]) for key, val in self.encodings.items()}\n",
            "226it [00:19, 11.77it/s]\n"
          ]
        }
      ],
      "source": [
        "model_freezed.eval()\n",
        "device = torch.device('cuda') if torch.cuda.is_available() else torch.device('cpu')\n",
        "model_freezed.to(device)\n",
        "test_pred_emo_freezed = []\n",
        "test_pred_tri_freezed = []\n",
        "test_pred_tri_freezed_original = []\n",
        "with torch.no_grad():\n",
        "    for step_num, batch in tqdm(enumerate(test_dataloader)):\n",
        "        input_ids = batch['input_ids'].to(device)\n",
        "        attention_mask = batch['attention_mask'].to(device)\n",
        "        labels_emo = batch['labels_emo'].to(device)\n",
        "        labels_tri = batch['labels_tri'].to(device)\n",
        "        output = model_freezed(input_ids, attention_mask=attention_mask,\n",
        "                        )\n",
        "        p_emo, p_tri = output\n",
        "        p_emo = p_emo.cpu().detach().numpy()\n",
        "        p_tri = p_tri.cpu().detach().numpy().reshape(-1)\n",
        "        p_tri_filtered = np.where(p_tri > trigger_th, 1, 0)\n",
        "        test_pred_emo_freezed.append(np.argmax(p_emo,axis=-1))\n",
        "        test_pred_tri_freezed.append(p_tri_filtered)\n",
        "        test_pred_tri_freezed_original.append(p_tri)\n",
        "test_pred_emo_freezed = np.concatenate(test_pred_emo_freezed)\n",
        "test_pred_tri_freezed = np.concatenate(test_pred_tri_freezed)\n",
        "test_pred_tri_freezed_original = np.concatenate(test_pred_tri_freezed_original)\n",
        "test_pred_tri_freezed = test_pred_tri_freezed.astype(float)"
      ]
    },
    {
      "cell_type": "code",
      "execution_count": 49,
      "metadata": {
        "id": "3XbassmDspwI"
      },
      "outputs": [],
      "source": [
        "# free memory by deleting the model's reference\n",
        "del model_freezed\n",
        "gc.collect()\n",
        "torch.cuda.empty_cache()"
      ]
    },
    {
      "cell_type": "markdown",
      "metadata": {
        "id": "uPVCeY7HQa_T"
      },
      "source": [
        "## Reports\n",
        "Evaluate the models by using the Sequence F1 and the Unrolled Sequence F1 scores."
      ]
    },
    {
      "cell_type": "code",
      "execution_count": 50,
      "metadata": {
        "id": "0qRi-CTVyhGD"
      },
      "outputs": [],
      "source": [
        "from sklearn.metrics import f1_score\n",
        "\n",
        "def sequence_f1(data: pd.DataFrame):\n",
        "  '''input data has columns: episode, utterance, emotion, trigger, labemo, labtri, predicted_emo, predicted_tri\n",
        "      ground truth:   labemo, labtri\n",
        "      predicted:      predicted_emo, predicted_tri\n",
        "\n",
        "      we calculate the F1 scores dialog-wise, and then return the average'''\n",
        "\n",
        "  scores_emo = []\n",
        "  scores_tri = []\n",
        "\n",
        "  for ep in data['episode'].unique():\n",
        "    ep_data = data[data['episode'] == ep]\n",
        "\n",
        "    y_true = ep_data['labemo']\n",
        "    y_pred = ep_data['predicted_emo']\n",
        "    # TODO: I don't like -> data['labemo'].unique() => we should change it\n",
        "    scores_emo.append(f1_score(y_true, y_pred, labels=data['labemo'].unique(), average='micro'))\n",
        "\n",
        "    y_true = ep_data['trigger']\n",
        "    y_pred = ep_data['predicted_tri']\n",
        "    # TODO: I don't like -> data['labemo'].unique() => we should change it\n",
        "    scores_tri.append(f1_score(y_true, y_pred, labels=data['trigger'].unique(), average='micro'))\n",
        "  return np.mean(scores_emo), np.mean(scores_tri)\n",
        "\n",
        "def unrolled_f1(data: pd.DataFrame):\n",
        "  '''input data has columns: episode, utterance, emotion, trigger, labemo, labtri, predicted_emo, predicted_tri\n",
        "      ground truth:   labemo, labtri\n",
        "      predicted:      predicted_emo, predicted_tri\n",
        "\n",
        "      we calculate the F1 scores on the whole dataset'''\n",
        "  y_true = data['labemo']\n",
        "  y_pred = data['predicted_emo']\n",
        "  # TODO: I don't like -> data['labemo'].unique() => we should change it\n",
        "  # TODO: Is it ok if we do 'macro' average?\n",
        "  f1_emotion = f1_score(y_true, y_pred, labels=data['labemo'].unique(), average='micro')\n",
        "\n",
        "  y_true = data['trigger']\n",
        "  y_pred = data['predicted_tri']\n",
        "  # TODO: I don't like -> data['labemo'].unique() => we should change it\n",
        "  # TODO: Is it ok if we do 'macro' average?\n",
        "  f1_trigger = f1_score(y_true, y_pred, labels=data['trigger'].unique(), average='micro')\n",
        "  return f1_emotion, f1_trigger\n",
        "\n",
        "def complete_f1_report(data: pd.DataFrame, model_str: str):\n",
        "  print(\"F1 score report - {}\".format(model_str))\n",
        "  print()\n",
        "  print(\"Average Sequence F1 score\")\n",
        "  s_e, s_t = sequence_f1(data)\n",
        "  print(\"- - Emotion average F1 Score:\\t{}\".format(s_e))\n",
        "  print(\"- - Triggers average F1 Score:\\t{}\".format(s_t))\n",
        "  us_e, us_t = unrolled_f1(data)\n",
        "  print()\n",
        "  print(\"Unrolled Sequence F1 score\")\n",
        "  print(\"- - Emotion average F1 Score:\\t{}\".format(us_e))\n",
        "  print(\"- - Triggers average F1 Score:\\t{}\".format(us_t))\n",
        "  scores = {'s_e' : s_e,\n",
        "            's_t' : s_t,\n",
        "            'us_e' : us_e,\n",
        "            'us_t' : us_t }\n",
        "  return scores"
      ]
    },
    {
      "cell_type": "code",
      "execution_count": 51,
      "metadata": {
        "colab": {
          "base_uri": "https://localhost:8080/"
        },
        "id": "Pq-ki00p9MhJ",
        "outputId": "531df605-f844-4134-aa8c-09be9286c561"
      },
      "outputs": [
        {
          "output_type": "execute_result",
          "data": {
            "text/plain": [
              "{'neutral': 864,\n",
              " 'surprise': 274,\n",
              " 'fear': 84,\n",
              " 'sadness': 110,\n",
              " 'joy': 380,\n",
              " 'disgust': 58,\n",
              " 'anger': 230}"
            ]
          },
          "metadata": {},
          "execution_count": 51
        }
      ],
      "source": [
        "def update_count_dictionary(key:str, d_em:dict):\n",
        "    ''' Given in input a dictionary and a string key, it counts the times\n",
        "        that key has been added.'''\n",
        "    if key in d_em.keys():\n",
        "        d_em[key] += 1\n",
        "    else:\n",
        "        d_em[key] = 1\n",
        "\n",
        "raw_emotions_dict = dict()\n",
        "[update_count_dictionary(emotion, raw_emotions_dict) for emotion in df_train['emotion']]\n",
        "raw_emotions_dict"
      ]
    },
    {
      "cell_type": "code",
      "execution_count": 52,
      "metadata": {
        "colab": {
          "base_uri": "https://localhost:8080/"
        },
        "id": "vPMhLf3BzJ7c",
        "outputId": "1c19c515-bae2-4293-dd06-272e7f52a058"
      },
      "outputs": [
        {
          "output_type": "execute_result",
          "data": {
            "text/plain": [
              "{4: 864, 6: 274, 2: 84, 5: 110, 3: 380, 1: 58, 0: 230}"
            ]
          },
          "metadata": {},
          "execution_count": 52
        }
      ],
      "source": [
        "emotions_dict = dict()\n",
        "[update_count_dictionary(emotion, emotions_dict) for emotion in df_train['labemo']]\n",
        "emotions_dict"
      ]
    },
    {
      "cell_type": "markdown",
      "metadata": {
        "id": "AVJIVHCHRET5"
      },
      "source": [
        "### Baseline: Random Classifier"
      ]
    },
    {
      "cell_type": "code",
      "execution_count": 53,
      "metadata": {
        "colab": {
          "base_uri": "https://localhost:8080/"
        },
        "id": "hSXtmUZQRF15",
        "outputId": "fda1db92-ea95-45cf-9e3e-8fb0cdf22cbb"
      },
      "outputs": [
        {
          "output_type": "stream",
          "name": "stdout",
          "text": [
            "A test for the dumb random classifier:\n",
            "\t\tinput: Oh God! I'm dumb..\n",
            "\t\toutput: emotion:[0], trigger:[True]\n"
          ]
        }
      ],
      "source": [
        "class Random_Classifier():\n",
        "    '''It is trained on a dataset using the emotion and trigger columns.\n",
        "        It's output on the forward method will be always a random emotion\n",
        "        and trigger.'''\n",
        "\n",
        "    def __init__(self):\n",
        "        self.emotions = []\n",
        "        self.triggers = []\n",
        "\n",
        "    def train(self, dataset:pd.DataFrame):\n",
        "        '''Input a dataset with the emotion and trigger columns.'''\n",
        "\n",
        "        emotions = dict()\n",
        "        triggers = dict()\n",
        "\n",
        "        for em, tr in dataset[['labemo','trigger']].values:\n",
        "            update_count_dictionary(em, emotions)\n",
        "            update_count_dictionary(tr, triggers)\n",
        "\n",
        "        self.emotions = [d for d in emotions.keys()]\n",
        "        self.triggers = [d for d in triggers.keys()]\n",
        "        self.n_em = len(self.emotions)\n",
        "        self.n_tr = len(self.triggers)\n",
        "\n",
        "\n",
        "    def forward(self, dataset: pd.DataFrame):\n",
        "        '''The input is ignored. This method can be modified. It is intended to\n",
        "            mimic the forward method of an ML model such that it usable in the same way.'''\n",
        "        return [np.random.choice(self.emotions) for row in range(dataset.shape[0])], [np.random.choice(self.triggers) for row in range(dataset.shape[0])]\n",
        "\n",
        "\n",
        "dumb_random = Random_Classifier()\n",
        "dumb_random.train(df_train)\n",
        "\n",
        "print(\"A test for the dumb random classifier:\")\n",
        "print(\"\\t\\tinput: Oh God! I'm dumb..\")\n",
        "\n",
        "e, t = dumb_random.forward(pd.DataFrame([\"Oh God! I'm dumb..\"]))\n",
        "print(\"\\t\\toutput: emotion:{}, trigger:{}\".format(e,t))"
      ]
    },
    {
      "cell_type": "code",
      "execution_count": 54,
      "metadata": {
        "colab": {
          "base_uri": "https://localhost:8080/",
          "height": 414
        },
        "id": "ZMluMXC5568B",
        "outputId": "2e17744d-c5a8-4137-c8f5-31e9a62ef358"
      },
      "outputs": [
        {
          "output_type": "stream",
          "name": "stderr",
          "text": [
            "<ipython-input-54-ee1b1f393093>:4: SettingWithCopyWarning: \n",
            "A value is trying to be set on a copy of a slice from a DataFrame.\n",
            "Try using .loc[row_indexer,col_indexer] = value instead\n",
            "\n",
            "See the caveats in the documentation: https://pandas.pydata.org/pandas-docs/stable/user_guide/indexing.html#returning-a-view-versus-a-copy\n",
            "  df_test.loc[:,('predicted_emo')] = e\n",
            "<ipython-input-54-ee1b1f393093>:5: SettingWithCopyWarning: \n",
            "A value is trying to be set on a copy of a slice from a DataFrame.\n",
            "Try using .loc[row_indexer,col_indexer] = value instead\n",
            "\n",
            "See the caveats in the documentation: https://pandas.pydata.org/pandas-docs/stable/user_guide/indexing.html#returning-a-view-versus-a-copy\n",
            "  df_test.loc[:,('predicted_tri')] = t\n"
          ]
        },
        {
          "output_type": "execute_result",
          "data": {
            "text/plain": [
              "         episode                                          utterance  \\\n",
              "55   utterance_8                                          Hey, Mon.   \n",
              "56   utterance_8  Hey-hey-hey. You wanna hear something that sucks.   \n",
              "57   utterance_8                                         Do I ever.   \n",
              "58   utterance_8           Chris says they're closing down the bar.   \n",
              "77  utterance_12                                          Hey, Mon.   \n",
              "\n",
              "                                              history  emotion  trigger  \\\n",
              "55                                                     neutral    False   \n",
              "56                                          Hey, Mon.  neutral    False   \n",
              "57  Hey, Mon. Hey-hey-hey. You wanna hear somethin...      joy    False   \n",
              "58  Hey-hey-hey. You wanna hear something that suc...  sadness     True   \n",
              "77                                                     neutral    False   \n",
              "\n",
              "    labemo  predicted_emo  predicted_tri  \n",
              "55       4              3           True  \n",
              "56       4              0          False  \n",
              "57       3              2           True  \n",
              "58       5              3           True  \n",
              "77       4              3           True  "
            ],
            "text/html": [
              "\n",
              "  <div id=\"df-531aed50-f7e2-4691-8370-52cd3eba8677\" class=\"colab-df-container\">\n",
              "    <div>\n",
              "<style scoped>\n",
              "    .dataframe tbody tr th:only-of-type {\n",
              "        vertical-align: middle;\n",
              "    }\n",
              "\n",
              "    .dataframe tbody tr th {\n",
              "        vertical-align: top;\n",
              "    }\n",
              "\n",
              "    .dataframe thead th {\n",
              "        text-align: right;\n",
              "    }\n",
              "</style>\n",
              "<table border=\"1\" class=\"dataframe\">\n",
              "  <thead>\n",
              "    <tr style=\"text-align: right;\">\n",
              "      <th></th>\n",
              "      <th>episode</th>\n",
              "      <th>utterance</th>\n",
              "      <th>history</th>\n",
              "      <th>emotion</th>\n",
              "      <th>trigger</th>\n",
              "      <th>labemo</th>\n",
              "      <th>predicted_emo</th>\n",
              "      <th>predicted_tri</th>\n",
              "    </tr>\n",
              "  </thead>\n",
              "  <tbody>\n",
              "    <tr>\n",
              "      <th>55</th>\n",
              "      <td>utterance_8</td>\n",
              "      <td>Hey, Mon.</td>\n",
              "      <td></td>\n",
              "      <td>neutral</td>\n",
              "      <td>False</td>\n",
              "      <td>4</td>\n",
              "      <td>3</td>\n",
              "      <td>True</td>\n",
              "    </tr>\n",
              "    <tr>\n",
              "      <th>56</th>\n",
              "      <td>utterance_8</td>\n",
              "      <td>Hey-hey-hey. You wanna hear something that sucks.</td>\n",
              "      <td>Hey, Mon.</td>\n",
              "      <td>neutral</td>\n",
              "      <td>False</td>\n",
              "      <td>4</td>\n",
              "      <td>0</td>\n",
              "      <td>False</td>\n",
              "    </tr>\n",
              "    <tr>\n",
              "      <th>57</th>\n",
              "      <td>utterance_8</td>\n",
              "      <td>Do I ever.</td>\n",
              "      <td>Hey, Mon. Hey-hey-hey. You wanna hear somethin...</td>\n",
              "      <td>joy</td>\n",
              "      <td>False</td>\n",
              "      <td>3</td>\n",
              "      <td>2</td>\n",
              "      <td>True</td>\n",
              "    </tr>\n",
              "    <tr>\n",
              "      <th>58</th>\n",
              "      <td>utterance_8</td>\n",
              "      <td>Chris says they're closing down the bar.</td>\n",
              "      <td>Hey-hey-hey. You wanna hear something that suc...</td>\n",
              "      <td>sadness</td>\n",
              "      <td>True</td>\n",
              "      <td>5</td>\n",
              "      <td>3</td>\n",
              "      <td>True</td>\n",
              "    </tr>\n",
              "    <tr>\n",
              "      <th>77</th>\n",
              "      <td>utterance_12</td>\n",
              "      <td>Hey, Mon.</td>\n",
              "      <td></td>\n",
              "      <td>neutral</td>\n",
              "      <td>False</td>\n",
              "      <td>4</td>\n",
              "      <td>3</td>\n",
              "      <td>True</td>\n",
              "    </tr>\n",
              "  </tbody>\n",
              "</table>\n",
              "</div>\n",
              "    <div class=\"colab-df-buttons\">\n",
              "\n",
              "  <div class=\"colab-df-container\">\n",
              "    <button class=\"colab-df-convert\" onclick=\"convertToInteractive('df-531aed50-f7e2-4691-8370-52cd3eba8677')\"\n",
              "            title=\"Convert this dataframe to an interactive table.\"\n",
              "            style=\"display:none;\">\n",
              "\n",
              "  <svg xmlns=\"http://www.w3.org/2000/svg\" height=\"24px\" viewBox=\"0 -960 960 960\">\n",
              "    <path d=\"M120-120v-720h720v720H120Zm60-500h600v-160H180v160Zm220 220h160v-160H400v160Zm0 220h160v-160H400v160ZM180-400h160v-160H180v160Zm440 0h160v-160H620v160ZM180-180h160v-160H180v160Zm440 0h160v-160H620v160Z\"/>\n",
              "  </svg>\n",
              "    </button>\n",
              "\n",
              "  <style>\n",
              "    .colab-df-container {\n",
              "      display:flex;\n",
              "      gap: 12px;\n",
              "    }\n",
              "\n",
              "    .colab-df-convert {\n",
              "      background-color: #E8F0FE;\n",
              "      border: none;\n",
              "      border-radius: 50%;\n",
              "      cursor: pointer;\n",
              "      display: none;\n",
              "      fill: #1967D2;\n",
              "      height: 32px;\n",
              "      padding: 0 0 0 0;\n",
              "      width: 32px;\n",
              "    }\n",
              "\n",
              "    .colab-df-convert:hover {\n",
              "      background-color: #E2EBFA;\n",
              "      box-shadow: 0px 1px 2px rgba(60, 64, 67, 0.3), 0px 1px 3px 1px rgba(60, 64, 67, 0.15);\n",
              "      fill: #174EA6;\n",
              "    }\n",
              "\n",
              "    .colab-df-buttons div {\n",
              "      margin-bottom: 4px;\n",
              "    }\n",
              "\n",
              "    [theme=dark] .colab-df-convert {\n",
              "      background-color: #3B4455;\n",
              "      fill: #D2E3FC;\n",
              "    }\n",
              "\n",
              "    [theme=dark] .colab-df-convert:hover {\n",
              "      background-color: #434B5C;\n",
              "      box-shadow: 0px 1px 3px 1px rgba(0, 0, 0, 0.15);\n",
              "      filter: drop-shadow(0px 1px 2px rgba(0, 0, 0, 0.3));\n",
              "      fill: #FFFFFF;\n",
              "    }\n",
              "  </style>\n",
              "\n",
              "    <script>\n",
              "      const buttonEl =\n",
              "        document.querySelector('#df-531aed50-f7e2-4691-8370-52cd3eba8677 button.colab-df-convert');\n",
              "      buttonEl.style.display =\n",
              "        google.colab.kernel.accessAllowed ? 'block' : 'none';\n",
              "\n",
              "      async function convertToInteractive(key) {\n",
              "        const element = document.querySelector('#df-531aed50-f7e2-4691-8370-52cd3eba8677');\n",
              "        const dataTable =\n",
              "          await google.colab.kernel.invokeFunction('convertToInteractive',\n",
              "                                                    [key], {});\n",
              "        if (!dataTable) return;\n",
              "\n",
              "        const docLinkHtml = 'Like what you see? Visit the ' +\n",
              "          '<a target=\"_blank\" href=https://colab.research.google.com/notebooks/data_table.ipynb>data table notebook</a>'\n",
              "          + ' to learn more about interactive tables.';\n",
              "        element.innerHTML = '';\n",
              "        dataTable['output_type'] = 'display_data';\n",
              "        await google.colab.output.renderOutput(dataTable, element);\n",
              "        const docLink = document.createElement('div');\n",
              "        docLink.innerHTML = docLinkHtml;\n",
              "        element.appendChild(docLink);\n",
              "      }\n",
              "    </script>\n",
              "  </div>\n",
              "\n",
              "\n",
              "<div id=\"df-267f5c17-2b92-4799-89de-c02f4e4d12cf\">\n",
              "  <button class=\"colab-df-quickchart\" onclick=\"quickchart('df-267f5c17-2b92-4799-89de-c02f4e4d12cf')\"\n",
              "            title=\"Suggest charts\"\n",
              "            style=\"display:none;\">\n",
              "\n",
              "<svg xmlns=\"http://www.w3.org/2000/svg\" height=\"24px\"viewBox=\"0 0 24 24\"\n",
              "     width=\"24px\">\n",
              "    <g>\n",
              "        <path d=\"M19 3H5c-1.1 0-2 .9-2 2v14c0 1.1.9 2 2 2h14c1.1 0 2-.9 2-2V5c0-1.1-.9-2-2-2zM9 17H7v-7h2v7zm4 0h-2V7h2v10zm4 0h-2v-4h2v4z\"/>\n",
              "    </g>\n",
              "</svg>\n",
              "  </button>\n",
              "\n",
              "<style>\n",
              "  .colab-df-quickchart {\n",
              "      --bg-color: #E8F0FE;\n",
              "      --fill-color: #1967D2;\n",
              "      --hover-bg-color: #E2EBFA;\n",
              "      --hover-fill-color: #174EA6;\n",
              "      --disabled-fill-color: #AAA;\n",
              "      --disabled-bg-color: #DDD;\n",
              "  }\n",
              "\n",
              "  [theme=dark] .colab-df-quickchart {\n",
              "      --bg-color: #3B4455;\n",
              "      --fill-color: #D2E3FC;\n",
              "      --hover-bg-color: #434B5C;\n",
              "      --hover-fill-color: #FFFFFF;\n",
              "      --disabled-bg-color: #3B4455;\n",
              "      --disabled-fill-color: #666;\n",
              "  }\n",
              "\n",
              "  .colab-df-quickchart {\n",
              "    background-color: var(--bg-color);\n",
              "    border: none;\n",
              "    border-radius: 50%;\n",
              "    cursor: pointer;\n",
              "    display: none;\n",
              "    fill: var(--fill-color);\n",
              "    height: 32px;\n",
              "    padding: 0;\n",
              "    width: 32px;\n",
              "  }\n",
              "\n",
              "  .colab-df-quickchart:hover {\n",
              "    background-color: var(--hover-bg-color);\n",
              "    box-shadow: 0 1px 2px rgba(60, 64, 67, 0.3), 0 1px 3px 1px rgba(60, 64, 67, 0.15);\n",
              "    fill: var(--button-hover-fill-color);\n",
              "  }\n",
              "\n",
              "  .colab-df-quickchart-complete:disabled,\n",
              "  .colab-df-quickchart-complete:disabled:hover {\n",
              "    background-color: var(--disabled-bg-color);\n",
              "    fill: var(--disabled-fill-color);\n",
              "    box-shadow: none;\n",
              "  }\n",
              "\n",
              "  .colab-df-spinner {\n",
              "    border: 2px solid var(--fill-color);\n",
              "    border-color: transparent;\n",
              "    border-bottom-color: var(--fill-color);\n",
              "    animation:\n",
              "      spin 1s steps(1) infinite;\n",
              "  }\n",
              "\n",
              "  @keyframes spin {\n",
              "    0% {\n",
              "      border-color: transparent;\n",
              "      border-bottom-color: var(--fill-color);\n",
              "      border-left-color: var(--fill-color);\n",
              "    }\n",
              "    20% {\n",
              "      border-color: transparent;\n",
              "      border-left-color: var(--fill-color);\n",
              "      border-top-color: var(--fill-color);\n",
              "    }\n",
              "    30% {\n",
              "      border-color: transparent;\n",
              "      border-left-color: var(--fill-color);\n",
              "      border-top-color: var(--fill-color);\n",
              "      border-right-color: var(--fill-color);\n",
              "    }\n",
              "    40% {\n",
              "      border-color: transparent;\n",
              "      border-right-color: var(--fill-color);\n",
              "      border-top-color: var(--fill-color);\n",
              "    }\n",
              "    60% {\n",
              "      border-color: transparent;\n",
              "      border-right-color: var(--fill-color);\n",
              "    }\n",
              "    80% {\n",
              "      border-color: transparent;\n",
              "      border-right-color: var(--fill-color);\n",
              "      border-bottom-color: var(--fill-color);\n",
              "    }\n",
              "    90% {\n",
              "      border-color: transparent;\n",
              "      border-bottom-color: var(--fill-color);\n",
              "    }\n",
              "  }\n",
              "</style>\n",
              "\n",
              "  <script>\n",
              "    async function quickchart(key) {\n",
              "      const quickchartButtonEl =\n",
              "        document.querySelector('#' + key + ' button');\n",
              "      quickchartButtonEl.disabled = true;  // To prevent multiple clicks.\n",
              "      quickchartButtonEl.classList.add('colab-df-spinner');\n",
              "      try {\n",
              "        const charts = await google.colab.kernel.invokeFunction(\n",
              "            'suggestCharts', [key], {});\n",
              "      } catch (error) {\n",
              "        console.error('Error during call to suggestCharts:', error);\n",
              "      }\n",
              "      quickchartButtonEl.classList.remove('colab-df-spinner');\n",
              "      quickchartButtonEl.classList.add('colab-df-quickchart-complete');\n",
              "    }\n",
              "    (() => {\n",
              "      let quickchartButtonEl =\n",
              "        document.querySelector('#df-267f5c17-2b92-4799-89de-c02f4e4d12cf button');\n",
              "      quickchartButtonEl.style.display =\n",
              "        google.colab.kernel.accessAllowed ? 'block' : 'none';\n",
              "    })();\n",
              "  </script>\n",
              "</div>\n",
              "    </div>\n",
              "  </div>\n"
            ]
          },
          "metadata": {},
          "execution_count": 54
        }
      ],
      "source": [
        "random_pred_emo = []\n",
        "random_pred_tri = []\n",
        "e, t = dumb_random.forward(df_test)\n",
        "df_test.loc[:,('predicted_emo')] = e\n",
        "df_test.loc[:,('predicted_tri')] = t\n",
        "df_test.head(5)"
      ]
    },
    {
      "cell_type": "code",
      "execution_count": 55,
      "metadata": {
        "colab": {
          "base_uri": "https://localhost:8080/"
        },
        "id": "B0PrE5M35-XY",
        "outputId": "9b96aef8-9983-40a2-d847-1ae3b54e450c"
      },
      "outputs": [
        {
          "output_type": "stream",
          "name": "stdout",
          "text": [
            "F1 score report - Random classifier\n",
            "\n",
            "Average Sequence F1 score\n",
            "- - Emotion average F1 Score:\t0.15051778072895905\n",
            "- - Triggers average F1 Score:\t0.5082407463173296\n",
            "\n",
            "Unrolled Sequence F1 score\n",
            "- - Emotion average F1 Score:\t0.14451827242524917\n",
            "- - Triggers average F1 Score:\t0.5105204872646734\n"
          ]
        }
      ],
      "source": [
        "rand_scores = complete_f1_report(df_test, \"Random classifier\")"
      ]
    },
    {
      "cell_type": "markdown",
      "metadata": {
        "id": "UNRxqX4M9MhJ"
      },
      "source": [
        "### Baseline: Majority Classifier"
      ]
    },
    {
      "cell_type": "code",
      "execution_count": 56,
      "metadata": {
        "colab": {
          "base_uri": "https://localhost:8080/"
        },
        "id": "AyDhFI2H9MhJ",
        "outputId": "fa9934b4-1cb3-4248-ac46-62898b3cea9a"
      },
      "outputs": [
        {
          "output_type": "stream",
          "name": "stdout",
          "text": [
            "The majority emotion is: 4\n",
            "The majority trigger is: False\n",
            "\n",
            "A test for the dumb majority classifier:\n",
            "\t\tinput: Oh God! I'm dumb..\n",
            "\t\toutput: emotion:[4], trigger:[False]\n"
          ]
        }
      ],
      "source": [
        "class Majority_Classifier():\n",
        "    '''It is trained on a dataset using the emotion and trigger columns.\n",
        "        It's output on the forward method will be always the majority class\n",
        "        for emotion and trigger, calculated in the training set.'''\n",
        "\n",
        "    def __init__(self):\n",
        "        self.emotion = None\n",
        "        self.trigger = None\n",
        "\n",
        "    def train(self, dataset:pd.DataFrame):\n",
        "        '''Input a dataset with the emotion and trigger columns.'''\n",
        "\n",
        "        emotions_count = dict()\n",
        "        triggers_count = dict()\n",
        "\n",
        "        for em, tr in dataset[['labemo','trigger']].values:\n",
        "            update_count_dictionary(em, emotions_count)\n",
        "            update_count_dictionary(tr, triggers_count)\n",
        "\n",
        "        # get the majority class for the emotion column\n",
        "        max_count = -1\n",
        "        for emotion, value in emotions_count.items():\n",
        "            if value > max_count:\n",
        "                max_count = value\n",
        "                self.emotion = emotion\n",
        "\n",
        "        # get the majority class for the trigger column\n",
        "        max_count = -1\n",
        "        for trigger, value in triggers_count.items():\n",
        "            if value > max_count:\n",
        "                max_count = value\n",
        "                self.trigger = trigger\n",
        "\n",
        "    def forward(self, utterance):\n",
        "        '''The input is ignored. This method can be modified. It is intended to\n",
        "            mimic the forward method of an ML model such that it usable in the same way.'''\n",
        "        return self.emotion, self.trigger\n",
        "\n",
        "    def forward(self, dataset: pd.DataFrame):\n",
        "        '''The input is ignored. This method can be modified. It is intended to\n",
        "            mimic the forward method of an ML model such that it usable in the same way.'''\n",
        "\n",
        "        return [self.emotion for row in range(dataset.shape[0])], [self.trigger for row in range(dataset.shape[0])]\n",
        "\n",
        "\n",
        "dumb_majority = Majority_Classifier()\n",
        "dumb_majority.train(df_train)\n",
        "\n",
        "print(\"The majority emotion is: {}\".format(dumb_majority.emotion))\n",
        "print(\"The majority trigger is: {}\".format(dumb_majority.trigger))\n",
        "print()\n",
        "print(\"A test for the dumb majority classifier:\")\n",
        "print(\"\\t\\tinput: Oh God! I'm dumb..\")\n",
        "\n",
        "e, t = dumb_majority.forward(pd.DataFrame([\"Oh God! I'm dumb..\"]))\n",
        "print(\"\\t\\toutput: emotion:{}, trigger:{}\".format(e,t))"
      ]
    },
    {
      "cell_type": "code",
      "execution_count": 57,
      "metadata": {
        "colab": {
          "base_uri": "https://localhost:8080/",
          "height": 414
        },
        "id": "rtE8NxXj5yxt",
        "outputId": "77120cab-5362-4bbe-b46c-ea86fbdbc23c"
      },
      "outputs": [
        {
          "output_type": "stream",
          "name": "stderr",
          "text": [
            "<ipython-input-57-ad285f55e64d>:4: SettingWithCopyWarning: \n",
            "A value is trying to be set on a copy of a slice from a DataFrame.\n",
            "Try using .loc[row_indexer,col_indexer] = value instead\n",
            "\n",
            "See the caveats in the documentation: https://pandas.pydata.org/pandas-docs/stable/user_guide/indexing.html#returning-a-view-versus-a-copy\n",
            "  df_test.loc[:,('predicted_emo')] = e\n",
            "<ipython-input-57-ad285f55e64d>:5: SettingWithCopyWarning: \n",
            "A value is trying to be set on a copy of a slice from a DataFrame.\n",
            "Try using .loc[row_indexer,col_indexer] = value instead\n",
            "\n",
            "See the caveats in the documentation: https://pandas.pydata.org/pandas-docs/stable/user_guide/indexing.html#returning-a-view-versus-a-copy\n",
            "  df_test.loc[:,('predicted_tri')] = t\n"
          ]
        },
        {
          "output_type": "execute_result",
          "data": {
            "text/plain": [
              "         episode                                          utterance  \\\n",
              "55   utterance_8                                          Hey, Mon.   \n",
              "56   utterance_8  Hey-hey-hey. You wanna hear something that sucks.   \n",
              "57   utterance_8                                         Do I ever.   \n",
              "58   utterance_8           Chris says they're closing down the bar.   \n",
              "77  utterance_12                                          Hey, Mon.   \n",
              "\n",
              "                                              history  emotion  trigger  \\\n",
              "55                                                     neutral    False   \n",
              "56                                          Hey, Mon.  neutral    False   \n",
              "57  Hey, Mon. Hey-hey-hey. You wanna hear somethin...      joy    False   \n",
              "58  Hey-hey-hey. You wanna hear something that suc...  sadness     True   \n",
              "77                                                     neutral    False   \n",
              "\n",
              "    labemo  predicted_emo  predicted_tri  \n",
              "55       4              4          False  \n",
              "56       4              4          False  \n",
              "57       3              4          False  \n",
              "58       5              4          False  \n",
              "77       4              4          False  "
            ],
            "text/html": [
              "\n",
              "  <div id=\"df-e665e89a-5f30-4e2b-9a8d-c645d4dbbc4d\" class=\"colab-df-container\">\n",
              "    <div>\n",
              "<style scoped>\n",
              "    .dataframe tbody tr th:only-of-type {\n",
              "        vertical-align: middle;\n",
              "    }\n",
              "\n",
              "    .dataframe tbody tr th {\n",
              "        vertical-align: top;\n",
              "    }\n",
              "\n",
              "    .dataframe thead th {\n",
              "        text-align: right;\n",
              "    }\n",
              "</style>\n",
              "<table border=\"1\" class=\"dataframe\">\n",
              "  <thead>\n",
              "    <tr style=\"text-align: right;\">\n",
              "      <th></th>\n",
              "      <th>episode</th>\n",
              "      <th>utterance</th>\n",
              "      <th>history</th>\n",
              "      <th>emotion</th>\n",
              "      <th>trigger</th>\n",
              "      <th>labemo</th>\n",
              "      <th>predicted_emo</th>\n",
              "      <th>predicted_tri</th>\n",
              "    </tr>\n",
              "  </thead>\n",
              "  <tbody>\n",
              "    <tr>\n",
              "      <th>55</th>\n",
              "      <td>utterance_8</td>\n",
              "      <td>Hey, Mon.</td>\n",
              "      <td></td>\n",
              "      <td>neutral</td>\n",
              "      <td>False</td>\n",
              "      <td>4</td>\n",
              "      <td>4</td>\n",
              "      <td>False</td>\n",
              "    </tr>\n",
              "    <tr>\n",
              "      <th>56</th>\n",
              "      <td>utterance_8</td>\n",
              "      <td>Hey-hey-hey. You wanna hear something that sucks.</td>\n",
              "      <td>Hey, Mon.</td>\n",
              "      <td>neutral</td>\n",
              "      <td>False</td>\n",
              "      <td>4</td>\n",
              "      <td>4</td>\n",
              "      <td>False</td>\n",
              "    </tr>\n",
              "    <tr>\n",
              "      <th>57</th>\n",
              "      <td>utterance_8</td>\n",
              "      <td>Do I ever.</td>\n",
              "      <td>Hey, Mon. Hey-hey-hey. You wanna hear somethin...</td>\n",
              "      <td>joy</td>\n",
              "      <td>False</td>\n",
              "      <td>3</td>\n",
              "      <td>4</td>\n",
              "      <td>False</td>\n",
              "    </tr>\n",
              "    <tr>\n",
              "      <th>58</th>\n",
              "      <td>utterance_8</td>\n",
              "      <td>Chris says they're closing down the bar.</td>\n",
              "      <td>Hey-hey-hey. You wanna hear something that suc...</td>\n",
              "      <td>sadness</td>\n",
              "      <td>True</td>\n",
              "      <td>5</td>\n",
              "      <td>4</td>\n",
              "      <td>False</td>\n",
              "    </tr>\n",
              "    <tr>\n",
              "      <th>77</th>\n",
              "      <td>utterance_12</td>\n",
              "      <td>Hey, Mon.</td>\n",
              "      <td></td>\n",
              "      <td>neutral</td>\n",
              "      <td>False</td>\n",
              "      <td>4</td>\n",
              "      <td>4</td>\n",
              "      <td>False</td>\n",
              "    </tr>\n",
              "  </tbody>\n",
              "</table>\n",
              "</div>\n",
              "    <div class=\"colab-df-buttons\">\n",
              "\n",
              "  <div class=\"colab-df-container\">\n",
              "    <button class=\"colab-df-convert\" onclick=\"convertToInteractive('df-e665e89a-5f30-4e2b-9a8d-c645d4dbbc4d')\"\n",
              "            title=\"Convert this dataframe to an interactive table.\"\n",
              "            style=\"display:none;\">\n",
              "\n",
              "  <svg xmlns=\"http://www.w3.org/2000/svg\" height=\"24px\" viewBox=\"0 -960 960 960\">\n",
              "    <path d=\"M120-120v-720h720v720H120Zm60-500h600v-160H180v160Zm220 220h160v-160H400v160Zm0 220h160v-160H400v160ZM180-400h160v-160H180v160Zm440 0h160v-160H620v160ZM180-180h160v-160H180v160Zm440 0h160v-160H620v160Z\"/>\n",
              "  </svg>\n",
              "    </button>\n",
              "\n",
              "  <style>\n",
              "    .colab-df-container {\n",
              "      display:flex;\n",
              "      gap: 12px;\n",
              "    }\n",
              "\n",
              "    .colab-df-convert {\n",
              "      background-color: #E8F0FE;\n",
              "      border: none;\n",
              "      border-radius: 50%;\n",
              "      cursor: pointer;\n",
              "      display: none;\n",
              "      fill: #1967D2;\n",
              "      height: 32px;\n",
              "      padding: 0 0 0 0;\n",
              "      width: 32px;\n",
              "    }\n",
              "\n",
              "    .colab-df-convert:hover {\n",
              "      background-color: #E2EBFA;\n",
              "      box-shadow: 0px 1px 2px rgba(60, 64, 67, 0.3), 0px 1px 3px 1px rgba(60, 64, 67, 0.15);\n",
              "      fill: #174EA6;\n",
              "    }\n",
              "\n",
              "    .colab-df-buttons div {\n",
              "      margin-bottom: 4px;\n",
              "    }\n",
              "\n",
              "    [theme=dark] .colab-df-convert {\n",
              "      background-color: #3B4455;\n",
              "      fill: #D2E3FC;\n",
              "    }\n",
              "\n",
              "    [theme=dark] .colab-df-convert:hover {\n",
              "      background-color: #434B5C;\n",
              "      box-shadow: 0px 1px 3px 1px rgba(0, 0, 0, 0.15);\n",
              "      filter: drop-shadow(0px 1px 2px rgba(0, 0, 0, 0.3));\n",
              "      fill: #FFFFFF;\n",
              "    }\n",
              "  </style>\n",
              "\n",
              "    <script>\n",
              "      const buttonEl =\n",
              "        document.querySelector('#df-e665e89a-5f30-4e2b-9a8d-c645d4dbbc4d button.colab-df-convert');\n",
              "      buttonEl.style.display =\n",
              "        google.colab.kernel.accessAllowed ? 'block' : 'none';\n",
              "\n",
              "      async function convertToInteractive(key) {\n",
              "        const element = document.querySelector('#df-e665e89a-5f30-4e2b-9a8d-c645d4dbbc4d');\n",
              "        const dataTable =\n",
              "          await google.colab.kernel.invokeFunction('convertToInteractive',\n",
              "                                                    [key], {});\n",
              "        if (!dataTable) return;\n",
              "\n",
              "        const docLinkHtml = 'Like what you see? Visit the ' +\n",
              "          '<a target=\"_blank\" href=https://colab.research.google.com/notebooks/data_table.ipynb>data table notebook</a>'\n",
              "          + ' to learn more about interactive tables.';\n",
              "        element.innerHTML = '';\n",
              "        dataTable['output_type'] = 'display_data';\n",
              "        await google.colab.output.renderOutput(dataTable, element);\n",
              "        const docLink = document.createElement('div');\n",
              "        docLink.innerHTML = docLinkHtml;\n",
              "        element.appendChild(docLink);\n",
              "      }\n",
              "    </script>\n",
              "  </div>\n",
              "\n",
              "\n",
              "<div id=\"df-81db5b44-29f7-411a-9492-4f9e342eaee9\">\n",
              "  <button class=\"colab-df-quickchart\" onclick=\"quickchart('df-81db5b44-29f7-411a-9492-4f9e342eaee9')\"\n",
              "            title=\"Suggest charts\"\n",
              "            style=\"display:none;\">\n",
              "\n",
              "<svg xmlns=\"http://www.w3.org/2000/svg\" height=\"24px\"viewBox=\"0 0 24 24\"\n",
              "     width=\"24px\">\n",
              "    <g>\n",
              "        <path d=\"M19 3H5c-1.1 0-2 .9-2 2v14c0 1.1.9 2 2 2h14c1.1 0 2-.9 2-2V5c0-1.1-.9-2-2-2zM9 17H7v-7h2v7zm4 0h-2V7h2v10zm4 0h-2v-4h2v4z\"/>\n",
              "    </g>\n",
              "</svg>\n",
              "  </button>\n",
              "\n",
              "<style>\n",
              "  .colab-df-quickchart {\n",
              "      --bg-color: #E8F0FE;\n",
              "      --fill-color: #1967D2;\n",
              "      --hover-bg-color: #E2EBFA;\n",
              "      --hover-fill-color: #174EA6;\n",
              "      --disabled-fill-color: #AAA;\n",
              "      --disabled-bg-color: #DDD;\n",
              "  }\n",
              "\n",
              "  [theme=dark] .colab-df-quickchart {\n",
              "      --bg-color: #3B4455;\n",
              "      --fill-color: #D2E3FC;\n",
              "      --hover-bg-color: #434B5C;\n",
              "      --hover-fill-color: #FFFFFF;\n",
              "      --disabled-bg-color: #3B4455;\n",
              "      --disabled-fill-color: #666;\n",
              "  }\n",
              "\n",
              "  .colab-df-quickchart {\n",
              "    background-color: var(--bg-color);\n",
              "    border: none;\n",
              "    border-radius: 50%;\n",
              "    cursor: pointer;\n",
              "    display: none;\n",
              "    fill: var(--fill-color);\n",
              "    height: 32px;\n",
              "    padding: 0;\n",
              "    width: 32px;\n",
              "  }\n",
              "\n",
              "  .colab-df-quickchart:hover {\n",
              "    background-color: var(--hover-bg-color);\n",
              "    box-shadow: 0 1px 2px rgba(60, 64, 67, 0.3), 0 1px 3px 1px rgba(60, 64, 67, 0.15);\n",
              "    fill: var(--button-hover-fill-color);\n",
              "  }\n",
              "\n",
              "  .colab-df-quickchart-complete:disabled,\n",
              "  .colab-df-quickchart-complete:disabled:hover {\n",
              "    background-color: var(--disabled-bg-color);\n",
              "    fill: var(--disabled-fill-color);\n",
              "    box-shadow: none;\n",
              "  }\n",
              "\n",
              "  .colab-df-spinner {\n",
              "    border: 2px solid var(--fill-color);\n",
              "    border-color: transparent;\n",
              "    border-bottom-color: var(--fill-color);\n",
              "    animation:\n",
              "      spin 1s steps(1) infinite;\n",
              "  }\n",
              "\n",
              "  @keyframes spin {\n",
              "    0% {\n",
              "      border-color: transparent;\n",
              "      border-bottom-color: var(--fill-color);\n",
              "      border-left-color: var(--fill-color);\n",
              "    }\n",
              "    20% {\n",
              "      border-color: transparent;\n",
              "      border-left-color: var(--fill-color);\n",
              "      border-top-color: var(--fill-color);\n",
              "    }\n",
              "    30% {\n",
              "      border-color: transparent;\n",
              "      border-left-color: var(--fill-color);\n",
              "      border-top-color: var(--fill-color);\n",
              "      border-right-color: var(--fill-color);\n",
              "    }\n",
              "    40% {\n",
              "      border-color: transparent;\n",
              "      border-right-color: var(--fill-color);\n",
              "      border-top-color: var(--fill-color);\n",
              "    }\n",
              "    60% {\n",
              "      border-color: transparent;\n",
              "      border-right-color: var(--fill-color);\n",
              "    }\n",
              "    80% {\n",
              "      border-color: transparent;\n",
              "      border-right-color: var(--fill-color);\n",
              "      border-bottom-color: var(--fill-color);\n",
              "    }\n",
              "    90% {\n",
              "      border-color: transparent;\n",
              "      border-bottom-color: var(--fill-color);\n",
              "    }\n",
              "  }\n",
              "</style>\n",
              "\n",
              "  <script>\n",
              "    async function quickchart(key) {\n",
              "      const quickchartButtonEl =\n",
              "        document.querySelector('#' + key + ' button');\n",
              "      quickchartButtonEl.disabled = true;  // To prevent multiple clicks.\n",
              "      quickchartButtonEl.classList.add('colab-df-spinner');\n",
              "      try {\n",
              "        const charts = await google.colab.kernel.invokeFunction(\n",
              "            'suggestCharts', [key], {});\n",
              "      } catch (error) {\n",
              "        console.error('Error during call to suggestCharts:', error);\n",
              "      }\n",
              "      quickchartButtonEl.classList.remove('colab-df-spinner');\n",
              "      quickchartButtonEl.classList.add('colab-df-quickchart-complete');\n",
              "    }\n",
              "    (() => {\n",
              "      let quickchartButtonEl =\n",
              "        document.querySelector('#df-81db5b44-29f7-411a-9492-4f9e342eaee9 button');\n",
              "      quickchartButtonEl.style.display =\n",
              "        google.colab.kernel.accessAllowed ? 'block' : 'none';\n",
              "    })();\n",
              "  </script>\n",
              "</div>\n",
              "    </div>\n",
              "  </div>\n"
            ]
          },
          "metadata": {},
          "execution_count": 57
        }
      ],
      "source": [
        "majority_pred_emo = []\n",
        "majority_pred_tri = []\n",
        "e, t = dumb_majority.forward(df_test)\n",
        "df_test.loc[:,('predicted_emo')] = e\n",
        "df_test.loc[:,('predicted_tri')] = t\n",
        "df_test.head(5)"
      ]
    },
    {
      "cell_type": "code",
      "execution_count": 58,
      "metadata": {
        "colab": {
          "base_uri": "https://localhost:8080/"
        },
        "id": "KWd4P2cL51Vq",
        "outputId": "6ea915bd-5e91-490e-9300-6576a3a744af"
      },
      "outputs": [
        {
          "output_type": "stream",
          "name": "stdout",
          "text": [
            "F1 score report - Majority classifier\n",
            "\n",
            "Average Sequence F1 score\n",
            "- - Emotion average F1 Score:\t0.4391431866963819\n",
            "- - Triggers average F1 Score:\t0.8076212035802999\n",
            "\n",
            "Unrolled Sequence F1 score\n",
            "- - Emotion average F1 Score:\t0.4543189368770764\n",
            "- - Triggers average F1 Score:\t0.842469545957918\n"
          ]
        }
      ],
      "source": [
        "maj_scores = complete_f1_report(df_test, \"Majority classifier\")"
      ]
    },
    {
      "cell_type": "markdown",
      "metadata": {
        "id": "2U1wZUU338lF"
      },
      "source": [
        "### Actual model - Fully finetuned"
      ]
    },
    {
      "cell_type": "code",
      "execution_count": 59,
      "metadata": {
        "id": "IyLTExU9Rsnp"
      },
      "outputs": [],
      "source": [
        "df_test_full = df_test.copy()\n",
        "df_test_full.loc[:,('predicted_emo')] = test_pred_emo_full\n",
        "df_test_full.loc[:,('predicted_tri')] = test_pred_tri_full.astype(bool)\n",
        "df_test_full.head(5)\n",
        "\n",
        "sdir = os.path.join(results_folder, f\"{SEED}_full_pred.csv\")\n",
        "df_test_full.to_csv(sdir, index=False, header=True)"
      ]
    },
    {
      "cell_type": "code",
      "execution_count": 60,
      "metadata": {
        "colab": {
          "base_uri": "https://localhost:8080/"
        },
        "id": "98ofX_shQTAB",
        "outputId": "9768da91-bc9f-4045-ca1c-ad52373555f3"
      },
      "outputs": [
        {
          "output_type": "stream",
          "name": "stdout",
          "text": [
            "F1 score report - Bert Fully finetuned\n",
            "\n",
            "Average Sequence F1 score\n",
            "- - Emotion average F1 Score:\t0.5956199250451168\n",
            "- - Triggers average F1 Score:\t0.8067876368202624\n",
            "\n",
            "Unrolled Sequence F1 score\n",
            "- - Emotion average F1 Score:\t0.6046511627906976\n",
            "- - Triggers average F1 Score:\t0.8416389811738649\n"
          ]
        }
      ],
      "source": [
        "bert_full_scores = complete_f1_report(df_test_full, \"Bert Fully finetuned\")"
      ]
    },
    {
      "cell_type": "markdown",
      "metadata": {
        "id": "bj5-iGH2iGtV"
      },
      "source": [
        "### Actual model - Freezed Embedding Layers"
      ]
    },
    {
      "cell_type": "code",
      "execution_count": 61,
      "metadata": {
        "id": "X_hvHQZYiGtV"
      },
      "outputs": [],
      "source": [
        "df_test_freezed = df_test.copy()\n",
        "df_test_freezed.loc[:,('predicted_emo')] = test_pred_emo_freezed\n",
        "df_test_freezed.loc[:,('predicted_tri')] = test_pred_tri_freezed.astype(bool)\n",
        "df_test_freezed.head(5)\n",
        "\n",
        "sdir = os.path.join(results_folder, f\"{SEED}_freezed_pred.csv\")\n",
        "df_test_freezed.to_csv(sdir, index=False, header=True)"
      ]
    },
    {
      "cell_type": "code",
      "execution_count": 62,
      "metadata": {
        "colab": {
          "base_uri": "https://localhost:8080/"
        },
        "id": "jvPAT7TXiGtV",
        "outputId": "24e73479-823b-4873-8495-19ed7b714c8a"
      },
      "outputs": [
        {
          "output_type": "stream",
          "name": "stdout",
          "text": [
            "F1 score report - Bert with Freezed Embedding layer\n",
            "\n",
            "Average Sequence F1 score\n",
            "- - Emotion average F1 Score:\t0.5871048190752727\n",
            "- - Triggers average F1 Score:\t0.7806005948217887\n",
            "\n",
            "Unrolled Sequence F1 score\n",
            "- - Emotion average F1 Score:\t0.594407530454042\n",
            "- - Triggers average F1 Score:\t0.8122923588039866\n"
          ]
        }
      ],
      "source": [
        "bert_freezed_scores = complete_f1_report(df_test_freezed, \"Bert with Freezed Embedding layer\")"
      ]
    },
    {
      "cell_type": "code",
      "source": [
        "s_e = [rand_scores['s_e'],maj_scores['s_e'],bert_full_scores['s_e'],bert_freezed_scores['s_e']]\n",
        "s_t = [rand_scores['s_t'],maj_scores['s_t'],bert_full_scores['s_t'],bert_freezed_scores['s_t']]\n",
        "us_e =[rand_scores['us_e'],maj_scores['us_e'],bert_full_scores['us_e'],bert_freezed_scores['us_e']]\n",
        "us_t =[rand_scores['us_t'],maj_scores['us_t'],bert_full_scores['us_t'],bert_freezed_scores['us_t']]\n",
        "final_result = {'Average F1 emotions' : s_e,\n",
        "                'Average F1 triggers': s_t,\n",
        "                'Unrolled Average F1 emotions':us_e,\n",
        "                'Unrolled Average F1 triggers':us_t }"
      ],
      "metadata": {
        "id": "0CUTWrEu22mK"
      },
      "execution_count": 63,
      "outputs": []
    },
    {
      "cell_type": "code",
      "source": [
        "df_results = pd.DataFrame.from_dict(final_result,orient = 'index', columns = ['Random Classifier', 'Majority Classifier','Bert Full','Bert Freezed'])\n",
        "df_results"
      ],
      "metadata": {
        "id": "w6FuNmvK6aHV",
        "outputId": "400b93e2-f369-448d-8a65-9e05f8d1f020",
        "colab": {
          "base_uri": "https://localhost:8080/",
          "height": 175
        }
      },
      "execution_count": 64,
      "outputs": [
        {
          "output_type": "execute_result",
          "data": {
            "text/plain": [
              "                              Random Classifier  Majority Classifier  \\\n",
              "Average F1 emotions                    0.150518             0.439143   \n",
              "Average F1 triggers                    0.508241             0.807621   \n",
              "Unrolled Average F1 emotions           0.144518             0.454319   \n",
              "Unrolled Average F1 triggers           0.510520             0.842470   \n",
              "\n",
              "                              Bert Full  Bert Freezed  \n",
              "Average F1 emotions            0.595620      0.587105  \n",
              "Average F1 triggers            0.806788      0.780601  \n",
              "Unrolled Average F1 emotions   0.604651      0.594408  \n",
              "Unrolled Average F1 triggers   0.841639      0.812292  "
            ],
            "text/html": [
              "\n",
              "  <div id=\"df-3d2ca248-f77a-4cb8-a5c6-035a1acd5eff\" class=\"colab-df-container\">\n",
              "    <div>\n",
              "<style scoped>\n",
              "    .dataframe tbody tr th:only-of-type {\n",
              "        vertical-align: middle;\n",
              "    }\n",
              "\n",
              "    .dataframe tbody tr th {\n",
              "        vertical-align: top;\n",
              "    }\n",
              "\n",
              "    .dataframe thead th {\n",
              "        text-align: right;\n",
              "    }\n",
              "</style>\n",
              "<table border=\"1\" class=\"dataframe\">\n",
              "  <thead>\n",
              "    <tr style=\"text-align: right;\">\n",
              "      <th></th>\n",
              "      <th>Random Classifier</th>\n",
              "      <th>Majority Classifier</th>\n",
              "      <th>Bert Full</th>\n",
              "      <th>Bert Freezed</th>\n",
              "    </tr>\n",
              "  </thead>\n",
              "  <tbody>\n",
              "    <tr>\n",
              "      <th>Average F1 emotions</th>\n",
              "      <td>0.150518</td>\n",
              "      <td>0.439143</td>\n",
              "      <td>0.595620</td>\n",
              "      <td>0.587105</td>\n",
              "    </tr>\n",
              "    <tr>\n",
              "      <th>Average F1 triggers</th>\n",
              "      <td>0.508241</td>\n",
              "      <td>0.807621</td>\n",
              "      <td>0.806788</td>\n",
              "      <td>0.780601</td>\n",
              "    </tr>\n",
              "    <tr>\n",
              "      <th>Unrolled Average F1 emotions</th>\n",
              "      <td>0.144518</td>\n",
              "      <td>0.454319</td>\n",
              "      <td>0.604651</td>\n",
              "      <td>0.594408</td>\n",
              "    </tr>\n",
              "    <tr>\n",
              "      <th>Unrolled Average F1 triggers</th>\n",
              "      <td>0.510520</td>\n",
              "      <td>0.842470</td>\n",
              "      <td>0.841639</td>\n",
              "      <td>0.812292</td>\n",
              "    </tr>\n",
              "  </tbody>\n",
              "</table>\n",
              "</div>\n",
              "    <div class=\"colab-df-buttons\">\n",
              "\n",
              "  <div class=\"colab-df-container\">\n",
              "    <button class=\"colab-df-convert\" onclick=\"convertToInteractive('df-3d2ca248-f77a-4cb8-a5c6-035a1acd5eff')\"\n",
              "            title=\"Convert this dataframe to an interactive table.\"\n",
              "            style=\"display:none;\">\n",
              "\n",
              "  <svg xmlns=\"http://www.w3.org/2000/svg\" height=\"24px\" viewBox=\"0 -960 960 960\">\n",
              "    <path d=\"M120-120v-720h720v720H120Zm60-500h600v-160H180v160Zm220 220h160v-160H400v160Zm0 220h160v-160H400v160ZM180-400h160v-160H180v160Zm440 0h160v-160H620v160ZM180-180h160v-160H180v160Zm440 0h160v-160H620v160Z\"/>\n",
              "  </svg>\n",
              "    </button>\n",
              "\n",
              "  <style>\n",
              "    .colab-df-container {\n",
              "      display:flex;\n",
              "      gap: 12px;\n",
              "    }\n",
              "\n",
              "    .colab-df-convert {\n",
              "      background-color: #E8F0FE;\n",
              "      border: none;\n",
              "      border-radius: 50%;\n",
              "      cursor: pointer;\n",
              "      display: none;\n",
              "      fill: #1967D2;\n",
              "      height: 32px;\n",
              "      padding: 0 0 0 0;\n",
              "      width: 32px;\n",
              "    }\n",
              "\n",
              "    .colab-df-convert:hover {\n",
              "      background-color: #E2EBFA;\n",
              "      box-shadow: 0px 1px 2px rgba(60, 64, 67, 0.3), 0px 1px 3px 1px rgba(60, 64, 67, 0.15);\n",
              "      fill: #174EA6;\n",
              "    }\n",
              "\n",
              "    .colab-df-buttons div {\n",
              "      margin-bottom: 4px;\n",
              "    }\n",
              "\n",
              "    [theme=dark] .colab-df-convert {\n",
              "      background-color: #3B4455;\n",
              "      fill: #D2E3FC;\n",
              "    }\n",
              "\n",
              "    [theme=dark] .colab-df-convert:hover {\n",
              "      background-color: #434B5C;\n",
              "      box-shadow: 0px 1px 3px 1px rgba(0, 0, 0, 0.15);\n",
              "      filter: drop-shadow(0px 1px 2px rgba(0, 0, 0, 0.3));\n",
              "      fill: #FFFFFF;\n",
              "    }\n",
              "  </style>\n",
              "\n",
              "    <script>\n",
              "      const buttonEl =\n",
              "        document.querySelector('#df-3d2ca248-f77a-4cb8-a5c6-035a1acd5eff button.colab-df-convert');\n",
              "      buttonEl.style.display =\n",
              "        google.colab.kernel.accessAllowed ? 'block' : 'none';\n",
              "\n",
              "      async function convertToInteractive(key) {\n",
              "        const element = document.querySelector('#df-3d2ca248-f77a-4cb8-a5c6-035a1acd5eff');\n",
              "        const dataTable =\n",
              "          await google.colab.kernel.invokeFunction('convertToInteractive',\n",
              "                                                    [key], {});\n",
              "        if (!dataTable) return;\n",
              "\n",
              "        const docLinkHtml = 'Like what you see? Visit the ' +\n",
              "          '<a target=\"_blank\" href=https://colab.research.google.com/notebooks/data_table.ipynb>data table notebook</a>'\n",
              "          + ' to learn more about interactive tables.';\n",
              "        element.innerHTML = '';\n",
              "        dataTable['output_type'] = 'display_data';\n",
              "        await google.colab.output.renderOutput(dataTable, element);\n",
              "        const docLink = document.createElement('div');\n",
              "        docLink.innerHTML = docLinkHtml;\n",
              "        element.appendChild(docLink);\n",
              "      }\n",
              "    </script>\n",
              "  </div>\n",
              "\n",
              "\n",
              "<div id=\"df-334a7c89-139b-4ebc-89b5-ee7505000eb6\">\n",
              "  <button class=\"colab-df-quickchart\" onclick=\"quickchart('df-334a7c89-139b-4ebc-89b5-ee7505000eb6')\"\n",
              "            title=\"Suggest charts\"\n",
              "            style=\"display:none;\">\n",
              "\n",
              "<svg xmlns=\"http://www.w3.org/2000/svg\" height=\"24px\"viewBox=\"0 0 24 24\"\n",
              "     width=\"24px\">\n",
              "    <g>\n",
              "        <path d=\"M19 3H5c-1.1 0-2 .9-2 2v14c0 1.1.9 2 2 2h14c1.1 0 2-.9 2-2V5c0-1.1-.9-2-2-2zM9 17H7v-7h2v7zm4 0h-2V7h2v10zm4 0h-2v-4h2v4z\"/>\n",
              "    </g>\n",
              "</svg>\n",
              "  </button>\n",
              "\n",
              "<style>\n",
              "  .colab-df-quickchart {\n",
              "      --bg-color: #E8F0FE;\n",
              "      --fill-color: #1967D2;\n",
              "      --hover-bg-color: #E2EBFA;\n",
              "      --hover-fill-color: #174EA6;\n",
              "      --disabled-fill-color: #AAA;\n",
              "      --disabled-bg-color: #DDD;\n",
              "  }\n",
              "\n",
              "  [theme=dark] .colab-df-quickchart {\n",
              "      --bg-color: #3B4455;\n",
              "      --fill-color: #D2E3FC;\n",
              "      --hover-bg-color: #434B5C;\n",
              "      --hover-fill-color: #FFFFFF;\n",
              "      --disabled-bg-color: #3B4455;\n",
              "      --disabled-fill-color: #666;\n",
              "  }\n",
              "\n",
              "  .colab-df-quickchart {\n",
              "    background-color: var(--bg-color);\n",
              "    border: none;\n",
              "    border-radius: 50%;\n",
              "    cursor: pointer;\n",
              "    display: none;\n",
              "    fill: var(--fill-color);\n",
              "    height: 32px;\n",
              "    padding: 0;\n",
              "    width: 32px;\n",
              "  }\n",
              "\n",
              "  .colab-df-quickchart:hover {\n",
              "    background-color: var(--hover-bg-color);\n",
              "    box-shadow: 0 1px 2px rgba(60, 64, 67, 0.3), 0 1px 3px 1px rgba(60, 64, 67, 0.15);\n",
              "    fill: var(--button-hover-fill-color);\n",
              "  }\n",
              "\n",
              "  .colab-df-quickchart-complete:disabled,\n",
              "  .colab-df-quickchart-complete:disabled:hover {\n",
              "    background-color: var(--disabled-bg-color);\n",
              "    fill: var(--disabled-fill-color);\n",
              "    box-shadow: none;\n",
              "  }\n",
              "\n",
              "  .colab-df-spinner {\n",
              "    border: 2px solid var(--fill-color);\n",
              "    border-color: transparent;\n",
              "    border-bottom-color: var(--fill-color);\n",
              "    animation:\n",
              "      spin 1s steps(1) infinite;\n",
              "  }\n",
              "\n",
              "  @keyframes spin {\n",
              "    0% {\n",
              "      border-color: transparent;\n",
              "      border-bottom-color: var(--fill-color);\n",
              "      border-left-color: var(--fill-color);\n",
              "    }\n",
              "    20% {\n",
              "      border-color: transparent;\n",
              "      border-left-color: var(--fill-color);\n",
              "      border-top-color: var(--fill-color);\n",
              "    }\n",
              "    30% {\n",
              "      border-color: transparent;\n",
              "      border-left-color: var(--fill-color);\n",
              "      border-top-color: var(--fill-color);\n",
              "      border-right-color: var(--fill-color);\n",
              "    }\n",
              "    40% {\n",
              "      border-color: transparent;\n",
              "      border-right-color: var(--fill-color);\n",
              "      border-top-color: var(--fill-color);\n",
              "    }\n",
              "    60% {\n",
              "      border-color: transparent;\n",
              "      border-right-color: var(--fill-color);\n",
              "    }\n",
              "    80% {\n",
              "      border-color: transparent;\n",
              "      border-right-color: var(--fill-color);\n",
              "      border-bottom-color: var(--fill-color);\n",
              "    }\n",
              "    90% {\n",
              "      border-color: transparent;\n",
              "      border-bottom-color: var(--fill-color);\n",
              "    }\n",
              "  }\n",
              "</style>\n",
              "\n",
              "  <script>\n",
              "    async function quickchart(key) {\n",
              "      const quickchartButtonEl =\n",
              "        document.querySelector('#' + key + ' button');\n",
              "      quickchartButtonEl.disabled = true;  // To prevent multiple clicks.\n",
              "      quickchartButtonEl.classList.add('colab-df-spinner');\n",
              "      try {\n",
              "        const charts = await google.colab.kernel.invokeFunction(\n",
              "            'suggestCharts', [key], {});\n",
              "      } catch (error) {\n",
              "        console.error('Error during call to suggestCharts:', error);\n",
              "      }\n",
              "      quickchartButtonEl.classList.remove('colab-df-spinner');\n",
              "      quickchartButtonEl.classList.add('colab-df-quickchart-complete');\n",
              "    }\n",
              "    (() => {\n",
              "      let quickchartButtonEl =\n",
              "        document.querySelector('#df-334a7c89-139b-4ebc-89b5-ee7505000eb6 button');\n",
              "      quickchartButtonEl.style.display =\n",
              "        google.colab.kernel.accessAllowed ? 'block' : 'none';\n",
              "    })();\n",
              "  </script>\n",
              "</div>\n",
              "    </div>\n",
              "  </div>\n"
            ]
          },
          "metadata": {},
          "execution_count": 64
        }
      ]
    },
    {
      "cell_type": "code",
      "source": [
        "results_to_csv(df_results,SEED)\n",
        "r = results_from_csv(SEED)\n",
        "r"
      ],
      "metadata": {
        "id": "IuxitabI8IUW",
        "outputId": "14b47500-ec86-47ef-df52-8c1ac915fcee",
        "colab": {
          "base_uri": "https://localhost:8080/",
          "height": 175
        }
      },
      "execution_count": 65,
      "outputs": [
        {
          "output_type": "execute_result",
          "data": {
            "text/plain": [
              "                     Unnamed: 0  Random Classifier  Majority Classifier  \\\n",
              "0           Average F1 emotions           0.150518             0.439143   \n",
              "1           Average F1 triggers           0.508241             0.807621   \n",
              "2  Unrolled Average F1 emotions           0.144518             0.454319   \n",
              "3  Unrolled Average F1 triggers           0.510520             0.842470   \n",
              "\n",
              "   Bert Full  Bert Freezed  \n",
              "0   0.595620      0.587105  \n",
              "1   0.806788      0.780601  \n",
              "2   0.604651      0.594408  \n",
              "3   0.841639      0.812292  "
            ],
            "text/html": [
              "\n",
              "  <div id=\"df-115db3c7-5db4-45e1-8559-505fb76a06d1\" class=\"colab-df-container\">\n",
              "    <div>\n",
              "<style scoped>\n",
              "    .dataframe tbody tr th:only-of-type {\n",
              "        vertical-align: middle;\n",
              "    }\n",
              "\n",
              "    .dataframe tbody tr th {\n",
              "        vertical-align: top;\n",
              "    }\n",
              "\n",
              "    .dataframe thead th {\n",
              "        text-align: right;\n",
              "    }\n",
              "</style>\n",
              "<table border=\"1\" class=\"dataframe\">\n",
              "  <thead>\n",
              "    <tr style=\"text-align: right;\">\n",
              "      <th></th>\n",
              "      <th>Unnamed: 0</th>\n",
              "      <th>Random Classifier</th>\n",
              "      <th>Majority Classifier</th>\n",
              "      <th>Bert Full</th>\n",
              "      <th>Bert Freezed</th>\n",
              "    </tr>\n",
              "  </thead>\n",
              "  <tbody>\n",
              "    <tr>\n",
              "      <th>0</th>\n",
              "      <td>Average F1 emotions</td>\n",
              "      <td>0.150518</td>\n",
              "      <td>0.439143</td>\n",
              "      <td>0.595620</td>\n",
              "      <td>0.587105</td>\n",
              "    </tr>\n",
              "    <tr>\n",
              "      <th>1</th>\n",
              "      <td>Average F1 triggers</td>\n",
              "      <td>0.508241</td>\n",
              "      <td>0.807621</td>\n",
              "      <td>0.806788</td>\n",
              "      <td>0.780601</td>\n",
              "    </tr>\n",
              "    <tr>\n",
              "      <th>2</th>\n",
              "      <td>Unrolled Average F1 emotions</td>\n",
              "      <td>0.144518</td>\n",
              "      <td>0.454319</td>\n",
              "      <td>0.604651</td>\n",
              "      <td>0.594408</td>\n",
              "    </tr>\n",
              "    <tr>\n",
              "      <th>3</th>\n",
              "      <td>Unrolled Average F1 triggers</td>\n",
              "      <td>0.510520</td>\n",
              "      <td>0.842470</td>\n",
              "      <td>0.841639</td>\n",
              "      <td>0.812292</td>\n",
              "    </tr>\n",
              "  </tbody>\n",
              "</table>\n",
              "</div>\n",
              "    <div class=\"colab-df-buttons\">\n",
              "\n",
              "  <div class=\"colab-df-container\">\n",
              "    <button class=\"colab-df-convert\" onclick=\"convertToInteractive('df-115db3c7-5db4-45e1-8559-505fb76a06d1')\"\n",
              "            title=\"Convert this dataframe to an interactive table.\"\n",
              "            style=\"display:none;\">\n",
              "\n",
              "  <svg xmlns=\"http://www.w3.org/2000/svg\" height=\"24px\" viewBox=\"0 -960 960 960\">\n",
              "    <path d=\"M120-120v-720h720v720H120Zm60-500h600v-160H180v160Zm220 220h160v-160H400v160Zm0 220h160v-160H400v160ZM180-400h160v-160H180v160Zm440 0h160v-160H620v160ZM180-180h160v-160H180v160Zm440 0h160v-160H620v160Z\"/>\n",
              "  </svg>\n",
              "    </button>\n",
              "\n",
              "  <style>\n",
              "    .colab-df-container {\n",
              "      display:flex;\n",
              "      gap: 12px;\n",
              "    }\n",
              "\n",
              "    .colab-df-convert {\n",
              "      background-color: #E8F0FE;\n",
              "      border: none;\n",
              "      border-radius: 50%;\n",
              "      cursor: pointer;\n",
              "      display: none;\n",
              "      fill: #1967D2;\n",
              "      height: 32px;\n",
              "      padding: 0 0 0 0;\n",
              "      width: 32px;\n",
              "    }\n",
              "\n",
              "    .colab-df-convert:hover {\n",
              "      background-color: #E2EBFA;\n",
              "      box-shadow: 0px 1px 2px rgba(60, 64, 67, 0.3), 0px 1px 3px 1px rgba(60, 64, 67, 0.15);\n",
              "      fill: #174EA6;\n",
              "    }\n",
              "\n",
              "    .colab-df-buttons div {\n",
              "      margin-bottom: 4px;\n",
              "    }\n",
              "\n",
              "    [theme=dark] .colab-df-convert {\n",
              "      background-color: #3B4455;\n",
              "      fill: #D2E3FC;\n",
              "    }\n",
              "\n",
              "    [theme=dark] .colab-df-convert:hover {\n",
              "      background-color: #434B5C;\n",
              "      box-shadow: 0px 1px 3px 1px rgba(0, 0, 0, 0.15);\n",
              "      filter: drop-shadow(0px 1px 2px rgba(0, 0, 0, 0.3));\n",
              "      fill: #FFFFFF;\n",
              "    }\n",
              "  </style>\n",
              "\n",
              "    <script>\n",
              "      const buttonEl =\n",
              "        document.querySelector('#df-115db3c7-5db4-45e1-8559-505fb76a06d1 button.colab-df-convert');\n",
              "      buttonEl.style.display =\n",
              "        google.colab.kernel.accessAllowed ? 'block' : 'none';\n",
              "\n",
              "      async function convertToInteractive(key) {\n",
              "        const element = document.querySelector('#df-115db3c7-5db4-45e1-8559-505fb76a06d1');\n",
              "        const dataTable =\n",
              "          await google.colab.kernel.invokeFunction('convertToInteractive',\n",
              "                                                    [key], {});\n",
              "        if (!dataTable) return;\n",
              "\n",
              "        const docLinkHtml = 'Like what you see? Visit the ' +\n",
              "          '<a target=\"_blank\" href=https://colab.research.google.com/notebooks/data_table.ipynb>data table notebook</a>'\n",
              "          + ' to learn more about interactive tables.';\n",
              "        element.innerHTML = '';\n",
              "        dataTable['output_type'] = 'display_data';\n",
              "        await google.colab.output.renderOutput(dataTable, element);\n",
              "        const docLink = document.createElement('div');\n",
              "        docLink.innerHTML = docLinkHtml;\n",
              "        element.appendChild(docLink);\n",
              "      }\n",
              "    </script>\n",
              "  </div>\n",
              "\n",
              "\n",
              "<div id=\"df-7d86e853-877d-406e-a28a-9798efe0844e\">\n",
              "  <button class=\"colab-df-quickchart\" onclick=\"quickchart('df-7d86e853-877d-406e-a28a-9798efe0844e')\"\n",
              "            title=\"Suggest charts\"\n",
              "            style=\"display:none;\">\n",
              "\n",
              "<svg xmlns=\"http://www.w3.org/2000/svg\" height=\"24px\"viewBox=\"0 0 24 24\"\n",
              "     width=\"24px\">\n",
              "    <g>\n",
              "        <path d=\"M19 3H5c-1.1 0-2 .9-2 2v14c0 1.1.9 2 2 2h14c1.1 0 2-.9 2-2V5c0-1.1-.9-2-2-2zM9 17H7v-7h2v7zm4 0h-2V7h2v10zm4 0h-2v-4h2v4z\"/>\n",
              "    </g>\n",
              "</svg>\n",
              "  </button>\n",
              "\n",
              "<style>\n",
              "  .colab-df-quickchart {\n",
              "      --bg-color: #E8F0FE;\n",
              "      --fill-color: #1967D2;\n",
              "      --hover-bg-color: #E2EBFA;\n",
              "      --hover-fill-color: #174EA6;\n",
              "      --disabled-fill-color: #AAA;\n",
              "      --disabled-bg-color: #DDD;\n",
              "  }\n",
              "\n",
              "  [theme=dark] .colab-df-quickchart {\n",
              "      --bg-color: #3B4455;\n",
              "      --fill-color: #D2E3FC;\n",
              "      --hover-bg-color: #434B5C;\n",
              "      --hover-fill-color: #FFFFFF;\n",
              "      --disabled-bg-color: #3B4455;\n",
              "      --disabled-fill-color: #666;\n",
              "  }\n",
              "\n",
              "  .colab-df-quickchart {\n",
              "    background-color: var(--bg-color);\n",
              "    border: none;\n",
              "    border-radius: 50%;\n",
              "    cursor: pointer;\n",
              "    display: none;\n",
              "    fill: var(--fill-color);\n",
              "    height: 32px;\n",
              "    padding: 0;\n",
              "    width: 32px;\n",
              "  }\n",
              "\n",
              "  .colab-df-quickchart:hover {\n",
              "    background-color: var(--hover-bg-color);\n",
              "    box-shadow: 0 1px 2px rgba(60, 64, 67, 0.3), 0 1px 3px 1px rgba(60, 64, 67, 0.15);\n",
              "    fill: var(--button-hover-fill-color);\n",
              "  }\n",
              "\n",
              "  .colab-df-quickchart-complete:disabled,\n",
              "  .colab-df-quickchart-complete:disabled:hover {\n",
              "    background-color: var(--disabled-bg-color);\n",
              "    fill: var(--disabled-fill-color);\n",
              "    box-shadow: none;\n",
              "  }\n",
              "\n",
              "  .colab-df-spinner {\n",
              "    border: 2px solid var(--fill-color);\n",
              "    border-color: transparent;\n",
              "    border-bottom-color: var(--fill-color);\n",
              "    animation:\n",
              "      spin 1s steps(1) infinite;\n",
              "  }\n",
              "\n",
              "  @keyframes spin {\n",
              "    0% {\n",
              "      border-color: transparent;\n",
              "      border-bottom-color: var(--fill-color);\n",
              "      border-left-color: var(--fill-color);\n",
              "    }\n",
              "    20% {\n",
              "      border-color: transparent;\n",
              "      border-left-color: var(--fill-color);\n",
              "      border-top-color: var(--fill-color);\n",
              "    }\n",
              "    30% {\n",
              "      border-color: transparent;\n",
              "      border-left-color: var(--fill-color);\n",
              "      border-top-color: var(--fill-color);\n",
              "      border-right-color: var(--fill-color);\n",
              "    }\n",
              "    40% {\n",
              "      border-color: transparent;\n",
              "      border-right-color: var(--fill-color);\n",
              "      border-top-color: var(--fill-color);\n",
              "    }\n",
              "    60% {\n",
              "      border-color: transparent;\n",
              "      border-right-color: var(--fill-color);\n",
              "    }\n",
              "    80% {\n",
              "      border-color: transparent;\n",
              "      border-right-color: var(--fill-color);\n",
              "      border-bottom-color: var(--fill-color);\n",
              "    }\n",
              "    90% {\n",
              "      border-color: transparent;\n",
              "      border-bottom-color: var(--fill-color);\n",
              "    }\n",
              "  }\n",
              "</style>\n",
              "\n",
              "  <script>\n",
              "    async function quickchart(key) {\n",
              "      const quickchartButtonEl =\n",
              "        document.querySelector('#' + key + ' button');\n",
              "      quickchartButtonEl.disabled = true;  // To prevent multiple clicks.\n",
              "      quickchartButtonEl.classList.add('colab-df-spinner');\n",
              "      try {\n",
              "        const charts = await google.colab.kernel.invokeFunction(\n",
              "            'suggestCharts', [key], {});\n",
              "      } catch (error) {\n",
              "        console.error('Error during call to suggestCharts:', error);\n",
              "      }\n",
              "      quickchartButtonEl.classList.remove('colab-df-spinner');\n",
              "      quickchartButtonEl.classList.add('colab-df-quickchart-complete');\n",
              "    }\n",
              "    (() => {\n",
              "      let quickchartButtonEl =\n",
              "        document.querySelector('#df-7d86e853-877d-406e-a28a-9798efe0844e button');\n",
              "      quickchartButtonEl.style.display =\n",
              "        google.colab.kernel.accessAllowed ? 'block' : 'none';\n",
              "    })();\n",
              "  </script>\n",
              "</div>\n",
              "    </div>\n",
              "  </div>\n"
            ]
          },
          "metadata": {},
          "execution_count": 65
        }
      ]
    },
    {
      "cell_type": "markdown",
      "metadata": {
        "id": "rRDwSGX-zVX3"
      },
      "source": [
        "## Error analysis"
      ]
    },
    {
      "cell_type": "code",
      "execution_count": 66,
      "metadata": {
        "id": "oSAg91jB0D0u"
      },
      "outputs": [],
      "source": [
        "from sklearn.metrics import f1_score, classification_report, ConfusionMatrixDisplay, confusion_matrix\n",
        "\n",
        "def get_report(data: pd.DataFrame, label: str):\n",
        "  '''input data has columns: lab{label}, predicted_{label}\n",
        "      label: selected label\n",
        "\n",
        "      Calculates the confusion matrix and a report dataframe is returned\n",
        "      '''\n",
        "\n",
        "  y_true = data[\"trigger\"] if label==\"tri\" else le_emo.inverse_transform(data[\"labemo\"])\n",
        "  y_pred = data[\"predicted_tri\"] if label==\"tri\" else le_emo.inverse_transform(data[f'predicted_emo'])\n",
        "  labels = data[\"trigger\"].unique() if label==\"tri\" else le_emo.inverse_transform(data[\"labemo\"].unique())\n",
        "\n",
        "  report = classification_report(y_true, y_pred, labels=labels, output_dict=True, zero_division=0)\n",
        "\n",
        "  df_report = pd.DataFrame.from_records(report).transpose()\n",
        "\n",
        "  df_report.drop([\"precision\", \"recall\"], axis=1, inplace=True)\n",
        "  df_report.drop([\"accuracy\", \"weighted avg\", \"macro avg\"], axis=0, inplace=True)\n",
        "  df_report[\"encoded_label\"] = df_report.index if label==\"tri\" else le_emo.transform(df_report.index)\n",
        "  df_report[\"label\"] = df_report.index\n",
        "  df_report = df_report.reset_index(drop=True)\n",
        "  cm = confusion_matrix(y_true, y_pred, labels=labels, normalize=\"true\")\n",
        "  cm_disp = ConfusionMatrixDisplay(cm, display_labels=labels)\n",
        "\n",
        "  return df_report, cm_disp"
      ]
    },
    {
      "cell_type": "code",
      "execution_count": 67,
      "metadata": {
        "id": "tMv03G572g6S"
      },
      "outputs": [],
      "source": [
        "df_rep_emotion_full, cm_disp_full = get_report(df_test_full, 'emo')\n",
        "df_rep_emotion_freezed, cm_disp_freezed = get_report(df_test_freezed, 'emo')"
      ]
    },
    {
      "cell_type": "code",
      "execution_count": 68,
      "metadata": {
        "colab": {
          "base_uri": "https://localhost:8080/",
          "height": 269
        },
        "id": "dfYq2zL4-Zg4",
        "outputId": "3059c5a7-7529-4353-c9d5-28e18b85db25"
      },
      "outputs": [
        {
          "output_type": "execute_result",
          "data": {
            "text/plain": [
              "   f1-score  support  encoded_label     label\n",
              "0  0.328042    407.0              0     anger\n",
              "1  0.181818     90.0              1   disgust\n",
              "2  0.225806    105.0              2      fear\n",
              "3  0.525068    632.0              3       joy\n",
              "4  0.736610   1641.0              4   neutral\n",
              "5  0.167702    278.0              5   sadness\n",
              "6  0.533477    459.0              6  surprise"
            ],
            "text/html": [
              "\n",
              "  <div id=\"df-7b1a4c86-a7fd-431a-ae69-4c57992b34cd\" class=\"colab-df-container\">\n",
              "    <div>\n",
              "<style scoped>\n",
              "    .dataframe tbody tr th:only-of-type {\n",
              "        vertical-align: middle;\n",
              "    }\n",
              "\n",
              "    .dataframe tbody tr th {\n",
              "        vertical-align: top;\n",
              "    }\n",
              "\n",
              "    .dataframe thead th {\n",
              "        text-align: right;\n",
              "    }\n",
              "</style>\n",
              "<table border=\"1\" class=\"dataframe\">\n",
              "  <thead>\n",
              "    <tr style=\"text-align: right;\">\n",
              "      <th></th>\n",
              "      <th>f1-score</th>\n",
              "      <th>support</th>\n",
              "      <th>encoded_label</th>\n",
              "      <th>label</th>\n",
              "    </tr>\n",
              "  </thead>\n",
              "  <tbody>\n",
              "    <tr>\n",
              "      <th>0</th>\n",
              "      <td>0.328042</td>\n",
              "      <td>407.0</td>\n",
              "      <td>0</td>\n",
              "      <td>anger</td>\n",
              "    </tr>\n",
              "    <tr>\n",
              "      <th>1</th>\n",
              "      <td>0.181818</td>\n",
              "      <td>90.0</td>\n",
              "      <td>1</td>\n",
              "      <td>disgust</td>\n",
              "    </tr>\n",
              "    <tr>\n",
              "      <th>2</th>\n",
              "      <td>0.225806</td>\n",
              "      <td>105.0</td>\n",
              "      <td>2</td>\n",
              "      <td>fear</td>\n",
              "    </tr>\n",
              "    <tr>\n",
              "      <th>3</th>\n",
              "      <td>0.525068</td>\n",
              "      <td>632.0</td>\n",
              "      <td>3</td>\n",
              "      <td>joy</td>\n",
              "    </tr>\n",
              "    <tr>\n",
              "      <th>4</th>\n",
              "      <td>0.736610</td>\n",
              "      <td>1641.0</td>\n",
              "      <td>4</td>\n",
              "      <td>neutral</td>\n",
              "    </tr>\n",
              "    <tr>\n",
              "      <th>5</th>\n",
              "      <td>0.167702</td>\n",
              "      <td>278.0</td>\n",
              "      <td>5</td>\n",
              "      <td>sadness</td>\n",
              "    </tr>\n",
              "    <tr>\n",
              "      <th>6</th>\n",
              "      <td>0.533477</td>\n",
              "      <td>459.0</td>\n",
              "      <td>6</td>\n",
              "      <td>surprise</td>\n",
              "    </tr>\n",
              "  </tbody>\n",
              "</table>\n",
              "</div>\n",
              "    <div class=\"colab-df-buttons\">\n",
              "\n",
              "  <div class=\"colab-df-container\">\n",
              "    <button class=\"colab-df-convert\" onclick=\"convertToInteractive('df-7b1a4c86-a7fd-431a-ae69-4c57992b34cd')\"\n",
              "            title=\"Convert this dataframe to an interactive table.\"\n",
              "            style=\"display:none;\">\n",
              "\n",
              "  <svg xmlns=\"http://www.w3.org/2000/svg\" height=\"24px\" viewBox=\"0 -960 960 960\">\n",
              "    <path d=\"M120-120v-720h720v720H120Zm60-500h600v-160H180v160Zm220 220h160v-160H400v160Zm0 220h160v-160H400v160ZM180-400h160v-160H180v160Zm440 0h160v-160H620v160ZM180-180h160v-160H180v160Zm440 0h160v-160H620v160Z\"/>\n",
              "  </svg>\n",
              "    </button>\n",
              "\n",
              "  <style>\n",
              "    .colab-df-container {\n",
              "      display:flex;\n",
              "      gap: 12px;\n",
              "    }\n",
              "\n",
              "    .colab-df-convert {\n",
              "      background-color: #E8F0FE;\n",
              "      border: none;\n",
              "      border-radius: 50%;\n",
              "      cursor: pointer;\n",
              "      display: none;\n",
              "      fill: #1967D2;\n",
              "      height: 32px;\n",
              "      padding: 0 0 0 0;\n",
              "      width: 32px;\n",
              "    }\n",
              "\n",
              "    .colab-df-convert:hover {\n",
              "      background-color: #E2EBFA;\n",
              "      box-shadow: 0px 1px 2px rgba(60, 64, 67, 0.3), 0px 1px 3px 1px rgba(60, 64, 67, 0.15);\n",
              "      fill: #174EA6;\n",
              "    }\n",
              "\n",
              "    .colab-df-buttons div {\n",
              "      margin-bottom: 4px;\n",
              "    }\n",
              "\n",
              "    [theme=dark] .colab-df-convert {\n",
              "      background-color: #3B4455;\n",
              "      fill: #D2E3FC;\n",
              "    }\n",
              "\n",
              "    [theme=dark] .colab-df-convert:hover {\n",
              "      background-color: #434B5C;\n",
              "      box-shadow: 0px 1px 3px 1px rgba(0, 0, 0, 0.15);\n",
              "      filter: drop-shadow(0px 1px 2px rgba(0, 0, 0, 0.3));\n",
              "      fill: #FFFFFF;\n",
              "    }\n",
              "  </style>\n",
              "\n",
              "    <script>\n",
              "      const buttonEl =\n",
              "        document.querySelector('#df-7b1a4c86-a7fd-431a-ae69-4c57992b34cd button.colab-df-convert');\n",
              "      buttonEl.style.display =\n",
              "        google.colab.kernel.accessAllowed ? 'block' : 'none';\n",
              "\n",
              "      async function convertToInteractive(key) {\n",
              "        const element = document.querySelector('#df-7b1a4c86-a7fd-431a-ae69-4c57992b34cd');\n",
              "        const dataTable =\n",
              "          await google.colab.kernel.invokeFunction('convertToInteractive',\n",
              "                                                    [key], {});\n",
              "        if (!dataTable) return;\n",
              "\n",
              "        const docLinkHtml = 'Like what you see? Visit the ' +\n",
              "          '<a target=\"_blank\" href=https://colab.research.google.com/notebooks/data_table.ipynb>data table notebook</a>'\n",
              "          + ' to learn more about interactive tables.';\n",
              "        element.innerHTML = '';\n",
              "        dataTable['output_type'] = 'display_data';\n",
              "        await google.colab.output.renderOutput(dataTable, element);\n",
              "        const docLink = document.createElement('div');\n",
              "        docLink.innerHTML = docLinkHtml;\n",
              "        element.appendChild(docLink);\n",
              "      }\n",
              "    </script>\n",
              "  </div>\n",
              "\n",
              "\n",
              "<div id=\"df-b36cb8eb-3716-4811-86da-3321af08c5c5\">\n",
              "  <button class=\"colab-df-quickchart\" onclick=\"quickchart('df-b36cb8eb-3716-4811-86da-3321af08c5c5')\"\n",
              "            title=\"Suggest charts\"\n",
              "            style=\"display:none;\">\n",
              "\n",
              "<svg xmlns=\"http://www.w3.org/2000/svg\" height=\"24px\"viewBox=\"0 0 24 24\"\n",
              "     width=\"24px\">\n",
              "    <g>\n",
              "        <path d=\"M19 3H5c-1.1 0-2 .9-2 2v14c0 1.1.9 2 2 2h14c1.1 0 2-.9 2-2V5c0-1.1-.9-2-2-2zM9 17H7v-7h2v7zm4 0h-2V7h2v10zm4 0h-2v-4h2v4z\"/>\n",
              "    </g>\n",
              "</svg>\n",
              "  </button>\n",
              "\n",
              "<style>\n",
              "  .colab-df-quickchart {\n",
              "      --bg-color: #E8F0FE;\n",
              "      --fill-color: #1967D2;\n",
              "      --hover-bg-color: #E2EBFA;\n",
              "      --hover-fill-color: #174EA6;\n",
              "      --disabled-fill-color: #AAA;\n",
              "      --disabled-bg-color: #DDD;\n",
              "  }\n",
              "\n",
              "  [theme=dark] .colab-df-quickchart {\n",
              "      --bg-color: #3B4455;\n",
              "      --fill-color: #D2E3FC;\n",
              "      --hover-bg-color: #434B5C;\n",
              "      --hover-fill-color: #FFFFFF;\n",
              "      --disabled-bg-color: #3B4455;\n",
              "      --disabled-fill-color: #666;\n",
              "  }\n",
              "\n",
              "  .colab-df-quickchart {\n",
              "    background-color: var(--bg-color);\n",
              "    border: none;\n",
              "    border-radius: 50%;\n",
              "    cursor: pointer;\n",
              "    display: none;\n",
              "    fill: var(--fill-color);\n",
              "    height: 32px;\n",
              "    padding: 0;\n",
              "    width: 32px;\n",
              "  }\n",
              "\n",
              "  .colab-df-quickchart:hover {\n",
              "    background-color: var(--hover-bg-color);\n",
              "    box-shadow: 0 1px 2px rgba(60, 64, 67, 0.3), 0 1px 3px 1px rgba(60, 64, 67, 0.15);\n",
              "    fill: var(--button-hover-fill-color);\n",
              "  }\n",
              "\n",
              "  .colab-df-quickchart-complete:disabled,\n",
              "  .colab-df-quickchart-complete:disabled:hover {\n",
              "    background-color: var(--disabled-bg-color);\n",
              "    fill: var(--disabled-fill-color);\n",
              "    box-shadow: none;\n",
              "  }\n",
              "\n",
              "  .colab-df-spinner {\n",
              "    border: 2px solid var(--fill-color);\n",
              "    border-color: transparent;\n",
              "    border-bottom-color: var(--fill-color);\n",
              "    animation:\n",
              "      spin 1s steps(1) infinite;\n",
              "  }\n",
              "\n",
              "  @keyframes spin {\n",
              "    0% {\n",
              "      border-color: transparent;\n",
              "      border-bottom-color: var(--fill-color);\n",
              "      border-left-color: var(--fill-color);\n",
              "    }\n",
              "    20% {\n",
              "      border-color: transparent;\n",
              "      border-left-color: var(--fill-color);\n",
              "      border-top-color: var(--fill-color);\n",
              "    }\n",
              "    30% {\n",
              "      border-color: transparent;\n",
              "      border-left-color: var(--fill-color);\n",
              "      border-top-color: var(--fill-color);\n",
              "      border-right-color: var(--fill-color);\n",
              "    }\n",
              "    40% {\n",
              "      border-color: transparent;\n",
              "      border-right-color: var(--fill-color);\n",
              "      border-top-color: var(--fill-color);\n",
              "    }\n",
              "    60% {\n",
              "      border-color: transparent;\n",
              "      border-right-color: var(--fill-color);\n",
              "    }\n",
              "    80% {\n",
              "      border-color: transparent;\n",
              "      border-right-color: var(--fill-color);\n",
              "      border-bottom-color: var(--fill-color);\n",
              "    }\n",
              "    90% {\n",
              "      border-color: transparent;\n",
              "      border-bottom-color: var(--fill-color);\n",
              "    }\n",
              "  }\n",
              "</style>\n",
              "\n",
              "  <script>\n",
              "    async function quickchart(key) {\n",
              "      const quickchartButtonEl =\n",
              "        document.querySelector('#' + key + ' button');\n",
              "      quickchartButtonEl.disabled = true;  // To prevent multiple clicks.\n",
              "      quickchartButtonEl.classList.add('colab-df-spinner');\n",
              "      try {\n",
              "        const charts = await google.colab.kernel.invokeFunction(\n",
              "            'suggestCharts', [key], {});\n",
              "      } catch (error) {\n",
              "        console.error('Error during call to suggestCharts:', error);\n",
              "      }\n",
              "      quickchartButtonEl.classList.remove('colab-df-spinner');\n",
              "      quickchartButtonEl.classList.add('colab-df-quickchart-complete');\n",
              "    }\n",
              "    (() => {\n",
              "      let quickchartButtonEl =\n",
              "        document.querySelector('#df-b36cb8eb-3716-4811-86da-3321af08c5c5 button');\n",
              "      quickchartButtonEl.style.display =\n",
              "        google.colab.kernel.accessAllowed ? 'block' : 'none';\n",
              "    })();\n",
              "  </script>\n",
              "</div>\n",
              "    </div>\n",
              "  </div>\n"
            ]
          },
          "metadata": {},
          "execution_count": 68
        }
      ],
      "source": [
        "df_rep_emotion_full"
      ]
    },
    {
      "cell_type": "markdown",
      "metadata": {
        "id": "jiOBb5muznRV"
      },
      "source": [
        "### Support and F1 score - Fully finetuned"
      ]
    },
    {
      "cell_type": "code",
      "execution_count": 69,
      "metadata": {
        "colab": {
          "base_uri": "https://localhost:8080/",
          "height": 445
        },
        "id": "r7Tnbh3XCu3z",
        "outputId": "bee14675-80f7-4c35-bae0-a768015590a6"
      },
      "outputs": [
        {
          "output_type": "display_data",
          "data": {
            "text/plain": [
              "<Figure size 1500x500 with 1 Axes>"
            ],
            "image/png": "[encoded data removed]"
          },
          "metadata": {}
        }
      ],
      "source": [
        "import matplotlib.pyplot as plt\n",
        "\n",
        "plt.figure(figsize=(15,5))\n",
        "plt.hist([df_train.emotion, df_val.emotion, df_test_full.emotion],\n",
        "                density=True,\n",
        "                label=[\"Train\", \"Val\", \"Test\"],\n",
        "                histtype=\"bar\",\n",
        "                )\n",
        "plt.legend()\n",
        "plt.show()"
      ]
    },
    {
      "cell_type": "code",
      "execution_count": 70,
      "metadata": {
        "colab": {
          "base_uri": "https://localhost:8080/",
          "height": 976
        },
        "id": "MDjrH4ZN-eA8",
        "outputId": "68ad9503-da76-428b-af5f-dae13c88b2d1"
      },
      "outputs": [
        {
          "output_type": "stream",
          "name": "stderr",
          "text": [
            "<ipython-input-70-baa0bff2c4b4>:4: FutureWarning: `sort_columns` is deprecated and will be removed in a future version.\n",
            "  df_rep_emotion_full.plot(x=\"label\", y=\"f1-score\", kind=\"bar\", sort_columns=True)\n"
          ]
        },
        {
          "output_type": "display_data",
          "data": {
            "text/plain": [
              "<Figure size 1500x200 with 0 Axes>"
            ]
          },
          "metadata": {}
        },
        {
          "output_type": "display_data",
          "data": {
            "text/plain": [
              "<Figure size 640x480 with 1 Axes>"
            ],
            "image/png": "[encoded data removed]"
          },
          "metadata": {}
        },
        {
          "output_type": "display_data",
          "data": {
            "text/plain": [
              "<Figure size 640x480 with 1 Axes>"
            ],
            "image/png": "[encoded data removed]"
          },
          "metadata": {}
        }
      ],
      "source": [
        "plt.figure(figsize=(15,2))\n",
        "df_rep_emotion_full.plot.scatter(x=\"support\", y=\"f1-score\")\n",
        "df_rep_emotion_full.sort_values(\"f1-score\", inplace= True)\n",
        "df_rep_emotion_full.plot(x=\"label\", y=\"f1-score\", kind=\"bar\", sort_columns=True)\n",
        "plt.show()"
      ]
    },
    {
      "cell_type": "markdown",
      "metadata": {
        "id": "GeaquEGziGtW"
      },
      "source": [
        "### Confusion Matrix - Fully finetuned"
      ]
    },
    {
      "cell_type": "code",
      "execution_count": 71,
      "metadata": {
        "colab": {
          "base_uri": "https://localhost:8080/",
          "height": 832
        },
        "id": "lruzOimJiGtW",
        "outputId": "3b58b858-2fec-4e2c-9ebc-aecf83f50e39"
      },
      "outputs": [
        {
          "output_type": "execute_result",
          "data": {
            "text/plain": [
              "<sklearn.metrics._plot.confusion_matrix.ConfusionMatrixDisplay at 0x7fca6610fd30>"
            ]
          },
          "metadata": {},
          "execution_count": 71
        },
        {
          "output_type": "display_data",
          "data": {
            "text/plain": [
              "<Figure size 1000x1000 with 2 Axes>"
            ],
            "image/png": "[encoded data removed]"
          },
          "metadata": {}
        }
      ],
      "source": [
        "fig, ax = plt.subplots(figsize=(10,10))\n",
        "cm_disp_full.plot(ax=ax)"
      ]
    },
    {
      "cell_type": "markdown",
      "metadata": {
        "id": "bf9vEHpviGtW"
      },
      "source": [
        "### Support and F1 score - Freezed finetuned"
      ]
    },
    {
      "cell_type": "code",
      "execution_count": 72,
      "metadata": {
        "colab": {
          "base_uri": "https://localhost:8080/",
          "height": 445
        },
        "id": "J0300ITuiGtW",
        "outputId": "328f458f-7170-4588-c2da-6ee95467879a"
      },
      "outputs": [
        {
          "output_type": "display_data",
          "data": {
            "text/plain": [
              "<Figure size 1500x500 with 1 Axes>"
            ],
            "image/png": "[encoded data removed]"
          },
          "metadata": {}
        }
      ],
      "source": [
        "import matplotlib.pyplot as plt\n",
        "\n",
        "plt.figure(figsize=(15,5))\n",
        "plt.hist([df_train.emotion, df_val.emotion, df_test_freezed.emotion],\n",
        "                density=True,\n",
        "                label=[\"Train\", \"Val\", \"Test\"],\n",
        "                histtype=\"bar\",\n",
        "                )\n",
        "plt.legend()\n",
        "plt.show()"
      ]
    },
    {
      "cell_type": "code",
      "execution_count": 73,
      "metadata": {
        "colab": {
          "base_uri": "https://localhost:8080/",
          "height": 976
        },
        "id": "h53kuohFiGtW",
        "outputId": "5b31fc9a-b5e3-4357-fdc7-6081be06806d"
      },
      "outputs": [
        {
          "output_type": "stream",
          "name": "stderr",
          "text": [
            "<ipython-input-73-2a1ce6c817aa>:4: FutureWarning: `sort_columns` is deprecated and will be removed in a future version.\n",
            "  df_rep_emotion_freezed.plot(x=\"label\", y=\"f1-score\", kind=\"bar\", sort_columns=True)\n"
          ]
        },
        {
          "output_type": "display_data",
          "data": {
            "text/plain": [
              "<Figure size 1500x200 with 0 Axes>"
            ]
          },
          "metadata": {}
        },
        {
          "output_type": "display_data",
          "data": {
            "text/plain": [
              "<Figure size 640x480 with 1 Axes>"
            ],
            "image/png": "[encoded data removed]"
          },
          "metadata": {}
        },
        {
          "output_type": "display_data",
          "data": {
            "text/plain": [
              "<Figure size 640x480 with 1 Axes>"
            ],
            "image/png": "[encoded data removed]"
          },
          "metadata": {}
        }
      ],
      "source": [
        "plt.figure(figsize=(15,2))\n",
        "df_rep_emotion_freezed.plot.scatter(x=\"support\", y=\"f1-score\")\n",
        "df_rep_emotion_freezed.sort_values(\"f1-score\", inplace= True)\n",
        "df_rep_emotion_freezed.plot(x=\"label\", y=\"f1-score\", kind=\"bar\", sort_columns=True)\n",
        "plt.show()"
      ]
    },
    {
      "cell_type": "markdown",
      "metadata": {
        "id": "1MkVf6XizxCJ"
      },
      "source": [
        "### Confusion Matrix - Freezed finetuned"
      ]
    },
    {
      "cell_type": "code",
      "execution_count": 74,
      "metadata": {
        "colab": {
          "base_uri": "https://localhost:8080/",
          "height": 832
        },
        "id": "4yZqLAklz5zg",
        "outputId": "d2b84b29-358d-4ec2-dfde-ed7bc8a5471c"
      },
      "outputs": [
        {
          "output_type": "execute_result",
          "data": {
            "text/plain": [
              "<sklearn.metrics._plot.confusion_matrix.ConfusionMatrixDisplay at 0x7fca66cab100>"
            ]
          },
          "metadata": {},
          "execution_count": 74
        },
        {
          "output_type": "display_data",
          "data": {
            "text/plain": [
              "<Figure size 1000x1000 with 2 Axes>"
            ],
            "image/png": "[encoded data removed]"
          },
          "metadata": {}
        }
      ],
      "source": [
        "fig, ax = plt.subplots(figsize=(10,10))\n",
        "cm_disp_freezed.plot(ax=ax)"
      ]
    },
    {
      "cell_type": "markdown",
      "metadata": {
        "id": "jk6CuLBkz6hz"
      },
      "source": [
        "### Triggers error"
      ]
    },
    {
      "cell_type": "code",
      "execution_count": 75,
      "metadata": {
        "id": "uZjJfLok0Bwa"
      },
      "outputs": [],
      "source": [
        "df_report_tri_full, cm_disp_full = get_report(df_test_full, 'tri')\n",
        "df_report_tri_freezed, cm_disp_freezed = get_report(df_test_freezed, 'tri')"
      ]
    },
    {
      "cell_type": "markdown",
      "metadata": {
        "id": "H_GscEm1iGtX"
      },
      "source": [
        "#### Fully Finetuned"
      ]
    },
    {
      "cell_type": "code",
      "execution_count": 76,
      "metadata": {
        "colab": {
          "base_uri": "https://localhost:8080/",
          "height": 112
        },
        "id": "-DIGCd30KW_z",
        "outputId": "4cc7bf81-0901-471b-8137-59d892fba946"
      },
      "outputs": [
        {
          "output_type": "execute_result",
          "data": {
            "text/plain": [
              "   f1-score  support encoded_label  label\n",
              "0  0.913985   3043.0         False  False\n",
              "1  0.003484    569.0          True   True"
            ],
            "text/html": [
              "\n",
              "  <div id=\"df-fc49a4dc-3ba3-4520-9829-3a90b3f77708\" class=\"colab-df-container\">\n",
              "    <div>\n",
              "<style scoped>\n",
              "    .dataframe tbody tr th:only-of-type {\n",
              "        vertical-align: middle;\n",
              "    }\n",
              "\n",
              "    .dataframe tbody tr th {\n",
              "        vertical-align: top;\n",
              "    }\n",
              "\n",
              "    .dataframe thead th {\n",
              "        text-align: right;\n",
              "    }\n",
              "</style>\n",
              "<table border=\"1\" class=\"dataframe\">\n",
              "  <thead>\n",
              "    <tr style=\"text-align: right;\">\n",
              "      <th></th>\n",
              "      <th>f1-score</th>\n",
              "      <th>support</th>\n",
              "      <th>encoded_label</th>\n",
              "      <th>label</th>\n",
              "    </tr>\n",
              "  </thead>\n",
              "  <tbody>\n",
              "    <tr>\n",
              "      <th>0</th>\n",
              "      <td>0.913985</td>\n",
              "      <td>3043.0</td>\n",
              "      <td>False</td>\n",
              "      <td>False</td>\n",
              "    </tr>\n",
              "    <tr>\n",
              "      <th>1</th>\n",
              "      <td>0.003484</td>\n",
              "      <td>569.0</td>\n",
              "      <td>True</td>\n",
              "      <td>True</td>\n",
              "    </tr>\n",
              "  </tbody>\n",
              "</table>\n",
              "</div>\n",
              "    <div class=\"colab-df-buttons\">\n",
              "\n",
              "  <div class=\"colab-df-container\">\n",
              "    <button class=\"colab-df-convert\" onclick=\"convertToInteractive('df-fc49a4dc-3ba3-4520-9829-3a90b3f77708')\"\n",
              "            title=\"Convert this dataframe to an interactive table.\"\n",
              "            style=\"display:none;\">\n",
              "\n",
              "  <svg xmlns=\"http://www.w3.org/2000/svg\" height=\"24px\" viewBox=\"0 -960 960 960\">\n",
              "    <path d=\"M120-120v-720h720v720H120Zm60-500h600v-160H180v160Zm220 220h160v-160H400v160Zm0 220h160v-160H400v160ZM180-400h160v-160H180v160Zm440 0h160v-160H620v160ZM180-180h160v-160H180v160Zm440 0h160v-160H620v160Z\"/>\n",
              "  </svg>\n",
              "    </button>\n",
              "\n",
              "  <style>\n",
              "    .colab-df-container {\n",
              "      display:flex;\n",
              "      gap: 12px;\n",
              "    }\n",
              "\n",
              "    .colab-df-convert {\n",
              "      background-color: #E8F0FE;\n",
              "      border: none;\n",
              "      border-radius: 50%;\n",
              "      cursor: pointer;\n",
              "      display: none;\n",
              "      fill: #1967D2;\n",
              "      height: 32px;\n",
              "      padding: 0 0 0 0;\n",
              "      width: 32px;\n",
              "    }\n",
              "\n",
              "    .colab-df-convert:hover {\n",
              "      background-color: #E2EBFA;\n",
              "      box-shadow: 0px 1px 2px rgba(60, 64, 67, 0.3), 0px 1px 3px 1px rgba(60, 64, 67, 0.15);\n",
              "      fill: #174EA6;\n",
              "    }\n",
              "\n",
              "    .colab-df-buttons div {\n",
              "      margin-bottom: 4px;\n",
              "    }\n",
              "\n",
              "    [theme=dark] .colab-df-convert {\n",
              "      background-color: #3B4455;\n",
              "      fill: #D2E3FC;\n",
              "    }\n",
              "\n",
              "    [theme=dark] .colab-df-convert:hover {\n",
              "      background-color: #434B5C;\n",
              "      box-shadow: 0px 1px 3px 1px rgba(0, 0, 0, 0.15);\n",
              "      filter: drop-shadow(0px 1px 2px rgba(0, 0, 0, 0.3));\n",
              "      fill: #FFFFFF;\n",
              "    }\n",
              "  </style>\n",
              "\n",
              "    <script>\n",
              "      const buttonEl =\n",
              "        document.querySelector('#df-fc49a4dc-3ba3-4520-9829-3a90b3f77708 button.colab-df-convert');\n",
              "      buttonEl.style.display =\n",
              "        google.colab.kernel.accessAllowed ? 'block' : 'none';\n",
              "\n",
              "      async function convertToInteractive(key) {\n",
              "        const element = document.querySelector('#df-fc49a4dc-3ba3-4520-9829-3a90b3f77708');\n",
              "        const dataTable =\n",
              "          await google.colab.kernel.invokeFunction('convertToInteractive',\n",
              "                                                    [key], {});\n",
              "        if (!dataTable) return;\n",
              "\n",
              "        const docLinkHtml = 'Like what you see? Visit the ' +\n",
              "          '<a target=\"_blank\" href=https://colab.research.google.com/notebooks/data_table.ipynb>data table notebook</a>'\n",
              "          + ' to learn more about interactive tables.';\n",
              "        element.innerHTML = '';\n",
              "        dataTable['output_type'] = 'display_data';\n",
              "        await google.colab.output.renderOutput(dataTable, element);\n",
              "        const docLink = document.createElement('div');\n",
              "        docLink.innerHTML = docLinkHtml;\n",
              "        element.appendChild(docLink);\n",
              "      }\n",
              "    </script>\n",
              "  </div>\n",
              "\n",
              "\n",
              "<div id=\"df-d691c7c5-d8d1-4eca-b5c6-89d10fc04042\">\n",
              "  <button class=\"colab-df-quickchart\" onclick=\"quickchart('df-d691c7c5-d8d1-4eca-b5c6-89d10fc04042')\"\n",
              "            title=\"Suggest charts\"\n",
              "            style=\"display:none;\">\n",
              "\n",
              "<svg xmlns=\"http://www.w3.org/2000/svg\" height=\"24px\"viewBox=\"0 0 24 24\"\n",
              "     width=\"24px\">\n",
              "    <g>\n",
              "        <path d=\"M19 3H5c-1.1 0-2 .9-2 2v14c0 1.1.9 2 2 2h14c1.1 0 2-.9 2-2V5c0-1.1-.9-2-2-2zM9 17H7v-7h2v7zm4 0h-2V7h2v10zm4 0h-2v-4h2v4z\"/>\n",
              "    </g>\n",
              "</svg>\n",
              "  </button>\n",
              "\n",
              "<style>\n",
              "  .colab-df-quickchart {\n",
              "      --bg-color: #E8F0FE;\n",
              "      --fill-color: #1967D2;\n",
              "      --hover-bg-color: #E2EBFA;\n",
              "      --hover-fill-color: #174EA6;\n",
              "      --disabled-fill-color: #AAA;\n",
              "      --disabled-bg-color: #DDD;\n",
              "  }\n",
              "\n",
              "  [theme=dark] .colab-df-quickchart {\n",
              "      --bg-color: #3B4455;\n",
              "      --fill-color: #D2E3FC;\n",
              "      --hover-bg-color: #434B5C;\n",
              "      --hover-fill-color: #FFFFFF;\n",
              "      --disabled-bg-color: #3B4455;\n",
              "      --disabled-fill-color: #666;\n",
              "  }\n",
              "\n",
              "  .colab-df-quickchart {\n",
              "    background-color: var(--bg-color);\n",
              "    border: none;\n",
              "    border-radius: 50%;\n",
              "    cursor: pointer;\n",
              "    display: none;\n",
              "    fill: var(--fill-color);\n",
              "    height: 32px;\n",
              "    padding: 0;\n",
              "    width: 32px;\n",
              "  }\n",
              "\n",
              "  .colab-df-quickchart:hover {\n",
              "    background-color: var(--hover-bg-color);\n",
              "    box-shadow: 0 1px 2px rgba(60, 64, 67, 0.3), 0 1px 3px 1px rgba(60, 64, 67, 0.15);\n",
              "    fill: var(--button-hover-fill-color);\n",
              "  }\n",
              "\n",
              "  .colab-df-quickchart-complete:disabled,\n",
              "  .colab-df-quickchart-complete:disabled:hover {\n",
              "    background-color: var(--disabled-bg-color);\n",
              "    fill: var(--disabled-fill-color);\n",
              "    box-shadow: none;\n",
              "  }\n",
              "\n",
              "  .colab-df-spinner {\n",
              "    border: 2px solid var(--fill-color);\n",
              "    border-color: transparent;\n",
              "    border-bottom-color: var(--fill-color);\n",
              "    animation:\n",
              "      spin 1s steps(1) infinite;\n",
              "  }\n",
              "\n",
              "  @keyframes spin {\n",
              "    0% {\n",
              "      border-color: transparent;\n",
              "      border-bottom-color: var(--fill-color);\n",
              "      border-left-color: var(--fill-color);\n",
              "    }\n",
              "    20% {\n",
              "      border-color: transparent;\n",
              "      border-left-color: var(--fill-color);\n",
              "      border-top-color: var(--fill-color);\n",
              "    }\n",
              "    30% {\n",
              "      border-color: transparent;\n",
              "      border-left-color: var(--fill-color);\n",
              "      border-top-color: var(--fill-color);\n",
              "      border-right-color: var(--fill-color);\n",
              "    }\n",
              "    40% {\n",
              "      border-color: transparent;\n",
              "      border-right-color: var(--fill-color);\n",
              "      border-top-color: var(--fill-color);\n",
              "    }\n",
              "    60% {\n",
              "      border-color: transparent;\n",
              "      border-right-color: var(--fill-color);\n",
              "    }\n",
              "    80% {\n",
              "      border-color: transparent;\n",
              "      border-right-color: var(--fill-color);\n",
              "      border-bottom-color: var(--fill-color);\n",
              "    }\n",
              "    90% {\n",
              "      border-color: transparent;\n",
              "      border-bottom-color: var(--fill-color);\n",
              "    }\n",
              "  }\n",
              "</style>\n",
              "\n",
              "  <script>\n",
              "    async function quickchart(key) {\n",
              "      const quickchartButtonEl =\n",
              "        document.querySelector('#' + key + ' button');\n",
              "      quickchartButtonEl.disabled = true;  // To prevent multiple clicks.\n",
              "      quickchartButtonEl.classList.add('colab-df-spinner');\n",
              "      try {\n",
              "        const charts = await google.colab.kernel.invokeFunction(\n",
              "            'suggestCharts', [key], {});\n",
              "      } catch (error) {\n",
              "        console.error('Error during call to suggestCharts:', error);\n",
              "      }\n",
              "      quickchartButtonEl.classList.remove('colab-df-spinner');\n",
              "      quickchartButtonEl.classList.add('colab-df-quickchart-complete');\n",
              "    }\n",
              "    (() => {\n",
              "      let quickchartButtonEl =\n",
              "        document.querySelector('#df-d691c7c5-d8d1-4eca-b5c6-89d10fc04042 button');\n",
              "      quickchartButtonEl.style.display =\n",
              "        google.colab.kernel.accessAllowed ? 'block' : 'none';\n",
              "    })();\n",
              "  </script>\n",
              "</div>\n",
              "    </div>\n",
              "  </div>\n"
            ]
          },
          "metadata": {},
          "execution_count": 76
        }
      ],
      "source": [
        "df_report_tri_full"
      ]
    },
    {
      "cell_type": "markdown",
      "metadata": {
        "id": "5lWZgGjwiGtX"
      },
      "source": [
        "#### Freezed Finetuned"
      ]
    },
    {
      "cell_type": "code",
      "execution_count": 77,
      "metadata": {
        "colab": {
          "base_uri": "https://localhost:8080/",
          "height": 112
        },
        "id": "bU73qZSgiGtX",
        "outputId": "3b53a07c-c800-4d27-e12b-92c6672acb32"
      },
      "outputs": [
        {
          "output_type": "execute_result",
          "data": {
            "text/plain": [
              "   f1-score  support encoded_label  label\n",
              "0  0.894949   3043.0         False  False\n",
              "1  0.119481    569.0          True   True"
            ],
            "text/html": [
              "\n",
              "  <div id=\"df-2a2a6413-a772-4b47-b59c-baf0a03ca173\" class=\"colab-df-container\">\n",
              "    <div>\n",
              "<style scoped>\n",
              "    .dataframe tbody tr th:only-of-type {\n",
              "        vertical-align: middle;\n",
              "    }\n",
              "\n",
              "    .dataframe tbody tr th {\n",
              "        vertical-align: top;\n",
              "    }\n",
              "\n",
              "    .dataframe thead th {\n",
              "        text-align: right;\n",
              "    }\n",
              "</style>\n",
              "<table border=\"1\" class=\"dataframe\">\n",
              "  <thead>\n",
              "    <tr style=\"text-align: right;\">\n",
              "      <th></th>\n",
              "      <th>f1-score</th>\n",
              "      <th>support</th>\n",
              "      <th>encoded_label</th>\n",
              "      <th>label</th>\n",
              "    </tr>\n",
              "  </thead>\n",
              "  <tbody>\n",
              "    <tr>\n",
              "      <th>0</th>\n",
              "      <td>0.894949</td>\n",
              "      <td>3043.0</td>\n",
              "      <td>False</td>\n",
              "      <td>False</td>\n",
              "    </tr>\n",
              "    <tr>\n",
              "      <th>1</th>\n",
              "      <td>0.119481</td>\n",
              "      <td>569.0</td>\n",
              "      <td>True</td>\n",
              "      <td>True</td>\n",
              "    </tr>\n",
              "  </tbody>\n",
              "</table>\n",
              "</div>\n",
              "    <div class=\"colab-df-buttons\">\n",
              "\n",
              "  <div class=\"colab-df-container\">\n",
              "    <button class=\"colab-df-convert\" onclick=\"convertToInteractive('df-2a2a6413-a772-4b47-b59c-baf0a03ca173')\"\n",
              "            title=\"Convert this dataframe to an interactive table.\"\n",
              "            style=\"display:none;\">\n",
              "\n",
              "  <svg xmlns=\"http://www.w3.org/2000/svg\" height=\"24px\" viewBox=\"0 -960 960 960\">\n",
              "    <path d=\"M120-120v-720h720v720H120Zm60-500h600v-160H180v160Zm220 220h160v-160H400v160Zm0 220h160v-160H400v160ZM180-400h160v-160H180v160Zm440 0h160v-160H620v160ZM180-180h160v-160H180v160Zm440 0h160v-160H620v160Z\"/>\n",
              "  </svg>\n",
              "    </button>\n",
              "\n",
              "  <style>\n",
              "    .colab-df-container {\n",
              "      display:flex;\n",
              "      gap: 12px;\n",
              "    }\n",
              "\n",
              "    .colab-df-convert {\n",
              "      background-color: #E8F0FE;\n",
              "      border: none;\n",
              "      border-radius: 50%;\n",
              "      cursor: pointer;\n",
              "      display: none;\n",
              "      fill: #1967D2;\n",
              "      height: 32px;\n",
              "      padding: 0 0 0 0;\n",
              "      width: 32px;\n",
              "    }\n",
              "\n",
              "    .colab-df-convert:hover {\n",
              "      background-color: #E2EBFA;\n",
              "      box-shadow: 0px 1px 2px rgba(60, 64, 67, 0.3), 0px 1px 3px 1px rgba(60, 64, 67, 0.15);\n",
              "      fill: #174EA6;\n",
              "    }\n",
              "\n",
              "    .colab-df-buttons div {\n",
              "      margin-bottom: 4px;\n",
              "    }\n",
              "\n",
              "    [theme=dark] .colab-df-convert {\n",
              "      background-color: #3B4455;\n",
              "      fill: #D2E3FC;\n",
              "    }\n",
              "\n",
              "    [theme=dark] .colab-df-convert:hover {\n",
              "      background-color: #434B5C;\n",
              "      box-shadow: 0px 1px 3px 1px rgba(0, 0, 0, 0.15);\n",
              "      filter: drop-shadow(0px 1px 2px rgba(0, 0, 0, 0.3));\n",
              "      fill: #FFFFFF;\n",
              "    }\n",
              "  </style>\n",
              "\n",
              "    <script>\n",
              "      const buttonEl =\n",
              "        document.querySelector('#df-2a2a6413-a772-4b47-b59c-baf0a03ca173 button.colab-df-convert');\n",
              "      buttonEl.style.display =\n",
              "        google.colab.kernel.accessAllowed ? 'block' : 'none';\n",
              "\n",
              "      async function convertToInteractive(key) {\n",
              "        const element = document.querySelector('#df-2a2a6413-a772-4b47-b59c-baf0a03ca173');\n",
              "        const dataTable =\n",
              "          await google.colab.kernel.invokeFunction('convertToInteractive',\n",
              "                                                    [key], {});\n",
              "        if (!dataTable) return;\n",
              "\n",
              "        const docLinkHtml = 'Like what you see? Visit the ' +\n",
              "          '<a target=\"_blank\" href=https://colab.research.google.com/notebooks/data_table.ipynb>data table notebook</a>'\n",
              "          + ' to learn more about interactive tables.';\n",
              "        element.innerHTML = '';\n",
              "        dataTable['output_type'] = 'display_data';\n",
              "        await google.colab.output.renderOutput(dataTable, element);\n",
              "        const docLink = document.createElement('div');\n",
              "        docLink.innerHTML = docLinkHtml;\n",
              "        element.appendChild(docLink);\n",
              "      }\n",
              "    </script>\n",
              "  </div>\n",
              "\n",
              "\n",
              "<div id=\"df-6a274c28-82c2-4bad-b1ee-6559321e7e28\">\n",
              "  <button class=\"colab-df-quickchart\" onclick=\"quickchart('df-6a274c28-82c2-4bad-b1ee-6559321e7e28')\"\n",
              "            title=\"Suggest charts\"\n",
              "            style=\"display:none;\">\n",
              "\n",
              "<svg xmlns=\"http://www.w3.org/2000/svg\" height=\"24px\"viewBox=\"0 0 24 24\"\n",
              "     width=\"24px\">\n",
              "    <g>\n",
              "        <path d=\"M19 3H5c-1.1 0-2 .9-2 2v14c0 1.1.9 2 2 2h14c1.1 0 2-.9 2-2V5c0-1.1-.9-2-2-2zM9 17H7v-7h2v7zm4 0h-2V7h2v10zm4 0h-2v-4h2v4z\"/>\n",
              "    </g>\n",
              "</svg>\n",
              "  </button>\n",
              "\n",
              "<style>\n",
              "  .colab-df-quickchart {\n",
              "      --bg-color: #E8F0FE;\n",
              "      --fill-color: #1967D2;\n",
              "      --hover-bg-color: #E2EBFA;\n",
              "      --hover-fill-color: #174EA6;\n",
              "      --disabled-fill-color: #AAA;\n",
              "      --disabled-bg-color: #DDD;\n",
              "  }\n",
              "\n",
              "  [theme=dark] .colab-df-quickchart {\n",
              "      --bg-color: #3B4455;\n",
              "      --fill-color: #D2E3FC;\n",
              "      --hover-bg-color: #434B5C;\n",
              "      --hover-fill-color: #FFFFFF;\n",
              "      --disabled-bg-color: #3B4455;\n",
              "      --disabled-fill-color: #666;\n",
              "  }\n",
              "\n",
              "  .colab-df-quickchart {\n",
              "    background-color: var(--bg-color);\n",
              "    border: none;\n",
              "    border-radius: 50%;\n",
              "    cursor: pointer;\n",
              "    display: none;\n",
              "    fill: var(--fill-color);\n",
              "    height: 32px;\n",
              "    padding: 0;\n",
              "    width: 32px;\n",
              "  }\n",
              "\n",
              "  .colab-df-quickchart:hover {\n",
              "    background-color: var(--hover-bg-color);\n",
              "    box-shadow: 0 1px 2px rgba(60, 64, 67, 0.3), 0 1px 3px 1px rgba(60, 64, 67, 0.15);\n",
              "    fill: var(--button-hover-fill-color);\n",
              "  }\n",
              "\n",
              "  .colab-df-quickchart-complete:disabled,\n",
              "  .colab-df-quickchart-complete:disabled:hover {\n",
              "    background-color: var(--disabled-bg-color);\n",
              "    fill: var(--disabled-fill-color);\n",
              "    box-shadow: none;\n",
              "  }\n",
              "\n",
              "  .colab-df-spinner {\n",
              "    border: 2px solid var(--fill-color);\n",
              "    border-color: transparent;\n",
              "    border-bottom-color: var(--fill-color);\n",
              "    animation:\n",
              "      spin 1s steps(1) infinite;\n",
              "  }\n",
              "\n",
              "  @keyframes spin {\n",
              "    0% {\n",
              "      border-color: transparent;\n",
              "      border-bottom-color: var(--fill-color);\n",
              "      border-left-color: var(--fill-color);\n",
              "    }\n",
              "    20% {\n",
              "      border-color: transparent;\n",
              "      border-left-color: var(--fill-color);\n",
              "      border-top-color: var(--fill-color);\n",
              "    }\n",
              "    30% {\n",
              "      border-color: transparent;\n",
              "      border-left-color: var(--fill-color);\n",
              "      border-top-color: var(--fill-color);\n",
              "      border-right-color: var(--fill-color);\n",
              "    }\n",
              "    40% {\n",
              "      border-color: transparent;\n",
              "      border-right-color: var(--fill-color);\n",
              "      border-top-color: var(--fill-color);\n",
              "    }\n",
              "    60% {\n",
              "      border-color: transparent;\n",
              "      border-right-color: var(--fill-color);\n",
              "    }\n",
              "    80% {\n",
              "      border-color: transparent;\n",
              "      border-right-color: var(--fill-color);\n",
              "      border-bottom-color: var(--fill-color);\n",
              "    }\n",
              "    90% {\n",
              "      border-color: transparent;\n",
              "      border-bottom-color: var(--fill-color);\n",
              "    }\n",
              "  }\n",
              "</style>\n",
              "\n",
              "  <script>\n",
              "    async function quickchart(key) {\n",
              "      const quickchartButtonEl =\n",
              "        document.querySelector('#' + key + ' button');\n",
              "      quickchartButtonEl.disabled = true;  // To prevent multiple clicks.\n",
              "      quickchartButtonEl.classList.add('colab-df-spinner');\n",
              "      try {\n",
              "        const charts = await google.colab.kernel.invokeFunction(\n",
              "            'suggestCharts', [key], {});\n",
              "      } catch (error) {\n",
              "        console.error('Error during call to suggestCharts:', error);\n",
              "      }\n",
              "      quickchartButtonEl.classList.remove('colab-df-spinner');\n",
              "      quickchartButtonEl.classList.add('colab-df-quickchart-complete');\n",
              "    }\n",
              "    (() => {\n",
              "      let quickchartButtonEl =\n",
              "        document.querySelector('#df-6a274c28-82c2-4bad-b1ee-6559321e7e28 button');\n",
              "      quickchartButtonEl.style.display =\n",
              "        google.colab.kernel.accessAllowed ? 'block' : 'none';\n",
              "    })();\n",
              "  </script>\n",
              "</div>\n",
              "    </div>\n",
              "  </div>\n"
            ]
          },
          "metadata": {},
          "execution_count": 77
        }
      ],
      "source": [
        "df_report_tri_freezed"
      ]
    },
    {
      "cell_type": "markdown",
      "metadata": {
        "id": "GAaHH3IKXQOQ"
      },
      "source": [
        "The trigger for its nature is quite rare in the dataset and it requires a deeply understanding of the meaning of the sentence. So it doesn't surprise to see that's it's more difficult for the model to be identified."
      ]
    },
    {
      "cell_type": "markdown",
      "metadata": {
        "id": "ec_-BPZ2iGtX"
      },
      "source": [
        "#### Fully finetuned CM"
      ]
    },
    {
      "cell_type": "code",
      "execution_count": 78,
      "metadata": {
        "colab": {
          "base_uri": "https://localhost:8080/",
          "height": 824
        },
        "id": "A2y-vHzWUMLu",
        "outputId": "65e1b9c1-5aea-48c8-806b-ceabfcb501ce"
      },
      "outputs": [
        {
          "output_type": "execute_result",
          "data": {
            "text/plain": [
              "<sklearn.metrics._plot.confusion_matrix.ConfusionMatrixDisplay at 0x7fca6272b040>"
            ]
          },
          "metadata": {},
          "execution_count": 78
        },
        {
          "output_type": "display_data",
          "data": {
            "text/plain": [
              "<Figure size 1000x1000 with 2 Axes>"
            ],
            "image/png": "[encoded data removed]"
          },
          "metadata": {}
        }
      ],
      "source": [
        "fig, ax = plt.subplots(figsize=(10,10))\n",
        "cm_disp_full.plot(ax=ax)"
      ]
    },
    {
      "cell_type": "markdown",
      "metadata": {
        "id": "TZTT3nn_iGtX"
      },
      "source": [
        "#### Freezed finetuned CM"
      ]
    },
    {
      "cell_type": "code",
      "execution_count": 79,
      "metadata": {
        "colab": {
          "base_uri": "https://localhost:8080/",
          "height": 824
        },
        "id": "nWSdc3NstH9h",
        "outputId": "d9bc38ed-88db-4084-ae91-38abb46b6ba4"
      },
      "outputs": [
        {
          "output_type": "execute_result",
          "data": {
            "text/plain": [
              "<sklearn.metrics._plot.confusion_matrix.ConfusionMatrixDisplay at 0x7fca62768580>"
            ]
          },
          "metadata": {},
          "execution_count": 79
        },
        {
          "output_type": "display_data",
          "data": {
            "text/plain": [
              "<Figure size 1000x1000 with 2 Axes>"
            ],
            "image/png": "[encoded data removed]"
          },
          "metadata": {}
        }
      ],
      "source": [
        "fig, ax = plt.subplots(figsize=(10,10))\n",
        "cm_disp_freezed.plot(ax=ax)"
      ]
    },
    {
      "cell_type": "markdown",
      "metadata": {
        "id": "UdZQgiLMO2YS"
      },
      "source": [
        "For the triggers analysis, it could be usefull to observe if there are emotion for which an error is more frequent"
      ]
    },
    {
      "cell_type": "markdown",
      "metadata": {
        "id": "DHYxe_J4PQZT"
      },
      "source": [
        "First of all, let's show the frequence of triggers related to the emotion"
      ]
    },
    {
      "cell_type": "code",
      "execution_count": 80,
      "metadata": {
        "colab": {
          "base_uri": "https://localhost:8080/",
          "height": 445
        },
        "id": "9UGUNpmTKYFh",
        "outputId": "e6032bd3-294e-4a33-f0a5-4ea505763872"
      },
      "outputs": [
        {
          "output_type": "display_data",
          "data": {
            "text/plain": [
              "<Figure size 1000x500 with 1 Axes>"
            ],
            "image/png": "[encoded data removed]"
          },
          "metadata": {}
        }
      ],
      "source": [
        "df_report_tri = df_test[df_test[\"trigger\"] == 1]\n",
        "plt.figure(figsize=(10,5))\n",
        "plt.hist([df_report_tri.emotion, df_test.emotion],\n",
        "                density=True,\n",
        "                label=[\"Triggers\", \"Distribution\"],\n",
        "                histtype=\"bar\",\n",
        "                )\n",
        "\n",
        "plt.legend()\n",
        "plt.show()"
      ]
    },
    {
      "cell_type": "markdown",
      "metadata": {
        "id": "5dY5kIm1TVMh"
      },
      "source": [
        "The triggers are well distributed among the emotions."
      ]
    },
    {
      "cell_type": "markdown",
      "metadata": {
        "id": "OtSvpsHFiGtY"
      },
      "source": [
        "#### Fully finetuned"
      ]
    },
    {
      "cell_type": "code",
      "execution_count": 81,
      "metadata": {
        "colab": {
          "base_uri": "https://localhost:8080/",
          "height": 445
        },
        "id": "8WUgzNDyPu_k",
        "outputId": "31660b67-af36-487e-b890-a43994755e2a"
      },
      "outputs": [
        {
          "output_type": "display_data",
          "data": {
            "text/plain": [
              "<Figure size 1000x500 with 1 Axes>"
            ],
            "image/png": "[encoded data removed]"
          },
          "metadata": {}
        }
      ],
      "source": [
        "df_report_tri_full = df_test_full[df_test_full[\"trigger\"] != df_test_full[\"predicted_tri\"]]\n",
        "plt.figure(figsize=(10,5))\n",
        "plt.hist(df_report_tri_full.emotion,\n",
        "                density=True,\n",
        "                label=\"Wrong prediction\",\n",
        "                histtype=\"bar\",\n",
        "                rwidth=0.7\n",
        "                )\n",
        "plt.legend()\n",
        "plt.show()"
      ]
    },
    {
      "cell_type": "markdown",
      "metadata": {
        "id": "0opccuqZiGtY"
      },
      "source": [
        "#### Freezed finetuned"
      ]
    },
    {
      "cell_type": "code",
      "execution_count": 82,
      "metadata": {
        "colab": {
          "base_uri": "https://localhost:8080/",
          "height": 445
        },
        "id": "bRKIAqvDiGtY",
        "outputId": "4f65683c-e5ec-4107-d256-6bdc53defbb8"
      },
      "outputs": [
        {
          "output_type": "display_data",
          "data": {
            "text/plain": [
              "<Figure size 1000x500 with 1 Axes>"
            ],
            "image/png": "[encoded data removed]"
          },
          "metadata": {}
        }
      ],
      "source": [
        "df_report_tri_freezed = df_test_freezed[df_test_freezed[\"trigger\"] != df_test_freezed[\"predicted_tri\"]]\n",
        "plt.figure(figsize=(10,5))\n",
        "plt.hist(df_report_tri_freezed.emotion,\n",
        "                density=True,\n",
        "                label=\"Wrong prediction\",\n",
        "                histtype=\"bar\",\n",
        "                rwidth=0.7\n",
        "                )\n",
        "plt.legend()\n",
        "plt.show()"
      ]
    },
    {
      "cell_type": "markdown",
      "metadata": {
        "id": "tQs5raC1X26d"
      },
      "source": [
        "From the showed graph, is possible to see that the model fails the most to undestand the trigger when it's caused by a neutral sentence."
      ]
    }
  ],
  "metadata": {
    "accelerator": "GPU",
    "colab": {
      "gpuType": "T4",
      "provenance": []
    },
    "kernelspec": {
      "display_name": "Python 3",
      "name": "python3"
    },
    "language_info": {
      "codemirror_mode": {
        "name": "ipython",
        "version": 3
      },
      "file_extension": ".py",
      "mimetype": "text/x-python",
      "name": "python",
      "nbconvert_exporter": "python",
      "pygments_lexer": "ipython3",
      "version": "3.10.12"
    }
  },
  "nbformat": 4,
  "nbformat_minor": 0
}