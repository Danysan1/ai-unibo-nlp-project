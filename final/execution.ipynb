{
  "cells": [
    {
      "cell_type": "markdown",
      "metadata": {
        "id": "Y-JyBx6myd0h"
      },
      "source": [
        "[![Open In Colab](https://colab.research.google.com/assets/colab-badge.svg)](https://colab.research.google.com/github/Danysan1/ai-unibo-nlp-project/blob/main/final/execution.ipynb)\n",
        "[![Open in Kaggle](https://kaggle.com/static/images/open-in-kaggle.svg)](https://kaggle.com/kernels/welcome?src=https://github.com/Danysan1/ai-unibo-nlp-project/blob/main/final/execution.ipynb)\n",
        "[![Open in SageMaker Studio Lab](https://studiolab.sagemaker.aws/studiolab.svg)](https://studiolab.sagemaker.aws/import/github/Danysan1/ai-unibo-nlp-project/tree/main/final/execution.ipynb)"
      ]
    },
    {
      "cell_type": "markdown",
      "metadata": {
        "id": "dlJhpqc_0Jmk"
      },
      "source": [
        "# Final project"
      ]
    },
    {
      "cell_type": "markdown",
      "metadata": {
        "id": "g6HWqCPE0Jmo"
      },
      "source": [
        "## Imports and Initial Settings"
      ]
    },
    {
      "cell_type": "code",
      "execution_count": 1,
      "metadata": {
        "colab": {
          "base_uri": "https://localhost:8080/"
        },
        "id": "jFpxvvaX0Jmp",
        "outputId": "c18c5a6d-93ae-4847-c762-9ca64908e109"
      },
      "outputs": [
        {
          "output_type": "stream",
          "name": "stdout",
          "text": [
            "Requirement already satisfied: pandas in /usr/local/lib/python3.10/dist-packages (1.5.3)\n",
            "Requirement already satisfied: numpy in /usr/local/lib/python3.10/dist-packages (1.23.5)\n",
            "Requirement already satisfied: matplotlib in /usr/local/lib/python3.10/dist-packages (3.7.1)\n",
            "Requirement already satisfied: transformers in /usr/local/lib/python3.10/dist-packages (4.35.2)\n",
            "Requirement already satisfied: dataset in /usr/local/lib/python3.10/dist-packages (1.6.2)\n",
            "Requirement already satisfied: python-dateutil>=2.8.1 in /usr/local/lib/python3.10/dist-packages (from pandas) (2.8.2)\n",
            "Requirement already satisfied: pytz>=2020.1 in /usr/local/lib/python3.10/dist-packages (from pandas) (2023.3.post1)\n",
            "Requirement already satisfied: contourpy>=1.0.1 in /usr/local/lib/python3.10/dist-packages (from matplotlib) (1.2.0)\n",
            "Requirement already satisfied: cycler>=0.10 in /usr/local/lib/python3.10/dist-packages (from matplotlib) (0.12.1)\n",
            "Requirement already satisfied: fonttools>=4.22.0 in /usr/local/lib/python3.10/dist-packages (from matplotlib) (4.45.1)\n",
            "Requirement already satisfied: kiwisolver>=1.0.1 in /usr/local/lib/python3.10/dist-packages (from matplotlib) (1.4.5)\n",
            "Requirement already satisfied: packaging>=20.0 in /usr/local/lib/python3.10/dist-packages (from matplotlib) (23.2)\n",
            "Requirement already satisfied: pillow>=6.2.0 in /usr/local/lib/python3.10/dist-packages (from matplotlib) (9.4.0)\n",
            "Requirement already satisfied: pyparsing>=2.3.1 in /usr/local/lib/python3.10/dist-packages (from matplotlib) (3.1.1)\n",
            "Requirement already satisfied: filelock in /usr/local/lib/python3.10/dist-packages (from transformers) (3.13.1)\n",
            "Requirement already satisfied: huggingface-hub<1.0,>=0.16.4 in /usr/local/lib/python3.10/dist-packages (from transformers) (0.19.4)\n",
            "Requirement already satisfied: pyyaml>=5.1 in /usr/local/lib/python3.10/dist-packages (from transformers) (6.0.1)\n",
            "Requirement already satisfied: regex!=2019.12.17 in /usr/local/lib/python3.10/dist-packages (from transformers) (2023.6.3)\n",
            "Requirement already satisfied: requests in /usr/local/lib/python3.10/dist-packages (from transformers) (2.31.0)\n",
            "Requirement already satisfied: tokenizers<0.19,>=0.14 in /usr/local/lib/python3.10/dist-packages (from transformers) (0.15.0)\n",
            "Requirement already satisfied: safetensors>=0.3.1 in /usr/local/lib/python3.10/dist-packages (from transformers) (0.4.1)\n",
            "Requirement already satisfied: tqdm>=4.27 in /usr/local/lib/python3.10/dist-packages (from transformers) (4.66.1)\n",
            "Requirement already satisfied: sqlalchemy<2.0.0,>=1.3.2 in /usr/local/lib/python3.10/dist-packages (from dataset) (1.4.50)\n",
            "Requirement already satisfied: alembic>=0.6.2 in /usr/local/lib/python3.10/dist-packages (from dataset) (1.13.0)\n",
            "Requirement already satisfied: banal>=1.0.1 in /usr/local/lib/python3.10/dist-packages (from dataset) (1.0.6)\n",
            "Requirement already satisfied: Mako in /usr/local/lib/python3.10/dist-packages (from alembic>=0.6.2->dataset) (1.3.0)\n",
            "Requirement already satisfied: typing-extensions>=4 in /usr/local/lib/python3.10/dist-packages (from alembic>=0.6.2->dataset) (4.5.0)\n",
            "Requirement already satisfied: fsspec>=2023.5.0 in /usr/local/lib/python3.10/dist-packages (from huggingface-hub<1.0,>=0.16.4->transformers) (2023.6.0)\n",
            "Requirement already satisfied: six>=1.5 in /usr/local/lib/python3.10/dist-packages (from python-dateutil>=2.8.1->pandas) (1.16.0)\n",
            "Requirement already satisfied: greenlet!=0.4.17 in /usr/local/lib/python3.10/dist-packages (from sqlalchemy<2.0.0,>=1.3.2->dataset) (3.0.1)\n",
            "Requirement already satisfied: charset-normalizer<4,>=2 in /usr/local/lib/python3.10/dist-packages (from requests->transformers) (3.3.2)\n",
            "Requirement already satisfied: idna<4,>=2.5 in /usr/local/lib/python3.10/dist-packages (from requests->transformers) (3.6)\n",
            "Requirement already satisfied: urllib3<3,>=1.21.1 in /usr/local/lib/python3.10/dist-packages (from requests->transformers) (2.0.7)\n",
            "Requirement already satisfied: certifi>=2017.4.17 in /usr/local/lib/python3.10/dist-packages (from requests->transformers) (2023.11.17)\n",
            "Requirement already satisfied: MarkupSafe>=0.9.2 in /usr/local/lib/python3.10/dist-packages (from Mako->alembic>=0.6.2->dataset) (2.1.3)\n"
          ]
        }
      ],
      "source": [
        "%pip install pandas numpy matplotlib transformers dataset"
      ]
    },
    {
      "cell_type": "code",
      "execution_count": 2,
      "metadata": {
        "id": "TsB9AQ1l0Jmr"
      },
      "outputs": [],
      "source": [
        "import numpy as np\n",
        "import random\n",
        "import torch\n",
        "import pandas as pd\n",
        "from os import path\n",
        "from sklearn.model_selection import train_test_split\n",
        "import random\n",
        "import gc\n",
        "import torch\n",
        "import transformers\n",
        "from tqdm import tqdm\n",
        "from typing import Callable, Dict, List, Tuple\n",
        "from timeit import default_timer as timer\n",
        "from transformers import EncoderDecoderModel, AutoTokenizer, PreTrainedTokenizer, BatchEncoding\n",
        "from torch.utils.data import Dataset, DataLoader, SubsetRandomSampler"
      ]
    },
    {
      "cell_type": "code",
      "execution_count": 3,
      "metadata": {
        "id": "vXIZjw9y0Jms"
      },
      "outputs": [],
      "source": [
        "# Fix the random state to 42\n",
        "SEED = 42\n",
        "\n",
        "def fix_seed(seed: int) -> None:\n",
        "    \"\"\"Fix all the possible sources of randomness.\n",
        "\n",
        "    Args:\n",
        "        seed: the seed to use.\n",
        "    \"\"\"\n",
        "    np.random.seed(seed)\n",
        "    random.seed(seed)\n",
        "    torch.manual_seed(seed)\n",
        "    torch.cuda.manual_seed(seed)\n",
        "\n",
        "    torch.backends.cudnn.benchmark = False\n",
        "    torch.backends.cudnn.deterministic = True\n",
        "\n",
        "fix_seed(SEED)"
      ]
    },
    {
      "cell_type": "markdown",
      "metadata": {
        "id": "l4QiHmU60Jms"
      },
      "source": [
        "## Dataset Loading"
      ]
    },
    {
      "cell_type": "code",
      "execution_count": 4,
      "metadata": {
        "id": "aqJX5H4D0Jms"
      },
      "outputs": [],
      "source": [
        "data_folder = 'Dataset'\n",
        "\n",
        "def load__dataset(filename:str) -> pd.DataFrame:\n",
        "    with open(path.join(data_folder, filename)) as file_obj:\n",
        "        data = pd.read_json(file_obj, dtype={'episode':str,'speakers':np.array})\n",
        "        return data"
      ]
    },
    {
      "cell_type": "code",
      "execution_count": 5,
      "metadata": {
        "colab": {
          "base_uri": "https://localhost:8080/",
          "height": 293
        },
        "id": "q4MOSXg70Jmt",
        "outputId": "88f22432-97e3-4aee-8b08-83d0dab0bb64"
      },
      "outputs": [
        {
          "output_type": "execute_result",
          "data": {
            "text/plain": [
              "       episode                                           speakers  \\\n",
              "0  utterance_0  [Chandler, The Interviewer, Chandler, The Inte...   \n",
              "1  utterance_1  [Chandler, The Interviewer, Chandler, The Inte...   \n",
              "2  utterance_2  [Chandler, The Interviewer, Chandler, The Inte...   \n",
              "3  utterance_3  [Chandler, The Interviewer, Chandler, The Inte...   \n",
              "4  utterance_4                       [Joey, Rachel, Joey, Rachel]   \n",
              "\n",
              "                                            emotions  \\\n",
              "0     [neutral, neutral, neutral, neutral, surprise]   \n",
              "1  [neutral, neutral, neutral, neutral, surprise,...   \n",
              "2  [neutral, neutral, neutral, neutral, surprise,...   \n",
              "3  [neutral, neutral, neutral, neutral, surprise,...   \n",
              "4                [surprise, sadness, surprise, fear]   \n",
              "\n",
              "                                          utterances  \\\n",
              "0  [also I was the point person on my company's t...   \n",
              "1  [also I was the point person on my company's t...   \n",
              "2  [also I was the point person on my company's t...   \n",
              "3  [also I was the point person on my company's t...   \n",
              "4  [But then who? The waitress I went out with la...   \n",
              "\n",
              "                                            triggers  \n",
              "0                          [0.0, 0.0, 0.0, 1.0, 0.0]  \n",
              "1                [0.0, 0.0, 0.0, 0.0, 0.0, 1.0, 0.0]  \n",
              "2  [0.0, 0.0, 0.0, 0.0, 0.0, 0.0, 0.0, 1.0, 0.0, ...  \n",
              "3  [0.0, 0.0, 0.0, 0.0, 0.0, 0.0, 0.0, 0.0, 0.0, ...  \n",
              "4                               [0.0, 0.0, 1.0, 0.0]  "
            ],
            "text/html": [
              "\n",
              "  <div id=\"df-19462868-2365-4a4f-999a-b850b17661c0\" class=\"colab-df-container\">\n",
              "    <div>\n",
              "<style scoped>\n",
              "    .dataframe tbody tr th:only-of-type {\n",
              "        vertical-align: middle;\n",
              "    }\n",
              "\n",
              "    .dataframe tbody tr th {\n",
              "        vertical-align: top;\n",
              "    }\n",
              "\n",
              "    .dataframe thead th {\n",
              "        text-align: right;\n",
              "    }\n",
              "</style>\n",
              "<table border=\"1\" class=\"dataframe\">\n",
              "  <thead>\n",
              "    <tr style=\"text-align: right;\">\n",
              "      <th></th>\n",
              "      <th>episode</th>\n",
              "      <th>speakers</th>\n",
              "      <th>emotions</th>\n",
              "      <th>utterances</th>\n",
              "      <th>triggers</th>\n",
              "    </tr>\n",
              "  </thead>\n",
              "  <tbody>\n",
              "    <tr>\n",
              "      <th>0</th>\n",
              "      <td>utterance_0</td>\n",
              "      <td>[Chandler, The Interviewer, Chandler, The Inte...</td>\n",
              "      <td>[neutral, neutral, neutral, neutral, surprise]</td>\n",
              "      <td>[also I was the point person on my company's t...</td>\n",
              "      <td>[0.0, 0.0, 0.0, 1.0, 0.0]</td>\n",
              "    </tr>\n",
              "    <tr>\n",
              "      <th>1</th>\n",
              "      <td>utterance_1</td>\n",
              "      <td>[Chandler, The Interviewer, Chandler, The Inte...</td>\n",
              "      <td>[neutral, neutral, neutral, neutral, surprise,...</td>\n",
              "      <td>[also I was the point person on my company's t...</td>\n",
              "      <td>[0.0, 0.0, 0.0, 0.0, 0.0, 1.0, 0.0]</td>\n",
              "    </tr>\n",
              "    <tr>\n",
              "      <th>2</th>\n",
              "      <td>utterance_2</td>\n",
              "      <td>[Chandler, The Interviewer, Chandler, The Inte...</td>\n",
              "      <td>[neutral, neutral, neutral, neutral, surprise,...</td>\n",
              "      <td>[also I was the point person on my company's t...</td>\n",
              "      <td>[0.0, 0.0, 0.0, 0.0, 0.0, 0.0, 0.0, 1.0, 0.0, ...</td>\n",
              "    </tr>\n",
              "    <tr>\n",
              "      <th>3</th>\n",
              "      <td>utterance_3</td>\n",
              "      <td>[Chandler, The Interviewer, Chandler, The Inte...</td>\n",
              "      <td>[neutral, neutral, neutral, neutral, surprise,...</td>\n",
              "      <td>[also I was the point person on my company's t...</td>\n",
              "      <td>[0.0, 0.0, 0.0, 0.0, 0.0, 0.0, 0.0, 0.0, 0.0, ...</td>\n",
              "    </tr>\n",
              "    <tr>\n",
              "      <th>4</th>\n",
              "      <td>utterance_4</td>\n",
              "      <td>[Joey, Rachel, Joey, Rachel]</td>\n",
              "      <td>[surprise, sadness, surprise, fear]</td>\n",
              "      <td>[But then who? The waitress I went out with la...</td>\n",
              "      <td>[0.0, 0.0, 1.0, 0.0]</td>\n",
              "    </tr>\n",
              "  </tbody>\n",
              "</table>\n",
              "</div>\n",
              "    <div class=\"colab-df-buttons\">\n",
              "\n",
              "  <div class=\"colab-df-container\">\n",
              "    <button class=\"colab-df-convert\" onclick=\"convertToInteractive('df-19462868-2365-4a4f-999a-b850b17661c0')\"\n",
              "            title=\"Convert this dataframe to an interactive table.\"\n",
              "            style=\"display:none;\">\n",
              "\n",
              "  <svg xmlns=\"http://www.w3.org/2000/svg\" height=\"24px\" viewBox=\"0 -960 960 960\">\n",
              "    <path d=\"M120-120v-720h720v720H120Zm60-500h600v-160H180v160Zm220 220h160v-160H400v160Zm0 220h160v-160H400v160ZM180-400h160v-160H180v160Zm440 0h160v-160H620v160ZM180-180h160v-160H180v160Zm440 0h160v-160H620v160Z\"/>\n",
              "  </svg>\n",
              "    </button>\n",
              "\n",
              "  <style>\n",
              "    .colab-df-container {\n",
              "      display:flex;\n",
              "      gap: 12px;\n",
              "    }\n",
              "\n",
              "    .colab-df-convert {\n",
              "      background-color: #E8F0FE;\n",
              "      border: none;\n",
              "      border-radius: 50%;\n",
              "      cursor: pointer;\n",
              "      display: none;\n",
              "      fill: #1967D2;\n",
              "      height: 32px;\n",
              "      padding: 0 0 0 0;\n",
              "      width: 32px;\n",
              "    }\n",
              "\n",
              "    .colab-df-convert:hover {\n",
              "      background-color: #E2EBFA;\n",
              "      box-shadow: 0px 1px 2px rgba(60, 64, 67, 0.3), 0px 1px 3px 1px rgba(60, 64, 67, 0.15);\n",
              "      fill: #174EA6;\n",
              "    }\n",
              "\n",
              "    .colab-df-buttons div {\n",
              "      margin-bottom: 4px;\n",
              "    }\n",
              "\n",
              "    [theme=dark] .colab-df-convert {\n",
              "      background-color: #3B4455;\n",
              "      fill: #D2E3FC;\n",
              "    }\n",
              "\n",
              "    [theme=dark] .colab-df-convert:hover {\n",
              "      background-color: #434B5C;\n",
              "      box-shadow: 0px 1px 3px 1px rgba(0, 0, 0, 0.15);\n",
              "      filter: drop-shadow(0px 1px 2px rgba(0, 0, 0, 0.3));\n",
              "      fill: #FFFFFF;\n",
              "    }\n",
              "  </style>\n",
              "\n",
              "    <script>\n",
              "      const buttonEl =\n",
              "        document.querySelector('#df-19462868-2365-4a4f-999a-b850b17661c0 button.colab-df-convert');\n",
              "      buttonEl.style.display =\n",
              "        google.colab.kernel.accessAllowed ? 'block' : 'none';\n",
              "\n",
              "      async function convertToInteractive(key) {\n",
              "        const element = document.querySelector('#df-19462868-2365-4a4f-999a-b850b17661c0');\n",
              "        const dataTable =\n",
              "          await google.colab.kernel.invokeFunction('convertToInteractive',\n",
              "                                                    [key], {});\n",
              "        if (!dataTable) return;\n",
              "\n",
              "        const docLinkHtml = 'Like what you see? Visit the ' +\n",
              "          '<a target=\"_blank\" href=https://colab.research.google.com/notebooks/data_table.ipynb>data table notebook</a>'\n",
              "          + ' to learn more about interactive tables.';\n",
              "        element.innerHTML = '';\n",
              "        dataTable['output_type'] = 'display_data';\n",
              "        await google.colab.output.renderOutput(dataTable, element);\n",
              "        const docLink = document.createElement('div');\n",
              "        docLink.innerHTML = docLinkHtml;\n",
              "        element.appendChild(docLink);\n",
              "      }\n",
              "    </script>\n",
              "  </div>\n",
              "\n",
              "\n",
              "<div id=\"df-f613f5f8-3365-4ac7-a5dd-bbd49fdf769d\">\n",
              "  <button class=\"colab-df-quickchart\" onclick=\"quickchart('df-f613f5f8-3365-4ac7-a5dd-bbd49fdf769d')\"\n",
              "            title=\"Suggest charts\"\n",
              "            style=\"display:none;\">\n",
              "\n",
              "<svg xmlns=\"http://www.w3.org/2000/svg\" height=\"24px\"viewBox=\"0 0 24 24\"\n",
              "     width=\"24px\">\n",
              "    <g>\n",
              "        <path d=\"M19 3H5c-1.1 0-2 .9-2 2v14c0 1.1.9 2 2 2h14c1.1 0 2-.9 2-2V5c0-1.1-.9-2-2-2zM9 17H7v-7h2v7zm4 0h-2V7h2v10zm4 0h-2v-4h2v4z\"/>\n",
              "    </g>\n",
              "</svg>\n",
              "  </button>\n",
              "\n",
              "<style>\n",
              "  .colab-df-quickchart {\n",
              "      --bg-color: #E8F0FE;\n",
              "      --fill-color: #1967D2;\n",
              "      --hover-bg-color: #E2EBFA;\n",
              "      --hover-fill-color: #174EA6;\n",
              "      --disabled-fill-color: #AAA;\n",
              "      --disabled-bg-color: #DDD;\n",
              "  }\n",
              "\n",
              "  [theme=dark] .colab-df-quickchart {\n",
              "      --bg-color: #3B4455;\n",
              "      --fill-color: #D2E3FC;\n",
              "      --hover-bg-color: #434B5C;\n",
              "      --hover-fill-color: #FFFFFF;\n",
              "      --disabled-bg-color: #3B4455;\n",
              "      --disabled-fill-color: #666;\n",
              "  }\n",
              "\n",
              "  .colab-df-quickchart {\n",
              "    background-color: var(--bg-color);\n",
              "    border: none;\n",
              "    border-radius: 50%;\n",
              "    cursor: pointer;\n",
              "    display: none;\n",
              "    fill: var(--fill-color);\n",
              "    height: 32px;\n",
              "    padding: 0;\n",
              "    width: 32px;\n",
              "  }\n",
              "\n",
              "  .colab-df-quickchart:hover {\n",
              "    background-color: var(--hover-bg-color);\n",
              "    box-shadow: 0 1px 2px rgba(60, 64, 67, 0.3), 0 1px 3px 1px rgba(60, 64, 67, 0.15);\n",
              "    fill: var(--button-hover-fill-color);\n",
              "  }\n",
              "\n",
              "  .colab-df-quickchart-complete:disabled,\n",
              "  .colab-df-quickchart-complete:disabled:hover {\n",
              "    background-color: var(--disabled-bg-color);\n",
              "    fill: var(--disabled-fill-color);\n",
              "    box-shadow: none;\n",
              "  }\n",
              "\n",
              "  .colab-df-spinner {\n",
              "    border: 2px solid var(--fill-color);\n",
              "    border-color: transparent;\n",
              "    border-bottom-color: var(--fill-color);\n",
              "    animation:\n",
              "      spin 1s steps(1) infinite;\n",
              "  }\n",
              "\n",
              "  @keyframes spin {\n",
              "    0% {\n",
              "      border-color: transparent;\n",
              "      border-bottom-color: var(--fill-color);\n",
              "      border-left-color: var(--fill-color);\n",
              "    }\n",
              "    20% {\n",
              "      border-color: transparent;\n",
              "      border-left-color: var(--fill-color);\n",
              "      border-top-color: var(--fill-color);\n",
              "    }\n",
              "    30% {\n",
              "      border-color: transparent;\n",
              "      border-left-color: var(--fill-color);\n",
              "      border-top-color: var(--fill-color);\n",
              "      border-right-color: var(--fill-color);\n",
              "    }\n",
              "    40% {\n",
              "      border-color: transparent;\n",
              "      border-right-color: var(--fill-color);\n",
              "      border-top-color: var(--fill-color);\n",
              "    }\n",
              "    60% {\n",
              "      border-color: transparent;\n",
              "      border-right-color: var(--fill-color);\n",
              "    }\n",
              "    80% {\n",
              "      border-color: transparent;\n",
              "      border-right-color: var(--fill-color);\n",
              "      border-bottom-color: var(--fill-color);\n",
              "    }\n",
              "    90% {\n",
              "      border-color: transparent;\n",
              "      border-bottom-color: var(--fill-color);\n",
              "    }\n",
              "  }\n",
              "</style>\n",
              "\n",
              "  <script>\n",
              "    async function quickchart(key) {\n",
              "      const quickchartButtonEl =\n",
              "        document.querySelector('#' + key + ' button');\n",
              "      quickchartButtonEl.disabled = true;  // To prevent multiple clicks.\n",
              "      quickchartButtonEl.classList.add('colab-df-spinner');\n",
              "      try {\n",
              "        const charts = await google.colab.kernel.invokeFunction(\n",
              "            'suggestCharts', [key], {});\n",
              "      } catch (error) {\n",
              "        console.error('Error during call to suggestCharts:', error);\n",
              "      }\n",
              "      quickchartButtonEl.classList.remove('colab-df-spinner');\n",
              "      quickchartButtonEl.classList.add('colab-df-quickchart-complete');\n",
              "    }\n",
              "    (() => {\n",
              "      let quickchartButtonEl =\n",
              "        document.querySelector('#df-f613f5f8-3365-4ac7-a5dd-bbd49fdf769d button');\n",
              "      quickchartButtonEl.style.display =\n",
              "        google.colab.kernel.accessAllowed ? 'block' : 'none';\n",
              "    })();\n",
              "  </script>\n",
              "</div>\n",
              "    </div>\n",
              "  </div>\n"
            ]
          },
          "metadata": {},
          "execution_count": 5
        }
      ],
      "source": [
        "training_set_fn = 'MELD_train_efr.json'\n",
        "\n",
        "dataset = load__dataset(training_set_fn)\n",
        "dataset.head()"
      ]
    },
    {
      "cell_type": "code",
      "execution_count": 6,
      "metadata": {
        "id": "6DK5u2OJ0Jmt"
      },
      "outputs": [],
      "source": [
        "def get_index_none_triggers(df:pd.DataFrame, column:str) -> list:\n",
        "    has_none = []\n",
        "    for i in df[column].index:\n",
        "        is_none = np.where(np.array(df[column][i]) == None, 1, 0).any()\n",
        "        if is_none:\n",
        "            has_none.append(i)\n",
        "    return has_none\n",
        "\n",
        "def clean_none(df:pd.DataFrame, column:str, indexes:list) -> pd.DataFrame:\n",
        "    for i in indexes:\n",
        "        df[column][i] = [el if el is not None else 0.0 for el in df[column][i]]\n",
        "    return df"
      ]
    },
    {
      "cell_type": "markdown",
      "metadata": {
        "id": "wI-4EU1z0Jmu"
      },
      "source": [
        "Check how many triggers do have a None value."
      ]
    },
    {
      "cell_type": "code",
      "execution_count": 7,
      "metadata": {
        "colab": {
          "base_uri": "https://localhost:8080/"
        },
        "id": "Xj71vdjp0Jmu",
        "outputId": "73fc52c0-da39-4fe2-8d7e-55a9a1ad2bde"
      },
      "outputs": [
        {
          "output_type": "stream",
          "name": "stdout",
          "text": [
            "9 trigger rows have None values.\n",
            "\n",
            "2671                                [0.0, 0.0, 1.0, None]\n",
            "2693                      [0.0, 0.0, 0.0, 0.0, 1.0, None]\n",
            "3105    [0.0, 0.0, 0.0, None, 0.0, 0.0, 0.0, 1.0, 1.0,...\n",
            "3157    [0.0, 0.0, None, 0.0, 0.0, 0.0, 1.0, 0.0, 0.0,...\n",
            "3171    [0.0, 0.0, 0.0, 0.0, 0.0, None, 0.0, 0.0, 1.0,...\n",
            "3204    [None, 0.0, 0.0, 0.0, 0.0, 0.0, 0.0, 0.0, 0.0,...\n",
            "3266    [0.0, 0.0, 0.0, 0.0, 0.0, 0.0, None, 0.0, 1.0,...\n",
            "3351    [0.0, 0.0, 0.0, None, 0.0, 0.0, 0.0, 0.0, 0.0,...\n",
            "3359    [0.0, None, 0.0, 0.0, 0.0, 0.0, 0.0, 0.0, 0.0,...\n",
            "Name: triggers, dtype: object\n"
          ]
        }
      ],
      "source": [
        "indexes_none = get_index_none_triggers(dataset, column='triggers')\n",
        "print(\"{} trigger rows have None values.\\n\".format(len(indexes_none)))\n",
        "if len(indexes_none) > 0:\n",
        "    print(dataset['triggers'][indexes_none])"
      ]
    },
    {
      "cell_type": "markdown",
      "metadata": {
        "id": "B231vfKs0Jmu"
      },
      "source": [
        "Now we clean the dataset and then check the previous lists."
      ]
    },
    {
      "cell_type": "code",
      "execution_count": 8,
      "metadata": {
        "colab": {
          "base_uri": "https://localhost:8080/"
        },
        "id": "X2AN_kyP0Jmu",
        "outputId": "5467bea7-f7bf-41bf-f0ac-a7d0819915da"
      },
      "outputs": [
        {
          "output_type": "stream",
          "name": "stdout",
          "text": [
            "\n",
            "After cleaning, 0 trigger rows have None values.\n",
            "\n",
            "2671                                 [0.0, 0.0, 1.0, 0.0]\n",
            "2693                       [0.0, 0.0, 0.0, 0.0, 1.0, 0.0]\n",
            "3105    [0.0, 0.0, 0.0, 0.0, 0.0, 0.0, 0.0, 1.0, 1.0, ...\n",
            "3157    [0.0, 0.0, 0.0, 0.0, 0.0, 0.0, 1.0, 0.0, 0.0, ...\n",
            "3171    [0.0, 0.0, 0.0, 0.0, 0.0, 0.0, 0.0, 0.0, 1.0, ...\n",
            "3204    [0.0, 0.0, 0.0, 0.0, 0.0, 0.0, 0.0, 0.0, 0.0, ...\n",
            "3266    [0.0, 0.0, 0.0, 0.0, 0.0, 0.0, 0.0, 0.0, 1.0, ...\n",
            "3351    [0.0, 0.0, 0.0, 0.0, 0.0, 0.0, 0.0, 0.0, 0.0, ...\n",
            "3359    [0.0, 0.0, 0.0, 0.0, 0.0, 0.0, 0.0, 0.0, 0.0, ...\n",
            "Name: triggers, dtype: object\n"
          ]
        }
      ],
      "source": [
        "dataset = clean_none(dataset, column='triggers', indexes=indexes_none)\n",
        "indexes_none_clean = get_index_none_triggers(dataset, column='triggers')\n",
        "print(\"\\nAfter cleaning, {} trigger rows have None values.\\n\".format(len(indexes_none_clean)))\n",
        "if len(indexes_none) > 0:\n",
        "    print(dataset['triggers'][indexes_none])"
      ]
    },
    {
      "cell_type": "markdown",
      "metadata": {
        "id": "MmF7DFMn0Jmv"
      },
      "source": [
        "##Data Elaboration"
      ]
    },
    {
      "cell_type": "markdown",
      "metadata": {
        "id": "v38ZAFx3F9jO"
      },
      "source": [
        "###Preprocessing"
      ]
    },
    {
      "cell_type": "code",
      "execution_count": 9,
      "metadata": {
        "id": "tRZJyZw37hWP"
      },
      "outputs": [],
      "source": [
        "tot = len(dataset)\n",
        "data = []\n",
        "for r in range(tot):\n",
        "  text = dataset['utterances'][r]\n",
        "  em = dataset['emotions'][r]\n",
        "  trig = dataset['triggers'][r]\n",
        "  for i in range(1,len(text)+1):\n",
        "    t = []\n",
        "    for q in range(i):\n",
        "      t.append(text[q])\n",
        "\n",
        "    #convert the list t into a string\n",
        "    string = \" \".join(map(str,t))\n",
        "    data.append(\n",
        "        {'episode': dataset['episode'][r],\n",
        "        'utterance': string,\n",
        "        'emotion': em[i-1],\n",
        "        'trigger': trig[i-1]\n",
        "              })\n",
        "data = pd.DataFrame(data)"
      ]
    },
    {
      "cell_type": "code",
      "source": [
        "def input_preprocessing(dataset,his_num=2):\n",
        "  tot = len(dataset)\n",
        "  data = []\n",
        "  for r in range(tot):\n",
        "    text = dataset['utterances'][r]\n",
        "    em = dataset['emotions'][r]\n",
        "    trig = dataset['triggers'][r]\n",
        "    for i in range(0,len(text)):\n",
        "      t = []\n",
        "      history = []\n",
        "      sentence = text[i]\n",
        "      if (i-his_num < 0):\n",
        "        for q in range(i):\n",
        "          history.append(text[q])\n",
        "      else:\n",
        "        for q in range(i-his_num,i):\n",
        "          history.append(text[q])\n",
        "\n",
        "      #convert the list t into a string\n",
        "      string = \" \".join(map(str,history))\n",
        "      data.append({\n",
        "          'episode': dataset['episode'][r],\n",
        "          'utterance': sentence,\n",
        "          'history' : string,\n",
        "          'emotion': em[i],\n",
        "          'trigger': bool(trig[i])\n",
        "        })\n",
        "  data = pd.DataFrame(data)\n",
        "  return data"
      ],
      "metadata": {
        "id": "NjVvvknrjwyS"
      },
      "execution_count": 10,
      "outputs": []
    },
    {
      "cell_type": "code",
      "source": [
        "his_num = 2\n",
        "data = input_preprocessing(dataset,his_num)"
      ],
      "metadata": {
        "id": "aQchB9C8sbBW"
      },
      "execution_count": 11,
      "outputs": []
    },
    {
      "cell_type": "code",
      "source": [
        "dataset['utterances'][0]"
      ],
      "metadata": {
        "id": "h6vUutUOqa19",
        "outputId": "847948ab-868d-4326-eac7-1e5b579a41f4",
        "colab": {
          "base_uri": "https://localhost:8080/"
        }
      },
      "execution_count": 12,
      "outputs": [
        {
          "output_type": "execute_result",
          "data": {
            "text/plain": [
              "[\"also I was the point person on my company's transition from the KL-5 to GR-6 system.\",\n",
              " \"You must've had your hands full.\",\n",
              " 'That I did. That I did.',\n",
              " \"So let's talk a little bit about your duties.\",\n",
              " 'My duties?  All right.']"
            ]
          },
          "metadata": {},
          "execution_count": 12
        }
      ]
    },
    {
      "cell_type": "code",
      "source": [
        "list(data['history'][:10])"
      ],
      "metadata": {
        "id": "V6W0slbspwDJ",
        "outputId": "fc437e91-f264-48f6-8dac-f91f639c0d18",
        "colab": {
          "base_uri": "https://localhost:8080/"
        }
      },
      "execution_count": 13,
      "outputs": [
        {
          "output_type": "execute_result",
          "data": {
            "text/plain": [
              "['',\n",
              " \"also I was the point person on my company's transition from the KL-5 to GR-6 system.\",\n",
              " \"also I was the point person on my company's transition from the KL-5 to GR-6 system. You must've had your hands full.\",\n",
              " \"You must've had your hands full. That I did. That I did.\",\n",
              " \"That I did. That I did. So let's talk a little bit about your duties.\",\n",
              " '',\n",
              " \"also I was the point person on my company's transition from the KL-5 to GR-6 system.\",\n",
              " \"also I was the point person on my company's transition from the KL-5 to GR-6 system. You must've had your hands full.\",\n",
              " \"You must've had your hands full. That I did. That I did.\",\n",
              " \"That I did. That I did. So let's talk a little bit about your duties.\"]"
            ]
          },
          "metadata": {},
          "execution_count": 13
        }
      ]
    },
    {
      "cell_type": "code",
      "execution_count": 14,
      "metadata": {
        "colab": {
          "base_uri": "https://localhost:8080/"
        },
        "id": "CjdG1T_CFHcx",
        "outputId": "e0c4e239-2b68-4c37-deba-915536346243"
      },
      "outputs": [
        {
          "output_type": "execute_result",
          "data": {
            "text/plain": [
              "35000"
            ]
          },
          "metadata": {},
          "execution_count": 14
        }
      ],
      "source": [
        "len(data)"
      ]
    },
    {
      "cell_type": "code",
      "execution_count": 15,
      "metadata": {
        "colab": {
          "base_uri": "https://localhost:8080/",
          "height": 452
        },
        "id": "AVdMBcMyDlq7",
        "outputId": "e13761c6-4fa8-4161-9f8c-1450ba963870"
      },
      "outputs": [
        {
          "output_type": "execute_result",
          "data": {
            "text/plain": [
              "<Axes: >"
            ]
          },
          "metadata": {},
          "execution_count": 15
        },
        {
          "output_type": "display_data",
          "data": {
            "text/plain": [
              "<Figure size 640x480 with 1 Axes>"
            ],
            "image/png": "[encoded data removed]"
          },
          "metadata": {}
        }
      ],
      "source": [
        "data['emotion'].hist()"
      ]
    },
    {
      "cell_type": "markdown",
      "metadata": {
        "id": "3SNnfFWuFKr3"
      },
      "source": [
        "This shows that the data is imbalanced."
      ]
    },
    {
      "cell_type": "code",
      "execution_count": 16,
      "metadata": {
        "colab": {
          "base_uri": "https://localhost:8080/"
        },
        "id": "FEln12COiVeW",
        "outputId": "1c938510-bf34-41d5-a6e8-53bc5cd0ad07"
      },
      "outputs": [
        {
          "output_type": "execute_result",
          "data": {
            "text/plain": [
              "35000"
            ]
          },
          "metadata": {},
          "execution_count": 16
        }
      ],
      "source": [
        "len(data)"
      ]
    },
    {
      "cell_type": "code",
      "execution_count": 17,
      "metadata": {
        "id": "rrkX3Ta1-0IO"
      },
      "outputs": [],
      "source": [
        "episodes = data['episode'].unique()"
      ]
    },
    {
      "cell_type": "markdown",
      "metadata": {
        "id": "FIyPfT4yF1Ye"
      },
      "source": [
        "###Label Encoder"
      ]
    },
    {
      "cell_type": "code",
      "execution_count": 18,
      "metadata": {
        "id": "c0pQnBrbFyfI"
      },
      "outputs": [],
      "source": [
        "#label encoder\n",
        "from sklearn.preprocessing import LabelEncoder\n",
        "le_emo = LabelEncoder()\n",
        "data['labemo'] = le_emo.fit_transform(data['emotion'])\n",
        "#le_tri = LabelEncoder()\n",
        "#data['labtri'] = le_tri.fit_transform(data['trigger'])"
      ]
    },
    {
      "cell_type": "code",
      "execution_count": 19,
      "metadata": {
        "colab": {
          "base_uri": "https://localhost:8080/"
        },
        "id": "cnZFfDHHGL4H",
        "outputId": "5566e75f-4952-4399-bf26-9b8b104a46bd"
      },
      "outputs": [
        {
          "output_type": "execute_result",
          "data": {
            "text/plain": [
              "array(['neutral', 'surprise', 'fear', 'sadness', 'joy', 'disgust',\n",
              "       'anger'], dtype=object)"
            ]
          },
          "metadata": {},
          "execution_count": 19
        }
      ],
      "source": [
        "data['emotion'].unique()"
      ]
    },
    {
      "cell_type": "code",
      "execution_count": 20,
      "metadata": {
        "colab": {
          "base_uri": "https://localhost:8080/"
        },
        "id": "-xQb79QXGXHC",
        "outputId": "548cc757-e75b-4b7c-cd2f-bcd525128c7c"
      },
      "outputs": [
        {
          "output_type": "execute_result",
          "data": {
            "text/plain": [
              "array([4, 6, 2, 5, 3, 1, 0])"
            ]
          },
          "metadata": {},
          "execution_count": 20
        }
      ],
      "source": [
        "data['labemo'].unique()"
      ]
    },
    {
      "cell_type": "markdown",
      "metadata": {
        "id": "xDHZf6C4GMqA"
      },
      "source": [
        "### Train-Val-Test splitting"
      ]
    },
    {
      "cell_type": "code",
      "execution_count": 21,
      "metadata": {
        "colab": {
          "base_uri": "https://localhost:8080/"
        },
        "id": "hm8PMxsgBAO7",
        "outputId": "f2d0dbca-c3a5-4a6a-ef13-3fc650306f0f"
      },
      "outputs": [
        {
          "output_type": "stream",
          "name": "stdout",
          "text": [
            "Number of training samples: 27850\n",
            "Number of test samples: 3612\n",
            "Number of validation examples: 3538\n"
          ]
        }
      ],
      "source": [
        "idx_train, idx_test = train_test_split(episodes,\n",
        "                                     random_state=SEED,\n",
        "                                     test_size=0.1)\n",
        "idx_train, idx_val = train_test_split(idx_train,\n",
        "                                     random_state=SEED,\n",
        "                                     test_size=idx_test.shape[0])\n",
        "df_train = data[data['episode'].isin(idx_train)]\n",
        "df_test = data[data['episode'].isin(idx_test)]\n",
        "df_val = data[data['episode'].isin(idx_val)]\n",
        "print('Number of training samples: {}'.format(df_train.shape[0]))\n",
        "print('Number of test samples: {}'.format(df_test.shape[0]))\n",
        "print('Number of validation examples: {}'.format(df_val.shape[0]))"
      ]
    },
    {
      "cell_type": "code",
      "execution_count": 22,
      "metadata": {
        "colab": {
          "base_uri": "https://localhost:8080/",
          "height": 206
        },
        "id": "q9ziL6sQBrJj",
        "outputId": "6cf1841e-1872-48b4-e613-c0ccba924054"
      },
      "outputs": [
        {
          "output_type": "execute_result",
          "data": {
            "text/plain": [
              "       episode                                          utterance  \\\n",
              "0  utterance_0  also I was the point person on my company's tr...   \n",
              "1  utterance_0                   You must've had your hands full.   \n",
              "2  utterance_0                            That I did. That I did.   \n",
              "3  utterance_0      So let's talk a little bit about your duties.   \n",
              "4  utterance_0                             My duties?  All right.   \n",
              "\n",
              "                                             history   emotion  trigger  \\\n",
              "0                                                      neutral    False   \n",
              "1  also I was the point person on my company's tr...   neutral    False   \n",
              "2  also I was the point person on my company's tr...   neutral    False   \n",
              "3  You must've had your hands full. That I did. T...   neutral     True   \n",
              "4  That I did. That I did. So let's talk a little...  surprise    False   \n",
              "\n",
              "   labemo  \n",
              "0       4  \n",
              "1       4  \n",
              "2       4  \n",
              "3       4  \n",
              "4       6  "
            ],
            "text/html": [
              "\n",
              "  <div id=\"df-533f6b50-35ca-450e-8157-de67f72a9f28\" class=\"colab-df-container\">\n",
              "    <div>\n",
              "<style scoped>\n",
              "    .dataframe tbody tr th:only-of-type {\n",
              "        vertical-align: middle;\n",
              "    }\n",
              "\n",
              "    .dataframe tbody tr th {\n",
              "        vertical-align: top;\n",
              "    }\n",
              "\n",
              "    .dataframe thead th {\n",
              "        text-align: right;\n",
              "    }\n",
              "</style>\n",
              "<table border=\"1\" class=\"dataframe\">\n",
              "  <thead>\n",
              "    <tr style=\"text-align: right;\">\n",
              "      <th></th>\n",
              "      <th>episode</th>\n",
              "      <th>utterance</th>\n",
              "      <th>history</th>\n",
              "      <th>emotion</th>\n",
              "      <th>trigger</th>\n",
              "      <th>labemo</th>\n",
              "    </tr>\n",
              "  </thead>\n",
              "  <tbody>\n",
              "    <tr>\n",
              "      <th>0</th>\n",
              "      <td>utterance_0</td>\n",
              "      <td>also I was the point person on my company's tr...</td>\n",
              "      <td></td>\n",
              "      <td>neutral</td>\n",
              "      <td>False</td>\n",
              "      <td>4</td>\n",
              "    </tr>\n",
              "    <tr>\n",
              "      <th>1</th>\n",
              "      <td>utterance_0</td>\n",
              "      <td>You must've had your hands full.</td>\n",
              "      <td>also I was the point person on my company's tr...</td>\n",
              "      <td>neutral</td>\n",
              "      <td>False</td>\n",
              "      <td>4</td>\n",
              "    </tr>\n",
              "    <tr>\n",
              "      <th>2</th>\n",
              "      <td>utterance_0</td>\n",
              "      <td>That I did. That I did.</td>\n",
              "      <td>also I was the point person on my company's tr...</td>\n",
              "      <td>neutral</td>\n",
              "      <td>False</td>\n",
              "      <td>4</td>\n",
              "    </tr>\n",
              "    <tr>\n",
              "      <th>3</th>\n",
              "      <td>utterance_0</td>\n",
              "      <td>So let's talk a little bit about your duties.</td>\n",
              "      <td>You must've had your hands full. That I did. T...</td>\n",
              "      <td>neutral</td>\n",
              "      <td>True</td>\n",
              "      <td>4</td>\n",
              "    </tr>\n",
              "    <tr>\n",
              "      <th>4</th>\n",
              "      <td>utterance_0</td>\n",
              "      <td>My duties?  All right.</td>\n",
              "      <td>That I did. That I did. So let's talk a little...</td>\n",
              "      <td>surprise</td>\n",
              "      <td>False</td>\n",
              "      <td>6</td>\n",
              "    </tr>\n",
              "  </tbody>\n",
              "</table>\n",
              "</div>\n",
              "    <div class=\"colab-df-buttons\">\n",
              "\n",
              "  <div class=\"colab-df-container\">\n",
              "    <button class=\"colab-df-convert\" onclick=\"convertToInteractive('df-533f6b50-35ca-450e-8157-de67f72a9f28')\"\n",
              "            title=\"Convert this dataframe to an interactive table.\"\n",
              "            style=\"display:none;\">\n",
              "\n",
              "  <svg xmlns=\"http://www.w3.org/2000/svg\" height=\"24px\" viewBox=\"0 -960 960 960\">\n",
              "    <path d=\"M120-120v-720h720v720H120Zm60-500h600v-160H180v160Zm220 220h160v-160H400v160Zm0 220h160v-160H400v160ZM180-400h160v-160H180v160Zm440 0h160v-160H620v160ZM180-180h160v-160H180v160Zm440 0h160v-160H620v160Z\"/>\n",
              "  </svg>\n",
              "    </button>\n",
              "\n",
              "  <style>\n",
              "    .colab-df-container {\n",
              "      display:flex;\n",
              "      gap: 12px;\n",
              "    }\n",
              "\n",
              "    .colab-df-convert {\n",
              "      background-color: #E8F0FE;\n",
              "      border: none;\n",
              "      border-radius: 50%;\n",
              "      cursor: pointer;\n",
              "      display: none;\n",
              "      fill: #1967D2;\n",
              "      height: 32px;\n",
              "      padding: 0 0 0 0;\n",
              "      width: 32px;\n",
              "    }\n",
              "\n",
              "    .colab-df-convert:hover {\n",
              "      background-color: #E2EBFA;\n",
              "      box-shadow: 0px 1px 2px rgba(60, 64, 67, 0.3), 0px 1px 3px 1px rgba(60, 64, 67, 0.15);\n",
              "      fill: #174EA6;\n",
              "    }\n",
              "\n",
              "    .colab-df-buttons div {\n",
              "      margin-bottom: 4px;\n",
              "    }\n",
              "\n",
              "    [theme=dark] .colab-df-convert {\n",
              "      background-color: #3B4455;\n",
              "      fill: #D2E3FC;\n",
              "    }\n",
              "\n",
              "    [theme=dark] .colab-df-convert:hover {\n",
              "      background-color: #434B5C;\n",
              "      box-shadow: 0px 1px 3px 1px rgba(0, 0, 0, 0.15);\n",
              "      filter: drop-shadow(0px 1px 2px rgba(0, 0, 0, 0.3));\n",
              "      fill: #FFFFFF;\n",
              "    }\n",
              "  </style>\n",
              "\n",
              "    <script>\n",
              "      const buttonEl =\n",
              "        document.querySelector('#df-533f6b50-35ca-450e-8157-de67f72a9f28 button.colab-df-convert');\n",
              "      buttonEl.style.display =\n",
              "        google.colab.kernel.accessAllowed ? 'block' : 'none';\n",
              "\n",
              "      async function convertToInteractive(key) {\n",
              "        const element = document.querySelector('#df-533f6b50-35ca-450e-8157-de67f72a9f28');\n",
              "        const dataTable =\n",
              "          await google.colab.kernel.invokeFunction('convertToInteractive',\n",
              "                                                    [key], {});\n",
              "        if (!dataTable) return;\n",
              "\n",
              "        const docLinkHtml = 'Like what you see? Visit the ' +\n",
              "          '<a target=\"_blank\" href=https://colab.research.google.com/notebooks/data_table.ipynb>data table notebook</a>'\n",
              "          + ' to learn more about interactive tables.';\n",
              "        element.innerHTML = '';\n",
              "        dataTable['output_type'] = 'display_data';\n",
              "        await google.colab.output.renderOutput(dataTable, element);\n",
              "        const docLink = document.createElement('div');\n",
              "        docLink.innerHTML = docLinkHtml;\n",
              "        element.appendChild(docLink);\n",
              "      }\n",
              "    </script>\n",
              "  </div>\n",
              "\n",
              "\n",
              "<div id=\"df-ee6eebbd-3825-4853-b176-d10072b730b2\">\n",
              "  <button class=\"colab-df-quickchart\" onclick=\"quickchart('df-ee6eebbd-3825-4853-b176-d10072b730b2')\"\n",
              "            title=\"Suggest charts\"\n",
              "            style=\"display:none;\">\n",
              "\n",
              "<svg xmlns=\"http://www.w3.org/2000/svg\" height=\"24px\"viewBox=\"0 0 24 24\"\n",
              "     width=\"24px\">\n",
              "    <g>\n",
              "        <path d=\"M19 3H5c-1.1 0-2 .9-2 2v14c0 1.1.9 2 2 2h14c1.1 0 2-.9 2-2V5c0-1.1-.9-2-2-2zM9 17H7v-7h2v7zm4 0h-2V7h2v10zm4 0h-2v-4h2v4z\"/>\n",
              "    </g>\n",
              "</svg>\n",
              "  </button>\n",
              "\n",
              "<style>\n",
              "  .colab-df-quickchart {\n",
              "      --bg-color: #E8F0FE;\n",
              "      --fill-color: #1967D2;\n",
              "      --hover-bg-color: #E2EBFA;\n",
              "      --hover-fill-color: #174EA6;\n",
              "      --disabled-fill-color: #AAA;\n",
              "      --disabled-bg-color: #DDD;\n",
              "  }\n",
              "\n",
              "  [theme=dark] .colab-df-quickchart {\n",
              "      --bg-color: #3B4455;\n",
              "      --fill-color: #D2E3FC;\n",
              "      --hover-bg-color: #434B5C;\n",
              "      --hover-fill-color: #FFFFFF;\n",
              "      --disabled-bg-color: #3B4455;\n",
              "      --disabled-fill-color: #666;\n",
              "  }\n",
              "\n",
              "  .colab-df-quickchart {\n",
              "    background-color: var(--bg-color);\n",
              "    border: none;\n",
              "    border-radius: 50%;\n",
              "    cursor: pointer;\n",
              "    display: none;\n",
              "    fill: var(--fill-color);\n",
              "    height: 32px;\n",
              "    padding: 0;\n",
              "    width: 32px;\n",
              "  }\n",
              "\n",
              "  .colab-df-quickchart:hover {\n",
              "    background-color: var(--hover-bg-color);\n",
              "    box-shadow: 0 1px 2px rgba(60, 64, 67, 0.3), 0 1px 3px 1px rgba(60, 64, 67, 0.15);\n",
              "    fill: var(--button-hover-fill-color);\n",
              "  }\n",
              "\n",
              "  .colab-df-quickchart-complete:disabled,\n",
              "  .colab-df-quickchart-complete:disabled:hover {\n",
              "    background-color: var(--disabled-bg-color);\n",
              "    fill: var(--disabled-fill-color);\n",
              "    box-shadow: none;\n",
              "  }\n",
              "\n",
              "  .colab-df-spinner {\n",
              "    border: 2px solid var(--fill-color);\n",
              "    border-color: transparent;\n",
              "    border-bottom-color: var(--fill-color);\n",
              "    animation:\n",
              "      spin 1s steps(1) infinite;\n",
              "  }\n",
              "\n",
              "  @keyframes spin {\n",
              "    0% {\n",
              "      border-color: transparent;\n",
              "      border-bottom-color: var(--fill-color);\n",
              "      border-left-color: var(--fill-color);\n",
              "    }\n",
              "    20% {\n",
              "      border-color: transparent;\n",
              "      border-left-color: var(--fill-color);\n",
              "      border-top-color: var(--fill-color);\n",
              "    }\n",
              "    30% {\n",
              "      border-color: transparent;\n",
              "      border-left-color: var(--fill-color);\n",
              "      border-top-color: var(--fill-color);\n",
              "      border-right-color: var(--fill-color);\n",
              "    }\n",
              "    40% {\n",
              "      border-color: transparent;\n",
              "      border-right-color: var(--fill-color);\n",
              "      border-top-color: var(--fill-color);\n",
              "    }\n",
              "    60% {\n",
              "      border-color: transparent;\n",
              "      border-right-color: var(--fill-color);\n",
              "    }\n",
              "    80% {\n",
              "      border-color: transparent;\n",
              "      border-right-color: var(--fill-color);\n",
              "      border-bottom-color: var(--fill-color);\n",
              "    }\n",
              "    90% {\n",
              "      border-color: transparent;\n",
              "      border-bottom-color: var(--fill-color);\n",
              "    }\n",
              "  }\n",
              "</style>\n",
              "\n",
              "  <script>\n",
              "    async function quickchart(key) {\n",
              "      const quickchartButtonEl =\n",
              "        document.querySelector('#' + key + ' button');\n",
              "      quickchartButtonEl.disabled = true;  // To prevent multiple clicks.\n",
              "      quickchartButtonEl.classList.add('colab-df-spinner');\n",
              "      try {\n",
              "        const charts = await google.colab.kernel.invokeFunction(\n",
              "            'suggestCharts', [key], {});\n",
              "      } catch (error) {\n",
              "        console.error('Error during call to suggestCharts:', error);\n",
              "      }\n",
              "      quickchartButtonEl.classList.remove('colab-df-spinner');\n",
              "      quickchartButtonEl.classList.add('colab-df-quickchart-complete');\n",
              "    }\n",
              "    (() => {\n",
              "      let quickchartButtonEl =\n",
              "        document.querySelector('#df-ee6eebbd-3825-4853-b176-d10072b730b2 button');\n",
              "      quickchartButtonEl.style.display =\n",
              "        google.colab.kernel.accessAllowed ? 'block' : 'none';\n",
              "    })();\n",
              "  </script>\n",
              "</div>\n",
              "    </div>\n",
              "  </div>\n"
            ]
          },
          "metadata": {},
          "execution_count": 22
        }
      ],
      "source": [
        "df_train.head()"
      ]
    },
    {
      "cell_type": "code",
      "execution_count": 23,
      "metadata": {
        "colab": {
          "base_uri": "https://localhost:8080/",
          "height": 206
        },
        "id": "EkDrRjKi0Jmv",
        "outputId": "3afb33cc-361f-46e6-d574-26122fce817f"
      },
      "outputs": [
        {
          "output_type": "execute_result",
          "data": {
            "text/plain": [
              "         episode                                          utterance  \\\n",
              "55   utterance_8                                          Hey, Mon.   \n",
              "56   utterance_8  Hey-hey-hey. You wanna hear something that sucks.   \n",
              "57   utterance_8                                         Do I ever.   \n",
              "58   utterance_8           Chris says they're closing down the bar.   \n",
              "77  utterance_12                                          Hey, Mon.   \n",
              "\n",
              "                                              history  emotion  trigger  \\\n",
              "55                                                     neutral    False   \n",
              "56                                          Hey, Mon.  neutral    False   \n",
              "57  Hey, Mon. Hey-hey-hey. You wanna hear somethin...      joy    False   \n",
              "58  Hey-hey-hey. You wanna hear something that suc...  sadness     True   \n",
              "77                                                     neutral    False   \n",
              "\n",
              "    labemo  \n",
              "55       4  \n",
              "56       4  \n",
              "57       3  \n",
              "58       5  \n",
              "77       4  "
            ],
            "text/html": [
              "\n",
              "  <div id=\"df-cc0c4f7f-3554-4c39-ac88-a8a104cb0286\" class=\"colab-df-container\">\n",
              "    <div>\n",
              "<style scoped>\n",
              "    .dataframe tbody tr th:only-of-type {\n",
              "        vertical-align: middle;\n",
              "    }\n",
              "\n",
              "    .dataframe tbody tr th {\n",
              "        vertical-align: top;\n",
              "    }\n",
              "\n",
              "    .dataframe thead th {\n",
              "        text-align: right;\n",
              "    }\n",
              "</style>\n",
              "<table border=\"1\" class=\"dataframe\">\n",
              "  <thead>\n",
              "    <tr style=\"text-align: right;\">\n",
              "      <th></th>\n",
              "      <th>episode</th>\n",
              "      <th>utterance</th>\n",
              "      <th>history</th>\n",
              "      <th>emotion</th>\n",
              "      <th>trigger</th>\n",
              "      <th>labemo</th>\n",
              "    </tr>\n",
              "  </thead>\n",
              "  <tbody>\n",
              "    <tr>\n",
              "      <th>55</th>\n",
              "      <td>utterance_8</td>\n",
              "      <td>Hey, Mon.</td>\n",
              "      <td></td>\n",
              "      <td>neutral</td>\n",
              "      <td>False</td>\n",
              "      <td>4</td>\n",
              "    </tr>\n",
              "    <tr>\n",
              "      <th>56</th>\n",
              "      <td>utterance_8</td>\n",
              "      <td>Hey-hey-hey. You wanna hear something that sucks.</td>\n",
              "      <td>Hey, Mon.</td>\n",
              "      <td>neutral</td>\n",
              "      <td>False</td>\n",
              "      <td>4</td>\n",
              "    </tr>\n",
              "    <tr>\n",
              "      <th>57</th>\n",
              "      <td>utterance_8</td>\n",
              "      <td>Do I ever.</td>\n",
              "      <td>Hey, Mon. Hey-hey-hey. You wanna hear somethin...</td>\n",
              "      <td>joy</td>\n",
              "      <td>False</td>\n",
              "      <td>3</td>\n",
              "    </tr>\n",
              "    <tr>\n",
              "      <th>58</th>\n",
              "      <td>utterance_8</td>\n",
              "      <td>Chris says they're closing down the bar.</td>\n",
              "      <td>Hey-hey-hey. You wanna hear something that suc...</td>\n",
              "      <td>sadness</td>\n",
              "      <td>True</td>\n",
              "      <td>5</td>\n",
              "    </tr>\n",
              "    <tr>\n",
              "      <th>77</th>\n",
              "      <td>utterance_12</td>\n",
              "      <td>Hey, Mon.</td>\n",
              "      <td></td>\n",
              "      <td>neutral</td>\n",
              "      <td>False</td>\n",
              "      <td>4</td>\n",
              "    </tr>\n",
              "  </tbody>\n",
              "</table>\n",
              "</div>\n",
              "    <div class=\"colab-df-buttons\">\n",
              "\n",
              "  <div class=\"colab-df-container\">\n",
              "    <button class=\"colab-df-convert\" onclick=\"convertToInteractive('df-cc0c4f7f-3554-4c39-ac88-a8a104cb0286')\"\n",
              "            title=\"Convert this dataframe to an interactive table.\"\n",
              "            style=\"display:none;\">\n",
              "\n",
              "  <svg xmlns=\"http://www.w3.org/2000/svg\" height=\"24px\" viewBox=\"0 -960 960 960\">\n",
              "    <path d=\"M120-120v-720h720v720H120Zm60-500h600v-160H180v160Zm220 220h160v-160H400v160Zm0 220h160v-160H400v160ZM180-400h160v-160H180v160Zm440 0h160v-160H620v160ZM180-180h160v-160H180v160Zm440 0h160v-160H620v160Z\"/>\n",
              "  </svg>\n",
              "    </button>\n",
              "\n",
              "  <style>\n",
              "    .colab-df-container {\n",
              "      display:flex;\n",
              "      gap: 12px;\n",
              "    }\n",
              "\n",
              "    .colab-df-convert {\n",
              "      background-color: #E8F0FE;\n",
              "      border: none;\n",
              "      border-radius: 50%;\n",
              "      cursor: pointer;\n",
              "      display: none;\n",
              "      fill: #1967D2;\n",
              "      height: 32px;\n",
              "      padding: 0 0 0 0;\n",
              "      width: 32px;\n",
              "    }\n",
              "\n",
              "    .colab-df-convert:hover {\n",
              "      background-color: #E2EBFA;\n",
              "      box-shadow: 0px 1px 2px rgba(60, 64, 67, 0.3), 0px 1px 3px 1px rgba(60, 64, 67, 0.15);\n",
              "      fill: #174EA6;\n",
              "    }\n",
              "\n",
              "    .colab-df-buttons div {\n",
              "      margin-bottom: 4px;\n",
              "    }\n",
              "\n",
              "    [theme=dark] .colab-df-convert {\n",
              "      background-color: #3B4455;\n",
              "      fill: #D2E3FC;\n",
              "    }\n",
              "\n",
              "    [theme=dark] .colab-df-convert:hover {\n",
              "      background-color: #434B5C;\n",
              "      box-shadow: 0px 1px 3px 1px rgba(0, 0, 0, 0.15);\n",
              "      filter: drop-shadow(0px 1px 2px rgba(0, 0, 0, 0.3));\n",
              "      fill: #FFFFFF;\n",
              "    }\n",
              "  </style>\n",
              "\n",
              "    <script>\n",
              "      const buttonEl =\n",
              "        document.querySelector('#df-cc0c4f7f-3554-4c39-ac88-a8a104cb0286 button.colab-df-convert');\n",
              "      buttonEl.style.display =\n",
              "        google.colab.kernel.accessAllowed ? 'block' : 'none';\n",
              "\n",
              "      async function convertToInteractive(key) {\n",
              "        const element = document.querySelector('#df-cc0c4f7f-3554-4c39-ac88-a8a104cb0286');\n",
              "        const dataTable =\n",
              "          await google.colab.kernel.invokeFunction('convertToInteractive',\n",
              "                                                    [key], {});\n",
              "        if (!dataTable) return;\n",
              "\n",
              "        const docLinkHtml = 'Like what you see? Visit the ' +\n",
              "          '<a target=\"_blank\" href=https://colab.research.google.com/notebooks/data_table.ipynb>data table notebook</a>'\n",
              "          + ' to learn more about interactive tables.';\n",
              "        element.innerHTML = '';\n",
              "        dataTable['output_type'] = 'display_data';\n",
              "        await google.colab.output.renderOutput(dataTable, element);\n",
              "        const docLink = document.createElement('div');\n",
              "        docLink.innerHTML = docLinkHtml;\n",
              "        element.appendChild(docLink);\n",
              "      }\n",
              "    </script>\n",
              "  </div>\n",
              "\n",
              "\n",
              "<div id=\"df-d76481fb-1259-4550-a92b-3bbca374a6e1\">\n",
              "  <button class=\"colab-df-quickchart\" onclick=\"quickchart('df-d76481fb-1259-4550-a92b-3bbca374a6e1')\"\n",
              "            title=\"Suggest charts\"\n",
              "            style=\"display:none;\">\n",
              "\n",
              "<svg xmlns=\"http://www.w3.org/2000/svg\" height=\"24px\"viewBox=\"0 0 24 24\"\n",
              "     width=\"24px\">\n",
              "    <g>\n",
              "        <path d=\"M19 3H5c-1.1 0-2 .9-2 2v14c0 1.1.9 2 2 2h14c1.1 0 2-.9 2-2V5c0-1.1-.9-2-2-2zM9 17H7v-7h2v7zm4 0h-2V7h2v10zm4 0h-2v-4h2v4z\"/>\n",
              "    </g>\n",
              "</svg>\n",
              "  </button>\n",
              "\n",
              "<style>\n",
              "  .colab-df-quickchart {\n",
              "      --bg-color: #E8F0FE;\n",
              "      --fill-color: #1967D2;\n",
              "      --hover-bg-color: #E2EBFA;\n",
              "      --hover-fill-color: #174EA6;\n",
              "      --disabled-fill-color: #AAA;\n",
              "      --disabled-bg-color: #DDD;\n",
              "  }\n",
              "\n",
              "  [theme=dark] .colab-df-quickchart {\n",
              "      --bg-color: #3B4455;\n",
              "      --fill-color: #D2E3FC;\n",
              "      --hover-bg-color: #434B5C;\n",
              "      --hover-fill-color: #FFFFFF;\n",
              "      --disabled-bg-color: #3B4455;\n",
              "      --disabled-fill-color: #666;\n",
              "  }\n",
              "\n",
              "  .colab-df-quickchart {\n",
              "    background-color: var(--bg-color);\n",
              "    border: none;\n",
              "    border-radius: 50%;\n",
              "    cursor: pointer;\n",
              "    display: none;\n",
              "    fill: var(--fill-color);\n",
              "    height: 32px;\n",
              "    padding: 0;\n",
              "    width: 32px;\n",
              "  }\n",
              "\n",
              "  .colab-df-quickchart:hover {\n",
              "    background-color: var(--hover-bg-color);\n",
              "    box-shadow: 0 1px 2px rgba(60, 64, 67, 0.3), 0 1px 3px 1px rgba(60, 64, 67, 0.15);\n",
              "    fill: var(--button-hover-fill-color);\n",
              "  }\n",
              "\n",
              "  .colab-df-quickchart-complete:disabled,\n",
              "  .colab-df-quickchart-complete:disabled:hover {\n",
              "    background-color: var(--disabled-bg-color);\n",
              "    fill: var(--disabled-fill-color);\n",
              "    box-shadow: none;\n",
              "  }\n",
              "\n",
              "  .colab-df-spinner {\n",
              "    border: 2px solid var(--fill-color);\n",
              "    border-color: transparent;\n",
              "    border-bottom-color: var(--fill-color);\n",
              "    animation:\n",
              "      spin 1s steps(1) infinite;\n",
              "  }\n",
              "\n",
              "  @keyframes spin {\n",
              "    0% {\n",
              "      border-color: transparent;\n",
              "      border-bottom-color: var(--fill-color);\n",
              "      border-left-color: var(--fill-color);\n",
              "    }\n",
              "    20% {\n",
              "      border-color: transparent;\n",
              "      border-left-color: var(--fill-color);\n",
              "      border-top-color: var(--fill-color);\n",
              "    }\n",
              "    30% {\n",
              "      border-color: transparent;\n",
              "      border-left-color: var(--fill-color);\n",
              "      border-top-color: var(--fill-color);\n",
              "      border-right-color: var(--fill-color);\n",
              "    }\n",
              "    40% {\n",
              "      border-color: transparent;\n",
              "      border-right-color: var(--fill-color);\n",
              "      border-top-color: var(--fill-color);\n",
              "    }\n",
              "    60% {\n",
              "      border-color: transparent;\n",
              "      border-right-color: var(--fill-color);\n",
              "    }\n",
              "    80% {\n",
              "      border-color: transparent;\n",
              "      border-right-color: var(--fill-color);\n",
              "      border-bottom-color: var(--fill-color);\n",
              "    }\n",
              "    90% {\n",
              "      border-color: transparent;\n",
              "      border-bottom-color: var(--fill-color);\n",
              "    }\n",
              "  }\n",
              "</style>\n",
              "\n",
              "  <script>\n",
              "    async function quickchart(key) {\n",
              "      const quickchartButtonEl =\n",
              "        document.querySelector('#' + key + ' button');\n",
              "      quickchartButtonEl.disabled = true;  // To prevent multiple clicks.\n",
              "      quickchartButtonEl.classList.add('colab-df-spinner');\n",
              "      try {\n",
              "        const charts = await google.colab.kernel.invokeFunction(\n",
              "            'suggestCharts', [key], {});\n",
              "      } catch (error) {\n",
              "        console.error('Error during call to suggestCharts:', error);\n",
              "      }\n",
              "      quickchartButtonEl.classList.remove('colab-df-spinner');\n",
              "      quickchartButtonEl.classList.add('colab-df-quickchart-complete');\n",
              "    }\n",
              "    (() => {\n",
              "      let quickchartButtonEl =\n",
              "        document.querySelector('#df-d76481fb-1259-4550-a92b-3bbca374a6e1 button');\n",
              "      quickchartButtonEl.style.display =\n",
              "        google.colab.kernel.accessAllowed ? 'block' : 'none';\n",
              "    })();\n",
              "  </script>\n",
              "</div>\n",
              "    </div>\n",
              "  </div>\n"
            ]
          },
          "metadata": {},
          "execution_count": 23
        }
      ],
      "source": [
        "df_test.head()"
      ]
    },
    {
      "cell_type": "markdown",
      "metadata": {
        "id": "9ybmu8XVbu0_"
      },
      "source": [
        "## Utils"
      ]
    },
    {
      "cell_type": "markdown",
      "metadata": {
        "id": "Wr9lF2r5LJfQ"
      },
      "source": [
        "### Pytorch Dataset"
      ]
    },
    {
      "cell_type": "code",
      "execution_count": 24,
      "metadata": {
        "id": "YmIVbhWPkD31"
      },
      "outputs": [],
      "source": [
        "class CreateDataset(Dataset):\n",
        "    def __init__(self, encodings):\n",
        "        self.encodings = encodings\n",
        "\n",
        "    def __getitem__(self, idx):\n",
        "        return {key: torch.tensor(val[idx]) for key, val in self.encodings.items()}\n",
        "\n",
        "    def __len__(self):\n",
        "        return len(self.encodings.input_ids)"
      ]
    },
    {
      "cell_type": "markdown",
      "metadata": {
        "id": "DnGwClzSyblO"
      },
      "source": [
        "###Model"
      ]
    },
    {
      "cell_type": "code",
      "execution_count": 25,
      "metadata": {
        "id": "G3TfYpMd-vP8"
      },
      "outputs": [],
      "source": [
        "from transformers import DistilBertModel, BertModel\n",
        "import torch.nn as nn\n",
        "\n",
        "class CustomBERTModel(nn.Module):\n",
        "\n",
        "    def __init__(self,checkpoint, num_labels_emo, num_labels_tri):\n",
        "          super(CustomBERTModel, self).__init__()\n",
        "          self.num_labels_emo = num_labels_emo\n",
        "          self.num_labels_tri = num_labels_tri\n",
        "          self.model = model = BertModel.from_pretrained(checkpoint)\n",
        "          ### New layers:\n",
        "          self.dropout = nn.Dropout(0.3)\n",
        "          self.cls_emo = nn.Linear(self.model.config.hidden_size, num_labels_emo)\n",
        "          self.cls_tri = nn.Linear(self.model.config.hidden_size, 1)\n",
        "\n",
        "    def forward(self, input_ids, attention_mask):\n",
        "          output = self.model(\n",
        "               input_ids,\n",
        "               attention_mask=attention_mask)\n",
        "          #sequence_output = output[0]\n",
        "          #print(sequence_output.shape)\n",
        "          #the pooler output contains the information\n",
        "          pooler_output = output.pooler_output\n",
        "          x = self.dropout(pooler_output)\n",
        "          x_emo = self.cls_emo(x)\n",
        "          x_tri = self.cls_tri(x)\n",
        "          x_tri = torch.sigmoid(x_tri)\n",
        "          return x_emo, x_tri"
      ]
    },
    {
      "cell_type": "code",
      "execution_count": 26,
      "metadata": {
        "id": "kf1Ki5WThvOH"
      },
      "outputs": [],
      "source": [
        "def getModel(model_checkpoint, num_labels_emo, num_labels_tri):\n",
        "\n",
        "  model = CustomBERTModel(model_checkpoint, num_labels_emo, num_labels_tri)\n",
        "  tokenizer = AutoTokenizer.from_pretrained(model_checkpoint, use_fast=False)\n",
        "\n",
        "  return model, tokenizer"
      ]
    },
    {
      "cell_type": "markdown",
      "metadata": {
        "id": "tNCU1n2ByYCz"
      },
      "source": [
        "###Training"
      ]
    },
    {
      "cell_type": "code",
      "execution_count": 27,
      "metadata": {
        "id": "5uz5yoMDetxV"
      },
      "outputs": [],
      "source": [
        "# Train one epoch\n",
        "def train(model: torch.nn.Module,\n",
        "          train_loader:torch.utils.data.DataLoader,\n",
        "          device: torch.device,\n",
        "          optimizer: torch.optim,\n",
        "          criterion: list,\n",
        "          epoch: int) -> float:\n",
        "    \"\"\"Trains a neural network for one epoch.\n",
        "\n",
        "    Args:\n",
        "        model: the model to train.\n",
        "        train_loader: the data loader containing the training data.\n",
        "        device: the device to use to train the model.\n",
        "        optimizer: the optimizer to use to train the model.\n",
        "        epoch: the number of the current epoch.\n",
        "\n",
        "    Returns:\n",
        "        the cross entropy Loss value on the training data.\n",
        "    \"\"\"\n",
        "    size_ds_train = len(train_loader.dataset)\n",
        "    num_batches = len(train_loader)\n",
        "    loss_score = []\n",
        "    loop = tqdm(train_loader)\n",
        "    #set training mode\n",
        "    model.train()\n",
        "    for idx_batch, batch in enumerate(loop):\n",
        "        optimizer.zero_grad()\n",
        "        input_ids = batch['input_ids'].to(device)\n",
        "        attention_mask = batch['attention_mask'].to(device)\n",
        "        labels_emo = batch['labels_emo'].to(device)\n",
        "        labels_tri = batch['labels_tri'].to(device)\n",
        "        #print(f\"target-size: {labels.shape}\")\n",
        "        logits_emo, logits_tri = model(input_ids,\n",
        "                                        attention_mask=attention_mask,\n",
        "                                    )\n",
        "        #print(f\"logits-size: {logits.shape}\")\n",
        "        loss_emo = criterion[0](logits_emo, labels_emo)\n",
        "        loss_tri = criterion[1](logits_tri, labels_tri)\n",
        "        loss = loss_emo + loss_tri\n",
        "        loss_score.append(loss.item())\n",
        "        loss.backward()\n",
        "        optimizer.step()\n",
        "        loop.set_description(f'Epoch {epoch}')\n",
        "        loop.set_postfix(loss=loss.item())\n",
        "\n",
        "    loss_train = np.mean(loss_score)\n",
        "    return loss_train\n",
        "\n",
        "# Validate one epoch\n",
        "def validate(model: torch.nn.Module,\n",
        "             criterion: torch.nn.Module,\n",
        "             data_loader: torch.utils.data.DataLoader,\n",
        "             device: torch.device) -> float:\n",
        "    \"\"\"Evaluates the model.\n",
        "\n",
        "    Args:\n",
        "        model: the model to evalaute.\n",
        "        data_loader: the data loader containing the validation data.\n",
        "        device: the device to use to evaluate the model.\n",
        "\n",
        "    Returns:\n",
        "        the loss value on the validation data.\n",
        "    \"\"\"\n",
        "    loss_score = []\n",
        "    #set evaluation mode\n",
        "    model = model.eval()\n",
        "    with torch.no_grad():\n",
        "        for idx_batch, batch in enumerate(data_loader):\n",
        "            input_ids = batch['input_ids'].to(device)\n",
        "            attention_mask = batch['attention_mask'].to(device)\n",
        "            labels_emo = batch['labels_emo'].to(device)\n",
        "            labels_tri = batch['labels_tri'].to(device)\n",
        "            logits_emo, logits_tri = model(input_ids,\n",
        "                                            attention_mask=attention_mask,\n",
        "                                        )\n",
        "            loss_emo = criterion[0](logits_emo, labels_emo)\n",
        "            loss_tri = criterion[1](logits_tri, labels_tri)\n",
        "            loss = loss_emo + loss_tri\n",
        "            loss_score.append(loss.item())\n",
        "    loss_val = np.mean(loss_score)\n",
        "    return loss_val"
      ]
    },
    {
      "cell_type": "code",
      "execution_count": 28,
      "metadata": {
        "id": "nxblkDN_Yf1F"
      },
      "outputs": [],
      "source": [
        "def training_loop(num_epochs: int,\n",
        "                  optimizer: torch.optim,\n",
        "                  criterion: torch.nn.Module,\n",
        "                  model: torch.nn.Module,\n",
        "                  loader_train: torch.utils.data.DataLoader,\n",
        "                  loader_val : torch.utils.data.DataLoader = None,\n",
        "                  verbose: bool=True) -> Dict:\n",
        "    \"\"\"Executes the training loop.\n",
        "\n",
        "        Args:\n",
        "            num_epochs: the number of epochs.\n",
        "            optimizer: the optimizer to use.\n",
        "            model: the mode to train.\n",
        "            loader_train: the data loader containing the training data.\n",
        "            loader_val: the data loader containing the validation data.\n",
        "            verbose: if true print the value of loss.\n",
        "\n",
        "        Returns:\n",
        "            A dictionary with the statistics computed during the train:\n",
        "            the values for the train loss for each epoch.\n",
        "            the values for the validation loss for each epoch.\n",
        "            the time of execution in seconds for the entire loop.\n",
        "    \"\"\"\n",
        "    device = torch.device('cuda') if torch.cuda.is_available() else torch.device('cpu')\n",
        "    model.to(device)\n",
        "    loop_start = timer()\n",
        "    train_losses_values = []\n",
        "    val_losses_values = []\n",
        "    for epoch in range(1, num_epochs + 1):\n",
        "        time_start = timer()\n",
        "        loss_train = train(model, loader_train, device,\n",
        "                                           optimizer, criterion, epoch)\n",
        "        if(loader_val != None):\n",
        "          loss_val = validate(model, criterion, loader_val, device)\n",
        "        else:\n",
        "          loss_val = 0\n",
        "        time_end = timer()\n",
        "        train_losses_values.append(loss_train)\n",
        "        val_losses_values.append(loss_val)\n",
        "        if verbose:\n",
        "            print(f'Epoch: {epoch} '\n",
        "                  f' Lr: {lr:.8f} '\n",
        "                  f' Loss: Train = [{loss_train:.4f}] - Val = [{loss_val:.4f}] '\n",
        "                  f' Time one epoch (s): {(time_end - time_start):.4f} ')\n",
        "    loop_end = timer()\n",
        "    time_loop = loop_end - loop_start\n",
        "    if verbose:\n",
        "        print(f'Time for {num_epochs} epochs (s): {(time_loop):.3f}')\n",
        "\n",
        "    return {'train_loss_values': train_losses_values,\n",
        "            'val_loss_values' : val_losses_values,\n",
        "            'time': time_loop}"
      ]
    },
    {
      "cell_type": "markdown",
      "metadata": {
        "id": "VDNIeZNByTcM"
      },
      "source": [
        "###Execution"
      ]
    },
    {
      "cell_type": "code",
      "execution_count": 29,
      "metadata": {
        "id": "-NskXNZBhI5A"
      },
      "outputs": [],
      "source": [
        "def execute(lr: float,\n",
        "            num_epochs: int,\n",
        "            batch_size: int,\n",
        "            criterion: torch.nn.Module,\n",
        "            num_labels_emo: int,\n",
        "            num_labels_tri: int,\n",
        "            data: pd.DataFrame,\n",
        "            data_labels_emo: pd.DataFrame,\n",
        "            data_labels_tri: pd.DataFrame,\n",
        "            val_df: pd.DataFrame,\n",
        "            val_labels_emo: pd.DataFrame,\n",
        "            val_labels_tri: pd.DataFrame,\n",
        "            model_name=\"\",\n",
        "            model=None,\n",
        "            tokenizer=None\n",
        "            ) ->Tuple[torch.nn.Module, any]:\n",
        "    \"\"\"Gets the model, does the encodings of the training and validation data using the\n",
        "        tokenizer, and then executes the training loop.\n",
        "\n",
        "    Args:\n",
        "        lr: the learning rate.\n",
        "        num_epochs: the number of epochs.\n",
        "        batch_size: the batch size.\n",
        "        data: training-val dataframe.\n",
        "        data_labels: training-val labels dataframe.\n",
        "        val_df: validation dataframe.\n",
        "        model: the network to train.\n",
        "        history: questions-answers history flag.\n",
        "    \"\"\"\n",
        "\n",
        "    #train on full data\n",
        "    #get the model and the tokenizer\n",
        "    if not model_name == \"\":\n",
        "      model, tokenizer = getModel(model_name, num_labels_emo, num_labels_tri)\n",
        "    #Start encodings\n",
        "    #print(f'Train set:')\n",
        "    train_encodings = encode2(tokenizer, data, data_labels_emo, data_labels_tri)\n",
        "    #print(f'Validation set:')\n",
        "    val_encodings = encode2(tokenizer, val_df, val_labels_emo, val_labels_tri)\n",
        "    print(f'ENCODING COMPLETE.')\n",
        "    #create training dataset\n",
        "    train_dataset = CreateDataset(train_encodings)\n",
        "    #create training dataloader\n",
        "    data_loader_train = torch.utils.data.DataLoader(train_dataset,\n",
        "                                        batch_size=batch_size,\n",
        "                                        shuffle = True\n",
        "                                        )\n",
        "    #create validation dataset\n",
        "    val_dataset = CreateDataset(val_encodings)\n",
        "    #create validation dataloader\n",
        "    data_loader_val = torch.utils.data.DataLoader(val_dataset,\n",
        "                                          batch_size=batch_size,\n",
        "                                          shuffle = False\n",
        "                                          )\n",
        "    #Optimizer\n",
        "    optimizer = torch.optim.AdamW(model.parameters(), lr=lr, weight_decay=1.5e-2)\n",
        "    print(f'STARTING TRAINING with complete data:')\n",
        "    statistics = training_loop(num_epochs, optimizer, criterion, model,\n",
        "                              data_loader_train, data_loader_val)\n",
        "    print(f'TRAINING COMPLETE.')\n",
        "\n",
        "    return model, tokenizer, statistics"
      ]
    },
    {
      "cell_type": "code",
      "execution_count": 30,
      "metadata": {
        "id": "zJHqzQPD8K6Q"
      },
      "outputs": [],
      "source": [
        "def evaluate(model, criterion, data_loader, device):\n",
        "  average_loss = []\n",
        "  predictions = []\n",
        "  model.eval()\n",
        "  model.to(device)\n",
        "  first = True\n",
        "  loop = tqdm(data_loader)\n",
        "  with torch.no_grad():\n",
        "    for batch in loop:\n",
        "      target_emo = batch['labels_emo'].to(device)\n",
        "      target_tri = batch['labels_tri'].to(device)\n",
        "      prediction_emo, prediction_tri = model(batch['input_ids'].to(device), attention_mask = batch[\"attention_mask\"].to(device))\n",
        "      predictions.append((prediction_emo, prediction_tri))\n",
        "      loss_emo = criterion(prediction_emo,target_emo)\n",
        "      loss_tri = criterion(prediction_emo,target_tri)\n",
        "      loss = loss_emo + loss_tri\n",
        "      average_loss.append(loss.item())\n",
        "\n",
        "  loss = np.mean(average_loss)\n",
        "  print(f\"\\naverage loss on val set: {loss}\")\n",
        "\n",
        "  return predictions"
      ]
    },
    {
      "cell_type": "markdown",
      "metadata": {
        "id": "nqifN2aAygA0"
      },
      "source": [
        "###Encoding"
      ]
    },
    {
      "cell_type": "code",
      "execution_count": 31,
      "metadata": {
        "id": "CKi5YO3ZqDlH"
      },
      "outputs": [],
      "source": [
        "def encode(tokenizer, df, labels_emo, labels_tri):\n",
        "    #premise , stance, conclusion  --> premise, stance + conclusion\n",
        "    #append the stance to the conclusion by putting a separator between them\n",
        "  encodings = tokenizer(list(df['utterance']),\n",
        "                          padding=True,\n",
        "                          truncation=True,\n",
        "                          max_length = 250,\n",
        "                          )\n",
        "  \"\"\"\n",
        "  input_ids, input_attention_mask = encodings['input_ids'], encodings['attention_mask']\n",
        "  print(f\"input shape: {np.shape(input_ids)}\")\n",
        "  encodings.update({'labels_emo' : torch.LongTensor(labels_emo.values)})\n",
        "  encodings.update({'labels_tri' : torch.FloatTensor(labels_tri.values)})\n",
        "  encodings.pop('token_type_ids')\n",
        "  \"\"\"\n",
        "  input_ids, input_attention_mask = encodings['input_ids'], encodings['attention_mask']\n",
        "  print(f\"input shape: {np.shape(input_ids)}\")\n",
        "  encodings.update({'labels_emo' : torch.LongTensor(labels_emo.values)})\n",
        "  labels_tri = np.expand_dims(labels_tri.values, axis=1)\n",
        "  encodings.update({'labels_tri' : torch.FloatTensor(labels_tri)})\n",
        "  encodings.pop('token_type_ids')\n",
        "  return encodings\n",
        "\n",
        "def encode2(tokenizer, df, labels_emo, labels_tri):\n",
        "    #premise , stance, conclusion  --> premise, stance + conclusion\n",
        "    #append the stance to the conclusion by putting a separator between them\n",
        "  encodings = tokenizer(list(df['utterance']),\n",
        "                        list(df['history']),\n",
        "                          padding=True,\n",
        "                          truncation=True,\n",
        "                          max_length = 300,\n",
        "                          )\n",
        "  input_ids, input_attention_mask = encodings['input_ids'], encodings['attention_mask']\n",
        "  print(f\"input shape: {np.shape(input_ids)}\")\n",
        "  encodings.update({'labels_emo' : torch.LongTensor(labels_emo.values)})\n",
        "  labels_tri = np.expand_dims(labels_tri.values, axis=1)\n",
        "  encodings.update({'labels_tri' : torch.FloatTensor(labels_tri)})\n",
        "  encodings.pop('token_type_ids')\n",
        "  return encodings"
      ]
    },
    {
      "cell_type": "code",
      "execution_count": 32,
      "metadata": {
        "id": "PFalynGpbzpJ"
      },
      "outputs": [],
      "source": [
        "#model_checkpoint= 'prajjwal1/bert-tiny'\n",
        "#model_checkpoint = \"distilbert-base-uncased\"\n",
        "model_checkpoint = 'bert-base-uncased'\n",
        "#device = torch.device('cuda') if torch.cuda.is_available() else torch.device('cpu')\n",
        "\n",
        "#eos_token  = tokenizer.cls_token_id\n",
        "#sep_token  = tokenizer.sep_token_id"
      ]
    },
    {
      "cell_type": "markdown",
      "metadata": {
        "id": "nRcHZEv1xX_c"
      },
      "source": [
        "##Model training"
      ]
    },
    {
      "cell_type": "code",
      "execution_count": 33,
      "metadata": {
        "id": "mbmP9h2lCEC_"
      },
      "outputs": [],
      "source": [
        "#parameters\n",
        "lr = 5e-5\n",
        "batch_size = 32\n",
        "epochs = 2\n",
        "cross_val = False\n",
        "criterion = [torch.nn.CrossEntropyLoss(), torch.nn.BCELoss()]"
      ]
    },
    {
      "cell_type": "markdown",
      "metadata": {
        "id": "uqEbJB4RJore"
      },
      "source": [
        "if you want to pass to the model the whole training set, change the code below"
      ]
    },
    {
      "cell_type": "code",
      "execution_count": 34,
      "metadata": {
        "id": "zVNJ1xmREcDw"
      },
      "outputs": [],
      "source": [
        "fast_and_small = True\n",
        "\n",
        "num_labels_emo = len(df_train['labemo'].unique())\n",
        "num_labels_tri = len(df_train['trigger'].unique())\n",
        "\n",
        "if fast_and_small:\n",
        "    df_train = df_train[:2000]\n",
        "    df_val = df_val[:1000]\n",
        "\n",
        "df_train_labels_emo = df_train['labemo']\n",
        "df_train_labels_tri = df_train['trigger']\n",
        "df_val_labels_emo = df_val['labemo']\n",
        "df_val_labels_tri = df_val['trigger']"
      ]
    },
    {
      "cell_type": "code",
      "execution_count": 35,
      "metadata": {
        "colab": {
          "base_uri": "https://localhost:8080/"
        },
        "id": "xBV8UxfqrIzl",
        "outputId": "9c5c764b-c901-4852-b922-e9d1947bf199"
      },
      "outputs": [
        {
          "output_type": "stream",
          "name": "stdout",
          "text": [
            "input shape: (2000, 86)\n",
            "input shape: (1000, 86)\n",
            "ENCODING COMPLETE.\n",
            "STARTING TRAINING with complete data:\n"
          ]
        },
        {
          "output_type": "stream",
          "name": "stderr",
          "text": [
            "\r  0%|          | 0/63 [00:00<?, ?it/s]<ipython-input-24-4004cf27e00a>:6: UserWarning: To copy construct from a tensor, it is recommended to use sourceTensor.clone().detach() or sourceTensor.clone().detach().requires_grad_(True), rather than torch.tensor(sourceTensor).\n",
            "  return {key: torch.tensor(val[idx]) for key, val in self.encodings.items()}\n",
            "Epoch 1: 100%|██████████| 63/63 [00:29<00:00,  2.17it/s, loss=1.73]\n"
          ]
        },
        {
          "output_type": "stream",
          "name": "stdout",
          "text": [
            "Epoch: 1  Lr: 0.00005000  Loss: Train = [2.0241] - Val = [1.7147]  Time one epoch (s): 33.8611 \n"
          ]
        },
        {
          "output_type": "stream",
          "name": "stderr",
          "text": [
            "Epoch 2: 100%|██████████| 63/63 [00:27<00:00,  2.25it/s, loss=1.06]\n"
          ]
        },
        {
          "output_type": "stream",
          "name": "stdout",
          "text": [
            "Epoch: 2  Lr: 0.00005000  Loss: Train = [1.3189] - Val = [1.6622]  Time one epoch (s): 33.0575 \n",
            "Time for 2 epochs (s): 66.919\n",
            "TRAINING COMPLETE.\n"
          ]
        }
      ],
      "source": [
        "#execute\n",
        "model, tokenizer, statistics = execute(lr, epochs, batch_size, criterion, num_labels_emo, num_labels_tri, df_train, df_train_labels_emo, df_train_labels_tri, df_val, df_val_labels_emo, df_val_labels_tri, model_name=model_checkpoint)"
      ]
    },
    {
      "cell_type": "markdown",
      "metadata": {
        "id": "d22-n6vcEIN7"
      },
      "source": [
        "## Evaluation"
      ]
    },
    {
      "cell_type": "code",
      "execution_count": 36,
      "metadata": {
        "id": "VbckJJkjEUZp"
      },
      "outputs": [],
      "source": [
        "#df_test_small = df_test\n",
        "df_test_labels_emo = df_test['labemo']\n",
        "df_test_labels_tri = df_test['trigger']"
      ]
    },
    {
      "cell_type": "code",
      "execution_count": 37,
      "metadata": {
        "colab": {
          "base_uri": "https://localhost:8080/"
        },
        "id": "HuLUh8TDEMg-",
        "outputId": "36173f9d-1e6d-4b5c-eb95-e785b9575a82"
      },
      "outputs": [
        {
          "output_type": "stream",
          "name": "stdout",
          "text": [
            "input shape: (3612, 101)\n"
          ]
        }
      ],
      "source": [
        "test_encodings = encode2(tokenizer, df_test, df_test_labels_emo, df_test_labels_tri)\n",
        "#create training dataset\n",
        "test_dataset = CreateDataset(test_encodings)\n",
        "#create training dataloader\n",
        "test_dataloader = torch.utils.data.DataLoader(test_dataset,\n",
        "                                        batch_size=batch_size,\n",
        "                                        shuffle = False\n",
        "                                        )"
      ]
    },
    {
      "cell_type": "code",
      "execution_count": 38,
      "metadata": {
        "colab": {
          "base_uri": "https://localhost:8080/"
        },
        "id": "nsr2-99SKHor",
        "outputId": "f8a15903-3dad-4f79-beb4-22fc9d0ff2e4"
      },
      "outputs": [
        {
          "output_type": "stream",
          "name": "stderr",
          "text": [
            "\r0it [00:00, ?it/s]<ipython-input-24-4004cf27e00a>:6: UserWarning: To copy construct from a tensor, it is recommended to use sourceTensor.clone().detach() or sourceTensor.clone().detach().requires_grad_(True), rather than torch.tensor(sourceTensor).\n",
            "  return {key: torch.tensor(val[idx]) for key, val in self.encodings.items()}\n",
            "113it [00:20,  5.62it/s]\n"
          ]
        }
      ],
      "source": [
        "model.eval()\n",
        "device = torch.device('cuda') if torch.cuda.is_available() else torch.device('cpu')\n",
        "model.to(device)\n",
        "test_pred_emo = []\n",
        "test_pred_tri = []\n",
        "with torch.no_grad():\n",
        "    for step_num, batch in tqdm(enumerate(test_dataloader)):\n",
        "        input_ids = batch['input_ids'].to(device)\n",
        "        attention_mask = batch['attention_mask'].to(device)\n",
        "        labels_emo = batch['labels_emo'].to(device)\n",
        "        labels_tri = batch['labels_tri'].to(device)\n",
        "        output = model(input_ids, attention_mask=attention_mask,\n",
        "                        )\n",
        "        p_emo, p_tri = output\n",
        "        p_emo = p_emo.cpu().detach().numpy()\n",
        "        p_tri = p_tri.cpu().detach().numpy()\n",
        "        test_pred_emo.append(np.argmax(p_emo,axis=-1))\n",
        "        test_pred_tri.append(np.argmax(p_tri,axis=-1))\n",
        "test_pred_emo = np.concatenate(test_pred_emo)\n",
        "test_pred_tri = np.concatenate(test_pred_tri)\n",
        "test_pred_tri = test_pred_tri.astype(float)"
      ]
    },
    {
      "cell_type": "code",
      "execution_count": 39,
      "metadata": {
        "colab": {
          "base_uri": "https://localhost:8080/"
        },
        "id": "GNqaWoIftKMU",
        "outputId": "db97bd86-7c80-4d2a-ce9c-281e8b6bf04c"
      },
      "outputs": [
        {
          "output_type": "stream",
          "name": "stdout",
          "text": [
            "[4 4 3 5 4 4 3 5 6 4 5 5 4 4 3 5 6 4 5 5 4 4 6 6 6 4 4 4 0 4 3 6 4 4 4 4 4\n",
            " 3 3 3 5 3 6 3 4 3 6 3 4 4 4 3 4 6 0 3 6 3 4 4 4 3 4 6 0 0 0 4 4 4 4 3 4 4\n",
            " 3 4 3 3 6 4 4 2 4 2 4 3 3 6 4 4 2 4 2 0 4 4 4 6 4 4]\n",
            "[0. 0. 0. 0. 0. 0. 0. 0. 0. 0. 0. 0. 0. 0. 0. 0. 0. 0. 0. 0. 0. 0. 0. 0.\n",
            " 0. 0. 0. 0. 0. 0. 0. 0. 0. 0. 0. 0. 0. 0. 0. 0. 0. 0. 0. 0. 0. 0. 0. 0.\n",
            " 0. 0. 0. 0. 0. 0. 0. 0. 0. 0. 0. 0. 0. 0. 0. 0. 0. 0. 0. 0. 0. 0. 0. 0.\n",
            " 0. 0. 0. 0. 0. 0. 0. 0. 0. 0. 0. 0. 0. 0. 0. 0. 0. 0. 0. 0. 0. 0. 0. 0.\n",
            " 0. 0. 0. 0.]\n"
          ]
        }
      ],
      "source": [
        "print(test_pred_emo[:100])\n",
        "print(test_pred_tri[:100])"
      ]
    },
    {
      "cell_type": "markdown",
      "metadata": {
        "id": "uPVCeY7HQa_T"
      },
      "source": [
        "#### Reports\n",
        "Evaluate the models by using the Sequence F1 and the Unrolled Sequence F1 scores."
      ]
    },
    {
      "cell_type": "code",
      "execution_count": 40,
      "metadata": {
        "id": "0qRi-CTVyhGD"
      },
      "outputs": [],
      "source": [
        "from sklearn.metrics import f1_score\n",
        "\n",
        "def sequence_f1(data: pd.DataFrame):\n",
        "  '''input data has columns: episode, utterance, emotion, trigger, labemo, labtri, predicted_emo, predicted_tri\n",
        "      ground truth:   labemo, labtri\n",
        "      predicted:      predicted_emo, predicted_tri\n",
        "\n",
        "      we calculate the F1 scores dialog-wise, and then return the average'''\n",
        "\n",
        "  scores_emo = []\n",
        "  scores_tri = []\n",
        "\n",
        "  for ep in data['episode'].unique():\n",
        "    ep_data = data[data['episode'] == ep]\n",
        "\n",
        "    y_true = ep_data['labemo']\n",
        "    y_pred = ep_data['predicted_emo']\n",
        "    # TODO: I don't like -> data['labemo'].unique() => we should change it\n",
        "    scores_emo.append(f1_score(y_true, y_pred, labels=data['labemo'].unique(), average='micro'))\n",
        "\n",
        "    y_true = ep_data['trigger']\n",
        "    y_pred = ep_data['predicted_tri']\n",
        "    # TODO: I don't like -> data['labemo'].unique() => we should change it\n",
        "    scores_tri.append(f1_score(y_true, y_pred, labels=data['trigger'].unique(), average='micro'))\n",
        "  return np.mean(scores_emo), np.mean(scores_tri)\n",
        "\n",
        "def unrolled_f1(data: pd.DataFrame):\n",
        "  '''input data has columns: episode, utterance, emotion, trigger, labemo, labtri, predicted_emo, predicted_tri\n",
        "      ground truth:   labemo, labtri\n",
        "      predicted:      predicted_emo, predicted_tri\n",
        "\n",
        "      we calculate the F1 scores on the whole dataset'''\n",
        "  y_true = data['labemo']\n",
        "  y_pred = data['predicted_emo']\n",
        "  # TODO: I don't like -> data['labemo'].unique() => we should change it\n",
        "  # TODO: Is it ok if we do 'macro' average?\n",
        "  f1_emotion = f1_score(y_true, y_pred, labels=data['labemo'].unique(), average='macro')\n",
        "\n",
        "  y_true = data['trigger']\n",
        "  y_pred = data['predicted_tri']\n",
        "  # TODO: I don't like -> data['labemo'].unique() => we should change it\n",
        "  # TODO: Is it ok if we do 'macro' average?\n",
        "  f1_trigger = f1_score(y_true, y_pred, labels=data['trigger'].unique(), average='macro')\n",
        "  return f1_emotion, f1_trigger\n"
      ]
    },
    {
      "cell_type": "code",
      "execution_count": 41,
      "metadata": {
        "colab": {
          "base_uri": "https://localhost:8080/"
        },
        "id": "Pq-ki00p9MhJ",
        "outputId": "3b0c86c2-6381-4d76-eb65-f8a01174e134"
      },
      "outputs": [
        {
          "output_type": "execute_result",
          "data": {
            "text/plain": [
              "{'neutral': 864,\n",
              " 'surprise': 274,\n",
              " 'fear': 84,\n",
              " 'sadness': 110,\n",
              " 'joy': 380,\n",
              " 'disgust': 58,\n",
              " 'anger': 230}"
            ]
          },
          "metadata": {},
          "execution_count": 41
        }
      ],
      "source": [
        "def update_count_dictionary(key:str, d_em:dict):\n",
        "    ''' Given in input a dictionary and a string key, it counts the times\n",
        "        that key has been added.'''\n",
        "    if key in d_em.keys():\n",
        "        d_em[key] += 1\n",
        "    else:\n",
        "        d_em[key] = 1\n",
        "\n",
        "raw_emotions_dict = dict()\n",
        "[update_count_dictionary(emotion, raw_emotions_dict) for emotion in df_train['emotion']]\n",
        "raw_emotions_dict"
      ]
    },
    {
      "cell_type": "code",
      "source": [
        "emotions_dict = dict()\n",
        "[update_count_dictionary(emotion, emotions_dict) for emotion in df_train['labemo']]\n",
        "emotions_dict"
      ],
      "metadata": {
        "colab": {
          "base_uri": "https://localhost:8080/"
        },
        "id": "vPMhLf3BzJ7c",
        "outputId": "689eab1f-08e2-4bc2-c9b4-45a6f5536364"
      },
      "execution_count": 42,
      "outputs": [
        {
          "output_type": "execute_result",
          "data": {
            "text/plain": [
              "{4: 864, 6: 274, 2: 84, 5: 110, 3: 380, 1: 58, 0: 230}"
            ]
          },
          "metadata": {},
          "execution_count": 42
        }
      ]
    },
    {
      "cell_type": "markdown",
      "metadata": {
        "id": "AVJIVHCHRET5"
      },
      "source": [
        "### Baseline: Random Classifier"
      ]
    },
    {
      "cell_type": "code",
      "execution_count": 43,
      "metadata": {
        "colab": {
          "base_uri": "https://localhost:8080/"
        },
        "id": "hSXtmUZQRF15",
        "outputId": "8be9cb42-91aa-4539-bc24-d776f9d6ce76"
      },
      "outputs": [
        {
          "output_type": "stream",
          "name": "stdout",
          "text": [
            "A test for the dumb random classifier:\n",
            "\t\tinput: Oh God! I'm dumb..\n",
            "\t\toutput: emotion:0, trigger:True\n"
          ]
        }
      ],
      "source": [
        "class Random_Classifier():\n",
        "    '''It is trained on a dataset using the emotion and trigger columns.\n",
        "        It's output on the forward method will be always a random emotion\n",
        "        and trigger.'''\n",
        "\n",
        "    def __init__(self):\n",
        "        self.emotions = []\n",
        "        self.triggers = []\n",
        "\n",
        "    def train(self, dataset:pd.DataFrame):\n",
        "        '''Input a dataset with the emotion and trigger columns.'''\n",
        "\n",
        "        emotions = dict()\n",
        "        triggers = dict()\n",
        "\n",
        "        for em, tr in dataset[['labemo','trigger']].values:\n",
        "            update_count_dictionary(em, emotions)\n",
        "            update_count_dictionary(tr, triggers)\n",
        "\n",
        "        self.emotions = [d for d in emotions.keys()]\n",
        "        self.triggers = [d for d in triggers.keys()]\n",
        "        self.n_em = len(self.emotions)\n",
        "        self.n_tr = len(self.triggers)\n",
        "\n",
        "\n",
        "    def forward(self, utterance):\n",
        "        '''The input is ignored. This method can be modified. It is intended to\n",
        "            mimic the forward method of an ML model such that it usable in the same way.'''\n",
        "        return self.emotions[np.random.randint(self.n_em)], self.triggers[np.random.randint(self.n_tr)]\n",
        "\n",
        "\n",
        "dumb_random = Random_Classifier()\n",
        "dumb_random.train(df_train)\n",
        "\n",
        "print(\"A test for the dumb random classifier:\")\n",
        "print(\"\\t\\tinput: Oh God! I'm dumb..\")\n",
        "\n",
        "e, t = dumb_random.forward(\"Oh God! I'm dumb..\")\n",
        "print(\"\\t\\toutput: emotion:{}, trigger:{}\".format(e,t))"
      ]
    },
    {
      "cell_type": "code",
      "source": [
        "random_pred_emo = []\n",
        "random_pred_tri = []\n",
        "for utterance in df_test[\"utterance\"]: # TODO accept numpy array in forward()\n",
        "  e, t = dumb_random.forward(utterance)\n",
        "  random_pred_emo.append(e)\n",
        "  random_pred_tri.append(t)\n",
        "df_test.loc[:,('predicted_emo')] = random_pred_emo\n",
        "df_test.loc[:,('predicted_tri')] = random_pred_tri\n",
        "df_test.head(5)"
      ],
      "metadata": {
        "id": "ZMluMXC5568B",
        "colab": {
          "base_uri": "https://localhost:8080/",
          "height": 466
        },
        "outputId": "c39b3c9e-eb08-4a7a-9298-6f8a9ae53b74"
      },
      "execution_count": 44,
      "outputs": [
        {
          "output_type": "stream",
          "name": "stderr",
          "text": [
            "<ipython-input-44-a3dad8d86976>:7: SettingWithCopyWarning: \n",
            "A value is trying to be set on a copy of a slice from a DataFrame.\n",
            "Try using .loc[row_indexer,col_indexer] = value instead\n",
            "\n",
            "See the caveats in the documentation: https://pandas.pydata.org/pandas-docs/stable/user_guide/indexing.html#returning-a-view-versus-a-copy\n",
            "  df_test.loc[:,('predicted_emo')] = random_pred_emo\n",
            "<ipython-input-44-a3dad8d86976>:8: SettingWithCopyWarning: \n",
            "A value is trying to be set on a copy of a slice from a DataFrame.\n",
            "Try using .loc[row_indexer,col_indexer] = value instead\n",
            "\n",
            "See the caveats in the documentation: https://pandas.pydata.org/pandas-docs/stable/user_guide/indexing.html#returning-a-view-versus-a-copy\n",
            "  df_test.loc[:,('predicted_tri')] = random_pred_tri\n"
          ]
        },
        {
          "output_type": "execute_result",
          "data": {
            "text/plain": [
              "         episode                                          utterance  \\\n",
              "55   utterance_8                                          Hey, Mon.   \n",
              "56   utterance_8  Hey-hey-hey. You wanna hear something that sucks.   \n",
              "57   utterance_8                                         Do I ever.   \n",
              "58   utterance_8           Chris says they're closing down the bar.   \n",
              "77  utterance_12                                          Hey, Mon.   \n",
              "\n",
              "                                              history  emotion  trigger  \\\n",
              "55                                                     neutral    False   \n",
              "56                                          Hey, Mon.  neutral    False   \n",
              "57  Hey, Mon. Hey-hey-hey. You wanna hear somethin...      joy    False   \n",
              "58  Hey-hey-hey. You wanna hear something that suc...  sadness     True   \n",
              "77                                                     neutral    False   \n",
              "\n",
              "    labemo  predicted_emo  predicted_tri  \n",
              "55       4              3          False  \n",
              "56       4              2           True  \n",
              "57       3              3          False  \n",
              "58       5              0           True  \n",
              "77       4              2          False  "
            ],
            "text/html": [
              "\n",
              "  <div id=\"df-f7dc1f02-e9aa-4372-b2ab-4aa1d8770525\" class=\"colab-df-container\">\n",
              "    <div>\n",
              "<style scoped>\n",
              "    .dataframe tbody tr th:only-of-type {\n",
              "        vertical-align: middle;\n",
              "    }\n",
              "\n",
              "    .dataframe tbody tr th {\n",
              "        vertical-align: top;\n",
              "    }\n",
              "\n",
              "    .dataframe thead th {\n",
              "        text-align: right;\n",
              "    }\n",
              "</style>\n",
              "<table border=\"1\" class=\"dataframe\">\n",
              "  <thead>\n",
              "    <tr style=\"text-align: right;\">\n",
              "      <th></th>\n",
              "      <th>episode</th>\n",
              "      <th>utterance</th>\n",
              "      <th>history</th>\n",
              "      <th>emotion</th>\n",
              "      <th>trigger</th>\n",
              "      <th>labemo</th>\n",
              "      <th>predicted_emo</th>\n",
              "      <th>predicted_tri</th>\n",
              "    </tr>\n",
              "  </thead>\n",
              "  <tbody>\n",
              "    <tr>\n",
              "      <th>55</th>\n",
              "      <td>utterance_8</td>\n",
              "      <td>Hey, Mon.</td>\n",
              "      <td></td>\n",
              "      <td>neutral</td>\n",
              "      <td>False</td>\n",
              "      <td>4</td>\n",
              "      <td>3</td>\n",
              "      <td>False</td>\n",
              "    </tr>\n",
              "    <tr>\n",
              "      <th>56</th>\n",
              "      <td>utterance_8</td>\n",
              "      <td>Hey-hey-hey. You wanna hear something that sucks.</td>\n",
              "      <td>Hey, Mon.</td>\n",
              "      <td>neutral</td>\n",
              "      <td>False</td>\n",
              "      <td>4</td>\n",
              "      <td>2</td>\n",
              "      <td>True</td>\n",
              "    </tr>\n",
              "    <tr>\n",
              "      <th>57</th>\n",
              "      <td>utterance_8</td>\n",
              "      <td>Do I ever.</td>\n",
              "      <td>Hey, Mon. Hey-hey-hey. You wanna hear somethin...</td>\n",
              "      <td>joy</td>\n",
              "      <td>False</td>\n",
              "      <td>3</td>\n",
              "      <td>3</td>\n",
              "      <td>False</td>\n",
              "    </tr>\n",
              "    <tr>\n",
              "      <th>58</th>\n",
              "      <td>utterance_8</td>\n",
              "      <td>Chris says they're closing down the bar.</td>\n",
              "      <td>Hey-hey-hey. You wanna hear something that suc...</td>\n",
              "      <td>sadness</td>\n",
              "      <td>True</td>\n",
              "      <td>5</td>\n",
              "      <td>0</td>\n",
              "      <td>True</td>\n",
              "    </tr>\n",
              "    <tr>\n",
              "      <th>77</th>\n",
              "      <td>utterance_12</td>\n",
              "      <td>Hey, Mon.</td>\n",
              "      <td></td>\n",
              "      <td>neutral</td>\n",
              "      <td>False</td>\n",
              "      <td>4</td>\n",
              "      <td>2</td>\n",
              "      <td>False</td>\n",
              "    </tr>\n",
              "  </tbody>\n",
              "</table>\n",
              "</div>\n",
              "    <div class=\"colab-df-buttons\">\n",
              "\n",
              "  <div class=\"colab-df-container\">\n",
              "    <button class=\"colab-df-convert\" onclick=\"convertToInteractive('df-f7dc1f02-e9aa-4372-b2ab-4aa1d8770525')\"\n",
              "            title=\"Convert this dataframe to an interactive table.\"\n",
              "            style=\"display:none;\">\n",
              "\n",
              "  <svg xmlns=\"http://www.w3.org/2000/svg\" height=\"24px\" viewBox=\"0 -960 960 960\">\n",
              "    <path d=\"M120-120v-720h720v720H120Zm60-500h600v-160H180v160Zm220 220h160v-160H400v160Zm0 220h160v-160H400v160ZM180-400h160v-160H180v160Zm440 0h160v-160H620v160ZM180-180h160v-160H180v160Zm440 0h160v-160H620v160Z\"/>\n",
              "  </svg>\n",
              "    </button>\n",
              "\n",
              "  <style>\n",
              "    .colab-df-container {\n",
              "      display:flex;\n",
              "      gap: 12px;\n",
              "    }\n",
              "\n",
              "    .colab-df-convert {\n",
              "      background-color: #E8F0FE;\n",
              "      border: none;\n",
              "      border-radius: 50%;\n",
              "      cursor: pointer;\n",
              "      display: none;\n",
              "      fill: #1967D2;\n",
              "      height: 32px;\n",
              "      padding: 0 0 0 0;\n",
              "      width: 32px;\n",
              "    }\n",
              "\n",
              "    .colab-df-convert:hover {\n",
              "      background-color: #E2EBFA;\n",
              "      box-shadow: 0px 1px 2px rgba(60, 64, 67, 0.3), 0px 1px 3px 1px rgba(60, 64, 67, 0.15);\n",
              "      fill: #174EA6;\n",
              "    }\n",
              "\n",
              "    .colab-df-buttons div {\n",
              "      margin-bottom: 4px;\n",
              "    }\n",
              "\n",
              "    [theme=dark] .colab-df-convert {\n",
              "      background-color: #3B4455;\n",
              "      fill: #D2E3FC;\n",
              "    }\n",
              "\n",
              "    [theme=dark] .colab-df-convert:hover {\n",
              "      background-color: #434B5C;\n",
              "      box-shadow: 0px 1px 3px 1px rgba(0, 0, 0, 0.15);\n",
              "      filter: drop-shadow(0px 1px 2px rgba(0, 0, 0, 0.3));\n",
              "      fill: #FFFFFF;\n",
              "    }\n",
              "  </style>\n",
              "\n",
              "    <script>\n",
              "      const buttonEl =\n",
              "        document.querySelector('#df-f7dc1f02-e9aa-4372-b2ab-4aa1d8770525 button.colab-df-convert');\n",
              "      buttonEl.style.display =\n",
              "        google.colab.kernel.accessAllowed ? 'block' : 'none';\n",
              "\n",
              "      async function convertToInteractive(key) {\n",
              "        const element = document.querySelector('#df-f7dc1f02-e9aa-4372-b2ab-4aa1d8770525');\n",
              "        const dataTable =\n",
              "          await google.colab.kernel.invokeFunction('convertToInteractive',\n",
              "                                                    [key], {});\n",
              "        if (!dataTable) return;\n",
              "\n",
              "        const docLinkHtml = 'Like what you see? Visit the ' +\n",
              "          '<a target=\"_blank\" href=https://colab.research.google.com/notebooks/data_table.ipynb>data table notebook</a>'\n",
              "          + ' to learn more about interactive tables.';\n",
              "        element.innerHTML = '';\n",
              "        dataTable['output_type'] = 'display_data';\n",
              "        await google.colab.output.renderOutput(dataTable, element);\n",
              "        const docLink = document.createElement('div');\n",
              "        docLink.innerHTML = docLinkHtml;\n",
              "        element.appendChild(docLink);\n",
              "      }\n",
              "    </script>\n",
              "  </div>\n",
              "\n",
              "\n",
              "<div id=\"df-381efbdf-3952-4c98-a9a5-ffd60cab98cd\">\n",
              "  <button class=\"colab-df-quickchart\" onclick=\"quickchart('df-381efbdf-3952-4c98-a9a5-ffd60cab98cd')\"\n",
              "            title=\"Suggest charts\"\n",
              "            style=\"display:none;\">\n",
              "\n",
              "<svg xmlns=\"http://www.w3.org/2000/svg\" height=\"24px\"viewBox=\"0 0 24 24\"\n",
              "     width=\"24px\">\n",
              "    <g>\n",
              "        <path d=\"M19 3H5c-1.1 0-2 .9-2 2v14c0 1.1.9 2 2 2h14c1.1 0 2-.9 2-2V5c0-1.1-.9-2-2-2zM9 17H7v-7h2v7zm4 0h-2V7h2v10zm4 0h-2v-4h2v4z\"/>\n",
              "    </g>\n",
              "</svg>\n",
              "  </button>\n",
              "\n",
              "<style>\n",
              "  .colab-df-quickchart {\n",
              "      --bg-color: #E8F0FE;\n",
              "      --fill-color: #1967D2;\n",
              "      --hover-bg-color: #E2EBFA;\n",
              "      --hover-fill-color: #174EA6;\n",
              "      --disabled-fill-color: #AAA;\n",
              "      --disabled-bg-color: #DDD;\n",
              "  }\n",
              "\n",
              "  [theme=dark] .colab-df-quickchart {\n",
              "      --bg-color: #3B4455;\n",
              "      --fill-color: #D2E3FC;\n",
              "      --hover-bg-color: #434B5C;\n",
              "      --hover-fill-color: #FFFFFF;\n",
              "      --disabled-bg-color: #3B4455;\n",
              "      --disabled-fill-color: #666;\n",
              "  }\n",
              "\n",
              "  .colab-df-quickchart {\n",
              "    background-color: var(--bg-color);\n",
              "    border: none;\n",
              "    border-radius: 50%;\n",
              "    cursor: pointer;\n",
              "    display: none;\n",
              "    fill: var(--fill-color);\n",
              "    height: 32px;\n",
              "    padding: 0;\n",
              "    width: 32px;\n",
              "  }\n",
              "\n",
              "  .colab-df-quickchart:hover {\n",
              "    background-color: var(--hover-bg-color);\n",
              "    box-shadow: 0 1px 2px rgba(60, 64, 67, 0.3), 0 1px 3px 1px rgba(60, 64, 67, 0.15);\n",
              "    fill: var(--button-hover-fill-color);\n",
              "  }\n",
              "\n",
              "  .colab-df-quickchart-complete:disabled,\n",
              "  .colab-df-quickchart-complete:disabled:hover {\n",
              "    background-color: var(--disabled-bg-color);\n",
              "    fill: var(--disabled-fill-color);\n",
              "    box-shadow: none;\n",
              "  }\n",
              "\n",
              "  .colab-df-spinner {\n",
              "    border: 2px solid var(--fill-color);\n",
              "    border-color: transparent;\n",
              "    border-bottom-color: var(--fill-color);\n",
              "    animation:\n",
              "      spin 1s steps(1) infinite;\n",
              "  }\n",
              "\n",
              "  @keyframes spin {\n",
              "    0% {\n",
              "      border-color: transparent;\n",
              "      border-bottom-color: var(--fill-color);\n",
              "      border-left-color: var(--fill-color);\n",
              "    }\n",
              "    20% {\n",
              "      border-color: transparent;\n",
              "      border-left-color: var(--fill-color);\n",
              "      border-top-color: var(--fill-color);\n",
              "    }\n",
              "    30% {\n",
              "      border-color: transparent;\n",
              "      border-left-color: var(--fill-color);\n",
              "      border-top-color: var(--fill-color);\n",
              "      border-right-color: var(--fill-color);\n",
              "    }\n",
              "    40% {\n",
              "      border-color: transparent;\n",
              "      border-right-color: var(--fill-color);\n",
              "      border-top-color: var(--fill-color);\n",
              "    }\n",
              "    60% {\n",
              "      border-color: transparent;\n",
              "      border-right-color: var(--fill-color);\n",
              "    }\n",
              "    80% {\n",
              "      border-color: transparent;\n",
              "      border-right-color: var(--fill-color);\n",
              "      border-bottom-color: var(--fill-color);\n",
              "    }\n",
              "    90% {\n",
              "      border-color: transparent;\n",
              "      border-bottom-color: var(--fill-color);\n",
              "    }\n",
              "  }\n",
              "</style>\n",
              "\n",
              "  <script>\n",
              "    async function quickchart(key) {\n",
              "      const quickchartButtonEl =\n",
              "        document.querySelector('#' + key + ' button');\n",
              "      quickchartButtonEl.disabled = true;  // To prevent multiple clicks.\n",
              "      quickchartButtonEl.classList.add('colab-df-spinner');\n",
              "      try {\n",
              "        const charts = await google.colab.kernel.invokeFunction(\n",
              "            'suggestCharts', [key], {});\n",
              "      } catch (error) {\n",
              "        console.error('Error during call to suggestCharts:', error);\n",
              "      }\n",
              "      quickchartButtonEl.classList.remove('colab-df-spinner');\n",
              "      quickchartButtonEl.classList.add('colab-df-quickchart-complete');\n",
              "    }\n",
              "    (() => {\n",
              "      let quickchartButtonEl =\n",
              "        document.querySelector('#df-381efbdf-3952-4c98-a9a5-ffd60cab98cd button');\n",
              "      quickchartButtonEl.style.display =\n",
              "        google.colab.kernel.accessAllowed ? 'block' : 'none';\n",
              "    })();\n",
              "  </script>\n",
              "</div>\n",
              "    </div>\n",
              "  </div>\n"
            ]
          },
          "metadata": {},
          "execution_count": 44
        }
      ]
    },
    {
      "cell_type": "code",
      "source": [
        "print(\"F1 score report - Random classifier\")\n",
        "print()\n",
        "print(\"Average Sequence F1 score\")\n",
        "s_e, s_t = sequence_f1(df_test)\n",
        "print(\"- - Emotion average F1 Score:\\t{}\".format(s_e))\n",
        "print(\"- - Triggers average F1 Score:\\t{}\".format(s_t))\n",
        "s_e, s_t = unrolled_f1(df_test)\n",
        "print()\n",
        "print(\"Unrolled Sequence F1 score\")\n",
        "print(\"- - Emotion average F1 Score:\\t{}\".format(s_e))\n",
        "print(\"- - Triggers average F1 Score:\\t{}\".format(s_t))"
      ],
      "metadata": {
        "id": "B0PrE5M35-XY",
        "colab": {
          "base_uri": "https://localhost:8080/"
        },
        "outputId": "815dee7f-f1f4-4fbd-a674-05dbf3a42973"
      },
      "execution_count": 45,
      "outputs": [
        {
          "output_type": "stream",
          "name": "stdout",
          "text": [
            "F1 score report - Random classifier\n",
            "\n",
            "Average Sequence F1 score\n",
            "- - Emotion average F1 Score:\t0.1481069861039448\n",
            "- - Triggers average F1 Score:\t0.5132309041367503\n",
            "\n",
            "Unrolled Sequence F1 score\n",
            "- - Emotion average F1 Score:\t0.12024576013172403\n",
            "- - Triggers average F1 Score:\t0.4457085796237793\n"
          ]
        }
      ]
    },
    {
      "cell_type": "markdown",
      "metadata": {
        "id": "UNRxqX4M9MhJ"
      },
      "source": [
        "### Baseline: Majority Classifier"
      ]
    },
    {
      "cell_type": "code",
      "execution_count": 46,
      "metadata": {
        "colab": {
          "base_uri": "https://localhost:8080/"
        },
        "id": "AyDhFI2H9MhJ",
        "outputId": "eb60a5e4-e7bf-42f8-a92e-1f1111a1106f"
      },
      "outputs": [
        {
          "output_type": "stream",
          "name": "stdout",
          "text": [
            "The majority emotion is: 4\n",
            "The majority trigger is: False\n",
            "\n",
            "A test for the dumb majority classifier:\n",
            "\t\tinput: Oh God! I'm dumb..\n",
            "\t\toutput: emotion:4, trigger:False\n"
          ]
        }
      ],
      "source": [
        "class Majority_Classifier():\n",
        "    '''It is trained on a dataset using the emotion and trigger columns.\n",
        "        It's output on the forward method will be always the majority class\n",
        "        for emotion and trigger, calculated in the training set.'''\n",
        "\n",
        "    def __init__(self):\n",
        "        self.emotion = None\n",
        "        self.trigger = None\n",
        "\n",
        "    def train(self, dataset:pd.DataFrame):\n",
        "        '''Input a dataset with the emotion and trigger columns.'''\n",
        "\n",
        "        emotions_count = dict()\n",
        "        triggers_count = dict()\n",
        "\n",
        "        for em, tr in dataset[['labemo','trigger']].values:\n",
        "            update_count_dictionary(em, emotions_count)\n",
        "            update_count_dictionary(tr, triggers_count)\n",
        "\n",
        "        # get the majority class for the emotion column\n",
        "        max_count = -1\n",
        "        for emotion, value in emotions_count.items():\n",
        "            if value > max_count:\n",
        "                max_count = value\n",
        "                self.emotion = emotion\n",
        "\n",
        "        # get the majority class for the trigger column\n",
        "        max_count = -1\n",
        "        for trigger, value in triggers_count.items():\n",
        "            if value > max_count:\n",
        "                max_count = value\n",
        "                self.trigger = trigger\n",
        "\n",
        "    def forward(self, utterance):\n",
        "        '''The input is ignored. This method can be modified. It is intended to\n",
        "            mimic the forward method of an ML model such that it usable in the same way.'''\n",
        "        return self.emotion, self.trigger\n",
        "\n",
        "\n",
        "dumb_majority = Majority_Classifier()\n",
        "dumb_majority.train(df_train)\n",
        "\n",
        "print(\"The majority emotion is: {}\".format(dumb_majority.emotion))\n",
        "print(\"The majority trigger is: {}\".format(dumb_majority.trigger))\n",
        "print()\n",
        "print(\"A test for the dumb majority classifier:\")\n",
        "print(\"\\t\\tinput: Oh God! I'm dumb..\")\n",
        "\n",
        "e, t = dumb_majority.forward(\"Oh God! I'm dumb..\")\n",
        "print(\"\\t\\toutput: emotion:{}, trigger:{}\".format(e,t))"
      ]
    },
    {
      "cell_type": "code",
      "source": [
        "majority_pred_emo = []\n",
        "majority_pred_tri = []\n",
        "for utterance in df_test[\"utterance\"]:\n",
        "  e, t = dumb_majority.forward(utterance)\n",
        "  majority_pred_emo.append(e)\n",
        "  majority_pred_tri.append(t)\n",
        "df_test.loc[:,('predicted_emo')] = majority_pred_emo\n",
        "df_test.loc[:,('predicted_tri')] = majority_pred_tri\n",
        "df_test.head(5)"
      ],
      "metadata": {
        "id": "rtE8NxXj5yxt",
        "outputId": "ca5f7a47-d5a6-4127-b9cd-09efab83faaf",
        "colab": {
          "base_uri": "https://localhost:8080/",
          "height": 466
        }
      },
      "execution_count": 47,
      "outputs": [
        {
          "output_type": "stream",
          "name": "stderr",
          "text": [
            "<ipython-input-47-ff7a6f1a4d8c>:7: SettingWithCopyWarning: \n",
            "A value is trying to be set on a copy of a slice from a DataFrame.\n",
            "Try using .loc[row_indexer,col_indexer] = value instead\n",
            "\n",
            "See the caveats in the documentation: https://pandas.pydata.org/pandas-docs/stable/user_guide/indexing.html#returning-a-view-versus-a-copy\n",
            "  df_test.loc[:,('predicted_emo')] = majority_pred_emo\n",
            "<ipython-input-47-ff7a6f1a4d8c>:8: SettingWithCopyWarning: \n",
            "A value is trying to be set on a copy of a slice from a DataFrame.\n",
            "Try using .loc[row_indexer,col_indexer] = value instead\n",
            "\n",
            "See the caveats in the documentation: https://pandas.pydata.org/pandas-docs/stable/user_guide/indexing.html#returning-a-view-versus-a-copy\n",
            "  df_test.loc[:,('predicted_tri')] = majority_pred_tri\n"
          ]
        },
        {
          "output_type": "execute_result",
          "data": {
            "text/plain": [
              "         episode                                          utterance  \\\n",
              "55   utterance_8                                          Hey, Mon.   \n",
              "56   utterance_8  Hey-hey-hey. You wanna hear something that sucks.   \n",
              "57   utterance_8                                         Do I ever.   \n",
              "58   utterance_8           Chris says they're closing down the bar.   \n",
              "77  utterance_12                                          Hey, Mon.   \n",
              "\n",
              "                                              history  emotion  trigger  \\\n",
              "55                                                     neutral    False   \n",
              "56                                          Hey, Mon.  neutral    False   \n",
              "57  Hey, Mon. Hey-hey-hey. You wanna hear somethin...      joy    False   \n",
              "58  Hey-hey-hey. You wanna hear something that suc...  sadness     True   \n",
              "77                                                     neutral    False   \n",
              "\n",
              "    labemo  predicted_emo  predicted_tri  \n",
              "55       4              4          False  \n",
              "56       4              4          False  \n",
              "57       3              4          False  \n",
              "58       5              4          False  \n",
              "77       4              4          False  "
            ],
            "text/html": [
              "\n",
              "  <div id=\"df-c9968da4-f798-43d0-ac1f-20a7618e129b\" class=\"colab-df-container\">\n",
              "    <div>\n",
              "<style scoped>\n",
              "    .dataframe tbody tr th:only-of-type {\n",
              "        vertical-align: middle;\n",
              "    }\n",
              "\n",
              "    .dataframe tbody tr th {\n",
              "        vertical-align: top;\n",
              "    }\n",
              "\n",
              "    .dataframe thead th {\n",
              "        text-align: right;\n",
              "    }\n",
              "</style>\n",
              "<table border=\"1\" class=\"dataframe\">\n",
              "  <thead>\n",
              "    <tr style=\"text-align: right;\">\n",
              "      <th></th>\n",
              "      <th>episode</th>\n",
              "      <th>utterance</th>\n",
              "      <th>history</th>\n",
              "      <th>emotion</th>\n",
              "      <th>trigger</th>\n",
              "      <th>labemo</th>\n",
              "      <th>predicted_emo</th>\n",
              "      <th>predicted_tri</th>\n",
              "    </tr>\n",
              "  </thead>\n",
              "  <tbody>\n",
              "    <tr>\n",
              "      <th>55</th>\n",
              "      <td>utterance_8</td>\n",
              "      <td>Hey, Mon.</td>\n",
              "      <td></td>\n",
              "      <td>neutral</td>\n",
              "      <td>False</td>\n",
              "      <td>4</td>\n",
              "      <td>4</td>\n",
              "      <td>False</td>\n",
              "    </tr>\n",
              "    <tr>\n",
              "      <th>56</th>\n",
              "      <td>utterance_8</td>\n",
              "      <td>Hey-hey-hey. You wanna hear something that sucks.</td>\n",
              "      <td>Hey, Mon.</td>\n",
              "      <td>neutral</td>\n",
              "      <td>False</td>\n",
              "      <td>4</td>\n",
              "      <td>4</td>\n",
              "      <td>False</td>\n",
              "    </tr>\n",
              "    <tr>\n",
              "      <th>57</th>\n",
              "      <td>utterance_8</td>\n",
              "      <td>Do I ever.</td>\n",
              "      <td>Hey, Mon. Hey-hey-hey. You wanna hear somethin...</td>\n",
              "      <td>joy</td>\n",
              "      <td>False</td>\n",
              "      <td>3</td>\n",
              "      <td>4</td>\n",
              "      <td>False</td>\n",
              "    </tr>\n",
              "    <tr>\n",
              "      <th>58</th>\n",
              "      <td>utterance_8</td>\n",
              "      <td>Chris says they're closing down the bar.</td>\n",
              "      <td>Hey-hey-hey. You wanna hear something that suc...</td>\n",
              "      <td>sadness</td>\n",
              "      <td>True</td>\n",
              "      <td>5</td>\n",
              "      <td>4</td>\n",
              "      <td>False</td>\n",
              "    </tr>\n",
              "    <tr>\n",
              "      <th>77</th>\n",
              "      <td>utterance_12</td>\n",
              "      <td>Hey, Mon.</td>\n",
              "      <td></td>\n",
              "      <td>neutral</td>\n",
              "      <td>False</td>\n",
              "      <td>4</td>\n",
              "      <td>4</td>\n",
              "      <td>False</td>\n",
              "    </tr>\n",
              "  </tbody>\n",
              "</table>\n",
              "</div>\n",
              "    <div class=\"colab-df-buttons\">\n",
              "\n",
              "  <div class=\"colab-df-container\">\n",
              "    <button class=\"colab-df-convert\" onclick=\"convertToInteractive('df-c9968da4-f798-43d0-ac1f-20a7618e129b')\"\n",
              "            title=\"Convert this dataframe to an interactive table.\"\n",
              "            style=\"display:none;\">\n",
              "\n",
              "  <svg xmlns=\"http://www.w3.org/2000/svg\" height=\"24px\" viewBox=\"0 -960 960 960\">\n",
              "    <path d=\"M120-120v-720h720v720H120Zm60-500h600v-160H180v160Zm220 220h160v-160H400v160Zm0 220h160v-160H400v160ZM180-400h160v-160H180v160Zm440 0h160v-160H620v160ZM180-180h160v-160H180v160Zm440 0h160v-160H620v160Z\"/>\n",
              "  </svg>\n",
              "    </button>\n",
              "\n",
              "  <style>\n",
              "    .colab-df-container {\n",
              "      display:flex;\n",
              "      gap: 12px;\n",
              "    }\n",
              "\n",
              "    .colab-df-convert {\n",
              "      background-color: #E8F0FE;\n",
              "      border: none;\n",
              "      border-radius: 50%;\n",
              "      cursor: pointer;\n",
              "      display: none;\n",
              "      fill: #1967D2;\n",
              "      height: 32px;\n",
              "      padding: 0 0 0 0;\n",
              "      width: 32px;\n",
              "    }\n",
              "\n",
              "    .colab-df-convert:hover {\n",
              "      background-color: #E2EBFA;\n",
              "      box-shadow: 0px 1px 2px rgba(60, 64, 67, 0.3), 0px 1px 3px 1px rgba(60, 64, 67, 0.15);\n",
              "      fill: #174EA6;\n",
              "    }\n",
              "\n",
              "    .colab-df-buttons div {\n",
              "      margin-bottom: 4px;\n",
              "    }\n",
              "\n",
              "    [theme=dark] .colab-df-convert {\n",
              "      background-color: #3B4455;\n",
              "      fill: #D2E3FC;\n",
              "    }\n",
              "\n",
              "    [theme=dark] .colab-df-convert:hover {\n",
              "      background-color: #434B5C;\n",
              "      box-shadow: 0px 1px 3px 1px rgba(0, 0, 0, 0.15);\n",
              "      filter: drop-shadow(0px 1px 2px rgba(0, 0, 0, 0.3));\n",
              "      fill: #FFFFFF;\n",
              "    }\n",
              "  </style>\n",
              "\n",
              "    <script>\n",
              "      const buttonEl =\n",
              "        document.querySelector('#df-c9968da4-f798-43d0-ac1f-20a7618e129b button.colab-df-convert');\n",
              "      buttonEl.style.display =\n",
              "        google.colab.kernel.accessAllowed ? 'block' : 'none';\n",
              "\n",
              "      async function convertToInteractive(key) {\n",
              "        const element = document.querySelector('#df-c9968da4-f798-43d0-ac1f-20a7618e129b');\n",
              "        const dataTable =\n",
              "          await google.colab.kernel.invokeFunction('convertToInteractive',\n",
              "                                                    [key], {});\n",
              "        if (!dataTable) return;\n",
              "\n",
              "        const docLinkHtml = 'Like what you see? Visit the ' +\n",
              "          '<a target=\"_blank\" href=https://colab.research.google.com/notebooks/data_table.ipynb>data table notebook</a>'\n",
              "          + ' to learn more about interactive tables.';\n",
              "        element.innerHTML = '';\n",
              "        dataTable['output_type'] = 'display_data';\n",
              "        await google.colab.output.renderOutput(dataTable, element);\n",
              "        const docLink = document.createElement('div');\n",
              "        docLink.innerHTML = docLinkHtml;\n",
              "        element.appendChild(docLink);\n",
              "      }\n",
              "    </script>\n",
              "  </div>\n",
              "\n",
              "\n",
              "<div id=\"df-86c169c4-3128-4cc3-a195-223674b0d68f\">\n",
              "  <button class=\"colab-df-quickchart\" onclick=\"quickchart('df-86c169c4-3128-4cc3-a195-223674b0d68f')\"\n",
              "            title=\"Suggest charts\"\n",
              "            style=\"display:none;\">\n",
              "\n",
              "<svg xmlns=\"http://www.w3.org/2000/svg\" height=\"24px\"viewBox=\"0 0 24 24\"\n",
              "     width=\"24px\">\n",
              "    <g>\n",
              "        <path d=\"M19 3H5c-1.1 0-2 .9-2 2v14c0 1.1.9 2 2 2h14c1.1 0 2-.9 2-2V5c0-1.1-.9-2-2-2zM9 17H7v-7h2v7zm4 0h-2V7h2v10zm4 0h-2v-4h2v4z\"/>\n",
              "    </g>\n",
              "</svg>\n",
              "  </button>\n",
              "\n",
              "<style>\n",
              "  .colab-df-quickchart {\n",
              "      --bg-color: #E8F0FE;\n",
              "      --fill-color: #1967D2;\n",
              "      --hover-bg-color: #E2EBFA;\n",
              "      --hover-fill-color: #174EA6;\n",
              "      --disabled-fill-color: #AAA;\n",
              "      --disabled-bg-color: #DDD;\n",
              "  }\n",
              "\n",
              "  [theme=dark] .colab-df-quickchart {\n",
              "      --bg-color: #3B4455;\n",
              "      --fill-color: #D2E3FC;\n",
              "      --hover-bg-color: #434B5C;\n",
              "      --hover-fill-color: #FFFFFF;\n",
              "      --disabled-bg-color: #3B4455;\n",
              "      --disabled-fill-color: #666;\n",
              "  }\n",
              "\n",
              "  .colab-df-quickchart {\n",
              "    background-color: var(--bg-color);\n",
              "    border: none;\n",
              "    border-radius: 50%;\n",
              "    cursor: pointer;\n",
              "    display: none;\n",
              "    fill: var(--fill-color);\n",
              "    height: 32px;\n",
              "    padding: 0;\n",
              "    width: 32px;\n",
              "  }\n",
              "\n",
              "  .colab-df-quickchart:hover {\n",
              "    background-color: var(--hover-bg-color);\n",
              "    box-shadow: 0 1px 2px rgba(60, 64, 67, 0.3), 0 1px 3px 1px rgba(60, 64, 67, 0.15);\n",
              "    fill: var(--button-hover-fill-color);\n",
              "  }\n",
              "\n",
              "  .colab-df-quickchart-complete:disabled,\n",
              "  .colab-df-quickchart-complete:disabled:hover {\n",
              "    background-color: var(--disabled-bg-color);\n",
              "    fill: var(--disabled-fill-color);\n",
              "    box-shadow: none;\n",
              "  }\n",
              "\n",
              "  .colab-df-spinner {\n",
              "    border: 2px solid var(--fill-color);\n",
              "    border-color: transparent;\n",
              "    border-bottom-color: var(--fill-color);\n",
              "    animation:\n",
              "      spin 1s steps(1) infinite;\n",
              "  }\n",
              "\n",
              "  @keyframes spin {\n",
              "    0% {\n",
              "      border-color: transparent;\n",
              "      border-bottom-color: var(--fill-color);\n",
              "      border-left-color: var(--fill-color);\n",
              "    }\n",
              "    20% {\n",
              "      border-color: transparent;\n",
              "      border-left-color: var(--fill-color);\n",
              "      border-top-color: var(--fill-color);\n",
              "    }\n",
              "    30% {\n",
              "      border-color: transparent;\n",
              "      border-left-color: var(--fill-color);\n",
              "      border-top-color: var(--fill-color);\n",
              "      border-right-color: var(--fill-color);\n",
              "    }\n",
              "    40% {\n",
              "      border-color: transparent;\n",
              "      border-right-color: var(--fill-color);\n",
              "      border-top-color: var(--fill-color);\n",
              "    }\n",
              "    60% {\n",
              "      border-color: transparent;\n",
              "      border-right-color: var(--fill-color);\n",
              "    }\n",
              "    80% {\n",
              "      border-color: transparent;\n",
              "      border-right-color: var(--fill-color);\n",
              "      border-bottom-color: var(--fill-color);\n",
              "    }\n",
              "    90% {\n",
              "      border-color: transparent;\n",
              "      border-bottom-color: var(--fill-color);\n",
              "    }\n",
              "  }\n",
              "</style>\n",
              "\n",
              "  <script>\n",
              "    async function quickchart(key) {\n",
              "      const quickchartButtonEl =\n",
              "        document.querySelector('#' + key + ' button');\n",
              "      quickchartButtonEl.disabled = true;  // To prevent multiple clicks.\n",
              "      quickchartButtonEl.classList.add('colab-df-spinner');\n",
              "      try {\n",
              "        const charts = await google.colab.kernel.invokeFunction(\n",
              "            'suggestCharts', [key], {});\n",
              "      } catch (error) {\n",
              "        console.error('Error during call to suggestCharts:', error);\n",
              "      }\n",
              "      quickchartButtonEl.classList.remove('colab-df-spinner');\n",
              "      quickchartButtonEl.classList.add('colab-df-quickchart-complete');\n",
              "    }\n",
              "    (() => {\n",
              "      let quickchartButtonEl =\n",
              "        document.querySelector('#df-86c169c4-3128-4cc3-a195-223674b0d68f button');\n",
              "      quickchartButtonEl.style.display =\n",
              "        google.colab.kernel.accessAllowed ? 'block' : 'none';\n",
              "    })();\n",
              "  </script>\n",
              "</div>\n",
              "    </div>\n",
              "  </div>\n"
            ]
          },
          "metadata": {},
          "execution_count": 47
        }
      ]
    },
    {
      "cell_type": "code",
      "source": [
        "print(\"F1 score report - Majority classifier\")\n",
        "print()\n",
        "print(\"Average Sequence F1 score\")\n",
        "s_e, s_t = sequence_f1(df_test)\n",
        "print(\"- - Emotion average F1 Score:\\t{}\".format(s_e))\n",
        "print(\"- - Triggers average F1 Score:\\t{}\".format(s_t))\n",
        "s_e, s_t = unrolled_f1(df_test)\n",
        "print()\n",
        "print(\"Unrolled Sequence F1 score\")\n",
        "print(\"- - Emotion average F1 Score:\\t{}\".format(s_e))\n",
        "print(\"- - Triggers average F1 Score:\\t{}\".format(s_t))"
      ],
      "metadata": {
        "id": "KWd4P2cL51Vq",
        "outputId": "409f3223-a0e9-49e9-b70f-6352e693edc0",
        "colab": {
          "base_uri": "https://localhost:8080/"
        }
      },
      "execution_count": 48,
      "outputs": [
        {
          "output_type": "stream",
          "name": "stdout",
          "text": [
            "F1 score report - Majority classifier\n",
            "\n",
            "Average Sequence F1 score\n",
            "- - Emotion average F1 Score:\t0.4391431866963819\n",
            "- - Triggers average F1 Score:\t0.8076212035802999\n",
            "\n",
            "Unrolled Sequence F1 score\n",
            "- - Emotion average F1 Score:\t0.08925511952353758\n",
            "- - Triggers average F1 Score:\t0.45725018782870025\n"
          ]
        }
      ]
    },
    {
      "cell_type": "markdown",
      "source": [
        "### Actual model"
      ],
      "metadata": {
        "id": "2U1wZUU338lF"
      }
    },
    {
      "cell_type": "code",
      "execution_count": 49,
      "metadata": {
        "colab": {
          "base_uri": "https://localhost:8080/",
          "height": 466
        },
        "id": "IyLTExU9Rsnp",
        "outputId": "a6d7ca74-d973-4aec-e3fd-157f424936cf"
      },
      "outputs": [
        {
          "output_type": "stream",
          "name": "stderr",
          "text": [
            "<ipython-input-49-1e7561f63a25>:1: SettingWithCopyWarning: \n",
            "A value is trying to be set on a copy of a slice from a DataFrame.\n",
            "Try using .loc[row_indexer,col_indexer] = value instead\n",
            "\n",
            "See the caveats in the documentation: https://pandas.pydata.org/pandas-docs/stable/user_guide/indexing.html#returning-a-view-versus-a-copy\n",
            "  df_test.loc[:,('predicted_emo')] = test_pred_emo\n",
            "<ipython-input-49-1e7561f63a25>:2: SettingWithCopyWarning: \n",
            "A value is trying to be set on a copy of a slice from a DataFrame.\n",
            "Try using .loc[row_indexer,col_indexer] = value instead\n",
            "\n",
            "See the caveats in the documentation: https://pandas.pydata.org/pandas-docs/stable/user_guide/indexing.html#returning-a-view-versus-a-copy\n",
            "  df_test.loc[:,('predicted_tri')] = test_pred_tri.astype(bool)\n"
          ]
        },
        {
          "output_type": "execute_result",
          "data": {
            "text/plain": [
              "         episode                                          utterance  \\\n",
              "55   utterance_8                                          Hey, Mon.   \n",
              "56   utterance_8  Hey-hey-hey. You wanna hear something that sucks.   \n",
              "57   utterance_8                                         Do I ever.   \n",
              "58   utterance_8           Chris says they're closing down the bar.   \n",
              "77  utterance_12                                          Hey, Mon.   \n",
              "\n",
              "                                              history  emotion  trigger  \\\n",
              "55                                                     neutral    False   \n",
              "56                                          Hey, Mon.  neutral    False   \n",
              "57  Hey, Mon. Hey-hey-hey. You wanna hear somethin...      joy    False   \n",
              "58  Hey-hey-hey. You wanna hear something that suc...  sadness     True   \n",
              "77                                                     neutral    False   \n",
              "\n",
              "    labemo  predicted_emo  predicted_tri  \n",
              "55       4              4          False  \n",
              "56       4              4          False  \n",
              "57       3              3          False  \n",
              "58       5              5          False  \n",
              "77       4              4          False  "
            ],
            "text/html": [
              "\n",
              "  <div id=\"df-9e135f65-072a-41a1-b731-da4ce9e5187d\" class=\"colab-df-container\">\n",
              "    <div>\n",
              "<style scoped>\n",
              "    .dataframe tbody tr th:only-of-type {\n",
              "        vertical-align: middle;\n",
              "    }\n",
              "\n",
              "    .dataframe tbody tr th {\n",
              "        vertical-align: top;\n",
              "    }\n",
              "\n",
              "    .dataframe thead th {\n",
              "        text-align: right;\n",
              "    }\n",
              "</style>\n",
              "<table border=\"1\" class=\"dataframe\">\n",
              "  <thead>\n",
              "    <tr style=\"text-align: right;\">\n",
              "      <th></th>\n",
              "      <th>episode</th>\n",
              "      <th>utterance</th>\n",
              "      <th>history</th>\n",
              "      <th>emotion</th>\n",
              "      <th>trigger</th>\n",
              "      <th>labemo</th>\n",
              "      <th>predicted_emo</th>\n",
              "      <th>predicted_tri</th>\n",
              "    </tr>\n",
              "  </thead>\n",
              "  <tbody>\n",
              "    <tr>\n",
              "      <th>55</th>\n",
              "      <td>utterance_8</td>\n",
              "      <td>Hey, Mon.</td>\n",
              "      <td></td>\n",
              "      <td>neutral</td>\n",
              "      <td>False</td>\n",
              "      <td>4</td>\n",
              "      <td>4</td>\n",
              "      <td>False</td>\n",
              "    </tr>\n",
              "    <tr>\n",
              "      <th>56</th>\n",
              "      <td>utterance_8</td>\n",
              "      <td>Hey-hey-hey. You wanna hear something that sucks.</td>\n",
              "      <td>Hey, Mon.</td>\n",
              "      <td>neutral</td>\n",
              "      <td>False</td>\n",
              "      <td>4</td>\n",
              "      <td>4</td>\n",
              "      <td>False</td>\n",
              "    </tr>\n",
              "    <tr>\n",
              "      <th>57</th>\n",
              "      <td>utterance_8</td>\n",
              "      <td>Do I ever.</td>\n",
              "      <td>Hey, Mon. Hey-hey-hey. You wanna hear somethin...</td>\n",
              "      <td>joy</td>\n",
              "      <td>False</td>\n",
              "      <td>3</td>\n",
              "      <td>3</td>\n",
              "      <td>False</td>\n",
              "    </tr>\n",
              "    <tr>\n",
              "      <th>58</th>\n",
              "      <td>utterance_8</td>\n",
              "      <td>Chris says they're closing down the bar.</td>\n",
              "      <td>Hey-hey-hey. You wanna hear something that suc...</td>\n",
              "      <td>sadness</td>\n",
              "      <td>True</td>\n",
              "      <td>5</td>\n",
              "      <td>5</td>\n",
              "      <td>False</td>\n",
              "    </tr>\n",
              "    <tr>\n",
              "      <th>77</th>\n",
              "      <td>utterance_12</td>\n",
              "      <td>Hey, Mon.</td>\n",
              "      <td></td>\n",
              "      <td>neutral</td>\n",
              "      <td>False</td>\n",
              "      <td>4</td>\n",
              "      <td>4</td>\n",
              "      <td>False</td>\n",
              "    </tr>\n",
              "  </tbody>\n",
              "</table>\n",
              "</div>\n",
              "    <div class=\"colab-df-buttons\">\n",
              "\n",
              "  <div class=\"colab-df-container\">\n",
              "    <button class=\"colab-df-convert\" onclick=\"convertToInteractive('df-9e135f65-072a-41a1-b731-da4ce9e5187d')\"\n",
              "            title=\"Convert this dataframe to an interactive table.\"\n",
              "            style=\"display:none;\">\n",
              "\n",
              "  <svg xmlns=\"http://www.w3.org/2000/svg\" height=\"24px\" viewBox=\"0 -960 960 960\">\n",
              "    <path d=\"M120-120v-720h720v720H120Zm60-500h600v-160H180v160Zm220 220h160v-160H400v160Zm0 220h160v-160H400v160ZM180-400h160v-160H180v160Zm440 0h160v-160H620v160ZM180-180h160v-160H180v160Zm440 0h160v-160H620v160Z\"/>\n",
              "  </svg>\n",
              "    </button>\n",
              "\n",
              "  <style>\n",
              "    .colab-df-container {\n",
              "      display:flex;\n",
              "      gap: 12px;\n",
              "    }\n",
              "\n",
              "    .colab-df-convert {\n",
              "      background-color: #E8F0FE;\n",
              "      border: none;\n",
              "      border-radius: 50%;\n",
              "      cursor: pointer;\n",
              "      display: none;\n",
              "      fill: #1967D2;\n",
              "      height: 32px;\n",
              "      padding: 0 0 0 0;\n",
              "      width: 32px;\n",
              "    }\n",
              "\n",
              "    .colab-df-convert:hover {\n",
              "      background-color: #E2EBFA;\n",
              "      box-shadow: 0px 1px 2px rgba(60, 64, 67, 0.3), 0px 1px 3px 1px rgba(60, 64, 67, 0.15);\n",
              "      fill: #174EA6;\n",
              "    }\n",
              "\n",
              "    .colab-df-buttons div {\n",
              "      margin-bottom: 4px;\n",
              "    }\n",
              "\n",
              "    [theme=dark] .colab-df-convert {\n",
              "      background-color: #3B4455;\n",
              "      fill: #D2E3FC;\n",
              "    }\n",
              "\n",
              "    [theme=dark] .colab-df-convert:hover {\n",
              "      background-color: #434B5C;\n",
              "      box-shadow: 0px 1px 3px 1px rgba(0, 0, 0, 0.15);\n",
              "      filter: drop-shadow(0px 1px 2px rgba(0, 0, 0, 0.3));\n",
              "      fill: #FFFFFF;\n",
              "    }\n",
              "  </style>\n",
              "\n",
              "    <script>\n",
              "      const buttonEl =\n",
              "        document.querySelector('#df-9e135f65-072a-41a1-b731-da4ce9e5187d button.colab-df-convert');\n",
              "      buttonEl.style.display =\n",
              "        google.colab.kernel.accessAllowed ? 'block' : 'none';\n",
              "\n",
              "      async function convertToInteractive(key) {\n",
              "        const element = document.querySelector('#df-9e135f65-072a-41a1-b731-da4ce9e5187d');\n",
              "        const dataTable =\n",
              "          await google.colab.kernel.invokeFunction('convertToInteractive',\n",
              "                                                    [key], {});\n",
              "        if (!dataTable) return;\n",
              "\n",
              "        const docLinkHtml = 'Like what you see? Visit the ' +\n",
              "          '<a target=\"_blank\" href=https://colab.research.google.com/notebooks/data_table.ipynb>data table notebook</a>'\n",
              "          + ' to learn more about interactive tables.';\n",
              "        element.innerHTML = '';\n",
              "        dataTable['output_type'] = 'display_data';\n",
              "        await google.colab.output.renderOutput(dataTable, element);\n",
              "        const docLink = document.createElement('div');\n",
              "        docLink.innerHTML = docLinkHtml;\n",
              "        element.appendChild(docLink);\n",
              "      }\n",
              "    </script>\n",
              "  </div>\n",
              "\n",
              "\n",
              "<div id=\"df-84d05393-a8bb-40c5-9564-5fac17800883\">\n",
              "  <button class=\"colab-df-quickchart\" onclick=\"quickchart('df-84d05393-a8bb-40c5-9564-5fac17800883')\"\n",
              "            title=\"Suggest charts\"\n",
              "            style=\"display:none;\">\n",
              "\n",
              "<svg xmlns=\"http://www.w3.org/2000/svg\" height=\"24px\"viewBox=\"0 0 24 24\"\n",
              "     width=\"24px\">\n",
              "    <g>\n",
              "        <path d=\"M19 3H5c-1.1 0-2 .9-2 2v14c0 1.1.9 2 2 2h14c1.1 0 2-.9 2-2V5c0-1.1-.9-2-2-2zM9 17H7v-7h2v7zm4 0h-2V7h2v10zm4 0h-2v-4h2v4z\"/>\n",
              "    </g>\n",
              "</svg>\n",
              "  </button>\n",
              "\n",
              "<style>\n",
              "  .colab-df-quickchart {\n",
              "      --bg-color: #E8F0FE;\n",
              "      --fill-color: #1967D2;\n",
              "      --hover-bg-color: #E2EBFA;\n",
              "      --hover-fill-color: #174EA6;\n",
              "      --disabled-fill-color: #AAA;\n",
              "      --disabled-bg-color: #DDD;\n",
              "  }\n",
              "\n",
              "  [theme=dark] .colab-df-quickchart {\n",
              "      --bg-color: #3B4455;\n",
              "      --fill-color: #D2E3FC;\n",
              "      --hover-bg-color: #434B5C;\n",
              "      --hover-fill-color: #FFFFFF;\n",
              "      --disabled-bg-color: #3B4455;\n",
              "      --disabled-fill-color: #666;\n",
              "  }\n",
              "\n",
              "  .colab-df-quickchart {\n",
              "    background-color: var(--bg-color);\n",
              "    border: none;\n",
              "    border-radius: 50%;\n",
              "    cursor: pointer;\n",
              "    display: none;\n",
              "    fill: var(--fill-color);\n",
              "    height: 32px;\n",
              "    padding: 0;\n",
              "    width: 32px;\n",
              "  }\n",
              "\n",
              "  .colab-df-quickchart:hover {\n",
              "    background-color: var(--hover-bg-color);\n",
              "    box-shadow: 0 1px 2px rgba(60, 64, 67, 0.3), 0 1px 3px 1px rgba(60, 64, 67, 0.15);\n",
              "    fill: var(--button-hover-fill-color);\n",
              "  }\n",
              "\n",
              "  .colab-df-quickchart-complete:disabled,\n",
              "  .colab-df-quickchart-complete:disabled:hover {\n",
              "    background-color: var(--disabled-bg-color);\n",
              "    fill: var(--disabled-fill-color);\n",
              "    box-shadow: none;\n",
              "  }\n",
              "\n",
              "  .colab-df-spinner {\n",
              "    border: 2px solid var(--fill-color);\n",
              "    border-color: transparent;\n",
              "    border-bottom-color: var(--fill-color);\n",
              "    animation:\n",
              "      spin 1s steps(1) infinite;\n",
              "  }\n",
              "\n",
              "  @keyframes spin {\n",
              "    0% {\n",
              "      border-color: transparent;\n",
              "      border-bottom-color: var(--fill-color);\n",
              "      border-left-color: var(--fill-color);\n",
              "    }\n",
              "    20% {\n",
              "      border-color: transparent;\n",
              "      border-left-color: var(--fill-color);\n",
              "      border-top-color: var(--fill-color);\n",
              "    }\n",
              "    30% {\n",
              "      border-color: transparent;\n",
              "      border-left-color: var(--fill-color);\n",
              "      border-top-color: var(--fill-color);\n",
              "      border-right-color: var(--fill-color);\n",
              "    }\n",
              "    40% {\n",
              "      border-color: transparent;\n",
              "      border-right-color: var(--fill-color);\n",
              "      border-top-color: var(--fill-color);\n",
              "    }\n",
              "    60% {\n",
              "      border-color: transparent;\n",
              "      border-right-color: var(--fill-color);\n",
              "    }\n",
              "    80% {\n",
              "      border-color: transparent;\n",
              "      border-right-color: var(--fill-color);\n",
              "      border-bottom-color: var(--fill-color);\n",
              "    }\n",
              "    90% {\n",
              "      border-color: transparent;\n",
              "      border-bottom-color: var(--fill-color);\n",
              "    }\n",
              "  }\n",
              "</style>\n",
              "\n",
              "  <script>\n",
              "    async function quickchart(key) {\n",
              "      const quickchartButtonEl =\n",
              "        document.querySelector('#' + key + ' button');\n",
              "      quickchartButtonEl.disabled = true;  // To prevent multiple clicks.\n",
              "      quickchartButtonEl.classList.add('colab-df-spinner');\n",
              "      try {\n",
              "        const charts = await google.colab.kernel.invokeFunction(\n",
              "            'suggestCharts', [key], {});\n",
              "      } catch (error) {\n",
              "        console.error('Error during call to suggestCharts:', error);\n",
              "      }\n",
              "      quickchartButtonEl.classList.remove('colab-df-spinner');\n",
              "      quickchartButtonEl.classList.add('colab-df-quickchart-complete');\n",
              "    }\n",
              "    (() => {\n",
              "      let quickchartButtonEl =\n",
              "        document.querySelector('#df-84d05393-a8bb-40c5-9564-5fac17800883 button');\n",
              "      quickchartButtonEl.style.display =\n",
              "        google.colab.kernel.accessAllowed ? 'block' : 'none';\n",
              "    })();\n",
              "  </script>\n",
              "</div>\n",
              "    </div>\n",
              "  </div>\n"
            ]
          },
          "metadata": {},
          "execution_count": 49
        }
      ],
      "source": [
        "df_test.loc[:,('predicted_emo')] = test_pred_emo\n",
        "df_test.loc[:,('predicted_tri')] = test_pred_tri.astype(bool)\n",
        "df_test.head(5)"
      ]
    },
    {
      "cell_type": "code",
      "execution_count": 50,
      "metadata": {
        "colab": {
          "base_uri": "https://localhost:8080/"
        },
        "id": "98ofX_shQTAB",
        "outputId": "676d8a20-1da2-435e-b5c8-090b54024494"
      },
      "outputs": [
        {
          "output_type": "stream",
          "name": "stdout",
          "text": [
            "F1 score report - BERT Fully fine-tuned\n",
            "\n",
            "Average Sequence F1 score\n",
            "- - Emotion average F1 Score:\t0.6027762500974744\n",
            "- - Triggers average F1 Score:\t0.8076212035802999\n",
            "\n",
            "Unrolled Sequence F1 score\n",
            "- - Emotion average F1 Score:\t0.3905455111880888\n",
            "- - Triggers average F1 Score:\t0.45725018782870025\n"
          ]
        }
      ],
      "source": [
        "print(\"F1 score report - BERT Fully fine-tuned\")\n",
        "print()\n",
        "print(\"Average Sequence F1 score\")\n",
        "s_e, s_t = sequence_f1(df_test)\n",
        "print(\"- - Emotion average F1 Score:\\t{}\".format(s_e))\n",
        "print(\"- - Triggers average F1 Score:\\t{}\".format(s_t))\n",
        "s_e, s_t = unrolled_f1(df_test)\n",
        "print()\n",
        "print(\"Unrolled Sequence F1 score\")\n",
        "print(\"- - Emotion average F1 Score:\\t{}\".format(s_e))\n",
        "print(\"- - Triggers average F1 Score:\\t{}\".format(s_t))"
      ]
    },
    {
      "cell_type": "markdown",
      "metadata": {
        "id": "rRDwSGX-zVX3"
      },
      "source": [
        "## Error analysis"
      ]
    },
    {
      "cell_type": "code",
      "execution_count": 51,
      "metadata": {
        "id": "oSAg91jB0D0u"
      },
      "outputs": [],
      "source": [
        "from sklearn.metrics import f1_score, classification_report, ConfusionMatrixDisplay, confusion_matrix\n",
        "\n",
        "def get_report(data: pd.DataFrame, label: str):\n",
        "  '''input data has columns: lab{label}, predicted_{label}\n",
        "      label: selected label\n",
        "\n",
        "      Calculates the confusion matrix and a report dataframe is returned\n",
        "      '''\n",
        "\n",
        "  y_true = data[\"trigger\"] if label==\"tri\" else le_emo.inverse_transform(data[\"labemo\"])\n",
        "  y_pred = data[\"predicted_tri\"] if label==\"tri\" else le_emo.inverse_transform(data[f'predicted_emo'])\n",
        "  labels = data[\"trigger\"].unique() if label==\"tri\" else le_emo.inverse_transform(data[\"labemo\"].unique())\n",
        "\n",
        "  report = classification_report(y_true, y_pred, labels=labels, output_dict=True, zero_division=0)\n",
        "\n",
        "  df_report = pd.DataFrame.from_records(report).transpose()\n",
        "\n",
        "  df_report.drop([\"precision\", \"recall\"], axis=1, inplace=True)\n",
        "  df_report.drop([\"accuracy\", \"weighted avg\", \"macro avg\"], axis=0, inplace=True)\n",
        "  df_report[\"encoded_label\"] = df_report.index if label==\"tri\" else le_emo.transform(df_report.index)\n",
        "  df_report[\"label\"] = df_report.index\n",
        "  df_report = df_report.reset_index(drop=True)\n",
        "  cm = confusion_matrix(y_true, y_pred, labels=labels, normalize=\"true\")\n",
        "  cm_disp = ConfusionMatrixDisplay(cm, display_labels=labels)\n",
        "\n",
        "  return df_report, cm_disp"
      ]
    },
    {
      "cell_type": "code",
      "execution_count": 52,
      "metadata": {
        "id": "tMv03G572g6S"
      },
      "outputs": [],
      "source": [
        "df_rep_emotion, cm_disp = get_report(df_test, 'emo')"
      ]
    },
    {
      "cell_type": "code",
      "execution_count": 53,
      "metadata": {
        "colab": {
          "base_uri": "https://localhost:8080/",
          "height": 269
        },
        "id": "dfYq2zL4-Zg4",
        "outputId": "c1cac575-dd60-4a0f-ebec-754197a7cf16"
      },
      "outputs": [
        {
          "output_type": "execute_result",
          "data": {
            "text/plain": [
              "   f1-score  support  encoded_label     label\n",
              "0  0.376328    407.0              0     anger\n",
              "1  0.043478     90.0              1   disgust\n",
              "2  0.235294    105.0              2      fear\n",
              "3  0.556984    632.0              3       joy\n",
              "4  0.749050   1641.0              4   neutral\n",
              "5  0.247978    278.0              5   sadness\n",
              "6  0.524706    459.0              6  surprise"
            ],
            "text/html": [
              "\n",
              "  <div id=\"df-c72b5505-2e23-4e6e-9271-f3f063630109\" class=\"colab-df-container\">\n",
              "    <div>\n",
              "<style scoped>\n",
              "    .dataframe tbody tr th:only-of-type {\n",
              "        vertical-align: middle;\n",
              "    }\n",
              "\n",
              "    .dataframe tbody tr th {\n",
              "        vertical-align: top;\n",
              "    }\n",
              "\n",
              "    .dataframe thead th {\n",
              "        text-align: right;\n",
              "    }\n",
              "</style>\n",
              "<table border=\"1\" class=\"dataframe\">\n",
              "  <thead>\n",
              "    <tr style=\"text-align: right;\">\n",
              "      <th></th>\n",
              "      <th>f1-score</th>\n",
              "      <th>support</th>\n",
              "      <th>encoded_label</th>\n",
              "      <th>label</th>\n",
              "    </tr>\n",
              "  </thead>\n",
              "  <tbody>\n",
              "    <tr>\n",
              "      <th>0</th>\n",
              "      <td>0.376328</td>\n",
              "      <td>407.0</td>\n",
              "      <td>0</td>\n",
              "      <td>anger</td>\n",
              "    </tr>\n",
              "    <tr>\n",
              "      <th>1</th>\n",
              "      <td>0.043478</td>\n",
              "      <td>90.0</td>\n",
              "      <td>1</td>\n",
              "      <td>disgust</td>\n",
              "    </tr>\n",
              "    <tr>\n",
              "      <th>2</th>\n",
              "      <td>0.235294</td>\n",
              "      <td>105.0</td>\n",
              "      <td>2</td>\n",
              "      <td>fear</td>\n",
              "    </tr>\n",
              "    <tr>\n",
              "      <th>3</th>\n",
              "      <td>0.556984</td>\n",
              "      <td>632.0</td>\n",
              "      <td>3</td>\n",
              "      <td>joy</td>\n",
              "    </tr>\n",
              "    <tr>\n",
              "      <th>4</th>\n",
              "      <td>0.749050</td>\n",
              "      <td>1641.0</td>\n",
              "      <td>4</td>\n",
              "      <td>neutral</td>\n",
              "    </tr>\n",
              "    <tr>\n",
              "      <th>5</th>\n",
              "      <td>0.247978</td>\n",
              "      <td>278.0</td>\n",
              "      <td>5</td>\n",
              "      <td>sadness</td>\n",
              "    </tr>\n",
              "    <tr>\n",
              "      <th>6</th>\n",
              "      <td>0.524706</td>\n",
              "      <td>459.0</td>\n",
              "      <td>6</td>\n",
              "      <td>surprise</td>\n",
              "    </tr>\n",
              "  </tbody>\n",
              "</table>\n",
              "</div>\n",
              "    <div class=\"colab-df-buttons\">\n",
              "\n",
              "  <div class=\"colab-df-container\">\n",
              "    <button class=\"colab-df-convert\" onclick=\"convertToInteractive('df-c72b5505-2e23-4e6e-9271-f3f063630109')\"\n",
              "            title=\"Convert this dataframe to an interactive table.\"\n",
              "            style=\"display:none;\">\n",
              "\n",
              "  <svg xmlns=\"http://www.w3.org/2000/svg\" height=\"24px\" viewBox=\"0 -960 960 960\">\n",
              "    <path d=\"M120-120v-720h720v720H120Zm60-500h600v-160H180v160Zm220 220h160v-160H400v160Zm0 220h160v-160H400v160ZM180-400h160v-160H180v160Zm440 0h160v-160H620v160ZM180-180h160v-160H180v160Zm440 0h160v-160H620v160Z\"/>\n",
              "  </svg>\n",
              "    </button>\n",
              "\n",
              "  <style>\n",
              "    .colab-df-container {\n",
              "      display:flex;\n",
              "      gap: 12px;\n",
              "    }\n",
              "\n",
              "    .colab-df-convert {\n",
              "      background-color: #E8F0FE;\n",
              "      border: none;\n",
              "      border-radius: 50%;\n",
              "      cursor: pointer;\n",
              "      display: none;\n",
              "      fill: #1967D2;\n",
              "      height: 32px;\n",
              "      padding: 0 0 0 0;\n",
              "      width: 32px;\n",
              "    }\n",
              "\n",
              "    .colab-df-convert:hover {\n",
              "      background-color: #E2EBFA;\n",
              "      box-shadow: 0px 1px 2px rgba(60, 64, 67, 0.3), 0px 1px 3px 1px rgba(60, 64, 67, 0.15);\n",
              "      fill: #174EA6;\n",
              "    }\n",
              "\n",
              "    .colab-df-buttons div {\n",
              "      margin-bottom: 4px;\n",
              "    }\n",
              "\n",
              "    [theme=dark] .colab-df-convert {\n",
              "      background-color: #3B4455;\n",
              "      fill: #D2E3FC;\n",
              "    }\n",
              "\n",
              "    [theme=dark] .colab-df-convert:hover {\n",
              "      background-color: #434B5C;\n",
              "      box-shadow: 0px 1px 3px 1px rgba(0, 0, 0, 0.15);\n",
              "      filter: drop-shadow(0px 1px 2px rgba(0, 0, 0, 0.3));\n",
              "      fill: #FFFFFF;\n",
              "    }\n",
              "  </style>\n",
              "\n",
              "    <script>\n",
              "      const buttonEl =\n",
              "        document.querySelector('#df-c72b5505-2e23-4e6e-9271-f3f063630109 button.colab-df-convert');\n",
              "      buttonEl.style.display =\n",
              "        google.colab.kernel.accessAllowed ? 'block' : 'none';\n",
              "\n",
              "      async function convertToInteractive(key) {\n",
              "        const element = document.querySelector('#df-c72b5505-2e23-4e6e-9271-f3f063630109');\n",
              "        const dataTable =\n",
              "          await google.colab.kernel.invokeFunction('convertToInteractive',\n",
              "                                                    [key], {});\n",
              "        if (!dataTable) return;\n",
              "\n",
              "        const docLinkHtml = 'Like what you see? Visit the ' +\n",
              "          '<a target=\"_blank\" href=https://colab.research.google.com/notebooks/data_table.ipynb>data table notebook</a>'\n",
              "          + ' to learn more about interactive tables.';\n",
              "        element.innerHTML = '';\n",
              "        dataTable['output_type'] = 'display_data';\n",
              "        await google.colab.output.renderOutput(dataTable, element);\n",
              "        const docLink = document.createElement('div');\n",
              "        docLink.innerHTML = docLinkHtml;\n",
              "        element.appendChild(docLink);\n",
              "      }\n",
              "    </script>\n",
              "  </div>\n",
              "\n",
              "\n",
              "<div id=\"df-186fabb9-1e7b-4a30-b297-014964efb1a7\">\n",
              "  <button class=\"colab-df-quickchart\" onclick=\"quickchart('df-186fabb9-1e7b-4a30-b297-014964efb1a7')\"\n",
              "            title=\"Suggest charts\"\n",
              "            style=\"display:none;\">\n",
              "\n",
              "<svg xmlns=\"http://www.w3.org/2000/svg\" height=\"24px\"viewBox=\"0 0 24 24\"\n",
              "     width=\"24px\">\n",
              "    <g>\n",
              "        <path d=\"M19 3H5c-1.1 0-2 .9-2 2v14c0 1.1.9 2 2 2h14c1.1 0 2-.9 2-2V5c0-1.1-.9-2-2-2zM9 17H7v-7h2v7zm4 0h-2V7h2v10zm4 0h-2v-4h2v4z\"/>\n",
              "    </g>\n",
              "</svg>\n",
              "  </button>\n",
              "\n",
              "<style>\n",
              "  .colab-df-quickchart {\n",
              "      --bg-color: #E8F0FE;\n",
              "      --fill-color: #1967D2;\n",
              "      --hover-bg-color: #E2EBFA;\n",
              "      --hover-fill-color: #174EA6;\n",
              "      --disabled-fill-color: #AAA;\n",
              "      --disabled-bg-color: #DDD;\n",
              "  }\n",
              "\n",
              "  [theme=dark] .colab-df-quickchart {\n",
              "      --bg-color: #3B4455;\n",
              "      --fill-color: #D2E3FC;\n",
              "      --hover-bg-color: #434B5C;\n",
              "      --hover-fill-color: #FFFFFF;\n",
              "      --disabled-bg-color: #3B4455;\n",
              "      --disabled-fill-color: #666;\n",
              "  }\n",
              "\n",
              "  .colab-df-quickchart {\n",
              "    background-color: var(--bg-color);\n",
              "    border: none;\n",
              "    border-radius: 50%;\n",
              "    cursor: pointer;\n",
              "    display: none;\n",
              "    fill: var(--fill-color);\n",
              "    height: 32px;\n",
              "    padding: 0;\n",
              "    width: 32px;\n",
              "  }\n",
              "\n",
              "  .colab-df-quickchart:hover {\n",
              "    background-color: var(--hover-bg-color);\n",
              "    box-shadow: 0 1px 2px rgba(60, 64, 67, 0.3), 0 1px 3px 1px rgba(60, 64, 67, 0.15);\n",
              "    fill: var(--button-hover-fill-color);\n",
              "  }\n",
              "\n",
              "  .colab-df-quickchart-complete:disabled,\n",
              "  .colab-df-quickchart-complete:disabled:hover {\n",
              "    background-color: var(--disabled-bg-color);\n",
              "    fill: var(--disabled-fill-color);\n",
              "    box-shadow: none;\n",
              "  }\n",
              "\n",
              "  .colab-df-spinner {\n",
              "    border: 2px solid var(--fill-color);\n",
              "    border-color: transparent;\n",
              "    border-bottom-color: var(--fill-color);\n",
              "    animation:\n",
              "      spin 1s steps(1) infinite;\n",
              "  }\n",
              "\n",
              "  @keyframes spin {\n",
              "    0% {\n",
              "      border-color: transparent;\n",
              "      border-bottom-color: var(--fill-color);\n",
              "      border-left-color: var(--fill-color);\n",
              "    }\n",
              "    20% {\n",
              "      border-color: transparent;\n",
              "      border-left-color: var(--fill-color);\n",
              "      border-top-color: var(--fill-color);\n",
              "    }\n",
              "    30% {\n",
              "      border-color: transparent;\n",
              "      border-left-color: var(--fill-color);\n",
              "      border-top-color: var(--fill-color);\n",
              "      border-right-color: var(--fill-color);\n",
              "    }\n",
              "    40% {\n",
              "      border-color: transparent;\n",
              "      border-right-color: var(--fill-color);\n",
              "      border-top-color: var(--fill-color);\n",
              "    }\n",
              "    60% {\n",
              "      border-color: transparent;\n",
              "      border-right-color: var(--fill-color);\n",
              "    }\n",
              "    80% {\n",
              "      border-color: transparent;\n",
              "      border-right-color: var(--fill-color);\n",
              "      border-bottom-color: var(--fill-color);\n",
              "    }\n",
              "    90% {\n",
              "      border-color: transparent;\n",
              "      border-bottom-color: var(--fill-color);\n",
              "    }\n",
              "  }\n",
              "</style>\n",
              "\n",
              "  <script>\n",
              "    async function quickchart(key) {\n",
              "      const quickchartButtonEl =\n",
              "        document.querySelector('#' + key + ' button');\n",
              "      quickchartButtonEl.disabled = true;  // To prevent multiple clicks.\n",
              "      quickchartButtonEl.classList.add('colab-df-spinner');\n",
              "      try {\n",
              "        const charts = await google.colab.kernel.invokeFunction(\n",
              "            'suggestCharts', [key], {});\n",
              "      } catch (error) {\n",
              "        console.error('Error during call to suggestCharts:', error);\n",
              "      }\n",
              "      quickchartButtonEl.classList.remove('colab-df-spinner');\n",
              "      quickchartButtonEl.classList.add('colab-df-quickchart-complete');\n",
              "    }\n",
              "    (() => {\n",
              "      let quickchartButtonEl =\n",
              "        document.querySelector('#df-186fabb9-1e7b-4a30-b297-014964efb1a7 button');\n",
              "      quickchartButtonEl.style.display =\n",
              "        google.colab.kernel.accessAllowed ? 'block' : 'none';\n",
              "    })();\n",
              "  </script>\n",
              "</div>\n",
              "    </div>\n",
              "  </div>\n"
            ]
          },
          "metadata": {},
          "execution_count": 53
        }
      ],
      "source": [
        "df_rep_emotion"
      ]
    },
    {
      "cell_type": "markdown",
      "metadata": {
        "id": "jiOBb5muznRV"
      },
      "source": [
        "### Support and F1 score"
      ]
    },
    {
      "cell_type": "code",
      "execution_count": 54,
      "metadata": {
        "colab": {
          "base_uri": "https://localhost:8080/",
          "height": 406
        },
        "id": "r7Tnbh3XCu3z",
        "outputId": "8fb0d265-1184-4de0-d2fd-9ac72a9cebfb"
      },
      "outputs": [
        {
          "output_type": "display_data",
          "data": {
            "text/plain": [
              "<Figure size 1500x500 with 1 Axes>"
            ],
            "image/png": "[encoded data removed]"
          },
          "metadata": {}
        }
      ],
      "source": [
        "import matplotlib.pyplot as plt\n",
        "\n",
        "plt.figure(figsize=(15,5))\n",
        "plt.hist([df_train.emotion, df_val.emotion, df_test.emotion],\n",
        "                density=True,\n",
        "                label=[\"Train\", \"Val\", \"Test\"],\n",
        "                histtype=\"bar\",\n",
        "                )\n",
        "plt.legend()\n",
        "plt.show()"
      ]
    },
    {
      "cell_type": "code",
      "execution_count": 55,
      "metadata": {
        "colab": {
          "base_uri": "https://localhost:8080/",
          "height": 976
        },
        "id": "MDjrH4ZN-eA8",
        "outputId": "ac7f8a34-e85f-4d21-ffb5-97d42aa11ea3"
      },
      "outputs": [
        {
          "output_type": "stream",
          "name": "stderr",
          "text": [
            "<ipython-input-55-b411e58f02d7>:4: FutureWarning: `sort_columns` is deprecated and will be removed in a future version.\n",
            "  df_rep_emotion.plot(x=\"label\", y=\"f1-score\", kind=\"bar\", sort_columns=True)\n"
          ]
        },
        {
          "output_type": "display_data",
          "data": {
            "text/plain": [
              "<Figure size 1500x200 with 0 Axes>"
            ]
          },
          "metadata": {}
        },
        {
          "output_type": "display_data",
          "data": {
            "text/plain": [
              "<Figure size 640x480 with 1 Axes>"
            ],
            "image/png": "[encoded data removed]"
          },
          "metadata": {}
        },
        {
          "output_type": "display_data",
          "data": {
            "text/plain": [
              "<Figure size 640x480 with 1 Axes>"
            ],
            "image/png": "[encoded data removed]"
          },
          "metadata": {}
        }
      ],
      "source": [
        "plt.figure(figsize=(15,2))\n",
        "df_rep_emotion.plot.scatter(x=\"support\", y=\"f1-score\")\n",
        "df_rep_emotion.sort_values(\"f1-score\", inplace= True)\n",
        "df_rep_emotion.plot(x=\"label\", y=\"f1-score\", kind=\"bar\", sort_columns=True)\n",
        "plt.show()"
      ]
    },
    {
      "cell_type": "markdown",
      "metadata": {
        "id": "1MkVf6XizxCJ"
      },
      "source": [
        "### Confusion Matrix"
      ]
    },
    {
      "cell_type": "code",
      "execution_count": 56,
      "metadata": {
        "colab": {
          "base_uri": "https://localhost:8080/",
          "height": 832
        },
        "id": "4yZqLAklz5zg",
        "outputId": "e999330e-cb1c-4777-f1e2-1ac9f22ed31c"
      },
      "outputs": [
        {
          "output_type": "execute_result",
          "data": {
            "text/plain": [
              "<sklearn.metrics._plot.confusion_matrix.ConfusionMatrixDisplay at 0x78df25cbd270>"
            ]
          },
          "metadata": {},
          "execution_count": 56
        },
        {
          "output_type": "display_data",
          "data": {
            "text/plain": [
              "<Figure size 1000x1000 with 2 Axes>"
            ],
            "image/png": "[encoded data removed]"
          },
          "metadata": {}
        }
      ],
      "source": [
        "fig, ax = plt.subplots(figsize=(10,10))\n",
        "cm_disp.plot(ax=ax)"
      ]
    },
    {
      "cell_type": "markdown",
      "metadata": {
        "id": "jk6CuLBkz6hz"
      },
      "source": [
        "### Triggers error"
      ]
    },
    {
      "cell_type": "code",
      "execution_count": 57,
      "metadata": {
        "id": "uZjJfLok0Bwa"
      },
      "outputs": [],
      "source": [
        "df_report_tri, cm_disp = get_report(df_test, 'tri')"
      ]
    },
    {
      "cell_type": "code",
      "execution_count": 58,
      "metadata": {
        "id": "-DIGCd30KW_z",
        "colab": {
          "base_uri": "https://localhost:8080/",
          "height": 112
        },
        "outputId": "edd7f762-44b4-48cc-d3ec-65471a53929b"
      },
      "outputs": [
        {
          "output_type": "execute_result",
          "data": {
            "text/plain": [
              "   f1-score  support encoded_label  label\n",
              "0    0.9145   3043.0         False  False\n",
              "1    0.0000    569.0          True   True"
            ],
            "text/html": [
              "\n",
              "  <div id=\"df-cad4bb71-f4bb-4589-8b33-5229bbeedd27\" class=\"colab-df-container\">\n",
              "    <div>\n",
              "<style scoped>\n",
              "    .dataframe tbody tr th:only-of-type {\n",
              "        vertical-align: middle;\n",
              "    }\n",
              "\n",
              "    .dataframe tbody tr th {\n",
              "        vertical-align: top;\n",
              "    }\n",
              "\n",
              "    .dataframe thead th {\n",
              "        text-align: right;\n",
              "    }\n",
              "</style>\n",
              "<table border=\"1\" class=\"dataframe\">\n",
              "  <thead>\n",
              "    <tr style=\"text-align: right;\">\n",
              "      <th></th>\n",
              "      <th>f1-score</th>\n",
              "      <th>support</th>\n",
              "      <th>encoded_label</th>\n",
              "      <th>label</th>\n",
              "    </tr>\n",
              "  </thead>\n",
              "  <tbody>\n",
              "    <tr>\n",
              "      <th>0</th>\n",
              "      <td>0.9145</td>\n",
              "      <td>3043.0</td>\n",
              "      <td>False</td>\n",
              "      <td>False</td>\n",
              "    </tr>\n",
              "    <tr>\n",
              "      <th>1</th>\n",
              "      <td>0.0000</td>\n",
              "      <td>569.0</td>\n",
              "      <td>True</td>\n",
              "      <td>True</td>\n",
              "    </tr>\n",
              "  </tbody>\n",
              "</table>\n",
              "</div>\n",
              "    <div class=\"colab-df-buttons\">\n",
              "\n",
              "  <div class=\"colab-df-container\">\n",
              "    <button class=\"colab-df-convert\" onclick=\"convertToInteractive('df-cad4bb71-f4bb-4589-8b33-5229bbeedd27')\"\n",
              "            title=\"Convert this dataframe to an interactive table.\"\n",
              "            style=\"display:none;\">\n",
              "\n",
              "  <svg xmlns=\"http://www.w3.org/2000/svg\" height=\"24px\" viewBox=\"0 -960 960 960\">\n",
              "    <path d=\"M120-120v-720h720v720H120Zm60-500h600v-160H180v160Zm220 220h160v-160H400v160Zm0 220h160v-160H400v160ZM180-400h160v-160H180v160Zm440 0h160v-160H620v160ZM180-180h160v-160H180v160Zm440 0h160v-160H620v160Z\"/>\n",
              "  </svg>\n",
              "    </button>\n",
              "\n",
              "  <style>\n",
              "    .colab-df-container {\n",
              "      display:flex;\n",
              "      gap: 12px;\n",
              "    }\n",
              "\n",
              "    .colab-df-convert {\n",
              "      background-color: #E8F0FE;\n",
              "      border: none;\n",
              "      border-radius: 50%;\n",
              "      cursor: pointer;\n",
              "      display: none;\n",
              "      fill: #1967D2;\n",
              "      height: 32px;\n",
              "      padding: 0 0 0 0;\n",
              "      width: 32px;\n",
              "    }\n",
              "\n",
              "    .colab-df-convert:hover {\n",
              "      background-color: #E2EBFA;\n",
              "      box-shadow: 0px 1px 2px rgba(60, 64, 67, 0.3), 0px 1px 3px 1px rgba(60, 64, 67, 0.15);\n",
              "      fill: #174EA6;\n",
              "    }\n",
              "\n",
              "    .colab-df-buttons div {\n",
              "      margin-bottom: 4px;\n",
              "    }\n",
              "\n",
              "    [theme=dark] .colab-df-convert {\n",
              "      background-color: #3B4455;\n",
              "      fill: #D2E3FC;\n",
              "    }\n",
              "\n",
              "    [theme=dark] .colab-df-convert:hover {\n",
              "      background-color: #434B5C;\n",
              "      box-shadow: 0px 1px 3px 1px rgba(0, 0, 0, 0.15);\n",
              "      filter: drop-shadow(0px 1px 2px rgba(0, 0, 0, 0.3));\n",
              "      fill: #FFFFFF;\n",
              "    }\n",
              "  </style>\n",
              "\n",
              "    <script>\n",
              "      const buttonEl =\n",
              "        document.querySelector('#df-cad4bb71-f4bb-4589-8b33-5229bbeedd27 button.colab-df-convert');\n",
              "      buttonEl.style.display =\n",
              "        google.colab.kernel.accessAllowed ? 'block' : 'none';\n",
              "\n",
              "      async function convertToInteractive(key) {\n",
              "        const element = document.querySelector('#df-cad4bb71-f4bb-4589-8b33-5229bbeedd27');\n",
              "        const dataTable =\n",
              "          await google.colab.kernel.invokeFunction('convertToInteractive',\n",
              "                                                    [key], {});\n",
              "        if (!dataTable) return;\n",
              "\n",
              "        const docLinkHtml = 'Like what you see? Visit the ' +\n",
              "          '<a target=\"_blank\" href=https://colab.research.google.com/notebooks/data_table.ipynb>data table notebook</a>'\n",
              "          + ' to learn more about interactive tables.';\n",
              "        element.innerHTML = '';\n",
              "        dataTable['output_type'] = 'display_data';\n",
              "        await google.colab.output.renderOutput(dataTable, element);\n",
              "        const docLink = document.createElement('div');\n",
              "        docLink.innerHTML = docLinkHtml;\n",
              "        element.appendChild(docLink);\n",
              "      }\n",
              "    </script>\n",
              "  </div>\n",
              "\n",
              "\n",
              "<div id=\"df-a6729c43-d1d4-48ae-b321-fedfefe737a1\">\n",
              "  <button class=\"colab-df-quickchart\" onclick=\"quickchart('df-a6729c43-d1d4-48ae-b321-fedfefe737a1')\"\n",
              "            title=\"Suggest charts\"\n",
              "            style=\"display:none;\">\n",
              "\n",
              "<svg xmlns=\"http://www.w3.org/2000/svg\" height=\"24px\"viewBox=\"0 0 24 24\"\n",
              "     width=\"24px\">\n",
              "    <g>\n",
              "        <path d=\"M19 3H5c-1.1 0-2 .9-2 2v14c0 1.1.9 2 2 2h14c1.1 0 2-.9 2-2V5c0-1.1-.9-2-2-2zM9 17H7v-7h2v7zm4 0h-2V7h2v10zm4 0h-2v-4h2v4z\"/>\n",
              "    </g>\n",
              "</svg>\n",
              "  </button>\n",
              "\n",
              "<style>\n",
              "  .colab-df-quickchart {\n",
              "      --bg-color: #E8F0FE;\n",
              "      --fill-color: #1967D2;\n",
              "      --hover-bg-color: #E2EBFA;\n",
              "      --hover-fill-color: #174EA6;\n",
              "      --disabled-fill-color: #AAA;\n",
              "      --disabled-bg-color: #DDD;\n",
              "  }\n",
              "\n",
              "  [theme=dark] .colab-df-quickchart {\n",
              "      --bg-color: #3B4455;\n",
              "      --fill-color: #D2E3FC;\n",
              "      --hover-bg-color: #434B5C;\n",
              "      --hover-fill-color: #FFFFFF;\n",
              "      --disabled-bg-color: #3B4455;\n",
              "      --disabled-fill-color: #666;\n",
              "  }\n",
              "\n",
              "  .colab-df-quickchart {\n",
              "    background-color: var(--bg-color);\n",
              "    border: none;\n",
              "    border-radius: 50%;\n",
              "    cursor: pointer;\n",
              "    display: none;\n",
              "    fill: var(--fill-color);\n",
              "    height: 32px;\n",
              "    padding: 0;\n",
              "    width: 32px;\n",
              "  }\n",
              "\n",
              "  .colab-df-quickchart:hover {\n",
              "    background-color: var(--hover-bg-color);\n",
              "    box-shadow: 0 1px 2px rgba(60, 64, 67, 0.3), 0 1px 3px 1px rgba(60, 64, 67, 0.15);\n",
              "    fill: var(--button-hover-fill-color);\n",
              "  }\n",
              "\n",
              "  .colab-df-quickchart-complete:disabled,\n",
              "  .colab-df-quickchart-complete:disabled:hover {\n",
              "    background-color: var(--disabled-bg-color);\n",
              "    fill: var(--disabled-fill-color);\n",
              "    box-shadow: none;\n",
              "  }\n",
              "\n",
              "  .colab-df-spinner {\n",
              "    border: 2px solid var(--fill-color);\n",
              "    border-color: transparent;\n",
              "    border-bottom-color: var(--fill-color);\n",
              "    animation:\n",
              "      spin 1s steps(1) infinite;\n",
              "  }\n",
              "\n",
              "  @keyframes spin {\n",
              "    0% {\n",
              "      border-color: transparent;\n",
              "      border-bottom-color: var(--fill-color);\n",
              "      border-left-color: var(--fill-color);\n",
              "    }\n",
              "    20% {\n",
              "      border-color: transparent;\n",
              "      border-left-color: var(--fill-color);\n",
              "      border-top-color: var(--fill-color);\n",
              "    }\n",
              "    30% {\n",
              "      border-color: transparent;\n",
              "      border-left-color: var(--fill-color);\n",
              "      border-top-color: var(--fill-color);\n",
              "      border-right-color: var(--fill-color);\n",
              "    }\n",
              "    40% {\n",
              "      border-color: transparent;\n",
              "      border-right-color: var(--fill-color);\n",
              "      border-top-color: var(--fill-color);\n",
              "    }\n",
              "    60% {\n",
              "      border-color: transparent;\n",
              "      border-right-color: var(--fill-color);\n",
              "    }\n",
              "    80% {\n",
              "      border-color: transparent;\n",
              "      border-right-color: var(--fill-color);\n",
              "      border-bottom-color: var(--fill-color);\n",
              "    }\n",
              "    90% {\n",
              "      border-color: transparent;\n",
              "      border-bottom-color: var(--fill-color);\n",
              "    }\n",
              "  }\n",
              "</style>\n",
              "\n",
              "  <script>\n",
              "    async function quickchart(key) {\n",
              "      const quickchartButtonEl =\n",
              "        document.querySelector('#' + key + ' button');\n",
              "      quickchartButtonEl.disabled = true;  // To prevent multiple clicks.\n",
              "      quickchartButtonEl.classList.add('colab-df-spinner');\n",
              "      try {\n",
              "        const charts = await google.colab.kernel.invokeFunction(\n",
              "            'suggestCharts', [key], {});\n",
              "      } catch (error) {\n",
              "        console.error('Error during call to suggestCharts:', error);\n",
              "      }\n",
              "      quickchartButtonEl.classList.remove('colab-df-spinner');\n",
              "      quickchartButtonEl.classList.add('colab-df-quickchart-complete');\n",
              "    }\n",
              "    (() => {\n",
              "      let quickchartButtonEl =\n",
              "        document.querySelector('#df-a6729c43-d1d4-48ae-b321-fedfefe737a1 button');\n",
              "      quickchartButtonEl.style.display =\n",
              "        google.colab.kernel.accessAllowed ? 'block' : 'none';\n",
              "    })();\n",
              "  </script>\n",
              "</div>\n",
              "    </div>\n",
              "  </div>\n"
            ]
          },
          "metadata": {},
          "execution_count": 58
        }
      ],
      "source": [
        "df_report_tri"
      ]
    },
    {
      "cell_type": "markdown",
      "metadata": {
        "id": "GAaHH3IKXQOQ"
      },
      "source": [
        "The trigger for its nature is quite rare in the dataset and it requires a deeply understanding of the meaning of the sentence. So it doesn't surprise to see that's it's more difficult for the model to be identified."
      ]
    },
    {
      "cell_type": "code",
      "execution_count": 59,
      "metadata": {
        "id": "A2y-vHzWUMLu",
        "colab": {
          "base_uri": "https://localhost:8080/",
          "height": 838
        },
        "outputId": "4c4ce611-aa84-4f5a-a2ee-71f91414493e"
      },
      "outputs": [
        {
          "output_type": "execute_result",
          "data": {
            "text/plain": [
              "<sklearn.metrics._plot.confusion_matrix.ConfusionMatrixDisplay at 0x78df1fffbb20>"
            ]
          },
          "metadata": {},
          "execution_count": 59
        },
        {
          "output_type": "display_data",
          "data": {
            "text/plain": [
              "<Figure size 1000x1000 with 2 Axes>"
            ],
            "image/png": "[encoded data removed]"
          },
          "metadata": {}
        }
      ],
      "source": [
        "fig, ax = plt.subplots(figsize=(10,10))\n",
        "cm_disp.plot(ax=ax)"
      ]
    },
    {
      "cell_type": "markdown",
      "metadata": {
        "id": "UdZQgiLMO2YS"
      },
      "source": [
        "For the triggers analysis, it could be usefull to observe if there are emotion for which an error is more frequent"
      ]
    },
    {
      "cell_type": "markdown",
      "metadata": {
        "id": "DHYxe_J4PQZT"
      },
      "source": [
        "First of all, let's show the frequence of triggers related to the emotion"
      ]
    },
    {
      "cell_type": "code",
      "execution_count": 61,
      "metadata": {
        "id": "9UGUNpmTKYFh",
        "colab": {
          "base_uri": "https://localhost:8080/",
          "height": 445
        },
        "outputId": "fb845a0a-77aa-4bc8-e109-37f7bd008043"
      },
      "outputs": [
        {
          "output_type": "display_data",
          "data": {
            "text/plain": [
              "<Figure size 1000x500 with 1 Axes>"
            ],
            "image/png": "[encoded data removed]"
          },
          "metadata": {}
        }
      ],
      "source": [
        "df_report_tri = df_test[df_test[\"trigger\"] == 1]\n",
        "plt.figure(figsize=(10,5))\n",
        "plt.hist([df_report_tri.emotion, df_test.emotion],\n",
        "                density=True,\n",
        "                label=[\"Triggers\", \"Distribution\"],\n",
        "                histtype=\"bar\",\n",
        "                )\n",
        "\n",
        "plt.legend()\n",
        "plt.show()"
      ]
    },
    {
      "cell_type": "markdown",
      "metadata": {
        "id": "5dY5kIm1TVMh"
      },
      "source": [
        "The triggers are well distributed among the emotions."
      ]
    },
    {
      "cell_type": "code",
      "execution_count": 62,
      "metadata": {
        "id": "8WUgzNDyPu_k",
        "colab": {
          "base_uri": "https://localhost:8080/",
          "height": 445
        },
        "outputId": "5ed3b5f1-e358-42e6-fdb5-7a984e4df64a"
      },
      "outputs": [
        {
          "output_type": "display_data",
          "data": {
            "text/plain": [
              "<Figure size 1000x500 with 1 Axes>"
            ],
            "image/png": "[encoded data removed]"
          },
          "metadata": {}
        }
      ],
      "source": [
        "df_report_tri = df_test[df_test[\"trigger\"] != df_test[\"predicted_tri\"]]\n",
        "plt.figure(figsize=(10,5))\n",
        "plt.hist(df_report_tri.emotion,\n",
        "                density=True,\n",
        "                label=\"Wrong prediction\",\n",
        "                histtype=\"bar\",\n",
        "                rwidth=0.7\n",
        "                )\n",
        "plt.legend()\n",
        "plt.show()"
      ]
    },
    {
      "cell_type": "markdown",
      "metadata": {
        "id": "tQs5raC1X26d"
      },
      "source": [
        "From the showed graph, is possible to see that the model fails the most to undestand the trigger when it's caused by a neutral sentence."
      ]
    },
    {
      "cell_type": "code",
      "execution_count": 62,
      "metadata": {
        "id": "6SzWVZW9YpQF"
      },
      "outputs": [],
      "source": []
    }
  ],
  "metadata": {
    "accelerator": "GPU",
    "colab": {
      "provenance": [],
      "gpuType": "T4"
    },
    "kernelspec": {
      "display_name": "Python 3",
      "name": "python3"
    },
    "language_info": {
      "codemirror_mode": {
        "name": "ipython",
        "version": 3
      },
      "file_extension": ".py",
      "mimetype": "text/x-python",
      "name": "python",
      "nbconvert_exporter": "python",
      "pygments_lexer": "ipython3",
      "version": "3.10.12"
    }
  },
  "nbformat": 4,
  "nbformat_minor": 0
}