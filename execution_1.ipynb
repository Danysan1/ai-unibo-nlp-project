{
  "cells": [
    {
      "cell_type": "markdown",
      "metadata": {
        "id": "view-in-github",
        "colab_type": "text"
      },
      "source": [
        "<a href=\"https://colab.research.google.com/github/Danysan1/ai-unibo-nlp-project/blob/main/execution_1.ipynb\" target=\"_parent\"><img src=\"https://colab.research.google.com/assets/colab-badge.svg\" alt=\"Open In Colab\"/></a>"
      ]
    },
    {
      "cell_type": "markdown",
      "metadata": {
        "id": "TzCABY1Qi8Bv"
      },
      "source": [
        "# Assigment 1 execution"
      ]
    },
    {
      "cell_type": "markdown",
      "metadata": {
        "id": "kNE248Nhi8B0"
      },
      "source": [
        "Corpora: https://www.nltk.org/nltk_data/ , point 91, \"Dependency Parsed Treebank\" ([link](https://raw.githubusercontent.com/nltk/nltk_data/gh-pages/packages/corpora/dependency_treebank.zip)).\n",
        "\n",
        "Docs:\n",
        "* https://www.nltk.org/api/nltk.corpus.html\n",
        "* https://www.nltk.org/data.html\n",
        "* https://www.nltk.org/install.html\n",
        "\n",
        "## Preparing the environment"
      ]
    },
    {
      "cell_type": "code",
      "execution_count": null,
      "metadata": {
        "id": "SJOEUxxoi8B1"
      },
      "outputs": [],
      "source": [
        "#%pip install pandas numpy matplotlib nltk"
      ]
    },
    {
      "cell_type": "code",
      "execution_count": null,
      "metadata": {
        "id": "jGc5uCT3i8B2"
      },
      "outputs": [],
      "source": [
        "from re import sub\n",
        "from os.path import exists\n",
        "from urllib.request import urlretrieve\n",
        "from zipfile import ZipFile\n",
        "import numpy as np\n",
        "import pandas as pd\n",
        "from matplotlib import pyplot as plt"
      ]
    },
    {
      "cell_type": "code",
      "source": [
        "import os, shutil  #  file management\n",
        "import sys \n",
        "import pandas as pd  #  dataframe management\n",
        "import numpy as np  #  data manipulation\n",
        "import re\n",
        "import urllib.request  # download files\n",
        "from zipfile import ZipFile # extract files\n",
        "from matplotlib import pyplot as plt"
      ],
      "metadata": {
        "id": "KqnHhB8yGptZ"
      },
      "execution_count": 1,
      "outputs": []
    },
    {
      "cell_type": "markdown",
      "metadata": {
        "id": "glhEVNdNi8B4"
      },
      "source": [
        "## Downloading the dataset"
      ]
    },
    {
      "cell_type": "code",
      "execution_count": null,
      "metadata": {
        "id": "8rcR7hfpi8B4"
      },
      "outputs": [],
      "source": [
        "#from nltk import download\n",
        "#download()"
      ]
    },
    {
      "cell_type": "code",
      "execution_count": null,
      "metadata": {
        "id": "qeLPrjf9i8B5"
      },
      "outputs": [],
      "source": [
        "if not exists('dependency_treebank'):\n",
        "    urlretrieve(\n",
        "        'https://raw.githubusercontent.com/nltk/nltk_data/gh-pages/packages/corpora/dependency_treebank.zip',\n",
        "        'dependency_treebank.zip'\n",
        "    )\n",
        "    \n",
        "    with ZipFile('dependency_treebank.zip', 'r') as zObject:\n",
        "        # Extracting all the members of the zip  into a specific location.\n",
        "        zObject.extractall()"
      ]
    },
    {
      "cell_type": "code",
      "source": [
        "dataset_folder = os.path.join(os.getcwd(), \"Dataset\")\n",
        "\n",
        "if not os.path.exists(dataset_folder):\n",
        "    os.makedirs(dataset_folder)\n",
        "\n",
        "url = 'https://raw.githubusercontent.com/nltk/nltk_data/gh-pages/packages/corpora/dependency_treebank.zip'\n",
        "\n",
        "dataset_path = os.path.join(dataset_folder, \"dependency_treebank.zip\")\n",
        "\n",
        "if not os.path.exists(dataset_path):\n",
        "    urllib.request.urlretrieve(url, dataset_path)\n",
        "    print(\"Successful download\")\n",
        "    \n",
        "with ZipFile(dataset_path, 'r') as zObject:\n",
        "  # Extracting all the members of the zip  into a specific location.\n",
        "  zObject.extractall(dataset_folder)\n",
        "  print(\"Successful extraction\")"
      ],
      "metadata": {
        "colab": {
          "base_uri": "https://localhost:8080/"
        },
        "id": "gMVaf67mGtVe",
        "outputId": "b63eda12-b949-4841-d2a0-6205aece1435"
      },
      "execution_count": 2,
      "outputs": [
        {
          "output_type": "stream",
          "name": "stdout",
          "text": [
            "Successful download\n",
            "Successful extraction\n"
          ]
        }
      ]
    },
    {
      "cell_type": "markdown",
      "metadata": {
        "id": "6YF4FVoUi8B7"
      },
      "source": [
        "## Loading the data"
      ]
    },
    {
      "cell_type": "code",
      "execution_count": null,
      "metadata": {
        "id": "wNHOCIU0i8B8"
      },
      "outputs": [],
      "source": [
        "#from nltk.corpus import dependency_treebank\n",
        "#from nltk.data import load\n",
        "#dependency_treebank_test = load(\"nltk:\") \n",
        "#sentences = dependency_treebank.sents()\n",
        "#words = dependency_treebank.words()"
      ]
    },
    {
      "cell_type": "code",
      "execution_count": 3,
      "metadata": {
        "id": "brq6f0-oi8B9"
      },
      "outputs": [],
      "source": [
        "def loadCorpus(start, stop=None):\n",
        "    '''\n",
        "    Parameters:\n",
        "        start: start of numeric range of files (inclusive)\n",
        "        stop: end of numeric range of files (exclusive)\n",
        "    '''\n",
        "    if stop==None:\n",
        "        stop = start+1\n",
        "    \n",
        "    return pd.concat([\n",
        "        pd.read_csv(f'./dependency_treebank/wsj_{\"{:04d}\".format(num)}.dp', sep=\"\\t\", names=[\"word\",\"label\",\"num\"]) for num in range(start, stop)\n",
        "    ])"
      ]
    },
    {
      "cell_type": "code",
      "source": [
        "def loadCorpus(start, stop=None):\n",
        "    '''\n",
        "    Parameters:\n",
        "        start: start of numeric range of files (inclusive)\n",
        "        stop: end of numeric range of files (exclusive)\n",
        "    '''\n",
        "    dataset_name = \"dependency_treebank\"\n",
        "    folder = os.path.join(os.getcwd(), \"Dataset\", dataset_name)\n",
        "    if stop==None:\n",
        "        stop = start+1\n",
        "    \n",
        "    return pd.concat([\n",
        "        pd.read_csv(f'{folder}/wsj_{\"{:04d}\".format(num)}.dp', sep=\"\\t\", names=[\"word\",\"label\",\"num\"]) for num in range(start, stop)\n",
        "    ])"
      ],
      "metadata": {
        "id": "NID5ISLYOL-i"
      },
      "execution_count": 5,
      "outputs": []
    },
    {
      "cell_type": "code",
      "execution_count": 6,
      "metadata": {
        "id": "MHjTm5HOi8B-"
      },
      "outputs": [],
      "source": [
        "full_dataset = loadCorpus(1,200)"
      ]
    },
    {
      "cell_type": "markdown",
      "metadata": {
        "id": "xVtgdAgwi8B-"
      },
      "source": [
        "## Exploratory Data Analysis"
      ]
    },
    {
      "cell_type": "code",
      "execution_count": 7,
      "metadata": {
        "id": "Ih48IOpti8B_",
        "outputId": "89438346-41f8-4be0-99a1-cf1b47269f0c",
        "colab": {
          "base_uri": "https://localhost:8080/"
        }
      },
      "outputs": [
        {
          "output_type": "execute_result",
          "data": {
            "text/plain": [
              "word     94084\n",
              "label    94084\n",
              "num      94084\n",
              "dtype: int64"
            ]
          },
          "metadata": {},
          "execution_count": 7
        }
      ],
      "source": [
        "full_dataset.count()"
      ]
    },
    {
      "cell_type": "code",
      "execution_count": 8,
      "metadata": {
        "id": "uzKTmaB0i8CA",
        "outputId": "803b9b7b-681a-41bc-e625-39704d97b938",
        "colab": {
          "base_uri": "https://localhost:8080/",
          "height": 363
        }
      },
      "outputs": [
        {
          "output_type": "execute_result",
          "data": {
            "text/plain": [
              "     word label  num\n",
              "0  Pierre   NNP    2\n",
              "1  Vinken   NNP    8\n",
              "2       ,     ,    2\n",
              "3      61    CD    5\n",
              "4   years   NNS    6\n",
              "5     old    JJ    2\n",
              "6       ,     ,    2\n",
              "7    will    MD    0\n",
              "8    join    VB    8\n",
              "9     the    DT   11"
            ],
            "text/html": [
              "\n",
              "  <div id=\"df-49b575b6-e307-4348-90a7-0b9dd6c1059a\">\n",
              "    <div class=\"colab-df-container\">\n",
              "      <div>\n",
              "<style scoped>\n",
              "    .dataframe tbody tr th:only-of-type {\n",
              "        vertical-align: middle;\n",
              "    }\n",
              "\n",
              "    .dataframe tbody tr th {\n",
              "        vertical-align: top;\n",
              "    }\n",
              "\n",
              "    .dataframe thead th {\n",
              "        text-align: right;\n",
              "    }\n",
              "</style>\n",
              "<table border=\"1\" class=\"dataframe\">\n",
              "  <thead>\n",
              "    <tr style=\"text-align: right;\">\n",
              "      <th></th>\n",
              "      <th>word</th>\n",
              "      <th>label</th>\n",
              "      <th>num</th>\n",
              "    </tr>\n",
              "  </thead>\n",
              "  <tbody>\n",
              "    <tr>\n",
              "      <th>0</th>\n",
              "      <td>Pierre</td>\n",
              "      <td>NNP</td>\n",
              "      <td>2</td>\n",
              "    </tr>\n",
              "    <tr>\n",
              "      <th>1</th>\n",
              "      <td>Vinken</td>\n",
              "      <td>NNP</td>\n",
              "      <td>8</td>\n",
              "    </tr>\n",
              "    <tr>\n",
              "      <th>2</th>\n",
              "      <td>,</td>\n",
              "      <td>,</td>\n",
              "      <td>2</td>\n",
              "    </tr>\n",
              "    <tr>\n",
              "      <th>3</th>\n",
              "      <td>61</td>\n",
              "      <td>CD</td>\n",
              "      <td>5</td>\n",
              "    </tr>\n",
              "    <tr>\n",
              "      <th>4</th>\n",
              "      <td>years</td>\n",
              "      <td>NNS</td>\n",
              "      <td>6</td>\n",
              "    </tr>\n",
              "    <tr>\n",
              "      <th>5</th>\n",
              "      <td>old</td>\n",
              "      <td>JJ</td>\n",
              "      <td>2</td>\n",
              "    </tr>\n",
              "    <tr>\n",
              "      <th>6</th>\n",
              "      <td>,</td>\n",
              "      <td>,</td>\n",
              "      <td>2</td>\n",
              "    </tr>\n",
              "    <tr>\n",
              "      <th>7</th>\n",
              "      <td>will</td>\n",
              "      <td>MD</td>\n",
              "      <td>0</td>\n",
              "    </tr>\n",
              "    <tr>\n",
              "      <th>8</th>\n",
              "      <td>join</td>\n",
              "      <td>VB</td>\n",
              "      <td>8</td>\n",
              "    </tr>\n",
              "    <tr>\n",
              "      <th>9</th>\n",
              "      <td>the</td>\n",
              "      <td>DT</td>\n",
              "      <td>11</td>\n",
              "    </tr>\n",
              "  </tbody>\n",
              "</table>\n",
              "</div>\n",
              "      <button class=\"colab-df-convert\" onclick=\"convertToInteractive('df-49b575b6-e307-4348-90a7-0b9dd6c1059a')\"\n",
              "              title=\"Convert this dataframe to an interactive table.\"\n",
              "              style=\"display:none;\">\n",
              "        \n",
              "  <svg xmlns=\"http://www.w3.org/2000/svg\" height=\"24px\"viewBox=\"0 0 24 24\"\n",
              "       width=\"24px\">\n",
              "    <path d=\"M0 0h24v24H0V0z\" fill=\"none\"/>\n",
              "    <path d=\"M18.56 5.44l.94 2.06.94-2.06 2.06-.94-2.06-.94-.94-2.06-.94 2.06-2.06.94zm-11 1L8.5 8.5l.94-2.06 2.06-.94-2.06-.94L8.5 2.5l-.94 2.06-2.06.94zm10 10l.94 2.06.94-2.06 2.06-.94-2.06-.94-.94-2.06-.94 2.06-2.06.94z\"/><path d=\"M17.41 7.96l-1.37-1.37c-.4-.4-.92-.59-1.43-.59-.52 0-1.04.2-1.43.59L10.3 9.45l-7.72 7.72c-.78.78-.78 2.05 0 2.83L4 21.41c.39.39.9.59 1.41.59.51 0 1.02-.2 1.41-.59l7.78-7.78 2.81-2.81c.8-.78.8-2.07 0-2.86zM5.41 20L4 18.59l7.72-7.72 1.47 1.35L5.41 20z\"/>\n",
              "  </svg>\n",
              "      </button>\n",
              "      \n",
              "  <style>\n",
              "    .colab-df-container {\n",
              "      display:flex;\n",
              "      flex-wrap:wrap;\n",
              "      gap: 12px;\n",
              "    }\n",
              "\n",
              "    .colab-df-convert {\n",
              "      background-color: #E8F0FE;\n",
              "      border: none;\n",
              "      border-radius: 50%;\n",
              "      cursor: pointer;\n",
              "      display: none;\n",
              "      fill: #1967D2;\n",
              "      height: 32px;\n",
              "      padding: 0 0 0 0;\n",
              "      width: 32px;\n",
              "    }\n",
              "\n",
              "    .colab-df-convert:hover {\n",
              "      background-color: #E2EBFA;\n",
              "      box-shadow: 0px 1px 2px rgba(60, 64, 67, 0.3), 0px 1px 3px 1px rgba(60, 64, 67, 0.15);\n",
              "      fill: #174EA6;\n",
              "    }\n",
              "\n",
              "    [theme=dark] .colab-df-convert {\n",
              "      background-color: #3B4455;\n",
              "      fill: #D2E3FC;\n",
              "    }\n",
              "\n",
              "    [theme=dark] .colab-df-convert:hover {\n",
              "      background-color: #434B5C;\n",
              "      box-shadow: 0px 1px 3px 1px rgba(0, 0, 0, 0.15);\n",
              "      filter: drop-shadow(0px 1px 2px rgba(0, 0, 0, 0.3));\n",
              "      fill: #FFFFFF;\n",
              "    }\n",
              "  </style>\n",
              "\n",
              "      <script>\n",
              "        const buttonEl =\n",
              "          document.querySelector('#df-49b575b6-e307-4348-90a7-0b9dd6c1059a button.colab-df-convert');\n",
              "        buttonEl.style.display =\n",
              "          google.colab.kernel.accessAllowed ? 'block' : 'none';\n",
              "\n",
              "        async function convertToInteractive(key) {\n",
              "          const element = document.querySelector('#df-49b575b6-e307-4348-90a7-0b9dd6c1059a');\n",
              "          const dataTable =\n",
              "            await google.colab.kernel.invokeFunction('convertToInteractive',\n",
              "                                                     [key], {});\n",
              "          if (!dataTable) return;\n",
              "\n",
              "          const docLinkHtml = 'Like what you see? Visit the ' +\n",
              "            '<a target=\"_blank\" href=https://colab.research.google.com/notebooks/data_table.ipynb>data table notebook</a>'\n",
              "            + ' to learn more about interactive tables.';\n",
              "          element.innerHTML = '';\n",
              "          dataTable['output_type'] = 'display_data';\n",
              "          await google.colab.output.renderOutput(dataTable, element);\n",
              "          const docLink = document.createElement('div');\n",
              "          docLink.innerHTML = docLinkHtml;\n",
              "          element.appendChild(docLink);\n",
              "        }\n",
              "      </script>\n",
              "    </div>\n",
              "  </div>\n",
              "  "
            ]
          },
          "metadata": {},
          "execution_count": 8
        }
      ],
      "source": [
        "full_dataset.head(10)"
      ]
    },
    {
      "cell_type": "markdown",
      "metadata": {
        "id": "ZjqrPfy4i8CB"
      },
      "source": [
        "Each document contains a different tokenized article:"
      ]
    },
    {
      "cell_type": "code",
      "execution_count": 9,
      "metadata": {
        "id": "EE9Qv0tUi8CB",
        "outputId": "691c4f5c-ee40-49b6-f310-4ae24923d06b",
        "colab": {
          "base_uri": "https://localhost:8080/",
          "height": 36
        }
      },
      "outputs": [
        {
          "output_type": "execute_result",
          "data": {
            "text/plain": [
              "'Pierre Vinken , 61 years old , will join the board as a nonexecutive director Nov. 29 . Mr. Vinken is chairman of Elsevier N.V. , the Dutch publishing group .'"
            ],
            "application/vnd.google.colaboratory.intrinsic+json": {
              "type": "string"
            }
          },
          "metadata": {},
          "execution_count": 9
        }
      ],
      "source": [
        "\" \".join(loadCorpus(1)[\"word\"])"
      ]
    },
    {
      "cell_type": "code",
      "execution_count": 10,
      "metadata": {
        "id": "sDIadSSJi8CB",
        "outputId": "7d1e8b1c-9e31-4a37-ed47-bfbf41f4bcd6",
        "colab": {
          "base_uri": "https://localhost:8080/",
          "height": 36
        }
      },
      "outputs": [
        {
          "output_type": "execute_result",
          "data": {
            "text/plain": [
              "'Rudolph Agnew , 55 years old and former chairman of Consolidated Gold Fields PLC , was named a nonexecutive director of this British industrial conglomerate .'"
            ],
            "application/vnd.google.colaboratory.intrinsic+json": {
              "type": "string"
            }
          },
          "metadata": {},
          "execution_count": 10
        }
      ],
      "source": [
        "\" \".join(loadCorpus(2)[\"word\"])"
      ]
    },
    {
      "cell_type": "code",
      "execution_count": 11,
      "metadata": {
        "id": "dcAVyveni8CC",
        "outputId": "a2976d7b-e9e4-43d3-8072-5a7f373817a4",
        "colab": {
          "base_uri": "https://localhost:8080/",
          "height": 336
        }
      },
      "outputs": [
        {
          "output_type": "display_data",
          "data": {
            "text/plain": [
              "<Figure size 1080x360 with 1 Axes>"
            ],
            "image/png": "[encoded data removed]"
          },
          "metadata": {
            "needs_background": "light"
          }
        }
      ],
      "source": [
        "fig=plt.figure(figsize=(15,5))\n",
        "p = plt.hist(full_dataset[\"label\"])\n",
        "plt.xticks(rotation=45)\n",
        "plt.show()"
      ]
    },
    {
      "cell_type": "code",
      "execution_count": 12,
      "metadata": {
        "id": "K9XyBPIQi8CC",
        "outputId": "a18460e3-8cc0-40c9-eb55-31d5d7bc7dd4",
        "colab": {
          "base_uri": "https://localhost:8080/",
          "height": 306
        }
      },
      "outputs": [
        {
          "output_type": "display_data",
          "data": {
            "text/plain": [
              "<Figure size 1080x360 with 1 Axes>"
            ],
            "image/png": "[encoded data removed]"
          },
          "metadata": {
            "needs_background": "light"
          }
        }
      ],
      "source": [
        "fig=plt.figure(figsize=(15,5))\n",
        "p = plt.plot(full_dataset[\"word\"].value_counts())\n",
        "plt.xticks([])\n",
        "plt.show()"
      ]
    },
    {
      "cell_type": "markdown",
      "metadata": {
        "id": "MzyI2Wufi8CD"
      },
      "source": [
        "## Data splitting and pre-processing\n",
        "\n",
        "\n",
        "\n"
      ]
    },
    {
      "cell_type": "markdown",
      "source": [
        "Creation of train, validation and test sets."
      ],
      "metadata": {
        "id": "Nep1haoQkIO0"
      }
    },
    {
      "cell_type": "code",
      "source": [
        "df_train = loadCorpus(1,101) \n",
        "df_val = loadCorpus(101,151)\n",
        "df_test = loadCorpus(151,200)"
      ],
      "metadata": {
        "id": "kOG5wns9X011"
      },
      "execution_count": 13,
      "outputs": []
    },
    {
      "cell_type": "markdown",
      "source": [
        "Remove the third column 'num', which is not necessary for this task, from all the three dataframes defined above."
      ],
      "metadata": {
        "id": "z3OJdmFZkaUY"
      }
    },
    {
      "cell_type": "code",
      "source": [
        "df_train = df_train[['word', 'label']]\n",
        "df_val = df_val[['word', 'label']]\n",
        "df_test = df_test[['word', 'label']]"
      ],
      "metadata": {
        "id": "5UAONTiss8a3"
      },
      "execution_count": 14,
      "outputs": []
    },
    {
      "cell_type": "markdown",
      "source": [
        "Clean the data."
      ],
      "metadata": {
        "id": "vjPNQ9ilk7X_"
      }
    },
    {
      "cell_type": "code",
      "source": [
        "def cleanCorpus(corpus):\n",
        "    corpus['word'] = corpus['word'].str.lower()\n",
        "    corpus[\"word\"] = [re.sub(r'[^\\w]', '', word) for word in corpus[\"word\"]]\n",
        "    corpus = corpus[corpus[\"word\"] != \"\"]\n",
        "    return corpus"
      ],
      "metadata": {
        "id": "4T_aIaLxk4Xp"
      },
      "execution_count": 19,
      "outputs": []
    },
    {
      "cell_type": "code",
      "source": [
        "#cleaned dataframes\n",
        "dfc_train = cleanCorpus(df_train)\n",
        "dfc_val = cleanCorpus(df_val)\n",
        "dfc_test = cleanCorpus(df_test)"
      ],
      "metadata": {
        "id": "lV6x05Lu26ym"
      },
      "execution_count": 20,
      "outputs": []
    },
    {
      "cell_type": "code",
      "source": [
        "dfc_train.head()"
      ],
      "metadata": {
        "id": "R4fHZaScmPoU",
        "colab": {
          "base_uri": "https://localhost:8080/",
          "height": 206
        },
        "outputId": "a6707c03-9e22-4f6c-b11b-33ecf06c630b"
      },
      "execution_count": 21,
      "outputs": [
        {
          "output_type": "execute_result",
          "data": {
            "text/plain": [
              "     word label\n",
              "0  pierre   NNP\n",
              "1  vinken   NNP\n",
              "3      61    CD\n",
              "4   years   NNS\n",
              "5     old    JJ"
            ],
            "text/html": [
              "\n",
              "  <div id=\"df-94171d87-9810-4ee6-a366-f8ec48c457a1\">\n",
              "    <div class=\"colab-df-container\">\n",
              "      <div>\n",
              "<style scoped>\n",
              "    .dataframe tbody tr th:only-of-type {\n",
              "        vertical-align: middle;\n",
              "    }\n",
              "\n",
              "    .dataframe tbody tr th {\n",
              "        vertical-align: top;\n",
              "    }\n",
              "\n",
              "    .dataframe thead th {\n",
              "        text-align: right;\n",
              "    }\n",
              "</style>\n",
              "<table border=\"1\" class=\"dataframe\">\n",
              "  <thead>\n",
              "    <tr style=\"text-align: right;\">\n",
              "      <th></th>\n",
              "      <th>word</th>\n",
              "      <th>label</th>\n",
              "    </tr>\n",
              "  </thead>\n",
              "  <tbody>\n",
              "    <tr>\n",
              "      <th>0</th>\n",
              "      <td>pierre</td>\n",
              "      <td>NNP</td>\n",
              "    </tr>\n",
              "    <tr>\n",
              "      <th>1</th>\n",
              "      <td>vinken</td>\n",
              "      <td>NNP</td>\n",
              "    </tr>\n",
              "    <tr>\n",
              "      <th>3</th>\n",
              "      <td>61</td>\n",
              "      <td>CD</td>\n",
              "    </tr>\n",
              "    <tr>\n",
              "      <th>4</th>\n",
              "      <td>years</td>\n",
              "      <td>NNS</td>\n",
              "    </tr>\n",
              "    <tr>\n",
              "      <th>5</th>\n",
              "      <td>old</td>\n",
              "      <td>JJ</td>\n",
              "    </tr>\n",
              "  </tbody>\n",
              "</table>\n",
              "</div>\n",
              "      <button class=\"colab-df-convert\" onclick=\"convertToInteractive('df-94171d87-9810-4ee6-a366-f8ec48c457a1')\"\n",
              "              title=\"Convert this dataframe to an interactive table.\"\n",
              "              style=\"display:none;\">\n",
              "        \n",
              "  <svg xmlns=\"http://www.w3.org/2000/svg\" height=\"24px\"viewBox=\"0 0 24 24\"\n",
              "       width=\"24px\">\n",
              "    <path d=\"M0 0h24v24H0V0z\" fill=\"none\"/>\n",
              "    <path d=\"M18.56 5.44l.94 2.06.94-2.06 2.06-.94-2.06-.94-.94-2.06-.94 2.06-2.06.94zm-11 1L8.5 8.5l.94-2.06 2.06-.94-2.06-.94L8.5 2.5l-.94 2.06-2.06.94zm10 10l.94 2.06.94-2.06 2.06-.94-2.06-.94-.94-2.06-.94 2.06-2.06.94z\"/><path d=\"M17.41 7.96l-1.37-1.37c-.4-.4-.92-.59-1.43-.59-.52 0-1.04.2-1.43.59L10.3 9.45l-7.72 7.72c-.78.78-.78 2.05 0 2.83L4 21.41c.39.39.9.59 1.41.59.51 0 1.02-.2 1.41-.59l7.78-7.78 2.81-2.81c.8-.78.8-2.07 0-2.86zM5.41 20L4 18.59l7.72-7.72 1.47 1.35L5.41 20z\"/>\n",
              "  </svg>\n",
              "      </button>\n",
              "      \n",
              "  <style>\n",
              "    .colab-df-container {\n",
              "      display:flex;\n",
              "      flex-wrap:wrap;\n",
              "      gap: 12px;\n",
              "    }\n",
              "\n",
              "    .colab-df-convert {\n",
              "      background-color: #E8F0FE;\n",
              "      border: none;\n",
              "      border-radius: 50%;\n",
              "      cursor: pointer;\n",
              "      display: none;\n",
              "      fill: #1967D2;\n",
              "      height: 32px;\n",
              "      padding: 0 0 0 0;\n",
              "      width: 32px;\n",
              "    }\n",
              "\n",
              "    .colab-df-convert:hover {\n",
              "      background-color: #E2EBFA;\n",
              "      box-shadow: 0px 1px 2px rgba(60, 64, 67, 0.3), 0px 1px 3px 1px rgba(60, 64, 67, 0.15);\n",
              "      fill: #174EA6;\n",
              "    }\n",
              "\n",
              "    [theme=dark] .colab-df-convert {\n",
              "      background-color: #3B4455;\n",
              "      fill: #D2E3FC;\n",
              "    }\n",
              "\n",
              "    [theme=dark] .colab-df-convert:hover {\n",
              "      background-color: #434B5C;\n",
              "      box-shadow: 0px 1px 3px 1px rgba(0, 0, 0, 0.15);\n",
              "      filter: drop-shadow(0px 1px 2px rgba(0, 0, 0, 0.3));\n",
              "      fill: #FFFFFF;\n",
              "    }\n",
              "  </style>\n",
              "\n",
              "      <script>\n",
              "        const buttonEl =\n",
              "          document.querySelector('#df-94171d87-9810-4ee6-a366-f8ec48c457a1 button.colab-df-convert');\n",
              "        buttonEl.style.display =\n",
              "          google.colab.kernel.accessAllowed ? 'block' : 'none';\n",
              "\n",
              "        async function convertToInteractive(key) {\n",
              "          const element = document.querySelector('#df-94171d87-9810-4ee6-a366-f8ec48c457a1');\n",
              "          const dataTable =\n",
              "            await google.colab.kernel.invokeFunction('convertToInteractive',\n",
              "                                                     [key], {});\n",
              "          if (!dataTable) return;\n",
              "\n",
              "          const docLinkHtml = 'Like what you see? Visit the ' +\n",
              "            '<a target=\"_blank\" href=https://colab.research.google.com/notebooks/data_table.ipynb>data table notebook</a>'\n",
              "            + ' to learn more about interactive tables.';\n",
              "          element.innerHTML = '';\n",
              "          dataTable['output_type'] = 'display_data';\n",
              "          await google.colab.output.renderOutput(dataTable, element);\n",
              "          const docLink = document.createElement('div');\n",
              "          docLink.innerHTML = docLinkHtml;\n",
              "          element.appendChild(docLink);\n",
              "        }\n",
              "      </script>\n",
              "    </div>\n",
              "  </div>\n",
              "  "
            ]
          },
          "metadata": {},
          "execution_count": 21
        }
      ]
    },
    {
      "cell_type": "code",
      "execution_count": 22,
      "metadata": {
        "id": "IyIXKzzvi8CE",
        "outputId": "5dcdbae2-bd8a-4b48-e1b5-4455a33e8637",
        "colab": {
          "base_uri": "https://localhost:8080/"
        }
      },
      "outputs": [
        {
          "output_type": "execute_result",
          "data": {
            "text/plain": [
              "word     47356\n",
              "label    47356\n",
              "num      47356\n",
              "dtype: int64"
            ]
          },
          "metadata": {},
          "execution_count": 22
        }
      ],
      "source": [
        "test_set = loadCorpus(1,101)\n",
        "test_set.count()"
      ]
    },
    {
      "cell_type": "code",
      "execution_count": 23,
      "metadata": {
        "id": "jWNlw-l8i8CE",
        "outputId": "248331fa-0ea4-467f-a791-b59d25f5c83c",
        "colab": {
          "base_uri": "https://localhost:8080/"
        }
      },
      "outputs": [
        {
          "output_type": "execute_result",
          "data": {
            "text/plain": [
              "word     41149\n",
              "label    41149\n",
              "num      41149\n",
              "dtype: int64"
            ]
          },
          "metadata": {},
          "execution_count": 23
        }
      ],
      "source": [
        "test_set = cleanCorpus(test_set)\n",
        "test_set.count()"
      ]
    },
    {
      "cell_type": "code",
      "execution_count": 24,
      "metadata": {
        "id": "ODlCj9nWi8CE",
        "outputId": "59f08047-fc0c-41a5-c7c8-eb4345683ef4",
        "colab": {
          "base_uri": "https://localhost:8080/",
          "height": 363
        }
      },
      "outputs": [
        {
          "output_type": "execute_result",
          "data": {
            "text/plain": [
              "      word label  num\n",
              "0   pierre   NNP    2\n",
              "1   vinken   NNP    8\n",
              "3       61    CD    5\n",
              "4    years   NNS    6\n",
              "5      old    JJ    2\n",
              "7     will    MD    0\n",
              "8     join    VB    8\n",
              "9      the    DT   11\n",
              "10   board    NN    9\n",
              "11      as    IN    9"
            ],
            "text/html": [
              "\n",
              "  <div id=\"df-b0b799ed-ca07-47e3-953c-82fb72f3bbbf\">\n",
              "    <div class=\"colab-df-container\">\n",
              "      <div>\n",
              "<style scoped>\n",
              "    .dataframe tbody tr th:only-of-type {\n",
              "        vertical-align: middle;\n",
              "    }\n",
              "\n",
              "    .dataframe tbody tr th {\n",
              "        vertical-align: top;\n",
              "    }\n",
              "\n",
              "    .dataframe thead th {\n",
              "        text-align: right;\n",
              "    }\n",
              "</style>\n",
              "<table border=\"1\" class=\"dataframe\">\n",
              "  <thead>\n",
              "    <tr style=\"text-align: right;\">\n",
              "      <th></th>\n",
              "      <th>word</th>\n",
              "      <th>label</th>\n",
              "      <th>num</th>\n",
              "    </tr>\n",
              "  </thead>\n",
              "  <tbody>\n",
              "    <tr>\n",
              "      <th>0</th>\n",
              "      <td>pierre</td>\n",
              "      <td>NNP</td>\n",
              "      <td>2</td>\n",
              "    </tr>\n",
              "    <tr>\n",
              "      <th>1</th>\n",
              "      <td>vinken</td>\n",
              "      <td>NNP</td>\n",
              "      <td>8</td>\n",
              "    </tr>\n",
              "    <tr>\n",
              "      <th>3</th>\n",
              "      <td>61</td>\n",
              "      <td>CD</td>\n",
              "      <td>5</td>\n",
              "    </tr>\n",
              "    <tr>\n",
              "      <th>4</th>\n",
              "      <td>years</td>\n",
              "      <td>NNS</td>\n",
              "      <td>6</td>\n",
              "    </tr>\n",
              "    <tr>\n",
              "      <th>5</th>\n",
              "      <td>old</td>\n",
              "      <td>JJ</td>\n",
              "      <td>2</td>\n",
              "    </tr>\n",
              "    <tr>\n",
              "      <th>7</th>\n",
              "      <td>will</td>\n",
              "      <td>MD</td>\n",
              "      <td>0</td>\n",
              "    </tr>\n",
              "    <tr>\n",
              "      <th>8</th>\n",
              "      <td>join</td>\n",
              "      <td>VB</td>\n",
              "      <td>8</td>\n",
              "    </tr>\n",
              "    <tr>\n",
              "      <th>9</th>\n",
              "      <td>the</td>\n",
              "      <td>DT</td>\n",
              "      <td>11</td>\n",
              "    </tr>\n",
              "    <tr>\n",
              "      <th>10</th>\n",
              "      <td>board</td>\n",
              "      <td>NN</td>\n",
              "      <td>9</td>\n",
              "    </tr>\n",
              "    <tr>\n",
              "      <th>11</th>\n",
              "      <td>as</td>\n",
              "      <td>IN</td>\n",
              "      <td>9</td>\n",
              "    </tr>\n",
              "  </tbody>\n",
              "</table>\n",
              "</div>\n",
              "      <button class=\"colab-df-convert\" onclick=\"convertToInteractive('df-b0b799ed-ca07-47e3-953c-82fb72f3bbbf')\"\n",
              "              title=\"Convert this dataframe to an interactive table.\"\n",
              "              style=\"display:none;\">\n",
              "        \n",
              "  <svg xmlns=\"http://www.w3.org/2000/svg\" height=\"24px\"viewBox=\"0 0 24 24\"\n",
              "       width=\"24px\">\n",
              "    <path d=\"M0 0h24v24H0V0z\" fill=\"none\"/>\n",
              "    <path d=\"M18.56 5.44l.94 2.06.94-2.06 2.06-.94-2.06-.94-.94-2.06-.94 2.06-2.06.94zm-11 1L8.5 8.5l.94-2.06 2.06-.94-2.06-.94L8.5 2.5l-.94 2.06-2.06.94zm10 10l.94 2.06.94-2.06 2.06-.94-2.06-.94-.94-2.06-.94 2.06-2.06.94z\"/><path d=\"M17.41 7.96l-1.37-1.37c-.4-.4-.92-.59-1.43-.59-.52 0-1.04.2-1.43.59L10.3 9.45l-7.72 7.72c-.78.78-.78 2.05 0 2.83L4 21.41c.39.39.9.59 1.41.59.51 0 1.02-.2 1.41-.59l7.78-7.78 2.81-2.81c.8-.78.8-2.07 0-2.86zM5.41 20L4 18.59l7.72-7.72 1.47 1.35L5.41 20z\"/>\n",
              "  </svg>\n",
              "      </button>\n",
              "      \n",
              "  <style>\n",
              "    .colab-df-container {\n",
              "      display:flex;\n",
              "      flex-wrap:wrap;\n",
              "      gap: 12px;\n",
              "    }\n",
              "\n",
              "    .colab-df-convert {\n",
              "      background-color: #E8F0FE;\n",
              "      border: none;\n",
              "      border-radius: 50%;\n",
              "      cursor: pointer;\n",
              "      display: none;\n",
              "      fill: #1967D2;\n",
              "      height: 32px;\n",
              "      padding: 0 0 0 0;\n",
              "      width: 32px;\n",
              "    }\n",
              "\n",
              "    .colab-df-convert:hover {\n",
              "      background-color: #E2EBFA;\n",
              "      box-shadow: 0px 1px 2px rgba(60, 64, 67, 0.3), 0px 1px 3px 1px rgba(60, 64, 67, 0.15);\n",
              "      fill: #174EA6;\n",
              "    }\n",
              "\n",
              "    [theme=dark] .colab-df-convert {\n",
              "      background-color: #3B4455;\n",
              "      fill: #D2E3FC;\n",
              "    }\n",
              "\n",
              "    [theme=dark] .colab-df-convert:hover {\n",
              "      background-color: #434B5C;\n",
              "      box-shadow: 0px 1px 3px 1px rgba(0, 0, 0, 0.15);\n",
              "      filter: drop-shadow(0px 1px 2px rgba(0, 0, 0, 0.3));\n",
              "      fill: #FFFFFF;\n",
              "    }\n",
              "  </style>\n",
              "\n",
              "      <script>\n",
              "        const buttonEl =\n",
              "          document.querySelector('#df-b0b799ed-ca07-47e3-953c-82fb72f3bbbf button.colab-df-convert');\n",
              "        buttonEl.style.display =\n",
              "          google.colab.kernel.accessAllowed ? 'block' : 'none';\n",
              "\n",
              "        async function convertToInteractive(key) {\n",
              "          const element = document.querySelector('#df-b0b799ed-ca07-47e3-953c-82fb72f3bbbf');\n",
              "          const dataTable =\n",
              "            await google.colab.kernel.invokeFunction('convertToInteractive',\n",
              "                                                     [key], {});\n",
              "          if (!dataTable) return;\n",
              "\n",
              "          const docLinkHtml = 'Like what you see? Visit the ' +\n",
              "            '<a target=\"_blank\" href=https://colab.research.google.com/notebooks/data_table.ipynb>data table notebook</a>'\n",
              "            + ' to learn more about interactive tables.';\n",
              "          element.innerHTML = '';\n",
              "          dataTable['output_type'] = 'display_data';\n",
              "          await google.colab.output.renderOutput(dataTable, element);\n",
              "          const docLink = document.createElement('div');\n",
              "          docLink.innerHTML = docLinkHtml;\n",
              "          element.appendChild(docLink);\n",
              "        }\n",
              "      </script>\n",
              "    </div>\n",
              "  </div>\n",
              "  "
            ]
          },
          "metadata": {},
          "execution_count": 24
        }
      ],
      "source": [
        "test_set.head(10)"
      ]
    },
    {
      "cell_type": "markdown",
      "metadata": {
        "id": "6VsU_XpAi8CF"
      },
      "source": [
        "## Word embedding"
      ]
    },
    {
      "cell_type": "markdown",
      "source": [
        "Definition of a tokenizer."
      ],
      "metadata": {
        "id": "d3NWFTMjmg78"
      }
    },
    {
      "cell_type": "code",
      "source": [
        "from tensorflow.keras.preprocessing.text import Tokenizer\n",
        "# define the tokenizer\n",
        "tokenizer = Tokenizer()\n",
        "text = dfc_train.word.values\n",
        "#fit the tokenizer on the training data\n",
        "tokenizer.fit_on_texts(text)\n",
        "#dictionary containing words as keys and index as values\n",
        "word_to_index = tokenizer.word_index \n",
        "\n",
        "# number of unique words in dict.\n",
        "print(\"Number of unique words in dictionary=\", \n",
        "      len(tokenizer.word_index))\n",
        "print(\"Dictionary is = \", tokenizer.word_index)"
      ],
      "metadata": {
        "colab": {
          "base_uri": "https://localhost:8080/"
        },
        "id": "6pHoC5Xe3ETA",
        "outputId": "4ebce24b-9786-45b4-87c2-d8f5eb7d91a0"
      },
      "execution_count": 25,
      "outputs": [
        {
          "output_type": "stream",
          "name": "stdout",
          "text": [
            "Number of unique words in dictionary= 7304\n",
            "Dictionary is =  {'the': 1, 'of': 2, 'a': 3, 'to': 4, 'in': 5, 'and': 6, 'for': 7, 's': 8, 'that': 9, 'is': 10, 'said': 11, 'it': 12, 'on': 13, 'mr': 14, 'at': 15, 'with': 16, 'by': 17, 'as': 18, 'was': 19, 'has': 20, 'are': 21, 'nt': 22, 'have': 23, 'its': 24, 'he': 25, 'us': 26, 'new': 27, 'but': 28, 'an': 29, 'from': 30, 'be': 31, 'they': 32, 'says': 33, 'will': 34, 'about': 35, 'million': 36, 'or': 37, 'this': 38, 'company': 39, 'their': 40, 'more': 41, 'who': 42, 'were': 43, 'year': 44, 'which': 45, 'japanese': 46, 'than': 47, 'had': 48, 'would': 49, 'she': 50, 'one': 51, 'also': 52, 'been': 53, 'not': 54, 'president': 55, 'years': 56, 'billion': 57, 'market': 58, 'up': 59, 'some': 60, 'japan': 61, 'corp': 62, 'first': 63, 'other': 64, 'his': 65, 'i': 66, 'because': 67, 'two': 68, 'we': 69, 'there': 70, 'all': 71, 'can': 72, 'trading': 73, 'mrs': 74, 'last': 75, 'stock': 76, 'no': 77, 'if': 78, 'many': 79, 'so': 80, 'york': 81, 'inc': 82, 'say': 83, 'any': 84, 'such': 85, 'when': 86, 'could': 87, 'these': 88, 'her': 89, 'co': 90, 'into': 91, 'funds': 92, 'time': 93, 'after': 94, 'do': 95, 'even': 96, 'out': 97, 'rrb': 98, 'only': 99, 'companies': 100, 'bank': 101, 'most': 102, 'over': 103, 'lrb': 104, 'research': 105, 'next': 106, 'business': 107, 'test': 108, 'group': 109, 'now': 110, 'share': 111, 'federal': 112, 'what': 113, 'did': 114, 'prices': 115, 'trade': 116, 'high': 117, 'may': 118, 'government': 119, 'price': 120, 'yeargin': 121, 'them': 122, 'department': 123, 'under': 124, 'made': 125, 'you': 126, 'securities': 127, 'shares': 128, 'since': 129, 'while': 130, 'cray': 131, 'investment': 132, 'school': 133, 'vice': 134, 'those': 135, 'rates': 136, 'week': 137, 'state': 138, 'much': 139, 'banks': 140, 'make': 141, 'recent': 142, 'investors': 143, 'sales': 144, 'executive': 145, 'another': 146, 'country': 147, 'american': 148, 'students': 149, 'down': 150, 'like': 151, 'south': 152, 'ad': 153, 'program': 154, 'chairman': 155, 'three': 156, 'common': 157, 'exchange': 158, 'number': 159, 'does': 160, 'money': 161, 'both': 162, 'growth': 163, 'before': 164, 'financial': 165, 'people': 166, 'issue': 167, 'off': 168, 'officials': 169, 'small': 170, 'interest': 171, 'average': 172, 'well': 173, 'economic': 174, 'plan': 175, 'chief': 176, 'yesterday': 177, 'september': 178, '10': 179, 'board': 180, 'rate': 181, 'earlier': 182, 'international': 183, 'offer': 184, 'pay': 185, 'help': 186, 'yen': 187, 'stocks': 188, 'according': 189, 'still': 190, 'take': 191, 'just': 192, 'month': 193, 'computer': 194, 'ringers': 195, 'suspension': 196, 'report': 197, 'october': 198, 'construction': 199, 'china': 200, 'england': 201, 'university': 202, 'contract': 203, 'where': 204, 'same': 205, 'magazine': 206, 'world': 207, 'bid': 208, 'less': 209, 'foreign': 210, 'part': 211, 'get': 212, 'index': 213, 'products': 214, 'early': 215, 'far': 216, 'higher': 217, 'force': 218, 'cash': 219, 'during': 220, 'debt': 221, 'until': 222, 'months': 223, 'fine': 224, 'without': 225, 'big': 226, 'john': 227, 'edison': 228, 'judge': 229, '50': 230, 'each': 231, 'through': 232, 'firm': 233, 'several': 234, 'concern': 235, '15000': 236, 'georgia': 237, 'wine': 238, 'hahn': 239, 'ago': 240, 'sold': 241, 'countries': 242, 'managers': 243, 'work': 244, 'tuesday': 245, 'dividends': 246, 'days': 247, 'based': 248, '1990': 249, 'added': 250, 'own': 251, 'dividend': 252, 'markets': 253, 'tokyo': 254, 'futures': 255, 'bells': 256, 'director': 257, 'unit': 258, 'treasury': 259, '15': 260, 'city': 261, 'good': 262, 'economy': 263, 'spending': 264, 'orders': 265, 'issues': 266, 'very': 267, 'five': 268, 'took': 269, 'yield': 270, 'rose': 271, 'industry': 272, 'house': 273, 'association': 274, 'capital': 275, 'end': 276, 'return': 277, 'way': 278, 'against': 279, 'court': 280, 'cents': 281, 'customers': 282, 'spokesman': 283, 'law': 284, 'firms': 285, 'major': 286, 'bush': 287, 'often': 288, 'buy': 289, 'gulf': 290, 'limit': 291, 'fined': 292, 'among': 293, 're': 294, 'including': 295, 'should': 296, 'currently': 297, 'management': 298, 'then': 299, 'general': 300, 'korea': 301, 'between': 302, 'public': 303, 'officer': 304, '12': 305, '100': 306, 'materials': 307, 'questions': 308, 'nixon': 309, 'used': 310, '30': 311, 'reported': 312, 'current': 313, 'ltd': 314, 'savings': 315, 'washington': 316, 'however': 317, 'largest': 318, '1': 319, 'case': 320, 'want': 321, 'analysts': 322, 'being': 323, 'growing': 324, '1987': 325, 'tests': 326, 'your': 327, 'services': 328, 'sea': 329, 'containers': 330, 'wage': 331, 'old': 332, 'workers': 333, 'today': 334, 'national': 335, 'expected': 336, 'recently': 337, 'fund': 338, 'point': 339, 'example': 340, 'fell': 341, 'raise': 342, 'manufacturing': 343, 'corporate': 344, 'increase': 345, 'began': 346, 'plans': 347, 'news': 348, 'too': 349, '2': 350, 'below': 351, 'demand': 352, 'political': 353, 'around': 354, 'commission': 355, 'm': 356, 'set': 357, 'comment': 358, 'rights': 359, 'office': 360, 'members': 361, 'see': 362, 'talks': 363, 'never': 364, 'life': 365, 'region': 366, '10000': 367, 'church': 368, 'although': 369, 'information': 370, 'whether': 371, 'four': 372, 'total': 373, 'factory': 374, 'nations': 375, 'reached': 376, 'manager': 377, 'maker': 378, 'william': 379, 'official': 380, '500': 381, 'give': 382, 'long': 383, 'use': 384, 'banking': 385, 'robert': 386, 'commonwealth': 387, '1985': 388, 'trucks': 389, 'strong': 390, 'little': 391, 'principal': 392, 'finance': 393, 'here': 394, 'michael': 395, 'sell': 396, 'asia': 397, 'union': 398, 'think': 399, 'deal': 400, 'campaign': 401, 'net': 402, 'notes': 403, 'teacher': 404, 'ward': 405, 'irs': 406, 'wines': 407, 'form': 408, 'our': 409, 'plant': 410, 'few': 411, 'almost': 412, 'august': 413, 'sp': 414, 'act': 415, 'senior': 416, 'offered': 417, 'become': 418, 'purchase': 419, '1988': 420, 'past': 421, 'called': 422, 'face': 423, 'fujitsu': 424, 'hills': 425, 'cases': 426, 'following': 427, 'london': 428, 'late': 429, 'committee': 430, 'always': 431, 'young': 432, 'abortion': 433, 'carolina': 434, 'scoring': 435, 'named': 436, 'problem': 437, 'james': 438, 'dr': 439, 'different': 440, 'though': 441, 'investments': 442, 'period': 443, 'despite': 444, 'dollar': 445, 'congress': 446, 'marketing': 447, 'meeting': 448, 'decided': 449, 'fed': 450, 'trying': 451, 'advertisers': 452, 'full': 453, '1989': 454, 'six': 455, 'come': 456, 'noted': 457, 'owns': 458, 'might': 459, 'possible': 460, 'r': 461, 'commerce': 462, 'local': 463, 'richard': 464, 'close': 465, 'weeks': 466, 'action': 467, 'right': 468, 'production': 469, 'dollars': 470, 'designed': 471, '13': 472, 'johnson': 473, 'declined': 474, 'great': 475, 'health': 476, 'women': 477, 'job': 478, 'lawyers': 479, 'greenville': 480, 'light': 481, 'nl': 482, 'bell': 483, 'former': 484, 'industrial': 485, 'asbestos': 486, 'times': 487, '18': 488, 'found': 489, 'continue': 490, 'sale': 491, 'annual': 492, 'held': 493, 'free': 494, 'ministry': 495, 'credit': 496, 'decline': 497, 'paying': 498, 'ordered': 499, 'already': 500, 'additional': 501, 'every': 502, 'least': 503, 'loss': 504, 'paid': 505, 'result': 506, 'lcb': 507, 'rcb': 508, 'data': 509, 'became': 510, 'level': 511, 'cut': 512, 'nearly': 513, 'put': 514, 'above': 515, 'how': 516, 'account': 517, 'oct': 518, 'contracts': 519, 'going': 520, 'lane': 521, 'charge': 522, 'mitsubishi': 523, 'commercial': 524, 'tv': 525, 'dinkins': 526, 'coleman': 527, 'wanted': 528, 'chicago': 529, 'california': 530, 'effect': 531, 'my': 532, 'scores': 533, 'education': 534, 'learning': 535, 'points': 536, 'administration': 537, 'bottle': 538, 'consented': 539, 'fields': 540, 'once': 541, 'show': 542, 'using': 543, 'having': 544, 'institute': 545, 'making': 546, 'western': 547, 'support': 548, 'kind': 549, 'further': 550, 'watch': 551, 'go': 552, 'd': 553, 'shareholders': 554, 'holding': 555, 'bonds': 556, 'legislation': 557, 'service': 558, 'previously': 559, '20': 560, 'back': 561, 'away': 562, 'future': 563, 'newsweek': 564, 'advertising': 565, 'increasing': 566, 'system': 567, 'move': 568, 'matter': 569, 'order': 570, '3': 571, 'disclosed': 572, 'believe': 573, 'age': 574, 'terms': 575, 'half': 576, '40': 577, 'came': 578, 'david': 579, 'wants': 580, 'ii': 581, 'product': 582, 'home': 583, 'telephone': 584, 'organization': 585, 'clients': 586, '90': 587, '14': 588, 'agreed': 589, 'rise': 590, 'survey': 591, 'indicated': 592, 'asked': 593, 'relations': 594, 'line': 595, 'bond': 596, 'student': 597, 'artist': 598, 'across': 599, 'courter': 600, 'asian': 601, 'policy': 602, 'teachers': 603, 'testing': 604, 'safety': 605, 'told': 606, 'need': 607, 'stockindex': 608, 'later': 609, 'schools': 610, 'study': 611, 'class': 612, 't': 613, 'acquisition': 614, 'expects': 615, 'transaction': 616, 'completed': 617, 'nation': 618, 'decision': 619, 'special': 620, 'cars': 621, 'figures': 622, 'wednesday': 623, 'imports': 624, 'remain': 625, 'keep': 626, 'costs': 627, 'drop': 628, 'proposed': 629, '11': 630, 'got': 631, 'hard': 632, 'increases': 633, 'review': 634, 'closed': 635, 'consumer': 636, 'refund': 637, 'april': 638, 'record': 639, 'dealers': 640, '21': 641, 'march': 642, 'compared': 643, 'development': 644, 'cray3': 645, 'him': 646, '1991': 647, 'profit': 648, 'software': 649, 'agreement': 650, 'standards': 651, 'slow': 652, 'street': 653, 'acquired': 654, 'stake': 655, 'changes': 656, 'role': 657, 'traded': 658, 'goods': 659, 'failed': 660, 'purchasing': 661, 'defense': 662, 'private': 663, 'leading': 664, 'change': 665, 'lot': 666, 'mark': 667, 'man': 668, 'something': 669, 'ms': 670, 'chinese': 671, 'real': 672, 'martin': 673, 'woman': 674, 'look': 675, 'insurance': 676, 'mary': 677, 'southeast': 678, 'cheating': 679, 'answers': 680, 'district': 681, 'unfair': 682, 'funding': 683, 'volume': 684, 'rally': 685, 'quarter': 686, 'criminal': 687, 'calif': 688, 'guild': 689, 'minimum': 690, 'georgiapacific': 691, 'cosby': 692, 'ratings': 693, 'st': 694, 'temple': 695, 'barred': 696, 'la': 697, 'simmons': 698, 'nov': 699, 'publishing': 700, 'percentage': 701, 'researchers': 702, 'makes': 703, 'latest': 704, 'likely': 705, 'led': 706, 'team': 707, 'standard': 708, 'particularly': 709, 'large': 710, 'question': 711, 'place': 712, 'considered': 713, 'institutions': 714, 'assets': 715, 'seats': 716, 'regulatory': 717, 'operations': 718, 'systems': 719, 'ceiling': 720, 'j': 721, 'manufacturers': 722, 'fall': 723, '4': 724, 'announced': 725, 'second': 726, 'competition': 727, 'cost': 728, 'circulation': 729, 'lower': 730, 'hampshire': 731, 'saying': 732, 'potential': 733, 'outside': 734, 'value': 735, 'concerns': 736, 'jr': 737, 'curry': 738, 'earnings': 739, 'rule': 740, 'poor': 741, 'previous': 742, 'texas': 743, 'opened': 744, 'spinoff': 745, 'working': 746, 'beginning': 747, 'technology': 748, 'equipment': 749, 'addition': 750, 'improve': 751, 'themselves': 752, 'enough': 753, 'secretary': 754, '8': 755, 'history': 756, 'television': 757, 'jobs': 758, 'barrels': 759, 'white': 760, 'magna': 761, 'c': 762, 'offering': 763, 'issued': 764, 'june': 765, '6': 766, 'better': 767, 'quickly': 768, 'clear': 769, 'sector': 770, 'building': 771, 'lead': 772, 'slowing': 773, 'low': 774, 'evidence': 775, 'thing': 776, 'important': 777, 'sony': 778, 'proposal': 779, 'bill': 780, 'given': 781, 'needed': 782, 'taken': 783, 'industries': 784, 'ads': 785, 'income': 786, 'voice': 787, 'know': 788, 'wilder': 789, 'stations': 790, 'rep': 791, 'involved': 792, 'standardized': 793, '5000': 794, 'third': 795, 'others': 796, 'fetaltissue': 797, 'takeover': 798, '34': 799, 'media': 800, 'attorneys': 801, 'nj': 802, 'bids': 803, 'leaders': 804, 'profits': 805, 'nekoosa': 806, 'mitsui': 807, 'training': 808, 'phelan': 809, '55': 810, 'kent': 811, 'filters': 812, 'cancer': 813, 'findings': 814, 'neither': 815, 'nor': 816, 'risk': 817, 'medical': 818, 'paper': 819, 'men': 820, 'closely': 821, 'probably': 822, 'college': 823, 'day': 824, 'longer': 825, 'sign': 826, 'monday': 827, '9': 828, '30day': 829, 'energy': 830, 'approved': 831, 'suspended': 832, '31': 833, 'course': 834, 'valley': 835, 'executives': 836, 'nine': 837, 'looking': 838, 'showed': 839, 'increased': 840, '1986': 841, '19': 842, '75': 843, 'yet': 844, 'meet': 845, 'pages': 846, 'watches': 847, 'electric': 848, 'united': 849, 'northeast': 850, 'ps': 851, 'raising': 852, 'fact': 853, 'field': 854, 'turned': 855, 'composite': 856, 'circuit': 857, 'groups': 858, 'received': 859, 'amount': 860, 'dec': 861, 'ruling': 862, 'estimated': 863, 'performance': 864, 'include': 865, 'investor': 866, '16': 867, 'direct': 868, 'nec': 869, 'why': 870, 'list': 871, 'spring': 872, 'movie': 873, 'problems': 874, 'continuing': 875, 'minister': 876, 'wall': 877, 'computers': 878, 'developed': 879, 'together': 880, 'raised': 881, 'thomas': 882, 'certain': 883, 'produced': 884, '58': 885, 'effort': 886, 'english': 887, 'went': 888, 'france': 889, 'jointly': 890, 'outstanding': 891, 'anything': 892, 'find': 893, '7': 894, 'instance': 895, 'americans': 896, 'legal': 897, 'meanwhile': 898, 'recession': 899, 'provide': 900, 'accounts': 901, 'included': 902, 'strike': 903, 'hours': 904, 'consumers': 905, 'charges': 906, 'planned': 907, 'ca': 908, 'film': 909, 'night': 910, 'achievement': 911, 'negative': 912, 'introduced': 913, 'known': 914, 'coming': 915, 'friends': 916, 'remains': 917, 'forms': 918, 'partly': 919, 'won': 920, 'alleged': 921, '1984': 922, 'pressure': 923, 'wrongdoing': 924, 'states': 925, 'classroom': 926, 'programs': 927, 've': 928, 'gained': 929, 'connecticut': 930, 'traders': 931, 'customer': 932, 'individuals': 933, 'trudeau': 934, 'america': 935, 'member': 936, 'violations': 937, 'g': 938, 'thursday': 939, 'viacom': 940, 'garbage': 941, 'jones': 942, 'glass': 943, 'packages': 944, 'fla': 945, 'trades': 946, 'ringing': 947, 'vicar': 948, 'nasd': 949, 'caused': 950, 'cigarettes': 951, 'journal': 952, 'bring': 953, 'attention': 954, 'mass': 955, 'highest': 956, 'agency': 957, 'ban': 958, 'areas': 959, '35': 960, 'continued': 961, 'continues': 962, 'rising': 963, 'again': 964, 'shortterm': 965, 'seven': 966, 'pacific': 967, 'complete': 968, 'dropped': 969, 'chrysler': 970, 'division': 971, 'idea': 972, 'makers': 973, 'gave': 974, 'treatment': 975, 'registered': 976, 'monthly': 977, 'exports': 978, 'january': 979, 'b': 980, 'base': 981, 'doing': 982, 'gains': 983, 'worth': 984, 'conn': 985, 'equity': 986, 'related': 987, 'operating': 988, 'summer': 989, '25': 990, 'electronics': 991, '250': 992, 'begin': 993, 'whose': 994, 'ill': 995, 'domestic': 996, 'instruments': 997, 'control': 998, '60': 999, 'filed': 1000, 'financing': 1001, 'fully': 1002, 'believes': 1003, 'nasdaq': 1004, 'able': 1005, 'rather': 1006, 'taiwan': 1007, 'best': 1008, 'measure': 1009, 'lawyer': 1010, 'malaysia': 1011, 'elaborate': 1012, 'bad': 1013, 'assistant': 1014, 'significant': 1015, 'personal': 1016, 'launched': 1017, '1977': 1018, 'sets': 1019, 'pcs': 1020, 'types': 1021, 'capacity': 1022, 'scheduled': 1023, 'venture': 1024, 'turn': 1025, 'shareholder': 1026, 'seek': 1027, 'conference': 1028, 'similar': 1029, 'goldman': 1030, 'sachs': 1031, 'key': 1032, 'giant': 1033, 'november': 1034, 'currency': 1035, 'publicly': 1036, 'single': 1037, 'head': 1038, 'associates': 1039, 'soon': 1040, 'individual': 1041, 'easy': 1042, 'mature': 1043, 'european': 1044, 'democratic': 1045, 'society': 1046, 'front': 1047, 'helped': 1048, 'boost': 1049, 'mcgrawhill': 1050, 'export': 1051, 'reporting': 1052, 'improvement': 1053, 'chase': 1054, 'sides': 1055, 'talk': 1056, 'offers': 1057, 'seems': 1058, 'practice': 1059, 'rules': 1060, 'employees': 1061, 'partners': 1062, 'except': 1063, 'feel': 1064, 'build': 1065, 'estate': 1066, 'tramp': 1067, 'really': 1068, 'prepared': 1069, 'black': 1070, 'seem': 1071, 'expensive': 1072, 'sound': 1073, 'resistance': 1074, 'client': 1075, 'discussions': 1076, 'goes': 1077, 'ahead': 1078, 'marshall': 1079, 'de': 1080, 'taking': 1081, 'wrong': 1082, 'blacks': 1083, 'things': 1084, 'hearing': 1085, 'radio': 1086, 'britain': 1087, 'cat': 1088, 'loan': 1089, 'transplants': 1090, 'wo': 1091, 'cause': 1092, 'interstate': 1093, 'massachusetts': 1094, 'transactions': 1095, 'justice': 1096, 'statement': 1097, 'access': 1098, 'adds': 1099, 'campbell': 1100, 'belts': 1101, 'dow': 1102, 'cabernet': 1103, 'experience': 1104, 'candela': 1105, 'package': 1106, 'foster': 1107, 'merc': 1108, 'tower': 1109, 'admitting': 1110, 'denying': 1111, 'disgorge': 1112, 'compromise': 1113, 'nonexecutive': 1114, 'gold': 1115, 'british': 1116, 'deaths': 1117, 'crocidolite': 1118, 'lorillard': 1119, 'medicine': 1120, 'story': 1121, '33': 1122, 'worked': 1123, 'professor': 1124, 'july': 1125, 'huge': 1126, 'area': 1127, 'human': 1128, 'yields': 1129, 'signs': 1130, 'compound': 1131, '400': 1132, 'ended': 1133, 'thought': 1134, 'open': 1135, 'sixmonth': 1136, 'bills': 1137, 'top': 1138, 'fees': 1139, 'resigned': 1140, 'controls': 1141, 'revenue': 1142, 'senate': 1143, 'default': 1144, 'followed': 1145, 'police': 1146, 'announcer': 1147, 'meetings': 1148, 'deficit': 1149, 'sharply': 1150, 'pace': 1151, 'introduce': 1152, '5': 1153, 'page': 1154, 'heavy': 1155, 'none': 1156, 'internal': 1157, 'bankruptcy': 1158, 'acquire': 1159, 'rowe': 1160, 'true': 1161, 'ross': 1162, 'seeking': 1163, 'succeed': 1164, 'power': 1165, 'required': 1166, '45': 1167, 'underlying': 1168, 'exact': 1169, 'changed': 1170, 'involving': 1171, 'devices': 1172, 'machine': 1173, 'balance': 1174, 'documents': 1175, 'project': 1176, 'perhaps': 1177, 'details': 1178, 'note': 1179, 'p': 1180, 'either': 1181, 'require': 1182, 'handling': 1183, 'fewer': 1184, 'range': 1185, 'instead': 1186, 'book': 1187, 'posted': 1188, 'colo': 1189, 'includes': 1190, 'douglas': 1191, 'hardware': 1192, 'patents': 1193, 'intellectualproperty': 1194, 'thailand': 1195, 'representative': 1196, 'sanctions': 1197, 'property': 1198, 'progress': 1199, 'prosecutors': 1200, 'producers': 1201, '17': 1202, 'canada': 1203, 'patent': 1204, 'efforts': 1205, 'reports': 1206, 'met': 1207, 'stand': 1208, 'apple': 1209, 'built': 1210, 'stephen': 1211, 'unlike': 1212, '23': 1213, 'gives': 1214, '70': 1215, 'oil': 1216, 'australia': 1217, 'joint': 1218, 'southern': 1219, 'businesses': 1220, 'dutyfree': 1221, 'covered': 1222, 'grant': 1223, 'main': 1224, 'stronach': 1225, 'parliament': 1226, 'chemical': 1227, 'bought': 1228, 'buying': 1229, 'extend': 1230, 'debts': 1231, 'hefty': 1232, 'marks': 1233, 'consecutive': 1234, 'surged': 1235, 'announcement': 1236, 'regulators': 1237, 'charles': 1238, 'e': 1239, 'visit': 1240, 'partner': 1241, 'popular': 1242, 'analyst': 1243, 'premium': 1244, 'global': 1245, 'europe': 1246, 'levels': 1247, 'affairs': 1248, 'unless': 1249, 'war': 1250, 'generally': 1251, 'ran': 1252, 'activity': 1253, 'adjusted': 1254, 'inventories': 1255, 'strength': 1256, 'consider': 1257, 'difference': 1258, 'items': 1259, 'sheep': 1260, 'especially': 1261, 'worry': 1262, 'call': 1263, 'game': 1264, 'must': 1265, 'run': 1266, 'katzenstein': 1267, 'whom': 1268, 'crime': 1269, 'deputy': 1270, 'stores': 1271, 'central': 1272, 'conditions': 1273, 'membership': 1274, '1979': 1275, 'win': 1276, 'beijing': 1277, 'daily': 1278, 'newspaper': 1279, 'loans': 1280, 'dam': 1281, 'highly': 1282, 'view': 1283, 'selling': 1284, 'larger': 1285, 'getting': 1286, 'giuliani': 1287, 'shows': 1288, 'candidates': 1289, 'opposed': 1290, 'situation': 1291, 'series': 1292, 'suggested': 1293, 'victims': 1294, 'tried': 1295, 'positive': 1296, 'florio': 1297, 'female': 1298, 'asks': 1299, 'environment': 1300, 'rockefeller': 1301, 'quoted': 1302, 'budget': 1303, 'comes': 1304, 'approach': 1305, 'east': 1306, 'gain': 1307, 'security': 1308, 'pennsylvania': 1309, 'parents': 1310, 'geography': 1311, 'actions': 1312, 'bonus': 1313, 'educators': 1314, 'booklets': 1315, 'critics': 1316, 'kids': 1317, 'overall': 1318, 'indeed': 1319, 'interested': 1320, 'prevent': 1321, 'pretty': 1322, 'avoid': 1323, 'trial': 1324, 'macmillanmcgraw': 1325, 'aimed': 1326, 'louis': 1327, 'sullivan': 1328, 'approve': 1329, '78': 1330, 'miami': 1331, 'letters': 1332, 'moderate': 1333, 'judicial': 1334, 'judges': 1335, 'san': 1336, 'francisco': 1337, 'care': 1338, 'gaf': 1339, 'auctions': 1340, 'retail': 1341, 'air': 1342, 'll': 1343, 'ny': 1344, 'packaging': 1345, 'minivans': 1346, 'stanley': 1347, 'retina': 1348, 'corporations': 1349, 'institution': 1350, 'floor': 1351, 'markey': 1352, 'nbi': 1353, 'guards': 1354, 'hour': 1355, 'join': 1356, 'cigarette': 1357, 'brief': 1358, 'yorkbased': 1359, 'stopped': 1360, 'preliminary': 1361, 'results': 1362, 'talking': 1363, 'studied': 1364, 'talcott': 1365, 'boston': 1366, 'diseases': 1367, 'finding': 1368, 'appears': 1369, 'argue': 1370, 'fibers': 1371, 'protection': 1372, 'uses': 1373, 'imported': 1374, 'process': 1375, 'described': 1376, 'mutual': 1377, 'slide': 1378, 'portfolio': 1379, 'expect': 1380, 'declines': 1381, 'declining': 1382, 'relatively': 1383, 'stronger': 1384, 'editor': 1385, 'yielding': 1386, 'worldwide': 1387, 'overseas': 1388, 'simple': 1389, 'grace': 1390, 'elected': 1391, 'approval': 1392, 'interests': 1393, 'mechanical': 1394, 'engineering': 1395, 'lift': 1396, 'taxes': 1397, 'auto': 1398, 'motor': 1399, 'indianapolis': 1400, 'owners': 1401, '125': 1402, 'along': 1403, 'evening': 1404, 'champagne': 1405, 'red': 1406, 'honor': 1407, 'space': 1408, 'name': 1409, 'hotel': 1410, 'block': 1411, 'standing': 1412, 'released': 1413, 'fifth': 1414, 'labor': 1415, 'sluggish': 1416, 'rival': 1417, 'incentive': 1418, 'spent': 1419, 'totaled': 1420, 'bidding': 1421, 'risks': 1422, 'reorganization': 1423, 'proceedings': 1424, '22': 1425, 'suffer': 1426, 'improved': 1427, 'substantial': 1428, 'factors': 1429, 'adviser': 1430, 'troubled': 1431, 'request': 1432, 'hopes': 1433, 'illegal': 1434, 'nuclear': 1435, 'ever': 1436, 'appeals': 1437, 'round': 1438, 'administrative': 1439, 'near': 1440, 'supreme': 1441, 'expenses': 1442, 'subject': 1443, 'hope': 1444, 'introduction': 1445, 'miles': 1446, 'produce': 1447, 'vehicles': 1448, 'supercomputer': 1449, 'seymour': 1450, 'pending': 1451, 'providing': 1452, 'heads': 1453, '120': 1454, 'presence': 1455, 'minneapolis': 1456, 'chip': 1457, 'sec': 1458, 'leave': 1459, 'clearly': 1460, 'eastern': 1461, 'socalled': 1462, 'priority': 1463, 'varying': 1464, 'enforcement': 1465, 'spain': 1466, 'combined': 1467, 'prompted': 1468, 'requires': 1469, 'ask': 1470, 'rapanelli': 1471, 'advance': 1472, 'club': 1473, 'paul': 1474, 'atlanta': 1475, 'allow': 1476, 'shipments': 1477, 'annually': 1478, 'convertible': 1479, 'preferred': 1480, 'launch': 1481, 'whiting': 1482, 'brought': 1483, 'started': 1484, 'reserves': 1485, 'start': 1486, 'shearson': 1487, 'philippines': 1488, 'aide': 1489, 'mcalpine': 1490, 'expansion': 1491, 'quarterly': 1492, 'canadian': 1493, 'founder': 1494, 'mortgage': 1495, 'purchases': 1496, 'institutional': 1497, 'rest': 1498, 'hong': 1499, 'kong': 1500, 'boosted': 1501, 'l': 1502, 'expanding': 1503, 'giving': 1504, 'tender': 1505, 'expire': 1506, 'sixth': 1507, 'portfolios': 1508, 'george': 1509, 'foot': 1510, 'porter': 1511, 'smith': 1512, 'behind': 1513, 'swing': 1514, 'broader': 1515, 'wild': 1516, 'reason': 1517, 'longterm': 1518, '1992': 1519, 'integration': 1520, 'jumped': 1521, 'increasingly': 1522, 'suggests': 1523, 'adrs': 1524, 'party': 1525, 'soviet': 1526, 'separate': 1527, 'inflation': 1528, 'reserve': 1529, 'slowdown': 1530, 'bankers': 1531, 'eventually': 1532, 'dodge': 1533, 'pressures': 1534, 'delivery': 1535, 'provided': 1536, 'trend': 1537, 'short': 1538, 'supply': 1539, 'milk': 1540, 'article': 1541, 'novel': 1542, 'reruns': 1543, 'read': 1544, 'writers': 1545, 'figure': 1546, 'copies': 1547, 'books': 1548, 'written': 1549, 'language': 1550, 'usually': 1551, 'carry': 1552, 'spirit': 1553, 'male': 1554, 'ties': 1555, 'lives': 1556, 'parties': 1557, 'sometimes': 1558, 'fired': 1559, 'social': 1560, 'becoming': 1561, 'prime': 1562, 'urged': 1563, 'center': 1564, '20000': 1565, 'necessary': 1566, 'asking': 1567, 'disease': 1568, 'hungary': 1569, 'czechoslovakia': 1570, 'warrants': 1571, '1000': 1572, 'chaplin': 1573, 'writer': 1574, 'streets': 1575, 'sidewalk': 1576, 'stories': 1577, 'playing': 1578, 'purpose': 1579, 'returns': 1580, 'child': 1581, 'children': 1582, 'final': 1583, 'french': 1584, 'picture': 1585, 'attack': 1586, 'politics': 1587, 'needs': 1588, 'jersey': 1589, 'virginia': 1590, 'screen': 1591, 'straight': 1592, 'politicians': 1593, 'insists': 1594, 'refused': 1595, 'incomplete': 1596, 'side': 1597, 'knows': 1598, 'rape': 1599, 'attorney': 1600, 'bob': 1601, '1983': 1602, 'mean': 1603, 'pictures': 1604, 'waste': 1605, 'grows': 1606, 'appeared': 1607, 'influence': 1608, 'military': 1609, 'decade': 1610, 'regional': 1611, 'ease': 1612, 'basic': 1613, 'skills': 1614, 'seen': 1615, 'passed': 1616, 'matched': 1617, 'section': 1618, 'me': 1619, 'colleagues': 1620, 'reform': 1621, 'ability': 1622, 'practices': 1623, 'keeping': 1624, 'preparation': 1625, 'trouble': 1626, 'teaching': 1627, 'source': 1628, 'admits': 1629, 'watson': 1630, 'host': 1631, 'favor': 1632, 'add': 1633, 'kaminski': 1634, 'mich': 1635, 'bar': 1636, 'knowledge': 1637, '44': 1638, 'oppose': 1639, 'mason': 1640, 'scientific': 1641, 'majority': 1642, 'panel': 1643, 'nih': 1644, 'debate': 1645, 'trust': 1646, 'merger': 1647, 'heritage': 1648, 'pop': 1649, 'operator': 1650, 'trotter': 1651, '425': 1652, 'fiscal': 1653, 'sonnett': 1654, 'sent': 1655, 'troubles': 1656, 'suit': 1657, 'disciplinary': 1658, 'activities': 1659, 'opening': 1660, 'manhattan': 1661, 'specialty': 1662, 'sure': 1663, 'yamamoto': 1664, 'headquarters': 1665, 'communications': 1666, 'lake': 1667, 'columbia': 1668, 'valued': 1669, 'network': 1670, 'willing': 1671, 'poore': 1672, 'editors': 1673, 'soup': 1674, 'spend': 1675, 'programming': 1676, 'philadelphia': 1677, 'sherwood': 1678, 'vans': 1679, 'vehicle': 1680, 'car': 1681, 'fairly': 1682, 'roofcrush': 1683, 'ford': 1684, '1982': 1685, 'heights': 1686, 'leap': 1687, 'diamond': 1688, 'creek': 1689, 'segments': 1690, 'petrus': 1691, 'salon': 1692, 'soared': 1693, 'pratt': 1694, 'rapidly': 1695, 'orleans': 1696, 'ideas': 1697, 'door': 1698, 'guffey': 1699, 'slower': 1700, 'vote': 1701, 'estimates': 1702, 'chemicals': 1703, 'morgan': 1704, 'acquisitions': 1705, 'differences': 1706, 'dallara': 1707, 'pickens': 1708, 'minority': 1709, 'klauser': 1710, 'deposit': 1711, 'breaker': 1712, 'subcommittee': 1713, 'ropes': 1714, 'churches': 1715, 'band': 1716, 'ringer': 1717, 'ring': 1718, 'baldwin': 1719, 'payouts': 1720, 'embassy': 1721, '30000': 1722, '10day': 1723, 'whelen': 1724, '2500': 1725, '25000': 1726, 'arbitrage': 1727, '61': 1728, 'nv': 1729, 'rudolph': 1730, 'plc': 1731, 'enters': 1732, 'decades': 1733, 'heard': 1734, 'aware': 1735, 'spokeswoman': 1736, 'type': 1737, '28': 1738, 'asbestosrelated': 1739, 'owned': 1740, 'buildings': 1741, 'easily': 1742, 'rejected': 1743, 'environmental': 1744, 'virtually': 1745, 'remaining': 1746, 'dumped': 1747, 'material': 1748, 'mixed': 1749, 'dry': 1750, 'parts': 1751, 'recognize': 1752, 'events': 1753, 'sevenday': 1754, 'maturity': 1755, '41': 1756, 'maturities': 1757, 'indicate': 1758, 'indicator': 1759, 'grew': 1760, 'dollardenominated': 1761, 'wr': 1762, 'holds': 1763, '27': 1764, 'thrift': 1765, 'bailey': 1766, 'ohio': 1767, 'authority': 1768, 'borrowing': 1769, 'trillion': 1770, 'cutting': 1771, 'position': 1772, '43': 1773, 'boca': 1774, 'hot': 1775, 'springs': 1776, 'settled': 1777, 'guests': 1778, 'prove': 1779, 'receiving': 1780, 'message': 1781, 'giants': 1782, 'steel': 1783, 'joined': 1784, 'mayor': 1785, 'h': 1786, 'iii': 1787, 'morning': 1788, 'lights': 1789, 'governor': 1790, 'food': 1791, 'drivers': 1792, 'race': 1793, 'machines': 1794, 'buses': 1795, 'february': 1796, 'stood': 1797, 'disputes': 1798, 'target': 1799, 'post': 1800, 'maintaining': 1801, 'alan': 1802, 'spoon': 1803, 'effectively': 1804, 'per': 1805, '32': 1806, 'matters': 1807, 'flat': 1808, '26': 1809, 'leaves': 1810, 'illuminating': 1811, 'utilities': 1812, 'independent': 1813, 'places': 1814, 'forecasts': 1815, 'electricity': 1816, 'persistent': 1817, 'withdraw': 1818, '48': 1819, 'complicated': 1820, '63': 1821, 'directors': 1822, 'appliances': 1823, 'retired': 1824, 'illinois': 1825, 'considering': 1826, '49': 1827, 'upheld': 1828, 'plus': 1829, 'braidwood': 1830, 'units': 1831, 'records': 1832, 'passenger': 1833, 'reductions': 1834, 'tax': 1835, 'located': 1836, 'seoul': 1837, 'survival': 1838, 'designer': 1839, 'initial': 1840, 'tied': 1841, 'directly': 1842, 'moreover': 1843, 'barnum': 1844, 'interview': 1845, 'gary': 1846, 'intense': 1847, 'competitor': 1848, 'receive': 1849, 'occur': 1850, 'decide': 1851, 'applied': 1852, 'primarily': 1853, 'sheets': 1854, 'messrs': 1855, 'joseph': 1856, 'positions': 1857, 'removed': 1858, 'saudi': 1859, 'arabia': 1860, 'allegedly': 1861, 'failing': 1862, 'mexico': 1863, 'carla': 1864, 'accelerated': 1865, 'placed': 1866, 'degrees': 1867, 'authors': 1868, 'pursue': 1869, 'effective': 1870, 'procedures': 1871, 'aid': 1872, 'bilateral': 1873, 'copyright': 1874, 'protect': 1875, 'recognition': 1876, 'disturbing': 1877, 'complained': 1878, 'investigation': 1879, 'developing': 1880, 'reach': 1881, 'reduction': 1882, 'carlos': 1883, 'triggered': 1884, 'greater': 1885, 'pc': 1886, '1981': 1887, 'entered': 1888, 'faulding': 1889, 'australian': 1890, 'pharmaceuticals': 1891, 'moleculon': 1892, 'affiliate': 1893, 'sells': 1894, 'bass': 1895, 'esso': 1896, 'broken': 1897, 'hill': 1898, 'subsidiary': 1899, 'buyout': 1900, 'lehman': 1901, 'hutton': 1902, 'itself': 1903, 'response': 1904, 'timex': 1905, 'producer': 1906, 'frank': 1907, 'stepping': 1908, 'manufacturer': 1909, 'maintained': 1910, 'left': 1911, 'downturn': 1912, 'steady': 1913, 'seat': 1914, 'restructuring': 1915, 'consulting': 1916, 'fannie': 1917, 'mae': 1918, 'maxwell': 1919, 'mortgagebacked': 1920, '24': 1921, 'aerospace': 1922, 'exclusive': 1923, 'file': 1924, 'code': 1925, 'montedison': 1926, 'reflects': 1927, 'temporarily': 1928, 'follows': 1929, 'pick': 1930, 'closedend': 1931, 'ranged': 1932, 'crash': 1933, 'traditional': 1934, 'surge': 1935, 'listed': 1936, 'billions': 1937, 'available': 1938, 'runs': 1939, 'hold': 1940, 'historically': 1941, 'premiums': 1942, 'climbed': 1943, 'invested': 1944, 'rich': 1945, 'receipts': 1946, 'moscow': 1947, 'happen': 1948, 'permitted': 1949, 'branch': 1950, 'settle': 1951, 'millions': 1952, '46': 1953, 'reading': 1954, 'economist': 1955, 'cleveland': 1956, 'residential': 1957, 'draw': 1958, 'measures': 1959, 'economists': 1960, 'warning': 1961, 'excessive': 1962, 'awarded': 1963, 'imminent': 1964, 'bretz': 1965, 'purchased': 1966, 'indicators': 1967, 'particular': 1968, 'import': 1969, 'dozen': 1970, 'blamed': 1971, 'entirely': 1972, 'contemporary': 1973, 'funny': 1974, 'wa': 1975, 'version': 1976, 'ballplayers': 1977, 'image': 1978, 'size': 1979, 'shame': 1980, 'players': 1981, 'road': 1982, 'complaint': 1983, 'certainly': 1984, 'globe': 1985, 'singapore': 1986, 'restaurants': 1987, 'smoking': 1988, 'fastfood': 1989, 'carried': 1990, 'pressured': 1991, 'olympic': 1992, 'aids': 1993, 'confirmed': 1994, 'tested': 1995, '150': 1996, 'ending': 1997, '1972': 1998, 'due': 1999, '100000': 2000, '1976': 2001, 'shot': 2002, 'contained': 2003, 'person': 2004, 'friend': 2005, 'feeling': 2006, 'takes': 2007, 'box': 2008, 'calls': 2009, 'sense': 2010, 'serious': 2011, 'managed': 2012, 'harsh': 2013, 'marielouise': 2014, 'thousands': 2015, 'killed': 2016, 'husband': 2017, 'deserve': 2018, 'scenes': 2019, 'die': 2020, 'seeing': 2021, 'regular': 2022, '767': 2023, 'press': 2024, 'speculated': 2025, 'hit': 2026, 'campaigns': 2027, 'fears': 2028, 'art': 2029, 'consultant': 2030, 'means': 2031, 'republican': 2032, 'master': 2033, 'gets': 2034, 'convicted': 2035, 'wait': 2036, 'caught': 2037, 'copkiller': 2038, 'bullets': 2039, 'choose': 2040, 'peter': 2041, 'freedom': 2042, 'denies': 2043, 'accused': 2044, 'pass': 2045, 'himself': 2046, 'pinocchio': 2047, 'focus': 2048, 'nose': 2049, 'responded': 2050, 'lying': 2051, 'cooperation': 2052, 'starts': 2053, 'hormats': 2054, 'commitments': 2055, 'ground': 2056, 'plants': 2057, 'specialist': 2058, 'closer': 2059, 'discuss': 2060, 'transportation': 2061, 'telecommunications': 2062, 'speech': 2063, 'baker': 2064, 'flows': 2065, 'step': 2066, 'hardly': 2067, 'comprehensive': 2068, 'graders': 2069, 'crib': 2070, 'germany': 2071, 'examination': 2072, 'lowability': 2073, 'gone': 2074, 'unusual': 2075, 'teach': 2076, 'wake': 2077, 'concluded': 2078, 'widespread': 2079, 'ones': 2080, 'numerous': 2081, 'macmillanmcgrawhill': 2082, 'nothing': 2083, 'academic': 2084, 'telegraph': 2085, 'extra': 2086, 'projects': 2087, 'posts': 2088, 'lowest': 2089, 'cannell': 2090, 'seriously': 2091, 'winning': 2092, 'term': 2093, 'curriculum': 2094, 'taught': 2095, 'encourage': 2096, 'helping': 2097, 'salary': 2098, 'eager': 2099, 'returned': 2100, 'bottom': 2101, 'mostly': 2102, 'badly': 2103, 'offenders': 2104, 'familiar': 2105, 'afraid': 2106, 'sentiment': 2107, 'worksheets': 2108, 'parent': 2109, 'parallels': 2110, 'referred': 2111, 'fifthgrade': 2112, 'sounds': 2113, 'sacramento': 2114, 'fetal': 2115, 'stop': 2116, 'funded': 2117, 'letter': 2118, 'threatened': 2119, 'controversy': 2120, 'ethical': 2121, 'prestigious': 2122, 'charged': 2123, 'damaged': 2124, 'roughly': 2125, 'biggest': 2126, 'modestly': 2127, 'targets': 2128, 'saw': 2129, 'otc': 2130, 'bancorp': 2131, 'signed': 2132, 'thirdquarter': 2133, 'pretax': 2134, 'substantially': 2135, 'losses': 2136, 'assuming': 2137, '51': 2138, 'lost': 2139, 'sept': 2140, 'yearearlier': 2141, 'payment': 2142, 'formed': 2143, 'confidential': 2144, 'victim': 2145, 'professional': 2146, 'highpriced': 2147, 'laughing': 2148, 'darkhorse': 2149, 'employed': 2150, 'lawsuit': 2151, 'samnick': 2152, 'seeks': 2153, 'opinion': 2154, 'violate': 2155, 'homosexual': 2156, 'dallas': 2157, 'hampton': 2158, 'december': 2159, 'park': 2160, 'murray': 2161, 'impose': 2162, 'alone': 2163, 'accepted': 2164, 'limited': 2165, 'hurt': 2166, 'design': 2167, 'backe': 2168, 'facing': 2169, 'offset': 2170, 'resulting': 2171, 'lure': 2172, 'sterling': 2173, 'madison': 2174, 'los': 2175, 'angeles': 2176, 'solid': 2177, 'entertainment': 2178, 'northern': 2179, 'commodity': 2180, 'negotiate': 2181, 'station': 2182, 'nc': 2183, 'quite': 2184, 'premiere': 2185, 'opportunity': 2186, 'printed': 2187, 'turning': 2188, 'economics': 2189, 'initially': 2190, 'interpublic': 2191, 'original': 2192, 'leaving': 2193, '130': 2194, 'possibility': 2195, 'subsidiaries': 2196, 'reaction': 2197, 'advocates': 2198, 'requirements': 2199, 'model': 2200, 'surprising': 2201, 'sen': 2202, 'rearseat': 2203, 'railcars': 2204, 'sir': 2205, 'within': 2206, 'interesting': 2207, '115': 2208, 'upon': 2209, 'stag': 2210, 'vineyard': 2211, 'quality': 2212, 'bordeaux': 2213, 'romaneeconti': 2214, 'tache': 2215, 'roederer': 2216, 'cristal': 2217, 'chateau': 2218, 'shapiro': 2219, 'responses': 2220, '62': 2221, 'sort': 2222, 'equally': 2223, 'expecting': 2224, 'chance': 2225, 'copperweld': 2226, 'basham': 2227, 'congressional': 2228, 'auctioned': 2229, 'various': 2230, 'apparently': 2231, 'acne': 2232, 'signal': 2233, 'notably': 2234, 'koito': 2235, 'successful': 2236, 'smaller': 2237, 'provides': 2238, 'deals': 2239, 'wakui': 2240, 'houses': 2241, 'hudson': 2242, 'stearn': 2243, 'checking': 2244, 'card': 2245, 'loyalty': 2246, 'deposits': 2247, 'targeting': 2248, 'moore': 2249, 'charlotte': 2250, 'starting': 2251, 'fee': 2252, 'realize': 2253, 'sharedata': 2254, 'send': 2255, 'felt': 2256, 'collar': 2257, 'session': 2258, '12point': 2259, 'shortly': 2260, 'expressed': 2261, 'programtrading': 2262, 'edward': 2263, 'done': 2264, 'aslacton': 2265, 'ancient': 2266, 'hammond': 2267, 'live': 2268, 'youth': 2269, 'belfry': 2270, 'crunch': 2271, 'bang': 2272, 'attract': 2273, 'boesel': 2274, 'relative': 2275, 'coxon': 2276, 'einhorn': 2277, 'berliner': 2278, 'yang': 2279, 'expelled': 2280, 'vargas': 2281, 'listing': 2282, 'henry': 2283, 'otero': 2284, 'triton': 2285, 'connection': 2286, 'crane': 2287, 'canepa': 2288, 'pa': 2289, 'oneyear': 2290, 'indexarbitrage': 2291, 'vinken': 2292, '29': 2293, 'consolidated': 2294, 'exposed': 2295, '1956': 2296, 'anyone': 2297, 'questionable': 2298, 'smokers': 2299, 'modest': 2300, 'amounts': 2301, '1950s': 2302, '98': 2303, 'lung': 2304, 'striking': 2305, 'west': 2306, 'industrialized': 2307, 'hollingsworth': 2308, 'vose': 2309, 'regulate': 2310, 'chrysotile': 2311, 'mossman': 2312, 'body': 2313, 'imposed': 2314, 'blue': 2315, 'fans': 2316, 'contracted': 2317, 'resources': 2318, 'moneymarket': 2319, 'amid': 2320, 'taxable': 2321, '847': 2322, 'permit': 2323, 'capture': 2324, 'sooner': 2325, 'nevertheless': 2326, 'blip': 2327, 'auction': 2328, 'typically': 2329, 'beat': 2330, 'heavily': 2331, 'boosts': 2332, 'slid': 2333, 'formerly': 2334, 'toronto': 2335, 'obtain': 2336, 'finmeccanica': 2337, '295': 2338, 'italian': 2339, 'employs': 2340, 'acts': 2341, 'midnight': 2342, '280': 2343, 'fight': 2344, 'capitalgains': 2345, 'voted': 2346, 'vitulli': 2347, 'arm': 2348, 'mazda': 2349, 'towns': 2350, 'raton': 2351, 'treat': 2352, 'rock': 2353, 'stars': 2354, 'belt': 2355, 'expand': 2356, 'victor': 2357, 'speedway': 2358, 'welcomed': 2359, 'buffet': 2360, 'banned': 2361, 'pointed': 2362, 'downtown': 2363, 'squeezed': 2364, 'dinner': 2365, 'indiana': 2366, 'roof': 2367, 'chefs': 2368, 'meal': 2369, 'forward': 2370, '101': 2371, 'reflecting': 2372, 'casting': 2373, 'mere': 2374, 'forecast': 2375, 'recorded': 2376, 'surplus': 2377, 'weeklies': 2378, 'guaranteed': 2379, 'announce': 2380, 'reward': 2381, 'bonuses': 2382, 'attempt': 2383, 'bureau': 2384, 'gaining': 2385, 'electronic': 2386, 'audit': 2387, 'decrease': 2388, '73': 2389, 'bowed': 2390, 'bidders': 2391, 'chapter': 2392, '225': 2393, 'hartford': 2394, 'values': 2395, 'seemed': 2396, 'worried': 2397, 'holders': 2398, 'negotiations': 2399, 'asserted': 2400, 'separately': 2401, '375': 2402, 'norman': 2403, 'chain': 2404, 'undersecretary': 2405, 'utility': 2406, 'refunds': 2407, 'moved': 2408, 'attempts': 2409, 'appealing': 2410, 'determined': 2411, 'actual': 2412, 'collections': 2413, '155': 2414, '301': 2415, 'byron': 2416, 'courts': 2417, 'challenge': 2418, 'unreasonable': 2419, 'ruled': 2420, '190': 2421, '195': 2422, 'inched': 2423, 'mediumsized': 2424, 'doubled': 2425, 'manufacture': 2426, 'household': 2427, 'creativity': 2428, 'sheet': 2429, '64yearold': 2430, 'prospects': 2431, 'attached': 2432, 'choice': 2433, 'gregory': 2434, 'theory': 2435, 'scenario': 2436, 'valuation': 2437, 'smaby': 2438, 'concept': 2439, 'besides': 2440, 'describe': 2441, 'chips': 2442, 'contain': 2443, 'processors': 2444, 'roll': 2445, 'supercomputers': 2446, 'presumably': 2447, 'stockholders': 2448, 'distribution': 2449, '475': 2450, '53': 2451, '59': 2452, 'hand': 2453, 'colorado': 2454, 'arrangement': 2455, 'father': 2456, 'neil': 2457, 'malcolm': 2458, '450': 2459, 'stevens': 2460, 'arthur': 2461, 'hatch': 2462, 'claiming': 2463, 'success': 2464, 'intellectual': 2465, 'scrutiny': 2466, 'negotiators': 2467, 'scientists': 2468, 'investing': 2469, 'creating': 2470, 'task': 2471, 'teams': 2472, 'trained': 2473, 'films': 2474, 'taipei': 2475, 'showing': 2476, 'apply': 2477, 'italy': 2478, 'deemed': 2479, 'threat': 2480, 'tells': 2481, 'concerned': 2482, 'turkey': 2483, 'argentina': 2484, '64': 2485, 'believed': 2486, 'argentine': 2487, 'feels': 2488, 'forgiven': 2489, 'century': 2490, 'computing': 2491, 'crude': 2492, 'steven': 2493, 'models': 2494, 'store': 2495, 'memories': 2496, 'memory': 2497, 'counterparts': 2498, 'pioneer': 2499, 'gates': 2500, '1975': 2501, 'ibm': 2502, 'versions': 2503, 'f': 2504, 'dennis': 2505, 'leader': 2506, 'kalipharma': 2507, 'voting': 2508, 'holdings': 2509, '11000': 2510, 'operate': 2511, 'rp': 2512, 'scherer': 2513, 'optical': 2514, 'virgin': 2515, 'islands': 2516, 'preferences': 2517, 'denied': 2518, 'requested': 2519, 'tariff': 2520, 'status': 2521, 'assembled': 2522, 'eligible': 2523, 'reduce': 2524, 'overhead': 2525, 'excess': 2526, 'load': 2527, 'automotive': 2528, 'controlling': 2529, 'running': 2530, 'career': 2531, 'singlehandedly': 2532, 'snapped': 2533, 'fixedrate': 2534, 'eliminate': 2535, 'prepayment': 2536, 'forces': 2537, 'payments': 2538, 'semiannual': 2539, 'reducing': 2540, 'burden': 2541, 'purchasers': 2542, 'erbamont': 2543, 'netherlands': 2544, '72': 2545, 'currencies': 2546, 'drawing': 2547, 'protracted': 2548, 'intensity': 2549, 'invest': 2550, 'simon': 2551, 'philippine': 2552, 'managing': 2553, 'newgate': 2554, '1929': 2555, 'claims': 2556, 'barney': 2557, 'diversify': 2558, 'gyrations': 2559, 'tend': 2560, 'plunged': 2561, 'discount': 2562, 'startling': 2563, 'play': 2564, 'newly': 2565, 'reflect': 2566, 'cast': 2567, 'plenty': 2568, 'depositary': 2569, 'represent': 2570, 'essentially': 2571, 'insist': 2572, 'folks': 2573, '188': 2574, 'owed': 2575, 'soviets': 2576, 'monetary': 2577, 'obstacles': 2578, 'hundreds': 2579, '476': 2580, 'fallen': 2581, 'remove': 2582, 'effects': 2583, 'usual': 2584, 'patterns': 2585, 'kenneth': 2586, 'slack': 2587, 'slowly': 2588, 'predicting': 2589, 'lack': 2590, '01': 2591, 'soft': 2592, 'landing': 2593, 'platt': 2594, 'intended': 2595, '03': 2596, '09': 2597, 'backlogs': 2598, '88': 2599, 'adjusting': 2600, 'counts': 2601, 'stamford': 2602, 'steeper': 2603, 'suppliers': 2604, 'row': 2605, 'exceptionally': 2606, 'contributed': 2607, 'seasonally': 2608, 'americana': 2609, 'murakami': 2610, 'kodansha': 2611, 'characters': 2612, 'drink': 2613, 'careers': 2614, 'marriages': 2615, 'belong': 2616, 'notion': 2617, 'carries': 2618, 'hero': 2619, 'star': 2620, 'stanford': 2621, 'phone': 2622, 'sweet': 2623, 'beatles': 2624, 'gotta': 2625, 'macmillan': 2626, '1795': 2627, 'baseball': 2628, 'nipponese': 2629, 'describes': 2630, 'harmony': 2631, 'commitment': 2632, 'symbol': 2633, 'played': 2634, 'unrecognizable': 2635, 'zone': 2636, 'defeat': 2637, 'strict': 2638, 'conduct': 2639, 'amusing': 2640, 'fare': 2641, 'plate': 2642, 'regret': 2643, 'employee': 2644, 'responsibility': 2645, 'science': 2646, 'ultimately': 2647, 'morita': 2648, 'learned': 2649, 'editorial': 2650, 'features': 2651, 'entering': 2652, 'centers': 2653, 'discos': 2654, 'clubs': 2655, 'indicates': 2656, 'materialistic': 2657, 'colony': 2658, 'identified': 2659, 'onethird': 2660, 'balked': 2661, 'palestinian': 2662, 'renewed': 2663, 'application': 2664, 'organizations': 2665, 'sex': 2666, 'family': 2667, 'polish': 2668, 'gas': 2669, 'victory': 2670, 'nagymaros': 2671, 'nemeth': 2672, 'modify': 2673, 'damage': 2674, 'operated': 2675, 'peak': 2676, 'periods': 2677, 'weddings': 2678, '6000': 2679, 'rings': 2680, 'statistics': 2681, 'bramalea': 2682, '105': 2683, 'debentures': 2684, '1999': 2685, 'torontobased': 2686, 'entitles': 2687, 'date': 2688, 'claim': 2689, 'sketch': 2690, 'dialogue': 2691, 'silent': 2692, 'earns': 2693, 'double': 2694, 'score': 2695, 'thinking': 2696, 'precisely': 2697, 'romanticized': 2698, 'walk': 2699, 'avenue': 2700, 'crack': 2701, 'spends': 2702, 'girl': 2703, 'mother': 2704, 'blessing': 2705, 'stakes': 2706, 'strongly': 2707, 'chabrol': 2708, 'viewed': 2709, 'historical': 2710, 'vichy': 2711, 'abortionist': 2712, 'openly': 2713, 'presented': 2714, 'latour': 2715, 'recommend': 2716, 'mention': 2717, 'bright': 2718, 'tip': 2719, 'boeing': 2720, 'discussing': 2721, 'possibly': 2722, 'stages': 2723, 'specific': 2724, 'sections': 2725, 'aircraft': 2726, 'secondary': 2727, 'contests': 2728, 'era': 2729, 'content': 2730, 'fills': 2731, 'roger': 2732, 'ailes': 2733, 'kicker': 2734, 'simply': 2735, 'finally': 2736, 'prochoice': 2737, 'telling': 2738, 'truth': 2739, 'everybody': 2740, 'nobody': 2741, 'classic': 2742, 'accurate': 2743, 'fail': 2744, 'voluntarily': 2745, 'admitted': 2746, 'reservations': 2747, 'gov': 2748, 'battle': 2749, 'agree': 2750, 'flag': 2751, 'tradition': 2752, 'dynamics': 2753, 'created': 2754, 'attracted': 2755, 'featured': 2756, 'courtroom': 2757, 'younger': 2758, 'grown': 2759, 'gotten': 2760, 'scientist': 2761, 'campaigning': 2762, 'remainder': 2763, 'featuring': 2764, 'jim': 2765, 'suing': 2766, 'fraud': 2767, 'land': 2768, 'heating': 2769, 'salmore': 2770, 'credibility': 2771, 'oconnor': 2772, 'gop': 2773, '350000': 2774, '16000': 2775, 'friday': 2776, 'aug': 2777, 'toward': 2778, 'suggest': 2779, 'domination': 2780, 'flow': 2781, 'motion': 2782, 'economies': 2783, 'tripled': 2784, 'assistance': 2785, 'pumping': 2786, 'forcing': 2787, 'spur': 2788, 'evolution': 2789, 'concentrated': 2790, 'spurred': 2791, 'accommodate': 2792, 'donor': 2793, 'parallel': 2794, 'indonesia': 2795, 'pull': 2796, 'integrated': 2797, 'participants': 2798, 'crucial': 2799, 'architecture': 2800, 'difficult': 2801, 'regard': 2802, 'try': 2803, 'cathryn': 2804, 'rice': 2805, 'surrendered': 2806, 'word': 2807, 'socialstudies': 2808, 'protest': 2809, 'nancy': 2810, 'classes': 2811, 'breach': 2812, 'pleaded': 2813, 'guilty': 2814, 'inspired': 2815, 'defended': 2816, 'treated': 2817, 'harshly': 2818, 'casts': 2819, 'laws': 2820, 'albuquerque': 2821, 'nm': 2822, 'outright': 2823, 'greatly': 2824, 'surfaced': 2825, 'statewide': 2826, 'testcoaching': 2827, 'instruction': 2828, 'booming': 2829, 'sophisticated': 2830, 'experts': 2831, 'entire': 2832, 'districts': 2833, 'reforms': 2834, 'primary': 2835, 'stressing': 2836, 'foundation': 2837, 'worries': 2838, 'rundown': 2839, 'governors': 2840, 'physicist': 2841, 'immediate': 2842, 'prior': 2843, 'death': 2844, 'split': 2845, 'neighborhoods': 2846, 'faculty': 2847, 'restore': 2848, 'behalf': 2849, 'educational': 2850, 'ambitions': 2851, 'loved': 2852, 'favorite': 2853, 'cadet': 2854, 'civilization': 2855, 'lady': 2856, 'beth': 2857, 'marchand': 2858, 'green': 2859, 'furniture': 2860, 'stands': 2861, 'fellow': 2862, 'pushing': 2863, 'meaningful': 2864, 'seminar': 2865, 'studies': 2866, 'mistake': 2867, 'subjects': 2868, 'newspapers': 2869, 'advanced': 2870, 'adding': 2871, 'hands': 2872, 'discovered': 2873, 'certificate': 2874, 'someone': 2875, 'authorities': 2876, 'supportive': 2877, 'policies': 2878, 'allowed': 2879, 'murder': 2880, 'angry': 2881, 'damn': 2882, 'wisdom': 2883, 'mathematics': 2884, 'jury': 2885, 'answer': 2886, 'widely': 2887, 'communication': 2888, 'testpreparation': 2889, 'coaching': 2890, 'grade': 2891, 'iowa': 2892, 'metropolitan': 2893, 'kean': 2894, 'publishes': 2895, 'mehrens': 2896, 'scale': 2897, 'subskills': 2898, '69': 2899, 'brownell': 2900, 'random': 2901, 'represented': 2902, 'alleghany': 2903, 'sl': 2904, 'offices': 2905, 'north': 2906, 'moratorium': 2907, 'tissue': 2908, 'parkinson': 2909, 'transplant': 2910, 'privately': 2911, 'involve': 2912, 'hhs': 2913, 'institutes': 2914, 'dispute': 2915, 'prominent': 2916, 'names': 2917, 'consideration': 2918, 'views': 2919, 'novello': 2920, 'assured': 2921, 'ideological': 2922, 'moves': 2923, 'uncharted': 2924, 'applications': 2925, 'genel': 2926, 'associate': 2927, 'yale': 2928, 'climate': 2929, 'visible': 2930, 'flap': 2931, 'tissues': 2932, 'genes': 2933, 'mental': 2934, 'summary': 2935, 'overthecounter': 2936, 'slightly': 2937, 'paltry': 2938, 'turnover': 2939, '139': 2940, 'tracks': 2941, 'regions': 2942, 'realestate': 2943, 'speculators': 2944, 'immediately': 2945, 'water': 2946, 'jennison': 2947, 'trader': 2948, 'constitution': 2949, 'onetime': 2950, 'dramatic': 2951, 'weisfield': 2952, 'ratners': 2953, 'acquiring': 2954, 'swap': 2955, 'restaurant': 2956, 'redeemed': 2957, 'resolve': 2958, 'burt': 2959, 'sugarman': 2960, 'ninemember': 2961, 'sci': 2962, 'ala': 2963, 'detailed': 2964, 'warnings': 2965, 'attorneyclient': 2966, 'privilege': 2967, 'stem': 2968, '8300': 2969, 'punishable': 2970, 'prison': 2971, 'argued': 2972, 'citing': 2973, 'hire': 2974, 'retained': 2975, 'chaired': 2976, 'gerald': 2977, 'aba': 2978, 'grand': 2979, 'stance': 2980, 'detroit': 2981, 'permission': 2982, 'obtained': 2983, 'salaries': 2984, 'ramirez': 2985, 'unjust': 2986, 'cartoonist': 2987, 'mounted': 2988, 'harass': 2989, 'picket': 2990, 'k': 2991, 'unjustified': 2992, 'damages': 2993, 'familyplanning': 2994, 'adopted': 2995, 'prohibits': 2996, 'title': 2997, 'x': 2998, 'counseling': 2999, 'promote': 3000, 'restrictions': 3001, 'inquiry': 3002, 'bias': 3003, 'comments': 3004, 'boys': 3005, 'fairness': 3006, 'wayne': 3007, 'prosecution': 3008, 'brown': 3009, 'bromwich': 3010, 'oliver': 3011, 'tire': 3012, 'consist': 3013, 'acres': 3014, 'apology': 3015, 'equivalent': 3016, 'municipal': 3017, 'investigating': 3018, 'takuma': 3019, 'reputation': 3020, 'benefits': 3021, 'normal': 3022, 'accepting': 3023, 'complaints': 3024, 'touch': 3025, 'tense': 3026, 'foreigners': 3027, 'hiroshima': 3028, 'library': 3029, 'nagano': 3030, 'prefecture': 3031, 'insisted': 3032, 'contacted': 3033, 'papers': 3034, 'community': 3035, 'cbs': 3036, 'ntg': 3037, 'operates': 3038, 'furukawa': 3039, 'machinery': 3040, 'dresser': 3041, 'structural': 3042, 'thrifts': 3043, '357': 3044, 'billings': 3045, 'cover': 3046, 'switch': 3047, 'oldest': 3048, '86': 3049, '42': 3050, 'older': 3051, 'silicon': 3052, 'aggressively': 3053, 'dead': 3054, 'traditionally': 3055, 'kept': 3056, 'stalemate': 3057, 'jay': 3058, '18500': 3059, '18415': 3060, '14380': 3061, '14285': 3062, 'contends': 3063, '10year': 3064, 'highyield': 3065, 'expectations': 3066, 'ounce': 3067, 'debut': 3068, 'keeps': 3069, 'affiliates': 3070, 'episodes': 3071, 'distributor': 3072, 'losing': 3073, 'gillespie': 3074, 'syndication': 3075, 'providence': 3076, 'louisville': 3077, 'pleased': 3078, 'disappointed': 3079, 'frankly': 3080, 'officially': 3081, 'survive': 3082, 'founded': 3083, 'brooklyn': 3084, 'promise': 3085, 'crisis': 3086, 'combines': 3087, 'pieces': 3088, 'considerable': 3089, 'dumpster': 3090, 'offender': 3091, 'souper': 3092, 'combo': 3093, 'chastised': 3094, 'wrote': 3095, 'surprisingly': 3096, 'advertise': 3097, 'spenders': 3098, 'needham': 3099, 'haul': 3100, 'subscriptions': 3101, 'replies': 3102, '4000': 3103, 'fax': 3104, 'rubicam': 3105, 'enterprise': 3106, 'breaks': 3107, 'landor': 3108, 'buyback': 3109, 'shipping': 3110, 'hostile': 3111, 'stena': 3112, 'tiphook': 3113, 'raises': 3114, 'criticized': 3115, '36': 3116, 'mired': 3117, '625': 3118, 'requiring': 3119, 'roofs': 3120, 'systematic': 3121, 'danforth': 3122, 'mo': 3123, 'praised': 3124, 'lighttruck': 3125, 'automatic': 3126, 'shoulder': 3127, 'installed': 3128, 'deadline': 3129, 'leinonen': 3130, 'petroleum': 3131, '65': 3132, 'circle': 3133, 'formal': 3134, 'opposition': 3135, 'driscoll': 3136, 'options': 3137, 'altogether': 3138, '18000': 3139, 'reduced': 3140, 'accessories': 3141, 'butler': 3142, 'warren': 3143, 'winiarski': 3144, 'cask': 3145, 'shops': 3146, 'declared': 3147, 'superpremiums': 3148, 'classics': 3149, 'growths': 3150, 'burgundies': 3151, 'yquem': 3152, 'biondisanti': 3153, 'brunello': 3154, 'tuscany': 3155, 'magnitude': 3156, 'vintages': 3157, 'vintage': 3158, 'barrier': 3159, 'mesnil': 3160, 'blanc': 3161, 'blancs': 3162, 'burgundy': 3163, 'richebourg': 3164, 'hermitage': 3165, 'larry': 3166, 'grapes': 3167, 'owner': 3168, 'wholesale': 3169, 'merchants': 3170, 'spread': 3171, 'thin': 3172, 'remarked': 3173, 'cabernets': 3174, 'appeal': 3175, 'explains': 3176, 'movement': 3177, 'forced': 3178, 'beautiful': 3179, 'moment': 3180, 'looming': 3181, 'fourth': 3182, 'agrees': 3183, 'easier': 3184, 'plunge': 3185, 'weak': 3186, 'discretionary': 3187, 'halt': 3188, 'exercised': 3189, 'integra': 3190, 'hallwood': 3191, 'exercise': 3192, 'merchant': 3193, '138': 3194, '30year': 3195, 'twoyear': 3196, 'aim': 3197, 'lancaster': 3198, 'reames': 3199, 'fractionally': 3200, 'pattern': 3201, 'benchmark': 3202, 'afternoon': 3203, 'eaton': 3204, 'sierra': 3205, 'harold': 3206, 'alternatives': 3207, 'pit': 3208, 'leming': 3209, 'valhi': 3210, 'becomes': 3211, 'unchanged': 3212, 'consent': 3213, 'jerry': 3214, 'respond': 3215, 'friendly': 3216, 'earned': 3217, '185': 3218, 'license': 3219, 'elsewhere': 3220, 'albert': 3221, 'kligman': 3222, 'disagree': 3223, 'barriers': 3224, 'focusing': 3225, 'halfhour': 3226, 'hay': 3227, 'anxious': 3228, 'miti': 3229, 'controversial': 3230, 'laser': 3231, 'hightech': 3232, 'frequently': 3233, 'financed': 3234, 'catch': 3235, 'strategic': 3236, 'fit': 3237, 'ronald': 3238, 'bodner': 3239, 'itoh': 3240, 'drive': 3241, 'basis': 3242, 'performed': 3243, 'extent': 3244, 'maintenance': 3245, 'driskill': 3246, 'neighborhood': 3247, 'installment': 3248, 'competitive': 3249, 'synergistics': 3250, 'segment': 3251, 'macdonald': 3252, 'barnett': 3253, 'seniors': 3254, 'active': 3255, 'checks': 3256, 'ways': 3257, 'deregulation': 3258, 'banker': 3259, 'unions': 3260, 'define': 3261, 'costly': 3262, 'jacob': 3263, 'moving': 3264, 'alvin': 3265, 'registration': 3266, 'peripheral': 3267, 'chevrolet': 3268, 'savingsandloan': 3269, 'ailing': 3270, 'healthy': 3271, 'confidence': 3272, 'onehour': 3273, 'pm': 3274, 'execute': 3275, 'industrials': 3276, 'remained': 3277, '30point': 3278, 'oneday': 3279, 'fivepoint': 3280, 'minutes': 3281, 'aides': 3282, 'trigger': 3283, 'beyond': 3284, 'dingell': 3285, 'sources': 3286, 'changeringing': 3287, 'dorothy': 3288, 'sayers': 3289, 'rural': 3290, 'peal': 3291, 'sunday': 3292, 'youngsters': 3293, 'worker': 3294, 'train': 3295, 'ranks': 3296, 'rung': 3297, 'invented': 3298, '380': 3299, 'abbot': 3300, 'chamber': 3301, 'speaks': 3302, 'passion': 3303, 'bit': 3304, 'stephanie': 3305, 'worship': 3306, 'strongwilled': 3307, 'vicars': 3308, 'attend': 3309, 'hummerstone': 3310, 'torrington': 3311, 'devon': 3312, 'congregation': 3313, 'nearby': 3314, 'fault': 3315, 'council': 3316, 'peals': 3317, 'stockmarket': 3318, 'reference': 3319, 'recessionary': 3320, 'environments': 3321, 'risen': 3322, 'watchers': 3323, 'doubledigit': 3324, 'w': 3325, 'perritt': 3326, 'manner': 3327, 'cigna': 3328, 'painewebber': 3329, 'tally': 3330, 'basically': 3331, 'pageone': 3332, 'plight': 3333, 'microphone': 3334, '50000': 3335, 'beverly': 3336, 'boulder': 3337, 'kingdom': 3338, 'jerritts': 3339, 'relationship': 3340, 'demonstrators': 3341, 'normally': 3342, 'toast': 3343, 'exchanges': 3344, 'greatest': 3345, 'fang': 3346, 'li': 3347, 'arms': 3348, 'rifles': 3349, 'continually': 3350, 'professionals': 3351, '85': 3352, 'del': 3353, 'jl': 3354, 'unpublished': 3355, 'biscayne': 3356, 'rosenblum': 3357, 'suspensions': 3358, 'danville': 3359, 'settlement': 3360, 'limitedpartnership': 3361, 'escrow': 3362, 'twoweek': 3363, 'inaccurate': 3364, 'eugene': 3365, 'mcfall': 3366, 'georgetown': 3367, 'francis': 3368, 'anthony': 3369, 'arlington': 3370, '7500': 3371, 'miss': 3372, 'felten': 3373, 'houston': 3374, '60000': 3375, 'dahl': 3376, 'stupid': 3377, '2000': 3378, 'cutrer': 3379, 'baton': 3380, 'rouge': 3381, 'aurora': 3382, 'las': 3383, 'vegas': 3384, 'nev': 3385, 'scrutinizing': 3386, 'salomon': 3387, 'maughan': 3388, 'pegged': 3389, 'option': 3390, 'ftse': 3391, '335': 3392, 'williams': 3393, 'roukema': 3394, 'subminimum': 3395, 'employers': 3396, 'covers': 3397, 'zenith': 3398, 'intelligence': 3399, 'faced': 3400, 'observers': 3401, 'correll': 3402, 'pulp': 3403, 'consensus': 3404, 'knew': 3405, 'pamplin': 3406, 'newhome': 3407, 'pierre': 3408, 'elsevier': 3409, 'dutch': 3410, 'agnew': 3411, 'conglomerate': 3412, 'fiber': 3413, 'unusually': 3414, 'resilient': 3415, 'lungs': 3416, 'exposures': 3417, 'causing': 3418, 'symptoms': 3419, 'loews': 3420, 'micronite': 3421, 'appear': 3422, 'forum': 3423, 'spokewoman': 3424, 'properties': 3425, 'useful': 3426, 'users': 3427, 'danafarber': 3428, 'harvard': 3429, 'replaced': 3430, 'filter': 3431, '1953': 3432, '1955': 3433, 'substance': 3434, 'died': 3435, 'surviving': 3436, 'diagnosed': 3437, 'malignant': 3438, 'mesothelioma': 3439, 'asbestosis': 3440, 'morbidity': 3441, 'groton': 3442, 'stringently': 3443, 'regulation': 3444, 'smooth': 3445, 'needlelike': 3446, 'classified': 3447, 'amphobiles': 3448, 'brooke': 3449, 'pathlogy': 3450, 'vermont': 3451, 'curly': 3452, 'explained': 3453, 'gradual': 3454, '1997': 3455, 'cancercausing': 3456, 'outlawed': 3457, '160': 3458, 'dusty': 3459, 'burlap': 3460, 'sacks': 3461, 'bin': 3462, 'poured': 3463, 'cotton': 3464, 'acetate': 3465, 'mechanically': 3466, 'clouds': 3467, 'dust': 3468, 'hung': 3469, 'exhaust': 3470, 'ventilated': 3471, 'darrell': 3472, 'phillips': 3473, 'bearing': 3474, 'tracked': 3475, 'ibc': 3476, 'eased': 3477, 'fraction': 3478, '845': 3479, 'assume': 3480, 'reinvestment': 3481, 'lengthened': 3482, 'longest': 3483, 'donoghue': 3484, 'retain': 3485, 'shorter': 3486, 'brenda': 3487, 'malizia': 3488, 'negus': 3489, 'rises': 3490, '804': 3491, '790': 3492, 'pour': 3493, '3527': 3494, 'moneyfund': 3495, 'comparable': 3496, 'vary': 3497, 'dreyfus': 3498, 'topyielding': 3499, '937': 3500, '945': 3501, 'invests': 3502, 'waiving': 3503, '812': 3504, '814': 3505, '819': 3506, '822': 3507, '853': 3508, '856': 3509, 'jp': 3510, 'bolduc': 3511, '834': 3512, 'energyservices': 3513, 'succeeds': 3514, 'terrence': 3515, 'daniels': 3516, 'royal': 3517, 'trustco': 3518, '212': 3519, 'yearend': 3520, 'mcdermott': 3521, 'babcock': 3522, 'wilcox': 3523, 'stateowned': 3524, 'wickliffe': 3525, 'computerized': 3526, '2700': 3527, '370': 3528, 'lifted': 3529, 'obligations': 3530, '287': 3531, 'ensnarled': 3532, 'earliest': 3533, 'clark': 3534, 'oversee': 3535, 'biannual': 3536, 'powwow': 3537, 'titans': 3538, 'jet': 3539, 'sunny': 3540, 'confines': 3541, 'resort': 3542, 'hoosier': 3543, 'royalty': 3544, 'buckle': 3545, 'rust': 3546, 'rusty': 3547, 'du': 3548, 'pont': 3549, 'maytag': 3550, 'lesser': 3551, 'knowns': 3552, 'trojan': 3553, 'queen': 3554, 'cheese': 3555, 'starters': 3556, 'hudnut': 3557, 'symphony': 3558, 'orchestra': 3559, 'guest': 3560, 'pianistcomedian': 3561, 'borge': 3562, 'dessert': 3563, 'escort': 3564, 'busloads': 3565, 'wives': 3566, 'raced': 3567, 'unimpeded': 3568, 'traffic': 3569, 'lieutenant': 3570, 'breakfast': 3571, 'museum': 3572, 'drinks': 3573, 'everyday': 3574, 'visitors': 3575, 'hauled': 3576, 'crews': 3577, '10lap': 3578, 'exhibition': 3579, 'fortune': 3580, 'drooled': 3581, 'schoolboys': 3582, 'dummies': 3583, 'sponsor': 3584, 'execs': 3585, 'boarding': 3586, 'dancing': 3587, 'moons': 3588, 'renovated': 3589, 'ballroom': 3590, 'hottest': 3591, 'town': 3592, 'duckling': 3593, 'mousseline': 3594, 'lobster': 3595, 'consomme': 3596, 'veal': 3597, 'mignon': 3598, 'chocolate': 3599, 'terrine': 3600, 'raspberry': 3601, 'sauce': 3602, 'knowing': 3603, 'tasty': 3604, 'eat': 3605, 'ovation': 3606, 'ceos': 3607, 'redcarpet': 3608, 'tempts': 3609, 'heartland': 3610, 'winter': 3611, 'sluggishness': 3612, 'tallies': 3613, 'setback': 3614, 'cloud': 3615, 'exportoriented': 3616, '529': 3617, '07': 3618, '539': 3619, 'boom': 3620, 'prolonged': 3621, 'conflicts': 3622, '68': 3623, 'gloomy': 3624, '71': 3625, 'accumulated': 3626, '5045': 3627, '5038': 3628, 'discounts': 3629, 'permanent': 3630, 'fixtures': 3631, 'underscore': 3632, 'fierce': 3633, 'warner': 3634, 'mortimer': 3635, 'zuckerman': 3636, 'fourcolor': 3637, '100980': 3638, 'midoctober': 3639, 'lowered': 3640, 'subscriber': 3641, '120000': 3642, 'awards': 3643, 'credits': 3644, 'renewal': 3645, 'exceed': 3646, '325000': 3647, '340000': 3648, 'shore': 3649, '1620': 3650, 'publishers': 3651, 'giveaways': 3652, 'subscribers': 3653, 'telephones': 3654, 'circulations': 3655, 'newsweekly': 3656, '4393237': 3657, '3288453': 3658, '2303328': 3659, 'payoff': 3660, 'justify': 3661, 'westborough': 3662, '229': 3663, 'haven': 3664, 'manchester': 3665, 'nh': 3666, 'efficiencies': 3667, 'evaluated': 3668, 'rewards': 3669, 'emerges': 3670, 'attracts': 3671, 'wilbur': 3672, 'rothschild': 3673, 'withdrawal': 3674, 'speed': 3675, 'cluttered': 3676, 'refile': 3677, 'expedited': 3678, 'ferc': 3679, 'ricken': 3680, '52': 3681, 'toys': 3682, 'frederick': 3683, 'deane': 3684, 'signet': 3685, 'retailing': 3686, 'daniel': 3687, 'rexinger': 3688, 'glauber': 3689, '12member': 3690, 'ratepayers': 3691, 'collected': 3692, 'overruns': 3693, 'feb': 3694, 'entertain': 3695, 'pool': 3696, 'hostage': 3697, 'slash': 3698, '7375': 3699, 'tracking': 3700, 'addresses': 3701, 'nightmare': 3702, '38375': 3703, 'rockford': 3704, 'disputed': 3705, 'collecting': 3706, 'refunded': 3707, 'calculations': 3708, 'faces': 3709, 'courtordered': 3710, 'summerwinter': 3711, 'differential': 3712, 'appellate': 3713, '140': 3714, 'precedent': 3715, '245': 3716, '727': 3717, 'lasalle': 3718, '500004': 3719, 'automobile': 3720, 'yeartoyear': 3721, 'setting': 3722, '04': 3723, '361376': 3724, 'benefited': 3725, 'arising': 3726, 'consumption': 3727, '30841': 3728, '13056': 3729, 'chinchon': 3730, 'diversifying': 3731, 'fledgling': 3732, 'depend': 3733, 'longevity': 3734, 'productdesign': 3735, 'scrapped': 3736, 'operational': 3737, 'prototype': 3738, 'anticipated': 3739, 'minneapolisbased': 3740, 'strings': 3741, 'anticipates': 3742, 'needing': 3743, 'worstcase': 3744, 'filing': 3745, 'jump': 3746, '2875': 3747, '38': 3748, 'link': 3749, '983': 3750, 'promissory': 3751, 'complicate': 3752, 'tricky': 3753, 'unproven': 3754, 'gallium': 3755, 'arsenide': 3756, 'fragile': 3757, 'minute': 3758, 'robotic': 3759, 'twice': 3760, 'c90': 3761, 'compete': 3762, 'hitachi': 3763, 'priced': 3764, 'marketplace': 3765, 'calculate': 3766, 'transferring': 3767, 'drain': 3768, 'proforma': 3769, 'favored': 3770, '193': 3771, 'existed': 3772, 'incurred': 3773, '205': 3774, 'contractor': 3775, 'regarded': 3776, '600000': 3777, '240000': 3778, 'davenport': 3779, '47': 3780, 'blanchard': 3781, '37': 3782, 'hammerton': 3783, 'wheeland': 3784, '241': 3785, 'donald': 3786, 'pardus': 3787, 'electricutility': 3788, 'carney': 3789, 'tassinari': 3790, 'diplomacy': 3791, 'watching': 3792, 'copyrights': 3793, 'india': 3794, 'brazil': 3795, 'interim': 3796, 'unfairtrade': 3797, 'investigations': 3798, 'stiff': 3799, 'genuine': 3800, 'touchy': 3801, 'realization': 3802, 'denial': 3803, 'harms': 3804, 'inventiveness': 3805, 'offending': 3806, 'citizens': 3807, 'inadequate': 3808, 'protections': 3809, 'hurting': 3810, 'discouraging': 3811, 'deterring': 3812, 'hightechnology': 3813, 'lauded': 3814, 'officers': 3815, 'pirates': 3816, 'instituted': 3817, 'searchandseizure': 3818, 'initialing': 3819, 'amending': 3820, 'trademark': 3821, 'introducing': 3822, 'unauthorized': 3823, 'showings': 3824, 'compel': 3825, 'videoviewing': 3826, 'parlors': 3827, 'vowed': 3828, 'enact': 3829, 'compatible': 3830, 'literary': 3831, 'works': 3832, 'completely': 3833, 'hook': 3834, 'lowerpriority': 3835, 'greece': 3836, 'pose': 3837, 'lessserious': 3838, 'hoffman': 3839, 'specializing': 3840, 'retaliation': 3841, 'protecting': 3842, 'improvements': 3843, 'craft': 3844, 'developments': 3845, 'videocassette': 3846, 'piracy': 3847, 'disregard': 3848, 'pharmaceutical': 3849, 'merit': 3850, 'provision': 3851, 'creditor': 3852, 'halve': 3853, 'thirdhighest': 3854, 'declaration': 3855, 'nestor': 3856, 'stature': 3857, 'latin': 3858, 'aspires': 3859, 'external': 3860, 'miguel': 3861, 'alurralde': 3862, 'mulford': 3863, 'negotiator': 3864, 'carballo': 3865, 'menem': 3866, 'solved': 3867, 'centennial': 3868, 'milestones': 3869, 'commodore': 3870, 'pet': 3871, 'tandy': 3872, 'trs80': 3873, 'screens': 3874, 'stored': 3875, 'audiocassettes': 3876, 'garage': 3877, 'wozniak': 3878, 'hobbyists': 3879, 'homebrew': 3880, 'affordable': 3881, '1298': 3882, 'explosive': 3883, 'desktop': 3884, 'mainframe': 3885, 'builtfromkit': 3886, 'altair': 3887, 'sol': 3888, 'imsai': 3889, 'keyboards': 3890, 'faster': 3891, 'contributors': 3892, 'allen': 3893, 'languagehousekeeper': 3894, 'billionaire': 3895, 'adapted': 3896, 'shugart': 3897, 'seagate': 3898, 'disk': 3899, 'drives': 3900, 'hayes': 3901, 'dale': 3902, 'heatherington': 3903, 'engineers': 3904, 'codevelopers': 3905, 'modems': 3906, 'via': 3907, '383': 3908, 'fh': 3909, 'jerseybased': 3910, 'purepac': 3911, 'label': 3912, 'strait': 3913, '321000': 3914, 'exxon': 3915, 'pty': 3916, 'output': 3917, 'gradually': 3918, 'reaches': 3919, 'perch': 3920, 'dolphin': 3921, 'producing': 3922, 'seahorse': 3923, 'tarwhine': 3924, 'excise': 3925, '102': 3926, 'sloan': 3927, 'gelatin': 3928, 'capsules': 3929, 'divest': 3930, 'nonencapsulating': 3931, 'quantities': 3932, 'possessions': 3933, 'petition': 3934, 'generalized': 3935, 'classifications': 3936, 'categories': 3937, 'injury': 3938, 'seller': 3939, 'lowpriced': 3940, 'batteryoperated': 3941, 'beneficiaries': 3942, '373': 3943, 'automotiveparts': 3944, 'curb': 3945, 'satisfactory': 3946, 'achieved': 3947, 'akerfeldt': 3948, 'ambitious': 3949, 'wallowing': 3950, '52week': 3951, '16125': 3952, '1373': 3953, '9625': 3954, 'unsuccessfully': 3955, 'resume': 3956, 'influential': 3957, 'throughout': 3958, 'personally': 3959, 'assisted': 3960, 'manfred': 3961, 'gingl': 3962, 'lord': 3963, 'chilver': 3964, '63yearold': 3965, 'clays': 3966, 'securitiesbased': 3967, 'totaling': 3968, '701': 3969, 'mortgagebased': 3970, 'o': 3971, '570': 3972, 'blackstone': 3973, 'daiwa': 3974, 'sevenyear': 3975, 'floatingrate': 3976, 'linked': 3977, 'interbank': 3978, 'advantages': 3979, 'redeploy': 3980, 'channel': 3981, 'addressing': 3982, 'extremely': 3983, 'attractive': 3984, '900': 3985, 'rapid': 3986, 'tenth': 3987, 'pate': 3988, '54yearold': 3989, 'ltv': 3990, 'creditors': 3991, 'lawsuits': 3992, 'spa': 3993, 'indirect': 3994, '37ashare': 3995, 'incorporated': 3996, 'advertised': 3997, 'editions': 3998, 'pursuant': 3999, '182': 4000, '8429': 4001, 'yensupport': 4002, 'intervention': 4003, 'sharper': 4004, '8612': 4005, 'craze': 4006, 'sweeping': 4007, 'rash': 4008, 'triple': 4009, 'washingtonbased': 4010, 'turf': 4011, 'chile': 4012, 'austria': 4013, 'portugal': 4014, 'capped': 4015, 'corazon': 4016, 'aquino': 4017, 'kicked': 4018, 'province': 4019, 'guinea': 4020, 'quips': 4021, 'northampton': 4022, 'explosion': 4023, 'mirrors': 4024, 'mania': 4025, '1920s': 4026, 'narrowly': 4027, 'focused': 4028, 'wildly': 4029, 'oblivion': 4030, 'openend': 4031, 'onecountry': 4032, 'issuing': 4033, 'fixed': 4034, 'brings': 4035, 'harris': 4036, 'upham': 4037, 'hoopla': 4038, 'heavyduty': 4039, 'scrambled': 4040, 'brokers': 4041, 'stretching': 4042, 'nets': 4043, 'wide': 4044, 'planners': 4045, 'urge': 4046, 'smattering': 4047, 'emerging': 4048, 'outpaced': 4049, 'taste': 4050, 'burned': 4051, 'whipsaw': 4052, 'clobbered': 4053, 'frenzy': 4054, 'fat': 4055, 'partially': 4056, 'specialists': 4057, 'skyrocketed': 4058, 'targeted': 4059, 'alarmed': 4060, 'valuations': 4061, 'fattened': 4062, 'foreignstock': 4063, 'exposure': 4064, 'resistant': 4065, 'viewpoint': 4066, 'nonetheless': 4067, 'aghast': 4068, 'lofty': 4069, 'jumping': 4070, 'advice': 4071, 'ready': 4072, 'technical': 4073, 'repayment': 4074, 'precommunist': 4075, 'russian': 4076, 'repaid': 4077, 'coincident': 4078, 'crippled': 4079, 'lent': 4080, 'shortlived': 4081, 'kerensky': 4082, 'communists': 4083, 'seized': 4084, '1917': 4085, '1934': 4086, 'amended': 4087, 'ussr': 4088, 'belongs': 4089, 'pre1917': 4090, 'stressed': 4091, 'pre1933': 4092, 'satisfying': 4093, 'lendlease': 4094, 'reflection': 4095, 'leveling': 4096, 'manufactured': 4097, 'factories': 4098, 'booked': 4099, '23674': 4100, '23679': 4101, '596': 4102, 'contractors': 4103, '4156': 4104, 'significantly': 4105, '4158': 4106, 'seasonal': 4107, 'mayland': 4108, 'taper': 4109, 'revive': 4110, 'blank': 4111, 'payrolls': 4112, 'industrialproduction': 4113, 'slip': 4114, 'cite': 4115, 'imbalances': 4116, 'signals': 4117, 'watched': 4118, 'clues': 4119, 'buildup': 4120, 'provoke': 4121, 'cutbacks': 4122, 'conforms': 4123, 'elliott': 4124, 'donaldson': 4125, 'lufkin': 4126, 'jenrette': 4127, 'eases': 4128, 'nondurable': 4129, '10973': 4130, 'climbing': 4131, 'durable': 4132, '02': 4133, '12703': 4134, '39': 4135, 'durablegoods': 4136, '2344': 4137, '54': 4138, 'unfilled': 4139, '05': 4140, '49734': 4141, 'excluding': 4142, '1919': 4143, 'berson': 4144, 'predicted': 4145, 'singlefamily': 4146, 'homes': 4147, 'nonresidential': 4148, '991': 4149, 'contrast': 4150, 'fw': 4151, 'goverment': 4152, 'renovation': 4153, 'signaling': 4154, 'pitney': 4155, 'bowes': 4156, 'purhasing': 4157, 'vendors': 4158, 'delivering': 4159, 'inflationary': 4160, 'abating': 4161, 'handle': 4162, 'lengthen': 4163, 'gauges': 4164, 'worsening': 4165, 'polled': 4166, 'acknowledging': 4167, 'suspect': 4168, 'numbered': 4169, 'newcomer': 4170, 'powder': 4171, 'odd': 4172, 'shortage': 4173, 'nonfat': 4174, 'dairy': 4175, 'coupled': 4176, 'quotas': 4177, 'pamela': 4178, 'sebastian': 4179, 'judging': 4180, 'haruki': 4181, '320': 4182, '1895': 4183, 'baby': 4184, 'boomers': 4185, 'texture': 4186, 'salty': 4187, 'dogs': 4188, 'whistle': 4189, 'johnny': 4190, 'goode': 4191, 'bugs': 4192, 'bunny': 4193, 'mickey': 4194, 'spillane': 4195, 'groucho': 4196, 'harpo': 4197, 'desultory': 4198, 'reader': 4199, 'charm': 4200, 'engaging': 4201, 'recognizing': 4202, 'buttoneddown': 4203, 'lore': 4204, 'refreshing': 4205, 'author': 4206, 'selfaggrandizing': 4207, 'wejapanese': 4208, 'perpetuate': 4209, 'unique': 4210, 'unfathomable': 4211, 'outsiders': 4212, 'implicit': 4213, 'nutty': 4214, 'plot': 4215, 'rooted': 4216, 'reality': 4217, 'imaginative': 4218, 'disaffected': 4219, 'harddrinking': 4220, 'nearly30': 4221, 'snow': 4222, 'search': 4223, 'elusive': 4224, 'behest': 4225, 'sinister': 4226, 'erudite': 4227, 'mobster': 4228, 'degree': 4229, 'tow': 4230, 'prescient': 4231, 'girlfriend': 4232, 'sassy': 4233, 'retorts': 4234, 'docile': 4235, 'butterfly': 4236, 'meets': 4237, 'solicitous': 4238, 'christian': 4239, 'chauffeur': 4240, 'god': 4241, 'roughhewn': 4242, 'wears': 4243, 'else': 4244, 'sheepskin': 4245, '40yearold': 4246, 'sensation': 4247, 'norwegian': 4248, 'wood': 4249, 'fluent': 4250, 'lyrics': 4251, 'published': 4252, 'youthful': 4253, 'brat': 4254, 'pack': 4255, 'dominating': 4256, 'bestseller': 4257, 'charts': 4258, 'idiomatic': 4259, 'dashes': 4260, '339': 4261, 'mirror': 4262, 'fabled': 4263, 'virtues': 4264, 'player': 4265, 'batting': 4266, 'polls': 4267, 'tatsunori': 4268, 'hara': 4269, 'humble': 4270, 'uncomplaining': 4271, 'obedient': 4272, 'soul': 4273, 'besuboru': 4274, 'ball': 4275, 'bat': 4276, 'politely': 4277, 'foul': 4278, 'balls': 4279, 'stadium': 4280, 'ushers': 4281, 'expands': 4282, 'depending': 4283, 'hitter': 4284, 'honorably': 4285, 'sidestep': 4286, 'abide': 4287, 'wear': 4288, 'chronicle': 4289, 'rationed': 4290, 'enormous': 4291, 'sums': 4292, 'soho': 4293, '228': 4294, 'petulant': 4295, 'impudent': 4296, 'hosted': 4297, 'luce': 4298, 'fellowship': 4299, 'supercilious': 4300, 'vicious': 4301, 'passages': 4302, 'invades': 4303, 'mundane': 4304, 'aspects': 4305, 'regimented': 4306, 'assigned': 4307, 'lunch': 4308, 'austere': 4309, 'dormitory': 4310, 'prying': 4311, 'caretaker': 4312, 'observations': 4313, 'style': 4314, 'salarymen': 4315, 'unproductive': 4316, 'overtime': 4317, 'sake': 4318, 'solidarity': 4319, 'hierarchical': 4320, 'chary': 4321, 'letting': 4322, 'enormously': 4323, 'frustrating': 4324, 'raring': 4325, 'invent': 4326, 'walkman': 4327, 'lesson': 4328, 'committed': 4329, 'appointment': 4330, 'venerable': 4331, 'akio': 4332, 'kirkpatrick': 4333, 'corners': 4334, 'tobacco': 4335, 'smoke': 4336, 'sports': 4337, 'exempt': 4338, 'bars': 4339, 'bans': 4340, 'theaters': 4341, 'elevators': 4342, 'hospitals': 4343, 'siti': 4344, 'zaharah': 4345, 'sulaiman': 4346, 'nosmoking': 4347, 'mara': 4348, 'kuala': 4349, 'lumpur': 4350, 'oncampus': 4351, 'visiting': 4352, '26000': 4353, 'stalls': 4354, 'posters': 4355, 'signboards': 4356, 'restricts': 4357, 'designated': 4358, 'backer': 4359, 'spielvogel': 4360, 'bates': 4361, 'surveyed': 4362, 'espouse': 4363, 'stress': 4364, 'thai': 4365, 'cabinet': 4366, 'endorsed': 4367, 'pramual': 4368, 'sabhavasu': 4369, 'bangkok': 4370, 'plaza': 4371, 'undertaking': 4372, 'yasser': 4373, 'arafat': 4374, 'palestine': 4375, 'liberation': 4376, 'wafa': 4377, 'plo': 4378, 'tourism': 4379, 'foodshop': 4380, 'mainland': 4381, 'hospital': 4382, 'chaotic': 4383, 'pap': 4384, 'unrealistically': 4385, 'compensate': 4386, 'coal': 4387, 'happier': 4388, 'establishing': 4389, 'diplomatic': 4390, 'poland': 4391, 'financially': 4392, 'strapped': 4393, 'warsaw': 4394, 'environmentalists': 4395, 'terminated': 4396, 'multibilliondollar': 4397, 'river': 4398, 'danube': 4399, 'austrian': 4400, 'twinned': 4401, 'upstream': 4402, 'authorized': 4403, 'miklos': 4404, 'twin': 4405, 'dams': 4406, 'twindam': 4407, 'czech': 4408, 'solely': 4409, 'painting': 4410, 'strindberg': 4411, 'scandinavian': 4412, 'stockholm': 4413, '244': 4414, 'lighthouse': 4415, 'painted': 4416, 'oils': 4417, 'playwright': 4418, '1901': 4419, 'upturn': 4420, 'couples': 4421, 'exchanging': 4422, '271124': 4423, '400000': 4424, '851': 4425, 'warrant': 4426, 'holder': 4427, 'par': 4428, 'accrued': 4429, 'swapped': 4430, 'underwriters': 4431, 'scotia': 4432, 'mcleod': 4433, 'rbc': 4434, 'dominion': 4435, 'actor': 4436, 'inheritor': 4437, 'charlie': 4438, 'steve': 4439, 'laid': 4440, 'obsessed': 4441, 'refitting': 4442, 'campus': 4443, '36minute': 4444, 'blackandwhite': 4445, 'revived': 4446, 'fulllength': 4447, 'poignant': 4448, 'piece': 4449, 'modernday': 4450, 'homeless': 4451, 'composer': 4452, 'marc': 4453, 'marder': 4454, 'living': 4455, 'classical': 4456, 'music': 4457, 'ensembles': 4458, 'exciting': 4459, 'eclectic': 4460, 'intertitles': 4461, 'words': 4462, 'goodhearted': 4463, 'filmed': 4464, 'lovely': 4465, 'dill': 4466, 'benign': 4467, 'noticing': 4468, 'jostle': 4469, 'cabs': 4470, 'hangs': 4471, 'greenwich': 4472, 'village': 4473, 'strip': 4474, 'populated': 4475, 'jugglers': 4476, 'magicians': 4477, 'goodnatured': 4478, 'hustlers': 4479, 'deadeyed': 4480, 'fouryearold': 4481, 'cosmopolitan': 4482, 'curled': 4483, 'cardboard': 4484, 'routine': 4485, 'sketching': 4486, 'passersby': 4487, 'condemned': 4488, 'skirmishes': 4489, 'competing': 4490, 'carefree': 4491, 'blind': 4492, 'cure': 4493, 'returning': 4494, 'twoyearold': 4495, 'waif': 4496, 'nicole': 4497, 'alysia': 4498, 'murdered': 4499, 'thugs': 4500, 'cute': 4501, 'turns': 4502, 'curse': 4503, 'alerts': 4504, 'inadequacy': 4505, 'vagrant': 4506, 'beds': 4507, 'bowery': 4508, 'mission': 4509, 'drearier': 4510, 'tuck': 4511, 'dreamed': 4512, 'improbable': 4513, 'romance': 4514, 'shop': 4515, 'highrise': 4516, 'apartment': 4517, 'resonate': 4518, 'camera': 4519, 'glamorize': 4520, 'vagabond': 4521, 'existence': 4522, 'ends': 4523, 'whimsical': 4524, 'enviable': 4525, 'rough': 4526, 'beaten': 4527, 'voices': 4528, 'claude': 4529, 'weird': 4530, 'brilliant': 4531, 'captivating': 4532, 'character': 4533, 'sympathetic': 4534, 'angle': 4535, 'disagreeable': 4536, 'giraud': 4537, 'significance': 4538, 'executed': 4539, 'hypocrisy': 4540, 'collaborated': 4541, 'germans': 4542, 'fighters': 4543, 'jews': 4544, 'diversionary': 4545, 'symbolic': 4546, 'traitor': 4547, 'smalltime': 4548, 'accidentally': 4549, 'enabled': 4550, 'jam': 4551, 'cocoa': 4552, 'warrationed': 4553, 'goodies': 4554, 'untrained': 4555, 'botched': 4556, 'remorse': 4557, 'shallow': 4558, 'playful': 4559, 'dreadful': 4560, 'wardamaged': 4561, 'lover': 4562, 'thinlipped': 4563, 'isabelle': 4564, 'huppert': 4565, 'marie': 4566, 'nice': 4567, 'chopped': 4568, 'gringo': 4569, 'confused': 4570, 'rendering': 4571, 'fuentes': 4572, 'mexican': 4573, 'revolution': 4574, 'endless': 4575, 'fighting': 4576, 'eating': 4577, 'drinking': 4578, 'celebrate': 4579, 'movies': 4580, 'spot': 4581, 'peck': 4582, 'marvelously': 4583, 'loose': 4584, 'energetic': 4585, 'portrayal': 4586, 'video': 4587, 'finest': 4588, 'twinjet': 4589, 'seattle': 4590, 'kawasaki': 4591, 'fuji': 4592, 'accounting': 4593, 'contribution': 4594, 'plane': 4595, 'mid1990s': 4596, 'event': 4597, 'irony': 4598, 'presidential': 4599, 'offoff': 4600, 'election': 4601, 'scattered': 4602, 'hostility': 4603, 'mudslinging': 4604, 'empty': 4605, 'ushering': 4606, 'napolitan': 4607, 'stirrings': 4608, 'dawn': 4609, 'sometimestawdry': 4610, 'stage': 4611, 'bold': 4612, 'entertaining': 4613, 'confrontational': 4614, 'truthful': 4615, 'fights': 4616, 'commercials': 4617, 'tone': 4618, 'elections': 4619, 'tight': 4620, 'facial': 4621, 'candidate': 4622, 'disembodied': 4623, 'contributions': 4624, 'accurately': 4625, 'hid': 4626, 'links': 4627, 'kidnapper': 4628, 'phony': 4629, 'nasty': 4630, 'innuendoes': 4631, 'siegal': 4632, 'prosecute': 4633, 'corruption': 4634, 'exist': 4635, 'stung': 4636, 'consultants': 4637, 'shrum': 4638, 'doak': 4639, 'unleashed': 4640, 'distorted': 4641, 'photos': 4642, 'compare': 4643, 'banning': 4644, 'oversight': 4645, 'secret': 4646, '95142': 4647, 'matching': 4648, 'errors': 4649, 'getoutthevote': 4650, 'kidnapping': 4651, 'powers': 4652, 'deceptive': 4653, 'argues': 4654, 'lt': 4655, 'gubernatorial': 4656, 'greer': 4657, 'persuasion': 4658, 'tour': 4659, 'monticello': 4660, 'superimposed': 4661, 'liberty': 4662, 'virginians': 4663, 'nurtured': 4664, 'generations': 4665, 'statue': 4666, 'jefferson': 4667, 'dissolves': 4668, 'incest': 4669, 'transforming': 4670, 'referendum': 4671, 'advertisements': 4672, 'goodman': 4673, 'shake': 4674, 'counterattack': 4675, 'closeup': 4676, 'shadows': 4677, 'recalling': 4678, 'unpleasant': 4679, 'ordeal': 4680, 'cmon': 4681, 'boyfriends': 4682, 'interjects': 4683, 'interrogated': 4684, 'rapists': 4685, 'constituent': 4686, 'legislative': 4687, 'technique': 4688, 'lawmakers': 4689, 'unfounded': 4690, 'interrogation': 4691, 'tired': 4692, 'stigma': 4693, 'campaigner': 4694, 'rozell': 4695, 'onus': 4696, 'devote': 4697, 'season': 4698, 'truce': 4699, 'lasted': 4700, 'carrying': 4701, 'sensitivity': 4702, 'attacks': 4703, 'aired': 4704, 'photograph': 4705, 'remember': 4706, 'squier': 4707, 'dirty': 4708, 'rusted': 4709, 'drums': 4710, 'swim': 4711, 'purrs': 4712, 'hazardous': 4713, 'neighbors': 4714, 'cry': 4715, 'partisans': 4716, 'photographs': 4717, 'barrel': 4718, 'cleaned': 4719, 'pollution': 4720, 'shrinks': 4721, 'eagleton': 4722, 'devastating': 4723, '1966': 4724, 'route': 4725, 'reelection': 4726, 'rout': 4727, 'democrat': 4728, 'nelson': 4729, '331000': 4730, '550000': 4731, 'propelling': 4732, 'interviews': 4733, 'pursued': 4734, 'fits': 4735, 'sparking': 4736, 'posing': 4737, 'fresh': 4738, 'whereby': 4739, 'knitted': 4740, '557': 4741, '7056': 4742, 'steep': 4743, 'cashrich': 4744, 'wages': 4745, 'sites': 4746, 'laborintensive': 4747, 'tigers': 4748, 'contributing': 4749, 'subordinate': 4750, 'recipient': 4751, 'fearful': 4752, 'falling': 4753, 'hegemony': 4754, 'constraints': 4755, 'encourages': 4756, 'burdens': 4757, 'resists': 4758, 'usjapanese': 4759, 'behemoth': 4760, 'swelling': 4761, '1990s': 4762, 'multinationals': 4763, 'decisions': 4764, 'offend': 4765, 'lender': 4766, 'drobnick': 4767, 'graduate': 4768, 'cohesive': 4769, 'sectors': 4770, 'calder': 4771, 'woodrow': 4772, 'wilson': 4773, 'internatonal': 4774, 'princeton': 4775, 'tubes': 4776, 'assemble': 4777, 'framework': 4778, 'ministers': 4779, 'zealand': 4780, 'brunei': 4781, 'rim': 4782, 'hawke': 4783, 'reasserts': 4784, 'intention': 4785, 'shape': 4786, 'designing': 4787, 'dominance': 4788, 'outstrips': 4789, 'outranks': 4790, 'optimism': 4791, 'enlarged': 4792, 'convey': 4793, 'undertone': 4794, 'caution': 4795, 'understanding': 4796, 'functions': 4797, 'farren': 4798, 'benevolent': 4799, 'altruistic': 4800, 'attitude': 4801, 'everyone': 4802, 'apprehensive': 4803, 'uncertainty': 4804, 'leases': 4805, 'bases': 4806, 'troop': 4807, 'asians': 4808, 'desirable': 4809, 'counterweight': 4810, 'marbles': 4811, 'juggernaut': 4812, 'monopolize': 4813, 'sew': 4814, 'chongsik': 4815, 'lee': 4816, 'eyes': 4817, 'ninth': 4818, 'spotted': 4819, 'uncanny': 4820, 'stockbroker': 4821, 'profession': 4822, 'senatehouse': 4823, 'ok': 4824, 'confronted': 4825, 'display': 4826, 'projector': 4827, 'underline': 4828, 'prosecuted': 4829, 'alternative': 4830, 'jail': 4831, 'downfall': 4832, 'unstinting': 4833, 'laurels': 4834, 'bitterness': 4835, 'anger': 4836, 'betrayer': 4837, 'schooldistrict': 4838, 'stunned': 4839, 'baldfaced': 4840, 'nature': 4841, 'martyr': 4842, 'dark': 4843, 'highstakes': 4844, 'enhanced': 4845, 'temptation': 4846, 'cheat': 4847, 'statute': 4848, 'violated': 4849, 'enforce': 4850, 'provisions': 4851, 'schoolimprovement': 4852, 'bolster': 4853, 'depended': 4854, 'studenttest': 4855, 'incredible': 4856, 'walt': 4857, 'haney': 4858, '50state': 4859, 'schoolresearch': 4860, 'inflated': 4861, 'suspects': 4862, 'adult': 4863, 'erasures': 4864, 'occurrences': 4865, 'revising': 4866, 'beforehand': 4867, 'precise': 4868, 'concentrate': 4869, 'county': 4870, 'promotions': 4871, 'wrenching': 4872, 'statesupervised': 4873, 'interventions': 4874, 'firings': 4875, 'lab': 4876, 'grants': 4877, 'superintendent': 4878, 'scholastic': 4879, 'aptitude': 4880, 'sat': 4881, 'entrance': 4882, 'worst': 4883, 'prosecuting': 4884, 'administrators': 4885, 'sandifer': 4886, 'allegations': 4887, 'purely': 4888, 'inferences': 4889, 'abuse': 4890, 'track': 4891, 'achievementtest': 4892, 'shaded': 4893, 'textile': 4894, 'educated': 4895, 'brightest': 4896, 'nobel': 4897, 'prize': 4898, 'townes': 4899, 'actress': 4900, 'joanne': 4901, 'woodward': 4902, '1980s': 4903, 'glory': 4904, 'faded': 4905, 'yellow': 4906, 'bricks': 4907, 'broad': 4908, 'facade': 4909, 'violence': 4910, 'gangs': 4911, 'linda': 4912, 'awful': 4913, 'enrollment': 4914, 'honors': 4915, 'seventh': 4916, 'predecessor': 4917, 'suffered': 4918, 'nervous': 4919, 'breakdown': 4920, 'bled': 4921, 'halls': 4922, 'stabbed': 4923, 'academically': 4924, 'serving': 4925, 'disparate': 4926, 'evenly': 4927, 'privileged': 4928, 'elite': 4929, 'monied': 4930, 'inner': 4931, 'resolved': 4932, 'clean': 4933, 'deadwood': 4934, 'ushered': 4935, 'betterment': 4936, 'reformers': 4937, '37yearold': 4938, 'dismissal': 4939, 'dreamt': 4940, 'restructured': 4941, 'staff': 4942, 'struggled': 4943, '14hour': 4944, 'fast': 4945, '198687': 4946, '198788': 4947, 'encouraged': 4948, 'creation': 4949, 'advised': 4950, 'cheerleaders': 4951, 'pep': 4952, 'cultural': 4953, 'literacy': 4954, 'chosen': 4955, 'pta': 4956, 'inspirational': 4957, 'laura': 4958, 'dobson': 4959, 'freshman': 4960, 'teachercadet': 4961, 'studying': 4962, '11th': 4963, 'grader': 4964, 'kelli': 4965, 'distinguished': 4966, 'herself': 4967, 'approaches': 4968, 'pair': 4969, 'collegebowl': 4970, 'competitions': 4971, 'weekends': 4972, 'prepare': 4973, 'correcting': 4974, 'homework': 4975, 'football': 4976, 'cocky': 4977, 'grandstander': 4978, 'deteriorating': 4979, 'feared': 4980, 'earn': 4981, 'incentivebonus': 4982, 'meant': 4983, '23000': 4984, 'pride': 4985, 'elizabeth': 4986, 'ariail': 4987, 'attending': 4988, 'adequately': 4989, 'copied': 4990, 'motives': 4991, 'correct': 4992, 'sociology': 4993, 'rankings': 4994, 'selfesteem': 4995, 'broke': 4996, 'heart': 4997, 'whole': 4998, 'alive': 4999, 'desperately': 5000, 'somebody': 5001, 'cared': 5002, 'dragdown': 5003, 'blow': 5004, 'defeats': 5005, 'inkling': 5006, 'underprivileged': 5007, 'joe': 5008, 'prosecutor': 5009, 'alumni': 5010, 'concedes': 5011, 'sympathy': 5012, 'moraledamaging': 5013, 'disclosure': 5014, 'quiet': 5015, 'resignation': 5016, 'save': 5017, 'dumbfounded': 5018, 'recalls': 5019, 'knife': 5020, 'astonishment': 5021, 'dismay': 5022, 'superiors': 5023, 'unpopularity': 5024, 'schoolboard': 5025, 'dismissed': 5026, 'crowded': 5027, 'testify': 5028, 'callers': 5029, 'decried': 5030, 'particulars': 5031, 'offense': 5032, 'talkshow': 5033, 'editorials': 5034, 'overused': 5035, 'enraged': 5036, 'firsttime': 5037, 'expunged': 5038, 'conviction': 5039, 'cranked': 5040, 'worthy': 5041, 'witnesses': 5042, 'interviewed': 5043, 'cheerleading': 5044, 'squad': 5045, 'crushed': 5046, 'explain': 5047, '17yearold': 5048, 'tshirts': 5049, 'corridors': 5050, 'redandwhite': 5051, 'ghs': 5052, 'logo': 5053, 'shirts': 5054, 'harm': 5055, 'aspersions': 5056, 'incident': 5057, 'doubt': 5058, 'evaluating': 5059, 'gayle': 5060, 'worms': 5061, 'realized': 5062, 'reinstatement': 5063, 'relieved': 5064, 'chalk': 5065, 'touched': 5066, 'slate': 5067, 'schoolchildren': 5068, 'workbooks': 5069, 'roman': 5070, 'numeral': 5071, 'ix': 5072, 'twosevenths': 5073, 'threesevenths': 5074, 'testpractice': 5075, 'kit': 5076, 'instances': 5077, 'subindustry': 5078, 'schoolsponsored': 5079, 'justifying': 5080, 'traverse': 5081, 'gauge': 5082, 'aces': 5083, 'psychiatrist': 5084, 'kindergarten': 5085, 'eighth': 5086, 'houghton': 5087, 'mifflin': 5088, 'harcourt': 5089, 'brace': 5090, 'jovanovich': 5091, 'testprep': 5092, 'arizona': 5093, 'florida': 5094, 'louisiana': 5095, 'maryland': 5096, 'tools': 5097, 'binders': 5098, 'bestselling': 5099, 'ctb': 5100, 'improving': 5101, 'replicated': 5102, 'coincidental': 5103, 'schoolteacher': 5104, 'michigan': 5105, 'similarity': 5106, 'devised': 5107, '69point': 5108, 'awarding': 5109, 'subskill': 5110, 'measured': 5111, 'closeness': 5112, 'preparatives': 5113, 'symmetry': 5114, 'geometrical': 5115, 'metric': 5116, 'measurement': 5117, 'pie': 5118, 'graphs': 5119, 'kits': 5120, 'replicate': 5121, 'intent': 5122, 'familiarization': 5123, '665': 5124, '645': 5125, 'twoletter': 5126, 'consonant': 5127, 'exclusion': 5128, 'contains': 5129, 'examples': 5130, 'matches': 5131, 'rick': 5132, 'ignoring': 5133, 'format': 5134, 'scrupulously': 5135, 'replicating': 5136, 'deny': 5137, 'publication': 5138, 'outraged': 5139, 'advisory': 5140, 'ctbs': 5141, 'unaware': 5142, 'discontinue': 5143, 'hn': 5144, 'frances': 5145, 'berger': 5146, 'sacramentobased': 5147, 'ancillary': 5148, 'transplantation': 5149, 'humans': 5150, 'juvenile': 5151, 'diabetes': 5152, 'degenerative': 5153, 'alzheimer': 5154, 'huntington': 5155, 'antiabortionists': 5156, 'therapies': 5157, 'abortions': 5158, 'indefinitely': 5159, 'tissuetransplant': 5160, 'federally': 5161, 'acting': 5162, 'implications': 5163, 'implant': 5164, 'brain': 5165, 'patient': 5166, 'suffering': 5167, 'nihappointed': 5168, 'recommended': 5169, 'carefully': 5170, 'controlled': 5171, 'embroiled': 5172, 'antiabortion': 5173, 'hampered': 5174, 'recruit': 5175, 'doctors': 5176, 'fill': 5177, 'helm': 5178, 'withdrawn': 5179, 'antonio': 5180, 'nominated': 5181, 'serve': 5182, 'surgeon': 5183, 'reportedly': 5184, 'opposes': 5185, 'imposing': 5186, 'defuse': 5187, 'cdc': 5188, 'judged': 5189, 'excellence': 5190, 'disturbs': 5191, 'judgments': 5192, 'myron': 5193, 'dean': 5194, 'polarized': 5195, 'mechanism': 5196, 'exists': 5197, 'middle': 5198, 'conducting': 5199, 'warns': 5200, 'discourage': 5201, 'unavailability': 5202, 'foundations': 5203, 'fronts': 5204, 'regenerate': 5205, 'syndrome': 5206, 'retardation': 5207, 'rekindled': 5208, 'lackluster': 5209, '45664': 5210, '1186': 5211, 'inauspicious': 5212, '1338': 5213, 'busiest': 5214, 'averaged': 5215, '145': 5216, 'nonfinancial': 5217, '44662': 5218, '128': 5219, '44904': 5220, '323': 5221, '43601': 5222, 'merge': 5223, 'merged': 5224, 'unattractive': 5225, 'anticipating': 5226, 'permitting': 5227, 'uptick': 5228, 'beneficiary': 5229, 'expires': 5230, 'ed': 5231, 'macheski': 5232, 'wilton': 5233, 'fared': 5234, 'wfrr': 5235, 'lp': 5236, 'ghkm': 5237, '2735': 5238, 'centerbank': 5239, 'nesb': 5240, 'londonbased': 5241, 'pennview': 5242, 'leapt': 5243, 'univest': 5244, '2550': 5245, '707': 5246, '899': 5247, 'mobile': 5248, 'dan': 5249, 'nelms': 5250, 'eliminates': 5251, 'associated': 5252, 'core': 5253, 'fluctuation': 5254, 'achieve': 5255, 'nearrecord': 5256, 'definitive': 5257, '5750': 5258, 'jaguar': 5259, 'tumbled': 5260, 'slipped': 5261, '858000': 5262, 'huntsville': 5263, '2256': 5264, 'cities': 5265, 'outcry': 5266, 'organized': 5267, 'protected': 5268, 'receives': 5269, 'document': 5270, 'passport': 5271, 'failure': 5272, 'misdemeanor': 5273, 'felony': 5274, 'wish': 5275, 'identities': 5276, 'rarely': 5277, 'acted': 5278, 'witness': 5279, 'neal': 5280, 'redflag': 5281, 'dozens': 5282, 'computergenerated': 5283, 'certified': 5284, 'mail': 5285, 'drug': 5286, 'necessarily': 5287, 'circumstances': 5288, 'filling': 5289, 'spark': 5290, 'lefcourt': 5291, 'delegates': 5292, 'resolution': 5293, 'condemning': 5294, 'requirement': 5295, 'prohibited': 5296, 'ethics': 5297, 'disclosing': 5298, 'committing': 5299, 'taxpayers': 5300, 'notice': 5301, 'christopher': 5302, 'lezovich': 5303, 'submit': 5304, 'summons': 5305, 'initiated': 5306, 'dating': 5307, 'correspondence': 5308, 'mailed': 5309, '8300s': 5310, 'develop': 5311, 'sending': 5312, 'assertions': 5313, 'relating': 5314, 'lucrative': 5315, 'fanfare': 5316, 'raul': 5317, 'quitting': 5318, 'refusal': 5319, 'couple': 5320, 'clerks': 5321, 'quipped': 5322, '89500': 5323, 'accountants': 5324, 'blinks': 5325, 'eye': 5326, 'sudden': 5327, 'relegated': 5328, 'sum': 5329, 'litigation': 5330, 'orrick': 5331, 'herrington': 5332, 'sutcliffe': 5333, 'detail': 5334, 'doonesbury': 5335, 'creators': 5336, 'garry': 5337, 'alleging': 5338, 'punish': 5339, 'crossing': 5340, 'screenwriters': 5341, 'involves': 5342, 'productions': 5343, 'coowner': 5344, 'collectivebargaining': 5345, 'illegally': 5346, 'reviewing': 5347, 'harassment': 5348, 'consists': 5349, 'mainly': 5350, 'yearlong': 5351, 'threats': 5352, 'punishment': 5353, 'preventing': 5354, 'punishing': 5355, 'retaliating': 5356, 'abortionrelated': 5357, 'assist': 5358, 'obtaining': 5359, 'referrals': 5360, 'advocate': 5361, 'providers': 5362, 'limits': 5363, 'pregnant': 5364, 'clears': 5365, 'jack': 5366, 'sparked': 5367, 'remarks': 5368, 'sentencing': 5369, '18yearold': 5370, 'defendant': 5371, 'killing': 5372, 'referring': 5373, 'queers': 5374, 'cruising': 5375, 'picking': 5376, 'teenage': 5377, 'appointed': 5378, 'commenting': 5379, 'observing': 5380, 'exhibited': 5381, 'prejudice': 5382, 'impartial': 5383, 'prostitute': 5384, 'discredit': 5385, 'judiciary': 5386, 'empowered': 5387, 'stockmanipulation': 5388, 'arguments': 5389, 'lowe': 5390, 'eightcount': 5391, 'indictment': 5392, 'sherwin': 5393, 'attempting': 5394, 'manipulate': 5395, 'carbide': 5396, 'trials': 5397, 'mistrials': 5398, 'switching': 5399, 'irancontra': 5400, 'affair': 5401, 'mayer': 5402, 'threelawyer': 5403, 'dc': 5404, '520lawyer': 5405, 'specialize': 5406, 'whitecollar': 5407, 'served': 5408, 'narcotics': 5409, 'cooper': 5410, 'rubber': 5411, 'principle': 5412, 'albany': 5413, 'ga': 5414, 'bridgestonefirestone': 5415, 'square': 5416, 'feet': 5417, 'warehousing': 5418, '353': 5419, 'apologizing': 5420, 'indulging': 5421, 'rebuked': 5422, 'fretted': 5423, 'cutthroat': 5424, 'pricing': 5425, 'penny': 5426, 'competitors': 5427, 'tiebreaking': 5428, 'lottery': 5429, 'computersystemdesign': 5430, 'summoned': 5431, 'understood': 5432, 'fair': 5433, 'antitrustlaw': 5434, 'apologize': 5435, 'packed': 5436, 'contrary': 5437, 'sorry': 5438, 'embarrassing': 5439, 'situations': 5440, 'sacrificing': 5441, 'gifts': 5442, 'businessmen': 5443, 'extramarital': 5444, 'fire': 5445, 'fueled': 5446, 'behavior': 5447, 'municipality': 5448, 'lowball': 5449, 'complain': 5450, 'procurement': 5451, 'unfairly': 5452, 'undercut': 5453, 'excessively': 5454, 'slashing': 5455, 'semiconductors': 5456, 'usjapan': 5457, 'minus': 5458, 'factor': 5459, 'oneyen': 5460, 'map': 5461, 'waterworks': 5462, '77000': 5463, 'saitama': 5464, 'prefectural': 5465, 'wakayama': 5466, 'municipalities': 5467, 'emerge': 5468, 'michio': 5469, 'sasaki': 5470, 'keidanren': 5471, 'federation': 5472, 'atlantic': 5473, 'publications': 5474, 'retaining': 5475, 'osborn': 5476, 'desai': 5477, 'michaels': 5478, '146': 5479, '328': 5480, '286': 5481, '293': 5482, '284': 5483, 'belonging': 5484, 'locally': 5485, 'hydraulically': 5486, 'shovels': 5487, 'wheelloader': 5488, 'heidelberg': 5489, 'german': 5490, 'computeraided': 5491, 'automation': 5492, 'productivity': 5493, 'depositsa': 5494, '621': 5495, 'compiled': 5496, 'monitor': 5497, 'lsi': 5498, 'logic': 5499, 'surprise': 5500, 'industrywide': 5501, 'semiconductor': 5502, 'customchip': 5503, 'lagging': 5504, 'extended': 5505, 'weakness': 5506, 'economical': 5507, 'techniques': 5508, 'wilfred': 5509, 'corrigan': 5510, 'midyear': 5511, 'phase': 5512, 'appropriate': 5513, 'equals': 5514, 'counting': 5515, 'extraordinary': 5516, '1337': 5517, '94': 5518, 'fiveinch': 5519, 'moreefficient': 5520, 'sixinch': 5521, 'wafers': 5522, 'fabricate': 5523, 'converting': 5524, 'santa': 5525, 'clara': 5526, 'facility': 5527, 'speculate': 5528, 'additions': 5529, 'suddenly': 5530, 'poorly': 5531, 'positioned': 5532, 'stark': 5533, 'robertson': 5534, 'stephens': 5535, 'buyers': 5536, 'jitters': 5537, 'ingersollrand': 5538, 'woodcliff': 5539, 'kuhns': 5540, 'buoyed': 5541, 'cautiously': 5542, 'bearish': 5543, 'underpin': 5544, 'plunging': 5545, 'locked': 5546, 'narrow': 5547, 'goldinger': 5548, 'insight': 5549, 'reasons': 5550, '7770': 5551, '7756': 5552, 'dollaryen': 5553, 'driving': 5554, 'tom': 5555, 'trettien': 5556, 'banque': 5557, 'paribas': 5558, 'convinced': 5559, 'erode': 5560, '15755': 5561, '15805': 5562, '14393': 5563, '14308': 5564, 'traced': 5565, 'wave': 5566, 'waiting': 5567, 'wings': 5568, 'perception': 5569, 'vitriolic': 5570, 'mollified': 5571, 'cites': 5572, 'knight': 5573, 'undisclosed': 5574, 'forthcoming': 5575, 'yendenominated': 5576, 'speculation': 5577, 'redeeming': 5578, 'unclear': 5579, 'rolled': 5580, 'prospect': 5581, 'lock': 5582, 'unabated': 5583, 'recede': 5584, 'cues': 5585, 'merely': 5586, 'drifted': 5587, 'release': 5588, '453': 5589, 'minimal': 5590, '37420': 5591, 'ounces': 5592, '37419': 5593, 'nbc': 5594, 'huxtable': 5595, 'viewers': 5596, '187': 5597, 'considerably': 5598, 'fuming': 5599, 'ultimatum': 5600, 'persuade': 5601, 'tactics': 5602, 'midwest': 5603, 'tell': 5604, 'flooded': 5605, 'comedies': 5606, 'networks': 5607, 'preemptive': 5608, 'ac': 5609, 'nielsen': 5610, 'ri': 5611, 'raleigh': 5612, 'ky': 5613, 'renew': 5614, 'dick': 5615, 'lobo': 5616, 'wtvj': 5617, 'nbcowned': 5618, 'disappointment': 5619, 'kuvin': 5620, 'whas': 5621, 'uncomfortable': 5622, 'wu': 5623, 'atlantabased': 5624, 'conventional': 5625, 'lifeinsurance': 5626, 'nationale': 5627, 'nederlanden': 5628, 'frantic': 5629, 'revenuedesperate': 5630, 'magazines': 5631, 'cozy': 5632, 'fawning': 5633, 'articles': 5634, 'advertorial': 5635, 'downright': 5636, 'thumbing': 5637, 'billed': 5638, 'practical': 5639, 'entrepreneur': 5640, 'patricia': 5641, 'scoop': 5642, 'howto': 5643, 'topics': 5644, 'backyard': 5645, 'composting': 5646, 'explanatory': 5647, 'essays': 5648, 'happens': 5649, 'flush': 5650, 'toilet': 5651, 'hardhitting': 5652, 'whirling': 5653, 'rampage': 5654, 'supermarket': 5655, 'aisles': 5656, 'identify': 5657, 'guys': 5658, 'feature': 5659, 'deem': 5660, 'standpoint': 5661, 'alienated': 5662, 'wouldbe': 5663, 'ire': 5664, 'furious': 5665, 'microwave': 5666, 'column': 5667, 'diagram': 5668, 'arrows': 5669, 'pointing': 5670, 'polystyrene': 5671, 'foam': 5672, 'polyproplene': 5673, 'polyester': 5674, 'plastic': 5675, 'nonbiodegradable': 5676, 'landfill': 5677, 'monster': 5678, 'practicing': 5679, 'journalistic': 5680, 'fumes': 5681, 'modifications': 5682, 'portrayed': 5683, 'recyclability': 5684, 'soups': 5685, 'mike': 5686, 'ddb': 5687, 'bigtime': 5688, 'handful': 5689, 'adolph': 5690, 'coors': 5691, 'bumkins': 5692, 'relied': 5693, 'print': 5694, 'publisher': 5695, 'subscription': 5696, 'revenues': 5697, 'yearly': 5698, 'recycled': 5699, 'oldhouse': 5700, '126000': 5701, 'newsstands': 5702, '93000': 5703, 'scared': 5704, 'sleep': 5705, 'expanded': 5706, 'largely': 5707, 'ec': 5708, 'fremantle': 5709, 'supplier': 5710, 'corestates': 5711, 'earle': 5712, 'palmer': 5713, 'spiro': 5714, 'handled': 5715, 'vansant': 5716, 'dugdale': 5717, 'baltimore': 5718, 'att': 5719, 'ogilvy': 5720, 'mather': 5721, 'wpp': 5722, 'serviced': 5723, 'rentacar': 5724, 'specializes': 5725, 'replacementcar': 5726, 'rentals': 5727, 'accidents': 5728, 'avrett': 5729, 'ginsberg': 5730, 'pitches': 5731, 'consumerdriven': 5732, 'pickup': 5733, 'dropoff': 5734, 'identitymanagement': 5735, 'ketchum': 5736, 'pittsburgh': 5737, 'braun': 5738, 'investorrelations': 5739, 'marketingcommunications': 5740, '70ashare': 5741, 'pressed': 5742, 'hamilton': 5743, 'bermudabased': 5744, 'proceeds': 5745, 'apiece': 5746, 'ag': 5747, '777': 5748, 'sweetened': 5749, '963': 5750, 'assetsale': 5751, 'approximately': 5752, '620': 5753, '490': 5754, 'allocated': 5755, 'flexibility': 5756, 'leeway': 5757, 'characterizing': 5758, 'conditional': 5759, 'device': 5760, 'entrench': 5761, 'confuse': 5762, 'superior': 5763, 'asset': 5764, 'materialize': 5765, 'converted': 5766, 'bermuda': 5767, '62625': 5768, 'responding': 5769, 'steps': 5770, 'automobiles': 5771, 'equip': 5772, 'lapshoulder': 5773, 'rear': 5774, 'samuel': 5775, 'skinner': 5776, 'represents': 5777, 'milestone': 5778, 'ongoing': 5779, 'occupant': 5780, 'extension': 5781, 'equipped': 5782, 'frontseat': 5783, 'headrests': 5784, 'urging': 5785, 'carsafety': 5786, 'classed': 5787, 'actually': 5788, 'cargo': 5789, 'therefore': 5790, 'luck': 5791, 'reagan': 5792, 'address': 5793, 'chuck': 5794, 'hurley': 5795, 'highway': 5796, 'noting': 5797, 'rollover': 5798, 'crashes': 5799, 'fatalities': 5800, 'bags': 5801, 'sidecrash': 5802, 'weighing': 5803, 'pounds': 5804, 'withstand': 5805, 'unloaded': 5806, 'weight': 5807, 'depressed': 5808, 'inches': 5809, 'lap': 5810, 'phasing': 5811, 'engineer': 5812, 'autosafety': 5813, 'installing': 5814, 'fseries': 5815, 'crew': 5816, 'cab': 5817, 'pickups': 5818, 'explorer': 5819, 'sportutility': 5820, 'rail': 5821, 'enclosed': 5822, 'transporting': 5823, 'autos': 5824, 'multilevel': 5825, 'thrall': 5826, 'duchossois': 5827, 'elmhurst': 5828, 'railroad': 5829, '850': 5830, 'walters': 5831, '58yearold': 5832, 'joins': 5833, 'cement': 5834, 'milne': 5835, 'retires': 5836, 'longstanding': 5837, 'prospectively': 5838, 'conversations': 5839, 'mergerrelated': 5840, 'prevailing': 5841, 'passage': 5842, 'slump': 5843, '1216': 5844, 'lay': 5845, 'employment': 5846, 'exclusively': 5847, 'leasing': 5848, 'goody': 5849, 'payable': 5850, 'jan': 5851, 'kearny': 5852, 'njbased': 5853, 'hair': 5854, 'cosmetic': 5855, '992000': 5856, 'yearago': 5857, 'antitakeover': 5858, 'henderson': 5859, '51yearold': 5860, 'uk': 5861, 'metals': 5862, 'succeeding': 5863, 'ian': 5864, 'retiring': 5865, '110th': 5866, 'cent': 5867, 'redemption': 5868, 'proprietor': 5869, 'cellars': 5870, 'napa': 5871, 'tag': 5872, 'winemaking': 5873, 'estimation': 5874, '700': 5875, 'sauvignon': 5876, 'weighed': 5877, 'sticker': 5878, 'fastest': 5879, 'category': 5880, 'exceptional': 5881, 'perceived': 5882, 'exceedingly': 5883, 'stable': 5884, 'lafiterothschild': 5885, 'hautbrion': 5886, 'cru': 5887, 'deluxe': 5888, 'champagnes': 5889, 'dom': 5890, 'perignon': 5891, 'rarefied': 5892, 'trockenbeerenauslesen': 5893, 'rieslings': 5894, 'riserva': 5895, 'flashy': 5896, 'zoomed': 5897, 'priciest': 5898, 'releases': 5899, 'boast': 5900, 'lion': 5901, 'bottles': 5902, '80': 5903, 'smallest': 5904, 'sauternes': 5905, 'lighter': 5906, 'spectacularly': 5907, '179': 5908, 'prestige': 5909, 'cuvees': 5910, 'inching': 5911, '82': 5912, 'taittinger': 5913, 'comtes': 5914, 'encroaching': 5915, 'reds': 5916, 'rhone': 5917, 'guigal': 5918, 'cote': 5919, 'rotie': 5920, 'landonne': 5921, 'steal': 5922, 'domaine': 5923, 'precious': 5924, 'anywhere': 5925, 'commanded': 5926, 'threedigit': 5927, 'tags': 5928, '180': 5929, 'cochedury': 5930, 'cortoncharlemagne': 5931, 'angelo': 5932, 'gaja': 5933, 'barbaresco': 5934, 'piero': 5935, 'antinori': 5936, 'solaia': 5937, 'vega': 5938, 'secilia': 5939, 'unico': 5940, '10th': 5941, 'grange': 5942, 'cult': 5943, 'command': 5944, 'marty': 5945, 'happening': 5946, 'scarce': 5947, 'exhausted': 5948, '40s': 5949, '50s': 5950, '300': 5951, 'newer': 5952, 'bargain': 5953, 'ripen': 5954, 'perfectly': 5955, 'acre': 5956, 'yielded': 5957, 'al': 5958, 'brownstein': 5959, 'originally': 5960, 'retailer': 5961, 'rethought': 5962, 'check': 5963, 'yes': 5964, 'shipped': 5965, 'sixbottle': 5966, 'retailers': 5967, 'awfully': 5968, 'schaefer': 5969, 'skokie': 5970, 'suburban': 5971, 'opinions': 5972, 'sixpacks': 5973, 'thinks': 5974, 'dramatically': 5975, 'wins': 5976, 'stickershock': 5977, 'talked': 5978, 'excited': 5979, 'astronomical': 5980, 'collection': 5981, 'oneupsmanship': 5982, 'terrace': 5983, 'dunn': 5984, 'knowledgeable': 5985, 'cedric': 5986, 'cellar': 5987, 'overpriced': 5988, 'grgich': 5989, 'chardonnay': 5990, 'chardonnays': 5991, 'push': 5992, 'le': 5993, 'lowering': 5994, 'walking': 5995, 'opus': 5996, 'dominus': 5997, 'winebuying': 5998, 'holidays': 5999, 'ensrud': 6000, 'freelance': 6001, 'upward': 6002, 'moderated': 6003, 'richmond': 6004, 'posting': 6005, 'kansas': 6006, 'achieving': 6007, 'stated': 6008, 'objective': 6009, 'hopefully': 6010, 'downward': 6011, '025': 6012, '875': 6013, 'shown': 6014, 'bigticket': 6015, 'divided': 6016, 'presidents': 6017, 'resisting': 6018, 'excesses': 6019, 'tilt': 6020, 'integraa': 6021, 'mailing': 6022, '135': 6023, '1993': 6024, '235': 6025, 'hotels': 6026, 'steelmaker': 6027, '445': 6028, 'shelby': 6029, 'steelworkers': 6030, '3057': 6031, 'tube': 6032, 'expired': 6033, 'reject': 6034, 'pact': 6035, '230215': 6036, 'stoppage': 6037, 'postponed': 6038, 'autions': 6039, 'rescheduled': 6040, 'partisan': 6041, 'bickering': 6042, 'entangled': 6043, 'fails': 6044, 'disruption': 6045, 'schedule': 6046, 'taxpayer': 6047, 'nicholas': 6048, 'brady': 6049, 'imperative': 6050, 'redeem': 6051, 'maturing': 6052, 'refunding': 6053, 'threeyear': 6054, '2019': 6055, '36day': 6056, 'whenissued': 6057, 'approves': 6058, 'clearing': 6059, '256': 6060, '219': 6061, 'fiveyear': 6062, 'decides': 6063, 'foods': 6064, 'marketer': 6065, 'frozen': 6066, 'noodles': 6067, 'precooked': 6068, 'pasta': 6069, 'clive': 6070, 'advantage': 6071, 'finished': 6072, '264590': 6073, 'advancing': 6074, 'tidily': 6075, '644': 6076, 'enthusiasm': 6077, '318': 6078, 'evaporated': 6079, 'rushed': 6080, 'sight': 6081, 'beige': 6082, '1542': 6083, '788': 6084, 'mining': 6085, 'smelting': 6086, '5276': 6087, '369': 6088, '3253': 6089, '4898': 6090, '1457': 6091, '200': 6092, 'supplies': 6093, 'restructure': 6094, 'rebuffed': 6095, 'proposals': 6096, 'reviewed': 6097, 'regarding': 6098, 'combinations': 6099, 'eliminated': 6100, 'proof': 6101, 'aggressive': 6102, 'clamped': 6103, 'ankle': 6104, 'bull': 6105, '99': 6106, 'twothirds': 6107, 'surprised': 6108, 'cited': 6109, '175': 6110, '5125': 6111, '2275': 6112, 'landis': 6113, 'proposing': 6114, 'subordinated': 6115, 'junkbond': 6116, 'collapsed': 6117, 'lessening': 6118, 'likelihood': 6119, 'hundred': 6120, 'agreeing': 6121, 'satrum': 6122, 'spurns': 6123, 'solicitation': 6124, 'replacing': 6125, 'nominal': 6126, '461': 6127, '2512': 6128, '2787': 6129, 'licensing': 6130, 'representing': 6131, 'challenging': 6132, 'westport': 6133, 'punitive': 6134, 'researcher': 6135, '1960s': 6136, 'combat': 6137, 'patented': 6138, 'licensed': 6139, 'brunswick': 6140, 'criticism': 6141, 'skittishness': 6142, 'color': 6143, 'unfettered': 6144, 'removal': 6145, 'perceives': 6146, 'heated': 6147, 'stirred': 6148, 'impediments': 6149, 'initiative': 6150, 'rhetoric': 6151, 'informally': 6152, 'impending': 6153, 'directinvestment': 6154, 'fret': 6155, 'rancor': 6156, 'nervousness': 6157, 'devoted': 6158, 'briefing': 6159, 'journalists': 6160, 'vitally': 6161, 'emotions': 6162, 'taizo': 6163, 'watanabe': 6164, 'escalated': 6165, 'cocacola': 6166, 'midtown': 6167, 'fuel': 6168, 'fires': 6169, 'discontent': 6170, 'stoked': 6171, 'publicized': 6172, 'boone': 6173, 'oilman': 6174, '262': 6175, 'automotivelighting': 6176, 'asserting': 6177, 'greenmailer': 6178, 'texan': 6179, 'lloyd': 6180, 'bentsen': 6181, 'highlight': 6182, 'disproportionate': 6183, 'table': 6184, 'structures': 6185, 'litany': 6186, 'recommendations': 6187, 'clarified': 6188, 'retort': 6189, 'concessions': 6190, 'clarify': 6191, 'exactly': 6192, 'sorting': 6193, 'specifics': 6194, 'quick': 6195, 'crossed': 6196, 'gauging': 6197, 'sheaf': 6198, 'elisabeth': 6199, 'rubinfien': 6200, 'improves': 6201, 'wayland': 6202, 'sights': 6203, 'myriad': 6204, 'penetrate': 6205, 'tiny': 6206, 'jointventure': 6207, 'guided': 6208, 'bureaucratic': 6209, 'maze': 6210, 'secured': 6211, 'kidney': 6212, 'stones': 6213, 'treats': 6214, 'skin': 6215, 'lesions': 6216, 'count': 6217, 'olsen': 6218, 'milked': 6219, 'bankroll': 6220, 'promising': 6221, 'putting': 6222, '214': 6223, 'heightened': 6224, 'acceleration': 6225, 'conspicuous': 6226, 'penetration': 6227, 'feed': 6228, 'anxieties': 6229, 'lowtech': 6230, 'fancy': 6231, 'warrenton': 6232, 'va': 6233, 'fabricator': 6234, 'architectural': 6235, 'foundering': 6236, 'chiefly': 6237, 'window': 6238, 'ichiro': 6239, 'merchandise': 6240, 'inside': 6241, 'nisshoiwai': 6242, 'counterpart': 6243, 'vertically': 6244, 'feudal': 6245, 'globally': 6246, 'commodities': 6247, 'ships': 6248, 'sogoshosha': 6249, 'usa': 6250, 'takeshi': 6251, 'kondo': 6252, 'ventures': 6253, 'tradingcompany': 6254, 'goal': 6255, 'objectives': 6256, 'logjam': 6257, 'smallcompany': 6258, 'businessman': 6259, 'davies': 6260, 'alliance': 6261, 'queuing': 6262, 'unsympathetic': 6263, 'relation': 6264, 'generate': 6265, 'ai': 6266, 'departure': 6267, 'fueling': 6268, 'airlines': 6269, 'airports': 6270, 'omitted': 6271, 'duties': 6272, 'assumed': 6273, 'langner': 6274, 'genie': 6275, 'convenient': 6276, 'highbalance': 6277, 'pine': 6278, 'crown': 6279, 'safe': 6280, 'qualify': 6281, 'competed': 6282, 'bundling': 6283, 'population': 6284, 'segmenting': 6285, 'anne': 6286, 'ncnb': 6287, 'connections': 6288, 'adults': 6289, 'preapproved': 6290, 'throws': 6291, 'cashflow': 6292, 'saving': 6293, 'planters': 6294, 'memphis': 6295, 'tenn': 6296, 'edge': 6297, 'thirtysomething': 6298, 'crowd': 6299, 'borrowed': 6300, 'aiming': 6301, 'elderly': 6302, 'demographic': 6303, 'stepped': 6304, 'judie': 6305, 'jacksonville': 6306, 'subsegments': 6307, 'tailoring': 6308, 'styles': 6309, 'lifestyle': 6310, 'create': 6311, 'submarkets': 6312, 'branches': 6313, 'athletic': 6314, 'travel': 6315, '55yearold': 6316, 'games': 6317, '75yearold': 6318, 'panama': 6319, '1973': 6320, 'wells': 6321, 'fargo': 6322, 'safedeposit': 6323, 'travelers': 6324, 'begot': 6325, 'slew': 6326, 'copycats': 6327, 'promoting': 6328, 'margins': 6329, 'computerize': 6330, 'niches': 6331, 'profitable': 6332, 'mid1970s': 6333, 'emphasis': 6334, 'switched': 6335, 'enabling': 6336, 'analyze': 6337, '1970s': 6338, 'highrate': 6339, 'cds': 6340, 'passbook': 6341, 'certificates': 6342, 'interestbearing': 6343, 'staggering': 6344, 'bigger': 6345, 'norwest': 6346, 'marketshare': 6347, 'battles': 6348, 'worrying': 6349, 'moneycenter': 6350, 'scrambling': 6351, 'cultivated': 6352, 'savvier': 6353, 'fragmentation': 6354, 'attracting': 6355, 'ratesensitive': 6356, 'rewarding': 6357, 'bulk': 6358, 'captive': 6359, 'audience': 6360, 'loyal': 6361, 'borrowers': 6362, 'saversinvestors': 6363, 'drawbacks': 6364, 'personnel': 6365, 'promotional': 6366, 'chemplus': 6367, 'flourish': 6368, 'demanding': 6369, 'tailored': 6370, 'direction': 6371, 'boutique': 6372, 'iras': 6373, 'amend': 6374, 'delete': 6375, '500000': 6376, 'chandler': 6377, 'ariz': 6378, 'resubmit': 6379, 'exercisable': 6380, 'develops': 6381, 'lowcost': 6382, 'hawaiian': 6383, 'vacation': 6384, 'necklace': 6385, 'lasting': 6386, 'pocket': 6387, 'teetering': 6388, 'insolvency': 6389, 'demise': 6390, 'needy': 6391, 'solvent': 6392, 'performing': 6393, 'gift': 6394, 'doors': 6395, 'joy': 6396, 'lewis': 6397, 'ranieri': 6398, 'builds': 6399, 'self': 6400, 'sufficiency': 6401, 'critical': 6402, 'delay': 6403, 'worse': 6404, 'midsize': 6405, 'semesters': 6406, 'rap': 6407, 'sagging': 6408, 'morale': 6409, 'baris': 6410, 'mercantile': 6411, 'stemming': 6412, 'slides': 6413, 'halts': 6414, 'emergencies': 6415, 'reinstating': 6416, 'arguing': 6417, '150point': 6418, '20point': 6419, '315': 6420, 'tumultuous': 6421, 'skidded': 6422, 'hitting': 6423, 'existing': 6424, '30minute': 6425, 'equal': 6426, 'leo': 6427, 'melamed': 6428, 'lessen': 6429, 'panic': 6430, 'reopened': 6431, 'subsequent': 6432, 'flood': 6433, 'knocked': 6434, 'intermediate': 6435, 'synchronized': 6436, 'circuitbreaker': 6437, 'aggravated': 6438, 'directing': 6439, 'respite': 6440, 'selloffs': 6441, 'maximum': 6442, 'modification': 6443, 'lapses': 6444, 'congressmen': 6445, 'executing': 6446, 'manually': 6447, 'posthearing': 6448, 'volatility': 6449, 'comfortable': 6450, 'capitol': 6451, 'legislators': 6452, 'shut': 6453, 'volatile': 6454, 'breeden': 6455, 'breakers': 6456, 'preset': 6457, 'vague': 6458, 'mushy': 6459, 'viewpoints': 6460, 'angered': 6461, 'sensitive': 6462, 'happy': 6463, 'writing': 6464, 'discussed': 6465, 'annoyed': 6466, 'congressman': 6467, 'fifteen': 6468, 'attended': 6469, 'let': 6470, 'jurisdictional': 6471, 'regulating': 6472, 'regulated': 6473, 'agriculture': 6474, 'committees': 6475, 'peculiar': 6476, 'peculiarities': 6477, 'unintelligible': 6478, 'tailors': 6479, 'evoke': 6480, 'loveliest': 6481, 'stone': 6482, 'cascading': 6483, 'calling': 6484, 'faithful': 6485, 'evensong': 6486, 'parishioners': 6487, 'angels': 6488, 'chat': 6489, 'rhythmically': 6490, 'sounded': 6491, '1614': 6492, 'discordant': 6493, 'modern': 6494, 'churchgoers': 6495, 'enjoying': 6496, 'cool': 6497, 'autumn': 6498, 'herald': 6499, 'derek': 6500, 'octogenarians': 6501, 'sometimesexhausting': 6502, 'sounding': 6503, 'belfries': 6504, 'anglia': 6505, 'scrape': 6506, 'waterauthority': 6507, 'dances': 6508, 'drift': 6509, 'flightiness': 6510, 'diminish': 6511, 'anglian': 6512, 'pealing': 6513, 'nationwide': 6514, 'sundays': 6515, 'tunes': 6516, 'carillons': 6517, 'continental': 6518, 'childish': 6519, 'mindboggling': 6520, 'physical': 6521, 'dexterity': 6522, 'weigh': 6523, 'ton': 6524, 'concentration': 6525, 'proper': 6526, 'rounds': 6527, 'highestpitched': 6528, 'descending': 6529, 'altering': 6530, 'rhythm': 6531, 'variation': 6532, 'memorize': 6533, 'methods': 6534, 'oddsounding': 6535, 'treble': 6536, 'grandsire': 6537, 'caters': 6538, 'kensington': 6539, 'ten': 6540, 'shirtsleeved': 6541, 'prizefighter': 6542, 'pulling': 6543, 'rope': 6544, 'disappears': 6545, 'hole': 6546, 'snaking': 6547, 'muffled': 6548, 'totally': 6549, 'absorbed': 6550, 'stare': 6551, 'vision': 6552, 'ropesight': 6553, 'thus': 6554, 'pulls': 6555, 'bronze': 6556, 'wheels': 6557, 'madly': 6558, '360': 6559, 'inverted': 6560, 'mouthup': 6561, 'skilled': 6562, 'wrists': 6563, 'retard': 6564, 'wellknown': 6565, 'detectivestory': 6566, 'novelist': 6567, 'finds': 6568, 'satisfaction': 6569, 'mathematical': 6570, 'completeness': 6571, 'perfection': 6572, 'filled': 6573, 'solemn': 6574, 'intoxication': 6575, 'intricate': 6576, 'ritual': 6577, 'faultlessly': 6578, 'obsession': 6579, 'pattenden': 6580, 'stays': 6581, 'stuck': 6582, 'sweat': 6583, 'skip': 6584, 'pub': 6585, 'sit': 6586, 'clerics': 6587, 'steadily': 6588, 'dwindling': 6589, 'pressing': 6590, 'nonreligious': 6591, 'rev': 6592, 'jeremy': 6593, 'sacked': 6594, 'promptly': 6595, 'selfperpetuating': 6596, 'premises': 6597, 'eight': 6598, 'ilminster': 6599, 'somerset': 6600, 'dustup': 6601, 'attendance': 6602, 'wd': 6603, 'refuses': 6604, 'reopen': 6605, 'wound': 6606, 'cjb': 6607, 'stairs': 6608, 'altar': 6609, 'obvious': 6610, 'exit': 6611, 'prayer': 6612, 'feelings': 6613, 'bellringer': 6614, 'drawn': 6615, 'fuller': 6616, 'aims': 6617, 'speak': 6618, 'theological': 6619, 'colleges': 6620, 'joys': 6621, 'publish': 6622, 'booklet': 6623, 'entitled': 6624, 'attacking': 6625, 'bellringers': 6626, '40000': 6627, 'parishes': 6628, 'innercity': 6629, 'lucky': 6630, 'maledominated': 6631, 'everywhere': 6632, 'bellringing': 6633, 'youths': 6634, '1637': 6635, 'maleonly': 6636, 'galling': 6637, 'sole': 6638, 'cathedral': 6639, 'westminster': 6640, 'abbey': 6641, 'equalopportunity': 6642, 'weekly': 6643, 'signing': 6644, 'redblooded': 6645, 'balanced': 6646, 'frequency': 6647, 'fainting': 6648, 'tea': 6649, 'torrent': 6650, 'solihull': 6651, 'observed': 6652, 'desired': 6653, 'dressed': 6654, 'decorated': 6655, 'beerbelly': 6656, 'unwashed': 6657, 'unbearably': 6658, 'flatulent': 6659, 'sheffield': 6660, 'faint': 6661, 'bless': 6662, 'unsettled': 6663, 'comfort': 6664, 'predictable': 6665, 'arrival': 6666, 'breathe': 6667, 'warn': 6668, 'strongest': 6669, 'trap': 6670, 'unwary': 6671, 'bernstein': 6672, 'quantitative': 6673, 'merrill': 6674, 'lynch': 6675, 'widow': 6676, 'spiders': 6677, 'males': 6678, 'kill': 6679, 'mating': 6680, 'robustly': 6681, 'invariably': 6682, 'hospitable': 6683, 'cyclical': 6684, 'peaks': 6685, '500stock': 6686, 'sliding': 6687, 'trends': 6688, 'smartly': 6689, 'advances': 6690, 'unenticing': 6691, 'exits': 6692, 'sustained': 6693, 'rebound': 6694, 'pushes': 6695, 'tanked': 6696, 'exception': 6697, 'hint': 6698, 'escaped': 6699, 'debacle': 6700, '1933': 6701, '1961': 6702, '1965': 6703, '1968': 6704, '1971': 6705, 'sharp': 6706, 'troublesome': 6707, 'behaving': 6708, 'philadelphiabased': 6709, 'insurer': 6710, 'cochairman': 6711, 'tad': 6712, 'singledigit': 6713, 'weakening': 6714, 'forecasting': 6715, 'slowdowns': 6716, 'doerflinger': 6717, 'argument': 6718, 'wherewithal': 6719, 'declare': 6720, 'weaken': 6721, 'bulls': 6722, 'expenditures': 6723, 'trailed': 6724, 'slippage': 6725, 'harbinger': 6726, 'deliver': 6727, 'appreciation': 6728, 'vs': 6729, 'element': 6730, 'outlook': 6731, 'upside': 6732, 'alexander': 6733, 'graham': 6734, 'invention': 6735, 'supposedly': 6736, 'replace': 6737, 'fatherinlaw': 6738, 'gardner': 6739, 'hubbard': 6740, 'wealthy': 6741, 'wellconnected': 6742, 'sued': 6743, 'grandfather': 6744, 'emile': 6745, 'princely': 6746, 'infringed': 6747, 'established': 6748, 'caveat': 6749, 'enter': 6750, 'discontinuing': 6751, 'quarters': 6752, '266': 6753, '176': 6754, 'commit': 6755, 'structurally': 6756, 'radically': 6757, 'servicing': 6758, 'wordprocessing': 6759, 'legend': 6760, 'lacked': 6761, 'hired': 6762, '93': 6763, 'historic': 6764, 'rapprochement': 6765, 'spoke': 6766, 'length': 6767, 'nowhere': 6768, 'easing': 6769, 'strains': 6770, 'afflicted': 6771, 'sinous': 6772, 'bloody': 6773, 'suppression': 6774, 'prodemocracy': 6775, 'harped': 6776, 'outrage': 6777, 'massacre': 6778, 'interference': 6779, 'proponent': 6780, 'peaceful': 6781, 'phrase': 6782, 'seduce': 6783, 'socialist': 6784, 'capitalist': 6785, 'sphere': 6786, 'tension': 6787, 'evident': 6788, 'banquet': 6789, 'reciting': 6790, 'platitudes': 6791, 'eternal': 6792, 'friendship': 6793, 'reminded': 6794, 'shangkun': 6795, 'assault': 6796, 'crackdown': 6797, 'ordering': 6798, 'respect': 6799, 'undiplomatic': 6800, 'fashion': 6801, 'killings': 6802, 'prominently': 6803, 'demonstrations': 6804, 'deng': 6805, 'xiaoping': 6806, 'speaking': 6807, 'deeply': 6808, 'turmoil': 6809, 'counterrevolutionary': 6810, 'rebellion': 6811, 'occurred': 6812, 'reprove': 6813, 'mend': 6814, 'deteriorated': 6815, 'chineseamerican': 6816, 'dissident': 6817, 'lizhi': 6818, 'wife': 6819, 'shuxian': 6820, 'refuge': 6821, 'afterwards': 6822, 'antichina': 6823, 'highlevel': 6824, 'codified': 6825, 'traveling': 6826, 'citizen': 6827, 'unofficial': 6828, 'envoy': 6829, 'brent': 6830, 'scowcroft': 6831, 'saturday': 6832, 'toplevel': 6833, 'participation': 6834, 'fulbright': 6835, 'governmentfunded': 6836, 'pulled': 6837, 'acknowledge': 6838, 'welcome': 6839, 'infusion': 6840, 'contacts': 6841, 'borders': 6842, 'sdi': 6843, 'weapon': 6844, 'shoot': 6845, 'minor': 6846, 'concession': 6847, 'premier': 6848, 'peng': 6849, 'hoped': 6850, 'encounter': 6851, 'guns': 6852, 'arrived': 6853, 'machineguntoting': 6854, 'blocks': 6855, 'ambassador': 6856, 'residence': 6857, 'encircling': 6858, 'discarded': 6859, 'uzimodel': 6860, 'pistols': 6861, 'contingent': 6862, 'plainclothes': 6863, 'unmarked': 6864, 'soldiers': 6865, 'protests': 6866, 'diplomats': 6867, 'clicked': 6868, 'loaded': 6869, 'graduates': 6870, 'accusing': 6871, 'jeopardizing': 6872, 'barking': 6873, 'tree': 6874, 'passing': 6875, 'buck': 6876, 'everything': 6877, 'volunteer': 6878, 'unethical': 6879, 'highersalaried': 6880, 'unfortunately': 6881, 'compensation': 6882, 'impression': 6883, 'harder': 6884, 'visited': 6885, 'images': 6886, 'changing': 6887, 'perceptions': 6888, 'vacations': 6889, 'accept': 6890, 'hiroshi': 6891, 'asada': 6892, 'barbara': 6893, 'regrettable': 6894, 'negatives': 6895, 'liberals': 6896, 'progressive': 6897, 'prof': 6898, 'ethel': 6899, 'klein': 6900, 'puts': 6901, '76': 6902, 'favorable': 6903, 'voters': 6904, 'disapprove': 6905, 'spouse': 6906, 'imply': 6907, 'threequarters': 6908, 'assumption': 6909, 'distasteful': 6910, 'newsworthy': 6911, 'perpetuates': 6912, 'insidious': 6913, 'stereotyped': 6914, 'perspective': 6915, 'defined': 6916, 'denominator': 6917, 'preston': 6918, 'birmingham': 6919, 'selfregulatory': 6920, 'disciplined': 6921, 'fernando': 6922, 'marina': 6923, 'rey': 6924, 'telephoneinformation': 6925, 'improper': 6926, 'lauderhill': 6927, 'plantation': 6928, 'delwin': 6929, 'mount': 6930, 'clemens': 6931, 'glenn': 6932, 'recordkeeping': 6933, 'inaccurately': 6934, 'weatherly': 6935, 'principals': 6936, 'dell': 6937, 'keehn': 6938, 'northy': 6939, 'prater': 6940, 'mercer': 6941, 'island': 6942, 'wash': 6943, 'implication': 6944, 'inappropriate': 6945, 'timing': 6946, 'rectified': 6947, 'wn': 6948, 'n': 6949, 'transacting': 6950, 'differ': 6951, 'meaning': 6952, 'markup': 6953, 'markdown': 6954, '62owned': 6955, 'express': 6956, 'timely': 6957, 'requests': 6958, 'andrew': 6959, 'derel': 6960, 'adams': 6961, 'killeen': 6962, 'angier': 6963, 'reddington': 6964, 'shores': 6965, 'stirlen': 6966, 'fred': 6967, 'bonnell': 6968, 'boorse': 6969, 'horsham': 6970, 'chiodo': 6971, 'camille': 6972, 'chafic': 6973, 'cotran': 6974, 'davis': 6975, 'colonsville': 6976, '200000': 6977, 'jeffrey': 6978, 'gerard': 6979, 'dompierre': 6980, 'valrico': 6981, '16072': 6982, 'marion': 6983, 'stewart': 6984, 'spitler': 6985, '18444': 6986, 'amounted': 6987, 'parking': 6988, 'ticket': 6989, 'complaining': 6990, 'sizable': 6991, 'anybody': 6992, 'fishman': 6993, 'longwood': 6994, 'floyd': 6995, 'bronx': 6996, 'amin': 6997, 'jalaalwalikraam': 6998, 'glenham': 6999, 'knapp': 7000, 'deborah': 7001, 'renee': 7002, 'muscolina': 7003, 'palisades': 7004, 'najarian': 7005, 'minn': 7006, 'norwick': 7007, 'nesconset': 7008, 'phipps': 7009, 'sr': 7010, 'scott': 7011, 'rankin': 7012, 'leigh': 7013, 'sanderoff': 7014, 'gaithersburg': 7015, 'md': 7016, '45000': 7017, '12252': 7018, 'sandra': 7019, 'ann': 7020, 'ridgefield': 7021, 'spence': 7022, 'aloha': 7023, 'ore': 7024, 'mona': 7025, 'sun': 7026, 'jamaica': 7027, 'estates': 7028, 'swearingen': 7029, 'bew': 7030, 'wong': 7031, 'rabia': 7032, 'zayed': 7033, 'veselich': 7034, 'enright': 7035, 'rolling': 7036, '11762': 7037, 'stuart': 7038, 'russel': 7039, 'glendale': 7040, '14821': 7041, 'nilson': 7042, 'fountain': 7043, '82389': 7044, 'screwed': 7045, 'breaking': 7046, 'agents': 7047, 'reps': 7048, 'compliance': 7049, 'securitytype': 7050, 'mistakes': 7051, 'cole': 7052, 'jackson': 7053, 'rita': 7054, 'rae': 7055, 'cross': 7056, 'denver': 7057, 'meinders': 7058, 'fiveday': 7059, 'eightmonth': 7060, 'onemonth': 7061, 'karl': 7062, 'hale': 7063, 'midvale': 7064, 'utah': 7065, 'clinton': 7066, 'hayne': 7067, 'oneweek': 7068, 'kane': 7069, 'coconut': 7070, '250000': 7071, 'merrick': 7072, 'miller': 7073, 'randolph': 7074, '90day': 7075, 'brian': 7076, 'pitcher': 7077, 'russo': 7078, 'bridgeville': 7079, '15day': 7080, 'orville': 7081, 'leroy': 7082, 'sandberg': 7083, '3500': 7084, 'marchese': 7085, 'eric': 7086, 'monchecourt': 7087, 'gerhard': 7088, 'carson': 7089, 'actively': 7090, 'engaged': 7091, 'fond': 7092, 'blocked': 7093, 'emigrate': 7094, 'computerdriven': 7095, 'plays': 7096, 'hurdles': 7097, 'loom': 7098, 'resist': 7099, 'onslaught': 7100, 'shrug': 7101, 'furor': 7102, 'marching': 7103, 'abroad': 7104, 'overlap': 7105, 'americanstyle': 7106, 'exploit': 7107, '116': 7108, 'imagine': 7109, 'racing': 7110, 'chicagostyle': 7111, 'cope': 7112, 'makato': 7113, 'utsumi': 7114, 'homemarket': 7115, 'osaka': 7116, 'wary': 7117, 'forgotten': 7118, 'bout': 7119, 'foreignled': 7120, 'drove': 7121, 'skyward': 7122, 'mechanisms': 7123, 'operators': 7124, 'suspend': 7125, 'maybe': 7126, 'tightened': 7127, 'indexrelated': 7128, 'catchup': 7129, 'reaped': 7130, 'chunk': 7131, 'deryck': 7132, 'wadsworth': 7133, 'ascribe': 7134, 'futuresrelated': 7135, 'strategies': 7136, 'disruptive': 7137, 'liquid': 7138, 'impact': 7139, 'serves': 7140, 'conduit': 7141, 'attractions': 7142, 'counter': 7143, 'tapes': 7144, 'unwind': 7145, 'begins': 7146, 'privacy': 7147, 'brokerage': 7148, 'barfield': 7149, 'assurance': 7150, 'manages': 7151, '2372': 7152, 'timesstock': 7153, '100share': 7154, 'tenfold': 7155, '9118': 7156, '4645': 7157, '917': 7158, 'indexoptions': 7159, 'compares': 7160, 'derivatives': 7161, '38237': 7162, 'backed': 7163, 'replete': 7164, 'proponents': 7165, '90centanhour': 7166, 'opponents': 7167, 'reflected': 7168, 'republicans': 7169, 'bend': 7170, 'lifting': 7171, 'fouryear': 7172, 'enacted': 7173, '265': 7174, 'smiles': 7175, 'pat': 7176, 'mont': 7177, 'marge': 7178, 'acceptance': 7179, 'administrations': 7180, 'sought': 7181, 'adopting': 7182, 'trainingwage': 7183, 'nickel': 7184, 'diming': 7185, 'lately': 7186, 'touted': 7187, 'impart': 7188, 'entrants': 7189, 'democrats': 7190, 'fought': 7191, 'acceded': 7192, 'insistence': 7193, '361': 7194, 'restriction': 7195, 'governmentcertified': 7196, 'unrestricted': 7197, 'mininumwage': 7198, 'impossible': 7199, 'elimination': 7200, '534': 7201, 'navy': 7202, 'microcomputers': 7203, '84month': 7204, 'rockwell': 7205, '1307': 7206, 'ac130u': 7207, 'gunship': 7208, 'replacement': 7209, 'marietta': 7210, '299': 7211, 'lowaltitude': 7212, 'navigation': 7213, '294': 7214, 'mode': 7215, 'gentle': 7216, 'hardcharging': 7217, 'teddy': 7218, 'roosevelt': 7219, '62yearold': 7220, 'forestproduct': 7221, 'unsolicited': 7222, '319': 7223, 'cold': 7224, 'negotiated': 7225, 'entice': 7226, 'negotiating': 7227, 'surrender': 7228, 'tough': 7229, 'completion': 7230, 'opens': 7231, 'implies': 7232, 'dilemma': 7233, 'overpaying': 7234, 'fold': 7235, 'courage': 7236, 'longtime': 7237, 'griffin': 7238, 'wtd': 7239, 'insiders': 7240, 'onto': 7241, 'picked': 7242, 'careful': 7243, 'polytechnic': 7244, 'universities': 7245, 'strother': 7246, 'researching': 7247, 'willingness': 7248, '1970': 7249, 'arrest': 7250, 'protesters': 7251, 'occupying': 7252, 'impressed': 7253, 'fundraising': 7254, 'enticed': 7255, 'joining': 7256, 'befuddled': 7257, 'administrator': 7258, 'transition': 7259, 'swiftly': 7260, 'demonstrating': 7261, 'raw': 7262, 'possessed': 7263, 'son': 7264, 'skipped': 7265, 'classmates': 7266, 'graduated': 7267, 'phi': 7268, 'beta': 7269, 'kappa': 7270, 'kentucky': 7271, 'doctorate': 7272, 'physics': 7273, 'retentive': 7274, 'understatement': 7275, 'photographic': 7276, 'engineered': 7277, 'turnaround': 7278, 'inherited': 7279, 'recessioninspired': 7280, 'buildingproducts': 7281, 'noncore': 7282, 'vinyl': 7283, 'checkbook': 7284, 'refocusing': 7285, 'repair': 7286, 'remodeling': 7287, 'cycles': 7288, 'formula': 7289, '95': 7290, 'reins': 7291, '467': 7292, 'attributes': 7293, 'philosophy': 7294, 'concentrating': 7295, 'diversified': 7296, 'impressive': 7297, 'diversification': 7298, 'match': 7299, 'highquality': 7300, 'forestproducts': 7301, 'waters': 7302, 'kathryn': 7303, 'mcauley': 7304}\n"
          ]
        }
      ]
    },
    {
      "cell_type": "markdown",
      "source": [
        "##Glove"
      ],
      "metadata": {
        "id": "vH7FiRJanzQG"
      }
    },
    {
      "cell_type": "markdown",
      "source": [
        "\n",
        "*   Loading pre-trained dense word embedding: Glove.\n",
        "*   Handling OOV words.\n",
        "\n",
        "\n",
        "\n",
        "\n"
      ],
      "metadata": {
        "id": "92d15Xzr4qAn"
      }
    },
    {
      "cell_type": "code",
      "source": [
        "import gensim\n",
        "import gensim.downloader as gloader\n",
        "\n",
        "def load_embedding_model(model_type: str,\n",
        "                         embedding_dimension: int = 50) -> gensim.models.keyedvectors.KeyedVectors:\n",
        "    \"\"\"\n",
        "    Loads a pre-trained word embedding model via gensim library.\n",
        "\n",
        "    :param model_type: name of the word embedding model to load.\n",
        "    :param embedding_dimension: size of the embedding space to consider\n",
        "\n",
        "    :return\n",
        "        - pre-trained word embedding model (gensim KeyedVectors object)\n",
        "    \"\"\"\n",
        "    download_path = \"\"\n",
        "    if model_type.strip().lower() == 'word2vec':\n",
        "        download_path = \"word2vec-google-news-300\"\n",
        "\n",
        "    elif model_type.strip().lower() == 'glove':\n",
        "        download_path = \"glove-wiki-gigaword-{}\".format(embedding_dimension)\n",
        "    elif model_type.strip().lower() == 'fasttext':\n",
        "        download_path = \"fasttext-wiki-news-subwords-300\"\n",
        "    else:\n",
        "        raise AttributeError(\"Unsupported embedding model type! Available ones: word2vec, glove, fasttext\")\n",
        "        \n",
        "    try:\n",
        "        emb_model = gloader.load(download_path)\n",
        "    except ValueError as e:\n",
        "        print(\"Invalid embedding model name! Check the embedding dimension:\")\n",
        "        print(\"Word2Vec: 300\")\n",
        "        print(\"Glove: 50, 100, 200, 300\")\n",
        "        print('FastText: 300')\n",
        "        raise e\n",
        "\n",
        "    return emb_model"
      ],
      "metadata": {
        "id": "UZBrvzL8t6_U"
      },
      "execution_count": 26,
      "outputs": []
    },
    {
      "cell_type": "code",
      "source": [
        "# Modify these variables as you wish!\n",
        "# Glove -> 50, 100, 200, 300\n",
        "# Word2Vec -> 300\n",
        "# Fasttext -> 300\n",
        "embedding_model = load_embedding_model(model_type=\"glove\",\n",
        "                                       embedding_dimension=50)"
      ],
      "metadata": {
        "id": "2hPJ_neS5Vxd",
        "colab": {
          "base_uri": "https://localhost:8080/"
        },
        "outputId": "71f63fae-8948-4d7b-82da-18c55d27ee6a"
      },
      "execution_count": 27,
      "outputs": [
        {
          "output_type": "stream",
          "name": "stdout",
          "text": [
            "[==================================================] 100.0% 66.0/66.0MB downloaded\n"
          ]
        }
      ]
    },
    {
      "cell_type": "markdown",
      "source": [
        "Define the embedding matrix."
      ],
      "metadata": {
        "id": "zYWHS267ohxZ"
      }
    },
    {
      "cell_type": "code",
      "source": [
        "from tqdm import tqdm\n",
        "\n",
        "def build_embedding_matrix(embedding_model: gensim.models.keyedvectors.KeyedVectors,\n",
        "                           embedding_dimension: int,\n",
        "                           word_to_idx,\n",
        "                           vocab_size: int) -> np.ndarray:\n",
        "    \"\"\"\n",
        "    Builds the embedding matrix of a specific dataset given a pre-trained word embedding model\n",
        "\n",
        "    :param embedding_model: pre-trained word embedding model (gensim wrapper)\n",
        "    :param word_to_idx: vocabulary map (word -> index) (dict)\n",
        "    :param vocab_size: size of the vocabulary\n",
        "    \n",
        "\n",
        "    :return\n",
        "        - embedding matrix that assigns a high dimensional vector to each word in the dataset specific vocabulary (shape |V| x d)\n",
        "    \"\"\"\n",
        "    embedding_matrix = np.zeros((vocab_size, embedding_dimension), dtype=np.float32)\n",
        "    for word, idx in tqdm(word_to_idx.items()):\n",
        "        try:\n",
        "            embedding_vector = embedding_model[word]\n",
        "        except (KeyError, TypeError):\n",
        "            embedding_vector = np.random.uniform(low=-0.05, high=0.05, size=embedding_dimension)\n",
        "\n",
        "        embedding_matrix[idx] = embedding_vector\n",
        "\n",
        "    return embedding_matrix"
      ],
      "metadata": {
        "id": "xpBaqwkd5axM"
      },
      "execution_count": 30,
      "outputs": []
    },
    {
      "cell_type": "code",
      "source": [
        "# Testing\n",
        "embedding_dimension = 50\n",
        "vocab_size = len(word_to_index) + 1\n",
        "embedding_matrix = build_embedding_matrix(embedding_model, embedding_dimension, word_to_index, vocab_size )\n",
        "print(f\"Embedding matrix shape: {embedding_matrix.shape}\")"
      ],
      "metadata": {
        "colab": {
          "base_uri": "https://localhost:8080/"
        },
        "id": "nYYqz59Ilmem",
        "outputId": "f903e0f1-b966-4c00-820f-bc415a79e6ef"
      },
      "execution_count": 31,
      "outputs": [
        {
          "output_type": "stream",
          "name": "stderr",
          "text": [
            "100%|██████████| 7304/7304 [00:00<00:00, 196111.70it/s]"
          ]
        },
        {
          "output_type": "stream",
          "name": "stdout",
          "text": [
            "Embedding matrix shape: (7305, 50)\n"
          ]
        },
        {
          "output_type": "stream",
          "name": "stderr",
          "text": [
            "\n"
          ]
        }
      ]
    },
    {
      "cell_type": "markdown",
      "source": [
        "Define a label encoder for the target class."
      ],
      "metadata": {
        "id": "BLiAw26WqhqF"
      }
    },
    {
      "cell_type": "code",
      "source": [
        "from sklearn.preprocessing import LabelEncoder\n",
        "\n",
        "le = LabelEncoder()\n",
        "dfc_train['encoded_label'] = le.fit_transform(dfc_train['label'])\n",
        "dfc_val['encoded_label'] = le.transform(dfc_val['label'])\n",
        "dfc_test['encoded_label'] = le.transform(dfc_test['label'])"
      ],
      "metadata": {
        "id": "54XQt_rz6fgv",
        "colab": {
          "base_uri": "https://localhost:8080/"
        },
        "outputId": "4b059258-a01b-4785-981c-e3664e5ae3e0"
      },
      "execution_count": 32,
      "outputs": [
        {
          "output_type": "stream",
          "name": "stderr",
          "text": [
            "<ipython-input-32-0164e3de4b87>:4: SettingWithCopyWarning: \n",
            "A value is trying to be set on a copy of a slice from a DataFrame.\n",
            "Try using .loc[row_indexer,col_indexer] = value instead\n",
            "\n",
            "See the caveats in the documentation: https://pandas.pydata.org/pandas-docs/stable/user_guide/indexing.html#returning-a-view-versus-a-copy\n",
            "  dfc_train['encoded_label'] = le.fit_transform(dfc_train['label'])\n",
            "<ipython-input-32-0164e3de4b87>:5: SettingWithCopyWarning: \n",
            "A value is trying to be set on a copy of a slice from a DataFrame.\n",
            "Try using .loc[row_indexer,col_indexer] = value instead\n",
            "\n",
            "See the caveats in the documentation: https://pandas.pydata.org/pandas-docs/stable/user_guide/indexing.html#returning-a-view-versus-a-copy\n",
            "  dfc_val['encoded_label'] = le.transform(dfc_val['label'])\n",
            "<ipython-input-32-0164e3de4b87>:6: SettingWithCopyWarning: \n",
            "A value is trying to be set on a copy of a slice from a DataFrame.\n",
            "Try using .loc[row_indexer,col_indexer] = value instead\n",
            "\n",
            "See the caveats in the documentation: https://pandas.pydata.org/pandas-docs/stable/user_guide/indexing.html#returning-a-view-versus-a-copy\n",
            "  dfc_test['encoded_label'] = le.transform(dfc_test['label'])\n"
          ]
        }
      ]
    },
    {
      "cell_type": "markdown",
      "source": [
        "Transform the text into a sequence of integers using the tokenizer defined before. "
      ],
      "metadata": {
        "id": "yS7M36zPrBip"
      }
    },
    {
      "cell_type": "code",
      "source": [
        "x_train = np.array(tokenizer.texts_to_sequences(dfc_train.word.values)) \n",
        "y_train =np.array( dfc_train['encoded_label'])\n",
        "\n",
        "x_val = np.array(tokenizer.texts_to_sequences(dfc_val.word.values))\n",
        "y_val = np.array(dfc_val['encoded_label'])\n",
        "\n",
        "x_test = np.array(tokenizer.texts_to_sequences(dfc_test.word.values))\n",
        "y_test = np.array(dfc_test['encoded_label'])\n",
        "\n",
        "#number of unique labels\n",
        "num_classes = len(np.unique(y_train))\n",
        "vocab_size = len(word_to_index) + 1\n"
      ],
      "metadata": {
        "id": "72n2_dZHDprc",
        "colab": {
          "base_uri": "https://localhost:8080/"
        },
        "outputId": "e3dc1b5a-118f-49b5-90c0-a2df09fd6b39"
      },
      "execution_count": 33,
      "outputs": [
        {
          "output_type": "stream",
          "name": "stderr",
          "text": [
            "<ipython-input-33-60b4ced3fc47>:4: VisibleDeprecationWarning: Creating an ndarray from ragged nested sequences (which is a list-or-tuple of lists-or-tuples-or ndarrays with different lengths or shapes) is deprecated. If you meant to do this, you must specify 'dtype=object' when creating the ndarray.\n",
            "  x_val = np.array(tokenizer.texts_to_sequences(dfc_val.word.values))\n",
            "<ipython-input-33-60b4ced3fc47>:7: VisibleDeprecationWarning: Creating an ndarray from ragged nested sequences (which is a list-or-tuple of lists-or-tuples-or ndarrays with different lengths or shapes) is deprecated. If you meant to do this, you must specify 'dtype=object' when creating the ndarray.\n",
            "  x_test = np.array(tokenizer.texts_to_sequences(dfc_test.word.values))\n"
          ]
        }
      ]
    },
    {
      "cell_type": "markdown",
      "source": [
        "Pad the sequences to make them of same length before passing them to the model."
      ],
      "metadata": {
        "id": "51RMHWA0r2ep"
      }
    },
    {
      "cell_type": "code",
      "source": [
        "from tensorflow.keras.preprocessing.sequence import pad_sequences\n",
        "\n",
        "x_train = pad_sequences(x_train, maxlen=1, padding='post')\n",
        "x_val = pad_sequences(x_val, maxlen=1, padding='post')\n",
        "x_test = pad_sequences(x_test, maxlen=1, padding='post')\n",
        "\n",
        "#Train\n",
        "print(f'X train shape: {x_train.shape}')\n",
        "print(f'Y train shape: {y_train.shape}')\n",
        "print(f'type:{type(x_train)}')\n",
        "\n",
        "# Val\n",
        "print(f'X val shape: {x_val.shape}')\n",
        "print(f'Y val shape: {y_val.shape}')\n",
        "print(f'type:{type(y_train)}')\n",
        "# Test\n",
        "\n",
        "print(f'X test shape: {x_test.shape}', x_test.shape)\n",
        "print(f'Y test shape: {y_test.shape}', y_test.shape)"
      ],
      "metadata": {
        "colab": {
          "base_uri": "https://localhost:8080/"
        },
        "id": "Lzxixj0QExD7",
        "outputId": "62a7a7c7-c423-4644-ee7e-ef3afa1c611b"
      },
      "execution_count": 34,
      "outputs": [
        {
          "output_type": "stream",
          "name": "stdout",
          "text": [
            "X train shape: (41149, 1)\n",
            "Y train shape: (41149,)\n",
            "type:<class 'numpy.ndarray'>\n",
            "X val shape: (27263, 1)\n",
            "Y val shape: (27263,)\n",
            "type:<class 'numpy.ndarray'>\n",
            "X test shape: (13614, 1) (13614, 1)\n",
            "Y test shape: (13614,) (13614,)\n"
          ]
        }
      ]
    },
    {
      "cell_type": "markdown",
      "source": [
        "Define the model."
      ],
      "metadata": {
        "id": "LCcVYGrNsQ-x"
      }
    },
    {
      "cell_type": "code",
      "source": [
        "from tensorflow.keras.models import Sequential\n",
        "from tensorflow.keras.layers import Embedding, Dense, LSTM, Bidirectional \n",
        "\n",
        "model = Sequential()\n",
        "embedding_layer = Embedding(input_dim = vocab_size,output_dim= embedding_dimension,input_length=1, weights = [embedding_matrix], trainable = False)\n",
        "model.add(embedding_layer)\n",
        "model.add(Bidirectional(LSTM(32)))\n",
        "model.add(Dense(num_classes,activation='softmax'))\n",
        "\n",
        "model.summary()"
      ],
      "metadata": {
        "colab": {
          "base_uri": "https://localhost:8080/"
        },
        "outputId": "7e2436e3-0ae3-40a7-e3c1-e6fa873572a6",
        "id": "RyfvHkUZ1wEU"
      },
      "execution_count": 35,
      "outputs": [
        {
          "output_type": "stream",
          "name": "stdout",
          "text": [
            "Model: \"sequential\"\n",
            "_________________________________________________________________\n",
            " Layer (type)                Output Shape              Param #   \n",
            "=================================================================\n",
            " embedding (Embedding)       (None, 1, 50)             365250    \n",
            "                                                                 \n",
            " bidirectional (Bidirectiona  (None, 64)               21248     \n",
            " l)                                                              \n",
            "                                                                 \n",
            " dense (Dense)               (None, 39)                2535      \n",
            "                                                                 \n",
            "=================================================================\n",
            "Total params: 389,033\n",
            "Trainable params: 23,783\n",
            "Non-trainable params: 365,250\n",
            "_________________________________________________________________\n"
          ]
        }
      ]
    },
    {
      "cell_type": "code",
      "source": [
        "model.compile(loss='sparse_categorical_crossentropy', optimizer='Adam', metrics=['accuracy'])"
      ],
      "metadata": {
        "id": "nUVoMtiPNRMK"
      },
      "execution_count": 36,
      "outputs": []
    },
    {
      "cell_type": "code",
      "source": [
        "# fit model\n",
        "history = model.fit(x_train, y_train, validation_data=(x_val, y_val), batch_size = 64, epochs=30)"
      ],
      "metadata": {
        "id": "ZY8zv1dvQM3A",
        "colab": {
          "base_uri": "https://localhost:8080/"
        },
        "outputId": "d171377c-8771-4877-ea6d-0e4375c8260f"
      },
      "execution_count": 37,
      "outputs": [
        {
          "output_type": "stream",
          "name": "stdout",
          "text": [
            "Epoch 1/30\n",
            "643/643 [==============================] - 9s 7ms/step - loss: 1.8423 - accuracy: 0.5328 - val_loss: 1.3338 - val_accuracy: 0.6244\n",
            "Epoch 2/30\n",
            "643/643 [==============================] - 4s 7ms/step - loss: 1.0284 - accuracy: 0.7101 - val_loss: 1.0876 - val_accuracy: 0.6727\n",
            "Epoch 3/30\n",
            "643/643 [==============================] - 4s 6ms/step - loss: 0.8511 - accuracy: 0.7518 - val_loss: 0.9888 - val_accuracy: 0.7121\n",
            "Epoch 4/30\n",
            "643/643 [==============================] - 3s 5ms/step - loss: 0.7548 - accuracy: 0.7813 - val_loss: 0.9302 - val_accuracy: 0.7265\n",
            "Epoch 5/30\n",
            "643/643 [==============================] - 4s 6ms/step - loss: 0.6905 - accuracy: 0.7973 - val_loss: 0.8984 - val_accuracy: 0.7272\n",
            "Epoch 6/30\n",
            "643/643 [==============================] - 4s 6ms/step - loss: 0.6432 - accuracy: 0.8074 - val_loss: 0.8715 - val_accuracy: 0.7419\n",
            "Epoch 7/30\n",
            "643/643 [==============================] - 4s 6ms/step - loss: 0.6065 - accuracy: 0.8178 - val_loss: 0.8531 - val_accuracy: 0.7370\n",
            "Epoch 8/30\n",
            "643/643 [==============================] - 4s 6ms/step - loss: 0.5762 - accuracy: 0.8265 - val_loss: 0.8450 - val_accuracy: 0.7438\n",
            "Epoch 9/30\n",
            "643/643 [==============================] - 4s 6ms/step - loss: 0.5517 - accuracy: 0.8334 - val_loss: 0.8318 - val_accuracy: 0.7503\n",
            "Epoch 10/30\n",
            "643/643 [==============================] - 3s 5ms/step - loss: 0.5303 - accuracy: 0.8416 - val_loss: 0.8198 - val_accuracy: 0.7531\n",
            "Epoch 11/30\n",
            "643/643 [==============================] - 3s 5ms/step - loss: 0.5121 - accuracy: 0.8471 - val_loss: 0.8132 - val_accuracy: 0.7607\n",
            "Epoch 12/30\n",
            "643/643 [==============================] - 3s 5ms/step - loss: 0.4963 - accuracy: 0.8525 - val_loss: 0.8043 - val_accuracy: 0.7621\n",
            "Epoch 13/30\n",
            "643/643 [==============================] - 3s 5ms/step - loss: 0.4819 - accuracy: 0.8552 - val_loss: 0.7978 - val_accuracy: 0.7637\n",
            "Epoch 14/30\n",
            "643/643 [==============================] - 4s 6ms/step - loss: 0.4684 - accuracy: 0.8596 - val_loss: 0.7925 - val_accuracy: 0.7673\n",
            "Epoch 15/30\n",
            "643/643 [==============================] - 3s 5ms/step - loss: 0.4574 - accuracy: 0.8621 - val_loss: 0.7821 - val_accuracy: 0.7672\n",
            "Epoch 16/30\n",
            "643/643 [==============================] - 3s 5ms/step - loss: 0.4465 - accuracy: 0.8640 - val_loss: 0.7714 - val_accuracy: 0.7703\n",
            "Epoch 17/30\n",
            "643/643 [==============================] - 4s 6ms/step - loss: 0.4362 - accuracy: 0.8666 - val_loss: 0.7713 - val_accuracy: 0.7705\n",
            "Epoch 18/30\n",
            "643/643 [==============================] - 4s 6ms/step - loss: 0.4273 - accuracy: 0.8685 - val_loss: 0.7662 - val_accuracy: 0.7742\n",
            "Epoch 19/30\n",
            "643/643 [==============================] - 4s 6ms/step - loss: 0.4192 - accuracy: 0.8706 - val_loss: 0.7558 - val_accuracy: 0.7735\n",
            "Epoch 20/30\n",
            "643/643 [==============================] - 4s 6ms/step - loss: 0.4114 - accuracy: 0.8730 - val_loss: 0.7575 - val_accuracy: 0.7760\n",
            "Epoch 21/30\n",
            "643/643 [==============================] - 4s 6ms/step - loss: 0.4040 - accuracy: 0.8747 - val_loss: 0.7478 - val_accuracy: 0.7782\n",
            "Epoch 22/30\n",
            "643/643 [==============================] - 4s 6ms/step - loss: 0.3976 - accuracy: 0.8763 - val_loss: 0.7476 - val_accuracy: 0.7815\n",
            "Epoch 23/30\n",
            "643/643 [==============================] - 5s 8ms/step - loss: 0.3907 - accuracy: 0.8769 - val_loss: 0.7452 - val_accuracy: 0.7782\n",
            "Epoch 24/30\n",
            "643/643 [==============================] - 6s 9ms/step - loss: 0.3846 - accuracy: 0.8792 - val_loss: 0.7416 - val_accuracy: 0.7803\n",
            "Epoch 25/30\n",
            "643/643 [==============================] - 4s 6ms/step - loss: 0.3795 - accuracy: 0.8797 - val_loss: 0.7434 - val_accuracy: 0.7808\n",
            "Epoch 26/30\n",
            "643/643 [==============================] - 4s 6ms/step - loss: 0.3741 - accuracy: 0.8821 - val_loss: 0.7343 - val_accuracy: 0.7819\n",
            "Epoch 27/30\n",
            "643/643 [==============================] - 4s 6ms/step - loss: 0.3696 - accuracy: 0.8821 - val_loss: 0.7395 - val_accuracy: 0.7834\n",
            "Epoch 28/30\n",
            "643/643 [==============================] - 3s 5ms/step - loss: 0.3645 - accuracy: 0.8841 - val_loss: 0.7351 - val_accuracy: 0.7827\n",
            "Epoch 29/30\n",
            "643/643 [==============================] - 4s 6ms/step - loss: 0.3609 - accuracy: 0.8843 - val_loss: 0.7325 - val_accuracy: 0.7843\n",
            "Epoch 30/30\n",
            "643/643 [==============================] - 4s 6ms/step - loss: 0.3560 - accuracy: 0.8854 - val_loss: 0.7294 - val_accuracy: 0.7834\n"
          ]
        }
      ]
    },
    {
      "cell_type": "code",
      "source": [
        "model.evaluate(x_test, y_test)"
      ],
      "metadata": {
        "colab": {
          "base_uri": "https://localhost:8080/"
        },
        "id": "9g-5DG6nQ2UP",
        "outputId": "ddef3a49-aa4f-4a29-ab58-cd2fdf36a140"
      },
      "execution_count": 38,
      "outputs": [
        {
          "output_type": "stream",
          "name": "stdout",
          "text": [
            "426/426 [==============================] - 1s 2ms/step - loss: 0.6583 - accuracy: 0.7850\n"
          ]
        },
        {
          "output_type": "execute_result",
          "data": {
            "text/plain": [
              "[0.658288836479187, 0.785000741481781]"
            ]
          },
          "metadata": {},
          "execution_count": 38
        }
      ]
    },
    {
      "cell_type": "code",
      "source": [],
      "metadata": {
        "id": "yg5PtzB8oWa1"
      },
      "execution_count": null,
      "outputs": []
    },
    {
      "cell_type": "markdown",
      "metadata": {
        "id": "7FTlmNoGi8CF"
      },
      "source": [
        "## Baseline model: LSTM"
      ]
    },
    {
      "cell_type": "code",
      "execution_count": null,
      "metadata": {
        "id": "rDpMKnNAi8CF"
      },
      "outputs": [],
      "source": []
    },
    {
      "cell_type": "markdown",
      "metadata": {
        "id": "Jjm_29f4i8CG"
      },
      "source": [
        "## Model A: LSTM + GRU"
      ]
    },
    {
      "cell_type": "code",
      "execution_count": null,
      "metadata": {
        "id": "KI1FJxVHi8CG"
      },
      "outputs": [],
      "source": []
    },
    {
      "cell_type": "markdown",
      "metadata": {
        "id": "6bM9ZWFAi8CG"
      },
      "source": [
        "## Model B: 2x LSTM "
      ]
    },
    {
      "cell_type": "code",
      "execution_count": null,
      "metadata": {
        "id": "hVqg81vai8CG"
      },
      "outputs": [],
      "source": []
    },
    {
      "cell_type": "markdown",
      "metadata": {
        "id": "5hgT909Mi8CG"
      },
      "source": [
        "## Model C: LSTM + Dense"
      ]
    },
    {
      "cell_type": "code",
      "execution_count": null,
      "metadata": {
        "id": "5P-NSPmwi8CG"
      },
      "outputs": [],
      "source": []
    },
    {
      "cell_type": "markdown",
      "metadata": {
        "id": "tTwH3Iz5i8CG"
      },
      "source": [
        "## Conclusions"
      ]
    },
    {
      "cell_type": "code",
      "execution_count": null,
      "metadata": {
        "id": "g8vray3yi8CH"
      },
      "outputs": [],
      "source": []
    }
  ],
  "metadata": {
    "kernelspec": {
      "display_name": "Python 3.9.13 ('tf')",
      "language": "python",
      "name": "python3"
    },
    "language_info": {
      "codemirror_mode": {
        "name": "ipython",
        "version": 3
      },
      "file_extension": ".py",
      "mimetype": "text/x-python",
      "name": "python",
      "nbconvert_exporter": "python",
      "pygments_lexer": "ipython3",
      "version": "3.9.13"
    },
    "orig_nbformat": 4,
    "vscode": {
      "interpreter": {
        "hash": "e405b0a43b05ed5b511dac57849ab560497f023fc2f8f0bfd2781bf41b5f416c"
      }
    },
    "colab": {
      "provenance": [],
      "include_colab_link": true
    }
  },
  "nbformat": 4,
  "nbformat_minor": 0
}