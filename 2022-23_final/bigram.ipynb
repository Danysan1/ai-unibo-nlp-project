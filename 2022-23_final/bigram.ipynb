{
  "cells": [
    {
      "cell_type": "markdown",
      "metadata": {
        "id": "JuFRCbwFV0i8"
      },
      "source": [
        "[![Open In Colab](https://colab.research.google.com/assets/colab-badge.svg)](https://colab.research.google.com/github/Danysan1/ai-unibo-nlp-project/blob/main/final/final.ipynb)\n",
        "[![Open in Kaggle](https://kaggle.com/static/images/open-in-kaggle.svg)](https://kaggle.com/kernels/welcome?src=https://github.com/Danysan1/ai-unibo-nlp-project/blob/main/final/final.ipynb)\n",
        "[![Open in SageMaker Studio Lab](https://studiolab.sagemaker.aws/studiolab.svg)](https://studiolab.sagemaker.aws/import/github/Danysan1/ai-unibo-nlp-project/tree/main/final/final.ipynb)"
      ]
    },
    {
      "cell_type": "markdown",
      "metadata": {
        "id": "dQ6HixirV0jA"
      },
      "source": [
        "# Final project"
      ]
    },
    {
      "cell_type": "markdown",
      "metadata": {
        "id": "ovb076-iV0jB"
      },
      "source": [
        "## Imports and Initial Settings"
      ]
    },
    {
      "cell_type": "code",
      "execution_count": 1,
      "metadata": {
        "colab": {
          "base_uri": "https://localhost:8080/"
        },
        "id": "_PlPqLFZBcDd",
        "outputId": "53eb3558-c38d-4713-e7dc-ab7fa288d494"
      },
      "outputs": [
        {
          "name": "stdout",
          "output_type": "stream",
          "text": [
            "Requirement already satisfied: pandas in /home/hiari/opt/mambaforge/envs/ai/lib/python3.10/site-packages (1.5.2)\n",
            "Requirement already satisfied: numpy in /home/hiari/opt/mambaforge/envs/ai/lib/python3.10/site-packages (1.24.1)\n",
            "Requirement already satisfied: matplotlib in /home/hiari/opt/mambaforge/envs/ai/lib/python3.10/site-packages (3.6.2)\n",
            "Requirement already satisfied: transformers==4.25.1 in /home/hiari/opt/mambaforge/envs/ai/lib/python3.10/site-packages (4.25.1)\n",
            "Requirement already satisfied: dataset in /home/hiari/opt/mambaforge/envs/ai/lib/python3.10/site-packages (1.6.0)\n",
            "Requirement already satisfied: huggingface-hub<1.0,>=0.10.0 in /home/hiari/opt/mambaforge/envs/ai/lib/python3.10/site-packages (from transformers==4.25.1) (0.11.1)\n",
            "Requirement already satisfied: requests in /home/hiari/opt/mambaforge/envs/ai/lib/python3.10/site-packages (from transformers==4.25.1) (2.28.1)\n",
            "Requirement already satisfied: regex!=2019.12.17 in /home/hiari/opt/mambaforge/envs/ai/lib/python3.10/site-packages (from transformers==4.25.1) (2022.10.31)\n",
            "Requirement already satisfied: tokenizers!=0.11.3,<0.14,>=0.11.1 in /home/hiari/opt/mambaforge/envs/ai/lib/python3.10/site-packages (from transformers==4.25.1) (0.13.1)\n",
            "Requirement already satisfied: packaging>=20.0 in /home/hiari/opt/mambaforge/envs/ai/lib/python3.10/site-packages (from transformers==4.25.1) (22.0)\n",
            "Requirement already satisfied: pyyaml>=5.1 in /home/hiari/opt/mambaforge/envs/ai/lib/python3.10/site-packages (from transformers==4.25.1) (6.0)\n",
            "Requirement already satisfied: filelock in /home/hiari/opt/mambaforge/envs/ai/lib/python3.10/site-packages (from transformers==4.25.1) (3.9.0)\n",
            "Requirement already satisfied: tqdm>=4.27 in /home/hiari/opt/mambaforge/envs/ai/lib/python3.10/site-packages (from transformers==4.25.1) (4.64.1)\n",
            "Requirement already satisfied: python-dateutil>=2.8.1 in /home/hiari/opt/mambaforge/envs/ai/lib/python3.10/site-packages (from pandas) (2.8.2)\n",
            "Requirement already satisfied: pytz>=2020.1 in /home/hiari/opt/mambaforge/envs/ai/lib/python3.10/site-packages (from pandas) (2022.7)\n",
            "Requirement already satisfied: kiwisolver>=1.0.1 in /home/hiari/opt/mambaforge/envs/ai/lib/python3.10/site-packages (from matplotlib) (1.4.4)\n",
            "Requirement already satisfied: contourpy>=1.0.1 in /home/hiari/opt/mambaforge/envs/ai/lib/python3.10/site-packages (from matplotlib) (1.0.6)\n",
            "Requirement already satisfied: fonttools>=4.22.0 in /home/hiari/opt/mambaforge/envs/ai/lib/python3.10/site-packages (from matplotlib) (4.38.0)\n",
            "Requirement already satisfied: pyparsing>=2.2.1 in /home/hiari/opt/mambaforge/envs/ai/lib/python3.10/site-packages (from matplotlib) (3.0.9)\n",
            "Requirement already satisfied: cycler>=0.10 in /home/hiari/opt/mambaforge/envs/ai/lib/python3.10/site-packages (from matplotlib) (0.11.0)\n",
            "Requirement already satisfied: pillow>=6.2.0 in /home/hiari/opt/mambaforge/envs/ai/lib/python3.10/site-packages (from matplotlib) (9.4.0)\n",
            "Requirement already satisfied: alembic>=0.6.2 in /home/hiari/opt/mambaforge/envs/ai/lib/python3.10/site-packages (from dataset) (1.10.2)\n",
            "Requirement already satisfied: sqlalchemy<2.0.0,>=1.3.2 in /home/hiari/opt/mambaforge/envs/ai/lib/python3.10/site-packages (from dataset) (1.4.47)\n",
            "Requirement already satisfied: banal>=1.0.1 in /home/hiari/opt/mambaforge/envs/ai/lib/python3.10/site-packages (from dataset) (1.0.6)\n",
            "Requirement already satisfied: Mako in /home/hiari/opt/mambaforge/envs/ai/lib/python3.10/site-packages (from alembic>=0.6.2->dataset) (1.2.4)\n",
            "Requirement already satisfied: typing-extensions>=4 in /home/hiari/.local/lib/python3.10/site-packages (from alembic>=0.6.2->dataset) (4.4.0)\n",
            "Requirement already satisfied: six>=1.5 in /home/hiari/opt/mambaforge/envs/ai/lib/python3.10/site-packages (from python-dateutil>=2.8.1->pandas) (1.16.0)\n",
            "Requirement already satisfied: greenlet!=0.4.17 in /home/hiari/opt/mambaforge/envs/ai/lib/python3.10/site-packages (from sqlalchemy<2.0.0,>=1.3.2->dataset) (2.0.2)\n",
            "Requirement already satisfied: certifi>=2017.4.17 in /home/hiari/opt/mambaforge/envs/ai/lib/python3.10/site-packages (from requests->transformers==4.25.1) (2022.12.7)\n",
            "Requirement already satisfied: charset-normalizer<3,>=2 in /home/hiari/opt/mambaforge/envs/ai/lib/python3.10/site-packages (from requests->transformers==4.25.1) (2.1.1)\n",
            "Requirement already satisfied: urllib3<1.27,>=1.21.1 in /home/hiari/opt/mambaforge/envs/ai/lib/python3.10/site-packages (from requests->transformers==4.25.1) (1.26.13)\n",
            "Requirement already satisfied: idna<4,>=2.5 in /home/hiari/opt/mambaforge/envs/ai/lib/python3.10/site-packages (from requests->transformers==4.25.1) (3.4)\n",
            "Requirement already satisfied: MarkupSafe>=0.9.2 in /home/hiari/.local/lib/python3.10/site-packages (from Mako->alembic>=0.6.2->dataset) (2.1.1)\n",
            "Note: you may need to restart the kernel to use updated packages.\n"
          ]
        }
      ],
      "source": [
        "%pip install pandas numpy matplotlib transformers==4.25.1  dataset"
      ]
    },
    {
      "cell_type": "code",
      "execution_count": 2,
      "metadata": {
        "id": "A6z0BD01Bhf4"
      },
      "outputs": [
        {
          "name": "stderr",
          "output_type": "stream",
          "text": [
            "2023-04-16 16:24:34.841504: I tensorflow/core/platform/cpu_feature_guard.cc:193] This TensorFlow binary is optimized with oneAPI Deep Neural Network Library (oneDNN) to use the following CPU instructions in performance-critical operations:  AVX2 AVX512F AVX512_VNNI FMA\n",
            "To enable them in other operations, rebuild TensorFlow with the appropriate compiler flags.\n",
            "2023-04-16 16:24:35.016567: I tensorflow/core/util/port.cc:104] oneDNN custom operations are on. You may see slightly different numerical results due to floating-point round-off errors from different computation orders. To turn them off, set the environment variable `TF_ENABLE_ONEDNN_OPTS=0`.\n",
            "2023-04-16 16:24:35.697627: W tensorflow/compiler/xla/stream_executor/platform/default/dso_loader.cc:64] Could not load dynamic library 'libnvinfer.so.7'; dlerror: libnvinfer.so.7: cannot open shared object file: No such file or directory; LD_LIBRARY_PATH: /lib/:/home/hiari/opt/mambaforge/lib:/home/hiari/opt/mambaforge/envs/ai/lib/:/home/hiari/opt/mambaforge/lib/:/home/hiari/opt/mambaforge/envs/ai/lib/\n",
            "2023-04-16 16:24:35.697687: W tensorflow/compiler/xla/stream_executor/platform/default/dso_loader.cc:64] Could not load dynamic library 'libnvinfer_plugin.so.7'; dlerror: libnvinfer_plugin.so.7: cannot open shared object file: No such file or directory; LD_LIBRARY_PATH: /lib/:/home/hiari/opt/mambaforge/lib:/home/hiari/opt/mambaforge/envs/ai/lib/:/home/hiari/opt/mambaforge/lib/:/home/hiari/opt/mambaforge/envs/ai/lib/\n",
            "2023-04-16 16:24:35.697692: W tensorflow/compiler/tf2tensorrt/utils/py_utils.cc:38] TF-TRT Warning: Cannot dlopen some TensorRT libraries. If you would like to use Nvidia GPU with TensorRT, please make sure the missing libraries mentioned above are installed properly.\n"
          ]
        }
      ],
      "source": [
        "import numpy as np\n",
        "import pandas as pd\n",
        "import seaborn as sns\n",
        "import json\n",
        "from os import path\n",
        "from matplotlib import pyplot as plt\n",
        "import random\n",
        "import gc\n",
        "import torch\n",
        "import transformers\n",
        "from tqdm import tqdm\n",
        "from typing import Callable, Dict, List, Tuple\n",
        "from timeit import default_timer as timer\n",
        "from transformers import EncoderDecoderModel, AutoTokenizer, PreTrainedTokenizer, BatchEncoding\n",
        "from torch.utils.data import Dataset, DataLoader"
      ]
    },
    {
      "cell_type": "code",
      "execution_count": 3,
      "metadata": {
        "id": "VMl-V2OfV0jB"
      },
      "outputs": [],
      "source": [
        "# Fix the random state to 42\n",
        "SEED = 42\n",
        "labels = ['Self-direction: thought', 'Self-direction: action', 'Stimulation',\n",
        "       'Hedonism', 'Achievement', 'Power: dominance', 'Power: resources',\n",
        "       'Face', 'Security: personal', 'Security: societal', 'Tradition',\n",
        "       'Conformity: rules', 'Conformity: interpersonal', 'Humility',\n",
        "       'Benevolence: caring', 'Benevolence: dependability',\n",
        "       'Universalism: concern', 'Universalism: nature',\n",
        "       'Universalism: tolerance', 'Universalism: objectivity']\n",
        "\n",
        "# if a different set of labels is needed, decomment the next lines and select a different subset of labels,\n",
        "# but always use the variable 'labels' since all the code will use that. If you want to select\n",
        "# the full set of labels, just comment the next two lines\n",
        "\n",
        "#suggested_labels = ['Self-direction: action', 'Achievement', 'Security: personal', 'Security: societal', 'Benevolence: caring', 'Universalism: concern']\n",
        "#labels = suggested_labels"
      ]
    },
    {
      "cell_type": "code",
      "execution_count": 4,
      "metadata": {
        "id": "-WcnwSedV0jD"
      },
      "outputs": [],
      "source": [
        "def fix_seed(seed: int) -> None:\n",
        "    \"\"\"Fix all the possible sources of randomness.\n",
        "\n",
        "    Args:\n",
        "        seed: the seed to use. \n",
        "    \"\"\"\n",
        "    np.random.seed(seed)\n",
        "    random.seed(seed)\n",
        "    torch.manual_seed(seed)\n",
        "    torch.cuda.manual_seed(seed)\n",
        "    \n",
        "    torch.backends.cudnn.benchmark = False\n",
        "    torch.backends.cudnn.deterministic = True\n",
        "\n",
        "fix_seed(SEED)"
      ]
    },
    {
      "cell_type": "markdown",
      "metadata": {
        "id": "i8gHOumMV0jE"
      },
      "source": [
        "## Dataset Download"
      ]
    },
    {
      "cell_type": "code",
      "execution_count": 5,
      "metadata": {
        "id": "h49X-g3eV0jE"
      },
      "outputs": [],
      "source": [
        "import os\n",
        "import urllib.request\n",
        "from tqdm import tqdm\n",
        "\n",
        "class DownloadProgressBar(tqdm):\n",
        "    def update_to(self, b=1, bsize=1, tsize=None):\n",
        "        if tsize is not None:\n",
        "            self.total = tsize\n",
        "        self.update(b * bsize - self.n)\n",
        "        \n",
        "def download_url(url, output_path):\n",
        "    with DownloadProgressBar(unit='B', unit_scale=True,\n",
        "                             miniters=1, desc=url.split('/')[-1]) as t:\n",
        "        urllib.request.urlretrieve(url, filename=output_path, reporthook=t.update_to)\n",
        "\n",
        "def download_data(data_path, url_path, suffix):    \n",
        "    if not os.path.exists(data_path):\n",
        "        os.makedirs(data_path)\n",
        "        \n",
        "    data_path = os.path.join(data_path, f'{suffix}.tsv')\n",
        "    if not os.path.exists(data_path):\n",
        "        print(f\"Downloading Touché23-ValueEval {suffix} data... (it may take a while)\")\n",
        "        download_url(url=url_path, output_path=data_path)\n",
        "        print(\"Download completed!\")"
      ]
    },
    {
      "cell_type": "code",
      "execution_count": 6,
      "metadata": {
        "id": "izIZxG3CV0jF"
      },
      "outputs": [],
      "source": [
        "data_folder = 'Dataset'"
      ]
    },
    {
      "cell_type": "code",
      "execution_count": 7,
      "metadata": {
        "id": "ohVXXdwMV0jG"
      },
      "outputs": [],
      "source": [
        "# Training data\n",
        "training = {'suffix': 'arguments-training', 'url': \"https://zenodo.org/record/7550385/files/arguments-training.tsv?download=1\"}\n",
        "labels_training = {'suffix': 'labels-training', 'url': \"https://zenodo.org/record/7550385/files/labels-training.tsv?download=1\"}\n",
        "level1_labels_training = {'suffix': 'level1-labels-training', 'url': \"https://zenodo.org/record/7550385/files/level1-labels-training.tsv?download=1\"}\n",
        "\n",
        "# Validation data\n",
        "validation = {'suffix': 'arguments-validation', 'url': \"https://zenodo.org/record/7550385/files/arguments-validation.tsv?download=1\"}\n",
        "labels_validation = {'suffix': 'labels-validation', 'url': \"https://zenodo.org/record/7550385/files/labels-validation.tsv?download=1\"}\n",
        "level1_labels_validation = {'suffix': 'level1-labels-validation', 'url': \"https://zenodo.org/record/7550385/files/level1-labels-validation.tsv?download=1\"}\n",
        "\n",
        "# Test data\n",
        "test = {'suffix': 'arguments-test', 'url': \"https://zenodo.org/record/7550385/files/arguments-test.tsv?download=1\"}\n",
        "\n",
        "to_download = [training, \n",
        "                labels_training,\n",
        "                validation,\n",
        "                labels_validation]"
      ]
    },
    {
      "cell_type": "code",
      "execution_count": 8,
      "metadata": {
        "id": "4z5Tl-DLV0jG"
      },
      "outputs": [],
      "source": [
        "for data in to_download:\n",
        "    download_data(data_path=data_folder, url_path=data['url'], suffix=data['suffix'])"
      ]
    },
    {
      "cell_type": "markdown",
      "metadata": {
        "id": "Ge3i4MzcV0jH"
      },
      "source": [
        "## Dataset Loading"
      ]
    },
    {
      "cell_type": "code",
      "execution_count": 9,
      "metadata": {
        "id": "MeRcgnfHV0jH"
      },
      "outputs": [],
      "source": [
        "def load_touche_dataset(filename:str) -> pd.DataFrame:\n",
        "    with open(path.join(data_folder, filename)) as file_obj:\n",
        "        data = pd.read_csv(path.join(data_folder, filename), sep='\\t', header=0, index_col='Argument ID')\n",
        "        return data"
      ]
    },
    {
      "cell_type": "code",
      "execution_count": 10,
      "metadata": {
        "id": "TTsYMJI5V0jH"
      },
      "outputs": [],
      "source": [
        "def filter_labels(labels_df:pd.DataFrame, subset:pd.Series) -> pd.DataFrame:\n",
        "    \"\"\"\n",
        "        Given a DataFrame of labels (e.g. from labels-training.tsv), this method drops all the columns not contained in the subset list \n",
        "    \"\"\"\n",
        "    m = labels_df[subset].mask(labels_df[subset] == 0).dropna(how='all').replace(np.NaN, 0)\n",
        "    return pd.DataFrame(m, dtype=int)\n",
        "\n",
        "def filter_indexes(data_df:pd.DataFrame, subset:pd.Series) -> pd.DataFrame:\n",
        "    \"\"\"\n",
        "        Given a DataFrame of arguments (e.g. from arguments-training.tsv), this method drops all the rows with indexes not contained in the subset list.\n",
        "        This method is useful after a labels DataFrame has been filtered, because it removes rows that couldn't be classificated\n",
        "    \"\"\"\n",
        "    return data_df.filter(subset, axis='index')"
      ]
    },
    {
      "cell_type": "code",
      "execution_count": 11,
      "metadata": {
        "colab": {
          "base_uri": "https://localhost:8080/",
          "height": 237
        },
        "id": "P-7F96TaV0jH",
        "outputId": "86e44cc5-e3d1-483d-f267-54567e7a223f"
      },
      "outputs": [
        {
          "data": {
            "text/html": [
              "<div>\n",
              "<style scoped>\n",
              "    .dataframe tbody tr th:only-of-type {\n",
              "        vertical-align: middle;\n",
              "    }\n",
              "\n",
              "    .dataframe tbody tr th {\n",
              "        vertical-align: top;\n",
              "    }\n",
              "\n",
              "    .dataframe thead th {\n",
              "        text-align: right;\n",
              "    }\n",
              "</style>\n",
              "<table border=\"1\" class=\"dataframe\">\n",
              "  <thead>\n",
              "    <tr style=\"text-align: right;\">\n",
              "      <th></th>\n",
              "      <th>Conclusion</th>\n",
              "      <th>Stance</th>\n",
              "      <th>Premise</th>\n",
              "    </tr>\n",
              "    <tr>\n",
              "      <th>Argument ID</th>\n",
              "      <th></th>\n",
              "      <th></th>\n",
              "      <th></th>\n",
              "    </tr>\n",
              "  </thead>\n",
              "  <tbody>\n",
              "    <tr>\n",
              "      <th>A01002</th>\n",
              "      <td>We should ban human cloning</td>\n",
              "      <td>in favor of</td>\n",
              "      <td>we should ban human cloning as it will only ca...</td>\n",
              "    </tr>\n",
              "    <tr>\n",
              "      <th>A01005</th>\n",
              "      <td>We should ban fast food</td>\n",
              "      <td>in favor of</td>\n",
              "      <td>fast food should be banned because it is reall...</td>\n",
              "    </tr>\n",
              "    <tr>\n",
              "      <th>A01006</th>\n",
              "      <td>We should end the use of economic sanctions</td>\n",
              "      <td>against</td>\n",
              "      <td>sometimes economic sanctions are the only thin...</td>\n",
              "    </tr>\n",
              "    <tr>\n",
              "      <th>A01007</th>\n",
              "      <td>We should abolish capital punishment</td>\n",
              "      <td>against</td>\n",
              "      <td>capital punishment is sometimes the only optio...</td>\n",
              "    </tr>\n",
              "    <tr>\n",
              "      <th>A01008</th>\n",
              "      <td>We should ban factory farming</td>\n",
              "      <td>against</td>\n",
              "      <td>factory farming allows for the production of c...</td>\n",
              "    </tr>\n",
              "  </tbody>\n",
              "</table>\n",
              "</div>"
            ],
            "text/plain": [
              "                                              Conclusion       Stance  \\\n",
              "Argument ID                                                             \n",
              "A01002                       We should ban human cloning  in favor of   \n",
              "A01005                           We should ban fast food  in favor of   \n",
              "A01006       We should end the use of economic sanctions      against   \n",
              "A01007              We should abolish capital punishment      against   \n",
              "A01008                     We should ban factory farming      against   \n",
              "\n",
              "                                                       Premise  \n",
              "Argument ID                                                     \n",
              "A01002       we should ban human cloning as it will only ca...  \n",
              "A01005       fast food should be banned because it is reall...  \n",
              "A01006       sometimes economic sanctions are the only thin...  \n",
              "A01007       capital punishment is sometimes the only optio...  \n",
              "A01008       factory farming allows for the production of c...  "
            ]
          },
          "execution_count": 11,
          "metadata": {},
          "output_type": "execute_result"
        }
      ],
      "source": [
        "train_labels_df = filter_labels(load_touche_dataset(\"labels-training.tsv\"), subset=labels)\n",
        "train_df = filter_indexes(load_touche_dataset(\"arguments-training.tsv\"), subset=train_labels_df.index) \n",
        "val_labels_df = filter_labels(load_touche_dataset(\"labels-validation.tsv\"), subset=labels)\n",
        "val_df = filter_indexes(load_touche_dataset(\"arguments-validation.tsv\"), subset=val_labels_df.index)\n",
        "train_df.head() "
      ]
    },
    {
      "cell_type": "code",
      "execution_count": 12,
      "metadata": {
        "colab": {
          "base_uri": "https://localhost:8080/",
          "height": 237
        },
        "id": "EFGvZ6o2Puzt",
        "outputId": "e3264101-fba7-482f-db17-99214b225a73"
      },
      "outputs": [
        {
          "data": {
            "text/html": [
              "<div>\n",
              "<style scoped>\n",
              "    .dataframe tbody tr th:only-of-type {\n",
              "        vertical-align: middle;\n",
              "    }\n",
              "\n",
              "    .dataframe tbody tr th {\n",
              "        vertical-align: top;\n",
              "    }\n",
              "\n",
              "    .dataframe thead th {\n",
              "        text-align: right;\n",
              "    }\n",
              "</style>\n",
              "<table border=\"1\" class=\"dataframe\">\n",
              "  <thead>\n",
              "    <tr style=\"text-align: right;\">\n",
              "      <th></th>\n",
              "      <th>Conclusion</th>\n",
              "      <th>Stance</th>\n",
              "      <th>Premise</th>\n",
              "    </tr>\n",
              "    <tr>\n",
              "      <th>Argument ID</th>\n",
              "      <th></th>\n",
              "      <th></th>\n",
              "      <th></th>\n",
              "    </tr>\n",
              "  </thead>\n",
              "  <tbody>\n",
              "    <tr>\n",
              "      <th>A01001</th>\n",
              "      <td>Entrapment should be legalized</td>\n",
              "      <td>in favor of</td>\n",
              "      <td>if entrapment can serve to more easily capture...</td>\n",
              "    </tr>\n",
              "    <tr>\n",
              "      <th>A01012</th>\n",
              "      <td>The use of public defenders should be mandatory</td>\n",
              "      <td>in favor of</td>\n",
              "      <td>the use of public defenders should be mandator...</td>\n",
              "    </tr>\n",
              "    <tr>\n",
              "      <th>A02001</th>\n",
              "      <td>Payday loans should be banned</td>\n",
              "      <td>in favor of</td>\n",
              "      <td>payday loans create a more impoverished societ...</td>\n",
              "    </tr>\n",
              "    <tr>\n",
              "      <th>A02002</th>\n",
              "      <td>Surrogacy should be banned</td>\n",
              "      <td>against</td>\n",
              "      <td>Surrogacy should not be banned as it is the wo...</td>\n",
              "    </tr>\n",
              "    <tr>\n",
              "      <th>A02009</th>\n",
              "      <td>Entrapment should be legalized</td>\n",
              "      <td>against</td>\n",
              "      <td>entrapment is gravely immoral and against huma...</td>\n",
              "    </tr>\n",
              "  </tbody>\n",
              "</table>\n",
              "</div>"
            ],
            "text/plain": [
              "                                                  Conclusion       Stance  \\\n",
              "Argument ID                                                                 \n",
              "A01001                        Entrapment should be legalized  in favor of   \n",
              "A01012       The use of public defenders should be mandatory  in favor of   \n",
              "A02001                         Payday loans should be banned  in favor of   \n",
              "A02002                            Surrogacy should be banned      against   \n",
              "A02009                        Entrapment should be legalized      against   \n",
              "\n",
              "                                                       Premise  \n",
              "Argument ID                                                     \n",
              "A01001       if entrapment can serve to more easily capture...  \n",
              "A01012       the use of public defenders should be mandator...  \n",
              "A02001       payday loans create a more impoverished societ...  \n",
              "A02002       Surrogacy should not be banned as it is the wo...  \n",
              "A02009       entrapment is gravely immoral and against huma...  "
            ]
          },
          "execution_count": 12,
          "metadata": {},
          "output_type": "execute_result"
        }
      ],
      "source": [
        "val_df.head()"
      ]
    },
    {
      "cell_type": "code",
      "execution_count": 13,
      "metadata": {
        "colab": {
          "base_uri": "https://localhost:8080/",
          "height": 353
        },
        "id": "ydONY9PQV0jI",
        "outputId": "b2d26861-8021-4141-fdd0-a786a74dd06d"
      },
      "outputs": [
        {
          "data": {
            "text/html": [
              "<div>\n",
              "<style scoped>\n",
              "    .dataframe tbody tr th:only-of-type {\n",
              "        vertical-align: middle;\n",
              "    }\n",
              "\n",
              "    .dataframe tbody tr th {\n",
              "        vertical-align: top;\n",
              "    }\n",
              "\n",
              "    .dataframe thead th {\n",
              "        text-align: right;\n",
              "    }\n",
              "</style>\n",
              "<table border=\"1\" class=\"dataframe\">\n",
              "  <thead>\n",
              "    <tr style=\"text-align: right;\">\n",
              "      <th></th>\n",
              "      <th>Self-direction: thought</th>\n",
              "      <th>Self-direction: action</th>\n",
              "      <th>Stimulation</th>\n",
              "      <th>Hedonism</th>\n",
              "      <th>Achievement</th>\n",
              "      <th>Power: dominance</th>\n",
              "      <th>Power: resources</th>\n",
              "      <th>Face</th>\n",
              "      <th>Security: personal</th>\n",
              "      <th>Security: societal</th>\n",
              "      <th>Tradition</th>\n",
              "      <th>Conformity: rules</th>\n",
              "      <th>Conformity: interpersonal</th>\n",
              "      <th>Humility</th>\n",
              "      <th>Benevolence: caring</th>\n",
              "      <th>Benevolence: dependability</th>\n",
              "      <th>Universalism: concern</th>\n",
              "      <th>Universalism: nature</th>\n",
              "      <th>Universalism: tolerance</th>\n",
              "      <th>Universalism: objectivity</th>\n",
              "    </tr>\n",
              "    <tr>\n",
              "      <th>Argument ID</th>\n",
              "      <th></th>\n",
              "      <th></th>\n",
              "      <th></th>\n",
              "      <th></th>\n",
              "      <th></th>\n",
              "      <th></th>\n",
              "      <th></th>\n",
              "      <th></th>\n",
              "      <th></th>\n",
              "      <th></th>\n",
              "      <th></th>\n",
              "      <th></th>\n",
              "      <th></th>\n",
              "      <th></th>\n",
              "      <th></th>\n",
              "      <th></th>\n",
              "      <th></th>\n",
              "      <th></th>\n",
              "      <th></th>\n",
              "      <th></th>\n",
              "    </tr>\n",
              "  </thead>\n",
              "  <tbody>\n",
              "    <tr>\n",
              "      <th>A01002</th>\n",
              "      <td>0</td>\n",
              "      <td>0</td>\n",
              "      <td>0</td>\n",
              "      <td>0</td>\n",
              "      <td>0</td>\n",
              "      <td>0</td>\n",
              "      <td>0</td>\n",
              "      <td>0</td>\n",
              "      <td>0</td>\n",
              "      <td>1</td>\n",
              "      <td>0</td>\n",
              "      <td>0</td>\n",
              "      <td>0</td>\n",
              "      <td>0</td>\n",
              "      <td>0</td>\n",
              "      <td>0</td>\n",
              "      <td>0</td>\n",
              "      <td>0</td>\n",
              "      <td>0</td>\n",
              "      <td>0</td>\n",
              "    </tr>\n",
              "    <tr>\n",
              "      <th>A01005</th>\n",
              "      <td>0</td>\n",
              "      <td>0</td>\n",
              "      <td>0</td>\n",
              "      <td>0</td>\n",
              "      <td>0</td>\n",
              "      <td>0</td>\n",
              "      <td>0</td>\n",
              "      <td>0</td>\n",
              "      <td>1</td>\n",
              "      <td>0</td>\n",
              "      <td>0</td>\n",
              "      <td>0</td>\n",
              "      <td>0</td>\n",
              "      <td>0</td>\n",
              "      <td>0</td>\n",
              "      <td>0</td>\n",
              "      <td>0</td>\n",
              "      <td>0</td>\n",
              "      <td>0</td>\n",
              "      <td>0</td>\n",
              "    </tr>\n",
              "    <tr>\n",
              "      <th>A01006</th>\n",
              "      <td>0</td>\n",
              "      <td>0</td>\n",
              "      <td>0</td>\n",
              "      <td>0</td>\n",
              "      <td>0</td>\n",
              "      <td>1</td>\n",
              "      <td>0</td>\n",
              "      <td>0</td>\n",
              "      <td>0</td>\n",
              "      <td>1</td>\n",
              "      <td>0</td>\n",
              "      <td>0</td>\n",
              "      <td>0</td>\n",
              "      <td>0</td>\n",
              "      <td>0</td>\n",
              "      <td>0</td>\n",
              "      <td>0</td>\n",
              "      <td>0</td>\n",
              "      <td>0</td>\n",
              "      <td>0</td>\n",
              "    </tr>\n",
              "    <tr>\n",
              "      <th>A01007</th>\n",
              "      <td>0</td>\n",
              "      <td>0</td>\n",
              "      <td>0</td>\n",
              "      <td>0</td>\n",
              "      <td>0</td>\n",
              "      <td>0</td>\n",
              "      <td>0</td>\n",
              "      <td>0</td>\n",
              "      <td>0</td>\n",
              "      <td>1</td>\n",
              "      <td>0</td>\n",
              "      <td>1</td>\n",
              "      <td>0</td>\n",
              "      <td>0</td>\n",
              "      <td>0</td>\n",
              "      <td>0</td>\n",
              "      <td>1</td>\n",
              "      <td>0</td>\n",
              "      <td>0</td>\n",
              "      <td>0</td>\n",
              "    </tr>\n",
              "    <tr>\n",
              "      <th>A01008</th>\n",
              "      <td>0</td>\n",
              "      <td>0</td>\n",
              "      <td>0</td>\n",
              "      <td>0</td>\n",
              "      <td>0</td>\n",
              "      <td>0</td>\n",
              "      <td>0</td>\n",
              "      <td>0</td>\n",
              "      <td>1</td>\n",
              "      <td>0</td>\n",
              "      <td>0</td>\n",
              "      <td>0</td>\n",
              "      <td>0</td>\n",
              "      <td>0</td>\n",
              "      <td>1</td>\n",
              "      <td>0</td>\n",
              "      <td>1</td>\n",
              "      <td>0</td>\n",
              "      <td>0</td>\n",
              "      <td>0</td>\n",
              "    </tr>\n",
              "  </tbody>\n",
              "</table>\n",
              "</div>"
            ],
            "text/plain": [
              "             Self-direction: thought  Self-direction: action  Stimulation  \\\n",
              "Argument ID                                                                 \n",
              "A01002                             0                       0            0   \n",
              "A01005                             0                       0            0   \n",
              "A01006                             0                       0            0   \n",
              "A01007                             0                       0            0   \n",
              "A01008                             0                       0            0   \n",
              "\n",
              "             Hedonism  Achievement  Power: dominance  Power: resources  Face  \\\n",
              "Argument ID                                                                    \n",
              "A01002              0            0                 0                 0     0   \n",
              "A01005              0            0                 0                 0     0   \n",
              "A01006              0            0                 1                 0     0   \n",
              "A01007              0            0                 0                 0     0   \n",
              "A01008              0            0                 0                 0     0   \n",
              "\n",
              "             Security: personal  Security: societal  Tradition  \\\n",
              "Argument ID                                                      \n",
              "A01002                        0                   1          0   \n",
              "A01005                        1                   0          0   \n",
              "A01006                        0                   1          0   \n",
              "A01007                        0                   1          0   \n",
              "A01008                        1                   0          0   \n",
              "\n",
              "             Conformity: rules  Conformity: interpersonal  Humility  \\\n",
              "Argument ID                                                           \n",
              "A01002                       0                          0         0   \n",
              "A01005                       0                          0         0   \n",
              "A01006                       0                          0         0   \n",
              "A01007                       1                          0         0   \n",
              "A01008                       0                          0         0   \n",
              "\n",
              "             Benevolence: caring  Benevolence: dependability  \\\n",
              "Argument ID                                                    \n",
              "A01002                         0                           0   \n",
              "A01005                         0                           0   \n",
              "A01006                         0                           0   \n",
              "A01007                         0                           0   \n",
              "A01008                         1                           0   \n",
              "\n",
              "             Universalism: concern  Universalism: nature  \\\n",
              "Argument ID                                                \n",
              "A01002                           0                     0   \n",
              "A01005                           0                     0   \n",
              "A01006                           0                     0   \n",
              "A01007                           1                     0   \n",
              "A01008                           1                     0   \n",
              "\n",
              "             Universalism: tolerance  Universalism: objectivity  \n",
              "Argument ID                                                      \n",
              "A01002                             0                          0  \n",
              "A01005                             0                          0  \n",
              "A01006                             0                          0  \n",
              "A01007                             0                          0  \n",
              "A01008                             0                          0  "
            ]
          },
          "execution_count": 13,
          "metadata": {},
          "output_type": "execute_result"
        }
      ],
      "source": [
        "train_labels_df.head()"
      ]
    },
    {
      "cell_type": "code",
      "execution_count": 14,
      "metadata": {
        "colab": {
          "base_uri": "https://localhost:8080/",
          "height": 143
        },
        "id": "1E2xyRdZV0jJ",
        "outputId": "fb620a74-e57a-4dcd-ac71-1ff69b3731d8"
      },
      "outputs": [
        {
          "data": {
            "text/html": [
              "<div>\n",
              "<style scoped>\n",
              "    .dataframe tbody tr th:only-of-type {\n",
              "        vertical-align: middle;\n",
              "    }\n",
              "\n",
              "    .dataframe tbody tr th {\n",
              "        vertical-align: top;\n",
              "    }\n",
              "\n",
              "    .dataframe thead th {\n",
              "        text-align: right;\n",
              "    }\n",
              "</style>\n",
              "<table border=\"1\" class=\"dataframe\">\n",
              "  <thead>\n",
              "    <tr style=\"text-align: right;\">\n",
              "      <th></th>\n",
              "      <th>Conclusion</th>\n",
              "      <th>Stance</th>\n",
              "      <th>Premise</th>\n",
              "    </tr>\n",
              "  </thead>\n",
              "  <tbody>\n",
              "    <tr>\n",
              "      <th>count</th>\n",
              "      <td>5392</td>\n",
              "      <td>5392</td>\n",
              "      <td>5392</td>\n",
              "    </tr>\n",
              "    <tr>\n",
              "      <th>unique</th>\n",
              "      <td>332</td>\n",
              "      <td>2</td>\n",
              "      <td>5312</td>\n",
              "    </tr>\n",
              "    <tr>\n",
              "      <th>freq</th>\n",
              "      <td>114</td>\n",
              "      <td>2898</td>\n",
              "      <td>2</td>\n",
              "    </tr>\n",
              "  </tbody>\n",
              "</table>\n",
              "</div>"
            ],
            "text/plain": [
              "       Conclusion Stance Premise\n",
              "count        5392   5392    5392\n",
              "unique        332      2    5312\n",
              "freq          114   2898       2"
            ]
          },
          "execution_count": 14,
          "metadata": {},
          "output_type": "execute_result"
        }
      ],
      "source": [
        "train_df.describe().drop(index=['top'], axis=1)"
      ]
    },
    {
      "cell_type": "markdown",
      "metadata": {
        "id": "V5zG952JV0jJ"
      },
      "source": [
        "A barplot to describe the representation in the dataset of each argument's category"
      ]
    },
    {
      "cell_type": "code",
      "execution_count": 15,
      "metadata": {
        "colab": {
          "base_uri": "https://localhost:8080/",
          "height": 621
        },
        "id": "ibkcEWedV0jJ",
        "outputId": "89bc7cd8-53af-47f3-be8a-08ca2fea4290"
      },
      "outputs": [
        {
          "data": {
            "text/plain": [
              "<BarContainer object of 20 artists>"
            ]
          },
          "execution_count": 15,
          "metadata": {},
          "output_type": "execute_result"
        },
        {
          "data": {
            "image/png": "[encoded data removed]",
            "text/plain": [
              "<Figure size 1900x600 with 1 Axes>"
            ]
          },
          "metadata": {},
          "output_type": "display_data"
        }
      ],
      "source": [
        "values = train_labels_df.sum().sort_values(ascending=False)\n",
        "y = np.array(values)\n",
        "x = np.array(values.index)\n",
        "\n",
        "plt.figure(figsize=(19,6))\n",
        "plt.xticks(rotation=45, ha=\"right\")\n",
        "plt.bar(x, height=y)"
      ]
    },
    {
      "cell_type": "code",
      "execution_count": 16,
      "metadata": {
        "colab": {
          "base_uri": "https://localhost:8080/"
        },
        "id": "fNyvQbLj_XwU",
        "outputId": "9a42e665-500b-45f1-eeaf-f28824c51e86"
      },
      "outputs": [
        {
          "data": {
            "text/plain": [
              "['Self-direction: thought',\n",
              " 'Self-direction: action',\n",
              " 'Stimulation',\n",
              " 'Hedonism',\n",
              " 'Achievement',\n",
              " 'Power: dominance',\n",
              " 'Power: resources',\n",
              " 'Face',\n",
              " 'Security: personal',\n",
              " 'Security: societal',\n",
              " 'Tradition',\n",
              " 'Conformity: rules',\n",
              " 'Conformity: interpersonal',\n",
              " 'Humility',\n",
              " 'Benevolence: caring',\n",
              " 'Benevolence: dependability',\n",
              " 'Universalism: concern',\n",
              " 'Universalism: nature',\n",
              " 'Universalism: tolerance',\n",
              " 'Universalism: objectivity']"
            ]
          },
          "execution_count": 16,
          "metadata": {},
          "output_type": "execute_result"
        }
      ],
      "source": [
        "labels_names = train_labels_df.columns.tolist()\n",
        "labels_names"
      ]
    },
    {
      "cell_type": "code",
      "execution_count": 17,
      "metadata": {
        "colab": {
          "base_uri": "https://localhost:8080/"
        },
        "id": "a1pg4qchLW1d",
        "outputId": "c9897463-d4d0-47f8-a18b-4227682ee056"
      },
      "outputs": [
        {
          "data": {
            "text/plain": [
              "array([[0, 0, 0, ..., 0, 0, 0],\n",
              "       [0, 0, 0, ..., 0, 0, 0],\n",
              "       [0, 0, 0, ..., 0, 0, 0],\n",
              "       ...,\n",
              "       [0, 0, 0, ..., 1, 0, 0],\n",
              "       [0, 0, 0, ..., 0, 0, 1],\n",
              "       [0, 1, 0, ..., 0, 0, 0]])"
            ]
          },
          "execution_count": 17,
          "metadata": {},
          "output_type": "execute_result"
        }
      ],
      "source": [
        "train_labels_df.values"
      ]
    },
    {
      "cell_type": "markdown",
      "metadata": {
        "id": "wbJQ-F2tQrfx"
      },
      "source": [
        "## Baseline model"
      ]
    },
    {
      "cell_type": "code",
      "execution_count": 18,
      "metadata": {
        "colab": {
          "base_uri": "https://localhost:8080/"
        },
        "id": "1I2i1TYgQrMb",
        "outputId": "5dcc81be-2865-41a4-9d15-89e9bcc1ac98"
      },
      "outputs": [
        {
          "name": "stdout",
          "output_type": "stream",
          "text": [
            "Baseline F1 score: micro= 0.28722419205492444  macro= 0.27177163823134165\n"
          ]
        }
      ],
      "source": [
        "from sklearn.metrics import f1_score\n",
        "dummy_predictions = np.ones(val_labels_df.shape)\n",
        "micro = f1_score(val_labels_df.values, dummy_predictions, average='micro')\n",
        "macro = f1_score(val_labels_df.values, dummy_predictions, average='macro')\n",
        "print(\"Baseline F1 score: micro=\", micro, \" macro=\", macro)"
      ]
    },
    {
      "attachments": {},
      "cell_type": "markdown",
      "metadata": {},
      "source": [
        "## Bi-gram model"
      ]
    },
    {
      "cell_type": "code",
      "execution_count": 19,
      "metadata": {},
      "outputs": [],
      "source": [
        "train_df.columns\n",
        "train_df_merged = pd.DataFrame(train_df.apply(lambda x: ','.join(x.dropna().astype(str)), axis=1),\n",
        "                            columns=[\"Text\"], index=None)\n",
        "val_df_merged = pd.DataFrame(val_df.apply(lambda x: ','.join(x.dropna().astype(str)), axis=1),\n",
        "    columns=[\"Text\"], index=None)"
      ]
    },
    {
      "cell_type": "code",
      "execution_count": 20,
      "metadata": {},
      "outputs": [],
      "source": [
        "from tensorflow import keras\n",
        "from tensorflow.keras import layers\n",
        "import tensorflow as tf\n",
        "\n",
        "def make_dataset(dataframe, labels):\n",
        "    ds =  tf.data.Dataset.from_tensor_slices(\n",
        "        (dataframe[\"Text\"].values, labels.values)\n",
        "    )\n",
        "    return ds.batch(batch_size=32)"
      ]
    },
    {
      "cell_type": "code",
      "execution_count": 21,
      "metadata": {},
      "outputs": [
        {
          "name": "stderr",
          "output_type": "stream",
          "text": [
            "2023-04-16 16:24:37.668982: I tensorflow/compiler/xla/stream_executor/cuda/cuda_gpu_executor.cc:981] successful NUMA node read from SysFS had negative value (-1), but there must be at least one NUMA node, so returning NUMA node zero\n",
            "2023-04-16 16:24:37.687359: I tensorflow/compiler/xla/stream_executor/cuda/cuda_gpu_executor.cc:981] successful NUMA node read from SysFS had negative value (-1), but there must be at least one NUMA node, so returning NUMA node zero\n",
            "2023-04-16 16:24:37.687557: I tensorflow/compiler/xla/stream_executor/cuda/cuda_gpu_executor.cc:981] successful NUMA node read from SysFS had negative value (-1), but there must be at least one NUMA node, so returning NUMA node zero\n",
            "2023-04-16 16:24:37.689354: I tensorflow/core/platform/cpu_feature_guard.cc:193] This TensorFlow binary is optimized with oneAPI Deep Neural Network Library (oneDNN) to use the following CPU instructions in performance-critical operations:  AVX2 AVX512F AVX512_VNNI FMA\n",
            "To enable them in other operations, rebuild TensorFlow with the appropriate compiler flags.\n",
            "2023-04-16 16:24:37.690322: I tensorflow/compiler/xla/stream_executor/cuda/cuda_gpu_executor.cc:981] successful NUMA node read from SysFS had negative value (-1), but there must be at least one NUMA node, so returning NUMA node zero\n",
            "2023-04-16 16:24:37.690454: I tensorflow/compiler/xla/stream_executor/cuda/cuda_gpu_executor.cc:981] successful NUMA node read from SysFS had negative value (-1), but there must be at least one NUMA node, so returning NUMA node zero\n",
            "2023-04-16 16:24:37.690531: I tensorflow/compiler/xla/stream_executor/cuda/cuda_gpu_executor.cc:981] successful NUMA node read from SysFS had negative value (-1), but there must be at least one NUMA node, so returning NUMA node zero\n",
            "2023-04-16 16:24:38.262640: I tensorflow/compiler/xla/stream_executor/cuda/cuda_gpu_executor.cc:981] successful NUMA node read from SysFS had negative value (-1), but there must be at least one NUMA node, so returning NUMA node zero\n",
            "2023-04-16 16:24:38.263029: I tensorflow/compiler/xla/stream_executor/cuda/cuda_gpu_executor.cc:981] successful NUMA node read from SysFS had negative value (-1), but there must be at least one NUMA node, so returning NUMA node zero\n",
            "2023-04-16 16:24:38.263115: I tensorflow/compiler/xla/stream_executor/cuda/cuda_gpu_executor.cc:981] successful NUMA node read from SysFS had negative value (-1), but there must be at least one NUMA node, so returning NUMA node zero\n",
            "2023-04-16 16:24:38.263191: I tensorflow/core/common_runtime/gpu/gpu_device.cc:1613] Created device /job:localhost/replica:0/task:0/device:GPU:0 with 2099 MB memory:  -> device: 0, name: NVIDIA GeForce RTX 3050 Ti Laptop GPU, pci bus id: 0000:01:00.0, compute capability: 8.6\n"
          ]
        }
      ],
      "source": [
        "split = 3500\n",
        "train_ds = make_dataset(train_df_merged.iloc[:split], train_labels_df[:split])\n",
        "val_ds = make_dataset(train_df_merged.iloc[split:],train_labels_df[split:] )\n",
        "test_ds = make_dataset(val_df_merged, val_labels_df)"
      ]
    },
    {
      "cell_type": "code",
      "execution_count": 22,
      "metadata": {},
      "outputs": [
        {
          "data": {
            "text/plain": [
              "<BatchDataset element_spec=(TensorSpec(shape=(None,), dtype=tf.string, name=None), TensorSpec(shape=(None, 20), dtype=tf.int64, name=None))>"
            ]
          },
          "execution_count": 22,
          "metadata": {},
          "output_type": "execute_result"
        }
      ],
      "source": [
        "train_ds"
      ]
    },
    {
      "cell_type": "code",
      "execution_count": 23,
      "metadata": {},
      "outputs": [
        {
          "name": "stdout",
          "output_type": "stream",
          "text": [
            "12740\n"
          ]
        }
      ],
      "source": [
        "vocabulary = set()\n",
        "train_df_merged[\"Text\"].str.lower().str.split().apply(vocabulary.update)\n",
        "vocabulary_size = len(vocabulary)\n",
        "print(vocabulary_size)"
      ]
    },
    {
      "cell_type": "code",
      "execution_count": 73,
      "metadata": {},
      "outputs": [],
      "source": [
        "from tensorflow.keras.layers import TextVectorization\n",
        "\n",
        "text_vectorization = TextVectorization(max_tokens = vocabulary_size,\n",
        "                                       output_mode = \"tf_idf\",\n",
        "                                       ngrams=3\n",
        "                                       )\n",
        "\n",
        "text_vectorization.adapt(train_ds.map(lambda x,y: x))\n",
        "bigram_train_ds = train_ds.map(lambda x,y : (text_vectorization(x),y), num_parallel_calls=tf.data.AUTOTUNE)\n",
        "bigram_val_ds = val_ds.map(lambda x,y : (text_vectorization(x),y), num_parallel_calls=tf.data.AUTOTUNE)\n",
        "bigram_test_ds = test_ds.map(lambda x,y : (text_vectorization(x),y), num_parallel_calls=tf.data.AUTOTUNE)"
      ]
    },
    {
      "cell_type": "code",
      "execution_count": 74,
      "metadata": {},
      "outputs": [],
      "source": [
        "from keras.optimizers import Adam\n",
        "\n",
        "def get_model(max_tokens = vocabulary_size, hidden_dim=32):\n",
        "    inputs = keras.Input(shape=(max_tokens,))\n",
        "    x = layers.Dense(hidden_dim, activation = \"relu\")(inputs)\n",
        "    x = layers.Dropout(0.2)(x)\n",
        "    outputs = layers.Dense(len(labels_names), activation = \"sigmoid\")(x)\n",
        "    model = keras.Model(inputs, outputs)\n",
        "    model.compile(optimizer=Adam(),\n",
        "                  loss =\"binary_crossentropy\",\n",
        "                  metrics=[\"accuracy\"])\n",
        "    return model\n",
        "\n",
        "def get_model2(max_tokens = vocabulary_size):\n",
        "    model = keras.Sequential([\n",
        "        keras.Input(shape=(max_tokens,)),\n",
        "        layers.Dense(512, activation =\"relu\"),\n",
        "        layers.Dense(256, activation =\"relu\"),\n",
        "        layers.Dense(len(labels_names), activation =\"sigmoid\"),\n",
        "\n",
        "    ])\n",
        "    model.compile(optimizer=Adam(),\n",
        "                  loss =\"binary_crossentropy\",\n",
        "                  metrics=[\"accuracy\"])\n",
        "    return model"
      ]
    },
    {
      "cell_type": "code",
      "execution_count": 75,
      "metadata": {},
      "outputs": [
        {
          "name": "stdout",
          "output_type": "stream",
          "text": [
            "Model: \"model_2\"\n",
            "_________________________________________________________________\n",
            " Layer (type)                Output Shape              Param #   \n",
            "=================================================================\n",
            " input_3 (InputLayer)        [(None, 12740)]           0         \n",
            "                                                                 \n",
            " dense_4 (Dense)             (None, 32)                407712    \n",
            "                                                                 \n",
            " dropout_2 (Dropout)         (None, 32)                0         \n",
            "                                                                 \n",
            " dense_5 (Dense)             (None, 20)                660       \n",
            "                                                                 \n",
            "=================================================================\n",
            "Total params: 408,372\n",
            "Trainable params: 408,372\n",
            "Non-trainable params: 0\n",
            "_________________________________________________________________\n"
          ]
        }
      ],
      "source": [
        "model = get_model()\n",
        "model.summary()\n",
        "callbacks = [\n",
        "    keras.callbacks.ModelCheckpoint(\"binary_2gram.keras\", save_best_only=True)\n",
        "]"
      ]
    },
    {
      "cell_type": "code",
      "execution_count": 76,
      "metadata": {},
      "outputs": [
        {
          "name": "stdout",
          "output_type": "stream",
          "text": [
            "Epoch 1/10\n",
            "110/110 [==============================] - 1s 3ms/step - loss: 0.5012 - accuracy: 0.1266 - val_loss: 0.4559 - val_accuracy: 0.1797\n",
            "Epoch 2/10\n",
            "110/110 [==============================] - 0s 2ms/step - loss: 0.3482 - accuracy: 0.2560 - val_loss: 0.4270 - val_accuracy: 0.2193\n",
            "Epoch 3/10\n",
            "110/110 [==============================] - 0s 2ms/step - loss: 0.2870 - accuracy: 0.2963 - val_loss: 0.4494 - val_accuracy: 0.2172\n",
            "Epoch 4/10\n",
            "110/110 [==============================] - 0s 2ms/step - loss: 0.2478 - accuracy: 0.3240 - val_loss: 0.4624 - val_accuracy: 0.2119\n",
            "Epoch 5/10\n",
            "110/110 [==============================] - 0s 2ms/step - loss: 0.2164 - accuracy: 0.3283 - val_loss: 0.4762 - val_accuracy: 0.2178\n",
            "Epoch 6/10\n",
            "110/110 [==============================] - 0s 2ms/step - loss: 0.1909 - accuracy: 0.3374 - val_loss: 0.5080 - val_accuracy: 0.2109\n",
            "Epoch 7/10\n",
            "110/110 [==============================] - 0s 2ms/step - loss: 0.1756 - accuracy: 0.3340 - val_loss: 0.5411 - val_accuracy: 0.2273\n",
            "Epoch 8/10\n",
            "110/110 [==============================] - 0s 2ms/step - loss: 0.1595 - accuracy: 0.3349 - val_loss: 0.5295 - val_accuracy: 0.2304\n",
            "Epoch 9/10\n",
            "110/110 [==============================] - 0s 2ms/step - loss: 0.1517 - accuracy: 0.3383 - val_loss: 0.5388 - val_accuracy: 0.2188\n",
            "Epoch 10/10\n",
            "110/110 [==============================] - 0s 2ms/step - loss: 0.1395 - accuracy: 0.3529 - val_loss: 0.5374 - val_accuracy: 0.2146\n"
          ]
        },
        {
          "data": {
            "text/plain": [
              "<keras.callbacks.History at 0x7f07adaefa30>"
            ]
          },
          "execution_count": 76,
          "metadata": {},
          "output_type": "execute_result"
        }
      ],
      "source": [
        "model.fit(bigram_train_ds,\n",
        "          validation_data = bigram_val_ds,\n",
        "          epochs=10,\n",
        "          callbacks=callbacks)"
      ]
    },
    {
      "cell_type": "code",
      "execution_count": 77,
      "metadata": {},
      "outputs": [
        {
          "name": "stdout",
          "output_type": "stream",
          "text": [
            "60/60 [==============================] - 0s 1ms/step - loss: 0.4442 - accuracy: 0.1841\n",
            "Test acc: 0.18407173454761505\n"
          ]
        }
      ],
      "source": [
        "model = keras.models.load_model(\"binary_2gram.keras\")\n",
        "print(f\"Test acc: {model.evaluate(bigram_test_ds)[1]}\")"
      ]
    },
    {
      "cell_type": "code",
      "execution_count": 78,
      "metadata": {},
      "outputs": [
        {
          "name": "stdout",
          "output_type": "stream",
          "text": [
            "60/60 [==============================] - 0s 1ms/step - loss: 0.4442 - accuracy: 0.1841\n"
          ]
        },
        {
          "data": {
            "text/plain": [
              "[0.4442370533943176, 0.18407173454761505]"
            ]
          },
          "execution_count": 78,
          "metadata": {},
          "output_type": "execute_result"
        }
      ],
      "source": [
        "model.evaluate(bigram_test_ds)"
      ]
    },
    {
      "cell_type": "code",
      "execution_count": 79,
      "metadata": {},
      "outputs": [
        {
          "name": "stdout",
          "output_type": "stream",
          "text": [
            "60/60 [==============================] - 0s 879us/step\n"
          ]
        }
      ],
      "source": [
        "y_p = model.predict(bigram_test_ds)"
      ]
    },
    {
      "cell_type": "code",
      "execution_count": 80,
      "metadata": {},
      "outputs": [
        {
          "data": {
            "text/plain": [
              "array([0.1520402 , 0.35189086, 0.02381035, 0.02225954, 0.33870485,\n",
              "       0.04731569, 0.11031144, 0.0261517 , 0.32028434, 0.44067907,\n",
              "       0.06113632, 0.20967825, 0.03823125, 0.07780516, 0.18381433,\n",
              "       0.18585955, 0.31532165, 0.08411199, 0.18899667, 0.23731965],\n",
              "      dtype=float32)"
            ]
          },
          "execution_count": 80,
          "metadata": {},
          "output_type": "execute_result"
        }
      ],
      "source": [
        "y_p[0]"
      ]
    },
    {
      "cell_type": "code",
      "execution_count": 87,
      "metadata": {},
      "outputs": [
        {
          "data": {
            "text/plain": [
              "(1896, 20)"
            ]
          },
          "execution_count": 87,
          "metadata": {},
          "output_type": "execute_result"
        }
      ],
      "source": [
        "threshold = 0.25\n",
        "y_pred=[]\n",
        "for sample in y_p:\n",
        "  y_pred.append([1 if i>=threshold else 0 for i in sample])\n",
        "y_pred = np.array(y_pred)\n",
        "y_pred.shape"
      ]
    },
    {
      "cell_type": "code",
      "execution_count": 88,
      "metadata": {},
      "outputs": [
        {
          "name": "stdout",
          "output_type": "stream",
          "text": [
            "                            precision    recall  f1-score   support\n",
            "\n",
            "   Self-direction: thought       0.40      0.20      0.26       251\n",
            "    Self-direction: action       0.32      0.68      0.43       496\n",
            "               Stimulation       1.00      0.01      0.01       138\n",
            "                  Hedonism       0.00      0.00      0.00       103\n",
            "               Achievement       0.32      0.86      0.47       575\n",
            "          Power: dominance       0.00      0.00      0.00       164\n",
            "          Power: resources       0.10      0.02      0.03       132\n",
            "                      Face       0.50      0.01      0.02       130\n",
            "        Security: personal       0.41      0.97      0.58       759\n",
            "        Security: societal       0.27      0.95      0.42       488\n",
            "                 Tradition       0.03      0.01      0.01       172\n",
            "         Conformity: rules       0.34      0.50      0.40       455\n",
            " Conformity: interpersonal       0.00      0.00      0.00        60\n",
            "                  Humility       0.01      0.01      0.01       127\n",
            "       Benevolence: caring       0.41      0.65      0.50       633\n",
            "Benevolence: dependability       0.14      0.59      0.23       268\n",
            "     Universalism: concern       0.37      0.90      0.53       687\n",
            "      Universalism: nature       0.00      0.00      0.00       127\n",
            "   Universalism: tolerance       0.13      0.32      0.19       223\n",
            " Universalism: objectivity       0.20      0.67      0.31       371\n",
            "\n",
            "                 micro avg       0.30      0.60      0.40      6359\n",
            "                 macro avg       0.25      0.37      0.22      6359\n",
            "              weighted avg       0.30      0.60      0.36      6359\n",
            "               samples avg       0.32      0.63      0.39      6359\n",
            "\n"
          ]
        }
      ],
      "source": [
        "from sklearn.metrics import accuracy_score, classification_report\n",
        "accuracy_score(val_labels_df.values, y_pred)\n",
        "print(classification_report(val_labels_df.values, y_pred, target_names = labels_names, zero_division = 0))"
      ]
    }
  ],
  "metadata": {
    "accelerator": "GPU",
    "colab": {
      "provenance": []
    },
    "gpuClass": "standard",
    "kernelspec": {
      "display_name": "ai",
      "language": "python",
      "name": "python3"
    },
    "language_info": {
      "codemirror_mode": {
        "name": "ipython",
        "version": 3
      },
      "file_extension": ".py",
      "mimetype": "text/x-python",
      "name": "python",
      "nbconvert_exporter": "python",
      "pygments_lexer": "ipython3",
      "version": "3.10.8"
    },
    "orig_nbformat": 4,
    "vscode": {
      "interpreter": {
        "hash": "4c836f7cc80bc1a8d8e102421d11f290f4773c065ede34effdfd405867e24fd6"
      }
    }
  },
  "nbformat": 4,
  "nbformat_minor": 0
}
