{
  "cells": [
    {
      "attachments": {},
      "cell_type": "markdown",
      "metadata": {},
      "source": [
        "[![Open In Colab](https://colab.research.google.com/assets/colab-badge.svg)](https://colab.research.google.com/github/Danysan1/ai-unibo-nlp-project/blob/main/a2/execution.ipynb)\n",
        "[![Kaggle](https://kaggle.com/static/images/open-in-kaggle.svg)](https://kaggle.com/kernels/welcome?src=https://github.com/Danysan1/ai-unibo-nlp-project/blob/main/a2/execution.ipynb)"
      ]
    },
    {
      "cell_type": "markdown",
      "metadata": {
        "id": "qtlMx4kv1mPK"
      },
      "source": [
        "# Assignment 2 execution"
      ]
    },
    {
      "cell_type": "code",
      "execution_count": 59,
      "metadata": {
        "colab": {
          "base_uri": "https://localhost:8080/"
        },
        "execution": {
          "iopub.execute_input": "2023-01-14T19:27:05.276062Z",
          "iopub.status.busy": "2023-01-14T19:27:05.275678Z",
          "iopub.status.idle": "2023-01-14T19:27:15.930750Z",
          "shell.execute_reply": "2023-01-14T19:27:15.929368Z",
          "shell.execute_reply.started": "2023-01-14T19:27:05.276030Z"
        },
        "id": "feevAAsT1mPL",
        "outputId": "179f7041-1301-488b-d720-ed4317810803",
        "trusted": true
      },
      "outputs": [
        {
          "name": "stdout",
          "output_type": "stream",
          "text": [
            "Looking in indexes: https://pypi.org/simple, https://us-python.pkg.dev/colab-wheels/public/simple/\n",
            "Requirement already satisfied: pandas in /usr/local/lib/python3.8/dist-packages (1.3.5)\n",
            "Requirement already satisfied: numpy in /usr/local/lib/python3.8/dist-packages (1.21.6)\n",
            "Requirement already satisfied: matplotlib in /usr/local/lib/python3.8/dist-packages (3.2.2)\n",
            "Requirement already satisfied: transformers==4.25.1 in /usr/local/lib/python3.8/dist-packages (4.25.1)\n",
            "Requirement already satisfied: dataset in /usr/local/lib/python3.8/dist-packages (1.5.2)\n",
            "Requirement already satisfied: filelock in /usr/local/lib/python3.8/dist-packages (from transformers==4.25.1) (3.9.0)\n",
            "Requirement already satisfied: regex!=2019.12.17 in /usr/local/lib/python3.8/dist-packages (from transformers==4.25.1) (2022.6.2)\n",
            "Requirement already satisfied: tqdm>=4.27 in /usr/local/lib/python3.8/dist-packages (from transformers==4.25.1) (4.64.1)\n",
            "Requirement already satisfied: huggingface-hub<1.0,>=0.10.0 in /usr/local/lib/python3.8/dist-packages (from transformers==4.25.1) (0.11.1)\n",
            "Requirement already satisfied: requests in /usr/local/lib/python3.8/dist-packages (from transformers==4.25.1) (2.25.1)\n",
            "Requirement already satisfied: pyyaml>=5.1 in /usr/local/lib/python3.8/dist-packages (from transformers==4.25.1) (6.0)\n",
            "Requirement already satisfied: packaging>=20.0 in /usr/local/lib/python3.8/dist-packages (from transformers==4.25.1) (21.3)\n",
            "Requirement already satisfied: tokenizers!=0.11.3,<0.14,>=0.11.1 in /usr/local/lib/python3.8/dist-packages (from transformers==4.25.1) (0.13.2)\n",
            "Requirement already satisfied: pytz>=2017.3 in /usr/local/lib/python3.8/dist-packages (from pandas) (2022.7)\n",
            "Requirement already satisfied: python-dateutil>=2.7.3 in /usr/local/lib/python3.8/dist-packages (from pandas) (2.8.2)\n",
            "Requirement already satisfied: kiwisolver>=1.0.1 in /usr/local/lib/python3.8/dist-packages (from matplotlib) (1.4.4)\n",
            "Requirement already satisfied: cycler>=0.10 in /usr/local/lib/python3.8/dist-packages (from matplotlib) (0.11.0)\n",
            "Requirement already satisfied: pyparsing!=2.0.4,!=2.1.2,!=2.1.6,>=2.0.1 in /usr/local/lib/python3.8/dist-packages (from matplotlib) (3.0.9)\n",
            "Requirement already satisfied: banal>=1.0.1 in /usr/local/lib/python3.8/dist-packages (from dataset) (1.0.6)\n",
            "Requirement already satisfied: alembic>=0.6.2 in /usr/local/lib/python3.8/dist-packages (from dataset) (1.9.2)\n",
            "Requirement already satisfied: sqlalchemy>=1.3.2 in /usr/local/lib/python3.8/dist-packages (from dataset) (1.4.46)\n",
            "Requirement already satisfied: Mako in /usr/local/lib/python3.8/dist-packages (from alembic>=0.6.2->dataset) (1.2.4)\n",
            "Requirement already satisfied: importlib-resources in /usr/local/lib/python3.8/dist-packages (from alembic>=0.6.2->dataset) (5.10.2)\n",
            "Requirement already satisfied: importlib-metadata in /usr/local/lib/python3.8/dist-packages (from alembic>=0.6.2->dataset) (6.0.0)\n",
            "Requirement already satisfied: typing-extensions>=3.7.4.3 in /usr/local/lib/python3.8/dist-packages (from huggingface-hub<1.0,>=0.10.0->transformers==4.25.1) (4.4.0)\n",
            "Requirement already satisfied: six>=1.5 in /usr/local/lib/python3.8/dist-packages (from python-dateutil>=2.7.3->pandas) (1.15.0)\n",
            "Requirement already satisfied: greenlet!=0.4.17 in /usr/local/lib/python3.8/dist-packages (from sqlalchemy>=1.3.2->dataset) (2.0.1)\n",
            "Requirement already satisfied: chardet<5,>=3.0.2 in /usr/local/lib/python3.8/dist-packages (from requests->transformers==4.25.1) (4.0.0)\n",
            "Requirement already satisfied: urllib3<1.27,>=1.21.1 in /usr/local/lib/python3.8/dist-packages (from requests->transformers==4.25.1) (1.24.3)\n",
            "Requirement already satisfied: idna<3,>=2.5 in /usr/local/lib/python3.8/dist-packages (from requests->transformers==4.25.1) (2.10)\n",
            "Requirement already satisfied: certifi>=2017.4.17 in /usr/local/lib/python3.8/dist-packages (from requests->transformers==4.25.1) (2022.12.7)\n",
            "Requirement already satisfied: zipp>=0.5 in /usr/local/lib/python3.8/dist-packages (from importlib-metadata->alembic>=0.6.2->dataset) (3.11.0)\n",
            "Requirement already satisfied: MarkupSafe>=0.9.2 in /usr/local/lib/python3.8/dist-packages (from Mako->alembic>=0.6.2->dataset) (2.0.1)\n"
          ]
        }
      ],
      "source": [
        "%pip install pandas numpy matplotlib transformers==4.25.1  dataset"
      ]
    },
    {
      "cell_type": "markdown",
      "metadata": {
        "id": "K_aTEeegKvYn"
      },
      "source": [
        "##Reproducibility"
      ]
    },
    {
      "cell_type": "code",
      "execution_count": 60,
      "metadata": {
        "id": "EhOiCAcW0R2i"
      },
      "outputs": [],
      "source": [
        "def fix_seed(seed: int) -> None:\n",
        "    \"\"\"Fix all the possible sources of randomness.\n",
        "\n",
        "    Args:\n",
        "        seed: the seed to use. \n",
        "    \"\"\"\n",
        "    np.random.seed(seed)\n",
        "    random.seed(seed)\n",
        "    torch.manual_seed(seed)\n",
        "    torch.cuda.manual_seed(seed)\n",
        "    \n",
        "    torch.backends.cudnn.benchmark = False\n",
        "    torch.backends.cudnn.deterministic = True"
      ]
    },
    {
      "cell_type": "markdown",
      "metadata": {
        "id": "kJSsWQg_1mPO"
      },
      "source": [
        "## Data loading"
      ]
    },
    {
      "cell_type": "markdown",
      "metadata": {
        "id": "1mXm1Fpq1mPP"
      },
      "source": [
        "### Dataset download"
      ]
    },
    {
      "cell_type": "code",
      "execution_count": 61,
      "metadata": {
        "execution": {
          "iopub.execute_input": "2023-01-14T19:27:15.933918Z",
          "iopub.status.busy": "2023-01-14T19:27:15.933200Z",
          "iopub.status.idle": "2023-01-14T19:27:15.943875Z",
          "shell.execute_reply": "2023-01-14T19:27:15.943086Z",
          "shell.execute_reply.started": "2023-01-14T19:27:15.933876Z"
        },
        "id": "oOqlik_a1mPP",
        "trusted": true
      },
      "outputs": [],
      "source": [
        "import os\n",
        "import urllib.request\n",
        "from tqdm import tqdm\n",
        "\n",
        "class DownloadProgressBar(tqdm):\n",
        "    def update_to(self, b=1, bsize=1, tsize=None):\n",
        "        if tsize is not None:\n",
        "            self.total = tsize\n",
        "        self.update(b * bsize - self.n)\n",
        "        \n",
        "def download_url(url, output_path):\n",
        "    with DownloadProgressBar(unit='B', unit_scale=True,\n",
        "                             miniters=1, desc=url.split('/')[-1]) as t:\n",
        "        urllib.request.urlretrieve(url, filename=output_path, reporthook=t.update_to)\n",
        "\n",
        "def download_data(data_path, url_path, suffix):    \n",
        "    if not os.path.exists(data_path):\n",
        "        os.makedirs(data_path)\n",
        "        \n",
        "    data_path = os.path.join(data_path, f'{suffix}.json')\n",
        "    if not os.path.exists(data_path):\n",
        "        print(f\"Downloading CoQA {suffix} data split... (it may take a while)\")\n",
        "        download_url(url=url_path, output_path=data_path)\n",
        "        print(\"Download completed!\")"
      ]
    },
    {
      "cell_type": "code",
      "execution_count": 62,
      "metadata": {
        "execution": {
          "iopub.execute_input": "2023-01-14T19:27:15.947037Z",
          "iopub.status.busy": "2023-01-14T19:27:15.946772Z",
          "iopub.status.idle": "2023-01-14T19:27:15.955878Z",
          "shell.execute_reply": "2023-01-14T19:27:15.954901Z",
          "shell.execute_reply.started": "2023-01-14T19:27:15.947012Z"
        },
        "id": "sskRUOtB1mPR",
        "trusted": true
      },
      "outputs": [],
      "source": [
        "data_folder = 'Dataset'"
      ]
    },
    {
      "cell_type": "code",
      "execution_count": 63,
      "metadata": {
        "execution": {
          "iopub.execute_input": "2023-01-14T19:27:15.959226Z",
          "iopub.status.busy": "2023-01-14T19:27:15.958711Z",
          "iopub.status.idle": "2023-01-14T19:27:15.965990Z",
          "shell.execute_reply": "2023-01-14T19:27:15.965021Z",
          "shell.execute_reply.started": "2023-01-14T19:27:15.959169Z"
        },
        "id": "CzsJWqI61mPR",
        "trusted": true
      },
      "outputs": [],
      "source": [
        "# Train & Validation data\n",
        "train_url = \"https://nlp.stanford.edu/data/coqa/coqa-train-v1.0.json\"\n",
        "download_data(data_path=data_folder, url_path=train_url, suffix='train')\n",
        "\n",
        "# Test data\n",
        "test_url = \"https://nlp.stanford.edu/data/coqa/coqa-dev-v1.0.json\"\n",
        "download_data(data_path=data_folder, url_path=test_url, suffix='test')"
      ]
    },
    {
      "cell_type": "markdown",
      "metadata": {
        "id": "GsM9znVV1mPT"
      },
      "source": [
        "### Dataset loading"
      ]
    },
    {
      "cell_type": "code",
      "execution_count": 64,
      "metadata": {
        "execution": {
          "iopub.execute_input": "2023-01-14T19:27:15.968286Z",
          "iopub.status.busy": "2023-01-14T19:27:15.967313Z",
          "iopub.status.idle": "2023-01-14T19:27:15.977796Z",
          "shell.execute_reply": "2023-01-14T19:27:15.976677Z",
          "shell.execute_reply.started": "2023-01-14T19:27:15.968251Z"
        },
        "id": "VRsmY5Wn1mPV",
        "trusted": true
      },
      "outputs": [],
      "source": [
        "import numpy as np\n",
        "import pandas as pd\n",
        "import json\n",
        "from os import path\n",
        "from matplotlib import pyplot as plt"
      ]
    },
    {
      "cell_type": "code",
      "execution_count": 65,
      "metadata": {
        "execution": {
          "iopub.execute_input": "2023-01-14T19:27:15.979843Z",
          "iopub.status.busy": "2023-01-14T19:27:15.979480Z",
          "iopub.status.idle": "2023-01-14T19:27:15.993559Z",
          "shell.execute_reply": "2023-01-14T19:27:15.992649Z",
          "shell.execute_reply.started": "2023-01-14T19:27:15.979810Z"
        },
        "id": "lI74kMng1mPW",
        "trusted": true
      },
      "outputs": [],
      "source": [
        "def load_coqa_dataset(filename:str) -> pd.DataFrame:\n",
        "    with open(path.join(data_folder, filename)) as file_obj:\n",
        "        data_arr = json.load(file_obj)[\"data\"]\n",
        "    print(f'{len(data_arr)} stories / {len(data_arr[0][\"questions\"])} questions in the first row')\n",
        "    \n",
        "    # Prepare the Categorical DTypes\n",
        "\n",
        "    storyDType = pd.CategoricalDtype(pd.unique([story[\"story\"] for story in data_arr]))\n",
        "    print(f\"{storyDType.categories.size} distinct stories\")\n",
        "\n",
        "    sourceDType = pd.CategoricalDtype(pd.unique([story[\"source\"] for story in data_arr]))\n",
        "    print(f\"{sourceDType.categories.size} distinct sources: {sourceDType.categories}\")\n",
        "    \n",
        "    # Transform into a numpy matrix (denormalization and categorical factorization)\n",
        "\n",
        "    data_arr = np.array([\n",
        "        [\n",
        "            sourceDType.categories.get_loc(story[\"source\"]), # Sources factorization\n",
        "            storyDType.categories.get_loc(story[\"story\"]), # Sources factorization\n",
        "            story[\"questions\"][question_index][\"input_text\"],\n",
        "            story[\"answers\"][question_index][\"input_text\"],\n",
        "            story[\"answers\"][question_index][\"span_text\"],\n",
        "            #story[\"questions\"][question_index][\"turn_id\"],\n",
        "        ]\n",
        "        for story in data_arr\n",
        "        for question_index in range(len(story[\"questions\"]))\n",
        "        if story[\"answers\"][question_index][\"input_text\"] != 'unknown'\n",
        "    ])\n",
        "    print(f'{data_arr.shape} question-answer pairs x columns')\n",
        "    print(f'First row: {data_arr[0]}')\n",
        "    \n",
        "    # Transform into a DataFrame\n",
        "    \n",
        "    # https://marcobonzanini.com/2021/09/15/tips-for-saving-memory-with-pandas/\n",
        "    # https://pandas.pydata.org/docs/user_guide/categorical.html\n",
        "    return pd.DataFrame({\n",
        "        \"source\": pd.Series(pd.Categorical.from_codes(data_arr[:,0].astype(np.int16), dtype=sourceDType)),\n",
        "        \"p\": pd.Series(pd.Categorical.from_codes(data_arr[:,1].astype(np.int16), dtype=storyDType)),\n",
        "        \"q\": data_arr[:,2],\n",
        "        \"a\": data_arr[:,3],\n",
        "        \"span\": data_arr[:,4],\n",
        "    })"
      ]
    },
    {
      "cell_type": "code",
      "execution_count": 66,
      "metadata": {
        "execution": {
          "iopub.execute_input": "2023-01-14T19:27:15.995033Z",
          "iopub.status.busy": "2023-01-14T19:27:15.994763Z",
          "iopub.status.idle": "2023-01-14T19:27:16.004567Z",
          "shell.execute_reply": "2023-01-14T19:27:16.003692Z",
          "shell.execute_reply.started": "2023-01-14T19:27:15.994999Z"
        },
        "id": "qe5fUSnHu2eY",
        "trusted": true
      },
      "outputs": [],
      "source": [
        "def append_shifted_question_to_coqa_dataset(df:pd.DataFrame, shift:int) -> (pd.DataFrame,int):\n",
        "    if shift <= 0:\n",
        "        raise Exception(\"shift must be greater than zero\")\n",
        "    history_mask = df[\"p\"] == df[\"p\"].shift(shift)\n",
        "    history_series = df[\"q\"].shift(shift).astype(str) + ' ' + df[\"a\"].shift(shift) + '. ' + df[\"history\"]\n",
        "    df[\"history\"] = np.where(history_mask, history_series, df[\"history\"])\n",
        "    return df, history_mask.sum()"
      ]
    },
    {
      "cell_type": "code",
      "execution_count": 67,
      "metadata": {
        "execution": {
          "iopub.execute_input": "2023-01-14T19:27:16.008007Z",
          "iopub.status.busy": "2023-01-14T19:27:16.007753Z",
          "iopub.status.idle": "2023-01-14T19:27:16.018355Z",
          "shell.execute_reply": "2023-01-14T19:27:16.017379Z",
          "shell.execute_reply.started": "2023-01-14T19:27:16.007984Z"
        },
        "id": "ixnM9gZNu2eY",
        "trusted": true
      },
      "outputs": [],
      "source": [
        "def transform_coqa_dataset_with_history(df:pd.DataFrame, max_history_depth:int=3) -> pd.DataFrame:\n",
        "    df[\"history\"] = \"\"\n",
        "    for i in range(1, max_history_depth+1):\n",
        "        df, count = append_shifted_question_to_coqa_dataset(df, i)\n",
        "        #print(i, count)\n",
        "        if(count == 0):\n",
        "            break;\n",
        "    return df"
      ]
    },
    {
      "cell_type": "code",
      "execution_count": 68,
      "metadata": {
        "colab": {
          "base_uri": "https://localhost:8080/"
        },
        "execution": {
          "iopub.execute_input": "2023-01-14T19:27:16.021753Z",
          "iopub.status.busy": "2023-01-14T19:27:16.020981Z",
          "iopub.status.idle": "2023-01-14T19:27:22.418630Z",
          "shell.execute_reply": "2023-01-14T19:27:22.417721Z",
          "shell.execute_reply.started": "2023-01-14T19:27:16.021727Z"
        },
        "id": "jsZrgF5d1mPX",
        "outputId": "add9ba57-e507-47f2-b2d1-f1bf94b71e49",
        "trusted": true
      },
      "outputs": [
        {
          "name": "stdout",
          "output_type": "stream",
          "text": [
            "7199 stories / 20 questions in the first row\n",
            "6605 distinct stories\n",
            "5 distinct sources: Index(['wikipedia', 'cnn', 'gutenberg', 'race', 'mctest'], dtype='object')\n",
            "(107276, 5) question-answer pairs x columns\n",
            "First row: ['0' '0' 'When was the Vat formally opened?'\n",
            " 'It was formally established in 1475' 'Formally established in 1475']\n"
          ]
        },
        {
          "data": {
            "text/plain": [
              "source    107276\n",
              "p         107276\n",
              "q         107276\n",
              "a         107276\n",
              "span      107276\n",
              "dtype: int64"
            ]
          },
          "execution_count": 68,
          "metadata": {},
          "output_type": "execute_result"
        }
      ],
      "source": [
        "train_df = load_coqa_dataset(\"train.json\")\n",
        "train_df.count()"
      ]
    },
    {
      "cell_type": "code",
      "execution_count": 70,
      "metadata": {
        "colab": {
          "base_uri": "https://localhost:8080/"
        },
        "execution": {
          "iopub.execute_input": "2023-01-14T18:01:58.421366Z",
          "iopub.status.busy": "2023-01-14T18:01:58.421000Z",
          "iopub.status.idle": "2023-01-14T18:01:58.429161Z",
          "shell.execute_reply": "2023-01-14T18:01:58.428187Z",
          "shell.execute_reply.started": "2023-01-14T18:01:58.421339Z"
        },
        "id": "lOQSe3Sc1mPY",
        "outputId": "024830e0-4569-48ec-b829-058051bfaabd",
        "trusted": true
      },
      "outputs": [
        {
          "data": {
            "text/plain": [
              "6605"
            ]
          },
          "execution_count": 70,
          "metadata": {},
          "output_type": "execute_result"
        }
      ],
      "source": [
        "pd.unique(train_df[\"p\"]).size"
      ]
    },
    {
      "cell_type": "code",
      "execution_count": 71,
      "metadata": {
        "colab": {
          "base_uri": "https://localhost:8080/"
        },
        "execution": {
          "iopub.execute_input": "2023-01-14T18:01:58.431456Z",
          "iopub.status.busy": "2023-01-14T18:01:58.430592Z",
          "iopub.status.idle": "2023-01-14T18:01:58.467502Z",
          "shell.execute_reply": "2023-01-14T18:01:58.466452Z",
          "shell.execute_reply.started": "2023-01-14T18:01:58.431419Z"
        },
        "id": "WJaLGY_p1mPZ",
        "outputId": "cbc772fa-bf88-42f4-d0be-be95c0b0e6a0",
        "trusted": true
      },
      "outputs": [
        {
          "data": {
            "text/plain": [
              "99470"
            ]
          },
          "execution_count": 71,
          "metadata": {},
          "output_type": "execute_result"
        }
      ],
      "source": [
        "pd.unique(train_df[\"span\"]).size"
      ]
    },
    {
      "cell_type": "code",
      "execution_count": 72,
      "metadata": {
        "colab": {
          "base_uri": "https://localhost:8080/"
        },
        "execution": {
          "iopub.execute_input": "2023-01-14T18:01:58.469191Z",
          "iopub.status.busy": "2023-01-14T18:01:58.468805Z",
          "iopub.status.idle": "2023-01-14T18:01:58.478021Z",
          "shell.execute_reply": "2023-01-14T18:01:58.476843Z",
          "shell.execute_reply.started": "2023-01-14T18:01:58.469139Z"
        },
        "id": "V_ml0A1b1mPZ",
        "outputId": "fc3f1c3b-2259-42b3-b057-b8ea7269d25d",
        "trusted": true
      },
      "outputs": [
        {
          "data": {
            "text/plain": [
              "5"
            ]
          },
          "execution_count": 72,
          "metadata": {},
          "output_type": "execute_result"
        }
      ],
      "source": [
        "pd.unique(train_df[\"source\"]).size"
      ]
    },
    {
      "cell_type": "code",
      "execution_count": 73,
      "metadata": {
        "colab": {
          "base_uri": "https://localhost:8080/",
          "height": 337
        },
        "execution": {
          "iopub.execute_input": "2023-01-14T18:01:58.480486Z",
          "iopub.status.busy": "2023-01-14T18:01:58.479825Z",
          "iopub.status.idle": "2023-01-14T18:01:58.494445Z",
          "shell.execute_reply": "2023-01-14T18:01:58.493448Z",
          "shell.execute_reply.started": "2023-01-14T18:01:58.480450Z"
        },
        "id": "G9VjurfZ1mPZ",
        "outputId": "a9a955d9-c39e-4dac-f9d6-7bfb1ccb4704",
        "trusted": true
      },
      "outputs": [
        {
          "data": {
            "text/html": [
              "\n",
              "  <div id=\"df-8515cc22-9fe5-4b22-8174-320527bd5808\">\n",
              "    <div class=\"colab-df-container\">\n",
              "      <div>\n",
              "<style scoped>\n",
              "    .dataframe tbody tr th:only-of-type {\n",
              "        vertical-align: middle;\n",
              "    }\n",
              "\n",
              "    .dataframe tbody tr th {\n",
              "        vertical-align: top;\n",
              "    }\n",
              "\n",
              "    .dataframe thead th {\n",
              "        text-align: right;\n",
              "    }\n",
              "</style>\n",
              "<table border=\"1\" class=\"dataframe\">\n",
              "  <thead>\n",
              "    <tr style=\"text-align: right;\">\n",
              "      <th></th>\n",
              "      <th>source</th>\n",
              "      <th>p</th>\n",
              "      <th>q</th>\n",
              "      <th>a</th>\n",
              "      <th>span</th>\n",
              "    </tr>\n",
              "  </thead>\n",
              "  <tbody>\n",
              "    <tr>\n",
              "      <th>0</th>\n",
              "      <td>wikipedia</td>\n",
              "      <td>The Vatican Apostolic Library (), more commonl...</td>\n",
              "      <td>When was the Vat formally opened?</td>\n",
              "      <td>It was formally established in 1475</td>\n",
              "      <td>Formally established in 1475</td>\n",
              "    </tr>\n",
              "    <tr>\n",
              "      <th>1</th>\n",
              "      <td>wikipedia</td>\n",
              "      <td>The Vatican Apostolic Library (), more commonl...</td>\n",
              "      <td>what is the library for?</td>\n",
              "      <td>research</td>\n",
              "      <td>he Vatican Library is a research library</td>\n",
              "    </tr>\n",
              "    <tr>\n",
              "      <th>2</th>\n",
              "      <td>wikipedia</td>\n",
              "      <td>The Vatican Apostolic Library (), more commonl...</td>\n",
              "      <td>for what subjects?</td>\n",
              "      <td>history, and law</td>\n",
              "      <td>Vatican Library is a research library for hist...</td>\n",
              "    </tr>\n",
              "    <tr>\n",
              "      <th>3</th>\n",
              "      <td>wikipedia</td>\n",
              "      <td>The Vatican Apostolic Library (), more commonl...</td>\n",
              "      <td>and?</td>\n",
              "      <td>philosophy, science and theology</td>\n",
              "      <td>Vatican Library is a research library for hist...</td>\n",
              "    </tr>\n",
              "    <tr>\n",
              "      <th>4</th>\n",
              "      <td>wikipedia</td>\n",
              "      <td>The Vatican Apostolic Library (), more commonl...</td>\n",
              "      <td>what was started in 2014?</td>\n",
              "      <td>a  project</td>\n",
              "      <td>March 2014, the Vatican Library began an initi...</td>\n",
              "    </tr>\n",
              "  </tbody>\n",
              "</table>\n",
              "</div>\n",
              "      <button class=\"colab-df-convert\" onclick=\"convertToInteractive('df-8515cc22-9fe5-4b22-8174-320527bd5808')\"\n",
              "              title=\"Convert this dataframe to an interactive table.\"\n",
              "              style=\"display:none;\">\n",
              "        \n",
              "  <svg xmlns=\"http://www.w3.org/2000/svg\" height=\"24px\"viewBox=\"0 0 24 24\"\n",
              "       width=\"24px\">\n",
              "    <path d=\"M0 0h24v24H0V0z\" fill=\"none\"/>\n",
              "    <path d=\"M18.56 5.44l.94 2.06.94-2.06 2.06-.94-2.06-.94-.94-2.06-.94 2.06-2.06.94zm-11 1L8.5 8.5l.94-2.06 2.06-.94-2.06-.94L8.5 2.5l-.94 2.06-2.06.94zm10 10l.94 2.06.94-2.06 2.06-.94-2.06-.94-.94-2.06-.94 2.06-2.06.94z\"/><path d=\"M17.41 7.96l-1.37-1.37c-.4-.4-.92-.59-1.43-.59-.52 0-1.04.2-1.43.59L10.3 9.45l-7.72 7.72c-.78.78-.78 2.05 0 2.83L4 21.41c.39.39.9.59 1.41.59.51 0 1.02-.2 1.41-.59l7.78-7.78 2.81-2.81c.8-.78.8-2.07 0-2.86zM5.41 20L4 18.59l7.72-7.72 1.47 1.35L5.41 20z\"/>\n",
              "  </svg>\n",
              "      </button>\n",
              "      \n",
              "  <style>\n",
              "    .colab-df-container {\n",
              "      display:flex;\n",
              "      flex-wrap:wrap;\n",
              "      gap: 12px;\n",
              "    }\n",
              "\n",
              "    .colab-df-convert {\n",
              "      background-color: #E8F0FE;\n",
              "      border: none;\n",
              "      border-radius: 50%;\n",
              "      cursor: pointer;\n",
              "      display: none;\n",
              "      fill: #1967D2;\n",
              "      height: 32px;\n",
              "      padding: 0 0 0 0;\n",
              "      width: 32px;\n",
              "    }\n",
              "\n",
              "    .colab-df-convert:hover {\n",
              "      background-color: #E2EBFA;\n",
              "      box-shadow: 0px 1px 2px rgba(60, 64, 67, 0.3), 0px 1px 3px 1px rgba(60, 64, 67, 0.15);\n",
              "      fill: #174EA6;\n",
              "    }\n",
              "\n",
              "    [theme=dark] .colab-df-convert {\n",
              "      background-color: #3B4455;\n",
              "      fill: #D2E3FC;\n",
              "    }\n",
              "\n",
              "    [theme=dark] .colab-df-convert:hover {\n",
              "      background-color: #434B5C;\n",
              "      box-shadow: 0px 1px 3px 1px rgba(0, 0, 0, 0.15);\n",
              "      filter: drop-shadow(0px 1px 2px rgba(0, 0, 0, 0.3));\n",
              "      fill: #FFFFFF;\n",
              "    }\n",
              "  </style>\n",
              "\n",
              "      <script>\n",
              "        const buttonEl =\n",
              "          document.querySelector('#df-8515cc22-9fe5-4b22-8174-320527bd5808 button.colab-df-convert');\n",
              "        buttonEl.style.display =\n",
              "          google.colab.kernel.accessAllowed ? 'block' : 'none';\n",
              "\n",
              "        async function convertToInteractive(key) {\n",
              "          const element = document.querySelector('#df-8515cc22-9fe5-4b22-8174-320527bd5808');\n",
              "          const dataTable =\n",
              "            await google.colab.kernel.invokeFunction('convertToInteractive',\n",
              "                                                     [key], {});\n",
              "          if (!dataTable) return;\n",
              "\n",
              "          const docLinkHtml = 'Like what you see? Visit the ' +\n",
              "            '<a target=\"_blank\" href=https://colab.research.google.com/notebooks/data_table.ipynb>data table notebook</a>'\n",
              "            + ' to learn more about interactive tables.';\n",
              "          element.innerHTML = '';\n",
              "          dataTable['output_type'] = 'display_data';\n",
              "          await google.colab.output.renderOutput(dataTable, element);\n",
              "          const docLink = document.createElement('div');\n",
              "          docLink.innerHTML = docLinkHtml;\n",
              "          element.appendChild(docLink);\n",
              "        }\n",
              "      </script>\n",
              "    </div>\n",
              "  </div>\n",
              "  "
            ],
            "text/plain": [
              "      source                                                  p  \\\n",
              "0  wikipedia  The Vatican Apostolic Library (), more commonl...   \n",
              "1  wikipedia  The Vatican Apostolic Library (), more commonl...   \n",
              "2  wikipedia  The Vatican Apostolic Library (), more commonl...   \n",
              "3  wikipedia  The Vatican Apostolic Library (), more commonl...   \n",
              "4  wikipedia  The Vatican Apostolic Library (), more commonl...   \n",
              "\n",
              "                                   q                                    a  \\\n",
              "0  When was the Vat formally opened?  It was formally established in 1475   \n",
              "1           what is the library for?                             research   \n",
              "2                 for what subjects?                     history, and law   \n",
              "3                               and?     philosophy, science and theology   \n",
              "4          what was started in 2014?                           a  project   \n",
              "\n",
              "                                                span  \n",
              "0                       Formally established in 1475  \n",
              "1           he Vatican Library is a research library  \n",
              "2  Vatican Library is a research library for hist...  \n",
              "3  Vatican Library is a research library for hist...  \n",
              "4  March 2014, the Vatican Library began an initi...  "
            ]
          },
          "execution_count": 73,
          "metadata": {},
          "output_type": "execute_result"
        }
      ],
      "source": [
        "train_df.head()"
      ]
    },
    {
      "cell_type": "code",
      "execution_count": 74,
      "metadata": {
        "colab": {
          "base_uri": "https://localhost:8080/"
        },
        "execution": {
          "iopub.execute_input": "2023-01-14T18:01:58.496470Z",
          "iopub.status.busy": "2023-01-14T18:01:58.496105Z",
          "iopub.status.idle": "2023-01-14T18:01:58.536943Z",
          "shell.execute_reply": "2023-01-14T18:01:58.535854Z",
          "shell.execute_reply.started": "2023-01-14T18:01:58.496437Z"
        },
        "id": "nrRkHhES1mPa",
        "outputId": "35172e1b-2f75-47c2-efc1-94e1673e3153",
        "trusted": true
      },
      "outputs": [
        {
          "data": {
            "text/plain": [
              "Index          128\n",
              "source      107764\n",
              "p         14241201\n",
              "q          9110271\n",
              "a          7714655\n",
              "span      12090637\n",
              "dtype: int64"
            ]
          },
          "execution_count": 74,
          "metadata": {},
          "output_type": "execute_result"
        }
      ],
      "source": [
        "train_df.memory_usage(deep=True)"
      ]
    },
    {
      "cell_type": "code",
      "execution_count": 75,
      "metadata": {
        "colab": {
          "base_uri": "https://localhost:8080/"
        },
        "execution": {
          "iopub.execute_input": "2023-01-14T18:01:58.539167Z",
          "iopub.status.busy": "2023-01-14T18:01:58.538771Z",
          "iopub.status.idle": "2023-01-14T18:01:59.219403Z",
          "shell.execute_reply": "2023-01-14T18:01:59.218387Z",
          "shell.execute_reply.started": "2023-01-14T18:01:58.539132Z"
        },
        "id": "v5aer1n41mPa",
        "outputId": "b2ebaec6-4dc2-4407-c330-0b4ae6545a91",
        "trusted": true
      },
      "outputs": [
        {
          "name": "stdout",
          "output_type": "stream",
          "text": [
            "500 stories / 12 questions in the first row\n",
            "499 distinct stories\n",
            "5 distinct sources: Index(['mctest', 'race', 'cnn', 'wikipedia', 'gutenberg'], dtype='object')\n",
            "(7917, 5) question-answer pairs x columns\n",
            "First row: ['0' '0' 'What color was Cotton?' 'white'\n",
            " 'a little white kitten named Cotton']\n"
          ]
        },
        {
          "data": {
            "text/plain": [
              "source    7917\n",
              "p         7917\n",
              "q         7917\n",
              "a         7917\n",
              "span      7917\n",
              "dtype: int64"
            ]
          },
          "execution_count": 75,
          "metadata": {},
          "output_type": "execute_result"
        }
      ],
      "source": [
        "test_df = load_coqa_dataset(\"test.json\")\n",
        "test_df.count()"
      ]
    },
    {
      "cell_type": "code",
      "execution_count": 138,
      "metadata": {
        "colab": {
          "base_uri": "https://localhost:8080/"
        },
        "id": "YaL56HGWs0O4",
        "outputId": "c1d9ff59-ddee-44a1-c68f-d37b49580cb3"
      },
      "outputs": [
        {
          "name": "stderr",
          "output_type": "stream",
          "text": [
            "<ipython-input-67-ccc59ad8c287>:2: SettingWithCopyWarning: \n",
            "A value is trying to be set on a copy of a slice from a DataFrame.\n",
            "Try using .loc[row_indexer,col_indexer] = value instead\n",
            "\n",
            "See the caveats in the documentation: https://pandas.pydata.org/pandas-docs/stable/user_guide/indexing.html#returning-a-view-versus-a-copy\n",
            "  df[\"history\"] = \"\"\n",
            "<ipython-input-66-457f5db7144a>:6: SettingWithCopyWarning: \n",
            "A value is trying to be set on a copy of a slice from a DataFrame.\n",
            "Try using .loc[row_indexer,col_indexer] = value instead\n",
            "\n",
            "See the caveats in the documentation: https://pandas.pydata.org/pandas-docs/stable/user_guide/indexing.html#returning-a-view-versus-a-copy\n",
            "  df[\"history\"] = np.where(history_mask, history_series, df[\"history\"])\n"
          ]
        },
        {
          "data": {
            "text/plain": [
              "['When was the Vat formally opened? ',\n",
              " 'what is the library for? When was the Vat formally opened? It was formally established in 1475. ',\n",
              " 'for what subjects? When was the Vat formally opened? It was formally established in 1475. what is the library for? research. ',\n",
              " 'and? When was the Vat formally opened? It was formally established in 1475. what is the library for? research. for what subjects? history, and law. ',\n",
              " 'what was started in 2014? what is the library for? research. for what subjects? history, and law. and? philosophy, science and theology. ']"
            ]
          },
          "execution_count": 138,
          "metadata": {},
          "output_type": "execute_result"
        }
      ],
      "source": [
        "# # Example of concatenating question with history\n",
        "# df2 = transform_coqa_dataset_with_history(train_df.head(50))\n",
        "# df2.to_csv(\"x.csv\")\n",
        "# df2\n",
        "df = transform_coqa_dataset_with_history(train_df.head(5))\n",
        "questions = df[[\"q\", \"history\"]].apply(\" \".join, axis=1)\n",
        "list(questions)"
      ]
    },
    {
      "cell_type": "markdown",
      "metadata": {
        "id": "XRs7YHKY1mPa"
      },
      "source": [
        "## Data Pre-Processing"
      ]
    },
    {
      "cell_type": "markdown",
      "metadata": {
        "id": "k0GmOXam1mPb"
      },
      "source": [
        "### Check unanswerable questions in the Train Dataset"
      ]
    },
    {
      "cell_type": "code",
      "execution_count": 76,
      "metadata": {
        "colab": {
          "base_uri": "https://localhost:8080/"
        },
        "execution": {
          "iopub.execute_input": "2023-01-11T21:00:17.621703Z",
          "iopub.status.busy": "2023-01-11T21:00:17.620618Z",
          "iopub.status.idle": "2023-01-11T21:00:17.652117Z",
          "shell.execute_reply": "2023-01-11T21:00:17.651119Z",
          "shell.execute_reply.started": "2023-01-11T21:00:17.621664Z"
        },
        "id": "6Aq524zd1mPb",
        "outputId": "acb9d62e-9f1b-40e5-c003-251b65aca5bf",
        "trusted": true
      },
      "outputs": [
        {
          "data": {
            "text/plain": [
              "0"
            ]
          },
          "execution_count": 76,
          "metadata": {},
          "output_type": "execute_result"
        }
      ],
      "source": [
        "idx = (train_df.a == 'unknown')\n",
        "unanswerable = train_df[idx]\n",
        "unanswerable.q.count()"
      ]
    },
    {
      "cell_type": "markdown",
      "metadata": {
        "id": "lTdjLFYI1mPb"
      },
      "source": [
        "All unanswerable questions in the Train Dataset have been already removed."
      ]
    },
    {
      "cell_type": "markdown",
      "metadata": {
        "id": "maBslb2n1mPb"
      },
      "source": [
        "## Exploratory Data Analysis"
      ]
    },
    {
      "cell_type": "code",
      "execution_count": 77,
      "metadata": {
        "colab": {
          "base_uri": "https://localhost:8080/",
          "height": 140
        },
        "execution": {
          "iopub.execute_input": "2023-01-11T21:00:17.654426Z",
          "iopub.status.busy": "2023-01-11T21:00:17.653755Z",
          "iopub.status.idle": "2023-01-11T21:00:17.677739Z",
          "shell.execute_reply": "2023-01-11T21:00:17.676457Z",
          "shell.execute_reply.started": "2023-01-11T21:00:17.654387Z"
        },
        "id": "VH5Ep77e1mPb",
        "outputId": "5ec437a3-d55c-4f76-b865-6390d8d74282",
        "trusted": true
      },
      "outputs": [
        {
          "data": {
            "application/vnd.google.colaboratory.intrinsic+json": {
              "type": "string"
            },
            "text/plain": [
              "'CHAPTER VII. THE DAUGHTER OF WITHERSTEEN \\n\\n\"Lassiter, will you be my rider?\" Jane had asked him. \\n\\n\"I reckon so,\" he had replied. \\n\\nFew as the words were, Jane knew how infinitely much they implied. She wanted him to take charge of her cattle and horse and ranges, and save them if that were possible. Yet, though she could not have spoken aloud all she meant, she was perfectly honest with herself. Whatever the price to be paid, she must keep Lassiter close to her; she must shield from him the man who had led Milly Erne to Cottonwoods. In her fear she so controlled her mind that she did not whisper this Mormon\\'s name to her own soul, she did not even think it. Besides, beyond this thing she regarded as a sacred obligation thrust upon her, was the need of a helper, of a friend, of a champion in this critical time. If she could rule this gun-man, as Venters had called him, if she could even keep him from shedding blood, what strategy to play his flame and his presence against the game of oppression her churchmen were waging against her? Never would she forget the effect on Tull and his men when Venters shouted Lassiter\\'s name. If she could not wholly control Lassiter, then what she could do might put off the fatal day. \\n\\nOne of her safe racers was a dark bay, and she called him Bells because of the way he struck his iron shoes on the stones. When Jerd led out this slender, beautifully built horse Lassiter suddenly became all eyes. A rider\\'s love of a thoroughbred shone in them. Round and round Bells he walked, plainly weakening all the time in his determination not to take one of Jane\\'s favorite racers. '"
            ]
          },
          "execution_count": 77,
          "metadata": {},
          "output_type": "execute_result"
        }
      ],
      "source": [
        "train_df[\"p\"][42]"
      ]
    },
    {
      "cell_type": "code",
      "execution_count": 78,
      "metadata": {
        "colab": {
          "base_uri": "https://localhost:8080/",
          "height": 36
        },
        "execution": {
          "iopub.execute_input": "2023-01-11T21:00:17.679818Z",
          "iopub.status.busy": "2023-01-11T21:00:17.679295Z",
          "iopub.status.idle": "2023-01-11T21:00:17.688873Z",
          "shell.execute_reply": "2023-01-11T21:00:17.687694Z",
          "shell.execute_reply.started": "2023-01-11T21:00:17.679783Z"
        },
        "id": "zYcgBVcG1mPc",
        "outputId": "6b0720aa-ac5c-47ff-8c07-51caa4146ab3",
        "trusted": true
      },
      "outputs": [
        {
          "data": {
            "application/vnd.google.colaboratory.intrinsic+json": {
              "type": "string"
            },
            "text/plain": [
              "'Was Lassiter impressed with the horse?'"
            ]
          },
          "execution_count": 78,
          "metadata": {},
          "output_type": "execute_result"
        }
      ],
      "source": [
        "train_df[\"q\"][42]"
      ]
    },
    {
      "cell_type": "code",
      "execution_count": 79,
      "metadata": {
        "colab": {
          "base_uri": "https://localhost:8080/",
          "height": 36
        },
        "execution": {
          "iopub.execute_input": "2023-01-11T21:00:17.690914Z",
          "iopub.status.busy": "2023-01-11T21:00:17.690431Z",
          "iopub.status.idle": "2023-01-11T21:00:17.705300Z",
          "shell.execute_reply": "2023-01-11T21:00:17.704082Z",
          "shell.execute_reply.started": "2023-01-11T21:00:17.690874Z"
        },
        "id": "5zvn9Tv01mPc",
        "outputId": "bb58ff39-e1b2-4e9d-ea70-fc25300b72e9",
        "trusted": true
      },
      "outputs": [
        {
          "data": {
            "application/vnd.google.colaboratory.intrinsic+json": {
              "type": "string"
            },
            "text/plain": [
              "'Yes'"
            ]
          },
          "execution_count": 79,
          "metadata": {},
          "output_type": "execute_result"
        }
      ],
      "source": [
        "train_df[\"a\"][42]"
      ]
    },
    {
      "cell_type": "code",
      "execution_count": 80,
      "metadata": {
        "colab": {
          "base_uri": "https://localhost:8080/",
          "height": 36
        },
        "execution": {
          "iopub.execute_input": "2023-01-11T21:00:17.707264Z",
          "iopub.status.busy": "2023-01-11T21:00:17.706787Z",
          "iopub.status.idle": "2023-01-11T21:00:17.716884Z",
          "shell.execute_reply": "2023-01-11T21:00:17.715553Z",
          "shell.execute_reply.started": "2023-01-11T21:00:17.707231Z"
        },
        "id": "NokHfoLm1mPc",
        "outputId": "7c0627a7-a56e-4fd0-ac33-67de2220e377",
        "trusted": true
      },
      "outputs": [
        {
          "data": {
            "application/vnd.google.colaboratory.intrinsic+json": {
              "type": "string"
            },
            "text/plain": [
              "'When Jerd led out this slender, beautifully built horse Lassiter suddenly became all eyes.'"
            ]
          },
          "execution_count": 80,
          "metadata": {},
          "output_type": "execute_result"
        }
      ],
      "source": [
        "train_df[\"span\"][42]"
      ]
    },
    {
      "cell_type": "code",
      "execution_count": 81,
      "metadata": {
        "colab": {
          "base_uri": "https://localhost:8080/",
          "height": 36
        },
        "execution": {
          "iopub.execute_input": "2023-01-11T21:00:17.718915Z",
          "iopub.status.busy": "2023-01-11T21:00:17.718439Z",
          "iopub.status.idle": "2023-01-11T21:00:17.729939Z",
          "shell.execute_reply": "2023-01-11T21:00:17.728732Z",
          "shell.execute_reply.started": "2023-01-11T21:00:17.718881Z"
        },
        "id": "JskMPh-Y1mPc",
        "outputId": "bb34ae13-b123-4c0f-d08a-588e4cd93608",
        "trusted": true
      },
      "outputs": [
        {
          "data": {
            "application/vnd.google.colaboratory.intrinsic+json": {
              "type": "string"
            },
            "text/plain": [
              "'gutenberg'"
            ]
          },
          "execution_count": 81,
          "metadata": {},
          "output_type": "execute_result"
        }
      ],
      "source": [
        "train_df[\"source\"][42]"
      ]
    },
    {
      "cell_type": "markdown",
      "metadata": {
        "id": "IhdF4AR7ef05"
      },
      "source": [
        "### Distribution statistics"
      ]
    },
    {
      "cell_type": "markdown",
      "metadata": {
        "id": "ebBVUlveef05"
      },
      "source": [
        "Sources:"
      ]
    },
    {
      "cell_type": "code",
      "execution_count": 82,
      "metadata": {
        "colab": {
          "base_uri": "https://localhost:8080/",
          "height": 0
        },
        "execution": {
          "iopub.execute_input": "2023-01-11T21:00:17.732007Z",
          "iopub.status.busy": "2023-01-11T21:00:17.731526Z",
          "iopub.status.idle": "2023-01-11T21:00:18.104916Z",
          "shell.execute_reply": "2023-01-11T21:00:18.103960Z",
          "shell.execute_reply.started": "2023-01-11T21:00:17.731972Z"
        },
        "id": "8lIuR9RO1mPd",
        "outputId": "ceeb7175-9097-465b-bd4e-74e598eca8c4",
        "trusted": true
      },
      "outputs": [
        {
          "data": {
            "text/plain": [
              "<matplotlib.axes._subplots.AxesSubplot at 0x7fe3d2278fa0>"
            ]
          },
          "execution_count": 82,
          "metadata": {},
          "output_type": "execute_result"
        },
        {
          "data": {
            "image/png": "[encoded data removed]",
            "text/plain": [
              "<Figure size 432x288 with 1 Axes>"
            ]
          },
          "metadata": {
            "needs_background": "light"
          },
          "output_type": "display_data"
        }
      ],
      "source": [
        "train_df[\"source\"].hist()"
      ]
    },
    {
      "cell_type": "markdown",
      "metadata": {
        "id": "Ax5uSP6Lef06"
      },
      "source": [
        "Occurrences of 25 most popular stories:"
      ]
    },
    {
      "cell_type": "code",
      "execution_count": 83,
      "metadata": {
        "colab": {
          "base_uri": "https://localhost:8080/",
          "height": 0
        },
        "execution": {
          "iopub.execute_input": "2023-01-11T21:00:18.111545Z",
          "iopub.status.busy": "2023-01-11T21:00:18.109193Z",
          "iopub.status.idle": "2023-01-11T21:00:18.536732Z",
          "shell.execute_reply": "2023-01-11T21:00:18.535711Z",
          "shell.execute_reply.started": "2023-01-11T21:00:18.111490Z"
        },
        "id": "wUgsqg4Uef06",
        "outputId": "ebd074ad-9a4d-4e01-9890-b301f13133f5",
        "trusted": true
      },
      "outputs": [
        {
          "data": {
            "text/plain": [
              "<matplotlib.axes._subplots.AxesSubplot at 0x7fe3d1e67580>"
            ]
          },
          "execution_count": 83,
          "metadata": {},
          "output_type": "execute_result"
        },
        {
          "data": {
            "image/png": "[encoded data removed]",
            "text/plain": [
              "<Figure size 1080x360 with 1 Axes>"
            ]
          },
          "metadata": {
            "needs_background": "light"
          },
          "output_type": "display_data"
        }
      ],
      "source": [
        "story_counts = train_df[\"p\"].cat.codes.value_counts(sort=True)\n",
        "story_counts[:25].plot(kind=\"bar\", figsize=(15,5))"
      ]
    },
    {
      "cell_type": "markdown",
      "metadata": {
        "id": "qL-m6SuVef06"
      },
      "source": [
        "Occurrences of 25 least popular stories:"
      ]
    },
    {
      "cell_type": "code",
      "execution_count": 84,
      "metadata": {
        "colab": {
          "base_uri": "https://localhost:8080/",
          "height": 0
        },
        "execution": {
          "iopub.execute_input": "2023-01-11T21:00:18.543837Z",
          "iopub.status.busy": "2023-01-11T21:00:18.541310Z",
          "iopub.status.idle": "2023-01-11T21:00:18.982802Z",
          "shell.execute_reply": "2023-01-11T21:00:18.981861Z",
          "shell.execute_reply.started": "2023-01-11T21:00:18.543794Z"
        },
        "id": "jkiwEygzef06",
        "outputId": "a84cdca5-7232-430e-d435-2814360ba3f3",
        "trusted": true
      },
      "outputs": [
        {
          "data": {
            "text/plain": [
              "<matplotlib.axes._subplots.AxesSubplot at 0x7fe3d1fdefd0>"
            ]
          },
          "execution_count": 84,
          "metadata": {},
          "output_type": "execute_result"
        },
        {
          "data": {
            "image/png": "[encoded data removed]",
            "text/plain": [
              "<Figure size 1080x360 with 1 Axes>"
            ]
          },
          "metadata": {
            "needs_background": "light"
          },
          "output_type": "display_data"
        }
      ],
      "source": [
        "story_counts[-25:-1].plot(kind=\"bar\", figsize=(15,5))"
      ]
    },
    {
      "cell_type": "markdown",
      "metadata": {
        "id": "9-EVRQQVef06"
      },
      "source": [
        "Histogram of story popularities:"
      ]
    },
    {
      "cell_type": "code",
      "execution_count": 85,
      "metadata": {
        "colab": {
          "base_uri": "https://localhost:8080/",
          "height": 0
        },
        "execution": {
          "iopub.execute_input": "2023-01-11T21:00:18.989144Z",
          "iopub.status.busy": "2023-01-11T21:00:18.986932Z",
          "iopub.status.idle": "2023-01-11T21:00:20.056265Z",
          "shell.execute_reply": "2023-01-11T21:00:20.055343Z",
          "shell.execute_reply.started": "2023-01-11T21:00:18.989105Z"
        },
        "id": "CJLPGCfcef07",
        "outputId": "b5f8e204-aae7-42ef-fc51-1b515f76d01e",
        "trusted": true
      },
      "outputs": [
        {
          "data": {
            "text/plain": [
              "<matplotlib.axes._subplots.AxesSubplot at 0x7fe3d1ccb3a0>"
            ]
          },
          "execution_count": 85,
          "metadata": {},
          "output_type": "execute_result"
        },
        {
          "data": {
            "image/png": "[encoded data removed]",
            "text/plain": [
              "<Figure size 1080x360 with 1 Axes>"
            ]
          },
          "metadata": {
            "needs_background": "light"
          },
          "output_type": "display_data"
        }
      ],
      "source": [
        "story_counts.hist(log=True,bins=75,figsize=(15,5))"
      ]
    },
    {
      "cell_type": "markdown",
      "metadata": {
        "id": "Xs4usWsveQN2"
      },
      "source": [
        "### Removing rows with outlier story lengths to save memory"
      ]
    },
    {
      "cell_type": "code",
      "execution_count": 86,
      "metadata": {
        "colab": {
          "base_uri": "https://localhost:8080/"
        },
        "execution": {
          "iopub.execute_input": "2023-01-11T21:00:20.062774Z",
          "iopub.status.busy": "2023-01-11T21:00:20.060502Z",
          "iopub.status.idle": "2023-01-11T21:00:20.096428Z",
          "shell.execute_reply": "2023-01-11T21:00:20.095341Z",
          "shell.execute_reply.started": "2023-01-11T21:00:20.062736Z"
        },
        "id": "fF88Qa2DeQN2",
        "outputId": "e748c7a5-f07f-4fa1-e075-6444ebb2b351",
        "trusted": true
      },
      "outputs": [
        {
          "data": {
            "text/plain": [
              "source    107276\n",
              "p         107276\n",
              "q         107276\n",
              "a         107276\n",
              "span      107276\n",
              "dtype: int64"
            ]
          },
          "execution_count": 86,
          "metadata": {},
          "output_type": "execute_result"
        }
      ],
      "source": [
        "train_df.count()"
      ]
    },
    {
      "cell_type": "markdown",
      "metadata": {
        "id": "xOq3OJo1eQN2"
      },
      "source": [
        "LOGARITHMIC histogram of story length:"
      ]
    },
    {
      "cell_type": "code",
      "execution_count": 87,
      "metadata": {
        "colab": {
          "base_uri": "https://localhost:8080/",
          "height": 0
        },
        "execution": {
          "iopub.execute_input": "2023-01-11T21:00:20.098354Z",
          "iopub.status.busy": "2023-01-11T21:00:20.098032Z",
          "iopub.status.idle": "2023-01-11T21:00:21.022634Z",
          "shell.execute_reply": "2023-01-11T21:00:21.021710Z",
          "shell.execute_reply.started": "2023-01-11T21:00:20.098322Z"
        },
        "id": "N9SpIueeeQN2",
        "outputId": "1cf9de10-8805-4562-a466-9457551e05ec",
        "trusted": true
      },
      "outputs": [
        {
          "data": {
            "text/plain": [
              "<matplotlib.axes._subplots.AxesSubplot at 0x7fe3ccfebe50>"
            ]
          },
          "execution_count": 87,
          "metadata": {},
          "output_type": "execute_result"
        },
        {
          "data": {
            "image/png": "[encoded data removed]",
            "text/plain": [
              "<Figure size 1080x360 with 1 Axes>"
            ]
          },
          "metadata": {
            "needs_background": "light"
          },
          "output_type": "display_data"
        }
      ],
      "source": [
        "story_lengths = train_df[\"p\"].str.len()\n",
        "story_lengths.hist(log=True,bins=75,figsize=(15,5))"
      ]
    },
    {
      "cell_type": "code",
      "execution_count": 88,
      "metadata": {
        "colab": {
          "base_uri": "https://localhost:8080/"
        },
        "execution": {
          "iopub.execute_input": "2023-01-11T21:00:21.024522Z",
          "iopub.status.busy": "2023-01-11T21:00:21.023971Z",
          "iopub.status.idle": "2023-01-11T21:00:21.036709Z",
          "shell.execute_reply": "2023-01-11T21:00:21.035374Z",
          "shell.execute_reply.started": "2023-01-11T21:00:21.024485Z"
        },
        "id": "55wmfOrseQN3",
        "outputId": "6e9659c5-a42e-4a98-e10b-5ffbd63af259",
        "trusted": true
      },
      "outputs": [
        {
          "data": {
            "text/plain": [
              "4317.0"
            ]
          },
          "execution_count": 88,
          "metadata": {},
          "output_type": "execute_result"
        }
      ],
      "source": [
        "p_length_limit = story_lengths.quantile(0.999)\n",
        "p_length_limit"
      ]
    },
    {
      "cell_type": "code",
      "execution_count": 89,
      "metadata": {
        "colab": {
          "base_uri": "https://localhost:8080/"
        },
        "execution": {
          "iopub.execute_input": "2023-01-11T21:00:21.041755Z",
          "iopub.status.busy": "2023-01-11T21:00:21.041357Z",
          "iopub.status.idle": "2023-01-11T21:00:21.055317Z",
          "shell.execute_reply": "2023-01-11T21:00:21.053819Z",
          "shell.execute_reply.started": "2023-01-11T21:00:21.041715Z"
        },
        "id": "JdD1HKnqeQN3",
        "outputId": "f46082d7-83b3-4766-a6c3-9384f77a0dc8",
        "trusted": true
      },
      "outputs": [
        {
          "data": {
            "text/plain": [
              "True     107166\n",
              "False       110\n",
              "Name: p, dtype: int64"
            ]
          },
          "execution_count": 89,
          "metadata": {},
          "output_type": "execute_result"
        }
      ],
      "source": [
        "p_length_mask = story_lengths < p_length_limit\n",
        "p_length_mask.value_counts()"
      ]
    },
    {
      "cell_type": "code",
      "execution_count": 90,
      "metadata": {
        "colab": {
          "base_uri": "https://localhost:8080/"
        },
        "execution": {
          "iopub.execute_input": "2023-01-11T21:00:21.068993Z",
          "iopub.status.busy": "2023-01-11T21:00:21.066878Z",
          "iopub.status.idle": "2023-01-11T21:00:21.116598Z",
          "shell.execute_reply": "2023-01-11T21:00:21.115706Z",
          "shell.execute_reply.started": "2023-01-11T21:00:21.068957Z"
        },
        "id": "8ZrtswVUeQN3",
        "outputId": "f921a51a-e025-4450-ef66-bb19e270b997",
        "trusted": true
      },
      "outputs": [
        {
          "data": {
            "text/plain": [
              "source    107166\n",
              "p         107166\n",
              "q         107166\n",
              "a         107166\n",
              "span      107166\n",
              "dtype: int64"
            ]
          },
          "execution_count": 90,
          "metadata": {},
          "output_type": "execute_result"
        }
      ],
      "source": [
        "train_df = train_df[p_length_mask]\n",
        "train_df.count()"
      ]
    },
    {
      "cell_type": "markdown",
      "metadata": {
        "id": "CvuDNquieQN3"
      },
      "source": [
        "### Removing rows with outlier question/answer/span lengths to save memory"
      ]
    },
    {
      "cell_type": "markdown",
      "metadata": {
        "id": "XTnHoRoEeQN3"
      },
      "source": [
        "LOGARITHMIC histogram of question length:"
      ]
    },
    {
      "cell_type": "code",
      "execution_count": 91,
      "metadata": {
        "colab": {
          "base_uri": "https://localhost:8080/",
          "height": 337
        },
        "execution": {
          "iopub.execute_input": "2023-01-11T21:00:21.124112Z",
          "iopub.status.busy": "2023-01-11T21:00:21.121249Z",
          "iopub.status.idle": "2023-01-11T21:00:21.898684Z",
          "shell.execute_reply": "2023-01-11T21:00:21.897686Z",
          "shell.execute_reply.started": "2023-01-11T21:00:21.124072Z"
        },
        "id": "kFobL8Upef07",
        "outputId": "f19efca4-601c-4625-ee33-bbe9545b3239",
        "trusted": true
      },
      "outputs": [
        {
          "data": {
            "text/plain": [
              "<matplotlib.axes._subplots.AxesSubplot at 0x7fe3d2381a90>"
            ]
          },
          "execution_count": 91,
          "metadata": {},
          "output_type": "execute_result"
        },
        {
          "data": {
            "image/png": "[encoded data removed]",
            "text/plain": [
              "<Figure size 1080x360 with 1 Axes>"
            ]
          },
          "metadata": {
            "needs_background": "light"
          },
          "output_type": "display_data"
        }
      ],
      "source": [
        "question_lengths = train_df[\"q\"].str.len()\n",
        "question_lengths.hist(log=True,bins=75,figsize=(15,5))"
      ]
    },
    {
      "cell_type": "code",
      "execution_count": 92,
      "metadata": {
        "colab": {
          "base_uri": "https://localhost:8080/"
        },
        "execution": {
          "iopub.execute_input": "2023-01-11T21:00:21.906122Z",
          "iopub.status.busy": "2023-01-11T21:00:21.903244Z",
          "iopub.status.idle": "2023-01-11T21:00:21.920912Z",
          "shell.execute_reply": "2023-01-11T21:00:21.919697Z",
          "shell.execute_reply.started": "2023-01-11T21:00:21.906083Z"
        },
        "id": "Y5492ySpeQN4",
        "outputId": "9cd43e5c-fd4b-48a0-e6fe-bee3d66ef10d",
        "trusted": true
      },
      "outputs": [
        {
          "data": {
            "text/plain": [
              "89.0"
            ]
          },
          "execution_count": 92,
          "metadata": {},
          "output_type": "execute_result"
        }
      ],
      "source": [
        "q_length_limit = question_lengths.quantile(0.999)\n",
        "q_length_limit"
      ]
    },
    {
      "cell_type": "markdown",
      "metadata": {
        "id": "yGTJLGsWeQN4"
      },
      "source": [
        "LOGARITHMIC histogram of answer length:"
      ]
    },
    {
      "cell_type": "code",
      "execution_count": 93,
      "metadata": {
        "colab": {
          "base_uri": "https://localhost:8080/",
          "height": 337
        },
        "execution": {
          "iopub.execute_input": "2023-01-11T21:00:21.923995Z",
          "iopub.status.busy": "2023-01-11T21:00:21.923093Z",
          "iopub.status.idle": "2023-01-11T21:00:22.662567Z",
          "shell.execute_reply": "2023-01-11T21:00:22.661550Z",
          "shell.execute_reply.started": "2023-01-11T21:00:21.923955Z"
        },
        "id": "_7phh51Nef07",
        "outputId": "150b115e-07c0-4e6e-bec6-7669dd0af179",
        "trusted": true
      },
      "outputs": [
        {
          "data": {
            "text/plain": [
              "<matplotlib.axes._subplots.AxesSubplot at 0x7fe3ccc87160>"
            ]
          },
          "execution_count": 93,
          "metadata": {},
          "output_type": "execute_result"
        },
        {
          "data": {
            "image/png": "[encoded data removed]",
            "text/plain": [
              "<Figure size 1080x360 with 1 Axes>"
            ]
          },
          "metadata": {
            "needs_background": "light"
          },
          "output_type": "display_data"
        }
      ],
      "source": [
        "answer_lengths = train_df[\"a\"].str.len()\n",
        "answer_lengths.hist(log=True,bins=75,figsize=(15,5))"
      ]
    },
    {
      "cell_type": "code",
      "execution_count": 94,
      "metadata": {
        "colab": {
          "base_uri": "https://localhost:8080/"
        },
        "execution": {
          "iopub.execute_input": "2023-01-11T21:00:22.664460Z",
          "iopub.status.busy": "2023-01-11T21:00:22.664096Z",
          "iopub.status.idle": "2023-01-11T21:00:22.675110Z",
          "shell.execute_reply": "2023-01-11T21:00:22.673990Z",
          "shell.execute_reply.started": "2023-01-11T21:00:22.664422Z"
        },
        "id": "B9Z5Ck7XeQN4",
        "outputId": "f7a81490-dcb1-4e46-f6ea-a8c4a78fd310",
        "trusted": true
      },
      "outputs": [
        {
          "data": {
            "text/plain": [
              "142.8350000000064"
            ]
          },
          "execution_count": 94,
          "metadata": {},
          "output_type": "execute_result"
        }
      ],
      "source": [
        "a_length_limit = answer_lengths.quantile(0.999)\n",
        "a_length_limit"
      ]
    },
    {
      "cell_type": "code",
      "execution_count": 95,
      "metadata": {
        "colab": {
          "base_uri": "https://localhost:8080/",
          "height": 337
        },
        "execution": {
          "iopub.execute_input": "2023-01-11T21:00:22.677160Z",
          "iopub.status.busy": "2023-01-11T21:00:22.676750Z",
          "iopub.status.idle": "2023-01-11T21:00:23.561713Z",
          "shell.execute_reply": "2023-01-11T21:00:23.560658Z",
          "shell.execute_reply.started": "2023-01-11T21:00:22.677118Z"
        },
        "id": "KfwQxbu_eQN4",
        "outputId": "5f37a5a2-6148-458d-85a9-b47f51919585",
        "trusted": true
      },
      "outputs": [
        {
          "data": {
            "text/plain": [
              "<matplotlib.axes._subplots.AxesSubplot at 0x7fe3ccb11640>"
            ]
          },
          "execution_count": 95,
          "metadata": {},
          "output_type": "execute_result"
        },
        {
          "data": {
            "image/png": "[encoded data removed]",
            "text/plain": [
              "<Figure size 1080x360 with 1 Axes>"
            ]
          },
          "metadata": {
            "needs_background": "light"
          },
          "output_type": "display_data"
        }
      ],
      "source": [
        "span_lengths = train_df[\"span\"].str.len()\n",
        "span_lengths.hist(log=True,bins=75,figsize=(15,5))"
      ]
    },
    {
      "cell_type": "code",
      "execution_count": 96,
      "metadata": {
        "colab": {
          "base_uri": "https://localhost:8080/"
        },
        "execution": {
          "iopub.execute_input": "2023-01-11T21:00:23.563675Z",
          "iopub.status.busy": "2023-01-11T21:00:23.563315Z",
          "iopub.status.idle": "2023-01-11T21:00:23.575399Z",
          "shell.execute_reply": "2023-01-11T21:00:23.574285Z",
          "shell.execute_reply.started": "2023-01-11T21:00:23.563624Z"
        },
        "id": "Z16rujBBeQN5",
        "outputId": "0ad8e5d0-92bf-400c-f914-c8a869062c50",
        "trusted": true
      },
      "outputs": [
        {
          "data": {
            "text/plain": [
              "502.5050000000192"
            ]
          },
          "execution_count": 96,
          "metadata": {},
          "output_type": "execute_result"
        }
      ],
      "source": [
        "span_length_limit = span_lengths.quantile(0.999)\n",
        "span_length_limit"
      ]
    },
    {
      "cell_type": "code",
      "execution_count": 97,
      "metadata": {
        "colab": {
          "base_uri": "https://localhost:8080/"
        },
        "execution": {
          "iopub.execute_input": "2023-01-11T21:00:23.577935Z",
          "iopub.status.busy": "2023-01-11T21:00:23.576737Z",
          "iopub.status.idle": "2023-01-11T21:00:23.589632Z",
          "shell.execute_reply": "2023-01-11T21:00:23.588757Z",
          "shell.execute_reply.started": "2023-01-11T21:00:23.577899Z"
        },
        "id": "LzINwGJreQN5",
        "outputId": "33395238-f71d-4c0b-ba29-74c3d943ad97",
        "trusted": true
      },
      "outputs": [
        {
          "data": {
            "text/plain": [
              "False    106859\n",
              "True        307\n",
              "dtype: int64"
            ]
          },
          "execution_count": 97,
          "metadata": {},
          "output_type": "execute_result"
        }
      ],
      "source": [
        "bad_length_mask = (question_lengths > q_length_limit) | (answer_lengths > a_length_limit) | (span_lengths > span_length_limit)\n",
        "bad_length_mask.value_counts()"
      ]
    },
    {
      "cell_type": "code",
      "execution_count": 98,
      "metadata": {
        "colab": {
          "base_uri": "https://localhost:8080/"
        },
        "execution": {
          "iopub.execute_input": "2023-01-11T21:00:23.593181Z",
          "iopub.status.busy": "2023-01-11T21:00:23.592467Z",
          "iopub.status.idle": "2023-01-11T21:00:23.600425Z",
          "shell.execute_reply": "2023-01-11T21:00:23.599487Z",
          "shell.execute_reply.started": "2023-01-11T21:00:23.593155Z"
        },
        "id": "sxmcnFXbeQN5",
        "outputId": "ea24d54c-4ce6-4649-b5e7-3ab276a9454a",
        "trusted": true
      },
      "outputs": [
        {
          "data": {
            "text/plain": [
              "272"
            ]
          },
          "execution_count": 98,
          "metadata": {},
          "output_type": "execute_result"
        }
      ],
      "source": [
        "excluded_stories = train_df[\"p\"][bad_length_mask].unique()\n",
        "len(excluded_stories)"
      ]
    },
    {
      "cell_type": "code",
      "execution_count": 99,
      "metadata": {
        "colab": {
          "base_uri": "https://localhost:8080/"
        },
        "execution": {
          "iopub.execute_input": "2023-01-11T21:00:23.602435Z",
          "iopub.status.busy": "2023-01-11T21:00:23.601992Z",
          "iopub.status.idle": "2023-01-11T21:00:23.614444Z",
          "shell.execute_reply": "2023-01-11T21:00:23.613428Z",
          "shell.execute_reply.started": "2023-01-11T21:00:23.602401Z"
        },
        "id": "sRrwwM2eeQN6",
        "outputId": "7b085e92-13fd-4300-a6c2-cf9de4c65d4c",
        "trusted": true
      },
      "outputs": [
        {
          "data": {
            "text/plain": [
              "True     102798\n",
              "False      4368\n",
              "Name: p, dtype: int64"
            ]
          },
          "execution_count": 99,
          "metadata": {},
          "output_type": "execute_result"
        }
      ],
      "source": [
        "excluded_mask = ~train_df[\"p\"].isin(excluded_stories)\n",
        "excluded_mask.value_counts()"
      ]
    },
    {
      "cell_type": "code",
      "execution_count": 100,
      "metadata": {
        "colab": {
          "base_uri": "https://localhost:8080/"
        },
        "execution": {
          "iopub.execute_input": "2023-01-11T21:00:23.616404Z",
          "iopub.status.busy": "2023-01-11T21:00:23.616064Z",
          "iopub.status.idle": "2023-01-11T21:00:23.644947Z",
          "shell.execute_reply": "2023-01-11T21:00:23.643935Z",
          "shell.execute_reply.started": "2023-01-11T21:00:23.616371Z"
        },
        "id": "5sPbSYmFeQN6",
        "outputId": "fcd01691-ec44-4c19-b3bb-800978a52d05",
        "trusted": true
      },
      "outputs": [
        {
          "data": {
            "text/plain": [
              "source    102798\n",
              "p         102798\n",
              "q         102798\n",
              "a         102798\n",
              "span      102798\n",
              "dtype: int64"
            ]
          },
          "execution_count": 100,
          "metadata": {},
          "output_type": "execute_result"
        }
      ],
      "source": [
        "train_df = train_df[excluded_mask]\n",
        "train_df.count()"
      ]
    },
    {
      "cell_type": "markdown",
      "metadata": {
        "id": "mm2QCJbR1mPd"
      },
      "source": [
        "## Train-Validation-Test split"
      ]
    },
    {
      "cell_type": "code",
      "execution_count": 101,
      "metadata": {
        "execution": {
          "iopub.execute_input": "2023-01-11T21:00:23.646601Z",
          "iopub.status.busy": "2023-01-11T21:00:23.646184Z",
          "iopub.status.idle": "2023-01-11T21:00:23.660060Z",
          "shell.execute_reply": "2023-01-11T21:00:23.659048Z",
          "shell.execute_reply.started": "2023-01-11T21:00:23.646567Z"
        },
        "id": "c4GiqoqneQN6",
        "trusted": true
      },
      "outputs": [],
      "source": [
        "train_df = train_df.reset_index()"
      ]
    },
    {
      "cell_type": "code",
      "execution_count": 102,
      "metadata": {
        "colab": {
          "base_uri": "https://localhost:8080/"
        },
        "execution": {
          "iopub.execute_input": "2023-01-11T21:00:23.661885Z",
          "iopub.status.busy": "2023-01-11T21:00:23.661308Z",
          "iopub.status.idle": "2023-01-11T21:00:23.669609Z",
          "shell.execute_reply": "2023-01-11T21:00:23.668611Z",
          "shell.execute_reply.started": "2023-01-11T21:00:23.661845Z"
        },
        "id": "pehX7aazeQN7",
        "outputId": "34021ff0-3495-47ea-f1ee-e9cc180dcffe",
        "trusted": true
      },
      "outputs": [
        {
          "data": {
            "text/plain": [
              "102798"
            ]
          },
          "execution_count": 102,
          "metadata": {},
          "output_type": "execute_result"
        }
      ],
      "source": [
        "total_rows = len(train_df)\n",
        "total_rows"
      ]
    },
    {
      "cell_type": "code",
      "execution_count": 103,
      "metadata": {
        "colab": {
          "base_uri": "https://localhost:8080/"
        },
        "execution": {
          "iopub.execute_input": "2023-01-11T21:00:23.671505Z",
          "iopub.status.busy": "2023-01-11T21:00:23.671120Z",
          "iopub.status.idle": "2023-01-11T21:00:23.679290Z",
          "shell.execute_reply": "2023-01-11T21:00:23.678158Z",
          "shell.execute_reply.started": "2023-01-11T21:00:23.671463Z"
        },
        "id": "_rxe3wDoeQN7",
        "outputId": "9713afff-94c1-4dce-98f1-bf28ace7bb87",
        "trusted": true
      },
      "outputs": [
        {
          "data": {
            "text/plain": [
              "82238"
            ]
          },
          "execution_count": 103,
          "metadata": {},
          "output_type": "execute_result"
        }
      ],
      "source": [
        "ideal_split_index = int(total_rows * 0.8)\n",
        "ideal_split_index"
      ]
    },
    {
      "cell_type": "code",
      "execution_count": 104,
      "metadata": {
        "colab": {
          "base_uri": "https://localhost:8080/",
          "height": 0
        },
        "execution": {
          "iopub.execute_input": "2023-01-11T21:00:23.681594Z",
          "iopub.status.busy": "2023-01-11T21:00:23.681115Z",
          "iopub.status.idle": "2023-01-11T21:00:23.697610Z",
          "shell.execute_reply": "2023-01-11T21:00:23.696665Z",
          "shell.execute_reply.started": "2023-01-11T21:00:23.681555Z"
        },
        "id": "T6_GsayreQN7",
        "outputId": "c876a291-f6d8-4bac-ad03-9101d13c1421",
        "trusted": true
      },
      "outputs": [
        {
          "data": {
            "text/html": [
              "\n",
              "  <div id=\"df-bfabbd3c-a49f-4598-b68b-503245338dab\">\n",
              "    <div class=\"colab-df-container\">\n",
              "      <div>\n",
              "<style scoped>\n",
              "    .dataframe tbody tr th:only-of-type {\n",
              "        vertical-align: middle;\n",
              "    }\n",
              "\n",
              "    .dataframe tbody tr th {\n",
              "        vertical-align: top;\n",
              "    }\n",
              "\n",
              "    .dataframe thead th {\n",
              "        text-align: right;\n",
              "    }\n",
              "</style>\n",
              "<table border=\"1\" class=\"dataframe\">\n",
              "  <thead>\n",
              "    <tr style=\"text-align: right;\">\n",
              "      <th></th>\n",
              "      <th>index</th>\n",
              "      <th>source</th>\n",
              "      <th>p</th>\n",
              "      <th>q</th>\n",
              "      <th>a</th>\n",
              "      <th>span</th>\n",
              "    </tr>\n",
              "  </thead>\n",
              "  <tbody>\n",
              "    <tr>\n",
              "      <th>82235</th>\n",
              "      <td>85698</td>\n",
              "      <td>gutenberg</td>\n",
              "      <td>CHAPTER XVIII \\n\\nI \\n\\nTHOUGH he saw them twi...</td>\n",
              "      <td>Is she an adult?</td>\n",
              "      <td>yes</td>\n",
              "      <td>She had become secretary to Mr. Gruensberg of ...</td>\n",
              "    </tr>\n",
              "    <tr>\n",
              "      <th>82236</th>\n",
              "      <td>85699</td>\n",
              "      <td>gutenberg</td>\n",
              "      <td>CHAPTER XVIII \\n\\nI \\n\\nTHOUGH he saw them twi...</td>\n",
              "      <td>Who does she work for?</td>\n",
              "      <td>Gruensberg Leather Company</td>\n",
              "      <td>She had become secretary to Mr. Gruensberg of ...</td>\n",
              "    </tr>\n",
              "    <tr>\n",
              "      <th>82237</th>\n",
              "      <td>85700</td>\n",
              "      <td>gutenberg</td>\n",
              "      <td>CHAPTER XVIII \\n\\nI \\n\\nTHOUGH he saw them twi...</td>\n",
              "      <td>Who is her boss?</td>\n",
              "      <td>Mr. Gruensberg</td>\n",
              "      <td>She had become secretary to Mr. Gruensberg</td>\n",
              "    </tr>\n",
              "    <tr>\n",
              "      <th>82238</th>\n",
              "      <td>85701</td>\n",
              "      <td>gutenberg</td>\n",
              "      <td>CHAPTER XVIII \\n\\nI \\n\\nTHOUGH he saw them twi...</td>\n",
              "      <td>What is her job?</td>\n",
              "      <td>secretary</td>\n",
              "      <td>She had become secretary to Mr. Gruensberg</td>\n",
              "    </tr>\n",
              "  </tbody>\n",
              "</table>\n",
              "</div>\n",
              "      <button class=\"colab-df-convert\" onclick=\"convertToInteractive('df-bfabbd3c-a49f-4598-b68b-503245338dab')\"\n",
              "              title=\"Convert this dataframe to an interactive table.\"\n",
              "              style=\"display:none;\">\n",
              "        \n",
              "  <svg xmlns=\"http://www.w3.org/2000/svg\" height=\"24px\"viewBox=\"0 0 24 24\"\n",
              "       width=\"24px\">\n",
              "    <path d=\"M0 0h24v24H0V0z\" fill=\"none\"/>\n",
              "    <path d=\"M18.56 5.44l.94 2.06.94-2.06 2.06-.94-2.06-.94-.94-2.06-.94 2.06-2.06.94zm-11 1L8.5 8.5l.94-2.06 2.06-.94-2.06-.94L8.5 2.5l-.94 2.06-2.06.94zm10 10l.94 2.06.94-2.06 2.06-.94-2.06-.94-.94-2.06-.94 2.06-2.06.94z\"/><path d=\"M17.41 7.96l-1.37-1.37c-.4-.4-.92-.59-1.43-.59-.52 0-1.04.2-1.43.59L10.3 9.45l-7.72 7.72c-.78.78-.78 2.05 0 2.83L4 21.41c.39.39.9.59 1.41.59.51 0 1.02-.2 1.41-.59l7.78-7.78 2.81-2.81c.8-.78.8-2.07 0-2.86zM5.41 20L4 18.59l7.72-7.72 1.47 1.35L5.41 20z\"/>\n",
              "  </svg>\n",
              "      </button>\n",
              "      \n",
              "  <style>\n",
              "    .colab-df-container {\n",
              "      display:flex;\n",
              "      flex-wrap:wrap;\n",
              "      gap: 12px;\n",
              "    }\n",
              "\n",
              "    .colab-df-convert {\n",
              "      background-color: #E8F0FE;\n",
              "      border: none;\n",
              "      border-radius: 50%;\n",
              "      cursor: pointer;\n",
              "      display: none;\n",
              "      fill: #1967D2;\n",
              "      height: 32px;\n",
              "      padding: 0 0 0 0;\n",
              "      width: 32px;\n",
              "    }\n",
              "\n",
              "    .colab-df-convert:hover {\n",
              "      background-color: #E2EBFA;\n",
              "      box-shadow: 0px 1px 2px rgba(60, 64, 67, 0.3), 0px 1px 3px 1px rgba(60, 64, 67, 0.15);\n",
              "      fill: #174EA6;\n",
              "    }\n",
              "\n",
              "    [theme=dark] .colab-df-convert {\n",
              "      background-color: #3B4455;\n",
              "      fill: #D2E3FC;\n",
              "    }\n",
              "\n",
              "    [theme=dark] .colab-df-convert:hover {\n",
              "      background-color: #434B5C;\n",
              "      box-shadow: 0px 1px 3px 1px rgba(0, 0, 0, 0.15);\n",
              "      filter: drop-shadow(0px 1px 2px rgba(0, 0, 0, 0.3));\n",
              "      fill: #FFFFFF;\n",
              "    }\n",
              "  </style>\n",
              "\n",
              "      <script>\n",
              "        const buttonEl =\n",
              "          document.querySelector('#df-bfabbd3c-a49f-4598-b68b-503245338dab button.colab-df-convert');\n",
              "        buttonEl.style.display =\n",
              "          google.colab.kernel.accessAllowed ? 'block' : 'none';\n",
              "\n",
              "        async function convertToInteractive(key) {\n",
              "          const element = document.querySelector('#df-bfabbd3c-a49f-4598-b68b-503245338dab');\n",
              "          const dataTable =\n",
              "            await google.colab.kernel.invokeFunction('convertToInteractive',\n",
              "                                                     [key], {});\n",
              "          if (!dataTable) return;\n",
              "\n",
              "          const docLinkHtml = 'Like what you see? Visit the ' +\n",
              "            '<a target=\"_blank\" href=https://colab.research.google.com/notebooks/data_table.ipynb>data table notebook</a>'\n",
              "            + ' to learn more about interactive tables.';\n",
              "          element.innerHTML = '';\n",
              "          dataTable['output_type'] = 'display_data';\n",
              "          await google.colab.output.renderOutput(dataTable, element);\n",
              "          const docLink = document.createElement('div');\n",
              "          docLink.innerHTML = docLinkHtml;\n",
              "          element.appendChild(docLink);\n",
              "        }\n",
              "      </script>\n",
              "    </div>\n",
              "  </div>\n",
              "  "
            ],
            "text/plain": [
              "       index     source                                                  p  \\\n",
              "82235  85698  gutenberg  CHAPTER XVIII \\n\\nI \\n\\nTHOUGH he saw them twi...   \n",
              "82236  85699  gutenberg  CHAPTER XVIII \\n\\nI \\n\\nTHOUGH he saw them twi...   \n",
              "82237  85700  gutenberg  CHAPTER XVIII \\n\\nI \\n\\nTHOUGH he saw them twi...   \n",
              "82238  85701  gutenberg  CHAPTER XVIII \\n\\nI \\n\\nTHOUGH he saw them twi...   \n",
              "\n",
              "                            q                           a  \\\n",
              "82235        Is she an adult?                         yes   \n",
              "82236  Who does she work for?  Gruensberg Leather Company   \n",
              "82237        Who is her boss?              Mr. Gruensberg   \n",
              "82238        What is her job?                   secretary   \n",
              "\n",
              "                                                    span  \n",
              "82235  She had become secretary to Mr. Gruensberg of ...  \n",
              "82236  She had become secretary to Mr. Gruensberg of ...  \n",
              "82237        She had become secretary to Mr. Gruensberg   \n",
              "82238         She had become secretary to Mr. Gruensberg  "
            ]
          },
          "execution_count": 104,
          "metadata": {},
          "output_type": "execute_result"
        }
      ],
      "source": [
        "train_df[ ideal_split_index-3 : ideal_split_index+1 ]"
      ]
    },
    {
      "cell_type": "code",
      "execution_count": 105,
      "metadata": {
        "colab": {
          "base_uri": "https://localhost:8080/"
        },
        "execution": {
          "iopub.execute_input": "2023-01-11T21:00:23.700031Z",
          "iopub.status.busy": "2023-01-11T21:00:23.699754Z",
          "iopub.status.idle": "2023-01-11T21:00:23.712578Z",
          "shell.execute_reply": "2023-01-11T21:00:23.711595Z",
          "shell.execute_reply.started": "2023-01-11T21:00:23.700006Z"
        },
        "id": "3VaBpWTneQN7",
        "outputId": "0d1aa6f8-3c11-4608-e5c7-29d1a4e6ab47",
        "trusted": true
      },
      "outputs": [
        {
          "data": {
            "text/plain": [
              "True     82238\n",
              "False    20560\n",
              "dtype: int64"
            ]
          },
          "execution_count": 105,
          "metadata": {},
          "output_type": "execute_result"
        }
      ],
      "source": [
        "before_split_mask = pd.Series(np.linspace(0, total_rows, total_rows)) < ideal_split_index\n",
        "before_split_mask.value_counts()"
      ]
    },
    {
      "cell_type": "code",
      "execution_count": 106,
      "metadata": {
        "colab": {
          "base_uri": "https://localhost:8080/"
        },
        "execution": {
          "iopub.execute_input": "2023-01-11T21:00:23.714575Z",
          "iopub.status.busy": "2023-01-11T21:00:23.714157Z",
          "iopub.status.idle": "2023-01-11T21:00:23.723884Z",
          "shell.execute_reply": "2023-01-11T21:00:23.722902Z",
          "shell.execute_reply.started": "2023-01-11T21:00:23.714541Z"
        },
        "id": "piLsdDEpeQN7",
        "outputId": "4a75f5f3-a72d-428a-db57-b185a70fcad6",
        "trusted": true
      },
      "outputs": [
        {
          "data": {
            "text/plain": [
              "False    102780\n",
              "True         18\n",
              "Name: p, dtype: int64"
            ]
          },
          "execution_count": 106,
          "metadata": {},
          "output_type": "execute_result"
        }
      ],
      "source": [
        "split_story = train_df[\"p\"][ideal_split_index - 1]\n",
        "split_story_mask = train_df[\"p\"] == split_story\n",
        "split_story_mask.value_counts()"
      ]
    },
    {
      "cell_type": "code",
      "execution_count": 107,
      "metadata": {
        "colab": {
          "base_uri": "https://localhost:8080/"
        },
        "execution": {
          "iopub.execute_input": "2023-01-11T21:00:23.725891Z",
          "iopub.status.busy": "2023-01-11T21:00:23.725141Z",
          "iopub.status.idle": "2023-01-11T21:00:23.738421Z",
          "shell.execute_reply": "2023-01-11T21:00:23.737522Z",
          "shell.execute_reply.started": "2023-01-11T21:00:23.725858Z"
        },
        "id": "Eix1zlO9eQN8",
        "outputId": "43c96b08-2a0f-4cbe-c5aa-4a27c94ec677",
        "trusted": true
      },
      "outputs": [
        {
          "data": {
            "text/plain": [
              "True     82240\n",
              "False    20558\n",
              "dtype: int64"
            ]
          },
          "execution_count": 107,
          "metadata": {},
          "output_type": "execute_result"
        }
      ],
      "source": [
        "train_mask = before_split_mask | split_story_mask\n",
        "train_mask.value_counts()"
      ]
    },
    {
      "cell_type": "code",
      "execution_count": 108,
      "metadata": {
        "colab": {
          "base_uri": "https://localhost:8080/"
        },
        "execution": {
          "iopub.execute_input": "2023-01-11T21:00:23.740447Z",
          "iopub.status.busy": "2023-01-11T21:00:23.739466Z",
          "iopub.status.idle": "2023-01-11T21:00:23.756216Z",
          "shell.execute_reply": "2023-01-11T21:00:23.755568Z",
          "shell.execute_reply.started": "2023-01-11T21:00:23.740413Z"
        },
        "id": "UdWGo8SaeQN8",
        "outputId": "aa6b22b3-2454-4b0d-b73d-a9f22dc13726",
        "trusted": true
      },
      "outputs": [
        {
          "data": {
            "text/plain": [
              "20558"
            ]
          },
          "execution_count": 108,
          "metadata": {},
          "output_type": "execute_result"
        }
      ],
      "source": [
        "val_df = train_df[~train_mask]\n",
        "train_df = train_df[train_mask]\n",
        "len(val_df)"
      ]
    },
    {
      "cell_type": "code",
      "execution_count": 109,
      "metadata": {
        "colab": {
          "base_uri": "https://localhost:8080/"
        },
        "execution": {
          "iopub.execute_input": "2023-01-11T21:00:23.758162Z",
          "iopub.status.busy": "2023-01-11T21:00:23.757225Z",
          "iopub.status.idle": "2023-01-11T21:00:23.767989Z",
          "shell.execute_reply": "2023-01-11T21:00:23.767067Z",
          "shell.execute_reply.started": "2023-01-11T21:00:23.758128Z"
        },
        "id": "HFMUopPIeQN8",
        "outputId": "49f90202-8d1d-483f-cc8b-a1d1de03896b",
        "trusted": true
      },
      "outputs": [
        {
          "data": {
            "text/plain": [
              "Index     657920\n",
              "index     657920\n",
              "source     82452\n",
              "p         481552\n",
              "q         657920\n",
              "a         657920\n",
              "span      657920\n",
              "dtype: int64"
            ]
          },
          "execution_count": 109,
          "metadata": {},
          "output_type": "execute_result"
        }
      ],
      "source": [
        "train_df.memory_usage()"
      ]
    },
    {
      "cell_type": "code",
      "execution_count": 110,
      "metadata": {
        "colab": {
          "base_uri": "https://localhost:8080/"
        },
        "execution": {
          "iopub.execute_input": "2023-01-11T21:00:23.770010Z",
          "iopub.status.busy": "2023-01-11T21:00:23.769566Z",
          "iopub.status.idle": "2023-01-11T21:00:23.777596Z",
          "shell.execute_reply": "2023-01-11T21:00:23.776525Z",
          "shell.execute_reply.started": "2023-01-11T21:00:23.769976Z"
        },
        "id": "wBD8UhMOeQN8",
        "outputId": "08cfa2e6-941c-4232-c660-da12608e85ea",
        "trusted": true
      },
      "outputs": [
        {
          "data": {
            "text/plain": [
              "Index     164464\n",
              "index     164464\n",
              "source     20770\n",
              "p         358188\n",
              "q         164464\n",
              "a         164464\n",
              "span      164464\n",
              "dtype: int64"
            ]
          },
          "execution_count": 110,
          "metadata": {},
          "output_type": "execute_result"
        }
      ],
      "source": [
        "val_df.memory_usage()"
      ]
    },
    {
      "cell_type": "code",
      "execution_count": 111,
      "metadata": {
        "colab": {
          "base_uri": "https://localhost:8080/"
        },
        "execution": {
          "iopub.execute_input": "2023-01-11T21:00:23.779758Z",
          "iopub.status.busy": "2023-01-11T21:00:23.779329Z",
          "iopub.status.idle": "2023-01-11T21:00:23.791394Z",
          "shell.execute_reply": "2023-01-11T21:00:23.790355Z",
          "shell.execute_reply.started": "2023-01-11T21:00:23.779724Z"
        },
        "id": "aoWZVRDyeQN8",
        "outputId": "e6b800fe-b388-4ad9-a764-27f864b98560",
        "trusted": true
      },
      "outputs": [
        {
          "data": {
            "text/plain": [
              "Index       128\n",
              "source     8129\n",
              "p         36378\n",
              "q         63336\n",
              "a         63336\n",
              "span      63336\n",
              "dtype: int64"
            ]
          },
          "execution_count": 111,
          "metadata": {},
          "output_type": "execute_result"
        }
      ],
      "source": [
        "test_df.memory_usage()"
      ]
    },
    {
      "cell_type": "markdown",
      "metadata": {
        "id": "6wuh0_ic1mPd"
      },
      "source": [
        "## Utilities"
      ]
    },
    {
      "cell_type": "code",
      "execution_count": 112,
      "metadata": {
        "execution": {
          "iopub.execute_input": "2023-01-11T21:00:25.659878Z",
          "iopub.status.busy": "2023-01-11T21:00:25.659175Z",
          "iopub.status.idle": "2023-01-11T21:00:32.665848Z",
          "shell.execute_reply": "2023-01-11T21:00:32.664667Z",
          "shell.execute_reply.started": "2023-01-11T21:00:25.659839Z"
        },
        "id": "4pKuTsYt1mPd",
        "trusted": true
      },
      "outputs": [],
      "source": [
        "import random\n",
        "import gc\n",
        "import torch\n",
        "import transformers\n",
        "from tqdm import tqdm\n",
        "from typing import Callable, Dict, List, Tuple\n",
        "from timeit import default_timer as timer\n",
        "from transformers import EncoderDecoderModel, AutoTokenizer\n",
        "from torch.utils.data import Dataset, DataLoader"
      ]
    },
    {
      "cell_type": "code",
      "execution_count": 113,
      "metadata": {
        "id": "cQfcofYQeQN9"
      },
      "outputs": [],
      "source": [
        "def free_some_memory():\n",
        "    torch.cuda.empty_cache()\n",
        "    torch.cuda.reset_accumulated_memory_stats()\n",
        "    gc.collect()"
      ]
    },
    {
      "cell_type": "code",
      "execution_count": 114,
      "metadata": {
        "id": "LLIimUyScd66"
      },
      "outputs": [],
      "source": [
        "import json\n",
        "\n",
        "if not os.path.exists(\"results\"):\n",
        "    os.makedirs(\"results\")\n",
        "\n",
        "def results_to_json(test_df, generated_df, model_name):\n",
        "    '''\n",
        "    Given the test dataframe, the dataframe resulting from generated_answers, and the name of the model, writes on a file (JSON format) the concatenation of the two DataFrames.\n",
        "\n",
        "    Args:\n",
        "        test_df: DataFrame already given as input for generation purposes\n",
        "        generated_df: Output DataFrame of the method generate_answers()\n",
        "        model_name: name of the model, it will define the path for the JSON file\n",
        "    '''\n",
        "    \n",
        "    # drop answers column to avoid duplicate columns\n",
        "    df_g = generated_df.copy().drop(columns=[\"answers\"])\n",
        "    \n",
        "    final = pd.concat([test_df.copy(), df_g.copy()], axis=1)\n",
        "    path = f\"results/{model_name}.json\"\n",
        "    final.to_json(path_or_buf=path)"
      ]
    },
    {
      "cell_type": "code",
      "execution_count": 115,
      "metadata": {
        "id": "1sFeuAYqcd67"
      },
      "outputs": [],
      "source": [
        "def results_from_json(model_name):\n",
        "    '''\n",
        "    Given the name of a model, returns the DataFrame loaded by a JSON file, containing the results previously savd on disk of the generate_answers() method.\n",
        "    \n",
        "    Args:\n",
        "        model_Name: name of the model for which return the results\n",
        "    '''\n",
        "\n",
        "    # Opening JSON file\n",
        "    with open(f'results/{model_name}.json') as f:\n",
        "\n",
        "        # returns JSON object as a dictionary\n",
        "        data = json.load(f)\n",
        "\n",
        "        # Use pandas.DataFrame.from_dict() to Convert JSON to DataFrame\n",
        "        df_results = pd.DataFrame.from_dict(data, orient=\"columns\")\n",
        "\n",
        "        return df_results"
      ]
    },
    {
      "cell_type": "markdown",
      "metadata": {
        "id": "Wr9lF2r5LJfQ"
      },
      "source": [
        "###Pytorch Dataset"
      ]
    },
    {
      "cell_type": "code",
      "execution_count": 116,
      "metadata": {
        "execution": {
          "iopub.execute_input": "2023-01-11T21:14:26.719466Z",
          "iopub.status.busy": "2023-01-11T21:14:26.719031Z",
          "iopub.status.idle": "2023-01-11T21:14:26.728550Z",
          "shell.execute_reply": "2023-01-11T21:14:26.727535Z",
          "shell.execute_reply.started": "2023-01-11T21:14:26.719389Z"
        },
        "id": "YmIVbhWPkD31",
        "trusted": true
      },
      "outputs": [],
      "source": [
        "class CreateDataset(Dataset):\n",
        "    def __init__(self, encodings):\n",
        "        self.encodings = encodings\n",
        "\n",
        "    def __getitem__(self, idx):\n",
        "        return {key: torch.tensor(val[idx]) for key, val in self.encodings.items()}\n",
        "\n",
        "    def __len__(self):\n",
        "        return len(self.encodings.input_ids)"
      ]
    },
    {
      "cell_type": "markdown",
      "metadata": {
        "id": "Z2D0z0w4LYst"
      },
      "source": [
        "### Metric"
      ]
    },
    {
      "cell_type": "markdown",
      "metadata": {
        "id": "3pDzWxTNLg1d"
      },
      "source": [
        "Instead of importing the whole allennlp library, we decided to copy from the source code only of the functions necessary for our task."
      ]
    },
    {
      "cell_type": "code",
      "execution_count": 117,
      "metadata": {
        "id": "9FKIPvM1CmVN"
      },
      "outputs": [],
      "source": [
        "#utility functions taken from the allennlp library for computing the F1-score\n",
        "import collections\n",
        "import re\n",
        "import string\n",
        "from typing import Callable, Sequence, TypeVar, Tuple\n",
        "\n",
        "def get_tokens(s):\n",
        "    if not s:\n",
        "        return []\n",
        "    return normalize_answer(s).split()\n",
        "\n",
        "def normalize_answer(s):\n",
        "    \"\"\"Lower text and remove punctuation, articles and extra whitespace.\"\"\"\n",
        "\n",
        "    def remove_articles(text):\n",
        "        regex = re.compile(r\"\\b(a|an|the)\\b\", re.UNICODE)\n",
        "        return re.sub(regex, \" \", text)\n",
        "\n",
        "    def white_space_fix(text):\n",
        "        return \" \".join(text.split())\n",
        "\n",
        "    def remove_punc(text):\n",
        "        exclude = set(string.punctuation)\n",
        "        return \"\".join(ch for ch in text if ch not in exclude)\n",
        "\n",
        "    def lower(text):\n",
        "        return text.lower()\n",
        "\n",
        "    return white_space_fix(remove_articles(remove_punc(lower(s))))\n",
        "\n",
        "def compute_f1(a_pred: str, a_gold: str) -> float:\n",
        "    pred_toks = get_tokens(a_pred)\n",
        "    gold_toks = get_tokens(a_gold)\n",
        "    common = collections.Counter(pred_toks) & collections.Counter(gold_toks)  # type: ignore[var-annotated]\n",
        "    num_same = sum(common.values())\n",
        "    if len(pred_toks) == 0 or len(gold_toks) == 0:\n",
        "        # If either is no-answer, then F1 is 1 if they agree, 0 otherwise\n",
        "        return float(pred_toks == gold_toks)\n",
        "    if num_same == 0:\n",
        "        return 0.0\n",
        "    precision = 1.0 * num_same / len(pred_toks)\n",
        "    recall = 1.0 * num_same / len(gold_toks)\n",
        "    f1 = (2 * precision * recall) / (precision + recall)\n",
        "    return f1"
      ]
    },
    {
      "cell_type": "markdown",
      "metadata": {
        "id": "SY-KWM4VhXs3"
      },
      "source": [
        "###Generation"
      ]
    },
    {
      "cell_type": "code",
      "execution_count": 131,
      "metadata": {
        "id": "0Rv6DjFnu2et"
      },
      "outputs": [],
      "source": [
        "def generate_answers(model: torch.nn.Module,\n",
        "                    tokenizer: any,\n",
        "                    df_input: pd.DataFrame,\n",
        "                    max_length: int,\n",
        "                    history: bool = False,\n",
        "                     ) -> pd.DataFrame:\n",
        "\n",
        "    '''\n",
        "    Given the model and the input, returns a dataframe cointaining the generated answers and relative F1-score\n",
        "    \n",
        "    Args:\n",
        "        model: Torch model used to generate answers\n",
        "        tokenizer: generic tokenizer\n",
        "        df_input: dataframe containing the input to the model\n",
        "        max_length: max length applied in the tokenization\n",
        "        history: history flag.\n",
        "    '''\n",
        "\n",
        "    device = torch.device('cuda') if torch.cuda.is_available() else torch.device('cpu')\n",
        "    if history:\n",
        "      print('generation with history')\n",
        "      df_input = transform_coqa_dataset_with_history(df_input)\n",
        "      questions = df_input[[\"q\", \"history\"]].apply(\" \".join, axis=1)\n",
        "    else:\n",
        "      questions = df_input['q']\n",
        "    input_values = tokenizer(list(questions),list(df_input['p']), \n",
        "                                padding=True, \n",
        "                                truncation=True, \n",
        "                                max_length = max_length)\n",
        "                                \n",
        "    input_ids, input_attention_mask = input_values['input_ids'], input_values['attention_mask']\n",
        "    list_generated = []\n",
        "    model.to(device)\n",
        "    # Set the model in evaluation mode\n",
        "    model.eval()\n",
        "    for input, mask in zip(input_ids,input_attention_mask):\n",
        "        input = np.expand_dims(np.array(input), axis=0)\n",
        "        mask = np.expand_dims(np.array(mask), axis=0)\n",
        "        generated = model.generate(input_ids=torch.tensor(input).to(device),\n",
        "                                                        max_length=20,\n",
        "                                                        repetition_penalty=5.,\n",
        "                                                        min_length=1,\n",
        "                                                        no_repeat_ngram_size=3,\n",
        "                                                        early_stopping=True,\n",
        "                                                        decoder_start_token_id = model.config.decoder_start_token_id,\n",
        "                                                        num_beams=2,\n",
        "                                                        )\n",
        "        generated = tokenizer.batch_decode(generated, skip_special_tokens=True)\n",
        "        list_generated.append(generated)\n",
        "\n",
        "    # Create a dataframe and insert the real answers\n",
        "    df_generated = pd.DataFrame(list_generated, columns = ['generated'])\n",
        "    df_generated['answers'] = df_input['a']\n",
        "\n",
        "    # Generate and insert the F1-score\n",
        "    score = []\n",
        "    for a_pred, a_gold in zip(df_generated['generated'], df_generated['answers']):\n",
        "        score.append(compute_f1(a_pred, a_gold))\n",
        "    df_generated['score'] = score\n",
        "\n",
        "    # Print average f1_score and the answers with score greater than 0\n",
        "    average_score = np.mean(score)*100\n",
        "    predicted = len(df_generated[df_generated['score'] != 0])\n",
        "    \n",
        "    print(f'Average_score: {average_score}')\n",
        "    print(f'N° of samples with score greater than 0: {predicted} / {len(df_generated)}')\n",
        "    return df_generated"
      ]
    },
    {
      "cell_type": "markdown",
      "metadata": {
        "id": "SICbZ6vB1mPd"
      },
      "source": [
        "## Model definition"
      ]
    },
    {
      "cell_type": "markdown",
      "metadata": {
        "id": "2rkmZ-I83G37"
      },
      "source": [
        "In this assignment to tackle the sequence to sequence task, we decided to use transformer-based encoder-decoder models - often also called seq2seq transformer models. The EncoderDecoderModel is initialized from a pretrained encoder checkpoint and a pretrained decoder checkpoint. To do so, the EncoderDecoderModel class provides a EncoderDecoderModel.from_encoder_decoder_pretrained() method."
      ]
    },
    {
      "cell_type": "code",
      "execution_count": 119,
      "metadata": {
        "id": "NuNeaZwnxuOw"
      },
      "outputs": [],
      "source": [
        "def getModel(model_name):\n",
        "  if(model_name != 'prajjwal1/bert-tiny') and (model_name != 'distilroberta-base'):\n",
        "    raise Exception(\"ValueError: model name should be 'prajjwal1/bert-tiny' or 'distilroberta-base'.\")\n",
        "  \n",
        "  # tie_encoder_decoder to share weights and half the number of parameters\n",
        "  model = EncoderDecoderModel.from_encoder_decoder_pretrained(model_name, model_name,\n",
        "                                                                          tie_encoder_decoder=True)\n",
        "  tokenizer = AutoTokenizer.from_pretrained(model_name)\n",
        "\n",
        "  # set special tokens\n",
        "  model.config.decoder_start_token_id = tokenizer.cls_token_id\n",
        "  model.config.eos_token_id = tokenizer.sep_token_id\n",
        "  model.config.pad_token_id = tokenizer.pad_token_id\n",
        "\n",
        "  # set decoding parameters                             \n",
        "  model.config.early_stopping = True\n",
        "  model.config.no_repeat_ngram_size = 3\n",
        "  model.config.repetition_penalty = 5.0\n",
        "  model.config.num_beams = 2\n",
        "  model.config.vocab_size = model.config.encoder.vocab_size\n",
        "  return model, tokenizer\n"
      ]
    },
    {
      "cell_type": "markdown",
      "metadata": {
        "id": "1aFTVbjH1mPf"
      },
      "source": [
        "## Question generation $f_\\theta(P, Q)$ with text passage $P$ and question $Q$"
      ]
    },
    {
      "cell_type": "markdown",
      "metadata": {
        "id": "SKp0Kz_C0z1K"
      },
      "source": [
        "### Train Functionalities\n"
      ]
    },
    {
      "cell_type": "code",
      "execution_count": 120,
      "metadata": {
        "id": "P-3GGR9O05dn"
      },
      "outputs": [],
      "source": [
        "# Train one epoch\n",
        "def train(model: torch.nn.Module,\n",
        "          train_loader:torch.utils.data.DataLoader,\n",
        "          device: torch.device,          \n",
        "          optimizer: torch.optim,\n",
        "          epoch: int) -> float:\n",
        "    \"\"\"Trains a neural network for one epoch.\n",
        "\n",
        "    Args:\n",
        "        model: the model to train.\n",
        "        train_loader: the data loader containing the training data.\n",
        "        device: the device to use to train the model.        \n",
        "        optimizer: the optimizer to use to train the model.\n",
        "        epoch: the number of the current epoch.\n",
        "\n",
        "    Returns:\n",
        "        the cross entropy Loss value on the training data.\n",
        "    \"\"\"    \n",
        "    size_ds_train = len(train_loader.dataset)\n",
        "    num_batches = len(train_loader)\n",
        "    loss_score = []\n",
        "    loop = tqdm(train_loader)\n",
        "    #set training mode\n",
        "    model.train()\n",
        "    for idx_batch, batch in enumerate(loop):\n",
        "        optimizer.zero_grad()\n",
        "        input_ids = batch['input_ids'].to(device)\n",
        "        attention_mask = batch['attention_mask'].to(device)\n",
        "        labels = batch['labels'].to(device)\n",
        "        loss, outputs = model(input_ids,\n",
        "                              attention_mask=attention_mask,\n",
        "                              labels = labels\n",
        "                        )[:2]\n",
        "        loss_score.append(loss.item())\n",
        "        loss.backward()\n",
        "        optimizer.step() \n",
        "        loop.set_description(f'Epoch {epoch}')\n",
        "        loop.set_postfix(loss=loss.item())\n",
        "\n",
        "    loss_train = np.mean(loss_score)\n",
        "    return loss_train\n",
        "\n",
        "# Validate one epoch\n",
        "def validate(model: torch.nn.Module,\n",
        "             data_loader: torch.utils.data.DataLoader,\n",
        "             device: torch.device) -> float:\n",
        "    \"\"\"Evaluates the model.\n",
        "\n",
        "    Args:\n",
        "        model: the model to evalaute.\n",
        "        data_loader: the data loader containing the validation data.\n",
        "        device: the device to use to evaluate the model.\n",
        "\n",
        "    Returns:\n",
        "        the loss value on the validation data.\n",
        "    \"\"\"\n",
        "    loss_score = []\n",
        "    #set evaluation mode\n",
        "    model = model.eval()\n",
        "    with torch.no_grad():\n",
        "        for idx_batch, batch in enumerate(data_loader):\n",
        "            input_ids = batch['input_ids'].to(device)\n",
        "            attention_mask = batch['attention_mask'].to(device)\n",
        "            labels = batch['labels'].to(device)\n",
        "            loss, outputs = model(input_ids,\n",
        "                                  attention_mask=attention_mask,\n",
        "                                  labels = labels\n",
        "                            )[:2]\n",
        "            loss_score.append(loss.item())\n",
        "    loss_val = np.mean(loss_score)\n",
        "    return loss_val"
      ]
    },
    {
      "cell_type": "code",
      "execution_count": 121,
      "metadata": {
        "id": "ZRJmWE8R1bIB"
      },
      "outputs": [],
      "source": [
        "def training_loop(num_epochs: int,\n",
        "                  optimizer: torch.optim, \n",
        "                  model: torch.nn.Module, \n",
        "                  loader_train: torch.utils.data.DataLoader, \n",
        "                  loader_val: torch.utils.data.DataLoader, \n",
        "                  verbose: bool=True) -> Dict:\n",
        "    \"\"\"Executes the training loop.\n",
        "    \n",
        "        Args:\n",
        "            num_epochs: the number of epochs.\n",
        "            optimizer: the optimizer to use.\n",
        "            model: the mode to train.\n",
        "            loader_train: the data loader containing the training data.\n",
        "            loader_val: the data loader containing the validation data.\n",
        "            verbose: if true print the value of loss.\n",
        "\n",
        "        Returns:  \n",
        "            A dictionary with the statistics computed during the train:\n",
        "            the values for the train loss for each epoch.\n",
        "            the values for the validation loss for each epoch.\n",
        "            the time of execution in seconds for the entire loop.\n",
        "    \"\"\"\n",
        "    device = torch.device('cuda') if torch.cuda.is_available() else torch.device('cpu')\n",
        "    model.to(device)\n",
        "    loop_start = timer()\n",
        "    train_losses_values = []\n",
        "    val_losses_values = []\n",
        "    for epoch in range(1, num_epochs + 1):\n",
        "        time_start = timer()\n",
        "        loss_train = train(model, loader_train, device, \n",
        "                                           optimizer, epoch)\n",
        "        loss_val = validate(model, loader_val, device)\n",
        "        time_end = timer()\n",
        "        train_losses_values.append(loss_train)\n",
        "        val_losses_values.append(loss_val)\n",
        "        if verbose:            \n",
        "            print(f'Epoch: {epoch} '\n",
        "                  f' Lr: {lr:.8f} '\n",
        "                  f' Loss: Train = [{loss_train:.4f}] - Val = [{loss_val:.4f}] '\n",
        "                  f' Time one epoch (s): {(time_end - time_start):.4f} ')\n",
        "    loop_end = timer()\n",
        "    time_loop = loop_end - loop_start\n",
        "    if verbose:\n",
        "        print(f'Time for {num_epochs} epochs (s): {(time_loop):.3f}') \n",
        "        \n",
        "    return {'train_loss_values': train_losses_values,\n",
        "            'val_loss_values' : val_losses_values,\n",
        "            'time': time_loop}"
      ]
    },
    {
      "attachments": {},
      "cell_type": "markdown",
      "metadata": {
        "id": "ZZwPf5KGh8AH"
      },
      "source": [
        "### Encodings"
      ]
    },
    {
      "cell_type": "code",
      "execution_count": 122,
      "metadata": {
        "id": "tmQuDvN1rq1D"
      },
      "outputs": [],
      "source": [
        "BERT_TINY_ENCODER_MAX_LENGTH = 499\n",
        "DISTILLROBERTA_ENCODER_MAX_LENGTH = 512\n",
        "def encodings(model_name, \n",
        "              tokenizer,\n",
        "              df,\n",
        "              history):\n",
        "  if(model_name == 'prajjwal1/bert-tiny'):\n",
        "    encoder_max_length = BERT_TINY_ENCODER_MAX_LENGTH\n",
        "    decoder_max_length = 50\n",
        "  elif(model_name == 'distilroberta-base'):\n",
        "    encoder_max_length = DISTILLROBERTA_ENCODER_MAX_LENGTH\n",
        "    decoder_max_length = 25\n",
        "  if history:\n",
        "    #concatenating the question with the history \n",
        "    print(f'encoding with history')\n",
        "    df = transform_coqa_dataset_with_history(df)\n",
        "    questions = df[[\"q\", \"history\"]].apply(\" \".join, axis=1)\n",
        "  else:\n",
        "    questions = df['q']\n",
        "\n",
        "  encodings = tokenizer(list(questions), list(df['p']), \n",
        "                            padding=True,\n",
        "                            truncation= 'only_second',\n",
        "                            max_length = encoder_max_length,\n",
        "                            )\n",
        "  input_ids, input_attention_mask = encodings['input_ids'], encodings['attention_mask']\n",
        "\n",
        "  label_values = tokenizer(list(df['a']),\n",
        "                            padding=True,\n",
        "                            truncation=True,\n",
        "                            max_length = decoder_max_length,\n",
        "                            )\n",
        "  labels, labels_mask = label_values['input_ids'], label_values['attention_mask']\n",
        "  #Tokens with indices set to ``-100`` are ignored (masked) during training, the loss is only computed for the tokens with labels\n",
        "  masked_labels = [[-100 if token == tokenizer.pad_token_id else token for token in labels] for labels in labels]\n",
        "\n",
        "  # print(f\"\"\"\n",
        "  #   Question 42 decoded: {tokenizer.decode(input_ids[42])}\n",
        "  #   Answer 42 decoded: {tokenizer.decode(labels[42])}\n",
        "  # \"\"\")\n",
        "\n",
        "  #add the labels to the batch encodings dictionary, then this will be used to create a pytorch dataset\n",
        "  if(model_name == 'prajjwal1/bert-tiny'):\n",
        "    #token_type_ids are not relevant for the training process\n",
        "    encodings.pop('token_type_ids')\n",
        "  encodings.update({'labels': masked_labels})\n",
        "  return encodings"
      ]
    },
    {
      "attachments": {},
      "cell_type": "markdown",
      "metadata": {
        "id": "YgAgAhQKiQsA"
      },
      "source": [
        "### Execution"
      ]
    },
    {
      "cell_type": "code",
      "execution_count": 123,
      "metadata": {
        "id": "_04W2EehrIH1"
      },
      "outputs": [],
      "source": [
        "def execute(model_name: str,\n",
        "            lr: float, \n",
        "            num_epochs: int, \n",
        "            batch_size: int,\n",
        "            train_df: pd.DataFrame,\n",
        "            val_df: pd.DataFrame,\n",
        "            history:bool=False,\n",
        "            ) ->Tuple[torch.nn.Module, any]:\n",
        "    \"\"\"Gets the model, does the encodings of the training and validation data using the \n",
        "        tokenizer, and then executes the training loop.\n",
        "\n",
        "    Args:\n",
        "        model: the network to train.\n",
        "        lr: the learning rate.\n",
        "        num_epochs: the number of epochs.\n",
        "        batch_size: the batch size.\n",
        "        train_df: training dataframe.\n",
        "        val_df: validation dataframe.\n",
        "        history: questions-answers history flag.\n",
        "    \"\"\"\n",
        "    #get the model and the tokenizer\n",
        "    model, tokenizer = getModel(model_name)\n",
        "    #Start encodings\n",
        "    print(f'STARTING ENCODING:')\n",
        "    train_encodings = encodings(model_name, tokenizer, train_df, history)\n",
        "    val_encodings = encodings(model_name, tokenizer, val_df, history)\n",
        "    print(f'ENCODING COMPLETE.')\n",
        "\n",
        "    #create training dataset\n",
        "    train_dataset = CreateDataset(train_encodings)\n",
        "    #create training dataloader\n",
        "    data_loader_train = torch.utils.data.DataLoader(train_dataset,\n",
        "                                        batch_size=batch_size,\n",
        "                                        shuffle = True\n",
        "                                        )\n",
        "    #create validation dataset\n",
        "    val_dataset = CreateDataset(val_encodings)\n",
        "    #create validation dataloader\n",
        "    data_loader_val = torch.utils.data.DataLoader(val_dataset,\n",
        "                                        batch_size=batch_size,\n",
        "                                        shuffle = False\n",
        "                                        )\n",
        "\n",
        "    #Optimizer\n",
        "    optimizer = torch.optim.AdamW(model.parameters(), lr=lr)\n",
        "    print(f'STARTING TRAINING:')\n",
        "    statistics = training_loop(num_epochs, optimizer, model,\n",
        "                               data_loader_train, data_loader_val)\n",
        "    print(f'TRAINING COMPLETE.')\n",
        "    return model, tokenizer\n"
      ]
    },
    {
      "cell_type": "markdown",
      "metadata": {
        "id": "scfOBhZf1mPp"
      },
      "source": [
        "## Question generation $f_\\theta(P, Q, H)$ with text passage $P$, question $Q$ and dialogue history $H$"
      ]
    },
    {
      "cell_type": "markdown",
      "metadata": {
        "id": "WpTttkRT1mPq"
      },
      "source": [
        "## Train and evaluate $f_\\theta(P, Q)$ and $f_\\theta(P, Q, H)$"
      ]
    },
    {
      "cell_type": "code",
      "execution_count": 124,
      "metadata": {
        "colab": {
          "base_uri": "https://localhost:8080/"
        },
        "execution": {
          "iopub.execute_input": "2023-01-11T21:02:30.468677Z",
          "iopub.status.busy": "2023-01-11T21:02:30.468289Z",
          "iopub.status.idle": "2023-01-11T21:02:30.473979Z",
          "shell.execute_reply": "2023-01-11T21:02:30.472922Z",
          "shell.execute_reply.started": "2023-01-11T21:02:30.468625Z"
        },
        "id": "oL3BVkcG5KZ8",
        "outputId": "fab97de7-41f8-4560-ac9c-7a2059cc0f28",
        "trusted": true
      },
      "outputs": [
        {
          "name": "stdout",
          "output_type": "stream",
          "text": [
            "Training set shape: 82240\n",
            "Validation set shape: 20558\n"
          ]
        }
      ],
      "source": [
        "#fix seed 42,2022,1337\n",
        "fix_seed(42)\n",
        "\"\"\"\n",
        "#take a subset from the training set\n",
        "max_train = len(train_df)\n",
        "t_start = 0\n",
        "t_end = 50000\n",
        "train_df = train_df[t_start:t_end]\n",
        "#take a subset from the validation set\n",
        "max_val = len(val_df)\n",
        "v_start = 0\n",
        "v_end = 10000\n",
        "val_df = val_df[v_start:v_end]\n",
        "print(f'Training set shape: {(t_end-t_start)}\\nValidation set shape: {(v_end-v_start)}')\n",
        "\"\"\"\n",
        "print(f'Training set shape: {len(train_df)}\\nValidation set shape: {len(val_df)}')"
      ]
    },
    {
      "cell_type": "markdown",
      "metadata": {
        "id": "HeNHSux9Xscg"
      },
      "source": [
        "####Training"
      ]
    },
    {
      "cell_type": "code",
      "execution_count": 125,
      "metadata": {
        "colab": {
          "base_uri": "https://localhost:8080/",
          "height": 549,
          "referenced_widgets": [
            "e8fe3d5682b743c2beb622a5fcd2dd21",
            "c5022213f45746bb9541254a4b8048e1",
            "4aacf80c3d1044c0a540f7d72133f3e2",
            "0037f6673b254c9b8e53a660d5962175",
            "656f661af70a4ef1a62e8f7c34249787",
            "d2580527610348ceac30f5f7a00a1e4e",
            "68f64a29c7cf46ed827e9ed14c79284a",
            "139d74ce80764036aaef1322256f80e6",
            "4f9aaf8a1ed44618b7b31ea392976840",
            "501bc0f3366042889278717115652d00",
            "9e0689f32342494c807801a18467b2ac",
            "fe603cf63d204d02a52765b86e386726",
            "575e2e7237ed4dca9a16ca555063bc1f",
            "30123460c8034ca8b0b1aa91aec58fab",
            "9b73c8b63bcd441eb2aa81f5768f4765",
            "ca4f2082e21842d5a61d1f96c5990c48",
            "f6103953957f471695d04b22c2ba3ff9",
            "7c07ad211a3047629cada0eb3e22612c",
            "b5266b3ec6e245b6bd90be81771d21ed",
            "6c67bfd74e0d4640a06cbcdee03e2c80",
            "4184fee899524dbebd854a36c4eb60cf",
            "eb5f637f6b88487ebf45b1b22d9d9b05",
            "7d06c2bbae9f4bd68a5d8aba6b09b2ec",
            "08c384c57a484294ae39b591f1fb5439",
            "40d7705bba4741f382288085bed568ad",
            "00729dafd1f44c95a0795c57b45d8150",
            "55e515563b844cc6a74428392bb15ad9",
            "07f85023d3c448f4bb11beca8ed9480d",
            "74ad4f0f639c41568d84c9071824369b",
            "32b3353776254580a5e353bb3706eb24",
            "a46e6ef21e984af19adc5d71378bf2f1",
            "ca4e77f2102a4e1bb4e02e8eb6d3d176",
            "4bb11bfb7210462889cfcf917d06cf74"
          ]
        },
        "id": "vowXc6lgygac",
        "outputId": "1ca1c814-4ad3-42da-a997-50158d2c7e6e"
      },
      "outputs": [
        {
          "data": {
            "application/vnd.jupyter.widget-view+json": {
              "model_id": "e8fe3d5682b743c2beb622a5fcd2dd21",
              "version_major": 2,
              "version_minor": 0
            },
            "text/plain": [
              "Downloading:   0%|          | 0.00/285 [00:00<?, ?B/s]"
            ]
          },
          "metadata": {},
          "output_type": "display_data"
        },
        {
          "data": {
            "application/vnd.jupyter.widget-view+json": {
              "model_id": "fe603cf63d204d02a52765b86e386726",
              "version_major": 2,
              "version_minor": 0
            },
            "text/plain": [
              "Downloading:   0%|          | 0.00/17.8M [00:00<?, ?B/s]"
            ]
          },
          "metadata": {},
          "output_type": "display_data"
        },
        {
          "name": "stderr",
          "output_type": "stream",
          "text": [
            "Some weights of the model checkpoint at prajjwal1/bert-tiny were not used when initializing BertModel: ['cls.predictions.transform.LayerNorm.bias', 'cls.seq_relationship.bias', 'cls.predictions.transform.LayerNorm.weight', 'cls.predictions.transform.dense.bias', 'cls.seq_relationship.weight', 'cls.predictions.decoder.weight', 'cls.predictions.bias', 'cls.predictions.decoder.bias', 'cls.predictions.transform.dense.weight']\n",
            "- This IS expected if you are initializing BertModel from the checkpoint of a model trained on another task or with another architecture (e.g. initializing a BertForSequenceClassification model from a BertForPreTraining model).\n",
            "- This IS NOT expected if you are initializing BertModel from the checkpoint of a model that you expect to be exactly identical (initializing a BertForSequenceClassification model from a BertForSequenceClassification model).\n",
            "Some weights of the model checkpoint at prajjwal1/bert-tiny were not used when initializing BertLMHeadModel: ['cls.seq_relationship.bias', 'cls.seq_relationship.weight']\n",
            "- This IS expected if you are initializing BertLMHeadModel from the checkpoint of a model trained on another task or with another architecture (e.g. initializing a BertForSequenceClassification model from a BertForPreTraining model).\n",
            "- This IS NOT expected if you are initializing BertLMHeadModel from the checkpoint of a model that you expect to be exactly identical (initializing a BertForSequenceClassification model from a BertForSequenceClassification model).\n",
            "Some weights of BertLMHeadModel were not initialized from the model checkpoint at prajjwal1/bert-tiny and are newly initialized: ['bert.encoder.layer.0.crossattention.self.value.weight', 'bert.encoder.layer.0.crossattention.self.query.weight', 'bert.encoder.layer.1.crossattention.output.LayerNorm.weight', 'bert.encoder.layer.1.crossattention.output.dense.weight', 'bert.encoder.layer.0.crossattention.self.value.bias', 'bert.encoder.layer.0.crossattention.output.LayerNorm.weight', 'bert.encoder.layer.0.crossattention.output.LayerNorm.bias', 'bert.encoder.layer.1.crossattention.output.LayerNorm.bias', 'bert.encoder.layer.1.crossattention.self.key.bias', 'bert.encoder.layer.1.crossattention.self.value.weight', 'bert.encoder.layer.1.crossattention.self.query.weight', 'bert.encoder.layer.0.crossattention.self.key.bias', 'bert.encoder.layer.0.crossattention.output.dense.weight', 'bert.encoder.layer.0.crossattention.output.dense.bias', 'bert.encoder.layer.0.crossattention.self.query.bias', 'bert.encoder.layer.1.crossattention.self.query.bias', 'bert.encoder.layer.1.crossattention.self.key.weight', 'bert.encoder.layer.1.crossattention.output.dense.bias', 'bert.encoder.layer.0.crossattention.self.key.weight', 'bert.encoder.layer.1.crossattention.self.value.bias']\n",
            "You should probably TRAIN this model on a down-stream task to be able to use it for predictions and inference.\n",
            "The following encoder weights were not tied to the decoder ['bert/pooler']\n"
          ]
        },
        {
          "data": {
            "application/vnd.jupyter.widget-view+json": {
              "model_id": "7d06c2bbae9f4bd68a5d8aba6b09b2ec",
              "version_major": 2,
              "version_minor": 0
            },
            "text/plain": [
              "Downloading:   0%|          | 0.00/232k [00:00<?, ?B/s]"
            ]
          },
          "metadata": {},
          "output_type": "display_data"
        },
        {
          "name": "stdout",
          "output_type": "stream",
          "text": [
            "STARTING ENCODING.\n",
            "ENCODING COMPLETE.\n",
            "STARTING ENCODING.\n",
            "ENCODING COMPLETE.\n",
            "STARTING TRAINING.\n"
          ]
        },
        {
          "name": "stderr",
          "output_type": "stream",
          "text": [
            "  0%|          | 0/5140 [00:00<?, ?it/s]/usr/local/lib/python3.8/dist-packages/transformers/models/encoder_decoder/modeling_encoder_decoder.py:634: FutureWarning: Version v4.12.0 introduces a better way to train encoder-decoder models by computing the loss inside the encoder-decoder framework rather than in the decoder itself. You may observe training discrepancies if fine-tuning a model trained with versions anterior to 4.12.0. The decoder_input_ids are now created based on the labels, no need to pass them yourself anymore.\n",
            "  warnings.warn(DEPRECATION_WARNING, FutureWarning)\n",
            "Epoch 1: 100%|██████████| 5140/5140 [04:31<00:00, 18.95it/s, loss=3.92]\n"
          ]
        },
        {
          "name": "stdout",
          "output_type": "stream",
          "text": [
            "Epoch: 1  Lr: 0.00004000  Loss: Train = [4.1604] - Val = [3.7261]  Time one epoch (s): 290.4929 \n"
          ]
        },
        {
          "name": "stderr",
          "output_type": "stream",
          "text": [
            "Epoch 2: 100%|██████████| 5140/5140 [03:49<00:00, 22.39it/s, loss=3.94]\n"
          ]
        },
        {
          "name": "stdout",
          "output_type": "stream",
          "text": [
            "Epoch: 2  Lr: 0.00004000  Loss: Train = [3.6785] - Val = [3.5960]  Time one epoch (s): 246.0055 \n"
          ]
        },
        {
          "name": "stderr",
          "output_type": "stream",
          "text": [
            "Epoch 3: 100%|██████████| 5140/5140 [03:49<00:00, 22.42it/s, loss=3.17]\n"
          ]
        },
        {
          "name": "stdout",
          "output_type": "stream",
          "text": [
            "Epoch: 3  Lr: 0.00004000  Loss: Train = [3.3976] - Val = [3.3447]  Time one epoch (s): 245.6518 \n",
            "Time for 3 epochs (s): 782.150\n",
            "TRAINING COMPLETE.\n"
          ]
        }
      ],
      "source": [
        "#parameters \n",
        "lr = 4e-5\n",
        "num_epochs = 3\n",
        "#if you are having runtime error reduce the batch size to 12 or 8\n",
        "batch_size = 16\n",
        "model_name = 'prajjwal1/bert-tiny'\n",
        "#model_name = 'distilroberta-base'\n",
        "history = True\n",
        "#execute\n",
        "model, tokenizer = execute(model_name, lr, num_epochs, batch_size, train_df, val_df, history=history)"
      ]
    },
    {
      "cell_type": "code",
      "execution_count": null,
      "metadata": {
        "execution": {
          "iopub.execute_input": "2023-01-11T21:09:53.587050Z",
          "iopub.status.busy": "2023-01-11T21:09:53.586258Z",
          "iopub.status.idle": "2023-01-11T21:09:54.598001Z",
          "shell.execute_reply": "2023-01-11T21:09:54.596968Z",
          "shell.execute_reply.started": "2023-01-11T21:09:53.587012Z"
        },
        "id": "PS4LyEvk1y88",
        "trusted": true
      },
      "outputs": [],
      "source": [
        "free_some_memory()"
      ]
    },
    {
      "cell_type": "markdown",
      "metadata": {
        "id": "1ezjXyEag7rc"
      },
      "source": [
        "#### Evaluation"
      ]
    },
    {
      "cell_type": "markdown",
      "metadata": {
        "id": "ZpudKS7ZhCN6"
      },
      "source": [
        "Encode test set using the tokenizer defined before."
      ]
    },
    {
      "cell_type": "code",
      "execution_count": 132,
      "metadata": {
        "colab": {
          "base_uri": "https://localhost:8080/"
        },
        "id": "9d0krT9su2ew",
        "outputId": "05aa2564-92d8-441f-d8af-2e2518019d7b"
      },
      "outputs": [
        {
          "name": "stdout",
          "output_type": "stream",
          "text": [
            "STARTING GENERATION:\n",
            "generation with history\n",
            "Average_score: 14.36837041503353\n",
            "N° of samples with score greater than 0: 1453 / 7917\n",
            "GENERATION COMPLETE.\n"
          ]
        }
      ],
      "source": [
        "if(model_name == 'prajjwal1/bert-tiny'):\n",
        "  encoder_max_length = BERT_TINY_ENCODER_MAX_LENGTH\n",
        "elif(model_name == 'distilroberta-base'):\n",
        "  encoder_max_length = DISTILLROBERTA_ENCODER_MAX_LENGTH\n",
        "print(f'STARTING GENERATION:')\n",
        "df_generated = generate_answers(model = model, \n",
        "                                tokenizer = tokenizer,\n",
        "                                df_input = test_df,\n",
        "                                max_length = encoder_max_length,\n",
        "                                history = history)\n",
        "print(f'GENERATION COMPLETE.')"
      ]
    },
    {
      "cell_type": "markdown",
      "metadata": {
        "id": "UmbGypwzcd7A"
      },
      "source": [
        "Save the contents of df_generated (concatenated with test_df) in the folder \"results\", as a JSON file."
      ]
    },
    {
      "cell_type": "code",
      "execution_count": null,
      "metadata": {
        "id": "XALKeL3tcd7B"
      },
      "outputs": [],
      "source": [
        "# save\n",
        "# results_to_json(test_df, df_generated, model_name)\n",
        "# load\n",
        "# df_results = results_from_json(model_name)"
      ]
    },
    {
      "cell_type": "code",
      "execution_count": 133,
      "metadata": {
        "colab": {
          "base_uri": "https://localhost:8080/",
          "height": 1000
        },
        "id": "WuX0FbSZu2ew",
        "outputId": "9edeba34-3385-4e14-b8f6-b80c7badfcd2"
      },
      "outputs": [
        {
          "data": {
            "text/html": [
              "\n",
              "  <div id=\"df-3a4a3c24-70c0-4be5-93bc-f3666ddf1bb3\">\n",
              "    <div class=\"colab-df-container\">\n",
              "      <div>\n",
              "<style scoped>\n",
              "    .dataframe tbody tr th:only-of-type {\n",
              "        vertical-align: middle;\n",
              "    }\n",
              "\n",
              "    .dataframe tbody tr th {\n",
              "        vertical-align: top;\n",
              "    }\n",
              "\n",
              "    .dataframe thead th {\n",
              "        text-align: right;\n",
              "    }\n",
              "</style>\n",
              "<table border=\"1\" class=\"dataframe\">\n",
              "  <thead>\n",
              "    <tr style=\"text-align: right;\">\n",
              "      <th></th>\n",
              "      <th>generated</th>\n",
              "      <th>answers</th>\n",
              "      <th>score</th>\n",
              "    </tr>\n",
              "  </thead>\n",
              "  <tbody>\n",
              "    <tr>\n",
              "      <th>0</th>\n",
              "      <td>in the woods</td>\n",
              "      <td>in a barn</td>\n",
              "      <td>0.500000</td>\n",
              "    </tr>\n",
              "    <tr>\n",
              "      <th>1</th>\n",
              "      <td>her mother</td>\n",
              "      <td>with her mommy and 5 sisters</td>\n",
              "      <td>0.250000</td>\n",
              "    </tr>\n",
              "    <tr>\n",
              "      <th>2</th>\n",
              "      <td>yes</td>\n",
              "      <td>Yes</td>\n",
              "      <td>1.000000</td>\n",
              "    </tr>\n",
              "    <tr>\n",
              "      <th>3</th>\n",
              "      <td>yes</td>\n",
              "      <td>Yes</td>\n",
              "      <td>1.000000</td>\n",
              "    </tr>\n",
              "    <tr>\n",
              "      <th>4</th>\n",
              "      <td>yes</td>\n",
              "      <td>yes</td>\n",
              "      <td>1.000000</td>\n",
              "    </tr>\n",
              "    <tr>\n",
              "      <th>5</th>\n",
              "      <td>yes</td>\n",
              "      <td>Yes</td>\n",
              "      <td>1.000000</td>\n",
              "    </tr>\n",
              "    <tr>\n",
              "      <th>6</th>\n",
              "      <td>yes</td>\n",
              "      <td>Yes</td>\n",
              "      <td>1.000000</td>\n",
              "    </tr>\n",
              "    <tr>\n",
              "      <th>7</th>\n",
              "      <td>she's mother</td>\n",
              "      <td>mother</td>\n",
              "      <td>0.666667</td>\n",
              "    </tr>\n",
              "    <tr>\n",
              "      <th>8</th>\n",
              "      <td>yes</td>\n",
              "      <td>Yes</td>\n",
              "      <td>1.000000</td>\n",
              "    </tr>\n",
              "    <tr>\n",
              "      <th>9</th>\n",
              "      <td>yes</td>\n",
              "      <td>Yes</td>\n",
              "      <td>1.000000</td>\n",
              "    </tr>\n",
              "    <tr>\n",
              "      <th>10</th>\n",
              "      <td>yes</td>\n",
              "      <td>Yes.</td>\n",
              "      <td>1.000000</td>\n",
              "    </tr>\n",
              "    <tr>\n",
              "      <th>11</th>\n",
              "      <td>he was an actor</td>\n",
              "      <td>Actor</td>\n",
              "      <td>0.500000</td>\n",
              "    </tr>\n",
              "    <tr>\n",
              "      <th>12</th>\n",
              "      <td>yes</td>\n",
              "      <td>Yes</td>\n",
              "      <td>1.000000</td>\n",
              "    </tr>\n",
              "    <tr>\n",
              "      <th>13</th>\n",
              "      <td>to see the park</td>\n",
              "      <td>go to Quentin's house</td>\n",
              "      <td>0.285714</td>\n",
              "    </tr>\n",
              "    <tr>\n",
              "      <th>14</th>\n",
              "      <td>yes</td>\n",
              "      <td>yes</td>\n",
              "      <td>1.000000</td>\n",
              "    </tr>\n",
              "    <tr>\n",
              "      <th>15</th>\n",
              "      <td>her mother</td>\n",
              "      <td>Quinton's mother</td>\n",
              "      <td>0.500000</td>\n",
              "    </tr>\n",
              "    <tr>\n",
              "      <th>16</th>\n",
              "      <td>new york city</td>\n",
              "      <td>New York City</td>\n",
              "      <td>1.000000</td>\n",
              "    </tr>\n",
              "    <tr>\n",
              "      <th>17</th>\n",
              "      <td>new york city</td>\n",
              "      <td>New York</td>\n",
              "      <td>0.800000</td>\n",
              "    </tr>\n",
              "    <tr>\n",
              "      <th>18</th>\n",
              "      <td>yes</td>\n",
              "      <td>Yes</td>\n",
              "      <td>1.000000</td>\n",
              "    </tr>\n",
              "    <tr>\n",
              "      <th>19</th>\n",
              "      <td>new york city</td>\n",
              "      <td>In the southwest of the city</td>\n",
              "      <td>0.285714</td>\n",
              "    </tr>\n",
              "    <tr>\n",
              "      <th>20</th>\n",
              "      <td>to be a new york city</td>\n",
              "      <td>because the inhabitants feel neglected by the ...</td>\n",
              "      <td>0.166667</td>\n",
              "    </tr>\n",
              "    <tr>\n",
              "      <th>21</th>\n",
              "      <td>in the morning</td>\n",
              "      <td>Five in the morning</td>\n",
              "      <td>0.800000</td>\n",
              "    </tr>\n",
              "    <tr>\n",
              "      <th>22</th>\n",
              "      <td>yes</td>\n",
              "      <td>Yes</td>\n",
              "      <td>1.000000</td>\n",
              "    </tr>\n",
              "    <tr>\n",
              "      <th>23</th>\n",
              "      <td>a flashlight</td>\n",
              "      <td>Flashlight</td>\n",
              "      <td>1.000000</td>\n",
              "    </tr>\n",
              "    <tr>\n",
              "      <th>24</th>\n",
              "      <td>yes</td>\n",
              "      <td>yes</td>\n",
              "      <td>1.000000</td>\n",
              "    </tr>\n",
              "    <tr>\n",
              "      <th>25</th>\n",
              "      <td>yes</td>\n",
              "      <td>Yes</td>\n",
              "      <td>1.000000</td>\n",
              "    </tr>\n",
              "    <tr>\n",
              "      <th>26</th>\n",
              "      <td>he's a good job</td>\n",
              "      <td>It doesn't look good.</td>\n",
              "      <td>0.285714</td>\n",
              "    </tr>\n",
              "    <tr>\n",
              "      <th>27</th>\n",
              "      <td>in the woods</td>\n",
              "      <td>by a big lake by the woods</td>\n",
              "      <td>0.285714</td>\n",
              "    </tr>\n",
              "    <tr>\n",
              "      <th>28</th>\n",
              "      <td>yes</td>\n",
              "      <td>yes</td>\n",
              "      <td>1.000000</td>\n",
              "    </tr>\n",
              "    <tr>\n",
              "      <th>29</th>\n",
              "      <td>he was in a hospital</td>\n",
              "      <td>The hospital had been bombed.</td>\n",
              "      <td>0.250000</td>\n",
              "    </tr>\n",
              "    <tr>\n",
              "      <th>30</th>\n",
              "      <td>yes</td>\n",
              "      <td>Yes</td>\n",
              "      <td>1.000000</td>\n",
              "    </tr>\n",
              "    <tr>\n",
              "      <th>31</th>\n",
              "      <td>he was in a car</td>\n",
              "      <td>Hans settled down in a village fifty miles away.</td>\n",
              "      <td>0.166667</td>\n",
              "    </tr>\n",
              "    <tr>\n",
              "      <th>32</th>\n",
              "      <td>yes</td>\n",
              "      <td>Yes, for twenty years</td>\n",
              "      <td>0.400000</td>\n",
              "    </tr>\n",
              "    <tr>\n",
              "      <th>33</th>\n",
              "      <td>yes</td>\n",
              "      <td>Yes</td>\n",
              "      <td>1.000000</td>\n",
              "    </tr>\n",
              "    <tr>\n",
              "      <th>34</th>\n",
              "      <td>yes</td>\n",
              "      <td>Yes, Franz does.</td>\n",
              "      <td>0.500000</td>\n",
              "    </tr>\n",
              "    <tr>\n",
              "      <th>35</th>\n",
              "      <td>he was a prisoner</td>\n",
              "      <td>He assumed Hans was dead.</td>\n",
              "      <td>0.500000</td>\n",
              "    </tr>\n",
              "    <tr>\n",
              "      <th>36</th>\n",
              "      <td>yes</td>\n",
              "      <td>Yes</td>\n",
              "      <td>1.000000</td>\n",
              "    </tr>\n",
              "    <tr>\n",
              "      <th>37</th>\n",
              "      <td>yes</td>\n",
              "      <td>yes</td>\n",
              "      <td>1.000000</td>\n",
              "    </tr>\n",
              "    <tr>\n",
              "      <th>38</th>\n",
              "      <td>yes</td>\n",
              "      <td>Yes</td>\n",
              "      <td>1.000000</td>\n",
              "    </tr>\n",
              "    <tr>\n",
              "      <th>39</th>\n",
              "      <td>yes</td>\n",
              "      <td>yes</td>\n",
              "      <td>1.000000</td>\n",
              "    </tr>\n",
              "    <tr>\n",
              "      <th>40</th>\n",
              "      <td>yes</td>\n",
              "      <td>Yes</td>\n",
              "      <td>1.000000</td>\n",
              "    </tr>\n",
              "    <tr>\n",
              "      <th>41</th>\n",
              "      <td>yes</td>\n",
              "      <td>yes</td>\n",
              "      <td>1.000000</td>\n",
              "    </tr>\n",
              "    <tr>\n",
              "      <th>42</th>\n",
              "      <td>yes</td>\n",
              "      <td>yes, They went looking for him with no success</td>\n",
              "      <td>0.200000</td>\n",
              "    </tr>\n",
              "    <tr>\n",
              "      <th>43</th>\n",
              "      <td>no</td>\n",
              "      <td>no</td>\n",
              "      <td>1.000000</td>\n",
              "    </tr>\n",
              "    <tr>\n",
              "      <th>44</th>\n",
              "      <td>a dog</td>\n",
              "      <td>A girl and a dog.</td>\n",
              "      <td>0.500000</td>\n",
              "    </tr>\n",
              "    <tr>\n",
              "      <th>45</th>\n",
              "      <td>in the woods</td>\n",
              "      <td>the woods</td>\n",
              "      <td>0.666667</td>\n",
              "    </tr>\n",
              "    <tr>\n",
              "      <th>46</th>\n",
              "      <td>she was a little girl</td>\n",
              "      <td>He was interested</td>\n",
              "      <td>0.285714</td>\n",
              "    </tr>\n",
              "    <tr>\n",
              "      <th>47</th>\n",
              "      <td>no</td>\n",
              "      <td>No</td>\n",
              "      <td>1.000000</td>\n",
              "    </tr>\n",
              "    <tr>\n",
              "      <th>48</th>\n",
              "      <td>he was shot</td>\n",
              "      <td>10-year-old boy fatally shot his father</td>\n",
              "      <td>0.222222</td>\n",
              "    </tr>\n",
              "    <tr>\n",
              "      <th>49</th>\n",
              "      <td>no</td>\n",
              "      <td>no</td>\n",
              "      <td>1.000000</td>\n",
              "    </tr>\n",
              "  </tbody>\n",
              "</table>\n",
              "</div>\n",
              "      <button class=\"colab-df-convert\" onclick=\"convertToInteractive('df-3a4a3c24-70c0-4be5-93bc-f3666ddf1bb3')\"\n",
              "              title=\"Convert this dataframe to an interactive table.\"\n",
              "              style=\"display:none;\">\n",
              "        \n",
              "  <svg xmlns=\"http://www.w3.org/2000/svg\" height=\"24px\"viewBox=\"0 0 24 24\"\n",
              "       width=\"24px\">\n",
              "    <path d=\"M0 0h24v24H0V0z\" fill=\"none\"/>\n",
              "    <path d=\"M18.56 5.44l.94 2.06.94-2.06 2.06-.94-2.06-.94-.94-2.06-.94 2.06-2.06.94zm-11 1L8.5 8.5l.94-2.06 2.06-.94-2.06-.94L8.5 2.5l-.94 2.06-2.06.94zm10 10l.94 2.06.94-2.06 2.06-.94-2.06-.94-.94-2.06-.94 2.06-2.06.94z\"/><path d=\"M17.41 7.96l-1.37-1.37c-.4-.4-.92-.59-1.43-.59-.52 0-1.04.2-1.43.59L10.3 9.45l-7.72 7.72c-.78.78-.78 2.05 0 2.83L4 21.41c.39.39.9.59 1.41.59.51 0 1.02-.2 1.41-.59l7.78-7.78 2.81-2.81c.8-.78.8-2.07 0-2.86zM5.41 20L4 18.59l7.72-7.72 1.47 1.35L5.41 20z\"/>\n",
              "  </svg>\n",
              "      </button>\n",
              "      \n",
              "  <style>\n",
              "    .colab-df-container {\n",
              "      display:flex;\n",
              "      flex-wrap:wrap;\n",
              "      gap: 12px;\n",
              "    }\n",
              "\n",
              "    .colab-df-convert {\n",
              "      background-color: #E8F0FE;\n",
              "      border: none;\n",
              "      border-radius: 50%;\n",
              "      cursor: pointer;\n",
              "      display: none;\n",
              "      fill: #1967D2;\n",
              "      height: 32px;\n",
              "      padding: 0 0 0 0;\n",
              "      width: 32px;\n",
              "    }\n",
              "\n",
              "    .colab-df-convert:hover {\n",
              "      background-color: #E2EBFA;\n",
              "      box-shadow: 0px 1px 2px rgba(60, 64, 67, 0.3), 0px 1px 3px 1px rgba(60, 64, 67, 0.15);\n",
              "      fill: #174EA6;\n",
              "    }\n",
              "\n",
              "    [theme=dark] .colab-df-convert {\n",
              "      background-color: #3B4455;\n",
              "      fill: #D2E3FC;\n",
              "    }\n",
              "\n",
              "    [theme=dark] .colab-df-convert:hover {\n",
              "      background-color: #434B5C;\n",
              "      box-shadow: 0px 1px 3px 1px rgba(0, 0, 0, 0.15);\n",
              "      filter: drop-shadow(0px 1px 2px rgba(0, 0, 0, 0.3));\n",
              "      fill: #FFFFFF;\n",
              "    }\n",
              "  </style>\n",
              "\n",
              "      <script>\n",
              "        const buttonEl =\n",
              "          document.querySelector('#df-3a4a3c24-70c0-4be5-93bc-f3666ddf1bb3 button.colab-df-convert');\n",
              "        buttonEl.style.display =\n",
              "          google.colab.kernel.accessAllowed ? 'block' : 'none';\n",
              "\n",
              "        async function convertToInteractive(key) {\n",
              "          const element = document.querySelector('#df-3a4a3c24-70c0-4be5-93bc-f3666ddf1bb3');\n",
              "          const dataTable =\n",
              "            await google.colab.kernel.invokeFunction('convertToInteractive',\n",
              "                                                     [key], {});\n",
              "          if (!dataTable) return;\n",
              "\n",
              "          const docLinkHtml = 'Like what you see? Visit the ' +\n",
              "            '<a target=\"_blank\" href=https://colab.research.google.com/notebooks/data_table.ipynb>data table notebook</a>'\n",
              "            + ' to learn more about interactive tables.';\n",
              "          element.innerHTML = '';\n",
              "          dataTable['output_type'] = 'display_data';\n",
              "          await google.colab.output.renderOutput(dataTable, element);\n",
              "          const docLink = document.createElement('div');\n",
              "          docLink.innerHTML = docLinkHtml;\n",
              "          element.appendChild(docLink);\n",
              "        }\n",
              "      </script>\n",
              "    </div>\n",
              "  </div>\n",
              "  "
            ],
            "text/plain": [
              "                generated                                            answers  \\\n",
              "0            in the woods                                          in a barn   \n",
              "1              her mother                       with her mommy and 5 sisters   \n",
              "2                     yes                                                Yes   \n",
              "3                     yes                                                Yes   \n",
              "4                     yes                                                yes   \n",
              "5                     yes                                                Yes   \n",
              "6                     yes                                                Yes   \n",
              "7            she's mother                                             mother   \n",
              "8                     yes                                                Yes   \n",
              "9                     yes                                                Yes   \n",
              "10                    yes                                               Yes.   \n",
              "11        he was an actor                                              Actor   \n",
              "12                    yes                                                Yes   \n",
              "13        to see the park                              go to Quentin's house   \n",
              "14                    yes                                                yes   \n",
              "15             her mother                                   Quinton's mother   \n",
              "16          new york city                                      New York City   \n",
              "17          new york city                                           New York   \n",
              "18                    yes                                                Yes   \n",
              "19          new york city                       In the southwest of the city   \n",
              "20  to be a new york city  because the inhabitants feel neglected by the ...   \n",
              "21         in the morning                                Five in the morning   \n",
              "22                    yes                                                Yes   \n",
              "23           a flashlight                                         Flashlight   \n",
              "24                    yes                                                yes   \n",
              "25                    yes                                                Yes   \n",
              "26        he's a good job                              It doesn't look good.   \n",
              "27           in the woods                         by a big lake by the woods   \n",
              "28                    yes                                                yes   \n",
              "29   he was in a hospital                      The hospital had been bombed.   \n",
              "30                    yes                                                Yes   \n",
              "31        he was in a car   Hans settled down in a village fifty miles away.   \n",
              "32                    yes                              Yes, for twenty years   \n",
              "33                    yes                                                Yes   \n",
              "34                    yes                                   Yes, Franz does.   \n",
              "35      he was a prisoner                          He assumed Hans was dead.   \n",
              "36                    yes                                                Yes   \n",
              "37                    yes                                                yes   \n",
              "38                    yes                                                Yes   \n",
              "39                    yes                                                yes   \n",
              "40                    yes                                                Yes   \n",
              "41                    yes                                                yes   \n",
              "42                    yes     yes, They went looking for him with no success   \n",
              "43                     no                                                 no   \n",
              "44                  a dog                                  A girl and a dog.   \n",
              "45           in the woods                                          the woods   \n",
              "46  she was a little girl                                  He was interested   \n",
              "47                     no                                                 No   \n",
              "48            he was shot            10-year-old boy fatally shot his father   \n",
              "49                     no                                                 no   \n",
              "\n",
              "       score  \n",
              "0   0.500000  \n",
              "1   0.250000  \n",
              "2   1.000000  \n",
              "3   1.000000  \n",
              "4   1.000000  \n",
              "5   1.000000  \n",
              "6   1.000000  \n",
              "7   0.666667  \n",
              "8   1.000000  \n",
              "9   1.000000  \n",
              "10  1.000000  \n",
              "11  0.500000  \n",
              "12  1.000000  \n",
              "13  0.285714  \n",
              "14  1.000000  \n",
              "15  0.500000  \n",
              "16  1.000000  \n",
              "17  0.800000  \n",
              "18  1.000000  \n",
              "19  0.285714  \n",
              "20  0.166667  \n",
              "21  0.800000  \n",
              "22  1.000000  \n",
              "23  1.000000  \n",
              "24  1.000000  \n",
              "25  1.000000  \n",
              "26  0.285714  \n",
              "27  0.285714  \n",
              "28  1.000000  \n",
              "29  0.250000  \n",
              "30  1.000000  \n",
              "31  0.166667  \n",
              "32  0.400000  \n",
              "33  1.000000  \n",
              "34  0.500000  \n",
              "35  0.500000  \n",
              "36  1.000000  \n",
              "37  1.000000  \n",
              "38  1.000000  \n",
              "39  1.000000  \n",
              "40  1.000000  \n",
              "41  1.000000  \n",
              "42  0.200000  \n",
              "43  1.000000  \n",
              "44  0.500000  \n",
              "45  0.666667  \n",
              "46  0.285714  \n",
              "47  1.000000  \n",
              "48  0.222222  \n",
              "49  1.000000  "
            ]
          },
          "execution_count": 133,
          "metadata": {},
          "output_type": "execute_result"
        }
      ],
      "source": [
        "pd.set_option('display.max_rows', None)\n",
        "#correct_answers = df_generated[df_generated['score'] != 0].reset_index(drop=True).sort_values('score',ascending=False)\n",
        "correct_answers = df_generated[df_generated['score'] != 0].reset_index(drop=True)\n",
        "correct_answers.head(50)"
      ]
    },
    {
      "cell_type": "code",
      "execution_count": null,
      "metadata": {
        "execution": {
          "iopub.execute_input": "2023-01-11T21:12:57.472741Z",
          "iopub.status.busy": "2023-01-11T21:12:57.472387Z",
          "iopub.status.idle": "2023-01-11T21:12:58.492012Z",
          "shell.execute_reply": "2023-01-11T21:12:58.491002Z",
          "shell.execute_reply.started": "2023-01-11T21:12:57.472708Z"
        },
        "id": "haD4VPaceQOH",
        "trusted": true
      },
      "outputs": [],
      "source": [
        "# del tokenizer, input_values, input_ids, input_attention_mask, model, l, x, correct\n",
        "del tokenizer, model, df_generated, correct_answers\n",
        "\n",
        "free_some_memory()"
      ]
    },
    {
      "cell_type": "markdown",
      "metadata": {
        "id": "JmviMChy1mPq"
      },
      "source": [
        "## Conclusions"
      ]
    },
    {
      "cell_type": "code",
      "execution_count": null,
      "metadata": {
        "id": "jDn-h3WL1mPq",
        "trusted": true
      },
      "outputs": [],
      "source": [
        "# TODO"
      ]
    }
  ],
  "metadata": {
    "accelerator": "GPU",
    "colab": {
      "provenance": []
    },
    "gpuClass": "standard",
    "kernelspec": {
      "display_name": "tf",
      "language": "python",
      "name": "python3"
    },
    "language_info": {
      "codemirror_mode": {
        "name": "ipython",
        "version": 3
      },
      "file_extension": ".py",
      "mimetype": "text/x-python",
      "name": "python",
      "nbconvert_exporter": "python",
      "pygments_lexer": "ipython3",
      "version": "3.9.13 (main, Aug 25 2022, 23:26:10) \n[GCC 11.2.0]"
    },
    "vscode": {
      "interpreter": {
        "hash": "e405b0a43b05ed5b511dac57849ab560497f023fc2f8f0bfd2781bf41b5f416c"
      }
    },
    "widgets": {
      "application/vnd.jupyter.widget-state+json": {
        "0037f6673b254c9b8e53a660d5962175": {
          "model_module": "@jupyter-widgets/controls",
          "model_module_version": "1.5.0",
          "model_name": "HTMLModel",
          "state": {
            "_dom_classes": [],
            "_model_module": "@jupyter-widgets/controls",
            "_model_module_version": "1.5.0",
            "_model_name": "HTMLModel",
            "_view_count": null,
            "_view_module": "@jupyter-widgets/controls",
            "_view_module_version": "1.5.0",
            "_view_name": "HTMLView",
            "description": "",
            "description_tooltip": null,
            "layout": "IPY_MODEL_501bc0f3366042889278717115652d00",
            "placeholder": "​",
            "style": "IPY_MODEL_9e0689f32342494c807801a18467b2ac",
            "value": " 285/285 [00:00&lt;00:00, 12.5kB/s]"
          }
        },
        "00729dafd1f44c95a0795c57b45d8150": {
          "model_module": "@jupyter-widgets/controls",
          "model_module_version": "1.5.0",
          "model_name": "HTMLModel",
          "state": {
            "_dom_classes": [],
            "_model_module": "@jupyter-widgets/controls",
            "_model_module_version": "1.5.0",
            "_model_name": "HTMLModel",
            "_view_count": null,
            "_view_module": "@jupyter-widgets/controls",
            "_view_module_version": "1.5.0",
            "_view_name": "HTMLView",
            "description": "",
            "description_tooltip": null,
            "layout": "IPY_MODEL_ca4e77f2102a4e1bb4e02e8eb6d3d176",
            "placeholder": "​",
            "style": "IPY_MODEL_4bb11bfb7210462889cfcf917d06cf74",
            "value": " 232k/232k [00:00&lt;00:00, 1.72MB/s]"
          }
        },
        "07f85023d3c448f4bb11beca8ed9480d": {
          "model_module": "@jupyter-widgets/base",
          "model_module_version": "1.2.0",
          "model_name": "LayoutModel",
          "state": {
            "_model_module": "@jupyter-widgets/base",
            "_model_module_version": "1.2.0",
            "_model_name": "LayoutModel",
            "_view_count": null,
            "_view_module": "@jupyter-widgets/base",
            "_view_module_version": "1.2.0",
            "_view_name": "LayoutView",
            "align_content": null,
            "align_items": null,
            "align_self": null,
            "border": null,
            "bottom": null,
            "display": null,
            "flex": null,
            "flex_flow": null,
            "grid_area": null,
            "grid_auto_columns": null,
            "grid_auto_flow": null,
            "grid_auto_rows": null,
            "grid_column": null,
            "grid_gap": null,
            "grid_row": null,
            "grid_template_areas": null,
            "grid_template_columns": null,
            "grid_template_rows": null,
            "height": null,
            "justify_content": null,
            "justify_items": null,
            "left": null,
            "margin": null,
            "max_height": null,
            "max_width": null,
            "min_height": null,
            "min_width": null,
            "object_fit": null,
            "object_position": null,
            "order": null,
            "overflow": null,
            "overflow_x": null,
            "overflow_y": null,
            "padding": null,
            "right": null,
            "top": null,
            "visibility": null,
            "width": null
          }
        },
        "08c384c57a484294ae39b591f1fb5439": {
          "model_module": "@jupyter-widgets/controls",
          "model_module_version": "1.5.0",
          "model_name": "HTMLModel",
          "state": {
            "_dom_classes": [],
            "_model_module": "@jupyter-widgets/controls",
            "_model_module_version": "1.5.0",
            "_model_name": "HTMLModel",
            "_view_count": null,
            "_view_module": "@jupyter-widgets/controls",
            "_view_module_version": "1.5.0",
            "_view_name": "HTMLView",
            "description": "",
            "description_tooltip": null,
            "layout": "IPY_MODEL_07f85023d3c448f4bb11beca8ed9480d",
            "placeholder": "​",
            "style": "IPY_MODEL_74ad4f0f639c41568d84c9071824369b",
            "value": "Downloading: 100%"
          }
        },
        "139d74ce80764036aaef1322256f80e6": {
          "model_module": "@jupyter-widgets/base",
          "model_module_version": "1.2.0",
          "model_name": "LayoutModel",
          "state": {
            "_model_module": "@jupyter-widgets/base",
            "_model_module_version": "1.2.0",
            "_model_name": "LayoutModel",
            "_view_count": null,
            "_view_module": "@jupyter-widgets/base",
            "_view_module_version": "1.2.0",
            "_view_name": "LayoutView",
            "align_content": null,
            "align_items": null,
            "align_self": null,
            "border": null,
            "bottom": null,
            "display": null,
            "flex": null,
            "flex_flow": null,
            "grid_area": null,
            "grid_auto_columns": null,
            "grid_auto_flow": null,
            "grid_auto_rows": null,
            "grid_column": null,
            "grid_gap": null,
            "grid_row": null,
            "grid_template_areas": null,
            "grid_template_columns": null,
            "grid_template_rows": null,
            "height": null,
            "justify_content": null,
            "justify_items": null,
            "left": null,
            "margin": null,
            "max_height": null,
            "max_width": null,
            "min_height": null,
            "min_width": null,
            "object_fit": null,
            "object_position": null,
            "order": null,
            "overflow": null,
            "overflow_x": null,
            "overflow_y": null,
            "padding": null,
            "right": null,
            "top": null,
            "visibility": null,
            "width": null
          }
        },
        "30123460c8034ca8b0b1aa91aec58fab": {
          "model_module": "@jupyter-widgets/controls",
          "model_module_version": "1.5.0",
          "model_name": "FloatProgressModel",
          "state": {
            "_dom_classes": [],
            "_model_module": "@jupyter-widgets/controls",
            "_model_module_version": "1.5.0",
            "_model_name": "FloatProgressModel",
            "_view_count": null,
            "_view_module": "@jupyter-widgets/controls",
            "_view_module_version": "1.5.0",
            "_view_name": "ProgressView",
            "bar_style": "success",
            "description": "",
            "description_tooltip": null,
            "layout": "IPY_MODEL_b5266b3ec6e245b6bd90be81771d21ed",
            "max": 17756393,
            "min": 0,
            "orientation": "horizontal",
            "style": "IPY_MODEL_6c67bfd74e0d4640a06cbcdee03e2c80",
            "value": 17756393
          }
        },
        "32b3353776254580a5e353bb3706eb24": {
          "model_module": "@jupyter-widgets/base",
          "model_module_version": "1.2.0",
          "model_name": "LayoutModel",
          "state": {
            "_model_module": "@jupyter-widgets/base",
            "_model_module_version": "1.2.0",
            "_model_name": "LayoutModel",
            "_view_count": null,
            "_view_module": "@jupyter-widgets/base",
            "_view_module_version": "1.2.0",
            "_view_name": "LayoutView",
            "align_content": null,
            "align_items": null,
            "align_self": null,
            "border": null,
            "bottom": null,
            "display": null,
            "flex": null,
            "flex_flow": null,
            "grid_area": null,
            "grid_auto_columns": null,
            "grid_auto_flow": null,
            "grid_auto_rows": null,
            "grid_column": null,
            "grid_gap": null,
            "grid_row": null,
            "grid_template_areas": null,
            "grid_template_columns": null,
            "grid_template_rows": null,
            "height": null,
            "justify_content": null,
            "justify_items": null,
            "left": null,
            "margin": null,
            "max_height": null,
            "max_width": null,
            "min_height": null,
            "min_width": null,
            "object_fit": null,
            "object_position": null,
            "order": null,
            "overflow": null,
            "overflow_x": null,
            "overflow_y": null,
            "padding": null,
            "right": null,
            "top": null,
            "visibility": null,
            "width": null
          }
        },
        "40d7705bba4741f382288085bed568ad": {
          "model_module": "@jupyter-widgets/controls",
          "model_module_version": "1.5.0",
          "model_name": "FloatProgressModel",
          "state": {
            "_dom_classes": [],
            "_model_module": "@jupyter-widgets/controls",
            "_model_module_version": "1.5.0",
            "_model_name": "FloatProgressModel",
            "_view_count": null,
            "_view_module": "@jupyter-widgets/controls",
            "_view_module_version": "1.5.0",
            "_view_name": "ProgressView",
            "bar_style": "success",
            "description": "",
            "description_tooltip": null,
            "layout": "IPY_MODEL_32b3353776254580a5e353bb3706eb24",
            "max": 231508,
            "min": 0,
            "orientation": "horizontal",
            "style": "IPY_MODEL_a46e6ef21e984af19adc5d71378bf2f1",
            "value": 231508
          }
        },
        "4184fee899524dbebd854a36c4eb60cf": {
          "model_module": "@jupyter-widgets/base",
          "model_module_version": "1.2.0",
          "model_name": "LayoutModel",
          "state": {
            "_model_module": "@jupyter-widgets/base",
            "_model_module_version": "1.2.0",
            "_model_name": "LayoutModel",
            "_view_count": null,
            "_view_module": "@jupyter-widgets/base",
            "_view_module_version": "1.2.0",
            "_view_name": "LayoutView",
            "align_content": null,
            "align_items": null,
            "align_self": null,
            "border": null,
            "bottom": null,
            "display": null,
            "flex": null,
            "flex_flow": null,
            "grid_area": null,
            "grid_auto_columns": null,
            "grid_auto_flow": null,
            "grid_auto_rows": null,
            "grid_column": null,
            "grid_gap": null,
            "grid_row": null,
            "grid_template_areas": null,
            "grid_template_columns": null,
            "grid_template_rows": null,
            "height": null,
            "justify_content": null,
            "justify_items": null,
            "left": null,
            "margin": null,
            "max_height": null,
            "max_width": null,
            "min_height": null,
            "min_width": null,
            "object_fit": null,
            "object_position": null,
            "order": null,
            "overflow": null,
            "overflow_x": null,
            "overflow_y": null,
            "padding": null,
            "right": null,
            "top": null,
            "visibility": null,
            "width": null
          }
        },
        "4aacf80c3d1044c0a540f7d72133f3e2": {
          "model_module": "@jupyter-widgets/controls",
          "model_module_version": "1.5.0",
          "model_name": "FloatProgressModel",
          "state": {
            "_dom_classes": [],
            "_model_module": "@jupyter-widgets/controls",
            "_model_module_version": "1.5.0",
            "_model_name": "FloatProgressModel",
            "_view_count": null,
            "_view_module": "@jupyter-widgets/controls",
            "_view_module_version": "1.5.0",
            "_view_name": "ProgressView",
            "bar_style": "success",
            "description": "",
            "description_tooltip": null,
            "layout": "IPY_MODEL_139d74ce80764036aaef1322256f80e6",
            "max": 285,
            "min": 0,
            "orientation": "horizontal",
            "style": "IPY_MODEL_4f9aaf8a1ed44618b7b31ea392976840",
            "value": 285
          }
        },
        "4bb11bfb7210462889cfcf917d06cf74": {
          "model_module": "@jupyter-widgets/controls",
          "model_module_version": "1.5.0",
          "model_name": "DescriptionStyleModel",
          "state": {
            "_model_module": "@jupyter-widgets/controls",
            "_model_module_version": "1.5.0",
            "_model_name": "DescriptionStyleModel",
            "_view_count": null,
            "_view_module": "@jupyter-widgets/base",
            "_view_module_version": "1.2.0",
            "_view_name": "StyleView",
            "description_width": ""
          }
        },
        "4f9aaf8a1ed44618b7b31ea392976840": {
          "model_module": "@jupyter-widgets/controls",
          "model_module_version": "1.5.0",
          "model_name": "ProgressStyleModel",
          "state": {
            "_model_module": "@jupyter-widgets/controls",
            "_model_module_version": "1.5.0",
            "_model_name": "ProgressStyleModel",
            "_view_count": null,
            "_view_module": "@jupyter-widgets/base",
            "_view_module_version": "1.2.0",
            "_view_name": "StyleView",
            "bar_color": null,
            "description_width": ""
          }
        },
        "501bc0f3366042889278717115652d00": {
          "model_module": "@jupyter-widgets/base",
          "model_module_version": "1.2.0",
          "model_name": "LayoutModel",
          "state": {
            "_model_module": "@jupyter-widgets/base",
            "_model_module_version": "1.2.0",
            "_model_name": "LayoutModel",
            "_view_count": null,
            "_view_module": "@jupyter-widgets/base",
            "_view_module_version": "1.2.0",
            "_view_name": "LayoutView",
            "align_content": null,
            "align_items": null,
            "align_self": null,
            "border": null,
            "bottom": null,
            "display": null,
            "flex": null,
            "flex_flow": null,
            "grid_area": null,
            "grid_auto_columns": null,
            "grid_auto_flow": null,
            "grid_auto_rows": null,
            "grid_column": null,
            "grid_gap": null,
            "grid_row": null,
            "grid_template_areas": null,
            "grid_template_columns": null,
            "grid_template_rows": null,
            "height": null,
            "justify_content": null,
            "justify_items": null,
            "left": null,
            "margin": null,
            "max_height": null,
            "max_width": null,
            "min_height": null,
            "min_width": null,
            "object_fit": null,
            "object_position": null,
            "order": null,
            "overflow": null,
            "overflow_x": null,
            "overflow_y": null,
            "padding": null,
            "right": null,
            "top": null,
            "visibility": null,
            "width": null
          }
        },
        "55e515563b844cc6a74428392bb15ad9": {
          "model_module": "@jupyter-widgets/base",
          "model_module_version": "1.2.0",
          "model_name": "LayoutModel",
          "state": {
            "_model_module": "@jupyter-widgets/base",
            "_model_module_version": "1.2.0",
            "_model_name": "LayoutModel",
            "_view_count": null,
            "_view_module": "@jupyter-widgets/base",
            "_view_module_version": "1.2.0",
            "_view_name": "LayoutView",
            "align_content": null,
            "align_items": null,
            "align_self": null,
            "border": null,
            "bottom": null,
            "display": null,
            "flex": null,
            "flex_flow": null,
            "grid_area": null,
            "grid_auto_columns": null,
            "grid_auto_flow": null,
            "grid_auto_rows": null,
            "grid_column": null,
            "grid_gap": null,
            "grid_row": null,
            "grid_template_areas": null,
            "grid_template_columns": null,
            "grid_template_rows": null,
            "height": null,
            "justify_content": null,
            "justify_items": null,
            "left": null,
            "margin": null,
            "max_height": null,
            "max_width": null,
            "min_height": null,
            "min_width": null,
            "object_fit": null,
            "object_position": null,
            "order": null,
            "overflow": null,
            "overflow_x": null,
            "overflow_y": null,
            "padding": null,
            "right": null,
            "top": null,
            "visibility": null,
            "width": null
          }
        },
        "575e2e7237ed4dca9a16ca555063bc1f": {
          "model_module": "@jupyter-widgets/controls",
          "model_module_version": "1.5.0",
          "model_name": "HTMLModel",
          "state": {
            "_dom_classes": [],
            "_model_module": "@jupyter-widgets/controls",
            "_model_module_version": "1.5.0",
            "_model_name": "HTMLModel",
            "_view_count": null,
            "_view_module": "@jupyter-widgets/controls",
            "_view_module_version": "1.5.0",
            "_view_name": "HTMLView",
            "description": "",
            "description_tooltip": null,
            "layout": "IPY_MODEL_f6103953957f471695d04b22c2ba3ff9",
            "placeholder": "​",
            "style": "IPY_MODEL_7c07ad211a3047629cada0eb3e22612c",
            "value": "Downloading: 100%"
          }
        },
        "656f661af70a4ef1a62e8f7c34249787": {
          "model_module": "@jupyter-widgets/base",
          "model_module_version": "1.2.0",
          "model_name": "LayoutModel",
          "state": {
            "_model_module": "@jupyter-widgets/base",
            "_model_module_version": "1.2.0",
            "_model_name": "LayoutModel",
            "_view_count": null,
            "_view_module": "@jupyter-widgets/base",
            "_view_module_version": "1.2.0",
            "_view_name": "LayoutView",
            "align_content": null,
            "align_items": null,
            "align_self": null,
            "border": null,
            "bottom": null,
            "display": null,
            "flex": null,
            "flex_flow": null,
            "grid_area": null,
            "grid_auto_columns": null,
            "grid_auto_flow": null,
            "grid_auto_rows": null,
            "grid_column": null,
            "grid_gap": null,
            "grid_row": null,
            "grid_template_areas": null,
            "grid_template_columns": null,
            "grid_template_rows": null,
            "height": null,
            "justify_content": null,
            "justify_items": null,
            "left": null,
            "margin": null,
            "max_height": null,
            "max_width": null,
            "min_height": null,
            "min_width": null,
            "object_fit": null,
            "object_position": null,
            "order": null,
            "overflow": null,
            "overflow_x": null,
            "overflow_y": null,
            "padding": null,
            "right": null,
            "top": null,
            "visibility": null,
            "width": null
          }
        },
        "68f64a29c7cf46ed827e9ed14c79284a": {
          "model_module": "@jupyter-widgets/controls",
          "model_module_version": "1.5.0",
          "model_name": "DescriptionStyleModel",
          "state": {
            "_model_module": "@jupyter-widgets/controls",
            "_model_module_version": "1.5.0",
            "_model_name": "DescriptionStyleModel",
            "_view_count": null,
            "_view_module": "@jupyter-widgets/base",
            "_view_module_version": "1.2.0",
            "_view_name": "StyleView",
            "description_width": ""
          }
        },
        "6c67bfd74e0d4640a06cbcdee03e2c80": {
          "model_module": "@jupyter-widgets/controls",
          "model_module_version": "1.5.0",
          "model_name": "ProgressStyleModel",
          "state": {
            "_model_module": "@jupyter-widgets/controls",
            "_model_module_version": "1.5.0",
            "_model_name": "ProgressStyleModel",
            "_view_count": null,
            "_view_module": "@jupyter-widgets/base",
            "_view_module_version": "1.2.0",
            "_view_name": "StyleView",
            "bar_color": null,
            "description_width": ""
          }
        },
        "74ad4f0f639c41568d84c9071824369b": {
          "model_module": "@jupyter-widgets/controls",
          "model_module_version": "1.5.0",
          "model_name": "DescriptionStyleModel",
          "state": {
            "_model_module": "@jupyter-widgets/controls",
            "_model_module_version": "1.5.0",
            "_model_name": "DescriptionStyleModel",
            "_view_count": null,
            "_view_module": "@jupyter-widgets/base",
            "_view_module_version": "1.2.0",
            "_view_name": "StyleView",
            "description_width": ""
          }
        },
        "7c07ad211a3047629cada0eb3e22612c": {
          "model_module": "@jupyter-widgets/controls",
          "model_module_version": "1.5.0",
          "model_name": "DescriptionStyleModel",
          "state": {
            "_model_module": "@jupyter-widgets/controls",
            "_model_module_version": "1.5.0",
            "_model_name": "DescriptionStyleModel",
            "_view_count": null,
            "_view_module": "@jupyter-widgets/base",
            "_view_module_version": "1.2.0",
            "_view_name": "StyleView",
            "description_width": ""
          }
        },
        "7d06c2bbae9f4bd68a5d8aba6b09b2ec": {
          "model_module": "@jupyter-widgets/controls",
          "model_module_version": "1.5.0",
          "model_name": "HBoxModel",
          "state": {
            "_dom_classes": [],
            "_model_module": "@jupyter-widgets/controls",
            "_model_module_version": "1.5.0",
            "_model_name": "HBoxModel",
            "_view_count": null,
            "_view_module": "@jupyter-widgets/controls",
            "_view_module_version": "1.5.0",
            "_view_name": "HBoxView",
            "box_style": "",
            "children": [
              "IPY_MODEL_08c384c57a484294ae39b591f1fb5439",
              "IPY_MODEL_40d7705bba4741f382288085bed568ad",
              "IPY_MODEL_00729dafd1f44c95a0795c57b45d8150"
            ],
            "layout": "IPY_MODEL_55e515563b844cc6a74428392bb15ad9"
          }
        },
        "9b73c8b63bcd441eb2aa81f5768f4765": {
          "model_module": "@jupyter-widgets/controls",
          "model_module_version": "1.5.0",
          "model_name": "HTMLModel",
          "state": {
            "_dom_classes": [],
            "_model_module": "@jupyter-widgets/controls",
            "_model_module_version": "1.5.0",
            "_model_name": "HTMLModel",
            "_view_count": null,
            "_view_module": "@jupyter-widgets/controls",
            "_view_module_version": "1.5.0",
            "_view_name": "HTMLView",
            "description": "",
            "description_tooltip": null,
            "layout": "IPY_MODEL_4184fee899524dbebd854a36c4eb60cf",
            "placeholder": "​",
            "style": "IPY_MODEL_eb5f637f6b88487ebf45b1b22d9d9b05",
            "value": " 17.8M/17.8M [00:00&lt;00:00, 61.8MB/s]"
          }
        },
        "9e0689f32342494c807801a18467b2ac": {
          "model_module": "@jupyter-widgets/controls",
          "model_module_version": "1.5.0",
          "model_name": "DescriptionStyleModel",
          "state": {
            "_model_module": "@jupyter-widgets/controls",
            "_model_module_version": "1.5.0",
            "_model_name": "DescriptionStyleModel",
            "_view_count": null,
            "_view_module": "@jupyter-widgets/base",
            "_view_module_version": "1.2.0",
            "_view_name": "StyleView",
            "description_width": ""
          }
        },
        "a46e6ef21e984af19adc5d71378bf2f1": {
          "model_module": "@jupyter-widgets/controls",
          "model_module_version": "1.5.0",
          "model_name": "ProgressStyleModel",
          "state": {
            "_model_module": "@jupyter-widgets/controls",
            "_model_module_version": "1.5.0",
            "_model_name": "ProgressStyleModel",
            "_view_count": null,
            "_view_module": "@jupyter-widgets/base",
            "_view_module_version": "1.2.0",
            "_view_name": "StyleView",
            "bar_color": null,
            "description_width": ""
          }
        },
        "b5266b3ec6e245b6bd90be81771d21ed": {
          "model_module": "@jupyter-widgets/base",
          "model_module_version": "1.2.0",
          "model_name": "LayoutModel",
          "state": {
            "_model_module": "@jupyter-widgets/base",
            "_model_module_version": "1.2.0",
            "_model_name": "LayoutModel",
            "_view_count": null,
            "_view_module": "@jupyter-widgets/base",
            "_view_module_version": "1.2.0",
            "_view_name": "LayoutView",
            "align_content": null,
            "align_items": null,
            "align_self": null,
            "border": null,
            "bottom": null,
            "display": null,
            "flex": null,
            "flex_flow": null,
            "grid_area": null,
            "grid_auto_columns": null,
            "grid_auto_flow": null,
            "grid_auto_rows": null,
            "grid_column": null,
            "grid_gap": null,
            "grid_row": null,
            "grid_template_areas": null,
            "grid_template_columns": null,
            "grid_template_rows": null,
            "height": null,
            "justify_content": null,
            "justify_items": null,
            "left": null,
            "margin": null,
            "max_height": null,
            "max_width": null,
            "min_height": null,
            "min_width": null,
            "object_fit": null,
            "object_position": null,
            "order": null,
            "overflow": null,
            "overflow_x": null,
            "overflow_y": null,
            "padding": null,
            "right": null,
            "top": null,
            "visibility": null,
            "width": null
          }
        },
        "c5022213f45746bb9541254a4b8048e1": {
          "model_module": "@jupyter-widgets/controls",
          "model_module_version": "1.5.0",
          "model_name": "HTMLModel",
          "state": {
            "_dom_classes": [],
            "_model_module": "@jupyter-widgets/controls",
            "_model_module_version": "1.5.0",
            "_model_name": "HTMLModel",
            "_view_count": null,
            "_view_module": "@jupyter-widgets/controls",
            "_view_module_version": "1.5.0",
            "_view_name": "HTMLView",
            "description": "",
            "description_tooltip": null,
            "layout": "IPY_MODEL_d2580527610348ceac30f5f7a00a1e4e",
            "placeholder": "​",
            "style": "IPY_MODEL_68f64a29c7cf46ed827e9ed14c79284a",
            "value": "Downloading: 100%"
          }
        },
        "ca4e77f2102a4e1bb4e02e8eb6d3d176": {
          "model_module": "@jupyter-widgets/base",
          "model_module_version": "1.2.0",
          "model_name": "LayoutModel",
          "state": {
            "_model_module": "@jupyter-widgets/base",
            "_model_module_version": "1.2.0",
            "_model_name": "LayoutModel",
            "_view_count": null,
            "_view_module": "@jupyter-widgets/base",
            "_view_module_version": "1.2.0",
            "_view_name": "LayoutView",
            "align_content": null,
            "align_items": null,
            "align_self": null,
            "border": null,
            "bottom": null,
            "display": null,
            "flex": null,
            "flex_flow": null,
            "grid_area": null,
            "grid_auto_columns": null,
            "grid_auto_flow": null,
            "grid_auto_rows": null,
            "grid_column": null,
            "grid_gap": null,
            "grid_row": null,
            "grid_template_areas": null,
            "grid_template_columns": null,
            "grid_template_rows": null,
            "height": null,
            "justify_content": null,
            "justify_items": null,
            "left": null,
            "margin": null,
            "max_height": null,
            "max_width": null,
            "min_height": null,
            "min_width": null,
            "object_fit": null,
            "object_position": null,
            "order": null,
            "overflow": null,
            "overflow_x": null,
            "overflow_y": null,
            "padding": null,
            "right": null,
            "top": null,
            "visibility": null,
            "width": null
          }
        },
        "ca4f2082e21842d5a61d1f96c5990c48": {
          "model_module": "@jupyter-widgets/base",
          "model_module_version": "1.2.0",
          "model_name": "LayoutModel",
          "state": {
            "_model_module": "@jupyter-widgets/base",
            "_model_module_version": "1.2.0",
            "_model_name": "LayoutModel",
            "_view_count": null,
            "_view_module": "@jupyter-widgets/base",
            "_view_module_version": "1.2.0",
            "_view_name": "LayoutView",
            "align_content": null,
            "align_items": null,
            "align_self": null,
            "border": null,
            "bottom": null,
            "display": null,
            "flex": null,
            "flex_flow": null,
            "grid_area": null,
            "grid_auto_columns": null,
            "grid_auto_flow": null,
            "grid_auto_rows": null,
            "grid_column": null,
            "grid_gap": null,
            "grid_row": null,
            "grid_template_areas": null,
            "grid_template_columns": null,
            "grid_template_rows": null,
            "height": null,
            "justify_content": null,
            "justify_items": null,
            "left": null,
            "margin": null,
            "max_height": null,
            "max_width": null,
            "min_height": null,
            "min_width": null,
            "object_fit": null,
            "object_position": null,
            "order": null,
            "overflow": null,
            "overflow_x": null,
            "overflow_y": null,
            "padding": null,
            "right": null,
            "top": null,
            "visibility": null,
            "width": null
          }
        },
        "d2580527610348ceac30f5f7a00a1e4e": {
          "model_module": "@jupyter-widgets/base",
          "model_module_version": "1.2.0",
          "model_name": "LayoutModel",
          "state": {
            "_model_module": "@jupyter-widgets/base",
            "_model_module_version": "1.2.0",
            "_model_name": "LayoutModel",
            "_view_count": null,
            "_view_module": "@jupyter-widgets/base",
            "_view_module_version": "1.2.0",
            "_view_name": "LayoutView",
            "align_content": null,
            "align_items": null,
            "align_self": null,
            "border": null,
            "bottom": null,
            "display": null,
            "flex": null,
            "flex_flow": null,
            "grid_area": null,
            "grid_auto_columns": null,
            "grid_auto_flow": null,
            "grid_auto_rows": null,
            "grid_column": null,
            "grid_gap": null,
            "grid_row": null,
            "grid_template_areas": null,
            "grid_template_columns": null,
            "grid_template_rows": null,
            "height": null,
            "justify_content": null,
            "justify_items": null,
            "left": null,
            "margin": null,
            "max_height": null,
            "max_width": null,
            "min_height": null,
            "min_width": null,
            "object_fit": null,
            "object_position": null,
            "order": null,
            "overflow": null,
            "overflow_x": null,
            "overflow_y": null,
            "padding": null,
            "right": null,
            "top": null,
            "visibility": null,
            "width": null
          }
        },
        "e8fe3d5682b743c2beb622a5fcd2dd21": {
          "model_module": "@jupyter-widgets/controls",
          "model_module_version": "1.5.0",
          "model_name": "HBoxModel",
          "state": {
            "_dom_classes": [],
            "_model_module": "@jupyter-widgets/controls",
            "_model_module_version": "1.5.0",
            "_model_name": "HBoxModel",
            "_view_count": null,
            "_view_module": "@jupyter-widgets/controls",
            "_view_module_version": "1.5.0",
            "_view_name": "HBoxView",
            "box_style": "",
            "children": [
              "IPY_MODEL_c5022213f45746bb9541254a4b8048e1",
              "IPY_MODEL_4aacf80c3d1044c0a540f7d72133f3e2",
              "IPY_MODEL_0037f6673b254c9b8e53a660d5962175"
            ],
            "layout": "IPY_MODEL_656f661af70a4ef1a62e8f7c34249787"
          }
        },
        "eb5f637f6b88487ebf45b1b22d9d9b05": {
          "model_module": "@jupyter-widgets/controls",
          "model_module_version": "1.5.0",
          "model_name": "DescriptionStyleModel",
          "state": {
            "_model_module": "@jupyter-widgets/controls",
            "_model_module_version": "1.5.0",
            "_model_name": "DescriptionStyleModel",
            "_view_count": null,
            "_view_module": "@jupyter-widgets/base",
            "_view_module_version": "1.2.0",
            "_view_name": "StyleView",
            "description_width": ""
          }
        },
        "f6103953957f471695d04b22c2ba3ff9": {
          "model_module": "@jupyter-widgets/base",
          "model_module_version": "1.2.0",
          "model_name": "LayoutModel",
          "state": {
            "_model_module": "@jupyter-widgets/base",
            "_model_module_version": "1.2.0",
            "_model_name": "LayoutModel",
            "_view_count": null,
            "_view_module": "@jupyter-widgets/base",
            "_view_module_version": "1.2.0",
            "_view_name": "LayoutView",
            "align_content": null,
            "align_items": null,
            "align_self": null,
            "border": null,
            "bottom": null,
            "display": null,
            "flex": null,
            "flex_flow": null,
            "grid_area": null,
            "grid_auto_columns": null,
            "grid_auto_flow": null,
            "grid_auto_rows": null,
            "grid_column": null,
            "grid_gap": null,
            "grid_row": null,
            "grid_template_areas": null,
            "grid_template_columns": null,
            "grid_template_rows": null,
            "height": null,
            "justify_content": null,
            "justify_items": null,
            "left": null,
            "margin": null,
            "max_height": null,
            "max_width": null,
            "min_height": null,
            "min_width": null,
            "object_fit": null,
            "object_position": null,
            "order": null,
            "overflow": null,
            "overflow_x": null,
            "overflow_y": null,
            "padding": null,
            "right": null,
            "top": null,
            "visibility": null,
            "width": null
          }
        },
        "fe603cf63d204d02a52765b86e386726": {
          "model_module": "@jupyter-widgets/controls",
          "model_module_version": "1.5.0",
          "model_name": "HBoxModel",
          "state": {
            "_dom_classes": [],
            "_model_module": "@jupyter-widgets/controls",
            "_model_module_version": "1.5.0",
            "_model_name": "HBoxModel",
            "_view_count": null,
            "_view_module": "@jupyter-widgets/controls",
            "_view_module_version": "1.5.0",
            "_view_name": "HBoxView",
            "box_style": "",
            "children": [
              "IPY_MODEL_575e2e7237ed4dca9a16ca555063bc1f",
              "IPY_MODEL_30123460c8034ca8b0b1aa91aec58fab",
              "IPY_MODEL_9b73c8b63bcd441eb2aa81f5768f4765"
            ],
            "layout": "IPY_MODEL_ca4f2082e21842d5a61d1f96c5990c48"
          }
        }
      }
    }
  },
  "nbformat": 4,
  "nbformat_minor": 0
}
