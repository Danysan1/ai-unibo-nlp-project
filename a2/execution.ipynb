{
  "cells": [
    {
      "cell_type": "markdown",
      "metadata": {
        "id": "1QWFYP-74_MS"
      },
      "source": [
        "[![Open In Colab](https://colab.research.google.com/assets/colab-badge.svg)](https://colab.research.google.com/github/Danysan1/ai-unibo-nlp-project/blob/main/a2/execution.ipynb)\n",
        "[![Kaggle](https://kaggle.com/static/images/open-in-kaggle.svg)](https://kaggle.com/kernels/welcome?src=https://github.com/Danysan1/ai-unibo-nlp-project/blob/main/a2/execution.ipynb)"
      ]
    },
    {
      "cell_type": "markdown",
      "metadata": {
        "id": "qtlMx4kv1mPK"
      },
      "source": [
        "# Assignment 2 execution"
      ]
    },
    {
      "cell_type": "code",
      "execution_count": 1,
      "metadata": {
        "colab": {
          "base_uri": "https://localhost:8080/"
        },
        "execution": {
          "iopub.execute_input": "2023-01-19T17:58:39.907601Z",
          "iopub.status.busy": "2023-01-19T17:58:39.906750Z",
          "iopub.status.idle": "2023-01-19T17:58:58.630356Z",
          "shell.execute_reply": "2023-01-19T17:58:58.629081Z",
          "shell.execute_reply.started": "2023-01-19T17:58:39.907491Z"
        },
        "id": "feevAAsT1mPL",
        "outputId": "f9bf2db7-116a-46b1-feb1-3d6355c040b8",
        "trusted": true
      },
      "outputs": [
        {
          "name": "stdout",
          "output_type": "stream",
          "text": [
            "Requirement already satisfied: pandas in /opt/anaconda3/envs/nlp/lib/python3.7/site-packages (1.3.5)\n",
            "Requirement already satisfied: numpy in /opt/anaconda3/envs/nlp/lib/python3.7/site-packages (1.21.5)\n",
            "Requirement already satisfied: matplotlib in /opt/anaconda3/envs/nlp/lib/python3.7/site-packages (3.5.3)\n",
            "Requirement already satisfied: transformers==4.25.1 in /opt/anaconda3/envs/nlp/lib/python3.7/site-packages (4.25.1)\n",
            "Requirement already satisfied: dataset in /opt/anaconda3/envs/nlp/lib/python3.7/site-packages (1.5.2)\n",
            "Requirement already satisfied: pyyaml>=5.1 in /opt/anaconda3/envs/nlp/lib/python3.7/site-packages (from transformers==4.25.1) (6.0)\n",
            "Requirement already satisfied: packaging>=20.0 in /opt/anaconda3/envs/nlp/lib/python3.7/site-packages (from transformers==4.25.1) (22.0)\n",
            "Requirement already satisfied: tqdm>=4.27 in /opt/anaconda3/envs/nlp/lib/python3.7/site-packages (from transformers==4.25.1) (4.64.1)\n",
            "Requirement already satisfied: requests in /opt/anaconda3/envs/nlp/lib/python3.7/site-packages (from transformers==4.25.1) (2.28.1)\n",
            "Requirement already satisfied: regex!=2019.12.17 in /opt/anaconda3/envs/nlp/lib/python3.7/site-packages (from transformers==4.25.1) (2022.7.9)\n",
            "Requirement already satisfied: importlib-metadata in /opt/anaconda3/envs/nlp/lib/python3.7/site-packages (from transformers==4.25.1) (4.11.3)\n",
            "Requirement already satisfied: huggingface-hub<1.0,>=0.10.0 in /opt/anaconda3/envs/nlp/lib/python3.7/site-packages (from transformers==4.25.1) (0.11.1)\n",
            "Requirement already satisfied: tokenizers!=0.11.3,<0.14,>=0.11.1 in /opt/anaconda3/envs/nlp/lib/python3.7/site-packages (from transformers==4.25.1) (0.13.2)\n",
            "Requirement already satisfied: filelock in /opt/anaconda3/envs/nlp/lib/python3.7/site-packages (from transformers==4.25.1) (3.9.0)\n",
            "Requirement already satisfied: python-dateutil>=2.7.3 in /opt/anaconda3/envs/nlp/lib/python3.7/site-packages (from pandas) (2.8.2)\n",
            "Requirement already satisfied: pytz>=2017.3 in /opt/anaconda3/envs/nlp/lib/python3.7/site-packages (from pandas) (2022.7)\n",
            "Requirement already satisfied: kiwisolver>=1.0.1 in /opt/anaconda3/envs/nlp/lib/python3.7/site-packages (from matplotlib) (1.4.4)\n",
            "Requirement already satisfied: pillow>=6.2.0 in /opt/anaconda3/envs/nlp/lib/python3.7/site-packages (from matplotlib) (9.3.0)\n",
            "Requirement already satisfied: fonttools>=4.22.0 in /opt/anaconda3/envs/nlp/lib/python3.7/site-packages (from matplotlib) (4.25.0)\n",
            "Requirement already satisfied: cycler>=0.10 in /opt/anaconda3/envs/nlp/lib/python3.7/site-packages (from matplotlib) (0.11.0)\n",
            "Requirement already satisfied: pyparsing>=2.2.1 in /opt/anaconda3/envs/nlp/lib/python3.7/site-packages (from matplotlib) (3.0.9)\n",
            "Requirement already satisfied: banal>=1.0.1 in /opt/anaconda3/envs/nlp/lib/python3.7/site-packages (from dataset) (1.0.6)\n",
            "Requirement already satisfied: alembic>=0.6.2 in /opt/anaconda3/envs/nlp/lib/python3.7/site-packages (from dataset) (1.9.2)\n",
            "Requirement already satisfied: sqlalchemy>=1.3.2 in /opt/anaconda3/envs/nlp/lib/python3.7/site-packages (from dataset) (1.4.46)\n",
            "Requirement already satisfied: Mako in /opt/anaconda3/envs/nlp/lib/python3.7/site-packages (from alembic>=0.6.2->dataset) (1.2.4)\n",
            "Requirement already satisfied: importlib-resources in /opt/anaconda3/envs/nlp/lib/python3.7/site-packages (from alembic>=0.6.2->dataset) (5.2.0)\n",
            "Requirement already satisfied: typing-extensions>=3.7.4.3 in /opt/anaconda3/envs/nlp/lib/python3.7/site-packages (from huggingface-hub<1.0,>=0.10.0->transformers==4.25.1) (4.4.0)\n",
            "Requirement already satisfied: six>=1.5 in /opt/anaconda3/envs/nlp/lib/python3.7/site-packages (from python-dateutil>=2.7.3->pandas) (1.16.0)\n",
            "Requirement already satisfied: greenlet!=0.4.17 in /opt/anaconda3/envs/nlp/lib/python3.7/site-packages (from sqlalchemy>=1.3.2->dataset) (2.0.1)\n",
            "Requirement already satisfied: zipp>=0.5 in /opt/anaconda3/envs/nlp/lib/python3.7/site-packages (from importlib-metadata->transformers==4.25.1) (3.11.0)\n",
            "Requirement already satisfied: urllib3<1.27,>=1.21.1 in /opt/anaconda3/envs/nlp/lib/python3.7/site-packages (from requests->transformers==4.25.1) (1.26.13)\n",
            "Requirement already satisfied: charset-normalizer<3,>=2 in /opt/anaconda3/envs/nlp/lib/python3.7/site-packages (from requests->transformers==4.25.1) (2.0.4)\n",
            "Requirement already satisfied: certifi>=2017.4.17 in /opt/anaconda3/envs/nlp/lib/python3.7/site-packages (from requests->transformers==4.25.1) (2022.12.7)\n",
            "Requirement already satisfied: idna<4,>=2.5 in /opt/anaconda3/envs/nlp/lib/python3.7/site-packages (from requests->transformers==4.25.1) (3.4)\n",
            "Requirement already satisfied: MarkupSafe>=0.9.2 in /opt/anaconda3/envs/nlp/lib/python3.7/site-packages (from Mako->alembic>=0.6.2->dataset) (2.1.1)\n",
            "Note: you may need to restart the kernel to use updated packages.\n"
          ]
        }
      ],
      "source": [
        "%pip install pandas numpy matplotlib transformers==4.25.1  dataset"
      ]
    },
    {
      "cell_type": "code",
      "execution_count": 2,
      "metadata": {
        "execution": {
          "iopub.execute_input": "2023-01-19T17:58:58.633650Z",
          "iopub.status.busy": "2023-01-19T17:58:58.632928Z",
          "iopub.status.idle": "2023-01-19T17:59:06.614498Z",
          "shell.execute_reply": "2023-01-19T17:59:06.613443Z",
          "shell.execute_reply.started": "2023-01-19T17:58:58.633606Z"
        },
        "id": "VRsmY5Wn1mPV",
        "outputId": "0e0ad7d4-11b5-435e-d94c-7a09052545b2",
        "trusted": true
      },
      "outputs": [
        {
          "name": "stderr",
          "output_type": "stream",
          "text": [
            "2023-02-22 18:22:19.481318: I tensorflow/core/platform/cpu_feature_guard.cc:193] This TensorFlow binary is optimized with oneAPI Deep Neural Network Library (oneDNN) to use the following CPU instructions in performance-critical operations:  AVX2 FMA\n",
            "To enable them in other operations, rebuild TensorFlow with the appropriate compiler flags.\n",
            "2023-02-22 18:22:20.295194: W tensorflow/compiler/xla/stream_executor/platform/default/dso_loader.cc:64] Could not load dynamic library 'libnvinfer.so.7'; dlerror: libnvrtc.so.11.0: cannot open shared object file: No such file or directory; LD_LIBRARY_PATH: /opt/anaconda3/pkgs/cudatoolkit-11.2.2-hbe64b41_10/lib/libcudart.so.11.0\n",
            "2023-02-22 18:22:20.295338: W tensorflow/compiler/xla/stream_executor/platform/default/dso_loader.cc:64] Could not load dynamic library 'libnvinfer_plugin.so.7'; dlerror: libnvrtc.so.11.0: cannot open shared object file: No such file or directory; LD_LIBRARY_PATH: /opt/anaconda3/pkgs/cudatoolkit-11.2.2-hbe64b41_10/lib/libcudart.so.11.0\n",
            "2023-02-22 18:22:20.295344: W tensorflow/compiler/tf2tensorrt/utils/py_utils.cc:38] TF-TRT Warning: Cannot dlopen some TensorRT libraries. If you would like to use Nvidia GPU with TensorRT, please make sure the missing libraries mentioned above are installed properly.\n"
          ]
        }
      ],
      "source": [
        "import numpy as np\n",
        "import pandas as pd\n",
        "import json\n",
        "from os import path\n",
        "from matplotlib import pyplot as plt\n",
        "import random\n",
        "import gc\n",
        "import torch\n",
        "import transformers\n",
        "from tqdm import tqdm\n",
        "from typing import Callable, Dict, List, Tuple\n",
        "from timeit import default_timer as timer\n",
        "from transformers import EncoderDecoderModel, AutoTokenizer, PreTrainedTokenizer, BatchEncoding\n",
        "from torch.utils.data import Dataset, DataLoader"
      ]
    },
    {
      "cell_type": "code",
      "execution_count": 3,
      "metadata": {
        "execution": {
          "iopub.execute_input": "2023-01-19T17:59:06.616486Z",
          "iopub.status.busy": "2023-01-19T17:59:06.616142Z",
          "iopub.status.idle": "2023-01-19T17:59:06.625592Z",
          "shell.execute_reply": "2023-01-19T17:59:06.624645Z",
          "shell.execute_reply.started": "2023-01-19T17:59:06.616451Z"
        },
        "id": "qTNhrB7V4_Ma",
        "trusted": true
      },
      "outputs": [],
      "source": [
        "def fix_seed(seed: int) -> None:\n",
        "    \"\"\"Fix all the possible sources of randomness.\n",
        "\n",
        "    Args:\n",
        "        seed: the seed to use. \n",
        "    \"\"\"\n",
        "    np.random.seed(seed)\n",
        "    random.seed(seed)\n",
        "    torch.manual_seed(seed)\n",
        "    torch.cuda.manual_seed(seed)\n",
        "    \n",
        "    torch.backends.cudnn.benchmark = False\n",
        "    torch.backends.cudnn.deterministic = True"
      ]
    },
    {
      "cell_type": "code",
      "execution_count": 4,
      "metadata": {
        "execution": {
          "iopub.execute_input": "2023-01-19T17:59:06.627616Z",
          "iopub.status.busy": "2023-01-19T17:59:06.627017Z",
          "iopub.status.idle": "2023-01-19T17:59:06.639986Z",
          "shell.execute_reply": "2023-01-19T17:59:06.639119Z",
          "shell.execute_reply.started": "2023-01-19T17:59:06.627566Z"
        },
        "id": "9v096B1-4_Ma",
        "trusted": true
      },
      "outputs": [],
      "source": [
        "# Fix the random state to 42\n",
        "DATA_SPLITTING_RANDOM_SEED = 42\n",
        "fix_seed(DATA_SPLITTING_RANDOM_SEED)"
      ]
    },
    {
      "cell_type": "markdown",
      "metadata": {
        "id": "kJSsWQg_1mPO"
      },
      "source": [
        "## Data loading"
      ]
    },
    {
      "cell_type": "markdown",
      "metadata": {
        "id": "1mXm1Fpq1mPP"
      },
      "source": [
        "### Dataset download"
      ]
    },
    {
      "cell_type": "code",
      "execution_count": 5,
      "metadata": {
        "execution": {
          "iopub.execute_input": "2023-01-19T17:59:06.643678Z",
          "iopub.status.busy": "2023-01-19T17:59:06.643318Z",
          "iopub.status.idle": "2023-01-19T17:59:06.653441Z",
          "shell.execute_reply": "2023-01-19T17:59:06.652593Z",
          "shell.execute_reply.started": "2023-01-19T17:59:06.643646Z"
        },
        "id": "oOqlik_a1mPP",
        "trusted": true
      },
      "outputs": [],
      "source": [
        "import os\n",
        "import urllib.request\n",
        "from tqdm import tqdm\n",
        "\n",
        "class DownloadProgressBar(tqdm):\n",
        "    def update_to(self, b=1, bsize=1, tsize=None):\n",
        "        if tsize is not None:\n",
        "            self.total = tsize\n",
        "        self.update(b * bsize - self.n)\n",
        "        \n",
        "def download_url(url, output_path):\n",
        "    with DownloadProgressBar(unit='B', unit_scale=True,\n",
        "                             miniters=1, desc=url.split('/')[-1]) as t:\n",
        "        urllib.request.urlretrieve(url, filename=output_path, reporthook=t.update_to)\n",
        "\n",
        "def download_data(data_path, url_path, suffix):    \n",
        "    if not os.path.exists(data_path):\n",
        "        os.makedirs(data_path)\n",
        "        \n",
        "    data_path = os.path.join(data_path, f'{suffix}.json')\n",
        "    if not os.path.exists(data_path):\n",
        "        print(f\"Downloading CoQA {suffix} data split... (it may take a while)\")\n",
        "        download_url(url=url_path, output_path=data_path)\n",
        "        print(\"Download completed!\")"
      ]
    },
    {
      "cell_type": "code",
      "execution_count": 6,
      "metadata": {
        "execution": {
          "iopub.execute_input": "2023-01-19T17:59:06.655645Z",
          "iopub.status.busy": "2023-01-19T17:59:06.654954Z",
          "iopub.status.idle": "2023-01-19T17:59:06.662255Z",
          "shell.execute_reply": "2023-01-19T17:59:06.661370Z",
          "shell.execute_reply.started": "2023-01-19T17:59:06.655612Z"
        },
        "id": "sskRUOtB1mPR",
        "trusted": true
      },
      "outputs": [],
      "source": [
        "data_folder = 'Dataset'"
      ]
    },
    {
      "cell_type": "code",
      "execution_count": 7,
      "metadata": {
        "execution": {
          "iopub.execute_input": "2023-01-19T17:59:06.664077Z",
          "iopub.status.busy": "2023-01-19T17:59:06.663635Z",
          "iopub.status.idle": "2023-01-19T17:59:12.429177Z",
          "shell.execute_reply": "2023-01-19T17:59:12.428129Z",
          "shell.execute_reply.started": "2023-01-19T17:59:06.664038Z"
        },
        "id": "CzsJWqI61mPR",
        "trusted": true
      },
      "outputs": [],
      "source": [
        "# Train & Validation data\n",
        "train_url = \"https://nlp.stanford.edu/data/coqa/coqa-train-v1.0.json\"\n",
        "download_data(data_path=data_folder, url_path=train_url, suffix='train')\n",
        "\n",
        "# Test data\n",
        "test_url = \"https://nlp.stanford.edu/data/coqa/coqa-dev-v1.0.json\"\n",
        "download_data(data_path=data_folder, url_path=test_url, suffix='test')"
      ]
    },
    {
      "cell_type": "markdown",
      "metadata": {
        "id": "GsM9znVV1mPT"
      },
      "source": [
        "### Dataset loading"
      ]
    },
    {
      "cell_type": "code",
      "execution_count": 8,
      "metadata": {
        "execution": {
          "iopub.execute_input": "2023-01-19T17:59:12.431610Z",
          "iopub.status.busy": "2023-01-19T17:59:12.430906Z",
          "iopub.status.idle": "2023-01-19T17:59:12.443356Z",
          "shell.execute_reply": "2023-01-19T17:59:12.442108Z",
          "shell.execute_reply.started": "2023-01-19T17:59:12.431556Z"
        },
        "id": "lI74kMng1mPW",
        "trusted": true
      },
      "outputs": [],
      "source": [
        "def load_coqa_dataset(filename:str) -> pd.DataFrame:\n",
        "    with open(path.join(data_folder, filename)) as file_obj:\n",
        "        data_arr = json.load(file_obj)[\"data\"]\n",
        "    print(f'{len(data_arr)} stories / {len(data_arr[0][\"questions\"])} questions in the first row')\n",
        "    \n",
        "    # Prepare the Categorical DTypes\n",
        "\n",
        "    storyDType = pd.CategoricalDtype(pd.unique([story[\"story\"] for story in data_arr]))\n",
        "    print(f\"{storyDType.categories.size} distinct stories\")\n",
        "\n",
        "    sourceDType = pd.CategoricalDtype(pd.unique([story[\"source\"] for story in data_arr]))\n",
        "    print(f\"{sourceDType.categories.size} distinct sources: {sourceDType.categories}\")\n",
        "    \n",
        "    # Transform into a numpy matrix (denormalization and categorical factorization)\n",
        "\n",
        "    data_arr = np.array([\n",
        "        [\n",
        "            sourceDType.categories.get_loc(story[\"source\"]), # Sources factorization\n",
        "            storyDType.categories.get_loc(story[\"story\"]), # Sources factorization\n",
        "            story[\"questions\"][question_index][\"input_text\"],\n",
        "            story[\"answers\"][question_index][\"input_text\"],\n",
        "            story[\"answers\"][question_index][\"span_text\"],\n",
        "            #story[\"questions\"][question_index][\"turn_id\"],\n",
        "        ]\n",
        "        for story in data_arr\n",
        "        for question_index in range(len(story[\"questions\"]))\n",
        "        if story[\"answers\"][question_index][\"input_text\"] != 'unknown'\n",
        "    ])\n",
        "    print(f'{data_arr.shape} question-answer pairs x columns')\n",
        "    print(f'First row: {data_arr[0]}')\n",
        "    \n",
        "    # Transform into a DataFrame\n",
        "    \n",
        "    # https://marcobonzanini.com/2021/09/15/tips-for-saving-memory-with-pandas/\n",
        "    # https://pandas.pydata.org/docs/user_guide/categorical.html\n",
        "    return pd.DataFrame({\n",
        "        \"source\": pd.Series(pd.Categorical.from_codes(data_arr[:,0].astype(np.int16), dtype=sourceDType)),\n",
        "        \"p\": pd.Series(pd.Categorical.from_codes(data_arr[:,1].astype(np.int16), dtype=storyDType)),\n",
        "        \"q\": data_arr[:,2],\n",
        "        \"a\": data_arr[:,3],\n",
        "        \"span\": data_arr[:,4],\n",
        "    })"
      ]
    },
    {
      "cell_type": "code",
      "execution_count": 9,
      "metadata": {
        "execution": {
          "iopub.execute_input": "2023-01-19T17:59:12.445307Z",
          "iopub.status.busy": "2023-01-19T17:59:12.444948Z",
          "iopub.status.idle": "2023-01-19T17:59:12.463996Z",
          "shell.execute_reply": "2023-01-19T17:59:12.462970Z",
          "shell.execute_reply.started": "2023-01-19T17:59:12.445274Z"
        },
        "id": "qe5fUSnHu2eY",
        "trusted": true
      },
      "outputs": [],
      "source": [
        "def append_shifted_question_to_coqa_dataset(df:pd.DataFrame, shift:int) -> (pd.DataFrame,int):\n",
        "    if shift <= 0:\n",
        "        raise Exception(\"shift must be greater than zero\")\n",
        "    history_mask = df[\"p\"] == df[\"p\"].shift(shift)\n",
        "    history_series = df[\"history\"].astype(str) + ' ' + df[\"q\"].shift(shift) + ' ' + df[\"a\"].shift(shift) + '.'\n",
        "    df[\"history\"] = np.where(history_mask, history_series, df[\"history\"])\n",
        "    return df, history_mask.sum()"
      ]
    },
    {
      "cell_type": "code",
      "execution_count": 10,
      "metadata": {
        "execution": {
          "iopub.execute_input": "2023-01-19T17:59:12.465947Z",
          "iopub.status.busy": "2023-01-19T17:59:12.465511Z",
          "iopub.status.idle": "2023-01-19T17:59:12.479900Z",
          "shell.execute_reply": "2023-01-19T17:59:12.478797Z",
          "shell.execute_reply.started": "2023-01-19T17:59:12.465912Z"
        },
        "id": "ixnM9gZNu2eY",
        "trusted": true
      },
      "outputs": [],
      "source": [
        "def transform_coqa_dataset_with_history(df:pd.DataFrame, max_history_depth:int) -> pd.DataFrame:\n",
        "    df[\"history\"] = \"\"\n",
        "    for i in range(1, max_history_depth+1):\n",
        "        df, count = append_shifted_question_to_coqa_dataset(df, i)\n",
        "        #print(i, count)\n",
        "        if(count == 0):\n",
        "            break;\n",
        "    return df"
      ]
    },
    {
      "cell_type": "code",
      "execution_count": 11,
      "metadata": {
        "colab": {
          "base_uri": "https://localhost:8080/"
        },
        "execution": {
          "iopub.execute_input": "2023-01-19T17:59:12.483529Z",
          "iopub.status.busy": "2023-01-19T17:59:12.482457Z",
          "iopub.status.idle": "2023-01-19T17:59:19.181420Z",
          "shell.execute_reply": "2023-01-19T17:59:19.180467Z",
          "shell.execute_reply.started": "2023-01-19T17:59:12.483478Z"
        },
        "id": "jsZrgF5d1mPX",
        "outputId": "0eace9f4-2e30-4f47-f357-f372bda62ccd",
        "trusted": true
      },
      "outputs": [
        {
          "name": "stdout",
          "output_type": "stream",
          "text": [
            "7199 stories / 20 questions in the first row\n",
            "6605 distinct stories\n",
            "5 distinct sources: Index(['wikipedia', 'cnn', 'gutenberg', 'race', 'mctest'], dtype='object')\n",
            "(107276, 5) question-answer pairs x columns\n",
            "First row: ['0' '0' 'When was the Vat formally opened?'\n",
            " 'It was formally established in 1475' 'Formally established in 1475']\n"
          ]
        },
        {
          "data": {
            "text/plain": [
              "source     107276\n",
              "p          107276\n",
              "q          107276\n",
              "a          107276\n",
              "span       107276\n",
              "history    107276\n",
              "dtype: int64"
            ]
          },
          "execution_count": 11,
          "metadata": {},
          "output_type": "execute_result"
        }
      ],
      "source": [
        "train_df = transform_coqa_dataset_with_history(load_coqa_dataset(\"train.json\"), 3)\n",
        "train_df.count()"
      ]
    },
    {
      "cell_type": "code",
      "execution_count": 12,
      "metadata": {
        "colab": {
          "base_uri": "https://localhost:8080/"
        },
        "execution": {
          "iopub.execute_input": "2023-01-19T17:59:19.183253Z",
          "iopub.status.busy": "2023-01-19T17:59:19.182833Z",
          "iopub.status.idle": "2023-01-19T17:59:19.197459Z",
          "shell.execute_reply": "2023-01-19T17:59:19.196521Z",
          "shell.execute_reply.started": "2023-01-19T17:59:19.183217Z"
        },
        "id": "lOQSe3Sc1mPY",
        "outputId": "8cf89e2f-f371-4e83-b12f-4eace0714500",
        "trusted": true
      },
      "outputs": [
        {
          "data": {
            "text/plain": [
              "6605"
            ]
          },
          "execution_count": 12,
          "metadata": {},
          "output_type": "execute_result"
        }
      ],
      "source": [
        "pd.unique(train_df[\"p\"]).size"
      ]
    },
    {
      "cell_type": "code",
      "execution_count": 13,
      "metadata": {
        "colab": {
          "base_uri": "https://localhost:8080/"
        },
        "execution": {
          "iopub.execute_input": "2023-01-19T17:59:19.199777Z",
          "iopub.status.busy": "2023-01-19T17:59:19.198908Z",
          "iopub.status.idle": "2023-01-19T17:59:19.231476Z",
          "shell.execute_reply": "2023-01-19T17:59:19.230452Z",
          "shell.execute_reply.started": "2023-01-19T17:59:19.199742Z"
        },
        "id": "WJaLGY_p1mPZ",
        "outputId": "d2e42854-e82a-4776-a3ef-ebd7fbd056e3",
        "trusted": true
      },
      "outputs": [
        {
          "data": {
            "text/plain": [
              "99470"
            ]
          },
          "execution_count": 13,
          "metadata": {},
          "output_type": "execute_result"
        }
      ],
      "source": [
        "pd.unique(train_df[\"span\"]).size"
      ]
    },
    {
      "cell_type": "code",
      "execution_count": 14,
      "metadata": {
        "colab": {
          "base_uri": "https://localhost:8080/"
        },
        "execution": {
          "iopub.execute_input": "2023-01-19T17:59:19.236756Z",
          "iopub.status.busy": "2023-01-19T17:59:19.236476Z",
          "iopub.status.idle": "2023-01-19T17:59:19.244874Z",
          "shell.execute_reply": "2023-01-19T17:59:19.243861Z",
          "shell.execute_reply.started": "2023-01-19T17:59:19.236731Z"
        },
        "id": "V_ml0A1b1mPZ",
        "outputId": "15d42c39-7531-4a1e-8def-7725ae461d04",
        "trusted": true
      },
      "outputs": [
        {
          "data": {
            "text/plain": [
              "5"
            ]
          },
          "execution_count": 14,
          "metadata": {},
          "output_type": "execute_result"
        }
      ],
      "source": [
        "pd.unique(train_df[\"source\"]).size"
      ]
    },
    {
      "cell_type": "code",
      "execution_count": 15,
      "metadata": {
        "colab": {
          "base_uri": "https://localhost:8080/",
          "height": 337
        },
        "execution": {
          "iopub.execute_input": "2023-01-19T17:59:19.246952Z",
          "iopub.status.busy": "2023-01-19T17:59:19.246136Z",
          "iopub.status.idle": "2023-01-19T17:59:19.265298Z",
          "shell.execute_reply": "2023-01-19T17:59:19.264465Z",
          "shell.execute_reply.started": "2023-01-19T17:59:19.246916Z"
        },
        "id": "G9VjurfZ1mPZ",
        "outputId": "245d69d7-f93b-4e36-df2a-f5979cafe072",
        "trusted": true
      },
      "outputs": [
        {
          "data": {
            "text/html": [
              "<div>\n",
              "<style scoped>\n",
              "    .dataframe tbody tr th:only-of-type {\n",
              "        vertical-align: middle;\n",
              "    }\n",
              "\n",
              "    .dataframe tbody tr th {\n",
              "        vertical-align: top;\n",
              "    }\n",
              "\n",
              "    .dataframe thead th {\n",
              "        text-align: right;\n",
              "    }\n",
              "</style>\n",
              "<table border=\"1\" class=\"dataframe\">\n",
              "  <thead>\n",
              "    <tr style=\"text-align: right;\">\n",
              "      <th></th>\n",
              "      <th>source</th>\n",
              "      <th>p</th>\n",
              "      <th>q</th>\n",
              "      <th>a</th>\n",
              "      <th>span</th>\n",
              "      <th>history</th>\n",
              "    </tr>\n",
              "  </thead>\n",
              "  <tbody>\n",
              "    <tr>\n",
              "      <th>0</th>\n",
              "      <td>wikipedia</td>\n",
              "      <td>The Vatican Apostolic Library (), more commonl...</td>\n",
              "      <td>When was the Vat formally opened?</td>\n",
              "      <td>It was formally established in 1475</td>\n",
              "      <td>Formally established in 1475</td>\n",
              "      <td></td>\n",
              "    </tr>\n",
              "    <tr>\n",
              "      <th>1</th>\n",
              "      <td>wikipedia</td>\n",
              "      <td>The Vatican Apostolic Library (), more commonl...</td>\n",
              "      <td>what is the library for?</td>\n",
              "      <td>research</td>\n",
              "      <td>he Vatican Library is a research library</td>\n",
              "      <td>When was the Vat formally opened? It was form...</td>\n",
              "    </tr>\n",
              "    <tr>\n",
              "      <th>2</th>\n",
              "      <td>wikipedia</td>\n",
              "      <td>The Vatican Apostolic Library (), more commonl...</td>\n",
              "      <td>for what subjects?</td>\n",
              "      <td>history, and law</td>\n",
              "      <td>Vatican Library is a research library for hist...</td>\n",
              "      <td>what is the library for? research. When was t...</td>\n",
              "    </tr>\n",
              "    <tr>\n",
              "      <th>3</th>\n",
              "      <td>wikipedia</td>\n",
              "      <td>The Vatican Apostolic Library (), more commonl...</td>\n",
              "      <td>and?</td>\n",
              "      <td>philosophy, science and theology</td>\n",
              "      <td>Vatican Library is a research library for hist...</td>\n",
              "      <td>for what subjects? history, and law. what is ...</td>\n",
              "    </tr>\n",
              "    <tr>\n",
              "      <th>4</th>\n",
              "      <td>wikipedia</td>\n",
              "      <td>The Vatican Apostolic Library (), more commonl...</td>\n",
              "      <td>what was started in 2014?</td>\n",
              "      <td>a  project</td>\n",
              "      <td>March 2014, the Vatican Library began an initi...</td>\n",
              "      <td>and? philosophy, science and theology. for wh...</td>\n",
              "    </tr>\n",
              "  </tbody>\n",
              "</table>\n",
              "</div>"
            ],
            "text/plain": [
              "      source                                                  p  \\\n",
              "0  wikipedia  The Vatican Apostolic Library (), more commonl...   \n",
              "1  wikipedia  The Vatican Apostolic Library (), more commonl...   \n",
              "2  wikipedia  The Vatican Apostolic Library (), more commonl...   \n",
              "3  wikipedia  The Vatican Apostolic Library (), more commonl...   \n",
              "4  wikipedia  The Vatican Apostolic Library (), more commonl...   \n",
              "\n",
              "                                   q                                    a  \\\n",
              "0  When was the Vat formally opened?  It was formally established in 1475   \n",
              "1           what is the library for?                             research   \n",
              "2                 for what subjects?                     history, and law   \n",
              "3                               and?     philosophy, science and theology   \n",
              "4          what was started in 2014?                           a  project   \n",
              "\n",
              "                                                span  \\\n",
              "0                       Formally established in 1475   \n",
              "1           he Vatican Library is a research library   \n",
              "2  Vatican Library is a research library for hist...   \n",
              "3  Vatican Library is a research library for hist...   \n",
              "4  March 2014, the Vatican Library began an initi...   \n",
              "\n",
              "                                             history  \n",
              "0                                                     \n",
              "1   When was the Vat formally opened? It was form...  \n",
              "2   what is the library for? research. When was t...  \n",
              "3   for what subjects? history, and law. what is ...  \n",
              "4   and? philosophy, science and theology. for wh...  "
            ]
          },
          "execution_count": 15,
          "metadata": {},
          "output_type": "execute_result"
        }
      ],
      "source": [
        "train_df.head()"
      ]
    },
    {
      "cell_type": "code",
      "execution_count": 16,
      "metadata": {
        "colab": {
          "base_uri": "https://localhost:8080/"
        },
        "execution": {
          "iopub.execute_input": "2023-01-19T17:59:19.267344Z",
          "iopub.status.busy": "2023-01-19T17:59:19.266502Z",
          "iopub.status.idle": "2023-01-19T17:59:19.322794Z",
          "shell.execute_reply": "2023-01-19T17:59:19.321768Z",
          "shell.execute_reply.started": "2023-01-19T17:59:19.267310Z"
        },
        "id": "nrRkHhES1mPa",
        "outputId": "fa1dc8d1-f6db-4e61-943c-ae22276c946f",
        "trusted": true
      },
      "outputs": [
        {
          "data": {
            "text/plain": [
              "Index           128\n",
              "source       107764\n",
              "p          14241201\n",
              "q           9110271\n",
              "a           7714559\n",
              "span       12090637\n",
              "history    18873223\n",
              "dtype: int64"
            ]
          },
          "execution_count": 16,
          "metadata": {},
          "output_type": "execute_result"
        }
      ],
      "source": [
        "train_df.memory_usage(deep=True)"
      ]
    },
    {
      "cell_type": "code",
      "execution_count": 17,
      "metadata": {
        "colab": {
          "base_uri": "https://localhost:8080/"
        },
        "execution": {
          "iopub.execute_input": "2023-01-19T17:59:19.324889Z",
          "iopub.status.busy": "2023-01-19T17:59:19.324498Z",
          "iopub.status.idle": "2023-01-19T17:59:19.796295Z",
          "shell.execute_reply": "2023-01-19T17:59:19.795330Z",
          "shell.execute_reply.started": "2023-01-19T17:59:19.324853Z"
        },
        "id": "v5aer1n41mPa",
        "outputId": "6c007ce9-5dd5-48ee-b2fe-20acea895bf2",
        "trusted": true
      },
      "outputs": [
        {
          "name": "stdout",
          "output_type": "stream",
          "text": [
            "500 stories / 12 questions in the first row\n",
            "499 distinct stories\n",
            "5 distinct sources: Index(['mctest', 'race', 'cnn', 'wikipedia', 'gutenberg'], dtype='object')\n",
            "(7917, 5) question-answer pairs x columns\n",
            "First row: ['0' '0' 'What color was Cotton?' 'white'\n",
            " 'a little white kitten named Cotton']\n"
          ]
        },
        {
          "data": {
            "text/plain": [
              "source     7917\n",
              "p          7917\n",
              "q          7917\n",
              "a          7917\n",
              "span       7917\n",
              "history    7917\n",
              "dtype: int64"
            ]
          },
          "execution_count": 17,
          "metadata": {},
          "output_type": "execute_result"
        }
      ],
      "source": [
        "test_df = transform_coqa_dataset_with_history(load_coqa_dataset(\"test.json\"), 3)\n",
        "test_df.count()"
      ]
    },
    {
      "cell_type": "markdown",
      "metadata": {
        "id": "maBslb2n1mPb"
      },
      "source": [
        "## Exploratory Data Analysis"
      ]
    },
    {
      "cell_type": "code",
      "execution_count": 18,
      "metadata": {
        "colab": {
          "base_uri": "https://localhost:8080/",
          "height": 140
        },
        "execution": {
          "iopub.execute_input": "2023-01-19T17:59:19.848441Z",
          "iopub.status.busy": "2023-01-19T17:59:19.848071Z",
          "iopub.status.idle": "2023-01-19T17:59:19.858091Z",
          "shell.execute_reply": "2023-01-19T17:59:19.857049Z",
          "shell.execute_reply.started": "2023-01-19T17:59:19.848408Z"
        },
        "id": "VH5Ep77e1mPb",
        "outputId": "c3c19b0c-c785-4fcc-909c-1812d5657e46",
        "trusted": true
      },
      "outputs": [
        {
          "data": {
            "text/plain": [
              "'CHAPTER VII. THE DAUGHTER OF WITHERSTEEN \\n\\n\"Lassiter, will you be my rider?\" Jane had asked him. \\n\\n\"I reckon so,\" he had replied. \\n\\nFew as the words were, Jane knew how infinitely much they implied. She wanted him to take charge of her cattle and horse and ranges, and save them if that were possible. Yet, though she could not have spoken aloud all she meant, she was perfectly honest with herself. Whatever the price to be paid, she must keep Lassiter close to her; she must shield from him the man who had led Milly Erne to Cottonwoods. In her fear she so controlled her mind that she did not whisper this Mormon\\'s name to her own soul, she did not even think it. Besides, beyond this thing she regarded as a sacred obligation thrust upon her, was the need of a helper, of a friend, of a champion in this critical time. If she could rule this gun-man, as Venters had called him, if she could even keep him from shedding blood, what strategy to play his flame and his presence against the game of oppression her churchmen were waging against her? Never would she forget the effect on Tull and his men when Venters shouted Lassiter\\'s name. If she could not wholly control Lassiter, then what she could do might put off the fatal day. \\n\\nOne of her safe racers was a dark bay, and she called him Bells because of the way he struck his iron shoes on the stones. When Jerd led out this slender, beautifully built horse Lassiter suddenly became all eyes. A rider\\'s love of a thoroughbred shone in them. Round and round Bells he walked, plainly weakening all the time in his determination not to take one of Jane\\'s favorite racers. '"
            ]
          },
          "execution_count": 18,
          "metadata": {},
          "output_type": "execute_result"
        }
      ],
      "source": [
        "train_df[\"p\"][42]"
      ]
    },
    {
      "cell_type": "code",
      "execution_count": 19,
      "metadata": {
        "colab": {
          "base_uri": "https://localhost:8080/",
          "height": 36
        },
        "execution": {
          "iopub.execute_input": "2023-01-19T17:59:19.860166Z",
          "iopub.status.busy": "2023-01-19T17:59:19.859756Z",
          "iopub.status.idle": "2023-01-19T17:59:19.869699Z",
          "shell.execute_reply": "2023-01-19T17:59:19.868644Z",
          "shell.execute_reply.started": "2023-01-19T17:59:19.860129Z"
        },
        "id": "zYcgBVcG1mPc",
        "outputId": "5da5ccf2-c262-4bf2-d8aa-a8f5f0fbf994",
        "trusted": true
      },
      "outputs": [
        {
          "data": {
            "text/plain": [
              "'Was Lassiter impressed with the horse?'"
            ]
          },
          "execution_count": 19,
          "metadata": {},
          "output_type": "execute_result"
        }
      ],
      "source": [
        "train_df[\"q\"][42]"
      ]
    },
    {
      "cell_type": "code",
      "execution_count": 20,
      "metadata": {
        "colab": {
          "base_uri": "https://localhost:8080/",
          "height": 36
        },
        "execution": {
          "iopub.execute_input": "2023-01-19T17:59:19.871704Z",
          "iopub.status.busy": "2023-01-19T17:59:19.871249Z",
          "iopub.status.idle": "2023-01-19T17:59:19.881520Z",
          "shell.execute_reply": "2023-01-19T17:59:19.880491Z",
          "shell.execute_reply.started": "2023-01-19T17:59:19.871670Z"
        },
        "id": "5zvn9Tv01mPc",
        "outputId": "d4187525-28dd-4f2e-df09-585075a44a12",
        "trusted": true
      },
      "outputs": [
        {
          "data": {
            "text/plain": [
              "'Yes'"
            ]
          },
          "execution_count": 20,
          "metadata": {},
          "output_type": "execute_result"
        }
      ],
      "source": [
        "train_df[\"a\"][42]"
      ]
    },
    {
      "cell_type": "code",
      "execution_count": 21,
      "metadata": {
        "colab": {
          "base_uri": "https://localhost:8080/",
          "height": 36
        },
        "execution": {
          "iopub.execute_input": "2023-01-19T17:59:19.883535Z",
          "iopub.status.busy": "2023-01-19T17:59:19.883149Z",
          "iopub.status.idle": "2023-01-19T17:59:19.892818Z",
          "shell.execute_reply": "2023-01-19T17:59:19.891632Z",
          "shell.execute_reply.started": "2023-01-19T17:59:19.883487Z"
        },
        "id": "NokHfoLm1mPc",
        "outputId": "cb2abd5a-fce6-4459-b0e1-a4578c56e5cd",
        "trusted": true
      },
      "outputs": [
        {
          "data": {
            "text/plain": [
              "'When Jerd led out this slender, beautifully built horse Lassiter suddenly became all eyes.'"
            ]
          },
          "execution_count": 21,
          "metadata": {},
          "output_type": "execute_result"
        }
      ],
      "source": [
        "train_df[\"span\"][42]"
      ]
    },
    {
      "cell_type": "code",
      "execution_count": 22,
      "metadata": {
        "colab": {
          "base_uri": "https://localhost:8080/",
          "height": 36
        },
        "execution": {
          "iopub.execute_input": "2023-01-19T17:59:19.894752Z",
          "iopub.status.busy": "2023-01-19T17:59:19.894345Z",
          "iopub.status.idle": "2023-01-19T17:59:19.903331Z",
          "shell.execute_reply": "2023-01-19T17:59:19.902330Z",
          "shell.execute_reply.started": "2023-01-19T17:59:19.894670Z"
        },
        "id": "JskMPh-Y1mPc",
        "outputId": "1504aff2-2e09-4221-e4eb-f0290ee86820",
        "trusted": true
      },
      "outputs": [
        {
          "data": {
            "text/plain": [
              "'gutenberg'"
            ]
          },
          "execution_count": 22,
          "metadata": {},
          "output_type": "execute_result"
        }
      ],
      "source": [
        "train_df[\"source\"][42]"
      ]
    },
    {
      "cell_type": "markdown",
      "metadata": {
        "id": "IhdF4AR7ef05"
      },
      "source": [
        "### Distribution statistics"
      ]
    },
    {
      "cell_type": "markdown",
      "metadata": {
        "id": "ebBVUlveef05"
      },
      "source": [
        "Sources:"
      ]
    },
    {
      "cell_type": "code",
      "execution_count": 23,
      "metadata": {
        "colab": {
          "base_uri": "https://localhost:8080/",
          "height": 282
        },
        "execution": {
          "iopub.execute_input": "2023-01-19T17:59:19.905630Z",
          "iopub.status.busy": "2023-01-19T17:59:19.904926Z",
          "iopub.status.idle": "2023-01-19T17:59:20.174238Z",
          "shell.execute_reply": "2023-01-19T17:59:20.171793Z",
          "shell.execute_reply.started": "2023-01-19T17:59:19.905544Z"
        },
        "id": "8lIuR9RO1mPd",
        "outputId": "e06befaa-a007-4675-9ad6-a6bbc2e08d8e",
        "trusted": true
      },
      "outputs": [
        {
          "data": {
            "text/plain": [
              "<AxesSubplot:>"
            ]
          },
          "execution_count": 23,
          "metadata": {},
          "output_type": "execute_result"
        },
        {
          "data": {
            "image/png": "[encoded data removed]",
            "text/plain": [
              "<Figure size 640x480 with 1 Axes>"
            ]
          },
          "metadata": {},
          "output_type": "display_data"
        }
      ],
      "source": [
        "train_df[\"source\"].hist()"
      ]
    },
    {
      "cell_type": "markdown",
      "metadata": {
        "id": "Ax5uSP6Lef06"
      },
      "source": [
        "Occurrences of 25 most popular stories:"
      ]
    },
    {
      "cell_type": "code",
      "execution_count": 24,
      "metadata": {
        "colab": {
          "base_uri": "https://localhost:8080/",
          "height": 352
        },
        "execution": {
          "iopub.execute_input": "2023-01-19T17:59:20.176038Z",
          "iopub.status.busy": "2023-01-19T17:59:20.175672Z",
          "iopub.status.idle": "2023-01-19T17:59:20.499542Z",
          "shell.execute_reply": "2023-01-19T17:59:20.498508Z",
          "shell.execute_reply.started": "2023-01-19T17:59:20.176001Z"
        },
        "id": "wUgsqg4Uef06",
        "outputId": "975ad4ae-0a24-4e88-cdcd-0ff71ec0de0e",
        "trusted": true
      },
      "outputs": [
        {
          "data": {
            "text/plain": [
              "<AxesSubplot:>"
            ]
          },
          "execution_count": 24,
          "metadata": {},
          "output_type": "execute_result"
        },
        {
          "data": {
            "image/png": "[encoded data removed]",
            "text/plain": [
              "<Figure size 1500x500 with 1 Axes>"
            ]
          },
          "metadata": {},
          "output_type": "display_data"
        }
      ],
      "source": [
        "story_counts = train_df[\"p\"].cat.codes.value_counts(sort=True)\n",
        "story_counts[:25].plot(kind=\"bar\", figsize=(15,5))"
      ]
    },
    {
      "cell_type": "markdown",
      "metadata": {
        "id": "qL-m6SuVef06"
      },
      "source": [
        "Occurrences of 25 least popular stories:"
      ]
    },
    {
      "cell_type": "code",
      "execution_count": 25,
      "metadata": {
        "colab": {
          "base_uri": "https://localhost:8080/",
          "height": 352
        },
        "execution": {
          "iopub.execute_input": "2023-01-19T17:59:20.501402Z",
          "iopub.status.busy": "2023-01-19T17:59:20.501059Z",
          "iopub.status.idle": "2023-01-19T17:59:20.822407Z",
          "shell.execute_reply": "2023-01-19T17:59:20.821500Z",
          "shell.execute_reply.started": "2023-01-19T17:59:20.501366Z"
        },
        "id": "jkiwEygzef06",
        "outputId": "f00768c6-b9d0-4dd3-cd6f-418ab5aa197d",
        "trusted": true
      },
      "outputs": [
        {
          "data": {
            "text/plain": [
              "<AxesSubplot:>"
            ]
          },
          "execution_count": 25,
          "metadata": {},
          "output_type": "execute_result"
        },
        {
          "data": {
            "image/png": "[encoded data removed]",
            "text/plain": [
              "<Figure size 1500x500 with 1 Axes>"
            ]
          },
          "metadata": {},
          "output_type": "display_data"
        }
      ],
      "source": [
        "story_counts[-25:-1].plot(kind=\"bar\", figsize=(15,5))"
      ]
    },
    {
      "cell_type": "markdown",
      "metadata": {
        "id": "9-EVRQQVef06"
      },
      "source": [
        "Histogram of story popularities:"
      ]
    },
    {
      "cell_type": "code",
      "execution_count": 26,
      "metadata": {
        "colab": {
          "base_uri": "https://localhost:8080/",
          "height": 337
        },
        "execution": {
          "iopub.execute_input": "2023-01-19T17:59:20.824428Z",
          "iopub.status.busy": "2023-01-19T17:59:20.824034Z",
          "iopub.status.idle": "2023-01-19T17:59:21.785664Z",
          "shell.execute_reply": "2023-01-19T17:59:21.784623Z",
          "shell.execute_reply.started": "2023-01-19T17:59:20.824388Z"
        },
        "id": "CJLPGCfcef07",
        "outputId": "2f165ba7-9540-4ba5-d02c-18e0f208a0a8",
        "trusted": true
      },
      "outputs": [
        {
          "data": {
            "text/plain": [
              "<AxesSubplot:>"
            ]
          },
          "execution_count": 26,
          "metadata": {},
          "output_type": "execute_result"
        },
        {
          "data": {
            "image/png": "[encoded data removed]",
            "text/plain": [
              "<Figure size 1500x500 with 1 Axes>"
            ]
          },
          "metadata": {},
          "output_type": "display_data"
        }
      ],
      "source": [
        "story_counts.hist(log=True,bins=75,figsize=(15,5))"
      ]
    },
    {
      "cell_type": "markdown",
      "metadata": {
        "id": "XRs7YHKY1mPa"
      },
      "source": [
        "## Data Pre-Processing"
      ]
    },
    {
      "cell_type": "markdown",
      "metadata": {
        "id": "k0GmOXam1mPb"
      },
      "source": [
        "### Check unanswerable questions in the Train Dataset"
      ]
    },
    {
      "cell_type": "code",
      "execution_count": 27,
      "metadata": {
        "colab": {
          "base_uri": "https://localhost:8080/"
        },
        "execution": {
          "iopub.execute_input": "2023-01-19T17:59:19.798595Z",
          "iopub.status.busy": "2023-01-19T17:59:19.798194Z",
          "iopub.status.idle": "2023-01-19T17:59:19.836603Z",
          "shell.execute_reply": "2023-01-19T17:59:19.835560Z",
          "shell.execute_reply.started": "2023-01-19T17:59:19.798545Z"
        },
        "id": "6Aq524zd1mPb",
        "outputId": "3ba772d8-d3aa-4f22-be5a-41d6d8f28ce9",
        "trusted": true
      },
      "outputs": [
        {
          "data": {
            "text/plain": [
              "0"
            ]
          },
          "execution_count": 27,
          "metadata": {},
          "output_type": "execute_result"
        }
      ],
      "source": [
        "idx = (train_df.a == 'unknown')\n",
        "unanswerable = train_df[idx]\n",
        "unanswerable.q.count()"
      ]
    },
    {
      "cell_type": "markdown",
      "metadata": {
        "id": "lTdjLFYI1mPb"
      },
      "source": [
        "All unanswerable questions in the Train Dataset have been already removed."
      ]
    },
    {
      "cell_type": "markdown",
      "metadata": {
        "id": "CvuDNquieQN3"
      },
      "source": [
        "### Removing rows with outlier story/question/answer/span lengths to save memory"
      ]
    },
    {
      "cell_type": "code",
      "execution_count": 28,
      "metadata": {
        "colab": {
          "base_uri": "https://localhost:8080/"
        },
        "execution": {
          "iopub.execute_input": "2023-01-19T17:59:21.787960Z",
          "iopub.status.busy": "2023-01-19T17:59:21.787030Z",
          "iopub.status.idle": "2023-01-19T17:59:21.820168Z",
          "shell.execute_reply": "2023-01-19T17:59:21.819171Z",
          "shell.execute_reply.started": "2023-01-19T17:59:21.787919Z"
        },
        "id": "fF88Qa2DeQN2",
        "outputId": "2539a61b-76d3-4bb0-eae0-eddab59d5a97",
        "trusted": true
      },
      "outputs": [
        {
          "data": {
            "text/plain": [
              "source     107276\n",
              "p          107276\n",
              "q          107276\n",
              "a          107276\n",
              "span       107276\n",
              "history    107276\n",
              "dtype: int64"
            ]
          },
          "execution_count": 28,
          "metadata": {},
          "output_type": "execute_result"
        }
      ],
      "source": [
        "train_df.count()"
      ]
    },
    {
      "cell_type": "code",
      "execution_count": 29,
      "metadata": {
        "id": "SqpkCBS4Qyjw"
      },
      "outputs": [],
      "source": [
        "REMOVE_OUTLIERS = False\n",
        "def remove_outliers(train_df:pd.DataFrame)->pd.DataFrame:\n",
        "    #remove stories\n",
        "    story_lengths = train_df[\"p\"].str.len()\n",
        "    #logarithmic histogram\n",
        "    #story_lengths.hist(log=True,bins=75,figsize=(15,5))\n",
        "    p_length_limit = story_lengths.quantile(0.999)\n",
        "    p_length_mask = story_lengths < p_length_limit\n",
        "    train_df = train_df[p_length_mask]\n",
        "   \n",
        "    #remove questions,answers, spans\n",
        "    question_lengths = train_df[\"q\"].str.len()\n",
        "    #question_lengths.hist(log=True,bins=75,figsize=(15,5))\n",
        "    q_length_limit = question_lengths.quantile(0.999)\n",
        "    answer_lengths = train_df[\"a\"].str.len()\n",
        "    #answer_lengths.hist(log=True,bins=75,figsize=(15,5))\n",
        "    a_length_limit = answer_lengths.quantile(0.999)\n",
        "    span_lengths = train_df[\"span\"].str.len()\n",
        "    #span_lengths.hist(log=True,bins=75,figsize=(15,5))\n",
        "    span_length_limit = span_lengths.quantile(0.999)\n",
        "    \n",
        "    bad_length_mask = (question_lengths > q_length_limit) | (answer_lengths > a_length_limit) | (span_lengths > span_length_limit)\n",
        "    excluded_stories = train_df[\"p\"][bad_length_mask].unique()\n",
        "    excluded_mask = ~train_df[\"p\"].isin(excluded_stories)\n",
        "    train_df = train_df[excluded_mask]\n",
        "    return train_df"
      ]
    },
    {
      "cell_type": "code",
      "execution_count": 30,
      "metadata": {
        "id": "lghvY5m7Q7hW",
        "outputId": "041bef8f-379f-48ab-b680-674461b81f1d"
      },
      "outputs": [
        {
          "data": {
            "text/plain": [
              "source     107276\n",
              "p          107276\n",
              "q          107276\n",
              "a          107276\n",
              "span       107276\n",
              "history    107276\n",
              "dtype: int64"
            ]
          },
          "execution_count": 30,
          "metadata": {},
          "output_type": "execute_result"
        }
      ],
      "source": [
        "if REMOVE_OUTLIERS:\n",
        "    train_df = remove_outliers(train_df)\n",
        "train_df.count() "
      ]
    },
    {
      "cell_type": "markdown",
      "metadata": {
        "id": "qvh_5HfKRr8G"
      },
      "source": [
        "### Preprocessing"
      ]
    },
    {
      "cell_type": "markdown",
      "metadata": {
        "id": "bonwHOWg15lc"
      },
      "source": [
        "The function below transforms all the text in the dataframe into lower case."
      ]
    },
    {
      "cell_type": "code",
      "execution_count": 31,
      "metadata": {
        "execution": {
          "iopub.execute_input": "2023-01-19T17:59:19.838795Z",
          "iopub.status.busy": "2023-01-19T17:59:19.838363Z",
          "iopub.status.idle": "2023-01-19T17:59:19.846442Z",
          "shell.execute_reply": "2023-01-19T17:59:19.845626Z",
          "shell.execute_reply.started": "2023-01-19T17:59:19.838755Z"
        },
        "id": "mtnjZFJM2GXe",
        "trusted": true
      },
      "outputs": [],
      "source": [
        "def preprocess(df:pd.DataFrame) -> pd.DataFrame:\n",
        "  df = df.applymap(lambda s: s.lower() if type(s) == str else s)\n",
        "  return df"
      ]
    },
    {
      "cell_type": "markdown",
      "metadata": {
        "id": "mm2QCJbR1mPd"
      },
      "source": [
        "## Train-Validation(-Test) split"
      ]
    },
    {
      "cell_type": "code",
      "execution_count": 32,
      "metadata": {
        "execution": {
          "iopub.execute_input": "2023-01-19T17:59:24.593974Z",
          "iopub.status.busy": "2023-01-19T17:59:24.593611Z",
          "iopub.status.idle": "2023-01-19T17:59:24.612935Z",
          "shell.execute_reply": "2023-01-19T17:59:24.612058Z",
          "shell.execute_reply.started": "2023-01-19T17:59:24.593939Z"
        },
        "id": "c4GiqoqneQN6",
        "trusted": true
      },
      "outputs": [],
      "source": [
        "train_df = train_df.reset_index(drop=True)\n",
        "total_rows = len(train_df)\n",
        "ideal_split_index = int(total_rows * 0.2)"
      ]
    },
    {
      "cell_type": "code",
      "execution_count": 33,
      "metadata": {
        "execution": {
          "iopub.execute_input": "2023-01-19T17:59:24.616444Z",
          "iopub.status.busy": "2023-01-19T17:59:24.615502Z",
          "iopub.status.idle": "2023-01-19T17:59:24.672953Z",
          "shell.execute_reply": "2023-01-19T17:59:24.671911Z",
          "shell.execute_reply.started": "2023-01-19T17:59:24.616407Z"
        },
        "id": "2qhj2oICyQKL",
        "trusted": true
      },
      "outputs": [],
      "source": [
        "ENABLE_DATASET_SHUFFLING = True\n",
        "def train_val_split(df:pd.DataFrame)->Tuple[pd.DataFrame, pd.DataFrame]:\n",
        "  if ENABLE_DATASET_SHUFFLING:\n",
        "    all_stories = df[\"p\"].drop_duplicates()\n",
        "    val_stories = all_stories.sample(frac=0.2, random_state=DATA_SPLITTING_RANDOM_SEED) # random sample\n",
        "    val_mask = df[\"p\"].isin(val_stories)\n",
        "    val_question_count = val_mask.sum()\n",
        "    train_question_count = (~val_mask).sum()\n",
        "    val_story_count = val_stories.count()\n",
        "    train_story_count = all_stories.count() - val_story_count\n",
        "    print(f\"\"\"\n",
        "        Splitting validation dataset from train dataset with random sampling\n",
        "        Stories: {train_story_count} vs {val_story_count}\n",
        "        Questions: {train_question_count} vs {val_question_count} (ideal split: {ideal_split_index})\n",
        "    \"\"\")\n",
        "    #val_df = df[val_mask].sample(frac=1, random_state=DATA_SPLITTING_RANDOM_SEED) # Selection + Random shuffling\n",
        "    #train_df = df[~val_mask].sample(frac=1, random_state=DATA_SPLITTING_RANDOM_SEED) # Selection + Random shuffling\n",
        "    val_df = df[val_mask] # Selection \n",
        "    train_df = df[~val_mask] # Selection\n",
        "  else:\n",
        "    print(\"Splitting validation dataset from train dataset without random sampling\")\n",
        "    before_split_mask = pd.Series(np.linspace(0, total_rows, total_rows)) < ideal_split_index\n",
        "    split_story_mask = df[\"p\"] == df[\"p\"][ideal_split_index - 1]\n",
        "    val_mask = before_split_mask | split_story_mask\n",
        "    val_df = df[val_mask]\n",
        "    train_df = df[~val_mask]\n",
        "  return train_df, val_df"
      ]
    },
    {
      "cell_type": "code",
      "execution_count": 34,
      "metadata": {
        "colab": {
          "base_uri": "https://localhost:8080/"
        },
        "id": "Dh8hOakq10pX",
        "outputId": "c40fa675-0409-4769-a1ac-8210cc7b7612"
      },
      "outputs": [
        {
          "name": "stdout",
          "output_type": "stream",
          "text": [
            "\n",
            "        Splitting validation dataset from train dataset with random sampling\n",
            "        Stories: 5284 vs 1321\n",
            "        Questions: 85826 vs 21450 (ideal split: 21455)\n",
            "    \n"
          ]
        }
      ],
      "source": [
        "train_df, val_df = train_val_split(train_df)"
      ]
    },
    {
      "cell_type": "code",
      "execution_count": 35,
      "metadata": {
        "execution": {
          "iopub.execute_input": "2023-01-19T17:59:24.675060Z",
          "iopub.status.busy": "2023-01-19T17:59:24.674688Z",
          "iopub.status.idle": "2023-01-19T17:59:24.681897Z",
          "shell.execute_reply": "2023-01-19T17:59:24.680638Z",
          "shell.execute_reply.started": "2023-01-19T17:59:24.675023Z"
        },
        "id": "LdAVma1HH03W",
        "trusted": true
      },
      "outputs": [],
      "source": [
        "ALTERNATIVE_SPLIT = False\n",
        "if ALTERNATIVE_SPLIT:\n",
        "  from sklearn.model_selection import train_test_split\n",
        "  stories = list(train_df['p'].unique())\n",
        "  print(f'Total n° of stories: {len(stories)}')\n",
        "  train_stories, val_stories = train_test_split(stories, test_size=0.2, random_state=42)\n",
        "  val_df = train_df[train_df['p'].isin(val_stories)]\n",
        "  train_df = train_df[train_df['p'].isin(train_stories)]\n",
        "  len(train_stories), len(val_stories)"
      ]
    },
    {
      "cell_type": "code",
      "execution_count": 36,
      "metadata": {
        "execution": {
          "iopub.execute_input": "2023-01-19T17:59:24.685270Z",
          "iopub.status.busy": "2023-01-19T17:59:24.683258Z",
          "iopub.status.idle": "2023-01-19T17:59:24.706041Z",
          "shell.execute_reply": "2023-01-19T17:59:24.705053Z",
          "shell.execute_reply.started": "2023-01-19T17:59:24.685232Z"
        },
        "id": "edVqMQWc0iNI",
        "trusted": true
      },
      "outputs": [],
      "source": [
        "#reset index\n",
        "train_df = train_df.reset_index(drop=True)\n",
        "val_df = val_df.reset_index(drop=True)"
      ]
    },
    {
      "cell_type": "code",
      "execution_count": 37,
      "metadata": {
        "colab": {
          "base_uri": "https://localhost:8080/"
        },
        "execution": {
          "iopub.execute_input": "2023-01-19T17:59:24.708019Z",
          "iopub.status.busy": "2023-01-19T17:59:24.707441Z",
          "iopub.status.idle": "2023-01-19T17:59:24.715347Z",
          "shell.execute_reply": "2023-01-19T17:59:24.714340Z",
          "shell.execute_reply.started": "2023-01-19T17:59:24.707982Z"
        },
        "id": "aoWZVRDyeQN8",
        "outputId": "b5b7b15b-0d19-4c3f-ddcb-3aafaaa2f2c9",
        "trusted": true
      },
      "outputs": [
        {
          "name": "stdout",
          "output_type": "stream",
          "text": [
            "Training set shape: (85826, 6)\n",
            "Validation set shape: (21450, 6)\n",
            "Test set shape: (7917, 6)\n"
          ]
        }
      ],
      "source": [
        "print(f'Training set shape: {train_df.shape}\\nValidation set shape: {val_df.shape}\\nTest set shape: {test_df.shape}')"
      ]
    },
    {
      "cell_type": "code",
      "execution_count": 38,
      "metadata": {
        "execution": {
          "iopub.execute_input": "2023-01-19T17:59:24.717913Z",
          "iopub.status.busy": "2023-01-19T17:59:24.716823Z",
          "iopub.status.idle": "2023-01-19T17:59:25.383751Z",
          "shell.execute_reply": "2023-01-19T17:59:25.382710Z",
          "shell.execute_reply.started": "2023-01-19T17:59:24.717875Z"
        },
        "id": "2UlmnnRP3JAq",
        "trusted": true
      },
      "outputs": [],
      "source": [
        "#convert to lower case\n",
        "train_df = preprocess(train_df)\n",
        "val_df = preprocess(val_df)\n",
        "test_df = preprocess(test_df)"
      ]
    },
    {
      "cell_type": "markdown",
      "metadata": {
        "id": "6wuh0_ic1mPd"
      },
      "source": [
        "## Utilities"
      ]
    },
    {
      "cell_type": "code",
      "execution_count": 39,
      "metadata": {
        "execution": {
          "iopub.execute_input": "2023-01-19T17:59:25.385657Z",
          "iopub.status.busy": "2023-01-19T17:59:25.385296Z",
          "iopub.status.idle": "2023-01-19T17:59:25.391497Z",
          "shell.execute_reply": "2023-01-19T17:59:25.390516Z",
          "shell.execute_reply.started": "2023-01-19T17:59:25.385619Z"
        },
        "id": "cQfcofYQeQN9",
        "trusted": true
      },
      "outputs": [],
      "source": [
        "def free_some_memory():\n",
        "    torch.cuda.empty_cache()\n",
        "    torch.cuda.reset_accumulated_memory_stats()\n",
        "    gc.collect()"
      ]
    },
    {
      "cell_type": "markdown",
      "metadata": {
        "id": "_Ax1wIOh4_M2"
      },
      "source": [
        "#### Save and load results"
      ]
    },
    {
      "cell_type": "code",
      "execution_count": 40,
      "metadata": {
        "execution": {
          "iopub.execute_input": "2023-01-19T17:59:25.394235Z",
          "iopub.status.busy": "2023-01-19T17:59:25.393525Z",
          "iopub.status.idle": "2023-01-19T17:59:25.404877Z",
          "shell.execute_reply": "2023-01-19T17:59:25.403762Z",
          "shell.execute_reply.started": "2023-01-19T17:59:25.394201Z"
        },
        "id": "LLIimUyScd66",
        "trusted": true
      },
      "outputs": [],
      "source": [
        "import json\n",
        "\n",
        "results_folder = \"results\"\n",
        "if not os.path.exists(results_folder):\n",
        "    os.makedirs(results_folder)\n",
        "\n",
        "def results_to_json(test_df, \n",
        "                    generated_df, \n",
        "                    model_name,\n",
        "                    seed,\n",
        "                    history):\n",
        "    '''\n",
        "    Given the test dataframe, the dataframe resulting from generated_answers, and the name of the model, writes on a file (JSON format) the concatenation of the two DataFrames.\n",
        "\n",
        "    Args:\n",
        "        test_df: DataFrame already given as input for generation purposes\n",
        "        generated_df: Output DataFrame of the method generate_answers()\n",
        "        model_name: name of the model, it will define the path for the JSON file\n",
        "        seed: the used seed\n",
        "        history: history flag\n",
        "    '''\n",
        "    \n",
        "    # drop answers column to avoid duplicate columns\n",
        "    df_g = generated_df.copy().drop(columns=[\"answers\"])\n",
        "    \n",
        "    final = pd.concat([test_df.copy(), df_g.copy()], axis=1)\n",
        "    h_flag = \"\"\n",
        "    if history == True:\n",
        "        h_flag = \"_history\"\n",
        "    if model_name == 'prajjwal1/bert-tiny':\n",
        "        model_name = \"bert-tiny\"\n",
        "    json_path = f\"{results_folder}/{model_name}_{seed}{h_flag}.json\"\n",
        "    final.to_json(path_or_buf=json_path)\n",
        "    csv_path = f\"{results_folder}/{model_name}_{seed}{h_flag}.csv\"\n",
        "    final.to_csv(path_or_buf=csv_path, columns=[\"q\",\"a\",\"generated\",\"score\",\"history\",\"span\"])"
      ]
    },
    {
      "cell_type": "code",
      "execution_count": 41,
      "metadata": {
        "execution": {
          "iopub.execute_input": "2023-01-19T17:59:25.407010Z",
          "iopub.status.busy": "2023-01-19T17:59:25.406558Z",
          "iopub.status.idle": "2023-01-19T17:59:25.416405Z",
          "shell.execute_reply": "2023-01-19T17:59:25.415413Z",
          "shell.execute_reply.started": "2023-01-19T17:59:25.406975Z"
        },
        "id": "1sFeuAYqcd67",
        "trusted": true
      },
      "outputs": [],
      "source": [
        "def results_from_json(model_name,\n",
        "                    seed,\n",
        "                    history):\n",
        "    '''\n",
        "    Given the name of a model, returns the DataFrame loaded by a JSON file, containing the results previously savd on disk of the generate_answers() method.\n",
        "    \n",
        "    Args:\n",
        "        model_Name: name of the model for which return the results\n",
        "        seed: the wanted seed\n",
        "        history: history flag\n",
        "    '''\n",
        "    h_flag = \"\"\n",
        "    if history == True:\n",
        "        h_flag = \"_history\" \n",
        "    if model_name == 'prajjwal1/bert-tiny':\n",
        "        model_name = \"bert-tiny\"\n",
        "    path = f\"results/{model_name}_{seed}{h_flag}.json\"\n",
        "    # Opening JSON file\n",
        "    with open(path) as f:\n",
        "\n",
        "        # returns JSON object as a dictionary\n",
        "        data = json.load(f)\n",
        "\n",
        "        # Use pandas.DataFrame.from_dict() to Convert JSON to DataFrame\n",
        "        df_results = pd.DataFrame.from_dict(data, orient=\"columns\")\n",
        "\n",
        "        return df_results"
      ]
    },
    {
      "cell_type": "markdown",
      "metadata": {
        "id": "Wr9lF2r5LJfQ"
      },
      "source": [
        "#### Pytorch Dataset"
      ]
    },
    {
      "cell_type": "code",
      "execution_count": 42,
      "metadata": {
        "execution": {
          "iopub.execute_input": "2023-01-19T17:59:25.418280Z",
          "iopub.status.busy": "2023-01-19T17:59:25.417849Z",
          "iopub.status.idle": "2023-01-19T17:59:25.431110Z",
          "shell.execute_reply": "2023-01-19T17:59:25.430153Z",
          "shell.execute_reply.started": "2023-01-19T17:59:25.418244Z"
        },
        "id": "YmIVbhWPkD31",
        "trusted": true
      },
      "outputs": [],
      "source": [
        "class CreateDataset(Dataset):\n",
        "    def __init__(self, encodings):\n",
        "        self.encodings = encodings\n",
        "\n",
        "    def __getitem__(self, idx):\n",
        "        return {key: torch.tensor(val[idx]) for key, val in self.encodings.items()}\n",
        "\n",
        "    def __len__(self):\n",
        "        return len(self.encodings.input_ids)"
      ]
    },
    {
      "cell_type": "markdown",
      "metadata": {
        "id": "Z2D0z0w4LYst"
      },
      "source": [
        "### Metric"
      ]
    },
    {
      "cell_type": "markdown",
      "metadata": {
        "id": "3pDzWxTNLg1d"
      },
      "source": [
        "Instead of importing the whole allennlp library, we decided to copy from the source code only of the functions necessary for our task."
      ]
    },
    {
      "cell_type": "code",
      "execution_count": 43,
      "metadata": {
        "execution": {
          "iopub.execute_input": "2023-01-19T17:59:25.434160Z",
          "iopub.status.busy": "2023-01-19T17:59:25.433785Z",
          "iopub.status.idle": "2023-01-19T17:59:25.447220Z",
          "shell.execute_reply": "2023-01-19T17:59:25.446309Z",
          "shell.execute_reply.started": "2023-01-19T17:59:25.434126Z"
        },
        "id": "9FKIPvM1CmVN",
        "trusted": true
      },
      "outputs": [],
      "source": [
        "#utility functions taken from the allennlp library for computing the F1-score\n",
        "import collections\n",
        "import re\n",
        "import string\n",
        "from typing import Callable, Sequence, TypeVar, Tuple\n",
        "\n",
        "def get_tokens(s):\n",
        "    if not s:\n",
        "        return []\n",
        "    return normalize_answer(s).split()\n",
        "\n",
        "def normalize_answer(s):\n",
        "    \"\"\"Lower text and remove punctuation, articles and extra whitespace.\"\"\"\n",
        "\n",
        "    def remove_articles(text):\n",
        "        regex = re.compile(r\"\\b(a|an|the)\\b\", re.UNICODE)\n",
        "        return re.sub(regex, \" \", text)\n",
        "\n",
        "    def white_space_fix(text):\n",
        "        return \" \".join(text.split())\n",
        "\n",
        "    def remove_punc(text):\n",
        "        exclude = set(string.punctuation)\n",
        "        return \"\".join(ch for ch in text if ch not in exclude)\n",
        "\n",
        "    def lower(text):\n",
        "        return text.lower()\n",
        "\n",
        "    return white_space_fix(remove_articles(remove_punc(lower(s))))\n",
        "\n",
        "def compute_f1(a_pred: str, a_gold: str) -> float:\n",
        "    pred_toks = get_tokens(a_pred)\n",
        "    gold_toks = get_tokens(a_gold)\n",
        "    common = collections.Counter(pred_toks) & collections.Counter(gold_toks)  # type: ignore[var-annotated]\n",
        "    num_same = sum(common.values())\n",
        "    if len(pred_toks) == 0 or len(gold_toks) == 0:\n",
        "        # If either is no-answer, then F1 is 1 if they agree, 0 otherwise\n",
        "        return float(pred_toks == gold_toks)\n",
        "    if num_same == 0:\n",
        "        return 0.0\n",
        "    precision = 1.0 * num_same / len(pred_toks)\n",
        "    recall = 1.0 * num_same / len(gold_toks)\n",
        "    f1 = (2 * precision * recall) / (precision + recall)\n",
        "    return f1"
      ]
    },
    {
      "cell_type": "markdown",
      "metadata": {
        "id": "SICbZ6vB1mPd"
      },
      "source": [
        "## Model definition"
      ]
    },
    {
      "cell_type": "markdown",
      "metadata": {
        "id": "2rkmZ-I83G37"
      },
      "source": [
        "The task of this assignment is to generate an answer, given a question and a context, so we can consider this as a sequence to sequence task. \n",
        "To tackle the sequence to sequence task, or Question-Answering task, we decided to use transformer-based encoder-decoder models - often also called seq2seq transformer models. The EncoderDecoderModel is initialized from a pretrained encoder checkpoint and a pretrained decoder checkpoint. To do so, the EncoderDecoderModel class provides a EncoderDecoderModel.from_encoder_decoder_pretrained() method."
      ]
    },
    {
      "cell_type": "code",
      "execution_count": 44,
      "metadata": {
        "execution": {
          "iopub.execute_input": "2023-01-19T17:59:25.450353Z",
          "iopub.status.busy": "2023-01-19T17:59:25.449688Z",
          "iopub.status.idle": "2023-01-19T17:59:25.461806Z",
          "shell.execute_reply": "2023-01-19T17:59:25.460819Z",
          "shell.execute_reply.started": "2023-01-19T17:59:25.450316Z"
        },
        "id": "NuNeaZwnxuOw",
        "trusted": true
      },
      "outputs": [],
      "source": [
        "BERT_TINY = 'prajjwal1/bert-tiny'\n",
        "DISTIL_ROBERTA = 'distilroberta-base'\n",
        "def getModel(model_name):\n",
        "  if(model_name != BERT_TINY) and (model_name != DISTIL_ROBERTA):\n",
        "    raise Exception(\"ValueError: model name should be 'prajjwal1/bert-tiny' or 'distilroberta-base'.\")\n",
        "  \n",
        "  # tie_encoder_decoder to share weights and half the number of parameters\n",
        "  model = EncoderDecoderModel.from_encoder_decoder_pretrained(model_name, model_name,\n",
        "                                                                          tie_encoder_decoder=True)\n",
        "  tokenizer = AutoTokenizer.from_pretrained(model_name)\n",
        "\n",
        "  # set special tokens\n",
        "  model.config.decoder_start_token_id = tokenizer.cls_token_id\n",
        "  model.config.eos_token_id = tokenizer.sep_token_id\n",
        "  model.config.pad_token_id = tokenizer.pad_token_id\n",
        "\n",
        "  # set decoding parameters                             \n",
        "  model.config.early_stopping = True\n",
        "  model.config.no_repeat_ngram_size = 3\n",
        "  model.config.repetition_penalty = 5.0\n",
        "  model.config.num_beams = 2\n",
        "  model.config.vocab_size = model.config.encoder.vocab_size\n",
        "  return model, tokenizer\n"
      ]
    },
    {
      "cell_type": "markdown",
      "metadata": {
        "id": "SKp0Kz_C0z1K"
      },
      "source": [
        "### Train Functionalities\n"
      ]
    },
    {
      "cell_type": "code",
      "execution_count": 45,
      "metadata": {
        "execution": {
          "iopub.execute_input": "2023-01-19T17:59:25.463686Z",
          "iopub.status.busy": "2023-01-19T17:59:25.463251Z",
          "iopub.status.idle": "2023-01-19T17:59:25.478960Z",
          "shell.execute_reply": "2023-01-19T17:59:25.477889Z",
          "shell.execute_reply.started": "2023-01-19T17:59:25.463647Z"
        },
        "id": "P-3GGR9O05dn",
        "trusted": true
      },
      "outputs": [],
      "source": [
        "# Train one epoch\n",
        "def train(model: torch.nn.Module,\n",
        "          train_loader:torch.utils.data.DataLoader,\n",
        "          device: torch.device,          \n",
        "          optimizer: torch.optim,\n",
        "          epoch: int) -> float:\n",
        "    \"\"\"Trains a neural network for one epoch.\n",
        "\n",
        "    Args:\n",
        "        model: the model to train.\n",
        "        train_loader: the data loader containing the training data.\n",
        "        device: the device to use to train the model.        \n",
        "        optimizer: the optimizer to use to train the model.\n",
        "        epoch: the number of the current epoch.\n",
        "\n",
        "    Returns:\n",
        "        the cross entropy Loss value on the training data.\n",
        "    \"\"\"    \n",
        "    size_ds_train = len(train_loader.dataset)\n",
        "    num_batches = len(train_loader)\n",
        "    loss_score = []\n",
        "    loop = tqdm(train_loader)\n",
        "    #set training mode\n",
        "    model.train()\n",
        "    for idx_batch, batch in enumerate(loop):\n",
        "        optimizer.zero_grad()\n",
        "        input_ids = batch['input_ids'].to(device)\n",
        "        attention_mask = batch['attention_mask'].to(device)\n",
        "        labels = batch['labels'].to(device)\n",
        "        loss, outputs = model(input_ids,\n",
        "                              attention_mask=attention_mask,\n",
        "                              labels = labels\n",
        "                        )[:2]\n",
        "        loss_score.append(loss.item())\n",
        "        loss.backward()\n",
        "        optimizer.step() \n",
        "        loop.set_description(f'Epoch {epoch}')\n",
        "        loop.set_postfix(loss=loss.item())\n",
        "\n",
        "    loss_train = np.mean(loss_score)\n",
        "    return loss_train\n",
        "\n",
        "# Validate one epoch\n",
        "def validate(model: torch.nn.Module,\n",
        "             data_loader: torch.utils.data.DataLoader,\n",
        "             device: torch.device) -> float:\n",
        "    \"\"\"Evaluates the model.\n",
        "\n",
        "    Args:\n",
        "        model: the model to evalaute.\n",
        "        data_loader: the data loader containing the validation data.\n",
        "        device: the device to use to evaluate the model.\n",
        "\n",
        "    Returns:\n",
        "        the loss value on the validation data.\n",
        "    \"\"\"\n",
        "    loss_score = []\n",
        "    #set evaluation mode\n",
        "    model = model.eval()\n",
        "    with torch.no_grad():\n",
        "        for idx_batch, batch in enumerate(data_loader):\n",
        "            input_ids = batch['input_ids'].to(device)\n",
        "            attention_mask = batch['attention_mask'].to(device)\n",
        "            labels = batch['labels'].to(device)\n",
        "            loss, outputs = model(input_ids,\n",
        "                                  attention_mask=attention_mask,\n",
        "                                  labels = labels\n",
        "                            )[:2]\n",
        "            loss_score.append(loss.item())\n",
        "    loss_val = np.mean(loss_score)\n",
        "    return loss_val"
      ]
    },
    {
      "cell_type": "code",
      "execution_count": 46,
      "metadata": {
        "execution": {
          "iopub.execute_input": "2023-01-19T17:59:25.482496Z",
          "iopub.status.busy": "2023-01-19T17:59:25.481147Z",
          "iopub.status.idle": "2023-01-19T17:59:25.494439Z",
          "shell.execute_reply": "2023-01-19T17:59:25.493639Z",
          "shell.execute_reply.started": "2023-01-19T17:59:25.482462Z"
        },
        "id": "ZRJmWE8R1bIB",
        "trusted": true
      },
      "outputs": [],
      "source": [
        "def training_loop(num_epochs: int,\n",
        "                  optimizer: torch.optim, \n",
        "                  model: torch.nn.Module, \n",
        "                  loader_train: torch.utils.data.DataLoader, \n",
        "                  loader_val: torch.utils.data.DataLoader, \n",
        "                  verbose: bool=True) -> Dict:\n",
        "    \"\"\"Executes the training loop.\n",
        "    \n",
        "        Args:\n",
        "            num_epochs: the number of epochs.\n",
        "            optimizer: the optimizer to use.\n",
        "            model: the mode to train.\n",
        "            loader_train: the data loader containing the training data.\n",
        "            loader_val: the data loader containing the validation data.\n",
        "            verbose: if true print the value of loss.\n",
        "\n",
        "        Returns:  \n",
        "            A dictionary with the statistics computed during the train:\n",
        "            the values for the train loss for each epoch.\n",
        "            the values for the validation loss for each epoch.\n",
        "            the time of execution in seconds for the entire loop.\n",
        "    \"\"\"\n",
        "    device = torch.device('cuda') if torch.cuda.is_available() else torch.device('cpu')\n",
        "    model.to(device)\n",
        "    loop_start = timer()\n",
        "    train_losses_values = []\n",
        "    val_losses_values = []\n",
        "    for epoch in range(1, num_epochs + 1):\n",
        "        time_start = timer()\n",
        "        loss_train = train(model, loader_train, device, \n",
        "                                           optimizer, epoch)\n",
        "        loss_val = validate(model, loader_val, device)\n",
        "        time_end = timer()\n",
        "        train_losses_values.append(loss_train)\n",
        "        val_losses_values.append(loss_val)\n",
        "        if verbose:            \n",
        "            print(f'Epoch: {epoch} '\n",
        "                  f' Lr: {lr:.8f} '\n",
        "                  f' Loss: Train = [{loss_train:.4f}] - Val = [{loss_val:.4f}] '\n",
        "                  f' Time one epoch (s): {(time_end - time_start):.4f} ')\n",
        "    loop_end = timer()\n",
        "    time_loop = loop_end - loop_start\n",
        "    if verbose:\n",
        "        print(f'Time for {num_epochs} epochs (s): {(time_loop):.3f}') \n",
        "        \n",
        "    return {'train_loss_values': train_losses_values,\n",
        "            'val_loss_values' : val_losses_values,\n",
        "            'time': time_loop}"
      ]
    },
    {
      "cell_type": "markdown",
      "metadata": {
        "id": "ZZwPf5KGh8AH"
      },
      "source": [
        "### Encodings"
      ]
    },
    {
      "cell_type": "markdown",
      "metadata": {
        "id": "MOs96n2t5rYp"
      },
      "source": [
        "\n",
        "Before passing the input data to the model, we need to tokenize the data so that it is readable by the model. The encoding is done by using a pretrained tokenizer, which encodes both our question and context strings into single arrays of tokens, and the answer strings separately. If the history flag is on, then the dialogue history is appended to the question strings."
      ]
    },
    {
      "cell_type": "code",
      "execution_count": 47,
      "metadata": {
        "execution": {
          "iopub.execute_input": "2023-01-19T17:59:25.496202Z",
          "iopub.status.busy": "2023-01-19T17:59:25.495839Z",
          "iopub.status.idle": "2023-01-19T17:59:25.508329Z",
          "shell.execute_reply": "2023-01-19T17:59:25.507398Z",
          "shell.execute_reply.started": "2023-01-19T17:59:25.496168Z"
        },
        "id": "T0euHtnu4_M6",
        "trusted": true
      },
      "outputs": [],
      "source": [
        "def tokenize_coqa_questions(df:pd.DataFrame,\n",
        "                            history:bool, \n",
        "                            tokenizer:PreTrainedTokenizer,\n",
        "                            max_length:int) -> BatchEncoding:\n",
        "    if history:\n",
        "        #concatenating the question with the history \n",
        "        print(f'encoding WITH history')\n",
        "        questions = df[\"q\"].str.cat(df[\"history\"]) # If needed a separator can be passed, for example with sep='[SEP] '\n",
        "        #questions = df_input[[\"q\", \"history\"]].apply(\" \".join, axis=1) # Equivalent\n",
        "    else:\n",
        "        print(f'encoding without history')\n",
        "        questions = df['q']\n",
        "\n",
        "    return tokenizer(\n",
        "        list(questions),\n",
        "        list(df['p']),  \n",
        "        padding=True,\n",
        "        truncation= 'only_second', \n",
        "        max_length = encoder_max_length,\n",
        "    )"
      ]
    },
    {
      "cell_type": "code",
      "execution_count": 48,
      "metadata": {
        "execution": {
          "iopub.execute_input": "2023-01-19T17:59:25.510166Z",
          "iopub.status.busy": "2023-01-19T17:59:25.509826Z",
          "iopub.status.idle": "2023-01-19T17:59:25.522833Z",
          "shell.execute_reply": "2023-01-19T17:59:25.521795Z",
          "shell.execute_reply.started": "2023-01-19T17:59:25.510131Z"
        },
        "id": "tmQuDvN1rq1D",
        "trusted": true
      },
      "outputs": [],
      "source": [
        "BERT_TINY_ENCODER_MAX_LENGTH = 499\n",
        "DISTILLROBERTA_ENCODER_MAX_LENGTH = 512\n",
        "def encodings(model_name:str, \n",
        "              tokenizer:PreTrainedTokenizer,\n",
        "              df:pd.DataFrame,\n",
        "              history:bool) -> BatchEncoding:\n",
        "  if(model_name == BERT_TINY):\n",
        "    encoder_max_length = BERT_TINY_ENCODER_MAX_LENGTH\n",
        "    decoder_max_length = 64\n",
        "  elif(model_name == DISTIL_ROBERTA):\n",
        "    encoder_max_length = DISTILLROBERTA_ENCODER_MAX_LENGTH\n",
        "    decoder_max_length = 64\n",
        "\n",
        "  encodings = tokenize_coqa_questions(df, history, tokenizer, encoder_max_length)\n",
        "  input_ids, input_attention_mask = encodings['input_ids'], encodings['attention_mask']\n",
        "\n",
        "  label_values = tokenizer(list(df['a']),\n",
        "                            padding=True,\n",
        "                            truncation=True,\n",
        "                            max_length = decoder_max_length,\n",
        "                            )\n",
        "  labels, labels_mask = label_values['input_ids'], label_values['attention_mask']\n",
        "  #Tokens with indices set to ``-100`` are ignored (masked) during training, the loss is only computed for the tokens with labels\n",
        "  masked_labels = [[-100 if token == tokenizer.pad_token_id else token for token in labels] for labels in labels]\n",
        "\n",
        "  #print(f\"\"\"\n",
        "   # Question 42 decoded: {tokenizer.decode(input_ids[42])}\n",
        "   # Answer 42 decoded: {tokenizer.decode(labels[42])}\n",
        "  #\"\"\")\n",
        "\n",
        "  #add the labels to the batch encodings dictionary, then this will be used to create a pytorch dataset\n",
        "  if(model_name == BERT_TINY):\n",
        "    #token_type_ids are not relevant for the training process\n",
        "    encodings.pop('token_type_ids')\n",
        "  encodings.update({'labels': masked_labels})\n",
        "  return encodings"
      ]
    },
    {
      "cell_type": "markdown",
      "metadata": {
        "id": "SY-KWM4VhXs3"
      },
      "source": [
        "### Generation"
      ]
    },
    {
      "cell_type": "markdown",
      "metadata": {
        "id": "jQZzsrU5KBKg"
      },
      "source": [
        "The decoding process consists in generating a sequence of words, in this case is the answer. This process relies on a decoding strategy, which define how the model choose what words it should output once it knows the probabilities. There exist different decoding strategies, some of which are greedy search, top-k sampling, and beam search.\n",
        "The generation of answer is done by using a beam search strategy, instead of a greedy approach. "
      ]
    },
    {
      "cell_type": "code",
      "execution_count": 49,
      "metadata": {
        "execution": {
          "iopub.execute_input": "2023-01-19T17:59:25.524985Z",
          "iopub.status.busy": "2023-01-19T17:59:25.524507Z",
          "iopub.status.idle": "2023-01-19T17:59:25.538910Z",
          "shell.execute_reply": "2023-01-19T17:59:25.537875Z",
          "shell.execute_reply.started": "2023-01-19T17:59:25.524951Z"
        },
        "id": "0Rv6DjFnu2et",
        "trusted": true
      },
      "outputs": [],
      "source": [
        "def generate_answers(model: torch.nn.Module,\n",
        "                    tokenizer: PreTrainedTokenizer,\n",
        "                    df_input: pd.DataFrame,\n",
        "                    max_length: int,\n",
        "                    history: bool = False,\n",
        "                     ) -> pd.DataFrame:\n",
        "\n",
        "    '''\n",
        "    Given the model and the input, returns a dataframe cointaining the generated answers and relative F1-score\n",
        "    \n",
        "    Args:\n",
        "        model: Torch model used to generate answers\n",
        "        tokenizer: generic tokenizer\n",
        "        df_input: dataframe containing the input to the model\n",
        "        max_length: max length applied in the tokenization\n",
        "        history: history flag.\n",
        "    '''\n",
        "\n",
        "    device = torch.device('cuda') if torch.cuda.is_available() else torch.device('cpu')\n",
        "    input_values = tokenize_coqa_questions(df_input, history, tokenizer, max_length)\n",
        "    input_ids, input_attention_mask = input_values['input_ids'], input_values['attention_mask']\n",
        "    list_generated = []\n",
        "    model.to(device)\n",
        "    # Set the model in evaluation mode\n",
        "    model.eval()\n",
        "    for input, mask in zip(input_ids,input_attention_mask):\n",
        "        input = np.expand_dims(np.array(input), axis=0)\n",
        "        mask = np.expand_dims(np.array(mask), axis=0)\n",
        "        generated = model.generate(input_ids=torch.tensor(input).to(device),\n",
        "                                                        max_length=20,\n",
        "                                                        repetition_penalty=5.,\n",
        "                                                        min_length=1,\n",
        "                                                        no_repeat_ngram_size=3,\n",
        "                                                        early_stopping=True,\n",
        "                                                        decoder_start_token_id = model.config.decoder_start_token_id,\n",
        "                                                        num_beams=2,\n",
        "                                                        )\n",
        "        generated = tokenizer.batch_decode(generated, skip_special_tokens=True)\n",
        "        list_generated.append(generated)\n",
        "\n",
        "    # Create a dataframe and insert the real answers\n",
        "    df_generated = pd.DataFrame(list_generated, columns = ['generated'])\n",
        "    df_generated['answers'] = df_input['a']\n",
        "\n",
        "    # Generate and insert the F1-score\n",
        "    score = []\n",
        "    for a_pred, a_gold in zip(df_generated['generated'], df_generated['answers']):\n",
        "        score.append(compute_f1(a_pred, a_gold))\n",
        "    df_generated['score'] = score\n",
        "\n",
        "    # Print average f1_score and the answers with score greater than 0\n",
        "    average_score = np.mean(score)*100\n",
        "    predicted = len(df_generated[df_generated['score'] != 0])\n",
        "    \n",
        "    print(f'Average_score: {average_score}')\n",
        "    print(f'N° of samples with score greater than zero: {predicted} / {len(df_generated)}')\n",
        "    return df_generated"
      ]
    },
    {
      "cell_type": "markdown",
      "metadata": {
        "id": "YgAgAhQKiQsA"
      },
      "source": [
        "### Execution"
      ]
    },
    {
      "cell_type": "code",
      "execution_count": 50,
      "metadata": {
        "execution": {
          "iopub.execute_input": "2023-01-19T17:59:25.540758Z",
          "iopub.status.busy": "2023-01-19T17:59:25.540387Z",
          "iopub.status.idle": "2023-01-19T17:59:25.553638Z",
          "shell.execute_reply": "2023-01-19T17:59:25.552729Z",
          "shell.execute_reply.started": "2023-01-19T17:59:25.540724Z"
        },
        "id": "_04W2EehrIH1",
        "trusted": true
      },
      "outputs": [],
      "source": [
        "def execute(model_name: str,\n",
        "            lr: float, \n",
        "            num_epochs: int, \n",
        "            batch_size: int,\n",
        "            train_df: pd.DataFrame,\n",
        "            val_df: pd.DataFrame,\n",
        "            history:bool=False,\n",
        "            ) ->Tuple[torch.nn.Module, any]:\n",
        "    \"\"\"Gets the model, does the encodings of the training and validation data using the \n",
        "        tokenizer, and then executes the training loop.\n",
        "\n",
        "    Args:\n",
        "        model: the network to train.\n",
        "        lr: the learning rate.\n",
        "        num_epochs: the number of epochs.\n",
        "        batch_size: the batch size.\n",
        "        train_df: training dataframe.\n",
        "        val_df: validation dataframe.\n",
        "        history: questions-answers history flag.\n",
        "    \"\"\"\n",
        "    #get the model and the tokenizer\n",
        "    model, tokenizer = getModel(model_name)\n",
        "    #Start encodings\n",
        "    print(f'STARTING ENCODING:')\n",
        "    print(f'Train set:')\n",
        "    train_encodings = encodings(model_name, tokenizer, train_df, history)\n",
        "    print(f'Validation set:')\n",
        "    val_encodings = encodings(model_name, tokenizer, val_df, history)\n",
        "    print(f'ENCODING COMPLETE.')\n",
        "\n",
        "    #create training dataset\n",
        "    train_dataset = CreateDataset(train_encodings)\n",
        "    #create training dataloader\n",
        "    data_loader_train = torch.utils.data.DataLoader(train_dataset,\n",
        "                                        batch_size=batch_size,\n",
        "                                        shuffle = True\n",
        "                                        )\n",
        "    #create validation dataset\n",
        "    val_dataset = CreateDataset(val_encodings)\n",
        "    #create validation dataloader\n",
        "    data_loader_val = torch.utils.data.DataLoader(val_dataset,\n",
        "                                        batch_size=batch_size,\n",
        "                                        shuffle = False\n",
        "                                        )\n",
        "\n",
        "    #Optimizer\n",
        "    optimizer = torch.optim.AdamW(model.parameters(), lr=lr)\n",
        "    print(f'STARTING TRAINING:')\n",
        "    statistics = training_loop(num_epochs, optimizer, model,\n",
        "                               data_loader_train, data_loader_val)\n",
        "    print(f'TRAINING COMPLETE.')\n",
        "    return model, tokenizer\n"
      ]
    },
    {
      "cell_type": "markdown",
      "metadata": {
        "id": "WpTttkRT1mPq"
      },
      "source": [
        "## Train and evaluate $f_\\theta(P, Q)$ and $f_\\theta(P, Q, H)$"
      ]
    },
    {
      "cell_type": "markdown",
      "metadata": {
        "id": "Tc2DJC_G4_NE"
      },
      "source": [
        "### Define model "
      ]
    },
    {
      "cell_type": "code",
      "execution_count": 50,
      "metadata": {
        "execution": {
          "iopub.execute_input": "2023-01-19T17:59:25.556270Z",
          "iopub.status.busy": "2023-01-19T17:59:25.555988Z",
          "iopub.status.idle": "2023-01-19T17:59:25.567692Z",
          "shell.execute_reply": "2023-01-19T17:59:25.566764Z",
          "shell.execute_reply.started": "2023-01-19T17:59:25.556246Z"
        },
        "id": "3dCdPsMj4_NE",
        "trusted": true
      },
      "outputs": [],
      "source": [
        "# Select seed 42,2022,1337\n",
        "TRAINING_RANDOM_SEED = 2022\n",
        "\n",
        "# Select model\n",
        "#model_name = BERT_TINY\n",
        "model_name = DISTIL_ROBERTA\n",
        "\n",
        "# History flag\n",
        "history = True\n",
        "#history = False"
      ]
    },
    {
      "cell_type": "markdown",
      "metadata": {
        "id": "HeNHSux9Xscg"
      },
      "source": [
        "### Training"
      ]
    },
    {
      "cell_type": "code",
      "execution_count": null,
      "metadata": {
        "colab": {
          "base_uri": "https://localhost:8080/",
          "height": 549,
          "referenced_widgets": [
            "e4ad0dbdc5da4da5bdce337387ce76db",
            "5dd4956e597c4a56b7c35e10f18b3df2",
            "c367a9c106e84630a0c013a7716ff854",
            "287f6e56a1bd486887204dfb3ddc5cf2",
            "13591ef632ea4417abee21efe00a5735",
            "c608cdb413a74604badf7e542c76508c",
            "2177a206300c4b5bb372b68536bdc5a2",
            "f18fccabda9248d899f15b4c9d0ea695",
            "c0432f5e81b0472a81bb61846da10f32",
            "da4163db399f41a5997e119c7c3015e1",
            "bcb346ff51a34d3da41fd7bbe39b8ee2",
            "1a7c1f8ff4314ef79fd4756b1ac3f1e9",
            "89a564eeabd148849ab602cf3fab0820",
            "ed4fcd9c3d5049d29ea377612dca71cc",
            "e708fa71aa214f0c9c0b2f2ff640a093",
            "d04f7b05f6a1473bae12e3610c18ea87",
            "f175278ee7954883b99fd0f3b42e7ada",
            "a390fe238b274105a3086ede55b0afe3",
            "66f0327fb6984beaa3ca029a8c4a294a",
            "190f1946ae9848ba935ef9ad842ba9e0",
            "3f01f40ac5da4dc7b9c769f721689f9b",
            "6b4df79ae0ee4b64a8682a6f8e3585c3",
            "2809423da66b46f1a3786097197b08eb",
            "bfca35066f224fcf89b46f6dfde5243e",
            "af2c8fa16000424d811c33bd0f3ac329",
            "1dd05d49787640bfa6d2a049fbabc2cd",
            "c8b03fbdbc2844bfa60e1dad73f3db3b",
            "a0384c24d9c04f128021b128b52f5229",
            "5fb4f63359c44d089bd5b5fa6e0b2ef2",
            "25dcee7a832141ceab64344ea3b080f2",
            "34d10caab1ca49a88c103587b23a412c",
            "c224abe7d8b94ab3838424696402ff18",
            "57206a3f719e46f1a598b350277a140b"
          ]
        },
        "execution": {
          "iopub.execute_input": "2023-01-19T17:59:25.570301Z",
          "iopub.status.busy": "2023-01-19T17:59:25.569971Z",
          "iopub.status.idle": "2023-01-19T18:11:13.432420Z",
          "shell.execute_reply": "2023-01-19T18:11:13.431419Z",
          "shell.execute_reply.started": "2023-01-19T17:59:25.570276Z"
        },
        "id": "vowXc6lgygac",
        "outputId": "6aba29e2-dea4-4a15-9acb-7dbce7ae70c3",
        "trusted": true
      },
      "outputs": [
        {
          "data": {
            "application/vnd.jupyter.widget-view+json": {
              "model_id": "e4ad0dbdc5da4da5bdce337387ce76db",
              "version_major": 2,
              "version_minor": 0
            },
            "text/plain": [
              "Downloading:   0%|          | 0.00/285 [00:00<?, ?B/s]"
            ]
          },
          "metadata": {},
          "output_type": "display_data"
        },
        {
          "data": {
            "application/vnd.jupyter.widget-view+json": {
              "model_id": "1a7c1f8ff4314ef79fd4756b1ac3f1e9",
              "version_major": 2,
              "version_minor": 0
            },
            "text/plain": [
              "Downloading:   0%|          | 0.00/17.8M [00:00<?, ?B/s]"
            ]
          },
          "metadata": {},
          "output_type": "display_data"
        },
        {
          "name": "stderr",
          "output_type": "stream",
          "text": [
            "Some weights of the model checkpoint at prajjwal1/bert-tiny were not used when initializing BertModel: ['cls.predictions.decoder.weight', 'cls.predictions.transform.dense.bias', 'cls.predictions.decoder.bias', 'cls.predictions.bias', 'cls.predictions.transform.LayerNorm.bias', 'cls.predictions.transform.LayerNorm.weight', 'cls.seq_relationship.weight', 'cls.seq_relationship.bias', 'cls.predictions.transform.dense.weight']\n",
            "- This IS expected if you are initializing BertModel from the checkpoint of a model trained on another task or with another architecture (e.g. initializing a BertForSequenceClassification model from a BertForPreTraining model).\n",
            "- This IS NOT expected if you are initializing BertModel from the checkpoint of a model that you expect to be exactly identical (initializing a BertForSequenceClassification model from a BertForSequenceClassification model).\n",
            "Some weights of the model checkpoint at prajjwal1/bert-tiny were not used when initializing BertLMHeadModel: ['cls.seq_relationship.bias', 'cls.seq_relationship.weight']\n",
            "- This IS expected if you are initializing BertLMHeadModel from the checkpoint of a model trained on another task or with another architecture (e.g. initializing a BertForSequenceClassification model from a BertForPreTraining model).\n",
            "- This IS NOT expected if you are initializing BertLMHeadModel from the checkpoint of a model that you expect to be exactly identical (initializing a BertForSequenceClassification model from a BertForSequenceClassification model).\n",
            "Some weights of BertLMHeadModel were not initialized from the model checkpoint at prajjwal1/bert-tiny and are newly initialized: ['bert.encoder.layer.0.crossattention.self.query.weight', 'bert.encoder.layer.1.crossattention.self.query.weight', 'bert.encoder.layer.1.crossattention.output.dense.weight', 'bert.encoder.layer.0.crossattention.self.value.weight', 'bert.encoder.layer.0.crossattention.self.key.weight', 'bert.encoder.layer.0.crossattention.output.dense.weight', 'bert.encoder.layer.0.crossattention.output.LayerNorm.weight', 'bert.encoder.layer.1.crossattention.output.dense.bias', 'bert.encoder.layer.1.crossattention.self.query.bias', 'bert.encoder.layer.1.crossattention.output.LayerNorm.weight', 'bert.encoder.layer.0.crossattention.self.query.bias', 'bert.encoder.layer.0.crossattention.output.LayerNorm.bias', 'bert.encoder.layer.1.crossattention.self.value.weight', 'bert.encoder.layer.0.crossattention.self.key.bias', 'bert.encoder.layer.1.crossattention.self.key.weight', 'bert.encoder.layer.1.crossattention.self.key.bias', 'bert.encoder.layer.1.crossattention.self.value.bias', 'bert.encoder.layer.0.crossattention.output.dense.bias', 'bert.encoder.layer.1.crossattention.output.LayerNorm.bias', 'bert.encoder.layer.0.crossattention.self.value.bias']\n",
            "You should probably TRAIN this model on a down-stream task to be able to use it for predictions and inference.\n",
            "The following encoder weights were not tied to the decoder ['bert/pooler']\n"
          ]
        },
        {
          "data": {
            "application/vnd.jupyter.widget-view+json": {
              "model_id": "2809423da66b46f1a3786097197b08eb",
              "version_major": 2,
              "version_minor": 0
            },
            "text/plain": [
              "Downloading:   0%|          | 0.00/232k [00:00<?, ?B/s]"
            ]
          },
          "metadata": {},
          "output_type": "display_data"
        },
        {
          "name": "stdout",
          "output_type": "stream",
          "text": [
            "STARTING ENCODING:\n",
            "encoding WITH history\n",
            "encoding WITH history\n",
            "ENCODING COMPLETE.\n",
            "STARTING TRAINING:\n"
          ]
        },
        {
          "name": "stderr",
          "output_type": "stream",
          "text": [
            "  0%|          | 0/5142 [00:00<?, ?it/s]/usr/local/lib/python3.8/dist-packages/transformers/models/encoder_decoder/modeling_encoder_decoder.py:634: FutureWarning: Version v4.12.0 introduces a better way to train encoder-decoder models by computing the loss inside the encoder-decoder framework rather than in the decoder itself. You may observe training discrepancies if fine-tuning a model trained with versions anterior to 4.12.0. The decoder_input_ids are now created based on the labels, no need to pass them yourself anymore.\n",
            "  warnings.warn(DEPRECATION_WARNING, FutureWarning)\n",
            "Epoch 1: 100%|██████████| 5142/5142 [03:50<00:00, 22.33it/s, loss=4.36]\n"
          ]
        },
        {
          "name": "stdout",
          "output_type": "stream",
          "text": [
            "Epoch: 1  Lr: 0.00040000  Loss: Train = [3.9323] - Val = [3.5859]  Time one epoch (s): 245.2318 \n"
          ]
        },
        {
          "name": "stderr",
          "output_type": "stream",
          "text": [
            "Epoch 2: 100%|██████████| 5142/5142 [03:48<00:00, 22.47it/s, loss=2.31]\n"
          ]
        },
        {
          "name": "stdout",
          "output_type": "stream",
          "text": [
            "Epoch: 2  Lr: 0.00040000  Loss: Train = [3.3018] - Val = [3.5410]  Time one epoch (s): 243.9631 \n"
          ]
        },
        {
          "name": "stderr",
          "output_type": "stream",
          "text": [
            "Epoch 3: 100%|██████████| 5142/5142 [03:48<00:00, 22.53it/s, loss=2.06]\n"
          ]
        },
        {
          "name": "stdout",
          "output_type": "stream",
          "text": [
            "Epoch: 3  Lr: 0.00040000  Loss: Train = [3.0181] - Val = [3.5642]  Time one epoch (s): 243.3879 \n",
            "Time for 3 epochs (s): 732.584\n",
            "TRAINING COMPLETE.\n"
          ]
        }
      ],
      "source": [
        "fix_seed(TRAINING_RANDOM_SEED)\n",
        "\n",
        "#parameters \n",
        "if(model_name == BERT_TINY):\n",
        "    lr = 4e-4\n",
        "    encoder_max_length = BERT_TINY_ENCODER_MAX_LENGTH\n",
        "elif(model_name == DISTIL_ROBERTA):\n",
        "    lr = 4e-5\n",
        "    encoder_max_length = DISTILLROBERTA_ENCODER_MAX_LENGTH\n",
        "\n",
        "num_epochs = 3\n",
        "\n",
        "#if you are having runtime error reduce the batch size to 12 or 8\n",
        "batch_size = 16\n",
        "\n",
        "#execute\n",
        "model, tokenizer = execute(model_name, lr, num_epochs, batch_size, train_df, val_df, history=history)"
      ]
    },
    {
      "cell_type": "code",
      "execution_count": null,
      "metadata": {
        "execution": {
          "iopub.execute_input": "2023-01-19T18:11:13.440504Z",
          "iopub.status.busy": "2023-01-19T18:11:13.440197Z",
          "iopub.status.idle": "2023-01-19T18:11:13.722280Z",
          "shell.execute_reply": "2023-01-19T18:11:13.720978Z",
          "shell.execute_reply.started": "2023-01-19T18:11:13.440476Z"
        },
        "id": "PS4LyEvk1y88",
        "trusted": true
      },
      "outputs": [],
      "source": [
        "free_some_memory()"
      ]
    },
    {
      "cell_type": "markdown",
      "metadata": {
        "id": "1ezjXyEag7rc"
      },
      "source": [
        "### Evaluation"
      ]
    },
    {
      "cell_type": "markdown",
      "metadata": {
        "id": "5V6RY1i_-7P0"
      },
      "source": [
        "####Evaluation on validation set"
      ]
    },
    {
      "cell_type": "markdown",
      "metadata": {
        "id": "JEWv_9cr_ies"
      },
      "source": [
        "Encode the validation set using the tokenizer defined before."
      ]
    },
    {
      "cell_type": "code",
      "execution_count": null,
      "metadata": {
        "colab": {
          "base_uri": "https://localhost:8080/"
        },
        "execution": {
          "iopub.execute_input": "2023-01-19T18:11:13.724678Z",
          "iopub.status.busy": "2023-01-19T18:11:13.723994Z",
          "iopub.status.idle": "2023-01-19T18:14:00.725546Z",
          "shell.execute_reply": "2023-01-19T18:14:00.724171Z",
          "shell.execute_reply.started": "2023-01-19T18:11:13.724641Z"
        },
        "id": "orSBK7-s_XfV",
        "outputId": "5ff8f33f-51df-463f-e302-fd5102083ae3",
        "trusted": true
      },
      "outputs": [
        {
          "name": "stdout",
          "output_type": "stream",
          "text": [
            "STARTING GENERATION on validation set:\n",
            "encoding WITH history\n",
            "Average_score: 16.186003373198457\n",
            "N° of samples with score greater than 0: 4383 / 20539\n",
            "GENERATION COMPLETE.\n"
          ]
        }
      ],
      "source": [
        "print(f'STARTING GENERATION on validation set:')\n",
        "df_generated = generate_answers(model = model, \n",
        "                                tokenizer = tokenizer,\n",
        "                                df_input = val_df,\n",
        "                                max_length = encoder_max_length,\n",
        "                                history = history)\n",
        "print(f'GENERATION COMPLETE.')"
      ]
    },
    {
      "cell_type": "code",
      "execution_count": null,
      "metadata": {
        "execution": {
          "iopub.execute_input": "2023-01-19T18:14:00.727897Z",
          "iopub.status.busy": "2023-01-19T18:14:00.727503Z",
          "iopub.status.idle": "2023-01-19T18:14:00.841588Z",
          "shell.execute_reply": "2023-01-19T18:14:00.840162Z",
          "shell.execute_reply.started": "2023-01-19T18:14:00.727859Z"
        },
        "id": "cPn0XNYh1KFq",
        "trusted": true
      },
      "outputs": [],
      "source": [
        "# save\n",
        "results_to_json(val_df, df_generated, model_name, TRAINING_RANDOM_SEED, history)\n",
        "# load\n",
        "# df_results = results_from_json(model_name, TRAINING_RANDOM_SEED, history)"
      ]
    },
    {
      "cell_type": "code",
      "execution_count": null,
      "metadata": {
        "colab": {
          "base_uri": "https://localhost:8080/"
        },
        "id": "U9Rj-NT11KFq",
        "outputId": "56acdf09-201f-4f7f-8aec-ae829fe74137"
      },
      "outputs": [
        {
          "name": "stdout",
          "output_type": "stream",
          "text": [
            "  adding: results/ (stored 0%)\n",
            "  adding: results/bert-tiny_1337_history.json (deflated 93%)\n",
            "  adding: results/bert-tiny_1337_history.csv (deflated 79%)\n"
          ]
        }
      ],
      "source": [
        "!zip -r val_results.zip results"
      ]
    },
    {
      "cell_type": "markdown",
      "metadata": {
        "id": "a-4fS9UD_S73"
      },
      "source": [
        "####Evaluation on test set"
      ]
    },
    {
      "cell_type": "markdown",
      "metadata": {
        "id": "ZpudKS7ZhCN6"
      },
      "source": [
        "Encode test set using the tokenizer defined before."
      ]
    },
    {
      "cell_type": "code",
      "execution_count": null,
      "metadata": {
        "colab": {
          "base_uri": "https://localhost:8080/"
        },
        "execution": {
          "iopub.execute_input": "2023-01-19T18:11:13.724678Z",
          "iopub.status.busy": "2023-01-19T18:11:13.723994Z",
          "iopub.status.idle": "2023-01-19T18:14:00.725546Z",
          "shell.execute_reply": "2023-01-19T18:14:00.724171Z",
          "shell.execute_reply.started": "2023-01-19T18:11:13.724641Z"
        },
        "id": "9d0krT9su2ew",
        "outputId": "0311e46b-d369-4659-ef48-8d09d412b2f8",
        "trusted": true
      },
      "outputs": [
        {
          "name": "stdout",
          "output_type": "stream",
          "text": [
            "STARTING GENERATION on test set:\n",
            "encoding WITH history\n",
            "Average_score: 16.785367494332917\n",
            "N° of samples with score greater than 0: 1716 / 7917\n",
            "GENERATION COMPLETE.\n"
          ]
        }
      ],
      "source": [
        "print(f'STARTING GENERATION on test set:')\n",
        "df_generated = generate_answers(model = model, \n",
        "                                tokenizer = tokenizer,\n",
        "                                df_input = test_df,\n",
        "                                max_length = encoder_max_length,\n",
        "                                history = history)\n",
        "print(f'GENERATION COMPLETE.')"
      ]
    },
    {
      "cell_type": "markdown",
      "metadata": {
        "id": "UmbGypwzcd7A"
      },
      "source": [
        "Save the contents of df_generated (concatenated with test_df) in the folder \"results\", as a JSON file."
      ]
    },
    {
      "cell_type": "code",
      "execution_count": null,
      "metadata": {
        "execution": {
          "iopub.execute_input": "2023-01-19T18:14:00.727897Z",
          "iopub.status.busy": "2023-01-19T18:14:00.727503Z",
          "iopub.status.idle": "2023-01-19T18:14:00.841588Z",
          "shell.execute_reply": "2023-01-19T18:14:00.840162Z",
          "shell.execute_reply.started": "2023-01-19T18:14:00.727859Z"
        },
        "id": "XALKeL3tcd7B",
        "trusted": true
      },
      "outputs": [],
      "source": [
        "# save\n",
        "results_to_json(test_df, df_generated, model_name, TRAINING_RANDOM_SEED, history)\n",
        "# load\n",
        "# df_results = results_from_json(model_name, TRAINING_RANDOM_SEED, history)"
      ]
    },
    {
      "cell_type": "code",
      "execution_count": null,
      "metadata": {
        "colab": {
          "base_uri": "https://localhost:8080/"
        },
        "id": "n58ZfB6uLwp3",
        "outputId": "431d8281-e861-4e97-c8b5-0dac42220ff0"
      },
      "outputs": [
        {
          "name": "stdout",
          "output_type": "stream",
          "text": [
            "  adding: results/ (stored 0%)\n",
            "  adding: results/bert-tiny_1337_history.json (deflated 92%)\n",
            "  adding: results/bert-tiny_1337_history.csv (deflated 79%)\n"
          ]
        }
      ],
      "source": [
        "!zip -r test_results.zip results"
      ]
    },
    {
      "cell_type": "code",
      "execution_count": null,
      "metadata": {
        "colab": {
          "base_uri": "https://localhost:8080/",
          "height": 1000
        },
        "execution": {
          "iopub.execute_input": "2023-01-19T18:14:00.843188Z",
          "iopub.status.busy": "2023-01-19T18:14:00.842840Z",
          "iopub.status.idle": "2023-01-19T18:14:00.861387Z",
          "shell.execute_reply": "2023-01-19T18:14:00.860149Z",
          "shell.execute_reply.started": "2023-01-19T18:14:00.843152Z"
        },
        "id": "WuX0FbSZu2ew",
        "outputId": "137cbdf6-62d6-4247-ae4c-7cc3f69d3375",
        "trusted": true
      },
      "outputs": [
        {
          "data": {
            "text/html": [
              "\n",
              "  <div id=\"df-29dac729-7f98-489b-a4e9-62ee84ecba24\">\n",
              "    <div class=\"colab-df-container\">\n",
              "      <div>\n",
              "<style scoped>\n",
              "    .dataframe tbody tr th:only-of-type {\n",
              "        vertical-align: middle;\n",
              "    }\n",
              "\n",
              "    .dataframe tbody tr th {\n",
              "        vertical-align: top;\n",
              "    }\n",
              "\n",
              "    .dataframe thead th {\n",
              "        text-align: right;\n",
              "    }\n",
              "</style>\n",
              "<table border=\"1\" class=\"dataframe\">\n",
              "  <thead>\n",
              "    <tr style=\"text-align: right;\">\n",
              "      <th></th>\n",
              "      <th>generated</th>\n",
              "      <th>answers</th>\n",
              "      <th>score</th>\n",
              "    </tr>\n",
              "  </thead>\n",
              "  <tbody>\n",
              "    <tr>\n",
              "      <th>0</th>\n",
              "      <td>white</td>\n",
              "      <td>white</td>\n",
              "      <td>1.000000</td>\n",
              "    </tr>\n",
              "    <tr>\n",
              "      <th>1</th>\n",
              "      <td>in the barn</td>\n",
              "      <td>in a barn</td>\n",
              "      <td>1.000000</td>\n",
              "    </tr>\n",
              "    <tr>\n",
              "      <th>2</th>\n",
              "      <td>yes</td>\n",
              "      <td>Yes</td>\n",
              "      <td>1.000000</td>\n",
              "    </tr>\n",
              "    <tr>\n",
              "      <th>3</th>\n",
              "      <td>yes</td>\n",
              "      <td>Yes</td>\n",
              "      <td>1.000000</td>\n",
              "    </tr>\n",
              "    <tr>\n",
              "      <th>4</th>\n",
              "      <td>yes</td>\n",
              "      <td>yes</td>\n",
              "      <td>1.000000</td>\n",
              "    </tr>\n",
              "    <tr>\n",
              "      <th>5</th>\n",
              "      <td>yes</td>\n",
              "      <td>Yes</td>\n",
              "      <td>1.000000</td>\n",
              "    </tr>\n",
              "    <tr>\n",
              "      <th>6</th>\n",
              "      <td>yes</td>\n",
              "      <td>Yes</td>\n",
              "      <td>1.000000</td>\n",
              "    </tr>\n",
              "    <tr>\n",
              "      <th>7</th>\n",
              "      <td>yes</td>\n",
              "      <td>Yes</td>\n",
              "      <td>1.000000</td>\n",
              "    </tr>\n",
              "    <tr>\n",
              "      <th>8</th>\n",
              "      <td>meat soup</td>\n",
              "      <td>hot soup and a container with rice, vegetables...</td>\n",
              "      <td>0.200000</td>\n",
              "    </tr>\n",
              "    <tr>\n",
              "      <th>9</th>\n",
              "      <td>yes</td>\n",
              "      <td>Yes</td>\n",
              "      <td>1.000000</td>\n",
              "    </tr>\n",
              "    <tr>\n",
              "      <th>10</th>\n",
              "      <td>yes</td>\n",
              "      <td>Yes.</td>\n",
              "      <td>1.000000</td>\n",
              "    </tr>\n",
              "    <tr>\n",
              "      <th>11</th>\n",
              "      <td>yes</td>\n",
              "      <td>Yes</td>\n",
              "      <td>1.000000</td>\n",
              "    </tr>\n",
              "    <tr>\n",
              "      <th>12</th>\n",
              "      <td>he was shot</td>\n",
              "      <td>Farina was cast in a film</td>\n",
              "      <td>0.250000</td>\n",
              "    </tr>\n",
              "    <tr>\n",
              "      <th>13</th>\n",
              "      <td>michael schumacher</td>\n",
              "      <td>Michael Mann</td>\n",
              "      <td>0.500000</td>\n",
              "    </tr>\n",
              "    <tr>\n",
              "      <th>14</th>\n",
              "      <td>he was shot</td>\n",
              "      <td>He joined a TV show cast.</td>\n",
              "      <td>0.250000</td>\n",
              "    </tr>\n",
              "    <tr>\n",
              "      <th>15</th>\n",
              "      <td>no</td>\n",
              "      <td>No</td>\n",
              "      <td>1.000000</td>\n",
              "    </tr>\n",
              "    <tr>\n",
              "      <th>16</th>\n",
              "      <td>the school.</td>\n",
              "      <td>school</td>\n",
              "      <td>1.000000</td>\n",
              "    </tr>\n",
              "    <tr>\n",
              "      <th>17</th>\n",
              "      <td>went to school</td>\n",
              "      <td>go to Quentin's house</td>\n",
              "      <td>0.285714</td>\n",
              "    </tr>\n",
              "    <tr>\n",
              "      <th>18</th>\n",
              "      <td>yes</td>\n",
              "      <td>yes</td>\n",
              "      <td>1.000000</td>\n",
              "    </tr>\n",
              "    <tr>\n",
              "      <th>19</th>\n",
              "      <td>new york</td>\n",
              "      <td>New York City</td>\n",
              "      <td>0.800000</td>\n",
              "    </tr>\n",
              "    <tr>\n",
              "      <th>20</th>\n",
              "      <td>new york</td>\n",
              "      <td>New York</td>\n",
              "      <td>1.000000</td>\n",
              "    </tr>\n",
              "    <tr>\n",
              "      <th>21</th>\n",
              "      <td>yes</td>\n",
              "      <td>Yes</td>\n",
              "      <td>1.000000</td>\n",
              "    </tr>\n",
              "    <tr>\n",
              "      <th>22</th>\n",
              "      <td>it is the city of new york</td>\n",
              "      <td>because the inhabitants feel neglected by the ...</td>\n",
              "      <td>0.153846</td>\n",
              "    </tr>\n",
              "    <tr>\n",
              "      <th>23</th>\n",
              "      <td>in the window</td>\n",
              "      <td>Five in the morning</td>\n",
              "      <td>0.400000</td>\n",
              "    </tr>\n",
              "    <tr>\n",
              "      <th>24</th>\n",
              "      <td>yes</td>\n",
              "      <td>Yes</td>\n",
              "      <td>1.000000</td>\n",
              "    </tr>\n",
              "    <tr>\n",
              "      <th>25</th>\n",
              "      <td>yes</td>\n",
              "      <td>Yes</td>\n",
              "      <td>1.000000</td>\n",
              "    </tr>\n",
              "    <tr>\n",
              "      <th>26</th>\n",
              "      <td>he was in a fortnight</td>\n",
              "      <td>suspect in the recent disappearance of an Amer...</td>\n",
              "      <td>0.181818</td>\n",
              "    </tr>\n",
              "    <tr>\n",
              "      <th>27</th>\n",
              "      <td>yes</td>\n",
              "      <td>yes</td>\n",
              "      <td>1.000000</td>\n",
              "    </tr>\n",
              "    <tr>\n",
              "      <th>28</th>\n",
              "      <td>to take care of them</td>\n",
              "      <td>posing over the bodies of dead Afghans</td>\n",
              "      <td>0.181818</td>\n",
              "    </tr>\n",
              "    <tr>\n",
              "      <th>29</th>\n",
              "      <td>the library of virginia universities</td>\n",
              "      <td>Online Computer Library Center</td>\n",
              "      <td>0.250000</td>\n",
              "    </tr>\n",
              "    <tr>\n",
              "      <th>30</th>\n",
              "      <td>yes</td>\n",
              "      <td>Yes</td>\n",
              "      <td>1.000000</td>\n",
              "    </tr>\n",
              "    <tr>\n",
              "      <th>31</th>\n",
              "      <td>the university of virginia</td>\n",
              "      <td>Ohio State University</td>\n",
              "      <td>0.333333</td>\n",
              "    </tr>\n",
              "    <tr>\n",
              "      <th>32</th>\n",
              "      <td>the library of virginia</td>\n",
              "      <td>Alden Library</td>\n",
              "      <td>0.400000</td>\n",
              "    </tr>\n",
              "    <tr>\n",
              "      <th>33</th>\n",
              "      <td>the university of virginia</td>\n",
              "      <td>Ohio University</td>\n",
              "      <td>0.400000</td>\n",
              "    </tr>\n",
              "    <tr>\n",
              "      <th>34</th>\n",
              "      <td>summer</td>\n",
              "      <td>summer</td>\n",
              "      <td>1.000000</td>\n",
              "    </tr>\n",
              "    <tr>\n",
              "      <th>35</th>\n",
              "      <td>no</td>\n",
              "      <td>No</td>\n",
              "      <td>1.000000</td>\n",
              "    </tr>\n",
              "    <tr>\n",
              "      <th>36</th>\n",
              "      <td>she didn't like a tree</td>\n",
              "      <td>She already has two blouses</td>\n",
              "      <td>0.222222</td>\n",
              "    </tr>\n",
              "    <tr>\n",
              "      <th>37</th>\n",
              "      <td>birthday</td>\n",
              "      <td>Mother's birthday</td>\n",
              "      <td>0.666667</td>\n",
              "    </tr>\n",
              "    <tr>\n",
              "      <th>38</th>\n",
              "      <td>in the lake</td>\n",
              "      <td>by a big lake by the woods</td>\n",
              "      <td>0.285714</td>\n",
              "    </tr>\n",
              "    <tr>\n",
              "      <th>39</th>\n",
              "      <td>yes</td>\n",
              "      <td>yes</td>\n",
              "      <td>1.000000</td>\n",
              "    </tr>\n",
              "    <tr>\n",
              "      <th>40</th>\n",
              "      <td>the hospital went to school</td>\n",
              "      <td>The hospital had been bombed.</td>\n",
              "      <td>0.250000</td>\n",
              "    </tr>\n",
              "    <tr>\n",
              "      <th>41</th>\n",
              "      <td>no</td>\n",
              "      <td>No</td>\n",
              "      <td>1.000000</td>\n",
              "    </tr>\n",
              "    <tr>\n",
              "      <th>42</th>\n",
              "      <td>yes</td>\n",
              "      <td>Yes, for twenty years</td>\n",
              "      <td>0.400000</td>\n",
              "    </tr>\n",
              "    <tr>\n",
              "      <th>43</th>\n",
              "      <td>yes</td>\n",
              "      <td>Yes</td>\n",
              "      <td>1.000000</td>\n",
              "    </tr>\n",
              "    <tr>\n",
              "      <th>44</th>\n",
              "      <td>yes</td>\n",
              "      <td>Yes, Franz does.</td>\n",
              "      <td>0.500000</td>\n",
              "    </tr>\n",
              "    <tr>\n",
              "      <th>45</th>\n",
              "      <td>he was sick</td>\n",
              "      <td>He assumed Hans was dead.</td>\n",
              "      <td>0.500000</td>\n",
              "    </tr>\n",
              "    <tr>\n",
              "      <th>46</th>\n",
              "      <td>the villa</td>\n",
              "      <td>Villa</td>\n",
              "      <td>1.000000</td>\n",
              "    </tr>\n",
              "    <tr>\n",
              "      <th>47</th>\n",
              "      <td>yes</td>\n",
              "      <td>Yes</td>\n",
              "      <td>1.000000</td>\n",
              "    </tr>\n",
              "    <tr>\n",
              "      <th>48</th>\n",
              "      <td>every week</td>\n",
              "      <td>every day</td>\n",
              "      <td>0.500000</td>\n",
              "    </tr>\n",
              "    <tr>\n",
              "      <th>49</th>\n",
              "      <td>ted</td>\n",
              "      <td>Ted,</td>\n",
              "      <td>1.000000</td>\n",
              "    </tr>\n",
              "  </tbody>\n",
              "</table>\n",
              "</div>\n",
              "      <button class=\"colab-df-convert\" onclick=\"convertToInteractive('df-29dac729-7f98-489b-a4e9-62ee84ecba24')\"\n",
              "              title=\"Convert this dataframe to an interactive table.\"\n",
              "              style=\"display:none;\">\n",
              "        \n",
              "  <svg xmlns=\"http://www.w3.org/2000/svg\" height=\"24px\"viewBox=\"0 0 24 24\"\n",
              "       width=\"24px\">\n",
              "    <path d=\"M0 0h24v24H0V0z\" fill=\"none\"/>\n",
              "    <path d=\"M18.56 5.44l.94 2.06.94-2.06 2.06-.94-2.06-.94-.94-2.06-.94 2.06-2.06.94zm-11 1L8.5 8.5l.94-2.06 2.06-.94-2.06-.94L8.5 2.5l-.94 2.06-2.06.94zm10 10l.94 2.06.94-2.06 2.06-.94-2.06-.94-.94-2.06-.94 2.06-2.06.94z\"/><path d=\"M17.41 7.96l-1.37-1.37c-.4-.4-.92-.59-1.43-.59-.52 0-1.04.2-1.43.59L10.3 9.45l-7.72 7.72c-.78.78-.78 2.05 0 2.83L4 21.41c.39.39.9.59 1.41.59.51 0 1.02-.2 1.41-.59l7.78-7.78 2.81-2.81c.8-.78.8-2.07 0-2.86zM5.41 20L4 18.59l7.72-7.72 1.47 1.35L5.41 20z\"/>\n",
              "  </svg>\n",
              "      </button>\n",
              "      \n",
              "  <style>\n",
              "    .colab-df-container {\n",
              "      display:flex;\n",
              "      flex-wrap:wrap;\n",
              "      gap: 12px;\n",
              "    }\n",
              "\n",
              "    .colab-df-convert {\n",
              "      background-color: #E8F0FE;\n",
              "      border: none;\n",
              "      border-radius: 50%;\n",
              "      cursor: pointer;\n",
              "      display: none;\n",
              "      fill: #1967D2;\n",
              "      height: 32px;\n",
              "      padding: 0 0 0 0;\n",
              "      width: 32px;\n",
              "    }\n",
              "\n",
              "    .colab-df-convert:hover {\n",
              "      background-color: #E2EBFA;\n",
              "      box-shadow: 0px 1px 2px rgba(60, 64, 67, 0.3), 0px 1px 3px 1px rgba(60, 64, 67, 0.15);\n",
              "      fill: #174EA6;\n",
              "    }\n",
              "\n",
              "    [theme=dark] .colab-df-convert {\n",
              "      background-color: #3B4455;\n",
              "      fill: #D2E3FC;\n",
              "    }\n",
              "\n",
              "    [theme=dark] .colab-df-convert:hover {\n",
              "      background-color: #434B5C;\n",
              "      box-shadow: 0px 1px 3px 1px rgba(0, 0, 0, 0.15);\n",
              "      filter: drop-shadow(0px 1px 2px rgba(0, 0, 0, 0.3));\n",
              "      fill: #FFFFFF;\n",
              "    }\n",
              "  </style>\n",
              "\n",
              "      <script>\n",
              "        const buttonEl =\n",
              "          document.querySelector('#df-29dac729-7f98-489b-a4e9-62ee84ecba24 button.colab-df-convert');\n",
              "        buttonEl.style.display =\n",
              "          google.colab.kernel.accessAllowed ? 'block' : 'none';\n",
              "\n",
              "        async function convertToInteractive(key) {\n",
              "          const element = document.querySelector('#df-29dac729-7f98-489b-a4e9-62ee84ecba24');\n",
              "          const dataTable =\n",
              "            await google.colab.kernel.invokeFunction('convertToInteractive',\n",
              "                                                     [key], {});\n",
              "          if (!dataTable) return;\n",
              "\n",
              "          const docLinkHtml = 'Like what you see? Visit the ' +\n",
              "            '<a target=\"_blank\" href=https://colab.research.google.com/notebooks/data_table.ipynb>data table notebook</a>'\n",
              "            + ' to learn more about interactive tables.';\n",
              "          element.innerHTML = '';\n",
              "          dataTable['output_type'] = 'display_data';\n",
              "          await google.colab.output.renderOutput(dataTable, element);\n",
              "          const docLink = document.createElement('div');\n",
              "          docLink.innerHTML = docLinkHtml;\n",
              "          element.appendChild(docLink);\n",
              "        }\n",
              "      </script>\n",
              "    </div>\n",
              "  </div>\n",
              "  "
            ],
            "text/plain": [
              "                               generated  \\\n",
              "0                                  white   \n",
              "1                            in the barn   \n",
              "2                                    yes   \n",
              "3                                    yes   \n",
              "4                                    yes   \n",
              "5                                    yes   \n",
              "6                                    yes   \n",
              "7                                    yes   \n",
              "8                              meat soup   \n",
              "9                                    yes   \n",
              "10                                   yes   \n",
              "11                                   yes   \n",
              "12                           he was shot   \n",
              "13                    michael schumacher   \n",
              "14                           he was shot   \n",
              "15                                    no   \n",
              "16                           the school.   \n",
              "17                        went to school   \n",
              "18                                   yes   \n",
              "19                              new york   \n",
              "20                              new york   \n",
              "21                                   yes   \n",
              "22            it is the city of new york   \n",
              "23                         in the window   \n",
              "24                                   yes   \n",
              "25                                   yes   \n",
              "26                 he was in a fortnight   \n",
              "27                                   yes   \n",
              "28                  to take care of them   \n",
              "29  the library of virginia universities   \n",
              "30                                   yes   \n",
              "31            the university of virginia   \n",
              "32               the library of virginia   \n",
              "33            the university of virginia   \n",
              "34                                summer   \n",
              "35                                    no   \n",
              "36                she didn't like a tree   \n",
              "37                              birthday   \n",
              "38                           in the lake   \n",
              "39                                   yes   \n",
              "40           the hospital went to school   \n",
              "41                                    no   \n",
              "42                                   yes   \n",
              "43                                   yes   \n",
              "44                                   yes   \n",
              "45                           he was sick   \n",
              "46                             the villa   \n",
              "47                                   yes   \n",
              "48                            every week   \n",
              "49                                   ted   \n",
              "\n",
              "                                              answers     score  \n",
              "0                                               white  1.000000  \n",
              "1                                           in a barn  1.000000  \n",
              "2                                                 Yes  1.000000  \n",
              "3                                                 Yes  1.000000  \n",
              "4                                                 yes  1.000000  \n",
              "5                                                 Yes  1.000000  \n",
              "6                                                 Yes  1.000000  \n",
              "7                                                 Yes  1.000000  \n",
              "8   hot soup and a container with rice, vegetables...  0.200000  \n",
              "9                                                 Yes  1.000000  \n",
              "10                                               Yes.  1.000000  \n",
              "11                                                Yes  1.000000  \n",
              "12                          Farina was cast in a film  0.250000  \n",
              "13                                       Michael Mann  0.500000  \n",
              "14                          He joined a TV show cast.  0.250000  \n",
              "15                                                 No  1.000000  \n",
              "16                                             school  1.000000  \n",
              "17                              go to Quentin's house  0.285714  \n",
              "18                                                yes  1.000000  \n",
              "19                                      New York City  0.800000  \n",
              "20                                           New York  1.000000  \n",
              "21                                                Yes  1.000000  \n",
              "22  because the inhabitants feel neglected by the ...  0.153846  \n",
              "23                                Five in the morning  0.400000  \n",
              "24                                                Yes  1.000000  \n",
              "25                                                Yes  1.000000  \n",
              "26  suspect in the recent disappearance of an Amer...  0.181818  \n",
              "27                                                yes  1.000000  \n",
              "28             posing over the bodies of dead Afghans  0.181818  \n",
              "29                     Online Computer Library Center  0.250000  \n",
              "30                                                Yes  1.000000  \n",
              "31                              Ohio State University  0.333333  \n",
              "32                                      Alden Library  0.400000  \n",
              "33                                    Ohio University  0.400000  \n",
              "34                                             summer  1.000000  \n",
              "35                                                 No  1.000000  \n",
              "36                        She already has two blouses  0.222222  \n",
              "37                                  Mother's birthday  0.666667  \n",
              "38                         by a big lake by the woods  0.285714  \n",
              "39                                                yes  1.000000  \n",
              "40                      The hospital had been bombed.  0.250000  \n",
              "41                                                 No  1.000000  \n",
              "42                              Yes, for twenty years  0.400000  \n",
              "43                                                Yes  1.000000  \n",
              "44                                   Yes, Franz does.  0.500000  \n",
              "45                          He assumed Hans was dead.  0.500000  \n",
              "46                                              Villa  1.000000  \n",
              "47                                                Yes  1.000000  \n",
              "48                                          every day  0.500000  \n",
              "49                                               Ted,  1.000000  "
            ]
          },
          "execution_count": 74,
          "metadata": {},
          "output_type": "execute_result"
        }
      ],
      "source": [
        "pd.set_option('display.max_rows', None)\n",
        "#correct_answers = df_generated[df_generated['score'] != 0].reset_index(drop=True).sort_values('score',ascending=False)\n",
        "correct_answers = df_generated[df_generated['score'] != 0].reset_index(drop=True)\n",
        "correct_answers.head(50)"
      ]
    },
    {
      "cell_type": "markdown",
      "metadata": {
        "id": "JmviMChy1mPq"
      },
      "source": [
        "## Conclusions"
      ]
    },
    {
      "cell_type": "markdown",
      "metadata": {
        "id": "rcoqbtQXcHpQ"
      },
      "source": [
        "In this section we compute the error analysis task for every model(so the combination model_name-seed-history), but considering only the seed for which it has the worst SQUAD F1-score on test set. So we will consider the following four models:\n",
        "- bert-tiny, no history, 1337, 17.013\n",
        "- bert-tiny, history, 1337, 16.160\n",
        "- distil-roberta, no history, 42, 50.074\n",
        "- distil-roberta, history, 1337, 57.102  \n",
        "For each of these models, we will report the worst 5 model errors for each source."
      ]
    },
    {
      "attachments": {},
      "cell_type": "markdown",
      "metadata": {
        "id": "Xa5iW0RFw02Z"
      },
      "source": [
        "#### Printing the 5 worst errors for each model"
      ]
    },
    {
      "cell_type": "code",
      "execution_count": 51,
      "metadata": {
        "id": "NfieTpYdw02a"
      },
      "outputs": [],
      "source": [
        "selected_models = [ {\n",
        "                        'model_name': BERT_TINY,\n",
        "                        'seed': 1337,\n",
        "                        'history': False\n",
        "                    },\n",
        "                    {\n",
        "                        'model_name': BERT_TINY,\n",
        "                        'seed': 1337,\n",
        "                        'history': True\n",
        "                    },\n",
        "                    {\n",
        "                        'model_name': DISTIL_ROBERTA,\n",
        "                        'seed': 42,\n",
        "                        'history': False\n",
        "                    },\n",
        "                    {\n",
        "                        'model_name': DISTIL_ROBERTA,\n",
        "                        'seed': 1337,\n",
        "                        'history': True\n",
        "                    }]"
      ]
    },
    {
      "cell_type": "code",
      "execution_count": 52,
      "metadata": {
        "id": "BVACK46xw02b"
      },
      "outputs": [],
      "source": [
        "def get_worst_errors(df: pd.DataFrame, model_name: str, num_errors: int):\n",
        "    '''\n",
        "    Given a dataframe loaded with the results_from_json() method, returns a filtered and ordered dataframe of the 5 worst errors for each source, for the given model\n",
        "        \n",
        "    Args:\n",
        "        df: DataFrame generated by predictions of a model\n",
        "        model_name: name of the model tested. Models can have different ENCODER_MAX_LENGTH\n",
        "        num_errors: number of errors to return\n",
        "    '''\n",
        "    \n",
        "    sources = df['source'].unique()\n",
        "    errors = pd.DataFrame(columns=df.columns)\n",
        "\n",
        "    for source in sources:\n",
        "        errors_source = df[df['source'] == source].sort_values(by='score', ascending=True)\n",
        "        errors = pd.concat([errors, errors_source[:5]], axis=0)\n",
        "\n",
        "    return errors"
      ]
    },
    {
      "cell_type": "code",
      "execution_count": 53,
      "metadata": {
        "id": "_8ar4J-cw02f",
        "outputId": "5b3e6e8b-98e4-444d-da7a-b286f65a4367"
      },
      "outputs": [
        {
          "name": "stdout",
          "output_type": "stream",
          "text": [
            "{'model_name': 'prajjwal1/bert-tiny', 'seed': 1337, 'history': False}\n"
          ]
        },
        {
          "data": {
            "text/html": [
              "<div>\n",
              "<style scoped>\n",
              "    .dataframe tbody tr th:only-of-type {\n",
              "        vertical-align: middle;\n",
              "    }\n",
              "\n",
              "    .dataframe tbody tr th {\n",
              "        vertical-align: top;\n",
              "    }\n",
              "\n",
              "    .dataframe thead th {\n",
              "        text-align: right;\n",
              "    }\n",
              "</style>\n",
              "<table border=\"1\" class=\"dataframe\">\n",
              "  <thead>\n",
              "    <tr style=\"text-align: right;\">\n",
              "      <th></th>\n",
              "      <th>source</th>\n",
              "      <th>p</th>\n",
              "      <th>q</th>\n",
              "      <th>a</th>\n",
              "      <th>span</th>\n",
              "      <th>history</th>\n",
              "      <th>generated</th>\n",
              "      <th>score</th>\n",
              "    </tr>\n",
              "  </thead>\n",
              "  <tbody>\n",
              "    <tr>\n",
              "      <th>0</th>\n",
              "      <td>mctest</td>\n",
              "      <td>once upon a time, in a barn near a farm house,...</td>\n",
              "      <td>what color was cotton?</td>\n",
              "      <td>white</td>\n",
              "      <td>a little white kitten named cotton</td>\n",
              "      <td></td>\n",
              "      <td>pink</td>\n",
              "      <td>0.0</td>\n",
              "    </tr>\n",
              "    <tr>\n",
              "      <th>4923</th>\n",
              "      <td>mctest</td>\n",
              "      <td>scott alan woke up very early that morning in ...</td>\n",
              "      <td>where did it take him?</td>\n",
              "      <td>down stream</td>\n",
              "      <td>down stream</td>\n",
              "      <td>what happened to the animal all of a sudden? ...</td>\n",
              "      <td>in the door</td>\n",
              "      <td>0.0</td>\n",
              "    </tr>\n",
              "    <tr>\n",
              "      <th>4922</th>\n",
              "      <td>mctest</td>\n",
              "      <td>scott alan woke up very early that morning in ...</td>\n",
              "      <td>what happened to the animal all of a sudden?</td>\n",
              "      <td>it fell in the water</td>\n",
              "      <td>fell in the water</td>\n",
              "      <td>did scott get off his bike? yes. what did the...</td>\n",
              "      <td>a dog</td>\n",
              "      <td>0.0</td>\n",
              "    </tr>\n",
              "    <tr>\n",
              "      <th>4920</th>\n",
              "      <td>mctest</td>\n",
              "      <td>scott alan woke up very early that morning in ...</td>\n",
              "      <td>what did the animal start doing?</td>\n",
              "      <td>barking</td>\n",
              "      <td>barking</td>\n",
              "      <td>what was it near? the river. where at? by the...</td>\n",
              "      <td>chewing</td>\n",
              "      <td>0.0</td>\n",
              "    </tr>\n",
              "    <tr>\n",
              "      <th>4919</th>\n",
              "      <td>mctest</td>\n",
              "      <td>scott alan woke up very early that morning in ...</td>\n",
              "      <td>what was it near?</td>\n",
              "      <td>the river</td>\n",
              "      <td>the river</td>\n",
              "      <td>where at? by the park. what did scott want to...</td>\n",
              "      <td>a dog</td>\n",
              "      <td>0.0</td>\n",
              "    </tr>\n",
              "    <tr>\n",
              "      <th>21</th>\n",
              "      <td>race</td>\n",
              "      <td>my doorbell rings. on the step, i find the eld...</td>\n",
              "      <td>who is at the door?</td>\n",
              "      <td>an elderly chinese lady and a little boy</td>\n",
              "      <td>on the step, i find the elderly chinese lady, ...</td>\n",
              "      <td></td>\n",
              "      <td>her mother</td>\n",
              "      <td>0.0</td>\n",
              "    </tr>\n",
              "    <tr>\n",
              "      <th>5647</th>\n",
              "      <td>race</td>\n",
              "      <td>a new study suggests that early exposure to ge...</td>\n",
              "      <td>and what else?</td>\n",
              "      <td>let kids play in a reasonable amount of dirt</td>\n",
              "      <td>let your kids play in a reasonable amount of dirt</td>\n",
              "      <td>what should we do? wash your hands , but don'...</td>\n",
              "      <td>the animal</td>\n",
              "      <td>0.0</td>\n",
              "    </tr>\n",
              "    <tr>\n",
              "      <th>5646</th>\n",
              "      <td>race</td>\n",
              "      <td>a new study suggests that early exposure to ge...</td>\n",
              "      <td>what should we do?</td>\n",
              "      <td>wash your hands , but don't do it with antibac...</td>\n",
              "      <td>wash your hands , but don't do it with antibac...</td>\n",
              "      <td>who says? rob dunn. so, should we stop washin...</td>\n",
              "      <td>get a group of animals</td>\n",
              "      <td>0.0</td>\n",
              "    </tr>\n",
              "    <tr>\n",
              "      <th>5645</th>\n",
              "      <td>race</td>\n",
              "      <td>a new study suggests that early exposure to ge...</td>\n",
              "      <td>who says?</td>\n",
              "      <td>rob dunn</td>\n",
              "      <td>rob dunn</td>\n",
              "      <td>so, should we stop washing our kids? no. what...</td>\n",
              "      <td>william bush</td>\n",
              "      <td>0.0</td>\n",
              "    </tr>\n",
              "    <tr>\n",
              "      <th>5644</th>\n",
              "      <td>race</td>\n",
              "      <td>a new study suggests that early exposure to ge...</td>\n",
              "      <td>so, should we stop washing our kids?</td>\n",
              "      <td>no</td>\n",
              "      <td>does not mean people should stop washing</td>\n",
              "      <td>what caused inflammation in the lungs? killer...</td>\n",
              "      <td>yes</td>\n",
              "      <td>0.0</td>\n",
              "    </tr>\n",
              "    <tr>\n",
              "      <th>4104</th>\n",
              "      <td>cnn</td>\n",
              "      <td>sydney (cnn) -- kevin rudd and tony abbott, th...</td>\n",
              "      <td>what does john howard think of abbott?</td>\n",
              "      <td>understood that you could make a new friend wi...</td>\n",
              "      <td>understood that you could make a new friend wi...</td>\n",
              "      <td>what did abbot say in his speech in beijing? ...</td>\n",
              "      <td>the united nations</td>\n",
              "      <td>0.0</td>\n",
              "    </tr>\n",
              "    <tr>\n",
              "      <th>4984</th>\n",
              "      <td>cnn</td>\n",
              "      <td>(the frisky) -- by t-minus 18 days until the o...</td>\n",
              "      <td>whs she bit unruly?</td>\n",
              "      <td>yes.</td>\n",
              "      <td>edith piaf, an extremely popular singer in fra...</td>\n",
              "      <td>where? france.. who was she? a singer.. what ...</td>\n",
              "      <td>no</td>\n",
              "      <td>0.0</td>\n",
              "    </tr>\n",
              "    <tr>\n",
              "      <th>4983</th>\n",
              "      <td>cnn</td>\n",
              "      <td>(the frisky) -- by t-minus 18 days until the o...</td>\n",
              "      <td>where?</td>\n",
              "      <td>france.</td>\n",
              "      <td>edith piaf, an extremely popular singer in france</td>\n",
              "      <td>who was she? a singer.. what was here charact...</td>\n",
              "      <td>new york</td>\n",
              "      <td>0.0</td>\n",
              "    </tr>\n",
              "    <tr>\n",
              "      <th>4982</th>\n",
              "      <td>cnn</td>\n",
              "      <td>(the frisky) -- by t-minus 18 days until the o...</td>\n",
              "      <td>who was she?</td>\n",
              "      <td>a singer.</td>\n",
              "      <td>edith piaf, an extremely popular singer in france</td>\n",
              "      <td>what was here character? edith piaf.. what wa...</td>\n",
              "      <td>oscar ortega</td>\n",
              "      <td>0.0</td>\n",
              "    </tr>\n",
              "    <tr>\n",
              "      <th>4981</th>\n",
              "      <td>cnn</td>\n",
              "      <td>(the frisky) -- by t-minus 18 days until the o...</td>\n",
              "      <td>what was here character?</td>\n",
              "      <td>edith piaf.</td>\n",
              "      <td>in the movie, she played edith piaf, an extrem...</td>\n",
              "      <td>what was the film? la vie en rose.. who got t...</td>\n",
              "      <td>\" a girl</td>\n",
              "      <td>0.0</td>\n",
              "    </tr>\n",
              "    <tr>\n",
              "      <th>74</th>\n",
              "      <td>wikipedia</td>\n",
              "      <td>staten island is one of the five boroughs of n...</td>\n",
              "      <td>how many burroughs are there?</td>\n",
              "      <td>five</td>\n",
              "      <td>five</td>\n",
              "      <td></td>\n",
              "      <td>three</td>\n",
              "      <td>0.0</td>\n",
              "    </tr>\n",
              "    <tr>\n",
              "      <th>5006</th>\n",
              "      <td>wikipedia</td>\n",
              "      <td>yorkshire ( or ; abbreviated yorks), formally ...</td>\n",
              "      <td>what organization recognized it</td>\n",
              "      <td>the flag institute</td>\n",
              "      <td>the flag institute</td>\n",
              "      <td>how many years was it used before it was fina...</td>\n",
              "      <td>the united nations</td>\n",
              "      <td>0.0</td>\n",
              "    </tr>\n",
              "    <tr>\n",
              "      <th>5005</th>\n",
              "      <td>wikipedia</td>\n",
              "      <td>yorkshire ( or ; abbreviated yorks), formally ...</td>\n",
              "      <td>how many years was it used before it was final...</td>\n",
              "      <td>fifty years</td>\n",
              "      <td>y fifty years</td>\n",
              "      <td>what does their flag look like the white rose...</td>\n",
              "      <td>three</td>\n",
              "      <td>0.0</td>\n",
              "    </tr>\n",
              "    <tr>\n",
              "      <th>5004</th>\n",
              "      <td>wikipedia</td>\n",
              "      <td>yorkshire ( or ; abbreviated yorks), formally ...</td>\n",
              "      <td>what does their flag look like</td>\n",
              "      <td>the white rose on a blue background</td>\n",
              "      <td>the white rose on a blue background</td>\n",
              "      <td>what is the emblem of the country the white r...</td>\n",
              "      <td>\" the united states</td>\n",
              "      <td>0.0</td>\n",
              "    </tr>\n",
              "    <tr>\n",
              "      <th>4906</th>\n",
              "      <td>wikipedia</td>\n",
              "      <td>sports illustrated is an american sports media...</td>\n",
              "      <td>what did people think of sports journalism then?</td>\n",
              "      <td>many believed sports was beneath the attention...</td>\n",
              "      <td>many believed sports was beneath the attention...</td>\n",
              "      <td>who worked for time magazine? henry luce. how...</td>\n",
              "      <td>a big stranger's world</td>\n",
              "      <td>0.0</td>\n",
              "    </tr>\n",
              "    <tr>\n",
              "      <th>207</th>\n",
              "      <td>gutenberg</td>\n",
              "      <td>chapter xxii \\n\\nnorthward, along the leeward ...</td>\n",
              "      <td>what worked her way northward?</td>\n",
              "      <td>the _ariel_</td>\n",
              "      <td>northward, along the leeward coast of malaita,...</td>\n",
              "      <td></td>\n",
              "      <td>a ship</td>\n",
              "      <td>0.0</td>\n",
              "    </tr>\n",
              "    <tr>\n",
              "      <th>4484</th>\n",
              "      <td>gutenberg</td>\n",
              "      <td>chapter xiii. st. valentine's day \\n\\n\\n\\nmiss...</td>\n",
              "      <td>and what was she presently sure of?</td>\n",
              "      <td>there must be no going back to silverfold for ...</td>\n",
              "      <td>all that she was clear about, and which she ha...</td>\n",
              "      <td>who did she send message to? aden. and would ...</td>\n",
              "      <td>a letter</td>\n",
              "      <td>0.0</td>\n",
              "    </tr>\n",
              "    <tr>\n",
              "      <th>4483</th>\n",
              "      <td>gutenberg</td>\n",
              "      <td>chapter xiii. st. valentine's day \\n\\n\\n\\nmiss...</td>\n",
              "      <td>who did she send message to?</td>\n",
              "      <td>aden</td>\n",
              "      <td>she had telegraphed to aden</td>\n",
              "      <td>and would would they act on? whether to retai...</td>\n",
              "      <td>madame</td>\n",
              "      <td>0.0</td>\n",
              "    </tr>\n",
              "    <tr>\n",
              "      <th>4482</th>\n",
              "      <td>gutenberg</td>\n",
              "      <td>chapter xiii. st. valentine's day \\n\\n\\n\\nmiss...</td>\n",
              "      <td>and would would they act on?</td>\n",
              "      <td>whether to retain the house or not</td>\n",
              "      <td>nothing could be done till sir jasper came hom...</td>\n",
              "      <td>who did they have to wait for before acting? ...</td>\n",
              "      <td>no</td>\n",
              "      <td>0.0</td>\n",
              "    </tr>\n",
              "    <tr>\n",
              "      <th>4481</th>\n",
              "      <td>gutenberg</td>\n",
              "      <td>chapter xiii. st. valentine's day \\n\\n\\n\\nmiss...</td>\n",
              "      <td>who did they have to wait for before acting?</td>\n",
              "      <td>sir jasper</td>\n",
              "      <td>nothing could be done till sir jasper came home</td>\n",
              "      <td>after how long? after a long day. who returne...</td>\n",
              "      <td>miss mohun</td>\n",
              "      <td>0.0</td>\n",
              "    </tr>\n",
              "  </tbody>\n",
              "</table>\n",
              "</div>"
            ],
            "text/plain": [
              "         source                                                  p  \\\n",
              "0        mctest  once upon a time, in a barn near a farm house,...   \n",
              "4923     mctest  scott alan woke up very early that morning in ...   \n",
              "4922     mctest  scott alan woke up very early that morning in ...   \n",
              "4920     mctest  scott alan woke up very early that morning in ...   \n",
              "4919     mctest  scott alan woke up very early that morning in ...   \n",
              "21         race  my doorbell rings. on the step, i find the eld...   \n",
              "5647       race  a new study suggests that early exposure to ge...   \n",
              "5646       race  a new study suggests that early exposure to ge...   \n",
              "5645       race  a new study suggests that early exposure to ge...   \n",
              "5644       race  a new study suggests that early exposure to ge...   \n",
              "4104        cnn  sydney (cnn) -- kevin rudd and tony abbott, th...   \n",
              "4984        cnn  (the frisky) -- by t-minus 18 days until the o...   \n",
              "4983        cnn  (the frisky) -- by t-minus 18 days until the o...   \n",
              "4982        cnn  (the frisky) -- by t-minus 18 days until the o...   \n",
              "4981        cnn  (the frisky) -- by t-minus 18 days until the o...   \n",
              "74    wikipedia  staten island is one of the five boroughs of n...   \n",
              "5006  wikipedia  yorkshire ( or ; abbreviated yorks), formally ...   \n",
              "5005  wikipedia  yorkshire ( or ; abbreviated yorks), formally ...   \n",
              "5004  wikipedia  yorkshire ( or ; abbreviated yorks), formally ...   \n",
              "4906  wikipedia  sports illustrated is an american sports media...   \n",
              "207   gutenberg  chapter xxii \\n\\nnorthward, along the leeward ...   \n",
              "4484  gutenberg  chapter xiii. st. valentine's day \\n\\n\\n\\nmiss...   \n",
              "4483  gutenberg  chapter xiii. st. valentine's day \\n\\n\\n\\nmiss...   \n",
              "4482  gutenberg  chapter xiii. st. valentine's day \\n\\n\\n\\nmiss...   \n",
              "4481  gutenberg  chapter xiii. st. valentine's day \\n\\n\\n\\nmiss...   \n",
              "\n",
              "                                                      q  \\\n",
              "0                                what color was cotton?   \n",
              "4923                             where did it take him?   \n",
              "4922       what happened to the animal all of a sudden?   \n",
              "4920                   what did the animal start doing?   \n",
              "4919                                  what was it near?   \n",
              "21                                  who is at the door?   \n",
              "5647                                     and what else?   \n",
              "5646                                 what should we do?   \n",
              "5645                                          who says?   \n",
              "5644               so, should we stop washing our kids?   \n",
              "4104             what does john howard think of abbott?   \n",
              "4984                                whs she bit unruly?   \n",
              "4983                                             where?   \n",
              "4982                                       who was she?   \n",
              "4981                           what was here character?   \n",
              "74                        how many burroughs are there?   \n",
              "5006                    what organization recognized it   \n",
              "5005  how many years was it used before it was final...   \n",
              "5004                     what does their flag look like   \n",
              "4906   what did people think of sports journalism then?   \n",
              "207                      what worked her way northward?   \n",
              "4484                and what was she presently sure of?   \n",
              "4483                       who did she send message to?   \n",
              "4482                       and would would they act on?   \n",
              "4481       who did they have to wait for before acting?   \n",
              "\n",
              "                                                      a  \\\n",
              "0                                                 white   \n",
              "4923                                        down stream   \n",
              "4922                               it fell in the water   \n",
              "4920                                            barking   \n",
              "4919                                          the river   \n",
              "21             an elderly chinese lady and a little boy   \n",
              "5647       let kids play in a reasonable amount of dirt   \n",
              "5646  wash your hands , but don't do it with antibac...   \n",
              "5645                                           rob dunn   \n",
              "5644                                                 no   \n",
              "4104  understood that you could make a new friend wi...   \n",
              "4984                                               yes.   \n",
              "4983                                            france.   \n",
              "4982                                          a singer.   \n",
              "4981                                        edith piaf.   \n",
              "74                                                 five   \n",
              "5006                                 the flag institute   \n",
              "5005                                        fifty years   \n",
              "5004                the white rose on a blue background   \n",
              "4906  many believed sports was beneath the attention...   \n",
              "207                                         the _ariel_   \n",
              "4484  there must be no going back to silverfold for ...   \n",
              "4483                                               aden   \n",
              "4482                 whether to retain the house or not   \n",
              "4481                                         sir jasper   \n",
              "\n",
              "                                                   span  \\\n",
              "0                    a little white kitten named cotton   \n",
              "4923                                        down stream   \n",
              "4922                                  fell in the water   \n",
              "4920                                           barking    \n",
              "4919                                          the river   \n",
              "21    on the step, i find the elderly chinese lady, ...   \n",
              "5647  let your kids play in a reasonable amount of dirt   \n",
              "5646  wash your hands , but don't do it with antibac...   \n",
              "5645                                           rob dunn   \n",
              "5644           does not mean people should stop washing   \n",
              "4104  understood that you could make a new friend wi...   \n",
              "4984  edith piaf, an extremely popular singer in fra...   \n",
              "4983  edith piaf, an extremely popular singer in france   \n",
              "4982  edith piaf, an extremely popular singer in france   \n",
              "4981  in the movie, she played edith piaf, an extrem...   \n",
              "74                                                 five   \n",
              "5006                                 the flag institute   \n",
              "5005                                      y fifty years   \n",
              "5004                the white rose on a blue background   \n",
              "4906  many believed sports was beneath the attention...   \n",
              "207   northward, along the leeward coast of malaita,...   \n",
              "4484  all that she was clear about, and which she ha...   \n",
              "4483                        she had telegraphed to aden   \n",
              "4482  nothing could be done till sir jasper came hom...   \n",
              "4481   nothing could be done till sir jasper came home    \n",
              "\n",
              "                                                history  \\\n",
              "0                                                         \n",
              "4923   what happened to the animal all of a sudden? ...   \n",
              "4922   did scott get off his bike? yes. what did the...   \n",
              "4920   what was it near? the river. where at? by the...   \n",
              "4919   where at? by the park. what did scott want to...   \n",
              "21                                                        \n",
              "5647   what should we do? wash your hands , but don'...   \n",
              "5646   who says? rob dunn. so, should we stop washin...   \n",
              "5645   so, should we stop washing our kids? no. what...   \n",
              "5644   what caused inflammation in the lungs? killer...   \n",
              "4104   what did abbot say in his speech in beijing? ...   \n",
              "4984   where? france.. who was she? a singer.. what ...   \n",
              "4983   who was she? a singer.. what was here charact...   \n",
              "4982   what was here character? edith piaf.. what wa...   \n",
              "4981   what was the film? la vie en rose.. who got t...   \n",
              "74                                                        \n",
              "5006   how many years was it used before it was fina...   \n",
              "5005   what does their flag look like the white rose...   \n",
              "5004   what is the emblem of the country the white r...   \n",
              "4906   who worked for time magazine? henry luce. how...   \n",
              "207                                                       \n",
              "4484   who did she send message to? aden. and would ...   \n",
              "4483   and would would they act on? whether to retai...   \n",
              "4482   who did they have to wait for before acting? ...   \n",
              "4481   after how long? after a long day. who returne...   \n",
              "\n",
              "                   generated  score  \n",
              "0                       pink    0.0  \n",
              "4923             in the door    0.0  \n",
              "4922                   a dog    0.0  \n",
              "4920                 chewing    0.0  \n",
              "4919                   a dog    0.0  \n",
              "21                her mother    0.0  \n",
              "5647              the animal    0.0  \n",
              "5646  get a group of animals    0.0  \n",
              "5645            william bush    0.0  \n",
              "5644                     yes    0.0  \n",
              "4104      the united nations    0.0  \n",
              "4984                      no    0.0  \n",
              "4983                new york    0.0  \n",
              "4982            oscar ortega    0.0  \n",
              "4981                \" a girl    0.0  \n",
              "74                     three    0.0  \n",
              "5006      the united nations    0.0  \n",
              "5005                   three    0.0  \n",
              "5004     \" the united states    0.0  \n",
              "4906  a big stranger's world    0.0  \n",
              "207                   a ship    0.0  \n",
              "4484                a letter    0.0  \n",
              "4483                  madame    0.0  \n",
              "4482                      no    0.0  \n",
              "4481              miss mohun    0.0  "
            ]
          },
          "metadata": {},
          "output_type": "display_data"
        },
        {
          "name": "stdout",
          "output_type": "stream",
          "text": [
            "{'model_name': 'prajjwal1/bert-tiny', 'seed': 1337, 'history': True}\n"
          ]
        },
        {
          "data": {
            "text/html": [
              "<div>\n",
              "<style scoped>\n",
              "    .dataframe tbody tr th:only-of-type {\n",
              "        vertical-align: middle;\n",
              "    }\n",
              "\n",
              "    .dataframe tbody tr th {\n",
              "        vertical-align: top;\n",
              "    }\n",
              "\n",
              "    .dataframe thead th {\n",
              "        text-align: right;\n",
              "    }\n",
              "</style>\n",
              "<table border=\"1\" class=\"dataframe\">\n",
              "  <thead>\n",
              "    <tr style=\"text-align: right;\">\n",
              "      <th></th>\n",
              "      <th>source</th>\n",
              "      <th>p</th>\n",
              "      <th>q</th>\n",
              "      <th>a</th>\n",
              "      <th>span</th>\n",
              "      <th>history</th>\n",
              "      <th>generated</th>\n",
              "      <th>score</th>\n",
              "    </tr>\n",
              "  </thead>\n",
              "  <tbody>\n",
              "    <tr>\n",
              "      <th>0</th>\n",
              "      <td>mctest</td>\n",
              "      <td>once upon a time, in a barn near a farm house,...</td>\n",
              "      <td>what color was cotton?</td>\n",
              "      <td>white</td>\n",
              "      <td>a little white kitten named cotton</td>\n",
              "      <td></td>\n",
              "      <td>pink</td>\n",
              "      <td>0.0</td>\n",
              "    </tr>\n",
              "    <tr>\n",
              "      <th>4915</th>\n",
              "      <td>mctest</td>\n",
              "      <td>scott alan woke up very early that morning in ...</td>\n",
              "      <td>how long had they known each other?</td>\n",
              "      <td>as long as he could remember</td>\n",
              "      <td>as long as could remember</td>\n",
              "      <td>what color was he? brown. what was the dog's ...</td>\n",
              "      <td>two years</td>\n",
              "      <td>0.0</td>\n",
              "    </tr>\n",
              "    <tr>\n",
              "      <th>4914</th>\n",
              "      <td>mctest</td>\n",
              "      <td>scott alan woke up very early that morning in ...</td>\n",
              "      <td>what color was he?</td>\n",
              "      <td>brown</td>\n",
              "      <td>brown</td>\n",
              "      <td>what was the dog's name? boscoe. what was it ...</td>\n",
              "      <td>pink</td>\n",
              "      <td>0.0</td>\n",
              "    </tr>\n",
              "    <tr>\n",
              "      <th>4913</th>\n",
              "      <td>mctest</td>\n",
              "      <td>scott alan woke up very early that morning in ...</td>\n",
              "      <td>what was the dog's name?</td>\n",
              "      <td>boscoe</td>\n",
              "      <td>boscoe</td>\n",
              "      <td>what was it doing? licking. what was touching...</td>\n",
              "      <td>a dog</td>\n",
              "      <td>0.0</td>\n",
              "    </tr>\n",
              "    <tr>\n",
              "      <th>4912</th>\n",
              "      <td>mctest</td>\n",
              "      <td>scott alan woke up very early that morning in ...</td>\n",
              "      <td>what was it doing?</td>\n",
              "      <td>licking</td>\n",
              "      <td>licked</td>\n",
              "      <td>what was touching him that made him awake? a ...</td>\n",
              "      <td>sitting</td>\n",
              "      <td>0.0</td>\n",
              "    </tr>\n",
              "    <tr>\n",
              "      <th>21</th>\n",
              "      <td>race</td>\n",
              "      <td>my doorbell rings. on the step, i find the eld...</td>\n",
              "      <td>who is at the door?</td>\n",
              "      <td>an elderly chinese lady and a little boy</td>\n",
              "      <td>on the step, i find the elderly chinese lady, ...</td>\n",
              "      <td></td>\n",
              "      <td>her mother</td>\n",
              "      <td>0.0</td>\n",
              "    </tr>\n",
              "    <tr>\n",
              "      <th>5730</th>\n",
              "      <td>race</td>\n",
              "      <td>george washington carver showed that plant lif...</td>\n",
              "      <td>what was carver's full name?</td>\n",
              "      <td>george washington carver</td>\n",
              "      <td>george washington carver</td>\n",
              "      <td>what is chemurgy called today? the science of...</td>\n",
              "      <td>allen</td>\n",
              "      <td>0.0</td>\n",
              "    </tr>\n",
              "    <tr>\n",
              "      <th>5729</th>\n",
              "      <td>race</td>\n",
              "      <td>george washington carver showed that plant lif...</td>\n",
              "      <td>what is chemurgy called today?</td>\n",
              "      <td>the science of synthetics</td>\n",
              "      <td>oday the science of chemurgy is better known a...</td>\n",
              "      <td>where do these raw materials originate from? ...</td>\n",
              "      <td>\" the united states \"</td>\n",
              "      <td>0.0</td>\n",
              "    </tr>\n",
              "    <tr>\n",
              "      <th>5728</th>\n",
              "      <td>race</td>\n",
              "      <td>george washington carver showed that plant lif...</td>\n",
              "      <td>where do these raw materials originate from?</td>\n",
              "      <td>farm products</td>\n",
              "      <td>the branch of chemistry that studies and finds...</td>\n",
              "      <td>what branch of chemistry seeks ways to use ra...</td>\n",
              "      <td>in the united states</td>\n",
              "      <td>0.0</td>\n",
              "    </tr>\n",
              "    <tr>\n",
              "      <th>5727</th>\n",
              "      <td>race</td>\n",
              "      <td>george washington carver showed that plant lif...</td>\n",
              "      <td>what branch of chemistry seeks ways to use raw...</td>\n",
              "      <td>chemurgy.</td>\n",
              "      <td>the branch of chemistry that studies and finds...</td>\n",
              "      <td></td>\n",
              "      <td>engineers</td>\n",
              "      <td>0.0</td>\n",
              "    </tr>\n",
              "    <tr>\n",
              "      <th>4104</th>\n",
              "      <td>cnn</td>\n",
              "      <td>sydney (cnn) -- kevin rudd and tony abbott, th...</td>\n",
              "      <td>what does john howard think of abbott?</td>\n",
              "      <td>understood that you could make a new friend wi...</td>\n",
              "      <td>understood that you could make a new friend wi...</td>\n",
              "      <td>what did abbot say in his speech in beijing? ...</td>\n",
              "      <td>\" the united nations</td>\n",
              "      <td>0.0</td>\n",
              "    </tr>\n",
              "    <tr>\n",
              "      <th>4994</th>\n",
              "      <td>cnn</td>\n",
              "      <td>(cnn) -- smart, successful, funny and handsome...</td>\n",
              "      <td>what happened with suicide between 2000 and 2011?</td>\n",
              "      <td>the rate increased</td>\n",
              "      <td>uicide rates increased from 2000 to 2011 from ...</td>\n",
              "      <td>how many is that for every 100,000? 20.2. wha...</td>\n",
              "      <td>he died</td>\n",
              "      <td>0.0</td>\n",
              "    </tr>\n",
              "    <tr>\n",
              "      <th>4993</th>\n",
              "      <td>cnn</td>\n",
              "      <td>(cnn) -- smart, successful, funny and handsome...</td>\n",
              "      <td>how many is that for every 100,000?</td>\n",
              "      <td>20.2</td>\n",
              "      <td>ate of 20.2 deaths per 100,000.</td>\n",
              "      <td>what percentage were they responsible for in ...</td>\n",
              "      <td>2. 1 million</td>\n",
              "      <td>0.0</td>\n",
              "    </tr>\n",
              "    <tr>\n",
              "      <th>4992</th>\n",
              "      <td>cnn</td>\n",
              "      <td>(cnn) -- smart, successful, funny and handsome...</td>\n",
              "      <td>what percentage were they responsible for in 2...</td>\n",
              "      <td>78.5</td>\n",
              "      <td>in 2011, 78.5% of suicides were by men, at a r...</td>\n",
              "      <td>does suicide occur most often in males or fem...</td>\n",
              "      <td>1. 8 percent</td>\n",
              "      <td>0.0</td>\n",
              "    </tr>\n",
              "    <tr>\n",
              "      <th>4991</th>\n",
              "      <td>cnn</td>\n",
              "      <td>(cnn) -- smart, successful, funny and handsome...</td>\n",
              "      <td>does suicide occur most often in males or fema...</td>\n",
              "      <td>males</td>\n",
              "      <td>78.5% of suicides were by men, at a rate of 2...</td>\n",
              "      <td>what did it look like he had? heseemed to hav...</td>\n",
              "      <td>no</td>\n",
              "      <td>0.0</td>\n",
              "    </tr>\n",
              "    <tr>\n",
              "      <th>74</th>\n",
              "      <td>wikipedia</td>\n",
              "      <td>staten island is one of the five boroughs of n...</td>\n",
              "      <td>how many burroughs are there?</td>\n",
              "      <td>five</td>\n",
              "      <td>five</td>\n",
              "      <td></td>\n",
              "      <td>three</td>\n",
              "      <td>0.0</td>\n",
              "    </tr>\n",
              "    <tr>\n",
              "      <th>5004</th>\n",
              "      <td>wikipedia</td>\n",
              "      <td>yorkshire ( or ; abbreviated yorks), formally ...</td>\n",
              "      <td>what does their flag look like</td>\n",
              "      <td>the white rose on a blue background</td>\n",
              "      <td>the white rose on a blue background</td>\n",
              "      <td>what is the emblem of the country the white r...</td>\n",
              "      <td>the \" new york city</td>\n",
              "      <td>0.0</td>\n",
              "    </tr>\n",
              "    <tr>\n",
              "      <th>4906</th>\n",
              "      <td>wikipedia</td>\n",
              "      <td>sports illustrated is an american sports media...</td>\n",
              "      <td>what did people think of sports journalism then?</td>\n",
              "      <td>many believed sports was beneath the attention...</td>\n",
              "      <td>many believed sports was beneath the attention...</td>\n",
              "      <td>who worked for time magazine? henry luce. how...</td>\n",
              "      <td>the world's most popular culture</td>\n",
              "      <td>0.0</td>\n",
              "    </tr>\n",
              "    <tr>\n",
              "      <th>4905</th>\n",
              "      <td>wikipedia</td>\n",
              "      <td>sports illustrated is an american sports media...</td>\n",
              "      <td>who worked for time magazine?</td>\n",
              "      <td>henry luce</td>\n",
              "      <td>\"time\" patriarch henry luce</td>\n",
              "      <td>how often would it come out then? monthly. wh...</td>\n",
              "      <td>the late 1940s</td>\n",
              "      <td>0.0</td>\n",
              "    </tr>\n",
              "    <tr>\n",
              "      <th>4904</th>\n",
              "      <td>wikipedia</td>\n",
              "      <td>sports illustrated is an american sports media...</td>\n",
              "      <td>how often would it come out then?</td>\n",
              "      <td>monthly</td>\n",
              "      <td>on a monthly basis</td>\n",
              "      <td>who created it? stuart scheftel. what was cre...</td>\n",
              "      <td>every week</td>\n",
              "      <td>0.0</td>\n",
              "    </tr>\n",
              "    <tr>\n",
              "      <th>207</th>\n",
              "      <td>gutenberg</td>\n",
              "      <td>chapter xxii \\n\\nnorthward, along the leeward ...</td>\n",
              "      <td>what worked her way northward?</td>\n",
              "      <td>the _ariel_</td>\n",
              "      <td>northward, along the leeward coast of malaita,...</td>\n",
              "      <td></td>\n",
              "      <td>a ship</td>\n",
              "      <td>0.0</td>\n",
              "    </tr>\n",
              "    <tr>\n",
              "      <th>4522</th>\n",
              "      <td>gutenberg</td>\n",
              "      <td>chapter xxx. how the brushwood men came to the...</td>\n",
              "      <td>where was his room?</td>\n",
              "      <td>on the 2nd floor</td>\n",
              "      <td>it was a stone-flagged room upon the second fl...</td>\n",
              "      <td>to who? sir nigel. what did he have to do fir...</td>\n",
              "      <td>in the door</td>\n",
              "      <td>0.0</td>\n",
              "    </tr>\n",
              "    <tr>\n",
              "      <th>4521</th>\n",
              "      <td>gutenberg</td>\n",
              "      <td>chapter xxx. how the brushwood men came to the...</td>\n",
              "      <td>to who?</td>\n",
              "      <td>sir nigel</td>\n",
              "      <td>sir nigel the goblet of spiced wine which it w...</td>\n",
              "      <td>what did he have to do first? serve wine. did...</td>\n",
              "      <td>the schooner</td>\n",
              "      <td>0.0</td>\n",
              "    </tr>\n",
              "    <tr>\n",
              "      <th>4520</th>\n",
              "      <td>gutenberg</td>\n",
              "      <td>chapter xxx. how the brushwood men came to the...</td>\n",
              "      <td>what did he have to do first?</td>\n",
              "      <td>serve wine</td>\n",
              "      <td>it was late ere alleyne edricson, having carri...</td>\n",
              "      <td>did alleyene seek his chamber early? no.</td>\n",
              "      <td>threw it into the table</td>\n",
              "      <td>0.0</td>\n",
              "    </tr>\n",
              "    <tr>\n",
              "      <th>4519</th>\n",
              "      <td>gutenberg</td>\n",
              "      <td>chapter xxx. how the brushwood men came to the...</td>\n",
              "      <td>did alleyene seek his chamber early?</td>\n",
              "      <td>no</td>\n",
              "      <td>\\nit was late ere alleyne edricson, having car...</td>\n",
              "      <td></td>\n",
              "      <td>yes</td>\n",
              "      <td>0.0</td>\n",
              "    </tr>\n",
              "  </tbody>\n",
              "</table>\n",
              "</div>"
            ],
            "text/plain": [
              "         source                                                  p  \\\n",
              "0        mctest  once upon a time, in a barn near a farm house,...   \n",
              "4915     mctest  scott alan woke up very early that morning in ...   \n",
              "4914     mctest  scott alan woke up very early that morning in ...   \n",
              "4913     mctest  scott alan woke up very early that morning in ...   \n",
              "4912     mctest  scott alan woke up very early that morning in ...   \n",
              "21         race  my doorbell rings. on the step, i find the eld...   \n",
              "5730       race  george washington carver showed that plant lif...   \n",
              "5729       race  george washington carver showed that plant lif...   \n",
              "5728       race  george washington carver showed that plant lif...   \n",
              "5727       race  george washington carver showed that plant lif...   \n",
              "4104        cnn  sydney (cnn) -- kevin rudd and tony abbott, th...   \n",
              "4994        cnn  (cnn) -- smart, successful, funny and handsome...   \n",
              "4993        cnn  (cnn) -- smart, successful, funny and handsome...   \n",
              "4992        cnn  (cnn) -- smart, successful, funny and handsome...   \n",
              "4991        cnn  (cnn) -- smart, successful, funny and handsome...   \n",
              "74    wikipedia  staten island is one of the five boroughs of n...   \n",
              "5004  wikipedia  yorkshire ( or ; abbreviated yorks), formally ...   \n",
              "4906  wikipedia  sports illustrated is an american sports media...   \n",
              "4905  wikipedia  sports illustrated is an american sports media...   \n",
              "4904  wikipedia  sports illustrated is an american sports media...   \n",
              "207   gutenberg  chapter xxii \\n\\nnorthward, along the leeward ...   \n",
              "4522  gutenberg  chapter xxx. how the brushwood men came to the...   \n",
              "4521  gutenberg  chapter xxx. how the brushwood men came to the...   \n",
              "4520  gutenberg  chapter xxx. how the brushwood men came to the...   \n",
              "4519  gutenberg  chapter xxx. how the brushwood men came to the...   \n",
              "\n",
              "                                                      q  \\\n",
              "0                                what color was cotton?   \n",
              "4915                how long had they known each other?   \n",
              "4914                                 what color was he?   \n",
              "4913                           what was the dog's name?   \n",
              "4912                                 what was it doing?   \n",
              "21                                  who is at the door?   \n",
              "5730                       what was carver's full name?   \n",
              "5729                     what is chemurgy called today?   \n",
              "5728       where do these raw materials originate from?   \n",
              "5727  what branch of chemistry seeks ways to use raw...   \n",
              "4104             what does john howard think of abbott?   \n",
              "4994  what happened with suicide between 2000 and 2011?   \n",
              "4993                how many is that for every 100,000?   \n",
              "4992  what percentage were they responsible for in 2...   \n",
              "4991  does suicide occur most often in males or fema...   \n",
              "74                        how many burroughs are there?   \n",
              "5004                     what does their flag look like   \n",
              "4906   what did people think of sports journalism then?   \n",
              "4905                      who worked for time magazine?   \n",
              "4904                  how often would it come out then?   \n",
              "207                      what worked her way northward?   \n",
              "4522                                where was his room?   \n",
              "4521                                            to who?   \n",
              "4520                      what did he have to do first?   \n",
              "4519               did alleyene seek his chamber early?   \n",
              "\n",
              "                                                      a  \\\n",
              "0                                                 white   \n",
              "4915                       as long as he could remember   \n",
              "4914                                              brown   \n",
              "4913                                             boscoe   \n",
              "4912                                            licking   \n",
              "21             an elderly chinese lady and a little boy   \n",
              "5730                           george washington carver   \n",
              "5729                          the science of synthetics   \n",
              "5728                                      farm products   \n",
              "5727                                          chemurgy.   \n",
              "4104  understood that you could make a new friend wi...   \n",
              "4994                                 the rate increased   \n",
              "4993                                               20.2   \n",
              "4992                                               78.5   \n",
              "4991                                              males   \n",
              "74                                                 five   \n",
              "5004                the white rose on a blue background   \n",
              "4906  many believed sports was beneath the attention...   \n",
              "4905                                         henry luce   \n",
              "4904                                            monthly   \n",
              "207                                         the _ariel_   \n",
              "4522                                   on the 2nd floor   \n",
              "4521                                          sir nigel   \n",
              "4520                                         serve wine   \n",
              "4519                                                 no   \n",
              "\n",
              "                                                   span  \\\n",
              "0                    a little white kitten named cotton   \n",
              "4915                          as long as could remember   \n",
              "4914                                             brown    \n",
              "4913                                             boscoe   \n",
              "4912                                            licked    \n",
              "21    on the step, i find the elderly chinese lady, ...   \n",
              "5730                           george washington carver   \n",
              "5729  oday the science of chemurgy is better known a...   \n",
              "5728  the branch of chemistry that studies and finds...   \n",
              "5727  the branch of chemistry that studies and finds...   \n",
              "4104  understood that you could make a new friend wi...   \n",
              "4994  uicide rates increased from 2000 to 2011 from ...   \n",
              "4993                   ate of 20.2 deaths per 100,000.    \n",
              "4992  in 2011, 78.5% of suicides were by men, at a r...   \n",
              "4991   78.5% of suicides were by men, at a rate of 2...   \n",
              "74                                                 five   \n",
              "5004                the white rose on a blue background   \n",
              "4906  many believed sports was beneath the attention...   \n",
              "4905                       \"time\" patriarch henry luce    \n",
              "4904                                 on a monthly basis   \n",
              "207   northward, along the leeward coast of malaita,...   \n",
              "4522  it was a stone-flagged room upon the second fl...   \n",
              "4521  sir nigel the goblet of spiced wine which it w...   \n",
              "4520  it was late ere alleyne edricson, having carri...   \n",
              "4519  \\nit was late ere alleyne edricson, having car...   \n",
              "\n",
              "                                                history  \\\n",
              "0                                                         \n",
              "4915   what color was he? brown. what was the dog's ...   \n",
              "4914   what was the dog's name? boscoe. what was it ...   \n",
              "4913   what was it doing? licking. what was touching...   \n",
              "4912   what was touching him that made him awake? a ...   \n",
              "21                                                        \n",
              "5730   what is chemurgy called today? the science of...   \n",
              "5729   where do these raw materials originate from? ...   \n",
              "5728   what branch of chemistry seeks ways to use ra...   \n",
              "5727                                                      \n",
              "4104   what did abbot say in his speech in beijing? ...   \n",
              "4994   how many is that for every 100,000? 20.2. wha...   \n",
              "4993   what percentage were they responsible for in ...   \n",
              "4992   does suicide occur most often in males or fem...   \n",
              "4991   what did it look like he had? heseemed to hav...   \n",
              "74                                                        \n",
              "5004   what is the emblem of the country the white r...   \n",
              "4906   who worked for time magazine? henry luce. how...   \n",
              "4905   how often would it come out then? monthly. wh...   \n",
              "4904   who created it? stuart scheftel. what was cre...   \n",
              "207                                                       \n",
              "4522   to who? sir nigel. what did he have to do fir...   \n",
              "4521   what did he have to do first? serve wine. did...   \n",
              "4520           did alleyene seek his chamber early? no.   \n",
              "4519                                                      \n",
              "\n",
              "                             generated  score  \n",
              "0                                 pink    0.0  \n",
              "4915                         two years    0.0  \n",
              "4914                              pink    0.0  \n",
              "4913                             a dog    0.0  \n",
              "4912                           sitting    0.0  \n",
              "21                          her mother    0.0  \n",
              "5730                             allen    0.0  \n",
              "5729             \" the united states \"    0.0  \n",
              "5728              in the united states    0.0  \n",
              "5727                         engineers    0.0  \n",
              "4104              \" the united nations    0.0  \n",
              "4994                           he died    0.0  \n",
              "4993                      2. 1 million    0.0  \n",
              "4992                      1. 8 percent    0.0  \n",
              "4991                                no    0.0  \n",
              "74                               three    0.0  \n",
              "5004               the \" new york city    0.0  \n",
              "4906  the world's most popular culture    0.0  \n",
              "4905                    the late 1940s    0.0  \n",
              "4904                        every week    0.0  \n",
              "207                             a ship    0.0  \n",
              "4522                       in the door    0.0  \n",
              "4521                      the schooner    0.0  \n",
              "4520           threw it into the table    0.0  \n",
              "4519                               yes    0.0  "
            ]
          },
          "metadata": {},
          "output_type": "display_data"
        },
        {
          "name": "stdout",
          "output_type": "stream",
          "text": [
            "{'model_name': 'distilroberta-base', 'seed': 42, 'history': False}\n"
          ]
        },
        {
          "data": {
            "text/html": [
              "<div>\n",
              "<style scoped>\n",
              "    .dataframe tbody tr th:only-of-type {\n",
              "        vertical-align: middle;\n",
              "    }\n",
              "\n",
              "    .dataframe tbody tr th {\n",
              "        vertical-align: top;\n",
              "    }\n",
              "\n",
              "    .dataframe thead th {\n",
              "        text-align: right;\n",
              "    }\n",
              "</style>\n",
              "<table border=\"1\" class=\"dataframe\">\n",
              "  <thead>\n",
              "    <tr style=\"text-align: right;\">\n",
              "      <th></th>\n",
              "      <th>source</th>\n",
              "      <th>p</th>\n",
              "      <th>q</th>\n",
              "      <th>a</th>\n",
              "      <th>span</th>\n",
              "      <th>history</th>\n",
              "      <th>generated</th>\n",
              "      <th>score</th>\n",
              "    </tr>\n",
              "  </thead>\n",
              "  <tbody>\n",
              "    <tr>\n",
              "      <th>3250</th>\n",
              "      <td>mctest</td>\n",
              "      <td>my puppy is a boy puppy. his name is snow. he ...</td>\n",
              "      <td>what is my cat's name?</td>\n",
              "      <td>oscar</td>\n",
              "      <td>snow likes to play with our cat, his name is o...</td>\n",
              "      <td>what is my dog's name? snow.</td>\n",
              "      <td>olscar</td>\n",
              "      <td>0.0</td>\n",
              "    </tr>\n",
              "    <tr>\n",
              "      <th>6130</th>\n",
              "      <td>mctest</td>\n",
              "      <td>timmy had the best grandmother ever. she was v...</td>\n",
              "      <td>did he enjoy these stories about his grandpa?</td>\n",
              "      <td>yes</td>\n",
              "      <td>immy loved this story because he never got to ...</td>\n",
              "      <td>what did his grandpa do? a farmer.. about who...</td>\n",
              "      <td>no</td>\n",
              "      <td>0.0</td>\n",
              "    </tr>\n",
              "    <tr>\n",
              "      <th>3766</th>\n",
              "      <td>mctest</td>\n",
              "      <td>shelly is in second grade. she is a new studen...</td>\n",
              "      <td>who led the line ?</td>\n",
              "      <td>shelly</td>\n",
              "      <td>shelly</td>\n",
              "      <td>was she embarrassed ? yes. who is mrs bell ? ...</td>\n",
              "      <td>mrs. borden</td>\n",
              "      <td>0.0</td>\n",
              "    </tr>\n",
              "    <tr>\n",
              "      <th>3886</th>\n",
              "      <td>mctest</td>\n",
              "      <td>douglas loves to play soccer. he plays for the...</td>\n",
              "      <td>what kind?</td>\n",
              "      <td>a dog</td>\n",
              "      <td>ruffles the dog</td>\n",
              "      <td>did the boy have a pet? yes.</td>\n",
              "      <td>puppies</td>\n",
              "      <td>0.0</td>\n",
              "    </tr>\n",
              "    <tr>\n",
              "      <th>3887</th>\n",
              "      <td>mctest</td>\n",
              "      <td>douglas loves to play soccer. he plays for the...</td>\n",
              "      <td>what was it called?</td>\n",
              "      <td>ruffles</td>\n",
              "      <td>ruffles the dog</td>\n",
              "      <td>what kind? a dog. did the boy have a pet? yes.</td>\n",
              "      <td>ernie donkey</td>\n",
              "      <td>0.0</td>\n",
              "    </tr>\n",
              "    <tr>\n",
              "      <th>4442</th>\n",
              "      <td>race</td>\n",
              "      <td>we were standing at the top of a church not fa...</td>\n",
              "      <td>what did i learn?</td>\n",
              "      <td>why father had taken her to the church.</td>\n",
              "      <td>now i really understood why father had taken m...</td>\n",
              "      <td>for how long? two years. what is my professio...</td>\n",
              "      <td>he didn't have lunch</td>\n",
              "      <td>0.0</td>\n",
              "    </tr>\n",
              "    <tr>\n",
              "      <th>5382</th>\n",
              "      <td>race</td>\n",
              "      <td>the board meeting had come to an end. bob star...</td>\n",
              "      <td>how?</td>\n",
              "      <td>it would wheeze.</td>\n",
              "      <td>it would wheeze and rattle down the road</td>\n",
              "      <td>did you know when it was close? yes. how old ...</td>\n",
              "      <td>he pulled the boat</td>\n",
              "      <td>0.0</td>\n",
              "    </tr>\n",
              "    <tr>\n",
              "      <th>5380</th>\n",
              "      <td>race</td>\n",
              "      <td>the board meeting had come to an end. bob star...</td>\n",
              "      <td>how old was it?</td>\n",
              "      <td>older than his dad.</td>\n",
              "      <td>that truck was older than he was</td>\n",
              "      <td>what was it? truck. was he proud of his dad's...</td>\n",
              "      <td>twelve</td>\n",
              "      <td>0.0</td>\n",
              "    </tr>\n",
              "    <tr>\n",
              "      <th>5379</th>\n",
              "      <td>race</td>\n",
              "      <td>the board meeting had come to an end. bob star...</td>\n",
              "      <td>what was it?</td>\n",
              "      <td>truck</td>\n",
              "      <td>old truck</td>\n",
              "      <td>was he proud of his dad's vehicle? no. how ol...</td>\n",
              "      <td>a boat</td>\n",
              "      <td>0.0</td>\n",
              "    </tr>\n",
              "    <tr>\n",
              "      <th>5377</th>\n",
              "      <td>race</td>\n",
              "      <td>the board meeting had come to an end. bob star...</td>\n",
              "      <td>how old was he?</td>\n",
              "      <td>12</td>\n",
              "      <td>i was twelve years old</td>\n",
              "      <td>when? during bad weather.. did he ever transp...</td>\n",
              "      <td>twelve</td>\n",
              "      <td>0.0</td>\n",
              "    </tr>\n",
              "    <tr>\n",
              "      <th>4104</th>\n",
              "      <td>cnn</td>\n",
              "      <td>sydney (cnn) -- kevin rudd and tony abbott, th...</td>\n",
              "      <td>what does john howard think of abbott?</td>\n",
              "      <td>understood that you could make a new friend wi...</td>\n",
              "      <td>understood that you could make a new friend wi...</td>\n",
              "      <td>what did abbot say in his speech in beijing? ...</td>\n",
              "      <td>he is a rock star</td>\n",
              "      <td>0.0</td>\n",
              "    </tr>\n",
              "    <tr>\n",
              "      <th>4244</th>\n",
              "      <td>cnn</td>\n",
              "      <td>(cnn) -- each year, grammy week offers up a fu...</td>\n",
              "      <td>what song had some banjo happening in it?</td>\n",
              "      <td>\"i'm on fire</td>\n",
              "      <td>\"i'm on fire</td>\n",
              "      <td>what other language then? spanish. was hungry...</td>\n",
              "      <td>dancing</td>\n",
              "      <td>0.0</td>\n",
              "    </tr>\n",
              "    <tr>\n",
              "      <th>4246</th>\n",
              "      <td>cnn</td>\n",
              "      <td>tehran, iran (cnn) -- a nuclear scientist was ...</td>\n",
              "      <td>who was killed?</td>\n",
              "      <td>mostafa ahmadi roshan</td>\n",
              "      <td>mostafa ahmadi roshan</td>\n",
              "      <td>what kind of bomb was used? magnetic bomb.</td>\n",
              "      <td>a nuclear scientist</td>\n",
              "      <td>0.0</td>\n",
              "    </tr>\n",
              "    <tr>\n",
              "      <th>4247</th>\n",
              "      <td>cnn</td>\n",
              "      <td>tehran, iran (cnn) -- a nuclear scientist was ...</td>\n",
              "      <td>what was his job?</td>\n",
              "      <td>nuclear scientist</td>\n",
              "      <td>nuclear scientist</td>\n",
              "      <td>who was killed? mostafa ahmadi roshan. what k...</td>\n",
              "      <td>a driver</td>\n",
              "      <td>0.0</td>\n",
              "    </tr>\n",
              "    <tr>\n",
              "      <th>4248</th>\n",
              "      <td>cnn</td>\n",
              "      <td>tehran, iran (cnn) -- a nuclear scientist was ...</td>\n",
              "      <td>who else died?</td>\n",
              "      <td>roshan's driver</td>\n",
              "      <td>roshan's driver</td>\n",
              "      <td>what was his job? nuclear scientist. who was ...</td>\n",
              "      <td>a nuclear scientist</td>\n",
              "      <td>0.0</td>\n",
              "    </tr>\n",
              "    <tr>\n",
              "      <th>74</th>\n",
              "      <td>wikipedia</td>\n",
              "      <td>staten island is one of the five boroughs of n...</td>\n",
              "      <td>how many burroughs are there?</td>\n",
              "      <td>five</td>\n",
              "      <td>five</td>\n",
              "      <td></td>\n",
              "      <td>476</td>\n",
              "      <td>0.0</td>\n",
              "    </tr>\n",
              "    <tr>\n",
              "      <th>3773</th>\n",
              "      <td>wikipedia</td>\n",
              "      <td>climate is the statistics of weather over long...</td>\n",
              "      <td>which one are sediments?</td>\n",
              "      <td>non-biotic.</td>\n",
              "      <td>non-biotic evidence such as sediments</td>\n",
              "      <td>what are two categories that the evidence fal...</td>\n",
              "      <td>lake beds and ice cores</td>\n",
              "      <td>0.0</td>\n",
              "    </tr>\n",
              "    <tr>\n",
              "      <th>3775</th>\n",
              "      <td>wikipedia</td>\n",
              "      <td>climate is the statistics of weather over long...</td>\n",
              "      <td>anywhere else?</td>\n",
              "      <td>ice cores,</td>\n",
              "      <td>in lake beds and ice cores,</td>\n",
              "      <td>where do scientists gather those? in lake bed...</td>\n",
              "      <td>yes</td>\n",
              "      <td>0.0</td>\n",
              "    </tr>\n",
              "    <tr>\n",
              "      <th>3777</th>\n",
              "      <td>wikipedia</td>\n",
              "      <td>climate is the statistics of weather over long...</td>\n",
              "      <td>what?</td>\n",
              "      <td>tree rings.</td>\n",
              "      <td>biotic evidence such as tree rings</td>\n",
              "      <td>do you know of any biotic evidence? yes.. any...</td>\n",
              "      <td>a system of different kinds</td>\n",
              "      <td>0.0</td>\n",
              "    </tr>\n",
              "    <tr>\n",
              "      <th>3778</th>\n",
              "      <td>wikipedia</td>\n",
              "      <td>climate is the statistics of weather over long...</td>\n",
              "      <td>anything else?</td>\n",
              "      <td>coral.</td>\n",
              "      <td>biotic evidence such as tree rings and coral</td>\n",
              "      <td>what? tree rings.. do you know of any biotic ...</td>\n",
              "      <td>yes</td>\n",
              "      <td>0.0</td>\n",
              "    </tr>\n",
              "    <tr>\n",
              "      <th>207</th>\n",
              "      <td>gutenberg</td>\n",
              "      <td>chapter xxii \\n\\nnorthward, along the leeward ...</td>\n",
              "      <td>what worked her way northward?</td>\n",
              "      <td>the _ariel_</td>\n",
              "      <td>northward, along the leeward coast of malaita,...</td>\n",
              "      <td></td>\n",
              "      <td>singelous</td>\n",
              "      <td>0.0</td>\n",
              "    </tr>\n",
              "    <tr>\n",
              "      <th>1908</th>\n",
              "      <td>gutenberg</td>\n",
              "      <td>chapter xxvi \\n\\nthe judgment of domitian \\n\\n...</td>\n",
              "      <td>against who?</td>\n",
              "      <td>marcus</td>\n",
              "      <td>he might dog marcus</td>\n",
              "      <td>what was now left? revenge.</td>\n",
              "      <td>roman noble</td>\n",
              "      <td>0.0</td>\n",
              "    </tr>\n",
              "    <tr>\n",
              "      <th>1909</th>\n",
              "      <td>gutenberg</td>\n",
              "      <td>chapter xxvi \\n\\nthe judgment of domitian \\n\\n...</td>\n",
              "      <td>what was in the angered man's heart?</td>\n",
              "      <td>fury</td>\n",
              "      <td>with fury in his heart</td>\n",
              "      <td>against who? marcus. what was now left? revenge.</td>\n",
              "      <td>he was angry</td>\n",
              "      <td>0.0</td>\n",
              "    </tr>\n",
              "    <tr>\n",
              "      <th>4723</th>\n",
              "      <td>gutenberg</td>\n",
              "      <td>chapter vi. \\n\\nan obstinate detective. \\n\\nda...</td>\n",
              "      <td>how did seth reply to him?</td>\n",
              "      <td>soothingly.</td>\n",
              "      <td>seth replied soothingly.</td>\n",
              "      <td>how did he turn to his partner? savagely. who...</td>\n",
              "      <td>smiling</td>\n",
              "      <td>0.0</td>\n",
              "    </tr>\n",
              "    <tr>\n",
              "      <th>1911</th>\n",
              "      <td>gutenberg</td>\n",
              "      <td>chapter xxvi \\n\\nthe judgment of domitian \\n\\n...</td>\n",
              "      <td>what was a drawback to that plan?</td>\n",
              "      <td>his own life would be hazarded</td>\n",
              "      <td>only then his own life would be hazarded</td>\n",
              "      <td>what was one option to get back at the man? d...</td>\n",
              "      <td>he could not buy the weapon</td>\n",
              "      <td>0.0</td>\n",
              "    </tr>\n",
              "  </tbody>\n",
              "</table>\n",
              "</div>"
            ],
            "text/plain": [
              "         source                                                  p  \\\n",
              "3250     mctest  my puppy is a boy puppy. his name is snow. he ...   \n",
              "6130     mctest  timmy had the best grandmother ever. she was v...   \n",
              "3766     mctest  shelly is in second grade. she is a new studen...   \n",
              "3886     mctest  douglas loves to play soccer. he plays for the...   \n",
              "3887     mctest  douglas loves to play soccer. he plays for the...   \n",
              "4442       race  we were standing at the top of a church not fa...   \n",
              "5382       race  the board meeting had come to an end. bob star...   \n",
              "5380       race  the board meeting had come to an end. bob star...   \n",
              "5379       race  the board meeting had come to an end. bob star...   \n",
              "5377       race  the board meeting had come to an end. bob star...   \n",
              "4104        cnn  sydney (cnn) -- kevin rudd and tony abbott, th...   \n",
              "4244        cnn  (cnn) -- each year, grammy week offers up a fu...   \n",
              "4246        cnn  tehran, iran (cnn) -- a nuclear scientist was ...   \n",
              "4247        cnn  tehran, iran (cnn) -- a nuclear scientist was ...   \n",
              "4248        cnn  tehran, iran (cnn) -- a nuclear scientist was ...   \n",
              "74    wikipedia  staten island is one of the five boroughs of n...   \n",
              "3773  wikipedia  climate is the statistics of weather over long...   \n",
              "3775  wikipedia  climate is the statistics of weather over long...   \n",
              "3777  wikipedia  climate is the statistics of weather over long...   \n",
              "3778  wikipedia  climate is the statistics of weather over long...   \n",
              "207   gutenberg  chapter xxii \\n\\nnorthward, along the leeward ...   \n",
              "1908  gutenberg  chapter xxvi \\n\\nthe judgment of domitian \\n\\n...   \n",
              "1909  gutenberg  chapter xxvi \\n\\nthe judgment of domitian \\n\\n...   \n",
              "4723  gutenberg  chapter vi. \\n\\nan obstinate detective. \\n\\nda...   \n",
              "1911  gutenberg  chapter xxvi \\n\\nthe judgment of domitian \\n\\n...   \n",
              "\n",
              "                                                  q  \\\n",
              "3250                         what is my cat's name?   \n",
              "6130  did he enjoy these stories about his grandpa?   \n",
              "3766                             who led the line ?   \n",
              "3886                                     what kind?   \n",
              "3887                            what was it called?   \n",
              "4442                              what did i learn?   \n",
              "5382                                           how?   \n",
              "5380                                how old was it?   \n",
              "5379                                   what was it?   \n",
              "5377                                how old was he?   \n",
              "4104         what does john howard think of abbott?   \n",
              "4244      what song had some banjo happening in it?   \n",
              "4246                                who was killed?   \n",
              "4247                              what was his job?   \n",
              "4248                                 who else died?   \n",
              "74                    how many burroughs are there?   \n",
              "3773                       which one are sediments?   \n",
              "3775                                 anywhere else?   \n",
              "3777                                          what?   \n",
              "3778                                 anything else?   \n",
              "207                  what worked her way northward?   \n",
              "1908                                   against who?   \n",
              "1909           what was in the angered man's heart?   \n",
              "4723                     how did seth reply to him?   \n",
              "1911              what was a drawback to that plan?   \n",
              "\n",
              "                                                      a  \\\n",
              "3250                                              oscar   \n",
              "6130                                                yes   \n",
              "3766                                             shelly   \n",
              "3886                                              a dog   \n",
              "3887                                            ruffles   \n",
              "4442            why father had taken her to the church.   \n",
              "5382                                   it would wheeze.   \n",
              "5380                                older than his dad.   \n",
              "5379                                              truck   \n",
              "5377                                                 12   \n",
              "4104  understood that you could make a new friend wi...   \n",
              "4244                                       \"i'm on fire   \n",
              "4246                              mostafa ahmadi roshan   \n",
              "4247                                  nuclear scientist   \n",
              "4248                                    roshan's driver   \n",
              "74                                                 five   \n",
              "3773                                        non-biotic.   \n",
              "3775                                         ice cores,   \n",
              "3777                                        tree rings.   \n",
              "3778                                             coral.   \n",
              "207                                         the _ariel_   \n",
              "1908                                             marcus   \n",
              "1909                                               fury   \n",
              "4723                                        soothingly.   \n",
              "1911                     his own life would be hazarded   \n",
              "\n",
              "                                                   span  \\\n",
              "3250  snow likes to play with our cat, his name is o...   \n",
              "6130  immy loved this story because he never got to ...   \n",
              "3766                                            shelly    \n",
              "3886                                    ruffles the dog   \n",
              "3887                                    ruffles the dog   \n",
              "4442  now i really understood why father had taken m...   \n",
              "5382           it would wheeze and rattle down the road   \n",
              "5380                   that truck was older than he was   \n",
              "5379                                          old truck   \n",
              "5377                             i was twelve years old   \n",
              "4104  understood that you could make a new friend wi...   \n",
              "4244                                       \"i'm on fire   \n",
              "4246                              mostafa ahmadi roshan   \n",
              "4247                                  nuclear scientist   \n",
              "4248                                    roshan's driver   \n",
              "74                                                 five   \n",
              "3773             non-biotic evidence such as sediments    \n",
              "3775                        in lake beds and ice cores,   \n",
              "3777                 biotic evidence such as tree rings   \n",
              "3778       biotic evidence such as tree rings and coral   \n",
              "207   northward, along the leeward coast of malaita,...   \n",
              "1908                                he might dog marcus   \n",
              "1909                             with fury in his heart   \n",
              "4723                          seth replied soothingly.    \n",
              "1911           only then his own life would be hazarded   \n",
              "\n",
              "                                                history  \\\n",
              "3250                       what is my dog's name? snow.   \n",
              "6130   what did his grandpa do? a farmer.. about who...   \n",
              "3766   was she embarrassed ? yes. who is mrs bell ? ...   \n",
              "3886                       did the boy have a pet? yes.   \n",
              "3887     what kind? a dog. did the boy have a pet? yes.   \n",
              "4442   for how long? two years. what is my professio...   \n",
              "5382   did you know when it was close? yes. how old ...   \n",
              "5380   what was it? truck. was he proud of his dad's...   \n",
              "5379   was he proud of his dad's vehicle? no. how ol...   \n",
              "5377   when? during bad weather.. did he ever transp...   \n",
              "4104   what did abbot say in his speech in beijing? ...   \n",
              "4244   what other language then? spanish. was hungry...   \n",
              "4246         what kind of bomb was used? magnetic bomb.   \n",
              "4247   who was killed? mostafa ahmadi roshan. what k...   \n",
              "4248   what was his job? nuclear scientist. who was ...   \n",
              "74                                                        \n",
              "3773   what are two categories that the evidence fal...   \n",
              "3775   where do scientists gather those? in lake bed...   \n",
              "3777   do you know of any biotic evidence? yes.. any...   \n",
              "3778   what? tree rings.. do you know of any biotic ...   \n",
              "207                                                       \n",
              "1908                        what was now left? revenge.   \n",
              "1909   against who? marcus. what was now left? revenge.   \n",
              "4723   how did he turn to his partner? savagely. who...   \n",
              "1911   what was one option to get back at the man? d...   \n",
              "\n",
              "                        generated  score  \n",
              "3250                       olscar    0.0  \n",
              "6130                           no    0.0  \n",
              "3766                  mrs. borden    0.0  \n",
              "3886                      puppies    0.0  \n",
              "3887                 ernie donkey    0.0  \n",
              "4442         he didn't have lunch    0.0  \n",
              "5382           he pulled the boat    0.0  \n",
              "5380                       twelve    0.0  \n",
              "5379                       a boat    0.0  \n",
              "5377                       twelve    0.0  \n",
              "4104            he is a rock star    0.0  \n",
              "4244                      dancing    0.0  \n",
              "4246          a nuclear scientist    0.0  \n",
              "4247                     a driver    0.0  \n",
              "4248          a nuclear scientist    0.0  \n",
              "74                            476    0.0  \n",
              "3773      lake beds and ice cores    0.0  \n",
              "3775                          yes    0.0  \n",
              "3777  a system of different kinds    0.0  \n",
              "3778                          yes    0.0  \n",
              "207                     singelous    0.0  \n",
              "1908                  roman noble    0.0  \n",
              "1909                 he was angry    0.0  \n",
              "4723                      smiling    0.0  \n",
              "1911  he could not buy the weapon    0.0  "
            ]
          },
          "metadata": {},
          "output_type": "display_data"
        },
        {
          "name": "stdout",
          "output_type": "stream",
          "text": [
            "{'model_name': 'distilroberta-base', 'seed': 1337, 'history': True}\n"
          ]
        },
        {
          "data": {
            "text/html": [
              "<div>\n",
              "<style scoped>\n",
              "    .dataframe tbody tr th:only-of-type {\n",
              "        vertical-align: middle;\n",
              "    }\n",
              "\n",
              "    .dataframe tbody tr th {\n",
              "        vertical-align: top;\n",
              "    }\n",
              "\n",
              "    .dataframe thead th {\n",
              "        text-align: right;\n",
              "    }\n",
              "</style>\n",
              "<table border=\"1\" class=\"dataframe\">\n",
              "  <thead>\n",
              "    <tr style=\"text-align: right;\">\n",
              "      <th></th>\n",
              "      <th>source</th>\n",
              "      <th>p</th>\n",
              "      <th>q</th>\n",
              "      <th>a</th>\n",
              "      <th>span</th>\n",
              "      <th>history</th>\n",
              "      <th>generated</th>\n",
              "      <th>score</th>\n",
              "    </tr>\n",
              "  </thead>\n",
              "  <tbody>\n",
              "    <tr>\n",
              "      <th>4160</th>\n",
              "      <td>mctest</td>\n",
              "      <td>there is a large tree in a park where all the ...</td>\n",
              "      <td>does the tree house still exist?</td>\n",
              "      <td>yes</td>\n",
              "      <td>the tree house still sits on the tree</td>\n",
              "      <td>what year was the tree planted? 1896. where i...</td>\n",
              "      <td>no</td>\n",
              "      <td>0.0</td>\n",
              "    </tr>\n",
              "    <tr>\n",
              "      <th>1872</th>\n",
              "      <td>mctest</td>\n",
              "      <td>bill and sarah chose to meet at the park on sa...</td>\n",
              "      <td>then what did bill do?</td>\n",
              "      <td>pretend that bill was a monster</td>\n",
              "      <td>pretend that bill was a monster</td>\n",
              "      <td>what did she and bill do when the first got t...</td>\n",
              "      <td>played in a ball</td>\n",
              "      <td>0.0</td>\n",
              "    </tr>\n",
              "    <tr>\n",
              "      <th>4618</th>\n",
              "      <td>mctest</td>\n",
              "      <td>one morning, i woke up and went downstairs for...</td>\n",
              "      <td>where does he eat it?</td>\n",
              "      <td>at the table</td>\n",
              "      <td>i sat down at the table to eat,</td>\n",
              "      <td>was it good? yes. what was it? hot pickles, m...</td>\n",
              "      <td>in the kitchen</td>\n",
              "      <td>0.0</td>\n",
              "    </tr>\n",
              "    <tr>\n",
              "      <th>1869</th>\n",
              "      <td>mctest</td>\n",
              "      <td>bill and sarah chose to meet at the park on sa...</td>\n",
              "      <td>why?</td>\n",
              "      <td>most boys are stupid and a real pain</td>\n",
              "      <td>most boys like tom and mark are stupid and a r...</td>\n",
              "      <td>did sarah like boys? no. did they live across...</td>\n",
              "      <td>because he was a bad</td>\n",
              "      <td>0.0</td>\n",
              "    </tr>\n",
              "    <tr>\n",
              "      <th>4619</th>\n",
              "      <td>mctest</td>\n",
              "      <td>one morning, i woke up and went downstairs for...</td>\n",
              "      <td>what is near the table?</td>\n",
              "      <td>a window</td>\n",
              "      <td>looked out the window at the birds in my yard</td>\n",
              "      <td>where does he eat it? at the table. was it go...</td>\n",
              "      <td>a bird</td>\n",
              "      <td>0.0</td>\n",
              "    </tr>\n",
              "    <tr>\n",
              "      <th>7904</th>\n",
              "      <td>race</td>\n",
              "      <td>the dog, called prince, was an intelligent ani...</td>\n",
              "      <td>what did he do instead?</td>\n",
              "      <td>he stayed in bed for three days</td>\n",
              "      <td>he stayed in bed for three days</td>\n",
              "      <td>did he go to work the next day? no. was this ...</td>\n",
              "      <td>\"engineered \"numbers\",</td>\n",
              "      <td>0.0</td>\n",
              "    </tr>\n",
              "    <tr>\n",
              "      <th>5371</th>\n",
              "      <td>race</td>\n",
              "      <td>the board meeting had come to an end. bob star...</td>\n",
              "      <td>what did his dad do for a job?</td>\n",
              "      <td>fisherman</td>\n",
              "      <td>my dad was a fisherman</td>\n",
              "      <td>where did he grow up? san pedro.. why is fran...</td>\n",
              "      <td>fishering.</td>\n",
              "      <td>0.0</td>\n",
              "    </tr>\n",
              "    <tr>\n",
              "      <th>5373</th>\n",
              "      <td>race</td>\n",
              "      <td>the board meeting had come to an end. bob star...</td>\n",
              "      <td>was this a hard job?</td>\n",
              "      <td>yes</td>\n",
              "      <td>but it was hard making a living on the sea</td>\n",
              "      <td>did he own a boat yes. what did his dad do fo...</td>\n",
              "      <td>no</td>\n",
              "      <td>0.0</td>\n",
              "    </tr>\n",
              "    <tr>\n",
              "      <th>2170</th>\n",
              "      <td>race</td>\n",
              "      <td>chichi weighs only 13 pounds. \"he's so tiny,i ...</td>\n",
              "      <td>was he on a blanket?</td>\n",
              "      <td>yes</td>\n",
              "      <td>chichi was lying on his blanket</td>\n",
              "      <td>with who? mary and her husband rick. where wa...</td>\n",
              "      <td>no</td>\n",
              "      <td>0.0</td>\n",
              "    </tr>\n",
              "    <tr>\n",
              "      <th>5380</th>\n",
              "      <td>race</td>\n",
              "      <td>the board meeting had come to an end. bob star...</td>\n",
              "      <td>how old was it?</td>\n",
              "      <td>older than his dad.</td>\n",
              "      <td>that truck was older than he was</td>\n",
              "      <td>what was it? truck. was he proud of his dad's...</td>\n",
              "      <td>12</td>\n",
              "      <td>0.0</td>\n",
              "    </tr>\n",
              "    <tr>\n",
              "      <th>4104</th>\n",
              "      <td>cnn</td>\n",
              "      <td>sydney (cnn) -- kevin rudd and tony abbott, th...</td>\n",
              "      <td>what does john howard think of abbott?</td>\n",
              "      <td>understood that you could make a new friend wi...</td>\n",
              "      <td>understood that you could make a new friend wi...</td>\n",
              "      <td>what did abbot say in his speech in beijing? ...</td>\n",
              "      <td>he's a rock-hard supporter</td>\n",
              "      <td>0.0</td>\n",
              "    </tr>\n",
              "    <tr>\n",
              "      <th>4590</th>\n",
              "      <td>cnn</td>\n",
              "      <td>(cnn) -- pablo sandoval's record-tying three h...</td>\n",
              "      <td>what did babe ruth do ?</td>\n",
              "      <td>homered three times in one world series game, ...</td>\n",
              "      <td>babe ruth did it twice</td>\n",
              "      <td>who is justin verlander ? tigers pitching ace...</td>\n",
              "      <td>he did it</td>\n",
              "      <td>0.0</td>\n",
              "    </tr>\n",
              "    <tr>\n",
              "      <th>4594</th>\n",
              "      <td>cnn</td>\n",
              "      <td>(cnn) -- pablo sandoval's record-tying three h...</td>\n",
              "      <td>what happened in the 5th ?</td>\n",
              "      <td>sandoval added another home run off al alburqu...</td>\n",
              "      <td>he added another home run off al alburquerque</td>\n",
              "      <td>who said that ? his manager. who has been swi...</td>\n",
              "      <td>barcelona</td>\n",
              "      <td>0.0</td>\n",
              "    </tr>\n",
              "    <tr>\n",
              "      <th>4636</th>\n",
              "      <td>cnn</td>\n",
              "      <td>(cnn) -- shiping bao, the medical examiner who...</td>\n",
              "      <td>what's the name of the subject of the story?</td>\n",
              "      <td>shiping bao</td>\n",
              "      <td>shiping bao</td>\n",
              "      <td>what county? volusia. in what state did this ...</td>\n",
              "      <td>sailing</td>\n",
              "      <td>0.0</td>\n",
              "    </tr>\n",
              "    <tr>\n",
              "      <th>4640</th>\n",
              "      <td>cnn</td>\n",
              "      <td>(cnn) -- shiping bao, the medical examiner who...</td>\n",
              "      <td>why was he dismissed?</td>\n",
              "      <td>changed his mind during testimony</td>\n",
              "      <td>changed his mind on crucial aspects during his...</td>\n",
              "      <td>what organization did he work for? volusia co...</td>\n",
              "      <td>he was fired</td>\n",
              "      <td>0.0</td>\n",
              "    </tr>\n",
              "    <tr>\n",
              "      <th>1640</th>\n",
              "      <td>wikipedia</td>\n",
              "      <td>ordination is the process by which individuals...</td>\n",
              "      <td>what is one called that is pursuing the certif...</td>\n",
              "      <td>ordinand</td>\n",
              "      <td>one who is in preparation for, or who is under...</td>\n",
              "      <td>how many lineages are there? three. where can...</td>\n",
              "      <td>the preparation of a temple</td>\n",
              "      <td>0.0</td>\n",
              "    </tr>\n",
              "    <tr>\n",
              "      <th>1750</th>\n",
              "      <td>wikipedia</td>\n",
              "      <td>jupiter is the fifth planet from the sun and t...</td>\n",
              "      <td>how much bigger is it than all the other plane...</td>\n",
              "      <td>two and a half times</td>\n",
              "      <td>but two and a half times that of all the othe...</td>\n",
              "      <td>and what element? hydrogen. what is it mostly...</td>\n",
              "      <td>a quarter of the number</td>\n",
              "      <td>0.0</td>\n",
              "    </tr>\n",
              "    <tr>\n",
              "      <th>7444</th>\n",
              "      <td>wikipedia</td>\n",
              "      <td>the 2008 summer olympics torch relay was run f...</td>\n",
              "      <td>did they visit any notable landmarks?</td>\n",
              "      <td>panathinaiko stadium</td>\n",
              "      <td>the torch traveled to the panathinaiko stadiu...</td>\n",
              "      <td>how many days was the race? seven. where did ...</td>\n",
              "      <td>yes</td>\n",
              "      <td>0.0</td>\n",
              "    </tr>\n",
              "    <tr>\n",
              "      <th>1748</th>\n",
              "      <td>wikipedia</td>\n",
              "      <td>jupiter is the fifth planet from the sun and t...</td>\n",
              "      <td>what is it mostly made of?</td>\n",
              "      <td>gas</td>\n",
              "      <td>jupiter and saturn are gas giants;</td>\n",
              "      <td>what is the largest planet in the solar syste...</td>\n",
              "      <td>hydrogen</td>\n",
              "      <td>0.0</td>\n",
              "    </tr>\n",
              "    <tr>\n",
              "      <th>7445</th>\n",
              "      <td>wikipedia</td>\n",
              "      <td>the 2008 summer olympics torch relay was run f...</td>\n",
              "      <td>did they visit any ancient chinese sites?</td>\n",
              "      <td>silk road</td>\n",
              "      <td>the silk road, symbolizing ancient links betw...</td>\n",
              "      <td>did they visit any notable landmarks? panathi...</td>\n",
              "      <td>yes</td>\n",
              "      <td>0.0</td>\n",
              "    </tr>\n",
              "    <tr>\n",
              "      <th>207</th>\n",
              "      <td>gutenberg</td>\n",
              "      <td>chapter xxii \\n\\nnorthward, along the leeward ...</td>\n",
              "      <td>what worked her way northward?</td>\n",
              "      <td>the _ariel_</td>\n",
              "      <td>northward, along the leeward coast of malaita,...</td>\n",
              "      <td></td>\n",
              "      <td>theariel</td>\n",
              "      <td>0.0</td>\n",
              "    </tr>\n",
              "    <tr>\n",
              "      <th>1347</th>\n",
              "      <td>gutenberg</td>\n",
              "      <td>chapter 33 \\n\\nfrom darkness here and drearine...</td>\n",
              "      <td>would it be right for him?</td>\n",
              "      <td>yes</td>\n",
              "      <td>would suit him very well</td>\n",
              "      <td>where? the county where redclyffe was situate...</td>\n",
              "      <td>no</td>\n",
              "      <td>0.0</td>\n",
              "    </tr>\n",
              "    <tr>\n",
              "      <th>1348</th>\n",
              "      <td>gutenberg</td>\n",
              "      <td>chapter 33 \\n\\nfrom darkness here and drearine...</td>\n",
              "      <td>who was he talking to?</td>\n",
              "      <td>guy and amabel</td>\n",
              "      <td>both he and amabel</td>\n",
              "      <td>would it be right for him? yes. where? the co...</td>\n",
              "      <td>philip</td>\n",
              "      <td>0.0</td>\n",
              "    </tr>\n",
              "    <tr>\n",
              "      <th>4409</th>\n",
              "      <td>gutenberg</td>\n",
              "      <td>chapter v \\n\\nat oak hall once more \\n\\n\"hurra...</td>\n",
              "      <td>why?</td>\n",
              "      <td>because dave knew the streets better</td>\n",
              "      <td>\"uncle dunston, let me take the auto around to...</td>\n",
              "      <td>who does he ask this? uncle dunston. where do...</td>\n",
              "      <td>to know what to do</td>\n",
              "      <td>0.0</td>\n",
              "    </tr>\n",
              "    <tr>\n",
              "      <th>4404</th>\n",
              "      <td>gutenberg</td>\n",
              "      <td>chapter v \\n\\nat oak hall once more \\n\\n\"hurra...</td>\n",
              "      <td>are they excited?</td>\n",
              "      <td>yes</td>\n",
              "      <td>\"hurrah! here we are at oakdale at last!\"</td>\n",
              "      <td>where are they? at oakdale.</td>\n",
              "      <td>no</td>\n",
              "      <td>0.0</td>\n",
              "    </tr>\n",
              "  </tbody>\n",
              "</table>\n",
              "</div>"
            ],
            "text/plain": [
              "         source                                                  p  \\\n",
              "4160     mctest  there is a large tree in a park where all the ...   \n",
              "1872     mctest  bill and sarah chose to meet at the park on sa...   \n",
              "4618     mctest  one morning, i woke up and went downstairs for...   \n",
              "1869     mctest  bill and sarah chose to meet at the park on sa...   \n",
              "4619     mctest  one morning, i woke up and went downstairs for...   \n",
              "7904       race  the dog, called prince, was an intelligent ani...   \n",
              "5371       race  the board meeting had come to an end. bob star...   \n",
              "5373       race  the board meeting had come to an end. bob star...   \n",
              "2170       race  chichi weighs only 13 pounds. \"he's so tiny,i ...   \n",
              "5380       race  the board meeting had come to an end. bob star...   \n",
              "4104        cnn  sydney (cnn) -- kevin rudd and tony abbott, th...   \n",
              "4590        cnn  (cnn) -- pablo sandoval's record-tying three h...   \n",
              "4594        cnn  (cnn) -- pablo sandoval's record-tying three h...   \n",
              "4636        cnn  (cnn) -- shiping bao, the medical examiner who...   \n",
              "4640        cnn  (cnn) -- shiping bao, the medical examiner who...   \n",
              "1640  wikipedia  ordination is the process by which individuals...   \n",
              "1750  wikipedia  jupiter is the fifth planet from the sun and t...   \n",
              "7444  wikipedia  the 2008 summer olympics torch relay was run f...   \n",
              "1748  wikipedia  jupiter is the fifth planet from the sun and t...   \n",
              "7445  wikipedia  the 2008 summer olympics torch relay was run f...   \n",
              "207   gutenberg  chapter xxii \\n\\nnorthward, along the leeward ...   \n",
              "1347  gutenberg  chapter 33 \\n\\nfrom darkness here and drearine...   \n",
              "1348  gutenberg  chapter 33 \\n\\nfrom darkness here and drearine...   \n",
              "4409  gutenberg  chapter v \\n\\nat oak hall once more \\n\\n\"hurra...   \n",
              "4404  gutenberg  chapter v \\n\\nat oak hall once more \\n\\n\"hurra...   \n",
              "\n",
              "                                                      q  \\\n",
              "4160                   does the tree house still exist?   \n",
              "1872                             then what did bill do?   \n",
              "4618                              where does he eat it?   \n",
              "1869                                               why?   \n",
              "4619                            what is near the table?   \n",
              "7904                            what did he do instead?   \n",
              "5371                     what did his dad do for a job?   \n",
              "5373                               was this a hard job?   \n",
              "2170                               was he on a blanket?   \n",
              "5380                                    how old was it?   \n",
              "4104             what does john howard think of abbott?   \n",
              "4590                            what did babe ruth do ?   \n",
              "4594                         what happened in the 5th ?   \n",
              "4636       what's the name of the subject of the story?   \n",
              "4640                              why was he dismissed?   \n",
              "1640  what is one called that is pursuing the certif...   \n",
              "1750  how much bigger is it than all the other plane...   \n",
              "7444              did they visit any notable landmarks?   \n",
              "1748                         what is it mostly made of?   \n",
              "7445          did they visit any ancient chinese sites?   \n",
              "207                      what worked her way northward?   \n",
              "1347                         would it be right for him?   \n",
              "1348                             who was he talking to?   \n",
              "4409                                               why?   \n",
              "4404                                  are they excited?   \n",
              "\n",
              "                                                      a  \\\n",
              "4160                                                yes   \n",
              "1872                    pretend that bill was a monster   \n",
              "4618                                       at the table   \n",
              "1869               most boys are stupid and a real pain   \n",
              "4619                                           a window   \n",
              "7904                    he stayed in bed for three days   \n",
              "5371                                          fisherman   \n",
              "5373                                                yes   \n",
              "2170                                                yes   \n",
              "5380                                older than his dad.   \n",
              "4104  understood that you could make a new friend wi...   \n",
              "4590  homered three times in one world series game, ...   \n",
              "4594  sandoval added another home run off al alburqu...   \n",
              "4636                                        shiping bao   \n",
              "4640                  changed his mind during testimony   \n",
              "1640                                           ordinand   \n",
              "1750                               two and a half times   \n",
              "7444                               panathinaiko stadium   \n",
              "1748                                                gas   \n",
              "7445                                          silk road   \n",
              "207                                         the _ariel_   \n",
              "1347                                                yes   \n",
              "1348                                     guy and amabel   \n",
              "4409               because dave knew the streets better   \n",
              "4404                                                yes   \n",
              "\n",
              "                                                   span  \\\n",
              "4160             the tree house still sits on the tree    \n",
              "1872                    pretend that bill was a monster   \n",
              "4618                    i sat down at the table to eat,   \n",
              "1869  most boys like tom and mark are stupid and a r...   \n",
              "4619      looked out the window at the birds in my yard   \n",
              "7904                    he stayed in bed for three days   \n",
              "5371                             my dad was a fisherman   \n",
              "5373         but it was hard making a living on the sea   \n",
              "2170                    chichi was lying on his blanket   \n",
              "5380                   that truck was older than he was   \n",
              "4104  understood that you could make a new friend wi...   \n",
              "4590                             babe ruth did it twice   \n",
              "4594      he added another home run off al alburquerque   \n",
              "4636                                        shiping bao   \n",
              "4640  changed his mind on crucial aspects during his...   \n",
              "1640  one who is in preparation for, or who is under...   \n",
              "1750   but two and a half times that of all the othe...   \n",
              "7444   the torch traveled to the panathinaiko stadiu...   \n",
              "1748                 jupiter and saturn are gas giants;   \n",
              "7445   the silk road, symbolizing ancient links betw...   \n",
              "207   northward, along the leeward coast of malaita,...   \n",
              "1347                           would suit him very well   \n",
              "1348                                 both he and amabel   \n",
              "4409  \"uncle dunston, let me take the auto around to...   \n",
              "4404         \"hurrah! here we are at oakdale at last!\"    \n",
              "\n",
              "                                                history  \\\n",
              "4160   what year was the tree planted? 1896. where i...   \n",
              "1872   what did she and bill do when the first got t...   \n",
              "4618   was it good? yes. what was it? hot pickles, m...   \n",
              "1869   did sarah like boys? no. did they live across...   \n",
              "4619   where does he eat it? at the table. was it go...   \n",
              "7904   did he go to work the next day? no. was this ...   \n",
              "5371   where did he grow up? san pedro.. why is fran...   \n",
              "5373   did he own a boat yes. what did his dad do fo...   \n",
              "2170   with who? mary and her husband rick. where wa...   \n",
              "5380   what was it? truck. was he proud of his dad's...   \n",
              "4104   what did abbot say in his speech in beijing? ...   \n",
              "4590   who is justin verlander ? tigers pitching ace...   \n",
              "4594   who said that ? his manager. who has been swi...   \n",
              "4636   what county? volusia. in what state did this ...   \n",
              "4640   what organization did he work for? volusia co...   \n",
              "1640   how many lineages are there? three. where can...   \n",
              "1750   and what element? hydrogen. what is it mostly...   \n",
              "7444   how many days was the race? seven. where did ...   \n",
              "1748   what is the largest planet in the solar syste...   \n",
              "7445   did they visit any notable landmarks? panathi...   \n",
              "207                                                       \n",
              "1347   where? the county where redclyffe was situate...   \n",
              "1348   would it be right for him? yes. where? the co...   \n",
              "4409   who does he ask this? uncle dunston. where do...   \n",
              "4404                        where are they? at oakdale.   \n",
              "\n",
              "                        generated  score  \n",
              "4160                           no    0.0  \n",
              "1872             played in a ball    0.0  \n",
              "4618               in the kitchen    0.0  \n",
              "1869         because he was a bad    0.0  \n",
              "4619                       a bird    0.0  \n",
              "7904       \"engineered \"numbers\",    0.0  \n",
              "5371                   fishering.    0.0  \n",
              "5373                           no    0.0  \n",
              "2170                           no    0.0  \n",
              "5380                           12    0.0  \n",
              "4104   he's a rock-hard supporter    0.0  \n",
              "4590                    he did it    0.0  \n",
              "4594                    barcelona    0.0  \n",
              "4636                      sailing    0.0  \n",
              "4640                 he was fired    0.0  \n",
              "1640  the preparation of a temple    0.0  \n",
              "1750      a quarter of the number    0.0  \n",
              "7444                          yes    0.0  \n",
              "1748                     hydrogen    0.0  \n",
              "7445                          yes    0.0  \n",
              "207                      theariel    0.0  \n",
              "1347                           no    0.0  \n",
              "1348                       philip    0.0  \n",
              "4409           to know what to do    0.0  \n",
              "4404                           no    0.0  "
            ]
          },
          "metadata": {},
          "output_type": "display_data"
        }
      ],
      "source": [
        "from IPython.display import display, HTML\n",
        "\n",
        "n_errors_each_source = 5\n",
        "\n",
        "for model in selected_models:\n",
        "    print(model)\n",
        "    df_res = results_from_json(**(model))\n",
        "    df_errors = get_worst_errors(df_res, model, n_errors_each_source)\n",
        "    display(df_errors.head(25))"
      ]
    }
  ],
  "metadata": {
    "accelerator": "GPU",
    "colab": {
      "provenance": []
    },
    "gpuClass": "standard",
    "kernelspec": {
      "display_name": "nlp",
      "language": "python",
      "name": "python3"
    },
    "language_info": {
      "codemirror_mode": {
        "name": "ipython",
        "version": 3
      },
      "file_extension": ".py",
      "mimetype": "text/x-python",
      "name": "python",
      "nbconvert_exporter": "python",
      "pygments_lexer": "ipython3",
      "version": "3.7.13"
    },
    "vscode": {
      "interpreter": {
        "hash": "0847cda728ef3e0f335e7e94b5a043d9a0fda1c620343fc6302f7013063303dc"
      }
    },
    "widgets": {
      "application/vnd.jupyter.widget-state+json": {
        "13591ef632ea4417abee21efe00a5735": {
          "model_module": "@jupyter-widgets/base",
          "model_module_version": "1.2.0",
          "model_name": "LayoutModel",
          "state": {
            "_model_module": "@jupyter-widgets/base",
            "_model_module_version": "1.2.0",
            "_model_name": "LayoutModel",
            "_view_count": null,
            "_view_module": "@jupyter-widgets/base",
            "_view_module_version": "1.2.0",
            "_view_name": "LayoutView",
            "align_content": null,
            "align_items": null,
            "align_self": null,
            "border": null,
            "bottom": null,
            "display": null,
            "flex": null,
            "flex_flow": null,
            "grid_area": null,
            "grid_auto_columns": null,
            "grid_auto_flow": null,
            "grid_auto_rows": null,
            "grid_column": null,
            "grid_gap": null,
            "grid_row": null,
            "grid_template_areas": null,
            "grid_template_columns": null,
            "grid_template_rows": null,
            "height": null,
            "justify_content": null,
            "justify_items": null,
            "left": null,
            "margin": null,
            "max_height": null,
            "max_width": null,
            "min_height": null,
            "min_width": null,
            "object_fit": null,
            "object_position": null,
            "order": null,
            "overflow": null,
            "overflow_x": null,
            "overflow_y": null,
            "padding": null,
            "right": null,
            "top": null,
            "visibility": null,
            "width": null
          }
        },
        "190f1946ae9848ba935ef9ad842ba9e0": {
          "model_module": "@jupyter-widgets/controls",
          "model_module_version": "1.5.0",
          "model_name": "ProgressStyleModel",
          "state": {
            "_model_module": "@jupyter-widgets/controls",
            "_model_module_version": "1.5.0",
            "_model_name": "ProgressStyleModel",
            "_view_count": null,
            "_view_module": "@jupyter-widgets/base",
            "_view_module_version": "1.2.0",
            "_view_name": "StyleView",
            "bar_color": null,
            "description_width": ""
          }
        },
        "1a7c1f8ff4314ef79fd4756b1ac3f1e9": {
          "model_module": "@jupyter-widgets/controls",
          "model_module_version": "1.5.0",
          "model_name": "HBoxModel",
          "state": {
            "_dom_classes": [],
            "_model_module": "@jupyter-widgets/controls",
            "_model_module_version": "1.5.0",
            "_model_name": "HBoxModel",
            "_view_count": null,
            "_view_module": "@jupyter-widgets/controls",
            "_view_module_version": "1.5.0",
            "_view_name": "HBoxView",
            "box_style": "",
            "children": [
              "IPY_MODEL_89a564eeabd148849ab602cf3fab0820",
              "IPY_MODEL_ed4fcd9c3d5049d29ea377612dca71cc",
              "IPY_MODEL_e708fa71aa214f0c9c0b2f2ff640a093"
            ],
            "layout": "IPY_MODEL_d04f7b05f6a1473bae12e3610c18ea87"
          }
        },
        "1dd05d49787640bfa6d2a049fbabc2cd": {
          "model_module": "@jupyter-widgets/controls",
          "model_module_version": "1.5.0",
          "model_name": "HTMLModel",
          "state": {
            "_dom_classes": [],
            "_model_module": "@jupyter-widgets/controls",
            "_model_module_version": "1.5.0",
            "_model_name": "HTMLModel",
            "_view_count": null,
            "_view_module": "@jupyter-widgets/controls",
            "_view_module_version": "1.5.0",
            "_view_name": "HTMLView",
            "description": "",
            "description_tooltip": null,
            "layout": "IPY_MODEL_c224abe7d8b94ab3838424696402ff18",
            "placeholder": "​",
            "style": "IPY_MODEL_57206a3f719e46f1a598b350277a140b",
            "value": " 232k/232k [00:00&lt;00:00, 246kB/s]"
          }
        },
        "2177a206300c4b5bb372b68536bdc5a2": {
          "model_module": "@jupyter-widgets/controls",
          "model_module_version": "1.5.0",
          "model_name": "DescriptionStyleModel",
          "state": {
            "_model_module": "@jupyter-widgets/controls",
            "_model_module_version": "1.5.0",
            "_model_name": "DescriptionStyleModel",
            "_view_count": null,
            "_view_module": "@jupyter-widgets/base",
            "_view_module_version": "1.2.0",
            "_view_name": "StyleView",
            "description_width": ""
          }
        },
        "25dcee7a832141ceab64344ea3b080f2": {
          "model_module": "@jupyter-widgets/base",
          "model_module_version": "1.2.0",
          "model_name": "LayoutModel",
          "state": {
            "_model_module": "@jupyter-widgets/base",
            "_model_module_version": "1.2.0",
            "_model_name": "LayoutModel",
            "_view_count": null,
            "_view_module": "@jupyter-widgets/base",
            "_view_module_version": "1.2.0",
            "_view_name": "LayoutView",
            "align_content": null,
            "align_items": null,
            "align_self": null,
            "border": null,
            "bottom": null,
            "display": null,
            "flex": null,
            "flex_flow": null,
            "grid_area": null,
            "grid_auto_columns": null,
            "grid_auto_flow": null,
            "grid_auto_rows": null,
            "grid_column": null,
            "grid_gap": null,
            "grid_row": null,
            "grid_template_areas": null,
            "grid_template_columns": null,
            "grid_template_rows": null,
            "height": null,
            "justify_content": null,
            "justify_items": null,
            "left": null,
            "margin": null,
            "max_height": null,
            "max_width": null,
            "min_height": null,
            "min_width": null,
            "object_fit": null,
            "object_position": null,
            "order": null,
            "overflow": null,
            "overflow_x": null,
            "overflow_y": null,
            "padding": null,
            "right": null,
            "top": null,
            "visibility": null,
            "width": null
          }
        },
        "2809423da66b46f1a3786097197b08eb": {
          "model_module": "@jupyter-widgets/controls",
          "model_module_version": "1.5.0",
          "model_name": "HBoxModel",
          "state": {
            "_dom_classes": [],
            "_model_module": "@jupyter-widgets/controls",
            "_model_module_version": "1.5.0",
            "_model_name": "HBoxModel",
            "_view_count": null,
            "_view_module": "@jupyter-widgets/controls",
            "_view_module_version": "1.5.0",
            "_view_name": "HBoxView",
            "box_style": "",
            "children": [
              "IPY_MODEL_bfca35066f224fcf89b46f6dfde5243e",
              "IPY_MODEL_af2c8fa16000424d811c33bd0f3ac329",
              "IPY_MODEL_1dd05d49787640bfa6d2a049fbabc2cd"
            ],
            "layout": "IPY_MODEL_c8b03fbdbc2844bfa60e1dad73f3db3b"
          }
        },
        "287f6e56a1bd486887204dfb3ddc5cf2": {
          "model_module": "@jupyter-widgets/controls",
          "model_module_version": "1.5.0",
          "model_name": "HTMLModel",
          "state": {
            "_dom_classes": [],
            "_model_module": "@jupyter-widgets/controls",
            "_model_module_version": "1.5.0",
            "_model_name": "HTMLModel",
            "_view_count": null,
            "_view_module": "@jupyter-widgets/controls",
            "_view_module_version": "1.5.0",
            "_view_name": "HTMLView",
            "description": "",
            "description_tooltip": null,
            "layout": "IPY_MODEL_da4163db399f41a5997e119c7c3015e1",
            "placeholder": "​",
            "style": "IPY_MODEL_bcb346ff51a34d3da41fd7bbe39b8ee2",
            "value": " 285/285 [00:00&lt;00:00, 17.5kB/s]"
          }
        },
        "34d10caab1ca49a88c103587b23a412c": {
          "model_module": "@jupyter-widgets/controls",
          "model_module_version": "1.5.0",
          "model_name": "ProgressStyleModel",
          "state": {
            "_model_module": "@jupyter-widgets/controls",
            "_model_module_version": "1.5.0",
            "_model_name": "ProgressStyleModel",
            "_view_count": null,
            "_view_module": "@jupyter-widgets/base",
            "_view_module_version": "1.2.0",
            "_view_name": "StyleView",
            "bar_color": null,
            "description_width": ""
          }
        },
        "3f01f40ac5da4dc7b9c769f721689f9b": {
          "model_module": "@jupyter-widgets/base",
          "model_module_version": "1.2.0",
          "model_name": "LayoutModel",
          "state": {
            "_model_module": "@jupyter-widgets/base",
            "_model_module_version": "1.2.0",
            "_model_name": "LayoutModel",
            "_view_count": null,
            "_view_module": "@jupyter-widgets/base",
            "_view_module_version": "1.2.0",
            "_view_name": "LayoutView",
            "align_content": null,
            "align_items": null,
            "align_self": null,
            "border": null,
            "bottom": null,
            "display": null,
            "flex": null,
            "flex_flow": null,
            "grid_area": null,
            "grid_auto_columns": null,
            "grid_auto_flow": null,
            "grid_auto_rows": null,
            "grid_column": null,
            "grid_gap": null,
            "grid_row": null,
            "grid_template_areas": null,
            "grid_template_columns": null,
            "grid_template_rows": null,
            "height": null,
            "justify_content": null,
            "justify_items": null,
            "left": null,
            "margin": null,
            "max_height": null,
            "max_width": null,
            "min_height": null,
            "min_width": null,
            "object_fit": null,
            "object_position": null,
            "order": null,
            "overflow": null,
            "overflow_x": null,
            "overflow_y": null,
            "padding": null,
            "right": null,
            "top": null,
            "visibility": null,
            "width": null
          }
        },
        "57206a3f719e46f1a598b350277a140b": {
          "model_module": "@jupyter-widgets/controls",
          "model_module_version": "1.5.0",
          "model_name": "DescriptionStyleModel",
          "state": {
            "_model_module": "@jupyter-widgets/controls",
            "_model_module_version": "1.5.0",
            "_model_name": "DescriptionStyleModel",
            "_view_count": null,
            "_view_module": "@jupyter-widgets/base",
            "_view_module_version": "1.2.0",
            "_view_name": "StyleView",
            "description_width": ""
          }
        },
        "5dd4956e597c4a56b7c35e10f18b3df2": {
          "model_module": "@jupyter-widgets/controls",
          "model_module_version": "1.5.0",
          "model_name": "HTMLModel",
          "state": {
            "_dom_classes": [],
            "_model_module": "@jupyter-widgets/controls",
            "_model_module_version": "1.5.0",
            "_model_name": "HTMLModel",
            "_view_count": null,
            "_view_module": "@jupyter-widgets/controls",
            "_view_module_version": "1.5.0",
            "_view_name": "HTMLView",
            "description": "",
            "description_tooltip": null,
            "layout": "IPY_MODEL_c608cdb413a74604badf7e542c76508c",
            "placeholder": "​",
            "style": "IPY_MODEL_2177a206300c4b5bb372b68536bdc5a2",
            "value": "Downloading: 100%"
          }
        },
        "5fb4f63359c44d089bd5b5fa6e0b2ef2": {
          "model_module": "@jupyter-widgets/controls",
          "model_module_version": "1.5.0",
          "model_name": "DescriptionStyleModel",
          "state": {
            "_model_module": "@jupyter-widgets/controls",
            "_model_module_version": "1.5.0",
            "_model_name": "DescriptionStyleModel",
            "_view_count": null,
            "_view_module": "@jupyter-widgets/base",
            "_view_module_version": "1.2.0",
            "_view_name": "StyleView",
            "description_width": ""
          }
        },
        "66f0327fb6984beaa3ca029a8c4a294a": {
          "model_module": "@jupyter-widgets/base",
          "model_module_version": "1.2.0",
          "model_name": "LayoutModel",
          "state": {
            "_model_module": "@jupyter-widgets/base",
            "_model_module_version": "1.2.0",
            "_model_name": "LayoutModel",
            "_view_count": null,
            "_view_module": "@jupyter-widgets/base",
            "_view_module_version": "1.2.0",
            "_view_name": "LayoutView",
            "align_content": null,
            "align_items": null,
            "align_self": null,
            "border": null,
            "bottom": null,
            "display": null,
            "flex": null,
            "flex_flow": null,
            "grid_area": null,
            "grid_auto_columns": null,
            "grid_auto_flow": null,
            "grid_auto_rows": null,
            "grid_column": null,
            "grid_gap": null,
            "grid_row": null,
            "grid_template_areas": null,
            "grid_template_columns": null,
            "grid_template_rows": null,
            "height": null,
            "justify_content": null,
            "justify_items": null,
            "left": null,
            "margin": null,
            "max_height": null,
            "max_width": null,
            "min_height": null,
            "min_width": null,
            "object_fit": null,
            "object_position": null,
            "order": null,
            "overflow": null,
            "overflow_x": null,
            "overflow_y": null,
            "padding": null,
            "right": null,
            "top": null,
            "visibility": null,
            "width": null
          }
        },
        "6b4df79ae0ee4b64a8682a6f8e3585c3": {
          "model_module": "@jupyter-widgets/controls",
          "model_module_version": "1.5.0",
          "model_name": "DescriptionStyleModel",
          "state": {
            "_model_module": "@jupyter-widgets/controls",
            "_model_module_version": "1.5.0",
            "_model_name": "DescriptionStyleModel",
            "_view_count": null,
            "_view_module": "@jupyter-widgets/base",
            "_view_module_version": "1.2.0",
            "_view_name": "StyleView",
            "description_width": ""
          }
        },
        "89a564eeabd148849ab602cf3fab0820": {
          "model_module": "@jupyter-widgets/controls",
          "model_module_version": "1.5.0",
          "model_name": "HTMLModel",
          "state": {
            "_dom_classes": [],
            "_model_module": "@jupyter-widgets/controls",
            "_model_module_version": "1.5.0",
            "_model_name": "HTMLModel",
            "_view_count": null,
            "_view_module": "@jupyter-widgets/controls",
            "_view_module_version": "1.5.0",
            "_view_name": "HTMLView",
            "description": "",
            "description_tooltip": null,
            "layout": "IPY_MODEL_f175278ee7954883b99fd0f3b42e7ada",
            "placeholder": "​",
            "style": "IPY_MODEL_a390fe238b274105a3086ede55b0afe3",
            "value": "Downloading: 100%"
          }
        },
        "a0384c24d9c04f128021b128b52f5229": {
          "model_module": "@jupyter-widgets/base",
          "model_module_version": "1.2.0",
          "model_name": "LayoutModel",
          "state": {
            "_model_module": "@jupyter-widgets/base",
            "_model_module_version": "1.2.0",
            "_model_name": "LayoutModel",
            "_view_count": null,
            "_view_module": "@jupyter-widgets/base",
            "_view_module_version": "1.2.0",
            "_view_name": "LayoutView",
            "align_content": null,
            "align_items": null,
            "align_self": null,
            "border": null,
            "bottom": null,
            "display": null,
            "flex": null,
            "flex_flow": null,
            "grid_area": null,
            "grid_auto_columns": null,
            "grid_auto_flow": null,
            "grid_auto_rows": null,
            "grid_column": null,
            "grid_gap": null,
            "grid_row": null,
            "grid_template_areas": null,
            "grid_template_columns": null,
            "grid_template_rows": null,
            "height": null,
            "justify_content": null,
            "justify_items": null,
            "left": null,
            "margin": null,
            "max_height": null,
            "max_width": null,
            "min_height": null,
            "min_width": null,
            "object_fit": null,
            "object_position": null,
            "order": null,
            "overflow": null,
            "overflow_x": null,
            "overflow_y": null,
            "padding": null,
            "right": null,
            "top": null,
            "visibility": null,
            "width": null
          }
        },
        "a390fe238b274105a3086ede55b0afe3": {
          "model_module": "@jupyter-widgets/controls",
          "model_module_version": "1.5.0",
          "model_name": "DescriptionStyleModel",
          "state": {
            "_model_module": "@jupyter-widgets/controls",
            "_model_module_version": "1.5.0",
            "_model_name": "DescriptionStyleModel",
            "_view_count": null,
            "_view_module": "@jupyter-widgets/base",
            "_view_module_version": "1.2.0",
            "_view_name": "StyleView",
            "description_width": ""
          }
        },
        "af2c8fa16000424d811c33bd0f3ac329": {
          "model_module": "@jupyter-widgets/controls",
          "model_module_version": "1.5.0",
          "model_name": "FloatProgressModel",
          "state": {
            "_dom_classes": [],
            "_model_module": "@jupyter-widgets/controls",
            "_model_module_version": "1.5.0",
            "_model_name": "FloatProgressModel",
            "_view_count": null,
            "_view_module": "@jupyter-widgets/controls",
            "_view_module_version": "1.5.0",
            "_view_name": "ProgressView",
            "bar_style": "success",
            "description": "",
            "description_tooltip": null,
            "layout": "IPY_MODEL_25dcee7a832141ceab64344ea3b080f2",
            "max": 231508,
            "min": 0,
            "orientation": "horizontal",
            "style": "IPY_MODEL_34d10caab1ca49a88c103587b23a412c",
            "value": 231508
          }
        },
        "bcb346ff51a34d3da41fd7bbe39b8ee2": {
          "model_module": "@jupyter-widgets/controls",
          "model_module_version": "1.5.0",
          "model_name": "DescriptionStyleModel",
          "state": {
            "_model_module": "@jupyter-widgets/controls",
            "_model_module_version": "1.5.0",
            "_model_name": "DescriptionStyleModel",
            "_view_count": null,
            "_view_module": "@jupyter-widgets/base",
            "_view_module_version": "1.2.0",
            "_view_name": "StyleView",
            "description_width": ""
          }
        },
        "bfca35066f224fcf89b46f6dfde5243e": {
          "model_module": "@jupyter-widgets/controls",
          "model_module_version": "1.5.0",
          "model_name": "HTMLModel",
          "state": {
            "_dom_classes": [],
            "_model_module": "@jupyter-widgets/controls",
            "_model_module_version": "1.5.0",
            "_model_name": "HTMLModel",
            "_view_count": null,
            "_view_module": "@jupyter-widgets/controls",
            "_view_module_version": "1.5.0",
            "_view_name": "HTMLView",
            "description": "",
            "description_tooltip": null,
            "layout": "IPY_MODEL_a0384c24d9c04f128021b128b52f5229",
            "placeholder": "​",
            "style": "IPY_MODEL_5fb4f63359c44d089bd5b5fa6e0b2ef2",
            "value": "Downloading: 100%"
          }
        },
        "c0432f5e81b0472a81bb61846da10f32": {
          "model_module": "@jupyter-widgets/controls",
          "model_module_version": "1.5.0",
          "model_name": "ProgressStyleModel",
          "state": {
            "_model_module": "@jupyter-widgets/controls",
            "_model_module_version": "1.5.0",
            "_model_name": "ProgressStyleModel",
            "_view_count": null,
            "_view_module": "@jupyter-widgets/base",
            "_view_module_version": "1.2.0",
            "_view_name": "StyleView",
            "bar_color": null,
            "description_width": ""
          }
        },
        "c224abe7d8b94ab3838424696402ff18": {
          "model_module": "@jupyter-widgets/base",
          "model_module_version": "1.2.0",
          "model_name": "LayoutModel",
          "state": {
            "_model_module": "@jupyter-widgets/base",
            "_model_module_version": "1.2.0",
            "_model_name": "LayoutModel",
            "_view_count": null,
            "_view_module": "@jupyter-widgets/base",
            "_view_module_version": "1.2.0",
            "_view_name": "LayoutView",
            "align_content": null,
            "align_items": null,
            "align_self": null,
            "border": null,
            "bottom": null,
            "display": null,
            "flex": null,
            "flex_flow": null,
            "grid_area": null,
            "grid_auto_columns": null,
            "grid_auto_flow": null,
            "grid_auto_rows": null,
            "grid_column": null,
            "grid_gap": null,
            "grid_row": null,
            "grid_template_areas": null,
            "grid_template_columns": null,
            "grid_template_rows": null,
            "height": null,
            "justify_content": null,
            "justify_items": null,
            "left": null,
            "margin": null,
            "max_height": null,
            "max_width": null,
            "min_height": null,
            "min_width": null,
            "object_fit": null,
            "object_position": null,
            "order": null,
            "overflow": null,
            "overflow_x": null,
            "overflow_y": null,
            "padding": null,
            "right": null,
            "top": null,
            "visibility": null,
            "width": null
          }
        },
        "c367a9c106e84630a0c013a7716ff854": {
          "model_module": "@jupyter-widgets/controls",
          "model_module_version": "1.5.0",
          "model_name": "FloatProgressModel",
          "state": {
            "_dom_classes": [],
            "_model_module": "@jupyter-widgets/controls",
            "_model_module_version": "1.5.0",
            "_model_name": "FloatProgressModel",
            "_view_count": null,
            "_view_module": "@jupyter-widgets/controls",
            "_view_module_version": "1.5.0",
            "_view_name": "ProgressView",
            "bar_style": "success",
            "description": "",
            "description_tooltip": null,
            "layout": "IPY_MODEL_f18fccabda9248d899f15b4c9d0ea695",
            "max": 285,
            "min": 0,
            "orientation": "horizontal",
            "style": "IPY_MODEL_c0432f5e81b0472a81bb61846da10f32",
            "value": 285
          }
        },
        "c608cdb413a74604badf7e542c76508c": {
          "model_module": "@jupyter-widgets/base",
          "model_module_version": "1.2.0",
          "model_name": "LayoutModel",
          "state": {
            "_model_module": "@jupyter-widgets/base",
            "_model_module_version": "1.2.0",
            "_model_name": "LayoutModel",
            "_view_count": null,
            "_view_module": "@jupyter-widgets/base",
            "_view_module_version": "1.2.0",
            "_view_name": "LayoutView",
            "align_content": null,
            "align_items": null,
            "align_self": null,
            "border": null,
            "bottom": null,
            "display": null,
            "flex": null,
            "flex_flow": null,
            "grid_area": null,
            "grid_auto_columns": null,
            "grid_auto_flow": null,
            "grid_auto_rows": null,
            "grid_column": null,
            "grid_gap": null,
            "grid_row": null,
            "grid_template_areas": null,
            "grid_template_columns": null,
            "grid_template_rows": null,
            "height": null,
            "justify_content": null,
            "justify_items": null,
            "left": null,
            "margin": null,
            "max_height": null,
            "max_width": null,
            "min_height": null,
            "min_width": null,
            "object_fit": null,
            "object_position": null,
            "order": null,
            "overflow": null,
            "overflow_x": null,
            "overflow_y": null,
            "padding": null,
            "right": null,
            "top": null,
            "visibility": null,
            "width": null
          }
        },
        "c8b03fbdbc2844bfa60e1dad73f3db3b": {
          "model_module": "@jupyter-widgets/base",
          "model_module_version": "1.2.0",
          "model_name": "LayoutModel",
          "state": {
            "_model_module": "@jupyter-widgets/base",
            "_model_module_version": "1.2.0",
            "_model_name": "LayoutModel",
            "_view_count": null,
            "_view_module": "@jupyter-widgets/base",
            "_view_module_version": "1.2.0",
            "_view_name": "LayoutView",
            "align_content": null,
            "align_items": null,
            "align_self": null,
            "border": null,
            "bottom": null,
            "display": null,
            "flex": null,
            "flex_flow": null,
            "grid_area": null,
            "grid_auto_columns": null,
            "grid_auto_flow": null,
            "grid_auto_rows": null,
            "grid_column": null,
            "grid_gap": null,
            "grid_row": null,
            "grid_template_areas": null,
            "grid_template_columns": null,
            "grid_template_rows": null,
            "height": null,
            "justify_content": null,
            "justify_items": null,
            "left": null,
            "margin": null,
            "max_height": null,
            "max_width": null,
            "min_height": null,
            "min_width": null,
            "object_fit": null,
            "object_position": null,
            "order": null,
            "overflow": null,
            "overflow_x": null,
            "overflow_y": null,
            "padding": null,
            "right": null,
            "top": null,
            "visibility": null,
            "width": null
          }
        },
        "d04f7b05f6a1473bae12e3610c18ea87": {
          "model_module": "@jupyter-widgets/base",
          "model_module_version": "1.2.0",
          "model_name": "LayoutModel",
          "state": {
            "_model_module": "@jupyter-widgets/base",
            "_model_module_version": "1.2.0",
            "_model_name": "LayoutModel",
            "_view_count": null,
            "_view_module": "@jupyter-widgets/base",
            "_view_module_version": "1.2.0",
            "_view_name": "LayoutView",
            "align_content": null,
            "align_items": null,
            "align_self": null,
            "border": null,
            "bottom": null,
            "display": null,
            "flex": null,
            "flex_flow": null,
            "grid_area": null,
            "grid_auto_columns": null,
            "grid_auto_flow": null,
            "grid_auto_rows": null,
            "grid_column": null,
            "grid_gap": null,
            "grid_row": null,
            "grid_template_areas": null,
            "grid_template_columns": null,
            "grid_template_rows": null,
            "height": null,
            "justify_content": null,
            "justify_items": null,
            "left": null,
            "margin": null,
            "max_height": null,
            "max_width": null,
            "min_height": null,
            "min_width": null,
            "object_fit": null,
            "object_position": null,
            "order": null,
            "overflow": null,
            "overflow_x": null,
            "overflow_y": null,
            "padding": null,
            "right": null,
            "top": null,
            "visibility": null,
            "width": null
          }
        },
        "da4163db399f41a5997e119c7c3015e1": {
          "model_module": "@jupyter-widgets/base",
          "model_module_version": "1.2.0",
          "model_name": "LayoutModel",
          "state": {
            "_model_module": "@jupyter-widgets/base",
            "_model_module_version": "1.2.0",
            "_model_name": "LayoutModel",
            "_view_count": null,
            "_view_module": "@jupyter-widgets/base",
            "_view_module_version": "1.2.0",
            "_view_name": "LayoutView",
            "align_content": null,
            "align_items": null,
            "align_self": null,
            "border": null,
            "bottom": null,
            "display": null,
            "flex": null,
            "flex_flow": null,
            "grid_area": null,
            "grid_auto_columns": null,
            "grid_auto_flow": null,
            "grid_auto_rows": null,
            "grid_column": null,
            "grid_gap": null,
            "grid_row": null,
            "grid_template_areas": null,
            "grid_template_columns": null,
            "grid_template_rows": null,
            "height": null,
            "justify_content": null,
            "justify_items": null,
            "left": null,
            "margin": null,
            "max_height": null,
            "max_width": null,
            "min_height": null,
            "min_width": null,
            "object_fit": null,
            "object_position": null,
            "order": null,
            "overflow": null,
            "overflow_x": null,
            "overflow_y": null,
            "padding": null,
            "right": null,
            "top": null,
            "visibility": null,
            "width": null
          }
        },
        "e4ad0dbdc5da4da5bdce337387ce76db": {
          "model_module": "@jupyter-widgets/controls",
          "model_module_version": "1.5.0",
          "model_name": "HBoxModel",
          "state": {
            "_dom_classes": [],
            "_model_module": "@jupyter-widgets/controls",
            "_model_module_version": "1.5.0",
            "_model_name": "HBoxModel",
            "_view_count": null,
            "_view_module": "@jupyter-widgets/controls",
            "_view_module_version": "1.5.0",
            "_view_name": "HBoxView",
            "box_style": "",
            "children": [
              "IPY_MODEL_5dd4956e597c4a56b7c35e10f18b3df2",
              "IPY_MODEL_c367a9c106e84630a0c013a7716ff854",
              "IPY_MODEL_287f6e56a1bd486887204dfb3ddc5cf2"
            ],
            "layout": "IPY_MODEL_13591ef632ea4417abee21efe00a5735"
          }
        },
        "e708fa71aa214f0c9c0b2f2ff640a093": {
          "model_module": "@jupyter-widgets/controls",
          "model_module_version": "1.5.0",
          "model_name": "HTMLModel",
          "state": {
            "_dom_classes": [],
            "_model_module": "@jupyter-widgets/controls",
            "_model_module_version": "1.5.0",
            "_model_name": "HTMLModel",
            "_view_count": null,
            "_view_module": "@jupyter-widgets/controls",
            "_view_module_version": "1.5.0",
            "_view_name": "HTMLView",
            "description": "",
            "description_tooltip": null,
            "layout": "IPY_MODEL_3f01f40ac5da4dc7b9c769f721689f9b",
            "placeholder": "​",
            "style": "IPY_MODEL_6b4df79ae0ee4b64a8682a6f8e3585c3",
            "value": " 17.8M/17.8M [00:00&lt;00:00, 80.6MB/s]"
          }
        },
        "ed4fcd9c3d5049d29ea377612dca71cc": {
          "model_module": "@jupyter-widgets/controls",
          "model_module_version": "1.5.0",
          "model_name": "FloatProgressModel",
          "state": {
            "_dom_classes": [],
            "_model_module": "@jupyter-widgets/controls",
            "_model_module_version": "1.5.0",
            "_model_name": "FloatProgressModel",
            "_view_count": null,
            "_view_module": "@jupyter-widgets/controls",
            "_view_module_version": "1.5.0",
            "_view_name": "ProgressView",
            "bar_style": "success",
            "description": "",
            "description_tooltip": null,
            "layout": "IPY_MODEL_66f0327fb6984beaa3ca029a8c4a294a",
            "max": 17756393,
            "min": 0,
            "orientation": "horizontal",
            "style": "IPY_MODEL_190f1946ae9848ba935ef9ad842ba9e0",
            "value": 17756393
          }
        },
        "f175278ee7954883b99fd0f3b42e7ada": {
          "model_module": "@jupyter-widgets/base",
          "model_module_version": "1.2.0",
          "model_name": "LayoutModel",
          "state": {
            "_model_module": "@jupyter-widgets/base",
            "_model_module_version": "1.2.0",
            "_model_name": "LayoutModel",
            "_view_count": null,
            "_view_module": "@jupyter-widgets/base",
            "_view_module_version": "1.2.0",
            "_view_name": "LayoutView",
            "align_content": null,
            "align_items": null,
            "align_self": null,
            "border": null,
            "bottom": null,
            "display": null,
            "flex": null,
            "flex_flow": null,
            "grid_area": null,
            "grid_auto_columns": null,
            "grid_auto_flow": null,
            "grid_auto_rows": null,
            "grid_column": null,
            "grid_gap": null,
            "grid_row": null,
            "grid_template_areas": null,
            "grid_template_columns": null,
            "grid_template_rows": null,
            "height": null,
            "justify_content": null,
            "justify_items": null,
            "left": null,
            "margin": null,
            "max_height": null,
            "max_width": null,
            "min_height": null,
            "min_width": null,
            "object_fit": null,
            "object_position": null,
            "order": null,
            "overflow": null,
            "overflow_x": null,
            "overflow_y": null,
            "padding": null,
            "right": null,
            "top": null,
            "visibility": null,
            "width": null
          }
        },
        "f18fccabda9248d899f15b4c9d0ea695": {
          "model_module": "@jupyter-widgets/base",
          "model_module_version": "1.2.0",
          "model_name": "LayoutModel",
          "state": {
            "_model_module": "@jupyter-widgets/base",
            "_model_module_version": "1.2.0",
            "_model_name": "LayoutModel",
            "_view_count": null,
            "_view_module": "@jupyter-widgets/base",
            "_view_module_version": "1.2.0",
            "_view_name": "LayoutView",
            "align_content": null,
            "align_items": null,
            "align_self": null,
            "border": null,
            "bottom": null,
            "display": null,
            "flex": null,
            "flex_flow": null,
            "grid_area": null,
            "grid_auto_columns": null,
            "grid_auto_flow": null,
            "grid_auto_rows": null,
            "grid_column": null,
            "grid_gap": null,
            "grid_row": null,
            "grid_template_areas": null,
            "grid_template_columns": null,
            "grid_template_rows": null,
            "height": null,
            "justify_content": null,
            "justify_items": null,
            "left": null,
            "margin": null,
            "max_height": null,
            "max_width": null,
            "min_height": null,
            "min_width": null,
            "object_fit": null,
            "object_position": null,
            "order": null,
            "overflow": null,
            "overflow_x": null,
            "overflow_y": null,
            "padding": null,
            "right": null,
            "top": null,
            "visibility": null,
            "width": null
          }
        }
      }
    }
  },
  "nbformat": 4,
  "nbformat_minor": 0
}
