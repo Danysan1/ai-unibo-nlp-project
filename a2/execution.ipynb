{
  "cells": [
    {
      "cell_type": "markdown",
      "metadata": {
        "id": "1QWFYP-74_MS"
      },
      "source": [
        "[![Open In Colab](https://colab.research.google.com/assets/colab-badge.svg)](https://colab.research.google.com/github/Danysan1/ai-unibo-nlp-project/blob/main/a2/execution.ipynb)\n",
        "[![Kaggle](https://kaggle.com/static/images/open-in-kaggle.svg)](https://kaggle.com/kernels/welcome?src=https://github.com/Danysan1/ai-unibo-nlp-project/blob/main/a2/execution.ipynb)"
      ]
    },
    {
      "cell_type": "markdown",
      "metadata": {
        "id": "qtlMx4kv1mPK"
      },
      "source": [
        "# Assignment 2 execution"
      ]
    },
    {
      "cell_type": "code",
      "execution_count": 1,
      "metadata": {
        "colab": {
          "base_uri": "https://localhost:8080/"
        },
        "execution": {
          "iopub.execute_input": "2023-01-19T17:58:39.907601Z",
          "iopub.status.busy": "2023-01-19T17:58:39.906750Z",
          "iopub.status.idle": "2023-01-19T17:58:58.630356Z",
          "shell.execute_reply": "2023-01-19T17:58:58.629081Z",
          "shell.execute_reply.started": "2023-01-19T17:58:39.907491Z"
        },
        "id": "feevAAsT1mPL",
        "outputId": "f9bf2db7-116a-46b1-feb1-3d6355c040b8",
        "trusted": true
      },
      "outputs": [
        {
          "output_type": "stream",
          "name": "stdout",
          "text": [
            "Looking in indexes: https://pypi.org/simple, https://us-python.pkg.dev/colab-wheels/public/simple/\n",
            "Requirement already satisfied: pandas in /usr/local/lib/python3.8/dist-packages (1.3.5)\n",
            "Requirement already satisfied: numpy in /usr/local/lib/python3.8/dist-packages (1.21.6)\n",
            "Requirement already satisfied: matplotlib in /usr/local/lib/python3.8/dist-packages (3.2.2)\n",
            "Collecting transformers==4.25.1\n",
            "  Downloading transformers-4.25.1-py3-none-any.whl (5.8 MB)\n",
            "\u001b[2K     \u001b[90m━━━━━━━━━━━━━━━━━━━━━━━━━━━━━━━━━━━━━━━━\u001b[0m \u001b[32m5.8/5.8 MB\u001b[0m \u001b[31m25.6 MB/s\u001b[0m eta \u001b[36m0:00:00\u001b[0m\n",
            "\u001b[?25hCollecting dataset\n",
            "  Downloading dataset-1.5.2-py2.py3-none-any.whl (18 kB)\n",
            "Requirement already satisfied: regex!=2019.12.17 in /usr/local/lib/python3.8/dist-packages (from transformers==4.25.1) (2022.6.2)\n",
            "Requirement already satisfied: packaging>=20.0 in /usr/local/lib/python3.8/dist-packages (from transformers==4.25.1) (21.3)\n",
            "Requirement already satisfied: requests in /usr/local/lib/python3.8/dist-packages (from transformers==4.25.1) (2.25.1)\n",
            "Collecting tokenizers!=0.11.3,<0.14,>=0.11.1\n",
            "  Downloading tokenizers-0.13.2-cp38-cp38-manylinux_2_17_x86_64.manylinux2014_x86_64.whl (7.6 MB)\n",
            "\u001b[2K     \u001b[90m━━━━━━━━━━━━━━━━━━━━━━━━━━━━━━━━━━━━━━━━\u001b[0m \u001b[32m7.6/7.6 MB\u001b[0m \u001b[31m41.4 MB/s\u001b[0m eta \u001b[36m0:00:00\u001b[0m\n",
            "\u001b[?25hRequirement already satisfied: tqdm>=4.27 in /usr/local/lib/python3.8/dist-packages (from transformers==4.25.1) (4.64.1)\n",
            "Requirement already satisfied: filelock in /usr/local/lib/python3.8/dist-packages (from transformers==4.25.1) (3.9.0)\n",
            "Requirement already satisfied: pyyaml>=5.1 in /usr/local/lib/python3.8/dist-packages (from transformers==4.25.1) (6.0)\n",
            "Collecting huggingface-hub<1.0,>=0.10.0\n",
            "  Downloading huggingface_hub-0.11.1-py3-none-any.whl (182 kB)\n",
            "\u001b[2K     \u001b[90m━━━━━━━━━━━━━━━━━━━━━━━━━━━━━━━━━━━━━━━\u001b[0m \u001b[32m182.4/182.4 KB\u001b[0m \u001b[31m4.3 MB/s\u001b[0m eta \u001b[36m0:00:00\u001b[0m\n",
            "\u001b[?25hRequirement already satisfied: pytz>=2017.3 in /usr/local/lib/python3.8/dist-packages (from pandas) (2022.7)\n",
            "Requirement already satisfied: python-dateutil>=2.7.3 in /usr/local/lib/python3.8/dist-packages (from pandas) (2.8.2)\n",
            "Requirement already satisfied: kiwisolver>=1.0.1 in /usr/local/lib/python3.8/dist-packages (from matplotlib) (1.4.4)\n",
            "Requirement already satisfied: cycler>=0.10 in /usr/local/lib/python3.8/dist-packages (from matplotlib) (0.11.0)\n",
            "Requirement already satisfied: pyparsing!=2.0.4,!=2.1.2,!=2.1.6,>=2.0.1 in /usr/local/lib/python3.8/dist-packages (from matplotlib) (3.0.9)\n",
            "Collecting alembic>=0.6.2\n",
            "  Downloading alembic-1.9.2-py3-none-any.whl (210 kB)\n",
            "\u001b[2K     \u001b[90m━━━━━━━━━━━━━━━━━━━━━━━━━━━━━━━━━━━━━━\u001b[0m \u001b[32m210.6/210.6 KB\u001b[0m \u001b[31m10.7 MB/s\u001b[0m eta \u001b[36m0:00:00\u001b[0m\n",
            "\u001b[?25hCollecting banal>=1.0.1\n",
            "  Downloading banal-1.0.6-py2.py3-none-any.whl (6.1 kB)\n",
            "Requirement already satisfied: sqlalchemy>=1.3.2 in /usr/local/lib/python3.8/dist-packages (from dataset) (1.4.46)\n",
            "Collecting Mako\n",
            "  Downloading Mako-1.2.4-py3-none-any.whl (78 kB)\n",
            "\u001b[2K     \u001b[90m━━━━━━━━━━━━━━━━━━━━━━━━━━━━━━━━━━━━━━━━\u001b[0m \u001b[32m78.7/78.7 KB\u001b[0m \u001b[31m4.2 MB/s\u001b[0m eta \u001b[36m0:00:00\u001b[0m\n",
            "\u001b[?25hRequirement already satisfied: importlib-metadata in /usr/local/lib/python3.8/dist-packages (from alembic>=0.6.2->dataset) (6.0.0)\n",
            "Requirement already satisfied: importlib-resources in /usr/local/lib/python3.8/dist-packages (from alembic>=0.6.2->dataset) (5.10.2)\n",
            "Requirement already satisfied: typing-extensions>=3.7.4.3 in /usr/local/lib/python3.8/dist-packages (from huggingface-hub<1.0,>=0.10.0->transformers==4.25.1) (4.4.0)\n",
            "Requirement already satisfied: six>=1.5 in /usr/local/lib/python3.8/dist-packages (from python-dateutil>=2.7.3->pandas) (1.15.0)\n",
            "Requirement already satisfied: greenlet!=0.4.17 in /usr/local/lib/python3.8/dist-packages (from sqlalchemy>=1.3.2->dataset) (2.0.1)\n",
            "Requirement already satisfied: idna<3,>=2.5 in /usr/local/lib/python3.8/dist-packages (from requests->transformers==4.25.1) (2.10)\n",
            "Requirement already satisfied: certifi>=2017.4.17 in /usr/local/lib/python3.8/dist-packages (from requests->transformers==4.25.1) (2022.12.7)\n",
            "Requirement already satisfied: chardet<5,>=3.0.2 in /usr/local/lib/python3.8/dist-packages (from requests->transformers==4.25.1) (4.0.0)\n",
            "Requirement already satisfied: urllib3<1.27,>=1.21.1 in /usr/local/lib/python3.8/dist-packages (from requests->transformers==4.25.1) (1.24.3)\n",
            "Requirement already satisfied: zipp>=0.5 in /usr/local/lib/python3.8/dist-packages (from importlib-metadata->alembic>=0.6.2->dataset) (3.11.0)\n",
            "Requirement already satisfied: MarkupSafe>=0.9.2 in /usr/local/lib/python3.8/dist-packages (from Mako->alembic>=0.6.2->dataset) (2.0.1)\n",
            "Installing collected packages: tokenizers, banal, Mako, huggingface-hub, alembic, transformers, dataset\n",
            "Successfully installed Mako-1.2.4 alembic-1.9.2 banal-1.0.6 dataset-1.5.2 huggingface-hub-0.11.1 tokenizers-0.13.2 transformers-4.25.1\n"
          ]
        }
      ],
      "source": [
        "%pip install pandas numpy matplotlib transformers==4.25.1  dataset"
      ]
    },
    {
      "cell_type": "code",
      "execution_count": 2,
      "metadata": {
        "execution": {
          "iopub.execute_input": "2023-01-19T17:58:58.633650Z",
          "iopub.status.busy": "2023-01-19T17:58:58.632928Z",
          "iopub.status.idle": "2023-01-19T17:59:06.614498Z",
          "shell.execute_reply": "2023-01-19T17:59:06.613443Z",
          "shell.execute_reply.started": "2023-01-19T17:58:58.633606Z"
        },
        "id": "VRsmY5Wn1mPV",
        "trusted": true
      },
      "outputs": [],
      "source": [
        "import numpy as np\n",
        "import pandas as pd\n",
        "import json\n",
        "from os import path\n",
        "from matplotlib import pyplot as plt\n",
        "import random\n",
        "import gc\n",
        "import torch\n",
        "import transformers\n",
        "from tqdm import tqdm\n",
        "from typing import Callable, Dict, List, Tuple\n",
        "from timeit import default_timer as timer\n",
        "from transformers import EncoderDecoderModel, AutoTokenizer, PreTrainedTokenizer, BatchEncoding\n",
        "from torch.utils.data import Dataset, DataLoader"
      ]
    },
    {
      "cell_type": "code",
      "execution_count": 3,
      "metadata": {
        "execution": {
          "iopub.execute_input": "2023-01-19T17:59:06.616486Z",
          "iopub.status.busy": "2023-01-19T17:59:06.616142Z",
          "iopub.status.idle": "2023-01-19T17:59:06.625592Z",
          "shell.execute_reply": "2023-01-19T17:59:06.624645Z",
          "shell.execute_reply.started": "2023-01-19T17:59:06.616451Z"
        },
        "id": "qTNhrB7V4_Ma",
        "trusted": true
      },
      "outputs": [],
      "source": [
        "def fix_seed(seed: int) -> None:\n",
        "    \"\"\"Fix all the possible sources of randomness.\n",
        "\n",
        "    Args:\n",
        "        seed: the seed to use. \n",
        "    \"\"\"\n",
        "    np.random.seed(seed)\n",
        "    random.seed(seed)\n",
        "    torch.manual_seed(seed)\n",
        "    torch.cuda.manual_seed(seed)\n",
        "    \n",
        "    torch.backends.cudnn.benchmark = False\n",
        "    torch.backends.cudnn.deterministic = True"
      ]
    },
    {
      "cell_type": "code",
      "execution_count": 4,
      "metadata": {
        "execution": {
          "iopub.execute_input": "2023-01-19T17:59:06.627616Z",
          "iopub.status.busy": "2023-01-19T17:59:06.627017Z",
          "iopub.status.idle": "2023-01-19T17:59:06.639986Z",
          "shell.execute_reply": "2023-01-19T17:59:06.639119Z",
          "shell.execute_reply.started": "2023-01-19T17:59:06.627566Z"
        },
        "id": "9v096B1-4_Ma",
        "trusted": true
      },
      "outputs": [],
      "source": [
        "# Fix the random state to 42\n",
        "DATA_SPLITTING_RANDOM_SEED = 42\n",
        "fix_seed(DATA_SPLITTING_RANDOM_SEED)"
      ]
    },
    {
      "cell_type": "markdown",
      "metadata": {
        "id": "kJSsWQg_1mPO"
      },
      "source": [
        "## Data loading"
      ]
    },
    {
      "cell_type": "markdown",
      "metadata": {
        "id": "1mXm1Fpq1mPP"
      },
      "source": [
        "### Dataset download"
      ]
    },
    {
      "cell_type": "code",
      "execution_count": 5,
      "metadata": {
        "execution": {
          "iopub.execute_input": "2023-01-19T17:59:06.643678Z",
          "iopub.status.busy": "2023-01-19T17:59:06.643318Z",
          "iopub.status.idle": "2023-01-19T17:59:06.653441Z",
          "shell.execute_reply": "2023-01-19T17:59:06.652593Z",
          "shell.execute_reply.started": "2023-01-19T17:59:06.643646Z"
        },
        "id": "oOqlik_a1mPP",
        "trusted": true
      },
      "outputs": [],
      "source": [
        "import os\n",
        "import urllib.request\n",
        "from tqdm import tqdm\n",
        "\n",
        "class DownloadProgressBar(tqdm):\n",
        "    def update_to(self, b=1, bsize=1, tsize=None):\n",
        "        if tsize is not None:\n",
        "            self.total = tsize\n",
        "        self.update(b * bsize - self.n)\n",
        "        \n",
        "def download_url(url, output_path):\n",
        "    with DownloadProgressBar(unit='B', unit_scale=True,\n",
        "                             miniters=1, desc=url.split('/')[-1]) as t:\n",
        "        urllib.request.urlretrieve(url, filename=output_path, reporthook=t.update_to)\n",
        "\n",
        "def download_data(data_path, url_path, suffix):    \n",
        "    if not os.path.exists(data_path):\n",
        "        os.makedirs(data_path)\n",
        "        \n",
        "    data_path = os.path.join(data_path, f'{suffix}.json')\n",
        "    if not os.path.exists(data_path):\n",
        "        print(f\"Downloading CoQA {suffix} data split... (it may take a while)\")\n",
        "        download_url(url=url_path, output_path=data_path)\n",
        "        print(\"Download completed!\")"
      ]
    },
    {
      "cell_type": "code",
      "execution_count": 6,
      "metadata": {
        "execution": {
          "iopub.execute_input": "2023-01-19T17:59:06.655645Z",
          "iopub.status.busy": "2023-01-19T17:59:06.654954Z",
          "iopub.status.idle": "2023-01-19T17:59:06.662255Z",
          "shell.execute_reply": "2023-01-19T17:59:06.661370Z",
          "shell.execute_reply.started": "2023-01-19T17:59:06.655612Z"
        },
        "id": "sskRUOtB1mPR",
        "trusted": true
      },
      "outputs": [],
      "source": [
        "data_folder = 'Dataset'"
      ]
    },
    {
      "cell_type": "code",
      "execution_count": 7,
      "metadata": {
        "colab": {
          "base_uri": "https://localhost:8080/"
        },
        "execution": {
          "iopub.execute_input": "2023-01-19T17:59:06.664077Z",
          "iopub.status.busy": "2023-01-19T17:59:06.663635Z",
          "iopub.status.idle": "2023-01-19T17:59:12.429177Z",
          "shell.execute_reply": "2023-01-19T17:59:12.428129Z",
          "shell.execute_reply.started": "2023-01-19T17:59:06.664038Z"
        },
        "id": "CzsJWqI61mPR",
        "outputId": "37d96577-d51a-45d0-ce75-814e9401bea8",
        "trusted": true
      },
      "outputs": [
        {
          "output_type": "stream",
          "name": "stdout",
          "text": [
            "Downloading CoQA train data split... (it may take a while)\n"
          ]
        },
        {
          "output_type": "stream",
          "name": "stderr",
          "text": [
            "coqa-train-v1.0.json: 49.0MB [00:06, 8.10MB/s]                            \n"
          ]
        },
        {
          "output_type": "stream",
          "name": "stdout",
          "text": [
            "Download completed!\n",
            "Downloading CoQA test data split... (it may take a while)\n"
          ]
        },
        {
          "output_type": "stream",
          "name": "stderr",
          "text": [
            "coqa-dev-v1.0.json: 9.09MB [00:01, 6.80MB/s]                            "
          ]
        },
        {
          "output_type": "stream",
          "name": "stdout",
          "text": [
            "Download completed!\n"
          ]
        },
        {
          "output_type": "stream",
          "name": "stderr",
          "text": [
            "\n"
          ]
        }
      ],
      "source": [
        "# Train & Validation data\n",
        "train_url = \"https://nlp.stanford.edu/data/coqa/coqa-train-v1.0.json\"\n",
        "download_data(data_path=data_folder, url_path=train_url, suffix='train')\n",
        "\n",
        "# Test data\n",
        "test_url = \"https://nlp.stanford.edu/data/coqa/coqa-dev-v1.0.json\"\n",
        "download_data(data_path=data_folder, url_path=test_url, suffix='test')"
      ]
    },
    {
      "cell_type": "markdown",
      "metadata": {
        "id": "GsM9znVV1mPT"
      },
      "source": [
        "### Dataset loading"
      ]
    },
    {
      "cell_type": "code",
      "execution_count": 8,
      "metadata": {
        "execution": {
          "iopub.execute_input": "2023-01-19T17:59:12.431610Z",
          "iopub.status.busy": "2023-01-19T17:59:12.430906Z",
          "iopub.status.idle": "2023-01-19T17:59:12.443356Z",
          "shell.execute_reply": "2023-01-19T17:59:12.442108Z",
          "shell.execute_reply.started": "2023-01-19T17:59:12.431556Z"
        },
        "id": "lI74kMng1mPW",
        "trusted": true
      },
      "outputs": [],
      "source": [
        "def load_coqa_dataset(filename:str) -> pd.DataFrame:\n",
        "    with open(path.join(data_folder, filename)) as file_obj:\n",
        "        data_arr = json.load(file_obj)[\"data\"]\n",
        "    print(f'{len(data_arr)} stories / {len(data_arr[0][\"questions\"])} questions in the first row')\n",
        "    \n",
        "    # Prepare the Categorical DTypes\n",
        "\n",
        "    storyDType = pd.CategoricalDtype(pd.unique([story[\"story\"] for story in data_arr]))\n",
        "    print(f\"{storyDType.categories.size} distinct stories\")\n",
        "\n",
        "    sourceDType = pd.CategoricalDtype(pd.unique([story[\"source\"] for story in data_arr]))\n",
        "    print(f\"{sourceDType.categories.size} distinct sources: {sourceDType.categories}\")\n",
        "    \n",
        "    # Transform into a numpy matrix (denormalization and categorical factorization)\n",
        "\n",
        "    data_arr = np.array([\n",
        "        [\n",
        "            sourceDType.categories.get_loc(story[\"source\"]), # Sources factorization\n",
        "            storyDType.categories.get_loc(story[\"story\"]), # Sources factorization\n",
        "            story[\"questions\"][question_index][\"input_text\"],\n",
        "            story[\"answers\"][question_index][\"input_text\"],\n",
        "            story[\"answers\"][question_index][\"span_text\"],\n",
        "            #story[\"questions\"][question_index][\"turn_id\"],\n",
        "        ]\n",
        "        for story in data_arr\n",
        "        for question_index in range(len(story[\"questions\"]))\n",
        "        if story[\"answers\"][question_index][\"input_text\"] != 'unknown'\n",
        "    ])\n",
        "    print(f'{data_arr.shape} question-answer pairs x columns')\n",
        "    print(f'First row: {data_arr[0]}')\n",
        "    \n",
        "    # Transform into a DataFrame\n",
        "    \n",
        "    # https://marcobonzanini.com/2021/09/15/tips-for-saving-memory-with-pandas/\n",
        "    # https://pandas.pydata.org/docs/user_guide/categorical.html\n",
        "    return pd.DataFrame({\n",
        "        \"source\": pd.Series(pd.Categorical.from_codes(data_arr[:,0].astype(np.int16), dtype=sourceDType)),\n",
        "        \"p\": pd.Series(pd.Categorical.from_codes(data_arr[:,1].astype(np.int16), dtype=storyDType)),\n",
        "        \"q\": data_arr[:,2],\n",
        "        \"a\": data_arr[:,3],\n",
        "        \"span\": data_arr[:,4],\n",
        "    })"
      ]
    },
    {
      "cell_type": "code",
      "execution_count": 9,
      "metadata": {
        "execution": {
          "iopub.execute_input": "2023-01-19T17:59:12.445307Z",
          "iopub.status.busy": "2023-01-19T17:59:12.444948Z",
          "iopub.status.idle": "2023-01-19T17:59:12.463996Z",
          "shell.execute_reply": "2023-01-19T17:59:12.462970Z",
          "shell.execute_reply.started": "2023-01-19T17:59:12.445274Z"
        },
        "id": "qe5fUSnHu2eY",
        "trusted": true
      },
      "outputs": [],
      "source": [
        "def append_shifted_question_to_coqa_dataset(df:pd.DataFrame, shift:int) -> (pd.DataFrame,int):\n",
        "    if shift <= 0:\n",
        "        raise Exception(\"shift must be greater than zero\")\n",
        "    history_mask = df[\"p\"] == df[\"p\"].shift(shift)\n",
        "    history_series = df[\"history\"].astype(str) + ' ' + df[\"q\"].shift(shift) + ' ' + df[\"a\"].shift(shift) + '.'\n",
        "    df[\"history\"] = np.where(history_mask, history_series, df[\"history\"])\n",
        "    return df, history_mask.sum()"
      ]
    },
    {
      "cell_type": "code",
      "execution_count": 10,
      "metadata": {
        "execution": {
          "iopub.execute_input": "2023-01-19T17:59:12.465947Z",
          "iopub.status.busy": "2023-01-19T17:59:12.465511Z",
          "iopub.status.idle": "2023-01-19T17:59:12.479900Z",
          "shell.execute_reply": "2023-01-19T17:59:12.478797Z",
          "shell.execute_reply.started": "2023-01-19T17:59:12.465912Z"
        },
        "id": "ixnM9gZNu2eY",
        "trusted": true
      },
      "outputs": [],
      "source": [
        "def transform_coqa_dataset_with_history(df:pd.DataFrame, max_history_depth:int) -> pd.DataFrame:\n",
        "    df[\"history\"] = \"\"\n",
        "    for i in range(1, max_history_depth+1):\n",
        "        df, count = append_shifted_question_to_coqa_dataset(df, i)\n",
        "        #print(i, count)\n",
        "        if(count == 0):\n",
        "            break;\n",
        "    return df"
      ]
    },
    {
      "cell_type": "code",
      "execution_count": 11,
      "metadata": {
        "colab": {
          "base_uri": "https://localhost:8080/"
        },
        "execution": {
          "iopub.execute_input": "2023-01-19T17:59:12.483529Z",
          "iopub.status.busy": "2023-01-19T17:59:12.482457Z",
          "iopub.status.idle": "2023-01-19T17:59:19.181420Z",
          "shell.execute_reply": "2023-01-19T17:59:19.180467Z",
          "shell.execute_reply.started": "2023-01-19T17:59:12.483478Z"
        },
        "id": "jsZrgF5d1mPX",
        "outputId": "0eace9f4-2e30-4f47-f357-f372bda62ccd",
        "trusted": true
      },
      "outputs": [
        {
          "output_type": "stream",
          "name": "stdout",
          "text": [
            "7199 stories / 20 questions in the first row\n",
            "6605 distinct stories\n",
            "5 distinct sources: Index(['wikipedia', 'cnn', 'gutenberg', 'race', 'mctest'], dtype='object')\n",
            "(107276, 5) question-answer pairs x columns\n",
            "First row: ['0' '0' 'When was the Vat formally opened?'\n",
            " 'It was formally established in 1475' 'Formally established in 1475']\n"
          ]
        },
        {
          "output_type": "execute_result",
          "data": {
            "text/plain": [
              "source     107276\n",
              "p          107276\n",
              "q          107276\n",
              "a          107276\n",
              "span       107276\n",
              "history    107276\n",
              "dtype: int64"
            ]
          },
          "metadata": {},
          "execution_count": 11
        }
      ],
      "source": [
        "train_df = transform_coqa_dataset_with_history(load_coqa_dataset(\"train.json\"), 3)\n",
        "train_df.count()"
      ]
    },
    {
      "cell_type": "code",
      "execution_count": 12,
      "metadata": {
        "colab": {
          "base_uri": "https://localhost:8080/"
        },
        "execution": {
          "iopub.execute_input": "2023-01-19T17:59:19.183253Z",
          "iopub.status.busy": "2023-01-19T17:59:19.182833Z",
          "iopub.status.idle": "2023-01-19T17:59:19.197459Z",
          "shell.execute_reply": "2023-01-19T17:59:19.196521Z",
          "shell.execute_reply.started": "2023-01-19T17:59:19.183217Z"
        },
        "id": "lOQSe3Sc1mPY",
        "outputId": "8cf89e2f-f371-4e83-b12f-4eace0714500",
        "trusted": true
      },
      "outputs": [
        {
          "output_type": "execute_result",
          "data": {
            "text/plain": [
              "6605"
            ]
          },
          "metadata": {},
          "execution_count": 12
        }
      ],
      "source": [
        "pd.unique(train_df[\"p\"]).size"
      ]
    },
    {
      "cell_type": "code",
      "execution_count": 13,
      "metadata": {
        "colab": {
          "base_uri": "https://localhost:8080/"
        },
        "execution": {
          "iopub.execute_input": "2023-01-19T17:59:19.199777Z",
          "iopub.status.busy": "2023-01-19T17:59:19.198908Z",
          "iopub.status.idle": "2023-01-19T17:59:19.231476Z",
          "shell.execute_reply": "2023-01-19T17:59:19.230452Z",
          "shell.execute_reply.started": "2023-01-19T17:59:19.199742Z"
        },
        "id": "WJaLGY_p1mPZ",
        "outputId": "d2e42854-e82a-4776-a3ef-ebd7fbd056e3",
        "trusted": true
      },
      "outputs": [
        {
          "output_type": "execute_result",
          "data": {
            "text/plain": [
              "99470"
            ]
          },
          "metadata": {},
          "execution_count": 13
        }
      ],
      "source": [
        "pd.unique(train_df[\"span\"]).size"
      ]
    },
    {
      "cell_type": "code",
      "execution_count": 14,
      "metadata": {
        "colab": {
          "base_uri": "https://localhost:8080/"
        },
        "execution": {
          "iopub.execute_input": "2023-01-19T17:59:19.236756Z",
          "iopub.status.busy": "2023-01-19T17:59:19.236476Z",
          "iopub.status.idle": "2023-01-19T17:59:19.244874Z",
          "shell.execute_reply": "2023-01-19T17:59:19.243861Z",
          "shell.execute_reply.started": "2023-01-19T17:59:19.236731Z"
        },
        "id": "V_ml0A1b1mPZ",
        "outputId": "15d42c39-7531-4a1e-8def-7725ae461d04",
        "trusted": true
      },
      "outputs": [
        {
          "output_type": "execute_result",
          "data": {
            "text/plain": [
              "5"
            ]
          },
          "metadata": {},
          "execution_count": 14
        }
      ],
      "source": [
        "pd.unique(train_df[\"source\"]).size"
      ]
    },
    {
      "cell_type": "code",
      "execution_count": 15,
      "metadata": {
        "colab": {
          "base_uri": "https://localhost:8080/",
          "height": 337
        },
        "execution": {
          "iopub.execute_input": "2023-01-19T17:59:19.246952Z",
          "iopub.status.busy": "2023-01-19T17:59:19.246136Z",
          "iopub.status.idle": "2023-01-19T17:59:19.265298Z",
          "shell.execute_reply": "2023-01-19T17:59:19.264465Z",
          "shell.execute_reply.started": "2023-01-19T17:59:19.246916Z"
        },
        "id": "G9VjurfZ1mPZ",
        "outputId": "245d69d7-f93b-4e36-df2a-f5979cafe072",
        "trusted": true
      },
      "outputs": [
        {
          "output_type": "execute_result",
          "data": {
            "text/plain": [
              "      source                                                  p  \\\n",
              "0  wikipedia  The Vatican Apostolic Library (), more commonl...   \n",
              "1  wikipedia  The Vatican Apostolic Library (), more commonl...   \n",
              "2  wikipedia  The Vatican Apostolic Library (), more commonl...   \n",
              "3  wikipedia  The Vatican Apostolic Library (), more commonl...   \n",
              "4  wikipedia  The Vatican Apostolic Library (), more commonl...   \n",
              "\n",
              "                                   q                                    a  \\\n",
              "0  When was the Vat formally opened?  It was formally established in 1475   \n",
              "1           what is the library for?                             research   \n",
              "2                 for what subjects?                     history, and law   \n",
              "3                               and?     philosophy, science and theology   \n",
              "4          what was started in 2014?                           a  project   \n",
              "\n",
              "                                                span  \\\n",
              "0                       Formally established in 1475   \n",
              "1           he Vatican Library is a research library   \n",
              "2  Vatican Library is a research library for hist...   \n",
              "3  Vatican Library is a research library for hist...   \n",
              "4  March 2014, the Vatican Library began an initi...   \n",
              "\n",
              "                                             history  \n",
              "0                                                     \n",
              "1   When was the Vat formally opened? It was form...  \n",
              "2   what is the library for? research. When was t...  \n",
              "3   for what subjects? history, and law. what is ...  \n",
              "4   and? philosophy, science and theology. for wh...  "
            ],
            "text/html": [
              "\n",
              "  <div id=\"df-3bc66efd-ee21-4f56-8ef9-623bd01f9b85\">\n",
              "    <div class=\"colab-df-container\">\n",
              "      <div>\n",
              "<style scoped>\n",
              "    .dataframe tbody tr th:only-of-type {\n",
              "        vertical-align: middle;\n",
              "    }\n",
              "\n",
              "    .dataframe tbody tr th {\n",
              "        vertical-align: top;\n",
              "    }\n",
              "\n",
              "    .dataframe thead th {\n",
              "        text-align: right;\n",
              "    }\n",
              "</style>\n",
              "<table border=\"1\" class=\"dataframe\">\n",
              "  <thead>\n",
              "    <tr style=\"text-align: right;\">\n",
              "      <th></th>\n",
              "      <th>source</th>\n",
              "      <th>p</th>\n",
              "      <th>q</th>\n",
              "      <th>a</th>\n",
              "      <th>span</th>\n",
              "      <th>history</th>\n",
              "    </tr>\n",
              "  </thead>\n",
              "  <tbody>\n",
              "    <tr>\n",
              "      <th>0</th>\n",
              "      <td>wikipedia</td>\n",
              "      <td>The Vatican Apostolic Library (), more commonl...</td>\n",
              "      <td>When was the Vat formally opened?</td>\n",
              "      <td>It was formally established in 1475</td>\n",
              "      <td>Formally established in 1475</td>\n",
              "      <td></td>\n",
              "    </tr>\n",
              "    <tr>\n",
              "      <th>1</th>\n",
              "      <td>wikipedia</td>\n",
              "      <td>The Vatican Apostolic Library (), more commonl...</td>\n",
              "      <td>what is the library for?</td>\n",
              "      <td>research</td>\n",
              "      <td>he Vatican Library is a research library</td>\n",
              "      <td>When was the Vat formally opened? It was form...</td>\n",
              "    </tr>\n",
              "    <tr>\n",
              "      <th>2</th>\n",
              "      <td>wikipedia</td>\n",
              "      <td>The Vatican Apostolic Library (), more commonl...</td>\n",
              "      <td>for what subjects?</td>\n",
              "      <td>history, and law</td>\n",
              "      <td>Vatican Library is a research library for hist...</td>\n",
              "      <td>what is the library for? research. When was t...</td>\n",
              "    </tr>\n",
              "    <tr>\n",
              "      <th>3</th>\n",
              "      <td>wikipedia</td>\n",
              "      <td>The Vatican Apostolic Library (), more commonl...</td>\n",
              "      <td>and?</td>\n",
              "      <td>philosophy, science and theology</td>\n",
              "      <td>Vatican Library is a research library for hist...</td>\n",
              "      <td>for what subjects? history, and law. what is ...</td>\n",
              "    </tr>\n",
              "    <tr>\n",
              "      <th>4</th>\n",
              "      <td>wikipedia</td>\n",
              "      <td>The Vatican Apostolic Library (), more commonl...</td>\n",
              "      <td>what was started in 2014?</td>\n",
              "      <td>a  project</td>\n",
              "      <td>March 2014, the Vatican Library began an initi...</td>\n",
              "      <td>and? philosophy, science and theology. for wh...</td>\n",
              "    </tr>\n",
              "  </tbody>\n",
              "</table>\n",
              "</div>\n",
              "      <button class=\"colab-df-convert\" onclick=\"convertToInteractive('df-3bc66efd-ee21-4f56-8ef9-623bd01f9b85')\"\n",
              "              title=\"Convert this dataframe to an interactive table.\"\n",
              "              style=\"display:none;\">\n",
              "        \n",
              "  <svg xmlns=\"http://www.w3.org/2000/svg\" height=\"24px\"viewBox=\"0 0 24 24\"\n",
              "       width=\"24px\">\n",
              "    <path d=\"M0 0h24v24H0V0z\" fill=\"none\"/>\n",
              "    <path d=\"M18.56 5.44l.94 2.06.94-2.06 2.06-.94-2.06-.94-.94-2.06-.94 2.06-2.06.94zm-11 1L8.5 8.5l.94-2.06 2.06-.94-2.06-.94L8.5 2.5l-.94 2.06-2.06.94zm10 10l.94 2.06.94-2.06 2.06-.94-2.06-.94-.94-2.06-.94 2.06-2.06.94z\"/><path d=\"M17.41 7.96l-1.37-1.37c-.4-.4-.92-.59-1.43-.59-.52 0-1.04.2-1.43.59L10.3 9.45l-7.72 7.72c-.78.78-.78 2.05 0 2.83L4 21.41c.39.39.9.59 1.41.59.51 0 1.02-.2 1.41-.59l7.78-7.78 2.81-2.81c.8-.78.8-2.07 0-2.86zM5.41 20L4 18.59l7.72-7.72 1.47 1.35L5.41 20z\"/>\n",
              "  </svg>\n",
              "      </button>\n",
              "      \n",
              "  <style>\n",
              "    .colab-df-container {\n",
              "      display:flex;\n",
              "      flex-wrap:wrap;\n",
              "      gap: 12px;\n",
              "    }\n",
              "\n",
              "    .colab-df-convert {\n",
              "      background-color: #E8F0FE;\n",
              "      border: none;\n",
              "      border-radius: 50%;\n",
              "      cursor: pointer;\n",
              "      display: none;\n",
              "      fill: #1967D2;\n",
              "      height: 32px;\n",
              "      padding: 0 0 0 0;\n",
              "      width: 32px;\n",
              "    }\n",
              "\n",
              "    .colab-df-convert:hover {\n",
              "      background-color: #E2EBFA;\n",
              "      box-shadow: 0px 1px 2px rgba(60, 64, 67, 0.3), 0px 1px 3px 1px rgba(60, 64, 67, 0.15);\n",
              "      fill: #174EA6;\n",
              "    }\n",
              "\n",
              "    [theme=dark] .colab-df-convert {\n",
              "      background-color: #3B4455;\n",
              "      fill: #D2E3FC;\n",
              "    }\n",
              "\n",
              "    [theme=dark] .colab-df-convert:hover {\n",
              "      background-color: #434B5C;\n",
              "      box-shadow: 0px 1px 3px 1px rgba(0, 0, 0, 0.15);\n",
              "      filter: drop-shadow(0px 1px 2px rgba(0, 0, 0, 0.3));\n",
              "      fill: #FFFFFF;\n",
              "    }\n",
              "  </style>\n",
              "\n",
              "      <script>\n",
              "        const buttonEl =\n",
              "          document.querySelector('#df-3bc66efd-ee21-4f56-8ef9-623bd01f9b85 button.colab-df-convert');\n",
              "        buttonEl.style.display =\n",
              "          google.colab.kernel.accessAllowed ? 'block' : 'none';\n",
              "\n",
              "        async function convertToInteractive(key) {\n",
              "          const element = document.querySelector('#df-3bc66efd-ee21-4f56-8ef9-623bd01f9b85');\n",
              "          const dataTable =\n",
              "            await google.colab.kernel.invokeFunction('convertToInteractive',\n",
              "                                                     [key], {});\n",
              "          if (!dataTable) return;\n",
              "\n",
              "          const docLinkHtml = 'Like what you see? Visit the ' +\n",
              "            '<a target=\"_blank\" href=https://colab.research.google.com/notebooks/data_table.ipynb>data table notebook</a>'\n",
              "            + ' to learn more about interactive tables.';\n",
              "          element.innerHTML = '';\n",
              "          dataTable['output_type'] = 'display_data';\n",
              "          await google.colab.output.renderOutput(dataTable, element);\n",
              "          const docLink = document.createElement('div');\n",
              "          docLink.innerHTML = docLinkHtml;\n",
              "          element.appendChild(docLink);\n",
              "        }\n",
              "      </script>\n",
              "    </div>\n",
              "  </div>\n",
              "  "
            ]
          },
          "metadata": {},
          "execution_count": 15
        }
      ],
      "source": [
        "train_df.head()"
      ]
    },
    {
      "cell_type": "code",
      "execution_count": 16,
      "metadata": {
        "colab": {
          "base_uri": "https://localhost:8080/"
        },
        "execution": {
          "iopub.execute_input": "2023-01-19T17:59:19.267344Z",
          "iopub.status.busy": "2023-01-19T17:59:19.266502Z",
          "iopub.status.idle": "2023-01-19T17:59:19.322794Z",
          "shell.execute_reply": "2023-01-19T17:59:19.321768Z",
          "shell.execute_reply.started": "2023-01-19T17:59:19.267310Z"
        },
        "id": "nrRkHhES1mPa",
        "outputId": "fa1dc8d1-f6db-4e61-943c-ae22276c946f",
        "trusted": true
      },
      "outputs": [
        {
          "output_type": "execute_result",
          "data": {
            "text/plain": [
              "Index           128\n",
              "source       107764\n",
              "p          14241201\n",
              "q           9110271\n",
              "a           7714559\n",
              "span       12090637\n",
              "history    18873223\n",
              "dtype: int64"
            ]
          },
          "metadata": {},
          "execution_count": 16
        }
      ],
      "source": [
        "train_df.memory_usage(deep=True)"
      ]
    },
    {
      "cell_type": "code",
      "execution_count": 17,
      "metadata": {
        "colab": {
          "base_uri": "https://localhost:8080/"
        },
        "execution": {
          "iopub.execute_input": "2023-01-19T17:59:19.324889Z",
          "iopub.status.busy": "2023-01-19T17:59:19.324498Z",
          "iopub.status.idle": "2023-01-19T17:59:19.796295Z",
          "shell.execute_reply": "2023-01-19T17:59:19.795330Z",
          "shell.execute_reply.started": "2023-01-19T17:59:19.324853Z"
        },
        "id": "v5aer1n41mPa",
        "outputId": "6c007ce9-5dd5-48ee-b2fe-20acea895bf2",
        "trusted": true
      },
      "outputs": [
        {
          "output_type": "stream",
          "name": "stdout",
          "text": [
            "500 stories / 12 questions in the first row\n",
            "499 distinct stories\n",
            "5 distinct sources: Index(['mctest', 'race', 'cnn', 'wikipedia', 'gutenberg'], dtype='object')\n",
            "(7917, 5) question-answer pairs x columns\n",
            "First row: ['0' '0' 'What color was Cotton?' 'white'\n",
            " 'a little white kitten named Cotton']\n"
          ]
        },
        {
          "output_type": "execute_result",
          "data": {
            "text/plain": [
              "source     7917\n",
              "p          7917\n",
              "q          7917\n",
              "a          7917\n",
              "span       7917\n",
              "history    7917\n",
              "dtype: int64"
            ]
          },
          "metadata": {},
          "execution_count": 17
        }
      ],
      "source": [
        "test_df = transform_coqa_dataset_with_history(load_coqa_dataset(\"test.json\"), 3)\n",
        "test_df.count()"
      ]
    },
    {
      "cell_type": "markdown",
      "metadata": {
        "id": "XRs7YHKY1mPa"
      },
      "source": [
        "## Data Pre-Processing"
      ]
    },
    {
      "cell_type": "markdown",
      "metadata": {
        "id": "k0GmOXam1mPb"
      },
      "source": [
        "### Check unanswerable questions in the Train Dataset"
      ]
    },
    {
      "cell_type": "code",
      "execution_count": 18,
      "metadata": {
        "colab": {
          "base_uri": "https://localhost:8080/"
        },
        "execution": {
          "iopub.execute_input": "2023-01-19T17:59:19.798595Z",
          "iopub.status.busy": "2023-01-19T17:59:19.798194Z",
          "iopub.status.idle": "2023-01-19T17:59:19.836603Z",
          "shell.execute_reply": "2023-01-19T17:59:19.835560Z",
          "shell.execute_reply.started": "2023-01-19T17:59:19.798545Z"
        },
        "id": "6Aq524zd1mPb",
        "outputId": "3ba772d8-d3aa-4f22-be5a-41d6d8f28ce9",
        "trusted": true
      },
      "outputs": [
        {
          "output_type": "execute_result",
          "data": {
            "text/plain": [
              "0"
            ]
          },
          "metadata": {},
          "execution_count": 18
        }
      ],
      "source": [
        "idx = (train_df.a == 'unknown')\n",
        "unanswerable = train_df[idx]\n",
        "unanswerable.q.count()"
      ]
    },
    {
      "cell_type": "markdown",
      "metadata": {
        "id": "lTdjLFYI1mPb"
      },
      "source": [
        "All unanswerable questions in the Train Dataset have been already removed."
      ]
    },
    {
      "cell_type": "markdown",
      "metadata": {
        "id": "bonwHOWg15lc"
      },
      "source": [
        "The function below transforms all the text in the dataframe into lower case."
      ]
    },
    {
      "cell_type": "code",
      "execution_count": 19,
      "metadata": {
        "execution": {
          "iopub.execute_input": "2023-01-19T17:59:19.838795Z",
          "iopub.status.busy": "2023-01-19T17:59:19.838363Z",
          "iopub.status.idle": "2023-01-19T17:59:19.846442Z",
          "shell.execute_reply": "2023-01-19T17:59:19.845626Z",
          "shell.execute_reply.started": "2023-01-19T17:59:19.838755Z"
        },
        "id": "mtnjZFJM2GXe",
        "trusted": true
      },
      "outputs": [],
      "source": [
        "def preprocess(df:pd.DataFrame) -> pd.DataFrame:\n",
        "  df = df.applymap(lambda s: s.lower() if type(s) == str else s)\n",
        "  return df"
      ]
    },
    {
      "cell_type": "markdown",
      "metadata": {
        "id": "maBslb2n1mPb"
      },
      "source": [
        "## Exploratory Data Analysis"
      ]
    },
    {
      "cell_type": "code",
      "execution_count": 20,
      "metadata": {
        "colab": {
          "base_uri": "https://localhost:8080/",
          "height": 140
        },
        "execution": {
          "iopub.execute_input": "2023-01-19T17:59:19.848441Z",
          "iopub.status.busy": "2023-01-19T17:59:19.848071Z",
          "iopub.status.idle": "2023-01-19T17:59:19.858091Z",
          "shell.execute_reply": "2023-01-19T17:59:19.857049Z",
          "shell.execute_reply.started": "2023-01-19T17:59:19.848408Z"
        },
        "id": "VH5Ep77e1mPb",
        "outputId": "c3c19b0c-c785-4fcc-909c-1812d5657e46",
        "trusted": true
      },
      "outputs": [
        {
          "output_type": "execute_result",
          "data": {
            "text/plain": [
              "'CHAPTER VII. THE DAUGHTER OF WITHERSTEEN \\n\\n\"Lassiter, will you be my rider?\" Jane had asked him. \\n\\n\"I reckon so,\" he had replied. \\n\\nFew as the words were, Jane knew how infinitely much they implied. She wanted him to take charge of her cattle and horse and ranges, and save them if that were possible. Yet, though she could not have spoken aloud all she meant, she was perfectly honest with herself. Whatever the price to be paid, she must keep Lassiter close to her; she must shield from him the man who had led Milly Erne to Cottonwoods. In her fear she so controlled her mind that she did not whisper this Mormon\\'s name to her own soul, she did not even think it. Besides, beyond this thing she regarded as a sacred obligation thrust upon her, was the need of a helper, of a friend, of a champion in this critical time. If she could rule this gun-man, as Venters had called him, if she could even keep him from shedding blood, what strategy to play his flame and his presence against the game of oppression her churchmen were waging against her? Never would she forget the effect on Tull and his men when Venters shouted Lassiter\\'s name. If she could not wholly control Lassiter, then what she could do might put off the fatal day. \\n\\nOne of her safe racers was a dark bay, and she called him Bells because of the way he struck his iron shoes on the stones. When Jerd led out this slender, beautifully built horse Lassiter suddenly became all eyes. A rider\\'s love of a thoroughbred shone in them. Round and round Bells he walked, plainly weakening all the time in his determination not to take one of Jane\\'s favorite racers. '"
            ],
            "application/vnd.google.colaboratory.intrinsic+json": {
              "type": "string"
            }
          },
          "metadata": {},
          "execution_count": 20
        }
      ],
      "source": [
        "train_df[\"p\"][42]"
      ]
    },
    {
      "cell_type": "code",
      "execution_count": 21,
      "metadata": {
        "colab": {
          "base_uri": "https://localhost:8080/",
          "height": 36
        },
        "execution": {
          "iopub.execute_input": "2023-01-19T17:59:19.860166Z",
          "iopub.status.busy": "2023-01-19T17:59:19.859756Z",
          "iopub.status.idle": "2023-01-19T17:59:19.869699Z",
          "shell.execute_reply": "2023-01-19T17:59:19.868644Z",
          "shell.execute_reply.started": "2023-01-19T17:59:19.860129Z"
        },
        "id": "zYcgBVcG1mPc",
        "outputId": "5da5ccf2-c262-4bf2-d8aa-a8f5f0fbf994",
        "trusted": true
      },
      "outputs": [
        {
          "output_type": "execute_result",
          "data": {
            "text/plain": [
              "'Was Lassiter impressed with the horse?'"
            ],
            "application/vnd.google.colaboratory.intrinsic+json": {
              "type": "string"
            }
          },
          "metadata": {},
          "execution_count": 21
        }
      ],
      "source": [
        "train_df[\"q\"][42]"
      ]
    },
    {
      "cell_type": "code",
      "execution_count": 22,
      "metadata": {
        "colab": {
          "base_uri": "https://localhost:8080/",
          "height": 36
        },
        "execution": {
          "iopub.execute_input": "2023-01-19T17:59:19.871704Z",
          "iopub.status.busy": "2023-01-19T17:59:19.871249Z",
          "iopub.status.idle": "2023-01-19T17:59:19.881520Z",
          "shell.execute_reply": "2023-01-19T17:59:19.880491Z",
          "shell.execute_reply.started": "2023-01-19T17:59:19.871670Z"
        },
        "id": "5zvn9Tv01mPc",
        "outputId": "d4187525-28dd-4f2e-df09-585075a44a12",
        "trusted": true
      },
      "outputs": [
        {
          "output_type": "execute_result",
          "data": {
            "text/plain": [
              "'Yes'"
            ],
            "application/vnd.google.colaboratory.intrinsic+json": {
              "type": "string"
            }
          },
          "metadata": {},
          "execution_count": 22
        }
      ],
      "source": [
        "train_df[\"a\"][42]"
      ]
    },
    {
      "cell_type": "code",
      "execution_count": 23,
      "metadata": {
        "colab": {
          "base_uri": "https://localhost:8080/",
          "height": 36
        },
        "execution": {
          "iopub.execute_input": "2023-01-19T17:59:19.883535Z",
          "iopub.status.busy": "2023-01-19T17:59:19.883149Z",
          "iopub.status.idle": "2023-01-19T17:59:19.892818Z",
          "shell.execute_reply": "2023-01-19T17:59:19.891632Z",
          "shell.execute_reply.started": "2023-01-19T17:59:19.883487Z"
        },
        "id": "NokHfoLm1mPc",
        "outputId": "cb2abd5a-fce6-4459-b0e1-a4578c56e5cd",
        "trusted": true
      },
      "outputs": [
        {
          "output_type": "execute_result",
          "data": {
            "text/plain": [
              "'When Jerd led out this slender, beautifully built horse Lassiter suddenly became all eyes.'"
            ],
            "application/vnd.google.colaboratory.intrinsic+json": {
              "type": "string"
            }
          },
          "metadata": {},
          "execution_count": 23
        }
      ],
      "source": [
        "train_df[\"span\"][42]"
      ]
    },
    {
      "cell_type": "code",
      "execution_count": 24,
      "metadata": {
        "colab": {
          "base_uri": "https://localhost:8080/",
          "height": 36
        },
        "execution": {
          "iopub.execute_input": "2023-01-19T17:59:19.894752Z",
          "iopub.status.busy": "2023-01-19T17:59:19.894345Z",
          "iopub.status.idle": "2023-01-19T17:59:19.903331Z",
          "shell.execute_reply": "2023-01-19T17:59:19.902330Z",
          "shell.execute_reply.started": "2023-01-19T17:59:19.894670Z"
        },
        "id": "JskMPh-Y1mPc",
        "outputId": "1504aff2-2e09-4221-e4eb-f0290ee86820",
        "trusted": true
      },
      "outputs": [
        {
          "output_type": "execute_result",
          "data": {
            "text/plain": [
              "'gutenberg'"
            ],
            "application/vnd.google.colaboratory.intrinsic+json": {
              "type": "string"
            }
          },
          "metadata": {},
          "execution_count": 24
        }
      ],
      "source": [
        "train_df[\"source\"][42]"
      ]
    },
    {
      "cell_type": "markdown",
      "metadata": {
        "id": "IhdF4AR7ef05"
      },
      "source": [
        "### Distribution statistics"
      ]
    },
    {
      "cell_type": "markdown",
      "metadata": {
        "id": "ebBVUlveef05"
      },
      "source": [
        "Sources:"
      ]
    },
    {
      "cell_type": "code",
      "execution_count": 25,
      "metadata": {
        "colab": {
          "base_uri": "https://localhost:8080/",
          "height": 282
        },
        "execution": {
          "iopub.execute_input": "2023-01-19T17:59:19.905630Z",
          "iopub.status.busy": "2023-01-19T17:59:19.904926Z",
          "iopub.status.idle": "2023-01-19T17:59:20.174238Z",
          "shell.execute_reply": "2023-01-19T17:59:20.171793Z",
          "shell.execute_reply.started": "2023-01-19T17:59:19.905544Z"
        },
        "id": "8lIuR9RO1mPd",
        "outputId": "e06befaa-a007-4675-9ad6-a6bbc2e08d8e",
        "trusted": true
      },
      "outputs": [
        {
          "output_type": "execute_result",
          "data": {
            "text/plain": [
              "<matplotlib.axes._subplots.AxesSubplot at 0x7f9b5aef55e0>"
            ]
          },
          "metadata": {},
          "execution_count": 25
        },
        {
          "output_type": "display_data",
          "data": {
            "text/plain": [
              "<Figure size 432x288 with 1 Axes>"
            ],
            "image/png": "[encoded data removed]"
          },
          "metadata": {
            "needs_background": "light"
          }
        }
      ],
      "source": [
        "train_df[\"source\"].hist()"
      ]
    },
    {
      "cell_type": "markdown",
      "metadata": {
        "id": "Ax5uSP6Lef06"
      },
      "source": [
        "Occurrences of 25 most popular stories:"
      ]
    },
    {
      "cell_type": "code",
      "execution_count": 26,
      "metadata": {
        "colab": {
          "base_uri": "https://localhost:8080/",
          "height": 352
        },
        "execution": {
          "iopub.execute_input": "2023-01-19T17:59:20.176038Z",
          "iopub.status.busy": "2023-01-19T17:59:20.175672Z",
          "iopub.status.idle": "2023-01-19T17:59:20.499542Z",
          "shell.execute_reply": "2023-01-19T17:59:20.498508Z",
          "shell.execute_reply.started": "2023-01-19T17:59:20.176001Z"
        },
        "id": "wUgsqg4Uef06",
        "outputId": "975ad4ae-0a24-4e88-cdcd-0ff71ec0de0e",
        "trusted": true
      },
      "outputs": [
        {
          "output_type": "execute_result",
          "data": {
            "text/plain": [
              "<matplotlib.axes._subplots.AxesSubplot at 0x7f9b5b87f5b0>"
            ]
          },
          "metadata": {},
          "execution_count": 26
        },
        {
          "output_type": "display_data",
          "data": {
            "text/plain": [
              "<Figure size 1080x360 with 1 Axes>"
            ],
            "image/png": "[encoded data removed]"
          },
          "metadata": {
            "needs_background": "light"
          }
        }
      ],
      "source": [
        "story_counts = train_df[\"p\"].cat.codes.value_counts(sort=True)\n",
        "story_counts[:25].plot(kind=\"bar\", figsize=(15,5))"
      ]
    },
    {
      "cell_type": "markdown",
      "metadata": {
        "id": "qL-m6SuVef06"
      },
      "source": [
        "Occurrences of 25 least popular stories:"
      ]
    },
    {
      "cell_type": "code",
      "execution_count": 27,
      "metadata": {
        "colab": {
          "base_uri": "https://localhost:8080/",
          "height": 352
        },
        "execution": {
          "iopub.execute_input": "2023-01-19T17:59:20.501402Z",
          "iopub.status.busy": "2023-01-19T17:59:20.501059Z",
          "iopub.status.idle": "2023-01-19T17:59:20.822407Z",
          "shell.execute_reply": "2023-01-19T17:59:20.821500Z",
          "shell.execute_reply.started": "2023-01-19T17:59:20.501366Z"
        },
        "id": "jkiwEygzef06",
        "outputId": "f00768c6-b9d0-4dd3-cd6f-418ab5aa197d",
        "trusted": true
      },
      "outputs": [
        {
          "output_type": "execute_result",
          "data": {
            "text/plain": [
              "<matplotlib.axes._subplots.AxesSubplot at 0x7f9b59747d30>"
            ]
          },
          "metadata": {},
          "execution_count": 27
        },
        {
          "output_type": "display_data",
          "data": {
            "text/plain": [
              "<Figure size 1080x360 with 1 Axes>"
            ],
            "image/png": "[encoded data removed]"
          },
          "metadata": {
            "needs_background": "light"
          }
        }
      ],
      "source": [
        "story_counts[-25:-1].plot(kind=\"bar\", figsize=(15,5))"
      ]
    },
    {
      "cell_type": "markdown",
      "metadata": {
        "id": "9-EVRQQVef06"
      },
      "source": [
        "Histogram of story popularities:"
      ]
    },
    {
      "cell_type": "code",
      "execution_count": 28,
      "metadata": {
        "colab": {
          "base_uri": "https://localhost:8080/",
          "height": 337
        },
        "execution": {
          "iopub.execute_input": "2023-01-19T17:59:20.824428Z",
          "iopub.status.busy": "2023-01-19T17:59:20.824034Z",
          "iopub.status.idle": "2023-01-19T17:59:21.785664Z",
          "shell.execute_reply": "2023-01-19T17:59:21.784623Z",
          "shell.execute_reply.started": "2023-01-19T17:59:20.824388Z"
        },
        "id": "CJLPGCfcef07",
        "outputId": "2f165ba7-9540-4ba5-d02c-18e0f208a0a8",
        "trusted": true
      },
      "outputs": [
        {
          "output_type": "execute_result",
          "data": {
            "text/plain": [
              "<matplotlib.axes._subplots.AxesSubplot at 0x7f9b5990e9d0>"
            ]
          },
          "metadata": {},
          "execution_count": 28
        },
        {
          "output_type": "display_data",
          "data": {
            "text/plain": [
              "<Figure size 1080x360 with 1 Axes>"
            ],
            "image/png": "[encoded data removed]"
          },
          "metadata": {
            "needs_background": "light"
          }
        }
      ],
      "source": [
        "story_counts.hist(log=True,bins=75,figsize=(15,5))"
      ]
    },
    {
      "cell_type": "markdown",
      "metadata": {
        "id": "Xs4usWsveQN2"
      },
      "source": [
        "### Removing rows with outlier story lengths to save memory"
      ]
    },
    {
      "cell_type": "code",
      "execution_count": 29,
      "metadata": {
        "colab": {
          "base_uri": "https://localhost:8080/"
        },
        "execution": {
          "iopub.execute_input": "2023-01-19T17:59:21.787960Z",
          "iopub.status.busy": "2023-01-19T17:59:21.787030Z",
          "iopub.status.idle": "2023-01-19T17:59:21.820168Z",
          "shell.execute_reply": "2023-01-19T17:59:21.819171Z",
          "shell.execute_reply.started": "2023-01-19T17:59:21.787919Z"
        },
        "id": "fF88Qa2DeQN2",
        "outputId": "2539a61b-76d3-4bb0-eae0-eddab59d5a97",
        "trusted": true
      },
      "outputs": [
        {
          "output_type": "execute_result",
          "data": {
            "text/plain": [
              "source     107276\n",
              "p          107276\n",
              "q          107276\n",
              "a          107276\n",
              "span       107276\n",
              "history    107276\n",
              "dtype: int64"
            ]
          },
          "metadata": {},
          "execution_count": 29
        }
      ],
      "source": [
        "train_df.count()"
      ]
    },
    {
      "cell_type": "markdown",
      "metadata": {
        "id": "xOq3OJo1eQN2"
      },
      "source": [
        "LOGARITHMIC histogram of story length:"
      ]
    },
    {
      "cell_type": "code",
      "execution_count": 30,
      "metadata": {
        "colab": {
          "base_uri": "https://localhost:8080/",
          "height": 337
        },
        "execution": {
          "iopub.execute_input": "2023-01-19T17:59:21.823709Z",
          "iopub.status.busy": "2023-01-19T17:59:21.823355Z",
          "iopub.status.idle": "2023-01-19T17:59:22.385547Z",
          "shell.execute_reply": "2023-01-19T17:59:22.384536Z",
          "shell.execute_reply.started": "2023-01-19T17:59:21.823680Z"
        },
        "id": "N9SpIueeeQN2",
        "outputId": "b30e5cb3-26c9-496e-bf60-8db241fd0a1a",
        "trusted": true
      },
      "outputs": [
        {
          "output_type": "execute_result",
          "data": {
            "text/plain": [
              "<matplotlib.axes._subplots.AxesSubplot at 0x7f9b5b8832e0>"
            ]
          },
          "metadata": {},
          "execution_count": 30
        },
        {
          "output_type": "display_data",
          "data": {
            "text/plain": [
              "<Figure size 1080x360 with 1 Axes>"
            ],
            "image/png": "[encoded data removed]"
          },
          "metadata": {
            "needs_background": "light"
          }
        }
      ],
      "source": [
        "story_lengths = train_df[\"p\"].str.len()\n",
        "story_lengths.hist(log=True,bins=75,figsize=(15,5))"
      ]
    },
    {
      "cell_type": "code",
      "execution_count": 31,
      "metadata": {
        "colab": {
          "base_uri": "https://localhost:8080/"
        },
        "execution": {
          "iopub.execute_input": "2023-01-19T17:59:22.387452Z",
          "iopub.status.busy": "2023-01-19T17:59:22.387111Z",
          "iopub.status.idle": "2023-01-19T17:59:22.398241Z",
          "shell.execute_reply": "2023-01-19T17:59:22.397029Z",
          "shell.execute_reply.started": "2023-01-19T17:59:22.387417Z"
        },
        "id": "55wmfOrseQN3",
        "outputId": "c646fde9-dba8-4c72-f051-f0525766375f",
        "trusted": true
      },
      "outputs": [
        {
          "output_type": "execute_result",
          "data": {
            "text/plain": [
              "4317.0"
            ]
          },
          "metadata": {},
          "execution_count": 31
        }
      ],
      "source": [
        "p_length_limit = story_lengths.quantile(0.999)\n",
        "p_length_limit"
      ]
    },
    {
      "cell_type": "code",
      "execution_count": 32,
      "metadata": {
        "colab": {
          "base_uri": "https://localhost:8080/"
        },
        "execution": {
          "iopub.execute_input": "2023-01-19T17:59:22.400489Z",
          "iopub.status.busy": "2023-01-19T17:59:22.399988Z",
          "iopub.status.idle": "2023-01-19T17:59:22.410742Z",
          "shell.execute_reply": "2023-01-19T17:59:22.409754Z",
          "shell.execute_reply.started": "2023-01-19T17:59:22.400456Z"
        },
        "id": "JdD1HKnqeQN3",
        "outputId": "ffa0ae4d-00d1-46f2-86a3-8ad3624d4c84",
        "trusted": true
      },
      "outputs": [
        {
          "output_type": "execute_result",
          "data": {
            "text/plain": [
              "True     107166\n",
              "False       110\n",
              "Name: p, dtype: int64"
            ]
          },
          "metadata": {},
          "execution_count": 32
        }
      ],
      "source": [
        "p_length_mask = story_lengths < p_length_limit\n",
        "p_length_mask.value_counts()"
      ]
    },
    {
      "cell_type": "code",
      "execution_count": 33,
      "metadata": {
        "colab": {
          "base_uri": "https://localhost:8080/"
        },
        "execution": {
          "iopub.execute_input": "2023-01-19T17:59:22.412982Z",
          "iopub.status.busy": "2023-01-19T17:59:22.412537Z",
          "iopub.status.idle": "2023-01-19T17:59:22.461434Z",
          "shell.execute_reply": "2023-01-19T17:59:22.460492Z",
          "shell.execute_reply.started": "2023-01-19T17:59:22.412946Z"
        },
        "id": "8ZrtswVUeQN3",
        "outputId": "07634a6c-2259-4d21-be20-5995069d624d",
        "trusted": true
      },
      "outputs": [
        {
          "output_type": "execute_result",
          "data": {
            "text/plain": [
              "source     107166\n",
              "p          107166\n",
              "q          107166\n",
              "a          107166\n",
              "span       107166\n",
              "history    107166\n",
              "dtype: int64"
            ]
          },
          "metadata": {},
          "execution_count": 33
        }
      ],
      "source": [
        "train_df = train_df[p_length_mask]\n",
        "train_df.count()"
      ]
    },
    {
      "cell_type": "markdown",
      "metadata": {
        "id": "CvuDNquieQN3"
      },
      "source": [
        "### Removing rows with outlier question/answer/span lengths to save memory"
      ]
    },
    {
      "cell_type": "markdown",
      "metadata": {
        "id": "XTnHoRoEeQN3"
      },
      "source": [
        "LOGARITHMIC histogram of question length:"
      ]
    },
    {
      "cell_type": "code",
      "execution_count": 34,
      "metadata": {
        "colab": {
          "base_uri": "https://localhost:8080/",
          "height": 337
        },
        "execution": {
          "iopub.execute_input": "2023-01-19T17:59:22.463973Z",
          "iopub.status.busy": "2023-01-19T17:59:22.462856Z",
          "iopub.status.idle": "2023-01-19T17:59:23.088459Z",
          "shell.execute_reply": "2023-01-19T17:59:23.087483Z",
          "shell.execute_reply.started": "2023-01-19T17:59:22.463930Z"
        },
        "id": "kFobL8Upef07",
        "outputId": "8433b6bc-657c-4a8e-a9b2-089df6cb9197",
        "trusted": true
      },
      "outputs": [
        {
          "output_type": "execute_result",
          "data": {
            "text/plain": [
              "<matplotlib.axes._subplots.AxesSubplot at 0x7f9b5a463fa0>"
            ]
          },
          "metadata": {},
          "execution_count": 34
        },
        {
          "output_type": "display_data",
          "data": {
            "text/plain": [
              "<Figure size 1080x360 with 1 Axes>"
            ],
            "image/png": "[encoded data removed]"
          },
          "metadata": {
            "needs_background": "light"
          }
        }
      ],
      "source": [
        "question_lengths = train_df[\"q\"].str.len()\n",
        "question_lengths.hist(log=True,bins=75,figsize=(15,5))"
      ]
    },
    {
      "cell_type": "code",
      "execution_count": 35,
      "metadata": {
        "colab": {
          "base_uri": "https://localhost:8080/"
        },
        "execution": {
          "iopub.execute_input": "2023-01-19T17:59:23.090330Z",
          "iopub.status.busy": "2023-01-19T17:59:23.089993Z",
          "iopub.status.idle": "2023-01-19T17:59:23.100700Z",
          "shell.execute_reply": "2023-01-19T17:59:23.099528Z",
          "shell.execute_reply.started": "2023-01-19T17:59:23.090295Z"
        },
        "id": "Y5492ySpeQN4",
        "outputId": "0441fbfe-3670-4760-953f-5d2f4cd25afa",
        "trusted": true
      },
      "outputs": [
        {
          "output_type": "execute_result",
          "data": {
            "text/plain": [
              "89.0"
            ]
          },
          "metadata": {},
          "execution_count": 35
        }
      ],
      "source": [
        "q_length_limit = question_lengths.quantile(0.999)\n",
        "q_length_limit"
      ]
    },
    {
      "cell_type": "markdown",
      "metadata": {
        "id": "yGTJLGsWeQN4"
      },
      "source": [
        "LOGARITHMIC histogram of answer length:"
      ]
    },
    {
      "cell_type": "code",
      "execution_count": 36,
      "metadata": {
        "colab": {
          "base_uri": "https://localhost:8080/",
          "height": 337
        },
        "execution": {
          "iopub.execute_input": "2023-01-19T17:59:23.102640Z",
          "iopub.status.busy": "2023-01-19T17:59:23.102272Z",
          "iopub.status.idle": "2023-01-19T17:59:23.794704Z",
          "shell.execute_reply": "2023-01-19T17:59:23.793643Z",
          "shell.execute_reply.started": "2023-01-19T17:59:23.102605Z"
        },
        "id": "_7phh51Nef07",
        "outputId": "23f0502e-b35d-4aba-f33d-b090615820d0",
        "trusted": true
      },
      "outputs": [
        {
          "output_type": "execute_result",
          "data": {
            "text/plain": [
              "<matplotlib.axes._subplots.AxesSubplot at 0x7f9b5a418220>"
            ]
          },
          "metadata": {},
          "execution_count": 36
        },
        {
          "output_type": "display_data",
          "data": {
            "text/plain": [
              "<Figure size 1080x360 with 1 Axes>"
            ],
            "image/png": "[encoded data removed]"
          },
          "metadata": {
            "needs_background": "light"
          }
        }
      ],
      "source": [
        "answer_lengths = train_df[\"a\"].str.len()\n",
        "answer_lengths.hist(log=True,bins=75,figsize=(15,5))"
      ]
    },
    {
      "cell_type": "code",
      "execution_count": 37,
      "metadata": {
        "colab": {
          "base_uri": "https://localhost:8080/"
        },
        "execution": {
          "iopub.execute_input": "2023-01-19T17:59:23.797416Z",
          "iopub.status.busy": "2023-01-19T17:59:23.796430Z",
          "iopub.status.idle": "2023-01-19T17:59:23.809081Z",
          "shell.execute_reply": "2023-01-19T17:59:23.808069Z",
          "shell.execute_reply.started": "2023-01-19T17:59:23.797375Z"
        },
        "id": "B9Z5Ck7XeQN4",
        "outputId": "7e0ef984-0ca1-43df-993c-45788682b042",
        "trusted": true
      },
      "outputs": [
        {
          "output_type": "execute_result",
          "data": {
            "text/plain": [
              "142.8350000000064"
            ]
          },
          "metadata": {},
          "execution_count": 37
        }
      ],
      "source": [
        "a_length_limit = answer_lengths.quantile(0.999)\n",
        "a_length_limit"
      ]
    },
    {
      "cell_type": "code",
      "execution_count": 38,
      "metadata": {
        "colab": {
          "base_uri": "https://localhost:8080/",
          "height": 337
        },
        "execution": {
          "iopub.execute_input": "2023-01-19T17:59:23.812394Z",
          "iopub.status.busy": "2023-01-19T17:59:23.812118Z",
          "iopub.status.idle": "2023-01-19T17:59:24.474453Z",
          "shell.execute_reply": "2023-01-19T17:59:24.473496Z",
          "shell.execute_reply.started": "2023-01-19T17:59:23.812368Z"
        },
        "id": "KfwQxbu_eQN4",
        "outputId": "54f5297c-15fc-43eb-b65b-e6b800ffb5e2",
        "trusted": true
      },
      "outputs": [
        {
          "output_type": "execute_result",
          "data": {
            "text/plain": [
              "<matplotlib.axes._subplots.AxesSubplot at 0x7f9b59fd3d90>"
            ]
          },
          "metadata": {},
          "execution_count": 38
        },
        {
          "output_type": "display_data",
          "data": {
            "text/plain": [
              "<Figure size 1080x360 with 1 Axes>"
            ],
            "image/png": "[encoded data removed]"
          },
          "metadata": {
            "needs_background": "light"
          }
        }
      ],
      "source": [
        "span_lengths = train_df[\"span\"].str.len()\n",
        "span_lengths.hist(log=True,bins=75,figsize=(15,5))"
      ]
    },
    {
      "cell_type": "code",
      "execution_count": 39,
      "metadata": {
        "colab": {
          "base_uri": "https://localhost:8080/"
        },
        "execution": {
          "iopub.execute_input": "2023-01-19T17:59:24.477207Z",
          "iopub.status.busy": "2023-01-19T17:59:24.476551Z",
          "iopub.status.idle": "2023-01-19T17:59:24.487347Z",
          "shell.execute_reply": "2023-01-19T17:59:24.486265Z",
          "shell.execute_reply.started": "2023-01-19T17:59:24.477167Z"
        },
        "id": "Z16rujBBeQN5",
        "outputId": "e205f292-7c5c-4fea-b611-d2e2ed60f247",
        "trusted": true
      },
      "outputs": [
        {
          "output_type": "execute_result",
          "data": {
            "text/plain": [
              "502.5050000000192"
            ]
          },
          "metadata": {},
          "execution_count": 39
        }
      ],
      "source": [
        "span_length_limit = span_lengths.quantile(0.999)\n",
        "span_length_limit"
      ]
    },
    {
      "cell_type": "code",
      "execution_count": 40,
      "metadata": {
        "colab": {
          "base_uri": "https://localhost:8080/"
        },
        "execution": {
          "iopub.execute_input": "2023-01-19T17:59:24.490001Z",
          "iopub.status.busy": "2023-01-19T17:59:24.489151Z",
          "iopub.status.idle": "2023-01-19T17:59:24.501286Z",
          "shell.execute_reply": "2023-01-19T17:59:24.500381Z",
          "shell.execute_reply.started": "2023-01-19T17:59:24.489965Z"
        },
        "id": "LzINwGJreQN5",
        "outputId": "65fa19f0-ef76-45dc-f786-3f59219b7520",
        "trusted": true
      },
      "outputs": [
        {
          "output_type": "execute_result",
          "data": {
            "text/plain": [
              "False    106859\n",
              "True        307\n",
              "dtype: int64"
            ]
          },
          "metadata": {},
          "execution_count": 40
        }
      ],
      "source": [
        "bad_length_mask = (question_lengths > q_length_limit) | (answer_lengths > a_length_limit) | (span_lengths > span_length_limit)\n",
        "bad_length_mask.value_counts()"
      ]
    },
    {
      "cell_type": "code",
      "execution_count": 41,
      "metadata": {
        "colab": {
          "base_uri": "https://localhost:8080/"
        },
        "execution": {
          "iopub.execute_input": "2023-01-19T17:59:24.511775Z",
          "iopub.status.busy": "2023-01-19T17:59:24.510974Z",
          "iopub.status.idle": "2023-01-19T17:59:24.518840Z",
          "shell.execute_reply": "2023-01-19T17:59:24.517808Z",
          "shell.execute_reply.started": "2023-01-19T17:59:24.511739Z"
        },
        "id": "sxmcnFXbeQN5",
        "outputId": "d28d9669-606a-4996-dd8f-229f500078a2",
        "trusted": true
      },
      "outputs": [
        {
          "output_type": "execute_result",
          "data": {
            "text/plain": [
              "272"
            ]
          },
          "metadata": {},
          "execution_count": 41
        }
      ],
      "source": [
        "excluded_stories = train_df[\"p\"][bad_length_mask].unique()\n",
        "len(excluded_stories)"
      ]
    },
    {
      "cell_type": "code",
      "execution_count": 42,
      "metadata": {
        "colab": {
          "base_uri": "https://localhost:8080/"
        },
        "execution": {
          "iopub.execute_input": "2023-01-19T17:59:24.520844Z",
          "iopub.status.busy": "2023-01-19T17:59:24.520432Z",
          "iopub.status.idle": "2023-01-19T17:59:24.533684Z",
          "shell.execute_reply": "2023-01-19T17:59:24.532511Z",
          "shell.execute_reply.started": "2023-01-19T17:59:24.520810Z"
        },
        "id": "sRrwwM2eeQN6",
        "outputId": "ab72ccb0-cde8-45eb-826b-be011caeeca5",
        "trusted": true
      },
      "outputs": [
        {
          "output_type": "execute_result",
          "data": {
            "text/plain": [
              "True     102798\n",
              "False      4368\n",
              "Name: p, dtype: int64"
            ]
          },
          "metadata": {},
          "execution_count": 42
        }
      ],
      "source": [
        "excluded_mask = ~train_df[\"p\"].isin(excluded_stories)\n",
        "excluded_mask.value_counts()"
      ]
    },
    {
      "cell_type": "code",
      "execution_count": 43,
      "metadata": {
        "colab": {
          "base_uri": "https://localhost:8080/"
        },
        "execution": {
          "iopub.execute_input": "2023-01-19T17:59:24.535762Z",
          "iopub.status.busy": "2023-01-19T17:59:24.535406Z",
          "iopub.status.idle": "2023-01-19T17:59:24.576857Z",
          "shell.execute_reply": "2023-01-19T17:59:24.575820Z",
          "shell.execute_reply.started": "2023-01-19T17:59:24.535725Z"
        },
        "id": "5sPbSYmFeQN6",
        "outputId": "8f708473-4e11-4cd0-9aa6-8d245b1af297",
        "trusted": true
      },
      "outputs": [
        {
          "output_type": "execute_result",
          "data": {
            "text/plain": [
              "source     102798\n",
              "p          102798\n",
              "q          102798\n",
              "a          102798\n",
              "span       102798\n",
              "history    102798\n",
              "dtype: int64"
            ]
          },
          "metadata": {},
          "execution_count": 43
        }
      ],
      "source": [
        "train_df = train_df[excluded_mask]\n",
        "train_df.count()"
      ]
    },
    {
      "cell_type": "code",
      "execution_count": 44,
      "metadata": {
        "colab": {
          "base_uri": "https://localhost:8080/",
          "height": 337
        },
        "execution": {
          "iopub.execute_input": "2023-01-19T17:59:24.578959Z",
          "iopub.status.busy": "2023-01-19T17:59:24.578600Z",
          "iopub.status.idle": "2023-01-19T17:59:24.591834Z",
          "shell.execute_reply": "2023-01-19T17:59:24.590852Z",
          "shell.execute_reply.started": "2023-01-19T17:59:24.578925Z"
        },
        "id": "3AYtm6-OHYF4",
        "outputId": "be8cd23b-4647-40d5-9524-cfc9b902f2a6",
        "trusted": true
      },
      "outputs": [
        {
          "output_type": "execute_result",
          "data": {
            "text/plain": [
              "      source                                                  p  \\\n",
              "0  wikipedia  The Vatican Apostolic Library (), more commonl...   \n",
              "1  wikipedia  The Vatican Apostolic Library (), more commonl...   \n",
              "2  wikipedia  The Vatican Apostolic Library (), more commonl...   \n",
              "3  wikipedia  The Vatican Apostolic Library (), more commonl...   \n",
              "4  wikipedia  The Vatican Apostolic Library (), more commonl...   \n",
              "\n",
              "                                   q                                    a  \\\n",
              "0  When was the Vat formally opened?  It was formally established in 1475   \n",
              "1           what is the library for?                             research   \n",
              "2                 for what subjects?                     history, and law   \n",
              "3                               and?     philosophy, science and theology   \n",
              "4          what was started in 2014?                           a  project   \n",
              "\n",
              "                                                span  \\\n",
              "0                       Formally established in 1475   \n",
              "1           he Vatican Library is a research library   \n",
              "2  Vatican Library is a research library for hist...   \n",
              "3  Vatican Library is a research library for hist...   \n",
              "4  March 2014, the Vatican Library began an initi...   \n",
              "\n",
              "                                             history  \n",
              "0                                                     \n",
              "1   When was the Vat formally opened? It was form...  \n",
              "2   what is the library for? research. When was t...  \n",
              "3   for what subjects? history, and law. what is ...  \n",
              "4   and? philosophy, science and theology. for wh...  "
            ],
            "text/html": [
              "\n",
              "  <div id=\"df-69c93af6-beed-4f3e-bad5-7e8cd431ee64\">\n",
              "    <div class=\"colab-df-container\">\n",
              "      <div>\n",
              "<style scoped>\n",
              "    .dataframe tbody tr th:only-of-type {\n",
              "        vertical-align: middle;\n",
              "    }\n",
              "\n",
              "    .dataframe tbody tr th {\n",
              "        vertical-align: top;\n",
              "    }\n",
              "\n",
              "    .dataframe thead th {\n",
              "        text-align: right;\n",
              "    }\n",
              "</style>\n",
              "<table border=\"1\" class=\"dataframe\">\n",
              "  <thead>\n",
              "    <tr style=\"text-align: right;\">\n",
              "      <th></th>\n",
              "      <th>source</th>\n",
              "      <th>p</th>\n",
              "      <th>q</th>\n",
              "      <th>a</th>\n",
              "      <th>span</th>\n",
              "      <th>history</th>\n",
              "    </tr>\n",
              "  </thead>\n",
              "  <tbody>\n",
              "    <tr>\n",
              "      <th>0</th>\n",
              "      <td>wikipedia</td>\n",
              "      <td>The Vatican Apostolic Library (), more commonl...</td>\n",
              "      <td>When was the Vat formally opened?</td>\n",
              "      <td>It was formally established in 1475</td>\n",
              "      <td>Formally established in 1475</td>\n",
              "      <td></td>\n",
              "    </tr>\n",
              "    <tr>\n",
              "      <th>1</th>\n",
              "      <td>wikipedia</td>\n",
              "      <td>The Vatican Apostolic Library (), more commonl...</td>\n",
              "      <td>what is the library for?</td>\n",
              "      <td>research</td>\n",
              "      <td>he Vatican Library is a research library</td>\n",
              "      <td>When was the Vat formally opened? It was form...</td>\n",
              "    </tr>\n",
              "    <tr>\n",
              "      <th>2</th>\n",
              "      <td>wikipedia</td>\n",
              "      <td>The Vatican Apostolic Library (), more commonl...</td>\n",
              "      <td>for what subjects?</td>\n",
              "      <td>history, and law</td>\n",
              "      <td>Vatican Library is a research library for hist...</td>\n",
              "      <td>what is the library for? research. When was t...</td>\n",
              "    </tr>\n",
              "    <tr>\n",
              "      <th>3</th>\n",
              "      <td>wikipedia</td>\n",
              "      <td>The Vatican Apostolic Library (), more commonl...</td>\n",
              "      <td>and?</td>\n",
              "      <td>philosophy, science and theology</td>\n",
              "      <td>Vatican Library is a research library for hist...</td>\n",
              "      <td>for what subjects? history, and law. what is ...</td>\n",
              "    </tr>\n",
              "    <tr>\n",
              "      <th>4</th>\n",
              "      <td>wikipedia</td>\n",
              "      <td>The Vatican Apostolic Library (), more commonl...</td>\n",
              "      <td>what was started in 2014?</td>\n",
              "      <td>a  project</td>\n",
              "      <td>March 2014, the Vatican Library began an initi...</td>\n",
              "      <td>and? philosophy, science and theology. for wh...</td>\n",
              "    </tr>\n",
              "  </tbody>\n",
              "</table>\n",
              "</div>\n",
              "      <button class=\"colab-df-convert\" onclick=\"convertToInteractive('df-69c93af6-beed-4f3e-bad5-7e8cd431ee64')\"\n",
              "              title=\"Convert this dataframe to an interactive table.\"\n",
              "              style=\"display:none;\">\n",
              "        \n",
              "  <svg xmlns=\"http://www.w3.org/2000/svg\" height=\"24px\"viewBox=\"0 0 24 24\"\n",
              "       width=\"24px\">\n",
              "    <path d=\"M0 0h24v24H0V0z\" fill=\"none\"/>\n",
              "    <path d=\"M18.56 5.44l.94 2.06.94-2.06 2.06-.94-2.06-.94-.94-2.06-.94 2.06-2.06.94zm-11 1L8.5 8.5l.94-2.06 2.06-.94-2.06-.94L8.5 2.5l-.94 2.06-2.06.94zm10 10l.94 2.06.94-2.06 2.06-.94-2.06-.94-.94-2.06-.94 2.06-2.06.94z\"/><path d=\"M17.41 7.96l-1.37-1.37c-.4-.4-.92-.59-1.43-.59-.52 0-1.04.2-1.43.59L10.3 9.45l-7.72 7.72c-.78.78-.78 2.05 0 2.83L4 21.41c.39.39.9.59 1.41.59.51 0 1.02-.2 1.41-.59l7.78-7.78 2.81-2.81c.8-.78.8-2.07 0-2.86zM5.41 20L4 18.59l7.72-7.72 1.47 1.35L5.41 20z\"/>\n",
              "  </svg>\n",
              "      </button>\n",
              "      \n",
              "  <style>\n",
              "    .colab-df-container {\n",
              "      display:flex;\n",
              "      flex-wrap:wrap;\n",
              "      gap: 12px;\n",
              "    }\n",
              "\n",
              "    .colab-df-convert {\n",
              "      background-color: #E8F0FE;\n",
              "      border: none;\n",
              "      border-radius: 50%;\n",
              "      cursor: pointer;\n",
              "      display: none;\n",
              "      fill: #1967D2;\n",
              "      height: 32px;\n",
              "      padding: 0 0 0 0;\n",
              "      width: 32px;\n",
              "    }\n",
              "\n",
              "    .colab-df-convert:hover {\n",
              "      background-color: #E2EBFA;\n",
              "      box-shadow: 0px 1px 2px rgba(60, 64, 67, 0.3), 0px 1px 3px 1px rgba(60, 64, 67, 0.15);\n",
              "      fill: #174EA6;\n",
              "    }\n",
              "\n",
              "    [theme=dark] .colab-df-convert {\n",
              "      background-color: #3B4455;\n",
              "      fill: #D2E3FC;\n",
              "    }\n",
              "\n",
              "    [theme=dark] .colab-df-convert:hover {\n",
              "      background-color: #434B5C;\n",
              "      box-shadow: 0px 1px 3px 1px rgba(0, 0, 0, 0.15);\n",
              "      filter: drop-shadow(0px 1px 2px rgba(0, 0, 0, 0.3));\n",
              "      fill: #FFFFFF;\n",
              "    }\n",
              "  </style>\n",
              "\n",
              "      <script>\n",
              "        const buttonEl =\n",
              "          document.querySelector('#df-69c93af6-beed-4f3e-bad5-7e8cd431ee64 button.colab-df-convert');\n",
              "        buttonEl.style.display =\n",
              "          google.colab.kernel.accessAllowed ? 'block' : 'none';\n",
              "\n",
              "        async function convertToInteractive(key) {\n",
              "          const element = document.querySelector('#df-69c93af6-beed-4f3e-bad5-7e8cd431ee64');\n",
              "          const dataTable =\n",
              "            await google.colab.kernel.invokeFunction('convertToInteractive',\n",
              "                                                     [key], {});\n",
              "          if (!dataTable) return;\n",
              "\n",
              "          const docLinkHtml = 'Like what you see? Visit the ' +\n",
              "            '<a target=\"_blank\" href=https://colab.research.google.com/notebooks/data_table.ipynb>data table notebook</a>'\n",
              "            + ' to learn more about interactive tables.';\n",
              "          element.innerHTML = '';\n",
              "          dataTable['output_type'] = 'display_data';\n",
              "          await google.colab.output.renderOutput(dataTable, element);\n",
              "          const docLink = document.createElement('div');\n",
              "          docLink.innerHTML = docLinkHtml;\n",
              "          element.appendChild(docLink);\n",
              "        }\n",
              "      </script>\n",
              "    </div>\n",
              "  </div>\n",
              "  "
            ]
          },
          "metadata": {},
          "execution_count": 44
        }
      ],
      "source": [
        "train_df.head(5)"
      ]
    },
    {
      "cell_type": "markdown",
      "metadata": {
        "id": "mm2QCJbR1mPd"
      },
      "source": [
        "## Train-Validation(-Test) split"
      ]
    },
    {
      "cell_type": "code",
      "execution_count": 45,
      "metadata": {
        "execution": {
          "iopub.execute_input": "2023-01-19T17:59:24.593974Z",
          "iopub.status.busy": "2023-01-19T17:59:24.593611Z",
          "iopub.status.idle": "2023-01-19T17:59:24.612935Z",
          "shell.execute_reply": "2023-01-19T17:59:24.612058Z",
          "shell.execute_reply.started": "2023-01-19T17:59:24.593939Z"
        },
        "id": "c4GiqoqneQN6",
        "trusted": true
      },
      "outputs": [],
      "source": [
        "train_df = train_df.reset_index(drop=True)\n",
        "total_rows = len(train_df)\n",
        "ideal_split_index = int(total_rows * 0.2)"
      ]
    },
    {
      "cell_type": "code",
      "execution_count": 46,
      "metadata": {
        "execution": {
          "iopub.execute_input": "2023-01-19T17:59:24.616444Z",
          "iopub.status.busy": "2023-01-19T17:59:24.615502Z",
          "iopub.status.idle": "2023-01-19T17:59:24.672953Z",
          "shell.execute_reply": "2023-01-19T17:59:24.671911Z",
          "shell.execute_reply.started": "2023-01-19T17:59:24.616407Z"
        },
        "id": "2qhj2oICyQKL",
        "trusted": true
      },
      "outputs": [],
      "source": [
        "ENABLE_DATASET_SHUFFLING = True\n",
        "def train_val_split(df:pd.DataFrame) ->(pd.DataFrame, pd.DataFrame):\n",
        "  if ENABLE_DATASET_SHUFFLING:\n",
        "    all_stories = df[\"p\"].drop_duplicates()\n",
        "    val_stories = all_stories.sample(frac=0.2, random_state=DATA_SPLITTING_RANDOM_SEED) # random sample\n",
        "    val_mask = df[\"p\"].isin(val_stories)\n",
        "    val_question_count = val_mask.sum()\n",
        "    train_question_count = (~val_mask).sum()\n",
        "    val_story_count = val_stories.count()\n",
        "    train_story_count = all_stories.count() - val_story_count\n",
        "    print(f\"\"\"\n",
        "        Splitting validation dataset from train dataset with random sampling\n",
        "        Stories: {train_story_count} vs {val_story_count}\n",
        "        Questions: {train_question_count} vs {val_question_count} (ideal split: {ideal_split_index})\n",
        "    \"\"\")\n",
        "    #val_df = df[val_mask].sample(frac=1, random_state=DATA_SPLITTING_RANDOM_SEED) # Selection + Random shuffling\n",
        "    #train_df = df[~val_mask].sample(frac=1, random_state=DATA_SPLITTING_RANDOM_SEED) # Selection + Random shuffling\n",
        "    val_df = df[val_mask] # Selection \n",
        "    train_df = df[~val_mask] # Selection\n",
        "  else:\n",
        "    print(\"Splitting validation dataset from train dataset without random sampling\")\n",
        "    before_split_mask = pd.Series(np.linspace(0, total_rows, total_rows)) < ideal_split_index\n",
        "    split_story_mask = df[\"p\"] == df[\"p\"][ideal_split_index - 1]\n",
        "    val_mask = before_split_mask | split_story_mask\n",
        "    val_df = df[val_mask]\n",
        "    train_df = df[~val_mask]\n",
        "  return train_df, val_df"
      ]
    },
    {
      "cell_type": "code",
      "source": [
        "train_df, val_df = train_val_split(train_df)"
      ],
      "metadata": {
        "id": "Dh8hOakq10pX",
        "outputId": "c40fa675-0409-4769-a1ac-8210cc7b7612",
        "colab": {
          "base_uri": "https://localhost:8080/"
        }
      },
      "execution_count": 47,
      "outputs": [
        {
          "output_type": "stream",
          "name": "stdout",
          "text": [
            "\n",
            "        Splitting validation dataset from train dataset with random sampling and reshuffling\n",
            "        Stories: 5062 vs 1265\n",
            "        Questions: 82259 vs 20539 (ideal split: 20559)\n",
            "    \n"
          ]
        }
      ]
    },
    {
      "cell_type": "code",
      "execution_count": 48,
      "metadata": {
        "execution": {
          "iopub.execute_input": "2023-01-19T17:59:24.675060Z",
          "iopub.status.busy": "2023-01-19T17:59:24.674688Z",
          "iopub.status.idle": "2023-01-19T17:59:24.681897Z",
          "shell.execute_reply": "2023-01-19T17:59:24.680638Z",
          "shell.execute_reply.started": "2023-01-19T17:59:24.675023Z"
        },
        "id": "LdAVma1HH03W",
        "trusted": true
      },
      "outputs": [],
      "source": [
        "ALTERNATIVE_SPLIT = False\n",
        "if ALTERNATIVE_SPLIT:\n",
        "  from sklearn.model_selection import train_test_split\n",
        "  stories = list(train_df['p'].unique())\n",
        "  print(f'Total n° of stories: {len(stories)}')\n",
        "  train_stories, val_stories = train_test_split(stories, test_size=0.2, random_state=42)\n",
        "  val_df = train_df[train_df['p'].isin(val_stories)]\n",
        "  train_df = train_df[train_df['p'].isin(train_stories)]\n",
        "  len(train_stories), len(val_stories)"
      ]
    },
    {
      "cell_type": "code",
      "execution_count": 49,
      "metadata": {
        "execution": {
          "iopub.execute_input": "2023-01-19T17:59:24.685270Z",
          "iopub.status.busy": "2023-01-19T17:59:24.683258Z",
          "iopub.status.idle": "2023-01-19T17:59:24.706041Z",
          "shell.execute_reply": "2023-01-19T17:59:24.705053Z",
          "shell.execute_reply.started": "2023-01-19T17:59:24.685232Z"
        },
        "id": "edVqMQWc0iNI",
        "trusted": true
      },
      "outputs": [],
      "source": [
        "#reset index\n",
        "train_df = train_df.reset_index(drop=True)\n",
        "val_df = val_df.reset_index(drop=True)"
      ]
    },
    {
      "cell_type": "code",
      "execution_count": 51,
      "metadata": {
        "colab": {
          "base_uri": "https://localhost:8080/"
        },
        "execution": {
          "iopub.execute_input": "2023-01-19T17:59:24.708019Z",
          "iopub.status.busy": "2023-01-19T17:59:24.707441Z",
          "iopub.status.idle": "2023-01-19T17:59:24.715347Z",
          "shell.execute_reply": "2023-01-19T17:59:24.714340Z",
          "shell.execute_reply.started": "2023-01-19T17:59:24.707982Z"
        },
        "id": "aoWZVRDyeQN8",
        "outputId": "b5b7b15b-0d19-4c3f-ddcb-3aafaaa2f2c9",
        "trusted": true
      },
      "outputs": [
        {
          "output_type": "stream",
          "name": "stdout",
          "text": [
            "Training set shape: (82259, 6)\n",
            "Validation set shape: (20539, 6)\n",
            "Test set shape: (7917, 6)\n"
          ]
        }
      ],
      "source": [
        "print(f'Training set shape: {train_df.shape}\\nValidation set shape: {val_df.shape}\\nTest set shape: {test_df.shape}')"
      ]
    },
    {
      "cell_type": "code",
      "execution_count": 79,
      "metadata": {
        "execution": {
          "iopub.execute_input": "2023-01-19T17:59:24.717913Z",
          "iopub.status.busy": "2023-01-19T17:59:24.716823Z",
          "iopub.status.idle": "2023-01-19T17:59:25.383751Z",
          "shell.execute_reply": "2023-01-19T17:59:25.382710Z",
          "shell.execute_reply.started": "2023-01-19T17:59:24.717875Z"
        },
        "id": "2UlmnnRP3JAq",
        "trusted": true
      },
      "outputs": [],
      "source": [
        "#convert to lower case\n",
        "train_df = preprocess(train_df)\n",
        "val_df = preprocess(val_df)\n",
        "test_df = preprocess(test_df)"
      ]
    },
    {
      "cell_type": "markdown",
      "metadata": {
        "id": "6wuh0_ic1mPd"
      },
      "source": [
        "## Utilities"
      ]
    },
    {
      "cell_type": "code",
      "execution_count": 53,
      "metadata": {
        "execution": {
          "iopub.execute_input": "2023-01-19T17:59:25.385657Z",
          "iopub.status.busy": "2023-01-19T17:59:25.385296Z",
          "iopub.status.idle": "2023-01-19T17:59:25.391497Z",
          "shell.execute_reply": "2023-01-19T17:59:25.390516Z",
          "shell.execute_reply.started": "2023-01-19T17:59:25.385619Z"
        },
        "id": "cQfcofYQeQN9",
        "trusted": true
      },
      "outputs": [],
      "source": [
        "def free_some_memory():\n",
        "    torch.cuda.empty_cache()\n",
        "    torch.cuda.reset_accumulated_memory_stats()\n",
        "    gc.collect()"
      ]
    },
    {
      "cell_type": "markdown",
      "metadata": {
        "id": "_Ax1wIOh4_M2"
      },
      "source": [
        "#### Save and load results"
      ]
    },
    {
      "cell_type": "code",
      "execution_count": 54,
      "metadata": {
        "execution": {
          "iopub.execute_input": "2023-01-19T17:59:25.394235Z",
          "iopub.status.busy": "2023-01-19T17:59:25.393525Z",
          "iopub.status.idle": "2023-01-19T17:59:25.404877Z",
          "shell.execute_reply": "2023-01-19T17:59:25.403762Z",
          "shell.execute_reply.started": "2023-01-19T17:59:25.394201Z"
        },
        "id": "LLIimUyScd66",
        "trusted": true
      },
      "outputs": [],
      "source": [
        "import json\n",
        "\n",
        "results_folder = \"results\"\n",
        "if not os.path.exists(results_folder):\n",
        "    os.makedirs(results_folder)\n",
        "\n",
        "def results_to_json(test_df, \n",
        "                    generated_df, \n",
        "                    model_name,\n",
        "                    seed,\n",
        "                    history):\n",
        "    '''\n",
        "    Given the test dataframe, the dataframe resulting from generated_answers, and the name of the model, writes on a file (JSON format) the concatenation of the two DataFrames.\n",
        "\n",
        "    Args:\n",
        "        test_df: DataFrame already given as input for generation purposes\n",
        "        generated_df: Output DataFrame of the method generate_answers()\n",
        "        model_name: name of the model, it will define the path for the JSON file\n",
        "        seed: the used seed\n",
        "        history: history flag\n",
        "    '''\n",
        "    \n",
        "    # drop answers column to avoid duplicate columns\n",
        "    df_g = generated_df.copy().drop(columns=[\"answers\"])\n",
        "    \n",
        "    final = pd.concat([test_df.copy(), df_g.copy()], axis=1)\n",
        "    h_flag = \"\"\n",
        "    if history == True:\n",
        "        h_flag = \"_history\"\n",
        "    if model_name == 'prajjwal1/bert-tiny':\n",
        "        model_name = \"bert-tiny\"\n",
        "    json_path = f\"{results_folder}/{model_name}_{seed}{h_flag}.json\"\n",
        "    final.to_json(path_or_buf=json_path)\n",
        "    csv_path = f\"{results_folder}/{model_name}_{seed}{h_flag}.csv\"\n",
        "    final.to_csv(path_or_buf=csv_path, columns=[\"q\",\"a\",\"generated\",\"score\",\"history\",\"span\"])"
      ]
    },
    {
      "cell_type": "code",
      "execution_count": 55,
      "metadata": {
        "execution": {
          "iopub.execute_input": "2023-01-19T17:59:25.407010Z",
          "iopub.status.busy": "2023-01-19T17:59:25.406558Z",
          "iopub.status.idle": "2023-01-19T17:59:25.416405Z",
          "shell.execute_reply": "2023-01-19T17:59:25.415413Z",
          "shell.execute_reply.started": "2023-01-19T17:59:25.406975Z"
        },
        "id": "1sFeuAYqcd67",
        "trusted": true
      },
      "outputs": [],
      "source": [
        "def results_from_json(model_name,\n",
        "                    seed,\n",
        "                    history):\n",
        "    '''\n",
        "    Given the name of a model, returns the DataFrame loaded by a JSON file, containing the results previously savd on disk of the generate_answers() method.\n",
        "    \n",
        "    Args:\n",
        "        model_Name: name of the model for which return the results\n",
        "        seed: the wanted seed\n",
        "        history: history flag\n",
        "    '''\n",
        "    h_flag = \"\"\n",
        "    if history == True:\n",
        "        h_flag = \"_history\" \n",
        "    if model_name == 'prajjwal1/bert-tiny':\n",
        "        model_name = \"bert-tiny\"\n",
        "    path = f\"results/{model_name}_{seed}{h_flag}.json\"\n",
        "    # Opening JSON file\n",
        "    with open(path) as f:\n",
        "\n",
        "        # returns JSON object as a dictionary\n",
        "        data = json.load(f)\n",
        "\n",
        "        # Use pandas.DataFrame.from_dict() to Convert JSON to DataFrame\n",
        "        df_results = pd.DataFrame.from_dict(data, orient=\"columns\")\n",
        "\n",
        "        return df_results"
      ]
    },
    {
      "cell_type": "markdown",
      "metadata": {
        "id": "Wr9lF2r5LJfQ"
      },
      "source": [
        "#### Pytorch Dataset"
      ]
    },
    {
      "cell_type": "code",
      "execution_count": 56,
      "metadata": {
        "execution": {
          "iopub.execute_input": "2023-01-19T17:59:25.418280Z",
          "iopub.status.busy": "2023-01-19T17:59:25.417849Z",
          "iopub.status.idle": "2023-01-19T17:59:25.431110Z",
          "shell.execute_reply": "2023-01-19T17:59:25.430153Z",
          "shell.execute_reply.started": "2023-01-19T17:59:25.418244Z"
        },
        "id": "YmIVbhWPkD31",
        "trusted": true
      },
      "outputs": [],
      "source": [
        "class CreateDataset(Dataset):\n",
        "    def __init__(self, encodings):\n",
        "        self.encodings = encodings\n",
        "\n",
        "    def __getitem__(self, idx):\n",
        "        return {key: torch.tensor(val[idx]) for key, val in self.encodings.items()}\n",
        "\n",
        "    def __len__(self):\n",
        "        return len(self.encodings.input_ids)"
      ]
    },
    {
      "cell_type": "markdown",
      "metadata": {
        "id": "Z2D0z0w4LYst"
      },
      "source": [
        "### Metric"
      ]
    },
    {
      "cell_type": "markdown",
      "metadata": {
        "id": "3pDzWxTNLg1d"
      },
      "source": [
        "Instead of importing the whole allennlp library, we decided to copy from the source code only of the functions necessary for our task."
      ]
    },
    {
      "cell_type": "code",
      "execution_count": 57,
      "metadata": {
        "execution": {
          "iopub.execute_input": "2023-01-19T17:59:25.434160Z",
          "iopub.status.busy": "2023-01-19T17:59:25.433785Z",
          "iopub.status.idle": "2023-01-19T17:59:25.447220Z",
          "shell.execute_reply": "2023-01-19T17:59:25.446309Z",
          "shell.execute_reply.started": "2023-01-19T17:59:25.434126Z"
        },
        "id": "9FKIPvM1CmVN",
        "trusted": true
      },
      "outputs": [],
      "source": [
        "#utility functions taken from the allennlp library for computing the F1-score\n",
        "import collections\n",
        "import re\n",
        "import string\n",
        "from typing import Callable, Sequence, TypeVar, Tuple\n",
        "\n",
        "def get_tokens(s):\n",
        "    if not s:\n",
        "        return []\n",
        "    return normalize_answer(s).split()\n",
        "\n",
        "def normalize_answer(s):\n",
        "    \"\"\"Lower text and remove punctuation, articles and extra whitespace.\"\"\"\n",
        "\n",
        "    def remove_articles(text):\n",
        "        regex = re.compile(r\"\\b(a|an|the)\\b\", re.UNICODE)\n",
        "        return re.sub(regex, \" \", text)\n",
        "\n",
        "    def white_space_fix(text):\n",
        "        return \" \".join(text.split())\n",
        "\n",
        "    def remove_punc(text):\n",
        "        exclude = set(string.punctuation)\n",
        "        return \"\".join(ch for ch in text if ch not in exclude)\n",
        "\n",
        "    def lower(text):\n",
        "        return text.lower()\n",
        "\n",
        "    return white_space_fix(remove_articles(remove_punc(lower(s))))\n",
        "\n",
        "def compute_f1(a_pred: str, a_gold: str) -> float:\n",
        "    pred_toks = get_tokens(a_pred)\n",
        "    gold_toks = get_tokens(a_gold)\n",
        "    common = collections.Counter(pred_toks) & collections.Counter(gold_toks)  # type: ignore[var-annotated]\n",
        "    num_same = sum(common.values())\n",
        "    if len(pred_toks) == 0 or len(gold_toks) == 0:\n",
        "        # If either is no-answer, then F1 is 1 if they agree, 0 otherwise\n",
        "        return float(pred_toks == gold_toks)\n",
        "    if num_same == 0:\n",
        "        return 0.0\n",
        "    precision = 1.0 * num_same / len(pred_toks)\n",
        "    recall = 1.0 * num_same / len(gold_toks)\n",
        "    f1 = (2 * precision * recall) / (precision + recall)\n",
        "    return f1"
      ]
    },
    {
      "cell_type": "markdown",
      "metadata": {
        "id": "SICbZ6vB1mPd"
      },
      "source": [
        "## Model definition"
      ]
    },
    {
      "cell_type": "markdown",
      "metadata": {
        "id": "2rkmZ-I83G37"
      },
      "source": [
        "In this assignment to tackle the sequence to sequence task, we decided to use transformer-based encoder-decoder models - often also called seq2seq transformer models. The EncoderDecoderModel is initialized from a pretrained encoder checkpoint and a pretrained decoder checkpoint. To do so, the EncoderDecoderModel class provides a EncoderDecoderModel.from_encoder_decoder_pretrained() method."
      ]
    },
    {
      "cell_type": "code",
      "execution_count": 58,
      "metadata": {
        "execution": {
          "iopub.execute_input": "2023-01-19T17:59:25.450353Z",
          "iopub.status.busy": "2023-01-19T17:59:25.449688Z",
          "iopub.status.idle": "2023-01-19T17:59:25.461806Z",
          "shell.execute_reply": "2023-01-19T17:59:25.460819Z",
          "shell.execute_reply.started": "2023-01-19T17:59:25.450316Z"
        },
        "id": "NuNeaZwnxuOw",
        "trusted": true
      },
      "outputs": [],
      "source": [
        "BERT_TINY = 'prajjwal1/bert-tiny'\n",
        "DISTIL_ROBERTA = 'distilroberta-base'\n",
        "def getModel(model_name):\n",
        "  if(model_name != BERT_TINY) and (model_name != DISTIL_ROBERTA):\n",
        "    raise Exception(\"ValueError: model name should be 'prajjwal1/bert-tiny' or 'distilroberta-base'.\")\n",
        "  \n",
        "  # tie_encoder_decoder to share weights and half the number of parameters\n",
        "  model = EncoderDecoderModel.from_encoder_decoder_pretrained(model_name, model_name,\n",
        "                                                                          tie_encoder_decoder=True)\n",
        "  tokenizer = AutoTokenizer.from_pretrained(model_name)\n",
        "\n",
        "  # set special tokens\n",
        "  model.config.decoder_start_token_id = tokenizer.cls_token_id\n",
        "  model.config.eos_token_id = tokenizer.sep_token_id\n",
        "  model.config.pad_token_id = tokenizer.pad_token_id\n",
        "\n",
        "  # set decoding parameters                             \n",
        "  model.config.early_stopping = True\n",
        "  model.config.no_repeat_ngram_size = 3\n",
        "  model.config.repetition_penalty = 5.0\n",
        "  model.config.num_beams = 2\n",
        "  model.config.vocab_size = model.config.encoder.vocab_size\n",
        "  return model, tokenizer\n"
      ]
    },
    {
      "cell_type": "markdown",
      "metadata": {
        "id": "SKp0Kz_C0z1K"
      },
      "source": [
        "### Train Functionalities\n"
      ]
    },
    {
      "cell_type": "code",
      "execution_count": 59,
      "metadata": {
        "execution": {
          "iopub.execute_input": "2023-01-19T17:59:25.463686Z",
          "iopub.status.busy": "2023-01-19T17:59:25.463251Z",
          "iopub.status.idle": "2023-01-19T17:59:25.478960Z",
          "shell.execute_reply": "2023-01-19T17:59:25.477889Z",
          "shell.execute_reply.started": "2023-01-19T17:59:25.463647Z"
        },
        "id": "P-3GGR9O05dn",
        "trusted": true
      },
      "outputs": [],
      "source": [
        "# Train one epoch\n",
        "def train(model: torch.nn.Module,\n",
        "          train_loader:torch.utils.data.DataLoader,\n",
        "          device: torch.device,          \n",
        "          optimizer: torch.optim,\n",
        "          epoch: int) -> float:\n",
        "    \"\"\"Trains a neural network for one epoch.\n",
        "\n",
        "    Args:\n",
        "        model: the model to train.\n",
        "        train_loader: the data loader containing the training data.\n",
        "        device: the device to use to train the model.        \n",
        "        optimizer: the optimizer to use to train the model.\n",
        "        epoch: the number of the current epoch.\n",
        "\n",
        "    Returns:\n",
        "        the cross entropy Loss value on the training data.\n",
        "    \"\"\"    \n",
        "    size_ds_train = len(train_loader.dataset)\n",
        "    num_batches = len(train_loader)\n",
        "    loss_score = []\n",
        "    loop = tqdm(train_loader)\n",
        "    #set training mode\n",
        "    model.train()\n",
        "    for idx_batch, batch in enumerate(loop):\n",
        "        optimizer.zero_grad()\n",
        "        input_ids = batch['input_ids'].to(device)\n",
        "        attention_mask = batch['attention_mask'].to(device)\n",
        "        labels = batch['labels'].to(device)\n",
        "        loss, outputs = model(input_ids,\n",
        "                              attention_mask=attention_mask,\n",
        "                              labels = labels\n",
        "                        )[:2]\n",
        "        loss_score.append(loss.item())\n",
        "        loss.backward()\n",
        "        optimizer.step() \n",
        "        loop.set_description(f'Epoch {epoch}')\n",
        "        loop.set_postfix(loss=loss.item())\n",
        "\n",
        "    loss_train = np.mean(loss_score)\n",
        "    return loss_train\n",
        "\n",
        "# Validate one epoch\n",
        "def validate(model: torch.nn.Module,\n",
        "             data_loader: torch.utils.data.DataLoader,\n",
        "             device: torch.device) -> float:\n",
        "    \"\"\"Evaluates the model.\n",
        "\n",
        "    Args:\n",
        "        model: the model to evalaute.\n",
        "        data_loader: the data loader containing the validation data.\n",
        "        device: the device to use to evaluate the model.\n",
        "\n",
        "    Returns:\n",
        "        the loss value on the validation data.\n",
        "    \"\"\"\n",
        "    loss_score = []\n",
        "    #set evaluation mode\n",
        "    model = model.eval()\n",
        "    with torch.no_grad():\n",
        "        for idx_batch, batch in enumerate(data_loader):\n",
        "            input_ids = batch['input_ids'].to(device)\n",
        "            attention_mask = batch['attention_mask'].to(device)\n",
        "            labels = batch['labels'].to(device)\n",
        "            loss, outputs = model(input_ids,\n",
        "                                  attention_mask=attention_mask,\n",
        "                                  labels = labels\n",
        "                            )[:2]\n",
        "            loss_score.append(loss.item())\n",
        "    loss_val = np.mean(loss_score)\n",
        "    return loss_val"
      ]
    },
    {
      "cell_type": "code",
      "execution_count": 60,
      "metadata": {
        "execution": {
          "iopub.execute_input": "2023-01-19T17:59:25.482496Z",
          "iopub.status.busy": "2023-01-19T17:59:25.481147Z",
          "iopub.status.idle": "2023-01-19T17:59:25.494439Z",
          "shell.execute_reply": "2023-01-19T17:59:25.493639Z",
          "shell.execute_reply.started": "2023-01-19T17:59:25.482462Z"
        },
        "id": "ZRJmWE8R1bIB",
        "trusted": true
      },
      "outputs": [],
      "source": [
        "def training_loop(num_epochs: int,\n",
        "                  optimizer: torch.optim, \n",
        "                  model: torch.nn.Module, \n",
        "                  loader_train: torch.utils.data.DataLoader, \n",
        "                  loader_val: torch.utils.data.DataLoader, \n",
        "                  verbose: bool=True) -> Dict:\n",
        "    \"\"\"Executes the training loop.\n",
        "    \n",
        "        Args:\n",
        "            num_epochs: the number of epochs.\n",
        "            optimizer: the optimizer to use.\n",
        "            model: the mode to train.\n",
        "            loader_train: the data loader containing the training data.\n",
        "            loader_val: the data loader containing the validation data.\n",
        "            verbose: if true print the value of loss.\n",
        "\n",
        "        Returns:  \n",
        "            A dictionary with the statistics computed during the train:\n",
        "            the values for the train loss for each epoch.\n",
        "            the values for the validation loss for each epoch.\n",
        "            the time of execution in seconds for the entire loop.\n",
        "    \"\"\"\n",
        "    device = torch.device('cuda') if torch.cuda.is_available() else torch.device('cpu')\n",
        "    model.to(device)\n",
        "    loop_start = timer()\n",
        "    train_losses_values = []\n",
        "    val_losses_values = []\n",
        "    for epoch in range(1, num_epochs + 1):\n",
        "        time_start = timer()\n",
        "        loss_train = train(model, loader_train, device, \n",
        "                                           optimizer, epoch)\n",
        "        loss_val = validate(model, loader_val, device)\n",
        "        time_end = timer()\n",
        "        train_losses_values.append(loss_train)\n",
        "        val_losses_values.append(loss_val)\n",
        "        if verbose:            \n",
        "            print(f'Epoch: {epoch} '\n",
        "                  f' Lr: {lr:.8f} '\n",
        "                  f' Loss: Train = [{loss_train:.4f}] - Val = [{loss_val:.4f}] '\n",
        "                  f' Time one epoch (s): {(time_end - time_start):.4f} ')\n",
        "    loop_end = timer()\n",
        "    time_loop = loop_end - loop_start\n",
        "    if verbose:\n",
        "        print(f'Time for {num_epochs} epochs (s): {(time_loop):.3f}') \n",
        "        \n",
        "    return {'train_loss_values': train_losses_values,\n",
        "            'val_loss_values' : val_losses_values,\n",
        "            'time': time_loop}"
      ]
    },
    {
      "cell_type": "markdown",
      "metadata": {
        "id": "ZZwPf5KGh8AH"
      },
      "source": [
        "### Encodings"
      ]
    },
    {
      "cell_type": "code",
      "execution_count": 61,
      "metadata": {
        "execution": {
          "iopub.execute_input": "2023-01-19T17:59:25.496202Z",
          "iopub.status.busy": "2023-01-19T17:59:25.495839Z",
          "iopub.status.idle": "2023-01-19T17:59:25.508329Z",
          "shell.execute_reply": "2023-01-19T17:59:25.507398Z",
          "shell.execute_reply.started": "2023-01-19T17:59:25.496168Z"
        },
        "id": "T0euHtnu4_M6",
        "trusted": true
      },
      "outputs": [],
      "source": [
        "def tokenize_coqa_questions(df:pd.DataFrame,\n",
        "                            history:bool, \n",
        "                            tokenizer:PreTrainedTokenizer,\n",
        "                            max_length:int) -> BatchEncoding:\n",
        "    if history:\n",
        "        #concatenating the question with the history \n",
        "        print(f'encoding WITH history')\n",
        "        questions = df[\"q\"].str.cat(df[\"history\"]) # If needed a separator can be passed, for example with sep='[SEP] '\n",
        "        #questions = df_input[[\"q\", \"history\"]].apply(\" \".join, axis=1) # Equivalent\n",
        "    else:\n",
        "        print(f'encoding without history')\n",
        "        questions = df['q']\n",
        "\n",
        "    return tokenizer(\n",
        "        list(questions),\n",
        "        list(df['p']),  \n",
        "        padding=True,\n",
        "        truncation= 'only_second', # Switch between 'only_first' and 'only_second' if passages and questions are switched\n",
        "        max_length = encoder_max_length,\n",
        "    )"
      ]
    },
    {
      "cell_type": "code",
      "execution_count": 62,
      "metadata": {
        "execution": {
          "iopub.execute_input": "2023-01-19T17:59:25.510166Z",
          "iopub.status.busy": "2023-01-19T17:59:25.509826Z",
          "iopub.status.idle": "2023-01-19T17:59:25.522833Z",
          "shell.execute_reply": "2023-01-19T17:59:25.521795Z",
          "shell.execute_reply.started": "2023-01-19T17:59:25.510131Z"
        },
        "id": "tmQuDvN1rq1D",
        "trusted": true
      },
      "outputs": [],
      "source": [
        "BERT_TINY_ENCODER_MAX_LENGTH = 499\n",
        "DISTILLROBERTA_ENCODER_MAX_LENGTH = 512\n",
        "def encodings(model_name:str, \n",
        "              tokenizer:PreTrainedTokenizer,\n",
        "              df:pd.DataFrame,\n",
        "              history:bool) -> BatchEncoding:\n",
        "  if(model_name == BERT_TINY):\n",
        "    encoder_max_length = BERT_TINY_ENCODER_MAX_LENGTH\n",
        "    decoder_max_length = 64\n",
        "  elif(model_name == DISTIL_ROBERTA):\n",
        "    encoder_max_length = DISTILLROBERTA_ENCODER_MAX_LENGTH\n",
        "    decoder_max_length = 64\n",
        "\n",
        "  encodings = tokenize_coqa_questions(df, history, tokenizer, encoder_max_length)\n",
        "  input_ids, input_attention_mask = encodings['input_ids'], encodings['attention_mask']\n",
        "\n",
        "  label_values = tokenizer(list(df['a']),\n",
        "                            padding=True,\n",
        "                            truncation=True,\n",
        "                            max_length = decoder_max_length,\n",
        "                            )\n",
        "  labels, labels_mask = label_values['input_ids'], label_values['attention_mask']\n",
        "  #Tokens with indices set to ``-100`` are ignored (masked) during training, the loss is only computed for the tokens with labels\n",
        "  masked_labels = [[-100 if token == tokenizer.pad_token_id else token for token in labels] for labels in labels]\n",
        "\n",
        "  #print(f\"\"\"\n",
        "   # Question 42 decoded: {tokenizer.decode(input_ids[42])}\n",
        "   # Answer 42 decoded: {tokenizer.decode(labels[42])}\n",
        "  #\"\"\")\n",
        "\n",
        "  #add the labels to the batch encodings dictionary, then this will be used to create a pytorch dataset\n",
        "  if(model_name == BERT_TINY):\n",
        "    #token_type_ids are not relevant for the training process\n",
        "    encodings.pop('token_type_ids')\n",
        "  encodings.update({'labels': masked_labels})\n",
        "  return encodings"
      ]
    },
    {
      "cell_type": "markdown",
      "metadata": {
        "id": "SY-KWM4VhXs3"
      },
      "source": [
        "### Generation"
      ]
    },
    {
      "cell_type": "code",
      "execution_count": 63,
      "metadata": {
        "execution": {
          "iopub.execute_input": "2023-01-19T17:59:25.524985Z",
          "iopub.status.busy": "2023-01-19T17:59:25.524507Z",
          "iopub.status.idle": "2023-01-19T17:59:25.538910Z",
          "shell.execute_reply": "2023-01-19T17:59:25.537875Z",
          "shell.execute_reply.started": "2023-01-19T17:59:25.524951Z"
        },
        "id": "0Rv6DjFnu2et",
        "trusted": true
      },
      "outputs": [],
      "source": [
        "def generate_answers(model: torch.nn.Module,\n",
        "                    tokenizer: PreTrainedTokenizer,\n",
        "                    df_input: pd.DataFrame,\n",
        "                    max_length: int,\n",
        "                    history: bool = False,\n",
        "                     ) -> pd.DataFrame:\n",
        "\n",
        "    '''\n",
        "    Given the model and the input, returns a dataframe cointaining the generated answers and relative F1-score\n",
        "    \n",
        "    Args:\n",
        "        model: Torch model used to generate answers\n",
        "        tokenizer: generic tokenizer\n",
        "        df_input: dataframe containing the input to the model\n",
        "        max_length: max length applied in the tokenization\n",
        "        history: history flag.\n",
        "    '''\n",
        "\n",
        "    device = torch.device('cuda') if torch.cuda.is_available() else torch.device('cpu')\n",
        "    input_values = tokenize_coqa_questions(df_input, history, tokenizer, max_length)\n",
        "    input_ids, input_attention_mask = input_values['input_ids'], input_values['attention_mask']\n",
        "    list_generated = []\n",
        "    model.to(device)\n",
        "    # Set the model in evaluation mode\n",
        "    model.eval()\n",
        "    for input, mask in zip(input_ids,input_attention_mask):\n",
        "        input = np.expand_dims(np.array(input), axis=0)\n",
        "        mask = np.expand_dims(np.array(mask), axis=0)\n",
        "        generated = model.generate(input_ids=torch.tensor(input).to(device),\n",
        "                                                        max_length=20,\n",
        "                                                        repetition_penalty=5.,\n",
        "                                                        min_length=1,\n",
        "                                                        no_repeat_ngram_size=3,\n",
        "                                                        early_stopping=True,\n",
        "                                                        decoder_start_token_id = model.config.decoder_start_token_id,\n",
        "                                                        num_beams=2,\n",
        "                                                        )\n",
        "        generated = tokenizer.batch_decode(generated, skip_special_tokens=True)\n",
        "        list_generated.append(generated)\n",
        "\n",
        "    # Create a dataframe and insert the real answers\n",
        "    df_generated = pd.DataFrame(list_generated, columns = ['generated'])\n",
        "    df_generated['answers'] = df_input['a']\n",
        "\n",
        "    # Generate and insert the F1-score\n",
        "    score = []\n",
        "    for a_pred, a_gold in zip(df_generated['generated'], df_generated['answers']):\n",
        "        score.append(compute_f1(a_pred, a_gold))\n",
        "    df_generated['score'] = score\n",
        "\n",
        "    # Print average f1_score and the answers with score greater than 0\n",
        "    average_score = np.mean(score)*100\n",
        "    predicted = len(df_generated[df_generated['score'] != 0])\n",
        "    \n",
        "    print(f'Average_score: {average_score}')\n",
        "    print(f'N° of samples with score greater than 0: {predicted} / {len(df_generated)}')\n",
        "    return df_generated"
      ]
    },
    {
      "cell_type": "markdown",
      "metadata": {
        "id": "YgAgAhQKiQsA"
      },
      "source": [
        "### Execution"
      ]
    },
    {
      "cell_type": "code",
      "execution_count": 64,
      "metadata": {
        "execution": {
          "iopub.execute_input": "2023-01-19T17:59:25.540758Z",
          "iopub.status.busy": "2023-01-19T17:59:25.540387Z",
          "iopub.status.idle": "2023-01-19T17:59:25.553638Z",
          "shell.execute_reply": "2023-01-19T17:59:25.552729Z",
          "shell.execute_reply.started": "2023-01-19T17:59:25.540724Z"
        },
        "id": "_04W2EehrIH1",
        "trusted": true
      },
      "outputs": [],
      "source": [
        "def execute(model_name: str,\n",
        "            lr: float, \n",
        "            num_epochs: int, \n",
        "            batch_size: int,\n",
        "            train_df: pd.DataFrame,\n",
        "            val_df: pd.DataFrame,\n",
        "            history:bool=False,\n",
        "            ) ->Tuple[torch.nn.Module, any]:\n",
        "    \"\"\"Gets the model, does the encodings of the training and validation data using the \n",
        "        tokenizer, and then executes the training loop.\n",
        "\n",
        "    Args:\n",
        "        model: the network to train.\n",
        "        lr: the learning rate.\n",
        "        num_epochs: the number of epochs.\n",
        "        batch_size: the batch size.\n",
        "        train_df: training dataframe.\n",
        "        val_df: validation dataframe.\n",
        "        history: questions-answers history flag.\n",
        "    \"\"\"\n",
        "    #get the model and the tokenizer\n",
        "    model, tokenizer = getModel(model_name)\n",
        "    #Start encodings\n",
        "    print(f'STARTING ENCODING:')\n",
        "    train_encodings = encodings(model_name, tokenizer, train_df, history)\n",
        "    val_encodings = encodings(model_name, tokenizer, val_df, history)\n",
        "    print(f'ENCODING COMPLETE.')\n",
        "\n",
        "    #create training dataset\n",
        "    train_dataset = CreateDataset(train_encodings)\n",
        "    #create training dataloader\n",
        "    data_loader_train = torch.utils.data.DataLoader(train_dataset,\n",
        "                                        batch_size=batch_size,\n",
        "                                        shuffle = True\n",
        "                                        )\n",
        "    #create validation dataset\n",
        "    val_dataset = CreateDataset(val_encodings)\n",
        "    #create validation dataloader\n",
        "    data_loader_val = torch.utils.data.DataLoader(val_dataset,\n",
        "                                        batch_size=batch_size,\n",
        "                                        shuffle = False\n",
        "                                        )\n",
        "\n",
        "    #Optimizer\n",
        "    optimizer = torch.optim.AdamW(model.parameters(), lr=lr)\n",
        "    print(f'STARTING TRAINING:')\n",
        "    statistics = training_loop(num_epochs, optimizer, model,\n",
        "                               data_loader_train, data_loader_val)\n",
        "    print(f'TRAINING COMPLETE.')\n",
        "    return model, tokenizer\n"
      ]
    },
    {
      "cell_type": "markdown",
      "metadata": {
        "id": "WpTttkRT1mPq"
      },
      "source": [
        "## Train and evaluate $f_\\theta(P, Q)$ and $f_\\theta(P, Q, H)$"
      ]
    },
    {
      "cell_type": "markdown",
      "metadata": {
        "id": "Tc2DJC_G4_NE"
      },
      "source": [
        "### Define model "
      ]
    },
    {
      "cell_type": "code",
      "execution_count": 65,
      "metadata": {
        "execution": {
          "iopub.execute_input": "2023-01-19T17:59:25.556270Z",
          "iopub.status.busy": "2023-01-19T17:59:25.555988Z",
          "iopub.status.idle": "2023-01-19T17:59:25.567692Z",
          "shell.execute_reply": "2023-01-19T17:59:25.566764Z",
          "shell.execute_reply.started": "2023-01-19T17:59:25.556246Z"
        },
        "id": "3dCdPsMj4_NE",
        "trusted": true
      },
      "outputs": [],
      "source": [
        "# Select seed 42,2022,1337\n",
        "TRAINING_RANDOM_SEED = 1337\n",
        "\n",
        "# Select model\n",
        "model_name = BERT_TINY\n",
        "#model_name = DISTIL_ROBERTA\n",
        "\n",
        "# History flag\n",
        "history = True\n",
        "#history = False"
      ]
    },
    {
      "cell_type": "markdown",
      "metadata": {
        "id": "HeNHSux9Xscg"
      },
      "source": [
        "### Training"
      ]
    },
    {
      "cell_type": "code",
      "execution_count": 66,
      "metadata": {
        "colab": {
          "base_uri": "https://localhost:8080/",
          "height": 549,
          "referenced_widgets": [
            "e4ad0dbdc5da4da5bdce337387ce76db",
            "5dd4956e597c4a56b7c35e10f18b3df2",
            "c367a9c106e84630a0c013a7716ff854",
            "287f6e56a1bd486887204dfb3ddc5cf2",
            "13591ef632ea4417abee21efe00a5735",
            "c608cdb413a74604badf7e542c76508c",
            "2177a206300c4b5bb372b68536bdc5a2",
            "f18fccabda9248d899f15b4c9d0ea695",
            "c0432f5e81b0472a81bb61846da10f32",
            "da4163db399f41a5997e119c7c3015e1",
            "bcb346ff51a34d3da41fd7bbe39b8ee2",
            "1a7c1f8ff4314ef79fd4756b1ac3f1e9",
            "89a564eeabd148849ab602cf3fab0820",
            "ed4fcd9c3d5049d29ea377612dca71cc",
            "e708fa71aa214f0c9c0b2f2ff640a093",
            "d04f7b05f6a1473bae12e3610c18ea87",
            "f175278ee7954883b99fd0f3b42e7ada",
            "a390fe238b274105a3086ede55b0afe3",
            "66f0327fb6984beaa3ca029a8c4a294a",
            "190f1946ae9848ba935ef9ad842ba9e0",
            "3f01f40ac5da4dc7b9c769f721689f9b",
            "6b4df79ae0ee4b64a8682a6f8e3585c3",
            "2809423da66b46f1a3786097197b08eb",
            "bfca35066f224fcf89b46f6dfde5243e",
            "af2c8fa16000424d811c33bd0f3ac329",
            "1dd05d49787640bfa6d2a049fbabc2cd",
            "c8b03fbdbc2844bfa60e1dad73f3db3b",
            "a0384c24d9c04f128021b128b52f5229",
            "5fb4f63359c44d089bd5b5fa6e0b2ef2",
            "25dcee7a832141ceab64344ea3b080f2",
            "34d10caab1ca49a88c103587b23a412c",
            "c224abe7d8b94ab3838424696402ff18",
            "57206a3f719e46f1a598b350277a140b"
          ]
        },
        "execution": {
          "iopub.execute_input": "2023-01-19T17:59:25.570301Z",
          "iopub.status.busy": "2023-01-19T17:59:25.569971Z",
          "iopub.status.idle": "2023-01-19T18:11:13.432420Z",
          "shell.execute_reply": "2023-01-19T18:11:13.431419Z",
          "shell.execute_reply.started": "2023-01-19T17:59:25.570276Z"
        },
        "id": "vowXc6lgygac",
        "outputId": "6aba29e2-dea4-4a15-9acb-7dbce7ae70c3",
        "trusted": true
      },
      "outputs": [
        {
          "output_type": "display_data",
          "data": {
            "text/plain": [
              "Downloading:   0%|          | 0.00/285 [00:00<?, ?B/s]"
            ],
            "application/vnd.jupyter.widget-view+json": {
              "version_major": 2,
              "version_minor": 0,
              "model_id": "e4ad0dbdc5da4da5bdce337387ce76db"
            }
          },
          "metadata": {}
        },
        {
          "output_type": "display_data",
          "data": {
            "text/plain": [
              "Downloading:   0%|          | 0.00/17.8M [00:00<?, ?B/s]"
            ],
            "application/vnd.jupyter.widget-view+json": {
              "version_major": 2,
              "version_minor": 0,
              "model_id": "1a7c1f8ff4314ef79fd4756b1ac3f1e9"
            }
          },
          "metadata": {}
        },
        {
          "output_type": "stream",
          "name": "stderr",
          "text": [
            "Some weights of the model checkpoint at prajjwal1/bert-tiny were not used when initializing BertModel: ['cls.predictions.decoder.weight', 'cls.predictions.transform.dense.bias', 'cls.predictions.decoder.bias', 'cls.predictions.bias', 'cls.predictions.transform.LayerNorm.bias', 'cls.predictions.transform.LayerNorm.weight', 'cls.seq_relationship.weight', 'cls.seq_relationship.bias', 'cls.predictions.transform.dense.weight']\n",
            "- This IS expected if you are initializing BertModel from the checkpoint of a model trained on another task or with another architecture (e.g. initializing a BertForSequenceClassification model from a BertForPreTraining model).\n",
            "- This IS NOT expected if you are initializing BertModel from the checkpoint of a model that you expect to be exactly identical (initializing a BertForSequenceClassification model from a BertForSequenceClassification model).\n",
            "Some weights of the model checkpoint at prajjwal1/bert-tiny were not used when initializing BertLMHeadModel: ['cls.seq_relationship.bias', 'cls.seq_relationship.weight']\n",
            "- This IS expected if you are initializing BertLMHeadModel from the checkpoint of a model trained on another task or with another architecture (e.g. initializing a BertForSequenceClassification model from a BertForPreTraining model).\n",
            "- This IS NOT expected if you are initializing BertLMHeadModel from the checkpoint of a model that you expect to be exactly identical (initializing a BertForSequenceClassification model from a BertForSequenceClassification model).\n",
            "Some weights of BertLMHeadModel were not initialized from the model checkpoint at prajjwal1/bert-tiny and are newly initialized: ['bert.encoder.layer.0.crossattention.self.query.weight', 'bert.encoder.layer.1.crossattention.self.query.weight', 'bert.encoder.layer.1.crossattention.output.dense.weight', 'bert.encoder.layer.0.crossattention.self.value.weight', 'bert.encoder.layer.0.crossattention.self.key.weight', 'bert.encoder.layer.0.crossattention.output.dense.weight', 'bert.encoder.layer.0.crossattention.output.LayerNorm.weight', 'bert.encoder.layer.1.crossattention.output.dense.bias', 'bert.encoder.layer.1.crossattention.self.query.bias', 'bert.encoder.layer.1.crossattention.output.LayerNorm.weight', 'bert.encoder.layer.0.crossattention.self.query.bias', 'bert.encoder.layer.0.crossattention.output.LayerNorm.bias', 'bert.encoder.layer.1.crossattention.self.value.weight', 'bert.encoder.layer.0.crossattention.self.key.bias', 'bert.encoder.layer.1.crossattention.self.key.weight', 'bert.encoder.layer.1.crossattention.self.key.bias', 'bert.encoder.layer.1.crossattention.self.value.bias', 'bert.encoder.layer.0.crossattention.output.dense.bias', 'bert.encoder.layer.1.crossattention.output.LayerNorm.bias', 'bert.encoder.layer.0.crossattention.self.value.bias']\n",
            "You should probably TRAIN this model on a down-stream task to be able to use it for predictions and inference.\n",
            "The following encoder weights were not tied to the decoder ['bert/pooler']\n"
          ]
        },
        {
          "output_type": "display_data",
          "data": {
            "text/plain": [
              "Downloading:   0%|          | 0.00/232k [00:00<?, ?B/s]"
            ],
            "application/vnd.jupyter.widget-view+json": {
              "version_major": 2,
              "version_minor": 0,
              "model_id": "2809423da66b46f1a3786097197b08eb"
            }
          },
          "metadata": {}
        },
        {
          "output_type": "stream",
          "name": "stdout",
          "text": [
            "STARTING ENCODING:\n",
            "encoding WITH history\n",
            "encoding WITH history\n",
            "ENCODING COMPLETE.\n",
            "STARTING TRAINING:\n"
          ]
        },
        {
          "output_type": "stream",
          "name": "stderr",
          "text": [
            "  0%|          | 0/5142 [00:00<?, ?it/s]/usr/local/lib/python3.8/dist-packages/transformers/models/encoder_decoder/modeling_encoder_decoder.py:634: FutureWarning: Version v4.12.0 introduces a better way to train encoder-decoder models by computing the loss inside the encoder-decoder framework rather than in the decoder itself. You may observe training discrepancies if fine-tuning a model trained with versions anterior to 4.12.0. The decoder_input_ids are now created based on the labels, no need to pass them yourself anymore.\n",
            "  warnings.warn(DEPRECATION_WARNING, FutureWarning)\n",
            "Epoch 1: 100%|██████████| 5142/5142 [03:50<00:00, 22.33it/s, loss=4.36]\n"
          ]
        },
        {
          "output_type": "stream",
          "name": "stdout",
          "text": [
            "Epoch: 1  Lr: 0.00040000  Loss: Train = [3.9323] - Val = [3.5859]  Time one epoch (s): 245.2318 \n"
          ]
        },
        {
          "output_type": "stream",
          "name": "stderr",
          "text": [
            "Epoch 2: 100%|██████████| 5142/5142 [03:48<00:00, 22.47it/s, loss=2.31]\n"
          ]
        },
        {
          "output_type": "stream",
          "name": "stdout",
          "text": [
            "Epoch: 2  Lr: 0.00040000  Loss: Train = [3.3018] - Val = [3.5410]  Time one epoch (s): 243.9631 \n"
          ]
        },
        {
          "output_type": "stream",
          "name": "stderr",
          "text": [
            "Epoch 3: 100%|██████████| 5142/5142 [03:48<00:00, 22.53it/s, loss=2.06]\n"
          ]
        },
        {
          "output_type": "stream",
          "name": "stdout",
          "text": [
            "Epoch: 3  Lr: 0.00040000  Loss: Train = [3.0181] - Val = [3.5642]  Time one epoch (s): 243.3879 \n",
            "Time for 3 epochs (s): 732.584\n",
            "TRAINING COMPLETE.\n"
          ]
        }
      ],
      "source": [
        "fix_seed(TRAINING_RANDOM_SEED)\n",
        "\n",
        "#parameters \n",
        "if(model_name == BERT_TINY):\n",
        "    lr = 4e-4\n",
        "    encoder_max_length = BERT_TINY_ENCODER_MAX_LENGTH\n",
        "elif(model_name == DISTIL_ROBERTA):\n",
        "    lr = 4e-5\n",
        "    encoder_max_length = DISTILLROBERTA_ENCODER_MAX_LENGTH\n",
        "\n",
        "num_epochs = 3\n",
        "\n",
        "#if you are having runtime error reduce the batch size to 12 or 8\n",
        "batch_size = 16\n",
        "\n",
        "#execute\n",
        "model, tokenizer = execute(model_name, lr, num_epochs, batch_size, train_df, val_df, history=history)"
      ]
    },
    {
      "cell_type": "code",
      "execution_count": 67,
      "metadata": {
        "execution": {
          "iopub.execute_input": "2023-01-19T18:11:13.440504Z",
          "iopub.status.busy": "2023-01-19T18:11:13.440197Z",
          "iopub.status.idle": "2023-01-19T18:11:13.722280Z",
          "shell.execute_reply": "2023-01-19T18:11:13.720978Z",
          "shell.execute_reply.started": "2023-01-19T18:11:13.440476Z"
        },
        "id": "PS4LyEvk1y88",
        "trusted": true
      },
      "outputs": [],
      "source": [
        "free_some_memory()"
      ]
    },
    {
      "cell_type": "markdown",
      "metadata": {
        "id": "1ezjXyEag7rc"
      },
      "source": [
        "### Evaluation"
      ]
    },
    {
      "cell_type": "markdown",
      "source": [
        "####Evaluation on validation set"
      ],
      "metadata": {
        "id": "5V6RY1i_-7P0"
      }
    },
    {
      "cell_type": "markdown",
      "source": [
        "Encode the validation set using the tokenizer defined before."
      ],
      "metadata": {
        "id": "JEWv_9cr_ies"
      }
    },
    {
      "cell_type": "code",
      "execution_count": 68,
      "metadata": {
        "colab": {
          "base_uri": "https://localhost:8080/"
        },
        "execution": {
          "iopub.execute_input": "2023-01-19T18:11:13.724678Z",
          "iopub.status.busy": "2023-01-19T18:11:13.723994Z",
          "iopub.status.idle": "2023-01-19T18:14:00.725546Z",
          "shell.execute_reply": "2023-01-19T18:14:00.724171Z",
          "shell.execute_reply.started": "2023-01-19T18:11:13.724641Z"
        },
        "outputId": "5ff8f33f-51df-463f-e302-fd5102083ae3",
        "trusted": true,
        "id": "orSBK7-s_XfV"
      },
      "outputs": [
        {
          "output_type": "stream",
          "name": "stdout",
          "text": [
            "STARTING GENERATION on validation set:\n",
            "encoding WITH history\n",
            "Average_score: 16.186003373198457\n",
            "N° of samples with score greater than 0: 4383 / 20539\n",
            "GENERATION COMPLETE.\n"
          ]
        }
      ],
      "source": [
        "print(f'STARTING GENERATION on validation set:')\n",
        "df_generated = generate_answers(model = model, \n",
        "                                tokenizer = tokenizer,\n",
        "                                df_input = val_df,\n",
        "                                max_length = encoder_max_length,\n",
        "                                history = history)\n",
        "print(f'GENERATION COMPLETE.')"
      ]
    },
    {
      "cell_type": "code",
      "execution_count": 69,
      "metadata": {
        "execution": {
          "iopub.execute_input": "2023-01-19T18:14:00.727897Z",
          "iopub.status.busy": "2023-01-19T18:14:00.727503Z",
          "iopub.status.idle": "2023-01-19T18:14:00.841588Z",
          "shell.execute_reply": "2023-01-19T18:14:00.840162Z",
          "shell.execute_reply.started": "2023-01-19T18:14:00.727859Z"
        },
        "trusted": true,
        "id": "cPn0XNYh1KFq"
      },
      "outputs": [],
      "source": [
        "# save\n",
        "results_to_json(val_df, df_generated, model_name, TRAINING_RANDOM_SEED, history)\n",
        "# load\n",
        "# df_results = results_from_json(model_name, TRAINING_RANDOM_SEED, history)"
      ]
    },
    {
      "cell_type": "code",
      "source": [
        "!zip -r val_results.zip results"
      ],
      "metadata": {
        "id": "U9Rj-NT11KFq",
        "outputId": "56acdf09-201f-4f7f-8aec-ae829fe74137",
        "colab": {
          "base_uri": "https://localhost:8080/"
        }
      },
      "execution_count": 70,
      "outputs": [
        {
          "output_type": "stream",
          "name": "stdout",
          "text": [
            "  adding: results/ (stored 0%)\n",
            "  adding: results/bert-tiny_1337_history.json (deflated 93%)\n",
            "  adding: results/bert-tiny_1337_history.csv (deflated 79%)\n"
          ]
        }
      ]
    },
    {
      "cell_type": "markdown",
      "source": [
        "####Evaluation on test set"
      ],
      "metadata": {
        "id": "a-4fS9UD_S73"
      }
    },
    {
      "cell_type": "markdown",
      "metadata": {
        "id": "ZpudKS7ZhCN6"
      },
      "source": [
        "Encode test set using the tokenizer defined before."
      ]
    },
    {
      "cell_type": "code",
      "execution_count": 80,
      "metadata": {
        "colab": {
          "base_uri": "https://localhost:8080/"
        },
        "execution": {
          "iopub.execute_input": "2023-01-19T18:11:13.724678Z",
          "iopub.status.busy": "2023-01-19T18:11:13.723994Z",
          "iopub.status.idle": "2023-01-19T18:14:00.725546Z",
          "shell.execute_reply": "2023-01-19T18:14:00.724171Z",
          "shell.execute_reply.started": "2023-01-19T18:11:13.724641Z"
        },
        "id": "9d0krT9su2ew",
        "outputId": "0311e46b-d369-4659-ef48-8d09d412b2f8",
        "trusted": true
      },
      "outputs": [
        {
          "output_type": "stream",
          "name": "stdout",
          "text": [
            "STARTING GENERATION on test set:\n",
            "encoding WITH history\n",
            "Average_score: 16.785367494332917\n",
            "N° of samples with score greater than 0: 1716 / 7917\n",
            "GENERATION COMPLETE.\n"
          ]
        }
      ],
      "source": [
        "print(f'STARTING GENERATION on test set:')\n",
        "df_generated = generate_answers(model = model, \n",
        "                                tokenizer = tokenizer,\n",
        "                                df_input = test_df,\n",
        "                                max_length = encoder_max_length,\n",
        "                                history = history)\n",
        "print(f'GENERATION COMPLETE.')"
      ]
    },
    {
      "cell_type": "markdown",
      "metadata": {
        "id": "UmbGypwzcd7A"
      },
      "source": [
        "Save the contents of df_generated (concatenated with test_df) in the folder \"results\", as a JSON file."
      ]
    },
    {
      "cell_type": "code",
      "execution_count": 72,
      "metadata": {
        "execution": {
          "iopub.execute_input": "2023-01-19T18:14:00.727897Z",
          "iopub.status.busy": "2023-01-19T18:14:00.727503Z",
          "iopub.status.idle": "2023-01-19T18:14:00.841588Z",
          "shell.execute_reply": "2023-01-19T18:14:00.840162Z",
          "shell.execute_reply.started": "2023-01-19T18:14:00.727859Z"
        },
        "id": "XALKeL3tcd7B",
        "trusted": true
      },
      "outputs": [],
      "source": [
        "# save\n",
        "results_to_json(test_df, df_generated, model_name, TRAINING_RANDOM_SEED, history)\n",
        "# load\n",
        "# df_results = results_from_json(model_name, TRAINING_RANDOM_SEED, history)"
      ]
    },
    {
      "cell_type": "code",
      "source": [
        "!zip -r test_results.zip results"
      ],
      "metadata": {
        "id": "n58ZfB6uLwp3",
        "colab": {
          "base_uri": "https://localhost:8080/"
        },
        "outputId": "431d8281-e861-4e97-c8b5-0dac42220ff0"
      },
      "execution_count": 73,
      "outputs": [
        {
          "output_type": "stream",
          "name": "stdout",
          "text": [
            "  adding: results/ (stored 0%)\n",
            "  adding: results/bert-tiny_1337_history.json (deflated 92%)\n",
            "  adding: results/bert-tiny_1337_history.csv (deflated 79%)\n"
          ]
        }
      ]
    },
    {
      "cell_type": "code",
      "execution_count": 74,
      "metadata": {
        "colab": {
          "base_uri": "https://localhost:8080/",
          "height": 1000
        },
        "execution": {
          "iopub.execute_input": "2023-01-19T18:14:00.843188Z",
          "iopub.status.busy": "2023-01-19T18:14:00.842840Z",
          "iopub.status.idle": "2023-01-19T18:14:00.861387Z",
          "shell.execute_reply": "2023-01-19T18:14:00.860149Z",
          "shell.execute_reply.started": "2023-01-19T18:14:00.843152Z"
        },
        "id": "WuX0FbSZu2ew",
        "outputId": "137cbdf6-62d6-4247-ae4c-7cc3f69d3375",
        "trusted": true
      },
      "outputs": [
        {
          "output_type": "execute_result",
          "data": {
            "text/plain": [
              "                               generated  \\\n",
              "0                                  white   \n",
              "1                            in the barn   \n",
              "2                                    yes   \n",
              "3                                    yes   \n",
              "4                                    yes   \n",
              "5                                    yes   \n",
              "6                                    yes   \n",
              "7                                    yes   \n",
              "8                              meat soup   \n",
              "9                                    yes   \n",
              "10                                   yes   \n",
              "11                                   yes   \n",
              "12                           he was shot   \n",
              "13                    michael schumacher   \n",
              "14                           he was shot   \n",
              "15                                    no   \n",
              "16                           the school.   \n",
              "17                        went to school   \n",
              "18                                   yes   \n",
              "19                              new york   \n",
              "20                              new york   \n",
              "21                                   yes   \n",
              "22            it is the city of new york   \n",
              "23                         in the window   \n",
              "24                                   yes   \n",
              "25                                   yes   \n",
              "26                 he was in a fortnight   \n",
              "27                                   yes   \n",
              "28                  to take care of them   \n",
              "29  the library of virginia universities   \n",
              "30                                   yes   \n",
              "31            the university of virginia   \n",
              "32               the library of virginia   \n",
              "33            the university of virginia   \n",
              "34                                summer   \n",
              "35                                    no   \n",
              "36                she didn't like a tree   \n",
              "37                              birthday   \n",
              "38                           in the lake   \n",
              "39                                   yes   \n",
              "40           the hospital went to school   \n",
              "41                                    no   \n",
              "42                                   yes   \n",
              "43                                   yes   \n",
              "44                                   yes   \n",
              "45                           he was sick   \n",
              "46                             the villa   \n",
              "47                                   yes   \n",
              "48                            every week   \n",
              "49                                   ted   \n",
              "\n",
              "                                              answers     score  \n",
              "0                                               white  1.000000  \n",
              "1                                           in a barn  1.000000  \n",
              "2                                                 Yes  1.000000  \n",
              "3                                                 Yes  1.000000  \n",
              "4                                                 yes  1.000000  \n",
              "5                                                 Yes  1.000000  \n",
              "6                                                 Yes  1.000000  \n",
              "7                                                 Yes  1.000000  \n",
              "8   hot soup and a container with rice, vegetables...  0.200000  \n",
              "9                                                 Yes  1.000000  \n",
              "10                                               Yes.  1.000000  \n",
              "11                                                Yes  1.000000  \n",
              "12                          Farina was cast in a film  0.250000  \n",
              "13                                       Michael Mann  0.500000  \n",
              "14                          He joined a TV show cast.  0.250000  \n",
              "15                                                 No  1.000000  \n",
              "16                                             school  1.000000  \n",
              "17                              go to Quentin's house  0.285714  \n",
              "18                                                yes  1.000000  \n",
              "19                                      New York City  0.800000  \n",
              "20                                           New York  1.000000  \n",
              "21                                                Yes  1.000000  \n",
              "22  because the inhabitants feel neglected by the ...  0.153846  \n",
              "23                                Five in the morning  0.400000  \n",
              "24                                                Yes  1.000000  \n",
              "25                                                Yes  1.000000  \n",
              "26  suspect in the recent disappearance of an Amer...  0.181818  \n",
              "27                                                yes  1.000000  \n",
              "28             posing over the bodies of dead Afghans  0.181818  \n",
              "29                     Online Computer Library Center  0.250000  \n",
              "30                                                Yes  1.000000  \n",
              "31                              Ohio State University  0.333333  \n",
              "32                                      Alden Library  0.400000  \n",
              "33                                    Ohio University  0.400000  \n",
              "34                                             summer  1.000000  \n",
              "35                                                 No  1.000000  \n",
              "36                        She already has two blouses  0.222222  \n",
              "37                                  Mother's birthday  0.666667  \n",
              "38                         by a big lake by the woods  0.285714  \n",
              "39                                                yes  1.000000  \n",
              "40                      The hospital had been bombed.  0.250000  \n",
              "41                                                 No  1.000000  \n",
              "42                              Yes, for twenty years  0.400000  \n",
              "43                                                Yes  1.000000  \n",
              "44                                   Yes, Franz does.  0.500000  \n",
              "45                          He assumed Hans was dead.  0.500000  \n",
              "46                                              Villa  1.000000  \n",
              "47                                                Yes  1.000000  \n",
              "48                                          every day  0.500000  \n",
              "49                                               Ted,  1.000000  "
            ],
            "text/html": [
              "\n",
              "  <div id=\"df-29dac729-7f98-489b-a4e9-62ee84ecba24\">\n",
              "    <div class=\"colab-df-container\">\n",
              "      <div>\n",
              "<style scoped>\n",
              "    .dataframe tbody tr th:only-of-type {\n",
              "        vertical-align: middle;\n",
              "    }\n",
              "\n",
              "    .dataframe tbody tr th {\n",
              "        vertical-align: top;\n",
              "    }\n",
              "\n",
              "    .dataframe thead th {\n",
              "        text-align: right;\n",
              "    }\n",
              "</style>\n",
              "<table border=\"1\" class=\"dataframe\">\n",
              "  <thead>\n",
              "    <tr style=\"text-align: right;\">\n",
              "      <th></th>\n",
              "      <th>generated</th>\n",
              "      <th>answers</th>\n",
              "      <th>score</th>\n",
              "    </tr>\n",
              "  </thead>\n",
              "  <tbody>\n",
              "    <tr>\n",
              "      <th>0</th>\n",
              "      <td>white</td>\n",
              "      <td>white</td>\n",
              "      <td>1.000000</td>\n",
              "    </tr>\n",
              "    <tr>\n",
              "      <th>1</th>\n",
              "      <td>in the barn</td>\n",
              "      <td>in a barn</td>\n",
              "      <td>1.000000</td>\n",
              "    </tr>\n",
              "    <tr>\n",
              "      <th>2</th>\n",
              "      <td>yes</td>\n",
              "      <td>Yes</td>\n",
              "      <td>1.000000</td>\n",
              "    </tr>\n",
              "    <tr>\n",
              "      <th>3</th>\n",
              "      <td>yes</td>\n",
              "      <td>Yes</td>\n",
              "      <td>1.000000</td>\n",
              "    </tr>\n",
              "    <tr>\n",
              "      <th>4</th>\n",
              "      <td>yes</td>\n",
              "      <td>yes</td>\n",
              "      <td>1.000000</td>\n",
              "    </tr>\n",
              "    <tr>\n",
              "      <th>5</th>\n",
              "      <td>yes</td>\n",
              "      <td>Yes</td>\n",
              "      <td>1.000000</td>\n",
              "    </tr>\n",
              "    <tr>\n",
              "      <th>6</th>\n",
              "      <td>yes</td>\n",
              "      <td>Yes</td>\n",
              "      <td>1.000000</td>\n",
              "    </tr>\n",
              "    <tr>\n",
              "      <th>7</th>\n",
              "      <td>yes</td>\n",
              "      <td>Yes</td>\n",
              "      <td>1.000000</td>\n",
              "    </tr>\n",
              "    <tr>\n",
              "      <th>8</th>\n",
              "      <td>meat soup</td>\n",
              "      <td>hot soup and a container with rice, vegetables...</td>\n",
              "      <td>0.200000</td>\n",
              "    </tr>\n",
              "    <tr>\n",
              "      <th>9</th>\n",
              "      <td>yes</td>\n",
              "      <td>Yes</td>\n",
              "      <td>1.000000</td>\n",
              "    </tr>\n",
              "    <tr>\n",
              "      <th>10</th>\n",
              "      <td>yes</td>\n",
              "      <td>Yes.</td>\n",
              "      <td>1.000000</td>\n",
              "    </tr>\n",
              "    <tr>\n",
              "      <th>11</th>\n",
              "      <td>yes</td>\n",
              "      <td>Yes</td>\n",
              "      <td>1.000000</td>\n",
              "    </tr>\n",
              "    <tr>\n",
              "      <th>12</th>\n",
              "      <td>he was shot</td>\n",
              "      <td>Farina was cast in a film</td>\n",
              "      <td>0.250000</td>\n",
              "    </tr>\n",
              "    <tr>\n",
              "      <th>13</th>\n",
              "      <td>michael schumacher</td>\n",
              "      <td>Michael Mann</td>\n",
              "      <td>0.500000</td>\n",
              "    </tr>\n",
              "    <tr>\n",
              "      <th>14</th>\n",
              "      <td>he was shot</td>\n",
              "      <td>He joined a TV show cast.</td>\n",
              "      <td>0.250000</td>\n",
              "    </tr>\n",
              "    <tr>\n",
              "      <th>15</th>\n",
              "      <td>no</td>\n",
              "      <td>No</td>\n",
              "      <td>1.000000</td>\n",
              "    </tr>\n",
              "    <tr>\n",
              "      <th>16</th>\n",
              "      <td>the school.</td>\n",
              "      <td>school</td>\n",
              "      <td>1.000000</td>\n",
              "    </tr>\n",
              "    <tr>\n",
              "      <th>17</th>\n",
              "      <td>went to school</td>\n",
              "      <td>go to Quentin's house</td>\n",
              "      <td>0.285714</td>\n",
              "    </tr>\n",
              "    <tr>\n",
              "      <th>18</th>\n",
              "      <td>yes</td>\n",
              "      <td>yes</td>\n",
              "      <td>1.000000</td>\n",
              "    </tr>\n",
              "    <tr>\n",
              "      <th>19</th>\n",
              "      <td>new york</td>\n",
              "      <td>New York City</td>\n",
              "      <td>0.800000</td>\n",
              "    </tr>\n",
              "    <tr>\n",
              "      <th>20</th>\n",
              "      <td>new york</td>\n",
              "      <td>New York</td>\n",
              "      <td>1.000000</td>\n",
              "    </tr>\n",
              "    <tr>\n",
              "      <th>21</th>\n",
              "      <td>yes</td>\n",
              "      <td>Yes</td>\n",
              "      <td>1.000000</td>\n",
              "    </tr>\n",
              "    <tr>\n",
              "      <th>22</th>\n",
              "      <td>it is the city of new york</td>\n",
              "      <td>because the inhabitants feel neglected by the ...</td>\n",
              "      <td>0.153846</td>\n",
              "    </tr>\n",
              "    <tr>\n",
              "      <th>23</th>\n",
              "      <td>in the window</td>\n",
              "      <td>Five in the morning</td>\n",
              "      <td>0.400000</td>\n",
              "    </tr>\n",
              "    <tr>\n",
              "      <th>24</th>\n",
              "      <td>yes</td>\n",
              "      <td>Yes</td>\n",
              "      <td>1.000000</td>\n",
              "    </tr>\n",
              "    <tr>\n",
              "      <th>25</th>\n",
              "      <td>yes</td>\n",
              "      <td>Yes</td>\n",
              "      <td>1.000000</td>\n",
              "    </tr>\n",
              "    <tr>\n",
              "      <th>26</th>\n",
              "      <td>he was in a fortnight</td>\n",
              "      <td>suspect in the recent disappearance of an Amer...</td>\n",
              "      <td>0.181818</td>\n",
              "    </tr>\n",
              "    <tr>\n",
              "      <th>27</th>\n",
              "      <td>yes</td>\n",
              "      <td>yes</td>\n",
              "      <td>1.000000</td>\n",
              "    </tr>\n",
              "    <tr>\n",
              "      <th>28</th>\n",
              "      <td>to take care of them</td>\n",
              "      <td>posing over the bodies of dead Afghans</td>\n",
              "      <td>0.181818</td>\n",
              "    </tr>\n",
              "    <tr>\n",
              "      <th>29</th>\n",
              "      <td>the library of virginia universities</td>\n",
              "      <td>Online Computer Library Center</td>\n",
              "      <td>0.250000</td>\n",
              "    </tr>\n",
              "    <tr>\n",
              "      <th>30</th>\n",
              "      <td>yes</td>\n",
              "      <td>Yes</td>\n",
              "      <td>1.000000</td>\n",
              "    </tr>\n",
              "    <tr>\n",
              "      <th>31</th>\n",
              "      <td>the university of virginia</td>\n",
              "      <td>Ohio State University</td>\n",
              "      <td>0.333333</td>\n",
              "    </tr>\n",
              "    <tr>\n",
              "      <th>32</th>\n",
              "      <td>the library of virginia</td>\n",
              "      <td>Alden Library</td>\n",
              "      <td>0.400000</td>\n",
              "    </tr>\n",
              "    <tr>\n",
              "      <th>33</th>\n",
              "      <td>the university of virginia</td>\n",
              "      <td>Ohio University</td>\n",
              "      <td>0.400000</td>\n",
              "    </tr>\n",
              "    <tr>\n",
              "      <th>34</th>\n",
              "      <td>summer</td>\n",
              "      <td>summer</td>\n",
              "      <td>1.000000</td>\n",
              "    </tr>\n",
              "    <tr>\n",
              "      <th>35</th>\n",
              "      <td>no</td>\n",
              "      <td>No</td>\n",
              "      <td>1.000000</td>\n",
              "    </tr>\n",
              "    <tr>\n",
              "      <th>36</th>\n",
              "      <td>she didn't like a tree</td>\n",
              "      <td>She already has two blouses</td>\n",
              "      <td>0.222222</td>\n",
              "    </tr>\n",
              "    <tr>\n",
              "      <th>37</th>\n",
              "      <td>birthday</td>\n",
              "      <td>Mother's birthday</td>\n",
              "      <td>0.666667</td>\n",
              "    </tr>\n",
              "    <tr>\n",
              "      <th>38</th>\n",
              "      <td>in the lake</td>\n",
              "      <td>by a big lake by the woods</td>\n",
              "      <td>0.285714</td>\n",
              "    </tr>\n",
              "    <tr>\n",
              "      <th>39</th>\n",
              "      <td>yes</td>\n",
              "      <td>yes</td>\n",
              "      <td>1.000000</td>\n",
              "    </tr>\n",
              "    <tr>\n",
              "      <th>40</th>\n",
              "      <td>the hospital went to school</td>\n",
              "      <td>The hospital had been bombed.</td>\n",
              "      <td>0.250000</td>\n",
              "    </tr>\n",
              "    <tr>\n",
              "      <th>41</th>\n",
              "      <td>no</td>\n",
              "      <td>No</td>\n",
              "      <td>1.000000</td>\n",
              "    </tr>\n",
              "    <tr>\n",
              "      <th>42</th>\n",
              "      <td>yes</td>\n",
              "      <td>Yes, for twenty years</td>\n",
              "      <td>0.400000</td>\n",
              "    </tr>\n",
              "    <tr>\n",
              "      <th>43</th>\n",
              "      <td>yes</td>\n",
              "      <td>Yes</td>\n",
              "      <td>1.000000</td>\n",
              "    </tr>\n",
              "    <tr>\n",
              "      <th>44</th>\n",
              "      <td>yes</td>\n",
              "      <td>Yes, Franz does.</td>\n",
              "      <td>0.500000</td>\n",
              "    </tr>\n",
              "    <tr>\n",
              "      <th>45</th>\n",
              "      <td>he was sick</td>\n",
              "      <td>He assumed Hans was dead.</td>\n",
              "      <td>0.500000</td>\n",
              "    </tr>\n",
              "    <tr>\n",
              "      <th>46</th>\n",
              "      <td>the villa</td>\n",
              "      <td>Villa</td>\n",
              "      <td>1.000000</td>\n",
              "    </tr>\n",
              "    <tr>\n",
              "      <th>47</th>\n",
              "      <td>yes</td>\n",
              "      <td>Yes</td>\n",
              "      <td>1.000000</td>\n",
              "    </tr>\n",
              "    <tr>\n",
              "      <th>48</th>\n",
              "      <td>every week</td>\n",
              "      <td>every day</td>\n",
              "      <td>0.500000</td>\n",
              "    </tr>\n",
              "    <tr>\n",
              "      <th>49</th>\n",
              "      <td>ted</td>\n",
              "      <td>Ted,</td>\n",
              "      <td>1.000000</td>\n",
              "    </tr>\n",
              "  </tbody>\n",
              "</table>\n",
              "</div>\n",
              "      <button class=\"colab-df-convert\" onclick=\"convertToInteractive('df-29dac729-7f98-489b-a4e9-62ee84ecba24')\"\n",
              "              title=\"Convert this dataframe to an interactive table.\"\n",
              "              style=\"display:none;\">\n",
              "        \n",
              "  <svg xmlns=\"http://www.w3.org/2000/svg\" height=\"24px\"viewBox=\"0 0 24 24\"\n",
              "       width=\"24px\">\n",
              "    <path d=\"M0 0h24v24H0V0z\" fill=\"none\"/>\n",
              "    <path d=\"M18.56 5.44l.94 2.06.94-2.06 2.06-.94-2.06-.94-.94-2.06-.94 2.06-2.06.94zm-11 1L8.5 8.5l.94-2.06 2.06-.94-2.06-.94L8.5 2.5l-.94 2.06-2.06.94zm10 10l.94 2.06.94-2.06 2.06-.94-2.06-.94-.94-2.06-.94 2.06-2.06.94z\"/><path d=\"M17.41 7.96l-1.37-1.37c-.4-.4-.92-.59-1.43-.59-.52 0-1.04.2-1.43.59L10.3 9.45l-7.72 7.72c-.78.78-.78 2.05 0 2.83L4 21.41c.39.39.9.59 1.41.59.51 0 1.02-.2 1.41-.59l7.78-7.78 2.81-2.81c.8-.78.8-2.07 0-2.86zM5.41 20L4 18.59l7.72-7.72 1.47 1.35L5.41 20z\"/>\n",
              "  </svg>\n",
              "      </button>\n",
              "      \n",
              "  <style>\n",
              "    .colab-df-container {\n",
              "      display:flex;\n",
              "      flex-wrap:wrap;\n",
              "      gap: 12px;\n",
              "    }\n",
              "\n",
              "    .colab-df-convert {\n",
              "      background-color: #E8F0FE;\n",
              "      border: none;\n",
              "      border-radius: 50%;\n",
              "      cursor: pointer;\n",
              "      display: none;\n",
              "      fill: #1967D2;\n",
              "      height: 32px;\n",
              "      padding: 0 0 0 0;\n",
              "      width: 32px;\n",
              "    }\n",
              "\n",
              "    .colab-df-convert:hover {\n",
              "      background-color: #E2EBFA;\n",
              "      box-shadow: 0px 1px 2px rgba(60, 64, 67, 0.3), 0px 1px 3px 1px rgba(60, 64, 67, 0.15);\n",
              "      fill: #174EA6;\n",
              "    }\n",
              "\n",
              "    [theme=dark] .colab-df-convert {\n",
              "      background-color: #3B4455;\n",
              "      fill: #D2E3FC;\n",
              "    }\n",
              "\n",
              "    [theme=dark] .colab-df-convert:hover {\n",
              "      background-color: #434B5C;\n",
              "      box-shadow: 0px 1px 3px 1px rgba(0, 0, 0, 0.15);\n",
              "      filter: drop-shadow(0px 1px 2px rgba(0, 0, 0, 0.3));\n",
              "      fill: #FFFFFF;\n",
              "    }\n",
              "  </style>\n",
              "\n",
              "      <script>\n",
              "        const buttonEl =\n",
              "          document.querySelector('#df-29dac729-7f98-489b-a4e9-62ee84ecba24 button.colab-df-convert');\n",
              "        buttonEl.style.display =\n",
              "          google.colab.kernel.accessAllowed ? 'block' : 'none';\n",
              "\n",
              "        async function convertToInteractive(key) {\n",
              "          const element = document.querySelector('#df-29dac729-7f98-489b-a4e9-62ee84ecba24');\n",
              "          const dataTable =\n",
              "            await google.colab.kernel.invokeFunction('convertToInteractive',\n",
              "                                                     [key], {});\n",
              "          if (!dataTable) return;\n",
              "\n",
              "          const docLinkHtml = 'Like what you see? Visit the ' +\n",
              "            '<a target=\"_blank\" href=https://colab.research.google.com/notebooks/data_table.ipynb>data table notebook</a>'\n",
              "            + ' to learn more about interactive tables.';\n",
              "          element.innerHTML = '';\n",
              "          dataTable['output_type'] = 'display_data';\n",
              "          await google.colab.output.renderOutput(dataTable, element);\n",
              "          const docLink = document.createElement('div');\n",
              "          docLink.innerHTML = docLinkHtml;\n",
              "          element.appendChild(docLink);\n",
              "        }\n",
              "      </script>\n",
              "    </div>\n",
              "  </div>\n",
              "  "
            ]
          },
          "metadata": {},
          "execution_count": 74
        }
      ],
      "source": [
        "pd.set_option('display.max_rows', None)\n",
        "#correct_answers = df_generated[df_generated['score'] != 0].reset_index(drop=True).sort_values('score',ascending=False)\n",
        "correct_answers = df_generated[df_generated['score'] != 0].reset_index(drop=True)\n",
        "correct_answers.head(50)"
      ]
    },
    {
      "cell_type": "markdown",
      "metadata": {
        "id": "JmviMChy1mPq"
      },
      "source": [
        "## Conclusions"
      ]
    },
    {
      "cell_type": "code",
      "execution_count": 75,
      "metadata": {
        "execution": {
          "iopub.execute_input": "2023-01-19T18:48:15.567282Z",
          "iopub.status.busy": "2023-01-19T18:48:15.566462Z",
          "iopub.status.idle": "2023-01-19T18:48:15.683824Z",
          "shell.execute_reply": "2023-01-19T18:48:15.682815Z",
          "shell.execute_reply.started": "2023-01-19T18:48:15.567248Z"
        },
        "id": "jDn-h3WL1mPq",
        "trusted": true
      },
      "outputs": [],
      "source": [
        "# Rename the column to perform the merge\n",
        "df_generated.columns = [\"generated\", \"a\", \"score\"]\n",
        "df_gen_test = pd.merge(df_generated, test_df, on=\"a\", how=\"inner\")[[\"source\",\"score\"]]"
      ]
    },
    {
      "cell_type": "code",
      "execution_count": 76,
      "metadata": {
        "execution": {
          "iopub.execute_input": "2023-01-19T18:48:18.111750Z",
          "iopub.status.busy": "2023-01-19T18:48:18.111377Z",
          "iopub.status.idle": "2023-01-19T18:48:18.145203Z",
          "shell.execute_reply": "2023-01-19T18:48:18.144042Z",
          "shell.execute_reply.started": "2023-01-19T18:48:18.111720Z"
        },
        "trusted": true,
        "id": "PUi9YonKJjzD"
      },
      "outputs": [],
      "source": [
        "# Create a new DF containing the source and the scores\n",
        "df_source_score = pd.DataFrame(pd.unique(df_gen_test[\"source\"]), columns=[\"source\"])\n",
        "# Find average score for every source\n",
        "for source in df_source_score[\"source\"]:\n",
        "    source_scores = df_gen_test[df_gen_test[\"source\"] == source][\"score\"].values\n",
        "    df_source_score.loc[df_source_score.source == source, \"score\"] = np.sum(source_scores) / len(source_scores)"
      ]
    },
    {
      "cell_type": "code",
      "execution_count": 77,
      "metadata": {
        "execution": {
          "iopub.execute_input": "2023-01-19T18:48:22.091140Z",
          "iopub.status.busy": "2023-01-19T18:48:22.090449Z",
          "iopub.status.idle": "2023-01-19T18:48:22.101644Z",
          "shell.execute_reply": "2023-01-19T18:48:22.100696Z",
          "shell.execute_reply.started": "2023-01-19T18:48:22.091102Z"
        },
        "trusted": true,
        "id": "zDPkTkd1JjzE",
        "outputId": "95397de3-58cd-46fc-f056-c4c4922ffda2",
        "colab": {
          "base_uri": "https://localhost:8080/",
          "height": 206
        }
      },
      "outputs": [
        {
          "output_type": "execute_result",
          "data": {
            "text/plain": [
              "      source     score\n",
              "4  gutenberg  0.481058\n",
              "3       race  0.541344\n",
              "0     mctest  0.567570\n",
              "1        cnn  0.606963\n",
              "2  wikipedia  0.620851"
            ],
            "text/html": [
              "\n",
              "  <div id=\"df-c00bae54-055c-48a0-b770-de97f119af35\">\n",
              "    <div class=\"colab-df-container\">\n",
              "      <div>\n",
              "<style scoped>\n",
              "    .dataframe tbody tr th:only-of-type {\n",
              "        vertical-align: middle;\n",
              "    }\n",
              "\n",
              "    .dataframe tbody tr th {\n",
              "        vertical-align: top;\n",
              "    }\n",
              "\n",
              "    .dataframe thead th {\n",
              "        text-align: right;\n",
              "    }\n",
              "</style>\n",
              "<table border=\"1\" class=\"dataframe\">\n",
              "  <thead>\n",
              "    <tr style=\"text-align: right;\">\n",
              "      <th></th>\n",
              "      <th>source</th>\n",
              "      <th>score</th>\n",
              "    </tr>\n",
              "  </thead>\n",
              "  <tbody>\n",
              "    <tr>\n",
              "      <th>4</th>\n",
              "      <td>gutenberg</td>\n",
              "      <td>0.481058</td>\n",
              "    </tr>\n",
              "    <tr>\n",
              "      <th>3</th>\n",
              "      <td>race</td>\n",
              "      <td>0.541344</td>\n",
              "    </tr>\n",
              "    <tr>\n",
              "      <th>0</th>\n",
              "      <td>mctest</td>\n",
              "      <td>0.567570</td>\n",
              "    </tr>\n",
              "    <tr>\n",
              "      <th>1</th>\n",
              "      <td>cnn</td>\n",
              "      <td>0.606963</td>\n",
              "    </tr>\n",
              "    <tr>\n",
              "      <th>2</th>\n",
              "      <td>wikipedia</td>\n",
              "      <td>0.620851</td>\n",
              "    </tr>\n",
              "  </tbody>\n",
              "</table>\n",
              "</div>\n",
              "      <button class=\"colab-df-convert\" onclick=\"convertToInteractive('df-c00bae54-055c-48a0-b770-de97f119af35')\"\n",
              "              title=\"Convert this dataframe to an interactive table.\"\n",
              "              style=\"display:none;\">\n",
              "        \n",
              "  <svg xmlns=\"http://www.w3.org/2000/svg\" height=\"24px\"viewBox=\"0 0 24 24\"\n",
              "       width=\"24px\">\n",
              "    <path d=\"M0 0h24v24H0V0z\" fill=\"none\"/>\n",
              "    <path d=\"M18.56 5.44l.94 2.06.94-2.06 2.06-.94-2.06-.94-.94-2.06-.94 2.06-2.06.94zm-11 1L8.5 8.5l.94-2.06 2.06-.94-2.06-.94L8.5 2.5l-.94 2.06-2.06.94zm10 10l.94 2.06.94-2.06 2.06-.94-2.06-.94-.94-2.06-.94 2.06-2.06.94z\"/><path d=\"M17.41 7.96l-1.37-1.37c-.4-.4-.92-.59-1.43-.59-.52 0-1.04.2-1.43.59L10.3 9.45l-7.72 7.72c-.78.78-.78 2.05 0 2.83L4 21.41c.39.39.9.59 1.41.59.51 0 1.02-.2 1.41-.59l7.78-7.78 2.81-2.81c.8-.78.8-2.07 0-2.86zM5.41 20L4 18.59l7.72-7.72 1.47 1.35L5.41 20z\"/>\n",
              "  </svg>\n",
              "      </button>\n",
              "      \n",
              "  <style>\n",
              "    .colab-df-container {\n",
              "      display:flex;\n",
              "      flex-wrap:wrap;\n",
              "      gap: 12px;\n",
              "    }\n",
              "\n",
              "    .colab-df-convert {\n",
              "      background-color: #E8F0FE;\n",
              "      border: none;\n",
              "      border-radius: 50%;\n",
              "      cursor: pointer;\n",
              "      display: none;\n",
              "      fill: #1967D2;\n",
              "      height: 32px;\n",
              "      padding: 0 0 0 0;\n",
              "      width: 32px;\n",
              "    }\n",
              "\n",
              "    .colab-df-convert:hover {\n",
              "      background-color: #E2EBFA;\n",
              "      box-shadow: 0px 1px 2px rgba(60, 64, 67, 0.3), 0px 1px 3px 1px rgba(60, 64, 67, 0.15);\n",
              "      fill: #174EA6;\n",
              "    }\n",
              "\n",
              "    [theme=dark] .colab-df-convert {\n",
              "      background-color: #3B4455;\n",
              "      fill: #D2E3FC;\n",
              "    }\n",
              "\n",
              "    [theme=dark] .colab-df-convert:hover {\n",
              "      background-color: #434B5C;\n",
              "      box-shadow: 0px 1px 3px 1px rgba(0, 0, 0, 0.15);\n",
              "      filter: drop-shadow(0px 1px 2px rgba(0, 0, 0, 0.3));\n",
              "      fill: #FFFFFF;\n",
              "    }\n",
              "  </style>\n",
              "\n",
              "      <script>\n",
              "        const buttonEl =\n",
              "          document.querySelector('#df-c00bae54-055c-48a0-b770-de97f119af35 button.colab-df-convert');\n",
              "        buttonEl.style.display =\n",
              "          google.colab.kernel.accessAllowed ? 'block' : 'none';\n",
              "\n",
              "        async function convertToInteractive(key) {\n",
              "          const element = document.querySelector('#df-c00bae54-055c-48a0-b770-de97f119af35');\n",
              "          const dataTable =\n",
              "            await google.colab.kernel.invokeFunction('convertToInteractive',\n",
              "                                                     [key], {});\n",
              "          if (!dataTable) return;\n",
              "\n",
              "          const docLinkHtml = 'Like what you see? Visit the ' +\n",
              "            '<a target=\"_blank\" href=https://colab.research.google.com/notebooks/data_table.ipynb>data table notebook</a>'\n",
              "            + ' to learn more about interactive tables.';\n",
              "          element.innerHTML = '';\n",
              "          dataTable['output_type'] = 'display_data';\n",
              "          await google.colab.output.renderOutput(dataTable, element);\n",
              "          const docLink = document.createElement('div');\n",
              "          docLink.innerHTML = docLinkHtml;\n",
              "          element.appendChild(docLink);\n",
              "        }\n",
              "      </script>\n",
              "    </div>\n",
              "  </div>\n",
              "  "
            ]
          },
          "metadata": {},
          "execution_count": 77
        }
      ],
      "source": [
        "df_source_score.sort_values(\"score\").head()"
      ]
    },
    {
      "cell_type": "code",
      "execution_count": 78,
      "metadata": {
        "execution": {
          "iopub.execute_input": "2023-01-19T18:14:00.870075Z",
          "iopub.status.busy": "2023-01-19T18:14:00.869250Z",
          "iopub.status.idle": "2023-01-19T18:14:01.095440Z",
          "shell.execute_reply": "2023-01-19T18:14:01.094371Z",
          "shell.execute_reply.started": "2023-01-19T18:14:00.870032Z"
        },
        "id": "haD4VPaceQOH",
        "trusted": true
      },
      "outputs": [],
      "source": [
        "#del tokenizer, model, df_generated, correct_answers, train_df, val_df, test_df\n",
        "free_some_memory()"
      ]
    }
  ],
  "metadata": {
    "accelerator": "GPU",
    "colab": {
      "provenance": [],
      "toc_visible": true
    },
    "gpuClass": "standard",
    "kernelspec": {
      "display_name": "Python 3",
      "language": "python",
      "name": "python3"
    },
    "language_info": {
      "codemirror_mode": {
        "name": "ipython",
        "version": 3
      },
      "file_extension": ".py",
      "mimetype": "text/x-python",
      "name": "python",
      "nbconvert_exporter": "python",
      "pygments_lexer": "ipython3",
      "version": "3.7.12"
    },
    "vscode": {
      "interpreter": {
        "hash": "e405b0a43b05ed5b511dac57849ab560497f023fc2f8f0bfd2781bf41b5f416c"
      }
    },
    "widgets": {
      "application/vnd.jupyter.widget-state+json": {
        "e4ad0dbdc5da4da5bdce337387ce76db": {
          "model_module": "@jupyter-widgets/controls",
          "model_name": "HBoxModel",
          "model_module_version": "1.5.0",
          "state": {
            "_dom_classes": [],
            "_model_module": "@jupyter-widgets/controls",
            "_model_module_version": "1.5.0",
            "_model_name": "HBoxModel",
            "_view_count": null,
            "_view_module": "@jupyter-widgets/controls",
            "_view_module_version": "1.5.0",
            "_view_name": "HBoxView",
            "box_style": "",
            "children": [
              "IPY_MODEL_5dd4956e597c4a56b7c35e10f18b3df2",
              "IPY_MODEL_c367a9c106e84630a0c013a7716ff854",
              "IPY_MODEL_287f6e56a1bd486887204dfb3ddc5cf2"
            ],
            "layout": "IPY_MODEL_13591ef632ea4417abee21efe00a5735"
          }
        },
        "5dd4956e597c4a56b7c35e10f18b3df2": {
          "model_module": "@jupyter-widgets/controls",
          "model_name": "HTMLModel",
          "model_module_version": "1.5.0",
          "state": {
            "_dom_classes": [],
            "_model_module": "@jupyter-widgets/controls",
            "_model_module_version": "1.5.0",
            "_model_name": "HTMLModel",
            "_view_count": null,
            "_view_module": "@jupyter-widgets/controls",
            "_view_module_version": "1.5.0",
            "_view_name": "HTMLView",
            "description": "",
            "description_tooltip": null,
            "layout": "IPY_MODEL_c608cdb413a74604badf7e542c76508c",
            "placeholder": "​",
            "style": "IPY_MODEL_2177a206300c4b5bb372b68536bdc5a2",
            "value": "Downloading: 100%"
          }
        },
        "c367a9c106e84630a0c013a7716ff854": {
          "model_module": "@jupyter-widgets/controls",
          "model_name": "FloatProgressModel",
          "model_module_version": "1.5.0",
          "state": {
            "_dom_classes": [],
            "_model_module": "@jupyter-widgets/controls",
            "_model_module_version": "1.5.0",
            "_model_name": "FloatProgressModel",
            "_view_count": null,
            "_view_module": "@jupyter-widgets/controls",
            "_view_module_version": "1.5.0",
            "_view_name": "ProgressView",
            "bar_style": "success",
            "description": "",
            "description_tooltip": null,
            "layout": "IPY_MODEL_f18fccabda9248d899f15b4c9d0ea695",
            "max": 285,
            "min": 0,
            "orientation": "horizontal",
            "style": "IPY_MODEL_c0432f5e81b0472a81bb61846da10f32",
            "value": 285
          }
        },
        "287f6e56a1bd486887204dfb3ddc5cf2": {
          "model_module": "@jupyter-widgets/controls",
          "model_name": "HTMLModel",
          "model_module_version": "1.5.0",
          "state": {
            "_dom_classes": [],
            "_model_module": "@jupyter-widgets/controls",
            "_model_module_version": "1.5.0",
            "_model_name": "HTMLModel",
            "_view_count": null,
            "_view_module": "@jupyter-widgets/controls",
            "_view_module_version": "1.5.0",
            "_view_name": "HTMLView",
            "description": "",
            "description_tooltip": null,
            "layout": "IPY_MODEL_da4163db399f41a5997e119c7c3015e1",
            "placeholder": "​",
            "style": "IPY_MODEL_bcb346ff51a34d3da41fd7bbe39b8ee2",
            "value": " 285/285 [00:00&lt;00:00, 17.5kB/s]"
          }
        },
        "13591ef632ea4417abee21efe00a5735": {
          "model_module": "@jupyter-widgets/base",
          "model_name": "LayoutModel",
          "model_module_version": "1.2.0",
          "state": {
            "_model_module": "@jupyter-widgets/base",
            "_model_module_version": "1.2.0",
            "_model_name": "LayoutModel",
            "_view_count": null,
            "_view_module": "@jupyter-widgets/base",
            "_view_module_version": "1.2.0",
            "_view_name": "LayoutView",
            "align_content": null,
            "align_items": null,
            "align_self": null,
            "border": null,
            "bottom": null,
            "display": null,
            "flex": null,
            "flex_flow": null,
            "grid_area": null,
            "grid_auto_columns": null,
            "grid_auto_flow": null,
            "grid_auto_rows": null,
            "grid_column": null,
            "grid_gap": null,
            "grid_row": null,
            "grid_template_areas": null,
            "grid_template_columns": null,
            "grid_template_rows": null,
            "height": null,
            "justify_content": null,
            "justify_items": null,
            "left": null,
            "margin": null,
            "max_height": null,
            "max_width": null,
            "min_height": null,
            "min_width": null,
            "object_fit": null,
            "object_position": null,
            "order": null,
            "overflow": null,
            "overflow_x": null,
            "overflow_y": null,
            "padding": null,
            "right": null,
            "top": null,
            "visibility": null,
            "width": null
          }
        },
        "c608cdb413a74604badf7e542c76508c": {
          "model_module": "@jupyter-widgets/base",
          "model_name": "LayoutModel",
          "model_module_version": "1.2.0",
          "state": {
            "_model_module": "@jupyter-widgets/base",
            "_model_module_version": "1.2.0",
            "_model_name": "LayoutModel",
            "_view_count": null,
            "_view_module": "@jupyter-widgets/base",
            "_view_module_version": "1.2.0",
            "_view_name": "LayoutView",
            "align_content": null,
            "align_items": null,
            "align_self": null,
            "border": null,
            "bottom": null,
            "display": null,
            "flex": null,
            "flex_flow": null,
            "grid_area": null,
            "grid_auto_columns": null,
            "grid_auto_flow": null,
            "grid_auto_rows": null,
            "grid_column": null,
            "grid_gap": null,
            "grid_row": null,
            "grid_template_areas": null,
            "grid_template_columns": null,
            "grid_template_rows": null,
            "height": null,
            "justify_content": null,
            "justify_items": null,
            "left": null,
            "margin": null,
            "max_height": null,
            "max_width": null,
            "min_height": null,
            "min_width": null,
            "object_fit": null,
            "object_position": null,
            "order": null,
            "overflow": null,
            "overflow_x": null,
            "overflow_y": null,
            "padding": null,
            "right": null,
            "top": null,
            "visibility": null,
            "width": null
          }
        },
        "2177a206300c4b5bb372b68536bdc5a2": {
          "model_module": "@jupyter-widgets/controls",
          "model_name": "DescriptionStyleModel",
          "model_module_version": "1.5.0",
          "state": {
            "_model_module": "@jupyter-widgets/controls",
            "_model_module_version": "1.5.0",
            "_model_name": "DescriptionStyleModel",
            "_view_count": null,
            "_view_module": "@jupyter-widgets/base",
            "_view_module_version": "1.2.0",
            "_view_name": "StyleView",
            "description_width": ""
          }
        },
        "f18fccabda9248d899f15b4c9d0ea695": {
          "model_module": "@jupyter-widgets/base",
          "model_name": "LayoutModel",
          "model_module_version": "1.2.0",
          "state": {
            "_model_module": "@jupyter-widgets/base",
            "_model_module_version": "1.2.0",
            "_model_name": "LayoutModel",
            "_view_count": null,
            "_view_module": "@jupyter-widgets/base",
            "_view_module_version": "1.2.0",
            "_view_name": "LayoutView",
            "align_content": null,
            "align_items": null,
            "align_self": null,
            "border": null,
            "bottom": null,
            "display": null,
            "flex": null,
            "flex_flow": null,
            "grid_area": null,
            "grid_auto_columns": null,
            "grid_auto_flow": null,
            "grid_auto_rows": null,
            "grid_column": null,
            "grid_gap": null,
            "grid_row": null,
            "grid_template_areas": null,
            "grid_template_columns": null,
            "grid_template_rows": null,
            "height": null,
            "justify_content": null,
            "justify_items": null,
            "left": null,
            "margin": null,
            "max_height": null,
            "max_width": null,
            "min_height": null,
            "min_width": null,
            "object_fit": null,
            "object_position": null,
            "order": null,
            "overflow": null,
            "overflow_x": null,
            "overflow_y": null,
            "padding": null,
            "right": null,
            "top": null,
            "visibility": null,
            "width": null
          }
        },
        "c0432f5e81b0472a81bb61846da10f32": {
          "model_module": "@jupyter-widgets/controls",
          "model_name": "ProgressStyleModel",
          "model_module_version": "1.5.0",
          "state": {
            "_model_module": "@jupyter-widgets/controls",
            "_model_module_version": "1.5.0",
            "_model_name": "ProgressStyleModel",
            "_view_count": null,
            "_view_module": "@jupyter-widgets/base",
            "_view_module_version": "1.2.0",
            "_view_name": "StyleView",
            "bar_color": null,
            "description_width": ""
          }
        },
        "da4163db399f41a5997e119c7c3015e1": {
          "model_module": "@jupyter-widgets/base",
          "model_name": "LayoutModel",
          "model_module_version": "1.2.0",
          "state": {
            "_model_module": "@jupyter-widgets/base",
            "_model_module_version": "1.2.0",
            "_model_name": "LayoutModel",
            "_view_count": null,
            "_view_module": "@jupyter-widgets/base",
            "_view_module_version": "1.2.0",
            "_view_name": "LayoutView",
            "align_content": null,
            "align_items": null,
            "align_self": null,
            "border": null,
            "bottom": null,
            "display": null,
            "flex": null,
            "flex_flow": null,
            "grid_area": null,
            "grid_auto_columns": null,
            "grid_auto_flow": null,
            "grid_auto_rows": null,
            "grid_column": null,
            "grid_gap": null,
            "grid_row": null,
            "grid_template_areas": null,
            "grid_template_columns": null,
            "grid_template_rows": null,
            "height": null,
            "justify_content": null,
            "justify_items": null,
            "left": null,
            "margin": null,
            "max_height": null,
            "max_width": null,
            "min_height": null,
            "min_width": null,
            "object_fit": null,
            "object_position": null,
            "order": null,
            "overflow": null,
            "overflow_x": null,
            "overflow_y": null,
            "padding": null,
            "right": null,
            "top": null,
            "visibility": null,
            "width": null
          }
        },
        "bcb346ff51a34d3da41fd7bbe39b8ee2": {
          "model_module": "@jupyter-widgets/controls",
          "model_name": "DescriptionStyleModel",
          "model_module_version": "1.5.0",
          "state": {
            "_model_module": "@jupyter-widgets/controls",
            "_model_module_version": "1.5.0",
            "_model_name": "DescriptionStyleModel",
            "_view_count": null,
            "_view_module": "@jupyter-widgets/base",
            "_view_module_version": "1.2.0",
            "_view_name": "StyleView",
            "description_width": ""
          }
        },
        "1a7c1f8ff4314ef79fd4756b1ac3f1e9": {
          "model_module": "@jupyter-widgets/controls",
          "model_name": "HBoxModel",
          "model_module_version": "1.5.0",
          "state": {
            "_dom_classes": [],
            "_model_module": "@jupyter-widgets/controls",
            "_model_module_version": "1.5.0",
            "_model_name": "HBoxModel",
            "_view_count": null,
            "_view_module": "@jupyter-widgets/controls",
            "_view_module_version": "1.5.0",
            "_view_name": "HBoxView",
            "box_style": "",
            "children": [
              "IPY_MODEL_89a564eeabd148849ab602cf3fab0820",
              "IPY_MODEL_ed4fcd9c3d5049d29ea377612dca71cc",
              "IPY_MODEL_e708fa71aa214f0c9c0b2f2ff640a093"
            ],
            "layout": "IPY_MODEL_d04f7b05f6a1473bae12e3610c18ea87"
          }
        },
        "89a564eeabd148849ab602cf3fab0820": {
          "model_module": "@jupyter-widgets/controls",
          "model_name": "HTMLModel",
          "model_module_version": "1.5.0",
          "state": {
            "_dom_classes": [],
            "_model_module": "@jupyter-widgets/controls",
            "_model_module_version": "1.5.0",
            "_model_name": "HTMLModel",
            "_view_count": null,
            "_view_module": "@jupyter-widgets/controls",
            "_view_module_version": "1.5.0",
            "_view_name": "HTMLView",
            "description": "",
            "description_tooltip": null,
            "layout": "IPY_MODEL_f175278ee7954883b99fd0f3b42e7ada",
            "placeholder": "​",
            "style": "IPY_MODEL_a390fe238b274105a3086ede55b0afe3",
            "value": "Downloading: 100%"
          }
        },
        "ed4fcd9c3d5049d29ea377612dca71cc": {
          "model_module": "@jupyter-widgets/controls",
          "model_name": "FloatProgressModel",
          "model_module_version": "1.5.0",
          "state": {
            "_dom_classes": [],
            "_model_module": "@jupyter-widgets/controls",
            "_model_module_version": "1.5.0",
            "_model_name": "FloatProgressModel",
            "_view_count": null,
            "_view_module": "@jupyter-widgets/controls",
            "_view_module_version": "1.5.0",
            "_view_name": "ProgressView",
            "bar_style": "success",
            "description": "",
            "description_tooltip": null,
            "layout": "IPY_MODEL_66f0327fb6984beaa3ca029a8c4a294a",
            "max": 17756393,
            "min": 0,
            "orientation": "horizontal",
            "style": "IPY_MODEL_190f1946ae9848ba935ef9ad842ba9e0",
            "value": 17756393
          }
        },
        "e708fa71aa214f0c9c0b2f2ff640a093": {
          "model_module": "@jupyter-widgets/controls",
          "model_name": "HTMLModel",
          "model_module_version": "1.5.0",
          "state": {
            "_dom_classes": [],
            "_model_module": "@jupyter-widgets/controls",
            "_model_module_version": "1.5.0",
            "_model_name": "HTMLModel",
            "_view_count": null,
            "_view_module": "@jupyter-widgets/controls",
            "_view_module_version": "1.5.0",
            "_view_name": "HTMLView",
            "description": "",
            "description_tooltip": null,
            "layout": "IPY_MODEL_3f01f40ac5da4dc7b9c769f721689f9b",
            "placeholder": "​",
            "style": "IPY_MODEL_6b4df79ae0ee4b64a8682a6f8e3585c3",
            "value": " 17.8M/17.8M [00:00&lt;00:00, 80.6MB/s]"
          }
        },
        "d04f7b05f6a1473bae12e3610c18ea87": {
          "model_module": "@jupyter-widgets/base",
          "model_name": "LayoutModel",
          "model_module_version": "1.2.0",
          "state": {
            "_model_module": "@jupyter-widgets/base",
            "_model_module_version": "1.2.0",
            "_model_name": "LayoutModel",
            "_view_count": null,
            "_view_module": "@jupyter-widgets/base",
            "_view_module_version": "1.2.0",
            "_view_name": "LayoutView",
            "align_content": null,
            "align_items": null,
            "align_self": null,
            "border": null,
            "bottom": null,
            "display": null,
            "flex": null,
            "flex_flow": null,
            "grid_area": null,
            "grid_auto_columns": null,
            "grid_auto_flow": null,
            "grid_auto_rows": null,
            "grid_column": null,
            "grid_gap": null,
            "grid_row": null,
            "grid_template_areas": null,
            "grid_template_columns": null,
            "grid_template_rows": null,
            "height": null,
            "justify_content": null,
            "justify_items": null,
            "left": null,
            "margin": null,
            "max_height": null,
            "max_width": null,
            "min_height": null,
            "min_width": null,
            "object_fit": null,
            "object_position": null,
            "order": null,
            "overflow": null,
            "overflow_x": null,
            "overflow_y": null,
            "padding": null,
            "right": null,
            "top": null,
            "visibility": null,
            "width": null
          }
        },
        "f175278ee7954883b99fd0f3b42e7ada": {
          "model_module": "@jupyter-widgets/base",
          "model_name": "LayoutModel",
          "model_module_version": "1.2.0",
          "state": {
            "_model_module": "@jupyter-widgets/base",
            "_model_module_version": "1.2.0",
            "_model_name": "LayoutModel",
            "_view_count": null,
            "_view_module": "@jupyter-widgets/base",
            "_view_module_version": "1.2.0",
            "_view_name": "LayoutView",
            "align_content": null,
            "align_items": null,
            "align_self": null,
            "border": null,
            "bottom": null,
            "display": null,
            "flex": null,
            "flex_flow": null,
            "grid_area": null,
            "grid_auto_columns": null,
            "grid_auto_flow": null,
            "grid_auto_rows": null,
            "grid_column": null,
            "grid_gap": null,
            "grid_row": null,
            "grid_template_areas": null,
            "grid_template_columns": null,
            "grid_template_rows": null,
            "height": null,
            "justify_content": null,
            "justify_items": null,
            "left": null,
            "margin": null,
            "max_height": null,
            "max_width": null,
            "min_height": null,
            "min_width": null,
            "object_fit": null,
            "object_position": null,
            "order": null,
            "overflow": null,
            "overflow_x": null,
            "overflow_y": null,
            "padding": null,
            "right": null,
            "top": null,
            "visibility": null,
            "width": null
          }
        },
        "a390fe238b274105a3086ede55b0afe3": {
          "model_module": "@jupyter-widgets/controls",
          "model_name": "DescriptionStyleModel",
          "model_module_version": "1.5.0",
          "state": {
            "_model_module": "@jupyter-widgets/controls",
            "_model_module_version": "1.5.0",
            "_model_name": "DescriptionStyleModel",
            "_view_count": null,
            "_view_module": "@jupyter-widgets/base",
            "_view_module_version": "1.2.0",
            "_view_name": "StyleView",
            "description_width": ""
          }
        },
        "66f0327fb6984beaa3ca029a8c4a294a": {
          "model_module": "@jupyter-widgets/base",
          "model_name": "LayoutModel",
          "model_module_version": "1.2.0",
          "state": {
            "_model_module": "@jupyter-widgets/base",
            "_model_module_version": "1.2.0",
            "_model_name": "LayoutModel",
            "_view_count": null,
            "_view_module": "@jupyter-widgets/base",
            "_view_module_version": "1.2.0",
            "_view_name": "LayoutView",
            "align_content": null,
            "align_items": null,
            "align_self": null,
            "border": null,
            "bottom": null,
            "display": null,
            "flex": null,
            "flex_flow": null,
            "grid_area": null,
            "grid_auto_columns": null,
            "grid_auto_flow": null,
            "grid_auto_rows": null,
            "grid_column": null,
            "grid_gap": null,
            "grid_row": null,
            "grid_template_areas": null,
            "grid_template_columns": null,
            "grid_template_rows": null,
            "height": null,
            "justify_content": null,
            "justify_items": null,
            "left": null,
            "margin": null,
            "max_height": null,
            "max_width": null,
            "min_height": null,
            "min_width": null,
            "object_fit": null,
            "object_position": null,
            "order": null,
            "overflow": null,
            "overflow_x": null,
            "overflow_y": null,
            "padding": null,
            "right": null,
            "top": null,
            "visibility": null,
            "width": null
          }
        },
        "190f1946ae9848ba935ef9ad842ba9e0": {
          "model_module": "@jupyter-widgets/controls",
          "model_name": "ProgressStyleModel",
          "model_module_version": "1.5.0",
          "state": {
            "_model_module": "@jupyter-widgets/controls",
            "_model_module_version": "1.5.0",
            "_model_name": "ProgressStyleModel",
            "_view_count": null,
            "_view_module": "@jupyter-widgets/base",
            "_view_module_version": "1.2.0",
            "_view_name": "StyleView",
            "bar_color": null,
            "description_width": ""
          }
        },
        "3f01f40ac5da4dc7b9c769f721689f9b": {
          "model_module": "@jupyter-widgets/base",
          "model_name": "LayoutModel",
          "model_module_version": "1.2.0",
          "state": {
            "_model_module": "@jupyter-widgets/base",
            "_model_module_version": "1.2.0",
            "_model_name": "LayoutModel",
            "_view_count": null,
            "_view_module": "@jupyter-widgets/base",
            "_view_module_version": "1.2.0",
            "_view_name": "LayoutView",
            "align_content": null,
            "align_items": null,
            "align_self": null,
            "border": null,
            "bottom": null,
            "display": null,
            "flex": null,
            "flex_flow": null,
            "grid_area": null,
            "grid_auto_columns": null,
            "grid_auto_flow": null,
            "grid_auto_rows": null,
            "grid_column": null,
            "grid_gap": null,
            "grid_row": null,
            "grid_template_areas": null,
            "grid_template_columns": null,
            "grid_template_rows": null,
            "height": null,
            "justify_content": null,
            "justify_items": null,
            "left": null,
            "margin": null,
            "max_height": null,
            "max_width": null,
            "min_height": null,
            "min_width": null,
            "object_fit": null,
            "object_position": null,
            "order": null,
            "overflow": null,
            "overflow_x": null,
            "overflow_y": null,
            "padding": null,
            "right": null,
            "top": null,
            "visibility": null,
            "width": null
          }
        },
        "6b4df79ae0ee4b64a8682a6f8e3585c3": {
          "model_module": "@jupyter-widgets/controls",
          "model_name": "DescriptionStyleModel",
          "model_module_version": "1.5.0",
          "state": {
            "_model_module": "@jupyter-widgets/controls",
            "_model_module_version": "1.5.0",
            "_model_name": "DescriptionStyleModel",
            "_view_count": null,
            "_view_module": "@jupyter-widgets/base",
            "_view_module_version": "1.2.0",
            "_view_name": "StyleView",
            "description_width": ""
          }
        },
        "2809423da66b46f1a3786097197b08eb": {
          "model_module": "@jupyter-widgets/controls",
          "model_name": "HBoxModel",
          "model_module_version": "1.5.0",
          "state": {
            "_dom_classes": [],
            "_model_module": "@jupyter-widgets/controls",
            "_model_module_version": "1.5.0",
            "_model_name": "HBoxModel",
            "_view_count": null,
            "_view_module": "@jupyter-widgets/controls",
            "_view_module_version": "1.5.0",
            "_view_name": "HBoxView",
            "box_style": "",
            "children": [
              "IPY_MODEL_bfca35066f224fcf89b46f6dfde5243e",
              "IPY_MODEL_af2c8fa16000424d811c33bd0f3ac329",
              "IPY_MODEL_1dd05d49787640bfa6d2a049fbabc2cd"
            ],
            "layout": "IPY_MODEL_c8b03fbdbc2844bfa60e1dad73f3db3b"
          }
        },
        "bfca35066f224fcf89b46f6dfde5243e": {
          "model_module": "@jupyter-widgets/controls",
          "model_name": "HTMLModel",
          "model_module_version": "1.5.0",
          "state": {
            "_dom_classes": [],
            "_model_module": "@jupyter-widgets/controls",
            "_model_module_version": "1.5.0",
            "_model_name": "HTMLModel",
            "_view_count": null,
            "_view_module": "@jupyter-widgets/controls",
            "_view_module_version": "1.5.0",
            "_view_name": "HTMLView",
            "description": "",
            "description_tooltip": null,
            "layout": "IPY_MODEL_a0384c24d9c04f128021b128b52f5229",
            "placeholder": "​",
            "style": "IPY_MODEL_5fb4f63359c44d089bd5b5fa6e0b2ef2",
            "value": "Downloading: 100%"
          }
        },
        "af2c8fa16000424d811c33bd0f3ac329": {
          "model_module": "@jupyter-widgets/controls",
          "model_name": "FloatProgressModel",
          "model_module_version": "1.5.0",
          "state": {
            "_dom_classes": [],
            "_model_module": "@jupyter-widgets/controls",
            "_model_module_version": "1.5.0",
            "_model_name": "FloatProgressModel",
            "_view_count": null,
            "_view_module": "@jupyter-widgets/controls",
            "_view_module_version": "1.5.0",
            "_view_name": "ProgressView",
            "bar_style": "success",
            "description": "",
            "description_tooltip": null,
            "layout": "IPY_MODEL_25dcee7a832141ceab64344ea3b080f2",
            "max": 231508,
            "min": 0,
            "orientation": "horizontal",
            "style": "IPY_MODEL_34d10caab1ca49a88c103587b23a412c",
            "value": 231508
          }
        },
        "1dd05d49787640bfa6d2a049fbabc2cd": {
          "model_module": "@jupyter-widgets/controls",
          "model_name": "HTMLModel",
          "model_module_version": "1.5.0",
          "state": {
            "_dom_classes": [],
            "_model_module": "@jupyter-widgets/controls",
            "_model_module_version": "1.5.0",
            "_model_name": "HTMLModel",
            "_view_count": null,
            "_view_module": "@jupyter-widgets/controls",
            "_view_module_version": "1.5.0",
            "_view_name": "HTMLView",
            "description": "",
            "description_tooltip": null,
            "layout": "IPY_MODEL_c224abe7d8b94ab3838424696402ff18",
            "placeholder": "​",
            "style": "IPY_MODEL_57206a3f719e46f1a598b350277a140b",
            "value": " 232k/232k [00:00&lt;00:00, 246kB/s]"
          }
        },
        "c8b03fbdbc2844bfa60e1dad73f3db3b": {
          "model_module": "@jupyter-widgets/base",
          "model_name": "LayoutModel",
          "model_module_version": "1.2.0",
          "state": {
            "_model_module": "@jupyter-widgets/base",
            "_model_module_version": "1.2.0",
            "_model_name": "LayoutModel",
            "_view_count": null,
            "_view_module": "@jupyter-widgets/base",
            "_view_module_version": "1.2.0",
            "_view_name": "LayoutView",
            "align_content": null,
            "align_items": null,
            "align_self": null,
            "border": null,
            "bottom": null,
            "display": null,
            "flex": null,
            "flex_flow": null,
            "grid_area": null,
            "grid_auto_columns": null,
            "grid_auto_flow": null,
            "grid_auto_rows": null,
            "grid_column": null,
            "grid_gap": null,
            "grid_row": null,
            "grid_template_areas": null,
            "grid_template_columns": null,
            "grid_template_rows": null,
            "height": null,
            "justify_content": null,
            "justify_items": null,
            "left": null,
            "margin": null,
            "max_height": null,
            "max_width": null,
            "min_height": null,
            "min_width": null,
            "object_fit": null,
            "object_position": null,
            "order": null,
            "overflow": null,
            "overflow_x": null,
            "overflow_y": null,
            "padding": null,
            "right": null,
            "top": null,
            "visibility": null,
            "width": null
          }
        },
        "a0384c24d9c04f128021b128b52f5229": {
          "model_module": "@jupyter-widgets/base",
          "model_name": "LayoutModel",
          "model_module_version": "1.2.0",
          "state": {
            "_model_module": "@jupyter-widgets/base",
            "_model_module_version": "1.2.0",
            "_model_name": "LayoutModel",
            "_view_count": null,
            "_view_module": "@jupyter-widgets/base",
            "_view_module_version": "1.2.0",
            "_view_name": "LayoutView",
            "align_content": null,
            "align_items": null,
            "align_self": null,
            "border": null,
            "bottom": null,
            "display": null,
            "flex": null,
            "flex_flow": null,
            "grid_area": null,
            "grid_auto_columns": null,
            "grid_auto_flow": null,
            "grid_auto_rows": null,
            "grid_column": null,
            "grid_gap": null,
            "grid_row": null,
            "grid_template_areas": null,
            "grid_template_columns": null,
            "grid_template_rows": null,
            "height": null,
            "justify_content": null,
            "justify_items": null,
            "left": null,
            "margin": null,
            "max_height": null,
            "max_width": null,
            "min_height": null,
            "min_width": null,
            "object_fit": null,
            "object_position": null,
            "order": null,
            "overflow": null,
            "overflow_x": null,
            "overflow_y": null,
            "padding": null,
            "right": null,
            "top": null,
            "visibility": null,
            "width": null
          }
        },
        "5fb4f63359c44d089bd5b5fa6e0b2ef2": {
          "model_module": "@jupyter-widgets/controls",
          "model_name": "DescriptionStyleModel",
          "model_module_version": "1.5.0",
          "state": {
            "_model_module": "@jupyter-widgets/controls",
            "_model_module_version": "1.5.0",
            "_model_name": "DescriptionStyleModel",
            "_view_count": null,
            "_view_module": "@jupyter-widgets/base",
            "_view_module_version": "1.2.0",
            "_view_name": "StyleView",
            "description_width": ""
          }
        },
        "25dcee7a832141ceab64344ea3b080f2": {
          "model_module": "@jupyter-widgets/base",
          "model_name": "LayoutModel",
          "model_module_version": "1.2.0",
          "state": {
            "_model_module": "@jupyter-widgets/base",
            "_model_module_version": "1.2.0",
            "_model_name": "LayoutModel",
            "_view_count": null,
            "_view_module": "@jupyter-widgets/base",
            "_view_module_version": "1.2.0",
            "_view_name": "LayoutView",
            "align_content": null,
            "align_items": null,
            "align_self": null,
            "border": null,
            "bottom": null,
            "display": null,
            "flex": null,
            "flex_flow": null,
            "grid_area": null,
            "grid_auto_columns": null,
            "grid_auto_flow": null,
            "grid_auto_rows": null,
            "grid_column": null,
            "grid_gap": null,
            "grid_row": null,
            "grid_template_areas": null,
            "grid_template_columns": null,
            "grid_template_rows": null,
            "height": null,
            "justify_content": null,
            "justify_items": null,
            "left": null,
            "margin": null,
            "max_height": null,
            "max_width": null,
            "min_height": null,
            "min_width": null,
            "object_fit": null,
            "object_position": null,
            "order": null,
            "overflow": null,
            "overflow_x": null,
            "overflow_y": null,
            "padding": null,
            "right": null,
            "top": null,
            "visibility": null,
            "width": null
          }
        },
        "34d10caab1ca49a88c103587b23a412c": {
          "model_module": "@jupyter-widgets/controls",
          "model_name": "ProgressStyleModel",
          "model_module_version": "1.5.0",
          "state": {
            "_model_module": "@jupyter-widgets/controls",
            "_model_module_version": "1.5.0",
            "_model_name": "ProgressStyleModel",
            "_view_count": null,
            "_view_module": "@jupyter-widgets/base",
            "_view_module_version": "1.2.0",
            "_view_name": "StyleView",
            "bar_color": null,
            "description_width": ""
          }
        },
        "c224abe7d8b94ab3838424696402ff18": {
          "model_module": "@jupyter-widgets/base",
          "model_name": "LayoutModel",
          "model_module_version": "1.2.0",
          "state": {
            "_model_module": "@jupyter-widgets/base",
            "_model_module_version": "1.2.0",
            "_model_name": "LayoutModel",
            "_view_count": null,
            "_view_module": "@jupyter-widgets/base",
            "_view_module_version": "1.2.0",
            "_view_name": "LayoutView",
            "align_content": null,
            "align_items": null,
            "align_self": null,
            "border": null,
            "bottom": null,
            "display": null,
            "flex": null,
            "flex_flow": null,
            "grid_area": null,
            "grid_auto_columns": null,
            "grid_auto_flow": null,
            "grid_auto_rows": null,
            "grid_column": null,
            "grid_gap": null,
            "grid_row": null,
            "grid_template_areas": null,
            "grid_template_columns": null,
            "grid_template_rows": null,
            "height": null,
            "justify_content": null,
            "justify_items": null,
            "left": null,
            "margin": null,
            "max_height": null,
            "max_width": null,
            "min_height": null,
            "min_width": null,
            "object_fit": null,
            "object_position": null,
            "order": null,
            "overflow": null,
            "overflow_x": null,
            "overflow_y": null,
            "padding": null,
            "right": null,
            "top": null,
            "visibility": null,
            "width": null
          }
        },
        "57206a3f719e46f1a598b350277a140b": {
          "model_module": "@jupyter-widgets/controls",
          "model_name": "DescriptionStyleModel",
          "model_module_version": "1.5.0",
          "state": {
            "_model_module": "@jupyter-widgets/controls",
            "_model_module_version": "1.5.0",
            "_model_name": "DescriptionStyleModel",
            "_view_count": null,
            "_view_module": "@jupyter-widgets/base",
            "_view_module_version": "1.2.0",
            "_view_name": "StyleView",
            "description_width": ""
          }
        }
      }
    }
  },
  "nbformat": 4,
  "nbformat_minor": 0
}