{
  "metadata": {
    "kernelspec": {
      "language": "python",
      "display_name": "Python 3",
      "name": "python3"
    },
    "language_info": {
      "name": "python",
      "version": "3.7.12",
      "mimetype": "text/x-python",
      "codemirror_mode": {
        "name": "ipython",
        "version": 3
      },
      "pygments_lexer": "ipython3",
      "nbconvert_exporter": "python",
      "file_extension": ".py"
    },
    "colab": {
      "provenance": [],
      "toc_visible": true,
      "include_colab_link": true
    },
    "accelerator": "GPU",
    "gpuClass": "standard",
    "widgets": {
      "application/vnd.jupyter.widget-state+json": {
        "a34e9194cbe149739d8f40b7dbb19f4d": {
          "model_module": "@jupyter-widgets/controls",
          "model_name": "HBoxModel",
          "model_module_version": "1.5.0",
          "state": {
            "_dom_classes": [],
            "_model_module": "@jupyter-widgets/controls",
            "_model_module_version": "1.5.0",
            "_model_name": "HBoxModel",
            "_view_count": null,
            "_view_module": "@jupyter-widgets/controls",
            "_view_module_version": "1.5.0",
            "_view_name": "HBoxView",
            "box_style": "",
            "children": [
              "IPY_MODEL_c78018b2f9824807a4c199bdf9ffb3af",
              "IPY_MODEL_a9dbddb901914e26bdabe9464de8b577",
              "IPY_MODEL_097ba239776f4983ad5e1e6e1211d752"
            ],
            "layout": "IPY_MODEL_114827b70d704d189d59e26fad449b52"
          }
        },
        "c78018b2f9824807a4c199bdf9ffb3af": {
          "model_module": "@jupyter-widgets/controls",
          "model_name": "HTMLModel",
          "model_module_version": "1.5.0",
          "state": {
            "_dom_classes": [],
            "_model_module": "@jupyter-widgets/controls",
            "_model_module_version": "1.5.0",
            "_model_name": "HTMLModel",
            "_view_count": null,
            "_view_module": "@jupyter-widgets/controls",
            "_view_module_version": "1.5.0",
            "_view_name": "HTMLView",
            "description": "",
            "description_tooltip": null,
            "layout": "IPY_MODEL_1737cb3af365409895b2840f8d352810",
            "placeholder": "​",
            "style": "IPY_MODEL_358899239dab440ba2fe4eb2475940b2",
            "value": "Downloading: 100%"
          }
        },
        "a9dbddb901914e26bdabe9464de8b577": {
          "model_module": "@jupyter-widgets/controls",
          "model_name": "FloatProgressModel",
          "model_module_version": "1.5.0",
          "state": {
            "_dom_classes": [],
            "_model_module": "@jupyter-widgets/controls",
            "_model_module_version": "1.5.0",
            "_model_name": "FloatProgressModel",
            "_view_count": null,
            "_view_module": "@jupyter-widgets/controls",
            "_view_module_version": "1.5.0",
            "_view_name": "ProgressView",
            "bar_style": "success",
            "description": "",
            "description_tooltip": null,
            "layout": "IPY_MODEL_9c693c4ef7714c42a899e0901499a667",
            "max": 285,
            "min": 0,
            "orientation": "horizontal",
            "style": "IPY_MODEL_833514d8bf14482ca94f00d60d3ecd07",
            "value": 285
          }
        },
        "097ba239776f4983ad5e1e6e1211d752": {
          "model_module": "@jupyter-widgets/controls",
          "model_name": "HTMLModel",
          "model_module_version": "1.5.0",
          "state": {
            "_dom_classes": [],
            "_model_module": "@jupyter-widgets/controls",
            "_model_module_version": "1.5.0",
            "_model_name": "HTMLModel",
            "_view_count": null,
            "_view_module": "@jupyter-widgets/controls",
            "_view_module_version": "1.5.0",
            "_view_name": "HTMLView",
            "description": "",
            "description_tooltip": null,
            "layout": "IPY_MODEL_04c72321b1db4af08e4ee4b4e3b0d70f",
            "placeholder": "​",
            "style": "IPY_MODEL_5c0cc8c0d82848b0b90a82bbd9380033",
            "value": " 285/285 [00:00&lt;00:00, 11.9kB/s]"
          }
        },
        "114827b70d704d189d59e26fad449b52": {
          "model_module": "@jupyter-widgets/base",
          "model_name": "LayoutModel",
          "model_module_version": "1.2.0",
          "state": {
            "_model_module": "@jupyter-widgets/base",
            "_model_module_version": "1.2.0",
            "_model_name": "LayoutModel",
            "_view_count": null,
            "_view_module": "@jupyter-widgets/base",
            "_view_module_version": "1.2.0",
            "_view_name": "LayoutView",
            "align_content": null,
            "align_items": null,
            "align_self": null,
            "border": null,
            "bottom": null,
            "display": null,
            "flex": null,
            "flex_flow": null,
            "grid_area": null,
            "grid_auto_columns": null,
            "grid_auto_flow": null,
            "grid_auto_rows": null,
            "grid_column": null,
            "grid_gap": null,
            "grid_row": null,
            "grid_template_areas": null,
            "grid_template_columns": null,
            "grid_template_rows": null,
            "height": null,
            "justify_content": null,
            "justify_items": null,
            "left": null,
            "margin": null,
            "max_height": null,
            "max_width": null,
            "min_height": null,
            "min_width": null,
            "object_fit": null,
            "object_position": null,
            "order": null,
            "overflow": null,
            "overflow_x": null,
            "overflow_y": null,
            "padding": null,
            "right": null,
            "top": null,
            "visibility": null,
            "width": null
          }
        },
        "1737cb3af365409895b2840f8d352810": {
          "model_module": "@jupyter-widgets/base",
          "model_name": "LayoutModel",
          "model_module_version": "1.2.0",
          "state": {
            "_model_module": "@jupyter-widgets/base",
            "_model_module_version": "1.2.0",
            "_model_name": "LayoutModel",
            "_view_count": null,
            "_view_module": "@jupyter-widgets/base",
            "_view_module_version": "1.2.0",
            "_view_name": "LayoutView",
            "align_content": null,
            "align_items": null,
            "align_self": null,
            "border": null,
            "bottom": null,
            "display": null,
            "flex": null,
            "flex_flow": null,
            "grid_area": null,
            "grid_auto_columns": null,
            "grid_auto_flow": null,
            "grid_auto_rows": null,
            "grid_column": null,
            "grid_gap": null,
            "grid_row": null,
            "grid_template_areas": null,
            "grid_template_columns": null,
            "grid_template_rows": null,
            "height": null,
            "justify_content": null,
            "justify_items": null,
            "left": null,
            "margin": null,
            "max_height": null,
            "max_width": null,
            "min_height": null,
            "min_width": null,
            "object_fit": null,
            "object_position": null,
            "order": null,
            "overflow": null,
            "overflow_x": null,
            "overflow_y": null,
            "padding": null,
            "right": null,
            "top": null,
            "visibility": null,
            "width": null
          }
        },
        "358899239dab440ba2fe4eb2475940b2": {
          "model_module": "@jupyter-widgets/controls",
          "model_name": "DescriptionStyleModel",
          "model_module_version": "1.5.0",
          "state": {
            "_model_module": "@jupyter-widgets/controls",
            "_model_module_version": "1.5.0",
            "_model_name": "DescriptionStyleModel",
            "_view_count": null,
            "_view_module": "@jupyter-widgets/base",
            "_view_module_version": "1.2.0",
            "_view_name": "StyleView",
            "description_width": ""
          }
        },
        "9c693c4ef7714c42a899e0901499a667": {
          "model_module": "@jupyter-widgets/base",
          "model_name": "LayoutModel",
          "model_module_version": "1.2.0",
          "state": {
            "_model_module": "@jupyter-widgets/base",
            "_model_module_version": "1.2.0",
            "_model_name": "LayoutModel",
            "_view_count": null,
            "_view_module": "@jupyter-widgets/base",
            "_view_module_version": "1.2.0",
            "_view_name": "LayoutView",
            "align_content": null,
            "align_items": null,
            "align_self": null,
            "border": null,
            "bottom": null,
            "display": null,
            "flex": null,
            "flex_flow": null,
            "grid_area": null,
            "grid_auto_columns": null,
            "grid_auto_flow": null,
            "grid_auto_rows": null,
            "grid_column": null,
            "grid_gap": null,
            "grid_row": null,
            "grid_template_areas": null,
            "grid_template_columns": null,
            "grid_template_rows": null,
            "height": null,
            "justify_content": null,
            "justify_items": null,
            "left": null,
            "margin": null,
            "max_height": null,
            "max_width": null,
            "min_height": null,
            "min_width": null,
            "object_fit": null,
            "object_position": null,
            "order": null,
            "overflow": null,
            "overflow_x": null,
            "overflow_y": null,
            "padding": null,
            "right": null,
            "top": null,
            "visibility": null,
            "width": null
          }
        },
        "833514d8bf14482ca94f00d60d3ecd07": {
          "model_module": "@jupyter-widgets/controls",
          "model_name": "ProgressStyleModel",
          "model_module_version": "1.5.0",
          "state": {
            "_model_module": "@jupyter-widgets/controls",
            "_model_module_version": "1.5.0",
            "_model_name": "ProgressStyleModel",
            "_view_count": null,
            "_view_module": "@jupyter-widgets/base",
            "_view_module_version": "1.2.0",
            "_view_name": "StyleView",
            "bar_color": null,
            "description_width": ""
          }
        },
        "04c72321b1db4af08e4ee4b4e3b0d70f": {
          "model_module": "@jupyter-widgets/base",
          "model_name": "LayoutModel",
          "model_module_version": "1.2.0",
          "state": {
            "_model_module": "@jupyter-widgets/base",
            "_model_module_version": "1.2.0",
            "_model_name": "LayoutModel",
            "_view_count": null,
            "_view_module": "@jupyter-widgets/base",
            "_view_module_version": "1.2.0",
            "_view_name": "LayoutView",
            "align_content": null,
            "align_items": null,
            "align_self": null,
            "border": null,
            "bottom": null,
            "display": null,
            "flex": null,
            "flex_flow": null,
            "grid_area": null,
            "grid_auto_columns": null,
            "grid_auto_flow": null,
            "grid_auto_rows": null,
            "grid_column": null,
            "grid_gap": null,
            "grid_row": null,
            "grid_template_areas": null,
            "grid_template_columns": null,
            "grid_template_rows": null,
            "height": null,
            "justify_content": null,
            "justify_items": null,
            "left": null,
            "margin": null,
            "max_height": null,
            "max_width": null,
            "min_height": null,
            "min_width": null,
            "object_fit": null,
            "object_position": null,
            "order": null,
            "overflow": null,
            "overflow_x": null,
            "overflow_y": null,
            "padding": null,
            "right": null,
            "top": null,
            "visibility": null,
            "width": null
          }
        },
        "5c0cc8c0d82848b0b90a82bbd9380033": {
          "model_module": "@jupyter-widgets/controls",
          "model_name": "DescriptionStyleModel",
          "model_module_version": "1.5.0",
          "state": {
            "_model_module": "@jupyter-widgets/controls",
            "_model_module_version": "1.5.0",
            "_model_name": "DescriptionStyleModel",
            "_view_count": null,
            "_view_module": "@jupyter-widgets/base",
            "_view_module_version": "1.2.0",
            "_view_name": "StyleView",
            "description_width": ""
          }
        },
        "14a1813d7b9f423ba0b2a9081accd37a": {
          "model_module": "@jupyter-widgets/controls",
          "model_name": "HBoxModel",
          "model_module_version": "1.5.0",
          "state": {
            "_dom_classes": [],
            "_model_module": "@jupyter-widgets/controls",
            "_model_module_version": "1.5.0",
            "_model_name": "HBoxModel",
            "_view_count": null,
            "_view_module": "@jupyter-widgets/controls",
            "_view_module_version": "1.5.0",
            "_view_name": "HBoxView",
            "box_style": "",
            "children": [
              "IPY_MODEL_f2aae2917d104521b581b538b7baedf7",
              "IPY_MODEL_212a520188844543b0e163830b349712",
              "IPY_MODEL_fe14278abf98458e823f3f0923e5b9f7"
            ],
            "layout": "IPY_MODEL_f975e3f91ecc4e828bec4a86de456ae6"
          }
        },
        "f2aae2917d104521b581b538b7baedf7": {
          "model_module": "@jupyter-widgets/controls",
          "model_name": "HTMLModel",
          "model_module_version": "1.5.0",
          "state": {
            "_dom_classes": [],
            "_model_module": "@jupyter-widgets/controls",
            "_model_module_version": "1.5.0",
            "_model_name": "HTMLModel",
            "_view_count": null,
            "_view_module": "@jupyter-widgets/controls",
            "_view_module_version": "1.5.0",
            "_view_name": "HTMLView",
            "description": "",
            "description_tooltip": null,
            "layout": "IPY_MODEL_6f14ed2faeaa46a8af850a7bd083c06c",
            "placeholder": "​",
            "style": "IPY_MODEL_203db76263a34a9aa5f3f9a18cb806d6",
            "value": "Downloading: 100%"
          }
        },
        "212a520188844543b0e163830b349712": {
          "model_module": "@jupyter-widgets/controls",
          "model_name": "FloatProgressModel",
          "model_module_version": "1.5.0",
          "state": {
            "_dom_classes": [],
            "_model_module": "@jupyter-widgets/controls",
            "_model_module_version": "1.5.0",
            "_model_name": "FloatProgressModel",
            "_view_count": null,
            "_view_module": "@jupyter-widgets/controls",
            "_view_module_version": "1.5.0",
            "_view_name": "ProgressView",
            "bar_style": "success",
            "description": "",
            "description_tooltip": null,
            "layout": "IPY_MODEL_6f44defb241f4c29807f82163a97a4c1",
            "max": 17756393,
            "min": 0,
            "orientation": "horizontal",
            "style": "IPY_MODEL_5ffc30888e534cf7907c3d9816c88f84",
            "value": 17756393
          }
        },
        "fe14278abf98458e823f3f0923e5b9f7": {
          "model_module": "@jupyter-widgets/controls",
          "model_name": "HTMLModel",
          "model_module_version": "1.5.0",
          "state": {
            "_dom_classes": [],
            "_model_module": "@jupyter-widgets/controls",
            "_model_module_version": "1.5.0",
            "_model_name": "HTMLModel",
            "_view_count": null,
            "_view_module": "@jupyter-widgets/controls",
            "_view_module_version": "1.5.0",
            "_view_name": "HTMLView",
            "description": "",
            "description_tooltip": null,
            "layout": "IPY_MODEL_0284a69b0d6049eaa3013fd9ca703436",
            "placeholder": "​",
            "style": "IPY_MODEL_7c0167b8fea74320a9a414f5c421d723",
            "value": " 17.8M/17.8M [00:00&lt;00:00, 62.0MB/s]"
          }
        },
        "f975e3f91ecc4e828bec4a86de456ae6": {
          "model_module": "@jupyter-widgets/base",
          "model_name": "LayoutModel",
          "model_module_version": "1.2.0",
          "state": {
            "_model_module": "@jupyter-widgets/base",
            "_model_module_version": "1.2.0",
            "_model_name": "LayoutModel",
            "_view_count": null,
            "_view_module": "@jupyter-widgets/base",
            "_view_module_version": "1.2.0",
            "_view_name": "LayoutView",
            "align_content": null,
            "align_items": null,
            "align_self": null,
            "border": null,
            "bottom": null,
            "display": null,
            "flex": null,
            "flex_flow": null,
            "grid_area": null,
            "grid_auto_columns": null,
            "grid_auto_flow": null,
            "grid_auto_rows": null,
            "grid_column": null,
            "grid_gap": null,
            "grid_row": null,
            "grid_template_areas": null,
            "grid_template_columns": null,
            "grid_template_rows": null,
            "height": null,
            "justify_content": null,
            "justify_items": null,
            "left": null,
            "margin": null,
            "max_height": null,
            "max_width": null,
            "min_height": null,
            "min_width": null,
            "object_fit": null,
            "object_position": null,
            "order": null,
            "overflow": null,
            "overflow_x": null,
            "overflow_y": null,
            "padding": null,
            "right": null,
            "top": null,
            "visibility": null,
            "width": null
          }
        },
        "6f14ed2faeaa46a8af850a7bd083c06c": {
          "model_module": "@jupyter-widgets/base",
          "model_name": "LayoutModel",
          "model_module_version": "1.2.0",
          "state": {
            "_model_module": "@jupyter-widgets/base",
            "_model_module_version": "1.2.0",
            "_model_name": "LayoutModel",
            "_view_count": null,
            "_view_module": "@jupyter-widgets/base",
            "_view_module_version": "1.2.0",
            "_view_name": "LayoutView",
            "align_content": null,
            "align_items": null,
            "align_self": null,
            "border": null,
            "bottom": null,
            "display": null,
            "flex": null,
            "flex_flow": null,
            "grid_area": null,
            "grid_auto_columns": null,
            "grid_auto_flow": null,
            "grid_auto_rows": null,
            "grid_column": null,
            "grid_gap": null,
            "grid_row": null,
            "grid_template_areas": null,
            "grid_template_columns": null,
            "grid_template_rows": null,
            "height": null,
            "justify_content": null,
            "justify_items": null,
            "left": null,
            "margin": null,
            "max_height": null,
            "max_width": null,
            "min_height": null,
            "min_width": null,
            "object_fit": null,
            "object_position": null,
            "order": null,
            "overflow": null,
            "overflow_x": null,
            "overflow_y": null,
            "padding": null,
            "right": null,
            "top": null,
            "visibility": null,
            "width": null
          }
        },
        "203db76263a34a9aa5f3f9a18cb806d6": {
          "model_module": "@jupyter-widgets/controls",
          "model_name": "DescriptionStyleModel",
          "model_module_version": "1.5.0",
          "state": {
            "_model_module": "@jupyter-widgets/controls",
            "_model_module_version": "1.5.0",
            "_model_name": "DescriptionStyleModel",
            "_view_count": null,
            "_view_module": "@jupyter-widgets/base",
            "_view_module_version": "1.2.0",
            "_view_name": "StyleView",
            "description_width": ""
          }
        },
        "6f44defb241f4c29807f82163a97a4c1": {
          "model_module": "@jupyter-widgets/base",
          "model_name": "LayoutModel",
          "model_module_version": "1.2.0",
          "state": {
            "_model_module": "@jupyter-widgets/base",
            "_model_module_version": "1.2.0",
            "_model_name": "LayoutModel",
            "_view_count": null,
            "_view_module": "@jupyter-widgets/base",
            "_view_module_version": "1.2.0",
            "_view_name": "LayoutView",
            "align_content": null,
            "align_items": null,
            "align_self": null,
            "border": null,
            "bottom": null,
            "display": null,
            "flex": null,
            "flex_flow": null,
            "grid_area": null,
            "grid_auto_columns": null,
            "grid_auto_flow": null,
            "grid_auto_rows": null,
            "grid_column": null,
            "grid_gap": null,
            "grid_row": null,
            "grid_template_areas": null,
            "grid_template_columns": null,
            "grid_template_rows": null,
            "height": null,
            "justify_content": null,
            "justify_items": null,
            "left": null,
            "margin": null,
            "max_height": null,
            "max_width": null,
            "min_height": null,
            "min_width": null,
            "object_fit": null,
            "object_position": null,
            "order": null,
            "overflow": null,
            "overflow_x": null,
            "overflow_y": null,
            "padding": null,
            "right": null,
            "top": null,
            "visibility": null,
            "width": null
          }
        },
        "5ffc30888e534cf7907c3d9816c88f84": {
          "model_module": "@jupyter-widgets/controls",
          "model_name": "ProgressStyleModel",
          "model_module_version": "1.5.0",
          "state": {
            "_model_module": "@jupyter-widgets/controls",
            "_model_module_version": "1.5.0",
            "_model_name": "ProgressStyleModel",
            "_view_count": null,
            "_view_module": "@jupyter-widgets/base",
            "_view_module_version": "1.2.0",
            "_view_name": "StyleView",
            "bar_color": null,
            "description_width": ""
          }
        },
        "0284a69b0d6049eaa3013fd9ca703436": {
          "model_module": "@jupyter-widgets/base",
          "model_name": "LayoutModel",
          "model_module_version": "1.2.0",
          "state": {
            "_model_module": "@jupyter-widgets/base",
            "_model_module_version": "1.2.0",
            "_model_name": "LayoutModel",
            "_view_count": null,
            "_view_module": "@jupyter-widgets/base",
            "_view_module_version": "1.2.0",
            "_view_name": "LayoutView",
            "align_content": null,
            "align_items": null,
            "align_self": null,
            "border": null,
            "bottom": null,
            "display": null,
            "flex": null,
            "flex_flow": null,
            "grid_area": null,
            "grid_auto_columns": null,
            "grid_auto_flow": null,
            "grid_auto_rows": null,
            "grid_column": null,
            "grid_gap": null,
            "grid_row": null,
            "grid_template_areas": null,
            "grid_template_columns": null,
            "grid_template_rows": null,
            "height": null,
            "justify_content": null,
            "justify_items": null,
            "left": null,
            "margin": null,
            "max_height": null,
            "max_width": null,
            "min_height": null,
            "min_width": null,
            "object_fit": null,
            "object_position": null,
            "order": null,
            "overflow": null,
            "overflow_x": null,
            "overflow_y": null,
            "padding": null,
            "right": null,
            "top": null,
            "visibility": null,
            "width": null
          }
        },
        "7c0167b8fea74320a9a414f5c421d723": {
          "model_module": "@jupyter-widgets/controls",
          "model_name": "DescriptionStyleModel",
          "model_module_version": "1.5.0",
          "state": {
            "_model_module": "@jupyter-widgets/controls",
            "_model_module_version": "1.5.0",
            "_model_name": "DescriptionStyleModel",
            "_view_count": null,
            "_view_module": "@jupyter-widgets/base",
            "_view_module_version": "1.2.0",
            "_view_name": "StyleView",
            "description_width": ""
          }
        },
        "ca87d5b7b4ad42f48aa9af1b893a8738": {
          "model_module": "@jupyter-widgets/controls",
          "model_name": "HBoxModel",
          "model_module_version": "1.5.0",
          "state": {
            "_dom_classes": [],
            "_model_module": "@jupyter-widgets/controls",
            "_model_module_version": "1.5.0",
            "_model_name": "HBoxModel",
            "_view_count": null,
            "_view_module": "@jupyter-widgets/controls",
            "_view_module_version": "1.5.0",
            "_view_name": "HBoxView",
            "box_style": "",
            "children": [
              "IPY_MODEL_b4f938388db443f59e559323083e9725",
              "IPY_MODEL_54e412ec73b74e6a90de1aeca0954768",
              "IPY_MODEL_516249517b1b4394b6ea7469899c13d2"
            ],
            "layout": "IPY_MODEL_aeda317611cd4da0b5a6b2799f7cad85"
          }
        },
        "b4f938388db443f59e559323083e9725": {
          "model_module": "@jupyter-widgets/controls",
          "model_name": "HTMLModel",
          "model_module_version": "1.5.0",
          "state": {
            "_dom_classes": [],
            "_model_module": "@jupyter-widgets/controls",
            "_model_module_version": "1.5.0",
            "_model_name": "HTMLModel",
            "_view_count": null,
            "_view_module": "@jupyter-widgets/controls",
            "_view_module_version": "1.5.0",
            "_view_name": "HTMLView",
            "description": "",
            "description_tooltip": null,
            "layout": "IPY_MODEL_4802f463f4704bf288fb12a09cbdffa4",
            "placeholder": "​",
            "style": "IPY_MODEL_47551660935a4fdf87db97d6aa69f33f",
            "value": "Downloading: 100%"
          }
        },
        "54e412ec73b74e6a90de1aeca0954768": {
          "model_module": "@jupyter-widgets/controls",
          "model_name": "FloatProgressModel",
          "model_module_version": "1.5.0",
          "state": {
            "_dom_classes": [],
            "_model_module": "@jupyter-widgets/controls",
            "_model_module_version": "1.5.0",
            "_model_name": "FloatProgressModel",
            "_view_count": null,
            "_view_module": "@jupyter-widgets/controls",
            "_view_module_version": "1.5.0",
            "_view_name": "ProgressView",
            "bar_style": "success",
            "description": "",
            "description_tooltip": null,
            "layout": "IPY_MODEL_4e1669ddf5ee45668a649647418298e4",
            "max": 231508,
            "min": 0,
            "orientation": "horizontal",
            "style": "IPY_MODEL_175f0f332ce146129b1afebcd3c45452",
            "value": 231508
          }
        },
        "516249517b1b4394b6ea7469899c13d2": {
          "model_module": "@jupyter-widgets/controls",
          "model_name": "HTMLModel",
          "model_module_version": "1.5.0",
          "state": {
            "_dom_classes": [],
            "_model_module": "@jupyter-widgets/controls",
            "_model_module_version": "1.5.0",
            "_model_name": "HTMLModel",
            "_view_count": null,
            "_view_module": "@jupyter-widgets/controls",
            "_view_module_version": "1.5.0",
            "_view_name": "HTMLView",
            "description": "",
            "description_tooltip": null,
            "layout": "IPY_MODEL_f1c106dee54a40248fca913dd450d2f9",
            "placeholder": "​",
            "style": "IPY_MODEL_1dc358944c2446e685b5cee29db210ad",
            "value": " 232k/232k [00:00&lt;00:00, 285kB/s]"
          }
        },
        "aeda317611cd4da0b5a6b2799f7cad85": {
          "model_module": "@jupyter-widgets/base",
          "model_name": "LayoutModel",
          "model_module_version": "1.2.0",
          "state": {
            "_model_module": "@jupyter-widgets/base",
            "_model_module_version": "1.2.0",
            "_model_name": "LayoutModel",
            "_view_count": null,
            "_view_module": "@jupyter-widgets/base",
            "_view_module_version": "1.2.0",
            "_view_name": "LayoutView",
            "align_content": null,
            "align_items": null,
            "align_self": null,
            "border": null,
            "bottom": null,
            "display": null,
            "flex": null,
            "flex_flow": null,
            "grid_area": null,
            "grid_auto_columns": null,
            "grid_auto_flow": null,
            "grid_auto_rows": null,
            "grid_column": null,
            "grid_gap": null,
            "grid_row": null,
            "grid_template_areas": null,
            "grid_template_columns": null,
            "grid_template_rows": null,
            "height": null,
            "justify_content": null,
            "justify_items": null,
            "left": null,
            "margin": null,
            "max_height": null,
            "max_width": null,
            "min_height": null,
            "min_width": null,
            "object_fit": null,
            "object_position": null,
            "order": null,
            "overflow": null,
            "overflow_x": null,
            "overflow_y": null,
            "padding": null,
            "right": null,
            "top": null,
            "visibility": null,
            "width": null
          }
        },
        "4802f463f4704bf288fb12a09cbdffa4": {
          "model_module": "@jupyter-widgets/base",
          "model_name": "LayoutModel",
          "model_module_version": "1.2.0",
          "state": {
            "_model_module": "@jupyter-widgets/base",
            "_model_module_version": "1.2.0",
            "_model_name": "LayoutModel",
            "_view_count": null,
            "_view_module": "@jupyter-widgets/base",
            "_view_module_version": "1.2.0",
            "_view_name": "LayoutView",
            "align_content": null,
            "align_items": null,
            "align_self": null,
            "border": null,
            "bottom": null,
            "display": null,
            "flex": null,
            "flex_flow": null,
            "grid_area": null,
            "grid_auto_columns": null,
            "grid_auto_flow": null,
            "grid_auto_rows": null,
            "grid_column": null,
            "grid_gap": null,
            "grid_row": null,
            "grid_template_areas": null,
            "grid_template_columns": null,
            "grid_template_rows": null,
            "height": null,
            "justify_content": null,
            "justify_items": null,
            "left": null,
            "margin": null,
            "max_height": null,
            "max_width": null,
            "min_height": null,
            "min_width": null,
            "object_fit": null,
            "object_position": null,
            "order": null,
            "overflow": null,
            "overflow_x": null,
            "overflow_y": null,
            "padding": null,
            "right": null,
            "top": null,
            "visibility": null,
            "width": null
          }
        },
        "47551660935a4fdf87db97d6aa69f33f": {
          "model_module": "@jupyter-widgets/controls",
          "model_name": "DescriptionStyleModel",
          "model_module_version": "1.5.0",
          "state": {
            "_model_module": "@jupyter-widgets/controls",
            "_model_module_version": "1.5.0",
            "_model_name": "DescriptionStyleModel",
            "_view_count": null,
            "_view_module": "@jupyter-widgets/base",
            "_view_module_version": "1.2.0",
            "_view_name": "StyleView",
            "description_width": ""
          }
        },
        "4e1669ddf5ee45668a649647418298e4": {
          "model_module": "@jupyter-widgets/base",
          "model_name": "LayoutModel",
          "model_module_version": "1.2.0",
          "state": {
            "_model_module": "@jupyter-widgets/base",
            "_model_module_version": "1.2.0",
            "_model_name": "LayoutModel",
            "_view_count": null,
            "_view_module": "@jupyter-widgets/base",
            "_view_module_version": "1.2.0",
            "_view_name": "LayoutView",
            "align_content": null,
            "align_items": null,
            "align_self": null,
            "border": null,
            "bottom": null,
            "display": null,
            "flex": null,
            "flex_flow": null,
            "grid_area": null,
            "grid_auto_columns": null,
            "grid_auto_flow": null,
            "grid_auto_rows": null,
            "grid_column": null,
            "grid_gap": null,
            "grid_row": null,
            "grid_template_areas": null,
            "grid_template_columns": null,
            "grid_template_rows": null,
            "height": null,
            "justify_content": null,
            "justify_items": null,
            "left": null,
            "margin": null,
            "max_height": null,
            "max_width": null,
            "min_height": null,
            "min_width": null,
            "object_fit": null,
            "object_position": null,
            "order": null,
            "overflow": null,
            "overflow_x": null,
            "overflow_y": null,
            "padding": null,
            "right": null,
            "top": null,
            "visibility": null,
            "width": null
          }
        },
        "175f0f332ce146129b1afebcd3c45452": {
          "model_module": "@jupyter-widgets/controls",
          "model_name": "ProgressStyleModel",
          "model_module_version": "1.5.0",
          "state": {
            "_model_module": "@jupyter-widgets/controls",
            "_model_module_version": "1.5.0",
            "_model_name": "ProgressStyleModel",
            "_view_count": null,
            "_view_module": "@jupyter-widgets/base",
            "_view_module_version": "1.2.0",
            "_view_name": "StyleView",
            "bar_color": null,
            "description_width": ""
          }
        },
        "f1c106dee54a40248fca913dd450d2f9": {
          "model_module": "@jupyter-widgets/base",
          "model_name": "LayoutModel",
          "model_module_version": "1.2.0",
          "state": {
            "_model_module": "@jupyter-widgets/base",
            "_model_module_version": "1.2.0",
            "_model_name": "LayoutModel",
            "_view_count": null,
            "_view_module": "@jupyter-widgets/base",
            "_view_module_version": "1.2.0",
            "_view_name": "LayoutView",
            "align_content": null,
            "align_items": null,
            "align_self": null,
            "border": null,
            "bottom": null,
            "display": null,
            "flex": null,
            "flex_flow": null,
            "grid_area": null,
            "grid_auto_columns": null,
            "grid_auto_flow": null,
            "grid_auto_rows": null,
            "grid_column": null,
            "grid_gap": null,
            "grid_row": null,
            "grid_template_areas": null,
            "grid_template_columns": null,
            "grid_template_rows": null,
            "height": null,
            "justify_content": null,
            "justify_items": null,
            "left": null,
            "margin": null,
            "max_height": null,
            "max_width": null,
            "min_height": null,
            "min_width": null,
            "object_fit": null,
            "object_position": null,
            "order": null,
            "overflow": null,
            "overflow_x": null,
            "overflow_y": null,
            "padding": null,
            "right": null,
            "top": null,
            "visibility": null,
            "width": null
          }
        },
        "1dc358944c2446e685b5cee29db210ad": {
          "model_module": "@jupyter-widgets/controls",
          "model_name": "DescriptionStyleModel",
          "model_module_version": "1.5.0",
          "state": {
            "_model_module": "@jupyter-widgets/controls",
            "_model_module_version": "1.5.0",
            "_model_name": "DescriptionStyleModel",
            "_view_count": null,
            "_view_module": "@jupyter-widgets/base",
            "_view_module_version": "1.2.0",
            "_view_name": "StyleView",
            "description_width": ""
          }
        }
      }
    }
  },
  "nbformat_minor": 0,
  "nbformat": 4,
  "cells": [
    {
      "cell_type": "markdown",
      "metadata": {
        "id": "view-in-github",
        "colab_type": "text"
      },
      "source": [
        "<a href=\"https://colab.research.google.com/github/Danysan1/ai-unibo-nlp-project/blob/main/a2/execution.ipynb\" target=\"_parent\"><img src=\"https://colab.research.google.com/assets/colab-badge.svg\" alt=\"Open In Colab\"/></a>"
      ]
    },
    {
      "cell_type": "markdown",
      "source": [
        "# Assignment 2 execution"
      ],
      "metadata": {
        "id": "qtlMx4kv1mPK"
      }
    },
    {
      "cell_type": "code",
      "source": [
        "%pip install pandas numpy matplotlib transformers==4.25.1  dataset"
      ],
      "metadata": {
        "id": "feevAAsT1mPL",
        "outputId": "c62a0b89-3add-4a45-d1d2-ec5ea895886b",
        "execution": {
          "iopub.status.busy": "2023-01-14T19:27:05.275678Z",
          "iopub.execute_input": "2023-01-14T19:27:05.276062Z",
          "iopub.status.idle": "2023-01-14T19:27:15.930750Z",
          "shell.execute_reply.started": "2023-01-14T19:27:05.276030Z",
          "shell.execute_reply": "2023-01-14T19:27:15.929368Z"
        },
        "trusted": true,
        "colab": {
          "base_uri": "https://localhost:8080/"
        }
      },
      "execution_count": 1,
      "outputs": [
        {
          "output_type": "stream",
          "name": "stdout",
          "text": [
            "Looking in indexes: https://pypi.org/simple, https://us-python.pkg.dev/colab-wheels/public/simple/\n",
            "Requirement already satisfied: pandas in /usr/local/lib/python3.8/dist-packages (1.3.5)\n",
            "Requirement already satisfied: numpy in /usr/local/lib/python3.8/dist-packages (1.21.6)\n",
            "Requirement already satisfied: matplotlib in /usr/local/lib/python3.8/dist-packages (3.2.2)\n",
            "Collecting transformers==4.25.1\n",
            "  Downloading transformers-4.25.1-py3-none-any.whl (5.8 MB)\n",
            "\u001b[2K     \u001b[90m━━━━━━━━━━━━━━━━━━━━━━━━━━━━━━━━━━━━━━━━\u001b[0m \u001b[32m5.8/5.8 MB\u001b[0m \u001b[31m44.1 MB/s\u001b[0m eta \u001b[36m0:00:00\u001b[0m\n",
            "\u001b[?25hCollecting dataset\n",
            "  Downloading dataset-1.5.2-py2.py3-none-any.whl (18 kB)\n",
            "Requirement already satisfied: regex!=2019.12.17 in /usr/local/lib/python3.8/dist-packages (from transformers==4.25.1) (2022.6.2)\n",
            "Collecting tokenizers!=0.11.3,<0.14,>=0.11.1\n",
            "  Downloading tokenizers-0.13.2-cp38-cp38-manylinux_2_17_x86_64.manylinux2014_x86_64.whl (7.6 MB)\n",
            "\u001b[2K     \u001b[90m━━━━━━━━━━━━━━━━━━━━━━━━━━━━━━━━━━━━━━━━\u001b[0m \u001b[32m7.6/7.6 MB\u001b[0m \u001b[31m31.2 MB/s\u001b[0m eta \u001b[36m0:00:00\u001b[0m\n",
            "\u001b[?25hRequirement already satisfied: pyyaml>=5.1 in /usr/local/lib/python3.8/dist-packages (from transformers==4.25.1) (6.0)\n",
            "Collecting huggingface-hub<1.0,>=0.10.0\n",
            "  Downloading huggingface_hub-0.11.1-py3-none-any.whl (182 kB)\n",
            "\u001b[2K     \u001b[90m━━━━━━━━━━━━━━━━━━━━━━━━━━━━━━━━━━━━━━━\u001b[0m \u001b[32m182.4/182.4 KB\u001b[0m \u001b[31m6.1 MB/s\u001b[0m eta \u001b[36m0:00:00\u001b[0m\n",
            "\u001b[?25hRequirement already satisfied: packaging>=20.0 in /usr/local/lib/python3.8/dist-packages (from transformers==4.25.1) (21.3)\n",
            "Requirement already satisfied: requests in /usr/local/lib/python3.8/dist-packages (from transformers==4.25.1) (2.25.1)\n",
            "Requirement already satisfied: filelock in /usr/local/lib/python3.8/dist-packages (from transformers==4.25.1) (3.9.0)\n",
            "Requirement already satisfied: tqdm>=4.27 in /usr/local/lib/python3.8/dist-packages (from transformers==4.25.1) (4.64.1)\n",
            "Requirement already satisfied: pytz>=2017.3 in /usr/local/lib/python3.8/dist-packages (from pandas) (2022.7)\n",
            "Requirement already satisfied: python-dateutil>=2.7.3 in /usr/local/lib/python3.8/dist-packages (from pandas) (2.8.2)\n",
            "Requirement already satisfied: pyparsing!=2.0.4,!=2.1.2,!=2.1.6,>=2.0.1 in /usr/local/lib/python3.8/dist-packages (from matplotlib) (3.0.9)\n",
            "Requirement already satisfied: kiwisolver>=1.0.1 in /usr/local/lib/python3.8/dist-packages (from matplotlib) (1.4.4)\n",
            "Requirement already satisfied: cycler>=0.10 in /usr/local/lib/python3.8/dist-packages (from matplotlib) (0.11.0)\n",
            "Collecting alembic>=0.6.2\n",
            "  Downloading alembic-1.9.2-py3-none-any.whl (210 kB)\n",
            "\u001b[2K     \u001b[90m━━━━━━━━━━━━━━━━━━━━━━━━━━━━━━━━━━━━━━━\u001b[0m \u001b[32m210.6/210.6 KB\u001b[0m \u001b[31m9.7 MB/s\u001b[0m eta \u001b[36m0:00:00\u001b[0m\n",
            "\u001b[?25hRequirement already satisfied: sqlalchemy>=1.3.2 in /usr/local/lib/python3.8/dist-packages (from dataset) (1.4.46)\n",
            "Collecting banal>=1.0.1\n",
            "  Downloading banal-1.0.6-py2.py3-none-any.whl (6.1 kB)\n",
            "Requirement already satisfied: importlib-metadata in /usr/local/lib/python3.8/dist-packages (from alembic>=0.6.2->dataset) (6.0.0)\n",
            "Collecting Mako\n",
            "  Downloading Mako-1.2.4-py3-none-any.whl (78 kB)\n",
            "\u001b[2K     \u001b[90m━━━━━━━━━━━━━━━━━━━━━━━━━━━━━━━━━━━━━━━━\u001b[0m \u001b[32m78.7/78.7 KB\u001b[0m \u001b[31m2.3 MB/s\u001b[0m eta \u001b[36m0:00:00\u001b[0m\n",
            "\u001b[?25hRequirement already satisfied: importlib-resources in /usr/local/lib/python3.8/dist-packages (from alembic>=0.6.2->dataset) (5.10.2)\n",
            "Requirement already satisfied: typing-extensions>=3.7.4.3 in /usr/local/lib/python3.8/dist-packages (from huggingface-hub<1.0,>=0.10.0->transformers==4.25.1) (4.4.0)\n",
            "Requirement already satisfied: six>=1.5 in /usr/local/lib/python3.8/dist-packages (from python-dateutil>=2.7.3->pandas) (1.15.0)\n",
            "Requirement already satisfied: greenlet!=0.4.17 in /usr/local/lib/python3.8/dist-packages (from sqlalchemy>=1.3.2->dataset) (2.0.1)\n",
            "Requirement already satisfied: certifi>=2017.4.17 in /usr/local/lib/python3.8/dist-packages (from requests->transformers==4.25.1) (2022.12.7)\n",
            "Requirement already satisfied: idna<3,>=2.5 in /usr/local/lib/python3.8/dist-packages (from requests->transformers==4.25.1) (2.10)\n",
            "Requirement already satisfied: urllib3<1.27,>=1.21.1 in /usr/local/lib/python3.8/dist-packages (from requests->transformers==4.25.1) (1.24.3)\n",
            "Requirement already satisfied: chardet<5,>=3.0.2 in /usr/local/lib/python3.8/dist-packages (from requests->transformers==4.25.1) (4.0.0)\n",
            "Requirement already satisfied: zipp>=0.5 in /usr/local/lib/python3.8/dist-packages (from importlib-metadata->alembic>=0.6.2->dataset) (3.11.0)\n",
            "Requirement already satisfied: MarkupSafe>=0.9.2 in /usr/local/lib/python3.8/dist-packages (from Mako->alembic>=0.6.2->dataset) (2.0.1)\n",
            "Installing collected packages: tokenizers, banal, Mako, huggingface-hub, alembic, transformers, dataset\n",
            "Successfully installed Mako-1.2.4 alembic-1.9.2 banal-1.0.6 dataset-1.5.2 huggingface-hub-0.11.1 tokenizers-0.13.2 transformers-4.25.1\n"
          ]
        }
      ]
    },
    {
      "cell_type": "markdown",
      "source": [
        "##Reproducibility"
      ],
      "metadata": {
        "id": "K_aTEeegKvYn"
      }
    },
    {
      "cell_type": "code",
      "source": [
        "def fix_seed(seed: int) -> None:\n",
        "    \"\"\"Fix all the possible sources of randomness.\n",
        "\n",
        "    Args:\n",
        "        seed: the seed to use. \n",
        "    \"\"\"\n",
        "    np.random.seed(seed)\n",
        "    random.seed(seed)\n",
        "    torch.manual_seed(seed)\n",
        "    torch.cuda.manual_seed(seed)\n",
        "    \n",
        "    torch.backends.cudnn.benchmark = False\n",
        "    torch.backends.cudnn.deterministic = True"
      ],
      "metadata": {
        "id": "EhOiCAcW0R2i"
      },
      "execution_count": 2,
      "outputs": []
    },
    {
      "cell_type": "markdown",
      "source": [
        "## Data loading"
      ],
      "metadata": {
        "id": "kJSsWQg_1mPO"
      }
    },
    {
      "cell_type": "markdown",
      "source": [
        "### Dataset download"
      ],
      "metadata": {
        "id": "1mXm1Fpq1mPP"
      }
    },
    {
      "cell_type": "code",
      "source": [
        "import os\n",
        "import urllib.request\n",
        "from tqdm import tqdm\n",
        "\n",
        "class DownloadProgressBar(tqdm):\n",
        "    def update_to(self, b=1, bsize=1, tsize=None):\n",
        "        if tsize is not None:\n",
        "            self.total = tsize\n",
        "        self.update(b * bsize - self.n)\n",
        "        \n",
        "def download_url(url, output_path):\n",
        "    with DownloadProgressBar(unit='B', unit_scale=True,\n",
        "                             miniters=1, desc=url.split('/')[-1]) as t:\n",
        "        urllib.request.urlretrieve(url, filename=output_path, reporthook=t.update_to)\n",
        "\n",
        "def download_data(data_path, url_path, suffix):    \n",
        "    if not os.path.exists(data_path):\n",
        "        os.makedirs(data_path)\n",
        "        \n",
        "    data_path = os.path.join(data_path, f'{suffix}.json')\n",
        "    if not os.path.exists(data_path):\n",
        "        print(f\"Downloading CoQA {suffix} data split... (it may take a while)\")\n",
        "        download_url(url=url_path, output_path=data_path)\n",
        "        print(\"Download completed!\")"
      ],
      "metadata": {
        "id": "oOqlik_a1mPP",
        "execution": {
          "iopub.status.busy": "2023-01-14T19:27:15.933200Z",
          "iopub.execute_input": "2023-01-14T19:27:15.933918Z",
          "iopub.status.idle": "2023-01-14T19:27:15.943875Z",
          "shell.execute_reply.started": "2023-01-14T19:27:15.933876Z",
          "shell.execute_reply": "2023-01-14T19:27:15.943086Z"
        },
        "trusted": true
      },
      "execution_count": 3,
      "outputs": []
    },
    {
      "cell_type": "code",
      "source": [
        "data_folder = 'Dataset'"
      ],
      "metadata": {
        "id": "sskRUOtB1mPR",
        "execution": {
          "iopub.status.busy": "2023-01-14T19:27:15.946772Z",
          "iopub.execute_input": "2023-01-14T19:27:15.947037Z",
          "iopub.status.idle": "2023-01-14T19:27:15.955878Z",
          "shell.execute_reply.started": "2023-01-14T19:27:15.947012Z",
          "shell.execute_reply": "2023-01-14T19:27:15.954901Z"
        },
        "trusted": true
      },
      "execution_count": 4,
      "outputs": []
    },
    {
      "cell_type": "code",
      "source": [
        "# Train & Validation data\n",
        "train_url = \"https://nlp.stanford.edu/data/coqa/coqa-train-v1.0.json\"\n",
        "download_data(data_path=data_folder, url_path=train_url, suffix='train')\n",
        "\n",
        "# Test data\n",
        "test_url = \"https://nlp.stanford.edu/data/coqa/coqa-dev-v1.0.json\"\n",
        "download_data(data_path=data_folder, url_path=test_url, suffix='test')"
      ],
      "metadata": {
        "id": "CzsJWqI61mPR",
        "execution": {
          "iopub.status.busy": "2023-01-14T19:27:15.958711Z",
          "iopub.execute_input": "2023-01-14T19:27:15.959226Z",
          "iopub.status.idle": "2023-01-14T19:27:15.965990Z",
          "shell.execute_reply.started": "2023-01-14T19:27:15.959169Z",
          "shell.execute_reply": "2023-01-14T19:27:15.965021Z"
        },
        "trusted": true,
        "outputId": "f377a784-c7b3-4ee4-f3dd-287596fceaf6",
        "colab": {
          "base_uri": "https://localhost:8080/"
        }
      },
      "execution_count": 5,
      "outputs": [
        {
          "output_type": "stream",
          "name": "stdout",
          "text": [
            "Downloading CoQA train data split... (it may take a while)\n"
          ]
        },
        {
          "output_type": "stream",
          "name": "stderr",
          "text": [
            "coqa-train-v1.0.json: 49.0MB [00:08, 5.87MB/s]                            \n"
          ]
        },
        {
          "output_type": "stream",
          "name": "stdout",
          "text": [
            "Download completed!\n",
            "Downloading CoQA test data split... (it may take a while)\n"
          ]
        },
        {
          "output_type": "stream",
          "name": "stderr",
          "text": [
            "coqa-dev-v1.0.json: 9.09MB [00:03, 2.85MB/s]                            "
          ]
        },
        {
          "output_type": "stream",
          "name": "stdout",
          "text": [
            "Download completed!\n"
          ]
        },
        {
          "output_type": "stream",
          "name": "stderr",
          "text": [
            "\n"
          ]
        }
      ]
    },
    {
      "cell_type": "markdown",
      "source": [
        "### Dataset loading"
      ],
      "metadata": {
        "id": "GsM9znVV1mPT"
      }
    },
    {
      "cell_type": "code",
      "source": [
        "import numpy as np\n",
        "import pandas as pd\n",
        "import json\n",
        "from os import path\n",
        "from matplotlib import pyplot as plt"
      ],
      "metadata": {
        "id": "VRsmY5Wn1mPV",
        "execution": {
          "iopub.status.busy": "2023-01-14T19:27:15.967313Z",
          "iopub.execute_input": "2023-01-14T19:27:15.968286Z",
          "iopub.status.idle": "2023-01-14T19:27:15.977796Z",
          "shell.execute_reply.started": "2023-01-14T19:27:15.968251Z",
          "shell.execute_reply": "2023-01-14T19:27:15.976677Z"
        },
        "trusted": true
      },
      "execution_count": 6,
      "outputs": []
    },
    {
      "cell_type": "code",
      "source": [
        "def load_coqa_dataset(filename:str) -> pd.DataFrame:\n",
        "    with open(path.join(data_folder, filename)) as file_obj:\n",
        "        data_arr = json.load(file_obj)[\"data\"]\n",
        "    print(f'{len(data_arr)} stories / {len(data_arr[0][\"questions\"])} questions in the first row')\n",
        "    \n",
        "    # Prepare the Categorical DTypes\n",
        "\n",
        "    storyDType = pd.CategoricalDtype(pd.unique([story[\"story\"] for story in data_arr]))\n",
        "    print(f\"{storyDType.categories.size} distinct stories\")\n",
        "\n",
        "    sourceDType = pd.CategoricalDtype(pd.unique([story[\"source\"] for story in data_arr]))\n",
        "    print(f\"{sourceDType.categories.size} distinct sources: {sourceDType.categories}\")\n",
        "    \n",
        "    # Transform into a numpy matrix (denormalization and categorical factorization)\n",
        "\n",
        "    data_arr = np.array([\n",
        "        [\n",
        "            sourceDType.categories.get_loc(story[\"source\"]), # Sources factorization\n",
        "            storyDType.categories.get_loc(story[\"story\"]), # Sources factorization\n",
        "            story[\"questions\"][question_index][\"input_text\"],\n",
        "            story[\"answers\"][question_index][\"input_text\"],\n",
        "            story[\"answers\"][question_index][\"span_text\"],\n",
        "            #story[\"questions\"][question_index][\"turn_id\"],\n",
        "        ]\n",
        "        for story in data_arr\n",
        "        for question_index in range(len(story[\"questions\"]))\n",
        "        if story[\"answers\"][question_index][\"input_text\"] != 'unknown'\n",
        "    ])\n",
        "    print(f'{data_arr.shape} question-answer pairs x columns')\n",
        "    print(f'First row: {data_arr[0]}')\n",
        "    \n",
        "    # Transform into a DataFrame\n",
        "    \n",
        "    # https://marcobonzanini.com/2021/09/15/tips-for-saving-memory-with-pandas/\n",
        "    # https://pandas.pydata.org/docs/user_guide/categorical.html\n",
        "    return pd.DataFrame({\n",
        "        \"source\": pd.Series(pd.Categorical.from_codes(data_arr[:,0].astype(np.int16), dtype=sourceDType)),\n",
        "        \"p\": pd.Series(pd.Categorical.from_codes(data_arr[:,1].astype(np.int16), dtype=storyDType)),\n",
        "        \"q\": data_arr[:,2],\n",
        "        \"a\": data_arr[:,3],\n",
        "        \"span\": data_arr[:,4],\n",
        "    })"
      ],
      "metadata": {
        "id": "lI74kMng1mPW",
        "execution": {
          "iopub.status.busy": "2023-01-14T19:27:15.979480Z",
          "iopub.execute_input": "2023-01-14T19:27:15.979843Z",
          "iopub.status.idle": "2023-01-14T19:27:15.993559Z",
          "shell.execute_reply.started": "2023-01-14T19:27:15.979810Z",
          "shell.execute_reply": "2023-01-14T19:27:15.992649Z"
        },
        "trusted": true
      },
      "execution_count": 7,
      "outputs": []
    },
    {
      "cell_type": "code",
      "source": [
        "def append_shifted_question_to_coqa_dataset(df:pd.DataFrame, shift:int) -> (pd.DataFrame,int):\n",
        "    if shift <= 0:\n",
        "        raise Exception(\"shift must be grater than zero\")\n",
        "    history_mask = df[\"p\"] == df[\"p\"].shift(shift)\n",
        "    history_series = df[\"q\"].shift(shift).astype(str) + ' ' + df[\"a\"].shift(shift) + '. ' + df[\"history\"]\n",
        "    df[\"history\"] = np.where(history_mask, history_series, df[\"history\"])\n",
        "    return df, history_mask.sum()"
      ],
      "metadata": {
        "execution": {
          "iopub.status.busy": "2023-01-14T19:27:15.994763Z",
          "iopub.execute_input": "2023-01-14T19:27:15.995033Z",
          "iopub.status.idle": "2023-01-14T19:27:16.004567Z",
          "shell.execute_reply.started": "2023-01-14T19:27:15.994999Z",
          "shell.execute_reply": "2023-01-14T19:27:16.003692Z"
        },
        "trusted": true,
        "id": "qe5fUSnHu2eY"
      },
      "execution_count": 8,
      "outputs": []
    },
    {
      "cell_type": "code",
      "source": [
        "def transform_coqa_dataset_with_history(df:pd.DataFrame, max_history_depth:int=3) -> pd.DataFrame:\n",
        "    df[\"history\"] = \"\"\n",
        "    for i in range(1, max_history_depth+1):\n",
        "        df, count = append_shifted_question_to_coqa_dataset(df, i)\n",
        "        print(i, count)\n",
        "        if(count == 0):\n",
        "            break;\n",
        "    return df"
      ],
      "metadata": {
        "execution": {
          "iopub.status.busy": "2023-01-14T19:27:16.007753Z",
          "iopub.execute_input": "2023-01-14T19:27:16.008007Z",
          "iopub.status.idle": "2023-01-14T19:27:16.018355Z",
          "shell.execute_reply.started": "2023-01-14T19:27:16.007984Z",
          "shell.execute_reply": "2023-01-14T19:27:16.017379Z"
        },
        "trusted": true,
        "id": "ixnM9gZNu2eY"
      },
      "execution_count": 9,
      "outputs": []
    },
    {
      "cell_type": "code",
      "source": [
        "train_df = load_coqa_dataset(\"train.json\")\n",
        "train_df.count()"
      ],
      "metadata": {
        "id": "jsZrgF5d1mPX",
        "outputId": "30569783-3bb8-4270-c794-92374a91cbab",
        "execution": {
          "iopub.status.busy": "2023-01-14T19:27:16.020981Z",
          "iopub.execute_input": "2023-01-14T19:27:16.021753Z",
          "iopub.status.idle": "2023-01-14T19:27:22.418630Z",
          "shell.execute_reply.started": "2023-01-14T19:27:16.021727Z",
          "shell.execute_reply": "2023-01-14T19:27:22.417721Z"
        },
        "trusted": true,
        "colab": {
          "base_uri": "https://localhost:8080/"
        }
      },
      "execution_count": 10,
      "outputs": [
        {
          "output_type": "stream",
          "name": "stdout",
          "text": [
            "7199 stories / 20 questions in the first row\n",
            "6605 distinct stories\n",
            "5 distinct sources: Index(['wikipedia', 'cnn', 'gutenberg', 'race', 'mctest'], dtype='object')\n",
            "(107276, 5) question-answer pairs x columns\n",
            "First row: ['0' '0' 'When was the Vat formally opened?'\n",
            " 'It was formally established in 1475' 'Formally established in 1475']\n"
          ]
        },
        {
          "output_type": "execute_result",
          "data": {
            "text/plain": [
              "source    107276\n",
              "p         107276\n",
              "q         107276\n",
              "a         107276\n",
              "span      107276\n",
              "dtype: int64"
            ]
          },
          "metadata": {},
          "execution_count": 10
        }
      ]
    },
    {
      "cell_type": "code",
      "source": [
        "df2 = transform_coqa_dataset_with_history(train_df.head(50))\n",
        "df2.to_csv(\"x.csv\")\n",
        "df2"
      ],
      "metadata": {
        "execution": {
          "iopub.status.busy": "2023-01-14T19:27:22.421497Z",
          "iopub.execute_input": "2023-01-14T19:27:22.422340Z",
          "iopub.status.idle": "2023-01-14T19:27:22.470558Z",
          "shell.execute_reply.started": "2023-01-14T19:27:22.422307Z",
          "shell.execute_reply": "2023-01-14T19:27:22.469594Z"
        },
        "trusted": true,
        "id": "4Bw-pMUTu2eZ",
        "outputId": "f066b406-37ca-41bd-e43f-97c60a0e27ac",
        "colab": {
          "base_uri": "https://localhost:8080/",
          "height": 1000
        }
      },
      "execution_count": 11,
      "outputs": [
        {
          "output_type": "stream",
          "name": "stdout",
          "text": [
            "1 46\n",
            "2 42\n",
            "3 38\n"
          ]
        },
        {
          "output_type": "stream",
          "name": "stderr",
          "text": [
            "<ipython-input-9-73f7155f9903>:2: SettingWithCopyWarning: \n",
            "A value is trying to be set on a copy of a slice from a DataFrame.\n",
            "Try using .loc[row_indexer,col_indexer] = value instead\n",
            "\n",
            "See the caveats in the documentation: https://pandas.pydata.org/pandas-docs/stable/user_guide/indexing.html#returning-a-view-versus-a-copy\n",
            "  df[\"history\"] = \"\"\n",
            "<ipython-input-8-c3f259388877>:6: SettingWithCopyWarning: \n",
            "A value is trying to be set on a copy of a slice from a DataFrame.\n",
            "Try using .loc[row_indexer,col_indexer] = value instead\n",
            "\n",
            "See the caveats in the documentation: https://pandas.pydata.org/pandas-docs/stable/user_guide/indexing.html#returning-a-view-versus-a-copy\n",
            "  df[\"history\"] = np.where(history_mask, history_series, df[\"history\"])\n"
          ]
        },
        {
          "output_type": "execute_result",
          "data": {
            "text/plain": [
              "       source                                                  p  \\\n",
              "0   wikipedia  The Vatican Apostolic Library (), more commonl...   \n",
              "1   wikipedia  The Vatican Apostolic Library (), more commonl...   \n",
              "2   wikipedia  The Vatican Apostolic Library (), more commonl...   \n",
              "3   wikipedia  The Vatican Apostolic Library (), more commonl...   \n",
              "4   wikipedia  The Vatican Apostolic Library (), more commonl...   \n",
              "5   wikipedia  The Vatican Apostolic Library (), more commonl...   \n",
              "6   wikipedia  The Vatican Apostolic Library (), more commonl...   \n",
              "7   wikipedia  The Vatican Apostolic Library (), more commonl...   \n",
              "8   wikipedia  The Vatican Apostolic Library (), more commonl...   \n",
              "9   wikipedia  The Vatican Apostolic Library (), more commonl...   \n",
              "10  wikipedia  The Vatican Apostolic Library (), more commonl...   \n",
              "11  wikipedia  The Vatican Apostolic Library (), more commonl...   \n",
              "12  wikipedia  The Vatican Apostolic Library (), more commonl...   \n",
              "13  wikipedia  The Vatican Apostolic Library (), more commonl...   \n",
              "14  wikipedia  The Vatican Apostolic Library (), more commonl...   \n",
              "15  wikipedia  The Vatican Apostolic Library (), more commonl...   \n",
              "16  wikipedia  The Vatican Apostolic Library (), more commonl...   \n",
              "17  wikipedia  The Vatican Apostolic Library (), more commonl...   \n",
              "18  wikipedia  The Vatican Apostolic Library (), more commonl...   \n",
              "19        cnn  New York (CNN) -- More than 80 Michael Jackson...   \n",
              "20        cnn  New York (CNN) -- More than 80 Michael Jackson...   \n",
              "21        cnn  New York (CNN) -- More than 80 Michael Jackson...   \n",
              "22        cnn  New York (CNN) -- More than 80 Michael Jackson...   \n",
              "23        cnn  New York (CNN) -- More than 80 Michael Jackson...   \n",
              "24  gutenberg  CHAPTER VII. THE DAUGHTER OF WITHERSTEEN \\n\\n\"...   \n",
              "25  gutenberg  CHAPTER VII. THE DAUGHTER OF WITHERSTEEN \\n\\n\"...   \n",
              "26  gutenberg  CHAPTER VII. THE DAUGHTER OF WITHERSTEEN \\n\\n\"...   \n",
              "27  gutenberg  CHAPTER VII. THE DAUGHTER OF WITHERSTEEN \\n\\n\"...   \n",
              "28  gutenberg  CHAPTER VII. THE DAUGHTER OF WITHERSTEEN \\n\\n\"...   \n",
              "29  gutenberg  CHAPTER VII. THE DAUGHTER OF WITHERSTEEN \\n\\n\"...   \n",
              "30  gutenberg  CHAPTER VII. THE DAUGHTER OF WITHERSTEEN \\n\\n\"...   \n",
              "31  gutenberg  CHAPTER VII. THE DAUGHTER OF WITHERSTEEN \\n\\n\"...   \n",
              "32  gutenberg  CHAPTER VII. THE DAUGHTER OF WITHERSTEEN \\n\\n\"...   \n",
              "33  gutenberg  CHAPTER VII. THE DAUGHTER OF WITHERSTEEN \\n\\n\"...   \n",
              "34  gutenberg  CHAPTER VII. THE DAUGHTER OF WITHERSTEEN \\n\\n\"...   \n",
              "35  gutenberg  CHAPTER VII. THE DAUGHTER OF WITHERSTEEN \\n\\n\"...   \n",
              "36  gutenberg  CHAPTER VII. THE DAUGHTER OF WITHERSTEEN \\n\\n\"...   \n",
              "37  gutenberg  CHAPTER VII. THE DAUGHTER OF WITHERSTEEN \\n\\n\"...   \n",
              "38  gutenberg  CHAPTER VII. THE DAUGHTER OF WITHERSTEEN \\n\\n\"...   \n",
              "39  gutenberg  CHAPTER VII. THE DAUGHTER OF WITHERSTEEN \\n\\n\"...   \n",
              "40  gutenberg  CHAPTER VII. THE DAUGHTER OF WITHERSTEEN \\n\\n\"...   \n",
              "41  gutenberg  CHAPTER VII. THE DAUGHTER OF WITHERSTEEN \\n\\n\"...   \n",
              "42  gutenberg  CHAPTER VII. THE DAUGHTER OF WITHERSTEEN \\n\\n\"...   \n",
              "43  gutenberg  CHAPTER VII. THE DAUGHTER OF WITHERSTEEN \\n\\n\"...   \n",
              "44        cnn  (CNN) -- The longest-running holiday special s...   \n",
              "45        cnn  (CNN) -- The longest-running holiday special s...   \n",
              "46        cnn  (CNN) -- The longest-running holiday special s...   \n",
              "47        cnn  (CNN) -- The longest-running holiday special s...   \n",
              "48        cnn  (CNN) -- The longest-running holiday special s...   \n",
              "49        cnn  (CNN) -- The longest-running holiday special s...   \n",
              "\n",
              "                                                    q  \\\n",
              "0                   When was the Vat formally opened?   \n",
              "1                            what is the library for?   \n",
              "2                                  for what subjects?   \n",
              "3                                                and?   \n",
              "4                           what was started in 2014?   \n",
              "5                 how do scholars divide the library?   \n",
              "6                                           how many?   \n",
              "7               what is the official name of the Vat?   \n",
              "8                                        where is it?   \n",
              "9             how many printed books does it contain?   \n",
              "10  when were the Secret Archives moved from the r...   \n",
              "11      how many items are in this secret collection?   \n",
              "12                       Can anyone use this library?   \n",
              "13       what must be requested in person or by mail?   \n",
              "14                                     of what books?   \n",
              "15                    What is the Vat the library of?   \n",
              "16    How many books survived the Pre Lateran period?   \n",
              "17  what is the point of the project started in 2014?   \n",
              "18                              what will this allow?   \n",
              "19                        Where was the Auction held?   \n",
              "20                            How much did they make?   \n",
              "21                        How much did they expected?   \n",
              "22                          WHo buy the Jackson Glove   \n",
              "23             Where was the buyer of the glove from?   \n",
              "24                    What did Venters call Lassiter?   \n",
              "25              Who asked Lassiter to be their rider?   \n",
              "26                                      Did he agree?   \n",
              "27                               Why did she ask him?   \n",
              "28                          Did she tell him as much?   \n",
              "29                   What was she willing to give up?   \n",
              "30                            Where was Milly led to?   \n",
              "31                                Who took her there?   \n",
              "32                   Whose name would Jane not speak?   \n",
              "33            Did she allow herself to even think it?   \n",
              "34  What was Jane hoping Lassiter would become to ...   \n",
              "35                            Who was oppressing her?   \n",
              "36  What was she hoping she could keep from happen...   \n",
              "37                   Who had shouted Lassiter's name?   \n",
              "38                               Who did that affect?   \n",
              "39         Did Jane think she could control Lassiter?   \n",
              "40                                      Who is Bells?   \n",
              "41                           How did he get his name?   \n",
              "42             Was Lassiter impressed with the horse?   \n",
              "43               Did he want to take him for himself?   \n",
              "44                           Who is Rudolph's father?   \n",
              "45                         Why does Rudolph run away?   \n",
              "46  What makes him different from the other reindeer?   \n",
              "47              Who does he save during a snow storm?   \n",
              "48                            Does he save Christmas?   \n",
              "49                     What Island does he travel to?   \n",
              "\n",
              "                                                    a  \\\n",
              "0                 It was formally established in 1475   \n",
              "1                                            research   \n",
              "2                                    history, and law   \n",
              "3                    philosophy, science and theology   \n",
              "4                                          a  project   \n",
              "5                                        into periods   \n",
              "6                                                five   \n",
              "7                       The Vatican Apostolic Library   \n",
              "8                                     in Vatican City   \n",
              "9                                         1.1 million   \n",
              "10              at the beginning of the 17th century;   \n",
              "11                                            150,000   \n",
              "12  anyone who can document their qualifications a...   \n",
              "13                                        Photocopies   \n",
              "14         only books published between 1801 and 1990   \n",
              "15                                       the Holy See   \n",
              "16                               a handful of volumes   \n",
              "17                             digitising manuscripts   \n",
              "18                          them to be viewed online.   \n",
              "19                                     Hard Rock Cafe   \n",
              "20                                        $2 million.   \n",
              "21                                           $120,000   \n",
              "22                                         Hoffman Ma   \n",
              "23                                              Macau   \n",
              "24                                            gun-man   \n",
              "25                                               Jane   \n",
              "26                                                Yes   \n",
              "27  to take charge of her cattle and horse and ran...   \n",
              "28                                                 No   \n",
              "29                      Whatever the price to be paid   \n",
              "30                                        Cottonwoods   \n",
              "31                                              A man   \n",
              "32                                 this Mormon's name   \n",
              "33                                                 No   \n",
              "34               a helper, of a friend, of a champion   \n",
              "35                                      her churchmen   \n",
              "36                                     shedding blood   \n",
              "37                                            Venters   \n",
              "38                                   Tull and his men   \n",
              "39                                                 No   \n",
              "40                             One of her safe racers   \n",
              "41  because of the way he struck his iron shoes on...   \n",
              "42                                                Yes   \n",
              "43                                                Yes   \n",
              "44                                             Donner   \n",
              "45                            he felt like an outcast   \n",
              "46                                     his nose glows   \n",
              "47                                     his loved ones   \n",
              "48                                                yes   \n",
              "49                          the Island of Misfit Toys   \n",
              "\n",
              "                                                 span  \\\n",
              "0                        Formally established in 1475   \n",
              "1            he Vatican Library is a research library   \n",
              "2   Vatican Library is a research library for hist...   \n",
              "3   Vatican Library is a research library for hist...   \n",
              "4   March 2014, the Vatican Library began an initi...   \n",
              "5   Scholars have traditionally divided the histor...   \n",
              "6   Scholars have traditionally divided the histor...   \n",
              "7   Vatican Apostolic Library (), more commonly ca...   \n",
              "8   is the library of the Holy See, located in Vat...   \n",
              "9    It has 75,000 codices from throughout history...   \n",
              "10  atican Secret Archives were separated from the...   \n",
              "11   Vatican Secret Archives were separated from t...   \n",
              "12   The Vatican Library is open to anyone who can...   \n",
              "13  Photocopies for private study of pages from bo...   \n",
              "14  hotocopies for private study of pages from boo...   \n",
              "15    simply the Vat, is the library of the Holy See,   \n",
              "16  Pre-Lateran period, comprising the initial day...   \n",
              "17  Vatican Library began an initial four-year pro...   \n",
              "18         manuscripts, to be made available online.    \n",
              "19          Hard Rock Cafe in New York's Times Square   \n",
              "20                     reaping a total $2 million. \\n   \n",
              "21   pre-sale expectations of only $120,000 in sal...   \n",
              "22  Hoffman Ma, who bought the glove on behalf of ...   \n",
              "23                behalf of Ponte 16 Resort in Macau,   \n",
              "24            this gun-man, as Venters had called him   \n",
              "25  \"Lassiter, will you be my rider?\" Jane had ask...   \n",
              "26                     \"I reckon so,\" he had replied.   \n",
              "27  She wanted him to take charge of her cattle an...   \n",
              "28  though she could not have spoken aloud all she...   \n",
              "29                      Whatever the price to be paid   \n",
              "30                      led Milly Erne to Cottonwoods   \n",
              "31      the man who had led Milly Erne to Cottonwoods   \n",
              "32                                 this Mormon's name   \n",
              "33                         she did not even think it.   \n",
              "34    the need of a helper, of a friend, of a champio   \n",
              "35  game of oppression her churchmen were waging a...   \n",
              "36        she could even keep him from shedding blood   \n",
              "37                   Venters shouted Lassiter's name.   \n",
              "38   the effect on Tull and his men when Venters s...   \n",
              "39  If she could not wholly control Lassiter, then...   \n",
              "40  One of her safe racers was a dark bay, and she...   \n",
              "41  she called him Bells because of the way he str...   \n",
              "42  When Jerd led out this slender, beautifully bu...   \n",
              "43  plainly weakening all the time in his determin...   \n",
              "44  Santa's reindeer Donner and his wife have a so...   \n",
              "45  He runs away after being made to feel an outcast    \n",
              "46   Rudolph, who has the distinction of a nose th...   \n",
              "47  Rudolph goes on to save his loved ones from th...   \n",
              "48  guides Santa through a blizzard that threatens...   \n",
              "49       After ending up on the Island of Misfit Toys   \n",
              "\n",
              "                                              history  \n",
              "0                                                      \n",
              "1   When was the Vat formally opened? It was forma...  \n",
              "2   When was the Vat formally opened? It was forma...  \n",
              "3   When was the Vat formally opened? It was forma...  \n",
              "4   what is the library for? research. for what su...  \n",
              "5   for what subjects? history, and law. and? phil...  \n",
              "6   and? philosophy, science and theology. what wa...  \n",
              "7   what was started in 2014? a  project. how do s...  \n",
              "8   how do scholars divide the library? into perio...  \n",
              "9   how many? five. what is the official name of t...  \n",
              "10  what is the official name of the Vat? The Vati...  \n",
              "11  where is it? in Vatican City. how many printed...  \n",
              "12  how many printed books does it contain? 1.1 mi...  \n",
              "13  when were the Secret Archives moved from the r...  \n",
              "14  how many items are in this secret collection? ...  \n",
              "15  Can anyone use this library? anyone who can do...  \n",
              "16  what must be requested in person or by mail? P...  \n",
              "17  of what books? only books published between 18...  \n",
              "18  What is the Vat the library of? the Holy See. ...  \n",
              "19                                                     \n",
              "20       Where was the Auction held? Hard Rock Cafe.   \n",
              "21  Where was the Auction held? Hard Rock Cafe. Ho...  \n",
              "22  Where was the Auction held? Hard Rock Cafe. Ho...  \n",
              "23  How much did they make? $2 million.. How much ...  \n",
              "24                                                     \n",
              "25          What did Venters call Lassiter? gun-man.   \n",
              "26  What did Venters call Lassiter? gun-man. Who a...  \n",
              "27  What did Venters call Lassiter? gun-man. Who a...  \n",
              "28  Who asked Lassiter to be their rider? Jane. Di...  \n",
              "29  Did he agree? Yes. Why did she ask him? to tak...  \n",
              "30  Why did she ask him? to take charge of her cat...  \n",
              "31  Did she tell him as much? No. What was she wil...  \n",
              "32  What was she willing to give up? Whatever the ...  \n",
              "33  Where was Milly led to? Cottonwoods. Who took ...  \n",
              "34  Who took her there? A man. Whose name would Ja...  \n",
              "35  Whose name would Jane not speak? this Mormon's...  \n",
              "36  Did she allow herself to even think it? No. Wh...  \n",
              "37  What was Jane hoping Lassiter would become to ...  \n",
              "38  Who was oppressing her? her churchmen. What wa...  \n",
              "39  What was she hoping she could keep from happen...  \n",
              "40  Who had shouted Lassiter's name? Venters. Who ...  \n",
              "41  Who did that affect? Tull and his men. Did Jan...  \n",
              "42  Did Jane think she could control Lassiter? No....  \n",
              "43  Who is Bells? One of her safe racers. How did ...  \n",
              "44                                                     \n",
              "45                  Who is Rudolph's father? Donner.   \n",
              "46  Who is Rudolph's father? Donner. Why does Rudo...  \n",
              "47  Who is Rudolph's father? Donner. Why does Rudo...  \n",
              "48  Why does Rudolph run away? he felt like an out...  \n",
              "49  What makes him different from the other reinde...  "
            ],
            "text/html": [
              "\n",
              "  <div id=\"df-7fe8dc3b-27c6-4cff-ab9d-7a3e1d51598f\">\n",
              "    <div class=\"colab-df-container\">\n",
              "      <div>\n",
              "<style scoped>\n",
              "    .dataframe tbody tr th:only-of-type {\n",
              "        vertical-align: middle;\n",
              "    }\n",
              "\n",
              "    .dataframe tbody tr th {\n",
              "        vertical-align: top;\n",
              "    }\n",
              "\n",
              "    .dataframe thead th {\n",
              "        text-align: right;\n",
              "    }\n",
              "</style>\n",
              "<table border=\"1\" class=\"dataframe\">\n",
              "  <thead>\n",
              "    <tr style=\"text-align: right;\">\n",
              "      <th></th>\n",
              "      <th>source</th>\n",
              "      <th>p</th>\n",
              "      <th>q</th>\n",
              "      <th>a</th>\n",
              "      <th>span</th>\n",
              "      <th>history</th>\n",
              "    </tr>\n",
              "  </thead>\n",
              "  <tbody>\n",
              "    <tr>\n",
              "      <th>0</th>\n",
              "      <td>wikipedia</td>\n",
              "      <td>The Vatican Apostolic Library (), more commonl...</td>\n",
              "      <td>When was the Vat formally opened?</td>\n",
              "      <td>It was formally established in 1475</td>\n",
              "      <td>Formally established in 1475</td>\n",
              "      <td></td>\n",
              "    </tr>\n",
              "    <tr>\n",
              "      <th>1</th>\n",
              "      <td>wikipedia</td>\n",
              "      <td>The Vatican Apostolic Library (), more commonl...</td>\n",
              "      <td>what is the library for?</td>\n",
              "      <td>research</td>\n",
              "      <td>he Vatican Library is a research library</td>\n",
              "      <td>When was the Vat formally opened? It was forma...</td>\n",
              "    </tr>\n",
              "    <tr>\n",
              "      <th>2</th>\n",
              "      <td>wikipedia</td>\n",
              "      <td>The Vatican Apostolic Library (), more commonl...</td>\n",
              "      <td>for what subjects?</td>\n",
              "      <td>history, and law</td>\n",
              "      <td>Vatican Library is a research library for hist...</td>\n",
              "      <td>When was the Vat formally opened? It was forma...</td>\n",
              "    </tr>\n",
              "    <tr>\n",
              "      <th>3</th>\n",
              "      <td>wikipedia</td>\n",
              "      <td>The Vatican Apostolic Library (), more commonl...</td>\n",
              "      <td>and?</td>\n",
              "      <td>philosophy, science and theology</td>\n",
              "      <td>Vatican Library is a research library for hist...</td>\n",
              "      <td>When was the Vat formally opened? It was forma...</td>\n",
              "    </tr>\n",
              "    <tr>\n",
              "      <th>4</th>\n",
              "      <td>wikipedia</td>\n",
              "      <td>The Vatican Apostolic Library (), more commonl...</td>\n",
              "      <td>what was started in 2014?</td>\n",
              "      <td>a  project</td>\n",
              "      <td>March 2014, the Vatican Library began an initi...</td>\n",
              "      <td>what is the library for? research. for what su...</td>\n",
              "    </tr>\n",
              "    <tr>\n",
              "      <th>5</th>\n",
              "      <td>wikipedia</td>\n",
              "      <td>The Vatican Apostolic Library (), more commonl...</td>\n",
              "      <td>how do scholars divide the library?</td>\n",
              "      <td>into periods</td>\n",
              "      <td>Scholars have traditionally divided the histor...</td>\n",
              "      <td>for what subjects? history, and law. and? phil...</td>\n",
              "    </tr>\n",
              "    <tr>\n",
              "      <th>6</th>\n",
              "      <td>wikipedia</td>\n",
              "      <td>The Vatican Apostolic Library (), more commonl...</td>\n",
              "      <td>how many?</td>\n",
              "      <td>five</td>\n",
              "      <td>Scholars have traditionally divided the histor...</td>\n",
              "      <td>and? philosophy, science and theology. what wa...</td>\n",
              "    </tr>\n",
              "    <tr>\n",
              "      <th>7</th>\n",
              "      <td>wikipedia</td>\n",
              "      <td>The Vatican Apostolic Library (), more commonl...</td>\n",
              "      <td>what is the official name of the Vat?</td>\n",
              "      <td>The Vatican Apostolic Library</td>\n",
              "      <td>Vatican Apostolic Library (), more commonly ca...</td>\n",
              "      <td>what was started in 2014? a  project. how do s...</td>\n",
              "    </tr>\n",
              "    <tr>\n",
              "      <th>8</th>\n",
              "      <td>wikipedia</td>\n",
              "      <td>The Vatican Apostolic Library (), more commonl...</td>\n",
              "      <td>where is it?</td>\n",
              "      <td>in Vatican City</td>\n",
              "      <td>is the library of the Holy See, located in Vat...</td>\n",
              "      <td>how do scholars divide the library? into perio...</td>\n",
              "    </tr>\n",
              "    <tr>\n",
              "      <th>9</th>\n",
              "      <td>wikipedia</td>\n",
              "      <td>The Vatican Apostolic Library (), more commonl...</td>\n",
              "      <td>how many printed books does it contain?</td>\n",
              "      <td>1.1 million</td>\n",
              "      <td>It has 75,000 codices from throughout history...</td>\n",
              "      <td>how many? five. what is the official name of t...</td>\n",
              "    </tr>\n",
              "    <tr>\n",
              "      <th>10</th>\n",
              "      <td>wikipedia</td>\n",
              "      <td>The Vatican Apostolic Library (), more commonl...</td>\n",
              "      <td>when were the Secret Archives moved from the r...</td>\n",
              "      <td>at the beginning of the 17th century;</td>\n",
              "      <td>atican Secret Archives were separated from the...</td>\n",
              "      <td>what is the official name of the Vat? The Vati...</td>\n",
              "    </tr>\n",
              "    <tr>\n",
              "      <th>11</th>\n",
              "      <td>wikipedia</td>\n",
              "      <td>The Vatican Apostolic Library (), more commonl...</td>\n",
              "      <td>how many items are in this secret collection?</td>\n",
              "      <td>150,000</td>\n",
              "      <td>Vatican Secret Archives were separated from t...</td>\n",
              "      <td>where is it? in Vatican City. how many printed...</td>\n",
              "    </tr>\n",
              "    <tr>\n",
              "      <th>12</th>\n",
              "      <td>wikipedia</td>\n",
              "      <td>The Vatican Apostolic Library (), more commonl...</td>\n",
              "      <td>Can anyone use this library?</td>\n",
              "      <td>anyone who can document their qualifications a...</td>\n",
              "      <td>The Vatican Library is open to anyone who can...</td>\n",
              "      <td>how many printed books does it contain? 1.1 mi...</td>\n",
              "    </tr>\n",
              "    <tr>\n",
              "      <th>13</th>\n",
              "      <td>wikipedia</td>\n",
              "      <td>The Vatican Apostolic Library (), more commonl...</td>\n",
              "      <td>what must be requested in person or by mail?</td>\n",
              "      <td>Photocopies</td>\n",
              "      <td>Photocopies for private study of pages from bo...</td>\n",
              "      <td>when were the Secret Archives moved from the r...</td>\n",
              "    </tr>\n",
              "    <tr>\n",
              "      <th>14</th>\n",
              "      <td>wikipedia</td>\n",
              "      <td>The Vatican Apostolic Library (), more commonl...</td>\n",
              "      <td>of what books?</td>\n",
              "      <td>only books published between 1801 and 1990</td>\n",
              "      <td>hotocopies for private study of pages from boo...</td>\n",
              "      <td>how many items are in this secret collection? ...</td>\n",
              "    </tr>\n",
              "    <tr>\n",
              "      <th>15</th>\n",
              "      <td>wikipedia</td>\n",
              "      <td>The Vatican Apostolic Library (), more commonl...</td>\n",
              "      <td>What is the Vat the library of?</td>\n",
              "      <td>the Holy See</td>\n",
              "      <td>simply the Vat, is the library of the Holy See,</td>\n",
              "      <td>Can anyone use this library? anyone who can do...</td>\n",
              "    </tr>\n",
              "    <tr>\n",
              "      <th>16</th>\n",
              "      <td>wikipedia</td>\n",
              "      <td>The Vatican Apostolic Library (), more commonl...</td>\n",
              "      <td>How many books survived the Pre Lateran period?</td>\n",
              "      <td>a handful of volumes</td>\n",
              "      <td>Pre-Lateran period, comprising the initial day...</td>\n",
              "      <td>what must be requested in person or by mail? P...</td>\n",
              "    </tr>\n",
              "    <tr>\n",
              "      <th>17</th>\n",
              "      <td>wikipedia</td>\n",
              "      <td>The Vatican Apostolic Library (), more commonl...</td>\n",
              "      <td>what is the point of the project started in 2014?</td>\n",
              "      <td>digitising manuscripts</td>\n",
              "      <td>Vatican Library began an initial four-year pro...</td>\n",
              "      <td>of what books? only books published between 18...</td>\n",
              "    </tr>\n",
              "    <tr>\n",
              "      <th>18</th>\n",
              "      <td>wikipedia</td>\n",
              "      <td>The Vatican Apostolic Library (), more commonl...</td>\n",
              "      <td>what will this allow?</td>\n",
              "      <td>them to be viewed online.</td>\n",
              "      <td>manuscripts, to be made available online.</td>\n",
              "      <td>What is the Vat the library of? the Holy See. ...</td>\n",
              "    </tr>\n",
              "    <tr>\n",
              "      <th>19</th>\n",
              "      <td>cnn</td>\n",
              "      <td>New York (CNN) -- More than 80 Michael Jackson...</td>\n",
              "      <td>Where was the Auction held?</td>\n",
              "      <td>Hard Rock Cafe</td>\n",
              "      <td>Hard Rock Cafe in New York's Times Square</td>\n",
              "      <td></td>\n",
              "    </tr>\n",
              "    <tr>\n",
              "      <th>20</th>\n",
              "      <td>cnn</td>\n",
              "      <td>New York (CNN) -- More than 80 Michael Jackson...</td>\n",
              "      <td>How much did they make?</td>\n",
              "      <td>$2 million.</td>\n",
              "      <td>reaping a total $2 million. \\n</td>\n",
              "      <td>Where was the Auction held? Hard Rock Cafe.</td>\n",
              "    </tr>\n",
              "    <tr>\n",
              "      <th>21</th>\n",
              "      <td>cnn</td>\n",
              "      <td>New York (CNN) -- More than 80 Michael Jackson...</td>\n",
              "      <td>How much did they expected?</td>\n",
              "      <td>$120,000</td>\n",
              "      <td>pre-sale expectations of only $120,000 in sal...</td>\n",
              "      <td>Where was the Auction held? Hard Rock Cafe. Ho...</td>\n",
              "    </tr>\n",
              "    <tr>\n",
              "      <th>22</th>\n",
              "      <td>cnn</td>\n",
              "      <td>New York (CNN) -- More than 80 Michael Jackson...</td>\n",
              "      <td>WHo buy the Jackson Glove</td>\n",
              "      <td>Hoffman Ma</td>\n",
              "      <td>Hoffman Ma, who bought the glove on behalf of ...</td>\n",
              "      <td>Where was the Auction held? Hard Rock Cafe. Ho...</td>\n",
              "    </tr>\n",
              "    <tr>\n",
              "      <th>23</th>\n",
              "      <td>cnn</td>\n",
              "      <td>New York (CNN) -- More than 80 Michael Jackson...</td>\n",
              "      <td>Where was the buyer of the glove from?</td>\n",
              "      <td>Macau</td>\n",
              "      <td>behalf of Ponte 16 Resort in Macau,</td>\n",
              "      <td>How much did they make? $2 million.. How much ...</td>\n",
              "    </tr>\n",
              "    <tr>\n",
              "      <th>24</th>\n",
              "      <td>gutenberg</td>\n",
              "      <td>CHAPTER VII. THE DAUGHTER OF WITHERSTEEN \\n\\n\"...</td>\n",
              "      <td>What did Venters call Lassiter?</td>\n",
              "      <td>gun-man</td>\n",
              "      <td>this gun-man, as Venters had called him</td>\n",
              "      <td></td>\n",
              "    </tr>\n",
              "    <tr>\n",
              "      <th>25</th>\n",
              "      <td>gutenberg</td>\n",
              "      <td>CHAPTER VII. THE DAUGHTER OF WITHERSTEEN \\n\\n\"...</td>\n",
              "      <td>Who asked Lassiter to be their rider?</td>\n",
              "      <td>Jane</td>\n",
              "      <td>\"Lassiter, will you be my rider?\" Jane had ask...</td>\n",
              "      <td>What did Venters call Lassiter? gun-man.</td>\n",
              "    </tr>\n",
              "    <tr>\n",
              "      <th>26</th>\n",
              "      <td>gutenberg</td>\n",
              "      <td>CHAPTER VII. THE DAUGHTER OF WITHERSTEEN \\n\\n\"...</td>\n",
              "      <td>Did he agree?</td>\n",
              "      <td>Yes</td>\n",
              "      <td>\"I reckon so,\" he had replied.</td>\n",
              "      <td>What did Venters call Lassiter? gun-man. Who a...</td>\n",
              "    </tr>\n",
              "    <tr>\n",
              "      <th>27</th>\n",
              "      <td>gutenberg</td>\n",
              "      <td>CHAPTER VII. THE DAUGHTER OF WITHERSTEEN \\n\\n\"...</td>\n",
              "      <td>Why did she ask him?</td>\n",
              "      <td>to take charge of her cattle and horse and ran...</td>\n",
              "      <td>She wanted him to take charge of her cattle an...</td>\n",
              "      <td>What did Venters call Lassiter? gun-man. Who a...</td>\n",
              "    </tr>\n",
              "    <tr>\n",
              "      <th>28</th>\n",
              "      <td>gutenberg</td>\n",
              "      <td>CHAPTER VII. THE DAUGHTER OF WITHERSTEEN \\n\\n\"...</td>\n",
              "      <td>Did she tell him as much?</td>\n",
              "      <td>No</td>\n",
              "      <td>though she could not have spoken aloud all she...</td>\n",
              "      <td>Who asked Lassiter to be their rider? Jane. Di...</td>\n",
              "    </tr>\n",
              "    <tr>\n",
              "      <th>29</th>\n",
              "      <td>gutenberg</td>\n",
              "      <td>CHAPTER VII. THE DAUGHTER OF WITHERSTEEN \\n\\n\"...</td>\n",
              "      <td>What was she willing to give up?</td>\n",
              "      <td>Whatever the price to be paid</td>\n",
              "      <td>Whatever the price to be paid</td>\n",
              "      <td>Did he agree? Yes. Why did she ask him? to tak...</td>\n",
              "    </tr>\n",
              "    <tr>\n",
              "      <th>30</th>\n",
              "      <td>gutenberg</td>\n",
              "      <td>CHAPTER VII. THE DAUGHTER OF WITHERSTEEN \\n\\n\"...</td>\n",
              "      <td>Where was Milly led to?</td>\n",
              "      <td>Cottonwoods</td>\n",
              "      <td>led Milly Erne to Cottonwoods</td>\n",
              "      <td>Why did she ask him? to take charge of her cat...</td>\n",
              "    </tr>\n",
              "    <tr>\n",
              "      <th>31</th>\n",
              "      <td>gutenberg</td>\n",
              "      <td>CHAPTER VII. THE DAUGHTER OF WITHERSTEEN \\n\\n\"...</td>\n",
              "      <td>Who took her there?</td>\n",
              "      <td>A man</td>\n",
              "      <td>the man who had led Milly Erne to Cottonwoods</td>\n",
              "      <td>Did she tell him as much? No. What was she wil...</td>\n",
              "    </tr>\n",
              "    <tr>\n",
              "      <th>32</th>\n",
              "      <td>gutenberg</td>\n",
              "      <td>CHAPTER VII. THE DAUGHTER OF WITHERSTEEN \\n\\n\"...</td>\n",
              "      <td>Whose name would Jane not speak?</td>\n",
              "      <td>this Mormon's name</td>\n",
              "      <td>this Mormon's name</td>\n",
              "      <td>What was she willing to give up? Whatever the ...</td>\n",
              "    </tr>\n",
              "    <tr>\n",
              "      <th>33</th>\n",
              "      <td>gutenberg</td>\n",
              "      <td>CHAPTER VII. THE DAUGHTER OF WITHERSTEEN \\n\\n\"...</td>\n",
              "      <td>Did she allow herself to even think it?</td>\n",
              "      <td>No</td>\n",
              "      <td>she did not even think it.</td>\n",
              "      <td>Where was Milly led to? Cottonwoods. Who took ...</td>\n",
              "    </tr>\n",
              "    <tr>\n",
              "      <th>34</th>\n",
              "      <td>gutenberg</td>\n",
              "      <td>CHAPTER VII. THE DAUGHTER OF WITHERSTEEN \\n\\n\"...</td>\n",
              "      <td>What was Jane hoping Lassiter would become to ...</td>\n",
              "      <td>a helper, of a friend, of a champion</td>\n",
              "      <td>the need of a helper, of a friend, of a champio</td>\n",
              "      <td>Who took her there? A man. Whose name would Ja...</td>\n",
              "    </tr>\n",
              "    <tr>\n",
              "      <th>35</th>\n",
              "      <td>gutenberg</td>\n",
              "      <td>CHAPTER VII. THE DAUGHTER OF WITHERSTEEN \\n\\n\"...</td>\n",
              "      <td>Who was oppressing her?</td>\n",
              "      <td>her churchmen</td>\n",
              "      <td>game of oppression her churchmen were waging a...</td>\n",
              "      <td>Whose name would Jane not speak? this Mormon's...</td>\n",
              "    </tr>\n",
              "    <tr>\n",
              "      <th>36</th>\n",
              "      <td>gutenberg</td>\n",
              "      <td>CHAPTER VII. THE DAUGHTER OF WITHERSTEEN \\n\\n\"...</td>\n",
              "      <td>What was she hoping she could keep from happen...</td>\n",
              "      <td>shedding blood</td>\n",
              "      <td>she could even keep him from shedding blood</td>\n",
              "      <td>Did she allow herself to even think it? No. Wh...</td>\n",
              "    </tr>\n",
              "    <tr>\n",
              "      <th>37</th>\n",
              "      <td>gutenberg</td>\n",
              "      <td>CHAPTER VII. THE DAUGHTER OF WITHERSTEEN \\n\\n\"...</td>\n",
              "      <td>Who had shouted Lassiter's name?</td>\n",
              "      <td>Venters</td>\n",
              "      <td>Venters shouted Lassiter's name.</td>\n",
              "      <td>What was Jane hoping Lassiter would become to ...</td>\n",
              "    </tr>\n",
              "    <tr>\n",
              "      <th>38</th>\n",
              "      <td>gutenberg</td>\n",
              "      <td>CHAPTER VII. THE DAUGHTER OF WITHERSTEEN \\n\\n\"...</td>\n",
              "      <td>Who did that affect?</td>\n",
              "      <td>Tull and his men</td>\n",
              "      <td>the effect on Tull and his men when Venters s...</td>\n",
              "      <td>Who was oppressing her? her churchmen. What wa...</td>\n",
              "    </tr>\n",
              "    <tr>\n",
              "      <th>39</th>\n",
              "      <td>gutenberg</td>\n",
              "      <td>CHAPTER VII. THE DAUGHTER OF WITHERSTEEN \\n\\n\"...</td>\n",
              "      <td>Did Jane think she could control Lassiter?</td>\n",
              "      <td>No</td>\n",
              "      <td>If she could not wholly control Lassiter, then...</td>\n",
              "      <td>What was she hoping she could keep from happen...</td>\n",
              "    </tr>\n",
              "    <tr>\n",
              "      <th>40</th>\n",
              "      <td>gutenberg</td>\n",
              "      <td>CHAPTER VII. THE DAUGHTER OF WITHERSTEEN \\n\\n\"...</td>\n",
              "      <td>Who is Bells?</td>\n",
              "      <td>One of her safe racers</td>\n",
              "      <td>One of her safe racers was a dark bay, and she...</td>\n",
              "      <td>Who had shouted Lassiter's name? Venters. Who ...</td>\n",
              "    </tr>\n",
              "    <tr>\n",
              "      <th>41</th>\n",
              "      <td>gutenberg</td>\n",
              "      <td>CHAPTER VII. THE DAUGHTER OF WITHERSTEEN \\n\\n\"...</td>\n",
              "      <td>How did he get his name?</td>\n",
              "      <td>because of the way he struck his iron shoes on...</td>\n",
              "      <td>she called him Bells because of the way he str...</td>\n",
              "      <td>Who did that affect? Tull and his men. Did Jan...</td>\n",
              "    </tr>\n",
              "    <tr>\n",
              "      <th>42</th>\n",
              "      <td>gutenberg</td>\n",
              "      <td>CHAPTER VII. THE DAUGHTER OF WITHERSTEEN \\n\\n\"...</td>\n",
              "      <td>Was Lassiter impressed with the horse?</td>\n",
              "      <td>Yes</td>\n",
              "      <td>When Jerd led out this slender, beautifully bu...</td>\n",
              "      <td>Did Jane think she could control Lassiter? No....</td>\n",
              "    </tr>\n",
              "    <tr>\n",
              "      <th>43</th>\n",
              "      <td>gutenberg</td>\n",
              "      <td>CHAPTER VII. THE DAUGHTER OF WITHERSTEEN \\n\\n\"...</td>\n",
              "      <td>Did he want to take him for himself?</td>\n",
              "      <td>Yes</td>\n",
              "      <td>plainly weakening all the time in his determin...</td>\n",
              "      <td>Who is Bells? One of her safe racers. How did ...</td>\n",
              "    </tr>\n",
              "    <tr>\n",
              "      <th>44</th>\n",
              "      <td>cnn</td>\n",
              "      <td>(CNN) -- The longest-running holiday special s...</td>\n",
              "      <td>Who is Rudolph's father?</td>\n",
              "      <td>Donner</td>\n",
              "      <td>Santa's reindeer Donner and his wife have a so...</td>\n",
              "      <td></td>\n",
              "    </tr>\n",
              "    <tr>\n",
              "      <th>45</th>\n",
              "      <td>cnn</td>\n",
              "      <td>(CNN) -- The longest-running holiday special s...</td>\n",
              "      <td>Why does Rudolph run away?</td>\n",
              "      <td>he felt like an outcast</td>\n",
              "      <td>He runs away after being made to feel an outcast</td>\n",
              "      <td>Who is Rudolph's father? Donner.</td>\n",
              "    </tr>\n",
              "    <tr>\n",
              "      <th>46</th>\n",
              "      <td>cnn</td>\n",
              "      <td>(CNN) -- The longest-running holiday special s...</td>\n",
              "      <td>What makes him different from the other reindeer?</td>\n",
              "      <td>his nose glows</td>\n",
              "      <td>Rudolph, who has the distinction of a nose th...</td>\n",
              "      <td>Who is Rudolph's father? Donner. Why does Rudo...</td>\n",
              "    </tr>\n",
              "    <tr>\n",
              "      <th>47</th>\n",
              "      <td>cnn</td>\n",
              "      <td>(CNN) -- The longest-running holiday special s...</td>\n",
              "      <td>Who does he save during a snow storm?</td>\n",
              "      <td>his loved ones</td>\n",
              "      <td>Rudolph goes on to save his loved ones from th...</td>\n",
              "      <td>Who is Rudolph's father? Donner. Why does Rudo...</td>\n",
              "    </tr>\n",
              "    <tr>\n",
              "      <th>48</th>\n",
              "      <td>cnn</td>\n",
              "      <td>(CNN) -- The longest-running holiday special s...</td>\n",
              "      <td>Does he save Christmas?</td>\n",
              "      <td>yes</td>\n",
              "      <td>guides Santa through a blizzard that threatens...</td>\n",
              "      <td>Why does Rudolph run away? he felt like an out...</td>\n",
              "    </tr>\n",
              "    <tr>\n",
              "      <th>49</th>\n",
              "      <td>cnn</td>\n",
              "      <td>(CNN) -- The longest-running holiday special s...</td>\n",
              "      <td>What Island does he travel to?</td>\n",
              "      <td>the Island of Misfit Toys</td>\n",
              "      <td>After ending up on the Island of Misfit Toys</td>\n",
              "      <td>What makes him different from the other reinde...</td>\n",
              "    </tr>\n",
              "  </tbody>\n",
              "</table>\n",
              "</div>\n",
              "      <button class=\"colab-df-convert\" onclick=\"convertToInteractive('df-7fe8dc3b-27c6-4cff-ab9d-7a3e1d51598f')\"\n",
              "              title=\"Convert this dataframe to an interactive table.\"\n",
              "              style=\"display:none;\">\n",
              "        \n",
              "  <svg xmlns=\"http://www.w3.org/2000/svg\" height=\"24px\"viewBox=\"0 0 24 24\"\n",
              "       width=\"24px\">\n",
              "    <path d=\"M0 0h24v24H0V0z\" fill=\"none\"/>\n",
              "    <path d=\"M18.56 5.44l.94 2.06.94-2.06 2.06-.94-2.06-.94-.94-2.06-.94 2.06-2.06.94zm-11 1L8.5 8.5l.94-2.06 2.06-.94-2.06-.94L8.5 2.5l-.94 2.06-2.06.94zm10 10l.94 2.06.94-2.06 2.06-.94-2.06-.94-.94-2.06-.94 2.06-2.06.94z\"/><path d=\"M17.41 7.96l-1.37-1.37c-.4-.4-.92-.59-1.43-.59-.52 0-1.04.2-1.43.59L10.3 9.45l-7.72 7.72c-.78.78-.78 2.05 0 2.83L4 21.41c.39.39.9.59 1.41.59.51 0 1.02-.2 1.41-.59l7.78-7.78 2.81-2.81c.8-.78.8-2.07 0-2.86zM5.41 20L4 18.59l7.72-7.72 1.47 1.35L5.41 20z\"/>\n",
              "  </svg>\n",
              "      </button>\n",
              "      \n",
              "  <style>\n",
              "    .colab-df-container {\n",
              "      display:flex;\n",
              "      flex-wrap:wrap;\n",
              "      gap: 12px;\n",
              "    }\n",
              "\n",
              "    .colab-df-convert {\n",
              "      background-color: #E8F0FE;\n",
              "      border: none;\n",
              "      border-radius: 50%;\n",
              "      cursor: pointer;\n",
              "      display: none;\n",
              "      fill: #1967D2;\n",
              "      height: 32px;\n",
              "      padding: 0 0 0 0;\n",
              "      width: 32px;\n",
              "    }\n",
              "\n",
              "    .colab-df-convert:hover {\n",
              "      background-color: #E2EBFA;\n",
              "      box-shadow: 0px 1px 2px rgba(60, 64, 67, 0.3), 0px 1px 3px 1px rgba(60, 64, 67, 0.15);\n",
              "      fill: #174EA6;\n",
              "    }\n",
              "\n",
              "    [theme=dark] .colab-df-convert {\n",
              "      background-color: #3B4455;\n",
              "      fill: #D2E3FC;\n",
              "    }\n",
              "\n",
              "    [theme=dark] .colab-df-convert:hover {\n",
              "      background-color: #434B5C;\n",
              "      box-shadow: 0px 1px 3px 1px rgba(0, 0, 0, 0.15);\n",
              "      filter: drop-shadow(0px 1px 2px rgba(0, 0, 0, 0.3));\n",
              "      fill: #FFFFFF;\n",
              "    }\n",
              "  </style>\n",
              "\n",
              "      <script>\n",
              "        const buttonEl =\n",
              "          document.querySelector('#df-7fe8dc3b-27c6-4cff-ab9d-7a3e1d51598f button.colab-df-convert');\n",
              "        buttonEl.style.display =\n",
              "          google.colab.kernel.accessAllowed ? 'block' : 'none';\n",
              "\n",
              "        async function convertToInteractive(key) {\n",
              "          const element = document.querySelector('#df-7fe8dc3b-27c6-4cff-ab9d-7a3e1d51598f');\n",
              "          const dataTable =\n",
              "            await google.colab.kernel.invokeFunction('convertToInteractive',\n",
              "                                                     [key], {});\n",
              "          if (!dataTable) return;\n",
              "\n",
              "          const docLinkHtml = 'Like what you see? Visit the ' +\n",
              "            '<a target=\"_blank\" href=https://colab.research.google.com/notebooks/data_table.ipynb>data table notebook</a>'\n",
              "            + ' to learn more about interactive tables.';\n",
              "          element.innerHTML = '';\n",
              "          dataTable['output_type'] = 'display_data';\n",
              "          await google.colab.output.renderOutput(dataTable, element);\n",
              "          const docLink = document.createElement('div');\n",
              "          docLink.innerHTML = docLinkHtml;\n",
              "          element.appendChild(docLink);\n",
              "        }\n",
              "      </script>\n",
              "    </div>\n",
              "  </div>\n",
              "  "
            ]
          },
          "metadata": {},
          "execution_count": 11
        }
      ]
    },
    {
      "cell_type": "code",
      "source": [
        "pd.unique(train_df[\"p\"]).size"
      ],
      "metadata": {
        "id": "lOQSe3Sc1mPY",
        "outputId": "0ab00246-6286-46fd-a015-07ea6b530fc8",
        "execution": {
          "iopub.status.busy": "2023-01-14T18:01:58.421000Z",
          "iopub.execute_input": "2023-01-14T18:01:58.421366Z",
          "iopub.status.idle": "2023-01-14T18:01:58.429161Z",
          "shell.execute_reply.started": "2023-01-14T18:01:58.421339Z",
          "shell.execute_reply": "2023-01-14T18:01:58.428187Z"
        },
        "trusted": true,
        "colab": {
          "base_uri": "https://localhost:8080/"
        }
      },
      "execution_count": 12,
      "outputs": [
        {
          "output_type": "execute_result",
          "data": {
            "text/plain": [
              "6605"
            ]
          },
          "metadata": {},
          "execution_count": 12
        }
      ]
    },
    {
      "cell_type": "code",
      "source": [
        "pd.unique(train_df[\"span\"]).size"
      ],
      "metadata": {
        "id": "WJaLGY_p1mPZ",
        "outputId": "8616bd71-35dd-4f70-dc7c-4175b3b9ecca",
        "execution": {
          "iopub.status.busy": "2023-01-14T18:01:58.430592Z",
          "iopub.execute_input": "2023-01-14T18:01:58.431456Z",
          "iopub.status.idle": "2023-01-14T18:01:58.467502Z",
          "shell.execute_reply.started": "2023-01-14T18:01:58.431419Z",
          "shell.execute_reply": "2023-01-14T18:01:58.466452Z"
        },
        "trusted": true,
        "colab": {
          "base_uri": "https://localhost:8080/"
        }
      },
      "execution_count": 13,
      "outputs": [
        {
          "output_type": "execute_result",
          "data": {
            "text/plain": [
              "99470"
            ]
          },
          "metadata": {},
          "execution_count": 13
        }
      ]
    },
    {
      "cell_type": "code",
      "source": [
        "pd.unique(train_df[\"source\"]).size"
      ],
      "metadata": {
        "id": "V_ml0A1b1mPZ",
        "outputId": "88a49828-ff24-4e27-cfd0-0b14cb6e8de2",
        "execution": {
          "iopub.status.busy": "2023-01-14T18:01:58.468805Z",
          "iopub.execute_input": "2023-01-14T18:01:58.469191Z",
          "iopub.status.idle": "2023-01-14T18:01:58.478021Z",
          "shell.execute_reply.started": "2023-01-14T18:01:58.469139Z",
          "shell.execute_reply": "2023-01-14T18:01:58.476843Z"
        },
        "trusted": true,
        "colab": {
          "base_uri": "https://localhost:8080/"
        }
      },
      "execution_count": 14,
      "outputs": [
        {
          "output_type": "execute_result",
          "data": {
            "text/plain": [
              "5"
            ]
          },
          "metadata": {},
          "execution_count": 14
        }
      ]
    },
    {
      "cell_type": "code",
      "source": [
        "train_df.head()"
      ],
      "metadata": {
        "id": "G9VjurfZ1mPZ",
        "outputId": "4ff04a41-29a8-4b0d-ed94-a037eef17830",
        "execution": {
          "iopub.status.busy": "2023-01-14T18:01:58.479825Z",
          "iopub.execute_input": "2023-01-14T18:01:58.480486Z",
          "iopub.status.idle": "2023-01-14T18:01:58.494445Z",
          "shell.execute_reply.started": "2023-01-14T18:01:58.480450Z",
          "shell.execute_reply": "2023-01-14T18:01:58.493448Z"
        },
        "trusted": true,
        "colab": {
          "base_uri": "https://localhost:8080/",
          "height": 337
        }
      },
      "execution_count": 15,
      "outputs": [
        {
          "output_type": "execute_result",
          "data": {
            "text/plain": [
              "      source                                                  p  \\\n",
              "0  wikipedia  The Vatican Apostolic Library (), more commonl...   \n",
              "1  wikipedia  The Vatican Apostolic Library (), more commonl...   \n",
              "2  wikipedia  The Vatican Apostolic Library (), more commonl...   \n",
              "3  wikipedia  The Vatican Apostolic Library (), more commonl...   \n",
              "4  wikipedia  The Vatican Apostolic Library (), more commonl...   \n",
              "\n",
              "                                   q                                    a  \\\n",
              "0  When was the Vat formally opened?  It was formally established in 1475   \n",
              "1           what is the library for?                             research   \n",
              "2                 for what subjects?                     history, and law   \n",
              "3                               and?     philosophy, science and theology   \n",
              "4          what was started in 2014?                           a  project   \n",
              "\n",
              "                                                span  \n",
              "0                       Formally established in 1475  \n",
              "1           he Vatican Library is a research library  \n",
              "2  Vatican Library is a research library for hist...  \n",
              "3  Vatican Library is a research library for hist...  \n",
              "4  March 2014, the Vatican Library began an initi...  "
            ],
            "text/html": [
              "\n",
              "  <div id=\"df-4610de64-e18e-4d7d-9f00-30cc0afa08a5\">\n",
              "    <div class=\"colab-df-container\">\n",
              "      <div>\n",
              "<style scoped>\n",
              "    .dataframe tbody tr th:only-of-type {\n",
              "        vertical-align: middle;\n",
              "    }\n",
              "\n",
              "    .dataframe tbody tr th {\n",
              "        vertical-align: top;\n",
              "    }\n",
              "\n",
              "    .dataframe thead th {\n",
              "        text-align: right;\n",
              "    }\n",
              "</style>\n",
              "<table border=\"1\" class=\"dataframe\">\n",
              "  <thead>\n",
              "    <tr style=\"text-align: right;\">\n",
              "      <th></th>\n",
              "      <th>source</th>\n",
              "      <th>p</th>\n",
              "      <th>q</th>\n",
              "      <th>a</th>\n",
              "      <th>span</th>\n",
              "    </tr>\n",
              "  </thead>\n",
              "  <tbody>\n",
              "    <tr>\n",
              "      <th>0</th>\n",
              "      <td>wikipedia</td>\n",
              "      <td>The Vatican Apostolic Library (), more commonl...</td>\n",
              "      <td>When was the Vat formally opened?</td>\n",
              "      <td>It was formally established in 1475</td>\n",
              "      <td>Formally established in 1475</td>\n",
              "    </tr>\n",
              "    <tr>\n",
              "      <th>1</th>\n",
              "      <td>wikipedia</td>\n",
              "      <td>The Vatican Apostolic Library (), more commonl...</td>\n",
              "      <td>what is the library for?</td>\n",
              "      <td>research</td>\n",
              "      <td>he Vatican Library is a research library</td>\n",
              "    </tr>\n",
              "    <tr>\n",
              "      <th>2</th>\n",
              "      <td>wikipedia</td>\n",
              "      <td>The Vatican Apostolic Library (), more commonl...</td>\n",
              "      <td>for what subjects?</td>\n",
              "      <td>history, and law</td>\n",
              "      <td>Vatican Library is a research library for hist...</td>\n",
              "    </tr>\n",
              "    <tr>\n",
              "      <th>3</th>\n",
              "      <td>wikipedia</td>\n",
              "      <td>The Vatican Apostolic Library (), more commonl...</td>\n",
              "      <td>and?</td>\n",
              "      <td>philosophy, science and theology</td>\n",
              "      <td>Vatican Library is a research library for hist...</td>\n",
              "    </tr>\n",
              "    <tr>\n",
              "      <th>4</th>\n",
              "      <td>wikipedia</td>\n",
              "      <td>The Vatican Apostolic Library (), more commonl...</td>\n",
              "      <td>what was started in 2014?</td>\n",
              "      <td>a  project</td>\n",
              "      <td>March 2014, the Vatican Library began an initi...</td>\n",
              "    </tr>\n",
              "  </tbody>\n",
              "</table>\n",
              "</div>\n",
              "      <button class=\"colab-df-convert\" onclick=\"convertToInteractive('df-4610de64-e18e-4d7d-9f00-30cc0afa08a5')\"\n",
              "              title=\"Convert this dataframe to an interactive table.\"\n",
              "              style=\"display:none;\">\n",
              "        \n",
              "  <svg xmlns=\"http://www.w3.org/2000/svg\" height=\"24px\"viewBox=\"0 0 24 24\"\n",
              "       width=\"24px\">\n",
              "    <path d=\"M0 0h24v24H0V0z\" fill=\"none\"/>\n",
              "    <path d=\"M18.56 5.44l.94 2.06.94-2.06 2.06-.94-2.06-.94-.94-2.06-.94 2.06-2.06.94zm-11 1L8.5 8.5l.94-2.06 2.06-.94-2.06-.94L8.5 2.5l-.94 2.06-2.06.94zm10 10l.94 2.06.94-2.06 2.06-.94-2.06-.94-.94-2.06-.94 2.06-2.06.94z\"/><path d=\"M17.41 7.96l-1.37-1.37c-.4-.4-.92-.59-1.43-.59-.52 0-1.04.2-1.43.59L10.3 9.45l-7.72 7.72c-.78.78-.78 2.05 0 2.83L4 21.41c.39.39.9.59 1.41.59.51 0 1.02-.2 1.41-.59l7.78-7.78 2.81-2.81c.8-.78.8-2.07 0-2.86zM5.41 20L4 18.59l7.72-7.72 1.47 1.35L5.41 20z\"/>\n",
              "  </svg>\n",
              "      </button>\n",
              "      \n",
              "  <style>\n",
              "    .colab-df-container {\n",
              "      display:flex;\n",
              "      flex-wrap:wrap;\n",
              "      gap: 12px;\n",
              "    }\n",
              "\n",
              "    .colab-df-convert {\n",
              "      background-color: #E8F0FE;\n",
              "      border: none;\n",
              "      border-radius: 50%;\n",
              "      cursor: pointer;\n",
              "      display: none;\n",
              "      fill: #1967D2;\n",
              "      height: 32px;\n",
              "      padding: 0 0 0 0;\n",
              "      width: 32px;\n",
              "    }\n",
              "\n",
              "    .colab-df-convert:hover {\n",
              "      background-color: #E2EBFA;\n",
              "      box-shadow: 0px 1px 2px rgba(60, 64, 67, 0.3), 0px 1px 3px 1px rgba(60, 64, 67, 0.15);\n",
              "      fill: #174EA6;\n",
              "    }\n",
              "\n",
              "    [theme=dark] .colab-df-convert {\n",
              "      background-color: #3B4455;\n",
              "      fill: #D2E3FC;\n",
              "    }\n",
              "\n",
              "    [theme=dark] .colab-df-convert:hover {\n",
              "      background-color: #434B5C;\n",
              "      box-shadow: 0px 1px 3px 1px rgba(0, 0, 0, 0.15);\n",
              "      filter: drop-shadow(0px 1px 2px rgba(0, 0, 0, 0.3));\n",
              "      fill: #FFFFFF;\n",
              "    }\n",
              "  </style>\n",
              "\n",
              "      <script>\n",
              "        const buttonEl =\n",
              "          document.querySelector('#df-4610de64-e18e-4d7d-9f00-30cc0afa08a5 button.colab-df-convert');\n",
              "        buttonEl.style.display =\n",
              "          google.colab.kernel.accessAllowed ? 'block' : 'none';\n",
              "\n",
              "        async function convertToInteractive(key) {\n",
              "          const element = document.querySelector('#df-4610de64-e18e-4d7d-9f00-30cc0afa08a5');\n",
              "          const dataTable =\n",
              "            await google.colab.kernel.invokeFunction('convertToInteractive',\n",
              "                                                     [key], {});\n",
              "          if (!dataTable) return;\n",
              "\n",
              "          const docLinkHtml = 'Like what you see? Visit the ' +\n",
              "            '<a target=\"_blank\" href=https://colab.research.google.com/notebooks/data_table.ipynb>data table notebook</a>'\n",
              "            + ' to learn more about interactive tables.';\n",
              "          element.innerHTML = '';\n",
              "          dataTable['output_type'] = 'display_data';\n",
              "          await google.colab.output.renderOutput(dataTable, element);\n",
              "          const docLink = document.createElement('div');\n",
              "          docLink.innerHTML = docLinkHtml;\n",
              "          element.appendChild(docLink);\n",
              "        }\n",
              "      </script>\n",
              "    </div>\n",
              "  </div>\n",
              "  "
            ]
          },
          "metadata": {},
          "execution_count": 15
        }
      ]
    },
    {
      "cell_type": "code",
      "source": [
        "train_df.memory_usage(deep=True)"
      ],
      "metadata": {
        "id": "nrRkHhES1mPa",
        "outputId": "699dc74d-1314-4d98-a2e4-80bc37903568",
        "execution": {
          "iopub.status.busy": "2023-01-14T18:01:58.496105Z",
          "iopub.execute_input": "2023-01-14T18:01:58.496470Z",
          "iopub.status.idle": "2023-01-14T18:01:58.536943Z",
          "shell.execute_reply.started": "2023-01-14T18:01:58.496437Z",
          "shell.execute_reply": "2023-01-14T18:01:58.535854Z"
        },
        "trusted": true,
        "colab": {
          "base_uri": "https://localhost:8080/"
        }
      },
      "execution_count": 16,
      "outputs": [
        {
          "output_type": "execute_result",
          "data": {
            "text/plain": [
              "Index          128\n",
              "source      107764\n",
              "p         14241201\n",
              "q          9110271\n",
              "a          7714559\n",
              "span      12090637\n",
              "dtype: int64"
            ]
          },
          "metadata": {},
          "execution_count": 16
        }
      ]
    },
    {
      "cell_type": "code",
      "source": [
        "test_df = load_coqa_dataset(\"test.json\")\n",
        "test_df.count()"
      ],
      "metadata": {
        "id": "v5aer1n41mPa",
        "outputId": "333c6f78-e8ed-4cbc-8945-eb704268639a",
        "execution": {
          "iopub.status.busy": "2023-01-14T18:01:58.538771Z",
          "iopub.execute_input": "2023-01-14T18:01:58.539167Z",
          "iopub.status.idle": "2023-01-14T18:01:59.219403Z",
          "shell.execute_reply.started": "2023-01-14T18:01:58.539132Z",
          "shell.execute_reply": "2023-01-14T18:01:59.218387Z"
        },
        "trusted": true,
        "colab": {
          "base_uri": "https://localhost:8080/"
        }
      },
      "execution_count": 17,
      "outputs": [
        {
          "output_type": "stream",
          "name": "stdout",
          "text": [
            "500 stories / 12 questions in the first row\n",
            "499 distinct stories\n",
            "5 distinct sources: Index(['mctest', 'race', 'cnn', 'wikipedia', 'gutenberg'], dtype='object')\n",
            "(7917, 5) question-answer pairs x columns\n",
            "First row: ['0' '0' 'What color was Cotton?' 'white'\n",
            " 'a little white kitten named Cotton']\n"
          ]
        },
        {
          "output_type": "execute_result",
          "data": {
            "text/plain": [
              "source    7917\n",
              "p         7917\n",
              "q         7917\n",
              "a         7917\n",
              "span      7917\n",
              "dtype: int64"
            ]
          },
          "metadata": {},
          "execution_count": 17
        }
      ]
    },
    {
      "cell_type": "markdown",
      "source": [
        "## Data Pre-Processing"
      ],
      "metadata": {
        "id": "XRs7YHKY1mPa"
      }
    },
    {
      "cell_type": "markdown",
      "source": [
        "### Check unanswerable questions in the Train Dataset"
      ],
      "metadata": {
        "id": "k0GmOXam1mPb"
      }
    },
    {
      "cell_type": "code",
      "source": [
        "idx = (train_df.a == 'unknown')\n",
        "unanswerable = train_df[idx]\n",
        "unanswerable.q.count()"
      ],
      "metadata": {
        "id": "6Aq524zd1mPb",
        "outputId": "6f409551-c458-4090-feb9-9fb5ea46671e",
        "execution": {
          "iopub.status.busy": "2023-01-11T21:00:17.620618Z",
          "iopub.execute_input": "2023-01-11T21:00:17.621703Z",
          "iopub.status.idle": "2023-01-11T21:00:17.652117Z",
          "shell.execute_reply.started": "2023-01-11T21:00:17.621664Z",
          "shell.execute_reply": "2023-01-11T21:00:17.651119Z"
        },
        "trusted": true,
        "colab": {
          "base_uri": "https://localhost:8080/"
        }
      },
      "execution_count": 18,
      "outputs": [
        {
          "output_type": "execute_result",
          "data": {
            "text/plain": [
              "0"
            ]
          },
          "metadata": {},
          "execution_count": 18
        }
      ]
    },
    {
      "cell_type": "markdown",
      "source": [
        "All unanswerable questions in the Train Dataset have been already removed."
      ],
      "metadata": {
        "id": "lTdjLFYI1mPb"
      }
    },
    {
      "cell_type": "markdown",
      "source": [
        "## Exploratory Data Analysis"
      ],
      "metadata": {
        "id": "maBslb2n1mPb"
      }
    },
    {
      "cell_type": "code",
      "source": [
        "train_df[\"p\"][42]"
      ],
      "metadata": {
        "id": "VH5Ep77e1mPb",
        "outputId": "6df1a1e7-0bd4-4c50-9aa9-e61da3efddb2",
        "execution": {
          "iopub.status.busy": "2023-01-11T21:00:17.653755Z",
          "iopub.execute_input": "2023-01-11T21:00:17.654426Z",
          "iopub.status.idle": "2023-01-11T21:00:17.677739Z",
          "shell.execute_reply.started": "2023-01-11T21:00:17.654387Z",
          "shell.execute_reply": "2023-01-11T21:00:17.676457Z"
        },
        "trusted": true,
        "colab": {
          "base_uri": "https://localhost:8080/",
          "height": 0
        }
      },
      "execution_count": 19,
      "outputs": [
        {
          "output_type": "execute_result",
          "data": {
            "text/plain": [
              "'CHAPTER VII. THE DAUGHTER OF WITHERSTEEN \\n\\n\"Lassiter, will you be my rider?\" Jane had asked him. \\n\\n\"I reckon so,\" he had replied. \\n\\nFew as the words were, Jane knew how infinitely much they implied. She wanted him to take charge of her cattle and horse and ranges, and save them if that were possible. Yet, though she could not have spoken aloud all she meant, she was perfectly honest with herself. Whatever the price to be paid, she must keep Lassiter close to her; she must shield from him the man who had led Milly Erne to Cottonwoods. In her fear she so controlled her mind that she did not whisper this Mormon\\'s name to her own soul, she did not even think it. Besides, beyond this thing she regarded as a sacred obligation thrust upon her, was the need of a helper, of a friend, of a champion in this critical time. If she could rule this gun-man, as Venters had called him, if she could even keep him from shedding blood, what strategy to play his flame and his presence against the game of oppression her churchmen were waging against her? Never would she forget the effect on Tull and his men when Venters shouted Lassiter\\'s name. If she could not wholly control Lassiter, then what she could do might put off the fatal day. \\n\\nOne of her safe racers was a dark bay, and she called him Bells because of the way he struck his iron shoes on the stones. When Jerd led out this slender, beautifully built horse Lassiter suddenly became all eyes. A rider\\'s love of a thoroughbred shone in them. Round and round Bells he walked, plainly weakening all the time in his determination not to take one of Jane\\'s favorite racers. '"
            ],
            "application/vnd.google.colaboratory.intrinsic+json": {
              "type": "string"
            }
          },
          "metadata": {},
          "execution_count": 19
        }
      ]
    },
    {
      "cell_type": "code",
      "source": [
        "train_df[\"q\"][42]"
      ],
      "metadata": {
        "id": "zYcgBVcG1mPc",
        "outputId": "1f5f0512-1d36-4437-f2a5-e592cb12c9b9",
        "execution": {
          "iopub.status.busy": "2023-01-11T21:00:17.679295Z",
          "iopub.execute_input": "2023-01-11T21:00:17.679818Z",
          "iopub.status.idle": "2023-01-11T21:00:17.688873Z",
          "shell.execute_reply.started": "2023-01-11T21:00:17.679783Z",
          "shell.execute_reply": "2023-01-11T21:00:17.687694Z"
        },
        "trusted": true,
        "colab": {
          "base_uri": "https://localhost:8080/",
          "height": 0
        }
      },
      "execution_count": 20,
      "outputs": [
        {
          "output_type": "execute_result",
          "data": {
            "text/plain": [
              "'Was Lassiter impressed with the horse?'"
            ],
            "application/vnd.google.colaboratory.intrinsic+json": {
              "type": "string"
            }
          },
          "metadata": {},
          "execution_count": 20
        }
      ]
    },
    {
      "cell_type": "code",
      "source": [
        "train_df[\"a\"][42]"
      ],
      "metadata": {
        "id": "5zvn9Tv01mPc",
        "outputId": "389af0ff-b5cf-4ddb-c71f-ab7c60ba34af",
        "execution": {
          "iopub.status.busy": "2023-01-11T21:00:17.690431Z",
          "iopub.execute_input": "2023-01-11T21:00:17.690914Z",
          "iopub.status.idle": "2023-01-11T21:00:17.705300Z",
          "shell.execute_reply.started": "2023-01-11T21:00:17.690874Z",
          "shell.execute_reply": "2023-01-11T21:00:17.704082Z"
        },
        "trusted": true,
        "colab": {
          "base_uri": "https://localhost:8080/",
          "height": 0
        }
      },
      "execution_count": 21,
      "outputs": [
        {
          "output_type": "execute_result",
          "data": {
            "text/plain": [
              "'Yes'"
            ],
            "application/vnd.google.colaboratory.intrinsic+json": {
              "type": "string"
            }
          },
          "metadata": {},
          "execution_count": 21
        }
      ]
    },
    {
      "cell_type": "code",
      "source": [
        "train_df[\"span\"][42]"
      ],
      "metadata": {
        "id": "NokHfoLm1mPc",
        "outputId": "714276b4-2226-4ed1-93ff-2200ebd98fa3",
        "execution": {
          "iopub.status.busy": "2023-01-11T21:00:17.706787Z",
          "iopub.execute_input": "2023-01-11T21:00:17.707264Z",
          "iopub.status.idle": "2023-01-11T21:00:17.716884Z",
          "shell.execute_reply.started": "2023-01-11T21:00:17.707231Z",
          "shell.execute_reply": "2023-01-11T21:00:17.715553Z"
        },
        "trusted": true,
        "colab": {
          "base_uri": "https://localhost:8080/",
          "height": 0
        }
      },
      "execution_count": 22,
      "outputs": [
        {
          "output_type": "execute_result",
          "data": {
            "text/plain": [
              "'When Jerd led out this slender, beautifully built horse Lassiter suddenly became all eyes.'"
            ],
            "application/vnd.google.colaboratory.intrinsic+json": {
              "type": "string"
            }
          },
          "metadata": {},
          "execution_count": 22
        }
      ]
    },
    {
      "cell_type": "code",
      "source": [
        "train_df[\"source\"][42]"
      ],
      "metadata": {
        "id": "JskMPh-Y1mPc",
        "outputId": "203692af-7889-446b-eb5a-d6f665c490a0",
        "execution": {
          "iopub.status.busy": "2023-01-11T21:00:17.718439Z",
          "iopub.execute_input": "2023-01-11T21:00:17.718915Z",
          "iopub.status.idle": "2023-01-11T21:00:17.729939Z",
          "shell.execute_reply.started": "2023-01-11T21:00:17.718881Z",
          "shell.execute_reply": "2023-01-11T21:00:17.728732Z"
        },
        "trusted": true,
        "colab": {
          "base_uri": "https://localhost:8080/",
          "height": 0
        }
      },
      "execution_count": 23,
      "outputs": [
        {
          "output_type": "execute_result",
          "data": {
            "text/plain": [
              "'gutenberg'"
            ],
            "application/vnd.google.colaboratory.intrinsic+json": {
              "type": "string"
            }
          },
          "metadata": {},
          "execution_count": 23
        }
      ]
    },
    {
      "cell_type": "markdown",
      "source": [
        "### Distribution statistics"
      ],
      "metadata": {
        "id": "IhdF4AR7ef05"
      }
    },
    {
      "cell_type": "markdown",
      "source": [
        "Sources:"
      ],
      "metadata": {
        "id": "ebBVUlveef05"
      }
    },
    {
      "cell_type": "code",
      "source": [
        "train_df[\"source\"].hist()"
      ],
      "metadata": {
        "id": "8lIuR9RO1mPd",
        "outputId": "356dc82e-c3c1-4dd1-d062-e89c0f177a25",
        "execution": {
          "iopub.status.busy": "2023-01-11T21:00:17.731526Z",
          "iopub.execute_input": "2023-01-11T21:00:17.732007Z",
          "iopub.status.idle": "2023-01-11T21:00:18.104916Z",
          "shell.execute_reply.started": "2023-01-11T21:00:17.731972Z",
          "shell.execute_reply": "2023-01-11T21:00:18.103960Z"
        },
        "trusted": true,
        "colab": {
          "base_uri": "https://localhost:8080/",
          "height": 0
        }
      },
      "execution_count": 24,
      "outputs": [
        {
          "output_type": "execute_result",
          "data": {
            "text/plain": [
              "<matplotlib.axes._subplots.AxesSubplot at 0x7fd3926c6160>"
            ]
          },
          "metadata": {},
          "execution_count": 24
        },
        {
          "output_type": "display_data",
          "data": {
            "text/plain": [
              "<Figure size 432x288 with 1 Axes>"
            ],
            "image/png": "[encoded data removed]"
          },
          "metadata": {
            "needs_background": "light"
          }
        }
      ]
    },
    {
      "cell_type": "markdown",
      "source": [
        "Occurrences of 25 most popular stories:"
      ],
      "metadata": {
        "id": "Ax5uSP6Lef06"
      }
    },
    {
      "cell_type": "code",
      "source": [
        "story_counts = train_df[\"p\"].cat.codes.value_counts(sort=True)\n",
        "story_counts[:25].plot(kind=\"bar\", figsize=(15,5))"
      ],
      "metadata": {
        "id": "wUgsqg4Uef06",
        "outputId": "e655cf4c-3242-4b4c-8b14-0c0ba443273b",
        "execution": {
          "iopub.status.busy": "2023-01-11T21:00:18.109193Z",
          "iopub.execute_input": "2023-01-11T21:00:18.111545Z",
          "iopub.status.idle": "2023-01-11T21:00:18.536732Z",
          "shell.execute_reply.started": "2023-01-11T21:00:18.111490Z",
          "shell.execute_reply": "2023-01-11T21:00:18.535711Z"
        },
        "trusted": true,
        "colab": {
          "base_uri": "https://localhost:8080/",
          "height": 0
        }
      },
      "execution_count": 25,
      "outputs": [
        {
          "output_type": "execute_result",
          "data": {
            "text/plain": [
              "<matplotlib.axes._subplots.AxesSubplot at 0x7fd39260f760>"
            ]
          },
          "metadata": {},
          "execution_count": 25
        },
        {
          "output_type": "display_data",
          "data": {
            "text/plain": [
              "<Figure size 1080x360 with 1 Axes>"
            ],
            "image/png": "[encoded data removed]"
          },
          "metadata": {
            "needs_background": "light"
          }
        }
      ]
    },
    {
      "cell_type": "markdown",
      "source": [
        "Occurrences of 25 least popular stories:"
      ],
      "metadata": {
        "id": "qL-m6SuVef06"
      }
    },
    {
      "cell_type": "code",
      "source": [
        "story_counts[-25:-1].plot(kind=\"bar\", figsize=(15,5))"
      ],
      "metadata": {
        "id": "jkiwEygzef06",
        "outputId": "6c3cbf3a-c884-4690-ecd9-811a22488749",
        "execution": {
          "iopub.status.busy": "2023-01-11T21:00:18.541310Z",
          "iopub.execute_input": "2023-01-11T21:00:18.543837Z",
          "iopub.status.idle": "2023-01-11T21:00:18.982802Z",
          "shell.execute_reply.started": "2023-01-11T21:00:18.543794Z",
          "shell.execute_reply": "2023-01-11T21:00:18.981861Z"
        },
        "trusted": true,
        "colab": {
          "base_uri": "https://localhost:8080/",
          "height": 0
        }
      },
      "execution_count": 26,
      "outputs": [
        {
          "output_type": "execute_result",
          "data": {
            "text/plain": [
              "<matplotlib.axes._subplots.AxesSubplot at 0x7fd3922fb760>"
            ]
          },
          "metadata": {},
          "execution_count": 26
        },
        {
          "output_type": "display_data",
          "data": {
            "text/plain": [
              "<Figure size 1080x360 with 1 Axes>"
            ],
            "image/png": "[encoded data removed]"
          },
          "metadata": {
            "needs_background": "light"
          }
        }
      ]
    },
    {
      "cell_type": "markdown",
      "source": [
        "Histogram of story popularities:"
      ],
      "metadata": {
        "id": "9-EVRQQVef06"
      }
    },
    {
      "cell_type": "code",
      "source": [
        "story_counts.hist(log=True,bins=75,figsize=(15,5))"
      ],
      "metadata": {
        "id": "CJLPGCfcef07",
        "outputId": "203a6720-d5e4-4b60-a903-fdb2a95c7381",
        "execution": {
          "iopub.status.busy": "2023-01-11T21:00:18.986932Z",
          "iopub.execute_input": "2023-01-11T21:00:18.989144Z",
          "iopub.status.idle": "2023-01-11T21:00:20.056265Z",
          "shell.execute_reply.started": "2023-01-11T21:00:18.989105Z",
          "shell.execute_reply": "2023-01-11T21:00:20.055343Z"
        },
        "trusted": true,
        "colab": {
          "base_uri": "https://localhost:8080/",
          "height": 0
        }
      },
      "execution_count": 27,
      "outputs": [
        {
          "output_type": "execute_result",
          "data": {
            "text/plain": [
              "<matplotlib.axes._subplots.AxesSubplot at 0x7fd3922a98b0>"
            ]
          },
          "metadata": {},
          "execution_count": 27
        },
        {
          "output_type": "display_data",
          "data": {
            "text/plain": [
              "<Figure size 1080x360 with 1 Axes>"
            ],
            "image/png": "[encoded data removed]"
          },
          "metadata": {
            "needs_background": "light"
          }
        }
      ]
    },
    {
      "cell_type": "markdown",
      "source": [
        "### Removing rows with outlier story lengths to save memory"
      ],
      "metadata": {
        "id": "Xs4usWsveQN2"
      }
    },
    {
      "cell_type": "code",
      "source": [
        "train_df.count()"
      ],
      "metadata": {
        "execution": {
          "iopub.status.busy": "2023-01-11T21:00:20.060502Z",
          "iopub.execute_input": "2023-01-11T21:00:20.062774Z",
          "iopub.status.idle": "2023-01-11T21:00:20.096428Z",
          "shell.execute_reply.started": "2023-01-11T21:00:20.062736Z",
          "shell.execute_reply": "2023-01-11T21:00:20.095341Z"
        },
        "id": "fF88Qa2DeQN2",
        "outputId": "78b4c062-9995-4e24-bc1c-32655582d8b1",
        "trusted": true,
        "colab": {
          "base_uri": "https://localhost:8080/"
        }
      },
      "execution_count": 28,
      "outputs": [
        {
          "output_type": "execute_result",
          "data": {
            "text/plain": [
              "source    107276\n",
              "p         107276\n",
              "q         107276\n",
              "a         107276\n",
              "span      107276\n",
              "dtype: int64"
            ]
          },
          "metadata": {},
          "execution_count": 28
        }
      ]
    },
    {
      "cell_type": "markdown",
      "source": [
        "LOGARITHMIC histogram of story length:"
      ],
      "metadata": {
        "id": "xOq3OJo1eQN2"
      }
    },
    {
      "cell_type": "code",
      "source": [
        "story_lengths = train_df[\"p\"].str.len()\n",
        "story_lengths.hist(log=True,bins=75,figsize=(15,5))"
      ],
      "metadata": {
        "execution": {
          "iopub.status.busy": "2023-01-11T21:00:20.098032Z",
          "iopub.execute_input": "2023-01-11T21:00:20.098354Z",
          "iopub.status.idle": "2023-01-11T21:00:21.022634Z",
          "shell.execute_reply.started": "2023-01-11T21:00:20.098322Z",
          "shell.execute_reply": "2023-01-11T21:00:21.021710Z"
        },
        "id": "N9SpIueeeQN2",
        "outputId": "6d0bda99-8cc9-46d5-9844-4a37ae1a9286",
        "trusted": true,
        "colab": {
          "base_uri": "https://localhost:8080/",
          "height": 0
        }
      },
      "execution_count": 29,
      "outputs": [
        {
          "output_type": "execute_result",
          "data": {
            "text/plain": [
              "<matplotlib.axes._subplots.AxesSubplot at 0x7fd391cc6ee0>"
            ]
          },
          "metadata": {},
          "execution_count": 29
        },
        {
          "output_type": "display_data",
          "data": {
            "text/plain": [
              "<Figure size 1080x360 with 1 Axes>"
            ],
            "image/png": "[encoded data removed]"
          },
          "metadata": {
            "needs_background": "light"
          }
        }
      ]
    },
    {
      "cell_type": "code",
      "source": [
        "p_length_limit = story_lengths.quantile(0.999)\n",
        "p_length_limit"
      ],
      "metadata": {
        "execution": {
          "iopub.status.busy": "2023-01-11T21:00:21.023971Z",
          "iopub.execute_input": "2023-01-11T21:00:21.024522Z",
          "iopub.status.idle": "2023-01-11T21:00:21.036709Z",
          "shell.execute_reply.started": "2023-01-11T21:00:21.024485Z",
          "shell.execute_reply": "2023-01-11T21:00:21.035374Z"
        },
        "id": "55wmfOrseQN3",
        "outputId": "a497c3b9-dda6-44dd-b580-ab66c42d287a",
        "trusted": true,
        "colab": {
          "base_uri": "https://localhost:8080/"
        }
      },
      "execution_count": 30,
      "outputs": [
        {
          "output_type": "execute_result",
          "data": {
            "text/plain": [
              "4317.0"
            ]
          },
          "metadata": {},
          "execution_count": 30
        }
      ]
    },
    {
      "cell_type": "code",
      "source": [
        "p_length_mask = story_lengths < p_length_limit\n",
        "p_length_mask.value_counts()"
      ],
      "metadata": {
        "execution": {
          "iopub.status.busy": "2023-01-11T21:00:21.041357Z",
          "iopub.execute_input": "2023-01-11T21:00:21.041755Z",
          "iopub.status.idle": "2023-01-11T21:00:21.055317Z",
          "shell.execute_reply.started": "2023-01-11T21:00:21.041715Z",
          "shell.execute_reply": "2023-01-11T21:00:21.053819Z"
        },
        "id": "JdD1HKnqeQN3",
        "outputId": "31401928-28f3-4471-bef7-781dff30e234",
        "trusted": true,
        "colab": {
          "base_uri": "https://localhost:8080/"
        }
      },
      "execution_count": 31,
      "outputs": [
        {
          "output_type": "execute_result",
          "data": {
            "text/plain": [
              "True     107166\n",
              "False       110\n",
              "Name: p, dtype: int64"
            ]
          },
          "metadata": {},
          "execution_count": 31
        }
      ]
    },
    {
      "cell_type": "code",
      "source": [
        "train_df = train_df[p_length_mask]\n",
        "train_df.count()"
      ],
      "metadata": {
        "execution": {
          "iopub.status.busy": "2023-01-11T21:00:21.066878Z",
          "iopub.execute_input": "2023-01-11T21:00:21.068993Z",
          "iopub.status.idle": "2023-01-11T21:00:21.116598Z",
          "shell.execute_reply.started": "2023-01-11T21:00:21.068957Z",
          "shell.execute_reply": "2023-01-11T21:00:21.115706Z"
        },
        "id": "8ZrtswVUeQN3",
        "outputId": "6f3bb5c3-ccc4-4f97-9a62-10e433882e1d",
        "trusted": true,
        "colab": {
          "base_uri": "https://localhost:8080/"
        }
      },
      "execution_count": 32,
      "outputs": [
        {
          "output_type": "execute_result",
          "data": {
            "text/plain": [
              "source    107166\n",
              "p         107166\n",
              "q         107166\n",
              "a         107166\n",
              "span      107166\n",
              "dtype: int64"
            ]
          },
          "metadata": {},
          "execution_count": 32
        }
      ]
    },
    {
      "cell_type": "markdown",
      "source": [
        "### Removing rows with outlier question/answer/span lengths to save memory"
      ],
      "metadata": {
        "id": "CvuDNquieQN3"
      }
    },
    {
      "cell_type": "markdown",
      "source": [
        "LOGARITHMIC histogram of question length:"
      ],
      "metadata": {
        "id": "XTnHoRoEeQN3"
      }
    },
    {
      "cell_type": "code",
      "source": [
        "question_lengths = train_df[\"q\"].str.len()\n",
        "question_lengths.hist(log=True,bins=75,figsize=(15,5))"
      ],
      "metadata": {
        "id": "kFobL8Upef07",
        "outputId": "d5ae7855-e203-4ab2-aea7-7fcba9acf767",
        "execution": {
          "iopub.status.busy": "2023-01-11T21:00:21.121249Z",
          "iopub.execute_input": "2023-01-11T21:00:21.124112Z",
          "iopub.status.idle": "2023-01-11T21:00:21.898684Z",
          "shell.execute_reply.started": "2023-01-11T21:00:21.124072Z",
          "shell.execute_reply": "2023-01-11T21:00:21.897686Z"
        },
        "trusted": true,
        "colab": {
          "base_uri": "https://localhost:8080/",
          "height": 0
        }
      },
      "execution_count": 33,
      "outputs": [
        {
          "output_type": "execute_result",
          "data": {
            "text/plain": [
              "<matplotlib.axes._subplots.AxesSubplot at 0x7fd391b69f40>"
            ]
          },
          "metadata": {},
          "execution_count": 33
        },
        {
          "output_type": "display_data",
          "data": {
            "text/plain": [
              "<Figure size 1080x360 with 1 Axes>"
            ],
            "image/png": "[encoded data removed]"
          },
          "metadata": {
            "needs_background": "light"
          }
        }
      ]
    },
    {
      "cell_type": "code",
      "source": [
        "q_length_limit = question_lengths.quantile(0.999)\n",
        "q_length_limit"
      ],
      "metadata": {
        "execution": {
          "iopub.status.busy": "2023-01-11T21:00:21.903244Z",
          "iopub.execute_input": "2023-01-11T21:00:21.906122Z",
          "iopub.status.idle": "2023-01-11T21:00:21.920912Z",
          "shell.execute_reply.started": "2023-01-11T21:00:21.906083Z",
          "shell.execute_reply": "2023-01-11T21:00:21.919697Z"
        },
        "id": "Y5492ySpeQN4",
        "outputId": "a1d4f6b7-93bb-4833-ffae-893a0f1b0789",
        "trusted": true,
        "colab": {
          "base_uri": "https://localhost:8080/"
        }
      },
      "execution_count": 34,
      "outputs": [
        {
          "output_type": "execute_result",
          "data": {
            "text/plain": [
              "89.0"
            ]
          },
          "metadata": {},
          "execution_count": 34
        }
      ]
    },
    {
      "cell_type": "markdown",
      "source": [
        "LOGARITHMIC histogram of answer length:"
      ],
      "metadata": {
        "id": "yGTJLGsWeQN4"
      }
    },
    {
      "cell_type": "code",
      "source": [
        "answer_lengths = train_df[\"a\"].str.len()\n",
        "answer_lengths.hist(log=True,bins=75,figsize=(15,5))"
      ],
      "metadata": {
        "id": "_7phh51Nef07",
        "outputId": "710888ee-9697-4d86-fc32-5288096a2529",
        "execution": {
          "iopub.status.busy": "2023-01-11T21:00:21.923093Z",
          "iopub.execute_input": "2023-01-11T21:00:21.923995Z",
          "iopub.status.idle": "2023-01-11T21:00:22.662567Z",
          "shell.execute_reply.started": "2023-01-11T21:00:21.923955Z",
          "shell.execute_reply": "2023-01-11T21:00:22.661550Z"
        },
        "trusted": true,
        "colab": {
          "base_uri": "https://localhost:8080/",
          "height": 0
        }
      },
      "execution_count": 35,
      "outputs": [
        {
          "output_type": "execute_result",
          "data": {
            "text/plain": [
              "<matplotlib.axes._subplots.AxesSubplot at 0x7fd391cc5bb0>"
            ]
          },
          "metadata": {},
          "execution_count": 35
        },
        {
          "output_type": "display_data",
          "data": {
            "text/plain": [
              "<Figure size 1080x360 with 1 Axes>"
            ],
            "image/png": "[encoded data removed]"
          },
          "metadata": {
            "needs_background": "light"
          }
        }
      ]
    },
    {
      "cell_type": "code",
      "source": [
        "a_length_limit = answer_lengths.quantile(0.999)\n",
        "a_length_limit"
      ],
      "metadata": {
        "execution": {
          "iopub.status.busy": "2023-01-11T21:00:22.664096Z",
          "iopub.execute_input": "2023-01-11T21:00:22.664460Z",
          "iopub.status.idle": "2023-01-11T21:00:22.675110Z",
          "shell.execute_reply.started": "2023-01-11T21:00:22.664422Z",
          "shell.execute_reply": "2023-01-11T21:00:22.673990Z"
        },
        "id": "B9Z5Ck7XeQN4",
        "outputId": "be433acb-16db-412d-fe25-9fa4b69b95cc",
        "trusted": true,
        "colab": {
          "base_uri": "https://localhost:8080/"
        }
      },
      "execution_count": 36,
      "outputs": [
        {
          "output_type": "execute_result",
          "data": {
            "text/plain": [
              "142.8350000000064"
            ]
          },
          "metadata": {},
          "execution_count": 36
        }
      ]
    },
    {
      "cell_type": "code",
      "source": [
        "span_lengths = train_df[\"span\"].str.len()\n",
        "span_lengths.hist(log=True,bins=75,figsize=(15,5))"
      ],
      "metadata": {
        "execution": {
          "iopub.status.busy": "2023-01-11T21:00:22.676750Z",
          "iopub.execute_input": "2023-01-11T21:00:22.677160Z",
          "iopub.status.idle": "2023-01-11T21:00:23.561713Z",
          "shell.execute_reply.started": "2023-01-11T21:00:22.677118Z",
          "shell.execute_reply": "2023-01-11T21:00:23.560658Z"
        },
        "id": "KfwQxbu_eQN4",
        "outputId": "4f148a55-bbf2-46a0-e871-cc359a38751c",
        "trusted": true,
        "colab": {
          "base_uri": "https://localhost:8080/",
          "height": 0
        }
      },
      "execution_count": 37,
      "outputs": [
        {
          "output_type": "execute_result",
          "data": {
            "text/plain": [
              "<matplotlib.axes._subplots.AxesSubplot at 0x7fd3917a02e0>"
            ]
          },
          "metadata": {},
          "execution_count": 37
        },
        {
          "output_type": "display_data",
          "data": {
            "text/plain": [
              "<Figure size 1080x360 with 1 Axes>"
            ],
            "image/png": "[encoded data removed]"
          },
          "metadata": {
            "needs_background": "light"
          }
        }
      ]
    },
    {
      "cell_type": "code",
      "source": [
        "span_length_limit = span_lengths.quantile(0.999)\n",
        "span_length_limit"
      ],
      "metadata": {
        "execution": {
          "iopub.status.busy": "2023-01-11T21:00:23.563315Z",
          "iopub.execute_input": "2023-01-11T21:00:23.563675Z",
          "iopub.status.idle": "2023-01-11T21:00:23.575399Z",
          "shell.execute_reply.started": "2023-01-11T21:00:23.563624Z",
          "shell.execute_reply": "2023-01-11T21:00:23.574285Z"
        },
        "id": "Z16rujBBeQN5",
        "outputId": "c22ee5c9-ca07-4a6a-8f2c-c2ee60eca513",
        "trusted": true,
        "colab": {
          "base_uri": "https://localhost:8080/"
        }
      },
      "execution_count": 38,
      "outputs": [
        {
          "output_type": "execute_result",
          "data": {
            "text/plain": [
              "502.5050000000192"
            ]
          },
          "metadata": {},
          "execution_count": 38
        }
      ]
    },
    {
      "cell_type": "code",
      "source": [
        "bad_length_mask = (question_lengths > q_length_limit) | (answer_lengths > a_length_limit) | (span_lengths > span_length_limit)\n",
        "bad_length_mask.value_counts()"
      ],
      "metadata": {
        "execution": {
          "iopub.status.busy": "2023-01-11T21:00:23.576737Z",
          "iopub.execute_input": "2023-01-11T21:00:23.577935Z",
          "iopub.status.idle": "2023-01-11T21:00:23.589632Z",
          "shell.execute_reply.started": "2023-01-11T21:00:23.577899Z",
          "shell.execute_reply": "2023-01-11T21:00:23.588757Z"
        },
        "id": "LzINwGJreQN5",
        "outputId": "d37d7c7c-bacc-4ba8-8c84-c0b5881358fe",
        "trusted": true,
        "colab": {
          "base_uri": "https://localhost:8080/"
        }
      },
      "execution_count": 39,
      "outputs": [
        {
          "output_type": "execute_result",
          "data": {
            "text/plain": [
              "False    106859\n",
              "True        307\n",
              "dtype: int64"
            ]
          },
          "metadata": {},
          "execution_count": 39
        }
      ]
    },
    {
      "cell_type": "code",
      "source": [
        "excluded_stories = train_df[\"p\"][bad_length_mask].unique()\n",
        "len(excluded_stories)"
      ],
      "metadata": {
        "execution": {
          "iopub.status.busy": "2023-01-11T21:00:23.592467Z",
          "iopub.execute_input": "2023-01-11T21:00:23.593181Z",
          "iopub.status.idle": "2023-01-11T21:00:23.600425Z",
          "shell.execute_reply.started": "2023-01-11T21:00:23.593155Z",
          "shell.execute_reply": "2023-01-11T21:00:23.599487Z"
        },
        "id": "sxmcnFXbeQN5",
        "outputId": "f7feb0ad-b44d-4890-f998-505851e57412",
        "trusted": true,
        "colab": {
          "base_uri": "https://localhost:8080/"
        }
      },
      "execution_count": 40,
      "outputs": [
        {
          "output_type": "execute_result",
          "data": {
            "text/plain": [
              "272"
            ]
          },
          "metadata": {},
          "execution_count": 40
        }
      ]
    },
    {
      "cell_type": "code",
      "source": [
        "excluded_mask = ~train_df[\"p\"].isin(excluded_stories)\n",
        "excluded_mask.value_counts()"
      ],
      "metadata": {
        "execution": {
          "iopub.status.busy": "2023-01-11T21:00:23.601992Z",
          "iopub.execute_input": "2023-01-11T21:00:23.602435Z",
          "iopub.status.idle": "2023-01-11T21:00:23.614444Z",
          "shell.execute_reply.started": "2023-01-11T21:00:23.602401Z",
          "shell.execute_reply": "2023-01-11T21:00:23.613428Z"
        },
        "id": "sRrwwM2eeQN6",
        "outputId": "397223fc-89ff-4972-ee27-24cb6e231aba",
        "trusted": true,
        "colab": {
          "base_uri": "https://localhost:8080/"
        }
      },
      "execution_count": 41,
      "outputs": [
        {
          "output_type": "execute_result",
          "data": {
            "text/plain": [
              "True     102798\n",
              "False      4368\n",
              "Name: p, dtype: int64"
            ]
          },
          "metadata": {},
          "execution_count": 41
        }
      ]
    },
    {
      "cell_type": "code",
      "source": [
        "train_df = train_df[excluded_mask]\n",
        "train_df.count()"
      ],
      "metadata": {
        "execution": {
          "iopub.status.busy": "2023-01-11T21:00:23.616064Z",
          "iopub.execute_input": "2023-01-11T21:00:23.616404Z",
          "iopub.status.idle": "2023-01-11T21:00:23.644947Z",
          "shell.execute_reply.started": "2023-01-11T21:00:23.616371Z",
          "shell.execute_reply": "2023-01-11T21:00:23.643935Z"
        },
        "id": "5sPbSYmFeQN6",
        "outputId": "7c3d051f-0854-4047-d0a0-4d13a1a93b5b",
        "trusted": true,
        "colab": {
          "base_uri": "https://localhost:8080/"
        }
      },
      "execution_count": 42,
      "outputs": [
        {
          "output_type": "execute_result",
          "data": {
            "text/plain": [
              "source    102798\n",
              "p         102798\n",
              "q         102798\n",
              "a         102798\n",
              "span      102798\n",
              "dtype: int64"
            ]
          },
          "metadata": {},
          "execution_count": 42
        }
      ]
    },
    {
      "cell_type": "markdown",
      "source": [
        "## Train-Validation-Test split"
      ],
      "metadata": {
        "id": "mm2QCJbR1mPd"
      }
    },
    {
      "cell_type": "code",
      "source": [
        "train_df = train_df.reset_index()"
      ],
      "metadata": {
        "execution": {
          "iopub.status.busy": "2023-01-11T21:00:23.646184Z",
          "iopub.execute_input": "2023-01-11T21:00:23.646601Z",
          "iopub.status.idle": "2023-01-11T21:00:23.660060Z",
          "shell.execute_reply.started": "2023-01-11T21:00:23.646567Z",
          "shell.execute_reply": "2023-01-11T21:00:23.659048Z"
        },
        "id": "c4GiqoqneQN6",
        "trusted": true
      },
      "execution_count": 43,
      "outputs": []
    },
    {
      "cell_type": "code",
      "source": [
        "total_rows = len(train_df)\n",
        "total_rows"
      ],
      "metadata": {
        "execution": {
          "iopub.status.busy": "2023-01-11T21:00:23.661308Z",
          "iopub.execute_input": "2023-01-11T21:00:23.661885Z",
          "iopub.status.idle": "2023-01-11T21:00:23.669609Z",
          "shell.execute_reply.started": "2023-01-11T21:00:23.661845Z",
          "shell.execute_reply": "2023-01-11T21:00:23.668611Z"
        },
        "id": "pehX7aazeQN7",
        "outputId": "f28ae7df-8d85-41b6-d193-f52413c54db4",
        "trusted": true,
        "colab": {
          "base_uri": "https://localhost:8080/"
        }
      },
      "execution_count": 44,
      "outputs": [
        {
          "output_type": "execute_result",
          "data": {
            "text/plain": [
              "102798"
            ]
          },
          "metadata": {},
          "execution_count": 44
        }
      ]
    },
    {
      "cell_type": "code",
      "source": [
        "ideal_split_index = int(total_rows * 0.8)\n",
        "ideal_split_index"
      ],
      "metadata": {
        "execution": {
          "iopub.status.busy": "2023-01-11T21:00:23.671120Z",
          "iopub.execute_input": "2023-01-11T21:00:23.671505Z",
          "iopub.status.idle": "2023-01-11T21:00:23.679290Z",
          "shell.execute_reply.started": "2023-01-11T21:00:23.671463Z",
          "shell.execute_reply": "2023-01-11T21:00:23.678158Z"
        },
        "id": "_rxe3wDoeQN7",
        "outputId": "fd237861-5ac7-4818-ce77-8480e1606e45",
        "trusted": true,
        "colab": {
          "base_uri": "https://localhost:8080/"
        }
      },
      "execution_count": 45,
      "outputs": [
        {
          "output_type": "execute_result",
          "data": {
            "text/plain": [
              "82238"
            ]
          },
          "metadata": {},
          "execution_count": 45
        }
      ]
    },
    {
      "cell_type": "code",
      "source": [
        "train_df[ ideal_split_index-3 : ideal_split_index+1 ]"
      ],
      "metadata": {
        "execution": {
          "iopub.status.busy": "2023-01-11T21:00:23.681115Z",
          "iopub.execute_input": "2023-01-11T21:00:23.681594Z",
          "iopub.status.idle": "2023-01-11T21:00:23.697610Z",
          "shell.execute_reply.started": "2023-01-11T21:00:23.681555Z",
          "shell.execute_reply": "2023-01-11T21:00:23.696665Z"
        },
        "id": "T6_GsayreQN7",
        "outputId": "8e32b937-0e54-4ea8-84f0-01ae6db6567f",
        "trusted": true,
        "colab": {
          "base_uri": "https://localhost:8080/",
          "height": 0
        }
      },
      "execution_count": 46,
      "outputs": [
        {
          "output_type": "execute_result",
          "data": {
            "text/plain": [
              "       index     source                                                  p  \\\n",
              "82235  85698  gutenberg  CHAPTER XVIII \\n\\nI \\n\\nTHOUGH he saw them twi...   \n",
              "82236  85699  gutenberg  CHAPTER XVIII \\n\\nI \\n\\nTHOUGH he saw them twi...   \n",
              "82237  85700  gutenberg  CHAPTER XVIII \\n\\nI \\n\\nTHOUGH he saw them twi...   \n",
              "82238  85701  gutenberg  CHAPTER XVIII \\n\\nI \\n\\nTHOUGH he saw them twi...   \n",
              "\n",
              "                            q                           a  \\\n",
              "82235        Is she an adult?                         yes   \n",
              "82236  Who does she work for?  Gruensberg Leather Company   \n",
              "82237        Who is her boss?              Mr. Gruensberg   \n",
              "82238        What is her job?                   secretary   \n",
              "\n",
              "                                                    span  \n",
              "82235  She had become secretary to Mr. Gruensberg of ...  \n",
              "82236  She had become secretary to Mr. Gruensberg of ...  \n",
              "82237        She had become secretary to Mr. Gruensberg   \n",
              "82238         She had become secretary to Mr. Gruensberg  "
            ],
            "text/html": [
              "\n",
              "  <div id=\"df-34061cc5-c58a-4794-8c0a-d394142124e6\">\n",
              "    <div class=\"colab-df-container\">\n",
              "      <div>\n",
              "<style scoped>\n",
              "    .dataframe tbody tr th:only-of-type {\n",
              "        vertical-align: middle;\n",
              "    }\n",
              "\n",
              "    .dataframe tbody tr th {\n",
              "        vertical-align: top;\n",
              "    }\n",
              "\n",
              "    .dataframe thead th {\n",
              "        text-align: right;\n",
              "    }\n",
              "</style>\n",
              "<table border=\"1\" class=\"dataframe\">\n",
              "  <thead>\n",
              "    <tr style=\"text-align: right;\">\n",
              "      <th></th>\n",
              "      <th>index</th>\n",
              "      <th>source</th>\n",
              "      <th>p</th>\n",
              "      <th>q</th>\n",
              "      <th>a</th>\n",
              "      <th>span</th>\n",
              "    </tr>\n",
              "  </thead>\n",
              "  <tbody>\n",
              "    <tr>\n",
              "      <th>82235</th>\n",
              "      <td>85698</td>\n",
              "      <td>gutenberg</td>\n",
              "      <td>CHAPTER XVIII \\n\\nI \\n\\nTHOUGH he saw them twi...</td>\n",
              "      <td>Is she an adult?</td>\n",
              "      <td>yes</td>\n",
              "      <td>She had become secretary to Mr. Gruensberg of ...</td>\n",
              "    </tr>\n",
              "    <tr>\n",
              "      <th>82236</th>\n",
              "      <td>85699</td>\n",
              "      <td>gutenberg</td>\n",
              "      <td>CHAPTER XVIII \\n\\nI \\n\\nTHOUGH he saw them twi...</td>\n",
              "      <td>Who does she work for?</td>\n",
              "      <td>Gruensberg Leather Company</td>\n",
              "      <td>She had become secretary to Mr. Gruensberg of ...</td>\n",
              "    </tr>\n",
              "    <tr>\n",
              "      <th>82237</th>\n",
              "      <td>85700</td>\n",
              "      <td>gutenberg</td>\n",
              "      <td>CHAPTER XVIII \\n\\nI \\n\\nTHOUGH he saw them twi...</td>\n",
              "      <td>Who is her boss?</td>\n",
              "      <td>Mr. Gruensberg</td>\n",
              "      <td>She had become secretary to Mr. Gruensberg</td>\n",
              "    </tr>\n",
              "    <tr>\n",
              "      <th>82238</th>\n",
              "      <td>85701</td>\n",
              "      <td>gutenberg</td>\n",
              "      <td>CHAPTER XVIII \\n\\nI \\n\\nTHOUGH he saw them twi...</td>\n",
              "      <td>What is her job?</td>\n",
              "      <td>secretary</td>\n",
              "      <td>She had become secretary to Mr. Gruensberg</td>\n",
              "    </tr>\n",
              "  </tbody>\n",
              "</table>\n",
              "</div>\n",
              "      <button class=\"colab-df-convert\" onclick=\"convertToInteractive('df-34061cc5-c58a-4794-8c0a-d394142124e6')\"\n",
              "              title=\"Convert this dataframe to an interactive table.\"\n",
              "              style=\"display:none;\">\n",
              "        \n",
              "  <svg xmlns=\"http://www.w3.org/2000/svg\" height=\"24px\"viewBox=\"0 0 24 24\"\n",
              "       width=\"24px\">\n",
              "    <path d=\"M0 0h24v24H0V0z\" fill=\"none\"/>\n",
              "    <path d=\"M18.56 5.44l.94 2.06.94-2.06 2.06-.94-2.06-.94-.94-2.06-.94 2.06-2.06.94zm-11 1L8.5 8.5l.94-2.06 2.06-.94-2.06-.94L8.5 2.5l-.94 2.06-2.06.94zm10 10l.94 2.06.94-2.06 2.06-.94-2.06-.94-.94-2.06-.94 2.06-2.06.94z\"/><path d=\"M17.41 7.96l-1.37-1.37c-.4-.4-.92-.59-1.43-.59-.52 0-1.04.2-1.43.59L10.3 9.45l-7.72 7.72c-.78.78-.78 2.05 0 2.83L4 21.41c.39.39.9.59 1.41.59.51 0 1.02-.2 1.41-.59l7.78-7.78 2.81-2.81c.8-.78.8-2.07 0-2.86zM5.41 20L4 18.59l7.72-7.72 1.47 1.35L5.41 20z\"/>\n",
              "  </svg>\n",
              "      </button>\n",
              "      \n",
              "  <style>\n",
              "    .colab-df-container {\n",
              "      display:flex;\n",
              "      flex-wrap:wrap;\n",
              "      gap: 12px;\n",
              "    }\n",
              "\n",
              "    .colab-df-convert {\n",
              "      background-color: #E8F0FE;\n",
              "      border: none;\n",
              "      border-radius: 50%;\n",
              "      cursor: pointer;\n",
              "      display: none;\n",
              "      fill: #1967D2;\n",
              "      height: 32px;\n",
              "      padding: 0 0 0 0;\n",
              "      width: 32px;\n",
              "    }\n",
              "\n",
              "    .colab-df-convert:hover {\n",
              "      background-color: #E2EBFA;\n",
              "      box-shadow: 0px 1px 2px rgba(60, 64, 67, 0.3), 0px 1px 3px 1px rgba(60, 64, 67, 0.15);\n",
              "      fill: #174EA6;\n",
              "    }\n",
              "\n",
              "    [theme=dark] .colab-df-convert {\n",
              "      background-color: #3B4455;\n",
              "      fill: #D2E3FC;\n",
              "    }\n",
              "\n",
              "    [theme=dark] .colab-df-convert:hover {\n",
              "      background-color: #434B5C;\n",
              "      box-shadow: 0px 1px 3px 1px rgba(0, 0, 0, 0.15);\n",
              "      filter: drop-shadow(0px 1px 2px rgba(0, 0, 0, 0.3));\n",
              "      fill: #FFFFFF;\n",
              "    }\n",
              "  </style>\n",
              "\n",
              "      <script>\n",
              "        const buttonEl =\n",
              "          document.querySelector('#df-34061cc5-c58a-4794-8c0a-d394142124e6 button.colab-df-convert');\n",
              "        buttonEl.style.display =\n",
              "          google.colab.kernel.accessAllowed ? 'block' : 'none';\n",
              "\n",
              "        async function convertToInteractive(key) {\n",
              "          const element = document.querySelector('#df-34061cc5-c58a-4794-8c0a-d394142124e6');\n",
              "          const dataTable =\n",
              "            await google.colab.kernel.invokeFunction('convertToInteractive',\n",
              "                                                     [key], {});\n",
              "          if (!dataTable) return;\n",
              "\n",
              "          const docLinkHtml = 'Like what you see? Visit the ' +\n",
              "            '<a target=\"_blank\" href=https://colab.research.google.com/notebooks/data_table.ipynb>data table notebook</a>'\n",
              "            + ' to learn more about interactive tables.';\n",
              "          element.innerHTML = '';\n",
              "          dataTable['output_type'] = 'display_data';\n",
              "          await google.colab.output.renderOutput(dataTable, element);\n",
              "          const docLink = document.createElement('div');\n",
              "          docLink.innerHTML = docLinkHtml;\n",
              "          element.appendChild(docLink);\n",
              "        }\n",
              "      </script>\n",
              "    </div>\n",
              "  </div>\n",
              "  "
            ]
          },
          "metadata": {},
          "execution_count": 46
        }
      ]
    },
    {
      "cell_type": "code",
      "source": [
        "before_split_mask = pd.Series(np.linspace(0, total_rows, total_rows)) < ideal_split_index\n",
        "before_split_mask.value_counts()"
      ],
      "metadata": {
        "execution": {
          "iopub.status.busy": "2023-01-11T21:00:23.699754Z",
          "iopub.execute_input": "2023-01-11T21:00:23.700031Z",
          "iopub.status.idle": "2023-01-11T21:00:23.712578Z",
          "shell.execute_reply.started": "2023-01-11T21:00:23.700006Z",
          "shell.execute_reply": "2023-01-11T21:00:23.711595Z"
        },
        "id": "3VaBpWTneQN7",
        "outputId": "3f8c0b97-546d-4a1f-e18a-adc7e0020c0b",
        "trusted": true,
        "colab": {
          "base_uri": "https://localhost:8080/"
        }
      },
      "execution_count": 47,
      "outputs": [
        {
          "output_type": "execute_result",
          "data": {
            "text/plain": [
              "True     82238\n",
              "False    20560\n",
              "dtype: int64"
            ]
          },
          "metadata": {},
          "execution_count": 47
        }
      ]
    },
    {
      "cell_type": "code",
      "source": [
        "split_story = train_df[\"p\"][ideal_split_index - 1]\n",
        "split_story_mask = train_df[\"p\"] == split_story\n",
        "split_story_mask.value_counts()"
      ],
      "metadata": {
        "execution": {
          "iopub.status.busy": "2023-01-11T21:00:23.714157Z",
          "iopub.execute_input": "2023-01-11T21:00:23.714575Z",
          "iopub.status.idle": "2023-01-11T21:00:23.723884Z",
          "shell.execute_reply.started": "2023-01-11T21:00:23.714541Z",
          "shell.execute_reply": "2023-01-11T21:00:23.722902Z"
        },
        "id": "piLsdDEpeQN7",
        "outputId": "11204993-67e2-4eab-a86a-ddcb1b7ebae8",
        "trusted": true,
        "colab": {
          "base_uri": "https://localhost:8080/"
        }
      },
      "execution_count": 48,
      "outputs": [
        {
          "output_type": "execute_result",
          "data": {
            "text/plain": [
              "False    102780\n",
              "True         18\n",
              "Name: p, dtype: int64"
            ]
          },
          "metadata": {},
          "execution_count": 48
        }
      ]
    },
    {
      "cell_type": "code",
      "source": [
        "train_mask = before_split_mask | split_story_mask\n",
        "train_mask.value_counts()"
      ],
      "metadata": {
        "execution": {
          "iopub.status.busy": "2023-01-11T21:00:23.725141Z",
          "iopub.execute_input": "2023-01-11T21:00:23.725891Z",
          "iopub.status.idle": "2023-01-11T21:00:23.738421Z",
          "shell.execute_reply.started": "2023-01-11T21:00:23.725858Z",
          "shell.execute_reply": "2023-01-11T21:00:23.737522Z"
        },
        "id": "Eix1zlO9eQN8",
        "outputId": "c5bf41d3-95e3-4098-9974-9ca578ad9bc7",
        "trusted": true,
        "colab": {
          "base_uri": "https://localhost:8080/"
        }
      },
      "execution_count": 49,
      "outputs": [
        {
          "output_type": "execute_result",
          "data": {
            "text/plain": [
              "True     82240\n",
              "False    20558\n",
              "dtype: int64"
            ]
          },
          "metadata": {},
          "execution_count": 49
        }
      ]
    },
    {
      "cell_type": "code",
      "source": [
        "val_df = train_df[~train_mask]\n",
        "train_df = train_df[train_mask]\n",
        "len(val_df)"
      ],
      "metadata": {
        "execution": {
          "iopub.status.busy": "2023-01-11T21:00:23.739466Z",
          "iopub.execute_input": "2023-01-11T21:00:23.740447Z",
          "iopub.status.idle": "2023-01-11T21:00:23.756216Z",
          "shell.execute_reply.started": "2023-01-11T21:00:23.740413Z",
          "shell.execute_reply": "2023-01-11T21:00:23.755568Z"
        },
        "id": "UdWGo8SaeQN8",
        "outputId": "07cad9f0-d70b-4be4-a0e6-79640466abfe",
        "trusted": true,
        "colab": {
          "base_uri": "https://localhost:8080/"
        }
      },
      "execution_count": 50,
      "outputs": [
        {
          "output_type": "execute_result",
          "data": {
            "text/plain": [
              "20558"
            ]
          },
          "metadata": {},
          "execution_count": 50
        }
      ]
    },
    {
      "cell_type": "code",
      "source": [
        "train_df.memory_usage()"
      ],
      "metadata": {
        "execution": {
          "iopub.status.busy": "2023-01-11T21:00:23.757225Z",
          "iopub.execute_input": "2023-01-11T21:00:23.758162Z",
          "iopub.status.idle": "2023-01-11T21:00:23.767989Z",
          "shell.execute_reply.started": "2023-01-11T21:00:23.758128Z",
          "shell.execute_reply": "2023-01-11T21:00:23.767067Z"
        },
        "id": "HFMUopPIeQN8",
        "outputId": "c9c09636-d4ce-4ba7-f489-e6a39443c47a",
        "trusted": true,
        "colab": {
          "base_uri": "https://localhost:8080/"
        }
      },
      "execution_count": 51,
      "outputs": [
        {
          "output_type": "execute_result",
          "data": {
            "text/plain": [
              "Index     657920\n",
              "index     657920\n",
              "source     82452\n",
              "p         481552\n",
              "q         657920\n",
              "a         657920\n",
              "span      657920\n",
              "dtype: int64"
            ]
          },
          "metadata": {},
          "execution_count": 51
        }
      ]
    },
    {
      "cell_type": "code",
      "source": [
        "val_df.memory_usage()"
      ],
      "metadata": {
        "execution": {
          "iopub.status.busy": "2023-01-11T21:00:23.769566Z",
          "iopub.execute_input": "2023-01-11T21:00:23.770010Z",
          "iopub.status.idle": "2023-01-11T21:00:23.777596Z",
          "shell.execute_reply.started": "2023-01-11T21:00:23.769976Z",
          "shell.execute_reply": "2023-01-11T21:00:23.776525Z"
        },
        "id": "wBD8UhMOeQN8",
        "outputId": "939cc77a-7e49-4562-ace2-8b16a4053506",
        "trusted": true,
        "colab": {
          "base_uri": "https://localhost:8080/"
        }
      },
      "execution_count": 52,
      "outputs": [
        {
          "output_type": "execute_result",
          "data": {
            "text/plain": [
              "Index     164464\n",
              "index     164464\n",
              "source     20770\n",
              "p         358188\n",
              "q         164464\n",
              "a         164464\n",
              "span      164464\n",
              "dtype: int64"
            ]
          },
          "metadata": {},
          "execution_count": 52
        }
      ]
    },
    {
      "cell_type": "code",
      "source": [
        "test_df.memory_usage()"
      ],
      "metadata": {
        "execution": {
          "iopub.status.busy": "2023-01-11T21:00:23.779329Z",
          "iopub.execute_input": "2023-01-11T21:00:23.779758Z",
          "iopub.status.idle": "2023-01-11T21:00:23.791394Z",
          "shell.execute_reply.started": "2023-01-11T21:00:23.779724Z",
          "shell.execute_reply": "2023-01-11T21:00:23.790355Z"
        },
        "id": "aoWZVRDyeQN8",
        "outputId": "3cedaa2b-e46b-4c98-97ec-b149caf60935",
        "trusted": true,
        "colab": {
          "base_uri": "https://localhost:8080/"
        }
      },
      "execution_count": 53,
      "outputs": [
        {
          "output_type": "execute_result",
          "data": {
            "text/plain": [
              "Index       128\n",
              "source     8129\n",
              "p         36378\n",
              "q         63336\n",
              "a         63336\n",
              "span      63336\n",
              "dtype: int64"
            ]
          },
          "metadata": {},
          "execution_count": 53
        }
      ]
    },
    {
      "cell_type": "markdown",
      "source": [
        "## Utilities"
      ],
      "metadata": {
        "id": "6wuh0_ic1mPd"
      }
    },
    {
      "cell_type": "code",
      "source": [
        "import random\n",
        "import gc\n",
        "import torch\n",
        "import transformers\n",
        "from tqdm import tqdm\n",
        "from typing import Callable, Dict, List, Tuple\n",
        "from timeit import default_timer as timer\n",
        "from transformers import EncoderDecoderModel, AutoTokenizer\n",
        "from torch.utils.data import Dataset, DataLoader"
      ],
      "metadata": {
        "id": "4pKuTsYt1mPd",
        "execution": {
          "iopub.status.busy": "2023-01-11T21:00:25.659175Z",
          "iopub.execute_input": "2023-01-11T21:00:25.659878Z",
          "iopub.status.idle": "2023-01-11T21:00:32.665848Z",
          "shell.execute_reply.started": "2023-01-11T21:00:25.659839Z",
          "shell.execute_reply": "2023-01-11T21:00:32.664667Z"
        },
        "trusted": true
      },
      "execution_count": 54,
      "outputs": []
    },
    {
      "cell_type": "code",
      "source": [
        "def free_some_memory():\n",
        "    torch.cuda.empty_cache()\n",
        "    torch.cuda.reset_accumulated_memory_stats()\n",
        "    gc.collect()"
      ],
      "metadata": {
        "id": "cQfcofYQeQN9"
      },
      "execution_count": 55,
      "outputs": []
    },
    {
      "cell_type": "markdown",
      "source": [
        "###Pytorch Dataset"
      ],
      "metadata": {
        "id": "Wr9lF2r5LJfQ"
      }
    },
    {
      "cell_type": "code",
      "source": [
        "class CreateDataset(Dataset):\n",
        "    def __init__(self, encodings):\n",
        "        self.encodings = encodings\n",
        "\n",
        "    def __getitem__(self, idx):\n",
        "        return {key: torch.tensor(val[idx]) for key, val in self.encodings.items()}\n",
        "\n",
        "    def __len__(self):\n",
        "        return len(self.encodings.input_ids)"
      ],
      "metadata": {
        "execution": {
          "iopub.status.busy": "2023-01-11T21:14:26.719031Z",
          "iopub.execute_input": "2023-01-11T21:14:26.719466Z",
          "iopub.status.idle": "2023-01-11T21:14:26.728550Z",
          "shell.execute_reply.started": "2023-01-11T21:14:26.719389Z",
          "shell.execute_reply": "2023-01-11T21:14:26.727535Z"
        },
        "id": "YmIVbhWPkD31",
        "trusted": true
      },
      "execution_count": 56,
      "outputs": []
    },
    {
      "cell_type": "markdown",
      "source": [
        "### Metric"
      ],
      "metadata": {
        "id": "Z2D0z0w4LYst"
      }
    },
    {
      "cell_type": "markdown",
      "source": [
        "Instead of importing the whole allennlp library, we decided to copy from the source code only of the functions necessary for our task."
      ],
      "metadata": {
        "id": "3pDzWxTNLg1d"
      }
    },
    {
      "cell_type": "code",
      "source": [
        "#utility functions taken from the allennlp library for computing the F1-score\n",
        "import collections\n",
        "import re\n",
        "import string\n",
        "from typing import Callable, Sequence, TypeVar, Tuple\n",
        "\n",
        "def get_tokens(s):\n",
        "    if not s:\n",
        "        return []\n",
        "    return normalize_answer(s).split()\n",
        "\n",
        "def normalize_answer(s):\n",
        "    \"\"\"Lower text and remove punctuation, articles and extra whitespace.\"\"\"\n",
        "\n",
        "    def remove_articles(text):\n",
        "        regex = re.compile(r\"\\b(a|an|the)\\b\", re.UNICODE)\n",
        "        return re.sub(regex, \" \", text)\n",
        "\n",
        "    def white_space_fix(text):\n",
        "        return \" \".join(text.split())\n",
        "\n",
        "    def remove_punc(text):\n",
        "        exclude = set(string.punctuation)\n",
        "        return \"\".join(ch for ch in text if ch not in exclude)\n",
        "\n",
        "    def lower(text):\n",
        "        return text.lower()\n",
        "\n",
        "    return white_space_fix(remove_articles(remove_punc(lower(s))))\n",
        "\n",
        "def compute_f1(a_pred: str, a_gold: str) -> float:\n",
        "    pred_toks = get_tokens(a_pred)\n",
        "    gold_toks = get_tokens(a_gold)\n",
        "    common = collections.Counter(pred_toks) & collections.Counter(gold_toks)  # type: ignore[var-annotated]\n",
        "    num_same = sum(common.values())\n",
        "    if len(pred_toks) == 0 or len(gold_toks) == 0:\n",
        "        # If either is no-answer, then F1 is 1 if they agree, 0 otherwise\n",
        "        return float(pred_toks == gold_toks)\n",
        "    if num_same == 0:\n",
        "        return 0.0\n",
        "    precision = 1.0 * num_same / len(pred_toks)\n",
        "    recall = 1.0 * num_same / len(gold_toks)\n",
        "    f1 = (2 * precision * recall) / (precision + recall)\n",
        "    return f1"
      ],
      "metadata": {
        "id": "9FKIPvM1CmVN"
      },
      "execution_count": 57,
      "outputs": []
    },
    {
      "cell_type": "code",
      "source": [
        "def generate_answers(model: torch.nn.Module,\n",
        "                    df_input: pd.DataFrame,\n",
        "                    max_length: int,\n",
        "                    tokenizer: any):\n",
        "\n",
        "    '''\n",
        "    Given the model and the input, returns a dataframe cointaining the generated answers and relative F1-score\n",
        "    \n",
        "    Args:\n",
        "        model: Torch model used to generate answers\n",
        "        df_input: dataframe containing the input to the model\n",
        "        max_length: max length applied in the tokenization\n",
        "        tokenizer: generic tokenizer\n",
        "    '''\n",
        "\n",
        "    device = torch.device('cuda') if torch.cuda.is_available() else torch.device('cpu')\n",
        "\n",
        "    input_values = tokenizer(list(df_input['q']),list(df_input['p']), \n",
        "                                padding=True, \n",
        "                                truncation=True, \n",
        "                                max_length = max_length)\n",
        "                                \n",
        "    input_ids, input_attention_mask = input_values['input_ids'], input_values['attention_mask']\n",
        "    list_generated = []\n",
        "    model.to(device)\n",
        "    # Set the model in evaluation mode\n",
        "    model.eval()\n",
        "    for input, mask in zip(input_ids,input_attention_mask):\n",
        "        input = np.expand_dims(np.array(input), axis=0)\n",
        "        mask = np.expand_dims(np.array(mask), axis=0)\n",
        "        generated = model.generate(input_ids=torch.tensor(input).to(device),\n",
        "                                                        max_length=20,\n",
        "                                                        repetition_penalty=5.,\n",
        "                                                        min_length=1,\n",
        "                                                        no_repeat_ngram_size=3,\n",
        "                                                        early_stopping=True,\n",
        "                                                        decoder_start_token_id = model.config.decoder_start_token_id,\n",
        "                                                        num_beams=2,\n",
        "                                                        )\n",
        "        generated = tokenizer.batch_decode(generated, skip_special_tokens=True)\n",
        "        list_generated.append(generated)\n",
        "\n",
        "    # Create a dataframe and insert the real answers\n",
        "    df_generated = pd.DataFrame(list_generated, columns = ['generated'])\n",
        "    df_generated['answers'] = df_input['a']\n",
        "\n",
        "    # Generate and insert the F1-score\n",
        "    score = []\n",
        "    for a_pred, a_gold in zip(df_generated['generated'], df_generated['answers']):\n",
        "        score.append(compute_f1(a_pred, a_gold))\n",
        "    df_generated['score'] = score\n",
        "\n",
        "    # Print average and len\n",
        "    average_score = np.mean(score)\n",
        "    predicted = len(df_generated[df_generated['score'] != 0])\n",
        "    \n",
        "    print(f'Average_score: {average_score}')\n",
        "    print(f'Length: {predicted} / {len(df_generated)}')\n",
        "    return df_generated"
      ],
      "metadata": {
        "id": "0Rv6DjFnu2et"
      },
      "execution_count": 58,
      "outputs": []
    },
    {
      "cell_type": "markdown",
      "source": [
        "## Model definition"
      ],
      "metadata": {
        "id": "SICbZ6vB1mPd"
      }
    },
    {
      "cell_type": "markdown",
      "source": [
        "In this assignment to tackle the sequence to sequence task, we decided to use transformer-based encoder-decoder models - often also called seq2seq transformer models. The EncoderDecoderModel is initialized from a pretrained encoder checkpoint and a pretrained decoder checkpoint. To do so, the EncoderDecoderModel class provides a EncoderDecoderModel.from_encoder_decoder_pretrained() method."
      ],
      "metadata": {
        "id": "2rkmZ-I83G37"
      }
    },
    {
      "cell_type": "code",
      "source": [
        "def getModel(model_name):\n",
        "  if(model_name != 'prajjwal1/bert-tiny') and (model_name != 'distilroberta-base'):\n",
        "    raise Exception(\"ValueError: model name should be 'prajjwal1/bert-tiny' or 'distilroberta-base'.\")\n",
        "  \n",
        "  # tie_encoder_decoder to share weights and half the number of parameters\n",
        "  model = EncoderDecoderModel.from_encoder_decoder_pretrained(model_name, model_name,\n",
        "                                                                          tie_encoder_decoder=True)\n",
        "  tokenizer = AutoTokenizer.from_pretrained(model_name)\n",
        "\n",
        "  # set special tokens\n",
        "  model.config.decoder_start_token_id = tokenizer.cls_token_id\n",
        "  model.config.eos_token_id = tokenizer.sep_token_id\n",
        "  model.config.pad_token_id = tokenizer.pad_token_id\n",
        "\n",
        "  # set decoding parameters                             \n",
        "  model.config.early_stopping = True\n",
        "  model.config.no_repeat_ngram_size = 3\n",
        "  model.config.repetition_penalty = 5.0\n",
        "  model.config.num_beams = 2\n",
        "  model.config.vocab_size = model.config.encoder.vocab_size\n",
        "  return model, tokenizer\n"
      ],
      "metadata": {
        "id": "NuNeaZwnxuOw"
      },
      "execution_count": 59,
      "outputs": []
    },
    {
      "cell_type": "markdown",
      "source": [
        "## Question generation $f_\\theta(P, Q)$ with text passage $P$ and question $Q$"
      ],
      "metadata": {
        "id": "1aFTVbjH1mPf"
      }
    },
    {
      "cell_type": "markdown",
      "source": [
        "### Train Functionalities\n"
      ],
      "metadata": {
        "id": "SKp0Kz_C0z1K"
      }
    },
    {
      "cell_type": "code",
      "source": [
        "# Train one epoch\n",
        "def train(model: torch.nn.Module,\n",
        "          train_loader:torch.utils.data.DataLoader,\n",
        "          device: torch.device,          \n",
        "          optimizer: torch.optim,\n",
        "          epoch: int) -> float:\n",
        "    \"\"\"Trains a neural network for one epoch.\n",
        "\n",
        "    Args:\n",
        "        model: the model to train.\n",
        "        train_loader: the data loader containing the training data.\n",
        "        device: the device to use to train the model.        \n",
        "        optimizer: the optimizer to use to train the model.\n",
        "        log_interval: the log interval.\n",
        "        epoch: the number of the current epoch.\n",
        "\n",
        "    Returns:\n",
        "        the cross entropy Loss value on the training data.\n",
        "    \"\"\"    \n",
        "    size_ds_train = len(train_loader.dataset)\n",
        "    num_batches = len(train_loader)\n",
        "    loss_score = []\n",
        "    loop = tqdm(train_loader)\n",
        "    #set training mode\n",
        "    model.train()\n",
        "    for idx_batch, batch in enumerate(loop):\n",
        "        optimizer.zero_grad()\n",
        "        input_ids = batch['input_ids'].to(device)\n",
        "        attention_mask = batch['attention_mask'].to(device)\n",
        "        labels = batch['labels'].to(device)\n",
        "        loss, outputs = model(input_ids,\n",
        "                              attention_mask=attention_mask,\n",
        "                              labels = labels\n",
        "                        )[:2]\n",
        "        loss_score.append(loss.item())\n",
        "        loss.backward()\n",
        "        optimizer.step() \n",
        "        loop.set_description(f'Epoch {epoch}')\n",
        "        #loop.set_postfix(loss=loss.item())\n",
        "\n",
        "    loss_train = np.mean(loss_score)\n",
        "    return loss_train\n",
        "\n",
        "# Validate one epoch\n",
        "def validate(model: torch.nn.Module,\n",
        "             data_loader: torch.utils.data.DataLoader,\n",
        "             device: torch.device) -> float:\n",
        "    \"\"\"Evaluates the model.\n",
        "\n",
        "    Args:\n",
        "        model: the model to evalaute.\n",
        "        data_loader: the data loader containing the validation data.\n",
        "        device: the device to use to evaluate the model.\n",
        "\n",
        "    Returns:\n",
        "        the loss value on the validation data.\n",
        "    \"\"\"\n",
        "    loss_score = []\n",
        "    #set evaluation mode\n",
        "    model = model.eval()\n",
        "    with torch.no_grad():\n",
        "        for idx_batch, batch in enumerate(data_loader):\n",
        "            input_ids = batch['input_ids'].to(device)\n",
        "            attention_mask = batch['attention_mask'].to(device)\n",
        "            labels = batch['labels'].to(device)\n",
        "            loss, outputs = model(input_ids,\n",
        "                                  attention_mask=attention_mask,\n",
        "                                  labels = labels\n",
        "                            )[:2]\n",
        "            loss_score.append(loss.item())\n",
        "    loss_val = np.mean(loss_score)\n",
        "    return loss_val"
      ],
      "metadata": {
        "id": "P-3GGR9O05dn"
      },
      "execution_count": 60,
      "outputs": []
    },
    {
      "cell_type": "code",
      "source": [
        "def training_loop(num_epochs: int,\n",
        "                  optimizer: torch.optim, \n",
        "                  model: torch.nn.Module, \n",
        "                  loader_train: torch.utils.data.DataLoader, \n",
        "                  loader_val: torch.utils.data.DataLoader, \n",
        "                  verbose: bool=True) -> Dict:\n",
        "    \"\"\"Executes the training loop.\n",
        "    \n",
        "        Args:\n",
        "            num_epochs: the number of epochs.\n",
        "            optimizer: the optimizer to use.\n",
        "            model: the mode to train.\n",
        "            loader_train: the data loader containing the training data.\n",
        "            loader_val: the data loader containing the validation data.\n",
        "            verbose: if true print the value of loss.\n",
        "\n",
        "        Returns:  \n",
        "            A dictionary with the statistics computed during the train:\n",
        "            the values for the train loss for each epoch.\n",
        "            the time of execution in seconds for the entire loop.\n",
        "    \"\"\"\n",
        "    device = torch.device('cuda') if torch.cuda.is_available() else torch.device('cpu')\n",
        "    model.to(device)\n",
        "    loop_start = timer()\n",
        "    losses_values = []\n",
        "    for epoch in range(1, num_epochs + 1):\n",
        "        time_start = timer()\n",
        "        loss_train = train(model, loader_train, device, \n",
        "                                           optimizer, epoch)\n",
        "        loss_val = validate(model, loader_val, device)\n",
        "        time_end = timer()\n",
        "        losses_values.append(loss_train)\n",
        "        if verbose:            \n",
        "            print(f'Epoch: {epoch} '\n",
        "                  f' Lr: {lr:.8f} '\n",
        "                  f' Loss: Train = [{loss_train:.4f}] - Val = [{loss_val:.4f}] '\n",
        "                  f' Time one epoch (s): {(time_end - time_start):.4f} ')\n",
        "    loop_end = timer()\n",
        "    time_loop = loop_end - loop_start\n",
        "    if verbose:\n",
        "        print(f'Time for {num_epochs} epochs (s): {(time_loop):.3f}') \n",
        "        \n",
        "    return {'loss_values': losses_values,\n",
        "            'time': time_loop}"
      ],
      "metadata": {
        "id": "ZRJmWE8R1bIB"
      },
      "execution_count": 61,
      "outputs": []
    },
    {
      "cell_type": "markdown",
      "source": [
        "###Encodings"
      ],
      "metadata": {
        "id": "ZZwPf5KGh8AH"
      }
    },
    {
      "cell_type": "code",
      "source": [
        "def encodings(model_name, \n",
        "              tokenizer,\n",
        "              encoder_max_length,\n",
        "              decoder_max_length,\n",
        "              df):\n",
        "  encodings = tokenizer(list(df['q']), list(df['p']), \n",
        "                            padding=True,\n",
        "                            truncation= 'only_second',\n",
        "                            max_length = encoder_max_length,\n",
        "                            )\n",
        "  input_ids, input_attention_mask = encodings['input_ids'], encodings['attention_mask']\n",
        "  label_values = tokenizer(list(df['a']),\n",
        "                            padding=True,\n",
        "                            truncation=True,\n",
        "                            max_length = decoder_max_length,\n",
        "                            )\n",
        "  labels, labels_mask = label_values['input_ids'], label_values['attention_mask']\n",
        "  #Tokens with indices set to ``-100`` are ignored (masked) during training, the loss is only computed for the tokens with labels\n",
        "  masked_labels = [[-100 if token == tokenizer.pad_token_id else token for token in labels] for labels in labels]\n",
        "\n",
        "  #add the labels to the batch encodings dictionary, then this will be used to create a pytorch dataset\n",
        "  if(model_name == 'prajjwal1/bert-tiny'):\n",
        "    #token_type_ids are not relevant for the training process\n",
        "    encodings.pop('token_type_ids')\n",
        "  encodings.update({'labels': masked_labels})\n",
        "  return encodings"
      ],
      "metadata": {
        "id": "tmQuDvN1rq1D"
      },
      "execution_count": 62,
      "outputs": []
    },
    {
      "cell_type": "markdown",
      "source": [
        "###Execution"
      ],
      "metadata": {
        "id": "YgAgAhQKiQsA"
      }
    },
    {
      "cell_type": "code",
      "source": [
        "def execute(model_name: str,\n",
        "            lr: float, \n",
        "            num_epochs: int, \n",
        "            batch_size: int,\n",
        "            train_df: pd.DataFrame,\n",
        "            val_df: pd.DataFrame,\n",
        "            ) ->Tuple[torch.nn.Module, any]:\n",
        "    \"\"\"Gets the model, does the encodings of the training and validation data using the \n",
        "        tokenizer, and then executes the training loop.\n",
        "\n",
        "    Args:\n",
        "        model: the network to train.\n",
        "        lr: the learning rate.\n",
        "        num_epochs: the number of epochs.\n",
        "        batch_size: th batch size.\n",
        "        train_df: training dataframe.\n",
        "        val_df: validation dataframe.\n",
        "    \"\"\"\n",
        "    #get the model and the tokenizer\n",
        "    model, tokenizer = getModel(model_name)\n",
        "    #Start encodings\n",
        "    if(model_name == 'prajjwal1/bert-tiny'):\n",
        "      encoder_max_length = 499\n",
        "      decoder_max_length = 25\n",
        "    elif(model_name == 'distilroberta-base'):\n",
        "      encoder_max_length = 512\n",
        "      decoder_max_length = 25\n",
        "\n",
        "    #add history option\n",
        "    train_encodings = encodings(model_name, tokenizer, encoder_max_length, decoder_max_length,\n",
        "                                train_df)\n",
        "    val_encodings = encodings(model_name, tokenizer, encoder_max_length, decoder_max_length,\n",
        "                            val_df)\n",
        "    \n",
        "    #create training dataset\n",
        "    train_dataset = CreateDataset(train_encodings)\n",
        "    #create training dataloader\n",
        "    data_loader_train = torch.utils.data.DataLoader(train_dataset,\n",
        "                                        batch_size=batch_size,\n",
        "                                        shuffle = True\n",
        "                                        )\n",
        "    #create validation dataset\n",
        "    val_dataset = CreateDataset(val_encodings)\n",
        "    #create validation dataloader\n",
        "    data_loader_val = torch.utils.data.DataLoader(val_dataset,\n",
        "                                        batch_size=batch_size,\n",
        "                                        shuffle = False\n",
        "                                        )\n",
        "\n",
        "    #Optimizer\n",
        "    optimizer = torch.optim.AdamW(model.parameters(), lr=lr)\n",
        "    print(f'Start training.')\n",
        "    statistics = training_loop(num_epochs, optimizer, model,\n",
        "                               data_loader_train, data_loader_val)\n",
        "    print(f'Training complete.')\n",
        "    return model, tokenizer\n"
      ],
      "metadata": {
        "id": "_04W2EehrIH1"
      },
      "execution_count": 63,
      "outputs": []
    },
    {
      "cell_type": "markdown",
      "source": [
        "## Question generation $f_\\theta(P, Q, H)$ with text passage $P$, question $Q$ and dialogue history $H$"
      ],
      "metadata": {
        "id": "scfOBhZf1mPp"
      }
    },
    {
      "cell_type": "markdown",
      "source": [
        "## Train and evaluate $f_\\theta(P, Q)$ and $f_\\theta(P, Q, H)$"
      ],
      "metadata": {
        "id": "WpTttkRT1mPq"
      }
    },
    {
      "cell_type": "code",
      "source": [
        "#fix seed 42,2022,1337\n",
        "fix_seed(42)\n",
        "#take a subset from the training set\n",
        "max_train = len(train_df)\n",
        "t_start = 0\n",
        "t_end = 50000\n",
        "train_df = train_df[t_start:t_end]\n",
        "#take a subset from the validation set\n",
        "max_val = len(val_df)\n",
        "v_start = 0\n",
        "v_end = 10000\n",
        "val_df = val_df[v_start:v_end]\n",
        "print(f'Training set shape: {(t_end-t_start)}\\nValidation set shape: {(v_end-v_start)}')"
      ],
      "metadata": {
        "id": "oL3BVkcG5KZ8",
        "execution": {
          "iopub.status.busy": "2023-01-11T21:02:30.468289Z",
          "iopub.execute_input": "2023-01-11T21:02:30.468677Z",
          "iopub.status.idle": "2023-01-11T21:02:30.473979Z",
          "shell.execute_reply.started": "2023-01-11T21:02:30.468625Z",
          "shell.execute_reply": "2023-01-11T21:02:30.472922Z"
        },
        "trusted": true,
        "outputId": "f048c6e0-183a-476c-aab2-c85d11d460c2",
        "colab": {
          "base_uri": "https://localhost:8080/"
        }
      },
      "execution_count": 64,
      "outputs": [
        {
          "output_type": "stream",
          "name": "stdout",
          "text": [
            "Training set shape: 50000\n",
            "Validation set shape: 10000\n"
          ]
        }
      ]
    },
    {
      "cell_type": "markdown",
      "source": [
        "####Training"
      ],
      "metadata": {
        "id": "HeNHSux9Xscg"
      }
    },
    {
      "cell_type": "code",
      "source": [
        "#parameters (4e-5)\n",
        "lr = 4e-4\n",
        "num_epochs = 3\n",
        "#if you are having runtime error reduce the batch size to 12 or 8\n",
        "batch_size = 16\n",
        "model_name = 'prajjwal1/bert-tiny'\n",
        "#model_name = 'distilroberta-base'\n",
        "#execute\n",
        "model, tokenizer = execute(model_name, lr, num_epochs, batch_size, train_df, val_df)"
      ],
      "metadata": {
        "id": "vowXc6lgygac",
        "outputId": "574f0f7f-f9f5-42b3-9f15-3cbfa080cf07",
        "colab": {
          "base_uri": "https://localhost:8080/",
          "height": 411,
          "referenced_widgets": [
            "a34e9194cbe149739d8f40b7dbb19f4d",
            "c78018b2f9824807a4c199bdf9ffb3af",
            "a9dbddb901914e26bdabe9464de8b577",
            "097ba239776f4983ad5e1e6e1211d752",
            "114827b70d704d189d59e26fad449b52",
            "1737cb3af365409895b2840f8d352810",
            "358899239dab440ba2fe4eb2475940b2",
            "9c693c4ef7714c42a899e0901499a667",
            "833514d8bf14482ca94f00d60d3ecd07",
            "04c72321b1db4af08e4ee4b4e3b0d70f",
            "5c0cc8c0d82848b0b90a82bbd9380033",
            "14a1813d7b9f423ba0b2a9081accd37a",
            "f2aae2917d104521b581b538b7baedf7",
            "212a520188844543b0e163830b349712",
            "fe14278abf98458e823f3f0923e5b9f7",
            "f975e3f91ecc4e828bec4a86de456ae6",
            "6f14ed2faeaa46a8af850a7bd083c06c",
            "203db76263a34a9aa5f3f9a18cb806d6",
            "6f44defb241f4c29807f82163a97a4c1",
            "5ffc30888e534cf7907c3d9816c88f84",
            "0284a69b0d6049eaa3013fd9ca703436",
            "7c0167b8fea74320a9a414f5c421d723",
            "ca87d5b7b4ad42f48aa9af1b893a8738",
            "b4f938388db443f59e559323083e9725",
            "54e412ec73b74e6a90de1aeca0954768",
            "516249517b1b4394b6ea7469899c13d2",
            "aeda317611cd4da0b5a6b2799f7cad85",
            "4802f463f4704bf288fb12a09cbdffa4",
            "47551660935a4fdf87db97d6aa69f33f",
            "4e1669ddf5ee45668a649647418298e4",
            "175f0f332ce146129b1afebcd3c45452",
            "f1c106dee54a40248fca913dd450d2f9",
            "1dc358944c2446e685b5cee29db210ad"
          ]
        }
      },
      "execution_count": 65,
      "outputs": [
        {
          "output_type": "display_data",
          "data": {
            "text/plain": [
              "Downloading:   0%|          | 0.00/285 [00:00<?, ?B/s]"
            ],
            "application/vnd.jupyter.widget-view+json": {
              "version_major": 2,
              "version_minor": 0,
              "model_id": "a34e9194cbe149739d8f40b7dbb19f4d"
            }
          },
          "metadata": {}
        },
        {
          "output_type": "display_data",
          "data": {
            "text/plain": [
              "Downloading:   0%|          | 0.00/17.8M [00:00<?, ?B/s]"
            ],
            "application/vnd.jupyter.widget-view+json": {
              "version_major": 2,
              "version_minor": 0,
              "model_id": "14a1813d7b9f423ba0b2a9081accd37a"
            }
          },
          "metadata": {}
        },
        {
          "output_type": "stream",
          "name": "stderr",
          "text": [
            "Some weights of the model checkpoint at prajjwal1/bert-tiny were not used when initializing BertModel: ['cls.seq_relationship.weight', 'cls.predictions.transform.LayerNorm.bias', 'cls.predictions.decoder.bias', 'cls.predictions.transform.dense.bias', 'cls.predictions.decoder.weight', 'cls.predictions.bias', 'cls.predictions.transform.LayerNorm.weight', 'cls.predictions.transform.dense.weight', 'cls.seq_relationship.bias']\n",
            "- This IS expected if you are initializing BertModel from the checkpoint of a model trained on another task or with another architecture (e.g. initializing a BertForSequenceClassification model from a BertForPreTraining model).\n",
            "- This IS NOT expected if you are initializing BertModel from the checkpoint of a model that you expect to be exactly identical (initializing a BertForSequenceClassification model from a BertForSequenceClassification model).\n",
            "Some weights of the model checkpoint at prajjwal1/bert-tiny were not used when initializing BertLMHeadModel: ['cls.seq_relationship.weight', 'cls.seq_relationship.bias']\n",
            "- This IS expected if you are initializing BertLMHeadModel from the checkpoint of a model trained on another task or with another architecture (e.g. initializing a BertForSequenceClassification model from a BertForPreTraining model).\n",
            "- This IS NOT expected if you are initializing BertLMHeadModel from the checkpoint of a model that you expect to be exactly identical (initializing a BertForSequenceClassification model from a BertForSequenceClassification model).\n",
            "Some weights of BertLMHeadModel were not initialized from the model checkpoint at prajjwal1/bert-tiny and are newly initialized: ['bert.encoder.layer.1.crossattention.output.dense.weight', 'bert.encoder.layer.0.crossattention.output.dense.weight', 'bert.encoder.layer.1.crossattention.self.value.weight', 'bert.encoder.layer.1.crossattention.self.key.weight', 'bert.encoder.layer.0.crossattention.output.dense.bias', 'bert.encoder.layer.0.crossattention.self.query.weight', 'bert.encoder.layer.0.crossattention.self.value.bias', 'bert.encoder.layer.1.crossattention.output.LayerNorm.weight', 'bert.encoder.layer.0.crossattention.self.query.bias', 'bert.encoder.layer.0.crossattention.self.key.bias', 'bert.encoder.layer.0.crossattention.self.value.weight', 'bert.encoder.layer.1.crossattention.self.value.bias', 'bert.encoder.layer.0.crossattention.output.LayerNorm.weight', 'bert.encoder.layer.1.crossattention.self.query.weight', 'bert.encoder.layer.0.crossattention.output.LayerNorm.bias', 'bert.encoder.layer.1.crossattention.output.LayerNorm.bias', 'bert.encoder.layer.1.crossattention.self.query.bias', 'bert.encoder.layer.0.crossattention.self.key.weight', 'bert.encoder.layer.1.crossattention.output.dense.bias', 'bert.encoder.layer.1.crossattention.self.key.bias']\n",
            "You should probably TRAIN this model on a down-stream task to be able to use it for predictions and inference.\n",
            "The following encoder weights were not tied to the decoder ['bert/pooler']\n"
          ]
        },
        {
          "output_type": "display_data",
          "data": {
            "text/plain": [
              "Downloading:   0%|          | 0.00/232k [00:00<?, ?B/s]"
            ],
            "application/vnd.jupyter.widget-view+json": {
              "version_major": 2,
              "version_minor": 0,
              "model_id": "ca87d5b7b4ad42f48aa9af1b893a8738"
            }
          },
          "metadata": {}
        },
        {
          "output_type": "stream",
          "name": "stdout",
          "text": [
            "Start training.\n"
          ]
        },
        {
          "output_type": "stream",
          "name": "stderr",
          "text": [
            "  0%|          | 0/3125 [00:00<?, ?it/s]/usr/local/lib/python3.8/dist-packages/transformers/models/encoder_decoder/modeling_encoder_decoder.py:634: FutureWarning: Version v4.12.0 introduces a better way to train encoder-decoder models by computing the loss inside the encoder-decoder framework rather than in the decoder itself. You may observe training discrepancies if fine-tuning a model trained with versions anterior to 4.12.0. The decoder_input_ids are now created based on the labels, no need to pass them yourself anymore.\n",
            "  warnings.warn(DEPRECATION_WARNING, FutureWarning)\n",
            "Epoch 1: 100%|██████████| 3125/3125 [02:22<00:00, 21.90it/s]\n"
          ]
        },
        {
          "output_type": "stream",
          "name": "stdout",
          "text": [
            "Epoch: 1  Lr: 0.00040000  Loss: Train = [4.0951] - Val = [3.7004]  Time one epoch (s): 149.6447 \n",
            "Time for 1 epochs (s): 149.645\n",
            "Training complete.\n"
          ]
        }
      ]
    },
    {
      "cell_type": "code",
      "source": [
        "free_some_memory()"
      ],
      "metadata": {
        "id": "PS4LyEvk1y88",
        "execution": {
          "iopub.status.busy": "2023-01-11T21:09:53.586258Z",
          "iopub.execute_input": "2023-01-11T21:09:53.587050Z",
          "iopub.status.idle": "2023-01-11T21:09:54.598001Z",
          "shell.execute_reply.started": "2023-01-11T21:09:53.587012Z",
          "shell.execute_reply": "2023-01-11T21:09:54.596968Z"
        },
        "trusted": true
      },
      "execution_count": 66,
      "outputs": []
    },
    {
      "cell_type": "markdown",
      "source": [
        "#### Evaluation"
      ],
      "metadata": {
        "id": "1ezjXyEag7rc"
      }
    },
    {
      "cell_type": "markdown",
      "source": [
        "Encode test set using the tokenizer defined before."
      ],
      "metadata": {
        "id": "ZpudKS7ZhCN6"
      }
    },
    {
      "cell_type": "code",
      "source": [
        "if(model_name == 'prajjwal1/bert-tiny'):\n",
        "  encoder_max_length = 499\n",
        "elif(model_name == 'distilroberta-base'):\n",
        "  encoder_max_length = 512\n",
        "df_generated = generate_answers(model=model, \n",
        "                                df_input=test_df,\n",
        "                                max_length = encoder_max_length,\n",
        "                                tokenizer=tokenizer)"
      ],
      "metadata": {
        "id": "9d0krT9su2ew",
        "outputId": "e8b23290-2327-44c7-9dd6-57a1e319edbd",
        "colab": {
          "base_uri": "https://localhost:8080/"
        }
      },
      "execution_count": 67,
      "outputs": [
        {
          "output_type": "stream",
          "name": "stdout",
          "text": [
            "Average_score: 0.12154292160325147\n",
            "Length: 1184 / 7917\n"
          ]
        }
      ]
    },
    {
      "cell_type": "code",
      "source": [
        "pd.set_option('display.max_rows', None)\n",
        "correct_answers = df_generated[df_generated['score'] != 0].reset_index(drop=True).sort_values('score',ascending=False)\n",
        "correct_answers.head(50)"
      ],
      "metadata": {
        "id": "WuX0FbSZu2ew",
        "outputId": "e8a63e20-72a0-4824-c25f-c5308ac3aea8",
        "colab": {
          "base_uri": "https://localhost:8080/",
          "height": 1000
        }
      },
      "execution_count": 73,
      "outputs": [
        {
          "output_type": "execute_result",
          "data": {
            "text/plain": [
              "    generated answers  score\n",
              "592       yes     Yes    1.0\n",
              "737        no      No    1.0\n",
              "715        no      No    1.0\n",
              "717        no      No    1.0\n",
              "718        no      No    1.0\n",
              "720        no      no    1.0\n",
              "721        no      no    1.0\n",
              "723     three   Three    1.0\n",
              "726        no      No    1.0\n",
              "727        no      No    1.0\n",
              "729     three   three    1.0\n",
              "730     three   three    1.0\n",
              "732        no      no    1.0\n",
              "733        no      no    1.0\n",
              "734        no      no    1.0\n",
              "738        no     No!    1.0\n",
              "756        no      no    1.0\n",
              "739        no      no    1.0\n",
              "740        no     No.    1.0\n",
              "741        no     No.    1.0\n",
              "742        no     No.    1.0\n",
              "744        no     No.    1.0\n",
              "745        no      no    1.0\n",
              "747        no     No.    1.0\n",
              "748        no      No    1.0\n",
              "749        no      No    1.0\n",
              "751     false   false    1.0\n",
              "752        no      No    1.0\n",
              "753        no      No    1.0\n",
              "754        no      No    1.0\n",
              "714     three   Three    1.0\n",
              "713        no      No    1.0\n",
              "710        no      no    1.0\n",
              "708       yes     Yes    1.0\n",
              "671        no      No    1.0\n",
              "672        no      no    1.0\n",
              "673        no      no    1.0\n",
              "674        no      no    1.0\n",
              "676        no      no    1.0\n",
              "677        no      no    1.0\n",
              "678        no      no    1.0\n",
              "679        no     No.    1.0\n",
              "680        no     No.    1.0\n",
              "681        no     No.    1.0\n",
              "682        no     No.    1.0\n",
              "685        no      No    1.0\n",
              "686        no      No    1.0\n",
              "687        no      no    1.0\n",
              "688        no      No    1.0\n",
              "689       yes     yes    1.0"
            ],
            "text/html": [
              "\n",
              "  <div id=\"df-8f7df149-fda3-4221-b954-b129005999a5\">\n",
              "    <div class=\"colab-df-container\">\n",
              "      <div>\n",
              "<style scoped>\n",
              "    .dataframe tbody tr th:only-of-type {\n",
              "        vertical-align: middle;\n",
              "    }\n",
              "\n",
              "    .dataframe tbody tr th {\n",
              "        vertical-align: top;\n",
              "    }\n",
              "\n",
              "    .dataframe thead th {\n",
              "        text-align: right;\n",
              "    }\n",
              "</style>\n",
              "<table border=\"1\" class=\"dataframe\">\n",
              "  <thead>\n",
              "    <tr style=\"text-align: right;\">\n",
              "      <th></th>\n",
              "      <th>generated</th>\n",
              "      <th>answers</th>\n",
              "      <th>score</th>\n",
              "    </tr>\n",
              "  </thead>\n",
              "  <tbody>\n",
              "    <tr>\n",
              "      <th>592</th>\n",
              "      <td>yes</td>\n",
              "      <td>Yes</td>\n",
              "      <td>1.0</td>\n",
              "    </tr>\n",
              "    <tr>\n",
              "      <th>737</th>\n",
              "      <td>no</td>\n",
              "      <td>No</td>\n",
              "      <td>1.0</td>\n",
              "    </tr>\n",
              "    <tr>\n",
              "      <th>715</th>\n",
              "      <td>no</td>\n",
              "      <td>No</td>\n",
              "      <td>1.0</td>\n",
              "    </tr>\n",
              "    <tr>\n",
              "      <th>717</th>\n",
              "      <td>no</td>\n",
              "      <td>No</td>\n",
              "      <td>1.0</td>\n",
              "    </tr>\n",
              "    <tr>\n",
              "      <th>718</th>\n",
              "      <td>no</td>\n",
              "      <td>No</td>\n",
              "      <td>1.0</td>\n",
              "    </tr>\n",
              "    <tr>\n",
              "      <th>720</th>\n",
              "      <td>no</td>\n",
              "      <td>no</td>\n",
              "      <td>1.0</td>\n",
              "    </tr>\n",
              "    <tr>\n",
              "      <th>721</th>\n",
              "      <td>no</td>\n",
              "      <td>no</td>\n",
              "      <td>1.0</td>\n",
              "    </tr>\n",
              "    <tr>\n",
              "      <th>723</th>\n",
              "      <td>three</td>\n",
              "      <td>Three</td>\n",
              "      <td>1.0</td>\n",
              "    </tr>\n",
              "    <tr>\n",
              "      <th>726</th>\n",
              "      <td>no</td>\n",
              "      <td>No</td>\n",
              "      <td>1.0</td>\n",
              "    </tr>\n",
              "    <tr>\n",
              "      <th>727</th>\n",
              "      <td>no</td>\n",
              "      <td>No</td>\n",
              "      <td>1.0</td>\n",
              "    </tr>\n",
              "    <tr>\n",
              "      <th>729</th>\n",
              "      <td>three</td>\n",
              "      <td>three</td>\n",
              "      <td>1.0</td>\n",
              "    </tr>\n",
              "    <tr>\n",
              "      <th>730</th>\n",
              "      <td>three</td>\n",
              "      <td>three</td>\n",
              "      <td>1.0</td>\n",
              "    </tr>\n",
              "    <tr>\n",
              "      <th>732</th>\n",
              "      <td>no</td>\n",
              "      <td>no</td>\n",
              "      <td>1.0</td>\n",
              "    </tr>\n",
              "    <tr>\n",
              "      <th>733</th>\n",
              "      <td>no</td>\n",
              "      <td>no</td>\n",
              "      <td>1.0</td>\n",
              "    </tr>\n",
              "    <tr>\n",
              "      <th>734</th>\n",
              "      <td>no</td>\n",
              "      <td>no</td>\n",
              "      <td>1.0</td>\n",
              "    </tr>\n",
              "    <tr>\n",
              "      <th>738</th>\n",
              "      <td>no</td>\n",
              "      <td>No!</td>\n",
              "      <td>1.0</td>\n",
              "    </tr>\n",
              "    <tr>\n",
              "      <th>756</th>\n",
              "      <td>no</td>\n",
              "      <td>no</td>\n",
              "      <td>1.0</td>\n",
              "    </tr>\n",
              "    <tr>\n",
              "      <th>739</th>\n",
              "      <td>no</td>\n",
              "      <td>no</td>\n",
              "      <td>1.0</td>\n",
              "    </tr>\n",
              "    <tr>\n",
              "      <th>740</th>\n",
              "      <td>no</td>\n",
              "      <td>No.</td>\n",
              "      <td>1.0</td>\n",
              "    </tr>\n",
              "    <tr>\n",
              "      <th>741</th>\n",
              "      <td>no</td>\n",
              "      <td>No.</td>\n",
              "      <td>1.0</td>\n",
              "    </tr>\n",
              "    <tr>\n",
              "      <th>742</th>\n",
              "      <td>no</td>\n",
              "      <td>No.</td>\n",
              "      <td>1.0</td>\n",
              "    </tr>\n",
              "    <tr>\n",
              "      <th>744</th>\n",
              "      <td>no</td>\n",
              "      <td>No.</td>\n",
              "      <td>1.0</td>\n",
              "    </tr>\n",
              "    <tr>\n",
              "      <th>745</th>\n",
              "      <td>no</td>\n",
              "      <td>no</td>\n",
              "      <td>1.0</td>\n",
              "    </tr>\n",
              "    <tr>\n",
              "      <th>747</th>\n",
              "      <td>no</td>\n",
              "      <td>No.</td>\n",
              "      <td>1.0</td>\n",
              "    </tr>\n",
              "    <tr>\n",
              "      <th>748</th>\n",
              "      <td>no</td>\n",
              "      <td>No</td>\n",
              "      <td>1.0</td>\n",
              "    </tr>\n",
              "    <tr>\n",
              "      <th>749</th>\n",
              "      <td>no</td>\n",
              "      <td>No</td>\n",
              "      <td>1.0</td>\n",
              "    </tr>\n",
              "    <tr>\n",
              "      <th>751</th>\n",
              "      <td>false</td>\n",
              "      <td>false</td>\n",
              "      <td>1.0</td>\n",
              "    </tr>\n",
              "    <tr>\n",
              "      <th>752</th>\n",
              "      <td>no</td>\n",
              "      <td>No</td>\n",
              "      <td>1.0</td>\n",
              "    </tr>\n",
              "    <tr>\n",
              "      <th>753</th>\n",
              "      <td>no</td>\n",
              "      <td>No</td>\n",
              "      <td>1.0</td>\n",
              "    </tr>\n",
              "    <tr>\n",
              "      <th>754</th>\n",
              "      <td>no</td>\n",
              "      <td>No</td>\n",
              "      <td>1.0</td>\n",
              "    </tr>\n",
              "    <tr>\n",
              "      <th>714</th>\n",
              "      <td>three</td>\n",
              "      <td>Three</td>\n",
              "      <td>1.0</td>\n",
              "    </tr>\n",
              "    <tr>\n",
              "      <th>713</th>\n",
              "      <td>no</td>\n",
              "      <td>No</td>\n",
              "      <td>1.0</td>\n",
              "    </tr>\n",
              "    <tr>\n",
              "      <th>710</th>\n",
              "      <td>no</td>\n",
              "      <td>no</td>\n",
              "      <td>1.0</td>\n",
              "    </tr>\n",
              "    <tr>\n",
              "      <th>708</th>\n",
              "      <td>yes</td>\n",
              "      <td>Yes</td>\n",
              "      <td>1.0</td>\n",
              "    </tr>\n",
              "    <tr>\n",
              "      <th>671</th>\n",
              "      <td>no</td>\n",
              "      <td>No</td>\n",
              "      <td>1.0</td>\n",
              "    </tr>\n",
              "    <tr>\n",
              "      <th>672</th>\n",
              "      <td>no</td>\n",
              "      <td>no</td>\n",
              "      <td>1.0</td>\n",
              "    </tr>\n",
              "    <tr>\n",
              "      <th>673</th>\n",
              "      <td>no</td>\n",
              "      <td>no</td>\n",
              "      <td>1.0</td>\n",
              "    </tr>\n",
              "    <tr>\n",
              "      <th>674</th>\n",
              "      <td>no</td>\n",
              "      <td>no</td>\n",
              "      <td>1.0</td>\n",
              "    </tr>\n",
              "    <tr>\n",
              "      <th>676</th>\n",
              "      <td>no</td>\n",
              "      <td>no</td>\n",
              "      <td>1.0</td>\n",
              "    </tr>\n",
              "    <tr>\n",
              "      <th>677</th>\n",
              "      <td>no</td>\n",
              "      <td>no</td>\n",
              "      <td>1.0</td>\n",
              "    </tr>\n",
              "    <tr>\n",
              "      <th>678</th>\n",
              "      <td>no</td>\n",
              "      <td>no</td>\n",
              "      <td>1.0</td>\n",
              "    </tr>\n",
              "    <tr>\n",
              "      <th>679</th>\n",
              "      <td>no</td>\n",
              "      <td>No.</td>\n",
              "      <td>1.0</td>\n",
              "    </tr>\n",
              "    <tr>\n",
              "      <th>680</th>\n",
              "      <td>no</td>\n",
              "      <td>No.</td>\n",
              "      <td>1.0</td>\n",
              "    </tr>\n",
              "    <tr>\n",
              "      <th>681</th>\n",
              "      <td>no</td>\n",
              "      <td>No.</td>\n",
              "      <td>1.0</td>\n",
              "    </tr>\n",
              "    <tr>\n",
              "      <th>682</th>\n",
              "      <td>no</td>\n",
              "      <td>No.</td>\n",
              "      <td>1.0</td>\n",
              "    </tr>\n",
              "    <tr>\n",
              "      <th>685</th>\n",
              "      <td>no</td>\n",
              "      <td>No</td>\n",
              "      <td>1.0</td>\n",
              "    </tr>\n",
              "    <tr>\n",
              "      <th>686</th>\n",
              "      <td>no</td>\n",
              "      <td>No</td>\n",
              "      <td>1.0</td>\n",
              "    </tr>\n",
              "    <tr>\n",
              "      <th>687</th>\n",
              "      <td>no</td>\n",
              "      <td>no</td>\n",
              "      <td>1.0</td>\n",
              "    </tr>\n",
              "    <tr>\n",
              "      <th>688</th>\n",
              "      <td>no</td>\n",
              "      <td>No</td>\n",
              "      <td>1.0</td>\n",
              "    </tr>\n",
              "    <tr>\n",
              "      <th>689</th>\n",
              "      <td>yes</td>\n",
              "      <td>yes</td>\n",
              "      <td>1.0</td>\n",
              "    </tr>\n",
              "  </tbody>\n",
              "</table>\n",
              "</div>\n",
              "      <button class=\"colab-df-convert\" onclick=\"convertToInteractive('df-8f7df149-fda3-4221-b954-b129005999a5')\"\n",
              "              title=\"Convert this dataframe to an interactive table.\"\n",
              "              style=\"display:none;\">\n",
              "        \n",
              "  <svg xmlns=\"http://www.w3.org/2000/svg\" height=\"24px\"viewBox=\"0 0 24 24\"\n",
              "       width=\"24px\">\n",
              "    <path d=\"M0 0h24v24H0V0z\" fill=\"none\"/>\n",
              "    <path d=\"M18.56 5.44l.94 2.06.94-2.06 2.06-.94-2.06-.94-.94-2.06-.94 2.06-2.06.94zm-11 1L8.5 8.5l.94-2.06 2.06-.94-2.06-.94L8.5 2.5l-.94 2.06-2.06.94zm10 10l.94 2.06.94-2.06 2.06-.94-2.06-.94-.94-2.06-.94 2.06-2.06.94z\"/><path d=\"M17.41 7.96l-1.37-1.37c-.4-.4-.92-.59-1.43-.59-.52 0-1.04.2-1.43.59L10.3 9.45l-7.72 7.72c-.78.78-.78 2.05 0 2.83L4 21.41c.39.39.9.59 1.41.59.51 0 1.02-.2 1.41-.59l7.78-7.78 2.81-2.81c.8-.78.8-2.07 0-2.86zM5.41 20L4 18.59l7.72-7.72 1.47 1.35L5.41 20z\"/>\n",
              "  </svg>\n",
              "      </button>\n",
              "      \n",
              "  <style>\n",
              "    .colab-df-container {\n",
              "      display:flex;\n",
              "      flex-wrap:wrap;\n",
              "      gap: 12px;\n",
              "    }\n",
              "\n",
              "    .colab-df-convert {\n",
              "      background-color: #E8F0FE;\n",
              "      border: none;\n",
              "      border-radius: 50%;\n",
              "      cursor: pointer;\n",
              "      display: none;\n",
              "      fill: #1967D2;\n",
              "      height: 32px;\n",
              "      padding: 0 0 0 0;\n",
              "      width: 32px;\n",
              "    }\n",
              "\n",
              "    .colab-df-convert:hover {\n",
              "      background-color: #E2EBFA;\n",
              "      box-shadow: 0px 1px 2px rgba(60, 64, 67, 0.3), 0px 1px 3px 1px rgba(60, 64, 67, 0.15);\n",
              "      fill: #174EA6;\n",
              "    }\n",
              "\n",
              "    [theme=dark] .colab-df-convert {\n",
              "      background-color: #3B4455;\n",
              "      fill: #D2E3FC;\n",
              "    }\n",
              "\n",
              "    [theme=dark] .colab-df-convert:hover {\n",
              "      background-color: #434B5C;\n",
              "      box-shadow: 0px 1px 3px 1px rgba(0, 0, 0, 0.15);\n",
              "      filter: drop-shadow(0px 1px 2px rgba(0, 0, 0, 0.3));\n",
              "      fill: #FFFFFF;\n",
              "    }\n",
              "  </style>\n",
              "\n",
              "      <script>\n",
              "        const buttonEl =\n",
              "          document.querySelector('#df-8f7df149-fda3-4221-b954-b129005999a5 button.colab-df-convert');\n",
              "        buttonEl.style.display =\n",
              "          google.colab.kernel.accessAllowed ? 'block' : 'none';\n",
              "\n",
              "        async function convertToInteractive(key) {\n",
              "          const element = document.querySelector('#df-8f7df149-fda3-4221-b954-b129005999a5');\n",
              "          const dataTable =\n",
              "            await google.colab.kernel.invokeFunction('convertToInteractive',\n",
              "                                                     [key], {});\n",
              "          if (!dataTable) return;\n",
              "\n",
              "          const docLinkHtml = 'Like what you see? Visit the ' +\n",
              "            '<a target=\"_blank\" href=https://colab.research.google.com/notebooks/data_table.ipynb>data table notebook</a>'\n",
              "            + ' to learn more about interactive tables.';\n",
              "          element.innerHTML = '';\n",
              "          dataTable['output_type'] = 'display_data';\n",
              "          await google.colab.output.renderOutput(dataTable, element);\n",
              "          const docLink = document.createElement('div');\n",
              "          docLink.innerHTML = docLinkHtml;\n",
              "          element.appendChild(docLink);\n",
              "        }\n",
              "      </script>\n",
              "    </div>\n",
              "  </div>\n",
              "  "
            ]
          },
          "metadata": {},
          "execution_count": 73
        }
      ]
    },
    {
      "cell_type": "code",
      "source": [
        "# del tokenizer, input_values, input_ids, input_attention_mask, model, l, x, correct\n",
        "del tokenizer, model, df_generated, correct_answers\n",
        "\n",
        "free_some_memory()"
      ],
      "metadata": {
        "execution": {
          "iopub.status.busy": "2023-01-11T21:12:57.472387Z",
          "iopub.execute_input": "2023-01-11T21:12:57.472741Z",
          "iopub.status.idle": "2023-01-11T21:12:58.492012Z",
          "shell.execute_reply.started": "2023-01-11T21:12:57.472708Z",
          "shell.execute_reply": "2023-01-11T21:12:58.491002Z"
        },
        "id": "haD4VPaceQOH",
        "trusted": true
      },
      "execution_count": 74,
      "outputs": []
    },
    {
      "cell_type": "markdown",
      "source": [
        "## Conclusions"
      ],
      "metadata": {
        "id": "JmviMChy1mPq"
      }
    },
    {
      "cell_type": "code",
      "source": [
        "# TODO"
      ],
      "metadata": {
        "id": "jDn-h3WL1mPq",
        "trusted": true
      },
      "execution_count": null,
      "outputs": []
    }
  ]
}