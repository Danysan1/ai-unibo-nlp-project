{
  "cells": [
    {
      "cell_type": "markdown",
      "metadata": {
        "id": "iKel9Y42484v"
      },
      "source": [
        "<a href=\"https://colab.research.google.com/github/Danysan1/ai-unibo-nlp-project/blob/main/a1/execution.ipynb\" target=\"_parent\"><img src=\"https://colab.research.google.com/assets/colab-badge.svg\" alt=\"Open In Colab\"/></a>"
      ]
    },
    {
      "cell_type": "markdown",
      "metadata": {
        "id": "TzCABY1Qi8Bv"
      },
      "source": [
        "# Assigment 1 execution"
      ]
    },
    {
      "cell_type": "markdown",
      "metadata": {
        "id": "kNE248Nhi8B0"
      },
      "source": [
        "Corpora: https://www.nltk.org/nltk_data/ , point 91, \"Dependency Parsed Treebank\" ([link](https://raw.githubusercontent.com/nltk/nltk_data/gh-pages/packages/corpora/dependency_treebank.zip)).\n",
        "\n",
        "Docs:\n",
        "* https://www.nltk.org/api/nltk.corpus.html\n",
        "* https://www.nltk.org/data.html\n",
        "* https://www.nltk.org/install.html\n",
        "\n",
        "## Preparing the environment"
      ]
    },
    {
      "cell_type": "code",
      "execution_count": 1,
      "metadata": {
        "colab": {
          "base_uri": "https://localhost:8080/"
        },
        "id": "SJOEUxxoi8B1",
        "outputId": "a1ace092-eb4e-4bbe-ab78-aa7351e1a6d1"
      },
      "outputs": [
        {
          "output_type": "stream",
          "name": "stdout",
          "text": [
            "Looking in indexes: https://pypi.org/simple, https://us-python.pkg.dev/colab-wheels/public/simple/\n",
            "Requirement already satisfied: pandas in /usr/local/lib/python3.8/dist-packages (1.3.5)\n",
            "Requirement already satisfied: numpy in /usr/local/lib/python3.8/dist-packages (1.21.6)\n",
            "Requirement already satisfied: matplotlib in /usr/local/lib/python3.8/dist-packages (3.2.2)\n",
            "Requirement already satisfied: gensim in /usr/local/lib/python3.8/dist-packages (4.2.0)\n",
            "Requirement already satisfied: tensorflow-addons in /usr/local/lib/python3.8/dist-packages (0.18.0)\n",
            "Requirement already satisfied: python-dateutil>=2.7.3 in /usr/local/lib/python3.8/dist-packages (from pandas) (2.8.2)\n",
            "Requirement already satisfied: pytz>=2017.3 in /usr/local/lib/python3.8/dist-packages (from pandas) (2022.6)\n",
            "Requirement already satisfied: six>=1.5 in /usr/local/lib/python3.8/dist-packages (from python-dateutil>=2.7.3->pandas) (1.15.0)\n",
            "Requirement already satisfied: cycler>=0.10 in /usr/local/lib/python3.8/dist-packages (from matplotlib) (0.11.0)\n",
            "Requirement already satisfied: pyparsing!=2.0.4,!=2.1.2,!=2.1.6,>=2.0.1 in /usr/local/lib/python3.8/dist-packages (from matplotlib) (3.0.9)\n",
            "Requirement already satisfied: kiwisolver>=1.0.1 in /usr/local/lib/python3.8/dist-packages (from matplotlib) (1.4.4)\n",
            "Requirement already satisfied: scipy>=0.18.1 in /usr/local/lib/python3.8/dist-packages (from gensim) (1.7.3)\n",
            "Requirement already satisfied: smart-open>=1.8.1 in /usr/local/lib/python3.8/dist-packages (from gensim) (5.2.1)\n",
            "Requirement already satisfied: packaging in /usr/local/lib/python3.8/dist-packages (from tensorflow-addons) (21.3)\n",
            "Requirement already satisfied: typeguard>=2.7 in /usr/local/lib/python3.8/dist-packages (from tensorflow-addons) (2.7.1)\n"
          ]
        }
      ],
      "source": [
        "%pip install pandas numpy matplotlib gensim tensorflow-addons"
      ]
    },
    {
      "cell_type": "code",
      "execution_count": 2,
      "metadata": {
        "id": "KqnHhB8yGptZ"
      },
      "outputs": [],
      "source": [
        "import os, shutil  #  file management\n",
        "import sys \n",
        "import pandas as pd  #  dataframe management\n",
        "import numpy as np  #  data manipulation\n",
        "import re\n",
        "import urllib.request  # download files\n",
        "from zipfile import ZipFile # extract files\n",
        "from matplotlib import pyplot as plt\n",
        "import tensorflow_addons as tfa"
      ]
    },
    {
      "cell_type": "markdown",
      "metadata": {
        "id": "glhEVNdNi8B4"
      },
      "source": [
        "## Downloading the dataset"
      ]
    },
    {
      "cell_type": "code",
      "execution_count": 3,
      "metadata": {
        "id": "8rcR7hfpi8B4"
      },
      "outputs": [],
      "source": [
        "#from nltk import download\n",
        "#download()"
      ]
    },
    {
      "cell_type": "code",
      "execution_count": 4,
      "metadata": {
        "colab": {
          "base_uri": "https://localhost:8080/"
        },
        "id": "gMVaf67mGtVe",
        "outputId": "07bb9ec2-1087-4c17-8103-6c45b7112e57"
      },
      "outputs": [
        {
          "output_type": "stream",
          "name": "stdout",
          "text": [
            "Successful extraction\n"
          ]
        }
      ],
      "source": [
        "dataset_folder = os.path.join(os.getcwd(), \"Dataset\")\n",
        "\n",
        "if not os.path.exists(dataset_folder):\n",
        "    os.makedirs(dataset_folder)\n",
        "\n",
        "url = 'https://raw.githubusercontent.com/nltk/nltk_data/gh-pages/packages/corpora/dependency_treebank.zip'\n",
        "\n",
        "dataset_path = os.path.join(dataset_folder, \"dependency_treebank.zip\")\n",
        "\n",
        "if not os.path.exists(dataset_path):\n",
        "    urllib.request.urlretrieve(url, dataset_path)\n",
        "    print(\"Successful download\")\n",
        "    \n",
        "with ZipFile(dataset_path, 'r') as zObject:\n",
        "  # Extracting all the members of the zip  into a specific location.\n",
        "  zObject.extractall(dataset_folder)\n",
        "  print(\"Successful extraction\")"
      ]
    },
    {
      "cell_type": "markdown",
      "metadata": {
        "id": "6YF4FVoUi8B7"
      },
      "source": [
        "## Loading the data"
      ]
    },
    {
      "cell_type": "code",
      "execution_count": 5,
      "metadata": {
        "id": "wNHOCIU0i8B8"
      },
      "outputs": [],
      "source": [
        "#from nltk.corpus import dependency_treebank\n",
        "#from nltk.data import load\n",
        "#dependency_treebank_test = load(\"nltk:\") \n",
        "#sentences = dependency_treebank.sents()\n",
        "#words = dependency_treebank.words()"
      ]
    },
    {
      "cell_type": "code",
      "execution_count": 6,
      "metadata": {
        "id": "brq6f0-oi8B9"
      },
      "outputs": [],
      "source": [
        "def loadCorpus(start, stop=None):\n",
        "    '''\n",
        "    Loads the data for the specified file range.\n",
        "    \n",
        "    Removes the third column 'num', which is not necessary for this task.\n",
        "\n",
        "    Parameters:\n",
        "        start: start of numeric range of files (inclusive)\n",
        "        stop: end of numeric range of files (exclusive)\n",
        "    '''\n",
        "    dataset_name = \"dependency_treebank\"\n",
        "    folder = os.path.join(os.getcwd(), \"Dataset\", dataset_name)\n",
        "\n",
        "    if stop==None:\n",
        "        stop = start+1\n",
        "    \n",
        "    return pd.concat([\n",
        "        pd.read_csv(\n",
        "            f'{folder}/wsj_{\"{:04d}\".format(num)}.dp',\n",
        "            sep=\"\\t\",\n",
        "            usecols=[0,1],\n",
        "            names=[\"word\",\"label\"]\n",
        "        ) for num in range(start, stop)\n",
        "    ])"
      ]
    },
    {
      "cell_type": "code",
      "execution_count": 7,
      "metadata": {
        "id": "MHjTm5HOi8B-"
      },
      "outputs": [],
      "source": [
        "full_dataset = loadCorpus(1,200)"
      ]
    },
    {
      "cell_type": "markdown",
      "metadata": {
        "id": "xVtgdAgwi8B-"
      },
      "source": [
        "## Exploratory Data Analysis"
      ]
    },
    {
      "cell_type": "code",
      "execution_count": 8,
      "metadata": {
        "colab": {
          "base_uri": "https://localhost:8080/"
        },
        "id": "Ih48IOpti8B_",
        "outputId": "cbf87f8e-d321-497c-839b-57422f5666ab"
      },
      "outputs": [
        {
          "output_type": "execute_result",
          "data": {
            "text/plain": [
              "word     94084\n",
              "label    94084\n",
              "dtype: int64"
            ]
          },
          "metadata": {},
          "execution_count": 8
        }
      ],
      "source": [
        "full_dataset.count()"
      ]
    },
    {
      "cell_type": "code",
      "execution_count": 9,
      "metadata": {
        "colab": {
          "base_uri": "https://localhost:8080/",
          "height": 0
        },
        "id": "uzKTmaB0i8CA",
        "outputId": "31f9dade-5e42-4941-b797-f93dcd1d156b"
      },
      "outputs": [
        {
          "output_type": "execute_result",
          "data": {
            "text/plain": [
              "     word label\n",
              "0  Pierre   NNP\n",
              "1  Vinken   NNP\n",
              "2       ,     ,\n",
              "3      61    CD\n",
              "4   years   NNS\n",
              "5     old    JJ\n",
              "6       ,     ,\n",
              "7    will    MD\n",
              "8    join    VB\n",
              "9     the    DT"
            ],
            "text/html": [
              "\n",
              "  <div id=\"df-9e914b74-d06d-43c5-846e-7c83a277429e\">\n",
              "    <div class=\"colab-df-container\">\n",
              "      <div>\n",
              "<style scoped>\n",
              "    .dataframe tbody tr th:only-of-type {\n",
              "        vertical-align: middle;\n",
              "    }\n",
              "\n",
              "    .dataframe tbody tr th {\n",
              "        vertical-align: top;\n",
              "    }\n",
              "\n",
              "    .dataframe thead th {\n",
              "        text-align: right;\n",
              "    }\n",
              "</style>\n",
              "<table border=\"1\" class=\"dataframe\">\n",
              "  <thead>\n",
              "    <tr style=\"text-align: right;\">\n",
              "      <th></th>\n",
              "      <th>word</th>\n",
              "      <th>label</th>\n",
              "    </tr>\n",
              "  </thead>\n",
              "  <tbody>\n",
              "    <tr>\n",
              "      <th>0</th>\n",
              "      <td>Pierre</td>\n",
              "      <td>NNP</td>\n",
              "    </tr>\n",
              "    <tr>\n",
              "      <th>1</th>\n",
              "      <td>Vinken</td>\n",
              "      <td>NNP</td>\n",
              "    </tr>\n",
              "    <tr>\n",
              "      <th>2</th>\n",
              "      <td>,</td>\n",
              "      <td>,</td>\n",
              "    </tr>\n",
              "    <tr>\n",
              "      <th>3</th>\n",
              "      <td>61</td>\n",
              "      <td>CD</td>\n",
              "    </tr>\n",
              "    <tr>\n",
              "      <th>4</th>\n",
              "      <td>years</td>\n",
              "      <td>NNS</td>\n",
              "    </tr>\n",
              "    <tr>\n",
              "      <th>5</th>\n",
              "      <td>old</td>\n",
              "      <td>JJ</td>\n",
              "    </tr>\n",
              "    <tr>\n",
              "      <th>6</th>\n",
              "      <td>,</td>\n",
              "      <td>,</td>\n",
              "    </tr>\n",
              "    <tr>\n",
              "      <th>7</th>\n",
              "      <td>will</td>\n",
              "      <td>MD</td>\n",
              "    </tr>\n",
              "    <tr>\n",
              "      <th>8</th>\n",
              "      <td>join</td>\n",
              "      <td>VB</td>\n",
              "    </tr>\n",
              "    <tr>\n",
              "      <th>9</th>\n",
              "      <td>the</td>\n",
              "      <td>DT</td>\n",
              "    </tr>\n",
              "  </tbody>\n",
              "</table>\n",
              "</div>\n",
              "      <button class=\"colab-df-convert\" onclick=\"convertToInteractive('df-9e914b74-d06d-43c5-846e-7c83a277429e')\"\n",
              "              title=\"Convert this dataframe to an interactive table.\"\n",
              "              style=\"display:none;\">\n",
              "        \n",
              "  <svg xmlns=\"http://www.w3.org/2000/svg\" height=\"24px\"viewBox=\"0 0 24 24\"\n",
              "       width=\"24px\">\n",
              "    <path d=\"M0 0h24v24H0V0z\" fill=\"none\"/>\n",
              "    <path d=\"M18.56 5.44l.94 2.06.94-2.06 2.06-.94-2.06-.94-.94-2.06-.94 2.06-2.06.94zm-11 1L8.5 8.5l.94-2.06 2.06-.94-2.06-.94L8.5 2.5l-.94 2.06-2.06.94zm10 10l.94 2.06.94-2.06 2.06-.94-2.06-.94-.94-2.06-.94 2.06-2.06.94z\"/><path d=\"M17.41 7.96l-1.37-1.37c-.4-.4-.92-.59-1.43-.59-.52 0-1.04.2-1.43.59L10.3 9.45l-7.72 7.72c-.78.78-.78 2.05 0 2.83L4 21.41c.39.39.9.59 1.41.59.51 0 1.02-.2 1.41-.59l7.78-7.78 2.81-2.81c.8-.78.8-2.07 0-2.86zM5.41 20L4 18.59l7.72-7.72 1.47 1.35L5.41 20z\"/>\n",
              "  </svg>\n",
              "      </button>\n",
              "      \n",
              "  <style>\n",
              "    .colab-df-container {\n",
              "      display:flex;\n",
              "      flex-wrap:wrap;\n",
              "      gap: 12px;\n",
              "    }\n",
              "\n",
              "    .colab-df-convert {\n",
              "      background-color: #E8F0FE;\n",
              "      border: none;\n",
              "      border-radius: 50%;\n",
              "      cursor: pointer;\n",
              "      display: none;\n",
              "      fill: #1967D2;\n",
              "      height: 32px;\n",
              "      padding: 0 0 0 0;\n",
              "      width: 32px;\n",
              "    }\n",
              "\n",
              "    .colab-df-convert:hover {\n",
              "      background-color: #E2EBFA;\n",
              "      box-shadow: 0px 1px 2px rgba(60, 64, 67, 0.3), 0px 1px 3px 1px rgba(60, 64, 67, 0.15);\n",
              "      fill: #174EA6;\n",
              "    }\n",
              "\n",
              "    [theme=dark] .colab-df-convert {\n",
              "      background-color: #3B4455;\n",
              "      fill: #D2E3FC;\n",
              "    }\n",
              "\n",
              "    [theme=dark] .colab-df-convert:hover {\n",
              "      background-color: #434B5C;\n",
              "      box-shadow: 0px 1px 3px 1px rgba(0, 0, 0, 0.15);\n",
              "      filter: drop-shadow(0px 1px 2px rgba(0, 0, 0, 0.3));\n",
              "      fill: #FFFFFF;\n",
              "    }\n",
              "  </style>\n",
              "\n",
              "      <script>\n",
              "        const buttonEl =\n",
              "          document.querySelector('#df-9e914b74-d06d-43c5-846e-7c83a277429e button.colab-df-convert');\n",
              "        buttonEl.style.display =\n",
              "          google.colab.kernel.accessAllowed ? 'block' : 'none';\n",
              "\n",
              "        async function convertToInteractive(key) {\n",
              "          const element = document.querySelector('#df-9e914b74-d06d-43c5-846e-7c83a277429e');\n",
              "          const dataTable =\n",
              "            await google.colab.kernel.invokeFunction('convertToInteractive',\n",
              "                                                     [key], {});\n",
              "          if (!dataTable) return;\n",
              "\n",
              "          const docLinkHtml = 'Like what you see? Visit the ' +\n",
              "            '<a target=\"_blank\" href=https://colab.research.google.com/notebooks/data_table.ipynb>data table notebook</a>'\n",
              "            + ' to learn more about interactive tables.';\n",
              "          element.innerHTML = '';\n",
              "          dataTable['output_type'] = 'display_data';\n",
              "          await google.colab.output.renderOutput(dataTable, element);\n",
              "          const docLink = document.createElement('div');\n",
              "          docLink.innerHTML = docLinkHtml;\n",
              "          element.appendChild(docLink);\n",
              "        }\n",
              "      </script>\n",
              "    </div>\n",
              "  </div>\n",
              "  "
            ]
          },
          "metadata": {},
          "execution_count": 9
        }
      ],
      "source": [
        "full_dataset.head(10)"
      ]
    },
    {
      "cell_type": "markdown",
      "metadata": {
        "id": "ZjqrPfy4i8CB"
      },
      "source": [
        "Each document contains a different tokenized article:"
      ]
    },
    {
      "cell_type": "code",
      "execution_count": 10,
      "metadata": {
        "colab": {
          "base_uri": "https://localhost:8080/",
          "height": 0
        },
        "id": "EE9Qv0tUi8CB",
        "outputId": "162f7f55-c219-44e2-d59c-27860d068135"
      },
      "outputs": [
        {
          "output_type": "execute_result",
          "data": {
            "text/plain": [
              "'Pierre Vinken , 61 years old , will join the board as a nonexecutive director Nov. 29 . Mr. Vinken is chairman of Elsevier N.V. , the Dutch publishing group .'"
            ],
            "application/vnd.google.colaboratory.intrinsic+json": {
              "type": "string"
            }
          },
          "metadata": {},
          "execution_count": 10
        }
      ],
      "source": [
        "\" \".join(loadCorpus(1)[\"word\"])"
      ]
    },
    {
      "cell_type": "code",
      "execution_count": 11,
      "metadata": {
        "colab": {
          "base_uri": "https://localhost:8080/",
          "height": 0
        },
        "id": "sDIadSSJi8CB",
        "outputId": "28f62d7d-1b38-415e-aa77-6df2b381c962"
      },
      "outputs": [
        {
          "output_type": "execute_result",
          "data": {
            "text/plain": [
              "'Rudolph Agnew , 55 years old and former chairman of Consolidated Gold Fields PLC , was named a nonexecutive director of this British industrial conglomerate .'"
            ],
            "application/vnd.google.colaboratory.intrinsic+json": {
              "type": "string"
            }
          },
          "metadata": {},
          "execution_count": 11
        }
      ],
      "source": [
        "\" \".join(loadCorpus(2)[\"word\"])"
      ]
    },
    {
      "cell_type": "code",
      "execution_count": 12,
      "metadata": {
        "colab": {
          "base_uri": "https://localhost:8080/",
          "height": 0
        },
        "id": "dcAVyveni8CC",
        "outputId": "95dd66b9-88a7-4f99-f535-2f7dfb98fc4e"
      },
      "outputs": [
        {
          "output_type": "display_data",
          "data": {
            "text/plain": [
              "<Figure size 1080x360 with 1 Axes>"
            ],
            "image/png": "[encoded data removed]"
          },
          "metadata": {
            "needs_background": "light"
          }
        }
      ],
      "source": [
        "fig=plt.figure(figsize=(15,5))\n",
        "p = plt.hist(full_dataset[\"label\"])\n",
        "plt.xticks(rotation=45)\n",
        "plt.show()"
      ]
    },
    {
      "cell_type": "code",
      "execution_count": 13,
      "metadata": {
        "colab": {
          "base_uri": "https://localhost:8080/",
          "height": 0
        },
        "id": "K9XyBPIQi8CC",
        "outputId": "26fba696-c172-47e4-f1ef-faec19734e37"
      },
      "outputs": [
        {
          "output_type": "display_data",
          "data": {
            "text/plain": [
              "<Figure size 1080x360 with 1 Axes>"
            ],
            "image/png": "[encoded data removed]"
          },
          "metadata": {
            "needs_background": "light"
          }
        }
      ],
      "source": [
        "fig=plt.figure(figsize=(15,5))\n",
        "p = plt.plot(full_dataset[\"word\"].value_counts())\n",
        "plt.xticks([])\n",
        "plt.show()"
      ]
    },
    {
      "cell_type": "markdown",
      "metadata": {
        "id": "MzyI2Wufi8CD"
      },
      "source": [
        "## Data splitting\n",
        "\n",
        "\n",
        "\n"
      ]
    },
    {
      "cell_type": "markdown",
      "metadata": {
        "id": "Nep1haoQkIO0"
      },
      "source": [
        "Creation of train, validation and test sets."
      ]
    },
    {
      "cell_type": "code",
      "execution_count": 14,
      "metadata": {
        "colab": {
          "base_uri": "https://localhost:8080/"
        },
        "id": "kOG5wns9X011",
        "outputId": "aa19b85f-07a6-42b6-b049-d674bcbbdc62"
      },
      "outputs": [
        {
          "output_type": "execute_result",
          "data": {
            "text/plain": [
              "word     47356\n",
              "label    47356\n",
              "dtype: int64"
            ]
          },
          "metadata": {},
          "execution_count": 14
        }
      ],
      "source": [
        "df_train = loadCorpus(1,101) \n",
        "df_val = loadCorpus(101,151)\n",
        "df_test = loadCorpus(151,200)\n",
        "\n",
        "df_train.count()"
      ]
    },
    {
      "cell_type": "code",
      "execution_count": 15,
      "metadata": {
        "colab": {
          "base_uri": "https://localhost:8080/"
        },
        "id": "Th6dXqh94849",
        "outputId": "c5c553ed-e626-4d69-ec95-7ab12bde5a22"
      },
      "outputs": [
        {
          "output_type": "execute_result",
          "data": {
            "text/plain": [
              "word     31183\n",
              "label    31183\n",
              "dtype: int64"
            ]
          },
          "metadata": {},
          "execution_count": 15
        }
      ],
      "source": [
        "df_val.count()"
      ]
    },
    {
      "cell_type": "code",
      "execution_count": 16,
      "metadata": {
        "colab": {
          "base_uri": "https://localhost:8080/"
        },
        "id": "Hj_BdDsA4849",
        "outputId": "7ed01ce2-d564-4cf9-8d3f-1290153ab3b6"
      },
      "outputs": [
        {
          "output_type": "execute_result",
          "data": {
            "text/plain": [
              "word     15545\n",
              "label    15545\n",
              "dtype: int64"
            ]
          },
          "metadata": {},
          "execution_count": 16
        }
      ],
      "source": [
        "df_test.count()"
      ]
    },
    {
      "cell_type": "markdown",
      "metadata": {
        "id": "XJrGcYbJ4849"
      },
      "source": [
        "## Data pre-processing"
      ]
    },
    {
      "cell_type": "markdown",
      "metadata": {
        "id": "vjPNQ9ilk7X_"
      },
      "source": [
        "Clean the data."
      ]
    },
    {
      "cell_type": "code",
      "execution_count": 17,
      "metadata": {
        "id": "4T_aIaLxk4Xp"
      },
      "outputs": [],
      "source": [
        "def cleanCorpus(corpus):\n",
        "    corpus['word'] = corpus['word'].str.lower()\n",
        "    corpus[\"word\"] = [re.sub(r'[^\\w]', '', word) for word in corpus[\"word\"]]\n",
        "    corpus = corpus[corpus[\"word\"] != \"\"]\n",
        "    return corpus"
      ]
    },
    {
      "cell_type": "code",
      "execution_count": 18,
      "metadata": {
        "colab": {
          "base_uri": "https://localhost:8080/"
        },
        "id": "lV6x05Lu26ym",
        "outputId": "4f0f7b1f-8496-44d4-e8e0-0ad6c2c3c763"
      },
      "outputs": [
        {
          "output_type": "execute_result",
          "data": {
            "text/plain": [
              "word     41149\n",
              "label    41149\n",
              "dtype: int64"
            ]
          },
          "metadata": {},
          "execution_count": 18
        }
      ],
      "source": [
        "#cleaned dataframes\n",
        "dfc_train = cleanCorpus(df_train)\n",
        "dfc_val = cleanCorpus(df_val)\n",
        "dfc_test = cleanCorpus(df_test)\n",
        "\n",
        "dfc_train.count()"
      ]
    },
    {
      "cell_type": "code",
      "execution_count": 19,
      "metadata": {
        "colab": {
          "base_uri": "https://localhost:8080/"
        },
        "id": "6Y4lYHXy484-",
        "outputId": "f272be09-29ee-4766-cffb-dcb4620fb5a3"
      },
      "outputs": [
        {
          "output_type": "execute_result",
          "data": {
            "text/plain": [
              "word     27263\n",
              "label    27263\n",
              "dtype: int64"
            ]
          },
          "metadata": {},
          "execution_count": 19
        }
      ],
      "source": [
        "dfc_val.count()"
      ]
    },
    {
      "cell_type": "code",
      "execution_count": 20,
      "metadata": {
        "colab": {
          "base_uri": "https://localhost:8080/"
        },
        "id": "JfjU5ZVo484-",
        "outputId": "d41950a3-a7db-4723-9cb1-0abfccdbfe39"
      },
      "outputs": [
        {
          "output_type": "execute_result",
          "data": {
            "text/plain": [
              "word     13614\n",
              "label    13614\n",
              "dtype: int64"
            ]
          },
          "metadata": {},
          "execution_count": 20
        }
      ],
      "source": [
        "dfc_test.count()"
      ]
    },
    {
      "cell_type": "code",
      "execution_count": 21,
      "metadata": {
        "colab": {
          "base_uri": "https://localhost:8080/",
          "height": 363
        },
        "id": "R4fHZaScmPoU",
        "outputId": "86f2b961-1972-4f4c-b763-0450851596e3"
      },
      "outputs": [
        {
          "output_type": "execute_result",
          "data": {
            "text/plain": [
              "      word label\n",
              "0   pierre   NNP\n",
              "1   vinken   NNP\n",
              "3       61    CD\n",
              "4    years   NNS\n",
              "5      old    JJ\n",
              "7     will    MD\n",
              "8     join    VB\n",
              "9      the    DT\n",
              "10   board    NN\n",
              "11      as    IN"
            ],
            "text/html": [
              "\n",
              "  <div id=\"df-c8b5ddc0-dec6-4cde-8041-d94ea074caba\">\n",
              "    <div class=\"colab-df-container\">\n",
              "      <div>\n",
              "<style scoped>\n",
              "    .dataframe tbody tr th:only-of-type {\n",
              "        vertical-align: middle;\n",
              "    }\n",
              "\n",
              "    .dataframe tbody tr th {\n",
              "        vertical-align: top;\n",
              "    }\n",
              "\n",
              "    .dataframe thead th {\n",
              "        text-align: right;\n",
              "    }\n",
              "</style>\n",
              "<table border=\"1\" class=\"dataframe\">\n",
              "  <thead>\n",
              "    <tr style=\"text-align: right;\">\n",
              "      <th></th>\n",
              "      <th>word</th>\n",
              "      <th>label</th>\n",
              "    </tr>\n",
              "  </thead>\n",
              "  <tbody>\n",
              "    <tr>\n",
              "      <th>0</th>\n",
              "      <td>pierre</td>\n",
              "      <td>NNP</td>\n",
              "    </tr>\n",
              "    <tr>\n",
              "      <th>1</th>\n",
              "      <td>vinken</td>\n",
              "      <td>NNP</td>\n",
              "    </tr>\n",
              "    <tr>\n",
              "      <th>3</th>\n",
              "      <td>61</td>\n",
              "      <td>CD</td>\n",
              "    </tr>\n",
              "    <tr>\n",
              "      <th>4</th>\n",
              "      <td>years</td>\n",
              "      <td>NNS</td>\n",
              "    </tr>\n",
              "    <tr>\n",
              "      <th>5</th>\n",
              "      <td>old</td>\n",
              "      <td>JJ</td>\n",
              "    </tr>\n",
              "    <tr>\n",
              "      <th>7</th>\n",
              "      <td>will</td>\n",
              "      <td>MD</td>\n",
              "    </tr>\n",
              "    <tr>\n",
              "      <th>8</th>\n",
              "      <td>join</td>\n",
              "      <td>VB</td>\n",
              "    </tr>\n",
              "    <tr>\n",
              "      <th>9</th>\n",
              "      <td>the</td>\n",
              "      <td>DT</td>\n",
              "    </tr>\n",
              "    <tr>\n",
              "      <th>10</th>\n",
              "      <td>board</td>\n",
              "      <td>NN</td>\n",
              "    </tr>\n",
              "    <tr>\n",
              "      <th>11</th>\n",
              "      <td>as</td>\n",
              "      <td>IN</td>\n",
              "    </tr>\n",
              "  </tbody>\n",
              "</table>\n",
              "</div>\n",
              "      <button class=\"colab-df-convert\" onclick=\"convertToInteractive('df-c8b5ddc0-dec6-4cde-8041-d94ea074caba')\"\n",
              "              title=\"Convert this dataframe to an interactive table.\"\n",
              "              style=\"display:none;\">\n",
              "        \n",
              "  <svg xmlns=\"http://www.w3.org/2000/svg\" height=\"24px\"viewBox=\"0 0 24 24\"\n",
              "       width=\"24px\">\n",
              "    <path d=\"M0 0h24v24H0V0z\" fill=\"none\"/>\n",
              "    <path d=\"M18.56 5.44l.94 2.06.94-2.06 2.06-.94-2.06-.94-.94-2.06-.94 2.06-2.06.94zm-11 1L8.5 8.5l.94-2.06 2.06-.94-2.06-.94L8.5 2.5l-.94 2.06-2.06.94zm10 10l.94 2.06.94-2.06 2.06-.94-2.06-.94-.94-2.06-.94 2.06-2.06.94z\"/><path d=\"M17.41 7.96l-1.37-1.37c-.4-.4-.92-.59-1.43-.59-.52 0-1.04.2-1.43.59L10.3 9.45l-7.72 7.72c-.78.78-.78 2.05 0 2.83L4 21.41c.39.39.9.59 1.41.59.51 0 1.02-.2 1.41-.59l7.78-7.78 2.81-2.81c.8-.78.8-2.07 0-2.86zM5.41 20L4 18.59l7.72-7.72 1.47 1.35L5.41 20z\"/>\n",
              "  </svg>\n",
              "      </button>\n",
              "      \n",
              "  <style>\n",
              "    .colab-df-container {\n",
              "      display:flex;\n",
              "      flex-wrap:wrap;\n",
              "      gap: 12px;\n",
              "    }\n",
              "\n",
              "    .colab-df-convert {\n",
              "      background-color: #E8F0FE;\n",
              "      border: none;\n",
              "      border-radius: 50%;\n",
              "      cursor: pointer;\n",
              "      display: none;\n",
              "      fill: #1967D2;\n",
              "      height: 32px;\n",
              "      padding: 0 0 0 0;\n",
              "      width: 32px;\n",
              "    }\n",
              "\n",
              "    .colab-df-convert:hover {\n",
              "      background-color: #E2EBFA;\n",
              "      box-shadow: 0px 1px 2px rgba(60, 64, 67, 0.3), 0px 1px 3px 1px rgba(60, 64, 67, 0.15);\n",
              "      fill: #174EA6;\n",
              "    }\n",
              "\n",
              "    [theme=dark] .colab-df-convert {\n",
              "      background-color: #3B4455;\n",
              "      fill: #D2E3FC;\n",
              "    }\n",
              "\n",
              "    [theme=dark] .colab-df-convert:hover {\n",
              "      background-color: #434B5C;\n",
              "      box-shadow: 0px 1px 3px 1px rgba(0, 0, 0, 0.15);\n",
              "      filter: drop-shadow(0px 1px 2px rgba(0, 0, 0, 0.3));\n",
              "      fill: #FFFFFF;\n",
              "    }\n",
              "  </style>\n",
              "\n",
              "      <script>\n",
              "        const buttonEl =\n",
              "          document.querySelector('#df-c8b5ddc0-dec6-4cde-8041-d94ea074caba button.colab-df-convert');\n",
              "        buttonEl.style.display =\n",
              "          google.colab.kernel.accessAllowed ? 'block' : 'none';\n",
              "\n",
              "        async function convertToInteractive(key) {\n",
              "          const element = document.querySelector('#df-c8b5ddc0-dec6-4cde-8041-d94ea074caba');\n",
              "          const dataTable =\n",
              "            await google.colab.kernel.invokeFunction('convertToInteractive',\n",
              "                                                     [key], {});\n",
              "          if (!dataTable) return;\n",
              "\n",
              "          const docLinkHtml = 'Like what you see? Visit the ' +\n",
              "            '<a target=\"_blank\" href=https://colab.research.google.com/notebooks/data_table.ipynb>data table notebook</a>'\n",
              "            + ' to learn more about interactive tables.';\n",
              "          element.innerHTML = '';\n",
              "          dataTable['output_type'] = 'display_data';\n",
              "          await google.colab.output.renderOutput(dataTable, element);\n",
              "          const docLink = document.createElement('div');\n",
              "          docLink.innerHTML = docLinkHtml;\n",
              "          element.appendChild(docLink);\n",
              "        }\n",
              "      </script>\n",
              "    </div>\n",
              "  </div>\n",
              "  "
            ]
          },
          "metadata": {},
          "execution_count": 21
        }
      ],
      "source": [
        "dfc_train.head(10)"
      ]
    },
    {
      "cell_type": "markdown",
      "metadata": {
        "id": "6VsU_XpAi8CF"
      },
      "source": [
        "## Word embedding"
      ]
    },
    {
      "cell_type": "markdown",
      "metadata": {
        "id": "4Bep7HYL484_"
      },
      "source": [
        "### Loading GloVe"
      ]
    },
    {
      "cell_type": "markdown",
      "metadata": {
        "id": "92d15Xzr4qAn"
      },
      "source": [
        "\n",
        "Loading pre-trained dense word embedding: Glove.\n",
        "\n",
        "\n",
        "\n",
        "\n"
      ]
    },
    {
      "cell_type": "code",
      "execution_count": 22,
      "metadata": {
        "id": "UZBrvzL8t6_U"
      },
      "outputs": [],
      "source": [
        "import gensim\n",
        "import gensim.downloader as gloader\n",
        "\n",
        "def load_embedding_model(model_type: str,\n",
        "                         embedding_dimension: int = 50) -> gensim.models.keyedvectors.KeyedVectors:\n",
        "    \"\"\"\n",
        "    Loads a pre-trained word embedding model via gensim library.\n",
        "\n",
        "    :param model_type: name of the word embedding model to load.\n",
        "    :param embedding_dimension: size of the embedding space to consider\n",
        "\n",
        "    :return\n",
        "        - pre-trained word embedding model (gensim KeyedVectors object)\n",
        "    \"\"\"\n",
        "    download_path = \"\"\n",
        "    if model_type.strip().lower() == 'word2vec':\n",
        "        download_path = \"word2vec-google-news-300\"\n",
        "\n",
        "    elif model_type.strip().lower() == 'glove':\n",
        "        download_path = \"glove-wiki-gigaword-{}\".format(embedding_dimension)\n",
        "    elif model_type.strip().lower() == 'fasttext':\n",
        "        download_path = \"fasttext-wiki-news-subwords-300\"\n",
        "    else:\n",
        "        raise AttributeError(\"Unsupported embedding model type! Available ones: word2vec, glove, fasttext\")\n",
        "        \n",
        "    try:\n",
        "        emb_model = gloader.load(download_path)\n",
        "    except ValueError as e:\n",
        "        print(\"Invalid embedding model name! Check the embedding dimension:\")\n",
        "        print(\"Word2Vec: 300\")\n",
        "        print(\"Glove: 50, 100, 200, 300\")\n",
        "        print('FastText: 300')\n",
        "        raise e\n",
        "\n",
        "    return emb_model"
      ]
    },
    {
      "cell_type": "code",
      "execution_count": 23,
      "metadata": {
        "id": "2hPJ_neS5Vxd"
      },
      "outputs": [],
      "source": [
        "# Modify these variables as you wish!\n",
        "# Glove -> 50, 100, 200, 300\n",
        "# Word2Vec -> 300\n",
        "# Fasttext -> 300\n",
        "embedding_model = load_embedding_model(model_type=\"glove\", embedding_dimension=50)"
      ]
    },
    {
      "cell_type": "markdown",
      "metadata": {
        "id": "jU0rgZ0I484_"
      },
      "source": [
        "### Analyzing OOV statistics"
      ]
    },
    {
      "cell_type": "code",
      "source": [
        " !pip install --upgrade gensim"
      ],
      "metadata": {
        "id": "u3Q-HLXFa5SP",
        "outputId": "2dd35c72-6bbc-4b3a-d052-eceabb264b8f",
        "colab": {
          "base_uri": "https://localhost:8080/"
        }
      },
      "execution_count": 24,
      "outputs": [
        {
          "output_type": "stream",
          "name": "stdout",
          "text": [
            "Looking in indexes: https://pypi.org/simple, https://us-python.pkg.dev/colab-wheels/public/simple/\n",
            "Requirement already satisfied: gensim in /usr/local/lib/python3.8/dist-packages (4.2.0)\n",
            "Requirement already satisfied: scipy>=0.18.1 in /usr/local/lib/python3.8/dist-packages (from gensim) (1.7.3)\n",
            "Requirement already satisfied: smart-open>=1.8.1 in /usr/local/lib/python3.8/dist-packages (from gensim) (5.2.1)\n",
            "Requirement already satisfied: numpy>=1.17.0 in /usr/local/lib/python3.8/dist-packages (from gensim) (1.21.6)\n"
          ]
        }
      ]
    },
    {
      "cell_type": "code",
      "execution_count": 25,
      "metadata": {
        "colab": {
          "base_uri": "https://localhost:8080/"
        },
        "id": "S76fxrkJ484_",
        "outputId": "70eec46d-60d2-4af4-d120-0991c971df8d"
      },
      "outputs": [
        {
          "output_type": "execute_result",
          "data": {
            "text/plain": [
              "['the', ',', '.', 'of', 'to', 'and', 'in', 'a', '\"', \"'s\"]"
            ]
          },
          "metadata": {},
          "execution_count": 25
        }
      ],
      "source": [
        "embedding_model.index_to_key[0:10]"
      ]
    },
    {
      "cell_type": "code",
      "execution_count": 26,
      "metadata": {
        "colab": {
          "base_uri": "https://localhost:8080/"
        },
        "id": "CdGVCkXI485A",
        "outputId": "8f5ae433-49ac-4924-92cd-50aa126774bb"
      },
      "outputs": [
        {
          "output_type": "execute_result",
          "data": {
            "text/plain": [
              "535"
            ]
          },
          "metadata": {},
          "execution_count": 26
        }
      ],
      "source": [
        "oov_train = list(set([word for word in dfc_train.word.values if word not in embedding_model.index_to_key]))\n",
        "oov_val = list(set([word for word in dfc_val.word.values if word not in embedding_model.index_to_key]))\n",
        "\n",
        "len(oov_train)"
      ]
    },
    {
      "cell_type": "code",
      "execution_count": 27,
      "metadata": {
        "colab": {
          "base_uri": "https://localhost:8080/"
        },
        "id": "4YxwWfUB485A",
        "outputId": "5f1aff47-e233-40ac-e44c-99a232621cc8"
      },
      "outputs": [
        {
          "output_type": "execute_result",
          "data": {
            "text/plain": [
              "305"
            ]
          },
          "metadata": {},
          "execution_count": 27
        }
      ],
      "source": [
        "len(oov_val)"
      ]
    },
    {
      "cell_type": "code",
      "execution_count": 28,
      "metadata": {
        "colab": {
          "base_uri": "https://localhost:8080/"
        },
        "id": "_FCfRir-485A",
        "outputId": "8a7059df-99ea-459f-f72c-6ce9c1d5d445"
      },
      "outputs": [
        {
          "output_type": "execute_result",
          "data": {
            "text/plain": [
              "['halfhour',\n",
              " 'buttoneddown',\n",
              " 'asbestosrelated',\n",
              " 'timesstock',\n",
              " 'erbamont',\n",
              " 'flightiness',\n",
              " '2372',\n",
              " 'chafic',\n",
              " 'cray3',\n",
              " '10973']"
            ]
          },
          "metadata": {},
          "execution_count": 28
        }
      ],
      "source": [
        "oov_train[0:10]"
      ]
    },
    {
      "cell_type": "markdown",
      "metadata": {
        "id": "d3NWFTMjmg78"
      },
      "source": [
        "### Embedding with GloVe"
      ]
    },
    {
      "cell_type": "markdown",
      "metadata": {
        "id": "vMrf7Fro485A"
      },
      "source": [
        "#### Prepare the embedding matrix"
      ]
    },
    {
      "cell_type": "markdown",
      "metadata": {
        "id": "9Htl90Gw485B"
      },
      "source": [
        "Definition of a tokenizer."
      ]
    },
    {
      "cell_type": "code",
      "execution_count": 29,
      "metadata": {
        "colab": {
          "base_uri": "https://localhost:8080/"
        },
        "id": "6pHoC5Xe3ETA",
        "outputId": "fe7a1616-3979-4137-ffc8-f01b3526b4b2"
      },
      "outputs": [
        {
          "output_type": "stream",
          "name": "stdout",
          "text": [
            "Number of unique words in dictionary= 7305\n",
            "Dictionary head:  {'<unk>': 1, 'the': 2, 'of': 3, 'a': 4, 'to': 5, 'in': 6, 'and': 7, 'for': 8, 's': 9, 'that': 10}\n"
          ]
        }
      ],
      "source": [
        "from tensorflow.keras.preprocessing.text import Tokenizer\n",
        "\n",
        "# define the tokenizer\n",
        "tokenizer = Tokenizer(oov_token='<unk>')\n",
        "text = dfc_train.word.values\n",
        "\n",
        "#fit the tokenizer on the training data\n",
        "tokenizer.fit_on_texts(text)\n",
        "\n",
        "# number of unique words in dict.\n",
        "print(\"Number of unique words in dictionary=\", len(tokenizer.word_index))\n",
        "print(\"Dictionary head: \", dict(list(tokenizer.word_index.items())[0:10]))\n",
        "with open('./word_index.json','w') as word_index_file:\n",
        "    word_index_file.write(tokenizer.to_json())"
      ]
    },
    {
      "cell_type": "markdown",
      "metadata": {
        "id": "zYWHS267ohxZ"
      },
      "source": [
        "Define the embedding matrix."
      ]
    },
    {
      "cell_type": "code",
      "execution_count": 30,
      "metadata": {
        "id": "xpBaqwkd5axM"
      },
      "outputs": [],
      "source": [
        "from tqdm import tqdm\n",
        "\n",
        "def build_embedding_matrix(embedding_model: gensim.models.keyedvectors.KeyedVectors,\n",
        "                           embedding_dimension: int,\n",
        "                           word_to_idx,\n",
        "                           vocab_size: int) -> np.ndarray:\n",
        "    \"\"\"\n",
        "    Builds the embedding matrix of a specific dataset given a pre-trained word embedding model\n",
        "\n",
        "    :param embedding_model: pre-trained word embedding model (gensim wrapper)\n",
        "    :param word_to_idx: vocabulary map (word -> index) (dict)\n",
        "    :param vocab_size: size of the vocabulary\n",
        "    \n",
        "\n",
        "    :return\n",
        "        - embedding matrix that assigns a high dimensional vector to each word in the dataset specific vocabulary (shape |V| x d)\n",
        "    \"\"\"\n",
        "    embedding_matrix = np.zeros((vocab_size, embedding_dimension), dtype=np.float32)\n",
        "    for word, idx in tqdm(tokenizer.word_index.items()):\n",
        "        try:\n",
        "            embedding_vector = embedding_model[word]\n",
        "        except (KeyError, TypeError):\n",
        "            #print(f\"Using random vector for '{word}'\")\n",
        "            embedding_vector = np.random.uniform(low=-0.05, high=0.05, size=embedding_dimension)\n",
        "\n",
        "        embedding_matrix[idx] = embedding_vector\n",
        "\n",
        "    return embedding_matrix"
      ]
    },
    {
      "cell_type": "code",
      "execution_count": 31,
      "metadata": {
        "colab": {
          "base_uri": "https://localhost:8080/"
        },
        "id": "nYYqz59Ilmem",
        "outputId": "fc2d81da-8380-47fc-e396-2cb3d1b515d8"
      },
      "outputs": [
        {
          "output_type": "stream",
          "name": "stderr",
          "text": [
            "100%|██████████| 7305/7305 [00:00<00:00, 155655.53it/s]"
          ]
        },
        {
          "output_type": "stream",
          "name": "stdout",
          "text": [
            "Embedding matrix shape: (7306, 50)\n"
          ]
        },
        {
          "output_type": "stream",
          "name": "stderr",
          "text": [
            "\n"
          ]
        }
      ],
      "source": [
        "# Testing\n",
        "embedding_dimension = 50\n",
        "vocab_size = len(tokenizer.word_index) + 1\n",
        "embedding_matrix = build_embedding_matrix(embedding_model, embedding_dimension, tokenizer.word_index, vocab_size )\n",
        "print(f\"Embedding matrix shape: {embedding_matrix.shape}\")"
      ]
    },
    {
      "cell_type": "markdown",
      "metadata": {
        "id": "ojCSzxS1485B"
      },
      "source": [
        "#### Encode the dataset"
      ]
    },
    {
      "cell_type": "markdown",
      "metadata": {
        "id": "yS7M36zPrBip"
      },
      "source": [
        "Transform the text into a sequence of integers using the tokenizer defined before. "
      ]
    },
    {
      "cell_type": "code",
      "source": [
        "x_train = np.array(tokenizer.texts_to_sequences(dfc_train.word.values)) \n",
        "y_train =np.array( dfc_train['label'])\n",
        "\n",
        "x_val = np.array(tokenizer.texts_to_sequences(dfc_val.word.values))\n",
        "y_val = np.array(dfc_val['label'])\n",
        "\n",
        "x_test = np.array(tokenizer.texts_to_sequences(dfc_test.word.values))\n",
        "y_test = np.array(dfc_test['label'])\n",
        "\n",
        "#number of unique labels\n",
        "print(np.unique(y_train))\n",
        "num_classes = len(np.unique(y_train))\n",
        "print(f'num_classes: {num_classes}')"
      ],
      "metadata": {
        "id": "jklqJgL8DmVe",
        "outputId": "ea798dba-ce4c-419e-cd68-1dbbf03238da",
        "colab": {
          "base_uri": "https://localhost:8080/"
        }
      },
      "execution_count": 32,
      "outputs": [
        {
          "output_type": "stream",
          "name": "stdout",
          "text": [
            "['$' ',' '-LRB-' '-RRB-' 'CC' 'CD' 'DT' 'EX' 'FW' 'IN' 'JJ' 'JJR' 'JJS'\n",
            " 'LS' 'MD' 'NN' 'NNP' 'NNPS' 'NNS' 'PDT' 'POS' 'PRP' 'PRP$' 'RB' 'RBR'\n",
            " 'RBS' 'RP' 'TO' 'UH' 'VB' 'VBD' 'VBG' 'VBN' 'VBP' 'VBZ' 'WDT' 'WP' 'WP$'\n",
            " 'WRB']\n",
            "num_classes: 39\n"
          ]
        }
      ]
    },
    {
      "cell_type": "markdown",
      "metadata": {
        "id": "BLiAw26WqhqF"
      },
      "source": [
        "Define OHE for the target class."
      ]
    },
    {
      "cell_type": "code",
      "source": [
        "from sklearn.preprocessing import OneHotEncoder\n",
        "# define one hot encoding\n",
        "encoder = OneHotEncoder(sparse=False)\n",
        "# transform data\n",
        "encoder.fit(y_train.reshape(-1,1))\n",
        "y_train_one = encoder.transform(y_train.reshape(-1,1))\n",
        "y_val_one = encoder.transform(y_val.reshape(-1,1))"
      ],
      "metadata": {
        "id": "O-aYR-paAyVf"
      },
      "execution_count": 33,
      "outputs": []
    },
    {
      "cell_type": "code",
      "source": [
        "print(y_train_one.shape)\n",
        "print(y_val_one.shape)"
      ],
      "metadata": {
        "id": "k4Owu3NaUnuf",
        "outputId": "a5a4a2c3-86f5-4db1-9b56-2e92e3c97925",
        "colab": {
          "base_uri": "https://localhost:8080/"
        }
      },
      "execution_count": 34,
      "outputs": [
        {
          "output_type": "stream",
          "name": "stdout",
          "text": [
            "(41149, 39)\n",
            "(27263, 39)\n"
          ]
        }
      ]
    },
    {
      "cell_type": "code",
      "execution_count": 35,
      "metadata": {
        "colab": {
          "base_uri": "https://localhost:8080/"
        },
        "id": "NHZTtqWB485D",
        "outputId": "7255a6bb-8eeb-4898-83df-52bfd6fcf5f5"
      },
      "outputs": [
        {
          "output_type": "execute_result",
          "data": {
            "text/plain": [
              "7306"
            ]
          },
          "metadata": {},
          "execution_count": 35
        }
      ],
      "source": [
        "vocab_size = len(tokenizer.word_index) + 1\n",
        "vocab_size"
      ]
    },
    {
      "cell_type": "markdown",
      "metadata": {
        "id": "51RMHWA0r2ep"
      },
      "source": [
        "Pad the sequences to make them of same length before passing them to the model."
      ]
    },
    {
      "cell_type": "code",
      "execution_count": 36,
      "metadata": {
        "colab": {
          "base_uri": "https://localhost:8080/"
        },
        "id": "Lzxixj0QExD7",
        "outputId": "f7a54289-2aa2-4752-fae9-bcc20ce60b45"
      },
      "outputs": [
        {
          "output_type": "stream",
          "name": "stdout",
          "text": [
            "X train shape: (41149, 1)\n",
            "Y train shape: (41149, 39)\n",
            "type:<class 'numpy.ndarray'>\n",
            "X val shape: (27263, 1)\n",
            "Y val shape: (27263, 39)\n",
            "type:<class 'numpy.ndarray'>\n",
            "X test shape: (13614, 1) (13614, 1)\n",
            "Y test shape: (13614,) (13614,)\n"
          ]
        }
      ],
      "source": [
        "from tensorflow.keras.preprocessing.sequence import pad_sequences\n",
        "\n",
        "x_train = pad_sequences(x_train, maxlen=1, padding='post')\n",
        "x_val = pad_sequences(x_val, maxlen=1, padding='post')\n",
        "x_test = pad_sequences(x_test, maxlen=1, padding='post')\n",
        "\n",
        "#Train\n",
        "print(f'X train shape: {x_train.shape}')\n",
        "print(f'Y train shape: {y_train_one.shape}')\n",
        "print(f'type:{type(x_train)}')\n",
        "\n",
        "# Val\n",
        "print(f'X val shape: {x_val.shape}')\n",
        "print(f'Y val shape: {y_val_one.shape}')\n",
        "print(f'type:{type(y_train)}')\n",
        "\n",
        "# Test\n",
        "print(f'X test shape: {x_test.shape}', x_test.shape)\n",
        "print(f'Y test shape: {y_test.shape}', y_test.shape)"
      ]
    },
    {
      "cell_type": "markdown",
      "metadata": {
        "id": "7FTlmNoGi8CF"
      },
      "source": [
        "## Baseline model: LSTM"
      ]
    },
    {
      "cell_type": "markdown",
      "metadata": {
        "id": "LCcVYGrNsQ-x"
      },
      "source": [
        "### Define the model"
      ]
    },
    {
      "cell_type": "code",
      "execution_count": 37,
      "metadata": {
        "colab": {
          "base_uri": "https://localhost:8080/"
        },
        "id": "RyfvHkUZ1wEU",
        "outputId": "4a3f0d0d-607b-48dd-90a3-f5e4bffccf42"
      },
      "outputs": [
        {
          "output_type": "stream",
          "name": "stdout",
          "text": [
            "Model: \"sequential\"\n",
            "_________________________________________________________________\n",
            " Layer (type)                Output Shape              Param #   \n",
            "=================================================================\n",
            " embedding (Embedding)       (None, 1, 50)             365300    \n",
            "                                                                 \n",
            " bidirectional (Bidirectiona  (None, 64)               21248     \n",
            " l)                                                              \n",
            "                                                                 \n",
            " dense (Dense)               (None, 39)                2535      \n",
            "                                                                 \n",
            "=================================================================\n",
            "Total params: 389,083\n",
            "Trainable params: 23,783\n",
            "Non-trainable params: 365,300\n",
            "_________________________________________________________________\n"
          ]
        }
      ],
      "source": [
        "from tensorflow.keras.models import Sequential\n",
        "from tensorflow.keras.layers import Embedding, Dense, LSTM, Bidirectional \n",
        "\n",
        "model = Sequential()\n",
        "embedding_layer = Embedding(input_dim = vocab_size,output_dim= embedding_dimension,input_length=1, weights = [embedding_matrix], trainable = False)\n",
        "model.add(embedding_layer)\n",
        "model.add(Bidirectional(LSTM(32)))\n",
        "model.add(Dense(num_classes,activation='softmax'))\n",
        "\n",
        "model.summary()"
      ]
    },
    {
      "cell_type": "code",
      "execution_count": 38,
      "metadata": {
        "id": "nUVoMtiPNRMK"
      },
      "outputs": [],
      "source": [
        "#use as loss the categorical_crossentropy because the label are one hot encoded\n",
        "model.compile(loss='categorical_crossentropy', optimizer='Adam', metrics=['accuracy'])"
      ]
    },
    {
      "cell_type": "code",
      "execution_count": 39,
      "metadata": {
        "colab": {
          "base_uri": "https://localhost:8080/"
        },
        "id": "ZY8zv1dvQM3A",
        "outputId": "4dbd9fd6-2b64-4e56-e1f2-1a5c466c694d"
      },
      "outputs": [
        {
          "output_type": "stream",
          "name": "stdout",
          "text": [
            "Epoch 1/30\n",
            "643/643 [==============================] - 19s 9ms/step - loss: 1.8462 - accuracy: 0.5278 - val_loss: 1.3429 - val_accuracy: 0.6282\n",
            "Epoch 2/30\n",
            "643/643 [==============================] - 5s 7ms/step - loss: 1.0354 - accuracy: 0.7093 - val_loss: 1.0947 - val_accuracy: 0.6713\n",
            "Epoch 3/30\n",
            "643/643 [==============================] - 4s 7ms/step - loss: 0.8569 - accuracy: 0.7513 - val_loss: 0.9911 - val_accuracy: 0.7085\n",
            "Epoch 4/30\n",
            "643/643 [==============================] - 4s 6ms/step - loss: 0.7617 - accuracy: 0.7811 - val_loss: 0.9343 - val_accuracy: 0.7267\n",
            "Epoch 5/30\n",
            "643/643 [==============================] - 4s 6ms/step - loss: 0.6978 - accuracy: 0.7957 - val_loss: 0.8948 - val_accuracy: 0.7334\n",
            "Epoch 6/30\n",
            "643/643 [==============================] - 4s 7ms/step - loss: 0.6500 - accuracy: 0.8074 - val_loss: 0.8658 - val_accuracy: 0.7435\n",
            "Epoch 7/30\n",
            "643/643 [==============================] - 4s 6ms/step - loss: 0.6122 - accuracy: 0.8194 - val_loss: 0.8438 - val_accuracy: 0.7508\n",
            "Epoch 8/30\n",
            "643/643 [==============================] - 4s 7ms/step - loss: 0.5815 - accuracy: 0.8275 - val_loss: 0.8289 - val_accuracy: 0.7575\n",
            "Epoch 9/30\n",
            "643/643 [==============================] - 4s 6ms/step - loss: 0.5554 - accuracy: 0.8340 - val_loss: 0.8160 - val_accuracy: 0.7531\n",
            "Epoch 10/30\n",
            "643/643 [==============================] - 4s 6ms/step - loss: 0.5329 - accuracy: 0.8409 - val_loss: 0.8035 - val_accuracy: 0.7591\n",
            "Epoch 11/30\n",
            "643/643 [==============================] - 4s 6ms/step - loss: 0.5136 - accuracy: 0.8476 - val_loss: 0.8000 - val_accuracy: 0.7615\n",
            "Epoch 12/30\n",
            "643/643 [==============================] - 5s 8ms/step - loss: 0.4968 - accuracy: 0.8524 - val_loss: 0.7859 - val_accuracy: 0.7647\n",
            "Epoch 13/30\n",
            "643/643 [==============================] - 4s 7ms/step - loss: 0.4823 - accuracy: 0.8572 - val_loss: 0.7790 - val_accuracy: 0.7685\n",
            "Epoch 14/30\n",
            "643/643 [==============================] - 4s 6ms/step - loss: 0.4692 - accuracy: 0.8601 - val_loss: 0.7745 - val_accuracy: 0.7684\n",
            "Epoch 15/30\n",
            "643/643 [==============================] - 4s 7ms/step - loss: 0.4575 - accuracy: 0.8630 - val_loss: 0.7673 - val_accuracy: 0.7706\n",
            "Epoch 16/30\n",
            "643/643 [==============================] - 4s 7ms/step - loss: 0.4465 - accuracy: 0.8669 - val_loss: 0.7623 - val_accuracy: 0.7754\n",
            "Epoch 17/30\n",
            "643/643 [==============================] - 4s 7ms/step - loss: 0.4371 - accuracy: 0.8685 - val_loss: 0.7596 - val_accuracy: 0.7724\n",
            "Epoch 18/30\n",
            "643/643 [==============================] - 4s 6ms/step - loss: 0.4282 - accuracy: 0.8705 - val_loss: 0.7470 - val_accuracy: 0.7760\n",
            "Epoch 19/30\n",
            "643/643 [==============================] - 4s 7ms/step - loss: 0.4201 - accuracy: 0.8730 - val_loss: 0.7479 - val_accuracy: 0.7782\n",
            "Epoch 20/30\n",
            "643/643 [==============================] - 4s 7ms/step - loss: 0.4123 - accuracy: 0.8732 - val_loss: 0.7388 - val_accuracy: 0.7769\n",
            "Epoch 21/30\n",
            "643/643 [==============================] - 4s 7ms/step - loss: 0.4050 - accuracy: 0.8756 - val_loss: 0.7389 - val_accuracy: 0.7808\n",
            "Epoch 22/30\n",
            "643/643 [==============================] - 4s 6ms/step - loss: 0.3985 - accuracy: 0.8773 - val_loss: 0.7381 - val_accuracy: 0.7797\n",
            "Epoch 23/30\n",
            "643/643 [==============================] - 4s 7ms/step - loss: 0.3922 - accuracy: 0.8782 - val_loss: 0.7367 - val_accuracy: 0.7821\n",
            "Epoch 24/30\n",
            "643/643 [==============================] - 4s 6ms/step - loss: 0.3864 - accuracy: 0.8804 - val_loss: 0.7300 - val_accuracy: 0.7786\n",
            "Epoch 25/30\n",
            "643/643 [==============================] - 4s 6ms/step - loss: 0.3811 - accuracy: 0.8818 - val_loss: 0.7317 - val_accuracy: 0.7789\n",
            "Epoch 26/30\n",
            "643/643 [==============================] - 4s 7ms/step - loss: 0.3752 - accuracy: 0.8822 - val_loss: 0.7176 - val_accuracy: 0.7805\n",
            "Epoch 27/30\n",
            "643/643 [==============================] - 5s 7ms/step - loss: 0.3708 - accuracy: 0.8831 - val_loss: 0.7160 - val_accuracy: 0.7835\n",
            "Epoch 28/30\n",
            "643/643 [==============================] - 4s 7ms/step - loss: 0.3659 - accuracy: 0.8842 - val_loss: 0.7142 - val_accuracy: 0.7836\n",
            "Epoch 29/30\n",
            "643/643 [==============================] - 4s 7ms/step - loss: 0.3615 - accuracy: 0.8860 - val_loss: 0.7149 - val_accuracy: 0.7844\n",
            "Epoch 30/30\n",
            "643/643 [==============================] - 4s 6ms/step - loss: 0.3570 - accuracy: 0.8864 - val_loss: 0.7127 - val_accuracy: 0.7832\n"
          ]
        }
      ],
      "source": [
        "# fit model\n",
        "history = model.fit(x_train, y_train_one, validation_data=(x_val, y_val_one), batch_size = 64, epochs=30)"
      ]
    },
    {
      "cell_type": "code",
      "execution_count": 40,
      "metadata": {
        "colab": {
          "base_uri": "https://localhost:8080/",
          "height": 499
        },
        "id": "jddTN6f7485G",
        "outputId": "cb2ace99-e22b-4c22-c89c-02e3480bca58"
      },
      "outputs": [
        {
          "output_type": "display_data",
          "data": {
            "text/plain": [
              "<Figure size 576x576 with 2 Axes>"
            ],
            "image/png": "[encoded data removed]"
          },
          "metadata": {
            "needs_background": "light"
          }
        }
      ],
      "source": [
        "plt.figure(figsize=(8,8))\n",
        "\n",
        "plt.subplot(211)\n",
        "plt.grid(True)\n",
        "plt.title('Loss')\n",
        "plt.plot(history.history['loss'], label='train')\n",
        "plt.plot(history.history['val_loss'], label='val')\n",
        "plt.legend()\n",
        "\n",
        "\n",
        "plt.subplot(212)\n",
        "plt.grid(True)\n",
        "plt.title('Accuracy')\n",
        "plt.plot(history.history['accuracy'], label='train')\n",
        "plt.plot(history.history['val_accuracy'], label='val')\n",
        "plt.legend()\n",
        "\n",
        "plt.show()"
      ]
    },
    {
      "cell_type": "code",
      "execution_count": 41,
      "metadata": {
        "colab": {
          "base_uri": "https://localhost:8080/"
        },
        "id": "9g-5DG6nQ2UP",
        "outputId": "40a57363-962c-4567-fd86-2092d70a6d22"
      },
      "outputs": [
        {
          "output_type": "stream",
          "name": "stdout",
          "text": [
            "852/852 [==============================] - 3s 3ms/step - loss: 0.7127 - accuracy: 0.7832\n"
          ]
        },
        {
          "output_type": "execute_result",
          "data": {
            "text/plain": [
              "[0.7127136588096619, 0.7832226753234863]"
            ]
          },
          "metadata": {},
          "execution_count": 41
        }
      ],
      "source": [
        "model.evaluate(x_val, y_val_one)"
      ]
    },
    {
      "cell_type": "markdown",
      "metadata": {
        "id": "Jl8xoLex485H"
      },
      "source": [
        "### F1-Macro evaluation"
      ]
    },
    {
      "cell_type": "code",
      "execution_count": 42,
      "metadata": {
        "colab": {
          "base_uri": "https://localhost:8080/"
        },
        "id": "XkZN0tH-APph",
        "outputId": "05d7d5b3-b282-4156-a85f-d82c4fbab091"
      },
      "outputs": [
        {
          "output_type": "stream",
          "name": "stdout",
          "text": [
            "426/426 [==============================] - 2s 2ms/step\n"
          ]
        }
      ],
      "source": [
        "#predictions on the test data\n",
        "y_pred_test = model.predict(x_test)"
      ]
    },
    {
      "cell_type": "code",
      "execution_count": 43,
      "metadata": {
        "id": "5DHOdn7b5ts2",
        "outputId": "e3510a92-4ac6-4bac-8dd3-6a2502467f35",
        "colab": {
          "base_uri": "https://localhost:8080/"
        }
      },
      "outputs": [
        {
          "output_type": "stream",
          "name": "stdout",
          "text": [
            "13614\n",
            "[16 16 16 ...  9 10 15]\n"
          ]
        }
      ],
      "source": [
        "#compute argmax to take the best class for each sample\n",
        "score = np.argmax(y_pred_test, axis=1)\n",
        "print(len(score))\n",
        "y_test_one = encoder.transform(y_test.reshape(-1,1))\n",
        "y_test_true = np.argmax(y_test_one, axis = 1) \n",
        "print(y_test_true)"
      ]
    },
    {
      "cell_type": "code",
      "execution_count": 50,
      "metadata": {
        "colab": {
          "base_uri": "https://localhost:8080/"
        },
        "id": "ZCt1sbjCSFkV",
        "outputId": "d0cc7623-a9db-4ccc-a027-0f359a01e323"
      },
      "outputs": [
        {
          "output_type": "stream",
          "name": "stdout",
          "text": [
            "F1_score on test set is: 0.7392604993492301\n"
          ]
        }
      ],
      "source": [
        "from sklearn.metrics import f1_score, accuracy_score\n",
        "f1 = f1_score(y_test_true, score, average ='macro')\n",
        "print(f'F1_score on test set is: {f1}')"
      ]
    },
    {
      "cell_type": "code",
      "execution_count": 45,
      "metadata": {
        "colab": {
          "base_uri": "https://localhost:8080/"
        },
        "id": "_VDz0j1g485H",
        "outputId": "a64ae3bf-8dcf-44de-943f-b3aad7f653ca"
      },
      "outputs": [
        {
          "output_type": "execute_result",
          "data": {
            "text/plain": [
              "(27263,)"
            ]
          },
          "metadata": {},
          "execution_count": 45
        }
      ],
      "source": [
        "y_val.shape"
      ]
    },
    {
      "cell_type": "code",
      "execution_count": 46,
      "metadata": {
        "colab": {
          "base_uri": "https://localhost:8080/"
        },
        "id": "J6QkdLAs485H",
        "outputId": "f36e1577-862b-4e80-ab7e-5688eb0e803a"
      },
      "outputs": [
        {
          "output_type": "execute_result",
          "data": {
            "text/plain": [
              "(27263, 39)"
            ]
          },
          "metadata": {},
          "execution_count": 46
        }
      ],
      "source": [
        "y_val_one = encoder.transform(y_val.reshape(-1,1))\n",
        "y_val_one.shape"
      ]
    },
    {
      "cell_type": "code",
      "execution_count": 47,
      "metadata": {
        "colab": {
          "base_uri": "https://localhost:8080/"
        },
        "id": "8vKW-bOX485H",
        "outputId": "ffb028c5-2bd2-4929-a9c4-91ad4133efab"
      },
      "outputs": [
        {
          "output_type": "stream",
          "name": "stdout",
          "text": [
            "852/852 [==============================] - 2s 2ms/step\n",
            "27263\n",
            "[ 6 16 15 ... 30 23 32]\n"
          ]
        }
      ],
      "source": [
        "#prediction on validation set\n",
        "y_pred_val = model.predict(x_val)\n",
        "y_pred_val.shape\n",
        "#compute argmax to take the best class for each sample\n",
        "score_val = np.argmax(y_pred_val, axis=1)\n",
        "print(len(score_val))\n",
        "y_val_true = np.argmax(y_val_one, axis = 1) \n",
        "print(y_val_true)"
      ]
    },
    {
      "cell_type": "code",
      "source": [
        "from sklearn.metrics import f1_score, accuracy_score\n",
        "f1 = f1_score(y_val_true, score_val, average ='macro')\n",
        "print(f'F1_score on validation set is: {f1}')"
      ],
      "metadata": {
        "id": "QlWI4cCbYT8-",
        "outputId": "904d229c-3566-44c1-afa3-b80baf1479cb",
        "colab": {
          "base_uri": "https://localhost:8080/"
        }
      },
      "execution_count": 48,
      "outputs": [
        {
          "output_type": "stream",
          "name": "stdout",
          "text": [
            "F1_score on validation set is: 0.6683860677548722\n"
          ]
        }
      ]
    },
    {
      "cell_type": "code",
      "execution_count": 49,
      "metadata": {
        "colab": {
          "base_uri": "https://localhost:8080/"
        },
        "id": "oRJgXWHM485I",
        "outputId": "f1ce6a27-fc5b-4dfe-f08e-620b7583c317"
      },
      "outputs": [
        {
          "output_type": "execute_result",
          "data": {
            "text/plain": [
              "<tf.Tensor: shape=(), dtype=float32, numpy=0.64999104>"
            ]
          },
          "metadata": {},
          "execution_count": 49
        }
      ],
      "source": [
        "# https://www.tensorflow.org/addons/api_docs/python/tfa/metrics/F1Score\n",
        "f1_macro = tfa.metrics.F1Score(average=\"macro\", num_classes=num_classes, threshold=0.5)\n",
        "f1_macro.update_state(y_val_one, y_pred_val)\n",
        "f1_macro.result()"
      ]
    },
    {
      "cell_type": "markdown",
      "metadata": {
        "id": "Jjm_29f4i8CG"
      },
      "source": [
        "## Model A: GRU"
      ]
    },
    {
      "cell_type": "markdown",
      "metadata": {
        "id": "hhyr0auV485I"
      },
      "source": [
        "GRU is a simpler alternative to LSTM's architecture, less effective but with a faster train.\n",
        "</br>Two layers architecture: a Bidirectional GRU layer and a Dense/FC layer on top. "
      ]
    },
    {
      "cell_type": "code",
      "execution_count": null,
      "metadata": {
        "id": "53xpFPP4485I",
        "outputId": "8daa8846-c261-40ba-cae4-2484987602e5"
      },
      "outputs": [
        {
          "name": "stdout",
          "output_type": "stream",
          "text": [
            "Model: \"sequential_5\"\n",
            "_________________________________________________________________\n",
            " Layer (type)                Output Shape              Param #   \n",
            "=================================================================\n",
            " embedding_4 (Embedding)     (None, 1, 50)             365300    \n",
            "                                                                 \n",
            " bidirectional_8 (Bidirectio  (None, 64)               16128     \n",
            " nal)                                                            \n",
            "                                                                 \n",
            " dense_4 (Dense)             (None, 39)                2535      \n",
            "                                                                 \n",
            "=================================================================\n",
            "Total params: 383,963\n",
            "Trainable params: 18,663\n",
            "Non-trainable params: 365,300\n",
            "_________________________________________________________________\n"
          ]
        }
      ],
      "source": [
        "from tensorflow.keras.models import Sequential\n",
        "from tensorflow.keras.layers import Embedding, Dense, GRU, Bidirectional\n",
        "\n",
        "gru_model = Sequential()\n",
        "embedding_layer = Embedding(input_dim = vocab_size, \n",
        "                            output_dim = embedding_dimension, \n",
        "                            input_length = 1,\n",
        "                            weights = [embedding_matrix],\n",
        "                            trainable = False)\n",
        "\n",
        "gru_model.add(embedding_layer)\n",
        "gru_model.add(Bidirectional(GRU(32)))\n",
        "gru_model.add(Dense(num_classes, activation='softmax'))\n",
        "\n",
        "gru_model.summary()"
      ]
    },
    {
      "cell_type": "code",
      "execution_count": null,
      "metadata": {
        "id": "KI1FJxVHi8CG"
      },
      "outputs": [],
      "source": [
        "## From Tutorial 2\n",
        "## A simple plot function, could be used in any model to avoid redundancy\n",
        "\n",
        "import matplotlib.pyplot as plt\n",
        "from sklearn.metrics import f1_score, accuracy_score\n",
        "from functools import partial\n",
        "import random\n",
        "from keras.callbacks import History\n",
        "\n",
        "def show_history(history: History):\n",
        "    \"\"\"\n",
        "    Shows training history data stored by the History Keras callback\n",
        "\n",
        "    :param history: History Keras callback\n",
        "    \"\"\"\n",
        "    history_data = history.history\n",
        "    print(f\"Displaying the following history keys: {history_data.keys()}\")\n",
        "\n",
        "    for key, value in history_data.items():\n",
        "        if not key.startswith('val'):\n",
        "            fig, ax = plt.subplots(1, 1)\n",
        "            ax.set_title(key)\n",
        "            ax.plot(value)\n",
        "            if f'val_{key}' in history_data:\n",
        "                ax.plot(history_data[f'val_{key}'])\n",
        "            else:\n",
        "                print(f\"Couldn't find validation values for metric: {key}\")\n",
        "\n",
        "            ax.set_ylabel(key)\n",
        "            ax.set_xlabel('epoch')\n",
        "            ax.legend(['train', 'val'], loc='best')\n",
        "        plt.grid(True)\n",
        "    plt.show()"
      ]
    },
    {
      "cell_type": "code",
      "execution_count": null,
      "metadata": {
        "id": "VAu9X3x0485I"
      },
      "outputs": [],
      "source": [
        "from keras.optimizers import Adam\n",
        "from keras.metrics import SparseCategoricalAccuracy\n",
        "\n",
        "gru_model.compile(optimizer=Adam(learning_rate=1e-3), \n",
        "                loss='sparse_categorical_crossentropy',\n",
        "                metrics=[SparseCategoricalAccuracy()])"
      ]
    },
    {
      "cell_type": "code",
      "execution_count": null,
      "metadata": {
        "id": "hPcXmqzj485J",
        "outputId": "40d0733b-e973-4d0b-bee4-8959d6e8e124"
      },
      "outputs": [
        {
          "name": "stdout",
          "output_type": "stream",
          "text": [
            "Epoch 1/30\n",
            "643/643 [==============================] - 3s 2ms/step - loss: 1.7098 - sparse_categorical_accuracy: 0.5463 - val_loss: 1.2780 - val_sparse_categorical_accuracy: 0.6337\n",
            "Epoch 2/30\n",
            "643/643 [==============================] - 1s 2ms/step - loss: 1.0048 - sparse_categorical_accuracy: 0.7085 - val_loss: 1.1033 - val_sparse_categorical_accuracy: 0.6712\n",
            "Epoch 3/30\n",
            "643/643 [==============================] - 1s 2ms/step - loss: 0.8509 - sparse_categorical_accuracy: 0.7487 - val_loss: 1.0230 - val_sparse_categorical_accuracy: 0.7012\n",
            "Epoch 4/30\n",
            "643/643 [==============================] - 1s 2ms/step - loss: 0.7606 - sparse_categorical_accuracy: 0.7766 - val_loss: 0.9652 - val_sparse_categorical_accuracy: 0.7291\n",
            "Epoch 5/30\n",
            "643/643 [==============================] - 1s 2ms/step - loss: 0.6972 - sparse_categorical_accuracy: 0.7948 - val_loss: 0.9276 - val_sparse_categorical_accuracy: 0.7238\n",
            "Epoch 6/30\n",
            "643/643 [==============================] - 1s 2ms/step - loss: 0.6490 - sparse_categorical_accuracy: 0.8082 - val_loss: 0.9004 - val_sparse_categorical_accuracy: 0.7340\n",
            "Epoch 7/30\n",
            "643/643 [==============================] - 1s 2ms/step - loss: 0.6120 - sparse_categorical_accuracy: 0.8169 - val_loss: 0.8802 - val_sparse_categorical_accuracy: 0.7394\n",
            "Epoch 8/30\n",
            "643/643 [==============================] - 1s 2ms/step - loss: 0.5817 - sparse_categorical_accuracy: 0.8264 - val_loss: 0.8653 - val_sparse_categorical_accuracy: 0.7465\n",
            "Epoch 9/30\n",
            "643/643 [==============================] - 1s 2ms/step - loss: 0.5574 - sparse_categorical_accuracy: 0.8329 - val_loss: 0.8436 - val_sparse_categorical_accuracy: 0.7496\n",
            "Epoch 10/30\n",
            "643/643 [==============================] - 1s 2ms/step - loss: 0.5365 - sparse_categorical_accuracy: 0.8397 - val_loss: 0.8356 - val_sparse_categorical_accuracy: 0.7535\n",
            "Epoch 11/30\n",
            "643/643 [==============================] - 1s 2ms/step - loss: 0.5189 - sparse_categorical_accuracy: 0.8436 - val_loss: 0.8251 - val_sparse_categorical_accuracy: 0.7575\n",
            "Epoch 12/30\n",
            "643/643 [==============================] - 1s 2ms/step - loss: 0.5029 - sparse_categorical_accuracy: 0.8471 - val_loss: 0.8203 - val_sparse_categorical_accuracy: 0.7588\n",
            "Epoch 13/30\n",
            "643/643 [==============================] - 1s 2ms/step - loss: 0.4889 - sparse_categorical_accuracy: 0.8524 - val_loss: 0.8061 - val_sparse_categorical_accuracy: 0.7602\n",
            "Epoch 14/30\n",
            "643/643 [==============================] - 1s 2ms/step - loss: 0.4773 - sparse_categorical_accuracy: 0.8542 - val_loss: 0.8073 - val_sparse_categorical_accuracy: 0.7635\n",
            "Epoch 15/30\n",
            "643/643 [==============================] - 1s 2ms/step - loss: 0.4662 - sparse_categorical_accuracy: 0.8578 - val_loss: 0.7948 - val_sparse_categorical_accuracy: 0.7671\n",
            "Epoch 16/30\n",
            "643/643 [==============================] - 1s 2ms/step - loss: 0.4564 - sparse_categorical_accuracy: 0.8603 - val_loss: 0.7898 - val_sparse_categorical_accuracy: 0.7696\n",
            "Epoch 17/30\n",
            "643/643 [==============================] - 1s 2ms/step - loss: 0.4475 - sparse_categorical_accuracy: 0.8617 - val_loss: 0.7891 - val_sparse_categorical_accuracy: 0.7693\n",
            "Epoch 18/30\n",
            "643/643 [==============================] - 1s 2ms/step - loss: 0.4394 - sparse_categorical_accuracy: 0.8635 - val_loss: 0.7908 - val_sparse_categorical_accuracy: 0.7721\n",
            "Epoch 19/30\n",
            "643/643 [==============================] - 1s 2ms/step - loss: 0.4319 - sparse_categorical_accuracy: 0.8651 - val_loss: 0.7875 - val_sparse_categorical_accuracy: 0.7739\n",
            "Epoch 20/30\n",
            "643/643 [==============================] - 1s 2ms/step - loss: 0.4251 - sparse_categorical_accuracy: 0.8685 - val_loss: 0.7731 - val_sparse_categorical_accuracy: 0.7735\n",
            "Epoch 21/30\n",
            "643/643 [==============================] - 1s 2ms/step - loss: 0.4188 - sparse_categorical_accuracy: 0.8700 - val_loss: 0.7656 - val_sparse_categorical_accuracy: 0.7749\n",
            "Epoch 22/30\n",
            "643/643 [==============================] - 1s 2ms/step - loss: 0.4129 - sparse_categorical_accuracy: 0.8718 - val_loss: 0.7718 - val_sparse_categorical_accuracy: 0.7749\n",
            "Epoch 23/30\n",
            "643/643 [==============================] - 1s 2ms/step - loss: 0.4074 - sparse_categorical_accuracy: 0.8719 - val_loss: 0.7664 - val_sparse_categorical_accuracy: 0.7759\n",
            "Epoch 24/30\n",
            "643/643 [==============================] - 1s 2ms/step - loss: 0.4016 - sparse_categorical_accuracy: 0.8750 - val_loss: 0.7651 - val_sparse_categorical_accuracy: 0.7773\n",
            "Epoch 25/30\n",
            "643/643 [==============================] - 1s 2ms/step - loss: 0.3966 - sparse_categorical_accuracy: 0.8745 - val_loss: 0.7587 - val_sparse_categorical_accuracy: 0.7781\n",
            "Epoch 26/30\n",
            "643/643 [==============================] - 1s 2ms/step - loss: 0.3923 - sparse_categorical_accuracy: 0.8761 - val_loss: 0.7554 - val_sparse_categorical_accuracy: 0.7768\n",
            "Epoch 27/30\n",
            "643/643 [==============================] - 1s 2ms/step - loss: 0.3875 - sparse_categorical_accuracy: 0.8773 - val_loss: 0.7600 - val_sparse_categorical_accuracy: 0.7779\n",
            "Epoch 28/30\n",
            "643/643 [==============================] - 1s 2ms/step - loss: 0.3835 - sparse_categorical_accuracy: 0.8792 - val_loss: 0.7616 - val_sparse_categorical_accuracy: 0.7781\n",
            "Epoch 29/30\n",
            "643/643 [==============================] - 1s 2ms/step - loss: 0.3791 - sparse_categorical_accuracy: 0.8792 - val_loss: 0.7576 - val_sparse_categorical_accuracy: 0.7774\n",
            "Epoch 30/30\n",
            "643/643 [==============================] - 1s 2ms/step - loss: 0.3755 - sparse_categorical_accuracy: 0.8808 - val_loss: 0.7482 - val_sparse_categorical_accuracy: 0.7804\n"
          ]
        }
      ],
      "source": [
        "history = gru_model.fit(x=x_train, y=y_train, \n",
        "                        validation_data=(x_val,y_val),\n",
        "                        verbose=1,\n",
        "                        epochs=30,\n",
        "                        batch_size=64)"
      ]
    },
    {
      "cell_type": "code",
      "execution_count": null,
      "metadata": {
        "id": "36jVj6BC485J",
        "outputId": "ac9506a1-fbee-4e4f-80ea-878b9a991fe9"
      },
      "outputs": [
        {
          "name": "stdout",
          "output_type": "stream",
          "text": [
            "Displaying the following history keys: dict_keys(['loss', 'sparse_categorical_accuracy', 'val_loss', 'val_sparse_categorical_accuracy'])\n"
          ]
        },
        {
          "data": {
            "image/png": "[encoded data removed]",
            "text/plain": [
              "<Figure size 640x480 with 1 Axes>"
            ]
          },
          "metadata": {},
          "output_type": "display_data"
        },
        {
          "data": {
            "image/png": "[encoded data removed]",
            "text/plain": [
              "<Figure size 640x480 with 1 Axes>"
            ]
          },
          "metadata": {},
          "output_type": "display_data"
        }
      ],
      "source": [
        "show_history(history)"
      ]
    },
    {
      "cell_type": "markdown",
      "metadata": {
        "id": "6bM9ZWFAi8CG"
      },
      "source": [
        "## Model B: 2x LSTM "
      ]
    },
    {
      "cell_type": "code",
      "execution_count": null,
      "metadata": {
        "id": "hVqg81vai8CG",
        "outputId": "929a21c0-fc57-4683-9a21-a9d6be3e6721"
      },
      "outputs": [
        {
          "name": "stdout",
          "output_type": "stream",
          "text": [
            "Model: \"sequential_9\"\n",
            "_________________________________________________________________\n",
            " Layer (type)                Output Shape              Param #   \n",
            "=================================================================\n",
            " embedding_8 (Embedding)     (None, 1, 50)             365300    \n",
            "                                                                 \n",
            " bidirectional_15 (Bidirecti  (None, 1, 28)            7280      \n",
            " onal)                                                           \n",
            "                                                                 \n",
            " bidirectional_16 (Bidirecti  (None, 56)               12768     \n",
            " onal)                                                           \n",
            "                                                                 \n",
            " dense_8 (Dense)             (None, 39)                2223      \n",
            "                                                                 \n",
            "=================================================================\n",
            "Total params: 387,571\n",
            "Trainable params: 22,271\n",
            "Non-trainable params: 365,300\n",
            "_________________________________________________________________\n"
          ]
        }
      ],
      "source": [
        "from tensorflow.keras.models import Sequential\n",
        "from tensorflow.keras.layers import Embedding, Dense, LSTM, Bidirectional \n",
        "\n",
        "x2lstm_model = Sequential()\n",
        "embedding_layer = Embedding(input_dim = vocab_size,output_dim= embedding_dimension,input_length=1, weights = [embedding_matrix], trainable = False)\n",
        "x2lstm_model.add(embedding_layer)\n",
        "x2lstm_model.add(Bidirectional(LSTM(14, return_sequences=True, dropout=0.1)))\n",
        "x2lstm_model.add(Bidirectional(LSTM(28, dropout=0.1)))\n",
        "x2lstm_model.add(Dense(num_classes,activation='softmax'))\n",
        "\n",
        "x2lstm_model.summary()"
      ]
    },
    {
      "cell_type": "code",
      "execution_count": null,
      "metadata": {
        "id": "tBLJuarWTanw"
      },
      "outputs": [],
      "source": [
        "from keras.optimizers import Adam\n",
        "\n",
        "x2lstm_model.compile(loss='sparse_categorical_crossentropy', optimizer=Adam(learning_rate=2e-3), metrics=['accuracy'])"
      ]
    },
    {
      "cell_type": "code",
      "execution_count": null,
      "metadata": {
        "id": "1xaQHoxsTanw",
        "outputId": "cdeccf98-aeb0-4cb0-8096-1f300e96ce06"
      },
      "outputs": [
        {
          "name": "stdout",
          "output_type": "stream",
          "text": [
            "Epoch 1/30\n",
            "322/322 [==============================] - 9s 9ms/step - loss: 2.0679 - accuracy: 0.4369 - val_loss: 1.3846 - val_accuracy: 0.5942\n",
            "Epoch 2/30\n",
            "322/322 [==============================] - 2s 6ms/step - loss: 1.1851 - accuracy: 0.6527 - val_loss: 1.1428 - val_accuracy: 0.6624\n",
            "Epoch 3/30\n",
            "322/322 [==============================] - 2s 6ms/step - loss: 1.0041 - accuracy: 0.7010 - val_loss: 1.0416 - val_accuracy: 0.6940\n",
            "Epoch 4/30\n",
            "322/322 [==============================] - 2s 7ms/step - loss: 0.9125 - accuracy: 0.7267 - val_loss: 0.9742 - val_accuracy: 0.7136\n",
            "Epoch 5/30\n",
            "322/322 [==============================] - 1s 4ms/step - loss: 0.8486 - accuracy: 0.7419 - val_loss: 0.9420 - val_accuracy: 0.7202\n",
            "Epoch 6/30\n",
            "322/322 [==============================] - 1s 4ms/step - loss: 0.8102 - accuracy: 0.7509 - val_loss: 0.9159 - val_accuracy: 0.7214\n",
            "Epoch 7/30\n",
            "322/322 [==============================] - 2s 5ms/step - loss: 0.7794 - accuracy: 0.7589 - val_loss: 0.9127 - val_accuracy: 0.7199\n",
            "Epoch 8/30\n",
            "322/322 [==============================] - 2s 5ms/step - loss: 0.7556 - accuracy: 0.7661 - val_loss: 0.8929 - val_accuracy: 0.7270\n",
            "Epoch 9/30\n",
            "322/322 [==============================] - 2s 5ms/step - loss: 0.7396 - accuracy: 0.7688 - val_loss: 0.8731 - val_accuracy: 0.7388\n",
            "Epoch 10/30\n",
            "322/322 [==============================] - 2s 5ms/step - loss: 0.7188 - accuracy: 0.7740 - val_loss: 0.8595 - val_accuracy: 0.7336\n",
            "Epoch 11/30\n",
            "322/322 [==============================] - 2s 5ms/step - loss: 0.7047 - accuracy: 0.7778 - val_loss: 0.8604 - val_accuracy: 0.7368\n",
            "Epoch 12/30\n",
            "322/322 [==============================] - 2s 5ms/step - loss: 0.6903 - accuracy: 0.7812 - val_loss: 0.8494 - val_accuracy: 0.7400\n",
            "Epoch 13/30\n",
            "322/322 [==============================] - 2s 5ms/step - loss: 0.6816 - accuracy: 0.7853 - val_loss: 0.8460 - val_accuracy: 0.7437\n",
            "Epoch 14/30\n",
            "322/322 [==============================] - 2s 5ms/step - loss: 0.6703 - accuracy: 0.7880 - val_loss: 0.8397 - val_accuracy: 0.7439\n",
            "Epoch 15/30\n",
            "322/322 [==============================] - 2s 5ms/step - loss: 0.6613 - accuracy: 0.7908 - val_loss: 0.8406 - val_accuracy: 0.7452\n",
            "Epoch 16/30\n",
            "322/322 [==============================] - 2s 5ms/step - loss: 0.6547 - accuracy: 0.7921 - val_loss: 0.8338 - val_accuracy: 0.7490\n",
            "Epoch 17/30\n",
            "322/322 [==============================] - 2s 5ms/step - loss: 0.6485 - accuracy: 0.7945 - val_loss: 0.8240 - val_accuracy: 0.7523\n",
            "Epoch 18/30\n",
            "322/322 [==============================] - 2s 5ms/step - loss: 0.6430 - accuracy: 0.7950 - val_loss: 0.8260 - val_accuracy: 0.7524\n",
            "Epoch 19/30\n",
            "322/322 [==============================] - 2s 5ms/step - loss: 0.6330 - accuracy: 0.7976 - val_loss: 0.8187 - val_accuracy: 0.7636\n",
            "Epoch 20/30\n",
            "322/322 [==============================] - 2s 5ms/step - loss: 0.6279 - accuracy: 0.8003 - val_loss: 0.8174 - val_accuracy: 0.7606\n",
            "Epoch 21/30\n",
            "322/322 [==============================] - 2s 5ms/step - loss: 0.6230 - accuracy: 0.8013 - val_loss: 0.8039 - val_accuracy: 0.7562\n",
            "Epoch 22/30\n",
            "322/322 [==============================] - 2s 5ms/step - loss: 0.6181 - accuracy: 0.8002 - val_loss: 0.8026 - val_accuracy: 0.7659\n",
            "Epoch 23/30\n",
            "322/322 [==============================] - 2s 5ms/step - loss: 0.6126 - accuracy: 0.8015 - val_loss: 0.8045 - val_accuracy: 0.7574\n",
            "Epoch 24/30\n",
            "322/322 [==============================] - 2s 5ms/step - loss: 0.6103 - accuracy: 0.8050 - val_loss: 0.7838 - val_accuracy: 0.7576\n",
            "Epoch 25/30\n",
            "322/322 [==============================] - 2s 5ms/step - loss: 0.6085 - accuracy: 0.8068 - val_loss: 0.7991 - val_accuracy: 0.7590\n",
            "Epoch 26/30\n",
            "322/322 [==============================] - 2s 5ms/step - loss: 0.6007 - accuracy: 0.8073 - val_loss: 0.7850 - val_accuracy: 0.7622\n",
            "Epoch 27/30\n",
            "322/322 [==============================] - 2s 5ms/step - loss: 0.5985 - accuracy: 0.8067 - val_loss: 0.7902 - val_accuracy: 0.7643\n",
            "Epoch 28/30\n",
            "322/322 [==============================] - 2s 5ms/step - loss: 0.5928 - accuracy: 0.8115 - val_loss: 0.7886 - val_accuracy: 0.7618\n",
            "Epoch 29/30\n",
            "322/322 [==============================] - 2s 5ms/step - loss: 0.5903 - accuracy: 0.8114 - val_loss: 0.7969 - val_accuracy: 0.7642\n",
            "Epoch 30/30\n",
            "322/322 [==============================] - 2s 5ms/step - loss: 0.5916 - accuracy: 0.8096 - val_loss: 0.7888 - val_accuracy: 0.7656\n"
          ]
        }
      ],
      "source": [
        "# fit model\n",
        "history = x2lstm_model.fit(x_train, y_train, validation_data=(x_val, y_val), batch_size = 128, epochs=30)"
      ]
    },
    {
      "cell_type": "code",
      "execution_count": null,
      "metadata": {
        "id": "NLq6Kx3lTanw",
        "outputId": "563700b8-554e-4f78-9eaf-a79ba710c441"
      },
      "outputs": [
        {
          "name": "stdout",
          "output_type": "stream",
          "text": [
            "Displaying the following history keys: dict_keys(['loss', 'accuracy', 'val_loss', 'val_accuracy'])\n"
          ]
        },
        {
          "data": {
            "image/png": "[encoded data removed]",
            "text/plain": [
              "<Figure size 640x480 with 1 Axes>"
            ]
          },
          "metadata": {},
          "output_type": "display_data"
        },
        {
          "data": {
            "image/png": "[encoded data removed]",
            "text/plain": [
              "<Figure size 640x480 with 1 Axes>"
            ]
          },
          "metadata": {},
          "output_type": "display_data"
        }
      ],
      "source": [
        "show_history(history)"
      ]
    },
    {
      "cell_type": "code",
      "execution_count": null,
      "metadata": {
        "id": "a2exi0_FTanx",
        "outputId": "793c0486-a787-413c-d870-09f29977bbc1"
      },
      "outputs": [
        {
          "name": "stdout",
          "output_type": "stream",
          "text": [
            "852/852 [==============================] - 2s 2ms/step - loss: 0.7888 - accuracy: 0.7656\n"
          ]
        },
        {
          "data": {
            "text/plain": [
              "[0.7888257503509521, 0.7655797004699707]"
            ]
          },
          "execution_count": 125,
          "metadata": {},
          "output_type": "execute_result"
        }
      ],
      "source": [
        "x2lstm_model.evaluate(x_val, y_val)"
      ]
    },
    {
      "cell_type": "markdown",
      "metadata": {
        "id": "9R_7L1V_Tanx"
      },
      "source": [
        "### F1-Macro evaluation"
      ]
    },
    {
      "cell_type": "code",
      "execution_count": null,
      "metadata": {
        "colab": {
          "base_uri": "https://localhost:8080/"
        },
        "outputId": "6dd12371-b3a5-4df1-dd1a-ff88a3c77d1d",
        "id": "6Ynw3mPvTanx"
      },
      "outputs": [
        {
          "name": "stdout",
          "output_type": "stream",
          "text": [
            "426/426 [==============================] - 2s 2ms/step\n"
          ]
        }
      ],
      "source": [
        "#predictions on the test data\n",
        "y_pred = x2lstm_model.predict(x_test)"
      ]
    },
    {
      "cell_type": "code",
      "execution_count": null,
      "metadata": {
        "id": "nQ1gdoUMTany"
      },
      "outputs": [],
      "source": [
        "n = np.shape(y_pred)[0]\n",
        "score = [np.argmax(y_pred[x,:]) for x in range(0,n)]"
      ]
    },
    {
      "cell_type": "code",
      "execution_count": null,
      "metadata": {
        "colab": {
          "base_uri": "https://localhost:8080/"
        },
        "outputId": "36b9ba9e-866f-4cc5-871b-a1bdd5f4dbd6",
        "id": "9yVGMdSiTany"
      },
      "outputs": [
        {
          "name": "stdout",
          "output_type": "stream",
          "text": [
            "F1_score is: 0.7288454793734305\n"
          ]
        }
      ],
      "source": [
        "from sklearn.metrics import f1_score, accuracy_score\n",
        "f1 = f1_score(y_test, score, average ='macro')\n",
        "print(f'F1_score is: {f1}')"
      ]
    },
    {
      "cell_type": "code",
      "execution_count": null,
      "metadata": {
        "colab": {
          "base_uri": "https://localhost:8080/"
        },
        "outputId": "2aad715c-2ebb-4716-b28b-9e6cacdbc069",
        "id": "gaSXNUuzTany"
      },
      "outputs": [
        {
          "data": {
            "text/plain": [
              "(27263,)"
            ]
          },
          "execution_count": 129,
          "metadata": {},
          "output_type": "execute_result"
        }
      ],
      "source": [
        "y_val.shape"
      ]
    },
    {
      "cell_type": "code",
      "execution_count": null,
      "metadata": {
        "colab": {
          "base_uri": "https://localhost:8080/"
        },
        "outputId": "62b60f3b-8773-4c7c-8455-a4c2386f17c3",
        "id": "7xAYMhMGTany"
      },
      "outputs": [
        {
          "data": {
            "text/plain": [
              "(27263, 39)"
            ]
          },
          "execution_count": 130,
          "metadata": {},
          "output_type": "execute_result"
        }
      ],
      "source": [
        "onehot = OneHotEncoder(sparse=False)\n",
        "onehot.fit(y_train.reshape(-1,1))\n",
        "y_val_onehot = onehot.transform(y_val.reshape(-1,1))\n",
        "y_val_onehot.shape"
      ]
    },
    {
      "cell_type": "code",
      "execution_count": null,
      "metadata": {
        "colab": {
          "base_uri": "https://localhost:8080/"
        },
        "outputId": "816e70fa-6b2f-4428-fd0b-35a90d616ad1",
        "id": "eRBNPCzkTanz"
      },
      "outputs": [
        {
          "name": "stdout",
          "output_type": "stream",
          "text": [
            "852/852 [==============================] - 2s 2ms/step\n"
          ]
        },
        {
          "data": {
            "text/plain": [
              "(27263, 39)"
            ]
          },
          "execution_count": 131,
          "metadata": {},
          "output_type": "execute_result"
        }
      ],
      "source": [
        "y_pred_val = x2lstm_model.predict(x_val)\n",
        "y_pred_val.shape"
      ]
    },
    {
      "cell_type": "code",
      "execution_count": null,
      "metadata": {
        "colab": {
          "base_uri": "https://localhost:8080/"
        },
        "outputId": "6d5499e8-4476-4f62-87dc-14f00910af9e",
        "id": "mCPsv33YTanz"
      },
      "outputs": [
        {
          "data": {
            "text/plain": [
              "<tf.Tensor: shape=(), dtype=float32, numpy=0.6474317>"
            ]
          },
          "execution_count": 132,
          "metadata": {},
          "output_type": "execute_result"
        }
      ],
      "source": [
        "# https://www.tensorflow.org/addons/api_docs/python/tfa/metrics/F1Score\n",
        "f1_macro = tfa.metrics.F1Score(average=\"macro\", num_classes=num_classes, threshold=0.5)\n",
        "f1_macro.update_state(y_val_onehot, y_pred_val)\n",
        "f1_macro.result()"
      ]
    },
    {
      "cell_type": "markdown",
      "metadata": {
        "id": "5hgT909Mi8CG"
      },
      "source": [
        "## Model C: LSTM + Dense"
      ]
    },
    {
      "cell_type": "code",
      "execution_count": null,
      "metadata": {
        "id": "5P-NSPmwi8CG"
      },
      "outputs": [],
      "source": []
    },
    {
      "cell_type": "markdown",
      "metadata": {
        "id": "tTwH3Iz5i8CG"
      },
      "source": [
        "## Conclusions"
      ]
    },
    {
      "cell_type": "code",
      "execution_count": null,
      "metadata": {
        "id": "g8vray3yi8CH"
      },
      "outputs": [],
      "source": []
    }
  ],
  "metadata": {
    "colab": {
      "provenance": []
    },
    "kernelspec": {
      "display_name": "Python 3.7.13 ('nlp')",
      "language": "python",
      "name": "python3"
    },
    "language_info": {
      "codemirror_mode": {
        "name": "ipython",
        "version": 3
      },
      "file_extension": ".py",
      "mimetype": "text/x-python",
      "name": "python",
      "nbconvert_exporter": "python",
      "pygments_lexer": "ipython3",
      "version": "3.7.13"
    },
    "orig_nbformat": 4,
    "vscode": {
      "interpreter": {
        "hash": "0847cda728ef3e0f335e7e94b5a043d9a0fda1c620343fc6302f7013063303dc"
      }
    },
    "accelerator": "GPU",
    "gpuClass": "standard"
  },
  "nbformat": 4,
  "nbformat_minor": 0
}