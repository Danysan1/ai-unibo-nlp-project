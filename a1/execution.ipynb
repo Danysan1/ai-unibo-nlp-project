{
  "cells": [
    {
      "cell_type": "markdown",
      "metadata": {},
      "source": [
        "<a href=\"https://colab.research.google.com/github/Danysan1/ai-unibo-nlp-project/blob/main/a1/execution.ipynb\" target=\"_parent\"><img src=\"https://colab.research.google.com/assets/colab-badge.svg\" alt=\"Open In Colab\"/></a>"
      ]
    },
    {
      "cell_type": "markdown",
      "metadata": {
        "id": "TzCABY1Qi8Bv"
      },
      "source": [
        "# Assigment 1 execution"
      ]
    },
    {
      "cell_type": "markdown",
      "metadata": {
        "id": "kNE248Nhi8B0"
      },
      "source": [
        "Corpora: https://www.nltk.org/nltk_data/ , point 91, \"Dependency Parsed Treebank\" ([link](https://raw.githubusercontent.com/nltk/nltk_data/gh-pages/packages/corpora/dependency_treebank.zip)).\n",
        "\n",
        "Docs:\n",
        "* https://www.nltk.org/api/nltk.corpus.html\n",
        "* https://www.nltk.org/data.html\n",
        "* https://www.nltk.org/install.html\n",
        "\n",
        "## Preparing the environment"
      ]
    },
    {
      "cell_type": "code",
      "execution_count": 26,
      "metadata": {
        "id": "SJOEUxxoi8B1"
      },
      "outputs": [
        {
          "name": "stdout",
          "output_type": "stream",
          "text": [
            "Requirement already satisfied: pandas in /home/hiari/opt/anaconda3/envs/nlp/lib/python3.10/site-packages (1.4.4)\n",
            "Requirement already satisfied: numpy in /home/hiari/opt/anaconda3/envs/nlp/lib/python3.10/site-packages (1.22.3)\n",
            "Requirement already satisfied: matplotlib in /home/hiari/opt/anaconda3/envs/nlp/lib/python3.10/site-packages (3.5.2)\n",
            "Requirement already satisfied: gensim in /home/hiari/opt/anaconda3/envs/nlp/lib/python3.10/site-packages (4.2.0)\n",
            "Requirement already satisfied: tensorflow-addons in /home/hiari/opt/anaconda3/envs/nlp/lib/python3.10/site-packages (0.18.0)\n",
            "Requirement already satisfied: python-dateutil>=2.8.1 in /home/hiari/opt/anaconda3/envs/nlp/lib/python3.10/site-packages (from pandas) (2.8.2)\n",
            "Requirement already satisfied: pytz>=2020.1 in /home/hiari/opt/anaconda3/envs/nlp/lib/python3.10/site-packages (from pandas) (2022.1)\n",
            "Requirement already satisfied: cycler>=0.10 in /home/hiari/opt/anaconda3/envs/nlp/lib/python3.10/site-packages (from matplotlib) (0.11.0)\n",
            "Requirement already satisfied: kiwisolver>=1.0.1 in /home/hiari/opt/anaconda3/envs/nlp/lib/python3.10/site-packages (from matplotlib) (1.4.2)\n",
            "Requirement already satisfied: packaging>=20.0 in /home/hiari/opt/anaconda3/envs/nlp/lib/python3.10/site-packages (from matplotlib) (21.3)\n",
            "Requirement already satisfied: fonttools>=4.22.0 in /home/hiari/opt/anaconda3/envs/nlp/lib/python3.10/site-packages (from matplotlib) (4.25.0)\n",
            "Requirement already satisfied: pillow>=6.2.0 in /home/hiari/opt/anaconda3/envs/nlp/lib/python3.10/site-packages (from matplotlib) (9.2.0)\n",
            "Requirement already satisfied: pyparsing>=2.2.1 in /home/hiari/opt/anaconda3/envs/nlp/lib/python3.10/site-packages (from matplotlib) (3.0.9)\n",
            "Requirement already satisfied: smart-open>=1.8.1 in /home/hiari/opt/anaconda3/envs/nlp/lib/python3.10/site-packages (from gensim) (6.2.0)\n",
            "Requirement already satisfied: scipy>=0.18.1 in /home/hiari/opt/anaconda3/envs/nlp/lib/python3.10/site-packages (from gensim) (1.7.3)\n",
            "Requirement already satisfied: typeguard>=2.7 in /home/hiari/opt/anaconda3/envs/nlp/lib/python3.10/site-packages (from tensorflow-addons) (2.13.3)\n",
            "Requirement already satisfied: six>=1.5 in /home/hiari/opt/anaconda3/envs/nlp/lib/python3.10/site-packages (from python-dateutil>=2.8.1->pandas) (1.16.0)\n",
            "Note: you may need to restart the kernel to use updated packages.\n"
          ]
        }
      ],
      "source": [
        "%pip install pandas numpy matplotlib gensim tensorflow-addons"
      ]
    },
    {
      "cell_type": "code",
      "execution_count": 27,
      "metadata": {
        "id": "KqnHhB8yGptZ"
      },
      "outputs": [],
      "source": [
        "import os, shutil  #  file management\n",
        "import sys \n",
        "import pandas as pd  #  dataframe management\n",
        "import numpy as np  #  data manipulation\n",
        "import re\n",
        "import urllib.request  # download files\n",
        "from zipfile import ZipFile # extract files\n",
        "from matplotlib import pyplot as plt\n",
        "import tensorflow_addons as tfa"
      ]
    },
    {
      "cell_type": "markdown",
      "metadata": {
        "id": "glhEVNdNi8B4"
      },
      "source": [
        "## Downloading the dataset"
      ]
    },
    {
      "cell_type": "code",
      "execution_count": 28,
      "metadata": {
        "id": "8rcR7hfpi8B4"
      },
      "outputs": [],
      "source": [
        "#from nltk import download\n",
        "#download()"
      ]
    },
    {
      "cell_type": "code",
      "execution_count": 29,
      "metadata": {
        "colab": {
          "base_uri": "https://localhost:8080/"
        },
        "id": "gMVaf67mGtVe",
        "outputId": "b63eda12-b949-4841-d2a0-6205aece1435"
      },
      "outputs": [
        {
          "name": "stdout",
          "output_type": "stream",
          "text": [
            "Successful extraction\n"
          ]
        }
      ],
      "source": [
        "dataset_folder = os.path.join(os.getcwd(), \"Dataset\")\n",
        "\n",
        "if not os.path.exists(dataset_folder):\n",
        "    os.makedirs(dataset_folder)\n",
        "\n",
        "url = 'https://raw.githubusercontent.com/nltk/nltk_data/gh-pages/packages/corpora/dependency_treebank.zip'\n",
        "\n",
        "dataset_path = os.path.join(dataset_folder, \"dependency_treebank.zip\")\n",
        "\n",
        "if not os.path.exists(dataset_path):\n",
        "    urllib.request.urlretrieve(url, dataset_path)\n",
        "    print(\"Successful download\")\n",
        "    \n",
        "with ZipFile(dataset_path, 'r') as zObject:\n",
        "  # Extracting all the members of the zip  into a specific location.\n",
        "  zObject.extractall(dataset_folder)\n",
        "  print(\"Successful extraction\")"
      ]
    },
    {
      "cell_type": "markdown",
      "metadata": {
        "id": "6YF4FVoUi8B7"
      },
      "source": [
        "## Loading the data"
      ]
    },
    {
      "cell_type": "code",
      "execution_count": 30,
      "metadata": {
        "id": "wNHOCIU0i8B8"
      },
      "outputs": [],
      "source": [
        "#from nltk.corpus import dependency_treebank\n",
        "#from nltk.data import load\n",
        "#dependency_treebank_test = load(\"nltk:\") \n",
        "#sentences = dependency_treebank.sents()\n",
        "#words = dependency_treebank.words()"
      ]
    },
    {
      "cell_type": "code",
      "execution_count": 31,
      "metadata": {
        "id": "brq6f0-oi8B9"
      },
      "outputs": [],
      "source": [
        "def loadCorpus(start, stop=None):\n",
        "    '''\n",
        "    Loads the data for the specified file range.\n",
        "    \n",
        "    Removes the third column 'num', which is not necessary for this task.\n",
        "\n",
        "    Parameters:\n",
        "        start: start of numeric range of files (inclusive)\n",
        "        stop: end of numeric range of files (exclusive)\n",
        "    '''\n",
        "    dataset_name = \"dependency_treebank\"\n",
        "    folder = os.path.join(os.getcwd(), \"Dataset\", dataset_name)\n",
        "\n",
        "    if stop==None:\n",
        "        stop = start+1\n",
        "    \n",
        "    return pd.concat([\n",
        "        pd.read_csv(\n",
        "            f'{folder}/wsj_{\"{:04d}\".format(num)}.dp',\n",
        "            sep=\"\\t\",\n",
        "            usecols=[0,1],\n",
        "            names=[\"word\",\"label\"]\n",
        "        ) for num in range(start, stop)\n",
        "    ])"
      ]
    },
    {
      "cell_type": "code",
      "execution_count": 32,
      "metadata": {
        "id": "MHjTm5HOi8B-"
      },
      "outputs": [],
      "source": [
        "full_dataset = loadCorpus(1,200)"
      ]
    },
    {
      "cell_type": "markdown",
      "metadata": {
        "id": "xVtgdAgwi8B-"
      },
      "source": [
        "## Exploratory Data Analysis"
      ]
    },
    {
      "cell_type": "code",
      "execution_count": 33,
      "metadata": {
        "colab": {
          "base_uri": "https://localhost:8080/"
        },
        "id": "Ih48IOpti8B_",
        "outputId": "89438346-41f8-4be0-99a1-cf1b47269f0c"
      },
      "outputs": [
        {
          "data": {
            "text/plain": [
              "word     94084\n",
              "label    94084\n",
              "dtype: int64"
            ]
          },
          "execution_count": 33,
          "metadata": {},
          "output_type": "execute_result"
        }
      ],
      "source": [
        "full_dataset.count()"
      ]
    },
    {
      "cell_type": "code",
      "execution_count": 34,
      "metadata": {
        "colab": {
          "base_uri": "https://localhost:8080/",
          "height": 363
        },
        "id": "uzKTmaB0i8CA",
        "outputId": "803b9b7b-681a-41bc-e625-39704d97b938"
      },
      "outputs": [
        {
          "data": {
            "text/html": [
              "<div>\n",
              "<style scoped>\n",
              "    .dataframe tbody tr th:only-of-type {\n",
              "        vertical-align: middle;\n",
              "    }\n",
              "\n",
              "    .dataframe tbody tr th {\n",
              "        vertical-align: top;\n",
              "    }\n",
              "\n",
              "    .dataframe thead th {\n",
              "        text-align: right;\n",
              "    }\n",
              "</style>\n",
              "<table border=\"1\" class=\"dataframe\">\n",
              "  <thead>\n",
              "    <tr style=\"text-align: right;\">\n",
              "      <th></th>\n",
              "      <th>word</th>\n",
              "      <th>label</th>\n",
              "    </tr>\n",
              "  </thead>\n",
              "  <tbody>\n",
              "    <tr>\n",
              "      <th>0</th>\n",
              "      <td>Pierre</td>\n",
              "      <td>NNP</td>\n",
              "    </tr>\n",
              "    <tr>\n",
              "      <th>1</th>\n",
              "      <td>Vinken</td>\n",
              "      <td>NNP</td>\n",
              "    </tr>\n",
              "    <tr>\n",
              "      <th>2</th>\n",
              "      <td>,</td>\n",
              "      <td>,</td>\n",
              "    </tr>\n",
              "    <tr>\n",
              "      <th>3</th>\n",
              "      <td>61</td>\n",
              "      <td>CD</td>\n",
              "    </tr>\n",
              "    <tr>\n",
              "      <th>4</th>\n",
              "      <td>years</td>\n",
              "      <td>NNS</td>\n",
              "    </tr>\n",
              "    <tr>\n",
              "      <th>5</th>\n",
              "      <td>old</td>\n",
              "      <td>JJ</td>\n",
              "    </tr>\n",
              "    <tr>\n",
              "      <th>6</th>\n",
              "      <td>,</td>\n",
              "      <td>,</td>\n",
              "    </tr>\n",
              "    <tr>\n",
              "      <th>7</th>\n",
              "      <td>will</td>\n",
              "      <td>MD</td>\n",
              "    </tr>\n",
              "    <tr>\n",
              "      <th>8</th>\n",
              "      <td>join</td>\n",
              "      <td>VB</td>\n",
              "    </tr>\n",
              "    <tr>\n",
              "      <th>9</th>\n",
              "      <td>the</td>\n",
              "      <td>DT</td>\n",
              "    </tr>\n",
              "  </tbody>\n",
              "</table>\n",
              "</div>"
            ],
            "text/plain": [
              "     word label\n",
              "0  Pierre   NNP\n",
              "1  Vinken   NNP\n",
              "2       ,     ,\n",
              "3      61    CD\n",
              "4   years   NNS\n",
              "5     old    JJ\n",
              "6       ,     ,\n",
              "7    will    MD\n",
              "8    join    VB\n",
              "9     the    DT"
            ]
          },
          "execution_count": 34,
          "metadata": {},
          "output_type": "execute_result"
        }
      ],
      "source": [
        "full_dataset.head(10)"
      ]
    },
    {
      "cell_type": "markdown",
      "metadata": {
        "id": "ZjqrPfy4i8CB"
      },
      "source": [
        "Each document contains a different tokenized article:"
      ]
    },
    {
      "cell_type": "code",
      "execution_count": 35,
      "metadata": {
        "colab": {
          "base_uri": "https://localhost:8080/",
          "height": 36
        },
        "id": "EE9Qv0tUi8CB",
        "outputId": "691c4f5c-ee40-49b6-f310-4ae24923d06b"
      },
      "outputs": [
        {
          "data": {
            "text/plain": [
              "'Pierre Vinken , 61 years old , will join the board as a nonexecutive director Nov. 29 . Mr. Vinken is chairman of Elsevier N.V. , the Dutch publishing group .'"
            ]
          },
          "execution_count": 35,
          "metadata": {},
          "output_type": "execute_result"
        }
      ],
      "source": [
        "\" \".join(loadCorpus(1)[\"word\"])"
      ]
    },
    {
      "cell_type": "code",
      "execution_count": 36,
      "metadata": {
        "colab": {
          "base_uri": "https://localhost:8080/",
          "height": 36
        },
        "id": "sDIadSSJi8CB",
        "outputId": "7d1e8b1c-9e31-4a37-ed47-bfbf41f4bcd6"
      },
      "outputs": [
        {
          "data": {
            "text/plain": [
              "'Rudolph Agnew , 55 years old and former chairman of Consolidated Gold Fields PLC , was named a nonexecutive director of this British industrial conglomerate .'"
            ]
          },
          "execution_count": 36,
          "metadata": {},
          "output_type": "execute_result"
        }
      ],
      "source": [
        "\" \".join(loadCorpus(2)[\"word\"])"
      ]
    },
    {
      "cell_type": "code",
      "execution_count": 37,
      "metadata": {
        "colab": {
          "base_uri": "https://localhost:8080/",
          "height": 336
        },
        "id": "dcAVyveni8CC",
        "outputId": "a2976d7b-e9e4-43d3-8072-5a7f373817a4"
      },
      "outputs": [
        {
          "data": {
            "image/png": "[encoded data removed]",
            "text/plain": [
              "<Figure size 1500x500 with 1 Axes>"
            ]
          },
          "metadata": {},
          "output_type": "display_data"
        }
      ],
      "source": [
        "fig=plt.figure(figsize=(15,5))\n",
        "p = plt.hist(full_dataset[\"label\"])\n",
        "plt.xticks(rotation=45)\n",
        "plt.show()"
      ]
    },
    {
      "cell_type": "code",
      "execution_count": 38,
      "metadata": {
        "colab": {
          "base_uri": "https://localhost:8080/",
          "height": 306
        },
        "id": "K9XyBPIQi8CC",
        "outputId": "a18460e3-8cc0-40c9-eb55-31d5d7bc7dd4"
      },
      "outputs": [
        {
          "data": {
            "image/png": "[encoded data removed]",
            "text/plain": [
              "<Figure size 1500x500 with 1 Axes>"
            ]
          },
          "metadata": {},
          "output_type": "display_data"
        }
      ],
      "source": [
        "fig=plt.figure(figsize=(15,5))\n",
        "p = plt.plot(full_dataset[\"word\"].value_counts())\n",
        "plt.xticks([])\n",
        "plt.show()"
      ]
    },
    {
      "cell_type": "markdown",
      "metadata": {
        "id": "MzyI2Wufi8CD"
      },
      "source": [
        "## Data splitting\n",
        "\n",
        "\n",
        "\n"
      ]
    },
    {
      "cell_type": "markdown",
      "metadata": {
        "id": "Nep1haoQkIO0"
      },
      "source": [
        "Creation of train, validation and test sets."
      ]
    },
    {
      "cell_type": "code",
      "execution_count": 39,
      "metadata": {
        "id": "kOG5wns9X011"
      },
      "outputs": [
        {
          "data": {
            "text/plain": [
              "word     47356\n",
              "label    47356\n",
              "dtype: int64"
            ]
          },
          "execution_count": 39,
          "metadata": {},
          "output_type": "execute_result"
        }
      ],
      "source": [
        "df_train = loadCorpus(1,101) \n",
        "df_val = loadCorpus(101,151)\n",
        "df_test = loadCorpus(151,200)\n",
        "\n",
        "df_train.count()"
      ]
    },
    {
      "cell_type": "code",
      "execution_count": 40,
      "metadata": {},
      "outputs": [
        {
          "data": {
            "text/plain": [
              "word     31183\n",
              "label    31183\n",
              "dtype: int64"
            ]
          },
          "execution_count": 40,
          "metadata": {},
          "output_type": "execute_result"
        }
      ],
      "source": [
        "df_val.count()"
      ]
    },
    {
      "cell_type": "code",
      "execution_count": 41,
      "metadata": {},
      "outputs": [
        {
          "data": {
            "text/plain": [
              "word     15545\n",
              "label    15545\n",
              "dtype: int64"
            ]
          },
          "execution_count": 41,
          "metadata": {},
          "output_type": "execute_result"
        }
      ],
      "source": [
        "df_test.count()"
      ]
    },
    {
      "cell_type": "markdown",
      "metadata": {},
      "source": [
        "## Data pre-processing"
      ]
    },
    {
      "cell_type": "markdown",
      "metadata": {
        "id": "vjPNQ9ilk7X_"
      },
      "source": [
        "Clean the data."
      ]
    },
    {
      "cell_type": "code",
      "execution_count": 42,
      "metadata": {
        "id": "4T_aIaLxk4Xp"
      },
      "outputs": [],
      "source": [
        "def cleanCorpus(corpus):\n",
        "    corpus['word'] = corpus['word'].str.lower()\n",
        "    corpus[\"word\"] = [re.sub(r'[^\\w]', '', word) for word in corpus[\"word\"]]\n",
        "    corpus = corpus[corpus[\"word\"] != \"\"]\n",
        "    return corpus"
      ]
    },
    {
      "cell_type": "code",
      "execution_count": 43,
      "metadata": {
        "id": "lV6x05Lu26ym"
      },
      "outputs": [
        {
          "data": {
            "text/plain": [
              "word     41149\n",
              "label    41149\n",
              "dtype: int64"
            ]
          },
          "execution_count": 43,
          "metadata": {},
          "output_type": "execute_result"
        }
      ],
      "source": [
        "#cleaned dataframes\n",
        "dfc_train = cleanCorpus(df_train)\n",
        "dfc_val = cleanCorpus(df_val)\n",
        "dfc_test = cleanCorpus(df_test)\n",
        "\n",
        "dfc_train.count()"
      ]
    },
    {
      "cell_type": "code",
      "execution_count": 44,
      "metadata": {},
      "outputs": [
        {
          "data": {
            "text/plain": [
              "word     27263\n",
              "label    27263\n",
              "dtype: int64"
            ]
          },
          "execution_count": 44,
          "metadata": {},
          "output_type": "execute_result"
        }
      ],
      "source": [
        "dfc_val.count()"
      ]
    },
    {
      "cell_type": "code",
      "execution_count": 45,
      "metadata": {},
      "outputs": [
        {
          "data": {
            "text/plain": [
              "word     13614\n",
              "label    13614\n",
              "dtype: int64"
            ]
          },
          "execution_count": 45,
          "metadata": {},
          "output_type": "execute_result"
        }
      ],
      "source": [
        "dfc_test.count()"
      ]
    },
    {
      "cell_type": "code",
      "execution_count": 46,
      "metadata": {
        "colab": {
          "base_uri": "https://localhost:8080/",
          "height": 206
        },
        "id": "R4fHZaScmPoU",
        "outputId": "a6707c03-9e22-4f6c-b11b-33ecf06c630b"
      },
      "outputs": [
        {
          "data": {
            "text/html": [
              "<div>\n",
              "<style scoped>\n",
              "    .dataframe tbody tr th:only-of-type {\n",
              "        vertical-align: middle;\n",
              "    }\n",
              "\n",
              "    .dataframe tbody tr th {\n",
              "        vertical-align: top;\n",
              "    }\n",
              "\n",
              "    .dataframe thead th {\n",
              "        text-align: right;\n",
              "    }\n",
              "</style>\n",
              "<table border=\"1\" class=\"dataframe\">\n",
              "  <thead>\n",
              "    <tr style=\"text-align: right;\">\n",
              "      <th></th>\n",
              "      <th>word</th>\n",
              "      <th>label</th>\n",
              "    </tr>\n",
              "  </thead>\n",
              "  <tbody>\n",
              "    <tr>\n",
              "      <th>0</th>\n",
              "      <td>pierre</td>\n",
              "      <td>NNP</td>\n",
              "    </tr>\n",
              "    <tr>\n",
              "      <th>1</th>\n",
              "      <td>vinken</td>\n",
              "      <td>NNP</td>\n",
              "    </tr>\n",
              "    <tr>\n",
              "      <th>3</th>\n",
              "      <td>61</td>\n",
              "      <td>CD</td>\n",
              "    </tr>\n",
              "    <tr>\n",
              "      <th>4</th>\n",
              "      <td>years</td>\n",
              "      <td>NNS</td>\n",
              "    </tr>\n",
              "    <tr>\n",
              "      <th>5</th>\n",
              "      <td>old</td>\n",
              "      <td>JJ</td>\n",
              "    </tr>\n",
              "    <tr>\n",
              "      <th>7</th>\n",
              "      <td>will</td>\n",
              "      <td>MD</td>\n",
              "    </tr>\n",
              "    <tr>\n",
              "      <th>8</th>\n",
              "      <td>join</td>\n",
              "      <td>VB</td>\n",
              "    </tr>\n",
              "    <tr>\n",
              "      <th>9</th>\n",
              "      <td>the</td>\n",
              "      <td>DT</td>\n",
              "    </tr>\n",
              "    <tr>\n",
              "      <th>10</th>\n",
              "      <td>board</td>\n",
              "      <td>NN</td>\n",
              "    </tr>\n",
              "    <tr>\n",
              "      <th>11</th>\n",
              "      <td>as</td>\n",
              "      <td>IN</td>\n",
              "    </tr>\n",
              "  </tbody>\n",
              "</table>\n",
              "</div>"
            ],
            "text/plain": [
              "      word label\n",
              "0   pierre   NNP\n",
              "1   vinken   NNP\n",
              "3       61    CD\n",
              "4    years   NNS\n",
              "5      old    JJ\n",
              "7     will    MD\n",
              "8     join    VB\n",
              "9      the    DT\n",
              "10   board    NN\n",
              "11      as    IN"
            ]
          },
          "execution_count": 46,
          "metadata": {},
          "output_type": "execute_result"
        }
      ],
      "source": [
        "dfc_train.head(10)"
      ]
    },
    {
      "cell_type": "markdown",
      "metadata": {
        "id": "6VsU_XpAi8CF"
      },
      "source": [
        "## Word embedding"
      ]
    },
    {
      "cell_type": "markdown",
      "metadata": {},
      "source": [
        "### Loading GloVe"
      ]
    },
    {
      "cell_type": "markdown",
      "metadata": {
        "id": "92d15Xzr4qAn"
      },
      "source": [
        "\n",
        "Loading pre-trained dense word embedding: Glove.\n",
        "\n",
        "\n",
        "\n",
        "\n"
      ]
    },
    {
      "cell_type": "code",
      "execution_count": 47,
      "metadata": {
        "id": "UZBrvzL8t6_U"
      },
      "outputs": [],
      "source": [
        "import gensim\n",
        "import gensim.downloader as gloader\n",
        "\n",
        "def load_embedding_model(model_type: str,\n",
        "                         embedding_dimension: int = 50) -> gensim.models.keyedvectors.KeyedVectors:\n",
        "    \"\"\"\n",
        "    Loads a pre-trained word embedding model via gensim library.\n",
        "\n",
        "    :param model_type: name of the word embedding model to load.\n",
        "    :param embedding_dimension: size of the embedding space to consider\n",
        "\n",
        "    :return\n",
        "        - pre-trained word embedding model (gensim KeyedVectors object)\n",
        "    \"\"\"\n",
        "    download_path = \"\"\n",
        "    if model_type.strip().lower() == 'word2vec':\n",
        "        download_path = \"word2vec-google-news-300\"\n",
        "\n",
        "    elif model_type.strip().lower() == 'glove':\n",
        "        download_path = \"glove-wiki-gigaword-{}\".format(embedding_dimension)\n",
        "    elif model_type.strip().lower() == 'fasttext':\n",
        "        download_path = \"fasttext-wiki-news-subwords-300\"\n",
        "    else:\n",
        "        raise AttributeError(\"Unsupported embedding model type! Available ones: word2vec, glove, fasttext\")\n",
        "        \n",
        "    try:\n",
        "        emb_model = gloader.load(download_path)\n",
        "    except ValueError as e:\n",
        "        print(\"Invalid embedding model name! Check the embedding dimension:\")\n",
        "        print(\"Word2Vec: 300\")\n",
        "        print(\"Glove: 50, 100, 200, 300\")\n",
        "        print('FastText: 300')\n",
        "        raise e\n",
        "\n",
        "    return emb_model"
      ]
    },
    {
      "cell_type": "code",
      "execution_count": 48,
      "metadata": {
        "colab": {
          "base_uri": "https://localhost:8080/"
        },
        "id": "2hPJ_neS5Vxd",
        "outputId": "71f63fae-8948-4d7b-82da-18c55d27ee6a"
      },
      "outputs": [],
      "source": [
        "# Modify these variables as you wish!\n",
        "# Glove -> 50, 100, 200, 300\n",
        "# Word2Vec -> 300\n",
        "# Fasttext -> 300\n",
        "embedding_model = load_embedding_model(model_type=\"glove\", embedding_dimension=50)"
      ]
    },
    {
      "cell_type": "markdown",
      "metadata": {},
      "source": [
        "### Analyzing OOV statistics"
      ]
    },
    {
      "cell_type": "code",
      "execution_count": 49,
      "metadata": {},
      "outputs": [
        {
          "data": {
            "text/plain": [
              "['the', ',', '.', 'of', 'to', 'and', 'in', 'a', '\"', \"'s\"]"
            ]
          },
          "execution_count": 49,
          "metadata": {},
          "output_type": "execute_result"
        }
      ],
      "source": [
        "embedding_model.index_to_key[0:10]"
      ]
    },
    {
      "cell_type": "code",
      "execution_count": 50,
      "metadata": {},
      "outputs": [
        {
          "data": {
            "text/plain": [
              "535"
            ]
          },
          "execution_count": 50,
          "metadata": {},
          "output_type": "execute_result"
        }
      ],
      "source": [
        "oov_train = list(set([word for word in dfc_train.word.values if word not in embedding_model.index_to_key]))\n",
        "oov_val = list(set([word for word in dfc_val.word.values if word not in embedding_model.index_to_key]))\n",
        "\n",
        "len(oov_train)"
      ]
    },
    {
      "cell_type": "code",
      "execution_count": 51,
      "metadata": {},
      "outputs": [
        {
          "data": {
            "text/plain": [
              "305"
            ]
          },
          "execution_count": 51,
          "metadata": {},
          "output_type": "execute_result"
        }
      ],
      "source": [
        "len(oov_val)"
      ]
    },
    {
      "cell_type": "code",
      "execution_count": 52,
      "metadata": {},
      "outputs": [
        {
          "data": {
            "text/plain": [
              "['18500',\n",
              " 'hardcharging',\n",
              " 'computerdriven',\n",
              " 'satrum',\n",
              " 'winebuying',\n",
              " 'danafarber',\n",
              " 'blackandwhite',\n",
              " 'dollardenominated',\n",
              " '30year',\n",
              " '3288453']"
            ]
          },
          "execution_count": 52,
          "metadata": {},
          "output_type": "execute_result"
        }
      ],
      "source": [
        "oov_train[0:10]"
      ]
    },
    {
      "cell_type": "markdown",
      "metadata": {
        "id": "d3NWFTMjmg78"
      },
      "source": [
        "### Embedding with GloVe"
      ]
    },
    {
      "cell_type": "markdown",
      "metadata": {},
      "source": [
        "#### Prepare the embedding matrix"
      ]
    },
    {
      "cell_type": "markdown",
      "metadata": {},
      "source": [
        "Definition of a tokenizer."
      ]
    },
    {
      "cell_type": "code",
      "execution_count": 53,
      "metadata": {
        "colab": {
          "base_uri": "https://localhost:8080/"
        },
        "id": "6pHoC5Xe3ETA",
        "outputId": "4ebce24b-9786-45b4-87c2-d8f5eb7d91a0"
      },
      "outputs": [
        {
          "name": "stdout",
          "output_type": "stream",
          "text": [
            "Number of unique words in dictionary= 7305\n",
            "Dictionary head:  {'<unk>': 1, 'the': 2, 'of': 3, 'a': 4, 'to': 5, 'in': 6, 'and': 7, 'for': 8, 's': 9, 'that': 10}\n"
          ]
        }
      ],
      "source": [
        "from tensorflow.keras.preprocessing.text import Tokenizer\n",
        "\n",
        "# define the tokenizer\n",
        "tokenizer = Tokenizer(oov_token='<unk>')\n",
        "text = dfc_train.word.values\n",
        "\n",
        "#fit the tokenizer on the training data\n",
        "tokenizer.fit_on_texts(text)\n",
        "\n",
        "# number of unique words in dict.\n",
        "print(\"Number of unique words in dictionary=\", len(tokenizer.word_index))\n",
        "print(\"Dictionary head: \", dict(list(tokenizer.word_index.items())[0:10]))\n",
        "with open('./word_index.json','w') as word_index_file:\n",
        "    word_index_file.write(tokenizer.to_json())"
      ]
    },
    {
      "cell_type": "markdown",
      "metadata": {
        "id": "zYWHS267ohxZ"
      },
      "source": [
        "Define the embedding matrix."
      ]
    },
    {
      "cell_type": "code",
      "execution_count": 54,
      "metadata": {
        "id": "xpBaqwkd5axM"
      },
      "outputs": [],
      "source": [
        "from tqdm import tqdm\n",
        "\n",
        "def build_embedding_matrix(embedding_model: gensim.models.keyedvectors.KeyedVectors,\n",
        "                           embedding_dimension: int,\n",
        "                           word_to_idx,\n",
        "                           vocab_size: int) -> np.ndarray:\n",
        "    \"\"\"\n",
        "    Builds the embedding matrix of a specific dataset given a pre-trained word embedding model\n",
        "\n",
        "    :param embedding_model: pre-trained word embedding model (gensim wrapper)\n",
        "    :param word_to_idx: vocabulary map (word -> index) (dict)\n",
        "    :param vocab_size: size of the vocabulary\n",
        "    \n",
        "\n",
        "    :return\n",
        "        - embedding matrix that assigns a high dimensional vector to each word in the dataset specific vocabulary (shape |V| x d)\n",
        "    \"\"\"\n",
        "    embedding_matrix = np.zeros((vocab_size, embedding_dimension), dtype=np.float32)\n",
        "    for word, idx in tqdm(tokenizer.word_index.items()):\n",
        "        try:\n",
        "            embedding_vector = embedding_model[word]\n",
        "        except (KeyError, TypeError):\n",
        "            #print(f\"Using random vector for '{word}'\")\n",
        "            embedding_vector = np.random.uniform(low=-0.05, high=0.05, size=embedding_dimension)\n",
        "\n",
        "        embedding_matrix[idx] = embedding_vector\n",
        "\n",
        "    return embedding_matrix"
      ]
    },
    {
      "cell_type": "code",
      "execution_count": 55,
      "metadata": {
        "colab": {
          "base_uri": "https://localhost:8080/"
        },
        "id": "nYYqz59Ilmem",
        "outputId": "f903e0f1-b966-4c00-820f-bc415a79e6ef"
      },
      "outputs": [
        {
          "name": "stderr",
          "output_type": "stream",
          "text": [
            "100%|██████████| 7305/7305 [00:00<00:00, 588653.04it/s]"
          ]
        },
        {
          "name": "stdout",
          "output_type": "stream",
          "text": [
            "Embedding matrix shape: (7306, 50)\n"
          ]
        },
        {
          "name": "stderr",
          "output_type": "stream",
          "text": [
            "\n"
          ]
        }
      ],
      "source": [
        "# Testing\n",
        "embedding_dimension = 50\n",
        "vocab_size = len(tokenizer.word_index) + 1\n",
        "embedding_matrix = build_embedding_matrix(embedding_model, embedding_dimension, tokenizer.word_index, vocab_size )\n",
        "print(f\"Embedding matrix shape: {embedding_matrix.shape}\")"
      ]
    },
    {
      "cell_type": "markdown",
      "metadata": {},
      "source": [
        "#### Encode the dataset"
      ]
    },
    {
      "cell_type": "markdown",
      "metadata": {
        "id": "BLiAw26WqhqF"
      },
      "source": [
        "Define a label encoder for the target class."
      ]
    },
    {
      "cell_type": "code",
      "execution_count": 56,
      "metadata": {
        "colab": {
          "base_uri": "https://localhost:8080/"
        },
        "id": "54XQt_rz6fgv",
        "outputId": "4b059258-a01b-4785-981c-e3664e5ae3e0"
      },
      "outputs": [
        {
          "name": "stderr",
          "output_type": "stream",
          "text": [
            "/tmp/ipykernel_28410/353797677.py:4: SettingWithCopyWarning: \n",
            "A value is trying to be set on a copy of a slice from a DataFrame.\n",
            "Try using .loc[row_indexer,col_indexer] = value instead\n",
            "\n",
            "See the caveats in the documentation: https://pandas.pydata.org/pandas-docs/stable/user_guide/indexing.html#returning-a-view-versus-a-copy\n",
            "  dfc_train['encoded_label'] = le.fit_transform(dfc_train['label'])\n",
            "/tmp/ipykernel_28410/353797677.py:5: SettingWithCopyWarning: \n",
            "A value is trying to be set on a copy of a slice from a DataFrame.\n",
            "Try using .loc[row_indexer,col_indexer] = value instead\n",
            "\n",
            "See the caveats in the documentation: https://pandas.pydata.org/pandas-docs/stable/user_guide/indexing.html#returning-a-view-versus-a-copy\n",
            "  dfc_val['encoded_label'] = le.transform(dfc_val['label'])\n",
            "/tmp/ipykernel_28410/353797677.py:6: SettingWithCopyWarning: \n",
            "A value is trying to be set on a copy of a slice from a DataFrame.\n",
            "Try using .loc[row_indexer,col_indexer] = value instead\n",
            "\n",
            "See the caveats in the documentation: https://pandas.pydata.org/pandas-docs/stable/user_guide/indexing.html#returning-a-view-versus-a-copy\n",
            "  dfc_test['encoded_label'] = le.transform(dfc_test['label'])\n"
          ]
        }
      ],
      "source": [
        "from sklearn.preprocessing import LabelEncoder, OneHotEncoder\n",
        "\n",
        "le = LabelEncoder()\n",
        "dfc_train['encoded_label'] = le.fit_transform(dfc_train['label'])\n",
        "dfc_val['encoded_label'] = le.transform(dfc_val['label'])\n",
        "dfc_test['encoded_label'] = le.transform(dfc_test['label'])"
      ]
    },
    {
      "cell_type": "code",
      "execution_count": 57,
      "metadata": {},
      "outputs": [
        {
          "data": {
            "text/html": [
              "<div>\n",
              "<style scoped>\n",
              "    .dataframe tbody tr th:only-of-type {\n",
              "        vertical-align: middle;\n",
              "    }\n",
              "\n",
              "    .dataframe tbody tr th {\n",
              "        vertical-align: top;\n",
              "    }\n",
              "\n",
              "    .dataframe thead th {\n",
              "        text-align: right;\n",
              "    }\n",
              "</style>\n",
              "<table border=\"1\" class=\"dataframe\">\n",
              "  <thead>\n",
              "    <tr style=\"text-align: right;\">\n",
              "      <th></th>\n",
              "      <th>word</th>\n",
              "      <th>label</th>\n",
              "      <th>encoded_label</th>\n",
              "    </tr>\n",
              "  </thead>\n",
              "  <tbody>\n",
              "    <tr>\n",
              "      <th>0</th>\n",
              "      <td>pierre</td>\n",
              "      <td>NNP</td>\n",
              "      <td>16</td>\n",
              "    </tr>\n",
              "    <tr>\n",
              "      <th>1</th>\n",
              "      <td>vinken</td>\n",
              "      <td>NNP</td>\n",
              "      <td>16</td>\n",
              "    </tr>\n",
              "    <tr>\n",
              "      <th>3</th>\n",
              "      <td>61</td>\n",
              "      <td>CD</td>\n",
              "      <td>5</td>\n",
              "    </tr>\n",
              "    <tr>\n",
              "      <th>4</th>\n",
              "      <td>years</td>\n",
              "      <td>NNS</td>\n",
              "      <td>18</td>\n",
              "    </tr>\n",
              "    <tr>\n",
              "      <th>5</th>\n",
              "      <td>old</td>\n",
              "      <td>JJ</td>\n",
              "      <td>10</td>\n",
              "    </tr>\n",
              "    <tr>\n",
              "      <th>7</th>\n",
              "      <td>will</td>\n",
              "      <td>MD</td>\n",
              "      <td>14</td>\n",
              "    </tr>\n",
              "    <tr>\n",
              "      <th>8</th>\n",
              "      <td>join</td>\n",
              "      <td>VB</td>\n",
              "      <td>29</td>\n",
              "    </tr>\n",
              "    <tr>\n",
              "      <th>9</th>\n",
              "      <td>the</td>\n",
              "      <td>DT</td>\n",
              "      <td>6</td>\n",
              "    </tr>\n",
              "    <tr>\n",
              "      <th>10</th>\n",
              "      <td>board</td>\n",
              "      <td>NN</td>\n",
              "      <td>15</td>\n",
              "    </tr>\n",
              "    <tr>\n",
              "      <th>11</th>\n",
              "      <td>as</td>\n",
              "      <td>IN</td>\n",
              "      <td>9</td>\n",
              "    </tr>\n",
              "  </tbody>\n",
              "</table>\n",
              "</div>"
            ],
            "text/plain": [
              "      word label  encoded_label\n",
              "0   pierre   NNP             16\n",
              "1   vinken   NNP             16\n",
              "3       61    CD              5\n",
              "4    years   NNS             18\n",
              "5      old    JJ             10\n",
              "7     will    MD             14\n",
              "8     join    VB             29\n",
              "9      the    DT              6\n",
              "10   board    NN             15\n",
              "11      as    IN              9"
            ]
          },
          "execution_count": 57,
          "metadata": {},
          "output_type": "execute_result"
        }
      ],
      "source": [
        "dfc_train.head(10)"
      ]
    },
    {
      "cell_type": "markdown",
      "metadata": {
        "id": "yS7M36zPrBip"
      },
      "source": [
        "Transform the text into a sequence of integers using the tokenizer defined before. "
      ]
    },
    {
      "cell_type": "code",
      "execution_count": 58,
      "metadata": {
        "colab": {
          "base_uri": "https://localhost:8080/"
        },
        "id": "72n2_dZHDprc",
        "outputId": "e3dc1b5a-118f-49b5-90c0-a2df09fd6b39"
      },
      "outputs": [
        {
          "data": {
            "text/plain": [
              "39"
            ]
          },
          "execution_count": 58,
          "metadata": {},
          "output_type": "execute_result"
        }
      ],
      "source": [
        "x_train = np.array(tokenizer.texts_to_sequences(dfc_train.word.values)) \n",
        "y_train =np.array( dfc_train['encoded_label'])\n",
        "\n",
        "x_val = np.array(tokenizer.texts_to_sequences(dfc_val.word.values))\n",
        "y_val = np.array(dfc_val['encoded_label'])\n",
        "\n",
        "x_test = np.array(tokenizer.texts_to_sequences(dfc_test.word.values))\n",
        "y_test = np.array(dfc_test['encoded_label'])\n",
        "\n",
        "#number of unique labels\n",
        "num_classes = len(np.unique(y_train))\n",
        "num_classes\n"
      ]
    },
    {
      "cell_type": "code",
      "execution_count": 59,
      "metadata": {},
      "outputs": [
        {
          "data": {
            "text/plain": [
              "7306"
            ]
          },
          "execution_count": 59,
          "metadata": {},
          "output_type": "execute_result"
        }
      ],
      "source": [
        "\n",
        "vocab_size = len(tokenizer.word_index) + 1\n",
        "vocab_size"
      ]
    },
    {
      "cell_type": "markdown",
      "metadata": {
        "id": "51RMHWA0r2ep"
      },
      "source": [
        "Pad the sequences to make them of same length before passing them to the model."
      ]
    },
    {
      "cell_type": "code",
      "execution_count": 60,
      "metadata": {
        "colab": {
          "base_uri": "https://localhost:8080/"
        },
        "id": "Lzxixj0QExD7",
        "outputId": "62a7a7c7-c423-4644-ee7e-ef3afa1c611b"
      },
      "outputs": [
        {
          "name": "stdout",
          "output_type": "stream",
          "text": [
            "X train shape: (41149, 1)\n",
            "Y train shape: (41149,)\n",
            "type:<class 'numpy.ndarray'>\n",
            "X val shape: (27263, 1)\n",
            "Y val shape: (27263,)\n",
            "type:<class 'numpy.ndarray'>\n",
            "X test shape: (13614, 1) (13614, 1)\n",
            "Y test shape: (13614,) (13614,)\n"
          ]
        }
      ],
      "source": [
        "from tensorflow.keras.preprocessing.sequence import pad_sequences\n",
        "\n",
        "x_train = pad_sequences(x_train, maxlen=1, padding='post')\n",
        "x_val = pad_sequences(x_val, maxlen=1, padding='post')\n",
        "x_test = pad_sequences(x_test, maxlen=1, padding='post')\n",
        "\n",
        "#Train\n",
        "print(f'X train shape: {x_train.shape}')\n",
        "print(f'Y train shape: {y_train.shape}')\n",
        "print(f'type:{type(x_train)}')\n",
        "\n",
        "# Val\n",
        "print(f'X val shape: {x_val.shape}')\n",
        "print(f'Y val shape: {y_val.shape}')\n",
        "print(f'type:{type(y_train)}')\n",
        "# Test\n",
        "\n",
        "print(f'X test shape: {x_test.shape}', x_test.shape)\n",
        "print(f'Y test shape: {y_test.shape}', y_test.shape)"
      ]
    },
    {
      "cell_type": "markdown",
      "metadata": {
        "id": "7FTlmNoGi8CF"
      },
      "source": [
        "## Baseline model: LSTM"
      ]
    },
    {
      "cell_type": "markdown",
      "metadata": {
        "id": "LCcVYGrNsQ-x"
      },
      "source": [
        "### Define the model"
      ]
    },
    {
      "cell_type": "code",
      "execution_count": 165,
      "metadata": {
        "colab": {
          "base_uri": "https://localhost:8080/"
        },
        "id": "RyfvHkUZ1wEU",
        "outputId": "7e2436e3-0ae3-40a7-e3c1-e6fa873572a6"
      },
      "outputs": [
        {
          "name": "stdout",
          "output_type": "stream",
          "text": [
            "Model: \"sequential_3\"\n",
            "_________________________________________________________________\n",
            " Layer (type)                Output Shape              Param #   \n",
            "=================================================================\n",
            " embedding_3 (Embedding)     (None, 1, 50)             365300    \n",
            "                                                                 \n",
            " bidirectional_3 (Bidirectio  (None, 64)               21248     \n",
            " nal)                                                            \n",
            "                                                                 \n",
            " dense_3 (Dense)             (None, 39)                2535      \n",
            "                                                                 \n",
            "=================================================================\n",
            "Total params: 389,083\n",
            "Trainable params: 23,783\n",
            "Non-trainable params: 365,300\n",
            "_________________________________________________________________\n"
          ]
        }
      ],
      "source": [
        "from tensorflow.keras.models import Sequential\n",
        "from tensorflow.keras.layers import Embedding, Dense, LSTM, Bidirectional \n",
        "\n",
        "model = Sequential()\n",
        "embedding_layer = Embedding(input_dim = vocab_size,output_dim= embedding_dimension,input_length=1, weights = [embedding_matrix], trainable = False)\n",
        "model.add(embedding_layer)\n",
        "model.add(Bidirectional(LSTM(32)))\n",
        "model.add(Dense(num_classes,activation='softmax'))\n",
        "\n",
        "model.summary()"
      ]
    },
    {
      "cell_type": "code",
      "execution_count": 166,
      "metadata": {
        "id": "nUVoMtiPNRMK"
      },
      "outputs": [],
      "source": [
        "model.compile(loss='sparse_categorical_crossentropy', optimizer='Adam', metrics=['accuracy'])"
      ]
    },
    {
      "cell_type": "code",
      "execution_count": 167,
      "metadata": {
        "colab": {
          "base_uri": "https://localhost:8080/"
        },
        "id": "ZY8zv1dvQM3A",
        "outputId": "d171377c-8771-4877-ea6d-0e4375c8260f"
      },
      "outputs": [
        {
          "name": "stdout",
          "output_type": "stream",
          "text": [
            "Epoch 1/30\n",
            "643/643 [==============================] - 14s 18ms/step - loss: 1.8531 - accuracy: 0.5256 - val_loss: 1.3400 - val_accuracy: 0.6297\n",
            "Epoch 2/30\n",
            "643/643 [==============================] - 11s 18ms/step - loss: 1.0386 - accuracy: 0.7091 - val_loss: 1.0902 - val_accuracy: 0.6732\n",
            "Epoch 3/30\n",
            "643/643 [==============================] - 12s 18ms/step - loss: 0.8583 - accuracy: 0.7520 - val_loss: 0.9844 - val_accuracy: 0.7097\n",
            "Epoch 4/30\n",
            "643/643 [==============================] - 12s 18ms/step - loss: 0.7617 - accuracy: 0.7795 - val_loss: 0.9287 - val_accuracy: 0.7240\n",
            "Epoch 5/30\n",
            "643/643 [==============================] - 12s 19ms/step - loss: 0.6963 - accuracy: 0.7957 - val_loss: 0.8875 - val_accuracy: 0.7352\n",
            "Epoch 6/30\n",
            "643/643 [==============================] - 12s 19ms/step - loss: 0.6476 - accuracy: 0.8091 - val_loss: 0.8630 - val_accuracy: 0.7423\n",
            "Epoch 7/30\n",
            "643/643 [==============================] - 13s 20ms/step - loss: 0.6095 - accuracy: 0.8187 - val_loss: 0.8438 - val_accuracy: 0.7401\n",
            "Epoch 8/30\n",
            "643/643 [==============================] - 12s 18ms/step - loss: 0.5787 - accuracy: 0.8285 - val_loss: 0.8312 - val_accuracy: 0.7455\n",
            "Epoch 9/30\n",
            "643/643 [==============================] - 12s 19ms/step - loss: 0.5531 - accuracy: 0.8357 - val_loss: 0.8239 - val_accuracy: 0.7470\n",
            "Epoch 10/30\n",
            "643/643 [==============================] - 13s 20ms/step - loss: 0.5315 - accuracy: 0.8388 - val_loss: 0.8173 - val_accuracy: 0.7562\n",
            "Epoch 11/30\n",
            "643/643 [==============================] - 12s 19ms/step - loss: 0.5124 - accuracy: 0.8459 - val_loss: 0.8114 - val_accuracy: 0.7570\n",
            "Epoch 12/30\n",
            "643/643 [==============================] - 11s 17ms/step - loss: 0.4959 - accuracy: 0.8505 - val_loss: 0.8036 - val_accuracy: 0.7616\n",
            "Epoch 13/30\n",
            "643/643 [==============================] - 11s 17ms/step - loss: 0.4819 - accuracy: 0.8541 - val_loss: 0.8013 - val_accuracy: 0.7633\n",
            "Epoch 14/30\n",
            "643/643 [==============================] - 11s 18ms/step - loss: 0.4685 - accuracy: 0.8589 - val_loss: 0.7965 - val_accuracy: 0.7629\n",
            "Epoch 15/30\n",
            "643/643 [==============================] - 11s 18ms/step - loss: 0.4568 - accuracy: 0.8618 - val_loss: 0.7903 - val_accuracy: 0.7685\n",
            "Epoch 16/30\n",
            "643/643 [==============================] - 11s 17ms/step - loss: 0.4458 - accuracy: 0.8647 - val_loss: 0.7860 - val_accuracy: 0.7659\n",
            "Epoch 17/30\n",
            "643/643 [==============================] - 10s 16ms/step - loss: 0.4361 - accuracy: 0.8669 - val_loss: 0.7865 - val_accuracy: 0.7722\n",
            "Epoch 18/30\n",
            "643/643 [==============================] - 11s 17ms/step - loss: 0.4268 - accuracy: 0.8695 - val_loss: 0.7805 - val_accuracy: 0.7741\n",
            "Epoch 19/30\n",
            "643/643 [==============================] - 12s 19ms/step - loss: 0.4179 - accuracy: 0.8718 - val_loss: 0.7818 - val_accuracy: 0.7754\n",
            "Epoch 20/30\n",
            "643/643 [==============================] - 12s 19ms/step - loss: 0.4106 - accuracy: 0.8723 - val_loss: 0.7763 - val_accuracy: 0.7771\n",
            "Epoch 21/30\n",
            "643/643 [==============================] - 12s 19ms/step - loss: 0.4035 - accuracy: 0.8740 - val_loss: 0.7668 - val_accuracy: 0.7799\n",
            "Epoch 22/30\n",
            "643/643 [==============================] - 12s 19ms/step - loss: 0.3967 - accuracy: 0.8767 - val_loss: 0.7654 - val_accuracy: 0.7810\n",
            "Epoch 23/30\n",
            "643/643 [==============================] - 12s 19ms/step - loss: 0.3900 - accuracy: 0.8776 - val_loss: 0.7598 - val_accuracy: 0.7799\n",
            "Epoch 24/30\n",
            "643/643 [==============================] - 12s 19ms/step - loss: 0.3848 - accuracy: 0.8797 - val_loss: 0.7593 - val_accuracy: 0.7750\n",
            "Epoch 25/30\n",
            "643/643 [==============================] - 12s 19ms/step - loss: 0.3791 - accuracy: 0.8800 - val_loss: 0.7570 - val_accuracy: 0.7808\n",
            "Epoch 26/30\n",
            "643/643 [==============================] - 12s 19ms/step - loss: 0.3740 - accuracy: 0.8814 - val_loss: 0.7525 - val_accuracy: 0.7809\n",
            "Epoch 27/30\n",
            "643/643 [==============================] - 12s 19ms/step - loss: 0.3689 - accuracy: 0.8837 - val_loss: 0.7627 - val_accuracy: 0.7820\n",
            "Epoch 28/30\n",
            "643/643 [==============================] - 12s 19ms/step - loss: 0.3646 - accuracy: 0.8852 - val_loss: 0.7540 - val_accuracy: 0.7844\n",
            "Epoch 29/30\n",
            "643/643 [==============================] - 12s 19ms/step - loss: 0.3602 - accuracy: 0.8854 - val_loss: 0.7513 - val_accuracy: 0.7822\n",
            "Epoch 30/30\n",
            "643/643 [==============================] - 12s 19ms/step - loss: 0.3553 - accuracy: 0.8858 - val_loss: 0.7547 - val_accuracy: 0.7831\n"
          ]
        }
      ],
      "source": [
        "# fit model\n",
        "history = model.fit(x_train, y_train, validation_data=(x_val, y_val), batch_size = 64, epochs=30)"
      ]
    },
    {
      "cell_type": "code",
      "execution_count": 168,
      "metadata": {},
      "outputs": [
        {
          "data": {
            "image/png": "[encoded data removed]",
            "text/plain": [
              "<Figure size 800x800 with 2 Axes>"
            ]
          },
          "metadata": {},
          "output_type": "display_data"
        }
      ],
      "source": [
        "plt.figure(figsize=(8,8))\n",
        "\n",
        "plt.subplot(211)\n",
        "plt.grid(True)\n",
        "plt.title('Loss')\n",
        "plt.plot(history.history['loss'], label='train')\n",
        "plt.plot(history.history['val_loss'], label='val')\n",
        "plt.legend()\n",
        "\n",
        "\n",
        "plt.subplot(212)\n",
        "plt.grid(True)\n",
        "plt.title('Accuracy')\n",
        "plt.plot(history.history['accuracy'], label='train')\n",
        "plt.plot(history.history['val_accuracy'], label='val')\n",
        "plt.legend()\n",
        "\n",
        "plt.show()"
      ]
    },
    {
      "cell_type": "code",
      "execution_count": 169,
      "metadata": {
        "colab": {
          "base_uri": "https://localhost:8080/"
        },
        "id": "9g-5DG6nQ2UP",
        "outputId": "ddef3a49-aa4f-4a29-ab58-cd2fdf36a140"
      },
      "outputs": [
        {
          "name": "stdout",
          "output_type": "stream",
          "text": [
            "852/852 [==============================] - 7s 9ms/step - loss: 0.7547 - accuracy: 0.7831\n"
          ]
        },
        {
          "data": {
            "text/plain": [
              "[0.7547488212585449, 0.7831493020057678]"
            ]
          },
          "execution_count": 169,
          "metadata": {},
          "output_type": "execute_result"
        }
      ],
      "source": [
        "model.evaluate(x_val, y_val)"
      ]
    },
    {
      "cell_type": "markdown",
      "metadata": {},
      "source": [
        "### F1-Macro evaluation"
      ]
    },
    {
      "cell_type": "code",
      "execution_count": 170,
      "metadata": {},
      "outputs": [
        {
          "data": {
            "text/plain": [
              "(27263,)"
            ]
          },
          "execution_count": 170,
          "metadata": {},
          "output_type": "execute_result"
        }
      ],
      "source": [
        "y_val.shape"
      ]
    },
    {
      "cell_type": "code",
      "execution_count": 171,
      "metadata": {},
      "outputs": [
        {
          "data": {
            "text/plain": [
              "(27263, 39)"
            ]
          },
          "execution_count": 171,
          "metadata": {},
          "output_type": "execute_result"
        }
      ],
      "source": [
        "onehot = OneHotEncoder(sparse=False)\n",
        "onehot.fit(y_train.reshape(-1,1))\n",
        "y_val_onehot = onehot.transform(y_val.reshape(-1,1))\n",
        "y_val_onehot.shape"
      ]
    },
    {
      "cell_type": "code",
      "execution_count": 172,
      "metadata": {},
      "outputs": [
        {
          "name": "stdout",
          "output_type": "stream",
          "text": [
            "852/852 [==============================] - 6s 6ms/step\n"
          ]
        },
        {
          "data": {
            "text/plain": [
              "(27263, 39)"
            ]
          },
          "execution_count": 172,
          "metadata": {},
          "output_type": "execute_result"
        }
      ],
      "source": [
        "y_pred_val = model.predict(x_val)\n",
        "y_pred_val.shape"
      ]
    },
    {
      "cell_type": "code",
      "execution_count": 173,
      "metadata": {},
      "outputs": [
        {
          "data": {
            "text/plain": [
              "<tf.Tensor: shape=(), dtype=float32, numpy=0.65921056>"
            ]
          },
          "execution_count": 173,
          "metadata": {},
          "output_type": "execute_result"
        }
      ],
      "source": [
        "# https://www.tensorflow.org/addons/api_docs/python/tfa/metrics/F1Score\n",
        "f1_macro = tfa.metrics.F1Score(average=\"macro\", num_classes=num_classes, threshold=0.5)\n",
        "f1_macro.update_state(y_val_onehot, y_pred_val)\n",
        "f1_macro.result()"
      ]
    },
    {
      "cell_type": "markdown",
      "metadata": {
        "id": "Jjm_29f4i8CG"
      },
      "source": [
        "## Model A: GRU"
      ]
    },
    {
      "cell_type": "markdown",
      "metadata": {},
      "source": [
        "GRU is a simpler alternative to LSTM's architecture, less effective but with a faster train.\n",
        "</br>Two layers architecture: a Bidirectional GRU layer and a Dense/FC layer on top. "
      ]
    },
    {
      "cell_type": "code",
      "execution_count": 62,
      "metadata": {},
      "outputs": [
        {
          "name": "stdout",
          "output_type": "stream",
          "text": [
            "Model: \"sequential_1\"\n",
            "_________________________________________________________________\n",
            " Layer (type)                Output Shape              Param #   \n",
            "=================================================================\n",
            " embedding_1 (Embedding)     (None, 1, 50)             365300    \n",
            "                                                                 \n",
            " bidirectional_1 (Bidirectio  (None, 64)               16128     \n",
            " nal)                                                            \n",
            "                                                                 \n",
            " dense_1 (Dense)             (None, 39)                2535      \n",
            "                                                                 \n",
            "=================================================================\n",
            "Total params: 383,963\n",
            "Trainable params: 18,663\n",
            "Non-trainable params: 365,300\n",
            "_________________________________________________________________\n"
          ]
        }
      ],
      "source": [
        "from tensorflow.keras.models import Sequential\n",
        "from tensorflow.keras.layers import Embedding, Dense, GRU, Bidirectional\n",
        "\n",
        "gru_model = Sequential()\n",
        "embedding_layer = Embedding(input_dim = vocab_size, \n",
        "                            output_dim = embedding_dimension, \n",
        "                            input_length = 1,\n",
        "                            weights = [embedding_matrix],\n",
        "                            trainable = False)\n",
        "\n",
        "gru_model.add(embedding_layer)\n",
        "gru_model.add(Bidirectional(GRU(32)))\n",
        "gru_model.add(Dense(num_classes, activation='softmax'))\n",
        "\n",
        "gru_model.summary()"
      ]
    },
    {
      "cell_type": "code",
      "execution_count": 63,
      "metadata": {
        "id": "KI1FJxVHi8CG"
      },
      "outputs": [],
      "source": [
        "## From Tutorial 2\n",
        "## A simple plot function, could be used in any model to avoid redundancy\n",
        "\n",
        "import matplotlib.pyplot as plt\n",
        "from sklearn.metrics import f1_score, accuracy_score\n",
        "from functools import partial\n",
        "import random\n",
        "from keras.callbacks import History\n",
        "\n",
        "def show_history(history: History):\n",
        "    \"\"\"\n",
        "    Shows training history data stored by the History Keras callback\n",
        "\n",
        "    :param history: History Keras callback\n",
        "    \"\"\"\n",
        "    history_data = history.history\n",
        "    print(f\"Displaying the following history keys: {history_data.keys()}\")\n",
        "\n",
        "    for key, value in history_data.items():\n",
        "        if not key.startswith('val'):\n",
        "            fig, ax = plt.subplots(1, 1)\n",
        "            ax.set_title(key)\n",
        "            ax.plot(value)\n",
        "            if f'val_{key}' in history_data:\n",
        "                ax.plot(history_data[f'val_{key}'])\n",
        "            else:\n",
        "                print(f\"Couldn't find validation values for metric: {key}\")\n",
        "\n",
        "            ax.set_ylabel(key)\n",
        "            ax.set_xlabel('epoch')\n",
        "            ax.legend(['train', 'val'], loc='best')\n",
        "    plt.show()"
      ]
    },
    {
      "cell_type": "code",
      "execution_count": 64,
      "metadata": {},
      "outputs": [],
      "source": [
        "from keras.optimizers import Adam\n",
        "from keras.metrics import SparseCategoricalAccuracy\n",
        "\n",
        "gru_model.compile(optimizer=Adam(learning_rate=1e-3), \n",
        "                loss='sparse_categorical_crossentropy',\n",
        "                metrics=[SparseCategoricalAccuracy()])"
      ]
    },
    {
      "cell_type": "code",
      "execution_count": 65,
      "metadata": {},
      "outputs": [
        {
          "name": "stdout",
          "output_type": "stream",
          "text": [
            "Epoch 1/30\n",
            "643/643 [==============================] - 3s 2ms/step - loss: 1.7098 - sparse_categorical_accuracy: 0.5463 - val_loss: 1.2780 - val_sparse_categorical_accuracy: 0.6337\n",
            "Epoch 2/30\n",
            "643/643 [==============================] - 1s 2ms/step - loss: 1.0048 - sparse_categorical_accuracy: 0.7085 - val_loss: 1.1033 - val_sparse_categorical_accuracy: 0.6712\n",
            "Epoch 3/30\n",
            "643/643 [==============================] - 1s 2ms/step - loss: 0.8509 - sparse_categorical_accuracy: 0.7487 - val_loss: 1.0230 - val_sparse_categorical_accuracy: 0.7012\n",
            "Epoch 4/30\n",
            "643/643 [==============================] - 1s 2ms/step - loss: 0.7606 - sparse_categorical_accuracy: 0.7766 - val_loss: 0.9652 - val_sparse_categorical_accuracy: 0.7291\n",
            "Epoch 5/30\n",
            "643/643 [==============================] - 1s 2ms/step - loss: 0.6972 - sparse_categorical_accuracy: 0.7948 - val_loss: 0.9276 - val_sparse_categorical_accuracy: 0.7238\n",
            "Epoch 6/30\n",
            "643/643 [==============================] - 1s 2ms/step - loss: 0.6490 - sparse_categorical_accuracy: 0.8082 - val_loss: 0.9004 - val_sparse_categorical_accuracy: 0.7340\n",
            "Epoch 7/30\n",
            "643/643 [==============================] - 1s 2ms/step - loss: 0.6120 - sparse_categorical_accuracy: 0.8169 - val_loss: 0.8802 - val_sparse_categorical_accuracy: 0.7394\n",
            "Epoch 8/30\n",
            "643/643 [==============================] - 1s 2ms/step - loss: 0.5817 - sparse_categorical_accuracy: 0.8264 - val_loss: 0.8653 - val_sparse_categorical_accuracy: 0.7465\n",
            "Epoch 9/30\n",
            "643/643 [==============================] - 1s 2ms/step - loss: 0.5574 - sparse_categorical_accuracy: 0.8329 - val_loss: 0.8436 - val_sparse_categorical_accuracy: 0.7496\n",
            "Epoch 10/30\n",
            "643/643 [==============================] - 1s 2ms/step - loss: 0.5365 - sparse_categorical_accuracy: 0.8397 - val_loss: 0.8356 - val_sparse_categorical_accuracy: 0.7535\n",
            "Epoch 11/30\n",
            "643/643 [==============================] - 1s 2ms/step - loss: 0.5189 - sparse_categorical_accuracy: 0.8436 - val_loss: 0.8251 - val_sparse_categorical_accuracy: 0.7575\n",
            "Epoch 12/30\n",
            "643/643 [==============================] - 1s 2ms/step - loss: 0.5029 - sparse_categorical_accuracy: 0.8471 - val_loss: 0.8203 - val_sparse_categorical_accuracy: 0.7588\n",
            "Epoch 13/30\n",
            "643/643 [==============================] - 1s 2ms/step - loss: 0.4889 - sparse_categorical_accuracy: 0.8524 - val_loss: 0.8061 - val_sparse_categorical_accuracy: 0.7602\n",
            "Epoch 14/30\n",
            "643/643 [==============================] - 1s 2ms/step - loss: 0.4773 - sparse_categorical_accuracy: 0.8542 - val_loss: 0.8073 - val_sparse_categorical_accuracy: 0.7635\n",
            "Epoch 15/30\n",
            "643/643 [==============================] - 1s 2ms/step - loss: 0.4662 - sparse_categorical_accuracy: 0.8578 - val_loss: 0.7948 - val_sparse_categorical_accuracy: 0.7671\n",
            "Epoch 16/30\n",
            "643/643 [==============================] - 1s 2ms/step - loss: 0.4564 - sparse_categorical_accuracy: 0.8603 - val_loss: 0.7898 - val_sparse_categorical_accuracy: 0.7696\n",
            "Epoch 17/30\n",
            "643/643 [==============================] - 1s 2ms/step - loss: 0.4475 - sparse_categorical_accuracy: 0.8617 - val_loss: 0.7891 - val_sparse_categorical_accuracy: 0.7693\n",
            "Epoch 18/30\n",
            "643/643 [==============================] - 1s 2ms/step - loss: 0.4394 - sparse_categorical_accuracy: 0.8635 - val_loss: 0.7908 - val_sparse_categorical_accuracy: 0.7721\n",
            "Epoch 19/30\n",
            "643/643 [==============================] - 1s 2ms/step - loss: 0.4319 - sparse_categorical_accuracy: 0.8651 - val_loss: 0.7875 - val_sparse_categorical_accuracy: 0.7739\n",
            "Epoch 20/30\n",
            "643/643 [==============================] - 1s 2ms/step - loss: 0.4251 - sparse_categorical_accuracy: 0.8685 - val_loss: 0.7731 - val_sparse_categorical_accuracy: 0.7735\n",
            "Epoch 21/30\n",
            "643/643 [==============================] - 1s 2ms/step - loss: 0.4188 - sparse_categorical_accuracy: 0.8700 - val_loss: 0.7656 - val_sparse_categorical_accuracy: 0.7749\n",
            "Epoch 22/30\n",
            "643/643 [==============================] - 1s 2ms/step - loss: 0.4129 - sparse_categorical_accuracy: 0.8718 - val_loss: 0.7718 - val_sparse_categorical_accuracy: 0.7749\n",
            "Epoch 23/30\n",
            "643/643 [==============================] - 1s 2ms/step - loss: 0.4074 - sparse_categorical_accuracy: 0.8719 - val_loss: 0.7664 - val_sparse_categorical_accuracy: 0.7759\n",
            "Epoch 24/30\n",
            "643/643 [==============================] - 1s 2ms/step - loss: 0.4016 - sparse_categorical_accuracy: 0.8750 - val_loss: 0.7651 - val_sparse_categorical_accuracy: 0.7773\n",
            "Epoch 25/30\n",
            "643/643 [==============================] - 1s 2ms/step - loss: 0.3966 - sparse_categorical_accuracy: 0.8745 - val_loss: 0.7587 - val_sparse_categorical_accuracy: 0.7781\n",
            "Epoch 26/30\n",
            "643/643 [==============================] - 1s 2ms/step - loss: 0.3923 - sparse_categorical_accuracy: 0.8761 - val_loss: 0.7554 - val_sparse_categorical_accuracy: 0.7768\n",
            "Epoch 27/30\n",
            "643/643 [==============================] - 1s 2ms/step - loss: 0.3875 - sparse_categorical_accuracy: 0.8773 - val_loss: 0.7600 - val_sparse_categorical_accuracy: 0.7779\n",
            "Epoch 28/30\n",
            "643/643 [==============================] - 1s 2ms/step - loss: 0.3835 - sparse_categorical_accuracy: 0.8792 - val_loss: 0.7616 - val_sparse_categorical_accuracy: 0.7781\n",
            "Epoch 29/30\n",
            "643/643 [==============================] - 1s 2ms/step - loss: 0.3791 - sparse_categorical_accuracy: 0.8792 - val_loss: 0.7576 - val_sparse_categorical_accuracy: 0.7774\n",
            "Epoch 30/30\n",
            "643/643 [==============================] - 1s 2ms/step - loss: 0.3755 - sparse_categorical_accuracy: 0.8808 - val_loss: 0.7482 - val_sparse_categorical_accuracy: 0.7804\n"
          ]
        }
      ],
      "source": [
        "history = gru_model.fit(x=x_train, y=y_train, \n",
        "                        validation_data=(x_val,y_val),\n",
        "                        verbose=1,\n",
        "                        epochs=30,\n",
        "                        batch_size=64)"
      ]
    },
    {
      "cell_type": "code",
      "execution_count": 66,
      "metadata": {},
      "outputs": [
        {
          "name": "stdout",
          "output_type": "stream",
          "text": [
            "Displaying the following history keys: dict_keys(['loss', 'sparse_categorical_accuracy', 'val_loss', 'val_sparse_categorical_accuracy'])\n"
          ]
        },
        {
          "data": {
            "image/png": "[encoded data removed]",
            "text/plain": [
              "<Figure size 640x480 with 1 Axes>"
            ]
          },
          "metadata": {},
          "output_type": "display_data"
        },
        {
          "data": {
            "image/png": "[encoded data removed]",
            "text/plain": [
              "<Figure size 640x480 with 1 Axes>"
            ]
          },
          "metadata": {},
          "output_type": "display_data"
        }
      ],
      "source": [
        "show_history(history)"
      ]
    },
    {
      "cell_type": "markdown",
      "metadata": {
        "id": "6bM9ZWFAi8CG"
      },
      "source": [
        "## Model B: 2x LSTM "
      ]
    },
    {
      "cell_type": "code",
      "execution_count": null,
      "metadata": {
        "id": "hVqg81vai8CG"
      },
      "outputs": [],
      "source": []
    },
    {
      "cell_type": "markdown",
      "metadata": {
        "id": "5hgT909Mi8CG"
      },
      "source": [
        "## Model C: LSTM + Dense"
      ]
    },
    {
      "cell_type": "code",
      "execution_count": null,
      "metadata": {
        "id": "5P-NSPmwi8CG"
      },
      "outputs": [],
      "source": []
    },
    {
      "cell_type": "markdown",
      "metadata": {
        "id": "tTwH3Iz5i8CG"
      },
      "source": [
        "## Conclusions"
      ]
    },
    {
      "cell_type": "code",
      "execution_count": null,
      "metadata": {
        "id": "g8vray3yi8CH"
      },
      "outputs": [],
      "source": []
    }
  ],
  "metadata": {
    "colab": {
      "include_colab_link": true,
      "provenance": []
    },
    "kernelspec": {
      "display_name": "Python 3.10.6 ('nlp')",
      "language": "python",
      "name": "python3"
    },
    "language_info": {
      "codemirror_mode": {
        "name": "ipython",
        "version": 3
      },
      "file_extension": ".py",
      "mimetype": "text/x-python",
      "name": "python",
      "nbconvert_exporter": "python",
      "pygments_lexer": "ipython3",
      "version": "3.10.6"
    },
    "orig_nbformat": 4,
    "vscode": {
      "interpreter": {
        "hash": "ac2097c9956c71ece6513891a44ec379870da936d752186d897fe65816a9e153"
      }
    }
  },
  "nbformat": 4,
  "nbformat_minor": 0
}
