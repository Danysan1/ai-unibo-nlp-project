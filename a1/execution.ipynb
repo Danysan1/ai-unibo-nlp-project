{
  "cells": [
    {
      "cell_type": "markdown",
      "metadata": {
        "id": "iKel9Y42484v"
      },
      "source": [
        "<a href=\"https://colab.research.google.com/github/Danysan1/ai-unibo-nlp-project/blob/main/a1/execution.ipynb\" target=\"_parent\"><img src=\"https://colab.research.google.com/assets/colab-badge.svg\" alt=\"Open In Colab\"/></a>"
      ]
    },
    {
      "cell_type": "markdown",
      "metadata": {
        "id": "TzCABY1Qi8Bv"
      },
      "source": [
        "# Assigment 1 execution"
      ]
    },
    {
      "cell_type": "markdown",
      "metadata": {
        "id": "kNE248Nhi8B0"
      },
      "source": [
        "Corpora: https://www.nltk.org/nltk_data/ , point 91, \"Dependency Parsed Treebank\" ([link](https://raw.githubusercontent.com/nltk/nltk_data/gh-pages/packages/corpora/dependency_treebank.zip)).\n",
        "\n",
        "Docs:\n",
        "* https://www.nltk.org/api/nltk.corpus.html\n",
        "* https://www.nltk.org/data.html\n",
        "* https://www.nltk.org/install.html\n",
        "\n",
        "## Preparing the environment"
      ]
    },
    {
      "cell_type": "code",
      "execution_count": 1,
      "metadata": {
        "colab": {
          "base_uri": "https://localhost:8080/"
        },
        "id": "SJOEUxxoi8B1",
        "outputId": "897df123-6fae-4abe-8e9a-a645b070224e"
      },
      "outputs": [
        {
          "output_type": "stream",
          "name": "stdout",
          "text": [
            "Looking in indexes: https://pypi.org/simple, https://us-python.pkg.dev/colab-wheels/public/simple/\n",
            "Requirement already satisfied: pandas in /usr/local/lib/python3.8/dist-packages (1.3.5)\n",
            "Requirement already satisfied: numpy in /usr/local/lib/python3.8/dist-packages (1.21.6)\n",
            "Requirement already satisfied: matplotlib in /usr/local/lib/python3.8/dist-packages (3.2.2)\n",
            "Collecting gensim==4.2.0\n",
            "  Downloading gensim-4.2.0-cp38-cp38-manylinux_2_12_x86_64.manylinux2010_x86_64.whl (24.1 MB)\n",
            "\u001b[K     |████████████████████████████████| 24.1 MB 118.1 MB/s \n",
            "\u001b[?25hCollecting tensorflow-addons\n",
            "  Downloading tensorflow_addons-0.19.0-cp38-cp38-manylinux_2_17_x86_64.manylinux2014_x86_64.whl (1.1 MB)\n",
            "\u001b[K     |████████████████████████████████| 1.1 MB 50.4 MB/s \n",
            "\u001b[?25hRequirement already satisfied: smart-open>=1.8.1 in /usr/local/lib/python3.8/dist-packages (from gensim==4.2.0) (5.2.1)\n",
            "Requirement already satisfied: scipy>=0.18.1 in /usr/local/lib/python3.8/dist-packages (from gensim==4.2.0) (1.7.3)\n",
            "Requirement already satisfied: pytz>=2017.3 in /usr/local/lib/python3.8/dist-packages (from pandas) (2022.6)\n",
            "Requirement already satisfied: python-dateutil>=2.7.3 in /usr/local/lib/python3.8/dist-packages (from pandas) (2.8.2)\n",
            "Requirement already satisfied: six>=1.5 in /usr/local/lib/python3.8/dist-packages (from python-dateutil>=2.7.3->pandas) (1.15.0)\n",
            "Requirement already satisfied: kiwisolver>=1.0.1 in /usr/local/lib/python3.8/dist-packages (from matplotlib) (1.4.4)\n",
            "Requirement already satisfied: pyparsing!=2.0.4,!=2.1.2,!=2.1.6,>=2.0.1 in /usr/local/lib/python3.8/dist-packages (from matplotlib) (3.0.9)\n",
            "Requirement already satisfied: cycler>=0.10 in /usr/local/lib/python3.8/dist-packages (from matplotlib) (0.11.0)\n",
            "Requirement already satisfied: packaging in /usr/local/lib/python3.8/dist-packages (from tensorflow-addons) (21.3)\n",
            "Requirement already satisfied: typeguard>=2.7 in /usr/local/lib/python3.8/dist-packages (from tensorflow-addons) (2.7.1)\n",
            "Installing collected packages: tensorflow-addons, gensim\n",
            "  Attempting uninstall: gensim\n",
            "    Found existing installation: gensim 3.6.0\n",
            "    Uninstalling gensim-3.6.0:\n",
            "      Successfully uninstalled gensim-3.6.0\n",
            "Successfully installed gensim-4.2.0 tensorflow-addons-0.19.0\n"
          ]
        }
      ],
      "source": [
        "%pip install pandas numpy matplotlib gensim tensorflow-addons"
      ]
    },
    {
      "cell_type": "code",
      "execution_count": 2,
      "metadata": {
        "id": "KqnHhB8yGptZ"
      },
      "outputs": [],
      "source": [
        "import os, shutil  #  file management\n",
        "import sys \n",
        "import pandas as pd  #  dataframe management\n",
        "import numpy as np  #  data manipulation\n",
        "import re\n",
        "import urllib.request  # download files\n",
        "from zipfile import ZipFile # extract files\n",
        "from matplotlib import pyplot as plt\n",
        "import tensorflow_addons as tfa\n",
        "from sklearn.metrics import f1_score\n",
        "import keras"
      ]
    },
    {
      "cell_type": "markdown",
      "metadata": {
        "id": "glhEVNdNi8B4"
      },
      "source": [
        "## Downloading the dataset"
      ]
    },
    {
      "cell_type": "code",
      "execution_count": 3,
      "metadata": {
        "id": "8rcR7hfpi8B4"
      },
      "outputs": [],
      "source": [
        "#from nltk import download\n",
        "#download()"
      ]
    },
    {
      "cell_type": "code",
      "execution_count": 4,
      "metadata": {
        "colab": {
          "base_uri": "https://localhost:8080/"
        },
        "id": "gMVaf67mGtVe",
        "outputId": "ac302b21-b324-4fe8-d4e8-f957ffe4f8bc"
      },
      "outputs": [
        {
          "output_type": "stream",
          "name": "stdout",
          "text": [
            "Successful download\n",
            "Successful extraction\n"
          ]
        }
      ],
      "source": [
        "dataset_folder = os.path.join(os.getcwd(), \"Dataset\")\n",
        "\n",
        "if not os.path.exists(dataset_folder):\n",
        "    os.makedirs(dataset_folder)\n",
        "\n",
        "url = 'https://raw.githubusercontent.com/nltk/nltk_data/gh-pages/packages/corpora/dependency_treebank.zip'\n",
        "\n",
        "dataset_path = os.path.join(dataset_folder, \"dependency_treebank.zip\")\n",
        "\n",
        "if not os.path.exists(dataset_path):\n",
        "    urllib.request.urlretrieve(url, dataset_path)\n",
        "    print(\"Successful download\")\n",
        "    \n",
        "with ZipFile(dataset_path, 'r') as zObject:\n",
        "  # Extracting all the members of the zip  into a specific location.\n",
        "  zObject.extractall(dataset_folder)\n",
        "  print(\"Successful extraction\")"
      ]
    },
    {
      "cell_type": "markdown",
      "metadata": {
        "id": "6YF4FVoUi8B7"
      },
      "source": [
        "## Loading the data"
      ]
    },
    {
      "cell_type": "code",
      "execution_count": 5,
      "metadata": {
        "id": "wNHOCIU0i8B8"
      },
      "outputs": [],
      "source": [
        "#from nltk.corpus import dependency_treebank\n",
        "#from nltk.data import load\n",
        "#dependency_treebank_test = load(\"nltk:\") \n",
        "#sentences = dependency_treebank.sents()\n",
        "#words = dependency_treebank.words()"
      ]
    },
    {
      "cell_type": "code",
      "execution_count": 6,
      "metadata": {
        "id": "brq6f0-oi8B9"
      },
      "outputs": [],
      "source": [
        "def loadCorpus(start:int, stop:int=None):\n",
        "    '''\n",
        "    Loads the data for the specified file range.\n",
        "    \n",
        "    Removes the third column 'num', which is not necessary for this task.\n",
        "\n",
        "    Parameters:\n",
        "        start: start of numeric range of files (inclusive)\n",
        "        stop: end of numeric range of files (exclusive)\n",
        "    '''\n",
        "    dataset_name = \"dependency_treebank\"\n",
        "    folder = os.path.join(os.getcwd(), \"Dataset\", dataset_name)\n",
        "\n",
        "    if stop==None:\n",
        "        stop = start+1\n",
        "    \n",
        "    return pd.concat([\n",
        "        pd.read_csv(\n",
        "            f'{folder}/wsj_{\"{:04d}\".format(num)}.dp',\n",
        "            sep=\"\\t\",\n",
        "            usecols=[0,1],\n",
        "            names=[\"word\",\"label\"]\n",
        "        ) for num in range(start, stop)\n",
        "    ])"
      ]
    },
    {
      "cell_type": "code",
      "execution_count": 7,
      "metadata": {
        "id": "MHjTm5HOi8B-"
      },
      "outputs": [],
      "source": [
        "full_dataset = loadCorpus(1,200)"
      ]
    },
    {
      "cell_type": "markdown",
      "metadata": {
        "id": "xVtgdAgwi8B-"
      },
      "source": [
        "## Exploratory Data Analysis"
      ]
    },
    {
      "cell_type": "code",
      "execution_count": 8,
      "metadata": {
        "colab": {
          "base_uri": "https://localhost:8080/"
        },
        "id": "Ih48IOpti8B_",
        "outputId": "80fa9b2e-dc4d-45f6-b3c4-9804c6d701e3"
      },
      "outputs": [
        {
          "output_type": "execute_result",
          "data": {
            "text/plain": [
              "word     94084\n",
              "label    94084\n",
              "dtype: int64"
            ]
          },
          "metadata": {},
          "execution_count": 8
        }
      ],
      "source": [
        "full_dataset.count()"
      ]
    },
    {
      "cell_type": "code",
      "execution_count": 9,
      "metadata": {
        "colab": {
          "base_uri": "https://localhost:8080/",
          "height": 0
        },
        "id": "uzKTmaB0i8CA",
        "outputId": "7b4e07e1-7028-4603-af75-546a7bf9391a"
      },
      "outputs": [
        {
          "output_type": "execute_result",
          "data": {
            "text/plain": [
              "            word label\n",
              "0         Pierre   NNP\n",
              "1         Vinken   NNP\n",
              "2              ,     ,\n",
              "3             61    CD\n",
              "4          years   NNS\n",
              "5            old    JJ\n",
              "6              ,     ,\n",
              "7           will    MD\n",
              "8           join    VB\n",
              "9            the    DT\n",
              "10         board    NN\n",
              "11            as    IN\n",
              "12             a    DT\n",
              "13  nonexecutive    JJ\n",
              "14      director    NN\n",
              "15          Nov.   NNP\n",
              "16            29    CD\n",
              "17             .     .\n",
              "18           Mr.   NNP\n",
              "19        Vinken   NNP"
            ],
            "text/html": [
              "\n",
              "  <div id=\"df-44fbb791-d097-493b-9799-7de391446d6a\">\n",
              "    <div class=\"colab-df-container\">\n",
              "      <div>\n",
              "<style scoped>\n",
              "    .dataframe tbody tr th:only-of-type {\n",
              "        vertical-align: middle;\n",
              "    }\n",
              "\n",
              "    .dataframe tbody tr th {\n",
              "        vertical-align: top;\n",
              "    }\n",
              "\n",
              "    .dataframe thead th {\n",
              "        text-align: right;\n",
              "    }\n",
              "</style>\n",
              "<table border=\"1\" class=\"dataframe\">\n",
              "  <thead>\n",
              "    <tr style=\"text-align: right;\">\n",
              "      <th></th>\n",
              "      <th>word</th>\n",
              "      <th>label</th>\n",
              "    </tr>\n",
              "  </thead>\n",
              "  <tbody>\n",
              "    <tr>\n",
              "      <th>0</th>\n",
              "      <td>Pierre</td>\n",
              "      <td>NNP</td>\n",
              "    </tr>\n",
              "    <tr>\n",
              "      <th>1</th>\n",
              "      <td>Vinken</td>\n",
              "      <td>NNP</td>\n",
              "    </tr>\n",
              "    <tr>\n",
              "      <th>2</th>\n",
              "      <td>,</td>\n",
              "      <td>,</td>\n",
              "    </tr>\n",
              "    <tr>\n",
              "      <th>3</th>\n",
              "      <td>61</td>\n",
              "      <td>CD</td>\n",
              "    </tr>\n",
              "    <tr>\n",
              "      <th>4</th>\n",
              "      <td>years</td>\n",
              "      <td>NNS</td>\n",
              "    </tr>\n",
              "    <tr>\n",
              "      <th>5</th>\n",
              "      <td>old</td>\n",
              "      <td>JJ</td>\n",
              "    </tr>\n",
              "    <tr>\n",
              "      <th>6</th>\n",
              "      <td>,</td>\n",
              "      <td>,</td>\n",
              "    </tr>\n",
              "    <tr>\n",
              "      <th>7</th>\n",
              "      <td>will</td>\n",
              "      <td>MD</td>\n",
              "    </tr>\n",
              "    <tr>\n",
              "      <th>8</th>\n",
              "      <td>join</td>\n",
              "      <td>VB</td>\n",
              "    </tr>\n",
              "    <tr>\n",
              "      <th>9</th>\n",
              "      <td>the</td>\n",
              "      <td>DT</td>\n",
              "    </tr>\n",
              "    <tr>\n",
              "      <th>10</th>\n",
              "      <td>board</td>\n",
              "      <td>NN</td>\n",
              "    </tr>\n",
              "    <tr>\n",
              "      <th>11</th>\n",
              "      <td>as</td>\n",
              "      <td>IN</td>\n",
              "    </tr>\n",
              "    <tr>\n",
              "      <th>12</th>\n",
              "      <td>a</td>\n",
              "      <td>DT</td>\n",
              "    </tr>\n",
              "    <tr>\n",
              "      <th>13</th>\n",
              "      <td>nonexecutive</td>\n",
              "      <td>JJ</td>\n",
              "    </tr>\n",
              "    <tr>\n",
              "      <th>14</th>\n",
              "      <td>director</td>\n",
              "      <td>NN</td>\n",
              "    </tr>\n",
              "    <tr>\n",
              "      <th>15</th>\n",
              "      <td>Nov.</td>\n",
              "      <td>NNP</td>\n",
              "    </tr>\n",
              "    <tr>\n",
              "      <th>16</th>\n",
              "      <td>29</td>\n",
              "      <td>CD</td>\n",
              "    </tr>\n",
              "    <tr>\n",
              "      <th>17</th>\n",
              "      <td>.</td>\n",
              "      <td>.</td>\n",
              "    </tr>\n",
              "    <tr>\n",
              "      <th>18</th>\n",
              "      <td>Mr.</td>\n",
              "      <td>NNP</td>\n",
              "    </tr>\n",
              "    <tr>\n",
              "      <th>19</th>\n",
              "      <td>Vinken</td>\n",
              "      <td>NNP</td>\n",
              "    </tr>\n",
              "  </tbody>\n",
              "</table>\n",
              "</div>\n",
              "      <button class=\"colab-df-convert\" onclick=\"convertToInteractive('df-44fbb791-d097-493b-9799-7de391446d6a')\"\n",
              "              title=\"Convert this dataframe to an interactive table.\"\n",
              "              style=\"display:none;\">\n",
              "        \n",
              "  <svg xmlns=\"http://www.w3.org/2000/svg\" height=\"24px\"viewBox=\"0 0 24 24\"\n",
              "       width=\"24px\">\n",
              "    <path d=\"M0 0h24v24H0V0z\" fill=\"none\"/>\n",
              "    <path d=\"M18.56 5.44l.94 2.06.94-2.06 2.06-.94-2.06-.94-.94-2.06-.94 2.06-2.06.94zm-11 1L8.5 8.5l.94-2.06 2.06-.94-2.06-.94L8.5 2.5l-.94 2.06-2.06.94zm10 10l.94 2.06.94-2.06 2.06-.94-2.06-.94-.94-2.06-.94 2.06-2.06.94z\"/><path d=\"M17.41 7.96l-1.37-1.37c-.4-.4-.92-.59-1.43-.59-.52 0-1.04.2-1.43.59L10.3 9.45l-7.72 7.72c-.78.78-.78 2.05 0 2.83L4 21.41c.39.39.9.59 1.41.59.51 0 1.02-.2 1.41-.59l7.78-7.78 2.81-2.81c.8-.78.8-2.07 0-2.86zM5.41 20L4 18.59l7.72-7.72 1.47 1.35L5.41 20z\"/>\n",
              "  </svg>\n",
              "      </button>\n",
              "      \n",
              "  <style>\n",
              "    .colab-df-container {\n",
              "      display:flex;\n",
              "      flex-wrap:wrap;\n",
              "      gap: 12px;\n",
              "    }\n",
              "\n",
              "    .colab-df-convert {\n",
              "      background-color: #E8F0FE;\n",
              "      border: none;\n",
              "      border-radius: 50%;\n",
              "      cursor: pointer;\n",
              "      display: none;\n",
              "      fill: #1967D2;\n",
              "      height: 32px;\n",
              "      padding: 0 0 0 0;\n",
              "      width: 32px;\n",
              "    }\n",
              "\n",
              "    .colab-df-convert:hover {\n",
              "      background-color: #E2EBFA;\n",
              "      box-shadow: 0px 1px 2px rgba(60, 64, 67, 0.3), 0px 1px 3px 1px rgba(60, 64, 67, 0.15);\n",
              "      fill: #174EA6;\n",
              "    }\n",
              "\n",
              "    [theme=dark] .colab-df-convert {\n",
              "      background-color: #3B4455;\n",
              "      fill: #D2E3FC;\n",
              "    }\n",
              "\n",
              "    [theme=dark] .colab-df-convert:hover {\n",
              "      background-color: #434B5C;\n",
              "      box-shadow: 0px 1px 3px 1px rgba(0, 0, 0, 0.15);\n",
              "      filter: drop-shadow(0px 1px 2px rgba(0, 0, 0, 0.3));\n",
              "      fill: #FFFFFF;\n",
              "    }\n",
              "  </style>\n",
              "\n",
              "      <script>\n",
              "        const buttonEl =\n",
              "          document.querySelector('#df-44fbb791-d097-493b-9799-7de391446d6a button.colab-df-convert');\n",
              "        buttonEl.style.display =\n",
              "          google.colab.kernel.accessAllowed ? 'block' : 'none';\n",
              "\n",
              "        async function convertToInteractive(key) {\n",
              "          const element = document.querySelector('#df-44fbb791-d097-493b-9799-7de391446d6a');\n",
              "          const dataTable =\n",
              "            await google.colab.kernel.invokeFunction('convertToInteractive',\n",
              "                                                     [key], {});\n",
              "          if (!dataTable) return;\n",
              "\n",
              "          const docLinkHtml = 'Like what you see? Visit the ' +\n",
              "            '<a target=\"_blank\" href=https://colab.research.google.com/notebooks/data_table.ipynb>data table notebook</a>'\n",
              "            + ' to learn more about interactive tables.';\n",
              "          element.innerHTML = '';\n",
              "          dataTable['output_type'] = 'display_data';\n",
              "          await google.colab.output.renderOutput(dataTable, element);\n",
              "          const docLink = document.createElement('div');\n",
              "          docLink.innerHTML = docLinkHtml;\n",
              "          element.appendChild(docLink);\n",
              "        }\n",
              "      </script>\n",
              "    </div>\n",
              "  </div>\n",
              "  "
            ]
          },
          "metadata": {},
          "execution_count": 9
        }
      ],
      "source": [
        "full_dataset.head(20)"
      ]
    },
    {
      "cell_type": "markdown",
      "metadata": {
        "id": "ZjqrPfy4i8CB"
      },
      "source": [
        "Each document contains a different tokenized article:"
      ]
    },
    {
      "cell_type": "code",
      "execution_count": 10,
      "metadata": {
        "colab": {
          "base_uri": "https://localhost:8080/",
          "height": 0
        },
        "id": "EE9Qv0tUi8CB",
        "outputId": "4fedd041-e344-4592-83c6-9fcdddda74c1"
      },
      "outputs": [
        {
          "output_type": "execute_result",
          "data": {
            "text/plain": [
              "'Pierre Vinken , 61 years old , will join the board as a nonexecutive director Nov. 29 . Mr. Vinken is chairman of Elsevier N.V. , the Dutch publishing group .'"
            ],
            "application/vnd.google.colaboratory.intrinsic+json": {
              "type": "string"
            }
          },
          "metadata": {},
          "execution_count": 10
        }
      ],
      "source": [
        "sample_article = loadCorpus(1)\n",
        "\" \".join(sample_article[\"word\"])"
      ]
    },
    {
      "cell_type": "code",
      "execution_count": 11,
      "metadata": {
        "colab": {
          "base_uri": "https://localhost:8080/",
          "height": 0
        },
        "id": "sDIadSSJi8CB",
        "outputId": "ad825bb7-5354-4890-99cf-f9d99ae17b09"
      },
      "outputs": [
        {
          "output_type": "execute_result",
          "data": {
            "text/plain": [
              "'Rudolph Agnew , 55 years old and former chairman of Consolidated Gold Fields PLC , was named a nonexecutive director of this British industrial conglomerate .'"
            ],
            "application/vnd.google.colaboratory.intrinsic+json": {
              "type": "string"
            }
          },
          "metadata": {},
          "execution_count": 11
        }
      ],
      "source": [
        "\" \".join(loadCorpus(2)[\"word\"])"
      ]
    },
    {
      "cell_type": "code",
      "execution_count": 12,
      "metadata": {
        "colab": {
          "base_uri": "https://localhost:8080/",
          "height": 0
        },
        "id": "dcAVyveni8CC",
        "outputId": "65421893-51ef-4e75-eb00-d2f6d3357ff9"
      },
      "outputs": [
        {
          "output_type": "display_data",
          "data": {
            "text/plain": [
              "<Figure size 1080x360 with 1 Axes>"
            ],
            "image/png": "[encoded data removed]"
          },
          "metadata": {
            "needs_background": "light"
          }
        }
      ],
      "source": [
        "fig=plt.figure(figsize=(15,5))\n",
        "p = plt.hist(full_dataset[\"label\"])\n",
        "plt.xticks(rotation=45)\n",
        "plt.show()"
      ]
    },
    {
      "cell_type": "code",
      "execution_count": 13,
      "metadata": {
        "colab": {
          "base_uri": "https://localhost:8080/",
          "height": 0
        },
        "id": "K9XyBPIQi8CC",
        "outputId": "300b651f-a12b-4823-ca77-2a84606ed984"
      },
      "outputs": [
        {
          "output_type": "display_data",
          "data": {
            "text/plain": [
              "<Figure size 1080x360 with 1 Axes>"
            ],
            "image/png": "[encoded data removed]"
          },
          "metadata": {
            "needs_background": "light"
          }
        }
      ],
      "source": [
        "fig=plt.figure(figsize=(15,5))\n",
        "p = plt.plot(full_dataset[\"word\"].value_counts())\n",
        "plt.xticks([])\n",
        "plt.show()"
      ]
    },
    {
      "cell_type": "markdown",
      "metadata": {
        "id": "MzyI2Wufi8CD"
      },
      "source": [
        "## Data splitting\n",
        "\n",
        "\n",
        "\n"
      ]
    },
    {
      "cell_type": "markdown",
      "metadata": {
        "id": "Nep1haoQkIO0"
      },
      "source": [
        "Creation of train, validation and test sets."
      ]
    },
    {
      "cell_type": "code",
      "execution_count": 14,
      "metadata": {
        "colab": {
          "base_uri": "https://localhost:8080/"
        },
        "id": "kOG5wns9X011",
        "outputId": "7cafaa22-6739-455b-96c3-95bb2b271f7f"
      },
      "outputs": [
        {
          "output_type": "execute_result",
          "data": {
            "text/plain": [
              "word     47356\n",
              "label    47356\n",
              "dtype: int64"
            ]
          },
          "metadata": {},
          "execution_count": 14
        }
      ],
      "source": [
        "df_train = loadCorpus(1,101) \n",
        "df_val = loadCorpus(101,151)\n",
        "df_test = loadCorpus(151,200)\n",
        "\n",
        "df_train.count()"
      ]
    },
    {
      "cell_type": "code",
      "execution_count": 15,
      "metadata": {
        "colab": {
          "base_uri": "https://localhost:8080/"
        },
        "id": "Th6dXqh94849",
        "outputId": "9a874cd8-ebda-4ed5-e5d5-224483386c8a"
      },
      "outputs": [
        {
          "output_type": "execute_result",
          "data": {
            "text/plain": [
              "word     31183\n",
              "label    31183\n",
              "dtype: int64"
            ]
          },
          "metadata": {},
          "execution_count": 15
        }
      ],
      "source": [
        "df_val.count()"
      ]
    },
    {
      "cell_type": "code",
      "execution_count": 16,
      "metadata": {
        "colab": {
          "base_uri": "https://localhost:8080/"
        },
        "id": "Hj_BdDsA4849",
        "outputId": "19e4a2a0-7339-454f-97de-05097f96123a"
      },
      "outputs": [
        {
          "output_type": "execute_result",
          "data": {
            "text/plain": [
              "word     15545\n",
              "label    15545\n",
              "dtype: int64"
            ]
          },
          "metadata": {},
          "execution_count": 16
        }
      ],
      "source": [
        "df_test.count()"
      ]
    },
    {
      "cell_type": "markdown",
      "metadata": {
        "id": "XJrGcYbJ4849"
      },
      "source": [
        "## Data pre-processing"
      ]
    },
    {
      "cell_type": "markdown",
      "metadata": {
        "id": "vjPNQ9ilk7X_"
      },
      "source": [
        "Clean the data."
      ]
    },
    {
      "cell_type": "code",
      "execution_count": 17,
      "metadata": {
        "id": "4T_aIaLxk4Xp"
      },
      "outputs": [],
      "source": [
        "def cleanCorpus(corpus):\n",
        "    # # Filter out punctuation based on the word\n",
        "    # corpus[\"word\"] = [re.sub(r'[^\\w]', '', word) for word in corpus[\"word\"]]\n",
        "    # corpus = corpus[corpus[\"word\"] != \"\"]\n",
        "    \n",
        "    # Filter out punctuation based on the class\n",
        "    punctuation_classes = [ # https://universaldependencies.org/docs/en/pos/all.html#al-en-pos/PUNCT\n",
        "        \"``\", \"’’\", \"-LRB-\", \"-RRB-\", \",\", \".\", \":\", \"HYPH\", # PUNCT: punctuation\n",
        "        \"#\", \"$\", \"SYM\", # SYM: symbol\n",
        "        \"''\", # Custom\n",
        "    ]\n",
        "    corpus = corpus[~corpus[\"label\"].isin(punctuation_classes)]\n",
        "    \n",
        "    corpus['word'] = corpus['word'].str.lower()\n",
        "    return corpus"
      ]
    },
    {
      "cell_type": "code",
      "execution_count": 18,
      "metadata": {
        "id": "DzhR6r5HOw5x",
        "outputId": "5db7ccc2-9885-4c96-bde3-c680c53404bc",
        "colab": {
          "base_uri": "https://localhost:8080/",
          "height": 0
        }
      },
      "outputs": [
        {
          "output_type": "stream",
          "name": "stderr",
          "text": [
            "<ipython-input-17-4f2c61475a18>:14: SettingWithCopyWarning: \n",
            "A value is trying to be set on a copy of a slice from a DataFrame.\n",
            "Try using .loc[row_indexer,col_indexer] = value instead\n",
            "\n",
            "See the caveats in the documentation: https://pandas.pydata.org/pandas-docs/stable/user_guide/indexing.html#returning-a-view-versus-a-copy\n",
            "  corpus['word'] = corpus['word'].str.lower()\n"
          ]
        },
        {
          "output_type": "display_data",
          "data": {
            "text/plain": [
              "<Figure size 1080x360 with 1 Axes>"
            ],
            "image/png": "[encoded data removed]"
          },
          "metadata": {
            "needs_background": "light"
          }
        }
      ],
      "source": [
        "fig=plt.figure(figsize=(15,5))\n",
        "p = plt.hist(cleanCorpus(full_dataset)[\"label\"])\n",
        "plt.xticks(rotation=45)\n",
        "plt.show()"
      ]
    },
    {
      "cell_type": "code",
      "execution_count": 19,
      "metadata": {
        "colab": {
          "base_uri": "https://localhost:8080/"
        },
        "id": "lV6x05Lu26ym",
        "outputId": "497d72d8-a278-402c-febd-86d966331755"
      },
      "outputs": [
        {
          "output_type": "stream",
          "name": "stderr",
          "text": [
            "<ipython-input-17-4f2c61475a18>:14: SettingWithCopyWarning: \n",
            "A value is trying to be set on a copy of a slice from a DataFrame.\n",
            "Try using .loc[row_indexer,col_indexer] = value instead\n",
            "\n",
            "See the caveats in the documentation: https://pandas.pydata.org/pandas-docs/stable/user_guide/indexing.html#returning-a-view-versus-a-copy\n",
            "  corpus['word'] = corpus['word'].str.lower()\n"
          ]
        },
        {
          "output_type": "execute_result",
          "data": {
            "text/plain": [
              "word     41274\n",
              "label    41274\n",
              "dtype: int64"
            ]
          },
          "metadata": {},
          "execution_count": 19
        }
      ],
      "source": [
        "#cleaned dataframes\n",
        "dfc_train = cleanCorpus(df_train)\n",
        "dfc_val = cleanCorpus(df_val)\n",
        "dfc_test = cleanCorpus(df_test)\n",
        "dfc_sample = cleanCorpus(sample_article)\n",
        "\n",
        "dfc_train.count()"
      ]
    },
    {
      "cell_type": "code",
      "execution_count": 20,
      "metadata": {
        "colab": {
          "base_uri": "https://localhost:8080/"
        },
        "id": "6Y4lYHXy484-",
        "outputId": "16720bfd-c070-4cd5-f006-1bcca234144b"
      },
      "outputs": [
        {
          "output_type": "execute_result",
          "data": {
            "text/plain": [
              "word     27418\n",
              "label    27418\n",
              "dtype: int64"
            ]
          },
          "metadata": {},
          "execution_count": 20
        }
      ],
      "source": [
        "dfc_val.count()"
      ]
    },
    {
      "cell_type": "code",
      "execution_count": 21,
      "metadata": {
        "colab": {
          "base_uri": "https://localhost:8080/"
        },
        "id": "JfjU5ZVo484-",
        "outputId": "cfef7152-719f-4cdd-e7d5-06cf58170a65"
      },
      "outputs": [
        {
          "output_type": "execute_result",
          "data": {
            "text/plain": [
              "word     13676\n",
              "label    13676\n",
              "dtype: int64"
            ]
          },
          "metadata": {},
          "execution_count": 21
        }
      ],
      "source": [
        "dfc_test.count()"
      ]
    },
    {
      "cell_type": "code",
      "execution_count": 22,
      "metadata": {
        "colab": {
          "base_uri": "https://localhost:8080/",
          "height": 0
        },
        "id": "R4fHZaScmPoU",
        "outputId": "a5f8d87f-3c83-4421-8f5e-27905443e0cc"
      },
      "outputs": [
        {
          "output_type": "execute_result",
          "data": {
            "text/plain": [
              "            word label\n",
              "0         pierre   NNP\n",
              "1         vinken   NNP\n",
              "3             61    CD\n",
              "4          years   NNS\n",
              "5            old    JJ\n",
              "7           will    MD\n",
              "8           join    VB\n",
              "9            the    DT\n",
              "10         board    NN\n",
              "11            as    IN\n",
              "12             a    DT\n",
              "13  nonexecutive    JJ\n",
              "14      director    NN\n",
              "15          nov.   NNP\n",
              "16            29    CD\n",
              "18           mr.   NNP\n",
              "19        vinken   NNP\n",
              "20            is   VBZ\n",
              "21      chairman    NN\n",
              "22            of    IN"
            ],
            "text/html": [
              "\n",
              "  <div id=\"df-02ea958a-d72b-4521-8cab-f4f6404f556e\">\n",
              "    <div class=\"colab-df-container\">\n",
              "      <div>\n",
              "<style scoped>\n",
              "    .dataframe tbody tr th:only-of-type {\n",
              "        vertical-align: middle;\n",
              "    }\n",
              "\n",
              "    .dataframe tbody tr th {\n",
              "        vertical-align: top;\n",
              "    }\n",
              "\n",
              "    .dataframe thead th {\n",
              "        text-align: right;\n",
              "    }\n",
              "</style>\n",
              "<table border=\"1\" class=\"dataframe\">\n",
              "  <thead>\n",
              "    <tr style=\"text-align: right;\">\n",
              "      <th></th>\n",
              "      <th>word</th>\n",
              "      <th>label</th>\n",
              "    </tr>\n",
              "  </thead>\n",
              "  <tbody>\n",
              "    <tr>\n",
              "      <th>0</th>\n",
              "      <td>pierre</td>\n",
              "      <td>NNP</td>\n",
              "    </tr>\n",
              "    <tr>\n",
              "      <th>1</th>\n",
              "      <td>vinken</td>\n",
              "      <td>NNP</td>\n",
              "    </tr>\n",
              "    <tr>\n",
              "      <th>3</th>\n",
              "      <td>61</td>\n",
              "      <td>CD</td>\n",
              "    </tr>\n",
              "    <tr>\n",
              "      <th>4</th>\n",
              "      <td>years</td>\n",
              "      <td>NNS</td>\n",
              "    </tr>\n",
              "    <tr>\n",
              "      <th>5</th>\n",
              "      <td>old</td>\n",
              "      <td>JJ</td>\n",
              "    </tr>\n",
              "    <tr>\n",
              "      <th>7</th>\n",
              "      <td>will</td>\n",
              "      <td>MD</td>\n",
              "    </tr>\n",
              "    <tr>\n",
              "      <th>8</th>\n",
              "      <td>join</td>\n",
              "      <td>VB</td>\n",
              "    </tr>\n",
              "    <tr>\n",
              "      <th>9</th>\n",
              "      <td>the</td>\n",
              "      <td>DT</td>\n",
              "    </tr>\n",
              "    <tr>\n",
              "      <th>10</th>\n",
              "      <td>board</td>\n",
              "      <td>NN</td>\n",
              "    </tr>\n",
              "    <tr>\n",
              "      <th>11</th>\n",
              "      <td>as</td>\n",
              "      <td>IN</td>\n",
              "    </tr>\n",
              "    <tr>\n",
              "      <th>12</th>\n",
              "      <td>a</td>\n",
              "      <td>DT</td>\n",
              "    </tr>\n",
              "    <tr>\n",
              "      <th>13</th>\n",
              "      <td>nonexecutive</td>\n",
              "      <td>JJ</td>\n",
              "    </tr>\n",
              "    <tr>\n",
              "      <th>14</th>\n",
              "      <td>director</td>\n",
              "      <td>NN</td>\n",
              "    </tr>\n",
              "    <tr>\n",
              "      <th>15</th>\n",
              "      <td>nov.</td>\n",
              "      <td>NNP</td>\n",
              "    </tr>\n",
              "    <tr>\n",
              "      <th>16</th>\n",
              "      <td>29</td>\n",
              "      <td>CD</td>\n",
              "    </tr>\n",
              "    <tr>\n",
              "      <th>18</th>\n",
              "      <td>mr.</td>\n",
              "      <td>NNP</td>\n",
              "    </tr>\n",
              "    <tr>\n",
              "      <th>19</th>\n",
              "      <td>vinken</td>\n",
              "      <td>NNP</td>\n",
              "    </tr>\n",
              "    <tr>\n",
              "      <th>20</th>\n",
              "      <td>is</td>\n",
              "      <td>VBZ</td>\n",
              "    </tr>\n",
              "    <tr>\n",
              "      <th>21</th>\n",
              "      <td>chairman</td>\n",
              "      <td>NN</td>\n",
              "    </tr>\n",
              "    <tr>\n",
              "      <th>22</th>\n",
              "      <td>of</td>\n",
              "      <td>IN</td>\n",
              "    </tr>\n",
              "  </tbody>\n",
              "</table>\n",
              "</div>\n",
              "      <button class=\"colab-df-convert\" onclick=\"convertToInteractive('df-02ea958a-d72b-4521-8cab-f4f6404f556e')\"\n",
              "              title=\"Convert this dataframe to an interactive table.\"\n",
              "              style=\"display:none;\">\n",
              "        \n",
              "  <svg xmlns=\"http://www.w3.org/2000/svg\" height=\"24px\"viewBox=\"0 0 24 24\"\n",
              "       width=\"24px\">\n",
              "    <path d=\"M0 0h24v24H0V0z\" fill=\"none\"/>\n",
              "    <path d=\"M18.56 5.44l.94 2.06.94-2.06 2.06-.94-2.06-.94-.94-2.06-.94 2.06-2.06.94zm-11 1L8.5 8.5l.94-2.06 2.06-.94-2.06-.94L8.5 2.5l-.94 2.06-2.06.94zm10 10l.94 2.06.94-2.06 2.06-.94-2.06-.94-.94-2.06-.94 2.06-2.06.94z\"/><path d=\"M17.41 7.96l-1.37-1.37c-.4-.4-.92-.59-1.43-.59-.52 0-1.04.2-1.43.59L10.3 9.45l-7.72 7.72c-.78.78-.78 2.05 0 2.83L4 21.41c.39.39.9.59 1.41.59.51 0 1.02-.2 1.41-.59l7.78-7.78 2.81-2.81c.8-.78.8-2.07 0-2.86zM5.41 20L4 18.59l7.72-7.72 1.47 1.35L5.41 20z\"/>\n",
              "  </svg>\n",
              "      </button>\n",
              "      \n",
              "  <style>\n",
              "    .colab-df-container {\n",
              "      display:flex;\n",
              "      flex-wrap:wrap;\n",
              "      gap: 12px;\n",
              "    }\n",
              "\n",
              "    .colab-df-convert {\n",
              "      background-color: #E8F0FE;\n",
              "      border: none;\n",
              "      border-radius: 50%;\n",
              "      cursor: pointer;\n",
              "      display: none;\n",
              "      fill: #1967D2;\n",
              "      height: 32px;\n",
              "      padding: 0 0 0 0;\n",
              "      width: 32px;\n",
              "    }\n",
              "\n",
              "    .colab-df-convert:hover {\n",
              "      background-color: #E2EBFA;\n",
              "      box-shadow: 0px 1px 2px rgba(60, 64, 67, 0.3), 0px 1px 3px 1px rgba(60, 64, 67, 0.15);\n",
              "      fill: #174EA6;\n",
              "    }\n",
              "\n",
              "    [theme=dark] .colab-df-convert {\n",
              "      background-color: #3B4455;\n",
              "      fill: #D2E3FC;\n",
              "    }\n",
              "\n",
              "    [theme=dark] .colab-df-convert:hover {\n",
              "      background-color: #434B5C;\n",
              "      box-shadow: 0px 1px 3px 1px rgba(0, 0, 0, 0.15);\n",
              "      filter: drop-shadow(0px 1px 2px rgba(0, 0, 0, 0.3));\n",
              "      fill: #FFFFFF;\n",
              "    }\n",
              "  </style>\n",
              "\n",
              "      <script>\n",
              "        const buttonEl =\n",
              "          document.querySelector('#df-02ea958a-d72b-4521-8cab-f4f6404f556e button.colab-df-convert');\n",
              "        buttonEl.style.display =\n",
              "          google.colab.kernel.accessAllowed ? 'block' : 'none';\n",
              "\n",
              "        async function convertToInteractive(key) {\n",
              "          const element = document.querySelector('#df-02ea958a-d72b-4521-8cab-f4f6404f556e');\n",
              "          const dataTable =\n",
              "            await google.colab.kernel.invokeFunction('convertToInteractive',\n",
              "                                                     [key], {});\n",
              "          if (!dataTable) return;\n",
              "\n",
              "          const docLinkHtml = 'Like what you see? Visit the ' +\n",
              "            '<a target=\"_blank\" href=https://colab.research.google.com/notebooks/data_table.ipynb>data table notebook</a>'\n",
              "            + ' to learn more about interactive tables.';\n",
              "          element.innerHTML = '';\n",
              "          dataTable['output_type'] = 'display_data';\n",
              "          await google.colab.output.renderOutput(dataTable, element);\n",
              "          const docLink = document.createElement('div');\n",
              "          docLink.innerHTML = docLinkHtml;\n",
              "          element.appendChild(docLink);\n",
              "        }\n",
              "      </script>\n",
              "    </div>\n",
              "  </div>\n",
              "  "
            ]
          },
          "metadata": {},
          "execution_count": 22
        }
      ],
      "source": [
        "dfc_train.head(20)"
      ]
    },
    {
      "cell_type": "markdown",
      "metadata": {
        "id": "6VsU_XpAi8CF"
      },
      "source": [
        "## Word embedding"
      ]
    },
    {
      "cell_type": "markdown",
      "metadata": {
        "id": "4Bep7HYL484_"
      },
      "source": [
        "### Loading GloVe"
      ]
    },
    {
      "cell_type": "markdown",
      "metadata": {
        "id": "92d15Xzr4qAn"
      },
      "source": [
        "\n",
        "Loading pre-trained dense word embedding representation: GloVe.\n",
        "\n",
        "\n",
        "\n",
        "\n"
      ]
    },
    {
      "cell_type": "code",
      "execution_count": 23,
      "metadata": {
        "id": "UZBrvzL8t6_U"
      },
      "outputs": [],
      "source": [
        "import gensim\n",
        "import gensim.downloader as gloader\n",
        "\n",
        "def load_embedding_model(model_type: str,\n",
        "                         embedding_dimension: int = 50) -> gensim.models.keyedvectors.KeyedVectors:\n",
        "    \"\"\"\n",
        "    Loads a pre-trained word embedding model via gensim library.\n",
        "\n",
        "    :param model_type: name of the word embedding model to load.\n",
        "    :param embedding_dimension: size of the embedding space to consider\n",
        "\n",
        "    :return\n",
        "        - pre-trained word embedding model (gensim KeyedVectors object)\n",
        "    \"\"\"\n",
        "    download_path = \"\"\n",
        "    if model_type.strip().lower() == 'word2vec':\n",
        "        download_path = \"word2vec-google-news-300\"\n",
        "\n",
        "    elif model_type.strip().lower() == 'glove':\n",
        "        download_path = \"glove-wiki-gigaword-{}\".format(embedding_dimension)\n",
        "    elif model_type.strip().lower() == 'fasttext':\n",
        "        download_path = \"fasttext-wiki-news-subwords-300\"\n",
        "    else:\n",
        "        raise AttributeError(\"Unsupported embedding model type! Available ones: word2vec, glove, fasttext\")\n",
        "        \n",
        "    try:\n",
        "        emb_model = gloader.load(download_path)\n",
        "    except ValueError as e:\n",
        "        print(\"Invalid embedding model name! Check the embedding dimension:\")\n",
        "        print(\"Word2Vec: 300\")\n",
        "        print(\"Glove: 50, 100, 200, 300\")\n",
        "        print('FastText: 300')\n",
        "        raise e\n",
        "\n",
        "    return emb_model"
      ]
    },
    {
      "cell_type": "code",
      "execution_count": 30,
      "metadata": {
        "id": "2hPJ_neS5Vxd"
      },
      "outputs": [],
      "source": [
        "# Modify these variables as you wish!\n",
        "# Glove -> 50, 100, 200, 300\n",
        "# Word2Vec -> 300\n",
        "# Fasttext -> 300\n",
        "embedding_dimension = 50\n",
        "embedding_model = load_embedding_model(model_type=\"glove\", embedding_dimension= embedding_dimension)"
      ]
    },
    {
      "cell_type": "markdown",
      "metadata": {
        "id": "jU0rgZ0I484_"
      },
      "source": [
        "### Analyzing OOV statistics"
      ]
    },
    {
      "cell_type": "code",
      "execution_count": 31,
      "metadata": {
        "colab": {
          "base_uri": "https://localhost:8080/"
        },
        "id": "S76fxrkJ484_",
        "outputId": "48355e84-a3d6-4d57-c620-4e4c5b8caa95"
      },
      "outputs": [
        {
          "output_type": "execute_result",
          "data": {
            "text/plain": [
              "['the', ',', '.', 'of', 'to', 'and', 'in', 'a', '\"', \"'s\"]"
            ]
          },
          "metadata": {},
          "execution_count": 31
        }
      ],
      "source": [
        "embedding_model.index_to_key[0:10]"
      ]
    },
    {
      "cell_type": "code",
      "execution_count": 32,
      "metadata": {
        "colab": {
          "base_uri": "https://localhost:8080/"
        },
        "id": "CdGVCkXI485A",
        "outputId": "ce3d0627-0985-41eb-f820-fcdace2954cc"
      },
      "outputs": [
        {
          "output_type": "stream",
          "name": "stdout",
          "text": [
            "oov_train_size: 355\n",
            "oov_val_size: 209\n",
            "oov_test_size: 157\n"
          ]
        }
      ],
      "source": [
        "oov_train = list(set([word for word in dfc_train.word.values if word not in embedding_model.index_to_key]))\n",
        "oov_val = list(set([word for word in dfc_val.word.values if word not in embedding_model.index_to_key]))\n",
        "oov_test = list(set([word for word in dfc_test.word.values if word not in embedding_model.index_to_key]))\n",
        "print(f'oov_train_size: {len(oov_train)}')\n",
        "print(f'oov_val_size: {len(oov_val)}')\n",
        "print(f'oov_test_size: {len(oov_test)}')"
      ]
    },
    {
      "cell_type": "code",
      "execution_count": 33,
      "metadata": {
        "colab": {
          "base_uri": "https://localhost:8080/"
        },
        "id": "_FCfRir-485A",
        "outputId": "108b0968-b567-4237-ec6e-1f83f1ed5f60"
      },
      "outputs": [
        {
          "output_type": "execute_result",
          "data": {
            "text/plain": [
              "['alurralde',\n",
              " 'school-improvement',\n",
              " 'chilver',\n",
              " 'abortion-related',\n",
              " '278.7',\n",
              " 'tarwhine',\n",
              " 'custom-chip',\n",
              " 'light-truck',\n",
              " 'detective-story',\n",
              " '16.125']"
            ]
          },
          "metadata": {},
          "execution_count": 33
        }
      ],
      "source": [
        "oov_train[0:10]"
      ]
    },
    {
      "cell_type": "markdown",
      "metadata": {
        "id": "d3NWFTMjmg78"
      },
      "source": [
        "### GloVe Embedding"
      ]
    },
    {
      "cell_type": "markdown",
      "metadata": {
        "id": "vMrf7Fro485A"
      },
      "source": [
        "#### Prepare the embedding matrix"
      ]
    },
    {
      "cell_type": "code",
      "source": [
        "def deal_OOV(vectors, vocabulary, embedding_dimension, oov_set):\n",
        "  #deal with oov words by adding a random embedding vector to the embedding matrix\n",
        "  for idx in range(0, len(oov_set)):\n",
        "    if oov_set[idx] not in vocabulary:\n",
        "      vocabulary.append(oov_set[idx])\n",
        "      #use random embedding for OOV word\n",
        "      embedding_vector = np.random.uniform(low=-0.05, high=0.05, size= embedding_dimension)\n",
        "      vectors.append(embedding_vector)\n",
        "  return vocabulary, vectors"
      ],
      "metadata": {
        "id": "O5GdVec3XGTn"
      },
      "execution_count": 34,
      "outputs": []
    },
    {
      "cell_type": "code",
      "source": [
        "#GloVe vocabulary\n",
        "words = list(embedding_model.index_to_key)\n",
        "#extracting the GloVe embedding vectors\n",
        "vectors = [embedding_model[word] for word in words]\n",
        "em0 =np.array([0.0]*embedding_dimension)\n",
        "vectors.insert(0, em0)\n",
        "\n",
        "#deal with train oov words\n",
        "vocab, vectors = deal_OOV(vectors, words, embedding_dimension, oov_train)\n",
        "#deal with validation oov words\n",
        "vocab, vectors = deal_OOV(vectors, vocab, embedding_dimension, oov_val)\n",
        "#deal with test oov words\n",
        "vocab, vectors = deal_OOV(vectors, vocab, embedding_dimension, oov_test)\n",
        "\n",
        "embedding_matrix = np.asarray(vectors)\n",
        "print(np.shape(embedding_matrix))\n"
      ],
      "metadata": {
        "id": "IlTNKSH5MLQ_",
        "colab": {
          "base_uri": "https://localhost:8080/"
        },
        "outputId": "bb5752fa-fe88-49af-dd1b-07de3ce6d0fe"
      },
      "execution_count": 35,
      "outputs": [
        {
          "output_type": "stream",
          "name": "stdout",
          "text": [
            "(400673, 50)\n"
          ]
        }
      ]
    },
    {
      "cell_type": "markdown",
      "metadata": {
        "id": "9Htl90Gw485B"
      },
      "source": [
        "Define a tokenizer."
      ]
    },
    {
      "cell_type": "code",
      "execution_count": 36,
      "metadata": {
        "colab": {
          "base_uri": "https://localhost:8080/"
        },
        "outputId": "da890084-0cdb-4894-d4d6-93b6b7c65c95",
        "id": "coeo_iy1gJSu"
      },
      "outputs": [
        {
          "output_type": "stream",
          "name": "stdout",
          "text": [
            "Number of unique words in dictionary= 400672\n",
            "Dictionary head:  {'the': 1, ',': 2, '.': 3, 'of': 4, 'to': 5, 'and': 6, 'in': 7, 'a': 8, '\"': 9, \"'s\": 10, 'for': 11, '-': 12, 'that': 13, 'on': 14, 'is': 15, 'was': 16, 'said': 17, 'with': 18, 'he': 19, 'as': 20, 'it': 21, 'by': 22, 'at': 23, '(': 24, ')': 25, 'from': 26, 'his': 27, \"''\": 28, '``': 29, 'an': 30, 'be': 31, 'has': 32, 'are': 33, 'have': 34, 'but': 35, 'were': 36, 'not': 37, 'this': 38, 'who': 39, 'they': 40, 'had': 41, 'i': 42, 'which': 43, 'will': 44, 'their': 45, ':': 46, 'or': 47, 'its': 48, 'one': 49, 'after': 50}\n"
          ]
        }
      ],
      "source": [
        "from tensorflow.keras.preprocessing.text import Tokenizer\n",
        "\n",
        "# define the tokenizer, removing the default filters: '!\"#$%&()*+,-./:;<=>?@[\\\\]^_`{|}~\\t\\n' \n",
        "tokenizer = Tokenizer(filters='')\n",
        "#text = dfc_train.word.values\n",
        "#fit the tokenizer on the vocabulary of GloVe, including also the OOV words \n",
        "tokenizer.fit_on_texts(vocab)\n",
        "\n",
        "# number of unique words in dict.\n",
        "print(\"Number of unique words in dictionary=\", len(tokenizer.word_index))\n",
        "print(\"Dictionary head: \", dict(list(tokenizer.word_index.items())[0:50]))"
      ]
    },
    {
      "cell_type": "code",
      "execution_count": 37,
      "metadata": {
        "colab": {
          "base_uri": "https://localhost:8080/",
          "height": 70
        },
        "id": "6pHoC5Xe3ETA",
        "outputId": "f0e23fc9-c514-4737-afa2-c3c5797ca979"
      },
      "outputs": [
        {
          "output_type": "execute_result",
          "data": {
            "text/plain": [
              "'\\nfrom tensorflow.keras.preprocessing.text import Tokenizer\\n\\n# define the tokenizer\\ntokenizer = Tokenizer(oov_token=\\'<unk>\\')\\ntext = dfc_train.word.values\\n\\n#fit the tokenizer on the training data\\ntokenizer.fit_on_texts(text)\\n\\n# number of unique words in dict.\\nprint(\"Number of unique words in dictionary=\", len(tokenizer.word_index))\\nprint(\"Dictionary head: \", dict(list(tokenizer.word_index.items())[0:10]))\\n'"
            ],
            "application/vnd.google.colaboratory.intrinsic+json": {
              "type": "string"
            }
          },
          "metadata": {},
          "execution_count": 37
        }
      ],
      "source": [
        "\"\"\"\n",
        "from tensorflow.keras.preprocessing.text import Tokenizer\n",
        "\n",
        "# define the tokenizer\n",
        "tokenizer = Tokenizer(oov_token='<unk>')\n",
        "text = dfc_train.word.values\n",
        "\n",
        "#fit the tokenizer on the training data\n",
        "tokenizer.fit_on_texts(text)\n",
        "\n",
        "# number of unique words in dict.\n",
        "print(\"Number of unique words in dictionary=\", len(tokenizer.word_index))\n",
        "print(\"Dictionary head: \", dict(list(tokenizer.word_index.items())[0:10]))\n",
        "\"\"\""
      ]
    },
    {
      "cell_type": "code",
      "execution_count": 38,
      "metadata": {
        "id": "HoHKd6mLOw52"
      },
      "outputs": [],
      "source": [
        "with open('./Dataset/word_index.json','w') as word_index_file:\n",
        "    word_index_file.write(tokenizer.to_json())"
      ]
    },
    {
      "cell_type": "markdown",
      "metadata": {
        "id": "zYWHS267ohxZ"
      },
      "source": [
        "Define the embedding matrix."
      ]
    },
    {
      "cell_type": "code",
      "execution_count": null,
      "metadata": {
        "id": "xpBaqwkd5axM"
      },
      "outputs": [],
      "source": [
        "#remove it after we are sure about the correctness of the embedding done above \n",
        "\"\"\"\n",
        "from tqdm import tqdm\n",
        "\n",
        "def build_embedding_matrix(embedding_model: gensim.models.keyedvectors.KeyedVectors,\n",
        "                           embedding_dimension: int,\n",
        "                           word_to_idx,\n",
        "                           vocab_size: int) -> np.ndarray:\n",
        "    \n",
        "    Builds the embedding matrix of a specific dataset given a pre-trained word embedding model\n",
        "\n",
        "    :param embedding_model: pre-trained word embedding model (gensim wrapper)\n",
        "    :param word_to_idx: vocabulary map (word -> index) (dict)\n",
        "    :param vocab_size: size of the vocabulary\n",
        "    \n",
        "\n",
        "    :return\n",
        "        - embedding matrix that assigns a high dimensional vector to each word in the dataset specific vocabulary (shape |V| x d)\n",
        "    \n",
        "    embedding_matrix = np.zeros((vocab_size, embedding_dimension), dtype=np.float32)\n",
        "    for word, idx in tqdm(tokenizer.word_index.items()):\n",
        "        try:\n",
        "            embedding_vector = embedding_model[word]\n",
        "        except (KeyError, TypeError):\n",
        "            #print(f\"Using random vector for '{word}'\")\n",
        "            embedding_vector = np.random.uniform(low=-0.05, high=0.05, size=embedding_dimension)\n",
        "\n",
        "        embedding_matrix[idx] = embedding_vector\n",
        "\n",
        "    return embedding_matrix\n",
        "\"\"\""
      ]
    },
    {
      "cell_type": "code",
      "execution_count": 43,
      "metadata": {
        "colab": {
          "base_uri": "https://localhost:8080/",
          "height": 53
        },
        "id": "nYYqz59Ilmem",
        "outputId": "61d00b3c-1f8b-440f-f637-72b63a92137a"
      },
      "outputs": [
        {
          "output_type": "execute_result",
          "data": {
            "text/plain": [
              "'\\n# Testing\\nembedding_dimension = 50\\nvocab_size = len(tokenizer.word_index) + 1\\nembedding_matrix = build_embedding_matrix(embedding_model, embedding_dimension, tokenizer.word_index, vocab_size )\\nprint(f\"Embedding matrix shape: {embedding_matrix.shape}\")\\n'"
            ],
            "application/vnd.google.colaboratory.intrinsic+json": {
              "type": "string"
            }
          },
          "metadata": {},
          "execution_count": 43
        }
      ],
      "source": [
        "\"\"\"\n",
        "# Testing\n",
        "embedding_dimension = 50\n",
        "vocab_size = len(tokenizer.word_index) + 1\n",
        "embedding_matrix = build_embedding_matrix(embedding_model, embedding_dimension, tokenizer.word_index, vocab_size )\n",
        "print(f\"Embedding matrix shape: {embedding_matrix.shape}\")\n",
        "\"\"\""
      ]
    },
    {
      "cell_type": "markdown",
      "metadata": {
        "id": "ojCSzxS1485B"
      },
      "source": [
        "#### Encode the dataset"
      ]
    },
    {
      "cell_type": "markdown",
      "metadata": {
        "id": "BLiAw26WqhqF"
      },
      "source": [
        "Define a label encoder for the target class."
      ]
    },
    {
      "cell_type": "code",
      "execution_count": 44,
      "metadata": {
        "colab": {
          "base_uri": "https://localhost:8080/"
        },
        "id": "54XQt_rz6fgv",
        "outputId": "806e156f-ce5e-4803-bdb4-2610274abecc"
      },
      "outputs": [
        {
          "output_type": "stream",
          "name": "stderr",
          "text": [
            "<ipython-input-44-24abb2d39b07>:4: SettingWithCopyWarning: \n",
            "A value is trying to be set on a copy of a slice from a DataFrame.\n",
            "Try using .loc[row_indexer,col_indexer] = value instead\n",
            "\n",
            "See the caveats in the documentation: https://pandas.pydata.org/pandas-docs/stable/user_guide/indexing.html#returning-a-view-versus-a-copy\n",
            "  dfc_train['encoded_label'] = le.fit_transform(dfc_train['label'])\n",
            "<ipython-input-44-24abb2d39b07>:5: SettingWithCopyWarning: \n",
            "A value is trying to be set on a copy of a slice from a DataFrame.\n",
            "Try using .loc[row_indexer,col_indexer] = value instead\n",
            "\n",
            "See the caveats in the documentation: https://pandas.pydata.org/pandas-docs/stable/user_guide/indexing.html#returning-a-view-versus-a-copy\n",
            "  dfc_val['encoded_label'] = le.transform(dfc_val['label'])\n",
            "<ipython-input-44-24abb2d39b07>:6: SettingWithCopyWarning: \n",
            "A value is trying to be set on a copy of a slice from a DataFrame.\n",
            "Try using .loc[row_indexer,col_indexer] = value instead\n",
            "\n",
            "See the caveats in the documentation: https://pandas.pydata.org/pandas-docs/stable/user_guide/indexing.html#returning-a-view-versus-a-copy\n",
            "  dfc_test['encoded_label'] = le.transform(dfc_test['label'])\n",
            "<ipython-input-44-24abb2d39b07>:7: SettingWithCopyWarning: \n",
            "A value is trying to be set on a copy of a slice from a DataFrame.\n",
            "Try using .loc[row_indexer,col_indexer] = value instead\n",
            "\n",
            "See the caveats in the documentation: https://pandas.pydata.org/pandas-docs/stable/user_guide/indexing.html#returning-a-view-versus-a-copy\n",
            "  dfc_sample['encoded_label'] = le.transform(dfc_sample['label'])\n"
          ]
        }
      ],
      "source": [
        "from sklearn.preprocessing import LabelEncoder, OneHotEncoder\n",
        "\n",
        "le = LabelEncoder()\n",
        "dfc_train['encoded_label'] = le.fit_transform(dfc_train['label'])\n",
        "dfc_val['encoded_label'] = le.transform(dfc_val['label'])\n",
        "dfc_test['encoded_label'] = le.transform(dfc_test['label'])\n",
        "dfc_sample['encoded_label'] = le.transform(dfc_sample['label'])"
      ]
    },
    {
      "cell_type": "code",
      "execution_count": 45,
      "metadata": {
        "colab": {
          "base_uri": "https://localhost:8080/",
          "height": 676
        },
        "id": "5YGyoO0h485C",
        "outputId": "56dc71e6-e266-47c6-9eef-a667416b721b"
      },
      "outputs": [
        {
          "output_type": "execute_result",
          "data": {
            "text/plain": [
              "            word label  encoded_label\n",
              "0         pierre   NNP             12\n",
              "1         vinken   NNP             12\n",
              "3             61    CD              1\n",
              "4          years   NNS             14\n",
              "5            old    JJ              6\n",
              "7           will    MD             10\n",
              "8           join    VB             25\n",
              "9            the    DT              2\n",
              "10         board    NN             11\n",
              "11            as    IN              5\n",
              "12             a    DT              2\n",
              "13  nonexecutive    JJ              6\n",
              "14      director    NN             11\n",
              "15          nov.   NNP             12\n",
              "16            29    CD              1\n",
              "18           mr.   NNP             12\n",
              "19        vinken   NNP             12\n",
              "20            is   VBZ             30\n",
              "21      chairman    NN             11\n",
              "22            of    IN              5"
            ],
            "text/html": [
              "\n",
              "  <div id=\"df-c660a12a-defe-4b2f-b53e-dc8000257021\">\n",
              "    <div class=\"colab-df-container\">\n",
              "      <div>\n",
              "<style scoped>\n",
              "    .dataframe tbody tr th:only-of-type {\n",
              "        vertical-align: middle;\n",
              "    }\n",
              "\n",
              "    .dataframe tbody tr th {\n",
              "        vertical-align: top;\n",
              "    }\n",
              "\n",
              "    .dataframe thead th {\n",
              "        text-align: right;\n",
              "    }\n",
              "</style>\n",
              "<table border=\"1\" class=\"dataframe\">\n",
              "  <thead>\n",
              "    <tr style=\"text-align: right;\">\n",
              "      <th></th>\n",
              "      <th>word</th>\n",
              "      <th>label</th>\n",
              "      <th>encoded_label</th>\n",
              "    </tr>\n",
              "  </thead>\n",
              "  <tbody>\n",
              "    <tr>\n",
              "      <th>0</th>\n",
              "      <td>pierre</td>\n",
              "      <td>NNP</td>\n",
              "      <td>12</td>\n",
              "    </tr>\n",
              "    <tr>\n",
              "      <th>1</th>\n",
              "      <td>vinken</td>\n",
              "      <td>NNP</td>\n",
              "      <td>12</td>\n",
              "    </tr>\n",
              "    <tr>\n",
              "      <th>3</th>\n",
              "      <td>61</td>\n",
              "      <td>CD</td>\n",
              "      <td>1</td>\n",
              "    </tr>\n",
              "    <tr>\n",
              "      <th>4</th>\n",
              "      <td>years</td>\n",
              "      <td>NNS</td>\n",
              "      <td>14</td>\n",
              "    </tr>\n",
              "    <tr>\n",
              "      <th>5</th>\n",
              "      <td>old</td>\n",
              "      <td>JJ</td>\n",
              "      <td>6</td>\n",
              "    </tr>\n",
              "    <tr>\n",
              "      <th>7</th>\n",
              "      <td>will</td>\n",
              "      <td>MD</td>\n",
              "      <td>10</td>\n",
              "    </tr>\n",
              "    <tr>\n",
              "      <th>8</th>\n",
              "      <td>join</td>\n",
              "      <td>VB</td>\n",
              "      <td>25</td>\n",
              "    </tr>\n",
              "    <tr>\n",
              "      <th>9</th>\n",
              "      <td>the</td>\n",
              "      <td>DT</td>\n",
              "      <td>2</td>\n",
              "    </tr>\n",
              "    <tr>\n",
              "      <th>10</th>\n",
              "      <td>board</td>\n",
              "      <td>NN</td>\n",
              "      <td>11</td>\n",
              "    </tr>\n",
              "    <tr>\n",
              "      <th>11</th>\n",
              "      <td>as</td>\n",
              "      <td>IN</td>\n",
              "      <td>5</td>\n",
              "    </tr>\n",
              "    <tr>\n",
              "      <th>12</th>\n",
              "      <td>a</td>\n",
              "      <td>DT</td>\n",
              "      <td>2</td>\n",
              "    </tr>\n",
              "    <tr>\n",
              "      <th>13</th>\n",
              "      <td>nonexecutive</td>\n",
              "      <td>JJ</td>\n",
              "      <td>6</td>\n",
              "    </tr>\n",
              "    <tr>\n",
              "      <th>14</th>\n",
              "      <td>director</td>\n",
              "      <td>NN</td>\n",
              "      <td>11</td>\n",
              "    </tr>\n",
              "    <tr>\n",
              "      <th>15</th>\n",
              "      <td>nov.</td>\n",
              "      <td>NNP</td>\n",
              "      <td>12</td>\n",
              "    </tr>\n",
              "    <tr>\n",
              "      <th>16</th>\n",
              "      <td>29</td>\n",
              "      <td>CD</td>\n",
              "      <td>1</td>\n",
              "    </tr>\n",
              "    <tr>\n",
              "      <th>18</th>\n",
              "      <td>mr.</td>\n",
              "      <td>NNP</td>\n",
              "      <td>12</td>\n",
              "    </tr>\n",
              "    <tr>\n",
              "      <th>19</th>\n",
              "      <td>vinken</td>\n",
              "      <td>NNP</td>\n",
              "      <td>12</td>\n",
              "    </tr>\n",
              "    <tr>\n",
              "      <th>20</th>\n",
              "      <td>is</td>\n",
              "      <td>VBZ</td>\n",
              "      <td>30</td>\n",
              "    </tr>\n",
              "    <tr>\n",
              "      <th>21</th>\n",
              "      <td>chairman</td>\n",
              "      <td>NN</td>\n",
              "      <td>11</td>\n",
              "    </tr>\n",
              "    <tr>\n",
              "      <th>22</th>\n",
              "      <td>of</td>\n",
              "      <td>IN</td>\n",
              "      <td>5</td>\n",
              "    </tr>\n",
              "  </tbody>\n",
              "</table>\n",
              "</div>\n",
              "      <button class=\"colab-df-convert\" onclick=\"convertToInteractive('df-c660a12a-defe-4b2f-b53e-dc8000257021')\"\n",
              "              title=\"Convert this dataframe to an interactive table.\"\n",
              "              style=\"display:none;\">\n",
              "        \n",
              "  <svg xmlns=\"http://www.w3.org/2000/svg\" height=\"24px\"viewBox=\"0 0 24 24\"\n",
              "       width=\"24px\">\n",
              "    <path d=\"M0 0h24v24H0V0z\" fill=\"none\"/>\n",
              "    <path d=\"M18.56 5.44l.94 2.06.94-2.06 2.06-.94-2.06-.94-.94-2.06-.94 2.06-2.06.94zm-11 1L8.5 8.5l.94-2.06 2.06-.94-2.06-.94L8.5 2.5l-.94 2.06-2.06.94zm10 10l.94 2.06.94-2.06 2.06-.94-2.06-.94-.94-2.06-.94 2.06-2.06.94z\"/><path d=\"M17.41 7.96l-1.37-1.37c-.4-.4-.92-.59-1.43-.59-.52 0-1.04.2-1.43.59L10.3 9.45l-7.72 7.72c-.78.78-.78 2.05 0 2.83L4 21.41c.39.39.9.59 1.41.59.51 0 1.02-.2 1.41-.59l7.78-7.78 2.81-2.81c.8-.78.8-2.07 0-2.86zM5.41 20L4 18.59l7.72-7.72 1.47 1.35L5.41 20z\"/>\n",
              "  </svg>\n",
              "      </button>\n",
              "      \n",
              "  <style>\n",
              "    .colab-df-container {\n",
              "      display:flex;\n",
              "      flex-wrap:wrap;\n",
              "      gap: 12px;\n",
              "    }\n",
              "\n",
              "    .colab-df-convert {\n",
              "      background-color: #E8F0FE;\n",
              "      border: none;\n",
              "      border-radius: 50%;\n",
              "      cursor: pointer;\n",
              "      display: none;\n",
              "      fill: #1967D2;\n",
              "      height: 32px;\n",
              "      padding: 0 0 0 0;\n",
              "      width: 32px;\n",
              "    }\n",
              "\n",
              "    .colab-df-convert:hover {\n",
              "      background-color: #E2EBFA;\n",
              "      box-shadow: 0px 1px 2px rgba(60, 64, 67, 0.3), 0px 1px 3px 1px rgba(60, 64, 67, 0.15);\n",
              "      fill: #174EA6;\n",
              "    }\n",
              "\n",
              "    [theme=dark] .colab-df-convert {\n",
              "      background-color: #3B4455;\n",
              "      fill: #D2E3FC;\n",
              "    }\n",
              "\n",
              "    [theme=dark] .colab-df-convert:hover {\n",
              "      background-color: #434B5C;\n",
              "      box-shadow: 0px 1px 3px 1px rgba(0, 0, 0, 0.15);\n",
              "      filter: drop-shadow(0px 1px 2px rgba(0, 0, 0, 0.3));\n",
              "      fill: #FFFFFF;\n",
              "    }\n",
              "  </style>\n",
              "\n",
              "      <script>\n",
              "        const buttonEl =\n",
              "          document.querySelector('#df-c660a12a-defe-4b2f-b53e-dc8000257021 button.colab-df-convert');\n",
              "        buttonEl.style.display =\n",
              "          google.colab.kernel.accessAllowed ? 'block' : 'none';\n",
              "\n",
              "        async function convertToInteractive(key) {\n",
              "          const element = document.querySelector('#df-c660a12a-defe-4b2f-b53e-dc8000257021');\n",
              "          const dataTable =\n",
              "            await google.colab.kernel.invokeFunction('convertToInteractive',\n",
              "                                                     [key], {});\n",
              "          if (!dataTable) return;\n",
              "\n",
              "          const docLinkHtml = 'Like what you see? Visit the ' +\n",
              "            '<a target=\"_blank\" href=https://colab.research.google.com/notebooks/data_table.ipynb>data table notebook</a>'\n",
              "            + ' to learn more about interactive tables.';\n",
              "          element.innerHTML = '';\n",
              "          dataTable['output_type'] = 'display_data';\n",
              "          await google.colab.output.renderOutput(dataTable, element);\n",
              "          const docLink = document.createElement('div');\n",
              "          docLink.innerHTML = docLinkHtml;\n",
              "          element.appendChild(docLink);\n",
              "        }\n",
              "      </script>\n",
              "    </div>\n",
              "  </div>\n",
              "  "
            ]
          },
          "metadata": {},
          "execution_count": 45
        }
      ],
      "source": [
        "dfc_train.head(20)"
      ]
    },
    {
      "cell_type": "markdown",
      "metadata": {
        "id": "yS7M36zPrBip"
      },
      "source": [
        "Transform the text into a sequence of integers using the tokenizer defined before. "
      ]
    },
    {
      "cell_type": "code",
      "execution_count": 46,
      "metadata": {
        "colab": {
          "base_uri": "https://localhost:8080/"
        },
        "id": "72n2_dZHDprc",
        "outputId": "24b1cd36-e614-4230-d2f8-6181e6c3660f"
      },
      "outputs": [
        {
          "output_type": "execute_result",
          "data": {
            "text/plain": [
              "35"
            ]
          },
          "metadata": {},
          "execution_count": 46
        }
      ],
      "source": [
        "x_train = np.array(tokenizer.texts_to_sequences(list(dfc_train.word.values))) \n",
        "y_train = np.array( dfc_train['encoded_label'])\n",
        "\n",
        "x_val = np.array(tokenizer.texts_to_sequences(dfc_val.word.values))\n",
        "y_val = np.array(dfc_val['encoded_label'])\n",
        "\n",
        "x_test = np.array(tokenizer.texts_to_sequences(dfc_test.word.values))\n",
        "y_test = np.array(dfc_test['encoded_label'])\n",
        "\n",
        "x_sample = np.array(tokenizer.texts_to_sequences(dfc_sample.word.values))\n",
        "y_sample = np.array(dfc_sample['encoded_label'])\n",
        "\n",
        "#number of unique labels\n",
        "num_classes = len(np.unique(y_train))\n",
        "num_classes\n"
      ]
    },
    {
      "cell_type": "markdown",
      "metadata": {
        "id": "51RMHWA0r2ep"
      },
      "source": [
        "Pad the sequences to make them of same length before passing them to the model."
      ]
    },
    {
      "cell_type": "code",
      "execution_count": 47,
      "metadata": {
        "colab": {
          "base_uri": "https://localhost:8080/"
        },
        "id": "Lzxixj0QExD7",
        "outputId": "f6ddb842-df57-4af4-c276-80a009fef258"
      },
      "outputs": [
        {
          "output_type": "stream",
          "name": "stdout",
          "text": [
            "X train shape: (41274, 1)\n",
            "Y train shape: (41274,)\n",
            "type:<class 'numpy.ndarray'>\n",
            "X val shape: (27418, 1)\n",
            "Y val shape: (27418,)\n",
            "type:<class 'numpy.ndarray'>\n",
            "X test shape: (13676, 1) (13676, 1)\n",
            "Y test shape: (13676,) (13676,)\n"
          ]
        }
      ],
      "source": [
        "from tensorflow.keras.preprocessing.sequence import pad_sequences\n",
        "\n",
        "x_train = pad_sequences(x_train, maxlen=1, padding='post')\n",
        "x_val = pad_sequences(x_val, maxlen=1, padding='post')\n",
        "x_test = pad_sequences(x_test, maxlen=1, padding='post')\n",
        "x_sample = pad_sequences(x_sample, maxlen=1, padding='post')\n",
        "\n",
        "#Train\n",
        "print(f'X train shape: {x_train.shape}')\n",
        "print(f'Y train shape: {y_train.shape}')\n",
        "print(f'type:{type(x_train)}')\n",
        "\n",
        "# Val\n",
        "print(f'X val shape: {x_val.shape}')\n",
        "print(f'Y val shape: {y_val.shape}')\n",
        "print(f'type:{type(y_train)}')\n",
        "# Test\n",
        "\n",
        "print(f'X test shape: {x_test.shape}', x_test.shape)\n",
        "print(f'Y test shape: {y_test.shape}', y_test.shape)"
      ]
    },
    {
      "cell_type": "code",
      "execution_count": 48,
      "metadata": {
        "id": "NHZTtqWB485D"
      },
      "outputs": [],
      "source": [
        "vocab_size = len(tokenizer.word_index) + 1"
      ]
    },
    {
      "cell_type": "markdown",
      "metadata": {
        "id": "gMFmoGtIOw55"
      },
      "source": [
        "## Utility methods"
      ]
    },
    {
      "cell_type": "code",
      "execution_count": 49,
      "metadata": {
        "id": "94MnbDUNOw55"
      },
      "outputs": [],
      "source": [
        "import tensorflow as tf\n",
        "from tensorflow import keras\n",
        "from tensorflow.keras import layers\n",
        "from typing import List, Dict, Callable\n",
        "import random"
      ]
    },
    {
      "cell_type": "code",
      "execution_count": 50,
      "metadata": {
        "id": "U0Nhlo_pOw55"
      },
      "outputs": [],
      "source": [
        "def set_reproducibility(seed):\n",
        "    random.seed(seed)\n",
        "    np.random.seed(seed)\n",
        "    tf.random.set_seed(seed)\n",
        "    os.environ['TF_DETERMINISTIC_OPS'] = '1'"
      ]
    },
    {
      "cell_type": "code",
      "execution_count": 51,
      "metadata": {
        "id": "cirp5kg8Ow55"
      },
      "outputs": [],
      "source": [
        "def create_model(layers_info: List[Dict], compile_info: Dict) -> keras.Model:\n",
        "    \"\"\"\n",
        "    Create a Keras model given a list of layer information\n",
        "\n",
        "    :param layers_info: a list of dictionaries, one for each layer\n",
        "    :param compile_info: dictionary containing compile information\n",
        "\n",
        "    :return\n",
        "        model: the built keras sequential model\n",
        "    \"\"\"\n",
        "    set_reproducibility(42)\n",
        "    model = keras.Sequential()\n",
        "    for _, info in enumerate(layers_info):\n",
        "        layer = info['mlayer'](**{key: value for key, value in info.items() if key != 'mlayer'})\n",
        "        model.add(layer)\n",
        "\n",
        "    model.summary()\n",
        "    model.compile(**compile_info)\n",
        "    return model"
      ]
    },
    {
      "cell_type": "code",
      "execution_count": 52,
      "metadata": {
        "id": "Ms1V5PuwOw56"
      },
      "outputs": [],
      "source": [
        "import matplotlib.pyplot as plt\n",
        "from functools import partial\n",
        "from keras.callbacks import History\n",
        "\n",
        "def show_history(history: History):\n",
        "    \"\"\"\n",
        "    Shows training history data stored by the History Keras callback\n",
        "\n",
        "    :param history: History Keras callback\n",
        "    \"\"\"\n",
        "    history_data = history.history\n",
        "    print(f\"Displaying the following history keys: {history_data.keys()}\")\n",
        "    \n",
        "    for key, value in history_data.items():\n",
        "        if not key.startswith('val'):\n",
        "            fig, ax = plt.subplots(1, 1)\n",
        "            ax.set_title(key)\n",
        "            ax.plot(value)\n",
        "            if f'val_{key}' in history_data:\n",
        "                ax.plot(history_data[f'val_{key}'])\n",
        "            else:\n",
        "                print(f\"Couldn't find validation values for metric: {key}\")\n",
        "\n",
        "            ax.set_ylabel(key)\n",
        "            ax.set_xlabel('epoch')\n",
        "            ax.legend(['train', 'val'], loc='best')\n",
        "            plt.grid(True)\n",
        "        plt.show()"
      ]
    },
    {
      "cell_type": "code",
      "execution_count": 53,
      "metadata": {
        "id": "Zw1zm9xVOw56"
      },
      "outputs": [],
      "source": [
        "def train_model(model: keras.Model, training_info: Dict):\n",
        "    \"\"\"\n",
        "    Training routine for the Keras model.\n",
        "    At the end of the training, retrieved History data is shown.\n",
        "\n",
        "    :param model: Keras built model\n",
        "    :param training_info: dictionary storing model fit() argument information\n",
        "\n",
        "    :return\n",
        "        model: trained Keras model\n",
        "    \"\"\"\n",
        "\n",
        "    print(f\"Start training! \\nParameters: {training_info}\")\n",
        "\n",
        "    history = model.fit(x=x_train, y=y_train,\n",
        "                        validation_data=(x_val, y_val),\n",
        "                        **training_info)\n",
        "    print(\"Training completed!\")\n",
        "\n",
        "    print(\"Showing history...\")\n",
        "    show_history(history)\n",
        "\n",
        "    return model"
      ]
    },
    {
      "cell_type": "code",
      "execution_count": 54,
      "metadata": {
        "id": "hSj5Ie1gOw56"
      },
      "outputs": [],
      "source": [
        "def predict_data(model: keras.Model,\n",
        "                x: np.ndarray,\n",
        "                prediction_info: Dict):\n",
        "    \"\"\"\n",
        "    Inference routine of a given input set of examples\n",
        "\n",
        "    :param model: Keras built and possibly trained model\n",
        "    :param x: input set of examples in np.ndarray format\n",
        "    :param prediction_info: dictionary storing model predict() argument information\n",
        "\n",
        "    :return\n",
        "        predictions: predicted labels in np.ndarray format\n",
        "    \"\"\"\n",
        "    print(f'Starting prediction: \\n{prediction_info}')\n",
        "    print(f'Predicting on {x.shape[0]} samples')\n",
        "    predictions = model.predict(x, **prediction_info)\n",
        "    return predictions"
      ]
    },
    {
      "cell_type": "code",
      "execution_count": 55,
      "metadata": {
        "id": "sJl37gYEOw56"
      },
      "outputs": [],
      "source": [
        "from sklearn.metrics import f1_score\n",
        "\n",
        "def compute_f1(model: keras.Model, \n",
        "             x: np.ndarray, \n",
        "             y: np.ndarray):\n",
        "    \"\"\"\n",
        "    Compute F1_score on the given data with corresponding labels\n",
        "\n",
        "    :param model: Keras built and possibly trained model\n",
        "    :param x: data in np.ndarray format\n",
        "    :param y: ground-truth labels in np.ndarray format\n",
        "\n",
        "    :return\n",
        "        score: f1_macro_score\n",
        "    \"\"\"\n",
        "    #predictions on the x set\n",
        "    prediction_info = {\n",
        "        'batch_size': 64,\n",
        "        'verbose': 1\n",
        "    }\n",
        "    y_pred = predict_data(model=model, x=x, prediction_info=prediction_info)\n",
        "\n",
        "    #compute argmax to take the best class for each sample\n",
        "    y_pred = np.argmax(y_pred, axis=1)\n",
        "    #compute the f1_macro\n",
        "    score = f1_score(y, y_pred, average ='macro')\n",
        "    return score"
      ]
    },
    {
      "cell_type": "markdown",
      "metadata": {
        "id": "7FTlmNoGi8CF"
      },
      "source": [
        "## Baseline model: LSTM"
      ]
    },
    {
      "cell_type": "markdown",
      "metadata": {
        "id": "LCcVYGrNsQ-x"
      },
      "source": [
        "### Define the model"
      ]
    },
    {
      "cell_type": "code",
      "execution_count": 81,
      "metadata": {
        "colab": {
          "base_uri": "https://localhost:8080/"
        },
        "id": "RyfvHkUZ1wEU",
        "outputId": "e400965b-d224-420e-bee0-761c19f2b66f"
      },
      "outputs": [
        {
          "output_type": "stream",
          "name": "stdout",
          "text": [
            "Model: \"sequential_8\"\n",
            "_________________________________________________________________\n",
            " Layer (type)                Output Shape              Param #   \n",
            "=================================================================\n",
            " embedding_layer (Embedding)  (None, 1, 50)            20033650  \n",
            "                                                                 \n",
            " LSTM (Bidirectional)        (None, 256)               183296    \n",
            "                                                                 \n",
            " logits (Dense)              (None, 35)                8995      \n",
            "                                                                 \n",
            "=================================================================\n",
            "Total params: 20,225,941\n",
            "Trainable params: 192,291\n",
            "Non-trainable params: 20,033,650\n",
            "_________________________________________________________________\n"
          ]
        }
      ],
      "source": [
        "from tensorflow.keras.models import Sequential\n",
        "from tensorflow.keras.layers import Embedding, Dense, LSTM, Bidirectional \n",
        "from tensorflow.keras.optimizers import Adam\n",
        "\n",
        "base_layers_info = [\n",
        "    {\n",
        "        \"mlayer\": layers.Embedding,        \n",
        "        'input_dim': vocab_size,\n",
        "        \"output_dim\" : embedding_dimension,\n",
        "        \"input_length\" : 1,\n",
        "        \"weights\" : [embedding_matrix],\n",
        "        \"trainable\" : False,\n",
        "        \"name\" : \"embedding_layer\"\n",
        "    },\n",
        "    {\n",
        "        \"mlayer\": layers.Bidirectional,\n",
        "        \"layer\": LSTM(128, activation=\"tanh\"),\n",
        "        \"name\" : 'LSTM'\n",
        "    },\n",
        "    {\n",
        "        \"mlayer\": layers.Dense,\n",
        "        \"units\": num_classes,\n",
        "        \"activation\" : 'softmax',\n",
        "        'name' : 'logits'\n",
        "    }\n",
        "]\n",
        "\n",
        "base_compile_info = {\n",
        "    'optimizer': Adam(),\n",
        "    'loss': 'sparse_categorical_crossentropy',\n",
        "    'metrics': ['accuracy']\n",
        "}\n",
        "\n",
        "base_model = create_model(base_layers_info, base_compile_info)"
      ]
    },
    {
      "cell_type": "code",
      "execution_count": 82,
      "metadata": {
        "colab": {
          "base_uri": "https://localhost:8080/",
          "height": 660
        },
        "id": "ZY8zv1dvQM3A",
        "outputId": "8c36327b-2884-42c9-87ba-864c474fc4e4"
      },
      "outputs": [
        {
          "output_type": "stream",
          "name": "stdout",
          "text": [
            "Start training! \n",
            "Parameters: {'verbose': 0, 'epochs': 30, 'batch_size': 64}\n",
            "Training completed!\n",
            "Showing history...\n",
            "Displaying the following history keys: dict_keys(['loss', 'accuracy', 'val_loss', 'val_accuracy'])\n"
          ]
        },
        {
          "output_type": "display_data",
          "data": {
            "text/plain": [
              "<Figure size 432x288 with 1 Axes>"
            ],
            "image/png": "[encoded data removed]"
          },
          "metadata": {
            "needs_background": "light"
          }
        },
        {
          "output_type": "display_data",
          "data": {
            "text/plain": [
              "<Figure size 432x288 with 1 Axes>"
            ],
            "image/png": "[encoded data removed]"
          },
          "metadata": {
            "needs_background": "light"
          }
        }
      ],
      "source": [
        "# Train\n",
        " \n",
        "base_training_info = {\n",
        "    'verbose': 0,\n",
        "    'epochs' : 30,\n",
        "    'batch_size' : 64\n",
        "}\n",
        "\n",
        "base_model = train_model(model=base_model,training_info = base_training_info)"
      ]
    },
    {
      "cell_type": "markdown",
      "metadata": {
        "id": "Jl8xoLex485H"
      },
      "source": [
        "#### F1-Macro evaluation"
      ]
    },
    {
      "cell_type": "code",
      "execution_count": 83,
      "metadata": {
        "id": "scAXLwfRJrS4",
        "outputId": "b6386333-6fff-4099-a30a-3a9508bbfb5e",
        "colab": {
          "base_uri": "https://localhost:8080/"
        }
      },
      "outputs": [
        {
          "output_type": "stream",
          "name": "stdout",
          "text": [
            "857/857 [==============================] - 3s 3ms/step - loss: 0.4499 - accuracy: 0.8618\n",
            "Model loss: 0.4499131441116333, accuracy: 0.8618425726890564\n",
            "Starting prediction: \n",
            "{'batch_size': 64, 'verbose': 1}\n",
            "Predicting on 27418 samples\n",
            "429/429 [==============================] - 2s 2ms/step\n",
            "F1_score on the validation set is: 0.6986727938524173\n",
            "Starting prediction: \n",
            "{'batch_size': 64, 'verbose': 1}\n",
            "Predicting on 13676 samples\n",
            "214/214 [==============================] - 1s 2ms/step\n",
            "F1_score on the test set is: 0.7821068841052768\n"
          ]
        }
      ],
      "source": [
        "loss, accuracy = base_model.evaluate(x_val, y_val)\n",
        "print(f\"Model loss: {loss}, accuracy: {accuracy}\")\n",
        "\n",
        "# Inference and evaluate\n",
        "\n",
        "base_score = compute_f1(base_model, x_val, y_val)\n",
        "print(f'F1_score on the validation set is: {base_score}')\n",
        "\n",
        "base_score = compute_f1(base_model, x_test, y_test)\n",
        "print(f'F1_score on the test set is: {base_score}')"
      ]
    },
    {
      "cell_type": "markdown",
      "metadata": {
        "id": "XX2nnMyoOw59"
      },
      "source": [
        "#### Sample test"
      ]
    },
    {
      "cell_type": "code",
      "execution_count": 64,
      "metadata": {
        "id": "wv7QQ2Y0Ow59",
        "outputId": "7e6324e7-4c21-4519-a66f-d6392f3dc380",
        "colab": {
          "base_uri": "https://localhost:8080/"
        }
      },
      "outputs": [
        {
          "output_type": "stream",
          "name": "stdout",
          "text": [
            "1/1 [==============================] - 0s 21ms/step\n",
            "12 \t 12 \t ok \t pierre\n",
            "12 \t 12 \t ok \t vinken\n",
            "1 \t 1 \t ok \t 61\n",
            "14 \t 14 \t ok \t years\n",
            "6 \t 6 \t ok \t old\n",
            "10 \t 10 \t ok \t will\n",
            "25 \t 25 \t ok \t join\n",
            "2 \t 2 \t ok \t the\n",
            "12 \t 11 \t ERR \t board\n",
            "5 \t 5 \t ok \t as\n",
            "2 \t 2 \t ok \t a\n",
            "6 \t 6 \t ok \t nonexecutive\n",
            "11 \t 11 \t ok \t director\n",
            "12 \t 12 \t ok \t nov.\n",
            "1 \t 1 \t ok \t 29\n",
            "12 \t 12 \t ok \t mr.\n",
            "12 \t 12 \t ok \t vinken\n",
            "30 \t 30 \t ok \t is\n",
            "11 \t 11 \t ok \t chairman\n",
            "5 \t 5 \t ok \t of\n",
            "12 \t 12 \t ok \t elsevier\n",
            "12 \t 12 \t ok \t n.v.\n",
            "2 \t 2 \t ok \t the\n",
            "12 \t 12 \t ok \t dutch\n",
            "11 \t 27 \t ERR \t publishing\n",
            "11 \t 11 \t ok \t group\n"
          ]
        }
      ],
      "source": [
        "x_sample_text = tokenizer.sequences_to_texts(x_sample)\n",
        "y_pred_sample_onehot = base_model.predict(x_sample)\n",
        "y_pred_sample = np.argmax(y_pred_sample_onehot, axis=1)\n",
        "for i in range(x_sample.size):\n",
        "    print(f\"{y_pred_sample[i]} \\t {y_sample[i]} \\t {'ok' if y_pred_sample[i]==y_sample[i] else 'ERR'} \\t {x_sample_text[i]}\")"
      ]
    },
    {
      "cell_type": "markdown",
      "metadata": {
        "id": "Jjm_29f4i8CG"
      },
      "source": [
        "## Model A: GRU"
      ]
    },
    {
      "cell_type": "markdown",
      "metadata": {
        "id": "hhyr0auV485I"
      },
      "source": [
        "GRU is a simpler alternative to LSTM's architecture, less effective but with a faster train.\n",
        "</br>Two layers architecture: a Bidirectional GRU layer and a Dense/FC layer on top. "
      ]
    },
    {
      "cell_type": "code",
      "execution_count": 65,
      "metadata": {
        "id": "53xpFPP4485I",
        "outputId": "97c928f0-584b-445a-9391-c8d3b4c8c78b",
        "colab": {
          "base_uri": "https://localhost:8080/"
        }
      },
      "outputs": [
        {
          "output_type": "stream",
          "name": "stdout",
          "text": [
            "Model: \"sequential_1\"\n",
            "_________________________________________________________________\n",
            " Layer (type)                Output Shape              Param #   \n",
            "=================================================================\n",
            " embedding (Embedding)       (None, 1, 50)             20033650  \n",
            "                                                                 \n",
            " GRU (Bidirectional)         (None, 64)                16128     \n",
            "                                                                 \n",
            " logits (Dense)              (None, 35)                2275      \n",
            "                                                                 \n",
            "=================================================================\n",
            "Total params: 20,052,053\n",
            "Trainable params: 18,403\n",
            "Non-trainable params: 20,033,650\n",
            "_________________________________________________________________\n"
          ]
        }
      ],
      "source": [
        "# Create model\n",
        "\n",
        "from tensorflow.keras.layers import GRU\n",
        "\n",
        "gru_layers_info = [\n",
        "    {\n",
        "        \"mlayer\": layers.Embedding,\n",
        "        \"output_dim\" : embedding_dimension,\n",
        "        \"input_dim\" : vocab_size,\n",
        "        \"input_length\" : 1,\n",
        "        \"weights\" : [embedding_matrix],\n",
        "        \"trainable\" : False,\n",
        "        \"name\" : \"embedding\"\n",
        "    },\n",
        "    {\n",
        "        \"mlayer\": layers.Bidirectional,\n",
        "        \"layer\": GRU(32, activation=\"tanh\") , \n",
        "        'name' : 'GRU'     \n",
        "    },\n",
        "    {\n",
        "        \"mlayer\": layers.Dense,\n",
        "        \"units\":num_classes,\n",
        "        \"activation\" : 'softmax',\n",
        "        'name' : 'logits'\n",
        "    }\n",
        "]\n",
        "\n",
        "gru_compile_info = {\n",
        "    'optimizer': Adam(learning_rate=1e-3),\n",
        "    'loss': 'sparse_categorical_crossentropy',\n",
        "    'metrics': ['accuracy']\n",
        "}\n",
        "\n",
        "gru_model = create_model(gru_layers_info, gru_compile_info)"
      ]
    },
    {
      "cell_type": "code",
      "execution_count": 66,
      "metadata": {
        "id": "hPcXmqzj485J",
        "outputId": "405af660-29cf-47a1-d21f-04f14c38c776",
        "colab": {
          "base_uri": "https://localhost:8080/",
          "height": 0
        }
      },
      "outputs": [
        {
          "output_type": "stream",
          "name": "stdout",
          "text": [
            "Start training! \n",
            "Parameters: {'verbose': 0, 'epochs': 30, 'batch_size': 64}\n",
            "Training completed!\n",
            "Showing history...\n",
            "Displaying the following history keys: dict_keys(['loss', 'accuracy', 'val_loss', 'val_accuracy'])\n"
          ]
        },
        {
          "output_type": "display_data",
          "data": {
            "text/plain": [
              "<Figure size 432x288 with 1 Axes>"
            ],
            "image/png": "[encoded data removed]"
          },
          "metadata": {
            "needs_background": "light"
          }
        },
        {
          "output_type": "display_data",
          "data": {
            "text/plain": [
              "<Figure size 432x288 with 1 Axes>"
            ],
            "image/png": "[encoded data removed]"
          },
          "metadata": {
            "needs_background": "light"
          }
        }
      ],
      "source": [
        "# Train\n",
        " \n",
        "gru_training_info = {\n",
        "    'verbose': 0,\n",
        "    'epochs' : 30,\n",
        "    'batch_size' : 64\n",
        "}\n",
        "\n",
        "gru_model = train_model(model=gru_model,training_info = gru_training_info)"
      ]
    },
    {
      "cell_type": "markdown",
      "metadata": {
        "id": "iYuiRWK9Ow5-"
      },
      "source": [
        "#### F1-Macro evaluation"
      ]
    },
    {
      "cell_type": "code",
      "execution_count": 67,
      "metadata": {
        "id": "xZo7nP0WOw5-",
        "outputId": "4b754ca8-5ee5-4496-f471-a44159f187af",
        "colab": {
          "base_uri": "https://localhost:8080/"
        }
      },
      "outputs": [
        {
          "output_type": "stream",
          "name": "stdout",
          "text": [
            "857/857 [==============================] - 3s 3ms/step - loss: 0.5125 - accuracy: 0.8464\n",
            "Model loss: 0.5124650001525879, accuracy: 0.8464147448539734\n",
            "Starting prediction: \n",
            "{'batch_size': 64, 'verbose': 1}\n",
            "Predicting on 27418 samples\n",
            "429/429 [==============================] - 1s 2ms/step\n",
            "F1_score on the validation set is: 0.6895204178783292\n",
            "Starting prediction: \n",
            "{'batch_size': 64, 'verbose': 1}\n",
            "Predicting on 13676 samples\n",
            "214/214 [==============================] - 0s 2ms/step\n",
            "F1_score on the test set is: 0.7702999005168205\n"
          ]
        }
      ],
      "source": [
        "loss, accuracy = gru_model.evaluate(x_val, y_val)\n",
        "print(f\"Model loss: {loss}, accuracy: {accuracy}\")\n",
        "\n",
        "# Inference and evaluate\n",
        "\n",
        "gru_score = compute_f1(gru_model, x_val, y_val)\n",
        "print(f'F1_score on the validation set is: {gru_score}')\n",
        "\n",
        "gru_score = compute_f1(gru_model, x_test, y_test)\n",
        "print(f'F1_score on the test set is: {gru_score}')"
      ]
    },
    {
      "cell_type": "markdown",
      "metadata": {
        "id": "6bM9ZWFAi8CG"
      },
      "source": [
        "## Model B: 2x LSTM "
      ]
    },
    {
      "cell_type": "markdown",
      "metadata": {
        "id": "Acw-9iYOHFEf"
      },
      "source": [
        "A dictionary with some hyperparameters to test on the LSTM layers. At the end of the process, for each of the models, the f1_macro will be printed."
      ]
    },
    {
      "cell_type": "code",
      "execution_count": 68,
      "metadata": {
        "id": "Bizr1VqXHFEg"
      },
      "outputs": [],
      "source": [
        "hp_b = {\n",
        "    'hp1_1' : {\n",
        "        'lstm_1' : {\n",
        "            'units' : 14,\n",
        "            'return_sequences' : True,\n",
        "            'dropout' : 0.1\n",
        "        },\n",
        "        'lstm_2' : {\n",
        "            'units' : 28,\n",
        "            'return_sequences' : False,\n",
        "            'dropout' : 0.1\n",
        "        },\n",
        "        'learning_rate' : 1.5e-3\n",
        "    },\n",
        "    'hp1_2' : {\n",
        "        'lstm_1' : {\n",
        "            'units' : 14,\n",
        "            'return_sequences' : True,\n",
        "            'dropout' : 0\n",
        "        },\n",
        "        'lstm_2' : {\n",
        "            'units' : 28,\n",
        "            'return_sequences' : False,\n",
        "            'dropout' : 0\n",
        "        },\n",
        "        'learning_rate' : 1.5e-3\n",
        "    },\n",
        "    'hp2_1' : {\n",
        "        'lstm_1' : {\n",
        "            'units' : 28,\n",
        "            'return_sequences' : True,\n",
        "            'dropout' : 0.1\n",
        "        },\n",
        "        'lstm_2' : {\n",
        "            'units' : 14,\n",
        "            'return_sequences' : False,\n",
        "            'dropout' : 0.1\n",
        "        },\n",
        "        'learning_rate' : 1.5e-3\n",
        "    },\n",
        "    'hp2_2' : {\n",
        "        'lstm_1' : {\n",
        "            'units' : 28,\n",
        "            'return_sequences' : True,\n",
        "            'dropout' : 0\n",
        "        },\n",
        "        'lstm_2' : {\n",
        "            'units' : 14,\n",
        "            'return_sequences' : False,\n",
        "            'dropout' : 0\n",
        "        },\n",
        "        'learning_rate' : 1.5e-3\n",
        "    },\n",
        "    'hp3' : {\n",
        "        'lstm_1' : {\n",
        "            'units' : 128,\n",
        "            'return_sequences' : True,\n",
        "            'dropout' : 0\n",
        "        },\n",
        "        'lstm_2' : {\n",
        "            'units' : 128,\n",
        "            'return_sequences' : False,\n",
        "            'dropout' : 0\n",
        "        },\n",
        "        'learning_rate' : 1.0e-3\n",
        "    }\n",
        "    \n",
        "}"
      ]
    },
    {
      "cell_type": "markdown",
      "metadata": {
        "id": "OC5b5l9XHFEg"
      },
      "source": [
        "This array will store all the f1_scores calculated with the compute_f1 function."
      ]
    },
    {
      "cell_type": "code",
      "execution_count": 69,
      "metadata": {
        "id": "loOMyX4wHFEg"
      },
      "outputs": [],
      "source": [
        "results_x2lstm = []"
      ]
    },
    {
      "cell_type": "markdown",
      "metadata": {
        "id": "9MPBJ20AHFEh"
      },
      "source": [
        "Setup of the loop for creation, fit, evaluation of the 2xLSTM models with the dictionary of hyperparameters."
      ]
    },
    {
      "cell_type": "code",
      "execution_count": 70,
      "metadata": {
        "id": "hVqg81vai8CG",
        "outputId": "fc0daeb0-59d6-4700-b90a-c1cc22bb75cb",
        "colab": {
          "base_uri": "https://localhost:8080/"
        }
      },
      "outputs": [
        {
          "output_type": "stream",
          "name": "stdout",
          "text": [
            "Model: \"sequential_2\"\n",
            "_________________________________________________________________\n",
            " Layer (type)                Output Shape              Param #   \n",
            "=================================================================\n",
            " embedding (Embedding)       (None, 1, 50)             20033650  \n",
            "                                                                 \n",
            " bidirectional (Bidirectiona  (None, 1, 28)            7280      \n",
            " l)                                                              \n",
            "                                                                 \n",
            " bidirectional_1 (Bidirectio  (None, 56)               12768     \n",
            " nal)                                                            \n",
            "                                                                 \n",
            " dense (Dense)               (None, 35)                1995      \n",
            "                                                                 \n",
            "=================================================================\n",
            "Total params: 20,055,693\n",
            "Trainable params: 22,043\n",
            "Non-trainable params: 20,033,650\n",
            "_________________________________________________________________\n",
            "Epoch 1/30\n",
            "323/323 [==============================] - 10s 14ms/step - loss: 2.2017 - accuracy: 0.4074 - val_loss: 1.3624 - val_accuracy: 0.6149\n",
            "Epoch 2/30\n",
            "323/323 [==============================] - 4s 12ms/step - loss: 1.2338 - accuracy: 0.6391 - val_loss: 1.0377 - val_accuracy: 0.6869\n",
            "Epoch 3/30\n",
            "323/323 [==============================] - 4s 11ms/step - loss: 1.0418 - accuracy: 0.6876 - val_loss: 0.9195 - val_accuracy: 0.7268\n",
            "Epoch 4/30\n",
            "323/323 [==============================] - 4s 13ms/step - loss: 0.9494 - accuracy: 0.7144 - val_loss: 0.8454 - val_accuracy: 0.7528\n",
            "Epoch 5/30\n",
            "323/323 [==============================] - 3s 10ms/step - loss: 0.8895 - accuracy: 0.7331 - val_loss: 0.7997 - val_accuracy: 0.7588\n",
            "Epoch 6/30\n",
            "323/323 [==============================] - 3s 10ms/step - loss: 0.8495 - accuracy: 0.7448 - val_loss: 0.7646 - val_accuracy: 0.7656\n",
            "Epoch 7/30\n",
            "323/323 [==============================] - 3s 10ms/step - loss: 0.8152 - accuracy: 0.7505 - val_loss: 0.7387 - val_accuracy: 0.7723\n",
            "Epoch 8/30\n",
            "323/323 [==============================] - 3s 10ms/step - loss: 0.7930 - accuracy: 0.7550 - val_loss: 0.7161 - val_accuracy: 0.7766\n",
            "Epoch 9/30\n",
            "323/323 [==============================] - 3s 11ms/step - loss: 0.7645 - accuracy: 0.7637 - val_loss: 0.6968 - val_accuracy: 0.7834\n",
            "Epoch 10/30\n",
            "323/323 [==============================] - 4s 12ms/step - loss: 0.7518 - accuracy: 0.7675 - val_loss: 0.6841 - val_accuracy: 0.7859\n",
            "Epoch 11/30\n",
            "323/323 [==============================] - 3s 10ms/step - loss: 0.7343 - accuracy: 0.7702 - val_loss: 0.6675 - val_accuracy: 0.7898\n",
            "Epoch 12/30\n",
            "323/323 [==============================] - 3s 10ms/step - loss: 0.7169 - accuracy: 0.7749 - val_loss: 0.6581 - val_accuracy: 0.7929\n",
            "Epoch 13/30\n",
            "323/323 [==============================] - 3s 10ms/step - loss: 0.7068 - accuracy: 0.7777 - val_loss: 0.6469 - val_accuracy: 0.7950\n",
            "Epoch 14/30\n",
            "323/323 [==============================] - 3s 10ms/step - loss: 0.6917 - accuracy: 0.7835 - val_loss: 0.6354 - val_accuracy: 0.7983\n",
            "Epoch 15/30\n",
            "323/323 [==============================] - 4s 12ms/step - loss: 0.6826 - accuracy: 0.7849 - val_loss: 0.6275 - val_accuracy: 0.7995\n",
            "Epoch 16/30\n",
            "323/323 [==============================] - 3s 10ms/step - loss: 0.6755 - accuracy: 0.7856 - val_loss: 0.6226 - val_accuracy: 0.8009\n",
            "Epoch 17/30\n",
            "323/323 [==============================] - 3s 10ms/step - loss: 0.6693 - accuracy: 0.7879 - val_loss: 0.6138 - val_accuracy: 0.8048\n",
            "Epoch 18/30\n",
            "323/323 [==============================] - 3s 10ms/step - loss: 0.6607 - accuracy: 0.7896 - val_loss: 0.6080 - val_accuracy: 0.8039\n",
            "Epoch 19/30\n",
            "323/323 [==============================] - 3s 11ms/step - loss: 0.6534 - accuracy: 0.7917 - val_loss: 0.6023 - val_accuracy: 0.8081\n",
            "Epoch 20/30\n",
            "323/323 [==============================] - 3s 11ms/step - loss: 0.6446 - accuracy: 0.7954 - val_loss: 0.5926 - val_accuracy: 0.8100\n",
            "Epoch 21/30\n",
            "323/323 [==============================] - 3s 11ms/step - loss: 0.6388 - accuracy: 0.7956 - val_loss: 0.5904 - val_accuracy: 0.8137\n",
            "Epoch 22/30\n",
            "323/323 [==============================] - 3s 11ms/step - loss: 0.6316 - accuracy: 0.7971 - val_loss: 0.5865 - val_accuracy: 0.8123\n",
            "Epoch 23/30\n",
            "323/323 [==============================] - 3s 11ms/step - loss: 0.6296 - accuracy: 0.7999 - val_loss: 0.5821 - val_accuracy: 0.8117\n",
            "Epoch 24/30\n",
            "323/323 [==============================] - 3s 10ms/step - loss: 0.6231 - accuracy: 0.8004 - val_loss: 0.5755 - val_accuracy: 0.8156\n",
            "Epoch 25/30\n",
            "323/323 [==============================] - 4s 12ms/step - loss: 0.6207 - accuracy: 0.8019 - val_loss: 0.5744 - val_accuracy: 0.8158\n",
            "Epoch 26/30\n",
            "323/323 [==============================] - 3s 10ms/step - loss: 0.6204 - accuracy: 0.8015 - val_loss: 0.5734 - val_accuracy: 0.8167\n",
            "Epoch 27/30\n",
            "323/323 [==============================] - 4s 12ms/step - loss: 0.6121 - accuracy: 0.8046 - val_loss: 0.5704 - val_accuracy: 0.8173\n",
            "Epoch 28/30\n",
            "323/323 [==============================] - 3s 11ms/step - loss: 0.6047 - accuracy: 0.8070 - val_loss: 0.5658 - val_accuracy: 0.8197\n",
            "Epoch 29/30\n",
            "323/323 [==============================] - 3s 10ms/step - loss: 0.6021 - accuracy: 0.8067 - val_loss: 0.5626 - val_accuracy: 0.8189\n",
            "Epoch 30/30\n",
            "323/323 [==============================] - 3s 10ms/step - loss: 0.5966 - accuracy: 0.8090 - val_loss: 0.5592 - val_accuracy: 0.8187\n",
            "======================================== hp1_1 ========================================\n",
            "857/857 [==============================] - 3s 4ms/step - loss: 0.5592 - accuracy: 0.8187\n",
            "Model loss: 0.5591667890548706, accuracy: 0.818659245967865\n",
            "Starting prediction: \n",
            "{'batch_size': 64, 'verbose': 1}\n",
            "Predicting on 27418 samples\n",
            "429/429 [==============================] - 2s 3ms/step\n",
            "F1_score on the validation set is: 0.6683038520318415\n",
            "Starting prediction: \n",
            "{'batch_size': 64, 'verbose': 1}\n",
            "Predicting on 13676 samples\n",
            "214/214 [==============================] - 1s 3ms/step\n",
            "F1_score on the test set is: 0.7447174081657697\n",
            "Model: \"sequential_3\"\n",
            "_________________________________________________________________\n",
            " Layer (type)                Output Shape              Param #   \n",
            "=================================================================\n",
            " embedding_1 (Embedding)     (None, 1, 50)             20033650  \n",
            "                                                                 \n",
            " bidirectional_2 (Bidirectio  (None, 1, 28)            7280      \n",
            " nal)                                                            \n",
            "                                                                 \n",
            " bidirectional_3 (Bidirectio  (None, 56)               12768     \n",
            " nal)                                                            \n",
            "                                                                 \n",
            " dense_1 (Dense)             (None, 35)                1995      \n",
            "                                                                 \n",
            "=================================================================\n",
            "Total params: 20,055,693\n",
            "Trainable params: 22,043\n",
            "Non-trainable params: 20,033,650\n",
            "_________________________________________________________________\n",
            "Epoch 1/30\n",
            "323/323 [==============================] - 10s 14ms/step - loss: 2.0939 - accuracy: 0.4456 - val_loss: 1.2643 - val_accuracy: 0.6519\n",
            "Epoch 2/30\n",
            "323/323 [==============================] - 4s 12ms/step - loss: 1.0441 - accuracy: 0.7007 - val_loss: 0.9591 - val_accuracy: 0.7170\n",
            "Epoch 3/30\n",
            "323/323 [==============================] - 4s 12ms/step - loss: 0.8515 - accuracy: 0.7539 - val_loss: 0.8441 - val_accuracy: 0.7561\n",
            "Epoch 4/30\n",
            "323/323 [==============================] - 4s 12ms/step - loss: 0.7544 - accuracy: 0.7804 - val_loss: 0.7731 - val_accuracy: 0.7698\n",
            "Epoch 5/30\n",
            "323/323 [==============================] - 3s 10ms/step - loss: 0.6923 - accuracy: 0.7960 - val_loss: 0.7247 - val_accuracy: 0.7803\n",
            "Epoch 6/30\n",
            "323/323 [==============================] - 3s 10ms/step - loss: 0.6494 - accuracy: 0.8091 - val_loss: 0.6919 - val_accuracy: 0.7870\n",
            "Epoch 7/30\n",
            "323/323 [==============================] - 3s 10ms/step - loss: 0.6159 - accuracy: 0.8153 - val_loss: 0.6670 - val_accuracy: 0.7909\n",
            "Epoch 8/30\n",
            "323/323 [==============================] - 3s 10ms/step - loss: 0.5896 - accuracy: 0.8209 - val_loss: 0.6429 - val_accuracy: 0.8028\n",
            "Epoch 9/30\n",
            "323/323 [==============================] - 3s 10ms/step - loss: 0.5673 - accuracy: 0.8269 - val_loss: 0.6240 - val_accuracy: 0.8050\n",
            "Epoch 10/30\n",
            "323/323 [==============================] - 3s 10ms/step - loss: 0.5469 - accuracy: 0.8330 - val_loss: 0.6142 - val_accuracy: 0.8107\n",
            "Epoch 11/30\n",
            "323/323 [==============================] - 4s 12ms/step - loss: 0.5307 - accuracy: 0.8380 - val_loss: 0.6035 - val_accuracy: 0.8107\n",
            "Epoch 12/30\n",
            "323/323 [==============================] - 3s 10ms/step - loss: 0.5141 - accuracy: 0.8426 - val_loss: 0.5920 - val_accuracy: 0.8117\n",
            "Epoch 13/30\n",
            "323/323 [==============================] - 3s 10ms/step - loss: 0.5011 - accuracy: 0.8450 - val_loss: 0.5815 - val_accuracy: 0.8187\n",
            "Epoch 14/30\n",
            "323/323 [==============================] - 3s 10ms/step - loss: 0.4876 - accuracy: 0.8489 - val_loss: 0.5719 - val_accuracy: 0.8214\n",
            "Epoch 15/30\n",
            "323/323 [==============================] - 3s 10ms/step - loss: 0.4755 - accuracy: 0.8526 - val_loss: 0.5681 - val_accuracy: 0.8218\n",
            "Epoch 16/30\n",
            "323/323 [==============================] - 3s 10ms/step - loss: 0.4650 - accuracy: 0.8553 - val_loss: 0.5607 - val_accuracy: 0.8254\n",
            "Epoch 17/30\n",
            "323/323 [==============================] - 4s 12ms/step - loss: 0.4561 - accuracy: 0.8588 - val_loss: 0.5524 - val_accuracy: 0.8256\n",
            "Epoch 18/30\n",
            "323/323 [==============================] - 3s 10ms/step - loss: 0.4464 - accuracy: 0.8601 - val_loss: 0.5522 - val_accuracy: 0.8266\n",
            "Epoch 19/30\n",
            "323/323 [==============================] - 4s 12ms/step - loss: 0.4385 - accuracy: 0.8616 - val_loss: 0.5513 - val_accuracy: 0.8296\n",
            "Epoch 20/30\n",
            "323/323 [==============================] - 3s 10ms/step - loss: 0.4306 - accuracy: 0.8638 - val_loss: 0.5436 - val_accuracy: 0.8313\n",
            "Epoch 21/30\n",
            "323/323 [==============================] - 3s 10ms/step - loss: 0.4235 - accuracy: 0.8651 - val_loss: 0.5383 - val_accuracy: 0.8314\n",
            "Epoch 22/30\n",
            "323/323 [==============================] - 4s 14ms/step - loss: 0.4173 - accuracy: 0.8666 - val_loss: 0.5350 - val_accuracy: 0.8334\n",
            "Epoch 23/30\n",
            "323/323 [==============================] - 3s 10ms/step - loss: 0.4105 - accuracy: 0.8678 - val_loss: 0.5286 - val_accuracy: 0.8343\n",
            "Epoch 24/30\n",
            "323/323 [==============================] - 3s 10ms/step - loss: 0.4036 - accuracy: 0.8715 - val_loss: 0.5305 - val_accuracy: 0.8357\n",
            "Epoch 25/30\n",
            "323/323 [==============================] - 3s 10ms/step - loss: 0.3990 - accuracy: 0.8712 - val_loss: 0.5302 - val_accuracy: 0.8343\n",
            "Epoch 26/30\n",
            "323/323 [==============================] - 3s 10ms/step - loss: 0.3930 - accuracy: 0.8721 - val_loss: 0.5230 - val_accuracy: 0.8377\n",
            "Epoch 27/30\n",
            "323/323 [==============================] - 3s 10ms/step - loss: 0.3888 - accuracy: 0.8740 - val_loss: 0.5223 - val_accuracy: 0.8377\n",
            "Epoch 28/30\n",
            "323/323 [==============================] - 3s 10ms/step - loss: 0.3837 - accuracy: 0.8743 - val_loss: 0.5219 - val_accuracy: 0.8381\n",
            "Epoch 29/30\n",
            "323/323 [==============================] - 3s 10ms/step - loss: 0.3783 - accuracy: 0.8760 - val_loss: 0.5183 - val_accuracy: 0.8370\n",
            "Epoch 30/30\n",
            "323/323 [==============================] - 4s 12ms/step - loss: 0.3746 - accuracy: 0.8766 - val_loss: 0.5141 - val_accuracy: 0.8389\n",
            "======================================== hp1_2 ========================================\n",
            "857/857 [==============================] - 4s 5ms/step - loss: 0.5141 - accuracy: 0.8389\n",
            "Model loss: 0.514103889465332, accuracy: 0.8389379382133484\n",
            "Starting prediction: \n",
            "{'batch_size': 64, 'verbose': 1}\n",
            "Predicting on 27418 samples\n",
            "429/429 [==============================] - 3s 3ms/step\n",
            "F1_score on the validation set is: 0.6810725107248468\n",
            "Starting prediction: \n",
            "{'batch_size': 64, 'verbose': 1}\n",
            "Predicting on 13676 samples\n",
            "214/214 [==============================] - 1s 3ms/step\n",
            "F1_score on the test set is: 0.7594716131463072\n",
            "Model: \"sequential_4\"\n",
            "_________________________________________________________________\n",
            " Layer (type)                Output Shape              Param #   \n",
            "=================================================================\n",
            " embedding_2 (Embedding)     (None, 1, 50)             20033650  \n",
            "                                                                 \n",
            " bidirectional_4 (Bidirectio  (None, 1, 56)            17696     \n",
            " nal)                                                            \n",
            "                                                                 \n",
            " bidirectional_5 (Bidirectio  (None, 28)               7952      \n",
            " nal)                                                            \n",
            "                                                                 \n",
            " dense_2 (Dense)             (None, 35)                1015      \n",
            "                                                                 \n",
            "=================================================================\n",
            "Total params: 20,060,313\n",
            "Trainable params: 26,663\n",
            "Non-trainable params: 20,033,650\n",
            "_________________________________________________________________\n",
            "Epoch 1/30\n",
            "323/323 [==============================] - 11s 16ms/step - loss: 2.1447 - accuracy: 0.4378 - val_loss: 1.3817 - val_accuracy: 0.6303\n",
            "Epoch 2/30\n",
            "323/323 [==============================] - 3s 11ms/step - loss: 1.2276 - accuracy: 0.6544 - val_loss: 1.0310 - val_accuracy: 0.7010\n",
            "Epoch 3/30\n",
            "323/323 [==============================] - 4s 13ms/step - loss: 1.0097 - accuracy: 0.7092 - val_loss: 0.8899 - val_accuracy: 0.7371\n",
            "Epoch 4/30\n",
            "323/323 [==============================] - 3s 11ms/step - loss: 0.9045 - accuracy: 0.7313 - val_loss: 0.8054 - val_accuracy: 0.7600\n",
            "Epoch 5/30\n",
            "323/323 [==============================] - 3s 11ms/step - loss: 0.8349 - accuracy: 0.7507 - val_loss: 0.7530 - val_accuracy: 0.7752\n",
            "Epoch 6/30\n",
            "323/323 [==============================] - 3s 11ms/step - loss: 0.7883 - accuracy: 0.7617 - val_loss: 0.7099 - val_accuracy: 0.7856\n",
            "Epoch 7/30\n",
            "323/323 [==============================] - 3s 11ms/step - loss: 0.7492 - accuracy: 0.7731 - val_loss: 0.6814 - val_accuracy: 0.7910\n",
            "Epoch 8/30\n",
            "323/323 [==============================] - 5s 17ms/step - loss: 0.7195 - accuracy: 0.7801 - val_loss: 0.6539 - val_accuracy: 0.8034\n",
            "Epoch 9/30\n",
            "323/323 [==============================] - 3s 11ms/step - loss: 0.6903 - accuracy: 0.7897 - val_loss: 0.6347 - val_accuracy: 0.8039\n",
            "Epoch 10/30\n",
            "323/323 [==============================] - 3s 11ms/step - loss: 0.6718 - accuracy: 0.7947 - val_loss: 0.6191 - val_accuracy: 0.8086\n",
            "Epoch 11/30\n",
            "323/323 [==============================] - 3s 11ms/step - loss: 0.6515 - accuracy: 0.8000 - val_loss: 0.6043 - val_accuracy: 0.8116\n",
            "Epoch 12/30\n",
            "323/323 [==============================] - 3s 11ms/step - loss: 0.6383 - accuracy: 0.8020 - val_loss: 0.5928 - val_accuracy: 0.8114\n",
            "Epoch 13/30\n",
            "323/323 [==============================] - 3s 11ms/step - loss: 0.6237 - accuracy: 0.8070 - val_loss: 0.5832 - val_accuracy: 0.8158\n",
            "Epoch 14/30\n",
            "323/323 [==============================] - 3s 10ms/step - loss: 0.6117 - accuracy: 0.8102 - val_loss: 0.5725 - val_accuracy: 0.8169\n",
            "Epoch 15/30\n",
            "323/323 [==============================] - 3s 11ms/step - loss: 0.6020 - accuracy: 0.8110 - val_loss: 0.5610 - val_accuracy: 0.8203\n",
            "Epoch 16/30\n",
            "323/323 [==============================] - 3s 11ms/step - loss: 0.5894 - accuracy: 0.8159 - val_loss: 0.5611 - val_accuracy: 0.8218\n",
            "Epoch 17/30\n",
            "323/323 [==============================] - 3s 11ms/step - loss: 0.5831 - accuracy: 0.8186 - val_loss: 0.5513 - val_accuracy: 0.8238\n",
            "Epoch 18/30\n",
            "323/323 [==============================] - 4s 12ms/step - loss: 0.5750 - accuracy: 0.8181 - val_loss: 0.5480 - val_accuracy: 0.8254\n",
            "Epoch 19/30\n",
            "323/323 [==============================] - 3s 11ms/step - loss: 0.5670 - accuracy: 0.8200 - val_loss: 0.5444 - val_accuracy: 0.8267\n",
            "Epoch 20/30\n",
            "323/323 [==============================] - 4s 11ms/step - loss: 0.5619 - accuracy: 0.8235 - val_loss: 0.5368 - val_accuracy: 0.8279\n",
            "Epoch 21/30\n",
            "323/323 [==============================] - 3s 11ms/step - loss: 0.5567 - accuracy: 0.8246 - val_loss: 0.5319 - val_accuracy: 0.8318\n",
            "Epoch 22/30\n",
            "323/323 [==============================] - 3s 11ms/step - loss: 0.5488 - accuracy: 0.8260 - val_loss: 0.5273 - val_accuracy: 0.8306\n",
            "Epoch 23/30\n",
            "323/323 [==============================] - 4s 13ms/step - loss: 0.5454 - accuracy: 0.8274 - val_loss: 0.5244 - val_accuracy: 0.8330\n",
            "Epoch 24/30\n",
            "323/323 [==============================] - 3s 11ms/step - loss: 0.5389 - accuracy: 0.8271 - val_loss: 0.5219 - val_accuracy: 0.8367\n",
            "Epoch 25/30\n",
            "323/323 [==============================] - 3s 11ms/step - loss: 0.5348 - accuracy: 0.8304 - val_loss: 0.5218 - val_accuracy: 0.8362\n",
            "Epoch 26/30\n",
            "323/323 [==============================] - 3s 11ms/step - loss: 0.5320 - accuracy: 0.8298 - val_loss: 0.5166 - val_accuracy: 0.8332\n",
            "Epoch 27/30\n",
            "323/323 [==============================] - 3s 10ms/step - loss: 0.5253 - accuracy: 0.8319 - val_loss: 0.5129 - val_accuracy: 0.8378\n",
            "Epoch 28/30\n",
            "323/323 [==============================] - 3s 11ms/step - loss: 0.5212 - accuracy: 0.8325 - val_loss: 0.5117 - val_accuracy: 0.8364\n",
            "Epoch 29/30\n",
            "323/323 [==============================] - 3s 11ms/step - loss: 0.5163 - accuracy: 0.8331 - val_loss: 0.5083 - val_accuracy: 0.8392\n",
            "Epoch 30/30\n",
            "323/323 [==============================] - 3s 11ms/step - loss: 0.5117 - accuracy: 0.8352 - val_loss: 0.5090 - val_accuracy: 0.8370\n",
            "======================================== hp2_1 ========================================\n",
            "857/857 [==============================] - 4s 4ms/step - loss: 0.5090 - accuracy: 0.8370\n",
            "Model loss: 0.5089664459228516, accuracy: 0.8370048999786377\n",
            "Starting prediction: \n",
            "{'batch_size': 64, 'verbose': 1}\n",
            "Predicting on 27418 samples\n",
            "429/429 [==============================] - 3s 3ms/step\n",
            "F1_score on the validation set is: 0.6800277375291125\n",
            "Starting prediction: \n",
            "{'batch_size': 64, 'verbose': 1}\n",
            "Predicting on 13676 samples\n",
            "214/214 [==============================] - 1s 3ms/step\n",
            "F1_score on the test set is: 0.7526060561536108\n",
            "Model: \"sequential_5\"\n",
            "_________________________________________________________________\n",
            " Layer (type)                Output Shape              Param #   \n",
            "=================================================================\n",
            " embedding_3 (Embedding)     (None, 1, 50)             20033650  \n",
            "                                                                 \n",
            " bidirectional_6 (Bidirectio  (None, 1, 56)            17696     \n",
            " nal)                                                            \n",
            "                                                                 \n",
            " bidirectional_7 (Bidirectio  (None, 28)               7952      \n",
            " nal)                                                            \n",
            "                                                                 \n",
            " dense_3 (Dense)             (None, 35)                1015      \n",
            "                                                                 \n",
            "=================================================================\n",
            "Total params: 20,060,313\n",
            "Trainable params: 26,663\n",
            "Non-trainable params: 20,033,650\n",
            "_________________________________________________________________\n",
            "Epoch 1/30\n",
            "323/323 [==============================] - 9s 14ms/step - loss: 2.0474 - accuracy: 0.4751 - val_loss: 1.2989 - val_accuracy: 0.6488\n",
            "Epoch 2/30\n",
            "323/323 [==============================] - 3s 10ms/step - loss: 1.0580 - accuracy: 0.7097 - val_loss: 0.9445 - val_accuracy: 0.7343\n",
            "Epoch 3/30\n",
            "323/323 [==============================] - 3s 11ms/step - loss: 0.8288 - accuracy: 0.7666 - val_loss: 0.8066 - val_accuracy: 0.7710\n",
            "Epoch 4/30\n",
            "323/323 [==============================] - 3s 10ms/step - loss: 0.7174 - accuracy: 0.7958 - val_loss: 0.7268 - val_accuracy: 0.7919\n",
            "Epoch 5/30\n",
            "323/323 [==============================] - 3s 10ms/step - loss: 0.6451 - accuracy: 0.8141 - val_loss: 0.6747 - val_accuracy: 0.8030\n",
            "Epoch 6/30\n",
            "323/323 [==============================] - 4s 12ms/step - loss: 0.5943 - accuracy: 0.8294 - val_loss: 0.6435 - val_accuracy: 0.8171\n",
            "Epoch 7/30\n",
            "323/323 [==============================] - 4s 12ms/step - loss: 0.5554 - accuracy: 0.8401 - val_loss: 0.6125 - val_accuracy: 0.8201\n",
            "Epoch 8/30\n",
            "323/323 [==============================] - 3s 11ms/step - loss: 0.5253 - accuracy: 0.8465 - val_loss: 0.5947 - val_accuracy: 0.8248\n",
            "Epoch 9/30\n",
            "323/323 [==============================] - 3s 10ms/step - loss: 0.5005 - accuracy: 0.8533 - val_loss: 0.5748 - val_accuracy: 0.8262\n",
            "Epoch 10/30\n",
            "323/323 [==============================] - 3s 10ms/step - loss: 0.4793 - accuracy: 0.8572 - val_loss: 0.5649 - val_accuracy: 0.8316\n",
            "Epoch 11/30\n",
            "323/323 [==============================] - 3s 10ms/step - loss: 0.4611 - accuracy: 0.8620 - val_loss: 0.5524 - val_accuracy: 0.8348\n",
            "Epoch 12/30\n",
            "323/323 [==============================] - 3s 10ms/step - loss: 0.4450 - accuracy: 0.8662 - val_loss: 0.5443 - val_accuracy: 0.8336\n",
            "Epoch 13/30\n",
            "323/323 [==============================] - 3s 10ms/step - loss: 0.4310 - accuracy: 0.8687 - val_loss: 0.5331 - val_accuracy: 0.8381\n",
            "Epoch 14/30\n",
            "323/323 [==============================] - 3s 10ms/step - loss: 0.4178 - accuracy: 0.8728 - val_loss: 0.5286 - val_accuracy: 0.8376\n",
            "Epoch 15/30\n",
            "323/323 [==============================] - 3s 10ms/step - loss: 0.4057 - accuracy: 0.8751 - val_loss: 0.5217 - val_accuracy: 0.8415\n",
            "Epoch 16/30\n",
            "323/323 [==============================] - 3s 10ms/step - loss: 0.3953 - accuracy: 0.8773 - val_loss: 0.5217 - val_accuracy: 0.8416\n",
            "Epoch 17/30\n",
            "323/323 [==============================] - 4s 12ms/step - loss: 0.3859 - accuracy: 0.8792 - val_loss: 0.5137 - val_accuracy: 0.8440\n",
            "Epoch 18/30\n",
            "323/323 [==============================] - 3s 10ms/step - loss: 0.3774 - accuracy: 0.8803 - val_loss: 0.5093 - val_accuracy: 0.8441\n",
            "Epoch 19/30\n",
            "323/323 [==============================] - 4s 12ms/step - loss: 0.3685 - accuracy: 0.8828 - val_loss: 0.5110 - val_accuracy: 0.8465\n",
            "Epoch 20/30\n",
            "323/323 [==============================] - 3s 10ms/step - loss: 0.3605 - accuracy: 0.8856 - val_loss: 0.5076 - val_accuracy: 0.8496\n",
            "Epoch 21/30\n",
            "323/323 [==============================] - 3s 10ms/step - loss: 0.3545 - accuracy: 0.8856 - val_loss: 0.5059 - val_accuracy: 0.8486\n",
            "Epoch 22/30\n",
            "323/323 [==============================] - 3s 10ms/step - loss: 0.3471 - accuracy: 0.8877 - val_loss: 0.5069 - val_accuracy: 0.8487\n",
            "Epoch 23/30\n",
            "323/323 [==============================] - 3s 10ms/step - loss: 0.3417 - accuracy: 0.8896 - val_loss: 0.5001 - val_accuracy: 0.8511\n",
            "Epoch 24/30\n",
            "323/323 [==============================] - 3s 10ms/step - loss: 0.3357 - accuracy: 0.8912 - val_loss: 0.5044 - val_accuracy: 0.8498\n",
            "Epoch 25/30\n",
            "323/323 [==============================] - 3s 10ms/step - loss: 0.3306 - accuracy: 0.8912 - val_loss: 0.5037 - val_accuracy: 0.8498\n",
            "Epoch 26/30\n",
            "323/323 [==============================] - 3s 10ms/step - loss: 0.3257 - accuracy: 0.8922 - val_loss: 0.5000 - val_accuracy: 0.8525\n",
            "Epoch 27/30\n",
            "323/323 [==============================] - 3s 10ms/step - loss: 0.3208 - accuracy: 0.8936 - val_loss: 0.4982 - val_accuracy: 0.8528\n",
            "Epoch 28/30\n",
            "323/323 [==============================] - 4s 12ms/step - loss: 0.3160 - accuracy: 0.8950 - val_loss: 0.5018 - val_accuracy: 0.8504\n",
            "Epoch 29/30\n",
            "323/323 [==============================] - 3s 10ms/step - loss: 0.3106 - accuracy: 0.8962 - val_loss: 0.4984 - val_accuracy: 0.8508\n",
            "Epoch 30/30\n",
            "323/323 [==============================] - 3s 10ms/step - loss: 0.3079 - accuracy: 0.8967 - val_loss: 0.4970 - val_accuracy: 0.8531\n",
            "======================================== hp2_2 ========================================\n",
            "857/857 [==============================] - 4s 4ms/step - loss: 0.4970 - accuracy: 0.8531\n",
            "Model loss: 0.4969765543937683, accuracy: 0.8530527353286743\n",
            "Starting prediction: \n",
            "{'batch_size': 64, 'verbose': 1}\n",
            "Predicting on 27418 samples\n",
            "429/429 [==============================] - 3s 3ms/step\n",
            "F1_score on the validation set is: 0.6915592432283173\n",
            "Starting prediction: \n",
            "{'batch_size': 64, 'verbose': 1}\n",
            "Predicting on 13676 samples\n",
            "214/214 [==============================] - 1s 3ms/step\n",
            "F1_score on the test set is: 0.744707229600551\n",
            "Model: \"sequential_6\"\n",
            "_________________________________________________________________\n",
            " Layer (type)                Output Shape              Param #   \n",
            "=================================================================\n",
            " embedding_4 (Embedding)     (None, 1, 50)             20033650  \n",
            "                                                                 \n",
            " bidirectional_8 (Bidirectio  (None, 1, 256)           183296    \n",
            " nal)                                                            \n",
            "                                                                 \n",
            " bidirectional_9 (Bidirectio  (None, 256)              394240    \n",
            " nal)                                                            \n",
            "                                                                 \n",
            " dense_4 (Dense)             (None, 35)                8995      \n",
            "                                                                 \n",
            "=================================================================\n",
            "Total params: 20,620,181\n",
            "Trainable params: 586,531\n",
            "Non-trainable params: 20,033,650\n",
            "_________________________________________________________________\n",
            "Epoch 1/30\n",
            "323/323 [==============================] - 10s 15ms/step - loss: 1.4955 - accuracy: 0.5838 - val_loss: 0.9025 - val_accuracy: 0.7243\n",
            "Epoch 2/30\n",
            "323/323 [==============================] - 3s 11ms/step - loss: 0.7535 - accuracy: 0.7786 - val_loss: 0.7097 - val_accuracy: 0.7871\n",
            "Epoch 3/30\n",
            "323/323 [==============================] - 4s 11ms/step - loss: 0.6069 - accuracy: 0.8179 - val_loss: 0.6105 - val_accuracy: 0.8158\n",
            "Epoch 4/30\n",
            "323/323 [==============================] - 4s 11ms/step - loss: 0.5225 - accuracy: 0.8413 - val_loss: 0.5540 - val_accuracy: 0.8307\n",
            "Epoch 5/30\n",
            "323/323 [==============================] - 3s 11ms/step - loss: 0.4625 - accuracy: 0.8557 - val_loss: 0.5150 - val_accuracy: 0.8388\n",
            "Epoch 6/30\n",
            "323/323 [==============================] - 4s 11ms/step - loss: 0.4203 - accuracy: 0.8670 - val_loss: 0.4924 - val_accuracy: 0.8438\n",
            "Epoch 7/30\n",
            "323/323 [==============================] - 3s 11ms/step - loss: 0.3834 - accuracy: 0.8756 - val_loss: 0.4753 - val_accuracy: 0.8471\n",
            "Epoch 8/30\n",
            "323/323 [==============================] - 4s 11ms/step - loss: 0.3577 - accuracy: 0.8819 - val_loss: 0.4604 - val_accuracy: 0.8540\n",
            "Epoch 9/30\n",
            "323/323 [==============================] - 3s 11ms/step - loss: 0.3362 - accuracy: 0.8875 - val_loss: 0.4445 - val_accuracy: 0.8528\n",
            "Epoch 10/30\n",
            "323/323 [==============================] - 4s 11ms/step - loss: 0.3167 - accuracy: 0.8917 - val_loss: 0.4415 - val_accuracy: 0.8569\n",
            "Epoch 11/30\n",
            "323/323 [==============================] - 3s 11ms/step - loss: 0.3028 - accuracy: 0.8948 - val_loss: 0.4376 - val_accuracy: 0.8606\n",
            "Epoch 12/30\n",
            "323/323 [==============================] - 4s 11ms/step - loss: 0.2903 - accuracy: 0.8987 - val_loss: 0.4330 - val_accuracy: 0.8582\n",
            "Epoch 13/30\n",
            "323/323 [==============================] - 4s 11ms/step - loss: 0.2787 - accuracy: 0.9015 - val_loss: 0.4295 - val_accuracy: 0.8611\n",
            "Epoch 14/30\n",
            "323/323 [==============================] - 4s 11ms/step - loss: 0.2685 - accuracy: 0.9040 - val_loss: 0.4299 - val_accuracy: 0.8615\n",
            "Epoch 15/30\n",
            "323/323 [==============================] - 3s 11ms/step - loss: 0.2610 - accuracy: 0.9041 - val_loss: 0.4280 - val_accuracy: 0.8647\n",
            "Epoch 16/30\n",
            "323/323 [==============================] - 4s 11ms/step - loss: 0.2535 - accuracy: 0.9082 - val_loss: 0.4397 - val_accuracy: 0.8639\n",
            "Epoch 17/30\n",
            "323/323 [==============================] - 3s 11ms/step - loss: 0.2476 - accuracy: 0.9091 - val_loss: 0.4306 - val_accuracy: 0.8662\n",
            "Epoch 18/30\n",
            "323/323 [==============================] - 4s 11ms/step - loss: 0.2436 - accuracy: 0.9085 - val_loss: 0.4385 - val_accuracy: 0.8640\n",
            "Epoch 19/30\n",
            "323/323 [==============================] - 3s 11ms/step - loss: 0.2376 - accuracy: 0.9085 - val_loss: 0.4417 - val_accuracy: 0.8628\n",
            "Epoch 20/30\n",
            "323/323 [==============================] - 4s 11ms/step - loss: 0.2338 - accuracy: 0.9122 - val_loss: 0.4376 - val_accuracy: 0.8679\n",
            "Epoch 21/30\n",
            "323/323 [==============================] - 3s 11ms/step - loss: 0.2304 - accuracy: 0.9124 - val_loss: 0.4391 - val_accuracy: 0.8648\n",
            "Epoch 22/30\n",
            "323/323 [==============================] - 4s 11ms/step - loss: 0.2279 - accuracy: 0.9120 - val_loss: 0.4462 - val_accuracy: 0.8623\n",
            "Epoch 23/30\n",
            "323/323 [==============================] - 3s 11ms/step - loss: 0.2253 - accuracy: 0.9135 - val_loss: 0.4454 - val_accuracy: 0.8673\n",
            "Epoch 24/30\n",
            "323/323 [==============================] - 4s 11ms/step - loss: 0.2220 - accuracy: 0.9140 - val_loss: 0.4522 - val_accuracy: 0.8654\n",
            "Epoch 25/30\n",
            "323/323 [==============================] - 4s 13ms/step - loss: 0.2210 - accuracy: 0.9136 - val_loss: 0.4588 - val_accuracy: 0.8638\n",
            "Epoch 26/30\n",
            "323/323 [==============================] - 3s 11ms/step - loss: 0.2194 - accuracy: 0.9144 - val_loss: 0.4505 - val_accuracy: 0.8668\n",
            "Epoch 27/30\n",
            "323/323 [==============================] - 4s 11ms/step - loss: 0.2176 - accuracy: 0.9138 - val_loss: 0.4481 - val_accuracy: 0.8673\n",
            "Epoch 28/30\n",
            "323/323 [==============================] - 4s 11ms/step - loss: 0.2156 - accuracy: 0.9155 - val_loss: 0.4533 - val_accuracy: 0.8634\n",
            "Epoch 29/30\n",
            "323/323 [==============================] - 4s 11ms/step - loss: 0.2130 - accuracy: 0.9156 - val_loss: 0.4570 - val_accuracy: 0.8642\n",
            "Epoch 30/30\n",
            "323/323 [==============================] - 3s 11ms/step - loss: 0.2133 - accuracy: 0.9152 - val_loss: 0.4566 - val_accuracy: 0.8644\n",
            "======================================== hp3 ========================================\n",
            "857/857 [==============================] - 4s 5ms/step - loss: 0.4566 - accuracy: 0.8644\n",
            "Model loss: 0.4565567672252655, accuracy: 0.8644320964813232\n",
            "Starting prediction: \n",
            "{'batch_size': 64, 'verbose': 1}\n",
            "Predicting on 27418 samples\n",
            "429/429 [==============================] - 3s 3ms/step\n",
            "F1_score on the validation set is: 0.7046485260407299\n",
            "Starting prediction: \n",
            "{'batch_size': 64, 'verbose': 1}\n",
            "Predicting on 13676 samples\n",
            "214/214 [==============================] - 1s 3ms/step\n",
            "F1_score on the test set is: 0.7840017232059667\n"
          ]
        }
      ],
      "source": [
        "from tensorflow.keras.models import Sequential\n",
        "from tensorflow.keras.layers import Embedding, Dense, LSTM, Bidirectional \n",
        "from keras.optimizers import Adam\n",
        "\n",
        "\n",
        "for key,idx in zip(hp_b.keys(),range(0,5)):\n",
        "    l1 = hp_b[key]['lstm_1']\n",
        "    l2 = hp_b[key]['lstm_2']\n",
        "    learning_rate = hp_b[key]['learning_rate']\n",
        "\n",
        "    set_reproducibility(42)\n",
        "    x2lstm_model = Sequential()\n",
        "    embedding_layer = Embedding(input_dim = vocab_size,output_dim= embedding_dimension,input_length=1, weights = [embedding_matrix], trainable = False)\n",
        "    x2lstm_model.add(embedding_layer)\n",
        "    x2lstm_model.add(Bidirectional(LSTM(\n",
        "                                    units=l1['units'], \n",
        "                                    activation=\"tanh\",\n",
        "                                    return_sequences=l1['return_sequences'],\n",
        "                                    dropout=l1['dropout'])))\n",
        "    \n",
        "    x2lstm_model.add(Bidirectional(LSTM(\n",
        "                                    units=l2['units'], \n",
        "                                    activation=\"tanh\",\n",
        "                                    return_sequences=l2['return_sequences'],\n",
        "                                    dropout=l2['dropout'])))\n",
        "    x2lstm_model.add(Dense(num_classes,activation='softmax'))\n",
        "\n",
        "    x2lstm_model.summary()\n",
        "\n",
        "    x2lstm_model.compile(loss='sparse_categorical_crossentropy', optimizer=Adam(learning_rate=learning_rate), metrics=['accuracy'])\n",
        "\n",
        "    # fit model\n",
        "    history = x2lstm_model.fit(x_train, y_train, validation_data=(x_val, y_val), batch_size = 128, epochs=30)\n",
        "    print('='*40,key,'='*40)\n",
        "    #show_history(history)\n",
        "    #x2lstm_model.evaluate(x_val, y_val)\n",
        "    #results_x2lstm.append(f1_macro(x2lstm_model, y_train, y_val, num_classes))\n",
        "   \n",
        "    loss, accuracy = x2lstm_model.evaluate(x_val, y_val)\n",
        "    print(f\"Model loss: {loss}, accuracy: {accuracy}\")\n",
        "\n",
        "    # Inference and evaluate\n",
        "\n",
        "    x2lstm_score = compute_f1(x2lstm_model, x_val, y_val)\n",
        "    print(f'F1_score on the validation set is: {x2lstm_score}')\n",
        "\n",
        "    x2lstm_score = compute_f1(x2lstm_model, x_test, y_test)\n",
        "    print(f'F1_score on the test set is: {x2lstm_score}')\n",
        "\n",
        "    results_x2lstm.append(x2lstm_score.copy())"
      ]
    },
    {
      "cell_type": "code",
      "execution_count": 71,
      "metadata": {
        "id": "twx8L1SnHFEh",
        "outputId": "1aa20db6-7946-4e13-fbb5-ded9d28f716d",
        "colab": {
          "base_uri": "https://localhost:8080/"
        }
      },
      "outputs": [
        {
          "output_type": "stream",
          "name": "stdout",
          "text": [
            "F1_SCORES\n",
            "0   0.7447174081657697\n",
            "1   0.7594716131463072\n",
            "2   0.7526060561536108\n",
            "3   0.744707229600551\n",
            "4   0.7840017232059667\n"
          ]
        }
      ],
      "source": [
        "print(\"F1_SCORES\")\n",
        "for f1_macro_score,idx in zip(results_x2lstm,range(0,5)):\n",
        "    print(idx, \" \", f1_macro_score)"
      ]
    },
    {
      "cell_type": "code",
      "execution_count": 72,
      "metadata": {
        "id": "zvtURktJOw6A",
        "outputId": "c7dee7ef-d8f3-4738-f772-0b7d81dd047a",
        "colab": {
          "base_uri": "https://localhost:8080/"
        }
      },
      "outputs": [
        {
          "output_type": "stream",
          "name": "stdout",
          "text": [
            "Top 2xLSTM F1 Macro score: 0.7840017232059667\n"
          ]
        }
      ],
      "source": [
        "x2lstm_score = max([f1_macro_score for f1_macro_score,idx in zip(results_x2lstm,range(0,5))])\n",
        "print(f\"Top 2xLSTM F1 Macro score: {x2lstm_score}\")"
      ]
    },
    {
      "cell_type": "code",
      "execution_count": 73,
      "metadata": {
        "id": "OglXcWHaHFEh"
      },
      "outputs": [],
      "source": [
        "#from keras.optimizers import Adam\n",
        "\n",
        "#x2lstm_model.compile(loss='sparse_categorical_crossentropy', optimizer=Adam(learning_rate=2e-3), metrics=['accuracy'])"
      ]
    },
    {
      "cell_type": "code",
      "execution_count": 74,
      "metadata": {
        "id": "wODByaN6HFEh"
      },
      "outputs": [],
      "source": [
        "# fit model\n",
        "#history = x2lstm_model.fit(x_train, y_train, validation_data=(x_val, y_val), batch_size = 128, epochs=30)"
      ]
    },
    {
      "cell_type": "code",
      "execution_count": 75,
      "metadata": {
        "id": "-MS8c1NzHFEh"
      },
      "outputs": [],
      "source": [
        "#show_history(history)"
      ]
    },
    {
      "cell_type": "code",
      "execution_count": 76,
      "metadata": {
        "id": "Le5vJSMxHFEi"
      },
      "outputs": [],
      "source": [
        "#x2lstm_model.evaluate(x_val, y_val)"
      ]
    },
    {
      "cell_type": "markdown",
      "metadata": {
        "id": "5hgT909Mi8CG"
      },
      "source": [
        "## Model C: LSTM + Dense"
      ]
    },
    {
      "cell_type": "code",
      "execution_count": 91,
      "metadata": {
        "id": "5P-NSPmwi8CG",
        "outputId": "40efa5e6-4dd1-406a-afa8-1441ee3855b7",
        "colab": {
          "base_uri": "https://localhost:8080/"
        }
      },
      "outputs": [
        {
          "output_type": "stream",
          "name": "stdout",
          "text": [
            "Model: \"sequential_12\"\n",
            "_________________________________________________________________\n",
            " Layer (type)                Output Shape              Param #   \n",
            "=================================================================\n",
            " embedding_layer (Embedding)  (None, 1, 50)            20033650  \n",
            "                                                                 \n",
            " LSTM (Bidirectional)        (None, 256)               183296    \n",
            "                                                                 \n",
            " dense_layer (Dense)         (None, 1000)              257000    \n",
            "                                                                 \n",
            " logits (Dense)              (None, 35)                35035     \n",
            "                                                                 \n",
            "=================================================================\n",
            "Total params: 20,508,981\n",
            "Trainable params: 475,331\n",
            "Non-trainable params: 20,033,650\n",
            "_________________________________________________________________\n"
          ]
        }
      ],
      "source": [
        "from tensorflow.keras.models import Sequential\n",
        "from tensorflow.keras.layers import Embedding, Dense, LSTM, Bidirectional \n",
        "from tensorflow.keras.optimizers import Adam\n",
        "\n",
        "lstm_dense_layers_info = [\n",
        "    {\n",
        "        \"mlayer\": layers.Embedding,        \n",
        "        'input_dim': vocab_size,\n",
        "        \"output_dim\" : embedding_dimension,\n",
        "        \"input_length\" : 1,\n",
        "        \"weights\" : [embedding_matrix],\n",
        "        \"trainable\" : False,\n",
        "        \"name\" : \"embedding_layer\"\n",
        "    },\n",
        "    {\n",
        "        \"mlayer\": layers.Bidirectional,\n",
        "        \"layer\": LSTM(128, activation=\"tanh\"),\n",
        "        \"name\" : 'LSTM'\n",
        "    },\n",
        "    {\n",
        "        \"mlayer\": layers.Dense,\n",
        "        \"name\" : 'dense_layer',\n",
        "        \"activation\": \"relu\",\n",
        "        \"units\": 1000,\n",
        "    },\n",
        "    {\n",
        "        \"mlayer\": layers.Dense,\n",
        "        \"units\": num_classes,\n",
        "        \"activation\" : 'softmax',\n",
        "        'name' : 'logits'\n",
        "    }\n",
        "]\n",
        "\n",
        "lstm_dense_compile_info = {\n",
        "    'optimizer': Adam(),\n",
        "    'loss': 'sparse_categorical_crossentropy',\n",
        "    'metrics': ['accuracy']\n",
        "}\n",
        "\n",
        "lstm_dense_model = create_model(lstm_dense_layers_info, lstm_dense_compile_info)"
      ]
    },
    {
      "cell_type": "code",
      "execution_count": 92,
      "metadata": {
        "id": "rNZZ9dqrOw6B",
        "outputId": "4656e283-4abc-4e5b-c07a-5cb0db7c15d4",
        "colab": {
          "base_uri": "https://localhost:8080/",
          "height": 660
        }
      },
      "outputs": [
        {
          "output_type": "stream",
          "name": "stdout",
          "text": [
            "Start training! \n",
            "Parameters: {'verbose': 0, 'epochs': 30, 'batch_size': 64}\n",
            "Training completed!\n",
            "Showing history...\n",
            "Displaying the following history keys: dict_keys(['loss', 'accuracy', 'val_loss', 'val_accuracy'])\n"
          ]
        },
        {
          "output_type": "display_data",
          "data": {
            "text/plain": [
              "<Figure size 432x288 with 1 Axes>"
            ],
            "image/png": "[encoded data removed]"
          },
          "metadata": {
            "needs_background": "light"
          }
        },
        {
          "output_type": "display_data",
          "data": {
            "text/plain": [
              "<Figure size 432x288 with 1 Axes>"
            ],
            "image/png": "[encoded data removed]"
          },
          "metadata": {
            "needs_background": "light"
          }
        }
      ],
      "source": [
        "# Train\n",
        " \n",
        "lstm_dense_training_info = {\n",
        "    'verbose': 0,\n",
        "    'epochs' : 30,\n",
        "    'batch_size' : 64\n",
        "}\n",
        "\n",
        "lstm_dense_model = train_model(model=lstm_dense_model,training_info = lstm_dense_training_info)"
      ]
    },
    {
      "cell_type": "code",
      "execution_count": 93,
      "metadata": {
        "colab": {
          "base_uri": "https://localhost:8080/"
        },
        "id": "rlI5xN3bOw6B",
        "outputId": "cdff8b9f-1d04-411a-f10f-b13f0f4679e2"
      },
      "outputs": [
        {
          "output_type": "stream",
          "name": "stdout",
          "text": [
            "857/857 [==============================] - 4s 4ms/step - loss: 0.5167 - accuracy: 0.8650\n",
            "Model loss: 0.5167104005813599, accuracy: 0.8649792075157166\n",
            "Starting prediction: \n",
            "{'batch_size': 64, 'verbose': 1}\n",
            "Predicting on 27418 samples\n",
            "429/429 [==============================] - 2s 2ms/step\n",
            "F1_score on the validation set is: 0.7015826312431759\n",
            "Starting prediction: \n",
            "{'batch_size': 64, 'verbose': 1}\n",
            "Predicting on 13676 samples\n",
            "214/214 [==============================] - 1s 2ms/step\n",
            "F1_score on the test set is: 0.7859165249865648\n"
          ]
        }
      ],
      "source": [
        "loss, accuracy = lstm_dense_model.evaluate(x_val, y_val)\n",
        "print(f\"Model loss: {loss}, accuracy: {accuracy}\")\n",
        "\n",
        "# Inference and evaluate\n",
        "\n",
        "lstm_dense_score = compute_f1(lstm_dense_model, x_val, y_val)\n",
        "print(f'F1_score on the validation set is: {lstm_dense_score}')\n",
        "\n",
        "lstm_dense_score = compute_f1(lstm_dense_model, x_test, y_test)\n",
        "print(f'F1_score on the test set is: {lstm_dense_score}')"
      ]
    },
    {
      "cell_type": "markdown",
      "metadata": {
        "id": "tTwH3Iz5i8CG"
      },
      "source": [
        "## Conclusions"
      ]
    },
    {
      "cell_type": "code",
      "execution_count": 94,
      "metadata": {
        "id": "g8vray3yi8CH",
        "outputId": "2f989365-1dde-4c52-e524-f2a9d8167cba",
        "colab": {
          "base_uri": "https://localhost:8080/"
        }
      },
      "outputs": [
        {
          "output_type": "stream",
          "name": "stdout",
          "text": [
            " \n",
            "F1 Macro scores:\n",
            "    Base = 0.7821068841052768\n",
            "    GRU = 0.7702999005168205\n",
            "    2x LSTM = 0.7840017232059667\n",
            "    LSTM + Dense = 0.7859165249865648\n",
            "\n"
          ]
        }
      ],
      "source": [
        "print(f''' \n",
        "F1 Macro scores:\n",
        "    Base = {base_score}\n",
        "    GRU = {gru_score}\n",
        "    2x LSTM = {x2lstm_score}\n",
        "    LSTM + Dense = {lstm_dense_score}\n",
        "''')"
      ]
    }
  ],
  "metadata": {
    "accelerator": "GPU",
    "colab": {
      "provenance": []
    },
    "gpuClass": "standard",
    "kernelspec": {
      "display_name": "Python 3.9.13 ('tf')",
      "language": "python",
      "name": "python3"
    },
    "language_info": {
      "codemirror_mode": {
        "name": "ipython",
        "version": 3
      },
      "file_extension": ".py",
      "mimetype": "text/x-python",
      "name": "python",
      "nbconvert_exporter": "python",
      "pygments_lexer": "ipython3",
      "version": "3.9.13"
    },
    "orig_nbformat": 4,
    "vscode": {
      "interpreter": {
        "hash": "e405b0a43b05ed5b511dac57849ab560497f023fc2f8f0bfd2781bf41b5f416c"
      }
    }
  },
  "nbformat": 4,
  "nbformat_minor": 0
}