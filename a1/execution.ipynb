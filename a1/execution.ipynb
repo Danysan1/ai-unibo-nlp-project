{
  "cells": [
    {
      "cell_type": "markdown",
      "metadata": {
        "id": "iKel9Y42484v"
      },
      "source": [
        "<a href=\"https://colab.research.google.com/github/Danysan1/ai-unibo-nlp-project/blob/main/a1/execution.ipynb\" target=\"_parent\"><img src=\"https://colab.research.google.com/assets/colab-badge.svg\" alt=\"Open In Colab\"/></a>"
      ]
    },
    {
      "cell_type": "markdown",
      "metadata": {
        "id": "TzCABY1Qi8Bv"
      },
      "source": [
        "# Assigment 1 execution"
      ]
    },
    {
      "cell_type": "markdown",
      "metadata": {
        "id": "kNE248Nhi8B0"
      },
      "source": [
        "Corpora: https://www.nltk.org/nltk_data/ , point 91, \"Dependency Parsed Treebank\" ([link](https://raw.githubusercontent.com/nltk/nltk_data/gh-pages/packages/corpora/dependency_treebank.zip)).\n",
        "\n",
        "Docs:\n",
        "* https://www.nltk.org/api/nltk.corpus.html\n",
        "* https://www.nltk.org/data.html\n",
        "* https://www.nltk.org/install.html\n",
        "\n",
        "## Preparing the environment"
      ]
    },
    {
      "cell_type": "code",
      "execution_count": 1,
      "metadata": {
        "colab": {
          "base_uri": "https://localhost:8080/"
        },
        "id": "SJOEUxxoi8B1",
        "outputId": "8eed714a-ba36-4e59-96a8-1759f2a6373e"
      },
      "outputs": [
        {
          "name": "stdout",
          "output_type": "stream",
          "text": [
            "Looking in indexes: https://pypi.org/simple, https://us-python.pkg.dev/colab-wheels/public/simple/\n",
            "Requirement already satisfied: pandas in /usr/local/lib/python3.8/dist-packages (1.3.5)\n",
            "Requirement already satisfied: numpy in /usr/local/lib/python3.8/dist-packages (1.21.6)\n",
            "Requirement already satisfied: matplotlib in /usr/local/lib/python3.8/dist-packages (3.2.2)\n",
            "Collecting gensim==4.2.0\n",
            "  Downloading gensim-4.2.0-cp38-cp38-manylinux_2_12_x86_64.manylinux2010_x86_64.whl (24.1 MB)\n",
            "\u001b[2K     \u001b[90m━━━━━━━━━━━━━━━━━━━━━━━━━━━━━━━━━━━━━━━━\u001b[0m \u001b[32m24.1/24.1 MB\u001b[0m \u001b[31m53.3 MB/s\u001b[0m eta \u001b[36m0:00:00\u001b[0m\n",
            "\u001b[?25hCollecting tensorflow-addons\n",
            "  Downloading tensorflow_addons-0.19.0-cp38-cp38-manylinux_2_17_x86_64.manylinux2014_x86_64.whl (1.1 MB)\n",
            "\u001b[2K     \u001b[90m━━━━━━━━━━━━━━━━━━━━━━━━━━━━━━━━━━━━━━━━\u001b[0m \u001b[32m1.1/1.1 MB\u001b[0m \u001b[31m70.1 MB/s\u001b[0m eta \u001b[36m0:00:00\u001b[0m\n",
            "\u001b[?25hCollecting keras_tuner\n",
            "  Downloading keras_tuner-1.1.3-py3-none-any.whl (135 kB)\n",
            "\u001b[2K     \u001b[90m━━━━━━━━━━━━━━━━━━━━━━━━━━━━━━━━━━━━━━\u001b[0m \u001b[32m135.7/135.7 KB\u001b[0m \u001b[31m19.1 MB/s\u001b[0m eta \u001b[36m0:00:00\u001b[0m\n",
            "\u001b[?25hRequirement already satisfied: smart-open>=1.8.1 in /usr/local/lib/python3.8/dist-packages (from gensim==4.2.0) (6.3.0)\n",
            "Requirement already satisfied: scipy>=0.18.1 in /usr/local/lib/python3.8/dist-packages (from gensim==4.2.0) (1.7.3)\n",
            "Requirement already satisfied: python-dateutil>=2.7.3 in /usr/local/lib/python3.8/dist-packages (from pandas) (2.8.2)\n",
            "Requirement already satisfied: pytz>=2017.3 in /usr/local/lib/python3.8/dist-packages (from pandas) (2022.7)\n",
            "Requirement already satisfied: cycler>=0.10 in /usr/local/lib/python3.8/dist-packages (from matplotlib) (0.11.0)\n",
            "Requirement already satisfied: pyparsing!=2.0.4,!=2.1.2,!=2.1.6,>=2.0.1 in /usr/local/lib/python3.8/dist-packages (from matplotlib) (3.0.9)\n",
            "Requirement already satisfied: kiwisolver>=1.0.1 in /usr/local/lib/python3.8/dist-packages (from matplotlib) (1.4.4)\n",
            "Requirement already satisfied: typeguard>=2.7 in /usr/local/lib/python3.8/dist-packages (from tensorflow-addons) (2.7.1)\n",
            "Requirement already satisfied: packaging in /usr/local/lib/python3.8/dist-packages (from tensorflow-addons) (21.3)\n",
            "Requirement already satisfied: tensorboard in /usr/local/lib/python3.8/dist-packages (from keras_tuner) (2.9.1)\n",
            "Collecting kt-legacy\n",
            "  Downloading kt_legacy-1.0.4-py3-none-any.whl (9.6 kB)\n",
            "Requirement already satisfied: ipython in /usr/local/lib/python3.8/dist-packages (from keras_tuner) (7.9.0)\n",
            "Requirement already satisfied: requests in /usr/local/lib/python3.8/dist-packages (from keras_tuner) (2.25.1)\n",
            "Requirement already satisfied: six>=1.5 in /usr/local/lib/python3.8/dist-packages (from python-dateutil>=2.7.3->pandas) (1.15.0)\n",
            "Requirement already satisfied: decorator in /usr/local/lib/python3.8/dist-packages (from ipython->keras_tuner) (4.4.2)\n",
            "Requirement already satisfied: pygments in /usr/local/lib/python3.8/dist-packages (from ipython->keras_tuner) (2.6.1)\n",
            "Requirement already satisfied: prompt-toolkit<2.1.0,>=2.0.0 in /usr/local/lib/python3.8/dist-packages (from ipython->keras_tuner) (2.0.10)\n",
            "Requirement already satisfied: pexpect in /usr/local/lib/python3.8/dist-packages (from ipython->keras_tuner) (4.8.0)\n",
            "Requirement already satisfied: traitlets>=4.2 in /usr/local/lib/python3.8/dist-packages (from ipython->keras_tuner) (5.7.1)\n",
            "Collecting jedi>=0.10\n",
            "  Downloading jedi-0.18.2-py2.py3-none-any.whl (1.6 MB)\n",
            "\u001b[2K     \u001b[90m━━━━━━━━━━━━━━━━━━━━━━━━━━━━━━━━━━━━━━━━\u001b[0m \u001b[32m1.6/1.6 MB\u001b[0m \u001b[31m79.5 MB/s\u001b[0m eta \u001b[36m0:00:00\u001b[0m\n",
            "\u001b[?25hRequirement already satisfied: setuptools>=18.5 in /usr/local/lib/python3.8/dist-packages (from ipython->keras_tuner) (57.4.0)\n",
            "Requirement already satisfied: backcall in /usr/local/lib/python3.8/dist-packages (from ipython->keras_tuner) (0.2.0)\n",
            "Requirement already satisfied: pickleshare in /usr/local/lib/python3.8/dist-packages (from ipython->keras_tuner) (0.7.5)\n",
            "Requirement already satisfied: urllib3<1.27,>=1.21.1 in /usr/local/lib/python3.8/dist-packages (from requests->keras_tuner) (1.24.3)\n",
            "Requirement already satisfied: idna<3,>=2.5 in /usr/local/lib/python3.8/dist-packages (from requests->keras_tuner) (2.10)\n",
            "Requirement already satisfied: chardet<5,>=3.0.2 in /usr/local/lib/python3.8/dist-packages (from requests->keras_tuner) (4.0.0)\n",
            "Requirement already satisfied: certifi>=2017.4.17 in /usr/local/lib/python3.8/dist-packages (from requests->keras_tuner) (2022.12.7)\n",
            "Requirement already satisfied: werkzeug>=1.0.1 in /usr/local/lib/python3.8/dist-packages (from tensorboard->keras_tuner) (1.0.1)\n",
            "Requirement already satisfied: wheel>=0.26 in /usr/local/lib/python3.8/dist-packages (from tensorboard->keras_tuner) (0.38.4)\n",
            "Requirement already satisfied: tensorboard-data-server<0.7.0,>=0.6.0 in /usr/local/lib/python3.8/dist-packages (from tensorboard->keras_tuner) (0.6.1)\n",
            "Requirement already satisfied: markdown>=2.6.8 in /usr/local/lib/python3.8/dist-packages (from tensorboard->keras_tuner) (3.4.1)\n",
            "Requirement already satisfied: grpcio>=1.24.3 in /usr/local/lib/python3.8/dist-packages (from tensorboard->keras_tuner) (1.51.1)\n",
            "Requirement already satisfied: google-auth<3,>=1.6.3 in /usr/local/lib/python3.8/dist-packages (from tensorboard->keras_tuner) (2.15.0)\n",
            "Requirement already satisfied: protobuf<3.20,>=3.9.2 in /usr/local/lib/python3.8/dist-packages (from tensorboard->keras_tuner) (3.19.6)\n",
            "Requirement already satisfied: tensorboard-plugin-wit>=1.6.0 in /usr/local/lib/python3.8/dist-packages (from tensorboard->keras_tuner) (1.8.1)\n",
            "Requirement already satisfied: absl-py>=0.4 in /usr/local/lib/python3.8/dist-packages (from tensorboard->keras_tuner) (1.3.0)\n",
            "Requirement already satisfied: google-auth-oauthlib<0.5,>=0.4.1 in /usr/local/lib/python3.8/dist-packages (from tensorboard->keras_tuner) (0.4.6)\n",
            "Requirement already satisfied: rsa<5,>=3.1.4 in /usr/local/lib/python3.8/dist-packages (from google-auth<3,>=1.6.3->tensorboard->keras_tuner) (4.9)\n",
            "Requirement already satisfied: pyasn1-modules>=0.2.1 in /usr/local/lib/python3.8/dist-packages (from google-auth<3,>=1.6.3->tensorboard->keras_tuner) (0.2.8)\n",
            "Requirement already satisfied: cachetools<6.0,>=2.0.0 in /usr/local/lib/python3.8/dist-packages (from google-auth<3,>=1.6.3->tensorboard->keras_tuner) (5.2.0)\n",
            "Requirement already satisfied: requests-oauthlib>=0.7.0 in /usr/local/lib/python3.8/dist-packages (from google-auth-oauthlib<0.5,>=0.4.1->tensorboard->keras_tuner) (1.3.1)\n",
            "Requirement already satisfied: parso<0.9.0,>=0.8.0 in /usr/local/lib/python3.8/dist-packages (from jedi>=0.10->ipython->keras_tuner) (0.8.3)\n",
            "Requirement already satisfied: importlib-metadata>=4.4 in /usr/local/lib/python3.8/dist-packages (from markdown>=2.6.8->tensorboard->keras_tuner) (5.2.0)\n",
            "Requirement already satisfied: wcwidth in /usr/local/lib/python3.8/dist-packages (from prompt-toolkit<2.1.0,>=2.0.0->ipython->keras_tuner) (0.2.5)\n",
            "Requirement already satisfied: ptyprocess>=0.5 in /usr/local/lib/python3.8/dist-packages (from pexpect->ipython->keras_tuner) (0.7.0)\n",
            "Requirement already satisfied: zipp>=0.5 in /usr/local/lib/python3.8/dist-packages (from importlib-metadata>=4.4->markdown>=2.6.8->tensorboard->keras_tuner) (3.11.0)\n",
            "Requirement already satisfied: pyasn1<0.5.0,>=0.4.6 in /usr/local/lib/python3.8/dist-packages (from pyasn1-modules>=0.2.1->google-auth<3,>=1.6.3->tensorboard->keras_tuner) (0.4.8)\n",
            "Requirement already satisfied: oauthlib>=3.0.0 in /usr/local/lib/python3.8/dist-packages (from requests-oauthlib>=0.7.0->google-auth-oauthlib<0.5,>=0.4.1->tensorboard->keras_tuner) (3.2.2)\n",
            "Installing collected packages: kt-legacy, jedi, tensorflow-addons, gensim, keras_tuner\n",
            "  Attempting uninstall: gensim\n",
            "    Found existing installation: gensim 3.6.0\n",
            "    Uninstalling gensim-3.6.0:\n",
            "      Successfully uninstalled gensim-3.6.0\n",
            "Successfully installed gensim-4.2.0 jedi-0.18.2 keras_tuner-1.1.3 kt-legacy-1.0.4 tensorflow-addons-0.19.0\n"
          ]
        }
      ],
      "source": [
        "%pip install pandas numpy matplotlib gensim==4.2.0 tensorflow-addons keras_tuner"
      ]
    },
    {
      "cell_type": "code",
      "execution_count": 2,
      "metadata": {
        "id": "KqnHhB8yGptZ"
      },
      "outputs": [],
      "source": [
        "import os, shutil  #  file management\n",
        "import sys \n",
        "import pandas as pd  #  dataframe management\n",
        "import numpy as np  #  data manipulation\n",
        "import re\n",
        "import urllib.request  # download files\n",
        "from zipfile import ZipFile # extract files\n",
        "from matplotlib import pyplot as plt\n",
        "import tensorflow_addons as tfa\n",
        "from sklearn.metrics import f1_score\n",
        "import keras\n",
        "import keras_tuner"
      ]
    },
    {
      "cell_type": "code",
      "execution_count": 3,
      "metadata": {
        "id": "HuFLcnnQuym9"
      },
      "outputs": [],
      "source": [
        "if not os.path.exists(\"./report\"):\n",
        "    os.makedirs(\"./report\")"
      ]
    },
    {
      "cell_type": "markdown",
      "metadata": {
        "id": "glhEVNdNi8B4"
      },
      "source": [
        "## Downloading the dataset"
      ]
    },
    {
      "cell_type": "code",
      "execution_count": 4,
      "metadata": {
        "id": "8rcR7hfpi8B4"
      },
      "outputs": [],
      "source": [
        "#from nltk import download\n",
        "#download()"
      ]
    },
    {
      "cell_type": "code",
      "execution_count": 5,
      "metadata": {
        "colab": {
          "base_uri": "https://localhost:8080/"
        },
        "id": "gMVaf67mGtVe",
        "outputId": "5ba18360-60b9-4abf-8ca7-aa169ead4b94"
      },
      "outputs": [
        {
          "name": "stdout",
          "output_type": "stream",
          "text": [
            "Successful download\n",
            "Successful extraction\n"
          ]
        }
      ],
      "source": [
        "dataset_folder = os.path.join(os.getcwd(), \"Dataset\")\n",
        "\n",
        "if not os.path.exists(dataset_folder):\n",
        "    os.makedirs(dataset_folder)\n",
        "\n",
        "url = 'https://raw.githubusercontent.com/nltk/nltk_data/gh-pages/packages/corpora/dependency_treebank.zip'\n",
        "\n",
        "dataset_path = os.path.join(dataset_folder, \"dependency_treebank.zip\")\n",
        "\n",
        "if not os.path.exists(dataset_path):\n",
        "    urllib.request.urlretrieve(url, dataset_path)\n",
        "    print(\"Successful download\")\n",
        "    \n",
        "with ZipFile(dataset_path, 'r') as zObject:\n",
        "  # Extracting all the members of the zip  into a specific location.\n",
        "  zObject.extractall(dataset_folder)\n",
        "  print(\"Successful extraction\")"
      ]
    },
    {
      "cell_type": "markdown",
      "metadata": {
        "id": "6YF4FVoUi8B7"
      },
      "source": [
        "## Loading the data"
      ]
    },
    {
      "cell_type": "code",
      "execution_count": 6,
      "metadata": {
        "id": "wNHOCIU0i8B8"
      },
      "outputs": [],
      "source": [
        "#from nltk.corpus import dependency_treebank\n",
        "#from nltk.data import load\n",
        "#dependency_treebank_test = load(\"nltk:\") \n",
        "#sentences = dependency_treebank.sents()\n",
        "#words = dependency_treebank.words()"
      ]
    },
    {
      "cell_type": "code",
      "execution_count": 7,
      "metadata": {
        "id": "brq6f0-oi8B9"
      },
      "outputs": [],
      "source": [
        "def loadCorpus(start:int, stop:int=None):\n",
        "    '''\n",
        "    Loads the data for the specified file range.\n",
        "    \n",
        "    Removes the third column 'num', which is not necessary for this task.\n",
        "\n",
        "    Parameters:\n",
        "        start: start of numeric range of files (inclusive)\n",
        "        stop: end of numeric range of files (exclusive)\n",
        "    '''\n",
        "    dataset_name = \"dependency_treebank\"\n",
        "    folder = os.path.join(os.getcwd(), \"Dataset\", dataset_name)\n",
        "\n",
        "    if stop==None:\n",
        "        stop = start+1\n",
        "    \n",
        "    return pd.concat([\n",
        "        pd.read_csv(\n",
        "            f'{folder}/wsj_{\"{:04d}\".format(num)}.dp',\n",
        "            sep=\"\\t\",\n",
        "            usecols=[0,1],\n",
        "            names=[\"word\",\"label\"]\n",
        "        ) for num in range(start, stop)\n",
        "    ])"
      ]
    },
    {
      "cell_type": "code",
      "execution_count": 8,
      "metadata": {
        "id": "MHjTm5HOi8B-"
      },
      "outputs": [],
      "source": [
        "full_dataset = loadCorpus(1,200)"
      ]
    },
    {
      "cell_type": "markdown",
      "metadata": {
        "id": "xVtgdAgwi8B-"
      },
      "source": [
        "## Exploratory Data Analysis"
      ]
    },
    {
      "cell_type": "code",
      "execution_count": 9,
      "metadata": {
        "colab": {
          "base_uri": "https://localhost:8080/"
        },
        "id": "Ih48IOpti8B_",
        "outputId": "f28d431f-138a-4ad3-e7ab-2549645e3d0a"
      },
      "outputs": [
        {
          "data": {
            "text/plain": [
              "word     94084\n",
              "label    94084\n",
              "dtype: int64"
            ]
          },
          "execution_count": 9,
          "metadata": {},
          "output_type": "execute_result"
        }
      ],
      "source": [
        "full_dataset.count()"
      ]
    },
    {
      "cell_type": "code",
      "execution_count": 10,
      "metadata": {
        "colab": {
          "base_uri": "https://localhost:8080/",
          "height": 677
        },
        "id": "uzKTmaB0i8CA",
        "outputId": "5f1a2707-d6c2-4079-f98c-8ceb04f60c26"
      },
      "outputs": [
        {
          "data": {
            "text/html": [
              "\n",
              "  <div id=\"df-7719a297-dcb1-4516-902d-8f3ef1fed398\">\n",
              "    <div class=\"colab-df-container\">\n",
              "      <div>\n",
              "<style scoped>\n",
              "    .dataframe tbody tr th:only-of-type {\n",
              "        vertical-align: middle;\n",
              "    }\n",
              "\n",
              "    .dataframe tbody tr th {\n",
              "        vertical-align: top;\n",
              "    }\n",
              "\n",
              "    .dataframe thead th {\n",
              "        text-align: right;\n",
              "    }\n",
              "</style>\n",
              "<table border=\"1\" class=\"dataframe\">\n",
              "  <thead>\n",
              "    <tr style=\"text-align: right;\">\n",
              "      <th></th>\n",
              "      <th>word</th>\n",
              "      <th>label</th>\n",
              "    </tr>\n",
              "  </thead>\n",
              "  <tbody>\n",
              "    <tr>\n",
              "      <th>0</th>\n",
              "      <td>Pierre</td>\n",
              "      <td>NNP</td>\n",
              "    </tr>\n",
              "    <tr>\n",
              "      <th>1</th>\n",
              "      <td>Vinken</td>\n",
              "      <td>NNP</td>\n",
              "    </tr>\n",
              "    <tr>\n",
              "      <th>2</th>\n",
              "      <td>,</td>\n",
              "      <td>,</td>\n",
              "    </tr>\n",
              "    <tr>\n",
              "      <th>3</th>\n",
              "      <td>61</td>\n",
              "      <td>CD</td>\n",
              "    </tr>\n",
              "    <tr>\n",
              "      <th>4</th>\n",
              "      <td>years</td>\n",
              "      <td>NNS</td>\n",
              "    </tr>\n",
              "    <tr>\n",
              "      <th>5</th>\n",
              "      <td>old</td>\n",
              "      <td>JJ</td>\n",
              "    </tr>\n",
              "    <tr>\n",
              "      <th>6</th>\n",
              "      <td>,</td>\n",
              "      <td>,</td>\n",
              "    </tr>\n",
              "    <tr>\n",
              "      <th>7</th>\n",
              "      <td>will</td>\n",
              "      <td>MD</td>\n",
              "    </tr>\n",
              "    <tr>\n",
              "      <th>8</th>\n",
              "      <td>join</td>\n",
              "      <td>VB</td>\n",
              "    </tr>\n",
              "    <tr>\n",
              "      <th>9</th>\n",
              "      <td>the</td>\n",
              "      <td>DT</td>\n",
              "    </tr>\n",
              "    <tr>\n",
              "      <th>10</th>\n",
              "      <td>board</td>\n",
              "      <td>NN</td>\n",
              "    </tr>\n",
              "    <tr>\n",
              "      <th>11</th>\n",
              "      <td>as</td>\n",
              "      <td>IN</td>\n",
              "    </tr>\n",
              "    <tr>\n",
              "      <th>12</th>\n",
              "      <td>a</td>\n",
              "      <td>DT</td>\n",
              "    </tr>\n",
              "    <tr>\n",
              "      <th>13</th>\n",
              "      <td>nonexecutive</td>\n",
              "      <td>JJ</td>\n",
              "    </tr>\n",
              "    <tr>\n",
              "      <th>14</th>\n",
              "      <td>director</td>\n",
              "      <td>NN</td>\n",
              "    </tr>\n",
              "    <tr>\n",
              "      <th>15</th>\n",
              "      <td>Nov.</td>\n",
              "      <td>NNP</td>\n",
              "    </tr>\n",
              "    <tr>\n",
              "      <th>16</th>\n",
              "      <td>29</td>\n",
              "      <td>CD</td>\n",
              "    </tr>\n",
              "    <tr>\n",
              "      <th>17</th>\n",
              "      <td>.</td>\n",
              "      <td>.</td>\n",
              "    </tr>\n",
              "    <tr>\n",
              "      <th>18</th>\n",
              "      <td>Mr.</td>\n",
              "      <td>NNP</td>\n",
              "    </tr>\n",
              "    <tr>\n",
              "      <th>19</th>\n",
              "      <td>Vinken</td>\n",
              "      <td>NNP</td>\n",
              "    </tr>\n",
              "  </tbody>\n",
              "</table>\n",
              "</div>\n",
              "      <button class=\"colab-df-convert\" onclick=\"convertToInteractive('df-7719a297-dcb1-4516-902d-8f3ef1fed398')\"\n",
              "              title=\"Convert this dataframe to an interactive table.\"\n",
              "              style=\"display:none;\">\n",
              "        \n",
              "  <svg xmlns=\"http://www.w3.org/2000/svg\" height=\"24px\"viewBox=\"0 0 24 24\"\n",
              "       width=\"24px\">\n",
              "    <path d=\"M0 0h24v24H0V0z\" fill=\"none\"/>\n",
              "    <path d=\"M18.56 5.44l.94 2.06.94-2.06 2.06-.94-2.06-.94-.94-2.06-.94 2.06-2.06.94zm-11 1L8.5 8.5l.94-2.06 2.06-.94-2.06-.94L8.5 2.5l-.94 2.06-2.06.94zm10 10l.94 2.06.94-2.06 2.06-.94-2.06-.94-.94-2.06-.94 2.06-2.06.94z\"/><path d=\"M17.41 7.96l-1.37-1.37c-.4-.4-.92-.59-1.43-.59-.52 0-1.04.2-1.43.59L10.3 9.45l-7.72 7.72c-.78.78-.78 2.05 0 2.83L4 21.41c.39.39.9.59 1.41.59.51 0 1.02-.2 1.41-.59l7.78-7.78 2.81-2.81c.8-.78.8-2.07 0-2.86zM5.41 20L4 18.59l7.72-7.72 1.47 1.35L5.41 20z\"/>\n",
              "  </svg>\n",
              "      </button>\n",
              "      \n",
              "  <style>\n",
              "    .colab-df-container {\n",
              "      display:flex;\n",
              "      flex-wrap:wrap;\n",
              "      gap: 12px;\n",
              "    }\n",
              "\n",
              "    .colab-df-convert {\n",
              "      background-color: #E8F0FE;\n",
              "      border: none;\n",
              "      border-radius: 50%;\n",
              "      cursor: pointer;\n",
              "      display: none;\n",
              "      fill: #1967D2;\n",
              "      height: 32px;\n",
              "      padding: 0 0 0 0;\n",
              "      width: 32px;\n",
              "    }\n",
              "\n",
              "    .colab-df-convert:hover {\n",
              "      background-color: #E2EBFA;\n",
              "      box-shadow: 0px 1px 2px rgba(60, 64, 67, 0.3), 0px 1px 3px 1px rgba(60, 64, 67, 0.15);\n",
              "      fill: #174EA6;\n",
              "    }\n",
              "\n",
              "    [theme=dark] .colab-df-convert {\n",
              "      background-color: #3B4455;\n",
              "      fill: #D2E3FC;\n",
              "    }\n",
              "\n",
              "    [theme=dark] .colab-df-convert:hover {\n",
              "      background-color: #434B5C;\n",
              "      box-shadow: 0px 1px 3px 1px rgba(0, 0, 0, 0.15);\n",
              "      filter: drop-shadow(0px 1px 2px rgba(0, 0, 0, 0.3));\n",
              "      fill: #FFFFFF;\n",
              "    }\n",
              "  </style>\n",
              "\n",
              "      <script>\n",
              "        const buttonEl =\n",
              "          document.querySelector('#df-7719a297-dcb1-4516-902d-8f3ef1fed398 button.colab-df-convert');\n",
              "        buttonEl.style.display =\n",
              "          google.colab.kernel.accessAllowed ? 'block' : 'none';\n",
              "\n",
              "        async function convertToInteractive(key) {\n",
              "          const element = document.querySelector('#df-7719a297-dcb1-4516-902d-8f3ef1fed398');\n",
              "          const dataTable =\n",
              "            await google.colab.kernel.invokeFunction('convertToInteractive',\n",
              "                                                     [key], {});\n",
              "          if (!dataTable) return;\n",
              "\n",
              "          const docLinkHtml = 'Like what you see? Visit the ' +\n",
              "            '<a target=\"_blank\" href=https://colab.research.google.com/notebooks/data_table.ipynb>data table notebook</a>'\n",
              "            + ' to learn more about interactive tables.';\n",
              "          element.innerHTML = '';\n",
              "          dataTable['output_type'] = 'display_data';\n",
              "          await google.colab.output.renderOutput(dataTable, element);\n",
              "          const docLink = document.createElement('div');\n",
              "          docLink.innerHTML = docLinkHtml;\n",
              "          element.appendChild(docLink);\n",
              "        }\n",
              "      </script>\n",
              "    </div>\n",
              "  </div>\n",
              "  "
            ],
            "text/plain": [
              "            word label\n",
              "0         Pierre   NNP\n",
              "1         Vinken   NNP\n",
              "2              ,     ,\n",
              "3             61    CD\n",
              "4          years   NNS\n",
              "5            old    JJ\n",
              "6              ,     ,\n",
              "7           will    MD\n",
              "8           join    VB\n",
              "9            the    DT\n",
              "10         board    NN\n",
              "11            as    IN\n",
              "12             a    DT\n",
              "13  nonexecutive    JJ\n",
              "14      director    NN\n",
              "15          Nov.   NNP\n",
              "16            29    CD\n",
              "17             .     .\n",
              "18           Mr.   NNP\n",
              "19        Vinken   NNP"
            ]
          },
          "execution_count": 10,
          "metadata": {},
          "output_type": "execute_result"
        }
      ],
      "source": [
        "full_dataset.head(20)"
      ]
    },
    {
      "cell_type": "markdown",
      "metadata": {
        "id": "ZjqrPfy4i8CB"
      },
      "source": [
        "Each document contains a different tokenized article:"
      ]
    },
    {
      "cell_type": "code",
      "execution_count": 11,
      "metadata": {
        "colab": {
          "base_uri": "https://localhost:8080/",
          "height": 35
        },
        "id": "EE9Qv0tUi8CB",
        "outputId": "071d49f7-ea12-42d9-9765-59c1aabbf2e1"
      },
      "outputs": [
        {
          "data": {
            "application/vnd.google.colaboratory.intrinsic+json": {
              "type": "string"
            },
            "text/plain": [
              "'Pierre Vinken , 61 years old , will join the board as a nonexecutive director Nov. 29 . Mr. Vinken is chairman of Elsevier N.V. , the Dutch publishing group .'"
            ]
          },
          "execution_count": 11,
          "metadata": {},
          "output_type": "execute_result"
        }
      ],
      "source": [
        "sample_article = loadCorpus(1)\n",
        "\" \".join(sample_article[\"word\"])"
      ]
    },
    {
      "cell_type": "code",
      "execution_count": 12,
      "metadata": {
        "colab": {
          "base_uri": "https://localhost:8080/",
          "height": 35
        },
        "id": "sDIadSSJi8CB",
        "outputId": "0c7401fd-6dad-460c-d03a-7dfd25e22fdb"
      },
      "outputs": [
        {
          "data": {
            "application/vnd.google.colaboratory.intrinsic+json": {
              "type": "string"
            },
            "text/plain": [
              "'Rudolph Agnew , 55 years old and former chairman of Consolidated Gold Fields PLC , was named a nonexecutive director of this British industrial conglomerate .'"
            ]
          },
          "execution_count": 12,
          "metadata": {},
          "output_type": "execute_result"
        }
      ],
      "source": [
        "\" \".join(loadCorpus(2)[\"word\"])"
      ]
    },
    {
      "cell_type": "code",
      "execution_count": 13,
      "metadata": {
        "colab": {
          "base_uri": "https://localhost:8080/",
          "height": 336
        },
        "id": "dcAVyveni8CC",
        "outputId": "f95b62f5-9c24-496e-c0a7-247cdd73d6df"
      },
      "outputs": [
        {
          "data": {
            "image/png": "[encoded data removed]",
            "text/plain": [
              "<Figure size 1080x360 with 1 Axes>"
            ]
          },
          "metadata": {
            "needs_background": "light"
          },
          "output_type": "display_data"
        }
      ],
      "source": [
        "fig=plt.figure(figsize=(15,5))\n",
        "p = plt.hist(full_dataset[\"label\"])\n",
        "plt.xticks(rotation=45)\n",
        "fig.savefig('./report/classes_with_punctuation.png')\n",
        "fig.show()"
      ]
    },
    {
      "cell_type": "code",
      "execution_count": 14,
      "metadata": {
        "colab": {
          "base_uri": "https://localhost:8080/",
          "height": 306
        },
        "id": "K9XyBPIQi8CC",
        "outputId": "7955f0d9-a3e6-4a69-8821-ee8a72a05141"
      },
      "outputs": [
        {
          "data": {
            "image/png": "[encoded data removed]",
            "text/plain": [
              "<Figure size 1080x360 with 1 Axes>"
            ]
          },
          "metadata": {
            "needs_background": "light"
          },
          "output_type": "display_data"
        }
      ],
      "source": [
        "fig=plt.figure(figsize=(15,5))\n",
        "p = plt.plot(full_dataset[\"word\"].value_counts())\n",
        "plt.xticks([])\n",
        "plt.show()"
      ]
    },
    {
      "cell_type": "markdown",
      "metadata": {
        "id": "MzyI2Wufi8CD"
      },
      "source": [
        "## Data splitting\n",
        "\n",
        "\n",
        "\n"
      ]
    },
    {
      "cell_type": "markdown",
      "metadata": {
        "id": "Nep1haoQkIO0"
      },
      "source": [
        "Creation of train, validation and test sets."
      ]
    },
    {
      "cell_type": "code",
      "execution_count": 15,
      "metadata": {
        "colab": {
          "base_uri": "https://localhost:8080/"
        },
        "id": "kOG5wns9X011",
        "outputId": "9ddd8004-0cb7-4d8d-b0b9-23c551884fea"
      },
      "outputs": [
        {
          "data": {
            "text/plain": [
              "word     47356\n",
              "label    47356\n",
              "dtype: int64"
            ]
          },
          "execution_count": 15,
          "metadata": {},
          "output_type": "execute_result"
        }
      ],
      "source": [
        "df_train = loadCorpus(1,101) \n",
        "df_val = loadCorpus(101,151)\n",
        "df_test = loadCorpus(151,200)\n",
        "\n",
        "df_train.count()"
      ]
    },
    {
      "cell_type": "code",
      "execution_count": 16,
      "metadata": {
        "colab": {
          "base_uri": "https://localhost:8080/"
        },
        "id": "Th6dXqh94849",
        "outputId": "07804157-93eb-4b82-a315-67714d2ceb8b"
      },
      "outputs": [
        {
          "data": {
            "text/plain": [
              "word     31183\n",
              "label    31183\n",
              "dtype: int64"
            ]
          },
          "execution_count": 16,
          "metadata": {},
          "output_type": "execute_result"
        }
      ],
      "source": [
        "df_val.count()"
      ]
    },
    {
      "cell_type": "code",
      "execution_count": 17,
      "metadata": {
        "colab": {
          "base_uri": "https://localhost:8080/"
        },
        "id": "Hj_BdDsA4849",
        "outputId": "52825781-d794-41b6-9e09-25af8cc3ec6a"
      },
      "outputs": [
        {
          "data": {
            "text/plain": [
              "word     15545\n",
              "label    15545\n",
              "dtype: int64"
            ]
          },
          "execution_count": 17,
          "metadata": {},
          "output_type": "execute_result"
        }
      ],
      "source": [
        "df_test.count()"
      ]
    },
    {
      "cell_type": "markdown",
      "metadata": {
        "id": "XJrGcYbJ4849"
      },
      "source": [
        "## Data pre-processing"
      ]
    },
    {
      "cell_type": "markdown",
      "metadata": {
        "id": "vjPNQ9ilk7X_"
      },
      "source": [
        "Clean the data."
      ]
    },
    {
      "cell_type": "code",
      "execution_count": 18,
      "metadata": {
        "id": "4T_aIaLxk4Xp"
      },
      "outputs": [],
      "source": [
        "def cleanCorpus(corpus):\n",
        "    # Lower every word    \n",
        "    corpus['word'] = corpus['word'].str.lower()\n",
        "    return corpus"
      ]
    },
    {
      "cell_type": "code",
      "execution_count": 19,
      "metadata": {
        "colab": {
          "base_uri": "https://localhost:8080/",
          "height": 336
        },
        "id": "DzhR6r5HOw5x",
        "outputId": "5001ebcf-9055-4027-f9b8-7f9d7f5fbd45"
      },
      "outputs": [
        {
          "data": {
            "image/png": "[encoded data removed]",
            "text/plain": [
              "<Figure size 1080x360 with 1 Axes>"
            ]
          },
          "metadata": {
            "needs_background": "light"
          },
          "output_type": "display_data"
        }
      ],
      "source": [
        "fig=plt.figure(figsize=(15,5))\n",
        "p = plt.hist(cleanCorpus(full_dataset)[\"label\"])\n",
        "plt.xticks(rotation=45)\n",
        "plt.show()"
      ]
    },
    {
      "cell_type": "code",
      "execution_count": 20,
      "metadata": {
        "colab": {
          "base_uri": "https://localhost:8080/"
        },
        "id": "lV6x05Lu26ym",
        "outputId": "3a2841fc-4604-4259-81ce-88908aa93cfe"
      },
      "outputs": [
        {
          "data": {
            "text/plain": [
              "word     47356\n",
              "label    47356\n",
              "dtype: int64"
            ]
          },
          "execution_count": 20,
          "metadata": {},
          "output_type": "execute_result"
        }
      ],
      "source": [
        "#cleaned dataframes\n",
        "dfc_train = cleanCorpus(df_train)\n",
        "dfc_val = cleanCorpus(df_val)\n",
        "dfc_test = cleanCorpus(df_test)\n",
        "dfc_sample = cleanCorpus(sample_article)\n",
        "\n",
        "dfc_train.count()"
      ]
    },
    {
      "cell_type": "code",
      "execution_count": 21,
      "metadata": {
        "colab": {
          "base_uri": "https://localhost:8080/"
        },
        "id": "6Y4lYHXy484-",
        "outputId": "a1b0d58f-60da-436b-ac1a-d11473f94165"
      },
      "outputs": [
        {
          "data": {
            "text/plain": [
              "word     31183\n",
              "label    31183\n",
              "dtype: int64"
            ]
          },
          "execution_count": 21,
          "metadata": {},
          "output_type": "execute_result"
        }
      ],
      "source": [
        "dfc_val.count()"
      ]
    },
    {
      "cell_type": "code",
      "execution_count": 22,
      "metadata": {
        "colab": {
          "base_uri": "https://localhost:8080/"
        },
        "id": "JfjU5ZVo484-",
        "outputId": "efef1221-db10-4f1b-90e0-bd5a8e49c5b4"
      },
      "outputs": [
        {
          "data": {
            "text/plain": [
              "word     15545\n",
              "label    15545\n",
              "dtype: int64"
            ]
          },
          "execution_count": 22,
          "metadata": {},
          "output_type": "execute_result"
        }
      ],
      "source": [
        "dfc_test.count()"
      ]
    },
    {
      "cell_type": "code",
      "execution_count": 23,
      "metadata": {
        "colab": {
          "base_uri": "https://localhost:8080/",
          "height": 677
        },
        "id": "R4fHZaScmPoU",
        "outputId": "86e9754c-941f-43cd-bfdc-9303b40b3f26"
      },
      "outputs": [
        {
          "data": {
            "text/html": [
              "\n",
              "  <div id=\"df-4360b9f1-ba4a-40f7-9e21-88160f401ef4\">\n",
              "    <div class=\"colab-df-container\">\n",
              "      <div>\n",
              "<style scoped>\n",
              "    .dataframe tbody tr th:only-of-type {\n",
              "        vertical-align: middle;\n",
              "    }\n",
              "\n",
              "    .dataframe tbody tr th {\n",
              "        vertical-align: top;\n",
              "    }\n",
              "\n",
              "    .dataframe thead th {\n",
              "        text-align: right;\n",
              "    }\n",
              "</style>\n",
              "<table border=\"1\" class=\"dataframe\">\n",
              "  <thead>\n",
              "    <tr style=\"text-align: right;\">\n",
              "      <th></th>\n",
              "      <th>word</th>\n",
              "      <th>label</th>\n",
              "    </tr>\n",
              "  </thead>\n",
              "  <tbody>\n",
              "    <tr>\n",
              "      <th>0</th>\n",
              "      <td>pierre</td>\n",
              "      <td>NNP</td>\n",
              "    </tr>\n",
              "    <tr>\n",
              "      <th>1</th>\n",
              "      <td>vinken</td>\n",
              "      <td>NNP</td>\n",
              "    </tr>\n",
              "    <tr>\n",
              "      <th>2</th>\n",
              "      <td>,</td>\n",
              "      <td>,</td>\n",
              "    </tr>\n",
              "    <tr>\n",
              "      <th>3</th>\n",
              "      <td>61</td>\n",
              "      <td>CD</td>\n",
              "    </tr>\n",
              "    <tr>\n",
              "      <th>4</th>\n",
              "      <td>years</td>\n",
              "      <td>NNS</td>\n",
              "    </tr>\n",
              "    <tr>\n",
              "      <th>5</th>\n",
              "      <td>old</td>\n",
              "      <td>JJ</td>\n",
              "    </tr>\n",
              "    <tr>\n",
              "      <th>6</th>\n",
              "      <td>,</td>\n",
              "      <td>,</td>\n",
              "    </tr>\n",
              "    <tr>\n",
              "      <th>7</th>\n",
              "      <td>will</td>\n",
              "      <td>MD</td>\n",
              "    </tr>\n",
              "    <tr>\n",
              "      <th>8</th>\n",
              "      <td>join</td>\n",
              "      <td>VB</td>\n",
              "    </tr>\n",
              "    <tr>\n",
              "      <th>9</th>\n",
              "      <td>the</td>\n",
              "      <td>DT</td>\n",
              "    </tr>\n",
              "    <tr>\n",
              "      <th>10</th>\n",
              "      <td>board</td>\n",
              "      <td>NN</td>\n",
              "    </tr>\n",
              "    <tr>\n",
              "      <th>11</th>\n",
              "      <td>as</td>\n",
              "      <td>IN</td>\n",
              "    </tr>\n",
              "    <tr>\n",
              "      <th>12</th>\n",
              "      <td>a</td>\n",
              "      <td>DT</td>\n",
              "    </tr>\n",
              "    <tr>\n",
              "      <th>13</th>\n",
              "      <td>nonexecutive</td>\n",
              "      <td>JJ</td>\n",
              "    </tr>\n",
              "    <tr>\n",
              "      <th>14</th>\n",
              "      <td>director</td>\n",
              "      <td>NN</td>\n",
              "    </tr>\n",
              "    <tr>\n",
              "      <th>15</th>\n",
              "      <td>nov.</td>\n",
              "      <td>NNP</td>\n",
              "    </tr>\n",
              "    <tr>\n",
              "      <th>16</th>\n",
              "      <td>29</td>\n",
              "      <td>CD</td>\n",
              "    </tr>\n",
              "    <tr>\n",
              "      <th>17</th>\n",
              "      <td>.</td>\n",
              "      <td>.</td>\n",
              "    </tr>\n",
              "    <tr>\n",
              "      <th>18</th>\n",
              "      <td>mr.</td>\n",
              "      <td>NNP</td>\n",
              "    </tr>\n",
              "    <tr>\n",
              "      <th>19</th>\n",
              "      <td>vinken</td>\n",
              "      <td>NNP</td>\n",
              "    </tr>\n",
              "  </tbody>\n",
              "</table>\n",
              "</div>\n",
              "      <button class=\"colab-df-convert\" onclick=\"convertToInteractive('df-4360b9f1-ba4a-40f7-9e21-88160f401ef4')\"\n",
              "              title=\"Convert this dataframe to an interactive table.\"\n",
              "              style=\"display:none;\">\n",
              "        \n",
              "  <svg xmlns=\"http://www.w3.org/2000/svg\" height=\"24px\"viewBox=\"0 0 24 24\"\n",
              "       width=\"24px\">\n",
              "    <path d=\"M0 0h24v24H0V0z\" fill=\"none\"/>\n",
              "    <path d=\"M18.56 5.44l.94 2.06.94-2.06 2.06-.94-2.06-.94-.94-2.06-.94 2.06-2.06.94zm-11 1L8.5 8.5l.94-2.06 2.06-.94-2.06-.94L8.5 2.5l-.94 2.06-2.06.94zm10 10l.94 2.06.94-2.06 2.06-.94-2.06-.94-.94-2.06-.94 2.06-2.06.94z\"/><path d=\"M17.41 7.96l-1.37-1.37c-.4-.4-.92-.59-1.43-.59-.52 0-1.04.2-1.43.59L10.3 9.45l-7.72 7.72c-.78.78-.78 2.05 0 2.83L4 21.41c.39.39.9.59 1.41.59.51 0 1.02-.2 1.41-.59l7.78-7.78 2.81-2.81c.8-.78.8-2.07 0-2.86zM5.41 20L4 18.59l7.72-7.72 1.47 1.35L5.41 20z\"/>\n",
              "  </svg>\n",
              "      </button>\n",
              "      \n",
              "  <style>\n",
              "    .colab-df-container {\n",
              "      display:flex;\n",
              "      flex-wrap:wrap;\n",
              "      gap: 12px;\n",
              "    }\n",
              "\n",
              "    .colab-df-convert {\n",
              "      background-color: #E8F0FE;\n",
              "      border: none;\n",
              "      border-radius: 50%;\n",
              "      cursor: pointer;\n",
              "      display: none;\n",
              "      fill: #1967D2;\n",
              "      height: 32px;\n",
              "      padding: 0 0 0 0;\n",
              "      width: 32px;\n",
              "    }\n",
              "\n",
              "    .colab-df-convert:hover {\n",
              "      background-color: #E2EBFA;\n",
              "      box-shadow: 0px 1px 2px rgba(60, 64, 67, 0.3), 0px 1px 3px 1px rgba(60, 64, 67, 0.15);\n",
              "      fill: #174EA6;\n",
              "    }\n",
              "\n",
              "    [theme=dark] .colab-df-convert {\n",
              "      background-color: #3B4455;\n",
              "      fill: #D2E3FC;\n",
              "    }\n",
              "\n",
              "    [theme=dark] .colab-df-convert:hover {\n",
              "      background-color: #434B5C;\n",
              "      box-shadow: 0px 1px 3px 1px rgba(0, 0, 0, 0.15);\n",
              "      filter: drop-shadow(0px 1px 2px rgba(0, 0, 0, 0.3));\n",
              "      fill: #FFFFFF;\n",
              "    }\n",
              "  </style>\n",
              "\n",
              "      <script>\n",
              "        const buttonEl =\n",
              "          document.querySelector('#df-4360b9f1-ba4a-40f7-9e21-88160f401ef4 button.colab-df-convert');\n",
              "        buttonEl.style.display =\n",
              "          google.colab.kernel.accessAllowed ? 'block' : 'none';\n",
              "\n",
              "        async function convertToInteractive(key) {\n",
              "          const element = document.querySelector('#df-4360b9f1-ba4a-40f7-9e21-88160f401ef4');\n",
              "          const dataTable =\n",
              "            await google.colab.kernel.invokeFunction('convertToInteractive',\n",
              "                                                     [key], {});\n",
              "          if (!dataTable) return;\n",
              "\n",
              "          const docLinkHtml = 'Like what you see? Visit the ' +\n",
              "            '<a target=\"_blank\" href=https://colab.research.google.com/notebooks/data_table.ipynb>data table notebook</a>'\n",
              "            + ' to learn more about interactive tables.';\n",
              "          element.innerHTML = '';\n",
              "          dataTable['output_type'] = 'display_data';\n",
              "          await google.colab.output.renderOutput(dataTable, element);\n",
              "          const docLink = document.createElement('div');\n",
              "          docLink.innerHTML = docLinkHtml;\n",
              "          element.appendChild(docLink);\n",
              "        }\n",
              "      </script>\n",
              "    </div>\n",
              "  </div>\n",
              "  "
            ],
            "text/plain": [
              "            word label\n",
              "0         pierre   NNP\n",
              "1         vinken   NNP\n",
              "2              ,     ,\n",
              "3             61    CD\n",
              "4          years   NNS\n",
              "5            old    JJ\n",
              "6              ,     ,\n",
              "7           will    MD\n",
              "8           join    VB\n",
              "9            the    DT\n",
              "10         board    NN\n",
              "11            as    IN\n",
              "12             a    DT\n",
              "13  nonexecutive    JJ\n",
              "14      director    NN\n",
              "15          nov.   NNP\n",
              "16            29    CD\n",
              "17             .     .\n",
              "18           mr.   NNP\n",
              "19        vinken   NNP"
            ]
          },
          "execution_count": 23,
          "metadata": {},
          "output_type": "execute_result"
        }
      ],
      "source": [
        "dfc_train.head(20)"
      ]
    },
    {
      "cell_type": "markdown",
      "metadata": {
        "id": "6VsU_XpAi8CF"
      },
      "source": [
        "## Word embedding"
      ]
    },
    {
      "cell_type": "markdown",
      "metadata": {
        "id": "4Bep7HYL484_"
      },
      "source": [
        "### Loading GloVe"
      ]
    },
    {
      "cell_type": "markdown",
      "metadata": {
        "id": "92d15Xzr4qAn"
      },
      "source": [
        "\n",
        "Loading pre-trained dense word embedding representation: GloVe.\n",
        "\n",
        "\n",
        "\n",
        "\n"
      ]
    },
    {
      "cell_type": "code",
      "execution_count": 24,
      "metadata": {
        "id": "UZBrvzL8t6_U"
      },
      "outputs": [],
      "source": [
        "import gensim\n",
        "import gensim.downloader as gloader\n",
        "\n",
        "def load_embedding_model(model_type: str,\n",
        "                         embedding_dimension: int = 50) -> gensim.models.keyedvectors.KeyedVectors:\n",
        "    \"\"\"\n",
        "    Loads a pre-trained word embedding model via gensim library.\n",
        "\n",
        "    :param model_type: name of the word embedding model to load.\n",
        "    :param embedding_dimension: size of the embedding space to consider\n",
        "\n",
        "    :return\n",
        "        - pre-trained word embedding model (gensim KeyedVectors object)\n",
        "    \"\"\"\n",
        "    download_path = \"\"\n",
        "    if model_type.strip().lower() == 'word2vec':\n",
        "        download_path = \"word2vec-google-news-300\"\n",
        "\n",
        "    elif model_type.strip().lower() == 'glove':\n",
        "        download_path = \"glove-wiki-gigaword-{}\".format(embedding_dimension)\n",
        "    elif model_type.strip().lower() == 'fasttext':\n",
        "        download_path = \"fasttext-wiki-news-subwords-300\"\n",
        "    else:\n",
        "        raise AttributeError(\"Unsupported embedding model type! Available ones: word2vec, glove, fasttext\")\n",
        "        \n",
        "    try:\n",
        "        emb_model = gloader.load(download_path)\n",
        "    except ValueError as e:\n",
        "        print(\"Invalid embedding model name! Check the embedding dimension:\")\n",
        "        print(\"Word2Vec: 300\")\n",
        "        print(\"Glove: 50, 100, 200, 300\")\n",
        "        print('FastText: 300')\n",
        "        raise e\n",
        "\n",
        "    return emb_model"
      ]
    },
    {
      "cell_type": "code",
      "execution_count": 25,
      "metadata": {
        "colab": {
          "base_uri": "https://localhost:8080/"
        },
        "id": "2hPJ_neS5Vxd",
        "outputId": "9e6ce48c-56c6-4887-d7d9-5d09904cb44d"
      },
      "outputs": [
        {
          "name": "stdout",
          "output_type": "stream",
          "text": [
            "[==================================================] 100.0% 252.1/252.1MB downloaded\n"
          ]
        }
      ],
      "source": [
        "# Modify these variables as you wish!\n",
        "# Glove -> 50, 100, 200, 300 (200 seems the better)\n",
        "# Word2Vec -> 300\n",
        "# Fasttext -> 300\n",
        "embedding_dimension = 200\n",
        "embedding_model = load_embedding_model(model_type=\"glove\", embedding_dimension= embedding_dimension)"
      ]
    },
    {
      "cell_type": "markdown",
      "metadata": {
        "id": "jU0rgZ0I484_"
      },
      "source": [
        "### Analyzing OOV statistics"
      ]
    },
    {
      "cell_type": "code",
      "execution_count": 26,
      "metadata": {
        "colab": {
          "base_uri": "https://localhost:8080/"
        },
        "id": "S76fxrkJ484_",
        "outputId": "34329e78-0326-428e-e766-d2c8ea8095fc"
      },
      "outputs": [
        {
          "data": {
            "text/plain": [
              "['the', ',', '.', 'of', 'to', 'and', 'in', 'a', '\"', \"'s\"]"
            ]
          },
          "execution_count": 26,
          "metadata": {},
          "output_type": "execute_result"
        }
      ],
      "source": [
        "embedding_model.index_to_key[0:10]"
      ]
    },
    {
      "cell_type": "code",
      "execution_count": 27,
      "metadata": {
        "colab": {
          "base_uri": "https://localhost:8080/"
        },
        "id": "CdGVCkXI485A",
        "outputId": "4d570f78-159f-4ce4-831a-72996e435aab"
      },
      "outputs": [
        {
          "name": "stdout",
          "output_type": "stream",
          "text": [
            "oov_train_size: 359\n",
            "oov_val_size: 213\n",
            "oov_test_size: 161\n"
          ]
        }
      ],
      "source": [
        "oov_train = list(set([word for word in dfc_train.word.values if word not in embedding_model.index_to_key]))\n",
        "oov_val = list(set([word for word in dfc_val.word.values if word not in embedding_model.index_to_key]))\n",
        "oov_test = list(set([word for word in dfc_test.word.values if word not in embedding_model.index_to_key]))\n",
        "print(f'oov_train_size: {len(oov_train)}')\n",
        "print(f'oov_val_size: {len(oov_val)}')\n",
        "print(f'oov_test_size: {len(oov_test)}')"
      ]
    },
    {
      "cell_type": "code",
      "execution_count": 28,
      "metadata": {
        "colab": {
          "base_uri": "https://localhost:8080/"
        },
        "id": "_FCfRir-485A",
        "outputId": "bc2ad957-8e7e-460d-97fd-0748ff2cbf06"
      },
      "outputs": [
        {
          "data": {
            "text/plain": [
              "['glenham',\n",
              " 'stock-index',\n",
              " 'beer-belly',\n",
              " '69-point',\n",
              " 'integra-a',\n",
              " 'food-shop',\n",
              " 're-thought',\n",
              " 'malizia',\n",
              " 'drag-down',\n",
              " 'test-preparation']"
            ]
          },
          "execution_count": 28,
          "metadata": {},
          "output_type": "execute_result"
        }
      ],
      "source": [
        "oov_train[0:10]"
      ]
    },
    {
      "cell_type": "markdown",
      "metadata": {
        "id": "d3NWFTMjmg78"
      },
      "source": [
        "### GloVe Embedding"
      ]
    },
    {
      "cell_type": "markdown",
      "metadata": {
        "id": "vMrf7Fro485A"
      },
      "source": [
        "#### Prepare the embedding matrix"
      ]
    },
    {
      "cell_type": "code",
      "execution_count": 29,
      "metadata": {
        "id": "O5GdVec3XGTn"
      },
      "outputs": [],
      "source": [
        "def deal_OOV(vectors, vocabulary, embedding_dimension, oov_set):\n",
        "  #deal with oov words by adding a random embedding vector to the embedding matrix\n",
        "  for idx in range(0, len(oov_set)):\n",
        "    if oov_set[idx] not in vocabulary:\n",
        "      vocabulary.append(oov_set[idx])\n",
        "      #use random embedding for OOV word\n",
        "      embedding_vector = np.random.uniform(low=-0.05, high=0.05, size= embedding_dimension)\n",
        "      vectors.append(embedding_vector)\n",
        "  return vocabulary, vectors"
      ]
    },
    {
      "cell_type": "code",
      "execution_count": 30,
      "metadata": {
        "colab": {
          "base_uri": "https://localhost:8080/"
        },
        "id": "IlTNKSH5MLQ_",
        "outputId": "6ef37040-932b-42b0-8566-7004d3527e28"
      },
      "outputs": [
        {
          "name": "stdout",
          "output_type": "stream",
          "text": [
            "(400677, 200)\n"
          ]
        }
      ],
      "source": [
        "#GloVe vocabulary\n",
        "words = list(embedding_model.index_to_key)\n",
        "#extracting the GloVe embedding vectors\n",
        "vectors = [embedding_model[word] for word in words]\n",
        "em0 =np.array([0.0]*embedding_dimension)\n",
        "vectors.insert(0, em0)\n",
        "\n",
        "#deal with train oov words\n",
        "vocab, vectors = deal_OOV(vectors, words, embedding_dimension, oov_train)\n",
        "#deal with validation oov words\n",
        "vocab, vectors = deal_OOV(vectors, vocab, embedding_dimension, oov_val)\n",
        "#deal with test oov words\n",
        "vocab, vectors = deal_OOV(vectors, vocab, embedding_dimension, oov_test)\n",
        "\n",
        "embedding_matrix = np.asarray(vectors)\n",
        "print(np.shape(embedding_matrix))\n"
      ]
    },
    {
      "cell_type": "markdown",
      "metadata": {
        "id": "9Htl90Gw485B"
      },
      "source": [
        "Define a tokenizer."
      ]
    },
    {
      "cell_type": "code",
      "execution_count": 31,
      "metadata": {
        "colab": {
          "base_uri": "https://localhost:8080/"
        },
        "id": "coeo_iy1gJSu",
        "outputId": "87ecf143-6389-4a30-da5b-86628d2d71d7"
      },
      "outputs": [
        {
          "name": "stdout",
          "output_type": "stream",
          "text": [
            "Number of unique words in dictionary= 400676\n",
            "Dictionary head:  {'the': 1, ',': 2, '.': 3, 'of': 4, 'to': 5, 'and': 6, 'in': 7, 'a': 8, '\"': 9, \"'s\": 10, 'for': 11, '-': 12, 'that': 13, 'on': 14, 'is': 15, 'was': 16, 'said': 17, 'with': 18, 'he': 19, 'as': 20, 'it': 21, 'by': 22, 'at': 23, '(': 24, ')': 25, 'from': 26, 'his': 27, \"''\": 28, '``': 29, 'an': 30, 'be': 31, 'has': 32, 'are': 33, 'have': 34, 'but': 35, 'were': 36, 'not': 37, 'this': 38, 'who': 39, 'they': 40, 'had': 41, 'i': 42, 'which': 43, 'will': 44, 'their': 45, ':': 46, 'or': 47, 'its': 48, 'one': 49, 'after': 50}\n"
          ]
        }
      ],
      "source": [
        "from tensorflow.keras.preprocessing.text import Tokenizer\n",
        "\n",
        "# define the tokenizer, removing the default filters: '!\"#$%&()*+,-./:;<=>?@[\\\\]^_`{|}~\\t\\n' \n",
        "tokenizer = Tokenizer(filters='')\n",
        "#text = dfc_train.word.values\n",
        "#fit the tokenizer on the vocabulary of GloVe, including also the OOV words \n",
        "tokenizer.fit_on_texts(vocab)\n",
        "\n",
        "# number of unique words in dict.\n",
        "print(\"Number of unique words in dictionary=\", len(tokenizer.word_index))\n",
        "print(\"Dictionary head: \", dict(list(tokenizer.word_index.items())[0:50]))"
      ]
    },
    {
      "cell_type": "code",
      "execution_count": 32,
      "metadata": {
        "colab": {
          "base_uri": "https://localhost:8080/",
          "height": 70
        },
        "id": "6pHoC5Xe3ETA",
        "outputId": "93357291-779a-4630-8841-ba3d33b2be14"
      },
      "outputs": [
        {
          "data": {
            "application/vnd.google.colaboratory.intrinsic+json": {
              "type": "string"
            },
            "text/plain": [
              "'\\nfrom tensorflow.keras.preprocessing.text import Tokenizer\\n\\n# define the tokenizer\\ntokenizer = Tokenizer(oov_token=\\'<unk>\\')\\ntext = dfc_train.word.values\\n\\n#fit the tokenizer on the training data\\ntokenizer.fit_on_texts(text)\\n\\n# number of unique words in dict.\\nprint(\"Number of unique words in dictionary=\", len(tokenizer.word_index))\\nprint(\"Dictionary head: \", dict(list(tokenizer.word_index.items())[0:10]))\\n'"
            ]
          },
          "execution_count": 32,
          "metadata": {},
          "output_type": "execute_result"
        }
      ],
      "source": [
        "\"\"\"\n",
        "from tensorflow.keras.preprocessing.text import Tokenizer\n",
        "\n",
        "# define the tokenizer\n",
        "tokenizer = Tokenizer(oov_token='<unk>')\n",
        "text = dfc_train.word.values\n",
        "\n",
        "#fit the tokenizer on the training data\n",
        "tokenizer.fit_on_texts(text)\n",
        "\n",
        "# number of unique words in dict.\n",
        "print(\"Number of unique words in dictionary=\", len(tokenizer.word_index))\n",
        "print(\"Dictionary head: \", dict(list(tokenizer.word_index.items())[0:10]))\n",
        "\"\"\""
      ]
    },
    {
      "cell_type": "code",
      "execution_count": 33,
      "metadata": {
        "id": "HoHKd6mLOw52"
      },
      "outputs": [],
      "source": [
        "with open('./Dataset/word_index.json','w') as word_index_file:\n",
        "    word_index_file.write(tokenizer.to_json())"
      ]
    },
    {
      "cell_type": "markdown",
      "metadata": {
        "id": "zYWHS267ohxZ"
      },
      "source": [
        "Define the embedding matrix."
      ]
    },
    {
      "cell_type": "code",
      "execution_count": 34,
      "metadata": {
        "colab": {
          "base_uri": "https://localhost:8080/",
          "height": 105
        },
        "id": "xpBaqwkd5axM",
        "outputId": "3232587f-d459-4027-fe6d-1a117d6c99ec"
      },
      "outputs": [
        {
          "data": {
            "application/vnd.google.colaboratory.intrinsic+json": {
              "type": "string"
            },
            "text/plain": [
              "'\\nfrom tqdm import tqdm\\n\\ndef build_embedding_matrix(embedding_model: gensim.models.keyedvectors.KeyedVectors,\\n                           embedding_dimension: int,\\n                           word_to_idx,\\n                           vocab_size: int) -> np.ndarray:\\n    \\n    Builds the embedding matrix of a specific dataset given a pre-trained word embedding model\\n\\n    :param embedding_model: pre-trained word embedding model (gensim wrapper)\\n    :param word_to_idx: vocabulary map (word -> index) (dict)\\n    :param vocab_size: size of the vocabulary\\n    \\n\\n    :return\\n        - embedding matrix that assigns a high dimensional vector to each word in the dataset specific vocabulary (shape |V| x d)\\n    \\n    embedding_matrix = np.zeros((vocab_size, embedding_dimension), dtype=np.float32)\\n    for word, idx in tqdm(tokenizer.word_index.items()):\\n        try:\\n            embedding_vector = embedding_model[word]\\n        except (KeyError, TypeError):\\n            #print(f\"Using random vector for \\'{word}\\'\")\\n            embedding_vector = np.random.uniform(low=-0.05, high=0.05, size=embedding_dimension)\\n\\n        embedding_matrix[idx] = embedding_vector\\n\\n    return embedding_matrix\\n'"
            ]
          },
          "execution_count": 34,
          "metadata": {},
          "output_type": "execute_result"
        }
      ],
      "source": [
        "#remove it after we are sure about the correctness of the embedding done above \n",
        "\"\"\"\n",
        "from tqdm import tqdm\n",
        "\n",
        "def build_embedding_matrix(embedding_model: gensim.models.keyedvectors.KeyedVectors,\n",
        "                           embedding_dimension: int,\n",
        "                           word_to_idx,\n",
        "                           vocab_size: int) -> np.ndarray:\n",
        "    \n",
        "    Builds the embedding matrix of a specific dataset given a pre-trained word embedding model\n",
        "\n",
        "    :param embedding_model: pre-trained word embedding model (gensim wrapper)\n",
        "    :param word_to_idx: vocabulary map (word -> index) (dict)\n",
        "    :param vocab_size: size of the vocabulary\n",
        "    \n",
        "\n",
        "    :return\n",
        "        - embedding matrix that assigns a high dimensional vector to each word in the dataset specific vocabulary (shape |V| x d)\n",
        "    \n",
        "    embedding_matrix = np.zeros((vocab_size, embedding_dimension), dtype=np.float32)\n",
        "    for word, idx in tqdm(tokenizer.word_index.items()):\n",
        "        try:\n",
        "            embedding_vector = embedding_model[word]\n",
        "        except (KeyError, TypeError):\n",
        "            #print(f\"Using random vector for '{word}'\")\n",
        "            embedding_vector = np.random.uniform(low=-0.05, high=0.05, size=embedding_dimension)\n",
        "\n",
        "        embedding_matrix[idx] = embedding_vector\n",
        "\n",
        "    return embedding_matrix\n",
        "\"\"\""
      ]
    },
    {
      "cell_type": "code",
      "execution_count": 35,
      "metadata": {
        "colab": {
          "base_uri": "https://localhost:8080/",
          "height": 53
        },
        "id": "nYYqz59Ilmem",
        "outputId": "69db89b4-07f8-42e3-fa98-9eac4276215d"
      },
      "outputs": [
        {
          "data": {
            "application/vnd.google.colaboratory.intrinsic+json": {
              "type": "string"
            },
            "text/plain": [
              "'\\n# Testing\\nembedding_dimension = 50\\nvocab_size = len(tokenizer.word_index) + 1\\nembedding_matrix = build_embedding_matrix(embedding_model, embedding_dimension, tokenizer.word_index, vocab_size )\\nprint(f\"Embedding matrix shape: {embedding_matrix.shape}\")\\n'"
            ]
          },
          "execution_count": 35,
          "metadata": {},
          "output_type": "execute_result"
        }
      ],
      "source": [
        "\"\"\"\n",
        "# Testing\n",
        "embedding_dimension = 50\n",
        "vocab_size = len(tokenizer.word_index) + 1\n",
        "embedding_matrix = build_embedding_matrix(embedding_model, embedding_dimension, tokenizer.word_index, vocab_size )\n",
        "print(f\"Embedding matrix shape: {embedding_matrix.shape}\")\n",
        "\"\"\""
      ]
    },
    {
      "cell_type": "markdown",
      "metadata": {
        "id": "ojCSzxS1485B"
      },
      "source": [
        "#### Encode the dataset"
      ]
    },
    {
      "cell_type": "markdown",
      "metadata": {
        "id": "BLiAw26WqhqF"
      },
      "source": [
        "Define a label encoder for the target class."
      ]
    },
    {
      "cell_type": "code",
      "execution_count": 36,
      "metadata": {
        "id": "54XQt_rz6fgv"
      },
      "outputs": [],
      "source": [
        "from sklearn.preprocessing import LabelEncoder, OneHotEncoder\n",
        "\n",
        "le = LabelEncoder()\n",
        "dfc_train['encoded_label'] = le.fit_transform(dfc_train['label'])\n",
        "dfc_val['encoded_label'] = le.transform(dfc_val['label'])\n",
        "dfc_test['encoded_label'] = le.transform(dfc_test['label'])\n",
        "dfc_sample['encoded_label'] = le.transform(dfc_sample['label'])"
      ]
    },
    {
      "cell_type": "code",
      "execution_count": null,
      "metadata": {
        "colab": {
          "base_uri": "https://localhost:8080/",
          "height": 206
        },
        "id": "wPUJhubiPn5k",
        "outputId": "e444b174-0d27-48e6-f589-3e8109de86fb"
      },
      "outputs": [
        {
          "data": {
            "text/html": [
              "<div>\n",
              "<style scoped>\n",
              "    .dataframe tbody tr th:only-of-type {\n",
              "        vertical-align: middle;\n",
              "    }\n",
              "\n",
              "    .dataframe tbody tr th {\n",
              "        vertical-align: top;\n",
              "    }\n",
              "\n",
              "    .dataframe thead th {\n",
              "        text-align: right;\n",
              "    }\n",
              "</style>\n",
              "<table border=\"1\" class=\"dataframe\">\n",
              "  <thead>\n",
              "    <tr style=\"text-align: right;\">\n",
              "      <th></th>\n",
              "      <th>label</th>\n",
              "      <th>encoded_label</th>\n",
              "    </tr>\n",
              "  </thead>\n",
              "  <tbody>\n",
              "    <tr>\n",
              "      <th>0</th>\n",
              "      <td>NNP</td>\n",
              "      <td>20</td>\n",
              "    </tr>\n",
              "    <tr>\n",
              "      <th>1</th>\n",
              "      <td>,</td>\n",
              "      <td>3</td>\n",
              "    </tr>\n",
              "    <tr>\n",
              "      <th>2</th>\n",
              "      <td>CD</td>\n",
              "      <td>9</td>\n",
              "    </tr>\n",
              "    <tr>\n",
              "      <th>3</th>\n",
              "      <td>NNS</td>\n",
              "      <td>22</td>\n",
              "    </tr>\n",
              "    <tr>\n",
              "      <th>4</th>\n",
              "      <td>JJ</td>\n",
              "      <td>14</td>\n",
              "    </tr>\n",
              "  </tbody>\n",
              "</table>\n",
              "</div>"
            ],
            "text/plain": [
              "  label  encoded_label\n",
              "0   NNP             20\n",
              "1     ,              3\n",
              "2    CD              9\n",
              "3   NNS             22\n",
              "4    JJ             14"
            ]
          },
          "metadata": {},
          "output_type": "display_data"
        }
      ],
      "source": [
        "df_labels = pd.concat([dfc_train, dfc_val, dfc_test]).drop(\"word\", axis=1)\n",
        "df_labels = df_labels.drop_duplicates()\n",
        "df_labels = df_labels.reset_index(drop=True)\n",
        "df_labels.head()"
      ]
    },
    {
      "cell_type": "code",
      "execution_count": 37,
      "metadata": {
        "colab": {
          "base_uri": "https://localhost:8080/",
          "height": 677
        },
        "id": "5YGyoO0h485C",
        "outputId": "9f53d33a-d0f8-4d6c-e228-160e2f7f8ada"
      },
      "outputs": [
        {
          "data": {
            "text/html": [
              "\n",
              "  <div id=\"df-87da4bbb-2543-4cdc-a0e1-242fdca1387d\">\n",
              "    <div class=\"colab-df-container\">\n",
              "      <div>\n",
              "<style scoped>\n",
              "    .dataframe tbody tr th:only-of-type {\n",
              "        vertical-align: middle;\n",
              "    }\n",
              "\n",
              "    .dataframe tbody tr th {\n",
              "        vertical-align: top;\n",
              "    }\n",
              "\n",
              "    .dataframe thead th {\n",
              "        text-align: right;\n",
              "    }\n",
              "</style>\n",
              "<table border=\"1\" class=\"dataframe\">\n",
              "  <thead>\n",
              "    <tr style=\"text-align: right;\">\n",
              "      <th></th>\n",
              "      <th>word</th>\n",
              "      <th>label</th>\n",
              "      <th>encoded_label</th>\n",
              "    </tr>\n",
              "  </thead>\n",
              "  <tbody>\n",
              "    <tr>\n",
              "      <th>0</th>\n",
              "      <td>pierre</td>\n",
              "      <td>NNP</td>\n",
              "      <td>20</td>\n",
              "    </tr>\n",
              "    <tr>\n",
              "      <th>1</th>\n",
              "      <td>vinken</td>\n",
              "      <td>NNP</td>\n",
              "      <td>20</td>\n",
              "    </tr>\n",
              "    <tr>\n",
              "      <th>2</th>\n",
              "      <td>,</td>\n",
              "      <td>,</td>\n",
              "      <td>3</td>\n",
              "    </tr>\n",
              "    <tr>\n",
              "      <th>3</th>\n",
              "      <td>61</td>\n",
              "      <td>CD</td>\n",
              "      <td>9</td>\n",
              "    </tr>\n",
              "    <tr>\n",
              "      <th>4</th>\n",
              "      <td>years</td>\n",
              "      <td>NNS</td>\n",
              "      <td>22</td>\n",
              "    </tr>\n",
              "    <tr>\n",
              "      <th>5</th>\n",
              "      <td>old</td>\n",
              "      <td>JJ</td>\n",
              "      <td>14</td>\n",
              "    </tr>\n",
              "    <tr>\n",
              "      <th>6</th>\n",
              "      <td>,</td>\n",
              "      <td>,</td>\n",
              "      <td>3</td>\n",
              "    </tr>\n",
              "    <tr>\n",
              "      <th>7</th>\n",
              "      <td>will</td>\n",
              "      <td>MD</td>\n",
              "      <td>18</td>\n",
              "    </tr>\n",
              "    <tr>\n",
              "      <th>8</th>\n",
              "      <td>join</td>\n",
              "      <td>VB</td>\n",
              "      <td>34</td>\n",
              "    </tr>\n",
              "    <tr>\n",
              "      <th>9</th>\n",
              "      <td>the</td>\n",
              "      <td>DT</td>\n",
              "      <td>10</td>\n",
              "    </tr>\n",
              "    <tr>\n",
              "      <th>10</th>\n",
              "      <td>board</td>\n",
              "      <td>NN</td>\n",
              "      <td>19</td>\n",
              "    </tr>\n",
              "    <tr>\n",
              "      <th>11</th>\n",
              "      <td>as</td>\n",
              "      <td>IN</td>\n",
              "      <td>13</td>\n",
              "    </tr>\n",
              "    <tr>\n",
              "      <th>12</th>\n",
              "      <td>a</td>\n",
              "      <td>DT</td>\n",
              "      <td>10</td>\n",
              "    </tr>\n",
              "    <tr>\n",
              "      <th>13</th>\n",
              "      <td>nonexecutive</td>\n",
              "      <td>JJ</td>\n",
              "      <td>14</td>\n",
              "    </tr>\n",
              "    <tr>\n",
              "      <th>14</th>\n",
              "      <td>director</td>\n",
              "      <td>NN</td>\n",
              "      <td>19</td>\n",
              "    </tr>\n",
              "    <tr>\n",
              "      <th>15</th>\n",
              "      <td>nov.</td>\n",
              "      <td>NNP</td>\n",
              "      <td>20</td>\n",
              "    </tr>\n",
              "    <tr>\n",
              "      <th>16</th>\n",
              "      <td>29</td>\n",
              "      <td>CD</td>\n",
              "      <td>9</td>\n",
              "    </tr>\n",
              "    <tr>\n",
              "      <th>17</th>\n",
              "      <td>.</td>\n",
              "      <td>.</td>\n",
              "      <td>6</td>\n",
              "    </tr>\n",
              "    <tr>\n",
              "      <th>18</th>\n",
              "      <td>mr.</td>\n",
              "      <td>NNP</td>\n",
              "      <td>20</td>\n",
              "    </tr>\n",
              "    <tr>\n",
              "      <th>19</th>\n",
              "      <td>vinken</td>\n",
              "      <td>NNP</td>\n",
              "      <td>20</td>\n",
              "    </tr>\n",
              "  </tbody>\n",
              "</table>\n",
              "</div>\n",
              "      <button class=\"colab-df-convert\" onclick=\"convertToInteractive('df-87da4bbb-2543-4cdc-a0e1-242fdca1387d')\"\n",
              "              title=\"Convert this dataframe to an interactive table.\"\n",
              "              style=\"display:none;\">\n",
              "        \n",
              "  <svg xmlns=\"http://www.w3.org/2000/svg\" height=\"24px\"viewBox=\"0 0 24 24\"\n",
              "       width=\"24px\">\n",
              "    <path d=\"M0 0h24v24H0V0z\" fill=\"none\"/>\n",
              "    <path d=\"M18.56 5.44l.94 2.06.94-2.06 2.06-.94-2.06-.94-.94-2.06-.94 2.06-2.06.94zm-11 1L8.5 8.5l.94-2.06 2.06-.94-2.06-.94L8.5 2.5l-.94 2.06-2.06.94zm10 10l.94 2.06.94-2.06 2.06-.94-2.06-.94-.94-2.06-.94 2.06-2.06.94z\"/><path d=\"M17.41 7.96l-1.37-1.37c-.4-.4-.92-.59-1.43-.59-.52 0-1.04.2-1.43.59L10.3 9.45l-7.72 7.72c-.78.78-.78 2.05 0 2.83L4 21.41c.39.39.9.59 1.41.59.51 0 1.02-.2 1.41-.59l7.78-7.78 2.81-2.81c.8-.78.8-2.07 0-2.86zM5.41 20L4 18.59l7.72-7.72 1.47 1.35L5.41 20z\"/>\n",
              "  </svg>\n",
              "      </button>\n",
              "      \n",
              "  <style>\n",
              "    .colab-df-container {\n",
              "      display:flex;\n",
              "      flex-wrap:wrap;\n",
              "      gap: 12px;\n",
              "    }\n",
              "\n",
              "    .colab-df-convert {\n",
              "      background-color: #E8F0FE;\n",
              "      border: none;\n",
              "      border-radius: 50%;\n",
              "      cursor: pointer;\n",
              "      display: none;\n",
              "      fill: #1967D2;\n",
              "      height: 32px;\n",
              "      padding: 0 0 0 0;\n",
              "      width: 32px;\n",
              "    }\n",
              "\n",
              "    .colab-df-convert:hover {\n",
              "      background-color: #E2EBFA;\n",
              "      box-shadow: 0px 1px 2px rgba(60, 64, 67, 0.3), 0px 1px 3px 1px rgba(60, 64, 67, 0.15);\n",
              "      fill: #174EA6;\n",
              "    }\n",
              "\n",
              "    [theme=dark] .colab-df-convert {\n",
              "      background-color: #3B4455;\n",
              "      fill: #D2E3FC;\n",
              "    }\n",
              "\n",
              "    [theme=dark] .colab-df-convert:hover {\n",
              "      background-color: #434B5C;\n",
              "      box-shadow: 0px 1px 3px 1px rgba(0, 0, 0, 0.15);\n",
              "      filter: drop-shadow(0px 1px 2px rgba(0, 0, 0, 0.3));\n",
              "      fill: #FFFFFF;\n",
              "    }\n",
              "  </style>\n",
              "\n",
              "      <script>\n",
              "        const buttonEl =\n",
              "          document.querySelector('#df-87da4bbb-2543-4cdc-a0e1-242fdca1387d button.colab-df-convert');\n",
              "        buttonEl.style.display =\n",
              "          google.colab.kernel.accessAllowed ? 'block' : 'none';\n",
              "\n",
              "        async function convertToInteractive(key) {\n",
              "          const element = document.querySelector('#df-87da4bbb-2543-4cdc-a0e1-242fdca1387d');\n",
              "          const dataTable =\n",
              "            await google.colab.kernel.invokeFunction('convertToInteractive',\n",
              "                                                     [key], {});\n",
              "          if (!dataTable) return;\n",
              "\n",
              "          const docLinkHtml = 'Like what you see? Visit the ' +\n",
              "            '<a target=\"_blank\" href=https://colab.research.google.com/notebooks/data_table.ipynb>data table notebook</a>'\n",
              "            + ' to learn more about interactive tables.';\n",
              "          element.innerHTML = '';\n",
              "          dataTable['output_type'] = 'display_data';\n",
              "          await google.colab.output.renderOutput(dataTable, element);\n",
              "          const docLink = document.createElement('div');\n",
              "          docLink.innerHTML = docLinkHtml;\n",
              "          element.appendChild(docLink);\n",
              "        }\n",
              "      </script>\n",
              "    </div>\n",
              "  </div>\n",
              "  "
            ],
            "text/plain": [
              "            word label  encoded_label\n",
              "0         pierre   NNP             20\n",
              "1         vinken   NNP             20\n",
              "2              ,     ,              3\n",
              "3             61    CD              9\n",
              "4          years   NNS             22\n",
              "5            old    JJ             14\n",
              "6              ,     ,              3\n",
              "7           will    MD             18\n",
              "8           join    VB             34\n",
              "9            the    DT             10\n",
              "10         board    NN             19\n",
              "11            as    IN             13\n",
              "12             a    DT             10\n",
              "13  nonexecutive    JJ             14\n",
              "14      director    NN             19\n",
              "15          nov.   NNP             20\n",
              "16            29    CD              9\n",
              "17             .     .              6\n",
              "18           mr.   NNP             20\n",
              "19        vinken   NNP             20"
            ]
          },
          "execution_count": 37,
          "metadata": {},
          "output_type": "execute_result"
        }
      ],
      "source": [
        "dfc_train.head(20)"
      ]
    },
    {
      "cell_type": "code",
      "execution_count": 38,
      "metadata": {
        "colab": {
          "base_uri": "https://localhost:8080/"
        },
        "id": "NWhjjLitz3f7",
        "outputId": "c6d763b6-babc-47c9-ca91-3eb24fe86354"
      },
      "outputs": [
        {
          "name": "stdout",
          "output_type": "stream",
          "text": [
            "Punctation labels: [ 3  6 44  2  7  1  4  5 31  0]\n"
          ]
        }
      ],
      "source": [
        "# Filter out punctuation based on the class\n",
        "# https://universaldependencies.org/docs/en/pos/all.html#al-en-pos/PUNCT\n",
        "punctuation_classes = [ \n",
        "    \"``\", \"’’\", \"-LRB-\", \"-RRB-\", \",\", \".\", \":\", \"HYPH\", # PUNCT: punctuation\n",
        "    \"#\", \"$\", \"SYM\", # SYM: symbol\n",
        "    \"''\", # Custom\n",
        "]\n",
        "\n",
        "# Select all the unique classes in the dataframe and their encoding\n",
        "labels = dfc_train.drop_duplicates(['label','encoded_label'])[['label','encoded_label']]\n",
        "\n",
        "# Extracting the encoded label vector for all punctuation and symbols. Will be used in F1 score calculation   \n",
        "punctuation_labels = labels[labels.label.isin(punctuation_classes)]['encoded_label'].values\n",
        "\n",
        "print(f\"Punctation labels: {punctuation_labels}\")"
      ]
    },
    {
      "cell_type": "markdown",
      "metadata": {
        "id": "yS7M36zPrBip"
      },
      "source": [
        "Transform the text into a sequence of integers using the tokenizer defined before. "
      ]
    },
    {
      "cell_type": "code",
      "execution_count": 39,
      "metadata": {
        "colab": {
          "base_uri": "https://localhost:8080/"
        },
        "id": "72n2_dZHDprc",
        "outputId": "34769ba5-c65b-4988-c9f9-c65cd55c67fd"
      },
      "outputs": [
        {
          "data": {
            "text/plain": [
              "45"
            ]
          },
          "execution_count": 39,
          "metadata": {},
          "output_type": "execute_result"
        }
      ],
      "source": [
        "x_train = np.array(tokenizer.texts_to_sequences(list(dfc_train.word.values))) \n",
        "y_train = np.array( dfc_train['encoded_label'])\n",
        "\n",
        "x_val = np.array(tokenizer.texts_to_sequences(dfc_val.word.values))\n",
        "y_val = np.array(dfc_val['encoded_label'])\n",
        "\n",
        "x_test = np.array(tokenizer.texts_to_sequences(dfc_test.word.values))\n",
        "y_test = np.array(dfc_test['encoded_label'])\n",
        "\n",
        "x_sample = np.array(tokenizer.texts_to_sequences(dfc_sample.word.values))\n",
        "y_sample = np.array(dfc_sample['encoded_label'])\n",
        "\n",
        "#number of unique labels\n",
        "num_classes = len(np.unique(y_train))\n",
        "num_classes"
      ]
    },
    {
      "cell_type": "markdown",
      "metadata": {
        "id": "51RMHWA0r2ep"
      },
      "source": [
        "Pad the sequences to make them of same length before passing them to the model."
      ]
    },
    {
      "cell_type": "code",
      "execution_count": 40,
      "metadata": {
        "colab": {
          "base_uri": "https://localhost:8080/"
        },
        "id": "Lzxixj0QExD7",
        "outputId": "90e45c28-e707-45b6-a099-0123531bb88f"
      },
      "outputs": [
        {
          "name": "stdout",
          "output_type": "stream",
          "text": [
            "X train shape: (47356, 1)\n",
            "Y train shape: (47356,)\n",
            "type:<class 'numpy.ndarray'>\n",
            "X val shape: (31183, 1)\n",
            "Y val shape: (31183,)\n",
            "type:<class 'numpy.ndarray'>\n",
            "X test shape: (15545, 1) (15545, 1)\n",
            "Y test shape: (15545,) (15545,)\n"
          ]
        }
      ],
      "source": [
        "from tensorflow.keras.preprocessing.sequence import pad_sequences\n",
        "\n",
        "x_train = pad_sequences(x_train, maxlen=1, padding='post')\n",
        "x_val = pad_sequences(x_val, maxlen=1, padding='post')\n",
        "x_test = pad_sequences(x_test, maxlen=1, padding='post')\n",
        "x_sample = pad_sequences(x_sample, maxlen=1, padding='post')\n",
        "\n",
        "#Train\n",
        "print(f'X train shape: {x_train.shape}')\n",
        "print(f'Y train shape: {y_train.shape}')\n",
        "print(f'type:{type(x_train)}')\n",
        "\n",
        "# Val\n",
        "print(f'X val shape: {x_val.shape}')\n",
        "print(f'Y val shape: {y_val.shape}')\n",
        "print(f'type:{type(y_train)}')\n",
        "\n",
        "# Test\n",
        "print(f'X test shape: {x_test.shape}', x_test.shape)\n",
        "print(f'Y test shape: {y_test.shape}', y_test.shape)"
      ]
    },
    {
      "cell_type": "code",
      "execution_count": 41,
      "metadata": {
        "id": "NHZTtqWB485D"
      },
      "outputs": [],
      "source": [
        "vocab_size = len(tokenizer.word_index) + 1"
      ]
    },
    {
      "cell_type": "markdown",
      "metadata": {
        "id": "gMFmoGtIOw55"
      },
      "source": [
        "## Utility methods"
      ]
    },
    {
      "cell_type": "code",
      "execution_count": 42,
      "metadata": {
        "id": "94MnbDUNOw55"
      },
      "outputs": [],
      "source": [
        "import tensorflow as tf\n",
        "from tensorflow import keras\n",
        "from tensorflow.keras import layers\n",
        "from typing import List, Dict, Callable\n",
        "import random"
      ]
    },
    {
      "cell_type": "code",
      "execution_count": 43,
      "metadata": {
        "id": "U0Nhlo_pOw55"
      },
      "outputs": [],
      "source": [
        "def set_reproducibility(seed):\n",
        "    random.seed(seed)\n",
        "    np.random.seed(seed)\n",
        "    tf.random.set_seed(seed)\n",
        "    os.environ['TF_DETERMINISTIC_OPS'] = '1'\n",
        "\n",
        "# Set the reproducibility\n",
        "set_reproducibility(42)"
      ]
    },
    {
      "cell_type": "code",
      "execution_count": 44,
      "metadata": {
        "id": "Ms1V5PuwOw56"
      },
      "outputs": [],
      "source": [
        "import matplotlib.pyplot as plt\n",
        "from functools import partial\n",
        "from keras.callbacks import History\n",
        "\n",
        "def show_history(history: History):\n",
        "    \"\"\"\n",
        "    Shows training history data stored by the History Keras callback\n",
        "\n",
        "    :param history: History Keras callback\n",
        "    \"\"\"\n",
        "    history_data = history.history\n",
        "    print(f\"Displaying the following history keys: {history_data.keys()}\")\n",
        "    \n",
        "    for key, value in history_data.items():\n",
        "        if not key.startswith('val'):\n",
        "            fig, ax = plt.subplots(1, 1)\n",
        "            ax.set_title(key)\n",
        "            ax.plot(value)\n",
        "            if f'val_{key}' in history_data:\n",
        "                ax.plot(history_data[f'val_{key}'])\n",
        "            else:\n",
        "                print(f\"Couldn't find validation values for metric: {key}\")\n",
        "\n",
        "            ax.set_ylabel(key)\n",
        "            ax.set_xlabel('epoch')\n",
        "            ax.legend(['train', 'val'], loc='best')\n",
        "            plt.grid(True)\n",
        "        plt.show()"
      ]
    },
    {
      "cell_type": "code",
      "execution_count": 45,
      "metadata": {
        "id": "Zw1zm9xVOw56"
      },
      "outputs": [],
      "source": [
        "def train_model(model: keras.Model, training_info: Dict):\n",
        "    \"\"\"\n",
        "    Training routine for the Keras model.\n",
        "    At the end of the training, retrieved History data is shown.\n",
        "\n",
        "    :param model: Keras built model\n",
        "    :param training_info: dictionary storing model fit() argument information\n",
        "\n",
        "    :return\n",
        "        model: trained Keras model\n",
        "    \"\"\"\n",
        "\n",
        "    print(f\"Start training! \\nParameters: {training_info}\")\n",
        "\n",
        "    history = model.fit(x=x_train, y=y_train,\n",
        "                        validation_data=(x_val, y_val),\n",
        "                        **training_info)\n",
        "    print(\"Training completed!\")\n",
        "\n",
        "    print(\"Showing history...\")\n",
        "    show_history(history)\n",
        "\n",
        "    return model"
      ]
    },
    {
      "cell_type": "code",
      "execution_count": 46,
      "metadata": {
        "id": "hSj5Ie1gOw56"
      },
      "outputs": [],
      "source": [
        "def predict_data(model: keras.Model,\n",
        "                x: np.ndarray,\n",
        "                prediction_info: Dict):\n",
        "    \"\"\"\n",
        "    Inference routine of a given input set of examples\n",
        "\n",
        "    :param model: Keras built and possibly trained model\n",
        "    :param x: input set of examples in np.ndarray format\n",
        "    :param prediction_info: dictionary storing model predict() argument information\n",
        "\n",
        "    :return\n",
        "        predictions: predicted labels in np.ndarray format\n",
        "    \"\"\"\n",
        "    print(f'Starting prediction: \\n{prediction_info}')\n",
        "    print(f'Predicting on {x.shape[0]} samples')\n",
        "    predictions = model.predict(x, **prediction_info)\n",
        "    return predictions"
      ]
    },
    {
      "cell_type": "code",
      "execution_count": 47,
      "metadata": {
        "id": "sJl37gYEOw56"
      },
      "outputs": [],
      "source": [
        "from sklearn.metrics import f1_score, classification_report, ConfusionMatrixDisplay\n",
        "\n",
        "def compute_f1(model: keras.Model, \n",
        "             x: np.ndarray, \n",
        "             y: np.ndarray,\n",
        "             get_report: bool = False):\n",
        "    \"\"\"\n",
        "    Compute F1_score on the given data with corresponding labels\n",
        "\n",
        "    :param model: Keras built and possibly trained model\n",
        "    :param x: data in np.ndarray format\n",
        "    :param y: ground-truth labels in np.ndarray format\n",
        "\n",
        "    :return\n",
        "        score: f1_macro_score\n",
        "    \"\"\"\n",
        "    #predictions on the x set\n",
        "    prediction_info = {\n",
        "        'batch_size': 64,\n",
        "        'verbose': 1\n",
        "    }\n",
        "    \n",
        "    y_pred = predict_data(model=model, x=x, prediction_info=prediction_info)\n",
        "\n",
        "    #compute argmax to take the best class for each sample\n",
        "    y_pred = np.argmax(y_pred, axis=1)\n",
        "    \n",
        "    #compute the f1_macro exluding puntuaction labels\n",
        "    labels = np.unique( np.concatenate((np.unique(y), np.unique(y_pred))))\n",
        "    labels = [label for label in labels if label not in punctuation_labels]\n",
        "    \n",
        "    rep = classification_report(y,y_pred, labels=labels, output_dict=True, zero_division=0)\n",
        "\n",
        "    # Show confusion matrix\n",
        "    '''\n",
        "    cm = confusion_matrix(y,y_pred,labels=labels)\n",
        "    cm_disp = ConfusionMatrixDisplay(cm,display_labels=labels)\n",
        "    fig, ax = plt.subplots(figsize=(15,15))\n",
        "    cm_disp.plot(ax=ax)\n",
        "    '''\n",
        "    score = f1_score(y, y_pred, average ='macro', labels=labels)\n",
        "\n",
        "    if get_report:\n",
        "        return score, rep\n",
        "    else: return score"
      ]
    },
    {
      "cell_type": "markdown",
      "metadata": {
        "id": "7FTlmNoGi8CF"
      },
      "source": [
        "## Baseline model: LSTM"
      ]
    },
    {
      "cell_type": "markdown",
      "metadata": {
        "id": "LCcVYGrNsQ-x"
      },
      "source": [
        "### Define the model"
      ]
    },
    {
      "cell_type": "code",
      "execution_count": 48,
      "metadata": {
        "id": "RyfvHkUZ1wEU"
      },
      "outputs": [],
      "source": [
        "from tensorflow.keras.models import Sequential\n",
        "from tensorflow.keras.layers import Embedding, Dense, LSTM, Bidirectional, GRU\n",
        "from tensorflow.keras.optimizers import Adam\n",
        "\n",
        "\n",
        "def create_baseline(units, dropout, learning_rate, activation):\n",
        "    model = keras.Sequential()\n",
        "    model = keras.models.Sequential()\n",
        "    \n",
        "    \n",
        "    model.add(keras.layers.Embedding(input_dim=vocab_size, \n",
        "                                    output_dim = embedding_dimension,\n",
        "                                    input_length = 1,\n",
        "                                    weights = [embedding_matrix],\n",
        "                                    trainable = False))\n",
        "    \n",
        "    model.add(keras.layers.Bidirectional(LSTM(units=units, \n",
        "                                              activation=activation,\n",
        "                                              dropout=dropout,\n",
        "                                              )))\n",
        "\n",
        "    model.add(keras.layers.Dense(units=num_classes, \n",
        "                                 activation=\"softmax\"))\n",
        "\n",
        "    model.summary()\n",
        "\n",
        "    model.compile(loss='sparse_categorical_crossentropy', \n",
        "                    optimizer=Adam(learning_rate=learning_rate), \n",
        "                    metrics=[\"accuracy\"])\n",
        "    \n",
        "    return model"
      ]
    },
    {
      "cell_type": "markdown",
      "metadata": {
        "id": "i_3_VgghuynG"
      },
      "source": [
        "#### Using keras tuner to find best hyper parameters"
      ]
    },
    {
      "cell_type": "code",
      "execution_count": 49,
      "metadata": {
        "id": "PPXOAdJyuynG"
      },
      "outputs": [],
      "source": [
        "import keras_tuner\n",
        "\n",
        "def build_baseline(hp):\n",
        "    units = hp.Int(\"units\", min_value=16, max_value=128, step=16)\n",
        "\n",
        "    activation = hp.Choice(\"activation\", [\"relu\", \"tanh\"])\n",
        "\n",
        "    dropout = hp.Float(\"dropout\", min_value=0, max_value=0.2, step=0.05)\n",
        "\n",
        "    learning_rate = hp.Float(\"learning_rate\", min_value=1e-4, max_value=1e-2, sampling=\"log\")\n",
        "    # call existing model-building code with the hyperparameter values.\n",
        "    model = create_baseline(units=units, \n",
        "                            activation=activation, \n",
        "                            dropout=dropout, \n",
        "                            learning_rate=learning_rate\n",
        "                        )\n",
        "    return model"
      ]
    },
    {
      "cell_type": "code",
      "execution_count": 50,
      "metadata": {
        "colab": {
          "base_uri": "https://localhost:8080/"
        },
        "id": "03IZuZp2uynG",
        "outputId": "802b1e30-72df-4a3b-c93a-39e5469375a2"
      },
      "outputs": [
        {
          "name": "stderr",
          "output_type": "stream",
          "text": [
            "WARNING:tensorflow:Layer lstm will not use cuDNN kernels since it doesn't meet the criteria. It will use a generic GPU kernel as fallback when running on GPU.\n",
            "WARNING:tensorflow:Layer lstm will not use cuDNN kernels since it doesn't meet the criteria. It will use a generic GPU kernel as fallback when running on GPU.\n",
            "WARNING:tensorflow:Layer lstm will not use cuDNN kernels since it doesn't meet the criteria. It will use a generic GPU kernel as fallback when running on GPU.\n"
          ]
        },
        {
          "name": "stdout",
          "output_type": "stream",
          "text": [
            "Model: \"sequential_1\"\n",
            "_________________________________________________________________\n",
            " Layer (type)                Output Shape              Param #   \n",
            "=================================================================\n",
            " embedding (Embedding)       (None, 1, 200)            80135400  \n",
            "                                                                 \n",
            " bidirectional (Bidirectiona  (None, 32)               27776     \n",
            " l)                                                              \n",
            "                                                                 \n",
            " dense (Dense)               (None, 45)                1485      \n",
            "                                                                 \n",
            "=================================================================\n",
            "Total params: 80,164,661\n",
            "Trainable params: 29,261\n",
            "Non-trainable params: 80,135,400\n",
            "_________________________________________________________________\n",
            "Search space summary\n",
            "Default search space size: 4\n",
            "units (Int)\n",
            "{'default': None, 'conditions': [], 'min_value': 16, 'max_value': 128, 'step': 16, 'sampling': None}\n",
            "activation (Choice)\n",
            "{'default': 'relu', 'conditions': [], 'values': ['relu', 'tanh'], 'ordered': False}\n",
            "dropout (Float)\n",
            "{'default': 0.0, 'conditions': [], 'min_value': 0.0, 'max_value': 0.2, 'step': 0.05, 'sampling': None}\n",
            "learning_rate (Float)\n",
            "{'default': 0.0001, 'conditions': [], 'min_value': 0.0001, 'max_value': 0.01, 'step': None, 'sampling': 'log'}\n"
          ]
        }
      ],
      "source": [
        "if not os.path.exists(\"./models\"):\n",
        "    os.makedirs(\"./models\")\n",
        "\n",
        "tuner = keras_tuner.Hyperband(hypermodel=build_baseline,\n",
        "                            objective='accuracy',\n",
        "                            max_epochs=30,\n",
        "                            factor=3,\n",
        "                            directory='./models',\n",
        "                            project_name='baseline')\n",
        "tuner.search_space_summary()"
      ]
    },
    {
      "cell_type": "code",
      "execution_count": 51,
      "metadata": {
        "colab": {
          "base_uri": "https://localhost:8080/",
          "height": 35
        },
        "id": "eioPZMtiuynG",
        "outputId": "184e3f85-4096-43d1-d03b-3ee7bf2a228d"
      },
      "outputs": [
        {
          "data": {
            "application/vnd.google.colaboratory.intrinsic+json": {
              "type": "string"
            },
            "text/plain": [
              "'\\ntuner.search(x_train,y_train, epochs=30, validation_data=(x_val,y_val))\\nbest_model = tuner.get_best_models()[0]\\ntuner.results_summary()\\n'"
            ]
          },
          "execution_count": 51,
          "metadata": {},
          "output_type": "execute_result"
        }
      ],
      "source": [
        "# Search the best hyper-parameter and select the best model\n",
        "'''\n",
        "tuner.search(x_train,y_train, epochs=30, validation_data=(x_val,y_val))\n",
        "best_model = tuner.get_best_models()[0]\n",
        "tuner.results_summary()\n",
        "'''"
      ]
    },
    {
      "cell_type": "markdown",
      "metadata": {
        "id": "yL4hHiEauynG"
      },
      "source": [
        "Hyperparameters:\n",
        "* units: 32\n",
        "* activation: tanh\n",
        "* dropout: 0\n",
        "* learning_rate: 0.0028081\n",
        "* tuner/epochs: 30\n",
        "* tuner/initial_epoch: 10\n",
        "\n",
        "Score: 0.9271686673164368"
      ]
    },
    {
      "cell_type": "code",
      "execution_count": 52,
      "metadata": {
        "colab": {
          "base_uri": "https://localhost:8080/"
        },
        "id": "6-dl1WSfuynG",
        "outputId": "3fdcefed-214f-4237-a6d5-c66487724adb"
      },
      "outputs": [
        {
          "name": "stdout",
          "output_type": "stream",
          "text": [
            "Model: \"sequential_3\"\n",
            "_________________________________________________________________\n",
            " Layer (type)                Output Shape              Param #   \n",
            "=================================================================\n",
            " embedding_1 (Embedding)     (None, 1, 200)            80135400  \n",
            "                                                                 \n",
            " bidirectional_1 (Bidirectio  (None, 64)               59648     \n",
            " nal)                                                            \n",
            "                                                                 \n",
            " dense_1 (Dense)             (None, 45)                2925      \n",
            "                                                                 \n",
            "=================================================================\n",
            "Total params: 80,197,973\n",
            "Trainable params: 62,573\n",
            "Non-trainable params: 80,135,400\n",
            "_________________________________________________________________\n"
          ]
        }
      ],
      "source": [
        "# Create model with best hyperparameter \n",
        "base_model = create_baseline(units= 32,\n",
        "                            activation=\"tanh\",\n",
        "                            dropout=0,\n",
        "                            learning_rate=0.0028081)"
      ]
    },
    {
      "cell_type": "code",
      "execution_count": 53,
      "metadata": {
        "colab": {
          "base_uri": "https://localhost:8080/",
          "height": 695
        },
        "id": "ZY8zv1dvQM3A",
        "outputId": "1005bb6c-8002-47f9-a480-fb75460a0217"
      },
      "outputs": [
        {
          "name": "stdout",
          "output_type": "stream",
          "text": [
            "Start training! \n",
            "Parameters: {'verbose': 0, 'epochs': 30, 'batch_size': 64, 'callbacks': [<keras.callbacks.EarlyStopping object at 0x7ff095565a00>]}\n",
            "Restoring model weights from the end of the best epoch: 9.\n",
            "Epoch 14: early stopping\n",
            "Training completed!\n",
            "Showing history...\n",
            "Displaying the following history keys: dict_keys(['loss', 'accuracy', 'val_loss', 'val_accuracy'])\n"
          ]
        },
        {
          "data": {
            "image/png": "[encoded data removed]",
            "text/plain": [
              "<Figure size 432x288 with 1 Axes>"
            ]
          },
          "metadata": {
            "needs_background": "light"
          },
          "output_type": "display_data"
        },
        {
          "data": {
            "image/png": "[encoded data removed]",
            "text/plain": [
              "<Figure size 432x288 with 1 Axes>"
            ]
          },
          "metadata": {
            "needs_background": "light"
          },
          "output_type": "display_data"
        }
      ],
      "source": [
        "# Train\n",
        "base_training_info = {\n",
        "    'verbose': 0,\n",
        "    'epochs' : 30,\n",
        "    'batch_size' : 64,\n",
        "    'callbacks' : [tf.keras.callbacks.EarlyStopping(monitor=\"val_loss\",\n",
        "                                                    patience=5,\n",
        "                                                    verbose=1,\n",
        "                                                    mode=\"auto\",\n",
        "                                                    baseline=None,\n",
        "                                                    restore_best_weights=True)]\n",
        "}\n",
        "\n",
        "base_model = train_model(model=base_model,training_info = base_training_info)"
      ]
    },
    {
      "cell_type": "markdown",
      "metadata": {
        "id": "Jl8xoLex485H"
      },
      "source": [
        "#### F1-Macro evaluation"
      ]
    },
    {
      "cell_type": "code",
      "execution_count": 54,
      "metadata": {
        "colab": {
          "base_uri": "https://localhost:8080/"
        },
        "id": "scAXLwfRJrS4",
        "outputId": "10c8df20-a9db-4be4-f209-87cfd0f38fd0"
      },
      "outputs": [
        {
          "name": "stdout",
          "output_type": "stream",
          "text": [
            "975/975 [==============================] - 3s 3ms/step - loss: 0.3673 - accuracy: 0.8856\n",
            "Model loss: 0.3672676980495453, accuracy: 0.8855786919593811\n",
            "Starting prediction: \n",
            "{'batch_size': 64, 'verbose': 1}\n",
            "Predicting on 31183 samples\n",
            "488/488 [==============================] - 2s 2ms/step\n",
            "F1_score on the validation set is: 0.7070001736001936\n"
          ]
        }
      ],
      "source": [
        "loss, accuracy = base_model.evaluate(x_val, y_val)\n",
        "print(f\"Model loss: {loss}, accuracy: {accuracy}\")\n",
        "\n",
        "# Inference and evaluate\n",
        "\n",
        "# The report is going to be used in the conclusions to discuss errors\n",
        "\n",
        "base_score, report = compute_f1(base_model, x_val, y_val, get_report=True)\n",
        "print(f'F1_score on the validation set is: {base_score}')\n"
      ]
    },
    {
      "cell_type": "markdown",
      "metadata": {
        "id": "XX2nnMyoOw59"
      },
      "source": [
        "#### Sample test"
      ]
    },
    {
      "cell_type": "code",
      "execution_count": 55,
      "metadata": {
        "colab": {
          "base_uri": "https://localhost:8080/"
        },
        "id": "wv7QQ2Y0Ow59",
        "outputId": "e213e3e9-c618-4b99-ecfa-793bda66e9ff"
      },
      "outputs": [
        {
          "name": "stdout",
          "output_type": "stream",
          "text": [
            "1/1 [==============================] - 0s 23ms/step\n",
            "20 \t 20 \t ok \t pierre\n",
            "14 \t 20 \t ERR \t vinken\n",
            "3 \t 3 \t ok \t ,\n",
            "9 \t 9 \t ok \t 61\n",
            "22 \t 22 \t ok \t years\n",
            "14 \t 14 \t ok \t old\n",
            "3 \t 3 \t ok \t ,\n",
            "18 \t 18 \t ok \t will\n",
            "34 \t 34 \t ok \t join\n",
            "10 \t 10 \t ok \t the\n",
            "19 \t 19 \t ok \t board\n",
            "13 \t 13 \t ok \t as\n",
            "10 \t 10 \t ok \t a\n",
            "14 \t 14 \t ok \t nonexecutive\n",
            "19 \t 19 \t ok \t director\n",
            "20 \t 20 \t ok \t nov.\n",
            "9 \t 9 \t ok \t 29\n",
            "6 \t 6 \t ok \t .\n",
            "20 \t 20 \t ok \t mr.\n",
            "14 \t 20 \t ERR \t vinken\n",
            "39 \t 39 \t ok \t is\n",
            "19 \t 19 \t ok \t chairman\n",
            "13 \t 13 \t ok \t of\n",
            "20 \t 20 \t ok \t elsevier\n",
            "20 \t 20 \t ok \t n.v.\n",
            "3 \t 3 \t ok \t ,\n",
            "10 \t 10 \t ok \t the\n",
            "20 \t 20 \t ok \t dutch\n",
            "20 \t 36 \t ERR \t publishing\n",
            "20 \t 19 \t ERR \t group\n",
            "6 \t 6 \t ok \t .\n"
          ]
        }
      ],
      "source": [
        "x_sample_text = tokenizer.sequences_to_texts(x_sample)\n",
        "y_pred_sample_onehot = base_model.predict(x_sample)\n",
        "y_pred_sample = np.argmax(y_pred_sample_onehot, axis=1)\n",
        "for i in range(x_sample.size):\n",
        "    print(f\"{y_pred_sample[i]} \\t {y_sample[i]} \\t {'ok' if y_pred_sample[i]==y_sample[i] else 'ERR'} \\t {x_sample_text[i]}\")"
      ]
    },
    {
      "cell_type": "markdown",
      "metadata": {
        "id": "Jjm_29f4i8CG"
      },
      "source": [
        "## Model A: GRU"
      ]
    },
    {
      "cell_type": "markdown",
      "metadata": {
        "id": "hhyr0auV485I"
      },
      "source": [
        "GRU is a simpler alternative to LSTM's architecture, less effective but with a faster train.\n",
        "</br>Two layers architecture: a Bidirectional GRU layer and a Dense/FC layer on top. "
      ]
    },
    {
      "cell_type": "code",
      "execution_count": 56,
      "metadata": {
        "id": "53xpFPP4485I"
      },
      "outputs": [],
      "source": [
        "# Create model\n",
        "\n",
        "def create_gru(units, dropout, learning_rate, activation):\n",
        "    model = keras.Sequential()\n",
        "    model = keras.models.Sequential()\n",
        "    \n",
        "    \n",
        "    model.add(keras.layers.Embedding(input_dim=vocab_size, \n",
        "                                    output_dim = embedding_dimension,\n",
        "                                    input_length = 1,\n",
        "                                    weights = [embedding_matrix],\n",
        "                                    trainable = False))\n",
        "    \n",
        "    model.add(keras.layers.Bidirectional(GRU(units=units, \n",
        "                                              activation=activation,\n",
        "                                              dropout=dropout,\n",
        "                                              )))\n",
        "\n",
        "    model.add(keras.layers.Dense(units=num_classes, \n",
        "                                 activation=\"softmax\"))\n",
        "\n",
        "    model.compile(loss=\"sparse_categorical_crossentropy\", \n",
        "                    optimizer=Adam(learning_rate=learning_rate), \n",
        "                    metrics=[\"accuracy\"])\n",
        "    \n",
        "    return model"
      ]
    },
    {
      "cell_type": "code",
      "execution_count": 57,
      "metadata": {
        "id": "3KMFWP-huynH"
      },
      "outputs": [],
      "source": [
        "def build_GRU(hp):\n",
        "    units = hp.Int(\"units\", min_value=16, max_value=256, step=16)\n",
        "\n",
        "    activation = hp.Choice(\"activation\", [\"relu\", \"tanh\"])\n",
        "\n",
        "    dropout = hp.Float(\"dropout\", min_value=0, max_value=0.2, step=0.05)\n",
        "\n",
        "    learning_rate = hp.Float(\"learning_rate\", min_value=1e-4, max_value=1e-2, sampling=\"log\")\n",
        "    # call existing model-building code with the hyperparameter values.\n",
        "    model = create_gru(units=units, \n",
        "                            activation=activation, \n",
        "                            dropout=dropout, \n",
        "                            learning_rate=learning_rate\n",
        "                        )\n",
        "    return model"
      ]
    },
    {
      "cell_type": "code",
      "execution_count": 58,
      "metadata": {
        "colab": {
          "base_uri": "https://localhost:8080/"
        },
        "id": "yPtro4UfuynH",
        "outputId": "bd679142-9b5b-4f48-9179-9dc338774803"
      },
      "outputs": [
        {
          "name": "stderr",
          "output_type": "stream",
          "text": [
            "WARNING:tensorflow:Layer gru will not use cuDNN kernels since it doesn't meet the criteria. It will use a generic GPU kernel as fallback when running on GPU.\n",
            "WARNING:tensorflow:Layer gru will not use cuDNN kernels since it doesn't meet the criteria. It will use a generic GPU kernel as fallback when running on GPU.\n",
            "WARNING:tensorflow:Layer gru will not use cuDNN kernels since it doesn't meet the criteria. It will use a generic GPU kernel as fallback when running on GPU.\n"
          ]
        },
        {
          "name": "stdout",
          "output_type": "stream",
          "text": [
            "Search space summary\n",
            "Default search space size: 4\n",
            "units (Int)\n",
            "{'default': None, 'conditions': [], 'min_value': 16, 'max_value': 256, 'step': 16, 'sampling': None}\n",
            "activation (Choice)\n",
            "{'default': 'relu', 'conditions': [], 'values': ['relu', 'tanh'], 'ordered': False}\n",
            "dropout (Float)\n",
            "{'default': 0.0, 'conditions': [], 'min_value': 0.0, 'max_value': 0.2, 'step': 0.05, 'sampling': None}\n",
            "learning_rate (Float)\n",
            "{'default': 0.0001, 'conditions': [], 'min_value': 0.0001, 'max_value': 0.01, 'step': None, 'sampling': 'log'}\n"
          ]
        }
      ],
      "source": [
        "tuner = keras_tuner.Hyperband(hypermodel=build_GRU,\n",
        "                            objective='accuracy',\n",
        "                            max_epochs=30,\n",
        "                            factor=3,\n",
        "                            directory='a1models',\n",
        "                            project_name='GRU')\n",
        "tuner.search_space_summary()"
      ]
    },
    {
      "cell_type": "code",
      "execution_count": 59,
      "metadata": {
        "colab": {
          "base_uri": "https://localhost:8080/",
          "height": 35
        },
        "id": "HroYKz3WuynH",
        "outputId": "746b3cb8-bdc4-4c2c-cdb0-2c4f5a564edc"
      },
      "outputs": [
        {
          "data": {
            "application/vnd.google.colaboratory.intrinsic+json": {
              "type": "string"
            },
            "text/plain": [
              "'\\ntuner.search(x_train,y_train, epochs=30, validation_data=(x_val,y_val))\\nbest_model = tuner.get_best_models()[0]\\ntuner.results_summary()\\n'"
            ]
          },
          "execution_count": 59,
          "metadata": {},
          "output_type": "execute_result"
        }
      ],
      "source": [
        "# Search the best hyper-parameter and select the best model\n",
        "'''\n",
        "tuner.search(x_train,y_train, epochs=30, validation_data=(x_val,y_val))\n",
        "best_model = tuner.get_best_models()[0]\n",
        "tuner.results_summary()\n",
        "'''"
      ]
    },
    {
      "cell_type": "markdown",
      "metadata": {
        "id": "vDB9pBZduynH"
      },
      "source": [
        "Hyperparameters:\n",
        "* units: 112\n",
        "* activation: tanh\n",
        "* dropout: 0.05\n",
        "* learning_rate: 0.000642144054857491\n",
        "* tuner/epochs: 15\n",
        "  \n",
        "Score: 0.9216994643211365"
      ]
    },
    {
      "cell_type": "code",
      "execution_count": 60,
      "metadata": {
        "id": "mD5oTdyOuynH"
      },
      "outputs": [],
      "source": [
        "# Create model with best hyperparameter \n",
        "gru_model = create_gru(units= 112,\n",
        "                            activation=\"tanh\",\n",
        "                            dropout=0.05,\n",
        "                            learning_rate=0.000642144054857491,\n",
        "                            )"
      ]
    },
    {
      "cell_type": "code",
      "execution_count": 61,
      "metadata": {
        "colab": {
          "base_uri": "https://localhost:8080/",
          "height": 695
        },
        "id": "hPcXmqzj485J",
        "outputId": "4655ad07-5c21-40d3-b8f0-50446a6140e8"
      },
      "outputs": [
        {
          "name": "stdout",
          "output_type": "stream",
          "text": [
            "Start training! \n",
            "Parameters: {'verbose': 0, 'epochs': 30, 'batch_size': 64, 'callbacks': [<keras.callbacks.EarlyStopping object at 0x7ff03245ee50>]}\n",
            "Restoring model weights from the end of the best epoch: 17.\n",
            "Epoch 22: early stopping\n",
            "Training completed!\n",
            "Showing history...\n",
            "Displaying the following history keys: dict_keys(['loss', 'accuracy', 'val_loss', 'val_accuracy'])\n"
          ]
        },
        {
          "data": {
            "image/png": "[encoded data removed]",
            "text/plain": [
              "<Figure size 432x288 with 1 Axes>"
            ]
          },
          "metadata": {
            "needs_background": "light"
          },
          "output_type": "display_data"
        },
        {
          "data": {
            "image/png": "[encoded data removed]",
            "text/plain": [
              "<Figure size 432x288 with 1 Axes>"
            ]
          },
          "metadata": {
            "needs_background": "light"
          },
          "output_type": "display_data"
        }
      ],
      "source": [
        "# Train\n",
        "gru_training_info = {\n",
        "    'verbose': 0,\n",
        "    'epochs' : 30,\n",
        "    'batch_size' : 64,\n",
        "    'callbacks' : [tf.keras.callbacks.EarlyStopping(monitor=\"val_loss\",\n",
        "                                                patience=5,\n",
        "                                                verbose=1,\n",
        "                                                mode=\"auto\",\n",
        "                                                baseline=None,\n",
        "                                                restore_best_weights=True)]\n",
        "}\n",
        "\n",
        "gru_model = train_model(model=gru_model,training_info = gru_training_info)"
      ]
    },
    {
      "cell_type": "markdown",
      "metadata": {
        "id": "iYuiRWK9Ow5-"
      },
      "source": [
        "#### F1-Macro evaluation"
      ]
    },
    {
      "cell_type": "code",
      "execution_count": 62,
      "metadata": {
        "colab": {
          "base_uri": "https://localhost:8080/"
        },
        "id": "xZo7nP0WOw5-",
        "outputId": "d463489e-0e41-4a4e-afb5-ed9d11ee1b6c"
      },
      "outputs": [
        {
          "name": "stdout",
          "output_type": "stream",
          "text": [
            "975/975 [==============================] - 3s 3ms/step - loss: 0.3360 - accuracy: 0.8916\n",
            "Model loss: 0.336009681224823, accuracy: 0.8916075825691223\n",
            "Starting prediction: \n",
            "{'batch_size': 64, 'verbose': 1}\n",
            "Predicting on 31183 samples\n",
            "488/488 [==============================] - 2s 2ms/step\n",
            "F1_score on the validation set is: 0.7017482531269984\n"
          ]
        }
      ],
      "source": [
        "loss, accuracy = gru_model.evaluate(x_val, y_val)\n",
        "print(f\"Model loss: {loss}, accuracy: {accuracy}\")\n",
        "\n",
        "# Inference and evaluate\n",
        "\n",
        "gru_score = compute_f1(gru_model, x_val, y_val)\n",
        "print(f'F1_score on the validation set is: {gru_score}')"
      ]
    },
    {
      "cell_type": "markdown",
      "metadata": {
        "id": "6bM9ZWFAi8CG"
      },
      "source": [
        "## Model B: 2x LSTM + Dense "
      ]
    },
    {
      "cell_type": "code",
      "execution_count": 63,
      "metadata": {
        "id": "xOUIWNbRuynI"
      },
      "outputs": [],
      "source": [
        "# Create model\n",
        "from tensorflow.keras.models import Sequential\n",
        "from tensorflow.keras.layers import Embedding, Dense, LSTM, Bidirectional, GRU\n",
        "from tensorflow.keras.optimizers import Adam\n",
        "\n",
        "def create_2xlstm(lstm1_units, lstm2_units, lstm1_dropout, lstm2_dropout, learning_rate, lstm1_activation, lstm2_activation):\n",
        "    model = keras.Sequential()\n",
        "    model = keras.models.Sequential()\n",
        "    \n",
        "    \n",
        "    model.add(keras.layers.Embedding(input_dim=vocab_size, \n",
        "                                    output_dim = embedding_dimension,\n",
        "                                    input_length = 1,\n",
        "                                    weights = [embedding_matrix],\n",
        "                                    trainable = False))\n",
        "    \n",
        "    model.add(keras.layers.Bidirectional(LSTM(units=lstm1_units,\n",
        "                                              dropout=lstm1_dropout,\n",
        "                                              activation=lstm1_activation,\n",
        "                                              return_sequences=True\n",
        "                                              )))\n",
        "    \n",
        "    model.add(keras.layers.Bidirectional(LSTM(units=lstm2_units,\n",
        "                                              dropout=lstm2_dropout,\n",
        "                                              activation=lstm2_activation\n",
        "                                              )))\n",
        "\n",
        "    model.add(keras.layers.Dense(units=num_classes, \n",
        "                                 activation=\"softmax\"))\n",
        "\n",
        "    model.compile(loss=\"sparse_categorical_crossentropy\", \n",
        "                    optimizer=Adam(learning_rate=learning_rate), \n",
        "                    metrics=[\"accuracy\"])\n",
        "    \n",
        "    return model"
      ]
    },
    {
      "cell_type": "code",
      "execution_count": 64,
      "metadata": {
        "id": "2sv-aPNLuynI"
      },
      "outputs": [],
      "source": [
        "def build_2xLSTM(hp):\n",
        "    lstm1_units = hp.Int(\"lstm1_units\", min_value=16, max_value=128, step=16)\n",
        "    lstm2_units = hp.Int(\"lstm2_units\", min_value=16, max_value=128, step=16)\n",
        "\n",
        "    lstm1_activation = hp.Choice(\"lstm1_activation\", [\"relu\", \"tanh\"])\n",
        "    lstm2_activation = hp.Choice(\"lstm2_activation\", [\"relu\", \"tanh\"])\n",
        "\n",
        "    lstm1_dropout = hp.Float(\"lstm1_dropout\", min_value=0, max_value=0.4, step=0.1)\n",
        "    lstm2_dropout = hp.Float(\"lstm2_dropout\", min_value=0, max_value=0.4, step=0.1)\n",
        "\n",
        "    learning_rate = hp.Float(\"learning_rate\", min_value=1e-3, max_value=1e-2, sampling=\"log\")\n",
        "    # call existing model-building code with the hyperparameter values.\n",
        "    model = create_2xlstm(lstm1_units=lstm1_units,\n",
        "                            lstm2_units=lstm2_units, \n",
        "                            lstm1_activation=lstm1_activation, \n",
        "                            lstm2_activation=lstm2_activation,\n",
        "                            lstm1_dropout=lstm1_dropout,\n",
        "                            lstm2_dropout=lstm2_dropout,\n",
        "                            learning_rate=learning_rate\n",
        "                        )\n",
        "    return model"
      ]
    },
    {
      "cell_type": "code",
      "execution_count": 65,
      "metadata": {
        "colab": {
          "base_uri": "https://localhost:8080/"
        },
        "id": "ekSMWDYguynI",
        "outputId": "bfcfe2f5-4083-4530-9c97-5814af9e088c"
      },
      "outputs": [
        {
          "name": "stderr",
          "output_type": "stream",
          "text": [
            "WARNING:tensorflow:Layer lstm_2 will not use cuDNN kernels since it doesn't meet the criteria. It will use a generic GPU kernel as fallback when running on GPU.\n",
            "WARNING:tensorflow:Layer lstm_2 will not use cuDNN kernels since it doesn't meet the criteria. It will use a generic GPU kernel as fallback when running on GPU.\n",
            "WARNING:tensorflow:Layer lstm_2 will not use cuDNN kernels since it doesn't meet the criteria. It will use a generic GPU kernel as fallback when running on GPU.\n",
            "WARNING:tensorflow:Layer lstm_3 will not use cuDNN kernels since it doesn't meet the criteria. It will use a generic GPU kernel as fallback when running on GPU.\n",
            "WARNING:tensorflow:Layer lstm_3 will not use cuDNN kernels since it doesn't meet the criteria. It will use a generic GPU kernel as fallback when running on GPU.\n",
            "WARNING:tensorflow:Layer lstm_3 will not use cuDNN kernels since it doesn't meet the criteria. It will use a generic GPU kernel as fallback when running on GPU.\n"
          ]
        },
        {
          "name": "stdout",
          "output_type": "stream",
          "text": [
            "Search space summary\n",
            "Default search space size: 7\n",
            "lstm1_units (Int)\n",
            "{'default': None, 'conditions': [], 'min_value': 16, 'max_value': 128, 'step': 16, 'sampling': None}\n",
            "lstm2_units (Int)\n",
            "{'default': None, 'conditions': [], 'min_value': 16, 'max_value': 128, 'step': 16, 'sampling': None}\n",
            "lstm1_activation (Choice)\n",
            "{'default': 'relu', 'conditions': [], 'values': ['relu', 'tanh'], 'ordered': False}\n",
            "lstm2_activation (Choice)\n",
            "{'default': 'relu', 'conditions': [], 'values': ['relu', 'tanh'], 'ordered': False}\n",
            "lstm1_dropout (Float)\n",
            "{'default': 0.0, 'conditions': [], 'min_value': 0.0, 'max_value': 0.4, 'step': 0.1, 'sampling': None}\n",
            "lstm2_dropout (Float)\n",
            "{'default': 0.0, 'conditions': [], 'min_value': 0.0, 'max_value': 0.4, 'step': 0.1, 'sampling': None}\n",
            "learning_rate (Float)\n",
            "{'default': 0.001, 'conditions': [], 'min_value': 0.001, 'max_value': 0.01, 'step': None, 'sampling': 'log'}\n"
          ]
        }
      ],
      "source": [
        "tuner = keras_tuner.Hyperband(hypermodel=build_2xLSTM,\n",
        "                            objective='accuracy',\n",
        "                            max_epochs=30,\n",
        "                            factor=3,\n",
        "                            directory='models',\n",
        "                            project_name='2xLSTM')\n",
        "tuner.search_space_summary()"
      ]
    },
    {
      "cell_type": "code",
      "execution_count": 66,
      "metadata": {
        "colab": {
          "base_uri": "https://localhost:8080/",
          "height": 87
        },
        "id": "t6XOPMWnuynI",
        "outputId": "3b31a1f1-f952-4a91-f68b-688d810774fb"
      },
      "outputs": [
        {
          "data": {
            "application/vnd.google.colaboratory.intrinsic+json": {
              "type": "string"
            },
            "text/plain": [
              "'\\ntuner.search(x_train,y_train, epochs=30, validation_data=(x_val,y_val),\\n                            callbacks=[tf.keras.callbacks.EarlyStopping(monitor=\"val_loss\",\\n                                                                        min_delta=0.015,\\n                                                                        patience=3,\\n                                                                        verbose=0,\\n                                                                        mode=\"auto\",\\n                                                                        baseline=None,\\n                                                                        restore_best_weights=True)])\\nbest_model = tuner.get_best_models()[0]\\ntuner.results_summary()\\n'"
            ]
          },
          "execution_count": 66,
          "metadata": {},
          "output_type": "execute_result"
        }
      ],
      "source": [
        "# Search the best hyper-parameter and select the best model\n",
        "\"\"\"\n",
        "tuner.search(x_train,y_train, epochs=30, validation_data=(x_val,y_val),\n",
        "                            callbacks=[tf.keras.callbacks.EarlyStopping(monitor=\"val_loss\",\n",
        "                                                                        min_delta=0.015,\n",
        "                                                                        patience=3,\n",
        "                                                                        verbose=0,\n",
        "                                                                        mode=\"auto\",\n",
        "                                                                        baseline=None,\n",
        "                                                                        restore_best_weights=True)])\n",
        "best_model = tuner.get_best_models()[0]\n",
        "tuner.results_summary()\n",
        "\"\"\""
      ]
    },
    {
      "cell_type": "markdown",
      "metadata": {
        "id": "XBs0J3J3uynI"
      },
      "source": [
        "Hyperparameters:\n",
        "* LSTM1_units: 128\n",
        "* LSTM2_units: 112\n",
        "* LSTM1_activation: tanh\n",
        "* LSTM2_activation: relu\n",
        "* LSTM1_dropout: 0.0\n",
        "* LSTM2_dropout: 0.2\n",
        "* learning_rate: 0.0014114864841283698\n",
        "* tuner/epochs: 10\n",
        "  \n",
        "Score: 0.9165892601013184"
      ]
    },
    {
      "cell_type": "code",
      "execution_count": 67,
      "metadata": {
        "colab": {
          "base_uri": "https://localhost:8080/"
        },
        "id": "16Lnn4ZsuynI",
        "outputId": "33bba0ec-d12a-498e-a8e6-4130bbfa29f3"
      },
      "outputs": [
        {
          "name": "stderr",
          "output_type": "stream",
          "text": [
            "WARNING:tensorflow:Layer lstm_5 will not use cuDNN kernels since it doesn't meet the criteria. It will use a generic GPU kernel as fallback when running on GPU.\n",
            "WARNING:tensorflow:Layer lstm_5 will not use cuDNN kernels since it doesn't meet the criteria. It will use a generic GPU kernel as fallback when running on GPU.\n",
            "WARNING:tensorflow:Layer lstm_5 will not use cuDNN kernels since it doesn't meet the criteria. It will use a generic GPU kernel as fallback when running on GPU.\n"
          ]
        }
      ],
      "source": [
        "# Create model with best hyperparameter \n",
        "LSTMx2_model = create_2xlstm(lstm1_units=128,\n",
        "                                    lstm2_units=112,\n",
        "                                    lstm1_activation=\"tanh\",\n",
        "                                    lstm2_activation=\"relu\",\n",
        "                                    lstm1_dropout=0.2,\n",
        "                                    lstm2_dropout=0.0,\n",
        "                                    learning_rate=0.0014114864841283698) "
      ]
    },
    {
      "cell_type": "code",
      "execution_count": 68,
      "metadata": {
        "colab": {
          "base_uri": "https://localhost:8080/",
          "height": 695
        },
        "id": "BlM3dIuEuynI",
        "outputId": "c541971e-319e-4f5d-a847-bc9bccc24182"
      },
      "outputs": [
        {
          "name": "stdout",
          "output_type": "stream",
          "text": [
            "Start training! \n",
            "Parameters: {'verbose': 0, 'epochs': 30, 'batch_size': 64, 'callbacks': [<keras.callbacks.EarlyStopping object at 0x7ff0a1dbd070>]}\n",
            "Restoring model weights from the end of the best epoch: 7.\n",
            "Epoch 12: early stopping\n",
            "Training completed!\n",
            "Showing history...\n",
            "Displaying the following history keys: dict_keys(['loss', 'accuracy', 'val_loss', 'val_accuracy'])\n"
          ]
        },
        {
          "data": {
            "image/png": "[encoded data removed]",
            "text/plain": [
              "<Figure size 432x288 with 1 Axes>"
            ]
          },
          "metadata": {
            "needs_background": "light"
          },
          "output_type": "display_data"
        },
        {
          "data": {
            "image/png": "[encoded data removed]",
            "text/plain": [
              "<Figure size 432x288 with 1 Axes>"
            ]
          },
          "metadata": {
            "needs_background": "light"
          },
          "output_type": "display_data"
        }
      ],
      "source": [
        "# Train\n",
        "LSTMx2_training_info = {\n",
        "    'verbose': 0,\n",
        "    'epochs' : 30,\n",
        "    'batch_size' : 64,\n",
        "    'callbacks' : [tf.keras.callbacks.EarlyStopping(monitor=\"val_loss\",\n",
        "                                                    min_delta=0.0,\n",
        "                                                    patience=5,\n",
        "                                                    verbose=1,\n",
        "                                                    mode=\"auto\",\n",
        "                                                    baseline=None,\n",
        "                                                    restore_best_weights=True)]\n",
        "}\n",
        "\n",
        "LSTMx2_model = train_model(model=LSTMx2_model,training_info = LSTMx2_training_info)"
      ]
    },
    {
      "cell_type": "markdown",
      "metadata": {
        "id": "uH_o2Q0xuynI"
      },
      "source": [
        "#### F1-Macro evaluation"
      ]
    },
    {
      "cell_type": "code",
      "execution_count": 69,
      "metadata": {
        "colab": {
          "base_uri": "https://localhost:8080/"
        },
        "id": "bdVsN1k8uynI",
        "outputId": "0d9002ef-df9a-494b-9e7f-7aa3ca4dbe8e"
      },
      "outputs": [
        {
          "name": "stdout",
          "output_type": "stream",
          "text": [
            "975/975 [==============================] - 4s 4ms/step - loss: 0.3509 - accuracy: 0.8906\n",
            "Model loss: 0.3509283661842346, accuracy: 0.8905814290046692\n",
            "Starting prediction: \n",
            "{'batch_size': 64, 'verbose': 1}\n",
            "Predicting on 31183 samples\n",
            "488/488 [==============================] - 2s 3ms/step\n",
            "F1_score on the validation set is: 0.7081405787278162\n"
          ]
        }
      ],
      "source": [
        "loss, accuracy = LSTMx2_model.evaluate(x_val, y_val)\n",
        "print(f\"Model loss: {loss}, accuracy: {accuracy}\")\n",
        "\n",
        "# Inference and evaluate\n",
        "\n",
        "LSTMx2_score = compute_f1(LSTMx2_model, x_val, y_val)\n",
        "print(f'F1_score on the validation set is: {LSTMx2_score}')"
      ]
    },
    {
      "cell_type": "markdown",
      "metadata": {
        "id": "5hgT909Mi8CG"
      },
      "source": [
        "## Model C: LSTM + 2x Dense"
      ]
    },
    {
      "cell_type": "code",
      "execution_count": 70,
      "metadata": {
        "id": "YtQAeb7zuynJ"
      },
      "outputs": [],
      "source": [
        "# Create model\n",
        "from tensorflow.keras.models import Sequential\n",
        "from tensorflow.keras.layers import Embedding, Dense, LSTM, Bidirectional, GRU\n",
        "from tensorflow.keras.optimizers import Adam\n",
        "\n",
        "def create_lstm_dense(lstm_units, dense_units, lstm_dropout, learning_rate, lstm_activation, dense_activation):\n",
        "    model = keras.Sequential()\n",
        "    model = keras.models.Sequential()\n",
        "    \n",
        "    \n",
        "    model.add(keras.layers.Embedding(input_dim=vocab_size, \n",
        "                                    output_dim = embedding_dimension,\n",
        "                                    input_length = 1,\n",
        "                                    weights = [embedding_matrix],\n",
        "                                    trainable = False))\n",
        "    \n",
        "    model.add(keras.layers.Bidirectional(LSTM(units=lstm_units,\n",
        "                                              dropout=lstm_dropout,\n",
        "                                              activation=lstm_activation\n",
        "                                              )))\n",
        "\n",
        "    model.add(keras.layers.Dense(units=dense_units, \n",
        "                                 activation=dense_activation))\n",
        "\n",
        "\n",
        "    model.add(keras.layers.Dense(units=num_classes, \n",
        "                                 activation=\"softmax\"))\n",
        "\n",
        "    model.compile(loss=\"sparse_categorical_crossentropy\", \n",
        "                    optimizer=Adam(learning_rate=learning_rate), \n",
        "                    metrics=[\"accuracy\"])\n",
        "    \n",
        "    return model\n",
        "    "
      ]
    },
    {
      "cell_type": "code",
      "execution_count": 71,
      "metadata": {
        "id": "TsY0DldcuynJ"
      },
      "outputs": [],
      "source": [
        "def build_LSTM_Dense(hp):\n",
        "    lstm_units = hp.Int(\"lstm_units\", min_value=16, max_value=128, step=16)\n",
        "    dense_units = hp.Int(\"dense_units\", min_value=16, max_value=128, step=16)\n",
        "\n",
        "    lstm_activation = hp.Choice(\"lstm_activation\", [\"relu\", \"tanh\"])\n",
        "    dense_activation = hp.Choice(\"dense_activation\", [\"relu\", \"tanh\"])\n",
        "\n",
        "    lstm_dropout = hp.Float(\"lstm_dropout\", min_value=0, max_value=0.4, step=0.1)\n",
        "\n",
        "    learning_rate = hp.Float(\"learning_rate\", min_value=1e-3, max_value=1e-2, sampling=\"log\")\n",
        "    # call existing model-building code with the hyperparameter values.\n",
        "    model = create_lstm_dense(lstm_units=lstm_units,\n",
        "                            dense_units=dense_units, \n",
        "                            lstm_activation=lstm_activation, \n",
        "                            dense_activation=dense_activation,\n",
        "                            lstm_dropout=lstm_dropout,\n",
        "                            learning_rate=learning_rate\n",
        "                        )\n",
        "    return model"
      ]
    },
    {
      "cell_type": "code",
      "execution_count": 72,
      "metadata": {
        "colab": {
          "base_uri": "https://localhost:8080/"
        },
        "id": "JdmcwIvDuynJ",
        "outputId": "1c15ad78-61b5-4976-e69f-16015d336d94"
      },
      "outputs": [
        {
          "name": "stderr",
          "output_type": "stream",
          "text": [
            "WARNING:tensorflow:Layer lstm_6 will not use cuDNN kernels since it doesn't meet the criteria. It will use a generic GPU kernel as fallback when running on GPU.\n",
            "WARNING:tensorflow:Layer lstm_6 will not use cuDNN kernels since it doesn't meet the criteria. It will use a generic GPU kernel as fallback when running on GPU.\n",
            "WARNING:tensorflow:Layer lstm_6 will not use cuDNN kernels since it doesn't meet the criteria. It will use a generic GPU kernel as fallback when running on GPU.\n"
          ]
        },
        {
          "name": "stdout",
          "output_type": "stream",
          "text": [
            "Search space summary\n",
            "Default search space size: 6\n",
            "lstm_units (Int)\n",
            "{'default': None, 'conditions': [], 'min_value': 16, 'max_value': 128, 'step': 16, 'sampling': None}\n",
            "dense_units (Int)\n",
            "{'default': None, 'conditions': [], 'min_value': 16, 'max_value': 128, 'step': 16, 'sampling': None}\n",
            "lstm_activation (Choice)\n",
            "{'default': 'relu', 'conditions': [], 'values': ['relu', 'tanh'], 'ordered': False}\n",
            "dense_activation (Choice)\n",
            "{'default': 'relu', 'conditions': [], 'values': ['relu', 'tanh'], 'ordered': False}\n",
            "lstm_dropout (Float)\n",
            "{'default': 0.0, 'conditions': [], 'min_value': 0.0, 'max_value': 0.4, 'step': 0.1, 'sampling': None}\n",
            "learning_rate (Float)\n",
            "{'default': 0.001, 'conditions': [], 'min_value': 0.001, 'max_value': 0.01, 'step': None, 'sampling': 'log'}\n"
          ]
        }
      ],
      "source": [
        "tuner = keras_tuner.Hyperband(hypermodel=build_LSTM_Dense,\n",
        "                            objective='accuracy',\n",
        "                            max_epochs=30,\n",
        "                            factor=3,\n",
        "                            directory='./models',\n",
        "                            project_name='LSTM_DENSE2')\n",
        "tuner.search_space_summary()"
      ]
    },
    {
      "cell_type": "code",
      "execution_count": 73,
      "metadata": {
        "colab": {
          "base_uri": "https://localhost:8080/",
          "height": 87
        },
        "id": "54to_PD0uynJ",
        "outputId": "f7d7d3d0-6c9b-444e-a4ff-f50bc9205fda"
      },
      "outputs": [
        {
          "data": {
            "application/vnd.google.colaboratory.intrinsic+json": {
              "type": "string"
            },
            "text/plain": [
              "'\\ntuner.search(x_train,y_train, epochs=30, validation_data=(x_val,y_val),\\n                            callbacks=[tf.keras.callbacks.EarlyStopping(monitor=\"val_loss\",\\n                                                                        min_delta=0.015,\\n                                                                        patience=3,\\n                                                                        verbose=0,\\n                                                                        mode=\"auto\",\\n                                                                        baseline=None,\\n                                                                        restore_best_weights=True)])\\nbest_model = tuner.get_best_models()[0]\\ntuner.results_summary()\\n'"
            ]
          },
          "execution_count": 73,
          "metadata": {},
          "output_type": "execute_result"
        }
      ],
      "source": [
        "# Search the best hyper-parameter and select the best model\n",
        "# The Early stopping callback with a min_delta is setted to improve the performance\n",
        "'''\n",
        "tuner.search(x_train,y_train, epochs=30, validation_data=(x_val,y_val),\n",
        "                            callbacks=[tf.keras.callbacks.EarlyStopping(monitor=\"val_loss\",\n",
        "                                                                        min_delta=0.015,\n",
        "                                                                        patience=3,\n",
        "                                                                        verbose=0,\n",
        "                                                                        mode=\"auto\",\n",
        "                                                                        baseline=None,\n",
        "                                                                        restore_best_weights=True)])\n",
        "best_model = tuner.get_best_models()[0]\n",
        "tuner.results_summary()\n",
        "'''\n"
      ]
    },
    {
      "cell_type": "markdown",
      "metadata": {
        "id": "koT2PbDZuynJ"
      },
      "source": [
        "Hyperparameters:\n",
        "* LSTM_units: 112\n",
        "* LSTM_activation: relu\n",
        "* Dense_units: 64\n",
        "* Dense_activation: tanh\n",
        "* dropout: 0.0\n",
        "* learning_rate: 0.001209925672797829\n",
        "* tuner/epochs: 30\n",
        "  \n",
        "Score: 0.9195877909660339"
      ]
    },
    {
      "cell_type": "code",
      "execution_count": 74,
      "metadata": {
        "colab": {
          "base_uri": "https://localhost:8080/"
        },
        "id": "9yyc252luynJ",
        "outputId": "57fc12bb-93f7-4f6f-f696-e38164ba6fc1"
      },
      "outputs": [
        {
          "name": "stderr",
          "output_type": "stream",
          "text": [
            "WARNING:tensorflow:Layer lstm_7 will not use cuDNN kernels since it doesn't meet the criteria. It will use a generic GPU kernel as fallback when running on GPU.\n",
            "WARNING:tensorflow:Layer lstm_7 will not use cuDNN kernels since it doesn't meet the criteria. It will use a generic GPU kernel as fallback when running on GPU.\n",
            "WARNING:tensorflow:Layer lstm_7 will not use cuDNN kernels since it doesn't meet the criteria. It will use a generic GPU kernel as fallback when running on GPU.\n"
          ]
        }
      ],
      "source": [
        "# Create model with best hyperparameter \n",
        "lstm_dense_model = create_lstm_dense(lstm_units=112,\n",
        "                                    dense_units=64,\n",
        "                                    lstm_activation=\"relu\",\n",
        "                                    dense_activation=\"tanh\",\n",
        "                                    lstm_dropout=0.0,\n",
        "                                    learning_rate=0.001209925672797829) "
      ]
    },
    {
      "cell_type": "code",
      "execution_count": 75,
      "metadata": {
        "colab": {
          "base_uri": "https://localhost:8080/",
          "height": 695
        },
        "id": "LDrBkr2huynJ",
        "outputId": "888f8994-8f84-4ad4-f6bd-bde617ef60cf"
      },
      "outputs": [
        {
          "name": "stdout",
          "output_type": "stream",
          "text": [
            "Start training! \n",
            "Parameters: {'verbose': 0, 'epochs': 30, 'batch_size': 64, 'callbacks': [<keras.callbacks.EarlyStopping object at 0x7ff02a047df0>]}\n",
            "Restoring model weights from the end of the best epoch: 6.\n",
            "Epoch 11: early stopping\n",
            "Training completed!\n",
            "Showing history...\n",
            "Displaying the following history keys: dict_keys(['loss', 'accuracy', 'val_loss', 'val_accuracy'])\n"
          ]
        },
        {
          "data": {
            "image/png": "[encoded data removed]",
            "text/plain": [
              "<Figure size 432x288 with 1 Axes>"
            ]
          },
          "metadata": {
            "needs_background": "light"
          },
          "output_type": "display_data"
        },
        {
          "data": {
            "image/png": "[encoded data removed]",
            "text/plain": [
              "<Figure size 432x288 with 1 Axes>"
            ]
          },
          "metadata": {
            "needs_background": "light"
          },
          "output_type": "display_data"
        }
      ],
      "source": [
        "# Train\n",
        "lstm_dense_training_info = {\n",
        "    'verbose': 0,\n",
        "    'epochs' : 30,\n",
        "    'batch_size' : 64,\n",
        "    'callbacks' : [tf.keras.callbacks.EarlyStopping(monitor=\"val_loss\",\n",
        "                                                    patience=5,\n",
        "                                                    verbose=1,\n",
        "                                                    mode=\"auto\",\n",
        "                                                    baseline=None,\n",
        "                                                    restore_best_weights=True)]\n",
        "}\n",
        "\n",
        "lstm_dense_model = train_model(model=lstm_dense_model,training_info = lstm_dense_training_info)"
      ]
    },
    {
      "cell_type": "markdown",
      "metadata": {
        "id": "maz2wqJJuynJ"
      },
      "source": [
        "#### F1-Macro evaluation"
      ]
    },
    {
      "cell_type": "code",
      "execution_count": 76,
      "metadata": {
        "colab": {
          "base_uri": "https://localhost:8080/"
        },
        "id": "UmFrkI26uynJ",
        "outputId": "3aedba01-31de-45be-afa6-99e698c27ca9"
      },
      "outputs": [
        {
          "name": "stdout",
          "output_type": "stream",
          "text": [
            "975/975 [==============================] - 3s 3ms/step - loss: 0.3597 - accuracy: 0.8858\n",
            "Model loss: 0.35968634486198425, accuracy: 0.8858352303504944\n",
            "Starting prediction: \n",
            "{'batch_size': 64, 'verbose': 1}\n",
            "Predicting on 31183 samples\n",
            "488/488 [==============================] - 1s 2ms/step\n",
            "F1_score on the validation set is: 0.716422434973823\n"
          ]
        }
      ],
      "source": [
        "loss, accuracy = lstm_dense_model.evaluate(x_val, y_val)\n",
        "print(f\"Model loss: {loss}, accuracy: {accuracy}\")\n",
        "\n",
        "# Inference and evaluate\n",
        "\n",
        "lstm_dense_score = compute_f1(lstm_dense_model, x_val, y_val)\n",
        "print(f'F1_score on the validation set is: {lstm_dense_score}')\n",
        "\n"
      ]
    },
    {
      "cell_type": "markdown",
      "metadata": {
        "id": "3TJTU8kXuynJ"
      },
      "source": [
        "## Summary"
      ]
    },
    {
      "cell_type": "code",
      "execution_count": 78,
      "metadata": {
        "colab": {
          "base_uri": "https://localhost:8080/"
        },
        "id": "bEmC0vLPuynJ",
        "outputId": "eaa0fa99-6058-4f80-884a-9a3c87a40a2a"
      },
      "outputs": [
        {
          "name": "stdout",
          "output_type": "stream",
          "text": [
            " \n",
            "F1 Macro scores on the validation set:\n",
            "    Bi-LSTM + Dense = 0.7070001736001936\n",
            "    Bi-GRU + Dense = 0.7017482531269984\n",
            "    2x Bi-LSTM + Dense = 0.7081405787278162\n",
            "    Bi-LSTM + 2x Dense = 0.716422434973823\n",
            "\n"
          ]
        }
      ],
      "source": [
        "print(f''' \n",
        "F1 Macro scores on the validation set:\n",
        "    Bi-LSTM + Dense = {base_score}\n",
        "    Bi-GRU + Dense = {gru_score}\n",
        "    2x Bi-LSTM + Dense = {LSTMx2_score}\n",
        "    Bi-LSTM + 2x Dense = {lstm_dense_score}\n",
        "''')"
      ]
    },
    {
      "cell_type": "markdown",
      "metadata": {
        "id": "e_XUVXknuynJ"
      },
      "source": [
        "2xBi-LSTM and Bi-LSTM + 2xDense result to be the bests on the validation set."
      ]
    },
    {
      "cell_type": "markdown",
      "metadata": {
        "id": "d1CoVdKAuynK"
      },
      "source": [
        "F1-Score on the test set "
      ]
    },
    {
      "cell_type": "code",
      "execution_count": 81,
      "metadata": {
        "colab": {
          "base_uri": "https://localhost:8080/"
        },
        "id": "wWgO0y6MuynK",
        "outputId": "bda250ed-1e6f-48f5-dbf9-206043af47a6"
      },
      "outputs": [
        {
          "name": "stdout",
          "output_type": "stream",
          "text": [
            "Starting prediction: \n",
            "{'batch_size': 64, 'verbose': 1}\n",
            "Predicting on 15545 samples\n",
            "243/243 [==============================] - 1s 5ms/step\n",
            "Starting prediction: \n",
            "{'batch_size': 64, 'verbose': 1}\n",
            "Predicting on 15545 samples\n",
            "243/243 [==============================] - 1s 3ms/step\n"
          ]
        }
      ],
      "source": [
        "test_lstmx2_score = compute_f1(LSTMx2_model, x_test, y_test)\n",
        "test_lstm_dense_score = compute_f1(lstm_dense_model, x_test, y_test)"
      ]
    },
    {
      "cell_type": "code",
      "execution_count": 82,
      "metadata": {
        "colab": {
          "base_uri": "https://localhost:8080/"
        },
        "id": "1tlDQ2ZjuynK",
        "outputId": "04672b75-c6c3-4882-fa4c-94ba0a7bfddd"
      },
      "outputs": [
        {
          "name": "stdout",
          "output_type": "stream",
          "text": [
            " \n",
            "F1 Macro scores on the test set:\n",
            "    2xBi-LSTM + Dense = 0.7824798223045395\n",
            "    Bi-LSTM + 2x Dense = 0.7937497325596763\n",
            "\n"
          ]
        }
      ],
      "source": [
        "print(f''' \n",
        "F1 Macro scores on the test set:\n",
        "    2xBi-LSTM + Dense = {test_lstmx2_score}\n",
        "    Bi-LSTM + 2x Dense = {test_lstm_dense_score}\n",
        "''')"
      ]
    },
    {
      "attachments": {},
      "cell_type": "markdown",
      "metadata": {},
      "source": [
        "### Error analysis "
      ]
    },
    {
      "cell_type": "markdown",
      "metadata": {
        "id": "euko5UaValMm"
      },
      "source": [
        "Both the models have a better performance on the test set respect to the validation. Let's see the scores for each class, focusing on the class distribution in the different sets"
      ]
    },
    {
      "cell_type": "code",
      "execution_count": null,
      "metadata": {
        "colab": {
          "base_uri": "https://localhost:8080/"
        },
        "id": "jC-SXyazZ4Wc",
        "outputId": "5e5249e0-a996-4cf4-919e-4ddd511db19b"
      },
      "outputs": [
        {
          "name": "stdout",
          "output_type": "stream",
          "text": [
            "Labels in the validation set that are not in the test set: \n",
            "['FW', 'UH', '#', 'LS']\n",
            "Labels in the test set that are not in the validation set: \n",
            "[]\n"
          ]
        }
      ],
      "source": [
        "val_not_test_labels = [label for label in dfc_val['label'].drop_duplicates().values if label not in dfc_test['label'].drop_duplicates().values ]\n",
        "test_not_val_labels = [label for label in dfc_test['label'].drop_duplicates().values if label not in dfc_val['label'].drop_duplicates().values ]\n",
        "\n",
        "print(f\"Labels in the validation set that are not in the test set: \\n{val_not_test_labels}\")\n",
        "print(f\"Labels in the test set that are not in the validation set: \\n{test_not_val_labels}\")"
      ]
    },
    {
      "cell_type": "markdown",
      "metadata": {
        "id": "dVPRtzxocpks"
      },
      "source": [
        "The validation set is a well representation of the test set, including all of its classes.\n",
        "\n",
        "There are few labels that are not present in the test set."
      ]
    },
    {
      "cell_type": "code",
      "execution_count": null,
      "metadata": {},
      "outputs": [
        {
          "data": {
            "image/png": "[encoded data removed]",
            "text/plain": [
              "<Figure size 1500x500 with 1 Axes>"
            ]
          },
          "metadata": {},
          "output_type": "display_data"
        }
      ],
      "source": [
        "# Class distribution in the sets, normalized.\n",
        "\n",
        "plt.figure(figsize=(15,5))\n",
        "plt.hist(dfc_train[~dfc_train[\"label\"].isin(punctuation_classes)].label, \n",
        "#plt.hist(dfc_train.label, \n",
        "                density=True,\n",
        "                label=\"Train\",\n",
        "                histtype=\"step\",\n",
        "                )\n",
        "plt.hist(dfc_val[~dfc_val[\"label\"].isin(punctuation_classes)].label, \n",
        "#plt.hist(dfc_val.label, \n",
        "                density=True,\n",
        "                label=\"Val\",\n",
        "                histtype=\"step\",\n",
        "                )\n",
        "\n",
        "plt.hist(dfc_test[~dfc_test[\"label\"].isin(punctuation_classes)].label, \n",
        "#plt.hist(dfc_test.label, \n",
        "                density=True,\n",
        "                label=\"Test\",\n",
        "                histtype=\"step\",\n",
        "                )\n",
        "\n",
        "plt.legend()\n",
        "plt.show()"
      ]
    },
    {
      "cell_type": "code",
      "execution_count": null,
      "metadata": {
        "colab": {
          "base_uri": "https://localhost:8080/"
        },
        "id": "I5zVrYyyF0yq",
        "outputId": "66d846de-baa1-449c-df7b-04d113676fa5"
      },
      "outputs": [
        {
          "name": "stdout",
          "output_type": "stream",
          "text": [
            "   f1-score  support  encoded_label label\n",
            "0  0.988522   2754.0             10    DT\n",
            "1  0.944444     34.0             11    EX\n",
            "2  0.000000      2.0             12    FW\n",
            "3  0.967422   3275.0             13    IN\n",
            "4  0.731600   1924.0             14    JJ\n"
          ]
        }
      ],
      "source": [
        "# Get a dataframe from the report, obtained from base line model\n",
        "df_report = pd.DataFrame.from_records(report).transpose()\n",
        "\n",
        "# Add encoded_labels to the report doing a merge, drop not label rows\n",
        "df_report['encoded_label'] = df_report.index\n",
        "df_report = df_report[df_report[['encoded_label']].apply(lambda x: x[0].isdigit(), axis=1)]\n",
        "df_report['encoded_label'] = pd.to_numeric(df_report['encoded_label'])\n",
        "df_report.reset_index(drop=True, inplace=True)\n",
        "\n",
        "df_rep_encod = pd.merge(left=df_report, right=df_labels, how=\"inner\", on = \"encoded_label\")\n",
        "df_rep_encod.drop([\"precision\", \"recall\"], axis=1, inplace=True) \n",
        "print(df_rep_encod.head())\n",
        "\n"
      ]
    },
    {
      "cell_type": "code",
      "execution_count": null,
      "metadata": {
        "colab": {
          "base_uri": "https://localhost:8080/",
          "height": 576
        },
        "id": "DyeMQy5jYPiJ",
        "outputId": "c1816a74-af5d-4b4b-f3c4-a06956fa280b"
      },
      "outputs": [
        {
          "name": "stderr",
          "output_type": "stream",
          "text": [
            "/tmp/ipykernel_6968/3410328708.py:5: FutureWarning: `sort_columns` is deprecated and will be removed in a future version.\n",
            "  df_rep_encod.plot(x=\"label\", y=\"f1-score\", kind=\"bar\", sort_columns=True)\n"
          ]
        },
        {
          "data": {
            "text/plain": [
              "<Figure size 1500x200 with 0 Axes>"
            ]
          },
          "metadata": {},
          "output_type": "display_data"
        },
        {
          "data": {
            "image/png": "[encoded data removed]",
            "text/plain": [
              "<Figure size 640x480 with 1 Axes>"
            ]
          },
          "metadata": {},
          "output_type": "display_data"
        },
        {
          "data": {
            "image/png": "[encoded data removed]",
            "text/plain": [
              "<Figure size 640x480 with 1 Axes>"
            ]
          },
          "metadata": {},
          "output_type": "display_data"
        }
      ],
      "source": [
        "# Plot \n",
        "plt.figure(figsize=(15,2))\n",
        "df_rep_encod.plot(x=\"support\", y=\"f1-score\", style=\"o\")\n",
        "df_rep_encod.sort_values(\"f1-score\", inplace= True)\n",
        "df_rep_encod.plot(x=\"label\", y=\"f1-score\", kind=\"bar\", sort_columns=True)\n",
        "plt.show()"
      ]
    },
    {
      "attachments": {},
      "cell_type": "markdown",
      "metadata": {
        "id": "IGKUa36YdC1P"
      },
      "source": [
        "The f1 score is not support related, there are example with few istances with high f1 score, and viceversa.\n",
        "\n",
        "Without considering the # label, not considered in the evaluation, it's possible to see that the classes UH, FW and LS, which are present in the validation set but not in the test set, are the ones with a null F1-score, decreasing the average."
      ]
    },
    {
      "cell_type": "code",
      "execution_count": null,
      "metadata": {
        "colab": {
          "base_uri": "https://localhost:8080/",
          "height": 235
        },
        "id": "d148Pvf_dYT6",
        "outputId": "95de9ae2-0eba-43fa-b356-6b2071d64f23"
      },
      "outputs": [
        {
          "name": "stdout",
          "output_type": "stream",
          "text": [
            "   f1-score   support  encoded_label label\n",
            "0  0.988522  0.610064             10    DT\n",
            "1  0.944444  0.007094             11    EX\n",
            "2  0.000000  0.000000             12    FW\n",
            "3  0.967422  0.725560             13    IN\n",
            "4  0.731600  0.426070             14    JJ\n",
            "The classes not present in the test set but in the validation\n",
            "word             7\n",
            "label            7\n",
            "encoded_label    7\n",
            "dtype: int64\n"
          ]
        },
        {
          "data": {
            "text/plain": [
              "<Figure size 1500x500 with 0 Axes>"
            ]
          },
          "metadata": {},
          "output_type": "display_data"
        },
        {
          "data": {
            "image/png": "[encoded data removed]",
            "text/plain": [
              "<Figure size 640x480 with 1 Axes>"
            ]
          },
          "metadata": {},
          "output_type": "display_data"
        }
      ],
      "source": [
        "dfc_val_labels = dfc_val[~dfc_val[\"label\"].isin(punctuation_classes)]\n",
        "plt.figure(figsize=(15,5))\n",
        "\n",
        "\n",
        "df_rep_encod['support'] = (df_rep_encod['support'] - df_rep_encod['support'].min())/(df_rep_encod['support'].max()-df_rep_encod['support'].min()) \n",
        "print(df_rep_encod.head())\n",
        "\n",
        "# Plot the F1 score and the normalized label's count (support) with a threshold\n",
        "df_rep_encod[df_rep_encod[\"f1-score\"] <= 0.7].plot(x=\"label\", y=[\"f1-score\", \"support\"], kind=\"bar\")\n",
        "\n",
        "# Count the classes only present in the validation\n",
        "count_label_val_notest = dfc_val_test = dfc_val_labels[dfc_val_labels[\"label\"].isin(val_not_test_labels)].count()\n",
        "print(f\"The classes not present in the test set but in the validation\\n{count_label_val_notest}\")"
      ]
    },
    {
      "attachments": {},
      "cell_type": "markdown",
      "metadata": {},
      "source": [
        "It is possible to observe that UH, LS and FW, cointaned in the validation but not in the test have a null f1-score even with a few example (7), decreasing the average by a lot."
      ]
    },
    {
      "attachments": {},
      "cell_type": "markdown",
      "metadata": {},
      "source": [
        "To be complete, let's test the base line with the test set and see if there are important variation on f1 score of each class"
      ]
    },
    {
      "cell_type": "code",
      "execution_count": null,
      "metadata": {},
      "outputs": [
        {
          "name": "stdout",
          "output_type": "stream",
          "text": [
            "Starting prediction: \n",
            "{'batch_size': 64, 'verbose': 1}\n",
            "Predicting on 15545 samples\n",
            "243/243 [==============================] - 0s 913us/step\n",
            "F1_score on the validation set is: 0.7829957538609086\n"
          ]
        }
      ],
      "source": [
        "base_score_test, report_test = compute_f1(base_model, x_test, y_test, get_report=True)\n",
        "print(f'F1_score on the validation set is: {base_score_test}')\n"
      ]
    },
    {
      "cell_type": "code",
      "execution_count": null,
      "metadata": {},
      "outputs": [
        {
          "name": "stdout",
          "output_type": "stream",
          "text": [
            "   f1-score  support  encoded_label label\n",
            "0  0.987961   1335.0             10    DT\n",
            "1  0.909091      5.0             11    EX\n",
            "2  0.969642   1630.0             13    IN\n",
            "3  0.734592    918.0             14    JJ\n",
            "4  0.788462     59.0             15   JJR\n"
          ]
        }
      ],
      "source": [
        "# Get a dataframe from the report, obtained from base line model\n",
        "df_report_test = pd.DataFrame.from_records(report_test).transpose()\n",
        "\n",
        "df_report_test['encoded_label'] = df_report_test.index\n",
        "df_report_test = df_report_test[df_report_test[['encoded_label']].apply(lambda x: x[0].isdigit(), axis=1)]\n",
        "df_report_test['encoded_label'] = pd.to_numeric(df_report_test['encoded_label'])\n",
        "df_report_test.reset_index(drop=True, inplace=True)\n",
        "\n",
        "df_rep_encod_test = pd.merge(left=df_report_test, right=df_labels, how=\"inner\", on = \"encoded_label\")\n",
        "df_rep_encod_test.drop([\"precision\", \"recall\"], axis=1, inplace=True) \n",
        "\n",
        "print(df_rep_encod_test.head())\n"
      ]
    },
    {
      "cell_type": "code",
      "execution_count": null,
      "metadata": {},
      "outputs": [],
      "source": [
        "df_rep_encod_test['support'] = (df_rep_encod_test['support'] - df_rep_encod_test['support'].min())/(df_rep_encod_test['support'].max()-df_rep_encod_test['support'].min()) "
      ]
    },
    {
      "cell_type": "code",
      "execution_count": null,
      "metadata": {},
      "outputs": [
        {
          "name": "stdout",
          "output_type": "stream",
          "text": [
            "   f1-score val  support val  encoded_label label  f1-score test  support test\n",
            "0      0.987961     0.559664             10    DT       0.988522      0.610064\n",
            "1      0.909091     0.000840             11    EX       0.944444      0.007094\n",
            "2      0.969642     0.683613             13    IN       0.967422      0.725560\n",
            "3      0.734592     0.384454             14    JJ       0.731600      0.426070\n",
            "4      0.788462     0.023529             15   JJR       0.740741      0.036134\n"
          ]
        },
        {
          "data": {
            "text/plain": [
              "<AxesSubplot: xlabel='label'>"
            ]
          },
          "metadata": {},
          "output_type": "display_data"
        },
        {
          "data": {
            "image/png": "[encoded data removed]",
            "text/plain": [
              "<Figure size 640x480 with 1 Axes>"
            ]
          },
          "metadata": {},
          "output_type": "display_data"
        },
        {
          "data": {
            "image/png": "[encoded data removed]",
            "text/plain": [
              "<Figure size 640x480 with 1 Axes>"
            ]
          },
          "metadata": {},
          "output_type": "display_data"
        }
      ],
      "source": [
        "df_full_report = pd.merge(right=df_rep_encod,  \n",
        "                            left=df_rep_encod_test,\n",
        "                            suffixes=[\" val\",\" test\"],\n",
        "                            how=\"inner\", \n",
        "                            on=[\"encoded_label\",\"label\"])\n",
        "print(df_full_report.head())\n",
        "df_full_report.plot(x=\"label\", y=[\"f1-score val\", \"f1-score test\"], kind=\"bar\")\n",
        "df_full_report.plot(x=\"label\", y=[\"support val\", \"support test\"], kind=\"bar\")\n"
      ]
    },
    {
      "attachments": {},
      "cell_type": "markdown",
      "metadata": {},
      "source": [
        "F1 score compared between validation and test it's similar for every label, except for a few variations."
      ]
    }
  ],
  "metadata": {
    "accelerator": "GPU",
    "colab": {
      "provenance": []
    },
    "gpuClass": "standard",
    "kernelspec": {
      "display_name": "ai",
      "language": "python",
      "name": "python3"
    },
    "language_info": {
      "codemirror_mode": {
        "name": "ipython",
        "version": 3
      },
      "file_extension": ".py",
      "mimetype": "text/x-python",
      "name": "python",
      "nbconvert_exporter": "python",
      "pygments_lexer": "ipython3",
      "version": "3.10.8 | packaged by conda-forge | (main, Nov 22 2022, 08:26:04) [GCC 10.4.0]"
    },
    "orig_nbformat": 4,
    "vscode": {
      "interpreter": {
        "hash": "4c836f7cc80bc1a8d8e102421d11f290f4773c065ede34effdfd405867e24fd6"
      }
    }
  },
  "nbformat": 4,
  "nbformat_minor": 0
}
