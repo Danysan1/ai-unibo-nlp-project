{
  "cells": [
    {
      "cell_type": "markdown",
      "metadata": {
        "id": "view-in-github",
        "colab_type": "text"
      },
      "source": [
        "<a href=\"https://colab.research.google.com/github/Danysan1/ai-unibo-nlp-project/blob/main/a1/execution.ipynb\" target=\"_parent\"><img src=\"https://colab.research.google.com/assets/colab-badge.svg\" alt=\"Open In Colab\"/></a>"
      ]
    },
    {
      "cell_type": "markdown",
      "metadata": {
        "id": "iKel9Y42484v"
      },
      "source": [
        "<a href=\"https://colab.research.google.com/github/Danysan1/ai-unibo-nlp-project/blob/main/a1/execution.ipynb\" target=\"_parent\"><img src=\"https://colab.research.google.com/assets/colab-badge.svg\" alt=\"Open In Colab\"/></a>"
      ]
    },
    {
      "cell_type": "markdown",
      "metadata": {
        "id": "TzCABY1Qi8Bv"
      },
      "source": [
        "# Assigment 1 execution"
      ]
    },
    {
      "cell_type": "markdown",
      "metadata": {
        "id": "kNE248Nhi8B0"
      },
      "source": [
        "Corpora: https://www.nltk.org/nltk_data/ , point 91, \"Dependency Parsed Treebank\" ([link](https://raw.githubusercontent.com/nltk/nltk_data/gh-pages/packages/corpora/dependency_treebank.zip)).\n",
        "\n",
        "Docs:\n",
        "* https://www.nltk.org/api/nltk.corpus.html\n",
        "* https://www.nltk.org/data.html\n",
        "* https://www.nltk.org/install.html\n",
        "\n",
        "## Preparing the environment"
      ]
    },
    {
      "cell_type": "code",
      "execution_count": 1,
      "metadata": {
        "id": "SJOEUxxoi8B1",
        "outputId": "959a966c-10a9-4825-a697-d2fe69ee011a",
        "colab": {
          "base_uri": "https://localhost:8080/"
        }
      },
      "outputs": [
        {
          "output_type": "stream",
          "name": "stdout",
          "text": [
            "Looking in indexes: https://pypi.org/simple, https://us-python.pkg.dev/colab-wheels/public/simple/\n",
            "Requirement already satisfied: pandas in /usr/local/lib/python3.8/dist-packages (1.3.5)\n",
            "Requirement already satisfied: numpy in /usr/local/lib/python3.8/dist-packages (1.21.6)\n",
            "Requirement already satisfied: matplotlib in /usr/local/lib/python3.8/dist-packages (3.2.2)\n",
            "Requirement already satisfied: gensim in /usr/local/lib/python3.8/dist-packages (4.2.0)\n",
            "Requirement already satisfied: tensorflow-addons in /usr/local/lib/python3.8/dist-packages (0.18.0)\n",
            "Requirement already satisfied: pytz>=2017.3 in /usr/local/lib/python3.8/dist-packages (from pandas) (2022.6)\n",
            "Requirement already satisfied: python-dateutil>=2.7.3 in /usr/local/lib/python3.8/dist-packages (from pandas) (2.8.2)\n",
            "Requirement already satisfied: six>=1.5 in /usr/local/lib/python3.8/dist-packages (from python-dateutil>=2.7.3->pandas) (1.15.0)\n",
            "Requirement already satisfied: kiwisolver>=1.0.1 in /usr/local/lib/python3.8/dist-packages (from matplotlib) (1.4.4)\n",
            "Requirement already satisfied: cycler>=0.10 in /usr/local/lib/python3.8/dist-packages (from matplotlib) (0.11.0)\n",
            "Requirement already satisfied: pyparsing!=2.0.4,!=2.1.2,!=2.1.6,>=2.0.1 in /usr/local/lib/python3.8/dist-packages (from matplotlib) (3.0.9)\n",
            "Requirement already satisfied: scipy>=0.18.1 in /usr/local/lib/python3.8/dist-packages (from gensim) (1.7.3)\n",
            "Requirement already satisfied: smart-open>=1.8.1 in /usr/local/lib/python3.8/dist-packages (from gensim) (5.2.1)\n",
            "Requirement already satisfied: typeguard>=2.7 in /usr/local/lib/python3.8/dist-packages (from tensorflow-addons) (2.7.1)\n",
            "Requirement already satisfied: packaging in /usr/local/lib/python3.8/dist-packages (from tensorflow-addons) (21.3)\n"
          ]
        }
      ],
      "source": [
        "%pip install pandas numpy matplotlib gensim tensorflow-addons"
      ]
    },
    {
      "cell_type": "code",
      "execution_count": 2,
      "metadata": {
        "id": "KqnHhB8yGptZ"
      },
      "outputs": [],
      "source": [
        "import os, shutil  #  file management\n",
        "import sys \n",
        "import pandas as pd  #  dataframe management\n",
        "import numpy as np  #  data manipulation\n",
        "import re\n",
        "import urllib.request  # download files\n",
        "from zipfile import ZipFile # extract files\n",
        "from matplotlib import pyplot as plt\n",
        "import tensorflow_addons as tfa"
      ]
    },
    {
      "cell_type": "markdown",
      "metadata": {
        "id": "glhEVNdNi8B4"
      },
      "source": [
        "## Downloading the dataset"
      ]
    },
    {
      "cell_type": "code",
      "execution_count": 3,
      "metadata": {
        "id": "8rcR7hfpi8B4"
      },
      "outputs": [],
      "source": [
        "#from nltk import download\n",
        "#download()"
      ]
    },
    {
      "cell_type": "code",
      "execution_count": 4,
      "metadata": {
        "colab": {
          "base_uri": "https://localhost:8080/"
        },
        "id": "gMVaf67mGtVe",
        "outputId": "9d4aa757-02a5-4b9e-bf3d-8773b177c2da"
      },
      "outputs": [
        {
          "output_type": "stream",
          "name": "stdout",
          "text": [
            "Successful extraction\n"
          ]
        }
      ],
      "source": [
        "dataset_folder = os.path.join(os.getcwd(), \"Dataset\")\n",
        "\n",
        "if not os.path.exists(dataset_folder):\n",
        "    os.makedirs(dataset_folder)\n",
        "\n",
        "url = 'https://raw.githubusercontent.com/nltk/nltk_data/gh-pages/packages/corpora/dependency_treebank.zip'\n",
        "\n",
        "dataset_path = os.path.join(dataset_folder, \"dependency_treebank.zip\")\n",
        "\n",
        "if not os.path.exists(dataset_path):\n",
        "    urllib.request.urlretrieve(url, dataset_path)\n",
        "    print(\"Successful download\")\n",
        "    \n",
        "with ZipFile(dataset_path, 'r') as zObject:\n",
        "  # Extracting all the members of the zip  into a specific location.\n",
        "  zObject.extractall(dataset_folder)\n",
        "  print(\"Successful extraction\")"
      ]
    },
    {
      "cell_type": "markdown",
      "metadata": {
        "id": "6YF4FVoUi8B7"
      },
      "source": [
        "## Loading the data"
      ]
    },
    {
      "cell_type": "code",
      "execution_count": 5,
      "metadata": {
        "id": "wNHOCIU0i8B8"
      },
      "outputs": [],
      "source": [
        "#from nltk.corpus import dependency_treebank\n",
        "#from nltk.data import load\n",
        "#dependency_treebank_test = load(\"nltk:\") \n",
        "#sentences = dependency_treebank.sents()\n",
        "#words = dependency_treebank.words()"
      ]
    },
    {
      "cell_type": "code",
      "execution_count": 6,
      "metadata": {
        "id": "brq6f0-oi8B9"
      },
      "outputs": [],
      "source": [
        "def loadCorpus(start, stop=None):\n",
        "    '''\n",
        "    Loads the data for the specified file range.\n",
        "    \n",
        "    Removes the third column 'num', which is not necessary for this task.\n",
        "\n",
        "    Parameters:\n",
        "        start: start of numeric range of files (inclusive)\n",
        "        stop: end of numeric range of files (exclusive)\n",
        "    '''\n",
        "    dataset_name = \"dependency_treebank\"\n",
        "    folder = os.path.join(os.getcwd(), \"Dataset\", dataset_name)\n",
        "\n",
        "    if stop==None:\n",
        "        stop = start+1\n",
        "    \n",
        "    return pd.concat([\n",
        "        pd.read_csv(\n",
        "            f'{folder}/wsj_{\"{:04d}\".format(num)}.dp',\n",
        "            sep=\"\\t\",\n",
        "            usecols=[0,1],\n",
        "            names=[\"word\",\"label\"]\n",
        "        ) for num in range(start, stop)\n",
        "    ])"
      ]
    },
    {
      "cell_type": "code",
      "execution_count": 7,
      "metadata": {
        "id": "MHjTm5HOi8B-"
      },
      "outputs": [],
      "source": [
        "full_dataset = loadCorpus(1,200)"
      ]
    },
    {
      "cell_type": "markdown",
      "metadata": {
        "id": "xVtgdAgwi8B-"
      },
      "source": [
        "## Exploratory Data Analysis"
      ]
    },
    {
      "cell_type": "code",
      "execution_count": 8,
      "metadata": {
        "colab": {
          "base_uri": "https://localhost:8080/"
        },
        "id": "Ih48IOpti8B_",
        "outputId": "785cf2fe-5494-400c-a22b-9abea2fd6a1f"
      },
      "outputs": [
        {
          "output_type": "execute_result",
          "data": {
            "text/plain": [
              "word     94084\n",
              "label    94084\n",
              "dtype: int64"
            ]
          },
          "metadata": {},
          "execution_count": 8
        }
      ],
      "source": [
        "full_dataset.count()"
      ]
    },
    {
      "cell_type": "code",
      "execution_count": 9,
      "metadata": {
        "colab": {
          "base_uri": "https://localhost:8080/",
          "height": 363
        },
        "id": "uzKTmaB0i8CA",
        "outputId": "bfd4c513-a28a-4861-a2a1-0e8106c49c01"
      },
      "outputs": [
        {
          "output_type": "execute_result",
          "data": {
            "text/plain": [
              "     word label\n",
              "0  Pierre   NNP\n",
              "1  Vinken   NNP\n",
              "2       ,     ,\n",
              "3      61    CD\n",
              "4   years   NNS\n",
              "5     old    JJ\n",
              "6       ,     ,\n",
              "7    will    MD\n",
              "8    join    VB\n",
              "9     the    DT"
            ],
            "text/html": [
              "\n",
              "  <div id=\"df-b101a41b-686b-4f21-9969-b9cfbcd27114\">\n",
              "    <div class=\"colab-df-container\">\n",
              "      <div>\n",
              "<style scoped>\n",
              "    .dataframe tbody tr th:only-of-type {\n",
              "        vertical-align: middle;\n",
              "    }\n",
              "\n",
              "    .dataframe tbody tr th {\n",
              "        vertical-align: top;\n",
              "    }\n",
              "\n",
              "    .dataframe thead th {\n",
              "        text-align: right;\n",
              "    }\n",
              "</style>\n",
              "<table border=\"1\" class=\"dataframe\">\n",
              "  <thead>\n",
              "    <tr style=\"text-align: right;\">\n",
              "      <th></th>\n",
              "      <th>word</th>\n",
              "      <th>label</th>\n",
              "    </tr>\n",
              "  </thead>\n",
              "  <tbody>\n",
              "    <tr>\n",
              "      <th>0</th>\n",
              "      <td>Pierre</td>\n",
              "      <td>NNP</td>\n",
              "    </tr>\n",
              "    <tr>\n",
              "      <th>1</th>\n",
              "      <td>Vinken</td>\n",
              "      <td>NNP</td>\n",
              "    </tr>\n",
              "    <tr>\n",
              "      <th>2</th>\n",
              "      <td>,</td>\n",
              "      <td>,</td>\n",
              "    </tr>\n",
              "    <tr>\n",
              "      <th>3</th>\n",
              "      <td>61</td>\n",
              "      <td>CD</td>\n",
              "    </tr>\n",
              "    <tr>\n",
              "      <th>4</th>\n",
              "      <td>years</td>\n",
              "      <td>NNS</td>\n",
              "    </tr>\n",
              "    <tr>\n",
              "      <th>5</th>\n",
              "      <td>old</td>\n",
              "      <td>JJ</td>\n",
              "    </tr>\n",
              "    <tr>\n",
              "      <th>6</th>\n",
              "      <td>,</td>\n",
              "      <td>,</td>\n",
              "    </tr>\n",
              "    <tr>\n",
              "      <th>7</th>\n",
              "      <td>will</td>\n",
              "      <td>MD</td>\n",
              "    </tr>\n",
              "    <tr>\n",
              "      <th>8</th>\n",
              "      <td>join</td>\n",
              "      <td>VB</td>\n",
              "    </tr>\n",
              "    <tr>\n",
              "      <th>9</th>\n",
              "      <td>the</td>\n",
              "      <td>DT</td>\n",
              "    </tr>\n",
              "  </tbody>\n",
              "</table>\n",
              "</div>\n",
              "      <button class=\"colab-df-convert\" onclick=\"convertToInteractive('df-b101a41b-686b-4f21-9969-b9cfbcd27114')\"\n",
              "              title=\"Convert this dataframe to an interactive table.\"\n",
              "              style=\"display:none;\">\n",
              "        \n",
              "  <svg xmlns=\"http://www.w3.org/2000/svg\" height=\"24px\"viewBox=\"0 0 24 24\"\n",
              "       width=\"24px\">\n",
              "    <path d=\"M0 0h24v24H0V0z\" fill=\"none\"/>\n",
              "    <path d=\"M18.56 5.44l.94 2.06.94-2.06 2.06-.94-2.06-.94-.94-2.06-.94 2.06-2.06.94zm-11 1L8.5 8.5l.94-2.06 2.06-.94-2.06-.94L8.5 2.5l-.94 2.06-2.06.94zm10 10l.94 2.06.94-2.06 2.06-.94-2.06-.94-.94-2.06-.94 2.06-2.06.94z\"/><path d=\"M17.41 7.96l-1.37-1.37c-.4-.4-.92-.59-1.43-.59-.52 0-1.04.2-1.43.59L10.3 9.45l-7.72 7.72c-.78.78-.78 2.05 0 2.83L4 21.41c.39.39.9.59 1.41.59.51 0 1.02-.2 1.41-.59l7.78-7.78 2.81-2.81c.8-.78.8-2.07 0-2.86zM5.41 20L4 18.59l7.72-7.72 1.47 1.35L5.41 20z\"/>\n",
              "  </svg>\n",
              "      </button>\n",
              "      \n",
              "  <style>\n",
              "    .colab-df-container {\n",
              "      display:flex;\n",
              "      flex-wrap:wrap;\n",
              "      gap: 12px;\n",
              "    }\n",
              "\n",
              "    .colab-df-convert {\n",
              "      background-color: #E8F0FE;\n",
              "      border: none;\n",
              "      border-radius: 50%;\n",
              "      cursor: pointer;\n",
              "      display: none;\n",
              "      fill: #1967D2;\n",
              "      height: 32px;\n",
              "      padding: 0 0 0 0;\n",
              "      width: 32px;\n",
              "    }\n",
              "\n",
              "    .colab-df-convert:hover {\n",
              "      background-color: #E2EBFA;\n",
              "      box-shadow: 0px 1px 2px rgba(60, 64, 67, 0.3), 0px 1px 3px 1px rgba(60, 64, 67, 0.15);\n",
              "      fill: #174EA6;\n",
              "    }\n",
              "\n",
              "    [theme=dark] .colab-df-convert {\n",
              "      background-color: #3B4455;\n",
              "      fill: #D2E3FC;\n",
              "    }\n",
              "\n",
              "    [theme=dark] .colab-df-convert:hover {\n",
              "      background-color: #434B5C;\n",
              "      box-shadow: 0px 1px 3px 1px rgba(0, 0, 0, 0.15);\n",
              "      filter: drop-shadow(0px 1px 2px rgba(0, 0, 0, 0.3));\n",
              "      fill: #FFFFFF;\n",
              "    }\n",
              "  </style>\n",
              "\n",
              "      <script>\n",
              "        const buttonEl =\n",
              "          document.querySelector('#df-b101a41b-686b-4f21-9969-b9cfbcd27114 button.colab-df-convert');\n",
              "        buttonEl.style.display =\n",
              "          google.colab.kernel.accessAllowed ? 'block' : 'none';\n",
              "\n",
              "        async function convertToInteractive(key) {\n",
              "          const element = document.querySelector('#df-b101a41b-686b-4f21-9969-b9cfbcd27114');\n",
              "          const dataTable =\n",
              "            await google.colab.kernel.invokeFunction('convertToInteractive',\n",
              "                                                     [key], {});\n",
              "          if (!dataTable) return;\n",
              "\n",
              "          const docLinkHtml = 'Like what you see? Visit the ' +\n",
              "            '<a target=\"_blank\" href=https://colab.research.google.com/notebooks/data_table.ipynb>data table notebook</a>'\n",
              "            + ' to learn more about interactive tables.';\n",
              "          element.innerHTML = '';\n",
              "          dataTable['output_type'] = 'display_data';\n",
              "          await google.colab.output.renderOutput(dataTable, element);\n",
              "          const docLink = document.createElement('div');\n",
              "          docLink.innerHTML = docLinkHtml;\n",
              "          element.appendChild(docLink);\n",
              "        }\n",
              "      </script>\n",
              "    </div>\n",
              "  </div>\n",
              "  "
            ]
          },
          "metadata": {},
          "execution_count": 9
        }
      ],
      "source": [
        "full_dataset.head(10)"
      ]
    },
    {
      "cell_type": "markdown",
      "metadata": {
        "id": "ZjqrPfy4i8CB"
      },
      "source": [
        "Each document contains a different tokenized article:"
      ]
    },
    {
      "cell_type": "code",
      "execution_count": 10,
      "metadata": {
        "colab": {
          "base_uri": "https://localhost:8080/",
          "height": 36
        },
        "id": "EE9Qv0tUi8CB",
        "outputId": "f0c580a8-fe36-4a96-c547-bd5683064332"
      },
      "outputs": [
        {
          "output_type": "execute_result",
          "data": {
            "text/plain": [
              "'Pierre Vinken , 61 years old , will join the board as a nonexecutive director Nov. 29 . Mr. Vinken is chairman of Elsevier N.V. , the Dutch publishing group .'"
            ],
            "application/vnd.google.colaboratory.intrinsic+json": {
              "type": "string"
            }
          },
          "metadata": {},
          "execution_count": 10
        }
      ],
      "source": [
        "\" \".join(loadCorpus(1)[\"word\"])"
      ]
    },
    {
      "cell_type": "code",
      "execution_count": 11,
      "metadata": {
        "colab": {
          "base_uri": "https://localhost:8080/",
          "height": 36
        },
        "id": "sDIadSSJi8CB",
        "outputId": "29eaef51-8df8-49e2-8e21-d24283cda0d8"
      },
      "outputs": [
        {
          "output_type": "execute_result",
          "data": {
            "text/plain": [
              "'Rudolph Agnew , 55 years old and former chairman of Consolidated Gold Fields PLC , was named a nonexecutive director of this British industrial conglomerate .'"
            ],
            "application/vnd.google.colaboratory.intrinsic+json": {
              "type": "string"
            }
          },
          "metadata": {},
          "execution_count": 11
        }
      ],
      "source": [
        "\" \".join(loadCorpus(2)[\"word\"])"
      ]
    },
    {
      "cell_type": "code",
      "execution_count": 12,
      "metadata": {
        "colab": {
          "base_uri": "https://localhost:8080/",
          "height": 336
        },
        "id": "dcAVyveni8CC",
        "outputId": "af2c4b82-6cd8-4cdd-dfa6-b4008e209e6e"
      },
      "outputs": [
        {
          "output_type": "display_data",
          "data": {
            "text/plain": [
              "<Figure size 1080x360 with 1 Axes>"
            ],
            "image/png": "[encoded data removed]"
          },
          "metadata": {
            "needs_background": "light"
          }
        }
      ],
      "source": [
        "fig=plt.figure(figsize=(15,5))\n",
        "p = plt.hist(full_dataset[\"label\"])\n",
        "plt.xticks(rotation=45)\n",
        "plt.show()"
      ]
    },
    {
      "cell_type": "code",
      "execution_count": 13,
      "metadata": {
        "colab": {
          "base_uri": "https://localhost:8080/",
          "height": 306
        },
        "id": "K9XyBPIQi8CC",
        "outputId": "24f1a4a5-dbe9-4d49-8375-e73378ffa80f"
      },
      "outputs": [
        {
          "output_type": "display_data",
          "data": {
            "text/plain": [
              "<Figure size 1080x360 with 1 Axes>"
            ],
            "image/png": "[encoded data removed]"
          },
          "metadata": {
            "needs_background": "light"
          }
        }
      ],
      "source": [
        "fig=plt.figure(figsize=(15,5))\n",
        "p = plt.plot(full_dataset[\"word\"].value_counts())\n",
        "plt.xticks([])\n",
        "plt.show()"
      ]
    },
    {
      "cell_type": "markdown",
      "metadata": {
        "id": "MzyI2Wufi8CD"
      },
      "source": [
        "## Data splitting\n",
        "\n",
        "\n",
        "\n"
      ]
    },
    {
      "cell_type": "markdown",
      "metadata": {
        "id": "Nep1haoQkIO0"
      },
      "source": [
        "Creation of train, validation and test sets."
      ]
    },
    {
      "cell_type": "code",
      "execution_count": 14,
      "metadata": {
        "id": "kOG5wns9X011",
        "outputId": "5c49731c-dc5c-4b60-ebf4-e637a3b85665",
        "colab": {
          "base_uri": "https://localhost:8080/"
        }
      },
      "outputs": [
        {
          "output_type": "execute_result",
          "data": {
            "text/plain": [
              "word     47356\n",
              "label    47356\n",
              "dtype: int64"
            ]
          },
          "metadata": {},
          "execution_count": 14
        }
      ],
      "source": [
        "df_train = loadCorpus(1,101) \n",
        "df_val = loadCorpus(101,151)\n",
        "df_test = loadCorpus(151,200)\n",
        "\n",
        "df_train.count()"
      ]
    },
    {
      "cell_type": "code",
      "execution_count": 15,
      "metadata": {
        "id": "Th6dXqh94849",
        "outputId": "4049d098-f39c-4880-e77b-868dc8c64c38",
        "colab": {
          "base_uri": "https://localhost:8080/"
        }
      },
      "outputs": [
        {
          "output_type": "execute_result",
          "data": {
            "text/plain": [
              "word     31183\n",
              "label    31183\n",
              "dtype: int64"
            ]
          },
          "metadata": {},
          "execution_count": 15
        }
      ],
      "source": [
        "df_val.count()"
      ]
    },
    {
      "cell_type": "code",
      "execution_count": 16,
      "metadata": {
        "id": "Hj_BdDsA4849",
        "outputId": "dcb06011-22b8-4b3e-b324-ab094cf149eb",
        "colab": {
          "base_uri": "https://localhost:8080/"
        }
      },
      "outputs": [
        {
          "output_type": "execute_result",
          "data": {
            "text/plain": [
              "word     15545\n",
              "label    15545\n",
              "dtype: int64"
            ]
          },
          "metadata": {},
          "execution_count": 16
        }
      ],
      "source": [
        "df_test.count()"
      ]
    },
    {
      "cell_type": "markdown",
      "metadata": {
        "id": "XJrGcYbJ4849"
      },
      "source": [
        "## Data pre-processing"
      ]
    },
    {
      "cell_type": "markdown",
      "metadata": {
        "id": "vjPNQ9ilk7X_"
      },
      "source": [
        "Clean the data."
      ]
    },
    {
      "cell_type": "code",
      "execution_count": 17,
      "metadata": {
        "id": "4T_aIaLxk4Xp"
      },
      "outputs": [],
      "source": [
        "def cleanCorpus(corpus):\n",
        "    corpus['word'] = corpus['word'].str.lower()\n",
        "    corpus[\"word\"] = [re.sub(r'[^\\w]', '', word) for word in corpus[\"word\"]]\n",
        "    corpus = corpus[corpus[\"word\"] != \"\"]\n",
        "    return corpus"
      ]
    },
    {
      "cell_type": "code",
      "execution_count": 18,
      "metadata": {
        "id": "lV6x05Lu26ym",
        "outputId": "d0085c69-7a0a-4c57-f0bc-d77d7d25670c",
        "colab": {
          "base_uri": "https://localhost:8080/"
        }
      },
      "outputs": [
        {
          "output_type": "execute_result",
          "data": {
            "text/plain": [
              "word     41149\n",
              "label    41149\n",
              "dtype: int64"
            ]
          },
          "metadata": {},
          "execution_count": 18
        }
      ],
      "source": [
        "#cleaned dataframes\n",
        "dfc_train = cleanCorpus(df_train)\n",
        "dfc_val = cleanCorpus(df_val)\n",
        "dfc_test = cleanCorpus(df_test)\n",
        "\n",
        "dfc_train.count()"
      ]
    },
    {
      "cell_type": "code",
      "execution_count": 19,
      "metadata": {
        "id": "6Y4lYHXy484-",
        "outputId": "949556db-eeff-4098-cf58-d6957ee22cd4",
        "colab": {
          "base_uri": "https://localhost:8080/"
        }
      },
      "outputs": [
        {
          "output_type": "execute_result",
          "data": {
            "text/plain": [
              "word     27263\n",
              "label    27263\n",
              "dtype: int64"
            ]
          },
          "metadata": {},
          "execution_count": 19
        }
      ],
      "source": [
        "dfc_val.count()"
      ]
    },
    {
      "cell_type": "code",
      "execution_count": 20,
      "metadata": {
        "id": "JfjU5ZVo484-",
        "outputId": "851a6a7a-0933-46f1-a5d9-7f9749bd540f",
        "colab": {
          "base_uri": "https://localhost:8080/"
        }
      },
      "outputs": [
        {
          "output_type": "execute_result",
          "data": {
            "text/plain": [
              "word     13614\n",
              "label    13614\n",
              "dtype: int64"
            ]
          },
          "metadata": {},
          "execution_count": 20
        }
      ],
      "source": [
        "dfc_test.count()"
      ]
    },
    {
      "cell_type": "code",
      "execution_count": 21,
      "metadata": {
        "colab": {
          "base_uri": "https://localhost:8080/",
          "height": 363
        },
        "id": "R4fHZaScmPoU",
        "outputId": "a4de157f-aab5-47ca-a375-b0e8db61e053"
      },
      "outputs": [
        {
          "output_type": "execute_result",
          "data": {
            "text/plain": [
              "      word label\n",
              "0   pierre   NNP\n",
              "1   vinken   NNP\n",
              "3       61    CD\n",
              "4    years   NNS\n",
              "5      old    JJ\n",
              "7     will    MD\n",
              "8     join    VB\n",
              "9      the    DT\n",
              "10   board    NN\n",
              "11      as    IN"
            ],
            "text/html": [
              "\n",
              "  <div id=\"df-622e781f-f814-4602-a94f-22bb24ba92cc\">\n",
              "    <div class=\"colab-df-container\">\n",
              "      <div>\n",
              "<style scoped>\n",
              "    .dataframe tbody tr th:only-of-type {\n",
              "        vertical-align: middle;\n",
              "    }\n",
              "\n",
              "    .dataframe tbody tr th {\n",
              "        vertical-align: top;\n",
              "    }\n",
              "\n",
              "    .dataframe thead th {\n",
              "        text-align: right;\n",
              "    }\n",
              "</style>\n",
              "<table border=\"1\" class=\"dataframe\">\n",
              "  <thead>\n",
              "    <tr style=\"text-align: right;\">\n",
              "      <th></th>\n",
              "      <th>word</th>\n",
              "      <th>label</th>\n",
              "    </tr>\n",
              "  </thead>\n",
              "  <tbody>\n",
              "    <tr>\n",
              "      <th>0</th>\n",
              "      <td>pierre</td>\n",
              "      <td>NNP</td>\n",
              "    </tr>\n",
              "    <tr>\n",
              "      <th>1</th>\n",
              "      <td>vinken</td>\n",
              "      <td>NNP</td>\n",
              "    </tr>\n",
              "    <tr>\n",
              "      <th>3</th>\n",
              "      <td>61</td>\n",
              "      <td>CD</td>\n",
              "    </tr>\n",
              "    <tr>\n",
              "      <th>4</th>\n",
              "      <td>years</td>\n",
              "      <td>NNS</td>\n",
              "    </tr>\n",
              "    <tr>\n",
              "      <th>5</th>\n",
              "      <td>old</td>\n",
              "      <td>JJ</td>\n",
              "    </tr>\n",
              "    <tr>\n",
              "      <th>7</th>\n",
              "      <td>will</td>\n",
              "      <td>MD</td>\n",
              "    </tr>\n",
              "    <tr>\n",
              "      <th>8</th>\n",
              "      <td>join</td>\n",
              "      <td>VB</td>\n",
              "    </tr>\n",
              "    <tr>\n",
              "      <th>9</th>\n",
              "      <td>the</td>\n",
              "      <td>DT</td>\n",
              "    </tr>\n",
              "    <tr>\n",
              "      <th>10</th>\n",
              "      <td>board</td>\n",
              "      <td>NN</td>\n",
              "    </tr>\n",
              "    <tr>\n",
              "      <th>11</th>\n",
              "      <td>as</td>\n",
              "      <td>IN</td>\n",
              "    </tr>\n",
              "  </tbody>\n",
              "</table>\n",
              "</div>\n",
              "      <button class=\"colab-df-convert\" onclick=\"convertToInteractive('df-622e781f-f814-4602-a94f-22bb24ba92cc')\"\n",
              "              title=\"Convert this dataframe to an interactive table.\"\n",
              "              style=\"display:none;\">\n",
              "        \n",
              "  <svg xmlns=\"http://www.w3.org/2000/svg\" height=\"24px\"viewBox=\"0 0 24 24\"\n",
              "       width=\"24px\">\n",
              "    <path d=\"M0 0h24v24H0V0z\" fill=\"none\"/>\n",
              "    <path d=\"M18.56 5.44l.94 2.06.94-2.06 2.06-.94-2.06-.94-.94-2.06-.94 2.06-2.06.94zm-11 1L8.5 8.5l.94-2.06 2.06-.94-2.06-.94L8.5 2.5l-.94 2.06-2.06.94zm10 10l.94 2.06.94-2.06 2.06-.94-2.06-.94-.94-2.06-.94 2.06-2.06.94z\"/><path d=\"M17.41 7.96l-1.37-1.37c-.4-.4-.92-.59-1.43-.59-.52 0-1.04.2-1.43.59L10.3 9.45l-7.72 7.72c-.78.78-.78 2.05 0 2.83L4 21.41c.39.39.9.59 1.41.59.51 0 1.02-.2 1.41-.59l7.78-7.78 2.81-2.81c.8-.78.8-2.07 0-2.86zM5.41 20L4 18.59l7.72-7.72 1.47 1.35L5.41 20z\"/>\n",
              "  </svg>\n",
              "      </button>\n",
              "      \n",
              "  <style>\n",
              "    .colab-df-container {\n",
              "      display:flex;\n",
              "      flex-wrap:wrap;\n",
              "      gap: 12px;\n",
              "    }\n",
              "\n",
              "    .colab-df-convert {\n",
              "      background-color: #E8F0FE;\n",
              "      border: none;\n",
              "      border-radius: 50%;\n",
              "      cursor: pointer;\n",
              "      display: none;\n",
              "      fill: #1967D2;\n",
              "      height: 32px;\n",
              "      padding: 0 0 0 0;\n",
              "      width: 32px;\n",
              "    }\n",
              "\n",
              "    .colab-df-convert:hover {\n",
              "      background-color: #E2EBFA;\n",
              "      box-shadow: 0px 1px 2px rgba(60, 64, 67, 0.3), 0px 1px 3px 1px rgba(60, 64, 67, 0.15);\n",
              "      fill: #174EA6;\n",
              "    }\n",
              "\n",
              "    [theme=dark] .colab-df-convert {\n",
              "      background-color: #3B4455;\n",
              "      fill: #D2E3FC;\n",
              "    }\n",
              "\n",
              "    [theme=dark] .colab-df-convert:hover {\n",
              "      background-color: #434B5C;\n",
              "      box-shadow: 0px 1px 3px 1px rgba(0, 0, 0, 0.15);\n",
              "      filter: drop-shadow(0px 1px 2px rgba(0, 0, 0, 0.3));\n",
              "      fill: #FFFFFF;\n",
              "    }\n",
              "  </style>\n",
              "\n",
              "      <script>\n",
              "        const buttonEl =\n",
              "          document.querySelector('#df-622e781f-f814-4602-a94f-22bb24ba92cc button.colab-df-convert');\n",
              "        buttonEl.style.display =\n",
              "          google.colab.kernel.accessAllowed ? 'block' : 'none';\n",
              "\n",
              "        async function convertToInteractive(key) {\n",
              "          const element = document.querySelector('#df-622e781f-f814-4602-a94f-22bb24ba92cc');\n",
              "          const dataTable =\n",
              "            await google.colab.kernel.invokeFunction('convertToInteractive',\n",
              "                                                     [key], {});\n",
              "          if (!dataTable) return;\n",
              "\n",
              "          const docLinkHtml = 'Like what you see? Visit the ' +\n",
              "            '<a target=\"_blank\" href=https://colab.research.google.com/notebooks/data_table.ipynb>data table notebook</a>'\n",
              "            + ' to learn more about interactive tables.';\n",
              "          element.innerHTML = '';\n",
              "          dataTable['output_type'] = 'display_data';\n",
              "          await google.colab.output.renderOutput(dataTable, element);\n",
              "          const docLink = document.createElement('div');\n",
              "          docLink.innerHTML = docLinkHtml;\n",
              "          element.appendChild(docLink);\n",
              "        }\n",
              "      </script>\n",
              "    </div>\n",
              "  </div>\n",
              "  "
            ]
          },
          "metadata": {},
          "execution_count": 21
        }
      ],
      "source": [
        "dfc_train.head(10)"
      ]
    },
    {
      "cell_type": "markdown",
      "metadata": {
        "id": "6VsU_XpAi8CF"
      },
      "source": [
        "## Word embedding"
      ]
    },
    {
      "cell_type": "markdown",
      "metadata": {
        "id": "4Bep7HYL484_"
      },
      "source": [
        "### Loading GloVe"
      ]
    },
    {
      "cell_type": "markdown",
      "metadata": {
        "id": "92d15Xzr4qAn"
      },
      "source": [
        "\n",
        "Loading pre-trained dense word embedding: Glove.\n",
        "\n",
        "\n",
        "\n",
        "\n"
      ]
    },
    {
      "cell_type": "code",
      "execution_count": 22,
      "metadata": {
        "id": "UZBrvzL8t6_U"
      },
      "outputs": [],
      "source": [
        "import gensim\n",
        "import gensim.downloader as gloader\n",
        "\n",
        "def load_embedding_model(model_type: str,\n",
        "                         embedding_dimension: int = 50) -> gensim.models.keyedvectors.KeyedVectors:\n",
        "    \"\"\"\n",
        "    Loads a pre-trained word embedding model via gensim library.\n",
        "\n",
        "    :param model_type: name of the word embedding model to load.\n",
        "    :param embedding_dimension: size of the embedding space to consider\n",
        "\n",
        "    :return\n",
        "        - pre-trained word embedding model (gensim KeyedVectors object)\n",
        "    \"\"\"\n",
        "    download_path = \"\"\n",
        "    if model_type.strip().lower() == 'word2vec':\n",
        "        download_path = \"word2vec-google-news-300\"\n",
        "\n",
        "    elif model_type.strip().lower() == 'glove':\n",
        "        download_path = \"glove-wiki-gigaword-{}\".format(embedding_dimension)\n",
        "    elif model_type.strip().lower() == 'fasttext':\n",
        "        download_path = \"fasttext-wiki-news-subwords-300\"\n",
        "    else:\n",
        "        raise AttributeError(\"Unsupported embedding model type! Available ones: word2vec, glove, fasttext\")\n",
        "        \n",
        "    try:\n",
        "        emb_model = gloader.load(download_path)\n",
        "    except ValueError as e:\n",
        "        print(\"Invalid embedding model name! Check the embedding dimension:\")\n",
        "        print(\"Word2Vec: 300\")\n",
        "        print(\"Glove: 50, 100, 200, 300\")\n",
        "        print('FastText: 300')\n",
        "        raise e\n",
        "\n",
        "    return emb_model"
      ]
    },
    {
      "cell_type": "code",
      "execution_count": 23,
      "metadata": {
        "id": "2hPJ_neS5Vxd"
      },
      "outputs": [],
      "source": [
        "# Modify these variables as you wish!\n",
        "# Glove -> 50, 100, 200, 300\n",
        "# Word2Vec -> 300\n",
        "# Fasttext -> 300\n",
        "embedding_model = load_embedding_model(model_type=\"glove\", embedding_dimension=50)"
      ]
    },
    {
      "cell_type": "markdown",
      "metadata": {
        "id": "jU0rgZ0I484_"
      },
      "source": [
        "### Analyzing OOV statistics"
      ]
    },
    {
      "cell_type": "code",
      "execution_count": 24,
      "metadata": {
        "id": "S76fxrkJ484_",
        "outputId": "b5957f3d-74e0-43c6-d352-9648a9d6a1b1",
        "colab": {
          "base_uri": "https://localhost:8080/"
        }
      },
      "outputs": [
        {
          "output_type": "execute_result",
          "data": {
            "text/plain": [
              "['the', ',', '.', 'of', 'to', 'and', 'in', 'a', '\"', \"'s\"]"
            ]
          },
          "metadata": {},
          "execution_count": 24
        }
      ],
      "source": [
        "embedding_model.index_to_key[0:10]"
      ]
    },
    {
      "cell_type": "code",
      "execution_count": 25,
      "metadata": {
        "id": "CdGVCkXI485A",
        "outputId": "28f03573-bd38-46d4-ad00-0dd8d71fc196",
        "colab": {
          "base_uri": "https://localhost:8080/"
        }
      },
      "outputs": [
        {
          "output_type": "execute_result",
          "data": {
            "text/plain": [
              "535"
            ]
          },
          "metadata": {},
          "execution_count": 25
        }
      ],
      "source": [
        "oov_train = list(set([word for word in dfc_train.word.values if word not in embedding_model.index_to_key]))\n",
        "oov_val = list(set([word for word in dfc_val.word.values if word not in embedding_model.index_to_key]))\n",
        "\n",
        "len(oov_train)"
      ]
    },
    {
      "cell_type": "code",
      "execution_count": 26,
      "metadata": {
        "id": "4YxwWfUB485A",
        "outputId": "f97273d4-42f2-4f06-b834-5464056b9fa4",
        "colab": {
          "base_uri": "https://localhost:8080/"
        }
      },
      "outputs": [
        {
          "output_type": "execute_result",
          "data": {
            "text/plain": [
              "305"
            ]
          },
          "metadata": {},
          "execution_count": 26
        }
      ],
      "source": [
        "len(oov_val)"
      ]
    },
    {
      "cell_type": "code",
      "execution_count": 27,
      "metadata": {
        "id": "_FCfRir-485A",
        "outputId": "88222390-9b56-4007-aa15-69500218ff29",
        "colab": {
          "base_uri": "https://localhost:8080/"
        }
      },
      "outputs": [
        {
          "output_type": "execute_result",
          "data": {
            "text/plain": [
              "['landonne',\n",
              " '264590',\n",
              " 'jerseybased',\n",
              " '3527',\n",
              " 'multibilliondollar',\n",
              " 'eightcount',\n",
              " 'oldhouse',\n",
              " 'subsegments',\n",
              " 'automotiveparts',\n",
              " 'foodshop']"
            ]
          },
          "metadata": {},
          "execution_count": 27
        }
      ],
      "source": [
        "oov_train[0:10]"
      ]
    },
    {
      "cell_type": "markdown",
      "metadata": {
        "id": "d3NWFTMjmg78"
      },
      "source": [
        "### Embedding with GloVe"
      ]
    },
    {
      "cell_type": "markdown",
      "metadata": {
        "id": "vMrf7Fro485A"
      },
      "source": [
        "#### Prepare the embedding matrix"
      ]
    },
    {
      "cell_type": "markdown",
      "metadata": {
        "id": "9Htl90Gw485B"
      },
      "source": [
        "Definition of a tokenizer."
      ]
    },
    {
      "cell_type": "code",
      "execution_count": 28,
      "metadata": {
        "colab": {
          "base_uri": "https://localhost:8080/"
        },
        "id": "6pHoC5Xe3ETA",
        "outputId": "8dac9085-9940-43c8-c3b9-3a2b3c550047"
      },
      "outputs": [
        {
          "output_type": "stream",
          "name": "stdout",
          "text": [
            "Number of unique words in dictionary= 7305\n",
            "Dictionary head:  {'<unk>': 1, 'the': 2, 'of': 3, 'a': 4, 'to': 5, 'in': 6, 'and': 7, 'for': 8, 's': 9, 'that': 10}\n"
          ]
        }
      ],
      "source": [
        "from tensorflow.keras.preprocessing.text import Tokenizer\n",
        "\n",
        "# define the tokenizer\n",
        "tokenizer = Tokenizer(oov_token='<unk>')\n",
        "text = dfc_train.word.values\n",
        "\n",
        "#fit the tokenizer on the training data\n",
        "tokenizer.fit_on_texts(text)\n",
        "\n",
        "# number of unique words in dict.\n",
        "print(\"Number of unique words in dictionary=\", len(tokenizer.word_index))\n",
        "print(\"Dictionary head: \", dict(list(tokenizer.word_index.items())[0:10]))\n",
        "with open('./word_index.json','w') as word_index_file:\n",
        "    word_index_file.write(tokenizer.to_json())"
      ]
    },
    {
      "cell_type": "markdown",
      "metadata": {
        "id": "zYWHS267ohxZ"
      },
      "source": [
        "Define the embedding matrix."
      ]
    },
    {
      "cell_type": "code",
      "execution_count": 29,
      "metadata": {
        "id": "xpBaqwkd5axM"
      },
      "outputs": [],
      "source": [
        "from tqdm import tqdm\n",
        "\n",
        "def build_embedding_matrix(embedding_model: gensim.models.keyedvectors.KeyedVectors,\n",
        "                           embedding_dimension: int,\n",
        "                           word_to_idx,\n",
        "                           vocab_size: int) -> np.ndarray:\n",
        "    \"\"\"\n",
        "    Builds the embedding matrix of a specific dataset given a pre-trained word embedding model\n",
        "\n",
        "    :param embedding_model: pre-trained word embedding model (gensim wrapper)\n",
        "    :param word_to_idx: vocabulary map (word -> index) (dict)\n",
        "    :param vocab_size: size of the vocabulary\n",
        "    \n",
        "\n",
        "    :return\n",
        "        - embedding matrix that assigns a high dimensional vector to each word in the dataset specific vocabulary (shape |V| x d)\n",
        "    \"\"\"\n",
        "    embedding_matrix = np.zeros((vocab_size, embedding_dimension), dtype=np.float32)\n",
        "    for word, idx in tqdm(tokenizer.word_index.items()):\n",
        "        try:\n",
        "            embedding_vector = embedding_model[word]\n",
        "        except (KeyError, TypeError):\n",
        "            #print(f\"Using random vector for '{word}'\")\n",
        "            embedding_vector = np.random.uniform(low=-0.05, high=0.05, size=embedding_dimension)\n",
        "\n",
        "        embedding_matrix[idx] = embedding_vector\n",
        "\n",
        "    return embedding_matrix"
      ]
    },
    {
      "cell_type": "code",
      "execution_count": 30,
      "metadata": {
        "colab": {
          "base_uri": "https://localhost:8080/"
        },
        "id": "nYYqz59Ilmem",
        "outputId": "c2f16ce3-4996-4670-ba2d-05e84c33da50"
      },
      "outputs": [
        {
          "output_type": "stream",
          "name": "stderr",
          "text": [
            "100%|██████████| 7305/7305 [00:00<00:00, 285833.88it/s]"
          ]
        },
        {
          "output_type": "stream",
          "name": "stdout",
          "text": [
            "Embedding matrix shape: (7306, 50)\n"
          ]
        },
        {
          "output_type": "stream",
          "name": "stderr",
          "text": [
            "\n"
          ]
        }
      ],
      "source": [
        "# Testing\n",
        "embedding_dimension = 50\n",
        "vocab_size = len(tokenizer.word_index) + 1\n",
        "embedding_matrix = build_embedding_matrix(embedding_model, embedding_dimension, tokenizer.word_index, vocab_size )\n",
        "print(f\"Embedding matrix shape: {embedding_matrix.shape}\")"
      ]
    },
    {
      "cell_type": "markdown",
      "metadata": {
        "id": "ojCSzxS1485B"
      },
      "source": [
        "#### Encode the dataset"
      ]
    },
    {
      "cell_type": "markdown",
      "metadata": {
        "id": "BLiAw26WqhqF"
      },
      "source": [
        "Define a label encoder for the target class."
      ]
    },
    {
      "cell_type": "code",
      "execution_count": 31,
      "metadata": {
        "colab": {
          "base_uri": "https://localhost:8080/"
        },
        "id": "54XQt_rz6fgv",
        "outputId": "b79606cb-8f4e-4eb0-c04b-7a2178f6e495"
      },
      "outputs": [
        {
          "output_type": "stream",
          "name": "stderr",
          "text": [
            "<ipython-input-31-ba113b02b22f>:4: SettingWithCopyWarning: \n",
            "A value is trying to be set on a copy of a slice from a DataFrame.\n",
            "Try using .loc[row_indexer,col_indexer] = value instead\n",
            "\n",
            "See the caveats in the documentation: https://pandas.pydata.org/pandas-docs/stable/user_guide/indexing.html#returning-a-view-versus-a-copy\n",
            "  dfc_train['encoded_label'] = le.fit_transform(dfc_train['label'])\n",
            "<ipython-input-31-ba113b02b22f>:5: SettingWithCopyWarning: \n",
            "A value is trying to be set on a copy of a slice from a DataFrame.\n",
            "Try using .loc[row_indexer,col_indexer] = value instead\n",
            "\n",
            "See the caveats in the documentation: https://pandas.pydata.org/pandas-docs/stable/user_guide/indexing.html#returning-a-view-versus-a-copy\n",
            "  dfc_val['encoded_label'] = le.transform(dfc_val['label'])\n",
            "<ipython-input-31-ba113b02b22f>:6: SettingWithCopyWarning: \n",
            "A value is trying to be set on a copy of a slice from a DataFrame.\n",
            "Try using .loc[row_indexer,col_indexer] = value instead\n",
            "\n",
            "See the caveats in the documentation: https://pandas.pydata.org/pandas-docs/stable/user_guide/indexing.html#returning-a-view-versus-a-copy\n",
            "  dfc_test['encoded_label'] = le.transform(dfc_test['label'])\n"
          ]
        }
      ],
      "source": [
        "from sklearn.preprocessing import LabelEncoder, OneHotEncoder\n",
        "\n",
        "le = LabelEncoder()\n",
        "dfc_train['encoded_label'] = le.fit_transform(dfc_train['label'])\n",
        "dfc_val['encoded_label'] = le.transform(dfc_val['label'])\n",
        "dfc_test['encoded_label'] = le.transform(dfc_test['label'])"
      ]
    },
    {
      "cell_type": "code",
      "execution_count": 32,
      "metadata": {
        "id": "5YGyoO0h485C",
        "outputId": "f440b456-35df-4190-e465-1fe371605ff8",
        "colab": {
          "base_uri": "https://localhost:8080/",
          "height": 0
        }
      },
      "outputs": [
        {
          "output_type": "execute_result",
          "data": {
            "text/plain": [
              "      word label  encoded_label\n",
              "0   pierre   NNP             16\n",
              "1   vinken   NNP             16\n",
              "3       61    CD              5\n",
              "4    years   NNS             18\n",
              "5      old    JJ             10\n",
              "7     will    MD             14\n",
              "8     join    VB             29\n",
              "9      the    DT              6\n",
              "10   board    NN             15\n",
              "11      as    IN              9"
            ],
            "text/html": [
              "\n",
              "  <div id=\"df-df7fa505-be6b-4da3-8498-3a5cf0e05b04\">\n",
              "    <div class=\"colab-df-container\">\n",
              "      <div>\n",
              "<style scoped>\n",
              "    .dataframe tbody tr th:only-of-type {\n",
              "        vertical-align: middle;\n",
              "    }\n",
              "\n",
              "    .dataframe tbody tr th {\n",
              "        vertical-align: top;\n",
              "    }\n",
              "\n",
              "    .dataframe thead th {\n",
              "        text-align: right;\n",
              "    }\n",
              "</style>\n",
              "<table border=\"1\" class=\"dataframe\">\n",
              "  <thead>\n",
              "    <tr style=\"text-align: right;\">\n",
              "      <th></th>\n",
              "      <th>word</th>\n",
              "      <th>label</th>\n",
              "      <th>encoded_label</th>\n",
              "    </tr>\n",
              "  </thead>\n",
              "  <tbody>\n",
              "    <tr>\n",
              "      <th>0</th>\n",
              "      <td>pierre</td>\n",
              "      <td>NNP</td>\n",
              "      <td>16</td>\n",
              "    </tr>\n",
              "    <tr>\n",
              "      <th>1</th>\n",
              "      <td>vinken</td>\n",
              "      <td>NNP</td>\n",
              "      <td>16</td>\n",
              "    </tr>\n",
              "    <tr>\n",
              "      <th>3</th>\n",
              "      <td>61</td>\n",
              "      <td>CD</td>\n",
              "      <td>5</td>\n",
              "    </tr>\n",
              "    <tr>\n",
              "      <th>4</th>\n",
              "      <td>years</td>\n",
              "      <td>NNS</td>\n",
              "      <td>18</td>\n",
              "    </tr>\n",
              "    <tr>\n",
              "      <th>5</th>\n",
              "      <td>old</td>\n",
              "      <td>JJ</td>\n",
              "      <td>10</td>\n",
              "    </tr>\n",
              "    <tr>\n",
              "      <th>7</th>\n",
              "      <td>will</td>\n",
              "      <td>MD</td>\n",
              "      <td>14</td>\n",
              "    </tr>\n",
              "    <tr>\n",
              "      <th>8</th>\n",
              "      <td>join</td>\n",
              "      <td>VB</td>\n",
              "      <td>29</td>\n",
              "    </tr>\n",
              "    <tr>\n",
              "      <th>9</th>\n",
              "      <td>the</td>\n",
              "      <td>DT</td>\n",
              "      <td>6</td>\n",
              "    </tr>\n",
              "    <tr>\n",
              "      <th>10</th>\n",
              "      <td>board</td>\n",
              "      <td>NN</td>\n",
              "      <td>15</td>\n",
              "    </tr>\n",
              "    <tr>\n",
              "      <th>11</th>\n",
              "      <td>as</td>\n",
              "      <td>IN</td>\n",
              "      <td>9</td>\n",
              "    </tr>\n",
              "  </tbody>\n",
              "</table>\n",
              "</div>\n",
              "      <button class=\"colab-df-convert\" onclick=\"convertToInteractive('df-df7fa505-be6b-4da3-8498-3a5cf0e05b04')\"\n",
              "              title=\"Convert this dataframe to an interactive table.\"\n",
              "              style=\"display:none;\">\n",
              "        \n",
              "  <svg xmlns=\"http://www.w3.org/2000/svg\" height=\"24px\"viewBox=\"0 0 24 24\"\n",
              "       width=\"24px\">\n",
              "    <path d=\"M0 0h24v24H0V0z\" fill=\"none\"/>\n",
              "    <path d=\"M18.56 5.44l.94 2.06.94-2.06 2.06-.94-2.06-.94-.94-2.06-.94 2.06-2.06.94zm-11 1L8.5 8.5l.94-2.06 2.06-.94-2.06-.94L8.5 2.5l-.94 2.06-2.06.94zm10 10l.94 2.06.94-2.06 2.06-.94-2.06-.94-.94-2.06-.94 2.06-2.06.94z\"/><path d=\"M17.41 7.96l-1.37-1.37c-.4-.4-.92-.59-1.43-.59-.52 0-1.04.2-1.43.59L10.3 9.45l-7.72 7.72c-.78.78-.78 2.05 0 2.83L4 21.41c.39.39.9.59 1.41.59.51 0 1.02-.2 1.41-.59l7.78-7.78 2.81-2.81c.8-.78.8-2.07 0-2.86zM5.41 20L4 18.59l7.72-7.72 1.47 1.35L5.41 20z\"/>\n",
              "  </svg>\n",
              "      </button>\n",
              "      \n",
              "  <style>\n",
              "    .colab-df-container {\n",
              "      display:flex;\n",
              "      flex-wrap:wrap;\n",
              "      gap: 12px;\n",
              "    }\n",
              "\n",
              "    .colab-df-convert {\n",
              "      background-color: #E8F0FE;\n",
              "      border: none;\n",
              "      border-radius: 50%;\n",
              "      cursor: pointer;\n",
              "      display: none;\n",
              "      fill: #1967D2;\n",
              "      height: 32px;\n",
              "      padding: 0 0 0 0;\n",
              "      width: 32px;\n",
              "    }\n",
              "\n",
              "    .colab-df-convert:hover {\n",
              "      background-color: #E2EBFA;\n",
              "      box-shadow: 0px 1px 2px rgba(60, 64, 67, 0.3), 0px 1px 3px 1px rgba(60, 64, 67, 0.15);\n",
              "      fill: #174EA6;\n",
              "    }\n",
              "\n",
              "    [theme=dark] .colab-df-convert {\n",
              "      background-color: #3B4455;\n",
              "      fill: #D2E3FC;\n",
              "    }\n",
              "\n",
              "    [theme=dark] .colab-df-convert:hover {\n",
              "      background-color: #434B5C;\n",
              "      box-shadow: 0px 1px 3px 1px rgba(0, 0, 0, 0.15);\n",
              "      filter: drop-shadow(0px 1px 2px rgba(0, 0, 0, 0.3));\n",
              "      fill: #FFFFFF;\n",
              "    }\n",
              "  </style>\n",
              "\n",
              "      <script>\n",
              "        const buttonEl =\n",
              "          document.querySelector('#df-df7fa505-be6b-4da3-8498-3a5cf0e05b04 button.colab-df-convert');\n",
              "        buttonEl.style.display =\n",
              "          google.colab.kernel.accessAllowed ? 'block' : 'none';\n",
              "\n",
              "        async function convertToInteractive(key) {\n",
              "          const element = document.querySelector('#df-df7fa505-be6b-4da3-8498-3a5cf0e05b04');\n",
              "          const dataTable =\n",
              "            await google.colab.kernel.invokeFunction('convertToInteractive',\n",
              "                                                     [key], {});\n",
              "          if (!dataTable) return;\n",
              "\n",
              "          const docLinkHtml = 'Like what you see? Visit the ' +\n",
              "            '<a target=\"_blank\" href=https://colab.research.google.com/notebooks/data_table.ipynb>data table notebook</a>'\n",
              "            + ' to learn more about interactive tables.';\n",
              "          element.innerHTML = '';\n",
              "          dataTable['output_type'] = 'display_data';\n",
              "          await google.colab.output.renderOutput(dataTable, element);\n",
              "          const docLink = document.createElement('div');\n",
              "          docLink.innerHTML = docLinkHtml;\n",
              "          element.appendChild(docLink);\n",
              "        }\n",
              "      </script>\n",
              "    </div>\n",
              "  </div>\n",
              "  "
            ]
          },
          "metadata": {},
          "execution_count": 32
        }
      ],
      "source": [
        "dfc_train.head(10)"
      ]
    },
    {
      "cell_type": "markdown",
      "metadata": {
        "id": "yS7M36zPrBip"
      },
      "source": [
        "Transform the text into a sequence of integers using the tokenizer defined before. "
      ]
    },
    {
      "cell_type": "code",
      "execution_count": 33,
      "metadata": {
        "colab": {
          "base_uri": "https://localhost:8080/"
        },
        "id": "72n2_dZHDprc",
        "outputId": "b9181dcf-7daf-4196-c5ad-31bddd01b24a"
      },
      "outputs": [
        {
          "output_type": "execute_result",
          "data": {
            "text/plain": [
              "39"
            ]
          },
          "metadata": {},
          "execution_count": 33
        }
      ],
      "source": [
        "x_train = np.array(tokenizer.texts_to_sequences(dfc_train.word.values)) \n",
        "y_train =np.array( dfc_train['encoded_label'])\n",
        "\n",
        "x_val = np.array(tokenizer.texts_to_sequences(dfc_val.word.values))\n",
        "y_val = np.array(dfc_val['encoded_label'])\n",
        "\n",
        "x_test = np.array(tokenizer.texts_to_sequences(dfc_test.word.values))\n",
        "y_test = np.array(dfc_test['encoded_label'])\n",
        "\n",
        "#number of unique labels\n",
        "num_classes = len(np.unique(y_train))\n",
        "num_classes\n"
      ]
    },
    {
      "cell_type": "code",
      "execution_count": 34,
      "metadata": {
        "id": "NHZTtqWB485D",
        "outputId": "2a1aa5d9-fb1e-4f56-e3a0-2f72edc1decc",
        "colab": {
          "base_uri": "https://localhost:8080/"
        }
      },
      "outputs": [
        {
          "output_type": "execute_result",
          "data": {
            "text/plain": [
              "7306"
            ]
          },
          "metadata": {},
          "execution_count": 34
        }
      ],
      "source": [
        "\n",
        "vocab_size = len(tokenizer.word_index) + 1\n",
        "vocab_size"
      ]
    },
    {
      "cell_type": "markdown",
      "metadata": {
        "id": "51RMHWA0r2ep"
      },
      "source": [
        "Pad the sequences to make them of same length before passing them to the model."
      ]
    },
    {
      "cell_type": "code",
      "execution_count": 35,
      "metadata": {
        "colab": {
          "base_uri": "https://localhost:8080/"
        },
        "id": "Lzxixj0QExD7",
        "outputId": "8eaad8c7-d5c2-4d8c-a371-457124002f32"
      },
      "outputs": [
        {
          "output_type": "stream",
          "name": "stdout",
          "text": [
            "X train shape: (41149, 1)\n",
            "Y train shape: (41149,)\n",
            "type:<class 'numpy.ndarray'>\n",
            "X val shape: (27263, 1)\n",
            "Y val shape: (27263,)\n",
            "type:<class 'numpy.ndarray'>\n",
            "X test shape: (13614, 1) (13614, 1)\n",
            "Y test shape: (13614,) (13614,)\n"
          ]
        }
      ],
      "source": [
        "from tensorflow.keras.preprocessing.sequence import pad_sequences\n",
        "\n",
        "x_train = pad_sequences(x_train, maxlen=1, padding='post')\n",
        "x_val = pad_sequences(x_val, maxlen=1, padding='post')\n",
        "x_test = pad_sequences(x_test, maxlen=1, padding='post')\n",
        "\n",
        "#Train\n",
        "print(f'X train shape: {x_train.shape}')\n",
        "print(f'Y train shape: {y_train.shape}')\n",
        "print(f'type:{type(x_train)}')\n",
        "\n",
        "# Val\n",
        "print(f'X val shape: {x_val.shape}')\n",
        "print(f'Y val shape: {y_val.shape}')\n",
        "print(f'type:{type(y_train)}')\n",
        "# Test\n",
        "\n",
        "print(f'X test shape: {x_test.shape}', x_test.shape)\n",
        "print(f'Y test shape: {y_test.shape}', y_test.shape)"
      ]
    },
    {
      "cell_type": "markdown",
      "metadata": {
        "id": "7FTlmNoGi8CF"
      },
      "source": [
        "## Baseline model: LSTM"
      ]
    },
    {
      "cell_type": "markdown",
      "metadata": {
        "id": "LCcVYGrNsQ-x"
      },
      "source": [
        "### Define the model"
      ]
    },
    {
      "cell_type": "code",
      "execution_count": 36,
      "metadata": {
        "colab": {
          "base_uri": "https://localhost:8080/"
        },
        "id": "RyfvHkUZ1wEU",
        "outputId": "562b0ccf-e86d-4ad1-da9f-f16be9250ffe"
      },
      "outputs": [
        {
          "output_type": "stream",
          "name": "stdout",
          "text": [
            "Model: \"sequential\"\n",
            "_________________________________________________________________\n",
            " Layer (type)                Output Shape              Param #   \n",
            "=================================================================\n",
            " embedding (Embedding)       (None, 1, 50)             365300    \n",
            "                                                                 \n",
            " bidirectional (Bidirectiona  (None, 64)               21248     \n",
            " l)                                                              \n",
            "                                                                 \n",
            " dense (Dense)               (None, 39)                2535      \n",
            "                                                                 \n",
            "=================================================================\n",
            "Total params: 389,083\n",
            "Trainable params: 23,783\n",
            "Non-trainable params: 365,300\n",
            "_________________________________________________________________\n"
          ]
        }
      ],
      "source": [
        "from tensorflow.keras.models import Sequential\n",
        "from tensorflow.keras.layers import Embedding, Dense, LSTM, Bidirectional \n",
        "\n",
        "model = Sequential()\n",
        "embedding_layer = Embedding(input_dim = vocab_size,output_dim= embedding_dimension,input_length=1, weights = [embedding_matrix], trainable = False)\n",
        "model.add(embedding_layer)\n",
        "model.add(Bidirectional(LSTM(32)))\n",
        "model.add(Dense(num_classes,activation='softmax'))\n",
        "\n",
        "model.summary()"
      ]
    },
    {
      "cell_type": "code",
      "execution_count": 37,
      "metadata": {
        "id": "nUVoMtiPNRMK"
      },
      "outputs": [],
      "source": [
        "model.compile(loss='sparse_categorical_crossentropy', optimizer='Adam', metrics=['accuracy'])"
      ]
    },
    {
      "cell_type": "code",
      "execution_count": 38,
      "metadata": {
        "colab": {
          "base_uri": "https://localhost:8080/"
        },
        "id": "ZY8zv1dvQM3A",
        "outputId": "2b5eda67-2dc9-4a34-9c4a-34586c6bff6f"
      },
      "outputs": [
        {
          "output_type": "stream",
          "name": "stdout",
          "text": [
            "Epoch 1/30\n",
            "643/643 [==============================] - 9s 8ms/step - loss: 1.8510 - accuracy: 0.5273 - val_loss: 1.3286 - val_accuracy: 0.6278\n",
            "Epoch 2/30\n",
            "643/643 [==============================] - 4s 5ms/step - loss: 1.0282 - accuracy: 0.7100 - val_loss: 1.0798 - val_accuracy: 0.6749\n",
            "Epoch 3/30\n",
            "643/643 [==============================] - 3s 5ms/step - loss: 0.8496 - accuracy: 0.7539 - val_loss: 0.9791 - val_accuracy: 0.7100\n",
            "Epoch 4/30\n",
            "643/643 [==============================] - 3s 5ms/step - loss: 0.7542 - accuracy: 0.7824 - val_loss: 0.9243 - val_accuracy: 0.7250\n",
            "Epoch 5/30\n",
            "643/643 [==============================] - 3s 5ms/step - loss: 0.6888 - accuracy: 0.7990 - val_loss: 0.8884 - val_accuracy: 0.7221\n",
            "Epoch 6/30\n",
            "643/643 [==============================] - 3s 5ms/step - loss: 0.6405 - accuracy: 0.8110 - val_loss: 0.8600 - val_accuracy: 0.7343\n",
            "Epoch 7/30\n",
            "643/643 [==============================] - 4s 6ms/step - loss: 0.6027 - accuracy: 0.8215 - val_loss: 0.8397 - val_accuracy: 0.7443\n",
            "Epoch 8/30\n",
            "643/643 [==============================] - 3s 5ms/step - loss: 0.5733 - accuracy: 0.8304 - val_loss: 0.8308 - val_accuracy: 0.7503\n",
            "Epoch 9/30\n",
            "643/643 [==============================] - 4s 6ms/step - loss: 0.5481 - accuracy: 0.8363 - val_loss: 0.8183 - val_accuracy: 0.7529\n",
            "Epoch 10/30\n",
            "643/643 [==============================] - 4s 6ms/step - loss: 0.5275 - accuracy: 0.8421 - val_loss: 0.8078 - val_accuracy: 0.7600\n",
            "Epoch 11/30\n",
            "643/643 [==============================] - 3s 5ms/step - loss: 0.5095 - accuracy: 0.8464 - val_loss: 0.7972 - val_accuracy: 0.7625\n",
            "Epoch 12/30\n",
            "643/643 [==============================] - 4s 6ms/step - loss: 0.4937 - accuracy: 0.8505 - val_loss: 0.7914 - val_accuracy: 0.7672\n",
            "Epoch 13/30\n",
            "643/643 [==============================] - 4s 6ms/step - loss: 0.4796 - accuracy: 0.8540 - val_loss: 0.7810 - val_accuracy: 0.7662\n",
            "Epoch 14/30\n",
            "643/643 [==============================] - 5s 8ms/step - loss: 0.4668 - accuracy: 0.8575 - val_loss: 0.7791 - val_accuracy: 0.7698\n",
            "Epoch 15/30\n",
            "643/643 [==============================] - 4s 6ms/step - loss: 0.4552 - accuracy: 0.8612 - val_loss: 0.7750 - val_accuracy: 0.7702\n",
            "Epoch 16/30\n",
            "643/643 [==============================] - 4s 6ms/step - loss: 0.4451 - accuracy: 0.8650 - val_loss: 0.7699 - val_accuracy: 0.7679\n",
            "Epoch 17/30\n",
            "643/643 [==============================] - 4s 6ms/step - loss: 0.4345 - accuracy: 0.8658 - val_loss: 0.7656 - val_accuracy: 0.7718\n",
            "Epoch 18/30\n",
            "643/643 [==============================] - 4s 6ms/step - loss: 0.4261 - accuracy: 0.8696 - val_loss: 0.7627 - val_accuracy: 0.7738\n",
            "Epoch 19/30\n",
            "643/643 [==============================] - 4s 5ms/step - loss: 0.4183 - accuracy: 0.8706 - val_loss: 0.7530 - val_accuracy: 0.7746\n",
            "Epoch 20/30\n",
            "643/643 [==============================] - 4s 6ms/step - loss: 0.4104 - accuracy: 0.8729 - val_loss: 0.7523 - val_accuracy: 0.7763\n",
            "Epoch 21/30\n",
            "643/643 [==============================] - 3s 5ms/step - loss: 0.4036 - accuracy: 0.8737 - val_loss: 0.7439 - val_accuracy: 0.7783\n",
            "Epoch 22/30\n",
            "643/643 [==============================] - 3s 5ms/step - loss: 0.3968 - accuracy: 0.8762 - val_loss: 0.7454 - val_accuracy: 0.7801\n",
            "Epoch 23/30\n",
            "643/643 [==============================] - 3s 5ms/step - loss: 0.3905 - accuracy: 0.8775 - val_loss: 0.7444 - val_accuracy: 0.7796\n",
            "Epoch 24/30\n",
            "643/643 [==============================] - 4s 6ms/step - loss: 0.3848 - accuracy: 0.8801 - val_loss: 0.7352 - val_accuracy: 0.7820\n",
            "Epoch 25/30\n",
            "643/643 [==============================] - 4s 6ms/step - loss: 0.3797 - accuracy: 0.8796 - val_loss: 0.7406 - val_accuracy: 0.7777\n",
            "Epoch 26/30\n",
            "643/643 [==============================] - 4s 6ms/step - loss: 0.3743 - accuracy: 0.8824 - val_loss: 0.7311 - val_accuracy: 0.7841\n",
            "Epoch 27/30\n",
            "643/643 [==============================] - 4s 6ms/step - loss: 0.3698 - accuracy: 0.8829 - val_loss: 0.7326 - val_accuracy: 0.7821\n",
            "Epoch 28/30\n",
            "643/643 [==============================] - 4s 7ms/step - loss: 0.3647 - accuracy: 0.8840 - val_loss: 0.7329 - val_accuracy: 0.7837\n",
            "Epoch 29/30\n",
            "643/643 [==============================] - 4s 6ms/step - loss: 0.3602 - accuracy: 0.8838 - val_loss: 0.7298 - val_accuracy: 0.7857\n",
            "Epoch 30/30\n",
            "643/643 [==============================] - 4s 6ms/step - loss: 0.3563 - accuracy: 0.8850 - val_loss: 0.7303 - val_accuracy: 0.7842\n"
          ]
        }
      ],
      "source": [
        "# fit model\n",
        "history = model.fit(x_train, y_train, validation_data=(x_val, y_val), batch_size = 64, epochs=30)"
      ]
    },
    {
      "cell_type": "code",
      "execution_count": 39,
      "metadata": {
        "id": "jddTN6f7485G",
        "outputId": "1bfd938c-ada8-42c2-99ff-84d22adee977",
        "colab": {
          "base_uri": "https://localhost:8080/",
          "height": 499
        }
      },
      "outputs": [
        {
          "output_type": "display_data",
          "data": {
            "text/plain": [
              "<Figure size 576x576 with 2 Axes>"
            ],
            "image/png": "[encoded data removed]"
          },
          "metadata": {
            "needs_background": "light"
          }
        }
      ],
      "source": [
        "plt.figure(figsize=(8,8))\n",
        "\n",
        "plt.subplot(211)\n",
        "plt.grid(True)\n",
        "plt.title('Loss')\n",
        "plt.plot(history.history['loss'], label='train')\n",
        "plt.plot(history.history['val_loss'], label='val')\n",
        "plt.legend()\n",
        "\n",
        "\n",
        "plt.subplot(212)\n",
        "plt.grid(True)\n",
        "plt.title('Accuracy')\n",
        "plt.plot(history.history['accuracy'], label='train')\n",
        "plt.plot(history.history['val_accuracy'], label='val')\n",
        "plt.legend()\n",
        "\n",
        "plt.show()"
      ]
    },
    {
      "cell_type": "code",
      "execution_count": 40,
      "metadata": {
        "colab": {
          "base_uri": "https://localhost:8080/"
        },
        "id": "9g-5DG6nQ2UP",
        "outputId": "419e824b-fb20-4241-8dd3-a0c739d1ec15"
      },
      "outputs": [
        {
          "output_type": "stream",
          "name": "stdout",
          "text": [
            "852/852 [==============================] - 2s 3ms/step - loss: 0.7303 - accuracy: 0.7842\n"
          ]
        },
        {
          "output_type": "execute_result",
          "data": {
            "text/plain": [
              "[0.7302950024604797, 0.7842130064964294]"
            ]
          },
          "metadata": {},
          "execution_count": 40
        }
      ],
      "source": [
        "model.evaluate(x_val, y_val)"
      ]
    },
    {
      "cell_type": "markdown",
      "metadata": {
        "id": "Jl8xoLex485H"
      },
      "source": [
        "### F1-Macro evaluation"
      ]
    },
    {
      "cell_type": "code",
      "source": [
        "#predictions on the test data\n",
        "y_pred = model.predict(x_test)"
      ],
      "metadata": {
        "id": "XkZN0tH-APph",
        "outputId": "6dd12371-b3a5-4df1-dd1a-ff88a3c77d1d",
        "colab": {
          "base_uri": "https://localhost:8080/"
        }
      },
      "execution_count": 41,
      "outputs": [
        {
          "output_type": "stream",
          "name": "stdout",
          "text": [
            "426/426 [==============================] - 2s 2ms/step\n"
          ]
        }
      ]
    },
    {
      "cell_type": "code",
      "source": [
        "n = np.shape(y_pred)[0]\n",
        "score = [np.argmax(y_pred[x,:]) for x in range(0,n)]"
      ],
      "metadata": {
        "id": "5DHOdn7b5ts2"
      },
      "execution_count": 42,
      "outputs": []
    },
    {
      "cell_type": "code",
      "source": [
        "from sklearn.metrics import f1_score, accuracy_score\n",
        "f1 = f1_score(y_test, score, average ='macro')\n",
        "print(f'F1_score is: {f1}')"
      ],
      "metadata": {
        "colab": {
          "base_uri": "https://localhost:8080/"
        },
        "id": "ZCt1sbjCSFkV",
        "outputId": "36b9ba9e-866f-4cc5-871b-a1bdd5f4dbd6"
      },
      "execution_count": 48,
      "outputs": [
        {
          "output_type": "stream",
          "name": "stdout",
          "text": [
            "F1_score is: 0.7483586341161695\n"
          ]
        }
      ]
    },
    {
      "cell_type": "code",
      "execution_count": 44,
      "metadata": {
        "id": "_VDz0j1g485H",
        "outputId": "2aad715c-2ebb-4716-b28b-9e6cacdbc069",
        "colab": {
          "base_uri": "https://localhost:8080/"
        }
      },
      "outputs": [
        {
          "output_type": "execute_result",
          "data": {
            "text/plain": [
              "(27263,)"
            ]
          },
          "metadata": {},
          "execution_count": 44
        }
      ],
      "source": [
        "y_val.shape"
      ]
    },
    {
      "cell_type": "code",
      "execution_count": 45,
      "metadata": {
        "colab": {
          "base_uri": "https://localhost:8080/"
        },
        "id": "J6QkdLAs485H",
        "outputId": "62b60f3b-8773-4c7c-8455-a4c2386f17c3"
      },
      "outputs": [
        {
          "output_type": "execute_result",
          "data": {
            "text/plain": [
              "(27263, 39)"
            ]
          },
          "metadata": {},
          "execution_count": 45
        }
      ],
      "source": [
        "onehot = OneHotEncoder(sparse=False)\n",
        "onehot.fit(y_train.reshape(-1,1))\n",
        "y_val_onehot = onehot.transform(y_val.reshape(-1,1))\n",
        "y_val_onehot.shape"
      ]
    },
    {
      "cell_type": "code",
      "execution_count": 46,
      "metadata": {
        "colab": {
          "base_uri": "https://localhost:8080/"
        },
        "id": "8vKW-bOX485H",
        "outputId": "816e70fa-6b2f-4428-fd0b-35a90d616ad1"
      },
      "outputs": [
        {
          "output_type": "stream",
          "name": "stdout",
          "text": [
            "852/852 [==============================] - 2s 2ms/step\n"
          ]
        },
        {
          "output_type": "execute_result",
          "data": {
            "text/plain": [
              "(27263, 39)"
            ]
          },
          "metadata": {},
          "execution_count": 46
        }
      ],
      "source": [
        "y_pred_val = model.predict(x_val)\n",
        "y_pred_val.shape"
      ]
    },
    {
      "cell_type": "code",
      "execution_count": 47,
      "metadata": {
        "colab": {
          "base_uri": "https://localhost:8080/"
        },
        "id": "oRJgXWHM485I",
        "outputId": "6d5499e8-4476-4f62-87dc-14f00910af9e"
      },
      "outputs": [
        {
          "output_type": "execute_result",
          "data": {
            "text/plain": [
              "<tf.Tensor: shape=(), dtype=float32, numpy=0.66066504>"
            ]
          },
          "metadata": {},
          "execution_count": 47
        }
      ],
      "source": [
        "# https://www.tensorflow.org/addons/api_docs/python/tfa/metrics/F1Score\n",
        "f1_macro = tfa.metrics.F1Score(average=\"macro\", num_classes=num_classes, threshold=0.5)\n",
        "f1_macro.update_state(y_val_onehot, y_pred_val)\n",
        "f1_macro.result()"
      ]
    },
    {
      "cell_type": "markdown",
      "metadata": {
        "id": "Jjm_29f4i8CG"
      },
      "source": [
        "## Model A: GRU"
      ]
    },
    {
      "cell_type": "markdown",
      "metadata": {
        "id": "hhyr0auV485I"
      },
      "source": [
        "GRU is a simpler alternative to LSTM's architecture, less effective but with a faster train.\n",
        "</br>Two layers architecture: a Bidirectional GRU layer and a Dense/FC layer on top. "
      ]
    },
    {
      "cell_type": "code",
      "execution_count": null,
      "metadata": {
        "id": "53xpFPP4485I",
        "outputId": "8daa8846-c261-40ba-cae4-2484987602e5"
      },
      "outputs": [
        {
          "name": "stdout",
          "output_type": "stream",
          "text": [
            "Model: \"sequential_1\"\n",
            "_________________________________________________________________\n",
            " Layer (type)                Output Shape              Param #   \n",
            "=================================================================\n",
            " embedding_1 (Embedding)     (None, 1, 50)             365300    \n",
            "                                                                 \n",
            " bidirectional_1 (Bidirectio  (None, 64)               16128     \n",
            " nal)                                                            \n",
            "                                                                 \n",
            " dense_1 (Dense)             (None, 39)                2535      \n",
            "                                                                 \n",
            "=================================================================\n",
            "Total params: 383,963\n",
            "Trainable params: 18,663\n",
            "Non-trainable params: 365,300\n",
            "_________________________________________________________________\n"
          ]
        }
      ],
      "source": [
        "from tensorflow.keras.models import Sequential\n",
        "from tensorflow.keras.layers import Embedding, Dense, GRU, Bidirectional\n",
        "\n",
        "gru_model = Sequential()\n",
        "embedding_layer = Embedding(input_dim = vocab_size, \n",
        "                            output_dim = embedding_dimension, \n",
        "                            input_length = 1,\n",
        "                            weights = [embedding_matrix],\n",
        "                            trainable = False)\n",
        "\n",
        "gru_model.add(embedding_layer)\n",
        "gru_model.add(Bidirectional(GRU(32)))\n",
        "gru_model.add(Dense(num_classes, activation='softmax'))\n",
        "\n",
        "gru_model.summary()"
      ]
    },
    {
      "cell_type": "code",
      "execution_count": null,
      "metadata": {
        "id": "KI1FJxVHi8CG"
      },
      "outputs": [],
      "source": [
        "## From Tutorial 2\n",
        "## A simple plot function, could be used in any model to avoid redundancy\n",
        "\n",
        "import matplotlib.pyplot as plt\n",
        "from sklearn.metrics import f1_score, accuracy_score\n",
        "from functools import partial\n",
        "import random\n",
        "from keras.callbacks import History\n",
        "\n",
        "def show_history(history: History):\n",
        "    \"\"\"\n",
        "    Shows training history data stored by the History Keras callback\n",
        "\n",
        "    :param history: History Keras callback\n",
        "    \"\"\"\n",
        "    history_data = history.history\n",
        "    print(f\"Displaying the following history keys: {history_data.keys()}\")\n",
        "\n",
        "    for key, value in history_data.items():\n",
        "        if not key.startswith('val'):\n",
        "            fig, ax = plt.subplots(1, 1)\n",
        "            ax.set_title(key)\n",
        "            ax.plot(value)\n",
        "            if f'val_{key}' in history_data:\n",
        "                ax.plot(history_data[f'val_{key}'])\n",
        "            else:\n",
        "                print(f\"Couldn't find validation values for metric: {key}\")\n",
        "\n",
        "            ax.set_ylabel(key)\n",
        "            ax.set_xlabel('epoch')\n",
        "            ax.legend(['train', 'val'], loc='best')\n",
        "    plt.show()"
      ]
    },
    {
      "cell_type": "code",
      "execution_count": null,
      "metadata": {
        "id": "VAu9X3x0485I"
      },
      "outputs": [],
      "source": [
        "from keras.optimizers import Adam\n",
        "from keras.metrics import SparseCategoricalAccuracy\n",
        "\n",
        "gru_model.compile(optimizer=Adam(learning_rate=1e-3), \n",
        "                loss='sparse_categorical_crossentropy',\n",
        "                metrics=[SparseCategoricalAccuracy()])"
      ]
    },
    {
      "cell_type": "code",
      "execution_count": null,
      "metadata": {
        "id": "hPcXmqzj485J",
        "outputId": "40d0733b-e973-4d0b-bee4-8959d6e8e124"
      },
      "outputs": [
        {
          "name": "stdout",
          "output_type": "stream",
          "text": [
            "Epoch 1/30\n",
            "643/643 [==============================] - 3s 2ms/step - loss: 1.7098 - sparse_categorical_accuracy: 0.5463 - val_loss: 1.2780 - val_sparse_categorical_accuracy: 0.6337\n",
            "Epoch 2/30\n",
            "643/643 [==============================] - 1s 2ms/step - loss: 1.0048 - sparse_categorical_accuracy: 0.7085 - val_loss: 1.1033 - val_sparse_categorical_accuracy: 0.6712\n",
            "Epoch 3/30\n",
            "643/643 [==============================] - 1s 2ms/step - loss: 0.8509 - sparse_categorical_accuracy: 0.7487 - val_loss: 1.0230 - val_sparse_categorical_accuracy: 0.7012\n",
            "Epoch 4/30\n",
            "643/643 [==============================] - 1s 2ms/step - loss: 0.7606 - sparse_categorical_accuracy: 0.7766 - val_loss: 0.9652 - val_sparse_categorical_accuracy: 0.7291\n",
            "Epoch 5/30\n",
            "643/643 [==============================] - 1s 2ms/step - loss: 0.6972 - sparse_categorical_accuracy: 0.7948 - val_loss: 0.9276 - val_sparse_categorical_accuracy: 0.7238\n",
            "Epoch 6/30\n",
            "643/643 [==============================] - 1s 2ms/step - loss: 0.6490 - sparse_categorical_accuracy: 0.8082 - val_loss: 0.9004 - val_sparse_categorical_accuracy: 0.7340\n",
            "Epoch 7/30\n",
            "643/643 [==============================] - 1s 2ms/step - loss: 0.6120 - sparse_categorical_accuracy: 0.8169 - val_loss: 0.8802 - val_sparse_categorical_accuracy: 0.7394\n",
            "Epoch 8/30\n",
            "643/643 [==============================] - 1s 2ms/step - loss: 0.5817 - sparse_categorical_accuracy: 0.8264 - val_loss: 0.8653 - val_sparse_categorical_accuracy: 0.7465\n",
            "Epoch 9/30\n",
            "643/643 [==============================] - 1s 2ms/step - loss: 0.5574 - sparse_categorical_accuracy: 0.8329 - val_loss: 0.8436 - val_sparse_categorical_accuracy: 0.7496\n",
            "Epoch 10/30\n",
            "643/643 [==============================] - 1s 2ms/step - loss: 0.5365 - sparse_categorical_accuracy: 0.8397 - val_loss: 0.8356 - val_sparse_categorical_accuracy: 0.7535\n",
            "Epoch 11/30\n",
            "643/643 [==============================] - 1s 2ms/step - loss: 0.5189 - sparse_categorical_accuracy: 0.8436 - val_loss: 0.8251 - val_sparse_categorical_accuracy: 0.7575\n",
            "Epoch 12/30\n",
            "643/643 [==============================] - 1s 2ms/step - loss: 0.5029 - sparse_categorical_accuracy: 0.8471 - val_loss: 0.8203 - val_sparse_categorical_accuracy: 0.7588\n",
            "Epoch 13/30\n",
            "643/643 [==============================] - 1s 2ms/step - loss: 0.4889 - sparse_categorical_accuracy: 0.8524 - val_loss: 0.8061 - val_sparse_categorical_accuracy: 0.7602\n",
            "Epoch 14/30\n",
            "643/643 [==============================] - 1s 2ms/step - loss: 0.4773 - sparse_categorical_accuracy: 0.8542 - val_loss: 0.8073 - val_sparse_categorical_accuracy: 0.7635\n",
            "Epoch 15/30\n",
            "643/643 [==============================] - 1s 2ms/step - loss: 0.4662 - sparse_categorical_accuracy: 0.8578 - val_loss: 0.7948 - val_sparse_categorical_accuracy: 0.7671\n",
            "Epoch 16/30\n",
            "643/643 [==============================] - 1s 2ms/step - loss: 0.4564 - sparse_categorical_accuracy: 0.8603 - val_loss: 0.7898 - val_sparse_categorical_accuracy: 0.7696\n",
            "Epoch 17/30\n",
            "643/643 [==============================] - 1s 2ms/step - loss: 0.4475 - sparse_categorical_accuracy: 0.8617 - val_loss: 0.7891 - val_sparse_categorical_accuracy: 0.7693\n",
            "Epoch 18/30\n",
            "643/643 [==============================] - 1s 2ms/step - loss: 0.4394 - sparse_categorical_accuracy: 0.8635 - val_loss: 0.7908 - val_sparse_categorical_accuracy: 0.7721\n",
            "Epoch 19/30\n",
            "643/643 [==============================] - 1s 2ms/step - loss: 0.4319 - sparse_categorical_accuracy: 0.8651 - val_loss: 0.7875 - val_sparse_categorical_accuracy: 0.7739\n",
            "Epoch 20/30\n",
            "643/643 [==============================] - 1s 2ms/step - loss: 0.4251 - sparse_categorical_accuracy: 0.8685 - val_loss: 0.7731 - val_sparse_categorical_accuracy: 0.7735\n",
            "Epoch 21/30\n",
            "643/643 [==============================] - 1s 2ms/step - loss: 0.4188 - sparse_categorical_accuracy: 0.8700 - val_loss: 0.7656 - val_sparse_categorical_accuracy: 0.7749\n",
            "Epoch 22/30\n",
            "643/643 [==============================] - 1s 2ms/step - loss: 0.4129 - sparse_categorical_accuracy: 0.8718 - val_loss: 0.7718 - val_sparse_categorical_accuracy: 0.7749\n",
            "Epoch 23/30\n",
            "643/643 [==============================] - 1s 2ms/step - loss: 0.4074 - sparse_categorical_accuracy: 0.8719 - val_loss: 0.7664 - val_sparse_categorical_accuracy: 0.7759\n",
            "Epoch 24/30\n",
            "643/643 [==============================] - 1s 2ms/step - loss: 0.4016 - sparse_categorical_accuracy: 0.8750 - val_loss: 0.7651 - val_sparse_categorical_accuracy: 0.7773\n",
            "Epoch 25/30\n",
            "643/643 [==============================] - 1s 2ms/step - loss: 0.3966 - sparse_categorical_accuracy: 0.8745 - val_loss: 0.7587 - val_sparse_categorical_accuracy: 0.7781\n",
            "Epoch 26/30\n",
            "643/643 [==============================] - 1s 2ms/step - loss: 0.3923 - sparse_categorical_accuracy: 0.8761 - val_loss: 0.7554 - val_sparse_categorical_accuracy: 0.7768\n",
            "Epoch 27/30\n",
            "643/643 [==============================] - 1s 2ms/step - loss: 0.3875 - sparse_categorical_accuracy: 0.8773 - val_loss: 0.7600 - val_sparse_categorical_accuracy: 0.7779\n",
            "Epoch 28/30\n",
            "643/643 [==============================] - 1s 2ms/step - loss: 0.3835 - sparse_categorical_accuracy: 0.8792 - val_loss: 0.7616 - val_sparse_categorical_accuracy: 0.7781\n",
            "Epoch 29/30\n",
            "643/643 [==============================] - 1s 2ms/step - loss: 0.3791 - sparse_categorical_accuracy: 0.8792 - val_loss: 0.7576 - val_sparse_categorical_accuracy: 0.7774\n",
            "Epoch 30/30\n",
            "643/643 [==============================] - 1s 2ms/step - loss: 0.3755 - sparse_categorical_accuracy: 0.8808 - val_loss: 0.7482 - val_sparse_categorical_accuracy: 0.7804\n"
          ]
        }
      ],
      "source": [
        "history = gru_model.fit(x=x_train, y=y_train, \n",
        "                        validation_data=(x_val,y_val),\n",
        "                        verbose=1,\n",
        "                        epochs=30,\n",
        "                        batch_size=64)"
      ]
    },
    {
      "cell_type": "code",
      "execution_count": null,
      "metadata": {
        "id": "36jVj6BC485J",
        "outputId": "ac9506a1-fbee-4e4f-80ea-878b9a991fe9"
      },
      "outputs": [
        {
          "name": "stdout",
          "output_type": "stream",
          "text": [
            "Displaying the following history keys: dict_keys(['loss', 'sparse_categorical_accuracy', 'val_loss', 'val_sparse_categorical_accuracy'])\n"
          ]
        },
        {
          "data": {
            "image/png": "[encoded data removed]",
            "text/plain": [
              "<Figure size 640x480 with 1 Axes>"
            ]
          },
          "metadata": {},
          "output_type": "display_data"
        },
        {
          "data": {
            "image/png": "[encoded data removed]",
            "text/plain": [
              "<Figure size 640x480 with 1 Axes>"
            ]
          },
          "metadata": {},
          "output_type": "display_data"
        }
      ],
      "source": [
        "show_history(history)"
      ]
    },
    {
      "cell_type": "markdown",
      "metadata": {
        "id": "6bM9ZWFAi8CG"
      },
      "source": [
        "## Model B: 2x LSTM "
      ]
    },
    {
      "cell_type": "code",
      "execution_count": null,
      "metadata": {
        "id": "hVqg81vai8CG"
      },
      "outputs": [],
      "source": []
    },
    {
      "cell_type": "markdown",
      "metadata": {
        "id": "5hgT909Mi8CG"
      },
      "source": [
        "## Model C: LSTM + Dense"
      ]
    },
    {
      "cell_type": "code",
      "execution_count": null,
      "metadata": {
        "id": "5P-NSPmwi8CG"
      },
      "outputs": [],
      "source": []
    },
    {
      "cell_type": "markdown",
      "metadata": {
        "id": "tTwH3Iz5i8CG"
      },
      "source": [
        "## Conclusions"
      ]
    },
    {
      "cell_type": "code",
      "execution_count": null,
      "metadata": {
        "id": "g8vray3yi8CH"
      },
      "outputs": [],
      "source": []
    }
  ],
  "metadata": {
    "colab": {
      "provenance": [],
      "include_colab_link": true
    },
    "kernelspec": {
      "display_name": "Python 3.10.6 ('nlp')",
      "language": "python",
      "name": "python3"
    },
    "language_info": {
      "codemirror_mode": {
        "name": "ipython",
        "version": 3
      },
      "file_extension": ".py",
      "mimetype": "text/x-python",
      "name": "python",
      "nbconvert_exporter": "python",
      "pygments_lexer": "ipython3",
      "version": "3.10.6"
    },
    "orig_nbformat": 4,
    "vscode": {
      "interpreter": {
        "hash": "ac2097c9956c71ece6513891a44ec379870da936d752186d897fe65816a9e153"
      }
    }
  },
  "nbformat": 4,
  "nbformat_minor": 0
}