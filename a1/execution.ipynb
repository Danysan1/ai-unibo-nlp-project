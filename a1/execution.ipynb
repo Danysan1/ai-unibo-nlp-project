{
  "cells": [
    {
      "cell_type": "markdown",
      "metadata": {
        "id": "iKel9Y42484v"
      },
      "source": [
        "<a href=\"https://colab.research.google.com/github/Danysan1/ai-unibo-nlp-project/blob/main/a1/execution.ipynb\" target=\"_parent\"><img src=\"https://colab.research.google.com/assets/colab-badge.svg\" alt=\"Open In Colab\"/></a>"
      ]
    },
    {
      "cell_type": "markdown",
      "metadata": {
        "id": "TzCABY1Qi8Bv"
      },
      "source": [
        "# Assigment 1 execution"
      ]
    },
    {
      "cell_type": "markdown",
      "metadata": {
        "id": "kNE248Nhi8B0"
      },
      "source": [
        "Corpora: https://www.nltk.org/nltk_data/ , point 91, \"Dependency Parsed Treebank\" ([link](https://raw.githubusercontent.com/nltk/nltk_data/gh-pages/packages/corpora/dependency_treebank.zip)).\n",
        "\n",
        "Docs:\n",
        "* https://www.nltk.org/api/nltk.corpus.html\n",
        "* https://www.nltk.org/data.html\n",
        "* https://www.nltk.org/install.html\n",
        "\n",
        "## Preparing the environment"
      ]
    },
    {
      "cell_type": "code",
      "execution_count": 1,
      "metadata": {
        "colab": {
          "base_uri": "https://localhost:8080/"
        },
        "id": "SJOEUxxoi8B1",
        "outputId": "78338226-ac0e-4f6a-8cd0-4348917413cd"
      },
      "outputs": [
        {
          "name": "stdout",
          "output_type": "stream",
          "text": [
            "Looking in indexes: https://pypi.org/simple, https://pypi.ngc.nvidia.com\n",
            "Requirement already satisfied: pandas in /home/daniele/.miniconda3/envs/tf/lib/python3.9/site-packages (1.5.0)\n",
            "Requirement already satisfied: numpy in /home/daniele/.miniconda3/envs/tf/lib/python3.9/site-packages (1.23.3)\n",
            "Requirement already satisfied: matplotlib in /home/daniele/.miniconda3/envs/tf/lib/python3.9/site-packages (3.5.3)\n",
            "Requirement already satisfied: gensim==4.2.0 in /home/daniele/.miniconda3/envs/tf/lib/python3.9/site-packages (4.2.0)\n",
            "Requirement already satisfied: tensorflow-addons in /home/daniele/.miniconda3/envs/tf/lib/python3.9/site-packages (0.18.0)\n",
            "Requirement already satisfied: pydot in /home/daniele/.miniconda3/envs/tf/lib/python3.9/site-packages (1.4.2)\n",
            "Requirement already satisfied: scipy>=0.18.1 in /home/daniele/.miniconda3/envs/tf/lib/python3.9/site-packages (from gensim==4.2.0) (1.9.1)\n",
            "Requirement already satisfied: smart-open>=1.8.1 in /home/daniele/.miniconda3/envs/tf/lib/python3.9/site-packages (from gensim==4.2.0) (6.2.0)\n",
            "Requirement already satisfied: pytz>=2020.1 in /home/daniele/.miniconda3/envs/tf/lib/python3.9/site-packages (from pandas) (2022.2.1)\n",
            "Requirement already satisfied: python-dateutil>=2.8.1 in /home/daniele/.miniconda3/envs/tf/lib/python3.9/site-packages (from pandas) (2.8.2)\n",
            "Requirement already satisfied: cycler>=0.10 in /home/daniele/.miniconda3/envs/tf/lib/python3.9/site-packages (from matplotlib) (0.11.0)\n",
            "Requirement already satisfied: pillow>=6.2.0 in /home/daniele/.miniconda3/envs/tf/lib/python3.9/site-packages (from matplotlib) (9.2.0)\n",
            "Requirement already satisfied: kiwisolver>=1.0.1 in /home/daniele/.miniconda3/envs/tf/lib/python3.9/site-packages (from matplotlib) (1.4.4)\n",
            "Requirement already satisfied: packaging>=20.0 in /home/daniele/.miniconda3/envs/tf/lib/python3.9/site-packages (from matplotlib) (21.3)\n",
            "Requirement already satisfied: fonttools>=4.22.0 in /home/daniele/.miniconda3/envs/tf/lib/python3.9/site-packages (from matplotlib) (4.37.1)\n",
            "Requirement already satisfied: pyparsing>=2.2.1 in /home/daniele/.miniconda3/envs/tf/lib/python3.9/site-packages (from matplotlib) (3.0.9)\n",
            "Requirement already satisfied: typeguard>=2.7 in /home/daniele/.miniconda3/envs/tf/lib/python3.9/site-packages (from tensorflow-addons) (2.13.3)\n",
            "Requirement already satisfied: six>=1.5 in /home/daniele/.miniconda3/envs/tf/lib/python3.9/site-packages (from python-dateutil>=2.8.1->pandas) (1.16.0)\n",
            "Note: you may need to restart the kernel to use updated packages.\n"
          ]
        }
      ],
      "source": [
        "%pip install pandas numpy matplotlib gensim==4.2.0 tensorflow-addons pydot"
      ]
    },
    {
      "cell_type": "code",
      "execution_count": 2,
      "metadata": {
        "id": "KqnHhB8yGptZ"
      },
      "outputs": [
        {
          "name": "stderr",
          "output_type": "stream",
          "text": [
            "2023-01-06 14:22:31.522139: I tensorflow/core/platform/cpu_feature_guard.cc:193] This TensorFlow binary is optimized with oneAPI Deep Neural Network Library (oneDNN) to use the following CPU instructions in performance-critical operations:  AVX2 FMA\n",
            "To enable them in other operations, rebuild TensorFlow with the appropriate compiler flags.\n",
            "2023-01-06 14:22:31.761424: W tensorflow/stream_executor/platform/default/dso_loader.cc:64] Could not load dynamic library 'libcudart.so.11.0'; dlerror: libcudart.so.11.0: cannot open shared object file: No such file or directory\n",
            "2023-01-06 14:22:31.761524: I tensorflow/stream_executor/cuda/cudart_stub.cc:29] Ignore above cudart dlerror if you do not have a GPU set up on your machine.\n",
            "2023-01-06 14:22:31.805409: E tensorflow/stream_executor/cuda/cuda_blas.cc:2981] Unable to register cuBLAS factory: Attempting to register factory for plugin cuBLAS when one has already been registered\n",
            "2023-01-06 14:22:32.522290: W tensorflow/stream_executor/platform/default/dso_loader.cc:64] Could not load dynamic library 'libnvinfer.so.7'; dlerror: libnvinfer.so.7: cannot open shared object file: No such file or directory\n",
            "2023-01-06 14:22:32.522406: W tensorflow/stream_executor/platform/default/dso_loader.cc:64] Could not load dynamic library 'libnvinfer_plugin.so.7'; dlerror: libnvinfer_plugin.so.7: cannot open shared object file: No such file or directory\n",
            "2023-01-06 14:22:32.522417: W tensorflow/compiler/tf2tensorrt/utils/py_utils.cc:38] TF-TRT Warning: Cannot dlopen some TensorRT libraries. If you would like to use Nvidia GPU with TensorRT, please make sure the missing libraries mentioned above are installed properly.\n"
          ]
        }
      ],
      "source": [
        "import os, shutil  #  file management\n",
        "import sys \n",
        "import pandas as pd  #  dataframe management\n",
        "import numpy as np  #  data manipulation\n",
        "import re\n",
        "import urllib.request  # download files\n",
        "from zipfile import ZipFile # extract files\n",
        "from matplotlib import pyplot as plt\n",
        "import tensorflow_addons as tfa\n",
        "from sklearn.metrics import f1_score\n",
        "import keras"
      ]
    },
    {
      "cell_type": "markdown",
      "metadata": {
        "id": "glhEVNdNi8B4"
      },
      "source": [
        "## Downloading the dataset"
      ]
    },
    {
      "cell_type": "code",
      "execution_count": 3,
      "metadata": {
        "id": "8rcR7hfpi8B4"
      },
      "outputs": [],
      "source": [
        "#from nltk import download\n",
        "#download()"
      ]
    },
    {
      "cell_type": "code",
      "execution_count": 4,
      "metadata": {
        "colab": {
          "base_uri": "https://localhost:8080/"
        },
        "id": "gMVaf67mGtVe",
        "outputId": "135f2f65-6306-4500-9cfc-790b8a5ab613"
      },
      "outputs": [
        {
          "name": "stdout",
          "output_type": "stream",
          "text": [
            "Successful extraction\n"
          ]
        }
      ],
      "source": [
        "dataset_folder = os.path.join(os.getcwd(), \"Dataset\")\n",
        "\n",
        "if not os.path.exists(dataset_folder):\n",
        "    os.makedirs(dataset_folder)\n",
        "\n",
        "url = 'https://raw.githubusercontent.com/nltk/nltk_data/gh-pages/packages/corpora/dependency_treebank.zip'\n",
        "\n",
        "dataset_path = os.path.join(dataset_folder, \"dependency_treebank.zip\")\n",
        "\n",
        "if not os.path.exists(dataset_path):\n",
        "    urllib.request.urlretrieve(url, dataset_path)\n",
        "    print(\"Successful download\")\n",
        "    \n",
        "with ZipFile(dataset_path, 'r') as zObject:\n",
        "  # Extracting all the members of the zip  into a specific location.\n",
        "  zObject.extractall(dataset_folder)\n",
        "  print(\"Successful extraction\")"
      ]
    },
    {
      "cell_type": "markdown",
      "metadata": {
        "id": "6YF4FVoUi8B7"
      },
      "source": [
        "## Loading the data"
      ]
    },
    {
      "cell_type": "code",
      "execution_count": 5,
      "metadata": {
        "id": "wNHOCIU0i8B8"
      },
      "outputs": [],
      "source": [
        "#from nltk.corpus import dependency_treebank\n",
        "#from nltk.data import load\n",
        "#dependency_treebank_test = load(\"nltk:\") \n",
        "#sentences = dependency_treebank.sents()\n",
        "#words = dependency_treebank.words()"
      ]
    },
    {
      "cell_type": "code",
      "execution_count": 6,
      "metadata": {
        "id": "brq6f0-oi8B9"
      },
      "outputs": [],
      "source": [
        "def loadCorpus(start:int, stop:int=None):\n",
        "    '''\n",
        "    Loads the data for the specified file range.\n",
        "    \n",
        "    Removes the third column 'num', which is not necessary for this task.\n",
        "\n",
        "    Parameters:\n",
        "        start: start of numeric range of files (inclusive)\n",
        "        stop: end of numeric range of files (exclusive)\n",
        "    '''\n",
        "    dataset_name = \"dependency_treebank\"\n",
        "    folder = os.path.join(os.getcwd(), \"Dataset\", dataset_name)\n",
        "\n",
        "    if stop==None:\n",
        "        stop = start+1\n",
        "    \n",
        "    return pd.concat([\n",
        "        pd.read_csv(\n",
        "            f'{folder}/wsj_{\"{:04d}\".format(num)}.dp',\n",
        "            sep=\"\\t\",\n",
        "            usecols=[0,1],\n",
        "            names=[\"word\",\"label\"]\n",
        "        ) for num in range(start, stop)\n",
        "    ])"
      ]
    },
    {
      "cell_type": "code",
      "execution_count": 7,
      "metadata": {
        "id": "MHjTm5HOi8B-"
      },
      "outputs": [],
      "source": [
        "full_dataset = loadCorpus(1,200)"
      ]
    },
    {
      "cell_type": "markdown",
      "metadata": {
        "id": "xVtgdAgwi8B-"
      },
      "source": [
        "## Exploratory Data Analysis"
      ]
    },
    {
      "cell_type": "code",
      "execution_count": 8,
      "metadata": {
        "colab": {
          "base_uri": "https://localhost:8080/"
        },
        "id": "Ih48IOpti8B_",
        "outputId": "31f15dcf-77a5-4a96-889d-6d4fccd2e3ee"
      },
      "outputs": [
        {
          "data": {
            "text/plain": [
              "word     94084\n",
              "label    94084\n",
              "dtype: int64"
            ]
          },
          "execution_count": 8,
          "metadata": {},
          "output_type": "execute_result"
        }
      ],
      "source": [
        "full_dataset.count()"
      ]
    },
    {
      "cell_type": "code",
      "execution_count": 9,
      "metadata": {
        "colab": {
          "base_uri": "https://localhost:8080/",
          "height": 677
        },
        "id": "uzKTmaB0i8CA",
        "outputId": "ecc85097-bf20-405c-fecb-2c3f45257455"
      },
      "outputs": [
        {
          "data": {
            "text/html": [
              "<div>\n",
              "<style scoped>\n",
              "    .dataframe tbody tr th:only-of-type {\n",
              "        vertical-align: middle;\n",
              "    }\n",
              "\n",
              "    .dataframe tbody tr th {\n",
              "        vertical-align: top;\n",
              "    }\n",
              "\n",
              "    .dataframe thead th {\n",
              "        text-align: right;\n",
              "    }\n",
              "</style>\n",
              "<table border=\"1\" class=\"dataframe\">\n",
              "  <thead>\n",
              "    <tr style=\"text-align: right;\">\n",
              "      <th></th>\n",
              "      <th>word</th>\n",
              "      <th>label</th>\n",
              "    </tr>\n",
              "  </thead>\n",
              "  <tbody>\n",
              "    <tr>\n",
              "      <th>0</th>\n",
              "      <td>Pierre</td>\n",
              "      <td>NNP</td>\n",
              "    </tr>\n",
              "    <tr>\n",
              "      <th>1</th>\n",
              "      <td>Vinken</td>\n",
              "      <td>NNP</td>\n",
              "    </tr>\n",
              "    <tr>\n",
              "      <th>2</th>\n",
              "      <td>,</td>\n",
              "      <td>,</td>\n",
              "    </tr>\n",
              "    <tr>\n",
              "      <th>3</th>\n",
              "      <td>61</td>\n",
              "      <td>CD</td>\n",
              "    </tr>\n",
              "    <tr>\n",
              "      <th>4</th>\n",
              "      <td>years</td>\n",
              "      <td>NNS</td>\n",
              "    </tr>\n",
              "    <tr>\n",
              "      <th>5</th>\n",
              "      <td>old</td>\n",
              "      <td>JJ</td>\n",
              "    </tr>\n",
              "    <tr>\n",
              "      <th>6</th>\n",
              "      <td>,</td>\n",
              "      <td>,</td>\n",
              "    </tr>\n",
              "    <tr>\n",
              "      <th>7</th>\n",
              "      <td>will</td>\n",
              "      <td>MD</td>\n",
              "    </tr>\n",
              "    <tr>\n",
              "      <th>8</th>\n",
              "      <td>join</td>\n",
              "      <td>VB</td>\n",
              "    </tr>\n",
              "    <tr>\n",
              "      <th>9</th>\n",
              "      <td>the</td>\n",
              "      <td>DT</td>\n",
              "    </tr>\n",
              "    <tr>\n",
              "      <th>10</th>\n",
              "      <td>board</td>\n",
              "      <td>NN</td>\n",
              "    </tr>\n",
              "    <tr>\n",
              "      <th>11</th>\n",
              "      <td>as</td>\n",
              "      <td>IN</td>\n",
              "    </tr>\n",
              "    <tr>\n",
              "      <th>12</th>\n",
              "      <td>a</td>\n",
              "      <td>DT</td>\n",
              "    </tr>\n",
              "    <tr>\n",
              "      <th>13</th>\n",
              "      <td>nonexecutive</td>\n",
              "      <td>JJ</td>\n",
              "    </tr>\n",
              "    <tr>\n",
              "      <th>14</th>\n",
              "      <td>director</td>\n",
              "      <td>NN</td>\n",
              "    </tr>\n",
              "    <tr>\n",
              "      <th>15</th>\n",
              "      <td>Nov.</td>\n",
              "      <td>NNP</td>\n",
              "    </tr>\n",
              "    <tr>\n",
              "      <th>16</th>\n",
              "      <td>29</td>\n",
              "      <td>CD</td>\n",
              "    </tr>\n",
              "    <tr>\n",
              "      <th>17</th>\n",
              "      <td>.</td>\n",
              "      <td>.</td>\n",
              "    </tr>\n",
              "    <tr>\n",
              "      <th>18</th>\n",
              "      <td>Mr.</td>\n",
              "      <td>NNP</td>\n",
              "    </tr>\n",
              "    <tr>\n",
              "      <th>19</th>\n",
              "      <td>Vinken</td>\n",
              "      <td>NNP</td>\n",
              "    </tr>\n",
              "  </tbody>\n",
              "</table>\n",
              "</div>"
            ],
            "text/plain": [
              "            word label\n",
              "0         Pierre   NNP\n",
              "1         Vinken   NNP\n",
              "2              ,     ,\n",
              "3             61    CD\n",
              "4          years   NNS\n",
              "5            old    JJ\n",
              "6              ,     ,\n",
              "7           will    MD\n",
              "8           join    VB\n",
              "9            the    DT\n",
              "10         board    NN\n",
              "11            as    IN\n",
              "12             a    DT\n",
              "13  nonexecutive    JJ\n",
              "14      director    NN\n",
              "15          Nov.   NNP\n",
              "16            29    CD\n",
              "17             .     .\n",
              "18           Mr.   NNP\n",
              "19        Vinken   NNP"
            ]
          },
          "execution_count": 9,
          "metadata": {},
          "output_type": "execute_result"
        }
      ],
      "source": [
        "full_dataset.head(20)"
      ]
    },
    {
      "cell_type": "markdown",
      "metadata": {
        "id": "ZjqrPfy4i8CB"
      },
      "source": [
        "Each document contains a different tokenized article:"
      ]
    },
    {
      "cell_type": "code",
      "execution_count": 10,
      "metadata": {
        "colab": {
          "base_uri": "https://localhost:8080/",
          "height": 35
        },
        "id": "EE9Qv0tUi8CB",
        "outputId": "e30aff6e-1232-4e2b-ffd9-13f16266d021"
      },
      "outputs": [
        {
          "data": {
            "text/plain": [
              "'Pierre Vinken , 61 years old , will join the board as a nonexecutive director Nov. 29 . Mr. Vinken is chairman of Elsevier N.V. , the Dutch publishing group .'"
            ]
          },
          "execution_count": 10,
          "metadata": {},
          "output_type": "execute_result"
        }
      ],
      "source": [
        "sample_article = loadCorpus(1)\n",
        "\" \".join(sample_article[\"word\"])"
      ]
    },
    {
      "cell_type": "code",
      "execution_count": 11,
      "metadata": {
        "colab": {
          "base_uri": "https://localhost:8080/",
          "height": 35
        },
        "id": "sDIadSSJi8CB",
        "outputId": "abe1afe2-912b-48f6-e739-3e0ee2f0209f"
      },
      "outputs": [
        {
          "data": {
            "text/plain": [
              "'Rudolph Agnew , 55 years old and former chairman of Consolidated Gold Fields PLC , was named a nonexecutive director of this British industrial conglomerate .'"
            ]
          },
          "execution_count": 11,
          "metadata": {},
          "output_type": "execute_result"
        }
      ],
      "source": [
        "\" \".join(loadCorpus(2)[\"word\"])"
      ]
    },
    {
      "cell_type": "code",
      "execution_count": 12,
      "metadata": {
        "colab": {
          "base_uri": "https://localhost:8080/",
          "height": 336
        },
        "id": "dcAVyveni8CC",
        "outputId": "7883d74b-6522-4e1d-96ad-202d4aa632c5"
      },
      "outputs": [
        {
          "data": {
            "image/png": "[encoded data removed]",
            "text/plain": [
              "<Figure size 1500x500 with 1 Axes>"
            ]
          },
          "metadata": {},
          "output_type": "display_data"
        }
      ],
      "source": [
        "fig=plt.figure(figsize=(15,5))\n",
        "p = plt.hist(full_dataset[\"label\"])\n",
        "plt.xticks(rotation=45)\n",
        "plt.show()"
      ]
    },
    {
      "cell_type": "code",
      "execution_count": 13,
      "metadata": {
        "colab": {
          "base_uri": "https://localhost:8080/",
          "height": 306
        },
        "id": "K9XyBPIQi8CC",
        "outputId": "634bd8a0-9f73-4984-fde7-b681f6948b85"
      },
      "outputs": [
        {
          "data": {
            "image/png": "[encoded data removed]",
            "text/plain": [
              "<Figure size 1500x500 with 1 Axes>"
            ]
          },
          "metadata": {},
          "output_type": "display_data"
        }
      ],
      "source": [
        "fig=plt.figure(figsize=(15,5))\n",
        "p = plt.plot(full_dataset[\"word\"].value_counts())\n",
        "plt.xticks([])\n",
        "plt.show()"
      ]
    },
    {
      "cell_type": "markdown",
      "metadata": {
        "id": "MzyI2Wufi8CD"
      },
      "source": [
        "## Data splitting\n",
        "\n",
        "\n",
        "\n"
      ]
    },
    {
      "cell_type": "markdown",
      "metadata": {
        "id": "Nep1haoQkIO0"
      },
      "source": [
        "Creation of train, validation and test sets."
      ]
    },
    {
      "cell_type": "code",
      "execution_count": 14,
      "metadata": {
        "colab": {
          "base_uri": "https://localhost:8080/"
        },
        "id": "kOG5wns9X011",
        "outputId": "1119764b-c5c7-4684-e270-bce6405fcac1"
      },
      "outputs": [
        {
          "data": {
            "text/plain": [
              "word     47356\n",
              "label    47356\n",
              "dtype: int64"
            ]
          },
          "execution_count": 14,
          "metadata": {},
          "output_type": "execute_result"
        }
      ],
      "source": [
        "df_train = loadCorpus(1,101) \n",
        "df_val = loadCorpus(101,151)\n",
        "df_test = loadCorpus(151,200)\n",
        "\n",
        "df_train.count()"
      ]
    },
    {
      "cell_type": "code",
      "execution_count": 15,
      "metadata": {
        "colab": {
          "base_uri": "https://localhost:8080/"
        },
        "id": "Th6dXqh94849",
        "outputId": "78c56393-e102-4238-dbc2-acb0b8d22b07"
      },
      "outputs": [
        {
          "data": {
            "text/plain": [
              "word     31183\n",
              "label    31183\n",
              "dtype: int64"
            ]
          },
          "execution_count": 15,
          "metadata": {},
          "output_type": "execute_result"
        }
      ],
      "source": [
        "df_val.count()"
      ]
    },
    {
      "cell_type": "code",
      "execution_count": 16,
      "metadata": {
        "colab": {
          "base_uri": "https://localhost:8080/"
        },
        "id": "Hj_BdDsA4849",
        "outputId": "bff6ccb2-fdb4-49ac-95ec-7f10b1d8a590"
      },
      "outputs": [
        {
          "data": {
            "text/plain": [
              "word     15545\n",
              "label    15545\n",
              "dtype: int64"
            ]
          },
          "execution_count": 16,
          "metadata": {},
          "output_type": "execute_result"
        }
      ],
      "source": [
        "df_test.count()"
      ]
    },
    {
      "cell_type": "markdown",
      "metadata": {
        "id": "XJrGcYbJ4849"
      },
      "source": [
        "## Data pre-processing"
      ]
    },
    {
      "cell_type": "markdown",
      "metadata": {
        "id": "vjPNQ9ilk7X_"
      },
      "source": [
        "Clean the data."
      ]
    },
    {
      "cell_type": "code",
      "execution_count": 17,
      "metadata": {
        "id": "4T_aIaLxk4Xp"
      },
      "outputs": [],
      "source": [
        "# Filter out punctuation based on the class\n",
        "punctuation_classes = [ # https://universaldependencies.org/docs/en/pos/all.html#al-en-pos/PUNCT\n",
        "    \"``\", \"’’\", \"-LRB-\", \"-RRB-\", \",\", \".\", \":\", \"HYPH\", # PUNCT: punctuation\n",
        "    \"#\", \"$\", \"SYM\", # SYM: symbol\n",
        "    \"''\", # Custom\n",
        "]\n",
        "def cleanCorpus(corpus):\n",
        "    # # Filter out punctuation based on the word\n",
        "    # corpus[\"word\"] = [re.sub(r'[^\\w]', '', word) for word in corpus[\"word\"]]\n",
        "    # corpus = corpus[corpus[\"word\"] != \"\"]\n",
        "    #corpus = corpus[~corpus[\"label\"].isin(punctuation_classes)]\n",
        "    \n",
        "    corpus['word'] = corpus['word'].str.lower()\n",
        "    return corpus"
      ]
    },
    {
      "cell_type": "code",
      "execution_count": 18,
      "metadata": {
        "colab": {
          "base_uri": "https://localhost:8080/",
          "height": 336
        },
        "id": "DzhR6r5HOw5x",
        "outputId": "8e7bd00e-2543-487a-ee69-10ba9daccce9"
      },
      "outputs": [
        {
          "data": {
            "image/png": "[encoded data removed]",
            "text/plain": [
              "<Figure size 1500x500 with 1 Axes>"
            ]
          },
          "metadata": {},
          "output_type": "display_data"
        }
      ],
      "source": [
        "fig=plt.figure(figsize=(15,5))\n",
        "p = plt.hist(cleanCorpus(full_dataset)[\"label\"])\n",
        "plt.xticks(rotation=45)\n",
        "plt.show()"
      ]
    },
    {
      "cell_type": "code",
      "execution_count": 19,
      "metadata": {
        "colab": {
          "base_uri": "https://localhost:8080/"
        },
        "id": "lV6x05Lu26ym",
        "outputId": "c83e7795-7a17-4d6b-c589-0979cd06deb3"
      },
      "outputs": [
        {
          "data": {
            "text/plain": [
              "word     47356\n",
              "label    47356\n",
              "dtype: int64"
            ]
          },
          "execution_count": 19,
          "metadata": {},
          "output_type": "execute_result"
        }
      ],
      "source": [
        "#cleaned dataframes\n",
        "dfc_train = cleanCorpus(df_train)\n",
        "dfc_val = cleanCorpus(df_val)\n",
        "dfc_test = cleanCorpus(df_test)\n",
        "dfc_sample = cleanCorpus(sample_article)\n",
        "\n",
        "dfc_train.count()"
      ]
    },
    {
      "cell_type": "code",
      "execution_count": 20,
      "metadata": {
        "colab": {
          "base_uri": "https://localhost:8080/"
        },
        "id": "6Y4lYHXy484-",
        "outputId": "6580055b-eae3-444d-c4be-33b7024fa13d"
      },
      "outputs": [
        {
          "data": {
            "text/plain": [
              "word     31183\n",
              "label    31183\n",
              "dtype: int64"
            ]
          },
          "execution_count": 20,
          "metadata": {},
          "output_type": "execute_result"
        }
      ],
      "source": [
        "dfc_val.count()"
      ]
    },
    {
      "cell_type": "code",
      "execution_count": 21,
      "metadata": {
        "colab": {
          "base_uri": "https://localhost:8080/"
        },
        "id": "JfjU5ZVo484-",
        "outputId": "43ab1787-cb48-4168-e2d4-562f57192aef"
      },
      "outputs": [
        {
          "data": {
            "text/plain": [
              "word     15545\n",
              "label    15545\n",
              "dtype: int64"
            ]
          },
          "execution_count": 21,
          "metadata": {},
          "output_type": "execute_result"
        }
      ],
      "source": [
        "dfc_test.count()"
      ]
    },
    {
      "cell_type": "code",
      "execution_count": 22,
      "metadata": {
        "colab": {
          "base_uri": "https://localhost:8080/",
          "height": 677
        },
        "id": "R4fHZaScmPoU",
        "outputId": "cc5a3826-28fb-48aa-efed-9084cd836bad"
      },
      "outputs": [
        {
          "data": {
            "text/html": [
              "<div>\n",
              "<style scoped>\n",
              "    .dataframe tbody tr th:only-of-type {\n",
              "        vertical-align: middle;\n",
              "    }\n",
              "\n",
              "    .dataframe tbody tr th {\n",
              "        vertical-align: top;\n",
              "    }\n",
              "\n",
              "    .dataframe thead th {\n",
              "        text-align: right;\n",
              "    }\n",
              "</style>\n",
              "<table border=\"1\" class=\"dataframe\">\n",
              "  <thead>\n",
              "    <tr style=\"text-align: right;\">\n",
              "      <th></th>\n",
              "      <th>word</th>\n",
              "      <th>label</th>\n",
              "    </tr>\n",
              "  </thead>\n",
              "  <tbody>\n",
              "    <tr>\n",
              "      <th>0</th>\n",
              "      <td>pierre</td>\n",
              "      <td>NNP</td>\n",
              "    </tr>\n",
              "    <tr>\n",
              "      <th>1</th>\n",
              "      <td>vinken</td>\n",
              "      <td>NNP</td>\n",
              "    </tr>\n",
              "    <tr>\n",
              "      <th>2</th>\n",
              "      <td>,</td>\n",
              "      <td>,</td>\n",
              "    </tr>\n",
              "    <tr>\n",
              "      <th>3</th>\n",
              "      <td>61</td>\n",
              "      <td>CD</td>\n",
              "    </tr>\n",
              "    <tr>\n",
              "      <th>4</th>\n",
              "      <td>years</td>\n",
              "      <td>NNS</td>\n",
              "    </tr>\n",
              "    <tr>\n",
              "      <th>5</th>\n",
              "      <td>old</td>\n",
              "      <td>JJ</td>\n",
              "    </tr>\n",
              "    <tr>\n",
              "      <th>6</th>\n",
              "      <td>,</td>\n",
              "      <td>,</td>\n",
              "    </tr>\n",
              "    <tr>\n",
              "      <th>7</th>\n",
              "      <td>will</td>\n",
              "      <td>MD</td>\n",
              "    </tr>\n",
              "    <tr>\n",
              "      <th>8</th>\n",
              "      <td>join</td>\n",
              "      <td>VB</td>\n",
              "    </tr>\n",
              "    <tr>\n",
              "      <th>9</th>\n",
              "      <td>the</td>\n",
              "      <td>DT</td>\n",
              "    </tr>\n",
              "    <tr>\n",
              "      <th>10</th>\n",
              "      <td>board</td>\n",
              "      <td>NN</td>\n",
              "    </tr>\n",
              "    <tr>\n",
              "      <th>11</th>\n",
              "      <td>as</td>\n",
              "      <td>IN</td>\n",
              "    </tr>\n",
              "    <tr>\n",
              "      <th>12</th>\n",
              "      <td>a</td>\n",
              "      <td>DT</td>\n",
              "    </tr>\n",
              "    <tr>\n",
              "      <th>13</th>\n",
              "      <td>nonexecutive</td>\n",
              "      <td>JJ</td>\n",
              "    </tr>\n",
              "    <tr>\n",
              "      <th>14</th>\n",
              "      <td>director</td>\n",
              "      <td>NN</td>\n",
              "    </tr>\n",
              "    <tr>\n",
              "      <th>15</th>\n",
              "      <td>nov.</td>\n",
              "      <td>NNP</td>\n",
              "    </tr>\n",
              "    <tr>\n",
              "      <th>16</th>\n",
              "      <td>29</td>\n",
              "      <td>CD</td>\n",
              "    </tr>\n",
              "    <tr>\n",
              "      <th>17</th>\n",
              "      <td>.</td>\n",
              "      <td>.</td>\n",
              "    </tr>\n",
              "    <tr>\n",
              "      <th>18</th>\n",
              "      <td>mr.</td>\n",
              "      <td>NNP</td>\n",
              "    </tr>\n",
              "    <tr>\n",
              "      <th>19</th>\n",
              "      <td>vinken</td>\n",
              "      <td>NNP</td>\n",
              "    </tr>\n",
              "  </tbody>\n",
              "</table>\n",
              "</div>"
            ],
            "text/plain": [
              "            word label\n",
              "0         pierre   NNP\n",
              "1         vinken   NNP\n",
              "2              ,     ,\n",
              "3             61    CD\n",
              "4          years   NNS\n",
              "5            old    JJ\n",
              "6              ,     ,\n",
              "7           will    MD\n",
              "8           join    VB\n",
              "9            the    DT\n",
              "10         board    NN\n",
              "11            as    IN\n",
              "12             a    DT\n",
              "13  nonexecutive    JJ\n",
              "14      director    NN\n",
              "15          nov.   NNP\n",
              "16            29    CD\n",
              "17             .     .\n",
              "18           mr.   NNP\n",
              "19        vinken   NNP"
            ]
          },
          "execution_count": 22,
          "metadata": {},
          "output_type": "execute_result"
        }
      ],
      "source": [
        "dfc_train.head(20)"
      ]
    },
    {
      "cell_type": "markdown",
      "metadata": {
        "id": "6VsU_XpAi8CF"
      },
      "source": [
        "## Word embedding"
      ]
    },
    {
      "cell_type": "markdown",
      "metadata": {
        "id": "4Bep7HYL484_"
      },
      "source": [
        "### Loading GloVe"
      ]
    },
    {
      "cell_type": "markdown",
      "metadata": {
        "id": "92d15Xzr4qAn"
      },
      "source": [
        "\n",
        "Loading pre-trained dense word embedding representation: GloVe.\n",
        "\n",
        "\n",
        "\n",
        "\n"
      ]
    },
    {
      "cell_type": "code",
      "execution_count": 23,
      "metadata": {
        "id": "UZBrvzL8t6_U"
      },
      "outputs": [],
      "source": [
        "import gensim\n",
        "import gensim.downloader as gloader\n",
        "\n",
        "def load_embedding_model(model_type: str,\n",
        "                         embedding_dimension: int = 50) -> gensim.models.keyedvectors.KeyedVectors:\n",
        "    \"\"\"\n",
        "    Loads a pre-trained word embedding model via gensim library.\n",
        "\n",
        "    :param model_type: name of the word embedding model to load.\n",
        "    :param embedding_dimension: size of the embedding space to consider\n",
        "\n",
        "    :return\n",
        "        - pre-trained word embedding model (gensim KeyedVectors object)\n",
        "    \"\"\"\n",
        "    download_path = \"\"\n",
        "    if model_type.strip().lower() == 'word2vec':\n",
        "        download_path = \"word2vec-google-news-300\"\n",
        "\n",
        "    elif model_type.strip().lower() == 'glove':\n",
        "        download_path = \"glove-wiki-gigaword-{}\".format(embedding_dimension)\n",
        "    elif model_type.strip().lower() == 'fasttext':\n",
        "        download_path = \"fasttext-wiki-news-subwords-300\"\n",
        "    else:\n",
        "        raise AttributeError(\"Unsupported embedding model type! Available ones: word2vec, glove, fasttext\")\n",
        "        \n",
        "    try:\n",
        "        emb_model = gloader.load(download_path)\n",
        "    except ValueError as e:\n",
        "        print(\"Invalid embedding model name! Check the embedding dimension:\")\n",
        "        print(\"Word2Vec: 300\")\n",
        "        print(\"Glove: 50, 100, 200, 300\")\n",
        "        print('FastText: 300')\n",
        "        raise e\n",
        "\n",
        "    return emb_model"
      ]
    },
    {
      "cell_type": "code",
      "execution_count": 24,
      "metadata": {
        "id": "2hPJ_neS5Vxd"
      },
      "outputs": [],
      "source": [
        "# Modify these variables as you wish!\n",
        "# Glove -> 50, 100, 200, 300 (200 seems the better)\n",
        "# Word2Vec -> 300\n",
        "# Fasttext -> 300\n",
        "embedding_dimension = 200\n",
        "embedding_model = load_embedding_model(model_type=\"glove\", embedding_dimension= embedding_dimension)"
      ]
    },
    {
      "cell_type": "markdown",
      "metadata": {
        "id": "jU0rgZ0I484_"
      },
      "source": [
        "### Analyzing OOV statistics"
      ]
    },
    {
      "cell_type": "code",
      "execution_count": 25,
      "metadata": {
        "colab": {
          "base_uri": "https://localhost:8080/"
        },
        "id": "S76fxrkJ484_",
        "outputId": "a8ad44f2-173a-4458-c775-ee296ac177ba"
      },
      "outputs": [
        {
          "data": {
            "text/plain": [
              "['the', ',', '.', 'of', 'to', 'and', 'in', 'a', '\"', \"'s\"]"
            ]
          },
          "execution_count": 25,
          "metadata": {},
          "output_type": "execute_result"
        }
      ],
      "source": [
        "embedding_model.index_to_key[0:10]"
      ]
    },
    {
      "cell_type": "code",
      "execution_count": 26,
      "metadata": {
        "colab": {
          "base_uri": "https://localhost:8080/"
        },
        "id": "CdGVCkXI485A",
        "outputId": "3cbde795-36fd-4322-a659-bac1926a4257"
      },
      "outputs": [
        {
          "name": "stdout",
          "output_type": "stream",
          "text": [
            "oov_train_size: 359\n",
            "oov_val_size: 213\n",
            "oov_test_size: 161\n"
          ]
        }
      ],
      "source": [
        "oov_train = list(set([word for word in dfc_train.word.values if word not in embedding_model.index_to_key]))\n",
        "oov_val = list(set([word for word in dfc_val.word.values if word not in embedding_model.index_to_key]))\n",
        "oov_test = list(set([word for word in dfc_test.word.values if word not in embedding_model.index_to_key]))\n",
        "print(f'oov_train_size: {len(oov_train)}')\n",
        "print(f'oov_val_size: {len(oov_val)}')\n",
        "print(f'oov_test_size: {len(oov_test)}')"
      ]
    },
    {
      "cell_type": "code",
      "execution_count": 27,
      "metadata": {
        "colab": {
          "base_uri": "https://localhost:8080/"
        },
        "id": "_FCfRir-485A",
        "outputId": "d9db8092-876d-49f7-9f06-2c0938392dee"
      },
      "outputs": [
        {
          "data": {
            "text/plain": [
              "['37-a-share',\n",
              " 'bermuda-based',\n",
              " 'anti-takeover',\n",
              " 'lezovich',\n",
              " 'test-prep',\n",
              " 'sub-markets',\n",
              " 'thin-lipped',\n",
              " 'lap-shoulder',\n",
              " 'uzi-model',\n",
              " '38.375']"
            ]
          },
          "execution_count": 27,
          "metadata": {},
          "output_type": "execute_result"
        }
      ],
      "source": [
        "oov_train[0:10]"
      ]
    },
    {
      "cell_type": "markdown",
      "metadata": {
        "id": "d3NWFTMjmg78"
      },
      "source": [
        "### GloVe Embedding"
      ]
    },
    {
      "cell_type": "markdown",
      "metadata": {
        "id": "vMrf7Fro485A"
      },
      "source": [
        "#### Prepare the embedding matrix"
      ]
    },
    {
      "cell_type": "code",
      "execution_count": 28,
      "metadata": {
        "id": "O5GdVec3XGTn"
      },
      "outputs": [],
      "source": [
        "def deal_OOV(vectors, vocabulary, embedding_dimension, oov_set):\n",
        "  #deal with oov words by adding a random embedding vector to the embedding matrix\n",
        "  for idx in range(0, len(oov_set)):\n",
        "    if oov_set[idx] not in vocabulary:\n",
        "      vocabulary.append(oov_set[idx])\n",
        "      #use random embedding for OOV word\n",
        "      embedding_vector = np.random.uniform(low=-0.05, high=0.05, size= embedding_dimension)\n",
        "      vectors.append(embedding_vector)\n",
        "  return vocabulary, vectors"
      ]
    },
    {
      "cell_type": "code",
      "execution_count": 29,
      "metadata": {
        "colab": {
          "base_uri": "https://localhost:8080/"
        },
        "id": "IlTNKSH5MLQ_",
        "outputId": "e253383e-e3f0-4707-cb47-c3383e230382"
      },
      "outputs": [
        {
          "name": "stdout",
          "output_type": "stream",
          "text": [
            "(400677, 200)\n"
          ]
        }
      ],
      "source": [
        "#GloVe vocabulary\n",
        "words = list(embedding_model.index_to_key)\n",
        "#extracting the GloVe embedding vectors\n",
        "vectors = [embedding_model[word] for word in words]\n",
        "em0 =np.array([0.0]*embedding_dimension)\n",
        "vectors.insert(0, em0)\n",
        "\n",
        "#deal with train oov words\n",
        "vocab, vectors = deal_OOV(vectors, words, embedding_dimension, oov_train)\n",
        "#deal with validation oov words\n",
        "vocab, vectors = deal_OOV(vectors, vocab, embedding_dimension, oov_val)\n",
        "#deal with test oov words\n",
        "vocab, vectors = deal_OOV(vectors, vocab, embedding_dimension, oov_test)\n",
        "\n",
        "embedding_matrix = np.asarray(vectors)\n",
        "print(np.shape(embedding_matrix))\n"
      ]
    },
    {
      "cell_type": "markdown",
      "metadata": {
        "id": "9Htl90Gw485B"
      },
      "source": [
        "Define a tokenizer."
      ]
    },
    {
      "cell_type": "code",
      "execution_count": 30,
      "metadata": {
        "colab": {
          "base_uri": "https://localhost:8080/"
        },
        "id": "coeo_iy1gJSu",
        "outputId": "2cad224a-79b3-4798-e528-35fe9e3f6180"
      },
      "outputs": [
        {
          "name": "stdout",
          "output_type": "stream",
          "text": [
            "Number of unique words in dictionary= 400676\n",
            "Dictionary head:  {'the': 1, ',': 2, '.': 3, 'of': 4, 'to': 5, 'and': 6, 'in': 7, 'a': 8, '\"': 9, \"'s\": 10, 'for': 11, '-': 12, 'that': 13, 'on': 14, 'is': 15, 'was': 16, 'said': 17, 'with': 18, 'he': 19, 'as': 20, 'it': 21, 'by': 22, 'at': 23, '(': 24, ')': 25, 'from': 26, 'his': 27, \"''\": 28, '``': 29, 'an': 30, 'be': 31, 'has': 32, 'are': 33, 'have': 34, 'but': 35, 'were': 36, 'not': 37, 'this': 38, 'who': 39, 'they': 40, 'had': 41, 'i': 42, 'which': 43, 'will': 44, 'their': 45, ':': 46, 'or': 47, 'its': 48, 'one': 49, 'after': 50}\n"
          ]
        }
      ],
      "source": [
        "from tensorflow.keras.preprocessing.text import Tokenizer\n",
        "\n",
        "# define the tokenizer, removing the default filters: '!\"#$%&()*+,-./:;<=>?@[\\\\]^_`{|}~\\t\\n' \n",
        "tokenizer = Tokenizer(filters='')\n",
        "#text = dfc_train.word.values\n",
        "#fit the tokenizer on the vocabulary of GloVe, including also the OOV words \n",
        "tokenizer.fit_on_texts(vocab)\n",
        "\n",
        "# number of unique words in dict.\n",
        "print(\"Number of unique words in dictionary=\", len(tokenizer.word_index))\n",
        "print(\"Dictionary head: \", dict(list(tokenizer.word_index.items())[0:50]))"
      ]
    },
    {
      "cell_type": "code",
      "execution_count": 31,
      "metadata": {
        "colab": {
          "base_uri": "https://localhost:8080/",
          "height": 70
        },
        "id": "6pHoC5Xe3ETA",
        "outputId": "8ee4e2a0-b510-4e96-9df6-463946279372"
      },
      "outputs": [
        {
          "data": {
            "text/plain": [
              "'\\nfrom tensorflow.keras.preprocessing.text import Tokenizer\\n\\n# define the tokenizer\\ntokenizer = Tokenizer(oov_token=\\'<unk>\\')\\ntext = dfc_train.word.values\\n\\n#fit the tokenizer on the training data\\ntokenizer.fit_on_texts(text)\\n\\n# number of unique words in dict.\\nprint(\"Number of unique words in dictionary=\", len(tokenizer.word_index))\\nprint(\"Dictionary head: \", dict(list(tokenizer.word_index.items())[0:10]))\\n'"
            ]
          },
          "execution_count": 31,
          "metadata": {},
          "output_type": "execute_result"
        }
      ],
      "source": [
        "\"\"\"\n",
        "from tensorflow.keras.preprocessing.text import Tokenizer\n",
        "\n",
        "# define the tokenizer\n",
        "tokenizer = Tokenizer(oov_token='<unk>')\n",
        "text = dfc_train.word.values\n",
        "\n",
        "#fit the tokenizer on the training data\n",
        "tokenizer.fit_on_texts(text)\n",
        "\n",
        "# number of unique words in dict.\n",
        "print(\"Number of unique words in dictionary=\", len(tokenizer.word_index))\n",
        "print(\"Dictionary head: \", dict(list(tokenizer.word_index.items())[0:10]))\n",
        "\"\"\""
      ]
    },
    {
      "cell_type": "code",
      "execution_count": 32,
      "metadata": {
        "id": "HoHKd6mLOw52"
      },
      "outputs": [],
      "source": [
        "with open('./Dataset/word_index.json','w') as word_index_file:\n",
        "    word_index_file.write(tokenizer.to_json())"
      ]
    },
    {
      "cell_type": "markdown",
      "metadata": {
        "id": "zYWHS267ohxZ"
      },
      "source": [
        "Define the embedding matrix."
      ]
    },
    {
      "cell_type": "code",
      "execution_count": 33,
      "metadata": {
        "colab": {
          "base_uri": "https://localhost:8080/",
          "height": 105
        },
        "id": "xpBaqwkd5axM",
        "outputId": "2c3f44a1-c246-42e4-b17b-7fd414ff56d8"
      },
      "outputs": [
        {
          "data": {
            "text/plain": [
              "'\\nfrom tqdm import tqdm\\n\\ndef build_embedding_matrix(embedding_model: gensim.models.keyedvectors.KeyedVectors,\\n                           embedding_dimension: int,\\n                           word_to_idx,\\n                           vocab_size: int) -> np.ndarray:\\n    \\n    Builds the embedding matrix of a specific dataset given a pre-trained word embedding model\\n\\n    :param embedding_model: pre-trained word embedding model (gensim wrapper)\\n    :param word_to_idx: vocabulary map (word -> index) (dict)\\n    :param vocab_size: size of the vocabulary\\n    \\n\\n    :return\\n        - embedding matrix that assigns a high dimensional vector to each word in the dataset specific vocabulary (shape |V| x d)\\n    \\n    embedding_matrix = np.zeros((vocab_size, embedding_dimension), dtype=np.float32)\\n    for word, idx in tqdm(tokenizer.word_index.items()):\\n        try:\\n            embedding_vector = embedding_model[word]\\n        except (KeyError, TypeError):\\n            #print(f\"Using random vector for \\'{word}\\'\")\\n            embedding_vector = np.random.uniform(low=-0.05, high=0.05, size=embedding_dimension)\\n\\n        embedding_matrix[idx] = embedding_vector\\n\\n    return embedding_matrix\\n'"
            ]
          },
          "execution_count": 33,
          "metadata": {},
          "output_type": "execute_result"
        }
      ],
      "source": [
        "#remove it after we are sure about the correctness of the embedding done above \n",
        "\"\"\"\n",
        "from tqdm import tqdm\n",
        "\n",
        "def build_embedding_matrix(embedding_model: gensim.models.keyedvectors.KeyedVectors,\n",
        "                           embedding_dimension: int,\n",
        "                           word_to_idx,\n",
        "                           vocab_size: int) -> np.ndarray:\n",
        "    \n",
        "    Builds the embedding matrix of a specific dataset given a pre-trained word embedding model\n",
        "\n",
        "    :param embedding_model: pre-trained word embedding model (gensim wrapper)\n",
        "    :param word_to_idx: vocabulary map (word -> index) (dict)\n",
        "    :param vocab_size: size of the vocabulary\n",
        "    \n",
        "\n",
        "    :return\n",
        "        - embedding matrix that assigns a high dimensional vector to each word in the dataset specific vocabulary (shape |V| x d)\n",
        "    \n",
        "    embedding_matrix = np.zeros((vocab_size, embedding_dimension), dtype=np.float32)\n",
        "    for word, idx in tqdm(tokenizer.word_index.items()):\n",
        "        try:\n",
        "            embedding_vector = embedding_model[word]\n",
        "        except (KeyError, TypeError):\n",
        "            #print(f\"Using random vector for '{word}'\")\n",
        "            embedding_vector = np.random.uniform(low=-0.05, high=0.05, size=embedding_dimension)\n",
        "\n",
        "        embedding_matrix[idx] = embedding_vector\n",
        "\n",
        "    return embedding_matrix\n",
        "\"\"\""
      ]
    },
    {
      "cell_type": "code",
      "execution_count": 34,
      "metadata": {
        "colab": {
          "base_uri": "https://localhost:8080/",
          "height": 53
        },
        "id": "nYYqz59Ilmem",
        "outputId": "fdad623e-ca44-4f9f-a7d1-98e275254289"
      },
      "outputs": [
        {
          "data": {
            "text/plain": [
              "'\\n# Testing\\nembedding_dimension = 50\\nvocab_size = len(tokenizer.word_index) + 1\\nembedding_matrix = build_embedding_matrix(embedding_model, embedding_dimension, tokenizer.word_index, vocab_size )\\nprint(f\"Embedding matrix shape: {embedding_matrix.shape}\")\\n'"
            ]
          },
          "execution_count": 34,
          "metadata": {},
          "output_type": "execute_result"
        }
      ],
      "source": [
        "\"\"\"\n",
        "# Testing\n",
        "embedding_dimension = 50\n",
        "vocab_size = len(tokenizer.word_index) + 1\n",
        "embedding_matrix = build_embedding_matrix(embedding_model, embedding_dimension, tokenizer.word_index, vocab_size )\n",
        "print(f\"Embedding matrix shape: {embedding_matrix.shape}\")\n",
        "\"\"\""
      ]
    },
    {
      "cell_type": "markdown",
      "metadata": {
        "id": "ojCSzxS1485B"
      },
      "source": [
        "#### Encode the dataset"
      ]
    },
    {
      "cell_type": "markdown",
      "metadata": {
        "id": "BLiAw26WqhqF"
      },
      "source": [
        "Define a label encoder for the target class."
      ]
    },
    {
      "cell_type": "code",
      "execution_count": 35,
      "metadata": {
        "id": "54XQt_rz6fgv"
      },
      "outputs": [],
      "source": [
        "from sklearn.preprocessing import LabelEncoder, OneHotEncoder\n",
        "\n",
        "le = LabelEncoder()\n",
        "dfc_train['encoded_label'] = le.fit_transform(dfc_train['label'])\n",
        "dfc_val['encoded_label'] = le.transform(dfc_val['label'])\n",
        "dfc_test['encoded_label'] = le.transform(dfc_test['label'])\n",
        "dfc_sample['encoded_label'] = le.transform(dfc_sample['label'])"
      ]
    },
    {
      "cell_type": "code",
      "execution_count": 36,
      "metadata": {
        "colab": {
          "base_uri": "https://localhost:8080/",
          "height": 677
        },
        "id": "5YGyoO0h485C",
        "outputId": "7dfe5423-5c46-4c18-d102-c06ec7fd74ed"
      },
      "outputs": [
        {
          "data": {
            "text/html": [
              "<div>\n",
              "<style scoped>\n",
              "    .dataframe tbody tr th:only-of-type {\n",
              "        vertical-align: middle;\n",
              "    }\n",
              "\n",
              "    .dataframe tbody tr th {\n",
              "        vertical-align: top;\n",
              "    }\n",
              "\n",
              "    .dataframe thead th {\n",
              "        text-align: right;\n",
              "    }\n",
              "</style>\n",
              "<table border=\"1\" class=\"dataframe\">\n",
              "  <thead>\n",
              "    <tr style=\"text-align: right;\">\n",
              "      <th></th>\n",
              "      <th>word</th>\n",
              "      <th>label</th>\n",
              "      <th>encoded_label</th>\n",
              "    </tr>\n",
              "  </thead>\n",
              "  <tbody>\n",
              "    <tr>\n",
              "      <th>0</th>\n",
              "      <td>pierre</td>\n",
              "      <td>NNP</td>\n",
              "      <td>20</td>\n",
              "    </tr>\n",
              "    <tr>\n",
              "      <th>1</th>\n",
              "      <td>vinken</td>\n",
              "      <td>NNP</td>\n",
              "      <td>20</td>\n",
              "    </tr>\n",
              "    <tr>\n",
              "      <th>2</th>\n",
              "      <td>,</td>\n",
              "      <td>,</td>\n",
              "      <td>3</td>\n",
              "    </tr>\n",
              "    <tr>\n",
              "      <th>3</th>\n",
              "      <td>61</td>\n",
              "      <td>CD</td>\n",
              "      <td>9</td>\n",
              "    </tr>\n",
              "    <tr>\n",
              "      <th>4</th>\n",
              "      <td>years</td>\n",
              "      <td>NNS</td>\n",
              "      <td>22</td>\n",
              "    </tr>\n",
              "    <tr>\n",
              "      <th>5</th>\n",
              "      <td>old</td>\n",
              "      <td>JJ</td>\n",
              "      <td>14</td>\n",
              "    </tr>\n",
              "    <tr>\n",
              "      <th>6</th>\n",
              "      <td>,</td>\n",
              "      <td>,</td>\n",
              "      <td>3</td>\n",
              "    </tr>\n",
              "    <tr>\n",
              "      <th>7</th>\n",
              "      <td>will</td>\n",
              "      <td>MD</td>\n",
              "      <td>18</td>\n",
              "    </tr>\n",
              "    <tr>\n",
              "      <th>8</th>\n",
              "      <td>join</td>\n",
              "      <td>VB</td>\n",
              "      <td>34</td>\n",
              "    </tr>\n",
              "    <tr>\n",
              "      <th>9</th>\n",
              "      <td>the</td>\n",
              "      <td>DT</td>\n",
              "      <td>10</td>\n",
              "    </tr>\n",
              "    <tr>\n",
              "      <th>10</th>\n",
              "      <td>board</td>\n",
              "      <td>NN</td>\n",
              "      <td>19</td>\n",
              "    </tr>\n",
              "    <tr>\n",
              "      <th>11</th>\n",
              "      <td>as</td>\n",
              "      <td>IN</td>\n",
              "      <td>13</td>\n",
              "    </tr>\n",
              "    <tr>\n",
              "      <th>12</th>\n",
              "      <td>a</td>\n",
              "      <td>DT</td>\n",
              "      <td>10</td>\n",
              "    </tr>\n",
              "    <tr>\n",
              "      <th>13</th>\n",
              "      <td>nonexecutive</td>\n",
              "      <td>JJ</td>\n",
              "      <td>14</td>\n",
              "    </tr>\n",
              "    <tr>\n",
              "      <th>14</th>\n",
              "      <td>director</td>\n",
              "      <td>NN</td>\n",
              "      <td>19</td>\n",
              "    </tr>\n",
              "    <tr>\n",
              "      <th>15</th>\n",
              "      <td>nov.</td>\n",
              "      <td>NNP</td>\n",
              "      <td>20</td>\n",
              "    </tr>\n",
              "    <tr>\n",
              "      <th>16</th>\n",
              "      <td>29</td>\n",
              "      <td>CD</td>\n",
              "      <td>9</td>\n",
              "    </tr>\n",
              "    <tr>\n",
              "      <th>17</th>\n",
              "      <td>.</td>\n",
              "      <td>.</td>\n",
              "      <td>6</td>\n",
              "    </tr>\n",
              "    <tr>\n",
              "      <th>18</th>\n",
              "      <td>mr.</td>\n",
              "      <td>NNP</td>\n",
              "      <td>20</td>\n",
              "    </tr>\n",
              "    <tr>\n",
              "      <th>19</th>\n",
              "      <td>vinken</td>\n",
              "      <td>NNP</td>\n",
              "      <td>20</td>\n",
              "    </tr>\n",
              "  </tbody>\n",
              "</table>\n",
              "</div>"
            ],
            "text/plain": [
              "            word label  encoded_label\n",
              "0         pierre   NNP             20\n",
              "1         vinken   NNP             20\n",
              "2              ,     ,              3\n",
              "3             61    CD              9\n",
              "4          years   NNS             22\n",
              "5            old    JJ             14\n",
              "6              ,     ,              3\n",
              "7           will    MD             18\n",
              "8           join    VB             34\n",
              "9            the    DT             10\n",
              "10         board    NN             19\n",
              "11            as    IN             13\n",
              "12             a    DT             10\n",
              "13  nonexecutive    JJ             14\n",
              "14      director    NN             19\n",
              "15          nov.   NNP             20\n",
              "16            29    CD              9\n",
              "17             .     .              6\n",
              "18           mr.   NNP             20\n",
              "19        vinken   NNP             20"
            ]
          },
          "execution_count": 36,
          "metadata": {},
          "output_type": "execute_result"
        }
      ],
      "source": [
        "dfc_train.head(20)"
      ]
    },
    {
      "cell_type": "code",
      "execution_count": 37,
      "metadata": {
        "colab": {
          "base_uri": "https://localhost:8080/"
        },
        "id": "NWhjjLitz3f7",
        "outputId": "8b68ca6f-5fd5-4530-e2cf-e781bb01a742"
      },
      "outputs": [
        {
          "name": "stdout",
          "output_type": "stream",
          "text": [
            "Punctation labels: [ 3  6 44  2  7  1  4  5 31  0]\n"
          ]
        }
      ],
      "source": [
        "# Select all the unique classes in the dataframe and their encoding\n",
        "labels = dfc_train.drop_duplicates(['label','encoded_label'])[['label','encoded_label']]\n",
        "# Extracting the encoded label vector for all punctuation and symbols. Will be used in F1 score calculation   \n",
        "# The vector is defined in the cleanCorpus function.\n",
        "# , . `` '' : $ -LRB- -RRB- SYM #\n",
        "# [3,6,44,2,7,1,4,5,31,0]\n",
        "punctuation_labels = labels[labels.label.isin(punctuation_classes)]['encoded_label'].values\n",
        "\n",
        "print(f\"Punctation labels: {punctuation_labels}\")"
      ]
    },
    {
      "cell_type": "markdown",
      "metadata": {
        "id": "yS7M36zPrBip"
      },
      "source": [
        "Transform the text into a sequence of integers using the tokenizer defined before. "
      ]
    },
    {
      "cell_type": "code",
      "execution_count": 38,
      "metadata": {
        "colab": {
          "base_uri": "https://localhost:8080/"
        },
        "id": "72n2_dZHDprc",
        "outputId": "2b044441-8bc7-47a3-a7a3-033b2ef966bf"
      },
      "outputs": [
        {
          "data": {
            "text/plain": [
              "45"
            ]
          },
          "execution_count": 38,
          "metadata": {},
          "output_type": "execute_result"
        }
      ],
      "source": [
        "x_train = np.array(tokenizer.texts_to_sequences(list(dfc_train.word.values))) \n",
        "y_train = np.array( dfc_train['encoded_label'])\n",
        "\n",
        "x_val = np.array(tokenizer.texts_to_sequences(dfc_val.word.values))\n",
        "y_val = np.array(dfc_val['encoded_label'])\n",
        "\n",
        "x_test = np.array(tokenizer.texts_to_sequences(dfc_test.word.values))\n",
        "y_test = np.array(dfc_test['encoded_label'])\n",
        "\n",
        "x_sample = np.array(tokenizer.texts_to_sequences(dfc_sample.word.values))\n",
        "y_sample = np.array(dfc_sample['encoded_label'])\n",
        "\n",
        "#number of unique labels\n",
        "num_classes = len(np.unique(y_train))\n",
        "num_classes"
      ]
    },
    {
      "cell_type": "markdown",
      "metadata": {
        "id": "51RMHWA0r2ep"
      },
      "source": [
        "Pad the sequences to make them of same length before passing them to the model."
      ]
    },
    {
      "cell_type": "code",
      "execution_count": 39,
      "metadata": {
        "colab": {
          "base_uri": "https://localhost:8080/"
        },
        "id": "Lzxixj0QExD7",
        "outputId": "a3f909ab-afaa-40d6-b44c-a4cc476cb581"
      },
      "outputs": [
        {
          "name": "stdout",
          "output_type": "stream",
          "text": [
            "X train shape: (47356, 1)\n",
            "Y train shape: (47356,)\n",
            "type:<class 'numpy.ndarray'>\n",
            "X val shape: (31183, 1)\n",
            "Y val shape: (31183,)\n",
            "type:<class 'numpy.ndarray'>\n",
            "X test shape: (15545, 1) (15545, 1)\n",
            "Y test shape: (15545,) (15545,)\n"
          ]
        }
      ],
      "source": [
        "from tensorflow.keras.preprocessing.sequence import pad_sequences\n",
        "\n",
        "x_train = pad_sequences(x_train, maxlen=1, padding='post')\n",
        "x_val = pad_sequences(x_val, maxlen=1, padding='post')\n",
        "x_test = pad_sequences(x_test, maxlen=1, padding='post')\n",
        "x_sample = pad_sequences(x_sample, maxlen=1, padding='post')\n",
        "\n",
        "#Train\n",
        "print(f'X train shape: {x_train.shape}')\n",
        "print(f'Y train shape: {y_train.shape}')\n",
        "print(f'type:{type(x_train)}')\n",
        "\n",
        "# Val\n",
        "print(f'X val shape: {x_val.shape}')\n",
        "print(f'Y val shape: {y_val.shape}')\n",
        "print(f'type:{type(y_train)}')\n",
        "# Test\n",
        "\n",
        "print(f'X test shape: {x_test.shape}', x_test.shape)\n",
        "print(f'Y test shape: {y_test.shape}', y_test.shape)"
      ]
    },
    {
      "cell_type": "code",
      "execution_count": 40,
      "metadata": {
        "id": "NHZTtqWB485D"
      },
      "outputs": [],
      "source": [
        "vocab_size = len(tokenizer.word_index) + 1"
      ]
    },
    {
      "cell_type": "markdown",
      "metadata": {
        "id": "gMFmoGtIOw55"
      },
      "source": [
        "## Utility methods"
      ]
    },
    {
      "cell_type": "code",
      "execution_count": 41,
      "metadata": {
        "id": "94MnbDUNOw55"
      },
      "outputs": [],
      "source": [
        "import tensorflow as tf\n",
        "from tensorflow import keras\n",
        "from tensorflow.keras import layers\n",
        "from typing import List, Dict, Callable\n",
        "import random"
      ]
    },
    {
      "cell_type": "code",
      "execution_count": 42,
      "metadata": {
        "id": "U0Nhlo_pOw55"
      },
      "outputs": [],
      "source": [
        "def set_reproducibility(seed):\n",
        "    random.seed(seed)\n",
        "    np.random.seed(seed)\n",
        "    tf.random.set_seed(seed)\n",
        "    os.environ['TF_DETERMINISTIC_OPS'] = '1'"
      ]
    },
    {
      "cell_type": "code",
      "execution_count": 43,
      "metadata": {
        "id": "cirp5kg8Ow55"
      },
      "outputs": [],
      "source": [
        "def create_model(layers_info: List[Dict], compile_info: Dict) -> keras.Model:\n",
        "    \"\"\"\n",
        "    Create a Keras model given a list of layer information\n",
        "\n",
        "    :param layers_info: a list of dictionaries, one for each layer\n",
        "    :param compile_info: dictionary containing compile information\n",
        "\n",
        "    :return\n",
        "        model: the built keras sequential model\n",
        "    \"\"\"\n",
        "    set_reproducibility(42)\n",
        "    model = keras.Sequential()\n",
        "    for _, info in enumerate(layers_info):\n",
        "        layer = info['mlayer'](**{key: value for key, value in info.items() if key != 'mlayer'})\n",
        "        model.add(layer)\n",
        "\n",
        "    model.summary()\n",
        "    model.compile(**compile_info)\n",
        "    return model"
      ]
    },
    {
      "cell_type": "code",
      "execution_count": 44,
      "metadata": {
        "id": "Ms1V5PuwOw56"
      },
      "outputs": [],
      "source": [
        "import matplotlib.pyplot as plt\n",
        "from functools import partial\n",
        "from keras.callbacks import History\n",
        "\n",
        "def show_history(history: History, name:str):\n",
        "    \"\"\"\n",
        "    Shows training history data stored by the History Keras callback\n",
        "\n",
        "    :param history: History Keras callback\n",
        "    \"\"\"\n",
        "    history_data = history.history\n",
        "    print(f\"Displaying the following history keys: {history_data.keys()}\")\n",
        "    \n",
        "    for key, value in history_data.items():\n",
        "        if not key.startswith('val'):\n",
        "            fig, ax = plt.subplots(1, 1)\n",
        "            ax.set_title(key)\n",
        "            ax.plot(value)\n",
        "            if f'val_{key}' in history_data:\n",
        "                ax.plot(history_data[f'val_{key}'])\n",
        "            else:\n",
        "                print(f\"Couldn't find validation values for metric: {key}\")\n",
        "\n",
        "            ax.set_ylabel(key)\n",
        "            ax.set_xlabel('epoch')\n",
        "            ax.legend(['train', 'val'], loc='best')\n",
        "            plt.grid(True)\n",
        "            fig.savefig(f'./report/{name}_{key}.png')\n",
        "            fig.show()\n"
      ]
    },
    {
      "cell_type": "code",
      "execution_count": 45,
      "metadata": {
        "id": "Zw1zm9xVOw56"
      },
      "outputs": [],
      "source": [
        "from tensorflow.keras.utils import plot_model\n",
        "\n",
        "def train_model(model: keras.Model, training_info: Dict, name:str):\n",
        "    \"\"\"\n",
        "    Training routine for the Keras model.\n",
        "    At the end of the training, retrieved History data is shown.\n",
        "\n",
        "    :param model: Keras built model\n",
        "    :param training_info: dictionary storing model fit() argument information\n",
        "\n",
        "    :return\n",
        "        model: trained Keras model\n",
        "    \"\"\"\n",
        "    plot_model(model, to_file=f\"./report/{name}_model.png\", show_layer_names=True, show_shapes=True)\n",
        "\n",
        "    print(f\"Start training! \\nParameters: {training_info}\")\n",
        "\n",
        "    history = model.fit(x=x_train, y=y_train,\n",
        "                        validation_data=(x_val, y_val),\n",
        "                        **training_info)\n",
        "    print(\"Training completed!\")\n",
        "\n",
        "    print(\"Showing history...\")\n",
        "    show_history(history, name)\n",
        "\n",
        "    return model"
      ]
    },
    {
      "cell_type": "code",
      "execution_count": 46,
      "metadata": {
        "id": "hSj5Ie1gOw56"
      },
      "outputs": [],
      "source": [
        "def predict_data(model: keras.Model,\n",
        "                x: np.ndarray,\n",
        "                prediction_info: Dict):\n",
        "    \"\"\"\n",
        "    Inference routine of a given input set of examples\n",
        "\n",
        "    :param model: Keras built and possibly trained model\n",
        "    :param x: input set of examples in np.ndarray format\n",
        "    :param prediction_info: dictionary storing model predict() argument information\n",
        "\n",
        "    :return\n",
        "        predictions: predicted labels in np.ndarray format\n",
        "    \"\"\"\n",
        "    print(f'Starting prediction: \\n{prediction_info}')\n",
        "    print(f'Predicting on {x.shape[0]} samples')\n",
        "    predictions = model.predict(x, **prediction_info)\n",
        "    return predictions"
      ]
    },
    {
      "cell_type": "code",
      "execution_count": 47,
      "metadata": {
        "id": "sJl37gYEOw56"
      },
      "outputs": [],
      "source": [
        "from sklearn.metrics import f1_score\n",
        "\n",
        "def compute_f1(model: keras.Model, \n",
        "             x: np.ndarray, \n",
        "             y: np.ndarray):\n",
        "    \"\"\"\n",
        "    Compute F1_score on the given data with corresponding labels\n",
        "\n",
        "    :param model: Keras built and possibly trained model\n",
        "    :param x: data in np.ndarray format\n",
        "    :param y: ground-truth labels in np.ndarray format\n",
        "\n",
        "    :return\n",
        "        score: f1_macro_score\n",
        "    \"\"\"\n",
        "    #predictions on the x set\n",
        "    prediction_info = {\n",
        "        'batch_size': 64,\n",
        "        'verbose': 1\n",
        "    }\n",
        "    y_pred = predict_data(model=model, x=x, prediction_info=prediction_info)\n",
        "\n",
        "    #compute argmax to take the best class for each sample\n",
        "    y_pred = np.argmax(y_pred, axis=1)\n",
        "    \n",
        "    #compute the f1_macro exluding puntuaction labels\n",
        "\n",
        "    labels = np.unique( np.concatenate((np.unique(y), np.unique(y_pred))))\n",
        "    labels = [label for label in labels if label not in punctuation_labels]\n",
        "    #print(labels)\n",
        "\n",
        "    score = f1_score(y, y_pred, average ='macro', labels=labels)\n",
        "    return score"
      ]
    },
    {
      "cell_type": "markdown",
      "metadata": {
        "id": "7FTlmNoGi8CF"
      },
      "source": [
        "## Baseline model: LSTM"
      ]
    },
    {
      "cell_type": "markdown",
      "metadata": {
        "id": "LCcVYGrNsQ-x"
      },
      "source": [
        "### Define the model"
      ]
    },
    {
      "cell_type": "code",
      "execution_count": 48,
      "metadata": {
        "colab": {
          "base_uri": "https://localhost:8080/"
        },
        "id": "RyfvHkUZ1wEU",
        "outputId": "f5df738c-b07d-4031-d5b9-9abd5e4e6799"
      },
      "outputs": [
        {
          "name": "stderr",
          "output_type": "stream",
          "text": [
            "2023-01-06 14:23:38.905616: I tensorflow/stream_executor/cuda/cuda_gpu_executor.cc:966] could not open file to read NUMA node: /sys/bus/pci/devices/0000:01:00.0/numa_node\n",
            "Your kernel may have been built without NUMA support.\n",
            "2023-01-06 14:23:38.906014: W tensorflow/stream_executor/platform/default/dso_loader.cc:64] Could not load dynamic library 'libcudart.so.11.0'; dlerror: libcudart.so.11.0: cannot open shared object file: No such file or directory\n",
            "2023-01-06 14:23:38.906108: W tensorflow/stream_executor/platform/default/dso_loader.cc:64] Could not load dynamic library 'libcublas.so.11'; dlerror: libcublas.so.11: cannot open shared object file: No such file or directory\n",
            "2023-01-06 14:23:38.906441: W tensorflow/stream_executor/platform/default/dso_loader.cc:64] Could not load dynamic library 'libcublasLt.so.11'; dlerror: libcublasLt.so.11: cannot open shared object file: No such file or directory\n",
            "2023-01-06 14:23:38.918119: W tensorflow/stream_executor/platform/default/dso_loader.cc:64] Could not load dynamic library 'libcusolver.so.11'; dlerror: libcusolver.so.11: cannot open shared object file: No such file or directory\n",
            "2023-01-06 14:23:38.918226: W tensorflow/stream_executor/platform/default/dso_loader.cc:64] Could not load dynamic library 'libcusparse.so.11'; dlerror: libcusparse.so.11: cannot open shared object file: No such file or directory\n",
            "2023-01-06 14:23:38.918357: W tensorflow/stream_executor/platform/default/dso_loader.cc:64] Could not load dynamic library 'libcudnn.so.8'; dlerror: libcudnn.so.8: cannot open shared object file: No such file or directory\n",
            "2023-01-06 14:23:38.918371: W tensorflow/core/common_runtime/gpu/gpu_device.cc:1934] Cannot dlopen some GPU libraries. Please make sure the missing libraries mentioned above are installed properly if you would like to use GPU. Follow the guide at https://www.tensorflow.org/install/gpu for how to download and setup the required libraries for your platform.\n",
            "Skipping registering GPU devices...\n",
            "2023-01-06 14:23:38.919632: I tensorflow/core/platform/cpu_feature_guard.cc:193] This TensorFlow binary is optimized with oneAPI Deep Neural Network Library (oneDNN) to use the following CPU instructions in performance-critical operations:  AVX2 FMA\n",
            "To enable them in other operations, rebuild TensorFlow with the appropriate compiler flags.\n"
          ]
        },
        {
          "name": "stdout",
          "output_type": "stream",
          "text": [
            "Model: \"sequential\"\n",
            "_________________________________________________________________\n",
            " Layer (type)                Output Shape              Param #   \n",
            "=================================================================\n",
            " embedding_layer (Embedding)  (None, 1, 200)           80135400  \n",
            "                                                                 \n",
            " LSTM (Bidirectional)        (None, 256)               336896    \n",
            "                                                                 \n",
            " logits (Dense)              (None, 45)                11565     \n",
            "                                                                 \n",
            "=================================================================\n",
            "Total params: 80,483,861\n",
            "Trainable params: 348,461\n",
            "Non-trainable params: 80,135,400\n",
            "_________________________________________________________________\n"
          ]
        }
      ],
      "source": [
        "from tensorflow.keras.models import Sequential\n",
        "from tensorflow.keras.layers import Embedding, Dense, LSTM, Bidirectional \n",
        "from tensorflow.keras.optimizers import Adam\n",
        "\n",
        "base_layers_info = [\n",
        "    {\n",
        "        \"mlayer\": layers.Embedding,        \n",
        "        'input_dim': vocab_size,\n",
        "        \"output_dim\" : embedding_dimension,\n",
        "        \"input_length\" : 1,\n",
        "        \"weights\" : [embedding_matrix],\n",
        "        \"trainable\" : False,\n",
        "        \"name\" : \"embedding_layer\"\n",
        "    },\n",
        "    {\n",
        "        \"mlayer\": layers.Bidirectional,\n",
        "        \"layer\": LSTM(128, activation=\"tanh\"),\n",
        "        \"name\" : 'LSTM'\n",
        "    },\n",
        "    {\n",
        "        \"mlayer\": layers.Dense,\n",
        "        \"units\": num_classes,\n",
        "        \"activation\" : 'softmax',\n",
        "        'name' : 'logits'\n",
        "    }\n",
        "]\n",
        "\n",
        "base_compile_info = {\n",
        "    'optimizer': Adam(),\n",
        "    'loss': 'sparse_categorical_crossentropy',\n",
        "    'metrics': ['accuracy']\n",
        "}\n",
        "\n",
        "base_model = create_model(base_layers_info, base_compile_info)"
      ]
    },
    {
      "cell_type": "code",
      "execution_count": 49,
      "metadata": {
        "colab": {
          "base_uri": "https://localhost:8080/",
          "height": 660
        },
        "id": "ZY8zv1dvQM3A",
        "outputId": "bb30a152-4006-4880-c090-ff38e2ca14a5"
      },
      "outputs": [
        {
          "name": "stdout",
          "output_type": "stream",
          "text": [
            "Start training! \n",
            "Parameters: {'verbose': 0, 'epochs': 30, 'batch_size': 64}\n",
            "Training completed!\n",
            "Showing history...\n",
            "Displaying the following history keys: dict_keys(['loss', 'accuracy', 'val_loss', 'val_accuracy'])\n"
          ]
        },
        {
          "name": "stderr",
          "output_type": "stream",
          "text": [
            "/tmp/ipykernel_21701/3500274068.py:29: UserWarning: Matplotlib is currently using module://matplotlib_inline.backend_inline, which is a non-GUI backend, so cannot show the figure.\n",
            "  fig.show()\n"
          ]
        },
        {
          "data": {
            "image/png": "[encoded data removed]",
            "text/plain": [
              "<Figure size 640x480 with 1 Axes>"
            ]
          },
          "metadata": {},
          "output_type": "display_data"
        },
        {
          "data": {
            "image/png": "[encoded data removed]",
            "text/plain": [
              "<Figure size 640x480 with 1 Axes>"
            ]
          },
          "metadata": {},
          "output_type": "display_data"
        }
      ],
      "source": [
        "# Train\n",
        " \n",
        "base_training_info = {\n",
        "    'verbose': 0,\n",
        "    'epochs' : 30,\n",
        "    'batch_size' : 64\n",
        "}\n",
        "\n",
        "base_model = train_model(model=base_model,training_info = base_training_info, name=\"base\")"
      ]
    },
    {
      "cell_type": "markdown",
      "metadata": {
        "id": "Jl8xoLex485H"
      },
      "source": [
        "#### F1-Macro evaluation"
      ]
    },
    {
      "cell_type": "code",
      "execution_count": 50,
      "metadata": {
        "colab": {
          "base_uri": "https://localhost:8080/"
        },
        "id": "scAXLwfRJrS4",
        "outputId": "8b4ab296-a19f-4862-eb64-f2bcdaf08991"
      },
      "outputs": [
        {
          "name": "stdout",
          "output_type": "stream",
          "text": [
            "975/975 [==============================] - 3s 3ms/step - loss: 0.3591 - accuracy: 0.8910\n",
            "Model loss: 0.35907700657844543, accuracy: 0.8909662365913391\n",
            "Starting prediction: \n",
            "{'batch_size': 64, 'verbose': 1}\n",
            "Predicting on 31183 samples\n",
            "488/488 [==============================] - 2s 3ms/step\n",
            "F1_score on the validation set is: 0.7021385582569629\n",
            "Starting prediction: \n",
            "{'batch_size': 64, 'verbose': 1}\n",
            "Predicting on 15545 samples\n",
            "243/243 [==============================] - 1s 3ms/step\n",
            "F1_score on the test set is: 0.7783847353968951\n"
          ]
        }
      ],
      "source": [
        "loss, accuracy = base_model.evaluate(x_val, y_val)\n",
        "print(f\"Model loss: {loss}, accuracy: {accuracy}\")\n",
        "\n",
        "# Inference and evaluate\n",
        "\n",
        "base_score = compute_f1(base_model, x_val, y_val)\n",
        "print(f'F1_score on the validation set is: {base_score}')\n",
        "\n",
        "base_score = compute_f1(base_model, x_test, y_test)\n",
        "print(f'F1_score on the test set is: {base_score}')"
      ]
    },
    {
      "cell_type": "markdown",
      "metadata": {
        "id": "XX2nnMyoOw59"
      },
      "source": [
        "#### Sample test"
      ]
    },
    {
      "cell_type": "code",
      "execution_count": 51,
      "metadata": {
        "colab": {
          "base_uri": "https://localhost:8080/"
        },
        "id": "wv7QQ2Y0Ow59",
        "outputId": "a72fa04e-fc24-48ea-f8f5-641ea7cfeb60"
      },
      "outputs": [
        {
          "name": "stdout",
          "output_type": "stream",
          "text": [
            "1/1 [==============================] - 0s 26ms/step\n",
            "20 \t 20 \t ok \t pierre\n",
            "20 \t 20 \t ok \t vinken\n",
            "3 \t 3 \t ok \t ,\n",
            "9 \t 9 \t ok \t 61\n",
            "22 \t 22 \t ok \t years\n",
            "14 \t 14 \t ok \t old\n",
            "3 \t 3 \t ok \t ,\n",
            "18 \t 18 \t ok \t will\n",
            "34 \t 34 \t ok \t join\n",
            "10 \t 10 \t ok \t the\n",
            "19 \t 19 \t ok \t board\n",
            "13 \t 13 \t ok \t as\n",
            "10 \t 10 \t ok \t a\n",
            "14 \t 14 \t ok \t nonexecutive\n",
            "19 \t 19 \t ok \t director\n",
            "20 \t 20 \t ok \t nov.\n",
            "9 \t 9 \t ok \t 29\n",
            "6 \t 6 \t ok \t .\n",
            "20 \t 20 \t ok \t mr.\n",
            "20 \t 20 \t ok \t vinken\n",
            "39 \t 39 \t ok \t is\n",
            "19 \t 19 \t ok \t chairman\n",
            "13 \t 13 \t ok \t of\n",
            "20 \t 20 \t ok \t elsevier\n",
            "20 \t 20 \t ok \t n.v.\n",
            "3 \t 3 \t ok \t ,\n",
            "10 \t 10 \t ok \t the\n",
            "20 \t 20 \t ok \t dutch\n",
            "36 \t 36 \t ok \t publishing\n",
            "19 \t 19 \t ok \t group\n",
            "6 \t 6 \t ok \t .\n"
          ]
        }
      ],
      "source": [
        "x_sample_text = tokenizer.sequences_to_texts(x_sample)\n",
        "y_pred_sample_onehot = base_model.predict(x_sample)\n",
        "y_pred_sample = np.argmax(y_pred_sample_onehot, axis=1)\n",
        "for i in range(x_sample.size):\n",
        "    print(f\"{y_pred_sample[i]} \\t {y_sample[i]} \\t {'ok' if y_pred_sample[i]==y_sample[i] else 'ERR'} \\t {x_sample_text[i]}\")"
      ]
    },
    {
      "cell_type": "markdown",
      "metadata": {
        "id": "Jjm_29f4i8CG"
      },
      "source": [
        "## Model A: GRU"
      ]
    },
    {
      "cell_type": "markdown",
      "metadata": {
        "id": "hhyr0auV485I"
      },
      "source": [
        "GRU is a simpler alternative to LSTM's architecture, less effective but with a faster train.\n",
        "</br>Two layers architecture: a Bidirectional GRU layer and a Dense/FC layer on top. "
      ]
    },
    {
      "cell_type": "code",
      "execution_count": 52,
      "metadata": {
        "colab": {
          "base_uri": "https://localhost:8080/"
        },
        "id": "53xpFPP4485I",
        "outputId": "d0e08103-9d7f-48f2-e1bd-f60d27dab41c"
      },
      "outputs": [
        {
          "name": "stdout",
          "output_type": "stream",
          "text": [
            "Model: \"sequential_1\"\n",
            "_________________________________________________________________\n",
            " Layer (type)                Output Shape              Param #   \n",
            "=================================================================\n",
            " embedding (Embedding)       (None, 1, 200)            80135400  \n",
            "                                                                 \n",
            " GRU (Bidirectional)         (None, 64)                44928     \n",
            "                                                                 \n",
            " logits (Dense)              (None, 45)                2925      \n",
            "                                                                 \n",
            "=================================================================\n",
            "Total params: 80,183,253\n",
            "Trainable params: 47,853\n",
            "Non-trainable params: 80,135,400\n",
            "_________________________________________________________________\n"
          ]
        }
      ],
      "source": [
        "# Create model\n",
        "\n",
        "from tensorflow.keras.layers import GRU\n",
        "\n",
        "gru_layers_info = [\n",
        "    {\n",
        "        \"mlayer\": layers.Embedding,\n",
        "        \"output_dim\" : embedding_dimension,\n",
        "        \"input_dim\" : vocab_size,\n",
        "        \"input_length\" : 1,\n",
        "        \"weights\" : [embedding_matrix],\n",
        "        \"trainable\" : False,\n",
        "        \"name\" : \"embedding\"\n",
        "    },\n",
        "    {\n",
        "        \"mlayer\": layers.Bidirectional,\n",
        "        \"layer\": GRU(32, activation=\"tanh\") , \n",
        "        'name' : 'GRU'     \n",
        "    },\n",
        "    {\n",
        "        \"mlayer\": layers.Dense,\n",
        "        \"units\":num_classes,\n",
        "        \"activation\" : 'softmax',\n",
        "        'name' : 'logits'\n",
        "    }\n",
        "]\n",
        "\n",
        "gru_compile_info = {\n",
        "    'optimizer': Adam(learning_rate=1e-3),\n",
        "    'loss': 'sparse_categorical_crossentropy',\n",
        "    'metrics': ['accuracy']\n",
        "}\n",
        "\n",
        "gru_model = create_model(gru_layers_info, gru_compile_info)"
      ]
    },
    {
      "cell_type": "code",
      "execution_count": 53,
      "metadata": {
        "colab": {
          "base_uri": "https://localhost:8080/",
          "height": 660
        },
        "id": "hPcXmqzj485J",
        "outputId": "40420c23-ee0d-4fba-8284-b6cfc19461eb"
      },
      "outputs": [
        {
          "name": "stdout",
          "output_type": "stream",
          "text": [
            "Start training! \n",
            "Parameters: {'verbose': 0, 'epochs': 30, 'batch_size': 64}\n",
            "Training completed!\n",
            "Showing history...\n",
            "Displaying the following history keys: dict_keys(['loss', 'accuracy', 'val_loss', 'val_accuracy'])\n"
          ]
        },
        {
          "name": "stderr",
          "output_type": "stream",
          "text": [
            "/tmp/ipykernel_21701/3500274068.py:29: UserWarning: Matplotlib is currently using module://matplotlib_inline.backend_inline, which is a non-GUI backend, so cannot show the figure.\n",
            "  fig.show()\n"
          ]
        },
        {
          "data": {
            "image/png": "[encoded data removed]",
            "text/plain": [
              "<Figure size 640x480 with 1 Axes>"
            ]
          },
          "metadata": {},
          "output_type": "display_data"
        },
        {
          "data": {
            "image/png": "[encoded data removed]",
            "text/plain": [
              "<Figure size 640x480 with 1 Axes>"
            ]
          },
          "metadata": {},
          "output_type": "display_data"
        }
      ],
      "source": [
        "# Train\n",
        " \n",
        "gru_training_info = {\n",
        "    'verbose': 0,\n",
        "    'epochs' : 30,\n",
        "    'batch_size' : 64\n",
        "}\n",
        "\n",
        "gru_model = train_model(model=gru_model,training_info = gru_training_info, name=\"gru\")"
      ]
    },
    {
      "cell_type": "markdown",
      "metadata": {
        "id": "iYuiRWK9Ow5-"
      },
      "source": [
        "#### F1-Macro evaluation"
      ]
    },
    {
      "cell_type": "code",
      "execution_count": 54,
      "metadata": {
        "colab": {
          "base_uri": "https://localhost:8080/"
        },
        "id": "xZo7nP0WOw5-",
        "outputId": "9c735f54-2e89-49f3-8cfd-ac26638c0691"
      },
      "outputs": [
        {
          "name": "stdout",
          "output_type": "stream",
          "text": [
            "975/975 [==============================] - 2s 2ms/step - loss: 0.3753 - accuracy: 0.8862\n",
            "Model loss: 0.37529492378234863, accuracy: 0.8861879706382751\n",
            "Starting prediction: \n",
            "{'batch_size': 64, 'verbose': 1}\n",
            "Predicting on 31183 samples\n",
            "488/488 [==============================] - 2s 2ms/step\n",
            "F1_score on the validation set is: 0.7159728999838707\n",
            "Starting prediction: \n",
            "{'batch_size': 64, 'verbose': 1}\n",
            "Predicting on 15545 samples\n",
            "243/243 [==============================] - 1s 2ms/step\n",
            "F1_score on the test set is: 0.797299904507028\n"
          ]
        }
      ],
      "source": [
        "loss, accuracy = gru_model.evaluate(x_val, y_val)\n",
        "print(f\"Model loss: {loss}, accuracy: {accuracy}\")\n",
        "\n",
        "# Inference and evaluate\n",
        "\n",
        "gru_score = compute_f1(gru_model, x_val, y_val)\n",
        "print(f'F1_score on the validation set is: {gru_score}')\n",
        "\n",
        "gru_score = compute_f1(gru_model, x_test, y_test)\n",
        "print(f'F1_score on the test set is: {gru_score}')"
      ]
    },
    {
      "cell_type": "markdown",
      "metadata": {
        "id": "6bM9ZWFAi8CG"
      },
      "source": [
        "## Model B: 2x LSTM "
      ]
    },
    {
      "cell_type": "markdown",
      "metadata": {
        "id": "Acw-9iYOHFEf"
      },
      "source": [
        "A dictionary with some hyperparameters to test on the LSTM layers. At the end of the process, for each of the models, the f1_macro will be printed."
      ]
    },
    {
      "cell_type": "code",
      "execution_count": 55,
      "metadata": {
        "id": "Bizr1VqXHFEg"
      },
      "outputs": [],
      "source": [
        "hp_b = {\n",
        "    'hp1_1' : {\n",
        "        'lstm_1' : {\n",
        "            'units' : 14,\n",
        "            'return_sequences' : True,\n",
        "            'dropout' : 0.1\n",
        "        },\n",
        "        'lstm_2' : {\n",
        "            'units' : 28,\n",
        "            'return_sequences' : False,\n",
        "            'dropout' : 0.1\n",
        "        },\n",
        "        'learning_rate' : 1.5e-3\n",
        "    },\n",
        "    'hp1_2' : {\n",
        "        'lstm_1' : {\n",
        "            'units' : 14,\n",
        "            'return_sequences' : True,\n",
        "            'dropout' : 0\n",
        "        },\n",
        "        'lstm_2' : {\n",
        "            'units' : 28,\n",
        "            'return_sequences' : False,\n",
        "            'dropout' : 0\n",
        "        },\n",
        "        'learning_rate' : 1.5e-3\n",
        "    },\n",
        "    'hp2_1' : {\n",
        "        'lstm_1' : {\n",
        "            'units' : 28,\n",
        "            'return_sequences' : True,\n",
        "            'dropout' : 0.1\n",
        "        },\n",
        "        'lstm_2' : {\n",
        "            'units' : 14,\n",
        "            'return_sequences' : False,\n",
        "            'dropout' : 0.1\n",
        "        },\n",
        "        'learning_rate' : 1.5e-3\n",
        "    },\n",
        "    'hp2_2' : {\n",
        "        'lstm_1' : {\n",
        "            'units' : 28,\n",
        "            'return_sequences' : True,\n",
        "            'dropout' : 0\n",
        "        },\n",
        "        'lstm_2' : {\n",
        "            'units' : 14,\n",
        "            'return_sequences' : False,\n",
        "            'dropout' : 0\n",
        "        },\n",
        "        'learning_rate' : 1.5e-3\n",
        "    },\n",
        "    'hp3' : {\n",
        "        'lstm_1' : {\n",
        "            'units' : 128,\n",
        "            'return_sequences' : True,\n",
        "            'dropout' : 0\n",
        "        },\n",
        "        'lstm_2' : {\n",
        "            'units' : 128,\n",
        "            'return_sequences' : False,\n",
        "            'dropout' : 0\n",
        "        },\n",
        "        'learning_rate' : 1.0e-3\n",
        "    }\n",
        "    \n",
        "}"
      ]
    },
    {
      "cell_type": "markdown",
      "metadata": {
        "id": "OC5b5l9XHFEg"
      },
      "source": [
        "This array will store all the f1_scores calculated with the compute_f1 function."
      ]
    },
    {
      "cell_type": "code",
      "execution_count": 56,
      "metadata": {
        "id": "loOMyX4wHFEg"
      },
      "outputs": [],
      "source": [
        "results_x2lstm = []"
      ]
    },
    {
      "cell_type": "markdown",
      "metadata": {
        "id": "9MPBJ20AHFEh"
      },
      "source": [
        "Setup of the loop for creation, fit, evaluation of the 2xLSTM models with the dictionary of hyperparameters."
      ]
    },
    {
      "cell_type": "code",
      "execution_count": 57,
      "metadata": {
        "colab": {
          "base_uri": "https://localhost:8080/"
        },
        "id": "hVqg81vai8CG",
        "outputId": "06f3a43e-fe66-44ee-dfd8-722daf90e329"
      },
      "outputs": [
        {
          "name": "stdout",
          "output_type": "stream",
          "text": [
            "Model: \"sequential_2\"\n",
            "_________________________________________________________________\n",
            " Layer (type)                Output Shape              Param #   \n",
            "=================================================================\n",
            " embedding (Embedding)       (None, 1, 200)            80135400  \n",
            "                                                                 \n",
            " bidirectional (Bidirectiona  (None, 1, 28)            24080     \n",
            " l)                                                              \n",
            "                                                                 \n",
            " bidirectional_1 (Bidirectio  (None, 56)               12768     \n",
            " nal)                                                            \n",
            "                                                                 \n",
            " dense (Dense)               (None, 45)                2565      \n",
            "                                                                 \n",
            "=================================================================\n",
            "Total params: 80,174,813\n",
            "Trainable params: 39,413\n",
            "Non-trainable params: 80,135,400\n",
            "_________________________________________________________________\n",
            "Epoch 1/30\n",
            "370/370 [==============================] - 12s 16ms/step - loss: 1.9084 - accuracy: 0.5094 - val_loss: 0.9743 - val_accuracy: 0.7384\n",
            "Epoch 2/30\n",
            "370/370 [==============================] - 4s 11ms/step - loss: 0.8340 - accuracy: 0.7669 - val_loss: 0.6855 - val_accuracy: 0.8010\n",
            "Epoch 3/30\n",
            "370/370 [==============================] - 4s 11ms/step - loss: 0.6556 - accuracy: 0.8102 - val_loss: 0.5791 - val_accuracy: 0.8249\n",
            "Epoch 4/30\n",
            "370/370 [==============================] - 4s 11ms/step - loss: 0.5711 - accuracy: 0.8319 - val_loss: 0.5211 - val_accuracy: 0.8412\n",
            "Epoch 5/30\n",
            "370/370 [==============================] - 4s 12ms/step - loss: 0.5196 - accuracy: 0.8448 - val_loss: 0.4870 - val_accuracy: 0.8493\n",
            "Epoch 6/30\n",
            "370/370 [==============================] - 4s 11ms/step - loss: 0.4825 - accuracy: 0.8547 - val_loss: 0.4649 - val_accuracy: 0.8542\n",
            "Epoch 7/30\n",
            "370/370 [==============================] - 4s 10ms/step - loss: 0.4590 - accuracy: 0.8594 - val_loss: 0.4499 - val_accuracy: 0.8590\n",
            "Epoch 8/30\n",
            "370/370 [==============================] - 4s 10ms/step - loss: 0.4373 - accuracy: 0.8651 - val_loss: 0.4391 - val_accuracy: 0.8608\n",
            "Epoch 9/30\n",
            "370/370 [==============================] - 4s 11ms/step - loss: 0.4214 - accuracy: 0.8690 - val_loss: 0.4285 - val_accuracy: 0.8640\n",
            "Epoch 10/30\n",
            "370/370 [==============================] - 4s 10ms/step - loss: 0.4077 - accuracy: 0.8727 - val_loss: 0.4162 - val_accuracy: 0.8674\n",
            "Epoch 11/30\n",
            "370/370 [==============================] - 4s 11ms/step - loss: 0.3958 - accuracy: 0.8754 - val_loss: 0.4072 - val_accuracy: 0.8697\n",
            "Epoch 12/30\n",
            "370/370 [==============================] - 4s 12ms/step - loss: 0.3869 - accuracy: 0.8766 - val_loss: 0.4001 - val_accuracy: 0.8754\n",
            "Epoch 13/30\n",
            "370/370 [==============================] - 4s 11ms/step - loss: 0.3784 - accuracy: 0.8791 - val_loss: 0.3937 - val_accuracy: 0.8739\n",
            "Epoch 14/30\n",
            "370/370 [==============================] - 4s 11ms/step - loss: 0.3720 - accuracy: 0.8790 - val_loss: 0.3902 - val_accuracy: 0.8719\n",
            "Epoch 15/30\n",
            "370/370 [==============================] - 4s 10ms/step - loss: 0.3661 - accuracy: 0.8813 - val_loss: 0.3849 - val_accuracy: 0.8760\n",
            "Epoch 16/30\n",
            "370/370 [==============================] - 4s 10ms/step - loss: 0.3593 - accuracy: 0.8827 - val_loss: 0.3847 - val_accuracy: 0.8743\n",
            "Epoch 17/30\n",
            "370/370 [==============================] - 4s 11ms/step - loss: 0.3513 - accuracy: 0.8849 - val_loss: 0.3821 - val_accuracy: 0.8750\n",
            "Epoch 18/30\n",
            "370/370 [==============================] - 4s 10ms/step - loss: 0.3478 - accuracy: 0.8869 - val_loss: 0.3788 - val_accuracy: 0.8770\n",
            "Epoch 19/30\n",
            "370/370 [==============================] - 4s 10ms/step - loss: 0.3434 - accuracy: 0.8869 - val_loss: 0.3771 - val_accuracy: 0.8765\n",
            "Epoch 20/30\n",
            "370/370 [==============================] - 4s 10ms/step - loss: 0.3396 - accuracy: 0.8868 - val_loss: 0.3783 - val_accuracy: 0.8781\n",
            "Epoch 21/30\n",
            "370/370 [==============================] - 4s 10ms/step - loss: 0.3339 - accuracy: 0.8881 - val_loss: 0.3746 - val_accuracy: 0.8771\n",
            "Epoch 22/30\n",
            "370/370 [==============================] - 4s 10ms/step - loss: 0.3312 - accuracy: 0.8889 - val_loss: 0.3736 - val_accuracy: 0.8774\n",
            "Epoch 23/30\n",
            "370/370 [==============================] - 4s 10ms/step - loss: 0.3259 - accuracy: 0.8925 - val_loss: 0.3730 - val_accuracy: 0.8805\n",
            "Epoch 24/30\n",
            "370/370 [==============================] - 4s 10ms/step - loss: 0.3248 - accuracy: 0.8910 - val_loss: 0.3724 - val_accuracy: 0.8823\n",
            "Epoch 25/30\n",
            "370/370 [==============================] - 4s 11ms/step - loss: 0.3237 - accuracy: 0.8923 - val_loss: 0.3725 - val_accuracy: 0.8815\n",
            "Epoch 26/30\n",
            "370/370 [==============================] - 4s 11ms/step - loss: 0.3219 - accuracy: 0.8918 - val_loss: 0.3667 - val_accuracy: 0.8825\n",
            "Epoch 27/30\n",
            "370/370 [==============================] - 4s 10ms/step - loss: 0.3135 - accuracy: 0.8953 - val_loss: 0.3715 - val_accuracy: 0.8812\n",
            "Epoch 28/30\n",
            "370/370 [==============================] - 4s 11ms/step - loss: 0.3151 - accuracy: 0.8941 - val_loss: 0.3718 - val_accuracy: 0.8835\n",
            "Epoch 29/30\n",
            "370/370 [==============================] - 4s 10ms/step - loss: 0.3137 - accuracy: 0.8947 - val_loss: 0.3679 - val_accuracy: 0.8806\n",
            "Epoch 30/30\n",
            "370/370 [==============================] - 4s 10ms/step - loss: 0.3103 - accuracy: 0.8970 - val_loss: 0.3652 - val_accuracy: 0.8827\n",
            "======================================== hp1_1 ========================================\n",
            "975/975 [==============================] - 3s 3ms/step - loss: 0.3652 - accuracy: 0.8827\n",
            "Model loss: 0.3652443587779999, accuracy: 0.8826925158500671\n",
            "Starting prediction: \n",
            "{'batch_size': 64, 'verbose': 1}\n",
            "Predicting on 31183 samples\n",
            "488/488 [==============================] - 2s 3ms/step\n",
            "F1_score on the validation set is: 0.6943137553757613\n",
            "Starting prediction: \n",
            "{'batch_size': 64, 'verbose': 1}\n",
            "Predicting on 15545 samples\n",
            "243/243 [==============================] - 1s 3ms/step\n",
            "F1_score on the test set is: 0.7710120789162613\n",
            "Model: \"sequential_3\"\n",
            "_________________________________________________________________\n",
            " Layer (type)                Output Shape              Param #   \n",
            "=================================================================\n",
            " embedding_1 (Embedding)     (None, 1, 200)            80135400  \n",
            "                                                                 \n",
            " bidirectional_2 (Bidirectio  (None, 1, 28)            24080     \n",
            " nal)                                                            \n",
            "                                                                 \n",
            " bidirectional_3 (Bidirectio  (None, 56)               12768     \n",
            " nal)                                                            \n",
            "                                                                 \n",
            " dense_1 (Dense)             (None, 45)                2565      \n",
            "                                                                 \n",
            "=================================================================\n",
            "Total params: 80,174,813\n",
            "Trainable params: 39,413\n",
            "Non-trainable params: 80,135,400\n",
            "_________________________________________________________________\n",
            "Epoch 1/30\n",
            "370/370 [==============================] - 11s 15ms/step - loss: 1.8110 - accuracy: 0.5392 - val_loss: 0.9215 - val_accuracy: 0.7578\n",
            "Epoch 2/30\n",
            "370/370 [==============================] - 4s 10ms/step - loss: 0.7110 - accuracy: 0.8050 - val_loss: 0.6428 - val_accuracy: 0.8149\n",
            "Epoch 3/30\n",
            "370/370 [==============================] - 4s 10ms/step - loss: 0.5311 - accuracy: 0.8500 - val_loss: 0.5423 - val_accuracy: 0.8369\n",
            "Epoch 4/30\n",
            "370/370 [==============================] - 4s 10ms/step - loss: 0.4499 - accuracy: 0.8683 - val_loss: 0.4943 - val_accuracy: 0.8500\n",
            "Epoch 5/30\n",
            "370/370 [==============================] - 3s 9ms/step - loss: 0.4006 - accuracy: 0.8809 - val_loss: 0.4624 - val_accuracy: 0.8585\n",
            "Epoch 6/30\n",
            "370/370 [==============================] - 4s 10ms/step - loss: 0.3642 - accuracy: 0.8907 - val_loss: 0.4388 - val_accuracy: 0.8660\n",
            "Epoch 7/30\n",
            "370/370 [==============================] - 4s 10ms/step - loss: 0.3387 - accuracy: 0.8966 - val_loss: 0.4256 - val_accuracy: 0.8694\n",
            "Epoch 8/30\n",
            "370/370 [==============================] - 4s 11ms/step - loss: 0.3181 - accuracy: 0.9002 - val_loss: 0.4217 - val_accuracy: 0.8689\n",
            "Epoch 9/30\n",
            "370/370 [==============================] - 4s 10ms/step - loss: 0.3017 - accuracy: 0.9049 - val_loss: 0.4108 - val_accuracy: 0.8734\n",
            "Epoch 10/30\n",
            "370/370 [==============================] - 4s 10ms/step - loss: 0.2886 - accuracy: 0.9065 - val_loss: 0.4049 - val_accuracy: 0.8740\n",
            "Epoch 11/30\n",
            "370/370 [==============================] - 4s 11ms/step - loss: 0.2774 - accuracy: 0.9082 - val_loss: 0.4066 - val_accuracy: 0.8768\n",
            "Epoch 12/30\n",
            "370/370 [==============================] - 4s 11ms/step - loss: 0.2672 - accuracy: 0.9111 - val_loss: 0.4093 - val_accuracy: 0.8790\n",
            "Epoch 13/30\n",
            "370/370 [==============================] - 5s 13ms/step - loss: 0.2589 - accuracy: 0.9142 - val_loss: 0.4036 - val_accuracy: 0.8786\n",
            "Epoch 14/30\n",
            "370/370 [==============================] - 4s 11ms/step - loss: 0.2522 - accuracy: 0.9135 - val_loss: 0.4007 - val_accuracy: 0.8784\n",
            "Epoch 15/30\n",
            "370/370 [==============================] - 4s 12ms/step - loss: 0.2456 - accuracy: 0.9152 - val_loss: 0.4043 - val_accuracy: 0.8802\n",
            "Epoch 16/30\n",
            "370/370 [==============================] - 4s 11ms/step - loss: 0.2396 - accuracy: 0.9170 - val_loss: 0.4110 - val_accuracy: 0.8729\n",
            "Epoch 17/30\n",
            "370/370 [==============================] - 4s 10ms/step - loss: 0.2352 - accuracy: 0.9175 - val_loss: 0.4022 - val_accuracy: 0.8811\n",
            "Epoch 18/30\n",
            "370/370 [==============================] - 4s 10ms/step - loss: 0.2307 - accuracy: 0.9194 - val_loss: 0.4075 - val_accuracy: 0.8792\n",
            "Epoch 19/30\n",
            "370/370 [==============================] - 4s 10ms/step - loss: 0.2269 - accuracy: 0.9206 - val_loss: 0.4115 - val_accuracy: 0.8789\n",
            "Epoch 20/30\n",
            "370/370 [==============================] - 4s 10ms/step - loss: 0.2218 - accuracy: 0.9214 - val_loss: 0.4128 - val_accuracy: 0.8833\n",
            "Epoch 21/30\n",
            "370/370 [==============================] - 4s 10ms/step - loss: 0.2187 - accuracy: 0.9218 - val_loss: 0.4105 - val_accuracy: 0.8827\n",
            "Epoch 22/30\n",
            "370/370 [==============================] - 4s 10ms/step - loss: 0.2147 - accuracy: 0.9228 - val_loss: 0.4184 - val_accuracy: 0.8783\n",
            "Epoch 23/30\n",
            "370/370 [==============================] - 4s 10ms/step - loss: 0.2125 - accuracy: 0.9227 - val_loss: 0.4199 - val_accuracy: 0.8782\n",
            "Epoch 24/30\n",
            "370/370 [==============================] - 4s 10ms/step - loss: 0.2101 - accuracy: 0.9226 - val_loss: 0.4212 - val_accuracy: 0.8804\n",
            "Epoch 25/30\n",
            "370/370 [==============================] - 4s 10ms/step - loss: 0.2068 - accuracy: 0.9258 - val_loss: 0.4212 - val_accuracy: 0.8814\n",
            "Epoch 26/30\n",
            "370/370 [==============================] - 4s 10ms/step - loss: 0.2056 - accuracy: 0.9246 - val_loss: 0.4265 - val_accuracy: 0.8786\n",
            "Epoch 27/30\n",
            "370/370 [==============================] - 4s 10ms/step - loss: 0.2033 - accuracy: 0.9243 - val_loss: 0.4275 - val_accuracy: 0.8801\n",
            "Epoch 28/30\n",
            "370/370 [==============================] - 4s 10ms/step - loss: 0.2010 - accuracy: 0.9259 - val_loss: 0.4268 - val_accuracy: 0.8805\n",
            "Epoch 29/30\n",
            "370/370 [==============================] - 4s 10ms/step - loss: 0.1987 - accuracy: 0.9256 - val_loss: 0.4269 - val_accuracy: 0.8832\n",
            "Epoch 30/30\n",
            "370/370 [==============================] - 4s 10ms/step - loss: 0.1979 - accuracy: 0.9259 - val_loss: 0.4317 - val_accuracy: 0.8815\n",
            "======================================== hp1_2 ========================================\n",
            "975/975 [==============================] - 3s 3ms/step - loss: 0.4317 - accuracy: 0.8815\n",
            "Model loss: 0.43167099356651306, accuracy: 0.8814738988876343\n",
            "Starting prediction: \n",
            "{'batch_size': 64, 'verbose': 1}\n",
            "Predicting on 31183 samples\n",
            "488/488 [==============================] - 3s 3ms/step\n",
            "F1_score on the validation set is: 0.6985520683412494\n",
            "Starting prediction: \n",
            "{'batch_size': 64, 'verbose': 1}\n",
            "Predicting on 15545 samples\n",
            "243/243 [==============================] - 1s 3ms/step\n",
            "F1_score on the test set is: 0.7820999601777181\n",
            "Model: \"sequential_4\"\n",
            "_________________________________________________________________\n",
            " Layer (type)                Output Shape              Param #   \n",
            "=================================================================\n",
            " embedding_2 (Embedding)     (None, 1, 200)            80135400  \n",
            "                                                                 \n",
            " bidirectional_4 (Bidirectio  (None, 1, 56)            51296     \n",
            " nal)                                                            \n",
            "                                                                 \n",
            " bidirectional_5 (Bidirectio  (None, 28)               7952      \n",
            " nal)                                                            \n",
            "                                                                 \n",
            " dense_2 (Dense)             (None, 45)                1305      \n",
            "                                                                 \n",
            "=================================================================\n",
            "Total params: 80,195,953\n",
            "Trainable params: 60,553\n",
            "Non-trainable params: 80,135,400\n",
            "_________________________________________________________________\n",
            "Epoch 1/30\n",
            "370/370 [==============================] - 12s 17ms/step - loss: 1.8782 - accuracy: 0.5416 - val_loss: 1.0081 - val_accuracy: 0.7429\n",
            "Epoch 2/30\n",
            "370/370 [==============================] - 5s 15ms/step - loss: 0.8359 - accuracy: 0.7821 - val_loss: 0.7014 - val_accuracy: 0.8072\n",
            "Epoch 3/30\n",
            "370/370 [==============================] - 5s 13ms/step - loss: 0.6350 - accuracy: 0.8260 - val_loss: 0.5767 - val_accuracy: 0.8311\n",
            "Epoch 4/30\n",
            "370/370 [==============================] - 5s 12ms/step - loss: 0.5332 - accuracy: 0.8494 - val_loss: 0.5083 - val_accuracy: 0.8495\n",
            "Epoch 5/30\n",
            "370/370 [==============================] - 4s 12ms/step - loss: 0.4715 - accuracy: 0.8628 - val_loss: 0.4678 - val_accuracy: 0.8604\n",
            "Epoch 6/30\n",
            "370/370 [==============================] - 5s 12ms/step - loss: 0.4305 - accuracy: 0.8722 - val_loss: 0.4386 - val_accuracy: 0.8666\n",
            "Epoch 7/30\n",
            "370/370 [==============================] - 5s 13ms/step - loss: 0.4005 - accuracy: 0.8789 - val_loss: 0.4245 - val_accuracy: 0.8694\n",
            "Epoch 8/30\n",
            "370/370 [==============================] - 5s 13ms/step - loss: 0.3785 - accuracy: 0.8837 - val_loss: 0.4079 - val_accuracy: 0.8749\n",
            "Epoch 9/30\n",
            "370/370 [==============================] - 5s 13ms/step - loss: 0.3616 - accuracy: 0.8880 - val_loss: 0.3974 - val_accuracy: 0.8765\n",
            "Epoch 10/30\n",
            "370/370 [==============================] - 4s 12ms/step - loss: 0.3469 - accuracy: 0.8918 - val_loss: 0.3901 - val_accuracy: 0.8801\n",
            "Epoch 11/30\n",
            "370/370 [==============================] - 4s 12ms/step - loss: 0.3341 - accuracy: 0.8938 - val_loss: 0.3882 - val_accuracy: 0.8786\n",
            "Epoch 12/30\n",
            "370/370 [==============================] - 4s 12ms/step - loss: 0.3246 - accuracy: 0.8970 - val_loss: 0.3820 - val_accuracy: 0.8809\n",
            "Epoch 13/30\n",
            "370/370 [==============================] - 4s 12ms/step - loss: 0.3163 - accuracy: 0.8965 - val_loss: 0.3742 - val_accuracy: 0.8822\n",
            "Epoch 14/30\n",
            "370/370 [==============================] - 4s 11ms/step - loss: 0.3132 - accuracy: 0.8991 - val_loss: 0.3716 - val_accuracy: 0.8803\n",
            "Epoch 15/30\n",
            "370/370 [==============================] - 5s 12ms/step - loss: 0.3052 - accuracy: 0.9002 - val_loss: 0.3680 - val_accuracy: 0.8824\n",
            "Epoch 16/30\n",
            "370/370 [==============================] - 4s 11ms/step - loss: 0.2984 - accuracy: 0.9014 - val_loss: 0.3688 - val_accuracy: 0.8831\n",
            "Epoch 17/30\n",
            "370/370 [==============================] - 4s 11ms/step - loss: 0.2938 - accuracy: 0.9030 - val_loss: 0.3664 - val_accuracy: 0.8846\n",
            "Epoch 18/30\n",
            "370/370 [==============================] - 4s 11ms/step - loss: 0.2856 - accuracy: 0.9064 - val_loss: 0.3637 - val_accuracy: 0.8849\n",
            "Epoch 19/30\n",
            "370/370 [==============================] - 4s 12ms/step - loss: 0.2872 - accuracy: 0.9034 - val_loss: 0.3662 - val_accuracy: 0.8838\n",
            "Epoch 20/30\n",
            "370/370 [==============================] - 4s 11ms/step - loss: 0.2814 - accuracy: 0.9044 - val_loss: 0.3649 - val_accuracy: 0.8832\n",
            "Epoch 21/30\n",
            "370/370 [==============================] - 4s 11ms/step - loss: 0.2771 - accuracy: 0.9058 - val_loss: 0.3641 - val_accuracy: 0.8843\n",
            "Epoch 22/30\n",
            "370/370 [==============================] - 4s 12ms/step - loss: 0.2739 - accuracy: 0.9084 - val_loss: 0.3635 - val_accuracy: 0.8836\n",
            "Epoch 23/30\n",
            "370/370 [==============================] - 4s 11ms/step - loss: 0.2728 - accuracy: 0.9079 - val_loss: 0.3610 - val_accuracy: 0.8879\n",
            "Epoch 24/30\n",
            "370/370 [==============================] - 4s 11ms/step - loss: 0.2701 - accuracy: 0.9080 - val_loss: 0.3629 - val_accuracy: 0.8883\n",
            "Epoch 25/30\n",
            "370/370 [==============================] - 4s 11ms/step - loss: 0.2647 - accuracy: 0.9099 - val_loss: 0.3621 - val_accuracy: 0.8861\n",
            "Epoch 26/30\n",
            "370/370 [==============================] - 4s 12ms/step - loss: 0.2646 - accuracy: 0.9097 - val_loss: 0.3634 - val_accuracy: 0.8866\n",
            "Epoch 27/30\n",
            "370/370 [==============================] - 4s 12ms/step - loss: 0.2618 - accuracy: 0.9100 - val_loss: 0.3648 - val_accuracy: 0.8863\n",
            "Epoch 28/30\n",
            "370/370 [==============================] - 4s 11ms/step - loss: 0.2595 - accuracy: 0.9113 - val_loss: 0.3617 - val_accuracy: 0.8874\n",
            "Epoch 29/30\n",
            "370/370 [==============================] - 4s 11ms/step - loss: 0.2569 - accuracy: 0.9116 - val_loss: 0.3602 - val_accuracy: 0.8887\n",
            "Epoch 30/30\n",
            "370/370 [==============================] - 4s 11ms/step - loss: 0.2545 - accuracy: 0.9122 - val_loss: 0.3627 - val_accuracy: 0.8880\n",
            "======================================== hp2_1 ========================================\n",
            "975/975 [==============================] - 3s 3ms/step - loss: 0.3627 - accuracy: 0.8880\n",
            "Model loss: 0.3626639246940613, accuracy: 0.8879838585853577\n",
            "Starting prediction: \n",
            "{'batch_size': 64, 'verbose': 1}\n",
            "Predicting on 31183 samples\n",
            "488/488 [==============================] - 3s 3ms/step\n",
            "F1_score on the validation set is: 0.7158189515444253\n",
            "Starting prediction: \n",
            "{'batch_size': 64, 'verbose': 1}\n",
            "Predicting on 15545 samples\n",
            "243/243 [==============================] - 1s 3ms/step\n",
            "F1_score on the test set is: 0.783907137981553\n",
            "Model: \"sequential_5\"\n",
            "_________________________________________________________________\n",
            " Layer (type)                Output Shape              Param #   \n",
            "=================================================================\n",
            " embedding_3 (Embedding)     (None, 1, 200)            80135400  \n",
            "                                                                 \n",
            " bidirectional_6 (Bidirectio  (None, 1, 56)            51296     \n",
            " nal)                                                            \n",
            "                                                                 \n",
            " bidirectional_7 (Bidirectio  (None, 28)               7952      \n",
            " nal)                                                            \n",
            "                                                                 \n",
            " dense_3 (Dense)             (None, 45)                1305      \n",
            "                                                                 \n",
            "=================================================================\n",
            "Total params: 80,195,953\n",
            "Trainable params: 60,553\n",
            "Non-trainable params: 80,135,400\n",
            "_________________________________________________________________\n",
            "Epoch 1/30\n",
            "370/370 [==============================] - 11s 14ms/step - loss: 1.7961 - accuracy: 0.5706 - val_loss: 0.9565 - val_accuracy: 0.7623\n",
            "Epoch 2/30\n",
            "370/370 [==============================] - 4s 11ms/step - loss: 0.7224 - accuracy: 0.8162 - val_loss: 0.6497 - val_accuracy: 0.8212\n",
            "Epoch 3/30\n",
            "370/370 [==============================] - 4s 10ms/step - loss: 0.5166 - accuracy: 0.8583 - val_loss: 0.5280 - val_accuracy: 0.8491\n",
            "Epoch 4/30\n",
            "370/370 [==============================] - 4s 10ms/step - loss: 0.4193 - accuracy: 0.8819 - val_loss: 0.4681 - val_accuracy: 0.8639\n",
            "Epoch 5/30\n",
            "370/370 [==============================] - 4s 10ms/step - loss: 0.3616 - accuracy: 0.8949 - val_loss: 0.4335 - val_accuracy: 0.8709\n",
            "Epoch 6/30\n",
            "370/370 [==============================] - 4s 10ms/step - loss: 0.3231 - accuracy: 0.9030 - val_loss: 0.4120 - val_accuracy: 0.8745\n",
            "Epoch 7/30\n",
            "370/370 [==============================] - 4s 10ms/step - loss: 0.2978 - accuracy: 0.9079 - val_loss: 0.4019 - val_accuracy: 0.8746\n",
            "Epoch 8/30\n",
            "370/370 [==============================] - 4s 10ms/step - loss: 0.2770 - accuracy: 0.9125 - val_loss: 0.3974 - val_accuracy: 0.8743\n",
            "Epoch 9/30\n",
            "370/370 [==============================] - 4s 10ms/step - loss: 0.2623 - accuracy: 0.9153 - val_loss: 0.3857 - val_accuracy: 0.8772\n",
            "Epoch 10/30\n",
            "370/370 [==============================] - 4s 10ms/step - loss: 0.2505 - accuracy: 0.9170 - val_loss: 0.3906 - val_accuracy: 0.8766\n",
            "Epoch 11/30\n",
            "370/370 [==============================] - 4s 10ms/step - loss: 0.2411 - accuracy: 0.9183 - val_loss: 0.3887 - val_accuracy: 0.8796\n",
            "Epoch 12/30\n",
            "370/370 [==============================] - 4s 10ms/step - loss: 0.2336 - accuracy: 0.9200 - val_loss: 0.3920 - val_accuracy: 0.8804\n",
            "Epoch 13/30\n",
            "370/370 [==============================] - 4s 10ms/step - loss: 0.2271 - accuracy: 0.9217 - val_loss: 0.3834 - val_accuracy: 0.8798\n",
            "Epoch 14/30\n",
            "370/370 [==============================] - 4s 10ms/step - loss: 0.2222 - accuracy: 0.9215 - val_loss: 0.3840 - val_accuracy: 0.8763\n",
            "Epoch 15/30\n",
            "370/370 [==============================] - 4s 10ms/step - loss: 0.2160 - accuracy: 0.9240 - val_loss: 0.3850 - val_accuracy: 0.8798\n",
            "Epoch 16/30\n",
            "370/370 [==============================] - 4s 10ms/step - loss: 0.2121 - accuracy: 0.9248 - val_loss: 0.3889 - val_accuracy: 0.8844\n",
            "Epoch 17/30\n",
            "370/370 [==============================] - 4s 10ms/step - loss: 0.2088 - accuracy: 0.9256 - val_loss: 0.3796 - val_accuracy: 0.8859\n",
            "Epoch 18/30\n",
            "370/370 [==============================] - 4s 10ms/step - loss: 0.2053 - accuracy: 0.9262 - val_loss: 0.3857 - val_accuracy: 0.8831\n",
            "Epoch 19/30\n",
            "370/370 [==============================] - 4s 10ms/step - loss: 0.2022 - accuracy: 0.9269 - val_loss: 0.3883 - val_accuracy: 0.8847\n",
            "Epoch 20/30\n",
            "370/370 [==============================] - 4s 10ms/step - loss: 0.1989 - accuracy: 0.9266 - val_loss: 0.3904 - val_accuracy: 0.8826\n",
            "Epoch 21/30\n",
            "370/370 [==============================] - 4s 10ms/step - loss: 0.1968 - accuracy: 0.9279 - val_loss: 0.3868 - val_accuracy: 0.8809\n",
            "Epoch 22/30\n",
            "370/370 [==============================] - 4s 10ms/step - loss: 0.1937 - accuracy: 0.9281 - val_loss: 0.3905 - val_accuracy: 0.8829\n",
            "Epoch 23/30\n",
            "370/370 [==============================] - 4s 10ms/step - loss: 0.1921 - accuracy: 0.9277 - val_loss: 0.3919 - val_accuracy: 0.8812\n",
            "Epoch 24/30\n",
            "370/370 [==============================] - 4s 10ms/step - loss: 0.1899 - accuracy: 0.9283 - val_loss: 0.3912 - val_accuracy: 0.8845\n",
            "Epoch 25/30\n",
            "370/370 [==============================] - 4s 10ms/step - loss: 0.1881 - accuracy: 0.9297 - val_loss: 0.3938 - val_accuracy: 0.8825\n",
            "Epoch 26/30\n",
            "370/370 [==============================] - 4s 10ms/step - loss: 0.1871 - accuracy: 0.9291 - val_loss: 0.3990 - val_accuracy: 0.8793\n",
            "Epoch 27/30\n",
            "370/370 [==============================] - 4s 10ms/step - loss: 0.1847 - accuracy: 0.9296 - val_loss: 0.3999 - val_accuracy: 0.8829\n",
            "Epoch 28/30\n",
            "370/370 [==============================] - 4s 10ms/step - loss: 0.1840 - accuracy: 0.9293 - val_loss: 0.4001 - val_accuracy: 0.8808\n",
            "Epoch 29/30\n",
            "370/370 [==============================] - 4s 10ms/step - loss: 0.1821 - accuracy: 0.9296 - val_loss: 0.4019 - val_accuracy: 0.8817\n",
            "Epoch 30/30\n",
            "370/370 [==============================] - 4s 10ms/step - loss: 0.1810 - accuracy: 0.9301 - val_loss: 0.4023 - val_accuracy: 0.8825\n",
            "======================================== hp2_2 ========================================\n",
            "975/975 [==============================] - 3s 3ms/step - loss: 0.4023 - accuracy: 0.8825\n",
            "Model loss: 0.40229034423828125, accuracy: 0.8825321197509766\n",
            "Starting prediction: \n",
            "{'batch_size': 64, 'verbose': 1}\n",
            "Predicting on 31183 samples\n",
            "488/488 [==============================] - 3s 3ms/step\n",
            "F1_score on the validation set is: 0.698757842697354\n",
            "Starting prediction: \n",
            "{'batch_size': 64, 'verbose': 1}\n",
            "Predicting on 15545 samples\n",
            "243/243 [==============================] - 1s 3ms/step\n",
            "F1_score on the test set is: 0.7729428930892979\n",
            "Model: \"sequential_6\"\n",
            "_________________________________________________________________\n",
            " Layer (type)                Output Shape              Param #   \n",
            "=================================================================\n",
            " embedding_4 (Embedding)     (None, 1, 200)            80135400  \n",
            "                                                                 \n",
            " bidirectional_8 (Bidirectio  (None, 1, 256)           336896    \n",
            " nal)                                                            \n",
            "                                                                 \n",
            " bidirectional_9 (Bidirectio  (None, 256)              394240    \n",
            " nal)                                                            \n",
            "                                                                 \n",
            " dense_4 (Dense)             (None, 45)                11565     \n",
            "                                                                 \n",
            "=================================================================\n",
            "Total params: 80,878,101\n",
            "Trainable params: 742,701\n",
            "Non-trainable params: 80,135,400\n",
            "_________________________________________________________________\n",
            "Epoch 1/30\n",
            "370/370 [==============================] - 15s 25ms/step - loss: 1.1172 - accuracy: 0.7114 - val_loss: 0.5814 - val_accuracy: 0.8276\n",
            "Epoch 2/30\n",
            "370/370 [==============================] - 7s 19ms/step - loss: 0.4565 - accuracy: 0.8622 - val_loss: 0.4410 - val_accuracy: 0.8602\n",
            "Epoch 3/30\n",
            "370/370 [==============================] - 7s 19ms/step - loss: 0.3563 - accuracy: 0.8869 - val_loss: 0.3904 - val_accuracy: 0.8698\n",
            "Epoch 4/30\n",
            "370/370 [==============================] - 7s 20ms/step - loss: 0.3062 - accuracy: 0.9001 - val_loss: 0.3740 - val_accuracy: 0.8772\n",
            "Epoch 5/30\n",
            "370/370 [==============================] - 7s 19ms/step - loss: 0.2779 - accuracy: 0.9054 - val_loss: 0.3630 - val_accuracy: 0.8835\n",
            "Epoch 6/30\n",
            "370/370 [==============================] - 8s 21ms/step - loss: 0.2544 - accuracy: 0.9107 - val_loss: 0.3521 - val_accuracy: 0.8852\n",
            "Epoch 7/30\n",
            "370/370 [==============================] - 7s 19ms/step - loss: 0.2408 - accuracy: 0.9134 - val_loss: 0.3484 - val_accuracy: 0.8842\n",
            "Epoch 8/30\n",
            "370/370 [==============================] - 8s 20ms/step - loss: 0.2288 - accuracy: 0.9163 - val_loss: 0.3580 - val_accuracy: 0.8790\n",
            "Epoch 9/30\n",
            "370/370 [==============================] - 8s 23ms/step - loss: 0.2199 - accuracy: 0.9184 - val_loss: 0.3483 - val_accuracy: 0.8902\n",
            "Epoch 10/30\n",
            "370/370 [==============================] - 8s 22ms/step - loss: 0.2125 - accuracy: 0.9212 - val_loss: 0.3508 - val_accuracy: 0.8897\n",
            "Epoch 11/30\n",
            "370/370 [==============================] - 7s 20ms/step - loss: 0.2071 - accuracy: 0.9221 - val_loss: 0.3621 - val_accuracy: 0.8898\n",
            "Epoch 12/30\n",
            "370/370 [==============================] - 7s 19ms/step - loss: 0.2010 - accuracy: 0.9236 - val_loss: 0.3571 - val_accuracy: 0.8901\n",
            "Epoch 13/30\n",
            "370/370 [==============================] - 7s 19ms/step - loss: 0.1962 - accuracy: 0.9255 - val_loss: 0.3516 - val_accuracy: 0.8911\n",
            "Epoch 14/30\n",
            "370/370 [==============================] - 7s 20ms/step - loss: 0.1948 - accuracy: 0.9247 - val_loss: 0.3545 - val_accuracy: 0.8865\n",
            "Epoch 15/30\n",
            "370/370 [==============================] - 7s 20ms/step - loss: 0.1913 - accuracy: 0.9252 - val_loss: 0.3565 - val_accuracy: 0.8899\n",
            "Epoch 16/30\n",
            "370/370 [==============================] - 8s 21ms/step - loss: 0.1878 - accuracy: 0.9267 - val_loss: 0.3624 - val_accuracy: 0.8833\n",
            "Epoch 17/30\n",
            "370/370 [==============================] - 8s 21ms/step - loss: 0.1871 - accuracy: 0.9257 - val_loss: 0.3516 - val_accuracy: 0.8918\n",
            "Epoch 18/30\n",
            "370/370 [==============================] - 7s 20ms/step - loss: 0.1846 - accuracy: 0.9267 - val_loss: 0.3594 - val_accuracy: 0.8904\n",
            "Epoch 19/30\n",
            "370/370 [==============================] - 7s 18ms/step - loss: 0.1835 - accuracy: 0.9275 - val_loss: 0.3670 - val_accuracy: 0.8871\n",
            "Epoch 20/30\n",
            "370/370 [==============================] - 7s 19ms/step - loss: 0.1812 - accuracy: 0.9269 - val_loss: 0.3626 - val_accuracy: 0.8908\n",
            "Epoch 21/30\n",
            "370/370 [==============================] - 7s 19ms/step - loss: 0.1797 - accuracy: 0.9278 - val_loss: 0.3629 - val_accuracy: 0.8889\n",
            "Epoch 22/30\n",
            "370/370 [==============================] - 7s 19ms/step - loss: 0.1780 - accuracy: 0.9279 - val_loss: 0.3645 - val_accuracy: 0.8907\n",
            "Epoch 23/30\n",
            "370/370 [==============================] - 7s 20ms/step - loss: 0.1776 - accuracy: 0.9281 - val_loss: 0.3688 - val_accuracy: 0.8879\n",
            "Epoch 24/30\n",
            "370/370 [==============================] - 7s 20ms/step - loss: 0.1760 - accuracy: 0.9276 - val_loss: 0.3743 - val_accuracy: 0.8888\n",
            "Epoch 25/30\n",
            "370/370 [==============================] - 7s 20ms/step - loss: 0.1752 - accuracy: 0.9290 - val_loss: 0.3697 - val_accuracy: 0.8905\n",
            "Epoch 26/30\n",
            "370/370 [==============================] - 7s 19ms/step - loss: 0.1741 - accuracy: 0.9284 - val_loss: 0.3792 - val_accuracy: 0.8884\n",
            "Epoch 27/30\n",
            "370/370 [==============================] - 7s 20ms/step - loss: 0.1728 - accuracy: 0.9286 - val_loss: 0.3789 - val_accuracy: 0.8907\n",
            "Epoch 28/30\n",
            "370/370 [==============================] - 7s 19ms/step - loss: 0.1726 - accuracy: 0.9297 - val_loss: 0.3785 - val_accuracy: 0.8898\n",
            "Epoch 29/30\n",
            "370/370 [==============================] - 7s 20ms/step - loss: 0.1704 - accuracy: 0.9288 - val_loss: 0.3797 - val_accuracy: 0.8903\n",
            "Epoch 30/30\n",
            "370/370 [==============================] - 7s 20ms/step - loss: 0.1702 - accuracy: 0.9294 - val_loss: 0.3809 - val_accuracy: 0.8898\n",
            "======================================== hp3 ========================================\n",
            "975/975 [==============================] - 4s 4ms/step - loss: 0.3809 - accuracy: 0.8898\n",
            "Model loss: 0.3809220492839813, accuracy: 0.8898438215255737\n",
            "Starting prediction: \n",
            "{'batch_size': 64, 'verbose': 1}\n",
            "Predicting on 31183 samples\n",
            "488/488 [==============================] - 3s 4ms/step\n",
            "F1_score on the validation set is: 0.7035008010387139\n",
            "Starting prediction: \n",
            "{'batch_size': 64, 'verbose': 1}\n",
            "Predicting on 15545 samples\n",
            "243/243 [==============================] - 1s 5ms/step\n",
            "F1_score on the test set is: 0.7779752490568717\n"
          ]
        }
      ],
      "source": [
        "from tensorflow.keras.models import Sequential\n",
        "from tensorflow.keras.layers import Embedding, Dense, LSTM, Bidirectional \n",
        "from keras.optimizers import Adam\n",
        "\n",
        "\n",
        "for key,idx in zip(hp_b.keys(),range(0,5)):\n",
        "    l1 = hp_b[key]['lstm_1']\n",
        "    l2 = hp_b[key]['lstm_2']\n",
        "    learning_rate = hp_b[key]['learning_rate']\n",
        "\n",
        "    set_reproducibility(42)\n",
        "    x2lstm_model = Sequential()\n",
        "    embedding_layer = Embedding(input_dim = vocab_size,output_dim= embedding_dimension,input_length=1, weights = [embedding_matrix], trainable = False)\n",
        "    x2lstm_model.add(embedding_layer)\n",
        "    x2lstm_model.add(Bidirectional(LSTM(\n",
        "                                    units=l1['units'], \n",
        "                                    activation=\"tanh\",\n",
        "                                    return_sequences=l1['return_sequences'],\n",
        "                                    dropout=l1['dropout'])))\n",
        "    \n",
        "    x2lstm_model.add(Bidirectional(LSTM(\n",
        "                                    units=l2['units'], \n",
        "                                    activation=\"tanh\",\n",
        "                                    return_sequences=l2['return_sequences'],\n",
        "                                    dropout=l2['dropout'])))\n",
        "    x2lstm_model.add(Dense(num_classes,activation='softmax'))\n",
        "\n",
        "    x2lstm_model.summary()\n",
        "\n",
        "    x2lstm_model.compile(loss='sparse_categorical_crossentropy', optimizer=Adam(learning_rate=learning_rate), metrics=['accuracy'])\n",
        "\n",
        "    plot_model(x2lstm_model, to_file=\"./report/x2lstm_model.png\", show_layer_names=True, show_shapes=True)\n",
        "\n",
        "    # fit model\n",
        "    history = x2lstm_model.fit(x_train, y_train, validation_data=(x_val, y_val), batch_size = 128, epochs=30)\n",
        "    print('='*40,key,'='*40)\n",
        "    #show_history(history)\n",
        "    #x2lstm_model.evaluate(x_val, y_val)\n",
        "    #results_x2lstm.append(f1_macro(x2lstm_model, y_train, y_val, num_classes))\n",
        "   \n",
        "    loss, accuracy = x2lstm_model.evaluate(x_val, y_val)\n",
        "    print(f\"Model loss: {loss}, accuracy: {accuracy}\")\n",
        "\n",
        "    # Inference and evaluate\n",
        "\n",
        "    x2lstm_score = compute_f1(x2lstm_model, x_val, y_val)\n",
        "    print(f'F1_score on the validation set is: {x2lstm_score}')\n",
        "\n",
        "    x2lstm_score = compute_f1(x2lstm_model, x_test, y_test)\n",
        "    print(f'F1_score on the test set is: {x2lstm_score}')\n",
        "\n",
        "    results_x2lstm.append(x2lstm_score.copy())"
      ]
    },
    {
      "cell_type": "code",
      "execution_count": 58,
      "metadata": {
        "colab": {
          "base_uri": "https://localhost:8080/"
        },
        "id": "twx8L1SnHFEh",
        "outputId": "9c757de9-cc0e-49dd-b803-f476aca2dbf9"
      },
      "outputs": [
        {
          "name": "stdout",
          "output_type": "stream",
          "text": [
            "F1_SCORES\n",
            "0   0.7710120789162613\n",
            "1   0.7820999601777181\n",
            "2   0.783907137981553\n",
            "3   0.7729428930892979\n",
            "4   0.7779752490568717\n"
          ]
        }
      ],
      "source": [
        "print(\"F1_SCORES\")\n",
        "for f1_macro_score,idx in zip(results_x2lstm,range(0,5)):\n",
        "    print(idx, \" \", f1_macro_score)"
      ]
    },
    {
      "cell_type": "code",
      "execution_count": 59,
      "metadata": {
        "colab": {
          "base_uri": "https://localhost:8080/"
        },
        "id": "zvtURktJOw6A",
        "outputId": "e328ee38-cfe1-4e6b-8b86-2c0cc772f167"
      },
      "outputs": [
        {
          "name": "stdout",
          "output_type": "stream",
          "text": [
            "Top 2xLSTM F1 Macro score: 0.783907137981553\n"
          ]
        }
      ],
      "source": [
        "x2lstm_score = max([f1_macro_score for f1_macro_score,idx in zip(results_x2lstm,range(0,5))])\n",
        "print(f\"Top 2xLSTM F1 Macro score: {x2lstm_score}\")"
      ]
    },
    {
      "cell_type": "code",
      "execution_count": 60,
      "metadata": {
        "id": "OglXcWHaHFEh"
      },
      "outputs": [],
      "source": [
        "#from keras.optimizers import Adam\n",
        "\n",
        "#x2lstm_model.compile(loss='sparse_categorical_crossentropy', optimizer=Adam(learning_rate=2e-3), metrics=['accuracy'])"
      ]
    },
    {
      "cell_type": "code",
      "execution_count": 61,
      "metadata": {
        "id": "wODByaN6HFEh"
      },
      "outputs": [],
      "source": [
        "# fit model\n",
        "#history = x2lstm_model.fit(x_train, y_train, validation_data=(x_val, y_val), batch_size = 128, epochs=30)"
      ]
    },
    {
      "cell_type": "code",
      "execution_count": 62,
      "metadata": {
        "id": "-MS8c1NzHFEh"
      },
      "outputs": [],
      "source": [
        "#show_history(history)"
      ]
    },
    {
      "cell_type": "code",
      "execution_count": 63,
      "metadata": {
        "id": "Le5vJSMxHFEi"
      },
      "outputs": [],
      "source": [
        "#x2lstm_model.evaluate(x_val, y_val)"
      ]
    },
    {
      "cell_type": "markdown",
      "metadata": {
        "id": "5hgT909Mi8CG"
      },
      "source": [
        "## Model C: LSTM + Dense"
      ]
    },
    {
      "cell_type": "code",
      "execution_count": 64,
      "metadata": {
        "colab": {
          "base_uri": "https://localhost:8080/"
        },
        "id": "5P-NSPmwi8CG",
        "outputId": "c90ec41c-3b61-4c19-fc52-e5c26947dd65"
      },
      "outputs": [
        {
          "name": "stdout",
          "output_type": "stream",
          "text": [
            "Model: \"sequential_7\"\n",
            "_________________________________________________________________\n",
            " Layer (type)                Output Shape              Param #   \n",
            "=================================================================\n",
            " embedding_layer (Embedding)  (None, 1, 200)           80135400  \n",
            "                                                                 \n",
            " LSTM_layer (Bidirectional)  (None, 256)               336896    \n",
            "                                                                 \n",
            " dropout_layer (Dropout)     (None, 256)               0         \n",
            "                                                                 \n",
            " dense_layer (Dense)         (None, 1000)              257000    \n",
            "                                                                 \n",
            " logits (Dense)              (None, 45)                45045     \n",
            "                                                                 \n",
            "=================================================================\n",
            "Total params: 80,774,341\n",
            "Trainable params: 638,941\n",
            "Non-trainable params: 80,135,400\n",
            "_________________________________________________________________\n"
          ]
        }
      ],
      "source": [
        "from tensorflow.keras.models import Sequential\n",
        "from tensorflow.keras.layers import Embedding, Dense, LSTM, Bidirectional \n",
        "from tensorflow.keras.optimizers import Adam\n",
        "\n",
        "lstm_dense_layers_info = [\n",
        "    {\n",
        "        \"mlayer\": layers.Embedding,        \n",
        "        'input_dim': vocab_size,\n",
        "        \"output_dim\" : embedding_dimension,\n",
        "        \"input_length\" : 1,\n",
        "        \"weights\" : [embedding_matrix],\n",
        "        \"trainable\" : False,\n",
        "        \"name\" : \"embedding_layer\"\n",
        "    },\n",
        "    {\n",
        "        \"mlayer\": layers.Bidirectional,\n",
        "        \"layer\": LSTM(128, activation=\"tanh\"),\n",
        "        \"name\" : 'LSTM_layer'\n",
        "    },\n",
        "    {\n",
        "        \"mlayer\": layers.Dropout,\n",
        "        \"rate\": .3,\n",
        "        \"name\" : 'dropout_layer'\n",
        "    },\n",
        "    {\n",
        "        \"mlayer\": layers.Dense,\n",
        "        \"name\" : 'dense_layer',\n",
        "        \"activation\": \"relu\",\n",
        "        \"units\": 1000,\n",
        "    },\n",
        "    {\n",
        "        \"mlayer\": layers.Dense,\n",
        "        \"units\": num_classes,\n",
        "        \"activation\" : 'softmax',\n",
        "        'name' : 'logits'\n",
        "    }\n",
        "]\n",
        "\n",
        "lstm_dense_compile_info = {\n",
        "    'optimizer': Adam(),\n",
        "    'loss': 'sparse_categorical_crossentropy',\n",
        "    'metrics': ['accuracy']\n",
        "}\n",
        "\n",
        "lstm_dense_model = create_model(lstm_dense_layers_info, lstm_dense_compile_info)"
      ]
    },
    {
      "cell_type": "code",
      "execution_count": 65,
      "metadata": {
        "colab": {
          "base_uri": "https://localhost:8080/",
          "height": 660
        },
        "id": "rNZZ9dqrOw6B",
        "outputId": "c2949a46-09d8-4fdf-cd83-900cb2202c0f"
      },
      "outputs": [
        {
          "name": "stdout",
          "output_type": "stream",
          "text": [
            "Start training! \n",
            "Parameters: {'verbose': 0, 'epochs': 20, 'batch_size': 64}\n",
            "Training completed!\n",
            "Showing history...\n",
            "Displaying the following history keys: dict_keys(['loss', 'accuracy', 'val_loss', 'val_accuracy'])\n"
          ]
        },
        {
          "name": "stderr",
          "output_type": "stream",
          "text": [
            "/tmp/ipykernel_21701/3500274068.py:29: UserWarning: Matplotlib is currently using module://matplotlib_inline.backend_inline, which is a non-GUI backend, so cannot show the figure.\n",
            "  fig.show()\n"
          ]
        },
        {
          "data": {
            "image/png": "[encoded data removed]",
            "text/plain": [
              "<Figure size 640x480 with 1 Axes>"
            ]
          },
          "metadata": {},
          "output_type": "display_data"
        },
        {
          "data": {
            "image/png": "[encoded data removed]",
            "text/plain": [
              "<Figure size 640x480 with 1 Axes>"
            ]
          },
          "metadata": {},
          "output_type": "display_data"
        }
      ],
      "source": [
        "# Train\n",
        " \n",
        "lstm_dense_training_info = {\n",
        "    'verbose': 0,\n",
        "    'epochs' : 20,\n",
        "    'batch_size' : 64\n",
        "}\n",
        "\n",
        "lstm_dense_model = train_model(model=lstm_dense_model,training_info = lstm_dense_training_info, name=\"lstm_dense\")"
      ]
    },
    {
      "cell_type": "code",
      "execution_count": 66,
      "metadata": {
        "colab": {
          "base_uri": "https://localhost:8080/"
        },
        "id": "rlI5xN3bOw6B",
        "outputId": "054d385d-40b4-4a71-d82a-619c4d00ad6d"
      },
      "outputs": [
        {
          "name": "stdout",
          "output_type": "stream",
          "text": [
            "975/975 [==============================] - 4s 4ms/step - loss: 0.4186 - accuracy: 0.8910\n",
            "Model loss: 0.418565034866333, accuracy: 0.8909983038902283\n",
            "Starting prediction: \n",
            "{'batch_size': 64, 'verbose': 1}\n",
            "Predicting on 31183 samples\n",
            "488/488 [==============================] - 3s 4ms/step\n",
            "F1_score on the validation set is: 0.7282929094703651\n",
            "Starting prediction: \n",
            "{'batch_size': 64, 'verbose': 1}\n",
            "Predicting on 15545 samples\n",
            "243/243 [==============================] - 1s 4ms/step\n",
            "F1_score on the test set is: 0.7956330630509325\n"
          ]
        }
      ],
      "source": [
        "loss, accuracy = lstm_dense_model.evaluate(x_val, y_val)\n",
        "print(f\"Model loss: {loss}, accuracy: {accuracy}\")\n",
        "\n",
        "# Inference and evaluate\n",
        "\n",
        "lstm_dense_score = compute_f1(lstm_dense_model, x_val, y_val)\n",
        "print(f'F1_score on the validation set is: {lstm_dense_score}')\n",
        "\n",
        "lstm_dense_score = compute_f1(lstm_dense_model, x_test, y_test)\n",
        "print(f'F1_score on the test set is: {lstm_dense_score}')"
      ]
    },
    {
      "cell_type": "markdown",
      "metadata": {
        "id": "tTwH3Iz5i8CG"
      },
      "source": [
        "## Conclusions"
      ]
    },
    {
      "cell_type": "code",
      "execution_count": 67,
      "metadata": {
        "colab": {
          "base_uri": "https://localhost:8080/"
        },
        "id": "g8vray3yi8CH",
        "outputId": "076b6ab4-5c8a-48bc-cc96-8f75a02abb6f"
      },
      "outputs": [
        {
          "name": "stdout",
          "output_type": "stream",
          "text": [
            " \n",
            "F1 Macro scores:\n",
            "    Base (LSTM) = 0.7783847353968951\n",
            "    GRU = 0.797299904507028\n",
            "    2x LSTM = 0.783907137981553\n",
            "    LSTM + Dense = 0.7956330630509325\n",
            "\n"
          ]
        }
      ],
      "source": [
        "print(f''' \n",
        "F1 Macro scores:\n",
        "    Base (LSTM) = {base_score}\n",
        "    GRU = {gru_score}\n",
        "    2x LSTM = {x2lstm_score}\n",
        "    LSTM + Dense = {lstm_dense_score}\n",
        "''')"
      ]
    }
  ],
  "metadata": {
    "accelerator": "GPU",
    "colab": {
      "provenance": []
    },
    "gpuClass": "standard",
    "kernelspec": {
      "display_name": "Python 3.9.13 ('tf')",
      "language": "python",
      "name": "python3"
    },
    "language_info": {
      "codemirror_mode": {
        "name": "ipython",
        "version": 3
      },
      "file_extension": ".py",
      "mimetype": "text/x-python",
      "name": "python",
      "nbconvert_exporter": "python",
      "pygments_lexer": "ipython3",
      "version": "3.9.13"
    },
    "orig_nbformat": 4,
    "vscode": {
      "interpreter": {
        "hash": "e405b0a43b05ed5b511dac57849ab560497f023fc2f8f0bfd2781bf41b5f416c"
      }
    }
  },
  "nbformat": 4,
  "nbformat_minor": 0
}
