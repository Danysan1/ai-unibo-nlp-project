{
  "cells": [
    {
      "cell_type": "markdown",
      "metadata": {
        "id": "iKel9Y42484v"
      },
      "source": [
        "<a href=\"https://colab.research.google.com/github/Danysan1/ai-unibo-nlp-project/blob/main/a1/execution.ipynb\" target=\"_parent\"><img src=\"https://colab.research.google.com/assets/colab-badge.svg\" alt=\"Open In Colab\"/></a>"
      ]
    },
    {
      "cell_type": "markdown",
      "metadata": {
        "id": "TzCABY1Qi8Bv"
      },
      "source": [
        "# Assigment 1 execution"
      ]
    },
    {
      "cell_type": "markdown",
      "metadata": {
        "id": "kNE248Nhi8B0"
      },
      "source": [
        "Corpora: https://www.nltk.org/nltk_data/ , point 91, \"Dependency Parsed Treebank\" ([link](https://raw.githubusercontent.com/nltk/nltk_data/gh-pages/packages/corpora/dependency_treebank.zip)).\n",
        "\n",
        "Docs:\n",
        "* https://www.nltk.org/api/nltk.corpus.html\n",
        "* https://www.nltk.org/data.html\n",
        "* https://www.nltk.org/install.html\n",
        "\n",
        "## Preparing the environment"
      ]
    },
    {
      "cell_type": "code",
      "execution_count": 1,
      "metadata": {
        "colab": {
          "base_uri": "https://localhost:8080/"
        },
        "id": "SJOEUxxoi8B1",
        "outputId": "ac2e539b-8c80-42a5-ef8a-2a08d3540b55"
      },
      "outputs": [
        {
          "name": "stdout",
          "output_type": "stream",
          "text": [
            "Requirement already satisfied: pandas in /opt/anaconda3/envs/nlp/lib/python3.7/site-packages (1.3.5)\n",
            "Requirement already satisfied: numpy in /opt/anaconda3/envs/nlp/lib/python3.7/site-packages (1.21.5)\n",
            "Requirement already satisfied: matplotlib in /opt/anaconda3/envs/nlp/lib/python3.7/site-packages (3.5.3)\n",
            "Requirement already satisfied: gensim in /opt/anaconda3/envs/nlp/lib/python3.7/site-packages (4.2.0)\n",
            "Requirement already satisfied: tensorflow-addons in /opt/anaconda3/envs/nlp/lib/python3.7/site-packages (0.18.0)\n",
            "Requirement already satisfied: python-dateutil>=2.7.3 in /opt/anaconda3/envs/nlp/lib/python3.7/site-packages (from pandas) (2.8.2)\n",
            "Requirement already satisfied: pytz>=2017.3 in /opt/anaconda3/envs/nlp/lib/python3.7/site-packages (from pandas) (2022.1)\n",
            "Requirement already satisfied: cycler>=0.10 in /opt/anaconda3/envs/nlp/lib/python3.7/site-packages (from matplotlib) (0.11.0)\n",
            "Requirement already satisfied: pyparsing>=2.2.1 in /opt/anaconda3/envs/nlp/lib/python3.7/site-packages (from matplotlib) (3.0.9)\n",
            "Requirement already satisfied: pillow>=6.2.0 in /opt/anaconda3/envs/nlp/lib/python3.7/site-packages (from matplotlib) (9.2.0)\n",
            "Requirement already satisfied: packaging>=20.0 in /opt/anaconda3/envs/nlp/lib/python3.7/site-packages (from matplotlib) (21.3)\n",
            "Requirement already satisfied: fonttools>=4.22.0 in /opt/anaconda3/envs/nlp/lib/python3.7/site-packages (from matplotlib) (4.25.0)\n",
            "Requirement already satisfied: kiwisolver>=1.0.1 in /opt/anaconda3/envs/nlp/lib/python3.7/site-packages (from matplotlib) (1.4.2)\n",
            "Requirement already satisfied: scipy>=0.18.1 in /opt/anaconda3/envs/nlp/lib/python3.7/site-packages (from gensim) (1.7.3)\n",
            "Requirement already satisfied: smart-open>=1.8.1 in /opt/anaconda3/envs/nlp/lib/python3.7/site-packages (from gensim) (5.2.1)\n",
            "Requirement already satisfied: typeguard>=2.7 in /opt/anaconda3/envs/nlp/lib/python3.7/site-packages (from tensorflow-addons) (2.13.3)\n",
            "Requirement already satisfied: typing-extensions in /opt/anaconda3/envs/nlp/lib/python3.7/site-packages (from kiwisolver>=1.0.1->matplotlib) (4.3.0)\n",
            "Requirement already satisfied: six>=1.5 in /opt/anaconda3/envs/nlp/lib/python3.7/site-packages (from python-dateutil>=2.7.3->pandas) (1.16.0)\n",
            "Note: you may need to restart the kernel to use updated packages.\n"
          ]
        }
      ],
      "source": [
        "%pip install pandas numpy matplotlib gensim tensorflow-addons"
      ]
    },
    {
      "cell_type": "code",
      "execution_count": 2,
      "metadata": {
        "id": "KqnHhB8yGptZ"
      },
      "outputs": [
        {
          "name": "stderr",
          "output_type": "stream",
          "text": [
            "2022-12-11 16:28:15.813538: I tensorflow/core/platform/cpu_feature_guard.cc:193] This TensorFlow binary is optimized with oneAPI Deep Neural Network Library (oneDNN) to use the following CPU instructions in performance-critical operations:  AVX2 FMA\n",
            "To enable them in other operations, rebuild TensorFlow with the appropriate compiler flags.\n",
            "2022-12-11 16:28:16.571604: W tensorflow/compiler/xla/stream_executor/platform/default/dso_loader.cc:64] Could not load dynamic library 'libcudart.so.11.0'; dlerror: libcudart.so.11.0: cannot open shared object file: No such file or directory\n",
            "2022-12-11 16:28:16.571732: I tensorflow/compiler/xla/stream_executor/cuda/cudart_stub.cc:29] Ignore above cudart dlerror if you do not have a GPU set up on your machine.\n",
            "2022-12-11 16:28:19.474148: W tensorflow/compiler/xla/stream_executor/platform/default/dso_loader.cc:64] Could not load dynamic library 'libnvinfer.so.7'; dlerror: libcublas.so.11: cannot open shared object file: No such file or directory\n",
            "2022-12-11 16:28:19.475974: W tensorflow/compiler/xla/stream_executor/platform/default/dso_loader.cc:64] Could not load dynamic library 'libnvinfer_plugin.so.7'; dlerror: libnvrtc.so.11.0: cannot open shared object file: No such file or directory\n",
            "2022-12-11 16:28:19.476051: W tensorflow/compiler/tf2tensorrt/utils/py_utils.cc:38] TF-TRT Warning: Cannot dlopen some TensorRT libraries. If you would like to use Nvidia GPU with TensorRT, please make sure the missing libraries mentioned above are installed properly.\n",
            "/opt/anaconda3/envs/nlp/lib/python3.7/site-packages/tensorflow_addons/utils/ensure_tf_install.py:67: UserWarning: Tensorflow Addons supports using Python ops for all Tensorflow versions above or equal to 2.8.0 and strictly below 2.11.0 (nightly versions are not supported). \n",
            " The versions of TensorFlow you are currently using is 2.11.0 and is not supported. \n",
            "Some things might work, some things might not.\n",
            "If you were to encounter a bug, do not file an issue.\n",
            "If you want to make sure you're using a tested and supported configuration, either change the TensorFlow version or the TensorFlow Addons's version. \n",
            "You can find the compatibility matrix in TensorFlow Addon's readme:\n",
            "https://github.com/tensorflow/addons\n",
            "  UserWarning,\n"
          ]
        }
      ],
      "source": [
        "import os, shutil  #  file management\n",
        "import sys \n",
        "import pandas as pd  #  dataframe management\n",
        "import numpy as np  #  data manipulation\n",
        "import re\n",
        "import urllib.request  # download files\n",
        "from zipfile import ZipFile # extract files\n",
        "from matplotlib import pyplot as plt\n",
        "import tensorflow_addons as tfa\n",
        "from sklearn.metrics import f1_score\n",
        "import keras"
      ]
    },
    {
      "cell_type": "markdown",
      "metadata": {
        "id": "glhEVNdNi8B4"
      },
      "source": [
        "## Downloading the dataset"
      ]
    },
    {
      "cell_type": "code",
      "execution_count": 3,
      "metadata": {
        "id": "8rcR7hfpi8B4"
      },
      "outputs": [],
      "source": [
        "#from nltk import download\n",
        "#download()"
      ]
    },
    {
      "cell_type": "code",
      "execution_count": 4,
      "metadata": {
        "colab": {
          "base_uri": "https://localhost:8080/"
        },
        "id": "gMVaf67mGtVe",
        "outputId": "6c7d2081-9644-47b0-9ddd-84f4fc1113ca"
      },
      "outputs": [
        {
          "name": "stdout",
          "output_type": "stream",
          "text": [
            "Successful extraction\n"
          ]
        }
      ],
      "source": [
        "dataset_folder = os.path.join(os.getcwd(), \"Dataset\")\n",
        "\n",
        "if not os.path.exists(dataset_folder):\n",
        "    os.makedirs(dataset_folder)\n",
        "\n",
        "url = 'https://raw.githubusercontent.com/nltk/nltk_data/gh-pages/packages/corpora/dependency_treebank.zip'\n",
        "\n",
        "dataset_path = os.path.join(dataset_folder, \"dependency_treebank.zip\")\n",
        "\n",
        "if not os.path.exists(dataset_path):\n",
        "    urllib.request.urlretrieve(url, dataset_path)\n",
        "    print(\"Successful download\")\n",
        "    \n",
        "with ZipFile(dataset_path, 'r') as zObject:\n",
        "  # Extracting all the members of the zip  into a specific location.\n",
        "  zObject.extractall(dataset_folder)\n",
        "  print(\"Successful extraction\")"
      ]
    },
    {
      "cell_type": "markdown",
      "metadata": {
        "id": "6YF4FVoUi8B7"
      },
      "source": [
        "## Loading the data"
      ]
    },
    {
      "cell_type": "code",
      "execution_count": 5,
      "metadata": {
        "id": "wNHOCIU0i8B8"
      },
      "outputs": [],
      "source": [
        "#from nltk.corpus import dependency_treebank\n",
        "#from nltk.data import load\n",
        "#dependency_treebank_test = load(\"nltk:\") \n",
        "#sentences = dependency_treebank.sents()\n",
        "#words = dependency_treebank.words()"
      ]
    },
    {
      "cell_type": "code",
      "execution_count": 6,
      "metadata": {
        "id": "brq6f0-oi8B9"
      },
      "outputs": [],
      "source": [
        "def loadCorpus(start:int, stop:int=None):\n",
        "    '''\n",
        "    Loads the data for the specified file range.\n",
        "    \n",
        "    Removes the third column 'num', which is not necessary for this task.\n",
        "\n",
        "    Parameters:\n",
        "        start: start of numeric range of files (inclusive)\n",
        "        stop: end of numeric range of files (exclusive)\n",
        "    '''\n",
        "    dataset_name = \"dependency_treebank\"\n",
        "    folder = os.path.join(os.getcwd(), \"Dataset\", dataset_name)\n",
        "\n",
        "    if stop==None:\n",
        "        stop = start+1\n",
        "    \n",
        "    return pd.concat([\n",
        "        pd.read_csv(\n",
        "            f'{folder}/wsj_{\"{:04d}\".format(num)}.dp',\n",
        "            sep=\"\\t\",\n",
        "            usecols=[0,1],\n",
        "            names=[\"word\",\"label\"]\n",
        "        ) for num in range(start, stop)\n",
        "    ])"
      ]
    },
    {
      "cell_type": "code",
      "execution_count": 7,
      "metadata": {
        "id": "MHjTm5HOi8B-"
      },
      "outputs": [],
      "source": [
        "full_dataset = loadCorpus(1,200)"
      ]
    },
    {
      "cell_type": "markdown",
      "metadata": {
        "id": "xVtgdAgwi8B-"
      },
      "source": [
        "## Exploratory Data Analysis"
      ]
    },
    {
      "cell_type": "code",
      "execution_count": 8,
      "metadata": {
        "colab": {
          "base_uri": "https://localhost:8080/"
        },
        "id": "Ih48IOpti8B_",
        "outputId": "b1ed097d-9fbf-4e5e-8635-16e92231a293"
      },
      "outputs": [
        {
          "data": {
            "text/plain": [
              "word     94084\n",
              "label    94084\n",
              "dtype: int64"
            ]
          },
          "execution_count": 8,
          "metadata": {},
          "output_type": "execute_result"
        }
      ],
      "source": [
        "full_dataset.count()"
      ]
    },
    {
      "cell_type": "code",
      "execution_count": 9,
      "metadata": {
        "colab": {
          "base_uri": "https://localhost:8080/",
          "height": 363
        },
        "id": "uzKTmaB0i8CA",
        "outputId": "faf37b2c-9e0d-4820-db5a-26994f4858d7"
      },
      "outputs": [
        {
          "data": {
            "text/html": [
              "<div>\n",
              "<style scoped>\n",
              "    .dataframe tbody tr th:only-of-type {\n",
              "        vertical-align: middle;\n",
              "    }\n",
              "\n",
              "    .dataframe tbody tr th {\n",
              "        vertical-align: top;\n",
              "    }\n",
              "\n",
              "    .dataframe thead th {\n",
              "        text-align: right;\n",
              "    }\n",
              "</style>\n",
              "<table border=\"1\" class=\"dataframe\">\n",
              "  <thead>\n",
              "    <tr style=\"text-align: right;\">\n",
              "      <th></th>\n",
              "      <th>word</th>\n",
              "      <th>label</th>\n",
              "    </tr>\n",
              "  </thead>\n",
              "  <tbody>\n",
              "    <tr>\n",
              "      <th>0</th>\n",
              "      <td>Pierre</td>\n",
              "      <td>NNP</td>\n",
              "    </tr>\n",
              "    <tr>\n",
              "      <th>1</th>\n",
              "      <td>Vinken</td>\n",
              "      <td>NNP</td>\n",
              "    </tr>\n",
              "    <tr>\n",
              "      <th>2</th>\n",
              "      <td>,</td>\n",
              "      <td>,</td>\n",
              "    </tr>\n",
              "    <tr>\n",
              "      <th>3</th>\n",
              "      <td>61</td>\n",
              "      <td>CD</td>\n",
              "    </tr>\n",
              "    <tr>\n",
              "      <th>4</th>\n",
              "      <td>years</td>\n",
              "      <td>NNS</td>\n",
              "    </tr>\n",
              "    <tr>\n",
              "      <th>5</th>\n",
              "      <td>old</td>\n",
              "      <td>JJ</td>\n",
              "    </tr>\n",
              "    <tr>\n",
              "      <th>6</th>\n",
              "      <td>,</td>\n",
              "      <td>,</td>\n",
              "    </tr>\n",
              "    <tr>\n",
              "      <th>7</th>\n",
              "      <td>will</td>\n",
              "      <td>MD</td>\n",
              "    </tr>\n",
              "    <tr>\n",
              "      <th>8</th>\n",
              "      <td>join</td>\n",
              "      <td>VB</td>\n",
              "    </tr>\n",
              "    <tr>\n",
              "      <th>9</th>\n",
              "      <td>the</td>\n",
              "      <td>DT</td>\n",
              "    </tr>\n",
              "  </tbody>\n",
              "</table>\n",
              "</div>"
            ],
            "text/plain": [
              "     word label\n",
              "0  Pierre   NNP\n",
              "1  Vinken   NNP\n",
              "2       ,     ,\n",
              "3      61    CD\n",
              "4   years   NNS\n",
              "5     old    JJ\n",
              "6       ,     ,\n",
              "7    will    MD\n",
              "8    join    VB\n",
              "9     the    DT"
            ]
          },
          "execution_count": 9,
          "metadata": {},
          "output_type": "execute_result"
        }
      ],
      "source": [
        "full_dataset.head(10)"
      ]
    },
    {
      "cell_type": "markdown",
      "metadata": {
        "id": "ZjqrPfy4i8CB"
      },
      "source": [
        "Each document contains a different tokenized article:"
      ]
    },
    {
      "cell_type": "code",
      "execution_count": 10,
      "metadata": {
        "colab": {
          "base_uri": "https://localhost:8080/",
          "height": 36
        },
        "id": "EE9Qv0tUi8CB",
        "outputId": "6140e360-fd3f-4678-ff81-068e5c85a21f"
      },
      "outputs": [
        {
          "data": {
            "text/plain": [
              "'Pierre Vinken , 61 years old , will join the board as a nonexecutive director Nov. 29 . Mr. Vinken is chairman of Elsevier N.V. , the Dutch publishing group .'"
            ]
          },
          "execution_count": 10,
          "metadata": {},
          "output_type": "execute_result"
        }
      ],
      "source": [
        "sample_article = loadCorpus(1)\n",
        "\" \".join(sample_article[\"word\"])"
      ]
    },
    {
      "cell_type": "code",
      "execution_count": 11,
      "metadata": {
        "colab": {
          "base_uri": "https://localhost:8080/",
          "height": 36
        },
        "id": "sDIadSSJi8CB",
        "outputId": "cdf16d6e-4368-4b33-c5e8-13804e84691c"
      },
      "outputs": [
        {
          "data": {
            "text/plain": [
              "'Rudolph Agnew , 55 years old and former chairman of Consolidated Gold Fields PLC , was named a nonexecutive director of this British industrial conglomerate .'"
            ]
          },
          "execution_count": 11,
          "metadata": {},
          "output_type": "execute_result"
        }
      ],
      "source": [
        "\" \".join(loadCorpus(2)[\"word\"])"
      ]
    },
    {
      "cell_type": "code",
      "execution_count": 12,
      "metadata": {
        "colab": {
          "base_uri": "https://localhost:8080/",
          "height": 336
        },
        "id": "dcAVyveni8CC",
        "outputId": "34099839-e3c8-4ded-800a-115cdaeef3eb"
      },
      "outputs": [
        {
          "data": {
            "image/png": "[encoded data removed]",
            "text/plain": [
              "<Figure size 1500x500 with 1 Axes>"
            ]
          },
          "metadata": {},
          "output_type": "display_data"
        }
      ],
      "source": [
        "fig=plt.figure(figsize=(15,5))\n",
        "p = plt.hist(full_dataset[\"label\"])\n",
        "plt.xticks(rotation=45)\n",
        "plt.show()"
      ]
    },
    {
      "cell_type": "code",
      "execution_count": 13,
      "metadata": {
        "colab": {
          "base_uri": "https://localhost:8080/",
          "height": 306
        },
        "id": "K9XyBPIQi8CC",
        "outputId": "f58b15a0-c533-443b-9709-caab61ebb4c3"
      },
      "outputs": [
        {
          "data": {
            "image/png": "[encoded data removed]",
            "text/plain": [
              "<Figure size 1500x500 with 1 Axes>"
            ]
          },
          "metadata": {},
          "output_type": "display_data"
        }
      ],
      "source": [
        "fig=plt.figure(figsize=(15,5))\n",
        "p = plt.plot(full_dataset[\"word\"].value_counts())\n",
        "plt.xticks([])\n",
        "plt.show()"
      ]
    },
    {
      "cell_type": "markdown",
      "metadata": {
        "id": "MzyI2Wufi8CD"
      },
      "source": [
        "## Data splitting\n",
        "\n",
        "\n",
        "\n"
      ]
    },
    {
      "cell_type": "markdown",
      "metadata": {
        "id": "Nep1haoQkIO0"
      },
      "source": [
        "Creation of train, validation and test sets."
      ]
    },
    {
      "cell_type": "code",
      "execution_count": 14,
      "metadata": {
        "colab": {
          "base_uri": "https://localhost:8080/"
        },
        "id": "kOG5wns9X011",
        "outputId": "a85e148e-23fc-4d6c-a6dd-3ebc0cb1d6cb"
      },
      "outputs": [
        {
          "data": {
            "text/plain": [
              "word     47356\n",
              "label    47356\n",
              "dtype: int64"
            ]
          },
          "execution_count": 14,
          "metadata": {},
          "output_type": "execute_result"
        }
      ],
      "source": [
        "df_train = loadCorpus(1,101) \n",
        "df_val = loadCorpus(101,151)\n",
        "df_test = loadCorpus(151,200)\n",
        "\n",
        "df_train.count()"
      ]
    },
    {
      "cell_type": "code",
      "execution_count": 15,
      "metadata": {
        "colab": {
          "base_uri": "https://localhost:8080/"
        },
        "id": "Th6dXqh94849",
        "outputId": "f62e4a6a-d9f1-4b16-a960-8d39e3275d37"
      },
      "outputs": [
        {
          "data": {
            "text/plain": [
              "word     31183\n",
              "label    31183\n",
              "dtype: int64"
            ]
          },
          "execution_count": 15,
          "metadata": {},
          "output_type": "execute_result"
        }
      ],
      "source": [
        "df_val.count()"
      ]
    },
    {
      "cell_type": "code",
      "execution_count": 16,
      "metadata": {
        "colab": {
          "base_uri": "https://localhost:8080/"
        },
        "id": "Hj_BdDsA4849",
        "outputId": "d93507ff-e81a-4749-9873-77fbe5f83dfb"
      },
      "outputs": [
        {
          "data": {
            "text/plain": [
              "word     15545\n",
              "label    15545\n",
              "dtype: int64"
            ]
          },
          "execution_count": 16,
          "metadata": {},
          "output_type": "execute_result"
        }
      ],
      "source": [
        "df_test.count()"
      ]
    },
    {
      "cell_type": "markdown",
      "metadata": {
        "id": "XJrGcYbJ4849"
      },
      "source": [
        "## Data pre-processing"
      ]
    },
    {
      "cell_type": "markdown",
      "metadata": {
        "id": "vjPNQ9ilk7X_"
      },
      "source": [
        "Clean the data."
      ]
    },
    {
      "cell_type": "code",
      "execution_count": 17,
      "metadata": {
        "id": "4T_aIaLxk4Xp"
      },
      "outputs": [],
      "source": [
        "def cleanCorpus(corpus):\n",
        "    corpus['word'] = corpus['word'].str.lower()\n",
        "    corpus[\"word\"] = [re.sub(r'[^\\w]', '', word) for word in corpus[\"word\"]]\n",
        "    corpus = corpus[corpus[\"word\"] != \"\"]\n",
        "    return corpus"
      ]
    },
    {
      "cell_type": "code",
      "execution_count": 18,
      "metadata": {
        "colab": {
          "base_uri": "https://localhost:8080/"
        },
        "id": "lV6x05Lu26ym",
        "outputId": "a31745c7-5c48-419f-c70e-f6804385fa3d"
      },
      "outputs": [
        {
          "data": {
            "text/plain": [
              "word     41149\n",
              "label    41149\n",
              "dtype: int64"
            ]
          },
          "execution_count": 18,
          "metadata": {},
          "output_type": "execute_result"
        }
      ],
      "source": [
        "#cleaned dataframes\n",
        "dfc_train = cleanCorpus(df_train)\n",
        "dfc_val = cleanCorpus(df_val)\n",
        "dfc_test = cleanCorpus(df_test)\n",
        "dfc_sample = cleanCorpus(sample_article)\n",
        "\n",
        "dfc_train.count()"
      ]
    },
    {
      "cell_type": "code",
      "execution_count": 19,
      "metadata": {
        "colab": {
          "base_uri": "https://localhost:8080/"
        },
        "id": "6Y4lYHXy484-",
        "outputId": "539c7402-f51c-4040-be6a-ad9d1f54c192"
      },
      "outputs": [
        {
          "data": {
            "text/plain": [
              "word     27263\n",
              "label    27263\n",
              "dtype: int64"
            ]
          },
          "execution_count": 19,
          "metadata": {},
          "output_type": "execute_result"
        }
      ],
      "source": [
        "dfc_val.count()"
      ]
    },
    {
      "cell_type": "code",
      "execution_count": 20,
      "metadata": {
        "colab": {
          "base_uri": "https://localhost:8080/"
        },
        "id": "JfjU5ZVo484-",
        "outputId": "ed90b7ed-b53e-4ed4-c716-26576092ee5e"
      },
      "outputs": [
        {
          "data": {
            "text/plain": [
              "word     13614\n",
              "label    13614\n",
              "dtype: int64"
            ]
          },
          "execution_count": 20,
          "metadata": {},
          "output_type": "execute_result"
        }
      ],
      "source": [
        "dfc_test.count()"
      ]
    },
    {
      "cell_type": "code",
      "execution_count": 21,
      "metadata": {
        "colab": {
          "base_uri": "https://localhost:8080/",
          "height": 0
        },
        "id": "R4fHZaScmPoU",
        "outputId": "949098b0-4a52-439a-dc76-34b2efe45fab"
      },
      "outputs": [
        {
          "data": {
            "text/html": [
              "<div>\n",
              "<style scoped>\n",
              "    .dataframe tbody tr th:only-of-type {\n",
              "        vertical-align: middle;\n",
              "    }\n",
              "\n",
              "    .dataframe tbody tr th {\n",
              "        vertical-align: top;\n",
              "    }\n",
              "\n",
              "    .dataframe thead th {\n",
              "        text-align: right;\n",
              "    }\n",
              "</style>\n",
              "<table border=\"1\" class=\"dataframe\">\n",
              "  <thead>\n",
              "    <tr style=\"text-align: right;\">\n",
              "      <th></th>\n",
              "      <th>word</th>\n",
              "      <th>label</th>\n",
              "    </tr>\n",
              "  </thead>\n",
              "  <tbody>\n",
              "    <tr>\n",
              "      <th>0</th>\n",
              "      <td>pierre</td>\n",
              "      <td>NNP</td>\n",
              "    </tr>\n",
              "    <tr>\n",
              "      <th>1</th>\n",
              "      <td>vinken</td>\n",
              "      <td>NNP</td>\n",
              "    </tr>\n",
              "    <tr>\n",
              "      <th>3</th>\n",
              "      <td>61</td>\n",
              "      <td>CD</td>\n",
              "    </tr>\n",
              "    <tr>\n",
              "      <th>4</th>\n",
              "      <td>years</td>\n",
              "      <td>NNS</td>\n",
              "    </tr>\n",
              "    <tr>\n",
              "      <th>5</th>\n",
              "      <td>old</td>\n",
              "      <td>JJ</td>\n",
              "    </tr>\n",
              "    <tr>\n",
              "      <th>7</th>\n",
              "      <td>will</td>\n",
              "      <td>MD</td>\n",
              "    </tr>\n",
              "    <tr>\n",
              "      <th>8</th>\n",
              "      <td>join</td>\n",
              "      <td>VB</td>\n",
              "    </tr>\n",
              "    <tr>\n",
              "      <th>9</th>\n",
              "      <td>the</td>\n",
              "      <td>DT</td>\n",
              "    </tr>\n",
              "    <tr>\n",
              "      <th>10</th>\n",
              "      <td>board</td>\n",
              "      <td>NN</td>\n",
              "    </tr>\n",
              "    <tr>\n",
              "      <th>11</th>\n",
              "      <td>as</td>\n",
              "      <td>IN</td>\n",
              "    </tr>\n",
              "  </tbody>\n",
              "</table>\n",
              "</div>"
            ],
            "text/plain": [
              "      word label\n",
              "0   pierre   NNP\n",
              "1   vinken   NNP\n",
              "3       61    CD\n",
              "4    years   NNS\n",
              "5      old    JJ\n",
              "7     will    MD\n",
              "8     join    VB\n",
              "9      the    DT\n",
              "10   board    NN\n",
              "11      as    IN"
            ]
          },
          "execution_count": 21,
          "metadata": {},
          "output_type": "execute_result"
        }
      ],
      "source": [
        "dfc_train.head(10)"
      ]
    },
    {
      "cell_type": "markdown",
      "metadata": {
        "id": "6VsU_XpAi8CF"
      },
      "source": [
        "## Word embedding"
      ]
    },
    {
      "cell_type": "markdown",
      "metadata": {
        "id": "4Bep7HYL484_"
      },
      "source": [
        "### Loading GloVe"
      ]
    },
    {
      "cell_type": "markdown",
      "metadata": {
        "id": "92d15Xzr4qAn"
      },
      "source": [
        "\n",
        "Loading pre-trained dense word embedding: Glove.\n",
        "\n",
        "\n",
        "\n",
        "\n"
      ]
    },
    {
      "cell_type": "code",
      "execution_count": 22,
      "metadata": {
        "id": "UZBrvzL8t6_U"
      },
      "outputs": [],
      "source": [
        "import gensim\n",
        "import gensim.downloader as gloader\n",
        "\n",
        "def load_embedding_model(model_type: str,\n",
        "                         embedding_dimension: int = 50) -> gensim.models.keyedvectors.KeyedVectors:\n",
        "    \"\"\"\n",
        "    Loads a pre-trained word embedding model via gensim library.\n",
        "\n",
        "    :param model_type: name of the word embedding model to load.\n",
        "    :param embedding_dimension: size of the embedding space to consider\n",
        "\n",
        "    :return\n",
        "        - pre-trained word embedding model (gensim KeyedVectors object)\n",
        "    \"\"\"\n",
        "    download_path = \"\"\n",
        "    if model_type.strip().lower() == 'word2vec':\n",
        "        download_path = \"word2vec-google-news-300\"\n",
        "\n",
        "    elif model_type.strip().lower() == 'glove':\n",
        "        download_path = \"glove-wiki-gigaword-{}\".format(embedding_dimension)\n",
        "    elif model_type.strip().lower() == 'fasttext':\n",
        "        download_path = \"fasttext-wiki-news-subwords-300\"\n",
        "    else:\n",
        "        raise AttributeError(\"Unsupported embedding model type! Available ones: word2vec, glove, fasttext\")\n",
        "        \n",
        "    try:\n",
        "        emb_model = gloader.load(download_path)\n",
        "    except ValueError as e:\n",
        "        print(\"Invalid embedding model name! Check the embedding dimension:\")\n",
        "        print(\"Word2Vec: 300\")\n",
        "        print(\"Glove: 50, 100, 200, 300\")\n",
        "        print('FastText: 300')\n",
        "        raise e\n",
        "\n",
        "    return emb_model"
      ]
    },
    {
      "cell_type": "code",
      "execution_count": 23,
      "metadata": {
        "colab": {
          "base_uri": "https://localhost:8080/"
        },
        "id": "2hPJ_neS5Vxd",
        "outputId": "343a412d-792b-4a6f-f134-639cf5263fe5"
      },
      "outputs": [],
      "source": [
        "# Modify these variables as you wish!\n",
        "# Glove -> 50, 100, 200, 300\n",
        "# Word2Vec -> 300\n",
        "# Fasttext -> 300\n",
        "embedding_model = load_embedding_model(model_type=\"glove\", embedding_dimension=50)"
      ]
    },
    {
      "cell_type": "markdown",
      "metadata": {
        "id": "jU0rgZ0I484_"
      },
      "source": [
        "### Analyzing OOV statistics"
      ]
    },
    {
      "cell_type": "code",
      "execution_count": 24,
      "metadata": {
        "colab": {
          "base_uri": "https://localhost:8080/"
        },
        "id": "S76fxrkJ484_",
        "outputId": "43ad1ca3-541f-4e9a-aa83-02cc22765cf4"
      },
      "outputs": [
        {
          "data": {
            "text/plain": [
              "['the', ',', '.', 'of', 'to', 'and', 'in', 'a', '\"', \"'s\"]"
            ]
          },
          "execution_count": 24,
          "metadata": {},
          "output_type": "execute_result"
        }
      ],
      "source": [
        "embedding_model.index_to_key[0:10]"
      ]
    },
    {
      "cell_type": "code",
      "execution_count": 25,
      "metadata": {
        "colab": {
          "base_uri": "https://localhost:8080/"
        },
        "id": "CdGVCkXI485A",
        "outputId": "ae5dd4e0-6fe0-4fb8-8953-670c5dbba50e"
      },
      "outputs": [
        {
          "data": {
            "text/plain": [
              "535"
            ]
          },
          "execution_count": 25,
          "metadata": {},
          "output_type": "execute_result"
        }
      ],
      "source": [
        "oov_train = list(set([word for word in dfc_train.word.values if word not in embedding_model.index_to_key]))\n",
        "oov_val = list(set([word for word in dfc_val.word.values if word not in embedding_model.index_to_key]))\n",
        "\n",
        "len(oov_train)"
      ]
    },
    {
      "cell_type": "code",
      "execution_count": 26,
      "metadata": {
        "colab": {
          "base_uri": "https://localhost:8080/"
        },
        "id": "4YxwWfUB485A",
        "outputId": "70166e6f-2cd0-4d3f-b25a-c88548b92876"
      },
      "outputs": [
        {
          "data": {
            "text/plain": [
              "305"
            ]
          },
          "execution_count": 26,
          "metadata": {},
          "output_type": "execute_result"
        }
      ],
      "source": [
        "len(oov_val)"
      ]
    },
    {
      "cell_type": "code",
      "execution_count": 27,
      "metadata": {
        "colab": {
          "base_uri": "https://localhost:8080/"
        },
        "id": "_FCfRir-485A",
        "outputId": "9432b319-a918-444e-c1d0-8d3bbbfb63f5"
      },
      "outputs": [
        {
          "data": {
            "text/plain": [
              "['fifthgrade',\n",
              " 'familyplanning',\n",
              " 'nosmoking',\n",
              " 'solaia',\n",
              " '54yearold',\n",
              " 'timesstock',\n",
              " 'limitedpartnership',\n",
              " 'romaneeconti',\n",
              " 'coowner',\n",
              " 'tradingcompany']"
            ]
          },
          "execution_count": 27,
          "metadata": {},
          "output_type": "execute_result"
        }
      ],
      "source": [
        "oov_train[0:10]"
      ]
    },
    {
      "cell_type": "markdown",
      "metadata": {
        "id": "d3NWFTMjmg78"
      },
      "source": [
        "### Embedding with GloVe"
      ]
    },
    {
      "cell_type": "markdown",
      "metadata": {
        "id": "vMrf7Fro485A"
      },
      "source": [
        "#### Prepare the embedding matrix"
      ]
    },
    {
      "cell_type": "markdown",
      "metadata": {
        "id": "9Htl90Gw485B"
      },
      "source": [
        "Definition of a tokenizer."
      ]
    },
    {
      "cell_type": "code",
      "execution_count": 28,
      "metadata": {
        "colab": {
          "base_uri": "https://localhost:8080/"
        },
        "id": "6pHoC5Xe3ETA",
        "outputId": "650fcd6b-abac-4567-fc32-356e42abcec8"
      },
      "outputs": [
        {
          "name": "stdout",
          "output_type": "stream",
          "text": [
            "Number of unique words in dictionary= 7305\n",
            "Dictionary head:  {'<unk>': 1, 'the': 2, 'of': 3, 'a': 4, 'to': 5, 'in': 6, 'and': 7, 'for': 8, 's': 9, 'that': 10}\n"
          ]
        }
      ],
      "source": [
        "from tensorflow.keras.preprocessing.text import Tokenizer\n",
        "\n",
        "# define the tokenizer\n",
        "tokenizer = Tokenizer(oov_token='<unk>')\n",
        "text = dfc_train.word.values\n",
        "\n",
        "#fit the tokenizer on the training data\n",
        "tokenizer.fit_on_texts(text)\n",
        "\n",
        "# number of unique words in dict.\n",
        "print(\"Number of unique words in dictionary=\", len(tokenizer.word_index))\n",
        "print(\"Dictionary head: \", dict(list(tokenizer.word_index.items())[0:10]))"
      ]
    },
    {
      "cell_type": "code",
      "execution_count": 29,
      "metadata": {},
      "outputs": [],
      "source": [
        "with open('./Dataset/word_index.json','w') as word_index_file:\n",
        "    word_index_file.write(tokenizer.to_json())"
      ]
    },
    {
      "cell_type": "markdown",
      "metadata": {
        "id": "zYWHS267ohxZ"
      },
      "source": [
        "Define the embedding matrix."
      ]
    },
    {
      "cell_type": "code",
      "execution_count": 30,
      "metadata": {
        "id": "xpBaqwkd5axM"
      },
      "outputs": [],
      "source": [
        "from tqdm import tqdm\n",
        "\n",
        "def build_embedding_matrix(embedding_model: gensim.models.keyedvectors.KeyedVectors,\n",
        "                           embedding_dimension: int,\n",
        "                           word_to_idx,\n",
        "                           vocab_size: int) -> np.ndarray:\n",
        "    \"\"\"\n",
        "    Builds the embedding matrix of a specific dataset given a pre-trained word embedding model\n",
        "\n",
        "    :param embedding_model: pre-trained word embedding model (gensim wrapper)\n",
        "    :param word_to_idx: vocabulary map (word -> index) (dict)\n",
        "    :param vocab_size: size of the vocabulary\n",
        "    \n",
        "\n",
        "    :return\n",
        "        - embedding matrix that assigns a high dimensional vector to each word in the dataset specific vocabulary (shape |V| x d)\n",
        "    \"\"\"\n",
        "    embedding_matrix = np.zeros((vocab_size, embedding_dimension), dtype=np.float32)\n",
        "    for word, idx in tqdm(tokenizer.word_index.items()):\n",
        "        try:\n",
        "            embedding_vector = embedding_model[word]\n",
        "        except (KeyError, TypeError):\n",
        "            #print(f\"Using random vector for '{word}'\")\n",
        "            embedding_vector = np.random.uniform(low=-0.05, high=0.05, size=embedding_dimension)\n",
        "\n",
        "        embedding_matrix[idx] = embedding_vector\n",
        "\n",
        "    return embedding_matrix"
      ]
    },
    {
      "cell_type": "code",
      "execution_count": 31,
      "metadata": {
        "colab": {
          "base_uri": "https://localhost:8080/"
        },
        "id": "nYYqz59Ilmem",
        "outputId": "cc07e32a-a0c4-461c-a674-ff38dc8277ae"
      },
      "outputs": [
        {
          "name": "stderr",
          "output_type": "stream",
          "text": [
            "100%|██████████| 7305/7305 [00:00<00:00, 404635.32it/s]"
          ]
        },
        {
          "name": "stdout",
          "output_type": "stream",
          "text": [
            "Embedding matrix shape: (7306, 50)\n"
          ]
        },
        {
          "name": "stderr",
          "output_type": "stream",
          "text": [
            "\n"
          ]
        }
      ],
      "source": [
        "# Testing\n",
        "embedding_dimension = 50\n",
        "vocab_size = len(tokenizer.word_index) + 1\n",
        "embedding_matrix = build_embedding_matrix(embedding_model, embedding_dimension, tokenizer.word_index, vocab_size )\n",
        "print(f\"Embedding matrix shape: {embedding_matrix.shape}\")"
      ]
    },
    {
      "cell_type": "markdown",
      "metadata": {
        "id": "ojCSzxS1485B"
      },
      "source": [
        "#### Encode the dataset"
      ]
    },
    {
      "cell_type": "markdown",
      "metadata": {
        "id": "BLiAw26WqhqF"
      },
      "source": [
        "Define a label encoder for the target class."
      ]
    },
    {
      "cell_type": "code",
      "execution_count": 32,
      "metadata": {
        "colab": {
          "base_uri": "https://localhost:8080/"
        },
        "id": "54XQt_rz6fgv",
        "outputId": "327c0f09-0bc0-426f-d644-3f14e84b4d08"
      },
      "outputs": [
        {
          "name": "stderr",
          "output_type": "stream",
          "text": [
            "/opt/anaconda3/envs/nlp/lib/python3.7/site-packages/ipykernel_launcher.py:4: SettingWithCopyWarning: \n",
            "A value is trying to be set on a copy of a slice from a DataFrame.\n",
            "Try using .loc[row_indexer,col_indexer] = value instead\n",
            "\n",
            "See the caveats in the documentation: https://pandas.pydata.org/pandas-docs/stable/user_guide/indexing.html#returning-a-view-versus-a-copy\n",
            "  after removing the cwd from sys.path.\n",
            "/opt/anaconda3/envs/nlp/lib/python3.7/site-packages/ipykernel_launcher.py:5: SettingWithCopyWarning: \n",
            "A value is trying to be set on a copy of a slice from a DataFrame.\n",
            "Try using .loc[row_indexer,col_indexer] = value instead\n",
            "\n",
            "See the caveats in the documentation: https://pandas.pydata.org/pandas-docs/stable/user_guide/indexing.html#returning-a-view-versus-a-copy\n",
            "  \"\"\"\n",
            "/opt/anaconda3/envs/nlp/lib/python3.7/site-packages/ipykernel_launcher.py:6: SettingWithCopyWarning: \n",
            "A value is trying to be set on a copy of a slice from a DataFrame.\n",
            "Try using .loc[row_indexer,col_indexer] = value instead\n",
            "\n",
            "See the caveats in the documentation: https://pandas.pydata.org/pandas-docs/stable/user_guide/indexing.html#returning-a-view-versus-a-copy\n",
            "  \n",
            "/opt/anaconda3/envs/nlp/lib/python3.7/site-packages/ipykernel_launcher.py:7: SettingWithCopyWarning: \n",
            "A value is trying to be set on a copy of a slice from a DataFrame.\n",
            "Try using .loc[row_indexer,col_indexer] = value instead\n",
            "\n",
            "See the caveats in the documentation: https://pandas.pydata.org/pandas-docs/stable/user_guide/indexing.html#returning-a-view-versus-a-copy\n",
            "  import sys\n"
          ]
        }
      ],
      "source": [
        "from sklearn.preprocessing import LabelEncoder, OneHotEncoder\n",
        "\n",
        "le = LabelEncoder()\n",
        "dfc_train['encoded_label'] = le.fit_transform(dfc_train['label'])\n",
        "dfc_val['encoded_label'] = le.transform(dfc_val['label'])\n",
        "dfc_test['encoded_label'] = le.transform(dfc_test['label'])\n",
        "dfc_sample['encoded_label'] = le.transform(dfc_sample['label'])"
      ]
    },
    {
      "cell_type": "code",
      "execution_count": 33,
      "metadata": {
        "colab": {
          "base_uri": "https://localhost:8080/",
          "height": 0
        },
        "id": "5YGyoO0h485C",
        "outputId": "af6e4101-9268-4794-8e64-2a484b9edb4b"
      },
      "outputs": [
        {
          "data": {
            "text/html": [
              "<div>\n",
              "<style scoped>\n",
              "    .dataframe tbody tr th:only-of-type {\n",
              "        vertical-align: middle;\n",
              "    }\n",
              "\n",
              "    .dataframe tbody tr th {\n",
              "        vertical-align: top;\n",
              "    }\n",
              "\n",
              "    .dataframe thead th {\n",
              "        text-align: right;\n",
              "    }\n",
              "</style>\n",
              "<table border=\"1\" class=\"dataframe\">\n",
              "  <thead>\n",
              "    <tr style=\"text-align: right;\">\n",
              "      <th></th>\n",
              "      <th>word</th>\n",
              "      <th>label</th>\n",
              "      <th>encoded_label</th>\n",
              "    </tr>\n",
              "  </thead>\n",
              "  <tbody>\n",
              "    <tr>\n",
              "      <th>0</th>\n",
              "      <td>pierre</td>\n",
              "      <td>NNP</td>\n",
              "      <td>16</td>\n",
              "    </tr>\n",
              "    <tr>\n",
              "      <th>1</th>\n",
              "      <td>vinken</td>\n",
              "      <td>NNP</td>\n",
              "      <td>16</td>\n",
              "    </tr>\n",
              "    <tr>\n",
              "      <th>3</th>\n",
              "      <td>61</td>\n",
              "      <td>CD</td>\n",
              "      <td>5</td>\n",
              "    </tr>\n",
              "    <tr>\n",
              "      <th>4</th>\n",
              "      <td>years</td>\n",
              "      <td>NNS</td>\n",
              "      <td>18</td>\n",
              "    </tr>\n",
              "    <tr>\n",
              "      <th>5</th>\n",
              "      <td>old</td>\n",
              "      <td>JJ</td>\n",
              "      <td>10</td>\n",
              "    </tr>\n",
              "    <tr>\n",
              "      <th>7</th>\n",
              "      <td>will</td>\n",
              "      <td>MD</td>\n",
              "      <td>14</td>\n",
              "    </tr>\n",
              "    <tr>\n",
              "      <th>8</th>\n",
              "      <td>join</td>\n",
              "      <td>VB</td>\n",
              "      <td>29</td>\n",
              "    </tr>\n",
              "    <tr>\n",
              "      <th>9</th>\n",
              "      <td>the</td>\n",
              "      <td>DT</td>\n",
              "      <td>6</td>\n",
              "    </tr>\n",
              "    <tr>\n",
              "      <th>10</th>\n",
              "      <td>board</td>\n",
              "      <td>NN</td>\n",
              "      <td>15</td>\n",
              "    </tr>\n",
              "    <tr>\n",
              "      <th>11</th>\n",
              "      <td>as</td>\n",
              "      <td>IN</td>\n",
              "      <td>9</td>\n",
              "    </tr>\n",
              "  </tbody>\n",
              "</table>\n",
              "</div>"
            ],
            "text/plain": [
              "      word label  encoded_label\n",
              "0   pierre   NNP             16\n",
              "1   vinken   NNP             16\n",
              "3       61    CD              5\n",
              "4    years   NNS             18\n",
              "5      old    JJ             10\n",
              "7     will    MD             14\n",
              "8     join    VB             29\n",
              "9      the    DT              6\n",
              "10   board    NN             15\n",
              "11      as    IN              9"
            ]
          },
          "execution_count": 33,
          "metadata": {},
          "output_type": "execute_result"
        }
      ],
      "source": [
        "dfc_train.head(10)"
      ]
    },
    {
      "cell_type": "markdown",
      "metadata": {
        "id": "yS7M36zPrBip"
      },
      "source": [
        "Transform the text into a sequence of integers using the tokenizer defined before. "
      ]
    },
    {
      "cell_type": "code",
      "execution_count": 34,
      "metadata": {
        "colab": {
          "base_uri": "https://localhost:8080/"
        },
        "id": "72n2_dZHDprc",
        "outputId": "e5546955-4192-4f5d-9357-45fd09e41b12"
      },
      "outputs": [
        {
          "data": {
            "text/plain": [
              "39"
            ]
          },
          "execution_count": 34,
          "metadata": {},
          "output_type": "execute_result"
        }
      ],
      "source": [
        "x_train = np.array(tokenizer.texts_to_sequences(dfc_train.word.values)) \n",
        "y_train = np.array( dfc_train['encoded_label'])\n",
        "\n",
        "x_val = np.array(tokenizer.texts_to_sequences(dfc_val.word.values))\n",
        "y_val = np.array(dfc_val['encoded_label'])\n",
        "\n",
        "x_test = np.array(tokenizer.texts_to_sequences(dfc_test.word.values))\n",
        "y_test = np.array(dfc_test['encoded_label'])\n",
        "\n",
        "x_sample = np.array(tokenizer.texts_to_sequences(dfc_sample.word.values))\n",
        "y_sample = np.array(dfc_sample['encoded_label'])\n",
        "\n",
        "#number of unique labels\n",
        "num_classes = len(np.unique(y_train))\n",
        "num_classes\n"
      ]
    },
    {
      "cell_type": "code",
      "execution_count": 35,
      "metadata": {
        "colab": {
          "base_uri": "https://localhost:8080/"
        },
        "id": "NHZTtqWB485D",
        "outputId": "c3ee4123-ec49-46d9-b78e-742bd18f3a3d"
      },
      "outputs": [
        {
          "data": {
            "text/plain": [
              "7306"
            ]
          },
          "execution_count": 35,
          "metadata": {},
          "output_type": "execute_result"
        }
      ],
      "source": [
        "\n",
        "vocab_size = len(tokenizer.word_index) + 1\n",
        "vocab_size"
      ]
    },
    {
      "cell_type": "markdown",
      "metadata": {
        "id": "51RMHWA0r2ep"
      },
      "source": [
        "Pad the sequences to make them of same length before passing them to the model."
      ]
    },
    {
      "cell_type": "code",
      "execution_count": 36,
      "metadata": {
        "colab": {
          "base_uri": "https://localhost:8080/"
        },
        "id": "Lzxixj0QExD7",
        "outputId": "3259b7af-08cb-4dcc-ab70-59494426712f"
      },
      "outputs": [
        {
          "name": "stdout",
          "output_type": "stream",
          "text": [
            "X train shape: (41149, 1)\n",
            "Y train shape: (41149,)\n",
            "type:<class 'numpy.ndarray'>\n",
            "X val shape: (27263, 1)\n",
            "Y val shape: (27263,)\n",
            "type:<class 'numpy.ndarray'>\n",
            "X test shape: (13614, 1) (13614, 1)\n",
            "Y test shape: (13614,) (13614,)\n"
          ]
        }
      ],
      "source": [
        "from tensorflow.keras.preprocessing.sequence import pad_sequences\n",
        "\n",
        "x_train = pad_sequences(x_train, maxlen=1, padding='post')\n",
        "x_val = pad_sequences(x_val, maxlen=1, padding='post')\n",
        "x_test = pad_sequences(x_test, maxlen=1, padding='post')\n",
        "\n",
        "#Train\n",
        "print(f'X train shape: {x_train.shape}')\n",
        "print(f'Y train shape: {y_train.shape}')\n",
        "print(f'type:{type(x_train)}')\n",
        "\n",
        "# Val\n",
        "print(f'X val shape: {x_val.shape}')\n",
        "print(f'Y val shape: {y_val.shape}')\n",
        "print(f'type:{type(y_train)}')\n",
        "# Test\n",
        "\n",
        "print(f'X test shape: {x_test.shape}', x_test.shape)\n",
        "print(f'Y test shape: {y_test.shape}', y_test.shape)"
      ]
    },
    {
      "cell_type": "markdown",
      "metadata": {},
      "source": [
        "## Utility methods"
      ]
    },
    {
      "cell_type": "code",
      "execution_count": 37,
      "metadata": {},
      "outputs": [],
      "source": [
        "from tensorflow import keras\n",
        "from tensorflow.keras import layers\n",
        "from typing import List, Dict, Callable\n",
        "\n",
        "\n",
        "def create_model(layers_info: List[Dict], compile_info: Dict) -> keras.Model:\n",
        "    \"\"\"\n",
        "    Create a Keras model given a list of layer information\n",
        "\n",
        "    :param layers_info: a list of dictionaries, one for each layer\n",
        "    :param compile_info: dictionary containing compile information\n",
        "\n",
        "    :return\n",
        "        model: the built keras sequential model\n",
        "    \"\"\"\n",
        "\n",
        "    model = keras.Sequential()\n",
        "    for _, info in enumerate(layers_info):\n",
        "        layer = info['mlayer'](**{key: value for key, value in info.items() if key != 'mlayer'})\n",
        "        model.add(layer)\n",
        "\n",
        "    model.summary()\n",
        "    model.compile(**compile_info)\n",
        "    return model"
      ]
    },
    {
      "cell_type": "code",
      "execution_count": 38,
      "metadata": {},
      "outputs": [],
      "source": [
        "import matplotlib.pyplot as plt\n",
        "from functools import partial\n",
        "from keras.callbacks import History\n",
        "\n",
        "def show_history(history: History):\n",
        "    \"\"\"\n",
        "    Shows training history data stored by the History Keras callback\n",
        "\n",
        "    :param history: History Keras callback\n",
        "    \"\"\"\n",
        "    history_data = history.history\n",
        "    print(f\"Displaying the following history keys: {history_data.keys()}\")\n",
        "    \n",
        "    for key, value in history_data.items():\n",
        "        if not key.startswith('val'):\n",
        "            fig, ax = plt.subplots(1, 1)\n",
        "            ax.set_title(key)\n",
        "            ax.plot(value)\n",
        "            if f'val_{key}' in history_data:\n",
        "                ax.plot(history_data[f'val_{key}'])\n",
        "            else:\n",
        "                print(f\"Couldn't find validation values for metric: {key}\")\n",
        "\n",
        "            ax.set_ylabel(key)\n",
        "            ax.set_xlabel('epoch')\n",
        "            ax.legend(['train', 'val'], loc='best')\n",
        "            plt.grid(True)\n",
        "        plt.show()"
      ]
    },
    {
      "cell_type": "code",
      "execution_count": 39,
      "metadata": {},
      "outputs": [],
      "source": [
        "def train_model(model: keras.Model, training_info: Dict):\n",
        "    \"\"\"\n",
        "    Training routine for the Keras model.\n",
        "    At the end of the training, retrieved History data is shown.\n",
        "\n",
        "    :param model: Keras built model\n",
        "    :param training_info: dictionary storing model fit() argument information\n",
        "\n",
        "    :return\n",
        "        model: trained Keras model\n",
        "    \"\"\"\n",
        "\n",
        "    print(f\"Start training! \\nParameters: {training_info}\")\n",
        "\n",
        "    history = model.fit(x=x_train, y=y_train,\n",
        "                        validation_data=(x_val, y_val),\n",
        "                        **training_info)\n",
        "    print(\"Training completed!\")\n",
        "\n",
        "    print(\"Showing history...\")\n",
        "    show_history(history)\n",
        "\n",
        "    return model"
      ]
    },
    {
      "cell_type": "code",
      "execution_count": 40,
      "metadata": {},
      "outputs": [],
      "source": [
        "def predict_data(model: keras.Model,\n",
        "                x: np.ndarray,\n",
        "                prediction_info: Dict):\n",
        "    \"\"\"\n",
        "    Inference routine of a given input set of examples\n",
        "\n",
        "    :param model: Keras built and possibly trained model\n",
        "    :param x: input set of examples in np.ndarray format\n",
        "    :param prediction_info: dictionary storing model predict() argument information\n",
        "\n",
        "    :return\n",
        "        predictions: predicted labels in np.ndarray format\n",
        "    \"\"\"\n",
        "    print(f'Starting prediction: \\n{prediction_info}')\n",
        "    print(f'Predicting on {x.shape[0]} samples')\n",
        "    predictions = model.predict(x, **prediction_info)\n",
        "    return predictions"
      ]
    },
    {
      "cell_type": "code",
      "execution_count": 41,
      "metadata": {},
      "outputs": [],
      "source": [
        "from sklearn.metrics import f1_score\n",
        "\n",
        "def compute_f1(model: keras.Model, \n",
        "             x: np.ndarray, \n",
        "             y: np.ndarray):\n",
        "    \"\"\"\n",
        "    Compute F1_score on the given data with corresponding labels\n",
        "\n",
        "    :param model: Keras built and possibly trained model\n",
        "    :param x: data in np.ndarray format\n",
        "    :param y: ground-truth labels in np.ndarray format\n",
        "\n",
        "    :return\n",
        "        score: f1_macro_score\n",
        "    \"\"\"\n",
        "    #predictions on the x set\n",
        "    prediction_info = {\n",
        "        'batch_size': 64,\n",
        "        'verbose': 1\n",
        "    }\n",
        "    y_pred = predict_data(model=model, x=x, prediction_info=prediction_info)\n",
        "\n",
        "    #compute argmax to take the best class for each sample\n",
        "    y_pred = np.argmax(y_pred, axis=1)\n",
        "    #compute the f1_macro\n",
        "    score = f1_score(y, y_pred, average ='macro')\n",
        "    return score"
      ]
    },
    {
      "cell_type": "markdown",
      "metadata": {
        "id": "7FTlmNoGi8CF"
      },
      "source": [
        "## Baseline model: LSTM"
      ]
    },
    {
      "cell_type": "markdown",
      "metadata": {
        "id": "LCcVYGrNsQ-x"
      },
      "source": [
        "### Define the model"
      ]
    },
    {
      "cell_type": "code",
      "execution_count": 42,
      "metadata": {
        "colab": {
          "base_uri": "https://localhost:8080/"
        },
        "id": "RyfvHkUZ1wEU",
        "outputId": "3719ad0e-34c9-429f-cc48-2278e2c1f914"
      },
      "outputs": [
        {
          "name": "stderr",
          "output_type": "stream",
          "text": [
            "2022-12-11 16:28:53.555997: I tensorflow/compiler/xla/stream_executor/cuda/cuda_gpu_executor.cc:981] successful NUMA node read from SysFS had negative value (-1), but there must be at least one NUMA node, so returning NUMA node zero\n",
            "2022-12-11 16:28:53.556313: W tensorflow/compiler/xla/stream_executor/platform/default/dso_loader.cc:64] Could not load dynamic library 'libcudart.so.11.0'; dlerror: libcudart.so.11.0: cannot open shared object file: No such file or directory\n",
            "2022-12-11 16:28:53.556391: W tensorflow/compiler/xla/stream_executor/platform/default/dso_loader.cc:64] Could not load dynamic library 'libcublas.so.11'; dlerror: libcublas.so.11: cannot open shared object file: No such file or directory\n",
            "2022-12-11 16:28:53.556471: W tensorflow/compiler/xla/stream_executor/platform/default/dso_loader.cc:64] Could not load dynamic library 'libcublasLt.so.11'; dlerror: libcublasLt.so.11: cannot open shared object file: No such file or directory\n",
            "2022-12-11 16:28:53.556544: W tensorflow/compiler/xla/stream_executor/platform/default/dso_loader.cc:64] Could not load dynamic library 'libcufft.so.10'; dlerror: libcufft.so.10: cannot open shared object file: No such file or directory\n",
            "2022-12-11 16:28:53.556618: W tensorflow/compiler/xla/stream_executor/platform/default/dso_loader.cc:64] Could not load dynamic library 'libcurand.so.10'; dlerror: libcurand.so.10: cannot open shared object file: No such file or directory\n",
            "2022-12-11 16:28:53.556674: W tensorflow/compiler/xla/stream_executor/platform/default/dso_loader.cc:64] Could not load dynamic library 'libcusolver.so.11'; dlerror: libcusolver.so.11: cannot open shared object file: No such file or directory\n",
            "2022-12-11 16:28:53.556721: W tensorflow/compiler/xla/stream_executor/platform/default/dso_loader.cc:64] Could not load dynamic library 'libcusparse.so.11'; dlerror: libcusparse.so.11: cannot open shared object file: No such file or directory\n",
            "2022-12-11 16:28:53.557431: W tensorflow/core/common_runtime/gpu/gpu_device.cc:1934] Cannot dlopen some GPU libraries. Please make sure the missing libraries mentioned above are installed properly if you would like to use GPU. Follow the guide at https://www.tensorflow.org/install/gpu for how to download and setup the required libraries for your platform.\n",
            "Skipping registering GPU devices...\n",
            "2022-12-11 16:28:53.558237: I tensorflow/core/platform/cpu_feature_guard.cc:193] This TensorFlow binary is optimized with oneAPI Deep Neural Network Library (oneDNN) to use the following CPU instructions in performance-critical operations:  AVX2 FMA\n",
            "To enable them in other operations, rebuild TensorFlow with the appropriate compiler flags.\n"
          ]
        },
        {
          "name": "stdout",
          "output_type": "stream",
          "text": [
            "Model: \"sequential\"\n",
            "_________________________________________________________________\n",
            " Layer (type)                Output Shape              Param #   \n",
            "=================================================================\n",
            " embedding_layer (Embedding)  (None, 1, 50)            365300    \n",
            "                                                                 \n",
            " LSTM (Bidirectional)        (None, 64)                21248     \n",
            "                                                                 \n",
            " logits (Dense)              (None, 39)                2535      \n",
            "                                                                 \n",
            "=================================================================\n",
            "Total params: 389,083\n",
            "Trainable params: 23,783\n",
            "Non-trainable params: 365,300\n",
            "_________________________________________________________________\n"
          ]
        }
      ],
      "source": [
        "from tensorflow.keras.models import Sequential\n",
        "from tensorflow.keras.layers import Embedding, Dense, LSTM, Bidirectional \n",
        "from tensorflow.keras.optimizers import Adam\n",
        "\n",
        "base_layers_info = [\n",
        "    {\n",
        "        \"mlayer\": layers.Embedding,        \n",
        "        'input_dim': vocab_size,\n",
        "        \"output_dim\" : embedding_dimension,\n",
        "        \"input_length\" : 1,\n",
        "        \"weights\" : [embedding_matrix],\n",
        "        \"trainable\" : False,\n",
        "        \"name\" : \"embedding_layer\"\n",
        "    },\n",
        "    {\n",
        "        \"mlayer\": layers.Bidirectional,\n",
        "        \"layer\": LSTM(32),\n",
        "        \"name\" : 'LSTM'\n",
        "    },\n",
        "    {\n",
        "        \"mlayer\": layers.Dense,\n",
        "        \"units\": num_classes,\n",
        "        \"activation\" : 'softmax',\n",
        "        'name' : 'logits'\n",
        "    }\n",
        "]\n",
        "\n",
        "base_compile_info = {\n",
        "    'optimizer': Adam(),\n",
        "    'loss': 'sparse_categorical_crossentropy',\n",
        "    'metrics': ['accuracy']\n",
        "}\n",
        "\n",
        "base_model = create_model(base_layers_info, base_compile_info)"
      ]
    },
    {
      "cell_type": "code",
      "execution_count": 43,
      "metadata": {
        "colab": {
          "base_uri": "https://localhost:8080/"
        },
        "id": "ZY8zv1dvQM3A",
        "outputId": "5f4dad49-a55a-4ad3-b44b-87ff5211e3d4"
      },
      "outputs": [
        {
          "name": "stdout",
          "output_type": "stream",
          "text": [
            "Start training! \n",
            "Parameters: {'verbose': 0, 'epochs': 30, 'batch_size': 64}\n",
            "Training completed!\n",
            "Showing history...\n",
            "Displaying the following history keys: dict_keys(['loss', 'accuracy', 'val_loss', 'val_accuracy'])\n"
          ]
        },
        {
          "data": {
            "image/png": "[encoded data removed]",
            "text/plain": [
              "<Figure size 640x480 with 1 Axes>"
            ]
          },
          "metadata": {},
          "output_type": "display_data"
        },
        {
          "data": {
            "image/png": "[encoded data removed]",
            "text/plain": [
              "<Figure size 640x480 with 1 Axes>"
            ]
          },
          "metadata": {},
          "output_type": "display_data"
        }
      ],
      "source": [
        "# Train\n",
        " \n",
        "base_training_info = {\n",
        "    'verbose': 0,\n",
        "    'epochs' : 30,\n",
        "    'batch_size' : 64\n",
        "}\n",
        "\n",
        "base_model = train_model(model=base_model,training_info = base_training_info)"
      ]
    },
    {
      "cell_type": "code",
      "execution_count": 44,
      "metadata": {
        "colab": {
          "base_uri": "https://localhost:8080/"
        },
        "id": "huevqkmeNkq7",
        "outputId": "db0b785d-5060-43b2-ba02-56540a9835c4"
      },
      "outputs": [
        {
          "data": {
            "text/plain": [
              "keras.engine.sequential.Sequential"
            ]
          },
          "execution_count": 44,
          "metadata": {},
          "output_type": "execute_result"
        }
      ],
      "source": [
        "type(base_model)"
      ]
    },
    {
      "cell_type": "markdown",
      "metadata": {
        "id": "Jl8xoLex485H"
      },
      "source": [
        "#### F1-Macro evaluation"
      ]
    },
    {
      "cell_type": "code",
      "execution_count": 45,
      "metadata": {
        "id": "scAXLwfRJrS4"
      },
      "outputs": [
        {
          "name": "stdout",
          "output_type": "stream",
          "text": [
            "852/852 [==============================] - 2s 2ms/step - loss: 0.7299 - accuracy: 0.7838\n",
            "Model loss: 0.7298994064331055, accuracy: 0.7838095426559448\n",
            "Starting prediction: \n",
            "{'batch_size': 64, 'verbose': 1}\n",
            "Predicting on 27263 samples\n",
            "426/426 [==============================] - 1s 1ms/step\n",
            "F1_score on the validation set is: 0.6665453282369663\n",
            "Starting prediction: \n",
            "{'batch_size': 64, 'verbose': 1}\n",
            "Predicting on 13614 samples\n",
            "213/213 [==============================] - 0s 1ms/step\n",
            "F1_score on the test set is: 0.7374390710303018\n"
          ]
        }
      ],
      "source": [
        "loss, accuracy = base_model.evaluate(x_val, y_val)\n",
        "print(f\"Model loss: {loss}, accuracy: {accuracy}\")\n",
        "\n",
        "# Inference and evaluate\n",
        "\n",
        "base_score = compute_f1(base_model, x_val, y_val)\n",
        "print(f'F1_score on the validation set is: {base_score}')\n",
        "\n",
        "base_score = compute_f1(base_model, x_test, y_test)\n",
        "print(f'F1_score on the test set is: {base_score}')"
      ]
    },
    {
      "cell_type": "code",
      "execution_count": 46,
      "metadata": {
        "colab": {
          "base_uri": "https://localhost:8080/"
        },
        "id": "_VDz0j1g485H",
        "outputId": "03b37ce4-1e95-49c6-a8f6-fa7a2ce5dcff"
      },
      "outputs": [
        {
          "data": {
            "text/plain": [
              "(27263,)"
            ]
          },
          "execution_count": 46,
          "metadata": {},
          "output_type": "execute_result"
        }
      ],
      "source": [
        "y_val.shape"
      ]
    },
    {
      "cell_type": "code",
      "execution_count": 47,
      "metadata": {
        "colab": {
          "base_uri": "https://localhost:8080/"
        },
        "id": "J6QkdLAs485H",
        "outputId": "f7590098-6f97-4a0e-9224-77c5146fcd77"
      },
      "outputs": [
        {
          "data": {
            "text/plain": [
              "(27263, 39)"
            ]
          },
          "execution_count": 47,
          "metadata": {},
          "output_type": "execute_result"
        }
      ],
      "source": [
        "onehot = OneHotEncoder(sparse=False)\n",
        "onehot.fit(y_train.reshape(-1,1))\n",
        "y_val_onehot = onehot.transform(y_val.reshape(-1,1))\n",
        "y_val_onehot.shape"
      ]
    },
    {
      "cell_type": "code",
      "execution_count": 48,
      "metadata": {
        "colab": {
          "base_uri": "https://localhost:8080/"
        },
        "id": "8vKW-bOX485H",
        "outputId": "a13387f6-9505-480c-fef7-609f3548c10a"
      },
      "outputs": [
        {
          "name": "stdout",
          "output_type": "stream",
          "text": [
            "852/852 [==============================] - 1s 1ms/step\n"
          ]
        },
        {
          "data": {
            "text/plain": [
              "(27263, 39)"
            ]
          },
          "execution_count": 48,
          "metadata": {},
          "output_type": "execute_result"
        }
      ],
      "source": [
        "y_pred_val = base_model.predict(x_val)\n",
        "y_pred_val.shape"
      ]
    },
    {
      "cell_type": "code",
      "execution_count": 49,
      "metadata": {
        "colab": {
          "base_uri": "https://localhost:8080/"
        },
        "id": "oRJgXWHM485I",
        "outputId": "dc176b6c-7caf-4fd1-bca8-7be5f07b786a"
      },
      "outputs": [
        {
          "name": "stdout",
          "output_type": "stream",
          "text": [
            "WARNING:tensorflow:From /opt/anaconda3/envs/nlp/lib/python3.7/site-packages/tensorflow/python/autograph/pyct/static_analysis/liveness.py:83: Analyzer.lamba_check (from tensorflow.python.autograph.pyct.static_analysis.liveness) is deprecated and will be removed after 2023-09-23.\n",
            "Instructions for updating:\n",
            "Lambda fuctions will be no more assumed to be used in the statement where they are used, or at least in the same block. https://github.com/tensorflow/tensorflow/issues/56089\n"
          ]
        },
        {
          "data": {
            "text/plain": [
              "<tf.Tensor: shape=(), dtype=float32, numpy=0.64726937>"
            ]
          },
          "execution_count": 49,
          "metadata": {},
          "output_type": "execute_result"
        }
      ],
      "source": [
        "# https://www.tensorflow.org/addons/api_docs/python/tfa/metrics/F1Score\n",
        "f1_macro = tfa.metrics.F1Score(average=\"macro\", num_classes=num_classes, threshold=0.5)\n",
        "f1_macro.update_state(y_val_onehot, y_pred_val)\n",
        "f1_macro.result()"
      ]
    },
    {
      "attachments": {},
      "cell_type": "markdown",
      "metadata": {},
      "source": [
        "#### Sample test"
      ]
    },
    {
      "cell_type": "code",
      "execution_count": 50,
      "metadata": {},
      "outputs": [
        {
          "name": "stdout",
          "output_type": "stream",
          "text": [
            "1/1 [==============================] - 1s 937ms/step\n",
            "16 \t 16 \t ok \t pierre\n",
            "10 \t 16 \t ERR \t vinken\n",
            "5 \t 5 \t ok \t 61\n",
            "18 \t 18 \t ok \t years\n",
            "10 \t 10 \t ok \t old\n",
            "14 \t 14 \t ok \t will\n",
            "29 \t 29 \t ok \t join\n",
            "6 \t 6 \t ok \t the\n",
            "15 \t 15 \t ok \t board\n",
            "9 \t 9 \t ok \t as\n",
            "6 \t 6 \t ok \t a\n",
            "10 \t 10 \t ok \t nonexecutive\n",
            "15 \t 15 \t ok \t director\n",
            "16 \t 16 \t ok \t nov\n",
            "5 \t 5 \t ok \t 29\n",
            "16 \t 16 \t ok \t mr\n",
            "10 \t 16 \t ERR \t vinken\n",
            "34 \t 34 \t ok \t is\n",
            "15 \t 15 \t ok \t chairman\n",
            "9 \t 9 \t ok \t of\n",
            "16 \t 16 \t ok \t elsevier\n",
            "16 \t 16 \t ok \t nv\n",
            "6 \t 6 \t ok \t the\n",
            "16 \t 16 \t ok \t dutch\n",
            "16 \t 31 \t ERR \t publishing\n",
            "15 \t 15 \t ok \t group\n"
          ]
        }
      ],
      "source": [
        "x_sample_text = tokenizer.sequences_to_texts(x_sample)\n",
        "y_pred_sample_onehot = base_model.predict(x_sample)\n",
        "y_pred_sample = np.argmax(y_pred_sample_onehot, axis=1)\n",
        "for i in range(x_sample.size):\n",
        "    print(f\"{y_pred_sample[i]} \\t {y_sample[i]} \\t {'ok' if y_pred_sample[i]==y_sample[i] else 'ERR'} \\t {x_sample_text[i]}\")"
      ]
    },
    {
      "cell_type": "markdown",
      "metadata": {
        "id": "Jjm_29f4i8CG"
      },
      "source": [
        "## Model A: GRU"
      ]
    },
    {
      "cell_type": "markdown",
      "metadata": {
        "id": "hhyr0auV485I"
      },
      "source": [
        "GRU is a simpler alternative to LSTM's architecture, less effective but with a faster train.\n",
        "</br>Two layers architecture: a Bidirectional GRU layer and a Dense/FC layer on top. "
      ]
    },
    {
      "cell_type": "code",
      "execution_count": 51,
      "metadata": {
        "id": "53xpFPP4485I",
        "outputId": "8daa8846-c261-40ba-cae4-2484987602e5"
      },
      "outputs": [
        {
          "name": "stdout",
          "output_type": "stream",
          "text": [
            "Model: \"sequential_1\"\n",
            "_________________________________________________________________\n",
            " Layer (type)                Output Shape              Param #   \n",
            "=================================================================\n",
            " embedding (Embedding)       (None, 1, 50)             365300    \n",
            "                                                                 \n",
            " GRU (Bidirectional)         (None, 64)                16128     \n",
            "                                                                 \n",
            " logits (Dense)              (None, 39)                2535      \n",
            "                                                                 \n",
            "=================================================================\n",
            "Total params: 383,963\n",
            "Trainable params: 18,663\n",
            "Non-trainable params: 365,300\n",
            "_________________________________________________________________\n"
          ]
        }
      ],
      "source": [
        "# Create model\n",
        "\n",
        "from tensorflow.keras.layers import GRU\n",
        "\n",
        "gru_layers_info = [\n",
        "    {\n",
        "        \"mlayer\": layers.Embedding,\n",
        "        \"output_dim\" : embedding_dimension,\n",
        "        \"input_dim\" : vocab_size,\n",
        "        \"input_length\" : 1,\n",
        "        \"weights\" : [embedding_matrix],\n",
        "        \"trainable\" : False,\n",
        "        \"name\" : \"embedding\"\n",
        "    },\n",
        "    {\n",
        "        \"mlayer\": layers.Bidirectional,\n",
        "        \"layer\": GRU(32) , \n",
        "        'name' : 'GRU'     \n",
        "    },\n",
        "    {\n",
        "        \"mlayer\": layers.Dense,\n",
        "        \"units\":num_classes,\n",
        "        \"activation\" : 'softmax',\n",
        "        'name' : 'logits'\n",
        "    }\n",
        "]\n",
        "\n",
        "gru_compile_info = {\n",
        "    'optimizer': Adam(learning_rate=1e-3),\n",
        "    'loss': 'sparse_categorical_crossentropy',\n",
        "    'metrics': ['accuracy']\n",
        "}\n",
        "\n",
        "gru_model = create_model(gru_layers_info, gru_compile_info)"
      ]
    },
    {
      "cell_type": "code",
      "execution_count": 52,
      "metadata": {
        "id": "hPcXmqzj485J",
        "outputId": "40d0733b-e973-4d0b-bee4-8959d6e8e124"
      },
      "outputs": [
        {
          "name": "stdout",
          "output_type": "stream",
          "text": [
            "Start training! \n",
            "Parameters: {'verbose': 0, 'epochs': 30, 'batch_size': 64}\n",
            "Training completed!\n",
            "Showing history...\n",
            "Displaying the following history keys: dict_keys(['loss', 'accuracy', 'val_loss', 'val_accuracy'])\n"
          ]
        },
        {
          "data": {
            "image/png": "[encoded data removed]",
            "text/plain": [
              "<Figure size 640x480 with 1 Axes>"
            ]
          },
          "metadata": {},
          "output_type": "display_data"
        },
        {
          "data": {
            "image/png": "[encoded data removed]",
            "text/plain": [
              "<Figure size 640x480 with 1 Axes>"
            ]
          },
          "metadata": {},
          "output_type": "display_data"
        }
      ],
      "source": [
        "# Train\n",
        " \n",
        "gru_training_info = {\n",
        "    'verbose': 0,\n",
        "    'epochs' : 30,\n",
        "    'batch_size' : 64\n",
        "}\n",
        "\n",
        "gru_model = train_model(model=gru_model,training_info = gru_training_info)"
      ]
    },
    {
      "cell_type": "markdown",
      "metadata": {},
      "source": [
        "#### F1-Macro evaluation"
      ]
    },
    {
      "cell_type": "code",
      "execution_count": 53,
      "metadata": {},
      "outputs": [
        {
          "name": "stdout",
          "output_type": "stream",
          "text": [
            "852/852 [==============================] - 1s 1ms/step - loss: 0.7451 - accuracy: 0.7932\n",
            "Model loss: 0.7451056241989136, accuracy: 0.7931995987892151\n",
            "Starting prediction: \n",
            "{'batch_size': 64, 'verbose': 1}\n",
            "Predicting on 27263 samples\n",
            "426/426 [==============================] - 1s 1ms/step\n",
            "F1_score on the validation set is: 0.6760114348002461\n",
            "Starting prediction: \n",
            "{'batch_size': 64, 'verbose': 1}\n",
            "Predicting on 13614 samples\n",
            "213/213 [==============================] - 0s 1ms/step\n",
            "F1_score on the test set is: 0.7439228552343465\n"
          ]
        }
      ],
      "source": [
        "loss, accuracy = gru_model.evaluate(x_val, y_val)\n",
        "print(f\"Model loss: {loss}, accuracy: {accuracy}\")\n",
        "\n",
        "# Inference and evaluate\n",
        "\n",
        "gru_score = compute_f1(gru_model, x_val, y_val)\n",
        "print(f'F1_score on the validation set is: {gru_score}')\n",
        "\n",
        "gru_score = compute_f1(gru_model, x_test, y_test)\n",
        "print(f'F1_score on the test set is: {gru_score}')"
      ]
    },
    {
      "cell_type": "markdown",
      "metadata": {
        "id": "6bM9ZWFAi8CG"
      },
      "source": [
        "## Model B: 2x LSTM "
      ]
    },
    {
      "cell_type": "markdown",
      "metadata": {
        "id": "Acw-9iYOHFEf"
      },
      "source": [
        "A dictionary with some hyperparameters to test on the LSTM layers. At the end of the process, for each of the models, the f1_macro will be printed."
      ]
    },
    {
      "cell_type": "code",
      "execution_count": 54,
      "metadata": {
        "id": "Bizr1VqXHFEg"
      },
      "outputs": [],
      "source": [
        "hp_b = {\n",
        "    'hp1_1' : {\n",
        "        'lstm_1' : {\n",
        "            'units' : 14,\n",
        "            'return_sequences' : True,\n",
        "            'dropout' : 0.1\n",
        "        },\n",
        "        'lstm_2' : {\n",
        "            'units' : 28,\n",
        "            'return_sequences' : False,\n",
        "            'dropout' : 0.1\n",
        "        },\n",
        "        'learning_rate' : 1.5e-3\n",
        "    },\n",
        "    'hp1_2' : {\n",
        "        'lstm_1' : {\n",
        "            'units' : 14,\n",
        "            'return_sequences' : True,\n",
        "            'dropout' : 0\n",
        "        },\n",
        "        'lstm_2' : {\n",
        "            'units' : 28,\n",
        "            'return_sequences' : False,\n",
        "            'dropout' : 0\n",
        "        },\n",
        "        'learning_rate' : 1.5e-3\n",
        "    },\n",
        "    'hp2_1' : {\n",
        "        'lstm_1' : {\n",
        "            'units' : 28,\n",
        "            'return_sequences' : True,\n",
        "            'dropout' : 0.1\n",
        "        },\n",
        "        'lstm_2' : {\n",
        "            'units' : 14,\n",
        "            'return_sequences' : False,\n",
        "            'dropout' : 0.1\n",
        "        },\n",
        "        'learning_rate' : 1.5e-3\n",
        "    },\n",
        "    'hp2_2' : {\n",
        "        'lstm_1' : {\n",
        "            'units' : 28,\n",
        "            'return_sequences' : True,\n",
        "            'dropout' : 0\n",
        "        },\n",
        "        'lstm_2' : {\n",
        "            'units' : 14,\n",
        "            'return_sequences' : False,\n",
        "            'dropout' : 0\n",
        "        },\n",
        "        'learning_rate' : 1.5e-3\n",
        "    },\n",
        "    'hp3' : {\n",
        "        'lstm_1' : {\n",
        "            'units' : 24,\n",
        "            'return_sequences' : True,\n",
        "            'dropout' : 0.1\n",
        "        },\n",
        "        'lstm_2' : {\n",
        "            'units' : 24,\n",
        "            'return_sequences' : False,\n",
        "            'dropout' : 0.1\n",
        "        },\n",
        "        'learning_rate' : 1.5e-3\n",
        "    }\n",
        "}"
      ]
    },
    {
      "cell_type": "markdown",
      "metadata": {
        "id": "k_GkBCdzHFEg"
      },
      "source": [
        "Function for f1_macro calculation."
      ]
    },
    {
      "cell_type": "code",
      "execution_count": 55,
      "metadata": {
        "id": "k_vPxBD0HFEg"
      },
      "outputs": [
        {
          "data": {
            "text/plain": [
              "'def f1_macro(model, y_train, y_val, num_classes):\\n    onehot = OneHotEncoder(sparse=False)\\n    onehot.fit(y_train.reshape(-1,1))\\n    y_val_onehot = onehot.transform(y_val.reshape(-1,1))\\n\\n    y_pred_val = model.predict(x_val)\\n\\n    # https://www.tensorflow.org/addons/api_docs/python/tfa/metrics/F1Score\\n    f1_macro = tfa.metrics.F1Score(average=\"macro\", num_classes=num_classes, threshold=0.5)\\n    f1_macro.update_state(y_val_onehot, y_pred_val)\\n    return f1_macro.result()'"
            ]
          },
          "execution_count": 55,
          "metadata": {},
          "output_type": "execute_result"
        }
      ],
      "source": [
        "\"\"\"def f1_macro(model, y_train, y_val, num_classes):\n",
        "    onehot = OneHotEncoder(sparse=False)\n",
        "    onehot.fit(y_train.reshape(-1,1))\n",
        "    y_val_onehot = onehot.transform(y_val.reshape(-1,1))\n",
        "\n",
        "    y_pred_val = model.predict(x_val)\n",
        "\n",
        "    # https://www.tensorflow.org/addons/api_docs/python/tfa/metrics/F1Score\n",
        "    f1_macro = tfa.metrics.F1Score(average=\"macro\", num_classes=num_classes, threshold=0.5)\n",
        "    f1_macro.update_state(y_val_onehot, y_pred_val)\n",
        "    return f1_macro.result()\"\"\""
      ]
    },
    {
      "cell_type": "markdown",
      "metadata": {
        "id": "OC5b5l9XHFEg"
      },
      "source": [
        "This array will store all the f1_scores calculated with the function above."
      ]
    },
    {
      "cell_type": "code",
      "execution_count": 56,
      "metadata": {
        "id": "loOMyX4wHFEg"
      },
      "outputs": [],
      "source": [
        "results_x2lstm = []"
      ]
    },
    {
      "cell_type": "markdown",
      "metadata": {
        "id": "9MPBJ20AHFEh"
      },
      "source": [
        "Setup of the loop for creation, fit, evaluation of the 2xLSTM models with the dictionary of hyperparameters."
      ]
    },
    {
      "cell_type": "code",
      "execution_count": 57,
      "metadata": {
        "id": "hVqg81vai8CG",
        "outputId": "baa028fb-b694-4fcd-bae6-6b43af890e53"
      },
      "outputs": [
        {
          "name": "stdout",
          "output_type": "stream",
          "text": [
            "Model: \"sequential_2\"\n",
            "_________________________________________________________________\n",
            " Layer (type)                Output Shape              Param #   \n",
            "=================================================================\n",
            " embedding (Embedding)       (None, 1, 50)             365300    \n",
            "                                                                 \n",
            " bidirectional (Bidirectiona  (None, 1, 28)            7280      \n",
            " l)                                                              \n",
            "                                                                 \n",
            " bidirectional_1 (Bidirectio  (None, 56)               12768     \n",
            " nal)                                                            \n",
            "                                                                 \n",
            " dense (Dense)               (None, 39)                2223      \n",
            "                                                                 \n",
            "=================================================================\n",
            "Total params: 387,571\n",
            "Trainable params: 22,271\n",
            "Non-trainable params: 365,300\n",
            "_________________________________________________________________\n",
            "Epoch 1/30\n",
            "322/322 [==============================] - 8s 10ms/step - loss: 2.2662 - accuracy: 0.3977 - val_loss: 1.5264 - val_accuracy: 0.5651\n",
            "Epoch 2/30\n",
            "322/322 [==============================] - 2s 6ms/step - loss: 1.3060 - accuracy: 0.6190 - val_loss: 1.2155 - val_accuracy: 0.6369\n",
            "Epoch 3/30\n",
            "322/322 [==============================] - 2s 5ms/step - loss: 1.0910 - accuracy: 0.6707 - val_loss: 1.0832 - val_accuracy: 0.6708\n",
            "Epoch 4/30\n",
            "322/322 [==============================] - 2s 5ms/step - loss: 0.9781 - accuracy: 0.7041 - val_loss: 1.0137 - val_accuracy: 0.6911\n",
            "Epoch 5/30\n",
            "322/322 [==============================] - 2s 5ms/step - loss: 0.9130 - accuracy: 0.7208 - val_loss: 0.9724 - val_accuracy: 0.7090\n",
            "Epoch 6/30\n",
            "322/322 [==============================] - 2s 5ms/step - loss: 0.8643 - accuracy: 0.7330 - val_loss: 0.9441 - val_accuracy: 0.7216\n",
            "Epoch 7/30\n",
            "322/322 [==============================] - 2s 5ms/step - loss: 0.8340 - accuracy: 0.7424 - val_loss: 0.9187 - val_accuracy: 0.7245\n",
            "Epoch 8/30\n",
            "322/322 [==============================] - 2s 6ms/step - loss: 0.8010 - accuracy: 0.7505 - val_loss: 0.9105 - val_accuracy: 0.7324\n",
            "Epoch 9/30\n",
            "322/322 [==============================] - 2s 6ms/step - loss: 0.7785 - accuracy: 0.7565 - val_loss: 0.8976 - val_accuracy: 0.7376\n",
            "Epoch 10/30\n",
            "322/322 [==============================] - 2s 5ms/step - loss: 0.7611 - accuracy: 0.7609 - val_loss: 0.8854 - val_accuracy: 0.7294\n",
            "Epoch 11/30\n",
            "322/322 [==============================] - 2s 5ms/step - loss: 0.7406 - accuracy: 0.7691 - val_loss: 0.8764 - val_accuracy: 0.7330\n",
            "Epoch 12/30\n",
            "322/322 [==============================] - 2s 6ms/step - loss: 0.7269 - accuracy: 0.7740 - val_loss: 0.8766 - val_accuracy: 0.7351\n",
            "Epoch 13/30\n",
            "322/322 [==============================] - 2s 5ms/step - loss: 0.7142 - accuracy: 0.7756 - val_loss: 0.8624 - val_accuracy: 0.7359\n",
            "Epoch 14/30\n",
            "322/322 [==============================] - 2s 5ms/step - loss: 0.7052 - accuracy: 0.7781 - val_loss: 0.8527 - val_accuracy: 0.7387\n",
            "Epoch 15/30\n",
            "322/322 [==============================] - 2s 5ms/step - loss: 0.6944 - accuracy: 0.7800 - val_loss: 0.8539 - val_accuracy: 0.7441\n",
            "Epoch 16/30\n",
            "322/322 [==============================] - 2s 5ms/step - loss: 0.6873 - accuracy: 0.7827 - val_loss: 0.8532 - val_accuracy: 0.7464\n",
            "Epoch 17/30\n",
            "322/322 [==============================] - 2s 5ms/step - loss: 0.6809 - accuracy: 0.7839 - val_loss: 0.8310 - val_accuracy: 0.7480\n",
            "Epoch 18/30\n",
            "322/322 [==============================] - 2s 5ms/step - loss: 0.6765 - accuracy: 0.7848 - val_loss: 0.8294 - val_accuracy: 0.7497\n",
            "Epoch 19/30\n",
            "322/322 [==============================] - 2s 5ms/step - loss: 0.6630 - accuracy: 0.7903 - val_loss: 0.8209 - val_accuracy: 0.7479\n",
            "Epoch 20/30\n",
            "322/322 [==============================] - 2s 5ms/step - loss: 0.6576 - accuracy: 0.7899 - val_loss: 0.8313 - val_accuracy: 0.7504\n",
            "Epoch 21/30\n",
            "322/322 [==============================] - 2s 5ms/step - loss: 0.6552 - accuracy: 0.7926 - val_loss: 0.8215 - val_accuracy: 0.7555\n",
            "Epoch 22/30\n",
            "322/322 [==============================] - 2s 5ms/step - loss: 0.6425 - accuracy: 0.7969 - val_loss: 0.8054 - val_accuracy: 0.7559\n",
            "Epoch 23/30\n",
            "322/322 [==============================] - 2s 5ms/step - loss: 0.6401 - accuracy: 0.7961 - val_loss: 0.8145 - val_accuracy: 0.7540\n",
            "Epoch 24/30\n",
            "322/322 [==============================] - 2s 5ms/step - loss: 0.6328 - accuracy: 0.7989 - val_loss: 0.8139 - val_accuracy: 0.7557\n",
            "Epoch 25/30\n",
            "322/322 [==============================] - 2s 5ms/step - loss: 0.6305 - accuracy: 0.7989 - val_loss: 0.8131 - val_accuracy: 0.7572\n",
            "Epoch 26/30\n",
            "322/322 [==============================] - 2s 5ms/step - loss: 0.6284 - accuracy: 0.7989 - val_loss: 0.7970 - val_accuracy: 0.7584\n",
            "Epoch 27/30\n",
            "322/322 [==============================] - 2s 6ms/step - loss: 0.6215 - accuracy: 0.8006 - val_loss: 0.7889 - val_accuracy: 0.7581\n",
            "Epoch 28/30\n",
            "322/322 [==============================] - 2s 5ms/step - loss: 0.6161 - accuracy: 0.8022 - val_loss: 0.7943 - val_accuracy: 0.7593\n",
            "Epoch 29/30\n",
            "322/322 [==============================] - 2s 5ms/step - loss: 0.6178 - accuracy: 0.8031 - val_loss: 0.7842 - val_accuracy: 0.7597\n",
            "Epoch 30/30\n",
            "322/322 [==============================] - 2s 5ms/step - loss: 0.6102 - accuracy: 0.8042 - val_loss: 0.7979 - val_accuracy: 0.7622\n",
            "======================================== hp1_1 ========================================\n",
            "852/852 [==============================] - 1s 2ms/step - loss: 0.7979 - accuracy: 0.7622\n",
            "Model loss: 0.7979063987731934, accuracy: 0.762205183506012\n",
            "Starting prediction: \n",
            "{'batch_size': 64, 'verbose': 1}\n",
            "Predicting on 27263 samples\n",
            "426/426 [==============================] - 2s 1ms/step\n",
            "F1_score on the validation set is: 0.6612497731615348\n",
            "Starting prediction: \n",
            "{'batch_size': 64, 'verbose': 1}\n",
            "Predicting on 13614 samples\n",
            "213/213 [==============================] - 0s 1ms/step\n",
            "F1_score on the test set is: 0.7185774775083493\n",
            "Model: \"sequential_3\"\n",
            "_________________________________________________________________\n",
            " Layer (type)                Output Shape              Param #   \n",
            "=================================================================\n",
            " embedding_1 (Embedding)     (None, 1, 50)             365300    \n",
            "                                                                 \n",
            " bidirectional_2 (Bidirectio  (None, 1, 28)            7280      \n",
            " nal)                                                            \n",
            "                                                                 \n",
            " bidirectional_3 (Bidirectio  (None, 56)               12768     \n",
            " nal)                                                            \n",
            "                                                                 \n",
            " dense_1 (Dense)             (None, 39)                2223      \n",
            "                                                                 \n",
            "=================================================================\n",
            "Total params: 387,571\n",
            "Trainable params: 22,271\n",
            "Non-trainable params: 365,300\n",
            "_________________________________________________________________\n",
            "Epoch 1/30\n",
            "322/322 [==============================] - 7s 9ms/step - loss: 2.1460 - accuracy: 0.4274 - val_loss: 1.4407 - val_accuracy: 0.5832\n",
            "Epoch 2/30\n",
            "322/322 [==============================] - 2s 5ms/step - loss: 1.1174 - accuracy: 0.6786 - val_loss: 1.1504 - val_accuracy: 0.6596\n",
            "Epoch 3/30\n",
            "322/322 [==============================] - 2s 5ms/step - loss: 0.8938 - accuracy: 0.7379 - val_loss: 1.0319 - val_accuracy: 0.6959\n",
            "Epoch 4/30\n",
            "322/322 [==============================] - 2s 5ms/step - loss: 0.7838 - accuracy: 0.7645 - val_loss: 0.9636 - val_accuracy: 0.7111\n",
            "Epoch 5/30\n",
            "322/322 [==============================] - 2s 5ms/step - loss: 0.7132 - accuracy: 0.7855 - val_loss: 0.9163 - val_accuracy: 0.7319\n",
            "Epoch 6/30\n",
            "322/322 [==============================] - 2s 5ms/step - loss: 0.6624 - accuracy: 0.7995 - val_loss: 0.8785 - val_accuracy: 0.7398\n",
            "Epoch 7/30\n",
            "322/322 [==============================] - 2s 5ms/step - loss: 0.6241 - accuracy: 0.8124 - val_loss: 0.8644 - val_accuracy: 0.7447\n",
            "Epoch 8/30\n",
            "322/322 [==============================] - 2s 5ms/step - loss: 0.5934 - accuracy: 0.8217 - val_loss: 0.8453 - val_accuracy: 0.7423\n",
            "Epoch 9/30\n",
            "322/322 [==============================] - 2s 5ms/step - loss: 0.5676 - accuracy: 0.8301 - val_loss: 0.8295 - val_accuracy: 0.7487\n",
            "Epoch 10/30\n",
            "322/322 [==============================] - 2s 5ms/step - loss: 0.5460 - accuracy: 0.8338 - val_loss: 0.8192 - val_accuracy: 0.7576\n",
            "Epoch 11/30\n",
            "322/322 [==============================] - 2s 5ms/step - loss: 0.5281 - accuracy: 0.8387 - val_loss: 0.7981 - val_accuracy: 0.7554\n",
            "Epoch 12/30\n",
            "322/322 [==============================] - 2s 5ms/step - loss: 0.5115 - accuracy: 0.8445 - val_loss: 0.7891 - val_accuracy: 0.7688\n",
            "Epoch 13/30\n",
            "322/322 [==============================] - 2s 5ms/step - loss: 0.4966 - accuracy: 0.8486 - val_loss: 0.7851 - val_accuracy: 0.7607\n",
            "Epoch 14/30\n",
            "322/322 [==============================] - 2s 5ms/step - loss: 0.4845 - accuracy: 0.8526 - val_loss: 0.7752 - val_accuracy: 0.7657\n",
            "Epoch 15/30\n",
            "322/322 [==============================] - 2s 5ms/step - loss: 0.4736 - accuracy: 0.8554 - val_loss: 0.7632 - val_accuracy: 0.7654\n",
            "Epoch 16/30\n",
            "322/322 [==============================] - 2s 5ms/step - loss: 0.4630 - accuracy: 0.8568 - val_loss: 0.7634 - val_accuracy: 0.7675\n",
            "Epoch 17/30\n",
            "322/322 [==============================] - 2s 5ms/step - loss: 0.4535 - accuracy: 0.8597 - val_loss: 0.7556 - val_accuracy: 0.7668\n",
            "Epoch 18/30\n",
            "322/322 [==============================] - 2s 5ms/step - loss: 0.4450 - accuracy: 0.8609 - val_loss: 0.7579 - val_accuracy: 0.7683\n",
            "Epoch 19/30\n",
            "322/322 [==============================] - 2s 5ms/step - loss: 0.4368 - accuracy: 0.8646 - val_loss: 0.7516 - val_accuracy: 0.7688\n",
            "Epoch 20/30\n",
            "322/322 [==============================] - 2s 5ms/step - loss: 0.4301 - accuracy: 0.8652 - val_loss: 0.7467 - val_accuracy: 0.7803\n",
            "Epoch 21/30\n",
            "322/322 [==============================] - 2s 5ms/step - loss: 0.4228 - accuracy: 0.8670 - val_loss: 0.7465 - val_accuracy: 0.7749\n",
            "Epoch 22/30\n",
            "322/322 [==============================] - 2s 5ms/step - loss: 0.4160 - accuracy: 0.8698 - val_loss: 0.7481 - val_accuracy: 0.7740\n",
            "Epoch 23/30\n",
            "322/322 [==============================] - 2s 5ms/step - loss: 0.4101 - accuracy: 0.8700 - val_loss: 0.7392 - val_accuracy: 0.7748\n",
            "Epoch 24/30\n",
            "322/322 [==============================] - 2s 6ms/step - loss: 0.4053 - accuracy: 0.8721 - val_loss: 0.7291 - val_accuracy: 0.7763\n",
            "Epoch 25/30\n",
            "322/322 [==============================] - 2s 6ms/step - loss: 0.3997 - accuracy: 0.8724 - val_loss: 0.7394 - val_accuracy: 0.7766\n",
            "Epoch 26/30\n",
            "322/322 [==============================] - 2s 6ms/step - loss: 0.3952 - accuracy: 0.8741 - val_loss: 0.7325 - val_accuracy: 0.7783\n",
            "Epoch 27/30\n",
            "322/322 [==============================] - 2s 5ms/step - loss: 0.3891 - accuracy: 0.8760 - val_loss: 0.7267 - val_accuracy: 0.7780\n",
            "Epoch 28/30\n",
            "322/322 [==============================] - 2s 5ms/step - loss: 0.3854 - accuracy: 0.8767 - val_loss: 0.7382 - val_accuracy: 0.7781\n",
            "Epoch 29/30\n",
            "322/322 [==============================] - 2s 5ms/step - loss: 0.3813 - accuracy: 0.8782 - val_loss: 0.7386 - val_accuracy: 0.7764\n",
            "Epoch 30/30\n",
            "322/322 [==============================] - 2s 5ms/step - loss: 0.3767 - accuracy: 0.8779 - val_loss: 0.7315 - val_accuracy: 0.7812\n",
            "======================================== hp1_2 ========================================\n",
            "852/852 [==============================] - 1s 2ms/step - loss: 0.7315 - accuracy: 0.7812\n",
            "Model loss: 0.731465756893158, accuracy: 0.7811686396598816\n",
            "Starting prediction: \n",
            "{'batch_size': 64, 'verbose': 1}\n",
            "Predicting on 27263 samples\n",
            "426/426 [==============================] - 2s 2ms/step\n",
            "F1_score on the validation set is: 0.6724198332907821\n",
            "Starting prediction: \n",
            "{'batch_size': 64, 'verbose': 1}\n",
            "Predicting on 13614 samples\n",
            "213/213 [==============================] - 0s 2ms/step\n",
            "F1_score on the test set is: 0.738979964836462\n",
            "Model: \"sequential_4\"\n",
            "_________________________________________________________________\n",
            " Layer (type)                Output Shape              Param #   \n",
            "=================================================================\n",
            " embedding_2 (Embedding)     (None, 1, 50)             365300    \n",
            "                                                                 \n",
            " bidirectional_4 (Bidirectio  (None, 1, 56)            17696     \n",
            " nal)                                                            \n",
            "                                                                 \n",
            " bidirectional_5 (Bidirectio  (None, 28)               7952      \n",
            " nal)                                                            \n",
            "                                                                 \n",
            " dense_2 (Dense)             (None, 39)                1131      \n",
            "                                                                 \n",
            "=================================================================\n",
            "Total params: 392,079\n",
            "Trainable params: 26,779\n",
            "Non-trainable params: 365,300\n",
            "_________________________________________________________________\n",
            "Epoch 1/30\n",
            "322/322 [==============================] - 8s 10ms/step - loss: 2.2726 - accuracy: 0.3963 - val_loss: 1.5555 - val_accuracy: 0.5780\n",
            "Epoch 2/30\n",
            "322/322 [==============================] - 2s 5ms/step - loss: 1.2910 - accuracy: 0.6404 - val_loss: 1.2073 - val_accuracy: 0.6413\n",
            "Epoch 3/30\n",
            "322/322 [==============================] - 2s 5ms/step - loss: 1.0542 - accuracy: 0.6956 - val_loss: 1.0632 - val_accuracy: 0.6773\n",
            "Epoch 4/30\n",
            "322/322 [==============================] - 2s 5ms/step - loss: 0.9361 - accuracy: 0.7222 - val_loss: 0.9811 - val_accuracy: 0.7003\n",
            "Epoch 5/30\n",
            "322/322 [==============================] - 2s 5ms/step - loss: 0.8545 - accuracy: 0.7425 - val_loss: 0.9372 - val_accuracy: 0.7175\n",
            "Epoch 6/30\n",
            "322/322 [==============================] - 2s 5ms/step - loss: 0.8014 - accuracy: 0.7594 - val_loss: 0.9210 - val_accuracy: 0.7212\n",
            "Epoch 7/30\n",
            "322/322 [==============================] - 2s 5ms/step - loss: 0.7598 - accuracy: 0.7711 - val_loss: 0.8899 - val_accuracy: 0.7248\n",
            "Epoch 8/30\n",
            "322/322 [==============================] - 2s 5ms/step - loss: 0.7312 - accuracy: 0.7771 - val_loss: 0.8814 - val_accuracy: 0.7340\n",
            "Epoch 9/30\n",
            "322/322 [==============================] - 2s 5ms/step - loss: 0.7022 - accuracy: 0.7851 - val_loss: 0.8577 - val_accuracy: 0.7394\n",
            "Epoch 10/30\n",
            "322/322 [==============================] - 2s 5ms/step - loss: 0.6842 - accuracy: 0.7906 - val_loss: 0.8458 - val_accuracy: 0.7399\n",
            "Epoch 11/30\n",
            "322/322 [==============================] - 2s 5ms/step - loss: 0.6665 - accuracy: 0.7956 - val_loss: 0.8389 - val_accuracy: 0.7449\n",
            "Epoch 12/30\n",
            "322/322 [==============================] - 2s 5ms/step - loss: 0.6541 - accuracy: 0.7981 - val_loss: 0.8240 - val_accuracy: 0.7507\n",
            "Epoch 13/30\n",
            "322/322 [==============================] - 2s 6ms/step - loss: 0.6349 - accuracy: 0.8023 - val_loss: 0.8200 - val_accuracy: 0.7497\n",
            "Epoch 14/30\n",
            "322/322 [==============================] - 3s 8ms/step - loss: 0.6263 - accuracy: 0.8049 - val_loss: 0.8057 - val_accuracy: 0.7516\n",
            "Epoch 15/30\n",
            "322/322 [==============================] - 2s 7ms/step - loss: 0.6151 - accuracy: 0.8061 - val_loss: 0.7999 - val_accuracy: 0.7551\n",
            "Epoch 16/30\n",
            "322/322 [==============================] - 3s 10ms/step - loss: 0.6029 - accuracy: 0.8113 - val_loss: 0.7944 - val_accuracy: 0.7561\n",
            "Epoch 17/30\n",
            "322/322 [==============================] - 3s 8ms/step - loss: 0.5950 - accuracy: 0.8138 - val_loss: 0.7766 - val_accuracy: 0.7573\n",
            "Epoch 18/30\n",
            "322/322 [==============================] - 2s 5ms/step - loss: 0.5870 - accuracy: 0.8143 - val_loss: 0.7774 - val_accuracy: 0.7619\n",
            "Epoch 19/30\n",
            "322/322 [==============================] - 2s 6ms/step - loss: 0.5808 - accuracy: 0.8181 - val_loss: 0.7699 - val_accuracy: 0.7630\n",
            "Epoch 20/30\n",
            "322/322 [==============================] - 2s 5ms/step - loss: 0.5707 - accuracy: 0.8194 - val_loss: 0.7640 - val_accuracy: 0.7658\n",
            "Epoch 21/30\n",
            "322/322 [==============================] - 2s 6ms/step - loss: 0.5674 - accuracy: 0.8207 - val_loss: 0.7600 - val_accuracy: 0.7652\n",
            "Epoch 22/30\n",
            "322/322 [==============================] - 2s 6ms/step - loss: 0.5596 - accuracy: 0.8226 - val_loss: 0.7593 - val_accuracy: 0.7693\n",
            "Epoch 23/30\n",
            "322/322 [==============================] - 2s 6ms/step - loss: 0.5505 - accuracy: 0.8253 - val_loss: 0.7545 - val_accuracy: 0.7710\n",
            "Epoch 24/30\n",
            "322/322 [==============================] - 2s 5ms/step - loss: 0.5456 - accuracy: 0.8256 - val_loss: 0.7532 - val_accuracy: 0.7715\n",
            "Epoch 25/30\n",
            "322/322 [==============================] - 2s 6ms/step - loss: 0.5455 - accuracy: 0.8274 - val_loss: 0.7427 - val_accuracy: 0.7716\n",
            "Epoch 26/30\n",
            "322/322 [==============================] - 2s 5ms/step - loss: 0.5396 - accuracy: 0.8268 - val_loss: 0.7471 - val_accuracy: 0.7735\n",
            "Epoch 27/30\n",
            "322/322 [==============================] - 2s 5ms/step - loss: 0.5390 - accuracy: 0.8256 - val_loss: 0.7418 - val_accuracy: 0.7733\n",
            "Epoch 28/30\n",
            "322/322 [==============================] - 2s 5ms/step - loss: 0.5320 - accuracy: 0.8286 - val_loss: 0.7413 - val_accuracy: 0.7749\n",
            "Epoch 29/30\n",
            "322/322 [==============================] - 2s 5ms/step - loss: 0.5280 - accuracy: 0.8303 - val_loss: 0.7319 - val_accuracy: 0.7771\n",
            "Epoch 30/30\n",
            "322/322 [==============================] - 2s 5ms/step - loss: 0.5245 - accuracy: 0.8305 - val_loss: 0.7397 - val_accuracy: 0.7784\n",
            "======================================== hp2_1 ========================================\n",
            "852/852 [==============================] - 1s 2ms/step - loss: 0.7397 - accuracy: 0.7784\n",
            "Model loss: 0.7396727204322815, accuracy: 0.7783809304237366\n",
            "Starting prediction: \n",
            "{'batch_size': 64, 'verbose': 1}\n",
            "Predicting on 27263 samples\n",
            "426/426 [==============================] - 2s 2ms/step\n",
            "F1_score on the validation set is: 0.674683030078096\n",
            "Starting prediction: \n",
            "{'batch_size': 64, 'verbose': 1}\n",
            "Predicting on 13614 samples\n",
            "213/213 [==============================] - 0s 2ms/step\n",
            "F1_score on the test set is: 0.7371476022980791\n",
            "Model: \"sequential_5\"\n",
            "_________________________________________________________________\n",
            " Layer (type)                Output Shape              Param #   \n",
            "=================================================================\n",
            " embedding_3 (Embedding)     (None, 1, 50)             365300    \n",
            "                                                                 \n",
            " bidirectional_6 (Bidirectio  (None, 1, 56)            17696     \n",
            " nal)                                                            \n",
            "                                                                 \n",
            " bidirectional_7 (Bidirectio  (None, 28)               7952      \n",
            " nal)                                                            \n",
            "                                                                 \n",
            " dense_3 (Dense)             (None, 39)                1131      \n",
            "                                                                 \n",
            "=================================================================\n",
            "Total params: 392,079\n",
            "Trainable params: 26,779\n",
            "Non-trainable params: 365,300\n",
            "_________________________________________________________________\n",
            "Epoch 1/30\n",
            "322/322 [==============================] - 8s 9ms/step - loss: 2.2222 - accuracy: 0.4136 - val_loss: 1.5054 - val_accuracy: 0.5919\n",
            "Epoch 2/30\n",
            "322/322 [==============================] - 2s 5ms/step - loss: 1.1314 - accuracy: 0.6929 - val_loss: 1.1479 - val_accuracy: 0.6680\n",
            "Epoch 3/30\n",
            "322/322 [==============================] - 2s 5ms/step - loss: 0.8736 - accuracy: 0.7478 - val_loss: 1.0096 - val_accuracy: 0.7003\n",
            "Epoch 4/30\n",
            "322/322 [==============================] - 2s 5ms/step - loss: 0.7505 - accuracy: 0.7828 - val_loss: 0.9458 - val_accuracy: 0.7260\n",
            "Epoch 5/30\n",
            "322/322 [==============================] - 2s 5ms/step - loss: 0.6723 - accuracy: 0.8044 - val_loss: 0.9071 - val_accuracy: 0.7412\n",
            "Epoch 6/30\n",
            "322/322 [==============================] - 2s 5ms/step - loss: 0.6168 - accuracy: 0.8197 - val_loss: 0.8690 - val_accuracy: 0.7542\n",
            "Epoch 7/30\n",
            "322/322 [==============================] - 2s 5ms/step - loss: 0.5752 - accuracy: 0.8312 - val_loss: 0.8459 - val_accuracy: 0.7468\n",
            "Epoch 8/30\n",
            "322/322 [==============================] - 2s 5ms/step - loss: 0.5415 - accuracy: 0.8401 - val_loss: 0.8185 - val_accuracy: 0.7656\n",
            "Epoch 9/30\n",
            "322/322 [==============================] - 2s 5ms/step - loss: 0.5142 - accuracy: 0.8476 - val_loss: 0.8081 - val_accuracy: 0.7727\n",
            "Epoch 10/30\n",
            "322/322 [==============================] - 2s 5ms/step - loss: 0.4913 - accuracy: 0.8534 - val_loss: 0.7796 - val_accuracy: 0.7637\n",
            "Epoch 11/30\n",
            "322/322 [==============================] - 2s 5ms/step - loss: 0.4714 - accuracy: 0.8598 - val_loss: 0.7697 - val_accuracy: 0.7795\n",
            "Epoch 12/30\n",
            "322/322 [==============================] - 2s 5ms/step - loss: 0.4545 - accuracy: 0.8644 - val_loss: 0.7521 - val_accuracy: 0.7727\n",
            "Epoch 13/30\n",
            "322/322 [==============================] - 2s 5ms/step - loss: 0.4393 - accuracy: 0.8678 - val_loss: 0.7330 - val_accuracy: 0.7759\n",
            "Epoch 14/30\n",
            "322/322 [==============================] - 2s 5ms/step - loss: 0.4264 - accuracy: 0.8721 - val_loss: 0.7356 - val_accuracy: 0.7779\n",
            "Epoch 15/30\n",
            "322/322 [==============================] - 2s 5ms/step - loss: 0.4146 - accuracy: 0.8746 - val_loss: 0.7333 - val_accuracy: 0.7794\n",
            "Epoch 16/30\n",
            "322/322 [==============================] - 2s 5ms/step - loss: 0.4041 - accuracy: 0.8771 - val_loss: 0.7164 - val_accuracy: 0.7911\n",
            "Epoch 17/30\n",
            "322/322 [==============================] - 2s 5ms/step - loss: 0.3944 - accuracy: 0.8789 - val_loss: 0.7160 - val_accuracy: 0.7910\n",
            "Epoch 18/30\n",
            "322/322 [==============================] - 2s 5ms/step - loss: 0.3852 - accuracy: 0.8820 - val_loss: 0.7086 - val_accuracy: 0.7817\n",
            "Epoch 19/30\n",
            "322/322 [==============================] - 2s 5ms/step - loss: 0.3776 - accuracy: 0.8821 - val_loss: 0.6939 - val_accuracy: 0.7950\n",
            "Epoch 20/30\n",
            "322/322 [==============================] - 2s 5ms/step - loss: 0.3697 - accuracy: 0.8853 - val_loss: 0.7017 - val_accuracy: 0.7842\n",
            "Epoch 21/30\n",
            "322/322 [==============================] - 2s 5ms/step - loss: 0.3635 - accuracy: 0.8862 - val_loss: 0.7103 - val_accuracy: 0.7969\n",
            "Epoch 22/30\n",
            "322/322 [==============================] - 2s 5ms/step - loss: 0.3563 - accuracy: 0.8873 - val_loss: 0.6964 - val_accuracy: 0.7866\n",
            "Epoch 23/30\n",
            "322/322 [==============================] - 2s 5ms/step - loss: 0.3504 - accuracy: 0.8901 - val_loss: 0.7024 - val_accuracy: 0.7895\n",
            "Epoch 24/30\n",
            "322/322 [==============================] - 2s 5ms/step - loss: 0.3449 - accuracy: 0.8899 - val_loss: 0.6883 - val_accuracy: 0.7908\n",
            "Epoch 25/30\n",
            "322/322 [==============================] - 2s 5ms/step - loss: 0.3396 - accuracy: 0.8918 - val_loss: 0.6895 - val_accuracy: 0.7992\n",
            "Epoch 26/30\n",
            "322/322 [==============================] - 2s 5ms/step - loss: 0.3346 - accuracy: 0.8921 - val_loss: 0.6903 - val_accuracy: 0.7911\n",
            "Epoch 27/30\n",
            "322/322 [==============================] - 2s 5ms/step - loss: 0.3290 - accuracy: 0.8944 - val_loss: 0.6732 - val_accuracy: 0.8020\n",
            "Epoch 28/30\n",
            "322/322 [==============================] - 2s 5ms/step - loss: 0.3248 - accuracy: 0.8936 - val_loss: 0.6928 - val_accuracy: 0.8012\n",
            "Epoch 29/30\n",
            "322/322 [==============================] - 2s 5ms/step - loss: 0.3207 - accuracy: 0.8949 - val_loss: 0.6858 - val_accuracy: 0.7999\n",
            "Epoch 30/30\n",
            "322/322 [==============================] - 2s 5ms/step - loss: 0.3163 - accuracy: 0.8971 - val_loss: 0.6824 - val_accuracy: 0.8004\n",
            "======================================== hp2_2 ========================================\n",
            "852/852 [==============================] - 1s 2ms/step - loss: 0.6824 - accuracy: 0.8004\n",
            "Model loss: 0.6824429035186768, accuracy: 0.8003888130187988\n",
            "Starting prediction: \n",
            "{'batch_size': 64, 'verbose': 1}\n",
            "Predicting on 27263 samples\n",
            "426/426 [==============================] - 2s 1ms/step\n",
            "F1_score on the validation set is: 0.6782853758137254\n",
            "Starting prediction: \n",
            "{'batch_size': 64, 'verbose': 1}\n",
            "Predicting on 13614 samples\n",
            "213/213 [==============================] - 0s 1ms/step\n",
            "F1_score on the test set is: 0.7531157685857218\n",
            "Model: \"sequential_6\"\n",
            "_________________________________________________________________\n",
            " Layer (type)                Output Shape              Param #   \n",
            "=================================================================\n",
            " embedding_4 (Embedding)     (None, 1, 50)             365300    \n",
            "                                                                 \n",
            " bidirectional_8 (Bidirectio  (None, 1, 48)            14400     \n",
            " nal)                                                            \n",
            "                                                                 \n",
            " bidirectional_9 (Bidirectio  (None, 48)               14016     \n",
            " nal)                                                            \n",
            "                                                                 \n",
            " dense_4 (Dense)             (None, 39)                1911      \n",
            "                                                                 \n",
            "=================================================================\n",
            "Total params: 395,627\n",
            "Trainable params: 30,327\n",
            "Non-trainable params: 365,300\n",
            "_________________________________________________________________\n",
            "Epoch 1/30\n",
            "322/322 [==============================] - 8s 9ms/step - loss: 2.1020 - accuracy: 0.4406 - val_loss: 1.3838 - val_accuracy: 0.5977\n",
            "Epoch 2/30\n",
            "322/322 [==============================] - 2s 5ms/step - loss: 1.1646 - accuracy: 0.6570 - val_loss: 1.1186 - val_accuracy: 0.6548\n",
            "Epoch 3/30\n",
            "322/322 [==============================] - 2s 5ms/step - loss: 0.9668 - accuracy: 0.7123 - val_loss: 1.0040 - val_accuracy: 0.6932\n",
            "Epoch 4/30\n",
            "322/322 [==============================] - 2s 5ms/step - loss: 0.8676 - accuracy: 0.7380 - val_loss: 0.9492 - val_accuracy: 0.7124\n",
            "Epoch 5/30\n",
            "322/322 [==============================] - 2s 5ms/step - loss: 0.8019 - accuracy: 0.7571 - val_loss: 0.9114 - val_accuracy: 0.7192\n",
            "Epoch 6/30\n",
            "322/322 [==============================] - 2s 6ms/step - loss: 0.7548 - accuracy: 0.7719 - val_loss: 0.8918 - val_accuracy: 0.7300\n",
            "Epoch 7/30\n",
            "322/322 [==============================] - 2s 6ms/step - loss: 0.7257 - accuracy: 0.7786 - val_loss: 0.8756 - val_accuracy: 0.7362\n",
            "Epoch 8/30\n",
            "322/322 [==============================] - 2s 6ms/step - loss: 0.6961 - accuracy: 0.7874 - val_loss: 0.8607 - val_accuracy: 0.7417\n",
            "Epoch 9/30\n",
            "322/322 [==============================] - 2s 6ms/step - loss: 0.6742 - accuracy: 0.7902 - val_loss: 0.8420 - val_accuracy: 0.7443\n",
            "Epoch 10/30\n",
            "322/322 [==============================] - 2s 5ms/step - loss: 0.6564 - accuracy: 0.7982 - val_loss: 0.8332 - val_accuracy: 0.7466\n",
            "Epoch 11/30\n",
            "322/322 [==============================] - 2s 6ms/step - loss: 0.6390 - accuracy: 0.8007 - val_loss: 0.8254 - val_accuracy: 0.7502\n",
            "Epoch 12/30\n",
            "322/322 [==============================] - 2s 6ms/step - loss: 0.6240 - accuracy: 0.8045 - val_loss: 0.8221 - val_accuracy: 0.7524\n",
            "Epoch 13/30\n",
            "322/322 [==============================] - 2s 7ms/step - loss: 0.6133 - accuracy: 0.8075 - val_loss: 0.8088 - val_accuracy: 0.7564\n",
            "Epoch 14/30\n",
            "322/322 [==============================] - 3s 8ms/step - loss: 0.5998 - accuracy: 0.8120 - val_loss: 0.8005 - val_accuracy: 0.7602\n",
            "Epoch 15/30\n",
            "322/322 [==============================] - 2s 6ms/step - loss: 0.5913 - accuracy: 0.8135 - val_loss: 0.7845 - val_accuracy: 0.7644\n",
            "Epoch 16/30\n",
            "322/322 [==============================] - 2s 6ms/step - loss: 0.5848 - accuracy: 0.8161 - val_loss: 0.7718 - val_accuracy: 0.7628\n",
            "Epoch 17/30\n",
            "322/322 [==============================] - 2s 6ms/step - loss: 0.5746 - accuracy: 0.8178 - val_loss: 0.7640 - val_accuracy: 0.7641\n",
            "Epoch 18/30\n",
            "322/322 [==============================] - 2s 6ms/step - loss: 0.5641 - accuracy: 0.8210 - val_loss: 0.7694 - val_accuracy: 0.7683\n",
            "Epoch 19/30\n",
            "322/322 [==============================] - 2s 5ms/step - loss: 0.5567 - accuracy: 0.8217 - val_loss: 0.7602 - val_accuracy: 0.7688\n",
            "Epoch 20/30\n",
            "322/322 [==============================] - 2s 5ms/step - loss: 0.5530 - accuracy: 0.8236 - val_loss: 0.7652 - val_accuracy: 0.7690\n",
            "Epoch 21/30\n",
            "322/322 [==============================] - 2s 5ms/step - loss: 0.5485 - accuracy: 0.8250 - val_loss: 0.7472 - val_accuracy: 0.7697\n",
            "Epoch 22/30\n",
            "322/322 [==============================] - 2s 6ms/step - loss: 0.5405 - accuracy: 0.8265 - val_loss: 0.7484 - val_accuracy: 0.7731\n",
            "Epoch 23/30\n",
            "322/322 [==============================] - 2s 6ms/step - loss: 0.5367 - accuracy: 0.8286 - val_loss: 0.7462 - val_accuracy: 0.7731\n",
            "Epoch 24/30\n",
            "322/322 [==============================] - 2s 6ms/step - loss: 0.5302 - accuracy: 0.8322 - val_loss: 0.7350 - val_accuracy: 0.7727\n",
            "Epoch 25/30\n",
            "322/322 [==============================] - 2s 6ms/step - loss: 0.5259 - accuracy: 0.8310 - val_loss: 0.7401 - val_accuracy: 0.7732\n",
            "Epoch 26/30\n",
            "322/322 [==============================] - 2s 5ms/step - loss: 0.5230 - accuracy: 0.8311 - val_loss: 0.7369 - val_accuracy: 0.7751\n",
            "Epoch 27/30\n",
            "322/322 [==============================] - 2s 5ms/step - loss: 0.5184 - accuracy: 0.8333 - val_loss: 0.7422 - val_accuracy: 0.7765\n",
            "Epoch 28/30\n",
            "322/322 [==============================] - 2s 5ms/step - loss: 0.5164 - accuracy: 0.8342 - val_loss: 0.7500 - val_accuracy: 0.7751\n",
            "Epoch 29/30\n",
            "322/322 [==============================] - 2s 5ms/step - loss: 0.5136 - accuracy: 0.8344 - val_loss: 0.7361 - val_accuracy: 0.7781\n",
            "Epoch 30/30\n",
            "322/322 [==============================] - 2s 5ms/step - loss: 0.5080 - accuracy: 0.8337 - val_loss: 0.7363 - val_accuracy: 0.7763\n",
            "======================================== hp3 ========================================\n",
            "852/852 [==============================] - 1s 2ms/step - loss: 0.7363 - accuracy: 0.7763\n",
            "Model loss: 0.7363203763961792, accuracy: 0.776290237903595\n",
            "Starting prediction: \n",
            "{'batch_size': 64, 'verbose': 1}\n",
            "Predicting on 27263 samples\n",
            "426/426 [==============================] - 2s 2ms/step\n",
            "F1_score on the validation set is: 0.6626294125201461\n",
            "Starting prediction: \n",
            "{'batch_size': 64, 'verbose': 1}\n",
            "Predicting on 13614 samples\n",
            "213/213 [==============================] - 0s 1ms/step\n",
            "F1_score on the test set is: 0.7333209296414058\n"
          ]
        }
      ],
      "source": [
        "from tensorflow.keras.models import Sequential\n",
        "from tensorflow.keras.layers import Embedding, Dense, LSTM, Bidirectional \n",
        "from keras.optimizers import Adam\n",
        "\n",
        "\n",
        "for key,idx in zip(hp_b.keys(),range(0,5)):\n",
        "    l1 = hp_b[key]['lstm_1']\n",
        "    l2 = hp_b[key]['lstm_2']\n",
        "    learning_rate = hp_b[key]['learning_rate']\n",
        "\n",
        "    x2lstm_model = Sequential()\n",
        "    embedding_layer = Embedding(input_dim = vocab_size,output_dim= embedding_dimension,input_length=1, weights = [embedding_matrix], trainable = False)\n",
        "    x2lstm_model.add(embedding_layer)\n",
        "    x2lstm_model.add(Bidirectional(LSTM(\n",
        "                                    units=l1['units'], \n",
        "                                    return_sequences=l1['return_sequences'],\n",
        "                                    dropout=l1['dropout'])))\n",
        "    \n",
        "    x2lstm_model.add(Bidirectional(LSTM(\n",
        "                                    units=l2['units'], \n",
        "                                    return_sequences=l2['return_sequences'],\n",
        "                                    dropout=l2['dropout'])))\n",
        "    x2lstm_model.add(Dense(num_classes,activation='softmax'))\n",
        "\n",
        "    x2lstm_model.summary()\n",
        "\n",
        "    x2lstm_model.compile(loss='sparse_categorical_crossentropy', optimizer=Adam(learning_rate=learning_rate), metrics=['accuracy'])\n",
        "\n",
        "    # fit model\n",
        "    history = x2lstm_model.fit(x_train, y_train, validation_data=(x_val, y_val), batch_size = 128, epochs=30)\n",
        "    print('='*40,key,'='*40)\n",
        "    #show_history(history)\n",
        "    #x2lstm_model.evaluate(x_val, y_val)\n",
        "    #results_x2lstm.append(f1_macro(x2lstm_model, y_train, y_val, num_classes))\n",
        "\n",
        "    loss, accuracy = x2lstm_model.evaluate(x_val, y_val)\n",
        "    print(f\"Model loss: {loss}, accuracy: {accuracy}\")\n",
        "\n",
        "    # Inference and evaluate\n",
        "\n",
        "    x2lstm_score = compute_f1(x2lstm_model, x_val, y_val)\n",
        "    print(f'F1_score on the validation set is: {x2lstm_score}')\n",
        "\n",
        "    x2lstm_score = compute_f1(x2lstm_model, x_test, y_test)\n",
        "    print(f'F1_score on the test set is: {x2lstm_score}')\n",
        "\n",
        "    results_x2lstm.append(x2lstm_score.copy())"
      ]
    },
    {
      "cell_type": "code",
      "execution_count": 58,
      "metadata": {
        "id": "twx8L1SnHFEh",
        "outputId": "5dfdc1ad-d241-4876-ac6e-aafbe159e895"
      },
      "outputs": [
        {
          "name": "stdout",
          "output_type": "stream",
          "text": [
            "F1_SCORES\n",
            "0   0.7185774775083493\n",
            "1   0.738979964836462\n",
            "2   0.7371476022980791\n",
            "3   0.7531157685857218\n",
            "4   0.7333209296414058\n"
          ]
        }
      ],
      "source": [
        "print(\"F1_SCORES\")\n",
        "for f1_macro_score,idx in zip(results_x2lstm,range(0,5)):\n",
        "    print(idx, \" \", f1_macro_score)"
      ]
    },
    {
      "cell_type": "code",
      "execution_count": 59,
      "metadata": {},
      "outputs": [
        {
          "name": "stdout",
          "output_type": "stream",
          "text": [
            "Top 2xLSTM F1 Macro score: 0.7531157685857218\n"
          ]
        }
      ],
      "source": [
        "x2lstm_score = max([f1_macro_score for f1_macro_score,idx in zip(results_x2lstm,range(0,5))])\n",
        "print(f\"Top 2xLSTM F1 Macro score: {x2lstm_score}\")"
      ]
    },
    {
      "cell_type": "code",
      "execution_count": 60,
      "metadata": {
        "id": "OglXcWHaHFEh"
      },
      "outputs": [],
      "source": [
        "#from keras.optimizers import Adam\n",
        "\n",
        "#x2lstm_model.compile(loss='sparse_categorical_crossentropy', optimizer=Adam(learning_rate=2e-3), metrics=['accuracy'])"
      ]
    },
    {
      "cell_type": "code",
      "execution_count": 61,
      "metadata": {
        "id": "wODByaN6HFEh"
      },
      "outputs": [],
      "source": [
        "# fit model\n",
        "#history = x2lstm_model.fit(x_train, y_train, validation_data=(x_val, y_val), batch_size = 128, epochs=30)"
      ]
    },
    {
      "cell_type": "code",
      "execution_count": 62,
      "metadata": {
        "id": "-MS8c1NzHFEh"
      },
      "outputs": [],
      "source": [
        "#show_history(history)"
      ]
    },
    {
      "cell_type": "code",
      "execution_count": 63,
      "metadata": {
        "id": "Le5vJSMxHFEi"
      },
      "outputs": [],
      "source": [
        "#x2lstm_model.evaluate(x_val, y_val)"
      ]
    },
    {
      "cell_type": "markdown",
      "metadata": {
        "id": "5hgT909Mi8CG"
      },
      "source": [
        "## Model C: LSTM + Dense"
      ]
    },
    {
      "cell_type": "code",
      "execution_count": 64,
      "metadata": {
        "id": "5P-NSPmwi8CG"
      },
      "outputs": [
        {
          "name": "stdout",
          "output_type": "stream",
          "text": [
            "Model: \"sequential_7\"\n",
            "_________________________________________________________________\n",
            " Layer (type)                Output Shape              Param #   \n",
            "=================================================================\n",
            " embedding_layer (Embedding)  (None, 1, 50)            365300    \n",
            "                                                                 \n",
            " LSTM (Bidirectional)        (None, 64)                21248     \n",
            "                                                                 \n",
            " dense_layer (Dense)         (None, 1000)              65000     \n",
            "                                                                 \n",
            " logits (Dense)              (None, 39)                39039     \n",
            "                                                                 \n",
            "=================================================================\n",
            "Total params: 490,587\n",
            "Trainable params: 125,287\n",
            "Non-trainable params: 365,300\n",
            "_________________________________________________________________\n"
          ]
        }
      ],
      "source": [
        "from tensorflow.keras.models import Sequential\n",
        "from tensorflow.keras.layers import Embedding, Dense, LSTM, Bidirectional \n",
        "from tensorflow.keras.optimizers import Adam\n",
        "\n",
        "lstm_dense_layers_info = [\n",
        "    {\n",
        "        \"mlayer\": layers.Embedding,        \n",
        "        'input_dim': vocab_size,\n",
        "        \"output_dim\" : embedding_dimension,\n",
        "        \"input_length\" : 1,\n",
        "        \"weights\" : [embedding_matrix],\n",
        "        \"trainable\" : False,\n",
        "        \"name\" : \"embedding_layer\"\n",
        "    },\n",
        "    {\n",
        "        \"mlayer\": layers.Bidirectional,\n",
        "        \"layer\": LSTM(32),\n",
        "        \"name\" : 'LSTM'\n",
        "    },\n",
        "    {\n",
        "        \"mlayer\": layers.Dense,\n",
        "        \"name\" : 'dense_layer',\n",
        "        \"units\": 1000,\n",
        "    },\n",
        "    {\n",
        "        \"mlayer\": layers.Dense,\n",
        "        \"units\": num_classes,\n",
        "        \"activation\" : 'softmax',\n",
        "        'name' : 'logits'\n",
        "    }\n",
        "]\n",
        "\n",
        "lstm_dense_compile_info = {\n",
        "    'optimizer': Adam(),\n",
        "    'loss': 'sparse_categorical_crossentropy',\n",
        "    'metrics': ['accuracy']\n",
        "}\n",
        "\n",
        "lstm_dense_model = create_model(lstm_dense_layers_info, lstm_dense_compile_info)"
      ]
    },
    {
      "cell_type": "code",
      "execution_count": 65,
      "metadata": {},
      "outputs": [
        {
          "name": "stdout",
          "output_type": "stream",
          "text": [
            "Start training! \n",
            "Parameters: {'verbose': 0, 'epochs': 30, 'batch_size': 64}\n",
            "Training completed!\n",
            "Showing history...\n",
            "Displaying the following history keys: dict_keys(['loss', 'accuracy', 'val_loss', 'val_accuracy'])\n"
          ]
        },
        {
          "data": {
            "image/png": "[encoded data removed]",
            "text/plain": [
              "<Figure size 640x480 with 1 Axes>"
            ]
          },
          "metadata": {},
          "output_type": "display_data"
        },
        {
          "data": {
            "image/png": "[encoded data removed]",
            "text/plain": [
              "<Figure size 640x480 with 1 Axes>"
            ]
          },
          "metadata": {},
          "output_type": "display_data"
        }
      ],
      "source": [
        "# Train\n",
        " \n",
        "lstm_dense_training_info = {\n",
        "    'verbose': 0,\n",
        "    'epochs' : 30,\n",
        "    'batch_size' : 64\n",
        "}\n",
        "\n",
        "lstm_dense_model = train_model(model=lstm_dense_model,training_info = lstm_dense_training_info)"
      ]
    },
    {
      "cell_type": "code",
      "execution_count": 66,
      "metadata": {},
      "outputs": [
        {
          "name": "stdout",
          "output_type": "stream",
          "text": [
            "852/852 [==============================] - 1s 2ms/step - loss: 0.6971 - accuracy: 0.7844\n",
            "Model loss: 0.6971319317817688, accuracy: 0.7843964099884033\n",
            "Starting prediction: \n",
            "{'batch_size': 64, 'verbose': 1}\n",
            "Predicting on 27263 samples\n",
            "426/426 [==============================] - 1s 2ms/step\n",
            "F1_score on the validation set is: 0.6834054016509804\n",
            "Starting prediction: \n",
            "{'batch_size': 64, 'verbose': 1}\n",
            "Predicting on 13614 samples\n",
            "213/213 [==============================] - 0s 2ms/step\n",
            "F1_score on the test set is: 0.752229389046463\n"
          ]
        }
      ],
      "source": [
        "loss, accuracy = lstm_dense_model.evaluate(x_val, y_val)\n",
        "print(f\"Model loss: {loss}, accuracy: {accuracy}\")\n",
        "\n",
        "# Inference and evaluate\n",
        "\n",
        "lstm_dense_score = compute_f1(lstm_dense_model, x_val, y_val)\n",
        "print(f'F1_score on the validation set is: {lstm_dense_score}')\n",
        "\n",
        "lstm_dense_score = compute_f1(lstm_dense_model, x_test, y_test)\n",
        "print(f'F1_score on the test set is: {lstm_dense_score}')"
      ]
    },
    {
      "cell_type": "markdown",
      "metadata": {
        "id": "tTwH3Iz5i8CG"
      },
      "source": [
        "## Conclusions"
      ]
    },
    {
      "cell_type": "code",
      "execution_count": 67,
      "metadata": {
        "id": "g8vray3yi8CH"
      },
      "outputs": [
        {
          "name": "stdout",
          "output_type": "stream",
          "text": [
            " \n",
            "F1 Macro scores:\n",
            "    Base = 0.7374390710303018\n",
            "    GRU = 0.7439228552343465\n",
            "    2x LSTM = 0.7531157685857218\n",
            "    LSTM + Dense = 0.752229389046463\n",
            "\n"
          ]
        }
      ],
      "source": [
        "print(f''' \n",
        "F1 Macro scores:\n",
        "    Base = {base_score}\n",
        "    GRU = {gru_score}\n",
        "    2x LSTM = {x2lstm_score}\n",
        "    LSTM + Dense = {lstm_dense_score}\n",
        "''')"
      ]
    }
  ],
  "metadata": {
    "accelerator": "GPU",
    "colab": {
      "provenance": []
    },
    "gpuClass": "standard",
    "kernelspec": {
      "display_name": "Python 3.7.13 ('nlp')",
      "language": "python",
      "name": "python3"
    },
    "language_info": {
      "codemirror_mode": {
        "name": "ipython",
        "version": 3
      },
      "file_extension": ".py",
      "mimetype": "text/x-python",
      "name": "python",
      "nbconvert_exporter": "python",
      "pygments_lexer": "ipython3",
      "version": "3.7.13"
    },
    "orig_nbformat": 4,
    "vscode": {
      "interpreter": {
        "hash": "0847cda728ef3e0f335e7e94b5a043d9a0fda1c620343fc6302f7013063303dc"
      }
    }
  },
  "nbformat": 4,
  "nbformat_minor": 0
}
