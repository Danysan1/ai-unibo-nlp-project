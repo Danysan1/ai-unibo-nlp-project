{
  "cells": [
    {
      "cell_type": "markdown",
      "metadata": {
        "id": "iKel9Y42484v"
      },
      "source": [
        "<a href=\"https://colab.research.google.com/github/Danysan1/ai-unibo-nlp-project/blob/main/a1/execution.ipynb\" target=\"_parent\"><img src=\"https://colab.research.google.com/assets/colab-badge.svg\" alt=\"Open In Colab\"/></a>"
      ]
    },
    {
      "cell_type": "markdown",
      "metadata": {
        "id": "TzCABY1Qi8Bv"
      },
      "source": [
        "# Assigment 1 execution"
      ]
    },
    {
      "cell_type": "markdown",
      "metadata": {
        "id": "iCkTgi9UBCxy"
      },
      "source": [
        "Team members: Daniel Bernardi, Daniele Santini, Hiari Pizzini Cavagna and Muhammad Saleem Ghulam."
      ]
    },
    {
      "cell_type": "markdown",
      "metadata": {
        "id": "kNE248Nhi8B0"
      },
      "source": [
        "Corpora: https://www.nltk.org/nltk_data/ , point 91, \"Dependency Parsed Treebank\" ([link](https://raw.githubusercontent.com/nltk/nltk_data/gh-pages/packages/corpora/dependency_treebank.zip)).\n",
        "\n",
        "Docs:\n",
        "* https://www.nltk.org/api/nltk.corpus.html\n",
        "* https://www.nltk.org/data.html\n",
        "* https://www.nltk.org/install.html\n",
        "\n",
        "## Preparing the environment"
      ]
    },
    {
      "cell_type": "code",
      "execution_count": 193,
      "metadata": {
        "colab": {
          "base_uri": "https://localhost:8080/"
        },
        "id": "SJOEUxxoi8B1",
        "outputId": "9b780f1c-691b-4c88-94b5-3675718fb4c6"
      },
      "outputs": [
        {
          "name": "stdout",
          "output_type": "stream",
          "text": [
            "Requirement already satisfied: pandas in /opt/anaconda3/envs/nlp/lib/python3.7/site-packages (1.3.5)\n",
            "Requirement already satisfied: numpy in /opt/anaconda3/envs/nlp/lib/python3.7/site-packages (1.21.5)\n",
            "Requirement already satisfied: matplotlib in /opt/anaconda3/envs/nlp/lib/python3.7/site-packages (3.5.3)\n",
            "Requirement already satisfied: gensim==4.2.0 in /opt/anaconda3/envs/nlp/lib/python3.7/site-packages (4.2.0)\n",
            "Requirement already satisfied: tensorflow-addons in /opt/anaconda3/envs/nlp/lib/python3.7/site-packages (0.18.0)\n",
            "Requirement already satisfied: keras_tuner in /opt/anaconda3/envs/nlp/lib/python3.7/site-packages (1.1.3)\n",
            "Requirement already satisfied: scipy>=0.18.1 in /opt/anaconda3/envs/nlp/lib/python3.7/site-packages (from gensim==4.2.0) (1.7.3)\n",
            "Requirement already satisfied: smart-open>=1.8.1 in /opt/anaconda3/envs/nlp/lib/python3.7/site-packages (from gensim==4.2.0) (5.2.1)\n",
            "Requirement already satisfied: python-dateutil>=2.7.3 in /opt/anaconda3/envs/nlp/lib/python3.7/site-packages (from pandas) (2.8.2)\n",
            "Requirement already satisfied: pytz>=2017.3 in /opt/anaconda3/envs/nlp/lib/python3.7/site-packages (from pandas) (2022.1)\n",
            "Requirement already satisfied: packaging>=20.0 in /opt/anaconda3/envs/nlp/lib/python3.7/site-packages (from matplotlib) (21.3)\n",
            "Requirement already satisfied: pyparsing>=2.2.1 in /opt/anaconda3/envs/nlp/lib/python3.7/site-packages (from matplotlib) (3.0.9)\n",
            "Requirement already satisfied: fonttools>=4.22.0 in /opt/anaconda3/envs/nlp/lib/python3.7/site-packages (from matplotlib) (4.25.0)\n",
            "Requirement already satisfied: kiwisolver>=1.0.1 in /opt/anaconda3/envs/nlp/lib/python3.7/site-packages (from matplotlib) (1.4.2)\n",
            "Requirement already satisfied: cycler>=0.10 in /opt/anaconda3/envs/nlp/lib/python3.7/site-packages (from matplotlib) (0.11.0)\n",
            "Requirement already satisfied: pillow>=6.2.0 in /opt/anaconda3/envs/nlp/lib/python3.7/site-packages (from matplotlib) (9.2.0)\n",
            "Requirement already satisfied: typeguard>=2.7 in /opt/anaconda3/envs/nlp/lib/python3.7/site-packages (from tensorflow-addons) (2.13.3)\n",
            "Requirement already satisfied: ipython in /opt/anaconda3/envs/nlp/lib/python3.7/site-packages (from keras_tuner) (7.31.1)\n",
            "Requirement already satisfied: tensorboard in /opt/anaconda3/envs/nlp/lib/python3.7/site-packages (from keras_tuner) (2.11.0)\n",
            "Requirement already satisfied: kt-legacy in /opt/anaconda3/envs/nlp/lib/python3.7/site-packages (from keras_tuner) (1.0.4)\n",
            "Requirement already satisfied: requests in /opt/anaconda3/envs/nlp/lib/python3.7/site-packages (from keras_tuner) (2.28.1)\n",
            "Requirement already satisfied: typing-extensions in /opt/anaconda3/envs/nlp/lib/python3.7/site-packages (from kiwisolver>=1.0.1->matplotlib) (4.3.0)\n",
            "Requirement already satisfied: six>=1.5 in /opt/anaconda3/envs/nlp/lib/python3.7/site-packages (from python-dateutil>=2.7.3->pandas) (1.16.0)\n",
            "Requirement already satisfied: matplotlib-inline in /opt/anaconda3/envs/nlp/lib/python3.7/site-packages (from ipython->keras_tuner) (0.1.6)\n",
            "Requirement already satisfied: decorator in /opt/anaconda3/envs/nlp/lib/python3.7/site-packages (from ipython->keras_tuner) (5.1.1)\n",
            "Requirement already satisfied: pickleshare in /opt/anaconda3/envs/nlp/lib/python3.7/site-packages (from ipython->keras_tuner) (0.7.5)\n",
            "Requirement already satisfied: traitlets>=4.2 in /opt/anaconda3/envs/nlp/lib/python3.7/site-packages (from ipython->keras_tuner) (5.1.1)\n",
            "Requirement already satisfied: jedi>=0.16 in /opt/anaconda3/envs/nlp/lib/python3.7/site-packages (from ipython->keras_tuner) (0.18.1)\n",
            "Requirement already satisfied: setuptools>=18.5 in /opt/anaconda3/envs/nlp/lib/python3.7/site-packages (from ipython->keras_tuner) (65.5.0)\n",
            "Requirement already satisfied: backcall in /opt/anaconda3/envs/nlp/lib/python3.7/site-packages (from ipython->keras_tuner) (0.2.0)\n",
            "Requirement already satisfied: prompt-toolkit!=3.0.0,!=3.0.1,<3.1.0,>=2.0.0 in /opt/anaconda3/envs/nlp/lib/python3.7/site-packages (from ipython->keras_tuner) (3.0.20)\n",
            "Requirement already satisfied: pygments in /opt/anaconda3/envs/nlp/lib/python3.7/site-packages (from ipython->keras_tuner) (2.11.2)\n",
            "Requirement already satisfied: pexpect>4.3 in /opt/anaconda3/envs/nlp/lib/python3.7/site-packages (from ipython->keras_tuner) (4.8.0)\n",
            "Requirement already satisfied: certifi>=2017.4.17 in /opt/anaconda3/envs/nlp/lib/python3.7/site-packages (from requests->keras_tuner) (2022.12.7)\n",
            "Requirement already satisfied: charset-normalizer<3,>=2 in /opt/anaconda3/envs/nlp/lib/python3.7/site-packages (from requests->keras_tuner) (2.0.4)\n",
            "Requirement already satisfied: idna<4,>=2.5 in /opt/anaconda3/envs/nlp/lib/python3.7/site-packages (from requests->keras_tuner) (3.4)\n",
            "Requirement already satisfied: urllib3<1.27,>=1.21.1 in /opt/anaconda3/envs/nlp/lib/python3.7/site-packages (from requests->keras_tuner) (1.26.12)\n",
            "Requirement already satisfied: tensorboard-plugin-wit>=1.6.0 in /opt/anaconda3/envs/nlp/lib/python3.7/site-packages (from tensorboard->keras_tuner) (1.8.1)\n",
            "Requirement already satisfied: google-auth<3,>=1.6.3 in /opt/anaconda3/envs/nlp/lib/python3.7/site-packages (from tensorboard->keras_tuner) (2.15.0)\n",
            "Requirement already satisfied: protobuf<4,>=3.9.2 in /opt/anaconda3/envs/nlp/lib/python3.7/site-packages (from tensorboard->keras_tuner) (3.19.6)\n",
            "Requirement already satisfied: absl-py>=0.4 in /opt/anaconda3/envs/nlp/lib/python3.7/site-packages (from tensorboard->keras_tuner) (1.3.0)\n",
            "Requirement already satisfied: google-auth-oauthlib<0.5,>=0.4.1 in /opt/anaconda3/envs/nlp/lib/python3.7/site-packages (from tensorboard->keras_tuner) (0.4.6)\n",
            "Requirement already satisfied: wheel>=0.26 in /opt/anaconda3/envs/nlp/lib/python3.7/site-packages (from tensorboard->keras_tuner) (0.37.1)\n",
            "Requirement already satisfied: tensorboard-data-server<0.7.0,>=0.6.0 in /opt/anaconda3/envs/nlp/lib/python3.7/site-packages (from tensorboard->keras_tuner) (0.6.1)\n",
            "Requirement already satisfied: werkzeug>=1.0.1 in /opt/anaconda3/envs/nlp/lib/python3.7/site-packages (from tensorboard->keras_tuner) (2.2.2)\n",
            "Requirement already satisfied: markdown>=2.6.8 in /opt/anaconda3/envs/nlp/lib/python3.7/site-packages (from tensorboard->keras_tuner) (3.4.1)\n",
            "Requirement already satisfied: grpcio>=1.24.3 in /opt/anaconda3/envs/nlp/lib/python3.7/site-packages (from tensorboard->keras_tuner) (1.51.1)\n",
            "Requirement already satisfied: cachetools<6.0,>=2.0.0 in /opt/anaconda3/envs/nlp/lib/python3.7/site-packages (from google-auth<3,>=1.6.3->tensorboard->keras_tuner) (5.2.0)\n",
            "Requirement already satisfied: rsa<5,>=3.1.4 in /opt/anaconda3/envs/nlp/lib/python3.7/site-packages (from google-auth<3,>=1.6.3->tensorboard->keras_tuner) (4.9)\n",
            "Requirement already satisfied: pyasn1-modules>=0.2.1 in /opt/anaconda3/envs/nlp/lib/python3.7/site-packages (from google-auth<3,>=1.6.3->tensorboard->keras_tuner) (0.2.8)\n",
            "Requirement already satisfied: requests-oauthlib>=0.7.0 in /opt/anaconda3/envs/nlp/lib/python3.7/site-packages (from google-auth-oauthlib<0.5,>=0.4.1->tensorboard->keras_tuner) (1.3.1)\n",
            "Requirement already satisfied: parso<0.9.0,>=0.8.0 in /opt/anaconda3/envs/nlp/lib/python3.7/site-packages (from jedi>=0.16->ipython->keras_tuner) (0.8.3)\n",
            "Requirement already satisfied: importlib-metadata>=4.4 in /opt/anaconda3/envs/nlp/lib/python3.7/site-packages (from markdown>=2.6.8->tensorboard->keras_tuner) (4.11.3)\n",
            "Requirement already satisfied: ptyprocess>=0.5 in /opt/anaconda3/envs/nlp/lib/python3.7/site-packages (from pexpect>4.3->ipython->keras_tuner) (0.7.0)\n",
            "Requirement already satisfied: wcwidth in /opt/anaconda3/envs/nlp/lib/python3.7/site-packages (from prompt-toolkit!=3.0.0,!=3.0.1,<3.1.0,>=2.0.0->ipython->keras_tuner) (0.2.5)\n",
            "Requirement already satisfied: MarkupSafe>=2.1.1 in /opt/anaconda3/envs/nlp/lib/python3.7/site-packages (from werkzeug>=1.0.1->tensorboard->keras_tuner) (2.1.1)\n",
            "Requirement already satisfied: zipp>=0.5 in /opt/anaconda3/envs/nlp/lib/python3.7/site-packages (from importlib-metadata>=4.4->markdown>=2.6.8->tensorboard->keras_tuner) (3.8.0)\n",
            "Requirement already satisfied: pyasn1<0.5.0,>=0.4.6 in /opt/anaconda3/envs/nlp/lib/python3.7/site-packages (from pyasn1-modules>=0.2.1->google-auth<3,>=1.6.3->tensorboard->keras_tuner) (0.4.8)\n",
            "Requirement already satisfied: oauthlib>=3.0.0 in /opt/anaconda3/envs/nlp/lib/python3.7/site-packages (from requests-oauthlib>=0.7.0->google-auth-oauthlib<0.5,>=0.4.1->tensorboard->keras_tuner) (3.2.2)\n",
            "Note: you may need to restart the kernel to use updated packages.\n"
          ]
        }
      ],
      "source": [
        "%pip install pandas numpy matplotlib gensim==4.2.0 tensorflow-addons keras_tuner"
      ]
    },
    {
      "cell_type": "code",
      "execution_count": 194,
      "metadata": {
        "id": "KqnHhB8yGptZ"
      },
      "outputs": [],
      "source": [
        "import os, shutil  #  file management\n",
        "import sys \n",
        "import pandas as pd  #  dataframe management\n",
        "import numpy as np  #  data manipulation\n",
        "import re\n",
        "import urllib.request  # download files\n",
        "from zipfile import ZipFile # extract files\n",
        "from matplotlib import pyplot as plt\n",
        "import tensorflow_addons as tfa\n",
        "from sklearn.metrics import f1_score\n",
        "import keras\n",
        "import keras_tuner"
      ]
    },
    {
      "cell_type": "code",
      "execution_count": 195,
      "metadata": {
        "id": "HuFLcnnQuym9"
      },
      "outputs": [],
      "source": [
        "if not os.path.exists(\"./report\"):\n",
        "    os.makedirs(\"./report\")"
      ]
    },
    {
      "cell_type": "markdown",
      "metadata": {
        "id": "glhEVNdNi8B4"
      },
      "source": [
        "## Downloading the dataset"
      ]
    },
    {
      "cell_type": "code",
      "execution_count": 196,
      "metadata": {
        "colab": {
          "base_uri": "https://localhost:8080/"
        },
        "id": "gMVaf67mGtVe",
        "outputId": "ac629806-365d-4c76-f1d6-327391383417"
      },
      "outputs": [
        {
          "name": "stdout",
          "output_type": "stream",
          "text": [
            "Successful extraction\n"
          ]
        }
      ],
      "source": [
        "dataset_folder = os.path.join(os.getcwd(), \"Dataset\")\n",
        "\n",
        "if not os.path.exists(dataset_folder):\n",
        "    os.makedirs(dataset_folder)\n",
        "\n",
        "url = 'https://raw.githubusercontent.com/nltk/nltk_data/gh-pages/packages/corpora/dependency_treebank.zip'\n",
        "\n",
        "dataset_path = os.path.join(dataset_folder, \"dependency_treebank.zip\")\n",
        "\n",
        "if not os.path.exists(dataset_path):\n",
        "    urllib.request.urlretrieve(url, dataset_path)\n",
        "    print(\"Successful download\")\n",
        "    \n",
        "with ZipFile(dataset_path, 'r') as zObject:\n",
        "  # Extracting all the members of the zip  into a specific location.\n",
        "  zObject.extractall(dataset_folder)\n",
        "  print(\"Successful extraction\")"
      ]
    },
    {
      "cell_type": "markdown",
      "metadata": {
        "id": "6YF4FVoUi8B7"
      },
      "source": [
        "## Loading the data"
      ]
    },
    {
      "cell_type": "code",
      "execution_count": 197,
      "metadata": {
        "id": "brq6f0-oi8B9"
      },
      "outputs": [],
      "source": [
        "def loadCorpus(start:int, stop:int=None):\n",
        "    '''\n",
        "    Loads the data for the specified file range.\n",
        "    \n",
        "    Removes the third column 'num', which is not necessary for this task.\n",
        "\n",
        "    Parameters:\n",
        "        start: start of numeric range of files (inclusive)\n",
        "        stop: end of numeric range of files (exclusive)\n",
        "    '''\n",
        "    dataset_name = \"dependency_treebank\"\n",
        "    folder = os.path.join(os.getcwd(), \"Dataset\", dataset_name)\n",
        "\n",
        "    if stop==None:\n",
        "        stop = start+1\n",
        "    \n",
        "    return pd.concat([\n",
        "        pd.read_csv(\n",
        "            f'{folder}/wsj_{\"{:04d}\".format(num)}.dp',\n",
        "            sep=\"\\t\",\n",
        "            usecols=[0,1],\n",
        "            names=[\"word\",\"label\"]\n",
        "        ) for num in range(start, stop)\n",
        "    ])"
      ]
    },
    {
      "cell_type": "code",
      "execution_count": 198,
      "metadata": {
        "id": "MHjTm5HOi8B-"
      },
      "outputs": [],
      "source": [
        "full_dataset = loadCorpus(1,200)"
      ]
    },
    {
      "cell_type": "markdown",
      "metadata": {
        "id": "xVtgdAgwi8B-"
      },
      "source": [
        "## Exploratory Data Analysis"
      ]
    },
    {
      "cell_type": "code",
      "execution_count": 199,
      "metadata": {
        "colab": {
          "base_uri": "https://localhost:8080/"
        },
        "id": "Ih48IOpti8B_",
        "outputId": "e4806768-dacb-4e54-df12-933d51832a21"
      },
      "outputs": [
        {
          "data": {
            "text/plain": [
              "word     94084\n",
              "label    94084\n",
              "dtype: int64"
            ]
          },
          "execution_count": 199,
          "metadata": {},
          "output_type": "execute_result"
        }
      ],
      "source": [
        "full_dataset.count()"
      ]
    },
    {
      "cell_type": "code",
      "execution_count": 200,
      "metadata": {
        "colab": {
          "base_uri": "https://localhost:8080/",
          "height": 677
        },
        "id": "uzKTmaB0i8CA",
        "outputId": "ebf03660-e841-42c6-a376-a55d0b7676ad"
      },
      "outputs": [
        {
          "data": {
            "text/html": [
              "<div>\n",
              "<style scoped>\n",
              "    .dataframe tbody tr th:only-of-type {\n",
              "        vertical-align: middle;\n",
              "    }\n",
              "\n",
              "    .dataframe tbody tr th {\n",
              "        vertical-align: top;\n",
              "    }\n",
              "\n",
              "    .dataframe thead th {\n",
              "        text-align: right;\n",
              "    }\n",
              "</style>\n",
              "<table border=\"1\" class=\"dataframe\">\n",
              "  <thead>\n",
              "    <tr style=\"text-align: right;\">\n",
              "      <th></th>\n",
              "      <th>word</th>\n",
              "      <th>label</th>\n",
              "    </tr>\n",
              "  </thead>\n",
              "  <tbody>\n",
              "    <tr>\n",
              "      <th>0</th>\n",
              "      <td>Pierre</td>\n",
              "      <td>NNP</td>\n",
              "    </tr>\n",
              "    <tr>\n",
              "      <th>1</th>\n",
              "      <td>Vinken</td>\n",
              "      <td>NNP</td>\n",
              "    </tr>\n",
              "    <tr>\n",
              "      <th>2</th>\n",
              "      <td>,</td>\n",
              "      <td>,</td>\n",
              "    </tr>\n",
              "    <tr>\n",
              "      <th>3</th>\n",
              "      <td>61</td>\n",
              "      <td>CD</td>\n",
              "    </tr>\n",
              "    <tr>\n",
              "      <th>4</th>\n",
              "      <td>years</td>\n",
              "      <td>NNS</td>\n",
              "    </tr>\n",
              "    <tr>\n",
              "      <th>5</th>\n",
              "      <td>old</td>\n",
              "      <td>JJ</td>\n",
              "    </tr>\n",
              "    <tr>\n",
              "      <th>6</th>\n",
              "      <td>,</td>\n",
              "      <td>,</td>\n",
              "    </tr>\n",
              "    <tr>\n",
              "      <th>7</th>\n",
              "      <td>will</td>\n",
              "      <td>MD</td>\n",
              "    </tr>\n",
              "    <tr>\n",
              "      <th>8</th>\n",
              "      <td>join</td>\n",
              "      <td>VB</td>\n",
              "    </tr>\n",
              "    <tr>\n",
              "      <th>9</th>\n",
              "      <td>the</td>\n",
              "      <td>DT</td>\n",
              "    </tr>\n",
              "    <tr>\n",
              "      <th>10</th>\n",
              "      <td>board</td>\n",
              "      <td>NN</td>\n",
              "    </tr>\n",
              "    <tr>\n",
              "      <th>11</th>\n",
              "      <td>as</td>\n",
              "      <td>IN</td>\n",
              "    </tr>\n",
              "    <tr>\n",
              "      <th>12</th>\n",
              "      <td>a</td>\n",
              "      <td>DT</td>\n",
              "    </tr>\n",
              "    <tr>\n",
              "      <th>13</th>\n",
              "      <td>nonexecutive</td>\n",
              "      <td>JJ</td>\n",
              "    </tr>\n",
              "    <tr>\n",
              "      <th>14</th>\n",
              "      <td>director</td>\n",
              "      <td>NN</td>\n",
              "    </tr>\n",
              "    <tr>\n",
              "      <th>15</th>\n",
              "      <td>Nov.</td>\n",
              "      <td>NNP</td>\n",
              "    </tr>\n",
              "    <tr>\n",
              "      <th>16</th>\n",
              "      <td>29</td>\n",
              "      <td>CD</td>\n",
              "    </tr>\n",
              "    <tr>\n",
              "      <th>17</th>\n",
              "      <td>.</td>\n",
              "      <td>.</td>\n",
              "    </tr>\n",
              "    <tr>\n",
              "      <th>18</th>\n",
              "      <td>Mr.</td>\n",
              "      <td>NNP</td>\n",
              "    </tr>\n",
              "    <tr>\n",
              "      <th>19</th>\n",
              "      <td>Vinken</td>\n",
              "      <td>NNP</td>\n",
              "    </tr>\n",
              "  </tbody>\n",
              "</table>\n",
              "</div>"
            ],
            "text/plain": [
              "            word label\n",
              "0         Pierre   NNP\n",
              "1         Vinken   NNP\n",
              "2              ,     ,\n",
              "3             61    CD\n",
              "4          years   NNS\n",
              "5            old    JJ\n",
              "6              ,     ,\n",
              "7           will    MD\n",
              "8           join    VB\n",
              "9            the    DT\n",
              "10         board    NN\n",
              "11            as    IN\n",
              "12             a    DT\n",
              "13  nonexecutive    JJ\n",
              "14      director    NN\n",
              "15          Nov.   NNP\n",
              "16            29    CD\n",
              "17             .     .\n",
              "18           Mr.   NNP\n",
              "19        Vinken   NNP"
            ]
          },
          "execution_count": 200,
          "metadata": {},
          "output_type": "execute_result"
        }
      ],
      "source": [
        "full_dataset.head(20)"
      ]
    },
    {
      "cell_type": "markdown",
      "metadata": {
        "id": "ZjqrPfy4i8CB"
      },
      "source": [
        "Each document contains a different tokenized article:"
      ]
    },
    {
      "cell_type": "code",
      "execution_count": 201,
      "metadata": {
        "colab": {
          "base_uri": "https://localhost:8080/",
          "height": 35
        },
        "id": "EE9Qv0tUi8CB",
        "outputId": "a67ac637-6252-4f84-d0ee-cdfa9053972a"
      },
      "outputs": [
        {
          "data": {
            "text/plain": [
              "'Pierre Vinken , 61 years old , will join the board as a nonexecutive director Nov. 29 . Mr. Vinken is chairman of Elsevier N.V. , the Dutch publishing group .'"
            ]
          },
          "execution_count": 201,
          "metadata": {},
          "output_type": "execute_result"
        }
      ],
      "source": [
        "sample_article = loadCorpus(1)\n",
        "\" \".join(sample_article[\"word\"])"
      ]
    },
    {
      "cell_type": "code",
      "execution_count": 202,
      "metadata": {
        "colab": {
          "base_uri": "https://localhost:8080/",
          "height": 35
        },
        "id": "sDIadSSJi8CB",
        "outputId": "cc50d12c-0c12-41d4-cb61-9263d0574d9d"
      },
      "outputs": [
        {
          "data": {
            "text/plain": [
              "'Rudolph Agnew , 55 years old and former chairman of Consolidated Gold Fields PLC , was named a nonexecutive director of this British industrial conglomerate .'"
            ]
          },
          "execution_count": 202,
          "metadata": {},
          "output_type": "execute_result"
        }
      ],
      "source": [
        "\" \".join(loadCorpus(2)[\"word\"])"
      ]
    },
    {
      "cell_type": "code",
      "execution_count": 203,
      "metadata": {
        "colab": {
          "base_uri": "https://localhost:8080/",
          "height": 336
        },
        "id": "dcAVyveni8CC",
        "outputId": "d118dd1a-f872-4ed9-dbe5-e21a306177d5"
      },
      "outputs": [
        {
          "name": "stderr",
          "output_type": "stream",
          "text": [
            "/opt/anaconda3/envs/nlp/lib/python3.7/site-packages/ipykernel_launcher.py:5: UserWarning: Matplotlib is currently using module://matplotlib_inline.backend_inline, which is a non-GUI backend, so cannot show the figure.\n",
            "  \"\"\"\n"
          ]
        },
        {
          "data": {
            "image/png": "[encoded data removed]",
            "text/plain": [
              "<Figure size 1500x500 with 1 Axes>"
            ]
          },
          "metadata": {},
          "output_type": "display_data"
        }
      ],
      "source": [
        "fig=plt.figure(figsize=(15,5))\n",
        "p = plt.hist(full_dataset[\"label\"])\n",
        "plt.xticks(rotation=45)\n",
        "fig.savefig('./report/classes_with_punctuation.png')\n",
        "fig.show()"
      ]
    },
    {
      "cell_type": "markdown",
      "metadata": {
        "id": "UCDElN10a2tF"
      },
      "source": [
        "A full list of classes can be found at https://www.ling.upenn.edu/courses/Fall_2003/ling001/penn_treebank_pos.html"
      ]
    },
    {
      "cell_type": "code",
      "execution_count": 204,
      "metadata": {
        "colab": {
          "base_uri": "https://localhost:8080/",
          "height": 306
        },
        "id": "K9XyBPIQi8CC",
        "outputId": "505f1620-2fd0-4f3d-8137-32ac365bd7ae"
      },
      "outputs": [
        {
          "data": {
            "image/png": "[encoded data removed]",
            "text/plain": [
              "<Figure size 1500x500 with 1 Axes>"
            ]
          },
          "metadata": {},
          "output_type": "display_data"
        }
      ],
      "source": [
        "fig=plt.figure(figsize=(15,5))\n",
        "p = plt.plot(full_dataset[\"word\"].value_counts())\n",
        "plt.xticks([])\n",
        "plt.show()"
      ]
    },
    {
      "cell_type": "markdown",
      "metadata": {
        "id": "MzyI2Wufi8CD"
      },
      "source": [
        "## Data splitting\n",
        "\n",
        "\n",
        "\n"
      ]
    },
    {
      "cell_type": "markdown",
      "metadata": {
        "id": "Nep1haoQkIO0"
      },
      "source": [
        "Creation of train, validation and test sets."
      ]
    },
    {
      "cell_type": "code",
      "execution_count": 205,
      "metadata": {
        "colab": {
          "base_uri": "https://localhost:8080/"
        },
        "id": "kOG5wns9X011",
        "outputId": "84a689ad-1e96-49ab-aae2-a109caa026d1"
      },
      "outputs": [
        {
          "data": {
            "text/plain": [
              "word     47356\n",
              "label    47356\n",
              "dtype: int64"
            ]
          },
          "execution_count": 205,
          "metadata": {},
          "output_type": "execute_result"
        }
      ],
      "source": [
        "df_train = loadCorpus(1,101) \n",
        "df_val = loadCorpus(101,151)\n",
        "df_test = loadCorpus(151,200)\n",
        "\n",
        "df_train.count()"
      ]
    },
    {
      "cell_type": "code",
      "execution_count": 206,
      "metadata": {
        "colab": {
          "base_uri": "https://localhost:8080/"
        },
        "id": "Th6dXqh94849",
        "outputId": "87bdce16-bf05-4b35-889f-d3b1ecad32b1"
      },
      "outputs": [
        {
          "data": {
            "text/plain": [
              "word     31183\n",
              "label    31183\n",
              "dtype: int64"
            ]
          },
          "execution_count": 206,
          "metadata": {},
          "output_type": "execute_result"
        }
      ],
      "source": [
        "df_val.count()"
      ]
    },
    {
      "cell_type": "code",
      "execution_count": 207,
      "metadata": {
        "colab": {
          "base_uri": "https://localhost:8080/"
        },
        "id": "Hj_BdDsA4849",
        "outputId": "5ae6f4c4-16d2-434c-a67b-f582d83cd80b"
      },
      "outputs": [
        {
          "data": {
            "text/plain": [
              "word     15545\n",
              "label    15545\n",
              "dtype: int64"
            ]
          },
          "execution_count": 207,
          "metadata": {},
          "output_type": "execute_result"
        }
      ],
      "source": [
        "df_test.count()"
      ]
    },
    {
      "cell_type": "markdown",
      "metadata": {
        "id": "XJrGcYbJ4849"
      },
      "source": [
        "## Data pre-processing"
      ]
    },
    {
      "cell_type": "markdown",
      "metadata": {
        "id": "vjPNQ9ilk7X_"
      },
      "source": [
        "Clean the data."
      ]
    },
    {
      "cell_type": "code",
      "execution_count": 208,
      "metadata": {
        "id": "4T_aIaLxk4Xp"
      },
      "outputs": [],
      "source": [
        "def cleanCorpus(corpus):\n",
        "    # Lower every word    \n",
        "    corpus['word'] = corpus['word'].str.lower()\n",
        "    return corpus"
      ]
    },
    {
      "cell_type": "code",
      "execution_count": 209,
      "metadata": {
        "colab": {
          "base_uri": "https://localhost:8080/",
          "height": 336
        },
        "id": "DzhR6r5HOw5x",
        "outputId": "e99fb147-88ef-47b0-dda5-11fce25d6ffa"
      },
      "outputs": [
        {
          "data": {
            "image/png": "[encoded data removed]",
            "text/plain": [
              "<Figure size 1500x500 with 1 Axes>"
            ]
          },
          "metadata": {},
          "output_type": "display_data"
        }
      ],
      "source": [
        "fig=plt.figure(figsize=(15,5))\n",
        "p = plt.hist(cleanCorpus(full_dataset)[\"label\"])\n",
        "plt.xticks(rotation=45)\n",
        "plt.show()"
      ]
    },
    {
      "cell_type": "code",
      "execution_count": 210,
      "metadata": {
        "colab": {
          "base_uri": "https://localhost:8080/"
        },
        "id": "lV6x05Lu26ym",
        "outputId": "251dd3e0-887b-4fd4-c6d9-c19dc621d007"
      },
      "outputs": [
        {
          "data": {
            "text/plain": [
              "word     47356\n",
              "label    47356\n",
              "dtype: int64"
            ]
          },
          "execution_count": 210,
          "metadata": {},
          "output_type": "execute_result"
        }
      ],
      "source": [
        "#cleaned dataframes\n",
        "dfc_train = cleanCorpus(df_train)\n",
        "dfc_val = cleanCorpus(df_val)\n",
        "dfc_test = cleanCorpus(df_test)\n",
        "dfc_sample = cleanCorpus(sample_article)\n",
        "\n",
        "dfc_train.count()"
      ]
    },
    {
      "cell_type": "code",
      "execution_count": 211,
      "metadata": {
        "colab": {
          "base_uri": "https://localhost:8080/"
        },
        "id": "6Y4lYHXy484-",
        "outputId": "9c5cc77b-6eed-4f26-bf1c-bf67dce13dfc"
      },
      "outputs": [
        {
          "data": {
            "text/plain": [
              "word     31183\n",
              "label    31183\n",
              "dtype: int64"
            ]
          },
          "execution_count": 211,
          "metadata": {},
          "output_type": "execute_result"
        }
      ],
      "source": [
        "dfc_val.count()"
      ]
    },
    {
      "cell_type": "code",
      "execution_count": 212,
      "metadata": {
        "colab": {
          "base_uri": "https://localhost:8080/"
        },
        "id": "JfjU5ZVo484-",
        "outputId": "ab89fe27-7253-4d3b-8b5b-a8e072980cfb"
      },
      "outputs": [
        {
          "data": {
            "text/plain": [
              "word     15545\n",
              "label    15545\n",
              "dtype: int64"
            ]
          },
          "execution_count": 212,
          "metadata": {},
          "output_type": "execute_result"
        }
      ],
      "source": [
        "dfc_test.count()"
      ]
    },
    {
      "cell_type": "code",
      "execution_count": 213,
      "metadata": {
        "colab": {
          "base_uri": "https://localhost:8080/",
          "height": 677
        },
        "id": "R4fHZaScmPoU",
        "outputId": "b9ceadec-50f2-44d4-c642-c9c62a0059fe"
      },
      "outputs": [
        {
          "data": {
            "text/html": [
              "<div>\n",
              "<style scoped>\n",
              "    .dataframe tbody tr th:only-of-type {\n",
              "        vertical-align: middle;\n",
              "    }\n",
              "\n",
              "    .dataframe tbody tr th {\n",
              "        vertical-align: top;\n",
              "    }\n",
              "\n",
              "    .dataframe thead th {\n",
              "        text-align: right;\n",
              "    }\n",
              "</style>\n",
              "<table border=\"1\" class=\"dataframe\">\n",
              "  <thead>\n",
              "    <tr style=\"text-align: right;\">\n",
              "      <th></th>\n",
              "      <th>word</th>\n",
              "      <th>label</th>\n",
              "    </tr>\n",
              "  </thead>\n",
              "  <tbody>\n",
              "    <tr>\n",
              "      <th>0</th>\n",
              "      <td>pierre</td>\n",
              "      <td>NNP</td>\n",
              "    </tr>\n",
              "    <tr>\n",
              "      <th>1</th>\n",
              "      <td>vinken</td>\n",
              "      <td>NNP</td>\n",
              "    </tr>\n",
              "    <tr>\n",
              "      <th>2</th>\n",
              "      <td>,</td>\n",
              "      <td>,</td>\n",
              "    </tr>\n",
              "    <tr>\n",
              "      <th>3</th>\n",
              "      <td>61</td>\n",
              "      <td>CD</td>\n",
              "    </tr>\n",
              "    <tr>\n",
              "      <th>4</th>\n",
              "      <td>years</td>\n",
              "      <td>NNS</td>\n",
              "    </tr>\n",
              "    <tr>\n",
              "      <th>5</th>\n",
              "      <td>old</td>\n",
              "      <td>JJ</td>\n",
              "    </tr>\n",
              "    <tr>\n",
              "      <th>6</th>\n",
              "      <td>,</td>\n",
              "      <td>,</td>\n",
              "    </tr>\n",
              "    <tr>\n",
              "      <th>7</th>\n",
              "      <td>will</td>\n",
              "      <td>MD</td>\n",
              "    </tr>\n",
              "    <tr>\n",
              "      <th>8</th>\n",
              "      <td>join</td>\n",
              "      <td>VB</td>\n",
              "    </tr>\n",
              "    <tr>\n",
              "      <th>9</th>\n",
              "      <td>the</td>\n",
              "      <td>DT</td>\n",
              "    </tr>\n",
              "    <tr>\n",
              "      <th>10</th>\n",
              "      <td>board</td>\n",
              "      <td>NN</td>\n",
              "    </tr>\n",
              "    <tr>\n",
              "      <th>11</th>\n",
              "      <td>as</td>\n",
              "      <td>IN</td>\n",
              "    </tr>\n",
              "    <tr>\n",
              "      <th>12</th>\n",
              "      <td>a</td>\n",
              "      <td>DT</td>\n",
              "    </tr>\n",
              "    <tr>\n",
              "      <th>13</th>\n",
              "      <td>nonexecutive</td>\n",
              "      <td>JJ</td>\n",
              "    </tr>\n",
              "    <tr>\n",
              "      <th>14</th>\n",
              "      <td>director</td>\n",
              "      <td>NN</td>\n",
              "    </tr>\n",
              "    <tr>\n",
              "      <th>15</th>\n",
              "      <td>nov.</td>\n",
              "      <td>NNP</td>\n",
              "    </tr>\n",
              "    <tr>\n",
              "      <th>16</th>\n",
              "      <td>29</td>\n",
              "      <td>CD</td>\n",
              "    </tr>\n",
              "    <tr>\n",
              "      <th>17</th>\n",
              "      <td>.</td>\n",
              "      <td>.</td>\n",
              "    </tr>\n",
              "    <tr>\n",
              "      <th>18</th>\n",
              "      <td>mr.</td>\n",
              "      <td>NNP</td>\n",
              "    </tr>\n",
              "    <tr>\n",
              "      <th>19</th>\n",
              "      <td>vinken</td>\n",
              "      <td>NNP</td>\n",
              "    </tr>\n",
              "  </tbody>\n",
              "</table>\n",
              "</div>"
            ],
            "text/plain": [
              "            word label\n",
              "0         pierre   NNP\n",
              "1         vinken   NNP\n",
              "2              ,     ,\n",
              "3             61    CD\n",
              "4          years   NNS\n",
              "5            old    JJ\n",
              "6              ,     ,\n",
              "7           will    MD\n",
              "8           join    VB\n",
              "9            the    DT\n",
              "10         board    NN\n",
              "11            as    IN\n",
              "12             a    DT\n",
              "13  nonexecutive    JJ\n",
              "14      director    NN\n",
              "15          nov.   NNP\n",
              "16            29    CD\n",
              "17             .     .\n",
              "18           mr.   NNP\n",
              "19        vinken   NNP"
            ]
          },
          "execution_count": 213,
          "metadata": {},
          "output_type": "execute_result"
        }
      ],
      "source": [
        "dfc_train.head(20)"
      ]
    },
    {
      "cell_type": "markdown",
      "metadata": {
        "id": "6VsU_XpAi8CF"
      },
      "source": [
        "## Word embedding"
      ]
    },
    {
      "cell_type": "markdown",
      "metadata": {
        "id": "4Bep7HYL484_"
      },
      "source": [
        "### Loading GloVe"
      ]
    },
    {
      "cell_type": "markdown",
      "metadata": {
        "id": "92d15Xzr4qAn"
      },
      "source": [
        "\n",
        "Loading pre-trained dense word embedding representation: GloVe.\n",
        "\n",
        "\n",
        "\n",
        "\n"
      ]
    },
    {
      "cell_type": "code",
      "execution_count": 214,
      "metadata": {
        "id": "UZBrvzL8t6_U"
      },
      "outputs": [],
      "source": [
        "import gensim\n",
        "import gensim.downloader as gloader\n",
        "\n",
        "def load_embedding_model(model_type: str,\n",
        "                         embedding_dimension: int = 50) -> gensim.models.keyedvectors.KeyedVectors:\n",
        "    \"\"\"\n",
        "    Loads a pre-trained word embedding model via gensim library.\n",
        "\n",
        "    :param model_type: name of the word embedding model to load.\n",
        "    :param embedding_dimension: size of the embedding space to consider\n",
        "\n",
        "    :return\n",
        "        - pre-trained word embedding model (gensim KeyedVectors object)\n",
        "    \"\"\"\n",
        "    download_path = \"\"\n",
        "    if model_type.strip().lower() == 'word2vec':\n",
        "        download_path = \"word2vec-google-news-300\"\n",
        "\n",
        "    elif model_type.strip().lower() == 'glove':\n",
        "        download_path = \"glove-wiki-gigaword-{}\".format(embedding_dimension)\n",
        "    elif model_type.strip().lower() == 'fasttext':\n",
        "        download_path = \"fasttext-wiki-news-subwords-300\"\n",
        "    else:\n",
        "        raise AttributeError(\"Unsupported embedding model type! Available ones: word2vec, glove, fasttext\")\n",
        "        \n",
        "    try:\n",
        "        emb_model = gloader.load(download_path)\n",
        "    except ValueError as e:\n",
        "        print(\"Invalid embedding model name! Check the embedding dimension:\")\n",
        "        print(\"Word2Vec: 300\")\n",
        "        print(\"Glove: 50, 100, 200, 300\")\n",
        "        print('FastText: 300')\n",
        "        raise e\n",
        "\n",
        "    return emb_model"
      ]
    },
    {
      "cell_type": "code",
      "execution_count": 215,
      "metadata": {
        "id": "2hPJ_neS5Vxd"
      },
      "outputs": [],
      "source": [
        "# Glove -> 50, 100, 200, 300 (200 seems the better)\n",
        "embedding_dimension = 200\n",
        "embedding_model = load_embedding_model(model_type=\"glove\", embedding_dimension= embedding_dimension)"
      ]
    },
    {
      "cell_type": "markdown",
      "metadata": {
        "id": "jU0rgZ0I484_"
      },
      "source": [
        "### Analyzing OOV statistics"
      ]
    },
    {
      "cell_type": "code",
      "execution_count": 216,
      "metadata": {
        "colab": {
          "base_uri": "https://localhost:8080/"
        },
        "id": "S76fxrkJ484_",
        "outputId": "2a52b12d-cf7a-4c5d-ffe9-127e5a4aa39e"
      },
      "outputs": [
        {
          "data": {
            "text/plain": [
              "['the', ',', '.', 'of', 'to', 'and', 'in', 'a', '\"', \"'s\"]"
            ]
          },
          "execution_count": 216,
          "metadata": {},
          "output_type": "execute_result"
        }
      ],
      "source": [
        "embedding_model.index_to_key[0:10]"
      ]
    },
    {
      "cell_type": "code",
      "execution_count": 217,
      "metadata": {
        "colab": {
          "base_uri": "https://localhost:8080/"
        },
        "id": "CdGVCkXI485A",
        "outputId": "1faed634-9f7b-483f-ef47-9f17f35c171a"
      },
      "outputs": [
        {
          "name": "stdout",
          "output_type": "stream",
          "text": [
            "oov_train_size: 359\n",
            "oov_val_size: 213\n",
            "oov_test_size: 161\n"
          ]
        }
      ],
      "source": [
        "oov_train = list(set([word for word in dfc_train.word.values if word not in embedding_model.index_to_key]))\n",
        "oov_val = list(set([word for word in dfc_val.word.values if word not in embedding_model.index_to_key]))\n",
        "oov_test = list(set([word for word in dfc_test.word.values if word not in embedding_model.index_to_key]))\n",
        "print(f'oov_train_size: {len(oov_train)}')\n",
        "print(f'oov_val_size: {len(oov_val)}')\n",
        "print(f'oov_test_size: {len(oov_test)}')"
      ]
    },
    {
      "cell_type": "code",
      "execution_count": 218,
      "metadata": {
        "colab": {
          "base_uri": "https://localhost:8080/"
        },
        "id": "_FCfRir-485A",
        "outputId": "9658ad2d-643a-40d6-8780-e55a9a45993f"
      },
      "outputs": [
        {
          "data": {
            "text/plain": [
              "['2645.90',\n",
              " 'besuboru',\n",
              " 'yeargin',\n",
              " 'high-rate',\n",
              " 'automotive-parts',\n",
              " 'post-hearing',\n",
              " '456.64',\n",
              " 'electric-utility',\n",
              " 'old-house',\n",
              " 'ctbs']"
            ]
          },
          "execution_count": 218,
          "metadata": {},
          "output_type": "execute_result"
        }
      ],
      "source": [
        "oov_train[0:10]"
      ]
    },
    {
      "cell_type": "markdown",
      "metadata": {
        "id": "d3NWFTMjmg78"
      },
      "source": [
        "### GloVe Embedding"
      ]
    },
    {
      "cell_type": "markdown",
      "metadata": {
        "id": "vMrf7Fro485A"
      },
      "source": [
        "#### Prepare the embedding matrix"
      ]
    },
    {
      "cell_type": "code",
      "execution_count": 219,
      "metadata": {
        "id": "O5GdVec3XGTn"
      },
      "outputs": [],
      "source": [
        "def handle_OOV(vectors, vocabulary, embedding_dimension, oov_set):\n",
        "  #deal with oov words by adding a random embedding vector to the embedding matrix\n",
        "  for idx in range(0, len(oov_set)):\n",
        "    if oov_set[idx] not in vocabulary:\n",
        "      vocabulary.append(oov_set[idx])\n",
        "      #use random embedding for OOV word\n",
        "      embedding_vector = np.random.uniform(low=-0.05, high=0.05, size= embedding_dimension)\n",
        "      vectors.append(embedding_vector)\n",
        "  return vocabulary, vectors"
      ]
    },
    {
      "cell_type": "code",
      "execution_count": 220,
      "metadata": {
        "colab": {
          "base_uri": "https://localhost:8080/"
        },
        "id": "IlTNKSH5MLQ_",
        "outputId": "85b67727-8273-4def-fb4e-3c3744201a45"
      },
      "outputs": [
        {
          "name": "stdout",
          "output_type": "stream",
          "text": [
            "Embedding matrix shape: (400677, 200)\n"
          ]
        }
      ],
      "source": [
        "#GloVe vocabulary\n",
        "words = list(embedding_model.index_to_key)\n",
        "#extracting the GloVe embedding vectors\n",
        "vectors = [embedding_model[word] for word in words]\n",
        "#add an embbedding vector of zeros at the index 0\n",
        "em0 =np.array([0.0]*embedding_dimension)\n",
        "vectors.insert(0, em0)\n",
        "\n",
        "#handle with train oov words\n",
        "vocab, vectors = handle_OOV(vectors, words, embedding_dimension, oov_train)\n",
        "#handle with validation oov words\n",
        "vocab, vectors = handle_OOV(vectors, vocab, embedding_dimension, oov_val)\n",
        "#handle with test oov words\n",
        "vocab, vectors = handle_OOV(vectors, vocab, embedding_dimension, oov_test)\n",
        "\n",
        "embedding_matrix = np.asarray(vectors)\n",
        "print(f'Embedding matrix shape: {np.shape(embedding_matrix)}')\n"
      ]
    },
    {
      "cell_type": "markdown",
      "metadata": {
        "id": "9Htl90Gw485B"
      },
      "source": [
        "Define the tokenizer."
      ]
    },
    {
      "cell_type": "code",
      "execution_count": 221,
      "metadata": {
        "colab": {
          "base_uri": "https://localhost:8080/"
        },
        "id": "coeo_iy1gJSu",
        "outputId": "7856fbf5-1018-41e5-9643-50a0ddbd71da"
      },
      "outputs": [
        {
          "name": "stdout",
          "output_type": "stream",
          "text": [
            "Number of unique words in dictionary= 400676\n",
            "Dictionary head:  {'the': 1, ',': 2, '.': 3, 'of': 4, 'to': 5, 'and': 6, 'in': 7, 'a': 8, '\"': 9, \"'s\": 10, 'for': 11, '-': 12, 'that': 13, 'on': 14, 'is': 15, 'was': 16, 'said': 17, 'with': 18, 'he': 19, 'as': 20, 'it': 21, 'by': 22, 'at': 23, '(': 24, ')': 25, 'from': 26, 'his': 27, \"''\": 28, '``': 29, 'an': 30, 'be': 31, 'has': 32, 'are': 33, 'have': 34, 'but': 35, 'were': 36, 'not': 37, 'this': 38, 'who': 39, 'they': 40, 'had': 41, 'i': 42, 'which': 43, 'will': 44, 'their': 45, ':': 46, 'or': 47, 'its': 48, 'one': 49, 'after': 50}\n"
          ]
        }
      ],
      "source": [
        "from tensorflow.keras.preprocessing.text import Tokenizer\n",
        "\n",
        "# define the tokenizer, removing the default filters: '!\"#$%&()*+,-./:;<=>?@[\\\\]^_`{|}~\\t\\n' \n",
        "tokenizer = Tokenizer(filters='')\n",
        "#fit the tokenizer on the vocabulary of GloVe, including also the OOV words \n",
        "tokenizer.fit_on_texts(vocab)\n",
        "\n",
        "# number of unique words in dict.\n",
        "print(\"Number of unique words in dictionary=\", len(tokenizer.word_index))\n",
        "print(\"Dictionary head: \", dict(list(tokenizer.word_index.items())[0:50]))"
      ]
    },
    {
      "cell_type": "code",
      "execution_count": 222,
      "metadata": {
        "id": "HoHKd6mLOw52"
      },
      "outputs": [],
      "source": [
        "with open('./Dataset/word_index.json','w') as word_index_file:\n",
        "    word_index_file.write(tokenizer.to_json())"
      ]
    },
    {
      "cell_type": "markdown",
      "metadata": {
        "id": "ojCSzxS1485B"
      },
      "source": [
        "#### Encode the dataset"
      ]
    },
    {
      "cell_type": "markdown",
      "metadata": {
        "id": "BLiAw26WqhqF"
      },
      "source": [
        "Here we define a label encoder for the target class."
      ]
    },
    {
      "cell_type": "code",
      "execution_count": 223,
      "metadata": {
        "id": "54XQt_rz6fgv"
      },
      "outputs": [],
      "source": [
        "from sklearn.preprocessing import LabelEncoder, OneHotEncoder\n",
        "\n",
        "le = LabelEncoder()\n",
        "dfc_train['encoded_label'] = le.fit_transform(dfc_train['label'])\n",
        "dfc_val['encoded_label'] = le.transform(dfc_val['label'])\n",
        "dfc_test['encoded_label'] = le.transform(dfc_test['label'])\n",
        "dfc_sample['encoded_label'] = le.transform(dfc_sample['label'])"
      ]
    },
    {
      "cell_type": "code",
      "execution_count": 224,
      "metadata": {
        "colab": {
          "base_uri": "https://localhost:8080/",
          "height": 206
        },
        "id": "wPUJhubiPn5k",
        "outputId": "34a95441-e474-40e3-da1b-38df3a547c71"
      },
      "outputs": [
        {
          "data": {
            "text/html": [
              "<div>\n",
              "<style scoped>\n",
              "    .dataframe tbody tr th:only-of-type {\n",
              "        vertical-align: middle;\n",
              "    }\n",
              "\n",
              "    .dataframe tbody tr th {\n",
              "        vertical-align: top;\n",
              "    }\n",
              "\n",
              "    .dataframe thead th {\n",
              "        text-align: right;\n",
              "    }\n",
              "</style>\n",
              "<table border=\"1\" class=\"dataframe\">\n",
              "  <thead>\n",
              "    <tr style=\"text-align: right;\">\n",
              "      <th></th>\n",
              "      <th>label</th>\n",
              "      <th>encoded_label</th>\n",
              "    </tr>\n",
              "  </thead>\n",
              "  <tbody>\n",
              "    <tr>\n",
              "      <th>0</th>\n",
              "      <td>NNP</td>\n",
              "      <td>20</td>\n",
              "    </tr>\n",
              "    <tr>\n",
              "      <th>1</th>\n",
              "      <td>,</td>\n",
              "      <td>3</td>\n",
              "    </tr>\n",
              "    <tr>\n",
              "      <th>2</th>\n",
              "      <td>CD</td>\n",
              "      <td>9</td>\n",
              "    </tr>\n",
              "    <tr>\n",
              "      <th>3</th>\n",
              "      <td>NNS</td>\n",
              "      <td>22</td>\n",
              "    </tr>\n",
              "    <tr>\n",
              "      <th>4</th>\n",
              "      <td>JJ</td>\n",
              "      <td>14</td>\n",
              "    </tr>\n",
              "  </tbody>\n",
              "</table>\n",
              "</div>"
            ],
            "text/plain": [
              "  label  encoded_label\n",
              "0   NNP             20\n",
              "1     ,              3\n",
              "2    CD              9\n",
              "3   NNS             22\n",
              "4    JJ             14"
            ]
          },
          "execution_count": 224,
          "metadata": {},
          "output_type": "execute_result"
        }
      ],
      "source": [
        "df_labels = pd.concat([dfc_train, dfc_val, dfc_test]).drop(\"word\", axis=1)\n",
        "df_labels = df_labels.drop_duplicates()\n",
        "df_labels = df_labels.reset_index(drop=True)\n",
        "df_labels.head()"
      ]
    },
    {
      "cell_type": "code",
      "execution_count": 225,
      "metadata": {
        "colab": {
          "base_uri": "https://localhost:8080/",
          "height": 677
        },
        "id": "5YGyoO0h485C",
        "outputId": "e551cd47-96e0-4f33-bb3b-ba9e2bdbbf07"
      },
      "outputs": [
        {
          "data": {
            "text/html": [
              "<div>\n",
              "<style scoped>\n",
              "    .dataframe tbody tr th:only-of-type {\n",
              "        vertical-align: middle;\n",
              "    }\n",
              "\n",
              "    .dataframe tbody tr th {\n",
              "        vertical-align: top;\n",
              "    }\n",
              "\n",
              "    .dataframe thead th {\n",
              "        text-align: right;\n",
              "    }\n",
              "</style>\n",
              "<table border=\"1\" class=\"dataframe\">\n",
              "  <thead>\n",
              "    <tr style=\"text-align: right;\">\n",
              "      <th></th>\n",
              "      <th>word</th>\n",
              "      <th>label</th>\n",
              "      <th>encoded_label</th>\n",
              "    </tr>\n",
              "  </thead>\n",
              "  <tbody>\n",
              "    <tr>\n",
              "      <th>0</th>\n",
              "      <td>pierre</td>\n",
              "      <td>NNP</td>\n",
              "      <td>20</td>\n",
              "    </tr>\n",
              "    <tr>\n",
              "      <th>1</th>\n",
              "      <td>vinken</td>\n",
              "      <td>NNP</td>\n",
              "      <td>20</td>\n",
              "    </tr>\n",
              "    <tr>\n",
              "      <th>2</th>\n",
              "      <td>,</td>\n",
              "      <td>,</td>\n",
              "      <td>3</td>\n",
              "    </tr>\n",
              "    <tr>\n",
              "      <th>3</th>\n",
              "      <td>61</td>\n",
              "      <td>CD</td>\n",
              "      <td>9</td>\n",
              "    </tr>\n",
              "    <tr>\n",
              "      <th>4</th>\n",
              "      <td>years</td>\n",
              "      <td>NNS</td>\n",
              "      <td>22</td>\n",
              "    </tr>\n",
              "    <tr>\n",
              "      <th>5</th>\n",
              "      <td>old</td>\n",
              "      <td>JJ</td>\n",
              "      <td>14</td>\n",
              "    </tr>\n",
              "    <tr>\n",
              "      <th>6</th>\n",
              "      <td>,</td>\n",
              "      <td>,</td>\n",
              "      <td>3</td>\n",
              "    </tr>\n",
              "    <tr>\n",
              "      <th>7</th>\n",
              "      <td>will</td>\n",
              "      <td>MD</td>\n",
              "      <td>18</td>\n",
              "    </tr>\n",
              "    <tr>\n",
              "      <th>8</th>\n",
              "      <td>join</td>\n",
              "      <td>VB</td>\n",
              "      <td>34</td>\n",
              "    </tr>\n",
              "    <tr>\n",
              "      <th>9</th>\n",
              "      <td>the</td>\n",
              "      <td>DT</td>\n",
              "      <td>10</td>\n",
              "    </tr>\n",
              "    <tr>\n",
              "      <th>10</th>\n",
              "      <td>board</td>\n",
              "      <td>NN</td>\n",
              "      <td>19</td>\n",
              "    </tr>\n",
              "    <tr>\n",
              "      <th>11</th>\n",
              "      <td>as</td>\n",
              "      <td>IN</td>\n",
              "      <td>13</td>\n",
              "    </tr>\n",
              "    <tr>\n",
              "      <th>12</th>\n",
              "      <td>a</td>\n",
              "      <td>DT</td>\n",
              "      <td>10</td>\n",
              "    </tr>\n",
              "    <tr>\n",
              "      <th>13</th>\n",
              "      <td>nonexecutive</td>\n",
              "      <td>JJ</td>\n",
              "      <td>14</td>\n",
              "    </tr>\n",
              "    <tr>\n",
              "      <th>14</th>\n",
              "      <td>director</td>\n",
              "      <td>NN</td>\n",
              "      <td>19</td>\n",
              "    </tr>\n",
              "    <tr>\n",
              "      <th>15</th>\n",
              "      <td>nov.</td>\n",
              "      <td>NNP</td>\n",
              "      <td>20</td>\n",
              "    </tr>\n",
              "    <tr>\n",
              "      <th>16</th>\n",
              "      <td>29</td>\n",
              "      <td>CD</td>\n",
              "      <td>9</td>\n",
              "    </tr>\n",
              "    <tr>\n",
              "      <th>17</th>\n",
              "      <td>.</td>\n",
              "      <td>.</td>\n",
              "      <td>6</td>\n",
              "    </tr>\n",
              "    <tr>\n",
              "      <th>18</th>\n",
              "      <td>mr.</td>\n",
              "      <td>NNP</td>\n",
              "      <td>20</td>\n",
              "    </tr>\n",
              "    <tr>\n",
              "      <th>19</th>\n",
              "      <td>vinken</td>\n",
              "      <td>NNP</td>\n",
              "      <td>20</td>\n",
              "    </tr>\n",
              "  </tbody>\n",
              "</table>\n",
              "</div>"
            ],
            "text/plain": [
              "            word label  encoded_label\n",
              "0         pierre   NNP             20\n",
              "1         vinken   NNP             20\n",
              "2              ,     ,              3\n",
              "3             61    CD              9\n",
              "4          years   NNS             22\n",
              "5            old    JJ             14\n",
              "6              ,     ,              3\n",
              "7           will    MD             18\n",
              "8           join    VB             34\n",
              "9            the    DT             10\n",
              "10         board    NN             19\n",
              "11            as    IN             13\n",
              "12             a    DT             10\n",
              "13  nonexecutive    JJ             14\n",
              "14      director    NN             19\n",
              "15          nov.   NNP             20\n",
              "16            29    CD              9\n",
              "17             .     .              6\n",
              "18           mr.   NNP             20\n",
              "19        vinken   NNP             20"
            ]
          },
          "execution_count": 225,
          "metadata": {},
          "output_type": "execute_result"
        }
      ],
      "source": [
        "dfc_train.head(20)"
      ]
    },
    {
      "cell_type": "code",
      "execution_count": 226,
      "metadata": {
        "colab": {
          "base_uri": "https://localhost:8080/"
        },
        "id": "NWhjjLitz3f7",
        "outputId": "441a6025-de4c-4bf8-feba-694ec6e32311"
      },
      "outputs": [
        {
          "name": "stdout",
          "output_type": "stream",
          "text": [
            "Punctation labels: [ 3  6 44  2  7  1  4  5 31  0]\n"
          ]
        }
      ],
      "source": [
        "# Filter out punctuation based on the class\n",
        "# https://universaldependencies.org/docs/en/pos/all.html#al-en-pos/PUNCT\n",
        "punctuation_classes = [ \n",
        "    \"``\", \"’’\", \"-LRB-\", \"-RRB-\", \",\", \".\", \":\", \"HYPH\", # PUNCT: punctuation\n",
        "    \"#\", \"$\", \"SYM\", # SYM: symbol\n",
        "    \"''\", # Custom\n",
        "]\n",
        "\n",
        "# Select all the unique classes in the dataframe and their encoding\n",
        "labels = dfc_train.drop_duplicates(['label','encoded_label'])[['label','encoded_label']]\n",
        "\n",
        "# Extracting the encoded label vector for all punctuation and symbols. Will be used in F1 score calculation   \n",
        "punctuation_labels = labels[labels.label.isin(punctuation_classes)]['encoded_label'].values\n",
        "\n",
        "print(f\"Punctation labels: {punctuation_labels}\")"
      ]
    },
    {
      "cell_type": "markdown",
      "metadata": {
        "id": "yS7M36zPrBip"
      },
      "source": [
        "Transform the text into a sequence of integers using the tokenizer defined before. "
      ]
    },
    {
      "cell_type": "code",
      "execution_count": 227,
      "metadata": {
        "colab": {
          "base_uri": "https://localhost:8080/"
        },
        "id": "72n2_dZHDprc",
        "outputId": "01390615-352f-4e4b-a2c8-ea4f1bf276a9"
      },
      "outputs": [
        {
          "name": "stdout",
          "output_type": "stream",
          "text": [
            "The number of unique classes in the training data: 45\n"
          ]
        }
      ],
      "source": [
        "x_train = np.array(tokenizer.texts_to_sequences(dfc_train.word.values)) \n",
        "y_train = np.array( dfc_train['encoded_label'])\n",
        "\n",
        "x_val = np.array(tokenizer.texts_to_sequences(dfc_val.word.values))\n",
        "y_val = np.array(dfc_val['encoded_label'])\n",
        "\n",
        "x_test = np.array(tokenizer.texts_to_sequences(dfc_test.word.values))\n",
        "y_test = np.array(dfc_test['encoded_label'])\n",
        "\n",
        "x_sample = np.array(tokenizer.texts_to_sequences(dfc_sample.word.values))\n",
        "y_sample = np.array(dfc_sample['encoded_label'])\n",
        "\n",
        "#number of unique labels\n",
        "num_classes = len(np.unique(y_train))\n",
        "print(f'The number of unique classes in the training data: {num_classes}')"
      ]
    },
    {
      "cell_type": "markdown",
      "metadata": {
        "id": "51RMHWA0r2ep"
      },
      "source": [
        "Padding the sequences to make them of the same length before passing them to the model, of course in this case is not a necessary operation because we are processing single words, but in other case it's a crucial operation."
      ]
    },
    {
      "cell_type": "code",
      "execution_count": 228,
      "metadata": {
        "colab": {
          "base_uri": "https://localhost:8080/"
        },
        "id": "Lzxixj0QExD7",
        "outputId": "9bac7526-54d9-4eff-a946-ed6d21792649"
      },
      "outputs": [
        {
          "name": "stdout",
          "output_type": "stream",
          "text": [
            "X train shape: (47356, 1)\n",
            "Y train shape: (47356,)\n",
            "X val shape: (31183, 1)\n",
            "Y val shape: (31183,)\n",
            "X test shape: (15545, 1)\n",
            "Y test shape: (15545,)\n"
          ]
        }
      ],
      "source": [
        "from tensorflow.keras.preprocessing.sequence import pad_sequences\n",
        "\n",
        "#Padding \n",
        "max = 1\n",
        "x_train = pad_sequences(x_train, maxlen=max, padding='post')\n",
        "x_val = pad_sequences(x_val, maxlen=max, padding='post')\n",
        "x_test = pad_sequences(x_test, maxlen=max, padding='post')\n",
        "x_sample = pad_sequences(x_sample, maxlen=max, padding='post')\n",
        "\n",
        "#Training shape\n",
        "print(f'X train shape: {x_train.shape}')\n",
        "print(f'Y train shape: {y_train.shape}')\n",
        "\n",
        "# Validation shape\n",
        "print(f'X val shape: {x_val.shape}')\n",
        "print(f'Y val shape: {y_val.shape}')\n",
        "\n",
        "# Test shape\n",
        "print(f'X test shape: {x_test.shape}')\n",
        "print(f'Y test shape: {y_test.shape}')"
      ]
    },
    {
      "cell_type": "code",
      "execution_count": 229,
      "metadata": {
        "id": "NHZTtqWB485D"
      },
      "outputs": [],
      "source": [
        "vocab_size = len(tokenizer.word_index) + 1"
      ]
    },
    {
      "cell_type": "markdown",
      "metadata": {
        "id": "gMFmoGtIOw55"
      },
      "source": [
        "## Utility methods"
      ]
    },
    {
      "cell_type": "code",
      "execution_count": 230,
      "metadata": {
        "id": "94MnbDUNOw55"
      },
      "outputs": [],
      "source": [
        "import tensorflow as tf\n",
        "from tensorflow import keras\n",
        "from tensorflow.keras import layers\n",
        "from typing import List, Dict, Callable\n",
        "import random"
      ]
    },
    {
      "cell_type": "code",
      "execution_count": 231,
      "metadata": {
        "id": "U0Nhlo_pOw55"
      },
      "outputs": [],
      "source": [
        "def set_reproducibility(seed):\n",
        "    random.seed(seed)\n",
        "    np.random.seed(seed)\n",
        "    tf.random.set_seed(seed)\n",
        "    os.environ['TF_DETERMINISTIC_OPS'] = '1'\n",
        "    tf.config.experimental.enable_op_determinism()\n",
        "    tf.keras.utils.set_random_seed(seed)\n",
        "\n",
        "\n",
        "# Set the reproducibility\n",
        "set_reproducibility(42)"
      ]
    },
    {
      "cell_type": "code",
      "execution_count": 232,
      "metadata": {
        "id": "Ms1V5PuwOw56"
      },
      "outputs": [],
      "source": [
        "import matplotlib.pyplot as plt\n",
        "from functools import partial\n",
        "from keras.callbacks import History\n",
        "\n",
        "def show_history(history: History):\n",
        "    \"\"\"\n",
        "    Shows training history data stored by the History Keras callback\n",
        "\n",
        "    :param history: History Keras callback\n",
        "    \"\"\"\n",
        "    history_data = history.history\n",
        "    print(f\"Displaying the following history keys: {history_data.keys()}\")\n",
        "    \n",
        "    for key, value in history_data.items():\n",
        "        if not key.startswith('val'):\n",
        "            fig, ax = plt.subplots(1, 1)\n",
        "            ax.set_title(key)\n",
        "            ax.plot(value)\n",
        "            if f'val_{key}' in history_data:\n",
        "                ax.plot(history_data[f'val_{key}'])\n",
        "            else:\n",
        "                print(f\"Couldn't find validation values for metric: {key}\")\n",
        "\n",
        "            ax.set_ylabel(key)\n",
        "            ax.set_xlabel('epoch')\n",
        "            ax.legend(['train', 'val'], loc='best')\n",
        "            plt.grid(True)\n",
        "        plt.show()"
      ]
    },
    {
      "cell_type": "code",
      "execution_count": 233,
      "metadata": {
        "id": "Zw1zm9xVOw56"
      },
      "outputs": [],
      "source": [
        "def train_model(model: keras.Model, training_info: Dict):\n",
        "    \"\"\"\n",
        "    Training routine for the Keras model.\n",
        "    At the end of the training, retrieved History data is shown.\n",
        "\n",
        "    :param model: Keras built model\n",
        "    :param training_info: dictionary storing model fit() argument information\n",
        "\n",
        "    :return\n",
        "        model: trained Keras model\n",
        "    \"\"\"\n",
        "\n",
        "    print(f\"Start training! \\nParameters: {training_info}\")\n",
        "\n",
        "    history = model.fit(x=x_train, y=y_train,\n",
        "                        validation_data=(x_val, y_val),\n",
        "                        **training_info)\n",
        "    print(\"Training completed!\")\n",
        "\n",
        "    print(\"Showing history...\")\n",
        "    show_history(history)\n",
        "\n",
        "    return model"
      ]
    },
    {
      "cell_type": "code",
      "execution_count": 234,
      "metadata": {
        "id": "hSj5Ie1gOw56"
      },
      "outputs": [],
      "source": [
        "def predict_data(model: keras.Model,\n",
        "                x: np.ndarray,\n",
        "                prediction_info: Dict):\n",
        "    \"\"\"\n",
        "    Inference routine of a given input set of examples\n",
        "\n",
        "    :param model: Keras built and possibly trained model\n",
        "    :param x: input set of examples in np.ndarray format\n",
        "    :param prediction_info: dictionary storing model predict() argument information\n",
        "\n",
        "    :return\n",
        "        predictions: predicted labels in np.ndarray format\n",
        "    \"\"\"\n",
        "    print(f'Starting prediction: \\n{prediction_info}')\n",
        "    print(f'Predicting on {x.shape[0]} samples')\n",
        "    predictions = model.predict(x, **prediction_info)\n",
        "    return predictions"
      ]
    },
    {
      "cell_type": "code",
      "execution_count": 235,
      "metadata": {
        "id": "sJl37gYEOw56"
      },
      "outputs": [],
      "source": [
        "from sklearn.metrics import f1_score, classification_report, ConfusionMatrixDisplay\n",
        "\n",
        "def compute_f1(model: keras.Model, \n",
        "             x: np.ndarray, \n",
        "             y: np.ndarray,\n",
        "             get_report: bool = False):\n",
        "    \"\"\"\n",
        "    Compute F1_score on the given data with corresponding labels\n",
        "\n",
        "    :param model: Keras built and possibly trained model\n",
        "    :param x: data in np.ndarray format\n",
        "    :param y: ground-truth labels in np.ndarray format\n",
        "\n",
        "    :return\n",
        "        score: f1_macro_score\n",
        "    \"\"\"\n",
        "    prediction_info = {\n",
        "        'batch_size': 64,\n",
        "        'verbose': 1\n",
        "    }\n",
        "    \n",
        "    #predictions on the x set\n",
        "    y_pred = predict_data(model=model, x=x, prediction_info=prediction_info)\n",
        "\n",
        "    #compute argmax to take the best class for each sample\n",
        "    y_pred = np.argmax(y_pred, axis=1)\n",
        "    \n",
        "    #compute the f1_macro excluding punctuaction labels\n",
        "    labels = np.unique( np.concatenate((np.unique(y), np.unique(y_pred))))\n",
        "    labels = [label for label in labels if label not in punctuation_labels]\n",
        "    \n",
        "    rep = classification_report(y,y_pred, labels=labels, output_dict=True, zero_division=0)\n",
        "\n",
        "    # Show confusion matrix\n",
        "    '''\n",
        "    cm = confusion_matrix(y,y_pred,labels=labels)\n",
        "    cm_disp = ConfusionMatrixDisplay(cm,display_labels=labels)\n",
        "    fig, ax = plt.subplots(figsize=(15,15))\n",
        "    cm_disp.plot(ax=ax)\n",
        "    '''\n",
        "    score = f1_score(y, y_pred, average ='macro', labels=labels)\n",
        "\n",
        "    if get_report:\n",
        "        return score, rep\n",
        "    else: return score"
      ]
    },
    {
      "cell_type": "markdown",
      "metadata": {
        "id": "7FTlmNoGi8CF"
      },
      "source": [
        "## Baseline model: LSTM"
      ]
    },
    {
      "cell_type": "markdown",
      "metadata": {
        "id": "LCcVYGrNsQ-x"
      },
      "source": [
        "### Define the model"
      ]
    },
    {
      "cell_type": "code",
      "execution_count": 236,
      "metadata": {
        "id": "RyfvHkUZ1wEU"
      },
      "outputs": [],
      "source": [
        "from tensorflow.keras.models import Sequential\n",
        "from tensorflow.keras.layers import Embedding, Dense, LSTM, Bidirectional, GRU\n",
        "from tensorflow.keras.optimizers import Adam\n",
        "\n",
        "\n",
        "def create_baseline(units, dropout, learning_rate, activation):\n",
        "    model = keras.Sequential()\n",
        "    model = keras.models.Sequential()\n",
        "    \n",
        "    \n",
        "    model.add(keras.layers.Embedding(input_dim=vocab_size, \n",
        "                                    output_dim = embedding_dimension,\n",
        "                                    input_length = 1,\n",
        "                                    weights = [embedding_matrix],\n",
        "                                    trainable = False))\n",
        "    \n",
        "    model.add(keras.layers.Bidirectional(LSTM(units=units, \n",
        "                                              activation=activation,\n",
        "                                              dropout=dropout,\n",
        "                                              )))\n",
        "\n",
        "    model.add(keras.layers.Dense(units=num_classes, \n",
        "                                 activation=\"softmax\"))\n",
        "\n",
        "    model.summary()\n",
        "\n",
        "    model.compile(loss='sparse_categorical_crossentropy', \n",
        "                    optimizer=Adam(learning_rate=learning_rate), \n",
        "                    metrics=[\"accuracy\"])\n",
        "    \n",
        "    return model"
      ]
    },
    {
      "cell_type": "markdown",
      "metadata": {
        "id": "i_3_VgghuynG"
      },
      "source": [
        "#### Using keras tuner to find best hyper parameters"
      ]
    },
    {
      "cell_type": "code",
      "execution_count": 237,
      "metadata": {
        "id": "PPXOAdJyuynG"
      },
      "outputs": [],
      "source": [
        "import keras_tuner\n",
        "\n",
        "def build_baseline(hp):\n",
        "    units = hp.Int(\"units\", min_value=16, max_value=128, step=16)\n",
        "\n",
        "    activation = hp.Choice(\"activation\", [\"relu\", \"tanh\"])\n",
        "\n",
        "    dropout = hp.Float(\"dropout\", min_value=0, max_value=0.2, step=0.05)\n",
        "\n",
        "    learning_rate = hp.Float(\"learning_rate\", min_value=1e-4, max_value=1e-2, sampling=\"log\")\n",
        "    # call existing model-building code with the hyperparameter values.\n",
        "    model = create_baseline(units=units, \n",
        "                            activation=activation, \n",
        "                            dropout=dropout, \n",
        "                            learning_rate=learning_rate\n",
        "                        )\n",
        "    return model"
      ]
    },
    {
      "cell_type": "code",
      "execution_count": 238,
      "metadata": {
        "colab": {
          "base_uri": "https://localhost:8080/"
        },
        "id": "03IZuZp2uynG",
        "outputId": "aa340682-58b3-4950-a03b-6ab9148efdf4"
      },
      "outputs": [
        {
          "name": "stdout",
          "output_type": "stream",
          "text": [
            "Model: \"sequential_25\"\n",
            "_________________________________________________________________\n",
            " Layer (type)                Output Shape              Param #   \n",
            "=================================================================\n",
            " embedding_12 (Embedding)    (None, 1, 200)            80135400  \n",
            "                                                                 \n",
            " bidirectional_14 (Bidirecti  (None, 32)               27776     \n",
            " onal)                                                           \n",
            "                                                                 \n",
            " dense_14 (Dense)            (None, 45)                1485      \n",
            "                                                                 \n",
            "=================================================================\n",
            "Total params: 80,164,661\n",
            "Trainable params: 29,261\n",
            "Non-trainable params: 80,135,400\n",
            "_________________________________________________________________\n",
            "Search space summary\n",
            "Default search space size: 4\n",
            "units (Int)\n",
            "{'default': None, 'conditions': [], 'min_value': 16, 'max_value': 128, 'step': 16, 'sampling': None}\n",
            "activation (Choice)\n",
            "{'default': 'relu', 'conditions': [], 'values': ['relu', 'tanh'], 'ordered': False}\n",
            "dropout (Float)\n",
            "{'default': 0.0, 'conditions': [], 'min_value': 0.0, 'max_value': 0.2, 'step': 0.05, 'sampling': None}\n",
            "learning_rate (Float)\n",
            "{'default': 0.0001, 'conditions': [], 'min_value': 0.0001, 'max_value': 0.01, 'step': None, 'sampling': 'log'}\n"
          ]
        }
      ],
      "source": [
        "if not os.path.exists(\"./models\"):\n",
        "    os.makedirs(\"./models\")\n",
        "\n",
        "tuner = keras_tuner.Hyperband(hypermodel=build_baseline,\n",
        "                            objective='accuracy',\n",
        "                            max_epochs=30,\n",
        "                            factor=3,\n",
        "                            directory='./models',\n",
        "                            project_name='baseline')\n",
        "tuner.search_space_summary()"
      ]
    },
    {
      "cell_type": "code",
      "execution_count": 239,
      "metadata": {
        "colab": {
          "base_uri": "https://localhost:8080/",
          "height": 35
        },
        "id": "eioPZMtiuynG",
        "outputId": "465fd480-52fa-4c71-efc1-cf115b54351b"
      },
      "outputs": [
        {
          "data": {
            "text/plain": [
              "'\\ntuner.search(x_train,y_train, epochs=30, validation_data=(x_val,y_val))\\nbest_model = tuner.get_best_models()[0]\\ntuner.results_summary()\\n'"
            ]
          },
          "execution_count": 239,
          "metadata": {},
          "output_type": "execute_result"
        }
      ],
      "source": [
        "# Search the best hyper-parameter and select the best model\n",
        "'''\n",
        "tuner.search(x_train,y_train, epochs=30, validation_data=(x_val,y_val))\n",
        "best_model = tuner.get_best_models()[0]\n",
        "tuner.results_summary()\n",
        "'''"
      ]
    },
    {
      "cell_type": "markdown",
      "metadata": {
        "id": "yL4hHiEauynG"
      },
      "source": [
        "Hyperparameters:\n",
        "* units: 32\n",
        "* activation: tanh\n",
        "* dropout: 0\n",
        "* learning_rate: 0.0028081\n",
        "* tuner/epochs: 30\n",
        "* tuner/initial_epoch: 10\n",
        "\n",
        "Score: 0.9271686673164368"
      ]
    },
    {
      "cell_type": "code",
      "execution_count": 240,
      "metadata": {
        "colab": {
          "base_uri": "https://localhost:8080/"
        },
        "id": "6-dl1WSfuynG",
        "outputId": "6b4d1478-e566-46be-da55-203400999736"
      },
      "outputs": [
        {
          "name": "stdout",
          "output_type": "stream",
          "text": [
            "Model: \"sequential_27\"\n",
            "_________________________________________________________________\n",
            " Layer (type)                Output Shape              Param #   \n",
            "=================================================================\n",
            " embedding_13 (Embedding)    (None, 1, 200)            80135400  \n",
            "                                                                 \n",
            " bidirectional_15 (Bidirecti  (None, 64)               59648     \n",
            " onal)                                                           \n",
            "                                                                 \n",
            " dense_15 (Dense)            (None, 45)                2925      \n",
            "                                                                 \n",
            "=================================================================\n",
            "Total params: 80,197,973\n",
            "Trainable params: 62,573\n",
            "Non-trainable params: 80,135,400\n",
            "_________________________________________________________________\n"
          ]
        }
      ],
      "source": [
        "# Create model with best hyperparameter \n",
        "base_model = create_baseline(units= 32,\n",
        "                            activation=\"tanh\",\n",
        "                            dropout=0,\n",
        "                            #learning_rate=28e-4)\n",
        "                            learning_rate=0.0028081)"
      ]
    },
    {
      "cell_type": "code",
      "execution_count": 241,
      "metadata": {
        "colab": {
          "base_uri": "https://localhost:8080/",
          "height": 660
        },
        "id": "ZY8zv1dvQM3A",
        "outputId": "367c9e0b-61fb-4d22-a379-23cf3f507327"
      },
      "outputs": [
        {
          "name": "stdout",
          "output_type": "stream",
          "text": [
            "Start training! \n",
            "Parameters: {'verbose': 0, 'epochs': 6, 'batch_size': 64}\n",
            "Training completed!\n",
            "Showing history...\n",
            "Displaying the following history keys: dict_keys(['loss', 'accuracy', 'val_loss', 'val_accuracy'])\n"
          ]
        },
        {
          "data": {
            "image/png": "[encoded data removed]",
            "text/plain": [
              "<Figure size 640x480 with 1 Axes>"
            ]
          },
          "metadata": {},
          "output_type": "display_data"
        },
        {
          "data": {
            "image/png": "[encoded data removed]",
            "text/plain": [
              "<Figure size 640x480 with 1 Axes>"
            ]
          },
          "metadata": {},
          "output_type": "display_data"
        }
      ],
      "source": [
        "# Train\n",
        "base_training_info = {\n",
        "    'verbose': 0,\n",
        "    'epochs' : 6, # Value obtained through the EarlyStopping callback now commented below\n",
        "    'batch_size' : 64,\n",
        "    # 'callbacks' : [tf.keras.callbacks.EarlyStopping(monitor=\"val_loss\",\n",
        "    #                                                 patience=5,\n",
        "    #                                                 verbose=1,\n",
        "    #                                                 mode=\"auto\",\n",
        "    #                                                 baseline=None,\n",
        "    #                                                 restore_best_weights=True)]\n",
        "}\n",
        "\n",
        "'''\n",
        "    'callbacks' : [tf.keras.callbacks.EarlyStopping(monitor=\"val_loss\",\n",
        "                                                    patience=5,\n",
        "                                                    verbose=1,\n",
        "                                                    mode=\"auto\",\n",
        "                                                    baseline=None,\n",
        "                                                    restore_best_weights=True)]\n",
        "'''\n",
        "\n",
        "base_model = train_model(model=base_model,training_info = base_training_info)"
      ]
    },
    {
      "cell_type": "markdown",
      "metadata": {
        "id": "Jl8xoLex485H"
      },
      "source": [
        "#### F1-Macro evaluation"
      ]
    },
    {
      "cell_type": "code",
      "execution_count": 242,
      "metadata": {
        "colab": {
          "base_uri": "https://localhost:8080/"
        },
        "id": "scAXLwfRJrS4",
        "outputId": "2bacfd94-16bd-4fd7-9760-52c9c2f92732"
      },
      "outputs": [
        {
          "name": "stdout",
          "output_type": "stream",
          "text": [
            "975/975 [==============================] - 2s 2ms/step - loss: 0.3694 - accuracy: 0.8831\n",
            "Model loss: 0.3693520724773407, accuracy: 0.8831093907356262\n",
            "Starting prediction: \n",
            "{'batch_size': 64, 'verbose': 1}\n",
            "Predicting on 31183 samples\n",
            "488/488 [==============================] - 1s 2ms/step\n",
            "F1_score on the validation set is: 0.7138448749090558\n"
          ]
        }
      ],
      "source": [
        "loss, accuracy = base_model.evaluate(x_val, y_val)\n",
        "print(f\"Model loss: {loss}, accuracy: {accuracy}\")\n",
        "\n",
        "# Inference and evaluate\n",
        "\n",
        "base_score = compute_f1(base_model, x_val, y_val)\n",
        "print(f'F1_score on the validation set is: {base_score}')"
      ]
    },
    {
      "cell_type": "markdown",
      "metadata": {
        "id": "XX2nnMyoOw59"
      },
      "source": [
        "#### Sample test"
      ]
    },
    {
      "cell_type": "code",
      "execution_count": 243,
      "metadata": {
        "colab": {
          "base_uri": "https://localhost:8080/"
        },
        "id": "wv7QQ2Y0Ow59",
        "outputId": "ce507934-cef9-4492-f7a6-1ab7071f80f6"
      },
      "outputs": [
        {
          "name": "stdout",
          "output_type": "stream",
          "text": [
            "1/1 [==============================] - 0s 27ms/step\n",
            "20 \t 20 \t ok \t pierre\n",
            "20 \t 20 \t ok \t vinken\n",
            "3 \t 3 \t ok \t ,\n",
            "9 \t 9 \t ok \t 61\n",
            "22 \t 22 \t ok \t years\n",
            "14 \t 14 \t ok \t old\n",
            "3 \t 3 \t ok \t ,\n",
            "18 \t 18 \t ok \t will\n",
            "34 \t 34 \t ok \t join\n",
            "10 \t 10 \t ok \t the\n",
            "19 \t 19 \t ok \t board\n",
            "13 \t 13 \t ok \t as\n",
            "10 \t 10 \t ok \t a\n",
            "14 \t 14 \t ok \t nonexecutive\n",
            "19 \t 19 \t ok \t director\n",
            "20 \t 20 \t ok \t nov.\n",
            "9 \t 9 \t ok \t 29\n",
            "6 \t 6 \t ok \t .\n",
            "20 \t 20 \t ok \t mr.\n",
            "20 \t 20 \t ok \t vinken\n",
            "39 \t 39 \t ok \t is\n",
            "19 \t 19 \t ok \t chairman\n",
            "13 \t 13 \t ok \t of\n",
            "20 \t 20 \t ok \t elsevier\n",
            "20 \t 20 \t ok \t n.v.\n",
            "3 \t 3 \t ok \t ,\n",
            "10 \t 10 \t ok \t the\n",
            "20 \t 20 \t ok \t dutch\n",
            "19 \t 36 \t ERR \t publishing\n",
            "20 \t 19 \t ERR \t group\n",
            "6 \t 6 \t ok \t .\n"
          ]
        }
      ],
      "source": [
        "x_sample_text = tokenizer.sequences_to_texts(x_sample)\n",
        "y_pred_sample_onehot = base_model.predict(x_sample)\n",
        "y_pred_sample = np.argmax(y_pred_sample_onehot, axis=1)\n",
        "for i in range(x_sample.size):\n",
        "    print(f\"{y_pred_sample[i]} \\t {y_sample[i]} \\t {'ok' if y_pred_sample[i]==y_sample[i] else 'ERR'} \\t {x_sample_text[i]}\")"
      ]
    },
    {
      "cell_type": "markdown",
      "metadata": {
        "id": "Jjm_29f4i8CG"
      },
      "source": [
        "## Model A: GRU"
      ]
    },
    {
      "cell_type": "markdown",
      "metadata": {
        "id": "hhyr0auV485I"
      },
      "source": [
        "GRU is a simpler alternative to LSTM's architecture, less effective but with a faster train.\n",
        "</br>Two layers architecture: a Bidirectional GRU layer and a Dense/FC layer on top. "
      ]
    },
    {
      "cell_type": "code",
      "execution_count": 244,
      "metadata": {
        "id": "53xpFPP4485I"
      },
      "outputs": [],
      "source": [
        "# Create model\n",
        "\n",
        "def create_gru(units, dropout, learning_rate, activation):\n",
        "    model = keras.Sequential()\n",
        "    model = keras.models.Sequential()\n",
        "    \n",
        "    \n",
        "    model.add(keras.layers.Embedding(input_dim=vocab_size, \n",
        "                                    output_dim = embedding_dimension,\n",
        "                                    input_length = 1,\n",
        "                                    weights = [embedding_matrix],\n",
        "                                    trainable = False))\n",
        "    \n",
        "    model.add(keras.layers.Bidirectional(GRU(units=units, \n",
        "                                              activation=activation,\n",
        "                                              dropout=dropout,\n",
        "                                              )))\n",
        "\n",
        "    model.add(keras.layers.Dense(units=num_classes, \n",
        "                                 activation=\"softmax\"))\n",
        "\n",
        "    model.compile(loss=\"sparse_categorical_crossentropy\", \n",
        "                    optimizer=Adam(learning_rate=learning_rate), \n",
        "                    metrics=[\"accuracy\"])\n",
        "    \n",
        "    return model"
      ]
    },
    {
      "cell_type": "code",
      "execution_count": 245,
      "metadata": {
        "id": "3KMFWP-huynH"
      },
      "outputs": [],
      "source": [
        "def build_GRU(hp):\n",
        "    units = hp.Int(\"units\", min_value=16, max_value=256, step=16)\n",
        "\n",
        "    activation = hp.Choice(\"activation\", [\"relu\", \"tanh\"])\n",
        "\n",
        "    dropout = hp.Float(\"dropout\", min_value=0, max_value=0.2, step=0.05)\n",
        "\n",
        "    learning_rate = hp.Float(\"learning_rate\", min_value=1e-4, max_value=1e-2, sampling=\"log\")\n",
        "    # call existing model-building code with the hyperparameter values.\n",
        "    model = create_gru(units=units, \n",
        "                            activation=activation, \n",
        "                            dropout=dropout, \n",
        "                            learning_rate=learning_rate\n",
        "                        )\n",
        "    return model"
      ]
    },
    {
      "cell_type": "code",
      "execution_count": 246,
      "metadata": {
        "colab": {
          "base_uri": "https://localhost:8080/"
        },
        "id": "yPtro4UfuynH",
        "outputId": "bbb9db7f-bfe7-4fef-bad3-770d5465c26d"
      },
      "outputs": [
        {
          "name": "stdout",
          "output_type": "stream",
          "text": [
            "Search space summary\n",
            "Default search space size: 4\n",
            "units (Int)\n",
            "{'default': None, 'conditions': [], 'min_value': 16, 'max_value': 256, 'step': 16, 'sampling': None}\n",
            "activation (Choice)\n",
            "{'default': 'relu', 'conditions': [], 'values': ['relu', 'tanh'], 'ordered': False}\n",
            "dropout (Float)\n",
            "{'default': 0.0, 'conditions': [], 'min_value': 0.0, 'max_value': 0.2, 'step': 0.05, 'sampling': None}\n",
            "learning_rate (Float)\n",
            "{'default': 0.0001, 'conditions': [], 'min_value': 0.0001, 'max_value': 0.01, 'step': None, 'sampling': 'log'}\n"
          ]
        }
      ],
      "source": [
        "tuner = keras_tuner.Hyperband(hypermodel=build_GRU,\n",
        "                            objective='accuracy',\n",
        "                            max_epochs=30,\n",
        "                            factor=3,\n",
        "                            directory='a1models',\n",
        "                            project_name='GRU')\n",
        "tuner.search_space_summary()"
      ]
    },
    {
      "cell_type": "code",
      "execution_count": 247,
      "metadata": {
        "colab": {
          "base_uri": "https://localhost:8080/",
          "height": 35
        },
        "id": "HroYKz3WuynH",
        "outputId": "87120ef9-5dd1-4c34-ab70-1f088975b479"
      },
      "outputs": [
        {
          "data": {
            "text/plain": [
              "'\\ntuner.search(x_train,y_train, epochs=30, validation_data=(x_val,y_val))\\nbest_model = tuner.get_best_models()[0]\\ntuner.results_summary()\\n'"
            ]
          },
          "execution_count": 247,
          "metadata": {},
          "output_type": "execute_result"
        }
      ],
      "source": [
        "# Search the best hyper-parameter and select the best model\n",
        "'''\n",
        "tuner.search(x_train,y_train, epochs=30, validation_data=(x_val,y_val))\n",
        "best_model = tuner.get_best_models()[0]\n",
        "tuner.results_summary()\n",
        "'''"
      ]
    },
    {
      "cell_type": "markdown",
      "metadata": {
        "id": "vDB9pBZduynH"
      },
      "source": [
        "Hyperparameters:\n",
        "* units: 112\n",
        "* activation: tanh\n",
        "* dropout: 0.05\n",
        "* learning_rate: 0.000642144054857491\n",
        "* tuner/epochs: 15\n",
        "  \n",
        "Score: 0.9216994643211365"
      ]
    },
    {
      "cell_type": "code",
      "execution_count": 248,
      "metadata": {
        "id": "mD5oTdyOuynH"
      },
      "outputs": [],
      "source": [
        "# Create model with best hyperparameter \n",
        "gru_model = create_gru(units= 112,\n",
        "                            activation=\"tanh\",\n",
        "                            dropout=0.05,\n",
        "                            learning_rate=0.000642144054857491,\n",
        "                            )"
      ]
    },
    {
      "cell_type": "code",
      "execution_count": 249,
      "metadata": {
        "colab": {
          "base_uri": "https://localhost:8080/",
          "height": 660
        },
        "id": "hPcXmqzj485J",
        "outputId": "9d538748-2432-4e3e-e85c-b1f7d2693215"
      },
      "outputs": [
        {
          "name": "stdout",
          "output_type": "stream",
          "text": [
            "Start training! \n",
            "Parameters: {'verbose': 0, 'epochs': 17, 'batch_size': 64}\n",
            "Training completed!\n",
            "Showing history...\n",
            "Displaying the following history keys: dict_keys(['loss', 'accuracy', 'val_loss', 'val_accuracy'])\n"
          ]
        },
        {
          "data": {
            "image/png": "[encoded data removed]",
            "text/plain": [
              "<Figure size 640x480 with 1 Axes>"
            ]
          },
          "metadata": {},
          "output_type": "display_data"
        },
        {
          "data": {
            "image/png": "[encoded data removed]",
            "text/plain": [
              "<Figure size 640x480 with 1 Axes>"
            ]
          },
          "metadata": {},
          "output_type": "display_data"
        }
      ],
      "source": [
        "# Train\n",
        "gru_training_info = {\n",
        "    'verbose': 0,\n",
        "    'epochs' : 17, # Value obtained through the EarlyStopping callback now commented below\n",
        "    'batch_size' : 64,\n",
        "    # 'callbacks' : [tf.keras.callbacks.EarlyStopping(monitor=\"val_loss\",\n",
        "    #                                             patience=5,\n",
        "    #                                             verbose=1,\n",
        "    #                                             mode=\"auto\",\n",
        "    #                                             baseline=None,\n",
        "    #                                             restore_best_weights=True)]\n",
        "}\n",
        "\n",
        "gru_model = train_model(model=gru_model,training_info = gru_training_info)"
      ]
    },
    {
      "cell_type": "markdown",
      "metadata": {
        "id": "iYuiRWK9Ow5-"
      },
      "source": [
        "#### F1-Macro evaluation"
      ]
    },
    {
      "cell_type": "code",
      "execution_count": 250,
      "metadata": {
        "colab": {
          "base_uri": "https://localhost:8080/"
        },
        "id": "xZo7nP0WOw5-",
        "outputId": "076aecd3-1f78-4f61-84ef-bb62474094e6"
      },
      "outputs": [
        {
          "name": "stdout",
          "output_type": "stream",
          "text": [
            "975/975 [==============================] - 2s 2ms/step - loss: 0.3357 - accuracy: 0.8930\n",
            "Model loss: 0.3357054889202118, accuracy: 0.892986536026001\n",
            "Starting prediction: \n",
            "{'batch_size': 64, 'verbose': 1}\n",
            "Predicting on 31183 samples\n",
            "488/488 [==============================] - 2s 2ms/step\n",
            "F1_score on the validation set is: 0.7016540492962807\n"
          ]
        }
      ],
      "source": [
        "loss, accuracy = gru_model.evaluate(x_val, y_val)\n",
        "print(f\"Model loss: {loss}, accuracy: {accuracy}\")\n",
        "\n",
        "# Inference and evaluate\n",
        "\n",
        "gru_score = compute_f1(gru_model, x_val, y_val)\n",
        "print(f'F1_score on the validation set is: {gru_score}')"
      ]
    },
    {
      "cell_type": "markdown",
      "metadata": {
        "id": "6bM9ZWFAi8CG"
      },
      "source": [
        "## Model B: 2x LSTM + Dense "
      ]
    },
    {
      "cell_type": "code",
      "execution_count": 251,
      "metadata": {
        "id": "xOUIWNbRuynI"
      },
      "outputs": [],
      "source": [
        "# Create model\n",
        "from tensorflow.keras.models import Sequential\n",
        "from tensorflow.keras.layers import Embedding, Dense, LSTM, Bidirectional, GRU\n",
        "from tensorflow.keras.optimizers import Adam\n",
        "\n",
        "def create_2xlstm(lstm1_units, lstm2_units, lstm1_dropout, lstm2_dropout, learning_rate, lstm1_activation, lstm2_activation):\n",
        "    model = keras.Sequential()\n",
        "    model = keras.models.Sequential()\n",
        "    \n",
        "    \n",
        "    model.add(keras.layers.Embedding(input_dim=vocab_size, \n",
        "                                    output_dim = embedding_dimension,\n",
        "                                    input_length = 1,\n",
        "                                    weights = [embedding_matrix],\n",
        "                                    trainable = False))\n",
        "    \n",
        "    model.add(keras.layers.Bidirectional(LSTM(units=lstm1_units,\n",
        "                                              dropout=lstm1_dropout,\n",
        "                                              activation=lstm1_activation,\n",
        "                                              return_sequences=True\n",
        "                                              )))\n",
        "    \n",
        "    model.add(keras.layers.Bidirectional(LSTM(units=lstm2_units,\n",
        "                                              dropout=lstm2_dropout,\n",
        "                                              activation=lstm2_activation\n",
        "                                              )))\n",
        "\n",
        "    model.add(keras.layers.Dense(units=num_classes, \n",
        "                                 activation=\"softmax\"))\n",
        "\n",
        "    model.compile(loss=\"sparse_categorical_crossentropy\", \n",
        "                    optimizer=Adam(learning_rate=learning_rate), \n",
        "                    metrics=[\"accuracy\"])\n",
        "    \n",
        "    return model"
      ]
    },
    {
      "cell_type": "code",
      "execution_count": 252,
      "metadata": {
        "id": "2sv-aPNLuynI"
      },
      "outputs": [],
      "source": [
        "def build_2xLSTM(hp):\n",
        "    lstm1_units = hp.Int(\"lstm1_units\", min_value=16, max_value=128, step=16)\n",
        "    lstm2_units = hp.Int(\"lstm2_units\", min_value=16, max_value=128, step=16)\n",
        "\n",
        "    lstm1_activation = hp.Choice(\"lstm1_activation\", [\"relu\", \"tanh\"])\n",
        "    lstm2_activation = hp.Choice(\"lstm2_activation\", [\"relu\", \"tanh\"])\n",
        "\n",
        "    lstm1_dropout = hp.Float(\"lstm1_dropout\", min_value=0, max_value=0.4, step=0.1)\n",
        "    lstm2_dropout = hp.Float(\"lstm2_dropout\", min_value=0, max_value=0.4, step=0.1)\n",
        "\n",
        "    learning_rate = hp.Float(\"learning_rate\", min_value=1e-3, max_value=1e-2, sampling=\"log\")\n",
        "    # call existing model-building code with the hyperparameter values.\n",
        "    model = create_2xlstm(lstm1_units=lstm1_units,\n",
        "                            lstm2_units=lstm2_units, \n",
        "                            lstm1_activation=lstm1_activation, \n",
        "                            lstm2_activation=lstm2_activation,\n",
        "                            lstm1_dropout=lstm1_dropout,\n",
        "                            lstm2_dropout=lstm2_dropout,\n",
        "                            learning_rate=learning_rate\n",
        "                        )\n",
        "    return model"
      ]
    },
    {
      "cell_type": "code",
      "execution_count": 253,
      "metadata": {
        "colab": {
          "base_uri": "https://localhost:8080/"
        },
        "id": "ekSMWDYguynI",
        "outputId": "62a36f9c-5abb-4192-8132-f96b61a09c03"
      },
      "outputs": [
        {
          "name": "stdout",
          "output_type": "stream",
          "text": [
            "Search space summary\n",
            "Default search space size: 7\n",
            "lstm1_units (Int)\n",
            "{'default': None, 'conditions': [], 'min_value': 16, 'max_value': 128, 'step': 16, 'sampling': None}\n",
            "lstm2_units (Int)\n",
            "{'default': None, 'conditions': [], 'min_value': 16, 'max_value': 128, 'step': 16, 'sampling': None}\n",
            "lstm1_activation (Choice)\n",
            "{'default': 'relu', 'conditions': [], 'values': ['relu', 'tanh'], 'ordered': False}\n",
            "lstm2_activation (Choice)\n",
            "{'default': 'relu', 'conditions': [], 'values': ['relu', 'tanh'], 'ordered': False}\n",
            "lstm1_dropout (Float)\n",
            "{'default': 0.0, 'conditions': [], 'min_value': 0.0, 'max_value': 0.4, 'step': 0.1, 'sampling': None}\n",
            "lstm2_dropout (Float)\n",
            "{'default': 0.0, 'conditions': [], 'min_value': 0.0, 'max_value': 0.4, 'step': 0.1, 'sampling': None}\n",
            "learning_rate (Float)\n",
            "{'default': 0.001, 'conditions': [], 'min_value': 0.001, 'max_value': 0.01, 'step': None, 'sampling': 'log'}\n"
          ]
        }
      ],
      "source": [
        "tuner = keras_tuner.Hyperband(hypermodel=build_2xLSTM,\n",
        "                            objective='accuracy',\n",
        "                            max_epochs=30,\n",
        "                            factor=3,\n",
        "                            directory='models',\n",
        "                            project_name='2xLSTM')\n",
        "tuner.search_space_summary()"
      ]
    },
    {
      "cell_type": "code",
      "execution_count": 254,
      "metadata": {
        "colab": {
          "base_uri": "https://localhost:8080/",
          "height": 87
        },
        "id": "t6XOPMWnuynI",
        "outputId": "7f2e59f2-7863-417a-b25a-5127398560f4"
      },
      "outputs": [
        {
          "data": {
            "text/plain": [
              "'\\ntuner.search(x_train,y_train, epochs=30, validation_data=(x_val,y_val),\\n                            callbacks=[tf.keras.callbacks.EarlyStopping(monitor=\"val_loss\",\\n                                                                        min_delta=0.015,\\n                                                                        patience=3,\\n                                                                        verbose=0,\\n                                                                        mode=\"auto\",\\n                                                                        baseline=None,\\n                                                                        restore_best_weights=True)])\\nbest_model = tuner.get_best_models()[0]\\ntuner.results_summary()\\n'"
            ]
          },
          "execution_count": 254,
          "metadata": {},
          "output_type": "execute_result"
        }
      ],
      "source": [
        "# Search the best hyper-parameter and select the best model\n",
        "\"\"\"\n",
        "tuner.search(x_train,y_train, epochs=30, validation_data=(x_val,y_val),\n",
        "                            callbacks=[tf.keras.callbacks.EarlyStopping(monitor=\"val_loss\",\n",
        "                                                                        min_delta=0.015,\n",
        "                                                                        patience=3,\n",
        "                                                                        verbose=0,\n",
        "                                                                        mode=\"auto\",\n",
        "                                                                        baseline=None,\n",
        "                                                                        restore_best_weights=True)])\n",
        "best_model = tuner.get_best_models()[0]\n",
        "tuner.results_summary()\n",
        "\"\"\""
      ]
    },
    {
      "cell_type": "markdown",
      "metadata": {
        "id": "XBs0J3J3uynI"
      },
      "source": [
        "Hyperparameters:\n",
        "* LSTM1_units: 128\n",
        "* LSTM2_units: 112\n",
        "* LSTM1_activation: tanh\n",
        "* LSTM2_activation: relu\n",
        "* LSTM1_dropout: 0.0\n",
        "* LSTM2_dropout: 0.2\n",
        "* learning_rate: 0.0014114864841283698\n",
        "* tuner/epochs: 10\n",
        "  \n",
        "Score: 0.9165892601013184"
      ]
    },
    {
      "cell_type": "code",
      "execution_count": 255,
      "metadata": {
        "colab": {
          "base_uri": "https://localhost:8080/"
        },
        "id": "16Lnn4ZsuynI",
        "outputId": "507496e0-1a90-406d-d6fc-ca2add43fcdd"
      },
      "outputs": [],
      "source": [
        "# Create model with best hyperparameter \n",
        "LSTMx2_model = create_2xlstm(lstm1_units=128,\n",
        "                                    lstm2_units=112,\n",
        "                                    lstm1_activation=\"tanh\",\n",
        "                                    lstm2_activation=\"relu\",\n",
        "                                    lstm1_dropout=0.2,\n",
        "                                    lstm2_dropout=0.0,\n",
        "                                    learning_rate=0.0014114864841283698) "
      ]
    },
    {
      "cell_type": "code",
      "execution_count": 256,
      "metadata": {
        "colab": {
          "base_uri": "https://localhost:8080/",
          "height": 660
        },
        "id": "BlM3dIuEuynI",
        "outputId": "56a454a4-753e-4c21-f5a9-0441d221ccbd"
      },
      "outputs": [
        {
          "name": "stdout",
          "output_type": "stream",
          "text": [
            "Start training! \n",
            "Parameters: {'verbose': 0, 'epochs': 7, 'batch_size': 64}\n",
            "Training completed!\n",
            "Showing history...\n",
            "Displaying the following history keys: dict_keys(['loss', 'accuracy', 'val_loss', 'val_accuracy'])\n"
          ]
        },
        {
          "data": {
            "image/png": "[encoded data removed]",
            "text/plain": [
              "<Figure size 640x480 with 1 Axes>"
            ]
          },
          "metadata": {},
          "output_type": "display_data"
        },
        {
          "data": {
            "image/png": "[encoded data removed]",
            "text/plain": [
              "<Figure size 640x480 with 1 Axes>"
            ]
          },
          "metadata": {},
          "output_type": "display_data"
        }
      ],
      "source": [
        "# Train\n",
        "LSTMx2_training_info = {\n",
        "    'verbose': 0,\n",
        "    'epochs' : 7, # Value obtained through the EarlyStopping callback now commented below\n",
        "    'batch_size' : 64,\n",
        "    # 'callbacks' : [tf.keras.callbacks.EarlyStopping(monitor=\"val_loss\",\n",
        "    #                                                 min_delta=0.0,\n",
        "    #                                                 patience=5,\n",
        "    #                                                 verbose=1,\n",
        "    #                                                 mode=\"auto\",\n",
        "    #                                                 baseline=None,\n",
        "    #                                                 restore_best_weights=True)]\n",
        "}\n",
        "\n",
        "LSTMx2_model = train_model(model=LSTMx2_model,training_info = LSTMx2_training_info)"
      ]
    },
    {
      "cell_type": "markdown",
      "metadata": {
        "id": "uH_o2Q0xuynI"
      },
      "source": [
        "#### F1-Macro evaluation"
      ]
    },
    {
      "cell_type": "code",
      "execution_count": 257,
      "metadata": {
        "colab": {
          "base_uri": "https://localhost:8080/"
        },
        "id": "bdVsN1k8uynI",
        "outputId": "0c6e51c0-f787-4545-fb40-e90a835bd46c"
      },
      "outputs": [
        {
          "name": "stdout",
          "output_type": "stream",
          "text": [
            "975/975 [==============================] - 5s 5ms/step - loss: 0.3500 - accuracy: 0.8896\n",
            "Model loss: 0.35004428029060364, accuracy: 0.8895552158355713\n",
            "Starting prediction: \n",
            "{'batch_size': 64, 'verbose': 1}\n",
            "Predicting on 31183 samples\n",
            "488/488 [==============================] - 3s 5ms/step\n",
            "F1_score on the validation set is: 0.7076303179913191\n"
          ]
        }
      ],
      "source": [
        "loss, accuracy = LSTMx2_model.evaluate(x_val, y_val)\n",
        "print(f\"Model loss: {loss}, accuracy: {accuracy}\")\n",
        "\n",
        "# Inference and evaluate\n",
        "\n",
        "LSTMx2_score = compute_f1(LSTMx2_model, x_val, y_val)\n",
        "print(f'F1_score on the validation set is: {LSTMx2_score}')"
      ]
    },
    {
      "cell_type": "markdown",
      "metadata": {
        "id": "5hgT909Mi8CG"
      },
      "source": [
        "## Model C: LSTM + 2x Dense"
      ]
    },
    {
      "cell_type": "code",
      "execution_count": 258,
      "metadata": {
        "id": "YtQAeb7zuynJ"
      },
      "outputs": [],
      "source": [
        "# Create model\n",
        "from tensorflow.keras.models import Sequential\n",
        "from tensorflow.keras.layers import Embedding, Dense, LSTM, Bidirectional, GRU\n",
        "from tensorflow.keras.optimizers import Adam\n",
        "\n",
        "def create_lstm_dense(lstm_units, dense_units, lstm_dropout, learning_rate, lstm_activation, dense_activation):\n",
        "    model = keras.Sequential()\n",
        "    model = keras.models.Sequential()\n",
        "    \n",
        "    \n",
        "    model.add(keras.layers.Embedding(input_dim=vocab_size, \n",
        "                                    output_dim = embedding_dimension,\n",
        "                                    input_length = 1,\n",
        "                                    weights = [embedding_matrix],\n",
        "                                    trainable = False))\n",
        "    \n",
        "    model.add(keras.layers.Bidirectional(LSTM(units=lstm_units,\n",
        "                                              dropout=lstm_dropout,\n",
        "                                              activation=lstm_activation\n",
        "                                              )))\n",
        "\n",
        "    model.add(keras.layers.Dense(units=dense_units, \n",
        "                                 activation=dense_activation))\n",
        "\n",
        "\n",
        "    model.add(keras.layers.Dense(units=num_classes, \n",
        "                                 activation=\"softmax\"))\n",
        "\n",
        "    model.compile(loss=\"sparse_categorical_crossentropy\", \n",
        "                    optimizer=Adam(learning_rate=learning_rate), \n",
        "                    metrics=[\"accuracy\"])\n",
        "    \n",
        "    return model\n",
        "    "
      ]
    },
    {
      "cell_type": "code",
      "execution_count": 259,
      "metadata": {
        "id": "TsY0DldcuynJ"
      },
      "outputs": [],
      "source": [
        "def build_LSTM_Dense(hp):\n",
        "    lstm_units = hp.Int(\"lstm_units\", min_value=16, max_value=128, step=16)\n",
        "    dense_units = hp.Int(\"dense_units\", min_value=16, max_value=128, step=16)\n",
        "\n",
        "    lstm_activation = hp.Choice(\"lstm_activation\", [\"relu\", \"tanh\"])\n",
        "    dense_activation = hp.Choice(\"dense_activation\", [\"relu\", \"tanh\"])\n",
        "\n",
        "    lstm_dropout = hp.Float(\"lstm_dropout\", min_value=0, max_value=0.4, step=0.1)\n",
        "\n",
        "    learning_rate = hp.Float(\"learning_rate\", min_value=1e-3, max_value=1e-2, sampling=\"log\")\n",
        "    # call existing model-building code with the hyperparameter values.\n",
        "    model = create_lstm_dense(lstm_units=lstm_units,\n",
        "                            dense_units=dense_units, \n",
        "                            lstm_activation=lstm_activation, \n",
        "                            dense_activation=dense_activation,\n",
        "                            lstm_dropout=lstm_dropout,\n",
        "                            learning_rate=learning_rate\n",
        "                        )\n",
        "    return model"
      ]
    },
    {
      "cell_type": "code",
      "execution_count": 260,
      "metadata": {
        "colab": {
          "base_uri": "https://localhost:8080/"
        },
        "id": "JdmcwIvDuynJ",
        "outputId": "f4caf148-9613-4e10-b72a-430faddc7505"
      },
      "outputs": [
        {
          "name": "stdout",
          "output_type": "stream",
          "text": [
            "Search space summary\n",
            "Default search space size: 6\n",
            "lstm_units (Int)\n",
            "{'default': None, 'conditions': [], 'min_value': 16, 'max_value': 128, 'step': 16, 'sampling': None}\n",
            "dense_units (Int)\n",
            "{'default': None, 'conditions': [], 'min_value': 16, 'max_value': 128, 'step': 16, 'sampling': None}\n",
            "lstm_activation (Choice)\n",
            "{'default': 'relu', 'conditions': [], 'values': ['relu', 'tanh'], 'ordered': False}\n",
            "dense_activation (Choice)\n",
            "{'default': 'relu', 'conditions': [], 'values': ['relu', 'tanh'], 'ordered': False}\n",
            "lstm_dropout (Float)\n",
            "{'default': 0.0, 'conditions': [], 'min_value': 0.0, 'max_value': 0.4, 'step': 0.1, 'sampling': None}\n",
            "learning_rate (Float)\n",
            "{'default': 0.001, 'conditions': [], 'min_value': 0.001, 'max_value': 0.01, 'step': None, 'sampling': 'log'}\n"
          ]
        }
      ],
      "source": [
        "tuner = keras_tuner.Hyperband(hypermodel=build_LSTM_Dense,\n",
        "                            objective='accuracy',\n",
        "                            max_epochs=30,\n",
        "                            factor=3,\n",
        "                            directory='./models',\n",
        "                            project_name='LSTM_DENSE2')\n",
        "tuner.search_space_summary()"
      ]
    },
    {
      "cell_type": "code",
      "execution_count": 261,
      "metadata": {
        "colab": {
          "base_uri": "https://localhost:8080/",
          "height": 87
        },
        "id": "54to_PD0uynJ",
        "outputId": "b9c14668-03b0-4dca-f489-2056dcf6cd9a"
      },
      "outputs": [
        {
          "data": {
            "text/plain": [
              "'\\ntuner.search(x_train,y_train, epochs=30, validation_data=(x_val,y_val),\\n                            callbacks=[tf.keras.callbacks.EarlyStopping(monitor=\"val_loss\",\\n                                                                        min_delta=0.015,\\n                                                                        patience=3,\\n                                                                        verbose=0,\\n                                                                        mode=\"auto\",\\n                                                                        baseline=None,\\n                                                                        restore_best_weights=True)])\\nbest_model = tuner.get_best_models()[0]\\ntuner.results_summary()\\n'"
            ]
          },
          "execution_count": 261,
          "metadata": {},
          "output_type": "execute_result"
        }
      ],
      "source": [
        "# Search the best hyper-parameter and select the best model\n",
        "# The Early stopping callback with a min_delta is setted to improve the performance\n",
        "'''\n",
        "tuner.search(x_train,y_train, epochs=30, validation_data=(x_val,y_val),\n",
        "                            callbacks=[tf.keras.callbacks.EarlyStopping(monitor=\"val_loss\",\n",
        "                                                                        min_delta=0.015,\n",
        "                                                                        patience=3,\n",
        "                                                                        verbose=0,\n",
        "                                                                        mode=\"auto\",\n",
        "                                                                        baseline=None,\n",
        "                                                                        restore_best_weights=True)])\n",
        "best_model = tuner.get_best_models()[0]\n",
        "tuner.results_summary()\n",
        "'''\n"
      ]
    },
    {
      "cell_type": "markdown",
      "metadata": {
        "id": "koT2PbDZuynJ"
      },
      "source": [
        "Hyperparameters:\n",
        "* LSTM_units: 112\n",
        "* LSTM_activation: relu\n",
        "* Dense_units: 64\n",
        "* Dense_activation: tanh\n",
        "* dropout: 0.0\n",
        "* learning_rate: 0.001209925672797829\n",
        "* tuner/epochs: 30\n",
        "  \n",
        "Score: 0.9195877909660339"
      ]
    },
    {
      "cell_type": "code",
      "execution_count": 262,
      "metadata": {
        "colab": {
          "base_uri": "https://localhost:8080/"
        },
        "id": "9yyc252luynJ",
        "outputId": "6f1bbe9a-f0fc-4fbd-c672-f9d08f068a05"
      },
      "outputs": [],
      "source": [
        "# Create model with best hyperparameter \n",
        "lstm_dense_model = create_lstm_dense(lstm_units=112,\n",
        "                                    dense_units=64,\n",
        "                                    lstm_activation=\"relu\",\n",
        "                                    dense_activation=\"tanh\",\n",
        "                                    lstm_dropout=0.0,\n",
        "                                    learning_rate=0.001209925672797829) "
      ]
    },
    {
      "cell_type": "code",
      "execution_count": 263,
      "metadata": {
        "colab": {
          "base_uri": "https://localhost:8080/",
          "height": 660
        },
        "id": "LDrBkr2huynJ",
        "outputId": "ab40d5ee-a984-41cd-f7db-d99755f4b067"
      },
      "outputs": [
        {
          "name": "stdout",
          "output_type": "stream",
          "text": [
            "Start training! \n",
            "Parameters: {'verbose': 0, 'epochs': 6, 'batch_size': 64}\n",
            "Training completed!\n",
            "Showing history...\n",
            "Displaying the following history keys: dict_keys(['loss', 'accuracy', 'val_loss', 'val_accuracy'])\n"
          ]
        },
        {
          "data": {
            "image/png": "[encoded data removed]",
            "text/plain": [
              "<Figure size 640x480 with 1 Axes>"
            ]
          },
          "metadata": {},
          "output_type": "display_data"
        },
        {
          "data": {
            "image/png": "[encoded data removed]",
            "text/plain": [
              "<Figure size 640x480 with 1 Axes>"
            ]
          },
          "metadata": {},
          "output_type": "display_data"
        }
      ],
      "source": [
        "# Train\n",
        "lstm_dense_training_info = {\n",
        "    'verbose': 0,\n",
        "    'epochs' : 6, # Value obtained through the EarlyStopping callback now commented below\n",
        "    'batch_size' : 64,\n",
        "    # 'callbacks' : [tf.keras.callbacks.EarlyStopping(monitor=\"val_loss\",\n",
        "    #                                                 patience=5,\n",
        "    #                                                 verbose=1,\n",
        "    #                                                 mode=\"auto\",\n",
        "    #                                                 baseline=None,\n",
        "    #                                                 restore_best_weights=True)]\n",
        "}\n",
        "\n",
        "lstm_dense_model = train_model(model=lstm_dense_model,training_info = lstm_dense_training_info)"
      ]
    },
    {
      "cell_type": "markdown",
      "metadata": {
        "id": "maz2wqJJuynJ"
      },
      "source": [
        "#### F1-Macro evaluation"
      ]
    },
    {
      "cell_type": "code",
      "execution_count": 264,
      "metadata": {
        "colab": {
          "base_uri": "https://localhost:8080/"
        },
        "id": "UmFrkI26uynJ",
        "outputId": "430a9b26-bfb7-4f26-c676-e7dbcc169445"
      },
      "outputs": [
        {
          "name": "stdout",
          "output_type": "stream",
          "text": [
            "975/975 [==============================] - 2s 2ms/step - loss: 0.3600 - accuracy: 0.8858\n",
            "Model loss: 0.35999345779418945, accuracy: 0.8858352303504944\n",
            "Starting prediction: \n",
            "{'batch_size': 64, 'verbose': 1}\n",
            "Predicting on 31183 samples\n",
            "488/488 [==============================] - 2s 3ms/step\n",
            "F1_score on the validation set is: 0.7162593958116001\n"
          ]
        }
      ],
      "source": [
        "loss, accuracy = lstm_dense_model.evaluate(x_val, y_val)\n",
        "print(f\"Model loss: {loss}, accuracy: {accuracy}\")\n",
        "\n",
        "# Inference and evaluate\n",
        "# The report is going to be used in the conclusions to discuss errors\n",
        "lstm_dense_score, report = compute_f1(lstm_dense_model, x_val, y_val, get_report=True)\n",
        "print(f'F1_score on the validation set is: {lstm_dense_score}')"
      ]
    },
    {
      "cell_type": "markdown",
      "metadata": {
        "id": "3TJTU8kXuynJ"
      },
      "source": [
        "## Summary"
      ]
    },
    {
      "cell_type": "code",
      "execution_count": 265,
      "metadata": {
        "colab": {
          "base_uri": "https://localhost:8080/"
        },
        "id": "bEmC0vLPuynJ",
        "outputId": "63b986c7-146f-4ae3-a0dc-e59165651fd0"
      },
      "outputs": [
        {
          "name": "stdout",
          "output_type": "stream",
          "text": [
            " \n",
            "F1 Macro scores on the validation set:\n",
            "    Bi-LSTM + Dense = 0.7138448749090558\n",
            "    Bi-GRU + Dense = 0.7016540492962807\n",
            "    2x Bi-LSTM + Dense = 0.7076303179913191\n",
            "    Bi-LSTM + 2x Dense = 0.7162593958116001\n",
            "\n"
          ]
        }
      ],
      "source": [
        "print(f''' \n",
        "F1 Macro scores on the validation set:\n",
        "    Bi-LSTM + Dense = {base_score}\n",
        "    Bi-GRU + Dense = {gru_score}\n",
        "    2x Bi-LSTM + Dense = {LSTMx2_score}\n",
        "    Bi-LSTM + 2x Dense = {lstm_dense_score}\n",
        "''')"
      ]
    },
    {
      "cell_type": "markdown",
      "metadata": {
        "id": "e_XUVXknuynJ"
      },
      "source": [
        "Bi-LSTM + Dense layer and Bi-LSTM + 2xDense layers result to be the bests on the validation set."
      ]
    },
    {
      "cell_type": "markdown",
      "metadata": {
        "id": "d1CoVdKAuynK"
      },
      "source": [
        "F1-Score on the test set "
      ]
    },
    {
      "cell_type": "code",
      "execution_count": 266,
      "metadata": {
        "colab": {
          "base_uri": "https://localhost:8080/"
        },
        "id": "wWgO0y6MuynK",
        "outputId": "f4dae8be-147f-4efb-cff4-3d146b2d7614"
      },
      "outputs": [
        {
          "name": "stdout",
          "output_type": "stream",
          "text": [
            "Starting prediction: \n",
            "{'batch_size': 64, 'verbose': 1}\n",
            "Predicting on 15545 samples\n",
            "243/243 [==============================] - 0s 2ms/step\n",
            "Starting prediction: \n",
            "{'batch_size': 64, 'verbose': 1}\n",
            "Predicting on 15545 samples\n",
            "243/243 [==============================] - 1s 2ms/step\n"
          ]
        }
      ],
      "source": [
        "test_base_score = compute_f1(base_model, x_test, y_test)\n",
        "test_lstm_dense_score, report_test  = compute_f1(lstm_dense_model, x_test, y_test, get_report=True)"
      ]
    },
    {
      "cell_type": "code",
      "execution_count": 267,
      "metadata": {
        "colab": {
          "base_uri": "https://localhost:8080/"
        },
        "id": "1tlDQ2ZjuynK",
        "outputId": "be805fa0-88b4-491b-a387-01d2e7948a45"
      },
      "outputs": [
        {
          "name": "stdout",
          "output_type": "stream",
          "text": [
            " \n",
            "F1 Macro scores on the test set:\n",
            "    Bi-LSTM + Dense = 0.7922303858066077\n",
            "    Bi-LSTM + 2x Dense = 0.7928179244952445\n",
            "\n"
          ]
        }
      ],
      "source": [
        "print(f''' \n",
        "F1 Macro scores on the test set:\n",
        "    Bi-LSTM + Dense = {test_base_score}\n",
        "    Bi-LSTM + 2x Dense = {test_lstm_dense_score}\n",
        "''')"
      ]
    },
    {
      "cell_type": "markdown",
      "metadata": {
        "id": "nH8Fm0Yp3af3"
      },
      "source": [
        "### Error analysis "
      ]
    },
    {
      "cell_type": "markdown",
      "metadata": {
        "id": "euko5UaValMm"
      },
      "source": [
        "Both the models have a better performance on the test set with respect to the validation set. Let's see the scores for each class, focusing on the class distribution in the different sets"
      ]
    },
    {
      "cell_type": "code",
      "execution_count": 268,
      "metadata": {
        "colab": {
          "base_uri": "https://localhost:8080/"
        },
        "id": "jC-SXyazZ4Wc",
        "outputId": "673ce23d-c3e1-4801-e09d-ac0c10b76569"
      },
      "outputs": [
        {
          "name": "stdout",
          "output_type": "stream",
          "text": [
            "Labels in the validation set that are not in the test set: \n",
            "['FW', 'UH', '#', 'LS']\n",
            "Labels in the test set that are not in the validation set: \n",
            "[]\n"
          ]
        }
      ],
      "source": [
        "val_not_test_labels = [label for label in dfc_val['label'].drop_duplicates().values if label not in dfc_test['label'].drop_duplicates().values ]\n",
        "test_not_val_labels = [label for label in dfc_test['label'].drop_duplicates().values if label not in dfc_val['label'].drop_duplicates().values ]\n",
        "\n",
        "print(f\"Labels in the validation set that are not in the test set: \\n{val_not_test_labels}\")\n",
        "print(f\"Labels in the test set that are not in the validation set: \\n{test_not_val_labels}\")"
      ]
    },
    {
      "cell_type": "markdown",
      "metadata": {
        "id": "dVPRtzxocpks"
      },
      "source": [
        "The validation set is a well representation of the test set, including all of its classes.\n",
        "\n",
        "There are few labels that are not present in the test set."
      ]
    },
    {
      "cell_type": "code",
      "execution_count": 269,
      "metadata": {
        "colab": {
          "base_uri": "https://localhost:8080/",
          "height": 320
        },
        "id": "jIC6wDD63af3",
        "outputId": "e3e01a16-5022-4bfe-c3fb-7c804ce02091"
      },
      "outputs": [
        {
          "data": {
            "image/png": "[encoded data removed]",
            "text/plain": [
              "<Figure size 1500x500 with 1 Axes>"
            ]
          },
          "metadata": {},
          "output_type": "display_data"
        }
      ],
      "source": [
        "# Class distribution in the sets, normalized.\n",
        "\n",
        "plt.figure(figsize=(15,5))\n",
        "plt.hist(dfc_train[~dfc_train[\"label\"].isin(punctuation_classes)].label, \n",
        "#plt.hist(dfc_train.label, \n",
        "                density=True,\n",
        "                label=\"Train\",\n",
        "                histtype=\"step\",\n",
        "                )\n",
        "plt.hist(dfc_val[~dfc_val[\"label\"].isin(punctuation_classes)].label, \n",
        "#plt.hist(dfc_val.label, \n",
        "                density=True,\n",
        "                label=\"Val\",\n",
        "                histtype=\"step\",\n",
        "                )\n",
        "\n",
        "plt.hist(dfc_test[~dfc_test[\"label\"].isin(punctuation_classes)].label, \n",
        "#plt.hist(dfc_test.label, \n",
        "                density=True,\n",
        "                label=\"Test\",\n",
        "                histtype=\"step\",\n",
        "                )\n",
        "\n",
        "plt.legend()\n",
        "plt.show()"
      ]
    },
    {
      "cell_type": "code",
      "execution_count": 270,
      "metadata": {
        "colab": {
          "base_uri": "https://localhost:8080/"
        },
        "id": "I5zVrYyyF0yq",
        "outputId": "095c1230-6e2a-48ca-9252-ee27c016f45a"
      },
      "outputs": [
        {
          "name": "stdout",
          "output_type": "stream",
          "text": [
            "   f1-score  support  encoded_label label\n",
            "0  0.988883   2754.0             10    DT\n",
            "1  0.944444     34.0             11    EX\n",
            "2  0.000000      2.0             12    FW\n",
            "3  0.967401   3275.0             13    IN\n",
            "4  0.754839   1924.0             14    JJ\n"
          ]
        }
      ],
      "source": [
        "# Get a dataframe from the report of the last model on the validation set\n",
        "df_report = pd.DataFrame.from_records(report).transpose()\n",
        "\n",
        "# Add encoded_labels to the report doing a merge, drop not label rows\n",
        "df_report['encoded_label'] = df_report.index\n",
        "df_report = df_report[df_report[['encoded_label']].apply(lambda x: x[0].isdigit(), axis=1)]\n",
        "df_report['encoded_label'] = pd.to_numeric(df_report['encoded_label'])\n",
        "df_report.reset_index(drop=True, inplace=True)\n",
        "\n",
        "df_rep_encod = pd.merge(left=df_report, right=df_labels, how=\"inner\", on = \"encoded_label\")\n",
        "df_rep_encod.drop([\"precision\", \"recall\"], axis=1, inplace=True) \n",
        "print(df_rep_encod.head())\n",
        "\n"
      ]
    },
    {
      "cell_type": "code",
      "execution_count": 271,
      "metadata": {
        "colab": {
          "base_uri": "https://localhost:8080/",
          "height": 576
        },
        "id": "DyeMQy5jYPiJ",
        "outputId": "78cbdd7c-6ce6-455b-b608-7db8e118a719"
      },
      "outputs": [
        {
          "data": {
            "text/plain": [
              "<Figure size 1500x200 with 0 Axes>"
            ]
          },
          "metadata": {},
          "output_type": "display_data"
        },
        {
          "data": {
            "image/png": "[encoded data removed]",
            "text/plain": [
              "<Figure size 640x480 with 1 Axes>"
            ]
          },
          "metadata": {},
          "output_type": "display_data"
        },
        {
          "data": {
            "image/png": "[encoded data removed]",
            "text/plain": [
              "<Figure size 640x480 with 1 Axes>"
            ]
          },
          "metadata": {},
          "output_type": "display_data"
        }
      ],
      "source": [
        "# Plot \n",
        "plt.figure(figsize=(15,2))\n",
        "df_rep_encod.plot(x=\"support\", y=\"f1-score\", style=\"o\")\n",
        "df_rep_encod.sort_values(\"f1-score\", inplace= True)\n",
        "df_rep_encod.plot(x=\"label\", y=\"f1-score\", kind=\"bar\", sort_columns=True)\n",
        "plt.show()"
      ]
    },
    {
      "cell_type": "markdown",
      "metadata": {
        "id": "IGKUa36YdC1P"
      },
      "source": [
        "The f1 score is not support related, there are example with few instances with high f1 score, and viceversa.\n",
        "\n",
        "Without considering the '#' label, not considered in the evaluation, it's possible to see that the classes 'UH', 'FW' and 'LS', which are present in the validation set but not in the test set, are the ones with a null F1-score, decreasing the average."
      ]
    },
    {
      "cell_type": "code",
      "execution_count": 272,
      "metadata": {
        "colab": {
          "base_uri": "https://localhost:8080/",
          "height": 505
        },
        "id": "d148Pvf_dYT6",
        "outputId": "e3dfe7b8-89f5-44f8-9f86-2f5491342065"
      },
      "outputs": [
        {
          "name": "stdout",
          "output_type": "stream",
          "text": [
            "    f1-score   support  encoded_label label\n",
            "22  0.000000  0.000000             33    UH\n",
            "2   0.000000  0.000000             12    FW\n",
            "7   0.000000  0.000222             17    LS\n",
            "13  0.000000  0.002660             23   PDT\n",
            "11  0.034188  0.022833             21  NNPS\n",
            "The classes not present in the test set but in the validation\n",
            "word             7\n",
            "label            7\n",
            "encoded_label    7\n",
            "dtype: int64\n"
          ]
        },
        {
          "data": {
            "text/plain": [
              "<Figure size 1500x500 with 0 Axes>"
            ]
          },
          "metadata": {},
          "output_type": "display_data"
        },
        {
          "data": {
            "image/png": "[encoded data removed]",
            "text/plain": [
              "<Figure size 640x480 with 1 Axes>"
            ]
          },
          "metadata": {},
          "output_type": "display_data"
        }
      ],
      "source": [
        "dfc_val_labels = dfc_val[~dfc_val[\"label\"].isin(punctuation_classes)]\n",
        "plt.figure(figsize=(15,5))\n",
        "\n",
        "#normalize the support values\n",
        "df_rep_encod['support'] = (df_rep_encod['support'] - df_rep_encod['support'].min())/(df_rep_encod['support'].max()-df_rep_encod['support'].min()) \n",
        "print(df_rep_encod.head())\n",
        "\n",
        "# Plot the F1 score and the normalized label's count (support) with a threshold\n",
        "df_rep_encod[df_rep_encod[\"f1-score\"] <= 0.7].plot(x=\"label\", y=[\"f1-score\", \"support\"], kind=\"bar\")\n",
        "\n",
        "# Count the classes only present in the validation\n",
        "count_label_val_notest = dfc_val_test = dfc_val_labels[dfc_val_labels[\"label\"].isin(val_not_test_labels)].count()\n",
        "print(f\"The classes not present in the test set but in the validation\\n{count_label_val_notest}\")"
      ]
    },
    {
      "cell_type": "markdown",
      "metadata": {
        "id": "-E8Qy88Q3af4"
      },
      "source": [
        "It is possible to observe that UH (Interjection), LS (List item marker) and FW (Foreign word) labels, cointaned in the validation set but not in the test set have a null f1-score even with a few example (7), decreasing the average of the validation set by a lot."
      ]
    },
    {
      "cell_type": "markdown",
      "metadata": {
        "id": "D_VYs8jR3af5"
      },
      "source": [
        "Let's check the test report to see if there are important variation on the F1-score of each class"
      ]
    },
    {
      "cell_type": "code",
      "execution_count": 273,
      "metadata": {
        "colab": {
          "base_uri": "https://localhost:8080/"
        },
        "id": "rFtoouNg3af5",
        "outputId": "6a010ca8-8b3f-4eaa-8e48-c497c85f5094"
      },
      "outputs": [
        {
          "name": "stdout",
          "output_type": "stream",
          "text": [
            "   f1-score  support  encoded_label label\n",
            "0  0.988333   1335.0             10    DT\n",
            "1  0.909091      5.0             11    EX\n",
            "2  0.968037   1630.0             13    IN\n",
            "3  0.731000    918.0             14    JJ\n",
            "4  0.752475     59.0             15   JJR\n"
          ]
        }
      ],
      "source": [
        "# Get a dataframe from the report on test set, obtained from the baseline model\n",
        "df_report_test = pd.DataFrame.from_records(report_test).transpose()\n",
        "\n",
        "df_report_test['encoded_label'] = df_report_test.index\n",
        "df_report_test = df_report_test[df_report_test[['encoded_label']].apply(lambda x: x[0].isdigit(), axis=1)]\n",
        "df_report_test['encoded_label'] = pd.to_numeric(df_report_test['encoded_label'])\n",
        "df_report_test.reset_index(drop=True, inplace=True)\n",
        "\n",
        "df_rep_encod_test = pd.merge(left=df_report_test, right=df_labels, how=\"inner\", on = \"encoded_label\")\n",
        "df_rep_encod_test.drop([\"precision\", \"recall\"], axis=1, inplace=True) \n",
        "\n",
        "print(df_rep_encod_test.head())\n"
      ]
    },
    {
      "cell_type": "code",
      "execution_count": 274,
      "metadata": {
        "id": "Zm4tbpHV3af5"
      },
      "outputs": [],
      "source": [
        "#normalize the support values\n",
        "df_rep_encod_test['support'] = (df_rep_encod_test['support'] - df_rep_encod_test['support'].min())/(df_rep_encod_test['support'].max()-df_rep_encod_test['support'].min()) "
      ]
    },
    {
      "cell_type": "code",
      "execution_count": 275,
      "metadata": {
        "colab": {
          "base_uri": "https://localhost:8080/",
          "height": 699
        },
        "id": "AdSFW1L23af5",
        "outputId": "fd3783c4-96ed-48f8-b3b2-bade374da979"
      },
      "outputs": [
        {
          "name": "stdout",
          "output_type": "stream",
          "text": [
            "   f1-score val  support val  encoded_label label  f1-score test  support test\n",
            "0      0.988333     0.559664             10    DT       0.988883      0.610064\n",
            "1      0.909091     0.000840             11    EX       0.944444      0.007094\n",
            "2      0.968037     0.683613             13    IN       0.967401      0.725560\n",
            "3      0.731000     0.384454             14    JJ       0.754839      0.426070\n",
            "4      0.752475     0.023529             15   JJR       0.695312      0.036134\n"
          ]
        },
        {
          "data": {
            "text/plain": [
              "<AxesSubplot:xlabel='label'>"
            ]
          },
          "execution_count": 275,
          "metadata": {},
          "output_type": "execute_result"
        },
        {
          "data": {
            "image/png": "[encoded data removed]",
            "text/plain": [
              "<Figure size 640x480 with 1 Axes>"
            ]
          },
          "metadata": {},
          "output_type": "display_data"
        },
        {
          "data": {
            "image/png": "[encoded data removed]",
            "text/plain": [
              "<Figure size 640x480 with 1 Axes>"
            ]
          },
          "metadata": {},
          "output_type": "display_data"
        }
      ],
      "source": [
        "df_full_report = pd.merge(right=df_rep_encod,  \n",
        "                            left=df_rep_encod_test,\n",
        "                            suffixes=[\" val\",\" test\"],\n",
        "                            how=\"inner\", \n",
        "                            on=[\"encoded_label\",\"label\"])\n",
        "print(df_full_report.head())\n",
        "df_full_report.plot(x=\"label\", y=[\"f1-score val\", \"f1-score test\"], kind=\"bar\")\n",
        "df_full_report.plot(x=\"label\", y=[\"support val\", \"support test\"], kind=\"bar\")"
      ]
    },
    {
      "cell_type": "markdown",
      "metadata": {
        "id": "PBEu0uK-3af6"
      },
      "source": [
        "F1 score compared between validation and test it's quite similar for every label, except for a few variations."
      ]
    },
    {
      "attachments": {},
      "cell_type": "markdown",
      "metadata": {},
      "source": [
        "Checking errors"
      ]
    },
    {
      "cell_type": "code",
      "execution_count": 292,
      "metadata": {},
      "outputs": [
        {
          "name": "stdout",
          "output_type": "stream",
          "text": [
            "Starting prediction: \n",
            "{'batch_size': 64, 'verbose': 1}\n",
            "Predicting on 15545 samples\n",
            "243/243 [==============================] - 1s 3ms/step\n",
            "Word                  Pred    Test\n",
            "--------------------  ------  ------\n",
            "intelogic             JJ      NNP\n",
            "trace                 VBP     NNP\n",
            "intelogic             JJ      NNP\n",
            "chairman              NN      NNP\n",
            "run                   VB      NN\n",
            "computer-services     JJ      NNS\n",
            "intelogic             JJ      NNP\n",
            "followed              VBD     VBN\n",
            "intelogic             JJ      NNP\n",
            "stock                 NN      NNP\n",
            "intelogic             JJ      NNP\n",
            "specify               VBN     VB\n",
            "prompted              VBN     VBD\n",
            "meant                 VB      VBN\n",
            "roll                  VB      NN\n",
            "do                    VBP     VB\n",
            "above-market          NNP     JJ\n",
            "prove                 VB      VBP\n",
            "extended              JJ      VBD\n",
            "18-a-share            NNP     JJ\n",
            "telerate              VBG     NNP\n",
            "p.m.                  NNP     NN\n",
            "telerate              VBG     NNP\n",
            "own                   JJ      VBN\n",
            "expire                VBP     VB\n",
            "telerate              VBG     NNP\n",
            "telerate              VBG     NNP\n",
            "stock                 NN      NNP\n",
            "telerate              VBG     NNP\n",
            "telerate              VBG     NNP\n",
            "the                   DT      NNP\n",
            "community             NNP     NN\n",
            "news                  NNP     NN\n",
            "computer              NNP     NN\n",
            "reported              VBN     VBD\n",
            "operating             VBG     NN\n",
            "printing-press        JJ      NN\n",
            "indicated             VBN     VBD\n",
            "half                  NN      DT\n",
            "trail                 NN      VB\n",
            "heavy-truck           JJ      NN\n",
            "passenger-car         JJ      NN\n",
            "half                  NN      DT\n",
            "operating             VBG     NN\n",
            "630.9                 NNP     CD\n",
            "that                  IN      DT\n",
            "gain                  VB      NN\n",
            "sewing-machine        JJ      NN\n",
            "made                  VBN     VBD\n",
            "cited                 VBN     VBD\n",
            "showing               VBG     NN\n",
            "emerged               JJ      VBD\n",
            "graphics              NN      NNS\n",
            "singled               NNP     VBN\n",
            "operating             VBG     NN\n",
            "jump                  NN      VB\n",
            "colorliner            JJ      NNP\n",
            "newspaper-printing    NNP     NN\n",
            "graphics              NN      NNS\n",
            "b-1b                  JJ      NN\n",
            "rolled                VBN     VBD\n",
            "out                   RP      IN\n",
            "that                  IN      DT\n",
            "resumption            JJ      NN\n",
            "expendable            VBN     JJ\n",
            "launch-vehicle        NNP     NN\n",
            "hits                  VBZ     NNS\n",
            "c-130                 CD      NN\n",
            "net                   JJ      NN\n",
            "734.9                 NNP     CD\n",
            "down                  RB      IN\n",
            "811.9                 NNP     CD\n",
            "cut                   VB      VBD\n",
            "computer              NNP     NN\n",
            "include               VB      VBP\n",
            "computer              NNP     NN\n",
            "512                   NNP     CD\n",
            "kilobytes             NN      NNS\n",
            "monitor               VB      NN\n",
            "that                  IN      DT\n",
            "computer              NNP     NN\n",
            "megabytes             NN      NNS\n",
            "100-megabyte          NNP     JJ\n",
            "5,699                 JJ      CD\n",
            "6,799                 NNP     CD\n",
            "computer              NNP     NN\n",
            "use                   VB      VBP\n",
            "down                  RB      IN\n",
            "world                 NNP     NN\n",
            "rumors                JJ      NNS\n",
            "ship                  NN      VB\n",
            "have                  VBP     VB\n",
            "may                   MD      NNP\n",
            "may                   MD      NNP\n",
            "restraints            JJ      NNS\n",
            "gain                  VB      NN\n",
            "daily                 NNP     JJ\n",
            "near-limit            NNP     JJ\n",
            "news                  NNP     NN\n",
            "export                NN      VB\n",
            "may                   MD      NNP\n",
            "so                    RB      IN\n",
            "securities            NNS     NNPS\n",
            "estimated             VBN     VBD\n",
            "more                  RBR     JJR\n",
            "run                   VB      VBP\n",
            "gasoline              NNS     NN\n",
            "that                  IN      WDT\n",
            "regardless            JJ      RB\n",
            "third-largest         NN      JJ\n",
            "fifth-largest         VBZ     JJ\n",
            "world                 NNP     NN\n",
            "more                  RBR     JJR\n",
            "less                  RBR     JJR\n",
            "news                  NNP     NN\n",
            "drastic               NN      JJ\n",
            "total                 JJ      VB\n",
            "contrast              JJ      NN\n",
            "that                  IN      WDT\n",
            "right                 NN      RB\n",
            "earlier               JJR     RB\n",
            "ship                  NN      VB\n",
            "have                  VBP     VB\n",
            "begun                 VBG     VBN\n",
            "little                RB      JJ\n",
            "more                  RBR     JJR\n",
            "switch                VB      NN\n",
            "planting              VBG     NN\n",
            "that                  IN      WDT\n",
            "cane                  NNP     NN\n",
            "felt                  VBD     VBN\n",
            "noted                 VBN     VBD\n",
            "as                    IN      RB\n",
            "am                    JJ      VBP\n",
            "above                 RB      IN\n",
            "noted                 VBN     VBD\n",
            "confused              JJ      VBN\n",
            "enough                RB      JJ\n",
            "'s                    POS     VBZ\n",
            "one                   CD      NN\n",
            "observed              VBN     VBD\n",
            "complicated           JJ      VBN\n",
            "ago                   RB      IN\n",
            "fuel                  NN      VB\n",
            "national              NNP     JJ\n",
            "fleet                 NNP     NN\n",
            "weigh                 VBP     VB\n",
            "high                  NNP     JJ\n",
            "had                   VBD     VBN\n",
            "world                 NNP     NN\n",
            "noted                 VBN     VBD\n",
            "said                  VBD     VBN\n",
            "needs                 VBZ     NNS\n",
            "commodity             NNP     NN\n",
            "energy                NN      NNP\n",
            "heating               VBG     NN\n",
            "heating               VBG     NN\n",
            "increased             VBN     VBD\n",
            "gasoline              NNS     NN\n",
            "heating               VBG     NN\n",
            "helped                VBN     VBD\n",
            "up                    RB      RP\n",
            "intermediate          JJ      NNP\n",
            "heating               VBG     NN\n",
            "weather               JJ      NN\n",
            "american              JJ      NNP\n",
            "grains                NNS     NNPS\n",
            "and                   CC      NNP\n",
            "soybeans              NNS     NNPS\n",
            "light                 NN      JJ\n",
            "continued             VBN     VBD\n",
            "observance            JJ      NN\n",
            "all                   DT      NNP\n",
            "day                   NN      NNP\n",
            "much                  RB      JJ\n",
            "supported             VBN     VBD\n",
            "turned                VBN     VBD\n",
            "rumors                JJ      NNS\n",
            "soviet                JJ      NNP\n",
            "verge                 VBG     NN\n",
            "favored               VBN     JJ\n",
            "that                  IN      DT\n",
            "soviets               NNS     NNPS\n",
            "purchase              NN      VB\n",
            "soviets               NNS     NNPS\n",
            "need                  VBP     VB\n",
            "up                    RB      RP\n",
            "record                NN      JJ\n",
            "bushels               VBN     NNS\n",
            "advanced              JJ      VBD\n",
            "1.1650                NNP     CD\n",
            "most                  RBS     JJS\n",
            "carried               VBN     VBD\n",
            "over                  IN      RP\n",
            "ignored               VBN     VBD\n",
            "mine                  NNP     JJ\n",
            "have                  VBP     VB\n",
            "ended                 VBD     VBN\n",
            "news                  NNP     NN\n",
            "most                  RBS     JJS\n",
            "mines                 NNP     NNS\n",
            "agreed                VBN     VBD\n",
            "new                   NNP     JJ\n",
            "that                  IN      WDT\n",
            "increase              VB      NN\n",
            "new                   NNP     JJ\n",
            "reported              VBN     VBD\n",
            "papua-new             NN      NNP\n",
            "parliament            NN      NNP\n",
            "state                 NNP     NN\n",
            "copper-rich           NNP     JJ\n",
            "copper                NNP     NN\n",
            "mine                  NNP     NN\n",
            "may                   MD      NNP\n",
            "native                NNP     JJ\n",
            "papua-new             NN      NNP\n",
            "parent                NNP     NN\n",
            "department            NNP     NN\n",
            "equitable             JJ      NNP\n",
            "free                  NNP     VB\n",
            "up                    RB      RP\n",
            "equitable             JJ      NNP\n",
            "fair                  NNP     JJ\n",
            "younkers              NNP     NNS\n",
            "rang                  NNP     VBD\n",
            "up                    RB      RP\n",
            "equitable             JJ      NNP\n",
            "equitable             JJ      NNP\n",
            "less                  RBR     JJR\n",
            "investment            NN      NNP\n",
            "limited               VBN     NNP\n",
            "proposed              VBD     VBN\n",
            "new                   NNP     JJ\n",
            "capital               NN      NNP\n",
            "new                   NNP     JJ\n",
            "western               NNP     JJ\n",
            "boots                 NNP     NNS\n",
            "preferred             JJ      VBN\n",
            "subject               NN      JJ\n",
            "committee             NNP     NN\n",
            "reupke                JJ      NNP\n",
            "general               NNP     JJ\n",
            "news                  NNP     NN\n",
            "organization          NNP     NN\n",
            "termed                VBN     VBD\n",
            "reupke                JJ      NNP\n",
            "veteran               JJ      NN\n",
            "information-services  JJ      NNS\n",
            "general               NNP     JJ\n",
            "that                  IN      DT\n",
            "several-year          NNP     JJ\n",
            "reupke                JJ      NNP\n",
            "split                 JJ      VBN\n",
            "telephone             NNP     NN\n",
            "reupke                JJ      NNP\n",
            "reasons               JJ      NNS\n",
            "specify               VBN     VB\n",
            "rejected              VBN     VBD\n",
            "stemmed               VBN     VBD\n",
            "general               NNP     JJ\n",
            "led                   VBD     VBN\n",
            "directorship          NNP     NN\n",
            "news                  NNP     NN\n",
            "organization          NNP     NN\n",
            "reupke                JJ      NNP\n",
            "committee             NNP     NN\n",
            "choosing              VB      VBG\n",
            "tomorrow              VB      NN\n",
            "have                  VBP     VB\n",
            "mark                  NN      NNP\n",
            "drew                  VBD     NNP\n",
            "suspect               NN      VBP\n",
            "signals               NNS     VBZ\n",
            "stock                 NN      NNP\n",
            "depositary            JJ      NN\n",
            "43.875                NNP     CD\n",
            "senior                JJ      NN\n",
            "reupke                JJ      NNP\n",
            "finance               NNP     NN\n",
            "deputy                NN      JJ\n",
            "general               NNP     JJ\n",
            "international         NNP     JJ\n",
            "group                 NNP     NN\n",
            "dd                    CD      NNP\n",
            "acquisition           NN      NNP\n",
            "partnership           NNP     NN\n",
            "capital               NN      NNP\n",
            "operations            NNS     NNPS\n",
            "extended              JJ      VBD\n",
            "45-a-share            NNP     JJ\n",
            "donuts                NNP     NNPS\n",
            "expire                VBP     VB\n",
            "dd                    CD      NNP\n",
            "acquisition           NN      NNP\n",
            "claims                NNS     VBZ\n",
            "dd                    CD      NNP\n",
            "acquisition           NN      NNP\n",
            "hold                  VB      VBP\n",
            "dd                    CD      NNP\n",
            "acquisition           NN      NNP\n",
            "reported              VBN     VBD\n",
            "third-quarter         JJ      NN\n",
            "year-earlier          NNP     JJ\n",
            "nonrecurring          JJ      VBG\n",
            "asset-valuation       JJ      NN\n",
            "described             VBN     VBD\n",
            "gain                  VB      NN\n",
            "cited                 VBN     VBD\n",
            "general               NNP     JJ\n",
            "hadson                JJ      NNP\n",
            "report                NN      VB\n",
            "third-quarter         JJ      NN\n",
            "record                NN      VB\n",
            "reserve               NNP     NN\n",
            "group                 NNP     NN\n",
            "related               JJ      VBN\n",
            "overhead              NN      JJ\n",
            "that                  IN      WDT\n",
            "hadson                JJ      NNP\n",
            "related               JJ      VBN\n",
            "international         NNP     JJ\n",
            "cited                 VBN     VBD\n",
            "amortization          JJ      NN\n",
            "hampered              VBN     VBD\n",
            "boosted               VBN     VBD\n",
            "profit-taking         JJ      NN\n",
            "weighed               VBN     VBD\n",
            "blue-chips            NNP     NNS\n",
            "bearing               NN      VBG\n",
            "selling               VBG     NN\n",
            "industrial            JJ      NNP\n",
            "average               JJ      NNP\n",
            "jumped                VBD     VBN\n",
            "either                CC      DT\n",
            "close                 VB      NN\n",
            "gain                  VB      NN\n",
            "2645.90               NNP     CD\n",
            "poor                  JJ      NNP\n",
            "500-stock             JJ      NNP\n",
            "index                 NN      NNP\n",
            "341.20                NNP     CD\n",
            "rise                  VB      NN\n",
            "equivalent            NN      JJ\n",
            "gain                  VB      NN\n",
            "average               JJ      NN\n",
            "equity                NN      NNP\n",
            "market                NN      NNP\n",
            "index                 NN      NNP\n",
            "319.75                JJ      CD\n",
            "stock                 NN      NNP\n",
            "composite             JJ      NNP\n",
            "index                 NN      NNP\n",
            "up                    RB      IN\n",
            "188.84                NNP     CD\n",
            "decliners             CD      NNS\n",
            "stock                 NN      NNP\n",
            "big                   JJ      NNP\n",
            "board                 NN      NNP\n",
            "amounted              JJ      VBD\n",
            "154,240,000           JJ      CD\n",
            "down                  RB      IN\n",
            "subdued               JJ      VBN\n",
            "above                 RB      IN\n",
            "have                  VBP     VB\n",
            "manufacturing         NN      VBG\n",
            "proving               JJ      VBG\n",
            "better                RBR     JJR\n",
            "tomorrow              VB      NN\n",
            "firmed                NNS     VBD\n",
            "'s                    POS     VBZ\n",
            "pains                 NN      NNS\n",
            "securities            NNS     NNPS\n",
            "'                     POS     ''\n",
            "arbitrage-related     NNP     JJ\n",
            "buy                   VB      NN\n",
            "close                 VB      NN\n",
            "helped                VBN     VBD\n",
            "offset                VBN     VB\n",
            "profit-taking         JJ      NN\n",
            "blue                  NNP     JJ\n",
            "subdued               JJ      VBN\n",
            "tomorrow              VB      NN\n",
            "point                 NN      VB\n",
            "sense                 NN      VBP\n",
            "come                  VB      VBP\n",
            "out                   RP      IN\n",
            "associates            NNS     NNPS\n",
            "3\\/8                  JJ      CD\n",
            "1\\/8                  JJ      CD\n",
            "sparked               VBN     VBD\n",
            "revival               JJ      NN\n",
            "rumors                JJ      NNS\n",
            "become                VBN     VB\n",
            "securities            NNS     NNPS\n",
            "boosted               VBN     VBD\n",
            "new                   NNP     JJ\n",
            "that                  IN      DT\n",
            "'s                    POS     VBZ\n",
            "oriented              RB      VBN\n",
            "rumored               RB      VBN\n",
            "restructuring         NN      VBG\n",
            "3\\/4                  JJ      CD\n",
            "1\\/2                  NNP     CD\n",
            "products              NNS     NNPS\n",
            "3\\/4                  JJ      CD\n",
            "1\\/4                  NNP     CD\n",
            "communications        NNS     NNPS\n",
            "7\\/8                  JJ      CD\n",
            "5\\/8                  NNP     CD\n",
            "3\\/4                  JJ      CD\n",
            "rumored               RB      VBN\n",
            "advanced              JJ      VBD\n",
            "7\\/8                  JJ      CD\n",
            "7\\/8                  JJ      CD\n",
            "plans                 NNS     VBZ\n",
            "fourth-quarter        JJ      NN\n",
            "specify               VBN     VB\n",
            "3\\/4                  JJ      CD\n",
            "1\\/8                  JJ      CD\n",
            "rumors                JJ      NNS\n",
            "mount                 NNP     VB\n",
            "new                   NNP     JJ\n",
            "parent                NNP     NN\n",
            "american              JJ      NNP\n",
            "airlines              NNS     NNPS\n",
            "1\\/2                  NNP     CD\n",
            "parent                NNP     NN\n",
            "airlines              NNS     NNPS\n",
            "failed                VBD     VBN\n",
            "300-a-share           NNP     JJ\n",
            "labor-management      JJ      NN\n",
            "group                 NNP     NN\n",
            "3\\/4                  JJ      CD\n",
            "1\\/4                  NNP     CD\n",
            "industries            NNP     NNPS\n",
            "own                   JJ      VB\n",
            "3\\/4                  JJ      CD\n",
            "great                 JJ      NNP\n",
            "1\\/8                  JJ      CD\n",
            "launched              VBN     VBD\n",
            "3\\/8                  JJ      CD\n",
            "1\\/2                  NNP     CD\n",
            "big                   JJ      NNP\n",
            "board                 NN      NNP\n",
            "composite             JJ      NN\n",
            "down                  RB      IN\n",
            "1\\/2                  NNP     CD\n",
            "1\\/2                  NNP     CD\n",
            "3\\/8                  JJ      CD\n",
            "forest-products       NNP     NNS\n",
            "3\\/4                  JJ      CD\n",
            "1\\/2                  NNP     CD\n",
            "federal               JJ      NNP\n",
            "paper                 NN      NNP\n",
            "board                 NN      NNP\n",
            "1\\/2                  NNP     CD\n",
            "3\\/8                  JJ      CD\n",
            "paper                 NN      NNP\n",
            "1\\/2                  NNP     CD\n",
            "3\\/8                  JJ      CD\n",
            "paper                 NN      NNP\n",
            "7\\/8                  JJ      CD\n",
            "7\\/8                  JJ      CD\n",
            "3\\/8                  JJ      CD\n",
            "1\\/2                  NNP     CD\n",
            "1\\/8                  JJ      CD\n",
            "1\\/4                  NNP     CD\n",
            "3\\/4                  JJ      CD\n",
            "3\\/8                  JJ      CD\n",
            "changed               VBN     VBD\n",
            "most                  RBS     JJS\n",
            "1\\/8                  JJ      CD\n",
            "3\\/4                  JJ      CD\n",
            "real-estate           JJ      NN\n",
            "forecast              NN      VBD\n",
            "fourth-quarter        JJ      NN\n",
            "up                    RB      IN\n",
            "1\\/2                  NNP     CD\n",
            "3\\/8                  JJ      CD\n",
            "food                  NN      NNP\n",
            "drug                  NN      NNP\n",
            "administration        NN      NNP\n",
            "allowed               VBN     VBD\n",
            "marketing             NN      VBG\n",
            "new                   NNP     JJ\n",
            "use                   VB      NN\n",
            "cataract              NNP     NN\n",
            "american              JJ      NNP\n",
            "stock                 NN      NNP\n",
            "market                NN      NNP\n",
            "value                 NN      NNP\n",
            "index                 NN      NNP\n",
            "372.14                NNP     CD\n",
            "11,390,000            NNP     CD\n",
            "old                   JJ      NNP\n",
            "spaghetti             NN      NNP\n",
            "warehouse             NN      NNP\n",
            "1\\/8                  JJ      CD\n",
            "ago                   RB      IN\n",
            "energy                NN      NNP\n",
            "partners              NNS     NNPS\n",
            "partnership           NNP     NN\n",
            "exchange              NNP     NN\n",
            "partnership           NNP     NN\n",
            "have                  VBP     VB\n",
            "diversified           VBN     JJ\n",
            "partnership           NNP     NN\n",
            "exchange              NNP     VB\n",
            "entity                JJ      NN\n",
            "energy                NN      NNP\n",
            "partners              NNS     NNP\n",
            "new                   NNP     JJ\n",
            "partnership           NNP     NN\n",
            "trust                 NNP     NN\n",
            "parent                NNP     NN\n",
            "second-largest        NN      JJ\n",
            "parent                NNP     NN\n",
            "pretax                JJ      NN\n",
            "half                  NN      DT\n",
            "yen                   NNS     NN\n",
            "618.1                 NNP     CD\n",
            "yen                   NNS     NN\n",
            "cited                 VBN     VBD\n",
            "backdrop              JJ      NN\n",
            "yen                   NNS     NN\n",
            "yen                   NNS     NN\n",
            "yen                   NNS     NN\n",
            "yen                   NNS     NN\n",
            "1.916                 NNP     CD\n",
            "yen                   NNS     NN\n",
            "1.637                 NNP     CD\n",
            "yen                   NNS     NN\n",
            "year-earlier          NNP     JJ\n",
            "scheduled             VBN     VBD\n",
            "executive             NN      JJ\n",
            "remarkable            NN      JJ\n",
            "yen                   NNS     NN\n",
            "caused                VBN     VBD\n",
            "difficulties          VBG     NNS\n",
            "said                  VBD     VBN\n",
            "own                   JJ      VB\n",
            "exchange              NNP     VB\n",
            "new                   NNP     JJ\n",
            "preferred             JJ      VBN\n",
            "own                   JJ      VB\n",
            "depending             RB      VBG\n",
            "prior                 VBG     RB\n",
            "issue                 NN      VB\n",
            "preferred             JJ      VBN\n",
            "estimated             VBN     VBD\n",
            "national              NNP     JJ\n",
            "preferred             JJ      VBN\n",
            "have                  VBP     VB\n",
            "preferred             JJ      VBD\n",
            "national              NNP     JJ\n",
            "customized            JJ      VBN\n",
            "advertising           NN      VBG\n",
            "live                  VBP     JJ\n",
            "radio                 NNP     NN\n",
            "radio                 NNP     NN\n",
            "hurt                  VB      VBN\n",
            "report                NN      VB\n",
            "fourth-quarter        JJ      NN\n",
            "that                  IN      DT\n",
            "include               VB      VBP\n",
            "net                   JJ      NN\n",
            "exceed                VBP     VB\n",
            "net                   JJ      NN\n",
            "come                  VB      VBP\n",
            "run                   VB      VBN\n",
            "that                  IN      WDT\n",
            "cluster               NNS     NN\n",
            "ordnance              NN      NNP\n",
            "third-quarter         JJ      NN\n",
            "gain                  VB      NN\n",
            "reflected             VBN     VBD\n",
            "gain                  VB      NN\n",
            "finance               NNP     NN\n",
            "third-quarter         JJ      NN\n",
            "reflected             VBN     VBD\n",
            "hurricane             JJ      NNP\n",
            "estimated             VBN     VBD\n",
            "no                    DT      RB\n",
            "more                  RBR     JJR\n",
            "included              VBD     VBN\n",
            "fourth-quarter        JJ      NN\n",
            "hasbrouk              JJ      NNP\n",
            "financing             NN      VBG\n",
            "waivers               NNP     NNS\n",
            "debenture             JJ      NN\n",
            "softening             NN      VBG\n",
            "plastic               NN      JJ\n",
            "158,666               JJ      CD\n",
            "year-earlier          NNP     JJ\n",
            "26,956                JJ      CD\n",
            "reported              VBN     VBD\n",
            "608,413               JJ      CD\n",
            "year-earlier          NNP     JJ\n",
            "967,809               JJ      CD\n",
            "sold                  VBN     VBD\n",
            "multinational         NN      JJ\n",
            "lent                  VBN     VBD\n",
            "that                  IN      DT\n",
            "extended              JJ      VBN\n",
            "group                 NNP     NN\n",
            "increase              VB      NN\n",
            "holding               VBG     NNP\n",
            "offering              VBG     NN\n",
            "worth                 IN      NN\n",
            "acquisition-minded    NNP     JJ\n",
            "jeweler               NNP     NN\n",
            "jeweler               NNP     NN\n",
            "outbid                NNP     VB\n",
            "identified            VBN     VBD\n",
            "benefit               VB      NN\n",
            "mid-afternoon         NNS     JJ\n",
            "sweetened             VBD     VBN\n",
            "acceptances           -RRB-   NNS\n",
            "87-store              NNP     JJ\n",
            "carnival              NN      NNP\n",
            "lines                 NNS     NNP\n",
            "cruise                NNP     NN\n",
            "carnival              NN      NNP\n",
            "disclosed             VBN     VBD\n",
            "waertsilae            JJ      NNP\n",
            "marine                NN      NNP\n",
            "industries            NNP     NNPS\n",
            "shipyard              NNP     NN\n",
            "that                  IN      WDT\n",
            "carnival              NN      NNP\n",
            "new                   NNP     JJ\n",
            "cruise                NNP     NN\n",
            "planned               VBN     VBD\n",
            "carnival              NN      NNP\n",
            "new                   NNP     JJ\n",
            "that                  IN      WDT\n",
            "on                    IN      RP\n",
            "waertsilae            JJ      NNP\n",
            "shipbuilding          NNP     NN\n",
            "carnival              NN      NNP\n",
            "new                   NNP     JJ\n",
            "carnival              NN      NNP\n",
            "fantasy               NN      NNP\n",
            "2,050-passenger       NNP     JJ\n",
            "that                  IN      WDT\n",
            "slated                JJ      VBN\n",
            "early                 JJ      RB\n",
            "carnival              NN      NNP\n",
            "that                  IN      DT\n",
            "shipyard              NNP     NN\n",
            "carnival              NN      NNP\n",
            "federal               JJ      NNP\n",
            "savings               NN      NNP\n",
            "loan                  NN      NNP\n",
            "reported              VBN     VBD\n",
            "third-quarter         JJ      NN\n",
            "ago                   RB      IN\n",
            "pretax                JJ      NN\n",
            "write-off             JJ      NN\n",
            "capitalized           RB      VBN\n",
            "servicing             VBG     NN\n",
            "financing             NN      VBG\n",
            "future                NN      JJ\n",
            "federal               JJ      NNP\n",
            "realestate            CD      VB\n",
            "will                  MD      NN\n",
            "association           NNP     NN\n",
            "federal               JJ      NNP\n",
            "new                   NNP     JJ\n",
            "continue              VB      VBP\n",
            "slow                  JJ      VB\n",
            "361.8                 NNP     CD\n",
            "ago                   RB      IN\n",
            "first                 JJ      NNP\n",
            "bank                  NN      NNP\n",
            "completed             VBN     VBD\n",
            "midwest               NN      NNP\n",
            "financial             JJ      NNP\n",
            "first                 JJ      NNP\n",
            "midwest               NN      NNP\n",
            "financial             JJ      NNP\n",
            "midwest               NN      NNP\n",
            "financial             JJ      NNP\n",
            "operate               VBP     VB\n",
            "first                 JJ      NNP\n",
            "mich.-based           NNP     JJ\n",
            "first                 JJ      NNP\n",
            "midwest               NN      NNP\n",
            "financial             JJ      NNP\n",
            "parent                NNP     NN\n",
            "first                 JJ      NNP\n",
            "first                 JJ      NNP\n",
            "first                 JJ      NNP\n",
            "operating             VBG     NN\n",
            "industries            NNP     NNPS\n",
            "toy                   NNP     NN\n",
            "peaked                VBD     JJ\n",
            "1980s                 NNS     CD\n",
            "filed                 VBN     VBD\n",
            "that                  IN      WDT\n",
            "industries            NNP     NNPS\n",
            "hit                   NN      VBD\n",
            "high                  NNP     JJ\n",
            "unveiled              VBN     VBD\n",
            "computer              NNP     NN\n",
            "fortunes              VBN     NNS\n",
            "back                  RB      RP\n",
            "patch                 NN      NNP\n",
            "dolls                 NNP     NNS\n",
            "hit                   NN      VBD\n",
            "up                    RB      RP\n",
            "winner                NNP     NN\n",
            "filed                 VBN     VBD\n",
            "bankruptcy-law        NNP     JJ\n",
            "contras               JJ      NNPS\n",
            "u.s.-backed           NN      JJ\n",
            "suspended             VBN     VBD\n",
            "19-month-old          NNP     JJ\n",
            "cease-fire            JJ      NN\n",
            "accused               VBN     VBD\n",
            "reaffirmed            NN      VBD\n",
            "support               VB      NN\n",
            "indicated             VBN     VBD\n",
            "aid                   VB      NN\n",
            "contras               JJ      NNPS\n",
            "condemned             VBN     VBD\n",
            "brushed               NNS     VBD\n",
            "talk                  VB      NN\n",
            "insurgents            VBG     NNS\n",
            "command               VB      NN\n",
            "troops                VBZ     NNS\n",
            "forces                VBZ     NNS\n",
            "german                JJ      NNP\n",
            "called                VBN     VBD\n",
            "support               VB      NN\n",
            "socialism             JJ      NN\n",
            "communist             JJ      NNP\n",
            "party                 NN      NNP\n",
            "germans               NNS     NNPS\n",
            "lifted                VBN     VBD\n",
            "imposed               VBD     VBN\n",
            "massive               VBG     JJ\n",
            "communist             JJ      NNP\n",
            "plan                  NN      VBP\n",
            "fetal-tissue          JJ      NN\n",
            "assistant             NN      JJ\n",
            "secretary             NNP     NN\n",
            "anti-abortionists     NNP     NNS\n",
            "oppose                VB      VBP\n",
            "plans                 NNS     VBP\n",
            "that                  IN      WDT\n",
            "clean-air             NNP     JJ\n",
            "that                  IN      WDT\n",
            "lead                  VB      VBP\n",
            "acid                  NN      JJ\n",
            "as                    IN      RB\n",
            "conferees             VBP     NNS\n",
            "approved              VBN     VBD\n",
            "portions              RB      NNS\n",
            "aid                   VB      NN\n",
            "guarantees            NN      NNS\n",
            "hopes                 VBZ     NNS\n",
            "stimulating           NN      VBG\n",
            "future                NN      JJ\n",
            "accused               VBN     VBD\n",
            "armed                 JJ      VBN\n",
            "guerrillas            JJ      NNS\n",
            "neighboring           NNS     VBG\n",
            "u.n.-supervised       NNP     JJ\n",
            "troops                VBZ     NNS\n",
            "placed                VBD     VBN\n",
            "alert                 JJ      NN\n",
            "guerrilla             JJ      NN\n",
            "sabotage              JJ      VB\n",
            "gunmen                NN      NNS\n",
            "assassinated          NNP     VBD\n",
            "pro-iranian           NNP     JJ\n",
            "moslem                -LRB-   NNP\n",
            "group                 NNP     NN\n",
            "vowed                 VBN     VBD\n",
            "implements            NNS     VBZ\n",
            "suspects              VBZ     NNS\n",
            "complained            VBN     VBD\n",
            "president             NN      NNP\n",
            "ended                 VBD     VBN\n",
            "state                 NNP     NN\n",
            "address               VB      NN\n",
            "pledged               VBN     VBD\n",
            "warned                VBN     VBD\n",
            "cost                  NN      VB\n",
            "support               VB      NN\n",
            "bhutto                NN      NNP\n",
            "defeated              NNP     VBD\n",
            "42-year               NN      JJ\n",
            "that                  IN      WDT\n",
            "have                  VBP     VB\n",
            "down                  RB      RP\n",
            "11-month-old          NNP     JJ\n",
            "prime                 NNP     JJ\n",
            "islamabad             NN      NNP\n",
            "shipboard             JJ      NN\n",
            "soviet                JJ      NNP\n",
            "off                   RP      IN\n",
            "location              JJ      NN\n",
            "planning              NN      VBG\n",
            "tete-a-tete           NNP     NN\n",
            "unveiled              VBN     VBD\n",
            "trafficking           NNS     NN\n",
            "new                   NNP     JJ\n",
            "international         NNP     JJ\n",
            "am                    JJ      VBP\n",
            "subpoenaed            NNS     VBN\n",
            "planted               RB      VBN\n",
            "aboard                VBD     IN\n",
            "jet                   VBP     NN\n",
            "that                  IN      WDT\n",
            "exploded              VBN     VBD\n",
            "show                  NN      VB\n",
            "warned                VBN     VBD\n",
            "impending             VBG     JJ\n",
            "mutual                JJ      NNP\n",
            "life                  NN      NNP\n",
            "insurance             NN      NNP\n",
            "acute                 NN      JJ\n",
            "completed             VBN     VBD\n",
            "pictures              NNP     NNPS\n",
            "acquisition           NN      NNP\n",
            "communications        NNS     NNPS\n",
            "out                   RP      IN\n",
            "told                  VBD     VBN\n",
            "told                  VBD     VBN\n",
            "early                 JJ      RB\n",
            "centralized           JJ      VBN\n",
            "result                NN      VB\n",
            "less                  RBR     JJR\n",
            "comparison            JJ      NN\n",
            "that                  IN      DT\n",
            "offset                VBN     VBP\n",
            "hurricane             JJ      NNP\n",
            "set                   VBN     VBD\n",
            "up                    RB      RP\n",
            "future                NN      JJ\n",
            "property\\/casualty    JJ      NN\n",
            "natural               NN      JJ\n",
            "hurricane             JJ      NNP\n",
            "gain                  VB      NN\n",
            "pretax                JJ      NN\n",
            "sept.30               NNP     CD\n",
            "yen                   NNS     NN\n",
            "yen                   NNS     NN\n",
            "292.32                JJ      CD\n",
            "yen                   NNS     NN\n",
            "263.07                NNP     CD\n",
            "yen                   NNS     NN\n",
            "yen                   NNS     NN\n",
            "yen                   NNS     NN\n",
            "per-share             NNP     JJ\n",
            "net                   JJ      NN\n",
            "yen                   NNS     NN\n",
            "yen                   NNS     NN\n",
            "pushed                VBN     VBD\n",
            "up                    RB      RP\n",
            "142.84                NNP     CD\n",
            "yen                   NNS     NN\n",
            "126.15                JJ      CD\n",
            "yen                   NNS     NN\n",
            "due                   JJ      RB\n",
            "edged                 RB      VBD\n",
            "predicted             VBN     VBD\n",
            "yen                   NNS     NN\n",
            "566.54                NNP     CD\n",
            "yen                   NNS     NN\n",
            "pretax                JJ      NN\n",
            "forecast              NN      VBN\n",
            "yen                   NNS     NN\n",
            "yen                   NNS     NN\n",
            "net                   JJ      NN\n",
            "yen                   NNS     NN\n",
            "yen                   NNS     NN\n",
            "off                   RP      IN\n",
            "further               JJ      RB\n",
            "anytime               MD      RB\n",
            "apparent              NN      JJ\n",
            "slowing               VBG     NN\n",
            "such                  JJ      PDT\n",
            "forced                VBN     VBD\n",
            "plans                 NNS     VBZ\n",
            "47.125                JJ      CD\n",
            "plans                 NNS     VBZ\n",
            "drops                 VBZ     NNS\n",
            "big                   JJ      NNP\n",
            "board                 NN      NNP\n",
            "chairman              NN      NNP\n",
            "revival               JJ      NN\n",
            "new                   NNP     JJ\n",
            "industries            NNP     NNPS\n",
            "that                  IN      WDT\n",
            "steps                 NNS     VBZ\n",
            "up                    RB      RP\n",
            "minimum-wage          NNP     NN\n",
            "clear                 JJ      VB\n",
            "senate                NN      NNP\n",
            "sought                VBN     VBD\n",
            "more                  RBR     JJR\n",
            "parent                NNP     NN\n",
            "doubted               VBN     VBD\n",
            "transportation        NN      NNP\n",
            "leveraged             VBN     JJ\n",
            "buy-outs              NNP     NNS\n",
            "health                NNP     NN\n",
            "face                  NN      VB\n",
            "chairman              NN      NNP\n",
            "house                 NNP     NN\n",
            "run                   VB      VBN\n",
            "research              NN      NNP\n",
            "indicated             VBN     VBD\n",
            "new                   NNP     JJ\n",
            "face                  NN      VB\n",
            "new                   NNP     JJ\n",
            "transportation        NN      NNP\n",
            "plans                 NNS     VBZ\n",
            "next                  JJ      IN\n",
            "delay                 NN      VB\n",
            "antitrust             NN      JJ\n",
            "face                  NN      VB\n",
            "new                   NNP     JJ\n",
            "democrats             NNS     NNPS\n",
            "warning               NN      VBG\n",
            "154,240,000           JJ      CD\n",
            "2645.90               NNP     CD\n",
            "1206.26               JJ      CD\n",
            "220.45                JJ      CD\n",
            "3436.58               JJ      CD\n",
            "129.91                NNP     CD\n",
            "131.01                NNP     CD\n",
            "143.80                JJ      CD\n",
            "yen                   NNS     NN\n",
            "0.0085                NNP     CD\n",
            "junk-bond             JJ      NN\n",
            "securities            NNS     NNPS\n",
            "fizzled               VBD     VBN\n",
            "all                   DT      PDT\n",
            "savings               NN      NNPS\n",
            "loan                  NN      NNP\n",
            "high-rolling          NNP     JJ\n",
            "built                 VBN     VBD\n",
            "junk                  JJ      NN\n",
            "bears                 NN      NNS\n",
            "junk                  JJ      NN\n",
            "fault                 NN      VBP\n",
            "jet                   VBP     NN\n",
            "hit                   NN      VBD\n",
            "1\\/8                  JJ      CD\n",
            "3\\/4                  JJ      CD\n",
            "earlier               JJR     RBR\n",
            "rumors                JJ      NNS\n",
            "junk                  JJ      NN\n",
            "third-quarter         JJ      NN\n",
            "junk                  JJ      NN\n",
            "meaning               NN      VBG\n",
            "edged                 RB      VBN\n",
            "up                    RB      IN\n",
            "1\\/4                  NNP     CD\n",
            "3\\/8                  JJ      CD\n",
            "might                 MD      NN\n",
            "restructure           NN      VB\n",
            "underlying            JJ      VBG\n",
            "that                  IN      DT\n",
            "'s                    POS     VBZ\n",
            "more                  RBR     JJR\n",
            "junk                  JJ      NN\n",
            "cushion               VB      NN\n",
            "american              JJ      NNP\n",
            "financial             JJ      NNP\n",
            "financial             JJ      NNP\n",
            "research              NN      NNP\n",
            "latter                RB      NN\n",
            "cut                   VB      VBD\n",
            "such                  JJ      PDT\n",
            "junk                  JJ      NN\n",
            "reporters             VBG     NNS\n",
            "junk                  JJ      NN\n",
            "do                    VBP     VB\n",
            "merchant              NN      JJ\n",
            "comment               NN      VB\n",
            "all                   DT      PDT\n",
            "'s                    POS     VBZ\n",
            "junk-bond             JJ      NN\n",
            "entity                JJ      NN\n",
            "do                    VBP     VB\n",
            "new                   NNP     JJ\n",
            "force                 NN      VBP\n",
            "down                  RB      RP\n",
            "junk                  JJ      NN\n",
            "that                  IN      DT\n",
            "'s                    POS     VBZ\n",
            "junk                  JJ      NN\n",
            "reserved              JJ      VBD\n",
            "future                NN      JJ\n",
            "junk                  JJ      NN\n",
            "junk                  JJ      NN\n",
            "till                  NN      IN\n",
            "mature                VB      VBP\n",
            "junk                  JJ      NN\n",
            "do                    VBP     VB\n",
            "all                   DT      RB\n",
            "right                 NN      RB\n",
            "junk                  JJ      NN\n",
            "junk                  JJ      NN\n",
            "holdings              NNP     NNS\n",
            "that                  IN      WDT\n",
            "allied                VBN     NNP\n",
            "stores                NNS     NNPS\n",
            "telegraph             NN      NNP\n",
            "television            NN      NNP\n",
            "lost                  VBD     VBN\n",
            "that                  IN      DT\n",
            "estimated             VBN     VBD\n",
            "more                  RBR     JJR\n",
            "ultimate              NN      JJ\n",
            "as                    IN      RB\n",
            "much                  RB      JJ\n",
            "buy-outs              NNP     NNS\n",
            "balloon               VBN     NN\n",
            "said                  VBD     VBN\n",
            "have                  VBP     VB\n",
            "floated               VBD     VBN\n",
            "up                    RB      RP\n",
            "bank                  NN      NNP\n",
            "split                 JJ      VBN\n",
            "junk                  JJ      NN\n",
            "new                   NNP     JJ\n",
            "capitalized           RB      VBN\n",
            "say                   VBP     VB\n",
            "that                  IN      WDT\n",
            "surely                MD      RB\n",
            "more                  RBR     JJR\n",
            "junk                  JJ      NN\n",
            "spun                  VBD     VBN\n",
            "have                  VBP     VB\n",
            "new                   NNP     JJ\n",
            "much                  RB      JJ\n",
            "sell                  VB      VBP\n",
            "use                   VB      VBP\n",
            "associates            NNS     NNPS\n",
            "force                 NN      VB\n",
            "become                VBN     VB\n",
            "have                  VBP     VB\n",
            "feasible              RB      JJ\n",
            "junk-bond             JJ      NN\n",
            "savings               NN      NNP\n",
            "loan                  NN      NNP\n",
            "savings               NN      NNS\n",
            "vs.                   IN      CC\n",
            "net                   JJ      NN\n",
            "daily                 NNP     JJ\n",
            "83,206                NNP     CD\n",
            "note                  NN      VB\n",
            "per-share             NNP     JJ\n",
            "interleukin-3         JJ      NN\n",
            "interleukin-3         JJ      NN\n",
            "materials             NNPS    NNS\n",
            "human                 NNP     JJ\n",
            "dna                   NN      NNP\n",
            "technology            NNP     NN\n",
            "interleukin-3         JJ      NN\n",
            "preclinical           NNS     JJ\n",
            "interleukin-3         JJ      NN\n",
            "blood-cell            NNP     NN\n",
            "protein-1             JJ      NN\n",
            "that                  IN      WDT\n",
            "new                   NNP     JJ\n",
            "bmp-1                 JJ      NN\n",
            "bmp                   NNP     NN\n",
            "bmp-1                 JJ      NN\n",
            "received              VBD     VBN\n",
            "bmp                   NNP     NN\n",
            "healing               VBZ     NN\n",
            "american              JJ      NNP\n",
            "bar                   NN      NNP\n",
            "qualified             VBN     JJ\n",
            "senate                NN      NNP\n",
            "judiciary             NN      NNP\n",
            "vote                  NN      VB\n",
            "question              NN      VB\n",
            "equal                 JJ      NNP\n",
            "employment            NN      NNP\n",
            "opportunity           NN      NNP\n",
            "that                  IN      WDT\n",
            "said                  VBD     VBN\n",
            "oppose                VB      VBP\n",
            "-lcb-                 JJ      -LRB-\n",
            "-rcb-                 JJ      -RRB-\n",
            "rated                 VBN     VBD\n",
            "department            NNP     NN\n",
            "rating                NN      VBG\n",
            "contrast              JJ      NN\n",
            "association           NNP     NN\n",
            "agreed                VBN     VBD\n",
            "metallgesellschaft    NNP     NN\n",
            "diversified           VBN     JJ\n",
            "germany-based         NNP     JJ\n",
            "group                 NNP     NN\n",
            "specialized           JJ      VBN\n",
            "mix                   JJ      NN\n",
            "specialized           JJ      VBN\n",
            "boilers               VBD     NNS\n",
            "h.                    NNP     NN\n",
            "engineering           NN      VBG\n",
            "focus                 NN      VB\n",
            "434.4                 NNP     CD\n",
            "backlog               JJ      NN\n",
            "offering              VBG     NN\n",
            "upset                 JJ      VBN\n",
            "trade                 NN      NNP\n",
            "issued                VBN     VBD\n",
            "act                   NNP     NN\n",
            "act                   NNP     NN\n",
            "find                  VB      VBP\n",
            "subject               NN      JJ\n",
            "dismissed             VBN     VBD\n",
            "act                   NNP     NN\n",
            "synthetic             NNS     JJ\n",
            "rubber                NNP     NN\n",
            "offer                 NN      VB\n",
            "as                    IN      RB\n",
            "result                NN      VB\n",
            "fourth-quarter        JJ      NN\n",
            "estimate              NNS     VB\n",
            "determine             VB      VBP\n",
            "savings               NN      NNS\n",
            "individual            JJ      NN\n",
            "pay                   VB      NN\n",
            "chairman              NN      NNP\n",
            "called                VBN     VBD\n",
            "headcount-control     JJ      NN\n",
            "questioned            VBN     VBD\n",
            "have                  VBP     VB\n",
            "end                   NN      VB\n",
            "up                    RB      RP\n",
            "'s                    POS     VBZ\n",
            "cosmetic              NN      JJ\n",
            "further               JJ      RB\n",
            "estimated             VBN     VBD\n",
            "leave                 VB      VBP\n",
            "likely                JJ      RB\n",
            "more                  RBR     JJR\n",
            "stock                 NN      NNP\n",
            "38.875                NNP     CD\n",
            "suggest               VBP     VB\n",
            "earlier               JJR     RBR\n",
            "adopted               VBN     VBD\n",
            "ward                  NNP     VB\n",
            "suitors               JJ      NNS\n",
            "first                 JJ      RB\n",
            "offered               VBD     VBN\n",
            "cost-control          NNP     JJ\n",
            "staff-reduction       JJ      NN\n",
            "waymar                JJ      NNP\n",
            "associates            NNS     NNPS\n",
            "increases             NNS     VBZ\n",
            "feeding               VBG     NNP\n",
            "frenzy                NN      NNP\n",
            "19.95                 NNP     CD\n",
            "detailed              JJ      VBN\n",
            "wedtech               NN      NNP\n",
            "reassuring            VBG     JJ\n",
            "right                 NN      RB\n",
            "up                    RB      IN\n",
            "preface               VBZ     NN\n",
            "offered               VBD     VBN\n",
            "free                  NNP     JJ\n",
            "wedtech               NN      NNP\n",
            "wedtech               NN      NNP\n",
            "believe               VBP     VB\n",
            "plaintive             NN      JJ\n",
            "assurance             NNP     NN\n",
            "answered              RB      VBN\n",
            "reading               NN      VBG\n",
            "lead                  VB      VBP\n",
            "wedtech               NN      NNP\n",
            "inception             CD      NN\n",
            "manufacturing         NN      VBG\n",
            "entrusted             VBG     VBN\n",
            "army                  NN      NNP\n",
            "wedtech               NN      NNP\n",
            "started               VBD     VBN\n",
            "wedtech               NN      NNP\n",
            "rolling               NNP     VBG\n",
            "discovered            VBN     VBD\n",
            "a                     DT      NN\n",
            "johnson-era           NNP     NN\n",
            "great                 JJ      NNP\n",
            "that                  IN      WDT\n",
            "mandates              NNS     VBZ\n",
            "noncompetitively      JJ      RB\n",
            "ancestry              JJ      NN\n",
            "born                  NNP     VBN\n",
            "corporation           NNP     NN\n",
            "50\\/50                NNP     CD\n",
            "one-third             JJ      NN\n",
            "off                   RP      IN\n",
            "besides               VBG     IN\n",
            "wedtech               NN      NNP\n",
            "blighted              VBN     JJ\n",
            "plugged               VBN     VBD\n",
            "right                 NN      RB\n",
            "kept                  VBN     VBD\n",
            "'80s                  NN      CD\n",
            "congressman           NN      NNP\n",
            "state                 NNP     NN\n",
            "close                 VB      JJ\n",
            "right                 NN      RB\n",
            "up                    RB      IN\n",
            "close                 VB      JJ\n",
            "attorney              NN      NNP\n",
            "wedtech               NN      NNP\n",
            "fashioned             JJ      VBN\n",
            "made                  VBN     VBD\n",
            "ample                 NN      JJ\n",
            "use                   VB      NN\n",
            "sought                VBN     VBD\n",
            "bribed                NNS     VBN\n",
            "wedtech               NN      NNP\n",
            "used                  VBN     VBD\n",
            "merit                 VB      NN\n",
            "found                 VBN     VBD\n",
            "yourself              VB      PRP\n",
            "out                   RP      IN\n",
            "cold                  JJ      NN\n",
            "that                  IN      WDT\n",
            "befell                NN      VBD\n",
            "revelations           JJ      NNS\n",
            "tabloid               NN      JJ\n",
            "writing               VBG     NN\n",
            "feeding               VBG     NNP\n",
            "frenzy                NN      NNP\n",
            "show                  NN      VBP\n",
            "much                  RB      JJ\n",
            "found                 VBN     VBD\n",
            "crookery              JJ      NN\n",
            "wedtech               NN      NNP\n",
            "bribed                NNS     VBD\n",
            "up                    RB      IN\n",
            "garden-variety        JJ      NN\n",
            "lifes                 RB      NNS\n",
            "mercedes              NNP     NNPS\n",
            "clothes               NN      NNS\n",
            "wrestling             NN      VBG\n",
            "evil                  NN      JJ\n",
            "lobsenz               JJ      NNP\n",
            "changed               VBN     VBD\n",
            "rusty                 JJ      NNP\n",
            "blackjack             NNP     NN\n",
            "story                 NNP     NN\n",
            "arrested              VBD     VBN\n",
            "feeding               VBG     NNP\n",
            "frenzy                NN      NNP\n",
            "gloss                 VB      VBP\n",
            "causes                NN      NNS\n",
            "wedtech               NN      NNP\n",
            "namely                NNS     RB\n",
            "a                     DT      NN\n",
            "auspices              NNP     NNS\n",
            "around                IN      RB\n",
            "want                  VBP     VB\n",
            "end                   NN      VB\n",
            "affirmative           NN      JJ\n",
            "a                     DT      NN\n",
            "street                NNP     NN\n",
            "thieves               JJ      NNS\n",
            "by                    IN      RP\n",
            "scoop                 NN      VB\n",
            "up                    RB      IN\n",
            "characteristics       JJ      NNS\n",
            "wedtech               NN      NNP\n",
            "take                  VB      VBP\n",
            "that                  IN      WDT\n",
            "feeding               VBG     NNP\n",
            "frenzy                NN      NNP\n",
            "know                  VB      VBP\n",
            "whenever              RB      WRB\n",
            "commerce              NNP     NN\n",
            "establishment         JJ      NN\n",
            "absolutely            JJ      RB\n",
            "wish                  VB      NN\n",
            "change                NN      VB\n",
            "exist                 VB      VBP\n",
            "line                  NN      VBP\n",
            "pockets               JJ      NNS\n",
            "raised                VBD     VBN\n",
            "wedtech               NN      NNP\n",
            "executive             NN      JJ\n",
            "urban                 JJ      NNP\n",
            "development           NN      NNP\n",
            "1983-85               NNP     CD\n",
            "bankrupt              NN      JJ\n",
            "shipyard              NNP     NN\n",
            "waertsilae            JJ      NNP\n",
            "marine                NN      NNP\n",
            "industries            NNP     NNPS\n",
            "agreed                VBN     VBD\n",
            "form                  NN      VB\n",
            "new                   NNP     JJ\n",
            "most                  RBS     JJS\n",
            "shipyard              NNP     NN\n",
            "backlog               JJ      NN\n",
            "new                   NNP     JJ\n",
            "attempt               NN      VB\n",
            "limit                 NN      VB\n",
            "shipyard              NNP     NN\n",
            "out                   RP      IN\n",
            "shipbuilding          NNP     NN\n",
            "over                  IN      RP\n",
            "new                   NNP     JJ\n",
            "christian             JJ      NNP\n",
            "executive             NN      JJ\n",
            "waertsilae            JJ      NNP\n",
            "parent                NNP     NN\n",
            "waertsilae            JJ      NNP\n",
            "marine                NN      NNP\n",
            "new                   NNP     JJ\n",
            "open                  JJ      VB\n",
            "lease                 NN      VB\n",
            "waertsilae            JJ      NNP\n",
            "marine                NN      NNP\n",
            "shipyard              NNP     NN\n",
            "offered               VBD     VBN\n",
            "new                   NNP     JJ\n",
            "waertsilae            JJ      NNP\n",
            "marine                NN      NNP\n",
            "shipyards             NNP     NNS\n",
            "signed                VBD     VBN\n",
            "bank                  NN      NNP\n",
            "become                VBN     VB\n",
            "new                   NNP     JJ\n",
            "markkaa               CD      NN\n",
            "waertsilae            JJ      NNP\n",
            "markkaa               CD      NN\n",
            "most                  RBS     JJS\n",
            "new                   NNP     JJ\n",
            "waertsilae            JJ      NNP\n",
            "marine                NN      NNP\n",
            "undelivered           NNS     JJ\n",
            "most                  RBS     JJS\n",
            "markkaa               CD      NN\n",
            "waertsilae            JJ      NNP\n",
            "marine                NN      NNP\n",
            "carnival              NN      NNP\n",
            "lines                 NNS     NNPS\n",
            "carnival              NN      NNP\n",
            "waertsilae            JJ      NNP\n",
            "marine                NN      NNP\n",
            "presented             VBN     VBD\n",
            "waertsilae            JJ      NNP\n",
            "marine                NN      NNP\n",
            "comprehensive         JJ      NNP\n",
            "care                  NN      NNP\n",
            "plans                 NNS     VBZ\n",
            "most                  RBS     JJS\n",
            "working               VBG     JJ\n",
            "discharge             NN      VB\n",
            "health                NNP     NN\n",
            "deterioration         JJ      NN\n",
            "attempted             VBN     VBD\n",
            "comprehensive         JJ      NNP\n",
            "care                  NN      NNP\n",
            "moved                 VBN     VBD\n",
            "headquarters          NN      NNS\n",
            "maintained            VBN     VBD\n",
            "comprehensive         JJ      NNP\n",
            "care                  NN      NNP\n",
            "first                 JJ      NNP\n",
            "hospital              NN      NNP\n",
            "sputtered             JJ      VBD\n",
            "beginning             VBG     NN\n",
            "collapsed             VBN     VBD\n",
            "stock                 NN      NNP\n",
            "comprehensive         JJ      NNP\n",
            "care                  NN      NNP\n",
            "reported              VBN     VBD\n",
            "fourth-quarter        JJ      NN\n",
            "as                    IN      RB\n",
            "pet                   NNP     NN\n",
            "increase              VB      NN\n",
            "387.8                 JJ      CD\n",
            "gain                  VB      NN\n",
            "seafood               NNP     NN\n",
            "include               VB      VBP\n",
            "phase-out             JJ      NN\n",
            "closing               VBG     NN\n",
            "hostess               NN      NNP\n",
            "bakery                NNP     NN\n",
            "throughout            RB      IN\n",
            "rechargeable          NNS     JJ\n",
            "cadmium               NNS     NN\n",
            "closed                VBD     VBN\n",
            "attributed            VBN     VBD\n",
            "fourth-quarter        JJ      NN\n",
            "pet                   NNP     NN\n",
            "as                    IN      RB\n",
            "required              VBN     VBD\n",
            "pet                   NNP     NN\n",
            "more                  RBR     JJR\n",
            "continental           JJ      NNP\n",
            "baking                NN      NNP\n",
            "benefited             VBN     VBD\n",
            "hurt                  VB      VBN\n",
            "off                   RP      RB\n",
            "stock                 NN      NNP\n",
            "reported              VBN     VBD\n",
            "average               JJ      NN\n",
            "followed              VBD     VBN\n",
            "percent               CD      NN\n",
            "estimate              NNS     NN\n",
            "300-day               NNP     JJ\n",
            "estimate              NNS     NN\n",
            "first                 JJ      NNP\n",
            "completed             VBN     VBD\n",
            "cash-and-stock        NNP     JJ\n",
            "financial             JJ      NNP\n",
            "soviet                JJ      NNP\n",
            "massive               VBG     JJ\n",
            "struggling            JJ      VBG\n",
            "enough                RB      JJ\n",
            "river                 NNP     NN\n",
            "move                  NN      VB\n",
            "ports                 NNP     NNS\n",
            "loading               NN      VBG\n",
            "onto                  RB      IN\n",
            "river                 NNP     NN\n",
            "soared                VBD     VBN\n",
            "ports                 NNP     NNS\n",
            "sudden                NN      JJ\n",
            "gyrate                VBP     VB\n",
            "scrounge              VBN     VBP\n",
            "soviets               NNS     NNPS\n",
            "soviet                JJ      NNP\n",
            "bushels               VBN     NNS\n",
            "soviet                JJ      NNP\n",
            "soviet                JJ      NNP\n",
            "much                  RB      JJ\n",
            "most                  RBS     JJS\n",
            "flows                 NNS     VBZ\n",
            "much                  RB      JJ\n",
            "that                  IN      WDT\n",
            "overseas              JJ      RB\n",
            "shipping              NN      VBG\n",
            "most                  RBS     JJS\n",
            "that                  IN      DT\n",
            "real                  JJ      RB\n",
            "weather               JJ      NN\n",
            "northern              NNP     JJ\n",
            "plains                NNP     NNS\n",
            "upper                 NN      JJ\n",
            "river                 NNP     NN\n",
            "push                  VB      VBP\n",
            "operate               VBP     VB\n",
            "south                 NNP     RB\n",
            "army                  NN      NNP\n",
            "corps                 NN      NNP\n",
            "engineers             NNS     NNPS\n",
            "army                  NN      NNP\n",
            "corps                 NN      NNP\n",
            "that                  IN      WDT\n",
            "army                  NN      NNP\n",
            "corps                 NN      NNP\n",
            "engineers             NNS     NNPS\n",
            "river                 NNP     NN\n",
            "drop                  NN      VB\n",
            "army                  NN      NNP\n",
            "corps                 NN      NNP\n",
            "hamstrung             VBN     VBP\n",
            "so                    RB      IN\n",
            "budding               NN      VBG\n",
            "board                 NN      NNP\n",
            "trade                 NN      NNP\n",
            "use                   VB      VBP\n",
            "there                 EX      RB\n",
            "offer                 NN      VBP\n",
            "board                 NN      NNP\n",
            "trade                 NN      NNP\n",
            "bushel                NNP     NN\n",
            "bushel                NNP     NN\n",
            "down                  RB      IN\n",
            "jump                  NN      VB\n",
            "try                   VB      VBP\n",
            "obligated             RB      VBN\n",
            "up                    RB      IN\n",
            "reduced               VBN     VBD\n",
            "more                  RBR     JJR\n",
            "enough                RB      JJ\n",
            "new                   NNP     JJ\n",
            "that                  IN      DT\n",
            "permits               VBG     VBZ\n",
            "bushel                NNP     NN\n",
            "bushel                NNP     NN\n",
            "central               JJ      NNP\n",
            "railroad              NN      NNP\n",
            "half                  NN      DT\n",
            "projects              NNS     VBZ\n",
            "one-fifth             JJ      NN\n",
            "little                RB      JJ\n",
            "public                JJ      NN\n",
            "bill                  NN      NNP\n",
            "much                  RB      JJ\n",
            "shipping              NN      VBG\n",
            "larger-than-normal    NNP     JJ\n",
            "train                 VB      NN\n",
            "port                  NNP     NN\n",
            "ports                 NNP     NNS\n",
            "great                 JJ      NNP\n",
            "lakes                 NNP     NNPS\n",
            "soviet                JJ      NNP\n",
            "compressed            RB      VBN\n",
            "soviet                JJ      NNP\n",
            "bureaucracy           JJ      NN\n",
            "as                    IN      RB\n",
            "commodity             NNP     NN\n",
            "increased             VBN     VBD\n",
            "much                  RB      JJ\n",
            "heating               VBG     NN\n",
            "news                  NNP     NN\n",
            "west                  NNP     JJ\n",
            "tightening            NN      VBG\n",
            "heating               VBG     NN\n",
            "intermediate          JJ      NNP\n",
            "advanced              JJ      VBD\n",
            "gasoline              NNS     NN\n",
            "continued             VBN     VBD\n",
            "sell-off              JJ      NN\n",
            "that                  IN      WDT\n",
            "precious              JJ      NNP\n",
            "metals                NNS     NNPS\n",
            "futures               NNS     NNP\n",
            "as                    IN      RB\n",
            "377.60                JJ      CD\n",
            "5.2180                JJ      CD\n",
            "down                  RB      IN\n",
            "494.50                JJ      CD\n",
            "more                  RBR     JJR\n",
            "seek                  VB      VBP\n",
            "elders                NNS     NNPS\n",
            "futures               NNS     NNP\n",
            "rally                 NNP     NN\n",
            "equities              NNP     NNS\n",
            "more                  RBR     JJR\n",
            "defensive             NN      JJ\n",
            "more                  RBR     JJR\n",
            "high                  NNP     JJ\n",
            "170,262               NNP     CD\n",
            "226,570,380           NNP     CD\n",
            "exchange              NNP     NN\n",
            "recovered             VBN     VBD\n",
            "strike                NN      VB\n",
            "copper                NNP     NN\n",
            "mines                 NNP     NNS\n",
            "tomorrow              VB      NN\n",
            "reasons               JJ      NNS\n",
            "strike                NN      VB\n",
            "noted                 VBN     VBD\n",
            "metal                 NNP     NN\n",
            "copper                NNP     NN\n",
            "buying                VBG     NN\n",
            "metal                 NNP     NN\n",
            "copper                NNP     NN\n",
            "noted                 VBN     VBD\n",
            "that                  IN      WDT\n",
            "out                   RP      IN\n",
            "purchasing            VBG     NNP\n",
            "management            NN      NNP\n",
            "slowing               VBG     NN\n",
            "above                 RB      IN\n",
            "points                NNS     VBZ\n",
            "purchasing            VBG     NNP\n",
            "management            NN      NNP\n",
            "show                  NN      VB\n",
            "above                 RB      IN\n",
            "unveiled              VBN     VBD\n",
            "tower                 NN      NNP\n",
            "midrange              NN      JJ\n",
            "advanced              JJ      VBN\n",
            "tower                 NN      NNP\n",
            "operate               VBP     VB\n",
            "new                   NNP     JJ\n",
            "third-quarter         JJ      NN\n",
            "offset                VBN     VB\n",
            "steel                 NNP     NN\n",
            "natural               NN      JJ\n",
            "year-earlier          NNP     JJ\n",
            "pretax                JJ      NN\n",
            "like                  IN      JJ\n",
            "year-earlier          NNP     JJ\n",
            "gain                  VB      NN\n",
            "comparison            JJ      NN\n",
            "industrywide          NN      JJ\n",
            "third-quarter         JJ      NN\n",
            "operating             VBG     NN\n",
            "sold                  VBN     VBD\n",
            "chunks                JJ      NNS\n",
            "diversified           VBN     JJ\n",
            "steel                 NNP     NN\n",
            "that                  IN      WDT\n",
            "continue              VB      VBP\n",
            "operate               VBP     VB\n",
            "though                IN      RB\n",
            "steel                 NNP     NN\n",
            "continued             VBN     VBD\n",
            "tubular               NN      JJ\n",
            "hurt                  VB      VBP\n",
            "more                  RBR     JJR\n",
            "attributed            VBN     VBD\n",
            "steel                 NNP     NN\n",
            "50-50                 NN      CD\n",
            "joint                 JJ      NN\n",
            "venture               NNP     NN\n",
            "kobe                  NN      NNP\n",
            "steel                 NNP     NN\n",
            "operating             VBG     NN\n",
            "steel                 NNP     NN\n",
            "fared                 VBN     VBD\n",
            "earning               NN      VBG\n",
            "more                  RBR     JJR\n",
            "steel                 NNP     NN\n",
            "either                CC      DT\n",
            "industries            NNP     NNPS\n",
            "plummeted             VBN     VBD\n",
            "stock                 NN      NNP\n",
            "34.625                JJ      CD\n",
            "exceeded              VBN     VBD\n",
            "as                    IN      RB\n",
            "rise                  VB      NN\n",
            "steel                 NNP     NN\n",
            "fared                 VBN     VBD\n",
            "capital               NN      NNP\n",
            "markets               NNS     NNPS\n",
            "have                  VBP     VB\n",
            "received              VBD     VBN\n",
            "lost                  VBD     VBN\n",
            "earlier               JJR     RBR\n",
            "mix                   JJ      NN\n",
            "steel                 NNP     NN\n",
            "coated                NNS     VBN\n",
            "rise                  VB      NN\n",
            "operating             VBG     NN\n",
            "helped                VBN     VBD\n",
            "boost                 NN      VB\n",
            "operating             VBG     NN\n",
            "oil                   NN      NNP\n",
            "oil                   NN      NNP\n",
            "gas                   NN      NNP\n",
            "operate               VBP     VB\n",
            "red                   JJ      NN\n",
            "txo                   JJ      NNP\n",
            "that                  IN      DT\n",
            "back                  RB      RP\n",
            "noted                 VBN     VBD\n",
            "back                  RB      RP\n",
            "announced             VBD     VBN\n",
            "followed              VBD     VBN\n",
            "news                  NNP     NN\n",
            "combination           JJ      NN\n",
            "said                  VBD     VBN\n",
            "worth                 IN      JJ\n",
            "up                    RB      RP\n",
            "steel                 NNP     NN\n",
            "executive             NN      JJ\n",
            "vacant                NN      JJ\n",
            "level                 NN      NNP\n",
            "computer              NNP     NN\n",
            "school                NN      NNP\n",
            "business              NN      NNP\n",
            "metal                 NNP     NN\n",
            "group                 NNP     NN\n",
            "constitutional-law    NNP     NN\n",
            "president             NN      NNP\n",
            "have                  VBP     VB\n",
            "exercise              NN      VB\n",
            "line-item             NN      JJ\n",
            "professors            NNS     NNP\n",
            "tribe                 NN      NNP\n",
            "law                   NN      NNP\n",
            "school                NN      NNP\n",
            "president             NN      NNP\n",
            "line-item             NN      JJ\n",
            "text                  NNS     NN\n",
            "as                    IN      RB\n",
            "line-item             NN      JJ\n",
            "that                  IN      WDT\n",
            "veto                  NN      VB\n",
            "entire                NN      JJ\n",
            "said                  VBD     VBN\n",
            "like                  IN      VB\n",
            "implicitly            VBG     RB\n",
            "line-item             NN      JJ\n",
            "constitutional        NN      JJ\n",
            "exercise              NN      VB\n",
            "line-item             NN      JJ\n",
            "represent             VB      VBP\n",
            "ends                  VBZ     NNS\n",
            "spectrum              JJ      NN\n",
            "tribe                 NN      NNP\n",
            "liberal               JJ      NN\n",
            "veto                  NN      VB\n",
            "entire                NN      JJ\n",
            "appropriations        NN      NNS\n",
            "ago                   RB      IN\n",
            "covered               VBN     VBD\n",
            "line-item             NN      JJ\n",
            "more                  RBR     JJR\n",
            "line-item             NN      JJ\n",
            "civil                 JJ      NNP\n",
            "war                   NN      NNP\n",
            "shared                NN      VBN\n",
            "lawmaking             NN      JJ\n",
            "reach                 VB      NN\n",
            "line-item             NN      JJ\n",
            "president             NN      NNP\n",
            "industries            NNP     NNPS\n",
            "reached               VBN     VBD\n",
            "trailer               NN      NNP\n",
            "train                 VB      NNP\n",
            "plans                 NNS     VBZ\n"
          ]
        }
      ],
      "source": [
        "from tabulate import tabulate\n",
        "\n",
        "prediction_info = {\n",
        "    'batch_size': 64,\n",
        "    'verbose': 1\n",
        "}\n",
        "\n",
        "#predictions on the x set\n",
        "y_pred = predict_data(model=lstm_dense_model, x=x_test, prediction_info=prediction_info)\n",
        "\n",
        "#compute argmax to take the best class for each sample\n",
        "y_pred = np.argmax(y_pred, axis=1)\n",
        "\n",
        "# indexes of wrong rows\n",
        "idx = (y_test != y_pred)\n",
        "\n",
        "errors = []\n",
        "\n",
        "# translated labels, readable\n",
        "predicted_labels = le.inverse_transform(y_pred)\n",
        "test_labels = le.inverse_transform(y_test)\n",
        "\n",
        "# building the list of errors as [word, predicted label, test label]\n",
        "for x, pred, true in zip(tokenizer.sequences_to_texts(x_test[idx]), predicted_labels[idx], test_labels[idx]):\n",
        "    errors.append([x, pred, true])\n",
        "\n",
        "print(tabulate(errors, headers=[\"Word\", \"Pred\", \"Test\"]))"
      ]
    },
    {
      "attachments": {},
      "cell_type": "markdown",
      "metadata": {},
      "source": [
        "Many words labeled as NN and NNP seems to be confused with each other."
      ]
    },
    {
      "cell_type": "code",
      "execution_count": 293,
      "metadata": {},
      "outputs": [
        {
          "name": "stdout",
          "output_type": "stream",
          "text": [
            "The model, evaluated on the test set, makes 1723 errors\n"
          ]
        }
      ],
      "source": [
        "df_errors = pd.DataFrame(errors, columns=[\"word\",\"pred\",\"test\"])\n",
        "number_of_errors = df_errors.shape[0]\n",
        "print(f\"The model, evaluated on the test set, makes {number_of_errors} errors\")"
      ]
    },
    {
      "cell_type": "code",
      "execution_count": 294,
      "metadata": {},
      "outputs": [
        {
          "name": "stdout",
          "output_type": "stream",
          "text": [
            "The model (wrongly) predicts NNP 321 times over 1723 errors, 18.63%\n",
            "The model doesn't predict NNP 302 times over 1723 errors, 17.53%\n"
          ]
        }
      ],
      "source": [
        "df_pred_NNP = df_errors.where(df_errors[\"pred\"] == \"NNP\")\n",
        "n_pred_NNP = df_pred_NNP['word'].count()\n",
        "\n",
        "df_test_NNP = df_errors.where(df_errors[\"test\"] == \"NNP\")\n",
        "n_test_NNP = df_test_NNP['word'].count()\n",
        "\n",
        "print(\"The model (wrongly) predicts NNP {} times over {} errors, {:.2%}\".format(n_pred_NNP, number_of_errors, n_pred_NNP/number_of_errors))\n",
        "print(\"The model doesn't predict NNP {} times over {} errors, {:.2%}\".format(n_test_NNP, number_of_errors, n_test_NNP/number_of_errors))"
      ]
    },
    {
      "cell_type": "code",
      "execution_count": 295,
      "metadata": {},
      "outputs": [
        {
          "data": {
            "text/html": [
              "<div>\n",
              "<style scoped>\n",
              "    .dataframe tbody tr th:only-of-type {\n",
              "        vertical-align: middle;\n",
              "    }\n",
              "\n",
              "    .dataframe tbody tr th {\n",
              "        vertical-align: top;\n",
              "    }\n",
              "\n",
              "    .dataframe thead th {\n",
              "        text-align: right;\n",
              "    }\n",
              "</style>\n",
              "<table border=\"1\" class=\"dataframe\">\n",
              "  <thead>\n",
              "    <tr style=\"text-align: right;\">\n",
              "      <th></th>\n",
              "      <th>word</th>\n",
              "      <th>pred</th>\n",
              "      <th>test</th>\n",
              "    </tr>\n",
              "  </thead>\n",
              "  <tbody>\n",
              "    <tr>\n",
              "      <th>16</th>\n",
              "      <td>above-market</td>\n",
              "      <td>NNP</td>\n",
              "      <td>JJ</td>\n",
              "    </tr>\n",
              "    <tr>\n",
              "      <th>19</th>\n",
              "      <td>18-a-share</td>\n",
              "      <td>NNP</td>\n",
              "      <td>JJ</td>\n",
              "    </tr>\n",
              "    <tr>\n",
              "      <th>21</th>\n",
              "      <td>p.m.</td>\n",
              "      <td>NNP</td>\n",
              "      <td>NN</td>\n",
              "    </tr>\n",
              "    <tr>\n",
              "      <th>31</th>\n",
              "      <td>community</td>\n",
              "      <td>NNP</td>\n",
              "      <td>NN</td>\n",
              "    </tr>\n",
              "    <tr>\n",
              "      <th>32</th>\n",
              "      <td>news</td>\n",
              "      <td>NNP</td>\n",
              "      <td>NN</td>\n",
              "    </tr>\n",
              "    <tr>\n",
              "      <th>33</th>\n",
              "      <td>computer</td>\n",
              "      <td>NNP</td>\n",
              "      <td>NN</td>\n",
              "    </tr>\n",
              "    <tr>\n",
              "      <th>44</th>\n",
              "      <td>630.9</td>\n",
              "      <td>NNP</td>\n",
              "      <td>CD</td>\n",
              "    </tr>\n",
              "    <tr>\n",
              "      <th>53</th>\n",
              "      <td>singled</td>\n",
              "      <td>NNP</td>\n",
              "      <td>VBN</td>\n",
              "    </tr>\n",
              "    <tr>\n",
              "      <th>57</th>\n",
              "      <td>newspaper-printing</td>\n",
              "      <td>NNP</td>\n",
              "      <td>NN</td>\n",
              "    </tr>\n",
              "    <tr>\n",
              "      <th>65</th>\n",
              "      <td>launch-vehicle</td>\n",
              "      <td>NNP</td>\n",
              "      <td>NN</td>\n",
              "    </tr>\n",
              "  </tbody>\n",
              "</table>\n",
              "</div>"
            ],
            "text/plain": [
              "                  word pred test\n",
              "16        above-market  NNP   JJ\n",
              "19          18-a-share  NNP   JJ\n",
              "21                p.m.  NNP   NN\n",
              "31           community  NNP   NN\n",
              "32                news  NNP   NN\n",
              "33            computer  NNP   NN\n",
              "44               630.9  NNP   CD\n",
              "53             singled  NNP  VBN\n",
              "57  newspaper-printing  NNP   NN\n",
              "65      launch-vehicle  NNP   NN"
            ]
          },
          "execution_count": 295,
          "metadata": {},
          "output_type": "execute_result"
        }
      ],
      "source": [
        "df_errors[df_pred_NNP.notnull()['word']].head(10)"
      ]
    },
    {
      "cell_type": "code",
      "execution_count": 296,
      "metadata": {},
      "outputs": [
        {
          "name": "stdout",
          "output_type": "stream",
          "text": [
            "The model (wrongly) predicts NN 339 times over 1723 errors, 19.67%\n",
            "The model doesn't predict NN 339 times over 1723 errors, 19.67%\n"
          ]
        }
      ],
      "source": [
        "df_pred_NN = df_errors.where(df_errors[\"pred\"] == \"NN\")\n",
        "n_pred_NN = df_pred_NN['word'].count()\n",
        "\n",
        "df_test_NN = df_errors.where(df_errors[\"pred\"] == \"NN\")\n",
        "n_test_NN = df_test_NN['word'].count()\n",
        "\n",
        "print(\"The model (wrongly) predicts NN {} times over {} errors, {:.2%}\".format(n_pred_NN, number_of_errors, n_pred_NN/number_of_errors))\n",
        "print(\"The model doesn't predict NN {} times over {} errors, {:.2%}\".format(n_test_NN, number_of_errors, n_test_NN/number_of_errors))"
      ]
    },
    {
      "cell_type": "code",
      "execution_count": 297,
      "metadata": {},
      "outputs": [
        {
          "name": "stdout",
          "output_type": "stream",
          "text": [
            "The model (wrongly) predicts NN (instead of NNP) 167 times, over 339 errors predicted as NNP, 49.26%\n"
          ]
        }
      ],
      "source": [
        "lb_pred = \"NN\"\n",
        "lb_test = \"NNP\"\n",
        "\n",
        "df_pred_NN_NNP = df_errors.where(df_errors[\"pred\"] == lb_pred)\n",
        "df_pred_NN_NNP = df_pred_NN_NNP.where(df_errors[\"test\"] == lb_test)\n",
        "n_pred_NN_NNP = df_pred_NN_NNP['word'].count()\n",
        "\n",
        "print(\"The model (wrongly) predicts {} (instead of {}) {} times, over {} errors predicted as NNP, {:.2%}\".format(lb_pred,\n",
        "                                                                                                                    lb_test,\n",
        "                                                                                                                    n_pred_NN_NNP,\n",
        "                                                                                                                    n_pred_NN, \n",
        "                                                                                                                    n_pred_NN_NNP / n_pred_NN))"
      ]
    },
    {
      "cell_type": "code",
      "execution_count": 298,
      "metadata": {},
      "outputs": [
        {
          "name": "stdout",
          "output_type": "stream",
          "text": [
            "The model (wrongly) predicts NNP (instead of NN) 140 times, over 321 errors predicted as NNP, 43.61%\n"
          ]
        }
      ],
      "source": [
        "lb_pred = \"NNP\"\n",
        "lb_test = \"NN\"\n",
        "\n",
        "df_pred_NNP_NN = df_errors.where(df_errors[\"pred\"] == lb_pred)\n",
        "df_pred_NNP_NN = df_pred_NNP_NN.where(df_errors[\"test\"] == lb_test)\n",
        "n_pred_NNP_NN = df_pred_NNP_NN['word'].count()\n",
        "\n",
        "print(\"The model (wrongly) predicts {} (instead of {}) {} times, over {} errors predicted as NNP, {:.2%}\".format(lb_pred,\n",
        "                                                                                                                    lb_test,\n",
        "                                                                                                                    n_pred_NNP_NN,\n",
        "                                                                                                                    n_pred_NNP, \n",
        "                                                                                                                    n_pred_NNP_NN / n_pred_NNP))"
      ]
    }
  ],
  "metadata": {
    "accelerator": "GPU",
    "colab": {
      "provenance": []
    },
    "gpuClass": "standard",
    "kernelspec": {
      "display_name": "ai",
      "language": "python",
      "name": "python3"
    },
    "language_info": {
      "codemirror_mode": {
        "name": "ipython",
        "version": 3
      },
      "file_extension": ".py",
      "mimetype": "text/x-python",
      "name": "python",
      "nbconvert_exporter": "python",
      "pygments_lexer": "ipython3",
      "version": "3.10.8"
    },
    "orig_nbformat": 4,
    "vscode": {
      "interpreter": {
        "hash": "4c836f7cc80bc1a8d8e102421d11f290f4773c065ede34effdfd405867e24fd6"
      }
    }
  },
  "nbformat": 4,
  "nbformat_minor": 0
}
