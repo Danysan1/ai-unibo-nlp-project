{
  "cells": [
    {
      "cell_type": "markdown",
      "metadata": {
        "id": "iKel9Y42484v"
      },
      "source": [
        "<a href=\"https://colab.research.google.com/github/Danysan1/ai-unibo-nlp-project/blob/main/a1/execution.ipynb\" target=\"_parent\"><img src=\"https://colab.research.google.com/assets/colab-badge.svg\" alt=\"Open In Colab\"/></a>"
      ]
    },
    {
      "cell_type": "markdown",
      "metadata": {
        "id": "TzCABY1Qi8Bv"
      },
      "source": [
        "# Assigment 1 execution"
      ]
    },
    {
      "cell_type": "markdown",
      "metadata": {
        "id": "kNE248Nhi8B0"
      },
      "source": [
        "Corpora: https://www.nltk.org/nltk_data/ , point 91, \"Dependency Parsed Treebank\" ([link](https://raw.githubusercontent.com/nltk/nltk_data/gh-pages/packages/corpora/dependency_treebank.zip)).\n",
        "\n",
        "Docs:\n",
        "* https://www.nltk.org/api/nltk.corpus.html\n",
        "* https://www.nltk.org/data.html\n",
        "* https://www.nltk.org/install.html\n",
        "\n",
        "## Preparing the environment"
      ]
    },
    {
      "cell_type": "code",
      "execution_count": 1,
      "metadata": {
        "colab": {
          "base_uri": "https://localhost:8080/"
        },
        "id": "SJOEUxxoi8B1",
        "outputId": "78338226-ac0e-4f6a-8cd0-4348917413cd"
      },
      "outputs": [
        {
          "name": "stdout",
          "output_type": "stream",
          "text": [
            "Requirement already satisfied: pandas in /home/hiari/opt/mambaforge/envs/ai/lib/python3.10/site-packages (1.5.2)\n",
            "Requirement already satisfied: numpy in /home/hiari/opt/mambaforge/envs/ai/lib/python3.10/site-packages (1.24.1)\n",
            "Requirement already satisfied: matplotlib in /home/hiari/opt/mambaforge/envs/ai/lib/python3.10/site-packages (3.6.2)\n",
            "Requirement already satisfied: gensim==4.2.0 in /home/hiari/opt/mambaforge/envs/ai/lib/python3.10/site-packages (4.2.0)\n",
            "Requirement already satisfied: tensorflow-addons in /home/hiari/opt/mambaforge/envs/ai/lib/python3.10/site-packages (0.19.0)\n",
            "Requirement already satisfied: keras_tuner in /home/hiari/opt/mambaforge/envs/ai/lib/python3.10/site-packages (1.1.3)\n",
            "Requirement already satisfied: scipy>=0.18.1 in /home/hiari/opt/mambaforge/envs/ai/lib/python3.10/site-packages (from gensim==4.2.0) (1.10.0)\n",
            "Requirement already satisfied: smart-open>=1.8.1 in /home/hiari/opt/mambaforge/envs/ai/lib/python3.10/site-packages (from gensim==4.2.0) (6.3.0)\n",
            "Requirement already satisfied: python-dateutil>=2.8.1 in /home/hiari/opt/mambaforge/envs/ai/lib/python3.10/site-packages (from pandas) (2.8.2)\n",
            "Requirement already satisfied: pytz>=2020.1 in /home/hiari/opt/mambaforge/envs/ai/lib/python3.10/site-packages (from pandas) (2022.7)\n",
            "Requirement already satisfied: pillow>=6.2.0 in /home/hiari/opt/mambaforge/envs/ai/lib/python3.10/site-packages (from matplotlib) (9.4.0)\n",
            "Requirement already satisfied: cycler>=0.10 in /home/hiari/opt/mambaforge/envs/ai/lib/python3.10/site-packages (from matplotlib) (0.11.0)\n",
            "Requirement already satisfied: fonttools>=4.22.0 in /home/hiari/opt/mambaforge/envs/ai/lib/python3.10/site-packages (from matplotlib) (4.38.0)\n",
            "Requirement already satisfied: packaging>=20.0 in /home/hiari/opt/mambaforge/envs/ai/lib/python3.10/site-packages (from matplotlib) (22.0)\n",
            "Requirement already satisfied: contourpy>=1.0.1 in /home/hiari/opt/mambaforge/envs/ai/lib/python3.10/site-packages (from matplotlib) (1.0.6)\n",
            "Requirement already satisfied: kiwisolver>=1.0.1 in /home/hiari/opt/mambaforge/envs/ai/lib/python3.10/site-packages (from matplotlib) (1.4.4)\n",
            "Requirement already satisfied: pyparsing>=2.2.1 in /home/hiari/opt/mambaforge/envs/ai/lib/python3.10/site-packages (from matplotlib) (3.0.9)\n",
            "Requirement already satisfied: typeguard>=2.7 in /home/hiari/opt/mambaforge/envs/ai/lib/python3.10/site-packages (from tensorflow-addons) (2.13.3)\n",
            "Requirement already satisfied: kt-legacy in /home/hiari/opt/mambaforge/envs/ai/lib/python3.10/site-packages (from keras_tuner) (1.0.4)\n",
            "Requirement already satisfied: requests in /home/hiari/opt/mambaforge/envs/ai/lib/python3.10/site-packages (from keras_tuner) (2.28.1)\n",
            "Requirement already satisfied: tensorboard in /home/hiari/.local/lib/python3.10/site-packages (from keras_tuner) (2.11.0)\n",
            "Requirement already satisfied: ipython in /home/hiari/opt/mambaforge/envs/ai/lib/python3.10/site-packages (from keras_tuner) (8.8.0)\n",
            "Requirement already satisfied: six>=1.5 in /home/hiari/opt/mambaforge/envs/ai/lib/python3.10/site-packages (from python-dateutil>=2.8.1->pandas) (1.16.0)\n",
            "Requirement already satisfied: pickleshare in /home/hiari/opt/mambaforge/envs/ai/lib/python3.10/site-packages (from ipython->keras_tuner) (0.7.5)\n",
            "Requirement already satisfied: prompt-toolkit<3.1.0,>=3.0.11 in /home/hiari/opt/mambaforge/envs/ai/lib/python3.10/site-packages (from ipython->keras_tuner) (3.0.36)\n",
            "Requirement already satisfied: pygments>=2.4.0 in /home/hiari/opt/mambaforge/envs/ai/lib/python3.10/site-packages (from ipython->keras_tuner) (2.14.0)\n",
            "Requirement already satisfied: traitlets>=5 in /home/hiari/opt/mambaforge/envs/ai/lib/python3.10/site-packages (from ipython->keras_tuner) (5.8.0)\n",
            "Requirement already satisfied: jedi>=0.16 in /home/hiari/opt/mambaforge/envs/ai/lib/python3.10/site-packages (from ipython->keras_tuner) (0.18.2)\n",
            "Requirement already satisfied: pexpect>4.3 in /home/hiari/opt/mambaforge/envs/ai/lib/python3.10/site-packages (from ipython->keras_tuner) (4.8.0)\n",
            "Requirement already satisfied: matplotlib-inline in /home/hiari/opt/mambaforge/envs/ai/lib/python3.10/site-packages (from ipython->keras_tuner) (0.1.6)\n",
            "Requirement already satisfied: stack-data in /home/hiari/opt/mambaforge/envs/ai/lib/python3.10/site-packages (from ipython->keras_tuner) (0.6.2)\n",
            "Requirement already satisfied: backcall in /home/hiari/opt/mambaforge/envs/ai/lib/python3.10/site-packages (from ipython->keras_tuner) (0.2.0)\n",
            "Requirement already satisfied: decorator in /home/hiari/opt/mambaforge/envs/ai/lib/python3.10/site-packages (from ipython->keras_tuner) (5.1.1)\n",
            "Requirement already satisfied: idna<4,>=2.5 in /home/hiari/opt/mambaforge/envs/ai/lib/python3.10/site-packages (from requests->keras_tuner) (3.4)\n",
            "Requirement already satisfied: certifi>=2017.4.17 in /home/hiari/opt/mambaforge/envs/ai/lib/python3.10/site-packages (from requests->keras_tuner) (2022.12.7)\n",
            "Requirement already satisfied: urllib3<1.27,>=1.21.1 in /home/hiari/opt/mambaforge/envs/ai/lib/python3.10/site-packages (from requests->keras_tuner) (1.26.13)\n",
            "Requirement already satisfied: charset-normalizer<3,>=2 in /home/hiari/opt/mambaforge/envs/ai/lib/python3.10/site-packages (from requests->keras_tuner) (2.1.1)\n",
            "Requirement already satisfied: markdown>=2.6.8 in /home/hiari/.local/lib/python3.10/site-packages (from tensorboard->keras_tuner) (3.4.1)\n",
            "Requirement already satisfied: setuptools>=41.0.0 in /home/hiari/opt/mambaforge/envs/ai/lib/python3.10/site-packages (from tensorboard->keras_tuner) (65.6.3)\n",
            "Requirement already satisfied: wheel>=0.26 in /home/hiari/opt/mambaforge/envs/ai/lib/python3.10/site-packages (from tensorboard->keras_tuner) (0.38.4)\n",
            "Requirement already satisfied: google-auth-oauthlib<0.5,>=0.4.1 in /home/hiari/.local/lib/python3.10/site-packages (from tensorboard->keras_tuner) (0.4.6)\n",
            "Requirement already satisfied: google-auth<3,>=1.6.3 in /home/hiari/.local/lib/python3.10/site-packages (from tensorboard->keras_tuner) (2.15.0)\n",
            "Requirement already satisfied: tensorboard-data-server<0.7.0,>=0.6.0 in /home/hiari/.local/lib/python3.10/site-packages (from tensorboard->keras_tuner) (0.6.1)\n",
            "Requirement already satisfied: werkzeug>=1.0.1 in /home/hiari/.local/lib/python3.10/site-packages (from tensorboard->keras_tuner) (2.2.2)\n",
            "Requirement already satisfied: grpcio>=1.24.3 in /home/hiari/.local/lib/python3.10/site-packages (from tensorboard->keras_tuner) (1.51.1)\n",
            "Requirement already satisfied: protobuf<4,>=3.9.2 in /home/hiari/opt/mambaforge/envs/ai/lib/python3.10/site-packages (from tensorboard->keras_tuner) (3.19.6)\n",
            "Requirement already satisfied: absl-py>=0.4 in /home/hiari/.local/lib/python3.10/site-packages (from tensorboard->keras_tuner) (1.3.0)\n",
            "Requirement already satisfied: tensorboard-plugin-wit>=1.6.0 in /home/hiari/.local/lib/python3.10/site-packages (from tensorboard->keras_tuner) (1.8.1)\n",
            "Requirement already satisfied: pyasn1-modules>=0.2.1 in /home/hiari/.local/lib/python3.10/site-packages (from google-auth<3,>=1.6.3->tensorboard->keras_tuner) (0.2.8)\n",
            "Requirement already satisfied: rsa<5,>=3.1.4 in /home/hiari/.local/lib/python3.10/site-packages (from google-auth<3,>=1.6.3->tensorboard->keras_tuner) (4.9)\n",
            "Requirement already satisfied: cachetools<6.0,>=2.0.0 in /home/hiari/.local/lib/python3.10/site-packages (from google-auth<3,>=1.6.3->tensorboard->keras_tuner) (5.2.0)\n",
            "Requirement already satisfied: requests-oauthlib>=0.7.0 in /home/hiari/.local/lib/python3.10/site-packages (from google-auth-oauthlib<0.5,>=0.4.1->tensorboard->keras_tuner) (1.3.1)\n",
            "Requirement already satisfied: parso<0.9.0,>=0.8.0 in /home/hiari/opt/mambaforge/envs/ai/lib/python3.10/site-packages (from jedi>=0.16->ipython->keras_tuner) (0.8.3)\n",
            "Requirement already satisfied: ptyprocess>=0.5 in /home/hiari/opt/mambaforge/envs/ai/lib/python3.10/site-packages (from pexpect>4.3->ipython->keras_tuner) (0.7.0)\n",
            "Requirement already satisfied: wcwidth in /home/hiari/opt/mambaforge/envs/ai/lib/python3.10/site-packages (from prompt-toolkit<3.1.0,>=3.0.11->ipython->keras_tuner) (0.2.5)\n",
            "Requirement already satisfied: MarkupSafe>=2.1.1 in /home/hiari/.local/lib/python3.10/site-packages (from werkzeug>=1.0.1->tensorboard->keras_tuner) (2.1.1)\n",
            "Requirement already satisfied: pure-eval in /home/hiari/opt/mambaforge/envs/ai/lib/python3.10/site-packages (from stack-data->ipython->keras_tuner) (0.2.2)\n",
            "Requirement already satisfied: asttokens>=2.1.0 in /home/hiari/opt/mambaforge/envs/ai/lib/python3.10/site-packages (from stack-data->ipython->keras_tuner) (2.2.1)\n",
            "Requirement already satisfied: executing>=1.2.0 in /home/hiari/opt/mambaforge/envs/ai/lib/python3.10/site-packages (from stack-data->ipython->keras_tuner) (1.2.0)\n",
            "Requirement already satisfied: pyasn1<0.5.0,>=0.4.6 in /home/hiari/.local/lib/python3.10/site-packages (from pyasn1-modules>=0.2.1->google-auth<3,>=1.6.3->tensorboard->keras_tuner) (0.4.8)\n",
            "Requirement already satisfied: oauthlib>=3.0.0 in /home/hiari/opt/mambaforge/envs/ai/lib/python3.10/site-packages (from requests-oauthlib>=0.7.0->google-auth-oauthlib<0.5,>=0.4.1->tensorboard->keras_tuner) (3.2.2)\n",
            "Note: you may need to restart the kernel to use updated packages.\n"
          ]
        }
      ],
      "source": [
        "%pip install pandas numpy matplotlib gensim==4.2.0 tensorflow-addons keras_tuner"
      ]
    },
    {
      "cell_type": "code",
      "execution_count": 50,
      "metadata": {
        "id": "KqnHhB8yGptZ"
      },
      "outputs": [],
      "source": [
        "import os, shutil  #  file management\n",
        "import sys \n",
        "import pandas as pd  #  dataframe management\n",
        "import numpy as np  #  data manipulation\n",
        "import re\n",
        "import urllib.request  # download files\n",
        "from zipfile import ZipFile # extract files\n",
        "from matplotlib import pyplot as plt\n",
        "import tensorflow_addons as tfa\n",
        "from sklearn.metrics import f1_score\n",
        "import keras\n",
        "import keras_tuner"
      ]
    },
    {
      "cell_type": "markdown",
      "metadata": {
        "id": "glhEVNdNi8B4"
      },
      "source": [
        "## Downloading the dataset"
      ]
    },
    {
      "cell_type": "code",
      "execution_count": 2,
      "metadata": {
        "id": "8rcR7hfpi8B4"
      },
      "outputs": [],
      "source": [
        "#from nltk import download\n",
        "#download()"
      ]
    },
    {
      "cell_type": "code",
      "execution_count": 3,
      "metadata": {
        "colab": {
          "base_uri": "https://localhost:8080/"
        },
        "id": "gMVaf67mGtVe",
        "outputId": "135f2f65-6306-4500-9cfc-790b8a5ab613"
      },
      "outputs": [
        {
          "name": "stdout",
          "output_type": "stream",
          "text": [
            "Successful extraction\n"
          ]
        }
      ],
      "source": [
        "dataset_folder = os.path.join(os.getcwd(), \"Dataset\")\n",
        "\n",
        "if not os.path.exists(dataset_folder):\n",
        "    os.makedirs(dataset_folder)\n",
        "\n",
        "url = 'https://raw.githubusercontent.com/nltk/nltk_data/gh-pages/packages/corpora/dependency_treebank.zip'\n",
        "\n",
        "dataset_path = os.path.join(dataset_folder, \"dependency_treebank.zip\")\n",
        "\n",
        "if not os.path.exists(dataset_path):\n",
        "    urllib.request.urlretrieve(url, dataset_path)\n",
        "    print(\"Successful download\")\n",
        "    \n",
        "with ZipFile(dataset_path, 'r') as zObject:\n",
        "  # Extracting all the members of the zip  into a specific location.\n",
        "  zObject.extractall(dataset_folder)\n",
        "  print(\"Successful extraction\")"
      ]
    },
    {
      "cell_type": "markdown",
      "metadata": {
        "id": "6YF4FVoUi8B7"
      },
      "source": [
        "## Loading the data"
      ]
    },
    {
      "cell_type": "code",
      "execution_count": 4,
      "metadata": {
        "id": "wNHOCIU0i8B8"
      },
      "outputs": [],
      "source": [
        "#from nltk.corpus import dependency_treebank\n",
        "#from nltk.data import load\n",
        "#dependency_treebank_test = load(\"nltk:\") \n",
        "#sentences = dependency_treebank.sents()\n",
        "#words = dependency_treebank.words()"
      ]
    },
    {
      "cell_type": "code",
      "execution_count": 5,
      "metadata": {
        "id": "brq6f0-oi8B9"
      },
      "outputs": [],
      "source": [
        "def loadCorpus(start:int, stop:int=None):\n",
        "    '''\n",
        "    Loads the data for the specified file range.\n",
        "    \n",
        "    Removes the third column 'num', which is not necessary for this task.\n",
        "\n",
        "    Parameters:\n",
        "        start: start of numeric range of files (inclusive)\n",
        "        stop: end of numeric range of files (exclusive)\n",
        "    '''\n",
        "    dataset_name = \"dependency_treebank\"\n",
        "    folder = os.path.join(os.getcwd(), \"Dataset\", dataset_name)\n",
        "\n",
        "    if stop==None:\n",
        "        stop = start+1\n",
        "    \n",
        "    return pd.concat([\n",
        "        pd.read_csv(\n",
        "            f'{folder}/wsj_{\"{:04d}\".format(num)}.dp',\n",
        "            sep=\"\\t\",\n",
        "            usecols=[0,1],\n",
        "            names=[\"word\",\"label\"]\n",
        "        ) for num in range(start, stop)\n",
        "    ])"
      ]
    },
    {
      "cell_type": "code",
      "execution_count": 6,
      "metadata": {
        "id": "MHjTm5HOi8B-"
      },
      "outputs": [],
      "source": [
        "full_dataset = loadCorpus(1,200)"
      ]
    },
    {
      "cell_type": "markdown",
      "metadata": {
        "id": "xVtgdAgwi8B-"
      },
      "source": [
        "## Exploratory Data Analysis"
      ]
    },
    {
      "cell_type": "code",
      "execution_count": 7,
      "metadata": {
        "colab": {
          "base_uri": "https://localhost:8080/"
        },
        "id": "Ih48IOpti8B_",
        "outputId": "31f15dcf-77a5-4a96-889d-6d4fccd2e3ee"
      },
      "outputs": [
        {
          "data": {
            "text/plain": [
              "word     94084\n",
              "label    94084\n",
              "dtype: int64"
            ]
          },
          "execution_count": 7,
          "metadata": {},
          "output_type": "execute_result"
        }
      ],
      "source": [
        "full_dataset.count()"
      ]
    },
    {
      "cell_type": "code",
      "execution_count": 8,
      "metadata": {
        "colab": {
          "base_uri": "https://localhost:8080/",
          "height": 677
        },
        "id": "uzKTmaB0i8CA",
        "outputId": "ecc85097-bf20-405c-fecb-2c3f45257455"
      },
      "outputs": [
        {
          "data": {
            "text/html": [
              "<div>\n",
              "<style scoped>\n",
              "    .dataframe tbody tr th:only-of-type {\n",
              "        vertical-align: middle;\n",
              "    }\n",
              "\n",
              "    .dataframe tbody tr th {\n",
              "        vertical-align: top;\n",
              "    }\n",
              "\n",
              "    .dataframe thead th {\n",
              "        text-align: right;\n",
              "    }\n",
              "</style>\n",
              "<table border=\"1\" class=\"dataframe\">\n",
              "  <thead>\n",
              "    <tr style=\"text-align: right;\">\n",
              "      <th></th>\n",
              "      <th>word</th>\n",
              "      <th>label</th>\n",
              "    </tr>\n",
              "  </thead>\n",
              "  <tbody>\n",
              "    <tr>\n",
              "      <th>0</th>\n",
              "      <td>Pierre</td>\n",
              "      <td>NNP</td>\n",
              "    </tr>\n",
              "    <tr>\n",
              "      <th>1</th>\n",
              "      <td>Vinken</td>\n",
              "      <td>NNP</td>\n",
              "    </tr>\n",
              "    <tr>\n",
              "      <th>2</th>\n",
              "      <td>,</td>\n",
              "      <td>,</td>\n",
              "    </tr>\n",
              "    <tr>\n",
              "      <th>3</th>\n",
              "      <td>61</td>\n",
              "      <td>CD</td>\n",
              "    </tr>\n",
              "    <tr>\n",
              "      <th>4</th>\n",
              "      <td>years</td>\n",
              "      <td>NNS</td>\n",
              "    </tr>\n",
              "    <tr>\n",
              "      <th>5</th>\n",
              "      <td>old</td>\n",
              "      <td>JJ</td>\n",
              "    </tr>\n",
              "    <tr>\n",
              "      <th>6</th>\n",
              "      <td>,</td>\n",
              "      <td>,</td>\n",
              "    </tr>\n",
              "    <tr>\n",
              "      <th>7</th>\n",
              "      <td>will</td>\n",
              "      <td>MD</td>\n",
              "    </tr>\n",
              "    <tr>\n",
              "      <th>8</th>\n",
              "      <td>join</td>\n",
              "      <td>VB</td>\n",
              "    </tr>\n",
              "    <tr>\n",
              "      <th>9</th>\n",
              "      <td>the</td>\n",
              "      <td>DT</td>\n",
              "    </tr>\n",
              "    <tr>\n",
              "      <th>10</th>\n",
              "      <td>board</td>\n",
              "      <td>NN</td>\n",
              "    </tr>\n",
              "    <tr>\n",
              "      <th>11</th>\n",
              "      <td>as</td>\n",
              "      <td>IN</td>\n",
              "    </tr>\n",
              "    <tr>\n",
              "      <th>12</th>\n",
              "      <td>a</td>\n",
              "      <td>DT</td>\n",
              "    </tr>\n",
              "    <tr>\n",
              "      <th>13</th>\n",
              "      <td>nonexecutive</td>\n",
              "      <td>JJ</td>\n",
              "    </tr>\n",
              "    <tr>\n",
              "      <th>14</th>\n",
              "      <td>director</td>\n",
              "      <td>NN</td>\n",
              "    </tr>\n",
              "    <tr>\n",
              "      <th>15</th>\n",
              "      <td>Nov.</td>\n",
              "      <td>NNP</td>\n",
              "    </tr>\n",
              "    <tr>\n",
              "      <th>16</th>\n",
              "      <td>29</td>\n",
              "      <td>CD</td>\n",
              "    </tr>\n",
              "    <tr>\n",
              "      <th>17</th>\n",
              "      <td>.</td>\n",
              "      <td>.</td>\n",
              "    </tr>\n",
              "    <tr>\n",
              "      <th>18</th>\n",
              "      <td>Mr.</td>\n",
              "      <td>NNP</td>\n",
              "    </tr>\n",
              "    <tr>\n",
              "      <th>19</th>\n",
              "      <td>Vinken</td>\n",
              "      <td>NNP</td>\n",
              "    </tr>\n",
              "  </tbody>\n",
              "</table>\n",
              "</div>"
            ],
            "text/plain": [
              "            word label\n",
              "0         Pierre   NNP\n",
              "1         Vinken   NNP\n",
              "2              ,     ,\n",
              "3             61    CD\n",
              "4          years   NNS\n",
              "5            old    JJ\n",
              "6              ,     ,\n",
              "7           will    MD\n",
              "8           join    VB\n",
              "9            the    DT\n",
              "10         board    NN\n",
              "11            as    IN\n",
              "12             a    DT\n",
              "13  nonexecutive    JJ\n",
              "14      director    NN\n",
              "15          Nov.   NNP\n",
              "16            29    CD\n",
              "17             .     .\n",
              "18           Mr.   NNP\n",
              "19        Vinken   NNP"
            ]
          },
          "execution_count": 8,
          "metadata": {},
          "output_type": "execute_result"
        }
      ],
      "source": [
        "full_dataset.head(20)"
      ]
    },
    {
      "cell_type": "markdown",
      "metadata": {
        "id": "ZjqrPfy4i8CB"
      },
      "source": [
        "Each document contains a different tokenized article:"
      ]
    },
    {
      "cell_type": "code",
      "execution_count": 9,
      "metadata": {
        "colab": {
          "base_uri": "https://localhost:8080/",
          "height": 35
        },
        "id": "EE9Qv0tUi8CB",
        "outputId": "e30aff6e-1232-4e2b-ffd9-13f16266d021"
      },
      "outputs": [
        {
          "data": {
            "text/plain": [
              "'Pierre Vinken , 61 years old , will join the board as a nonexecutive director Nov. 29 . Mr. Vinken is chairman of Elsevier N.V. , the Dutch publishing group .'"
            ]
          },
          "execution_count": 9,
          "metadata": {},
          "output_type": "execute_result"
        }
      ],
      "source": [
        "sample_article = loadCorpus(1)\n",
        "\" \".join(sample_article[\"word\"])"
      ]
    },
    {
      "cell_type": "code",
      "execution_count": 10,
      "metadata": {
        "colab": {
          "base_uri": "https://localhost:8080/",
          "height": 35
        },
        "id": "sDIadSSJi8CB",
        "outputId": "abe1afe2-912b-48f6-e739-3e0ee2f0209f"
      },
      "outputs": [
        {
          "data": {
            "text/plain": [
              "'Rudolph Agnew , 55 years old and former chairman of Consolidated Gold Fields PLC , was named a nonexecutive director of this British industrial conglomerate .'"
            ]
          },
          "execution_count": 10,
          "metadata": {},
          "output_type": "execute_result"
        }
      ],
      "source": [
        "\" \".join(loadCorpus(2)[\"word\"])"
      ]
    },
    {
      "cell_type": "code",
      "execution_count": 11,
      "metadata": {
        "colab": {
          "base_uri": "https://localhost:8080/",
          "height": 336
        },
        "id": "dcAVyveni8CC",
        "outputId": "7883d74b-6522-4e1d-96ad-202d4aa632c5"
      },
      "outputs": [
        {
          "name": "stderr",
          "output_type": "stream",
          "text": [
            "/opt/anaconda3/envs/nlp/lib/python3.7/site-packages/ipykernel_launcher.py:5: UserWarning: Matplotlib is currently using module://matplotlib_inline.backend_inline, which is a non-GUI backend, so cannot show the figure.\n",
            "  \"\"\"\n"
          ]
        },
        {
          "data": {
            "image/png": "[encoded data removed]",
            "text/plain": [
              "<Figure size 1500x500 with 1 Axes>"
            ]
          },
          "metadata": {},
          "output_type": "display_data"
        }
      ],
      "source": [
        "fig=plt.figure(figsize=(15,5))\n",
        "p = plt.hist(full_dataset[\"label\"])\n",
        "plt.xticks(rotation=45)\n",
        "fig.savefig('./report/classes_with_punctuation.png')\n",
        "fig.show()"
      ]
    },
    {
      "cell_type": "code",
      "execution_count": 12,
      "metadata": {
        "colab": {
          "base_uri": "https://localhost:8080/",
          "height": 306
        },
        "id": "K9XyBPIQi8CC",
        "outputId": "634bd8a0-9f73-4984-fde7-b681f6948b85"
      },
      "outputs": [
        {
          "data": {
            "image/png": "[encoded data removed]",
            "text/plain": [
              "<Figure size 1500x500 with 1 Axes>"
            ]
          },
          "metadata": {},
          "output_type": "display_data"
        }
      ],
      "source": [
        "fig=plt.figure(figsize=(15,5))\n",
        "p = plt.plot(full_dataset[\"word\"].value_counts())\n",
        "plt.xticks([])\n",
        "plt.show()"
      ]
    },
    {
      "cell_type": "markdown",
      "metadata": {
        "id": "MzyI2Wufi8CD"
      },
      "source": [
        "## Data splitting\n",
        "\n",
        "\n",
        "\n"
      ]
    },
    {
      "cell_type": "markdown",
      "metadata": {
        "id": "Nep1haoQkIO0"
      },
      "source": [
        "Creation of train, validation and test sets."
      ]
    },
    {
      "cell_type": "code",
      "execution_count": 13,
      "metadata": {
        "colab": {
          "base_uri": "https://localhost:8080/"
        },
        "id": "kOG5wns9X011",
        "outputId": "1119764b-c5c7-4684-e270-bce6405fcac1"
      },
      "outputs": [
        {
          "data": {
            "text/plain": [
              "word     47356\n",
              "label    47356\n",
              "dtype: int64"
            ]
          },
          "execution_count": 13,
          "metadata": {},
          "output_type": "execute_result"
        }
      ],
      "source": [
        "df_train = loadCorpus(1,101) \n",
        "df_val = loadCorpus(101,151)\n",
        "df_test = loadCorpus(151,200)\n",
        "\n",
        "df_train.count()"
      ]
    },
    {
      "cell_type": "code",
      "execution_count": 14,
      "metadata": {
        "colab": {
          "base_uri": "https://localhost:8080/"
        },
        "id": "Th6dXqh94849",
        "outputId": "78c56393-e102-4238-dbc2-acb0b8d22b07"
      },
      "outputs": [
        {
          "data": {
            "text/plain": [
              "word     31183\n",
              "label    31183\n",
              "dtype: int64"
            ]
          },
          "execution_count": 14,
          "metadata": {},
          "output_type": "execute_result"
        }
      ],
      "source": [
        "df_val.count()"
      ]
    },
    {
      "cell_type": "code",
      "execution_count": 15,
      "metadata": {
        "colab": {
          "base_uri": "https://localhost:8080/"
        },
        "id": "Hj_BdDsA4849",
        "outputId": "bff6ccb2-fdb4-49ac-95ec-7f10b1d8a590"
      },
      "outputs": [
        {
          "data": {
            "text/plain": [
              "word     15545\n",
              "label    15545\n",
              "dtype: int64"
            ]
          },
          "execution_count": 15,
          "metadata": {},
          "output_type": "execute_result"
        }
      ],
      "source": [
        "df_test.count()"
      ]
    },
    {
      "cell_type": "markdown",
      "metadata": {
        "id": "XJrGcYbJ4849"
      },
      "source": [
        "## Data pre-processing"
      ]
    },
    {
      "cell_type": "markdown",
      "metadata": {
        "id": "vjPNQ9ilk7X_"
      },
      "source": [
        "Clean the data."
      ]
    },
    {
      "cell_type": "code",
      "execution_count": 16,
      "metadata": {
        "id": "4T_aIaLxk4Xp"
      },
      "outputs": [],
      "source": [
        "def cleanCorpus(corpus):\n",
        "    # Lower every word    \n",
        "    corpus['word'] = corpus['word'].str.lower()\n",
        "    return corpus"
      ]
    },
    {
      "cell_type": "code",
      "execution_count": 17,
      "metadata": {
        "colab": {
          "base_uri": "https://localhost:8080/",
          "height": 336
        },
        "id": "DzhR6r5HOw5x",
        "outputId": "8e7bd00e-2543-487a-ee69-10ba9daccce9"
      },
      "outputs": [
        {
          "data": {
            "image/png": "[encoded data removed]",
            "text/plain": [
              "<Figure size 1500x500 with 1 Axes>"
            ]
          },
          "metadata": {},
          "output_type": "display_data"
        }
      ],
      "source": [
        "fig=plt.figure(figsize=(15,5))\n",
        "p = plt.hist(cleanCorpus(full_dataset)[\"label\"])\n",
        "plt.xticks(rotation=45)\n",
        "plt.show()"
      ]
    },
    {
      "cell_type": "code",
      "execution_count": 18,
      "metadata": {
        "colab": {
          "base_uri": "https://localhost:8080/"
        },
        "id": "lV6x05Lu26ym",
        "outputId": "c83e7795-7a17-4d6b-c589-0979cd06deb3"
      },
      "outputs": [
        {
          "data": {
            "text/plain": [
              "word     47356\n",
              "label    47356\n",
              "dtype: int64"
            ]
          },
          "execution_count": 18,
          "metadata": {},
          "output_type": "execute_result"
        }
      ],
      "source": [
        "#cleaned dataframes\n",
        "dfc_train = cleanCorpus(df_train)\n",
        "dfc_val = cleanCorpus(df_val)\n",
        "dfc_test = cleanCorpus(df_test)\n",
        "dfc_sample = cleanCorpus(sample_article)\n",
        "\n",
        "dfc_train.count()"
      ]
    },
    {
      "cell_type": "code",
      "execution_count": 19,
      "metadata": {
        "colab": {
          "base_uri": "https://localhost:8080/"
        },
        "id": "6Y4lYHXy484-",
        "outputId": "6580055b-eae3-444d-c4be-33b7024fa13d"
      },
      "outputs": [
        {
          "data": {
            "text/plain": [
              "word     31183\n",
              "label    31183\n",
              "dtype: int64"
            ]
          },
          "execution_count": 19,
          "metadata": {},
          "output_type": "execute_result"
        }
      ],
      "source": [
        "dfc_val.count()"
      ]
    },
    {
      "cell_type": "code",
      "execution_count": 20,
      "metadata": {
        "colab": {
          "base_uri": "https://localhost:8080/"
        },
        "id": "JfjU5ZVo484-",
        "outputId": "43ab1787-cb48-4168-e2d4-562f57192aef"
      },
      "outputs": [
        {
          "data": {
            "text/plain": [
              "word     15545\n",
              "label    15545\n",
              "dtype: int64"
            ]
          },
          "execution_count": 20,
          "metadata": {},
          "output_type": "execute_result"
        }
      ],
      "source": [
        "dfc_test.count()"
      ]
    },
    {
      "cell_type": "code",
      "execution_count": 21,
      "metadata": {
        "colab": {
          "base_uri": "https://localhost:8080/",
          "height": 677
        },
        "id": "R4fHZaScmPoU",
        "outputId": "cc5a3826-28fb-48aa-efed-9084cd836bad"
      },
      "outputs": [
        {
          "data": {
            "text/html": [
              "<div>\n",
              "<style scoped>\n",
              "    .dataframe tbody tr th:only-of-type {\n",
              "        vertical-align: middle;\n",
              "    }\n",
              "\n",
              "    .dataframe tbody tr th {\n",
              "        vertical-align: top;\n",
              "    }\n",
              "\n",
              "    .dataframe thead th {\n",
              "        text-align: right;\n",
              "    }\n",
              "</style>\n",
              "<table border=\"1\" class=\"dataframe\">\n",
              "  <thead>\n",
              "    <tr style=\"text-align: right;\">\n",
              "      <th></th>\n",
              "      <th>word</th>\n",
              "      <th>label</th>\n",
              "    </tr>\n",
              "  </thead>\n",
              "  <tbody>\n",
              "    <tr>\n",
              "      <th>0</th>\n",
              "      <td>pierre</td>\n",
              "      <td>NNP</td>\n",
              "    </tr>\n",
              "    <tr>\n",
              "      <th>1</th>\n",
              "      <td>vinken</td>\n",
              "      <td>NNP</td>\n",
              "    </tr>\n",
              "    <tr>\n",
              "      <th>2</th>\n",
              "      <td>,</td>\n",
              "      <td>,</td>\n",
              "    </tr>\n",
              "    <tr>\n",
              "      <th>3</th>\n",
              "      <td>61</td>\n",
              "      <td>CD</td>\n",
              "    </tr>\n",
              "    <tr>\n",
              "      <th>4</th>\n",
              "      <td>years</td>\n",
              "      <td>NNS</td>\n",
              "    </tr>\n",
              "    <tr>\n",
              "      <th>5</th>\n",
              "      <td>old</td>\n",
              "      <td>JJ</td>\n",
              "    </tr>\n",
              "    <tr>\n",
              "      <th>6</th>\n",
              "      <td>,</td>\n",
              "      <td>,</td>\n",
              "    </tr>\n",
              "    <tr>\n",
              "      <th>7</th>\n",
              "      <td>will</td>\n",
              "      <td>MD</td>\n",
              "    </tr>\n",
              "    <tr>\n",
              "      <th>8</th>\n",
              "      <td>join</td>\n",
              "      <td>VB</td>\n",
              "    </tr>\n",
              "    <tr>\n",
              "      <th>9</th>\n",
              "      <td>the</td>\n",
              "      <td>DT</td>\n",
              "    </tr>\n",
              "    <tr>\n",
              "      <th>10</th>\n",
              "      <td>board</td>\n",
              "      <td>NN</td>\n",
              "    </tr>\n",
              "    <tr>\n",
              "      <th>11</th>\n",
              "      <td>as</td>\n",
              "      <td>IN</td>\n",
              "    </tr>\n",
              "    <tr>\n",
              "      <th>12</th>\n",
              "      <td>a</td>\n",
              "      <td>DT</td>\n",
              "    </tr>\n",
              "    <tr>\n",
              "      <th>13</th>\n",
              "      <td>nonexecutive</td>\n",
              "      <td>JJ</td>\n",
              "    </tr>\n",
              "    <tr>\n",
              "      <th>14</th>\n",
              "      <td>director</td>\n",
              "      <td>NN</td>\n",
              "    </tr>\n",
              "    <tr>\n",
              "      <th>15</th>\n",
              "      <td>nov.</td>\n",
              "      <td>NNP</td>\n",
              "    </tr>\n",
              "    <tr>\n",
              "      <th>16</th>\n",
              "      <td>29</td>\n",
              "      <td>CD</td>\n",
              "    </tr>\n",
              "    <tr>\n",
              "      <th>17</th>\n",
              "      <td>.</td>\n",
              "      <td>.</td>\n",
              "    </tr>\n",
              "    <tr>\n",
              "      <th>18</th>\n",
              "      <td>mr.</td>\n",
              "      <td>NNP</td>\n",
              "    </tr>\n",
              "    <tr>\n",
              "      <th>19</th>\n",
              "      <td>vinken</td>\n",
              "      <td>NNP</td>\n",
              "    </tr>\n",
              "  </tbody>\n",
              "</table>\n",
              "</div>"
            ],
            "text/plain": [
              "            word label\n",
              "0         pierre   NNP\n",
              "1         vinken   NNP\n",
              "2              ,     ,\n",
              "3             61    CD\n",
              "4          years   NNS\n",
              "5            old    JJ\n",
              "6              ,     ,\n",
              "7           will    MD\n",
              "8           join    VB\n",
              "9            the    DT\n",
              "10         board    NN\n",
              "11            as    IN\n",
              "12             a    DT\n",
              "13  nonexecutive    JJ\n",
              "14      director    NN\n",
              "15          nov.   NNP\n",
              "16            29    CD\n",
              "17             .     .\n",
              "18           mr.   NNP\n",
              "19        vinken   NNP"
            ]
          },
          "execution_count": 21,
          "metadata": {},
          "output_type": "execute_result"
        }
      ],
      "source": [
        "dfc_train.head(20)"
      ]
    },
    {
      "cell_type": "markdown",
      "metadata": {
        "id": "6VsU_XpAi8CF"
      },
      "source": [
        "## Word embedding"
      ]
    },
    {
      "cell_type": "markdown",
      "metadata": {
        "id": "4Bep7HYL484_"
      },
      "source": [
        "### Loading GloVe"
      ]
    },
    {
      "cell_type": "markdown",
      "metadata": {
        "id": "92d15Xzr4qAn"
      },
      "source": [
        "\n",
        "Loading pre-trained dense word embedding representation: GloVe.\n",
        "\n",
        "\n",
        "\n",
        "\n"
      ]
    },
    {
      "cell_type": "code",
      "execution_count": 22,
      "metadata": {
        "id": "UZBrvzL8t6_U"
      },
      "outputs": [],
      "source": [
        "import gensim\n",
        "import gensim.downloader as gloader\n",
        "\n",
        "def load_embedding_model(model_type: str,\n",
        "                         embedding_dimension: int = 50) -> gensim.models.keyedvectors.KeyedVectors:\n",
        "    \"\"\"\n",
        "    Loads a pre-trained word embedding model via gensim library.\n",
        "\n",
        "    :param model_type: name of the word embedding model to load.\n",
        "    :param embedding_dimension: size of the embedding space to consider\n",
        "\n",
        "    :return\n",
        "        - pre-trained word embedding model (gensim KeyedVectors object)\n",
        "    \"\"\"\n",
        "    download_path = \"\"\n",
        "    if model_type.strip().lower() == 'word2vec':\n",
        "        download_path = \"word2vec-google-news-300\"\n",
        "\n",
        "    elif model_type.strip().lower() == 'glove':\n",
        "        download_path = \"glove-wiki-gigaword-{}\".format(embedding_dimension)\n",
        "    elif model_type.strip().lower() == 'fasttext':\n",
        "        download_path = \"fasttext-wiki-news-subwords-300\"\n",
        "    else:\n",
        "        raise AttributeError(\"Unsupported embedding model type! Available ones: word2vec, glove, fasttext\")\n",
        "        \n",
        "    try:\n",
        "        emb_model = gloader.load(download_path)\n",
        "    except ValueError as e:\n",
        "        print(\"Invalid embedding model name! Check the embedding dimension:\")\n",
        "        print(\"Word2Vec: 300\")\n",
        "        print(\"Glove: 50, 100, 200, 300\")\n",
        "        print('FastText: 300')\n",
        "        raise e\n",
        "\n",
        "    return emb_model"
      ]
    },
    {
      "cell_type": "code",
      "execution_count": 23,
      "metadata": {
        "id": "2hPJ_neS5Vxd"
      },
      "outputs": [],
      "source": [
        "# Modify these variables as you wish!\n",
        "# Glove -> 50, 100, 200, 300 (200 seems the better)\n",
        "# Word2Vec -> 300\n",
        "# Fasttext -> 300\n",
        "embedding_dimension = 200\n",
        "embedding_model = load_embedding_model(model_type=\"glove\", embedding_dimension= embedding_dimension)"
      ]
    },
    {
      "cell_type": "markdown",
      "metadata": {
        "id": "jU0rgZ0I484_"
      },
      "source": [
        "### Analyzing OOV statistics"
      ]
    },
    {
      "cell_type": "code",
      "execution_count": 24,
      "metadata": {
        "colab": {
          "base_uri": "https://localhost:8080/"
        },
        "id": "S76fxrkJ484_",
        "outputId": "a8ad44f2-173a-4458-c775-ee296ac177ba"
      },
      "outputs": [
        {
          "data": {
            "text/plain": [
              "['the', ',', '.', 'of', 'to', 'and', 'in', 'a', '\"', \"'s\"]"
            ]
          },
          "execution_count": 24,
          "metadata": {},
          "output_type": "execute_result"
        }
      ],
      "source": [
        "embedding_model.index_to_key[0:10]"
      ]
    },
    {
      "cell_type": "code",
      "execution_count": 25,
      "metadata": {
        "colab": {
          "base_uri": "https://localhost:8080/"
        },
        "id": "CdGVCkXI485A",
        "outputId": "3cbde795-36fd-4322-a659-bac1926a4257"
      },
      "outputs": [
        {
          "name": "stdout",
          "output_type": "stream",
          "text": [
            "oov_train_size: 359\n",
            "oov_val_size: 213\n",
            "oov_test_size: 161\n"
          ]
        }
      ],
      "source": [
        "oov_train = list(set([word for word in dfc_train.word.values if word not in embedding_model.index_to_key]))\n",
        "oov_val = list(set([word for word in dfc_val.word.values if word not in embedding_model.index_to_key]))\n",
        "oov_test = list(set([word for word in dfc_test.word.values if word not in embedding_model.index_to_key]))\n",
        "print(f'oov_train_size: {len(oov_train)}')\n",
        "print(f'oov_val_size: {len(oov_val)}')\n",
        "print(f'oov_test_size: {len(oov_test)}')"
      ]
    },
    {
      "cell_type": "code",
      "execution_count": 26,
      "metadata": {
        "colab": {
          "base_uri": "https://localhost:8080/"
        },
        "id": "_FCfRir-485A",
        "outputId": "d9db8092-876d-49f7-9f06-2c0938392dee"
      },
      "outputs": [
        {
          "data": {
            "text/plain": [
              "['prize-fighter',\n",
              " 'security-type',\n",
              " 'drobnick',\n",
              " 'bridgestone\\\\/firestone',\n",
              " '12,252',\n",
              " 'light-truck',\n",
              " 'greenmailer',\n",
              " 'forest-product',\n",
              " 'money-center',\n",
              " 'built-from-kit']"
            ]
          },
          "execution_count": 26,
          "metadata": {},
          "output_type": "execute_result"
        }
      ],
      "source": [
        "oov_train[0:10]"
      ]
    },
    {
      "cell_type": "markdown",
      "metadata": {
        "id": "d3NWFTMjmg78"
      },
      "source": [
        "### GloVe Embedding"
      ]
    },
    {
      "cell_type": "markdown",
      "metadata": {
        "id": "vMrf7Fro485A"
      },
      "source": [
        "#### Prepare the embedding matrix"
      ]
    },
    {
      "cell_type": "code",
      "execution_count": 27,
      "metadata": {
        "id": "O5GdVec3XGTn"
      },
      "outputs": [],
      "source": [
        "def deal_OOV(vectors, vocabulary, embedding_dimension, oov_set):\n",
        "  #deal with oov words by adding a random embedding vector to the embedding matrix\n",
        "  for idx in range(0, len(oov_set)):\n",
        "    if oov_set[idx] not in vocabulary:\n",
        "      vocabulary.append(oov_set[idx])\n",
        "      #use random embedding for OOV word\n",
        "      embedding_vector = np.random.uniform(low=-0.05, high=0.05, size= embedding_dimension)\n",
        "      vectors.append(embedding_vector)\n",
        "  return vocabulary, vectors"
      ]
    },
    {
      "cell_type": "code",
      "execution_count": 28,
      "metadata": {
        "colab": {
          "base_uri": "https://localhost:8080/"
        },
        "id": "IlTNKSH5MLQ_",
        "outputId": "e253383e-e3f0-4707-cb47-c3383e230382"
      },
      "outputs": [
        {
          "name": "stdout",
          "output_type": "stream",
          "text": [
            "(400677, 200)\n"
          ]
        }
      ],
      "source": [
        "#GloVe vocabulary\n",
        "words = list(embedding_model.index_to_key)\n",
        "#extracting the GloVe embedding vectors\n",
        "vectors = [embedding_model[word] for word in words]\n",
        "em0 =np.array([0.0]*embedding_dimension)\n",
        "vectors.insert(0, em0)\n",
        "\n",
        "#deal with train oov words\n",
        "vocab, vectors = deal_OOV(vectors, words, embedding_dimension, oov_train)\n",
        "#deal with validation oov words\n",
        "vocab, vectors = deal_OOV(vectors, vocab, embedding_dimension, oov_val)\n",
        "#deal with test oov words\n",
        "vocab, vectors = deal_OOV(vectors, vocab, embedding_dimension, oov_test)\n",
        "\n",
        "embedding_matrix = np.asarray(vectors)\n",
        "print(np.shape(embedding_matrix))\n"
      ]
    },
    {
      "cell_type": "markdown",
      "metadata": {
        "id": "9Htl90Gw485B"
      },
      "source": [
        "Define a tokenizer."
      ]
    },
    {
      "cell_type": "code",
      "execution_count": 29,
      "metadata": {
        "colab": {
          "base_uri": "https://localhost:8080/"
        },
        "id": "coeo_iy1gJSu",
        "outputId": "2cad224a-79b3-4798-e528-35fe9e3f6180"
      },
      "outputs": [
        {
          "name": "stdout",
          "output_type": "stream",
          "text": [
            "Number of unique words in dictionary= 400676\n",
            "Dictionary head:  {'the': 1, ',': 2, '.': 3, 'of': 4, 'to': 5, 'and': 6, 'in': 7, 'a': 8, '\"': 9, \"'s\": 10, 'for': 11, '-': 12, 'that': 13, 'on': 14, 'is': 15, 'was': 16, 'said': 17, 'with': 18, 'he': 19, 'as': 20, 'it': 21, 'by': 22, 'at': 23, '(': 24, ')': 25, 'from': 26, 'his': 27, \"''\": 28, '``': 29, 'an': 30, 'be': 31, 'has': 32, 'are': 33, 'have': 34, 'but': 35, 'were': 36, 'not': 37, 'this': 38, 'who': 39, 'they': 40, 'had': 41, 'i': 42, 'which': 43, 'will': 44, 'their': 45, ':': 46, 'or': 47, 'its': 48, 'one': 49, 'after': 50}\n"
          ]
        }
      ],
      "source": [
        "from tensorflow.keras.preprocessing.text import Tokenizer\n",
        "\n",
        "# define the tokenizer, removing the default filters: '!\"#$%&()*+,-./:;<=>?@[\\\\]^_`{|}~\\t\\n' \n",
        "tokenizer = Tokenizer(filters='')\n",
        "#text = dfc_train.word.values\n",
        "#fit the tokenizer on the vocabulary of GloVe, including also the OOV words \n",
        "tokenizer.fit_on_texts(vocab)\n",
        "\n",
        "# number of unique words in dict.\n",
        "print(\"Number of unique words in dictionary=\", len(tokenizer.word_index))\n",
        "print(\"Dictionary head: \", dict(list(tokenizer.word_index.items())[0:50]))"
      ]
    },
    {
      "cell_type": "code",
      "execution_count": 30,
      "metadata": {
        "colab": {
          "base_uri": "https://localhost:8080/",
          "height": 70
        },
        "id": "6pHoC5Xe3ETA",
        "outputId": "8ee4e2a0-b510-4e96-9df6-463946279372"
      },
      "outputs": [
        {
          "data": {
            "text/plain": [
              "'\\nfrom tensorflow.keras.preprocessing.text import Tokenizer\\n\\n# define the tokenizer\\ntokenizer = Tokenizer(oov_token=\\'<unk>\\')\\ntext = dfc_train.word.values\\n\\n#fit the tokenizer on the training data\\ntokenizer.fit_on_texts(text)\\n\\n# number of unique words in dict.\\nprint(\"Number of unique words in dictionary=\", len(tokenizer.word_index))\\nprint(\"Dictionary head: \", dict(list(tokenizer.word_index.items())[0:10]))\\n'"
            ]
          },
          "execution_count": 30,
          "metadata": {},
          "output_type": "execute_result"
        }
      ],
      "source": [
        "\"\"\"\n",
        "from tensorflow.keras.preprocessing.text import Tokenizer\n",
        "\n",
        "# define the tokenizer\n",
        "tokenizer = Tokenizer(oov_token='<unk>')\n",
        "text = dfc_train.word.values\n",
        "\n",
        "#fit the tokenizer on the training data\n",
        "tokenizer.fit_on_texts(text)\n",
        "\n",
        "# number of unique words in dict.\n",
        "print(\"Number of unique words in dictionary=\", len(tokenizer.word_index))\n",
        "print(\"Dictionary head: \", dict(list(tokenizer.word_index.items())[0:10]))\n",
        "\"\"\""
      ]
    },
    {
      "cell_type": "code",
      "execution_count": 31,
      "metadata": {
        "id": "HoHKd6mLOw52"
      },
      "outputs": [],
      "source": [
        "with open('./Dataset/word_index.json','w') as word_index_file:\n",
        "    word_index_file.write(tokenizer.to_json())"
      ]
    },
    {
      "cell_type": "markdown",
      "metadata": {
        "id": "zYWHS267ohxZ"
      },
      "source": [
        "Define the embedding matrix."
      ]
    },
    {
      "cell_type": "code",
      "execution_count": 32,
      "metadata": {
        "colab": {
          "base_uri": "https://localhost:8080/",
          "height": 105
        },
        "id": "xpBaqwkd5axM",
        "outputId": "2c3f44a1-c246-42e4-b17b-7fd414ff56d8"
      },
      "outputs": [
        {
          "data": {
            "text/plain": [
              "'\\nfrom tqdm import tqdm\\n\\ndef build_embedding_matrix(embedding_model: gensim.models.keyedvectors.KeyedVectors,\\n                           embedding_dimension: int,\\n                           word_to_idx,\\n                           vocab_size: int) -> np.ndarray:\\n    \\n    Builds the embedding matrix of a specific dataset given a pre-trained word embedding model\\n\\n    :param embedding_model: pre-trained word embedding model (gensim wrapper)\\n    :param word_to_idx: vocabulary map (word -> index) (dict)\\n    :param vocab_size: size of the vocabulary\\n    \\n\\n    :return\\n        - embedding matrix that assigns a high dimensional vector to each word in the dataset specific vocabulary (shape |V| x d)\\n    \\n    embedding_matrix = np.zeros((vocab_size, embedding_dimension), dtype=np.float32)\\n    for word, idx in tqdm(tokenizer.word_index.items()):\\n        try:\\n            embedding_vector = embedding_model[word]\\n        except (KeyError, TypeError):\\n            #print(f\"Using random vector for \\'{word}\\'\")\\n            embedding_vector = np.random.uniform(low=-0.05, high=0.05, size=embedding_dimension)\\n\\n        embedding_matrix[idx] = embedding_vector\\n\\n    return embedding_matrix\\n'"
            ]
          },
          "execution_count": 32,
          "metadata": {},
          "output_type": "execute_result"
        }
      ],
      "source": [
        "#remove it after we are sure about the correctness of the embedding done above \n",
        "\"\"\"\n",
        "from tqdm import tqdm\n",
        "\n",
        "def build_embedding_matrix(embedding_model: gensim.models.keyedvectors.KeyedVectors,\n",
        "                           embedding_dimension: int,\n",
        "                           word_to_idx,\n",
        "                           vocab_size: int) -> np.ndarray:\n",
        "    \n",
        "    Builds the embedding matrix of a specific dataset given a pre-trained word embedding model\n",
        "\n",
        "    :param embedding_model: pre-trained word embedding model (gensim wrapper)\n",
        "    :param word_to_idx: vocabulary map (word -> index) (dict)\n",
        "    :param vocab_size: size of the vocabulary\n",
        "    \n",
        "\n",
        "    :return\n",
        "        - embedding matrix that assigns a high dimensional vector to each word in the dataset specific vocabulary (shape |V| x d)\n",
        "    \n",
        "    embedding_matrix = np.zeros((vocab_size, embedding_dimension), dtype=np.float32)\n",
        "    for word, idx in tqdm(tokenizer.word_index.items()):\n",
        "        try:\n",
        "            embedding_vector = embedding_model[word]\n",
        "        except (KeyError, TypeError):\n",
        "            #print(f\"Using random vector for '{word}'\")\n",
        "            embedding_vector = np.random.uniform(low=-0.05, high=0.05, size=embedding_dimension)\n",
        "\n",
        "        embedding_matrix[idx] = embedding_vector\n",
        "\n",
        "    return embedding_matrix\n",
        "\"\"\""
      ]
    },
    {
      "cell_type": "code",
      "execution_count": 33,
      "metadata": {
        "colab": {
          "base_uri": "https://localhost:8080/",
          "height": 53
        },
        "id": "nYYqz59Ilmem",
        "outputId": "fdad623e-ca44-4f9f-a7d1-98e275254289"
      },
      "outputs": [
        {
          "data": {
            "text/plain": [
              "'\\n# Testing\\nembedding_dimension = 50\\nvocab_size = len(tokenizer.word_index) + 1\\nembedding_matrix = build_embedding_matrix(embedding_model, embedding_dimension, tokenizer.word_index, vocab_size )\\nprint(f\"Embedding matrix shape: {embedding_matrix.shape}\")\\n'"
            ]
          },
          "execution_count": 33,
          "metadata": {},
          "output_type": "execute_result"
        }
      ],
      "source": [
        "\"\"\"\n",
        "# Testing\n",
        "embedding_dimension = 50\n",
        "vocab_size = len(tokenizer.word_index) + 1\n",
        "embedding_matrix = build_embedding_matrix(embedding_model, embedding_dimension, tokenizer.word_index, vocab_size )\n",
        "print(f\"Embedding matrix shape: {embedding_matrix.shape}\")\n",
        "\"\"\""
      ]
    },
    {
      "cell_type": "markdown",
      "metadata": {
        "id": "ojCSzxS1485B"
      },
      "source": [
        "#### Encode the dataset"
      ]
    },
    {
      "cell_type": "markdown",
      "metadata": {
        "id": "BLiAw26WqhqF"
      },
      "source": [
        "Define a label encoder for the target class."
      ]
    },
    {
      "cell_type": "code",
      "execution_count": 34,
      "metadata": {
        "id": "54XQt_rz6fgv"
      },
      "outputs": [],
      "source": [
        "from sklearn.preprocessing import LabelEncoder, OneHotEncoder\n",
        "\n",
        "le = LabelEncoder()\n",
        "dfc_train['encoded_label'] = le.fit_transform(dfc_train['label'])\n",
        "dfc_val['encoded_label'] = le.transform(dfc_val['label'])\n",
        "dfc_test['encoded_label'] = le.transform(dfc_test['label'])\n",
        "dfc_sample['encoded_label'] = le.transform(dfc_sample['label'])"
      ]
    },
    {
      "cell_type": "code",
      "execution_count": 35,
      "metadata": {
        "colab": {
          "base_uri": "https://localhost:8080/",
          "height": 677
        },
        "id": "5YGyoO0h485C",
        "outputId": "7dfe5423-5c46-4c18-d102-c06ec7fd74ed"
      },
      "outputs": [
        {
          "data": {
            "text/html": [
              "<div>\n",
              "<style scoped>\n",
              "    .dataframe tbody tr th:only-of-type {\n",
              "        vertical-align: middle;\n",
              "    }\n",
              "\n",
              "    .dataframe tbody tr th {\n",
              "        vertical-align: top;\n",
              "    }\n",
              "\n",
              "    .dataframe thead th {\n",
              "        text-align: right;\n",
              "    }\n",
              "</style>\n",
              "<table border=\"1\" class=\"dataframe\">\n",
              "  <thead>\n",
              "    <tr style=\"text-align: right;\">\n",
              "      <th></th>\n",
              "      <th>word</th>\n",
              "      <th>label</th>\n",
              "      <th>encoded_label</th>\n",
              "    </tr>\n",
              "  </thead>\n",
              "  <tbody>\n",
              "    <tr>\n",
              "      <th>0</th>\n",
              "      <td>pierre</td>\n",
              "      <td>NNP</td>\n",
              "      <td>20</td>\n",
              "    </tr>\n",
              "    <tr>\n",
              "      <th>1</th>\n",
              "      <td>vinken</td>\n",
              "      <td>NNP</td>\n",
              "      <td>20</td>\n",
              "    </tr>\n",
              "    <tr>\n",
              "      <th>2</th>\n",
              "      <td>,</td>\n",
              "      <td>,</td>\n",
              "      <td>3</td>\n",
              "    </tr>\n",
              "    <tr>\n",
              "      <th>3</th>\n",
              "      <td>61</td>\n",
              "      <td>CD</td>\n",
              "      <td>9</td>\n",
              "    </tr>\n",
              "    <tr>\n",
              "      <th>4</th>\n",
              "      <td>years</td>\n",
              "      <td>NNS</td>\n",
              "      <td>22</td>\n",
              "    </tr>\n",
              "    <tr>\n",
              "      <th>5</th>\n",
              "      <td>old</td>\n",
              "      <td>JJ</td>\n",
              "      <td>14</td>\n",
              "    </tr>\n",
              "    <tr>\n",
              "      <th>6</th>\n",
              "      <td>,</td>\n",
              "      <td>,</td>\n",
              "      <td>3</td>\n",
              "    </tr>\n",
              "    <tr>\n",
              "      <th>7</th>\n",
              "      <td>will</td>\n",
              "      <td>MD</td>\n",
              "      <td>18</td>\n",
              "    </tr>\n",
              "    <tr>\n",
              "      <th>8</th>\n",
              "      <td>join</td>\n",
              "      <td>VB</td>\n",
              "      <td>34</td>\n",
              "    </tr>\n",
              "    <tr>\n",
              "      <th>9</th>\n",
              "      <td>the</td>\n",
              "      <td>DT</td>\n",
              "      <td>10</td>\n",
              "    </tr>\n",
              "    <tr>\n",
              "      <th>10</th>\n",
              "      <td>board</td>\n",
              "      <td>NN</td>\n",
              "      <td>19</td>\n",
              "    </tr>\n",
              "    <tr>\n",
              "      <th>11</th>\n",
              "      <td>as</td>\n",
              "      <td>IN</td>\n",
              "      <td>13</td>\n",
              "    </tr>\n",
              "    <tr>\n",
              "      <th>12</th>\n",
              "      <td>a</td>\n",
              "      <td>DT</td>\n",
              "      <td>10</td>\n",
              "    </tr>\n",
              "    <tr>\n",
              "      <th>13</th>\n",
              "      <td>nonexecutive</td>\n",
              "      <td>JJ</td>\n",
              "      <td>14</td>\n",
              "    </tr>\n",
              "    <tr>\n",
              "      <th>14</th>\n",
              "      <td>director</td>\n",
              "      <td>NN</td>\n",
              "      <td>19</td>\n",
              "    </tr>\n",
              "    <tr>\n",
              "      <th>15</th>\n",
              "      <td>nov.</td>\n",
              "      <td>NNP</td>\n",
              "      <td>20</td>\n",
              "    </tr>\n",
              "    <tr>\n",
              "      <th>16</th>\n",
              "      <td>29</td>\n",
              "      <td>CD</td>\n",
              "      <td>9</td>\n",
              "    </tr>\n",
              "    <tr>\n",
              "      <th>17</th>\n",
              "      <td>.</td>\n",
              "      <td>.</td>\n",
              "      <td>6</td>\n",
              "    </tr>\n",
              "    <tr>\n",
              "      <th>18</th>\n",
              "      <td>mr.</td>\n",
              "      <td>NNP</td>\n",
              "      <td>20</td>\n",
              "    </tr>\n",
              "    <tr>\n",
              "      <th>19</th>\n",
              "      <td>vinken</td>\n",
              "      <td>NNP</td>\n",
              "      <td>20</td>\n",
              "    </tr>\n",
              "  </tbody>\n",
              "</table>\n",
              "</div>"
            ],
            "text/plain": [
              "            word label  encoded_label\n",
              "0         pierre   NNP             20\n",
              "1         vinken   NNP             20\n",
              "2              ,     ,              3\n",
              "3             61    CD              9\n",
              "4          years   NNS             22\n",
              "5            old    JJ             14\n",
              "6              ,     ,              3\n",
              "7           will    MD             18\n",
              "8           join    VB             34\n",
              "9            the    DT             10\n",
              "10         board    NN             19\n",
              "11            as    IN             13\n",
              "12             a    DT             10\n",
              "13  nonexecutive    JJ             14\n",
              "14      director    NN             19\n",
              "15          nov.   NNP             20\n",
              "16            29    CD              9\n",
              "17             .     .              6\n",
              "18           mr.   NNP             20\n",
              "19        vinken   NNP             20"
            ]
          },
          "execution_count": 35,
          "metadata": {},
          "output_type": "execute_result"
        }
      ],
      "source": [
        "dfc_train.head(20)"
      ]
    },
    {
      "cell_type": "code",
      "execution_count": 36,
      "metadata": {
        "colab": {
          "base_uri": "https://localhost:8080/"
        },
        "id": "NWhjjLitz3f7",
        "outputId": "8b68ca6f-5fd5-4530-e2cf-e781bb01a742"
      },
      "outputs": [
        {
          "name": "stdout",
          "output_type": "stream",
          "text": [
            "Punctation labels: [ 3  6 44  2  7  1  4  5 31  0]\n"
          ]
        }
      ],
      "source": [
        "# Filter out punctuation based on the class\n",
        "# https://universaldependencies.org/docs/en/pos/all.html#al-en-pos/PUNCT\n",
        "punctuation_classes = [ \n",
        "    \"``\", \"’’\", \"-LRB-\", \"-RRB-\", \",\", \".\", \":\", \"HYPH\", # PUNCT: punctuation\n",
        "    \"#\", \"$\", \"SYM\", # SYM: symbol\n",
        "    \"''\", # Custom\n",
        "]\n",
        "\n",
        "# Select all the unique classes in the dataframe and their encoding\n",
        "labels = dfc_train.drop_duplicates(['label','encoded_label'])[['label','encoded_label']]\n",
        "\n",
        "# Extracting the encoded label vector for all punctuation and symbols. Will be used in F1 score calculation   \n",
        "punctuation_labels = labels[labels.label.isin(punctuation_classes)]['encoded_label'].values\n",
        "\n",
        "print(f\"Punctation labels: {punctuation_labels}\")"
      ]
    },
    {
      "cell_type": "markdown",
      "metadata": {
        "id": "yS7M36zPrBip"
      },
      "source": [
        "Transform the text into a sequence of integers using the tokenizer defined before. "
      ]
    },
    {
      "cell_type": "code",
      "execution_count": 37,
      "metadata": {
        "colab": {
          "base_uri": "https://localhost:8080/"
        },
        "id": "72n2_dZHDprc",
        "outputId": "2b044441-8bc7-47a3-a7a3-033b2ef966bf"
      },
      "outputs": [
        {
          "data": {
            "text/plain": [
              "45"
            ]
          },
          "execution_count": 37,
          "metadata": {},
          "output_type": "execute_result"
        }
      ],
      "source": [
        "x_train = np.array(tokenizer.texts_to_sequences(list(dfc_train.word.values))) \n",
        "y_train = np.array( dfc_train['encoded_label'])\n",
        "\n",
        "x_val = np.array(tokenizer.texts_to_sequences(dfc_val.word.values))\n",
        "y_val = np.array(dfc_val['encoded_label'])\n",
        "\n",
        "x_test = np.array(tokenizer.texts_to_sequences(dfc_test.word.values))\n",
        "y_test = np.array(dfc_test['encoded_label'])\n",
        "\n",
        "x_sample = np.array(tokenizer.texts_to_sequences(dfc_sample.word.values))\n",
        "y_sample = np.array(dfc_sample['encoded_label'])\n",
        "\n",
        "#number of unique labels\n",
        "num_classes = len(np.unique(y_train))\n",
        "num_classes"
      ]
    },
    {
      "cell_type": "markdown",
      "metadata": {
        "id": "51RMHWA0r2ep"
      },
      "source": [
        "Pad the sequences to make them of same length before passing them to the model."
      ]
    },
    {
      "cell_type": "code",
      "execution_count": 38,
      "metadata": {
        "colab": {
          "base_uri": "https://localhost:8080/"
        },
        "id": "Lzxixj0QExD7",
        "outputId": "a3f909ab-afaa-40d6-b44c-a4cc476cb581"
      },
      "outputs": [
        {
          "name": "stdout",
          "output_type": "stream",
          "text": [
            "X train shape: (47356, 1)\n",
            "Y train shape: (47356,)\n",
            "type:<class 'numpy.ndarray'>\n",
            "X val shape: (31183, 1)\n",
            "Y val shape: (31183,)\n",
            "type:<class 'numpy.ndarray'>\n",
            "X test shape: (15545, 1) (15545, 1)\n",
            "Y test shape: (15545,) (15545,)\n"
          ]
        }
      ],
      "source": [
        "from tensorflow.keras.preprocessing.sequence import pad_sequences\n",
        "\n",
        "x_train = pad_sequences(x_train, maxlen=1, padding='post')\n",
        "x_val = pad_sequences(x_val, maxlen=1, padding='post')\n",
        "x_test = pad_sequences(x_test, maxlen=1, padding='post')\n",
        "x_sample = pad_sequences(x_sample, maxlen=1, padding='post')\n",
        "\n",
        "#Train\n",
        "print(f'X train shape: {x_train.shape}')\n",
        "print(f'Y train shape: {y_train.shape}')\n",
        "print(f'type:{type(x_train)}')\n",
        "\n",
        "# Val\n",
        "print(f'X val shape: {x_val.shape}')\n",
        "print(f'Y val shape: {y_val.shape}')\n",
        "print(f'type:{type(y_train)}')\n",
        "\n",
        "# Test\n",
        "print(f'X test shape: {x_test.shape}', x_test.shape)\n",
        "print(f'Y test shape: {y_test.shape}', y_test.shape)"
      ]
    },
    {
      "cell_type": "code",
      "execution_count": 39,
      "metadata": {
        "id": "NHZTtqWB485D"
      },
      "outputs": [],
      "source": [
        "vocab_size = len(tokenizer.word_index) + 1"
      ]
    },
    {
      "cell_type": "markdown",
      "metadata": {
        "id": "gMFmoGtIOw55"
      },
      "source": [
        "## Utility methods"
      ]
    },
    {
      "cell_type": "code",
      "execution_count": 40,
      "metadata": {
        "id": "94MnbDUNOw55"
      },
      "outputs": [],
      "source": [
        "import tensorflow as tf\n",
        "from tensorflow import keras\n",
        "from tensorflow.keras import layers\n",
        "from typing import List, Dict, Callable\n",
        "import random"
      ]
    },
    {
      "cell_type": "code",
      "execution_count": 41,
      "metadata": {
        "id": "U0Nhlo_pOw55"
      },
      "outputs": [],
      "source": [
        "def set_reproducibility(seed):\n",
        "    random.seed(seed)\n",
        "    np.random.seed(seed)\n",
        "    tf.random.set_seed(seed)\n",
        "    os.environ['TF_DETERMINISTIC_OPS'] = '1'\n",
        "\n",
        "# Set the reproducibility\n",
        "set_reproducibility(42)"
      ]
    },
    {
      "cell_type": "code",
      "execution_count": 42,
      "metadata": {
        "id": "Ms1V5PuwOw56"
      },
      "outputs": [],
      "source": [
        "import matplotlib.pyplot as plt\n",
        "from functools import partial\n",
        "from keras.callbacks import History\n",
        "\n",
        "def show_history(history: History):\n",
        "    \"\"\"\n",
        "    Shows training history data stored by the History Keras callback\n",
        "\n",
        "    :param history: History Keras callback\n",
        "    \"\"\"\n",
        "    history_data = history.history\n",
        "    print(f\"Displaying the following history keys: {history_data.keys()}\")\n",
        "    \n",
        "    for key, value in history_data.items():\n",
        "        if not key.startswith('val'):\n",
        "            fig, ax = plt.subplots(1, 1)\n",
        "            ax.set_title(key)\n",
        "            ax.plot(value)\n",
        "            if f'val_{key}' in history_data:\n",
        "                ax.plot(history_data[f'val_{key}'])\n",
        "            else:\n",
        "                print(f\"Couldn't find validation values for metric: {key}\")\n",
        "\n",
        "            ax.set_ylabel(key)\n",
        "            ax.set_xlabel('epoch')\n",
        "            ax.legend(['train', 'val'], loc='best')\n",
        "            plt.grid(True)\n",
        "        plt.show()"
      ]
    },
    {
      "cell_type": "code",
      "execution_count": 43,
      "metadata": {
        "id": "Zw1zm9xVOw56"
      },
      "outputs": [],
      "source": [
        "def train_model(model: keras.Model, training_info: Dict):\n",
        "    \"\"\"\n",
        "    Training routine for the Keras model.\n",
        "    At the end of the training, retrieved History data is shown.\n",
        "\n",
        "    :param model: Keras built model\n",
        "    :param training_info: dictionary storing model fit() argument information\n",
        "\n",
        "    :return\n",
        "        model: trained Keras model\n",
        "    \"\"\"\n",
        "\n",
        "    print(f\"Start training! \\nParameters: {training_info}\")\n",
        "\n",
        "    history = model.fit(x=x_train, y=y_train,\n",
        "                        validation_data=(x_val, y_val),\n",
        "                        **training_info)\n",
        "    print(\"Training completed!\")\n",
        "\n",
        "    print(\"Showing history...\")\n",
        "    show_history(history)\n",
        "\n",
        "    return model"
      ]
    },
    {
      "cell_type": "code",
      "execution_count": 44,
      "metadata": {
        "id": "hSj5Ie1gOw56"
      },
      "outputs": [],
      "source": [
        "def predict_data(model: keras.Model,\n",
        "                x: np.ndarray,\n",
        "                prediction_info: Dict):\n",
        "    \"\"\"\n",
        "    Inference routine of a given input set of examples\n",
        "\n",
        "    :param model: Keras built and possibly trained model\n",
        "    :param x: input set of examples in np.ndarray format\n",
        "    :param prediction_info: dictionary storing model predict() argument information\n",
        "\n",
        "    :return\n",
        "        predictions: predicted labels in np.ndarray format\n",
        "    \"\"\"\n",
        "    print(f'Starting prediction: \\n{prediction_info}')\n",
        "    print(f'Predicting on {x.shape[0]} samples')\n",
        "    predictions = model.predict(x, **prediction_info)\n",
        "    return predictions"
      ]
    },
    {
      "cell_type": "code",
      "execution_count": 45,
      "metadata": {
        "id": "sJl37gYEOw56"
      },
      "outputs": [],
      "source": [
        "from sklearn.metrics import f1_score\n",
        "\n",
        "def compute_f1(model: keras.Model, \n",
        "             x: np.ndarray, \n",
        "             y: np.ndarray):\n",
        "    \"\"\"\n",
        "    Compute F1_score on the given data with corresponding labels\n",
        "\n",
        "    :param model: Keras built and possibly trained model\n",
        "    :param x: data in np.ndarray format\n",
        "    :param y: ground-truth labels in np.ndarray format\n",
        "\n",
        "    :return\n",
        "        score: f1_macro_score\n",
        "    \"\"\"\n",
        "    #predictions on the x set\n",
        "    prediction_info = {\n",
        "        'batch_size': 64,\n",
        "        'verbose': 1\n",
        "    }\n",
        "    \n",
        "    y_pred = predict_data(model=model, x=x, prediction_info=prediction_info)\n",
        "\n",
        "    #compute argmax to take the best class for each sample\n",
        "    y_pred = np.argmax(y_pred, axis=1)\n",
        "    \n",
        "    #compute the f1_macro exluding puntuaction labels\n",
        "    labels = np.unique( np.concatenate((np.unique(y), np.unique(y_pred))))\n",
        "    labels = [label for label in labels if label not in punctuation_labels]\n",
        "    #print(labels)\n",
        "\n",
        "    score = f1_score(y, y_pred, average ='macro', labels=labels)\n",
        "    return score"
      ]
    },
    {
      "cell_type": "markdown",
      "metadata": {
        "id": "7FTlmNoGi8CF"
      },
      "source": [
        "## Baseline model: LSTM"
      ]
    },
    {
      "cell_type": "markdown",
      "metadata": {
        "id": "LCcVYGrNsQ-x"
      },
      "source": [
        "### Define the model"
      ]
    },
    {
      "cell_type": "code",
      "execution_count": 52,
      "metadata": {
        "colab": {
          "base_uri": "https://localhost:8080/"
        },
        "id": "RyfvHkUZ1wEU",
        "outputId": "f5df738c-b07d-4031-d5b9-9abd5e4e6799"
      },
      "outputs": [],
      "source": [
        "from tensorflow.keras.models import Sequential\n",
        "from tensorflow.keras.layers import Embedding, Dense, LSTM, Bidirectional, GRU\n",
        "from tensorflow.keras.optimizers import Adam\n",
        "\n",
        "\n",
        "def create_baseline(units, dropout, learning_rate, activation):\n",
        "    model = keras.Sequential()\n",
        "    model = keras.models.Sequential()\n",
        "    \n",
        "    \n",
        "    model.add(keras.layers.Embedding(input_dim=vocab_size, \n",
        "                                    output_dim = embedding_dimension,\n",
        "                                    input_length = 1,\n",
        "                                    weights = [embedding_matrix],\n",
        "                                    trainable = False))\n",
        "    \n",
        "    model.add(keras.layers.Bidirectional(LSTM(units=units, \n",
        "                                              activation=activation,\n",
        "                                              dropout=dropout,\n",
        "                                              )))\n",
        "\n",
        "    model.add(keras.layers.Dense(units=num_classes, \n",
        "                                 activation=\"softmax\"))\n",
        "\n",
        "    model.summary()\n",
        "\n",
        "    model.compile(loss='sparse_categorical_crossentropy', \n",
        "                    optimizer=Adam(learning_rate=learning_rate), \n",
        "                    metrics=[\"accuracy\"])\n",
        "    \n",
        "    return model"
      ]
    },
    {
      "attachments": {},
      "cell_type": "markdown",
      "metadata": {},
      "source": [
        "#### Using keras tuner to find best hyper parameters"
      ]
    },
    {
      "cell_type": "code",
      "execution_count": 117,
      "metadata": {},
      "outputs": [],
      "source": [
        "import keras_tuner\n",
        "\n",
        "def build_baseline(hp):\n",
        "    units = hp.Int(\"units\", min_value=16, max_value=128, step=16)\n",
        "\n",
        "    activation = hp.Choice(\"activation\", [\"relu\", \"tanh\"])\n",
        "\n",
        "    dropout = hp.Float(\"dropout\", min_value=0, max_value=0.2, step=0.05)\n",
        "\n",
        "    learning_rate = hp.Float(\"learning_rate\", min_value=1e-4, max_value=1e-2, sampling=\"log\")\n",
        "    # call existing model-building code with the hyperparameter values.\n",
        "    model = create_baseline(units=units, \n",
        "                            activation=activation, \n",
        "                            dropout=dropout, \n",
        "                            learning_rate=learning_rate\n",
        "                        )\n",
        "    return model"
      ]
    },
    {
      "cell_type": "code",
      "execution_count": 49,
      "metadata": {},
      "outputs": [
        {
          "name": "stderr",
          "output_type": "stream",
          "text": [
            "2023-01-07 18:26:38.627912: I tensorflow/compiler/xla/stream_executor/cuda/cuda_gpu_executor.cc:981] successful NUMA node read from SysFS had negative value (-1), but there must be at least one NUMA node, so returning NUMA node zero\n",
            "2023-01-07 18:26:38.634246: I tensorflow/compiler/xla/stream_executor/cuda/cuda_gpu_executor.cc:981] successful NUMA node read from SysFS had negative value (-1), but there must be at least one NUMA node, so returning NUMA node zero\n",
            "2023-01-07 18:26:38.634749: I tensorflow/compiler/xla/stream_executor/cuda/cuda_gpu_executor.cc:981] successful NUMA node read from SysFS had negative value (-1), but there must be at least one NUMA node, so returning NUMA node zero\n",
            "2023-01-07 18:26:38.635480: I tensorflow/core/platform/cpu_feature_guard.cc:193] This TensorFlow binary is optimized with oneAPI Deep Neural Network Library (oneDNN) to use the following CPU instructions in performance-critical operations:  AVX2 AVX512F AVX512_VNNI FMA\n",
            "To enable them in other operations, rebuild TensorFlow with the appropriate compiler flags.\n",
            "2023-01-07 18:26:38.636025: I tensorflow/compiler/xla/stream_executor/cuda/cuda_gpu_executor.cc:981] successful NUMA node read from SysFS had negative value (-1), but there must be at least one NUMA node, so returning NUMA node zero\n",
            "2023-01-07 18:26:38.636146: I tensorflow/compiler/xla/stream_executor/cuda/cuda_gpu_executor.cc:981] successful NUMA node read from SysFS had negative value (-1), but there must be at least one NUMA node, so returning NUMA node zero\n",
            "2023-01-07 18:26:38.636218: I tensorflow/compiler/xla/stream_executor/cuda/cuda_gpu_executor.cc:981] successful NUMA node read from SysFS had negative value (-1), but there must be at least one NUMA node, so returning NUMA node zero\n",
            "2023-01-07 18:26:39.119954: I tensorflow/compiler/xla/stream_executor/cuda/cuda_gpu_executor.cc:981] successful NUMA node read from SysFS had negative value (-1), but there must be at least one NUMA node, so returning NUMA node zero\n",
            "2023-01-07 18:26:39.120084: I tensorflow/compiler/xla/stream_executor/cuda/cuda_gpu_executor.cc:981] successful NUMA node read from SysFS had negative value (-1), but there must be at least one NUMA node, so returning NUMA node zero\n",
            "2023-01-07 18:26:39.120162: I tensorflow/compiler/xla/stream_executor/cuda/cuda_gpu_executor.cc:981] successful NUMA node read from SysFS had negative value (-1), but there must be at least one NUMA node, so returning NUMA node zero\n",
            "2023-01-07 18:26:39.120235: I tensorflow/core/common_runtime/gpu/gpu_device.cc:1613] Created device /job:localhost/replica:0/task:0/device:GPU:0 with 2099 MB memory:  -> device: 0, name: NVIDIA GeForce RTX 3050 Ti Laptop GPU, pci bus id: 0000:01:00.0, compute capability: 8.6\n"
          ]
        },
        {
          "name": "stdout",
          "output_type": "stream",
          "text": [
            "WARNING:tensorflow:Layer lstm will not use cuDNN kernels since it doesn't meet the criteria. It will use a generic GPU kernel as fallback when running on GPU.\n",
            "WARNING:tensorflow:Layer lstm will not use cuDNN kernels since it doesn't meet the criteria. It will use a generic GPU kernel as fallback when running on GPU.\n",
            "WARNING:tensorflow:Layer lstm will not use cuDNN kernels since it doesn't meet the criteria. It will use a generic GPU kernel as fallback when running on GPU.\n",
            "Model: \"sequential_1\"\n",
            "_________________________________________________________________\n",
            " Layer (type)                Output Shape              Param #   \n",
            "=================================================================\n",
            " embedding (Embedding)       (None, 1, 200)            80135400  \n",
            "                                                                 \n",
            " bidirectional (Bidirectiona  (None, 32)               27776     \n",
            " l)                                                              \n",
            "                                                                 \n",
            " dense (Dense)               (None, 45)                1485      \n",
            "                                                                 \n",
            "=================================================================\n",
            "Total params: 80,164,661\n",
            "Trainable params: 29,261\n",
            "Non-trainable params: 80,135,400\n",
            "_________________________________________________________________\n",
            "Search space summary\n",
            "Default search space size: 4\n",
            "units (Int)\n",
            "{'default': None, 'conditions': [], 'min_value': 16, 'max_value': 128, 'step': 16, 'sampling': None}\n",
            "activation (Choice)\n",
            "{'default': 'relu', 'conditions': [], 'values': ['relu', 'tanh'], 'ordered': False}\n",
            "dropout (Float)\n",
            "{'default': 0.0, 'conditions': [], 'min_value': 0.0, 'max_value': 0.2, 'step': 0.05, 'sampling': None}\n",
            "learning_rate (Float)\n",
            "{'default': 0.0001, 'conditions': [], 'min_value': 0.0001, 'max_value': 0.01, 'step': None, 'sampling': 'log'}\n"
          ]
        }
      ],
      "source": [
        "tuner = keras_tuner.Hyperband(hypermodel=build_baseline,\n",
        "                            objective='accuracy',\n",
        "                            max_epochs=30,\n",
        "                            factor=3,\n",
        "                            directory='a1models',\n",
        "                            project_name='baseline')\n",
        "tuner.search_space_summary()"
      ]
    },
    {
      "cell_type": "code",
      "execution_count": 50,
      "metadata": {},
      "outputs": [
        {
          "data": {
            "text/plain": [
              "'\\ntuner.search(x_train,y_train, epochs=30, validation_data=(x_val,y_val))\\nbest_model = tuner.get_best_models()[0]\\ntuner.results_summary()\\n'"
            ]
          },
          "execution_count": 50,
          "metadata": {},
          "output_type": "execute_result"
        }
      ],
      "source": [
        "# Search the best hyper-parameter and select the best model\n",
        "'''\n",
        "tuner.search(x_train,y_train, epochs=30, validation_data=(x_val,y_val))\n",
        "best_model = tuner.get_best_models()[0]\n",
        "tuner.results_summary()\n",
        "'''"
      ]
    },
    {
      "attachments": {},
      "cell_type": "markdown",
      "metadata": {},
      "source": [
        "Hyperparameters:\n",
        "* units: 32\n",
        "* activation: tanh\n",
        "* dropout: 0\n",
        "* learning_rate: 0.00028081\n",
        "* tuner/epochs: 30\n",
        "* tuner/initial_epoch: 10\n",
        "\n",
        "Score: 0.9271686673164368"
      ]
    },
    {
      "cell_type": "code",
      "execution_count": 51,
      "metadata": {},
      "outputs": [
        {
          "name": "stdout",
          "output_type": "stream",
          "text": [
            "Model: \"sequential_3\"\n",
            "_________________________________________________________________\n",
            " Layer (type)                Output Shape              Param #   \n",
            "=================================================================\n",
            " embedding_1 (Embedding)     (None, 1, 200)            80135400  \n",
            "                                                                 \n",
            " bidirectional_1 (Bidirectio  (None, 64)               59648     \n",
            " nal)                                                            \n",
            "                                                                 \n",
            " dense_1 (Dense)             (None, 45)                2925      \n",
            "                                                                 \n",
            "=================================================================\n",
            "Total params: 80,197,973\n",
            "Trainable params: 62,573\n",
            "Non-trainable params: 80,135,400\n",
            "_________________________________________________________________\n"
          ]
        }
      ],
      "source": [
        "# Create model with best hyperparameter \n",
        "base_model = create_baseline(units= 32,\n",
        "                            activation=\"tanh\",\n",
        "                            dropout=0,\n",
        "                            learning_rate=0.0028)"
      ]
    },
    {
      "cell_type": "code",
      "execution_count": 52,
      "metadata": {
        "colab": {
          "base_uri": "https://localhost:8080/",
          "height": 660
        },
        "id": "ZY8zv1dvQM3A",
        "outputId": "bb30a152-4006-4880-c090-ff38e2ca14a5"
      },
      "outputs": [
        {
          "name": "stdout",
          "output_type": "stream",
          "text": [
            "Start training! \n",
            "Parameters: {'verbose': 0, 'epochs': 15, 'batch_size': 64}\n"
          ]
        },
        {
          "name": "stderr",
          "output_type": "stream",
          "text": [
            "2023-01-07 18:26:42.010642: I tensorflow/compiler/xla/stream_executor/cuda/cuda_dnn.cc:428] Loaded cuDNN version 8100\n",
            "2023-01-07 18:26:42.475347: I tensorflow/compiler/xla/stream_executor/cuda/cuda_blas.cc:630] TensorFloat-32 will be used for the matrix multiplication. This will only be logged once.\n",
            "2023-01-07 18:26:42.485462: I tensorflow/compiler/xla/service/service.cc:173] XLA service 0x7fc12800dcb0 initialized for platform CUDA (this does not guarantee that XLA will be used). Devices:\n",
            "2023-01-07 18:26:42.485483: I tensorflow/compiler/xla/service/service.cc:181]   StreamExecutor device (0): NVIDIA GeForce RTX 3050 Ti Laptop GPU, Compute Capability 8.6\n",
            "2023-01-07 18:26:42.488971: I tensorflow/compiler/mlir/tensorflow/utils/dump_mlir_util.cc:268] disabling MLIR crash reproducer, set env var `MLIR_CRASH_REPRODUCER_DIRECTORY` to enable.\n",
            "2023-01-07 18:26:42.536938: I tensorflow/tsl/platform/default/subprocess.cc:304] Start cannot spawn child process: No such file or directory\n",
            "2023-01-07 18:26:42.564756: I tensorflow/compiler/jit/xla_compilation_cache.cc:477] Compiled cluster using XLA!  This line is logged at most once for the lifetime of the process.\n"
          ]
        },
        {
          "name": "stdout",
          "output_type": "stream",
          "text": [
            "Training completed!\n",
            "Showing history...\n",
            "Displaying the following history keys: dict_keys(['loss', 'accuracy', 'val_loss', 'val_accuracy'])\n"
          ]
        },
        {
          "data": {
            "image/png": "[encoded data removed]",
            "text/plain": [
              "<Figure size 640x480 with 1 Axes>"
            ]
          },
          "metadata": {},
          "output_type": "display_data"
        },
        {
          "data": {
            "image/png": "[encoded data removed]",
            "text/plain": [
              "<Figure size 640x480 with 1 Axes>"
            ]
          },
          "metadata": {},
          "output_type": "display_data"
        }
      ],
      "source": [
        "# Train\n",
        "base_training_info = {\n",
        "    'verbose': 0,\n",
        "    'epochs' : 15,\n",
        "    'batch_size' : 64\n",
        "}\n",
        "\n",
        "base_model = train_model(model=base_model,training_info = base_training_info)"
      ]
    },
    {
      "cell_type": "markdown",
      "metadata": {
        "id": "Jl8xoLex485H"
      },
      "source": [
        "#### F1-Macro evaluation"
      ]
    },
    {
      "cell_type": "code",
      "execution_count": 53,
      "metadata": {
        "colab": {
          "base_uri": "https://localhost:8080/"
        },
        "id": "scAXLwfRJrS4",
        "outputId": "8b4ab296-a19f-4862-eb64-f2bcdaf08991"
      },
      "outputs": [
        {
          "name": "stdout",
          "output_type": "stream",
          "text": [
            "975/975 [==============================] - 1s 1ms/step - loss: 0.3821 - accuracy: 0.8844\n",
            "Model loss: 0.3820750117301941, accuracy: 0.8844242095947266\n",
            "Starting prediction: \n",
            "{'batch_size': 64, 'verbose': 1}\n",
            "Predicting on 31183 samples\n",
            "488/488 [==============================] - 1s 1ms/step\n",
            "F1_score on the validation set is: 0.7067939330553772\n"
          ]
        }
      ],
      "source": [
        "loss, accuracy = base_model.evaluate(x_val, y_val)\n",
        "print(f\"Model loss: {loss}, accuracy: {accuracy}\")\n",
        "\n",
        "# Inference and evaluate\n",
        "\n",
        "base_score = compute_f1(base_model, x_val, y_val)\n",
        "print(f'F1_score on the validation set is: {base_score}')"
      ]
    },
    {
      "cell_type": "markdown",
      "metadata": {
        "id": "XX2nnMyoOw59"
      },
      "source": [
        "#### Sample test"
      ]
    },
    {
      "cell_type": "code",
      "execution_count": 54,
      "metadata": {
        "colab": {
          "base_uri": "https://localhost:8080/"
        },
        "id": "wv7QQ2Y0Ow59",
        "outputId": "a72fa04e-fc24-48ea-f8f5-641ea7cfeb60"
      },
      "outputs": [
        {
          "name": "stdout",
          "output_type": "stream",
          "text": [
            "1/1 [==============================] - 0s 21ms/step\n",
            "20 \t 20 \t ok \t pierre\n",
            "20 \t 20 \t ok \t vinken\n",
            "3 \t 3 \t ok \t ,\n",
            "9 \t 9 \t ok \t 61\n",
            "22 \t 22 \t ok \t years\n",
            "14 \t 14 \t ok \t old\n",
            "3 \t 3 \t ok \t ,\n",
            "18 \t 18 \t ok \t will\n",
            "34 \t 34 \t ok \t join\n",
            "10 \t 10 \t ok \t the\n",
            "19 \t 19 \t ok \t board\n",
            "13 \t 13 \t ok \t as\n",
            "10 \t 10 \t ok \t a\n",
            "14 \t 14 \t ok \t nonexecutive\n",
            "19 \t 19 \t ok \t director\n",
            "20 \t 20 \t ok \t nov.\n",
            "9 \t 9 \t ok \t 29\n",
            "6 \t 6 \t ok \t .\n",
            "20 \t 20 \t ok \t mr.\n",
            "20 \t 20 \t ok \t vinken\n",
            "39 \t 39 \t ok \t is\n",
            "19 \t 19 \t ok \t chairman\n",
            "13 \t 13 \t ok \t of\n",
            "20 \t 20 \t ok \t elsevier\n",
            "20 \t 20 \t ok \t n.v.\n",
            "3 \t 3 \t ok \t ,\n",
            "10 \t 10 \t ok \t the\n",
            "20 \t 20 \t ok \t dutch\n",
            "19 \t 36 \t ERR \t publishing\n",
            "19 \t 19 \t ok \t group\n",
            "6 \t 6 \t ok \t .\n"
          ]
        }
      ],
      "source": [
        "x_sample_text = tokenizer.sequences_to_texts(x_sample)\n",
        "y_pred_sample_onehot = base_model.predict(x_sample)\n",
        "y_pred_sample = np.argmax(y_pred_sample_onehot, axis=1)\n",
        "for i in range(x_sample.size):\n",
        "    print(f\"{y_pred_sample[i]} \\t {y_sample[i]} \\t {'ok' if y_pred_sample[i]==y_sample[i] else 'ERR'} \\t {x_sample_text[i]}\")"
      ]
    },
    {
      "cell_type": "markdown",
      "metadata": {
        "id": "Jjm_29f4i8CG"
      },
      "source": [
        "## Model A: GRU"
      ]
    },
    {
      "cell_type": "markdown",
      "metadata": {
        "id": "hhyr0auV485I"
      },
      "source": [
        "GRU is a simpler alternative to LSTM's architecture, less effective but with a faster train.\n",
        "</br>Two layers architecture: a Bidirectional GRU layer and a Dense/FC layer on top. "
      ]
    },
    {
      "cell_type": "code",
      "execution_count": 55,
      "metadata": {
        "colab": {
          "base_uri": "https://localhost:8080/"
        },
        "id": "53xpFPP4485I",
        "outputId": "d0e08103-9d7f-48f2-e1bd-f60d27dab41c"
      },
      "outputs": [],
      "source": [
        "# Create model\n",
        "\n",
        "def create_gru(units, dropout, learning_rate, activation):\n",
        "    model = keras.Sequential()\n",
        "    model = keras.models.Sequential()\n",
        "    \n",
        "    \n",
        "    model.add(keras.layers.Embedding(input_dim=vocab_size, \n",
        "                                    output_dim = embedding_dimension,\n",
        "                                    input_length = 1,\n",
        "                                    weights = [embedding_matrix],\n",
        "                                    trainable = False))\n",
        "    \n",
        "    model.add(keras.layers.Bidirectional(GRU(units=units, \n",
        "                                              activation=activation,\n",
        "                                              dropout=dropout,\n",
        "                                              )))\n",
        "\n",
        "    model.add(keras.layers.Dense(units=num_classes, \n",
        "                                 activation=\"softmax\"))\n",
        "\n",
        "    model.compile(loss=\"sparse_categorical_crossentropy\", \n",
        "                    optimizer=Adam(learning_rate=learning_rate), \n",
        "                    metrics=[\"accuracy\"])\n",
        "    \n",
        "    return model"
      ]
    },
    {
      "cell_type": "code",
      "execution_count": 56,
      "metadata": {},
      "outputs": [],
      "source": [
        "def build_GRU(hp):\n",
        "    units = hp.Int(\"units\", min_value=16, max_value=256, step=16)\n",
        "\n",
        "    activation = hp.Choice(\"activation\", [\"relu\", \"tanh\"])\n",
        "\n",
        "    dropout = hp.Float(\"dropout\", min_value=0, max_value=0.2, step=0.05)\n",
        "\n",
        "    learning_rate = hp.Float(\"learning_rate\", min_value=1e-4, max_value=1e-2, sampling=\"log\")\n",
        "    # call existing model-building code with the hyperparameter values.\n",
        "    model = create_gru(units=units, \n",
        "                            activation=activation, \n",
        "                            dropout=dropout, \n",
        "                            learning_rate=learning_rate\n",
        "                        )\n",
        "    return model"
      ]
    },
    {
      "cell_type": "code",
      "execution_count": 57,
      "metadata": {},
      "outputs": [
        {
          "name": "stdout",
          "output_type": "stream",
          "text": [
            "WARNING:tensorflow:Layer gru will not use cuDNN kernels since it doesn't meet the criteria. It will use a generic GPU kernel as fallback when running on GPU.\n",
            "WARNING:tensorflow:Layer gru will not use cuDNN kernels since it doesn't meet the criteria. It will use a generic GPU kernel as fallback when running on GPU.\n",
            "WARNING:tensorflow:Layer gru will not use cuDNN kernels since it doesn't meet the criteria. It will use a generic GPU kernel as fallback when running on GPU.\n",
            "Search space summary\n",
            "Default search space size: 4\n",
            "units (Int)\n",
            "{'default': None, 'conditions': [], 'min_value': 16, 'max_value': 256, 'step': 16, 'sampling': None}\n",
            "activation (Choice)\n",
            "{'default': 'relu', 'conditions': [], 'values': ['relu', 'tanh'], 'ordered': False}\n",
            "dropout (Float)\n",
            "{'default': 0.0, 'conditions': [], 'min_value': 0.0, 'max_value': 0.2, 'step': 0.05, 'sampling': None}\n",
            "learning_rate (Float)\n",
            "{'default': 0.0001, 'conditions': [], 'min_value': 0.0001, 'max_value': 0.01, 'step': None, 'sampling': 'log'}\n"
          ]
        }
      ],
      "source": [
        "tuner = keras_tuner.Hyperband(hypermodel=build_GRU,\n",
        "                            objective='accuracy',\n",
        "                            max_epochs=30,\n",
        "                            factor=3,\n",
        "                            directory='a1models',\n",
        "                            project_name='GRU')\n",
        "tuner.search_space_summary()"
      ]
    },
    {
      "cell_type": "code",
      "execution_count": 58,
      "metadata": {},
      "outputs": [
        {
          "data": {
            "text/plain": [
              "'\\ntuner.search(x_train,y_train, epochs=30, validation_data=(x_val,y_val))\\nbest_model = tuner.get_best_models()[0]\\ntuner.results_summary()\\n'"
            ]
          },
          "execution_count": 58,
          "metadata": {},
          "output_type": "execute_result"
        }
      ],
      "source": [
        "# Search the best hyper-parameter and select the best model\n",
        "'''\n",
        "tuner.search(x_train,y_train, epochs=30, validation_data=(x_val,y_val))\n",
        "best_model = tuner.get_best_models()[0]\n",
        "tuner.results_summary()\n",
        "'''"
      ]
    },
    {
      "attachments": {},
      "cell_type": "markdown",
      "metadata": {},
      "source": [
        "Hyperparameters:\n",
        "* units: 112\n",
        "* activation: tanh\n",
        "* dropout: 0.05\n",
        "* learning_rate: 0.000642144054857491\n",
        "* tuner/epochs: 15\n",
        "  \n",
        "Score: 0.9216994643211365"
      ]
    },
    {
      "cell_type": "code",
      "execution_count": 59,
      "metadata": {},
      "outputs": [],
      "source": [
        "# Create model with best hyperparameter \n",
        "gru_model = create_gru(units= 112,\n",
        "                            activation=\"tanh\",\n",
        "                            dropout=0.05,\n",
        "                            learning_rate=0.000642)"
      ]
    },
    {
      "cell_type": "code",
      "execution_count": 60,
      "metadata": {
        "colab": {
          "base_uri": "https://localhost:8080/",
          "height": 660
        },
        "id": "hPcXmqzj485J",
        "outputId": "40420c23-ee0d-4fba-8284-b6cfc19461eb"
      },
      "outputs": [
        {
          "name": "stdout",
          "output_type": "stream",
          "text": [
            "Start training! \n",
            "Parameters: {'verbose': 0, 'epochs': 15, 'batch_size': 64}\n",
            "Training completed!\n",
            "Showing history...\n",
            "Displaying the following history keys: dict_keys(['loss', 'accuracy', 'val_loss', 'val_accuracy'])\n"
          ]
        },
        {
          "data": {
            "image/png": "[encoded data removed]",
            "text/plain": [
              "<Figure size 640x480 with 1 Axes>"
            ]
          },
          "metadata": {},
          "output_type": "display_data"
        },
        {
          "data": {
            "image/png": "[encoded data removed]",
            "text/plain": [
              "<Figure size 640x480 with 1 Axes>"
            ]
          },
          "metadata": {},
          "output_type": "display_data"
        }
      ],
      "source": [
        "# Train\n",
        "gru_training_info = {\n",
        "    'verbose': 0,\n",
        "    'epochs' : 15,\n",
        "    'batch_size' : 64\n",
        "}\n",
        "\n",
        "gru_model = train_model(model=gru_model,training_info = gru_training_info)"
      ]
    },
    {
      "cell_type": "markdown",
      "metadata": {
        "id": "iYuiRWK9Ow5-"
      },
      "source": [
        "#### F1-Macro evaluation"
      ]
    },
    {
      "cell_type": "code",
      "execution_count": 61,
      "metadata": {
        "colab": {
          "base_uri": "https://localhost:8080/"
        },
        "id": "xZo7nP0WOw5-",
        "outputId": "9c735f54-2e89-49f3-8cfd-ac26638c0691"
      },
      "outputs": [
        {
          "name": "stdout",
          "output_type": "stream",
          "text": [
            "975/975 [==============================] - 1s 1ms/step - loss: 0.3497 - accuracy: 0.8898\n",
            "Model loss: 0.34966957569122314, accuracy: 0.8897796869277954\n",
            "Starting prediction: \n",
            "{'batch_size': 64, 'verbose': 1}\n",
            "Predicting on 31183 samples\n",
            "488/488 [==============================] - 1s 923us/step\n",
            "F1_score on the validation set is: 0.71144361672628\n"
          ]
        }
      ],
      "source": [
        "loss, accuracy = gru_model.evaluate(x_val, y_val)\n",
        "print(f\"Model loss: {loss}, accuracy: {accuracy}\")\n",
        "\n",
        "# Inference and evaluate\n",
        "\n",
        "gru_score = compute_f1(gru_model, x_val, y_val)\n",
        "print(f'F1_score on the validation set is: {gru_score}')"
      ]
    },
    {
      "cell_type": "markdown",
      "metadata": {
        "id": "6bM9ZWFAi8CG"
      },
      "source": [
        "## Model B: 2x LSTM "
      ]
    },
    {
      "cell_type": "markdown",
      "metadata": {
        "id": "Acw-9iYOHFEf"
      },
      "source": [
        "A dictionary with some hyperparameters to test on the LSTM layers. At the end of the process, for each of the models, the f1_macro will be printed."
      ]
    },
    {
      "cell_type": "code",
      "execution_count": 151,
      "metadata": {
        "id": "Bizr1VqXHFEg"
      },
      "outputs": [],
      "source": [
        "hp_b = {\n",
        "    'hp1_1' : {\n",
        "        'lstm_1' : {\n",
        "            'units' : 14,\n",
        "            'return_sequences' : True,\n",
        "            'dropout' : 0.1\n",
        "        },\n",
        "        'lstm_2' : {\n",
        "            'units' : 28,\n",
        "            'return_sequences' : False,\n",
        "            'dropout' : 0.1\n",
        "        },\n",
        "        'learning_rate' : 1.5e-3\n",
        "    },\n",
        "    'hp1_2' : {\n",
        "        'lstm_1' : {\n",
        "            'units' : 14,\n",
        "            'return_sequences' : True,\n",
        "            'dropout' : 0\n",
        "        },\n",
        "        'lstm_2' : {\n",
        "            'units' : 28,\n",
        "            'return_sequences' : False,\n",
        "            'dropout' : 0\n",
        "        },\n",
        "        'learning_rate' : 1.5e-3\n",
        "    },\n",
        "    'hp2_1' : {\n",
        "        'lstm_1' : {\n",
        "            'units' : 28,\n",
        "            'return_sequences' : True,\n",
        "            'dropout' : 0.1\n",
        "        },\n",
        "        'lstm_2' : {\n",
        "            'units' : 14,\n",
        "            'return_sequences' : False,\n",
        "            'dropout' : 0.1\n",
        "        },\n",
        "        'learning_rate' : 1.5e-3\n",
        "    },\n",
        "    'hp2_2' : {\n",
        "        'lstm_1' : {\n",
        "            'units' : 28,\n",
        "            'return_sequences' : True,\n",
        "            'dropout' : 0\n",
        "        },\n",
        "        'lstm_2' : {\n",
        "            'units' : 14,\n",
        "            'return_sequences' : False,\n",
        "            'dropout' : 0\n",
        "        },\n",
        "        'learning_rate' : 1.5e-3\n",
        "    },\n",
        "    'hp3' : {\n",
        "        'lstm_1' : {\n",
        "            'units' : 128,\n",
        "            'return_sequences' : True,\n",
        "            'dropout' : 0\n",
        "        },\n",
        "        'lstm_2' : {\n",
        "            'units' : 128,\n",
        "            'return_sequences' : False,\n",
        "            'dropout' : 0\n",
        "        },\n",
        "        'learning_rate' : 1.0e-3\n",
        "    }\n",
        "    \n",
        "}"
      ]
    },
    {
      "cell_type": "markdown",
      "metadata": {
        "id": "OC5b5l9XHFEg"
      },
      "source": [
        "This array will store all the f1_scores calculated with the compute_f1 function."
      ]
    },
    {
      "cell_type": "code",
      "execution_count": 152,
      "metadata": {
        "id": "loOMyX4wHFEg"
      },
      "outputs": [],
      "source": [
        "results_x2lstm = []"
      ]
    },
    {
      "cell_type": "markdown",
      "metadata": {
        "id": "9MPBJ20AHFEh"
      },
      "source": [
        "Setup of the loop for creation, fit, evaluation of the 2xLSTM models with the dictionary of hyperparameters."
      ]
    },
    {
      "cell_type": "code",
      "execution_count": 153,
      "metadata": {
        "colab": {
          "base_uri": "https://localhost:8080/"
        },
        "id": "hVqg81vai8CG",
        "outputId": "06f3a43e-fe66-44ee-dfd8-722daf90e329"
      },
      "outputs": [
        {
          "name": "stdout",
          "output_type": "stream",
          "text": [
            "Model: \"sequential_10\"\n",
            "_________________________________________________________________\n",
            " Layer (type)                Output Shape              Param #   \n",
            "=================================================================\n",
            " embedding_5 (Embedding)     (None, 1, 200)            80135400  \n",
            "                                                                 \n",
            " bidirectional_10 (Bidirecti  (None, 1, 28)            24080     \n",
            " onal)                                                           \n",
            "                                                                 \n",
            " bidirectional_11 (Bidirecti  (None, 56)               12768     \n",
            " onal)                                                           \n",
            "                                                                 \n",
            " dense_5 (Dense)             (None, 45)                2565      \n",
            "                                                                 \n",
            "=================================================================\n",
            "Total params: 80,174,813\n",
            "Trainable params: 39,413\n",
            "Non-trainable params: 80,135,400\n",
            "_________________________________________________________________\n",
            "Epoch 1/30\n",
            "370/370 [==============================] - 10s 14ms/step - loss: 1.8819 - accuracy: 0.5251 - val_loss: 0.9527 - val_accuracy: 0.7379\n",
            "Epoch 2/30\n",
            "370/370 [==============================] - 4s 10ms/step - loss: 0.8145 - accuracy: 0.7756 - val_loss: 0.6747 - val_accuracy: 0.8089\n",
            "Epoch 3/30\n",
            "370/370 [==============================] - 4s 12ms/step - loss: 0.6427 - accuracy: 0.8131 - val_loss: 0.5765 - val_accuracy: 0.8261\n",
            "Epoch 4/30\n",
            "370/370 [==============================] - 4s 11ms/step - loss: 0.5638 - accuracy: 0.8337 - val_loss: 0.5198 - val_accuracy: 0.8382\n",
            "Epoch 5/30\n",
            "370/370 [==============================] - 4s 10ms/step - loss: 0.5154 - accuracy: 0.8441 - val_loss: 0.4843 - val_accuracy: 0.8490\n",
            "Epoch 6/30\n",
            "370/370 [==============================] - 4s 10ms/step - loss: 0.4758 - accuracy: 0.8542 - val_loss: 0.4616 - val_accuracy: 0.8546\n",
            "Epoch 7/30\n",
            "370/370 [==============================] - 4s 12ms/step - loss: 0.4534 - accuracy: 0.8590 - val_loss: 0.4455 - val_accuracy: 0.8566\n",
            "Epoch 8/30\n",
            "370/370 [==============================] - 4s 11ms/step - loss: 0.4299 - accuracy: 0.8636 - val_loss: 0.4306 - val_accuracy: 0.8649\n",
            "Epoch 9/30\n",
            "370/370 [==============================] - 4s 12ms/step - loss: 0.4169 - accuracy: 0.8684 - val_loss: 0.4215 - val_accuracy: 0.8649\n",
            "Epoch 10/30\n",
            "370/370 [==============================] - 4s 10ms/step - loss: 0.4011 - accuracy: 0.8722 - val_loss: 0.4109 - val_accuracy: 0.8699\n",
            "Epoch 11/30\n",
            "370/370 [==============================] - 4s 10ms/step - loss: 0.3900 - accuracy: 0.8753 - val_loss: 0.4015 - val_accuracy: 0.8718\n",
            "Epoch 12/30\n",
            "370/370 [==============================] - 4s 10ms/step - loss: 0.3782 - accuracy: 0.8782 - val_loss: 0.3994 - val_accuracy: 0.8742\n",
            "Epoch 13/30\n",
            "370/370 [==============================] - 4s 11ms/step - loss: 0.3713 - accuracy: 0.8792 - val_loss: 0.3921 - val_accuracy: 0.8744\n",
            "Epoch 14/30\n",
            "370/370 [==============================] - 4s 11ms/step - loss: 0.3657 - accuracy: 0.8807 - val_loss: 0.3882 - val_accuracy: 0.8745\n",
            "Epoch 15/30\n",
            "370/370 [==============================] - 4s 10ms/step - loss: 0.3588 - accuracy: 0.8817 - val_loss: 0.3841 - val_accuracy: 0.8770\n",
            "Epoch 16/30\n",
            "370/370 [==============================] - 4s 10ms/step - loss: 0.3517 - accuracy: 0.8846 - val_loss: 0.3844 - val_accuracy: 0.8772\n",
            "Epoch 17/30\n",
            "370/370 [==============================] - 4s 11ms/step - loss: 0.3465 - accuracy: 0.8853 - val_loss: 0.3802 - val_accuracy: 0.8796\n",
            "Epoch 18/30\n",
            "370/370 [==============================] - 4s 10ms/step - loss: 0.3422 - accuracy: 0.8873 - val_loss: 0.3772 - val_accuracy: 0.8782\n",
            "Epoch 19/30\n",
            "370/370 [==============================] - 4s 10ms/step - loss: 0.3397 - accuracy: 0.8873 - val_loss: 0.3766 - val_accuracy: 0.8790\n",
            "Epoch 20/30\n",
            "370/370 [==============================] - 4s 10ms/step - loss: 0.3361 - accuracy: 0.8879 - val_loss: 0.3737 - val_accuracy: 0.8784\n",
            "Epoch 21/30\n",
            "370/370 [==============================] - 4s 10ms/step - loss: 0.3310 - accuracy: 0.8902 - val_loss: 0.3736 - val_accuracy: 0.8778\n",
            "Epoch 22/30\n",
            "370/370 [==============================] - 4s 10ms/step - loss: 0.3248 - accuracy: 0.8901 - val_loss: 0.3738 - val_accuracy: 0.8768\n",
            "Epoch 23/30\n",
            "370/370 [==============================] - 4s 10ms/step - loss: 0.3243 - accuracy: 0.8906 - val_loss: 0.3725 - val_accuracy: 0.8798\n",
            "Epoch 24/30\n",
            "370/370 [==============================] - 4s 10ms/step - loss: 0.3211 - accuracy: 0.8922 - val_loss: 0.3738 - val_accuracy: 0.8809\n",
            "Epoch 25/30\n",
            "370/370 [==============================] - 4s 10ms/step - loss: 0.3167 - accuracy: 0.8936 - val_loss: 0.3702 - val_accuracy: 0.8789\n",
            "Epoch 26/30\n",
            "370/370 [==============================] - 4s 10ms/step - loss: 0.3126 - accuracy: 0.8938 - val_loss: 0.3739 - val_accuracy: 0.8780\n",
            "Epoch 27/30\n",
            "370/370 [==============================] - 4s 10ms/step - loss: 0.3096 - accuracy: 0.8946 - val_loss: 0.3684 - val_accuracy: 0.8790\n",
            "Epoch 28/30\n",
            "370/370 [==============================] - 4s 10ms/step - loss: 0.3124 - accuracy: 0.8939 - val_loss: 0.3690 - val_accuracy: 0.8811\n",
            "Epoch 29/30\n",
            "370/370 [==============================] - 4s 10ms/step - loss: 0.3102 - accuracy: 0.8944 - val_loss: 0.3673 - val_accuracy: 0.8826\n",
            "Epoch 30/30\n",
            "370/370 [==============================] - 4s 11ms/step - loss: 0.3051 - accuracy: 0.8955 - val_loss: 0.3701 - val_accuracy: 0.8812\n",
            "======================================== hp1_1 ========================================\n",
            "975/975 [==============================] - 4s 4ms/step - loss: 0.3701 - accuracy: 0.8812\n",
            "Model loss: 0.3700752556324005, accuracy: 0.8811852335929871\n",
            "Starting prediction: \n",
            "{'batch_size': 64, 'verbose': 1}\n",
            "Predicting on 31183 samples\n",
            "488/488 [==============================] - 3s 3ms/step\n",
            "F1_score on the validation set is: 0.7117300853993551\n",
            "Starting prediction: \n",
            "{'batch_size': 64, 'verbose': 1}\n",
            "Predicting on 15545 samples\n",
            "243/243 [==============================] - 1s 3ms/step\n",
            "F1_score on the test set is: 0.7846393569076726\n",
            "Model: \"sequential_11\"\n",
            "_________________________________________________________________\n",
            " Layer (type)                Output Shape              Param #   \n",
            "=================================================================\n",
            " embedding_6 (Embedding)     (None, 1, 200)            80135400  \n",
            "                                                                 \n",
            " bidirectional_12 (Bidirecti  (None, 1, 28)            24080     \n",
            " onal)                                                           \n",
            "                                                                 \n",
            " bidirectional_13 (Bidirecti  (None, 56)               12768     \n",
            " onal)                                                           \n",
            "                                                                 \n",
            " dense_6 (Dense)             (None, 45)                2565      \n",
            "                                                                 \n",
            "=================================================================\n",
            "Total params: 80,174,813\n",
            "Trainable params: 39,413\n",
            "Non-trainable params: 80,135,400\n",
            "_________________________________________________________________\n",
            "Epoch 1/30\n",
            "370/370 [==============================] - 10s 13ms/step - loss: 1.7932 - accuracy: 0.5526 - val_loss: 0.9057 - val_accuracy: 0.7632\n",
            "Epoch 2/30\n",
            "370/370 [==============================] - 4s 10ms/step - loss: 0.6951 - accuracy: 0.8147 - val_loss: 0.6315 - val_accuracy: 0.8189\n",
            "Epoch 3/30\n",
            "370/370 [==============================] - 4s 11ms/step - loss: 0.5223 - accuracy: 0.8505 - val_loss: 0.5366 - val_accuracy: 0.8392\n",
            "Epoch 4/30\n",
            "370/370 [==============================] - 4s 10ms/step - loss: 0.4424 - accuracy: 0.8711 - val_loss: 0.4888 - val_accuracy: 0.8539\n",
            "Epoch 5/30\n",
            "370/370 [==============================] - 4s 10ms/step - loss: 0.3924 - accuracy: 0.8833 - val_loss: 0.4527 - val_accuracy: 0.8602\n",
            "Epoch 6/30\n",
            "370/370 [==============================] - 4s 10ms/step - loss: 0.3563 - accuracy: 0.8925 - val_loss: 0.4324 - val_accuracy: 0.8653\n",
            "Epoch 7/30\n",
            "370/370 [==============================] - 4s 10ms/step - loss: 0.3315 - accuracy: 0.8969 - val_loss: 0.4190 - val_accuracy: 0.8685\n",
            "Epoch 8/30\n",
            "370/370 [==============================] - 4s 11ms/step - loss: 0.3107 - accuracy: 0.9010 - val_loss: 0.4145 - val_accuracy: 0.8655\n",
            "Epoch 9/30\n",
            "370/370 [==============================] - 4s 12ms/step - loss: 0.2954 - accuracy: 0.9055 - val_loss: 0.4069 - val_accuracy: 0.8724\n",
            "Epoch 10/30\n",
            "370/370 [==============================] - 4s 10ms/step - loss: 0.2821 - accuracy: 0.9077 - val_loss: 0.4003 - val_accuracy: 0.8739\n",
            "Epoch 11/30\n",
            "370/370 [==============================] - 4s 10ms/step - loss: 0.2715 - accuracy: 0.9089 - val_loss: 0.4009 - val_accuracy: 0.8745\n",
            "Epoch 12/30\n",
            "370/370 [==============================] - 5s 13ms/step - loss: 0.2615 - accuracy: 0.9113 - val_loss: 0.4015 - val_accuracy: 0.8761\n",
            "Epoch 13/30\n",
            "370/370 [==============================] - 4s 10ms/step - loss: 0.2534 - accuracy: 0.9140 - val_loss: 0.3952 - val_accuracy: 0.8768\n",
            "Epoch 14/30\n",
            "370/370 [==============================] - 4s 10ms/step - loss: 0.2480 - accuracy: 0.9142 - val_loss: 0.3980 - val_accuracy: 0.8757\n",
            "Epoch 15/30\n",
            "370/370 [==============================] - 4s 11ms/step - loss: 0.2415 - accuracy: 0.9160 - val_loss: 0.3995 - val_accuracy: 0.8753\n",
            "Epoch 16/30\n",
            "370/370 [==============================] - 4s 11ms/step - loss: 0.2363 - accuracy: 0.9179 - val_loss: 0.4018 - val_accuracy: 0.8790\n",
            "Epoch 17/30\n",
            "370/370 [==============================] - 4s 10ms/step - loss: 0.2323 - accuracy: 0.9187 - val_loss: 0.3983 - val_accuracy: 0.8791\n",
            "Epoch 18/30\n",
            "370/370 [==============================] - 4s 10ms/step - loss: 0.2277 - accuracy: 0.9191 - val_loss: 0.4032 - val_accuracy: 0.8783\n",
            "Epoch 19/30\n",
            "370/370 [==============================] - 4s 11ms/step - loss: 0.2247 - accuracy: 0.9201 - val_loss: 0.4067 - val_accuracy: 0.8762\n",
            "Epoch 20/30\n",
            "370/370 [==============================] - 4s 10ms/step - loss: 0.2205 - accuracy: 0.9201 - val_loss: 0.4077 - val_accuracy: 0.8782\n",
            "Epoch 21/30\n",
            "370/370 [==============================] - 4s 10ms/step - loss: 0.2177 - accuracy: 0.9211 - val_loss: 0.4082 - val_accuracy: 0.8772\n",
            "Epoch 22/30\n",
            "370/370 [==============================] - 4s 10ms/step - loss: 0.2140 - accuracy: 0.9229 - val_loss: 0.4136 - val_accuracy: 0.8779\n",
            "Epoch 23/30\n",
            "370/370 [==============================] - 4s 10ms/step - loss: 0.2124 - accuracy: 0.9230 - val_loss: 0.4141 - val_accuracy: 0.8764\n",
            "Epoch 24/30\n",
            "370/370 [==============================] - 4s 10ms/step - loss: 0.2095 - accuracy: 0.9228 - val_loss: 0.4162 - val_accuracy: 0.8794\n",
            "Epoch 25/30\n",
            "370/370 [==============================] - 4s 10ms/step - loss: 0.2073 - accuracy: 0.9250 - val_loss: 0.4146 - val_accuracy: 0.8784\n",
            "Epoch 26/30\n",
            "370/370 [==============================] - 4s 10ms/step - loss: 0.2054 - accuracy: 0.9239 - val_loss: 0.4236 - val_accuracy: 0.8788\n",
            "Epoch 27/30\n",
            "370/370 [==============================] - 4s 10ms/step - loss: 0.2033 - accuracy: 0.9246 - val_loss: 0.4224 - val_accuracy: 0.8795\n",
            "Epoch 28/30\n",
            "370/370 [==============================] - 4s 10ms/step - loss: 0.2020 - accuracy: 0.9253 - val_loss: 0.4204 - val_accuracy: 0.8795\n",
            "Epoch 29/30\n",
            "370/370 [==============================] - 4s 10ms/step - loss: 0.1994 - accuracy: 0.9246 - val_loss: 0.4210 - val_accuracy: 0.8821\n",
            "Epoch 30/30\n",
            "370/370 [==============================] - 4s 10ms/step - loss: 0.1982 - accuracy: 0.9260 - val_loss: 0.4246 - val_accuracy: 0.8807\n",
            "======================================== hp1_2 ========================================\n",
            "975/975 [==============================] - 4s 4ms/step - loss: 0.4246 - accuracy: 0.8807\n",
            "Model loss: 0.4246205687522888, accuracy: 0.8807042241096497\n",
            "Starting prediction: \n",
            "{'batch_size': 64, 'verbose': 1}\n",
            "Predicting on 31183 samples\n",
            "488/488 [==============================] - 3s 3ms/step\n",
            "F1_score on the validation set is: 0.7124654909279069\n",
            "Starting prediction: \n",
            "{'batch_size': 64, 'verbose': 1}\n",
            "Predicting on 15545 samples\n",
            "243/243 [==============================] - 1s 3ms/step\n",
            "F1_score on the test set is: 0.7837696619647723\n",
            "Model: \"sequential_12\"\n",
            "_________________________________________________________________\n",
            " Layer (type)                Output Shape              Param #   \n",
            "=================================================================\n",
            " embedding_7 (Embedding)     (None, 1, 200)            80135400  \n",
            "                                                                 \n",
            " bidirectional_14 (Bidirecti  (None, 1, 56)            51296     \n",
            " onal)                                                           \n",
            "                                                                 \n",
            " bidirectional_15 (Bidirecti  (None, 28)               7952      \n",
            " onal)                                                           \n",
            "                                                                 \n",
            " dense_7 (Dense)             (None, 45)                1305      \n",
            "                                                                 \n",
            "=================================================================\n",
            "Total params: 80,195,953\n",
            "Trainable params: 60,553\n",
            "Non-trainable params: 80,135,400\n",
            "_________________________________________________________________\n",
            "Epoch 1/30\n",
            "370/370 [==============================] - 11s 15ms/step - loss: 1.8221 - accuracy: 0.5635 - val_loss: 0.9849 - val_accuracy: 0.7463\n",
            "Epoch 2/30\n",
            "370/370 [==============================] - 4s 11ms/step - loss: 0.8238 - accuracy: 0.7832 - val_loss: 0.6849 - val_accuracy: 0.8127\n",
            "Epoch 3/30\n",
            "370/370 [==============================] - 4s 11ms/step - loss: 0.6246 - accuracy: 0.8272 - val_loss: 0.5646 - val_accuracy: 0.8344\n",
            "Epoch 4/30\n",
            "370/370 [==============================] - 4s 11ms/step - loss: 0.5240 - accuracy: 0.8519 - val_loss: 0.5037 - val_accuracy: 0.8492\n",
            "Epoch 5/30\n",
            "370/370 [==============================] - 4s 11ms/step - loss: 0.4690 - accuracy: 0.8622 - val_loss: 0.4592 - val_accuracy: 0.8609\n",
            "Epoch 6/30\n",
            "370/370 [==============================] - 4s 11ms/step - loss: 0.4283 - accuracy: 0.8729 - val_loss: 0.4301 - val_accuracy: 0.8648\n",
            "Epoch 7/30\n",
            "370/370 [==============================] - 4s 11ms/step - loss: 0.3997 - accuracy: 0.8803 - val_loss: 0.4160 - val_accuracy: 0.8688\n",
            "Epoch 8/30\n",
            "370/370 [==============================] - 4s 11ms/step - loss: 0.3755 - accuracy: 0.8837 - val_loss: 0.4033 - val_accuracy: 0.8735\n",
            "Epoch 9/30\n",
            "370/370 [==============================] - 4s 11ms/step - loss: 0.3583 - accuracy: 0.8880 - val_loss: 0.3909 - val_accuracy: 0.8758\n",
            "Epoch 10/30\n",
            "370/370 [==============================] - 4s 11ms/step - loss: 0.3441 - accuracy: 0.8899 - val_loss: 0.3832 - val_accuracy: 0.8779\n",
            "Epoch 11/30\n",
            "370/370 [==============================] - 4s 11ms/step - loss: 0.3347 - accuracy: 0.8922 - val_loss: 0.3771 - val_accuracy: 0.8777\n",
            "Epoch 12/30\n",
            "370/370 [==============================] - 4s 11ms/step - loss: 0.3242 - accuracy: 0.8950 - val_loss: 0.3725 - val_accuracy: 0.8808\n",
            "Epoch 13/30\n",
            "370/370 [==============================] - 4s 11ms/step - loss: 0.3179 - accuracy: 0.8973 - val_loss: 0.3672 - val_accuracy: 0.8807\n",
            "Epoch 14/30\n",
            "370/370 [==============================] - 4s 11ms/step - loss: 0.3078 - accuracy: 0.9007 - val_loss: 0.3643 - val_accuracy: 0.8823\n",
            "Epoch 15/30\n",
            "370/370 [==============================] - 4s 11ms/step - loss: 0.3011 - accuracy: 0.8999 - val_loss: 0.3650 - val_accuracy: 0.8816\n",
            "Epoch 16/30\n",
            "370/370 [==============================] - 4s 11ms/step - loss: 0.2962 - accuracy: 0.9029 - val_loss: 0.3651 - val_accuracy: 0.8803\n",
            "Epoch 17/30\n",
            "370/370 [==============================] - 4s 11ms/step - loss: 0.2904 - accuracy: 0.9023 - val_loss: 0.3592 - val_accuracy: 0.8817\n",
            "Epoch 18/30\n",
            "370/370 [==============================] - 4s 11ms/step - loss: 0.2855 - accuracy: 0.9040 - val_loss: 0.3616 - val_accuracy: 0.8802\n",
            "Epoch 19/30\n",
            "370/370 [==============================] - 4s 11ms/step - loss: 0.2810 - accuracy: 0.9053 - val_loss: 0.3613 - val_accuracy: 0.8820\n",
            "Epoch 20/30\n",
            "370/370 [==============================] - 4s 11ms/step - loss: 0.2800 - accuracy: 0.9059 - val_loss: 0.3594 - val_accuracy: 0.8851\n",
            "Epoch 21/30\n",
            "370/370 [==============================] - 4s 11ms/step - loss: 0.2726 - accuracy: 0.9074 - val_loss: 0.3601 - val_accuracy: 0.8847\n",
            "Epoch 22/30\n",
            "370/370 [==============================] - 4s 11ms/step - loss: 0.2715 - accuracy: 0.9084 - val_loss: 0.3624 - val_accuracy: 0.8846\n",
            "Epoch 23/30\n",
            "370/370 [==============================] - 4s 11ms/step - loss: 0.2684 - accuracy: 0.9093 - val_loss: 0.3628 - val_accuracy: 0.8854\n",
            "Epoch 24/30\n",
            "370/370 [==============================] - 4s 11ms/step - loss: 0.2657 - accuracy: 0.9076 - val_loss: 0.3620 - val_accuracy: 0.8854\n",
            "Epoch 25/30\n",
            "370/370 [==============================] - 4s 11ms/step - loss: 0.2623 - accuracy: 0.9100 - val_loss: 0.3562 - val_accuracy: 0.8873\n",
            "Epoch 26/30\n",
            "370/370 [==============================] - 4s 11ms/step - loss: 0.2588 - accuracy: 0.9111 - val_loss: 0.3629 - val_accuracy: 0.8852\n",
            "Epoch 27/30\n",
            "370/370 [==============================] - 5s 13ms/step - loss: 0.2587 - accuracy: 0.9107 - val_loss: 0.3614 - val_accuracy: 0.8864\n",
            "Epoch 28/30\n",
            "370/370 [==============================] - 4s 11ms/step - loss: 0.2581 - accuracy: 0.9101 - val_loss: 0.3591 - val_accuracy: 0.8828\n",
            "Epoch 29/30\n",
            "370/370 [==============================] - 4s 11ms/step - loss: 0.2536 - accuracy: 0.9121 - val_loss: 0.3607 - val_accuracy: 0.8869\n",
            "Epoch 30/30\n",
            "370/370 [==============================] - 5s 13ms/step - loss: 0.2540 - accuracy: 0.9122 - val_loss: 0.3613 - val_accuracy: 0.8883\n",
            "======================================== hp2_1 ========================================\n",
            "975/975 [==============================] - 4s 4ms/step - loss: 0.3613 - accuracy: 0.8883\n",
            "Model loss: 0.36127328872680664, accuracy: 0.8883365988731384\n",
            "Starting prediction: \n",
            "{'batch_size': 64, 'verbose': 1}\n",
            "Predicting on 31183 samples\n",
            "488/488 [==============================] - 3s 3ms/step\n",
            "F1_score on the validation set is: 0.6976480303949767\n",
            "Starting prediction: \n",
            "{'batch_size': 64, 'verbose': 1}\n",
            "Predicting on 15545 samples\n",
            "243/243 [==============================] - 1s 3ms/step\n",
            "F1_score on the test set is: 0.7755588480739746\n",
            "Model: \"sequential_13\"\n",
            "_________________________________________________________________\n",
            " Layer (type)                Output Shape              Param #   \n",
            "=================================================================\n",
            " embedding_8 (Embedding)     (None, 1, 200)            80135400  \n",
            "                                                                 \n",
            " bidirectional_16 (Bidirecti  (None, 1, 56)            51296     \n",
            " onal)                                                           \n",
            "                                                                 \n",
            " bidirectional_17 (Bidirecti  (None, 28)               7952      \n",
            " onal)                                                           \n",
            "                                                                 \n",
            " dense_8 (Dense)             (None, 45)                1305      \n",
            "                                                                 \n",
            "=================================================================\n",
            "Total params: 80,195,953\n",
            "Trainable params: 60,553\n",
            "Non-trainable params: 80,135,400\n",
            "_________________________________________________________________\n",
            "Epoch 1/30\n",
            "370/370 [==============================] - 11s 16ms/step - loss: 1.7347 - accuracy: 0.5927 - val_loss: 0.9293 - val_accuracy: 0.7621\n",
            "Epoch 2/30\n",
            "370/370 [==============================] - 4s 11ms/step - loss: 0.7095 - accuracy: 0.8159 - val_loss: 0.6359 - val_accuracy: 0.8240\n",
            "Epoch 3/30\n",
            "370/370 [==============================] - 4s 12ms/step - loss: 0.5088 - accuracy: 0.8614 - val_loss: 0.5228 - val_accuracy: 0.8488\n",
            "Epoch 4/30\n",
            "370/370 [==============================] - 4s 11ms/step - loss: 0.4161 - accuracy: 0.8822 - val_loss: 0.4706 - val_accuracy: 0.8584\n",
            "Epoch 5/30\n",
            "370/370 [==============================] - 4s 11ms/step - loss: 0.3626 - accuracy: 0.8941 - val_loss: 0.4357 - val_accuracy: 0.8671\n",
            "Epoch 6/30\n",
            "370/370 [==============================] - 4s 11ms/step - loss: 0.3249 - accuracy: 0.9021 - val_loss: 0.4136 - val_accuracy: 0.8723\n",
            "Epoch 7/30\n",
            "370/370 [==============================] - 4s 11ms/step - loss: 0.2995 - accuracy: 0.9067 - val_loss: 0.4046 - val_accuracy: 0.8756\n",
            "Epoch 8/30\n",
            "370/370 [==============================] - 4s 11ms/step - loss: 0.2800 - accuracy: 0.9099 - val_loss: 0.3986 - val_accuracy: 0.8742\n",
            "Epoch 9/30\n",
            "370/370 [==============================] - 4s 11ms/step - loss: 0.2643 - accuracy: 0.9139 - val_loss: 0.3937 - val_accuracy: 0.8762\n",
            "Epoch 10/30\n",
            "370/370 [==============================] - 4s 11ms/step - loss: 0.2523 - accuracy: 0.9158 - val_loss: 0.3898 - val_accuracy: 0.8784\n",
            "Epoch 11/30\n",
            "370/370 [==============================] - 4s 11ms/step - loss: 0.2422 - accuracy: 0.9180 - val_loss: 0.3928 - val_accuracy: 0.8790\n",
            "Epoch 12/30\n",
            "370/370 [==============================] - 4s 11ms/step - loss: 0.2342 - accuracy: 0.9186 - val_loss: 0.3914 - val_accuracy: 0.8797\n",
            "Epoch 13/30\n",
            "370/370 [==============================] - 4s 11ms/step - loss: 0.2268 - accuracy: 0.9208 - val_loss: 0.3902 - val_accuracy: 0.8773\n",
            "Epoch 14/30\n",
            "370/370 [==============================] - 4s 11ms/step - loss: 0.2218 - accuracy: 0.9216 - val_loss: 0.3880 - val_accuracy: 0.8786\n",
            "Epoch 15/30\n",
            "370/370 [==============================] - 4s 11ms/step - loss: 0.2164 - accuracy: 0.9235 - val_loss: 0.3881 - val_accuracy: 0.8815\n",
            "Epoch 16/30\n",
            "370/370 [==============================] - 4s 11ms/step - loss: 0.2117 - accuracy: 0.9243 - val_loss: 0.3928 - val_accuracy: 0.8834\n",
            "Epoch 17/30\n",
            "370/370 [==============================] - 4s 11ms/step - loss: 0.2083 - accuracy: 0.9260 - val_loss: 0.3870 - val_accuracy: 0.8863\n",
            "Epoch 18/30\n",
            "370/370 [==============================] - 4s 11ms/step - loss: 0.2042 - accuracy: 0.9255 - val_loss: 0.3893 - val_accuracy: 0.8846\n",
            "Epoch 19/30\n",
            "370/370 [==============================] - 4s 11ms/step - loss: 0.2009 - accuracy: 0.9266 - val_loss: 0.3962 - val_accuracy: 0.8806\n",
            "Epoch 20/30\n",
            "370/370 [==============================] - 4s 11ms/step - loss: 0.1986 - accuracy: 0.9263 - val_loss: 0.3963 - val_accuracy: 0.8847\n",
            "Epoch 21/30\n",
            "370/370 [==============================] - 4s 11ms/step - loss: 0.1960 - accuracy: 0.9275 - val_loss: 0.3932 - val_accuracy: 0.8841\n",
            "Epoch 22/30\n",
            "370/370 [==============================] - 4s 11ms/step - loss: 0.1932 - accuracy: 0.9280 - val_loss: 0.3931 - val_accuracy: 0.8844\n",
            "Epoch 23/30\n",
            "370/370 [==============================] - 4s 11ms/step - loss: 0.1910 - accuracy: 0.9290 - val_loss: 0.3993 - val_accuracy: 0.8817\n",
            "Epoch 24/30\n",
            "370/370 [==============================] - 4s 11ms/step - loss: 0.1890 - accuracy: 0.9286 - val_loss: 0.3997 - val_accuracy: 0.8851\n",
            "Epoch 25/30\n",
            "370/370 [==============================] - 4s 11ms/step - loss: 0.1871 - accuracy: 0.9293 - val_loss: 0.4032 - val_accuracy: 0.8838\n",
            "Epoch 26/30\n",
            "370/370 [==============================] - 4s 11ms/step - loss: 0.1856 - accuracy: 0.9294 - val_loss: 0.4061 - val_accuracy: 0.8832\n",
            "Epoch 27/30\n",
            "370/370 [==============================] - 4s 11ms/step - loss: 0.1843 - accuracy: 0.9296 - val_loss: 0.4096 - val_accuracy: 0.8844\n",
            "Epoch 28/30\n",
            "370/370 [==============================] - 4s 11ms/step - loss: 0.1835 - accuracy: 0.9296 - val_loss: 0.4093 - val_accuracy: 0.8846\n",
            "Epoch 29/30\n",
            "370/370 [==============================] - 4s 11ms/step - loss: 0.1811 - accuracy: 0.9304 - val_loss: 0.4078 - val_accuracy: 0.8842\n",
            "Epoch 30/30\n",
            "370/370 [==============================] - 4s 11ms/step - loss: 0.1805 - accuracy: 0.9298 - val_loss: 0.4066 - val_accuracy: 0.8839\n",
            "======================================== hp2_2 ========================================\n",
            "975/975 [==============================] - 4s 4ms/step - loss: 0.4066 - accuracy: 0.8839\n",
            "Model loss: 0.4065971076488495, accuracy: 0.8839111328125\n",
            "Starting prediction: \n",
            "{'batch_size': 64, 'verbose': 1}\n",
            "Predicting on 31183 samples\n",
            "488/488 [==============================] - 3s 3ms/step\n",
            "F1_score on the validation set is: 0.6957265199606115\n",
            "Starting prediction: \n",
            "{'batch_size': 64, 'verbose': 1}\n",
            "Predicting on 15545 samples\n",
            "243/243 [==============================] - 1s 3ms/step\n",
            "F1_score on the test set is: 0.766453130240197\n",
            "Model: \"sequential_14\"\n",
            "_________________________________________________________________\n",
            " Layer (type)                Output Shape              Param #   \n",
            "=================================================================\n",
            " embedding_9 (Embedding)     (None, 1, 200)            80135400  \n",
            "                                                                 \n",
            " bidirectional_18 (Bidirecti  (None, 1, 256)           336896    \n",
            " onal)                                                           \n",
            "                                                                 \n",
            " bidirectional_19 (Bidirecti  (None, 256)              394240    \n",
            " onal)                                                           \n",
            "                                                                 \n",
            " dense_9 (Dense)             (None, 45)                11565     \n",
            "                                                                 \n",
            "=================================================================\n",
            "Total params: 80,878,101\n",
            "Trainable params: 742,701\n",
            "Non-trainable params: 80,135,400\n",
            "_________________________________________________________________\n",
            "Epoch 1/30\n",
            "370/370 [==============================] - 11s 15ms/step - loss: 1.1275 - accuracy: 0.7127 - val_loss: 0.5889 - val_accuracy: 0.8248\n",
            "Epoch 2/30\n",
            "370/370 [==============================] - 4s 12ms/step - loss: 0.4627 - accuracy: 0.8609 - val_loss: 0.4475 - val_accuracy: 0.8570\n",
            "Epoch 3/30\n",
            "370/370 [==============================] - 4s 12ms/step - loss: 0.3593 - accuracy: 0.8872 - val_loss: 0.3949 - val_accuracy: 0.8711\n",
            "Epoch 4/30\n",
            "370/370 [==============================] - 4s 12ms/step - loss: 0.3076 - accuracy: 0.8997 - val_loss: 0.3778 - val_accuracy: 0.8759\n",
            "Epoch 5/30\n",
            "370/370 [==============================] - 4s 12ms/step - loss: 0.2780 - accuracy: 0.9064 - val_loss: 0.3653 - val_accuracy: 0.8830\n",
            "Epoch 6/30\n",
            "370/370 [==============================] - 4s 12ms/step - loss: 0.2544 - accuracy: 0.9119 - val_loss: 0.3547 - val_accuracy: 0.8852\n",
            "Epoch 7/30\n",
            "370/370 [==============================] - 4s 12ms/step - loss: 0.2399 - accuracy: 0.9144 - val_loss: 0.3513 - val_accuracy: 0.8840\n",
            "Epoch 8/30\n",
            "370/370 [==============================] - 5s 13ms/step - loss: 0.2276 - accuracy: 0.9167 - val_loss: 0.3609 - val_accuracy: 0.8788\n",
            "Epoch 9/30\n",
            "370/370 [==============================] - 4s 12ms/step - loss: 0.2189 - accuracy: 0.9183 - val_loss: 0.3474 - val_accuracy: 0.8870\n",
            "Epoch 10/30\n",
            "370/370 [==============================] - 4s 12ms/step - loss: 0.2114 - accuracy: 0.9211 - val_loss: 0.3513 - val_accuracy: 0.8903\n",
            "Epoch 11/30\n",
            "370/370 [==============================] - 4s 12ms/step - loss: 0.2056 - accuracy: 0.9232 - val_loss: 0.3603 - val_accuracy: 0.8884\n",
            "Epoch 12/30\n",
            "370/370 [==============================] - 5s 14ms/step - loss: 0.1997 - accuracy: 0.9241 - val_loss: 0.3587 - val_accuracy: 0.8872\n",
            "Epoch 13/30\n",
            "370/370 [==============================] - 4s 12ms/step - loss: 0.1951 - accuracy: 0.9248 - val_loss: 0.3530 - val_accuracy: 0.8884\n",
            "Epoch 14/30\n",
            "370/370 [==============================] - 5s 14ms/step - loss: 0.1936 - accuracy: 0.9252 - val_loss: 0.3541 - val_accuracy: 0.8883\n",
            "Epoch 15/30\n",
            "370/370 [==============================] - 4s 12ms/step - loss: 0.1902 - accuracy: 0.9258 - val_loss: 0.3594 - val_accuracy: 0.8901\n",
            "Epoch 16/30\n",
            "370/370 [==============================] - 4s 12ms/step - loss: 0.1872 - accuracy: 0.9265 - val_loss: 0.3605 - val_accuracy: 0.8842\n",
            "Epoch 17/30\n",
            "370/370 [==============================] - 4s 12ms/step - loss: 0.1861 - accuracy: 0.9264 - val_loss: 0.3501 - val_accuracy: 0.8928\n",
            "Epoch 18/30\n",
            "370/370 [==============================] - 4s 12ms/step - loss: 0.1841 - accuracy: 0.9269 - val_loss: 0.3584 - val_accuracy: 0.8911\n",
            "Epoch 19/30\n",
            "370/370 [==============================] - 4s 12ms/step - loss: 0.1828 - accuracy: 0.9274 - val_loss: 0.3691 - val_accuracy: 0.8864\n",
            "Epoch 20/30\n",
            "370/370 [==============================] - 4s 12ms/step - loss: 0.1804 - accuracy: 0.9267 - val_loss: 0.3661 - val_accuracy: 0.8918\n",
            "Epoch 21/30\n",
            "370/370 [==============================] - 4s 12ms/step - loss: 0.1790 - accuracy: 0.9272 - val_loss: 0.3617 - val_accuracy: 0.8888\n",
            "Epoch 22/30\n",
            "370/370 [==============================] - 4s 12ms/step - loss: 0.1770 - accuracy: 0.9281 - val_loss: 0.3664 - val_accuracy: 0.8906\n",
            "Epoch 23/30\n",
            "370/370 [==============================] - 4s 12ms/step - loss: 0.1767 - accuracy: 0.9287 - val_loss: 0.3671 - val_accuracy: 0.8877\n",
            "Epoch 24/30\n",
            "370/370 [==============================] - 4s 11ms/step - loss: 0.1753 - accuracy: 0.9277 - val_loss: 0.3774 - val_accuracy: 0.8890\n",
            "Epoch 25/30\n",
            "370/370 [==============================] - 4s 12ms/step - loss: 0.1745 - accuracy: 0.9289 - val_loss: 0.3717 - val_accuracy: 0.8898\n",
            "Epoch 26/30\n",
            "370/370 [==============================] - 4s 12ms/step - loss: 0.1733 - accuracy: 0.9281 - val_loss: 0.3756 - val_accuracy: 0.8919\n",
            "Epoch 27/30\n",
            "370/370 [==============================] - 4s 12ms/step - loss: 0.1721 - accuracy: 0.9291 - val_loss: 0.3775 - val_accuracy: 0.8910\n",
            "Epoch 28/30\n",
            "370/370 [==============================] - 5s 12ms/step - loss: 0.1716 - accuracy: 0.9295 - val_loss: 0.3804 - val_accuracy: 0.8900\n",
            "Epoch 29/30\n",
            "370/370 [==============================] - 4s 12ms/step - loss: 0.1695 - accuracy: 0.9299 - val_loss: 0.3787 - val_accuracy: 0.8926\n",
            "Epoch 30/30\n",
            "370/370 [==============================] - 4s 12ms/step - loss: 0.1694 - accuracy: 0.9301 - val_loss: 0.3819 - val_accuracy: 0.8913\n",
            "======================================== hp3 ========================================\n",
            "975/975 [==============================] - 5s 5ms/step - loss: 0.3819 - accuracy: 0.8913\n",
            "Model loss: 0.3819364011287689, accuracy: 0.8912548422813416\n",
            "Starting prediction: \n",
            "{'batch_size': 64, 'verbose': 1}\n",
            "Predicting on 31183 samples\n",
            "488/488 [==============================] - 3s 4ms/step\n",
            "F1_score on the validation set is: 0.7019257259525448\n",
            "Starting prediction: \n",
            "{'batch_size': 64, 'verbose': 1}\n",
            "Predicting on 15545 samples\n",
            "243/243 [==============================] - 1s 4ms/step\n",
            "F1_score on the test set is: 0.7756980384847133\n"
          ]
        }
      ],
      "source": [
        "from tensorflow.keras.models import Sequential\n",
        "from tensorflow.keras.layers import Embedding, Dense, LSTM, Bidirectional \n",
        "from keras.optimizers import Adam\n",
        "\n",
        "\n",
        "for key,idx in zip(hp_b.keys(),range(0,5)):\n",
        "    l1 = hp_b[key]['lstm_1']\n",
        "    l2 = hp_b[key]['lstm_2']\n",
        "    learning_rate = hp_b[key]['learning_rate']\n",
        "\n",
        "    set_reproducibility(42)\n",
        "    x2lstm_model = Sequential()\n",
        "    embedding_layer = Embedding(input_dim = vocab_size,output_dim= embedding_dimension,input_length=1, weights = [embedding_matrix], trainable = False)\n",
        "    x2lstm_model.add(embedding_layer)\n",
        "    x2lstm_model.add(Bidirectional(LSTM(\n",
        "                                    units=l1['units'], \n",
        "                                    activation=\"tanh\",\n",
        "                                    return_sequences=l1['return_sequences'],\n",
        "                                    dropout=l1['dropout'])))\n",
        "    \n",
        "    x2lstm_model.add(Bidirectional(LSTM(\n",
        "                                    units=l2['units'], \n",
        "                                    activation=\"tanh\",\n",
        "                                    return_sequences=l2['return_sequences'],\n",
        "                                    dropout=l2['dropout'])))\n",
        "    x2lstm_model.add(Dense(num_classes,activation='softmax'))\n",
        "\n",
        "    x2lstm_model.summary()\n",
        "\n",
        "    x2lstm_model.compile(loss='sparse_categorical_crossentropy', optimizer=Adam(learning_rate=learning_rate), metrics=['accuracy'])\n",
        "\n",
        "    # fit model\n",
        "    history = x2lstm_model.fit(x_train, y_train, validation_data=(x_val, y_val), batch_size = 128, epochs=30)\n",
        "    print('='*40,key,'='*40)\n",
        "    #show_history(history)\n",
        "    #x2lstm_model.evaluate(x_val, y_val)\n",
        "    #results_x2lstm.append(f1_macro(x2lstm_model, y_train, y_val, num_classes))\n",
        "   \n",
        "    loss, accuracy = x2lstm_model.evaluate(x_val, y_val)\n",
        "    print(f\"Model loss: {loss}, accuracy: {accuracy}\")\n",
        "\n",
        "    # Inference and evaluate\n",
        "\n",
        "    x2lstm_score = compute_f1(x2lstm_model, x_val, y_val)\n",
        "    print(f'F1_score on the validation set is: {x2lstm_score}')\n",
        "\n",
        "    x2lstm_score = compute_f1(x2lstm_model, x_test, y_test)\n",
        "    print(f'F1_score on the test set is: {x2lstm_score}')\n",
        "\n",
        "    results_x2lstm.append(x2lstm_score.copy())"
      ]
    },
    {
      "cell_type": "code",
      "execution_count": 154,
      "metadata": {
        "colab": {
          "base_uri": "https://localhost:8080/"
        },
        "id": "twx8L1SnHFEh",
        "outputId": "9c757de9-cc0e-49dd-b803-f476aca2dbf9"
      },
      "outputs": [
        {
          "name": "stdout",
          "output_type": "stream",
          "text": [
            "F1_SCORES\n",
            "0   0.7846393569076726\n",
            "1   0.7837696619647723\n",
            "2   0.7755588480739746\n",
            "3   0.766453130240197\n",
            "4   0.7756980384847133\n"
          ]
        }
      ],
      "source": [
        "print(\"F1_SCORES\")\n",
        "for f1_macro_score,idx in zip(results_x2lstm,range(0,5)):\n",
        "    print(idx, \" \", f1_macro_score)"
      ]
    },
    {
      "cell_type": "code",
      "execution_count": 155,
      "metadata": {
        "colab": {
          "base_uri": "https://localhost:8080/"
        },
        "id": "zvtURktJOw6A",
        "outputId": "e328ee38-cfe1-4e6b-8b86-2c0cc772f167"
      },
      "outputs": [
        {
          "name": "stdout",
          "output_type": "stream",
          "text": [
            "Top 2xLSTM F1 Macro score: 0.7846393569076726\n"
          ]
        }
      ],
      "source": [
        "x2lstm_score = max([f1_macro_score for f1_macro_score,idx in zip(results_x2lstm,range(0,5))])\n",
        "print(f\"Top 2xLSTM F1 Macro score: {x2lstm_score}\")"
      ]
    },
    {
      "cell_type": "code",
      "execution_count": 156,
      "metadata": {
        "id": "OglXcWHaHFEh"
      },
      "outputs": [],
      "source": [
        "#from keras.optimizers import Adam\n",
        "\n",
        "#x2lstm_model.compile(loss='sparse_categorical_crossentropy', optimizer=Adam(learning_rate=2e-3), metrics=['accuracy'])"
      ]
    },
    {
      "cell_type": "code",
      "execution_count": 157,
      "metadata": {
        "id": "wODByaN6HFEh"
      },
      "outputs": [],
      "source": [
        "# fit model\n",
        "#history = x2lstm_model.fit(x_train, y_train, validation_data=(x_val, y_val), batch_size = 128, epochs=30)"
      ]
    },
    {
      "cell_type": "code",
      "execution_count": 158,
      "metadata": {
        "id": "-MS8c1NzHFEh"
      },
      "outputs": [],
      "source": [
        "#show_history(history)"
      ]
    },
    {
      "cell_type": "code",
      "execution_count": 159,
      "metadata": {
        "id": "Le5vJSMxHFEi"
      },
      "outputs": [],
      "source": [
        "#x2lstm_model.evaluate(x_val, y_val)"
      ]
    },
    {
      "cell_type": "markdown",
      "metadata": {
        "id": "5hgT909Mi8CG"
      },
      "source": [
        "## Model C: LSTM + Dense"
      ]
    },
    {
      "cell_type": "code",
      "execution_count": 53,
      "metadata": {
        "colab": {
          "base_uri": "https://localhost:8080/"
        },
        "id": "53xpFPP4485I",
        "outputId": "d0e08103-9d7f-48f2-e1bd-f60d27dab41c"
      },
      "outputs": [],
      "source": [
        "# Create model\n",
        "\n",
        "def create_lstm_dense(lstm_units, dense_units, lstm_dropout, learning_rate, lstm_activation, dense_activation):\n",
        "    model = keras.Sequential()\n",
        "    model = keras.models.Sequential()\n",
        "    \n",
        "    \n",
        "    model.add(keras.layers.Embedding(input_dim=vocab_size, \n",
        "                                    output_dim = embedding_dimension,\n",
        "                                    input_length = 1,\n",
        "                                    weights = [embedding_matrix],\n",
        "                                    trainable = False))\n",
        "    \n",
        "    model.add(keras.layers.Bidirectional(LSTM(units=lstm_units,\n",
        "                                              dropout=lstm_dropout,\n",
        "                                              activation=lstm_activation\n",
        "                                              )))\n",
        "\n",
        "    model.add(keras.layers.Dense(units=dense_units, \n",
        "                                 activation=dense_activation))\n",
        "\n",
        "\n",
        "    model.add(keras.layers.Dense(units=num_classes, \n",
        "                                 activation=\"softmax\"))\n",
        "\n",
        "    model.compile(loss=\"sparse_categorical_crossentropy\", \n",
        "                    optimizer=Adam(learning_rate=learning_rate), \n",
        "                    metrics=[\"accuracy\"])\n",
        "    \n",
        "    return model\n",
        "    "
      ]
    },
    {
      "cell_type": "code",
      "execution_count": 54,
      "metadata": {},
      "outputs": [],
      "source": [
        "def build_LSTM_Dense(hp):\n",
        "    lstm_units = hp.Int(\"lstm_units\", min_value=16, max_value=128, step=16)\n",
        "    dense_units = hp.Int(\"dense_units\", min_value=16, max_value=128, step=16)\n",
        "\n",
        "    lstm_activation = hp.Choice(\"lstm_activation\", [\"relu\", \"tanh\"])\n",
        "    dense_activation = hp.Choice(\"dense_activation\", [\"relu\", \"tanh\"])\n",
        "\n",
        "    lstm_dropout = hp.Float(\"lstm_dropout\", min_value=0, max_value=0.4, step=0.1)\n",
        "\n",
        "    learning_rate = hp.Float(\"learning_rate\", min_value=1e-3, max_value=1e-2, sampling=\"log\")\n",
        "    # call existing model-building code with the hyperparameter values.\n",
        "    model = create_lstm_dense(lstm_units=lstm_units,\n",
        "                            dense_units=dense_units, \n",
        "                            lstm_activation=lstm_activation, \n",
        "                            dense_activation=dense_activation,\n",
        "                            lstm_dropout=lstm_dropout,\n",
        "                            learning_rate=learning_rate\n",
        "                        )\n",
        "    return model"
      ]
    },
    {
      "cell_type": "code",
      "execution_count": 55,
      "metadata": {},
      "outputs": [
        {
          "name": "stdout",
          "output_type": "stream",
          "text": [
            "Search space summary\n",
            "Default search space size: 6\n",
            "lstm_units (Int)\n",
            "{'default': None, 'conditions': [], 'min_value': 16, 'max_value': 128, 'step': 16, 'sampling': None}\n",
            "dense_units (Int)\n",
            "{'default': None, 'conditions': [], 'min_value': 16, 'max_value': 128, 'step': 16, 'sampling': None}\n",
            "lstm_activation (Choice)\n",
            "{'default': 'relu', 'conditions': [], 'values': ['relu', 'tanh'], 'ordered': False}\n",
            "dense_activation (Choice)\n",
            "{'default': 'relu', 'conditions': [], 'values': ['relu', 'tanh'], 'ordered': False}\n",
            "lstm_dropout (Float)\n",
            "{'default': 0.0, 'conditions': [], 'min_value': 0.0, 'max_value': 0.4, 'step': 0.1, 'sampling': None}\n",
            "learning_rate (Float)\n",
            "{'default': 0.001, 'conditions': [], 'min_value': 0.001, 'max_value': 0.01, 'step': None, 'sampling': 'log'}\n"
          ]
        }
      ],
      "source": [
        "tuner = keras_tuner.Hyperband(hypermodel=build_LSTM_Dense,\n",
        "                            objective='accuracy',\n",
        "                            max_epochs=30,\n",
        "                            factor=3,\n",
        "                            directory='models',\n",
        "                            project_name='LSTM_DENSE')\n",
        "tuner.search_space_summary()"
      ]
    },
    {
      "cell_type": "code",
      "execution_count": 56,
      "metadata": {},
      "outputs": [
        {
          "data": {
            "text/plain": [
              "'\\ntuner.search(x_train,y_train, epochs=30, validation_data=(x_val,y_val))\\nbest_model = tuner.get_best_models()[0]\\ntuner.results_summary()\\n'"
            ]
          },
          "execution_count": 56,
          "metadata": {},
          "output_type": "execute_result"
        }
      ],
      "source": [
        "# Search the best hyper-parameter and select the best model\n",
        "'''\n",
        "tuner.search(x_train,y_train, epochs=30, validation_data=(x_val,y_val))\n",
        "best_model = tuner.get_best_models()[0]\n",
        "tuner.results_summary()\n",
        "'''"
      ]
    },
    {
      "attachments": {},
      "cell_type": "markdown",
      "metadata": {},
      "source": [
        "Hyperparameters:\n",
        "* LSTM_units: 112\n",
        "* LSTM_activation: tanh\n",
        "* Dense_units: 32\n",
        "* Dense_activation: tanh\n",
        "* dropout: 0.1\n",
        "* learning_rate: 0.0016927911415676542\n",
        "* tuner/epochs: 30\n",
        "  \n",
        "Score: 0.9233043193817139"
      ]
    },
    {
      "cell_type": "code",
      "execution_count": 57,
      "metadata": {},
      "outputs": [],
      "source": [
        "# Create model with best hyperparameter \n",
        "lstm_dense_model = create_lstm_dense(lstm_units=112,\n",
        "                                    dense_units=32,\n",
        "                                    lstm_activation=\"tanh\",\n",
        "                                    dense_activation=\"tanh\",\n",
        "                                    lstm_dropout=0.1,\n",
        "                                    learning_rate=0.001693) "
      ]
    },
    {
      "cell_type": "code",
      "execution_count": 58,
      "metadata": {
        "colab": {
          "base_uri": "https://localhost:8080/",
          "height": 660
        },
        "id": "hPcXmqzj485J",
        "outputId": "40420c23-ee0d-4fba-8284-b6cfc19461eb"
      },
      "outputs": [
        {
          "name": "stdout",
          "output_type": "stream",
          "text": [
            "Start training! \n",
            "Parameters: {'verbose': 0, 'epochs': 30, 'batch_size': 64}\n",
            "Training completed!\n",
            "Showing history...\n",
            "Displaying the following history keys: dict_keys(['loss', 'accuracy', 'val_loss', 'val_accuracy'])\n"
          ]
        },
        {
          "data": {
            "image/png": "[encoded data removed]",
            "text/plain": [
              "<Figure size 640x480 with 1 Axes>"
            ]
          },
          "metadata": {},
          "output_type": "display_data"
        },
        {
          "data": {
            "image/png": "[encoded data removed]",
            "text/plain": [
              "<Figure size 640x480 with 1 Axes>"
            ]
          },
          "metadata": {},
          "output_type": "display_data"
        }
      ],
      "source": [
        "# Train\n",
        "lstm_dense_training_info = {\n",
        "    'verbose': 0,\n",
        "    'epochs' : 30,\n",
        "    'batch_size' : 64\n",
        "}\n",
        "\n",
        "lstm_dense_model = train_model(model=lstm_dense_model,training_info = lstm_dense_training_info)"
      ]
    },
    {
      "cell_type": "markdown",
      "metadata": {
        "id": "iYuiRWK9Ow5-"
      },
      "source": [
        "#### F1-Macro evaluation"
      ]
    },
    {
      "cell_type": "code",
      "execution_count": 59,
      "metadata": {
        "colab": {
          "base_uri": "https://localhost:8080/"
        },
        "id": "xZo7nP0WOw5-",
        "outputId": "9c735f54-2e89-49f3-8cfd-ac26638c0691"
      },
      "outputs": [
        {
          "name": "stdout",
          "output_type": "stream",
          "text": [
            "975/975 [==============================] - 2s 2ms/step - loss: 0.4087 - accuracy: 0.8892\n",
            "Model loss: 0.408666729927063, accuracy: 0.8892024755477905\n",
            "Starting prediction: \n",
            "{'batch_size': 64, 'verbose': 1}\n",
            "Predicting on 31183 samples\n",
            "488/488 [==============================] - 2s 3ms/step\n",
            "F1_score on the validation set is: 0.7008476976099404\n"
          ]
        }
      ],
      "source": [
        "loss, accuracy = lstm_dense_model.evaluate(x_val, y_val)\n",
        "print(f\"Model loss: {loss}, accuracy: {accuracy}\")\n",
        "\n",
        "# Inference and evaluate\n",
        "\n",
        "lstm_dense_score = compute_f1(lstm_dense_model, x_val, y_val)\n",
        "print(f'F1_score on the validation set is: {lstm_dense_score}')"
      ]
    },
    {
      "cell_type": "markdown",
      "metadata": {
        "id": "tTwH3Iz5i8CG"
      },
      "source": [
        "## Conclusions"
      ]
    },
    {
      "cell_type": "code",
      "execution_count": 163,
      "metadata": {
        "colab": {
          "base_uri": "https://localhost:8080/"
        },
        "id": "g8vray3yi8CH",
        "outputId": "076b6ab4-5c8a-48bc-cc96-8f75a02abb6f"
      },
      "outputs": [
        {
          "name": "stdout",
          "output_type": "stream",
          "text": [
            " \n",
            "F1 Macro scores:\n",
            "    Base = 0.7780520384862664\n",
            "    GRU = 0.7844230550876845\n",
            "    2x LSTM = 0.7846393569076726\n",
            "    LSTM + Dense = 0.7766158949784564\n",
            "\n"
          ]
        }
      ],
      "source": [
        "print(f''' \n",
        "F1 Macro scores:\n",
        "    Base = {base_score}\n",
        "    GRU = {gru_score}\n",
        "    2x LSTM = {x2lstm_score}\n",
        "    LSTM + Dense = {lstm_dense_score}\n",
        "''')"
      ]
    }
  ],
  "metadata": {
    "accelerator": "GPU",
    "colab": {
      "provenance": []
    },
    "gpuClass": "standard",
    "kernelspec": {
      "display_name": "nlp",
      "language": "python",
      "name": "python3"
    },
    "language_info": {
      "codemirror_mode": {
        "name": "ipython",
        "version": 3
      },
      "file_extension": ".py",
      "mimetype": "text/x-python",
      "name": "python",
      "nbconvert_exporter": "python",
      "pygments_lexer": "ipython3",
      "version": "3.7.13"
    },
    "orig_nbformat": 4,
    "vscode": {
      "interpreter": {
        "hash": "0847cda728ef3e0f335e7e94b5a043d9a0fda1c620343fc6302f7013063303dc"
      }
    }
  },
  "nbformat": 4,
  "nbformat_minor": 0
}
