{
  "cells": [
    {
      "cell_type": "markdown",
      "metadata": {
        "id": "iKel9Y42484v"
      },
      "source": [
        "<a href=\"https://colab.research.google.com/github/Danysan1/ai-unibo-nlp-project/blob/main/a1/execution.ipynb\" target=\"_parent\"><img src=\"https://colab.research.google.com/assets/colab-badge.svg\" alt=\"Open In Colab\"/></a>"
      ]
    },
    {
      "cell_type": "markdown",
      "metadata": {
        "id": "TzCABY1Qi8Bv"
      },
      "source": [
        "# Assigment 1 execution"
      ]
    },
    {
      "cell_type": "markdown",
      "metadata": {
        "id": "iCkTgi9UBCxy"
      },
      "source": [
        "Team members: Daniel Bernardi, Daniele Santini, Hiari Pizzini Cavagna and Muhammad Saleem Ghulam."
      ]
    },
    {
      "cell_type": "markdown",
      "metadata": {
        "id": "kNE248Nhi8B0"
      },
      "source": [
        "Corpora: https://www.nltk.org/nltk_data/ , point 91, \"Dependency Parsed Treebank\" ([link](https://raw.githubusercontent.com/nltk/nltk_data/gh-pages/packages/corpora/dependency_treebank.zip)).\n",
        "\n",
        "Docs:\n",
        "* https://www.nltk.org/api/nltk.corpus.html\n",
        "* https://www.nltk.org/data.html\n",
        "* https://www.nltk.org/install.html\n",
        "\n",
        "## Preparing the environment"
      ]
    },
    {
      "cell_type": "code",
      "execution_count": 1,
      "metadata": {
        "colab": {
          "base_uri": "https://localhost:8080/"
        },
        "id": "SJOEUxxoi8B1",
        "outputId": "d731cfb0-893c-4a51-e0e7-2d9e68d46f80"
      },
      "outputs": [
        {
          "output_type": "stream",
          "name": "stdout",
          "text": [
            "Looking in indexes: https://pypi.org/simple, https://us-python.pkg.dev/colab-wheels/public/simple/\n",
            "Requirement already satisfied: pandas in /usr/local/lib/python3.8/dist-packages (1.3.5)\n",
            "Requirement already satisfied: numpy in /usr/local/lib/python3.8/dist-packages (1.21.6)\n",
            "Requirement already satisfied: matplotlib in /usr/local/lib/python3.8/dist-packages (3.2.2)\n",
            "Collecting gensim==4.2.0\n",
            "  Downloading gensim-4.2.0-cp38-cp38-manylinux_2_12_x86_64.manylinux2010_x86_64.whl (24.1 MB)\n",
            "\u001b[2K     \u001b[90m━━━━━━━━━━━━━━━━━━━━━━━━━━━━━━━━━━━━━━━━\u001b[0m \u001b[32m24.1/24.1 MB\u001b[0m \u001b[31m52.6 MB/s\u001b[0m eta \u001b[36m0:00:00\u001b[0m\n",
            "\u001b[?25hCollecting tensorflow-addons\n",
            "  Downloading tensorflow_addons-0.19.0-cp38-cp38-manylinux_2_17_x86_64.manylinux2014_x86_64.whl (1.1 MB)\n",
            "\u001b[2K     \u001b[90m━━━━━━━━━━━━━━━━━━━━━━━━━━━━━━━━━━━━━━━━\u001b[0m \u001b[32m1.1/1.1 MB\u001b[0m \u001b[31m63.7 MB/s\u001b[0m eta \u001b[36m0:00:00\u001b[0m\n",
            "\u001b[?25hCollecting keras_tuner\n",
            "  Downloading keras_tuner-1.1.3-py3-none-any.whl (135 kB)\n",
            "\u001b[2K     \u001b[90m━━━━━━━━━━━━━━━━━━━━━━━━━━━━━━━━━━━━━━\u001b[0m \u001b[32m135.7/135.7 KB\u001b[0m \u001b[31m19.1 MB/s\u001b[0m eta \u001b[36m0:00:00\u001b[0m\n",
            "\u001b[?25hRequirement already satisfied: scipy>=0.18.1 in /usr/local/lib/python3.8/dist-packages (from gensim==4.2.0) (1.7.3)\n",
            "Requirement already satisfied: smart-open>=1.8.1 in /usr/local/lib/python3.8/dist-packages (from gensim==4.2.0) (6.3.0)\n",
            "Requirement already satisfied: pytz>=2017.3 in /usr/local/lib/python3.8/dist-packages (from pandas) (2022.7)\n",
            "Requirement already satisfied: python-dateutil>=2.7.3 in /usr/local/lib/python3.8/dist-packages (from pandas) (2.8.2)\n",
            "Requirement already satisfied: pyparsing!=2.0.4,!=2.1.2,!=2.1.6,>=2.0.1 in /usr/local/lib/python3.8/dist-packages (from matplotlib) (3.0.9)\n",
            "Requirement already satisfied: kiwisolver>=1.0.1 in /usr/local/lib/python3.8/dist-packages (from matplotlib) (1.4.4)\n",
            "Requirement already satisfied: cycler>=0.10 in /usr/local/lib/python3.8/dist-packages (from matplotlib) (0.11.0)\n",
            "Requirement already satisfied: packaging in /usr/local/lib/python3.8/dist-packages (from tensorflow-addons) (21.3)\n",
            "Requirement already satisfied: typeguard>=2.7 in /usr/local/lib/python3.8/dist-packages (from tensorflow-addons) (2.7.1)\n",
            "Requirement already satisfied: tensorboard in /usr/local/lib/python3.8/dist-packages (from keras_tuner) (2.9.1)\n",
            "Collecting kt-legacy\n",
            "  Downloading kt_legacy-1.0.4-py3-none-any.whl (9.6 kB)\n",
            "Requirement already satisfied: requests in /usr/local/lib/python3.8/dist-packages (from keras_tuner) (2.25.1)\n",
            "Requirement already satisfied: ipython in /usr/local/lib/python3.8/dist-packages (from keras_tuner) (7.9.0)\n",
            "Requirement already satisfied: six>=1.5 in /usr/local/lib/python3.8/dist-packages (from python-dateutil>=2.7.3->pandas) (1.15.0)\n",
            "Requirement already satisfied: pexpect in /usr/local/lib/python3.8/dist-packages (from ipython->keras_tuner) (4.8.0)\n",
            "Requirement already satisfied: prompt-toolkit<2.1.0,>=2.0.0 in /usr/local/lib/python3.8/dist-packages (from ipython->keras_tuner) (2.0.10)\n",
            "Requirement already satisfied: backcall in /usr/local/lib/python3.8/dist-packages (from ipython->keras_tuner) (0.2.0)\n",
            "Requirement already satisfied: pickleshare in /usr/local/lib/python3.8/dist-packages (from ipython->keras_tuner) (0.7.5)\n",
            "Requirement already satisfied: pygments in /usr/local/lib/python3.8/dist-packages (from ipython->keras_tuner) (2.6.1)\n",
            "Collecting jedi>=0.10\n",
            "  Downloading jedi-0.18.2-py2.py3-none-any.whl (1.6 MB)\n",
            "\u001b[2K     \u001b[90m━━━━━━━━━━━━━━━━━━━━━━━━━━━━━━━━━━━━━━━━\u001b[0m \u001b[32m1.6/1.6 MB\u001b[0m \u001b[31m71.1 MB/s\u001b[0m eta \u001b[36m0:00:00\u001b[0m\n",
            "\u001b[?25hRequirement already satisfied: setuptools>=18.5 in /usr/local/lib/python3.8/dist-packages (from ipython->keras_tuner) (57.4.0)\n",
            "Requirement already satisfied: traitlets>=4.2 in /usr/local/lib/python3.8/dist-packages (from ipython->keras_tuner) (5.7.1)\n",
            "Requirement already satisfied: decorator in /usr/local/lib/python3.8/dist-packages (from ipython->keras_tuner) (4.4.2)\n",
            "Requirement already satisfied: idna<3,>=2.5 in /usr/local/lib/python3.8/dist-packages (from requests->keras_tuner) (2.10)\n",
            "Requirement already satisfied: urllib3<1.27,>=1.21.1 in /usr/local/lib/python3.8/dist-packages (from requests->keras_tuner) (1.24.3)\n",
            "Requirement already satisfied: chardet<5,>=3.0.2 in /usr/local/lib/python3.8/dist-packages (from requests->keras_tuner) (4.0.0)\n",
            "Requirement already satisfied: certifi>=2017.4.17 in /usr/local/lib/python3.8/dist-packages (from requests->keras_tuner) (2022.12.7)\n",
            "Requirement already satisfied: google-auth<3,>=1.6.3 in /usr/local/lib/python3.8/dist-packages (from tensorboard->keras_tuner) (2.15.0)\n",
            "Requirement already satisfied: google-auth-oauthlib<0.5,>=0.4.1 in /usr/local/lib/python3.8/dist-packages (from tensorboard->keras_tuner) (0.4.6)\n",
            "Requirement already satisfied: werkzeug>=1.0.1 in /usr/local/lib/python3.8/dist-packages (from tensorboard->keras_tuner) (1.0.1)\n",
            "Requirement already satisfied: grpcio>=1.24.3 in /usr/local/lib/python3.8/dist-packages (from tensorboard->keras_tuner) (1.51.1)\n",
            "Requirement already satisfied: markdown>=2.6.8 in /usr/local/lib/python3.8/dist-packages (from tensorboard->keras_tuner) (3.4.1)\n",
            "Requirement already satisfied: wheel>=0.26 in /usr/local/lib/python3.8/dist-packages (from tensorboard->keras_tuner) (0.38.4)\n",
            "Requirement already satisfied: tensorboard-plugin-wit>=1.6.0 in /usr/local/lib/python3.8/dist-packages (from tensorboard->keras_tuner) (1.8.1)\n",
            "Requirement already satisfied: protobuf<3.20,>=3.9.2 in /usr/local/lib/python3.8/dist-packages (from tensorboard->keras_tuner) (3.19.6)\n",
            "Requirement already satisfied: absl-py>=0.4 in /usr/local/lib/python3.8/dist-packages (from tensorboard->keras_tuner) (1.3.0)\n",
            "Requirement already satisfied: tensorboard-data-server<0.7.0,>=0.6.0 in /usr/local/lib/python3.8/dist-packages (from tensorboard->keras_tuner) (0.6.1)\n",
            "Requirement already satisfied: pyasn1-modules>=0.2.1 in /usr/local/lib/python3.8/dist-packages (from google-auth<3,>=1.6.3->tensorboard->keras_tuner) (0.2.8)\n",
            "Requirement already satisfied: cachetools<6.0,>=2.0.0 in /usr/local/lib/python3.8/dist-packages (from google-auth<3,>=1.6.3->tensorboard->keras_tuner) (5.2.0)\n",
            "Requirement already satisfied: rsa<5,>=3.1.4 in /usr/local/lib/python3.8/dist-packages (from google-auth<3,>=1.6.3->tensorboard->keras_tuner) (4.9)\n",
            "Requirement already satisfied: requests-oauthlib>=0.7.0 in /usr/local/lib/python3.8/dist-packages (from google-auth-oauthlib<0.5,>=0.4.1->tensorboard->keras_tuner) (1.3.1)\n",
            "Requirement already satisfied: parso<0.9.0,>=0.8.0 in /usr/local/lib/python3.8/dist-packages (from jedi>=0.10->ipython->keras_tuner) (0.8.3)\n",
            "Requirement already satisfied: importlib-metadata>=4.4 in /usr/local/lib/python3.8/dist-packages (from markdown>=2.6.8->tensorboard->keras_tuner) (6.0.0)\n",
            "Requirement already satisfied: wcwidth in /usr/local/lib/python3.8/dist-packages (from prompt-toolkit<2.1.0,>=2.0.0->ipython->keras_tuner) (0.2.5)\n",
            "Requirement already satisfied: ptyprocess>=0.5 in /usr/local/lib/python3.8/dist-packages (from pexpect->ipython->keras_tuner) (0.7.0)\n",
            "Requirement already satisfied: zipp>=0.5 in /usr/local/lib/python3.8/dist-packages (from importlib-metadata>=4.4->markdown>=2.6.8->tensorboard->keras_tuner) (3.11.0)\n",
            "Requirement already satisfied: pyasn1<0.5.0,>=0.4.6 in /usr/local/lib/python3.8/dist-packages (from pyasn1-modules>=0.2.1->google-auth<3,>=1.6.3->tensorboard->keras_tuner) (0.4.8)\n",
            "Requirement already satisfied: oauthlib>=3.0.0 in /usr/local/lib/python3.8/dist-packages (from requests-oauthlib>=0.7.0->google-auth-oauthlib<0.5,>=0.4.1->tensorboard->keras_tuner) (3.2.2)\n",
            "Installing collected packages: kt-legacy, jedi, tensorflow-addons, gensim, keras_tuner\n",
            "  Attempting uninstall: gensim\n",
            "    Found existing installation: gensim 3.6.0\n",
            "    Uninstalling gensim-3.6.0:\n",
            "      Successfully uninstalled gensim-3.6.0\n",
            "Successfully installed gensim-4.2.0 jedi-0.18.2 keras_tuner-1.1.3 kt-legacy-1.0.4 tensorflow-addons-0.19.0\n"
          ]
        }
      ],
      "source": [
        "%pip install pandas numpy matplotlib gensim==4.2.0 tensorflow-addons keras_tuner"
      ]
    },
    {
      "cell_type": "code",
      "execution_count": 2,
      "metadata": {
        "id": "KqnHhB8yGptZ"
      },
      "outputs": [],
      "source": [
        "import os, shutil  #  file management\n",
        "import sys \n",
        "import pandas as pd  #  dataframe management\n",
        "import numpy as np  #  data manipulation\n",
        "import re\n",
        "import urllib.request  # download files\n",
        "from zipfile import ZipFile # extract files\n",
        "from matplotlib import pyplot as plt\n",
        "import tensorflow_addons as tfa\n",
        "from sklearn.metrics import f1_score\n",
        "import keras\n",
        "import keras_tuner"
      ]
    },
    {
      "cell_type": "code",
      "execution_count": 3,
      "metadata": {
        "id": "HuFLcnnQuym9"
      },
      "outputs": [],
      "source": [
        "if not os.path.exists(\"./report\"):\n",
        "    os.makedirs(\"./report\")"
      ]
    },
    {
      "cell_type": "markdown",
      "metadata": {
        "id": "glhEVNdNi8B4"
      },
      "source": [
        "## Downloading the dataset"
      ]
    },
    {
      "cell_type": "code",
      "execution_count": 4,
      "metadata": {
        "colab": {
          "base_uri": "https://localhost:8080/"
        },
        "id": "gMVaf67mGtVe",
        "outputId": "de2b41de-faa2-4e15-cb5b-e3158dccc0d1"
      },
      "outputs": [
        {
          "output_type": "stream",
          "name": "stdout",
          "text": [
            "Successful download\n",
            "Successful extraction\n"
          ]
        }
      ],
      "source": [
        "dataset_folder = os.path.join(os.getcwd(), \"Dataset\")\n",
        "\n",
        "if not os.path.exists(dataset_folder):\n",
        "    os.makedirs(dataset_folder)\n",
        "\n",
        "url = 'https://raw.githubusercontent.com/nltk/nltk_data/gh-pages/packages/corpora/dependency_treebank.zip'\n",
        "\n",
        "dataset_path = os.path.join(dataset_folder, \"dependency_treebank.zip\")\n",
        "\n",
        "if not os.path.exists(dataset_path):\n",
        "    urllib.request.urlretrieve(url, dataset_path)\n",
        "    print(\"Successful download\")\n",
        "    \n",
        "with ZipFile(dataset_path, 'r') as zObject:\n",
        "  # Extracting all the members of the zip  into a specific location.\n",
        "  zObject.extractall(dataset_folder)\n",
        "  print(\"Successful extraction\")"
      ]
    },
    {
      "cell_type": "markdown",
      "metadata": {
        "id": "6YF4FVoUi8B7"
      },
      "source": [
        "## Loading the data"
      ]
    },
    {
      "cell_type": "code",
      "execution_count": 5,
      "metadata": {
        "id": "brq6f0-oi8B9"
      },
      "outputs": [],
      "source": [
        "def loadCorpus(start:int, stop:int=None):\n",
        "    '''\n",
        "    Loads the data for the specified file range.\n",
        "    \n",
        "    Removes the third column 'num', which is not necessary for this task.\n",
        "\n",
        "    Parameters:\n",
        "        start: start of numeric range of files (inclusive)\n",
        "        stop: end of numeric range of files (exclusive)\n",
        "    '''\n",
        "    dataset_name = \"dependency_treebank\"\n",
        "    folder = os.path.join(os.getcwd(), \"Dataset\", dataset_name)\n",
        "\n",
        "    if stop==None:\n",
        "        stop = start+1\n",
        "    \n",
        "    return pd.concat([\n",
        "        pd.read_csv(\n",
        "            f'{folder}/wsj_{\"{:04d}\".format(num)}.dp',\n",
        "            sep=\"\\t\",\n",
        "            usecols=[0,1],\n",
        "            names=[\"word\",\"label\"]\n",
        "        ) for num in range(start, stop)\n",
        "    ])"
      ]
    },
    {
      "cell_type": "code",
      "execution_count": 6,
      "metadata": {
        "id": "MHjTm5HOi8B-"
      },
      "outputs": [],
      "source": [
        "full_dataset = loadCorpus(1,200)"
      ]
    },
    {
      "cell_type": "markdown",
      "metadata": {
        "id": "xVtgdAgwi8B-"
      },
      "source": [
        "## Exploratory Data Analysis"
      ]
    },
    {
      "cell_type": "code",
      "execution_count": 7,
      "metadata": {
        "colab": {
          "base_uri": "https://localhost:8080/"
        },
        "id": "Ih48IOpti8B_",
        "outputId": "9af160cd-a680-4712-b8f0-d73a433731e4"
      },
      "outputs": [
        {
          "output_type": "execute_result",
          "data": {
            "text/plain": [
              "word     94084\n",
              "label    94084\n",
              "dtype: int64"
            ]
          },
          "metadata": {},
          "execution_count": 7
        }
      ],
      "source": [
        "full_dataset.count()"
      ]
    },
    {
      "cell_type": "code",
      "execution_count": 8,
      "metadata": {
        "colab": {
          "base_uri": "https://localhost:8080/",
          "height": 677
        },
        "id": "uzKTmaB0i8CA",
        "outputId": "4cd899a9-37e6-40df-9897-0e66c0d7dfe7"
      },
      "outputs": [
        {
          "output_type": "execute_result",
          "data": {
            "text/plain": [
              "            word label\n",
              "0         Pierre   NNP\n",
              "1         Vinken   NNP\n",
              "2              ,     ,\n",
              "3             61    CD\n",
              "4          years   NNS\n",
              "5            old    JJ\n",
              "6              ,     ,\n",
              "7           will    MD\n",
              "8           join    VB\n",
              "9            the    DT\n",
              "10         board    NN\n",
              "11            as    IN\n",
              "12             a    DT\n",
              "13  nonexecutive    JJ\n",
              "14      director    NN\n",
              "15          Nov.   NNP\n",
              "16            29    CD\n",
              "17             .     .\n",
              "18           Mr.   NNP\n",
              "19        Vinken   NNP"
            ],
            "text/html": [
              "\n",
              "  <div id=\"df-ffc81af0-2a86-46de-a238-0551d465f8e3\">\n",
              "    <div class=\"colab-df-container\">\n",
              "      <div>\n",
              "<style scoped>\n",
              "    .dataframe tbody tr th:only-of-type {\n",
              "        vertical-align: middle;\n",
              "    }\n",
              "\n",
              "    .dataframe tbody tr th {\n",
              "        vertical-align: top;\n",
              "    }\n",
              "\n",
              "    .dataframe thead th {\n",
              "        text-align: right;\n",
              "    }\n",
              "</style>\n",
              "<table border=\"1\" class=\"dataframe\">\n",
              "  <thead>\n",
              "    <tr style=\"text-align: right;\">\n",
              "      <th></th>\n",
              "      <th>word</th>\n",
              "      <th>label</th>\n",
              "    </tr>\n",
              "  </thead>\n",
              "  <tbody>\n",
              "    <tr>\n",
              "      <th>0</th>\n",
              "      <td>Pierre</td>\n",
              "      <td>NNP</td>\n",
              "    </tr>\n",
              "    <tr>\n",
              "      <th>1</th>\n",
              "      <td>Vinken</td>\n",
              "      <td>NNP</td>\n",
              "    </tr>\n",
              "    <tr>\n",
              "      <th>2</th>\n",
              "      <td>,</td>\n",
              "      <td>,</td>\n",
              "    </tr>\n",
              "    <tr>\n",
              "      <th>3</th>\n",
              "      <td>61</td>\n",
              "      <td>CD</td>\n",
              "    </tr>\n",
              "    <tr>\n",
              "      <th>4</th>\n",
              "      <td>years</td>\n",
              "      <td>NNS</td>\n",
              "    </tr>\n",
              "    <tr>\n",
              "      <th>5</th>\n",
              "      <td>old</td>\n",
              "      <td>JJ</td>\n",
              "    </tr>\n",
              "    <tr>\n",
              "      <th>6</th>\n",
              "      <td>,</td>\n",
              "      <td>,</td>\n",
              "    </tr>\n",
              "    <tr>\n",
              "      <th>7</th>\n",
              "      <td>will</td>\n",
              "      <td>MD</td>\n",
              "    </tr>\n",
              "    <tr>\n",
              "      <th>8</th>\n",
              "      <td>join</td>\n",
              "      <td>VB</td>\n",
              "    </tr>\n",
              "    <tr>\n",
              "      <th>9</th>\n",
              "      <td>the</td>\n",
              "      <td>DT</td>\n",
              "    </tr>\n",
              "    <tr>\n",
              "      <th>10</th>\n",
              "      <td>board</td>\n",
              "      <td>NN</td>\n",
              "    </tr>\n",
              "    <tr>\n",
              "      <th>11</th>\n",
              "      <td>as</td>\n",
              "      <td>IN</td>\n",
              "    </tr>\n",
              "    <tr>\n",
              "      <th>12</th>\n",
              "      <td>a</td>\n",
              "      <td>DT</td>\n",
              "    </tr>\n",
              "    <tr>\n",
              "      <th>13</th>\n",
              "      <td>nonexecutive</td>\n",
              "      <td>JJ</td>\n",
              "    </tr>\n",
              "    <tr>\n",
              "      <th>14</th>\n",
              "      <td>director</td>\n",
              "      <td>NN</td>\n",
              "    </tr>\n",
              "    <tr>\n",
              "      <th>15</th>\n",
              "      <td>Nov.</td>\n",
              "      <td>NNP</td>\n",
              "    </tr>\n",
              "    <tr>\n",
              "      <th>16</th>\n",
              "      <td>29</td>\n",
              "      <td>CD</td>\n",
              "    </tr>\n",
              "    <tr>\n",
              "      <th>17</th>\n",
              "      <td>.</td>\n",
              "      <td>.</td>\n",
              "    </tr>\n",
              "    <tr>\n",
              "      <th>18</th>\n",
              "      <td>Mr.</td>\n",
              "      <td>NNP</td>\n",
              "    </tr>\n",
              "    <tr>\n",
              "      <th>19</th>\n",
              "      <td>Vinken</td>\n",
              "      <td>NNP</td>\n",
              "    </tr>\n",
              "  </tbody>\n",
              "</table>\n",
              "</div>\n",
              "      <button class=\"colab-df-convert\" onclick=\"convertToInteractive('df-ffc81af0-2a86-46de-a238-0551d465f8e3')\"\n",
              "              title=\"Convert this dataframe to an interactive table.\"\n",
              "              style=\"display:none;\">\n",
              "        \n",
              "  <svg xmlns=\"http://www.w3.org/2000/svg\" height=\"24px\"viewBox=\"0 0 24 24\"\n",
              "       width=\"24px\">\n",
              "    <path d=\"M0 0h24v24H0V0z\" fill=\"none\"/>\n",
              "    <path d=\"M18.56 5.44l.94 2.06.94-2.06 2.06-.94-2.06-.94-.94-2.06-.94 2.06-2.06.94zm-11 1L8.5 8.5l.94-2.06 2.06-.94-2.06-.94L8.5 2.5l-.94 2.06-2.06.94zm10 10l.94 2.06.94-2.06 2.06-.94-2.06-.94-.94-2.06-.94 2.06-2.06.94z\"/><path d=\"M17.41 7.96l-1.37-1.37c-.4-.4-.92-.59-1.43-.59-.52 0-1.04.2-1.43.59L10.3 9.45l-7.72 7.72c-.78.78-.78 2.05 0 2.83L4 21.41c.39.39.9.59 1.41.59.51 0 1.02-.2 1.41-.59l7.78-7.78 2.81-2.81c.8-.78.8-2.07 0-2.86zM5.41 20L4 18.59l7.72-7.72 1.47 1.35L5.41 20z\"/>\n",
              "  </svg>\n",
              "      </button>\n",
              "      \n",
              "  <style>\n",
              "    .colab-df-container {\n",
              "      display:flex;\n",
              "      flex-wrap:wrap;\n",
              "      gap: 12px;\n",
              "    }\n",
              "\n",
              "    .colab-df-convert {\n",
              "      background-color: #E8F0FE;\n",
              "      border: none;\n",
              "      border-radius: 50%;\n",
              "      cursor: pointer;\n",
              "      display: none;\n",
              "      fill: #1967D2;\n",
              "      height: 32px;\n",
              "      padding: 0 0 0 0;\n",
              "      width: 32px;\n",
              "    }\n",
              "\n",
              "    .colab-df-convert:hover {\n",
              "      background-color: #E2EBFA;\n",
              "      box-shadow: 0px 1px 2px rgba(60, 64, 67, 0.3), 0px 1px 3px 1px rgba(60, 64, 67, 0.15);\n",
              "      fill: #174EA6;\n",
              "    }\n",
              "\n",
              "    [theme=dark] .colab-df-convert {\n",
              "      background-color: #3B4455;\n",
              "      fill: #D2E3FC;\n",
              "    }\n",
              "\n",
              "    [theme=dark] .colab-df-convert:hover {\n",
              "      background-color: #434B5C;\n",
              "      box-shadow: 0px 1px 3px 1px rgba(0, 0, 0, 0.15);\n",
              "      filter: drop-shadow(0px 1px 2px rgba(0, 0, 0, 0.3));\n",
              "      fill: #FFFFFF;\n",
              "    }\n",
              "  </style>\n",
              "\n",
              "      <script>\n",
              "        const buttonEl =\n",
              "          document.querySelector('#df-ffc81af0-2a86-46de-a238-0551d465f8e3 button.colab-df-convert');\n",
              "        buttonEl.style.display =\n",
              "          google.colab.kernel.accessAllowed ? 'block' : 'none';\n",
              "\n",
              "        async function convertToInteractive(key) {\n",
              "          const element = document.querySelector('#df-ffc81af0-2a86-46de-a238-0551d465f8e3');\n",
              "          const dataTable =\n",
              "            await google.colab.kernel.invokeFunction('convertToInteractive',\n",
              "                                                     [key], {});\n",
              "          if (!dataTable) return;\n",
              "\n",
              "          const docLinkHtml = 'Like what you see? Visit the ' +\n",
              "            '<a target=\"_blank\" href=https://colab.research.google.com/notebooks/data_table.ipynb>data table notebook</a>'\n",
              "            + ' to learn more about interactive tables.';\n",
              "          element.innerHTML = '';\n",
              "          dataTable['output_type'] = 'display_data';\n",
              "          await google.colab.output.renderOutput(dataTable, element);\n",
              "          const docLink = document.createElement('div');\n",
              "          docLink.innerHTML = docLinkHtml;\n",
              "          element.appendChild(docLink);\n",
              "        }\n",
              "      </script>\n",
              "    </div>\n",
              "  </div>\n",
              "  "
            ]
          },
          "metadata": {},
          "execution_count": 8
        }
      ],
      "source": [
        "full_dataset.head(20)"
      ]
    },
    {
      "cell_type": "markdown",
      "metadata": {
        "id": "ZjqrPfy4i8CB"
      },
      "source": [
        "Each document contains a different tokenized article:"
      ]
    },
    {
      "cell_type": "code",
      "execution_count": 9,
      "metadata": {
        "colab": {
          "base_uri": "https://localhost:8080/",
          "height": 35
        },
        "id": "EE9Qv0tUi8CB",
        "outputId": "8ad64c7f-35f8-4414-994c-3f5885a0c3f9"
      },
      "outputs": [
        {
          "output_type": "execute_result",
          "data": {
            "text/plain": [
              "'Pierre Vinken , 61 years old , will join the board as a nonexecutive director Nov. 29 . Mr. Vinken is chairman of Elsevier N.V. , the Dutch publishing group .'"
            ],
            "application/vnd.google.colaboratory.intrinsic+json": {
              "type": "string"
            }
          },
          "metadata": {},
          "execution_count": 9
        }
      ],
      "source": [
        "sample_article = loadCorpus(1)\n",
        "\" \".join(sample_article[\"word\"])"
      ]
    },
    {
      "cell_type": "code",
      "execution_count": 10,
      "metadata": {
        "colab": {
          "base_uri": "https://localhost:8080/",
          "height": 35
        },
        "id": "sDIadSSJi8CB",
        "outputId": "e51d6928-d01a-46ae-e109-634458f84ca3"
      },
      "outputs": [
        {
          "output_type": "execute_result",
          "data": {
            "text/plain": [
              "'Rudolph Agnew , 55 years old and former chairman of Consolidated Gold Fields PLC , was named a nonexecutive director of this British industrial conglomerate .'"
            ],
            "application/vnd.google.colaboratory.intrinsic+json": {
              "type": "string"
            }
          },
          "metadata": {},
          "execution_count": 10
        }
      ],
      "source": [
        "\" \".join(loadCorpus(2)[\"word\"])"
      ]
    },
    {
      "cell_type": "code",
      "execution_count": 11,
      "metadata": {
        "colab": {
          "base_uri": "https://localhost:8080/",
          "height": 336
        },
        "id": "dcAVyveni8CC",
        "outputId": "d86d47f0-e812-4724-84d2-c0af009a5efb"
      },
      "outputs": [
        {
          "output_type": "display_data",
          "data": {
            "text/plain": [
              "<Figure size 1080x360 with 1 Axes>"
            ],
            "image/png": "[encoded data removed]"
          },
          "metadata": {
            "needs_background": "light"
          }
        }
      ],
      "source": [
        "fig=plt.figure(figsize=(15,5))\n",
        "p = plt.hist(full_dataset[\"label\"])\n",
        "plt.xticks(rotation=45)\n",
        "fig.savefig('./report/classes_with_punctuation.png')\n",
        "fig.show()"
      ]
    },
    {
      "cell_type": "markdown",
      "metadata": {
        "id": "UCDElN10a2tF"
      },
      "source": [
        "A full list of classes can be found at https://www.ling.upenn.edu/courses/Fall_2003/ling001/penn_treebank_pos.html"
      ]
    },
    {
      "cell_type": "code",
      "execution_count": 12,
      "metadata": {
        "colab": {
          "base_uri": "https://localhost:8080/",
          "height": 306
        },
        "id": "K9XyBPIQi8CC",
        "outputId": "369c0f46-f7ba-476b-c6cd-b3e90fbca85b"
      },
      "outputs": [
        {
          "output_type": "display_data",
          "data": {
            "text/plain": [
              "<Figure size 1080x360 with 1 Axes>"
            ],
            "image/png": "[encoded data removed]"
          },
          "metadata": {
            "needs_background": "light"
          }
        }
      ],
      "source": [
        "fig=plt.figure(figsize=(15,5))\n",
        "p = plt.plot(full_dataset[\"word\"].value_counts())\n",
        "plt.xticks([])\n",
        "plt.show()"
      ]
    },
    {
      "cell_type": "markdown",
      "metadata": {
        "id": "MzyI2Wufi8CD"
      },
      "source": [
        "## Data splitting\n",
        "\n",
        "\n",
        "\n"
      ]
    },
    {
      "cell_type": "markdown",
      "metadata": {
        "id": "Nep1haoQkIO0"
      },
      "source": [
        "Creation of train, validation and test sets."
      ]
    },
    {
      "cell_type": "code",
      "execution_count": 13,
      "metadata": {
        "colab": {
          "base_uri": "https://localhost:8080/"
        },
        "id": "kOG5wns9X011",
        "outputId": "0a751f8d-6ce2-4276-bed7-1c5a2935fb1a"
      },
      "outputs": [
        {
          "output_type": "execute_result",
          "data": {
            "text/plain": [
              "word     47356\n",
              "label    47356\n",
              "dtype: int64"
            ]
          },
          "metadata": {},
          "execution_count": 13
        }
      ],
      "source": [
        "df_train = loadCorpus(1,101) \n",
        "df_val = loadCorpus(101,151)\n",
        "df_test = loadCorpus(151,200)\n",
        "\n",
        "df_train.count()"
      ]
    },
    {
      "cell_type": "code",
      "execution_count": 14,
      "metadata": {
        "colab": {
          "base_uri": "https://localhost:8080/"
        },
        "id": "Th6dXqh94849",
        "outputId": "f21846b5-6736-4508-958e-d57023058cfd"
      },
      "outputs": [
        {
          "output_type": "execute_result",
          "data": {
            "text/plain": [
              "word     31183\n",
              "label    31183\n",
              "dtype: int64"
            ]
          },
          "metadata": {},
          "execution_count": 14
        }
      ],
      "source": [
        "df_val.count()"
      ]
    },
    {
      "cell_type": "code",
      "execution_count": 15,
      "metadata": {
        "colab": {
          "base_uri": "https://localhost:8080/"
        },
        "id": "Hj_BdDsA4849",
        "outputId": "009728fa-b2e2-4f5a-9edc-1239a53d3c1e"
      },
      "outputs": [
        {
          "output_type": "execute_result",
          "data": {
            "text/plain": [
              "word     15545\n",
              "label    15545\n",
              "dtype: int64"
            ]
          },
          "metadata": {},
          "execution_count": 15
        }
      ],
      "source": [
        "df_test.count()"
      ]
    },
    {
      "cell_type": "markdown",
      "metadata": {
        "id": "XJrGcYbJ4849"
      },
      "source": [
        "## Data pre-processing"
      ]
    },
    {
      "cell_type": "markdown",
      "metadata": {
        "id": "vjPNQ9ilk7X_"
      },
      "source": [
        "Clean the data."
      ]
    },
    {
      "cell_type": "code",
      "execution_count": 16,
      "metadata": {
        "id": "4T_aIaLxk4Xp"
      },
      "outputs": [],
      "source": [
        "def cleanCorpus(corpus):\n",
        "    # Lower every word    \n",
        "    corpus['word'] = corpus['word'].str.lower()\n",
        "    return corpus"
      ]
    },
    {
      "cell_type": "code",
      "execution_count": 17,
      "metadata": {
        "colab": {
          "base_uri": "https://localhost:8080/",
          "height": 336
        },
        "id": "DzhR6r5HOw5x",
        "outputId": "1d1a9045-9f30-44d7-ee49-22cb3bda7a30"
      },
      "outputs": [
        {
          "output_type": "display_data",
          "data": {
            "text/plain": [
              "<Figure size 1080x360 with 1 Axes>"
            ],
            "image/png": "[encoded data removed]"
          },
          "metadata": {
            "needs_background": "light"
          }
        }
      ],
      "source": [
        "fig=plt.figure(figsize=(15,5))\n",
        "p = plt.hist(cleanCorpus(full_dataset)[\"label\"])\n",
        "plt.xticks(rotation=45)\n",
        "plt.show()"
      ]
    },
    {
      "cell_type": "code",
      "execution_count": 18,
      "metadata": {
        "colab": {
          "base_uri": "https://localhost:8080/"
        },
        "id": "lV6x05Lu26ym",
        "outputId": "df0e2118-0aa4-428a-f021-b92a7f1a44ee"
      },
      "outputs": [
        {
          "output_type": "execute_result",
          "data": {
            "text/plain": [
              "word     47356\n",
              "label    47356\n",
              "dtype: int64"
            ]
          },
          "metadata": {},
          "execution_count": 18
        }
      ],
      "source": [
        "#cleaned dataframes\n",
        "dfc_train = cleanCorpus(df_train)\n",
        "dfc_val = cleanCorpus(df_val)\n",
        "dfc_test = cleanCorpus(df_test)\n",
        "dfc_sample = cleanCorpus(sample_article)\n",
        "\n",
        "dfc_train.count()"
      ]
    },
    {
      "cell_type": "code",
      "execution_count": 19,
      "metadata": {
        "colab": {
          "base_uri": "https://localhost:8080/"
        },
        "id": "6Y4lYHXy484-",
        "outputId": "ee5bd719-d2b9-4fbb-c063-24d0b4170025"
      },
      "outputs": [
        {
          "output_type": "execute_result",
          "data": {
            "text/plain": [
              "word     31183\n",
              "label    31183\n",
              "dtype: int64"
            ]
          },
          "metadata": {},
          "execution_count": 19
        }
      ],
      "source": [
        "dfc_val.count()"
      ]
    },
    {
      "cell_type": "code",
      "execution_count": 20,
      "metadata": {
        "colab": {
          "base_uri": "https://localhost:8080/"
        },
        "id": "JfjU5ZVo484-",
        "outputId": "83effef4-08ef-44f4-ae02-99b592d2a33b"
      },
      "outputs": [
        {
          "output_type": "execute_result",
          "data": {
            "text/plain": [
              "word     15545\n",
              "label    15545\n",
              "dtype: int64"
            ]
          },
          "metadata": {},
          "execution_count": 20
        }
      ],
      "source": [
        "dfc_test.count()"
      ]
    },
    {
      "cell_type": "code",
      "execution_count": 21,
      "metadata": {
        "colab": {
          "base_uri": "https://localhost:8080/",
          "height": 677
        },
        "id": "R4fHZaScmPoU",
        "outputId": "01a2cc6d-31ee-4241-f02f-b669899ed539"
      },
      "outputs": [
        {
          "output_type": "execute_result",
          "data": {
            "text/plain": [
              "            word label\n",
              "0         pierre   NNP\n",
              "1         vinken   NNP\n",
              "2              ,     ,\n",
              "3             61    CD\n",
              "4          years   NNS\n",
              "5            old    JJ\n",
              "6              ,     ,\n",
              "7           will    MD\n",
              "8           join    VB\n",
              "9            the    DT\n",
              "10         board    NN\n",
              "11            as    IN\n",
              "12             a    DT\n",
              "13  nonexecutive    JJ\n",
              "14      director    NN\n",
              "15          nov.   NNP\n",
              "16            29    CD\n",
              "17             .     .\n",
              "18           mr.   NNP\n",
              "19        vinken   NNP"
            ],
            "text/html": [
              "\n",
              "  <div id=\"df-16d61944-d18e-4853-b240-ee166e1362d2\">\n",
              "    <div class=\"colab-df-container\">\n",
              "      <div>\n",
              "<style scoped>\n",
              "    .dataframe tbody tr th:only-of-type {\n",
              "        vertical-align: middle;\n",
              "    }\n",
              "\n",
              "    .dataframe tbody tr th {\n",
              "        vertical-align: top;\n",
              "    }\n",
              "\n",
              "    .dataframe thead th {\n",
              "        text-align: right;\n",
              "    }\n",
              "</style>\n",
              "<table border=\"1\" class=\"dataframe\">\n",
              "  <thead>\n",
              "    <tr style=\"text-align: right;\">\n",
              "      <th></th>\n",
              "      <th>word</th>\n",
              "      <th>label</th>\n",
              "    </tr>\n",
              "  </thead>\n",
              "  <tbody>\n",
              "    <tr>\n",
              "      <th>0</th>\n",
              "      <td>pierre</td>\n",
              "      <td>NNP</td>\n",
              "    </tr>\n",
              "    <tr>\n",
              "      <th>1</th>\n",
              "      <td>vinken</td>\n",
              "      <td>NNP</td>\n",
              "    </tr>\n",
              "    <tr>\n",
              "      <th>2</th>\n",
              "      <td>,</td>\n",
              "      <td>,</td>\n",
              "    </tr>\n",
              "    <tr>\n",
              "      <th>3</th>\n",
              "      <td>61</td>\n",
              "      <td>CD</td>\n",
              "    </tr>\n",
              "    <tr>\n",
              "      <th>4</th>\n",
              "      <td>years</td>\n",
              "      <td>NNS</td>\n",
              "    </tr>\n",
              "    <tr>\n",
              "      <th>5</th>\n",
              "      <td>old</td>\n",
              "      <td>JJ</td>\n",
              "    </tr>\n",
              "    <tr>\n",
              "      <th>6</th>\n",
              "      <td>,</td>\n",
              "      <td>,</td>\n",
              "    </tr>\n",
              "    <tr>\n",
              "      <th>7</th>\n",
              "      <td>will</td>\n",
              "      <td>MD</td>\n",
              "    </tr>\n",
              "    <tr>\n",
              "      <th>8</th>\n",
              "      <td>join</td>\n",
              "      <td>VB</td>\n",
              "    </tr>\n",
              "    <tr>\n",
              "      <th>9</th>\n",
              "      <td>the</td>\n",
              "      <td>DT</td>\n",
              "    </tr>\n",
              "    <tr>\n",
              "      <th>10</th>\n",
              "      <td>board</td>\n",
              "      <td>NN</td>\n",
              "    </tr>\n",
              "    <tr>\n",
              "      <th>11</th>\n",
              "      <td>as</td>\n",
              "      <td>IN</td>\n",
              "    </tr>\n",
              "    <tr>\n",
              "      <th>12</th>\n",
              "      <td>a</td>\n",
              "      <td>DT</td>\n",
              "    </tr>\n",
              "    <tr>\n",
              "      <th>13</th>\n",
              "      <td>nonexecutive</td>\n",
              "      <td>JJ</td>\n",
              "    </tr>\n",
              "    <tr>\n",
              "      <th>14</th>\n",
              "      <td>director</td>\n",
              "      <td>NN</td>\n",
              "    </tr>\n",
              "    <tr>\n",
              "      <th>15</th>\n",
              "      <td>nov.</td>\n",
              "      <td>NNP</td>\n",
              "    </tr>\n",
              "    <tr>\n",
              "      <th>16</th>\n",
              "      <td>29</td>\n",
              "      <td>CD</td>\n",
              "    </tr>\n",
              "    <tr>\n",
              "      <th>17</th>\n",
              "      <td>.</td>\n",
              "      <td>.</td>\n",
              "    </tr>\n",
              "    <tr>\n",
              "      <th>18</th>\n",
              "      <td>mr.</td>\n",
              "      <td>NNP</td>\n",
              "    </tr>\n",
              "    <tr>\n",
              "      <th>19</th>\n",
              "      <td>vinken</td>\n",
              "      <td>NNP</td>\n",
              "    </tr>\n",
              "  </tbody>\n",
              "</table>\n",
              "</div>\n",
              "      <button class=\"colab-df-convert\" onclick=\"convertToInteractive('df-16d61944-d18e-4853-b240-ee166e1362d2')\"\n",
              "              title=\"Convert this dataframe to an interactive table.\"\n",
              "              style=\"display:none;\">\n",
              "        \n",
              "  <svg xmlns=\"http://www.w3.org/2000/svg\" height=\"24px\"viewBox=\"0 0 24 24\"\n",
              "       width=\"24px\">\n",
              "    <path d=\"M0 0h24v24H0V0z\" fill=\"none\"/>\n",
              "    <path d=\"M18.56 5.44l.94 2.06.94-2.06 2.06-.94-2.06-.94-.94-2.06-.94 2.06-2.06.94zm-11 1L8.5 8.5l.94-2.06 2.06-.94-2.06-.94L8.5 2.5l-.94 2.06-2.06.94zm10 10l.94 2.06.94-2.06 2.06-.94-2.06-.94-.94-2.06-.94 2.06-2.06.94z\"/><path d=\"M17.41 7.96l-1.37-1.37c-.4-.4-.92-.59-1.43-.59-.52 0-1.04.2-1.43.59L10.3 9.45l-7.72 7.72c-.78.78-.78 2.05 0 2.83L4 21.41c.39.39.9.59 1.41.59.51 0 1.02-.2 1.41-.59l7.78-7.78 2.81-2.81c.8-.78.8-2.07 0-2.86zM5.41 20L4 18.59l7.72-7.72 1.47 1.35L5.41 20z\"/>\n",
              "  </svg>\n",
              "      </button>\n",
              "      \n",
              "  <style>\n",
              "    .colab-df-container {\n",
              "      display:flex;\n",
              "      flex-wrap:wrap;\n",
              "      gap: 12px;\n",
              "    }\n",
              "\n",
              "    .colab-df-convert {\n",
              "      background-color: #E8F0FE;\n",
              "      border: none;\n",
              "      border-radius: 50%;\n",
              "      cursor: pointer;\n",
              "      display: none;\n",
              "      fill: #1967D2;\n",
              "      height: 32px;\n",
              "      padding: 0 0 0 0;\n",
              "      width: 32px;\n",
              "    }\n",
              "\n",
              "    .colab-df-convert:hover {\n",
              "      background-color: #E2EBFA;\n",
              "      box-shadow: 0px 1px 2px rgba(60, 64, 67, 0.3), 0px 1px 3px 1px rgba(60, 64, 67, 0.15);\n",
              "      fill: #174EA6;\n",
              "    }\n",
              "\n",
              "    [theme=dark] .colab-df-convert {\n",
              "      background-color: #3B4455;\n",
              "      fill: #D2E3FC;\n",
              "    }\n",
              "\n",
              "    [theme=dark] .colab-df-convert:hover {\n",
              "      background-color: #434B5C;\n",
              "      box-shadow: 0px 1px 3px 1px rgba(0, 0, 0, 0.15);\n",
              "      filter: drop-shadow(0px 1px 2px rgba(0, 0, 0, 0.3));\n",
              "      fill: #FFFFFF;\n",
              "    }\n",
              "  </style>\n",
              "\n",
              "      <script>\n",
              "        const buttonEl =\n",
              "          document.querySelector('#df-16d61944-d18e-4853-b240-ee166e1362d2 button.colab-df-convert');\n",
              "        buttonEl.style.display =\n",
              "          google.colab.kernel.accessAllowed ? 'block' : 'none';\n",
              "\n",
              "        async function convertToInteractive(key) {\n",
              "          const element = document.querySelector('#df-16d61944-d18e-4853-b240-ee166e1362d2');\n",
              "          const dataTable =\n",
              "            await google.colab.kernel.invokeFunction('convertToInteractive',\n",
              "                                                     [key], {});\n",
              "          if (!dataTable) return;\n",
              "\n",
              "          const docLinkHtml = 'Like what you see? Visit the ' +\n",
              "            '<a target=\"_blank\" href=https://colab.research.google.com/notebooks/data_table.ipynb>data table notebook</a>'\n",
              "            + ' to learn more about interactive tables.';\n",
              "          element.innerHTML = '';\n",
              "          dataTable['output_type'] = 'display_data';\n",
              "          await google.colab.output.renderOutput(dataTable, element);\n",
              "          const docLink = document.createElement('div');\n",
              "          docLink.innerHTML = docLinkHtml;\n",
              "          element.appendChild(docLink);\n",
              "        }\n",
              "      </script>\n",
              "    </div>\n",
              "  </div>\n",
              "  "
            ]
          },
          "metadata": {},
          "execution_count": 21
        }
      ],
      "source": [
        "dfc_train.head(20)"
      ]
    },
    {
      "cell_type": "markdown",
      "metadata": {
        "id": "6VsU_XpAi8CF"
      },
      "source": [
        "## Word embedding"
      ]
    },
    {
      "cell_type": "markdown",
      "metadata": {
        "id": "4Bep7HYL484_"
      },
      "source": [
        "### Loading GloVe"
      ]
    },
    {
      "cell_type": "markdown",
      "metadata": {
        "id": "92d15Xzr4qAn"
      },
      "source": [
        "\n",
        "Loading pre-trained dense word embedding representation: GloVe.\n",
        "\n",
        "\n",
        "\n",
        "\n"
      ]
    },
    {
      "cell_type": "code",
      "execution_count": 22,
      "metadata": {
        "id": "UZBrvzL8t6_U"
      },
      "outputs": [],
      "source": [
        "import gensim\n",
        "import gensim.downloader as gloader\n",
        "\n",
        "def load_embedding_model(model_type: str,\n",
        "                         embedding_dimension: int = 50) -> gensim.models.keyedvectors.KeyedVectors:\n",
        "    \"\"\"\n",
        "    Loads a pre-trained word embedding model via gensim library.\n",
        "\n",
        "    :param model_type: name of the word embedding model to load.\n",
        "    :param embedding_dimension: size of the embedding space to consider\n",
        "\n",
        "    :return\n",
        "        - pre-trained word embedding model (gensim KeyedVectors object)\n",
        "    \"\"\"\n",
        "    download_path = \"\"\n",
        "    if model_type.strip().lower() == 'word2vec':\n",
        "        download_path = \"word2vec-google-news-300\"\n",
        "\n",
        "    elif model_type.strip().lower() == 'glove':\n",
        "        download_path = \"glove-wiki-gigaword-{}\".format(embedding_dimension)\n",
        "    elif model_type.strip().lower() == 'fasttext':\n",
        "        download_path = \"fasttext-wiki-news-subwords-300\"\n",
        "    else:\n",
        "        raise AttributeError(\"Unsupported embedding model type! Available ones: word2vec, glove, fasttext\")\n",
        "        \n",
        "    try:\n",
        "        emb_model = gloader.load(download_path)\n",
        "    except ValueError as e:\n",
        "        print(\"Invalid embedding model name! Check the embedding dimension:\")\n",
        "        print(\"Word2Vec: 300\")\n",
        "        print(\"Glove: 50, 100, 200, 300\")\n",
        "        print('FastText: 300')\n",
        "        raise e\n",
        "\n",
        "    return emb_model"
      ]
    },
    {
      "cell_type": "code",
      "execution_count": 23,
      "metadata": {
        "colab": {
          "base_uri": "https://localhost:8080/"
        },
        "id": "2hPJ_neS5Vxd",
        "outputId": "6dca4a8a-2e04-4e24-a634-14ea80690a95"
      },
      "outputs": [
        {
          "output_type": "stream",
          "name": "stdout",
          "text": [
            "[==================================================] 100.0% 252.1/252.1MB downloaded\n"
          ]
        }
      ],
      "source": [
        "# Glove -> 50, 100, 200, 300 (200 seems the better)\n",
        "embedding_dimension = 200\n",
        "embedding_model = load_embedding_model(model_type=\"glove\", embedding_dimension= embedding_dimension)"
      ]
    },
    {
      "cell_type": "markdown",
      "metadata": {
        "id": "jU0rgZ0I484_"
      },
      "source": [
        "### Analyzing OOV statistics"
      ]
    },
    {
      "cell_type": "code",
      "execution_count": 24,
      "metadata": {
        "colab": {
          "base_uri": "https://localhost:8080/"
        },
        "id": "S76fxrkJ484_",
        "outputId": "9b951648-27a5-4d13-968f-1b112facab08"
      },
      "outputs": [
        {
          "output_type": "execute_result",
          "data": {
            "text/plain": [
              "['the', ',', '.', 'of', 'to', 'and', 'in', 'a', '\"', \"'s\"]"
            ]
          },
          "metadata": {},
          "execution_count": 24
        }
      ],
      "source": [
        "embedding_model.index_to_key[0:10]"
      ]
    },
    {
      "cell_type": "code",
      "execution_count": 25,
      "metadata": {
        "colab": {
          "base_uri": "https://localhost:8080/"
        },
        "id": "CdGVCkXI485A",
        "outputId": "1824fc8c-5934-435e-e6ac-44b5dab21816"
      },
      "outputs": [
        {
          "output_type": "stream",
          "name": "stdout",
          "text": [
            "oov_train_size: 359\n",
            "oov_val_size: 213\n",
            "oov_test_size: 161\n"
          ]
        }
      ],
      "source": [
        "oov_train = list(set([word for word in dfc_train.word.values if word not in embedding_model.index_to_key]))\n",
        "oov_val = list(set([word for word in dfc_val.word.values if word not in embedding_model.index_to_key]))\n",
        "oov_test = list(set([word for word in dfc_test.word.values if word not in embedding_model.index_to_key]))\n",
        "print(f'oov_train_size: {len(oov_train)}')\n",
        "print(f'oov_val_size: {len(oov_val)}')\n",
        "print(f'oov_test_size: {len(oov_test)}')"
      ]
    },
    {
      "cell_type": "code",
      "execution_count": 26,
      "metadata": {
        "colab": {
          "base_uri": "https://localhost:8080/"
        },
        "id": "_FCfRir-485A",
        "outputId": "7b8e8b3e-97ae-46ff-c0be-431eb148b7c5"
      },
      "outputs": [
        {
          "output_type": "execute_result",
          "data": {
            "text/plain": [
              "['jalaalwalikraam',\n",
              " 'bellringers',\n",
              " 'rate-sensitive',\n",
              " 'greenmailer',\n",
              " 'chemplus',\n",
              " 'rubinfien',\n",
              " 'pre-1917',\n",
              " '143.80',\n",
              " 'video-viewing',\n",
              " 'trettien']"
            ]
          },
          "metadata": {},
          "execution_count": 26
        }
      ],
      "source": [
        "oov_train[0:10]"
      ]
    },
    {
      "cell_type": "markdown",
      "metadata": {
        "id": "d3NWFTMjmg78"
      },
      "source": [
        "### GloVe Embedding"
      ]
    },
    {
      "cell_type": "markdown",
      "metadata": {
        "id": "vMrf7Fro485A"
      },
      "source": [
        "#### Prepare the embedding matrix"
      ]
    },
    {
      "cell_type": "code",
      "execution_count": 27,
      "metadata": {
        "id": "O5GdVec3XGTn"
      },
      "outputs": [],
      "source": [
        "def handle_OOV(vectors, vocabulary, embedding_dimension, oov_set):\n",
        "  #deal with oov words by adding a random embedding vector to the embedding matrix\n",
        "  for idx in range(0, len(oov_set)):\n",
        "    if oov_set[idx] not in vocabulary:\n",
        "      vocabulary.append(oov_set[idx])\n",
        "      #use random embedding for OOV word\n",
        "      embedding_vector = np.random.uniform(low=-0.05, high=0.05, size= embedding_dimension)\n",
        "      vectors.append(embedding_vector)\n",
        "  return vocabulary, vectors"
      ]
    },
    {
      "cell_type": "code",
      "execution_count": 28,
      "metadata": {
        "colab": {
          "base_uri": "https://localhost:8080/"
        },
        "id": "IlTNKSH5MLQ_",
        "outputId": "f45a6a30-c243-45e4-8997-d783b2e3cb57"
      },
      "outputs": [
        {
          "output_type": "stream",
          "name": "stdout",
          "text": [
            "Embedding matrix shape: (400677, 200)\n"
          ]
        }
      ],
      "source": [
        "#GloVe vocabulary\n",
        "words = list(embedding_model.index_to_key)\n",
        "#extracting the GloVe embedding vectors\n",
        "vectors = [embedding_model[word] for word in words]\n",
        "#add an embbedding vector of zeros at the index 0\n",
        "em0 =np.array([0.0]*embedding_dimension)\n",
        "vectors.insert(0, em0)\n",
        "\n",
        "#handle with train oov words\n",
        "vocab, vectors = handle_OOV(vectors, words, embedding_dimension, oov_train)\n",
        "#handle with validation oov words\n",
        "vocab, vectors = handle_OOV(vectors, vocab, embedding_dimension, oov_val)\n",
        "#handle with test oov words\n",
        "vocab, vectors = handle_OOV(vectors, vocab, embedding_dimension, oov_test)\n",
        "\n",
        "embedding_matrix = np.asarray(vectors)\n",
        "print(f'Embedding matrix shape: {np.shape(embedding_matrix)}')\n"
      ]
    },
    {
      "cell_type": "markdown",
      "metadata": {
        "id": "9Htl90Gw485B"
      },
      "source": [
        "Define the tokenizer."
      ]
    },
    {
      "cell_type": "code",
      "execution_count": 29,
      "metadata": {
        "colab": {
          "base_uri": "https://localhost:8080/"
        },
        "id": "coeo_iy1gJSu",
        "outputId": "82ffc9fe-1754-41cd-d395-ac82587c8891"
      },
      "outputs": [
        {
          "output_type": "stream",
          "name": "stdout",
          "text": [
            "Number of unique words in dictionary= 400676\n",
            "Dictionary head:  {'the': 1, ',': 2, '.': 3, 'of': 4, 'to': 5, 'and': 6, 'in': 7, 'a': 8, '\"': 9, \"'s\": 10, 'for': 11, '-': 12, 'that': 13, 'on': 14, 'is': 15, 'was': 16, 'said': 17, 'with': 18, 'he': 19, 'as': 20, 'it': 21, 'by': 22, 'at': 23, '(': 24, ')': 25, 'from': 26, 'his': 27, \"''\": 28, '``': 29, 'an': 30, 'be': 31, 'has': 32, 'are': 33, 'have': 34, 'but': 35, 'were': 36, 'not': 37, 'this': 38, 'who': 39, 'they': 40, 'had': 41, 'i': 42, 'which': 43, 'will': 44, 'their': 45, ':': 46, 'or': 47, 'its': 48, 'one': 49, 'after': 50}\n"
          ]
        }
      ],
      "source": [
        "from tensorflow.keras.preprocessing.text import Tokenizer\n",
        "\n",
        "# define the tokenizer, removing the default filters: '!\"#$%&()*+,-./:;<=>?@[\\\\]^_`{|}~\\t\\n' \n",
        "tokenizer = Tokenizer(filters='')\n",
        "#fit the tokenizer on the vocabulary of GloVe, including also the OOV words \n",
        "tokenizer.fit_on_texts(vocab)\n",
        "\n",
        "# number of unique words in dict.\n",
        "print(\"Number of unique words in dictionary=\", len(tokenizer.word_index))\n",
        "print(\"Dictionary head: \", dict(list(tokenizer.word_index.items())[0:50]))"
      ]
    },
    {
      "cell_type": "code",
      "execution_count": 30,
      "metadata": {
        "id": "HoHKd6mLOw52"
      },
      "outputs": [],
      "source": [
        "with open('./Dataset/word_index.json','w') as word_index_file:\n",
        "    word_index_file.write(tokenizer.to_json())"
      ]
    },
    {
      "cell_type": "markdown",
      "metadata": {
        "id": "ojCSzxS1485B"
      },
      "source": [
        "#### Encode the dataset"
      ]
    },
    {
      "cell_type": "markdown",
      "metadata": {
        "id": "BLiAw26WqhqF"
      },
      "source": [
        "Here we define a label encoder for the target class."
      ]
    },
    {
      "cell_type": "code",
      "execution_count": 31,
      "metadata": {
        "id": "54XQt_rz6fgv"
      },
      "outputs": [],
      "source": [
        "from sklearn.preprocessing import LabelEncoder, OneHotEncoder\n",
        "\n",
        "le = LabelEncoder()\n",
        "dfc_train['encoded_label'] = le.fit_transform(dfc_train['label'])\n",
        "dfc_val['encoded_label'] = le.transform(dfc_val['label'])\n",
        "dfc_test['encoded_label'] = le.transform(dfc_test['label'])\n",
        "dfc_sample['encoded_label'] = le.transform(dfc_sample['label'])"
      ]
    },
    {
      "cell_type": "code",
      "execution_count": 32,
      "metadata": {
        "colab": {
          "base_uri": "https://localhost:8080/",
          "height": 206
        },
        "id": "wPUJhubiPn5k",
        "outputId": "4b103cda-e74b-4c2a-afd4-db15d78dd4e0"
      },
      "outputs": [
        {
          "output_type": "execute_result",
          "data": {
            "text/plain": [
              "  label  encoded_label\n",
              "0   NNP             20\n",
              "1     ,              3\n",
              "2    CD              9\n",
              "3   NNS             22\n",
              "4    JJ             14"
            ],
            "text/html": [
              "\n",
              "  <div id=\"df-5f0a49af-080a-4e00-895d-650bbec2231e\">\n",
              "    <div class=\"colab-df-container\">\n",
              "      <div>\n",
              "<style scoped>\n",
              "    .dataframe tbody tr th:only-of-type {\n",
              "        vertical-align: middle;\n",
              "    }\n",
              "\n",
              "    .dataframe tbody tr th {\n",
              "        vertical-align: top;\n",
              "    }\n",
              "\n",
              "    .dataframe thead th {\n",
              "        text-align: right;\n",
              "    }\n",
              "</style>\n",
              "<table border=\"1\" class=\"dataframe\">\n",
              "  <thead>\n",
              "    <tr style=\"text-align: right;\">\n",
              "      <th></th>\n",
              "      <th>label</th>\n",
              "      <th>encoded_label</th>\n",
              "    </tr>\n",
              "  </thead>\n",
              "  <tbody>\n",
              "    <tr>\n",
              "      <th>0</th>\n",
              "      <td>NNP</td>\n",
              "      <td>20</td>\n",
              "    </tr>\n",
              "    <tr>\n",
              "      <th>1</th>\n",
              "      <td>,</td>\n",
              "      <td>3</td>\n",
              "    </tr>\n",
              "    <tr>\n",
              "      <th>2</th>\n",
              "      <td>CD</td>\n",
              "      <td>9</td>\n",
              "    </tr>\n",
              "    <tr>\n",
              "      <th>3</th>\n",
              "      <td>NNS</td>\n",
              "      <td>22</td>\n",
              "    </tr>\n",
              "    <tr>\n",
              "      <th>4</th>\n",
              "      <td>JJ</td>\n",
              "      <td>14</td>\n",
              "    </tr>\n",
              "  </tbody>\n",
              "</table>\n",
              "</div>\n",
              "      <button class=\"colab-df-convert\" onclick=\"convertToInteractive('df-5f0a49af-080a-4e00-895d-650bbec2231e')\"\n",
              "              title=\"Convert this dataframe to an interactive table.\"\n",
              "              style=\"display:none;\">\n",
              "        \n",
              "  <svg xmlns=\"http://www.w3.org/2000/svg\" height=\"24px\"viewBox=\"0 0 24 24\"\n",
              "       width=\"24px\">\n",
              "    <path d=\"M0 0h24v24H0V0z\" fill=\"none\"/>\n",
              "    <path d=\"M18.56 5.44l.94 2.06.94-2.06 2.06-.94-2.06-.94-.94-2.06-.94 2.06-2.06.94zm-11 1L8.5 8.5l.94-2.06 2.06-.94-2.06-.94L8.5 2.5l-.94 2.06-2.06.94zm10 10l.94 2.06.94-2.06 2.06-.94-2.06-.94-.94-2.06-.94 2.06-2.06.94z\"/><path d=\"M17.41 7.96l-1.37-1.37c-.4-.4-.92-.59-1.43-.59-.52 0-1.04.2-1.43.59L10.3 9.45l-7.72 7.72c-.78.78-.78 2.05 0 2.83L4 21.41c.39.39.9.59 1.41.59.51 0 1.02-.2 1.41-.59l7.78-7.78 2.81-2.81c.8-.78.8-2.07 0-2.86zM5.41 20L4 18.59l7.72-7.72 1.47 1.35L5.41 20z\"/>\n",
              "  </svg>\n",
              "      </button>\n",
              "      \n",
              "  <style>\n",
              "    .colab-df-container {\n",
              "      display:flex;\n",
              "      flex-wrap:wrap;\n",
              "      gap: 12px;\n",
              "    }\n",
              "\n",
              "    .colab-df-convert {\n",
              "      background-color: #E8F0FE;\n",
              "      border: none;\n",
              "      border-radius: 50%;\n",
              "      cursor: pointer;\n",
              "      display: none;\n",
              "      fill: #1967D2;\n",
              "      height: 32px;\n",
              "      padding: 0 0 0 0;\n",
              "      width: 32px;\n",
              "    }\n",
              "\n",
              "    .colab-df-convert:hover {\n",
              "      background-color: #E2EBFA;\n",
              "      box-shadow: 0px 1px 2px rgba(60, 64, 67, 0.3), 0px 1px 3px 1px rgba(60, 64, 67, 0.15);\n",
              "      fill: #174EA6;\n",
              "    }\n",
              "\n",
              "    [theme=dark] .colab-df-convert {\n",
              "      background-color: #3B4455;\n",
              "      fill: #D2E3FC;\n",
              "    }\n",
              "\n",
              "    [theme=dark] .colab-df-convert:hover {\n",
              "      background-color: #434B5C;\n",
              "      box-shadow: 0px 1px 3px 1px rgba(0, 0, 0, 0.15);\n",
              "      filter: drop-shadow(0px 1px 2px rgba(0, 0, 0, 0.3));\n",
              "      fill: #FFFFFF;\n",
              "    }\n",
              "  </style>\n",
              "\n",
              "      <script>\n",
              "        const buttonEl =\n",
              "          document.querySelector('#df-5f0a49af-080a-4e00-895d-650bbec2231e button.colab-df-convert');\n",
              "        buttonEl.style.display =\n",
              "          google.colab.kernel.accessAllowed ? 'block' : 'none';\n",
              "\n",
              "        async function convertToInteractive(key) {\n",
              "          const element = document.querySelector('#df-5f0a49af-080a-4e00-895d-650bbec2231e');\n",
              "          const dataTable =\n",
              "            await google.colab.kernel.invokeFunction('convertToInteractive',\n",
              "                                                     [key], {});\n",
              "          if (!dataTable) return;\n",
              "\n",
              "          const docLinkHtml = 'Like what you see? Visit the ' +\n",
              "            '<a target=\"_blank\" href=https://colab.research.google.com/notebooks/data_table.ipynb>data table notebook</a>'\n",
              "            + ' to learn more about interactive tables.';\n",
              "          element.innerHTML = '';\n",
              "          dataTable['output_type'] = 'display_data';\n",
              "          await google.colab.output.renderOutput(dataTable, element);\n",
              "          const docLink = document.createElement('div');\n",
              "          docLink.innerHTML = docLinkHtml;\n",
              "          element.appendChild(docLink);\n",
              "        }\n",
              "      </script>\n",
              "    </div>\n",
              "  </div>\n",
              "  "
            ]
          },
          "metadata": {},
          "execution_count": 32
        }
      ],
      "source": [
        "df_labels = pd.concat([dfc_train, dfc_val, dfc_test]).drop(\"word\", axis=1)\n",
        "df_labels = df_labels.drop_duplicates()\n",
        "df_labels = df_labels.reset_index(drop=True)\n",
        "df_labels.head()"
      ]
    },
    {
      "cell_type": "code",
      "execution_count": 33,
      "metadata": {
        "colab": {
          "base_uri": "https://localhost:8080/",
          "height": 677
        },
        "id": "5YGyoO0h485C",
        "outputId": "ad1f8c86-bc16-42be-dd29-fddefc7f54a0"
      },
      "outputs": [
        {
          "output_type": "execute_result",
          "data": {
            "text/plain": [
              "            word label  encoded_label\n",
              "0         pierre   NNP             20\n",
              "1         vinken   NNP             20\n",
              "2              ,     ,              3\n",
              "3             61    CD              9\n",
              "4          years   NNS             22\n",
              "5            old    JJ             14\n",
              "6              ,     ,              3\n",
              "7           will    MD             18\n",
              "8           join    VB             34\n",
              "9            the    DT             10\n",
              "10         board    NN             19\n",
              "11            as    IN             13\n",
              "12             a    DT             10\n",
              "13  nonexecutive    JJ             14\n",
              "14      director    NN             19\n",
              "15          nov.   NNP             20\n",
              "16            29    CD              9\n",
              "17             .     .              6\n",
              "18           mr.   NNP             20\n",
              "19        vinken   NNP             20"
            ],
            "text/html": [
              "\n",
              "  <div id=\"df-f378e4bb-f90e-473f-94ac-1380f1bdee2f\">\n",
              "    <div class=\"colab-df-container\">\n",
              "      <div>\n",
              "<style scoped>\n",
              "    .dataframe tbody tr th:only-of-type {\n",
              "        vertical-align: middle;\n",
              "    }\n",
              "\n",
              "    .dataframe tbody tr th {\n",
              "        vertical-align: top;\n",
              "    }\n",
              "\n",
              "    .dataframe thead th {\n",
              "        text-align: right;\n",
              "    }\n",
              "</style>\n",
              "<table border=\"1\" class=\"dataframe\">\n",
              "  <thead>\n",
              "    <tr style=\"text-align: right;\">\n",
              "      <th></th>\n",
              "      <th>word</th>\n",
              "      <th>label</th>\n",
              "      <th>encoded_label</th>\n",
              "    </tr>\n",
              "  </thead>\n",
              "  <tbody>\n",
              "    <tr>\n",
              "      <th>0</th>\n",
              "      <td>pierre</td>\n",
              "      <td>NNP</td>\n",
              "      <td>20</td>\n",
              "    </tr>\n",
              "    <tr>\n",
              "      <th>1</th>\n",
              "      <td>vinken</td>\n",
              "      <td>NNP</td>\n",
              "      <td>20</td>\n",
              "    </tr>\n",
              "    <tr>\n",
              "      <th>2</th>\n",
              "      <td>,</td>\n",
              "      <td>,</td>\n",
              "      <td>3</td>\n",
              "    </tr>\n",
              "    <tr>\n",
              "      <th>3</th>\n",
              "      <td>61</td>\n",
              "      <td>CD</td>\n",
              "      <td>9</td>\n",
              "    </tr>\n",
              "    <tr>\n",
              "      <th>4</th>\n",
              "      <td>years</td>\n",
              "      <td>NNS</td>\n",
              "      <td>22</td>\n",
              "    </tr>\n",
              "    <tr>\n",
              "      <th>5</th>\n",
              "      <td>old</td>\n",
              "      <td>JJ</td>\n",
              "      <td>14</td>\n",
              "    </tr>\n",
              "    <tr>\n",
              "      <th>6</th>\n",
              "      <td>,</td>\n",
              "      <td>,</td>\n",
              "      <td>3</td>\n",
              "    </tr>\n",
              "    <tr>\n",
              "      <th>7</th>\n",
              "      <td>will</td>\n",
              "      <td>MD</td>\n",
              "      <td>18</td>\n",
              "    </tr>\n",
              "    <tr>\n",
              "      <th>8</th>\n",
              "      <td>join</td>\n",
              "      <td>VB</td>\n",
              "      <td>34</td>\n",
              "    </tr>\n",
              "    <tr>\n",
              "      <th>9</th>\n",
              "      <td>the</td>\n",
              "      <td>DT</td>\n",
              "      <td>10</td>\n",
              "    </tr>\n",
              "    <tr>\n",
              "      <th>10</th>\n",
              "      <td>board</td>\n",
              "      <td>NN</td>\n",
              "      <td>19</td>\n",
              "    </tr>\n",
              "    <tr>\n",
              "      <th>11</th>\n",
              "      <td>as</td>\n",
              "      <td>IN</td>\n",
              "      <td>13</td>\n",
              "    </tr>\n",
              "    <tr>\n",
              "      <th>12</th>\n",
              "      <td>a</td>\n",
              "      <td>DT</td>\n",
              "      <td>10</td>\n",
              "    </tr>\n",
              "    <tr>\n",
              "      <th>13</th>\n",
              "      <td>nonexecutive</td>\n",
              "      <td>JJ</td>\n",
              "      <td>14</td>\n",
              "    </tr>\n",
              "    <tr>\n",
              "      <th>14</th>\n",
              "      <td>director</td>\n",
              "      <td>NN</td>\n",
              "      <td>19</td>\n",
              "    </tr>\n",
              "    <tr>\n",
              "      <th>15</th>\n",
              "      <td>nov.</td>\n",
              "      <td>NNP</td>\n",
              "      <td>20</td>\n",
              "    </tr>\n",
              "    <tr>\n",
              "      <th>16</th>\n",
              "      <td>29</td>\n",
              "      <td>CD</td>\n",
              "      <td>9</td>\n",
              "    </tr>\n",
              "    <tr>\n",
              "      <th>17</th>\n",
              "      <td>.</td>\n",
              "      <td>.</td>\n",
              "      <td>6</td>\n",
              "    </tr>\n",
              "    <tr>\n",
              "      <th>18</th>\n",
              "      <td>mr.</td>\n",
              "      <td>NNP</td>\n",
              "      <td>20</td>\n",
              "    </tr>\n",
              "    <tr>\n",
              "      <th>19</th>\n",
              "      <td>vinken</td>\n",
              "      <td>NNP</td>\n",
              "      <td>20</td>\n",
              "    </tr>\n",
              "  </tbody>\n",
              "</table>\n",
              "</div>\n",
              "      <button class=\"colab-df-convert\" onclick=\"convertToInteractive('df-f378e4bb-f90e-473f-94ac-1380f1bdee2f')\"\n",
              "              title=\"Convert this dataframe to an interactive table.\"\n",
              "              style=\"display:none;\">\n",
              "        \n",
              "  <svg xmlns=\"http://www.w3.org/2000/svg\" height=\"24px\"viewBox=\"0 0 24 24\"\n",
              "       width=\"24px\">\n",
              "    <path d=\"M0 0h24v24H0V0z\" fill=\"none\"/>\n",
              "    <path d=\"M18.56 5.44l.94 2.06.94-2.06 2.06-.94-2.06-.94-.94-2.06-.94 2.06-2.06.94zm-11 1L8.5 8.5l.94-2.06 2.06-.94-2.06-.94L8.5 2.5l-.94 2.06-2.06.94zm10 10l.94 2.06.94-2.06 2.06-.94-2.06-.94-.94-2.06-.94 2.06-2.06.94z\"/><path d=\"M17.41 7.96l-1.37-1.37c-.4-.4-.92-.59-1.43-.59-.52 0-1.04.2-1.43.59L10.3 9.45l-7.72 7.72c-.78.78-.78 2.05 0 2.83L4 21.41c.39.39.9.59 1.41.59.51 0 1.02-.2 1.41-.59l7.78-7.78 2.81-2.81c.8-.78.8-2.07 0-2.86zM5.41 20L4 18.59l7.72-7.72 1.47 1.35L5.41 20z\"/>\n",
              "  </svg>\n",
              "      </button>\n",
              "      \n",
              "  <style>\n",
              "    .colab-df-container {\n",
              "      display:flex;\n",
              "      flex-wrap:wrap;\n",
              "      gap: 12px;\n",
              "    }\n",
              "\n",
              "    .colab-df-convert {\n",
              "      background-color: #E8F0FE;\n",
              "      border: none;\n",
              "      border-radius: 50%;\n",
              "      cursor: pointer;\n",
              "      display: none;\n",
              "      fill: #1967D2;\n",
              "      height: 32px;\n",
              "      padding: 0 0 0 0;\n",
              "      width: 32px;\n",
              "    }\n",
              "\n",
              "    .colab-df-convert:hover {\n",
              "      background-color: #E2EBFA;\n",
              "      box-shadow: 0px 1px 2px rgba(60, 64, 67, 0.3), 0px 1px 3px 1px rgba(60, 64, 67, 0.15);\n",
              "      fill: #174EA6;\n",
              "    }\n",
              "\n",
              "    [theme=dark] .colab-df-convert {\n",
              "      background-color: #3B4455;\n",
              "      fill: #D2E3FC;\n",
              "    }\n",
              "\n",
              "    [theme=dark] .colab-df-convert:hover {\n",
              "      background-color: #434B5C;\n",
              "      box-shadow: 0px 1px 3px 1px rgba(0, 0, 0, 0.15);\n",
              "      filter: drop-shadow(0px 1px 2px rgba(0, 0, 0, 0.3));\n",
              "      fill: #FFFFFF;\n",
              "    }\n",
              "  </style>\n",
              "\n",
              "      <script>\n",
              "        const buttonEl =\n",
              "          document.querySelector('#df-f378e4bb-f90e-473f-94ac-1380f1bdee2f button.colab-df-convert');\n",
              "        buttonEl.style.display =\n",
              "          google.colab.kernel.accessAllowed ? 'block' : 'none';\n",
              "\n",
              "        async function convertToInteractive(key) {\n",
              "          const element = document.querySelector('#df-f378e4bb-f90e-473f-94ac-1380f1bdee2f');\n",
              "          const dataTable =\n",
              "            await google.colab.kernel.invokeFunction('convertToInteractive',\n",
              "                                                     [key], {});\n",
              "          if (!dataTable) return;\n",
              "\n",
              "          const docLinkHtml = 'Like what you see? Visit the ' +\n",
              "            '<a target=\"_blank\" href=https://colab.research.google.com/notebooks/data_table.ipynb>data table notebook</a>'\n",
              "            + ' to learn more about interactive tables.';\n",
              "          element.innerHTML = '';\n",
              "          dataTable['output_type'] = 'display_data';\n",
              "          await google.colab.output.renderOutput(dataTable, element);\n",
              "          const docLink = document.createElement('div');\n",
              "          docLink.innerHTML = docLinkHtml;\n",
              "          element.appendChild(docLink);\n",
              "        }\n",
              "      </script>\n",
              "    </div>\n",
              "  </div>\n",
              "  "
            ]
          },
          "metadata": {},
          "execution_count": 33
        }
      ],
      "source": [
        "dfc_train.head(20)"
      ]
    },
    {
      "cell_type": "code",
      "execution_count": 34,
      "metadata": {
        "colab": {
          "base_uri": "https://localhost:8080/"
        },
        "id": "NWhjjLitz3f7",
        "outputId": "2ecfc176-2eb9-4611-aa34-5e78a48c1abc"
      },
      "outputs": [
        {
          "output_type": "stream",
          "name": "stdout",
          "text": [
            "Punctation labels: [ 3  6 44  2  7  1  4  5 31  0]\n"
          ]
        }
      ],
      "source": [
        "# Filter out punctuation based on the class\n",
        "# https://universaldependencies.org/docs/en/pos/all.html#al-en-pos/PUNCT\n",
        "punctuation_classes = [ \n",
        "    \"``\", \"’’\", \"-LRB-\", \"-RRB-\", \",\", \".\", \":\", \"HYPH\", # PUNCT: punctuation\n",
        "    \"#\", \"$\", \"SYM\", # SYM: symbol\n",
        "    \"''\", # Custom\n",
        "]\n",
        "\n",
        "# Select all the unique classes in the dataframe and their encoding\n",
        "labels = dfc_train.drop_duplicates(['label','encoded_label'])[['label','encoded_label']]\n",
        "\n",
        "# Extracting the encoded label vector for all punctuation and symbols. Will be used in F1 score calculation   \n",
        "punctuation_labels = labels[labels.label.isin(punctuation_classes)]['encoded_label'].values\n",
        "\n",
        "print(f\"Punctation labels: {punctuation_labels}\")"
      ]
    },
    {
      "cell_type": "markdown",
      "metadata": {
        "id": "yS7M36zPrBip"
      },
      "source": [
        "Transform the text into a sequence of integers using the tokenizer defined before. "
      ]
    },
    {
      "cell_type": "code",
      "execution_count": 35,
      "metadata": {
        "colab": {
          "base_uri": "https://localhost:8080/"
        },
        "id": "72n2_dZHDprc",
        "outputId": "e6c648fd-5903-4673-ccd7-617e2e5463bc"
      },
      "outputs": [
        {
          "output_type": "stream",
          "name": "stdout",
          "text": [
            "The number of unique classes in the training data: 45\n"
          ]
        }
      ],
      "source": [
        "x_train = np.array(tokenizer.texts_to_sequences(dfc_train.word.values)) \n",
        "y_train = np.array( dfc_train['encoded_label'])\n",
        "\n",
        "x_val = np.array(tokenizer.texts_to_sequences(dfc_val.word.values))\n",
        "y_val = np.array(dfc_val['encoded_label'])\n",
        "\n",
        "x_test = np.array(tokenizer.texts_to_sequences(dfc_test.word.values))\n",
        "y_test = np.array(dfc_test['encoded_label'])\n",
        "\n",
        "x_sample = np.array(tokenizer.texts_to_sequences(dfc_sample.word.values))\n",
        "y_sample = np.array(dfc_sample['encoded_label'])\n",
        "\n",
        "#number of unique labels\n",
        "num_classes = len(np.unique(y_train))\n",
        "print(f'The number of unique classes in the training data: {num_classes}')"
      ]
    },
    {
      "cell_type": "markdown",
      "metadata": {
        "id": "51RMHWA0r2ep"
      },
      "source": [
        "Padding the sequences to make them of the same length before passing them to the model, of course in this case is not a necessary operation because we are processing single words, but in other case it's a crucial operation."
      ]
    },
    {
      "cell_type": "code",
      "execution_count": 36,
      "metadata": {
        "colab": {
          "base_uri": "https://localhost:8080/"
        },
        "id": "Lzxixj0QExD7",
        "outputId": "9ebaa045-ac7d-4912-b8f6-be95d8f9eae0"
      },
      "outputs": [
        {
          "output_type": "stream",
          "name": "stdout",
          "text": [
            "X train shape: (47356, 1)\n",
            "Y train shape: (47356,)\n",
            "X val shape: (31183, 1)\n",
            "Y val shape: (31183,)\n",
            "X test shape: (15545, 1)\n",
            "Y test shape: (15545,)\n"
          ]
        }
      ],
      "source": [
        "from tensorflow.keras.preprocessing.sequence import pad_sequences\n",
        "\n",
        "#Padding \n",
        "max = 1\n",
        "x_train = pad_sequences(x_train, maxlen=max, padding='post')\n",
        "x_val = pad_sequences(x_val, maxlen=max, padding='post')\n",
        "x_test = pad_sequences(x_test, maxlen=max, padding='post')\n",
        "x_sample = pad_sequences(x_sample, maxlen=max, padding='post')\n",
        "\n",
        "#Training shape\n",
        "print(f'X train shape: {x_train.shape}')\n",
        "print(f'Y train shape: {y_train.shape}')\n",
        "\n",
        "# Validation shape\n",
        "print(f'X val shape: {x_val.shape}')\n",
        "print(f'Y val shape: {y_val.shape}')\n",
        "\n",
        "# Test shape\n",
        "print(f'X test shape: {x_test.shape}')\n",
        "print(f'Y test shape: {y_test.shape}')"
      ]
    },
    {
      "cell_type": "code",
      "execution_count": 37,
      "metadata": {
        "id": "NHZTtqWB485D"
      },
      "outputs": [],
      "source": [
        "vocab_size = len(tokenizer.word_index) + 1"
      ]
    },
    {
      "cell_type": "markdown",
      "metadata": {
        "id": "gMFmoGtIOw55"
      },
      "source": [
        "## Utility methods"
      ]
    },
    {
      "cell_type": "code",
      "execution_count": 38,
      "metadata": {
        "id": "94MnbDUNOw55"
      },
      "outputs": [],
      "source": [
        "import tensorflow as tf\n",
        "from tensorflow import keras\n",
        "from tensorflow.keras import layers\n",
        "from typing import List, Dict, Callable\n",
        "import random"
      ]
    },
    {
      "cell_type": "code",
      "execution_count": 102,
      "metadata": {
        "id": "U0Nhlo_pOw55"
      },
      "outputs": [],
      "source": [
        "def set_reproducibility(seed):\n",
        "    random.seed(seed)\n",
        "    np.random.seed(seed)\n",
        "    tf.random.set_seed(seed)\n",
        "    os.environ['TF_DETERMINISTIC_OPS'] = '1'\n",
        "    tf.config.experimental.enable_op_determinism()\n",
        "    tf.keras.utils.set_random_seed(seed)\n",
        "\n",
        "\n",
        "# Set the reproducibility\n",
        "set_reproducibility(42)"
      ]
    },
    {
      "cell_type": "code",
      "execution_count": 40,
      "metadata": {
        "id": "Ms1V5PuwOw56"
      },
      "outputs": [],
      "source": [
        "import matplotlib.pyplot as plt\n",
        "from functools import partial\n",
        "from keras.callbacks import History\n",
        "\n",
        "def show_history(history: History):\n",
        "    \"\"\"\n",
        "    Shows training history data stored by the History Keras callback\n",
        "\n",
        "    :param history: History Keras callback\n",
        "    \"\"\"\n",
        "    history_data = history.history\n",
        "    print(f\"Displaying the following history keys: {history_data.keys()}\")\n",
        "    \n",
        "    for key, value in history_data.items():\n",
        "        if not key.startswith('val'):\n",
        "            fig, ax = plt.subplots(1, 1)\n",
        "            ax.set_title(key)\n",
        "            ax.plot(value)\n",
        "            if f'val_{key}' in history_data:\n",
        "                ax.plot(history_data[f'val_{key}'])\n",
        "            else:\n",
        "                print(f\"Couldn't find validation values for metric: {key}\")\n",
        "\n",
        "            ax.set_ylabel(key)\n",
        "            ax.set_xlabel('epoch')\n",
        "            ax.legend(['train', 'val'], loc='best')\n",
        "            plt.grid(True)\n",
        "        plt.show()"
      ]
    },
    {
      "cell_type": "code",
      "execution_count": 41,
      "metadata": {
        "id": "Zw1zm9xVOw56"
      },
      "outputs": [],
      "source": [
        "def train_model(model: keras.Model, training_info: Dict):\n",
        "    \"\"\"\n",
        "    Training routine for the Keras model.\n",
        "    At the end of the training, retrieved History data is shown.\n",
        "\n",
        "    :param model: Keras built model\n",
        "    :param training_info: dictionary storing model fit() argument information\n",
        "\n",
        "    :return\n",
        "        model: trained Keras model\n",
        "    \"\"\"\n",
        "\n",
        "    print(f\"Start training! \\nParameters: {training_info}\")\n",
        "\n",
        "    history = model.fit(x=x_train, y=y_train,\n",
        "                        validation_data=(x_val, y_val),\n",
        "                        **training_info)\n",
        "    print(\"Training completed!\")\n",
        "\n",
        "    print(\"Showing history...\")\n",
        "    show_history(history)\n",
        "\n",
        "    return model"
      ]
    },
    {
      "cell_type": "code",
      "execution_count": 42,
      "metadata": {
        "id": "hSj5Ie1gOw56"
      },
      "outputs": [],
      "source": [
        "def predict_data(model: keras.Model,\n",
        "                x: np.ndarray,\n",
        "                prediction_info: Dict):\n",
        "    \"\"\"\n",
        "    Inference routine of a given input set of examples\n",
        "\n",
        "    :param model: Keras built and possibly trained model\n",
        "    :param x: input set of examples in np.ndarray format\n",
        "    :param prediction_info: dictionary storing model predict() argument information\n",
        "\n",
        "    :return\n",
        "        predictions: predicted labels in np.ndarray format\n",
        "    \"\"\"\n",
        "    print(f'Starting prediction: \\n{prediction_info}')\n",
        "    print(f'Predicting on {x.shape[0]} samples')\n",
        "    predictions = model.predict(x, **prediction_info)\n",
        "    return predictions"
      ]
    },
    {
      "cell_type": "code",
      "execution_count": 43,
      "metadata": {
        "id": "sJl37gYEOw56"
      },
      "outputs": [],
      "source": [
        "from sklearn.metrics import f1_score, classification_report, ConfusionMatrixDisplay\n",
        "\n",
        "def compute_f1(model: keras.Model, \n",
        "             x: np.ndarray, \n",
        "             y: np.ndarray,\n",
        "             get_report: bool = False):\n",
        "    \"\"\"\n",
        "    Compute F1_score on the given data with corresponding labels\n",
        "\n",
        "    :param model: Keras built and possibly trained model\n",
        "    :param x: data in np.ndarray format\n",
        "    :param y: ground-truth labels in np.ndarray format\n",
        "\n",
        "    :return\n",
        "        score: f1_macro_score\n",
        "    \"\"\"\n",
        "    prediction_info = {\n",
        "        'batch_size': 64,\n",
        "        'verbose': 1\n",
        "    }\n",
        "    \n",
        "    #predictions on the x set\n",
        "    y_pred = predict_data(model=model, x=x, prediction_info=prediction_info)\n",
        "\n",
        "    #compute argmax to take the best class for each sample\n",
        "    y_pred = np.argmax(y_pred, axis=1)\n",
        "    \n",
        "    #compute the f1_macro excluding punctuaction labels\n",
        "    labels = np.unique( np.concatenate((np.unique(y), np.unique(y_pred))))\n",
        "    labels = [label for label in labels if label not in punctuation_labels]\n",
        "    \n",
        "    rep = classification_report(y,y_pred, labels=labels, output_dict=True, zero_division=0)\n",
        "\n",
        "    # Show confusion matrix\n",
        "    '''\n",
        "    cm = confusion_matrix(y,y_pred,labels=labels)\n",
        "    cm_disp = ConfusionMatrixDisplay(cm,display_labels=labels)\n",
        "    fig, ax = plt.subplots(figsize=(15,15))\n",
        "    cm_disp.plot(ax=ax)\n",
        "    '''\n",
        "    score = f1_score(y, y_pred, average ='macro', labels=labels)\n",
        "\n",
        "    if get_report:\n",
        "        return score, rep\n",
        "    else: return score"
      ]
    },
    {
      "cell_type": "markdown",
      "metadata": {
        "id": "7FTlmNoGi8CF"
      },
      "source": [
        "## Baseline model: LSTM"
      ]
    },
    {
      "cell_type": "markdown",
      "metadata": {
        "id": "LCcVYGrNsQ-x"
      },
      "source": [
        "### Define the model"
      ]
    },
    {
      "cell_type": "code",
      "execution_count": 80,
      "metadata": {
        "id": "RyfvHkUZ1wEU"
      },
      "outputs": [],
      "source": [
        "from tensorflow.keras.models import Sequential\n",
        "from tensorflow.keras.layers import Embedding, Dense, LSTM, Bidirectional, GRU\n",
        "from tensorflow.keras.optimizers import Adam\n",
        "\n",
        "\n",
        "def create_baseline(units, dropout, learning_rate, activation):\n",
        "    model = keras.Sequential()\n",
        "    model = keras.models.Sequential()\n",
        "    \n",
        "    \n",
        "    model.add(keras.layers.Embedding(input_dim=vocab_size, \n",
        "                                    output_dim = embedding_dimension,\n",
        "                                    input_length = 1,\n",
        "                                    weights = [embedding_matrix],\n",
        "                                    trainable = False))\n",
        "    \n",
        "    model.add(keras.layers.Bidirectional(LSTM(units=units, \n",
        "                                              activation=activation,\n",
        "                                              dropout=dropout,\n",
        "                                              )))\n",
        "\n",
        "    model.add(keras.layers.Dense(units=num_classes, \n",
        "                                 activation=\"softmax\"))\n",
        "\n",
        "    model.summary()\n",
        "\n",
        "    model.compile(loss='sparse_categorical_crossentropy', \n",
        "                    optimizer=Adam(learning_rate=learning_rate), \n",
        "                    metrics=[\"accuracy\"])\n",
        "    \n",
        "    return model"
      ]
    },
    {
      "cell_type": "markdown",
      "metadata": {
        "id": "i_3_VgghuynG"
      },
      "source": [
        "#### Using keras tuner to find best hyper parameters"
      ]
    },
    {
      "cell_type": "code",
      "execution_count": 81,
      "metadata": {
        "id": "PPXOAdJyuynG"
      },
      "outputs": [],
      "source": [
        "import keras_tuner\n",
        "\n",
        "def build_baseline(hp):\n",
        "    units = hp.Int(\"units\", min_value=16, max_value=128, step=16)\n",
        "\n",
        "    activation = hp.Choice(\"activation\", [\"relu\", \"tanh\"])\n",
        "\n",
        "    dropout = hp.Float(\"dropout\", min_value=0, max_value=0.2, step=0.05)\n",
        "\n",
        "    learning_rate = hp.Float(\"learning_rate\", min_value=1e-4, max_value=1e-2, sampling=\"log\")\n",
        "    # call existing model-building code with the hyperparameter values.\n",
        "    model = create_baseline(units=units, \n",
        "                            activation=activation, \n",
        "                            dropout=dropout, \n",
        "                            learning_rate=learning_rate\n",
        "                        )\n",
        "    return model"
      ]
    },
    {
      "cell_type": "code",
      "execution_count": null,
      "metadata": {
        "colab": {
          "base_uri": "https://localhost:8080/"
        },
        "id": "03IZuZp2uynG",
        "outputId": "802b1e30-72df-4a3b-c93a-39e5469375a2"
      },
      "outputs": [
        {
          "name": "stderr",
          "output_type": "stream",
          "text": [
            "WARNING:tensorflow:Layer lstm will not use cuDNN kernels since it doesn't meet the criteria. It will use a generic GPU kernel as fallback when running on GPU.\n",
            "WARNING:tensorflow:Layer lstm will not use cuDNN kernels since it doesn't meet the criteria. It will use a generic GPU kernel as fallback when running on GPU.\n",
            "WARNING:tensorflow:Layer lstm will not use cuDNN kernels since it doesn't meet the criteria. It will use a generic GPU kernel as fallback when running on GPU.\n"
          ]
        },
        {
          "name": "stdout",
          "output_type": "stream",
          "text": [
            "Model: \"sequential_1\"\n",
            "_________________________________________________________________\n",
            " Layer (type)                Output Shape              Param #   \n",
            "=================================================================\n",
            " embedding (Embedding)       (None, 1, 200)            80135400  \n",
            "                                                                 \n",
            " bidirectional (Bidirectiona  (None, 32)               27776     \n",
            " l)                                                              \n",
            "                                                                 \n",
            " dense (Dense)               (None, 45)                1485      \n",
            "                                                                 \n",
            "=================================================================\n",
            "Total params: 80,164,661\n",
            "Trainable params: 29,261\n",
            "Non-trainable params: 80,135,400\n",
            "_________________________________________________________________\n",
            "Search space summary\n",
            "Default search space size: 4\n",
            "units (Int)\n",
            "{'default': None, 'conditions': [], 'min_value': 16, 'max_value': 128, 'step': 16, 'sampling': None}\n",
            "activation (Choice)\n",
            "{'default': 'relu', 'conditions': [], 'values': ['relu', 'tanh'], 'ordered': False}\n",
            "dropout (Float)\n",
            "{'default': 0.0, 'conditions': [], 'min_value': 0.0, 'max_value': 0.2, 'step': 0.05, 'sampling': None}\n",
            "learning_rate (Float)\n",
            "{'default': 0.0001, 'conditions': [], 'min_value': 0.0001, 'max_value': 0.01, 'step': None, 'sampling': 'log'}\n"
          ]
        }
      ],
      "source": [
        "if not os.path.exists(\"./models\"):\n",
        "    os.makedirs(\"./models\")\n",
        "\n",
        "tuner = keras_tuner.Hyperband(hypermodel=build_baseline,\n",
        "                            objective='accuracy',\n",
        "                            max_epochs=30,\n",
        "                            factor=3,\n",
        "                            directory='./models',\n",
        "                            project_name='baseline')\n",
        "tuner.search_space_summary()"
      ]
    },
    {
      "cell_type": "code",
      "execution_count": null,
      "metadata": {
        "colab": {
          "base_uri": "https://localhost:8080/",
          "height": 35
        },
        "id": "eioPZMtiuynG",
        "outputId": "184e3f85-4096-43d1-d03b-3ee7bf2a228d"
      },
      "outputs": [
        {
          "data": {
            "application/vnd.google.colaboratory.intrinsic+json": {
              "type": "string"
            },
            "text/plain": [
              "'\\ntuner.search(x_train,y_train, epochs=30, validation_data=(x_val,y_val))\\nbest_model = tuner.get_best_models()[0]\\ntuner.results_summary()\\n'"
            ]
          },
          "execution_count": 51,
          "metadata": {},
          "output_type": "execute_result"
        }
      ],
      "source": [
        "# Search the best hyper-parameter and select the best model\n",
        "'''\n",
        "tuner.search(x_train,y_train, epochs=30, validation_data=(x_val,y_val))\n",
        "best_model = tuner.get_best_models()[0]\n",
        "tuner.results_summary()\n",
        "'''"
      ]
    },
    {
      "cell_type": "markdown",
      "metadata": {
        "id": "yL4hHiEauynG"
      },
      "source": [
        "Hyperparameters:\n",
        "* units: 32\n",
        "* activation: tanh\n",
        "* dropout: 0\n",
        "* learning_rate: 0.0028081\n",
        "* tuner/epochs: 30\n",
        "* tuner/initial_epoch: 10\n",
        "\n",
        "Score: 0.9271686673164368"
      ]
    },
    {
      "cell_type": "code",
      "execution_count": 106,
      "metadata": {
        "colab": {
          "base_uri": "https://localhost:8080/"
        },
        "id": "6-dl1WSfuynG",
        "outputId": "0c1f68be-deb6-4b2c-e34b-48602ff43a3b"
      },
      "outputs": [
        {
          "output_type": "stream",
          "name": "stdout",
          "text": [
            "Model: \"sequential_23\"\n",
            "_________________________________________________________________\n",
            " Layer (type)                Output Shape              Param #   \n",
            "=================================================================\n",
            " embedding_11 (Embedding)    (None, 1, 200)            80135400  \n",
            "                                                                 \n",
            " bidirectional_12 (Bidirecti  (None, 64)               59648     \n",
            " onal)                                                           \n",
            "                                                                 \n",
            " dense_13 (Dense)            (None, 45)                2925      \n",
            "                                                                 \n",
            "=================================================================\n",
            "Total params: 80,197,973\n",
            "Trainable params: 62,573\n",
            "Non-trainable params: 80,135,400\n",
            "_________________________________________________________________\n"
          ]
        }
      ],
      "source": [
        "# Create model with best hyperparameter \n",
        "base_model = create_baseline(units= 32,\n",
        "                            activation=\"tanh\",\n",
        "                            dropout=0,\n",
        "                            #learning_rate=28e-4)\n",
        "                            learning_rate=0.0028081)"
      ]
    },
    {
      "cell_type": "code",
      "execution_count": 107,
      "metadata": {
        "colab": {
          "base_uri": "https://localhost:8080/",
          "height": 660
        },
        "id": "ZY8zv1dvQM3A",
        "outputId": "13bb9d2d-f417-4bbe-d41f-7bef16a81efc"
      },
      "outputs": [
        {
          "output_type": "stream",
          "name": "stdout",
          "text": [
            "Start training! \n",
            "Parameters: {'verbose': 0, 'epochs': 6, 'batch_size': 64}\n",
            "Training completed!\n",
            "Showing history...\n",
            "Displaying the following history keys: dict_keys(['loss', 'accuracy', 'val_loss', 'val_accuracy'])\n"
          ]
        },
        {
          "output_type": "display_data",
          "data": {
            "text/plain": [
              "<Figure size 432x288 with 1 Axes>"
            ],
            "image/png": "[encoded data removed]"
          },
          "metadata": {
            "needs_background": "light"
          }
        },
        {
          "output_type": "display_data",
          "data": {
            "text/plain": [
              "<Figure size 432x288 with 1 Axes>"
            ],
            "image/png": "[encoded data removed]"
          },
          "metadata": {
            "needs_background": "light"
          }
        }
      ],
      "source": [
        "# Train\n",
        "base_training_info = {\n",
        "    'verbose': 0,\n",
        "    'epochs' : 6,\n",
        "    'batch_size' : 64,\n",
        "    \n",
        "}\n",
        "\n",
        "'''\n",
        "    'callbacks' : [tf.keras.callbacks.EarlyStopping(monitor=\"val_loss\",\n",
        "                                                    patience=5,\n",
        "                                                    verbose=1,\n",
        "                                                    mode=\"auto\",\n",
        "                                                    baseline=None,\n",
        "                                                    restore_best_weights=True)]\n",
        "'''\n",
        "\n",
        "base_model = train_model(model=base_model,training_info = base_training_info)"
      ]
    },
    {
      "cell_type": "markdown",
      "metadata": {
        "id": "Jl8xoLex485H"
      },
      "source": [
        "#### F1-Macro evaluation"
      ]
    },
    {
      "cell_type": "code",
      "execution_count": 108,
      "metadata": {
        "colab": {
          "base_uri": "https://localhost:8080/"
        },
        "id": "scAXLwfRJrS4",
        "outputId": "d1890a54-1abf-4174-b8bc-7d0da579c449"
      },
      "outputs": [
        {
          "output_type": "stream",
          "name": "stdout",
          "text": [
            "975/975 [==============================] - 3s 3ms/step - loss: 0.3660 - accuracy: 0.8838\n",
            "Model loss: 0.3659779727458954, accuracy: 0.8838148713111877\n",
            "Starting prediction: \n",
            "{'batch_size': 64, 'verbose': 1}\n",
            "Predicting on 31183 samples\n",
            "488/488 [==============================] - 2s 2ms/step\n",
            "F1_score on the validation set is: 0.7158898975529938\n"
          ]
        }
      ],
      "source": [
        "loss, accuracy = base_model.evaluate(x_val, y_val)\n",
        "print(f\"Model loss: {loss}, accuracy: {accuracy}\")\n",
        "\n",
        "# Inference and evaluate\n",
        "\n",
        "base_score = compute_f1(base_model, x_val, y_val)\n",
        "print(f'F1_score on the validation set is: {base_score}')"
      ]
    },
    {
      "cell_type": "markdown",
      "metadata": {
        "id": "XX2nnMyoOw59"
      },
      "source": [
        "#### Sample test"
      ]
    },
    {
      "cell_type": "code",
      "execution_count": 109,
      "metadata": {
        "colab": {
          "base_uri": "https://localhost:8080/"
        },
        "id": "wv7QQ2Y0Ow59",
        "outputId": "593918eb-7bb7-4874-a981-2d7c9fd40a3f"
      },
      "outputs": [
        {
          "output_type": "stream",
          "name": "stdout",
          "text": [
            "1/1 [==============================] - 0s 23ms/step\n",
            "20 \t 20 \t ok \t pierre\n",
            "20 \t 20 \t ok \t vinken\n",
            "3 \t 3 \t ok \t ,\n",
            "9 \t 9 \t ok \t 61\n",
            "22 \t 22 \t ok \t years\n",
            "14 \t 14 \t ok \t old\n",
            "3 \t 3 \t ok \t ,\n",
            "18 \t 18 \t ok \t will\n",
            "34 \t 34 \t ok \t join\n",
            "10 \t 10 \t ok \t the\n",
            "19 \t 19 \t ok \t board\n",
            "13 \t 13 \t ok \t as\n",
            "10 \t 10 \t ok \t a\n",
            "14 \t 14 \t ok \t nonexecutive\n",
            "19 \t 19 \t ok \t director\n",
            "20 \t 20 \t ok \t nov.\n",
            "9 \t 9 \t ok \t 29\n",
            "6 \t 6 \t ok \t .\n",
            "20 \t 20 \t ok \t mr.\n",
            "20 \t 20 \t ok \t vinken\n",
            "39 \t 39 \t ok \t is\n",
            "19 \t 19 \t ok \t chairman\n",
            "13 \t 13 \t ok \t of\n",
            "20 \t 20 \t ok \t elsevier\n",
            "20 \t 20 \t ok \t n.v.\n",
            "3 \t 3 \t ok \t ,\n",
            "10 \t 10 \t ok \t the\n",
            "14 \t 20 \t ERR \t dutch\n",
            "20 \t 36 \t ERR \t publishing\n",
            "20 \t 19 \t ERR \t group\n",
            "6 \t 6 \t ok \t .\n"
          ]
        }
      ],
      "source": [
        "x_sample_text = tokenizer.sequences_to_texts(x_sample)\n",
        "y_pred_sample_onehot = base_model.predict(x_sample)\n",
        "y_pred_sample = np.argmax(y_pred_sample_onehot, axis=1)\n",
        "for i in range(x_sample.size):\n",
        "    print(f\"{y_pred_sample[i]} \\t {y_sample[i]} \\t {'ok' if y_pred_sample[i]==y_sample[i] else 'ERR'} \\t {x_sample_text[i]}\")"
      ]
    },
    {
      "cell_type": "markdown",
      "metadata": {
        "id": "Jjm_29f4i8CG"
      },
      "source": [
        "## Model A: GRU"
      ]
    },
    {
      "cell_type": "markdown",
      "metadata": {
        "id": "hhyr0auV485I"
      },
      "source": [
        "GRU is a simpler alternative to LSTM's architecture, less effective but with a faster train.\n",
        "</br>Two layers architecture: a Bidirectional GRU layer and a Dense/FC layer on top. "
      ]
    },
    {
      "cell_type": "code",
      "execution_count": 110,
      "metadata": {
        "id": "53xpFPP4485I"
      },
      "outputs": [],
      "source": [
        "# Create model\n",
        "\n",
        "def create_gru(units, dropout, learning_rate, activation):\n",
        "    model = keras.Sequential()\n",
        "    model = keras.models.Sequential()\n",
        "    \n",
        "    \n",
        "    model.add(keras.layers.Embedding(input_dim=vocab_size, \n",
        "                                    output_dim = embedding_dimension,\n",
        "                                    input_length = 1,\n",
        "                                    weights = [embedding_matrix],\n",
        "                                    trainable = False))\n",
        "    \n",
        "    model.add(keras.layers.Bidirectional(GRU(units=units, \n",
        "                                              activation=activation,\n",
        "                                              dropout=dropout,\n",
        "                                              )))\n",
        "\n",
        "    model.add(keras.layers.Dense(units=num_classes, \n",
        "                                 activation=\"softmax\"))\n",
        "\n",
        "    model.compile(loss=\"sparse_categorical_crossentropy\", \n",
        "                    optimizer=Adam(learning_rate=learning_rate), \n",
        "                    metrics=[\"accuracy\"])\n",
        "    \n",
        "    return model"
      ]
    },
    {
      "cell_type": "code",
      "execution_count": 111,
      "metadata": {
        "id": "3KMFWP-huynH"
      },
      "outputs": [],
      "source": [
        "def build_GRU(hp):\n",
        "    units = hp.Int(\"units\", min_value=16, max_value=256, step=16)\n",
        "\n",
        "    activation = hp.Choice(\"activation\", [\"relu\", \"tanh\"])\n",
        "\n",
        "    dropout = hp.Float(\"dropout\", min_value=0, max_value=0.2, step=0.05)\n",
        "\n",
        "    learning_rate = hp.Float(\"learning_rate\", min_value=1e-4, max_value=1e-2, sampling=\"log\")\n",
        "    # call existing model-building code with the hyperparameter values.\n",
        "    model = create_gru(units=units, \n",
        "                            activation=activation, \n",
        "                            dropout=dropout, \n",
        "                            learning_rate=learning_rate\n",
        "                        )\n",
        "    return model"
      ]
    },
    {
      "cell_type": "code",
      "execution_count": 112,
      "metadata": {
        "colab": {
          "base_uri": "https://localhost:8080/"
        },
        "id": "yPtro4UfuynH",
        "outputId": "c9b93c1c-993a-40b9-f407-0ac2b6a70289"
      },
      "outputs": [
        {
          "output_type": "stream",
          "name": "stderr",
          "text": [
            "WARNING:tensorflow:Layer gru_1 will not use cuDNN kernels since it doesn't meet the criteria. It will use a generic GPU kernel as fallback when running on GPU.\n",
            "WARNING:tensorflow:Layer gru_1 will not use cuDNN kernels since it doesn't meet the criteria. It will use a generic GPU kernel as fallback when running on GPU.\n",
            "WARNING:tensorflow:Layer gru_1 will not use cuDNN kernels since it doesn't meet the criteria. It will use a generic GPU kernel as fallback when running on GPU.\n"
          ]
        },
        {
          "output_type": "stream",
          "name": "stdout",
          "text": [
            "Search space summary\n",
            "Default search space size: 4\n",
            "units (Int)\n",
            "{'default': None, 'conditions': [], 'min_value': 16, 'max_value': 256, 'step': 16, 'sampling': None}\n",
            "activation (Choice)\n",
            "{'default': 'relu', 'conditions': [], 'values': ['relu', 'tanh'], 'ordered': False}\n",
            "dropout (Float)\n",
            "{'default': 0.0, 'conditions': [], 'min_value': 0.0, 'max_value': 0.2, 'step': 0.05, 'sampling': None}\n",
            "learning_rate (Float)\n",
            "{'default': 0.0001, 'conditions': [], 'min_value': 0.0001, 'max_value': 0.01, 'step': None, 'sampling': 'log'}\n"
          ]
        }
      ],
      "source": [
        "tuner = keras_tuner.Hyperband(hypermodel=build_GRU,\n",
        "                            objective='accuracy',\n",
        "                            max_epochs=30,\n",
        "                            factor=3,\n",
        "                            directory='a1models',\n",
        "                            project_name='GRU')\n",
        "tuner.search_space_summary()"
      ]
    },
    {
      "cell_type": "code",
      "execution_count": 113,
      "metadata": {
        "colab": {
          "base_uri": "https://localhost:8080/",
          "height": 35
        },
        "id": "HroYKz3WuynH",
        "outputId": "36521dda-d024-4603-be01-68d8cc37a34a"
      },
      "outputs": [
        {
          "output_type": "execute_result",
          "data": {
            "text/plain": [
              "'\\ntuner.search(x_train,y_train, epochs=30, validation_data=(x_val,y_val))\\nbest_model = tuner.get_best_models()[0]\\ntuner.results_summary()\\n'"
            ],
            "application/vnd.google.colaboratory.intrinsic+json": {
              "type": "string"
            }
          },
          "metadata": {},
          "execution_count": 113
        }
      ],
      "source": [
        "# Search the best hyper-parameter and select the best model\n",
        "'''\n",
        "tuner.search(x_train,y_train, epochs=30, validation_data=(x_val,y_val))\n",
        "best_model = tuner.get_best_models()[0]\n",
        "tuner.results_summary()\n",
        "'''"
      ]
    },
    {
      "cell_type": "markdown",
      "metadata": {
        "id": "vDB9pBZduynH"
      },
      "source": [
        "Hyperparameters:\n",
        "* units: 112\n",
        "* activation: tanh\n",
        "* dropout: 0.05\n",
        "* learning_rate: 0.000642144054857491\n",
        "* tuner/epochs: 15\n",
        "  \n",
        "Score: 0.9216994643211365"
      ]
    },
    {
      "cell_type": "code",
      "execution_count": 114,
      "metadata": {
        "id": "mD5oTdyOuynH"
      },
      "outputs": [],
      "source": [
        "# Create model with best hyperparameter \n",
        "gru_model = create_gru(units= 112,\n",
        "                            activation=\"tanh\",\n",
        "                            dropout=0.05,\n",
        "                            learning_rate=0.000642144054857491,\n",
        "                            )"
      ]
    },
    {
      "cell_type": "code",
      "execution_count": 115,
      "metadata": {
        "colab": {
          "base_uri": "https://localhost:8080/",
          "height": 660
        },
        "id": "hPcXmqzj485J",
        "outputId": "7b464e75-085f-460f-828a-5427541a7eac"
      },
      "outputs": [
        {
          "output_type": "stream",
          "name": "stdout",
          "text": [
            "Start training! \n",
            "Parameters: {'verbose': 0, 'epochs': 17, 'batch_size': 64}\n",
            "Training completed!\n",
            "Showing history...\n",
            "Displaying the following history keys: dict_keys(['loss', 'accuracy', 'val_loss', 'val_accuracy'])\n"
          ]
        },
        {
          "output_type": "display_data",
          "data": {
            "text/plain": [
              "<Figure size 432x288 with 1 Axes>"
            ],
            "image/png": "[encoded data removed]"
          },
          "metadata": {
            "needs_background": "light"
          }
        },
        {
          "output_type": "display_data",
          "data": {
            "text/plain": [
              "<Figure size 432x288 with 1 Axes>"
            ],
            "image/png": "[encoded data removed]"
          },
          "metadata": {
            "needs_background": "light"
          }
        }
      ],
      "source": [
        "# Train\n",
        "gru_training_info = {\n",
        "    'verbose': 0,\n",
        "    'epochs' : 17,\n",
        "    'batch_size' : 64,\n",
        "\n",
        "}\n",
        "\n",
        "gru_model = train_model(model=gru_model,training_info = gru_training_info)"
      ]
    },
    {
      "cell_type": "markdown",
      "metadata": {
        "id": "iYuiRWK9Ow5-"
      },
      "source": [
        "#### F1-Macro evaluation"
      ]
    },
    {
      "cell_type": "code",
      "execution_count": 116,
      "metadata": {
        "colab": {
          "base_uri": "https://localhost:8080/"
        },
        "id": "xZo7nP0WOw5-",
        "outputId": "acf99841-d688-4ee3-9974-db5b0d5add63"
      },
      "outputs": [
        {
          "output_type": "stream",
          "name": "stdout",
          "text": [
            "975/975 [==============================] - 3s 3ms/step - loss: 0.3342 - accuracy: 0.8914\n",
            "Model loss: 0.33421263098716736, accuracy: 0.8913831114768982\n",
            "Starting prediction: \n",
            "{'batch_size': 64, 'verbose': 1}\n",
            "Predicting on 31183 samples\n",
            "488/488 [==============================] - 2s 2ms/step\n",
            "F1_score on the validation set is: 0.7014973750824088\n"
          ]
        }
      ],
      "source": [
        "loss, accuracy = gru_model.evaluate(x_val, y_val)\n",
        "print(f\"Model loss: {loss}, accuracy: {accuracy}\")\n",
        "\n",
        "# Inference and evaluate\n",
        "\n",
        "gru_score = compute_f1(gru_model, x_val, y_val)\n",
        "print(f'F1_score on the validation set is: {gru_score}')"
      ]
    },
    {
      "cell_type": "markdown",
      "metadata": {
        "id": "6bM9ZWFAi8CG"
      },
      "source": [
        "## Model B: 2x LSTM + Dense "
      ]
    },
    {
      "cell_type": "code",
      "execution_count": 117,
      "metadata": {
        "id": "xOUIWNbRuynI"
      },
      "outputs": [],
      "source": [
        "# Create model\n",
        "from tensorflow.keras.models import Sequential\n",
        "from tensorflow.keras.layers import Embedding, Dense, LSTM, Bidirectional, GRU\n",
        "from tensorflow.keras.optimizers import Adam\n",
        "\n",
        "def create_2xlstm(lstm1_units, lstm2_units, lstm1_dropout, lstm2_dropout, learning_rate, lstm1_activation, lstm2_activation):\n",
        "    model = keras.Sequential()\n",
        "    model = keras.models.Sequential()\n",
        "    \n",
        "    \n",
        "    model.add(keras.layers.Embedding(input_dim=vocab_size, \n",
        "                                    output_dim = embedding_dimension,\n",
        "                                    input_length = 1,\n",
        "                                    weights = [embedding_matrix],\n",
        "                                    trainable = False))\n",
        "    \n",
        "    model.add(keras.layers.Bidirectional(LSTM(units=lstm1_units,\n",
        "                                              dropout=lstm1_dropout,\n",
        "                                              activation=lstm1_activation,\n",
        "                                              return_sequences=True\n",
        "                                              )))\n",
        "    \n",
        "    model.add(keras.layers.Bidirectional(LSTM(units=lstm2_units,\n",
        "                                              dropout=lstm2_dropout,\n",
        "                                              activation=lstm2_activation\n",
        "                                              )))\n",
        "\n",
        "    model.add(keras.layers.Dense(units=num_classes, \n",
        "                                 activation=\"softmax\"))\n",
        "\n",
        "    model.compile(loss=\"sparse_categorical_crossentropy\", \n",
        "                    optimizer=Adam(learning_rate=learning_rate), \n",
        "                    metrics=[\"accuracy\"])\n",
        "    \n",
        "    return model"
      ]
    },
    {
      "cell_type": "code",
      "execution_count": 118,
      "metadata": {
        "id": "2sv-aPNLuynI"
      },
      "outputs": [],
      "source": [
        "def build_2xLSTM(hp):\n",
        "    lstm1_units = hp.Int(\"lstm1_units\", min_value=16, max_value=128, step=16)\n",
        "    lstm2_units = hp.Int(\"lstm2_units\", min_value=16, max_value=128, step=16)\n",
        "\n",
        "    lstm1_activation = hp.Choice(\"lstm1_activation\", [\"relu\", \"tanh\"])\n",
        "    lstm2_activation = hp.Choice(\"lstm2_activation\", [\"relu\", \"tanh\"])\n",
        "\n",
        "    lstm1_dropout = hp.Float(\"lstm1_dropout\", min_value=0, max_value=0.4, step=0.1)\n",
        "    lstm2_dropout = hp.Float(\"lstm2_dropout\", min_value=0, max_value=0.4, step=0.1)\n",
        "\n",
        "    learning_rate = hp.Float(\"learning_rate\", min_value=1e-3, max_value=1e-2, sampling=\"log\")\n",
        "    # call existing model-building code with the hyperparameter values.\n",
        "    model = create_2xlstm(lstm1_units=lstm1_units,\n",
        "                            lstm2_units=lstm2_units, \n",
        "                            lstm1_activation=lstm1_activation, \n",
        "                            lstm2_activation=lstm2_activation,\n",
        "                            lstm1_dropout=lstm1_dropout,\n",
        "                            lstm2_dropout=lstm2_dropout,\n",
        "                            learning_rate=learning_rate\n",
        "                        )\n",
        "    return model"
      ]
    },
    {
      "cell_type": "code",
      "execution_count": 119,
      "metadata": {
        "colab": {
          "base_uri": "https://localhost:8080/"
        },
        "id": "ekSMWDYguynI",
        "outputId": "0f48308e-7b5d-46be-cf20-5547391c5308"
      },
      "outputs": [
        {
          "output_type": "stream",
          "name": "stderr",
          "text": [
            "WARNING:tensorflow:Layer lstm_12 will not use cuDNN kernels since it doesn't meet the criteria. It will use a generic GPU kernel as fallback when running on GPU.\n",
            "WARNING:tensorflow:Layer lstm_12 will not use cuDNN kernels since it doesn't meet the criteria. It will use a generic GPU kernel as fallback when running on GPU.\n",
            "WARNING:tensorflow:Layer lstm_12 will not use cuDNN kernels since it doesn't meet the criteria. It will use a generic GPU kernel as fallback when running on GPU.\n",
            "WARNING:tensorflow:Layer lstm_13 will not use cuDNN kernels since it doesn't meet the criteria. It will use a generic GPU kernel as fallback when running on GPU.\n",
            "WARNING:tensorflow:Layer lstm_13 will not use cuDNN kernels since it doesn't meet the criteria. It will use a generic GPU kernel as fallback when running on GPU.\n",
            "WARNING:tensorflow:Layer lstm_13 will not use cuDNN kernels since it doesn't meet the criteria. It will use a generic GPU kernel as fallback when running on GPU.\n"
          ]
        },
        {
          "output_type": "stream",
          "name": "stdout",
          "text": [
            "Search space summary\n",
            "Default search space size: 7\n",
            "lstm1_units (Int)\n",
            "{'default': None, 'conditions': [], 'min_value': 16, 'max_value': 128, 'step': 16, 'sampling': None}\n",
            "lstm2_units (Int)\n",
            "{'default': None, 'conditions': [], 'min_value': 16, 'max_value': 128, 'step': 16, 'sampling': None}\n",
            "lstm1_activation (Choice)\n",
            "{'default': 'relu', 'conditions': [], 'values': ['relu', 'tanh'], 'ordered': False}\n",
            "lstm2_activation (Choice)\n",
            "{'default': 'relu', 'conditions': [], 'values': ['relu', 'tanh'], 'ordered': False}\n",
            "lstm1_dropout (Float)\n",
            "{'default': 0.0, 'conditions': [], 'min_value': 0.0, 'max_value': 0.4, 'step': 0.1, 'sampling': None}\n",
            "lstm2_dropout (Float)\n",
            "{'default': 0.0, 'conditions': [], 'min_value': 0.0, 'max_value': 0.4, 'step': 0.1, 'sampling': None}\n",
            "learning_rate (Float)\n",
            "{'default': 0.001, 'conditions': [], 'min_value': 0.001, 'max_value': 0.01, 'step': None, 'sampling': 'log'}\n"
          ]
        }
      ],
      "source": [
        "tuner = keras_tuner.Hyperband(hypermodel=build_2xLSTM,\n",
        "                            objective='accuracy',\n",
        "                            max_epochs=30,\n",
        "                            factor=3,\n",
        "                            directory='models',\n",
        "                            project_name='2xLSTM')\n",
        "tuner.search_space_summary()"
      ]
    },
    {
      "cell_type": "code",
      "execution_count": 120,
      "metadata": {
        "colab": {
          "base_uri": "https://localhost:8080/",
          "height": 87
        },
        "id": "t6XOPMWnuynI",
        "outputId": "03c5893e-cfe1-49b4-8fd5-830b2589a534"
      },
      "outputs": [
        {
          "output_type": "execute_result",
          "data": {
            "text/plain": [
              "'\\ntuner.search(x_train,y_train, epochs=30, validation_data=(x_val,y_val),\\n                            callbacks=[tf.keras.callbacks.EarlyStopping(monitor=\"val_loss\",\\n                                                                        min_delta=0.015,\\n                                                                        patience=3,\\n                                                                        verbose=0,\\n                                                                        mode=\"auto\",\\n                                                                        baseline=None,\\n                                                                        restore_best_weights=True)])\\nbest_model = tuner.get_best_models()[0]\\ntuner.results_summary()\\n'"
            ],
            "application/vnd.google.colaboratory.intrinsic+json": {
              "type": "string"
            }
          },
          "metadata": {},
          "execution_count": 120
        }
      ],
      "source": [
        "# Search the best hyper-parameter and select the best model\n",
        "\"\"\"\n",
        "tuner.search(x_train,y_train, epochs=30, validation_data=(x_val,y_val),\n",
        "                            callbacks=[tf.keras.callbacks.EarlyStopping(monitor=\"val_loss\",\n",
        "                                                                        min_delta=0.015,\n",
        "                                                                        patience=3,\n",
        "                                                                        verbose=0,\n",
        "                                                                        mode=\"auto\",\n",
        "                                                                        baseline=None,\n",
        "                                                                        restore_best_weights=True)])\n",
        "best_model = tuner.get_best_models()[0]\n",
        "tuner.results_summary()\n",
        "\"\"\""
      ]
    },
    {
      "cell_type": "markdown",
      "metadata": {
        "id": "XBs0J3J3uynI"
      },
      "source": [
        "Hyperparameters:\n",
        "* LSTM1_units: 128\n",
        "* LSTM2_units: 112\n",
        "* LSTM1_activation: tanh\n",
        "* LSTM2_activation: relu\n",
        "* LSTM1_dropout: 0.0\n",
        "* LSTM2_dropout: 0.2\n",
        "* learning_rate: 0.0014114864841283698\n",
        "* tuner/epochs: 10\n",
        "  \n",
        "Score: 0.9165892601013184"
      ]
    },
    {
      "cell_type": "code",
      "execution_count": 121,
      "metadata": {
        "colab": {
          "base_uri": "https://localhost:8080/"
        },
        "id": "16Lnn4ZsuynI",
        "outputId": "46363179-0563-4c56-9c53-c4eb1713b565"
      },
      "outputs": [
        {
          "output_type": "stream",
          "name": "stderr",
          "text": [
            "WARNING:tensorflow:Layer lstm_15 will not use cuDNN kernels since it doesn't meet the criteria. It will use a generic GPU kernel as fallback when running on GPU.\n",
            "WARNING:tensorflow:Layer lstm_15 will not use cuDNN kernels since it doesn't meet the criteria. It will use a generic GPU kernel as fallback when running on GPU.\n",
            "WARNING:tensorflow:Layer lstm_15 will not use cuDNN kernels since it doesn't meet the criteria. It will use a generic GPU kernel as fallback when running on GPU.\n"
          ]
        }
      ],
      "source": [
        "# Create model with best hyperparameter \n",
        "LSTMx2_model = create_2xlstm(lstm1_units=128,\n",
        "                                    lstm2_units=112,\n",
        "                                    lstm1_activation=\"tanh\",\n",
        "                                    lstm2_activation=\"relu\",\n",
        "                                    lstm1_dropout=0.2,\n",
        "                                    lstm2_dropout=0.0,\n",
        "                                    learning_rate=0.0014114864841283698) "
      ]
    },
    {
      "cell_type": "code",
      "execution_count": 122,
      "metadata": {
        "colab": {
          "base_uri": "https://localhost:8080/",
          "height": 660
        },
        "id": "BlM3dIuEuynI",
        "outputId": "e75f3cd6-35cb-4b4a-b652-9917d0cadca7"
      },
      "outputs": [
        {
          "output_type": "stream",
          "name": "stdout",
          "text": [
            "Start training! \n",
            "Parameters: {'verbose': 0, 'epochs': 7, 'batch_size': 64}\n",
            "Training completed!\n",
            "Showing history...\n",
            "Displaying the following history keys: dict_keys(['loss', 'accuracy', 'val_loss', 'val_accuracy'])\n"
          ]
        },
        {
          "output_type": "display_data",
          "data": {
            "text/plain": [
              "<Figure size 432x288 with 1 Axes>"
            ],
            "image/png": "[encoded data removed]"
          },
          "metadata": {
            "needs_background": "light"
          }
        },
        {
          "output_type": "display_data",
          "data": {
            "text/plain": [
              "<Figure size 432x288 with 1 Axes>"
            ],
            "image/png": "[encoded data removed]"
          },
          "metadata": {
            "needs_background": "light"
          }
        }
      ],
      "source": [
        "# Train\n",
        "LSTMx2_training_info = {\n",
        "    'verbose': 0,\n",
        "    'epochs' : 7,\n",
        "    'batch_size' : 64,\n",
        "    \n",
        "}\n",
        "\n",
        "LSTMx2_model = train_model(model=LSTMx2_model,training_info = LSTMx2_training_info)"
      ]
    },
    {
      "cell_type": "markdown",
      "metadata": {
        "id": "uH_o2Q0xuynI"
      },
      "source": [
        "#### F1-Macro evaluation"
      ]
    },
    {
      "cell_type": "code",
      "execution_count": 123,
      "metadata": {
        "colab": {
          "base_uri": "https://localhost:8080/"
        },
        "id": "bdVsN1k8uynI",
        "outputId": "5bbfae07-d4a7-4fd5-cb4a-c043c16f63c7"
      },
      "outputs": [
        {
          "output_type": "stream",
          "name": "stdout",
          "text": [
            "975/975 [==============================] - 4s 4ms/step - loss: 0.3518 - accuracy: 0.8886\n",
            "Model loss: 0.3518246114253998, accuracy: 0.8885610699653625\n",
            "Starting prediction: \n",
            "{'batch_size': 64, 'verbose': 1}\n",
            "Predicting on 31183 samples\n",
            "488/488 [==============================] - 2s 3ms/step\n",
            "F1_score on the validation set is: 0.7073631759712223\n"
          ]
        }
      ],
      "source": [
        "loss, accuracy = LSTMx2_model.evaluate(x_val, y_val)\n",
        "print(f\"Model loss: {loss}, accuracy: {accuracy}\")\n",
        "\n",
        "# Inference and evaluate\n",
        "\n",
        "LSTMx2_score = compute_f1(LSTMx2_model, x_val, y_val)\n",
        "print(f'F1_score on the validation set is: {LSTMx2_score}')"
      ]
    },
    {
      "cell_type": "markdown",
      "metadata": {
        "id": "5hgT909Mi8CG"
      },
      "source": [
        "## Model C: LSTM + 2x Dense"
      ]
    },
    {
      "cell_type": "code",
      "execution_count": 124,
      "metadata": {
        "id": "YtQAeb7zuynJ"
      },
      "outputs": [],
      "source": [
        "# Create model\n",
        "from tensorflow.keras.models import Sequential\n",
        "from tensorflow.keras.layers import Embedding, Dense, LSTM, Bidirectional, GRU\n",
        "from tensorflow.keras.optimizers import Adam\n",
        "\n",
        "def create_lstm_dense(lstm_units, dense_units, lstm_dropout, learning_rate, lstm_activation, dense_activation):\n",
        "    model = keras.Sequential()\n",
        "    model = keras.models.Sequential()\n",
        "    \n",
        "    \n",
        "    model.add(keras.layers.Embedding(input_dim=vocab_size, \n",
        "                                    output_dim = embedding_dimension,\n",
        "                                    input_length = 1,\n",
        "                                    weights = [embedding_matrix],\n",
        "                                    trainable = False))\n",
        "    \n",
        "    model.add(keras.layers.Bidirectional(LSTM(units=lstm_units,\n",
        "                                              dropout=lstm_dropout,\n",
        "                                              activation=lstm_activation\n",
        "                                              )))\n",
        "\n",
        "    model.add(keras.layers.Dense(units=dense_units, \n",
        "                                 activation=dense_activation))\n",
        "\n",
        "\n",
        "    model.add(keras.layers.Dense(units=num_classes, \n",
        "                                 activation=\"softmax\"))\n",
        "\n",
        "    model.compile(loss=\"sparse_categorical_crossentropy\", \n",
        "                    optimizer=Adam(learning_rate=learning_rate), \n",
        "                    metrics=[\"accuracy\"])\n",
        "    \n",
        "    return model\n",
        "    "
      ]
    },
    {
      "cell_type": "code",
      "execution_count": 125,
      "metadata": {
        "id": "TsY0DldcuynJ"
      },
      "outputs": [],
      "source": [
        "def build_LSTM_Dense(hp):\n",
        "    lstm_units = hp.Int(\"lstm_units\", min_value=16, max_value=128, step=16)\n",
        "    dense_units = hp.Int(\"dense_units\", min_value=16, max_value=128, step=16)\n",
        "\n",
        "    lstm_activation = hp.Choice(\"lstm_activation\", [\"relu\", \"tanh\"])\n",
        "    dense_activation = hp.Choice(\"dense_activation\", [\"relu\", \"tanh\"])\n",
        "\n",
        "    lstm_dropout = hp.Float(\"lstm_dropout\", min_value=0, max_value=0.4, step=0.1)\n",
        "\n",
        "    learning_rate = hp.Float(\"learning_rate\", min_value=1e-3, max_value=1e-2, sampling=\"log\")\n",
        "    # call existing model-building code with the hyperparameter values.\n",
        "    model = create_lstm_dense(lstm_units=lstm_units,\n",
        "                            dense_units=dense_units, \n",
        "                            lstm_activation=lstm_activation, \n",
        "                            dense_activation=dense_activation,\n",
        "                            lstm_dropout=lstm_dropout,\n",
        "                            learning_rate=learning_rate\n",
        "                        )\n",
        "    return model"
      ]
    },
    {
      "cell_type": "code",
      "execution_count": 126,
      "metadata": {
        "colab": {
          "base_uri": "https://localhost:8080/"
        },
        "id": "JdmcwIvDuynJ",
        "outputId": "675ea94c-55f6-4918-94f1-c42e9c58dabe"
      },
      "outputs": [
        {
          "output_type": "stream",
          "name": "stderr",
          "text": [
            "WARNING:tensorflow:Layer lstm_16 will not use cuDNN kernels since it doesn't meet the criteria. It will use a generic GPU kernel as fallback when running on GPU.\n",
            "WARNING:tensorflow:Layer lstm_16 will not use cuDNN kernels since it doesn't meet the criteria. It will use a generic GPU kernel as fallback when running on GPU.\n",
            "WARNING:tensorflow:Layer lstm_16 will not use cuDNN kernels since it doesn't meet the criteria. It will use a generic GPU kernel as fallback when running on GPU.\n"
          ]
        },
        {
          "output_type": "stream",
          "name": "stdout",
          "text": [
            "Search space summary\n",
            "Default search space size: 6\n",
            "lstm_units (Int)\n",
            "{'default': None, 'conditions': [], 'min_value': 16, 'max_value': 128, 'step': 16, 'sampling': None}\n",
            "dense_units (Int)\n",
            "{'default': None, 'conditions': [], 'min_value': 16, 'max_value': 128, 'step': 16, 'sampling': None}\n",
            "lstm_activation (Choice)\n",
            "{'default': 'relu', 'conditions': [], 'values': ['relu', 'tanh'], 'ordered': False}\n",
            "dense_activation (Choice)\n",
            "{'default': 'relu', 'conditions': [], 'values': ['relu', 'tanh'], 'ordered': False}\n",
            "lstm_dropout (Float)\n",
            "{'default': 0.0, 'conditions': [], 'min_value': 0.0, 'max_value': 0.4, 'step': 0.1, 'sampling': None}\n",
            "learning_rate (Float)\n",
            "{'default': 0.001, 'conditions': [], 'min_value': 0.001, 'max_value': 0.01, 'step': None, 'sampling': 'log'}\n"
          ]
        }
      ],
      "source": [
        "tuner = keras_tuner.Hyperband(hypermodel=build_LSTM_Dense,\n",
        "                            objective='accuracy',\n",
        "                            max_epochs=30,\n",
        "                            factor=3,\n",
        "                            directory='./models',\n",
        "                            project_name='LSTM_DENSE2')\n",
        "tuner.search_space_summary()"
      ]
    },
    {
      "cell_type": "code",
      "execution_count": 127,
      "metadata": {
        "colab": {
          "base_uri": "https://localhost:8080/",
          "height": 87
        },
        "id": "54to_PD0uynJ",
        "outputId": "3e6b3e67-d194-4057-97cf-7cb06f2f24be"
      },
      "outputs": [
        {
          "output_type": "execute_result",
          "data": {
            "text/plain": [
              "'\\ntuner.search(x_train,y_train, epochs=30, validation_data=(x_val,y_val),\\n                            callbacks=[tf.keras.callbacks.EarlyStopping(monitor=\"val_loss\",\\n                                                                        min_delta=0.015,\\n                                                                        patience=3,\\n                                                                        verbose=0,\\n                                                                        mode=\"auto\",\\n                                                                        baseline=None,\\n                                                                        restore_best_weights=True)])\\nbest_model = tuner.get_best_models()[0]\\ntuner.results_summary()\\n'"
            ],
            "application/vnd.google.colaboratory.intrinsic+json": {
              "type": "string"
            }
          },
          "metadata": {},
          "execution_count": 127
        }
      ],
      "source": [
        "# Search the best hyper-parameter and select the best model\n",
        "# The Early stopping callback with a min_delta is setted to improve the performance\n",
        "'''\n",
        "tuner.search(x_train,y_train, epochs=30, validation_data=(x_val,y_val),\n",
        "                            callbacks=[tf.keras.callbacks.EarlyStopping(monitor=\"val_loss\",\n",
        "                                                                        min_delta=0.015,\n",
        "                                                                        patience=3,\n",
        "                                                                        verbose=0,\n",
        "                                                                        mode=\"auto\",\n",
        "                                                                        baseline=None,\n",
        "                                                                        restore_best_weights=True)])\n",
        "best_model = tuner.get_best_models()[0]\n",
        "tuner.results_summary()\n",
        "'''\n"
      ]
    },
    {
      "cell_type": "markdown",
      "metadata": {
        "id": "koT2PbDZuynJ"
      },
      "source": [
        "Hyperparameters:\n",
        "* LSTM_units: 112\n",
        "* LSTM_activation: relu\n",
        "* Dense_units: 64\n",
        "* Dense_activation: tanh\n",
        "* dropout: 0.0\n",
        "* learning_rate: 0.001209925672797829\n",
        "* tuner/epochs: 30\n",
        "  \n",
        "Score: 0.9195877909660339"
      ]
    },
    {
      "cell_type": "code",
      "execution_count": 128,
      "metadata": {
        "colab": {
          "base_uri": "https://localhost:8080/"
        },
        "id": "9yyc252luynJ",
        "outputId": "db86a2a5-2ed2-46dc-a89f-0602c94a0a65"
      },
      "outputs": [
        {
          "output_type": "stream",
          "name": "stderr",
          "text": [
            "WARNING:tensorflow:Layer lstm_17 will not use cuDNN kernels since it doesn't meet the criteria. It will use a generic GPU kernel as fallback when running on GPU.\n",
            "WARNING:tensorflow:Layer lstm_17 will not use cuDNN kernels since it doesn't meet the criteria. It will use a generic GPU kernel as fallback when running on GPU.\n",
            "WARNING:tensorflow:Layer lstm_17 will not use cuDNN kernels since it doesn't meet the criteria. It will use a generic GPU kernel as fallback when running on GPU.\n"
          ]
        }
      ],
      "source": [
        "# Create model with best hyperparameter \n",
        "lstm_dense_model = create_lstm_dense(lstm_units=112,\n",
        "                                    dense_units=64,\n",
        "                                    lstm_activation=\"relu\",\n",
        "                                    dense_activation=\"tanh\",\n",
        "                                    lstm_dropout=0.0,\n",
        "                                    learning_rate=0.001209925672797829) "
      ]
    },
    {
      "cell_type": "code",
      "execution_count": 129,
      "metadata": {
        "colab": {
          "base_uri": "https://localhost:8080/",
          "height": 660
        },
        "id": "LDrBkr2huynJ",
        "outputId": "ede887b0-8cbd-46f8-c875-c53874bf5e03"
      },
      "outputs": [
        {
          "output_type": "stream",
          "name": "stdout",
          "text": [
            "Start training! \n",
            "Parameters: {'verbose': 0, 'epochs': 6, 'batch_size': 64}\n",
            "Training completed!\n",
            "Showing history...\n",
            "Displaying the following history keys: dict_keys(['loss', 'accuracy', 'val_loss', 'val_accuracy'])\n"
          ]
        },
        {
          "output_type": "display_data",
          "data": {
            "text/plain": [
              "<Figure size 432x288 with 1 Axes>"
            ],
            "image/png": "[encoded data removed]"
          },
          "metadata": {
            "needs_background": "light"
          }
        },
        {
          "output_type": "display_data",
          "data": {
            "text/plain": [
              "<Figure size 432x288 with 1 Axes>"
            ],
            "image/png": "[encoded data removed]"
          },
          "metadata": {
            "needs_background": "light"
          }
        }
      ],
      "source": [
        "# Train\n",
        "lstm_dense_training_info = {\n",
        "    'verbose': 0,\n",
        "    'epochs' : 6,\n",
        "    'batch_size' : 64,\n",
        "    \n",
        "}\n",
        "\n",
        "lstm_dense_model = train_model(model=lstm_dense_model,training_info = lstm_dense_training_info)"
      ]
    },
    {
      "cell_type": "markdown",
      "metadata": {
        "id": "maz2wqJJuynJ"
      },
      "source": [
        "#### F1-Macro evaluation"
      ]
    },
    {
      "cell_type": "code",
      "execution_count": 130,
      "metadata": {
        "colab": {
          "base_uri": "https://localhost:8080/"
        },
        "id": "UmFrkI26uynJ",
        "outputId": "273ad888-4c7e-45f5-b49a-1987e4a4b058"
      },
      "outputs": [
        {
          "output_type": "stream",
          "name": "stdout",
          "text": [
            "975/975 [==============================] - 3s 3ms/step - loss: 0.3596 - accuracy: 0.8868\n",
            "Model loss: 0.35959699749946594, accuracy: 0.886797308921814\n",
            "Starting prediction: \n",
            "{'batch_size': 64, 'verbose': 1}\n",
            "Predicting on 31183 samples\n",
            "488/488 [==============================] - 1s 2ms/step\n",
            "F1_score on the validation set is: 0.716968781623891\n"
          ]
        }
      ],
      "source": [
        "loss, accuracy = lstm_dense_model.evaluate(x_val, y_val)\n",
        "print(f\"Model loss: {loss}, accuracy: {accuracy}\")\n",
        "\n",
        "# Inference and evaluate\n",
        "# The report is going to be used in the conclusions to discuss errors\n",
        "lstm_dense_score, report = compute_f1(lstm_dense_model, x_val, y_val, get_report=True)\n",
        "print(f'F1_score on the validation set is: {lstm_dense_score}')"
      ]
    },
    {
      "cell_type": "markdown",
      "metadata": {
        "id": "3TJTU8kXuynJ"
      },
      "source": [
        "## Summary"
      ]
    },
    {
      "cell_type": "code",
      "execution_count": 131,
      "metadata": {
        "colab": {
          "base_uri": "https://localhost:8080/"
        },
        "id": "bEmC0vLPuynJ",
        "outputId": "5e6b0250-c688-47ec-8601-0ab457f29ebc"
      },
      "outputs": [
        {
          "output_type": "stream",
          "name": "stdout",
          "text": [
            " \n",
            "F1 Macro scores on the validation set:\n",
            "    Bi-LSTM + Dense = 0.7158898975529938\n",
            "    Bi-GRU + Dense = 0.7014973750824088\n",
            "    2x Bi-LSTM + Dense = 0.7073631759712223\n",
            "    Bi-LSTM + 2x Dense = 0.716968781623891\n",
            "\n"
          ]
        }
      ],
      "source": [
        "print(f''' \n",
        "F1 Macro scores on the validation set:\n",
        "    Bi-LSTM + Dense = {base_score}\n",
        "    Bi-GRU + Dense = {gru_score}\n",
        "    2x Bi-LSTM + Dense = {LSTMx2_score}\n",
        "    Bi-LSTM + 2x Dense = {lstm_dense_score}\n",
        "''')"
      ]
    },
    {
      "cell_type": "markdown",
      "metadata": {
        "id": "e_XUVXknuynJ"
      },
      "source": [
        "Bi-LSTM + Dense layer and Bi-LSTM + 2xDense layers result to be the bests on the validation set."
      ]
    },
    {
      "cell_type": "markdown",
      "metadata": {
        "id": "d1CoVdKAuynK"
      },
      "source": [
        "F1-Score on the test set "
      ]
    },
    {
      "cell_type": "code",
      "execution_count": 142,
      "metadata": {
        "colab": {
          "base_uri": "https://localhost:8080/"
        },
        "id": "wWgO0y6MuynK",
        "outputId": "cda4e028-2355-41a5-f6b4-ca4cc2374c84"
      },
      "outputs": [
        {
          "output_type": "stream",
          "name": "stdout",
          "text": [
            "Starting prediction: \n",
            "{'batch_size': 64, 'verbose': 1}\n",
            "Predicting on 15545 samples\n",
            "243/243 [==============================] - 1s 2ms/step\n",
            "Starting prediction: \n",
            "{'batch_size': 64, 'verbose': 1}\n",
            "Predicting on 15545 samples\n",
            "243/243 [==============================] - 1s 2ms/step\n"
          ]
        }
      ],
      "source": [
        "test_base_score = compute_f1(base_model, x_test, y_test)\n",
        "test_lstm_dense_score, report_test  = compute_f1(lstm_dense_model, x_test, y_test, get_report=True)"
      ]
    },
    {
      "cell_type": "code",
      "execution_count": 143,
      "metadata": {
        "colab": {
          "base_uri": "https://localhost:8080/"
        },
        "id": "1tlDQ2ZjuynK",
        "outputId": "ea75962a-2b13-4ab6-8971-cdf75683a239"
      },
      "outputs": [
        {
          "output_type": "stream",
          "name": "stdout",
          "text": [
            " \n",
            "F1 Macro scores on the test set:\n",
            "    Bi-LSTM + Dense = 0.7937372408245957\n",
            "    Bi-LSTM + 2x Dense = 0.7929983470970317\n",
            "\n"
          ]
        }
      ],
      "source": [
        "print(f''' \n",
        "F1 Macro scores on the test set:\n",
        "    Bi-LSTM + Dense = {test_base_score}\n",
        "    Bi-LSTM + 2x Dense = {test_lstm_dense_score}\n",
        "''')"
      ]
    },
    {
      "cell_type": "markdown",
      "metadata": {
        "id": "nH8Fm0Yp3af3"
      },
      "source": [
        "### Error analysis "
      ]
    },
    {
      "cell_type": "markdown",
      "metadata": {
        "id": "euko5UaValMm"
      },
      "source": [
        "Both the models have a better performance on the test set with respect to the validation set. Let's see the scores for each class, focusing on the class distribution in the different sets"
      ]
    },
    {
      "cell_type": "code",
      "execution_count": 144,
      "metadata": {
        "colab": {
          "base_uri": "https://localhost:8080/"
        },
        "id": "jC-SXyazZ4Wc",
        "outputId": "10494c87-9f33-43cc-dadf-b18b243c44d8"
      },
      "outputs": [
        {
          "output_type": "stream",
          "name": "stdout",
          "text": [
            "Labels in the validation set that are not in the test set: \n",
            "['FW', 'UH', '#', 'LS']\n",
            "Labels in the test set that are not in the validation set: \n",
            "[]\n"
          ]
        }
      ],
      "source": [
        "val_not_test_labels = [label for label in dfc_val['label'].drop_duplicates().values if label not in dfc_test['label'].drop_duplicates().values ]\n",
        "test_not_val_labels = [label for label in dfc_test['label'].drop_duplicates().values if label not in dfc_val['label'].drop_duplicates().values ]\n",
        "\n",
        "print(f\"Labels in the validation set that are not in the test set: \\n{val_not_test_labels}\")\n",
        "print(f\"Labels in the test set that are not in the validation set: \\n{test_not_val_labels}\")"
      ]
    },
    {
      "cell_type": "markdown",
      "metadata": {
        "id": "dVPRtzxocpks"
      },
      "source": [
        "The validation set is a well representation of the test set, including all of its classes.\n",
        "\n",
        "There are few labels that are not present in the test set."
      ]
    },
    {
      "cell_type": "code",
      "execution_count": 145,
      "metadata": {
        "id": "jIC6wDD63af3",
        "outputId": "340275eb-c072-4a61-f7d1-32e1c6753d74",
        "colab": {
          "base_uri": "https://localhost:8080/",
          "height": 320
        }
      },
      "outputs": [
        {
          "output_type": "display_data",
          "data": {
            "text/plain": [
              "<Figure size 1080x360 with 1 Axes>"
            ],
            "image/png": "[encoded data removed]"
          },
          "metadata": {
            "needs_background": "light"
          }
        }
      ],
      "source": [
        "# Class distribution in the sets, normalized.\n",
        "\n",
        "plt.figure(figsize=(15,5))\n",
        "plt.hist(dfc_train[~dfc_train[\"label\"].isin(punctuation_classes)].label, \n",
        "#plt.hist(dfc_train.label, \n",
        "                density=True,\n",
        "                label=\"Train\",\n",
        "                histtype=\"step\",\n",
        "                )\n",
        "plt.hist(dfc_val[~dfc_val[\"label\"].isin(punctuation_classes)].label, \n",
        "#plt.hist(dfc_val.label, \n",
        "                density=True,\n",
        "                label=\"Val\",\n",
        "                histtype=\"step\",\n",
        "                )\n",
        "\n",
        "plt.hist(dfc_test[~dfc_test[\"label\"].isin(punctuation_classes)].label, \n",
        "#plt.hist(dfc_test.label, \n",
        "                density=True,\n",
        "                label=\"Test\",\n",
        "                histtype=\"step\",\n",
        "                )\n",
        "\n",
        "plt.legend()\n",
        "plt.show()"
      ]
    },
    {
      "cell_type": "code",
      "execution_count": 146,
      "metadata": {
        "colab": {
          "base_uri": "https://localhost:8080/"
        },
        "id": "I5zVrYyyF0yq",
        "outputId": "417e70e3-c371-4d08-c914-2b814af67b5a"
      },
      "outputs": [
        {
          "output_type": "stream",
          "name": "stdout",
          "text": [
            "   f1-score  support  encoded_label label\n",
            "0  0.988703   2754.0             10    DT\n",
            "1  0.944444     34.0             11    EX\n",
            "2  0.000000      2.0             12    FW\n",
            "3  0.965840   3275.0             13    IN\n",
            "4  0.754403   1924.0             14    JJ\n"
          ]
        }
      ],
      "source": [
        "# Get a dataframe from the report of the last model on the validation set\n",
        "df_report = pd.DataFrame.from_records(report).transpose()\n",
        "\n",
        "# Add encoded_labels to the report doing a merge, drop not label rows\n",
        "df_report['encoded_label'] = df_report.index\n",
        "df_report = df_report[df_report[['encoded_label']].apply(lambda x: x[0].isdigit(), axis=1)]\n",
        "df_report['encoded_label'] = pd.to_numeric(df_report['encoded_label'])\n",
        "df_report.reset_index(drop=True, inplace=True)\n",
        "\n",
        "df_rep_encod = pd.merge(left=df_report, right=df_labels, how=\"inner\", on = \"encoded_label\")\n",
        "df_rep_encod.drop([\"precision\", \"recall\"], axis=1, inplace=True) \n",
        "print(df_rep_encod.head())\n",
        "\n"
      ]
    },
    {
      "cell_type": "code",
      "execution_count": 147,
      "metadata": {
        "colab": {
          "base_uri": "https://localhost:8080/",
          "height": 576
        },
        "id": "DyeMQy5jYPiJ",
        "outputId": "91ea07cf-ab50-493a-ebee-df4eb8496336"
      },
      "outputs": [
        {
          "output_type": "display_data",
          "data": {
            "text/plain": [
              "<Figure size 1080x144 with 0 Axes>"
            ]
          },
          "metadata": {}
        },
        {
          "output_type": "display_data",
          "data": {
            "text/plain": [
              "<Figure size 432x288 with 1 Axes>"
            ],
            "image/png": "[encoded data removed]"
          },
          "metadata": {
            "needs_background": "light"
          }
        },
        {
          "output_type": "display_data",
          "data": {
            "text/plain": [
              "<Figure size 432x288 with 1 Axes>"
            ],
            "image/png": "[encoded data removed]"
          },
          "metadata": {
            "needs_background": "light"
          }
        }
      ],
      "source": [
        "# Plot \n",
        "plt.figure(figsize=(15,2))\n",
        "df_rep_encod.plot(x=\"support\", y=\"f1-score\", style=\"o\")\n",
        "df_rep_encod.sort_values(\"f1-score\", inplace= True)\n",
        "df_rep_encod.plot(x=\"label\", y=\"f1-score\", kind=\"bar\", sort_columns=True)\n",
        "plt.show()"
      ]
    },
    {
      "cell_type": "markdown",
      "metadata": {
        "id": "IGKUa36YdC1P"
      },
      "source": [
        "The f1 score is not support related, there are example with few instances with high f1 score, and viceversa.\n",
        "\n",
        "Without considering the '#' label, not considered in the evaluation, it's possible to see that the classes 'UH', 'FW' and 'LS', which are present in the validation set but not in the test set, are the ones with a null F1-score, decreasing the average."
      ]
    },
    {
      "cell_type": "code",
      "execution_count": 148,
      "metadata": {
        "colab": {
          "base_uri": "https://localhost:8080/",
          "height": 505
        },
        "id": "d148Pvf_dYT6",
        "outputId": "39861093-4b3c-4551-f8dc-a0ac68daaddc"
      },
      "outputs": [
        {
          "output_type": "stream",
          "name": "stdout",
          "text": [
            "    f1-score   support  encoded_label label\n",
            "22  0.000000  0.000000             33    UH\n",
            "13  0.000000  0.002660             23   PDT\n",
            "2   0.000000  0.000000             12    FW\n",
            "7   0.000000  0.000222             17    LS\n",
            "11  0.033898  0.022833             21  NNPS\n",
            "The classes not present in the test set but in the validation\n",
            "word             7\n",
            "label            7\n",
            "encoded_label    7\n",
            "dtype: int64\n"
          ]
        },
        {
          "output_type": "display_data",
          "data": {
            "text/plain": [
              "<Figure size 1080x360 with 0 Axes>"
            ]
          },
          "metadata": {}
        },
        {
          "output_type": "display_data",
          "data": {
            "text/plain": [
              "<Figure size 432x288 with 1 Axes>"
            ],
            "image/png": "[encoded data removed]"
          },
          "metadata": {
            "needs_background": "light"
          }
        }
      ],
      "source": [
        "dfc_val_labels = dfc_val[~dfc_val[\"label\"].isin(punctuation_classes)]\n",
        "plt.figure(figsize=(15,5))\n",
        "\n",
        "#normalize the support values\n",
        "df_rep_encod['support'] = (df_rep_encod['support'] - df_rep_encod['support'].min())/(df_rep_encod['support'].max()-df_rep_encod['support'].min()) \n",
        "print(df_rep_encod.head())\n",
        "\n",
        "# Plot the F1 score and the normalized label's count (support) with a threshold\n",
        "df_rep_encod[df_rep_encod[\"f1-score\"] <= 0.7].plot(x=\"label\", y=[\"f1-score\", \"support\"], kind=\"bar\")\n",
        "\n",
        "# Count the classes only present in the validation\n",
        "count_label_val_notest = dfc_val_test = dfc_val_labels[dfc_val_labels[\"label\"].isin(val_not_test_labels)].count()\n",
        "print(f\"The classes not present in the test set but in the validation\\n{count_label_val_notest}\")"
      ]
    },
    {
      "cell_type": "markdown",
      "metadata": {
        "id": "-E8Qy88Q3af4"
      },
      "source": [
        "It is possible to observe that UH (Interjection), LS (List item marker) and FW (Foreign word) labels, cointaned in the validation set but not in the test set have a null f1-score even with a few example (7), decreasing the average of the validation set by a lot."
      ]
    },
    {
      "cell_type": "markdown",
      "metadata": {
        "id": "D_VYs8jR3af5"
      },
      "source": [
        "Let's check the test report to see if there are important variation on the F1-score of each class"
      ]
    },
    {
      "cell_type": "code",
      "execution_count": 149,
      "metadata": {
        "id": "rFtoouNg3af5",
        "outputId": "43f4dfa3-0001-4928-f9a6-c79ed6e9bfb3",
        "colab": {
          "base_uri": "https://localhost:8080/"
        }
      },
      "outputs": [
        {
          "output_type": "stream",
          "name": "stdout",
          "text": [
            "   f1-score  support  encoded_label label\n",
            "0  0.988333   1335.0             10    DT\n",
            "1  0.909091      5.0             11    EX\n",
            "2  0.967683   1630.0             13    IN\n",
            "3  0.712702    918.0             14    JJ\n",
            "4  0.745098     59.0             15   JJR\n"
          ]
        }
      ],
      "source": [
        "# Get a dataframe from the report on test set, obtained from the baseline model\n",
        "df_report_test = pd.DataFrame.from_records(report_test).transpose()\n",
        "\n",
        "df_report_test['encoded_label'] = df_report_test.index\n",
        "df_report_test = df_report_test[df_report_test[['encoded_label']].apply(lambda x: x[0].isdigit(), axis=1)]\n",
        "df_report_test['encoded_label'] = pd.to_numeric(df_report_test['encoded_label'])\n",
        "df_report_test.reset_index(drop=True, inplace=True)\n",
        "\n",
        "df_rep_encod_test = pd.merge(left=df_report_test, right=df_labels, how=\"inner\", on = \"encoded_label\")\n",
        "df_rep_encod_test.drop([\"precision\", \"recall\"], axis=1, inplace=True) \n",
        "\n",
        "print(df_rep_encod_test.head())\n"
      ]
    },
    {
      "cell_type": "code",
      "execution_count": 150,
      "metadata": {
        "id": "Zm4tbpHV3af5"
      },
      "outputs": [],
      "source": [
        "#normalize the support values\n",
        "df_rep_encod_test['support'] = (df_rep_encod_test['support'] - df_rep_encod_test['support'].min())/(df_rep_encod_test['support'].max()-df_rep_encod_test['support'].min()) "
      ]
    },
    {
      "cell_type": "code",
      "execution_count": 151,
      "metadata": {
        "id": "AdSFW1L23af5",
        "outputId": "4d1a4047-635b-488c-9689-b4c5fda913e6",
        "colab": {
          "base_uri": "https://localhost:8080/",
          "height": 699
        }
      },
      "outputs": [
        {
          "output_type": "stream",
          "name": "stdout",
          "text": [
            "   f1-score val  support val  encoded_label label  f1-score test  support test\n",
            "0      0.988333     0.559664             10    DT       0.988703      0.610064\n",
            "1      0.909091     0.000840             11    EX       0.944444      0.007094\n",
            "2      0.967683     0.683613             13    IN       0.965840      0.725560\n",
            "3      0.712702     0.384454             14    JJ       0.754403      0.426070\n",
            "4      0.745098     0.023529             15   JJR       0.685039      0.036134\n"
          ]
        },
        {
          "output_type": "execute_result",
          "data": {
            "text/plain": [
              "<matplotlib.axes._subplots.AxesSubplot at 0x7fe7780ccaf0>"
            ]
          },
          "metadata": {},
          "execution_count": 151
        },
        {
          "output_type": "display_data",
          "data": {
            "text/plain": [
              "<Figure size 432x288 with 1 Axes>"
            ],
            "image/png": "[encoded data removed]"
          },
          "metadata": {
            "needs_background": "light"
          }
        },
        {
          "output_type": "display_data",
          "data": {
            "text/plain": [
              "<Figure size 432x288 with 1 Axes>"
            ],
            "image/png": "[encoded data removed]"
          },
          "metadata": {
            "needs_background": "light"
          }
        }
      ],
      "source": [
        "df_full_report = pd.merge(right=df_rep_encod,  \n",
        "                            left=df_rep_encod_test,\n",
        "                            suffixes=[\" val\",\" test\"],\n",
        "                            how=\"inner\", \n",
        "                            on=[\"encoded_label\",\"label\"])\n",
        "print(df_full_report.head())\n",
        "df_full_report.plot(x=\"label\", y=[\"f1-score val\", \"f1-score test\"], kind=\"bar\")\n",
        "df_full_report.plot(x=\"label\", y=[\"support val\", \"support test\"], kind=\"bar\")"
      ]
    },
    {
      "cell_type": "markdown",
      "metadata": {
        "id": "PBEu0uK-3af6"
      },
      "source": [
        "F1 score compared between validation and test it's quite similar for every label, except for a few variations."
      ]
    }
  ],
  "metadata": {
    "accelerator": "GPU",
    "colab": {
      "provenance": []
    },
    "gpuClass": "standard",
    "kernelspec": {
      "display_name": "ai",
      "language": "python",
      "name": "python3"
    },
    "language_info": {
      "codemirror_mode": {
        "name": "ipython",
        "version": 3
      },
      "file_extension": ".py",
      "mimetype": "text/x-python",
      "name": "python",
      "nbconvert_exporter": "python",
      "pygments_lexer": "ipython3",
      "version": "3.10.8"
    },
    "orig_nbformat": 4,
    "vscode": {
      "interpreter": {
        "hash": "4c836f7cc80bc1a8d8e102421d11f290f4773c065ede34effdfd405867e24fd6"
      }
    }
  },
  "nbformat": 4,
  "nbformat_minor": 0
}